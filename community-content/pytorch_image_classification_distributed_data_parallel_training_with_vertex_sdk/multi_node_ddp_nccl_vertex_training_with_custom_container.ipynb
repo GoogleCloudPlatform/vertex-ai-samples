{
  "cells": [
    {
      "cell_type": "code",
      "execution_count": null,
      "metadata": {
        "id": "a6b56b1c7b76"
      },
      "outputs": [],
      "source": [
        "# Copyright 2021 Google LLC\n",
        "#\n",
        "# Licensed under the Apache License, Version 2.0 (the \"License\");\n",
        "# you may not use this file except in compliance with the License.\n",
        "# You may obtain a copy of the License at\n",
        "#\n",
        "#     https://www.apache.org/licenses/LICENSE-2.0\n",
        "#\n",
        "# Unless required by applicable law or agreed to in writing, software\n",
        "# distributed under the License is distributed on an \"AS IS\" BASIS,\n",
        "# WITHOUT WARRANTIES OR CONDITIONS OF ANY KIND, either express or implied.\n",
        "# See the License for the specific language governing permissions and\n",
        "# limitations under the License."
      ]
    },
    {
      "cell_type": "markdown",
      "metadata": {
        "id": "20a5ea0081d0"
      },
      "source": [
        "# PyTorch Image Classification Multi-Node Distributed Data Parallel Training on GPU using Vertex Training with Custom Container"
      ]
    },
    {
      "cell_type": "markdown",
      "metadata": {
        "id": "8752d4a255fb"
      },
      "source": [
        "<table align=\"left\">\n",
        "  <td>\n",
        "    <a href=\"https://github.com/GoogleCloudPlatform/vertex-ai-samples/blob/master/community-content/pytorch_image_classification_distributed_data_parallel_training_with_vertex_sdk/multi_node_ddp_nccl_vertex_training_with_custom_container.ipynb\">\n",
        "      <img src=\"https://cloud.google.com/ml-engine/images/github-logo-32px.png\" alt=\"GitHub logo\">\n",
        "      View on GitHub\n",
        "    </a>\n",
        "  </td>\n",
        "</table>"
      ]
    },
    {
      "cell_type": "markdown",
      "metadata": {
        "id": "03d216c7f7b1"
      },
      "source": [
        "## Setup"
      ]
    },
    {
      "cell_type": "code",
      "execution_count": null,
      "metadata": {
        "id": "c5ac73516218"
      },
      "outputs": [],
      "source": [
        "PROJECT_ID = \"YOUR PROJECT ID\"\n",
        "BUCKET_NAME = \"gs://YOUR BUCKET NAME\"\n",
        "REGION = \"YOUR REGION\"\n",
        "SERVICE_ACCOUNT = \"YOUR SERVICE ACCOUNT\""
      ]
    },
    {
      "cell_type": "code",
      "execution_count": null,
      "metadata": {
        "id": "0b5ae674177e"
      },
      "outputs": [],
      "source": [
        "! gsutil ls -al $BUCKET_NAME"
      ]
    },
    {
      "cell_type": "code",
      "execution_count": null,
      "metadata": {
        "id": "19a9b3bdd553"
      },
      "outputs": [],
      "source": [
        "content_name = \"pt-img-cls-multi-node-ddp-cust-cont\""
      ]
    },
    {
      "cell_type": "markdown",
      "metadata": {
        "id": "5307fe28b633"
      },
      "source": [
        "## Vertex Training using Vertex SDK and Custom Container"
      ]
    },
    {
      "cell_type": "markdown",
      "metadata": {
        "id": "46cb58c7fbf9"
      },
      "source": [
        "### Built Custom Container"
      ]
    },
    {
      "cell_type": "code",
      "execution_count": null,
      "metadata": {
        "id": "97e66e9f9bab"
      },
      "outputs": [],
      "source": [
        "hostname = \"gcr.io\"\n",
        "image_name = content_name\n",
        "tag = \"latest\"\n",
        "\n",
        "custom_container_image_uri = f\"{hostname}/{PROJECT_ID}/{image_name}:{tag}\""
      ]
    },
    {
      "cell_type": "markdown",
      "metadata": {
        "id": "ae9b29c4773f"
      },
      "source": [
        "### Initialize Vertex SDK"
      ]
    },
    {
      "cell_type": "code",
      "execution_count": null,
      "metadata": {
        "id": "dc1e84d5dec2"
      },
      "outputs": [],
      "source": [
        "! pip install -r requirements.txt"
      ]
    },
    {
      "cell_type": "code",
      "execution_count": null,
      "metadata": {
        "id": "6964be27b98e"
      },
      "outputs": [],
      "source": [
        "from google.cloud import aiplatform\n",
        "\n",
        "aiplatform.init(\n",
        "    project=PROJECT_ID,\n",
        "    staging_bucket=BUCKET_NAME,\n",
        "    location=REGION,\n",
        ")"
      ]
    },
    {
      "cell_type": "markdown",
      "metadata": {
        "id": "594a91f438f2"
      },
      "source": [
        "### Create a Vertex Tensorboard Instance"
      ]
    },
    {
      "cell_type": "code",
      "execution_count": null,
      "metadata": {
        "id": "93134273261e"
      },
      "outputs": [],
      "source": [
        "content_name = content_name + \"-gpu\""
      ]
    },
    {
      "cell_type": "code",
      "execution_count": null,
      "metadata": {
        "id": "c2bd82dbcd9b"
      },
      "outputs": [],
      "source": [
        "tensorboard = aiplatform.Tensorboard.create(\n",
        "    display_name=content_name,\n",
        ")"
      ]
    },
    {
      "cell_type": "markdown",
      "metadata": {
        "id": "ebc593c6472e"
      },
      "source": [
        "#### Option: Use a Previously Created Vertex Tensorboard Instance\n",
        "\n",
        "```\n",
        "tensorboard_name = \"Your Tensorboard Resource Name or Tensorboard ID\"\n",
        "tensorboard = aiplatform.Tensorboard(tensorboard_name=tensorboard_name)\n",
        "```"
      ]
    },
    {
      "cell_type": "markdown",
      "metadata": {
        "id": "0769e8e34c2f"
      },
      "source": [
        "### Run a Vertex SDK CustomContainerTrainingJob"
      ]
    },
    {
      "cell_type": "code",
      "execution_count": null,
      "metadata": {
        "id": "023f33ece826"
      },
      "outputs": [],
      "source": [
        "display_name = content_name\n",
        "gcs_output_uri_prefix = f\"{BUCKET_NAME}/{display_name}\"\n",
        "\n",
        "replica_count = 1\n",
        "machine_type = \"n1-standard-4\"\n",
        "accelerator_count = 4\n",
        "accelerator_type = \"NVIDIA_TESLA_K80\"\n",
        "\n",
        "args = [\n",
        "    \"--backend\",\n",
        "    \"nccl\",\n",
        "    \"--batch-size\",\n",
        "    \"128\",\n",
        "    \"--epochs\",\n",
        "    \"25\",\n",
        "]"
      ]
    },
    {
      "cell_type": "code",
      "execution_count": null,
      "metadata": {
        "id": "d4b599e726ef"
      },
      "outputs": [],
      "source": [
        "custom_container_training_job = aiplatform.CustomContainerTrainingJob(\n",
        "    display_name=display_name,\n",
        "    container_uri=custom_container_image_uri,\n",
        ")"
      ]
    },
    {
      "cell_type": "code",
      "execution_count": null,
      "metadata": {
        "id": "81321e3bdf7f"
      },
      "outputs": [],
      "source": [
        "custom_container_training_job.run(\n",
        "    args=args,\n",
        "    base_output_dir=gcs_output_uri_prefix,\n",
        "    replica_count=replica_count,\n",
        "    machine_type=machine_type,\n",
        "    accelerator_count=accelerator_count,\n",
        "    accelerator_type=accelerator_type,\n",
        "    tensorboard=tensorboard.resource_name,\n",
        "    service_account=SERVICE_ACCOUNT,\n",
        ")"
      ]
    },
    {
      "cell_type": "code",
      "execution_count": null,
      "metadata": {
        "id": "5100712c2c4c"
      },
      "outputs": [],
      "source": [
        "print(f\"Custom Training Job Name: {custom_container_training_job.resource_name}\")\n",
        "print(f\"GCS Output URI Prefix: {gcs_output_uri_prefix}\")"
      ]
    },
    {
      "cell_type": "markdown",
      "metadata": {
        "id": "f9b77676e5a6"
      },
      "source": [
        "### Training Output Artifact"
      ]
    },
    {
      "cell_type": "code",
      "execution_count": null,
      "metadata": {
        "id": "0e171ce95ace"
      },
      "outputs": [],
      "source": [
        "! gsutil ls $gcs_output_uri_prefix"
      ]
    },
    {
      "cell_type": "markdown",
      "metadata": {
        "id": "cf1b74a12b87"
      },
      "source": [
        "## Clean Up Artifact"
      ]
    },
    {
      "cell_type": "code",
      "execution_count": null,
      "metadata": {
        "id": "a0b15089c341"
      },
      "outputs": [],
      "source": [
        "! gsutil rm -rf $gcs_output_uri_prefix"
      ]
    }
  ],
  "metadata": {
    "colab": {
      "name": "multi_node_ddp_nccl_vertex_training_with_custom_container.ipynb",
      "toc_visible": true
    },
    "kernelspec": {
      "display_name": "Python 3",
      "name": "python3"
    }
  },
  "nbformat": 4,
  "nbformat_minor": 0
}
