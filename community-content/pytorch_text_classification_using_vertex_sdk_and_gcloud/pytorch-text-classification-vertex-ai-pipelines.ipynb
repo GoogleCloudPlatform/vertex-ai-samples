{
 "cells": [
  {
   "cell_type": "code",
   "execution_count": null,
   "metadata": {
    "id": "ur8xi4C7S06n"
   },
   "outputs": [],
   "source": [
    "# Copyright 2021 Google LLC\n",
    "#\n",
    "# Licensed under the Apache License, Version 2.0 (the \"License\");\n",
    "# you may not use this file except in compliance with the License.\n",
    "# You may obtain a copy of the License at\n",
    "#\n",
    "#     https://www.apache.org/licenses/LICENSE-2.0\n",
    "#\n",
    "# Unless required by applicable law or agreed to in writing, software\n",
    "# distributed under the License is distributed on an \"AS IS\" BASIS,\n",
    "# WITHOUT WARRANTIES OR CONDITIONS OF ANY KIND, either express or implied.\n",
    "# See the License for the specific language governing permissions and\n",
    "# limitations under the License."
   ]
  },
  {
   "cell_type": "markdown",
   "metadata": {
    "id": "JAPoU8Sm5E6e"
   },
   "source": [
    "<!-- <table align=\"left\">\n",
    "\n",
    "  <td>\n",
    "    <a href=\"https://colab.research.google.com/github/GoogleCloudPlatform/ai-platform-samples/blob/master/ai-platform-unified/notebooks/notebook_template.ipynb\"\">\n",
    "      <img src=\"https://cloud.google.com/ml-engine/images/colab-logo-32px.png\" alt=\"Colab logo\"> Run in Colab\n",
    "    </a>\n",
    "  </td>\n",
    "  <td>\n",
    "    <a href=\"https://github.com/GoogleCloudPlatform/ai-platform-samples/blob/master/ai-platform-unified/notebooks/notebook_template.ipynb\">\n",
    "      <img src=\"https://cloud.google.com/ml-engine/images/github-logo-32px.png\" alt=\"GitHub logo\">\n",
    "      View on GitHub\n",
    "    </a>\n",
    "  </td>\n",
    "</table> -->"
   ]
  },
  {
   "cell_type": "markdown",
   "metadata": {
    "id": "3yTsQctS8QLd"
   },
   "source": [
    "# Orchestrating a workflow to train and deploy a PyTorch text classification model using [Vertex Pipelines](https://cloud.google.com/vertex-ai/docs/pipelines/introduction)"
   ]
  },
  {
   "cell_type": "markdown",
   "metadata": {
    "id": "tvgnzT1CKxrO"
   },
   "source": [
    "## Overview\n",
    "\n",
    "Pytorch resnet CIFAR10 e2e example using [Vertex Pipelines](https://cloud.google.com/vertex-ai/docs/pipelines).\n",
    "\n",
    "This `kfp.v2` code currently does not run on OSS KFP, but will be able to soon once the 'v2 compatibility mode' feature is supported.\n"
   ]
  },
  {
   "cell_type": "markdown",
   "metadata": {
    "id": "ze4-nDLfK4pw"
   },
   "source": [
    "### Set up your local development environment\n",
    "\n",
    "**If you are using Colab or Google Cloud Notebooks**, your environment already meets\n",
    "all the requirements to run this notebook. You can skip this step."
   ]
  },
  {
   "cell_type": "markdown",
   "metadata": {
    "id": "gCuSR8GkAgzl"
   },
   "source": [
    "**Otherwise**, make sure your environment meets this notebook's requirements.\n",
    "You need the following:\n",
    "\n",
    "* The Google Cloud SDK\n",
    "* Git\n",
    "* Python 3\n",
    "* virtualenv\n",
    "* Jupyter notebook running in a virtual environment with Python 3\n",
    "\n",
    "The Google Cloud guide to [Setting up a Python development\n",
    "environment](https://cloud.google.com/python/setup) and the [Jupyter\n",
    "installation guide](https://jupyter.org/install) provide detailed instructions\n",
    "for meeting these requirements. The following steps provide a condensed set of\n",
    "instructions:\n",
    "\n",
    "1. [Install and initialize the Cloud SDK.](https://cloud.google.com/sdk/docs/)\n",
    "\n",
    "1. [Install Python 3.](https://cloud.google.com/python/setup#installing_python)\n",
    "\n",
    "1. [Install\n",
    "   virtualenv](https://cloud.google.com/python/setup#installing_and_using_virtualenv)\n",
    "   and create a virtual environment that uses Python 3. Activate the virtual environment.\n",
    "\n",
    "1. To install Jupyter, run `pip install jupyter` on the\n",
    "command-line in a terminal shell.\n",
    "\n",
    "1. To launch Jupyter, run `jupyter notebook` on the command-line in a terminal shell.\n",
    "\n",
    "1. Open this notebook in the Jupyter Notebook Dashboard."
   ]
  },
  {
   "cell_type": "markdown",
   "metadata": {
    "id": "i7EUnXsZhAGF"
   },
   "source": [
    "### Install additional packages\n",
    "\n"
   ]
  },
  {
   "cell_type": "markdown",
   "metadata": {
    "id": "FweS1-dyu-Vx"
   },
   "source": [
    "On colab, authenticate first:"
   ]
  },
  {
   "cell_type": "code",
   "execution_count": null,
   "metadata": {
    "id": "kZQA0KrfXCvU"
   },
   "outputs": [],
   "source": [
    "import sys\n",
    "if 'google.colab' in sys.modules:\n",
    "  from google.colab import auth\n",
    "  auth.authenticate_user()"
   ]
  },
  {
   "cell_type": "markdown",
   "metadata": {
    "id": "ijfOidzcdEWy"
   },
   "source": [
    "Then, install the libraries."
   ]
  },
  {
   "cell_type": "code",
   "execution_count": null,
   "metadata": {
    "id": "IaYsrh0Tc17L"
   },
   "outputs": [],
   "source": [
    "import os\n",
    "\n",
    "# The Google Cloud Notebook product has specific requirements\n",
    "IS_GOOGLE_CLOUD_NOTEBOOK = os.path.exists(\"/opt/deeplearning/metadata/env_version\")\n",
    "\n",
    "# Google Cloud Notebook requires dependencies to be installed with '--user'\n",
    "USER_FLAG = \"\"\n",
    "if IS_GOOGLE_CLOUD_NOTEBOOK:\n",
    "    USER_FLAG = \"--user\""
   ]
  },
  {
   "cell_type": "code",
   "execution_count": null,
   "metadata": {
    "id": "8KHmtHp6VMZU"
   },
   "outputs": [],
   "source": [
    "!pip -q install {USER_FLAG} --upgrade transformers\n",
    "!pip -q install {USER_FLAG} --upgrade datasets\n",
    "!pip -q install {USER_FLAG} --upgrade tqdm\n",
    "!pip -q install {USER_FLAG} --upgrade cloudml-hypertune"
   ]
  },
  {
   "cell_type": "markdown",
   "metadata": {},
   "source": [
    "We will be using [Vertex SDK for Python](https://cloud.google.com/vertex-ai/docs/start/client-libraries#python) to interact with Vertex AI services. The high-level aiplatform library is designed to simplify common data science workflows by using wrapper classes and opinionated defaults."
   ]
  },
  {
   "cell_type": "markdown",
   "metadata": {},
   "source": [
    "#### Install Vertex SDK for Python"
   ]
  },
  {
   "cell_type": "code",
   "execution_count": null,
   "metadata": {
    "id": "aR7LNYMUCVKc"
   },
   "outputs": [],
   "source": [
    "!pip -q install {USER_FLAG} --upgrade kfp\n",
    "!pip -q install {USER_FLAG} --upgrade google-cloud-pipeline-components \n",
    "!pip -q install {USER_FLAG} --upgrade google-cloud-aiplatform"
   ]
  },
  {
   "cell_type": "markdown",
   "metadata": {
    "id": "hhq5zEbGg0XX"
   },
   "source": [
    "### Restart the kernel\n",
    "\n",
    "After you install the additional packages, you need to restart the notebook kernel so it can find the packages."
   ]
  },
  {
   "cell_type": "code",
   "execution_count": null,
   "metadata": {
    "id": "EzrelQZ22IZj"
   },
   "outputs": [],
   "source": [
    "# Automatically restart kernel after installs\n",
    "import os\n",
    "\n",
    "if not os.getenv(\"IS_TESTING\"):\n",
    "    # Automatically restart kernel after installs\n",
    "    import IPython\n",
    "\n",
    "    app = IPython.Application.instance()\n",
    "    app.kernel.do_shutdown(True)"
   ]
  },
  {
   "cell_type": "markdown",
   "metadata": {
    "id": "6GPgNN7eeX1l"
   },
   "source": [
    "Check the versions of the packages you installed.  The KFP SDK version should be >=1.6."
   ]
  },
  {
   "cell_type": "code",
   "execution_count": null,
   "metadata": {
    "id": "NN0mULkEeb84",
    "outputId": "c84b935a-60f7-4fe2-8f0e-319173281477"
   },
   "outputs": [],
   "source": [
    "!python3 -c \"import kfp; print('kfp version: {}'.format(kfp.__version__))\"\n",
    "!python3 -c \"import google_cloud_pipeline_components; print('google_cloud_pipeline_components version: {}'.format(google_cloud_pipeline_components.__version__))\""
   ]
  },
  {
   "cell_type": "markdown",
   "metadata": {
    "id": "lWEdiXsJg0XY"
   },
   "source": [
    "## Before you begin\n",
    "\n",
    "This notebook does not require a GPU runtime."
   ]
  },
  {
   "cell_type": "markdown",
   "metadata": {
    "id": "BF1j6f9HApxa"
   },
   "source": [
    "### Set up your Google Cloud project\n",
    "\n",
    "**The following steps are required, regardless of your notebook environment.**\n",
    "\n",
    "1. [Select or create a Google Cloud project](https://console.cloud.google.com/cloud-resource-manager). When you first create an account, you get a $300 free credit towards your compute/storage costs.\n",
    "\n",
    "1. [Make sure that billing is enabled for your project](https://cloud.google.com/billing/docs/how-to/modify-project).\n",
    "\n",
    "1. [Enable the Vertex AI API and Compute Engine API](https://console.cloud.google.com/flows/enableapi?apiid=aiplatform.googleapis.com,compute_component). \n",
    "Also [enable the Cloud Build API](https://console.cloud.google.com/flows/enableapi?apiid=cloudbuild.googleapis.com).\n",
    "\n",
    "1. If you are running this notebook locally, you will need to install the [Cloud SDK](https://cloud.google.com/sdk).\n",
    "\n",
    "1. Enter your project ID in the cell below. Then run the cell to make sure the\n",
    "Cloud SDK uses the right project for all the commands in this notebook.\n",
    "\n",
    "**Note**: Jupyter runs lines prefixed with `!` as shell commands, and it interpolates Python variables prefixed with `$` into these commands."
   ]
  },
  {
   "cell_type": "markdown",
   "metadata": {
    "id": "WReHDGG5g0XY"
   },
   "source": [
    "#### Set your project ID\n",
    "\n",
    "**If you don't know your project ID**, you may be able to get your project ID using `gcloud`."
   ]
  },
  {
   "cell_type": "code",
   "execution_count": null,
   "metadata": {
    "id": "oM1iC_MfAts1",
    "outputId": "5a1aa9eb-088f-44c3-c7e2-b793dcedc796"
   },
   "outputs": [],
   "source": [
    "import os\n",
    "# Get your Google Cloud project ID from gcloud\n",
    "shell_output=!gcloud config list --format 'value(core.project)' 2>/dev/null\n",
    "\n",
    "try:\n",
    "    PROJECT_ID = shell_output[0]\n",
    "except IndexError:\n",
    "    PROJECT_ID = None\n",
    "\n",
    "# Get your Google Cloud project ID from gcloud\n",
    "if not os.getenv(\"IS_TESTING\"):\n",
    "    shell_output=!gcloud config list --format 'value(core.project)' 2>/dev/null\n",
    "    PROJECT_ID = shell_output[0]\n",
    "    print(\"Project ID: \", PROJECT_ID)"
   ]
  },
  {
   "cell_type": "markdown",
   "metadata": {
    "id": "qJYoRfYng0XZ"
   },
   "source": [
    "Otherwise, set your project ID here."
   ]
  },
  {
   "cell_type": "code",
   "execution_count": null,
   "metadata": {
    "id": "riG_qUokg0XZ"
   },
   "outputs": [],
   "source": [
    "if PROJECT_ID == \"\" or PROJECT_ID is None:\n",
    "    PROJECT_ID = \"python-docs-samples-tests\"  # @param {type:\"string\"}"
   ]
  },
  {
   "cell_type": "markdown",
   "metadata": {
    "id": "06571eb4063b"
   },
   "source": [
    "#### Timestamp\n",
    "\n",
    "If you are in a live tutorial session, you might be using a shared test account or project. To avoid name collisions between users on resources created, you create a timestamp for each instance session, and append it onto the name of resources you create in this tutorial."
   ]
  },
  {
   "cell_type": "code",
   "execution_count": null,
   "metadata": {
    "id": "697568e92bd6"
   },
   "outputs": [],
   "source": [
    "from datetime import datetime\n",
    "\n",
    "def get_timestamp():\n",
    "    return datetime.now().strftime(\"%Y%m%d%H%M%S\")\n",
    "\n",
    "TIMESTAMP = get_timestamp()\n",
    "print(f\"TIMESTAMP = {TIMESTAMP}\")"
   ]
  },
  {
   "cell_type": "markdown",
   "metadata": {
    "id": "dr--iN2kAylZ"
   },
   "source": [
    "### Authenticate your Google Cloud account\n",
    "\n",
    "**If you are using AI Platform Notebooks**, your environment is already\n",
    "authenticated. Skip this step."
   ]
  },
  {
   "cell_type": "markdown",
   "metadata": {
    "id": "sBCra4QMA2wR"
   },
   "source": [
    "**If you are using Colab**, run the cell below and follow the instructions\n",
    "when prompted to authenticate your account via oAuth.\n",
    "\n",
    "**Otherwise**, follow these steps:\n",
    "\n",
    "1. In the Cloud Console, go to the [**Create service account key**\n",
    "   page](https://console.cloud.google.com/apis/credentials/serviceaccountkey).\n",
    "\n",
    "2. Click **Create service account**.\n",
    "\n",
    "3. In the **Service account name** field, enter a name, and\n",
    "   click **Create**.\n",
    "\n",
    "4. In the **Grant this service account access to project** section, click the **Role** drop-down list. Type \"AI Platform\"\n",
    "into the filter box, and select\n",
    "   **AI Platform Administrator**. Type \"Storage Object Admin\" into the filter box, and select **Storage Object Admin**.\n",
    "\n",
    "5. Click *Create*. A JSON file that contains your key downloads to your\n",
    "local environment.\n",
    "\n",
    "6. Enter the path to your service account key as the\n",
    "`GOOGLE_APPLICATION_CREDENTIALS` variable in the cell below and run the cell."
   ]
  },
  {
   "cell_type": "code",
   "execution_count": null,
   "metadata": {
    "id": "PyQmSRbKA8r-"
   },
   "outputs": [],
   "source": [
    "import os\n",
    "import sys\n",
    "\n",
    "# If you are running this notebook in Colab, run this cell and follow the\n",
    "# instructions to authenticate your GCP account. This provides access to your\n",
    "# Cloud Storage bucket and lets you submit training jobs and prediction\n",
    "# requests.\n",
    "\n",
    "# If on AI Platform, then don't execute this code\n",
    "if not os.path.exists(\"/opt/deeplearning/metadata/env_version\"):\n",
    "    if \"google.colab\" in sys.modules:\n",
    "        from google.colab import auth as google_auth\n",
    "\n",
    "        google_auth.authenticate_user()\n",
    "\n",
    "    # If you are running this notebook locally, replace the string below with the\n",
    "    # path to your service account key and run this cell to authenticate your GCP\n",
    "    # account.\n",
    "    elif not os.getenv(\"IS_TESTING\"):\n",
    "        %env GOOGLE_APPLICATION_CREDENTIALS ''"
   ]
  },
  {
   "cell_type": "markdown",
   "metadata": {
    "id": "NxhCPW6e46EF"
   },
   "source": [
    "### Create a Cloud Storage bucket as necessary\n",
    "\n",
    "You will need a Cloud Storage bucket for this example.  If you don't have one that you want to use, you can make one now.\n",
    "\n",
    "\n",
    "Set the name of your Cloud Storage bucket below. It must be unique across all\n",
    "Cloud Storage buckets.\n",
    "\n",
    "You may also change the `REGION` variable, which is used for operations\n",
    "throughout the rest of this notebook. Make sure to [choose a region where AI Platform (Unified) services are\n",
    "available](https://cloud.google.com/ai-platform-unified/docs/general/locations#available_regions). You may\n",
    "not use a Multi-Regional Storage bucket for training with AI Platform.\n",
    "\n",
    "**Change the bucket name below** before running the next cell."
   ]
  },
  {
   "cell_type": "code",
   "execution_count": null,
   "metadata": {
    "id": "kZPew6MljTcP"
   },
   "outputs": [],
   "source": [
    "BUCKET_NAME = \"gs://[your-bucket-name]\"  # @param {type:\"string\"}\n",
    "REGION = \"us-central1\"  # @param {type:\"string\"}"
   ]
  },
  {
   "cell_type": "code",
   "execution_count": null,
   "metadata": {
    "id": "cf221059d072"
   },
   "outputs": [],
   "source": [
    "if BUCKET_NAME == \"\" or BUCKET_NAME is None or BUCKET_NAME == \"gs://[your-bucket-name]\":\n",
    "    BUCKET_NAME = \"gs://\" + PROJECT_ID + \"aip-\" + TIMESTAMP"
   ]
  },
  {
   "cell_type": "markdown",
   "metadata": {
    "id": "-EcIXiGsCePi"
   },
   "source": [
    "**Only if your bucket doesn't already exist**: Run the following cell to create your Cloud Storage bucket."
   ]
  },
  {
   "cell_type": "code",
   "execution_count": null,
   "metadata": {
    "id": "NIq7R4HZCfIc"
   },
   "outputs": [],
   "source": [
    "! gsutil mb -l $REGION $BUCKET_NAME"
   ]
  },
  {
   "cell_type": "markdown",
   "metadata": {
    "id": "ucvCsknMCims"
   },
   "source": [
    "Finally, validate access to your Cloud Storage bucket by examining its contents:"
   ]
  },
  {
   "cell_type": "code",
   "execution_count": null,
   "metadata": {
    "id": "vhOb7YnwClBb"
   },
   "outputs": [],
   "source": [
    "! gsutil ls -al $BUCKET_NAME"
   ]
  },
  {
   "cell_type": "markdown",
   "metadata": {
    "id": "e3EQyqZiEMmf"
   },
   "source": [
    "### Import libraries and define constants"
   ]
  },
  {
   "cell_type": "markdown",
   "metadata": {
    "id": "lNV3Jd8BEMmj"
   },
   "source": [
    "\n",
    "\n",
    "Define some constants. See the \"Before you begin\" section of the Managed Pipelines User Guide for information on creating your API key.\n"
   ]
  },
  {
   "cell_type": "code",
   "execution_count": null,
   "metadata": {},
   "outputs": [],
   "source": [
    "APP_NAME = \"finetuned-bert-classifier\""
   ]
  },
  {
   "cell_type": "code",
   "execution_count": null,
   "metadata": {
    "id": "UwT_YZM6W5Pj",
    "outputId": "4a0a5775-ba52-48bf-a00c-e4abd80b8462"
   },
   "outputs": [],
   "source": [
    "PATH=%env PATH\n",
    "%env PATH={PATH}:/home/jupyter/.local/bin\n",
    "\n",
    "PIPELINE_ROOT = f'{BUCKET_NAME}/pipeline_root/{APP_NAME}'\n",
    "\n",
    "PIPELINE_ROOT"
   ]
  },
  {
   "cell_type": "markdown",
   "metadata": {
    "id": "wbY_UZSvEMmk"
   },
   "source": [
    "Do some imports:"
   ]
  },
  {
   "cell_type": "code",
   "execution_count": null,
   "metadata": {
    "id": "lnz2aQ_EEMmk"
   },
   "outputs": [],
   "source": [
    "import json\n",
    "from typing import NamedTuple, List\n",
    "\n",
    "from google_cloud_pipeline_components import aiplatform as aip_components\n",
    "from google.cloud import aiplatform\n",
    "from google.cloud.aiplatform import pipeline_jobs\n",
    "\n",
    "from kfp.v2 import compiler\n",
    "from kfp.v2 import dsl\n",
    "from kfp.v2.dsl import (\n",
    "    component,\n",
    "    InputPath,\n",
    "    OutputPath,\n",
    "    Input,\n",
    "    Output,\n",
    "    Artifact,\n",
    "    Dataset,\n",
    "    Model,\n",
    "    ClassificationMetrics,\n",
    "    Metrics,\n",
    ")\n",
    "from kfp.v2.google.client import AIPlatformClient"
   ]
  },
  {
   "cell_type": "markdown",
   "metadata": {
    "id": "ZzmFXOmeXLiT"
   },
   "source": [
    "## Define the pipeline components\n",
    "\n"
   ]
  },
  {
   "cell_type": "markdown",
   "metadata": {},
   "source": [
    "### 1. Component to create custom training container image"
   ]
  },
  {
   "cell_type": "code",
   "execution_count": null,
   "metadata": {},
   "outputs": [],
   "source": [
    "%%writefile ./custom_container/Dockerfile\n",
    "\n",
    "# Use pytorch GPU base image\n",
    "FROM gcr.io/cloud-aiplatform/training/pytorch-gpu.1-7\n",
    "\n",
    "# set working directory\n",
    "WORKDIR /app\n",
    "\n",
    "# Install required packages\n",
    "RUN pip install google-cloud-storage transformers datasets tqdm cloudml-hypertune\n",
    "\n",
    "# Copies the trainer code to the docker image.\n",
    "COPY ./trainer/__init__.py /app/trainer/__init__.py\n",
    "COPY ./trainer/experiment.py /app/trainer/experiment.py\n",
    "COPY ./trainer/utils.py /app/trainer/utils.py\n",
    "COPY ./trainer/metadata.py /app/trainer/metadata.py\n",
    "COPY ./trainer/model.py /app/trainer/model.py\n",
    "COPY ./trainer/task.py /app/trainer/task.py\n",
    "\n",
    "# Set up the entry point to invoke the trainer.\n",
    "ENTRYPOINT [\"python\", \"-m\", \"trainer.task\"]"
   ]
  },
  {
   "cell_type": "code",
   "execution_count": null,
   "metadata": {},
   "outputs": [],
   "source": [
    "print(f\"{BUCKET_NAME}/{APP_NAME}/train/\")"
   ]
  },
  {
   "cell_type": "code",
   "execution_count": null,
   "metadata": {},
   "outputs": [],
   "source": [
    "!gsutil cp ./custom_container/Dockerfile {BUCKET_NAME}/{APP_NAME}/train/"
   ]
  },
  {
   "cell_type": "code",
   "execution_count": null,
   "metadata": {},
   "outputs": [],
   "source": [
    "!gsutil cp -r ./python_package/trainer/ {BUCKET_NAME}/{APP_NAME}/train/\n",
    "!gsutil ls -Rl {BUCKET_NAME}/{APP_NAME}/train/"
   ]
  },
  {
   "cell_type": "code",
   "execution_count": null,
   "metadata": {},
   "outputs": [],
   "source": [
    "@component(\n",
    "    #base_image=\"gcr.io/google.com/cloudsdktool/cloud-sdk:latest\",\n",
    "    base_image=\"python:3.7\",\n",
    "    packages_to_install=[\"google-cloud-build\"],\n",
    "    output_component_file=\"./pipelines/build_custom_train_image.yaml\",\n",
    ")\n",
    "def build_custom_train_image(\n",
    "    project: str,\n",
    "    gs_train_src_path: str,\n",
    "    model_display_name: str\n",
    ") -> NamedTuple(\n",
    "    \"Outputs\",\n",
    "    [\n",
    "        (\"training_container_uri\", str), \n",
    "    ]\n",
    "):\n",
    "\n",
    "    from datetime import datetime\n",
    "    import logging\n",
    "    import os\n",
    "\n",
    "    from google.cloud.devtools import cloudbuild_v1 as cloudbuild\n",
    "\n",
    "    logging.getLogger().setLevel(logging.INFO)\n",
    "    build_client = cloudbuild.services.cloud_build.CloudBuildClient()\n",
    "\n",
    "    gs_dockerfile_path = os.path.join(gs_train_src_path, 'Dockerfile')\n",
    "    gs_train_src_path = os.path.join(gs_train_src_path, 'trainer/')\n",
    "\n",
    "    build_version = datetime.now().strftime(\"%Y%m%d%H%M%S\")\n",
    "    image_name = f\"pytorch_gpu_train_{model_display_name}\"\n",
    "    training_image_uri = f\"gcr.io/{project}/{image_name}:{build_version}\"\n",
    "    logging.info(f\"training_image_uri: {training_image_uri}\")\n",
    "\n",
    "    build = cloudbuild.Build(\n",
    "        images=[training_image_uri]\n",
    "    )\n",
    "    build.steps = [\n",
    "        {\n",
    "            \"name\": \"gcr.io/cloud-builders/gsutil\",\n",
    "            \"args\": [\"cp\", \"-r\", gs_train_src_path, \".\"]\n",
    "        },\n",
    "        {\n",
    "            \"name\": \"gcr.io/cloud-builders/gsutil\",\n",
    "            \"args\": [\"cp\", gs_dockerfile_path, \"Dockerfile\"]\n",
    "        },\n",
    "        {\n",
    "            \"name\": 'gcr.io/cloud-builders/docker',\n",
    "            \"args\": [ 'build', '-t', training_image_uri, '.' ]\n",
    "        }\n",
    "    ]\n",
    "    operation = build_client.create_build(project_id=project, build=build, timeout=1800)\n",
    "    logging.info(\"IN PROGRESS:\")\n",
    "    logging.info(operation.metadata)\n",
    "\n",
    "    result = operation.result()\n",
    "    # Print the completed status\n",
    "    logging.info(\"RESULT:\", result.status)\n",
    "    return(training_image_uri,)"
   ]
  },
  {
   "cell_type": "markdown",
   "metadata": {},
   "source": [
    "### 2. Component to run training job on Vertex AI"
   ]
  },
  {
   "cell_type": "code",
   "execution_count": null,
   "metadata": {},
   "outputs": [],
   "source": [
    "@component(\n",
    "    # base_image=\"gcr.io/google.com/cloudsdktool/cloud-sdk:latest\", \n",
    "    base_image=\"python:3.7\",\n",
    "    packages_to_install=[\"google-cloud-aiplatform\", \"pandas\", \"fsspec\"],\n",
    "    output_component_file=\"./pipelines/submit_custom_training_job.yaml\")\n",
    "def submit_custom_training_job( \n",
    "    project: str,\n",
    "    bucket: str,\n",
    "    training_container_image_uri: str,\n",
    "    metrics: Output[Metrics],\n",
    "    model: Output[Model],\n",
    "    eval_metric_key: str,\n",
    "    model_display_name: str\n",
    ") -> NamedTuple(\n",
    "    \"Outputs\",\n",
    "    [\n",
    "        (\"eval_metric\", float),\n",
    "        (\"eval_loss\", float)\n",
    "    ]\n",
    "):\n",
    "\n",
    "    from google.cloud import aiplatform\n",
    "    from datetime import datetime\n",
    "    import logging\n",
    "\n",
    "    import pandas as pd\n",
    "\n",
    "    TIMESTAMP = datetime.now().strftime(\"%Y%m%d%H%M%S\")\n",
    "\n",
    "    logging.info(f\"Model artifacts located at model.uri = {model.uri}\")\n",
    "    logging.info(f\"Model artifacts located at model.path = {model.path}\")\n",
    "\n",
    "    # initialize vertex sdk\n",
    "    aiplatform.init(\n",
    "        project=project, \n",
    "        staging_bucket=bucket\n",
    "    )\n",
    "\n",
    "    JOB_NAME = f\"{model_display_name}-pytorch-cstm-cntr-{TIMESTAMP}\"\n",
    "\n",
    "    # configure the job with container image spec\n",
    "    job = aiplatform.CustomContainerTrainingJob(\n",
    "        display_name=JOB_NAME, \n",
    "        container_uri=training_container_image_uri)\n",
    "\n",
    "    # define training code arguments\n",
    "    training_args = [\n",
    "        \"--num-epochs\", \"2\", \n",
    "        \"--model-name\", model_display_name]\n",
    "\n",
    "    # define worker pool specs\n",
    "    train_replica_count = 1\n",
    "    train_machine_type = \"n1-standard-8\"\n",
    "    train_accelerator_type = \"NVIDIA_TESLA_V100\"\n",
    "    train_accelerator_count = 1\n",
    "\n",
    "    # output directories\n",
    "    # base_output_dir = f\"{bucket}/{JOB_NAME}\"\n",
    "\n",
    "    # submit the custom job to Vertex training service\n",
    "    job_response = job.run(\n",
    "        replica_count=train_replica_count,\n",
    "        machine_type=train_machine_type,\n",
    "        accelerator_type=train_accelerator_type,\n",
    "        accelerator_count=train_accelerator_count,\n",
    "        base_output_dir=model.uri,\n",
    "        args=training_args\n",
    "    )\n",
    "\n",
    "    start, end = job._gca_resource.start_time, job._gca_resource.end_time\n",
    "\n",
    "    logging.info(f\"Model artifacts located at {model.uri}/model/{model_display_name}\")\n",
    "    model.metadata[\"framework\"] = \"pytorch\"\n",
    "\n",
    "    logging.info(f\"Model artifacts located at model.uri = {model.uri}\")\n",
    "    logging.info(f\"Model artifacts located at model.path = {model.path}\")\n",
    "    model.metadata[\"time_to_train_in_seconds\"] = (end - start).total_seconds()\n",
    "\n",
    "    # fetch metrics from the training job run\n",
    "    metrics_uri = f\"{model.path}/model/{model_display_name}/all_results.json\"\n",
    "    logging.info(f\"Reading and logging metrics from {metrics_uri}\")\n",
    "    metrics_df = pd.read_json(metrics_uri, typ='series')\n",
    "    for k,v  in metrics_df.items():\n",
    "        logging.info(f'     {k} -> {v}')\n",
    "        metrics.log_metric(k, v)\n",
    "\n",
    "    # capture eval metric\n",
    "    eval_metric = metrics_df[eval_metric_key] if eval_metric_key in metrics_df.keys() else None\n",
    "    eval_loss = metrics_df[\"eval_loss\"] if \"eval_loss\" in metrics_df.keys() else None\n",
    "    logging.info(f'     {eval_metric_key} -> {eval_metric}')\n",
    "    logging.info(f'     \"eval_loss\" -> {eval_loss}')\n",
    "\n",
    "    return (eval_metric, eval_loss)\n",
    "    "
   ]
  },
  {
   "cell_type": "markdown",
   "metadata": {},
   "source": [
    "### 3. Component to create serving container image"
   ]
  },
  {
   "cell_type": "code",
   "execution_count": null,
   "metadata": {},
   "outputs": [],
   "source": [
    "%%bash -s $APP_NAME\n",
    "\n",
    "APP_NAME=$1\n",
    "\n",
    "cat << EOF > ./predictor/Dockerfile\n",
    "\n",
    "FROM pytorch/torchserve:latest-cpu\n",
    "\n",
    "# install dependencies\n",
    "RUN pip3 install transformers\n",
    "\n",
    "# copy model artifacts, custom handler and other dependencies\n",
    "COPY ./custom_text_handler.py ./index_to_name.json /home/model-server/\n",
    "COPY ./model/$APP_NAME/ /home/model-server/\n",
    "\n",
    "# create torchserve configuration file\n",
    "USER root\n",
    "RUN printf \"\\nservice_envelope=json\" >> /home/model-server/config.properties\n",
    "RUN printf \"\\ninference_address=http://0.0.0.0:7080\" >> /home/model-server/config.properties\n",
    "RUN printf \"\\nmanagement_address=http://0.0.0.0:7081\" >> /home/model-server/config.properties\n",
    "USER model-server\n",
    "\n",
    "# expose health and prediction listener ports from the image\n",
    "EXPOSE 7080\n",
    "EXPOSE 7081\n",
    "\n",
    "# create model archive file packaging model artifacts and dependencies\n",
    "RUN torch-model-archiver -f \\\n",
    "  --model-name=$APP_NAME \\\n",
    "  --version=1.0 \\\n",
    "  --serialized-file=/home/model-server/pytorch_model.bin \\\n",
    "  --handler=/home/model-server/custom_text_handler.py \\\n",
    "  --extra-files \"/home/model-server/config.json,/home/model-server/tokenizer.json,/home/model-server/training_args.bin,/home/model-server/tokenizer_config.json,/home/model-server/special_tokens_map.json,/home/model-server/vocab.txt,/home/model-server/index_to_name.json\" \\\n",
    "  --export-path=/home/model-server/model-store\n",
    "\n",
    "# run Torchserve HTTP serve to respond to prediction requests\n",
    "CMD [\"torchserve\", \\\n",
    "     \"--start\", \\\n",
    "     \"--ts-config=/home/model-server/config.properties\", \\\n",
    "     \"--models\", \\\n",
    "     \"$APP_NAME=$APP_NAME.mar\", \\\n",
    "     \"--model-store\", \\\n",
    "     \"/home/model-server/model-store\"]\n",
    "EOF\n",
    "\n",
    "echo \"Writing ./predictor/Dockerfile\""
   ]
  },
  {
   "cell_type": "code",
   "execution_count": null,
   "metadata": {},
   "outputs": [],
   "source": [
    "!gsutil cp ./predictor/Dockerfile {BUCKET_NAME}/{APP_NAME}/serve/\n",
    "!gsutil cp ./predictor/custom_text_handler.py ./predictor/index_to_name.json {BUCKET_NAME}/{APP_NAME}/serve/predictor/"
   ]
  },
  {
   "cell_type": "code",
   "execution_count": null,
   "metadata": {},
   "outputs": [],
   "source": [
    "!gsutil ls -lR {BUCKET_NAME}/{APP_NAME}/serve/"
   ]
  },
  {
   "cell_type": "code",
   "execution_count": null,
   "metadata": {},
   "outputs": [],
   "source": [
    "@component(\n",
    "    #base_image=\"gcr.io/google.com/cloudsdktool/cloud-sdk:latest\",\n",
    "    base_image=\"python:3.7\",\n",
    "    packages_to_install=[\"google-cloud-build\"],\n",
    "    output_component_file=\"./pipelines/build_custom_serving_image.yaml\",\n",
    ")\n",
    "def build_custom_serving_image(\n",
    "    project: str,\n",
    "    gs_model_artifacts: Input[Model],\n",
    "    gs_serving_dependencies_path: str,\n",
    "    model_display_name: str\n",
    ")-> NamedTuple(\n",
    "    \"Outputs\",\n",
    "    [\n",
    "        (\"serving_container_uri\", str)\n",
    "    ],\n",
    "):\n",
    "\n",
    "    from datetime import datetime\n",
    "    from collections import namedtuple\n",
    "    import logging\n",
    "    import os\n",
    "\n",
    "    from google.cloud.devtools import cloudbuild_v1 as cloudbuild\n",
    "\n",
    "    logging.getLogger().setLevel(logging.INFO)\n",
    "    build_client = cloudbuild.services.cloud_build.CloudBuildClient()\n",
    "\n",
    "    logging.info(f\"gs_serving_dependencies_path: {gs_serving_dependencies_path}\")\n",
    "    logging.info(f\"gs_model_artifacts.uri: {gs_model_artifacts.uri}\")\n",
    "    logging.info(f\"gs_model_artifacts.path: {gs_model_artifacts.path}\")\n",
    "\n",
    "    gs_dockerfile_path = os.path.join(gs_serving_dependencies_path, 'Dockerfile')\n",
    "    gs_predictor_src_path = os.path.join(gs_serving_dependencies_path, 'predictor/')\n",
    "\n",
    "    build_version = datetime.now().strftime(\"%Y%m%d%H%M%S\")\n",
    "    image_name = f\"pytorch_predict_{model_display_name}\"\n",
    "    serving_image_uri = f\"gcr.io/{project}/{image_name}:{build_version}\"\n",
    "    logging.info(f\"serving_image_uri: {serving_image_uri}\")\n",
    "\n",
    "    build = cloudbuild.Build(\n",
    "        images=[serving_image_uri]\n",
    "    )\n",
    "    build.steps = [\n",
    "        {\n",
    "            \"name\": \"gcr.io/cloud-builders/gcloud\",\n",
    "            \"entrypoint\": \"bash\",\n",
    "            \"args\": [\"-c\", \"mkdir model\"]\n",
    "        },\n",
    "        {\n",
    "            \"name\": \"gcr.io/cloud-builders/gsutil\",\n",
    "            \"args\": [\"cp\", \"-r\", f\"{gs_model_artifacts.uri}/model/{model_display_name}/\", \"model/\"]\n",
    "        },\n",
    "        {\n",
    "            \"name\": \"gcr.io/cloud-builders/gsutil\",\n",
    "            \"args\": [\"cp\", f\"{gs_predictor_src_path}custom_text_handler.py\", f\"{gs_predictor_src_path}index_to_name.json\", \".\"]\n",
    "        },\n",
    "        {\n",
    "            \"name\": \"gcr.io/cloud-builders/gsutil\",\n",
    "            \"args\": [\"cp\", gs_dockerfile_path, \"Dockerfile\"]\n",
    "        },\n",
    "        {\n",
    "            \"name\": \"gcr.io/cloud-builders/gcloud\",\n",
    "            \"entrypoint\": \"bash\",\n",
    "            \"args\": [\"-c\", \"ls -ltr\"]\n",
    "        },\n",
    "        {\n",
    "          \"name\": 'gcr.io/cloud-builders/docker',\n",
    "          \"args\": [ 'build', '-t', serving_image_uri, '.' ]\n",
    "        }\n",
    "    ]\n",
    "    operation = build_client.create_build(project_id=project, build=build, timeout=1800)\n",
    "    logging.info(\"IN PROGRESS:\")\n",
    "    logging.info(operation.metadata)\n",
    "\n",
    "    result = operation.result()\n",
    "    # Print the completed status\n",
    "    logging.info(\"RESULT:\", result.status)\n",
    "\n",
    "    outputs = namedtuple(\"Outputs\", [\"serving_container_uri\"])\n",
    "\n",
    "    return outputs(serving_image_uri)"
   ]
  },
  {
   "cell_type": "markdown",
   "metadata": {},
   "source": [
    "### 4. Component to test model deployment making online prediction requests"
   ]
  },
  {
   "cell_type": "code",
   "execution_count": null,
   "metadata": {},
   "outputs": [],
   "source": [
    "@component(\n",
    "    #base_image=\"gcr.io/google.com/cloudsdktool/cloud-sdk:latest\",\n",
    "    base_image=\"python:3.7\",\n",
    "    packages_to_install=[\"google-cloud-build\", \"google-cloud-aiplatform\"],\n",
    "    output_component_file=\"./pipelines/make_prediction_request.yaml\")\n",
    "def make_prediction_request( \n",
    "    project: str,\n",
    "    bucket: str,\n",
    "    endpoint: Input[Artifact],\n",
    "    instances: List\n",
    "    ):\n",
    "    from datetime import datetime\n",
    "    import logging\n",
    "    import base64\n",
    "\n",
    "    from google.cloud import aiplatform\n",
    "\n",
    "    logging.getLogger().setLevel(logging.INFO)\n",
    "    aiplatform.init(project=project, staging_bucket=bucket)\n",
    "    logging.info(f\"Endpoint URI: {endpoint.uri}\")\n",
    "    _endpoint = aiplatform.Endpoint(endpoint.uri.split(\"/\")[-1])\n",
    "\n",
    "    for instance in instances:\n",
    "        if not isinstance(instance, (bytes, bytearray)):\n",
    "            instance = instance.encode()\n",
    "        logging.info(f\"Input text: {instance.decode('utf-8')}\")\n",
    "        b64_encoded = base64.b64encode(instance)\n",
    "        test_instance = [{\"data\": {\"b64\": f\"{str(b64_encoded.decode('utf-8'))}\"}}]\n",
    "        response = _endpoint.predict(instances=test_instance)\n",
    "        logging.info(f\"Prediction response: {response.predictions}\")"
   ]
  },
  {
   "cell_type": "markdown",
   "metadata": {},
   "source": [
    "## Define Pipeline"
   ]
  },
  {
   "cell_type": "code",
   "execution_count": null,
   "metadata": {},
   "outputs": [],
   "source": [
    "@dsl.pipeline(\n",
    "    name=\"pytorch-text-classifier-pipeline\",\n",
    "    pipeline_root=PIPELINE_ROOT,\n",
    ")\n",
    "def pytorch_text_classifier_pipeline(\n",
    "    project: str,\n",
    "    bucket: str,\n",
    "    region: str,\n",
    "    gs_train_script_path: str,\n",
    "    gs_serving_dependencies_path: str,\n",
    "    model_display_name: str,\n",
    "    serving_container_health_route: str,\n",
    "    serving_container_predict_route: str,\n",
    "    serving_container_ports: str,\n",
    "    eval_acc_threshold: float,\n",
    "    pipeline_job_id: str,\n",
    "    pipeline_name: str,\n",
    "    is_hp_tuning_enabled: str = 'n',\n",
    "):\n",
    "    # build custom container for training job passing the \n",
    "    # GCS location of the training application code \n",
    "    build_custom_train_image_task = build_custom_train_image(\n",
    "        project=project,\n",
    "        gs_train_src_path=gs_train_script_path,\n",
    "        model_display_name=model_display_name\n",
    "    ).set_caching_options(True).set_display_name(\"Build custom training image\")\n",
    "\n",
    "    # train the model on Vertex AI by submitting a CustomJob \n",
    "    # using the custom container\n",
    "    training_container_image_uri = build_custom_train_image_task.outputs[\"training_container_uri\"]\n",
    "    run_train_task = submit_custom_training_job(\n",
    "        project=project,\n",
    "        bucket=bucket,\n",
    "        training_container_image_uri=training_container_image_uri,\n",
    "        eval_metric_key=\"eval_accuracy\",\n",
    "        model_display_name=model_display_name\n",
    "    ).set_caching_options(True).set_display_name(\"Run custom training job\")\n",
    "\n",
    "    with dsl.Condition((is_hp_tuning_enabled == \"n\" and run_train_task.outputs[\"eval_metric\"] > eval_acc_threshold), name=\"Model deploy decision\"):\n",
    "        # build custom container for serving predictions using \n",
    "        # the trained model artifacts served by TorchServe\n",
    "        build_custom_serving_image_task = build_custom_serving_image(\n",
    "            project=project,\n",
    "            gs_model_artifacts=run_train_task.outputs[\"model\"],\n",
    "            gs_serving_dependencies_path=gs_serving_dependencies_path,\n",
    "            model_display_name=model_display_name\n",
    "        ).set_caching_options(True).set_display_name(\"Build custom serving image\")\n",
    "\n",
    "        # upload model to vertex ai\n",
    "        # NOTE: model artifacts and the prediction handler are part of the container\n",
    "        serving_container_image_uri = build_custom_serving_image_task.outputs['serving_container_uri']\n",
    "        model_upload_task = aip_components.ModelUploadOp(\n",
    "            project=project, \n",
    "            display_name=model_display_name,\n",
    "            serving_container_image_uri=serving_container_image_uri,\n",
    "            serving_container_predict_route=serving_container_predict_route,\n",
    "            serving_container_health_route=serving_container_health_route,\n",
    "            serving_container_ports=serving_container_ports\n",
    "        ).set_caching_options(True).set_display_name(\"Upload model\")\n",
    "\n",
    "        # create endpoint to deploy one or more models\n",
    "        # An endpoint provides a service URL where the prediction requests are sent\n",
    "        endpoint_create_task = aip_components.EndpointCreateOp(\n",
    "            project=project,\n",
    "            display_name=model_display_name,\n",
    "        ).set_caching_options(True).set_display_name(\"Create endpoint\")\n",
    "\n",
    "        # deploy models to endpoint to associates physical resources with the model \n",
    "        # so it can serve online predictions \n",
    "        model_deploy_task = aip_components.ModelDeployOp(\n",
    "            project=project,\n",
    "            endpoint=endpoint_create_task.outputs[\"endpoint\"],\n",
    "            model=model_upload_task.outputs[\"model\"],\n",
    "            deployed_model_display_name=model_display_name,\n",
    "            machine_type=\"n1-standard-4\",\n",
    "        ).set_caching_options(True).set_display_name(\"Deploy model to endpoint\")\n",
    "\n",
    "        # test model deployment by making online prediction requests\n",
    "        test_instances = [\n",
    "            \"Jaw dropping visual affects and action! One of the best I have seen to date.\",\n",
    "            \"Take away the CGI and the A-list cast and you end up with film with less punch.\",\n",
    "        ]\n",
    "        predict_test_instances_task = make_prediction_request(\n",
    "            project,\n",
    "            bucket,\n",
    "            model_deploy_task.outputs[\"endpoint\"],\n",
    "            test_instances\n",
    "        ).set_caching_options(True).set_display_name(\"Test model deployment making online predictions\")\n"
   ]
  },
  {
   "cell_type": "code",
   "execution_count": null,
   "metadata": {
    "id": "xREwNd4b2Oif"
   },
   "outputs": [],
   "source": [
    "PIPELINE_JSON_SPEC_PATH = './pipelines/pytorch_text_classifier_pipeline_spec.json'\n",
    "compiler.Compiler().compile(\n",
    "    pipeline_func=pytorch_text_classifier_pipeline,\n",
    "    package_path=PIPELINE_JSON_SPEC_PATH)"
   ]
  },
  {
   "cell_type": "code",
   "execution_count": null,
   "metadata": {
    "id": "r9jd9MW_2gyx"
   },
   "outputs": [],
   "source": [
    "aiplatform.init(project=PROJECT_ID, location=REGION)"
   ]
  },
  {
   "cell_type": "code",
   "execution_count": null,
   "metadata": {},
   "outputs": [],
   "source": [
    "PIPELINE_NAME = f\"pytorch-text-classifier-pipeline\"\n",
    "PIPELINE_JOB_ID = f\"pipeline-{APP_NAME}-{get_timestamp()}\"\n",
    "TRAIN_APP_CODE_PATH = f\"{BUCKET_NAME}/{APP_NAME}/train/\"\n",
    "SERVE_DEPENDENCIES_PATH = f\"{BUCKET_NAME}/{APP_NAME}/serve/\"\n",
    "pipeline_params = {\n",
    "    \"gs_train_script_path\": TRAIN_APP_CODE_PATH,\n",
    "    \"gs_serving_dependencies_path\": SERVE_DEPENDENCIES_PATH,\n",
    "    \"project\": PROJECT_ID,\n",
    "    \"bucket\": BUCKET_NAME,\n",
    "    \"region\": REGION,\n",
    "    \"model_display_name\": APP_NAME,\n",
    "    \"serving_container_health_route\": \"/ping\",\n",
    "    \"serving_container_predict_route\": f\"/predictions/{APP_NAME}\",\n",
    "    \"serving_container_ports\": [7080],\n",
    "    \"eval_acc_threshold\": 0.88,\n",
    "    \"is_hp_tuning_enabled\": \"n\",\n",
    "    \"pipeline_name\": PIPELINE_NAME,\n",
    "    \"pipeline_job_id\": PIPELINE_JOB_ID\n",
    "}"
   ]
  },
  {
   "cell_type": "code",
   "execution_count": null,
   "metadata": {},
   "outputs": [],
   "source": [
    "pipeline_job = pipeline_jobs.PipelineJob(\n",
    "    display_name=PIPELINE_NAME,\n",
    "    job_id=PIPELINE_JOB_ID,\n",
    "    template_path=PIPELINE_JSON_SPEC_PATH,\n",
    "    pipeline_root=PIPELINE_ROOT,\n",
    "    parameter_values=pipeline_params,\n",
    "    enable_caching=True\n",
    ")"
   ]
  },
  {
   "cell_type": "code",
   "execution_count": null,
   "metadata": {},
   "outputs": [],
   "source": [
    "response = pipeline_job.run(sync=False)\n",
    "response"
   ]
  },
  {
   "cell_type": "code",
   "execution_count": null,
   "metadata": {},
   "outputs": [],
   "source": [
    "df = aiplatform.get_pipeline_df(pipeline=PIPELINE_NAME.replace(\"_\", \"-\"))\n",
    "df"
   ]
  }
 ],
 "metadata": {
  "colab": {
   "collapsed_sections": [],
   "name": "e2e_pipeline_pytorch_cifar.ipynb",
   "provenance": []
  },
  "environment": {
   "name": "pytorch-gpu.1-9.m75",
   "type": "gcloud",
   "uri": "gcr.io/deeplearning-platform-release/pytorch-gpu.1-9:m75"
  },
  "interpreter": {
   "hash": "d4d1e4263499bec80672ea0156c357c1ee493ec2b1c70f0acce89fc37c4a6abe"
  },
  "kernelspec": {
   "display_name": "Python 3",
   "language": "python",
   "name": "python3"
  },
  "language_info": {
   "codemirror_mode": {
    "name": "ipython",
    "version": 3
   },
   "file_extension": ".py",
   "mimetype": "text/x-python",
   "name": "python",
   "nbconvert_exporter": "python",
   "pygments_lexer": "ipython3",
   "version": "3.7.10"
  },
  "toc-autonumbering": false
 },
 "nbformat": 4,
 "nbformat_minor": 4
}
