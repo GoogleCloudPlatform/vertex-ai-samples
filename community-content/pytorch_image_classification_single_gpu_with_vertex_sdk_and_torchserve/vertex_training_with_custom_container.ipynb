{
  "cells": [
    {
      "cell_type": "code",
      "execution_count": null,
      "metadata": {
        "id": "a6b56b1c7b76"
      },
      "outputs": [],
      "source": [
        "# Copyright 2021 Google LLC\n",
        "#\n",
        "# Licensed under the Apache License, Version 2.0 (the \"License\");\n",
        "# you may not use this file except in compliance with the License.\n",
        "# You may obtain a copy of the License at\n",
        "#\n",
        "#     https://www.apache.org/licenses/LICENSE-2.0\n",
        "#\n",
        "# Unless required by applicable law or agreed to in writing, software\n",
        "# distributed under the License is distributed on an \"AS IS\" BASIS,\n",
        "# WITHOUT WARRANTIES OR CONDITIONS OF ANY KIND, either express or implied.\n",
        "# See the License for the specific language governing permissions and\n",
        "# limitations under the License."
      ]
    },
    {
      "cell_type": "markdown",
      "metadata": {
        "id": "d229c51d7335"
      },
      "source": [
        "# PyTorch Image Classification Single GPU using Vertex Training with Custom Container"
      ]
    },
    {
      "cell_type": "markdown",
      "metadata": {
        "id": "08b6ccb2de0f"
      },
      "source": [
        "<table align=\"left\">\n",
        "  <td>\n",
        "    <a href=\"https://github.com/GoogleCloudPlatform/vertex-ai-samples/blob/master/community-content/pytorch_image_classification_single_gpu_with_vertex_sdk_and_torchserve/vertex_training_with_custom_container.ipynb\">\n",
        "      <img src=\"https://cloud.google.com/ml-engine/images/github-logo-32px.png\" alt=\"GitHub logo\">\n",
        "      View on GitHub\n",
        "    </a>\n",
        "  </td>\n",
        "</table>"
      ]
    },
    {
      "cell_type": "markdown",
      "metadata": {
        "id": "03d216c7f7b1"
      },
      "source": [
        "## Setup"
      ]
    },
    {
      "cell_type": "code",
      "execution_count": null,
      "metadata": {
        "id": "c5ac73516218"
      },
      "outputs": [],
      "source": [
        "PROJECT_ID = \"YOUR PROJECT ID\"\n",
        "BUCKET_NAME = \"gs://YOUR BUCKET NAME\"\n",
        "REGION = \"YOUR REGION\"\n",
        "SERVICE_ACCOUNT = \"YOUR SERVICE ACCOUNT\""
      ]
    },
    {
      "cell_type": "code",
      "execution_count": null,
      "metadata": {
        "id": "410ef4707617"
      },
      "outputs": [],
      "source": [
        "content_name = \"pt-img-cls-gpu-cust-cont-torchserve\""
      ]
    },
    {
      "cell_type": "markdown",
      "metadata": {
        "id": "ed102448ae75"
      },
      "source": [
        "## Local Training"
      ]
    },
    {
      "cell_type": "code",
      "execution_count": null,
      "metadata": {
        "id": "47dfe4e1dfe6"
      },
      "outputs": [],
      "source": [
        "! ls trainer"
      ]
    },
    {
      "cell_type": "code",
      "execution_count": null,
      "metadata": {
        "id": "be6fcb587414"
      },
      "outputs": [],
      "source": [
        "! cat trainer/requirements.txt"
      ]
    },
    {
      "cell_type": "code",
      "execution_count": null,
      "metadata": {
        "id": "060178a8ad71"
      },
      "outputs": [],
      "source": [
        "! pip install -r trainer/requirements.txt"
      ]
    },
    {
      "cell_type": "code",
      "execution_count": null,
      "metadata": {
        "id": "4421e56c4ee3"
      },
      "outputs": [],
      "source": [
        "! cat trainer/task.py"
      ]
    },
    {
      "cell_type": "code",
      "execution_count": null,
      "metadata": {
        "id": "4bb2f6fc75cc"
      },
      "outputs": [],
      "source": [
        "%run trainer/task.py --epochs 5 --local-mode"
      ]
    },
    {
      "cell_type": "code",
      "execution_count": null,
      "metadata": {
        "id": "cb748af8f2b8"
      },
      "outputs": [],
      "source": [
        "! ls ./tmp"
      ]
    },
    {
      "cell_type": "code",
      "execution_count": null,
      "metadata": {
        "id": "2ca1626c5dbd"
      },
      "outputs": [],
      "source": [
        "! rm -rf ./tmp"
      ]
    },
    {
      "cell_type": "markdown",
      "metadata": {
        "id": "4eb55916219c"
      },
      "source": [
        "## Vertex Training using Vertex SDK and Custom Container"
      ]
    },
    {
      "cell_type": "markdown",
      "metadata": {
        "id": "e61fc5c1b9e0"
      },
      "source": [
        "### Build Custom Container"
      ]
    },
    {
      "cell_type": "code",
      "execution_count": null,
      "metadata": {
        "id": "c70a580cc6d4"
      },
      "outputs": [],
      "source": [
        "hostname = \"gcr.io\"\n",
        "image_name_train = content_name\n",
        "tag = \"latest\"\n",
        "\n",
        "custom_container_image_uri_train = f\"{hostname}/{PROJECT_ID}/{image_name_train}:{tag}\""
      ]
    },
    {
      "cell_type": "code",
      "execution_count": null,
      "metadata": {
        "id": "e58c75158872"
      },
      "outputs": [],
      "source": [
        "! cd trainer && docker build -t $custom_container_image_uri_train -f Dockerfile ."
      ]
    },
    {
      "cell_type": "code",
      "execution_count": null,
      "metadata": {
        "id": "bde55966086a"
      },
      "outputs": [],
      "source": [
        "! docker run --rm $custom_container_image_uri_train --epochs 5 --local-mode"
      ]
    },
    {
      "cell_type": "code",
      "execution_count": null,
      "metadata": {
        "id": "f4a3cdb78045"
      },
      "outputs": [],
      "source": [
        "! docker push $custom_container_image_uri_train"
      ]
    },
    {
      "cell_type": "code",
      "execution_count": null,
      "metadata": {
        "id": "526115eabf35"
      },
      "outputs": [],
      "source": [
        "! gcloud container images list --repository $hostname/$PROJECT_ID"
      ]
    },
    {
      "cell_type": "markdown",
      "metadata": {
        "id": "f026b57d265e"
      },
      "source": [
        "### Initialize Vertex SDK"
      ]
    },
    {
      "cell_type": "code",
      "execution_count": null,
      "metadata": {
        "id": "19c02e9e9b8d"
      },
      "outputs": [],
      "source": [
        "! pip install -r requirements.txt"
      ]
    },
    {
      "cell_type": "code",
      "execution_count": null,
      "metadata": {
        "id": "a0deece1086e"
      },
      "outputs": [],
      "source": [
        "from google.cloud import aiplatform\n",
        "\n",
        "aiplatform.init(\n",
        "    project=PROJECT_ID,\n",
        "    staging_bucket=BUCKET_NAME,\n",
        "    location=REGION,\n",
        ")"
      ]
    },
    {
      "cell_type": "markdown",
      "metadata": {
        "id": "1ec68e279ed1"
      },
      "source": [
        "### Create a Vertex Tensorboard Instance"
      ]
    },
    {
      "cell_type": "code",
      "execution_count": null,
      "metadata": {
        "id": "d945f0e32b02"
      },
      "outputs": [],
      "source": [
        "tensorboard = aiplatform.Tensorboard.create(\n",
        "    display_name=content_name,\n",
        ")"
      ]
    },
    {
      "cell_type": "markdown",
      "metadata": {
        "id": "cb13cc82acc5"
      },
      "source": [
        "#### Option: Use a Previously Created Vertex Tensorboard Instance\n",
        "\n",
        "```\n",
        "tensorboard_name = \"Your Tensorboard Resource Name or Tensorboard ID\"\n",
        "tensorboard = aiplatform.Tensorboard(tensorboard_name=tensorboard_name)\n",
        "```"
      ]
    },
    {
      "cell_type": "markdown",
      "metadata": {
        "id": "d04453c214d2"
      },
      "source": [
        "### Run a Vertex SDK CustomContainerTrainingJob"
      ]
    },
    {
      "cell_type": "code",
      "execution_count": null,
      "metadata": {
        "id": "4b5b5dea03c8"
      },
      "outputs": [],
      "source": [
        "display_name = content_name\n",
        "gcs_output_uri_prefix = f\"{BUCKET_NAME}/{display_name}\"\n",
        "\n",
        "machine_type = \"n1-standard-4\"\n",
        "accelerator_count = 1\n",
        "accelerator_type = \"NVIDIA_TESLA_K80\"\n",
        "\n",
        "container_args = [\n",
        "    \"--batch-size\",\n",
        "    \"256\",\n",
        "    \"--epochs\",\n",
        "    \"100\",\n",
        "]"
      ]
    },
    {
      "cell_type": "code",
      "execution_count": null,
      "metadata": {
        "id": "b2073fb5824e"
      },
      "outputs": [],
      "source": [
        "custom_container_training_job = aiplatform.CustomContainerTrainingJob(\n",
        "    display_name=display_name,\n",
        "    container_uri=custom_container_image_uri_train,\n",
        ")"
      ]
    },
    {
      "cell_type": "code",
      "execution_count": null,
      "metadata": {
        "id": "d442a02878d1"
      },
      "outputs": [],
      "source": [
        "custom_container_training_job.run(\n",
        "    args=container_args,\n",
        "    base_output_dir=gcs_output_uri_prefix,\n",
        "    machine_type=machine_type,\n",
        "    accelerator_type=accelerator_type,\n",
        "    accelerator_count=accelerator_count,\n",
        "    tensorboard=tensorboard.resource_name,\n",
        "    service_account=SERVICE_ACCOUNT,\n",
        ")"
      ]
    },
    {
      "cell_type": "code",
      "execution_count": null,
      "metadata": {
        "id": "29b14f2289f3"
      },
      "outputs": [],
      "source": [
        "print(f\"Custom Training Job Name: {custom_container_training_job.resource_name}\")\n",
        "print(f\"GCS Output URI Prefix: {gcs_output_uri_prefix}\")"
      ]
    },
    {
      "cell_type": "markdown",
      "metadata": {
        "id": "3ab127e5f2b2"
      },
      "source": [
        "### Training Artifact"
      ]
    },
    {
      "cell_type": "code",
      "execution_count": null,
      "metadata": {
        "id": "8e0c74a00dee"
      },
      "outputs": [],
      "source": [
        "! gsutil ls $gcs_output_uri_prefix"
      ]
    }
  ],
  "metadata": {
    "colab": {
      "name": "vertex_training_with_custom_container.ipynb",
      "toc_visible": true
    },
    "kernelspec": {
      "display_name": "Python 3",
      "name": "python3"
    }
  },
  "nbformat": 4,
  "nbformat_minor": 0
}
