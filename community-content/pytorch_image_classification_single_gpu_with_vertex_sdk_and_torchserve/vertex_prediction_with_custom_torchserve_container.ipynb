{
  "cells": [
    {
      "cell_type": "code",
      "execution_count": null,
      "metadata": {
        "id": "a6b56b1c7b76"
      },
      "outputs": [],
      "source": [
        "# Copyright 2021 Google LLC\n",
        "#\n",
        "# Licensed under the Apache License, Version 2.0 (the \"License\");\n",
        "# you may not use this file except in compliance with the License.\n",
        "# You may obtain a copy of the License at\n",
        "#\n",
        "#     https://www.apache.org/licenses/LICENSE-2.0\n",
        "#\n",
        "# Unless required by applicable law or agreed to in writing, software\n",
        "# distributed under the License is distributed on an \"AS IS\" BASIS,\n",
        "# WITHOUT WARRANTIES OR CONDITIONS OF ANY KIND, either express or implied.\n",
        "# See the License for the specific language governing permissions and\n",
        "# limitations under the License."
      ]
    },
    {
      "cell_type": "markdown",
      "metadata": {
        "id": "4e29a78ef298"
      },
      "source": [
        "# Vertex Prediction with Custom TorchServe Container"
      ]
    },
    {
      "cell_type": "markdown",
      "metadata": {
        "id": "845d0f282981"
      },
      "source": [
        "<table align=\"left\">\n",
        "  <td>\n",
        "    <a href=\"https://github.com/GoogleCloudPlatform/vertex-ai-samples/blob/master/community-content/pytorch_image_classification_single_gpu_with_vertex_sdk_and_torchserve/vertex_prediction_with_custom_torchserve_container.ipynb\">\n",
        "      <img src=\"https://cloud.google.com/ml-engine/images/github-logo-32px.png\" alt=\"GitHub logo\">\n",
        "      View on GitHub\n",
        "    </a>\n",
        "  </td>\n",
        "</table>"
      ]
    },
    {
      "cell_type": "markdown",
      "metadata": {
        "id": "03d216c7f7b1"
      },
      "source": [
        "## Setup"
      ]
    },
    {
      "cell_type": "code",
      "execution_count": null,
      "metadata": {
        "id": "c5ac73516218"
      },
      "outputs": [],
      "source": [
        "PROJECT_ID = \"YOUR PROJECT ID\"\n",
        "BUCKET_NAME = \"gs://YOUR BUCKET NAME\"\n",
        "REGION = \"YOUR REGION\"\n",
        "SERVICE_ACCOUNT = \"YOUR SERVICE ACCOUNT\""
      ]
    },
    {
      "cell_type": "code",
      "execution_count": null,
      "metadata": {
        "id": "410ef4707617"
      },
      "outputs": [],
      "source": [
        "content_name = \"pt-img-cls-gpu-cust-cont-torchserve\""
      ]
    },
    {
      "cell_type": "markdown",
      "metadata": {
        "id": "50e5fc17a391"
      },
      "source": [
        "### Training Artifact"
      ]
    },
    {
      "cell_type": "code",
      "execution_count": null,
      "metadata": {
        "id": "7ea8fe9d6a01"
      },
      "outputs": [],
      "source": [
        "gcs_output_uri_prefix = f\"{BUCKET_NAME}/{content_name}\""
      ]
    },
    {
      "cell_type": "code",
      "execution_count": null,
      "metadata": {
        "id": "9fa50ce170f5"
      },
      "outputs": [],
      "source": [
        "! gsutil ls $gcs_output_uri_prefix"
      ]
    },
    {
      "cell_type": "markdown",
      "metadata": {
        "id": "8cf9bc4a8cb5"
      },
      "source": [
        "## Vertex Prediction using Custom TorchServe Container"
      ]
    },
    {
      "cell_type": "markdown",
      "metadata": {
        "id": "3619e785d42e"
      },
      "source": [
        "### Test Sample Image"
      ]
    },
    {
      "cell_type": "code",
      "execution_count": null,
      "metadata": {
        "id": "32e1dcc56acf"
      },
      "outputs": [],
      "source": [
        "! curl -O https://raw.githubusercontent.com/alvarobartt/pytorch-model-serving/master/images/sample.jpg"
      ]
    },
    {
      "cell_type": "code",
      "execution_count": null,
      "metadata": {
        "id": "3e8e9e3004ce"
      },
      "outputs": [],
      "source": [
        "! ls sample.jpg"
      ]
    },
    {
      "cell_type": "code",
      "execution_count": null,
      "metadata": {
        "id": "d20b721156d2"
      },
      "outputs": [],
      "source": [
        "%run convert_b64.py"
      ]
    },
    {
      "cell_type": "code",
      "execution_count": null,
      "metadata": {
        "id": "81fbfde77897"
      },
      "outputs": [],
      "source": [
        "! ls sample_b64.json"
      ]
    },
    {
      "cell_type": "markdown",
      "metadata": {
        "id": "777bcee50b5c"
      },
      "source": [
        "### Model Archive for TorchServe"
      ]
    },
    {
      "cell_type": "code",
      "execution_count": null,
      "metadata": {
        "id": "29a8b0fcc803"
      },
      "outputs": [],
      "source": [
        "! gsutil cp -r $gcs_output_uri_prefix/model ./model_server/"
      ]
    },
    {
      "cell_type": "code",
      "execution_count": null,
      "metadata": {
        "id": "4308dbba21d8"
      },
      "outputs": [],
      "source": [
        "! ls ./model_server/model/"
      ]
    },
    {
      "cell_type": "code",
      "execution_count": null,
      "metadata": {
        "id": "1869a66a29cd"
      },
      "outputs": [],
      "source": [
        "! cd model_server && torch-model-archiver \\\n",
        "     --model-name antandbee \\\n",
        "     --version 1.0 \\\n",
        "     --serialized-file ./model/antandbee.pth \\\n",
        "     --model-file ./model.py \\\n",
        "     --handler ./handler.py \\\n",
        "     --extra-files ./index_to_name.json \\\n",
        "     -f"
      ]
    },
    {
      "cell_type": "code",
      "execution_count": null,
      "metadata": {
        "id": "e402b48ee164"
      },
      "outputs": [],
      "source": [
        "! ls model_server/antandbee.mar"
      ]
    },
    {
      "cell_type": "markdown",
      "metadata": {
        "id": "189af7e97046"
      },
      "source": [
        "### Option: TorchServe Local Run\n",
        "\n",
        "```\n",
        "cd model_server\n",
        "torchserve --model-store ./ \\\n",
        "  --ts-config ./config.properties \\\n",
        "  --models antandbee=antandbee.mar\n",
        "\n",
        "curl http://localhost:8080/ping\n",
        "\n",
        "curl http://127.0.0.1:8081/models/antandbee\n",
        "\n",
        "curl -X POST \\\n",
        "  -H \"Content-Type: application/json; charset=utf-8\" \\\n",
        "  -d @sample_b64.json \\\n",
        "  http://localhost:8080/predictions/antandbee\n",
        "\n",
        "torchserve --stop\n",
        "\n",
        "\n",
        "! rm model_server/antandbee.mar\n",
        "! rm -rf model_server/logs\n",
        "\n",
        "```"
      ]
    },
    {
      "cell_type": "markdown",
      "metadata": {
        "id": "06fcd96d4dc3"
      },
      "source": [
        "### Custom TorchServe Container"
      ]
    },
    {
      "cell_type": "code",
      "execution_count": null,
      "metadata": {
        "id": "6e8f34ed20bb"
      },
      "outputs": [],
      "source": [
        "hostname = \"gcr.io\"\n",
        "tag = \"latest\"\n",
        "\n",
        "model_name = \"antandbee\"\n",
        "image_name_serve = content_name + \"-\" + model_name\n",
        "custom_container_image_uri_serve = f\"{hostname}/{PROJECT_ID}/{image_name_serve}:{tag}\""
      ]
    },
    {
      "cell_type": "code",
      "execution_count": null,
      "metadata": {
        "id": "68edac8d35bf"
      },
      "outputs": [],
      "source": [
        "! cd model_server && docker build -t $custom_container_image_uri_serve -f Dockerfile ."
      ]
    },
    {
      "cell_type": "code",
      "execution_count": null,
      "metadata": {
        "id": "499d20c0d78a"
      },
      "outputs": [],
      "source": [
        "! rm -rf ./model_server/model/"
      ]
    },
    {
      "cell_type": "code",
      "execution_count": null,
      "metadata": {
        "id": "a9de138b07d2"
      },
      "outputs": [],
      "source": [
        "! docker run \\\n",
        "    --rm -it \\\n",
        "    -d \\\n",
        "    --name ts_antandbee \\\n",
        "    -p 8080:8080 \\\n",
        "    -p 8081:8081 \\\n",
        "    $custom_container_image_uri_serve"
      ]
    },
    {
      "cell_type": "code",
      "execution_count": null,
      "metadata": {
        "id": "4c1da3b43829"
      },
      "outputs": [],
      "source": [
        "! curl http://localhost:8080/ping"
      ]
    },
    {
      "cell_type": "code",
      "execution_count": null,
      "metadata": {
        "id": "7656ebe9e400"
      },
      "outputs": [],
      "source": [
        "! curl http://127.0.0.1:8081/models/antandbee"
      ]
    },
    {
      "cell_type": "code",
      "execution_count": null,
      "metadata": {
        "id": "e5416a4fbc09"
      },
      "outputs": [],
      "source": [
        "! curl -X POST \\\n",
        "  -H \"Content-Type: application/json; charset=utf-8\" \\\n",
        "  -d @sample_b64.json \\\n",
        "  localhost:8080/predictions/antandbee"
      ]
    },
    {
      "cell_type": "code",
      "execution_count": null,
      "metadata": {
        "id": "b43362e9e12b"
      },
      "outputs": [],
      "source": [
        "! docker stop ts_antandbee"
      ]
    },
    {
      "cell_type": "code",
      "execution_count": null,
      "metadata": {
        "id": "e8e536ec2488"
      },
      "outputs": [],
      "source": [
        "! docker push $custom_container_image_uri_serve"
      ]
    },
    {
      "cell_type": "code",
      "execution_count": null,
      "metadata": {
        "id": "669bb6a349b5"
      },
      "outputs": [],
      "source": [
        "! gcloud container images list --repository $hostname/$PROJECT_ID"
      ]
    },
    {
      "cell_type": "markdown",
      "metadata": {
        "id": "635b375e381b"
      },
      "source": [
        "### Initialize Vertex SDK"
      ]
    },
    {
      "cell_type": "code",
      "execution_count": null,
      "metadata": {
        "id": "ff7f03c7f8f0"
      },
      "outputs": [],
      "source": [
        "! pip install -r requirements.txt"
      ]
    },
    {
      "cell_type": "code",
      "execution_count": null,
      "metadata": {
        "id": "3fdc2238f151"
      },
      "outputs": [],
      "source": [
        "from google.cloud import aiplatform\n",
        "\n",
        "aiplatform.init(\n",
        "    project=PROJECT_ID,\n",
        "    staging_bucket=BUCKET_NAME,\n",
        "    location=REGION,\n",
        ")"
      ]
    },
    {
      "cell_type": "markdown",
      "metadata": {
        "id": "c5020592909e"
      },
      "source": [
        "### Create a Vertex Model with Custom TorchServe Container"
      ]
    },
    {
      "cell_type": "code",
      "execution_count": null,
      "metadata": {
        "id": "04c762356f92"
      },
      "outputs": [],
      "source": [
        "model_display_name = image_name_serve"
      ]
    },
    {
      "cell_type": "code",
      "execution_count": null,
      "metadata": {
        "id": "b3ff6fa9871f"
      },
      "outputs": [],
      "source": [
        "model = aiplatform.Model.upload(\n",
        "    display_name=model_display_name,\n",
        "    serving_container_image_uri=custom_container_image_uri_serve,\n",
        "    serving_container_ports=[8080],\n",
        "    serving_container_predict_route=f\"/predictions/{model_name}\",\n",
        "    serving_container_health_route=\"/ping\",\n",
        ")"
      ]
    },
    {
      "cell_type": "markdown",
      "metadata": {
        "id": "12c79a691111"
      },
      "source": [
        "### Create a Vertex Endpoint for Online Prediction"
      ]
    },
    {
      "cell_type": "code",
      "execution_count": null,
      "metadata": {
        "id": "6f6fcd7a8679"
      },
      "outputs": [],
      "source": [
        "endpoint = model.deploy(\n",
        "    machine_type=\"n1-standard-4\",\n",
        ")"
      ]
    },
    {
      "cell_type": "code",
      "execution_count": null,
      "metadata": {
        "id": "c6d37a551ae8"
      },
      "outputs": [],
      "source": [
        "endpoint.resource_name"
      ]
    },
    {
      "cell_type": "code",
      "execution_count": null,
      "metadata": {
        "id": "fe901b810771"
      },
      "outputs": [],
      "source": [
        "import base64\n",
        "\n",
        "\n",
        "def convert_b64(input_file_name):\n",
        "    \"\"\"Open image and convert it to Base64\"\"\"\n",
        "    with open(input_file_name, \"rb\") as input_file:\n",
        "        jpeg_bytes = base64.b64encode(input_file.read()).decode(\"utf-8\")\n",
        "    return jpeg_bytes"
      ]
    },
    {
      "cell_type": "code",
      "execution_count": null,
      "metadata": {
        "id": "e95c24d9e669"
      },
      "outputs": [],
      "source": [
        "image_file_name = \"./sample.jpg\"\n",
        "instance = {\"data\": {\"b64\": convert_b64(image_file_name)}}\n",
        "prediction = endpoint.predict(instances=[instance])\n",
        "print(prediction)"
      ]
    },
    {
      "cell_type": "markdown",
      "metadata": {
        "id": "e333a95bf3d5"
      },
      "source": [
        "## Clean Up"
      ]
    },
    {
      "cell_type": "code",
      "execution_count": null,
      "metadata": {
        "id": "fc85df59c12a"
      },
      "outputs": [],
      "source": [
        "! gsutil rm -rf $gcs_output_uri_prefix"
      ]
    },
    {
      "cell_type": "code",
      "execution_count": null,
      "metadata": {
        "id": "71a796e0c4cb"
      },
      "outputs": [],
      "source": [
        "! rm sample.jpg\n",
        "! rm sample_b64.json"
      ]
    },
    {
      "cell_type": "code",
      "execution_count": null,
      "metadata": {
        "id": "34b3297361d1"
      },
      "outputs": [],
      "source": [
        "! rm model_server/antandbee.mar"
      ]
    }
  ],
  "metadata": {
    "colab": {
      "name": "vertex_prediction_with_custom_torchserve_container.ipynb",
      "toc_visible": true
    },
    "kernelspec": {
      "display_name": "Python 3",
      "name": "python3"
    }
  },
  "nbformat": 4,
  "nbformat_minor": 0
}
