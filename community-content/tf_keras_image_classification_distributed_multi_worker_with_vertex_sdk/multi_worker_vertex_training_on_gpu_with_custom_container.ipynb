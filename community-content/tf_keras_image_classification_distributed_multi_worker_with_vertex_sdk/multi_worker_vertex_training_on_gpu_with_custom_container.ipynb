{
  "cells": [
    {
      "cell_type": "code",
      "execution_count": null,
      "metadata": {
        "id": "a6b56b1c7b76"
      },
      "outputs": [],
      "source": [
        "# Copyright 2021 Google LLC\n",
        "#\n",
        "# Licensed under the Apache License, Version 2.0 (the \"License\");\n",
        "# you may not use this file except in compliance with the License.\n",
        "# You may obtain a copy of the License at\n",
        "#\n",
        "#     https://www.apache.org/licenses/LICENSE-2.0\n",
        "#\n",
        "# Unless required by applicable law or agreed to in writing, software\n",
        "# distributed under the License is distributed on an \"AS IS\" BASIS,\n",
        "# WITHOUT WARRANTIES OR CONDITIONS OF ANY KIND, either express or implied.\n",
        "# See the License for the specific language governing permissions and\n",
        "# limitations under the License."
      ]
    },
    {
      "cell_type": "markdown",
      "metadata": {
        "id": "e8fc31cbf9f6"
      },
      "source": [
        "# TF-Keras Image Classification Distributed Multi-Worker Training on GPU using Vertex Training with Custom Container"
      ]
    },
    {
      "cell_type": "markdown",
      "metadata": {
        "id": "5825c076e0f8"
      },
      "source": [
        "<table align=\"left\">\n",
        "  <td>\n",
        "    <a href=\"https://github.com/GoogleCloudPlatform/vertex-ai-samples/blob/master/community-content/tf_keras_image_classification_distributed_multi_worker_with_vertex_sdk/multi_worker_vertex_training_on_gpu_with_custom_container.ipynb\">\n",
        "      <img src=\"https://cloud.google.com/ml-engine/images/github-logo-32px.png\" alt=\"GitHub logo\">\n",
        "      View on GitHub\n",
        "    </a>\n",
        "  </td>\n",
        "</table>"
      ]
    },
    {
      "cell_type": "markdown",
      "metadata": {
        "id": "03d216c7f7b1"
      },
      "source": [
        "## Setup"
      ]
    },
    {
      "cell_type": "code",
      "execution_count": null,
      "metadata": {
        "id": "c5ac73516218"
      },
      "outputs": [],
      "source": [
        "PROJECT_ID = \"YOUR PROJECT ID\"\n",
        "BUCKET_NAME = \"gs://YOUR BUCKET NAME\"\n",
        "REGION = \"YOUR REGION\"\n",
        "SERVICE_ACCOUNT = \"YOUR SERVICE ACCOUNT\""
      ]
    },
    {
      "cell_type": "code",
      "execution_count": null,
      "metadata": {
        "id": "a5f0c3700b8e"
      },
      "outputs": [],
      "source": [
        "content_name = \"tf-keras-img-cls-dist-multi-worker-gpu-cust-cont\""
      ]
    },
    {
      "cell_type": "markdown",
      "metadata": {
        "id": "070e602ded80"
      },
      "source": [
        "## Vertex Training using Vertex SDK and Custom Container"
      ]
    },
    {
      "cell_type": "markdown",
      "metadata": {
        "id": "99b9c8546a46"
      },
      "source": [
        "### Build Custom Container"
      ]
    },
    {
      "cell_type": "code",
      "execution_count": null,
      "metadata": {
        "id": "f5196e294db6"
      },
      "outputs": [],
      "source": [
        "hostname = \"gcr.io\"\n",
        "image_name = content_name\n",
        "tag = \"latest\"\n",
        "\n",
        "custom_container_image_uri = f\"{hostname}/{PROJECT_ID}/{image_name}:{tag}\""
      ]
    },
    {
      "cell_type": "code",
      "execution_count": null,
      "metadata": {
        "id": "c24b9a97df06"
      },
      "outputs": [],
      "source": [
        "! cd trainer && docker build -t $custom_container_image_uri -f gpu.Dockerfile ."
      ]
    },
    {
      "cell_type": "code",
      "execution_count": null,
      "metadata": {
        "id": "66ac893a871b"
      },
      "outputs": [],
      "source": [
        "! docker run --rm $custom_container_image_uri --epochs 2 --local-mode"
      ]
    },
    {
      "cell_type": "code",
      "execution_count": null,
      "metadata": {
        "id": "d131ee61bfca"
      },
      "outputs": [],
      "source": [
        "! docker push $custom_container_image_uri"
      ]
    },
    {
      "cell_type": "code",
      "execution_count": null,
      "metadata": {
        "id": "bc5682081ee8"
      },
      "outputs": [],
      "source": [
        "! gcloud container images list --repository $hostname/$PROJECT_ID"
      ]
    },
    {
      "cell_type": "markdown",
      "metadata": {
        "id": "8b9c18d51ddf"
      },
      "source": [
        "### Initialize Vertex SDK"
      ]
    },
    {
      "cell_type": "code",
      "execution_count": null,
      "metadata": {
        "id": "cfee2f165779"
      },
      "outputs": [],
      "source": [
        "! pip install -r requirements.txt"
      ]
    },
    {
      "cell_type": "code",
      "execution_count": null,
      "metadata": {
        "id": "b542a33f1782"
      },
      "outputs": [],
      "source": [
        "from google.cloud import aiplatform\n",
        "\n",
        "aiplatform.init(\n",
        "    project=PROJECT_ID,\n",
        "    staging_bucket=BUCKET_NAME,\n",
        "    location=REGION,\n",
        ")"
      ]
    },
    {
      "cell_type": "markdown",
      "metadata": {
        "id": "a0f25261a58c"
      },
      "source": [
        "### Create a Vertex Tensorboard Instance"
      ]
    },
    {
      "cell_type": "code",
      "execution_count": null,
      "metadata": {
        "id": "abacc13094c9"
      },
      "outputs": [],
      "source": [
        "tensorboard = aiplatform.Tensorboard.create(\n",
        "    display_name=content_name,\n",
        ")"
      ]
    },
    {
      "cell_type": "markdown",
      "metadata": {
        "id": "77ca3177b71e"
      },
      "source": [
        "#### Option: Use a Previously Created Vertex Tensorboard Instance\n",
        "\n",
        "```\n",
        "tensorboard_name = \"Your Tensorboard Resource Name or Tensorboard ID\"\n",
        "tensorboard = aiplatform.Tensorboard(tensorboard_name=tensorboard_name)\n",
        "```"
      ]
    },
    {
      "cell_type": "markdown",
      "metadata": {
        "id": "f1733451a790"
      },
      "source": [
        "### Run a Vertex SDK CustomContainerTrainingJob"
      ]
    },
    {
      "cell_type": "code",
      "execution_count": null,
      "metadata": {
        "id": "3e29b50a65d3"
      },
      "outputs": [],
      "source": [
        "display_name = content_name\n",
        "gcs_output_uri_prefix = f\"{BUCKET_NAME}/{display_name}\"\n",
        "\n",
        "replica_count = 4\n",
        "machine_type = \"n1-standard-4\"\n",
        "accelerator_count = 1\n",
        "accelerator_type = \"NVIDIA_TESLA_K80\"\n",
        "\n",
        "container_args = [\n",
        "    \"--epochs\",\n",
        "    \"50\",\n",
        "    \"--batch-size\",\n",
        "    \"32\",\n",
        "]"
      ]
    },
    {
      "cell_type": "code",
      "execution_count": null,
      "metadata": {
        "id": "23ceccc746f5"
      },
      "outputs": [],
      "source": [
        "custom_container_training_job = aiplatform.CustomContainerTrainingJob(\n",
        "    display_name=display_name,\n",
        "    container_uri=custom_container_image_uri,\n",
        ")"
      ]
    },
    {
      "cell_type": "code",
      "execution_count": null,
      "metadata": {
        "id": "239e58fe141d"
      },
      "outputs": [],
      "source": [
        "custom_container_training_job.run(\n",
        "    args=container_args,\n",
        "    base_output_dir=gcs_output_uri_prefix,\n",
        "    replica_count=replica_count,\n",
        "    machine_type=machine_type,\n",
        "    accelerator_type=accelerator_type,\n",
        "    accelerator_count=accelerator_count,\n",
        "    tensorboard=tensorboard.resource_name,\n",
        "    service_account=SERVICE_ACCOUNT,\n",
        ")"
      ]
    },
    {
      "cell_type": "code",
      "execution_count": null,
      "metadata": {
        "id": "e35aa8a39a11"
      },
      "outputs": [],
      "source": [
        "print(f\"Custom Training Job Name: {custom_container_training_job.resource_name}\")\n",
        "print(f\"GCS Output URI Prefix: {gcs_output_uri_prefix}\")"
      ]
    },
    {
      "cell_type": "markdown",
      "metadata": {
        "id": "40118a4bb0de"
      },
      "source": [
        "### Training Output Artifact"
      ]
    },
    {
      "cell_type": "code",
      "execution_count": null,
      "metadata": {
        "id": "6d414dfc4585"
      },
      "outputs": [],
      "source": [
        "! gsutil ls $gcs_output_uri_prefix"
      ]
    },
    {
      "cell_type": "markdown",
      "metadata": {
        "id": "77cd165390f9"
      },
      "source": [
        "## Clean Up Artifact"
      ]
    },
    {
      "cell_type": "code",
      "execution_count": null,
      "metadata": {
        "id": "9b73b8cb646d"
      },
      "outputs": [],
      "source": [
        "! gsutil rm -rf $gcs_output_uri_prefix"
      ]
    }
  ],
  "metadata": {
    "colab": {
      "name": "multi_worker_vertex_training_on_gpu_with_custom_container.ipynb",
      "toc_visible": true
    },
    "kernelspec": {
      "display_name": "Python 3",
      "name": "python3"
    }
  },
  "nbformat": 4,
  "nbformat_minor": 0
}
