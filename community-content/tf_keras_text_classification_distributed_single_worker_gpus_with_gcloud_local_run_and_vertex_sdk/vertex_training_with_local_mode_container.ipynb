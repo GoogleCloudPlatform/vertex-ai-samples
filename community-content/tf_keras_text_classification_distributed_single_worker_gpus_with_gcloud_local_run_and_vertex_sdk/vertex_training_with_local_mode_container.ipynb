{
  "cells": [
    {
      "cell_type": "code",
      "execution_count": null,
      "metadata": {
        "id": "a6b56b1c7b76"
      },
      "outputs": [],
      "source": [
        "# Copyright 2022 Google LLC\n",
        "#\n",
        "# Licensed under the Apache License, Version 2.0 (the \"License\");\n",
        "# you may not use this file except in compliance with the License.\n",
        "# You may obtain a copy of the License at\n",
        "#\n",
        "#     https://www.apache.org/licenses/LICENSE-2.0\n",
        "#\n",
        "# Unless required by applicable law or agreed to in writing, software\n",
        "# distributed under the License is distributed on an \"AS IS\" BASIS,\n",
        "# WITHOUT WARRANTIES OR CONDITIONS OF ANY KIND, either express or implied.\n",
        "# See the License for the specific language governing permissions and\n",
        "# limitations under the License."
      ]
    },
    {
      "cell_type": "markdown",
      "metadata": {
        "id": "745ff8aea147"
      },
      "source": [
        "# TF-Keras Text Classification Distributed Single Worker GPUs using Vertex Training with Local Mode Container"
      ]
    },
    {
      "cell_type": "markdown",
      "metadata": {
        "id": "a20c6440f341"
      },
      "source": [
        "<table align=\"left\">\n",
        "  <td>\n",
        "    <a href=\"https://github.com/GoogleCloudPlatform/vertex-ai-samples/blob/master/community-content/tf_keras_text_classification_distributed_single_worker_gpus_with_gcloud_local_run_and_vertex_sdk/vertex_training_with_local_mode_container.ipynb\">\n",
        "      <img src=\"https://cloud.google.com/ml-engine/images/github-logo-32px.png\" alt=\"GitHub logo\">\n",
        "      View on GitHub\n",
        "    </a>\n",
        "  </td>\n",
        "</table>"
      ]
    },
    {
      "cell_type": "markdown",
      "metadata": {
        "id": "03d216c7f7b1"
      },
      "source": [
        "## Setup"
      ]
    },
    {
      "cell_type": "code",
      "execution_count": null,
      "metadata": {
        "id": "c5ac73516218"
      },
      "outputs": [],
      "source": [
        "PROJECT_ID = \"YOUR PROJECT ID\"\n",
        "BUCKET_NAME = \"gs://YOUR BUCKET NAME\"\n",
        "REGION = \"YOUR REGION\"\n",
        "SERVICE_ACCOUNT = \"YOUR SERVICE ACCOUNT\""
      ]
    },
    {
      "cell_type": "code",
      "execution_count": null,
      "metadata": {
        "id": "1c71d07625f5"
      },
      "outputs": [],
      "source": [
        "content_name = \"tf-keras-txt-cls-dist-single-worker-gpus-local-mode-cont\""
      ]
    },
    {
      "cell_type": "markdown",
      "metadata": {
        "id": "378392e0adb9"
      },
      "source": [
        "## Local Training with Vertex Local Mode and Auto Packaging"
      ]
    },
    {
      "cell_type": "code",
      "execution_count": null,
      "metadata": {
        "id": "05f8e4885312"
      },
      "outputs": [],
      "source": [
        "BASE_IMAGE_URI = \"us-docker.pkg.dev/vertex-ai/training/tf-gpu.2-5:latest\"\n",
        "SCRIPT_PATH = \"trainer/task.py\"\n",
        "OUTPUT_IMAGE_NAME = \"gcr.io/{}/{}:latest\".format(PROJECT_ID, content_name)\n",
        "ARGS = \"--epochs 5 --batch-size 16 --local-mode\""
      ]
    },
    {
      "cell_type": "code",
      "execution_count": null,
      "metadata": {
        "id": "b45a98212ef5"
      },
      "outputs": [],
      "source": [
        "! gcloud ai custom-jobs local-run \\\n",
        "  --executor-image-uri=$BASE_IMAGE_URI \\\n",
        "  --script=$SCRIPT_PATH \\\n",
        "  --output-image-uri=$OUTPUT_IMAGE_NAME \\\n",
        "  -- \\\n",
        "  $ARGS"
      ]
    },
    {
      "cell_type": "markdown",
      "metadata": {
        "id": "cbd77cb4193c"
      },
      "source": [
        "## Vertex Training using Vertex SDK and Vertex Local Mode Container"
      ]
    },
    {
      "cell_type": "markdown",
      "metadata": {
        "id": "c8b69c5e3dd4"
      },
      "source": [
        "### Container Built by Vertex Local Mode"
      ]
    },
    {
      "cell_type": "code",
      "execution_count": null,
      "metadata": {
        "id": "4869e0d1657b"
      },
      "outputs": [],
      "source": [
        "custom_container_image_uri = OUTPUT_IMAGE_NAME"
      ]
    },
    {
      "cell_type": "code",
      "execution_count": null,
      "metadata": {
        "id": "d53296526bde"
      },
      "outputs": [],
      "source": [
        "! docker push $custom_container_image_uri"
      ]
    },
    {
      "cell_type": "code",
      "execution_count": null,
      "metadata": {
        "id": "eb193581654a"
      },
      "outputs": [],
      "source": [
        "! gcloud container images list --repository \"gcr.io\"/$PROJECT_ID"
      ]
    },
    {
      "cell_type": "markdown",
      "metadata": {
        "id": "f5b907c91ea6"
      },
      "source": [
        "### Initialize Vertex SDK"
      ]
    },
    {
      "cell_type": "code",
      "execution_count": null,
      "metadata": {
        "id": "fbfec07eaea4"
      },
      "outputs": [],
      "source": [
        "! pip install -r requirements.txt"
      ]
    },
    {
      "cell_type": "code",
      "execution_count": null,
      "metadata": {
        "id": "8fcf24c75bcd"
      },
      "outputs": [],
      "source": [
        "from google.cloud import aiplatform\n",
        "\n",
        "aiplatform.init(\n",
        "    project=PROJECT_ID,\n",
        "    staging_bucket=BUCKET_NAME,\n",
        "    location=REGION,\n",
        ")"
      ]
    },
    {
      "cell_type": "markdown",
      "metadata": {
        "id": "b68b79268025"
      },
      "source": [
        "### Create a Vertex Tensorboard Instance"
      ]
    },
    {
      "cell_type": "code",
      "execution_count": null,
      "metadata": {
        "id": "7577c86757ab"
      },
      "outputs": [],
      "source": [
        "tensorboard = aiplatform.Tensorboard.create(\n",
        "    display_name=content_name,\n",
        ")"
      ]
    },
    {
      "cell_type": "markdown",
      "metadata": {
        "id": "2a327cb1722d"
      },
      "source": [
        "#### Option: Use a Previously Created Vertex Tensorboard Instance\n",
        "\n",
        "```\n",
        "tensorboard_name = \"Your Tensorboard Resource Name or Tensorboard ID\"\n",
        "tensorboard = aiplatform.Tensorboard(tensorboard_name=tensorboard_name)\n",
        "```"
      ]
    },
    {
      "cell_type": "markdown",
      "metadata": {
        "id": "2e1069a8f7e2"
      },
      "source": [
        "### Run a Vertex SDK CustomContainerTrainingJob"
      ]
    },
    {
      "cell_type": "code",
      "execution_count": null,
      "metadata": {
        "id": "d7f0043d3e9b"
      },
      "outputs": [],
      "source": [
        "display_name = content_name\n",
        "gcs_output_uri_prefix = f\"{BUCKET_NAME}/{display_name}\"\n",
        "\n",
        "machine_type = \"n1-standard-8\"\n",
        "accelerator_count = 4\n",
        "accelerator_type = \"NVIDIA_TESLA_P100\"\n",
        "\n",
        "args = [\n",
        "    \"--epochs\",\n",
        "    \"100\",\n",
        "    \"--batch-size\",\n",
        "    \"128\",\n",
        "    \"--num-gpus\",\n",
        "    f\"{accelerator_count}\",\n",
        "]"
      ]
    },
    {
      "cell_type": "code",
      "execution_count": null,
      "metadata": {
        "id": "69c88c73bb5d"
      },
      "outputs": [],
      "source": [
        "custom_container_training_job = aiplatform.CustomContainerTrainingJob(\n",
        "    display_name=display_name,\n",
        "    container_uri=custom_container_image_uri,\n",
        ")"
      ]
    },
    {
      "cell_type": "code",
      "execution_count": null,
      "metadata": {
        "id": "947dd755cdc8"
      },
      "outputs": [],
      "source": [
        "custom_container_training_job.run(\n",
        "    args=args,\n",
        "    base_output_dir=gcs_output_uri_prefix,\n",
        "    machine_type=machine_type,\n",
        "    accelerator_type=accelerator_type,\n",
        "    accelerator_count=accelerator_count,\n",
        "    tensorboard=tensorboard.resource_name,\n",
        "    service_account=SERVICE_ACCOUNT,\n",
        ")"
      ]
    },
    {
      "cell_type": "code",
      "execution_count": null,
      "metadata": {
        "id": "703e297f83fe"
      },
      "outputs": [],
      "source": [
        "print(f\"Custom Training Job Name: {custom_container_training_job.resource_name}\")\n",
        "print(f\"GCS Output URI Prefix: {gcs_output_uri_prefix}\")"
      ]
    },
    {
      "cell_type": "markdown",
      "metadata": {
        "id": "d459452eca40"
      },
      "source": [
        "### Training Output Artifact"
      ]
    },
    {
      "cell_type": "code",
      "execution_count": null,
      "metadata": {
        "id": "d02a5890a4af"
      },
      "outputs": [],
      "source": [
        "! gsutil ls $gcs_output_uri_prefix"
      ]
    },
    {
      "cell_type": "markdown",
      "metadata": {
        "id": "545fe0dbe7c4"
      },
      "source": [
        "## Clean Up Artifact"
      ]
    },
    {
      "cell_type": "code",
      "execution_count": null,
      "metadata": {
        "id": "b86c0fe8028e"
      },
      "outputs": [],
      "source": [
        "! gsutil rm -rf $gcs_output_uri_prefix"
      ]
    }
  ],
  "metadata": {
    "colab": {
      "name": "vertex_training_with_local_mode_container.ipynb",
      "toc_visible": true
    },
    "kernelspec": {
      "display_name": "Python 3",
      "name": "python3"
    }
  },
  "nbformat": 4,
  "nbformat_minor": 0
}
