{
 "cells": [
  {
   "cell_type": "markdown",
   "metadata": {},
   "source": [
    "# Create and run a custom Vertex AI Training Job from a local script"
   ]
  },
  {
   "cell_type": "markdown",
   "metadata": {},
   "source": [
    "## Install Vertex AI Python Client"
   ]
  },
  {
   "cell_type": "code",
   "execution_count": null,
   "metadata": {},
   "outputs": [],
   "source": [
    "!pip install -r requirements.txt --upgrade"
   ]
  },
  {
   "cell_type": "markdown",
   "metadata": {},
   "source": [
    "## GCP authentication"
   ]
  },
  {
   "cell_type": "code",
   "execution_count": null,
   "metadata": {},
   "outputs": [],
   "source": [
    "import os\n",
    "os.environ[\"GOOGLE_APPLICATION_CREDENTIALS\"]= \"\" # TODO: path to credentials .json file"
   ]
  },
  {
   "cell_type": "markdown",
   "metadata": {},
   "source": [
    "## Create the custom Vertex AI Training Job"
   ]
  },
  {
   "cell_type": "code",
   "execution_count": null,
   "metadata": {},
   "outputs": [],
   "source": [
    "# Import the Vertex AI SDK (Python Client)\n",
    "from google.cloud import aiplatform"
   ]
  },
  {
   "cell_type": "code",
   "execution_count": null,
   "metadata": {},
   "outputs": [],
   "source": [
    "# Project meta data\n",
    "PROJECT_ID=\"\" # TODO\n",
    "LOCATION= \"\" # TODO\n",
    "\n",
    "# Variables for specifying the job\n",
    "DISPLAY_NAME=\"\" # TODO: How the job is displayed on Vertex AI GUI\n",
    "SCRIPT_PATH=\"./task.py\" # Path to local training script\n",
    "STAGING_BUCKET= \"\" # TODO GCS URI where meta data and artifacts are stored for this job\n",
    "MODEL_TRAINING_IMAGE=\"europe-docker.pkg.dev/vertex-ai/training/scikit-learn-cpu.0-23:latest\" # Pre-built training image\n",
    "REQUIREMENTS = [\"wget\"] # Additional requirements not already part of the base image\n",
    "# !Required if the Training Pipeline produces a managed Vertex AI Model!\n",
    "MODEL_SERVING_IMAGE=\"europe-docker.pkg.dev/vertex-ai/prediction/sklearn-cpu.0-23:latest\" # Pre-built serving image"
   ]
  },
  {
   "cell_type": "code",
   "execution_count": null,
   "metadata": {},
   "outputs": [],
   "source": [
    "# Job definition\n",
    "custom_training_job = aiplatform.CustomTrainingJob(\n",
    "    project=PROJECT_ID,\n",
    "    location=LOCATION,\n",
    "    display_name=DISPLAY_NAME,\n",
    "    script_path=SCRIPT_PATH,\n",
    "    staging_bucket=STAGING_BUCKET,\n",
    "    container_uri=MODEL_TRAINING_IMAGE,\n",
    "    requirements=REQUIREMENTS,\n",
    "    model_serving_container_image_uri=MODEL_SERVING_IMAGE\n",
    ")"
   ]
  },
  {
   "cell_type": "code",
   "execution_count": null,
   "metadata": {},
   "outputs": [],
   "source": [
    "# Variables for running the job\n",
    "MACHINE_TYPE=\"n1-standard-4\" # Standard VM with 4 CPUs\n",
    "# !Required if the Training Pipeline produces a managed Vertex AI Model!\n",
    "MODEL_DISPLAY_NAME=\"\" # TODO: Name for the resulting managed Vertex AI Model.\n",
    "                      # Note that a single job may produce multiple models (e.g. one per run)\n",
    "DATASET_URL=\"\" # TODO: Our script accepts an argument --dataset_url\n",
    "               # To specify the url to download the training data from."
   ]
  },
  {
   "cell_type": "code",
   "execution_count": null,
   "metadata": {},
   "outputs": [],
   "source": [
    "# Run the job\n",
    "model = custom_training_job.run(\n",
    "    machine_type=MACHINE_TYPE,\n",
    "    model_display_name=MODEL_DISPLAY_NAME, \n",
    "    args=[\n",
    "        f\"--dataset_url={DATASET_URL}\",\n",
    "        f\"--project_id={PROJECT_ID}\"\n",
    "    ]\n",
    ")"
   ]
  },
  {
   "cell_type": "code",
   "execution_count": null,
   "metadata": {},
   "outputs": [],
   "source": [
    "model"
   ]
  }
 ],
 "metadata": {
  "interpreter": {
   "hash": "77ea5e1ea169fe0e34919052d36b7680f3bfc6cf6bc7513c48a08efa02604949"
  },
  "kernelspec": {
   "display_name": "Python 3.7.11 64-bit ('hackathon': conda)",
   "name": "python3"
  },
  "language_info": {
   "codemirror_mode": {
    "name": "ipython",
    "version": 3
   },
   "file_extension": ".py",
   "mimetype": "text/x-python",
   "name": "python",
   "nbconvert_exporter": "python",
   "pygments_lexer": "ipython3",
   "version": "3.7.11"
  },
  "orig_nbformat": 4
 },
 "nbformat": 4,
 "nbformat_minor": 2
}
