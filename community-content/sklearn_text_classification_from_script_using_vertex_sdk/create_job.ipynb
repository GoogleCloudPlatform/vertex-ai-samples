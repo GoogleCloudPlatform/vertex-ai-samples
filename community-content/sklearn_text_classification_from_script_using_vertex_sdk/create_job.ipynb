{
  "cells": [
    {
      "cell_type": "markdown",
      "metadata": {
        "id": "72b875d67303"
      },
      "source": [
        "# Create and run a custom Vertex AI Training Job from a local script"
      ]
    },
    {
      "cell_type": "markdown",
      "metadata": {
        "id": "398b976f501e"
      },
      "source": [
        "## Install Vertex AI Python Client"
      ]
    },
    {
      "cell_type": "code",
      "execution_count": null,
      "metadata": {
        "id": "2162adc1d8fe"
      },
      "outputs": [],
      "source": [
        "!pip install -r requirements.txt --upgrade"
      ]
    },
    {
      "cell_type": "markdown",
      "metadata": {
        "id": "d4bf4ab70e65"
      },
      "source": [
        "## GCP authentication"
      ]
    },
    {
      "cell_type": "code",
      "execution_count": null,
      "metadata": {
        "id": "41084de2e96a"
      },
      "outputs": [],
      "source": [
        "import os\n",
        "\n",
        "os.environ[\n",
        "    \"GOOGLE_APPLICATION_CREDENTIALS\"\n",
        "] = \"\"  # TODO: path to credentials .json file"
      ]
    },
    {
      "cell_type": "markdown",
      "metadata": {
        "id": "1ce7efb99a95"
      },
      "source": [
        "## Create the custom Vertex AI Training Job\n",
        "\n",
        "1. Define the custom job parameters\n",
        "2. Submit the job to create a `Vertex AI Model`"
      ]
    },
    {
      "cell_type": "code",
      "execution_count": null,
      "metadata": {
        "id": "c04b9efb5eb3"
      },
      "outputs": [],
      "source": [
        "# Import the Vertex AI SDK (Python Client)\n",
        "from google.cloud import aiplatform"
      ]
    },
    {
      "cell_type": "code",
      "execution_count": null,
      "metadata": {
        "id": "b56f5fdcefd6"
      },
      "outputs": [],
      "source": [
        "# Project meta data\n",
        "PROJECT_ID = \"\"  # TODO\n",
        "REGION = \"\"  # TODO e.g. europe\n",
        "ZONE = \"\"  # TODO e.g. west4\n",
        "LOCATION = f\"{REGION}-{ZONE}\""
      ]
    },
    {
      "cell_type": "code",
      "execution_count": null,
      "metadata": {
        "id": "4af8cfb1e1a1"
      },
      "outputs": [],
      "source": [
        "aiplatform.init(project=PROJECT_ID, location=LOCATION)"
      ]
    },
    {
      "cell_type": "code",
      "execution_count": null,
      "metadata": {
        "id": "e23d0161b489"
      },
      "outputs": [],
      "source": [
        "# Variables for specifying the job\n",
        "DISPLAY_NAME = (\n",
        "    \"news-classifier-training\"  # TODO: How the job is displayed on Vertex AI GUI\n",
        ")\n",
        "SCRIPT_PATH = \"./task.py\"  # Path to local training script\n",
        "STAGING_BUCKET = (\n",
        "    \"\"  # TODO GCS URI where meta data and artifacts are stored for this job\n",
        ")\n",
        "MODEL_TRAINING_IMAGE = f\"{REGION}-docker.pkg.dev/vertex-ai/training/scikit-learn-cpu.0-23:latest\"  # Pre-built training image\n",
        "REQUIREMENTS = [\"wget\"]  # Additional requirements not already part of the base image\n",
        "# !Required if the Training Pipeline produces a managed Vertex AI Model!\n",
        "MODEL_SERVING_IMAGE = f\"{REGION}-docker.pkg.dev/vertex-ai/prediction/sklearn-cpu.0-23:latest\"  # Pre-built serving image"
      ]
    },
    {
      "cell_type": "code",
      "execution_count": null,
      "metadata": {
        "id": "61565ec3e6de"
      },
      "outputs": [],
      "source": [
        "# Job definition\n",
        "custom_training_job = aiplatform.CustomTrainingJob(\n",
        "    project=PROJECT_ID,\n",
        "    location=LOCATION,\n",
        "    display_name=DISPLAY_NAME,\n",
        "    script_path=SCRIPT_PATH,\n",
        "    staging_bucket=STAGING_BUCKET,\n",
        "    container_uri=MODEL_TRAINING_IMAGE,\n",
        "    requirements=REQUIREMENTS,\n",
        "    model_serving_container_image_uri=MODEL_SERVING_IMAGE,\n",
        ")"
      ]
    },
    {
      "cell_type": "code",
      "execution_count": null,
      "metadata": {
        "id": "8c8d4bd78688"
      },
      "outputs": [],
      "source": [
        "# Variables for running the job\n",
        "MACHINE_TYPE = \"n1-standard-4\"  # Standard VM with 4 CPUs\n",
        "# !Required if the Training Pipeline produces a managed Vertex AI Model!\n",
        "MODEL_DISPLAY_NAME = (\n",
        "    \"news-classifier-model\"  # TODO: Name for the resulting managed Vertex AI Model.\n",
        ")\n",
        "# Note that a single job may produce multiple models (e.g. one per run).\n",
        "# The url to download the training data from.\n",
        "DATASET_URL = \"https://archive.ics.uci.edu/ml/machine-learning-databases/00359/NewsAggregatorDataset.zip\""
      ]
    },
    {
      "cell_type": "code",
      "execution_count": null,
      "metadata": {
        "id": "13d31a7d0bb5"
      },
      "outputs": [],
      "source": [
        "# Run the job\n",
        "model = custom_training_job.run(\n",
        "    machine_type=MACHINE_TYPE,\n",
        "    model_display_name=MODEL_DISPLAY_NAME,\n",
        "    args=[f\"--dataset_url={DATASET_URL}\", f\"--project_id={PROJECT_ID}\"],\n",
        ")"
      ]
    },
    {
      "cell_type": "code",
      "execution_count": null,
      "metadata": {
        "id": "8026ac119722"
      },
      "outputs": [],
      "source": [
        "MODEL_RESOURCE_NAME = model.resource_name"
      ]
    },
    {
      "cell_type": "markdown",
      "metadata": {
        "id": "2d985fca37f3"
      },
      "source": [
        "## Deploy model to Vertex AI Endpoint\n",
        "\n",
        "1. Retrieve the registered `Vertex AI Model`\n",
        "2. Deploy the model to a new `Vertex AI Endpoint`\n",
        "3. Get some test predictions from the endpoint"
      ]
    },
    {
      "cell_type": "code",
      "execution_count": null,
      "metadata": {
        "id": "58c08631f94c"
      },
      "outputs": [],
      "source": [
        "ENDPOINT_DISPLAY_NAME = \"news-classifier-endpoint\"  # TODO\n",
        "MACHINE_TYPE_SERVING = \"n1-standard-2\""
      ]
    },
    {
      "cell_type": "code",
      "execution_count": null,
      "metadata": {
        "id": "b54867240880"
      },
      "outputs": [],
      "source": [
        "endpoint = aiplatform.Endpoint.create(\n",
        "    display_name=ENDPOINT_DISPLAY_NAME,\n",
        "    location=LOCATION,\n",
        "    project=PROJECT_ID,\n",
        ")"
      ]
    },
    {
      "cell_type": "code",
      "execution_count": null,
      "metadata": {
        "id": "a76e7c721b88"
      },
      "outputs": [],
      "source": [
        "model = aiplatform.Model(model_name=MODEL_RESOURCE_NAME)"
      ]
    },
    {
      "cell_type": "code",
      "execution_count": null,
      "metadata": {
        "id": "d06714302f81"
      },
      "outputs": [],
      "source": [
        "model.deploy(\n",
        "    endpoint=endpoint,\n",
        "    deployed_model_display_name=MODEL_DISPLAY_NAME,\n",
        "    machine_type=MACHINE_TYPE,\n",
        "    traffic_percentage=100,\n",
        "    min_replica_count=1,\n",
        "    max_replica_count=1,\n",
        "    accelerator_type=None,\n",
        "    accelerator_count=None,\n",
        ")"
      ]
    },
    {
      "cell_type": "code",
      "execution_count": null,
      "metadata": {
        "id": "5b7eca31d80e"
      },
      "outputs": [],
      "source": [
        "endpoint.predict(instances={\"instances\": [\"A news headline to be classified\"]})"
      ]
    }
  ],
  "metadata": {
    "colab": {
      "name": "create_job.ipynb",
      "toc_visible": true
    },
    "kernelspec": {
      "display_name": "Python 3",
      "name": "python3"
    }
  },
  "nbformat": 4,
  "nbformat_minor": 0
}
