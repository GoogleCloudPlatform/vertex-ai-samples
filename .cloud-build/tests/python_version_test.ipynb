{
  "cells": [
    {
      "cell_type": "markdown",
      "metadata": {
        "id": "57a3d44ed8a8"
      },
      "source": [
        "### Set up your Google Cloud project\n",
        "\n",
        "**_NOTE_**: This notebook has been tested in the following environment:\n",
        "\n",
        "* Python version = 3.7\n",
        "\n",
        "**The following steps are required, regardless of your notebook environment.**\n",
        "\n",
        "1. [Select or create a Google Cloud project](https://console.cloud.google.com/cloud-resource-manager). When you first create an account, you get a $300 free credit towards your compute/storage costs.\n",
        "\n",
        "1. [Make sure that billing is enabled for your project](https://cloud.google.com/billing/docs/how-to/modify-project).\n",
        "\n",
        "1. [Enable the Vertex AI API and Compute Engine API](https://console.cloud.google.com/flows/enableapi?apiid=aiplatform.googleapis.com,compute_component).\n",
        "\n",
        "1. If you are running this notebook locally, you will need to install the [Cloud SDK](https://cloud.google.com/sdk).\n",
        "\n",
        "1. Enter your project ID in the cell below. Then run the cell to make sure the\n",
        "Cloud SDK uses the right project for all the commands in this notebook.\n",
        "\n",
        "**Note**: Jupyter runs lines prefixed with `!` as shell commands, and it interpolates Python variables prefixed with `$` into these commands."
      ]
    },
    {
      "cell_type": "code",
      "execution_count": null,
      "metadata": {
        "id": "c6516f90311b"
      },
      "outputs": [],
      "source": [
        "# test if the right python version is being used\n",
        "import sys\n",
        "\n",
        "actual_python_version = f\"{sys.version_info.major}.{sys.version_info.minor}\"\n",
        "print(f\"Runtime python version: {actual_python_version}\")\n",
        "\n",
        "assert actual_python_version == \"3.7\", \"Wrong python version!\""
      ]
    }
  ],
  "metadata": {
    "colab": {
      "name": "python_version_test.ipynb",
      "toc_visible": true
    },
    "kernelspec": {
      "display_name": "Python 3",
      "name": "python3"
    }
  },
  "nbformat": 4,
  "nbformat_minor": 0
}
