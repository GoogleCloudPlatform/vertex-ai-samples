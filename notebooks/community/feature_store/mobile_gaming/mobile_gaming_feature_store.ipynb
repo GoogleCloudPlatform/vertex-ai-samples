{
  "cells": [
    {
      "cell_type": "code",
      "execution_count": null,
      "metadata": {
        "id": "ur8xi4C7S06n"
      },
      "outputs": [],
      "source": [
        "# Copyright 2022 Google LLC\n",
        "#\n",
        "# Licensed under the Apache License, Version 2.0 (the \"License\");\n",
        "# you may not use this file except in compliance with the License.\n",
        "# You may obtain a copy of the License at\n",
        "#\n",
        "#     https://www.apache.org/licenses/LICENSE-2.0\n",
        "#\n",
        "# Unless required by applicable law or agreed to in writing, software\n",
        "# distributed under the License is distributed on an \"AS IS\" BASIS,\n",
        "# WITHOUT WARRANTIES OR CONDITIONS OF ANY KIND, either express or implied.\n",
        "# See the License for the specific language governing permissions and\n",
        "# limitations under the License."
      ]
    },
    {
      "cell_type": "markdown",
      "metadata": {
        "id": "JAPoU8Sm5E6e"
      },
      "source": [
        "<table align=\"left\">\n",
        "\n",
        "  <td>\n",
        "    <a href=\"https://colab.research.google.com/github/vertex-ai-samples/blob/main/notebooks/community/feature_store/mobile_gaming/mobile_gaming_feature_store.ipynb\">\n",
        "      <img src=\"https://cloud.google.com/ml-engine/images/colab-logo-32px.png\" alt=\"Colab logo\"> Run in Colab\n",
        "    </a>\n",
        "  </td>\n",
        "  <td>\n",
        "    <a href=\"https://github.com/GoogleCloudPlatform/vertex-ai-samples/blob/main/notebooks/community/feature_store/mobile_gaming/mobile_gaming_feature_store.ipynb\">\n",
        "      <img src=\"https://cloud.google.com/ml-engine/images/github-logo-32px.png\" alt=\"GitHub logo\">\n",
        "      View on GitHub\n",
        "    </a>\n",
        "  </td>\n",
        "  <td>\n",
        "    <a href=\"https://console.cloud.google.com/vertex-ai/workbench/deploy-notebook?download_url=https://raw.githubusercontent.com/GoogleCloudPlatform/vertex-ai-samples/blob/main/notebooks/community/feature_store/mobile_gaming/mobile_gaming_feature_store.ipynb\">\n",
        "      <img src=\"https://lh3.googleusercontent.com/UiNooY4LUgW_oTvpsNhPpQzsstV5W8F7rYgxgGBD85cWJoLmrOzhVs_ksK_vgx40SHs7jCqkTkCk=e14-rj-sc0xffffff-h130-w32\" alt=\"Vertex AI logo\">\n",
        "      Open in Vertex AI Workbench\n",
        "    </a>\n",
        "  </td>                                                                                               \n",
        "</table>\n"
      ]
    },
    {
      "cell_type": "markdown",
      "metadata": {
        "id": "tvgnzT1CKxrO"
      },
      "source": [
        "## Overview\n",
        " \n",
        "Imagine you are a member of the Data Science team working on the same Mobile Gaming application reported in the [Churn prediction for game developers using Google Analytics 4 (GA4) and BigQuery ML](https://cloud.google.com/blog/topics/developers-practitioners/churn-prediction-game-developers-using-google-analytics-4-ga4-and-bigquery-ml) blog post.\n",
        " \n",
        "Business wants to use that information in real-time to take immediate intervention actions in-game to prevent churn. In particular, for each player, they want to provide gaming incentives like new items or bonus packs depending on the customer demographic,  behavioral information and the resulting propensity of return.\n",
        " \n",
        "Last year, Google Cloud announced Vertex AI, a managed machine learning (ML) platform that allows data science teams to accelerate the deployment and maintenance of ML models. One of the platform building blocks is Vertex AI Feature store which provides a managed service for low latency scalable feature serving. Also it is a centralized feature repository with easy APIs to search & discover features and feature monitoring capabilities to track drift and other quality issues.\n",
        " \n",
        "In this notebook, we will show how the role of Vertex AI Feature Store in a ready to production scenario when the user's activities within the first 24 hours of last engagement and the gaming platform would consume in order to improve UX. Below you can find the high level picture of the system\n",
        " \n",
        "<img src=\"./assets/mobile_gaming_architecture_1.png\">\n",
        " \n",
        " \n",
        "### Dataset\n",
        " \n",
        "The dataset is the public sample export data from an actual mobile game app called \"Flood It!\" (Android, iOS)\n",
        " \n",
        "### Objective\n",
        " \n",
        "In the following notebook, you will learn how Vertex AI Feature store\n",
        " \n",
        "1.  Provide a centralized feature repository with easy APIs to search & discover features and fetch them for training/serving.\n",
        " \n",
        "2.  Simplify deployments of models for Online Prediction, via low latency scalable feature serving.\n",
        " \n",
        "3.  Mitigate training serving skew and data leakage by performing point in time lookups to fetch historical data for training.\n",
        " \n",
        "**Notice that we assume that already know how to set up a Vertex AI Feature store. In case you are not, please check out [this detailed notebook](https://github.com/GoogleCloudPlatform/vertex-ai-samples/blob/main/notebooks/official/feature_store/gapic-feature-store.ipynb).**\n",
        " \n",
        " \n",
        "### Costs\n",
        " \n",
        "This tutorial uses billable components of Google Cloud:\n",
        " \n",
        "* Vertex AI\n",
        "* BigQuery\n",
        "* Cloud Storage\n",
        " \n",
        "Learn about [Vertex AI\n",
        "pricing](https://cloud.google.com/vertex-ai/pricing) and [Cloud Storage\n",
        "pricing](https://cloud.google.com/storage/pricing), and use the [Pricing\n",
        "Calculator](https://cloud.google.com/products/calculator/)\n",
        "to generate a cost estimate based on your projected usage.\n"
      ]
    },
    {
      "cell_type": "markdown",
      "metadata": {
        "id": "ze4-nDLfK4pw"
      },
      "source": [
        "### Set up your local development environment\n",
        "\n",
        "**If you are using Colab or Vertex AI Workbench Notebooks**, your environment already meets\n",
        "all the requirements to run this notebook. You can skip this step."
      ]
    },
    {
      "cell_type": "markdown",
      "metadata": {
        "id": "gCuSR8GkAgzl"
      },
      "source": [
        "**Otherwise**, make sure your environment meets this notebook's requirements.\n",
        "You need the following:\n",
        "\n",
        "* The Google Cloud SDK\n",
        "* Git\n",
        "* Python 3\n",
        "* virtualenv\n",
        "* Jupyter notebook running in a virtual environment with Python 3\n",
        "\n",
        "The Google Cloud guide to [Setting up a Python development\n",
        "environment](https://cloud.google.com/python/setup) and the [Jupyter\n",
        "installation guide](https://jupyter.org/install) provide detailed instructions\n",
        "for meeting these requirements. The following steps provide a condensed set of\n",
        "instructions:\n",
        "\n",
        "1. [Install and initialize the Cloud SDK.](https://cloud.google.com/sdk/docs/)\n",
        "\n",
        "1. [Install Python 3.](https://cloud.google.com/python/setup#installing_python)\n",
        "\n",
        "1. [Install\n",
        "   virtualenv](https://cloud.google.com/python/setup#installing_and_using_virtualenv)\n",
        "   and create a virtual environment that uses Python 3. Activate the virtual environment.\n",
        "\n",
        "1. To install Jupyter, run `pip3 install jupyter` on the\n",
        "command-line in a terminal shell.\n",
        "\n",
        "1. To launch Jupyter, run `jupyter notebook` on the command-line in a terminal shell.\n",
        "\n",
        "1. Open this notebook in the Jupyter Notebook Dashboard."
      ]
    },
    {
      "cell_type": "markdown",
      "metadata": {
        "id": "i7EUnXsZhAGF"
      },
      "source": [
        "### Install additional packages\n",
        "\n",
        "Install additional package dependencies not installed in your notebook environment, such as XGBoost. Use the latest major GA version of each package."
      ]
    },
    {
      "cell_type": "code",
      "execution_count": null,
      "metadata": {
        "id": "2b4ef9b72d43"
      },
      "outputs": [],
      "source": [
        "import os\n",
        "\n",
        "# The Vertex AI Workbench Notebook product has specific requirements\n",
        "IS_WORKBENCH_NOTEBOOK = os.getenv(\"DL_ANACONDA_HOME\")\n",
        "IS_USER_MANAGED_WORKBENCH_NOTEBOOK = os.path.exists(\n",
        "    \"/opt/deeplearning/metadata/env_version\"\n",
        ")\n",
        "\n",
        "# Vertex AI Notebook requires dependencies to be installed with '--user'\n",
        "USER_FLAG = \"\"\n",
        "if IS_WORKBENCH_NOTEBOOK:\n",
        "    USER_FLAG = \"--user\""
      ]
    },
    {
      "cell_type": "code",
      "execution_count": null,
      "metadata": {
        "id": "_vr6BYED_5my"
      },
      "outputs": [],
      "source": [
        "! pip3 install {USER_FLAG} --upgrade pip -q\n",
        "! pip3 install {USER_FLAG} --upgrade google-cloud-aiplatform==1.11.0 -q --no-warn-conflicts\n",
        "! pip3 install {USER_FLAG} git+https://github.com/googleapis/python-aiplatform.git@main # For features monitoring\n",
        "! pip3 install {USER_FLAG} --upgrade google-cloud-bigquery==2.24.0 -q --no-warn-conflicts\n",
        "! pip3 install {USER_FLAG} --upgrade xgboost==1.1.1 -q --no-warn-conflicts"
      ]
    },
    {
      "cell_type": "markdown",
      "metadata": {
        "id": "hhq5zEbGg0XX"
      },
      "source": [
        "### Restart the kernel\n",
        "\n",
        "After you install the additional packages, you need to restart the notebook kernel so it can find the packages."
      ]
    },
    {
      "cell_type": "code",
      "execution_count": null,
      "metadata": {
        "id": "EzrelQZ22IZj"
      },
      "outputs": [],
      "source": [
        "# Automatically restart kernel after installs\n",
        "import os\n",
        "\n",
        "if not os.getenv(\"IS_TESTING\"):\n",
        "    # Automatically restart kernel after installs\n",
        "    import IPython\n",
        "\n",
        "    app = IPython.Application.instance()\n",
        "    app.kernel.do_shutdown(True)"
      ]
    },
    {
      "cell_type": "markdown",
      "metadata": {
        "id": "lWEdiXsJg0XY"
      },
      "source": [
        "## Before you begin"
      ]
    },
    {
      "cell_type": "markdown",
      "metadata": {
        "id": "BF1j6f9HApxa"
      },
      "source": [
        "### Set up your Google Cloud project\n",
        "\n",
        "**The following steps are required, regardless of your notebook environment.**\n",
        "\n",
        "1. [Select or create a Google Cloud project](https://console.cloud.google.com/cloud-resource-manager). When you first create an account, you get a $300 free credit towards your compute/storage costs.\n",
        "\n",
        "1. [Make sure that billing is enabled for your project](https://cloud.google.com/billing/docs/how-to/modify-project).\n",
        "\n",
        "1. [Enable the APIs](https://console.cloud.google.com/flows/enableapi?apiid=aiplatform.googleapis.com,notebooks.googleapis.com, ). \n",
        "\n",
        "1. If you are running this notebook locally, you will need to install the [Cloud SDK](https://cloud.google.com/sdk).\n",
        "\n",
        "1. Enter your project ID in the cell below. Then run the cell to make sure the\n",
        "Cloud SDK uses the right project for all the commands in this notebook.\n",
        "\n",
        "**Note**: Jupyter runs lines prefixed with `!` as shell commands, and it interpolates Python variables prefixed with `$` into these commands."
      ]
    },
    {
      "cell_type": "markdown",
      "metadata": {
        "id": "WReHDGG5g0XY"
      },
      "source": [
        "#### Set your project ID\n",
        "\n",
        "**If you don't know your project ID**, you may be able to get your project ID using `gcloud`."
      ]
    },
    {
      "cell_type": "code",
      "execution_count": null,
      "metadata": {
        "id": "oM1iC_MfAts1"
      },
      "outputs": [],
      "source": [
        "import os\n",
        "\n",
        "PROJECT_ID = \"\"\n",
        "\n",
        "# Get your Google Cloud project ID from gcloud\n",
        "if not os.getenv(\"IS_TESTING\"):\n",
        "    shell_output = !gcloud config list --format 'value(core.project)' 2>/dev/null\n",
        "    PROJECT_ID = shell_output[0]\n",
        "    print(\"Project ID: \", PROJECT_ID)"
      ]
    },
    {
      "cell_type": "markdown",
      "metadata": {
        "id": "qJYoRfYng0XZ"
      },
      "source": [
        "Otherwise, set your project ID here."
      ]
    },
    {
      "cell_type": "code",
      "execution_count": null,
      "metadata": {
        "id": "riG_qUokg0XZ"
      },
      "outputs": [],
      "source": [
        "if PROJECT_ID == \"\" or PROJECT_ID is None:\n",
        "    PROJECT_ID = \"[your-project-id]\"  # @param {type:\"string\"}"
      ]
    },
    {
      "cell_type": "code",
      "execution_count": null,
      "metadata": {
        "id": "set_gcloud_project_id"
      },
      "outputs": [],
      "source": [
        "! gcloud config set project $PROJECT_ID"
      ]
    },
    {
      "cell_type": "markdown",
      "metadata": {
        "id": "23988890fef6"
      },
      "source": [
        "#### Get your project number (Optional)\n",
        "\n",
        "Now that the project ID is set, you get your corresponding project number."
      ]
    },
    {
      "cell_type": "code",
      "execution_count": null,
      "metadata": {
        "id": "2d6950574e1d"
      },
      "outputs": [],
      "source": [
        "shell_output = ! gcloud projects list --filter=\"PROJECT_ID:'{PROJECT_ID}'\" --format='value(PROJECT_NUMBER)'\n",
        "PROJECT_NUMBER = shell_output[0]\n",
        "print(\"Project Number:\", PROJECT_NUMBER)"
      ]
    },
    {
      "cell_type": "markdown",
      "metadata": {
        "id": "region"
      },
      "source": [
        "#### Region\n",
        "\n",
        "You can also change the `REGION` variable, which is used for operations\n",
        "throughout the rest of this notebook.  Below are regions supported for Vertex AI. We recommend that you choose the region closest to you.\n",
        "\n",
        "- Americas: `us-central1`\n",
        "- Europe: `europe-west4`\n",
        "- Asia Pacific: `asia-east1`\n",
        "\n",
        "You may not use a multi-regional bucket for training with Vertex AI. Not all regions provide support for all Vertex AI services.\n",
        "\n",
        "Learn more about [Vertex AI regions](https://cloud.google.com/vertex-ai/docs/general/locations)."
      ]
    },
    {
      "cell_type": "code",
      "execution_count": null,
      "metadata": {
        "id": "jIcZV7-C2RrX"
      },
      "outputs": [],
      "source": [
        "REGION = \"[your-region]\"  # @param {type: \"string\"}\n",
        "\n",
        "if REGION == \"[your-region]\":\n",
        "    REGION = \"us-central1\""
      ]
    },
    {
      "cell_type": "markdown",
      "metadata": {
        "id": "06571eb4063b"
      },
      "source": [
        "#### Timestamp\n",
        "\n",
        "If you are in a live tutorial session, you might be using a shared test account or project. To avoid name collisions between users on resources created, you create a timestamp for each instance session, and append it onto the name of resources you create in this tutorial."
      ]
    },
    {
      "cell_type": "code",
      "execution_count": null,
      "metadata": {
        "id": "697568e92bd6"
      },
      "outputs": [],
      "source": [
        "from datetime import datetime\n",
        "\n",
        "TIMESTAMP = datetime.now().strftime(\"%Y%m%d%H%M%S\")"
      ]
    },
    {
      "cell_type": "markdown",
      "metadata": {
        "id": "dr--iN2kAylZ"
      },
      "source": [
        "### Authenticate your Google Cloud account\n",
        "\n",
        "**If you are using Vertex AI Workbench Notebooks**, your environment is already\n",
        "authenticated. Skip this step."
      ]
    },
    {
      "cell_type": "markdown",
      "metadata": {
        "id": "sBCra4QMA2wR"
      },
      "source": [
        "**If you are using Colab**, run the cell below and follow the instructions\n",
        "when prompted to authenticate your account via oAuth.\n",
        "\n",
        "**Otherwise**, follow these steps:\n",
        "\n",
        "1. In the Cloud Console, go to the [**Create service account key**\n",
        "   page](https://console.cloud.google.com/apis/credentials/serviceaccountkey).\n",
        "\n",
        "2. Click **Create service account**.\n",
        "\n",
        "3. In the **Service account name** field, enter a name, and\n",
        "   click **Create**.\n",
        "\n",
        "4. In the **Grant this service account access to project** section, click the **Role** drop-down list and add the following roles:\n",
        "   - BigQuery Admin\n",
        "   - Storage Admin\n",
        "   - Storage Object Admin\n",
        "   - Vertex AI Administrator\n",
        "   - Vertex AI Feature Store Admin\n",
        "\n",
        "\n",
        "5. Click *Create*. A JSON file that contains your key downloads to your\n",
        "local environment.\n",
        "\n",
        "6. Enter the path to your service account key as the\n",
        "`GOOGLE_APPLICATION_CREDENTIALS` variable in the cell below and run the cell."
      ]
    },
    {
      "cell_type": "code",
      "execution_count": null,
      "metadata": {
        "id": "PyQmSRbKA8r-"
      },
      "outputs": [],
      "source": [
        "# If you are running this notebook in Colab, run this cell and follow the\n",
        "# instructions to authenticate your GCP account. This provides access to your\n",
        "# Cloud Storage bucket and lets you submit training jobs and prediction\n",
        "# requests.\n",
        "\n",
        "import os\n",
        "import sys\n",
        "\n",
        "# If on Vertex AI Workbench, then don't execute this code\n",
        "IS_COLAB = \"google.colab\" in sys.modules\n",
        "if not os.path.exists(\"/opt/deeplearning/metadata/env_version\") and not os.getenv(\n",
        "    \"DL_ANACONDA_HOME\"\n",
        "):\n",
        "    if \"google.colab\" in sys.modules:\n",
        "        from google.colab import auth as google_auth\n",
        "\n",
        "        google_auth.authenticate_user()\n",
        "\n",
        "    # If you are running this notebook locally, replace the string below with the\n",
        "    # path to your service account key and run this cell to authenticate your GCP\n",
        "    # account.\n",
        "    elif not os.getenv(\"IS_TESTING\"):\n",
        "        %env GOOGLE_APPLICATION_CREDENTIALS ''"
      ]
    },
    {
      "cell_type": "markdown",
      "metadata": {
        "id": "zgPO1eR3CYjk"
      },
      "source": [
        "### Create a Cloud Storage bucket\n",
        "\n",
        "**The following steps are required, regardless of your notebook environment.**\n",
        "\n",
        "Set the name of your Cloud Storage bucket below. It must be unique across all\n",
        "Cloud Storage buckets.\n",
        "\n",
        "You may also change the `REGION` variable, which is used for operations\n",
        "throughout the rest of this notebook. Make sure to [choose a region where Vertex AI services are\n",
        "available](https://cloud.google.com/vertex-ai/docs/general/locations#available_regions). You may\n",
        "not use a Multi-Regional Storage bucket for training with Vertex AI."
      ]
    },
    {
      "cell_type": "code",
      "execution_count": null,
      "metadata": {
        "id": "MzGDU7TWdts_"
      },
      "outputs": [],
      "source": [
        "BUCKET_NAME = \"[your-bucket-name]\"  # @param {type:\"string\"}\n",
        "BUCKET_URI = f\"gs://{BUCKET_NAME}\""
      ]
    },
    {
      "cell_type": "code",
      "execution_count": null,
      "metadata": {
        "id": "cf221059d072"
      },
      "outputs": [],
      "source": [
        "if BUCKET_NAME == \"\" or BUCKET_NAME is None or BUCKET_NAME == \"[your-bucket-name]\":\n",
        "    BUCKET_NAME = PROJECT_ID + \"-aip-\" + TIMESTAMP\n",
        "    BUCKET_URI = f\"gs://{BUCKET_NAME}\""
      ]
    },
    {
      "cell_type": "markdown",
      "metadata": {
        "id": "-EcIXiGsCePi"
      },
      "source": [
        "**Only if your bucket doesn't already exist**: Run the following cell to create your Cloud Storage bucket."
      ]
    },
    {
      "cell_type": "code",
      "execution_count": null,
      "metadata": {
        "id": "NIq7R4HZCfIc"
      },
      "outputs": [],
      "source": [
        "! gsutil mb -l $REGION -p $PROJECT_ID $BUCKET_URI"
      ]
    },
    {
      "cell_type": "markdown",
      "metadata": {
        "id": "ucvCsknMCims"
      },
      "source": [
        "Finally, validate access to your Cloud Storage bucket by examining its contents:"
      ]
    },
    {
      "cell_type": "code",
      "execution_count": null,
      "metadata": {
        "id": "vhOb7YnwClBb"
      },
      "outputs": [],
      "source": [
        "! gsutil ls -al $BUCKET_URI"
      ]
    },
    {
      "cell_type": "markdown",
      "metadata": {
        "id": "set_service_account"
      },
      "source": [
        "#### Service Account (Optional)\n",
        "\n",
        "If you do not want to use your project's Compute Engine service account, set `SERVICE_ACCOUNT` to another service account ID."
      ]
    },
    {
      "cell_type": "code",
      "execution_count": null,
      "metadata": {
        "id": "MQVV9haf2Rra"
      },
      "outputs": [],
      "source": [
        "SERVICE_ACCOUNT = \"[your-service-account]\"  # @param {type:\"string\"}"
      ]
    },
    {
      "cell_type": "code",
      "execution_count": null,
      "metadata": {
        "id": "autoset_service_account"
      },
      "outputs": [],
      "source": [
        "if (\n",
        "    SERVICE_ACCOUNT == \"\"\n",
        "    or SERVICE_ACCOUNT is None\n",
        "    or SERVICE_ACCOUNT == \"[your-service-account]\"\n",
        "):\n",
        "    # Get your service account from gcloud\n",
        "    if not IS_COLAB:\n",
        "        shell_output = !gcloud auth list 2>/dev/null\n",
        "        SERVICE_ACCOUNT = shell_output[2].replace(\"*\", \"\").strip()\n",
        "\n",
        "    else:  # IS_COLAB:\n",
        "        shell_output = ! gcloud projects describe  $PROJECT_ID\n",
        "        project_number = shell_output[-1].split(\":\")[1].strip().replace(\"'\", \"\")\n",
        "        SERVICE_ACCOUNT = f\"{project_number}-compute@developer.gserviceaccount.com\"\n",
        "\n",
        "    print(\"Service Account:\", SERVICE_ACCOUNT)"
      ]
    },
    {
      "cell_type": "markdown",
      "metadata": {
        "id": "set_service_account:pipelines"
      },
      "source": [
        "#### Set service account access\n",
        "\n",
        "Run the following commands to grant your service account access. You only need to run this step once per service account."
      ]
    },
    {
      "cell_type": "code",
      "execution_count": null,
      "metadata": {
        "id": "U4UpQThc2Rrb"
      },
      "outputs": [],
      "source": [
        "! gsutil iam ch serviceAccount:{SERVICE_ACCOUNT}:roles/storage.objectCreator $BUCKET_URI\n",
        "\n",
        "! gsutil iam ch serviceAccount:{SERVICE_ACCOUNT}:roles/storage.objectViewer $BUCKET_URI"
      ]
    },
    {
      "cell_type": "markdown",
      "metadata": {
        "id": "utO91mebwEmw"
      },
      "source": [
        "### Create a Bigquery dataset\n",
        "\n",
        "You create the BigQuery dataset to store the data along the demo."
      ]
    },
    {
      "cell_type": "code",
      "execution_count": null,
      "metadata": {
        "id": "8615339fa4ca"
      },
      "outputs": [],
      "source": [
        "BQ_DATASET = \"Mobile_Gaming\"  # @param {type:\"string\"}\n",
        "LOCATION = \"US\""
      ]
    },
    {
      "cell_type": "code",
      "execution_count": null,
      "metadata": {
        "id": "G3G2BXqswb_J"
      },
      "outputs": [],
      "source": [
        "!bq mk --location=$LOCATION --dataset $PROJECT_ID:$BQ_DATASET"
      ]
    },
    {
      "cell_type": "markdown",
      "metadata": {
        "id": "XoEqT2Y4DJmf"
      },
      "source": [
        "### Import libraries"
      ]
    },
    {
      "cell_type": "code",
      "execution_count": null,
      "metadata": {
        "id": "pRUOFELefqf1"
      },
      "outputs": [],
      "source": [
        "# General\n",
        "import os\n",
        "import random\n",
        "import sys\n",
        "import time\n",
        "\n",
        "# Data Science\n",
        "import pandas as pd\n",
        "# Vertex AI and its Feature Store\n",
        "from google.cloud import aiplatform as vertex_ai\n",
        "from google.cloud import bigquery\n",
        "from google.cloud.aiplatform import Feature, Featurestore"
      ]
    },
    {
      "cell_type": "markdown",
      "metadata": {
        "id": "tgP_N3MSpnd3"
      },
      "source": [
        "### Define constants"
      ]
    },
    {
      "cell_type": "code",
      "execution_count": null,
      "metadata": {
        "id": "b_k2ejxQsET8"
      },
      "outputs": [],
      "source": [
        "# Data Engineering and Feature Engineering\n",
        "TODAY = \"2022-06-16\"\n",
        "LABEL_TABLE = f\"label_table_{TODAY}\".replace(\"-\", \"\")\n",
        "FEATURES_TABLE = f\"wide_features_table_{TODAY}\"  # @param {type:\"string\"}\n",
        "FEATURESTORE_ID = \"mobile_gaming\"  # @param {type:\"string\"}\n",
        "ENTITY_TYPE_ID = \"user\"\n",
        "\n",
        "# Vertex AI Feature store\n",
        "ONLINE_STORE_NODES_COUNT = 5\n",
        "ENTITY_ID = \"user\"\n",
        "API_ENDPOINT = f\"{REGION}-aiplatform.googleapis.com\"\n",
        "FEATURE_TIME = \"timestamp\"\n",
        "ENTITY_ID_FIELD = \"user_pseudo_id\"\n",
        "BQ_SOURCE_URI = f\"bq://{PROJECT_ID}.{BQ_DATASET}.{FEATURES_TABLE}\"\n",
        "GCS_DESTINATION_PATH = f\"data/features/train_features_{TODAY}\".replace(\"-\", \"\")\n",
        "GCS_DESTINATION_OUTPUT_URI = f\"{BUCKET_URI}/{GCS_DESTINATION_PATH}\"\n",
        "SERVING_FEATURE_IDS = {\"user\": [\"*\"]}\n",
        "READ_INSTANCES_TABLE = f\"ground_truth_{TODAY}\".replace(\"-\", \"\")\n",
        "READ_INSTANCES_URI = f\"bq://{PROJECT_ID}.{BQ_DATASET}.{READ_INSTANCES_TABLE}\"\n",
        "\n",
        "# Vertex AI Training\n",
        "BASE_CPU_IMAGE = \"us-docker.pkg.dev/vertex-ai/training/scikit-learn-cpu.0-23:latest\"\n",
        "DATASET_NAME = f\"churn_mobile_gaming_{TODAY}\".replace(\"-\", \"\")\n",
        "TRAIN_JOB_NAME = f\"xgb_classifier_training_{TODAY}\".replace(\"-\", \"\")\n",
        "MODEL_NAME = f\"churn_xgb_classifier_{TODAY}\".replace(\"-\", \"\")\n",
        "MODEL_PACKAGE_PATH = \"train_package\"\n",
        "TRAINING_MACHINE_TYPE = \"n1-standard-4\"\n",
        "TRAINING_REPLICA_COUNT = 1\n",
        "DATA_PATH = f\"{GCS_DESTINATION_OUTPUT_URI}/000000000000.csv\".replace(\"gs://\", \"/gcs/\")\n",
        "MODEL_PATH = f\"model/{TODAY}\".replace(\"-\", \"\")\n",
        "MODEL_DIR = f\"{BUCKET_URI}/{MODEL_PATH}\".replace(\"gs://\", \"/gcs/\")\n",
        "\n",
        "# Vertex AI Prediction\n",
        "DESTINATION_URI = f\"{BUCKET_URI}/{MODEL_PATH}\"\n",
        "VERSION = \"v1\"\n",
        "SERVING_CONTAINER_IMAGE_URI = (\n",
        "    \"us-docker.pkg.dev/vertex-ai/prediction/sklearn-cpu.0-23:latest\"\n",
        ")\n",
        "ENDPOINT_NAME = \"mobile_gaming_churn\"\n",
        "DEPLOYED_MODEL_NAME = f\"churn_xgb_classifier_{VERSION}\"\n",
        "MODEL_DEPLOYED_NAME = \"churn_xgb_classifier_v1\"\n",
        "SERVING_MACHINE_TYPE = \"n1-highcpu-4\"\n",
        "MIN_NODES = 1\n",
        "MAX_NODES = 1"
      ]
    },
    {
      "cell_type": "code",
      "execution_count": null,
      "metadata": {
        "id": "hY99VsxQBOU9"
      },
      "outputs": [],
      "source": [
        "# Sampling distributions for categorical features implemented in\n",
        "# https://github.com/GoogleCloudPlatform/vertex-ai-samples/blob/main/notebooks/official/model_monitoring/model_monitoring.ipynb\n",
        "\n",
        "LANGUAGE = [\n",
        "    \"en-us\",\n",
        "    \"en-gb\",\n",
        "    \"ja-jp\",\n",
        "    \"en-au\",\n",
        "    \"en-ca\",\n",
        "    \"de-de\",\n",
        "    \"en-in\",\n",
        "    \"en\",\n",
        "    \"fr-fr\",\n",
        "    \"pt-br\",\n",
        "    \"es-us\",\n",
        "    \"zh-tw\",\n",
        "    \"zh-hans-cn\",\n",
        "    \"es-mx\",\n",
        "    \"nl-nl\",\n",
        "    \"fr-ca\",\n",
        "    \"en-za\",\n",
        "    \"vi-vn\",\n",
        "    \"en-nz\",\n",
        "    \"es-es\",\n",
        "]\n",
        "\n",
        "OS = [\"IOS\", \"ANDROID\", \"null\"]\n",
        "COUNTRY = [\n",
        "    \"United States\",\n",
        "    \"India\",\n",
        "    \"Japan\",\n",
        "    \"Canada\",\n",
        "    \"Australia\",\n",
        "    \"United Kingdom\",\n",
        "    \"Germany\",\n",
        "    \"Mexico\",\n",
        "    \"France\",\n",
        "    \"Brazil\",\n",
        "    \"Taiwan\",\n",
        "    \"China\",\n",
        "    \"Saudi Arabia\",\n",
        "    \"Pakistan\",\n",
        "    \"Egypt\",\n",
        "    \"Netherlands\",\n",
        "    \"Vietnam\",\n",
        "    \"Philippines\",\n",
        "    \"South Africa\",\n",
        "]\n",
        "\n",
        "USER_IDS = [\n",
        "    \"C8685B0DFA2C4B4E6E6EA72894C30F6F\",\n",
        "    \"A976A39B8E08829A5BC5CD3827C942A2\",\n",
        "    \"DD2269BCB7F8532CD51CB6854667AF51\",\n",
        "    \"A8F327F313C9448DFD5DE108DAE66100\",\n",
        "    \"8BE7BF90C971453A34C1FF6FF2A0ACAE\",\n",
        "    \"8375B114AFAD8A31DE54283525108F75\",\n",
        "    \"4AD259771898207D5869B39490B9DD8C\",\n",
        "    \"51E859FD9D682533C094B37DC85EAF87\",\n",
        "    \"8C33815E0A269B776AAB4B60A4F7BC63\",\n",
        "    \"D7EA8E3645EFFBD6443946179ED704A6\",\n",
        "    \"58F3D672BBC613680624015D5BC3ADDB\",\n",
        "    \"FF955E4CA27C75CE0BEE9FC89AD275A3\",\n",
        "    \"22DC6A6AE86C0AA33EBB8C3164A26925\",\n",
        "    \"BC10D76D02351BD4C6F6F5437EE5D274\",\n",
        "    \"19DEEA6B15B314DB0ED2A4936959D8F9\",\n",
        "    \"C2D17D9066EE1EB9FAE1C8A521BFD4E5\",\n",
        "    \"EFBDEC168A2BF8C727B060B2E231724E\",\n",
        "    \"E43D3AB2F9B9055C29373523FAF9DB9B\",\n",
        "    \"BBDCBE2491658165B7F20540DE652E3A\",\n",
        "    \"6895EEFC23B59DB13A9B9A7EED6A766F\",\n",
        "]"
      ]
    },
    {
      "cell_type": "markdown",
      "metadata": {
        "id": "OTjqqE0jafnn"
      },
      "source": [
        "### Helpers"
      ]
    },
    {
      "cell_type": "code",
      "execution_count": null,
      "metadata": {
        "id": "9dJ_TGTVak7u"
      },
      "outputs": [],
      "source": [
        "def run_bq_query(query: str):\n",
        "    \"\"\"\n",
        "    An helper function to run a BigQuery job\n",
        "    Args:\n",
        "        query: a formatted SQL query\n",
        "    Returns:\n",
        "        None\n",
        "    \"\"\"\n",
        "    try:\n",
        "        job = bq_client.query(query)\n",
        "        _ = job.result()\n",
        "    except RuntimeError as error:\n",
        "        print(error)\n",
        "\n",
        "\n",
        "def upload_model(\n",
        "    display_name: str,\n",
        "    serving_container_image_uri: str,\n",
        "    artifact_uri: str,\n",
        "    sync: bool = True,\n",
        ") -> vertex_ai.Model:\n",
        "    \"\"\"\n",
        "\n",
        "    Args:\n",
        "        display_name: The name of Vertex AI Model artefact\n",
        "        serving_container_image_uri: The uri of the serving image\n",
        "        artifact_uri: The uri of artefact to import\n",
        "        sync:\n",
        "\n",
        "    Returns: Vertex AI Model\n",
        "\n",
        "    \"\"\"\n",
        "    model = vertex_ai.Model.upload(\n",
        "        display_name=display_name,\n",
        "        artifact_uri=artifact_uri,\n",
        "        serving_container_image_uri=serving_container_image_uri,\n",
        "        sync=sync,\n",
        "    )\n",
        "    model.wait()\n",
        "    print(model.display_name)\n",
        "    print(model.resource_name)\n",
        "    return model\n",
        "\n",
        "\n",
        "def create_endpoint(display_name: str) -> vertex_ai.Endpoint:\n",
        "    \"\"\"\n",
        "    An utility to create a Vertex AI Endpoint\n",
        "    Args:\n",
        "        display_name: The name of Endpoint\n",
        "\n",
        "    Returns: Vertex AI Endpoint\n",
        "\n",
        "    \"\"\"\n",
        "    endpoint = vertex_ai.Endpoint.create(display_name=display_name)\n",
        "\n",
        "    print(endpoint.display_name)\n",
        "    print(endpoint.resource_name)\n",
        "    return endpoint\n",
        "\n",
        "\n",
        "def deploy_model(\n",
        "    model: vertex_ai.Model,\n",
        "    machine_type: str,\n",
        "    endpoint: vertex_ai.Endpoint = None,\n",
        "    deployed_model_display_name: str = None,\n",
        "    min_replica_count: int = 1,\n",
        "    max_replica_count: int = 1,\n",
        "    sync: bool = True,\n",
        ") -> vertex_ai.Model:\n",
        "    \"\"\"\n",
        "    An helper function to deploy a Vertex AI Endpoint\n",
        "    Args:\n",
        "        model: A Vertex AI Model\n",
        "        machine_type: The type of machine to serve the model\n",
        "        endpoint: An Vertex AI Endpoint\n",
        "        deployed_model_display_name: The name of the model\n",
        "        min_replica_count: Minimum number of serving replicas\n",
        "        max_replica_count: Max number of serving replicas\n",
        "        sync: Whether to execute method synchronously\n",
        "\n",
        "    Returns: vertex_ai.Model\n",
        "\n",
        "    \"\"\"\n",
        "    model_deployed = model.deploy(\n",
        "        endpoint=endpoint,\n",
        "        deployed_model_display_name=deployed_model_display_name,\n",
        "        machine_type=machine_type,\n",
        "        min_replica_count=min_replica_count,\n",
        "        max_replica_count=max_replica_count,\n",
        "        sync=sync,\n",
        "    )\n",
        "\n",
        "    model_deployed.wait()\n",
        "\n",
        "    print(model_deployed.display_name)\n",
        "    print(model_deployed.resource_name)\n",
        "    return model_deployed\n",
        "\n",
        "\n",
        "def endpoint_predict_sample(\n",
        "    instances: list, endpoint: vertex_ai.Endpoint\n",
        ") -> vertex_ai.models.Prediction:\n",
        "    \"\"\"\n",
        "    An helper function to get prediction from Vertex AI Endpoint\n",
        "    Args:\n",
        "        instances: The list of instances to score\n",
        "        endpoint: An Vertex AI Endpoint\n",
        "\n",
        "    Returns:\n",
        "        vertex_ai.models.Prediction\n",
        "\n",
        "    \"\"\"\n",
        "    prediction = endpoint.predict(instances=instances)\n",
        "    print(prediction)\n",
        "    return prediction\n",
        "\n",
        "\n",
        "def generate_online_sample() -> dict:\n",
        "    \"\"\"\n",
        "    An helper function to generate a sample of online features\n",
        "    Returns:\n",
        "        online_sample: dict of online features\n",
        "    \"\"\"\n",
        "    online_sample = {}\n",
        "    online_sample[\"entity_id\"] = random.choices(USER_IDS)\n",
        "    online_sample[\"country\"] = random.choices(COUNTRY)\n",
        "    online_sample[\"operating_system\"] = random.choices(OS)\n",
        "    online_sample[\"language\"] = random.choices(LANGUAGE)\n",
        "    return online_sample\n",
        "\n",
        "\n",
        "def simulate_prediction(endpoint: vertex_ai.Endpoint, n_requests: int, latency: int):\n",
        "    \"\"\"\n",
        "    An helper function to simulate online prediction with customer entity type\n",
        "        - format entities for prediction\n",
        "        - retrieve static features with a singleton lookup operations from Vertex AI Feature store\n",
        "        - run the prediction request and get back the result\n",
        "    Args:\n",
        "        endpoint: Vertex AI Endpoint object\n",
        "        n_requests: number of requests to run\n",
        "        latency: latency in seconds\n",
        "    Returns:\n",
        "        vertex_ai.models.Prediction\n",
        "    \"\"\"\n",
        "    for i in range(n_requests):\n",
        "        online_sample = generate_online_sample()\n",
        "        online_features = pd.DataFrame.from_dict(online_sample)\n",
        "        entity_ids = online_features[\"entity_id\"].tolist()\n",
        "\n",
        "        customer_aggregated_features = user_entity_type.read(\n",
        "            entity_ids=entity_ids,\n",
        "            feature_ids=[\n",
        "                \"cnt_user_engagement\",\n",
        "                \"cnt_level_start_quickplay\",\n",
        "                \"cnt_level_end_quickplay\",\n",
        "                \"cnt_level_complete_quickplay\",\n",
        "                \"cnt_level_reset_quickplay\",\n",
        "                \"cnt_post_score\",\n",
        "                \"cnt_spend_virtual_currency\",\n",
        "                \"cnt_ad_reward\",\n",
        "                \"cnt_challenge_a_friend\",\n",
        "                \"cnt_completed_5_levels\",\n",
        "                \"cnt_use_extra_steps\",\n",
        "            ],\n",
        "        )\n",
        "\n",
        "        prediction_sample_df = pd.merge(\n",
        "            customer_aggregated_features.set_index(\"entity_id\"),\n",
        "            online_features.set_index(\"entity_id\"),\n",
        "            left_index=True,\n",
        "            right_index=True,\n",
        "        ).reset_index(drop=True)\n",
        "\n",
        "        # prediction_sample = prediction_sample_df.to_dict(\"records\")\n",
        "        prediction_instance = prediction_sample_df.values.tolist()\n",
        "        prediction = endpoint.predict(prediction_instance)\n",
        "        print(\n",
        "            f\"Prediction request: user_id - {entity_ids} - values - {prediction_instance} - prediction - {prediction[0]}\"\n",
        "        )\n",
        "        time.sleep(latency)"
      ]
    },
    {
      "cell_type": "markdown",
      "metadata": {
        "id": "MewDhNbrXf_N"
      },
      "source": [
        "# Setting the realtime scenario\n",
        "\n",
        "In order to make real-time churn prediction, you need to\n",
        "\n",
        "1. Collect the historical data about user's events and behaviors\n",
        "2. Design your data model, build your feature and ingest them into the Feature store to serve both offline for training and online for serving.\n",
        "3. Define churn and get the data to train a churn model\n",
        "4. Train the model at scale\n",
        "5. Deploy the model to an endpoint and generate return the prediction score in real-time\n",
        "\n",
        "You will cover those steps in details below."
      ]
    },
    {
      "cell_type": "markdown",
      "metadata": {
        "id": "init_aip:mbsdk,all"
      },
      "source": [
        "### Initialize Vertex AI SDK for Python\n",
        "\n",
        "Initialize the Vertex AI SDK for Python for your project and corresponding bucket."
      ]
    },
    {
      "cell_type": "code",
      "execution_count": null,
      "metadata": {
        "id": "poLJ0fV52Rrc"
      },
      "outputs": [],
      "source": [
        "vertex_ai.init(project=PROJECT_ID, location=REGION, staging_bucket=BUCKET_URI)"
      ]
    },
    {
      "cell_type": "markdown",
      "metadata": {
        "id": "4ffd54e97270"
      },
      "source": [
        "### Initialize BigQuery SDK for Python\n",
        "\n",
        "Initialize the BigQuery AI SDK for Python for your project and corresponding bucket."
      ]
    },
    {
      "cell_type": "code",
      "execution_count": null,
      "metadata": {
        "id": "9f48872501fb"
      },
      "outputs": [],
      "source": [
        "bq_client = bigquery.Client(project=PROJECT_ID, location=LOCATION)"
      ]
    },
    {
      "cell_type": "markdown",
      "metadata": {
        "id": "WnUQO2IHC9pZ"
      },
      "source": [
        "## Identify users and build your features\n",
        " \n",
        "This section we will have static features we want to fetch from Vertex AI Feature Store. In particular, we will cover the following steps:\n",
        " \n",
        "1. Identify users, process demographic features and process behavioral features within the last 24 hours using **BigQuery**\n",
        " \n",
        "2. Set up the feature store\n",
        " \n",
        "3. Register features using **Vertex AI Feature Store** and the SDK.\n",
        " \n",
        "Below you have a picture that shows the process.\n",
        " \n",
        "<img src=\"./assets/feature_store_ingestion_2.png\">\n",
        " \n",
        " \n",
        "The original dataset contains raw event data we cannot ingest in the feature store as they are. We need to pre-process the raw data in order to get user features.\n",
        " \n",
        "**Notice we simulate those transformations in different points of time (today and tomorrow).**\n"
      ]
    },
    {
      "cell_type": "markdown",
      "metadata": {
        "id": "e9zIrwhpDF2q"
      },
      "source": [
        "### Label, Demographic and Behavioral Transformations\n",
        " \n",
        "This section is based on the [Churn prediction for game developers using Google Analytics 4 (GA4) and BigQuery ML](https://cloud.google.com/blog/topics/developers-practitioners/churn-prediction-game-developers-using-google-analytics-4-ga4-and-bigquery-ml?utm_source=linkedin&utm_medium=unpaidsoc&utm_campaign=FY21-Q2-Google-Cloud-Tech-Blog&utm_content=google-analytics-4&utm_term=-) blog article by Minhaz Kazi and Polong Lin.\n",
        " \n",
        "You will adapt it to turn a batch churn prediction (using features within the first 24h user of first engagement) into a real-time churn prediction (using features within the first 6h user of last engagement).\n"
      ]
    },
    {
      "cell_type": "code",
      "execution_count": null,
      "metadata": {
        "id": "RQX5m8UiC_px"
      },
      "outputs": [],
      "source": [
        "features_sql_query = f\"\"\"\n",
        "CREATE OR REPLACE TABLE\n",
        "  `{PROJECT_ID}.{BQ_DATASET}.{FEATURES_TABLE}` AS\n",
        "WITH\n",
        "\n",
        "  # query to extract demographic data for each user ---------------------------------------------------------\n",
        "  get_demographic_data AS (\n",
        "  SELECT * EXCEPT (row_num)\n",
        "  FROM (\n",
        "    SELECT\n",
        "      user_pseudo_id,\n",
        "      geo.country as country,\n",
        "      device.operating_system as operating_system,\n",
        "      device.language as language,\n",
        "      ROW_NUMBER() OVER (PARTITION BY user_pseudo_id ORDER BY event_timestamp DESC) AS row_num\n",
        "    FROM `firebase-public-project.analytics_153293282.events_*`)\n",
        "  WHERE row_num = 1),\n",
        "\n",
        "  # query to extract behavioral data for each user ----------------------------------------------------------\n",
        "  get_behavioral_data AS (\n",
        "  SELECT\n",
        "    event_timestamp,\n",
        "    user_pseudo_id,\n",
        "    SUM(IF(event_name = 'user_engagement', 1, 0)) OVER (PARTITION BY user_pseudo_id ORDER BY event_timestamp ASC RANGE BETWEEN 21600000000 PRECEDING\n",
        "      AND CURRENT ROW ) AS cnt_user_engagement,\n",
        "    SUM(IF(event_name = 'level_start_quickplay', 1, 0)) OVER (PARTITION BY user_pseudo_id ORDER BY event_timestamp ASC RANGE BETWEEN 21600000000 PRECEDING\n",
        "      AND CURRENT ROW ) AS cnt_level_start_quickplay,\n",
        "    SUM(IF(event_name = 'level_end_quickplay', 1, 0)) OVER (PARTITION BY user_pseudo_id ORDER BY event_timestamp ASC RANGE BETWEEN 21600000000 PRECEDING\n",
        "      AND CURRENT ROW ) AS cnt_level_end_quickplay,\n",
        "    SUM(IF(event_name = 'level_complete_quickplay', 1, 0)) OVER (PARTITION BY user_pseudo_id ORDER BY event_timestamp ASC RANGE BETWEEN 21600000000 PRECEDING\n",
        "      AND CURRENT ROW ) AS cnt_level_complete_quickplay,\n",
        "    SUM(IF(event_name = 'level_reset_quickplay', 1, 0)) OVER (PARTITION BY user_pseudo_id ORDER BY event_timestamp ASC RANGE BETWEEN 21600000000 PRECEDING\n",
        "      AND CURRENT ROW ) AS cnt_level_reset_quickplay,\n",
        "    SUM(IF(event_name = 'post_score', 1, 0)) OVER (PARTITION BY user_pseudo_id ORDER BY event_timestamp ASC RANGE BETWEEN 21600000000 PRECEDING\n",
        "      AND CURRENT ROW ) AS cnt_post_score,\n",
        "    SUM(IF(event_name = 'spend_virtual_currency', 1, 0)) OVER (PARTITION BY user_pseudo_id ORDER BY event_timestamp ASC RANGE BETWEEN 21600000000 PRECEDING\n",
        "      AND CURRENT ROW ) AS cnt_spend_virtual_currency,\n",
        "    SUM(IF(event_name = 'ad_reward', 1, 0)) OVER (PARTITION BY user_pseudo_id ORDER BY event_timestamp ASC RANGE BETWEEN 21600000000 PRECEDING\n",
        "      AND CURRENT ROW ) AS cnt_ad_reward,\n",
        "    SUM(IF(event_name = 'challenge_a_friend', 1, 0)) OVER (PARTITION BY user_pseudo_id ORDER BY event_timestamp ASC RANGE BETWEEN 21600000000 PRECEDING\n",
        "      AND CURRENT ROW ) AS cnt_challenge_a_friend,\n",
        "    SUM(IF(event_name = 'completed_5_levels', 1, 0)) OVER (PARTITION BY user_pseudo_id ORDER BY event_timestamp ASC RANGE BETWEEN 21600000000 PRECEDING\n",
        "      AND CURRENT ROW ) AS cnt_completed_5_levels,\n",
        "    SUM(IF(event_name = 'use_extra_steps', 1, 0)) OVER (PARTITION BY user_pseudo_id ORDER BY event_timestamp ASC RANGE BETWEEN 21600000000 PRECEDING\n",
        "      AND CURRENT ROW ) AS cnt_use_extra_steps,\n",
        "  FROM (\n",
        "    SELECT\n",
        "      e.*\n",
        "    FROM\n",
        "      `firebase-public-project.analytics_153293282.events_*` AS e\n",
        "    )\n",
        ")\n",
        "\n",
        "SELECT\n",
        "    -- PARSE_TIMESTAMP('%Y-%m-%d %H:%M:%S', CONCAT('{TODAY}', ' ', STRING(TIME_TRUNC(CURRENT_TIME(), SECOND))), 'UTC') as timestamp,\n",
        "    TIMESTAMP_ADD(PARSE_TIMESTAMP('%Y-%m-%d %H:%M:%S', FORMAT_TIMESTAMP('%Y-%m-%d %H:%M:%S', TIMESTAMP_MICROS(beh.event_timestamp))), INTERVAL 1351 DAY) AS timestamp,\n",
        "    dem.*,\n",
        "    CAST(IFNULL(beh.cnt_user_engagement, 0) AS FLOAT64)  AS cnt_user_engagement,\n",
        "    CAST(IFNULL(beh.cnt_level_start_quickplay, 0) AS FLOAT64) AS cnt_level_start_quickplay,\n",
        "    CAST(IFNULL(beh.cnt_level_end_quickplay, 0) AS FLOAT64) AS cnt_level_end_quickplay,\n",
        "    CAST(IFNULL(beh.cnt_level_complete_quickplay, 0) AS FLOAT64) AS cnt_level_complete_quickplay,\n",
        "    CAST(IFNULL(beh.cnt_level_reset_quickplay, 0) AS FLOAT64) AS cnt_level_reset_quickplay,\n",
        "    CAST(IFNULL(beh.cnt_post_score, 0) AS FLOAT64) AS cnt_post_score,\n",
        "    CAST(IFNULL(beh.cnt_spend_virtual_currency, 0) AS FLOAT64) AS cnt_spend_virtual_currency,\n",
        "    CAST(IFNULL(beh.cnt_ad_reward, 0) AS FLOAT64) AS cnt_ad_reward,\n",
        "    CAST(IFNULL(beh.cnt_challenge_a_friend, 0) AS FLOAT64) AS cnt_challenge_a_friend,\n",
        "    CAST(IFNULL(beh.cnt_completed_5_levels, 0) AS FLOAT64) AS cnt_completed_5_levels,\n",
        "    CAST(IFNULL(beh.cnt_use_extra_steps, 0) AS FLOAT64) AS cnt_use_extra_steps,\n",
        "FROM\n",
        "  get_demographic_data dem\n",
        "LEFT OUTER JOIN \n",
        "  get_behavioral_data beh\n",
        "ON\n",
        "  dem.user_pseudo_id = beh.user_pseudo_id\n",
        "\"\"\""
      ]
    },
    {
      "cell_type": "code",
      "execution_count": null,
      "metadata": {
        "id": "oGYxLCSnD068"
      },
      "outputs": [],
      "source": [
        "run_bq_query(features_sql_query)"
      ]
    },
    {
      "cell_type": "markdown",
      "metadata": {
        "id": "xQLIlsTCD_nk"
      },
      "source": [
        "## Create a Vertex AI Feature store and ingest your features\n",
        " \n",
        "Now you have a wide table of features. It is time to ingest them into the feature store.\n",
        " \n",
        "Before to moving on, you may have a question: **Why do I need a feature store**\n",
        "in this scenario at that point?\n",
        " \n",
        "One of the reasons would be to make those features accessible across teams by calculating once and reuse them many times. And in order to make it possible you need also be able to monitor those features over time to guarantee freshness and in case have a new feature engineering run to refresh them.\n",
        " \n",
        "If it is not your case, I will give even more reasons about why you should consider a feature store in the following sections. Just keep following me for now.\n",
        " \n",
        "One of the most important things is related to its data model. As you can see in the picture below, Vertex AI Feature Store organizes resources hierarchically in the following order: `Featurestore -> EntityType -> Feature`. You must create these resources before you can ingest data into Vertex AI Feature Store.\n",
        " \n",
        "<img src=\"./assets/feature_store_data_model_3.png\">\n",
        " \n",
        "In our case we are going to create **mobile_gaming** featurestore resource containing **user** entity type and all its associated **features** such as country or the number of times a user challenged a friend (cnt_challenge_a_friend).\n"
      ]
    },
    {
      "cell_type": "markdown",
      "metadata": {
        "id": "VR7BJEozED_Q"
      },
      "source": [
        "### Create featurestore, ```mobile_gaming```\n",
        "\n",
        "You need to create a `featurestore` resource to contain entity types, features, and feature values. In your case, you would call it `mobile_gaming`."
      ]
    },
    {
      "cell_type": "code",
      "execution_count": null,
      "metadata": {
        "id": "vUFqtYU-EDTR"
      },
      "outputs": [],
      "source": [
        "try:\n",
        "    mobile_gaming_feature_store = Featurestore.create(\n",
        "        featurestore_id=FEATURESTORE_ID,\n",
        "        online_store_fixed_node_count=ONLINE_STORE_NODES_COUNT,\n",
        "        labels={\"team\": \"dataoffice\", \"app\": \"mobile_gaming\"},\n",
        "        sync=True,\n",
        "    )\n",
        "except RuntimeError as error:\n",
        "    print(error)\n",
        "else:\n",
        "    FEATURESTORE_RESOURCE_NAME = mobile_gaming_feature_store.resource_name\n",
        "    print(f\"Feature store created: {FEATURESTORE_RESOURCE_NAME}\")"
      ]
    },
    {
      "cell_type": "markdown",
      "metadata": {
        "id": "mUlCwfdpEHJG"
      },
      "source": [
        "### Create the ```User``` entity type and its features\n",
        "\n",
        "You define your own entity types which represents one or more level you decide to refer your features. In your case, it would have a `user` entity. "
      ]
    },
    {
      "cell_type": "code",
      "execution_count": null,
      "metadata": {
        "id": "PnCU1wBND3W7"
      },
      "outputs": [],
      "source": [
        "try:\n",
        "    user_entity_type = mobile_gaming_feature_store.create_entity_type(\n",
        "        entity_type_id=ENTITY_ID, description=\"User Entity\", sync=True\n",
        "    )\n",
        "except RuntimeError as error:\n",
        "    print(error)\n",
        "else:\n",
        "    USER_ENTITY_RESOURCE_NAME = user_entity_type.resource_name\n",
        "    print(\"Entity type name is\", USER_ENTITY_RESOURCE_NAME)"
      ]
    },
    {
      "cell_type": "markdown",
      "metadata": {
        "id": "bT9LXzu1EOvW"
      },
      "source": [
        "### Set Feature Monitoring\n",
        "\n",
        "Notice that Vertex AI Feature store has [feature monitoring capability](https://cloud.google.com/vertex-ai/docs/featurestore/monitoring). It is in preview, so you need to use v1beta1 Python which is a lower-level API than the one we've used so far in this notebook. \n",
        "\n",
        "The easiest way to set this for now is using [console UI](https://console.cloud.google.com/vertex-ai/features). For completeness, below is example to do this using v1beta1 SDK."
      ]
    },
    {
      "cell_type": "code",
      "execution_count": null,
      "metadata": {
        "id": "8WBlYUkOERaI"
      },
      "outputs": [],
      "source": [
        "from google.cloud.aiplatform_v1beta1 import \\\n",
        "    FeaturestoreServiceClient as v1beta1_FeaturestoreServiceClient\n",
        "from google.cloud.aiplatform_v1beta1.types import \\\n",
        "    entity_type as v1beta1_entity_type_pb2\n",
        "from google.cloud.aiplatform_v1beta1.types import \\\n",
        "    featurestore_monitoring as v1beta1_featurestore_monitoring_pb2\n",
        "from google.cloud.aiplatform_v1beta1.types import \\\n",
        "    featurestore_service as v1beta1_featurestore_service_pb2\n",
        "from google.protobuf.duration_pb2 import Duration\n",
        "\n",
        "v1beta1_admin_client = v1beta1_FeaturestoreServiceClient(\n",
        "    client_options={\"api_endpoint\": API_ENDPOINT}\n",
        ")"
      ]
    },
    {
      "cell_type": "code",
      "execution_count": null,
      "metadata": {
        "id": "92X4-7PFETj5"
      },
      "outputs": [],
      "source": [
        "v1beta1_admin_client.update_entity_type(\n",
        "    v1beta1_featurestore_service_pb2.UpdateEntityTypeRequest(\n",
        "        entity_type=v1beta1_entity_type_pb2.EntityType(\n",
        "            name=v1beta1_admin_client.entity_type_path(\n",
        "                PROJECT_ID, REGION, FEATURESTORE_ID, ENTITY_ID\n",
        "            ),\n",
        "            monitoring_config=v1beta1_featurestore_monitoring_pb2.FeaturestoreMonitoringConfig(\n",
        "                snapshot_analysis=v1beta1_featurestore_monitoring_pb2.FeaturestoreMonitoringConfig.SnapshotAnalysis(\n",
        "                    monitoring_interval=Duration(seconds=86400),  # 1 day\n",
        "                ),\n",
        "            ),\n",
        "        ),\n",
        "    )\n",
        ")"
      ]
    },
    {
      "cell_type": "markdown",
      "metadata": {
        "id": "hxAuZjt3EWFo"
      },
      "source": [
        "### Create features\n",
        "\n",
        "In order to ingest features, you need to provide feature configuration and create them as featurestore resources."
      ]
    },
    {
      "cell_type": "markdown",
      "metadata": {
        "id": "hRXO2I5VEYwt"
      },
      "source": [
        "#### Create Feature configuration\n",
        "\n",
        "For simplicity, I created the configuration in a declarative way. Of course, we can create an helper function to built it from Bigquery schema.\n",
        "Also notice that we want to pass some feature on-fly. In this case, it country, operating system and language looks perfect for that."
      ]
    },
    {
      "cell_type": "code",
      "execution_count": null,
      "metadata": {
        "id": "K26NEYZIEbvE"
      },
      "outputs": [],
      "source": [
        "feature_configs = {\n",
        "    \"country\": {\n",
        "        \"value_type\": \"STRING\",\n",
        "        \"description\": \"The country of customer\",\n",
        "        \"labels\": {\"status\": \"passed\"},\n",
        "    },\n",
        "    \"operating_system\": {\n",
        "        \"value_type\": \"STRING\",\n",
        "        \"description\": \"The operating system of device\",\n",
        "        \"labels\": {\"status\": \"passed\"},\n",
        "    },\n",
        "    \"language\": {\n",
        "        \"value_type\": \"STRING\",\n",
        "        \"description\": \"The language of device\",\n",
        "        \"labels\": {\"status\": \"passed\"},\n",
        "    },\n",
        "    \"cnt_user_engagement\": {\n",
        "        \"value_type\": \"DOUBLE\",\n",
        "        \"description\": \"A variable of user engagement level\",\n",
        "        \"labels\": {\"status\": \"passed\"},\n",
        "    },\n",
        "    \"cnt_level_start_quickplay\": {\n",
        "        \"value_type\": \"DOUBLE\",\n",
        "        \"description\": \"A variable of user engagement with start level\",\n",
        "        \"labels\": {\"status\": \"passed\"},\n",
        "    },\n",
        "    \"cnt_level_end_quickplay\": {\n",
        "        \"value_type\": \"DOUBLE\",\n",
        "        \"description\": \"A variable of user engagement with end level\",\n",
        "        \"labels\": {\"status\": \"passed\"},\n",
        "    },\n",
        "    \"cnt_level_complete_quickplay\": {\n",
        "        \"value_type\": \"DOUBLE\",\n",
        "        \"description\": \"A variable of user engagement with complete status\",\n",
        "        \"labels\": {\"status\": \"passed\"},\n",
        "    },\n",
        "    \"cnt_level_reset_quickplay\": {\n",
        "        \"value_type\": \"DOUBLE\",\n",
        "        \"description\": \"A variable of user engagement with reset status\",\n",
        "        \"labels\": {\"status\": \"passed\"},\n",
        "    },\n",
        "    \"cnt_post_score\": {\n",
        "        \"value_type\": \"DOUBLE\",\n",
        "        \"description\": \"A variable of user score\",\n",
        "        \"labels\": {\"status\": \"passed\"},\n",
        "    },\n",
        "    \"cnt_spend_virtual_currency\": {\n",
        "        \"value_type\": \"DOUBLE\",\n",
        "        \"description\": \"A variable of user virtual amount\",\n",
        "        \"labels\": {\"status\": \"passed\"},\n",
        "    },\n",
        "    \"cnt_ad_reward\": {\n",
        "        \"value_type\": \"DOUBLE\",\n",
        "        \"description\": \"A variable of user reward\",\n",
        "        \"labels\": {\"status\": \"passed\"},\n",
        "    },\n",
        "    \"cnt_challenge_a_friend\": {\n",
        "        \"value_type\": \"DOUBLE\",\n",
        "        \"description\": \"A variable of user challenges with friends\",\n",
        "        \"labels\": {\"status\": \"passed\"},\n",
        "    },\n",
        "    \"cnt_completed_5_levels\": {\n",
        "        \"value_type\": \"DOUBLE\",\n",
        "        \"description\": \"A variable of user level 5 completed\",\n",
        "        \"labels\": {\"status\": \"passed\"},\n",
        "    },\n",
        "    \"cnt_use_extra_steps\": {\n",
        "        \"value_type\": \"DOUBLE\",\n",
        "        \"description\": \"A variable of user extra steps\",\n",
        "        \"labels\": {\"status\": \"passed\"},\n",
        "    },\n",
        "}"
      ]
    },
    {
      "cell_type": "markdown",
      "metadata": {
        "id": "FjzMd1XbEfdo"
      },
      "source": [
        "#### Create features using `batch_create_features` method\n",
        "\n",
        "Once you have the feature configuration, you can create feature resources using `batch_create_features` method."
      ]
    },
    {
      "cell_type": "code",
      "execution_count": null,
      "metadata": {
        "id": "nqlgCDI9pbCD"
      },
      "outputs": [],
      "source": [
        "try:\n",
        "    user_entity_type.batch_create_features(feature_configs=feature_configs, sync=True)\n",
        "except RuntimeError as error:\n",
        "    print(error)\n",
        "else:\n",
        "    for feature in user_entity_type.list_features():\n",
        "        print(\"\")\n",
        "        print(f\"The resource name of {feature.name} feature is\", feature.resource_name)"
      ]
    },
    {
      "cell_type": "markdown",
      "metadata": {
        "id": "7zpFV7wAppkC"
      },
      "source": [
        "### Search features\n",
        "\n",
        "Vertex AI Feature store supports searching capabilities. Below you have a simple example that shows how to filter a feature based on its name. "
      ]
    },
    {
      "cell_type": "code",
      "execution_count": null,
      "metadata": {
        "id": "BJXYLLOfppCL"
      },
      "outputs": [],
      "source": [
        "feature_query = \"feature_id:cnt_user_engagement\"\n",
        "searched_features = Feature.search(query=feature_query)\n",
        "searched_features"
      ]
    },
    {
      "cell_type": "markdown",
      "metadata": {
        "id": "is9C_6-QpxG3"
      },
      "source": [
        "## Ingest features \n",
        "\n",
        "At that point, you create all resources associated to the feature store. You just need to import feature values before you can use them for online/offline serving."
      ]
    },
    {
      "cell_type": "code",
      "execution_count": null,
      "metadata": {
        "id": "4QgjW2vhsEUE"
      },
      "outputs": [],
      "source": [
        "FEATURES_IDS = [feature.name for feature in user_entity_type.list_features()]"
      ]
    },
    {
      "cell_type": "code",
      "execution_count": null,
      "metadata": {
        "id": "U5wE5h4GN_aA"
      },
      "outputs": [],
      "source": [
        "try:\n",
        "    user_entity_type.ingest_from_bq(\n",
        "        feature_ids=FEATURES_IDS,\n",
        "        feature_time=FEATURE_TIME,\n",
        "        bq_source_uri=BQ_SOURCE_URI,\n",
        "        entity_id_field=ENTITY_ID_FIELD,\n",
        "        disable_online_serving=False,\n",
        "        worker_count=10,\n",
        "        sync=False,\n",
        "    )\n",
        "except RuntimeError as error:\n",
        "    print(error)"
      ]
    },
    {
      "cell_type": "markdown",
      "metadata": {
        "id": "8lCMpDPGp-oQ"
      },
      "source": [
        "# Train and deploy a real-time churn ML model using Vertex AI Training and Endpoints\n",
        "\n",
        "Now that you have your features and you are almost ready to train our churn model.\n",
        "\n",
        "Below an high level picture\n",
        "\n",
        "<img src=\"./assets/train_model_4.png\">\n",
        "\n",
        "Let's dive into each step of this process."
      ]
    },
    {
      "cell_type": "markdown",
      "metadata": {
        "id": "VMrvnuyjqGfY"
      },
      "source": [
        "## Fetch training data with point-in-time query using BigQuery and Vertex AI Feature store \n",
        " \n",
        "As we mentioned above, in real time churn prediction, it is so important defining the label you want to predict with your model.\n",
        " \n",
        "Let's assume that you decide to predict the churn probability over the next hour. So now you have your label. Next step is to define your training sample. But let's think about that for a second.\n",
        " \n",
        "In that churn real time system, you have a high volume of transactions you could use to calculate those features which keep floating and are collected constantly over time. It implies that you always get fresh data to reconstruct features. And depending on when you decide to calculate one feature or another you can end up with a set of features that are not aligned in time.\n",
        " \n",
        "When you have labels available, it would be incredibly difficult to say which set of features contains the most up to date historical information associated with the label you want to predict. And, when you are not able to guarantee that, the performance of your model would be badly affected because you serve no representative features of the data and the label from the field when it goes live. So you need a way to get the most updated features you calculated over time before the label becomes available in order to avoid this informational skew.\n",
        " \n",
        "**With the Vertex AI Feature store, you can fetch feature values corresponding to a particular timestamp thanks to point-in-time lookup capability.** In our case, it would be the timestamp associated with the label you want to predict with your model. In this way, you will avoid data leakage and you will get the most updated features to train your model.\n",
        " \n",
        "Let's see how to do that.\n"
      ]
    },
    {
      "cell_type": "markdown",
      "metadata": {
        "id": "RE_Pvmu-qdDt"
      },
      "source": [
        "### Define query for reading instances at a specific point in time\n",
        "\n",
        "First thing, you need to define the set of reading instances at a specific point in time you want to consider in order to generate your training sample."
      ]
    },
    {
      "cell_type": "code",
      "execution_count": null,
      "metadata": {
        "id": "bUDVw7l-qF2x"
      },
      "outputs": [],
      "source": [
        "read_instances_query = f\"\"\"\n",
        "CREATE OR REPLACE TABLE\n",
        "  `{PROJECT_ID}.{BQ_DATASET}.{READ_INSTANCES_TABLE}` AS\n",
        "WITH\n",
        "\n",
        "  # get training threshold ----------------------------------------------------------------------------------\n",
        "  get_training_threshold AS (\n",
        "  SELECT\n",
        "    (MAX(event_timestamp) - 10800000000) AS training_thrs\n",
        "  FROM\n",
        "    `firebase-public-project.analytics_153293282.events_*`\n",
        "  WHERE\n",
        "    event_name=\"user_engagement\"\n",
        "    AND\n",
        "    TIMESTAMP_ADD(PARSE_TIMESTAMP('%Y-%m-%d %H:%M:%S', FORMAT_TIMESTAMP('%Y-%m-%d %H:%M:%S', TIMESTAMP_MICROS(event_timestamp))), INTERVAL 1351 DAY) < '{TODAY}'),\n",
        "\n",
        "  # query to create label -----------------------------------------------------------------------------------\n",
        "  get_label AS (\n",
        "  SELECT\n",
        "    user_pseudo_id,\n",
        "    user_last_engagement,\n",
        "    #label = 1 if last_touch within last hour hr else 0\n",
        "  IF\n",
        "    (user_last_engagement < (\n",
        "      SELECT\n",
        "        training_thrs\n",
        "      FROM\n",
        "        get_training_threshold),\n",
        "      1,\n",
        "      0 ) AS churned\n",
        "  FROM (\n",
        "    SELECT\n",
        "      user_pseudo_id,\n",
        "      MAX(event_timestamp) AS user_last_engagement\n",
        "    FROM\n",
        "      `firebase-public-project.analytics_153293282.events_*`\n",
        "    WHERE\n",
        "      event_name=\"user_engagement\"\n",
        "    AND\n",
        "    TIMESTAMP_ADD(PARSE_TIMESTAMP('%Y-%m-%d %H:%M:%S', FORMAT_TIMESTAMP('%Y-%m-%d %H:%M:%S', TIMESTAMP_MICROS(event_timestamp))), INTERVAL 1351 DAY) < '{TODAY}'\n",
        "    GROUP BY\n",
        "      user_pseudo_id )\n",
        "  GROUP BY\n",
        "    1,\n",
        "    2),\n",
        "\n",
        "  # query to create class weights --------------------------------------------------------------------------------\n",
        "  get_class_weights AS (\n",
        "  SELECT\n",
        "    CAST(COUNT(*) / (2*(COUNT(*) - SUM(churned))) AS STRING) AS class_weight_zero,\n",
        "    CAST(COUNT(*) / (2*SUM(churned)) AS STRING) AS class_weight_one,\n",
        "  FROM\n",
        "    get_label )\n",
        "\n",
        "SELECT\n",
        "  user_pseudo_id as user,\n",
        "  PARSE_TIMESTAMP('%Y-%m-%d %H:%M:%S', CONCAT('{TODAY}', ' ', STRING(TIME_TRUNC(CURRENT_TIME(), SECOND))), 'UTC') as timestamp,\n",
        "  churned AS churned,\n",
        "  CASE\n",
        "      WHEN churned = 0 THEN ( SELECT class_weight_zero FROM get_class_weights)\n",
        "      ELSE ( SELECT class_weight_one\n",
        "       FROM get_class_weights)\n",
        "    END AS class_weights\n",
        "FROM\n",
        "  get_label \n",
        "\"\"\""
      ]
    },
    {
      "cell_type": "markdown",
      "metadata": {
        "id": "wTB3853wcYm6"
      },
      "source": [
        "### Create the BigQuery instances tables\n",
        "\n",
        "You store those instances in a Bigquery table."
      ]
    },
    {
      "cell_type": "code",
      "execution_count": null,
      "metadata": {
        "id": "0PRgsZl09vJ0"
      },
      "outputs": [],
      "source": [
        "run_bq_query(read_instances_query)"
      ]
    },
    {
      "cell_type": "markdown",
      "metadata": {
        "id": "SwSsdk2AcdTf"
      },
      "source": [
        "### Serve features for batch training\n",
        "\n",
        "Then you use the `batch_serve_to_gcs` in order to generate your training sample and store it as csv file in a target cloud bucket.\n"
      ]
    },
    {
      "cell_type": "code",
      "execution_count": null,
      "metadata": {
        "id": "LnP0Q5XtwfYM"
      },
      "outputs": [],
      "source": [
        "mobile_gaming_feature_store.batch_serve_to_gcs(\n",
        "    gcs_destination_output_uri_prefix=GCS_DESTINATION_OUTPUT_URI,\n",
        "    gcs_destination_type=\"csv\",\n",
        "    serving_feature_ids=SERVING_FEATURE_IDS,\n",
        "    read_instances_uri=READ_INSTANCES_URI,\n",
        "    pass_through_fields=[\"churned\", \"class_weights\"],\n",
        ")"
      ]
    },
    {
      "cell_type": "markdown",
      "metadata": {
        "id": "Vjvv7NKnYfcU"
      },
      "source": [
        "## Train a custom model on Vertex AI with Training Pipelines\n",
        "\n",
        "Now that we produce the training sample, we use the Vertex AI SDK to train an new version of the model using Vertex AI Training.\n"
      ]
    },
    {
      "cell_type": "markdown",
      "metadata": {
        "id": "Gm8PKhFfoHO4"
      },
      "source": [
        "### Create training package and training sample"
      ]
    },
    {
      "cell_type": "code",
      "execution_count": null,
      "metadata": {
        "id": "zAYW_N_Ewc_5"
      },
      "outputs": [],
      "source": [
        "!rm -Rf train_package #if train_package already exist"
      ]
    },
    {
      "cell_type": "code",
      "execution_count": null,
      "metadata": {
        "id": "OZLVGnWzBVER"
      },
      "outputs": [],
      "source": [
        "!mkdir -m 777 -p trainer data/ingest data/raw model config\n",
        "!gsutil -m cp -r $GCS_DESTINATION_OUTPUT_URI/*.csv data/ingest\n",
        "!head -n 2000 data/ingest/*.csv > data/raw/sample.csv"
      ]
    },
    {
      "cell_type": "markdown",
      "metadata": {
        "id": "ZLmh54sm8m0l"
      },
      "source": [
        "### Create training script\n",
        "\n",
        "You create the training script to train a XGboost model."
      ]
    },
    {
      "cell_type": "code",
      "execution_count": null,
      "metadata": {
        "id": "oTp85Qfpwc_6"
      },
      "outputs": [],
      "source": [
        "!touch trainer/__init__.py"
      ]
    },
    {
      "cell_type": "code",
      "execution_count": null,
      "metadata": {
        "id": "PVGEf68fDSax"
      },
      "outputs": [],
      "source": [
        "%%writefile trainer/task.py\n",
        "import os\n",
        "from pathlib import Path\n",
        "import argparse\n",
        "import yaml\n",
        "\n",
        "import numpy as np\n",
        "import pandas as pd\n",
        "from sklearn.model_selection import train_test_split\n",
        "from sklearn.impute import SimpleImputer\n",
        "from sklearn.preprocessing import OneHotEncoder\n",
        "from sklearn.pipeline import Pipeline\n",
        "import xgboost as xgb\n",
        "import joblib\n",
        "import warnings\n",
        "warnings.filterwarnings(\"ignore\")\n",
        "\n",
        "def get_args():\n",
        "    \"\"\"\n",
        "    Get arguments from command line.\n",
        "    Returns:\n",
        "        args: parsed arguments\n",
        "    \"\"\"\n",
        "    parser = argparse.ArgumentParser()\n",
        "    parser.add_argument(\n",
        "        '--data_path',\n",
        "        required=False,\n",
        "        default=os.getenv('AIP_TRAINING_DATA_URI'),\n",
        "        type=str,\n",
        "        help='path to read data')\n",
        "    parser.add_argument(\n",
        "        '--learning_rate',\n",
        "        required=False,\n",
        "        default=0.01,\n",
        "        type=int,\n",
        "        help='number of epochs')\n",
        "    parser.add_argument(\n",
        "        '--model_dir',\n",
        "        required=False,\n",
        "        default=os.getenv('AIP_MODEL_DIR'),\n",
        "        type=str,\n",
        "        help='dir to store saved model')\n",
        "    parser.add_argument(\n",
        "        '--config_path',\n",
        "        required=False,\n",
        "        default='../config.yaml',\n",
        "        type=str,\n",
        "        help='path to read config file')\n",
        "    args = parser.parse_args()\n",
        "    return args\n",
        "\n",
        "\n",
        "def ingest_data(data_path, data_model_params):\n",
        "    \"\"\"\n",
        "    Ingest data\n",
        "    Args:\n",
        "        data_path: path to read data\n",
        "        data_model_params: data model parameters\n",
        "    Returns:\n",
        "        df: dataframe\n",
        "    \"\"\"\n",
        "    # read training data\n",
        "    df = pd.read_csv(data_path, sep=',',\n",
        "                     dtype={col: 'string' for col in data_model_params['categorical_features']})\n",
        "    return df\n",
        "\n",
        "\n",
        "def preprocess_data(df, data_model_params):\n",
        "    \"\"\"\n",
        "    Preprocess data\n",
        "    Args:\n",
        "        df: dataframe\n",
        "        data_model_params: data model parameters\n",
        "    Returns:\n",
        "        df: dataframe\n",
        "    \"\"\"\n",
        "\n",
        "    # convert nan values because pd.NA ia not supported by SimpleImputer\n",
        "    # bug in sklearn 0.23.1 version: https://github.com/scikit-learn/scikit-learn/pull/17526\n",
        "    # decided to skip NAN values for now\n",
        "    df.replace({pd.NA: np.nan}, inplace=True)\n",
        "    df.dropna(inplace=True)\n",
        "\n",
        "    # get features and labels\n",
        "    x = df[data_model_params['numerical_features'] + data_model_params['categorical_features'] + [\n",
        "        data_model_params['weight_feature']]]\n",
        "    y = df[data_model_params['target']]\n",
        "\n",
        "    # train-test split\n",
        "    x_train, x_test, y_train, y_test = train_test_split(x, y,\n",
        "                                                        test_size=data_model_params['train_test_split']['test_size'],\n",
        "                                                        random_state=data_model_params['train_test_split'][\n",
        "                                                            'random_state'])\n",
        "    return x_train, x_test, y_train, y_test\n",
        "\n",
        "\n",
        "def build_pipeline(learning_rate, model_params):\n",
        "    \"\"\"\n",
        "    Build pipeline\n",
        "    Args:\n",
        "        learning_rate: learning rate\n",
        "        model_params: model parameters\n",
        "    Returns:\n",
        "        pipeline: pipeline\n",
        "    \"\"\"\n",
        "    # build pipeline\n",
        "    pipeline = Pipeline([\n",
        "        # ('imputer', SimpleImputer(strategy='most_frequent')),\n",
        "        ('encoder', OneHotEncoder(handle_unknown='ignore')),\n",
        "        ('model', xgb.XGBClassifier(learning_rate=learning_rate,\n",
        "                                    use_label_encoder=False, #deprecated and breaks Vertex AI predictions\n",
        "                                    **model_params))\n",
        "    ])\n",
        "    return pipeline\n",
        "\n",
        "\n",
        "def main():\n",
        "    print('Starting training...')\n",
        "    args = get_args()\n",
        "    data_path = args.data_path\n",
        "    learning_rate = args.learning_rate\n",
        "    model_dir = args.model_dir\n",
        "    config_path = args.config_path\n",
        "\n",
        "    # read config file\n",
        "    with open(config_path, 'r') as f:\n",
        "        config = yaml.load(f, Loader=yaml.FullLoader)\n",
        "    f.close()\n",
        "    data_model_params = config['data_model_params']\n",
        "    model_params = config['model_params']\n",
        "\n",
        "    # ingest data\n",
        "    print('Reading data...')\n",
        "    data_df = ingest_data(data_path, data_model_params)\n",
        "\n",
        "    # preprocess data\n",
        "    print('Preprocessing data...')\n",
        "    x_train, x_test, y_train, y_test = preprocess_data(data_df, data_model_params)\n",
        "    sample_weight = x_train.pop(data_model_params['weight_feature'])\n",
        "    sample_weight_eval_set = x_test.pop(data_model_params['weight_feature'])\n",
        "\n",
        "    # train lgb model\n",
        "    print('Training model...')\n",
        "    xgb_pipeline = build_pipeline(learning_rate, model_params)\n",
        "    # need to use fit_transform to get the encoded eval data\n",
        "    x_train_transformed = xgb_pipeline[:-1].fit_transform(x_train)\n",
        "    x_test_transformed = xgb_pipeline[:-1].transform(x_test)\n",
        "    xgb_pipeline[-1].fit(x_train_transformed, y_train,\n",
        "                         sample_weight=sample_weight,\n",
        "                         eval_set=[(x_test_transformed, y_test)],\n",
        "                         sample_weight_eval_set=[sample_weight_eval_set],\n",
        "                         eval_metric='error',\n",
        "                         early_stopping_rounds=50,\n",
        "                         verbose=True)\n",
        "    # save model\n",
        "    print('Saving model...')\n",
        "    model_path = Path(model_dir)\n",
        "    model_path.mkdir(parents=True, exist_ok=True)\n",
        "    joblib.dump(xgb_pipeline, f'{model_dir}/model.joblib')\n",
        "\n",
        "\n",
        "if __name__ == \"__main__\":\n",
        "    main()"
      ]
    },
    {
      "cell_type": "markdown",
      "metadata": {
        "id": "LD28QoIw8sdf"
      },
      "source": [
        "### Create requirements.txt\n",
        "\n",
        "You write the requirement file to build the training container."
      ]
    },
    {
      "cell_type": "code",
      "execution_count": null,
      "metadata": {
        "id": "CZfnfDAH8yos"
      },
      "outputs": [],
      "source": [
        "%%writefile requirements.txt\n",
        "pip==22.0.4\n",
        "PyYAML==5.3.1\n",
        "joblib==0.15.1\n",
        "numpy==1.18.5\n",
        "pandas==1.0.4\n",
        "scipy==1.4.1\n",
        "scikit-learn==0.23.1\n",
        "xgboost==1.1.1"
      ]
    },
    {
      "cell_type": "markdown",
      "metadata": {
        "id": "F3KLInhPwc_7"
      },
      "source": [
        "### Create training configuration\n",
        "\n",
        "You create a training configuration with data and model params. "
      ]
    },
    {
      "cell_type": "code",
      "execution_count": null,
      "metadata": {
        "id": "_E7dPiChwc_7"
      },
      "outputs": [],
      "source": [
        "%%writefile config/config.yaml\n",
        "data_model_params:\n",
        "  target: churned\n",
        "  categorical_features:\n",
        "    - country\n",
        "    - operating_system\n",
        "    - language\n",
        "  numerical_features:\n",
        "    - cnt_user_engagement\n",
        "    - cnt_level_start_quickplay\n",
        "    - cnt_level_end_quickplay\n",
        "    - cnt_level_complete_quickplay\n",
        "    - cnt_level_reset_quickplay\n",
        "    - cnt_post_score\n",
        "    - cnt_spend_virtual_currency\n",
        "    - cnt_ad_reward\n",
        "    - cnt_challenge_a_friend\n",
        "    - cnt_completed_5_levels\n",
        "    - cnt_use_extra_steps\n",
        "  weight_feature: class_weights\n",
        "  train_test_split:\n",
        "    test_size: 0.2\n",
        "    random_state: 8\n",
        "model_params:\n",
        "  booster: gbtree\n",
        "  objective: binary:logistic\n",
        "  max_depth: 80\n",
        "  n_estimators: 100\n",
        "  random_state: 8"
      ]
    },
    {
      "cell_type": "markdown",
      "metadata": {
        "id": "55WduJ3M9WuH"
      },
      "source": [
        "### Test the model locally with `local-run`\n",
        "\n",
        "You leverage the Vertex AI SDK `local-run` to test the script locally."
      ]
    },
    {
      "cell_type": "code",
      "execution_count": null,
      "metadata": {
        "id": "TKMtFOTM9R63"
      },
      "outputs": [],
      "source": [
        "test_job_script = f\"\"\"\n",
        "gcloud ai custom-jobs local-run \\\n",
        "--executor-image-uri={BASE_CPU_IMAGE} \\\n",
        "--python-module=trainer.task \\\n",
        "--extra-dirs=config,data,model \\\n",
        "-- \\\n",
        "--data_path data/raw/sample.csv \\\n",
        "--model_dir model \\\n",
        "--config_path config/config.yaml\n",
        "\"\"\"\n",
        "\n",
        "with open(\"local_train_job_run.sh\", \"w+\") as s:\n",
        "    s.write(test_job_script)\n",
        "s.close()"
      ]
    },
    {
      "cell_type": "code",
      "execution_count": null,
      "metadata": {
        "id": "9teD2VCAwc_7"
      },
      "outputs": [],
      "source": [
        "!chmod +x ./local_train_job_run.sh && ./local_train_job_run.sh"
      ]
    },
    {
      "cell_type": "markdown",
      "metadata": {
        "id": "1Z1Kwg6pe0Jx"
      },
      "source": [
        "### Create and Launch the Custom training pipeline to train the model with `autopackaging`.\n",
        "\n",
        "You use `autopackaging` from Vertex AI SDK in order to \n",
        "\n",
        "1. Build a custom Docker training image.\n",
        "2. Push the image to Container Registry.\n",
        "3. Start a Vertex AI CustomJob.\n"
      ]
    },
    {
      "cell_type": "code",
      "execution_count": null,
      "metadata": {
        "id": "xcnEOZKywc_8"
      },
      "outputs": [],
      "source": [
        "!mkdir -m 777 -p {MODEL_PACKAGE_PATH} && mv -t {MODEL_PACKAGE_PATH} trainer requirements.txt config"
      ]
    },
    {
      "cell_type": "code",
      "execution_count": null,
      "metadata": {
        "id": "XQ4koRVCwc_8"
      },
      "outputs": [],
      "source": [
        "train_job_script = f\"\"\"\n",
        "gcloud ai custom-jobs create \\\n",
        "--region={REGION} \\\n",
        "--display-name={TRAIN_JOB_NAME} \\\n",
        "--worker-pool-spec=machine-type={TRAINING_MACHINE_TYPE},replica-count={TRAINING_REPLICA_COUNT},executor-image-uri={BASE_CPU_IMAGE},local-package-path={MODEL_PACKAGE_PATH},python-module=trainer.task,extra-dirs=config \\\n",
        "--args=--data_path={DATA_PATH},--model_dir={MODEL_DIR},--config_path=config/config.yaml \\\n",
        "--verbosity='info'\n",
        "\"\"\"\n",
        "\n",
        "with open(\"train_job_run.sh\", \"w+\") as s:\n",
        "    s.write(train_job_script)\n",
        "s.close()"
      ]
    },
    {
      "cell_type": "code",
      "execution_count": null,
      "metadata": {
        "id": "Dwq1Jyklwc_8"
      },
      "outputs": [],
      "source": [
        "!chmod +x ./train_job_run.sh && ./train_job_run.sh"
      ]
    },
    {
      "cell_type": "markdown",
      "metadata": {
        "id": "3olHyo5MpPaC"
      },
      "source": [
        "### Check the status of training job and the result. \n",
        "\n",
        "You can use the following commands to monitor the status of your job and check for the artefact in the bucket once the training successfully run. "
      ]
    },
    {
      "cell_type": "code",
      "execution_count": null,
      "metadata": {
        "id": "Yh6-mWPhpfD_"
      },
      "outputs": [],
      "source": [
        "TRAIN_JOB_RESOURCE_NAME = \"[your-train-job-resource-name]\"  # @param {type:\"string\"}"
      ]
    },
    {
      "cell_type": "code",
      "execution_count": null,
      "metadata": {
        "id": "jpOA6aw5wc_8"
      },
      "outputs": [],
      "source": [
        "!gcloud ai custom-jobs describe $TRAIN_JOB_RESOURCE_NAME"
      ]
    },
    {
      "cell_type": "code",
      "execution_count": null,
      "metadata": {
        "id": "Lyborm0Myut5"
      },
      "outputs": [],
      "source": [
        "!gsutil ls $DESTINATION_URI"
      ]
    },
    {
      "cell_type": "markdown",
      "metadata": {
        "id": "tC9fkIMBwc_8"
      },
      "source": [
        "### Upload and Deploy Model on Vertex AI Endpoint\n",
        "\n",
        "You use a custom function to upload your model to a Vertex AI Model Registry."
      ]
    },
    {
      "cell_type": "code",
      "execution_count": null,
      "metadata": {
        "id": "W17gaIjtwc_8"
      },
      "outputs": [],
      "source": [
        "xgb_model = upload_model(\n",
        "    display_name=MODEL_NAME,\n",
        "    serving_container_image_uri=SERVING_CONTAINER_IMAGE_URI,\n",
        "    artifact_uri=DESTINATION_URI,\n",
        ")"
      ]
    },
    {
      "cell_type": "markdown",
      "metadata": {
        "id": "nWZmWjnye4N5"
      },
      "source": [
        "### Deploy Model to the same Endpoint with Traffic Splitting\n",
        "\n",
        "Now that you have registered in the model registry, you can deploy it in an endpoint. So you firstly create the endpoint and then you deploy your model."
      ]
    },
    {
      "cell_type": "code",
      "execution_count": null,
      "metadata": {
        "id": "ZWpDZVtmwc_9"
      },
      "outputs": [],
      "source": [
        "endpoint = create_endpoint(display_name=ENDPOINT_NAME)"
      ]
    },
    {
      "cell_type": "code",
      "execution_count": null,
      "metadata": {
        "id": "4Nw4o2fJwc_9"
      },
      "outputs": [],
      "source": [
        "deployed_model = deploy_model(\n",
        "    model=xgb_model,\n",
        "    machine_type=SERVING_MACHINE_TYPE,\n",
        "    endpoint=endpoint,\n",
        "    deployed_model_display_name=DEPLOYED_MODEL_NAME,\n",
        "    min_replica_count=1,\n",
        "    max_replica_count=1,\n",
        "    sync=False,\n",
        ")"
      ]
    },
    {
      "cell_type": "markdown",
      "metadata": {
        "id": "1TNzL_EGrVUm"
      },
      "source": [
        "# Serve ML features at scale with low latency\n",
        " \n",
        "At that time, you are ready **to deploy our simple model which would requires fetching preprocessed attributes as input features in real time**.\n",
        " \n",
        "Below you can see how it works\n",
        " \n",
        "<center><img src=\"./assets/online_serving_5.png\" width=\"800\"/></center>\n",
        " \n",
        "But think about those features for a second.\n",
        " \n",
        "Your behavioral features used to train your model, they cannot be computed when you are going to serve the model online.\n",
        " \n",
        "How could you compute the number of times a user challenged a friend within the last 24 hours on the fly?\n",
        " \n",
        "You need to be computed this feature on the server side and serve it with low latency. And because Bigquery is not optimized for those read operations, we need a different service that allows singleton lookup where the result is a single row with many columns.\n",
        " \n",
        "Also, even if it was not the case, when you deploy a model that requires preprocessing your data, you need to be sure to reproduce the same preprocessing steps you had when you trained it. If you are not able to do that a skew between training and serving data would happen and it will badly affect your model performance (and in the worst scenario break your serving system).\n",
        " \n",
        "You need a way to mitigate that in a way you don't need to implement those preprocessing steps online but just serve the same aggregated features you already have for training to generate online prediction.\n",
        " \n",
        "These are other valuable reasons to introduce Vertex AI Feature Store. With it, you have a service which helps you to serve features at scale with low latency as they were available at training time mitigating in that way possible training-serving skew.\n",
        " \n",
        "Now that you know **why you need a feature store**, let's conclude this journey by deploying your model using a feature store to retrieve features online, pass them to the endpoint and generate predictions.\n"
      ]
    },
    {
      "cell_type": "markdown",
      "metadata": {
        "id": "1e600b031a50"
      },
      "source": [
        "## Time to simulate online predictions\n",
        "\n",
        "Once the model is ready to receive prediction requests, you can use the `simulate_prediction` function to generate them. \n",
        "\n",
        "In particular, that function\n",
        "\n",
        "- format entities for prediction\n",
        "- retrieve static features with a singleton lookup operations from Vertex AI Feature store\n",
        "- run the prediction request and get back the result\n",
        "\n",
        "for a number of requests and some latency you define. \n"
      ]
    },
    {
      "cell_type": "code",
      "execution_count": null,
      "metadata": {
        "id": "k42QhcjcG5pe"
      },
      "outputs": [],
      "source": [
        "simulate_prediction(endpoint=endpoint, n_requests=10, latency=1)"
      ]
    },
    {
      "cell_type": "markdown",
      "metadata": {
        "id": "8d3S1d1urZOy"
      },
      "source": [
        "## Cleaning up\n",
        "\n",
        "To clean up all Google Cloud resources used in this project, you can [delete the Google Cloud\n",
        "project](https://cloud.google.com/resource-manager/docs/creating-managing-projects#shutting_down_projects) you used for the tutorial.\n",
        "\n",
        "Otherwise, you can delete the individual resources you created in this tutorial"
      ]
    },
    {
      "cell_type": "code",
      "execution_count": null,
      "metadata": {
        "id": "NESfOgK5nkNu"
      },
      "outputs": [],
      "source": [
        "# delete feature store\n",
        "mobile_gaming_feature_store.delete(sync=True, force=True)"
      ]
    },
    {
      "cell_type": "code",
      "execution_count": null,
      "metadata": {
        "id": "4W28-97kfPDb"
      },
      "outputs": [],
      "source": [
        "# delete Vertex AI resources\n",
        "endpoint.undeploy_all()\n",
        "xgb_model.delete()"
      ]
    },
    {
      "cell_type": "code",
      "execution_count": null,
      "metadata": {
        "id": "FMXT2akXrZOy"
      },
      "outputs": [],
      "source": [
        "# Delete bucket\n",
        "delete_bucket = False\n",
        "if (delete_bucket or os.getenv(\"IS_TESTING\")) and \"BUCKET_URI\" in globals():\n",
        "    ! gsutil -m rm -r $BUCKET_URI"
      ]
    },
    {
      "cell_type": "code",
      "execution_count": null,
      "metadata": {
        "id": "oLVhx7bQeJ6H"
      },
      "outputs": [],
      "source": [
        "# Delete the BigQuery Dataset\n",
        "!bq rm -r -f -d $PROJECT_ID:$BQ_DATASET"
      ]
    }
  ],
  "metadata": {
    "colab": {
      "collapsed_sections": [],
      "name": "mobile_gaming_feature_store.ipynb",
      "toc_visible": true
    },
    "kernelspec": {
      "display_name": "Python 3",
      "name": "python3"
    }
  },
  "nbformat": 4,
  "nbformat_minor": 0
}
