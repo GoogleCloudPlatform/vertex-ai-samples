{
 "cells": [
  {
   "cell_type": "code",
   "execution_count": null,
   "metadata": {
    "id": "ur8xi4C7S06n"
   },
   "outputs": [],
   "source": [
    "# Copyright 2022 Google LLC\n",
    "#\n",
    "# Licensed under the Apache License, Version 2.0 (the \"License\");\n",
    "# you may not use this file except in compliance with the License.\n",
    "# You may obtain a copy of the License at\n",
    "#\n",
    "#     https://www.apache.org/licenses/LICENSE-2.0\n",
    "#\n",
    "# Unless required by applicable law or agreed to in writing, software\n",
    "# distributed under the License is distributed on an \"AS IS\" BASIS,\n",
    "# WITHOUT WARRANTIES OR CONDITIONS OF ANY KIND, either express or implied.\n",
    "# See the License for the specific language governing permissions and\n",
    "# limitations under the License."
   ]
  },
  {
   "cell_type": "markdown",
   "metadata": {
    "id": "JAPoU8Sm5E6e"
   },
   "source": [
    "<table align=\"left\">\n",
    "\n",
    "  <td>\n",
    "    <a href=\"https://colab.research.google.com/github/GoogleCloudPlatform/vertex-ai-samples/blob/main/notebooks/community/model_evaluation/automl_tabular_regression_model_evaluation.ipynb\">\n",
    "      <img src=\"https://cloud.google.com/ml-engine/images/colab-logo-32px.png\" alt=\"Colab logo\"> Run in Colab\n",
    "    </a>\n",
    "  </td>\n",
    "  <td>\n",
    "    <a href=\"https://github.com/GoogleCloudPlatform/vertex-ai-samples/blob/main/notebooks/community/model_evaluation/automl_tabular_regression_model_evaluation.ipynb\">\n",
    "      <img src=\"https://cloud.google.com/ml-engine/images/github-logo-32px.png\" alt=\"GitHub logo\">\n",
    "      View on GitHub\n",
    "    </a>\n",
    "  </td>\n",
    "  <td>\n",
    "    <a href=\"https://console.cloud.google.com/vertex-ai/workbench/deploy-notebook?download_url=https://raw.githubusercontent.com/GoogleCloudPlatform/vertex-ai-samples/main/notebooks/community/model_evaluation/automl_tabular_regression_model_evaluation.ipynb\">\n",
    "      <img src=\"https://lh3.googleusercontent.com/UiNooY4LUgW_oTvpsNhPpQzsstV5W8F7rYgxgGBD85cWJoLmrOzhVs_ksK_vgx40SHs7jCqkTkCk=e14-rj-sc0xffffff-h130-w32\" alt=\"Vertex AI logo\">\n",
    "      Open in Vertex AI Workbench\n",
    "    </a>\n",
    "  </td>                                                                                               \n",
    "</table>"
   ]
  },
  {
   "cell_type": "markdown",
   "metadata": {
    "id": "tvgnzT1CKxrO"
   },
   "source": [
    "## Overview\n",
    "\n",
    "This notebook demonstrates how to use Vertex AI regression model evaluation componenet to evaluate an AutoML regression model. Model evaluation helps you determine your model performance based on the evaluation metrics and improve the model if necessary. "
   ]
  },
  {
   "cell_type": "markdown",
   "metadata": {
    "id": "d975e698c9a4"
   },
   "source": [
    "### Objective\n",
    "\n",
    "In this tutorial, you learn how to evaluate a pre-trained Vetex AI model resource  through a Vertex AI pipeline job using `google_cloud_pipeline_components`:\n",
    "\n",
    "This tutorial uses the following Google Cloud ML services and resources:\n",
    "\n",
    "- Vertex AI `AutoML` \n",
    "- Vertex AI `Pipeline`\n",
    "\n",
    "\n",
    "The steps performed include:\n",
    "\n",
    "- Import a pre-trained `AutoML model resource` into the pipeline\n",
    "- Run a `batch prediction` job\n",
    "- Evaulate the AutoML model using the `regression evluation component`"
   ]
  },
  {
   "cell_type": "markdown",
   "metadata": {
    "id": "08d289fa873f"
   },
   "source": [
    "### Dataset\n",
    "\n",
    "The dataset being used in this notebook is a part of the PetFinder Dataset, available [here](https://www.kaggle.com/c/petfinder-adoption-prediction) on Kaggle. The current dataset is only a part of the original dataset considered for the problem of predicting whether the pet is adopted or not. It consists of the following fields:\n",
    "\n",
    "- `Type`: Type of animal (1 = Dog, 2 = Cat)\n",
    "- `Age`: Age of pet when listed, in months\n",
    "- `Breed1`: Primary breed of pet\n",
    "- `Gender`: Gender of pet\n",
    "- `Color1`: Color 1 of pet \n",
    "- `Color2`: Color 2 of pet\n",
    "- `MaturitySize`: Size at maturity (1 = Small, 2 = Medium, 3 = Large, 4 = Extra Large, 0 = Not Specified)\n",
    "- `FurLength`: Fur length (1 = Short, 2 = Medium, 3 = Long, 0 = Not Specified)\n",
    "- `Vaccinated`: Pet has been vaccinated (1 = Yes, 2 = No, 3 = Not Sure)\n",
    "- `Sterilized`: Pet has been spayed / neutered (1 = Yes, 2 = No, 3 = Not Sure)\n",
    "- `Health`: Health Condition (1 = Healthy, 2 = Minor Injury, 3 = Serious Injury, 0 = Not Specified)\n",
    "- `Fee`: Adoption fee (0 = Free)\n",
    "- `PhotoAmt`: Total uploaded photos for this pet\n",
    "- `Adopted`: Whether or not the pet was adopted (Yes/No).\n",
    "\n",
    "**Note**: This dataset is moved to a public Cloud Storage bucket and is accessed from there in this notebook."
   ]
  },
  {
   "cell_type": "markdown",
   "metadata": {
    "id": "aed92deeb4a0"
   },
   "source": [
    "### Costs \n",
    "This tutorial uses billable components of Google Cloud:\n",
    "\n",
    "* Vertex AI\n",
    "* Cloud Storage\n",
    "\n",
    "Learn about [Vertex AI\n",
    "pricing](https://cloud.google.com/vertex-ai/pricing) and [Cloud Storage\n",
    "pricing](https://cloud.google.com/storage/pricing), and use the [Pricing\n",
    "Calculator](https://cloud.google.com/products/calculator/)\n",
    "to generate a cost estimate based on your projected usage."
   ]
  },
  {
   "cell_type": "markdown",
   "metadata": {
    "id": "ze4-nDLfK4pw"
   },
   "source": [
    "### Set up your local development environment\n",
    "\n",
    "**If you are using Colab or Vertex AI Workbench Notebooks**, your environment already meets\n",
    "all the requirements to run this notebook. You can skip this step."
   ]
  },
  {
   "cell_type": "markdown",
   "metadata": {
    "id": "gCuSR8GkAgzl"
   },
   "source": [
    "**Otherwise**, make sure your environment meets this notebook's requirements.\n",
    "You need the following:\n",
    "\n",
    "* The Google Cloud SDK\n",
    "* Git\n",
    "* Python 3\n",
    "* virtualenv\n",
    "* Jupyter notebook running in a virtual environment with Python 3\n",
    "\n",
    "The Google Cloud guide to [Setting up a Python development\n",
    "environment](https://cloud.google.com/python/setup) and the [Jupyter\n",
    "installation guide](https://jupyter.org/install) provide detailed instructions\n",
    "for meeting these requirements. The following steps provide a condensed set of\n",
    "instructions:\n",
    "\n",
    "1. [Install and initialize the Cloud SDK.](https://cloud.google.com/sdk/docs/)\n",
    "\n",
    "1. [Install Python 3.](https://cloud.google.com/python/setup#installing_python)\n",
    "\n",
    "1. [Install\n",
    "   virtualenv](https://cloud.google.com/python/setup#installing_and_using_virtualenv)\n",
    "   and create a virtual environment that uses Python 3. Activate the virtual environment.\n",
    "\n",
    "1. To install Jupyter, run `pip3 install jupyter` on the\n",
    "command-line in a terminal shell.\n",
    "\n",
    "1. To launch Jupyter, run `jupyter notebook` on the command-line in a terminal shell.\n",
    "\n",
    "1. Open this notebook in the Jupyter Notebook Dashboard."
   ]
  },
  {
   "cell_type": "markdown",
   "metadata": {
    "id": "i7EUnXsZhAGF"
   },
   "source": [
    "## Installation\n",
    "\n",
    "Install the following packages required to execute this notebook. \n",
    "\n"
   ]
  },
  {
   "cell_type": "code",
   "execution_count": 1,
   "metadata": {
    "id": "2b4ef9b72d43"
   },
   "outputs": [
    {
     "name": "stdout",
     "output_type": "stream",
     "text": [
      "\u001b[33mWARNING: You are using pip version 21.0.1; however, version 22.2.2 is available.\n",
      "You should consider upgrading via the '/usr/local/bin/python3 -m pip install --upgrade pip' command.\u001b[0m\n",
      "\u001b[33mWARNING: You are using pip version 21.0.1; however, version 22.2.2 is available.\n",
      "You should consider upgrading via the '/usr/local/bin/python3 -m pip install --upgrade pip' command.\u001b[0m\n",
      "\u001b[33mWARNING: You are using pip version 21.0.1; however, version 22.2.2 is available.\n",
      "You should consider upgrading via the '/usr/local/bin/python3 -m pip install --upgrade pip' command.\u001b[0m\n",
      "\u001b[33mWARNING: You are using pip version 21.0.1; however, version 22.2.2 is available.\n",
      "You should consider upgrading via the '/usr/local/bin/python3 -m pip install --upgrade pip' command.\u001b[0m\n"
     ]
    }
   ],
   "source": [
    "import os\n",
    "\n",
    "# The Vertex AI Workbench Notebook product has specific requirements\n",
    "IS_WORKBENCH_NOTEBOOK = os.getenv(\"DL_ANACONDA_HOME\")\n",
    "IS_USER_MANAGED_WORKBENCH_NOTEBOOK = os.path.exists(\n",
    "    \"/opt/deeplearning/metadata/env_version\"\n",
    ")\n",
    "\n",
    "# Vertex AI Notebook requires dependencies to be installed with '--user'\n",
    "USER_FLAG = \"\"\n",
    "if IS_WORKBENCH_NOTEBOOK:\n",
    "    USER_FLAG = \"--user\"\n",
    "\n",
    "! pip3 install --upgrade google-cloud-aiplatform {USER_FLAG} -q\n",
    "! pip3 install google-cloud-pipeline-components==1.0.17 {USER_FLAG} -q\n",
    "! pip3 install --upgrade kfp google-cloud-pipeline-components {USER_FLAG} -q\n",
    "! pip3 install --upgrade matplotlib {USER_FLAG} -q"
   ]
  },
  {
   "cell_type": "markdown",
   "metadata": {
    "id": "hhq5zEbGg0XX"
   },
   "source": [
    "### Restart the kernel\n",
    "\n",
    "After you install the additional packages, you need to restart the notebook kernel so it can find the packages."
   ]
  },
  {
   "cell_type": "code",
   "execution_count": 2,
   "metadata": {
    "id": "EzrelQZ22IZj"
   },
   "outputs": [],
   "source": [
    "# Automatically restart kernel after installs\n",
    "import os\n",
    "\n",
    "if not os.getenv(\"IS_TESTING\"):\n",
    "    # Automatically restart kernel after installs\n",
    "    import IPython\n",
    "\n",
    "    app = IPython.Application.instance()\n",
    "    app.kernel.do_shutdown(True)"
   ]
  },
  {
   "cell_type": "markdown",
   "metadata": {
    "id": "lWEdiXsJg0XY"
   },
   "source": [
    "## Before you begin"
   ]
  },
  {
   "cell_type": "markdown",
   "metadata": {
    "id": "BF1j6f9HApxa"
   },
   "source": [
    "### Set up your Google Cloud project\n",
    "\n",
    "**The following steps are required, regardless of your notebook environment.**\n",
    "\n",
    "1. [Select or create a Google Cloud project](https://console.cloud.google.com/cloud-resource-manager). When you first create an account, you get a $300 free credit towards your compute/storage costs.\n",
    "\n",
    "1. [Make sure that billing is enabled for your project](https://cloud.google.com/billing/docs/how-to/modify-project).\n",
    "\n",
    "1. [Enable the Vertex AI, Compute Engine, and Dataflow APIs](https://console.cloud.google.com/flows/enableapi?apiid=aiplatform.googleapis.com,compute_component,dataflow.googleapis.com). {TODO: Update the APIs needed for your tutorial. Edit the API names, and update the link to append the API IDs, separating each one with a comma. For example, container.googleapis.com,cloudbuild.googleapis.com}\n",
    "\n",
    "1. If you are running this notebook locally, you need to install the [Cloud SDK](https://cloud.google.com/sdk).\n",
    "\n",
    "1. Enter your project ID in the cell below. Then run the cell to make sure the\n",
    "Cloud SDK uses the right project for all the commands in this notebook.\n",
    "\n",
    "**Compute service account storage object creator and viewer permissions!!!**\n",
    "\n",
    "**Note**: Jupyter runs lines prefixed with `!` as shell commands, and it interpolates Python variables prefixed with `$` into these commands."
   ]
  },
  {
   "cell_type": "markdown",
   "metadata": {
    "id": "WReHDGG5g0XY"
   },
   "source": [
    "#### Set your project ID\n",
    "\n",
    "**If you don't know your project ID**, you may be able to get your project ID using `gcloud`."
   ]
  },
  {
   "cell_type": "code",
   "execution_count": 1,
   "metadata": {
    "id": "oM1iC_MfAts1"
   },
   "outputs": [],
   "source": [
    "PROJECT_ID = \"[your-project-id]\"  # @param {type:\"string\"}"
   ]
  },
  {
   "cell_type": "code",
   "execution_count": 2,
   "metadata": {
    "id": "riG_qUokg0XZ"
   },
   "outputs": [
    {
     "name": "stdout",
     "output_type": "stream",
     "text": [
      "Project ID: vertex-ai-dev\n"
     ]
    }
   ],
   "source": [
    "if PROJECT_ID == \"\" or PROJECT_ID is None or PROJECT_ID == \"[your-project-id]\":\n",
    "    # Get your GCP project id from gcloud\n",
    "    shell_output = ! gcloud config list --format 'value(core.project)' 2>/dev/null\n",
    "    PROJECT_ID = shell_output[0]\n",
    "    print(\"Project ID:\", PROJECT_ID)"
   ]
  },
  {
   "cell_type": "code",
   "execution_count": 3,
   "metadata": {
    "id": "set_gcloud_project_id"
   },
   "outputs": [
    {
     "name": "stdout",
     "output_type": "stream",
     "text": [
      "Updated property [core/project].\n",
      "\n",
      "\n",
      "Updates are available for some Cloud SDK components.  To install them,\n",
      "please run:\n",
      "  $ gcloud components update\n",
      "\n",
      "\n",
      "\n",
      "To take a quick anonymous survey, run:\n",
      "  $ gcloud survey\n",
      "\n"
     ]
    }
   ],
   "source": [
    "! gcloud config set project $PROJECT_ID"
   ]
  },
  {
   "cell_type": "markdown",
   "metadata": {
    "id": "region"
   },
   "source": [
    "#### Region\n",
    "\n",
    "You can also change the `REGION` variable, which is used for operations\n",
    "throughout the rest of this notebook.  Below are regions supported for Vertex AI. It is recommended that you choose the region closest to you.\n",
    "\n",
    "- Americas: `us-central1`\n",
    "- Europe: `europe-west4`\n",
    "- Asia Pacific: `asia-east1`\n",
    "\n",
    "You may not use a multi-regional bucket for training with Vertex AI. Not all regions provide support for all Vertex AI services.\n",
    "\n",
    "Learn more about [Vertex AI regions](https://cloud.google.com/vertex-ai/docs/general/locations)."
   ]
  },
  {
   "cell_type": "code",
   "execution_count": 4,
   "metadata": {
    "id": "sduDOFQVF6kv"
   },
   "outputs": [],
   "source": [
    "REGION = \"[your-region]\"  # @param {type: \"string\"}\n",
    "\n",
    "if REGION == \"[your-region]\":\n",
    "    REGION = \"us-central1\""
   ]
  },
  {
   "cell_type": "markdown",
   "metadata": {
    "id": "06571eb4063b"
   },
   "source": [
    "#### UUID\n",
    "\n",
    "If you are in a live tutorial session, you might be using a shared test account or project. To avoid name collisions between users on resources created, you create a uuid for each instance session, and append it onto the name of resources you create in this tutorial.\n",
    "\n"
   ]
  },
  {
   "cell_type": "code",
   "execution_count": 5,
   "metadata": {
    "id": "697568e92bd6"
   },
   "outputs": [],
   "source": [
    "import random\n",
    "import string\n",
    "\n",
    "\n",
    "# Generate a uuid of a specifed length(default=8)\n",
    "def generate_uuid(length: int = 8) -> str:\n",
    "    return \"\".join(random.choices(string.ascii_lowercase + string.digits, k=length))\n",
    "\n",
    "\n",
    "UUID = generate_uuid()"
   ]
  },
  {
   "cell_type": "markdown",
   "metadata": {
    "id": "dr--iN2kAylZ"
   },
   "source": [
    "### Authenticate your Google Cloud account\n",
    "\n",
    "**If you are using Vertex AI Workbench Notebooks**, your environment is already\n",
    "authenticated. Skip this step."
   ]
  },
  {
   "cell_type": "markdown",
   "metadata": {
    "id": "sBCra4QMA2wR"
   },
   "source": [
    "**If you are using Colab**, run the cell below and follow the instructions\n",
    "when prompted to authenticate your account via oAuth.\n",
    "\n",
    "**Otherwise**, follow these steps:\n",
    "\n",
    "1. In the Cloud Console, go to the [**Create service account key**\n",
    "   page](https://console.cloud.google.com/apis/credentials/serviceaccountkey).\n",
    "\n",
    "2. Click **Create service account**.\n",
    "\n",
    "3. In the **Service account name** field, enter a name, and\n",
    "   click **Create**.\n",
    "\n",
    "4. In the **Grant this service account access to project** section, click the **Role** drop-down list. Type \"Vertex AI\"\n",
    "into the filter box, and select\n",
    "   **Vertex AI Administrator**. Type \"Storage Object Admin\" into the filter box, and select **Storage Object Admin**.\n",
    "\n",
    "5. Click *Create*. A JSON file that contains your key downloads to your\n",
    "local environment.\n",
    "\n",
    "6. Enter the path to your service account key as the\n",
    "`GOOGLE_APPLICATION_CREDENTIALS` variable in the cell below and run the cell."
   ]
  },
  {
   "cell_type": "code",
   "execution_count": null,
   "metadata": {
    "id": "PyQmSRbKA8r-"
   },
   "outputs": [],
   "source": [
    "# If you are running this notebook in Colab, run this cell and follow the\n",
    "# instructions to authenticate your GCP account. This provides access to your\n",
    "# Cloud Storage bucket and lets you submit training jobs and prediction\n",
    "# requests.\n",
    "\n",
    "import os\n",
    "import sys\n",
    "\n",
    "# If on Vertex AI Workbench, then don't execute this code\n",
    "IS_COLAB = \"google.colab\" in sys.modules\n",
    "if not os.path.exists(\"/opt/deeplearning/metadata/env_version\") and not os.getenv(\n",
    "    \"DL_ANACONDA_HOME\"\n",
    "):\n",
    "    if \"google.colab\" in sys.modules:\n",
    "        from google.colab import auth as google_auth\n",
    "\n",
    "        google_auth.authenticate_user()\n",
    "\n",
    "    # If you are running this notebook locally, replace the string below with the\n",
    "    # path to your service account key and run this cell to authenticate your GCP\n",
    "    # account.\n",
    "    elif not os.getenv(\"IS_TESTING\"):\n",
    "        %env GOOGLE_APPLICATION_CREDENTIALS ''"
   ]
  },
  {
   "cell_type": "markdown",
   "metadata": {
    "id": "zgPO1eR3CYjk"
   },
   "source": [
    "### Create a Cloud Storage bucket\n",
    "\n",
    "**The following steps are required, regardless of your notebook environment.**\n",
    "\n",
    "When you run a Vertex AI pipeline job using the Cloud SDK, your job stores the pipeline artifacts to a Cloud Storage bucket. In this tutorial, you create a Vertex AI Pipeline job that saves the artifacts like evaluation metrics and feature attributes to a Cloud Storage bucket.\n",
    "\n",
    "Set the name of your Cloud Storage bucket below. It must be unique across all Cloud Storage buckets."
   ]
  },
  {
   "cell_type": "code",
   "execution_count": 6,
   "metadata": {
    "id": "MzGDU7TWdts_"
   },
   "outputs": [],
   "source": [
    "BUCKET_NAME = \"[your-bucket-name]\"  # @param {type:\"string\"}\n",
    "BUCKET_URI = f\"gs://{BUCKET_NAME}\""
   ]
  },
  {
   "cell_type": "code",
   "execution_count": 7,
   "metadata": {
    "id": "cf221059d072"
   },
   "outputs": [],
   "source": [
    "if BUCKET_NAME == \"\" or BUCKET_NAME is None or BUCKET_NAME == \"[your-bucket-name]\":\n",
    "    BUCKET_NAME = PROJECT_ID + \"aip-\" + UUID\n",
    "    BUCKET_URI = f\"gs://{BUCKET_NAME}\""
   ]
  },
  {
   "cell_type": "markdown",
   "metadata": {
    "id": "-EcIXiGsCePi"
   },
   "source": [
    "**Only if your bucket doesn't already exist**: Run the following cell to create your Cloud Storage bucket."
   ]
  },
  {
   "cell_type": "code",
   "execution_count": 8,
   "metadata": {
    "id": "NIq7R4HZCfIc"
   },
   "outputs": [
    {
     "name": "stdout",
     "output_type": "stream",
     "text": [
      "Creating gs://vertex-ai-devaip-quar9hbz/...\n"
     ]
    }
   ],
   "source": [
    "! gsutil mb -l $REGION -p $PROJECT_ID $BUCKET_URI"
   ]
  },
  {
   "cell_type": "markdown",
   "metadata": {
    "id": "ucvCsknMCims"
   },
   "source": [
    "Finally, validate access to your Cloud Storage bucket by examining its contents:"
   ]
  },
  {
   "cell_type": "code",
   "execution_count": 9,
   "metadata": {
    "id": "vhOb7YnwClBb"
   },
   "outputs": [],
   "source": [
    "! gsutil ls -al $BUCKET_URI"
   ]
  },
  {
   "cell_type": "markdown",
   "metadata": {
    "id": "set_service_account"
   },
   "source": [
    "#### Service Account\n",
    "\n",
    "You use a service account to create Vertex AI Pipeline jobs. If you do not want to use your project's Compute Engine service account, set `SERVICE_ACCOUNT` to another service account ID."
   ]
  },
  {
   "cell_type": "code",
   "execution_count": 10,
   "metadata": {
    "id": "UwC1AdGeF6kx"
   },
   "outputs": [],
   "source": [
    "SERVICE_ACCOUNT = \"[your-service-account]\"  # @param {type:\"string\"}"
   ]
  },
  {
   "cell_type": "code",
   "execution_count": 13,
   "metadata": {
    "id": "autoset_service_account"
   },
   "outputs": [
    {
     "name": "stdout",
     "output_type": "stream",
     "text": [
      "Service Account: 931647533046-compute@developer.gserviceaccount.com\n"
     ]
    }
   ],
   "source": [
    "if (\n",
    "    SERVICE_ACCOUNT == \"\"\n",
    "    or SERVICE_ACCOUNT is None\n",
    "    or SERVICE_ACCOUNT == \"[your-service-account]\"\n",
    "):\n",
    "    # Get your service account from gcloud\n",
    "    if not IS_COLAB:\n",
    "        shell_output = !gcloud auth list 2>/dev/null\n",
    "        SERVICE_ACCOUNT = shell_output[2].replace(\"*\", \"\").strip()\n",
    "\n",
    "    else:  # IS_COLAB:\n",
    "        shell_output = ! gcloud projects describe  $PROJECT_ID\n",
    "        project_number = shell_output[-1].split(\":\")[1].strip().replace(\"'\", \"\")\n",
    "        SERVICE_ACCOUNT = f\"{project_number}-compute@developer.gserviceaccount.com\"\n",
    "\n",
    "    print(\"Service Account:\", SERVICE_ACCOUNT)"
   ]
  },
  {
   "cell_type": "markdown",
   "metadata": {
    "id": "set_service_account:pipelines"
   },
   "source": [
    "#### Set service account access for {TODO; e.g., Vertex AI Pipelines}\n",
    "\n",
    "Run the following commands to grant your service account access to {TODO; i.e., read and write pipeline artifacts} in the bucket that you created in the previous step. You only need to run this step once per service account."
   ]
  },
  {
   "cell_type": "code",
   "execution_count": 14,
   "metadata": {
    "id": "6OqzKqhMF6kx"
   },
   "outputs": [],
   "source": [
    "! gsutil iam ch serviceAccount:{SERVICE_ACCOUNT}:roles/storage.objectCreator $BUCKET_URI\n",
    "\n",
    "! gsutil iam ch serviceAccount:{SERVICE_ACCOUNT}:roles/storage.objectViewer $BUCKET_URI"
   ]
  },
  {
   "cell_type": "markdown",
   "metadata": {
    "id": "XoEqT2Y4DJmf"
   },
   "source": [
    "### Import libraries"
   ]
  },
  {
   "cell_type": "code",
   "execution_count": 15,
   "metadata": {
    "id": "pRUOFELefqf1"
   },
   "outputs": [],
   "source": [
    "import google.cloud.aiplatform as aiplatform\n",
    "import kfp\n",
    "from kfp.v2 import compiler\n",
    "from google.cloud import aiplatform_v1\n",
    "import matplotlib.pyplot as plt\n",
    "import json"
   ]
  },
  {
   "cell_type": "markdown",
   "metadata": {
    "id": "init_aip:mbsdk,all"
   },
   "source": [
    "### Initialize Vertex AI SDK for Python\n",
    "\n",
    "Initialize the Vertex AI SDK for Python for your project and corresponding bucket."
   ]
  },
  {
   "cell_type": "code",
   "execution_count": 16,
   "metadata": {
    "id": "ksAefQcCF6ky"
   },
   "outputs": [],
   "source": [
    "aiplatform.init(project=PROJECT_ID, location=REGION, staging_bucket=BUCKET_URI)"
   ]
  },
  {
   "cell_type": "markdown",
   "metadata": {
    "id": "BiVlyW5OUnjK"
   },
   "source": [
    "## Create Vertex AI Dataset\n",
    "\n",
    "Create a managed tabular dataset resource in Vertex AI using the dataset source."
   ]
  },
  {
   "cell_type": "code",
   "execution_count": 17,
   "metadata": {
    "id": "bViYfWfpVAiF"
   },
   "outputs": [],
   "source": [
    "DATA_SOURCE = \"gs://cloud-samples-data/ai-platform-unified/datasets/tabular/petfinder-tabular-classification.csv\""
   ]
  },
  {
   "cell_type": "code",
   "execution_count": 18,
   "metadata": {
    "id": "20S9En09X0PY",
    "tags": []
   },
   "outputs": [
    {
     "name": "stdout",
     "output_type": "stream",
     "text": [
      "Creating TabularDataset\n",
      "Create TabularDataset backing LRO: projects/931647533046/locations/us-central1/datasets/9019973380832493568/operations/3060886783697879040\n",
      "TabularDataset created. Resource name: projects/931647533046/locations/us-central1/datasets/9019973380832493568\n",
      "To use this TabularDataset in another session:\n",
      "ds = aiplatform.TabularDataset('projects/931647533046/locations/us-central1/datasets/9019973380832493568')\n",
      "Resource name: projects/931647533046/locations/us-central1/datasets/9019973380832493568\n"
     ]
    }
   ],
   "source": [
    "# Create the Vertex AI Dataset resource\n",
    "dataset = aiplatform.TabularDataset.create(\n",
    "    display_name=\"petfinder-tabular-dataset\",\n",
    "    gcs_source=DATA_SOURCE,\n",
    ")\n",
    "\n",
    "print (\"Resource name:\",dataset.resource_name)"
   ]
  },
  {
   "cell_type": "markdown",
   "metadata": {
    "id": "A-QQkeUnq8Xt"
   },
   "source": [
    "## Train AutoML model\n",
    "\n",
    "Train a simple regression model using the created dataset using `Age` as the target column. \n",
    "\n",
    "Set a display name and create the `AutoMLTabularTrainingJob` with appropriate data types specified for column transformations."
   ]
  },
  {
   "cell_type": "code",
   "execution_count": 19,
   "metadata": {
    "id": "Bxn6ATUXrET6"
   },
   "outputs": [],
   "source": [
    "TRAINING_JOB_DISPLAY_NAME = \"[your-train-job-display-name]\" # @param {type:\"string\"}"
   ]
  },
  {
   "cell_type": "code",
   "execution_count": 20,
   "metadata": {},
   "outputs": [],
   "source": [
    "# If no display name is specified, use the default one\n",
    "if TRAINING_JOB_DISPLAY_NAME == \"\" or \\\n",
    "    TRAINING_JOB_DISPLAY_NAME is None or TRAINING_JOB_DISPLAY_NAME == \"[your-train-job-display-name]\":\n",
    "    TRAINING_JOB_DISPLAY_NAME = \"train-pet-agefinder-automl\""
   ]
  },
  {
   "cell_type": "markdown",
   "metadata": {},
   "source": [
    "An AutoML training job is created with the `AutoMLForecastingTrainingJob` class, with the following parameters:\n",
    "\n",
    "- `display_name`: The human readable name for the `TrainingJob` resource.\n",
    "- `optimization_prediction_type`: The type of prediction the Model is to produce. Ex: regression,classification\n",
    "- `column_transformations`: (Optional): Transformations to apply to the input columns\n",
    "- `optimization_objective`: The optimization objective to minimize or maximize.\n",
    "    - `minimize-rmse`\n",
    "    - `minimize-mae`\n",
    "    - `minimize-rmsle`"
   ]
  },
  {
   "cell_type": "code",
   "execution_count": 22,
   "metadata": {
    "colab": {
     "base_uri": "https://localhost:8080/"
    },
    "id": "3l691PEMZFdA",
    "outputId": "f0757841-1901-408f-a587-28b6f3a4181d"
   },
   "outputs": [
    {
     "name": "stdout",
     "output_type": "stream",
     "text": [
      "<google.cloud.aiplatform.training_jobs.AutoMLTabularTrainingJob object at 0x7fe61671c070>\n"
     ]
    },
    {
     "name": "stderr",
     "output_type": "stream",
     "text": [
      "/usr/local/lib/python3.9/site-packages/google/cloud/aiplatform/training_jobs.py:4562: DeprecationWarning: consider using column_specs instead. column_transformations will be deprecated in the future.\n",
      "  column_transformations_utils.validate_and_get_column_transformations(\n"
     ]
    }
   ],
   "source": [
    "train_job = aiplatform.AutoMLTabularTrainingJob(\n",
    "    display_name=TRAINING_JOB_DISPLAY_NAME,\n",
    "    optimization_prediction_type=\"regression\",\n",
    "    column_transformations=[\n",
    "        {\"categorical\": {\"column_name\": \"Type\"}},\n",
    "        {\"categorical\": {\"column_name\": \"Breed1\"}},\n",
    "        {\"categorical\": {\"column_name\": \"Gender\"}},\n",
    "        {\"categorical\": {\"column_name\": \"Color1\"}},\n",
    "        {\"categorical\": {\"column_name\": \"Color2\"}},\n",
    "        {\"categorical\": {\"column_name\": \"MaturitySize\"}},\n",
    "        {\"categorical\": {\"column_name\": \"FurLength\"}},\n",
    "        {\"categorical\": {\"column_name\": \"Vaccinated\"}},\n",
    "        {\"categorical\": {\"column_name\": \"Sterilized\"}},\n",
    "        {\"categorical\": {\"column_name\": \"Health\"}},\n",
    "        {\"numeric\": {\"column_name\": \"Fee\"}},\n",
    "        {\"numeric\": {\"column_name\": \"PhotoAmt\"}},\n",
    "        {\"categorical\": {\"column_name\": \"Adopted\"}},\n",
    "\n",
    "    ],   \n",
    "    optimization_objective=\"minimize-rmse\"\n",
    ")\n",
    "\n",
    "print(train_job)"
   ]
  },
  {
   "cell_type": "markdown",
   "metadata": {},
   "source": [
    "Set the display name for the model."
   ]
  },
  {
   "cell_type": "code",
   "execution_count": 23,
   "metadata": {},
   "outputs": [],
   "source": [
    "MODEL_DISPLAY_NAME = \"[your-model-display-name]\" # @param {type:\"string\"}"
   ]
  },
  {
   "cell_type": "code",
   "execution_count": 24,
   "metadata": {},
   "outputs": [],
   "source": [
    "# If no name is specified, use the default name\n",
    "if MODEL_DISPLAY_NAME == \"\" or \\\n",
    "    MODEL_DISPLAY_NAME is None or MODEL_DISPLAY_NAME == \"[your-model-display-name]\":\n",
    "    MODEL_DISPLAY_NAME = \"pet-agefinder-prediction-model\""
   ]
  },
  {
   "cell_type": "markdown",
   "metadata": {},
   "source": [
    "Next, you start the training job by invoking the method `run`, with the following parameters:\n",
    "\n",
    "- `dataset`: The `Dataset` resource to train the model.\n",
    "- `target_column`: The name of the column values of which the Model is to predict.\n",
    "- `training_fraction_split`: The percentage of the dataset to use for training.\n",
    "- `validation_fraction_split`: The percentage of the dataset to use for validation.\n",
    "- `test_fraction_split`: The percentage of the dataset to use for test (holdout data).\n",
    "- `model_display_name`: The human readable name for the trained model.\n",
    "- `disable_early_stopping`: If true, the entire budget is used.\n",
    "- `budget_milli_node_hours`: (optional) Maximum training time specified in unit of millihours (1000 = hour).\n"
   ]
  },
  {
   "cell_type": "markdown",
   "metadata": {},
   "source": [
    "\n",
    "The training job takes roughly 1.5-2 hours to finish."
   ]
  },
  {
   "cell_type": "code",
   "execution_count": null,
   "metadata": {
    "id": "IIfvPCGYyFCT",
    "tags": []
   },
   "outputs": [
    {
     "name": "stdout",
     "output_type": "stream",
     "text": [
      "View Training:\n",
      "https://console.cloud.google.com/ai/platform/locations/us-central1/training/4882406946784673792?project=931647533046\n",
      "AutoMLTabularTrainingJob projects/931647533046/locations/us-central1/trainingPipelines/4882406946784673792 current state:\n",
      "PipelineState.PIPELINE_STATE_RUNNING\n",
      "AutoMLTabularTrainingJob projects/931647533046/locations/us-central1/trainingPipelines/4882406946784673792 current state:\n",
      "PipelineState.PIPELINE_STATE_RUNNING\n",
      "AutoMLTabularTrainingJob projects/931647533046/locations/us-central1/trainingPipelines/4882406946784673792 current state:\n",
      "PipelineState.PIPELINE_STATE_RUNNING\n",
      "AutoMLTabularTrainingJob projects/931647533046/locations/us-central1/trainingPipelines/4882406946784673792 current state:\n",
      "PipelineState.PIPELINE_STATE_RUNNING\n",
      "AutoMLTabularTrainingJob projects/931647533046/locations/us-central1/trainingPipelines/4882406946784673792 current state:\n",
      "PipelineState.PIPELINE_STATE_RUNNING\n",
      "AutoMLTabularTrainingJob projects/931647533046/locations/us-central1/trainingPipelines/4882406946784673792 current state:\n",
      "PipelineState.PIPELINE_STATE_RUNNING\n",
      "AutoMLTabularTrainingJob projects/931647533046/locations/us-central1/trainingPipelines/4882406946784673792 current state:\n",
      "PipelineState.PIPELINE_STATE_RUNNING\n",
      "AutoMLTabularTrainingJob projects/931647533046/locations/us-central1/trainingPipelines/4882406946784673792 current state:\n",
      "PipelineState.PIPELINE_STATE_RUNNING\n",
      "AutoMLTabularTrainingJob projects/931647533046/locations/us-central1/trainingPipelines/4882406946784673792 current state:\n",
      "PipelineState.PIPELINE_STATE_RUNNING\n",
      "AutoMLTabularTrainingJob projects/931647533046/locations/us-central1/trainingPipelines/4882406946784673792 current state:\n",
      "PipelineState.PIPELINE_STATE_RUNNING\n",
      "AutoMLTabularTrainingJob projects/931647533046/locations/us-central1/trainingPipelines/4882406946784673792 current state:\n",
      "PipelineState.PIPELINE_STATE_RUNNING\n",
      "AutoMLTabularTrainingJob projects/931647533046/locations/us-central1/trainingPipelines/4882406946784673792 current state:\n",
      "PipelineState.PIPELINE_STATE_RUNNING\n",
      "AutoMLTabularTrainingJob projects/931647533046/locations/us-central1/trainingPipelines/4882406946784673792 current state:\n",
      "PipelineState.PIPELINE_STATE_RUNNING\n",
      "AutoMLTabularTrainingJob projects/931647533046/locations/us-central1/trainingPipelines/4882406946784673792 current state:\n",
      "PipelineState.PIPELINE_STATE_RUNNING\n"
     ]
    }
   ],
   "source": [
    "# Run the training job\n",
    "model = train_job.run(\n",
    "    dataset=dataset,\n",
    "    target_column=\"Age\",\n",
    "    training_fraction_split=0.8,\n",
    "    validation_fraction_split=0.1,\n",
    "    test_fraction_split=0.1,\n",
    "    model_display_name=MODEL_DISPLAY_NAME,\n",
    "    disable_early_stopping=False,\n",
    "    budget_milli_node_hours=1000,\n",
    ")"
   ]
  },
  {
   "cell_type": "markdown",
   "metadata": {
    "id": "rYirKB_9yaa0"
   },
   "source": [
    "## List model evaluations from training\n",
    "\n",
    "After the training job is finished, get the model evaluations and print them."
   ]
  },
  {
   "cell_type": "code",
   "execution_count": null,
   "metadata": {
    "id": "KkgCdQQAyZP1"
   },
   "outputs": [],
   "source": [
    "# Get evaluations\n",
    "model_evaluations = model.list_model_evaluations()\n",
    "\n",
    "model_evaluation = list(model_evaluations)[0]\n",
    "print(model_evaluation)"
   ]
  },
  {
   "cell_type": "code",
   "execution_count": null,
   "metadata": {},
   "outputs": [],
   "source": [
    "# Print the evaluation metrics\n",
    "for evaluation in model_evaluations:\n",
    "    evaluation = evaluation.to_dict()\n",
    "    print(\"Model's evaluation metrics from Training:\\n\")\n",
    "    metrics = evaluation[\"metrics\"]\n",
    "    for metric in metrics.keys():\n",
    "        print(f\"metric: {metric}, value: {metrics[metric]}\\n\")"
   ]
  },
  {
   "cell_type": "markdown",
   "metadata": {},
   "source": [
    "## Create Pipeline for evaluations\n",
    "\n",
    "Now, you run a Vertex AI BatchPrediction job and generate evaluations and feature-attributions on its results. \n",
    "\n",
    "To do so, you create a Vertex AI pipeline using the components available from the [`google-cloud-pipeline-components`](https://google-cloud-pipeline-components.readthedocs.io/en/google-cloud-pipeline-components-1.0.17/index.html) python package.\n",
    "\n"
   ]
  },
  {
   "cell_type": "markdown",
   "metadata": {},
   "source": [
    "### Define the Pipeline\n",
    "\n",
    "While defining the flow of the pipeline, you get the model resource first. Then, you sample the provided source dataset for batch predictions and create a batch prediction. The explanations are enabled while creating the batch prediction job to generate feature attributions. Once the batch prediction job is completed, you get the regression evaluation metrics and the feature attributions from the results.\n",
    "\n",
    "The pipeline uses the following components:\n",
    "\n",
    "- `GetVertexModelOp`: Gets a Vertex Model Artifact. For more details, please check [here](https://google-cloud-pipeline-components.readthedocs.io/en/google-cloud-pipeline-components-1.0.17/google_cloud_pipeline_components.experimental.evaluation.html#google_cloud_pipeline_components.experimental.evaluation.GetVertexModelOp).\n",
    "- `EvaluationDataSamplerOp`: Randomly downsamples an input dataset to a specified size for computing Vertex XAI feature attributions for AutoML Tables and custom models. Creates a Dataflow job with Apache Beam to downsample the dataset. For more details, please check [here](https://google-cloud-pipeline-components.readthedocs.io/en/google-cloud-pipeline-components-1.0.17/google_cloud_pipeline_components.experimental.evaluation.html#google_cloud_pipeline_components.experimental.evaluation.EvaluationDataSamplerOp).\n",
    "- `ModelBatchPredictOp`: Creates a Google Cloud Vertex BatchPredictionJob and waits for it to complete. For more details, please check [here](https://google-cloud-pipeline-components.readthedocs.io/en/google-cloud-pipeline-components-1.0.17/google_cloud_pipeline_components.aiplatform.html#google_cloud_pipeline_components.aiplatform.ModelBatchPredictOp).\n",
    "- `ModelEvaluationRegressionOp`: Compute evaluation metrics on a trained model’s batch prediction results. Creates a dataflow job with Apache Beam and TFMA to compute evaluation metrics. Supports regression for tabular data.[here](https://google-cloud-pipeline-components.readthedocs.io/en/google-cloud-pipeline-components-1.0.17/google_cloud_pipeline_components.experimental.evaluation.html#google_cloud_pipeline_components.experimental.evaluation.ModelEvaluationRegressionOp).\n",
    "- `ModelEvaluationFeatureAttributionOp`: Compute feature attribution on a trained model’s batch explanation results. Creates a dataflow job with Apache Beam and TFMA to compute feature attributions. For more details, please check [here](https://google-cloud-pipeline-components.readthedocs.io/en/google-cloud-pipeline-components-1.0.17/google_cloud_pipeline_components.experimental.evaluation.html#google_cloud_pipeline_components.experimental.evaluation.ModelEvaluationFeatureAttributionOp).\n",
    "- `ModelImportEvaluationOp`: Imports a model evaluation artifact to an existing Vertex model with ModelService.ImportModelEvaluation. For more details, please check [here](https://google-cloud-pipeline-components.readthedocs.io/en/google-cloud-pipeline-components-1.0.17/google_cloud_pipeline_components.experimental.evaluation.html#google_cloud_pipeline_components.experimental.evaluation.ModelImportEvaluationOp)."
   ]
  },
  {
   "cell_type": "markdown",
   "metadata": {
    "id": "ce6beLsXASnK"
   },
   "source": [
    "## Model Evaluation"
   ]
  },
  {
   "cell_type": "code",
   "execution_count": null,
   "metadata": {
    "id": "ktMsqtibAUzz"
   },
   "outputs": [],
   "source": [
    "@kfp.dsl.pipeline(\n",
    "    name='vertex-evaluation-automl-tabular-feature-attribution-pipeline')\n",
    "def evaluation_automl_tabular_feature_attribution_pipeline(\n",
    "    project: str,\n",
    "    location: str,\n",
    "    root_dir: str,\n",
    "    prediction_type: str,\n",
    "    model_name: str,\n",
    "    target_column_name: str,\n",
    "    batch_predict_gcs_source_uris: list,\n",
    "    batch_predict_instances_format: str,\n",
    "    batch_predict_predictions_format: str = 'jsonl',\n",
    "    batch_predict_machine_type: str = 'n1-standard-4',\n",
    "    batch_predict_starting_replica_count: int = 5,\n",
    "    batch_predict_max_replica_count: int = 10,\n",
    "    batch_predict_explanation_metadata: dict = {},\n",
    "    batch_predict_explanation_parameters: dict = {},\n",
    "    batch_predict_explanation_data_sample_size: int = 10000,\n",
    "    dataflow_machine_type: str = 'n1-standard-4',\n",
    "    dataflow_max_num_workers: int = 5,\n",
    "    dataflow_disk_size_gb: int = 50,\n",
    "    dataflow_service_account: str = '',\n",
    "    dataflow_subnetwork: str = '',\n",
    "    dataflow_use_public_ips: bool = True,\n",
    "    encryption_spec_key_name: str = ''):\n",
    "  \n",
    "    from google_cloud_pipeline_components.experimental.evaluation import (\n",
    "        GetVertexModelOp,\n",
    "        EvaluationDataSamplerOp,\n",
    "        ModelEvaluationRegressionOp, \n",
    "        ModelEvaluationFeatureAttributionOp,\n",
    "        ModelImportEvaluationOp\n",
    "    )\n",
    "    from google_cloud_pipeline_components.aiplatform import ModelBatchPredictOp\n",
    "    \n",
    "    # Get the Vertex AI model resource\n",
    "    get_model_task = GetVertexModelOp(model_resource_name=model_name)\n",
    "    \n",
    "    # Run Data-sampling task\n",
    "    data_sampler_task = EvaluationDataSamplerOp(\n",
    "                          project=project,\n",
    "                          location=location,\n",
    "                          root_dir=root_dir,\n",
    "                          gcs_source_uris=batch_predict_gcs_source_uris,\n",
    "                          instances_format=batch_predict_instances_format,\n",
    "                          sample_size=batch_predict_explanation_data_sample_size\n",
    "                        )\n",
    "    \n",
    "    # Run Batch Explanations\n",
    "    batch_explain_task = ModelBatchPredictOp(\n",
    "                            project=project,\n",
    "                            location=location,\n",
    "                            model=get_model_task.outputs['model'],\n",
    "                            job_display_name='model-registry-batch-predict-evaluation',\n",
    "                            gcs_source_uris= data_sampler_task.outputs['gcs_output_directory'],\n",
    "                            instances_format=batch_predict_instances_format,\n",
    "                            predictions_format=batch_predict_predictions_format,\n",
    "                            gcs_destination_output_uri_prefix=root_dir,\n",
    "                            machine_type=batch_predict_machine_type,\n",
    "                            starting_replica_count=batch_predict_starting_replica_count,\n",
    "                            max_replica_count=batch_predict_max_replica_count,\n",
    "                            encryption_spec_key_name=encryption_spec_key_name,\n",
    "                            # Set the explanation parameters\n",
    "                            generate_explanation=True,\n",
    "                            explanation_parameters=batch_predict_explanation_parameters,\n",
    "                            explanation_metadata=batch_predict_explanation_metadata,\n",
    "                        )\n",
    "\n",
    "    # Run evaluation based on prediction type and feature attribution component.\n",
    "    # After, import the model evaluations to the Vertex model.\n",
    "    eval_task = ModelEvaluationRegressionOp(\n",
    "                  project=project,\n",
    "                  location=location,\n",
    "                  root_dir=root_dir,\n",
    "                  ground_truth_column=target_column_name,\n",
    "                  predictions_gcs_source=batch_explain_task.outputs['gcs_output_directory'],\n",
    "                  predictions_format=batch_predict_predictions_format,\n",
    "                  dataflow_machine_type=dataflow_machine_type,\n",
    "                  dataflow_max_workers_num=dataflow_max_num_workers,\n",
    "                  dataflow_disk_size=dataflow_disk_size_gb,\n",
    "                  dataflow_service_account=dataflow_service_account,\n",
    "                  dataflow_subnetwork=dataflow_subnetwork,\n",
    "                  dataflow_use_public_ips=dataflow_use_public_ips,\n",
    "                  encryption_spec_key_name=encryption_spec_key_name\n",
    "                )\n",
    "    \n",
    "    # Get Feature Attributions\n",
    "    feature_attribution_task = ModelEvaluationFeatureAttributionOp(\n",
    "                                  project=project,\n",
    "                                  location=location,\n",
    "                                  root_dir=root_dir,\n",
    "                                  predictions_format='jsonl',\n",
    "                                  predictions_gcs_source=batch_explain_task.outputs['gcs_output_directory'],\n",
    "                                  dataflow_machine_type=dataflow_machine_type,\n",
    "                                  dataflow_max_workers_num=dataflow_max_num_workers,\n",
    "                                  dataflow_disk_size=dataflow_disk_size_gb,\n",
    "                                  dataflow_service_account=dataflow_service_account,\n",
    "                                  dataflow_subnetwork=dataflow_subnetwork,\n",
    "                                  dataflow_use_public_ips=dataflow_use_public_ips,\n",
    "                                  encryption_spec_key_name=encryption_spec_key_name\n",
    "                                )\n",
    "\n",
    "    ModelImportEvaluationOp(\n",
    "          problem_type=prediction_type,\n",
    "          regression_metrics=eval_task.outputs['evaluation_metrics'],\n",
    "          feature_attributions=feature_attribution_task.outputs['feature_attributions'],\n",
    "          model=get_model_task.outputs['model'],\n",
    "          dataset_type=batch_predict_instances_format\n",
    "    )"
   ]
  },
  {
   "cell_type": "markdown",
   "metadata": {},
   "source": [
    "### Compile the pipeline\n",
    "\n",
    "Next, compile the pipline to the `tabular_regression_pipline.json` file."
   ]
  },
  {
   "cell_type": "code",
   "execution_count": null,
   "metadata": {
    "colab": {
     "base_uri": "https://localhost:8080/"
    },
    "id": "NOvOMTEgCVcW",
    "outputId": "e9918c90-562c-4c1a-ce37-ffce17cb0af7"
   },
   "outputs": [],
   "source": [
    "\n",
    "compiler.Compiler().compile(\n",
    "    pipeline_func=evaluation_automl_tabular_feature_attribution_pipeline,\n",
    "    package_path=\"tabular_regression_pipeline.json\",\n",
    ")"
   ]
  },
  {
   "cell_type": "markdown",
   "metadata": {},
   "source": [
    "### Define the parameters to run the pipeline\n",
    "\n",
    "Specify the required parameters to run the pipeline.\n",
    "\n",
    "Set a display name for your pipeline."
   ]
  },
  {
   "cell_type": "code",
   "execution_count": null,
   "metadata": {},
   "outputs": [],
   "source": [
    "PIPELINE_DISPLAY_NAME = \"[your-pipeline-display-name]\" # @param {type:\"string\"}"
   ]
  },
  {
   "cell_type": "code",
   "execution_count": null,
   "metadata": {},
   "outputs": [],
   "source": [
    "# If no display name is set, use the default one\n",
    "if PIPELINE_DISPLAY_NAME == \"[your-pipeline-display-name]\" or \\\n",
    "    PIPELINE_DISPLAY_NAME == \"\" or PIPELINE_DISPLAY_NAME is None:\n",
    "    PIPELINE_DISPLAY_NAME = \"pet_agefinder_\" + UUID "
   ]
  },
  {
   "cell_type": "markdown",
   "metadata": {},
   "source": [
    "To pass the required arguments to the pipeline, you define the following paramters below:\n",
    "\n",
    "- `project`: Project ID.\n",
    "- `location`: Region where the pipeline is run.\n",
    "- `root_dir`: The GCS directory for keeping staging files and artifacts. A random subdirectory will be created under the directory to keep job info for resuming the job in case of failure.\n",
    "- `model_name`: Resource name of the trained AutoML Tabular Regression model.\n",
    "- `prediction_type`: Type of the prediction (In this tutorial, it is \"regression\").\n",
    "- `target_column_name`: Name of the column to be used as the target for regression.\n",
    "- `batch_predict_gcs_source_uris`: List of the Cloud Storage bucket uris of input instances for batch prediction.\n",
    "- `batch_predict_instances_format`: Format of the input instances for batch prediction.\n",
    "- `batch_predict_explanation_data_sample_size`: Size of the samples to be considered for batch prediction and evaluation."
   ]
  },
  {
   "cell_type": "code",
   "execution_count": null,
   "metadata": {
    "id": "JeSiA6-TSgV8"
   },
   "outputs": [],
   "source": [
    "PIPELINE_ROOT = f\"{BUCKET_URI}/pipeline_root/pet_agefinder_{UUID}\"\n",
    "parameters = {\n",
    "            'project':PROJECT_ID,\n",
    "            'location':REGION,\n",
    "            'root_dir':PIPELINE_ROOT,\n",
    "            'model_name':model.resource_name,\n",
    "            'prediction_type':\"regression\",\n",
    "            'target_column_name':\"Age\",\n",
    "            'batch_predict_gcs_source_uris':[DATA_SOURCE],\n",
    "            'batch_predict_instances_format':'csv',\n",
    "            'batch_predict_explanation_data_sample_size': 3000\n",
    "        }"
   ]
  },
  {
   "cell_type": "markdown",
   "metadata": {},
   "source": [
    "Run the pipeline using the configured `SERVICE_ACCOUNT`."
   ]
  },
  {
   "cell_type": "code",
   "execution_count": null,
   "metadata": {
    "id": "pdHib_yUEuEk"
   },
   "outputs": [],
   "source": [
    "job = aiplatform.PipelineJob(\n",
    "    display_name=DISPLAY_NAME,\n",
    "    template_path=\"tabular_regression_pipeline.json\",\n",
    "    parameter_values=parameters,\n",
    "    enable_caching=True,\n",
    ")\n",
    "\n",
    "job.run(service_account=SERVICE_ACCOUNT)"
   ]
  },
  {
   "cell_type": "markdown",
   "metadata": {},
   "source": [
    "## Model Evaluation"
   ]
  },
  {
   "cell_type": "markdown",
   "metadata": {
    "id": "mKRTDi8ioXBY"
   },
   "source": [
    "In the results from last step, click on the generated link to see your run in the Cloud Console.\n",
    "\n",
    "In the UI, many of the pipeline DAG nodes will expand or collapse when you click on them. Here is a partially-expanded view of the DAG (click image to see larger version).\n"
   ]
  },
  {
   "cell_type": "markdown",
   "metadata": {
    "id": "U2zocUvk2YVs"
   },
   "source": [
    "![Screen Shot 2022-08-26 at 10.50.03 AM.png](data:image/png;base64,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)"
   ]
  },
  {
   "cell_type": "markdown",
   "metadata": {
    "id": "XcKaONSsGNC4"
   },
   "source": [
    "### Get the Model Evaluation Results\n",
    "\n",
    "After the evalution pipeline is finished, run the below cell to print the evaluation metrics."
   ]
  },
  {
   "cell_type": "code",
   "execution_count": null,
   "metadata": {
    "id": "mtHA8rhGGQv3",
    "tags": []
   },
   "outputs": [],
   "source": [
    "# Iterate over the pipeline tasks\n",
    "for task in job._gca_resource.job_detail.task_details:\n",
    "    # Obtain the artifacts from the evaluation task\n",
    "    if ((\"model-evaluation\" in task.task_name) and\n",
    "    (\"model-evaluation-import\" not in task.task_name) and\n",
    "    (task.state == aiplatform_v1.types.PipelineTaskDetail.State.SUCCEEDED or task.state == aiplatform_v1.types.PipelineTaskDetail.State.SKIPPED)):\n",
    "        evaluation_metrics = task.outputs.get('evaluation_metrics').artifacts[0] #['artifacts']\n",
    "        evaluation_metrics_gcs_uri = evaluation_metrics.uri\n",
    "\n",
    "print(evaluation_metrics)\n",
    "print(evaluation_metrics_gcs_uri)"
   ]
  },
  {
   "cell_type": "markdown",
   "metadata": {},
   "source": [
    "### Visualize the metrics\n",
    "\n"
   ]
  },
  {
   "cell_type": "code",
   "execution_count": null,
   "metadata": {},
   "outputs": [],
   "source": [
    "import matplotlib.pyplot as plt\n",
    "metrics = []\n",
    "values = []\n",
    "for i in evaluation_metrics.metadata.items():\n",
    "    if i[0]==\"meanAbsolutePercentageError\": #we are not considering MAPE as it is infinite. MAPE is infinite if groud truth is 0 as in our case Age is 0 for some instances.\n",
    "        continue\n",
    "    metrics.append(i[0])\n",
    "    values.append(i[1])\n",
    "plt.figure(figsize=(10,5))\n",
    "plt.bar(x=metrics,height=values)\n",
    "plt.title(\"Evaluation Metrics\")\n",
    "plt.ylabel(\"Value\")\n",
    "plt.show()"
   ]
  },
  {
   "cell_type": "markdown",
   "metadata": {},
   "source": [
    "### Get the Feature Attributions\n",
    "\n",
    "Run the below cell to get the feature attributions. "
   ]
  },
  {
   "cell_type": "code",
   "execution_count": null,
   "metadata": {},
   "outputs": [],
   "source": [
    "# Iterate over the pipeline tasks\n",
    "for task in job._gca_resource.job_detail.task_details:\n",
    "    # Obtain the artifacts from the feature-attribution task\n",
    "    if ((task.task_name == \"feature-attribution\" ) and\n",
    "        (task.state == aiplatform_v1.types.PipelineTaskDetail.State.SUCCEEDED or task.state == aiplatform_v1.types.PipelineTaskDetail.State.SKIPPED)):\n",
    "        feat_attrs = task.outputs.get('feature_attributions').artifacts[0]\n",
    "        feat_attrs_gcs_uri = feat_attrs.uri\n",
    "\n",
    "print (feat_attrs)\n",
    "print (feat_attrs_gcs_uri)"
   ]
  },
  {
   "cell_type": "markdown",
   "metadata": {},
   "source": [
    "From the obtained Cloud Storage uri for the feature attributions, get the attribution values."
   ]
  },
  {
   "cell_type": "code",
   "execution_count": null,
   "metadata": {},
   "outputs": [],
   "source": [
    "# Load the results\n",
    "attributions = !gsutil cat $feat_attrs_gcs_uri\n",
    "\n",
    "# Print the results obtained\n",
    "attributions = json.loads(attributions[0])\n",
    "print (attributions)"
   ]
  },
  {
   "cell_type": "markdown",
   "metadata": {},
   "source": [
    "### Visualize the Feature Attributions\n",
    "\n",
    "Visualize the obtained attributions for each feature using a bar-chart."
   ]
  },
  {
   "cell_type": "code",
   "execution_count": null,
   "metadata": {},
   "outputs": [],
   "source": [
    "data = attributions[\"explanation\"][\"attributions\"][0][\"featureAttributions\"]\n",
    "features = []\n",
    "attr_values = []\n",
    "for key, value in data.items():\n",
    "    features.append(key)\n",
    "    attr_values.append(value)\n",
    "    \n",
    "plt.figure(figsize=(5,3))\n",
    "plt.bar(x=features, height=attr_values)\n",
    "plt.title(\"Feature Attributions\")\n",
    "plt.xticks(rotation=90)\n",
    "plt.ylabel(\"Attribution value\")\n",
    "plt.show()"
   ]
  },
  {
   "cell_type": "markdown",
   "metadata": {
    "id": "TpV-iwP9qw9c"
   },
   "source": [
    "## Cleaning up\n",
    "\n",
    "To clean up all Google Cloud resources used in this project, you can [delete the Google Cloud\n",
    "project](https://cloud.google.com/resource-manager/docs/creating-managing-projects#shutting_down_projects) you used for the tutorial.\n",
    "\n",
    "Otherwise, you can delete the individual resources you created in this tutorial.\n",
    "\n",
    "Set `delete_bucket` to **True** to create the Cloud Storage bucket created in this notebook."
   ]
  },
  {
   "cell_type": "code",
   "execution_count": null,
   "metadata": {
    "id": "sx_vKniMq9ZX"
   },
   "outputs": [],
   "source": [
    "# Delete model resource\n",
    "model.delete()\n",
    "\n",
    "# Delete the dataset resource\n",
    "dataset.delete()\n",
    "\n",
    "# Delete the training job\n",
    "train_job.delete()\n",
    "\n",
    "# Delete the evaluation pipeline\n",
    "job.delete()\n",
    "\n",
    "# Delete Cloud Storage objects\n",
    "delete_bucket = False\n",
    "if delete_bucket or os.getenv(\"IS_TESTING\"):\n",
    "    ! gsutil -m rm -r $BUCKET_URI"
   ]
  }
 ],
 "metadata": {
  "colab": {
   "collapsed_sections": [],
   "name": "community-automl-regression.ipynb",
   "provenance": []
  },
  "environment": {
   "kernel": "python3",
   "name": "common-cpu.m94",
   "type": "gcloud",
   "uri": "gcr.io/deeplearning-platform-release/base-cpu:m94"
  },
  "kernelspec": {
   "display_name": "Python 3",
   "language": "python",
   "name": "python3"
  },
  "language_info": {
   "codemirror_mode": {
    "name": "ipython",
    "version": 3
   },
   "file_extension": ".py",
   "mimetype": "text/x-python",
   "name": "python",
   "nbconvert_exporter": "python",
   "pygments_lexer": "ipython3",
   "version": "3.7.12"
  }
 },
 "nbformat": 4,
 "nbformat_minor": 4
}
