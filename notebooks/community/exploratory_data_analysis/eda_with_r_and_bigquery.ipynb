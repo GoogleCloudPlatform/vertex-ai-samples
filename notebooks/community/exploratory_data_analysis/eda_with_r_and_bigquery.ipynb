{
 "cells": [
  {
   "cell_type": "code",
   "execution_count": null,
   "metadata": {
    "tags": []
   },
   "outputs": [],
   "source": [
    "# Copyright 2024 Google LLC\n",
    "#\n",
    "# Licensed under the Apache License, Version 2.0 (the \"License\");\n",
    "# you may not use this file except in compliance with the License.\n",
    "# You may obtain a copy of the License at\n",
    "#\n",
    "#     https://www.apache.org/licenses/LICENSE-2.0\n",
    "#\n",
    "# Unless required by applicable law or agreed to in writing, software\n",
    "# distributed under the License is distributed on an \"AS IS\" BASIS,\n",
    "# WITHOUT WARRANTIES OR CONDITIONS OF ANY KIND, either express or implied.\n",
    "# See the License for the specific language governing permissions and\n",
    "# limitations under the License."
   ]
  },
  {
   "cell_type": "markdown",
   "metadata": {
    "tags": []
   },
   "source": [
    "# Exploratory Data Analysis with R and BigQuery\n",
    "\n",
    "**Author**:  [Alok Pattani](https://github.com/alokpattani)\n",
    "\n",
    "**Last Updated**:  July 2024\n",
    "\n",
    "## Overview\n",
    "\n",
    "This notebook illustrates how to perform exploratory data analysis (EDA) using [R](https://www.r-project.org/about.html) on data extracted from [BigQuery](https://cloud.google.com/bigquery). After you analyze and process the data, the transformed data is stored in [Cloud Storage](https://cloud.google.com/storage) for further machine learning (ML) tasks.\n",
    "\n",
    "R is one of the most widely used programming languages for statistical modeling. It has a large and active community of data scientists and machine learning (ML) professionals. With more than 20,000 packages in the open-source repository of [CRAN](https://cran.r-project.org/), R has tools for all statistical data analysis applications, ML, and visualization.\n",
    "\n",
    "## Dataset\n",
    "The dataset used in this tutorial is the BigQuery natality dataset. This public dataset includes information about more than 137 million births registered in the United States from 1969 to 2008. The dataset is available [here](https://console.cloud.google.com/bigquery?p=bigquery-public-data&d=samples&t=natality&page=table&_ga=2.99329886.-1705629017.1551465326&_gac=1.109796023.1561476396.CI2rz-z4hOMCFc6RhQods4oEXA).\n",
    "\n",
    "In this notebook, we focus on exploratory data analysis and visualization using R and BigQuery, with an eye toward a potential machine learning goal of predicting a baby's weight given a number of factors about the pregnancy and about the baby's mother.\n",
    "\n",
    "## Objective\n",
    "The goal of this tutorial is to:\n",
    "1. Query and analyze data from BigQuery using the [bigrquery](https://cran.r-project.org/web/packages/bigrquery/index.html) R library.\n",
    "2. Prepare and store data for ML in Cloud Storage.\n",
    "\n",
    "## Costs\n",
    "This tutorial uses the following billable components of Google Cloud:\n",
    "1. [BigQuery](https://cloud.google.com/bigquery/pricing)\n",
    "2. [Cloud Storage](https://cloud.google.com/storage/pricing)\n",
    "3. [Vertex AI Workbench Instances](https://cloud.google.com/vertex-ai/pricing#notebooks) (if running this notebook there)\n",
    "\n",
    "Use the [Pricing Calculator](https://cloud.google.com/products/calculator/) to generate a cost estimate based on your projected usage.\n"
   ]
  },
  {
   "cell_type": "markdown",
   "metadata": {},
   "source": [
    "## 0. Setup "
   ]
  },
  {
   "cell_type": "markdown",
   "metadata": {
    "tags": []
   },
   "source": [
    "Check the version of R being run."
   ]
  },
  {
   "cell_type": "code",
   "execution_count": null,
   "metadata": {
    "tags": []
   },
   "outputs": [],
   "source": [
    "version"
   ]
  },
  {
   "cell_type": "markdown",
   "metadata": {},
   "source": [
    "Install necessary R packages if not already available in the current session."
   ]
  },
  {
   "cell_type": "code",
   "execution_count": null,
   "metadata": {
    "tags": []
   },
   "outputs": [],
   "source": [
    "# List the necessary packages\n",
    "needed_packages <- c(\"dplyr\", \"ggplot2\", \"bigrquery\")\n",
    "\n",
    "# Check if packages are installed\n",
    "installed_packages <- .packages(all.available = TRUE)\n",
    "missing_packages <- needed_packages[!(needed_packages %in% installed_packages)]\n",
    "\n",
    "# If any are missing, install them\n",
    "if (length(missing_packages) > 0) {\n",
    "  install.packages(missing_packages)\n",
    "}"
   ]
  },
  {
   "cell_type": "code",
   "execution_count": null,
   "metadata": {
    "tags": []
   },
   "outputs": [],
   "source": [
    "# Load the required packages\n",
    "lapply(needed_packages, library, character.only = TRUE) "
   ]
  },
  {
   "cell_type": "markdown",
   "metadata": {},
   "source": [
    "Use BigQuery out-of-band authentication"
   ]
  },
  {
   "cell_type": "code",
   "execution_count": null,
   "metadata": {
    "tags": []
   },
   "outputs": [],
   "source": [
    "bq_auth(use_oob = TRUE)"
   ]
  },
  {
   "cell_type": "markdown",
   "metadata": {},
   "source": [
    "Set a variable to the name of the project that you want to use for this tutorial."
   ]
  },
  {
   "cell_type": "code",
   "execution_count": null,
   "metadata": {
    "tags": []
   },
   "outputs": [],
   "source": [
    "# Set the project ID\n",
    "PROJECT_ID <- \"[YOUR-PROJECT-ID]\""
   ]
  },
  {
   "cell_type": "markdown",
   "metadata": {},
   "source": [
    "Set a variable to the name of the Cloud Storage bucket that you want to use later to store the output data. The name must be globally unique."
   ]
  },
  {
   "cell_type": "code",
   "execution_count": null,
   "metadata": {
    "tags": []
   },
   "outputs": [],
   "source": [
    "# Set your Cloud Storage bucket name\n",
    "BUCKET_NAME <- \"[YOUR-BUCKET-NAME]\""
   ]
  },
  {
   "cell_type": "code",
   "execution_count": null,
   "metadata": {
    "tags": []
   },
   "outputs": [],
   "source": [
    "# Set default height/width for plots generated\n",
    "options(repr.plot.height = 9, repr.plot.width = 16)"
   ]
  },
  {
   "cell_type": "markdown",
   "metadata": {},
   "source": [
    "## 1. Querying Data from BigQuery "
   ]
  },
  {
   "cell_type": "markdown",
   "metadata": {},
   "source": [
    "### 1.1. Prepare the BigQuery query"
   ]
  },
  {
   "cell_type": "code",
   "execution_count": null,
   "metadata": {
    "tags": []
   },
   "outputs": [],
   "source": [
    "sql_query_template <- \"\n",
    "    SELECT\n",
    "      TIMESTAMP_DIFF(dropoff_datetime, pickup_datetime, MINUTE) AS trip_time_minutes,  \n",
    "\n",
    "      passenger_count,\n",
    "\n",
    "      ROUND(trip_distance, 1) AS trip_distance_miles,\n",
    "\n",
    "      rate_code,\n",
    "      /* Mapping from rate code to type from description column in BQ table schema */\n",
    "      (CASE \n",
    "        WHEN rate_code = '1.0'\n",
    "          THEN 'Standard rate'\n",
    "        WHEN rate_code = '2.0'\n",
    "          THEN 'JFK'\n",
    "        WHEN rate_code = '3.0'\n",
    "          THEN 'Newark'\n",
    "        WHEN rate_code = '4.0'\n",
    "          THEN 'Nassau or Westchester'\n",
    "        WHEN rate_code = '5.0'\n",
    "          THEN 'Negotiated fare'\n",
    "        WHEN rate_code = '6.0'\n",
    "          THEN 'Group ride'\n",
    "        /* Several NULL AND some '99.0' values go here */\n",
    "        ELSE 'Unknown'\n",
    "        END)\n",
    "        AS rate_type,\n",
    "\n",
    "      fare_amount,\n",
    "\n",
    "      CAST(ABS(FARM_FINGERPRINT(\n",
    "        CONCAT(\n",
    "          CAST(trip_distance AS STRING), \n",
    "          CAST(fare_amount AS STRING)\n",
    "          )\n",
    "        ))\n",
    "        AS STRING)\n",
    "        AS key\n",
    "\n",
    "    FROM\n",
    "      `bigquery-public-data.new_york_taxi_trips.tlc_yellow_trips_2022`\n",
    "\n",
    "    /* Filter out some outlier or hard to understand values */\n",
    "    WHERE\n",
    "      (TIMESTAMP_DIFF(dropoff_datetime, pickup_datetime, MINUTE)\n",
    "        BETWEEN 0.01 AND 120)\n",
    "      AND\n",
    "      (passenger_count BETWEEN 1 AND 10)\n",
    "      AND\n",
    "      (trip_distance BETWEEN 0.01 AND 100)\n",
    "      AND\n",
    "      (fare_amount BETWEEN 0.01 AND 250)\n",
    "\n",
    "    LIMIT %s\n",
    "\""
   ]
  },
  {
   "cell_type": "markdown",
   "metadata": {},
   "source": [
    "### 1.2. Execute the query \n",
    "The data will be retreived from BigQuery, and the results will be stored in an in-memory [tibble](https://tibble.tidyverse.org/) (like a data frame)."
   ]
  },
  {
   "cell_type": "code",
   "execution_count": null,
   "metadata": {
    "tags": []
   },
   "outputs": [],
   "source": [
    "sample_size <- 10000\n",
    "\n",
    "sql_query <- sprintf(sql_query_template, sample_size)\n",
    "\n",
    "taxi_trip_data <- bq_table_download(\n",
    "    bq_project_query(\n",
    "        PROJECT_ID, \n",
    "        query = sql_query\n",
    "    )\n",
    ")"
   ]
  },
  {
   "cell_type": "markdown",
   "metadata": {},
   "source": [
    "### 1.3. View the query results"
   ]
  },
  {
   "cell_type": "code",
   "execution_count": null,
   "metadata": {
    "tags": []
   },
   "outputs": [],
   "source": [
    "# View the query result\n",
    "head(taxi_trip_data)"
   ]
  },
  {
   "cell_type": "code",
   "execution_count": null,
   "metadata": {
    "tags": []
   },
   "outputs": [],
   "source": [
    "# Show # of rows and data types of each column\n",
    "str(taxi_trip_data)"
   ]
  },
  {
   "cell_type": "code",
   "execution_count": null,
   "metadata": {
    "tags": []
   },
   "outputs": [],
   "source": [
    "# View the results summary\n",
    "summary(taxi_trip_data)"
   ]
  },
  {
   "cell_type": "markdown",
   "metadata": {},
   "source": [
    "# 2. Visualizing retrieved data"
   ]
  },
  {
   "cell_type": "code",
   "execution_count": null,
   "metadata": {
    "tags": []
   },
   "outputs": [],
   "source": [
    "# Display the distribution of fare amounts using a histogram\n",
    "ggplot(\n",
    "    data = taxi_trip_data, \n",
    "    aes(x = fare_amount)\n",
    "    ) + \n",
    "geom_histogram(bins = 100)"
   ]
  },
  {
   "cell_type": "code",
   "execution_count": null,
   "metadata": {
    "tags": []
   },
   "outputs": [],
   "source": [
    "# Display the relationship between trip distance and fare amount\n",
    "ggplot(\n",
    "    data = taxi_trip_data, \n",
    "    aes(x = trip_distance_miles, y = fare_amount)\n",
    "    ) + \n",
    "geom_point() + \n",
    "geom_smooth(method = \"lm\")"
   ]
  },
  {
   "cell_type": "markdown",
   "metadata": {},
   "source": [
    "### Performing the processing in BigQuery\n",
    "Create a function that finds the number of trips and the average fare amount for each value of the chosen column."
   ]
  },
  {
   "cell_type": "code",
   "execution_count": null,
   "metadata": {
    "tags": []
   },
   "outputs": [],
   "source": [
    "get_distinct_value_aggregates <- function(column) {\n",
    "    query <- paste0(\n",
    "        'SELECT ', \n",
    "          column, \n",
    "          ', \n",
    "          COUNT(1) AS num_trips,\n",
    "          AVG(fare_amount) AS avg_fare_amount\n",
    "        \n",
    "        FROM\n",
    "          `bigquery-public-data.new_york_taxi_trips.tlc_yellow_trips_2022`\n",
    "        \n",
    "        WHERE\n",
    "          (TIMESTAMP_DIFF(dropoff_datetime, pickup_datetime, MINUTE) \n",
    "            BETWEEN 0.01 AND 120)\n",
    "          AND\n",
    "          (passenger_count BETWEEN 1 AND 10)\n",
    "          AND\n",
    "          (trip_distance BETWEEN 0.01 AND 100)\n",
    "          AND\n",
    "          (fare_amount BETWEEN 0.01 AND 250)\n",
    "        \n",
    "        GROUP BY 1\n",
    "        '\n",
    "        )\n",
    "    \n",
    "    bq_table_download(\n",
    "        bq_project_query(\n",
    "            PROJECT_ID, \n",
    "            query = query\n",
    "        )\n",
    "    )\n",
    "}"
   ]
  },
  {
   "cell_type": "markdown",
   "metadata": {},
   "source": [
    "Apply the function to get distinct values for various columns and plot them to study patterns."
   ]
  },
  {
   "cell_type": "code",
   "execution_count": null,
   "metadata": {
    "tags": []
   },
   "outputs": [],
   "source": [
    "df <- get_distinct_value_aggregates(\n",
    "  'TIMESTAMP_DIFF(dropoff_datetime, pickup_datetime, MINUTE) AS trip_time_minutes')\n",
    "\n",
    "ggplot(\n",
    "    data = df, \n",
    "    aes(x = trip_time_minutes, y = num_trips)\n",
    "    ) + \n",
    "geom_line()\n",
    "\n",
    "ggplot(\n",
    "    data = df,\n",
    "    aes(x = trip_time_minutes, y = avg_fare_amount)\n",
    "    ) + \n",
    "geom_line()"
   ]
  },
  {
   "cell_type": "code",
   "execution_count": null,
   "metadata": {
    "tags": []
   },
   "outputs": [],
   "source": [
    "df <- get_distinct_value_aggregates('passenger_count')\n",
    "\n",
    "ggplot(\n",
    "    data = df, \n",
    "    aes(x = passenger_count, y = num_trips)\n",
    "    ) + \n",
    "geom_col() +\n",
    "scale_x_continuous(breaks = 1:10)\n",
    "\n",
    "ggplot(\n",
    "    data = df, \n",
    "    aes(x = passenger_count, y = avg_fare_amount)\n",
    "    ) + \n",
    "geom_col() +\n",
    "scale_x_continuous(breaks = 1:10)"
   ]
  },
  {
   "cell_type": "code",
   "execution_count": null,
   "metadata": {
    "tags": []
   },
   "outputs": [],
   "source": [
    "df <- get_distinct_value_aggregates('ROUND(trip_distance, 0) AS trip_distance_miles')\n",
    "\n",
    "ggplot(\n",
    "    data = df, \n",
    "    aes(x = trip_distance_miles, y = num_trips)\n",
    "    ) + \n",
    "geom_line()\n",
    "\n",
    "ggplot(\n",
    "    data = df,\n",
    "    aes(x = trip_distance_miles, y = avg_fare_amount)\n",
    "    ) + \n",
    "geom_line()"
   ]
  },
  {
   "cell_type": "code",
   "execution_count": null,
   "metadata": {
    "tags": []
   },
   "outputs": [],
   "source": [
    "df <- get_distinct_value_aggregates(\"\n",
    "  (CASE \n",
    "    WHEN rate_code = '1.0'\n",
    "      THEN 'Standard rate'\n",
    "    WHEN rate_code = '2.0'\n",
    "      THEN 'JFK'\n",
    "    WHEN rate_code = '3.0'\n",
    "      THEN 'Newark'\n",
    "    WHEN rate_code = '4.0'\n",
    "      THEN 'Nassau or Westchester'\n",
    "    WHEN rate_code = '5.0'\n",
    "      THEN 'Negotiated fare'\n",
    "    WHEN rate_code = '6.0'\n",
    "      THEN 'Group ride'\n",
    "    /* Several NULL AND some '99.0' values go here */\n",
    "    ELSE 'Unknown'\n",
    "    END)\n",
    "    AS rate_type\n",
    "  \")\n",
    "\n",
    "ggplot(\n",
    "    data = df,\n",
    "    aes(x = rate_type, y = num_trips)\n",
    "    ) + \n",
    "geom_col()\n",
    "\n",
    "ggplot(\n",
    "    data = df,\n",
    "    aes(x = rate_type, y = avg_fare_amount)\n",
    "    ) + \n",
    "geom_col()"
   ]
  },
  {
   "cell_type": "markdown",
   "metadata": {},
   "source": [
    "# 3. Saving the data as CSVs to Cloud Storage"
   ]
  },
  {
   "cell_type": "code",
   "execution_count": null,
   "metadata": {
    "tags": []
   },
   "outputs": [],
   "source": [
    "# Prepare training and evaluation data from BigQuery\n",
    "sample_size <- 10000\n",
    "\n",
    "sql_query <- sprintf(sql_query_template, sample_size)\n",
    "\n",
    "# Split data into 75% training, 25% evaluation\n",
    "train_query <- paste('SELECT * FROM (', sql_query, \n",
    "  ') WHERE MOD(CAST(key AS INT64), 100) <= 75')\n",
    "eval_query <- paste('SELECT * FROM (', sql_query,\n",
    "  ') WHERE MOD(CAST(key AS INT64), 100) > 75')\n",
    "\n",
    "# Load training data to data frame\n",
    "train_data <- bq_table_download(\n",
    "    bq_project_query(\n",
    "        PROJECT_ID, \n",
    "        query = train_query\n",
    "    )\n",
    ")\n",
    "\n",
    "# Load evaluation data to data frame\n",
    "eval_data <- bq_table_download(\n",
    "    bq_project_query(\n",
    "        PROJECT_ID, \n",
    "        query = eval_query\n",
    "    )\n",
    ")"
   ]
  },
  {
   "cell_type": "code",
   "execution_count": null,
   "metadata": {
    "tags": []
   },
   "outputs": [],
   "source": [
    "print(paste0(\"Training instances count: \", nrow(train_data)))\n",
    "\n",
    "print(paste0(\"Evaluation instances count: \", nrow(eval_data)))"
   ]
  },
  {
   "cell_type": "code",
   "execution_count": null,
   "metadata": {
    "tags": []
   },
   "outputs": [],
   "source": [
    "# Write data frames to local CSV files, with headers\n",
    "dir.create(file.path('data'), showWarnings = FALSE)\n",
    "\n",
    "write.table(train_data, \"data/train_data.csv\", \n",
    "   row.names = FALSE, col.names = TRUE, sep = \",\")\n",
    "\n",
    "write.table(eval_data, \"data/eval_data.csv\", \n",
    "   row.names = FALSE, col.names = TRUE, sep = \",\")"
   ]
  },
  {
   "cell_type": "code",
   "execution_count": null,
   "metadata": {
    "tags": []
   },
   "outputs": [],
   "source": [
    "# Upload CSV data to Cloud Storage by passing gsutil commands to system\n",
    "gcs_url <- paste0(\"gs://\", BUCKET_NAME, \"/\")\n",
    "\n",
    "command <- paste(\"gsutil mb\", gcs_url)\n",
    "\n",
    "system(command)\n",
    "\n",
    "gcs_data_dir <- paste0(\"gs://\", BUCKET_NAME, \"/data\")\n",
    "\n",
    "command <- paste(\"gsutil cp data/*_data.csv\", gcs_data_dir)\n",
    "\n",
    "system(command)\n",
    "\n",
    "command <- paste(\"gsutil ls -l\", gcs_data_dir)\n",
    "\n",
    "system(command, intern = TRUE)"
   ]
  }
 ],
 "metadata": {
  "environment": {
   "kernel": "conda-env-r-r",
   "name": "workbench-notebooks.m123",
   "type": "gcloud",
   "uri": "us-docker.pkg.dev/deeplearning-platform-release/gcr.io/workbench-notebooks:m123"
  },
  "kernelspec": {
   "display_name": "R (Local)",
   "language": "R",
   "name": "conda-env-r-r"
  },
  "language_info": {
   "codemirror_mode": "r",
   "file_extension": ".r",
   "mimetype": "text/x-r-source",
   "name": "R",
   "pygments_lexer": "r",
   "version": "4.3.2"
  }
 },
 "nbformat": 4,
 "nbformat_minor": 4
}
