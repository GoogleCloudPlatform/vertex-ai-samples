{
 "cells": [
  {
   "cell_type": "code",
   "execution_count": 1,
   "id": "0aa0926f-dc87-491d-a4c3-7adc28682756",
   "metadata": {},
   "outputs": [],
   "source": [
    "# Copyright 2024 Google LLC\n",
    "#\n",
    "# Licensed under the Apache License, Version 2.0 (the \"License\");\n",
    "# you may not use this file except in compliance with the License.\n",
    "# You may obtain a copy of the License at\n",
    "#\n",
    "#     https://www.apache.org/licenses/LICENSE-2.0\n",
    "#\n",
    "# Unless required by applicable law or agreed to in writing, software\n",
    "# distributed under the License is distributed on an \"AS IS\" BASIS,\n",
    "# WITHOUT WARRANTIES OR CONDITIONS OF ANY KIND, either express or implied.\n",
    "# See the License for the specific language governing permissions and\n",
    "# limitations under the License."
   ]
  },
  {
   "cell_type": "markdown",
   "id": "bb125db2-1171-4f31-9abf-5f8948679a2b",
   "metadata": {
    "tags": []
   },
   "source": [
    "# Gemini SDK Demo"
   ]
  },
  {
   "cell_type": "markdown",
   "id": "1b62e877-4c78-46ba-bdd6-d30b5c7396e2",
   "metadata": {},
   "source": [
    "## Overview\n",
    "In this tutorial, it shows the sample code of generative AI with Google Vertex SDK.\n",
    "\n",
    "## Gemini\n",
    "Gemini is an AI model created by Google DeepMind and designed for various tasks. \n",
    "The Vertex AI SDK provides a way to easily use these Gemini models for tasks like generating content."
   ]
  },
  {
   "cell_type": "markdown",
   "id": "e7bfec43-3fb4-4341-b5e3-d77d7722a397",
   "metadata": {},
   "source": [
    "### Objectives\n",
    "The objective is to demonstrate how to import SDK and load Gemini model by vertexai SDK.\n",
    "Then you can start chatting with your own AI assistant."
   ]
  },
  {
   "cell_type": "markdown",
   "id": "65aff11a-6791-482b-9950-6acd08e5494a",
   "metadata": {},
   "source": [
    "### Import libraries"
   ]
  },
  {
   "cell_type": "code",
   "execution_count": null,
   "id": "d7234ed2-cf9e-42f9-8ba1-8d8f40b82614",
   "metadata": {},
   "outputs": [],
   "source": [
    "import vertexai\n",
    "from vertexai.preview.generative_models import GenerativeModel, ChatSession"
   ]
  },
  {
   "cell_type": "markdown",
   "id": "c02cdf51-fac2-4ec1-b2f5-2189d68865d5",
   "metadata": {},
   "source": [
    "### Init Vertex AI\n",
    "At first, setup your Google Cloud project and location"
   ]
  },
  {
   "cell_type": "code",
   "execution_count": null,
   "id": "49609704-0217-4040-bfec-e73ed940363e",
   "metadata": {},
   "outputs": [],
   "source": [
    "vertexai.init(project=\"project-id\", location=\"us-west1\")\n",
    "model = GenerativeModel(\"gemini-1.0-pro\")"
   ]
  },
  {
   "cell_type": "markdown",
   "id": "184c24b3-4468-499d-9aeb-e4115384cab2",
   "metadata": {
    "tags": []
   },
   "source": [
    "### Setup your prompt template\n",
    "\n",
    "- A assistant\n",
    "- No technical words\n",
    "- Kindly response\n",
    "- Add more..."
   ]
  },
  {
   "cell_type": "code",
   "execution_count": null,
   "id": "b0df1d3b-beac-4767-809d-4c2bd261e34f",
   "metadata": {},
   "outputs": [],
   "source": [
    "prompt_template: str = \"\"\"/\n",
    "You are a personal assistant. Please give responses to the following question: {question}./\n",
    "Do not use technical words, give easy to understand responses.\n",
    "\"\"\""
   ]
  },
  {
   "cell_type": "markdown",
   "id": "f8bd35da-d4ba-4cd3-88d6-4b48e6a22013",
   "metadata": {},
   "source": [
    "### Create the chat function using prompt template"
   ]
  },
  {
   "cell_type": "code",
   "execution_count": null,
   "id": "f9ac6980-1fd5-4f0f-8a12-39e713ae0dd7",
   "metadata": {},
   "outputs": [],
   "source": [
    "def start_chat(question: str):\n",
    "    prompt = prompt_template.replace(\"{question}\", question)\n",
    "    chat = model.start_chat()\n",
    "    responses = chat.send_message(prompt, stream=True)\n",
    "    for response in responses:\n",
    "        print(response.text, end=\"\")"
   ]
  },
  {
   "cell_type": "markdown",
   "id": "6ae778d2-578c-46cf-8bb4-8fbae0207795",
   "metadata": {
    "tags": []
   },
   "source": [
    "### Start to chat\n",
    "Add your question here"
   ]
  },
  {
   "cell_type": "code",
   "execution_count": null,
   "id": "9f616a82-cf56-4ed4-9859-2b9704d0bdfc",
   "metadata": {},
   "outputs": [],
   "source": [
    "start_chat(\"Why the sky is blue?\")\n",
    "start_chat(\"Where is Uganda?\")"
   ]
  }
 ],
 "metadata": {
  "kernelspec": {
   "display_name": "Python 3 (ipykernel)",
   "language": "python",
   "name": "python3"
  },
  "language_info": {
   "codemirror_mode": {
    "name": "ipython",
    "version": 3
   },
   "file_extension": ".py",
   "mimetype": "text/x-python",
   "name": "python",
   "nbconvert_exporter": "python",
   "pygments_lexer": "ipython3",
   "version": "3.11.6"
  }
 },
 "nbformat": 4,
 "nbformat_minor": 5
}
