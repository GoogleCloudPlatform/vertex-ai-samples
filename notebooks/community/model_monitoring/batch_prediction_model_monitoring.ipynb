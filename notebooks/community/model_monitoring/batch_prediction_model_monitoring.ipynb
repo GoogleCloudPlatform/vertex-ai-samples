{
 "cells": [
  {
   "cell_type": "markdown",
   "id": "b531e166",
   "metadata": {
    "tags": [
     "papermill-error-cell-tag"
    ]
   },
   "source": [
    "<span style=\"color:red; font-family:Helvetica Neue, Helvetica, Arial, sans-serif; font-size:2em;\">An Exception was encountered at '<a href=\"#papermill-error-cell\">In [10]</a>'.</span>"
   ]
  },
  {
   "cell_type": "code",
   "execution_count": 1,
   "id": "84670b31",
   "metadata": {
    "cellView": "form",
    "execution": {
     "iopub.execute_input": "2022-07-18T14:24:47.889133Z",
     "iopub.status.busy": "2022-07-18T14:24:47.888739Z",
     "iopub.status.idle": "2022-07-18T14:24:47.893234Z",
     "shell.execute_reply": "2022-07-18T14:24:47.892551Z"
    },
    "id": "ur8xi4C7S06n",
    "papermill": {
     "duration": 0.01621,
     "end_time": "2022-07-18T14:24:47.895008",
     "exception": false,
     "start_time": "2022-07-18T14:24:47.878798",
     "status": "completed"
    },
    "tags": []
   },
   "outputs": [],
   "source": [
    "# @title Copyright & License (click to expand)\n",
    "# Copyright 2021 Google LLC\n",
    "#\n",
    "# Licensed under the Apache License, Version 2.0 (the \"License\");\n",
    "# you may not use this file except in compliance with the License.\n",
    "# You may obtain a copy of the License at\n",
    "#\n",
    "#     https://www.apache.org/licenses/LICENSE-2.0\n",
    "#\n",
    "# Unless required by applicable law or agreed to in writing, software\n",
    "# distributed under the License is distributed on an \"AS IS\" BASIS,\n",
    "# WITHOUT WARRANTIES OR CONDITIONS OF ANY KIND, either express or implied.\n",
    "# See the License for the specific language governing permissions and\n",
    "# limitations under the License."
   ]
  },
  {
   "cell_type": "markdown",
   "id": "f6c23bca",
   "metadata": {
    "id": "fsv4jGuU89rX",
    "papermill": {
     "duration": 0.007126,
     "end_time": "2022-07-18T14:24:47.909688",
     "exception": false,
     "start_time": "2022-07-18T14:24:47.902562",
     "status": "completed"
    },
    "tags": []
   },
   "source": [
    "# Vertex AI Batch Prediction with Model Monitoring\n",
    "\n",
    "<table align=\"left\">\n",
    "  <td>\n",
    "    <a href=\"https://console.cloud.google.com/ai-platform/notebooks/deploy-notebook?name=Batch%20Prediction%20Model%20Monitoring&download_url=https%3A%2F%2Fraw.githubusercontent.com%2FGoogleCloudPlatform%2Fvertex-ai-samples%2Fmain%2Fnotebooks%2Fofficial%2Fmodel_monitoring%2Fbatch_prediction_model_monitoring.ipynb\">\n",
    "       <img src=\"https://www.gstatic.com/cloud/images/navigation/vertex-ai.svg\" alt=\"Google Cloud Notebooks\">Open in Cloud Notebook\n",
    "    </a>\n",
    "  </td> \n",
    "  <td>\n",
    "    <a href=\"https://colab.research.google.com/github/GoogleCloudPlatform/vertex-ai-samples/blob/main/notebooks/official/model_monitoring/batch_prediction_model_monitoring.ipynb\">\n",
    "      <img src=\"https://cloud.google.com/ml-engine/images/colab-logo-32px.png\" alt=\"Colab logo\"> Open in Colab\n",
    "    </a>\n",
    "  </td>\n",
    "  <td>\n",
    "    <a href=\"https://github.com/GoogleCloudPlatform/vertex-ai-samples/blob/main/notebooks/official/model_monitoring/batch_prediction_model_monitoring.ipynb\">\n",
    "        <img src=\"https://cloud.google.com/ml-engine/images/github-logo-32px.png\" alt=\"GitHub logo\">\n",
    "      View on GitHub\n",
    "    </a>\n",
    "  </td>\n",
    "</table>"
   ]
  },
  {
   "cell_type": "markdown",
   "id": "1fb5ab5d",
   "metadata": {
    "id": "lA32H1oKGgpf",
    "papermill": {
     "duration": 0.006991,
     "end_time": "2022-07-18T14:24:47.923687",
     "exception": false,
     "start_time": "2022-07-18T14:24:47.916696",
     "status": "completed"
    },
    "tags": []
   },
   "source": [
    "## Overview\n",
    "\n",
    "In this notebook, you will learn how to use Model Monitoring with batch prediction requests on a deployed Vertex AI Model resource. In a companion notebook, <a href=\"https://github.com/GoogleCloudPlatform/vertex-ai-samples/blob/main/notebooks/official/model_monitoring/model_monitoring.ipynb\" target=\"_blank\">Vertex AI Model Monitoring with Explainable AI Feature Attributions</a>, you can learn about how to apply model monitoring to streaming, real-time predictions."
   ]
  },
  {
   "cell_type": "markdown",
   "id": "2f6f96ae",
   "metadata": {
    "id": "yG7FcXWKHOhC",
    "papermill": {
     "duration": 0.00697,
     "end_time": "2022-07-18T14:24:47.937641",
     "exception": false,
     "start_time": "2022-07-18T14:24:47.930671",
     "status": "completed"
    },
    "tags": []
   },
   "source": [
    "### Objective\n",
    "This tutorial uses the following Google Cloud ML services:\n",
    "\n",
    "- Vertex AI Model Monitoring\n",
    "- Vertex AI Batch Prediction\n",
    "- Vertex AI Model resource\n",
    "\n",
    "The steps performed include:\n",
    "\n",
    "- Upload a pre-trained model as a Vertex AI Model resource.\n",
    "- Generate batch prediction requests.\n",
    "- Interpret the statistics, visualizations, other data reported by the model monitoring feature.\n",
    "\n",
    "### Costs \n",
    "\n",
    "This tutorial uses billable components of Google Cloud:\n",
    "\n",
    "* Vertext AI\n",
    "* Google Cloud Storage\n",
    "\n",
    "Learn about [Vertext AI\n",
    "pricing](https://cloud.google.com/vertex-ai/pricing) and [Cloud Storage\n",
    "pricing](https://cloud.google.com/storage/pricing), and use the [Pricing\n",
    "Calculator](https://cloud.google.com/products/calculator/)\n",
    "to generate a cost estimate based on your projected usage."
   ]
  },
  {
   "cell_type": "markdown",
   "id": "ff175fdb",
   "metadata": {
    "id": "t6Cd51FkG09E",
    "papermill": {
     "duration": 0.006967,
     "end_time": "2022-07-18T14:24:47.951529",
     "exception": false,
     "start_time": "2022-07-18T14:24:47.944562",
     "status": "completed"
    },
    "tags": []
   },
   "source": [
    "### What is Vertex AI batch prediction?\n",
    "\n",
    "<a href=\"https://cloud.google.com/vertex-ai/docs/predictions/batch-predictions\" target=\"_blank\">Batch Prediction</a> is a service that processes a collection (i.e. a batch) of machine learning inference requests in bulk, with less stringent response time requirements than real-time or streaming predictions."
   ]
  },
  {
   "cell_type": "markdown",
   "id": "f1e3a790",
   "metadata": {
    "id": "awwiVRPn4vNC",
    "papermill": {
     "duration": 0.006968,
     "end_time": "2022-07-18T14:24:47.965439",
     "exception": false,
     "start_time": "2022-07-18T14:24:47.958471",
     "status": "completed"
    },
    "tags": []
   },
   "source": [
    "### What is Vertex AI model monitoring?\n",
    "\n",
    "<a href=\"https://cloud.google.com/vertex-ai/docs/model-monitoring\" target=\"_blank\">Model Monitoring</a> is a service that automatically determines \n",
    "whether production machine learning traffic differs from  training data, or varies substantially over time, in terms of model predictions or feature attributions. When that happens, you can be alerted automatically and responsively, whereby, you can detect model decay which may negatively impact your operations -- such as your customer experience and/or revenue."
   ]
  },
  {
   "cell_type": "markdown",
   "id": "e3cedc7a",
   "metadata": {
    "id": "tvgnzT1CKxrO",
    "papermill": {
     "duration": 0.006904,
     "end_time": "2022-07-18T14:24:47.979296",
     "exception": false,
     "start_time": "2022-07-18T14:24:47.972392",
     "status": "completed"
    },
    "tags": []
   },
   "source": [
    "### The example model\n",
    "\n",
    "The model you'll use in this notebook is based on [this blog post](https://cloud.google.com/blog/topics/developers-practitioners/churn-prediction-game-developers-using-google-analytics-4-ga4-and-bigquery-ml). The idea behind this model is that your company has extensive log data describing how your game users have interacted with the site. The raw data contains the following categories of information:\n",
    "\n",
    "- identity - unique player identitity numbers\n",
    "- demographic features - information about the player, such as the geographic region in which a player is located\n",
    "- behavioral features - counts of the number of times a  player has triggered certain game events, such as reaching a new level\n",
    "- churn propensity - this is the label or target feature, it provides an estimated probability that this player will churn, i.e. stop being an active player.\n",
    "\n",
    "The blog article referenced above explains how to use BigQuery to store the raw data, pre-process it for use in machine learning, and train a model. Because this notebook focuses on model monitoring, rather than training models, you're going to reuse a pre-trained version of this model, which has been exported to Google Cloud Storage. In the next section, you will setup your environment and import this model into your own project."
   ]
  },
  {
   "cell_type": "markdown",
   "id": "53bb0503",
   "metadata": {
    "id": "f3848df1e5b0",
    "papermill": {
     "duration": 0.006922,
     "end_time": "2022-07-18T14:24:47.993996",
     "exception": false,
     "start_time": "2022-07-18T14:24:47.987074",
     "status": "completed"
    },
    "tags": []
   },
   "source": [
    "## Installation\n",
    "\n",
    "Install the packages required for executing this notebook."
   ]
  },
  {
   "cell_type": "code",
   "execution_count": 2,
   "id": "25106e06",
   "metadata": {
    "execution": {
     "iopub.execute_input": "2022-07-18T14:24:48.009988Z",
     "iopub.status.busy": "2022-07-18T14:24:48.009311Z",
     "iopub.status.idle": "2022-07-18T14:24:53.862617Z",
     "shell.execute_reply": "2022-07-18T14:24:53.861441Z"
    },
    "id": "b24b232ee039",
    "papermill": {
     "duration": 5.864128,
     "end_time": "2022-07-18T14:24:53.865130",
     "exception": false,
     "start_time": "2022-07-18T14:24:48.001002",
     "status": "completed"
    },
    "tags": []
   },
   "outputs": [
    {
     "name": "stdout",
     "output_type": "stream",
     "text": [
      "\u001b[31mERROR: Could not find a version that satisfies the requirement tensorflow_data_validation (from versions: none)\u001b[0m\u001b[31m\r\n",
      "\u001b[0m\u001b[31mERROR: No matching distribution found for tensorflow_data_validation\u001b[0m\u001b[31m\r\n",
      "\u001b[0m"
     ]
    }
   ],
   "source": [
    "import os\n",
    "import sys\n",
    "\n",
    "assert sys.version_info.major == 3, \"This notebook requires Python 3.\"\n",
    "\n",
    "# The Vertex AI Workbench Notebook product has specific requirements\n",
    "IS_WORKBENCH_NOTEBOOK = os.getenv(\"DL_ANACONDA_HOME\") and not os.getenv(\"VIRTUAL_ENV\")\n",
    "IS_USER_MANAGED_WORKBENCH_NOTEBOOK = os.path.exists(\n",
    "    \"/opt/deeplearning/metadata/env_version\"\n",
    ")\n",
    "\n",
    "# Vertex AI Notebook requires dependencies to be installed with '--user'\n",
    "USER_FLAG = \"\"\n",
    "if IS_WORKBENCH_NOTEBOOK:\n",
    "    USER_FLAG = \"--user\"\n",
    "\n",
    "# Install Python package dependencies.\n",
    "! pip download tensorflow_data_validation \\\n",
    "  --no-deps \\\n",
    "  --platform manylinux2010_x86_64 \\\n",
    "  --only-binary=:all:\n",
    "! pip3 install -q google-api-core $USER_FLAG\n",
    "! pip3 install -q google-cloud-aiplatform $USER_FLAG"
   ]
  },
  {
   "cell_type": "markdown",
   "id": "bf681ec4",
   "metadata": {
    "id": "hhq5zEbGg0XX",
    "papermill": {
     "duration": 0.007213,
     "end_time": "2022-07-18T14:24:53.879978",
     "exception": false,
     "start_time": "2022-07-18T14:24:53.872765",
     "status": "completed"
    },
    "tags": []
   },
   "source": [
    "### Restart the kernel\n",
    "\n",
    "After you install the SDK, you need to restart the notebook kernel so it can find the packages. You can restart kernel from *Kernel -> Restart Kernel*, or running the following:"
   ]
  },
  {
   "cell_type": "code",
   "execution_count": 3,
   "id": "41a53599",
   "metadata": {
    "execution": {
     "iopub.execute_input": "2022-07-18T14:24:53.896354Z",
     "iopub.status.busy": "2022-07-18T14:24:53.895598Z",
     "iopub.status.idle": "2022-07-18T14:24:53.900715Z",
     "shell.execute_reply": "2022-07-18T14:24:53.899964Z"
    },
    "id": "EzrelQZ22IZj",
    "papermill": {
     "duration": 0.015392,
     "end_time": "2022-07-18T14:24:53.902372",
     "exception": false,
     "start_time": "2022-07-18T14:24:53.886980",
     "status": "completed"
    },
    "tags": []
   },
   "outputs": [],
   "source": [
    "# Automatically restart kernel after installs\n",
    "import os\n",
    "\n",
    "if not os.getenv(\"IS_TESTING\"):\n",
    "    # Automatically restart kernel after installs\n",
    "    import IPython\n",
    "\n",
    "    app = IPython.Application.instance()\n",
    "    app.kernel.do_shutdown(True)"
   ]
  },
  {
   "cell_type": "markdown",
   "id": "54e2b9f1",
   "metadata": {
    "id": "BF1j6f9HApxa",
    "papermill": {
     "duration": 0.00737,
     "end_time": "2022-07-18T14:24:53.916802",
     "exception": false,
     "start_time": "2022-07-18T14:24:53.909432",
     "status": "completed"
    },
    "tags": []
   },
   "source": [
    "### Set up your Google Cloud project\n",
    "\n",
    "**The following steps are required, regardless of your notebook environment.**\n",
    "\n",
    "1. [Select or create a Google Cloud project](https://console.cloud.google.com/cloud-resource-manager). When you first create an account, you get a $300 free credit towards your compute/storage costs.\n",
    "\n",
    "1. [Make sure that billing is enabled for your project](https://cloud.google.com/billing/docs/how-to/modify-project).\n",
    "\n",
    "1. [Enable the Vertex AI API and Compute Engine API](https://console.cloud.google.com/flows/enableapi?apiid=aiplatform.googleapis.com,compute_component).\n",
    "\n",
    "1. If you are running this notebook locally, you will need to install the [Cloud SDK](https://cloud.google.com/sdk).\n",
    "\n",
    "1. Enter your project ID in the cell below. Then run the cell to make sure the\n",
    "Cloud SDK uses the right project for all the commands in this notebook.\n",
    "\n",
    "**Note**: Jupyter runs lines prefixed with `!` as shell commands, and it interpolates Python variables prefixed with `$` into these commands."
   ]
  },
  {
   "cell_type": "markdown",
   "id": "44c3bd51",
   "metadata": {
    "id": "WReHDGG5g0XY",
    "papermill": {
     "duration": 0.007187,
     "end_time": "2022-07-18T14:24:53.930993",
     "exception": false,
     "start_time": "2022-07-18T14:24:53.923806",
     "status": "completed"
    },
    "tags": []
   },
   "source": [
    "#### Set your project ID\n",
    "\n",
    "**If you don't know your project ID**, you may be able to get your project ID using `gcloud`."
   ]
  },
  {
   "cell_type": "code",
   "execution_count": 4,
   "id": "ed4cc3af",
   "metadata": {
    "execution": {
     "iopub.execute_input": "2022-07-18T14:24:53.947250Z",
     "iopub.status.busy": "2022-07-18T14:24:53.946616Z",
     "iopub.status.idle": "2022-07-18T14:24:53.952605Z",
     "shell.execute_reply": "2022-07-18T14:24:53.951726Z"
    },
    "id": "maVoCiVh2nnI",
    "papermill": {
     "duration": 0.016289,
     "end_time": "2022-07-18T14:24:53.954394",
     "exception": false,
     "start_time": "2022-07-18T14:24:53.938105",
     "status": "completed"
    },
    "tags": []
   },
   "outputs": [],
   "source": [
    "import os\n",
    "\n",
    "PROJECT_ID = \"\"\n",
    "\n",
    "# Get your Google Cloud project ID from gcloud\n",
    "if not os.getenv(\"IS_TESTING\"):\n",
    "    shell_output = ! gcloud config list --format 'value(core.project)' 2>/dev/null\n",
    "    PROJECT_ID = shell_output[0]\n",
    "    print(\"Project ID: \", PROJECT_ID)"
   ]
  },
  {
   "cell_type": "markdown",
   "id": "a3f74365",
   "metadata": {
    "id": "tWjzTJPB2tOJ",
    "papermill": {
     "duration": 0.007144,
     "end_time": "2022-07-18T14:24:53.968574",
     "exception": false,
     "start_time": "2022-07-18T14:24:53.961430",
     "status": "completed"
    },
    "tags": []
   },
   "source": [
    "Otherwise, set your project ID here.\n"
   ]
  },
  {
   "cell_type": "code",
   "execution_count": 5,
   "id": "5d1b9d68",
   "metadata": {
    "execution": {
     "iopub.execute_input": "2022-07-18T14:24:54.006969Z",
     "iopub.status.busy": "2022-07-18T14:24:54.006305Z",
     "iopub.status.idle": "2022-07-18T14:24:54.010449Z",
     "shell.execute_reply": "2022-07-18T14:24:54.009771Z"
    },
    "id": "riG_qUokg0XZ",
    "papermill": {
     "duration": 0.036312,
     "end_time": "2022-07-18T14:24:54.012134",
     "exception": false,
     "start_time": "2022-07-18T14:24:53.975822",
     "status": "completed"
    },
    "tags": []
   },
   "outputs": [],
   "source": [
    "if PROJECT_ID == \"\" or PROJECT_ID is None:\n",
    "    PROJECT_ID = \"python-docs-samples-tests\"  # @param {type:\"string\"}"
   ]
  },
  {
   "cell_type": "code",
   "execution_count": 6,
   "id": "ae4dbffa",
   "metadata": {
    "execution": {
     "iopub.execute_input": "2022-07-18T14:24:54.028745Z",
     "iopub.status.busy": "2022-07-18T14:24:54.028083Z",
     "iopub.status.idle": "2022-07-18T14:24:56.076745Z",
     "shell.execute_reply": "2022-07-18T14:24:56.075720Z"
    },
    "id": "lkvZKIlErl32",
    "papermill": {
     "duration": 2.059666,
     "end_time": "2022-07-18T14:24:56.079008",
     "exception": false,
     "start_time": "2022-07-18T14:24:54.019342",
     "status": "completed"
    },
    "tags": []
   },
   "outputs": [
    {
     "name": "stdout",
     "output_type": "stream",
     "text": [
      "Updated property [core/project].\r\n",
      "\r\n",
      "\r\n",
      "Updates are available for some Google Cloud CLI components.  To install them,\r\n",
      "please run:\r\n",
      "  $ gcloud components update\r\n",
      "\r\n"
     ]
    }
   ],
   "source": [
    "! gcloud config set project $PROJECT_ID"
   ]
  },
  {
   "cell_type": "markdown",
   "id": "238b8bc3",
   "metadata": {
    "id": "IKuojXOu3jeJ",
    "papermill": {
     "duration": 0.007491,
     "end_time": "2022-07-18T14:24:56.094048",
     "exception": false,
     "start_time": "2022-07-18T14:24:56.086557",
     "status": "completed"
    },
    "tags": []
   },
   "source": [
    "#### Set your email address\n",
    "This is used for delivering model monitoring notifications.\n"
   ]
  },
  {
   "cell_type": "code",
   "execution_count": 7,
   "id": "08a8fc61",
   "metadata": {
    "execution": {
     "iopub.execute_input": "2022-07-18T14:24:56.110802Z",
     "iopub.status.busy": "2022-07-18T14:24:56.110441Z",
     "iopub.status.idle": "2022-07-18T14:24:56.115505Z",
     "shell.execute_reply": "2022-07-18T14:24:56.114606Z"
    },
    "id": "EP3zqsFp3NEG",
    "papermill": {
     "duration": 0.015871,
     "end_time": "2022-07-18T14:24:56.117310",
     "exception": false,
     "start_time": "2022-07-18T14:24:56.101439",
     "status": "completed"
    },
    "tags": []
   },
   "outputs": [
    {
     "name": "stdout",
     "output_type": "stream",
     "text": [
      "EMAIL_ADDRESS not specified, please correct before proceeding.\n"
     ]
    }
   ],
   "source": [
    "EMAIL_ADDRESS = \"[your-email-address]\"  # @param {type:\"string\"}\n",
    "if not EMAIL_ADDRESS or EMAIL_ADDRESS == \"[your-email-address]\":\n",
    "    print(\"EMAIL_ADDRESS not specified, please correct before proceeding.\")"
   ]
  },
  {
   "cell_type": "markdown",
   "id": "85f43cf5",
   "metadata": {
    "id": "region",
    "papermill": {
     "duration": 0.008056,
     "end_time": "2022-07-18T14:24:56.132658",
     "exception": false,
     "start_time": "2022-07-18T14:24:56.124602",
     "status": "completed"
    },
    "tags": []
   },
   "source": [
    "#### Set your region\n",
    "\n",
    "You can also change the `REGION` variable, which is used for operations\n",
    "throughout the rest of this notebook.  Below are regions supported for Vertex AI. We recommend that you choose the region closest to you.\n",
    "\n",
    "- Americas: `us-central1`\n",
    "- Europe: `europe-west4`\n",
    "- Asia Pacific: `asia-east1`\n",
    "\n",
    "You may not use a multi-regional bucket for training with Vertex AI. Not all regions provide support for all Vertex AI services.\n",
    "\n",
    "Learn more about [Vertex AI regions](https://cloud.google.com/vertex-ai/docs/general/locations)"
   ]
  },
  {
   "cell_type": "code",
   "execution_count": 8,
   "id": "12362585",
   "metadata": {
    "execution": {
     "iopub.execute_input": "2022-07-18T14:24:56.149239Z",
     "iopub.status.busy": "2022-07-18T14:24:56.148910Z",
     "iopub.status.idle": "2022-07-18T14:24:56.152961Z",
     "shell.execute_reply": "2022-07-18T14:24:56.152083Z"
    },
    "id": "0bJK-z3OV9FP",
    "papermill": {
     "duration": 0.014761,
     "end_time": "2022-07-18T14:24:56.154732",
     "exception": false,
     "start_time": "2022-07-18T14:24:56.139971",
     "status": "completed"
    },
    "tags": []
   },
   "outputs": [],
   "source": [
    "REGION = \"us-central1\"  # @param {type: \"string\"}"
   ]
  },
  {
   "cell_type": "markdown",
   "id": "52753e1d",
   "metadata": {
    "id": "dr--iN2kAylZ",
    "papermill": {
     "duration": 0.007491,
     "end_time": "2022-07-18T14:24:56.169628",
     "exception": false,
     "start_time": "2022-07-18T14:24:56.162137",
     "status": "completed"
    },
    "tags": []
   },
   "source": [
    "### Authenticate your Google Cloud account\n",
    "\n",
    "**If you are using Vertex AI Workbench notebooks**, your environment is already\n",
    "authenticated. Skip this step.\n",
    "\n",
    "**If you are using Colab**, run the cell below and follow the instructions\n",
    "when prompted to authenticate your account via oAuth.\n"
   ]
  },
  {
   "cell_type": "code",
   "execution_count": 9,
   "id": "f33bd093",
   "metadata": {
    "execution": {
     "iopub.execute_input": "2022-07-18T14:24:56.186267Z",
     "iopub.status.busy": "2022-07-18T14:24:56.185922Z",
     "iopub.status.idle": "2022-07-18T14:24:56.193217Z",
     "shell.execute_reply": "2022-07-18T14:24:56.192381Z"
    },
    "id": "C6H1vZYjvT6w",
    "papermill": {
     "duration": 0.017944,
     "end_time": "2022-07-18T14:24:56.194946",
     "exception": false,
     "start_time": "2022-07-18T14:24:56.177002",
     "status": "completed"
    },
    "tags": []
   },
   "outputs": [],
   "source": [
    "# If you are running this notebook in Colab, run this cell and follow the\n",
    "# instructions to authenticate your GCP account. This provides access to your\n",
    "# Cloud Storage bucket and lets you submit training jobs and prediction\n",
    "# requests.\n",
    "\n",
    "import os\n",
    "import sys\n",
    "\n",
    "# Determine notebook environment.\n",
    "IS_WORKBENCH_NOTEBOOK = os.getenv(\"DL_ANACONDA_HOME\") and not os.getenv(\"VIRTUAL_ENV\")\n",
    "IS_USER_MANAGED_WORKBENCH_NOTEBOOK = os.path.exists(\n",
    "    \"/opt/deeplearning/metadata/env_version\"\n",
    ")\n",
    "IS_COLAB = \"google.colab\" in sys.modules\n",
    "\n",
    "# If on Vertex AI Workbench, then don't execute this code\n",
    "if not IS_WORKBENCH_NOTEBOOK and not IS_USER_MANAGED_WORKBENCH_NOTEBOOK:\n",
    "    if IS_COLAB:\n",
    "        from google.colab import auth as google_auth\n",
    "\n",
    "        google_auth.authenticate_user()\n",
    "\n",
    "    # If you are running this notebook locally, replace the string below with the\n",
    "    # path to your service account key and run this cell to authenticate your GCP\n",
    "    # account.\n",
    "    elif not os.getenv(\"IS_TESTING\"):\n",
    "        %env GOOGLE_APPLICATION_CREDENTIALS ''"
   ]
  },
  {
   "cell_type": "markdown",
   "id": "829a0ee2",
   "metadata": {
    "id": "lAOk8UqvCL0S",
    "papermill": {
     "duration": 0.007596,
     "end_time": "2022-07-18T14:24:56.210152",
     "exception": false,
     "start_time": "2022-07-18T14:24:56.202556",
     "status": "completed"
    },
    "tags": []
   },
   "source": [
    "### Upload the model\n",
    "\n",
    "The churn propensity model you'll be using in this notebook has been trained in BigQuery ML and exported to a Google Cloud Storage bucket. This illustrates how you can easily export a trained model and move a model from one cloud service to another. \n",
    "\n",
    "Next, import the model. **If you've already imported your model, you can skip this step.**"
   ]
  },
  {
   "cell_type": "markdown",
   "id": "fa970539",
   "metadata": {
    "tags": [
     "papermill-error-cell-tag"
    ]
   },
   "source": [
    "<span id=\"papermill-error-cell\" style=\"color:red; font-family:Helvetica Neue, Helvetica, Arial, sans-serif; font-size:2em;\">Execution using papermill encountered an exception here and stopped:</span>"
   ]
  },
  {
   "cell_type": "code",
   "execution_count": 10,
   "id": "e6906083",
   "metadata": {
    "execution": {
     "iopub.execute_input": "2022-07-18T14:24:56.226829Z",
     "iopub.status.busy": "2022-07-18T14:24:56.226486Z",
     "iopub.status.idle": "2022-07-18T14:24:56.809980Z",
     "shell.execute_reply": "2022-07-18T14:24:56.808064Z"
    },
    "id": "50c05f40f1dc",
    "papermill": {
     "duration": 0.594071,
     "end_time": "2022-07-18T14:24:56.811665",
     "exception": true,
     "start_time": "2022-07-18T14:24:56.217594",
     "status": "failed"
    },
    "tags": []
   },
   "outputs": [
    {
     "ename": "ModuleNotFoundError",
     "evalue": "No module named 'tensorflow'",
     "output_type": "error",
     "traceback": [
      "\u001b[0;31m---------------------------------------------------------------------------\u001b[0m",
      "\u001b[0;31mModuleNotFoundError\u001b[0m                       Traceback (most recent call last)",
      "Input \u001b[0;32mIn [10]\u001b[0m, in \u001b[0;36m<cell line: 5>\u001b[0;34m()\u001b[0m\n\u001b[1;32m      3\u001b[0m \u001b[38;5;28;01mimport\u001b[39;00m \u001b[38;5;21;01mtime\u001b[39;00m\n\u001b[1;32m      4\u001b[0m \u001b[38;5;28;01mimport\u001b[39;00m \u001b[38;5;21;01mre\u001b[39;00m\n\u001b[0;32m----> 5\u001b[0m \u001b[38;5;28;01mimport\u001b[39;00m \u001b[38;5;21;01mtensorflow\u001b[39;00m \u001b[38;5;28;01mas\u001b[39;00m \u001b[38;5;21;01mtf\u001b[39;00m\n\u001b[1;32m      6\u001b[0m \u001b[38;5;28;01mimport\u001b[39;00m \u001b[38;5;21;01mtensorflow_data_validation\u001b[39;00m \u001b[38;5;28;01mas\u001b[39;00m \u001b[38;5;21;01mtfdv\u001b[39;00m\n\u001b[1;32m      7\u001b[0m \u001b[38;5;28;01mfrom\u001b[39;00m \u001b[38;5;21;01mtensorflow_data_validation\u001b[39;00m\u001b[38;5;21;01m.\u001b[39;00m\u001b[38;5;21;01mutils\u001b[39;00m \u001b[38;5;28;01mimport\u001b[39;00m io_util \n",
      "\u001b[0;31mModuleNotFoundError\u001b[0m: No module named 'tensorflow'"
     ]
    }
   ],
   "source": [
    "from datetime import datetime\n",
    "import json\n",
    "import time\n",
    "import re\n",
    "import tensorflow as tf\n",
    "import tensorflow_data_validation as tfdv\n",
    "from tensorflow_data_validation.utils import io_util \n",
    "from tensorflow_metadata.proto.v0 import statistics_pb2\n",
    "\n",
    "MODEL_DISPLAY_NAME=f\"batch_prediction_monitoring_test_model_{datetime.now().strftime('%Y%m%d%H%M%S')}\"\n",
    "CONTAINER_IMAGE_URI=\"us-docker.pkg.dev/cloud-aiplatform/prediction/tf2-cpu.2-4:latest\"\n",
    "ARTIFACT_URI=\"gs://mco-mm/churn\"\n",
    "\n",
    "output = ! gcloud ai models upload \\\n",
    "  --region=$REGION \\\n",
    "  --display-name=$MODEL_DISPLAY_NAME \\\n",
    "  --artifact-uri=$ARTIFACT_URI \\\n",
    "  --container-image-uri=$CONTAINER_IMAGE_URI \\\n",
    "  --format=\"value(model)\"\n",
    "MODEL_ID = output[1].split(\"/\")[5]\n",
    "print(f\"Model {MODEL_ID} created.\")"
   ]
  },
  {
   "cell_type": "markdown",
   "id": "7c4ad4f0",
   "metadata": {
    "id": "HarBe9755LEO",
    "papermill": {
     "duration": null,
     "end_time": null,
     "exception": null,
     "start_time": null,
     "status": "pending"
    },
    "tags": []
   },
   "source": [
    "## Submit a batch prediction request with model monitoring enabled"
   ]
  },
  {
   "cell_type": "markdown",
   "id": "24e4b1ad",
   "metadata": {
    "id": "KUdjQq5G2VjP",
    "papermill": {
     "duration": null,
     "end_time": null,
     "exception": null,
     "start_time": null,
     "status": "pending"
    },
    "tags": []
   },
   "source": [
    "### Create Cloud Storage buckets\n",
    "\n",
    "This cell creates two Cloud Storage buckets:\n",
    "\n",
    "- `gs://PROJECT_ID_bp_mm_input` contains the batch prediction request data.\n",
    "- `gs://PROJECT_ID_bp_mm_output` contains the batch prediction output as well as the model monitoring results."
   ]
  },
  {
   "cell_type": "code",
   "execution_count": null,
   "id": "a9d3de6d",
   "metadata": {
    "id": "7W6tdF3d2UUC",
    "papermill": {
     "duration": null,
     "end_time": null,
     "exception": null,
     "start_time": null,
     "status": "pending"
    },
    "tags": []
   },
   "outputs": [],
   "source": [
    "# Copy files to your projects gs bucket to avoid permission issues.\n",
    "# Ignore any error(s) for bucket already exists.\n",
    "OUTPUT_GS_PATH = f\"gs://{PROJECT_ID.replace('-', '_')}_bp_mm_output\"\n",
    "INPUT_GS_PATH = f\"gs://{PROJECT_ID.replace('-', '_')}_bp_mm_input\"\n",
    "PUBLIC_TRAINING_DATASET = \"gs://bp_mm_public_data/churn/churn_bp_insample.csv\"\n",
    "TRAINING_DATASET = f\"{INPUT_GS_PATH}/churn_bp_insample.csv\"\n",
    "TRAINING_DATASET_FORMAT = \"csv\"\n",
    "\n",
    "! gsutil mb -p {PROJECT_ID} -l {REGION} -b on {INPUT_GS_PATH}\n",
    "! gsutil mb -p {PROJECT_ID} -l {REGION} -b on {OUTPUT_GS_PATH}\n",
    "! gsutil copy $PUBLIC_TRAINING_DATASET $INPUT_GS_PATH"
   ]
  },
  {
   "cell_type": "markdown",
   "id": "ea3b43a0",
   "metadata": {
    "id": "8rF5iLuXCT7i",
    "papermill": {
     "duration": null,
     "end_time": null,
     "exception": null,
     "start_time": null,
     "status": "pending"
    },
    "tags": []
   },
   "source": [
    "### Create batch prediction job\n",
    "\n",
    "This step parameterizes and builds the data structure representing the batch prediction request, with model monitoring enabled.\n",
    "\n",
    "The BatchPredictionJob object specifies the input source, the data format, and the computing resources requests for the batch prediction. Learn more about <a href=\"https://cloud.google.com/vertex-ai/docs/samples/aiplatform-create-batch-prediction-job-sample\" target=\"_blank\">BatchPredictionJob</a>.\n",
    "\n",
    "The ModelMonitoringConfig object specifies the alerting email address, the training dataset, the features to be monitored, and their associated alerting thresholds. Learn more about <a href=\"https://cloud.google.com/vertex-ai/docs/model-monitoring\" target=\"_blank\">ModelMonitoringConfig</a>."
   ]
  },
  {
   "cell_type": "code",
   "execution_count": null,
   "id": "f0639e4d",
   "metadata": {
    "id": "m5hBwCFG2tpB",
    "papermill": {
     "duration": null,
     "end_time": null,
     "exception": null,
     "start_time": null,
     "status": "pending"
    },
    "tags": []
   },
   "outputs": [],
   "source": [
    "now = datetime.now()\n",
    "INPUT_URI = \"gs://bp_mm_public_data/churn/churn_bp_outsample.jsonl\"\n",
    "OUTPUT_URI = OUTPUT_GS_PATH\n",
    "INSTANCES_FORMAT = \"jsonl\"\n",
    "PREDICTIONS_FORMAT = \"jsonl\"\n",
    "JOB_NAME_PREFIX = \"bp_mm_demo\"\n",
    "MODEL_NAME = f\"projects/{PROJECT_ID}/locations/{REGION}/models/{MODEL_ID}\"\n",
    "MACHINE_TYPE = \"n1-standard-8\"\n",
    "BATCH_PREDICTION_JOB_NAME = JOB_NAME_PREFIX + \"_\" + now.strftime(\"%Y%m%d%H%M%S\")\n",
    "\n",
    "from google.cloud.aiplatform_v1beta1.types import (\n",
    "    BatchDedicatedResources, BatchPredictionJob, GcsDestination, GcsSource,\n",
    "    MachineSpec, ModelMonitoringAlertConfig, ModelMonitoringConfig,\n",
    "    ModelMonitoringObjectiveConfig, ThresholdConfig)\n",
    "\n",
    "batch_prediction_job = BatchPredictionJob(\n",
    "    display_name=BATCH_PREDICTION_JOB_NAME,\n",
    "    model=MODEL_NAME,\n",
    "    input_config=BatchPredictionJob.InputConfig(\n",
    "        instances_format=INSTANCES_FORMAT, gcs_source=GcsSource(uris=[INPUT_URI])\n",
    "    ),\n",
    "    output_config=BatchPredictionJob.OutputConfig(\n",
    "        predictions_format=PREDICTIONS_FORMAT,\n",
    "        gcs_destination=GcsDestination(output_uri_prefix=OUTPUT_URI),\n",
    "    ),\n",
    "    dedicated_resources=BatchDedicatedResources(\n",
    "        machine_spec=MachineSpec(machine_type=MACHINE_TYPE),\n",
    "        starting_replica_count=1,\n",
    "        max_replica_count=1,\n",
    "    ),\n",
    "    # Model monitoring service will be triggerred if provide following configs.\n",
    "    model_monitoring_config=ModelMonitoringConfig(\n",
    "        alert_config=ModelMonitoringAlertConfig(\n",
    "            email_alert_config=ModelMonitoringAlertConfig.EmailAlertConfig(\n",
    "                user_emails=[EMAIL_ADDRESS]\n",
    "            )\n",
    "        ),\n",
    "        objective_configs=[\n",
    "            ModelMonitoringObjectiveConfig(\n",
    "                training_dataset=ModelMonitoringObjectiveConfig.TrainingDataset(\n",
    "                    data_format=TRAINING_DATASET_FORMAT,\n",
    "                    gcs_source=GcsSource(uris=[TRAINING_DATASET]),\n",
    "                ),\n",
    "                training_prediction_skew_detection_config=ModelMonitoringObjectiveConfig.TrainingPredictionSkewDetectionConfig(\n",
    "                    skew_thresholds={\n",
    "                        \"cnt_user_engagement\": ThresholdConfig(value=0.001),\n",
    "                        \"julianday\": ThresholdConfig(value=0.001),\n",
    "                    }\n",
    "                ),\n",
    "            )\n",
    "        ],\n",
    "    ),\n",
    ")"
   ]
  },
  {
   "cell_type": "markdown",
   "id": "fc1b5390",
   "metadata": {
    "id": "mjVSViZR-dP2",
    "papermill": {
     "duration": null,
     "end_time": null,
     "exception": null,
     "start_time": null,
     "status": "pending"
    },
    "tags": []
   },
   "source": [
    "### Submit batch prediction job\n",
    "\n",
    "This step submits the batch prediction request created in the previous step. If successful, it returns a JSON document summarizing the request, which is displayed in the cell output below."
   ]
  },
  {
   "cell_type": "code",
   "execution_count": null,
   "id": "ed63e29c",
   "metadata": {
    "id": "-62TYm2iYv3K",
    "papermill": {
     "duration": null,
     "end_time": null,
     "exception": null,
     "start_time": null,
     "status": "pending"
    },
    "tags": []
   },
   "outputs": [],
   "source": [
    "from google.cloud.aiplatform_v1beta1.services.job_service import \\\n",
    "    JobServiceClient\n",
    "\n",
    "API_ENDPOINT = f\"{REGION}-aiplatform.googleapis.com\"\n",
    "client = JobServiceClient(client_options={\"api_endpoint\": API_ENDPOINT})\n",
    "out = client.create_batch_prediction_job(\n",
    "    parent=f\"projects/{PROJECT_ID}/locations/{REGION}\",\n",
    "    batch_prediction_job=batch_prediction_job,\n",
    ")\n",
    "BATCH_PREDICTION_JOB_ID = out.name.split(\"/\")[-1]\n",
    "print(\"BATCH_PREDICTION_JOB_ID:\", BATCH_PREDICTION_JOB_ID)"
   ]
  },
  {
   "cell_type": "markdown",
   "id": "dff9f54c",
   "metadata": {
    "id": "MwIlzQzs5fbR",
    "papermill": {
     "duration": null,
     "end_time": null,
     "exception": null,
     "start_time": null,
     "status": "pending"
    },
    "tags": []
   },
   "source": [
    "## Verify prediction results\n",
    "\n",
    "The batch prediction request will be completed after about **17 mins**, and the model monitoring result will be available **10 mins** after that. The request below obtains the batch prediction job id, which is a unique number associated with asynchronous requests like this one."
   ]
  },
  {
   "cell_type": "code",
   "execution_count": null,
   "id": "102ad2b1",
   "metadata": {
    "id": "eWJ_tRM-DGdZ",
    "papermill": {
     "duration": null,
     "end_time": null,
     "exception": null,
     "start_time": null,
     "status": "pending"
    },
    "tags": []
   },
   "outputs": [],
   "source": [
    "# If auto-testing, wait for request completion\n",
    "if os.getenv(\"IS_TESTING\"):\n",
    "    time.sleep(1800)"
   ]
  },
  {
   "cell_type": "markdown",
   "id": "c19a6d0a",
   "metadata": {
    "id": "uGPI92qbOFUR",
    "papermill": {
     "duration": null,
     "end_time": null,
     "exception": null,
     "start_time": null,
     "status": "pending"
    },
    "tags": []
   },
   "source": [
    "### Browse storage bucket\n",
    "\n",
    "Click on the link below, which opens the Cloud Storage object viewer on the output bucket you created above, to see the results of your batch prediction request.\n",
    "\n",
    "When everything is ready, you'll see two folders in this bucket (the precise names will vary):\n",
    "\n",
    "- `prediction-batch_prediction_monitoring_test_model_20220714100939-2022_07_14T03_10_10_069Z` - this folder contains the your batch prediction results, i.e. the predictions produced by your model for each input in the batch\n",
    "- `job-8794345073597743104` - this folder contains the model monitoring results, including the model schema, monitoring thresholds and other config settings, statistics, and anomalies\n",
    "\n",
    "*Note:* that until the request and the monitoring job are completed, you may see empty or partial results in this bucket."
   ]
  },
  {
   "cell_type": "code",
   "execution_count": null,
   "id": "291a26dc",
   "metadata": {
    "id": "eqMK0L1G3V5z",
    "papermill": {
     "duration": null,
     "end_time": null,
     "exception": null,
     "start_time": null,
     "status": "pending"
    },
    "tags": []
   },
   "outputs": [],
   "source": [
    "print(f\"https://console.cloud.google.com/storage/browser/{OUTPUT_URI.lstrip('gs://')}\")"
   ]
  },
  {
   "cell_type": "markdown",
   "id": "0f7479c9",
   "metadata": {
    "id": "w4jVIVq4VzB_",
    "papermill": {
     "duration": null,
     "end_time": null,
     "exception": null,
     "start_time": null,
     "status": "pending"
    },
    "tags": []
   },
   "source": [
    "### Visualize the batch prediction result\n",
    "\n",
    "Run the following cell to examine the batch prediction results with a tabular and visual analysis using the <a href=\"https://www.tensorflow.org/tfx/data_validation/get_started\" target=\"_blank\">TensorFlow Data Validation</a> package"
   ]
  },
  {
   "cell_type": "code",
   "execution_count": null,
   "id": "bc7688bd",
   "metadata": {
    "id": "Zrp6CEEi3cbM",
    "papermill": {
     "duration": null,
     "end_time": null,
     "exception": null,
     "start_time": null,
     "status": "pending"
    },
    "tags": []
   },
   "outputs": [],
   "source": [
    "! rm -f ./training_stats.pb\n",
    "! rm -f ./prediction_stats.pb\n",
    "\n",
    "TRAINING_STATS_SUBPATH = \"stats_training/stats/training_stats\"\n",
    "PREDICTION_STATS_SUBPATH = \"stats_and_anomalies/stats/current_stats\"\n",
    "STATS_GCS_FOLDER = OUTPUT_URI = (\n",
    "    OUTPUT_GS_PATH + \"/job-\" + BATCH_PREDICTION_JOB_ID + \"/bp_monitoring/\"\n",
    ")\n",
    "TRAINING_STATS_GCS_PATH = STATS_GCS_FOLDER + TRAINING_STATS_SUBPATH\n",
    "print(\"Looking up statistics from: \" + TRAINING_STATS_GCS_PATH)\n",
    "PREDICTION_STATS_GCS_PATH = STATS_GCS_FOLDER + PREDICTION_STATS_SUBPATH\n",
    "print(\"Looking up statistics from: \" + PREDICTION_STATS_GCS_PATH)\n",
    "\n",
    "! gsutil cp $TRAINING_STATS_GCS_PATH ./training_stats.pb\n",
    "! gsutil cp $PREDICTION_STATS_GCS_PATH ./prediction_stats.pb\n",
    "\n",
    "\n",
    "# util function to load stats binary file from GCS\n",
    "def load_stats_binary(input_path):\n",
    "    stats_proto = statistics_pb2.DatasetFeatureStatisticsList()\n",
    "    stats_proto.ParseFromString(\n",
    "        io_util.read_file_to_string(input_path, binary_mode=True)\n",
    "    )\n",
    "    return stats_proto\n",
    "\n",
    "\n",
    "tfdv.visualize_statistics(load_stats_binary(\"./training_stats.pb\"))\n",
    "tfdv.visualize_statistics(load_stats_binary(\"./prediction_stats.pb\"))"
   ]
  },
  {
   "cell_type": "markdown",
   "id": "a354331e",
   "metadata": {
    "id": "rt_iAHYW319z",
    "papermill": {
     "duration": null,
     "end_time": null,
     "exception": null,
     "start_time": null,
     "status": "pending"
    },
    "tags": []
   },
   "source": [
    "### Check skew results\n",
    "\n",
    "Finally, you can check the skew results by examining a file in the output bucket. The JSON file contains a report indicating how much the batch prediction data deviates from the training data, on a feature-by-feature basis."
   ]
  },
  {
   "cell_type": "code",
   "execution_count": null,
   "id": "dd722769",
   "metadata": {
    "id": "5_YqKBqV33qH",
    "papermill": {
     "duration": null,
     "end_time": null,
     "exception": null,
     "start_time": null,
     "status": "pending"
    },
    "tags": []
   },
   "outputs": [],
   "source": [
    "SKEW_GS_PATH = (\n",
    "    STATS_GCS_FOLDER\n",
    "    + \"stats_and_anomalies/anomalies/training_prediction_skew_anomalies\"\n",
    ")\n",
    "! gsutil cat $SKEW_GS_PATH"
   ]
  },
  {
   "cell_type": "markdown",
   "id": "ecc6f2d5",
   "metadata": {
    "id": "TpV-iwP9qw9c",
    "papermill": {
     "duration": null,
     "end_time": null,
     "exception": null,
     "start_time": null,
     "status": "pending"
    },
    "tags": []
   },
   "source": [
    "## Clean up\n",
    "\n",
    "To clean up all Google Cloud resources used in this project, you can [delete the Google Cloud\n",
    "project](https://cloud.google.com/resource-manager/docs/creating-managing-projects#shutting_down_projects) you used for the tutorial.\n",
    "\n",
    "Otherwise, you can delete the individual resources you created in this tutorial:"
   ]
  },
  {
   "cell_type": "code",
   "execution_count": null,
   "id": "69154e67",
   "metadata": {
    "id": "TPP_ImwJDFJf",
    "papermill": {
     "duration": null,
     "end_time": null,
     "exception": null,
     "start_time": null,
     "status": "pending"
    },
    "tags": []
   },
   "outputs": [],
   "source": [
    "# Delete model resource\n",
    "! gcloud ai models delete $MODEL_NAME --quiet\n",
    "\n",
    "# Delete Cloud Storage resources\n",
    "! gsutil -m rm -r $INPUT_GS_PATH\n",
    "! gsutil -m rm -r $OUTPUT_GS_PATH"
   ]
  },
  {
   "cell_type": "markdown",
   "id": "6a720c96",
   "metadata": {
    "id": "j3Dh15h3-NoO",
    "papermill": {
     "duration": null,
     "end_time": null,
     "exception": null,
     "start_time": null,
     "status": "pending"
    },
    "tags": []
   },
   "source": [
    "## Learn more...\n",
    "\n",
    "**Congratulations!** You've now learned how to monitor batch predictions, and how to find and interpret the results. Check out the following resources to learn more about model monitoring and ML Ops.\n",
    "\n",
    "- [TensorFlow Data Validation](https://www.tensorflow.org/tfx/guide/tfdv)\n",
    "- [Data Understanding, Validation, and Monitoring At Scale](https://blog.tensorflow.org/2018/09/introducing-tensorflow-data-validation.html)\n",
    "- [Vertex Product Documentation](https://cloud.google.com/vertex-ai)\n",
    "- [Vertex AI Model Monitoring Reference Docs](https://cloud.google.com/vertex-ai/docs/reference)\n",
    "- [Vertex AI Model Monitoring blog article](https://cloud.google.com/blog/topics/developers-practitioners/monitor-models-training-serving-skew-vertex-ai)"
   ]
  }
 ],
 "metadata": {
  "colab": {
   "collapsed_sections": [],
   "name": "batch_prediction_model_monitoring.ipynb",
   "toc_visible": true
  },
  "kernelspec": {
   "display_name": "Python 3",
   "name": "python3"
  },
  "language_info": {
   "codemirror_mode": {
    "name": "ipython",
    "version": 3
   },
   "file_extension": ".py",
   "mimetype": "text/x-python",
   "name": "python",
   "nbconvert_exporter": "python",
   "pygments_lexer": "ipython3",
   "version": "3.10.5"
  },
  "papermill": {
   "default_parameters": {},
   "duration": 10.653641,
   "end_time": "2022-07-18T14:24:57.036903",
   "environment_variables": {},
   "exception": true,
   "input_path": "notebooks/official/model_monitoring/batch_prediction_model_monitoring.ipynb",
   "output_path": "notebooks/official/model_monitoring/batch_prediction_model_monitoring.ipynb",
   "parameters": {},
   "start_time": "2022-07-18T14:24:46.383262",
   "version": "2.3.4"
  }
 },
 "nbformat": 4,
 "nbformat_minor": 5
}