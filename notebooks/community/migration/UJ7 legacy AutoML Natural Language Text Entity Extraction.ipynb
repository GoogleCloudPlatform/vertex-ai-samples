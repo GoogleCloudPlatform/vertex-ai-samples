{
  "cells": [
    {
      "cell_type": "code",
      "execution_count": null,
      "metadata": {
        "id": "L3g1QPqPjIBe"
      },
      "outputs": [],
      "source": [
        "# Copyright 2021 Google LLC\n",
        "#\n",
        "# Licensed under the Apache License, Version 2.0 (the \"License\");\n",
        "# you may not use this file except in compliance with the License.\n",
        "# You may obtain a copy of the License at\n",
        "#\n",
        "#     https://www.apache.org/licenses/LICENSE-2.0\n",
        "#\n",
        "# Unless required by applicable law or agreed to in writing, software\n",
        "# distributed under the License is distributed on an \"AS IS\" BASIS,\n",
        "# WITHOUT WARRANTIES OR CONDITIONS OF ANY KIND, either express or implied.\n",
        "# See the License for the specific language governing permissions and\n",
        "# limitations under the License."
      ]
    },
    {
      "cell_type": "markdown",
      "metadata": {
        "id": "text_title:migration,automl,icn"
      },
      "source": [
        "# AutoML Text entity extractionn model\n"
      ]
    },
    {
      "cell_type": "markdown",
      "metadata": {
        "id": "JE-aKjayJjkF"
      },
      "source": [
        "## Installation\n",
        "\n",
        "Install the latest version of AutoML SDK."
      ]
    },
    {
      "cell_type": "code",
      "execution_count": null,
      "metadata": {
        "id": "7dxB6-B0JjkG"
      },
      "outputs": [],
      "source": [
        "! pip3 install google-cloud-automl"
      ]
    },
    {
      "cell_type": "markdown",
      "metadata": {
        "id": "Iddo-8HmJjkH"
      },
      "source": [
        "Install the Google *cloud-storage* library as well."
      ]
    },
    {
      "cell_type": "code",
      "execution_count": null,
      "metadata": {
        "id": "xHvi6EFSJjkH"
      },
      "outputs": [],
      "source": [
        "! pip3 install google-cloud-storage"
      ]
    },
    {
      "cell_type": "markdown",
      "metadata": {
        "id": "ktRTgB8DJjkI"
      },
      "source": [
        "### Restart the Kernel\n",
        "\n",
        "Once you've installed the AutoML SDK and Google *cloud-storage*, you need to restart the notebook kernel so it can find the packages."
      ]
    },
    {
      "cell_type": "code",
      "execution_count": null,
      "metadata": {
        "id": "x1g4mBdlJjkI"
      },
      "outputs": [],
      "source": [
        "import os\n",
        "\n",
        "if not os.getenv(\"AUTORUN\"):\n",
        "    # Automatically restart kernel after installs\n",
        "    import IPython\n",
        "\n",
        "    app = IPython.Application.instance()\n",
        "    app.kernel.do_shutdown(True)"
      ]
    },
    {
      "cell_type": "markdown",
      "metadata": {
        "id": "-ppwXGR7ki5K"
      },
      "source": [
        "## Before you begin\r\n",
        "\r\n",
        "### GPU run-time\r\n",
        "\r\n",
        "*Make sure you're running this notebook in a GPU runtime if you have that option. In Colab, select* **Runtime > Change Runtime Type > GPU**\r\n",
        "\r\n",
        "### Set up your GCP project\r\n",
        "\r\n",
        "**The following steps are required, regardless of your notebook environment.**\r\n",
        "\r\n",
        "1. [Select or create a GCP project](https://console.cloud.google.com/cloud-resource-manager). When you first create an account, you get a $300 free credit towards your compute/storage costs.\r\n",
        "\r\n",
        "2. [Make sure that billing is enabled for your project.](https://cloud.google.com/billing/docs/how-to/modify-project)\r\n",
        "\r\n",
        "3. [Enable the AutoML APIs and Compute Engine APIs.](https://console.cloud.google.com/flows/enableapi?apiid=ml.googleapis.com,compute_component)\r\n",
        "\r\n",
        "4. [Google Cloud SDK](https://cloud.google.com/sdk) is already installed in AutoML Notebooks.\r\n",
        "\r\n",
        "5. Enter your project ID in the cell below. Then run the  cell to make sure the\r\n",
        "Cloud SDK uses the right project for all the commands in this notebook.\r\n",
        "\r\n",
        "**Note**: Jupyter runs lines prefixed with `!` as shell commands, and it interpolates Python variables prefixed with `$` into these commands.\r\n",
        "\r\n"
      ]
    },
    {
      "cell_type": "code",
      "execution_count": null,
      "metadata": {
        "id": "set_project_id"
      },
      "outputs": [],
      "source": [
        "PROJECT_ID = \"[your-project-id]\"  # @param {type:\"string\"}"
      ]
    },
    {
      "cell_type": "code",
      "execution_count": null,
      "metadata": {
        "id": "autoset_project_id"
      },
      "outputs": [],
      "source": [
        "if PROJECT_ID == \"\" or PROJECT_ID is None or PROJECT_ID == \"[your-project-id]\":\n",
        "    # Get your GCP project id from gcloud\n",
        "    shell_output = !gcloud config list --format 'value(core.project)' 2>/dev/null\n",
        "    PROJECT_ID = shell_output[0]\n",
        "    print(\"Project ID:\", PROJECT_ID)"
      ]
    },
    {
      "cell_type": "code",
      "execution_count": null,
      "metadata": {
        "id": "0UfsdLCEJjkJ"
      },
      "outputs": [],
      "source": [
        "! gcloud config set project $PROJECT_ID"
      ]
    },
    {
      "cell_type": "markdown",
      "metadata": {
        "id": "jT0fijejJjkK"
      },
      "source": [
        "#### Region\n",
        "\n",
        "You can also change the `REGION` variable, which is used for operations\n",
        "throughout the rest of this notebook.  Below are regions supported for AutoML. We recommend when possible, to choose the region closest to you.\n",
        "\n",
        "- Americas: `us-central1`\n",
        "- Europe: `europe-west4`\n",
        "- Asia Pacific: `asia-east1`\n",
        "\n",
        "You cannot use a Multi-Regional Storage bucket for training with AutoML. Not all regions provide support for all AutoML services. For the latest support per region, see [Region support for AutoML services]()"
      ]
    },
    {
      "cell_type": "code",
      "execution_count": null,
      "metadata": {
        "id": "CTBlncfrJjkK"
      },
      "outputs": [],
      "source": [
        "REGION = \"us-central1\"  # @param {type: \"string\"}"
      ]
    },
    {
      "cell_type": "markdown",
      "metadata": {
        "id": "J_croPBoJjkK"
      },
      "source": [
        "#### Timestamp\n",
        "\n",
        "If you are in a live tutorial session, you might be using a shared test account or project. To avoid name collisions between users on resources created, you create a timestamp for each instance session, and append onto the name of resources which will be created in this tutorial."
      ]
    },
    {
      "cell_type": "code",
      "execution_count": null,
      "metadata": {
        "id": "KKxStk5bJjkL"
      },
      "outputs": [],
      "source": [
        "from datetime import datetime\n",
        "\n",
        "TIMESTAMP = datetime.now().strftime(\"%Y%m%d%H%M%S\")"
      ]
    },
    {
      "cell_type": "markdown",
      "metadata": {
        "id": "AL7KXzUHlwfP"
      },
      "source": [
        "### Authenticate your GCP account\r\n",
        "\r\n",
        "**If you are using AutoML Notebooks**, your environment is already\r\n",
        "authenticated. Skip this step.\r\n",
        "\r\n",
        "*Note: If you are on an AutoML notebook and run the cell, the cell knows to skip executing the authentication steps.*"
      ]
    },
    {
      "cell_type": "code",
      "execution_count": null,
      "metadata": {
        "id": "chybg3Ap_i_2"
      },
      "outputs": [],
      "source": [
        "import os\n",
        "import sys\n",
        "\n",
        "# If you are running this notebook in Colab, run this cell and follow the\n",
        "# instructions to authenticate your Google Cloud account. This provides access\n",
        "# to your Cloud Storage bucket and lets you submit training jobs and prediction\n",
        "# requests.\n",
        "\n",
        "# If on Vertex, then don't execute this code\n",
        "if not os.path.exists(\"/opt/deeplearning/metadata/env_version\"):\n",
        "    if \"google.colab\" in sys.modules:\n",
        "        from google.colab import auth as google_auth\n",
        "\n",
        "        google_auth.authenticate_user()\n",
        "\n",
        "    # If you are running this tutorial in a notebook locally, replace the string\n",
        "    # below with the path to your service account key and run this cell to\n",
        "    # authenticate your Google Cloud account.\n",
        "    else:\n",
        "        %env GOOGLE_APPLICATION_CREDENTIALS your_path_to_credentials.json\n",
        "\n",
        "    # Log in to your account on Google Cloud\n",
        "    ! gcloud auth login"
      ]
    },
    {
      "cell_type": "markdown",
      "metadata": {
        "id": "MDUAZaN3JjkL"
      },
      "source": [
        "### Create a Cloud Storage bucket\n",
        "\n",
        "**The following steps are required, regardless of your notebook environment.**\n",
        "\n",
        "This tutorial is designed to use training data that is in a public Cloud Storage bucket and a local Cloud Storage bucket for your batch predictions. You may alternatively use your own training data that you have stored in a local Cloud Storage bucket.\n",
        "\n",
        "Set the name of your Cloud Storage bucket below. It must be unique across all Cloud Storage buckets. "
      ]
    },
    {
      "cell_type": "code",
      "execution_count": null,
      "metadata": {
        "id": "bucket"
      },
      "outputs": [],
      "source": [
        "BUCKET_NAME = \"[your-bucket-name]\"  # @param {type:\"string\"}"
      ]
    },
    {
      "cell_type": "code",
      "execution_count": null,
      "metadata": {
        "id": "autoset_bucket"
      },
      "outputs": [],
      "source": [
        "if BUCKET_NAME == \"\" or BUCKET_NAME is None or BUCKET_NAME == \"[your-bucket-name]\":\n",
        "    BUCKET_NAME = PROJECT_ID + \"aip-\" + TIMESTAMP"
      ]
    },
    {
      "cell_type": "markdown",
      "metadata": {
        "id": "yU6VuylGJjkM"
      },
      "source": [
        "**Only if your bucket doesn't already exist**: Run the following cell to create your Cloud Storage bucket."
      ]
    },
    {
      "cell_type": "code",
      "execution_count": null,
      "metadata": {
        "id": "qPPrwWpO_i_6"
      },
      "outputs": [],
      "source": [
        "! gsutil mb -l $REGION gs://$BUCKET_NAME"
      ]
    },
    {
      "cell_type": "markdown",
      "metadata": {
        "id": "Mi-Pdh6QJjkN"
      },
      "source": [
        "Finally, validate access to your Cloud Storage bucket by examining its contents:"
      ]
    },
    {
      "cell_type": "code",
      "execution_count": null,
      "metadata": {
        "id": "fn744B7x_i_7"
      },
      "outputs": [],
      "source": [
        "! gsutil ls -al gs://$BUCKET_NAME"
      ]
    },
    {
      "cell_type": "markdown",
      "metadata": {
        "id": "fR9geV9pJjkO"
      },
      "source": [
        "### Set up variables\n",
        "\n",
        "Next, set up some variables used throughout the tutorial.\n",
        "### Import libraries and define constants"
      ]
    },
    {
      "cell_type": "markdown",
      "metadata": {
        "id": "hIHTX-pkJjkO"
      },
      "source": [
        "#### Import AutoML SDK\n",
        "\n",
        "Import the AutoM SDK into our Python environment."
      ]
    },
    {
      "cell_type": "code",
      "execution_count": null,
      "metadata": {
        "id": "qrSkIKVgJjkO"
      },
      "outputs": [],
      "source": [
        "import json\n",
        "import os\n",
        "import sys\n",
        "import time\n",
        "\n",
        "from google.cloud import automl\n",
        "from google.protobuf.json_format import MessageToJson\n",
        "from google.protobuf.struct_pb2 import Value"
      ]
    },
    {
      "cell_type": "markdown",
      "metadata": {
        "id": "lbv411XjJjkP"
      },
      "source": [
        "#### AutoML constants\n",
        "\n",
        "Setup up the following constants for AutoML:\n",
        "\n",
        "- `PARENT`: The AutoM location root path for dataset, model and endpoint resources."
      ]
    },
    {
      "cell_type": "code",
      "execution_count": null,
      "metadata": {
        "id": "Gx8Eos8PJjkP"
      },
      "outputs": [],
      "source": [
        "# AutoM location root path for your dataset, model and endpoint resources\n",
        "PARENT = \"projects/\" + PROJECT_ID + \"/locations/\" + REGION"
      ]
    },
    {
      "cell_type": "markdown",
      "metadata": {
        "id": "l5e_7u3pjIBu"
      },
      "source": [
        "## Clients\n",
        "\n",
        "The AutoML SDK works as a client/server model. On your side (the Python script) you will create a client that sends requests and receives responses from the server (AutoML).\n",
        "\n",
        "You will use several clients in this tutorial, so set them all up upfront.\n"
      ]
    },
    {
      "cell_type": "code",
      "execution_count": null,
      "metadata": {
        "id": "c3sR3OxmxXiR"
      },
      "outputs": [],
      "source": [
        "def automl_client():\n",
        "    return automl.AutoMlClient()\n",
        "\n",
        "\n",
        "def prediction_client():\n",
        "    return automl.PredictionServiceClient()\n",
        "\n",
        "\n",
        "def operations_client():\n",
        "    return automl.AutoMlClient()._transport.operations_client\n",
        "\n",
        "\n",
        "clients = {}\n",
        "clients[\"automl\"] = automl_client()\n",
        "clients[\"prediction\"] = prediction_client()\n",
        "clients[\"operations\"] = operations_client()\n",
        "\n",
        "for client in clients.items():\n",
        "    print(client)"
      ]
    },
    {
      "cell_type": "code",
      "execution_count": null,
      "metadata": {
        "id": "import_file:flowers,csv,icn"
      },
      "outputs": [],
      "source": [
        "IMPORT_FILE = \"gs://cloud-ml-data/NL-entity/dataset.csv\""
      ]
    },
    {
      "cell_type": "code",
      "execution_count": null,
      "metadata": {
        "id": "ed725169cbfa"
      },
      "outputs": [],
      "source": [
        "! gsutil cat $IMPORT_FILE | head -n 10"
      ]
    },
    {
      "cell_type": "markdown",
      "metadata": {
        "id": "bb8bf52f9992"
      },
      "source": [
        "*Example output*:\n",
        "```\n",
        "TRAIN,gs://cloud-ml-data/NL-entity/train.jsonl\n",
        "TEST,gs://cloud-ml-data/NL-entity/test.jsonl\n",
        "VALIDATION,gs://cloud-ml-data/NL-entity/validation.jsonl\n",
        "```\n"
      ]
    },
    {
      "cell_type": "markdown",
      "metadata": {
        "id": "text_create_dataset:migration"
      },
      "source": [
        "## Create a dataset"
      ]
    },
    {
      "cell_type": "markdown",
      "metadata": {
        "id": "ChPZpfxLjIBv"
      },
      "source": [
        "### Prepare data"
      ]
    },
    {
      "cell_type": "markdown",
      "metadata": {
        "id": "text_datasets_create:migration,old"
      },
      "source": [
        "### [projects.locations.datasets.create](https://cloud.google.com/automl/docs/reference/rest/v1beta1/projects.locations.datasets/create)"
      ]
    },
    {
      "cell_type": "markdown",
      "metadata": {
        "id": "ozaMOwdNJjkT"
      },
      "source": [
        "#### Request"
      ]
    },
    {
      "cell_type": "code",
      "execution_count": null,
      "metadata": {
        "id": "gJFAw1PejIBw"
      },
      "outputs": [],
      "source": [
        "dataset = {\n",
        "    \"display_name\": \"entity_\" + TIMESTAMP,\n",
        "    \"text_extraction_dataset_metadata\": {},\n",
        "}\n",
        "\n",
        "print(\n",
        "    MessageToJson(\n",
        "        automl.CreateDatasetRequest(parent=PARENT, dataset=dataset).__dict__[\"_pb\"]\n",
        "    )\n",
        ")"
      ]
    },
    {
      "cell_type": "markdown",
      "metadata": {
        "id": "60695859c20f"
      },
      "source": [
        "*Example output*:\n",
        "```\n",
        "{\n",
        "  \"parent\": \"projects/migration-ucaip-training/locations/us-central1\",\n",
        "  \"dataset\": {\n",
        "    \"displayName\": \"entity_20210303201139\",\n",
        "    \"textExtractionDatasetMetadata\": {}\n",
        "  }\n",
        "}\n",
        "```\n"
      ]
    },
    {
      "cell_type": "markdown",
      "metadata": {
        "id": "vHkuSZxkJjkT"
      },
      "source": [
        "#### Call"
      ]
    },
    {
      "cell_type": "code",
      "execution_count": null,
      "metadata": {
        "id": "zKBpcBR1jIBx"
      },
      "outputs": [],
      "source": [
        "request = clients[\"automl\"].create_dataset(parent=PARENT, dataset=dataset)"
      ]
    },
    {
      "cell_type": "markdown",
      "metadata": {
        "id": "FLqkZMD2JjkT"
      },
      "source": [
        "#### Response"
      ]
    },
    {
      "cell_type": "code",
      "execution_count": null,
      "metadata": {
        "id": "pOcUKfcZjIBy"
      },
      "outputs": [],
      "source": [
        "result = request.result()\n",
        "\n",
        "print(MessageToJson(result.__dict__[\"_pb\"]))"
      ]
    },
    {
      "cell_type": "markdown",
      "metadata": {
        "id": "523c7df9b387"
      },
      "source": [
        "*Example output*:\n",
        "```\n",
        "{\n",
        "  \"name\": \"projects/116273516712/locations/us-central1/datasets/TEN4244124229064196096\"\n",
        "}\n",
        "```\n"
      ]
    },
    {
      "cell_type": "code",
      "execution_count": null,
      "metadata": {
        "id": "81ab3645e933"
      },
      "outputs": [],
      "source": [
        "# The full unique ID for the dataset\n",
        "dataset_id = result.name\n",
        "# The short numeric ID for the dataset\n",
        "dataset_short_id = dataset_id.split(\"/\")[-1]\n",
        "\n",
        "print(dataset_id)"
      ]
    },
    {
      "cell_type": "markdown",
      "metadata": {
        "id": "text_datasets_importdata:migration,old"
      },
      "source": [
        "### [projects.locations.datasets.importData](https://cloud.google.com/automl/docs/reference/rest/v1beta1/projects.locations.datasets/importData)"
      ]
    },
    {
      "cell_type": "markdown",
      "metadata": {
        "id": "rwfF7rjvjIBy"
      },
      "source": [
        "#### Request"
      ]
    },
    {
      "cell_type": "code",
      "execution_count": null,
      "metadata": {
        "id": "TI39F1VNjIBy"
      },
      "outputs": [],
      "source": [
        "input_config = {\"gcs_source\": {\"input_uris\": [IMPORT_FILE]}}\n",
        "\n",
        "print(\n",
        "    MessageToJson(\n",
        "        automl.ImportDataRequest(name=dataset_id, input_config=input_config).__dict__[\n",
        "            \"_pb\"\n",
        "        ]\n",
        "    )\n",
        ")"
      ]
    },
    {
      "cell_type": "markdown",
      "metadata": {
        "id": "cb5870fde44a"
      },
      "source": [
        "*Example output*:\n",
        "```\n",
        "{\n",
        "  \"name\": \"projects/116273516712/locations/us-central1/datasets/TEN4244124229064196096\",\n",
        "  \"inputConfig\": {\n",
        "    \"gcsSource\": {\n",
        "      \"inputUris\": [\n",
        "        \"gs://cloud-ml-data/NL-entity/dataset.csv\"\n",
        "      ]\n",
        "    }\n",
        "  }\n",
        "}\n",
        "```\n"
      ]
    },
    {
      "cell_type": "markdown",
      "metadata": {
        "id": "BxnviF7TjIBz"
      },
      "source": [
        "#### Call"
      ]
    },
    {
      "cell_type": "code",
      "execution_count": null,
      "metadata": {
        "id": "HYIPQuJljIBz"
      },
      "outputs": [],
      "source": [
        "request = clients[\"automl\"].import_data(name=dataset_id, input_config=input_config)"
      ]
    },
    {
      "cell_type": "markdown",
      "metadata": {
        "id": "BbL7nR-ZjIBz"
      },
      "source": [
        "#### Response"
      ]
    },
    {
      "cell_type": "code",
      "execution_count": null,
      "metadata": {
        "id": "2mBgw1pujIBz"
      },
      "outputs": [],
      "source": [
        "result = request.result()\n",
        "\n",
        "print(MessageToJson(result))"
      ]
    },
    {
      "cell_type": "markdown",
      "metadata": {
        "id": "ce6a7658ebb8"
      },
      "source": [
        "*Example output*:\n",
        "```\n",
        "{}\n",
        "```\n"
      ]
    },
    {
      "cell_type": "markdown",
      "metadata": {
        "id": "text_create_and_deploy_model:migration"
      },
      "source": [
        "## Train a model"
      ]
    },
    {
      "cell_type": "markdown",
      "metadata": {
        "id": "text_models_create:migration,old"
      },
      "source": [
        "### [projects.locations.models.create](https://cloud.google.com/automl/docs/reference/rest/v1beta1/projects.locations.models/create)"
      ]
    },
    {
      "cell_type": "markdown",
      "metadata": {
        "id": "tocf5wHGjIB0"
      },
      "source": [
        "#### Request"
      ]
    },
    {
      "cell_type": "code",
      "execution_count": null,
      "metadata": {
        "id": "rV_FgnILjIB0"
      },
      "outputs": [],
      "source": [
        "model = {\n",
        "    \"display_name\": \"entity_\" + TIMESTAMP,\n",
        "    \"dataset_id\": dataset_short_id,\n",
        "    \"text_extraction_model_metadata\": {},\n",
        "}\n",
        "\n",
        "print(\n",
        "    MessageToJson(automl.CreateModelRequest(parent=PARENT, model=model).__dict__[\"_pb\"])\n",
        ")"
      ]
    },
    {
      "cell_type": "markdown",
      "metadata": {
        "id": "71846394320b"
      },
      "source": [
        "*Example output*:\n",
        "```\n",
        "{\n",
        "  \"parent\": \"projects/migration-ucaip-training/locations/us-central1\",\n",
        "  \"model\": {\n",
        "    \"displayName\": \"entity_20210303201139\",\n",
        "    \"datasetId\": \"TEN4244124229064196096\",\n",
        "    \"textExtractionModelMetadata\": {}\n",
        "  }\n",
        "}\n",
        "```\n"
      ]
    },
    {
      "cell_type": "markdown",
      "metadata": {
        "id": "9WGDh5UXjIB1"
      },
      "source": [
        "#### Call"
      ]
    },
    {
      "cell_type": "code",
      "execution_count": null,
      "metadata": {
        "id": "Rmu6uXvKjIB1"
      },
      "outputs": [],
      "source": [
        "request = clients[\"automl\"].create_model(parent=PARENT, model=model)"
      ]
    },
    {
      "cell_type": "markdown",
      "metadata": {
        "id": "4vQdzcVIjIB2"
      },
      "source": [
        "#### Response"
      ]
    },
    {
      "cell_type": "code",
      "execution_count": null,
      "metadata": {
        "id": "f7c18460f8af"
      },
      "outputs": [],
      "source": [
        "result = request.result()\n",
        "\n",
        "print(MessageToJson(result.__dict__[\"_pb\"]))"
      ]
    },
    {
      "cell_type": "markdown",
      "metadata": {
        "id": "c8df6b452c01"
      },
      "source": [
        "*Example output*:\n",
        "```\n",
        "{\n",
        "  \"name\": \"projects/116273516712/locations/us-central1/models/TEN7821373765161320448\"\n",
        "}\n",
        "```\n"
      ]
    },
    {
      "cell_type": "code",
      "execution_count": null,
      "metadata": {
        "id": "adfa99c5e7e5"
      },
      "outputs": [],
      "source": [
        "# The full unique ID for the training pipeline\n",
        "model_id = result.name\n",
        "# The short numeric ID for the training pipeline\n",
        "model_short_id = model_id.split(\"/\")[-1]\n",
        "\n",
        "print(model_short_id)"
      ]
    },
    {
      "cell_type": "markdown",
      "metadata": {
        "id": "text_evaluate_the_model:migration"
      },
      "source": [
        "## Evaluate the model"
      ]
    },
    {
      "cell_type": "markdown",
      "metadata": {
        "id": "yfufMwAEJjkX"
      },
      "source": [
        "### [projects.locations.models.modelEvaluations.list](https://cloud.google.com/automl/docs/reference/rest/v1beta1/projects.locations.models.modelEvaluations/list)"
      ]
    },
    {
      "cell_type": "markdown",
      "metadata": {
        "id": "IyTk9SWDjIB3"
      },
      "source": [
        "#### Call"
      ]
    },
    {
      "cell_type": "code",
      "execution_count": null,
      "metadata": {
        "id": "tRqkQRB6jIB3"
      },
      "outputs": [],
      "source": [
        "request = clients[\"automl\"].list_model_evaluations(parent=model_id, filter=\"\")"
      ]
    },
    {
      "cell_type": "markdown",
      "metadata": {
        "id": "YCuTwqG5jIB3"
      },
      "source": [
        "#### Response"
      ]
    },
    {
      "cell_type": "code",
      "execution_count": null,
      "metadata": {
        "id": "AxEY7WFHj2YC"
      },
      "outputs": [],
      "source": [
        "import json\n",
        "\n",
        "model_evaluations = [json.loads(MessageToJson(me.__dict__[\"_pb\"])) for me in request]\n",
        "# The evaluation slice\n",
        "evaluation_slice = request.model_evaluation[0].name\n",
        "\n",
        "print(json.dumps(model_evaluations, indent=2))"
      ]
    },
    {
      "cell_type": "markdown",
      "metadata": {
        "id": "532b930d42e8"
      },
      "source": [
        "*Example output*:\n",
        "```\n",
        "[\n",
        "  {\n",
        "    \"name\": \"projects/116273516712/locations/us-central1/models/TEN7821373765161320448/modelEvaluations/132746642406774043\",\n",
        "    \"createTime\": \"2021-03-03T22:30:27.832506Z\",\n",
        "    \"evaluatedExampleCount\": 60,\n",
        "    \"textExtractionEvaluationMetrics\": {\n",
        "      \"confidenceMetricsEntries\": [\n",
        "        {\n",
        "          \"confidenceThreshold\": 0.04,\n",
        "          \"recall\": 0.79928315,\n",
        "          \"precision\": 0.7950089,\n",
        "          \"f1Score\": 0.7971403\n",
        "        },\n",
        "        {\n",
        "          \"confidenceThreshold\": 0.96,\n",
        "          \"recall\": 0.75089604,\n",
        "          \"precision\": 0.8603696,\n",
        "          \"f1Score\": 0.80191386\n",
        "        },\n",
        "        \n",
        "        # REMOVED FOR BREVITY\n",
        "        {\n",
        "          \"confidenceThreshold\": 0.43,\n",
        "          \"recall\": 0.5913978,\n",
        "          \"precision\": 0.57894737,\n",
        "          \"f1Score\": 0.5851064\n",
        "        },\n",
        "        {\n",
        "          \"confidenceThreshold\": 0.44,\n",
        "          \"recall\": 0.5913978,\n",
        "          \"precision\": 0.57894737,\n",
        "          \"f1Score\": 0.5851064\n",
        "        }\n",
        "      ]\n",
        "    },\n",
        "    \"displayName\": \"DiseaseClass\"\n",
        "  }\n",
        "]\n",
        "```\n"
      ]
    },
    {
      "cell_type": "markdown",
      "metadata": {
        "id": "i6T0bzuNJjkY"
      },
      "source": [
        "### [projects.locations.models.modelEvaluations.get](https://cloud.google.com/automl/docs/reference/rest/v1beta1/projects.locations.models.modelEvaluations/get)"
      ]
    },
    {
      "cell_type": "markdown",
      "metadata": {
        "id": "1iIWWgs5jIB4"
      },
      "source": [
        "#### Call"
      ]
    },
    {
      "cell_type": "code",
      "execution_count": null,
      "metadata": {
        "id": "jusjAC_tjIB4"
      },
      "outputs": [],
      "source": [
        "request = clients[\"automl\"].get_model_evaluation(name=evaluation_slice)"
      ]
    },
    {
      "cell_type": "markdown",
      "metadata": {
        "id": "XFRb-04njIB4"
      },
      "source": [
        "#### Response"
      ]
    },
    {
      "cell_type": "code",
      "execution_count": null,
      "metadata": {
        "id": "oaV7FTA2jIB4"
      },
      "outputs": [],
      "source": [
        "print(MessageToJson(request.__dict__[\"_pb\"]))"
      ]
    },
    {
      "cell_type": "markdown",
      "metadata": {
        "id": "490ee6cf06c7"
      },
      "source": [
        "*Example output*:\n",
        "```\n",
        "{\n",
        "  \"name\": \"projects/116273516712/locations/us-central1/models/TEN7821373765161320448/modelEvaluations/132746642406774043\",\n",
        "  \"createTime\": \"2021-03-03T22:30:27.832506Z\",\n",
        "  \"evaluatedExampleCount\": 60,\n",
        "  \"textExtractionEvaluationMetrics\": {\n",
        "    \"confidenceMetricsEntries\": [\n",
        "      {\n",
        "        \"confidenceThreshold\": 0.04,\n",
        "        \"recall\": 0.79928315,\n",
        "        \"precision\": 0.7950089,\n",
        "        \"f1Score\": 0.7971403\n",
        "      },\n",
        "      {\n",
        "        \"confidenceThreshold\": 0.96,\n",
        "        \"recall\": 0.75089604,\n",
        "        \"precision\": 0.8603696,\n",
        "        \"f1Score\": 0.80191386\n",
        "      },\n",
        "      \n",
        "      # REMOVED FOR BREVITY\n",
        "      \n",
        "      {\n",
        "        \"confidenceThreshold\": 0.43,\n",
        "        \"recall\": 0.7921147,\n",
        "        \"precision\": 0.7935368,\n",
        "        \"f1Score\": 0.7928251\n",
        "      },\n",
        "      {\n",
        "        \"confidenceThreshold\": 0.44,\n",
        "        \"recall\": 0.7921147,\n",
        "        \"precision\": 0.7935368,\n",
        "        \"f1Score\": 0.7928251\n",
        "      }\n",
        "    ]\n",
        "  }\n",
        "}\n",
        "```\n"
      ]
    },
    {
      "cell_type": "markdown",
      "metadata": {
        "id": "_vTbZbgejIB5"
      },
      "source": [
        "## Make batch predictions"
      ]
    },
    {
      "cell_type": "markdown",
      "metadata": {
        "id": "_NxhzDVNjIB5"
      },
      "source": [
        "### Prepare files for batch prediction"
      ]
    },
    {
      "cell_type": "code",
      "execution_count": null,
      "metadata": {
        "id": "tKzpf6YcjIB5"
      },
      "outputs": [],
      "source": [
        "import tensorflow as tf\n",
        "\n",
        "test_item = 'Molecular basis of hexosaminidase A deficiency and pseudodeficiency in the Berks County Pennsylvania Dutch.\\\\tFollowing the birth of two infants with Tay-Sachs disease ( TSD ) , a non-Jewish , Pennsylvania Dutch kindred was screened for TSD carriers using the biochemical assay . A high frequency of individuals who appeared to be TSD heterozygotes was detected ( Kelly et al . , 1975 ) . Clinical and biochemical evidence suggested that the increased carrier frequency was due to at least two altered alleles for the hexosaminidase A alpha-subunit . We now report two mutant alleles in this Pennsylvania Dutch kindred , and one polymorphism . One allele , reported originally in a French TSD patient ( Akli et al . , 1991 ) , is a GT-- > AT transition at the donor splice-site of intron 9 . The second , a C-- > T transition at nucleotide 739 ( Arg247Trp ) , has been shown by Triggs-Raine et al . ( 1992 ) to be a clinically benign \" pseudodeficient \" allele associated with reduced enzyme activity against artificial substrate . Finally , a polymorphism [ G-- > A ( 759 ) ] , which leaves valine at codon 253 unchanged , is described'\n",
        "\n",
        "gcs_input_uri = \"gs://\" + BUCKET_NAME + \"/test.jsonl\"\n",
        "with tf.io.gfile.GFile(gcs_input_uri, \"w\") as f:\n",
        "    data = {\"id\": 0, \"text_snippet\": {\"content\": test_item}}\n",
        "    f.write(json.dumps(data) + \"\\n\")\n",
        "\n",
        "! gsutil cat $gcs_input_uri"
      ]
    },
    {
      "cell_type": "markdown",
      "metadata": {
        "id": "5d84b3d33043"
      },
      "source": [
        "*Example output*:\n",
        "```\n",
        "{\"id\": 0, \"text_snippet\": {\"content\": \"Molecular basis of hexosaminidase A deficiency and pseudodeficiency in the Berks County Pennsylvania Dutch.\\\\tFollowing the birth of two infants with Tay-Sachs disease ( TSD ) , a non-Jewish , Pennsylvania Dutch kindred was screened for TSD carriers using the biochemical assay . A high frequency of individuals who appeared to be TSD heterozygotes was detected ( Kelly et al . , 1975 ) . Clinical and biochemical evidence suggested that the increased carrier frequency was due to at least two altered alleles for the hexosaminidase A alpha-subunit . We now report two mutant alleles in this Pennsylvania Dutch kindred , and one polymorphism . One allele , reported originally in a French TSD patient ( Akli et al . , 1991 ) , is a GT-- > AT transition at the donor splice-site of intron 9 . The second , a C-- > T transition at nucleotide 739 ( Arg247Trp ) , has been shown by Triggs-Raine et al . ( 1992 ) to be a clinically benign \\\" pseudodeficient \\\" allele associated with reduced enzyme activity against artificial substrate . Finally , a polymorphism [ G-- > A ( 759 ) ] , which leaves valine at codon 253 unchanged , is described\"}}\n",
        "```\n"
      ]
    },
    {
      "cell_type": "markdown",
      "metadata": {
        "id": "text_models_batchpredict:migration,old"
      },
      "source": [
        "### [projects.locations.models.batchPredict](https://cloud.google.com/automl/docs/reference/rest/v1beta1/projects.locations.models/batchPredict)"
      ]
    },
    {
      "cell_type": "markdown",
      "metadata": {
        "id": "2-oWYpTejIB6"
      },
      "source": [
        "#### Request"
      ]
    },
    {
      "cell_type": "code",
      "execution_count": null,
      "metadata": {
        "id": "EHJqVT8-jIB7"
      },
      "outputs": [],
      "source": [
        "input_config = {\"gcs_source\": {\"input_uris\": [gcs_input_uri]}}\n",
        "\n",
        "output_config = {\n",
        "    \"gcs_destination\": {\"output_uri_prefix\": \"gs://\" + f\"{BUCKET_NAME}/batch_output/\"}\n",
        "}\n",
        "\n",
        "print(\n",
        "    MessageToJson(\n",
        "        automl.BatchPredictRequest(\n",
        "            name=model_id, input_config=input_config, output_config=output_config\n",
        "        ).__dict__[\"_pb\"]\n",
        "    )\n",
        ")"
      ]
    },
    {
      "cell_type": "markdown",
      "metadata": {
        "id": "d940957b9b51"
      },
      "source": [
        "*Example output*:\n",
        "```\n",
        "{\n",
        "  \"name\": \"projects/116273516712/locations/us-central1/models/TEN7821373765161320448\",\n",
        "  \"inputConfig\": {\n",
        "    \"gcsSource\": {\n",
        "      \"inputUris\": [\n",
        "        \"gs://migration-ucaip-trainingaip-20210303201139/test.jsonl\"\n",
        "      ]\n",
        "    }\n",
        "  },\n",
        "  \"outputConfig\": {\n",
        "    \"gcsDestination\": {\n",
        "      \"outputUriPrefix\": \"gs://migration-ucaip-trainingaip-20210303201139/batch_output/\"\n",
        "    }\n",
        "  }\n",
        "}\n",
        "```\n"
      ]
    },
    {
      "cell_type": "markdown",
      "metadata": {
        "id": "-iQl862AjIB7"
      },
      "source": [
        "#### Call"
      ]
    },
    {
      "cell_type": "code",
      "execution_count": null,
      "metadata": {
        "id": "XI_kiWLIjIB7"
      },
      "outputs": [],
      "source": [
        "request = clients[\"prediction\"].batch_predict(\n",
        "    name=model_id, input_config=input_config, output_config=output_config\n",
        ")"
      ]
    },
    {
      "cell_type": "markdown",
      "metadata": {
        "id": "Z9CU4SeXjIB7"
      },
      "source": [
        "#### Response"
      ]
    },
    {
      "cell_type": "code",
      "execution_count": null,
      "metadata": {
        "id": "iGJZl4OCjIB8"
      },
      "outputs": [],
      "source": [
        "result = request.result()\n",
        "\n",
        "print(MessageToJson(result.__dict__[\"_pb\"]))"
      ]
    },
    {
      "cell_type": "markdown",
      "metadata": {
        "id": "b6f393652740"
      },
      "source": [
        "*Example output*:\n",
        "```\n",
        "{}\n",
        "```\n"
      ]
    },
    {
      "cell_type": "code",
      "execution_count": null,
      "metadata": {
        "id": "fnYRCde3xXie"
      },
      "outputs": [],
      "source": [
        "destination_uri = output_config[\"gcs_destination\"][\"output_uri_prefix\"][:-1]\n",
        "\n",
        "! gsutil ls $destination_uri/*\n",
        "! gsutil cat $destination_uri/prediction*/*.jsonl"
      ]
    },
    {
      "cell_type": "markdown",
      "metadata": {
        "id": "f8f88ce43155"
      },
      "source": [
        "*Example output*:\n",
        "```\n",
        "gs://migration-ucaip-trainingaip-20210303201139/batch_output/prediction-entity_20210303201139-2021-03-03T22:30:36.292153Z/text_extraction_1.jsonl\n",
        "{\"textSnippet\":{\"content\":\"Molecular basis of hexosaminidase A deficiency and pseudodeficiency in the Berks County Pennsylvania Dutch.\\\\tFollowing the birth of two infants with Tay-Sachs disease ( TSD ) , a non-Jewish , Pennsylvania Dutch kindred was screened for TSD carriers using the biochemical assay . A high frequency of individuals who appeared to be TSD heterozygotes was detected ( Kelly et al . , 1975 ) . Clinical and biochemical evidence suggested that the increased carrier frequency was due to at least two altered alleles for the hexosaminidase A alpha-subunit . We now report two mutant alleles in this Pennsylvania Dutch kindred , and one polymorphism . One allele , reported originally in a French TSD patient ( Akli et al . , 1991 ) , is a GT-- \\u003e AT transition at the donor splice-site of intron 9 . The second , a C-- \\u003e T transition at nucleotide 739 ( Arg247Trp ) , has been shown by Triggs-Raine et al . ( 1992 ) to be a clinically benign \\\" pseudodeficient \\\" allele associated with reduced enzyme activity against artificial substrate . Finally , a polymorphism [ G-- \\u003e A ( 759 ) ] , which leaves valine at codon 253 unchanged , is described\"},\"annotations\":[{\"displayName\":\"SpecificDisease\",\"textExtraction\":{\"score\":0.99955064,\"textSegment\":{\"startOffset\":\"19\",\"endOffset\":\"46\",\"content\":\"hexosaminidase A deficiency\"}}},{\"displayName\":\"SpecificDisease\",\"textExtraction\":{\"score\":0.9995449,\"textSegment\":{\"startOffset\":\"149\",\"endOffset\":\"166\",\"content\":\"Tay-Sachs disease\"}}},{\"displayName\":\"SpecificDisease\",\"textExtraction\":{\"score\":0.99939877,\"textSegment\":{\"startOffset\":\"169\",\"endOffset\":\"172\",\"content\":\"TSD\"}}},{\"displayName\":\"Modifier\",\"textExtraction\":{\"score\":0.9993252,\"textSegment\":{\"startOffset\":\"236\",\"endOffset\":\"239\",\"content\":\"TSD\"}}},{\"displayName\":\"Modifier\",\"textExtraction\":{\"score\":0.9993484,\"textSegment\":{\"startOffset\":\"330\",\"endOffset\":\"333\",\"content\":\"TSD\"}}},{\"displayName\":\"Modifier\",\"textExtraction\":{\"score\":0.9993844,\"textSegment\":{\"startOffset\":\"688\",\"endOffset\":\"691\",\"content\":\"TSD\"}}}],\"id\":\"0\"}\n",
        "```\n"
      ]
    },
    {
      "cell_type": "markdown",
      "metadata": {
        "id": "h6qDTq6wjIB8"
      },
      "source": [
        "## Make online predictions"
      ]
    },
    {
      "cell_type": "markdown",
      "metadata": {
        "id": "text_models_deploy:migration,old"
      },
      "source": [
        "### [projects.locations.models.deploy](https://cloud.google.com/automl/docs/reference/rest/v1beta1/projects.locations.models/deploy)"
      ]
    },
    {
      "cell_type": "markdown",
      "metadata": {
        "id": "rCm7yXUHjIB_"
      },
      "source": [
        "#### Call"
      ]
    },
    {
      "cell_type": "code",
      "execution_count": null,
      "metadata": {
        "id": "rlNO4ZgYjIB_"
      },
      "outputs": [],
      "source": [
        "request = clients[\"automl\"].deploy_model(name=model_id)"
      ]
    },
    {
      "cell_type": "markdown",
      "metadata": {
        "id": "huJESda4jICA"
      },
      "source": [
        "#### Response"
      ]
    },
    {
      "cell_type": "code",
      "execution_count": null,
      "metadata": {
        "id": "W-h9tZunjICA"
      },
      "outputs": [],
      "source": [
        "result = request.result()\n",
        "\n",
        "print(MessageToJson(result))"
      ]
    },
    {
      "cell_type": "markdown",
      "metadata": {
        "id": "_E6nl1x7v_NL"
      },
      "source": [
        "*Example output*:\r\n",
        "```\r\n",
        "{}\r\n",
        "```"
      ]
    },
    {
      "cell_type": "markdown",
      "metadata": {
        "id": "text_models_predict:migration,old"
      },
      "source": [
        "### [projects.locations.models.predict](https://cloud.google.com/automl/docs/reference/rest/v1beta1/projects.locations.models/predict)"
      ]
    },
    {
      "cell_type": "markdown",
      "metadata": {
        "id": "2YRTF6AMjIB8"
      },
      "source": [
        "#### Prepare data item for online prediction"
      ]
    },
    {
      "cell_type": "code",
      "execution_count": null,
      "metadata": {
        "id": "GJaj0apojIB-"
      },
      "outputs": [],
      "source": [
        "test_item = 'Molecular basis of hexosaminidase A deficiency and pseudodeficiency in the Berks County Pennsylvania Dutch.\\\\tFollowing the birth of two infants with Tay-Sachs disease ( TSD ) , a non-Jewish , Pennsylvania Dutch kindred was screened for TSD carriers using the biochemical assay . A high frequency of individuals who appeared to be TSD heterozygotes was detected ( Kelly et al . , 1975 ) . Clinical and biochemical evidence suggested that the increased carrier frequency was due to at least two altered alleles for the hexosaminidase A alpha-subunit . We now report two mutant alleles in this Pennsylvania Dutch kindred , and one polymorphism . One allele , reported originally in a French TSD patient ( Akli et al . , 1991 ) , is a GT-- > AT transition at the donor splice-site of intron 9 . The second , a C-- > T transition at nucleotide 739 ( Arg247Trp ) , has been shown by Triggs-Raine et al . ( 1992 ) to be a clinically benign \" pseudodeficient \" allele associated with reduced enzyme activity against artificial substrate . Finally , a polymorphism [ G-- > A ( 759 ) ] , which leaves valine at codon 253 unchanged , is described'"
      ]
    },
    {
      "cell_type": "markdown",
      "metadata": {
        "id": "BM8_JnXbjICA"
      },
      "source": [
        "#### Request"
      ]
    },
    {
      "cell_type": "code",
      "execution_count": null,
      "metadata": {
        "id": "J0cTri_7jICB"
      },
      "outputs": [],
      "source": [
        "payload = {\"text_snippet\": {\"content\": test_item, \"mime_type\": \"text/plain\"}}\n",
        "\n",
        "request = automl.PredictRequest(\n",
        "    name=model_id,\n",
        "    payload=payload,\n",
        ")\n",
        "\n",
        "print(MessageToJson(request.__dict__[\"_pb\"]))"
      ]
    },
    {
      "cell_type": "markdown",
      "metadata": {
        "id": "bad8702fc564"
      },
      "source": [
        "*Example output*:\n",
        "```\n",
        "{\n",
        "  \"name\": \"projects/116273516712/locations/us-central1/models/TEN7821373765161320448\",\n",
        "  \"payload\": {\n",
        "    \"textSnippet\": {\n",
        "      \"content\": \"Molecular basis of hexosaminidase A deficiency and pseudodeficiency in the Berks County Pennsylvania Dutch.\\\\tFollowing the birth of two infants with Tay-Sachs disease ( TSD ) , a non-Jewish , Pennsylvania Dutch kindred was screened for TSD carriers using the biochemical assay . A high frequency of individuals who appeared to be TSD heterozygotes was detected ( Kelly et al . , 1975 ) . Clinical and biochemical evidence suggested that the increased carrier frequency was due to at least two altered alleles for the hexosaminidase A alpha-subunit . We now report two mutant alleles in this Pennsylvania Dutch kindred , and one polymorphism . One allele , reported originally in a French TSD patient ( Akli et al . , 1991 ) , is a GT-- > AT transition at the donor splice-site of intron 9 . The second , a C-- > T transition at nucleotide 739 ( Arg247Trp ) , has been shown by Triggs-Raine et al . ( 1992 ) to be a clinically benign \\\" pseudodeficient \\\" allele associated with reduced enzyme activity against artificial substrate . Finally , a polymorphism [ G-- > A ( 759 ) ] , which leaves valine at codon 253 unchanged , is described\",\n",
        "      \"mimeType\": \"text/plain\"\n",
        "    }\n",
        "  }\n",
        "}\n",
        "```\n"
      ]
    },
    {
      "cell_type": "markdown",
      "metadata": {
        "id": "VC6-vTaIjICB"
      },
      "source": [
        "#### Call"
      ]
    },
    {
      "cell_type": "code",
      "execution_count": null,
      "metadata": {
        "id": "PYfH7boujICB"
      },
      "outputs": [],
      "source": [
        "request = clients[\"prediction\"].predict(request=request)"
      ]
    },
    {
      "cell_type": "markdown",
      "metadata": {
        "id": "e5wP7xa_jICB"
      },
      "source": [
        "#### Response"
      ]
    },
    {
      "cell_type": "code",
      "execution_count": null,
      "metadata": {
        "id": "3tF8D4HejICB"
      },
      "outputs": [],
      "source": [
        "print(MessageToJson(request.__dict__[\"_pb\"]))"
      ]
    },
    {
      "cell_type": "markdown",
      "metadata": {
        "id": "1620b1949e82"
      },
      "source": [
        "*Example output*:\n",
        "```\n",
        "{\n",
        "  \"payload\": [\n",
        "    {\n",
        "      \"annotationSpecId\": \"8605379431835369472\",\n",
        "      \"displayName\": \"SpecificDisease\",\n",
        "      \"textExtraction\": {\n",
        "        \"score\": 0.99955064,\n",
        "        \"textSegment\": {\n",
        "          \"startOffset\": \"19\",\n",
        "          \"endOffset\": \"46\",\n",
        "          \"content\": \"hexosaminidase A deficiency\"\n",
        "        }\n",
        "      }\n",
        "    },\n",
        "    {\n",
        "      \"annotationSpecId\": \"8605379431835369472\",\n",
        "      \"displayName\": \"SpecificDisease\",\n",
        "      \"textExtraction\": {\n",
        "        \"score\": 0.9995449,\n",
        "        \"textSegment\": {\n",
        "          \"startOffset\": \"149\",\n",
        "          \"endOffset\": \"166\",\n",
        "          \"content\": \"Tay-Sachs disease\"\n",
        "        }\n",
        "      }\n",
        "    },\n",
        "    {\n",
        "      \"annotationSpecId\": \"8605379431835369472\",\n",
        "      \"displayName\": \"SpecificDisease\",\n",
        "      \"textExtraction\": {\n",
        "        \"score\": 0.99939877,\n",
        "        \"textSegment\": {\n",
        "          \"startOffset\": \"169\",\n",
        "          \"endOffset\": \"172\",\n",
        "          \"content\": \"TSD\"\n",
        "        }\n",
        "      }\n",
        "    },\n",
        "    {\n",
        "      \"annotationSpecId\": \"3417232661104558080\",\n",
        "      \"displayName\": \"Modifier\",\n",
        "      \"textExtraction\": {\n",
        "        \"score\": 0.9993252,\n",
        "        \"textSegment\": {\n",
        "          \"startOffset\": \"236\",\n",
        "          \"endOffset\": \"239\",\n",
        "          \"content\": \"TSD\"\n",
        "        }\n",
        "      }\n",
        "    },\n",
        "    {\n",
        "      \"annotationSpecId\": \"3417232661104558080\",\n",
        "      \"displayName\": \"Modifier\",\n",
        "      \"textExtraction\": {\n",
        "        \"score\": 0.9993484,\n",
        "        \"textSegment\": {\n",
        "          \"startOffset\": \"330\",\n",
        "          \"endOffset\": \"333\",\n",
        "          \"content\": \"TSD\"\n",
        "        }\n",
        "      }\n",
        "    },\n",
        "    {\n",
        "      \"annotationSpecId\": \"3417232661104558080\",\n",
        "      \"displayName\": \"Modifier\",\n",
        "      \"textExtraction\": {\n",
        "        \"score\": 0.9993844,\n",
        "        \"textSegment\": {\n",
        "          \"startOffset\": \"688\",\n",
        "          \"endOffset\": \"691\",\n",
        "          \"content\": \"TSD\"\n",
        "        }\n",
        "      }\n",
        "    }\n",
        "  ]\n",
        "}\n",
        "```\n"
      ]
    },
    {
      "cell_type": "markdown",
      "metadata": {
        "id": "bQ-VVaSxJjkd"
      },
      "source": [
        "# Cleaning up\r\n",
        "\r\n",
        "To clean up all GCP resources used in this project, you can [delete the GCP\r\n",
        "project](https://cloud.google.com/resource-manager/docs/creating-managing-projects#shutting_down_projects) you used for the tutorial.\r\n",
        "\r\n",
        "Otherwise, you can delete the individual resources you created in this tutorial."
      ]
    },
    {
      "cell_type": "code",
      "execution_count": null,
      "metadata": {
        "id": "qGtpM6SjjICC"
      },
      "outputs": [],
      "source": [
        "delete_dataset = True\n",
        "delete_model = True\n",
        "delete_bucket = True\n",
        "\n",
        "# Delete the dataset using the AutoML fully qualified identifier for the dataset\n",
        "try:\n",
        "    if delete_dataset:\n",
        "        clients[\"automl\"].delete_dataset(name=dataset_id)\n",
        "except Exception as e:\n",
        "    print(e)\n",
        "\n",
        "# Delete the model using the AutoML fully qualified identifier for the model\n",
        "try:\n",
        "    if delete_model:\n",
        "        clients[\"automl\"].delete_model(name=model_id)\n",
        "except Exception as e:\n",
        "    print(e)\n",
        "\n",
        "\n",
        "if delete_bucket and \"BUCKET_NAME\" in globals():\n",
        "    ! gsutil rm -r gs://$BUCKET_NAME"
      ]
    }
  ],
  "metadata": {
    "colab": {
      "name": "UJ7 legacy AutoML Natural Language Text Entity Extraction.ipynb",
      "toc_visible": true
    },
    "kernelspec": {
      "display_name": "Python 3",
      "name": "python3"
    }
  },
  "nbformat": 4,
  "nbformat_minor": 0
}
