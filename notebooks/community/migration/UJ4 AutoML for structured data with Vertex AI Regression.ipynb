{
  "cells": [
    {
      "cell_type": "code",
      "execution_count": null,
      "metadata": {
        "id": "bur1nAUVj2Xq"
      },
      "outputs": [],
      "source": [
        "# Copyright 2021 Google LLC\n",
        "#\n",
        "# Licensed under the Apache License, Version 2.0 (the \"License\");\n",
        "# you may not use this file except in compliance with the License.\n",
        "# You may obtain a copy of the License at\n",
        "#\n",
        "#     https://www.apache.org/licenses/LICENSE-2.0\n",
        "#\n",
        "# Unless required by applicable law or agreed to in writing, software\n",
        "# distributed under the License is distributed on an \"AS IS\" BASIS,\n",
        "# WITHOUT WARRANTIES OR CONDITIONS OF ANY KIND, either express or implied.\n",
        "# See the License for the specific language governing permissions and\n",
        "# limitations under the License."
      ]
    },
    {
      "cell_type": "markdown",
      "metadata": {
        "id": "text_title:migration,automl,icn"
      },
      "source": [
        "# Vertex AI AutoML tables regression\r\n"
      ]
    },
    {
      "cell_type": "markdown",
      "metadata": {
        "id": "JE-aKjayJjkF"
      },
      "source": [
        "## Installation\n",
        "\n",
        "Install the latest (preview) version of Vertex SDK."
      ]
    },
    {
      "cell_type": "code",
      "execution_count": null,
      "metadata": {
        "id": "7dxB6-B0JjkG"
      },
      "outputs": [],
      "source": [
        "! pip3 install -U google-cloud-aiplatform --user"
      ]
    },
    {
      "cell_type": "markdown",
      "metadata": {
        "id": "Iddo-8HmJjkH"
      },
      "source": [
        "Install the Google *cloud-storage* library as well."
      ]
    },
    {
      "cell_type": "code",
      "execution_count": null,
      "metadata": {
        "id": "xHvi6EFSJjkH"
      },
      "outputs": [],
      "source": [
        "! pip3 install google-cloud-storage"
      ]
    },
    {
      "cell_type": "markdown",
      "metadata": {
        "id": "ktRTgB8DJjkI"
      },
      "source": [
        "### Restart the Kernel\n",
        "\n",
        "Once you've installed the Vertex SDK and Google *cloud-storage*, you need to restart the notebook kernel so it can find the packages."
      ]
    },
    {
      "cell_type": "code",
      "execution_count": null,
      "metadata": {
        "id": "x1g4mBdlJjkI"
      },
      "outputs": [],
      "source": [
        "import os\n",
        "\n",
        "if not os.getenv(\"AUTORUN\") and False:\n",
        "    # Automatically restart kernel after installs\n",
        "    import IPython\n",
        "\n",
        "    app = IPython.Application.instance()\n",
        "    app.kernel.do_shutdown(True)"
      ]
    },
    {
      "cell_type": "markdown",
      "metadata": {
        "id": "neMWauLRtmvU"
      },
      "source": [
        "## Before you begin\r\n",
        "\r\n",
        "### GPU run-time\r\n",
        "\r\n",
        "*Make sure you're running this notebook in a GPU runtime if you have that option. In Colab, select* **Runtime > Change Runtime Type > GPU**\r\n",
        "\r\n",
        "### Set up your GCP project\r\n",
        "\r\n",
        "**The following steps are required, regardless of your notebook environment.**\r\n",
        "\r\n",
        "1. [Select or create a GCP project](https://console.cloud.google.com/cloud-resource-manager). When you first create an account, you get a $300 free credit towards your compute/storage costs.\r\n",
        "\r\n",
        "2. [Make sure that billing is enabled for your project.](https://cloud.google.com/billing/docs/how-to/modify-project)\r\n",
        "\r\n",
        "3. [Enable the Vertex APIs and Compute Engine APIs.](https://console.cloud.google.com/flows/enableapi?apiid=ml.googleapis.com,compute_component)\r\n",
        "\r\n",
        "4. [Google Cloud SDK](https://cloud.google.com/sdk) is already installed in Google Cloud Notebooks.\r\n",
        "\r\n",
        "5. Enter your project ID in the cell below. Then run the  cell to make sure the\r\n",
        "Cloud SDK uses the right project for all the commands in this notebook.\r\n",
        "\r\n",
        "**Note**: Jupyter runs lines prefixed with `!` as shell commands, and it interpolates Python variables prefixed with `$` into these commands."
      ]
    },
    {
      "cell_type": "code",
      "execution_count": null,
      "metadata": {
        "id": "eidueLnCJjkJ"
      },
      "outputs": [],
      "source": [
        "PROJECT_ID = \"[your-project-id]\"  # @param {type:\"string\"}"
      ]
    },
    {
      "cell_type": "code",
      "execution_count": null,
      "metadata": {
        "id": "FFyaPu7Yj2X0"
      },
      "outputs": [],
      "source": [
        "if PROJECT_ID == \"\" or PROJECT_ID is None or PROJECT_ID == \"[your-project-id]\":\n",
        "    # Get your GCP project id from gcloud\n",
        "    shell_output = !gcloud config list --format 'value(core.project)' 2>/dev/null\n",
        "    PROJECT_ID = shell_output[0]\n",
        "    print(\"Project ID:\", PROJECT_ID)"
      ]
    },
    {
      "cell_type": "code",
      "execution_count": null,
      "metadata": {
        "id": "0UfsdLCEJjkJ"
      },
      "outputs": [],
      "source": [
        "! gcloud config set project $PROJECT_ID"
      ]
    },
    {
      "cell_type": "markdown",
      "metadata": {
        "id": "region"
      },
      "source": [
        "#### Region\n",
        "\n",
        "You can also change the `REGION` variable, which is used for operations\n",
        "throughout the rest of this notebook.  Below are regions supported for Vertex AI. We recommend when possible, to choose the region closest to you.\n",
        "\n",
        "- Americas: `us-central1`\n",
        "- Europe: `europe-west4`\n",
        "- Asia Pacific: `asia-east1`\n",
        "\n",
        "You cannot use a Multi-Regional Storage bucket for training with Vertex. Not all regions provide support for all Vertex services. For the latest support per region, see [Region support for Vertex AI services](https://cloud.google.com/vertex-ai/docs/general/locations)\n"
      ]
    },
    {
      "cell_type": "code",
      "execution_count": null,
      "metadata": {
        "id": "CTBlncfrJjkK"
      },
      "outputs": [],
      "source": [
        "REGION = \"us-central1\"  # @param {type: \"string\"}"
      ]
    },
    {
      "cell_type": "markdown",
      "metadata": {
        "id": "timestamp"
      },
      "source": [
        "#### Timestamp\n",
        "\n",
        "If you are in a live tutorial session, you might be using a shared test account or project. To avoid name collisions between users on resources created, you create a timestamp for each instance session, and append onto the name of resources which will be created in this tutorial.\n"
      ]
    },
    {
      "cell_type": "code",
      "execution_count": null,
      "metadata": {
        "id": "KKxStk5bJjkL"
      },
      "outputs": [],
      "source": [
        "from datetime import datetime\n",
        "\n",
        "TIMESTAMP = datetime.now().strftime(\"%Y%m%d%H%M%S\")"
      ]
    },
    {
      "cell_type": "markdown",
      "metadata": {
        "id": "qRj4gV6eSVeC"
      },
      "source": [
        "### Authenticate your GCP account\n",
        "\n",
        "**If you are using Google Cloud Notebooks**, your environment is already\n",
        "authenticated. Skip this step.\n",
        "\n",
        "*Note: If you are on an Vertex notebook and run the cell, the cell knows to skip executing the authentication steps.*\n"
      ]
    },
    {
      "cell_type": "code",
      "execution_count": null,
      "metadata": {
        "id": "q96G-uqtukhC"
      },
      "outputs": [],
      "source": [
        "import os\n",
        "import sys\n",
        "\n",
        "# If you are running this notebook in Colab, run this cell and follow the\n",
        "# instructions to authenticate your Google Cloud account. This provides access\n",
        "# to your Cloud Storage bucket and lets you submit training jobs and prediction\n",
        "# requests.\n",
        "\n",
        "# If on Vertex, then don't execute this code\n",
        "if not os.path.exists(\"/opt/deeplearning/metadata/env_version\"):\n",
        "    if \"google.colab\" in sys.modules:\n",
        "        from google.colab import auth as google_auth\n",
        "\n",
        "        google_auth.authenticate_user()\n",
        "\n",
        "    # If you are running this tutorial in a notebook locally, replace the string\n",
        "    # below with the path to your service account key and run this cell to\n",
        "    # authenticate your Google Cloud account.\n",
        "    else:\n",
        "        %env GOOGLE_APPLICATION_CREDENTIALS your_path_to_credentials.json\n",
        "\n",
        "    # Log in to your account on Google Cloud\n",
        "    ! gcloud auth login"
      ]
    },
    {
      "cell_type": "markdown",
      "metadata": {
        "id": "bucket:batch_prediction"
      },
      "source": [
        "### Create a Cloud Storage bucket\n",
        "\n",
        "**The following steps are required, regardless of your notebook environment.**\n",
        "\n",
        "This tutorial is designed to use training data that is in a public Cloud Storage bucket and a local Cloud Storage bucket for your batch predictions. You may alternatively use your own training data that you have stored in a local Cloud Storage bucket.\n",
        "\n",
        "Set the name of your Cloud Storage bucket below. It must be unique across all Cloud Storage buckets.\n"
      ]
    },
    {
      "cell_type": "code",
      "execution_count": null,
      "metadata": {
        "id": "su5Bpxk4JjkL"
      },
      "outputs": [],
      "source": [
        "BUCKET_NAME = \"[your-bucket-name]\"  # @param {type:\"string\"}"
      ]
    },
    {
      "cell_type": "code",
      "execution_count": null,
      "metadata": {
        "id": "mAwgOP4BJjkM"
      },
      "outputs": [],
      "source": [
        "if BUCKET_NAME == \"\" or BUCKET_NAME is None or BUCKET_NAME == \"[your-bucket-name]\":\n",
        "    BUCKET_NAME = PROJECT_ID + \"aip-\" + TIMESTAMP"
      ]
    },
    {
      "cell_type": "markdown",
      "metadata": {
        "id": "create_bucket"
      },
      "source": [
        "**Only if your bucket doesn't already exist**: Run the following cell to create your Cloud Storage bucket.\n"
      ]
    },
    {
      "cell_type": "code",
      "execution_count": null,
      "metadata": {
        "id": "QVRixM4oJjkM"
      },
      "outputs": [],
      "source": [
        "! gsutil mb -l $REGION gs://$BUCKET_NAME"
      ]
    },
    {
      "cell_type": "markdown",
      "metadata": {
        "id": "validate_bucket"
      },
      "source": [
        "Finally, validate access to your Cloud Storage bucket by examining its contents:\n"
      ]
    },
    {
      "cell_type": "code",
      "execution_count": null,
      "metadata": {
        "id": "aqDptKpYJjkN"
      },
      "outputs": [],
      "source": [
        "! gsutil ls -al gs://$BUCKET_NAME"
      ]
    },
    {
      "cell_type": "markdown",
      "metadata": {
        "id": "setup_vars"
      },
      "source": [
        "### Set up variables\n",
        "\n",
        "Next, set up some variables used throughout the tutorial.\n",
        "### Import libraries and define constants\n"
      ]
    },
    {
      "cell_type": "markdown",
      "metadata": {
        "id": "import_aip"
      },
      "source": [
        "#### Import Vertex SDK\n",
        "\n",
        "Import the Vertex SDK into our Python environment.\n"
      ]
    },
    {
      "cell_type": "code",
      "execution_count": null,
      "metadata": {
        "id": "lghaBjtFj2X5"
      },
      "outputs": [],
      "source": [
        "import os\n",
        "import sys\n",
        "import time\n",
        "\n",
        "from google.cloud.aiplatform import gapic as aip\n",
        "from google.protobuf import json_format\n",
        "from google.protobuf.json_format import MessageToJson, ParseDict\n",
        "from google.protobuf.struct_pb2 import Struct, Value"
      ]
    },
    {
      "cell_type": "markdown",
      "metadata": {
        "id": "aip_constants"
      },
      "source": [
        "#### Vertex AI constants\n",
        "\n",
        "Setup up the following constants for Vertex AI:\n",
        "\n",
        "- `API_ENDPOINT`: The Vertex AI API service endpoint for dataset, model, job, pipeline and endpoint services.\n",
        "- `API_PREDICT_ENDPOINT`: The Vertex AI API service endpoint for prediction.\n",
        "- `PARENT`: The Vertex AI location root path for dataset, model and endpoint resources.\n"
      ]
    },
    {
      "cell_type": "code",
      "execution_count": null,
      "metadata": {
        "id": "IhYGcaMMj2X6"
      },
      "outputs": [],
      "source": [
        "# API Endpoint\n",
        "API_ENDPOINT = \"{}-aiplatform.googleapis.com\".format(REGION)\n",
        "\n",
        "# Vertex AI location root path for your dataset, model and endpoint resources\n",
        "PARENT = \"projects/\" + PROJECT_ID + \"/locations/\" + REGION"
      ]
    },
    {
      "cell_type": "markdown",
      "metadata": {
        "id": "automl_constants:automl"
      },
      "source": [
        "#### AutoML constants\n",
        "\n",
        "Next, setup constants unique to AutoML Table classification datasets and training:\n",
        "\n",
        "- Dataset Schemas: Tells the managed dataset service which type of dataset it is.\n",
        "- Data Labeling (Annotations) Schemas: Tells the managed dataset service how the data is labeled (annotated).\n",
        "- Dataset Training Schemas: Tells the Vertex AI Pipelines service the task (e.g., classification) to train the model for.\n"
      ]
    },
    {
      "cell_type": "code",
      "execution_count": null,
      "metadata": {
        "id": "iTjEIqJ4j2X6"
      },
      "outputs": [],
      "source": [
        "# Tabular Dataset type\n",
        "TABLE_SCHEMA = \"google-cloud-aiplatform/schema/dataset/metadata/tables_1.0.0.yaml\"\n",
        "# Tabular Labeling type\n",
        "IMPORT_SCHEMA_TABLE_CLASSIFICATION = (\n",
        "    \"gs://google-cloud-aiplatform/schema/dataset/ioformat/table_io_format_1.0.0.yaml\"\n",
        ")\n",
        "# Tabular Training task\n",
        "TRAINING_TABLE_CLASSIFICATION_SCHEMA = \"gs://google-cloud-aiplatform/schema/trainingjob/definition/automl_tables_1.0.0.yaml\""
      ]
    },
    {
      "cell_type": "markdown",
      "metadata": {
        "id": "clients"
      },
      "source": [
        "## Clients\n",
        "\n",
        "The Vertex SDK works as a client/server model. On your side (the Python script) you will create a client that sends requests and receives responses from the server (Vertex).\n",
        "\n",
        "You will use several clients in this tutorial, so set them all up upfront.\n",
        "\n",
        "- Dataset Service for managed datasets.\n",
        "- Model Service for managed models.\n",
        "- Pipeline Service for training.\n",
        "- Endpoint Service for deployment.\n",
        "- Job Service for batch jobs and custom training.\n",
        "- Prediction Service for serving. *Note*: Prediction has a different service endpoint.\n"
      ]
    },
    {
      "cell_type": "code",
      "execution_count": null,
      "metadata": {
        "id": "PclAcK_rj2X7"
      },
      "outputs": [],
      "source": [
        "# client options same for all services\n",
        "client_options = {\"api_endpoint\": API_ENDPOINT}\n",
        "\n",
        "\n",
        "def create_dataset_client():\n",
        "    client = aip.DatasetServiceClient(client_options=client_options)\n",
        "    return client\n",
        "\n",
        "\n",
        "def create_model_client():\n",
        "    client = aip.ModelServiceClient(client_options=client_options)\n",
        "    return client\n",
        "\n",
        "\n",
        "def create_pipeline_client():\n",
        "    client = aip.PipelineServiceClient(client_options=client_options)\n",
        "    return client\n",
        "\n",
        "\n",
        "def create_endpoint_client():\n",
        "    client = aip.EndpointServiceClient(client_options=client_options)\n",
        "    return client\n",
        "\n",
        "\n",
        "def create_prediction_client():\n",
        "    client = aip.PredictionServiceClient(client_options=client_options)\n",
        "    return client\n",
        "\n",
        "\n",
        "def create_job_client():\n",
        "    client = aip.JobServiceClient(client_options=client_options)\n",
        "    return client\n",
        "\n",
        "\n",
        "clients = {}\n",
        "clients[\"dataset\"] = create_dataset_client()\n",
        "clients[\"model\"] = create_model_client()\n",
        "clients[\"pipeline\"] = create_pipeline_client()\n",
        "clients[\"endpoint\"] = create_endpoint_client()\n",
        "clients[\"prediction\"] = create_prediction_client()\n",
        "clients[\"job\"] = create_job_client()\n",
        "\n",
        "for client in clients.items():\n",
        "    print(client)"
      ]
    },
    {
      "cell_type": "code",
      "execution_count": null,
      "metadata": {
        "id": "KY5WZL59j2X8"
      },
      "outputs": [],
      "source": [
        "IMPORT_FILE = \"gs://cloud-ml-tables-data/bank-marketing.csv\""
      ]
    },
    {
      "cell_type": "code",
      "execution_count": null,
      "metadata": {
        "id": "_6Eun5MoSVfT"
      },
      "outputs": [],
      "source": [
        "! gsutil cat $IMPORT_FILE | head -n 10"
      ]
    },
    {
      "cell_type": "markdown",
      "metadata": {
        "id": "endpoints_undeploymodel:migration,new,response"
      },
      "source": [
        "*Example output*:\n",
        "```\n",
        "Age,Job,MaritalStatus,Education,Default,Balance,Housing,Loan,Contact,Day,Month,Duration,Campaign,PDays,Previous,POutcome,Deposit\n",
        "58,management,married,tertiary,no,2143,yes,no,unknown,5,may,261,1,-1,0,unknown,1\n",
        "44,technician,single,secondary,no,29,yes,no,unknown,5,may,151,1,-1,0,unknown,1\n",
        "33,entrepreneur,married,secondary,no,2,yes,yes,unknown,5,may,76,1,-1,0,unknown,1\n",
        "47,blue-collar,married,unknown,no,1506,yes,no,unknown,5,may,92,1,-1,0,unknown,1\n",
        "33,unknown,single,unknown,no,1,no,no,unknown,5,may,198,1,-1,0,unknown,1\n",
        "35,management,married,tertiary,no,231,yes,no,unknown,5,may,139,1,-1,0,unknown,1\n",
        "28,management,single,tertiary,no,447,yes,yes,unknown,5,may,217,1,-1,0,unknown,1\n",
        "42,entrepreneur,divorced,tertiary,yes,2,yes,no,unknown,5,may,380,1,-1,0,unknown,1\n",
        "58,retired,married,primary,no,121,yes,no,unknown,5,may,50,1,-1,0,unknown,1\n",
        "```\n"
      ]
    },
    {
      "cell_type": "markdown",
      "metadata": {
        "id": "text_create_dataset:migration"
      },
      "source": [
        "## Create a dataset"
      ]
    },
    {
      "cell_type": "markdown",
      "metadata": {
        "id": "text_datasets_create:migration,new"
      },
      "source": [
        "### [projects.locations.datasets.create](https://cloud.google.com/vertex-ai/docs/reference/rest/v1beta1/projects.locations.datasets/create)"
      ]
    },
    {
      "cell_type": "markdown",
      "metadata": {
        "id": "YNiPLLgtj2X-"
      },
      "source": [
        "#### Request"
      ]
    },
    {
      "cell_type": "code",
      "execution_count": null,
      "metadata": {
        "id": "GCdGmc3bj2X-"
      },
      "outputs": [],
      "source": [
        "DATA_SCHEMA = TABLE_SCHEMA\n",
        "\n",
        "metadata = {\n",
        "    \"input_config\": {\n",
        "        \"gcs_source\": {\n",
        "            \"uri\": [IMPORT_FILE],\n",
        "        }\n",
        "    }\n",
        "}\n",
        "\n",
        "dataset = {\n",
        "    \"display_name\": \"bank_\" + TIMESTAMP,\n",
        "    \"metadata_schema_uri\": \"gs://\" + DATA_SCHEMA,\n",
        "    \"metadata\": json_format.ParseDict(metadata, Value()),\n",
        "}\n",
        "\n",
        "print(\n",
        "    MessageToJson(\n",
        "        aip.CreateDatasetRequest(\n",
        "            parent=PARENT,\n",
        "            dataset=dataset,\n",
        "        ).__dict__[\"_pb\"]\n",
        "    )\n",
        ")"
      ]
    },
    {
      "cell_type": "markdown",
      "metadata": {
        "id": "nHS5ZJE2SVfp"
      },
      "source": [
        "*Example output*:\n",
        "```\n",
        "{\n",
        "  \"parent\": \"projects/migration-ucaip-training/locations/us-central1\",\n",
        "  \"dataset\": {\n",
        "    \"displayName\": \"bank_20210226015209\",\n",
        "    \"metadataSchemaUri\": \"gs://google-cloud-aiplatform/schema/dataset/metadata/tables_1.0.0.yaml\",\n",
        "    \"metadata\": {\n",
        "      \"input_config\": {\n",
        "        \"gcs_source\": {\n",
        "          \"uri\": [\n",
        "            \"gs://cloud-ml-tables-data/bank-marketing.csv\"\n",
        "          ]\n",
        "        }\n",
        "      }\n",
        "    }\n",
        "  }\n",
        "}\n",
        "```\n"
      ]
    },
    {
      "cell_type": "markdown",
      "metadata": {
        "id": "jgSHrqOTj2X-"
      },
      "source": [
        "#### Call"
      ]
    },
    {
      "cell_type": "code",
      "execution_count": null,
      "metadata": {
        "id": "r38jteRRj2X-"
      },
      "outputs": [],
      "source": [
        "request = clients[\"dataset\"].create_dataset(parent=PARENT, dataset=dataset)"
      ]
    },
    {
      "cell_type": "markdown",
      "metadata": {
        "id": "tEqBFRvOj2X_"
      },
      "source": [
        "#### Response"
      ]
    },
    {
      "cell_type": "code",
      "execution_count": null,
      "metadata": {
        "id": "pqr16orDj2X_"
      },
      "outputs": [],
      "source": [
        "result = request.result()\n",
        "\n",
        "print(MessageToJson(result.__dict__[\"_pb\"]))"
      ]
    },
    {
      "cell_type": "markdown",
      "metadata": {
        "id": "FxhTCGqHSVfx"
      },
      "source": [
        "*Example output*:\n",
        "```\n",
        "{\n",
        "  \"name\": \"projects/116273516712/locations/us-central1/datasets/7748812594797871104\",\n",
        "  \"displayName\": \"bank_20210226015209\",\n",
        "  \"metadataSchemaUri\": \"gs://google-cloud-aiplatform/schema/dataset/metadata/tabular_1.0.0.yaml\",\n",
        "  \"labels\": {\n",
        "    \"aiplatform.googleapis.com/dataset_metadata_schema\": \"TABLE\"\n",
        "  },\n",
        "  \"metadata\": {\n",
        "    \"inputConfig\": {\n",
        "      \"gcsSource\": {\n",
        "        \"uri\": [\n",
        "          \"gs://cloud-ml-tables-data/bank-marketing.csv\"\n",
        "        ]\n",
        "      }\n",
        "    }\n",
        "  }\n",
        "}\n",
        "```\n"
      ]
    },
    {
      "cell_type": "code",
      "execution_count": null,
      "metadata": {
        "id": "hdLkCw9fSVf0"
      },
      "outputs": [],
      "source": [
        "# The full unique ID for the dataset\n",
        "dataset_id = result.name\n",
        "# The short numeric ID for the dataset\n",
        "dataset_short_id = dataset_id.split(\"/\")[-1]\n",
        "\n",
        "print(dataset_id)"
      ]
    },
    {
      "cell_type": "markdown",
      "metadata": {
        "id": "text_create_and_deploy_model:migration"
      },
      "source": [
        "## Train a model"
      ]
    },
    {
      "cell_type": "markdown",
      "metadata": {
        "id": "0oqIBOSnJjkW"
      },
      "source": [
        "### [projects.locations.trainingPipelines.create](https://cloud.google.com/vertex-ai/docs/reference/rest/v1beta1/projects.locations.trainingPipelines/create)"
      ]
    },
    {
      "cell_type": "markdown",
      "metadata": {
        "id": "FPUS2ZXKj2X_"
      },
      "source": [
        "#### Request"
      ]
    },
    {
      "cell_type": "code",
      "execution_count": null,
      "metadata": {
        "id": "ddejk5QJj2YA"
      },
      "outputs": [],
      "source": [
        "TRAINING_SCHEMA = TRAINING_TABLE_CLASSIFICATION_SCHEMA\n",
        "\n",
        "TRANSFORMATIONS = [\n",
        "    {\"auto\": {\"column_name\": \"Age\"}},\n",
        "    {\"auto\": {\"column_name\": \"Job\"}},\n",
        "    {\"auto\": {\"column_name\": \"MaritalStatus\"}},\n",
        "    {\"auto\": {\"column_name\": \"Education\"}},\n",
        "    {\"auto\": {\"column_name\": \"Default\"}},\n",
        "    {\"auto\": {\"column_name\": \"Balance\"}},\n",
        "    {\"auto\": {\"column_name\": \"Housing\"}},\n",
        "    {\"auto\": {\"column_name\": \"Loan\"}},\n",
        "    {\"auto\": {\"column_name\": \"Contact\"}},\n",
        "    {\"auto\": {\"column_name\": \"Day\"}},\n",
        "    {\"auto\": {\"column_name\": \"Month\"}},\n",
        "    {\"auto\": {\"column_name\": \"Duration\"}},\n",
        "    {\"auto\": {\"column_name\": \"Campaign\"}},\n",
        "    {\"auto\": {\"column_name\": \"PDays\"}},\n",
        "    {\"auto\": {\"column_name\": \"POutcome\"}},\n",
        "]\n",
        "\n",
        "task = Value(\n",
        "    struct_value=Struct(\n",
        "        fields={\n",
        "            \"disable_early_stopping\": Value(bool_value=False),\n",
        "            \"prediction_type\": Value(string_value=\"regression\"),\n",
        "            \"target_column\": Value(string_value=\"Deposit\"),\n",
        "            \"train_budget_milli_node_hours\": Value(number_value=1000),\n",
        "            \"transformations\": json_format.ParseDict(TRANSFORMATIONS, Value()),\n",
        "        }\n",
        "    )\n",
        ")\n",
        "\n",
        "training_pipeline = {\n",
        "    \"display_name\": \"bank_\" + TIMESTAMP,\n",
        "    \"input_data_config\": {\n",
        "        \"dataset_id\": dataset_short_id,\n",
        "        \"fraction_split\": {\n",
        "            \"training_fraction\": 0.8,\n",
        "            \"validation_fraction\": 0.1,\n",
        "            \"test_fraction\": 0.1,\n",
        "        },\n",
        "    },\n",
        "    \"model_to_upload\": {\n",
        "        \"display_name\": \"flowers_\" + TIMESTAMP,\n",
        "    },\n",
        "    \"training_task_definition\": TRAINING_SCHEMA,\n",
        "    \"training_task_inputs\": task,\n",
        "}\n",
        "\n",
        "print(\n",
        "    MessageToJson(\n",
        "        aip.CreateTrainingPipelineRequest(\n",
        "            parent=PARENT,\n",
        "            training_pipeline=training_pipeline,\n",
        "        ).__dict__[\"_pb\"]\n",
        "    )\n",
        ")"
      ]
    },
    {
      "cell_type": "markdown",
      "metadata": {
        "id": "a81NEJ5sSVf5"
      },
      "source": [
        "*Example output*:\n",
        "```\n",
        "{\n",
        "  \"parent\": \"projects/migration-ucaip-training/locations/us-central1\",\n",
        "  \"trainingPipeline\": {\n",
        "    \"displayName\": \"bank_20210226015209\",\n",
        "    \"inputDataConfig\": {\n",
        "      \"datasetId\": \"7748812594797871104\",\n",
        "      \"fractionSplit\": {\n",
        "        \"trainingFraction\": 0.8,\n",
        "        \"validationFraction\": 0.1,\n",
        "        \"testFraction\": 0.1\n",
        "      }\n",
        "    },\n",
        "    \"trainingTaskDefinition\": \"gs://google-cloud-aiplatform/schema/trainingjob/definition/automl_tables_1.0.0.yaml\",\n",
        "    \"trainingTaskInputs\": {\n",
        "      \"transformations\": [\n",
        "        {\n",
        "          \"auto\": {\n",
        "            \"column_name\": \"Age\"\n",
        "          }\n",
        "        },\n",
        "        {\n",
        "          \"auto\": {\n",
        "            \"column_name\": \"Job\"\n",
        "          }\n",
        "        },\n",
        "        {\n",
        "          \"auto\": {\n",
        "            \"column_name\": \"MaritalStatus\"\n",
        "          }\n",
        "        },\n",
        "        {\n",
        "          \"auto\": {\n",
        "            \"column_name\": \"Education\"\n",
        "          }\n",
        "        },\n",
        "        {\n",
        "          \"auto\": {\n",
        "            \"column_name\": \"Default\"\n",
        "          }\n",
        "        },\n",
        "        {\n",
        "          \"auto\": {\n",
        "            \"column_name\": \"Balance\"\n",
        "          }\n",
        "        },\n",
        "        {\n",
        "          \"auto\": {\n",
        "            \"column_name\": \"Housing\"\n",
        "          }\n",
        "        },\n",
        "        {\n",
        "          \"auto\": {\n",
        "            \"column_name\": \"Loan\"\n",
        "          }\n",
        "        },\n",
        "        {\n",
        "          \"auto\": {\n",
        "            \"column_name\": \"Contact\"\n",
        "          }\n",
        "        },\n",
        "        {\n",
        "          \"auto\": {\n",
        "            \"column_name\": \"Day\"\n",
        "          }\n",
        "        },\n",
        "        {\n",
        "          \"auto\": {\n",
        "            \"column_name\": \"Month\"\n",
        "          }\n",
        "        },\n",
        "        {\n",
        "          \"auto\": {\n",
        "            \"column_name\": \"Duration\"\n",
        "          }\n",
        "        },\n",
        "        {\n",
        "          \"auto\": {\n",
        "            \"column_name\": \"Campaign\"\n",
        "          }\n",
        "        },\n",
        "        {\n",
        "          \"auto\": {\n",
        "            \"column_name\": \"PDays\"\n",
        "          }\n",
        "        },\n",
        "        {\n",
        "          \"auto\": {\n",
        "            \"column_name\": \"POutcome\"\n",
        "          }\n",
        "        }\n",
        "      ],\n",
        "      \"prediction_type\": \"regression\",\n",
        "      \"disable_early_stopping\": false,\n",
        "      \"train_budget_milli_node_hours\": 1000.0,\n",
        "      \"target_column\": \"Deposit\"\n",
        "    },\n",
        "    \"modelToUpload\": {\n",
        "      \"displayName\": \"flowers_20210226015209\"\n",
        "    }\n",
        "  }\n",
        "}\n",
        "```\n"
      ]
    },
    {
      "cell_type": "markdown",
      "metadata": {
        "id": "1Y3qKNmqj2YA"
      },
      "source": [
        "#### Call"
      ]
    },
    {
      "cell_type": "code",
      "execution_count": null,
      "metadata": {
        "id": "hnO0tFVcj2YA"
      },
      "outputs": [],
      "source": [
        "request = clients[\"pipeline\"].create_training_pipeline(\n",
        "    parent=PARENT, training_pipeline=training_pipeline\n",
        ")"
      ]
    },
    {
      "cell_type": "markdown",
      "metadata": {
        "id": "IV19l-Oej2YA"
      },
      "source": [
        "#### Response"
      ]
    },
    {
      "cell_type": "code",
      "execution_count": null,
      "metadata": {
        "id": "w9dBuPEGj2YA"
      },
      "outputs": [],
      "source": [
        "print(MessageToJson(request.__dict__[\"_pb\"]))"
      ]
    },
    {
      "cell_type": "markdown",
      "metadata": {
        "id": "YqhSktlTSVf9"
      },
      "source": [
        "*Example output*:\n",
        "```\n",
        "{\n",
        "  \"name\": \"projects/116273516712/locations/us-central1/trainingPipelines/3147717072369221632\",\n",
        "  \"displayName\": \"bank_20210226015209\",\n",
        "  \"inputDataConfig\": {\n",
        "    \"datasetId\": \"7748812594797871104\",\n",
        "    \"fractionSplit\": {\n",
        "      \"trainingFraction\": 0.8,\n",
        "      \"validationFraction\": 0.1,\n",
        "      \"testFraction\": 0.1\n",
        "    }\n",
        "  },\n",
        "  \"trainingTaskDefinition\": \"gs://google-cloud-aiplatform/schema/trainingjob/definition/automl_tables_1.0.0.yaml\",\n",
        "  \"trainingTaskInputs\": {\n",
        "    \"targetColumn\": \"Deposit\",\n",
        "    \"trainBudgetMilliNodeHours\": \"1000\",\n",
        "    \"transformations\": [\n",
        "      {\n",
        "        \"auto\": {\n",
        "          \"columnName\": \"Age\"\n",
        "        }\n",
        "      },\n",
        "      {\n",
        "        \"auto\": {\n",
        "          \"columnName\": \"Job\"\n",
        "        }\n",
        "      },\n",
        "      {\n",
        "        \"auto\": {\n",
        "          \"columnName\": \"MaritalStatus\"\n",
        "        }\n",
        "      },\n",
        "      {\n",
        "        \"auto\": {\n",
        "          \"columnName\": \"Education\"\n",
        "        }\n",
        "      },\n",
        "      {\n",
        "        \"auto\": {\n",
        "          \"columnName\": \"Default\"\n",
        "        }\n",
        "      },\n",
        "      {\n",
        "        \"auto\": {\n",
        "          \"columnName\": \"Balance\"\n",
        "        }\n",
        "      },\n",
        "      {\n",
        "        \"auto\": {\n",
        "          \"columnName\": \"Housing\"\n",
        "        }\n",
        "      },\n",
        "      {\n",
        "        \"auto\": {\n",
        "          \"columnName\": \"Loan\"\n",
        "        }\n",
        "      },\n",
        "      {\n",
        "        \"auto\": {\n",
        "          \"columnName\": \"Contact\"\n",
        "        }\n",
        "      },\n",
        "      {\n",
        "        \"auto\": {\n",
        "          \"columnName\": \"Day\"\n",
        "        }\n",
        "      },\n",
        "      {\n",
        "        \"auto\": {\n",
        "          \"columnName\": \"Month\"\n",
        "        }\n",
        "      },\n",
        "      {\n",
        "        \"auto\": {\n",
        "          \"columnName\": \"Duration\"\n",
        "        }\n",
        "      },\n",
        "      {\n",
        "        \"auto\": {\n",
        "          \"columnName\": \"Campaign\"\n",
        "        }\n",
        "      },\n",
        "      {\n",
        "        \"auto\": {\n",
        "          \"columnName\": \"PDays\"\n",
        "        }\n",
        "      },\n",
        "      {\n",
        "        \"auto\": {\n",
        "          \"columnName\": \"POutcome\"\n",
        "        }\n",
        "      }\n",
        "    ],\n",
        "    \"predictionType\": \"regression\"\n",
        "  },\n",
        "  \"modelToUpload\": {\n",
        "    \"displayName\": \"flowers_20210226015209\"\n",
        "  },\n",
        "  \"state\": \"PIPELINE_STATE_PENDING\",\n",
        "  \"createTime\": \"2021-02-26T01:57:51.364312Z\",\n",
        "  \"updateTime\": \"2021-02-26T01:57:51.364312Z\"\n",
        "}\n",
        "```\n"
      ]
    },
    {
      "cell_type": "code",
      "execution_count": null,
      "metadata": {
        "id": "3MXUQ1LuSVf9"
      },
      "outputs": [],
      "source": [
        "# The full unique ID for the training pipeline\n",
        "training_pipeline_id = request.name\n",
        "# The short numeric ID for the training pipeline\n",
        "training_pipeline_short_id = training_pipeline_id.split(\"/\")[-1]\n",
        "\n",
        "print(training_pipeline_id)"
      ]
    },
    {
      "cell_type": "markdown",
      "metadata": {
        "id": "QJsV1xoSJjkW"
      },
      "source": [
        "### [projects.locations.trainingPipelines.get](https://cloud.google.com/vertex-ai/docs/reference/rest/v1beta1/projects.locations.trainingPipelines/get)"
      ]
    },
    {
      "cell_type": "markdown",
      "metadata": {
        "id": "Pdd4J3u0j2YB"
      },
      "source": [
        "#### Call"
      ]
    },
    {
      "cell_type": "code",
      "execution_count": null,
      "metadata": {
        "id": "RT-IcGfsj2YB"
      },
      "outputs": [],
      "source": [
        "request = clients[\"pipeline\"].get_training_pipeline(name=training_pipeline_id)"
      ]
    },
    {
      "cell_type": "markdown",
      "metadata": {
        "id": "N211vNIJj2YB"
      },
      "source": [
        "#### Response"
      ]
    },
    {
      "cell_type": "code",
      "execution_count": null,
      "metadata": {
        "id": "TKY_2wvsj2YB"
      },
      "outputs": [],
      "source": [
        "print(MessageToJson(request.__dict__[\"_pb\"]))"
      ]
    },
    {
      "cell_type": "markdown",
      "metadata": {
        "id": "gDU5CGQbSVgP"
      },
      "source": [
        "*Example output*:\n",
        "```\n",
        "{\n",
        "  \"name\": \"projects/116273516712/locations/us-central1/trainingPipelines/3147717072369221632\",\n",
        "  \"displayName\": \"bank_20210226015209\",\n",
        "  \"inputDataConfig\": {\n",
        "    \"datasetId\": \"7748812594797871104\",\n",
        "    \"fractionSplit\": {\n",
        "      \"trainingFraction\": 0.8,\n",
        "      \"validationFraction\": 0.1,\n",
        "      \"testFraction\": 0.1\n",
        "    }\n",
        "  },\n",
        "  \"trainingTaskDefinition\": \"gs://google-cloud-aiplatform/schema/trainingjob/definition/automl_tables_1.0.0.yaml\",\n",
        "  \"trainingTaskInputs\": {\n",
        "    \"trainBudgetMilliNodeHours\": \"1000\",\n",
        "    \"transformations\": [\n",
        "      {\n",
        "        \"auto\": {\n",
        "          \"columnName\": \"Age\"\n",
        "        }\n",
        "      },\n",
        "      {\n",
        "        \"auto\": {\n",
        "          \"columnName\": \"Job\"\n",
        "        }\n",
        "      },\n",
        "      {\n",
        "        \"auto\": {\n",
        "          \"columnName\": \"MaritalStatus\"\n",
        "        }\n",
        "      },\n",
        "      {\n",
        "        \"auto\": {\n",
        "          \"columnName\": \"Education\"\n",
        "        }\n",
        "      },\n",
        "      {\n",
        "        \"auto\": {\n",
        "          \"columnName\": \"Default\"\n",
        "        }\n",
        "      },\n",
        "      {\n",
        "        \"auto\": {\n",
        "          \"columnName\": \"Balance\"\n",
        "        }\n",
        "      },\n",
        "      {\n",
        "        \"auto\": {\n",
        "          \"columnName\": \"Housing\"\n",
        "        }\n",
        "      },\n",
        "      {\n",
        "        \"auto\": {\n",
        "          \"columnName\": \"Loan\"\n",
        "        }\n",
        "      },\n",
        "      {\n",
        "        \"auto\": {\n",
        "          \"columnName\": \"Contact\"\n",
        "        }\n",
        "      },\n",
        "      {\n",
        "        \"auto\": {\n",
        "          \"columnName\": \"Day\"\n",
        "        }\n",
        "      },\n",
        "      {\n",
        "        \"auto\": {\n",
        "          \"columnName\": \"Month\"\n",
        "        }\n",
        "      },\n",
        "      {\n",
        "        \"auto\": {\n",
        "          \"columnName\": \"Duration\"\n",
        "        }\n",
        "      },\n",
        "      {\n",
        "        \"auto\": {\n",
        "          \"columnName\": \"Campaign\"\n",
        "        }\n",
        "      },\n",
        "      {\n",
        "        \"auto\": {\n",
        "          \"columnName\": \"PDays\"\n",
        "        }\n",
        "      },\n",
        "      {\n",
        "        \"auto\": {\n",
        "          \"columnName\": \"POutcome\"\n",
        "        }\n",
        "      }\n",
        "    ],\n",
        "    \"targetColumn\": \"Deposit\",\n",
        "    \"predictionType\": \"regression\"\n",
        "  },\n",
        "  \"modelToUpload\": {\n",
        "    \"displayName\": \"flowers_20210226015209\"\n",
        "  },\n",
        "  \"state\": \"PIPELINE_STATE_PENDING\",\n",
        "  \"createTime\": \"2021-02-26T01:57:51.364312Z\",\n",
        "  \"updateTime\": \"2021-02-26T01:57:51.364312Z\"\n",
        "}\n",
        "```\n"
      ]
    },
    {
      "cell_type": "code",
      "execution_count": null,
      "metadata": {
        "id": "S3R6WFWBSVgQ"
      },
      "outputs": [],
      "source": [
        "while True:\n",
        "    response = clients[\"pipeline\"].get_training_pipeline(name=training_pipeline_id)\n",
        "    if response.state != aip.PipelineState.PIPELINE_STATE_SUCCEEDED:\n",
        "        print(\"Training job has not completed:\", response.state)\n",
        "        model_to_deploy_name = None\n",
        "        if response.state == aip.PipelineState.PIPELINE_STATE_FAILED:\n",
        "            break\n",
        "    else:\n",
        "        model_id = response.model_to_upload.name\n",
        "        print(\"Training Time:\", response.end_time - response.start_time)\n",
        "        break\n",
        "    time.sleep(60)\n",
        "\n",
        "print(model_id)"
      ]
    },
    {
      "cell_type": "markdown",
      "metadata": {
        "id": "text_evaluate_the_model:migration"
      },
      "source": [
        "## Evaluate the model"
      ]
    },
    {
      "cell_type": "markdown",
      "metadata": {
        "id": "BJNzhELXJjkY"
      },
      "source": [
        "### [projects.locations.models.evaluations.list](https://cloud.google.com/vertex-ai/docs/reference/rest/v1beta1/projects.locations.models.evaluations/list)"
      ]
    },
    {
      "cell_type": "markdown",
      "metadata": {
        "id": "6wNcEDinj2YC"
      },
      "source": [
        "#### Call"
      ]
    },
    {
      "cell_type": "code",
      "execution_count": null,
      "metadata": {
        "id": "Zh6bGAI9j2YC"
      },
      "outputs": [],
      "source": [
        "request = clients[\"model\"].list_model_evaluations(parent=model_id)"
      ]
    },
    {
      "cell_type": "markdown",
      "metadata": {
        "id": "ewprNQq_j2YC"
      },
      "source": [
        "#### Response"
      ]
    },
    {
      "cell_type": "code",
      "execution_count": null,
      "metadata": {
        "id": "AxEY7WFHj2YC"
      },
      "outputs": [],
      "source": [
        "import json\n",
        "\n",
        "model_evaluations = [json.loads(MessageToJson(me.__dict__[\"_pb\"])) for me in request]\n",
        "# The evaluation slice\n",
        "evaluation_slice = request.model_evaluations[0].name\n",
        "\n",
        "print(json.dumps(model_evaluations, indent=2))"
      ]
    },
    {
      "cell_type": "markdown",
      "metadata": {
        "id": "D8ddmURpSVgT"
      },
      "source": [
        "*Example output*:\n",
        "```\n",
        "[\n",
        "  {\n",
        "    \"name\": \"projects/116273516712/locations/us-central1/models/3936304403996213248/evaluations/6323797633322037836\",\n",
        "    \"metricsSchemaUri\": \"gs://google-cloud-aiplatform/schema/modelevaluation/regression_metrics_1.0.0.yaml\",\n",
        "    \"metrics\": {\n",
        "      \"rSquared\": 0.39799774,\n",
        "      \"meanAbsolutePercentageError\": 9.791032,\n",
        "      \"rootMeanSquaredError\": 0.24675915,\n",
        "      \"rootMeanSquaredLogError\": 0.10022795,\n",
        "      \"meanAbsoluteError\": 0.12842195\n",
        "    },\n",
        "    \"createTime\": \"2021-02-26T03:39:42.254525Z\"\n",
        "  }\n",
        "]\n",
        "```\n"
      ]
    },
    {
      "cell_type": "markdown",
      "metadata": {
        "id": "wr2JuU5nJjka"
      },
      "source": [
        "### [projects.locations.models.evaluations.get](https://cloud.google.com/vertex-ai/docs/reference/rest/v1beta1/projects.locations.models.evaluations/get)"
      ]
    },
    {
      "cell_type": "markdown",
      "metadata": {
        "id": "PqOnHBrKj2YD"
      },
      "source": [
        "#### Call"
      ]
    },
    {
      "cell_type": "code",
      "execution_count": null,
      "metadata": {
        "id": "20ZIQFkwj2YD"
      },
      "outputs": [],
      "source": [
        "request = clients[\"model\"].get_model_evaluation(name=evaluation_slice)"
      ]
    },
    {
      "cell_type": "markdown",
      "metadata": {
        "id": "jABbeZQDj2YD"
      },
      "source": [
        "#### Response"
      ]
    },
    {
      "cell_type": "code",
      "execution_count": null,
      "metadata": {
        "id": "A8qKdt2bj2YD"
      },
      "outputs": [],
      "source": [
        "print(MessageToJson(request.__dict__[\"_pb\"]))"
      ]
    },
    {
      "cell_type": "markdown",
      "metadata": {
        "id": "ZdZOaLg6SVgY"
      },
      "source": [
        "*Example output*:\n",
        "```\n",
        "{\n",
        "  \"name\": \"projects/116273516712/locations/us-central1/models/3936304403996213248/evaluations/6323797633322037836\",\n",
        "  \"metricsSchemaUri\": \"gs://google-cloud-aiplatform/schema/modelevaluation/regression_metrics_1.0.0.yaml\",\n",
        "  \"metrics\": {\n",
        "    \"meanAbsolutePercentageError\": 9.791032,\n",
        "    \"rootMeanSquaredLogError\": 0.10022795,\n",
        "    \"rSquared\": 0.39799774,\n",
        "    \"meanAbsoluteError\": 0.12842195,\n",
        "    \"rootMeanSquaredError\": 0.24675915\n",
        "  },\n",
        "  \"createTime\": \"2021-02-26T03:39:42.254525Z\"\n",
        "}\n",
        "```\n"
      ]
    },
    {
      "cell_type": "markdown",
      "metadata": {
        "id": "opns5WnQj2YD"
      },
      "source": [
        "## Make batch predictions"
      ]
    },
    {
      "cell_type": "markdown",
      "metadata": {
        "id": "RqHaBQODj2YE"
      },
      "source": [
        "### Make the batch input file\n",
        "\n",
        "Let's now make a batch input file, which you store in your local Cloud Storage bucket. The batch input file can be either CSV or JSONL. You will use CSV in this tutorial.ion on."
      ]
    },
    {
      "cell_type": "code",
      "execution_count": null,
      "metadata": {
        "id": "6J33oj4zj2YE"
      },
      "outputs": [],
      "source": [
        "! gsutil cat $IMPORT_FILE | head -n 1 > tmp.csv\n",
        "! gsutil cat $IMPORT_FILE | tail -n 10 >> tmp.csv\n",
        "\n",
        "! cut -d, -f1-16 tmp.csv > batch.csv\n",
        "\n",
        "gcs_input_uri = \"gs://\" + BUCKET_NAME + \"/test.csv\"\n",
        "\n",
        "! gsutil cp batch.csv $gcs_input_uri"
      ]
    },
    {
      "cell_type": "code",
      "execution_count": null,
      "metadata": {
        "id": "409yPtWkSVga"
      },
      "outputs": [],
      "source": [
        "! gsutil cat $gcs_input_uri"
      ]
    },
    {
      "cell_type": "markdown",
      "metadata": {
        "id": "lRG34PmTSVgd"
      },
      "source": [
        "*Example output*:\n",
        "```\n",
        "Age,Job,MaritalStatus,Education,Default,Balance,Housing,Loan,Contact,Day,Month,Duration,Campaign,PDays,Previous,POutcome\n",
        "53,management,married,tertiary,no,583,no,no,cellular,17,nov,226,1,184,4,success\n",
        "34,admin.,single,secondary,no,557,no,no,cellular,17,nov,224,1,-1,0,unknown\n",
        "23,student,single,tertiary,no,113,no,no,cellular,17,nov,266,1,-1,0,unknown\n",
        "73,retired,married,secondary,no,2850,no,no,cellular,17,nov,300,1,40,8,failure\n",
        "25,technician,single,secondary,no,505,no,yes,cellular,17,nov,386,2,-1,0,unknown\n",
        "51,technician,married,tertiary,no,825,no,no,cellular,17,nov,977,3,-1,0,unknown\n",
        "71,retired,divorced,primary,no,1729,no,no,cellular,17,nov,456,2,-1,0,unknown\n",
        "72,retired,married,secondary,no,5715,no,no,cellular,17,nov,1127,5,184,3,success\n",
        "57,blue-collar,married,secondary,no,668,no,no,telephone,17,nov,508,4,-1,0,unknown\n",
        "37,entrepreneur,married,secondary,no,2971,no,no,cellular,17,nov,361,2,188,11,other\n",
        "```\n"
      ]
    },
    {
      "cell_type": "markdown",
      "metadata": {
        "id": "9Fs3ltvZj2YE"
      },
      "source": [
        "### [projects.locations.batchPredictionJobs.create](https://cloud.google.com/vertex-ai/docs/reference/rest/v1beta1/projects.locations.batchPredictionJobs/create)"
      ]
    },
    {
      "cell_type": "markdown",
      "metadata": {
        "id": "ozaMOwdNJjkT"
      },
      "source": [
        "#### Request"
      ]
    },
    {
      "cell_type": "code",
      "execution_count": null,
      "metadata": {
        "id": "PIUXjvd5j2YE"
      },
      "outputs": [],
      "source": [
        "batch_prediction_job = {\n",
        "    \"display_name\": \"bank_\" + TIMESTAMP,\n",
        "    \"model\": model_id,\n",
        "    \"input_config\": {\n",
        "        \"instances_format\": \"csv\",\n",
        "        \"gcs_source\": {\n",
        "            \"uris\": [gcs_input_uri],\n",
        "        },\n",
        "    },\n",
        "    \"output_config\": {\n",
        "        \"predictions_format\": \"csv\",\n",
        "        \"gcs_destination\": {\n",
        "            \"output_uri_prefix\": \"gs://\" + f\"{BUCKET_NAME}/batch_output/\",\n",
        "        },\n",
        "    },\n",
        "    \"dedicated_resources\": {\n",
        "        \"machine_spec\": {\n",
        "            \"machine_type\": \"n1-standard-2\",\n",
        "            \"accelerator_count\": 0,\n",
        "        },\n",
        "        \"starting_replica_count\": 1,\n",
        "        \"max_replica_count\": 1,\n",
        "    },\n",
        "}\n",
        "\n",
        "print(\n",
        "    MessageToJson(\n",
        "        aip.CreateBatchPredictionJobRequest(\n",
        "            parent=PARENT,\n",
        "            batch_prediction_job=batch_prediction_job,\n",
        "        ).__dict__[\"_pb\"]\n",
        "    )\n",
        ")"
      ]
    },
    {
      "cell_type": "markdown",
      "metadata": {
        "id": "ZlIBPI0ySVgg"
      },
      "source": [
        "*Example output*:\n",
        "```\n",
        "{\n",
        "  \"parent\": \"projects/migration-ucaip-training/locations/us-central1\",\n",
        "  \"batchPredictionJob\": {\n",
        "    \"displayName\": \"bank_20210226015209\",\n",
        "    \"model\": \"projects/116273516712/locations/us-central1/models/3936304403996213248\",\n",
        "    \"inputConfig\": {\n",
        "      \"instancesFormat\": \"csv\",\n",
        "      \"gcsSource\": {\n",
        "        \"uris\": [\n",
        "          \"gs://migration-ucaip-trainingaip-20210226015209/test.csv\"\n",
        "        ]\n",
        "      }\n",
        "    },\n",
        "    \"outputConfig\": {\n",
        "      \"predictionsFormat\": \"csv\",\n",
        "      \"gcsDestination\": {\n",
        "        \"outputUriPrefix\": \"gs://migration-ucaip-trainingaip-20210226015209/batch_output/\"\n",
        "      }\n",
        "    },\n",
        "    \"dedicatedResources\": {\n",
        "      \"machineSpec\": {\n",
        "        \"machineType\": \"n1-standard-2\"\n",
        "      },\n",
        "      \"startingReplicaCount\": 1,\n",
        "      \"maxReplicaCount\": 1\n",
        "    }\n",
        "  }\n",
        "}\n",
        "```\n"
      ]
    },
    {
      "cell_type": "markdown",
      "metadata": {
        "id": "vHkuSZxkJjkT"
      },
      "source": [
        "#### Call"
      ]
    },
    {
      "cell_type": "code",
      "execution_count": null,
      "metadata": {
        "id": "B3uK5lMej2YF"
      },
      "outputs": [],
      "source": [
        "request = clients[\"job\"].create_batch_prediction_job(\n",
        "    parent=PARENT, batch_prediction_job=batch_prediction_job\n",
        ")"
      ]
    },
    {
      "cell_type": "markdown",
      "metadata": {
        "id": "FLqkZMD2JjkT"
      },
      "source": [
        "#### Response"
      ]
    },
    {
      "cell_type": "code",
      "execution_count": null,
      "metadata": {
        "id": "GuKiQ5e7j2YF"
      },
      "outputs": [],
      "source": [
        "print(MessageToJson(request.__dict__[\"_pb\"]))"
      ]
    },
    {
      "cell_type": "markdown",
      "metadata": {
        "id": "_DDEH1DJSVgk"
      },
      "source": [
        "*Example output*:\n",
        "```\n",
        "{\n",
        "  \"name\": \"projects/116273516712/locations/us-central1/batchPredictionJobs/4417450692310990848\",\n",
        "  \"displayName\": \"bank_20210226015209\",\n",
        "  \"model\": \"projects/116273516712/locations/us-central1/models/3936304403996213248\",\n",
        "  \"inputConfig\": {\n",
        "    \"instancesFormat\": \"csv\",\n",
        "    \"gcsSource\": {\n",
        "      \"uris\": [\n",
        "        \"gs://migration-ucaip-trainingaip-20210226015209/test.csv\"\n",
        "      ]\n",
        "    }\n",
        "  },\n",
        "  \"outputConfig\": {\n",
        "    \"predictionsFormat\": \"csv\",\n",
        "    \"gcsDestination\": {\n",
        "      \"outputUriPrefix\": \"gs://migration-ucaip-trainingaip-20210226015209/batch_output/\"\n",
        "    }\n",
        "  },\n",
        "  \"state\": \"JOB_STATE_PENDING\",\n",
        "  \"createTime\": \"2021-02-26T09:35:43.113270Z\",\n",
        "  \"updateTime\": \"2021-02-26T09:35:43.113270Z\"\n",
        "}\n",
        "```\n"
      ]
    },
    {
      "cell_type": "code",
      "execution_count": null,
      "metadata": {
        "id": "H-4_9jp_SVgl"
      },
      "outputs": [],
      "source": [
        "# The fully qualified ID for the batch job\n",
        "batch_job_id = request.name\n",
        "# The short numeric ID for the batch job\n",
        "batch_job_short_id = batch_job_id.split(\"/\")[-1]\n",
        "\n",
        "print(batch_job_id)"
      ]
    },
    {
      "cell_type": "markdown",
      "metadata": {
        "id": "EQL9wcWHj2YF"
      },
      "source": [
        "### [projects.locations.batchPredictionJobs.get](https://cloud.google.com/vertex-ai/docs/reference/rest/v1beta1/projects.locations.batchPredictionJobs/get)"
      ]
    },
    {
      "cell_type": "markdown",
      "metadata": {
        "id": "AXE_K1nHj2YF"
      },
      "source": [
        "#### Call"
      ]
    },
    {
      "cell_type": "code",
      "execution_count": null,
      "metadata": {
        "id": "i6osHKnnj2YG"
      },
      "outputs": [],
      "source": [
        "request = clients[\"job\"].get_batch_prediction_job(name=batch_job_id)"
      ]
    },
    {
      "cell_type": "markdown",
      "metadata": {
        "id": "j0-DnHS0j2YG"
      },
      "source": [
        "#### Response"
      ]
    },
    {
      "cell_type": "code",
      "execution_count": null,
      "metadata": {
        "id": "cK5Xz66oj2YG"
      },
      "outputs": [],
      "source": [
        "print(MessageToJson(request.__dict__[\"_pb\"]))"
      ]
    },
    {
      "cell_type": "markdown",
      "metadata": {
        "id": "2zM2M3jrSVgo"
      },
      "source": [
        "*Example output*:\n",
        "```\n",
        "{\n",
        "  \"name\": \"projects/116273516712/locations/us-central1/batchPredictionJobs/4417450692310990848\",\n",
        "  \"displayName\": \"bank_20210226015209\",\n",
        "  \"model\": \"projects/116273516712/locations/us-central1/models/3936304403996213248\",\n",
        "  \"inputConfig\": {\n",
        "    \"instancesFormat\": \"csv\",\n",
        "    \"gcsSource\": {\n",
        "      \"uris\": [\n",
        "        \"gs://migration-ucaip-trainingaip-20210226015209/test.csv\"\n",
        "      ]\n",
        "    }\n",
        "  },\n",
        "  \"outputConfig\": {\n",
        "    \"predictionsFormat\": \"csv\",\n",
        "    \"gcsDestination\": {\n",
        "      \"outputUriPrefix\": \"gs://migration-ucaip-trainingaip-20210226015209/batch_output/\"\n",
        "    }\n",
        "  },\n",
        "  \"state\": \"JOB_STATE_PENDING\",\n",
        "  \"createTime\": \"2021-02-26T09:35:43.113270Z\",\n",
        "  \"updateTime\": \"2021-02-26T09:35:43.113270Z\"\n",
        "}\n",
        "```\n"
      ]
    },
    {
      "cell_type": "code",
      "execution_count": null,
      "metadata": {
        "id": "batchpredictionjobs_get:migration,new,wait"
      },
      "outputs": [],
      "source": [
        "def get_latest_predictions(gcs_out_dir):\n",
        "    \"\"\" Get the latest prediction subfolder using the timestamp in the subfolder name\"\"\"\n",
        "    folders = !gsutil ls $gcs_out_dir\n",
        "    latest = \"\"\n",
        "    for folder in folders:\n",
        "        subfolder = folder.split(\"/\")[-2]\n",
        "        if subfolder.startswith(\"prediction-\"):\n",
        "            if subfolder > latest:\n",
        "                latest = folder[:-1]\n",
        "    return latest\n",
        "\n",
        "\n",
        "while True:\n",
        "    response = clients[\"job\"].get_batch_prediction_job(name=batch_job_id)\n",
        "    if response.state != aip.JobState.JOB_STATE_SUCCEEDED:\n",
        "        print(\"The job has not completed:\", response.state)\n",
        "        if response.state == aip.JobState.JOB_STATE_FAILED:\n",
        "            break\n",
        "    else:\n",
        "        folder = get_latest_predictions(\n",
        "            response.output_config.gcs_destination.output_uri_prefix\n",
        "        )\n",
        "        ! gsutil ls $folder/prediction*\n",
        "\n",
        "        ! gsutil cat $folder/prediction*\n",
        "        break\n",
        "    time.sleep(60)"
      ]
    },
    {
      "cell_type": "markdown",
      "metadata": {
        "id": "TcSzUOeMSVgp"
      },
      "source": [
        "*Example output*:\n",
        "```\n",
        "gs://migration-ucaip-trainingaip-20210226015209/batch_output/prediction-flowers_20210226015209-2021-02-26T09:35:43.034287Z/predictions_1.csv\n",
        "Age,Balance,Campaign,Contact,Day,Default,Duration,Education,Housing,Job,Loan,MaritalStatus,Month,PDays,POutcome,Previous,predicted_Deposit\n",
        "72,5715,5,cellular,17,no,1127,secondary,no,retired,no,married,nov,184,success,3,1.6232702732086182\n",
        "23,113,1,cellular,17,no,266,tertiary,no,student,no,single,nov,-1,unknown,0,1.3257474899291992\n",
        "34,557,1,cellular,17,no,224,secondary,no,admin.,no,single,nov,-1,unknown,0,1.0801490545272827\n",
        "25,505,2,cellular,17,no,386,secondary,no,technician,yes,single,nov,-1,unknown,0,1.2516863346099854\n",
        "73,2850,1,cellular,17,no,300,secondary,no,retired,no,married,nov,40,failure,8,1.5064295530319214\n",
        "37,2971,2,cellular,17,no,361,secondary,no,entrepreneur,no,married,nov,188,other,11,1.1924527883529663\n",
        "57,668,4,telephone,17,no,508,secondary,no,blue-collar,no,married,nov,-1,unknown,0,1.1636843681335449\n",
        "```\n"
      ]
    },
    {
      "cell_type": "markdown",
      "metadata": {
        "id": "HYO2mVhGj2YG"
      },
      "source": [
        "## Make online predictions"
      ]
    },
    {
      "cell_type": "markdown",
      "metadata": {
        "id": "COwVZtxhJjkW"
      },
      "source": [
        "### [projects.locations.endpoints.create](https://cloud.google.com/vertex-ai/docs/reference/rest/v1beta1/projects.locations.endpoints/create)"
      ]
    },
    {
      "cell_type": "markdown",
      "metadata": {
        "id": "dFkaAtoQj2YH"
      },
      "source": [
        "#### Request"
      ]
    },
    {
      "cell_type": "code",
      "execution_count": null,
      "metadata": {
        "id": "Gg16KcNsj2YH"
      },
      "outputs": [],
      "source": [
        "endpoint = {\"display_name\": \"bank_\" + TIMESTAMP}\n",
        "\n",
        "print(\n",
        "    MessageToJson(\n",
        "        aip.CreateEndpointRequest(\n",
        "            parent=PARENT,\n",
        "            endpoint=endpoint,\n",
        "        ).__dict__[\"_pb\"]\n",
        "    )\n",
        ")"
      ]
    },
    {
      "cell_type": "markdown",
      "metadata": {
        "id": "72sCWPDUSVgr"
      },
      "source": [
        "*Example output*:\n",
        "```\n",
        "{\n",
        "  \"parent\": \"projects/migration-ucaip-training/locations/us-central1\",\n",
        "  \"endpoint\": {\n",
        "    \"displayName\": \"bank_20210226015209\"\n",
        "  }\n",
        "}\n",
        "```\n"
      ]
    },
    {
      "cell_type": "markdown",
      "metadata": {
        "id": "zvwqgIF6j2YH"
      },
      "source": [
        "#### Call"
      ]
    },
    {
      "cell_type": "code",
      "execution_count": null,
      "metadata": {
        "id": "DrlxXQmfj2YH"
      },
      "outputs": [],
      "source": [
        "request = clients[\"endpoint\"].create_endpoint(parent=PARENT, endpoint=endpoint)"
      ]
    },
    {
      "cell_type": "markdown",
      "metadata": {
        "id": "tBX51eh3j2YH"
      },
      "source": [
        "#### Response"
      ]
    },
    {
      "cell_type": "code",
      "execution_count": null,
      "metadata": {
        "id": "UpDCfsaAj2YH"
      },
      "outputs": [],
      "source": [
        "result = request.result()\n",
        "\n",
        "print(MessageToJson(result.__dict__[\"_pb\"]))"
      ]
    },
    {
      "cell_type": "markdown",
      "metadata": {
        "id": "gQOxjES2SVgt"
      },
      "source": [
        "*Example output*:\n",
        "```\n",
        "{\n",
        "  \"name\": \"projects/116273516712/locations/us-central1/endpoints/6899338707271155712\"\n",
        "}\n",
        "```\n"
      ]
    },
    {
      "cell_type": "code",
      "execution_count": null,
      "metadata": {
        "id": "oUKwpVp6SVgu"
      },
      "outputs": [],
      "source": [
        "# The fully qualified ID for the endpoint\n",
        "endpoint_id = result.name\n",
        "# The short numeric ID for the endpoint\n",
        "endpoint_short_id = endpoint_id.split(\"/\")[-1]\n",
        "\n",
        "print(endpoint_id)"
      ]
    },
    {
      "cell_type": "markdown",
      "metadata": {
        "id": "gpnVJS3AJjkW"
      },
      "source": [
        "### [projects.locations.endpoints.deployModel](https://cloud.google.com/vertex-ai/docs/reference/rest/v1beta1/projects.locations.endpoints/deployModel)"
      ]
    },
    {
      "cell_type": "markdown",
      "metadata": {
        "id": "ZhSFjr7dj2YI"
      },
      "source": [
        "#### Request"
      ]
    },
    {
      "cell_type": "code",
      "execution_count": null,
      "metadata": {
        "id": "9WH1Rhh6j2YI"
      },
      "outputs": [],
      "source": [
        "deployed_model = {\n",
        "    \"model\": model_id,\n",
        "    \"display_name\": \"bank_\" + TIMESTAMP,\n",
        "    \"dedicated_resources\": {\n",
        "        \"min_replica_count\": 1,\n",
        "        \"machine_spec\": {\"machine_type\": \"n1-standard-2\"},\n",
        "    },\n",
        "}\n",
        "\n",
        "traffic_split = {\"0\": 100}\n",
        "\n",
        "print(\n",
        "    MessageToJson(\n",
        "        aip.DeployModelRequest(\n",
        "            endpoint=endpoint_id,\n",
        "            deployed_model=deployed_model,\n",
        "            traffic_split=traffic_split,\n",
        "        ).__dict__[\"_pb\"]\n",
        "    )\n",
        ")"
      ]
    },
    {
      "cell_type": "markdown",
      "metadata": {
        "id": "nPn4WRMHSVgv"
      },
      "source": [
        "*Example output*:\n",
        "```\n",
        "{\n",
        "  \"endpoint\": \"projects/116273516712/locations/us-central1/endpoints/6899338707271155712\",\n",
        "  \"deployedModel\": {\n",
        "    \"model\": \"projects/116273516712/locations/us-central1/models/3936304403996213248\",\n",
        "    \"displayName\": \"bank_20210226015209\",\n",
        "    \"dedicatedResources\": {\n",
        "      \"machineSpec\": {\n",
        "        \"machineType\": \"n1-standard-2\"\n",
        "      },\n",
        "      \"minReplicaCount\": 1\n",
        "    }\n",
        "  },\n",
        "  \"trafficSplit\": {\n",
        "    \"0\": 100\n",
        "  }\n",
        "}\n",
        "```\n"
      ]
    },
    {
      "cell_type": "markdown",
      "metadata": {
        "id": "g5vJaOgOj2YI"
      },
      "source": [
        "#### Call"
      ]
    },
    {
      "cell_type": "code",
      "execution_count": null,
      "metadata": {
        "id": "x-cdr_Y_j2YI"
      },
      "outputs": [],
      "source": [
        "request = clients[\"endpoint\"].deploy_model(\n",
        "    endpoint=endpoint_id, deployed_model=deployed_model, traffic_split=traffic_split\n",
        ")"
      ]
    },
    {
      "cell_type": "markdown",
      "metadata": {
        "id": "zPkahTYxj2YI"
      },
      "source": [
        "#### Response"
      ]
    },
    {
      "cell_type": "code",
      "execution_count": null,
      "metadata": {
        "id": "RV7K38Tgj2YJ"
      },
      "outputs": [],
      "source": [
        "result = request.result()\n",
        "\n",
        "print(MessageToJson(result.__dict__[\"_pb\"]))"
      ]
    },
    {
      "cell_type": "markdown",
      "metadata": {
        "id": "v6zgV9_ISVgy"
      },
      "source": [
        "*Example output*:\n",
        "```\n",
        "{\n",
        "  \"deployedModel\": {\n",
        "    \"id\": \"7646795507926302720\"\n",
        "  }\n",
        "}\n",
        "```\n"
      ]
    },
    {
      "cell_type": "code",
      "execution_count": null,
      "metadata": {
        "id": "D2nPnJFXSVgz"
      },
      "outputs": [],
      "source": [
        "# The  numeric ID for the deploy model\n",
        "deploy_model_id = result.deployed_model.id\n",
        "\n",
        "print(deploy_model_id)"
      ]
    },
    {
      "cell_type": "markdown",
      "metadata": {
        "id": "yFL5-rTvj2YJ"
      },
      "source": [
        "### [projects.locations.endpoints.predict](https://cloud.google.com/vertex-ai/docs/reference/rest/v1beta1/projects.locations.endpoints/predict)"
      ]
    },
    {
      "cell_type": "markdown",
      "metadata": {
        "id": "6665b445b824"
      },
      "source": [
        "### Prepare data item for online prediction"
      ]
    },
    {
      "cell_type": "code",
      "execution_count": null,
      "metadata": {
        "id": "445a132a6fcf"
      },
      "outputs": [],
      "source": [
        "INSTANCE = {\n",
        "    \"Age\": \"58\",\n",
        "    \"Job\": \"managment\",\n",
        "    \"MaritalStatus\": \"married\",\n",
        "    \"Education\": \"teritary\",\n",
        "    \"Default\": \"no\",\n",
        "    \"Balance\": \"2143\",\n",
        "    \"Housing\": \"yes\",\n",
        "    \"Loan\": \"no\",\n",
        "    \"Contact\": \"unknown\",\n",
        "    \"Day\": \"5\",\n",
        "    \"Month\": \"may\",\n",
        "    \"Duration\": \"261\",\n",
        "    \"Campaign\": \"1\",\n",
        "    \"PDays\": \"-1\",\n",
        "    \"Previous\": 0,\n",
        "    \"POutcome\": \"unknown\",\n",
        "}"
      ]
    },
    {
      "cell_type": "markdown",
      "metadata": {
        "id": "xsz7Bbtcj2YJ"
      },
      "source": [
        "#### Request"
      ]
    },
    {
      "cell_type": "code",
      "execution_count": null,
      "metadata": {
        "id": "Yb0-Lf5Rj2YJ"
      },
      "outputs": [],
      "source": [
        "instances_list = [INSTANCE]\n",
        "instances = [json_format.ParseDict(s, Value()) for s in instances_list]\n",
        "\n",
        "request = aip.PredictRequest(\n",
        "    endpoint=endpoint_id,\n",
        ")\n",
        "request.instances.append(instances)\n",
        "\n",
        "print(MessageToJson(request.__dict__[\"_pb\"]))"
      ]
    },
    {
      "cell_type": "markdown",
      "metadata": {
        "id": "KQ1gXsUCSVg2"
      },
      "source": [
        "*Example output*:\n",
        "```\n",
        "{\n",
        "  \"endpoint\": \"projects/116273516712/locations/us-central1/endpoints/6899338707271155712\",\n",
        "  \"instances\": [\n",
        "    [\n",
        "      {\n",
        "        \"Education\": \"teritary\",\n",
        "        \"MaritalStatus\": \"married\",\n",
        "        \"Balance\": \"2143\",\n",
        "        \"Contact\": \"unknown\",\n",
        "        \"Housing\": \"yes\",\n",
        "        \"Previous\": 0.0,\n",
        "        \"Loan\": \"no\",\n",
        "        \"Duration\": \"261\",\n",
        "        \"Default\": \"no\",\n",
        "        \"Day\": \"5\",\n",
        "        \"POutcome\": \"unknown\",\n",
        "        \"Age\": \"58\",\n",
        "        \"Month\": \"may\",\n",
        "        \"PDays\": \"-1\",\n",
        "        \"Campaign\": \"1\",\n",
        "        \"Job\": \"managment\"\n",
        "      }\n",
        "    ]\n",
        "  ]\n",
        "}\n",
        "```\n"
      ]
    },
    {
      "cell_type": "markdown",
      "metadata": {
        "id": "PJl0qAT9j2YJ"
      },
      "source": [
        "#### Call"
      ]
    },
    {
      "cell_type": "code",
      "execution_count": null,
      "metadata": {
        "id": "Y9nGPUf-j2YK"
      },
      "outputs": [],
      "source": [
        "request = clients[\"prediction\"].predict(endpoint=endpoint_id, instances=instances)"
      ]
    },
    {
      "cell_type": "markdown",
      "metadata": {
        "id": "NgHoeLP1j2YK"
      },
      "source": [
        "#### Response"
      ]
    },
    {
      "cell_type": "code",
      "execution_count": null,
      "metadata": {
        "id": "y_DTfVKTj2YK"
      },
      "outputs": [],
      "source": [
        "print(MessageToJson(request.__dict__[\"_pb\"]))"
      ]
    },
    {
      "cell_type": "markdown",
      "metadata": {
        "id": "pycRDGsnSVg5"
      },
      "source": [
        "*Example output*:\n",
        "```\n",
        "{\n",
        "  \"predictions\": [\n",
        "    {\n",
        "      \"upper_bound\": 1.685426712036133,\n",
        "      \"value\": 1.007092595100403,\n",
        "      \"lower_bound\": 0.06719603389501572\n",
        "    }\n",
        "  ],\n",
        "  \"deployedModelId\": \"7646795507926302720\"\n",
        "}\n",
        "```\n"
      ]
    },
    {
      "cell_type": "markdown",
      "metadata": {
        "id": "endpoints_undeploymodel:migration,new"
      },
      "source": [
        "### [projects.locations.endpoints.undeployModel](https://cloud.google.com/vertex-ai/docs/reference/rest/v1beta1/projects.locations.endpoints/undeployModel)\n"
      ]
    },
    {
      "cell_type": "markdown",
      "metadata": {
        "id": "call:migration"
      },
      "source": [
        "#### Call\n"
      ]
    },
    {
      "cell_type": "code",
      "execution_count": null,
      "metadata": {
        "id": "endpoints_undeploymodel:migration,new,call"
      },
      "outputs": [],
      "source": [
        "request = clients[\"endpoint\"].undeploy_model(\n",
        "    endpoint=endpoint_id, deployed_model_id=deploy_model_id, traffic_split={}\n",
        ")"
      ]
    },
    {
      "cell_type": "markdown",
      "metadata": {
        "id": "response:migration"
      },
      "source": [
        "#### Response\n"
      ]
    },
    {
      "cell_type": "code",
      "execution_count": null,
      "metadata": {
        "id": "print:migration,new,response"
      },
      "outputs": [],
      "source": [
        "result = request.result()\n",
        "\n",
        "print(MessageToJson(result.__dict__[\"_pb\"]))"
      ]
    },
    {
      "cell_type": "markdown",
      "metadata": {
        "id": "RiYgMO0LSVg7"
      },
      "source": [
        "*Example output*:\n",
        "```\n",
        "{}\n",
        "```\n"
      ]
    },
    {
      "cell_type": "markdown",
      "metadata": {
        "id": "bQ-VVaSxJjkd"
      },
      "source": [
        "# Cleaning up\r\n",
        "\r\n",
        "To clean up all GCP resources used in this project, you can [delete the GCP\r\n",
        "project](https://cloud.google.com/resource-manager/docs/creating-managing-projects#shutting_down_projects) you used for the tutorial.\r\n",
        "\r\n",
        "Otherwise, you can delete the individual resources you created in this tutorial."
      ]
    },
    {
      "cell_type": "code",
      "execution_count": null,
      "metadata": {
        "id": "hqvunhZkj2YK"
      },
      "outputs": [],
      "source": [
        "delete_dataset = True\n",
        "delete_model = True\n",
        "delete_endpoint = True\n",
        "delete_pipeline = True\n",
        "delete_batchjob = True\n",
        "delete_bucket = True\n",
        "\n",
        "# Delete the dataset using the Vertex AI fully qualified identifier for the dataset\n",
        "try:\n",
        "    if delete_dataset:\n",
        "        clients[\"dataset\"].delete_dataset(name=dataset_id)\n",
        "except Exception as e:\n",
        "    print(e)\n",
        "\n",
        "# Delete the model using the Vertex AI fully qualified identifier for the model\n",
        "try:\n",
        "    if delete_model:\n",
        "        clients[\"model\"].delete_model(name=model_id)\n",
        "except Exception as e:\n",
        "    print(e)\n",
        "\n",
        "# Delete the endpoint using the Vertex AI fully qualified identifier for the endpoint\n",
        "try:\n",
        "    if delete_endpoint:\n",
        "        clients[\"endpoint\"].delete_endpoint(name=endpoint_id)\n",
        "except Exception as e:\n",
        "    print(e)\n",
        "\n",
        "# Delete the training pipeline using the Vertex AI fully qualified identifier for the training pipeline\n",
        "try:\n",
        "    if delete_pipeline:\n",
        "        clients[\"pipeline\"].delete_training_pipeline(name=training_pipeline_id)\n",
        "except Exception as e:\n",
        "    print(e)\n",
        "\n",
        "# Delete the batch job using the Vertex AI fully qualified identifier for the batch job\n",
        "try:\n",
        "    if delete_batchjob:\n",
        "        clients[\"job\"].delete_batch_prediction_job(name=batch_job_id)\n",
        "except Exception as e:\n",
        "    print(e)\n",
        "\n",
        "if delete_bucket and \"BUCKET_NAME\" in globals():\n",
        "    ! gsutil rm -r gs://$BUCKET_NAME"
      ]
    }
  ],
  "metadata": {
    "colab": {
      "collapsed_sections": [
        "qRj4gV6eSVeC",
        "bucket:batch_prediction",
        "setup_vars",
        "import_aip",
        "aip_constants",
        "automl_constants:automl",
        "endpoints_undeploymodel:migration,new",
        "call:migration",
        "response:migration"
      ],
      "name": "UJ4 unified AutoML for structured data with Vertex AI Regression.ipynb",
      "toc_visible": true
    },
    "kernelspec": {
      "display_name": "Python 3",
      "name": "python3"
    }
  },
  "nbformat": 4,
  "nbformat_minor": 0
}
