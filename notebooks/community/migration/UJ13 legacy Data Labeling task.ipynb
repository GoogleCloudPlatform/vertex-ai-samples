{
  "cells": [
    {
      "cell_type": "code",
      "execution_count": null,
      "metadata": {
        "id": "copyright"
      },
      "outputs": [],
      "source": [
        "# Copyright 2021 Google LLC\n",
        "#\n",
        "# Licensed under the Apache License, Version 2.0 (the \"License\");\n",
        "# you may not use this file except in compliance with the License.\n",
        "# You may obtain a copy of the License at\n",
        "#\n",
        "#     https://www.apache.org/licenses/LICENSE-2.0\n",
        "#\n",
        "# Unless required by applicable law or agreed to in writing, software\n",
        "# distributed under the License is distributed on an \"AS IS\" BASIS,\n",
        "# WITHOUT WARRANTIES OR CONDITIONS OF ANY KIND, either express or implied.\n",
        "# See the License for the specific language governing permissions and\n",
        "# limitations under the License.\n"
      ]
    },
    {
      "cell_type": "markdown",
      "metadata": {
        "id": "title:migration,new"
      },
      "source": [
        "# AutoML SDK: Data Labeling\n",
        "\n",
        "*Disclaimer*: This notebook is for illustrative purposes only."
      ]
    },
    {
      "cell_type": "markdown",
      "metadata": {
        "id": "install_aip"
      },
      "source": [
        "## Installation\n",
        "\n",
        "Install the latest (preview) version of AutoML SDK.\n"
      ]
    },
    {
      "cell_type": "code",
      "execution_count": null,
      "metadata": {
        "id": "eGO6_2SExXiI"
      },
      "outputs": [],
      "source": [
        "! pip3 install -U google-cloud-automl --user\n"
      ]
    },
    {
      "cell_type": "code",
      "execution_count": null,
      "metadata": {
        "id": "2d7c82937913"
      },
      "outputs": [],
      "source": [
        "! pip3 install -U google-cloud-datalabeling --user\n"
      ]
    },
    {
      "cell_type": "markdown",
      "metadata": {
        "id": "install_storage"
      },
      "source": [
        "Install the Google *cloud-storage* library as well.\n"
      ]
    },
    {
      "cell_type": "code",
      "execution_count": null,
      "metadata": {
        "id": "G0bLTzVWxXiJ"
      },
      "outputs": [],
      "source": [
        "! pip3 install google-cloud-storage\n"
      ]
    },
    {
      "cell_type": "markdown",
      "metadata": {
        "id": "restart"
      },
      "source": [
        "### Restart the Kernel\n",
        "\n",
        "Once you've installed the AutoML SDK and Google *cloud-storage*, you need to restart the notebook kernel so it can find the packages.\n"
      ]
    },
    {
      "cell_type": "code",
      "execution_count": null,
      "metadata": {
        "id": "33Uq-fKkxXiK"
      },
      "outputs": [],
      "source": [
        "import os\n",
        "\n",
        "\n",
        "if not os.getenv(\"AUTORUN\"):\n",
        "    # Automatically restart kernel after installs\n",
        "    import IPython\n",
        "    app = IPython.Application.instance()\n",
        "    app.kernel.do_shutdown(True)\n"
      ]
    },
    {
      "cell_type": "markdown",
      "metadata": {
        "id": "before_you_begin"
      },
      "source": [
        "## Before you begin\n",
        "\n",
        "### GPU run-time\n",
        "\n",
        "*Make sure you're running this notebook in a GPU runtime if you have that option. In Colab, select* **Runtime > Change Runtime Type > GPU**\n",
        "\n",
        "### Set up your GCP project\n",
        "\n",
        "**The following steps are required, regardless of your notebook environment.**\n",
        "\n",
        "1. [Select or create a GCP project](https://console.cloud.google.com/cloud-resource-manager). When you first create an account, you get a $300 free credit towards your compute/storage costs.\n",
        "\n",
        "2. [Make sure that billing is enabled for your project.](https://cloud.google.com/billing/docs/how-to/modify-project)\n",
        "\n",
        "3. [Enable the AutoML APIs and Compute Engine APIs.](https://console.cloud.google.com/flows/enableapi?apiid=ml.googleapis.com,compute_component)\n",
        "\n",
        "4. [Google Cloud SDK](https://cloud.google.com/sdk) is already installed in AutoML Notebooks.\n",
        "\n",
        "5. Enter your project ID in the cell below. Then run the  cell to make sure the\n",
        "Cloud SDK uses the right project for all the commands in this notebook.\n",
        "\n",
        "**Note**: Jupyter runs lines prefixed with `!` as shell commands, and it interpolates Python variables prefixed with `$` into these commands.\n"
      ]
    },
    {
      "cell_type": "code",
      "execution_count": null,
      "metadata": {
        "id": "set_project_id"
      },
      "outputs": [],
      "source": [
        "PROJECT_ID = \"[your-project-id]\" #@param {type:\"string\"}\n"
      ]
    },
    {
      "cell_type": "code",
      "execution_count": null,
      "metadata": {
        "id": "autoset_project_id"
      },
      "outputs": [],
      "source": [
        "if PROJECT_ID == \"\" or PROJECT_ID is None or PROJECT_ID == \"[your-project-id]\":\n",
        "    # Get your GCP project id from gcloud\n",
        "    shell_output = !gcloud config list --format 'value(core.project)' 2>/dev/null\n",
        "    PROJECT_ID = shell_output[0]\n",
        "    print(\"Project ID:\", PROJECT_ID)\n"
      ]
    },
    {
      "cell_type": "code",
      "execution_count": null,
      "metadata": {
        "id": "set_gcloud_project_id"
      },
      "outputs": [],
      "source": [
        "! gcloud config set project $PROJECT_ID\n"
      ]
    },
    {
      "cell_type": "markdown",
      "metadata": {
        "id": "region"
      },
      "source": [
        "#### Region\n",
        "\n",
        "You can also change the `REGION` variable, which is used for operations\n",
        "throughout the rest of this notebook.  Below are regions supported for AutoML. We recommend when possible, to choose the region closest to you.\n",
        "\n",
        "- Americas: `us-central1`\n",
        "- Europe: `europe-west4`\n",
        "- Asia Pacific: `asia-east1`\n",
        "\n",
        "You cannot use a Multi-Regional Storage bucket for training with AutoML. Not all regions provide support for all AutoML services. For the latest support per region, see [Region support for AutoML services]()\n"
      ]
    },
    {
      "cell_type": "code",
      "execution_count": null,
      "metadata": {
        "id": "_eH8WcWTxXiM"
      },
      "outputs": [],
      "source": [
        "REGION = 'us-central1' #@param {type: \"string\"}\n"
      ]
    },
    {
      "cell_type": "markdown",
      "metadata": {
        "id": "timestamp"
      },
      "source": [
        "#### Timestamp\n",
        "\n",
        "If you are in a live tutorial session, you might be using a shared test account or project. To avoid name collisions between users on resources created, you create a timestamp for each instance session, and append onto the name of resources which will be created in this tutorial.\n"
      ]
    },
    {
      "cell_type": "code",
      "execution_count": null,
      "metadata": {
        "id": "NoqPBceExXiM"
      },
      "outputs": [],
      "source": [
        "from datetime import datetime\n",
        "\n",
        "\n",
        "TIMESTAMP = datetime.now().strftime(\"%Y%m%d%H%M%S\")\n"
      ]
    },
    {
      "cell_type": "markdown",
      "metadata": {
        "id": "gcp_authenticate"
      },
      "source": [
        "### Authenticate your GCP account\n",
        "\n",
        "**If you are using AutoML Notebooks**, your environment is already\n",
        "authenticated. Skip this step.\n",
        "\n",
        "*Note: If you are on an AutoML notebook and run the cell, the cell knows to skip executing the authentication steps.*\n"
      ]
    },
    {
      "cell_type": "code",
      "execution_count": null,
      "metadata": {
        "id": "6aUuFIftxXiN"
      },
      "outputs": [],
      "source": [
        "import os\n",
        "import sys\n",
        "\n",
        "# If you are running this notebook in Colab, run this cell and follow the\n",
        "# instructions to authenticate your Google Cloud account. This provides access\n",
        "# to your Cloud Storage bucket and lets you submit training jobs and prediction\n",
        "# requests.\n",
        "\n",
        "# If on AutoML, then don't execute this code\n",
        "if not os.path.exists('/opt/deeplearning/metadata/env_version'):\n",
        "    if 'google.colab' in sys.modules:\n",
        "        from google.colab import auth as google_auth\n",
        "        google_auth.authenticate_user()\n",
        "\n",
        "    # If you are running this tutorial in a notebook locally, replace the string\n",
        "    # below with the path to your service account key and run this cell to\n",
        "    # authenticate your Google Cloud account.\n",
        "    else:\n",
        "        %env GOOGLE_APPLICATION_CREDENTIALS your_path_to_credentials.json\n",
        "\n",
        "    # Log in to your account on Google Cloud\n",
        "    ! gcloud auth login\n"
      ]
    },
    {
      "cell_type": "markdown",
      "metadata": {
        "id": "bucket:batch_prediction"
      },
      "source": [
        "### Create a Cloud Storage bucket\n",
        "\n",
        "**The following steps are required, regardless of your notebook environment.**\n",
        "\n",
        "This tutorial is designed to use training data that is in a public Cloud Storage bucket and a local Cloud Storage bucket for your batch predictions. You may alternatively use your own training data that you have stored in a local Cloud Storage bucket.\n",
        "\n",
        "Set the name of your Cloud Storage bucket below. It must be unique across all Cloud Storage buckets.\n"
      ]
    },
    {
      "cell_type": "code",
      "execution_count": null,
      "metadata": {
        "id": "bucket"
      },
      "outputs": [],
      "source": [
        "BUCKET_NAME = \"[your-bucket-name]\" #@param {type:\"string\"}\n"
      ]
    },
    {
      "cell_type": "code",
      "execution_count": null,
      "metadata": {
        "id": "autoset_bucket"
      },
      "outputs": [],
      "source": [
        "if BUCKET_NAME == \"\" or BUCKET_NAME is None or BUCKET_NAME == \"[your-bucket-name]\":\n",
        "    BUCKET_NAME = PROJECT_ID + \"aip-\" + TIMESTAMP\n"
      ]
    },
    {
      "cell_type": "markdown",
      "metadata": {
        "id": "create_bucket"
      },
      "source": [
        "**Only if your bucket doesn't already exist**: Run the following cell to create your Cloud Storage bucket.\n"
      ]
    },
    {
      "cell_type": "code",
      "execution_count": null,
      "metadata": {
        "id": "-8qURIGmxXiO"
      },
      "outputs": [],
      "source": [
        "! gsutil mb -l $REGION gs://$BUCKET_NAME\n"
      ]
    },
    {
      "cell_type": "markdown",
      "metadata": {
        "id": "validate_bucket"
      },
      "source": [
        "Finally, validate access to your Cloud Storage bucket by examining its contents:\n"
      ]
    },
    {
      "cell_type": "code",
      "execution_count": null,
      "metadata": {
        "id": "t_65JAARxXiP"
      },
      "outputs": [],
      "source": [
        "! gsutil ls -al gs://$BUCKET_NAME\n"
      ]
    },
    {
      "cell_type": "markdown",
      "metadata": {
        "id": "setup_vars"
      },
      "source": [
        "### Set up variables\n",
        "\n",
        "Next, set up some variables used throughout the tutorial.\n",
        "### Import libraries and define constants\n"
      ]
    },
    {
      "cell_type": "markdown",
      "metadata": {
        "id": "import_aip"
      },
      "source": [
        "#### Import AutoML SDK\n",
        "\n",
        "Import the AutoML SDK into our Python environment.\n"
      ]
    },
    {
      "cell_type": "code",
      "execution_count": null,
      "metadata": {
        "id": "P8L1tKAexXiQ"
      },
      "outputs": [],
      "source": [
        "import json\n",
        "import os\n",
        "import sys\n",
        "import time\n",
        "\n",
        "\n",
        "from google.cloud import automl\n",
        "from google.cloud import datalabeling_v1beta1 as datalabeling\n",
        "\n",
        "\n",
        "from google.protobuf.json_format import MessageToJson\n",
        "from google.protobuf.json_format import ParseDict\n",
        "from googleapiclient.discovery import build\n"
      ]
    },
    {
      "cell_type": "markdown",
      "metadata": {
        "id": "aip_constants"
      },
      "source": [
        "#### AutoML constants\n",
        "\n",
        "Setup up the following constants for AutoML:\n",
        "\n",
        "- `PARENT`: The AutoML location root path for dataset, model and endpoint resources.\n"
      ]
    },
    {
      "cell_type": "code",
      "execution_count": null,
      "metadata": {
        "id": "rG1L9BEzxXiR"
      },
      "outputs": [],
      "source": [
        "# AutoML location root path for your dataset, model and endpoint resources\n",
        "PARENT = \"projects/\" + PROJECT_ID + \"/locations/\" + REGION\n"
      ]
    },
    {
      "cell_type": "markdown",
      "metadata": {
        "id": "clients"
      },
      "source": [
        "## Clients\n",
        "\n",
        "The AutoML SDK works as a client/server model. On your side (the Python script) you will create a client that sends requests and receives responses from the server (AutoML).\n",
        "\n",
        "You will use several clients in this tutorial, so set them all up upfront.\n"
      ]
    },
    {
      "cell_type": "code",
      "execution_count": null,
      "metadata": {
        "id": "c3sR3OxmxXiR"
      },
      "outputs": [],
      "source": [
        "def data_labeling_client():\n",
        "    return datalabeling.DataLabelingServiceClient()\n",
        "\n",
        "\n",
        "def operations_client():\n",
        "    return datalabeling.DataLabelingServiceClient()._transport.operations_client\n",
        "\n",
        "\n",
        "clients = {}\n",
        "clients[\"labeling\"] = data_labeling_client()\n",
        "clients[\"operations\"] = operations_client()\n",
        "\n",
        "for client in clients.items():\n",
        "    print(client)\n"
      ]
    },
    {
      "cell_type": "code",
      "execution_count": null,
      "metadata": {
        "id": "import_file:flowers,csv,icn"
      },
      "outputs": [],
      "source": [
        "import tensorflow as tf\n",
        "\n",
        "\n",
        "LABELING_FILES = [\n",
        "    \"https://raw.githubusercontent.com/googleapis/python-aiplatform/master/samples/snippets/resources/daisy.jpg\"\n",
        "]\n",
        "\n",
        "IMPORT_FILE = \"gs://\" + BUCKET_NAME + '/labeling.csv'\n",
        "with tf.io.gfile.GFile(IMPORT_FILE, 'w') as f:\n",
        "    for lf in LABELING_FILES:\n",
        "        ! wget {lf} | gsutil cp {lf.split(\"/\")[-1]} gs://{BUCKET_NAME}\n",
        "        f.write(\"gs://\" + BUCKET_NAME + \"/\" + lf.split(\"/\")[-1] + \"\\n\")\n",
        "    "
      ]
    },
    {
      "cell_type": "code",
      "execution_count": null,
      "metadata": {
        "id": "cBgFrDD1_i__"
      },
      "outputs": [],
      "source": [
        "! gsutil cat $IMPORT_FILE\n"
      ]
    },
    {
      "cell_type": "markdown",
      "metadata": {
        "id": "datasets_create:migration,new,request"
      },
      "source": [
        "*Example output*:\n",
        "```\n",
        "gs://migration-ucaip-trainingaip-20210303171756/daisy.jpg\n",
        "```\n"
      ]
    },
    {
      "cell_type": "markdown",
      "metadata": {
        "id": "create_a_dataset:migration"
      },
      "source": [
        "## Create a dataset\n"
      ]
    },
    {
      "cell_type": "markdown",
      "metadata": {
        "id": "bkdu67d_xXiT"
      },
      "source": [
        "### [projects.locations.datasets.create](https://cloud.google.com/automl/docs/reference/rest/v1beta1/projects.locations.datasets/create)"
      ]
    },
    {
      "cell_type": "markdown",
      "metadata": {
        "id": "request:migration"
      },
      "source": [
        "#### Request\n"
      ]
    },
    {
      "cell_type": "code",
      "execution_count": null,
      "metadata": {
        "id": "uTrBPMR5xXiU"
      },
      "outputs": [],
      "source": [
        "dataset = {\n",
        "    \"display_name\": \"labeling_\" + TIMESTAMP,\n",
        "    \"description\": \"labeling_\" + TIMESTAMP\n",
        "}\n",
        "\n",
        "print(MessageToJson(\n",
        "    datalabeling.CreateDatasetRequest(\n",
        "        parent=PARENT,\n",
        "        dataset=dataset,\n",
        "    ).__dict__[\"_pb\"])\n",
        ")\n"
      ]
    },
    {
      "cell_type": "markdown",
      "metadata": {
        "id": "jvhVeS_ExXiU"
      },
      "source": [
        "*Example output*:\n",
        "```\n",
        "{\n",
        "  \"parent\": \"projects/migration-ucaip-training/locations/us-central1\",\n",
        "  \"dataset\": {\n",
        "    \"displayName\": \"labeling_20210303171756\",\n",
        "    \"description\": \"labeling_20210303171756\"\n",
        "  }\n",
        "}\n",
        "```\n"
      ]
    },
    {
      "cell_type": "markdown",
      "metadata": {
        "id": "call:migration"
      },
      "source": [
        "#### Call\n"
      ]
    },
    {
      "cell_type": "code",
      "execution_count": null,
      "metadata": {
        "id": "datasets_create:migration,new,call"
      },
      "outputs": [],
      "source": [
        "request = clients[\"labeling\"].create_dataset(\n",
        "    parent=PARENT,\n",
        "    dataset=dataset\n",
        ")\n"
      ]
    },
    {
      "cell_type": "markdown",
      "metadata": {
        "id": "response:migration"
      },
      "source": [
        "#### Response\n"
      ]
    },
    {
      "cell_type": "code",
      "execution_count": null,
      "metadata": {
        "id": "print:migration,new,response"
      },
      "outputs": [],
      "source": [
        "print(MessageToJson(request.__dict__[\"_pb\"]))\n"
      ]
    },
    {
      "cell_type": "markdown",
      "metadata": {
        "id": "datasets_create:migration,new,response"
      },
      "source": [
        "*Example output*:\n",
        "```\n",
        "{\n",
        "  \"name\": \"projects/migration-ucaip-training/datasets/60401f09_0000_2cac_bcb5_3c286d3b27b6\",\n",
        "  \"displayName\": \"labeling_20210303171756\",\n",
        "  \"description\": \"labeling_20210303171756\",\n",
        "  \"createTime\": \"2021-03-04T13:13:20.227435060Z\"\n",
        "}\n",
        "```\n"
      ]
    },
    {
      "cell_type": "code",
      "execution_count": null,
      "metadata": {
        "id": "dataset_id:migration,new,response"
      },
      "outputs": [],
      "source": [
        "# The full unique ID for the dataset\n",
        "dataset_id = request.name\n",
        "# The short numeric ID for the dataset\n",
        "dataset_short_id = dataset_id.split('/')[-1]\n",
        "\n",
        "print(dataset_id)\n"
      ]
    },
    {
      "cell_type": "markdown",
      "metadata": {
        "id": "qHWi_CMnxXiV"
      },
      "source": [
        "### [projects.locations.datasets.importData](https://cloud.google.com/automl/docs/reference/rest/v1beta1/projects.locations.datasets/importData)"
      ]
    },
    {
      "cell_type": "markdown",
      "metadata": {
        "id": "py-0niVqxXiW"
      },
      "source": [
        "#### Request\n"
      ]
    },
    {
      "cell_type": "code",
      "execution_count": null,
      "metadata": {
        "id": "datasets_import:migration,new,request"
      },
      "outputs": [],
      "source": [
        "input_config = {\n",
        "    \"data_type\": \"IMAGE\",\n",
        "    \"gcs_source\": {\n",
        "        \"input_uri\": IMPORT_FILE, \n",
        "        \"mime_type\": \"text/csv\"\n",
        "    }\n",
        "}\n",
        "\n",
        "print(MessageToJson(\n",
        "    datalabeling.ImportDataRequest(\n",
        "        name=dataset_id,\n",
        "        input_config=input_config\n",
        "    ).__dict__[\"_pb\"])\n",
        ")\n"
      ]
    },
    {
      "cell_type": "markdown",
      "metadata": {
        "id": "cxbp1cGzxXiW"
      },
      "source": [
        "*Example output*:\n",
        "```\n",
        "{\n",
        "  \"name\": \"projects/migration-ucaip-training/datasets/60401f09_0000_2cac_bcb5_3c286d3b27b6\",\n",
        "  \"inputConfig\": {\n",
        "    \"dataType\": \"IMAGE\",\n",
        "    \"gcsSource\": {\n",
        "      \"inputUri\": \"gs://migration-ucaip-trainingaip-20210303171756/labeling.csv\",\n",
        "      \"mimeType\": \"text/csv\"\n",
        "    }\n",
        "  }\n",
        "}\n",
        "```\n"
      ]
    },
    {
      "cell_type": "markdown",
      "metadata": {
        "id": "v8kGJFwYxXiW"
      },
      "source": [
        "#### Call\n"
      ]
    },
    {
      "cell_type": "code",
      "execution_count": null,
      "metadata": {
        "id": "datasets_import:migration,new,call"
      },
      "outputs": [],
      "source": [
        "request = clients[\"labeling\"].import_data(\n",
        "    name=dataset_id,\n",
        "    input_config=input_config\n",
        ")\n"
      ]
    },
    {
      "cell_type": "markdown",
      "metadata": {
        "id": "UxcyIvGLxXiW"
      },
      "source": [
        "#### Response\n"
      ]
    },
    {
      "cell_type": "code",
      "execution_count": null,
      "metadata": {
        "id": "zXlYWLR7xXiX"
      },
      "outputs": [],
      "source": [
        "result = request.result()\n",
        "\n",
        "print(MessageToJson(result))\n"
      ]
    },
    {
      "cell_type": "markdown",
      "metadata": {
        "id": "datasets_import:migration,new,response"
      },
      "source": [
        "*Example output*:\n",
        "```\n",
        "{}\n",
        "```\n"
      ]
    },
    {
      "cell_type": "markdown",
      "metadata": {
        "id": "train_a_model:migration"
      },
      "source": [
        "## Create data labeling job\n",
        "Following methods in this section are for illustrative purposes only.\n"
      ]
    },
    {
      "cell_type": "markdown",
      "metadata": {
        "id": "a3fd52c3962a"
      },
      "source": [
        "### [projects.annotationSpecSets.create](https://cloud.google.com/ai-platform/data-labeling/docs/reference/rest/v1beta1/projects.annotationSpecSets/create)"
      ]
    },
    {
      "cell_type": "markdown",
      "metadata": {
        "id": "bytx9mM0xXiX"
      },
      "source": [
        "#### Request\n"
      ]
    },
    {
      "cell_type": "code",
      "execution_count": null,
      "metadata": {
        "id": "5a97d8fe5c15"
      },
      "outputs": [],
      "source": [
        "annotation_spec_set = {\n",
        "    \"display_name\": \"labeling_\" + TIMESTAMP,\n",
        "    \"description\": \"description\",\n",
        "    \"annotation_specs\": [\n",
        "        {\n",
        "            \"display_name\": \"rose\",\n",
        "            \"description\": \"rose description\"\n",
        "            \n",
        "        }\n",
        "    ]\n",
        "}\n",
        "\n",
        "print(MessageToJson(\n",
        "    datalabeling.CreateAnnotationSpecSetRequest(\n",
        "        parent=\"projects/\" + PROJECT_ID,\n",
        "        annotation_spec_set=annotation_spec_set\n",
        "    ).__dict__[\"_pb\"])\n",
        ")\n"
      ]
    },
    {
      "cell_type": "markdown",
      "metadata": {
        "id": "cxbp1cGzxXiW"
      },
      "source": [
        "*Example output*:\n",
        "```\n",
        "{\n",
        "  \"parent\": \"projects/migration-ucaip-training\",\n",
        "  \"annotationSpecSet\": {\n",
        "    \"displayName\": \"labeling_20210303171756\",\n",
        "    \"description\": \"description\",\n",
        "    \"annotationSpecs\": [\n",
        "      {\n",
        "        \"displayName\": \"rose\",\n",
        "        \"description\": \"rose description\"\n",
        "      }\n",
        "    ]\n",
        "  }\n",
        "}\n",
        "```\n"
      ]
    },
    {
      "cell_type": "markdown",
      "metadata": {
        "id": "cNNI6bjcxXiY"
      },
      "source": [
        "#### Call\n"
      ]
    },
    {
      "cell_type": "code",
      "execution_count": null,
      "metadata": {
        "id": "90bd04c4d0ff"
      },
      "outputs": [],
      "source": [
        "request = clients[\"labeling\"].create_annotation_spec_set(\n",
        "    parent=\"projects/\" + PROJECT_ID,\n",
        "    annotation_spec_set=annotation_spec_set\n",
        ")\n"
      ]
    },
    {
      "cell_type": "markdown",
      "metadata": {
        "id": "UxcyIvGLxXiW"
      },
      "source": [
        "#### Response\n"
      ]
    },
    {
      "cell_type": "code",
      "execution_count": null,
      "metadata": {
        "id": "620b647fca09"
      },
      "outputs": [],
      "source": [
        "print(MessageToJson(request.__dict__[\"_pb\"]))\n"
      ]
    },
    {
      "cell_type": "markdown",
      "metadata": {
        "id": "cxbp1cGzxXiW"
      },
      "source": [
        "*Example output*:\n",
        "```\n",
        "{\n",
        "  \"name\": \"projects/migration-ucaip-training/annotationSpecSets/60401d46_0000_2c8d_aa13_883d24f7e3c8\",\n",
        "  \"displayName\": \"labeling_20210303171756\",\n",
        "  \"description\": \"description\",\n",
        "  \"annotationSpecs\": [\n",
        "    {\n",
        "      \"displayName\": \"rose\",\n",
        "      \"description\": \"rose description\"\n",
        "    }\n",
        "  ]\n",
        "}\n",
        "```\n"
      ]
    },
    {
      "cell_type": "code",
      "execution_count": null,
      "metadata": {
        "id": "9a29115edf27"
      },
      "outputs": [],
      "source": [
        "annotation_spec_set_name = request.name\n",
        "\n",
        "print(annotation_spec_set_name)\n"
      ]
    },
    {
      "cell_type": "markdown",
      "metadata": {
        "id": "4e705074b680"
      },
      "source": [
        "### [projects.instructions.create](https://cloud.google.com/ai-platform/data-labeling/docs/reference/rest/v1beta1/projects.instructions/create)"
      ]
    },
    {
      "cell_type": "code",
      "execution_count": null,
      "metadata": {
        "id": "230c4e7db4b5"
      },
      "outputs": [],
      "source": [
        "# create placeholder file for valid PDF file with instruction for data labeling\n",
        "! echo \"this is instruction\" >> instruction.txt | gsutil cp instruction.txt gs://$BUCKET_NAME    \n"
      ]
    },
    {
      "cell_type": "markdown",
      "metadata": {
        "id": "bytx9mM0xXiX"
      },
      "source": [
        "#### Request\n"
      ]
    },
    {
      "cell_type": "code",
      "execution_count": null,
      "metadata": {
        "id": "dbbee701a7f6"
      },
      "outputs": [],
      "source": [
        "INSTRUCTION_FILE = \"gs://\" + BUCKET_NAME + \"/instruction.txt\" \n",
        "\n",
        "instruction = {\n",
        "    \"display_name\": \"labeling_\" + TIMESTAMP,\n",
        "    \"description\": \"description\",\n",
        "    \"data_type\": \"IMAGE\",\n",
        "    \"pdf_instruction\": {\n",
        "        \"gcs_file_uri\": INSTRUCTION_FILE\n",
        "    }\n",
        "}\n",
        "\n",
        "print(MessageToJson(\n",
        "    datalabeling.CreateInstructionRequest(\n",
        "        parent=\"projects/\" + PROJECT_ID,\n",
        "        instruction=instruction\n",
        "    ).__dict__[\"_pb\"])\n",
        ")\n",
        "   "
      ]
    },
    {
      "cell_type": "markdown",
      "metadata": {
        "id": "cxbp1cGzxXiW"
      },
      "source": [
        "*Example output*:\n",
        "```\n",
        "{\n",
        "  \"parent\": \"projects/migration-ucaip-training\",\n",
        "  \"instruction\": {\n",
        "    \"displayName\": \"labeling_20210303171756\",\n",
        "    \"description\": \"description\",\n",
        "    \"dataType\": \"IMAGE\",\n",
        "    \"pdfInstruction\": {\n",
        "      \"gcsFileUri\": \"gs://migration-ucaip-trainingaip-20210303171756/instruction.txt\"\n",
        "    }\n",
        "  }\n",
        "}\n",
        "```\n"
      ]
    },
    {
      "cell_type": "markdown",
      "metadata": {
        "id": "cNNI6bjcxXiY"
      },
      "source": [
        "#### Call\n"
      ]
    },
    {
      "cell_type": "code",
      "execution_count": null,
      "metadata": {
        "id": "386bef392b55"
      },
      "outputs": [],
      "source": [
        "request = clients[\"labeling\"].create_instruction(\n",
        "    parent=\"projects/\" + PROJECT_ID,\n",
        "    instruction=instruction\n",
        ")\n"
      ]
    },
    {
      "cell_type": "markdown",
      "metadata": {
        "id": "UxcyIvGLxXiW"
      },
      "source": [
        "#### Response\n"
      ]
    },
    {
      "cell_type": "code",
      "execution_count": null,
      "metadata": {
        "id": "1ee6dd24d5a7"
      },
      "outputs": [],
      "source": [
        "result = request.result()\n",
        "\n",
        "print(MessageToJson(result.__dict__[\"_pb\"]))\n"
      ]
    },
    {
      "cell_type": "markdown",
      "metadata": {
        "id": "cxbp1cGzxXiW"
      },
      "source": [
        "*Example output*:\n",
        "```\n",
        "{\n",
        "  \"name\": \"projects/migration-ucaip-training/instructions/60401ef8_0000_2cac_bcb5_3c286d3b27b6\",\n",
        "  \"displayName\": \"labeling_20210303171756\",\n",
        "  \"description\": \"description\",\n",
        "  \"createTime\": \"1970-01-01T00:00:00Z\",\n",
        "  \"dataType\": \"IMAGE\",\n",
        "  \"pdfInstruction\": {\n",
        "    \"gcsFileUri\": \"gs://migration-ucaip-trainingaip-20210303171756/instruction.txt\"\n",
        "  }\n",
        "}\n",
        "```\n"
      ]
    },
    {
      "cell_type": "code",
      "execution_count": null,
      "metadata": {
        "id": "af40b85a90b8"
      },
      "outputs": [],
      "source": [
        "instruction_name = result.name\n",
        "\n",
        "print(instruction_name)\n"
      ]
    },
    {
      "cell_type": "markdown",
      "metadata": {
        "id": "yfufMwAEJjkX"
      },
      "source": [
        "### [projects.datasets.image.label](https://cloud.google.com/ai-platform/data-labeling/docs/reference/rest/v1beta1/projects.datasets.image/label)"
      ]
    },
    {
      "cell_type": "markdown",
      "metadata": {
        "id": "bytx9mM0xXiX"
      },
      "source": [
        "#### Request\n"
      ]
    },
    {
      "cell_type": "code",
      "execution_count": null,
      "metadata": {
        "id": "b665f234f201"
      },
      "outputs": [],
      "source": [
        "EMAIL = \"dev@fourteen33.com\"\n",
        "\n",
        "basic_config = {\n",
        "    \"instruction\": instruction_name,\n",
        "    \"annotated_dataset_display_name\": \"labeling_\" + TIMESTAMP,\n",
        "    \"label_group\": \"rose\",\n",
        "    \"replica_count\":1,\n",
        "    \"contributor_emails\": [EMAIL]\n",
        "}\n",
        "\n",
        "feature = \"CLASSIFICATION\"\n",
        "\n",
        "config = {\n",
        "    \"annotation_spec_set\": annotation_spec_set_name,\n",
        "    \"allow_multi_label\": False,\n",
        "    \"answer_aggregation_type\": \"MAJORITY_VOTE\"\n",
        "}\n",
        "\n",
        "print(MessageToJson(\n",
        "    datalabeling.LabelImageRequest(\n",
        "        parent=dataset_id,\n",
        "        basic_config=basic_config,\n",
        "        feature=feature,\n",
        "        image_classification_config=config    \n",
        "    ).__dict__[\"_pb\"])\n",
        ")\n"
      ]
    },
    {
      "cell_type": "markdown",
      "metadata": {
        "id": "cxbp1cGzxXiW"
      },
      "source": [
        "*Example output*:\n",
        "```\n",
        "{\n",
        "  \"parent\": \"projects/migration-ucaip-training/locations/us-central1/datasets/60401f09_0000_2cac_bcb5_3c286d3b27b6\",\n",
        "  \"basicConfig\": {\n",
        "    \"instruction\": \"projects/migration-ucaip-training/instructions/60401ef8_0000_2cac_bcb5_3c286d3b27b6\",\n",
        "    \"annotatedDatasetDisplayName\": \"labeling_20210303171756\",\n",
        "    \"labelGroup\": \"rose\",\n",
        "    \"replicaCount\": 1,\n",
        "    \"contributorEmails\": [\n",
        "      \"dev@fourteen33.com\"\n",
        "    ]\n",
        "  },\n",
        "  \"feature\": \"CLASSIFICATION\",\n",
        "  \"imageClassificationConfig\": {\n",
        "    \"annotationSpecSet\": \"projects/migration-ucaip-training/annotationSpecSets/60401d46_0000_2c8d_aa13_883d24f7e3c8\",\n",
        "    \"answerAggregationType\": \"MAJORITY_VOTE\"\n",
        "  }\n",
        "}\n",
        "```\n"
      ]
    },
    {
      "cell_type": "markdown",
      "metadata": {
        "id": "cNNI6bjcxXiY"
      },
      "source": [
        "#### Call\n"
      ]
    },
    {
      "cell_type": "code",
      "execution_count": null,
      "metadata": {
        "id": "5fd510a2e151"
      },
      "outputs": [],
      "source": [
        "request = clients[\"labeling\"].label_image(\n",
        "    request={\n",
        "        \"parent\": dataset_id,\n",
        "        \"basic_config\": basic_config,\n",
        "        \"feature\": feature,\n",
        "        \"image_classification_config\": config\n",
        "    }\n",
        ")\n"
      ]
    },
    {
      "cell_type": "markdown",
      "metadata": {
        "id": "UxcyIvGLxXiW"
      },
      "source": [
        "#### Response\n"
      ]
    },
    {
      "cell_type": "code",
      "execution_count": null,
      "metadata": {
        "id": "faf817b6fe22"
      },
      "outputs": [],
      "source": [
        "print(MessageToJson(request.__dict__[\"_pb\"]))\n"
      ]
    },
    {
      "cell_type": "markdown",
      "metadata": {
        "id": "cxbp1cGzxXiW"
      },
      "source": [
        "*Example output*:\n",
        "```\n",
        "\n",
        "```\n"
      ]
    },
    {
      "cell_type": "code",
      "execution_count": null,
      "metadata": {
        "id": "a9abe671751a"
      },
      "outputs": [],
      "source": [
        "labeling_job_name = request.operation.name\n",
        "\n",
        "print(labeling_job_name)\n"
      ]
    },
    {
      "cell_type": "markdown",
      "metadata": {
        "id": "yfufMwAEJjkX"
      },
      "source": [
        "### [projects.operations.get](https://cloud.google.com/ai-platform/data-labeling/docs/reference/rest/v1beta1/projects.operations/get)"
      ]
    },
    {
      "cell_type": "markdown",
      "metadata": {
        "id": "cNNI6bjcxXiY"
      },
      "source": [
        "#### Call\n"
      ]
    },
    {
      "cell_type": "code",
      "execution_count": null,
      "metadata": {
        "id": "7d8bd259d07a"
      },
      "outputs": [],
      "source": [
        "request = clients[\"operations\"].get_operation(\n",
        "    name=labeling_job_name\n",
        ")\n"
      ]
    },
    {
      "cell_type": "markdown",
      "metadata": {
        "id": "UxcyIvGLxXiW"
      },
      "source": [
        "#### Response\n"
      ]
    },
    {
      "cell_type": "code",
      "execution_count": null,
      "metadata": {
        "id": "e88643f306ee"
      },
      "outputs": [],
      "source": [
        "print(MessageToJson(request.__dict__[\"_pb\"]))\n"
      ]
    },
    {
      "cell_type": "markdown",
      "metadata": {
        "id": "cxbp1cGzxXiW"
      },
      "source": [
        "*Example output*:\n",
        "```\n",
        "\n",
        "```\n"
      ]
    },
    {
      "cell_type": "markdown",
      "metadata": {
        "id": "yfufMwAEJjkX"
      },
      "source": [
        "### [projects.operations.cancel](https://cloud.google.com/ai-platform/data-labeling/docs/reference/rest/v1beta1/projects.operations/cancel)"
      ]
    },
    {
      "cell_type": "markdown",
      "metadata": {
        "id": "cNNI6bjcxXiY"
      },
      "source": [
        "#### Call\n"
      ]
    },
    {
      "cell_type": "code",
      "execution_count": null,
      "metadata": {
        "id": "4e616bb90998"
      },
      "outputs": [],
      "source": [
        "request = clients[\"operations\"].cancel_operation(\n",
        "    name=labeling_job_name\n",
        ")\n"
      ]
    },
    {
      "cell_type": "markdown",
      "metadata": {
        "id": "UxcyIvGLxXiW"
      },
      "source": [
        "#### Response\n"
      ]
    },
    {
      "cell_type": "code",
      "execution_count": null,
      "metadata": {
        "id": "f5275267f22a"
      },
      "outputs": [],
      "source": [
        "print(MessageToJson(request.__dict__[\"_pb\"]))\n"
      ]
    },
    {
      "cell_type": "markdown",
      "metadata": {
        "id": "cxbp1cGzxXiW"
      },
      "source": [
        "*Example output*:\n",
        "```\n",
        "\n",
        "```\n"
      ]
    },
    {
      "cell_type": "markdown",
      "metadata": {
        "id": "cleanup:migration,new"
      },
      "source": [
        "# Cleaning up\n",
        "\n",
        "To clean up all GCP resources used in this project, you can [delete the GCP\n",
        "project](https://cloud.google.com/resource-manager/docs/creating-managing-projects#shutting_down_projects) you used for the tutorial.\n",
        "\n",
        "Otherwise, you can delete the individual resources you created in this tutorial.\n"
      ]
    },
    {
      "cell_type": "code",
      "execution_count": null,
      "metadata": {
        "id": "IRwi0SHBxXio"
      },
      "outputs": [],
      "source": [
        "delete_dataset = True\n",
        "delete_annotation_spec = True\n",
        "delete_instruction = True\n",
        "delete_labeling_job = True\n",
        "delete_bucket = True\n",
        "\n",
        "\n",
        "try:\n",
        "    if delete_dataset:\n",
        "        clients[\"operations\"].delete_operation(name=labeling_job_name)\n",
        "except Exception as e:\n",
        "    print(e)\n",
        "    \n",
        "try:\n",
        "    if delete_dataset:\n",
        "        clients[\"labeling\"].delete_instruction(name=instruction_name)\n",
        "except Exception as e:\n",
        "    print(e)\n",
        "    \n",
        "try:\n",
        "    if delete_dataset:\n",
        "        clients[\"labeling\"].delete_annotation_spec_set(name=annotation_spec_set_name)\n",
        "except Exception as e:\n",
        "    print(e)\n",
        "\n",
        "try:\n",
        "    if delete_dataset:\n",
        "        clients[\"labeling\"].delete_dataset(name=dataset_id)\n",
        "except Exception as e:\n",
        "    print(e)\n",
        "\n",
        "\n",
        "if delete_bucket and 'BUCKET_NAME' in globals():\n",
        "    ! gsutil rm -r gs://$BUCKET_NAME\n"
      ]
    }
  ],
  "metadata": {
    "colab": {
      "name": "UJ13 legacy Data Labeling task.ipynb",
      "toc_visible": true
    },
    "kernelspec": {
      "display_name": "Python 3",
      "name": "python3"
    }
  },
  "nbformat": 4,
  "nbformat_minor": 0
}
