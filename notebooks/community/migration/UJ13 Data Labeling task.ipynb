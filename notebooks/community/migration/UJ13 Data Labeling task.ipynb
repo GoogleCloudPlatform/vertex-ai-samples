{
  "cells": [
    {
      "cell_type": "code",
      "execution_count": null,
      "metadata": {
        "id": "copyright"
      },
      "outputs": [],
      "source": [
        "# Copyright 2021 Google LLC\n",
        "#\n",
        "# Licensed under the Apache License, Version 2.0 (the \"License\");\n",
        "# you may not use this file except in compliance with the License.\n",
        "# You may obtain a copy of the License at\n",
        "#\n",
        "#     https://www.apache.org/licenses/LICENSE-2.0\n",
        "#\n",
        "# Unless required by applicable law or agreed to in writing, software\n",
        "# distributed under the License is distributed on an \"AS IS\" BASIS,\n",
        "# WITHOUT WARRANTIES OR CONDITIONS OF ANY KIND, either express or implied.\n",
        "# See the License for the specific language governing permissions and\n",
        "# limitations under the License."
      ]
    },
    {
      "cell_type": "markdown",
      "metadata": {
        "id": "title:migration,new"
      },
      "source": [
        "# Vertex SDK: Data Labeling\n"
      ]
    },
    {
      "cell_type": "markdown",
      "metadata": {
        "id": "install_aip"
      },
      "source": [
        "## Installation\n",
        "\n",
        "Install the latest (preview) version of Vertex SDK.\n"
      ]
    },
    {
      "cell_type": "code",
      "execution_count": null,
      "metadata": {
        "id": "A_QVTkXr_i_r"
      },
      "outputs": [],
      "source": [
        "! pip3 install -U google-cloud-aiplatform --user"
      ]
    },
    {
      "cell_type": "markdown",
      "metadata": {
        "id": "install_storage"
      },
      "source": [
        "Install the Google *cloud-storage* library as well.\n"
      ]
    },
    {
      "cell_type": "code",
      "execution_count": null,
      "metadata": {
        "id": "65SBis8d_i_s"
      },
      "outputs": [],
      "source": [
        "! pip3 install google-cloud-storage"
      ]
    },
    {
      "cell_type": "markdown",
      "metadata": {
        "id": "restart"
      },
      "source": [
        "### Restart the Kernel\n",
        "\n",
        "Once you've installed the Vertex SDK and Google *cloud-storage*, you need to restart the notebook kernel so it can find the packages.\n"
      ]
    },
    {
      "cell_type": "code",
      "execution_count": null,
      "metadata": {
        "id": "GIwKc4pk_i_t"
      },
      "outputs": [],
      "source": [
        "import os\n",
        "\n",
        "if not os.getenv(\"AUTORUN\"):\n",
        "    # Automatically restart kernel after installs\n",
        "    import IPython\n",
        "\n",
        "    app = IPython.Application.instance()\n",
        "    app.kernel.do_shutdown(True)"
      ]
    },
    {
      "cell_type": "markdown",
      "metadata": {
        "id": "before_you_begin"
      },
      "source": [
        "## Before you begin\n",
        "\n",
        "### GPU run-time\n",
        "\n",
        "*Make sure you're running this notebook in a GPU runtime if you have that option. In Colab, select* **Runtime > Change Runtime Type > GPU**\n",
        "\n",
        "### Set up your GCP project\n",
        "\n",
        "**The following steps are required, regardless of your notebook environment.**\n",
        "\n",
        "1. [Select or create a GCP project](https://console.cloud.google.com/cloud-resource-manager). When you first create an account, you get a $300 free credit towards your compute/storage costs.\n",
        "\n",
        "2. [Make sure that billing is enabled for your project.](https://cloud.google.com/billing/docs/how-to/modify-project)\n",
        "\n",
        "3. [Enable the Vertex APIs and Compute Engine APIs.](https://console.cloud.google.com/flows/enableapi?apiid=ml.googleapis.com,compute_component)\n",
        "\n",
        "4. [Google Cloud SDK](https://cloud.google.com/sdk) is already installed in Google Cloud Notebooks.\n",
        "\n",
        "5. Enter your project ID in the cell below. Then run the  cell to make sure the\n",
        "Cloud SDK uses the right project for all the commands in this notebook.\n",
        "\n",
        "**Note**: Jupyter runs lines prefixed with `!` as shell commands, and it interpolates Python variables prefixed with `$` into these commands.\n"
      ]
    },
    {
      "cell_type": "code",
      "execution_count": null,
      "metadata": {
        "id": "set_project_id"
      },
      "outputs": [],
      "source": [
        "PROJECT_ID = \"[your-project-id]\"  # @param {type:\"string\"}"
      ]
    },
    {
      "cell_type": "code",
      "execution_count": null,
      "metadata": {
        "id": "autoset_project_id"
      },
      "outputs": [],
      "source": [
        "if PROJECT_ID == \"\" or PROJECT_ID is None or PROJECT_ID == \"[your-project-id]\":\n",
        "    # Get your GCP project id from gcloud\n",
        "    shell_output = !gcloud config list --format 'value(core.project)' 2>/dev/null\n",
        "    PROJECT_ID = shell_output[0]\n",
        "    print(\"Project ID:\", PROJECT_ID)"
      ]
    },
    {
      "cell_type": "code",
      "execution_count": null,
      "metadata": {
        "id": "set_gcloud_project_id"
      },
      "outputs": [],
      "source": [
        "! gcloud config set project $PROJECT_ID"
      ]
    },
    {
      "cell_type": "markdown",
      "metadata": {
        "id": "region"
      },
      "source": [
        "#### Region\n",
        "\n",
        "You can also change the `REGION` variable, which is used for operations\n",
        "throughout the rest of this notebook.  Below are regions supported for Vertex AI. We recommend when possible, to choose the region closest to you.\n",
        "\n",
        "- Americas: `us-central1`\n",
        "- Europe: `europe-west4`\n",
        "- Asia Pacific: `asia-east1`\n",
        "\n",
        "You cannot use a Multi-Regional Storage bucket for training with Vertex. Not all regions provide support for all Vertex services. For the latest support per region, see [Region support for Vertex AI services](https://cloud.google.com/vertex-ai/docs/general/locations)\n"
      ]
    },
    {
      "cell_type": "code",
      "execution_count": null,
      "metadata": {
        "id": "6Xtp5tvK_i_y"
      },
      "outputs": [],
      "source": [
        "REGION = \"us-central1\"  # @param {type: \"string\"}"
      ]
    },
    {
      "cell_type": "markdown",
      "metadata": {
        "id": "timestamp"
      },
      "source": [
        "#### Timestamp\n",
        "\n",
        "If you are in a live tutorial session, you might be using a shared test account or project. To avoid name collisions between users on resources created, you create a timestamp for each instance session, and append onto the name of resources which will be created in this tutorial.\n"
      ]
    },
    {
      "cell_type": "code",
      "execution_count": null,
      "metadata": {
        "id": "d70An-Mg_i_2"
      },
      "outputs": [],
      "source": [
        "from datetime import datetime\n",
        "\n",
        "TIMESTAMP = datetime.now().strftime(\"%Y%m%d%H%M%S\")"
      ]
    },
    {
      "cell_type": "markdown",
      "metadata": {
        "id": "gcp_authenticate"
      },
      "source": [
        "### Authenticate your GCP account\n",
        "\n",
        "**If you are using Google Cloud Notebooks**, your environment is already\n",
        "authenticated. Skip this step.\n",
        "\n",
        "*Note: If you are on an Vertex notebook and run the cell, the cell knows to skip executing the authentication steps.*\n"
      ]
    },
    {
      "cell_type": "code",
      "execution_count": null,
      "metadata": {
        "id": "chybg3Ap_i_2"
      },
      "outputs": [],
      "source": [
        "import os\n",
        "import sys\n",
        "\n",
        "# If you are running this notebook in Colab, run this cell and follow the\n",
        "# instructions to authenticate your Google Cloud account. This provides access\n",
        "# to your Cloud Storage bucket and lets you submit training jobs and prediction\n",
        "# requests.\n",
        "\n",
        "# If on Vertex, then don't execute this code\n",
        "if not os.path.exists(\"/opt/deeplearning/metadata/env_version\"):\n",
        "    if \"google.colab\" in sys.modules:\n",
        "        from google.colab import auth as google_auth\n",
        "\n",
        "        google_auth.authenticate_user()\n",
        "\n",
        "    # If you are running this tutorial in a notebook locally, replace the string\n",
        "    # below with the path to your service account key and run this cell to\n",
        "    # authenticate your Google Cloud account.\n",
        "    else:\n",
        "        %env GOOGLE_APPLICATION_CREDENTIALS your_path_to_credentials.json\n",
        "\n",
        "    # Log in to your account on Google Cloud\n",
        "    ! gcloud auth login"
      ]
    },
    {
      "cell_type": "markdown",
      "metadata": {
        "id": "bucket:batch_prediction"
      },
      "source": [
        "### Create a Cloud Storage bucket\n",
        "\n",
        "**The following steps are required, regardless of your notebook environment.**\n",
        "\n",
        "This tutorial is designed to use training data that is in a public Cloud Storage bucket and a local Cloud Storage bucket for your batch predictions. You may alternatively use your own training data that you have stored in a local Cloud Storage bucket.\n",
        "\n",
        "Set the name of your Cloud Storage bucket below. It must be unique across all Cloud Storage buckets.\n"
      ]
    },
    {
      "cell_type": "code",
      "execution_count": null,
      "metadata": {
        "id": "bucket"
      },
      "outputs": [],
      "source": [
        "BUCKET_NAME = \"[your-bucket-name]\"  # @param {type:\"string\"}"
      ]
    },
    {
      "cell_type": "code",
      "execution_count": null,
      "metadata": {
        "id": "autoset_bucket"
      },
      "outputs": [],
      "source": [
        "if BUCKET_NAME == \"\" or BUCKET_NAME is None or BUCKET_NAME == \"[your-bucket-name]\":\n",
        "    BUCKET_NAME = PROJECT_ID + \"aip-\" + TIMESTAMP"
      ]
    },
    {
      "cell_type": "markdown",
      "metadata": {
        "id": "create_bucket"
      },
      "source": [
        "**Only if your bucket doesn't already exist**: Run the following cell to create your Cloud Storage bucket.\n"
      ]
    },
    {
      "cell_type": "code",
      "execution_count": null,
      "metadata": {
        "id": "qPPrwWpO_i_6"
      },
      "outputs": [],
      "source": [
        "! gsutil mb -l $REGION gs://$BUCKET_NAME"
      ]
    },
    {
      "cell_type": "markdown",
      "metadata": {
        "id": "validate_bucket"
      },
      "source": [
        "Finally, validate access to your Cloud Storage bucket by examining its contents:\n"
      ]
    },
    {
      "cell_type": "code",
      "execution_count": null,
      "metadata": {
        "id": "fn744B7x_i_7"
      },
      "outputs": [],
      "source": [
        "! gsutil ls -al gs://$BUCKET_NAME"
      ]
    },
    {
      "cell_type": "markdown",
      "metadata": {
        "id": "setup_vars"
      },
      "source": [
        "### Set up variables\n",
        "\n",
        "Next, set up some variables used throughout the tutorial.\n",
        "### Import libraries and define constants\n"
      ]
    },
    {
      "cell_type": "markdown",
      "metadata": {
        "id": "import_aip"
      },
      "source": [
        "#### Import Vertex SDK\n",
        "\n",
        "Import the Vertex SDK into our Python environment.\n"
      ]
    },
    {
      "cell_type": "code",
      "execution_count": null,
      "metadata": {
        "id": "97-XQPkv_i_7"
      },
      "outputs": [],
      "source": [
        "import os\n",
        "import sys\n",
        "import time\n",
        "\n",
        "from google.cloud.aiplatform import gapic as aip\n",
        "from google.protobuf import json_format\n",
        "from google.protobuf.json_format import MessageToJson, ParseDict\n",
        "from google.protobuf.struct_pb2 import Struct, Value"
      ]
    },
    {
      "cell_type": "markdown",
      "metadata": {
        "id": "aip_constants"
      },
      "source": [
        "#### Vertex AI constants\n",
        "\n",
        "Setup up the following constants for Vertex AI:\n",
        "\n",
        "- `API_ENDPOINT`: The Vertex AI API service endpoint for dataset, model, job, pipeline and endpoint services.\n",
        "- `API_PREDICT_ENDPOINT`: The Vertex AI API service endpoint for prediction.\n",
        "- `PARENT`: The Vertex AI location root path for dataset, model and endpoint resources.\n"
      ]
    },
    {
      "cell_type": "code",
      "execution_count": null,
      "metadata": {
        "id": "kBBYqHEd_i_8"
      },
      "outputs": [],
      "source": [
        "# API Endpoint\n",
        "API_ENDPOINT = \"{}-aiplatform.googleapis.com\".format(REGION)\n",
        "\n",
        "# Vertex AI location root path for your dataset, model and endpoint resources\n",
        "PARENT = \"projects/\" + PROJECT_ID + \"/locations/\" + REGION"
      ]
    },
    {
      "cell_type": "markdown",
      "metadata": {
        "id": "automl_constants:automl"
      },
      "source": [
        "#### AutoML constants\n",
        "\n",
        "Next, setup constants unique to AutoML image classification datasets and training:\n",
        "\n",
        "- Dataset Schemas: Tells the managed dataset service which type of dataset it is.\n",
        "- Data Labeling (Annotations) Schemas: Tells the managed dataset service how the data is labeled (annotated).\n",
        "- Dataset Training Schemas: Tells the Vertex AI Pipelines service the task (e.g., classification) to train the model for.\n"
      ]
    },
    {
      "cell_type": "code",
      "execution_count": null,
      "metadata": {
        "id": "automl_constants:automl,icn"
      },
      "outputs": [],
      "source": [
        "# Image Dataset type\n",
        "IMAGE_SCHEMA = \"google-cloud-aiplatform/schema/dataset/metadata/image_1.0.0.yaml\"\n",
        "# Image Labeling type\n",
        "IMPORT_SCHEMA_IMAGE_CLASSIFICATION = \"gs://google-cloud-aiplatform/schema/dataset/ioformat/image_classification_single_label_io_format_1.0.0.yaml\"\n",
        "# Image labeling task\n",
        "LABELING_SCHEMA_IMAGE = \"gs://google-cloud-aiplatform/schema/datalabelingjob/inputs/image_classification_1.0.0.yaml\""
      ]
    },
    {
      "cell_type": "markdown",
      "metadata": {
        "id": "clients"
      },
      "source": [
        "## Clients\n",
        "\n",
        "The Vertex SDK works as a client/server model. On your side (the Python script) you will create a client that sends requests and receives responses from the server (Vertex).\n",
        "\n",
        "You will use several clients in this tutorial, so set them all up upfront.\n",
        "\n",
        "- Dataset Service for managed datasets.\n",
        "- Job Service for batch jobs and custom training.\n"
      ]
    },
    {
      "cell_type": "code",
      "execution_count": null,
      "metadata": {
        "id": "i2p2VYUz_i_-"
      },
      "outputs": [],
      "source": [
        "# client options same for all services\n",
        "client_options = {\"api_endpoint\": API_ENDPOINT}\n",
        "\n",
        "\n",
        "def create_dataset_client():\n",
        "    client = aip.DatasetServiceClient(client_options=client_options)\n",
        "    return client\n",
        "\n",
        "\n",
        "def create_job_client():\n",
        "    client = aip.JobServiceClient(client_options=client_options)\n",
        "    return client\n",
        "\n",
        "\n",
        "clients = {}\n",
        "clients[\"dataset\"] = create_dataset_client()\n",
        "clients[\"job\"] = create_job_client()\n",
        "\n",
        "for client in clients.items():\n",
        "    print(client)"
      ]
    },
    {
      "cell_type": "code",
      "execution_count": null,
      "metadata": {
        "id": "import_file:flowers,csv,icn"
      },
      "outputs": [],
      "source": [
        "import tensorflow as tf\n",
        "\n",
        "LABELING_FILES = [\n",
        "    \"https://raw.githubusercontent.com/googleapis/python-aiplatform/master/samples/snippets/resources/daisy.jpg\"\n",
        "]\n",
        "\n",
        "IMPORT_FILE = \"gs://\" + BUCKET_NAME + \"/labeling.csv\"\n",
        "with tf.io.gfile.GFile(IMPORT_FILE, \"w\") as f:\n",
        "    for lf in LABELING_FILES:\n",
        "        ! wget {lf} | gsutil cp {lf.split(\"/\")[-1]} gs://{BUCKET_NAME}\n",
        "        f.write(\"gs://\" + BUCKET_NAME + \"/\" + lf.split(\"/\")[-1] + \"\\n\")"
      ]
    },
    {
      "cell_type": "code",
      "execution_count": null,
      "metadata": {
        "id": "cBgFrDD1_i__"
      },
      "outputs": [],
      "source": [
        "! gsutil cat $IMPORT_FILE"
      ]
    },
    {
      "cell_type": "markdown",
      "metadata": {
        "id": "datasets_create:migration,new,request"
      },
      "source": [
        "*Example output*:\n",
        "```\n",
        "gs://migration-ucaip-trainingaip-20210303215432/daisy.jpg\n",
        "```\n"
      ]
    },
    {
      "cell_type": "markdown",
      "metadata": {
        "id": "create_a_dataset:migration"
      },
      "source": [
        "## Create a dataset\n"
      ]
    },
    {
      "cell_type": "markdown",
      "metadata": {
        "id": "datasets_create:migration,new"
      },
      "source": [
        "### [projects.locations.datasets.create](https://cloud.google.com/vertex-ai/docs/reference/rest/v1beta1/projects.locations.datasets/create)\n"
      ]
    },
    {
      "cell_type": "markdown",
      "metadata": {
        "id": "request:migration"
      },
      "source": [
        "#### Request\n"
      ]
    },
    {
      "cell_type": "code",
      "execution_count": null,
      "metadata": {
        "id": "RsM4amS9_jAB"
      },
      "outputs": [],
      "source": [
        "DATA_SCHEMA = IMAGE_SCHEMA\n",
        "\n",
        "dataset = {\n",
        "    \"display_name\": \"labeling_\" + TIMESTAMP,\n",
        "    \"metadata_schema_uri\": \"gs://\" + DATA_SCHEMA,\n",
        "}\n",
        "\n",
        "print(\n",
        "    MessageToJson(\n",
        "        aip.CreateDatasetRequest(parent=PARENT, dataset=dataset).__dict__[\"_pb\"]\n",
        "    )\n",
        ")"
      ]
    },
    {
      "cell_type": "markdown",
      "metadata": {
        "id": "sPupiwqN_jAB"
      },
      "source": [
        "*Example output*:\n",
        "```\n",
        "{\n",
        "  \"parent\": \"projects/migration-ucaip-training/locations/us-central1\",\n",
        "  \"dataset\": {\n",
        "    \"displayName\": \"labeling_20210303215432\",\n",
        "    \"metadataSchemaUri\": \"gs://google-cloud-aiplatform/schema/dataset/metadata/image_1.0.0.yaml\"\n",
        "  }\n",
        "}\n",
        "```\n"
      ]
    },
    {
      "cell_type": "markdown",
      "metadata": {
        "id": "call:migration"
      },
      "source": [
        "#### Call\n"
      ]
    },
    {
      "cell_type": "code",
      "execution_count": null,
      "metadata": {
        "id": "datasets_create:migration,new,call"
      },
      "outputs": [],
      "source": [
        "request = clients[\"dataset\"].create_dataset(parent=PARENT, dataset=dataset)"
      ]
    },
    {
      "cell_type": "markdown",
      "metadata": {
        "id": "response:migration"
      },
      "source": [
        "#### Response\n"
      ]
    },
    {
      "cell_type": "code",
      "execution_count": null,
      "metadata": {
        "id": "print:migration,new,response"
      },
      "outputs": [],
      "source": [
        "result = request.result()\n",
        "\n",
        "print(MessageToJson(result.__dict__[\"_pb\"]))"
      ]
    },
    {
      "cell_type": "markdown",
      "metadata": {
        "id": "datasets_create:migration,new,response"
      },
      "source": [
        "*Example output*:\n",
        "```\n",
        "{\n",
        "  \"name\": \"projects/116273516712/locations/us-central1/datasets/1165112889535627264\",\n",
        "  \"displayName\": \"labeling_20210303215432\",\n",
        "  \"metadataSchemaUri\": \"gs://google-cloud-aiplatform/schema/dataset/metadata/image_1.0.0.yaml\",\n",
        "  \"labels\": {\n",
        "    \"aiplatform.googleapis.com/dataset_metadata_schema\": \"IMAGE\"\n",
        "  },\n",
        "  \"metadata\": {\n",
        "    \"dataItemSchemaUri\": \"gs://google-cloud-aiplatform/schema/dataset/dataitem/image_1.0.0.yaml\"\n",
        "  }\n",
        "}\n",
        "```\n"
      ]
    },
    {
      "cell_type": "code",
      "execution_count": null,
      "metadata": {
        "id": "dataset_id:migration,new,response"
      },
      "outputs": [],
      "source": [
        "# The full unique ID for the dataset\n",
        "dataset_id = result.name\n",
        "# The short numeric ID for the dataset\n",
        "dataset_short_id = dataset_id.split(\"/\")[-1]\n",
        "\n",
        "print(dataset_id)"
      ]
    },
    {
      "cell_type": "markdown",
      "metadata": {
        "id": "datasets_import:migration,new"
      },
      "source": [
        "### [projects.locations.datasets.import](https://cloud.google.com/vertex-ai/docs/reference/rest/v1beta1/projects.locations.datasets/import)\n"
      ]
    },
    {
      "cell_type": "markdown",
      "metadata": {
        "id": "oJtL08_Q_jAF"
      },
      "source": [
        "#### Request\n"
      ]
    },
    {
      "cell_type": "code",
      "execution_count": null,
      "metadata": {
        "id": "datasets_import:migration,new,request"
      },
      "outputs": [],
      "source": [
        "LABEL_SCHEMA = IMPORT_SCHEMA_IMAGE_CLASSIFICATION\n",
        "\n",
        "import_config = {\n",
        "    \"gcs_source\": {\"uris\": [IMPORT_FILE]},\n",
        "    \"import_schema_uri\": LABEL_SCHEMA,\n",
        "}\n",
        "\n",
        "print(\n",
        "    MessageToJson(\n",
        "        aip.ImportDataRequest(\n",
        "            name=dataset_short_id, import_configs=[import_config]\n",
        "        ).__dict__[\"_pb\"]\n",
        "    )\n",
        ")"
      ]
    },
    {
      "cell_type": "markdown",
      "metadata": {
        "id": "gC5MZDJc_jAG"
      },
      "source": [
        "*Example output*:\n",
        "```\n",
        "{\n",
        "  \"name\": \"1165112889535627264\",\n",
        "  \"importConfigs\": [\n",
        "    {\n",
        "      \"gcsSource\": {\n",
        "        \"uris\": [\n",
        "          \"gs://migration-ucaip-trainingaip-20210303215432/labeling.csv\"\n",
        "        ]\n",
        "      },\n",
        "      \"importSchemaUri\": \"gs://google-cloud-aiplatform/schema/dataset/ioformat/image_classification_single_label_io_format_1.0.0.yaml\"\n",
        "    }\n",
        "  ]\n",
        "}\n",
        "```\n"
      ]
    },
    {
      "cell_type": "markdown",
      "metadata": {
        "id": "rnhDF5vW_jAG"
      },
      "source": [
        "#### Call\n"
      ]
    },
    {
      "cell_type": "code",
      "execution_count": null,
      "metadata": {
        "id": "datasets_import:migration,new,call"
      },
      "outputs": [],
      "source": [
        "request = clients[\"dataset\"].import_data(\n",
        "    name=dataset_id, import_configs=[import_config]\n",
        ")"
      ]
    },
    {
      "cell_type": "markdown",
      "metadata": {
        "id": "zQoFJ2K0_jAH"
      },
      "source": [
        "#### Response\n"
      ]
    },
    {
      "cell_type": "code",
      "execution_count": null,
      "metadata": {
        "id": "K7BjtQ3e_jAH"
      },
      "outputs": [],
      "source": [
        "result = request.result()\n",
        "\n",
        "print(MessageToJson(result.__dict__[\"_pb\"]))"
      ]
    },
    {
      "cell_type": "markdown",
      "metadata": {
        "id": "datasets_import:migration,new,response"
      },
      "source": [
        "*Example output*:\n",
        "```\n",
        "{}\n",
        "```\n"
      ]
    },
    {
      "cell_type": "markdown",
      "metadata": {
        "id": "nkkcsM2Pq3jN"
      },
      "source": [
        "### Create data labeling specialist pool\n"
      ]
    },
    {
      "cell_type": "markdown",
      "metadata": {
        "id": "wlZhYc8iq3jN"
      },
      "source": [
        "In case you do not have access to labeling services execute this section."
      ]
    },
    {
      "cell_type": "code",
      "execution_count": null,
      "metadata": {
        "id": "ySEK40sHq3jN"
      },
      "outputs": [],
      "source": [
        "# add client for specialist pool\n",
        "clients[\"specialist_pool\"] = aip.SpecialistPoolServiceClient(\n",
        "    client_options=client_options\n",
        ")"
      ]
    },
    {
      "cell_type": "markdown",
      "metadata": {
        "id": "trainingpipelines_create:migration,new"
      },
      "source": [
        "### [projects.locations.specialistPools.create](https://cloud.google.com/vertex-ai/docs/reference/rest/v1beta1/projects.locations.specialistPools/createe)\n"
      ]
    },
    {
      "cell_type": "markdown",
      "metadata": {
        "id": "cs4roPCHq3jO"
      },
      "source": [
        "#### Request\n",
        "\n",
        "In this part, you will replace [your-email-address] with your email address. This makes you the specialist and recipient of the labeling request."
      ]
    },
    {
      "cell_type": "code",
      "execution_count": null,
      "metadata": {
        "id": "wsXOMVOMq3jO"
      },
      "outputs": [],
      "source": [
        "EMAIL = \"[your-email-address]\"\n",
        "\n",
        "specialist_pool = {\n",
        "    \"name\": \"labeling_\" + TIMESTAMP,  # he resource name of the SpecialistPool.\n",
        "    \"display_name\": \"labeling_\" + TIMESTAMP,  # user-defined name of the SpecialistPool\n",
        "    \"specialist_manager_emails\": [EMAIL],\n",
        "}\n",
        "\n",
        "print(\n",
        "    MessageToJson(\n",
        "        aip.CreateSpecialistPoolRequest(\n",
        "            parent=PARENT, specialist_pool=specialist_pool\n",
        "        ).__dict__[\"_pb\"]\n",
        "    )\n",
        ")"
      ]
    },
    {
      "cell_type": "markdown",
      "metadata": {
        "id": "bPT3DQwsq3jO"
      },
      "source": [
        "*Example output*:\n",
        "```\n",
        "{\n",
        "  \"parent\": \"projects/migration-ucaip-training/locations/us-central1\",\n",
        "  \"specialistPool\": {\n",
        "    \"name\": \"labeling_20210303215432\",\n",
        "    \"displayName\": \"labeling_20210303215432\",\n",
        "    \"specialistManagerEmails\": [\n",
        "      \"dev@fourteen33.com\"\n",
        "    ]\n",
        "  }\n",
        "}\n",
        "```\n"
      ]
    },
    {
      "cell_type": "markdown",
      "metadata": {
        "id": "ZGfGuq4gq3jO"
      },
      "source": [
        "#### Call\n"
      ]
    },
    {
      "cell_type": "code",
      "execution_count": null,
      "metadata": {
        "id": "LiuOtTM4q3jO"
      },
      "outputs": [],
      "source": [
        "request = clients[\"specialist_pool\"].create_specialist_pool(\n",
        "    parent=PARENT, specialist_pool=specialist_pool\n",
        ")"
      ]
    },
    {
      "cell_type": "markdown",
      "metadata": {
        "id": "Ls4r2QDhq3jO"
      },
      "source": [
        "#### Response\n"
      ]
    },
    {
      "cell_type": "code",
      "execution_count": null,
      "metadata": {
        "id": "imFEkmH2q3jP"
      },
      "outputs": [],
      "source": [
        "result = request.result()\n",
        "\n",
        "print(MessageToJson(result.__dict__[\"_pb\"]))"
      ]
    },
    {
      "cell_type": "markdown",
      "metadata": {
        "id": "i1rCrqH2q3jP"
      },
      "source": [
        "*Example output*:\n",
        "```\n",
        "{\n",
        "  \"name\": \"projects/116273516712/locations/us-central1/specialistPools/1167839678372511744\"\n",
        "}\n",
        "```\n"
      ]
    },
    {
      "cell_type": "code",
      "execution_count": null,
      "metadata": {
        "id": "lqPnPCUjq3jP"
      },
      "outputs": [],
      "source": [
        "specialist_name = result.name\n",
        "\n",
        "specialist_id = specialist_name.split(\"/\")[-1]\n",
        "\n",
        "print(specialist_name)"
      ]
    },
    {
      "cell_type": "markdown",
      "metadata": {
        "id": "train_a_model:migration"
      },
      "source": [
        "## Create data labeling job\n"
      ]
    },
    {
      "cell_type": "markdown",
      "metadata": {
        "id": "nsuFamYYq3jQ"
      },
      "source": [
        "### [projects.locations.dataLabelingJobs.create](https://cloud.google.com/vertex-ai/docs/reference/rest/v1beta1/projects.locations.dataLabelingJobs/create)\n"
      ]
    },
    {
      "cell_type": "code",
      "execution_count": null,
      "metadata": {
        "id": "5AY3SJjQq3jQ"
      },
      "outputs": [],
      "source": [
        "# create placeholder file for valid PDF file with instruction for data labeling\n",
        "! echo \"this is instruction\" >> instruction.txt | gsutil cp instruction.txt gs://$BUCKET_NAME"
      ]
    },
    {
      "cell_type": "markdown",
      "metadata": {
        "id": "m5igPySU_jAJ"
      },
      "source": [
        "#### Request\n"
      ]
    },
    {
      "cell_type": "code",
      "execution_count": null,
      "metadata": {
        "id": "trainingpipelines_create:migration,new,request,icn"
      },
      "outputs": [],
      "source": [
        "LABLEING_SCHEMA = LABELING_SCHEMA_IMAGE\n",
        "INSTRUCTION_FILE = \"gs://\" + BUCKET_NAME + \"/instruction.txt\"\n",
        "\n",
        "inputs = json_format.ParseDict({\"annotation_specs\": [\"rose\"]}, Value())\n",
        "\n",
        "data_labeling_job = {\n",
        "    \"display_name\": \"labeling_\" + TIMESTAMP,\n",
        "    \"datasets\": [dataset_id],\n",
        "    \"labeler_count\": 1,\n",
        "    \"instruction_uri\": INSTRUCTION_FILE,\n",
        "    \"inputs_schema_uri\": LABLEING_SCHEMA,\n",
        "    \"inputs\": inputs,\n",
        "    \"annotation_labels\": {\n",
        "        \"aiplatform.googleapis.com/annotation_set_name\": \"data_labeling_job_specialist_pool\"\n",
        "    },\n",
        "    \"specialist_pools\": [specialist_name],\n",
        "}\n",
        "\n",
        "print(\n",
        "    MessageToJson(\n",
        "        aip.CreateDataLabelingJobRequest(\n",
        "            parent=PARENT, data_labeling_job=data_labeling_job\n",
        "        ).__dict__[\"_pb\"]\n",
        "    )\n",
        ")"
      ]
    },
    {
      "cell_type": "markdown",
      "metadata": {
        "id": "7IQ6Jp8E_jAJ"
      },
      "source": [
        "*Example output*:\n",
        "```\n",
        "{\n",
        "  \"parent\": \"projects/migration-ucaip-training/locations/us-central1\",\n",
        "  \"dataLabelingJob\": {\n",
        "    \"displayName\": \"labeling_20210303215432\",\n",
        "    \"datasets\": [\n",
        "      \"projects/116273516712/locations/us-central1/datasets/1165112889535627264\"\n",
        "    ],\n",
        "    \"labelerCount\": 1,\n",
        "    \"instructionUri\": \"gs://migration-ucaip-trainingaip-20210303215432/instruction.txt\",\n",
        "    \"inputsSchemaUri\": \"gs://google-cloud-aiplatform/schema/datalabelingjob/inputs/image_classification_1.0.0.yaml\",\n",
        "    \"inputs\": {\n",
        "      \"annotation_specs\": [\n",
        "        \"rose\"\n",
        "      ]\n",
        "    },\n",
        "    \"annotationLabels\": {\n",
        "      \"aiplatform.googleapis.com/annotation_set_name\": \"data_labeling_job_specialist_pool\"\n",
        "    },\n",
        "    \"specialistPools\": [\n",
        "      \"projects/116273516712/locations/us-central1/specialistPools/1167839678372511744\"\n",
        "    ]\n",
        "  }\n",
        "\n",
        "```\n"
      ]
    },
    {
      "cell_type": "markdown",
      "metadata": {
        "id": "xhuR86RL_jAK"
      },
      "source": [
        "#### Call\n"
      ]
    },
    {
      "cell_type": "code",
      "execution_count": null,
      "metadata": {
        "id": "trainingpipelines_create:migration,new,call"
      },
      "outputs": [],
      "source": [
        "request = clients[\"job\"].create_data_labeling_job(\n",
        "    parent=PARENT, data_labeling_job=data_labeling_job\n",
        ")"
      ]
    },
    {
      "cell_type": "markdown",
      "metadata": {
        "id": "S8zP7wju_jAL"
      },
      "source": [
        "#### Response\n"
      ]
    },
    {
      "cell_type": "code",
      "execution_count": null,
      "metadata": {
        "id": "print:migration,new,request"
      },
      "outputs": [],
      "source": [
        "print(MessageToJson(request.__dict__[\"_pb\"]))"
      ]
    },
    {
      "cell_type": "markdown",
      "metadata": {
        "id": "trainingpipelines_create:migration,new,response,icn"
      },
      "source": [
        "*Example output*:\n",
        "```\n",
        "{\n",
        "  \"name\": \"projects/116273516712/locations/us-central1/dataLabelingJobs/3830883229125050368\",\n",
        "  \"displayName\": \"labeling_20210303215432\",\n",
        "  \"datasets\": [\n",
        "    \"projects/116273516712/locations/us-central1/datasets/1165112889535627264\"\n",
        "  ],\n",
        "  \"labelerCount\": 1,\n",
        "  \"instructionUri\": \"gs://migration-ucaip-trainingaip-20210303215432/instruction.txt\",\n",
        "  \"inputsSchemaUri\": \"gs://google-cloud-aiplatform/schema/datalabelingjob/inputs/image_classification_1.0.0.yaml\",\n",
        "  \"inputs\": {\n",
        "    \"annotationSpecs\": [\n",
        "      \"rose\"\n",
        "    ]\n",
        "  },\n",
        "  \"state\": \"JOB_STATE_PENDING\",\n",
        "  \"createTime\": \"2021-03-03T21:55:31.239049Z\",\n",
        "  \"updateTime\": \"2021-03-03T21:55:31.239049Z\"\n",
        "}\n",
        "```\n"
      ]
    },
    {
      "cell_type": "code",
      "execution_count": null,
      "metadata": {
        "id": "training_pipeline_id:migration,new,response"
      },
      "outputs": [],
      "source": [
        "labeling_task_name = request.name\n",
        "\n",
        "print(labeling_task_name)"
      ]
    },
    {
      "cell_type": "markdown",
      "metadata": {
        "id": "trainingpipelines_get:migration,new"
      },
      "source": [
        "### [projects.locations.dataLabelingJobs.get](https://cloud.google.com/vertex-ai/docs/reference/rest/v1beta1/projects.locations.dataLabelingJobs/get)\n"
      ]
    },
    {
      "cell_type": "markdown",
      "metadata": {
        "id": "A3jRv70o_jAN"
      },
      "source": [
        "#### Call\n"
      ]
    },
    {
      "cell_type": "code",
      "execution_count": null,
      "metadata": {
        "id": "rPnMOftyq3jS"
      },
      "outputs": [],
      "source": [
        "request = clients[\"job\"].get_data_labeling_job(name=labeling_task_name)"
      ]
    },
    {
      "cell_type": "markdown",
      "metadata": {
        "id": "XC5I2xxt_jAN"
      },
      "source": [
        "#### Response\n"
      ]
    },
    {
      "cell_type": "code",
      "execution_count": null,
      "metadata": {
        "id": "yXZnQR1t_jAO"
      },
      "outputs": [],
      "source": [
        "print(MessageToJson(request.__dict__[\"_pb\"]))"
      ]
    },
    {
      "cell_type": "markdown",
      "metadata": {
        "id": "Df0XR2uMq3jS"
      },
      "source": [
        "*Example output*:\n",
        "```\n",
        "{\n",
        "  \"name\": \"projects/116273516712/locations/us-central1/dataLabelingJobs/3830883229125050368\",\n",
        "  \"displayName\": \"labeling_20210303215432\",\n",
        "  \"datasets\": [\n",
        "    \"projects/116273516712/locations/us-central1/datasets/1165112889535627264\"\n",
        "  ],\n",
        "  \"labelerCount\": 1,\n",
        "  \"instructionUri\": \"gs://migration-ucaip-trainingaip-20210303215432/instruction.txt\",\n",
        "  \"inputsSchemaUri\": \"gs://google-cloud-aiplatform/schema/datalabelingjob/inputs/image_classification_1.0.0.yaml\",\n",
        "  \"inputs\": {\n",
        "    \"annotationSpecs\": [\n",
        "      \"rose\"\n",
        "    ]\n",
        "  },\n",
        "  \"state\": \"JOB_STATE_PENDING\",\n",
        "  \"createTime\": \"2021-03-03T21:55:31.239049Z\",\n",
        "  \"updateTime\": \"2021-03-03T21:55:31.239049Z\",\n",
        "  \"specialistPools\": [\n",
        "    \"projects/116273516712/locations/us-central1/specialistPools/1167839678372511744\"\n",
        "  ]\n",
        "}\n",
        "```\n"
      ]
    },
    {
      "cell_type": "markdown",
      "metadata": {
        "id": "fQ0TVlokq3jS"
      },
      "source": [
        "### [projects.locations.dataLabelingJobs.cancel](https://cloud.google.com/vertex-ai/docs/reference/rest/v1beta1/projects.locations.dataLabelingJobs/cancel)\n"
      ]
    },
    {
      "cell_type": "markdown",
      "metadata": {
        "id": "Mhfy-xKIq3jS"
      },
      "source": [
        "#### Call\n"
      ]
    },
    {
      "cell_type": "code",
      "execution_count": null,
      "metadata": {
        "id": "FZ3dlKJjq3jT"
      },
      "outputs": [],
      "source": [
        "request = clients[\"job\"].cancel_data_labeling_job(name=labeling_task_name)"
      ]
    },
    {
      "cell_type": "markdown",
      "metadata": {
        "id": "ES_05aHoq3jT"
      },
      "source": [
        "#### Response\n"
      ]
    },
    {
      "cell_type": "code",
      "execution_count": null,
      "metadata": {
        "id": "jsIfaQ3Aq3jT"
      },
      "outputs": [],
      "source": [
        "print(request)"
      ]
    },
    {
      "cell_type": "markdown",
      "metadata": {
        "id": "LHnXRXrKq3jT"
      },
      "source": [
        "*Example output*:\n",
        "```\n",
        "None\n",
        "```\n"
      ]
    },
    {
      "cell_type": "code",
      "execution_count": null,
      "metadata": {
        "id": "trainingpipelines_get:migration,new,wait"
      },
      "outputs": [],
      "source": [
        "while True:\n",
        "    response = clients[\"job\"].get_data_labeling_job(name=labeling_task_name)\n",
        "    if response.state == aip.JobState.JOB_STATE_CANCELLED:\n",
        "        print(\"Labeling job CANCELED\")\n",
        "        break\n",
        "    else:\n",
        "        print(\"Canceling labeling job:\", response.state)\n",
        "        time.sleep(60)"
      ]
    },
    {
      "cell_type": "markdown",
      "metadata": {
        "id": "cleanup:migration,new"
      },
      "source": [
        "# Cleaning up\n",
        "\n",
        "To clean up all GCP resources used in this project, you can [delete the GCP\n",
        "project](https://cloud.google.com/resource-manager/docs/creating-managing-projects#shutting_down_projects) you used for the tutorial.\n",
        "\n",
        "Otherwise, you can delete the individual resources you created in this tutorial.\n"
      ]
    },
    {
      "cell_type": "code",
      "execution_count": null,
      "metadata": {
        "id": "aoJ18d8Y_jAy"
      },
      "outputs": [],
      "source": [
        "delete_dataset = True\n",
        "delete_job = True\n",
        "delete_specialist_pool = True\n",
        "delete_bucket = True\n",
        "\n",
        "# Delete the dataset using the Vertex AI fully qualified identifier for the dataset\n",
        "try:\n",
        "    if delete_dataset:\n",
        "        clients[\"dataset\"].delete_dataset(name=dataset_id)\n",
        "except Exception as e:\n",
        "    print(e)\n",
        "\n",
        "# Delete the labeling job using the Vertex AI fully qualified identifier for the dataset\n",
        "try:\n",
        "    if delete_job:\n",
        "        request = clients[\"job\"].delete_data_labeling_job(name=labeling_task_name)\n",
        "except Exception as e:\n",
        "    print(e)\n",
        "\n",
        "# Delete the specialist pool using the Vertex AI fully qualified identifier for the dataset\n",
        "try:\n",
        "    if delete_specialist_pool:\n",
        "        clients[\"specialist_pool\"].delete_specialist_pool(name=specialist_name)\n",
        "except Exception as e:\n",
        "    print(e)\n",
        "\n",
        "\n",
        "if delete_bucket and \"BUCKET_NAME\" in globals():\n",
        "    ! gsutil rm -r gs://$BUCKET_NAME"
      ]
    }
  ],
  "metadata": {
    "colab": {
      "collapsed_sections": [
        "timestamp",
        "gcp_authenticate",
        "bucket:batch_prediction",
        "setup_vars",
        "import_aip",
        "aip_constants",
        "automl_constants:automl",
        "datasets_create:migration,new",
        "request:migration",
        "call:migration",
        "response:migration",
        "datasets_import:migration,new",
        "oJtL08_Q_jAF",
        "rnhDF5vW_jAG",
        "zQoFJ2K0_jAH",
        "trainingpipelines_create:migration,new",
        "m5igPySU_jAJ",
        "xhuR86RL_jAK",
        "S8zP7wju_jAL",
        "trainingpipelines_get:migration,new",
        "A3jRv70o_jAN",
        "XC5I2xxt_jAN",
        "models_evaluations_list:migration,new",
        "Ngn6qqVy_jAQ",
        "F0ryqI3F_jAQ",
        "models_evaluations_get:migration,new",
        "_NXujm2U_jAR",
        "0RLTdCfj_jAS",
        "make_batch_prediction_file:migration,new",
        "make_batch_file:automl,image",
        "batchpredictionjobs_create:migration,new",
        "htIpycBi_jAX",
        "8QO3y-36_jAY",
        "DmClxRYK_jAY",
        "batchpredictionjobs_get:migration,new",
        "aSE_wqES_jAa",
        "LUy0NIF__jAa",
        "endpoints_create:migration,new",
        "Ph5S0j4v_jAc",
        "yjsSo1cM_jAd",
        "ijvF_HGd_jAe",
        "endpoints_deploymodel:migration,new",
        "NFIRI0XT_jAf",
        "c3_4BVyW_jAh",
        "7NmySa8R_jAh",
        "endpoints_predict:migration,new",
        "6fb84nKh_jAk",
        "h6IskqWe_jAo",
        "KHf2BSMR_jAo",
        "endpoints_undeploymodel:migration,new",
        "KrVZz6Uw_jAp",
        "wvFK-kir_jAq",
        "5bwEQMKT_jAr",
        "LOsxiKj4_jAs",
        "PWMEUCbF_jAt",
        "OalQ6m9P_jAu",
        "models_export:migration,new",
        "lqJoqYMI_jAv",
        "v6isqzPQ_jAw",
        "ZCyd1qAb_jAx"
      ],
      "name": "UJ13 unified Data Labeling task.ipynb",
      "toc_visible": true
    },
    "kernelspec": {
      "display_name": "Python 3",
      "name": "python3"
    }
  },
  "nbformat": 4,
  "nbformat_minor": 0
}
