{
 "cells": [
  {
   "cell_type": "code",
   "execution_count": null,
   "metadata": {
    "id": "copyright"
   },
   "outputs": [],
   "source": [
    "# Copyright 2022 Google LLC\n",
    "#\n",
    "# Licensed under the Apache License, Version 2.0 (the \"License\");\n",
    "# you may not use this file except in compliance with the License.\n",
    "# You may obtain a copy of the License at\n",
    "#\n",
    "#     https://www.apache.org/licenses/LICENSE-2.0\n",
    "#\n",
    "# Unless required by applicable law or agreed to in writing, software\n",
    "# distributed under the License is distributed on an \"AS IS\" BASIS,\n",
    "# WITHOUT WARRANTIES OR CONDITIONS OF ANY KIND, either express or implied.\n",
    "# See the License for the specific language governing permissions and\n",
    "# limitations under the License."
   ]
  },
  {
   "cell_type": "markdown",
   "metadata": {
    "id": "title:generic,gcp"
   },
   "source": [
    "# E2E ML on GCP: MLOps stage 1 : formalization: get started with Vertex AI Data Labeling\n",
    "\n",
    "<table align=\"left\">\n",
    "  <td>\n",
    "    <a href=\"https://github.com/GoogleCloudPlatform/vertex-ai-samples/blob/main/notebooks/community/ml_ops/stage1/get_started_with_data_labeling.ipynb\">\n",
    "      <img src=\"https://cloud.google.com/ml-engine/images/github-logo-32px.png\" alt=\"GitHub logo\">\n",
    "      View on GitHub\n",
    "    </a>\n",
    "  </td>\n",
    "  <td>\n",
    "    <a href=\"https://console.cloud.google.com/vertex-ai/workbench/deploy-notebook?download_url=https://github.com/GoogleCloudPlatform/vertex-ai-samples/blob/main/notebooks/community/ml_ops/stage1/get_started_with_data_labeling.ipynb\">\n",
    "      <img src=\"https://lh3.googleusercontent.com/UiNooY4LUgW_oTvpsNhPpQzsstV5W8F7rYgxgGBD85cWJoLmrOzhVs_ksK_vgx40SHs7jCqkTkCk=e14-rj-sc0xffffff-h130-w32\" alt=\"Vertex AI logo\">\n",
    "      Open in Vertex AI Workbench\n",
    "    </a>\n",
    "  </td>\n",
    "</table>\n",
    "<br/><br/><br/>"
   ]
  },
  {
   "cell_type": "markdown",
   "metadata": {
    "id": "overview:mlops"
   },
   "source": [
    "## Overview\n",
    "\n",
    "\n",
    "This tutorial demonstrates how to use Vertex AI for E2E MLOps on Google Cloud in production. This tutorial covers stage 1 : data management: get started with Vertex AI Data Labeling service."
   ]
  },
  {
   "cell_type": "markdown",
   "metadata": {
    "id": "dataset:flowers,icn"
   },
   "source": [
    "### Dataset\n",
    "\n",
    "The dataset used for this tutorial is the [Flowers dataset](https://www.tensorflow.org/datasets/catalog/tf_flowers) from [TensorFlow Datasets](https://www.tensorflow.org/datasets/catalog/overview). The version of the dataset you will use in this tutorial is stored in a public Cloud Storage bucket. The trained model predicts the type of flower an image is from a class of five flowers: daisy, dandelion, rose, sunflower, or tulip."
   ]
  },
  {
   "cell_type": "markdown",
   "metadata": {
    "id": "objective:mlops,stage3,get_started_automl_pipeline_components"
   },
   "source": [
    "### Objective\n",
    "\n",
    "In this tutorial, you learn how to use the `Vertex AI Data Labeling` service/\n",
    "\n",
    "This tutorial uses the following Google Cloud ML services:\n",
    "\n",
    "- `Vertex AI Data Labeling`\n",
    "- `Vertex AI Dataset`\n",
    "\n",
    "The steps performed include:\n",
    "\n",
    "- Create a Specialist Pool for data labelers.\n",
    "- Create a data labeling job.\n",
    "- Submit the data labeling job.\n",
    "- List data labeling jobs.\n",
    "- Cancel a data labeling job.\n",
    "\n",
    "Learn more about [Request a Vertex AI Data Labeling job](https://cloud.google.com/vertex-ai/docs/datasets/data-labeling-job)."
   ]
  },
  {
   "cell_type": "markdown",
   "metadata": {},
   "source": [
    "### Costs \n",
    "\n",
    "\n",
    "This tutorial uses billable components of Google Cloud:\n",
    "\n",
    "* Vertex AI\n",
    "* Cloud Storage\n",
    "\n",
    "\n",
    "Learn about [Vertex AI\n",
    "pricing](https://cloud.google.com/vertex-ai/pricing) and [Cloud Storage\n",
    "pricing](https://cloud.google.com/storage/pricing), and use the [Pricing\n",
    "Calculator](https://cloud.google.com/products/calculator/)\n",
    "to generate a cost estimate based on your projected usage."
   ]
  },
  {
   "cell_type": "markdown",
   "metadata": {
    "id": "install_aip"
   },
   "source": [
    "## Installation\n",
    "\n",
    "Install the following packages to execute this notebook."
   ]
  },
  {
   "cell_type": "code",
   "execution_count": 1,
   "metadata": {
    "id": "install_mlops",
    "tags": []
   },
   "outputs": [
    {
     "name": "stdout",
     "output_type": "stream",
     "text": [
      "Requirement already satisfied: google-cloud-aiplatform in /opt/conda/envs/rr/lib/python3.9/site-packages (1.11.0)\n",
      "Requirement already satisfied: packaging>=14.3 in /opt/conda/envs/rr/lib/python3.9/site-packages (from google-cloud-aiplatform) (21.3)\n",
      "Requirement already satisfied: proto-plus>=1.15.0 in /opt/conda/envs/rr/lib/python3.9/site-packages (from google-cloud-aiplatform) (1.20.3)\n",
      "Requirement already satisfied: google-api-core[grpc]!=2.0.*,!=2.1.*,!=2.2.*,!=2.3.0,<3.0.0dev,>=1.31.5 in /opt/conda/envs/rr/lib/python3.9/site-packages (from google-cloud-aiplatform) (2.7.1)\n",
      "Requirement already satisfied: google-cloud-bigquery<3.0.0dev,>=1.15.0 in /opt/conda/envs/rr/lib/python3.9/site-packages (from google-cloud-aiplatform) (2.34.2)\n",
      "Requirement already satisfied: google-cloud-storage<3.0.0dev,>=1.32.0 in /opt/conda/envs/rr/lib/python3.9/site-packages (from google-cloud-aiplatform) (2.2.1)\n",
      "Requirement already satisfied: protobuf>=3.12.0 in /opt/conda/envs/rr/lib/python3.9/site-packages (from google-api-core[grpc]!=2.0.*,!=2.1.*,!=2.2.*,!=2.3.0,<3.0.0dev,>=1.31.5->google-cloud-aiplatform) (3.20.0rc2)\n",
      "Requirement already satisfied: googleapis-common-protos<2.0dev,>=1.52.0 in /opt/conda/envs/rr/lib/python3.9/site-packages (from google-api-core[grpc]!=2.0.*,!=2.1.*,!=2.2.*,!=2.3.0,<3.0.0dev,>=1.31.5->google-cloud-aiplatform) (1.56.0)\n",
      "Requirement already satisfied: google-auth<3.0dev,>=1.25.0 in /opt/conda/envs/rr/lib/python3.9/site-packages (from google-api-core[grpc]!=2.0.*,!=2.1.*,!=2.2.*,!=2.3.0,<3.0.0dev,>=1.31.5->google-cloud-aiplatform) (2.6.2)\n",
      "Requirement already satisfied: requests<3.0.0dev,>=2.18.0 in /opt/conda/envs/rr/lib/python3.9/site-packages (from google-api-core[grpc]!=2.0.*,!=2.1.*,!=2.2.*,!=2.3.0,<3.0.0dev,>=1.31.5->google-cloud-aiplatform) (2.27.1)\n",
      "Requirement already satisfied: grpcio<2.0dev,>=1.33.2 in /opt/conda/envs/rr/lib/python3.9/site-packages (from google-api-core[grpc]!=2.0.*,!=2.1.*,!=2.2.*,!=2.3.0,<3.0.0dev,>=1.31.5->google-cloud-aiplatform) (1.44.0)\n",
      "Requirement already satisfied: grpcio-status<2.0dev,>=1.33.2 in /opt/conda/envs/rr/lib/python3.9/site-packages (from google-api-core[grpc]!=2.0.*,!=2.1.*,!=2.2.*,!=2.3.0,<3.0.0dev,>=1.31.5->google-cloud-aiplatform) (1.44.0)\n",
      "Requirement already satisfied: google-resumable-media<3.0dev,>=0.6.0 in /opt/conda/envs/rr/lib/python3.9/site-packages (from google-cloud-bigquery<3.0.0dev,>=1.15.0->google-cloud-aiplatform) (2.3.2)\n",
      "Requirement already satisfied: python-dateutil<3.0dev,>=2.7.2 in /opt/conda/envs/rr/lib/python3.9/site-packages (from google-cloud-bigquery<3.0.0dev,>=1.15.0->google-cloud-aiplatform) (2.8.2)\n",
      "Requirement already satisfied: google-cloud-core<3.0.0dev,>=1.4.1 in /opt/conda/envs/rr/lib/python3.9/site-packages (from google-cloud-bigquery<3.0.0dev,>=1.15.0->google-cloud-aiplatform) (2.2.3)\n",
      "Requirement already satisfied: pyparsing!=3.0.5,>=2.0.2 in /opt/conda/envs/rr/lib/python3.9/site-packages (from packaging>=14.3->google-cloud-aiplatform) (3.0.7)\n",
      "Requirement already satisfied: pyasn1-modules>=0.2.1 in /opt/conda/envs/rr/lib/python3.9/site-packages (from google-auth<3.0dev,>=1.25.0->google-api-core[grpc]!=2.0.*,!=2.1.*,!=2.2.*,!=2.3.0,<3.0.0dev,>=1.31.5->google-cloud-aiplatform) (0.2.8)\n",
      "Requirement already satisfied: cachetools<6.0,>=2.0.0 in /opt/conda/envs/rr/lib/python3.9/site-packages (from google-auth<3.0dev,>=1.25.0->google-api-core[grpc]!=2.0.*,!=2.1.*,!=2.2.*,!=2.3.0,<3.0.0dev,>=1.31.5->google-cloud-aiplatform) (5.0.0)\n",
      "Requirement already satisfied: six>=1.9.0 in /opt/conda/envs/rr/lib/python3.9/site-packages (from google-auth<3.0dev,>=1.25.0->google-api-core[grpc]!=2.0.*,!=2.1.*,!=2.2.*,!=2.3.0,<3.0.0dev,>=1.31.5->google-cloud-aiplatform) (1.16.0)\n",
      "Requirement already satisfied: rsa<5,>=3.1.4 in /opt/conda/envs/rr/lib/python3.9/site-packages (from google-auth<3.0dev,>=1.25.0->google-api-core[grpc]!=2.0.*,!=2.1.*,!=2.2.*,!=2.3.0,<3.0.0dev,>=1.31.5->google-cloud-aiplatform) (4.8)\n",
      "Requirement already satisfied: google-crc32c<2.0dev,>=1.0 in /opt/conda/envs/rr/lib/python3.9/site-packages (from google-resumable-media<3.0dev,>=0.6.0->google-cloud-bigquery<3.0.0dev,>=1.15.0->google-cloud-aiplatform) (1.3.0)\n",
      "Requirement already satisfied: urllib3<1.27,>=1.21.1 in /opt/conda/envs/rr/lib/python3.9/site-packages (from requests<3.0.0dev,>=2.18.0->google-api-core[grpc]!=2.0.*,!=2.1.*,!=2.2.*,!=2.3.0,<3.0.0dev,>=1.31.5->google-cloud-aiplatform) (1.26.9)\n",
      "Requirement already satisfied: idna<4,>=2.5 in /opt/conda/envs/rr/lib/python3.9/site-packages (from requests<3.0.0dev,>=2.18.0->google-api-core[grpc]!=2.0.*,!=2.1.*,!=2.2.*,!=2.3.0,<3.0.0dev,>=1.31.5->google-cloud-aiplatform) (3.3)\n",
      "Requirement already satisfied: certifi>=2017.4.17 in /opt/conda/envs/rr/lib/python3.9/site-packages (from requests<3.0.0dev,>=2.18.0->google-api-core[grpc]!=2.0.*,!=2.1.*,!=2.2.*,!=2.3.0,<3.0.0dev,>=1.31.5->google-cloud-aiplatform) (2021.10.8)\n",
      "Requirement already satisfied: charset-normalizer~=2.0.0 in /opt/conda/envs/rr/lib/python3.9/site-packages (from requests<3.0.0dev,>=2.18.0->google-api-core[grpc]!=2.0.*,!=2.1.*,!=2.2.*,!=2.3.0,<3.0.0dev,>=1.31.5->google-cloud-aiplatform) (2.0.12)\n",
      "Requirement already satisfied: pyasn1<0.5.0,>=0.4.6 in /opt/conda/envs/rr/lib/python3.9/site-packages (from pyasn1-modules>=0.2.1->google-auth<3.0dev,>=1.25.0->google-api-core[grpc]!=2.0.*,!=2.1.*,!=2.2.*,!=2.3.0,<3.0.0dev,>=1.31.5->google-cloud-aiplatform) (0.4.8)\n",
      "Requirement already satisfied: google-cloud-storage in /opt/conda/envs/rr/lib/python3.9/site-packages (2.2.1)\n",
      "Requirement already satisfied: google-resumable-media>=2.3.2 in /opt/conda/envs/rr/lib/python3.9/site-packages (from google-cloud-storage) (2.3.2)\n",
      "Requirement already satisfied: protobuf in /opt/conda/envs/rr/lib/python3.9/site-packages (from google-cloud-storage) (3.20.0rc2)\n",
      "Requirement already satisfied: requests<3.0.0dev,>=2.18.0 in /opt/conda/envs/rr/lib/python3.9/site-packages (from google-cloud-storage) (2.27.1)\n",
      "Requirement already satisfied: google-auth<3.0dev,>=1.25.0 in /opt/conda/envs/rr/lib/python3.9/site-packages (from google-cloud-storage) (2.6.2)\n",
      "Requirement already satisfied: google-cloud-core<3.0dev,>=1.6.0 in /opt/conda/envs/rr/lib/python3.9/site-packages (from google-cloud-storage) (2.2.3)\n",
      "Requirement already satisfied: google-api-core!=2.0.*,!=2.1.*,!=2.2.*,!=2.3.0,<3.0.0dev,>=1.31.5 in /opt/conda/envs/rr/lib/python3.9/site-packages (from google-cloud-storage) (2.7.1)\n",
      "Requirement already satisfied: googleapis-common-protos<2.0dev,>=1.52.0 in /opt/conda/envs/rr/lib/python3.9/site-packages (from google-api-core!=2.0.*,!=2.1.*,!=2.2.*,!=2.3.0,<3.0.0dev,>=1.31.5->google-cloud-storage) (1.56.0)\n",
      "Requirement already satisfied: rsa<5,>=3.1.4 in /opt/conda/envs/rr/lib/python3.9/site-packages (from google-auth<3.0dev,>=1.25.0->google-cloud-storage) (4.8)\n",
      "Requirement already satisfied: cachetools<6.0,>=2.0.0 in /opt/conda/envs/rr/lib/python3.9/site-packages (from google-auth<3.0dev,>=1.25.0->google-cloud-storage) (5.0.0)\n",
      "Requirement already satisfied: six>=1.9.0 in /opt/conda/envs/rr/lib/python3.9/site-packages (from google-auth<3.0dev,>=1.25.0->google-cloud-storage) (1.16.0)\n",
      "Requirement already satisfied: pyasn1-modules>=0.2.1 in /opt/conda/envs/rr/lib/python3.9/site-packages (from google-auth<3.0dev,>=1.25.0->google-cloud-storage) (0.2.8)\n",
      "Requirement already satisfied: google-crc32c<2.0dev,>=1.0 in /opt/conda/envs/rr/lib/python3.9/site-packages (from google-resumable-media>=2.3.2->google-cloud-storage) (1.3.0)\n",
      "Requirement already satisfied: certifi>=2017.4.17 in /opt/conda/envs/rr/lib/python3.9/site-packages (from requests<3.0.0dev,>=2.18.0->google-cloud-storage) (2021.10.8)\n",
      "Requirement already satisfied: charset-normalizer~=2.0.0 in /opt/conda/envs/rr/lib/python3.9/site-packages (from requests<3.0.0dev,>=2.18.0->google-cloud-storage) (2.0.12)\n",
      "Requirement already satisfied: urllib3<1.27,>=1.21.1 in /opt/conda/envs/rr/lib/python3.9/site-packages (from requests<3.0.0dev,>=2.18.0->google-cloud-storage) (1.26.9)\n",
      "Requirement already satisfied: idna<4,>=2.5 in /opt/conda/envs/rr/lib/python3.9/site-packages (from requests<3.0.0dev,>=2.18.0->google-cloud-storage) (3.3)\n",
      "Requirement already satisfied: pyasn1<0.5.0,>=0.4.6 in /opt/conda/envs/rr/lib/python3.9/site-packages (from pyasn1-modules>=0.2.1->google-auth<3.0dev,>=1.25.0->google-cloud-storage) (0.4.8)\n"
     ]
    }
   ],
   "source": [
    "import os\n",
    "\n",
    "# The Google Cloud Notebook product has specific requirements\n",
    "IS_GOOGLE_CLOUD_NOTEBOOK = os.path.exists(\"/opt/deeplearning/metadata/env_version\")\n",
    "\n",
    "# Google Cloud Notebook requires dependencies to be installed with '--user'\n",
    "USER_FLAG = \"\"\n",
    "if IS_GOOGLE_CLOUD_NOTEBOOK:\n",
    "    USER_FLAG = \"--user\"\n",
    "\n",
    "# Install the packages\n",
    "! pip3 install --upgrade google-cloud-aiplatform $USER_FLAG\n",
    "! pip3 install --upgrade google-cloud-storage $USER_FLAG"
   ]
  },
  {
   "cell_type": "markdown",
   "metadata": {
    "id": "restart"
   },
   "source": [
    "### Restart the Kernel\n",
    "\n",
    "Once you've installed the Vertex AI SDK and Google *cloud-storage*, you need to restart the notebook kernel so it can find the packages.\n"
   ]
  },
  {
   "cell_type": "code",
   "execution_count": 2,
   "metadata": {
    "id": "GIwKc4pk_i_t"
   },
   "outputs": [],
   "source": [
    "import os\n",
    "\n",
    "if not os.getenv(\"IS_TESTING\"):\n",
    "    # Automatically restart kernel after installs\n",
    "    import IPython\n",
    "\n",
    "    app = IPython.Application.instance()\n",
    "    app.kernel.do_shutdown(True)"
   ]
  },
  {
   "cell_type": "markdown",
   "metadata": {
    "id": "before_you_begin"
   },
   "source": [
    "## Before you begin\n",
    "\n",
    "### GPU run-time\n",
    "\n",
    "*Make sure you're running this notebook in a GPU runtime if you have that option. In Colab, select* **Runtime > Change Runtime Type > GPU**\n",
    "\n",
    "### Set up your GCP project\n",
    "\n",
    "**The following steps are required, regardless of your notebook environment.**\n",
    "\n",
    "1. [Select or create a GCP project](https://console.cloud.google.com/cloud-resource-manager). When you first create an account, you get a $300 free credit towards your compute/storage costs.\n",
    "\n",
    "2. [Make sure that billing is enabled for your project.](https://cloud.google.com/billing/docs/how-to/modify-project)\n",
    "\n",
    "3. [Enable the Vertex AI APIs and Compute Engine APIs.](https://console.cloud.google.com/flows/enableapi?apiid=ml.googleapis.com,compute_component)\n",
    "\n",
    "4. [Google Cloud SDK](https://cloud.google.com/sdk) is already installed in Google Cloud Notebooks.\n",
    "\n",
    "5. Enter your project ID in the cell below. Then run the  cell to make sure the\n",
    "Cloud SDK uses the right project for all the commands in this notebook.\n",
    "\n",
    "**Note**: Jupyter runs lines prefixed with `!` as shell commands, and it interpolates Python variables prefixed with `$` into these commands.\n"
   ]
  },
  {
   "cell_type": "code",
   "execution_count": 25,
   "metadata": {
    "id": "set_project_id"
   },
   "outputs": [],
   "source": [
    "PROJECT_ID = \"[your-project-id]\"  # @param {type:\"string\"}"
   ]
  },
  {
   "cell_type": "code",
   "execution_count": 26,
   "metadata": {
    "id": "autoset_project_id"
   },
   "outputs": [
    {
     "name": "stderr",
     "output_type": "stream",
     "text": [
      "E0330 08:06:57.201329997   15225 fork_posix.cc:70]           Fork support is only compatible with the epoll1 and poll polling strategies\n"
     ]
    },
    {
     "name": "stdout",
     "output_type": "stream",
     "text": [
      "Project ID: vertex-ai-dev\n"
     ]
    }
   ],
   "source": [
    "if PROJECT_ID == \"\" or PROJECT_ID is None or PROJECT_ID == \"[your-project-id]\":\n",
    "    # Get your GCP project id from gcloud\n",
    "    shell_output = !gcloud config list --format 'value(core.project)' 2>/dev/null\n",
    "    PROJECT_ID = shell_output[0]\n",
    "    print(\"Project ID:\", PROJECT_ID)"
   ]
  },
  {
   "cell_type": "code",
   "execution_count": 27,
   "metadata": {
    "id": "set_gcloud_project_id"
   },
   "outputs": [
    {
     "name": "stderr",
     "output_type": "stream",
     "text": [
      "E0330 08:07:00.217158024   15225 fork_posix.cc:70]           Fork support is only compatible with the epoll1 and poll polling strategies\n"
     ]
    },
    {
     "name": "stdout",
     "output_type": "stream",
     "text": [
      "Updated property [core/project].\n"
     ]
    }
   ],
   "source": [
    "! gcloud config set project $PROJECT_ID"
   ]
  },
  {
   "cell_type": "markdown",
   "metadata": {
    "id": "region"
   },
   "source": [
    "#### Region\n",
    "\n",
    "You can also change the `REGION` variable, which is used for operations\n",
    "throughout the rest of this notebook.  Below are regions supported for Vertex AI. We recommend that you choose the region closest to you.\n",
    "\n",
    "- Americas: `us-central1`\n",
    "- Europe: `europe-west4`\n",
    "- Asia Pacific: `asia-east1`\n",
    "\n",
    "You may not use a multi-regional bucket for training with Vertex AI. Not all regions provide support for all Vertex AI services.\n",
    "\n",
    "Learn more about [Vertex AI regions](https://cloud.google.com/vertex-ai/docs/general/locations)."
   ]
  },
  {
   "cell_type": "code",
   "execution_count": 28,
   "metadata": {
    "id": "6Xtp5tvK_i_y"
   },
   "outputs": [],
   "source": [
    "REGION = \"[your-region]\"  # @param {type: \"string\"}\n",
    "\n",
    "if REGION == \"[your-region]\":\n",
    "    REGION = \"us-central1\""
   ]
  },
  {
   "cell_type": "markdown",
   "metadata": {
    "id": "timestamp"
   },
   "source": [
    "#### Timestamp\n",
    "\n",
    "If you are in a live tutorial session, you might be using a shared test account or project. To avoid name collisions between users on resources created, you create a timestamp for each instance session, and append onto the name of resources which will be created in this tutorial.\n"
   ]
  },
  {
   "cell_type": "code",
   "execution_count": 29,
   "metadata": {
    "id": "d70An-Mg_i_2"
   },
   "outputs": [],
   "source": [
    "from datetime import datetime\n",
    "\n",
    "TIMESTAMP = datetime.now().strftime(\"%Y%m%d%H%M%S\")"
   ]
  },
  {
   "cell_type": "markdown",
   "metadata": {
    "id": "d29f41c6619e"
   },
   "source": [
    "#### Email\n",
    "\n",
    "You need an email address to send labeling job request to. This is the email address will be the manager of the data labeling specialist pool.\n",
    "\n",
    "In this tutorial, if you don't specify an email address, the email address associated with your project ID will be used."
   ]
  },
  {
   "cell_type": "code",
   "execution_count": 30,
   "metadata": {
    "id": "4e443c02540c"
   },
   "outputs": [],
   "source": [
    "EMAIL = \"[your-email-address]\"  # @param {type: \"string\"}"
   ]
  },
  {
   "cell_type": "code",
   "execution_count": 31,
   "metadata": {
    "id": "ca885f17d6ac"
   },
   "outputs": [
    {
     "name": "stderr",
     "output_type": "stream",
     "text": [
      "E0330 08:07:12.767462063   15225 fork_posix.cc:70]           Fork support is only compatible with the epoll1 and poll polling strategies\n"
     ]
    },
    {
     "name": "stdout",
     "output_type": "stream",
     "text": [
      "931647533046-compute@developer.gserviceaccount.com\n"
     ]
    }
   ],
   "source": [
    "if EMAIL == \"[your-email-address]\":\n",
    "    shell_output = ! gcloud auth list 2>/dev/null\n",
    "    EMAIL = shell_output[2].replace(\"*\", \"\").strip()\n",
    "\n",
    "print(EMAIL)"
   ]
  },
  {
   "cell_type": "markdown",
   "metadata": {
    "id": "gcp_authenticate"
   },
   "source": [
    "### Authenticate your GCP account\n",
    "\n",
    "**If you are using Google Cloud Notebooks**, your environment is already\n",
    "authenticated. Skip this step.\n",
    "\n",
    "*Note: If you are on an Vertex AI Workbench notebook and run the cell, the cell knows to skip executing the authentication steps.*\n"
   ]
  },
  {
   "cell_type": "code",
   "execution_count": null,
   "metadata": {
    "id": "chybg3Ap_i_2"
   },
   "outputs": [],
   "source": [
    "import os\n",
    "import sys\n",
    "\n",
    "# If you are running this notebook in Colab, run this cell and follow the\n",
    "# instructions to authenticate your Google Cloud account. This provides access\n",
    "# to your Cloud Storage bucket and lets you submit training jobs and prediction\n",
    "# requests.\n",
    "\n",
    "# If on Vertex AI, then don't execute this code\n",
    "if not os.path.exists(\"/opt/deeplearning/metadata/env_version\"):\n",
    "    if \"google.colab\" in sys.modules:\n",
    "        from google.colab import auth as google_auth\n",
    "\n",
    "        google_auth.authenticate_user()\n",
    "\n",
    "    # If you are running this tutorial in a notebook locally, replace the string\n",
    "    # below with the path to your service account key and run this cell to\n",
    "    # authenticate your Google Cloud account.\n",
    "    else:\n",
    "        %env GOOGLE_APPLICATION_CREDENTIALS your_path_to_credentials.json\n",
    "\n",
    "    # Log in to your account on Google Cloud\n",
    "    ! gcloud auth login"
   ]
  },
  {
   "cell_type": "markdown",
   "metadata": {
    "id": "bucket:batch_prediction"
   },
   "source": [
    "### Create a Cloud Storage bucket\n",
    "\n",
    "**The following steps are required, regardless of your notebook environment.**\n",
    "\n",
    "This tutorial is designed to use training data that is in a public Cloud Storage bucket and a local Cloud Storage bucket for your batch predictions. You may alternatively use your own training data that you have stored in a local Cloud Storage bucket.\n",
    "\n",
    "Set the name of your Cloud Storage bucket below. It must be unique across all Cloud Storage buckets.\n"
   ]
  },
  {
   "cell_type": "code",
   "execution_count": 32,
   "metadata": {
    "id": "bucket"
   },
   "outputs": [],
   "source": [
    "BUCKET_NAME = \"[your-bucket-name]\"  # @param {type:\"string\"}\n",
    "BUCKET_URI = f\"gs://{BUCKET_NAME}\""
   ]
  },
  {
   "cell_type": "code",
   "execution_count": 33,
   "metadata": {
    "id": "autoset_bucket"
   },
   "outputs": [],
   "source": [
    "if BUCKET_URI == \"\" or BUCKET_URI is None or BUCKET_URI == \"gs://[your-bucket-name]\":\n",
    "    BUCKET_URI = \"gs://\" + PROJECT_ID + \"aip-\" + TIMESTAMP"
   ]
  },
  {
   "cell_type": "markdown",
   "metadata": {
    "id": "create_bucket"
   },
   "source": [
    "**Only if your bucket doesn't already exist**: Run the following cell to create your Cloud Storage bucket.\n"
   ]
  },
  {
   "cell_type": "code",
   "execution_count": 34,
   "metadata": {
    "id": "qPPrwWpO_i_6"
   },
   "outputs": [
    {
     "name": "stderr",
     "output_type": "stream",
     "text": [
      "E0330 08:07:20.445481351   15225 fork_posix.cc:70]           Fork support is only compatible with the epoll1 and poll polling strategies\n"
     ]
    },
    {
     "name": "stdout",
     "output_type": "stream",
     "text": [
      "Creating gs://vertex-ai-devaip-20220330080709/...\n"
     ]
    }
   ],
   "source": [
    "! gsutil mb -l $REGION $BUCKET_URI"
   ]
  },
  {
   "cell_type": "markdown",
   "metadata": {
    "id": "validate_bucket"
   },
   "source": [
    "Finally, validate access to your Cloud Storage bucket by examining its contents:\n"
   ]
  },
  {
   "cell_type": "code",
   "execution_count": 35,
   "metadata": {
    "id": "fn744B7x_i_7"
   },
   "outputs": [
    {
     "name": "stderr",
     "output_type": "stream",
     "text": [
      "E0330 08:07:24.138360770   15225 fork_posix.cc:70]           Fork support is only compatible with the epoll1 and poll polling strategies\n"
     ]
    }
   ],
   "source": [
    "! gsutil ls -al $BUCKET_URI"
   ]
  },
  {
   "cell_type": "markdown",
   "metadata": {
    "id": "setup_vars"
   },
   "source": [
    "### Set up variables\n",
    "\n",
    "Next, set up some variables used throughout the tutorial.\n",
    "### Import libraries and define constants\n"
   ]
  },
  {
   "cell_type": "markdown",
   "metadata": {
    "id": "import_aip"
   },
   "source": [
    "#### Import Vertex AI SDK\n",
    "\n",
    "Import the Vertex AI SDK into our Python environment.\n"
   ]
  },
  {
   "cell_type": "code",
   "execution_count": 36,
   "metadata": {
    "id": "97-XQPkv_i_7"
   },
   "outputs": [],
   "source": [
    "import os\n",
    "import sys\n",
    "import time\n",
    "\n",
    "import google.cloud.aiplatform as aip\n",
    "from google.cloud import storage\n",
    "from google.cloud.aiplatform import gapic\n",
    "from google.protobuf.json_format import ParseDict\n",
    "from google.protobuf.struct_pb2 import Value\n"
   ]
  },
  {
   "cell_type": "markdown",
   "metadata": {
    "id": "aip_constants"
   },
   "source": [
    "#### Vertex AI constants\n",
    "\n",
    "Setup up the following constants for Vertex AI:\n",
    "\n",
    "- `API_ENDPOINT`: The Vertex AI API service endpoint for dataset, model, job, pipeline and endpoint services.\n",
    "- `PARENT`: The Vertex AI location root path for dataset, model and endpoint resources."
   ]
  },
  {
   "cell_type": "code",
   "execution_count": 37,
   "metadata": {
    "id": "kBBYqHEd_i_8"
   },
   "outputs": [],
   "source": [
    "# API Endpoint\n",
    "API_ENDPOINT = \"{}-aiplatform.googleapis.com\".format(REGION)\n",
    "\n",
    "# Vertex AI location root path for your dataset, model and endpoint resources\n",
    "PARENT = \"projects/\" + PROJECT_ID + \"/locations/\" + REGION"
   ]
  },
  {
   "cell_type": "markdown",
   "metadata": {
    "id": "automl_constants:automl"
   },
   "source": [
    "#### Schema constants\n",
    "\n",
    "Next, setup constants for schemas related image classification datasets:\n",
    "\n",
    "- Data Labeling (Annotations) Schemas: Tells the managed dataset service how the data is labeled (annotated)."
   ]
  },
  {
   "cell_type": "code",
   "execution_count": 38,
   "metadata": {
    "id": "automl_constants:automl,icn"
   },
   "outputs": [],
   "source": [
    "# Image labeling task\n",
    "LABELING_SCHEMA_IMAGE = \"gs://google-cloud-aiplatform/schema/datalabelingjob/inputs/image_classification_1.0.0.yaml\""
   ]
  },
  {
   "cell_type": "markdown",
   "metadata": {
    "id": "clients"
   },
   "source": [
    "## Create clients\n",
    "\n",
    "The Vertex AI SDK works as a client/server model. On your side (the Python script) you create a client that sends requests and receives responses from the server (Vertex AI).\n",
    "\n",
    "You use several clients in this tutorial, so set them all up upfront.\n",
    "\n",
    "- Specialist pool service for specialist pools\n",
    "- Job Service for data labeling\n"
   ]
  },
  {
   "cell_type": "code",
   "execution_count": 39,
   "metadata": {
    "id": "i2p2VYUz_i_-"
   },
   "outputs": [
    {
     "name": "stdout",
     "output_type": "stream",
     "text": [
      "('job', <google.cloud.aiplatform_v1.services.job_service.client.JobServiceClient object at 0x7f6d23c6a6d0>)\n",
      "('specialist_pool', <google.cloud.aiplatform_v1.services.specialist_pool_service.client.SpecialistPoolServiceClient object at 0x7f6d5e470400>)\n"
     ]
    }
   ],
   "source": [
    "# client options same for all services\n",
    "client_options = {\"api_endpoint\": API_ENDPOINT}\n",
    "\n",
    "clients = {}\n",
    "clients[\"job\"] = gapic.JobServiceClient(client_options=client_options)\n",
    "\n",
    "# add client for specialist pool\n",
    "clients[\"specialist_pool\"] = gapic.SpecialistPoolServiceClient(\n",
    "    client_options=client_options\n",
    ")\n",
    "\n",
    "for client in clients.items():\n",
    "    print(client)"
   ]
  },
  {
   "cell_type": "markdown",
   "metadata": {
    "id": "1d4b33eb3c71"
   },
   "source": [
    "### Create a CSV file for examples to label\n",
    "\n",
    "Next, you will create a CSV file for the examples you are requesting to be labeled. \n",
    "\n",
    "In this example, the examples to label are images. For each row in the CSV file, you specify the Cloud Storage location of the image to label."
   ]
  },
  {
   "cell_type": "code",
   "execution_count": 40,
   "metadata": {
    "id": "import_file:flowers,csv,icn"
   },
   "outputs": [
    {
     "name": "stdout",
     "output_type": "stream",
     "text": [
      "gs://vertex-ai-devaip-20220330080709/labeling.csv\n"
     ]
    },
    {
     "name": "stderr",
     "output_type": "stream",
     "text": [
      "E0330 08:07:37.984447577   15225 fork_posix.cc:70]           Fork support is only compatible with the epoll1 and poll polling strategies\n"
     ]
    },
    {
     "name": "stdout",
     "output_type": "stream",
     "text": [
      "gs://cloud-samples-data/vision/automl_classification/flowers/daisy/100080576_f52e8ee070_n.jpg\n",
      "gs://cloud-samples-data/vision/automl_classification/flowers/daisy/102841525_bd6628ae3c.jpg\n"
     ]
    }
   ],
   "source": [
    "test_filename='labeling.csv'\n",
    "LABELING_FILES = [\n",
    "    \"gs://cloud-samples-data/vision/automl_classification/flowers/daisy/100080576_f52e8ee070_n.jpg\",\n",
    "    \"gs://cloud-samples-data/vision/automl_classification/flowers/daisy/102841525_bd6628ae3c.jpg\",\n",
    "]\n",
    "\n",
    "IMPORT_FILE = BUCKET_URI + \"/labeling.csv\"\n",
    "\n",
    "bucket = storage.Client(project=PROJECT_ID).bucket(BUCKET_URI.replace(\"gs://\", \"\"))\n",
    "\n",
    "# creating a blob\n",
    "blob = bucket.blob(blob_name=test_filename)\n",
    "\n",
    "# creating data variable\n",
    "data = LABELING_FILES[0] + \"\\n\" + LABELING_FILES[1] + \"\\n\"\n",
    "\n",
    "# uploading data variable content to bucket\n",
    "blob.upload_from_string(data,content_type='text/csv')\n",
    "\n",
    "# printing path of uploaded file\n",
    "print(IMPORT_FILE)\n",
    "\n",
    "# printing content of uploaded file\n",
    "! gsutil cat $IMPORT_FILE"
   ]
  },
  {
   "cell_type": "markdown",
   "metadata": {
    "id": "create_a_dataset:migration"
   },
   "source": [
    "## Create a unlabeled dataset\n",
    "\n",
    "Next, you create a dataset for the data to be labeled."
   ]
  },
  {
   "cell_type": "code",
   "execution_count": 41,
   "metadata": {
    "id": "9af8aed4e3ab"
   },
   "outputs": [
    {
     "name": "stdout",
     "output_type": "stream",
     "text": [
      "INFO:google.cloud.aiplatform.datasets.dataset:Creating ImageDataset\n",
      "INFO:google.cloud.aiplatform.datasets.dataset:Create ImageDataset backing LRO: projects/931647533046/locations/us-central1/datasets/3776914800387293184/operations/3121085320196521984\n",
      "INFO:google.cloud.aiplatform.datasets.dataset:ImageDataset created. Resource name: projects/931647533046/locations/us-central1/datasets/3776914800387293184\n",
      "INFO:google.cloud.aiplatform.datasets.dataset:To use this ImageDataset in another session:\n",
      "INFO:google.cloud.aiplatform.datasets.dataset:ds = aiplatform.ImageDataset('projects/931647533046/locations/us-central1/datasets/3776914800387293184')\n",
      "<google.cloud.aiplatform.datasets.image_dataset.ImageDataset object at 0x7f6d23c28910> \n",
      "resource name: projects/931647533046/locations/us-central1/datasets/3776914800387293184\n"
     ]
    }
   ],
   "source": [
    "dataset = aip.ImageDataset.create(\"labeling_\" + TIMESTAMP)\n",
    "print(dataset)"
   ]
  },
  {
   "cell_type": "markdown",
   "metadata": {
    "id": "92909927fe7e"
   },
   "source": [
    "## Import the unlabeled data\n",
    "\n",
    "Now, import the unlabeled data to the dataset, i.e., the examples to be labeled."
   ]
  },
  {
   "cell_type": "code",
   "execution_count": 42,
   "metadata": {
    "id": "c137a55b822e"
   },
   "outputs": [
    {
     "name": "stdout",
     "output_type": "stream",
     "text": [
      "INFO:google.cloud.aiplatform.datasets.dataset:Importing ImageDataset data: projects/931647533046/locations/us-central1/datasets/3776914800387293184\n",
      "INFO:google.cloud.aiplatform.datasets.dataset:Import ImageDataset data backing LRO: projects/931647533046/locations/us-central1/datasets/3776914800387293184/operations/5848014894569357312\n",
      "INFO:google.cloud.aiplatform.datasets.dataset:ImageDataset data imported. Resource name: projects/931647533046/locations/us-central1/datasets/3776914800387293184\n"
     ]
    },
    {
     "data": {
      "text/plain": [
       "<google.cloud.aiplatform.datasets.image_dataset.ImageDataset object at 0x7f6d23c28910> \n",
       "resource name: projects/931647533046/locations/us-central1/datasets/3776914800387293184"
      ]
     },
     "execution_count": 42,
     "metadata": {},
     "output_type": "execute_result"
    }
   ],
   "source": [
    "dataset.import_data(\n",
    "    gcs_source=[IMPORT_FILE],\n",
    "    import_schema_uri=aip.schema.dataset.ioformat.image.single_label_classification,\n",
    ")"
   ]
  },
  {
   "cell_type": "markdown",
   "metadata": {
    "id": "trainingpipelines_create:migration,new"
   },
   "source": [
    "## Create a new data specialist pool\n",
    "\n",
    "Your data labeling job will be sent to a data specialist pool. You may have one or more multiple specialist pools. \n",
    "\n",
    "In this next step, you create a new specialist pool with the method `create_specialist_pool()`. The request includes the parameters:\n",
    "\n",
    "- `name`: The resource name of the specialist pool.\n",
    "- `display_name`: A human readable name for the specialist pool.\n",
    "- `specialist_manager_emails`: A list of the email addresses of the manager(s) for the specialist pool.\n",
    "\n",
    "*Note:* You can use an existing specialist pool if one already existed."
   ]
  },
  {
   "cell_type": "code",
   "execution_count": 43,
   "metadata": {
    "id": "wsXOMVOMq3jO"
   },
   "outputs": [
    {
     "name": "stdout",
     "output_type": "stream",
     "text": [
      "name: \"projects/931647533046/locations/us-central1/specialistPools/246114682761379840\"\n",
      "\n",
      "projects/931647533046/locations/us-central1/specialistPools/246114682761379840\n"
     ]
    }
   ],
   "source": [
    "specialist_pool = {\n",
    "    \"name\": \"labeling_\" + TIMESTAMP,\n",
    "    \"display_name\": \"labeling_\" + TIMESTAMP,\n",
    "    \"specialist_manager_emails\": [EMAIL],\n",
    "}\n",
    "\n",
    "request = clients[\"specialist_pool\"].create_specialist_pool(\n",
    "    parent=PARENT, specialist_pool=specialist_pool\n",
    ")\n",
    "\n",
    "result = request.result()\n",
    "print(result)\n",
    "\n",
    "specialist_name = result.name\n",
    "\n",
    "specialist_id = specialist_name.split(\"/\")[-1]\n",
    "\n",
    "print(specialist_name)"
   ]
  },
  {
   "cell_type": "markdown",
   "metadata": {
    "id": "train_a_model:migration"
   },
   "source": [
    "## Create data labeling job\n",
    "\n",
    "Now that you have a specialist pool, you can send a data labeling request using the `create_data_labeling_job()` method.\n",
    "\n",
    "Your request will consist of the following:\n",
    "\n",
    "- The Vertex AI Dataset with the unlabeled data.\n",
    "- Instructions for labeling."
   ]
  },
  {
   "cell_type": "code",
   "execution_count": 44,
   "metadata": {
    "id": "5AY3SJjQq3jQ"
   },
   "outputs": [
    {
     "name": "stderr",
     "output_type": "stream",
     "text": [
      "E0330 08:09:35.711555974   15225 fork_posix.cc:70]           Fork support is only compatible with the epoll1 and poll polling strategies\n"
     ]
    },
    {
     "name": "stdout",
     "output_type": "stream",
     "text": [
      "Copying file://instruction.txt [Content-Type=text/plain]...\n",
      "/ [1 files][   40.0 B/   40.0 B]                                                \n",
      "Operation completed over 1 objects/40.0 B.                                       \n"
     ]
    }
   ],
   "source": [
    "# create placeholder file for instructions for data labeling\n",
    "! echo \"this is instruction\" >> instruction.txt | gsutil cp instruction.txt $BUCKET_URI"
   ]
  },
  {
   "cell_type": "code",
   "execution_count": 45,
   "metadata": {
    "id": "trainingpipelines_create:migration,new,request,icn"
   },
   "outputs": [
    {
     "name": "stdout",
     "output_type": "stream",
     "text": [
      "{'display_name': 'labeling_20220330080709', 'datasets': ['projects/931647533046/locations/us-central1/datasets/3776914800387293184'], 'labeler_count': 1, 'instruction_uri': 'gs://vertex-ai-devaip-20220330080709/instruction.txt', 'inputs_schema_uri': 'gs://google-cloud-aiplatform/schema/datalabelingjob/inputs/image_classification_1.0.0.yaml', 'inputs': struct_value {\n",
      "  fields {\n",
      "    key: \"annotation_specs\"\n",
      "    value {\n",
      "      list_value {\n",
      "        values {\n",
      "          string_value: \"rose\"\n",
      "        }\n",
      "      }\n",
      "    }\n",
      "  }\n",
      "}\n",
      ", 'annotation_labels': {'aiplatform.googleapis.com/annotation_set_name': 'data_labeling_job_specialist_pool'}, 'specialist_pools': ['projects/931647533046/locations/us-central1/specialistPools/246114682761379840']}\n",
      "name: \"projects/931647533046/locations/us-central1/dataLabelingJobs/4032309911042916352\"\n",
      "display_name: \"labeling_20220330080709\"\n",
      "datasets: \"projects/931647533046/locations/us-central1/datasets/3776914800387293184\"\n",
      "labeler_count: 1\n",
      "instruction_uri: \"gs://vertex-ai-devaip-20220330080709/instruction.txt\"\n",
      "inputs_schema_uri: \"gs://google-cloud-aiplatform/schema/datalabelingjob/inputs/image_classification_1.0.0.yaml\"\n",
      "inputs {\n",
      "  struct_value {\n",
      "    fields {\n",
      "      key: \"annotationSpecs\"\n",
      "      value {\n",
      "        list_value {\n",
      "          values {\n",
      "            string_value: \"rose\"\n",
      "          }\n",
      "        }\n",
      "      }\n",
      "    }\n",
      "  }\n",
      "}\n",
      "state: JOB_STATE_PENDING\n",
      "create_time {\n",
      "  seconds: 1648627781\n",
      "  nanos: 865381000\n",
      "}\n",
      "update_time {\n",
      "  seconds: 1648627781\n",
      "  nanos: 865381000\n",
      "}\n",
      "\n",
      "projects/931647533046/locations/us-central1/dataLabelingJobs/4032309911042916352\n"
     ]
    }
   ],
   "source": [
    "LABLEING_SCHEMA = LABELING_SCHEMA_IMAGE\n",
    "INSTRUCTION_FILE = BUCKET_URI + \"/instruction.txt\"\n",
    "\n",
    "inputs = ParseDict({\"annotation_specs\": [\"rose\"]}, Value())\n",
    "\n",
    "data_labeling_job = {\n",
    "    \"display_name\": \"labeling_\" + TIMESTAMP,\n",
    "    \"datasets\": [dataset.resource_name],\n",
    "    \"labeler_count\": 1,\n",
    "    \"instruction_uri\": INSTRUCTION_FILE,\n",
    "    \"inputs_schema_uri\": LABLEING_SCHEMA,\n",
    "    \"inputs\": inputs,\n",
    "    \"annotation_labels\": {\n",
    "        \"aiplatform.googleapis.com/annotation_set_name\": \"data_labeling_job_specialist_pool\"\n",
    "    },\n",
    "    \"specialist_pools\": [specialist_name],\n",
    "}\n",
    "\n",
    "print(data_labeling_job)\n",
    "\n",
    "request = clients[\"job\"].create_data_labeling_job(\n",
    "    parent=PARENT, data_labeling_job=data_labeling_job\n",
    ")\n",
    "\n",
    "print(request)\n",
    "\n",
    "labeling_task_name = request.name\n",
    "\n",
    "print(labeling_task_name)"
   ]
  },
  {
   "cell_type": "markdown",
   "metadata": {
    "id": "A3jRv70o_jAN"
   },
   "source": [
    "### Get a data labeling job\n",
    "\n",
    "You can get information on your data labeling job using the `get_data_labeling_job()` method, with the following parameters:\n",
    "\n",
    "- `name`: The name of the labeling task."
   ]
  },
  {
   "cell_type": "code",
   "execution_count": 46,
   "metadata": {
    "id": "rPnMOftyq3jS"
   },
   "outputs": [
    {
     "name": "stdout",
     "output_type": "stream",
     "text": [
      "name: \"projects/931647533046/locations/us-central1/dataLabelingJobs/4032309911042916352\"\n",
      "display_name: \"labeling_20220330080709\"\n",
      "datasets: \"projects/931647533046/locations/us-central1/datasets/3776914800387293184\"\n",
      "labeler_count: 1\n",
      "instruction_uri: \"gs://vertex-ai-devaip-20220330080709/instruction.txt\"\n",
      "inputs_schema_uri: \"gs://google-cloud-aiplatform/schema/datalabelingjob/inputs/image_classification_1.0.0.yaml\"\n",
      "inputs {\n",
      "  struct_value {\n",
      "    fields {\n",
      "      key: \"annotationSpecs\"\n",
      "      value {\n",
      "        list_value {\n",
      "          values {\n",
      "            string_value: \"rose\"\n",
      "          }\n",
      "        }\n",
      "      }\n",
      "    }\n",
      "  }\n",
      "}\n",
      "state: JOB_STATE_RUNNING\n",
      "create_time {\n",
      "  seconds: 1648627781\n",
      "  nanos: 865381000\n",
      "}\n",
      "update_time {\n",
      "  seconds: 1648627782\n",
      "  nanos: 393063000\n",
      "}\n",
      "specialist_pools: \"projects/931647533046/locations/us-central1/specialistPools/246114682761379840\"\n",
      "\n"
     ]
    }
   ],
   "source": [
    "request = clients[\"job\"].get_data_labeling_job(name=labeling_task_name)\n",
    "print(request)"
   ]
  },
  {
   "cell_type": "markdown",
   "metadata": {
    "id": "fQ0TVlokq3jS"
   },
   "source": [
    "### Cancel a data labeling task\n",
    "\n",
    "You can cancel a data labeling request using the `cancel_data_labeling_job()` method, with the following parameters:\n",
    "\n",
    "- `name`: The name of the labeling task."
   ]
  },
  {
   "cell_type": "code",
   "execution_count": 47,
   "metadata": {
    "id": "FZ3dlKJjq3jT"
   },
   "outputs": [
    {
     "name": "stdout",
     "output_type": "stream",
     "text": [
      "None\n"
     ]
    }
   ],
   "source": [
    "request = clients[\"job\"].cancel_data_labeling_job(name=labeling_task_name)\n",
    "print(request)"
   ]
  },
  {
   "cell_type": "markdown",
   "metadata": {
    "id": "d37f8ede2327"
   },
   "source": [
    "### Wait for labeling job to be canceled\n",
    "\n",
    "The cancel request is asyncrhonous. The code below polls on the labeling job status until the status is CANCELED."
   ]
  },
  {
   "cell_type": "code",
   "execution_count": 48,
   "metadata": {
    "id": "trainingpipelines_get:migration,new,wait"
   },
   "outputs": [
    {
     "name": "stdout",
     "output_type": "stream",
     "text": [
      "Canceling labeling job: JobState.JOB_STATE_RUNNING\n",
      "Labeling job CANCELED\n"
     ]
    }
   ],
   "source": [
    "while True:\n",
    "    response = clients[\"job\"].get_data_labeling_job(name=labeling_task_name)\n",
    "    if response.state == gapic.JobState.JOB_STATE_CANCELLED:\n",
    "        print(\"Labeling job CANCELED\")\n",
    "        break\n",
    "    else:\n",
    "        print(\"Canceling labeling job:\", response.state)\n",
    "        time.sleep(60)"
   ]
  },
  {
   "cell_type": "markdown",
   "metadata": {
    "id": "cleanup:migration,new"
   },
   "source": [
    "# Cleaning up\n",
    "\n",
    "To clean up all GCP resources used in this project, you can [delete the GCP\n",
    "project](https://cloud.google.com/resource-manager/docs/creating-managing-projects#shutting_down_projects) you used for the tutorial.\n",
    "\n",
    "Otherwise, you can delete the individual resources you created in this tutorial.\n"
   ]
  },
  {
   "cell_type": "code",
   "execution_count": 49,
   "metadata": {
    "id": "aoJ18d8Y_jAy"
   },
   "outputs": [
    {
     "name": "stdout",
     "output_type": "stream",
     "text": [
      "INFO:google.cloud.aiplatform.base:Deleting ImageDataset : projects/931647533046/locations/us-central1/datasets/3776914800387293184\n",
      "INFO:google.cloud.aiplatform.base:Delete ImageDataset  backing LRO: projects/931647533046/locations/us-central1/operations/469591039582142464\n",
      "INFO:google.cloud.aiplatform.base:ImageDataset deleted. . Resource name: projects/931647533046/locations/us-central1/datasets/3776914800387293184\n"
     ]
    },
    {
     "name": "stderr",
     "output_type": "stream",
     "text": [
      "E0330 08:12:14.893855329   15225 fork_posix.cc:70]           Fork support is only compatible with the epoll1 and poll polling strategies\n"
     ]
    },
    {
     "name": "stdout",
     "output_type": "stream",
     "text": [
      "Removing gs://vertex-ai-devaip-20220330080709/instruction.txt#1648627777064720...\n",
      "Removing gs://vertex-ai-devaip-20220330080709/labeling.csv#1648627657936184...  \n",
      "/ [2 objects]                                                                   \n",
      "Operation completed over 2 objects.                                              \n",
      "Removing gs://vertex-ai-devaip-20220330080709/...\n"
     ]
    }
   ],
   "source": [
    "# Set this to true only if you'd like to delete your bucket\n",
    "delete_bucket = False\n",
    "\n",
    "# Delete the dataset using the Vertex AI fully qualified identifier for the dataset\n",
    "dataset.delete()\n",
    "\n",
    "# Delete the labeling job using the Vertex AI fully qualified identifier for the dataset\n",
    "request = clients[\"job\"].delete_data_labeling_job(name=labeling_task_name)\n",
    "\n",
    "# Delete the specialist pool using the Vertex AI fully qualified identifier for the dataset\n",
    "clients[\"specialist_pool\"].delete_specialist_pool(name=specialist_name)\n",
    "\n",
    "#Delete the bucket created\n",
    "if delete_bucket or os.getenv(\"IS_TESTING\"):\n",
    "    ! gsutil rm -r $BUCKET_URI"
   ]
  }
 ],
 "metadata": {
  "colab": {
   "collapsed_sections": [
    "timestamp",
    "gcp_authenticate",
    "bucket:batch_prediction",
    "setup_vars",
    "import_aip",
    "aip_constants",
    "automl_constants:automl",
    "datasets_create:migration,new",
    "request:migration",
    "call:migration",
    "response:migration",
    "datasets_import:migration,new",
    "oJtL08_Q_jAF",
    "rnhDF5vW_jAG",
    "zQoFJ2K0_jAH",
    "trainingpipelines_create:migration,new",
    "m5igPySU_jAJ",
    "xhuR86RL_jAK",
    "S8zP7wju_jAL",
    "trainingpipelines_get:migration,new",
    "A3jRv70o_jAN",
    "XC5I2xxt_jAN",
    "models_evaluations_list:migration,new",
    "Ngn6qqVy_jAQ",
    "F0ryqI3F_jAQ",
    "models_evaluations_get:migration,new",
    "_NXujm2U_jAR",
    "0RLTdCfj_jAS",
    "make_batch_prediction_file:migration,new",
    "make_batch_file:automl,image",
    "batchpredictionjobs_create:migration,new",
    "htIpycBi_jAX",
    "8QO3y-36_jAY",
    "DmClxRYK_jAY",
    "batchpredictionjobs_get:migration,new",
    "aSE_wqES_jAa",
    "LUy0NIF__jAa",
    "endpoints_create:migration,new",
    "Ph5S0j4v_jAc",
    "yjsSo1cM_jAd",
    "ijvF_HGd_jAe",
    "endpoints_deploymodel:migration,new",
    "NFIRI0XT_jAf",
    "c3_4BVyW_jAh",
    "7NmySa8R_jAh",
    "endpoints_predict:migration,new",
    "6fb84nKh_jAk",
    "h6IskqWe_jAo",
    "KHf2BSMR_jAo",
    "endpoints_undeploymodel:migration,new",
    "KrVZz6Uw_jAp",
    "wvFK-kir_jAq",
    "5bwEQMKT_jAr",
    "LOsxiKj4_jAs",
    "PWMEUCbF_jAt",
    "OalQ6m9P_jAu",
    "models_export:migration,new",
    "lqJoqYMI_jAv",
    "v6isqzPQ_jAw",
    "ZCyd1qAb_jAx"
   ],
   "name": "get_started_with_data_labeling.ipynb",
   "toc_visible": true
  },
  "environment": {
   "kernel": "conda-env-rr-py",
   "name": "common-cpu.m89",
   "type": "gcloud",
   "uri": "gcr.io/deeplearning-platform-release/base-cpu:m89"
  },
  "kernelspec": {
   "display_name": "Python [conda env:rr]",
   "language": "python",
   "name": "conda-env-rr-py"
  },
  "language_info": {
   "codemirror_mode": {
    "name": "ipython",
    "version": 3
   },
   "file_extension": ".py",
   "mimetype": "text/x-python",
   "name": "python",
   "nbconvert_exporter": "python",
   "pygments_lexer": "ipython3",
   "version": "3.9.12"
  }
 },
 "nbformat": 4,
 "nbformat_minor": 4
}
