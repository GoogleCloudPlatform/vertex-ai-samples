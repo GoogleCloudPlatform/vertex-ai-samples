{
  "cells": [
    {
      "cell_type": "code",
      "execution_count": null,
      "metadata": {
        "id": "copyright"
      },
      "outputs": [],
      "source": [
        "# Copyright 2022 Google LLC\n",
        "#\n",
        "# Licensed under the Apache License, Version 2.0 (the \"License\");\n",
        "# you may not use this file except in compliance with the License.\n",
        "# You may obtain a copy of the License at\n",
        "#\n",
        "#     https://www.apache.org/licenses/LICENSE-2.0\n",
        "#\n",
        "# Unless required by applicable law or agreed to in writing, software\n",
        "# distributed under the License is distributed on an \"AS IS\" BASIS,\n",
        "# WITHOUT WARRANTIES OR CONDITIONS OF ANY KIND, either express or implied.\n",
        "# See the License for the specific language governing permissions and\n",
        "# limitations under the License."
      ]
    },
    {
      "cell_type": "markdown",
      "metadata": {
        "id": "title:generic,gcp"
      },
      "source": [
        "# E2E ML on GCP: MLOps stage 4 : evaluation: get started with AutoML Training and ML Metadata\n",
        "\n",
        "<table align=\"left\">\n",
        "  <td>\n",
        "    <a href=\"https://github.com/GoogleCloudPlatform/vertex-ai-samples/blob/main/notebooks/community/ml_ops/stage4/get_started_with_vertex_ml_metadata_and_automl.ipynb\">\n",
        "      <img src=\"https://cloud.google.com/ml-engine/images/github-logo-32px.png\" alt=\"GitHub logo\">\n",
        "      View on GitHub\n",
        "    </a>\n",
        "  </td>\n",
        "  <td>\n",
        "        <a href=\"https://colab.research.google.com/github/GoogleCloudPlatform/vertex-ai-samples/blob/main/notebooks/community/ml_ops/stage4/get_started_with_vertex_ml_metadata_and_automl.ipynb\">\n",
        "        <img src=\"https://cloud.google.com/ml-engine/images/colab-logo-32px.png\" alt=\"Colab logo\"> Run in Colab\n",
        "        </a>\n",
        "  </td>\n",
        "  <td>\n",
        "    <a href=\"https://console.cloud.google.com/vertex-ai/workbench/deploy-notebook?download_url=https://raw.githubusercontent.com/GoogleCloudPlatform/vertex-ai-samples/main/notebooks/community/ml_ops/stage4/get_started_with_vertex_ml_metadata_and_automl.ipynb\">\n",
        "      <img src=\"https://lh3.googleusercontent.com/UiNooY4LUgW_oTvpsNhPpQzsstV5W8F7rYgxgGBD85cWJoLmrOzhVs_ksK_vgx40SHs7jCqkTkCk=e14-rj-sc0xffffff-h130-w32\" alt=\"Vertex AI logo\">\n",
        "      Open in Vertex AI Workbench\n",
        "    </a>\n",
        "  </td>\n",
        "</table>\n",
        "<br/><br/><br/>"
      ]
    },
    {
      "cell_type": "markdown",
      "metadata": {
        "id": "overview:mlops"
      },
      "source": [
        "## Overview\n",
        "\n",
        "\n",
        "This tutorial demonstrates how to use Vertex AI for E2E MLOps on Google Cloud in production. This tutorial covers stage 4 : evaluation: get started with Vertex ML Metadata and AutoML."
      ]
    },
    {
      "cell_type": "markdown",
      "metadata": {
        "id": "objective:mlops,stage2,get_started_automl_training"
      },
      "source": [
        "### Objective\n",
        "\n",
        "In this tutorial, you learn how to use `AutoML` for training and assemble the corresponding artifact linkage for `Vertex ML Metadata`.\n",
        "\n",
        "This tutorial uses the following Google Cloud ML services:\n",
        "\n",
        "- `AutoML Training`\n",
        "- `Vertex ML Metadata`\n",
        "- `Vertex AI Model` resource\n",
        "- `Vertex AI Endpoint` resource\n",
        "\n",
        "The steps performed include:\n",
        "\n",
        "- Create a `Dataset` resource.\n",
        "- Create a corresponding `google.VertexDataset` artifact.\n",
        "- Train a model using `AutoML`.\n",
        "- Create a corresponding `google.VertexModel` artifact.\n",
        "- Create an `Endpoint` resource.\n",
        "- Create a corresponding `google.Endpoint` artifact.\n",
        "- Deploy the train model to the `Endpoint`.\n",
        "- Create an execution and context for the `AutoML` training job and deployment.\n",
        "- Add the corresponding artifacts and context to the execution.\n",
        "- Add artifact links (event) to the execution.\n",
        "- Display the execution graph."
      ]
    },
    {
      "cell_type": "markdown",
      "metadata": {
        "id": "dataset:flowers,icn"
      },
      "source": [
        "### Datasets\n",
        "\n",
        "The  dataset used for this tutorial is the [Flowers dataset](https://www.tensorflow.org/datasets/catalog/tf_flowers) from [TensorFlow Datasets](https://www.tensorflow.org/datasets/catalog/overview). The version of the dataset in this tutorial is stored in a public Cloud Storage bucket. The trained model predicts the type of flower in a given image from a class of five flowers: daisy, dandelion, rose, sunflower, or tulip."
      ]
    },
    {
      "cell_type": "markdown",
      "metadata": {
        "id": "fb3451ce8e47"
      },
      "source": [
        "### Costs\n",
        "This tutorial uses billable components of Google Cloud:\n",
        "\n",
        "- Vertex AI\n",
        "- Cloud Storage\n",
        "\n",
        "Learn about [Vertex AI pricing](https://cloud.google.com/vertex-ai/pricing) and [Cloud Storage pricing](https://cloud.google.com/storage/pricing) and use the [Pricing Calculator](https://cloud.google.com/products/calculator/) to generate a cost estimate based on your projected usage."
      ]
    },
    {
      "cell_type": "markdown",
      "metadata": {
        "id": "install_mlops"
      },
      "source": [
        "## Installations\n",
        "\n",
        "Install the packages required for executing this notebook."
      ]
    },
    {
      "cell_type": "code",
      "execution_count": null,
      "metadata": {
        "id": "install_mlops"
      },
      "outputs": [],
      "source": [
        "import os\n",
        "\n",
        "# The Vertex AI Workbench Notebook product has specific requirements\n",
        "IS_WORKBENCH_NOTEBOOK = os.getenv(\"DL_ANACONDA_HOME\")\n",
        "IS_USER_MANAGED_WORKBENCH_NOTEBOOK = os.path.exists(\n",
        "    \"/opt/deeplearning/metadata/env_version\"\n",
        ")\n",
        "\n",
        "# Vertex AI Notebook requires dependencies to be installed with '--user'\n",
        "USER_FLAG = \"\"\n",
        "if IS_WORKBENCH_NOTEBOOK:\n",
        "    USER_FLAG = \"--user\"\n",
        "\n",
        "# Install the packages\n",
        "\n",
        "! pip3 install --upgrade google-cloud-aiplatform $USER_FLAG -q\n",
        "! pip3 install --upgrade google-cloud-storage $USER_FLAG -q"
      ]
    },
    {
      "cell_type": "markdown",
      "metadata": {
        "id": "restart"
      },
      "source": [
        "### Restart the kernel\n",
        "\n",
        "Once you've installed the additional packages, you need to restart the notebook kernel so it can find the packages."
      ]
    },
    {
      "cell_type": "code",
      "execution_count": null,
      "metadata": {
        "id": "restart"
      },
      "outputs": [],
      "source": [
        "import os\n",
        "\n",
        "if not os.getenv(\"IS_TESTING\"):\n",
        "    # Automatically restart kernel after installs\n",
        "    import IPython\n",
        "\n",
        "    app = IPython.Application.instance()\n",
        "    app.kernel.do_shutdown(True)"
      ]
    },
    {
      "cell_type": "markdown",
      "metadata": {
        "id": "project_id"
      },
      "source": [
        "## Before you begin\n",
        "\n",
        "### Set up your Google Cloud project\n",
        "\n",
        "**The following steps are required, regardless of your notebook environment.**\n",
        "\n",
        "1. [Select or create a Google Cloud project](https://console.cloud.google.com/cloud-resource-manager). When you first create an account, you get a $300 free credit towards your compute/storage costs.\n",
        "\n",
        "1. [Make sure that billing is enabled for your project](https://cloud.google.com/billing/docs/how-to/modify-project).\n",
        "\n",
        "1. [Enable the Vertex AI, Compute Engine and Cloud Storage APIs](https://console.cloud.google.com/flows/enableapi?apiid=aiplatform.googleapis.com,compute_component,storage_component).\n",
        "\n",
        "1. If you are running this notebook locally, you need to install the [Cloud SDK](https://cloud.google.com/sdk).\n",
        "\n",
        "1. Enter your project ID in the cell below. Then run the cell to make sure the\n",
        "Cloud SDK uses the right project for all the commands in this notebook.\n",
        "\n",
        "**Note**: Jupyter runs lines prefixed with `!` as shell commands, and it interpolates Python variables prefixed with `$` into these commands."
      ]
    },
    {
      "cell_type": "markdown",
      "metadata": {
        "id": "56d591439df1"
      },
      "source": [
        "#### Set your project ID\n",
        "\n",
        "**If you don't know your project ID**, you may be able to get your project ID using `gcloud`."
      ]
    },
    {
      "cell_type": "code",
      "execution_count": null,
      "metadata": {
        "id": "set_project_id"
      },
      "outputs": [],
      "source": [
        "PROJECT_ID = \"[your-project-id]\"  # @param {type:\"string\"}"
      ]
    },
    {
      "cell_type": "code",
      "execution_count": null,
      "metadata": {
        "id": "autoset_project_id"
      },
      "outputs": [],
      "source": [
        "if PROJECT_ID == \"\" or PROJECT_ID is None or PROJECT_ID == \"[your-project-id]\":\n",
        "    # Get your GCP project id from gcloud\n",
        "    shell_output = ! gcloud config list --format 'value(core.project)' 2>/dev/null\n",
        "    PROJECT_ID = shell_output[0]\n",
        "    print(\"Project ID:\", PROJECT_ID)"
      ]
    },
    {
      "cell_type": "code",
      "execution_count": null,
      "metadata": {
        "id": "set_gcloud_project_id"
      },
      "outputs": [],
      "source": [
        "! gcloud config set project $PROJECT_ID"
      ]
    },
    {
      "cell_type": "markdown",
      "metadata": {
        "id": "23988890fef6"
      },
      "source": [
        "#### Get your project number\n",
        "\n",
        "Now that the project ID is set, you get your corresponding project number."
      ]
    },
    {
      "cell_type": "code",
      "execution_count": null,
      "metadata": {
        "id": "2d6950574e1d"
      },
      "outputs": [],
      "source": [
        "shell_output = ! gcloud projects list --filter=\"PROJECT_ID:'{PROJECT_ID}'\" --format='value(PROJECT_NUMBER)'\n",
        "PROJECT_NUMBER = shell_output[0]\n",
        "print(\"Project Number:\", PROJECT_NUMBER)"
      ]
    },
    {
      "cell_type": "markdown",
      "metadata": {
        "id": "region"
      },
      "source": [
        "#### Region\n",
        "\n",
        "You can also change the `REGION` variable, which is used for operations\n",
        "throughout the rest of this notebook.  Below are regions supported for Vertex AI. We recommend that you choose the region closest to you.\n",
        "\n",
        "- Americas: `us-central1`\n",
        "- Europe: `europe-west4`\n",
        "- Asia Pacific: `asia-east1`\n",
        "\n",
        "You may not use a multi-regional bucket for training with Vertex AI. Not all regions provide support for all Vertex AI services.\n",
        "\n",
        "Learn more about [Vertex AI regions](https://cloud.google.com/vertex-ai/docs/general/locations)."
      ]
    },
    {
      "cell_type": "code",
      "execution_count": null,
      "metadata": {
        "id": "region"
      },
      "outputs": [],
      "source": [
        "REGION = \"[your-region]\"  # @param {type: \"string\"}\n",
        "\n",
        "if REGION == \"[your-region]\":\n",
        "    REGION = \"us-central1\""
      ]
    },
    {
      "cell_type": "markdown",
      "metadata": {
        "id": "timestamp"
      },
      "source": [
        "#### Timestamp\n",
        "\n",
        "If you are in a live tutorial session, you might be using a shared test account or project. To avoid name collisions between users on resources created, you create a timestamp for each instance session, and append the timestamp onto the name of resources you create in this tutorial."
      ]
    },
    {
      "cell_type": "code",
      "execution_count": null,
      "metadata": {
        "id": "timestamp"
      },
      "outputs": [],
      "source": [
        "from datetime import datetime\n",
        "\n",
        "TIMESTAMP = datetime.now().strftime(\"%Y%m%d%H%M%S\")"
      ]
    },
    {
      "cell_type": "markdown",
      "metadata": {
        "id": "3ffa6b6c7cdb"
      },
      "source": [
        "### Authenticate your Google Cloud account\n",
        "\n",
        "**If you are using Vertex AI Workbench Notebooks**, your environment is already authenticated. Skip this step.\n",
        "\n",
        "**If you are using Colab**, run the cell below and follow the instructions when prompted to authenticate your account via oAuth.\n",
        "\n",
        "**Otherwise**, follow these steps:\n",
        "\n",
        "In the Cloud Console, go to the [Create service account key](https://console.cloud.google.com/apis/credentials/serviceaccountkey) page.\n",
        "\n",
        "1. **Click Create service account**.\n",
        "\n",
        "2. In the **Service account name** field, enter a name, and click **Create**.\n",
        "\n",
        "3. In the **Grant this service account access to project** section, click the Role drop-down list. Type \"Vertex AI\" into the filter box, and select **Vertex AI Administrator**. Type \"Storage Object Admin\" into the filter box, and select **Storage Object Admin**.\n",
        "\n",
        "4. Click Create. A JSON file that contains your key downloads to your local environment.\n",
        "\n",
        "5. Enter the path to your service account key as the GOOGLE_APPLICATION_CREDENTIALS variable in the cell below and run the cell."
      ]
    },
    {
      "cell_type": "code",
      "execution_count": null,
      "metadata": {
        "id": "2b72272258fc"
      },
      "outputs": [],
      "source": [
        "# If you are running this notebook in Colab, run this cell and follow the\n",
        "# instructions to authenticate your GCP account. This provides access to your\n",
        "# Cloud Storage bucket and lets you submit training jobs and prediction\n",
        "# requests.\n",
        "\n",
        "import os\n",
        "import sys\n",
        "\n",
        "# If on Vertex AI Workbench, then don't execute this code\n",
        "IS_COLAB = \"google.colab\" in sys.modules\n",
        "if not os.path.exists(\"/opt/deeplearning/metadata/env_version\") and not os.getenv(\n",
        "    \"DL_ANACONDA_HOME\"\n",
        "):\n",
        "    if \"google.colab\" in sys.modules:\n",
        "        from google.colab import auth as google_auth\n",
        "\n",
        "        google_auth.authenticate_user()\n",
        "\n",
        "    # If you are running this notebook locally, replace the string below with the\n",
        "    # path to your service account key and run this cell to authenticate your GCP\n",
        "    # account.\n",
        "    elif not os.getenv(\"IS_TESTING\"):\n",
        "        %env GOOGLE_APPLICATION_CREDENTIALS ''"
      ]
    },
    {
      "cell_type": "markdown",
      "metadata": {
        "id": "bucket:mbsdk"
      },
      "source": [
        "### Create a Cloud Storage bucket\n",
        "\n",
        "**The following steps are required, regardless of your notebook environment.**\n",
        "\n",
        "When you initialize the Vertex SDK for Python, you specify a Cloud Storage staging bucket. The staging bucket is where all the data associated with your dataset and model resources are retained across sessions.\n",
        "\n",
        "Set the name of your Cloud Storage bucket below. Bucket names must be globally unique across all Google Cloud projects, including those outside of your organization."
      ]
    },
    {
      "cell_type": "code",
      "execution_count": null,
      "metadata": {
        "id": "bucket"
      },
      "outputs": [],
      "source": [
        "BUCKET_NAME = \"[your-bucket-name]\"  # @param {type:\"string\"}\n",
        "BUCKET_URI = f\"gs://{BUCKET_NAME}\""
      ]
    },
    {
      "cell_type": "code",
      "execution_count": null,
      "metadata": {
        "id": "autoset_bucket"
      },
      "outputs": [],
      "source": [
        "if BUCKET_URI == \"\" or BUCKET_URI is None or BUCKET_URI == \"gs://[your-bucket-name]\":\n",
        "    BUCKET_NAME = PROJECT_ID + \"aip-\" + TIMESTAMP\n",
        "    BUCKET_URI = \"gs://\" + BUCKET_NAME"
      ]
    },
    {
      "cell_type": "markdown",
      "metadata": {
        "id": "create_bucket"
      },
      "source": [
        "**Only if your bucket doesn't already exist**: Run the following cell to create your Cloud Storage bucket."
      ]
    },
    {
      "cell_type": "code",
      "execution_count": null,
      "metadata": {
        "id": "create_bucket"
      },
      "outputs": [],
      "source": [
        "! gsutil mb -l $REGION $BUCKET_URI"
      ]
    },
    {
      "cell_type": "markdown",
      "metadata": {
        "id": "validate_bucket"
      },
      "source": [
        "Finally, validate access to your Cloud Storage bucket by examining its contents:"
      ]
    },
    {
      "cell_type": "code",
      "execution_count": null,
      "metadata": {
        "id": "validate_bucket"
      },
      "outputs": [],
      "source": [
        "! gsutil ls -al $BUCKET_URI"
      ]
    },
    {
      "cell_type": "markdown",
      "metadata": {
        "id": "setup_vars"
      },
      "source": [
        "### Set up variables\n",
        "\n",
        "Next, set up some variables used throughout the tutorial.\n",
        "### Import libraries and define constants"
      ]
    },
    {
      "cell_type": "code",
      "execution_count": null,
      "metadata": {
        "id": "import_aip:mbsdk"
      },
      "outputs": [],
      "source": [
        "import google.cloud.aiplatform as aiplatform\n",
        "import google.cloud.aiplatform_v1beta1 as aip_beta"
      ]
    },
    {
      "cell_type": "markdown",
      "metadata": {
        "id": "init_aip:mbsdk"
      },
      "source": [
        "### Initialize Vertex AI SDK for Python\n",
        "\n",
        "Initialize the Vertex AI SDK for Python for your project and corresponding bucket."
      ]
    },
    {
      "cell_type": "code",
      "execution_count": null,
      "metadata": {
        "id": "init_aip:mbsdk"
      },
      "outputs": [],
      "source": [
        "aiplatform.init(project=PROJECT_ID, staging_bucket=BUCKET_URI)"
      ]
    },
    {
      "cell_type": "markdown",
      "metadata": {
        "id": "aip_constants:fs"
      },
      "source": [
        "#### Vertex AI constants\n",
        "\n",
        "Setup up the following constants for Vertex AI:\n",
        "\n",
        "- `API_ENDPOINT`: The Vertex AI API service endpoint for `ML Metadata` services."
      ]
    },
    {
      "cell_type": "code",
      "execution_count": null,
      "metadata": {
        "id": "aip_constants:fs"
      },
      "outputs": [],
      "source": [
        "# API service endpoint\n",
        "API_ENDPOINT = \"{}-aiplatform.googleapis.com\".format(REGION)\n",
        "\n",
        "# Vertex location root path for your dataset, model and endpoint resources\n",
        "PARENT = \"projects/\" + PROJECT_ID + \"/locations/\" + REGION"
      ]
    },
    {
      "cell_type": "markdown",
      "metadata": {
        "id": "clients:metadata"
      },
      "source": [
        "## Set up clients\n",
        "\n",
        "The Vertex  works as a client/server model. On your side (the Python script) you will create a client that sends requests and receives responses from the Vertex AI server.\n",
        "\n",
        "You will use different clients in this tutorial for different steps in the workflow. So set them all up upfront.\n",
        "\n",
        "- Metadata Service for creating recording, searching and analyzing artifacts and metadata."
      ]
    },
    {
      "cell_type": "code",
      "execution_count": null,
      "metadata": {
        "id": "clients:metadata"
      },
      "outputs": [],
      "source": [
        "# client options same for all services\n",
        "client_options = {\"api_endpoint\": API_ENDPOINT}\n",
        "\n",
        "\n",
        "def create_metadata_client():\n",
        "    client = aip_beta.MetadataServiceClient(client_options=client_options)\n",
        "    return client\n",
        "\n",
        "\n",
        "clients = {}\n",
        "clients[\"metadata\"] = create_metadata_client()\n",
        "\n",
        "for client in clients.items():\n",
        "    print(client)"
      ]
    },
    {
      "cell_type": "markdown",
      "metadata": {
        "id": "automl_training_intro"
      },
      "source": [
        "## AutoML training job\n",
        "\n",
        "AutoML can be used to automatically train a wide variety of image model types. AutoML automates the following:\n",
        "\n",
        "- Dataset preprocessing\n",
        "- Feature Engineering\n",
        "- Data feeding\n",
        "- Model Architecture selection\n",
        "- Hyperparameter tuning\n",
        "- Training the model\n",
        "\n",
        "Learn more about [Vertex AI for AutoML users](https://cloud.google.com/vertex-ai/docs/start/automl-users)"
      ]
    },
    {
      "cell_type": "markdown",
      "metadata": {
        "id": "automl_image_intro"
      },
      "source": [
        "## AutoML image models\n",
        "\n",
        "AutoML can train the following types of image models:\n",
        "\n",
        "- classification\n",
        "- objection detection\n",
        "- segmentation\n",
        "\n",
        "A model can be trained for either deployment to the cloud or exported to the edge.\n",
        "\n",
        "Learn more about [AutoML Model Types](https://cloud.google.com/vertex-ai/docs/start/automl-model-types)"
      ]
    },
    {
      "cell_type": "markdown",
      "metadata": {
        "id": "import_file:u_dataset,csv"
      },
      "source": [
        "#### Location of Cloud Storage training data.\n",
        "\n",
        "Now set the variable `IMPORT_FILE` to the location of the CSV index file in Cloud Storage."
      ]
    },
    {
      "cell_type": "code",
      "execution_count": null,
      "metadata": {
        "id": "import_file:flowers,csv,icn"
      },
      "outputs": [],
      "source": [
        "IMPORT_FILE = (\n",
        "    \"gs://cloud-samples-data/vision/automl_classification/flowers/all_data_v2.csv\"\n",
        ")"
      ]
    },
    {
      "cell_type": "markdown",
      "metadata": {
        "id": "quick_peek:csv"
      },
      "source": [
        "#### Quick peek at your data\n",
        "\n",
        "This tutorial uses a version of the Happy Moments dataset that is stored in a public Cloud Storage bucket, using a CSV index file.\n",
        "\n",
        "Start by doing a quick peek at the data. You count the number of examples by counting the number of rows in the CSV index file  (`wc -l`) and then peek at the first few rows."
      ]
    },
    {
      "cell_type": "code",
      "execution_count": null,
      "metadata": {
        "id": "quick_peek:csv"
      },
      "outputs": [],
      "source": [
        "FILE = IMPORT_FILE\n",
        "\n",
        "count = ! gsutil cat $FILE | wc -l\n",
        "print(\"Number of Examples\", int(count[0]))\n",
        "\n",
        "print(\"First 10 rows\")\n",
        "! gsutil cat $FILE | head"
      ]
    },
    {
      "cell_type": "markdown",
      "metadata": {
        "id": "create_dataset:image,icn"
      },
      "source": [
        "### Create the Dataset\n",
        "\n",
        "Next, create the `Dataset` resource using the `create` method for the `ImageDataset` class, which takes the following parameters:\n",
        "\n",
        "- `display_name`: The human readable name for the `Dataset` resource.\n",
        "- `gcs_source`: A list of one or more dataset index files to import the data items into the `Dataset` resource.\n",
        "- `import_schema_uri`: The data labeling schema for the data items:\n",
        "  - `single_label`: Binary and multi-class classification\n",
        "  - `multi_label`: Multi-label multi-class classification\n",
        "  - `bounding_box`: Object detection\n",
        "  - `image_segmentation`: Segmentation\n",
        "\n",
        "Learn more about [ImageDataset](https://cloud.google.com/vertex-ai/docs/datasets/prepare-image)."
      ]
    },
    {
      "cell_type": "code",
      "execution_count": null,
      "metadata": {
        "id": "create_dataset:image,icn"
      },
      "outputs": [],
      "source": [
        "dataset = aiplatform.ImageDataset.create(\n",
        "    display_name=\"flowers_\" + TIMESTAMP,\n",
        "    gcs_source=[IMPORT_FILE],\n",
        "    import_schema_uri=aiplatform.schema.dataset.ioformat.image.single_label_classification,\n",
        ")\n",
        "\n",
        "print(dataset.resource_name)"
      ]
    },
    {
      "cell_type": "markdown",
      "metadata": {
        "id": "create_metadata_artifact"
      },
      "source": [
        "### Create an `Artifact` resource for the `Vertex AI Dataset`\n",
        "\n",
        "Next, you create an `Artifact` resource using the `create_artifact()` method, with the following parameters:\n",
        "\n",
        "- `parent`: The fully qualified resource identifier to the `Metadatastore` resource -- in this example, you use the default Metadatastore.\n",
        "- `artifact`: The definition of the `Artifact` resource\n",
        "    - `display_name`: The human readable name for the `Artifact` resource.\n",
        "    - `uri`: The uniform resource identifier of the artifact file. In this example, the `Dataset` resource identifier, prepended with `https://{REGION}-aiplatform.googleapis.com/v1/`\n",
        "    - `name`: The resource name of the artifact file. In this example, the `Dataset` resource identifier.\n",
        "    - `labels`: User defined labels to assign to the `Artifact` resource.\n",
        "    - `schema_title`: The title of the schema that describes the metadata. In this example: `google.VertexDataset`.\n",
        "    - `metadata`: The metadata key/value pairs to associate with the `Artifact` resource.\n",
        "- `artifact_id`: (optional) A user defined short ID for the `Artifact` resource."
      ]
    },
    {
      "cell_type": "code",
      "execution_count": null,
      "metadata": {
        "id": "create_metadata_artifact"
      },
      "outputs": [],
      "source": [
        "from google.cloud.aiplatform_v1beta1.types import Artifact\n",
        "\n",
        "artifact_item = Artifact(\n",
        "    display_name=\"flowers_\" + TIMESTAMP,\n",
        "    uri=f\"https://{REGION}-aiplatform.googleapis.com/v1/\" + dataset.resource_name,\n",
        "    name=dataset.resource_name,\n",
        "    schema_title=\"google.VertexDataset\",\n",
        "    metadata={\"data_type\": \"image\", \"annotation_type\": \"image classification\"},\n",
        "    labels={\"my_label\": \"value\"},\n",
        ")\n",
        "\n",
        "artifact_dataset = clients[\"metadata\"].create_artifact(\n",
        "    parent=f\"projects/{PROJECT_NUMBER}/locations/{REGION}/metadataStores/default\",\n",
        "    artifact=artifact_item,\n",
        "    artifact_id=dataset.resource_name.split(\"/\")[-1],\n",
        ")\n",
        "\n",
        "print(artifact_dataset)"
      ]
    },
    {
      "cell_type": "markdown",
      "metadata": {
        "id": "create_automl_pipeline:image,edge,icn"
      },
      "source": [
        "### Create and run training pipeline\n",
        "\n",
        "To train an AutoML model, you perform two steps: 1) create a training pipeline, and 2) run the pipeline.\n",
        "\n",
        "#### Create training pipeline\n",
        "\n",
        "An AutoML training pipeline is created with the `AutoMLImageTrainingJob` class, with the following parameters:\n",
        "\n",
        "- `display_name`: The human readable name for the `TrainingJob` resource.\n",
        "- `prediction_type`: The type task to train the model for.\n",
        "  - `classification`: An image classification model.\n",
        "  - `object_detection`: An image object detection model.\n",
        "- `multi_label`: If a classification task, whether single (`False`) or multi-labeled (`True`).\n",
        "- `model_type`: The type of model for deployment.\n",
        "  - `CLOUD`: Deployment on Google Cloud\n",
        "  - `CLOUD_HIGH_ACCURACY_1`: Optimized for accuracy over latency for deployment on Google Cloud.\n",
        "  - `CLOUD_LOW_LATENCY_`: Optimized for latency over accuracy for deployment on Google Cloud.\n",
        "  - `MOBILE_TF_VERSATILE_1`: Deployment on an edge device.\n",
        "  - `MOBILE_TF_HIGH_ACCURACY_1`:Optimized for accuracy over latency for deployment on an edge device.\n",
        "  - `MOBILE_TF_LOW_LATENCY_1`: Optimized for latency over accuracy for deployment on an edge device.\n",
        "- `base_model`: (optional) Transfer learning from existing `Model` resource -- supported for image classification only.\n",
        "\n",
        "The instantiated object is the DAG (directed acyclic graph) for the training job."
      ]
    },
    {
      "cell_type": "code",
      "execution_count": null,
      "metadata": {
        "id": "create_automl_pipeline:image,edge,icn"
      },
      "outputs": [],
      "source": [
        "dag = aiplatform.AutoMLImageTrainingJob(\n",
        "    display_name=\"flowers_\" + TIMESTAMP,\n",
        "    prediction_type=\"classification\",\n",
        "    multi_label=False,\n",
        "    model_type=\"MOBILE_TF_LOW_LATENCY_1\",\n",
        "    base_model=None,\n",
        ")\n",
        "\n",
        "print(dag)"
      ]
    },
    {
      "cell_type": "markdown",
      "metadata": {
        "id": "run_automl_pipeline:image"
      },
      "source": [
        "#### Run the training pipeline\n",
        "\n",
        "Next, you run the created DAG to start the training job by invoking the method `run`, with the following parameters:\n",
        "\n",
        "- `dataset`: The `Dataset` resource to train the model.\n",
        "- `model_display_name`: The human readable name for the trained model.\n",
        "- `training_fraction_split`: The percentage of the dataset to use for training.\n",
        "- `test_fraction_split`: The percentage of the dataset to use for test (holdout data).\n",
        "- `validation_fraction_split`: The percentage of the dataset to use for validation.\n",
        "- `budget_milli_node_hours`: (optional) Maximum training time specified in unit of milli node-hours (1000 = node-hour).\n",
        "- `disable_early_stopping`: If `True`, training maybe completed before using the entire budget if the service believes it cannot further improve on the model objective measurements.\n",
        "\n",
        "The `run` method when completed returns the `Model` resource.\n",
        "\n",
        "The execution of the training pipeline will take upto > 30 minutes."
      ]
    },
    {
      "cell_type": "code",
      "execution_count": null,
      "metadata": {
        "id": "run_automl_pipeline:image"
      },
      "outputs": [],
      "source": [
        "model = dag.run(\n",
        "    dataset=dataset,\n",
        "    model_display_name=\"flowers_\" + TIMESTAMP,\n",
        "    training_fraction_split=0.8,\n",
        "    validation_fraction_split=0.1,\n",
        "    test_fraction_split=0.1,\n",
        "    budget_milli_node_hours=8000,\n",
        "    disable_early_stopping=False,\n",
        ")"
      ]
    },
    {
      "cell_type": "markdown",
      "metadata": {
        "id": "8a174ac8d11d"
      },
      "source": [
        "### Create an `Artifact` resource for the `Vertex AI Model`\n",
        "\n",
        "Next, you create an `Artifact` resource using the `create_artifact()` method, with the following parameters:\n",
        "\n",
        "- `parent`: The fully qualified resource identifier to the `Metadatastore` resource -- in this example, you use the default Metadatastore.\n",
        "- `artifact`: The definition of the `Artifact` resource\n",
        "    - `display_name`: The human readable name for the `Artifact` resource.\n",
        "    - `uri`: The uniform resource identifier of the artifact file. In this example, the `Model` resource identifier, prepended with `https://{REGION}-aiplatform.googleapis.com/v1/`\n",
        "    - `name`: The resource name of the artifact file. In this example, the `Model` resource identifier.\n",
        "    - `labels`: User defined labels to assign to the `Artifact` resource.\n",
        "    - `schema_title`: The title of the schema that describes the metadata. In this example: `google.VertexModel`.\n",
        "    - `metadata`: The metadata key/value pairs to associate with the `Artifact` resource.\n",
        "- `artifact_id`: (optional) A user defined short ID for the `Artifact` resource."
      ]
    },
    {
      "cell_type": "code",
      "execution_count": null,
      "metadata": {
        "id": "adfb859d7f0c"
      },
      "outputs": [],
      "source": [
        "artifact_item = Artifact(\n",
        "    display_name=\"flowers_\" + TIMESTAMP,\n",
        "    uri=f\"https://{REGION}-aiplatform.googleapis.com/v1/\" + model.resource_name,\n",
        "    name=model.resource_name,\n",
        "    schema_title=\"google.VertexModel\",\n",
        "    metadata={\"model_type\": \"image classification\"},\n",
        "    labels={\"my_label\": \"value\"},\n",
        ")\n",
        "\n",
        "artifact_model = clients[\"metadata\"].create_artifact(\n",
        "    parent=f\"projects/{PROJECT_NUMBER}/locations/{REGION}/metadataStores/default\",\n",
        "    artifact=artifact_item,\n",
        "    artifact_id=model.resource_name.split(\"/\")[-1],\n",
        ")\n",
        "\n",
        "print(artifact_model)"
      ]
    },
    {
      "cell_type": "markdown",
      "metadata": {
        "id": "evaluate_the_model:mbsdk"
      },
      "source": [
        "## Review model evaluation scores\n",
        "\n",
        "After your model training has finished, you can review the evaluation scores for it using the `list_model_evaluations()` method. This method will return an iterator for each evaluation slice."
      ]
    },
    {
      "cell_type": "code",
      "execution_count": null,
      "metadata": {
        "id": "evaluate_the_model:mbsdk"
      },
      "outputs": [],
      "source": [
        "model_evaluations = model.list_model_evaluations()\n",
        "\n",
        "for model_evaluation in model_evaluations:\n",
        "    print(model_evaluation.to_dict())"
      ]
    },
    {
      "cell_type": "markdown",
      "metadata": {
        "id": "2bda7beaa0f2"
      },
      "source": [
        "### Create an `Artifact` resource for the `Vertex AI EvaluationMetrics`\n",
        "\n",
        "Next, you create an `Artifact` resource using the `create_artifact()` method, with the following parameters:\n",
        "\n",
        "- `parent`: The fully qualified resource identifier to the `Metadatastore` resource -- in this example, you use the default Metadatastore.\n",
        "- `artifact`: The definition of the `Artifact` resource\n",
        "    - `display_name`: The human readable name for the `Artifact` resource.\n",
        "    - `uri`: The uniform resource identifier of the artifact file. In this example, the `EvaluationMetrics` resource identifier, prepended with `https://{REGION}-aiplatform.googleapis.com/v1/`\n",
        "    - `name`: The resource name of the artifact file. In this example, the `EvaluationMetrics` resource identifier.\n",
        "    - `labels`: User defined labels to assign to the `Artifact` resource.\n",
        "    - `schema_title`: The title of the schema that describes the metadata. In this example: `system.SlicedClassificationMetrics`.\n",
        "    - `metadata`: The metadata key/value pairs to associate with the `Artifact` resource.\n",
        "- `artifact_id`: (optional) A user defined short ID for the `Artifact` resource."
      ]
    },
    {
      "cell_type": "code",
      "execution_count": null,
      "metadata": {
        "id": "17c0282e0233"
      },
      "outputs": [],
      "source": [
        "artifact_item = Artifact(\n",
        "    display_name=\"flowers_\" + TIMESTAMP,\n",
        "    uri=f\"https://{REGION}-aiplatform.googleapis.com/v1/\"\n",
        "    + model_evaluations[0].resource_name,\n",
        "    name=model_evaluations[0].resource_name,\n",
        "    schema_title=\"system.SlicedClassificationMetrics\",\n",
        "    metadata={\"param\": \"value\"},\n",
        "    labels={\"my_label\": \"value\"},\n",
        ")\n",
        "\n",
        "artifact_metrics = clients[\"metadata\"].create_artifact(\n",
        "    parent=f\"projects/{PROJECT_NUMBER}/locations/{REGION}/metadataStores/default\",\n",
        "    artifact=artifact_item,\n",
        "    artifact_id=model_evaluations[0].resource_name.split(\"/\")[-1],\n",
        ")\n",
        "\n",
        "print(artifact_metrics)"
      ]
    },
    {
      "cell_type": "markdown",
      "metadata": {
        "id": "deploy_model:mbsdk,automatic"
      },
      "source": [
        "## Deploy the model\n",
        "\n",
        "Next, deploy your model for online prediction. To deploy the model, you invoke the `deploy` method."
      ]
    },
    {
      "cell_type": "code",
      "execution_count": null,
      "metadata": {
        "id": "deploy_model:mbsdk,automatic"
      },
      "outputs": [],
      "source": [
        "endpoint = model.deploy()"
      ]
    },
    {
      "cell_type": "markdown",
      "metadata": {
        "id": "1c1799bb238d"
      },
      "source": [
        "### Create an `Artifact` resource for the `Vertex AI Endpoint`\n",
        "\n",
        "Next, you create an `Artifact` resource using the `create_artifact()` method, with the following parameters:\n",
        "\n",
        "- `parent`: The fully qualified resource identifier to the `Metadatastore` resource -- in this example, you use the default Metadatastore.\n",
        "- `artifact`: The definition of the `Artifact` resource\n",
        "    - `display_name`: The human readable name for the `Artifact` resource.\n",
        "    - `uri`: The uniform resource identifier of the artifact file. In this example, the `Endpoint` resource identifier, prepended with `https://{REGION}-aiplatform.googleapis.com/v1/`\n",
        "    - `name`: The resource name of the artifact file. In this example, the `Endpoint` resource identifier.\n",
        "    - `labels`: User defined labels to assign to the `Artifact` resource.\n",
        "    - `schema_title`: The title of the schema that describes the metadata. In this example: `google.VertexEndpoint`.\n",
        "    - `metadata`: The metadata key/value pairs to associate with the `Artifact` resource.\n",
        "- `artifact_id`: (optional) A user defined short ID for the `Artifact` resource."
      ]
    },
    {
      "cell_type": "code",
      "execution_count": null,
      "metadata": {
        "id": "abbd68a66569"
      },
      "outputs": [],
      "source": [
        "artifact_item = Artifact(\n",
        "    display_name=\"flowers_\" + TIMESTAMP,\n",
        "    uri=f\"https://{REGION}-aiplatform.googleapis.com/v1/\" + endpoint.resource_name,\n",
        "    name=endpoint.resource_name,\n",
        "    schema_title=\"google.VertexEndpoint\",\n",
        "    metadata={\"param\": \"value\"},\n",
        "    labels={\"my_label\": \"value\"},\n",
        ")\n",
        "\n",
        "artifact_endpoint = clients[\"metadata\"].create_artifact(\n",
        "    parent=f\"projects/{PROJECT_NUMBER}/locations/{REGION}/metadataStores/default\",\n",
        "    artifact=artifact_item,\n",
        "    artifact_id=endpoint.resource_name.split(\"/\")[-1],\n",
        ")\n",
        "\n",
        "print(artifact_endpoint)"
      ]
    },
    {
      "cell_type": "markdown",
      "metadata": {
        "id": "create_metadata_execution"
      },
      "source": [
        "### Create an `Execution` resource\n",
        "\n",
        "A sequence of steps, with inputs and outputs, is referred to as an execution.\n",
        "\n",
        "Next, you create an `Execution` resource for the AutoML training and model deployment, using the `create_execution()` method, with the following parameters:\n",
        "\n",
        "- `parent`: (optional) The fully qualified resource identifier to the `Metadatastore` resource. \n",
        "- `execution`:\n",
        "    - `display_name`: A human readable name for the `Execution` resource.\n",
        "    - `schema_title`: The title of the schema that describes the metadata. In this example: `system.ContainerExecution`.\n",
        "    - `metadata`: The metadata key/value pairs to associate with the `Execution` resource.\n",
        "- `execution_id`: (optional) A user defined short ID for the `Execution` resource."
      ]
    },
    {
      "cell_type": "code",
      "execution_count": null,
      "metadata": {
        "id": "create_metadata_execution"
      },
      "outputs": [],
      "source": [
        "from google.cloud.aiplatform_v1beta1.types import Execution\n",
        "\n",
        "execution = clients[\"metadata\"].create_execution(\n",
        "    parent=f\"projects/{PROJECT_NUMBER}/locations/{REGION}/metadataStores/default\",\n",
        "    execution=Execution(\n",
        "        display_name=\"AutoML training and deployment\",\n",
        "        schema_title=\"system.ContainerExecution\",\n",
        "        metadata={\"model_type\": \"image classification\"},\n",
        "    ),\n",
        "    execution_id=dag.resource_name.split(\"/\")[-1],\n",
        ")\n",
        "\n",
        "print(execution)"
      ]
    },
    {
      "cell_type": "markdown",
      "metadata": {
        "id": "add_metadata_execution_events"
      },
      "source": [
        "### Add events to `Execution` resource\n",
        "\n",
        "An `Execution` resource consists of a sequence of events that occurred during the execution. Each event consists of an artifact that is either an input or an output of the `Execution` resource.\n",
        "\n",
        "You add execution events to an `Execution` resource using the `add_execution_events()` method, with the following parameters:\n",
        "\n",
        "- `execution`: The fully qualified resource identifier for the `Execution` resource. In this example, the execution steps for AutoML training and deployment.\n",
        "- `events`: The sequence of events constituting the execution. In this example the artifacts: VertexDataset, VertexModel, SlicedClassificationMetrics, and VertexEndpoint.\n",
        "    - `artifact_dataset`: The input to the execution.\n",
        "    - `artifact_model`:\n",
        "    - `artifact_metrics`:\n",
        "    - `artifact_endpoint`: The outputs from the execution."
      ]
    },
    {
      "cell_type": "code",
      "execution_count": null,
      "metadata": {
        "id": "add_metadata_execution_events"
      },
      "outputs": [],
      "source": [
        "from google.cloud.aiplatform_v1beta1.types import Event\n",
        "\n",
        "clients[\"metadata\"].add_execution_events(\n",
        "    execution=execution.name,\n",
        "    events=[\n",
        "        Event(\n",
        "            artifact=artifact_dataset.name,\n",
        "            type_=Event.Type.INPUT,\n",
        "            labels={\"my_label\": \"my_value\"},\n",
        "        ),\n",
        "        Event(\n",
        "            artifact=artifact_model.name,\n",
        "            type_=Event.Type.OUTPUT,\n",
        "            labels={\"my_label\": \"my_value\"},\n",
        "        ),\n",
        "        Event(\n",
        "            artifact=artifact_metrics.name,\n",
        "            type_=Event.Type.OUTPUT,\n",
        "            labels={\"my_label\": \"my_value\"},\n",
        "        ),\n",
        "        Event(\n",
        "            artifact=artifact_endpoint.name,\n",
        "            type_=Event.Type.OUTPUT,\n",
        "            labels={\"my_label\": \"my_value\"},\n",
        "        ),\n",
        "    ],\n",
        ")"
      ]
    },
    {
      "cell_type": "markdown",
      "metadata": {
        "id": "create_metadata_context"
      },
      "source": [
        "### Create a `Context` resource\n",
        "\n",
        "A `Context` resource represents the context consisting of one or more executions. You create an `Context` resource using the `create_context()` method, with the following parameters:\n",
        "\n",
        "- `parent`: The fully qualified resource identifier to the `Metadatastore` resource.\n",
        "- `context`:\n",
        "    - `display_name`: A human readable name for the `Execution` resource.\n",
        "    - `schema_title`: The title of the schema that describes the metadata. In this example: `system.Pipeline`.\n",
        "    - `labels`: User defined labels to assign to the `Context` resource.\n",
        "    - `metadata`: The metadata key/value pairs to associate with the `Execution` resource.\n",
        "- `context_id`: (optional) A user defined short ID for the `Context` resource."
      ]
    },
    {
      "cell_type": "code",
      "execution_count": null,
      "metadata": {
        "id": "create_metadata_context"
      },
      "outputs": [],
      "source": [
        "from google.cloud.aiplatform_v1beta1.types import Context\n",
        "\n",
        "context = clients[\"metadata\"].create_context(\n",
        "    parent=f\"projects/{PROJECT_NUMBER}/locations/{REGION}/metadataStores/default\",\n",
        "    context=Context(\n",
        "        display_name=\"flowers_\" + TIMESTAMP,\n",
        "        schema_title=\"system.Pipeline\",\n",
        "        metadata={\"param\": \"value\"},\n",
        "        labels=[{\"my_label\", \"my_value\"}],\n",
        "    ),\n",
        "    context_id=dag.resource_name.split(\"/\")[-1],\n",
        ")\n",
        "\n",
        "print(context)"
      ]
    },
    {
      "cell_type": "markdown",
      "metadata": {
        "id": "metadata_finish_context"
      },
      "source": [
        "### Combine Artifacts and Executions into a Context\n",
        "\n",
        "A Context is used to group `Artifact` resources and `Execution` resources together under a single, queryable, and typed category. Contexts can be used to represent sets of metadata.\n",
        "\n",
        "You combine a set of `Artifact` and `Execution` resources into a `Context` resource using the `add_context_artifacts_and_executions()` method, with the following parameters:\n",
        "\n",
        "- `context`: The fully qualified resource identifier of the `Context` resource.\n",
        "- `artifacts`: A list of fully qualified resource identifiers of the `Artifact` resources.\n",
        "- `executions`: A list of fully qualified resource identifiers of the `Execution` resources."
      ]
    },
    {
      "cell_type": "code",
      "execution_count": null,
      "metadata": {
        "id": "metadata_finish_context"
      },
      "outputs": [],
      "source": [
        "clients[\"metadata\"].add_context_artifacts_and_executions(\n",
        "    context=context.name,\n",
        "    artifacts=[\n",
        "        artifact_dataset.name,\n",
        "        artifact_model.name,\n",
        "        artifact_metrics.name,\n",
        "        artifact_endpoint.name,\n",
        "    ],\n",
        "    executions=[execution.name],\n",
        ")"
      ]
    },
    {
      "cell_type": "markdown",
      "metadata": {
        "id": "query_metadata_context"
      },
      "source": [
        "### Query a context\n",
        "\n",
        "You can query the subgraph of a `Context` resource using the method `query_context_lineage_subgraph()` method, with the following parameters:\n",
        "\n",
        "- `context`: The fully qualified resource identifier of the `Context` resource."
      ]
    },
    {
      "cell_type": "code",
      "execution_count": null,
      "metadata": {
        "id": "query_metadata_context"
      },
      "outputs": [],
      "source": [
        "subgraph = clients[\"metadata\"].query_context_lineage_subgraph(context=context.name)\n",
        "\n",
        "print(subgraph)"
      ]
    },
    {
      "cell_type": "markdown",
      "metadata": {
        "id": "263dc78ec9f6"
      },
      "source": [
        "### Viewing the graph in the UI\n",
        "\n",
        "Finally, go to the UI for `Vertex AI ML Metadata`, and select any of your created artifacts. It will appear similar to:\n",
        "\n",
        "<img src='automl_mlmd.png'/>"
      ]
    },
    {
      "cell_type": "markdown",
      "metadata": {
        "id": "delete_metadata_execution"
      },
      "source": [
        "### Delete an `Execution` resource\n",
        "\n",
        "You can delete an `Execution` resource using the `delete_execution()` method, with the following parameters:\n",
        "\n",
        "- `name`: The fully qualified resource identifier for the `Execution` resource."
      ]
    },
    {
      "cell_type": "code",
      "execution_count": null,
      "metadata": {
        "id": "delete_metadata_execution"
      },
      "outputs": [],
      "source": [
        "clients[\"metadata\"].delete_execution(name=execution.name)"
      ]
    },
    {
      "cell_type": "markdown",
      "metadata": {
        "id": "delete_metadata_context"
      },
      "source": [
        "### Delete a `Context` resource\n",
        "\n",
        "You can delete an `Context` resource using the `delete_context()` method, with the following parameters:\n",
        "\n",
        "- `name`: The fully qualified resource identifier for the `Context` resource."
      ]
    },
    {
      "cell_type": "code",
      "execution_count": null,
      "metadata": {
        "id": "delete_metadata_context"
      },
      "outputs": [],
      "source": [
        "clients[\"metadata\"].delete_context(name=context.name)"
      ]
    },
    {
      "cell_type": "markdown",
      "metadata": {
        "id": "delete_metadata_artifact"
      },
      "source": [
        "### Delete an `Artifact` resource\n",
        "\n",
        "You can delete an `Artifact` resource using the `delete_artifact()` method, with the following parameters:\n",
        "\n",
        "- `name`: The fully qualified resource identifier for the `Artifact` resource."
      ]
    },
    {
      "cell_type": "code",
      "execution_count": null,
      "metadata": {
        "id": "delete_metadata_artifact"
      },
      "outputs": [],
      "source": [
        "clients[\"metadata\"].delete_artifact(name=artifact_dataset.name)\n",
        "clients[\"metadata\"].delete_artifact(name=artifact_model.name)\n",
        "clients[\"metadata\"].delete_artifact(name=artifact_metrics.name)\n",
        "clients[\"metadata\"].delete_artifact(name=artifact_endpoint.name)"
      ]
    },
    {
      "cell_type": "markdown",
      "metadata": {
        "id": "undeploy_model:mbsdk"
      },
      "source": [
        "#### Undeploy the model\n",
        "\n",
        "When you are done doing predictions, you undeploy the model from the `Endpoint` resouce. This deprovisions all compute resources and ends billing for the deployed model."
      ]
    },
    {
      "cell_type": "code",
      "execution_count": null,
      "metadata": {
        "id": "undeploy_model:mbsdk"
      },
      "outputs": [],
      "source": [
        "endpoint.undeploy_all()"
      ]
    },
    {
      "cell_type": "markdown",
      "metadata": {
        "id": "model_delete:mbsdk"
      },
      "source": [
        "#### Delete the model\n",
        "\n",
        "The method 'delete()' will delete the model."
      ]
    },
    {
      "cell_type": "code",
      "execution_count": null,
      "metadata": {
        "id": "model_delete:mbsdk"
      },
      "outputs": [],
      "source": [
        "model.delete()"
      ]
    },
    {
      "cell_type": "markdown",
      "metadata": {
        "id": "dataset_delete:mbsdk"
      },
      "source": [
        "#### Delete the dataset\n",
        "\n",
        "The method 'delete()' will delete the dataset."
      ]
    },
    {
      "cell_type": "code",
      "execution_count": null,
      "metadata": {
        "id": "dataset_delete:mbsdk"
      },
      "outputs": [],
      "source": [
        "dataset.delete()"
      ]
    },
    {
      "cell_type": "markdown",
      "metadata": {
        "id": "endpoint_delete:mbsdk"
      },
      "source": [
        "#### Delete the endpoint\n",
        "\n",
        "The method 'delete()' will delete the endpoint."
      ]
    },
    {
      "cell_type": "code",
      "execution_count": null,
      "metadata": {
        "id": "endpoint_delete:mbsdk"
      },
      "outputs": [],
      "source": [
        "endpoint.delete()"
      ]
    },
    {
      "cell_type": "markdown",
      "metadata": {
        "id": "cleanup"
      },
      "source": [
        "# Cleaning up\n",
        "\n",
        "To clean up all Google Cloud resources used in this project, you can [delete the Google Cloud\n",
        "project](https://cloud.google.com/resource-manager/docs/creating-managing-projects#shutting_down_projects) you used for the tutorial.\n",
        "\n",
        "Otherwise, you can delete the individual resources you created in this tutorial.\n"
      ]
    },
    {
      "cell_type": "code",
      "execution_count": null,
      "metadata": {
        "id": "cleanup"
      },
      "outputs": [],
      "source": [
        "# Set this to true only if you'd like to delete your bucket\n",
        "delete_bucket = False\n",
        "\n",
        "if delete_bucket or os.getenv(\"IS_TESTING\"):\n",
        "    ! gsutil rm -r $BUCKET_URI"
      ]
    }
  ],
  "metadata": {
    "colab": {
      "name": "get_started_with_vertex_ml_metadata_and_automl.ipynb",
      "toc_visible": true
    },
    "kernelspec": {
      "display_name": "Python 3",
      "name": "python3"
    }
  },
  "nbformat": 4,
  "nbformat_minor": 0
}
