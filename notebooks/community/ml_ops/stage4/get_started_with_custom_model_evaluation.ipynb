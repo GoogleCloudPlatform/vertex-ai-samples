{
 "cells": [
  {
   "cell_type": "code",
   "execution_count": null,
   "metadata": {
    "id": "copyright",
    "repo": "snippets_housekeeping.ipynb"
   },
   "outputs": [],
   "source": [
    "# Copyright 2022 Google LLC\n",
    "#\n",
    "# Licensed under the Apache License, Version 2.0 (the \"License\");\n",
    "# you may not use this file except in compliance with the License.\n",
    "# You may obtain a copy of the License at\n",
    "#\n",
    "#     https://www.apache.org/licenses/LICENSE-2.0\n",
    "#\n",
    "# Unless required by applicable law or agreed to in writing, software\n",
    "# distributed under the License is distributed on an \"AS IS\" BASIS,\n",
    "# WITHOUT WARRANTIES OR CONDITIONS OF ANY KIND, either express or implied.\n",
    "# See the License for the specific language governing permissions and\n",
    "# limitations under the License."
   ]
  },
  {
   "cell_type": "markdown",
   "metadata": {
    "id": "title:generic,gcp",
    "repo": "snippets_housekeeping.ipynb"
   },
   "source": [
    "# E2E ML on GCP: MLOps stage 4 : formalization: get started with Vertex AI Model Evaluation\n",
    "\n",
    "<table align=\"left\">\n",
    "  <td>\n",
    "    <a href=\"https://github.com/GoogleCloudPlatform/vertex-ai-samples/blob/main/notebooks/community/ml_ops/stage4/get_started_with_custom_model_evaluation.ipynb\">\n",
    "      <img src=\"https://cloud.google.com/ml-engine/images/github-logo-32px.png\" alt=\"GitHub logo\">\n",
    "      View on GitHub\n",
    "    </a>\n",
    "  </td>\n",
    "  <td>\n",
    "    <a href=\"https://console.cloud.google.com/ai/platform/notebooks/deploy-notebook?download_url=https://github.com/GoogleCloudPlatform/vertex-ai-samples/blob/main/notebooks/community/ml_ops/stage4/get_started_with_custom_model_evaluation.ipynb\">\n",
    "      Open in Google Cloud Notebooks\n",
    "    </a>\n",
    "  </td>\n",
    "</table>\n",
    "<br/><br/><br/>"
   ]
  },
  {
   "cell_type": "markdown",
   "metadata": {
    "id": "overview:mlops",
    "repo": "snippets_mlops.ipynb"
   },
   "source": [
    "## Overview\n",
    "\n",
    "\n",
    "This tutorial demonstrates how to use Vertex AI for E2E MLOps on Google Cloud in production. This tutorial covers stage 4 : formalization: get started with Vertex AI Model Evaluation."
   ]
  },
  {
   "cell_type": "markdown",
   "metadata": {
    "id": "dataset:bank,lbn",
    "repo": "snippets_housekeeping.ipynb"
   },
   "source": [
    "### Dataset\n",
    "\n",
    "The dataset used for this tutorial is the [Bank Marketing](https://pantheon.corp.google.com/storage/browser/_details/cloud-ml-tables-data/bank-marketing.csv) . This dataset does not require any feature engineering. The version of the dataset you will use in this tutorial is stored in a public Cloud Storage bucket."
   ]
  },
  {
   "cell_type": "markdown",
   "metadata": {
    "id": "dataset:penguins,lcn,bq",
    "repo": "snippets_housekeeping.ipynb"
   },
   "source": [
    "### Dataset\n",
    "\n",
    "The dataset used for this tutorial is the Penguins dataset from [BigQuery public datasets](https://cloud.google.com/bigquery/public-data). The version of the dataset predicts the species."
   ]
  },
  {
   "cell_type": "markdown",
   "metadata": {
    "id": "objective:mlops,stage4,get_started_vertex_model_evaluation",
    "repo": "snippets_mlops.ipynb"
   },
   "source": [
    "### Objective\n",
    "\n",
    "In this tutorial, you learn how to use `Vertex AI Model Evaluation`.\n",
    "\n",
    "This tutorial uses the following Google Cloud ML services:\n",
    "\n",
    "- `Vertex AI AutoML`\n",
    "- `Vertex AI Training`\n",
    "- `Vertex AI Model Evaluation`\n",
    "\n",
    "The steps performed include:\n",
    "\n",
    "- Evaluate an AutoML model.\n",
    "    - Retrieve the default evaluation metrics from training.\n",
    "    - Evaluate using a custom evaluation slice.\n",
    "- Evaluate a BigQuery ML model.\n",
    "    - Retrieve the default evaluation metrics from training.\n",
    "    - BLAH\n",
    "- Evaluate a custom model.\n",
    "    - Retrieve the evaluation metrics from training.\n",
    "    - Evaluate using a custom evaluation slice.\n",
    "- A/B Testing\n",
    "    - BLAH\n",
    "- Sandbox Testing\n",
    "    - BLAH"
   ]
  },
  {
   "cell_type": "markdown",
   "metadata": {
    "id": "install_mlops",
    "repo": "snippets_mlops.ipynb"
   },
   "source": [
    "## Installations\n",
    "\n",
    "Install *one time* the packages for executing the MLOps notebooks."
   ]
  },
  {
   "cell_type": "code",
   "execution_count": null,
   "metadata": {
    "id": "install_mlops",
    "repo": "snippets_mlops.ipynb"
   },
   "outputs": [],
   "source": [
    "ONCE_ONLY = False\n",
    "if ONCE_ONLY:\n",
    "    ! pip3 install -U tensorflow==2.5 $USER_FLAG\n",
    "    ! pip3 install -U tensorflow-data-validation==1.2 $USER_FLAG\n",
    "    ! pip3 install -U tensorflow-transform==1.2 $USER_FLAG\n",
    "    ! pip3 install -U tensorflow-io==0.18 $USER_FLAG\n",
    "    ! pip3 install --upgrade google-cloud-aiplatform[tensorboard] $USER_FLAG\n",
    "    ! pip3 install --upgrade google-cloud-pipeline-components $USER_FLAG\n",
    "    ! pip3 install --upgrade google-cloud-bigquery $USER_FLAG\n",
    "    ! pip3 install --upgrade google-cloud-logging $USER_FLAG\n",
    "    ! pip3 install --upgrade apache-beam[gcp] $USER_FLAG\n",
    "    ! pip3 install --upgrade pyarrow $USER_FLAG\n",
    "    ! pip3 install --upgrade cloudml-hypertune $USER_FLAG\n",
    "    ! pip3 install --upgrade kfp $USER_FLAG\n",
    "    ! pip3 install --upgrade torchvision $USER_FLAG\n",
    "    ! pip3 install --upgrade rpy2 $USER_FLAG\n",
    "    ! pip3 install --upgrade python-tabulate $USER_FLAG\n",
    "    ! pip3 install -U opencv-python-headless==4.5.2.52 $USER_FLAG"
   ]
  },
  {
   "cell_type": "markdown",
   "metadata": {
    "id": "restart",
    "repo": "snippets_housekeeping.ipynb"
   },
   "source": [
    "### Restart the kernel\n",
    "\n",
    "Once you've installed the additional packages, you need to restart the notebook kernel so it can find the packages."
   ]
  },
  {
   "cell_type": "code",
   "execution_count": null,
   "metadata": {
    "id": "restart",
    "repo": "snippets_housekeeping.ipynb"
   },
   "outputs": [],
   "source": [
    "import os\n",
    "\n",
    "if not os.getenv(\"IS_TESTING\"):\n",
    "    # Automatically restart kernel after installs\n",
    "    import IPython\n",
    "\n",
    "    app = IPython.Application.instance()\n",
    "    app.kernel.do_shutdown(True)"
   ]
  },
  {
   "cell_type": "markdown",
   "metadata": {
    "id": "project_id",
    "repo": "snippets_housekeeping.ipynb"
   },
   "source": [
    "#### Set your project ID\n",
    "\n",
    "**If you don't know your project ID**, you may be able to get your project ID using `gcloud`."
   ]
  },
  {
   "cell_type": "code",
   "execution_count": null,
   "metadata": {
    "id": "set_project_id",
    "repo": "snippets_housekeeping.ipynb"
   },
   "outputs": [],
   "source": [
    "PROJECT_ID = \"[your-project-id]\"  # @param {type:\"string\"}"
   ]
  },
  {
   "cell_type": "code",
   "execution_count": null,
   "metadata": {
    "id": "autoset_project_id",
    "repo": "snippets_housekeeping.ipynb"
   },
   "outputs": [],
   "source": [
    "if PROJECT_ID == \"\" or PROJECT_ID is None or PROJECT_ID == \"[your-project-id]\":\n",
    "    # Get your GCP project id from gcloud\n",
    "    shell_output = ! gcloud config list --format 'value(core.project)' 2>/dev/null\n",
    "    PROJECT_ID = shell_output[0]\n",
    "    print(\"Project ID:\", PROJECT_ID)"
   ]
  },
  {
   "cell_type": "code",
   "execution_count": null,
   "metadata": {
    "id": "set_gcloud_project_id",
    "repo": "snippets_housekeeping.ipynb"
   },
   "outputs": [],
   "source": [
    "! gcloud config set project $PROJECT_ID"
   ]
  },
  {
   "cell_type": "markdown",
   "metadata": {
    "id": "region",
    "repo": "snippets_housekeeping.ipynb"
   },
   "source": [
    "#### Region\n",
    "\n",
    "You can also change the `REGION` variable, which is used for operations\n",
    "throughout the rest of this notebook.  Below are regions supported for Vertex AI. We recommend that you choose the region closest to you.\n",
    "\n",
    "- Americas: `us-central1`\n",
    "- Europe: `europe-west4`\n",
    "- Asia Pacific: `asia-east1`\n",
    "\n",
    "You may not use a multi-regional bucket for training with Vertex AI. Not all regions provide support for all Vertex AI services.\n",
    "\n",
    "Learn more about [Vertex AI regions](https://cloud.google.com/vertex-ai/docs/general/locations)."
   ]
  },
  {
   "cell_type": "code",
   "execution_count": null,
   "metadata": {
    "id": "region",
    "repo": "snippets_housekeeping.ipynb"
   },
   "outputs": [],
   "source": [
    "REGION = \"us-central1\"  # @param {type: \"string\"}"
   ]
  },
  {
   "cell_type": "markdown",
   "metadata": {
    "id": "timestamp",
    "repo": "snippets_housekeeping.ipynb"
   },
   "source": [
    "#### Timestamp\n",
    "\n",
    "If you are in a live tutorial session, you might be using a shared test account or project. To avoid name collisions between users on resources created, you create a timestamp for each instance session, and append the timestamp onto the name of resources you create in this tutorial."
   ]
  },
  {
   "cell_type": "code",
   "execution_count": null,
   "metadata": {
    "id": "timestamp",
    "repo": "snippets_housekeeping.ipynb"
   },
   "outputs": [],
   "source": [
    "from datetime import datetime\n",
    "\n",
    "TIMESTAMP = datetime.now().strftime(\"%Y%m%d%H%M%S\")"
   ]
  },
  {
   "cell_type": "markdown",
   "metadata": {
    "id": "bucket:mbsdk",
    "repo": "snippets_housekeeping.ipynb"
   },
   "source": [
    "### Create a Cloud Storage bucket\n",
    "\n",
    "**The following steps are required, regardless of your notebook environment.**\n",
    "\n",
    "When you initialize the Vertex SDK for Python, you specify a Cloud Storage staging bucket. The staging bucket is where all the data associated with your dataset and model resources are retained across sessions.\n",
    "\n",
    "Set the name of your Cloud Storage bucket below. Bucket names must be globally unique across all Google Cloud projects, including those outside of your organization."
   ]
  },
  {
   "cell_type": "code",
   "execution_count": null,
   "metadata": {
    "id": "bucket",
    "repo": "snippets_housekeeping.ipynb"
   },
   "outputs": [],
   "source": [
    "BUCKET_NAME = \"gs://[your-bucket-name]\"  # @param {type:\"string\"}"
   ]
  },
  {
   "cell_type": "code",
   "execution_count": null,
   "metadata": {
    "id": "autoset_bucket",
    "repo": "snippets_housekeeping.ipynb"
   },
   "outputs": [],
   "source": [
    "if BUCKET_NAME == \"\" or BUCKET_NAME is None or BUCKET_NAME == \"gs://[your-bucket-name]\":\n",
    "    BUCKET_NAME = \"gs://\" + PROJECT_ID + \"aip-\" + TIMESTAMP"
   ]
  },
  {
   "cell_type": "markdown",
   "metadata": {
    "id": "create_bucket",
    "repo": "snippets_housekeeping.ipynb"
   },
   "source": [
    "**Only if your bucket doesn't already exist**: Run the following cell to create your Cloud Storage bucket."
   ]
  },
  {
   "cell_type": "code",
   "execution_count": null,
   "metadata": {
    "id": "create_bucket",
    "repo": "snippets_housekeeping.ipynb"
   },
   "outputs": [],
   "source": [
    "! gsutil mb -l $REGION $BUCKET_NAME"
   ]
  },
  {
   "cell_type": "markdown",
   "metadata": {
    "id": "validate_bucket",
    "repo": "snippets_housekeeping.ipynb"
   },
   "source": [
    "Finally, validate access to your Cloud Storage bucket by examining its contents:"
   ]
  },
  {
   "cell_type": "code",
   "execution_count": null,
   "metadata": {
    "id": "validate_bucket",
    "repo": "snippets_housekeeping.ipynb"
   },
   "outputs": [],
   "source": [
    "! gsutil ls -al $BUCKET_NAME"
   ]
  },
  {
   "cell_type": "markdown",
   "metadata": {
    "id": "set_service_account",
    "repo": "snippets_housekeeping.ipynb"
   },
   "source": [
    "#### Service Account\n",
    "\n",
    "**If you don't know your service account**, try to get your service account using `gcloud` command by executing the second cell below."
   ]
  },
  {
   "cell_type": "code",
   "execution_count": null,
   "metadata": {
    "id": "set_service_account",
    "repo": "snippets_housekeeping.ipynb"
   },
   "outputs": [],
   "source": [
    "SERVICE_ACCOUNT = \"[your-service-account]\"  # @param {type:\"string\"}"
   ]
  },
  {
   "cell_type": "code",
   "execution_count": null,
   "metadata": {
    "id": "autoset_service_account",
    "repo": "snippets_housekeeping.ipynb"
   },
   "outputs": [],
   "source": [
    "if (\n",
    "    SERVICE_ACCOUNT == \"\"\n",
    "    or SERVICE_ACCOUNT is None\n",
    "    or SERVICE_ACCOUNT == \"[your-service-account]\"\n",
    "):\n",
    "    # Get your GCP project id from gcloud\n",
    "    shell_output = !gcloud auth list 2>/dev/null\n",
    "    SERVICE_ACCOUNT = shell_output[2].replace(\"*\", \"\").strip()\n",
    "    print(\"Service Account:\", SERVICE_ACCOUNT)"
   ]
  },
  {
   "cell_type": "markdown",
   "metadata": {
    "id": "set_service_account:pipelines",
    "repo": "snippets_pipelines.ipynb"
   },
   "source": [
    "#### Set service account access for Vertex AI Pipelines\n",
    "\n",
    "Run the following commands to grant your service account access to read and write pipeline artifacts in the bucket that you created in the previous step -- you only need to run these once per service account."
   ]
  },
  {
   "cell_type": "code",
   "execution_count": null,
   "metadata": {
    "id": "set_service_account:pipelines",
    "repo": "snippets_pipelines.ipynb"
   },
   "outputs": [],
   "source": [
    "! gsutil iam ch serviceAccount:{SERVICE_ACCOUNT}:roles/storage.objectCreator $BUCKET_NAME\n",
    "\n",
    "! gsutil iam ch serviceAccount:{SERVICE_ACCOUNT}:roles/storage.objectViewer $BUCKET_NAME"
   ]
  },
  {
   "cell_type": "markdown",
   "metadata": {
    "id": "setup_vars",
    "repo": "snippets_housekeeping.ipynb"
   },
   "source": [
    "### Set up variables\n",
    "\n",
    "Next, set up some variables used throughout the tutorial.\n",
    "### Import libraries and define constants"
   ]
  },
  {
   "cell_type": "code",
   "execution_count": null,
   "metadata": {
    "id": "import_aip:mbsdk",
    "repo": "snippets_housekeeping.ipynb"
   },
   "outputs": [],
   "source": [
    "import google.cloud.aiplatform as aip"
   ]
  },
  {
   "cell_type": "markdown",
   "metadata": {
    "id": "import_tf",
    "repo": "snippets_housekeeping.ipynb"
   },
   "source": [
    "#### Import TensorFlow\n",
    "\n",
    "Import the TensorFlow package into your Python environment."
   ]
  },
  {
   "cell_type": "code",
   "execution_count": null,
   "metadata": {
    "id": "import_tf",
    "repo": "snippets_housekeeping.ipynb"
   },
   "outputs": [],
   "source": [
    "import tensorflow as tf"
   ]
  },
  {
   "cell_type": "code",
   "execution_count": null,
   "metadata": {
    "id": "import_kfp",
    "repo": "snippets_pipelines.ipynb"
   },
   "outputs": [],
   "source": [
    "import json\n",
    "\n",
    "from kfp import dsl\n",
    "from kfp.v2 import compiler\n",
    "from kfp.v2.dsl import component"
   ]
  },
  {
   "cell_type": "markdown",
   "metadata": {
    "id": "import_bq",
    "repo": "snippets_housekeeping.ipynb"
   },
   "source": [
    "#### Import BigQuery\n",
    "\n",
    "Import the BigQuery package into your Python environment."
   ]
  },
  {
   "cell_type": "code",
   "execution_count": null,
   "metadata": {
    "id": "import_bq",
    "repo": "snippets_housekeeping.ipynb"
   },
   "outputs": [],
   "source": [
    "from google.cloud import bigquery"
   ]
  },
  {
   "cell_type": "markdown",
   "metadata": {
    "id": "init_aip:mbsdk,all",
    "repo": "snippets_housekeeping.ipynb"
   },
   "source": [
    "### Initialize Vertex AI SDK for Python\n",
    "\n",
    "Initialize the Vertex AI SDK for Python for your project and corresponding bucket."
   ]
  },
  {
   "cell_type": "code",
   "execution_count": null,
   "metadata": {
    "id": "init_aip:mbsdk,all",
    "repo": "snippets_housekeeping.ipynb"
   },
   "outputs": [],
   "source": [
    "aip.init(project=PROJECT_ID, location=REGION, staging_bucket=BUCKET_NAME)"
   ]
  },
  {
   "cell_type": "markdown",
   "metadata": {
    "id": "init_bq",
    "repo": "snippets_housekeeping.ipynb"
   },
   "source": [
    "### Create BigQuery client\n",
    "\n",
    "Create the BigQuery client."
   ]
  },
  {
   "cell_type": "code",
   "execution_count": null,
   "metadata": {
    "id": "init_bq",
    "repo": "snippets_housekeeping.ipynb"
   },
   "outputs": [],
   "source": [
    "bqclient = bigquery.Client()"
   ]
  },
  {
   "cell_type": "markdown",
   "metadata": {
    "id": "accelerators:prediction,mbsdk",
    "repo": "snippets_housekeeping.ipynb"
   },
   "source": [
    "#### Set hardware accelerators\n",
    "\n",
    "You can set hardware accelerators for prediction.\n",
    "\n",
    "Set the variable `DEPLOY_GPU/DEPLOY_NGPU` to use a container image supporting a GPU and the number of GPUs allocated to the virtual machine (VM) instance. For example, to use a GPU container image with 4 Nvidia Telsa K80 GPUs allocated to each VM, you would specify:\n",
    "\n",
    "    (aip.AcceleratorType.NVIDIA_TESLA_K80, 4)\n",
    "\n",
    "Otherwise specify `(None, None)` to use a container image to run on a CPU.\n",
    "\n",
    "Learn more [here](https://cloud.google.com/vertex-ai/docs/general/locations#accelerators) hardware accelerator support for your region"
   ]
  },
  {
   "cell_type": "code",
   "execution_count": null,
   "metadata": {
    "id": "accelerators:prediction,mbsdk",
    "repo": "snippets_housekeeping.ipynb"
   },
   "outputs": [],
   "source": [
    "if os.getenv(\"IS_TESTING_DEPLOY_GPU\"):\n",
    "    DEPLOY_GPU, DEPLOY_NGPU = (\n",
    "        aip.gapic.AcceleratorType.NVIDIA_TESLA_K80,\n",
    "        int(os.getenv(\"IS_TESTING_DEPLOY_GPU\")),\n",
    "    )\n",
    "else:\n",
    "    DEPLOY_GPU, DEPLOY_NGPU = (aip.gapic.AcceleratorType.NVIDIA_TESLA_K80, 1)"
   ]
  },
  {
   "cell_type": "markdown",
   "metadata": {
    "id": "container:prediction",
    "repo": "snippets_housekeeping.ipynb"
   },
   "source": [
    "#### Set pre-built containers\n",
    "\n",
    "Set the pre-built Docker container image for prediction.\n",
    "\n",
    "- Set the variable `TF` to the TensorFlow version of the container image. For example, `2-1` would be version 2.1, and `1-15` would be version 1.15. The following list shows some of the pre-built images available:\n",
    "\n",
    "\n",
    "For the latest list, see [Pre-built containers for prediction](https://cloud.google.com/ai-platform-unified/docs/predictions/pre-built-containers)."
   ]
  },
  {
   "cell_type": "code",
   "execution_count": null,
   "metadata": {
    "id": "container:prediction",
    "repo": "snippets_housekeeping.ipynb"
   },
   "outputs": [],
   "source": [
    "if os.getenv(\"IS_TESTING_TF\"):\n",
    "    TF = os.getenv(\"IS_TESTING_TF\")\n",
    "else:\n",
    "    TF = \"2-1\".replace(\".\", \"-\")\n",
    "\n",
    "if TF[0] == \"2\":\n",
    "    if DEPLOY_GPU:\n",
    "        DEPLOY_VERSION = \"tf2-gpu.{}\".format(TF)\n",
    "    else:\n",
    "        DEPLOY_VERSION = \"tf2-cpu.{}\".format(TF)\n",
    "else:\n",
    "    if DEPLOY_GPU:\n",
    "        DEPLOY_VERSION = \"tf-gpu.{}\".format(TF)\n",
    "    else:\n",
    "        DEPLOY_VERSION = \"tf-cpu.{}\".format(TF)\n",
    "\n",
    "DEPLOY_IMAGE = \"{}-docker.pkg.dev/vertex-ai/prediction/{}:latest\".format(\n",
    "    REGION.split(\"-\")[0], DEPLOY_VERSION\n",
    ")\n",
    "\n",
    "print(\"Deployment:\", DEPLOY_IMAGE, DEPLOY_GPU)"
   ]
  },
  {
   "cell_type": "markdown",
   "metadata": {
    "id": "machine:prediction",
    "repo": "snippets_housekeeping.ipynb"
   },
   "source": [
    "#### Set machine type\n",
    "\n",
    "Next, set the machine type to use for prediction.\n",
    "\n",
    "- Set the variable `DEPLOY_COMPUTE` to configure the compute resources for the VM you will use for prediction.\n",
    " - `machine type`\n",
    "     - `n1-standard`: 3.75GB of memory per vCPU.\n",
    "     - `n1-highmem`: 6.5GB of memory per vCPU\n",
    "     - `n1-highcpu`: 0.9 GB of memory per vCPU\n",
    " - `vCPUs`: number of \\[2, 4, 8, 16, 32, 64, 96 \\]\n",
    "\n",
    "*Note: You may also use n2 and e2 machine types for training and deployment, but they do not support GPUs*"
   ]
  },
  {
   "cell_type": "code",
   "execution_count": null,
   "metadata": {
    "id": "machine:prediction",
    "repo": "snippets_housekeeping.ipynb"
   },
   "outputs": [],
   "source": [
    "if os.getenv(\"IS_TESTING_DEPLOY_MACHINE\"):\n",
    "    MACHINE_TYPE = os.getenv(\"IS_TESTING_DEPLOY_MACHINE\")\n",
    "else:\n",
    "    MACHINE_TYPE = \"n1-standard\"\n",
    "\n",
    "VCPU = \"4\"\n",
    "DEPLOY_COMPUTE = MACHINE_TYPE + \"-\" + VCPU\n",
    "print(\"Deploy machine type\", DEPLOY_COMPUTE)"
   ]
  },
  {
   "cell_type": "markdown",
   "metadata": {
    "id": "intro:model_eval,automl",
    "repo": "snippets_mlops.ipynb"
   },
   "source": [
    "## Introduction to Vertex AI Model Evaluation for AutoML models.\n",
    "\n",
    "For AutoML models, you can retrieve the model evaluation metrics that were obtained during training from the dataset split into train and test, using the `Vertex AI Model Evaluation` service.\n",
    "\n",
    "Additionally, you can evaluate an AutoML model with custom evaluation slices using the combination of `BatchPredictionOp` and `ModelEvaluationOp` components, as:\n",
    "\n",
    "    - The custom evaluation slice data contains the label values (ground truths).\n",
    "    - Perform a batch prediction on the custom evaluation slice.\n",
    "    - Perform a model evaluation with the batch prediction results and label values."
   ]
  },
  {
   "cell_type": "markdown",
   "metadata": {
    "id": "import_file:u_dataset,csv",
    "repo": "snippets_common.ipynb"
   },
   "source": [
    "#### Location of Cloud Storage training data.\n",
    "\n",
    "Now set the variable `IMPORT_FILE` to the location of the CSV index file in Cloud Storage."
   ]
  },
  {
   "cell_type": "code",
   "execution_count": null,
   "metadata": {
    "id": "import_file:bank,lbn,split",
    "repo": "snippets_mlops.ipynb"
   },
   "outputs": [],
   "source": [
    "IMPORT_FILE = \"gs://cloud-ml-tables-data/bank-marketing.csv\"\n",
    "! gsutil cat {IMPORT_FILE} | head -n 40000 > train.csv\n",
    "! gsutil cat {IMPORT_FILE} | head -n 1 >eval.csv\n",
    "! gsutil cat {IMPORT_FILE} | tail -n 5200 >> eval.csv\n",
    "\n",
    "IMPORT_TRAIN = BUCKET_NAME + \"/train.csv\"\n",
    "IMPORT_EVAL = BUCKET_NAME + \"/eval.csv\"\n",
    "\n",
    "! gsutil cp train.csv {IMPORT_TRAIN}\n",
    "! gsutil cp eval.csv {IMPORT_EVAL}\n",
    "\n",
    "! rm -f train.csv eval.csv"
   ]
  },
  {
   "cell_type": "markdown",
   "metadata": {
    "id": "create_automl_eval_component",
    "repo": "snippets_mlops.ipynb"
   },
   "source": [
    "### Create AutoML model evaluation component\n",
    "\n",
    "The Vertex AI pre-built pipeline components does not currently have a component for retrieiving the model evaluations for a AutoML model. So, you will first write your own component, as follows:\n",
    "\n",
    "- Takes as input the region and Model artifacts returned from an AutoML training component.\n",
    "- Create a client interface to the Vertex AI Model service (`metadata[\"resource_name\"]).\n",
    "- Construct the resource ID for the model from the model artifact parameter.\n",
    "- Retrieve the model evaluation\n",
    "- Return the model evaluation as a string."
   ]
  },
  {
   "cell_type": "code",
   "execution_count": null,
   "metadata": {
    "id": "create_automl_eval_component",
    "repo": "snippets_mlops.ipynb"
   },
   "outputs": [],
   "source": [
    "from kfp.v2.dsl import Artifact, Input, Model\n",
    "\n",
    "\n",
    "@component(packages_to_install=[\"google-cloud-aiplatform\"])\n",
    "def evaluateAutoMLModelOp(model: Input[Artifact], region: str) -> str:\n",
    "    import logging\n",
    "\n",
    "    import google.cloud.aiplatform.gapic as gapic\n",
    "\n",
    "    # Get a reference to the Model Service client\n",
    "    client_options = {\"api_endpoint\": f\"{region}-aiplatform.googleapis.com\"}\n",
    "    model_service_client = gapic.ModelServiceClient(client_options=client_options)\n",
    "\n",
    "    model_id = model.metadata[\"resourceName\"]\n",
    "\n",
    "    model_evaluations = model_service_client.list_model_evaluations(parent=model_id)\n",
    "    model_evaluation = list(model_evaluations)[0]\n",
    "    logging.info(model_evaluation)\n",
    "    return str(model_evaluation)"
   ]
  },
  {
   "cell_type": "markdown",
   "metadata": {
    "id": "create_automl_pipeline:lbn,eval",
    "repo": "snippets_mlops.ipynb"
   },
   "source": [
    "### Construct pipeline for AutoML training, and batch model evaluation\n",
    "\n",
    "Next, construct the pipeline with the following tasks:\n",
    "\n",
    "- Create a Vertex AI Dataset resource.\n",
    "- Train a AutoML tabular classification model.\n",
    "- Retrieve the AutoML evaluation statistics.\n",
    "- Make a batch prediction with the AutoML model, using an evaluation slice that was not used during training.\n",
    "- Evaluate the AutoML model using the results from the batch prediction."
   ]
  },
  {
   "cell_type": "code",
   "execution_count": null,
   "metadata": {
    "id": "create_automl_pipeline:lbn,eval",
    "repo": "snippets_mlops.ipynb"
   },
   "outputs": [],
   "source": [
    "PIPELINE_ROOT = \"{}/pipeline_root/automl_lbn_training\".format(BUCKET_NAME)\n",
    "\n",
    "\n",
    "@dsl.pipeline(\n",
    "    name=\"automl-lbn-training\", description=\"AutoML tabular classification training\"\n",
    ")\n",
    "def pipeline(\n",
    "    import_file: str,\n",
    "    batch_files: list,\n",
    "    display_name: str,\n",
    "    bucket: str = PIPELINE_ROOT,\n",
    "    project: str = PROJECT_ID,\n",
    "    region: str = REGION,\n",
    "):\n",
    "    from google_cloud_pipeline_components import aiplatform as gcc_aip\n",
    "    from google_cloud_pipeline_components.experimental.evaluation import \\\n",
    "        ModelEvaluationOp\n",
    "    from google_cloud_pipeline_components.v1.batch_predict_job import \\\n",
    "        ModelBatchPredictOp\n",
    "\n",
    "    dataset_op = gcc_aip.TabularDatasetCreateOp(\n",
    "        project=project, display_name=display_name, gcs_source=import_file\n",
    "    )\n",
    "\n",
    "    training_op = gcc_aip.AutoMLTabularTrainingJobRunOp(\n",
    "        project=project,\n",
    "        display_name=display_name,\n",
    "        optimization_prediction_type=\"classification\",\n",
    "        dataset=dataset_op.outputs[\"dataset\"],\n",
    "        model_display_name=display_name,\n",
    "        training_fraction_split=0.8,\n",
    "        validation_fraction_split=0.1,\n",
    "        test_fraction_split=0.1,\n",
    "        budget_milli_node_hours=8000,\n",
    "        optimization_objective=\"minimize-log-loss\",\n",
    "        target_column=\"Deposit\",\n",
    "    )\n",
    "\n",
    "    eval_op = evaluateAutoMLModelOp(model=training_op.outputs[\"model\"], region=region)\n",
    "\n",
    "    batch_op = ModelBatchPredictOp(\n",
    "        project=project,\n",
    "        job_display_name=\"batch_predict_job\",\n",
    "        model=training_op.outputs[\"model\"],\n",
    "        gcs_source_uris=batch_files,\n",
    "        gcs_destination_output_uri_prefix=bucket,\n",
    "        instances_format=\"csv\",\n",
    "        predictions_format=\"jsonl\",\n",
    "        model_parameters={},\n",
    "        machine_type=DEPLOY_COMPUTE,\n",
    "        starting_replica_count=1,\n",
    "        max_replica_count=1,\n",
    "    ).after(eval_op)\n",
    "\n",
    "    batch_eval_op = ModelEvaluationOp(\n",
    "        project=project,\n",
    "        root_dir=bucket,\n",
    "        problem_type=\"classification\",\n",
    "        classification_type=\"multiclass\",\n",
    "        ground_truth_column=\"Deposit\",\n",
    "        class_names=[\"0\", \"1\"],\n",
    "        predictions_format=\"jsonl\",\n",
    "        batch_prediction_job=batch_op.outputs[\"batchpredictionjob\"],\n",
    "    )"
   ]
  },
  {
   "cell_type": "markdown",
   "metadata": {
    "id": "run_automl_pipeline:lbn,eval",
    "repo": "snippets_mlops.ipynb"
   },
   "source": [
    "### Compile and execute the AutoML training, and batch model evaluation pipeline\n",
    "\n",
    "Next, you compile the pipeline and then execute it. The pipeline takes the following parameters, which are passed as the dictionary `parameter_values`:\n",
    "\n",
    "- `import_file`: The Cloud Storage location of the training data.\n",
    "- `batch_files`: A list of one or more Cloud Storage locations of evaluation data.\n",
    "- `display_name`: Display name for Vertex AI Model and Endpoint resources.\n",
    "- `project`: The project ID.\n",
    "- `region`: The region."
   ]
  },
  {
   "cell_type": "code",
   "execution_count": null,
   "metadata": {
    "id": "run_automl_pipeline:lbn,eval",
    "repo": "snippets_mlops.ipynb"
   },
   "outputs": [],
   "source": [
    "compiler.Compiler().compile(\n",
    "    pipeline_func=pipeline, package_path=\"automl_lbn_training.json\"\n",
    ")\n",
    "\n",
    "pipeline = aip.PipelineJob(\n",
    "    display_name=\"automl_lbn_training\",\n",
    "    template_path=\"automl_lbn_training.json\",\n",
    "    pipeline_root=PIPELINE_ROOT,\n",
    "    parameter_values={\n",
    "        \"import_file\": IMPORT_TRAIN,\n",
    "        \"batch_files\": [IMPORT_EVAL],\n",
    "        \"display_name\": \"bank\" + TIMESTAMP,\n",
    "        \"project\": PROJECT_ID,\n",
    "        \"region\": REGION,\n",
    "    },\n",
    ")\n",
    "\n",
    "pipeline.run()\n",
    "\n",
    "! rm -f automl_lbn_training.json"
   ]
  },
  {
   "cell_type": "markdown",
   "metadata": {
    "id": "view_pipeline_results:automl,eval,lbn",
    "repo": "snippets_mlops.ipynb"
   },
   "source": [
    "### View the AutoML training and batch evaluation pipeline results"
   ]
  },
  {
   "cell_type": "code",
   "execution_count": null,
   "metadata": {
    "id": "view_pipeline_results:automl,eval,lbn",
    "repo": "snippets_mlops.ipynb"
   },
   "outputs": [],
   "source": [
    "PROJECT_NUMBER = pipeline.gca_resource.name.split(\"/\")[1]\n",
    "print(PROJECT_NUMBER)\n",
    "\n",
    "\n",
    "def print_pipeline_output(job, output_task_name):\n",
    "    JOB_ID = job.name\n",
    "    print(JOB_ID)\n",
    "    for _ in range(len(job.gca_resource.job_detail.task_details)):\n",
    "        TASK_ID = job.gca_resource.job_detail.task_details[_].task_id\n",
    "        EXECUTE_OUTPUT = (\n",
    "            PIPELINE_ROOT\n",
    "            + \"/\"\n",
    "            + PROJECT_NUMBER\n",
    "            + \"/\"\n",
    "            + JOB_ID\n",
    "            + \"/\"\n",
    "            + output_task_name\n",
    "            + \"_\"\n",
    "            + str(TASK_ID)\n",
    "            + \"/executor_output.json\"\n",
    "        )\n",
    "        GCP_RESOURCES = (\n",
    "            PIPELINE_ROOT\n",
    "            + \"/\"\n",
    "            + PROJECT_NUMBER\n",
    "            + \"/\"\n",
    "            + JOB_ID\n",
    "            + \"/\"\n",
    "            + output_task_name\n",
    "            + \"_\"\n",
    "            + str(TASK_ID)\n",
    "            + \"/gcp_resources\"\n",
    "        )\n",
    "        if tf.io.gfile.exists(EXECUTE_OUTPUT):\n",
    "            ! gsutil cat $EXECUTE_OUTPUT\n",
    "            break\n",
    "        elif tf.io.gfile.exists(GCP_RESOURCES):\n",
    "            ! gsutil cat $GCP_RESOURCES\n",
    "            break\n",
    "\n",
    "    return EXECUTE_OUTPUT\n",
    "\n",
    "\n",
    "print(\"tabular-dataset-create\")\n",
    "artifacts = print_pipeline_output(pipeline, \"tabular-dataset-create\")\n",
    "print(\"\\n\\n\")\n",
    "print(\"automl-tabular-training-job\")\n",
    "artifacts = print_pipeline_output(pipeline, \"automl-tabular-training-job\")\n",
    "print(\"\\n\\n\")\n",
    "print(\"evaluateautomlmodelop\")\n",
    "artifacts = print_pipeline_output(pipeline, \"evaluateautomlmodelop\")\n",
    "output = !gsutil cat $artifacts\n",
    "output = json.loads(output[0])\n",
    "metrics = output[\"parameters\"][\"Output\"][\"stringValue\"]\n",
    "print(\"\\n\")\n",
    "print(metrics)\n",
    "print(\"\\n\\n\")\n",
    "print(\"model-batch-predict\")\n",
    "artifacts = print_pipeline_output(pipeline, \"model-batch-predict\")\n",
    "output = !gsutil cat $artifacts\n",
    "output = json.loads(output[0])\n",
    "print(\"\\n\\n\")\n",
    "print(\n",
    "    output[\"artifacts\"][\"batchpredictionjob\"][\"artifacts\"][0][\"metadata\"][\n",
    "        \"gcsOutputDirectory\"\n",
    "    ]\n",
    ")\n",
    "print(\"model-evaluation\")\n",
    "artifacts = print_pipeline_output(pipeline, \"model-evaluation\")"
   ]
  },
  {
   "cell_type": "markdown",
   "metadata": {
    "id": "delete_pipeline",
    "repo": "snippets_mbsdk.ipynb"
   },
   "source": [
    "### Delete a pipeline job\n",
    "\n",
    "After a pipeline job is completed, you can delete the pipeline job with the method `delete()`.  Prior to completion, a pipeline job can be canceled with the method `cancel()`."
   ]
  },
  {
   "cell_type": "code",
   "execution_count": null,
   "metadata": {
    "id": "delete_pipeline",
    "repo": "snippets_mbsdk.ipynb"
   },
   "outputs": [],
   "source": [
    "pipeline.delete()"
   ]
  },
  {
   "cell_type": "markdown",
   "metadata": {
    "id": "intro:model_eval,bqml",
    "repo": "snippets_mlops.ipynb"
   },
   "source": [
    "## Introduction to Vertex AI Model Evaluation for BigQuery ML models.\n",
    "\n",
    "For BigQuery ML models, you can retrieve the model evaluation metrics that were obtained during training from the dataset split into train and test, using the `BigQuery ML` service.\n",
    "\n",
    "Additionally, you can evaluate an BigQuery ML model with custom evaluation slices using the combination of BLAH\n",
    "`BatchPredictionOp` and `ModelEvaluationOp` components, as:\n",
    "\n",
    "    - The custom evaluation slice data contains the label values (ground truths).\n",
    "    - Perform a batch prediction on the custom evaluation slice.\n",
    "    - Perform a model evaluation with the batch prediction results and label values."
   ]
  },
  {
   "cell_type": "code",
   "execution_count": null,
   "metadata": {
    "id": "import_file:penguins,bq,lcn",
    "repo": "snippets_common.ipynb"
   },
   "outputs": [],
   "source": [
    "IMPORT_FILE = \"bq://bigquery-public-data.ml_datasets.penguins\"\n",
    "BQ_TABLE = \"bigquery-public-data.ml_datasets.penguins\""
   ]
  },
  {
   "cell_type": "code",
   "execution_count": null,
   "metadata": {},
   "outputs": [],
   "source": [
    "BQ_TABLE = \"bigquery-public-data.ml_datasets.penguins\"\n",
    "BQ_DATASET = BQ_TABLE.split(\".\")[1]\n",
    "\n",
    "\n",
    "def get_data(slice_name, limit):\n",
    "    query = f\"\"\"\n",
    "    CREATE OR REPLACE TABLE `{slice_name}`\n",
    "    AS (\n",
    "        WITH\n",
    "          penguins AS (\n",
    "          SELECT\n",
    "            island,\n",
    "            sex,\n",
    "            culmen_length_mm,\n",
    "            culmen_depth_mm,\n",
    "            flipper_length_mm,\n",
    "            body_mass_g,\n",
    "            species\n",
    "          FROM\n",
    "            `{BQ_TABLE}`\n",
    "        )\n",
    "\n",
    "        SELECT\n",
    "          island,\n",
    "          sex,\n",
    "          culmen_length_mm,\n",
    "          culmen_depth_mm,\n",
    "          flipper_length_mm,\n",
    "          body_mass_g,\n",
    "          species\n",
    "        FROM\n",
    "          penguins\n",
    "        LIMIT {limit}\n",
    "    )\n",
    "    \"\"\"\n",
    "\n",
    "    response = bqclient.query(query)\n",
    "    _ = response.result()\n",
    "\n",
    "\n",
    "BQ_TABLE_EVAL = f\"{PROJECT_ID}.{BQ_DATASET}.penguins_eval\"\n",
    "IMPORT_EVAL = f\"bq://{BQ_TABLE_EVAL}\"\n",
    "LIMIT = 44\n",
    "get_data(BQ_TABLE_EVAL, LIMIT)\n",
    "\n",
    "BQ_TABLE_TRAIN = f\"{PROJECT_ID}.{BQ_DATASET}.penguins_train\"\n",
    "IMPORT_TRAIN = f\"bq://{BQ_TABLE_TRAIN}\"\n",
    "LIMIT = \"300 OFFSET 44\"\n",
    "get_data(BQ_TABLE_TRAIN, LIMIT)"
   ]
  },
  {
   "cell_type": "markdown",
   "metadata": {
    "id": "create_bqml_pipeline:lcn,eval",
    "repo": "snippets_mlops.ipynb"
   },
   "source": [
    "### Construct pipeline for BigQuery ML training, and batch model evaluation\n",
    "\n",
    "Next, construct the pipeline with the following tasks:\n",
    "\n",
    "- Create a BigQuery ML Dataset resource.\n",
    "- Train a BigQuery ML tabular classification model.\n",
    "- Retrieve the BigQuery ML evaluation statistics.\n",
    "- Make a batch prediction with the BigQuery ML model, using an evaluation slice that was not used during training.\n",
    "- Evaluate the BigQuery ML model using the results from the batch prediction."
   ]
  },
  {
   "cell_type": "code",
   "execution_count": null,
   "metadata": {
    "id": "create_bqml_pipeline:lcn,eval",
    "repo": "snippets_mlops.ipynb"
   },
   "outputs": [],
   "source": [
    "PIPELINE_ROOT = f\"{BUCKET_NAME}/bq_query\"\n",
    "\n",
    "\n",
    "@dsl.pipeline(name=\"bq-hello-world\", pipeline_root=PIPELINE_ROOT)\n",
    "def pipeline(\n",
    "    bq_train_table: str,\n",
    "    bq_eval_table: str,\n",
    "    label: str,\n",
    "    class_names: list,\n",
    "    dataset: str,\n",
    "    model: str,\n",
    "    artifact_uri: str,\n",
    "    # num_trials: int,\n",
    "    deploy_image: str,\n",
    "    machine_type: str,\n",
    "    min_replica_count: int,\n",
    "    max_replica_count: int,\n",
    "    display_name: str,\n",
    "    bucket: str,\n",
    "    accelerator_type: str = \"\",\n",
    "    accelerator_count: int = 0,\n",
    "    project: str = PROJECT_ID,\n",
    "    location: str = \"US\",\n",
    "    region: str = \"us-central1\",\n",
    "):\n",
    "    from google_cloud_pipeline_components.experimental.evaluation import \\\n",
    "        ModelEvaluationOp\n",
    "    from google_cloud_pipeline_components.v1.batch_predict_job import \\\n",
    "        ModelBatchPredictOp\n",
    "    from google_cloud_pipeline_components.v1.bigquery import (\n",
    "        BigqueryCreateModelJobOp, BigqueryEvaluateModelJobOp,\n",
    "        BigqueryExportModelJobOp, BigqueryQueryJobOp)\n",
    "    from google_cloud_pipeline_components.v1.model import ModelUploadOp\n",
    "\n",
    "    bq_dataset = BigqueryQueryJobOp(\n",
    "        project=project, location=\"US\", query=f\"CREATE SCHEMA {dataset}\"\n",
    "    )\n",
    "\n",
    "    bq_model = BigqueryCreateModelJobOp(\n",
    "        project=project,\n",
    "        location=location,\n",
    "        query=f\"CREATE OR REPLACE MODEL {dataset}.{model} OPTIONS (model_type='dnn_classifier', labels=['{label}']) AS SELECT * FROM `{bq_train_table}` WHERE body_mass_g IS NOT NULL AND sex IS NOT NULL\",\n",
    "    ).after(bq_dataset)\n",
    "\n",
    "    bq_eval = BigqueryEvaluateModelJobOp(\n",
    "        project=PROJECT_ID, location=\"US\", model=bq_model.outputs[\"model\"]\n",
    "    ).after(bq_model)\n",
    "\n",
    "    bq_export = BigqueryExportModelJobOp(\n",
    "        project=project,\n",
    "        location=location,\n",
    "        model=bq_model.outputs[\"model\"],\n",
    "        model_destination_path=artifact_uri,\n",
    "    ).after(bq_model)\n",
    "\n",
    "    model_upload = ModelUploadOp(\n",
    "        display_name=display_name,\n",
    "        artifact_uri=artifact_uri,\n",
    "        serving_container_image_uri=deploy_image,\n",
    "        project=project,\n",
    "        location=region,\n",
    "    ).after(bq_export)\n",
    "\n",
    "    batch_predict = ModelBatchPredictOp(\n",
    "        project=project,\n",
    "        job_display_name=\"batch_predict_job\",\n",
    "        model=model_upload.outputs[\"model\"],\n",
    "        bigquery_source_input_uri=bq_eval_table,\n",
    "        bigquery_destination_output_uri=f\"bq://{project}\",\n",
    "        instances_format=\"bigquery\",\n",
    "        predictions_format=\"bigquery\",\n",
    "        model_parameters={},\n",
    "        machine_type=DEPLOY_COMPUTE,\n",
    "        starting_replica_count=min_replica_count,\n",
    "        max_replica_count=max_replica_count,\n",
    "        accelerator_type=accelerator_type,\n",
    "        accelerator_count=accelerator_count,\n",
    "    ).after(model_upload)\n",
    "\n",
    "    batch_eval = ModelEvaluationOp(\n",
    "        project=project,\n",
    "        root_dir=bucket,\n",
    "        problem_type=\"classification\",\n",
    "        classification_type=\"multiclass\",\n",
    "        ground_truth_column=label,\n",
    "        class_names=class_names,\n",
    "        predictions_format=\"jsonl\",\n",
    "        batch_prediction_job=batch_predict.outputs[\"batchpredictionjob\"],\n",
    "    )"
   ]
  },
  {
   "cell_type": "markdown",
   "metadata": {
    "id": "run_pipeline:bqml,eval",
    "repo": "snippets_mlops.ipynb"
   },
   "source": [
    "### Compile and execute the BigQuery ML training, and batch model evaluation pipeline\n",
    "\n",
    "Next, you compile the pipeline and then execute it. The pipeline takes the following parameters, which are passed as the dictionary `parameter_values`:\n",
    "\n",
    "- `bq_train_table`: The BigQuery table containing the training data.\n",
    "- `bq_eval_table`: The BigQuery table containing the evaluation data.\n",
    "- `label`: The corresponding label for the BigQuery dataset.\n",
    "- `dataset`: The BigQuery dataset component name.\n",
    "- `model`: The BigQuery model component name.\n",
    "- `artifact_uri`: The Cloud Storage location to export the BigQuery model artifacts.\n",
    "- `num_trials`: If greater than one, will perform hyperparameter tuning for the specified number of trials using the Vertex AI Vizier service.\n",
    "- `deploy_image`: The container image for serving predictions.\n",
    "- `machine_type`: The VM for serving predictions.\n",
    "- `min_replica_count`/`max_replica_count`: The number of virtual machines for auto-scaling predictions.\n",
    "- `display_name`: Display name for Vertex AI Model resource.\n",
    "- `project`: The project ID.\n",
    "- `region`: The region."
   ]
  },
  {
   "cell_type": "code",
   "execution_count": null,
   "metadata": {
    "id": "run_pipeline:bqml,eval",
    "repo": "snippets_mlops.ipynb"
   },
   "outputs": [],
   "source": [
    "MODEL_DIR = BUCKET_NAME + \"/bqmodel\"\n",
    "\n",
    "compiler.Compiler().compile(pipeline_func=pipeline, package_path=\"bqml.json\")\n",
    "\n",
    "pipeline = aip.PipelineJob(\n",
    "    display_name=\"bqml\",\n",
    "    template_path=\"bqml.json\",\n",
    "    pipeline_root=PIPELINE_ROOT,\n",
    "    parameter_values={\n",
    "        \"bq_train_table\": BQ_TABLE_TRAIN,\n",
    "        \"bq_eval_table\": IMPORT_EVAL,\n",
    "        \"label\": \"species\",\n",
    "        \"class_names\": [\n",
    "            \"Adelie Penguin (Pygoscelis adeliae)\",\n",
    "            \"Chinstrap penguin (Pygoscelis antarctica)\",\n",
    "            \"Gentoo penguin (Pygoscelis papua)\",\n",
    "        ],\n",
    "        \"dataset\": \"bqml_tutorial\",\n",
    "        \"model\": \"penguins_model\",\n",
    "        \"artifact_uri\": MODEL_DIR,\n",
    "        #'num_trials': 1,\n",
    "        \"deploy_image\": DEPLOY_IMAGE,\n",
    "        \"display_name\": \"penguins\",\n",
    "        \"machine_type\": DEPLOY_COMPUTE,\n",
    "        \"min_replica_count\": 1,\n",
    "        \"max_replica_count\": 1,\n",
    "        \"accelerator_type\": DEPLOY_GPU.name,\n",
    "        \"accelerator_count\": 1,\n",
    "        \"bucket\": BUCKET_NAME,\n",
    "        \"project\": PROJECT_ID,\n",
    "        \"location\": \"US\",\n",
    "    },\n",
    "    # enable_caching=False\n",
    ")\n",
    "\n",
    "pipeline.run()\n",
    "\n",
    "! rm -rf bqml.json"
   ]
  },
  {
   "cell_type": "markdown",
   "metadata": {
    "id": "view_pipeline_results:bqml,eval,lcn",
    "repo": "snippets_mlops.ipynb"
   },
   "source": [
    "### View the BigQuery ML training and batch evaluation pipeline results"
   ]
  },
  {
   "cell_type": "code",
   "execution_count": null,
   "metadata": {
    "id": "view_pipeline_results:bqml,eval,lcn",
    "repo": "snippets_mlops.ipynb"
   },
   "outputs": [],
   "source": [
    "PROJECT_NUMBER = pipeline.gca_resource.name.split(\"/\")[1]\n",
    "print(PROJECT_NUMBER)\n",
    "\n",
    "\n",
    "def print_pipeline_output(job, output_task_name):\n",
    "    JOB_ID = job.name\n",
    "    print(JOB_ID)\n",
    "    for _ in range(len(job.gca_resource.job_detail.task_details)):\n",
    "        TASK_ID = job.gca_resource.job_detail.task_details[_].task_id\n",
    "        EXECUTE_OUTPUT = (\n",
    "            PIPELINE_ROOT\n",
    "            + \"/\"\n",
    "            + PROJECT_NUMBER\n",
    "            + \"/\"\n",
    "            + JOB_ID\n",
    "            + \"/\"\n",
    "            + output_task_name\n",
    "            + \"_\"\n",
    "            + str(TASK_ID)\n",
    "            + \"/executor_output.json\"\n",
    "        )\n",
    "        GCP_RESOURCES = (\n",
    "            PIPELINE_ROOT\n",
    "            + \"/\"\n",
    "            + PROJECT_NUMBER\n",
    "            + \"/\"\n",
    "            + JOB_ID\n",
    "            + \"/\"\n",
    "            + output_task_name\n",
    "            + \"_\"\n",
    "            + str(TASK_ID)\n",
    "            + \"/gcp_resources\"\n",
    "        )\n",
    "        if tf.io.gfile.exists(EXECUTE_OUTPUT):\n",
    "            ! gsutil cat $EXECUTE_OUTPUT\n",
    "            break\n",
    "        elif tf.io.gfile.exists(GCP_RESOURCES):\n",
    "            ! gsutil cat $GCP_RESOURCES\n",
    "            break\n",
    "\n",
    "    return EXECUTE_OUTPUT\n",
    "\n",
    "\n",
    "print(\"bigquery-query-job\")\n",
    "artifacts = print_pipeline_output(pipeline, \"bigquery-query-job\")\n",
    "print(\"\\n\\n\")\n",
    "print(\"bigquery-create-model-job\")\n",
    "artifacts = print_pipeline_output(pipeline, \"bigquery-create-model-job\")\n",
    "print(\"\\n\\n\")\n",
    "print(\"bigquery-evaluate-model-job\")\n",
    "artifacts = print_pipeline_output(pipeline, \"bigquery-evaluate-model-job\")\n",
    "print(\"\\n\\n\")\n",
    "print(\"bigquery-export-model-job\")\n",
    "artifacts = print_pipeline_output(pipeline, \"bigquery-export-model-job\")\n",
    "print(\"\\n\\n\")\n",
    "print(\"model-upload\")\n",
    "artifacts = print_pipeline_output(pipeline, \"model-upload\")\n",
    "print(\"\\n\\n\")\n",
    "print(\"model-batch-predict\")\n",
    "artifacts = print_pipeline_output(pipeline, \"model-batch-predict\")\n",
    "output = !gsutil cat $artifacts\n",
    "output = json.loads(output[0])\n",
    "print(\"\\n\\n\")\n",
    "print(\n",
    "    output[\"artifacts\"][\"batchpredictionjob\"][\"artifacts\"][0][\"metadata\"][\n",
    "        \"gcsOutputDirectory\"\n",
    "    ]\n",
    ")\n",
    "print(\"model-evaluation\")\n",
    "artifacts = print_pipeline_output(pipeline, \"model-evaluation\")"
   ]
  },
  {
   "cell_type": "markdown",
   "metadata": {
    "id": "delete_pipeline",
    "repo": "snippets_mbsdk.ipynb"
   },
   "source": [
    "### Delete a pipeline job\n",
    "\n",
    "After a pipeline job is completed, you can delete the pipeline job with the method `delete()`.  Prior to completion, a pipeline job can be canceled with the method `cancel()`."
   ]
  },
  {
   "cell_type": "code",
   "execution_count": null,
   "metadata": {
    "id": "delete_pipeline",
    "repo": "snippets_mbsdk.ipynb"
   },
   "outputs": [],
   "source": [
    "pipeline.delete()"
   ]
  },
  {
   "cell_type": "markdown",
   "metadata": {
    "id": "delete:bqml,penguins",
    "repo": "snippets_mlops.ipynb"
   },
   "source": [
    "#### Delete the BigQuery model and dataset\n",
    "\n",
    "Next, delete the BigQuery model and dataset."
   ]
  },
  {
   "cell_type": "code",
   "execution_count": null,
   "metadata": {
    "id": "delete:bqml,penguins",
    "repo": "snippets_mlops.ipynb"
   },
   "outputs": [],
   "source": [
    "try:\n",
    "    job = bqclient.delete_model(\"bqml_tutorial.penguins_model\")\n",
    "except:\n",
    "    pass\n",
    "job = bqclient.delete_dataset(\"bqml_tutorial\", delete_contents=True)"
   ]
  },
  {
   "cell_type": "markdown",
   "metadata": {
    "id": "cleanup:mbsdk",
    "repo": "snippets_mbsdk.ipynb"
   },
   "source": [
    "# Cleaning up\n",
    "\n",
    "To clean up all Google Cloud resources used in this project, you can [delete the Google Cloud\n",
    "project](https://cloud.google.com/resource-manager/docs/creating-managing-projects#shutting_down_projects) you used for the tutorial.\n",
    "\n",
    "Otherwise, you can delete the individual resources you created in this tutorial:\n",
    "\n",
    "- Dataset\n",
    "- Pipeline\n",
    "- Model\n",
    "- Endpoint\n",
    "- AutoML Training Job\n",
    "- Batch Job\n",
    "- Custom Job\n",
    "- Hyperparameter Tuning Job\n",
    "- Cloud Storage Bucket"
   ]
  },
  {
   "cell_type": "code",
   "execution_count": null,
   "metadata": {
    "id": "cleanup:mbsdk",
    "repo": "snippets_mbsdk.ipynb"
   },
   "outputs": [],
   "source": [
    "delete_all = True\n",
    "\n",
    "if delete_all:\n",
    "    # Delete the dataset using the Vertex dataset object\n",
    "    try:\n",
    "        if \"dataset\" in globals():\n",
    "            dataset.delete()\n",
    "    except Exception as e:\n",
    "        print(e)\n",
    "\n",
    "    # Delete the model using the Vertex model object\n",
    "    try:\n",
    "        if \"model\" in globals():\n",
    "            model.delete()\n",
    "    except Exception as e:\n",
    "        print(e)\n",
    "\n",
    "    # Delete the endpoint using the Vertex endpoint object\n",
    "    try:\n",
    "        if \"endpoint\" in globals():\n",
    "            endpoint.undeploy_all()\n",
    "            endpoint.delete()\n",
    "    except Exception as e:\n",
    "        print(e)\n",
    "\n",
    "    # Delete the AutoML or Pipeline training job\n",
    "    try:\n",
    "        if \"dag\" in globals():\n",
    "            dag.delete()\n",
    "    except Exception as e:\n",
    "        print(e)\n",
    "\n",
    "    # Delete the custom training job\n",
    "    try:\n",
    "        if \"job\" in globals():\n",
    "            job.delete()\n",
    "    except Exception as e:\n",
    "        print(e)\n",
    "\n",
    "    # Delete the batch prediction job using the Vertex batch prediction object\n",
    "    try:\n",
    "        if \"batch_predict_job\" in globals():\n",
    "            batch_predict_job.delete()\n",
    "    except Exception as e:\n",
    "        print(e)\n",
    "\n",
    "    # Delete the hyperparameter tuning job using the Vertex hyperparameter tuning object\n",
    "    try:\n",
    "        if \"hpt_job\" in globals():\n",
    "            hpt_job.delete()\n",
    "    except Exception as e:\n",
    "        print(e)\n",
    "\n",
    "    if \"BUCKET_NAME\" in globals():\n",
    "        ! gsutil rm -r $BUCKET_NAME"
   ]
  },
  {
   "cell_type": "code",
   "execution_count": null,
   "metadata": {},
   "outputs": [],
   "source": [
    "help(ModelBatchPredictOp)"
   ]
  },
  {
   "cell_type": "code",
   "execution_count": null,
   "metadata": {},
   "outputs": [],
   "source": []
  }
 ],
 "metadata": {
  "environment": {
   "name": "common-cu110.m71",
   "type": "gcloud",
   "uri": "gcr.io/deeplearning-platform-release/base-cu110:m71"
  },
  "kernelspec": {
   "display_name": "Python 3",
   "language": "python",
   "name": "python3"
  },
  "language_info": {
   "codemirror_mode": {
    "name": "ipython",
    "version": 3
   },
   "file_extension": ".py",
   "mimetype": "text/x-python",
   "name": "python",
   "nbconvert_exporter": "python",
   "pygments_lexer": "ipython3",
   "version": "3.7.10"
  },
  "vars": {
   "AIP": "AI Platform",
   "AUTOML": "AutoML",
   "AUTOML_URL": "https://cloud.google.com/vertex-ai/docs/start/automl-users",
   "BQ": "BigQuery",
   "COLAB": "Colab",
   "DATASET_ALIAS": "penguins",
   "DATASET_NAME": "Penguins",
   "DOCKER": "Docker",
   "EDGE": "Edge",
   "EMAIL": "cdpe@gmail.com",
   "GAPIC": "client library",
   "GAPICP": "SDK",
   "GCONSOLE": "Cloud Console",
   "GCP": "Google Cloud",
   "GCS": "Cloud Storage",
   "GNOTEBOOK": "Google Cloud Notebook",
   "LABEL": "species",
   "LABEL_COLUMN": "Deposit",
   "NOTEBOOK": "stage4/get_started_with_custom_model_evaluation.ipynb",
   "REGION": "us-central1",
   "REPO": "vertex-ai-samples/blob/main/notebooks/community/ml_ops",
   "SDKP": "SDK for Python",
   "STAGE": "4 : formalization: get started with Vertex AI Model Evaluation",
   "TENSORFLOW": "TensorFlow",
   "TFLite": "TFLite",
   "TFServing": "TF Serving",
   "TFV": "2-1",
   "TITLE": "E2E ML on GCP: MLOps stage 4 : formalization: get started with Vertex AI Model Evaluation",
   "TRAINING": "training",
   "TRAINING_BUDGET": "8000",
   "TRAINING_TIME": "30",
   "VERTEX": "Vertex AI",
   "VERTEX_AI": "Vertex AI",
   "YEAR": "2022",
   "null": "null",
   "uCAIP": "Vertex"
  }
 },
 "nbformat": 4,
 "nbformat_minor": 4
}
