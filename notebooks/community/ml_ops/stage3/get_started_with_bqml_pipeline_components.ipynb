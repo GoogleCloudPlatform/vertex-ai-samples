{
 "cells": [
  {
   "cell_type": "code",
   "execution_count": null,
   "metadata": {
    "id": "copyright"
   },
   "outputs": [],
   "source": [
    "# Copyright 2022 Google LLC\n",
    "#\n",
    "# Licensed under the Apache License, Version 2.0 (the \"License\");\n",
    "# you may not use this file except in compliance with the License.\n",
    "# You may obtain a copy of the License at\n",
    "#\n",
    "#     https://www.apache.org/licenses/LICENSE-2.0\n",
    "#\n",
    "# Unless required by applicable law or agreed to in writing, software\n",
    "# distributed under the License is distributed on an \"AS IS\" BASIS,\n",
    "# WITHOUT WARRANTIES OR CONDITIONS OF ANY KIND, either express or implied.\n",
    "# See the License for the specific language governing permissions and\n",
    "# limitations under the License."
   ]
  },
  {
   "cell_type": "markdown",
   "metadata": {
    "id": "title:generic,gcp"
   },
   "source": [
    "# E2E ML on GCP: MLOps stage 3 : formalization: get started with BigQuery ML pipeline components\n",
    "\n",
    "<table align=\"left\">\n",
    "  <td>\n",
    "    <a href=\"https://colab.research.google.com/github/GoogleCloudPlatform/vertex-ai-samples/blob/main/notebooks/community/ml_ops/stage3/get_started_with_bqml_pipeline_components.ipynb\">\n",
    "      <img src=\"https://cloud.google.com/ml-engine/images/colab-logo-32px.png\" alt=\"Colab logo\"> Run in Colab\n",
    "    </a>\n",
    "  </td>  \n",
    "  <td>\n",
    "    <a href=\"https://github.com/GoogleCloudPlatform/vertex-ai-samples/blob/main/notebooks/community/ml_ops/stage3/get_started_with_bqml_pipeline_components.ipynb\">\n",
    "      <img src=\"https://cloud.google.com/ml-engine/images/github-logo-32px.png\" alt=\"GitHub logo\">\n",
    "      View on GitHub\n",
    "    </a>\n",
    "  </td>\n",
    "  <td>\n",
    "    <a href=\"https://console.cloud.google.com/vertex-ai/workbench/deploy-notebook?download_url=https://github.com/GoogleCloudPlatform/vertex-ai-samples/blob/main/notebooks/community/ml_ops/stage3/get_started_with_bqml_pipeline_components.ipynb\">\n",
    "      <img src=\"https://lh3.googleusercontent.com/UiNooY4LUgW_oTvpsNhPpQzsstV5W8F7rYgxgGBD85cWJoLmrOzhVs_ksK_vgx40SHs7jCqkTkCk=e14-rj-sc0xffffff-h130-w32\" alt=\"Vertex AI logo\">\n",
    "      Open in Vertex AI Workbench\n",
    "    </a>\n",
    "  </td>\n",
    "</table>\n",
    "<br/><br/><br/>"
   ]
  },
  {
   "cell_type": "markdown",
   "metadata": {
    "id": "overview:mlops"
   },
   "source": [
    "## Overview\n",
    "\n",
    "\n",
    "This tutorial demonstrates how to use Vertex AI for E2E MLOps on Google Cloud in production. This tutorial covers stage 3 : formalization: get started with BigQuery ML pipeline components."
   ]
  },
  {
   "cell_type": "markdown",
   "metadata": {
    "id": "dataset:penguins,lcn,bq"
   },
   "source": [
    "### Dataset\n",
    "\n",
    "The dataset used for this tutorial is the Penguins dataset from [BigQuery public datasets](https://cloud.google.com/bigquery/public-data). The version of the dataset predicts the species."
   ]
  },
  {
   "cell_type": "markdown",
   "metadata": {
    "id": "objective:mlops,stage3,get_started_bqml_pipeline_components"
   },
   "source": [
    "### Objective\n",
    "\n",
    "In this tutorial, you learn how to use prebuilt `Google Cloud Pipeline Components` for `BigQuery ML`.\n",
    "\n",
    "This tutorial uses the following Google Cloud ML services:\n",
    "\n",
    "- `BigQuery ML`\n",
    "- `Google Cloud Pipeline Components`\n",
    "- `Vertex AI Dataset, Model and Endpoint` resources\n",
    "- `Vertex AI Prediction`\n",
    "\n",
    "The steps performed include:\n",
    "\n",
    "- Construct a pipeline for:\n",
    "    - Training BigQuery ML model.\n",
    "    - Evaluating the BigQuery ML model.\n",
    "    - Exporting the BigQuery ML model.\n",
    "    - Importing the BigQuery ML model to a Vertex AI model.\n",
    "    - Deploy the Vertex AI model.\n",
    "- Execute a Vertex AI pipeline.\n",
    "- Make a prediction with the deployed Vertex AI model."
   ]
  },
  {
   "cell_type": "markdown",
   "metadata": {
    "id": "0c997d8d92ce"
   },
   "source": [
    "### Costs \n",
    "\n",
    "\n",
    "This tutorial uses billable components of Google Cloud:\n",
    "\n",
    "* Vertex AI\n",
    "* Cloud Storage\n",
    "\n",
    "\n",
    "Learn about [Vertex AI\n",
    "pricing](https://cloud.google.com/vertex-ai/pricing) and [Cloud Storage\n",
    "pricing](https://cloud.google.com/storage/pricing), and use the [Pricing\n",
    "Calculator](https://cloud.google.com/products/calculator/)\n",
    "to generate a cost estimate based on your projected usage."
   ]
  },
  {
   "cell_type": "markdown",
   "metadata": {
    "id": "install_mlops"
   },
   "source": [
    "## Installations\n",
    "\n",
    "Install *one time* the packages for executing the MLOps notebooks."
   ]
  },
  {
   "cell_type": "code",
   "execution_count": 25,
   "metadata": {
    "id": "1fd00fa70a2a"
   },
   "outputs": [],
   "source": [
    "import os\n",
    "\n",
    "# The Google Cloud Notebook product has specific requirements\n",
    "IS_GOOGLE_CLOUD_NOTEBOOK = os.path.exists(\"/opt/deeplearning/metadata/env_version\")\n",
    "\n",
    "# Google Cloud Notebook requires dependencies to be installed with '--user'\n",
    "USER_FLAG = \"\"\n",
    "if IS_GOOGLE_CLOUD_NOTEBOOK:\n",
    "    USER_FLAG = \"--user\""
   ]
  },
  {
   "cell_type": "code",
   "execution_count": null,
   "metadata": {
    "id": "-OxtcyNNJ39g"
   },
   "outputs": [],
   "source": [
    "! pip3 install -U tensorflow $USER_FLAG\n",
    "! pip3 install --upgrade google-cloud-aiplatform[tensorboard] $USER_FLAG\n",
    "! pip3 install --upgrade google-cloud-pipeline-components $USER_FLAG\n",
    "! pip3 install --upgrade google-cloud-bigquery $USER_FLAG\n",
    "! pip3 install --upgrade kfp $USER_FLAG\n"
   ]
  },
  {
   "cell_type": "markdown",
   "metadata": {
    "id": "restart"
   },
   "source": [
    "### Restart the kernel\n",
    "\n",
    "Once you've installed the additional packages, you need to restart the notebook kernel so it can find the packages."
   ]
  },
  {
   "cell_type": "code",
   "execution_count": 27,
   "metadata": {
    "id": "fIuF_ZjxJ39h"
   },
   "outputs": [],
   "source": [
    "import os\n",
    "\n",
    "if not os.getenv(\"IS_TESTING\"):\n",
    "    # Automatically restart kernel after installs\n",
    "    import IPython\n",
    "\n",
    "    app = IPython.Application.instance()\n",
    "    app.kernel.do_shutdown(True)"
   ]
  },
  {
   "cell_type": "markdown",
   "metadata": {
    "id": "project_id"
   },
   "source": [
    "#### Set your project ID\n",
    "\n",
    "**If you don't know your project ID**, you may be able to get your project ID using `gcloud`."
   ]
  },
  {
   "cell_type": "code",
   "execution_count": 1,
   "metadata": {
    "id": "set_project_id"
   },
   "outputs": [],
   "source": [
    "import os\n",
    "\n",
    "PROJECT_ID = \"[your-project-id]\"  # @param {type:\"string\"}"
   ]
  },
  {
   "cell_type": "code",
   "execution_count": 2,
   "metadata": {
    "id": "autoset_project_id"
   },
   "outputs": [],
   "source": [
    "if PROJECT_ID == \"\" or PROJECT_ID is None or PROJECT_ID == \"[your-project-id]\":\n",
    "    # Get your GCP project id from gcloud\n",
    "    shell_output = ! gcloud config list --format 'value(core.project)' 2>/dev/null\n",
    "    PROJECT_ID = shell_output[0]\n",
    "    print(\"Project ID:\", PROJECT_ID)"
   ]
  },
  {
   "cell_type": "code",
   "execution_count": 3,
   "metadata": {
    "colab": {
     "base_uri": "https://localhost:8080/"
    },
    "id": "set_gcloud_project_id",
    "outputId": "d771d2e2-c49c-4f75-d0a4-11f0b3ac9199"
   },
   "outputs": [
    {
     "name": "stdout",
     "output_type": "stream",
     "text": [
      "Updated property [core/project].\n"
     ]
    }
   ],
   "source": [
    "! gcloud config set project $PROJECT_ID"
   ]
  },
  {
   "cell_type": "markdown",
   "metadata": {
    "id": "region"
   },
   "source": [
    "#### Region\n",
    "\n",
    "You can also change the `REGION` variable, which is used for operations\n",
    "throughout the rest of this notebook.  Below are regions supported for Vertex AI. We recommend that you choose the region closest to you.\n",
    "\n",
    "- Americas: `us-central1`\n",
    "- Europe: `europe-west4`\n",
    "- Asia Pacific: `asia-east1`\n",
    "\n",
    "You may not use a multi-regional bucket for training with Vertex AI. Not all regions provide support for all Vertex AI services.\n",
    "\n",
    "Learn more about [Vertex AI regions](https://cloud.google.com/vertex-ai/docs/general/locations)."
   ]
  },
  {
   "cell_type": "code",
   "execution_count": 4,
   "metadata": {
    "id": "c1Rim3ogJ39j"
   },
   "outputs": [],
   "source": [
    "REGION = \"[your-region]\"  # @param {type:\"string\"}\n",
    "if REGION == \"[your-region]\":\n",
    "    REGION = \"us-central1\""
   ]
  },
  {
   "cell_type": "markdown",
   "metadata": {
    "id": "timestamp"
   },
   "source": [
    "#### Timestamp\n",
    "\n",
    "If you are in a live tutorial session, you might be using a shared test account or project. To avoid name collisions between users on resources created, you create a timestamp for each instance session, and append the timestamp onto the name of resources you create in this tutorial."
   ]
  },
  {
   "cell_type": "code",
   "execution_count": 5,
   "metadata": {
    "id": "hdkr5x2jJ39k"
   },
   "outputs": [],
   "source": [
    "from datetime import datetime\n",
    "\n",
    "TIMESTAMP = datetime.now().strftime(\"%Y%m%d%H%M%S\")"
   ]
  },
  {
   "cell_type": "markdown",
   "metadata": {
    "id": "UG2SHSlTJ39k"
   },
   "source": [
    "### Authenticate your Google Cloud account\n",
    "\n",
    "**If you are using Google Cloud Notebooks**, your environment is already\n",
    "authenticated. Skip this step."
   ]
  },
  {
   "cell_type": "markdown",
   "metadata": {
    "id": "ETQR4H1HJ39k"
   },
   "source": [
    "**If you are using Colab**, run the cell below and follow the instructions\n",
    "when prompted to authenticate your account via oAuth.\n",
    "\n",
    "**Otherwise**, follow these steps:\n",
    "\n",
    "1. In the Cloud Console, go to the [**Create service account key**\n",
    "   page](https://console.cloud.google.com/apis/credentials/serviceaccountkey).\n",
    "\n",
    "2. Click **Create service account**.\n",
    "\n",
    "3. In the **Service account name** field, enter a name, and\n",
    "   click **Create**.\n",
    "\n",
    "4. In the **Grant this service account access to project** section, click the **Role** drop-down list. Type \"Vertex AI\"\n",
    "into the filter box, and select\n",
    "   **Vertex AI Administrator**. Type \"Storage Object Admin\" into the filter box, and select **Storage Object Admin**.\n",
    "\n",
    "5. Click *Create*. A JSON file that contains your key downloads to your\n",
    "local environment.\n",
    "\n",
    "6. Enter the path to your service account key as the\n",
    "`GOOGLE_APPLICATION_CREDENTIALS` variable in the cell below and run the cell."
   ]
  },
  {
   "cell_type": "code",
   "execution_count": 6,
   "metadata": {
    "id": "9M66jv07J39l"
   },
   "outputs": [],
   "source": [
    "import os\n",
    "import sys\n",
    "\n",
    "# If you are running this notebook in Colab, run this cell and follow the\n",
    "# instructions to authenticate your GCP account. This provides access to your\n",
    "# Cloud Storage bucket and lets you submit training jobs and prediction\n",
    "# requests.\n",
    "\n",
    "# The Google Cloud Notebook product has specific requirements\n",
    "IS_GOOGLE_CLOUD_NOTEBOOK = os.path.exists(\"/opt/deeplearning/metadata/env_version\")\n",
    "\n",
    "# If on Google Cloud Notebooks, then don't execute this code\n",
    "if not IS_GOOGLE_CLOUD_NOTEBOOK:\n",
    "    if \"google.colab\" in sys.modules:\n",
    "        from google.colab import auth as google_auth\n",
    "\n",
    "        google_auth.authenticate_user()\n",
    "\n",
    "    # If you are running this notebook locally, replace the string below with the\n",
    "    # path to your service account key and run this cell to authenticate your GCP\n",
    "    # account.\n",
    "    elif not os.getenv(\"IS_TESTING\"):\n",
    "        %env GOOGLE_APPLICATION_CREDENTIALS ''"
   ]
  },
  {
   "cell_type": "markdown",
   "metadata": {
    "id": "bucket:mbsdk"
   },
   "source": [
    "### Create a Cloud Storage bucket\n",
    "\n",
    "**The following steps are required, regardless of your notebook environment.**\n",
    "\n",
    "When you initialize the Vertex SDK for Python, you specify a Cloud Storage staging bucket. The staging bucket is where all the data associated with your dataset and model resources are retained across sessions.\n",
    "\n",
    "Set the name of your Cloud Storage bucket below. Bucket names must be globally unique across all Google Cloud projects, including those outside of your organization."
   ]
  },
  {
   "cell_type": "code",
   "execution_count": 7,
   "metadata": {
    "id": "bucket"
   },
   "outputs": [],
   "source": [
    "BUCKET_NAME = \"[your-bucket-name]\"  # @param {type:\"string\"}\n",
    "BUCKET_URI = f\"gs://{BUCKET_NAME}\""
   ]
  },
  {
   "cell_type": "code",
   "execution_count": 8,
   "metadata": {
    "id": "autoset_bucket"
   },
   "outputs": [],
   "source": [
    "if BUCKET_URI == \"\" or BUCKET_URI is None or BUCKET_URI == \"gs://[your-bucket-name]\":\n",
    "    BUCKET_URI = \"gs://\" + PROJECT_ID + \"aip-\" + TIMESTAMP"
   ]
  },
  {
   "cell_type": "markdown",
   "metadata": {
    "id": "create_bucket"
   },
   "source": [
    "**Only if your bucket doesn't already exist**: Run the following cell to create your Cloud Storage bucket."
   ]
  },
  {
   "cell_type": "code",
   "execution_count": 9,
   "metadata": {
    "colab": {
     "base_uri": "https://localhost:8080/"
    },
    "id": "V97jQQuiJ39m",
    "outputId": "d842cb6c-f149-4b85-cca2-753a1fc2b9fe"
   },
   "outputs": [
    {
     "name": "stdout",
     "output_type": "stream",
     "text": [
      "Creating gs://vertex-ai-devaip-20220412071950/...\n"
     ]
    }
   ],
   "source": [
    "! gsutil mb -l $REGION $BUCKET_URI"
   ]
  },
  {
   "cell_type": "markdown",
   "metadata": {
    "id": "validate_bucket"
   },
   "source": [
    "Finally, validate access to your Cloud Storage bucket by examining its contents:"
   ]
  },
  {
   "cell_type": "code",
   "execution_count": 10,
   "metadata": {
    "id": "7PN6kSQtJ39m"
   },
   "outputs": [],
   "source": [
    "! gsutil ls -al $BUCKET_URI"
   ]
  },
  {
   "cell_type": "markdown",
   "metadata": {
    "id": "set_service_account"
   },
   "source": [
    "#### Service Account\n",
    "\n",
    "**If you don't know your service account**, try to get your service account using `gcloud` command by executing the second cell below.\n",
    "\n",
    "*Note:* The code for automatically finding your service account works on a user-managed Workbench AI noteboook. If you are using a fully-managed notebook, you will need to manually enter your service account."
   ]
  },
  {
   "cell_type": "code",
   "execution_count": 11,
   "metadata": {
    "id": "M4WZi4CDJ39n"
   },
   "outputs": [],
   "source": [
    "SERVICE_ACCOUNT = \"[your-service-account]\"  # @param {type:\"string\"}"
   ]
  },
  {
   "cell_type": "code",
   "execution_count": 12,
   "metadata": {
    "id": "autoset_service_account"
   },
   "outputs": [],
   "source": [
    "if (\n",
    "    SERVICE_ACCOUNT == \"\"\n",
    "    or SERVICE_ACCOUNT is None\n",
    "    or SERVICE_ACCOUNT == \"[your-service-account]\"\n",
    "):\n",
    "    # Get your GCP project id from gcloud\n",
    "    shell_output = !gcloud auth list 2>/dev/null\n",
    "    SERVICE_ACCOUNT = shell_output[2].replace(\"*\", \"\").strip()\n",
    "    print(\"Service Account:\", SERVICE_ACCOUNT)"
   ]
  },
  {
   "cell_type": "markdown",
   "metadata": {
    "id": "set_service_account:pipelines"
   },
   "source": [
    "#### Set service account access for Vertex AI Pipelines\n",
    "\n",
    "Run the following commands to grant your service account access to read and write pipeline artifacts in the bucket that you created in the previous step -- you only need to run these once per service account."
   ]
  },
  {
   "cell_type": "code",
   "execution_count": 13,
   "metadata": {
    "id": "mI3IJONMJ39n"
   },
   "outputs": [],
   "source": [
    "! gsutil iam ch serviceAccount:{SERVICE_ACCOUNT}:roles/storage.objectCreator $BUCKET_URI\n",
    "\n",
    "! gsutil iam ch serviceAccount:{SERVICE_ACCOUNT}:roles/storage.objectViewer $BUCKET_URI"
   ]
  },
  {
   "cell_type": "markdown",
   "metadata": {
    "id": "setup_vars"
   },
   "source": [
    "### Set up variables\n",
    "\n",
    "Next, set up some variables used throughout the tutorial.\n",
    "### Import libraries and define constants"
   ]
  },
  {
   "cell_type": "code",
   "execution_count": 14,
   "metadata": {
    "id": "import_aip:mbsdk"
   },
   "outputs": [],
   "source": [
    "import google.cloud.aiplatform as aip"
   ]
  },
  {
   "cell_type": "code",
   "execution_count": 15,
   "metadata": {
    "id": "import_kfp"
   },
   "outputs": [],
   "source": [
    "import json\n",
    "\n",
    "from kfp import dsl\n",
    "from kfp.v2 import compiler"
   ]
  },
  {
   "cell_type": "markdown",
   "metadata": {
    "id": "import_bq"
   },
   "source": [
    "#### Import BigQuery\n",
    "\n",
    "Import the BigQuery package into your Python environment."
   ]
  },
  {
   "cell_type": "code",
   "execution_count": 16,
   "metadata": {
    "id": "r7p4Iv8_J39o"
   },
   "outputs": [],
   "source": [
    "from google.cloud import bigquery"
   ]
  },
  {
   "cell_type": "markdown",
   "metadata": {
    "id": "import_tf"
   },
   "source": [
    "#### Import TensorFlow\n",
    "\n",
    "Import the TensorFlow package into your Python environment."
   ]
  },
  {
   "cell_type": "code",
   "execution_count": 17,
   "metadata": {
    "id": "_K5tP8oJJ39p"
   },
   "outputs": [],
   "source": [
    "import tensorflow as tf"
   ]
  },
  {
   "cell_type": "markdown",
   "metadata": {
    "id": "init_aip:mbsdk,all"
   },
   "source": [
    "### Initialize Vertex AI SDK for Python\n",
    "\n",
    "Initialize the Vertex AI SDK for Python for your project and corresponding bucket."
   ]
  },
  {
   "cell_type": "code",
   "execution_count": 18,
   "metadata": {
    "id": "uAnLpS9cJ39p"
   },
   "outputs": [],
   "source": [
    "aip.init(project=PROJECT_ID, location=REGION, staging_bucket=BUCKET_URI)"
   ]
  },
  {
   "cell_type": "markdown",
   "metadata": {
    "id": "init_bq"
   },
   "source": [
    "### Create BigQuery client\n",
    "\n",
    "Create the BigQuery client."
   ]
  },
  {
   "cell_type": "code",
   "execution_count": 19,
   "metadata": {
    "id": "I9RloZo9J39p"
   },
   "outputs": [],
   "source": [
    "bqclient = bigquery.Client()"
   ]
  },
  {
   "cell_type": "markdown",
   "metadata": {
    "id": "accelerators:prediction,mbsdk"
   },
   "source": [
    "#### Set hardware accelerators\n",
    "\n",
    "You can set hardware accelerators for prediction.\n",
    "\n",
    "Set the variable `DEPLOY_GPU/DEPLOY_NGPU` to use a container image supporting a GPU and the number of GPUs allocated to the virtual machine (VM) instance. For example, to use a GPU container image with 4 Nvidia Telsa K80 GPUs allocated to each VM, you would specify:\n",
    "\n",
    "    (aip.AcceleratorType.NVIDIA_TESLA_K80, 4)\n",
    "\n",
    "Otherwise specify `(None, None)` to use a container image to run on a CPU.\n",
    "\n",
    "Learn more [here](https://cloud.google.com/vertex-ai/docs/general/locations#accelerators) hardware accelerator support for your region"
   ]
  },
  {
   "cell_type": "code",
   "execution_count": 20,
   "metadata": {
    "id": "1-mE_7kXJ39p"
   },
   "outputs": [],
   "source": [
    "if os.getenv(\"IS_TESTING_DEPLOY_GPU\"):\n",
    "    DEPLOY_GPU, DEPLOY_NGPU = (\n",
    "        aip.gapic.AcceleratorType.NVIDIA_TESLA_K80,\n",
    "        int(os.getenv(\"IS_TESTING_DEPLOY_GPU\")),\n",
    "    )\n",
    "else:\n",
    "    DEPLOY_GPU, DEPLOY_NGPU = (aip.gapic.AcceleratorType.NVIDIA_TESLA_K80, 1)"
   ]
  },
  {
   "cell_type": "markdown",
   "metadata": {
    "id": "container:prediction"
   },
   "source": [
    "#### Set pre-built containers\n",
    "\n",
    "Set the pre-built Docker container image for prediction.\n",
    "\n",
    "- Set the variable `TF` to the TensorFlow version of the container image. For example, `2-1` would be version 2.1, and `1-15` would be version 1.15. The following list shows some of the pre-built images available:\n",
    "\n",
    "\n",
    "For the latest list, see [Pre-built containers for prediction](https://cloud.google.com/ai-platform-unified/docs/predictions/pre-built-containers)."
   ]
  },
  {
   "cell_type": "code",
   "execution_count": 21,
   "metadata": {
    "colab": {
     "base_uri": "https://localhost:8080/"
    },
    "id": "AmHM8whxJ39q",
    "outputId": "d75c5ee4-4e12-4fc5-a0bd-9ecd80821d3a"
   },
   "outputs": [
    {
     "name": "stdout",
     "output_type": "stream",
     "text": [
      "Deployment: us-docker.pkg.dev/vertex-ai/prediction/tf2-gpu.2-5:latest AcceleratorType.NVIDIA_TESLA_K80\n"
     ]
    }
   ],
   "source": [
    "if os.getenv(\"IS_TESTING_TF\"):\n",
    "    TF = os.getenv(\"IS_TESTING_TF\")\n",
    "else:\n",
    "    TF = \"2.5\".replace(\".\", \"-\")\n",
    "\n",
    "if TF[0] == \"2\":\n",
    "    if DEPLOY_GPU:\n",
    "        DEPLOY_VERSION = \"tf2-gpu.{}\".format(TF)\n",
    "    else:\n",
    "        DEPLOY_VERSION = \"tf2-cpu.{}\".format(TF)\n",
    "else:\n",
    "    if DEPLOY_GPU:\n",
    "        DEPLOY_VERSION = \"tf-gpu.{}\".format(TF)\n",
    "    else:\n",
    "        DEPLOY_VERSION = \"tf-cpu.{}\".format(TF)\n",
    "\n",
    "DEPLOY_IMAGE = \"{}-docker.pkg.dev/vertex-ai/prediction/{}:latest\".format(\n",
    "    REGION.split(\"-\")[0], DEPLOY_VERSION\n",
    ")\n",
    "\n",
    "print(\"Deployment:\", DEPLOY_IMAGE, DEPLOY_GPU)"
   ]
  },
  {
   "cell_type": "markdown",
   "metadata": {
    "id": "import_file:u_dataset,bq"
   },
   "source": [
    "#### Location of BigQuery training data.\n",
    "\n",
    "Now set the variable `IMPORT_FILE` to the location of the data table in BigQuery."
   ]
  },
  {
   "cell_type": "code",
   "execution_count": 22,
   "metadata": {
    "id": "import_file:penguins,bq,lcn"
   },
   "outputs": [],
   "source": [
    "IMPORT_FILE = \"bq://bigquery-public-data.ml_datasets.penguins\"\n",
    "BQ_TABLE = \"bigquery-public-data.ml_datasets.penguins\""
   ]
  },
  {
   "cell_type": "markdown",
   "metadata": {
    "id": "create_bqml_pipeline:tabular"
   },
   "source": [
    "### Construct pipeline for BigQuery ML training, exporting and deployment\n",
    "\n",
    "Next, construct the pipeline with the following tasks:\n",
    "\n",
    "- Create a BigQuery schema for the dataset.\n",
    "- Train a BigQuery ML model.\n",
    "- Evaluate the BigQuery ML model.\n",
    "- Make a batch prediction with the BigQuery ML model. *Note:* The same data (table) is used for both training and prediction.\n",
    "- Export the BigQuery ML model.\n",
    "- Import the exported model artifacts to a Vertex AI Model resource.\n",
    "- Deploy the Vertex AI Model resource to a Vertex AI Endpoint resource."
   ]
  },
  {
   "cell_type": "code",
   "execution_count": 23,
   "metadata": {
    "id": "LvND7iTpJ39r"
   },
   "outputs": [],
   "source": [
    "PIPELINE_ROOT = f\"{BUCKET_URI}/bq_query\"\n",
    "\n",
    "\n",
    "@dsl.pipeline(name=\"bq-hello-world\", pipeline_root=PIPELINE_ROOT)\n",
    "def pipeline(\n",
    "    bq_table: str,\n",
    "    label: str,\n",
    "    dataset: str,\n",
    "    model: str,\n",
    "    artifact_uri: str,\n",
    "    num_trials: int,\n",
    "    deploy_image: str,\n",
    "    machine_type: str,\n",
    "    min_replica_count: int,\n",
    "    max_replica_count: int,\n",
    "    display_name: str,\n",
    "    accelerator_type: str = \"\",\n",
    "    accelerator_count: int = 0,\n",
    "    project: str = PROJECT_ID,\n",
    "    location: str = \"US\",\n",
    "    region: str = \"us-central1\",\n",
    "):\n",
    "    from google_cloud_pipeline_components.types import artifact_types\n",
    "    from google_cloud_pipeline_components.v1.bigquery import (\n",
    "        BigqueryCreateModelJobOp, BigqueryEvaluateModelJobOp,\n",
    "        BigqueryExportModelJobOp, BigqueryPredictModelJobOp,\n",
    "        BigqueryQueryJobOp)\n",
    "    from google_cloud_pipeline_components.v1.endpoint import (EndpointCreateOp,\n",
    "                                                              ModelDeployOp)\n",
    "    from google_cloud_pipeline_components.v1.model import ModelUploadOp\n",
    "    from kfp.v2.components import importer_node\n",
    "\n",
    "    bq_dataset = BigqueryQueryJobOp(\n",
    "        project=project, location=\"US\", query=f\"CREATE SCHEMA {dataset}\"\n",
    "    )\n",
    "\n",
    "    bq_model = BigqueryCreateModelJobOp(\n",
    "        project=project,\n",
    "        location=location,\n",
    "        query=f\"CREATE OR REPLACE MODEL {dataset}.{model} OPTIONS (model_type='dnn_classifier', labels=['{label}'], num_trials={num_trials}) AS SELECT * FROM `{bq_table}` WHERE body_mass_g IS NOT NULL AND sex IS NOT NULL\",\n",
    "    ).after(bq_dataset)\n",
    "\n",
    "    _ = BigqueryEvaluateModelJobOp(\n",
    "        project=PROJECT_ID, location=\"US\", model=bq_model.outputs[\"model\"]\n",
    "    ).after(bq_model)\n",
    "\n",
    "    _ = BigqueryPredictModelJobOp(\n",
    "        project=project,\n",
    "        location=location,\n",
    "        model=bq_model.outputs[\"model\"],\n",
    "        table_name=f\"`{bq_table}`\",\n",
    "        # query_statement=f\"SELECT * EXCEPT ({label}) FROM {bq_table} WHERE body_mass_g IS NOT NULL AND sex IS NOT NULL\"\n",
    "        job_configuration_query={\n",
    "            \"destinationTable\": {\n",
    "                \"projectId\": PROJECT_ID,\n",
    "                \"datasetId\": \"bqml_tutorial\",\n",
    "                \"tableId\": \"results_1\",\n",
    "            }\n",
    "        },\n",
    "    ).after(bq_model)\n",
    "\n",
    "    bq_export = BigqueryExportModelJobOp(\n",
    "        project=project,\n",
    "        location=location,\n",
    "        model=bq_model.outputs[\"model\"],\n",
    "        model_destination_path=artifact_uri,\n",
    "    ).after(bq_model)\n",
    "\n",
    "    import_unmanaged_model_task = importer_node.importer(\n",
    "        artifact_uri=artifact_uri,\n",
    "        artifact_class=artifact_types.UnmanagedContainerModel,\n",
    "        metadata={\n",
    "            \"containerSpec\": {\n",
    "                \"imageUri\": DEPLOY_IMAGE,\n",
    "            },\n",
    "        },\n",
    "    ).after(bq_export)\n",
    "\n",
    "    model_upload = ModelUploadOp(\n",
    "        project=project,\n",
    "        display_name=display_name,\n",
    "        unmanaged_container_model=import_unmanaged_model_task.outputs[\"artifact\"],\n",
    "    ).after(import_unmanaged_model_task)\n",
    "\n",
    "    endpoint = EndpointCreateOp(\n",
    "        project=project,\n",
    "        location=region,\n",
    "        display_name=display_name,\n",
    "    ).after(model_upload)\n",
    "\n",
    "    _ = ModelDeployOp(\n",
    "        model=model_upload.outputs[\"model\"],\n",
    "        endpoint=endpoint.outputs[\"endpoint\"],\n",
    "        dedicated_resources_min_replica_count=min_replica_count,\n",
    "        dedicated_resources_max_replica_count=max_replica_count,\n",
    "        dedicated_resources_machine_type=machine_type,\n",
    "        dedicated_resources_accelerator_type=accelerator_type,\n",
    "        dedicated_resources_accelerator_count=accelerator_count,\n",
    "        traffic_split={\"0\": 100},\n",
    "    )"
   ]
  },
  {
   "cell_type": "markdown",
   "metadata": {
    "id": "run_pipeline:bqml"
   },
   "source": [
    "### Compile and execute the BigQuery ML train, export and deploy pipeline\n",
    "\n",
    "Next, you compile the pipeline and then execute it. The pipeline takes the following parameters, which are passed as the dictionary `parameter_values`:\n",
    "\n",
    "- `bq_table`: The BigQuery dataset to train on.\n",
    "- `label`: The corresponding label for the BigQuery dataset.\n",
    "- `dataset`: The BigQuery dataset component name.\n",
    "- `model`: The BigQuery model component name.\n",
    "- `artifact_uri`: The Cloud Storage location to export the BigQuery model artifacts.\n",
    "- `num_trials`: If greater than one, will perform hyperparameter tuning for the specified number of trials using the Vertex AI Vizier service.\n",
    "- `deploy_image`: The container image for serving predictions.\n",
    "- `machine_type`: The VM for serving predictions.\n",
    "- `min_replica_count`/`max_replica_count`: The number of virtual machines for auto-scaling predictions.\n",
    "- `accelerator_type`: The type of HW accelerators -- if any.\n",
    "- `accelerator_count`: The number of HW accelerators -- if any.\n",
    "- `display_name`: Display name for Vertex AI Model and Endpoint resources.\n",
    "- `project`: The project ID\n",
    "- `location`: The location"
   ]
  },
  {
   "cell_type": "code",
   "execution_count": 24,
   "metadata": {
    "colab": {
     "base_uri": "https://localhost:8080/"
    },
    "id": "l2FMs74-J39r",
    "outputId": "67ae526c-f729-45e9-e195-664c4d8f5ba7"
   },
   "outputs": [
    {
     "name": "stdout",
     "output_type": "stream",
     "text": [
      "gpu= NVIDIA_TESLA_K80\n",
      "accelerator_count= 1\n"
     ]
    },
    {
     "name": "stderr",
     "output_type": "stream",
     "text": [
      "/usr/local/lib/python3.7/dist-packages/kfp/v2/compiler/compiler.py:1281: FutureWarning: APIs imported from the v1 namespace (e.g. kfp.dsl, kfp.components, etc) will not be supported by the v2 compiler since v2.0.0\n",
      "  category=FutureWarning,\n"
     ]
    },
    {
     "name": "stdout",
     "output_type": "stream",
     "text": [
      "Creating PipelineJob\n",
      "PipelineJob created. Resource name: projects/931647533046/locations/us-central1/pipelineJobs/bq-hello-world-20220412072059\n",
      "To use this PipelineJob in another session:\n",
      "pipeline_job = aiplatform.PipelineJob.get('projects/931647533046/locations/us-central1/pipelineJobs/bq-hello-world-20220412072059')\n",
      "View Pipeline Job:\n",
      "https://console.cloud.google.com/vertex-ai/locations/us-central1/pipelines/runs/bq-hello-world-20220412072059?project=931647533046\n",
      "PipelineJob projects/931647533046/locations/us-central1/pipelineJobs/bq-hello-world-20220412072059 current state:\n",
      "PipelineState.PIPELINE_STATE_RUNNING\n",
      "PipelineJob projects/931647533046/locations/us-central1/pipelineJobs/bq-hello-world-20220412072059 current state:\n",
      "PipelineState.PIPELINE_STATE_RUNNING\n",
      "PipelineJob projects/931647533046/locations/us-central1/pipelineJobs/bq-hello-world-20220412072059 current state:\n",
      "PipelineState.PIPELINE_STATE_RUNNING\n",
      "PipelineJob projects/931647533046/locations/us-central1/pipelineJobs/bq-hello-world-20220412072059 current state:\n",
      "PipelineState.PIPELINE_STATE_RUNNING\n",
      "PipelineJob projects/931647533046/locations/us-central1/pipelineJobs/bq-hello-world-20220412072059 current state:\n",
      "PipelineState.PIPELINE_STATE_RUNNING\n",
      "PipelineJob projects/931647533046/locations/us-central1/pipelineJobs/bq-hello-world-20220412072059 current state:\n",
      "PipelineState.PIPELINE_STATE_RUNNING\n",
      "PipelineJob projects/931647533046/locations/us-central1/pipelineJobs/bq-hello-world-20220412072059 current state:\n",
      "PipelineState.PIPELINE_STATE_RUNNING\n",
      "PipelineJob projects/931647533046/locations/us-central1/pipelineJobs/bq-hello-world-20220412072059 current state:\n",
      "PipelineState.PIPELINE_STATE_RUNNING\n",
      "PipelineJob projects/931647533046/locations/us-central1/pipelineJobs/bq-hello-world-20220412072059 current state:\n",
      "PipelineState.PIPELINE_STATE_RUNNING\n",
      "PipelineJob projects/931647533046/locations/us-central1/pipelineJobs/bq-hello-world-20220412072059 current state:\n",
      "PipelineState.PIPELINE_STATE_RUNNING\n",
      "PipelineJob projects/931647533046/locations/us-central1/pipelineJobs/bq-hello-world-20220412072059 current state:\n",
      "PipelineState.PIPELINE_STATE_RUNNING\n",
      "PipelineJob projects/931647533046/locations/us-central1/pipelineJobs/bq-hello-world-20220412072059 current state:\n",
      "PipelineState.PIPELINE_STATE_RUNNING\n",
      "PipelineJob run completed. Resource name: projects/931647533046/locations/us-central1/pipelineJobs/bq-hello-world-20220412072059\n"
     ]
    }
   ],
   "source": [
    "# If DEPLOY_GPU is None, keeping gpu as no accelerator and accelerator_count as 0\n",
    "accelerator_count = 0\n",
    "if DEPLOY_GPU:\n",
    "    gpu = DEPLOY_GPU.name\n",
    "    accelerator_count = 1\n",
    "else:\n",
    "    gpu = \"ACCELERATOR_TYPE_UNSPECIFIED\"  # Unspecified accelerator type, which means no accelerator.\n",
    "    accelerator_count = 0\n",
    "\n",
    "print(\"gpu=\", gpu)\n",
    "print(\"accelerator_count=\", accelerator_count)\n",
    "\n",
    "MODEL_DIR = BUCKET_URI + \"/bqmodel\"\n",
    "\n",
    "compiler.Compiler().compile(pipeline_func=pipeline, package_path=\"bqml.json\")\n",
    "\n",
    "pipeline = aip.PipelineJob(\n",
    "    display_name=\"bqml\",\n",
    "    template_path=\"bqml.json\",\n",
    "    pipeline_root=PIPELINE_ROOT,\n",
    "    parameter_values={\n",
    "        \"bq_table\": BQ_TABLE,\n",
    "        \"label\": \"species\",\n",
    "        \"dataset\": \"bqml_tutorial\",\n",
    "        \"model\": \"penguins_model\",\n",
    "        \"artifact_uri\": MODEL_DIR,\n",
    "        \"num_trials\": 2,\n",
    "        \"deploy_image\": DEPLOY_IMAGE,\n",
    "        \"display_name\": \"penguins\",\n",
    "        \"machine_type\": \"n1-standard-4\",\n",
    "        \"min_replica_count\": 1,\n",
    "        \"max_replica_count\": 1,\n",
    "        \"accelerator_type\": gpu,\n",
    "        \"accelerator_count\": accelerator_count,\n",
    "        \"project\": PROJECT_ID,\n",
    "        \"location\": \"US\",\n",
    "    },\n",
    "    enable_caching=False,\n",
    ")\n",
    "\n",
    "pipeline.run()\n",
    "\n",
    "! rm -rf bqml.json"
   ]
  },
  {
   "cell_type": "markdown",
   "metadata": {
    "id": "view_pipleline_results:bqml"
   },
   "source": [
    "### View the BigQuery ML pipeline results"
   ]
  },
  {
   "cell_type": "code",
   "execution_count": 25,
   "metadata": {
    "colab": {
     "base_uri": "https://localhost:8080/"
    },
    "collapsed": true,
    "id": "2OM8zzJXJ39s",
    "jupyter": {
     "outputs_hidden": true
    },
    "outputId": "bd9942fb-2e24-42f5-b4da-8e85be173f32",
    "tags": []
   },
   "outputs": [
    {
     "name": "stdout",
     "output_type": "stream",
     "text": [
      "931647533046\n",
      "bigquery-query-job\n",
      "bq-hello-world-20220412072059\n",
      "{\n",
      "  \"resources\": [\n",
      "    {\n",
      "      \"resourceType\": \"BigQueryJob\",\n",
      "      \"resourceUri\": \"https://www.googleapis.com/bigquery/v2/projects/vertex-ai-dev/jobs/job_Bzhp7nhESZIl1CUgqXsQdxxSkDuh?location=US\"\n",
      "    }\n",
      "  ]\n",
      "}\n",
      "\n",
      "\n",
      "bigquery-create-model-job\n",
      "bq-hello-world-20220412072059\n",
      "{\"artifacts\": {\"model\": {\"artifacts\": [{\"metadata\": {\"projectId\": \"vertex-ai-dev\", \"datasetId\": \"bqml_tutorial\", \"modelId\": \"penguins_model\"}, \"name\": \"projects/931647533046/locations/us-central1/metadataStores/default/artifacts/17319436183208211809\", \"type\": {\"schemaTitle\": \"google.BQMLModel\"}, \"uri\": \"https://www.googleapis.com/bigquery/v2/projects/vertex-ai-dev/datasets/bqml_tutorial/models/penguins_model\"}]}}}\n",
      "\n",
      "\n",
      "bigquery-evaluate-model-job\n",
      "bq-hello-world-20220412072059\n",
      "{\"artifacts\": {\"evaluation_metrics\": {\"artifacts\": [{\"metadata\": {\"schema\": {\"fields\": [{\"name\": \"trial_id\", \"type\": \"INTEGER\", \"mode\": \"NULLABLE\"}, {\"name\": \"precision\", \"type\": \"FLOAT\", \"mode\": \"NULLABLE\"}, {\"name\": \"recall\", \"type\": \"FLOAT\", \"mode\": \"NULLABLE\"}, {\"name\": \"accuracy\", \"type\": \"FLOAT\", \"mode\": \"NULLABLE\"}, {\"name\": \"f1_score\", \"type\": \"FLOAT\", \"mode\": \"NULLABLE\"}, {\"name\": \"log_loss\", \"type\": \"FLOAT\", \"mode\": \"NULLABLE\"}, {\"name\": \"roc_auc\", \"type\": \"FLOAT\", \"mode\": \"NULLABLE\"}]}, \"rows\": [{\"f\": [{\"v\": \"1\"}, {\"v\": \"0.1652240968981426\"}, {\"v\": \"0.3721461187214612\"}, {\"v\": \"0.2544910179640718\"}, {\"v\": \"0.22065800402629762\"}, {\"v\": \"0.9859162393495398\"}, {\"v\": \"0.7061098901098901\"}]}, {\"f\": [{\"v\": \"2\"}, {\"v\": \"0.26675407925407923\"}, {\"v\": \"0.3949771689497717\"}, {\"v\": \"0.28443113772455086\"}, {\"v\": \"0.22084376880812318\"}, {\"v\": \"1.1048969276070961\"}, {\"v\": \"0.537021978021978\"}]}]}, \"name\": \"projects/931647533046/locations/us-central1/metadataStores/default/artifacts/6159463374717775743\", \"type\": {\"schemaTitle\": \"system.Artifact\"}, \"uri\": \"\"}]}}}\n",
      "\n",
      "\n",
      "bigquery-predict-model-job\n",
      "bq-hello-world-20220412072059\n",
      "{\"artifacts\": {\"destination_table\": {\"artifacts\": [{\"metadata\": {\"projectId\": \"vertex-ai-dev\", \"datasetId\": \"bqml_tutorial\", \"tableId\": \"results_1\"}, \"name\": \"projects/931647533046/locations/us-central1/metadataStores/default/artifacts/15916996981431302440\", \"type\": {\"schemaTitle\": \"google.BQTable\"}, \"uri\": \"https://www.googleapis.com/bigquery/v2/projects/vertex-ai-dev/datasets/bqml_tutorial/tables/results_1\"}]}}}\n",
      "\n",
      "\n",
      "bigquery-export-model-job\n",
      "bq-hello-world-20220412072059\n",
      "{\n",
      "  \"resources\": [\n",
      "    {\n",
      "      \"resourceType\": \"BigQueryJob\",\n",
      "      \"resourceUri\": \"https://www.googleapis.com/bigquery/v2/projects/vertex-ai-dev/jobs/job_RxSSFX_Q-hi-dn29ztyFs-DfQuk-?location=US\"\n",
      "    }\n",
      "  ]\n",
      "}\n",
      "\n",
      "\n",
      "model-upload\n",
      "bq-hello-world-20220412072059\n",
      "{\"artifacts\": {\"model\": {\"artifacts\": [{\"metadata\": {\"resourceName\": \"projects/931647533046/locations/us-central1/models/3025948358616285184\"}, \"name\": \"projects/931647533046/locations/us-central1/metadataStores/default/artifacts/15552844718938406960\", \"type\": {\"schemaTitle\": \"google.VertexModel\"}, \"uri\": \"https://us-central1-aiplatform.googleapis.com/v1/projects/931647533046/locations/us-central1/models/3025948358616285184\"}]}}}\n",
      "\n",
      "\n",
      "endpoint-create\n",
      "bq-hello-world-20220412072059\n",
      "{\"artifacts\": {\"endpoint\": {\"artifacts\": [{\"metadata\": {\"resourceName\": \"projects/931647533046/locations/us-central1/endpoints/2324816181862596608\"}, \"name\": \"projects/931647533046/locations/us-central1/metadataStores/default/artifacts/9813976958063264748\", \"type\": {\"schemaTitle\": \"google.VertexEndpoint\"}, \"uri\": \"https://us-central1-aiplatform.googleapis.com/v1/projects/931647533046/locations/us-central1/endpoints/2324816181862596608\"}]}}}\n",
      "\n",
      "\n",
      "\n",
      "\n",
      "projects/931647533046/locations/us-central1/endpoints/2324816181862596608\n",
      "\n",
      "\n",
      "model-deploy\n",
      "bq-hello-world-20220412072059\n",
      "{\n",
      "  \"resources\": [\n",
      "    {\n",
      "      \"resourceType\": \"VertexLro\",\n",
      "      \"resourceUri\": \"https://us-central1-aiplatform.googleapis.com/v1/projects/931647533046/locations/us-central1/endpoints/2324816181862596608/operations/5812804134201458688\"\n",
      "    }\n",
      "  ]\n",
      "}\n",
      "\n",
      "\n"
     ]
    }
   ],
   "source": [
    "PROJECT_NUMBER = pipeline.gca_resource.name.split(\"/\")[1]\n",
    "print(PROJECT_NUMBER)\n",
    "\n",
    "\n",
    "def print_pipeline_output(job, output_task_name):\n",
    "    JOB_ID = job.name\n",
    "    print(JOB_ID)\n",
    "    for _ in range(len(job.gca_resource.job_detail.task_details)):\n",
    "        TASK_ID = job.gca_resource.job_detail.task_details[_].task_id\n",
    "        EXECUTE_OUTPUT = (\n",
    "            PIPELINE_ROOT\n",
    "            + \"/\"\n",
    "            + PROJECT_NUMBER\n",
    "            + \"/\"\n",
    "            + JOB_ID\n",
    "            + \"/\"\n",
    "            + output_task_name\n",
    "            + \"_\"\n",
    "            + str(TASK_ID)\n",
    "            + \"/executor_output.json\"\n",
    "        )\n",
    "        GCP_RESOURCES = (\n",
    "            PIPELINE_ROOT\n",
    "            + \"/\"\n",
    "            + PROJECT_NUMBER\n",
    "            + \"/\"\n",
    "            + JOB_ID\n",
    "            + \"/\"\n",
    "            + output_task_name\n",
    "            + \"_\"\n",
    "            + str(TASK_ID)\n",
    "            + \"/gcp_resources\"\n",
    "        )\n",
    "        EVAL_METRICS = (\n",
    "            PIPELINE_ROOT\n",
    "            + \"/\"\n",
    "            + PROJECT_NUMBER\n",
    "            + \"/\"\n",
    "            + JOB_ID\n",
    "            + \"/\"\n",
    "            + output_task_name\n",
    "            + \"_\"\n",
    "            + str(TASK_ID)\n",
    "            + \"/evaluation_metrics\"\n",
    "        )\n",
    "        if tf.io.gfile.exists(EXECUTE_OUTPUT):\n",
    "            ! gsutil cat $EXECUTE_OUTPUT\n",
    "            return EXECUTE_OUTPUT\n",
    "        elif tf.io.gfile.exists(GCP_RESOURCES):\n",
    "            ! gsutil cat $GCP_RESOURCES\n",
    "            return GCP_RESOURCES\n",
    "        elif tf.io.gfile.exists(EVAL_METRICS):\n",
    "            ! gsutil cat $EVAL_METRICS\n",
    "            return EVAL_METRICS\n",
    "\n",
    "    return None\n",
    "\n",
    "\n",
    "print(\"bigquery-query-job\")\n",
    "artifacts = print_pipeline_output(pipeline, \"bigquery-query-job\")\n",
    "print(\"\\n\\n\")\n",
    "print(\"bigquery-create-model-job\")\n",
    "artifacts = print_pipeline_output(pipeline, \"bigquery-create-model-job\")\n",
    "print(\"\\n\\n\")\n",
    "print(\"bigquery-evaluate-model-job\")\n",
    "artifacts = print_pipeline_output(pipeline, \"bigquery-evaluate-model-job\")\n",
    "print(\"\\n\\n\")\n",
    "print(\"bigquery-predict-model-job\")\n",
    "artifacts = print_pipeline_output(pipeline, \"bigquery-predict-model-job\")\n",
    "print(\"\\n\\n\")\n",
    "print(\"bigquery-export-model-job\")\n",
    "artifacts = print_pipeline_output(pipeline, \"bigquery-export-model-job\")\n",
    "print(\"\\n\\n\")\n",
    "print(\"model-upload\")\n",
    "artifacts = print_pipeline_output(pipeline, \"model-upload\")\n",
    "output = !gsutil cat $artifacts\n",
    "output = json.loads(output[0])\n",
    "model_id = output[\"artifacts\"][\"model\"][\"artifacts\"][0][\"metadata\"][\"resourceName\"]\n",
    "print(\"\\n\\n\")\n",
    "print(\"endpoint-create\")\n",
    "artifacts = print_pipeline_output(pipeline, \"endpoint-create\")\n",
    "print(\"\\n\\n\")\n",
    "output = !gsutil cat $artifacts\n",
    "output = json.loads(output[0])\n",
    "endpoint_id = output[\"artifacts\"][\"endpoint\"][\"artifacts\"][0][\"metadata\"][\n",
    "    \"resourceName\"\n",
    "]\n",
    "print(\"\\n\")\n",
    "print(endpoint_id)\n",
    "print(\"\\n\")\n",
    "print(\"model-deploy\")\n",
    "artifacts = print_pipeline_output(pipeline, \"model-deploy\")\n",
    "print(\"\\n\\n\")"
   ]
  },
  {
   "cell_type": "markdown",
   "metadata": {
    "id": "delete_pipeline"
   },
   "source": [
    "### Delete a pipeline job\n",
    "\n",
    "After a pipeline job is completed, you can delete the pipeline job with the method `delete()`.  Prior to completion, a pipeline job can be canceled with the method `cancel()`."
   ]
  },
  {
   "cell_type": "code",
   "execution_count": 26,
   "metadata": {
    "colab": {
     "base_uri": "https://localhost:8080/"
    },
    "id": "1UTEiNi9J39s",
    "outputId": "e5fd1c72-9bed-47aa-a31e-84599ea74b29"
   },
   "outputs": [
    {
     "name": "stdout",
     "output_type": "stream",
     "text": [
      "Deleting PipelineJob : projects/931647533046/locations/us-central1/pipelineJobs/bq-hello-world-20220412072059\n",
      "Delete PipelineJob  backing LRO: projects/931647533046/locations/us-central1/operations/5071961995499012096\n",
      "PipelineJob deleted. . Resource name: projects/931647533046/locations/us-central1/pipelineJobs/bq-hello-world-20220412072059\n"
     ]
    }
   ],
   "source": [
    "pipeline.delete()"
   ]
  },
  {
   "cell_type": "markdown",
   "metadata": {
    "id": "endpoint_load:mbsdk"
   },
   "source": [
    "#### Load an endpoint\n",
    "\n",
    "The 'Endpoint' initializer will load an endpoint from an endpoint identifier."
   ]
  },
  {
   "cell_type": "code",
   "execution_count": 27,
   "metadata": {
    "id": "gPEt5GMAJ39s"
   },
   "outputs": [],
   "source": [
    "endpoint = aip.Endpoint(endpoint_id)"
   ]
  },
  {
   "cell_type": "markdown",
   "metadata": {
    "id": "make_test_items:bqml,penguins"
   },
   "source": [
    "#### Make prediction instances\n",
    "\n",
    "Next, you prepare a prediction request using a synthetic example. The format for making a prediction request to an export BigQuery ML model is dependent on the exported model format. In the case where `model_type=DNN_CLASSIFIER`, the exported model format is a TensorFlow estimator format. For this format, you use the `raw_predict()`, with the following request format:\n",
    "\n",
    "    http_body -> {\n",
    "        'signature_name' : serving_signature,\n",
    "        'instances': [ {instance_1}, {instance_2}, ... ]\n",
    "    }\n",
    "\n",
    "    instance -> { 'feature_1': value_1, 'feature_2': value_2, ... }\n",
    "\n",
    "    serving_signature -> \"predict\"\n",
    "\n",
    "Below is a partial list of mapping BigQuery ML model types to their corresponding exported model format:\n",
    "\n",
    "'LINEAR_REG'<br/>\n",
    "'LOGISTIC_REG' -> TensorFlow SavedFormat\n",
    "\n",
    "'AUTOML_CLASSIFIER'<br/>\n",
    "'AUTOML_REGRESSOR' -> TensorFlow SavedFormat\n",
    "\n",
    "'BOOSTED_TREE_CLASSIFIER'<br/>\n",
    "'BOOSTED_TREE_REGRESSOR' -> XGBoost format\n",
    "\n",
    "'DNN_CLASSIFIER'<br/>\n",
    "'DNN_REGRESSOR'<br/>\n",
    "'DNN_LINEAR_COMBINED_CLASSIFIER'<br/>\n",
    "'DNN_LINEAR_COMBINED_REGRESSOR' -> TensorFlow Estimator"
   ]
  },
  {
   "cell_type": "code",
   "execution_count": 28,
   "metadata": {
    "id": "sesK_MSdJ39t"
   },
   "outputs": [],
   "source": [
    "import json\n",
    "\n",
    "from google.api import httpbody_pb2\n",
    "from google.cloud import aiplatform_v1\n",
    "\n",
    "DATA = {\n",
    "    \"signature_name\": \"predict\",\n",
    "    \"instances\": [\n",
    "        {\n",
    "            \"island\": \"DREAM\",\n",
    "            \"culmen_length_mm\": 36.6,\n",
    "            \"culmen_depth_mm\": 18.4,\n",
    "            \"flipper_length_mm\": 184.0,\n",
    "            \"body_mass_g\": 3475.0,\n",
    "            \"sex\": \"FEMALE\",\n",
    "        }\n",
    "    ],\n",
    "}\n",
    "\n",
    "http_body = httpbody_pb2.HttpBody(\n",
    "    data=json.dumps(DATA).encode(\"utf-8\"),\n",
    "    content_type=\"application/json\",\n",
    ")\n",
    "\n",
    "req = aiplatform_v1.RawPredictRequest(http_body=http_body, endpoint=endpoint_id)"
   ]
  },
  {
   "cell_type": "markdown",
   "metadata": {
    "id": "endpoint_predict:mbsdk"
   },
   "source": [
    "### Make a prediction\n",
    "\n",
    "Finally, you make the prediction request using Vertex AI Prediction service."
   ]
  },
  {
   "cell_type": "code",
   "execution_count": 29,
   "metadata": {
    "colab": {
     "base_uri": "https://localhost:8080/"
    },
    "id": "u5_cgdKQJ39t",
    "outputId": "d9b47ba3-bc08-46b0-fd47-9a21b7005ce7"
   },
   "outputs": [
    {
     "name": "stdout",
     "output_type": "stream",
     "text": [
      "content_type: \"application/json\"\n",
      "data: \"{\\n    \\\"predictions\\\": [\\n        {\\n            \\\"all_class_ids\\\": [0, 1, 2],\\n            \\\"all_classes\\\": [\\\"Gentoo penguin (Pygoscelis papua)\\\", \\\"Chinstrap penguin (Pygoscelis antarctica)\\\", \\\"Adelie Penguin (Pygoscelis adeliae)\\\"],\\n            \\\"probabilities\\\": [0.337029785, 0.351744562, 0.311225623],\\n            \\\"logits\\\": [-0.217346966, -0.174613014, -0.29700008],\\n            \\\"class_ids\\\": [1],\\n            \\\"classes\\\": [\\\"Chinstrap penguin (Pygoscelis antarctica)\\\"]\\n        }\\n    ]\\n}\"\n",
      "extensions {\n",
      "  type_url: \"type.googleapis.com/google.rpc.context.HttpHeaderContext\"\n",
      "  value: \"\\030\\310\\001\"\n",
      "}\n",
      "\n"
     ]
    }
   ],
   "source": [
    "API_ENDPOINT = \"{}-aiplatform.googleapis.com\".format(REGION)\n",
    "client_options = {\"api_endpoint\": API_ENDPOINT}\n",
    "\n",
    "pred_client = aip.gapic.PredictionServiceClient(client_options=client_options)\n",
    "\n",
    "response = pred_client.raw_predict(req)\n",
    "print(response)"
   ]
  },
  {
   "cell_type": "markdown",
   "metadata": {
    "id": "delete:bqml,penguins"
   },
   "source": [
    "#### Delete the BigQuery model and dataset\n",
    "\n",
    "Next, delete the BigQuery model and dataset."
   ]
  },
  {
   "cell_type": "code",
   "execution_count": 32,
   "metadata": {
    "id": "W0rhdoHmJ39t"
   },
   "outputs": [],
   "source": [
    "try:\n",
    "    job = bqclient.delete_model(f\"{PROJECT_ID}.bqml_tutorial.penguins_model\")\n",
    "except:\n",
    "    pass\n",
    "job = bqclient.delete_dataset(f\"{PROJECT_ID}.bqml_tutorial\", delete_contents=True)"
   ]
  },
  {
   "cell_type": "markdown",
   "metadata": {
    "id": "e776f9a3bdc4"
   },
   "source": [
    "#### Delete the Vertex AI Model and Endpoint resources\n",
    "\n",
    "Next, undelpoy and delete the Vertex AI Model and Endpoint resources."
   ]
  },
  {
   "cell_type": "code",
   "execution_count": 33,
   "metadata": {
    "colab": {
     "base_uri": "https://localhost:8080/"
    },
    "id": "63462e0480f0",
    "outputId": "36ffb2dd-fa0f-4dc2-e0f9-bf708446095c"
   },
   "outputs": [
    {
     "name": "stdout",
     "output_type": "stream",
     "text": [
      "Undeploying Endpoint model: projects/931647533046/locations/us-central1/endpoints/2324816181862596608\n",
      "Undeploy Endpoint model backing LRO: projects/931647533046/locations/us-central1/endpoints/2324816181862596608/operations/843081945398116352\n",
      "Endpoint model undeployed. Resource name: projects/931647533046/locations/us-central1/endpoints/2324816181862596608\n",
      "Deleting Endpoint : projects/931647533046/locations/us-central1/endpoints/2324816181862596608\n",
      "Delete Endpoint  backing LRO: projects/931647533046/locations/us-central1/operations/8695107895718576128\n",
      "Endpoint deleted. . Resource name: projects/931647533046/locations/us-central1/endpoints/2324816181862596608\n",
      "Deleting Model : projects/931647533046/locations/us-central1/models/3025948358616285184\n",
      "Delete Model  backing LRO: projects/931647533046/locations/us-central1/operations/1097535324344549376\n",
      "Model deleted. . Resource name: projects/931647533046/locations/us-central1/models/3025948358616285184\n"
     ]
    }
   ],
   "source": [
    "endpoint.undeploy_all()\n",
    "endpoint.delete()\n",
    "\n",
    "model = aip.Model(model_id)\n",
    "model.delete()"
   ]
  },
  {
   "cell_type": "markdown",
   "metadata": {
    "id": "cleanup:mbsdk"
   },
   "source": [
    "# Cleaning up\n",
    "\n",
    "To clean up all Google Cloud resources used in this project, you can [delete the Google Cloud\n",
    "project](https://cloud.google.com/resource-manager/docs/creating-managing-projects#shutting_down_projects) you used for the tutorial.\n",
    "\n",
    "Otherwise, you can delete the individual resources you created in this tutorial:"
   ]
  },
  {
   "cell_type": "code",
   "execution_count": 34,
   "metadata": {
    "colab": {
     "base_uri": "https://localhost:8080/"
    },
    "id": "ufWUEbnZJ39u",
    "outputId": "7ba44368-e17b-4e6f-8fce-6bced83b6778"
   },
   "outputs": [
    {
     "name": "stdout",
     "output_type": "stream",
     "text": [
      "Removing gs://vertex-ai-devaip-20220412071950/bq_query/#1649748075617128...\n",
      "Removing gs://vertex-ai-devaip-20220412071950/bq_query/931647533046/#1649748076014230...\n",
      "Removing gs://vertex-ai-devaip-20220412071950/bq_query/931647533046/bq-hello-world-20220412072059/#1649748076516653...\n",
      "Removing gs://vertex-ai-devaip-20220412071950/bq_query/931647533046/bq-hello-world-20220412072059/bigquery-create-model-job_-2220110789061115904/#1649748144013225...\n",
      "/ [4 objects]                                                                   \n",
      "==> NOTE: You are performing a sequence of gsutil operations that may\n",
      "run significantly faster if you instead use gsutil -m rm ... Please\n",
      "see the -m section under \"gsutil help options\" for further information\n",
      "about when gsutil -m can be advantageous.\n",
      "\n",
      "Removing gs://vertex-ai-devaip-20220412071950/bq_query/931647533046/bq-hello-world-20220412072059/bigquery-create-model-job_-2220110789061115904/executor_output.json#1649749613667547...\n",
      "Removing gs://vertex-ai-devaip-20220412071950/bq_query/931647533046/bq-hello-world-20220412072059/bigquery-create-model-job_-2220110789061115904/gcp_resources#1649748144776765...\n",
      "Removing gs://vertex-ai-devaip-20220412071950/bq_query/931647533046/bq-hello-world-20220412072059/bigquery-evaluate-model-job_1238653724759425024/#1649749677914008...\n",
      "Removing gs://vertex-ai-devaip-20220412071950/bq_query/931647533046/bq-hello-world-20220412072059/bigquery-evaluate-model-job_1238653724759425024/executor_output.json#1649749699498853...\n",
      "Removing gs://vertex-ai-devaip-20220412071950/bq_query/931647533046/bq-hello-world-20220412072059/bigquery-evaluate-model-job_1238653724759425024/gcp_resources#1649749678763932...\n",
      "Removing gs://vertex-ai-devaip-20220412071950/bq_query/931647533046/bq-hello-world-20220412072059/bigquery-export-model-job_-7984718312095350784/#1649749673907879...\n",
      "Removing gs://vertex-ai-devaip-20220412071950/bq_query/931647533046/bq-hello-world-20220412072059/bigquery-export-model-job_-7984718312095350784/exported_model_path#1649749695579486...\n",
      "Removing gs://vertex-ai-devaip-20220412071950/bq_query/931647533046/bq-hello-world-20220412072059/bigquery-export-model-job_-7984718312095350784/gcp_resources#1649749675066115...\n",
      "Removing gs://vertex-ai-devaip-20220412071950/bq_query/931647533046/bq-hello-world-20220412072059/bigquery-predict-model-job_5850339743186812928/#1649749708215828...\n",
      "Removing gs://vertex-ai-devaip-20220412071950/bq_query/931647533046/bq-hello-world-20220412072059/bigquery-predict-model-job_5850339743186812928/executor_output.json#1649749729495021...\n",
      "Removing gs://vertex-ai-devaip-20220412071950/bq_query/931647533046/bq-hello-world-20220412072059/bigquery-predict-model-job_5850339743186812928/gcp_resources#1649749708972525...\n",
      "Removing gs://vertex-ai-devaip-20220412071950/bq_query/931647533046/bq-hello-world-20220412072059/bigquery-query-job_-3373032293667962880/#1649748077013265...\n",
      "Removing gs://vertex-ai-devaip-20220412071950/bq_query/931647533046/bq-hello-world-20220412072059/bigquery-query-job_-3373032293667962880/gcp_resources#1649748078211134...\n",
      "Removing gs://vertex-ai-devaip-20220412071950/bq_query/931647533046/bq-hello-world-20220412072059/endpoint-create_3544496733973118976/#1649749820415701...\n",
      "Removing gs://vertex-ai-devaip-20220412071950/bq_query/931647533046/bq-hello-world-20220412072059/endpoint-create_3544496733973118976/executor_output.json#1649749841657852...\n",
      "Removing gs://vertex-ai-devaip-20220412071950/bq_query/931647533046/bq-hello-world-20220412072059/endpoint-create_3544496733973118976/gcp_resources#1649749821074024...\n",
      "Removing gs://vertex-ai-devaip-20220412071950/bq_query/931647533046/bq-hello-world-20220412072059/model-deploy_8156182752400506880/#1649749893807000...\n",
      "Removing gs://vertex-ai-devaip-20220412071950/bq_query/931647533046/bq-hello-world-20220412072059/model-deploy_8156182752400506880/gcp_resources#1649749894386033...\n",
      "Removing gs://vertex-ai-devaip-20220412071950/bq_query/931647533046/bq-hello-world-20220412072059/model-upload_-1067189284454268928/#1649749748827843...\n",
      "Removing gs://vertex-ai-devaip-20220412071950/bq_query/931647533046/bq-hello-world-20220412072059/model-upload_-1067189284454268928/executor_output.json#1649749770047841...\n",
      "Removing gs://vertex-ai-devaip-20220412071950/bq_query/931647533046/bq-hello-world-20220412072059/model-upload_-1067189284454268928/gcp_resources#1649749749525024...\n",
      "Removing gs://vertex-ai-devaip-20220412071950/bqmodel/assets/island.csv#1649749675320214...\n",
      "Removing gs://vertex-ai-devaip-20220412071950/bqmodel/assets/sex.csv#1649749675444123...\n",
      "Removing gs://vertex-ai-devaip-20220412071950/bqmodel/checkpoint#1649749675585198...\n",
      "Removing gs://vertex-ai-devaip-20220412071950/bqmodel/explanation_metadata.json#1649749675719230...\n",
      "Removing gs://vertex-ai-devaip-20220412071950/bqmodel/graph.pbtxt#1649749675854103...\n",
      "Removing gs://vertex-ai-devaip-20220412071950/bqmodel/model.ckpt-200.data-00000-of-00002#1649749676026572...\n",
      "Removing gs://vertex-ai-devaip-20220412071950/bqmodel/model.ckpt-200.data-00001-of-00002#1649749676152814...\n",
      "Removing gs://vertex-ai-devaip-20220412071950/bqmodel/model.ckpt-200.index#1649749676272627...\n",
      "Removing gs://vertex-ai-devaip-20220412071950/bqmodel/model.ckpt-200.meta#1649749676402287...\n",
      "Removing gs://vertex-ai-devaip-20220412071950/bqmodel/saved_model.pb#1649749676617616...\n",
      "Removing gs://vertex-ai-devaip-20220412071950/bqmodel/variables/variables.data-00000-of-00002#1649749676772508...\n",
      "Removing gs://vertex-ai-devaip-20220412071950/bqmodel/variables/variables.data-00001-of-00002#1649749676927516...\n",
      "Removing gs://vertex-ai-devaip-20220412071950/bqmodel/variables/variables.index#1649749677034859...\n",
      "/ [38 objects]                                                                  \n",
      "==> NOTE: You are performing a sequence of gsutil operations that may\n",
      "run significantly faster if you instead use gsutil -m rm ... Please\n",
      "see the -m section under \"gsutil help options\" for further information\n",
      "about when gsutil -m can be advantageous.\n",
      "\n",
      "\n",
      "Operation completed over 38 objects.                                             \n",
      "Removing gs://vertex-ai-devaip-20220412071950/...\n"
     ]
    }
   ],
   "source": [
    "# Set this to true only if you'd like to delete your bucket\n",
    "delete_bucket = False\n",
    "\n",
    "if delete_bucket or os.getenv(\"IS_TESTING\"):\n",
    "    ! gsutil rm -r $BUCKET_URI"
   ]
  }
 ],
 "metadata": {
  "colab": {
   "name": "get_started_with_bqml_pipeline_components_(3).ipynb",
   "provenance": [],
   "toc_visible": true
  },
  "environment": {
   "kernel": "python3",
   "name": "common-cpu.m89",
   "type": "gcloud",
   "uri": "gcr.io/deeplearning-platform-release/base-cpu:m89"
  },
  "kernelspec": {
   "display_name": "Python 3",
   "language": "python",
   "name": "python3"
  },
  "language_info": {
   "codemirror_mode": {
    "name": "ipython",
    "version": 3
   },
   "file_extension": ".py",
   "mimetype": "text/x-python",
   "name": "python",
   "nbconvert_exporter": "python",
   "pygments_lexer": "ipython3",
   "version": "3.7.12"
  }
 },
 "nbformat": 4,
 "nbformat_minor": 4
}
