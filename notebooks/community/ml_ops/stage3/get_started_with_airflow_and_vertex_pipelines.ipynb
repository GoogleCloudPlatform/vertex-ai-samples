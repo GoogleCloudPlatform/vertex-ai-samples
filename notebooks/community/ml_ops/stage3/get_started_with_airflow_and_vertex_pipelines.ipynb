{
  "cells": [
    {
      "cell_type": "code",
      "execution_count": null,
      "metadata": {
        "id": "c3c5588a9686"
      },
      "outputs": [],
      "source": [
        "# Copyright 2022 Google LLC\n",
        "\n",
        "# Licensed under the Apache License, Version 2.0 (the \"License\");\n",
        "# you may not use this file except in compliance with the License.\n",
        "# You may obtain a copy of the License at\n",
        "\n",
        "#     https://www.apache.org/licenses/LICENSE-2.0\n",
        "\n",
        "# Unless required by applicable law or agreed to in writing, software\n",
        "# distributed under the License is distributed on an \"AS IS\" BASIS,\n",
        "# WITHOUT WARRANTIES OR CONDITIONS OF ANY KIND, either express or implied.\n",
        "# See the License for the specific language governing permissions and\n",
        "# limitations under the License."
      ]
    },
    {
      "cell_type": "markdown",
      "metadata": {
        "id": "95bd7ca5981f"
      },
      "source": [
        "# E2E ML on GCP: MLOps stage 3 : formalization: get started with Apache Airflow and Vertex AI Pipelines\n",
        "\n",
        "<table align=\"left\">\n",
        "  <td>\n",
        "    <a href=\"https://github.com/GoogleCloudPlatform/vertex-ai-samples/blob/main/notebooks/community/ml_ops/stage3/get_started_with_airflow_and_vertex_pipelines.ipynb\">\n",
        "      <img src=\"https://cloud.google.com/ml-engine/images/github-logo-32px.png\" alt=\"GitHub logo\">\n",
        "      View on GitHub\n",
        "    </a>\n",
        "  </td>\n",
        "    <td>\n",
        "        <a href=\"https://colab.research.google.com/github/GoogleCloudPlatform/vertex-ai-samples/blob/main/notebooks/community/ml_ops/stage3/get_started_with_airflow_and_vertex_pipelines.ipynb\">\n",
        "        <img src=\"https://cloud.google.com/ml-engine/images/colab-logo-32px.png\" alt=\"Colab logo\"> Run in Colab\n",
        "        </a>\n",
        "  </td>\n",
        "  <td>\n",
        "    <a href=\"https://console.cloud.google.com/vertex-ai/workbench/deploy-notebook?download_url=https://raw.githubusercontent.com/GoogleCloudPlatform/vertex-ai-samples/main/notebooks/community/ml_ops/stage3/get_started_with_airflow_and_vertex_pipelines.ipynb\">\n",
        "      <img src=\"https://lh3.googleusercontent.com/UiNooY4LUgW_oTvpsNhPpQzsstV5W8F7rYgxgGBD85cWJoLmrOzhVs_ksK_vgx40SHs7jCqkTkCk=e14-rj-sc0xffffff-h130-w32\" alt=\"Vertex AI logo\">\n",
        "      Open in Vertex AI Workbench\n",
        "    </a>\n",
        "  </td>\n",
        "</table>\n",
        "<br/><br/><br/>"
      ]
    },
    {
      "cell_type": "markdown",
      "metadata": {
        "id": "overview:mlops"
      },
      "source": [
        "## Overview\n",
        "\n",
        "This tutorial demonstrates how to use Vertex AI for E2E MLOps on Google Cloud in production. This tutorial covers stage 3 : formalization: get started with Apache Airflow and Vertex AI Pipelines."
      ]
    },
    {
      "cell_type": "markdown",
      "metadata": {
        "id": "objective:mlops,stage3,get_started_automl_pipeline_components"
      },
      "source": [
        "### Objective\n",
        "\n",
        "In this tutorial, you learn how to use Apache Airflow with `Vertex AI Pipelines`.\n",
        "\n",
        "This tutorial uses the following Google Cloud ML services:\n",
        "\n",
        "- `Vertex AI Pipelines`\n",
        "- `Vertex AI Dataset, Model and Endpoint` resources\n",
        "- `BigQuery`\n",
        "- `Cloud Composer`\n",
        "\n",
        "The steps performed include:\n",
        "\n",
        "- Create Cloud Composer environment.\n",
        "- Upload Airflow DAG to Composer environment that performs data processing -- i.e., creates a BigQuery table from a CSV file.\n",
        "- Create a `Vertex AI Pipeline` that triggers the Airflow DAG.\n",
        "- Execute the `Vertex AI Pipeline`."
      ]
    },
    {
      "cell_type": "markdown",
      "metadata": {
        "id": "dataset:flowers,icn"
      },
      "source": [
        "### Dataset\n",
        "\n",
        "The dataset used for this tutorial is [Condensed Game Data](gs://example-datasets/game_data_condensed.csv), which comes from the [Apache Beam examples](https://github.com/apache/beam/tree/master/sdks/python/apache_beam/examples/complete/game). The version used in this tutorial is stored in a Cloud Storage bucket."
      ]
    },
    {
      "cell_type": "markdown",
      "metadata": {
        "id": "b8a374d1a7dc"
      },
      "source": [
        "### Costs\n",
        "\n",
        "This tutorial uses billable components of Google Cloud:\n",
        "\n",
        "- Vertex AI\n",
        "- Cloud Storage\n",
        "- BigQuery\n",
        "\n",
        "Learn about [Vertex AI pricing](https://cloud.google.com/vertex-ai/pricing), [Cloud Storage pricing](https://cloud.google.com/storage/pricing) and [BigQuery pricing](https://cloud.google.com/bigquery/pricing) and use the [Pricing Calculator](https://cloud.google.com/products/calculator/) to generate a cost estimate based on your projected usage."
      ]
    },
    {
      "cell_type": "markdown",
      "metadata": {
        "id": "4bf2ca03fa3d"
      },
      "source": [
        "## Installations\n",
        "\n",
        "Install the following packages for executing this MLOps notebook."
      ]
    },
    {
      "cell_type": "code",
      "execution_count": null,
      "metadata": {
        "id": "bbb94748172c"
      },
      "outputs": [],
      "source": [
        "import os\n",
        "\n",
        "# The Vertex AI Workbench Notebook product has specific requirements\n",
        "IS_WORKBENCH_NOTEBOOK = os.getenv(\"DL_ANACONDA_HOME\") and not os.getenv(\"VIRTUAL_ENV\")\n",
        "IS_USER_MANAGED_WORKBENCH_NOTEBOOK = os.path.exists(\n",
        "    \"/opt/deeplearning/metadata/env_version\"\n",
        ")\n",
        "\n",
        "# Vertex AI Notebook requires dependencies to be installed with '--user'\n",
        "USER_FLAG = \"\"\n",
        "if IS_WORKBENCH_NOTEBOOK:\n",
        "    USER_FLAG = \"--user\"\n",
        "    \n",
        "! pip3 install {USER_FLAG} google-cloud-aiplatform==1.0.0 --upgrade -q\n",
        "! pip3 install {USER_FLAG} kfp google-cloud-pipeline-components==0.1.1 --upgrade -q\n",
        "! pip3 install {USER_FLAG} apache-airflow[celery]==2.3.2 --constraint \"https://raw.githubusercontent.com/apache/airflow/constraints-2.3.2/constraints-3.7.txt\" \\\n",
        "                           apache-airflow-providers-google --upgrade -q"
      ]
    },
    {
      "cell_type": "markdown",
      "metadata": {
        "id": "532481c02608"
      },
      "source": [
        "### Restart the kernel\n",
        "\n",
        "Once you've installed the additional packages, you need to restart the notebook kernel so that it can find the packages."
      ]
    },
    {
      "cell_type": "code",
      "execution_count": null,
      "metadata": {
        "id": "b2ceb94cf695"
      },
      "outputs": [],
      "source": [
        "import os\n",
        "\n",
        "if not os.getenv(\"IS_TESTING\"):\n",
        "    # Automatically restart kernel after installs\n",
        "    import IPython\n",
        "\n",
        "    app = IPython.Application.instance()\n",
        "    app.kernel.do_shutdown(True)"
      ]
    },
    {
      "cell_type": "markdown",
      "metadata": {
        "id": "ce9e86b26403"
      },
      "source": [
        "#### Check package versions\n",
        "\n",
        "Check that you have correctly installed the packages. The KFP SDK version should be >=1.6:"
      ]
    },
    {
      "cell_type": "code",
      "execution_count": null,
      "metadata": {
        "id": "3e87922f1080"
      },
      "outputs": [],
      "source": [
        "!python3 -c \"import kfp; print('KFP SDK version: {}'.format(kfp.__version__))\"\n",
        "!python3 -c \"import google_cloud_pipeline_components; print('google_cloud_pipeline_components version: {}'.format(google_cloud_pipeline_components.__version__))\""
      ]
    },
    {
      "cell_type": "markdown",
      "metadata": {
        "id": "BF1j6f9HApxa"
      },
      "source": [
        "## Before you begin\n",
        "\n",
        "### Set up your Google Cloud project\n",
        "\n",
        "**The following steps are required, regardless of your notebook environment.**\n",
        "\n",
        "1. [Select or create a Google Cloud project](https://console.cloud.google.com/cloud-resource-manager). When you first create an account, you get a $300 free credit towards your compute/storage costs.\n",
        "\n",
        "1. [Make sure that billing is enabled for your project](https://cloud.google.com/billing/docs/how-to/modify-project).\n",
        "\n",
        "1. [Enable the Vertex AI](https://console.cloud.google.com/flows/enableapi?apiid=aiplatform.googleapis.com) and [Composer API](https://console.cloud.google.com/flows/enableapi?apiid=composer.googleapis.com).\n",
        "\n",
        "1. If you are running this notebook locally, you need to install the [Cloud SDK](https://cloud.google.com/sdk).\n",
        "\n",
        "1. Enter your project ID in the cell below. Then run the cell to make sure the\n",
        "Cloud SDK uses the right project for all the commands in this notebook.\n",
        "\n",
        "**Note**: Jupyter runs lines prefixed with `!` as shell commands, and it interpolates Python variables prefixed with `$` into these commands."
      ]
    },
    {
      "cell_type": "markdown",
      "metadata": {
        "id": "project_id"
      },
      "source": [
        "#### Set your project ID\n",
        "\n",
        "**If you don't know your project ID**, you may be able to get your project ID using `gcloud`."
      ]
    },
    {
      "cell_type": "code",
      "execution_count": null,
      "metadata": {
        "id": "set_project_id"
      },
      "outputs": [],
      "source": [
        "PROJECT_ID = \"[your-project-id]\"  # @param {type:\"string\"}"
      ]
    },
    {
      "cell_type": "code",
      "execution_count": null,
      "metadata": {
        "id": "autoset_project_id"
      },
      "outputs": [],
      "source": [
        "if PROJECT_ID == \"\" or PROJECT_ID is None or PROJECT_ID == \"[your-project-id]\":\n",
        "    # Get your GCP project id from gcloud\n",
        "    shell_output = ! gcloud config list --format 'value(core.project)' 2>/dev/null\n",
        "    PROJECT_ID = shell_output[0]\n",
        "    print(\"Project ID:\", PROJECT_ID)"
      ]
    },
    {
      "cell_type": "code",
      "execution_count": null,
      "metadata": {
        "id": "set_gcloud_project_id"
      },
      "outputs": [],
      "source": [
        "! gcloud config set project $PROJECT_ID"
      ]
    },
    {
      "cell_type": "markdown",
      "metadata": {
        "id": "region"
      },
      "source": [
        "#### Region\n",
        "\n",
        "You can also change the `REGION` variable, which is used for operations\n",
        "throughout the rest of this notebook.  Below are regions supported for Vertex AI. We recommend that you choose the region closest to you.\n",
        "\n",
        "- Americas: `us-central1`\n",
        "- Europe: `europe-west4`\n",
        "- Asia Pacific: `asia-east1`\n",
        "\n",
        "You may not use a multi-regional bucket for training with Vertex AI. Not all regions provide support for all Vertex AI services.\n",
        "\n",
        "Learn more about [Vertex AI regions](https://cloud.google.com/vertex-ai/docs/general/locations)."
      ]
    },
    {
      "cell_type": "code",
      "execution_count": null,
      "metadata": {
        "id": "region"
      },
      "outputs": [],
      "source": [
        "REGION = \"[your-region]\"  # @param {type: \"string\"}\n",
        "\n",
        "if REGION == \"[your-region]\":\n",
        "    REGION = \"us-central1\""
      ]
    },
    {
      "cell_type": "markdown",
      "metadata": {
        "id": "timestamp"
      },
      "source": [
        "#### Timestamp\n",
        "\n",
        "If you are in a live tutorial session, you might be using a shared test account or project. To avoid name collisions between users on resources created, you create a timestamp for each instance session, and append the timestamp onto the name of resources you create in this tutorial."
      ]
    },
    {
      "cell_type": "code",
      "execution_count": null,
      "metadata": {
        "id": "timestamp"
      },
      "outputs": [],
      "source": [
        "from datetime import datetime\n",
        "\n",
        "TIMESTAMP = datetime.now().strftime(\"%Y%m%d%H%M%S\")"
      ]
    },
    {
      "cell_type": "markdown",
      "metadata": {
        "id": "c38be665ca50"
      },
      "source": [
        "### Authenticate your Google Cloud account\n",
        "\n",
        "**If you are using Vertex AI Notebook Notebooks**, your environment is already authenticated. Skip this step.\n",
        "\n",
        "**If you are using Colab**, run the cell below and follow the instructions when prompted to authenticate your account via oAuth.\n",
        "\n",
        "**Otherwise**, follow these steps:\n",
        "\n",
        "In the Cloud Console, go to the [Create service account key](https://console.cloud.google.com/apis/credentials/serviceaccountkey) page.\n",
        "\n",
        "1. **Click Create service account**.\n",
        "\n",
        "2. In the **Service account name** field, enter a name, and click **Create**.\n",
        "\n",
        "3. In the **Grant this service account access to project** section, click the Role drop-down list. Type \"Vertex\" into the filter box, and select **Vertex Administrator**. Type \"Storage Object Admin\" into the filter box, and select **Storage Object Admin**.\n",
        "\n",
        "4. Click Create. A JSON file that contains your key downloads to your local environment.\n",
        "\n",
        "5. Enter the path to your service account key as the GOOGLE_APPLICATION_CREDENTIALS variable in the cell below and run the cell."
      ]
    },
    {
      "cell_type": "code",
      "execution_count": null,
      "metadata": {
        "id": "e0953a00668e"
      },
      "outputs": [],
      "source": [
        "# If you are running this notebook in Colab, run this cell and follow the\n",
        "# instructions to authenticate your GCP account. This provides access to your\n",
        "# Cloud Storage bucket and lets you submit training jobs and prediction\n",
        "# requests.\n",
        "\n",
        "import os\n",
        "import sys\n",
        "\n",
        "# If on Vertex AI Workbench, then don't execute this code\n",
        "IS_COLAB = \"google.colab\" in sys.modules\n",
        "if not os.path.exists(\"/opt/deeplearning/metadata/env_version\") and not os.getenv(\n",
        "    \"DL_ANACONDA_HOME\"\n",
        "):\n",
        "    if \"google.colab\" in sys.modules:\n",
        "        from google.colab import auth as google_auth\n",
        "\n",
        "        google_auth.authenticate_user()\n",
        "\n",
        "    # If you are running this notebook locally, replace the string below with the\n",
        "    # path to your service account key and run this cell to authenticate your GCP\n",
        "    # account.\n",
        "    elif not os.getenv(\"IS_TESTING\"):\n",
        "        %env GOOGLE_APPLICATION_CREDENTIALS ''"
      ]
    },
    {
      "cell_type": "markdown",
      "metadata": {
        "id": "bucket:mbsdk"
      },
      "source": [
        "### Create a Cloud Storage bucket\n",
        "\n",
        "**The following steps are required, regardless of your notebook environment.**\n",
        "\n",
        "When you initialize the Vertex AI SDK for Python, you specify a Cloud Storage staging bucket. The staging bucket is where all the data associated with your dataset and model resources are retained across sessions.\n",
        "\n",
        "Set the name of your Cloud Storage bucket below. Bucket names must be globally unique across all Google Cloud projects, including those outside of your organization."
      ]
    },
    {
      "cell_type": "code",
      "execution_count": null,
      "metadata": {
        "id": "bucket"
      },
      "outputs": [],
      "source": [
        "BUCKET_NAME = \"[your-bucket-name]\"  # @param {type:\"string\"}\n",
        "BUCKET_URI = f\"gs://{BUCKET_NAME}\""
      ]
    },
    {
      "cell_type": "code",
      "execution_count": null,
      "metadata": {
        "id": "autoset_bucket"
      },
      "outputs": [],
      "source": [
        "if BUCKET_NAME == \"\" or BUCKET_NAME is None or BUCKET_NAME == \"[your-bucket-name]\":\n",
        "    BUCKET_NAME = PROJECT_ID + \"aip-\" + TIMESTAMP\n",
        "    BUCKET_URI = f\"gs://{BUCKET_NAME}\""
      ]
    },
    {
      "cell_type": "markdown",
      "metadata": {
        "id": "create_bucket"
      },
      "source": [
        "**Only if your bucket doesn't already exist**: Run the following cell to create your Cloud Storage bucket."
      ]
    },
    {
      "cell_type": "code",
      "execution_count": null,
      "metadata": {
        "id": "create_bucket"
      },
      "outputs": [],
      "source": [
        "! gsutil mb -l $REGION $BUCKET_URI"
      ]
    },
    {
      "cell_type": "markdown",
      "metadata": {
        "id": "validate_bucket"
      },
      "source": [
        "Finally, validate access to your Cloud Storage bucket by examining its contents:"
      ]
    },
    {
      "cell_type": "code",
      "execution_count": null,
      "metadata": {
        "id": "validate_bucket"
      },
      "outputs": [],
      "source": [
        "! gsutil ls -al $BUCKET_URI"
      ]
    },
    {
      "cell_type": "markdown",
      "metadata": {
        "id": "set_service_account"
      },
      "source": [
        "#### Service Account\n",
        "\n",
        "You use a service account to create Vertex AI Pipeline jobs. If you do not want to use your project's Compute Engine service account, set `SERVICE_ACCOUNT` to another service account ID."
      ]
    },
    {
      "cell_type": "code",
      "execution_count": null,
      "metadata": {
        "id": "set_service_account"
      },
      "outputs": [],
      "source": [
        "SERVICE_ACCOUNT = \"[your-service-account]\"  # @param {type:\"string\"}"
      ]
    },
    {
      "cell_type": "code",
      "execution_count": null,
      "metadata": {
        "id": "autoset_service_account"
      },
      "outputs": [],
      "source": [
        "if (\n",
        "    SERVICE_ACCOUNT == \"\"\n",
        "    or SERVICE_ACCOUNT is None\n",
        "    or SERVICE_ACCOUNT == \"[your-service-account]\"\n",
        "):\n",
        "    # Get your service account from gcloud\n",
        "    if not IS_COLAB:\n",
        "        shell_output = !gcloud auth list 2>/dev/null\n",
        "        SERVICE_ACCOUNT = shell_output[2].replace(\"*\", \"\").strip()\n",
        "\n",
        "    if IS_COLAB:\n",
        "        shell_output = ! gcloud projects describe  $PROJECT_ID\n",
        "        project_number = shell_output[-1].split(\":\")[1].strip().replace(\"'\", \"\")\n",
        "        SERVICE_ACCOUNT = f\"{project_number}-compute@developer.gserviceaccount.com\"\n",
        "\n",
        "    print(\"Service Account:\", SERVICE_ACCOUNT)"
      ]
    },
    {
      "cell_type": "markdown",
      "metadata": {
        "id": "set_service_account:pipelines"
      },
      "source": [
        "#### Set service account access for Vertex AI Pipelines\n",
        "\n",
        "Run the following commands to grant your service account access to read and write pipeline artifacts in the bucket that you created in the previous step. You only need to run this step once per service account."
      ]
    },
    {
      "cell_type": "code",
      "execution_count": null,
      "metadata": {
        "id": "set_service_account:pipelines"
      },
      "outputs": [],
      "source": [
        "! gsutil iam ch serviceAccount:{SERVICE_ACCOUNT}:roles/storage.objectCreator $BUCKET_URI\n",
        "\n",
        "! gsutil iam ch serviceAccount:{SERVICE_ACCOUNT}:roles/storage.objectViewer $BUCKET_URI"
      ]
    },
    {
      "cell_type": "markdown",
      "metadata": {
        "id": "setup_vars"
      },
      "source": [
        "### Import libraries"
      ]
    },
    {
      "cell_type": "code",
      "execution_count": null,
      "metadata": {
        "id": "d9c386968995"
      },
      "outputs": [],
      "source": [
        "from google.cloud import aiplatform\n",
        "from kfp import dsl\n",
        "from kfp.v2 import compiler\n",
        "from kfp.v2.dsl import Artifact, Output, component"
      ]
    },
    {
      "cell_type": "markdown",
      "metadata": {
        "id": "init_aip:mbsdk,all"
      },
      "source": [
        "### Initialize Vertex AI SDK for Python\n",
        "\n",
        "Initialize the Vertex AI SDK for Python for your project and corresponding bucket."
      ]
    },
    {
      "cell_type": "code",
      "execution_count": null,
      "metadata": {
        "id": "init_aip:mbsdk,all"
      },
      "outputs": [],
      "source": [
        "aiplatform.init(project=PROJECT_ID, location=REGION, staging_bucket=BUCKET_URI)"
      ]
    },
    {
      "cell_type": "markdown",
      "metadata": {
        "id": "2c8a4205e5fd"
      },
      "source": [
        "## Introduction: Trigger Airflow DAG in Cloud Composer from a Vertex AI Pipeline\n",
        "\n",
        "Apache Airflow is a popular choice for data pipelining in general. However, arguably not a good choice to run Machine learning pipelines due to lack of ML metadata tracking, artifact lineage, tracking ML metrics across metrics etc. [Vertex AI Pipelines](https://cloud.google.com/vertex-ai/docs/pipelines/introduction) solves this problem and automates, monitors, and governs your ML systems by orchestrating your ML workflow in a serverless manner, and storing your workflow's artifacts using Vertex ML Metadata.\n",
        "\n",
        "`Cloud Composer` is fully managed workflow orchestration service built on Apache Airflow.\n",
        "\n",
        "Learn more about [Cloud Composer](https://cloud.google.com/composer).\n",
        "\n",
        "In this tutorial, we will show you how you can trigger a data pipeline i.e. Airflow DAG on Cloud Composer from a ML pipeline running on Vertex AI Pipelines.\n",
        "\n",
        "![Trigger Airflow DAG on Cloud Composer from Vertex Pipeline](images/trigger-airflow-dag-on-cloud-composer-from-vertex-pipeline.png)"
      ]
    },
    {
      "cell_type": "markdown",
      "metadata": {
        "id": "652515a5c33b"
      },
      "source": [
        "### Create Cloud Composer Environment\n",
        "\n",
        "In this tutorial, you create a bare minimum `Cloud Composer` environment. \n",
        "\n",
        "To trigger an Airflow DAG from `Vertex Pipeline`, we will using Airflow web server REST API. By default, the API authentication feature is disabled in Airflow 1.10.11 and above which would deny all requests made to Airflow web server. To trigger DAG, you enable this feature. To enable the API authentication feature you override `auth_backend` configuration in `Cloud Composer` environment to `airflow.api.auth.backend.default`.\n",
        "\n",
        "**NOTE:** Cloud Composer environment creation may take up to 30 min. Grab your favorite beverage until then.\n",
        "\n",
        "Learn more about [Creating Cloud Composer environment](https://cloud.google.com/composer/docs/how-to/managing/creating#)."
      ]
    },
    {
      "cell_type": "code",
      "execution_count": null,
      "metadata": {
        "id": "40a45f98c80c"
      },
      "outputs": [],
      "source": [
        "COMPOSER_ENV_NAME = \"test-composer-env\"\n",
        "ZONE = f\"{REGION}-f\"\n",
        "MACHINE_TYPE = \"n1-standard-2\"\n",
        "\n",
        "! gcloud beta composer environments create $COMPOSER_ENV_NAME \\\n",
        "    --location $REGION \\\n",
        "    --zone $ZONE \\\n",
        "    --machine-type $MACHINE_TYPE \\\n",
        "    --image-version composer-latest-airflow-1.10.15 \\\n",
        "    --airflow-configs=api-auth_backend=airflow.api.auth.backend.default"
      ]
    },
    {
      "cell_type": "markdown",
      "metadata": {
        "id": "554546995234"
      },
      "source": [
        "### Get Composer Environment configuration\n",
        "\n",
        "You get the Composer environment configuration such as webserver URL and client ID to use in the Vertex AI Pipeline using the script `get_composer_client_id.py`"
      ]
    },
    {
      "cell_type": "code",
      "execution_count": null,
      "metadata": {
        "id": "c66fdc4d5f97"
      },
      "outputs": [],
      "source": [
        "%%writefile get_composer_config.py\n",
        "# Copyright 2018 Google LLC\n",
        "#\n",
        "# Licensed under the Apache License, Version 2.0 (the \"License\");\n",
        "# you may not use this file except in compliance with the License.\n",
        "# You may obtain a copy of the License at\n",
        "#\n",
        "#     https://www.apache.org/licenses/LICENSE-2.0\n",
        "#\n",
        "# Unless required by applicable law or agreed to in writing, software\n",
        "# distributed under the License is distributed on an \"AS IS\" BASIS,\n",
        "# WITHOUT WARRANTIES OR CONDITIONS OF ANY KIND, either express or implied.\n",
        "# See the License for the specific language governing permissions and\n",
        "# limitations under the License.\n",
        "\n",
        "\"\"\"Get the client ID associated with a Cloud Composer environment.\"\"\"\n",
        "\n",
        "import argparse\n",
        "\n",
        "\n",
        "def get_client_id(project_id, location, composer_environment):\n",
        "    # [START composer_get_environment_client_id]\n",
        "    import google.auth\n",
        "    import google.auth.transport.requests\n",
        "    import requests\n",
        "    import six.moves.urllib.parse\n",
        "\n",
        "    # Authenticate with Google Cloud.\n",
        "    # See: https://cloud.google.com/docs/authentication/getting-started\n",
        "    credentials, _ = google.auth.default(\n",
        "        scopes=['https://www.googleapis.com/auth/cloud-platform'])\n",
        "    authed_session = google.auth.transport.requests.AuthorizedSession(\n",
        "        credentials)\n",
        "\n",
        "    # project_id = 'YOUR_PROJECT_ID'\n",
        "    # location = 'us-central1'\n",
        "    # composer_environment = 'YOUR_COMPOSER_ENVIRONMENT_NAME'\n",
        "\n",
        "    environment_url = (\n",
        "        'https://composer.googleapis.com/v1beta1/projects/{}/locations/{}'\n",
        "        '/environments/{}').format(project_id, location, composer_environment)\n",
        "    composer_response = authed_session.request('GET', environment_url)\n",
        "    environment_data = composer_response.json()\n",
        "    airflow_uri = environment_data['config']['airflowUri']\n",
        "    print(airflow_uri)\n",
        "    dag_gcs_prefix = environment_data['config']['dagGcsPrefix']\n",
        "    print(dag_gcs_prefix)\n",
        "\n",
        "    # The Composer environment response does not include the IAP client ID.\n",
        "    # Make a second, unauthenticated HTTP request to the web server to get the\n",
        "    # redirect URI.\n",
        "    redirect_response = requests.get(airflow_uri, allow_redirects=False)\n",
        "    redirect_location = redirect_response.headers['location']\n",
        "\n",
        "    # Extract the client_id query parameter from the redirect.\n",
        "    parsed = six.moves.urllib.parse.urlparse(redirect_location)\n",
        "    query_string = six.moves.urllib.parse.parse_qs(parsed.query)\n",
        "    print(query_string['client_id'][0])\n",
        "    # [END composer_get_environment_client_id]\n",
        "\n",
        "\n",
        "# Usage: python get_client_id.py your_project_id your_region your_environment_name\n",
        "if __name__ == '__main__':\n",
        "    parser = argparse.ArgumentParser(\n",
        "        description=__doc__,\n",
        "        formatter_class=argparse.RawDescriptionHelpFormatter)\n",
        "    parser.add_argument('project_id', help='Your Project ID.')\n",
        "    parser.add_argument(\n",
        "        'location', help='Region of the Cloud Composer environment.')\n",
        "    parser.add_argument(\n",
        "        'composer_environment', help='Name of the Cloud Composer environment.')\n",
        "\n",
        "    args = parser.parse_args()\n",
        "    get_client_id(\n",
        "        args.project_id, args.location, args.composer_environment)\n"
      ]
    },
    {
      "cell_type": "code",
      "execution_count": null,
      "metadata": {
        "id": "996b1072e838"
      },
      "outputs": [],
      "source": [
        "# This code is modified version of https://github.com/GoogleCloudPlatform/python-docs-samples/blob/master/composer/rest/get_client_id.py\n",
        "\n",
        "shell_output = ! python3 get_composer_config.py $PROJECT_ID $REGION $COMPOSER_ENV_NAME\n",
        "COMPOSER_WEB_URI = shell_output[0]\n",
        "COMPOSER_DAG_GCS = shell_output[1]\n",
        "COMPOSER_CLIENT_ID = shell_output[2]\n",
        "\n",
        "print(f\"COMPOSER_WEB_URI = {COMPOSER_WEB_URI}\")\n",
        "print(f\"COMPOSER_DAG_GCS = {COMPOSER_DAG_GCS}\")\n",
        "print(f\"COMPOSER_CLIENT_ID = {COMPOSER_CLIENT_ID}\")"
      ]
    },
    {
      "cell_type": "markdown",
      "metadata": {
        "id": "334a81c308d9"
      },
      "source": [
        "### Display the Airflow webserver UI\n",
        "\n",
        "You can navigate to Airflow webserver by going to this URL."
      ]
    },
    {
      "cell_type": "code",
      "execution_count": null,
      "metadata": {
        "id": "6041e4146cc6"
      },
      "outputs": [],
      "source": [
        "COMPOSER_WEB_URI"
      ]
    },
    {
      "cell_type": "markdown",
      "metadata": {
        "id": "44c3b5b78dd3"
      },
      "source": [
        "## Upload DAG to Cloud Composer environment\n",
        "\n",
        "You have a sample data processing DAG `data_orchestration_bq_example_dag.py` that reads a CSV file from GCS bucket and writes to BigQuery. We will add this file to the GCS bucket configure for the Composer environment that Airflow watches."
      ]
    },
    {
      "cell_type": "code",
      "execution_count": null,
      "metadata": {
        "id": "7e3c953a0396"
      },
      "outputs": [],
      "source": [
        "COMPOSER_DAG_NAME = \"dag_gcs_to_bq_orch\"\n",
        "COMPOSER_DAG_FILENAME = \"data_orchestration_bq_example_dag.py\""
      ]
    },
    {
      "cell_type": "code",
      "execution_count": null,
      "metadata": {
        "id": "77082f737e65"
      },
      "outputs": [],
      "source": [
        "%%writefile $COMPOSER_DAG_FILENAME\n",
        "\n",
        "\"\"\"An example Composer workflow integrating GCS and BigQuery.\n",
        "\n",
        "A CSV is read from a GCS bucket to a BigQuery table; a query is made, and the\n",
        "result is written back to a different BigQuery table within a new dataset.\n",
        "\"\"\"\n",
        "\n",
        "from datetime import datetime, timedelta\n",
        "from airflow import DAG\n",
        "from airflow.contrib.operators.bigquery_operator import BigQueryOperator\n",
        "from airflow.contrib.operators.gcs_to_bq import GoogleCloudStorageToBigQueryOperator\n",
        "from airflow.operators.bash_operator import BashOperator\n",
        "\n",
        "YESTERDAY = datetime.combine(\n",
        "    datetime.today() - timedelta(days=1), datetime.min.time())\n",
        "BQ_DATASET_NAME = 'bq_demos'\n",
        "\n",
        "default_args = {\n",
        "    'owner': 'airflow',\n",
        "    'depends_on_past': False,\n",
        "    'start_date': YESTERDAY,\n",
        "    'email_on_failure': False,\n",
        "    'email_on_retry': False,\n",
        "    'retries': 1,\n",
        "    'retry_delay': timedelta(minutes=5),\n",
        "}\n",
        "\n",
        "# Solution: pass a schedule_interval argument to DAG instantiation.\n",
        "with DAG('dag_gcs_to_bq_orch', default_args=default_args,\n",
        "         schedule_interval=None) as dag:\n",
        "  create_bq_dataset_if_not_exist = \"\"\"\n",
        "    bq ls {0}\n",
        "    if [ $? -ne 0 ]; then\n",
        "      bq mk {0}\n",
        "    fi\n",
        "  \"\"\".format(BQ_DATASET_NAME)\n",
        "\n",
        "  # Create destination dataset.\n",
        "  t1 = BashOperator(\n",
        "      task_id='create_destination_dataset',\n",
        "      bash_command=create_bq_dataset_if_not_exist,\n",
        "      dag=dag)\n",
        "\n",
        "  # Create a bigquery table from a CSV file located in a GCS bucket\n",
        "  # (gs://example-datasets/game_data_condensed.csv).\n",
        "  # Store it in our dataset.\n",
        "  t2 = GoogleCloudStorageToBigQueryOperator(\n",
        "      task_id='gcs_to_bq',\n",
        "      bucket='example-datasets',\n",
        "      source_objects=['game_data_condensed.csv'],\n",
        "      destination_project_dataset_table='{0}.composer_game_data_table'\n",
        "      .format(BQ_DATASET_NAME),\n",
        "      schema_fields=[\n",
        "          {'name': 'name', 'type': 'string', 'mode': 'nullable'},\n",
        "          {'name': 'team', 'type': 'string', 'mode': 'nullable'},\n",
        "          {'name': 'total_score', 'type': 'integer', 'mode': 'nullable'},\n",
        "          {'name': 'timestamp', 'type': 'integer', 'mode': 'nullable'},\n",
        "          {'name': 'window_start', 'type': 'string', 'mode': 'nullable'},\n",
        "      ],\n",
        "      write_disposition='WRITE_TRUNCATE')\n",
        "\n",
        "  # Run example query (http://shortn/_BdF1UTEYOb) and save result to the\n",
        "  # destination table.\n",
        "  t3 = BigQueryOperator(\n",
        "      task_id='bq_example_query',\n",
        "      bql=f\"\"\"\n",
        "        SELECT\n",
        "          name, team, total_score\n",
        "        FROM\n",
        "          {BQ_DATASET_NAME}.composer_game_data_table\n",
        "        WHERE total_score > 15\n",
        "        LIMIT 100;\n",
        "      \"\"\",\n",
        "      destination_dataset_table='{0}.gcp_example_query_result'\n",
        "      .format(BQ_DATASET_NAME),\n",
        "      write_disposition='WRITE_TRUNCATE')\n",
        "\n",
        "  t1 >> t2 >> t3"
      ]
    },
    {
      "cell_type": "code",
      "execution_count": null,
      "metadata": {
        "id": "9a46a3f2e783"
      },
      "outputs": [],
      "source": [
        "!gsutil cp $COMPOSER_DAG_FILENAME $COMPOSER_DAG_GCS/"
      ]
    },
    {
      "cell_type": "code",
      "execution_count": null,
      "metadata": {
        "id": "ed4338152de7"
      },
      "outputs": [],
      "source": [
        "!gsutil ls -l $COMPOSER_DAG_GCS/$COMPOSER_DAG_FILENAME"
      ]
    },
    {
      "cell_type": "markdown",
      "metadata": {
        "id": "dd8fd29cba86"
      },
      "source": [
        "### View the DAG in the Composer UI\n",
        "\n",
        "You should see the DAG in your Airflow webserver -- specified by `COMPOSER_WEB_URI`.\n",
        "\n",
        "*Note:* There may be a momentary delay before your DAG is loaded and appears in the UI.\n",
        "\n",
        "![](images/airflow_webserver_with_dag.png)\n",
        "\n",
        "![](images/airflow_dag.png)"
      ]
    },
    {
      "cell_type": "code",
      "execution_count": null,
      "metadata": {
        "id": "350691729e3f"
      },
      "outputs": [],
      "source": [
        "# view Composer UI at this URL\n",
        "COMPOSER_WEB_URI"
      ]
    },
    {
      "cell_type": "markdown",
      "metadata": {
        "id": "68dca134aa13"
      },
      "source": [
        "### Create a Python function based component to trigger Airflow DAG\n",
        "\n",
        "Using the KFP SDK, you can create components based on Python functions. The component takes an Airflow DAG name `dag_name` a string as input and returns response from Airflow web server as an `Artifact` that contains Airflow DAG run information. The component makes a request to Airflow REST API of your Cloud Composer environment. Airflow processes this request and runs a DAG. The DAG outputs information about the change that is logged as artifact.\n",
        "\n",
        "Understanding the component structure:\n",
        "\n",
        "- The **`@component`** decorator compiles this function to a component when the pipeline is run. You'll use this anytime you write a custom component.\n",
        "- The **`base_image parameter`** specifies the container image this component will use.\n",
        "- The **`output_component_file`** parameter is optional, and specifies the yaml file to write the compiled component to.\n",
        "- The **`packages_to_install`** parameter installs required python packages in the container to run the component"
      ]
    },
    {
      "cell_type": "code",
      "execution_count": null,
      "metadata": {
        "id": "d4903bac0508"
      },
      "outputs": [],
      "source": [
        "@component(\n",
        "    base_image=\"gcr.io/ml-pipeline/google-cloud-pipeline-components:0.1.3\",\n",
        "    output_component_file=\"composer-trigger-dag-component.yaml\",\n",
        "    packages_to_install=[\"requests\"],\n",
        ")\n",
        "def trigger_airflow_dag(\n",
        "    dag_name: str,\n",
        "    composer_client_id: str,\n",
        "    composer_webserver_id: str,\n",
        "    response: Output[Artifact],\n",
        "):\n",
        "    # [START composer_trigger]\n",
        "\n",
        "    import json\n",
        "    import os\n",
        "\n",
        "    import requests\n",
        "    from google.auth.transport.requests import Request\n",
        "    from google.oauth2 import id_token\n",
        "\n",
        "    data = '{\"replace_microseconds\":\"false\"}'\n",
        "\n",
        "    \"\"\"Makes a POST request to the Composer DAG Trigger API\n",
        "\n",
        "    When called via Google Cloud Functions (GCF),\n",
        "    data and context are Background function parameters.\n",
        "\n",
        "    For more info, refer to\n",
        "    https://cloud.google.com/functions/docs/writing/background#functions_background_parameters-python\n",
        "\n",
        "    To call this function from a Python script, omit the ``context`` argument\n",
        "    and pass in a non-null value for the ``data`` argument.\n",
        "    \"\"\"\n",
        "\n",
        "    # Form webserver URL to make REST API calls\n",
        "    webserver_url = f\"{composer_webserver_id}/api/experimental/dags/{dag_name}/dag_runs\"\n",
        "    # print(webserver_url)\n",
        "\n",
        "    # This code is copied from\n",
        "    # https://github.com/GoogleCloudPlatform/python-docs-samples/blob/master/iap/make_iap_request.py\n",
        "    # START COPIED IAP CODE\n",
        "    def make_iap_request(url, client_id, method=\"GET\", **kwargs):\n",
        "        \"\"\"Makes a request to an application protected by Identity-Aware Proxy.\n",
        "        Args:\n",
        "          url: The Identity-Aware Proxy-protected URL to fetch.\n",
        "          client_id: The client ID used by Identity-Aware Proxy.\n",
        "          method: The request method to use\n",
        "                  ('GET', 'OPTIONS', 'HEAD', 'POST', 'PUT', 'PATCH', 'DELETE')\n",
        "          **kwargs: Any of the parameters defined for the request function:\n",
        "                    https://github.com/requests/requests/blob/master/requests/api.py\n",
        "                    If no timeout is provided, it is set to 90 by default.\n",
        "        Returns:\n",
        "          The page body, or raises an exception if the page couldn't be retrieved.\n",
        "        \"\"\"\n",
        "        # Set the default timeout, if missing\n",
        "        if \"timeout\" not in kwargs:\n",
        "            kwargs[\"timeout\"] = 90\n",
        "\n",
        "        # Obtain an OpenID Connect (OIDC) token from metadata server or using service\n",
        "        # account.\n",
        "        google_open_id_connect_token = id_token.fetch_id_token(Request(), client_id)\n",
        "\n",
        "        # Fetch the Identity-Aware Proxy-protected URL, including an\n",
        "        # Authorization header containing \"Bearer \" followed by a\n",
        "        # Google-issued OpenID Connect token for the service account.\n",
        "        resp = requests.request(\n",
        "            method,\n",
        "            url,\n",
        "            headers={\"Authorization\": \"Bearer {}\".format(google_open_id_connect_token)},\n",
        "            **kwargs,\n",
        "        )\n",
        "        if resp.status_code == 403:\n",
        "            raise Exception(\n",
        "                \"Service account does not have permission to \"\n",
        "                \"access the IAP-protected application.\"\n",
        "            )\n",
        "        elif resp.status_code != 200:\n",
        "            raise Exception(\n",
        "                \"Bad response from application: {!r} / {!r} / {!r}\".format(\n",
        "                    resp.status_code, resp.headers, resp.text\n",
        "                )\n",
        "            )\n",
        "        else:\n",
        "            print(f\"response = {resp.text}\")\n",
        "            # not executed when testing locally\n",
        "            if response:\n",
        "                file_path = os.path.join(response.path)\n",
        "                os.makedirs(file_path)\n",
        "                with open(os.path.join(file_path, \"airflow_response.json\"), \"w\") as f:\n",
        "                    json.dump(resp.text, f)\n",
        "\n",
        "    # END COPIED IAP CODE\n",
        "\n",
        "    # Make a POST request to IAP which then Triggers the DAG\n",
        "    make_iap_request(\n",
        "        webserver_url,\n",
        "        composer_client_id,\n",
        "        method=\"POST\",\n",
        "        json={\"conf\": data, \"replace_microseconds\": \"false\"},\n",
        "    )\n",
        "\n",
        "    # [END composer_trigger]"
      ]
    },
    {
      "cell_type": "markdown",
      "metadata": {
        "id": "ce46cfcf091b"
      },
      "source": [
        "### Test Triggering Airflow DAG from Notebook\n",
        "\n",
        "Next, you can optionally test your component locally. To do so, before running comment out @component decorator from the above definition of `trigger_airflow_dag`.\n",
        "\n",
        "Afterwards, you will need to add the @component decorator back to be used as a pipeline component."
      ]
    },
    {
      "cell_type": "code",
      "execution_count": null,
      "metadata": {
        "id": "69cb0c6e2bcd"
      },
      "outputs": [],
      "source": [
        "try:\n",
        "    trigger_airflow_dag(\n",
        "        dag_name=COMPOSER_DAG_NAME,\n",
        "        composer_client_id=COMPOSER_CLIENT_ID,\n",
        "        composer_webserver_id=COMPOSER_WEB_URI,\n",
        "        response=None,\n",
        "    )\n",
        "except Exception as e:\n",
        "    print(e)"
      ]
    },
    {
      "cell_type": "markdown",
      "metadata": {
        "id": "5eca65d5c54d"
      },
      "source": [
        "### Create a pipeline with the component\n",
        "\n",
        "Next, you create a pipeline definition for executing your custom Airflow DAG component.\n",
        "\n",
        "`PIPELINE_ROOT` is the Cloud Storage path where the artifacts created by the pipeline will be written."
      ]
    },
    {
      "cell_type": "code",
      "execution_count": null,
      "metadata": {
        "id": "ca7a530edd16"
      },
      "outputs": [],
      "source": [
        "PATH = %env PATH\n",
        "%env PATH={PATH}:/home/jupyter/.local/bin\n",
        "\n",
        "PIPELINE_ROOT = f\"{BUCKET_URI}/pipeline_root/\"\n",
        "print(PIPELINE_ROOT)\n",
        "\n",
        "\n",
        "@dsl.pipeline(\n",
        "    name=\"pipeline-trigger-airflow-dag\",\n",
        "    description=\"Trigger Airflow DAG from Vertex AI Pipelines\",\n",
        "    pipeline_root=PIPELINE_ROOT,\n",
        ")\n",
        "\n",
        "# BLAH, don't see params\n",
        "# You can change the `text` and `emoji_str` parameters here to update the pipeline output\n",
        "def pipeline():\n",
        "    data_processing_task_dag_name = COMPOSER_DAG_NAME\n",
        "    data_processing_task = trigger_airflow_dag(\n",
        "        dag_name=data_processing_task_dag_name,\n",
        "        composer_client_id=COMPOSER_CLIENT_ID,\n",
        "        composer_webserver_id=COMPOSER_WEB_URI,\n",
        "    )"
      ]
    },
    {
      "cell_type": "markdown",
      "metadata": {
        "id": "042769b44af7"
      },
      "source": [
        "### Compile and execute the pipeline\n",
        "\n",
        "Next, you compile the pipeline and then exeute it. "
      ]
    },
    {
      "cell_type": "code",
      "execution_count": null,
      "metadata": {
        "id": "2cbc38431f35"
      },
      "outputs": [],
      "source": [
        "compiler.Compiler().compile(\n",
        "    pipeline_func=pipeline, package_path=\"pipeline-trigger-airflow-dag.json\"\n",
        ")\n",
        "\n",
        "pipeline = aiplatform.PipelineJob(\n",
        "    display_name=\"airflow_pipeline\",\n",
        "    template_path=\"pipeline-trigger-airflow-dag.json\",\n",
        "    pipeline_root=PIPELINE_ROOT,\n",
        "    parameter_values={},\n",
        "    enable_caching=False,\n",
        ")\n",
        "\n",
        "pipeline.run()\n",
        "\n",
        "! rm -f pipeline-trigger-airflow-dag.json"
      ]
    },
    {
      "cell_type": "markdown",
      "metadata": {
        "id": "89bb0c96c17c"
      },
      "source": [
        "### Monitor Vertex Pipeline status\n",
        "\n",
        "From Cloud Console, you can monitor the pipeline run status and view the output artifact\n",
        "\n",
        "![](images/pipeline_run.png)"
      ]
    },
    {
      "cell_type": "markdown",
      "metadata": {
        "id": "cf44cb8f9df6"
      },
      "source": [
        "### Monitor Airflow DAG run\n",
        "\n",
        "Go to Airflow webserver and monitor the status of data processing DAG. Airflow webserver URL is"
      ]
    },
    {
      "cell_type": "code",
      "execution_count": null,
      "metadata": {
        "id": "8d7520c8b509"
      },
      "outputs": [],
      "source": [
        "COMPOSER_WEB_URI + \"/admin/airflow/tree?dag_id=dag_gcs_to_bq_orch\""
      ]
    },
    {
      "cell_type": "markdown",
      "metadata": {
        "id": "8b70ad9d1e7e"
      },
      "source": [
        "![](images/airflow_dag_run.png)"
      ]
    },
    {
      "cell_type": "markdown",
      "metadata": {
        "id": "6c689ca1e318"
      },
      "source": [
        "### View the pipeline execution results"
      ]
    },
    {
      "cell_type": "code",
      "execution_count": null,
      "metadata": {
        "id": "64101b07b75a"
      },
      "outputs": [],
      "source": [
        "import tensorflow as tf\n",
        "\n",
        "PROJECT_NUMBER = pipeline.gca_resource.name.split(\"/\")[1]\n",
        "print(PROJECT_NUMBER)\n",
        "\n",
        "\n",
        "def print_pipeline_output(job, output_task_name):\n",
        "    PROJECT_NUMBER = job.gca_resource.name.split(\"/\")[1]\n",
        "    print(PROJECT_NUMBER)\n",
        "\n",
        "    JOB_ID = job.name\n",
        "    print(JOB_ID)\n",
        "    for _ in range(len(job.gca_resource.job_detail.task_details)):\n",
        "        TASK_ID = job.gca_resource.job_detail.task_details[_].task_id\n",
        "        EXECUTE_OUTPUT = (\n",
        "            PIPELINE_ROOT\n",
        "            + \"/\"\n",
        "            + PROJECT_NUMBER\n",
        "            + \"/\"\n",
        "            + JOB_ID\n",
        "            + \"/\"\n",
        "            + output_task_name\n",
        "            + \"_\"\n",
        "            + str(TASK_ID)\n",
        "            + \"/executor_output.json\"\n",
        "        )\n",
        "        GCP_RESOURCES = (\n",
        "            PIPELINE_ROOT\n",
        "            + \"/\"\n",
        "            + PROJECT_NUMBER\n",
        "            + \"/\"\n",
        "            + JOB_ID\n",
        "            + \"/\"\n",
        "            + output_task_name\n",
        "            + \"_\"\n",
        "            + str(TASK_ID)\n",
        "            + \"/gcp_resources\"\n",
        "        )\n",
        "        EVAL_METRICS = (\n",
        "            PIPELINE_ROOT\n",
        "            + \"/\"\n",
        "            + PROJECT_NUMBER\n",
        "            + \"/\"\n",
        "            + JOB_ID\n",
        "            + \"/\"\n",
        "            + output_task_name\n",
        "            + \"_\"\n",
        "            + str(TASK_ID)\n",
        "            + \"/evaluation_metrics\"\n",
        "        )\n",
        "        if tf.io.gfile.exists(EXECUTE_OUTPUT):\n",
        "            ! gsutil cat $EXECUTE_OUTPUT\n",
        "            return EXECUTE_OUTPUT\n",
        "        elif tf.io.gfile.exists(GCP_RESOURCES):\n",
        "            ! gsutil cat $GCP_RESOURCES\n",
        "            return GCP_RESOURCES\n",
        "        elif tf.io.gfile.exists(EVAL_METRICS):\n",
        "            ! gsutil cat $EVAL_METRICS\n",
        "            return EVAL_METRICS\n",
        "\n",
        "    return None\n",
        "\n",
        "\n",
        "print_pipeline_output(pipeline, \"tigger-airflow-dag\")"
      ]
    },
    {
      "cell_type": "markdown",
      "metadata": {
        "id": "45b474f20c08"
      },
      "source": [
        "### Verify the BigQuery dataset\n",
        "\n",
        "Finally, verify that the BigQuery dataset was created by the execution of your Airflow DAG."
      ]
    },
    {
      "cell_type": "code",
      "execution_count": null,
      "metadata": {
        "id": "4445e8f674ae"
      },
      "outputs": [],
      "source": [
        "! bq ls | grep bq_demos"
      ]
    },
    {
      "cell_type": "markdown",
      "metadata": {
        "id": "9085821befa1"
      },
      "source": [
        "## Cleaning Up"
      ]
    },
    {
      "cell_type": "markdown",
      "metadata": {
        "id": "96bd91fa395c"
      },
      "source": [
        "To clean up all Google Cloud resources used in this project, you can [delete the Google Cloud\n",
        "project](https://cloud.google.com/resource-manager/docs/creating-managing-projects#shutting_down_projects) you used for the tutorial.\n",
        "\n",
        "Otherwise, you can delete the individual resources you created in this tutorial.\n",
        "\n",
        "- Cloud Storage bucket\n",
        "- Cloud Composer environment\n",
        "- BigQuery table"
      ]
    },
    {
      "cell_type": "code",
      "execution_count": null,
      "metadata": {
        "id": "d82efd2cf5ef"
      },
      "outputs": [],
      "source": [
        "delete_bucket = False\n",
        "\n",
        "# Delete the Cloud Composer environment\n",
        "! gcloud beta composer environments delete $COMPOSER_ENV_NAME \\\n",
        "    --location $REGION \\\n",
        "    --quiet\n",
        "\n",
        "# Delete the temporary BigQuery dataset\n",
        "! bq rm -r -f $PROJECT_ID:$DATASET_NAME\n",
        "\n",
        "if delete_bucket or os.getenv(\"IS_TESTING\"):\n",
        "    ! gsutil rm -rf {BUCKET_URI}\n",
        "    \n",
        "! rm get_composer_config.py data_orchestration_bq_example_dag.py"
      ]
    }
  ],
  "metadata": {
    "colab": {
      "name": "get_started_with_airflow_and_vertex_pipelines.ipynb",
      "toc_visible": true
    },
    "kernelspec": {
      "display_name": "Python 3",
      "name": "python3"
    }
  },
  "nbformat": 4,
  "nbformat_minor": 0
}
