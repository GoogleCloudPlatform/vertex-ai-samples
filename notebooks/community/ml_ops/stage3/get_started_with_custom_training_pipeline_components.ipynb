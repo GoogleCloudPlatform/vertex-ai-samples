{
  "cells": [
    {
      "cell_type": "code",
      "execution_count": null,
      "metadata": {
        "id": "copyright"
      },
      "outputs": [],
      "source": [
        "# Copyright 2022 Google LLC\n",
        "#\n",
        "# Licensed under the Apache License, Version 2.0 (the \"License\");\n",
        "# you may not use this file except in compliance with the License.\n",
        "# You may obtain a copy of the License at\n",
        "#\n",
        "#     https://www.apache.org/licenses/LICENSE-2.0\n",
        "#\n",
        "# Unless required by applicable law or agreed to in writing, software\n",
        "# distributed under the License is distributed on an \"AS IS\" BASIS,\n",
        "# WITHOUT WARRANTIES OR CONDITIONS OF ANY KIND, either express or implied.\n",
        "# See the License for the specific language governing permissions and\n",
        "# limitations under the License."
      ]
    },
    {
      "cell_type": "markdown",
      "metadata": {
        "id": "title:generic,gcp"
      },
      "source": [
        "# E2E ML on GCP: MLOps stage 3 : formalization: get started with Vertex AI custom training pipeline components\n",
        "\n",
        "<table align=\"left\">\n",
        "  <td>\n",
        "    <a href=\"https://colab.research.google.com/github/GoogleCloudPlatform/vertex-ai-samples/blob/main/notebooks/community/ml_ops/stage3/get_started_with_custom_training_pipeline_components.ipynb\">\n",
        "      <img src=\"https://cloud.google.com/ml-engine/images/colab-logo-32px.png\" alt=\"Colab logo\"> Run in Colab\n",
        "    </a>\n",
        "  </td>  \n",
        "  <td>\n",
        "    <a href=\"https://github.com/GoogleCloudPlatform/vertex-ai-samples/blob/main/notebooks/community/ml_ops/stage3/get_started_with_custom_training_pipeline_components.ipynb\">\n",
        "      <img src=\"https://cloud.google.com/ml-engine/images/github-logo-32px.png\" alt=\"GitHub logo\">\n",
        "      View on GitHub\n",
        "    </a>\n",
        "  </td>\n",
        "  <td>\n",
        "    <a href=\"https://console.cloud.google.com/vertex-ai/workbench/deploy-notebook?download_url=https://raw.githubusercontent.com/GoogleCloudPlatform/vertex-ai-samples/main/notebooks/community/ml_ops/stage3/get_started_with_custom_training_pipeline_components.ipynb\">\n",
        "      <img src=\"https://lh3.googleusercontent.com/UiNooY4LUgW_oTvpsNhPpQzsstV5W8F7rYgxgGBD85cWJoLmrOzhVs_ksK_vgx40SHs7jCqkTkCk=e14-rj-sc0xffffff-h130-w32\" alt=\"Vertex AI logo\">\n",
        "      Open in Vertex AI Workbench\n",
        "    </a>\n",
        "  </td>\n",
        "</table>\n",
        "<br/><br/><br/>"
      ]
    },
    {
      "cell_type": "markdown",
      "metadata": {
        "id": "overview:mlops"
      },
      "source": [
        "## Overview\n",
        "\n",
        "\n",
        "This tutorial demonstrates how to use Vertex AI for E2E MLOps on Google Cloud in production. This tutorial covers stage 3 : formalization: get started with custom training pipeline components."
      ]
    },
    {
      "cell_type": "markdown",
      "metadata": {
        "id": "objective:mlops,stage3,get_started_custom_training_pipeline_components"
      },
      "source": [
        "### Objective\n",
        "\n",
        "In this tutorial, you learn how to use prebuilt `Google Cloud Pipeline Components` for `Vertex AI Training`.\n",
        "\n",
        "This tutorial uses the following Google Cloud ML services:\n",
        "\n",
        "- `Vertex AI Pipelines`\n",
        "- `Vertex AI Training`\n",
        "- `Google Cloud Pipeline Components`\n",
        "- `Vertex AI Dataset, Model and Endpoint` resources\n",
        "- `Vertex AI Prediction`\n",
        "\n",
        "The steps performed include:\n",
        "\n",
        "- Construct a pipeline for:\n",
        "    - Training a Vertex AI custom trained model.\n",
        "    - Test the serving binary with a batch prediction job.\n",
        "    - Deploying a Vertex AI custom trained model.\n",
        "- Execute a Vertex AI pipeline.\n",
        "- Construct a pipeline for:\n",
        "     - Construct a custom training component.\n",
        "     - Convert custom training component to CustomTrainingJobOp.\n",
        "     - Training a Vertex AI custom trained model using the converted component.\n",
        "    - Deploying a Vertex AI custom trained model.\n",
        "- Execute a Vertex AI pipeline."
      ]
    },
    {
      "cell_type": "markdown",
      "metadata": {
        "id": "dataset:flowers,icn"
      },
      "source": [
        "### Dataset\n",
        "\n",
        "The dataset used for this tutorial is the [Flowers dataset](https://www.tensorflow.org/datasets/catalog/tf_flowers) from [TensorFlow Datasets](https://www.tensorflow.org/datasets/catalog/overview). The version of the dataset in this tutorial is stored in a public Cloud Storage bucket. The trained model predicts the type of flower an image is from a class of five flowers: daisy, dandelion, rose, sunflower, or tulip."
      ]
    },
    {
      "cell_type": "markdown",
      "metadata": {
        "id": "0c997d8d92ce"
      },
      "source": [
        "### Costs \n",
        "\n",
        "\n",
        "This tutorial uses billable components of Google Cloud:\n",
        "\n",
        "* Vertex AI\n",
        "* Cloud Storage\n",
        "\n",
        "\n",
        "Learn about [Vertex AI\n",
        "pricing](https://cloud.google.com/vertex-ai/pricing) and [Cloud Storage\n",
        "pricing](https://cloud.google.com/storage/pricing), and use the [Pricing\n",
        "Calculator](https://cloud.google.com/products/calculator/)\n",
        "to generate a cost estimate based on your projected usage."
      ]
    },
    {
      "cell_type": "markdown",
      "metadata": {
        "id": "install_mlops"
      },
      "source": [
        "## Installations\n",
        "\n",
        "Install the required packages for executing the notebook."
      ]
    },
    {
      "cell_type": "code",
      "execution_count": null,
      "metadata": {
        "id": "1fd00fa70a2a"
      },
      "outputs": [],
      "source": [
        "import os\n",
        "\n",
        "# The Vertex AI Workbench Notebook product has specific requirements\n",
        "IS_WORKBENCH_NOTEBOOK = os.getenv(\"DL_ANACONDA_HOME\") and not os.getenv(\"VIRTUAL_ENV\")\n",
        "IS_USER_MANAGED_WORKBENCH_NOTEBOOK = os.path.exists(\n",
        "    \"/opt/deeplearning/metadata/env_version\"\n",
        ")\n",
        "\n",
        "# Vertex AI Notebook requires dependencies to be installed with '--user'\n",
        "USER_FLAG = \"\"\n",
        "if IS_WORKBENCH_NOTEBOOK:\n",
        "    USER_FLAG = \"--user\"\n",
        "\n",
        "! pip3 install -U tensorflow $USER_FLAG -q\n",
        "! pip3 install --upgrade google-cloud-aiplatform[tensorboard] $USER_FLAG -q\n",
        "! pip3 install --upgrade google-cloud-pipeline-components $USER_FLAG -q\n",
        "! pip3 install --upgrade kfp $USER_FLAG -q"
      ]
    },
    {
      "cell_type": "markdown",
      "metadata": {
        "id": "restart"
      },
      "source": [
        "### Restart the kernel\n",
        "\n",
        "Once you've installed the additional packages, you need to restart the notebook kernel so it can find the packages."
      ]
    },
    {
      "cell_type": "code",
      "execution_count": null,
      "metadata": {
        "id": "restart"
      },
      "outputs": [],
      "source": [
        "import os\n",
        "\n",
        "if not os.getenv(\"IS_TESTING\"):\n",
        "    # Automatically restart kernel after installs\n",
        "    import IPython\n",
        "\n",
        "    app = IPython.Application.instance()\n",
        "    app.kernel.do_shutdown(True)"
      ]
    },
    {
      "cell_type": "markdown",
      "metadata": {
        "id": "BF1j6f9HApxa"
      },
      "source": [
        "## Before you begin\n",
        "\n",
        "### Set up your Google Cloud project\n",
        "\n",
        "**The following steps are required, regardless of your notebook environment.**\n",
        "\n",
        "1. [Select or create a Google Cloud project](https://console.cloud.google.com/cloud-resource-manager). When you first create an account, you get a $300 free credit towards your compute/storage costs.\n",
        "\n",
        "1. [Make sure that billing is enabled for your project](https://cloud.google.com/billing/docs/how-to/modify-project).\n",
        "\n",
        "1. [Enable the Vertex AI API](https://console.cloud.google.com/flows/enableapi?apiid=aiplatform.googleapis.com,dataflow.googleapis.com).\n",
        "\n",
        "1. If you are running this notebook locally, you need to install the [Cloud SDK](https://cloud.google.com/sdk).\n",
        "\n",
        "1. Enter your project ID in the cell below. Then run the cell to make sure the\n",
        "Cloud SDK uses the right project for all the commands in this notebook.\n",
        "\n",
        "**Note**: Jupyter runs lines prefixed with `!` as shell commands, and it interpolates Python variables prefixed with `$` into these commands."
      ]
    },
    {
      "cell_type": "markdown",
      "metadata": {
        "id": "project_id"
      },
      "source": [
        "#### Set your project ID\n",
        "\n",
        "**If you don't know your project ID**, you may be able to get your project ID using `gcloud`."
      ]
    },
    {
      "cell_type": "code",
      "execution_count": null,
      "metadata": {
        "id": "set_project_id"
      },
      "outputs": [],
      "source": [
        "PROJECT_ID = \"[your-project-id]\"  # @param {type:\"string\"}"
      ]
    },
    {
      "cell_type": "code",
      "execution_count": null,
      "metadata": {
        "id": "autoset_project_id"
      },
      "outputs": [],
      "source": [
        "if PROJECT_ID == \"\" or PROJECT_ID is None or PROJECT_ID == \"[your-project-id]\":\n",
        "    # Get your GCP project id from gcloud\n",
        "    shell_output = ! gcloud config list --format 'value(core.project)' 2>/dev/null\n",
        "    PROJECT_ID = shell_output[0]\n",
        "    print(\"Project ID:\", PROJECT_ID)"
      ]
    },
    {
      "cell_type": "code",
      "execution_count": null,
      "metadata": {
        "id": "set_gcloud_project_id"
      },
      "outputs": [],
      "source": [
        "! gcloud config set project $PROJECT_ID"
      ]
    },
    {
      "cell_type": "markdown",
      "metadata": {
        "id": "region"
      },
      "source": [
        "#### Region\n",
        "\n",
        "You can also change the `REGION` variable, which is used for operations\n",
        "throughout the rest of this notebook.  Below are regions supported for Vertex AI. We recommend that you choose the region closest to you.\n",
        "\n",
        "- Americas: `us-central1`\n",
        "- Europe: `europe-west4`\n",
        "- Asia Pacific: `asia-east1`\n",
        "\n",
        "You may not use a multi-regional bucket for training with Vertex AI. Not all regions provide support for all Vertex AI services.\n",
        "\n",
        "Learn more about [Vertex AI regions](https://cloud.google.com/vertex-ai/docs/general/locations)."
      ]
    },
    {
      "cell_type": "code",
      "execution_count": null,
      "metadata": {
        "id": "region"
      },
      "outputs": [],
      "source": [
        "REGION = \"[your-region]\"  # @param {type:\"string\"}\n",
        "if REGION == \"[your-region]\":\n",
        "    REGION = \"us-central1\""
      ]
    },
    {
      "cell_type": "markdown",
      "metadata": {
        "id": "timestamp"
      },
      "source": [
        "#### Timestamp\n",
        "\n",
        "If you are in a live tutorial session, you might be using a shared test account or project. To avoid name collisions between users on resources created, you create a timestamp for each instance session, and append the timestamp onto the name of resources you create in this tutorial."
      ]
    },
    {
      "cell_type": "code",
      "execution_count": null,
      "metadata": {
        "id": "timestamp"
      },
      "outputs": [],
      "source": [
        "from datetime import datetime\n",
        "\n",
        "TIMESTAMP = datetime.now().strftime(\"%Y%m%d%H%M%S\")"
      ]
    },
    {
      "cell_type": "markdown",
      "metadata": {
        "id": "648aa9824ac6"
      },
      "source": [
        "### Authenticate your Google Cloud account\n"
      ]
    },
    {
      "cell_type": "markdown",
      "metadata": {
        "id": "fc52bba17ee3"
      },
      "source": [
        "**If you are using Vertex AI Workbench Notebooks**, your environment is already\n",
        "authenticated. Skip this step.\n",
        "\n",
        "**If you are using Colab**, run the cell below and follow the instructions when prompted to authenticate your account via oAuth.\n",
        "\n",
        "**Otherwise**, follow these steps:\n",
        "\n",
        "1. In the Cloud Console, go to the [**Create service account key**\n",
        "   page](https://console.cloud.google.com/apis/credentials/serviceaccountkey).\n",
        "\n",
        "2. Click **Create service account**.\n",
        "\n",
        "3. In the **Service account name** field, enter a name, and\n",
        "   click **Create**.\n",
        "\n",
        "4. In the **Grant this service account access to project** section, click the **Role** drop-down list. Type \"Vertex AI\"\n",
        "into the filter box, and select\n",
        "   **Vertex AI Administrator**. Type \"Storage Object Admin\" into the filter box, and select **Storage Object Admin**.\n",
        "\n",
        "5. Click *Create*. A JSON file that contains your key downloads to your\n",
        "local environment.\n",
        "\n",
        "6. Enter the path to your service account key as the\n",
        "`GOOGLE_APPLICATION_CREDENTIALS` variable in the cell below and run the cell."
      ]
    },
    {
      "cell_type": "code",
      "execution_count": null,
      "metadata": {
        "id": "535223fa4b84"
      },
      "outputs": [],
      "source": [
        "# If you are running this notebook in Colab, run this cell and follow the\n",
        "# instructions to authenticate your GCP account. This provides access to your\n",
        "# Cloud Storage bucket and lets you submit training jobs and prediction\n",
        "# requests.\n",
        "\n",
        "import os\n",
        "import sys\n",
        "\n",
        "# If on Vertex AI Workbench, then don't execute this code\n",
        "IS_COLAB = False\n",
        "if not os.path.exists(\"/opt/deeplearning/metadata/env_version\") and not os.getenv(\n",
        "    \"DL_ANACONDA_HOME\"\n",
        "):\n",
        "    if \"google.colab\" in sys.modules:\n",
        "        IS_COLAB = True\n",
        "        from google.colab import auth as google_auth\n",
        "\n",
        "        google_auth.authenticate_user()\n",
        "\n",
        "    # If you are running this notebook locally, replace the string below with the\n",
        "    # path to your service account key and run this cell to authenticate your GCP\n",
        "    # account.\n",
        "    elif not os.getenv(\"IS_TESTING\"):\n",
        "        %env GOOGLE_APPLICATION_CREDENTIALS ''"
      ]
    },
    {
      "cell_type": "markdown",
      "metadata": {
        "id": "bucket:mbsdk"
      },
      "source": [
        "### Create a Cloud Storage bucket\n",
        "\n",
        "**The following steps are required, regardless of your notebook environment.**\n",
        "\n",
        "When you initialize the Vertex SDK for Python, you specify a Cloud Storage staging bucket. The staging bucket is where all the data associated with your dataset and model resources are retained across sessions.\n",
        "\n",
        "Set the name of your Cloud Storage bucket below. Bucket names must be globally unique across all Google Cloud projects, including those outside of your organization."
      ]
    },
    {
      "cell_type": "code",
      "execution_count": null,
      "metadata": {
        "id": "bucket"
      },
      "outputs": [],
      "source": [
        "BUCKET_NAME = \"[your-bucket-name]\"  # @param {type:\"string\"}\n",
        "BUCKET_URI = f\"gs://{BUCKET_NAME}\""
      ]
    },
    {
      "cell_type": "code",
      "execution_count": null,
      "metadata": {
        "id": "autoset_bucket"
      },
      "outputs": [],
      "source": [
        "if BUCKET_URI == \"\" or BUCKET_URI is None or BUCKET_URI == \"gs://[your-bucket-name]\":\n",
        "    BUCKET_URI = \"gs://\" + PROJECT_ID + \"aip-\" + TIMESTAMP"
      ]
    },
    {
      "cell_type": "markdown",
      "metadata": {
        "id": "create_bucket"
      },
      "source": [
        "**Only if your bucket doesn't already exist**: Run the following cell to create your Cloud Storage bucket."
      ]
    },
    {
      "cell_type": "code",
      "execution_count": null,
      "metadata": {
        "id": "create_bucket"
      },
      "outputs": [],
      "source": [
        "! gsutil mb -l $REGION $BUCKET_URI"
      ]
    },
    {
      "cell_type": "markdown",
      "metadata": {
        "id": "validate_bucket"
      },
      "source": [
        "Finally, validate access to your Cloud Storage bucket by examining its contents:"
      ]
    },
    {
      "cell_type": "code",
      "execution_count": null,
      "metadata": {
        "id": "validate_bucket"
      },
      "outputs": [],
      "source": [
        "! gsutil ls -al $BUCKET_URI"
      ]
    },
    {
      "cell_type": "markdown",
      "metadata": {
        "id": "set_service_account"
      },
      "source": [
        "#### Service Account\n",
        "\n",
        "**If you don't know your service account**, try to get your service account using `gcloud` command by executing the second cell below."
      ]
    },
    {
      "cell_type": "code",
      "execution_count": null,
      "metadata": {
        "id": "set_service_account"
      },
      "outputs": [],
      "source": [
        "SERVICE_ACCOUNT = \"[your-service-account]\"  # @param {type:\"string\"}"
      ]
    },
    {
      "cell_type": "code",
      "execution_count": null,
      "metadata": {
        "id": "autoset_service_account"
      },
      "outputs": [],
      "source": [
        "if (\n",
        "    SERVICE_ACCOUNT == \"\"\n",
        "    or SERVICE_ACCOUNT is None\n",
        "    or SERVICE_ACCOUNT == \"[your-service-account]\"\n",
        "):\n",
        "    # Get your service account from gcloud\n",
        "    if not IS_COLAB:\n",
        "        shell_output = !gcloud auth list 2>/dev/null\n",
        "        SERVICE_ACCOUNT = shell_output[2].replace(\"*\", \"\").strip()\n",
        "\n",
        "    if IS_COLAB:\n",
        "        shell_output = ! gcloud projects describe  $PROJECT_ID\n",
        "        # print(\"shell_output=\", shell_output)\n",
        "        project_number = shell_output[-1].split(\":\")[1].strip().replace(\"'\", \"\")\n",
        "        SERVICE_ACCOUNT = f\"{project_number}-compute@developer.gserviceaccount.com\"\n",
        "\n",
        "    print(\"Service Account:\", SERVICE_ACCOUNT)"
      ]
    },
    {
      "cell_type": "markdown",
      "metadata": {
        "id": "set_service_account:pipelines"
      },
      "source": [
        "#### Set service account access for Vertex AI Pipelines\n",
        "\n",
        "Run the following commands to grant your service account access to read and write pipeline artifacts in the bucket that you created in the previous step -- you only need to run these once per service account."
      ]
    },
    {
      "cell_type": "code",
      "execution_count": null,
      "metadata": {
        "id": "set_service_account:pipelines"
      },
      "outputs": [],
      "source": [
        "! gsutil iam ch serviceAccount:{SERVICE_ACCOUNT}:roles/storage.objectCreator $BUCKET_URI\n",
        "\n",
        "! gsutil iam ch serviceAccount:{SERVICE_ACCOUNT}:roles/storage.objectViewer $BUCKET_URI"
      ]
    },
    {
      "cell_type": "markdown",
      "metadata": {
        "id": "setup_vars"
      },
      "source": [
        "### Set up variables\n",
        "\n",
        "Next, set up some variables used throughout the tutorial.\n",
        "### Import libraries and define constants"
      ]
    },
    {
      "cell_type": "code",
      "execution_count": null,
      "metadata": {
        "id": "import_aip:mbsdk"
      },
      "outputs": [],
      "source": [
        "import google.cloud.aiplatform as aip"
      ]
    },
    {
      "cell_type": "markdown",
      "metadata": {
        "id": "import_tf"
      },
      "source": [
        "#### Import TensorFlow\n",
        "\n",
        "Import the TensorFlow package into your Python environment."
      ]
    },
    {
      "cell_type": "code",
      "execution_count": null,
      "metadata": {
        "id": "import_tf"
      },
      "outputs": [],
      "source": [
        "import tensorflow as tf"
      ]
    },
    {
      "cell_type": "code",
      "execution_count": null,
      "metadata": {
        "id": "import_kfp"
      },
      "outputs": [],
      "source": [
        "import json\n",
        "\n",
        "from kfp import dsl\n",
        "from kfp.v2 import compiler\n",
        "from kfp.v2.dsl import component"
      ]
    },
    {
      "cell_type": "markdown",
      "metadata": {
        "id": "init_aip:mbsdk,all"
      },
      "source": [
        "### Initialize Vertex AI SDK for Python\n",
        "\n",
        "Initialize the Vertex AI SDK for Python for your project and corresponding bucket."
      ]
    },
    {
      "cell_type": "code",
      "execution_count": null,
      "metadata": {
        "id": "init_aip:mbsdk,all"
      },
      "outputs": [],
      "source": [
        "aip.init(project=PROJECT_ID, location=REGION, staging_bucket=BUCKET_URI)"
      ]
    },
    {
      "cell_type": "markdown",
      "metadata": {
        "id": "accelerators:training,prediction,ngpu,mbsdk"
      },
      "source": [
        "#### Set hardware accelerators\n",
        "\n",
        "You can set hardware accelerators for training and prediction.\n",
        "\n",
        "Set the variables `TRAIN_GPU/TRAIN_NGPU` and `DEPLOY_GPU/DEPLOY_NGPU` to use a container image supporting a GPU and the number of GPUs allocated to the virtual machine (VM) instance. For example, to use a GPU container image with 4 Nvidia Telsa K80 GPUs allocated to each VM, you would specify:\n",
        "\n",
        "    (aip.AcceleratorType.NVIDIA_TESLA_K80, 4)\n",
        "\n",
        "\n",
        "Otherwise specify `(None, None)` to use a container image to run on a CPU.\n",
        "\n",
        "Learn more about [hardware accelerator support for your region](https://cloud.google.com/vertex-ai/docs/general/locations#accelerators).\n",
        "\n",
        "*Note*: TF releases before 2.3 for GPU support will fail to load the custom model in this tutorial. It is a known issue and fixed in TF 2.3. This is caused by static graph ops that are generated in the serving function. If you encounter this issue on your own custom models, use a container image for TF 2.3 with GPU support."
      ]
    },
    {
      "cell_type": "code",
      "execution_count": null,
      "metadata": {
        "id": "accelerators:training,prediction,ngpu,mbsdk"
      },
      "outputs": [],
      "source": [
        "if os.getenv(\"IS_TESTING_TRAIN_GPU\"):\n",
        "    TRAIN_GPU, TRAIN_NGPU = (\n",
        "        aip.gapic.AcceleratorType.NVIDIA_TESLA_K80,\n",
        "        int(os.getenv(\"IS_TESTING_TRAIN_GPU\")),\n",
        "    )\n",
        "else:\n",
        "    TRAIN_GPU, TRAIN_NGPU = (None, None)\n",
        "\n",
        "if os.getenv(\"IS_TESTING_DEPLOY_GPU\"):\n",
        "    DEPLOY_GPU, DEPLOY_NGPU = (\n",
        "        aip.gapic.AcceleratorType.NVIDIA_TESLA_K80,\n",
        "        int(os.getenv(\"IS_TESTING_DEPLOY_GPU\")),\n",
        "    )\n",
        "else:\n",
        "    DEPLOY_GPU, DEPLOY_NGPU = (None, None)"
      ]
    },
    {
      "cell_type": "markdown",
      "metadata": {
        "id": "container:training,prediction"
      },
      "source": [
        "#### Set pre-built containers\n",
        "\n",
        "Set the pre-built Docker container image for training and prediction.\n",
        "\n",
        "\n",
        "For the latest list, see [Pre-built containers for training](https://cloud.google.com/ai-platform-unified/docs/training/pre-built-containers).\n",
        "\n",
        "\n",
        "For the latest list, see [Pre-built containers for prediction](https://cloud.google.com/ai-platform-unified/docs/predictions/pre-built-containers)."
      ]
    },
    {
      "cell_type": "code",
      "execution_count": null,
      "metadata": {
        "id": "container:training,prediction"
      },
      "outputs": [],
      "source": [
        "if os.getenv(\"IS_TESTING_TF\"):\n",
        "    TF = os.getenv(\"IS_TESTING_TF\")\n",
        "else:\n",
        "    TF = \"2.5\".replace(\".\", \"-\")\n",
        "\n",
        "if TF[0] == \"2\":\n",
        "    if TRAIN_GPU:\n",
        "        TRAIN_VERSION = \"tf-gpu.{}\".format(TF)\n",
        "    else:\n",
        "        TRAIN_VERSION = \"tf-cpu.{}\".format(TF)\n",
        "    if DEPLOY_GPU:\n",
        "        DEPLOY_VERSION = \"tf2-gpu.{}\".format(TF)\n",
        "    else:\n",
        "        DEPLOY_VERSION = \"tf2-cpu.{}\".format(TF)\n",
        "else:\n",
        "    if TRAIN_GPU:\n",
        "        TRAIN_VERSION = \"tf-gpu.{}\".format(TF)\n",
        "    else:\n",
        "        TRAIN_VERSION = \"tf-cpu.{}\".format(TF)\n",
        "    if DEPLOY_GPU:\n",
        "        DEPLOY_VERSION = \"tf-gpu.{}\".format(TF)\n",
        "    else:\n",
        "        DEPLOY_VERSION = \"tf-cpu.{}\".format(TF)\n",
        "\n",
        "TRAIN_IMAGE = \"{}-docker.pkg.dev/vertex-ai/training/{}:latest\".format(\n",
        "    REGION.split(\"-\")[0], TRAIN_VERSION\n",
        ")\n",
        "DEPLOY_IMAGE = \"{}-docker.pkg.dev/vertex-ai/prediction/{}:latest\".format(\n",
        "    REGION.split(\"-\")[0], DEPLOY_VERSION\n",
        ")\n",
        "\n",
        "print(\"Training:\", TRAIN_IMAGE, TRAIN_GPU, TRAIN_NGPU)\n",
        "print(\"Deployment:\", DEPLOY_IMAGE, DEPLOY_GPU, DEPLOY_NGPU)"
      ]
    },
    {
      "cell_type": "markdown",
      "metadata": {
        "id": "machine:training,prediction"
      },
      "source": [
        "#### Set machine type\n",
        "\n",
        "Next, set the machine type to use for training and prediction.\n",
        "\n",
        "- Set the variables `TRAIN_COMPUTE` and `DEPLOY_COMPUTE` to configure  the compute resources for the VMs you will use for for training and prediction.\n",
        " - `machine type`\n",
        "     - `n1-standard`: 3.75GB of memory per vCPU.\n",
        "     - `n1-highmem`: 6.5GB of memory per vCPU\n",
        "     - `n1-highcpu`: 0.9 GB of memory per vCPU\n",
        " - `vCPUs`: number of \\[2, 4, 8, 16, 32, 64, 96 \\]\n",
        "\n",
        "*Note: The following is not supported for training:*\n",
        "\n",
        " - `standard`: 2 vCPUs\n",
        " - `highcpu`: 2, 4 and 8 vCPUs\n",
        "\n",
        "*Note: You may also use n2 and e2 machine types for training and deployment, but they do not support GPUs*."
      ]
    },
    {
      "cell_type": "code",
      "execution_count": null,
      "metadata": {
        "id": "machine:training,prediction"
      },
      "outputs": [],
      "source": [
        "if os.getenv(\"IS_TESTING_TRAIN_MACHINE\"):\n",
        "    MACHINE_TYPE = os.getenv(\"IS_TESTING_TRAIN_MACHINE\")\n",
        "else:\n",
        "    MACHINE_TYPE = \"n1-standard\"\n",
        "\n",
        "VCPU = \"4\"\n",
        "TRAIN_COMPUTE = MACHINE_TYPE + \"-\" + VCPU\n",
        "print(\"Train machine type\", TRAIN_COMPUTE)\n",
        "\n",
        "if os.getenv(\"IS_TESTING_DEPLOY_MACHINE\"):\n",
        "    MACHINE_TYPE = os.getenv(\"IS_TESTING_DEPLOY_MACHINE\")\n",
        "else:\n",
        "    MACHINE_TYPE = \"n1-standard\"\n",
        "\n",
        "VCPU = \"4\"\n",
        "DEPLOY_COMPUTE = MACHINE_TYPE + \"-\" + VCPU\n",
        "print(\"Deploy machine type\", DEPLOY_COMPUTE)"
      ]
    },
    {
      "cell_type": "markdown",
      "metadata": {
        "id": "import_file:u_dataset,csv"
      },
      "source": [
        "#### Location of Cloud Storage training data.\n",
        "\n",
        "Now set the variable `IMPORT_FILE` to the location of the CSV index file in Cloud Storage."
      ]
    },
    {
      "cell_type": "code",
      "execution_count": null,
      "metadata": {
        "id": "import_file:flowers,csv,icn"
      },
      "outputs": [],
      "source": [
        "IMPORT_FILE = (\n",
        "    \"gs://cloud-samples-data/vision/automl_classification/flowers/all_data_v2.csv\"\n",
        ")"
      ]
    },
    {
      "cell_type": "markdown",
      "metadata": {
        "id": "examine_training_package"
      },
      "source": [
        "### Examine the training package\n",
        "\n",
        "#### Package layout\n",
        "\n",
        "Before you start the training, you will look at how a Python package is assembled for a custom training job. When unarchived, the package contains the following directory/file layout.\n",
        "\n",
        "- PKG-INFO\n",
        "- README.md\n",
        "- setup.cfg\n",
        "- setup.py\n",
        "- trainer\n",
        "  - \\_\\_init\\_\\_.py\n",
        "  - task.py\n",
        "\n",
        "The files `setup.cfg` and `setup.py` are the instructions for installing the package into the operating environment of the Docker image.\n",
        "\n",
        "The file `trainer/task.py` is the Python script for executing the custom training job. *Note*, when we referred to it in the worker pool specification, we replace the directory slash with a dot (`trainer.task`) and dropped the file suffix (`.py`).\n",
        "\n",
        "#### Package Assembly\n",
        "\n",
        "In the following cells, you will assemble the training package."
      ]
    },
    {
      "cell_type": "code",
      "execution_count": null,
      "metadata": {
        "id": "examine_training_package"
      },
      "outputs": [],
      "source": [
        "# Make folder for Python training script\n",
        "! rm -rf custom\n",
        "! mkdir custom\n",
        "\n",
        "# Add package information\n",
        "! touch custom/README.md\n",
        "\n",
        "setup_cfg = \"[egg_info]\\n\\ntag_build =\\n\\ntag_date = 0\"\n",
        "! echo \"$setup_cfg\" > custom/setup.cfg\n",
        "\n",
        "setup_py = \"import setuptools\\n\\nsetuptools.setup(\\n\\n    install_requires=[\\n\\n        'tensorflow==2.5.0',\\n\\n        'tensorflow_datasets==1.3.0',\\n\\n    ],\\n\\n    packages=setuptools.find_packages())\"\n",
        "! echo \"$setup_py\" > custom/setup.py\n",
        "\n",
        "pkg_info = \"Metadata-Version: 1.0\\n\\nName: Flowers image classification\\n\\nVersion: 0.0.0\\n\\nSummary: Demostration training script\\n\\nHome-page: www.google.com\\n\\nAuthor: Google\\n\\nAuthor-email: aferlitsch@google.com\\n\\nLicense: Public\\n\\nDescription: Demo\\n\\nPlatform: Vertex\"\n",
        "! echo \"$pkg_info\" > custom/PKG-INFO\n",
        "\n",
        "# Make the training subfolder\n",
        "! mkdir custom/trainer\n",
        "! touch custom/trainer/__init__.py"
      ]
    },
    {
      "cell_type": "markdown",
      "metadata": {
        "id": "taskpy_contents:dataset,flowers"
      },
      "source": [
        "### Create the task script for the Python training package\n",
        "\n",
        "Next, you create the `task.py` script for driving the training package. Some noteable steps include:\n",
        "\n",
        "- Command-line arguments:\n",
        "    - `data-format` The format of the data. In this example, the data is exported from an `ImageDataSet` and will be in a JSONL format.\n",
        "    - `train-data-dir`, `val-data-dir`, `test-data-dir`: The Cloud Storage locations of the train, validation and test data. When using Vertex AI custom training, these locations will be specified in the corresponding environment variables: `AIP_TRAINING_DATA_URI`, `AIP_VALIDATION_DATA_URI`, and `AIP_TEST_DATA_URI`.\n",
        "    - `model-dir`: The location to save the trained model. When using Vertex AI custom training, the location will be specified in the environment variable: `AIP_MODEL_DIR`,\n",
        "    - `distributr`: single, mirrored or distributed training strategy.\n",
        "- Data preprocessing (`get_data()`):\n",
        "    - Compiles the one or more JSONL data files for a dataset, and constructs a `tf.data.Dataset()` generator for data preprocessing and model feeding.\n",
        "- Model architecture (`get_model()`):\n",
        "    - Builds the corresponding model architecture.\n",
        "- Training (`train_model()`):\n",
        "    - Trains the model\n",
        "- Model artifact saving\n",
        "    - Saves the model artifacts where the Cloud Storage location is determined based on the type of distribution training strategy."
      ]
    },
    {
      "cell_type": "code",
      "execution_count": null,
      "metadata": {
        "id": "taskpy_contents:dataset,flowers"
      },
      "outputs": [],
      "source": [
        "%%writefile custom/trainer/task.py\n",
        "import tensorflow as tf\n",
        "from tensorflow.python.client import device_lib\n",
        "import argparse\n",
        "import os\n",
        "import sys\n",
        "import json\n",
        "import logging\n",
        "import tqdm\n",
        "import hypertune as hpt\n",
        "\n",
        "def parse_args():\n",
        "    parser = argparse.ArgumentParser(description=\"TF.Keras Image Classification\")\n",
        "\n",
        "    # data source\n",
        "    parser.add_argument(\"--data-format\", default=os.getenv('AIP_DATA_FORMAT'), dest=\"data_format\", type=str, help=\"data format\")\n",
        "    parser.add_argument(\"--train-data-dir\", default=os.getenv('AIP_TRAINING_DATA_URI'), dest=\"train_data_dir\", type=str, help=\"train data directory\")\n",
        "    parser.add_argument(\"--val-data-dir\", default=os.getenv('AIP_VALIDATION_DATA_URI'), dest=\"val_data_dir\", type=str, help=\"validation data directory\")\n",
        "    parser.add_argument(\"--test-data-dir\", default=os.getenv('AIP_TEST_DATA_URI'), dest=\"test_data_dir\", type=str, help=\"test data directory\")\n",
        "\n",
        "    # data preprocessing\n",
        "    parser.add_argument(\"--image-width\", dest=\"image_width\", default=32, type=int, help=\"image width\")\n",
        "    parser.add_argument(\"--image-height\", dest=\"image_height\", default=32, type=int, help=\"image height\")\n",
        "\n",
        "    # model artifact location\n",
        "    parser.add_argument(\n",
        "        \"--model-dir\",\n",
        "        default=os.getenv(\"AIP_MODEL_DIR\"),\n",
        "        type=str,\n",
        "        help=\"model directory\",\n",
        "    )\n",
        "\n",
        "    # training hyperparameters\n",
        "    parser.add_argument(\n",
        "        \"--lr\", dest=\"lr\", default=0.01, type=float, help=\"Learning rate.\"\n",
        "    )\n",
        "    parser.add_argument(\n",
        "        \"--batch-size\", dest=\"batch_size\", default=16, type=int, help=\"mini-batch size\"\n",
        "    )\n",
        "    parser.add_argument(\n",
        "        \"--epochs\", default=10, type=int, help=\"number of training epochs\"\n",
        "    )\n",
        "    parser.add_argument(\n",
        "        \"--steps\",\n",
        "        dest=\"steps\",\n",
        "        default=200,\n",
        "        type=int,\n",
        "        help=\"Number of steps per epoch.\",\n",
        "    )\n",
        "    parser.add_argument(\n",
        "        \"--distribute\",\n",
        "        dest=\"distribute\",\n",
        "        type=str,\n",
        "        default=\"single\",\n",
        "        help=\"distributed training strategy\",\n",
        "    )\n",
        "\n",
        "    parser.add_argument(\n",
        "        \"--tuning\",\n",
        "        dest=\"tuning\",\n",
        "        type=bool,\n",
        "        default=False,\n",
        "        help=\"hyperparameter tuning\"\n",
        "    )\n",
        "\n",
        "    args = parser.parse_args()\n",
        "    return args\n",
        "\n",
        "\n",
        "args = parse_args()\n",
        "\n",
        "logging.getLogger().setLevel(logging.DEBUG)\n",
        "logging.info('DEVICES'  + str(device_lib.list_local_devices()))\n",
        "\n",
        "# Single Machine, single compute device\n",
        "if args.distribute == 'single':\n",
        "    if tf.test.is_gpu_available():\n",
        "        strategy = tf.distribute.OneDeviceStrategy(device=\"/gpu:0\")\n",
        "    else:\n",
        "        strategy = tf.distribute.OneDeviceStrategy(device=\"/cpu:0\")\n",
        "    logging.info(\"Single device training\")\n",
        "# Single Machine, multiple compute device\n",
        "elif args.distribute == 'mirrored':\n",
        "    strategy = tf.distribute.MirroredStrategy()\n",
        "    logging.info(\"Mirrored Strategy distributed training\")\n",
        "# Multi Machine, multiple compute device\n",
        "elif args.distribute == 'multiworker':\n",
        "    strategy = tf.distribute.MultiWorkerMirroredStrategy()\n",
        "    logging.info(\"Multi-worker Strategy distributed training\")\n",
        "    logging.info('TF_CONFIG = {}'.format(os.environ.get('TF_CONFIG', 'Not found')))\n",
        "\n",
        "logging.info('num_replicas_in_sync = {}'.format(strategy.num_replicas_in_sync))\n",
        "\n",
        "NUM_WORKERS = strategy.num_replicas_in_sync\n",
        "GLOBAL_BATCH_SIZE = args.batch_size * NUM_WORKERS\n",
        "\n",
        "\n",
        "def _is_chief(task_type, task_id):\n",
        "    ''' Check for primary if multiworker training\n",
        "    '''\n",
        "    return (task_type == 'chief') or (task_type == 'worker' and task_id == 0) or task_type is None\n",
        "\n",
        "\n",
        "def get_data():\n",
        "    logging.info('DATA_FORMAT ' + args.data_format)\n",
        "    logging.info('TRAINING_DATA_URI ' + args.train_data_dir)\n",
        "    logging.info('VALIDATION_DATA_URI ' + args.val_data_dir)\n",
        "    logging.info('TEST_DATA_URI ' + args.test_data_dir)\n",
        "\n",
        "    class_names = [\"daisy\", \"dandelion\", \"roses\", \"sunflowers\", \"tulips\"]\n",
        "    class_indices = dict(zip(class_names, range(len(class_names))))\n",
        "    num_classes = len(class_names)\n",
        "\n",
        "    GLOBAL_BATCH_SIZE = args.batch_size * NUM_WORKERS\n",
        "\n",
        "    def parse_image(filename):\n",
        "        image = tf.io.read_file(filename)\n",
        "        image = tf.image.decode_jpeg(image, channels=3)\n",
        "        image = tf.image.resize(image, [args.image_width, args.image_height])\n",
        "        return image\n",
        "\n",
        "    def scale(image, label):\n",
        "        image = tf.cast(image, tf.float32)\n",
        "        image /= 255.0\n",
        "        return image, label\n",
        "\n",
        "    def extract(data_dir, batch_size=GLOBAL_BATCH_SIZE, repeat=True):\n",
        "        data = []\n",
        "        labels = []\n",
        "        for data_uri in tqdm.tqdm(tf.io.gfile.glob(pattern=data_dir)):\n",
        "            with tf.io.gfile.GFile(name=data_uri, mode=\"r\") as gfile:\n",
        "                for line in gfile.readlines():\n",
        "                    instance = json.loads(line)\n",
        "                    data.append(instance[\"imageGcsUri\"])\n",
        "                    classification_annotation = instance[\"classificationAnnotations\"][0]\n",
        "                    label = classification_annotation[\"displayName\"]\n",
        "                    labels.append(class_indices[label])\n",
        "\n",
        "        data_dataset = tf.data.Dataset.from_tensor_slices(data)\n",
        "        data_dataset = data_dataset.map(\n",
        "            parse_image, num_parallel_calls=tf.data.experimental.AUTOTUNE\n",
        "        )\n",
        "\n",
        "        label_dataset = tf.data.Dataset.from_tensor_slices(labels)\n",
        "        label_dataset = label_dataset.map(lambda x: tf.one_hot(x, num_classes))\n",
        "\n",
        "        dataset = tf.data.Dataset.zip((data_dataset, label_dataset)).map(scale).cache().shuffle(batch_size * 32)\n",
        "        if repeat:\n",
        "            dataset = dataset.repeat()\n",
        "        dataset = dataset.batch(batch_size)\n",
        "\n",
        "        # Add property to retain the class names\n",
        "        dataset.class_names = class_names\n",
        "\n",
        "        return dataset\n",
        "\n",
        "\n",
        "    logging.info('Prepare training data')\n",
        "    train_dataset = extract(args.train_data_dir)\n",
        "\n",
        "    logging.info('Prepare validation data')\n",
        "    val_dataset = extract(args.val_data_dir, batch_size=1, repeat=False)\n",
        "\n",
        "    return num_classes, train_dataset, val_dataset\n",
        "\n",
        "\n",
        "def get_model(num_classes):\n",
        "    logging.info(\"Get model architecture\")\n",
        "    model = tf.keras.Sequential(\n",
        "        [\n",
        "            tf.keras.layers.Conv2D(\n",
        "                32, 3, activation=\"relu\", input_shape=(args.image_width, args.image_height, 3)\n",
        "            ),\n",
        "            tf.keras.layers.MaxPooling2D(),\n",
        "            tf.keras.layers.Conv2D(32, 3, activation=\"relu\"),\n",
        "            tf.keras.layers.MaxPooling2D(),\n",
        "            tf.keras.layers.Flatten(),\n",
        "            tf.keras.layers.Dense(num_classes, activation=\"softmax\"),\n",
        "        ]\n",
        "    )\n",
        "    model.compile(\n",
        "        loss=tf.keras.losses.categorical_crossentropy,\n",
        "        optimizer=tf.keras.optimizers.SGD(learning_rate=args.lr),\n",
        "        metrics=[\"accuracy\"],\n",
        "    )\n",
        "    return model\n",
        "\n",
        "def train_model(model, train_dataset, val_dataset):\n",
        "    logging.info(\"Start model training\")\n",
        "    history = model.fit(\n",
        "        x=train_dataset, epochs=args.epochs, steps_per_epoch=args.steps, batch_size=args.batch_size, validation_data=val_dataset\n",
        "    )\n",
        "\n",
        "    if args.tuning:\n",
        "        hp_metric = history.history['val_accuracy'][-1]\n",
        "\n",
        "        hpt = hypertune.HyperTune()\n",
        "        hpt.report_hyperparameter_tuning_metric(\n",
        "            hyperparameter_metric_tag='accuracy',\n",
        "            metric_value=hp_metric,\n",
        "            global_step=args.epochs\n",
        "        )\n",
        "\n",
        "    return history\n",
        "\n",
        "num_classes, train_dataset, val_dataset = get_data()\n",
        "with strategy.scope():\n",
        "    model = get_model(num_classes=num_classes)\n",
        "history = train_model(model, train_dataset, val_dataset)\n",
        "\n",
        "logging.info(\"Save the model to: \" + args.model_dir)\n",
        "if args.distribute == 'multiworker':\n",
        "    task_type, task_id = (strategy.cluster_resolver.task_type,\n",
        "                              strategy.cluster_resolver.task_id)\n",
        "else:\n",
        "    task_type, task_id = None, None\n",
        "\n",
        "# single, mirrored or primary for multiworker\n",
        "if _is_chief(task_type, task_id):\n",
        "    model.save(args.model_dir)\n",
        "# non-primary workers for multi-workers\n",
        "else:\n",
        "    # each worker saves their model instance to a unique temp location\n",
        "    worker_dir = args.model_dir + '/workertemp_' + str(task_id)\n",
        "    tf.io.gfile.makedirs(worker_dir)\n",
        "    model.save(worker_dir)"
      ]
    },
    {
      "cell_type": "markdown",
      "metadata": {
        "id": "tarball_training_script"
      },
      "source": [
        "#### Store training script on your Cloud Storage bucket\n",
        "\n",
        "Next, you package the training folder into a compressed tar ball, and then store it in your Cloud Storage bucket."
      ]
    },
    {
      "cell_type": "code",
      "execution_count": null,
      "metadata": {
        "id": "tarball_training_script"
      },
      "outputs": [],
      "source": [
        "! rm -f custom.tar custom.tar.gz\n",
        "! tar cvf custom.tar custom\n",
        "! gzip custom.tar\n",
        "! gsutil cp custom.tar.gz $BUCKET_URI/trainer_flowers.tar.gz"
      ]
    },
    {
      "cell_type": "markdown",
      "metadata": {
        "id": "create_custom_pipeline:icn"
      },
      "source": [
        "## Construct custom training pipeline\n",
        "\n",
        "In the example below, you construct a pipeline for training a custom model using pre-built Google Cloud Pipeline Components for Vertex AI Training, as follows:\n",
        "\n",
        "\n",
        "1. Pipeline arguments, specify the locations of:\n",
        "    - `import_file`: The CSV index file for the dataset.\n",
        "    - `python_package`: The custom training Python package.\n",
        "    - `python_module`: The entry module in the package to execute.\n",
        "\n",
        "\n",
        "2. Use the prebuilt component `ImageDatasetCreateOp` to create a Vertex AI Dataset resource, where:\n",
        "    - The display name for the dataset is passed into the pipeline.\n",
        "    - The import file for the dataset is passed into the pipeline.\n",
        "    - The component returns the dataset resource as `outputs[\"dataset\"]`\n",
        "\n",
        "\n",
        "3. Use the prebuilt component `CustomPythonPackageTrainingJobRunOp` to train a custom model and upload the custom model as a Vertex AI Model resource, where:\n",
        "    - The display name for the dataset is passed into the pipeline.\n",
        "    - The dataset is the output from the `ImageDatasetCreateOp`.\n",
        "    - The python package, command line argument are passed into the pipeline.\n",
        "    - The training and serving containers are specified in the pipeline definition.\n",
        "    - The component returns the model resource as `outputs[\"model\"]`.\n",
        "\n",
        "\n",
        "4. Use the prebuild component `ModelBatchPredictOp` to do a test batch prediction, where:\n",
        "    - The model is the output from the `CustomPythonPackageTrainingJobRunOp`.\n",
        "\n",
        "\n",
        "5. Use the prebuilt component `EndpointCreateOp` to create a Vertex AI Endpoint to deploy the trained model to, where:\n",
        "    - Since the component has no dependencies on other components, by default it would be executed in parallel with the model training.\n",
        "    - The `after(training_op)` is added to serialize its execution, so its only executed if the training operation completes successfully.\n",
        "     - The component returns the endpoint resource as `outputs[\"endpoint\"]`.\n",
        "\n",
        "\n",
        "6. Use the prebuilt component `ModelDeployOp` to deploy the trained Vertex AI model to, where:\n",
        "    - The display name for the dataset is passed into the pipeline.\n",
        "    - The model is the output from the `CustomPythonPackageTrainingJobRunOp`.\n",
        "    - The endpoint is the output from the `EndpointCreateOp`\n",
        "\n",
        "*Note:* Since each component is executed as a graph node in its own execution context, you pass the parameter `project` for each component op, in constrast to doing a `aip.init(project=project)` if this was a Python script calling the SDK methods directly within the same execution context."
      ]
    },
    {
      "cell_type": "code",
      "execution_count": null,
      "metadata": {
        "id": "create_custom_pipeline:icn"
      },
      "outputs": [],
      "source": [
        "PIPELINE_ROOT = \"{}/pipeline_root/custom_icn_training\".format(BUCKET_URI)\n",
        "DEPLOY_COMPUTE = \"n1-standard-4\"\n",
        "\n",
        "# If TRAIN_GPU is None, keeping gpu as no accelerator and accelerator_count as 0\n",
        "gpu = \"ACCELERATOR_TYPE_UNSPECIFIED\"\n",
        "accelerator_count = 0\n",
        "\n",
        "if TRAIN_GPU:\n",
        "    gpu = TRAIN_GPU.name\n",
        "    accelerator_count = 1\n",
        "else:\n",
        "    gpu = \"ACCELERATOR_TYPE_UNSPECIFIED\"  # Unspecified accelerator type, which means no accelerator.\n",
        "    accelerator_count = 0\n",
        "\n",
        "\n",
        "@dsl.pipeline(\n",
        "    name=\"flowers-custom-training\",\n",
        "    description=\"Custom image image classification training\",\n",
        ")\n",
        "def pipeline(\n",
        "    import_file: str,\n",
        "    display_name: str,\n",
        "    batch_files: list,\n",
        "    python_package: str,\n",
        "    python_module: str,\n",
        "    bucket: str = PIPELINE_ROOT,\n",
        "    project: str = PROJECT_ID,\n",
        "    region: str = REGION,\n",
        "):\n",
        "    from google_cloud_pipeline_components import aiplatform as gcc_aip\n",
        "    from google_cloud_pipeline_components.v1.batch_predict_job import \\\n",
        "        ModelBatchPredictOp\n",
        "    from google_cloud_pipeline_components.v1.endpoint import (EndpointCreateOp,\n",
        "                                                              ModelDeployOp)\n",
        "\n",
        "    dataset_op = gcc_aip.ImageDatasetCreateOp(\n",
        "        project=project,\n",
        "        display_name=display_name,\n",
        "        gcs_source=import_file,\n",
        "        import_schema_uri=aip.schema.dataset.ioformat.image.single_label_classification,\n",
        "    )\n",
        "\n",
        "    training_op = gcc_aip.CustomPythonPackageTrainingJobRunOp(\n",
        "        project=project,\n",
        "        display_name=display_name,\n",
        "        dataset=dataset_op.outputs[\"dataset\"],\n",
        "        # Training\n",
        "        python_package_gcs_uri=python_package,\n",
        "        python_module_name=python_module,\n",
        "        container_uri=TRAIN_IMAGE,\n",
        "        staging_bucket=PIPELINE_ROOT,\n",
        "        annotation_schema_uri=aip.schema.dataset.annotation.image.classification,\n",
        "        args=[\"--epochs\", \"50\", \"--image-width\", \"32\", \"--image-height\", \"32\"],\n",
        "        replica_count=1,\n",
        "        machine_type=TRAIN_COMPUTE,\n",
        "        accelerator_type=gpu,\n",
        "        accelerator_count=accelerator_count,\n",
        "        # Serving - As part of this operation, the model is registered to Vertex AI\n",
        "        model_serving_container_image_uri=DEPLOY_IMAGE,\n",
        "        model_display_name=display_name,\n",
        "    )\n",
        "\n",
        "    batch_op = ModelBatchPredictOp(\n",
        "        project=project,\n",
        "        job_display_name=\"batch_predict_job\",\n",
        "        model=training_op.outputs[\"model\"],\n",
        "        gcs_source_uris=batch_files,\n",
        "        gcs_destination_output_uri_prefix=bucket,\n",
        "        instances_format=\"jsonl\",\n",
        "        predictions_format=\"jsonl\",\n",
        "        model_parameters={},\n",
        "        machine_type=DEPLOY_COMPUTE,\n",
        "        starting_replica_count=1,\n",
        "        max_replica_count=1,\n",
        "    )\n",
        "\n",
        "    endpoint_op = EndpointCreateOp(\n",
        "        project=project,\n",
        "        location=region,\n",
        "        display_name=display_name,\n",
        "    ).after(batch_op)\n",
        "\n",
        "    _ = ModelDeployOp(\n",
        "        model=training_op.outputs[\"model\"],\n",
        "        endpoint=endpoint_op.outputs[\"endpoint\"],\n",
        "        dedicated_resources_min_replica_count=1,\n",
        "        dedicated_resources_max_replica_count=1,\n",
        "        dedicated_resources_machine_type=DEPLOY_COMPUTE,\n",
        "    )"
      ]
    },
    {
      "cell_type": "markdown",
      "metadata": {
        "id": "get_test_items:batch_prediction"
      },
      "source": [
        "### Get test item(s)\n",
        "\n",
        "Now do a batch prediction to your Vertex model. You will use arbitrary examples out of the dataset as a test items. Don't be concerned that the examples were likely used in training the model -- we just want to demonstrate how to make a prediction."
      ]
    },
    {
      "cell_type": "code",
      "execution_count": null,
      "metadata": {
        "id": "get_test_items:automl,icn,csv"
      },
      "outputs": [],
      "source": [
        "test_items = !gsutil cat $IMPORT_FILE | head -n2\n",
        "if len(str(test_items[0]).split(\",\")) == 3:\n",
        "    _, test_item_1, test_label_1 = str(test_items[0]).split(\",\")\n",
        "    _, test_item_2, test_label_2 = str(test_items[1]).split(\",\")\n",
        "else:\n",
        "    test_item_1, test_label_1 = str(test_items[0]).split(\",\")\n",
        "    test_item_2, test_label_2 = str(test_items[1]).split(\",\")\n",
        "\n",
        "print(test_item_1, test_label_1)\n",
        "print(test_item_2, test_label_2)"
      ]
    },
    {
      "cell_type": "markdown",
      "metadata": {
        "id": "copy_test_items:batch_prediction"
      },
      "source": [
        "### Copy test item(s)\n",
        "\n",
        "For the batch prediction, copy the test items over to your Cloud Storage bucket."
      ]
    },
    {
      "cell_type": "code",
      "execution_count": null,
      "metadata": {
        "id": "copy_test_items:batch_prediction"
      },
      "outputs": [],
      "source": [
        "file_1 = test_item_1.split(\"/\")[-1]\n",
        "file_2 = test_item_2.split(\"/\")[-1]\n",
        "\n",
        "! gsutil cp $test_item_1 $BUCKET_URI/$file_1\n",
        "! gsutil cp $test_item_2 $BUCKET_URI/$file_2\n",
        "\n",
        "test_item_1 = BUCKET_URI + \"/\" + file_1\n",
        "test_item_2 = BUCKET_URI + \"/\" + file_2"
      ]
    },
    {
      "cell_type": "markdown",
      "metadata": {
        "id": "make_batch_file:automl,image"
      },
      "source": [
        "### Make the batch input file\n",
        "\n",
        "Now make a batch input file, which you will store in your local Cloud Storage bucket. The batch input file can only be in JSONL. For JSONL file, you make one dictionary entry per line for each data item (instance). The dictionary contains the key/value pairs:\n",
        "\n",
        "- `content`: The Cloud Storage path to the image.\n",
        "- `mime_type`: The content type. In our example, it is a `jpeg` file.\n",
        "\n",
        "For example:\n",
        "\n",
        "                        {'content': '[your-bucket]/file1.jpg', 'mime_type': 'jpeg'}"
      ]
    },
    {
      "cell_type": "code",
      "execution_count": null,
      "metadata": {
        "id": "make_batch_file:automl,image"
      },
      "outputs": [],
      "source": [
        "gcs_input_uri = BUCKET_URI + \"/test.jsonl\"\n",
        "with tf.io.gfile.GFile(gcs_input_uri, \"w\") as f:\n",
        "    data = {\"content\": test_item_1, \"mime_type\": \"image/jpeg\"}\n",
        "    f.write(json.dumps(data) + \"\\n\")\n",
        "    data = {\"content\": test_item_2, \"mime_type\": \"image/jpeg\"}\n",
        "    f.write(json.dumps(data) + \"\\n\")\n",
        "\n",
        "print(gcs_input_uri)\n",
        "! gsutil cat $gcs_input_uri"
      ]
    },
    {
      "cell_type": "markdown",
      "metadata": {
        "id": "run_custom_train_pipeline:icn"
      },
      "source": [
        "### Compile and execute the pipeline\n",
        "\n",
        "Next, you compile the pipeline and then exeute it. The pipeline takes the following parameters, which are passed as the dictionary `parameter_values`:\n",
        "\n",
        "- `import_file`: The Cloud Storage path to the dataset index file.\n",
        "- `batch_files`: A list of Cloud Storage paths to the input batch files.\n",
        "- `display_name`: The display name for the generated Vertex AI resources.\n",
        "- `python_package`: The Python package for the custom training job.\n",
        "- `python_module`: The Python module in the package to execute.\n",
        "- `project`: The project ID.\n",
        "- `region`: The region."
      ]
    },
    {
      "cell_type": "code",
      "execution_count": null,
      "metadata": {
        "id": "run_custom_train_pipeline:icn"
      },
      "outputs": [],
      "source": [
        "compiler.Compiler().compile(\n",
        "    pipeline_func=pipeline, package_path=\"custom_icn_training.json\"\n",
        ")\n",
        "\n",
        "pipeline = aip.PipelineJob(\n",
        "    display_name=\"flowers-custom_training\",\n",
        "    template_path=\"custom_icn_training.json\",\n",
        "    pipeline_root=PIPELINE_ROOT,\n",
        "    parameter_values={\n",
        "        \"import_file\": IMPORT_FILE,\n",
        "        \"batch_files\": [gcs_input_uri],\n",
        "        \"display_name\": \"flowers\" + TIMESTAMP,\n",
        "        \"python_package\": f\"{BUCKET_URI}/trainer_flowers.tar.gz\",\n",
        "        \"python_module\": \"trainer.task\",\n",
        "        \"project\": PROJECT_ID,\n",
        "        \"region\": REGION,\n",
        "    },\n",
        ")\n",
        "\n",
        "pipeline.run()\n",
        "\n",
        "! rm -f custom_icn_training.json"
      ]
    },
    {
      "cell_type": "markdown",
      "metadata": {
        "id": "view_pipeline_results:custom,icn"
      },
      "source": [
        "### View custom model training pipeline results\n",
        "\n",
        "Finally, you will view the artifact outputs of each task in the pipeline."
      ]
    },
    {
      "cell_type": "code",
      "execution_count": null,
      "metadata": {
        "id": "view_pipeline_results:custom,icn"
      },
      "outputs": [],
      "source": [
        "PROJECT_NUMBER = pipeline.gca_resource.name.split(\"/\")[1]\n",
        "print(PROJECT_NUMBER)\n",
        "\n",
        "\n",
        "def print_pipeline_output(job, output_task_name):\n",
        "    JOB_ID = job.name\n",
        "    print(JOB_ID)\n",
        "    for _ in range(len(job.gca_resource.job_detail.task_details)):\n",
        "        TASK_ID = job.gca_resource.job_detail.task_details[_].task_id\n",
        "        EXECUTE_OUTPUT = (\n",
        "            PIPELINE_ROOT\n",
        "            + \"/\"\n",
        "            + PROJECT_NUMBER\n",
        "            + \"/\"\n",
        "            + JOB_ID\n",
        "            + \"/\"\n",
        "            + output_task_name\n",
        "            + \"_\"\n",
        "            + str(TASK_ID)\n",
        "            + \"/executor_output.json\"\n",
        "        )\n",
        "        GCP_RESOURCES = (\n",
        "            PIPELINE_ROOT\n",
        "            + \"/\"\n",
        "            + PROJECT_NUMBER\n",
        "            + \"/\"\n",
        "            + JOB_ID\n",
        "            + \"/\"\n",
        "            + output_task_name\n",
        "            + \"_\"\n",
        "            + str(TASK_ID)\n",
        "            + \"/gcp_resources\"\n",
        "        )\n",
        "        EVAL_METRICS = (\n",
        "            PIPELINE_ROOT\n",
        "            + \"/\"\n",
        "            + PROJECT_NUMBER\n",
        "            + \"/\"\n",
        "            + JOB_ID\n",
        "            + \"/\"\n",
        "            + output_task_name\n",
        "            + \"_\"\n",
        "            + str(TASK_ID)\n",
        "            + \"/evaluation_metrics\"\n",
        "        )\n",
        "        if tf.io.gfile.exists(EXECUTE_OUTPUT):\n",
        "            ! gsutil cat $EXECUTE_OUTPUT\n",
        "            return EXECUTE_OUTPUT\n",
        "        elif tf.io.gfile.exists(GCP_RESOURCES):\n",
        "            ! gsutil cat $GCP_RESOURCES\n",
        "            return GCP_RESOURCES\n",
        "        elif tf.io.gfile.exists(EVAL_METRICS):\n",
        "            ! gsutil cat $EVAL_METRICS\n",
        "            return EVAL_METRICS\n",
        "\n",
        "    return None\n",
        "\n",
        "\n",
        "print(\"image-dataset-create\")\n",
        "artifacts = print_pipeline_output(pipeline, \"image-dataset-create\")\n",
        "print(\"\\n\\n\")\n",
        "output = !gsutil cat $artifacts\n",
        "output = json.loads(output[0])\n",
        "dataset_id = output[\"artifacts\"][\"dataset\"][\"artifacts\"][0][\"metadata\"][\"resourceName\"]\n",
        "print(\"\\n\\n\")\n",
        "print(\"custompythonpackagetrainingjob-run\")\n",
        "artifacts = print_pipeline_output(pipeline, \"custompythonpackagetrainingjob-run\")\n",
        "print(\"\\n\\n\")\n",
        "output = !gsutil cat $artifacts\n",
        "output = json.loads(output[0])\n",
        "model_id = output[\"artifacts\"][\"model\"][\"artifacts\"][0][\"metadata\"][\"resourceName\"]\n",
        "print(\"\\n\\n\")\n",
        "print(\"endpoint-create\")\n",
        "artifacts = print_pipeline_output(pipeline, \"endpoint-create\")\n",
        "print(\"\\n\\n\")\n",
        "output = !gsutil cat $artifacts\n",
        "output = json.loads(output[0])\n",
        "endpoint_id = output[\"artifacts\"][\"endpoint\"][\"artifacts\"][0][\"metadata\"][\n",
        "    \"resourceName\"\n",
        "]\n",
        "print(\"model-deploy\")\n",
        "artifacts = print_pipeline_output(pipeline, \"model-deploy\")\n",
        "print(\"\\n\\n\")\n",
        "print(\"model-batch-predict\")\n",
        "artifacts = print_pipeline_output(pipeline, \"model-batch-predict\")\n",
        "output = !gsutil cat $artifacts\n",
        "output = json.loads(output[0])\n",
        "print(\"\\n\\n\")\n",
        "print(\n",
        "    output[\"artifacts\"][\"batchpredictionjob\"][\"artifacts\"][0][\"metadata\"][\n",
        "        \"gcsOutputDirectory\"\n",
        "    ]\n",
        ")\n",
        "output = !gsutil cat $artifacts\n",
        "output = json.loads(output[0])\n",
        "batch_job_id = output[\"artifacts\"][\"batchpredictionjob\"][\"artifacts\"][0][\"metadata\"][\n",
        "    \"resourceName\"\n",
        "]\n",
        "print(\"\\n\\n\")"
      ]
    },
    {
      "cell_type": "markdown",
      "metadata": {
        "id": "delete_pipeline"
      },
      "source": [
        "### Delete a pipeline job\n",
        "\n",
        "After a pipeline job is completed, you can delete the pipeline job with the method `delete()`.  Prior to completion, a pipeline job can be canceled with the method `cancel()`."
      ]
    },
    {
      "cell_type": "code",
      "execution_count": null,
      "metadata": {
        "id": "delete_pipeline"
      },
      "outputs": [],
      "source": [
        "pipeline.delete()"
      ]
    },
    {
      "cell_type": "markdown",
      "metadata": {
        "id": "d614c239d74c"
      },
      "source": [
        "#### Delete the Vertex AI Model, Endpoint and BatchPredictionJob resources\n",
        "\n",
        "Next, delete the daatset, undelpoy and delete the Vertex AI Model, Endpoint and BathPredictionJob resources."
      ]
    },
    {
      "cell_type": "code",
      "execution_count": null,
      "metadata": {
        "id": "417791a1a7e2"
      },
      "outputs": [],
      "source": [
        "dataset = aip.ImageDataset(dataset_id)\n",
        "try:\n",
        "    dataset.delete()\n",
        "except:\n",
        "    pass\n",
        "\n",
        "\n",
        "endpoint = aip.Endpoint(endpoint_id)\n",
        "endpoint.undeploy_all()\n",
        "try:\n",
        "    endpoint.delete()\n",
        "except:\n",
        "    pass\n",
        "\n",
        "model = aip.Model(model_id)\n",
        "try:\n",
        "    model.delete()\n",
        "except:\n",
        "    pass\n",
        "\n",
        "batch_job = aip.BatchPredictionJob(batch_job_id)\n",
        "batch_job.delete()"
      ]
    },
    {
      "cell_type": "markdown",
      "metadata": {
        "id": "create_custom_training_job_op_from_component:intro"
      },
      "source": [
        "## Using `create_custom_training_job_op_from_component`\n",
        "\n",
        "An alternative approach is for you to create your own component to do custom training, instead of creating a Python package and executing it with a `CustomPythonPackageTrainingOp`. In this case, what would have been inside the Python package is instead directly embedded in your component.\n",
        "\n",
        "You might do this for example if you are early on in the development of the training package and you want speed and convenience over scaling. One issue with this is that when executed it will only be seen and tracked as a component artifact, versus being seen and tracked as a CustomTrainingJob.\n",
        "\n",
        "The utility `google_cloud_pipeline_components.experimental.custom_job.utils.create_custom_training_job_op_from_component` provides you the benefits of both. This utility takes as input your custom training component and outputs a conversion to a `CustomTrainingJobOp` component."
      ]
    },
    {
      "cell_type": "markdown",
      "metadata": {
        "id": "create_component:custom_train_model"
      },
      "source": [
        "### Create a custom training job component\n",
        "\n",
        "First, you create a custom training component `custom_train_model`. In this component, you will use a very simple script to train a CIFAR-10 model. The script has very few bells and whistles otherthan:\n",
        "\n",
        "- Setting the learning rate, number of epochs, batch size and number of steps per epoch as parameters to your component.\n",
        "- Setting the Cloud Storage location to save the trained model artifacts to.\n",
        "\n",
        "Note, you set the default value of `model_dir` to a null string. The reason you do this, is that the training service may alternately specifiy the location with the environment variable `AIP_MODEL_DIR`. The code logic is: if the paraneter `model_dir` is set (non-empty), use that value; otherwise use the location specified by the environment variable `AIP_MODEL_DIR`.\n",
        "\n",
        "Once the model is trained, you need to know where the model artifacts are located. Since their location can be either that of the `model_dir` parameter or the environment variable `AIP_MODEL_DIR`. You do this with the component `model_artifacts()`. If the `model_dir` parameter is non-empty, then return its value; otherwise construct the value of AIP_MODEL_DIR setting from the `base_output_directory` parameter."
      ]
    },
    {
      "cell_type": "code",
      "execution_count": null,
      "metadata": {
        "id": "create_component:custom_train_model"
      },
      "outputs": [],
      "source": [
        "from google_cloud_pipeline_components.v1.custom_job import utils\n",
        "\n",
        "\n",
        "@component(\n",
        "    base_image=\"tensorflow/tensorflow:latest\",\n",
        "    packages_to_install=[\"tensorflow_datasets\"],\n",
        ")\n",
        "def custom_train_model(\n",
        "    model_dir: str = \"\",\n",
        "    lr: float = 0.01,\n",
        "    epochs: int = 10,\n",
        "    steps: int = 200,\n",
        "    batch_size: int = 64,\n",
        "):\n",
        "    import os\n",
        "\n",
        "    import tensorflow as tf\n",
        "    import tensorflow_datasets as tfds\n",
        "\n",
        "    if model_dir == \"\":\n",
        "        model_dir = os.getenv(\"AIP_MODEL_DIR\")\n",
        "\n",
        "    # Preparing dataset\n",
        "    BUFFER_SIZE = 10000\n",
        "\n",
        "    def get_data():\n",
        "\n",
        "        # Scaling CIFAR10 data from (0, 255] to (0., 1.]\n",
        "        def scale(image, label):\n",
        "            image = tf.cast(image, tf.float32)\n",
        "            image /= 255.0\n",
        "            return image, label\n",
        "\n",
        "        datasets, info = tfds.load(name=\"cifar10\", with_info=True, as_supervised=True)\n",
        "        return datasets[\"train\"].map(scale).cache().shuffle(BUFFER_SIZE).repeat()\n",
        "\n",
        "    # Build the Keras model\n",
        "    def get_model():\n",
        "        model = tf.keras.Sequential(\n",
        "            [\n",
        "                tf.keras.layers.Conv2D(\n",
        "                    32, 3, activation=\"relu\", input_shape=(32, 32, 3)\n",
        "                ),\n",
        "                tf.keras.layers.MaxPooling2D(),\n",
        "                tf.keras.layers.Conv2D(32, 3, activation=\"relu\"),\n",
        "                tf.keras.layers.MaxPooling2D(),\n",
        "                tf.keras.layers.Flatten(),\n",
        "                tf.keras.layers.Dense(10, activation=\"softmax\"),\n",
        "            ]\n",
        "        )\n",
        "        model.compile(\n",
        "            loss=tf.keras.losses.sparse_categorical_crossentropy,\n",
        "            optimizer=tf.keras.optimizers.SGD(learning_rate=lr),\n",
        "            metrics=[\"accuracy\"],\n",
        "        )\n",
        "        return model\n",
        "\n",
        "    def train_model(model, train_dataset):\n",
        "        model.fit(x=train_dataset, epochs=epochs, steps_per_epoch=steps)\n",
        "        return model\n",
        "\n",
        "    train_dataset = get_data().batch(batch_size)\n",
        "\n",
        "    model = get_model()\n",
        "\n",
        "    model = train_model(model, train_dataset)\n",
        "\n",
        "    model.save(model_dir)\n",
        "\n",
        "\n",
        "@component()\n",
        "def model_artifacts(model_dir: str, base_output_directory: str) -> str:\n",
        "    # location of model artifacts overridden by model_dir parameter\n",
        "    if model_dir != \"\":\n",
        "        return model_dir\n",
        "    # location of model artifacts specified by base_output_directory\n",
        "    else:\n",
        "        return base_output_directory + \"/model\""
      ]
    },
    {
      "cell_type": "markdown",
      "metadata": {
        "id": "create_custom_training_job_op_from_component"
      },
      "source": [
        "### Convert your custom training component to a predefined CustomTrainingJobOp component\n",
        "\n",
        "Next, use the utility to convert your custom training component to a CustomTrainingJobOp component, as the required parameter. There are some additional optional keyword parameters to overide default settings in the worker pool specification, service account, and optional setting tensorboard instance and encryption key.\n",
        "\n",
        "Learn more about [create_custom_training_job_op_from_component reference](https://google-cloud-pipeline-components.readthedocs.io/en/google-cloud-pipeline-components-0.2.0/google_cloud_pipeline_components.experimental.custom_job.html)"
      ]
    },
    {
      "cell_type": "code",
      "execution_count": null,
      "metadata": {
        "id": "create_custom_training_job_op_from_component"
      },
      "outputs": [],
      "source": [
        "custom_job_training_op = utils.create_custom_training_job_op_from_component(\n",
        "    custom_train_model, replica_count=1\n",
        ")"
      ]
    },
    {
      "cell_type": "markdown",
      "metadata": {
        "id": "create_custom_pipeline:custom_train_op"
      },
      "source": [
        "## Construct custom training pipeline\n",
        "\n",
        "In the example below, you construct a pipeline for training a custom model using:\n",
        "\n",
        "1. Pipeline arguments, specify the locations of:\n",
        "    - `display_name`: The human readable name for the model and endpoint.\n",
        "    - `model_dir`: Optionally location (override) for saving the model artifacts\n",
        "    - `epochs`: The number of epochs.\n",
        "    - `steps`: The number of steps per epoch.\n",
        "    - `lr`: The learning rate.\n",
        "    - `project`: The project for executing the pipeline components.\n",
        "    - `location`: The location for executing the pipeline components.\n",
        "    - `deploy_image`: The serving container.\n",
        "\n",
        "\n",
        "2. Use the converted `custom_job_training_op` to train the custom model.\n",
        "    - If model_dir is non-empty string, it will override the setting of base_output_directory.\n",
        "\n",
        "3. Use the custom component `model_artifacts` to determine the location of the model artifacts.\n",
        "    - If model_dir is non-empty string, return its location.\n",
        "    - Otherwise, return the derived location from base_output_directory.\n",
        "\n",
        "4. Use the prebuilt component `ModelUploadOp` to create a `Vertex AI Model` resource from the model artifacts.\n",
        "    - The location of the model artifacts is the output from the component `model_artifacts`.\n",
        "    - The `after(custom_job_op)` is added to serialize its execution, so its only executed if the training operation completes successfully.\n",
        "\n",
        "5. Use the prebuilt component `EndpointCreateOp` to create a `Vertex AI Endpoint` to deploy the trained model to, where:\n",
        "    - Since the component has no dependencies on other components, by default it would be executed in parallel with the model training.\n",
        "    - The `after(model_op)` is added to serialize its execution, so its only executed if the training operation completes successfully.\n",
        "     - The component returns the endpoint resource as `outputs[\"endpoint\"]`.\n",
        "\n",
        "6. Use the prebuilt component `ModelDeployOp` to deploy the trained `Vertex AI Model` to, where:\n",
        "    - The display name for the dataset is passed into the pipeline.\n",
        "    - The model is the output from the `ModelUploadOp`.\n",
        "    - The endpoint is the output from the `EndpointCreateOp`."
      ]
    },
    {
      "cell_type": "code",
      "execution_count": null,
      "metadata": {
        "id": "create_custom_pipeline:custom_train_op"
      },
      "outputs": [],
      "source": [
        "PIPELINE_ROOT = \"{}/pipeline_root/custom_cifar10_training\".format(BUCKET_URI)\n",
        "\n",
        "\n",
        "@dsl.pipeline(name=\"custom-model-training-sample-pipeline\")\n",
        "def pipeline(\n",
        "    display_name: str,\n",
        "    model_dir: str = \"\",\n",
        "    lr: float = 0.01,\n",
        "    epochs: int = 10,\n",
        "    steps: int = 200,\n",
        "    project: str = PROJECT_ID,\n",
        "    location: str = REGION,\n",
        "    deploy_image: str = \"us-docker.pkg.dev/cloud-aiplatform/prediction/tf2-cpu.2-3:latest\",\n",
        "):\n",
        "    from google_cloud_pipeline_components import aiplatform as gcc_aip\n",
        "\n",
        "    custom_job_op = custom_job_training_op(\n",
        "        model_dir=model_dir,\n",
        "        lr=lr,\n",
        "        epochs=epochs,\n",
        "        steps=steps,\n",
        "        project=project,\n",
        "        location=location,\n",
        "        base_output_directory=PIPELINE_ROOT,\n",
        "    )\n",
        "\n",
        "    artifacts_op = model_artifacts(model_dir, PIPELINE_ROOT)\n",
        "\n",
        "    model_upload_op = gcc_aip.ModelUploadOp(\n",
        "        project=project,\n",
        "        display_name=display_name,\n",
        "        artifact_uri=artifacts_op.output,\n",
        "        serving_container_image_uri=deploy_image,\n",
        "    ).after(custom_job_op)\n",
        "\n",
        "    endpoint_op = gcc_aip.EndpointCreateOp(\n",
        "        project=project,\n",
        "        location=location,\n",
        "        display_name=display_name,\n",
        "    ).after(model_upload_op)\n",
        "\n",
        "    _ = gcc_aip.ModelDeployOp(\n",
        "        model=model_upload_op.outputs[\"model\"],\n",
        "        endpoint=endpoint_op.outputs[\"endpoint\"],\n",
        "        dedicated_resources_min_replica_count=1,\n",
        "        dedicated_resources_max_replica_count=1,\n",
        "        dedicated_resources_machine_type=DEPLOY_COMPUTE,\n",
        "    )"
      ]
    },
    {
      "cell_type": "markdown",
      "metadata": {
        "id": "run_custom_train_pipeline:custom_train_job"
      },
      "source": [
        "### Compile and execute the pipeline\n",
        "\n",
        "Next, you compile the pipeline and then exeute it. The pipeline takes the following parameters, which are passed as the dictionary `parameter_values`:\n",
        "\n",
        "- `display_name`: The display name for the generated Vertex AI resources.\n",
        "- `epochs`: The number of epochs.\n",
        "- `project`: The project ID.\n",
        "- `region`: The region.\n",
        "\n",
        "*Note:* In this execution, you do not override the location of the model artifacts -- i.e., model_dir parameter is a null string."
      ]
    },
    {
      "cell_type": "code",
      "execution_count": null,
      "metadata": {
        "id": "run_custom_train_pipeline:custom_train_job"
      },
      "outputs": [],
      "source": [
        "compiler.Compiler().compile(\n",
        "    pipeline_func=pipeline, package_path=\"custom_cifar10_training.json\"\n",
        ")\n",
        "\n",
        "pipeline = aip.PipelineJob(\n",
        "    display_name=\"cifar10-custom_training\",\n",
        "    template_path=\"custom_cifar10_training.json\",\n",
        "    pipeline_root=PIPELINE_ROOT,\n",
        "    parameter_values={\n",
        "        \"display_name\": \"simple-example\",\n",
        "        \"epochs\": 20,\n",
        "        \"project\": PROJECT_ID,\n",
        "        \"location\": REGION,\n",
        "    },\n",
        ")\n",
        "\n",
        "pipeline.run()\n",
        "\n",
        "! rm -f custom_cifar10_training.json"
      ]
    },
    {
      "cell_type": "markdown",
      "metadata": {
        "id": "view_pipeline_results:custom_train_job"
      },
      "source": [
        "### View custom model training pipeline results\n",
        "\n",
        "Finally, you will view the artifact outputs of each task in the pipeline."
      ]
    },
    {
      "cell_type": "code",
      "execution_count": null,
      "metadata": {
        "id": "view_pipeline_results:custom_train_job"
      },
      "outputs": [],
      "source": [
        "PROJECT_NUMBER = pipeline.gca_resource.name.split(\"/\")[1]\n",
        "print(PROJECT_NUMBER)\n",
        "\n",
        "print(\"custom-train-model\")\n",
        "artifacts = print_pipeline_output(pipeline, \"custom-train-model\")\n",
        "print(\"\\n\\n\")\n",
        "print(\"model-artifacts\")\n",
        "artifacts = print_pipeline_output(pipeline, \"model-artifacts\")\n",
        "print(\"\\n\\n\")\n",
        "print(\"model-upload\")\n",
        "artifacts = print_pipeline_output(pipeline, \"model-upload\")\n",
        "print(\"\\n\\n\")\n",
        "output = !gsutil cat $artifacts\n",
        "output = json.loads(output[0])\n",
        "model_id = output[\"artifacts\"][\"model\"][\"artifacts\"][0][\"metadata\"][\"resourceName\"]\n",
        "print(\"endpoint-create\")\n",
        "artifacts = print_pipeline_output(pipeline, \"endpoint-create\")\n",
        "print(\"\\n\\n\")\n",
        "output = !gsutil cat $artifacts\n",
        "output = json.loads(output[0])\n",
        "endpoint_id = output[\"artifacts\"][\"endpoint\"][\"artifacts\"][0][\"metadata\"][\n",
        "    \"resourceName\"\n",
        "]\n",
        "print(\"model-deploy\")\n",
        "artifacts = print_pipeline_output(pipeline, \"model-deploy\")\n",
        "print(\"\\n\\n\")"
      ]
    },
    {
      "cell_type": "markdown",
      "metadata": {
        "id": "delete_pipeline"
      },
      "source": [
        "### Delete a pipeline job\n",
        "\n",
        "After a pipeline job is completed, you can delete the pipeline job with the method `delete()`.  Prior to completion, a pipeline job can be canceled with the method `cancel()`."
      ]
    },
    {
      "cell_type": "code",
      "execution_count": null,
      "metadata": {
        "id": "delete_pipeline"
      },
      "outputs": [],
      "source": [
        "pipeline.delete()"
      ]
    },
    {
      "cell_type": "markdown",
      "metadata": {
        "id": "93e69fc8b9e3"
      },
      "source": [
        "#### Delete the Vertex AI Model and Endpoint resource\n",
        "\n",
        "Next, undelpoy and delete the Vertex AI Model and Endpoint resources."
      ]
    },
    {
      "cell_type": "markdown",
      "metadata": {
        "id": "c9d18ae084b1"
      },
      "source": [
        "#### Delete the Vertex model and endpoint\n",
        "\n",
        "Next, undelpoy and delete the Vertex Model and Endpoint resource."
      ]
    },
    {
      "cell_type": "code",
      "execution_count": null,
      "metadata": {
        "id": "dccf71121d0b"
      },
      "outputs": [],
      "source": [
        "endpoint.undeploy_all()\n",
        "try:\n",
        "    endpoint.delete()\n",
        "except:\n",
        "    pass\n",
        "\n",
        "model = aip.Model(model_id)\n",
        "try:\n",
        "    model.delete()\n",
        "except:\n",
        "    pass"
      ]
    },
    {
      "cell_type": "markdown",
      "metadata": {
        "id": "cleanup:mbsdk"
      },
      "source": [
        "# Cleaning up\n",
        "\n",
        "To clean up all Google Cloud resources used in this project, you can [delete the Google Cloud\n",
        "project](https://cloud.google.com/resource-manager/docs/creating-managing-projects#shutting_down_projects) you used for the tutorial.\n",
        "\n",
        "Otherwise, you can delete the individual resources you created in this tutorial."
      ]
    },
    {
      "cell_type": "code",
      "execution_count": null,
      "metadata": {
        "id": "cleanup:mbsdk"
      },
      "outputs": [],
      "source": [
        "delete_bucket = False\n",
        "\n",
        "if delete_bucket or os.getenv(\"IS_TESTING\"):\n",
        "    ! gsutil rm -r $BUCKET_URI"
      ]
    }
  ],
  "metadata": {
    "colab": {
      "name": "get_started_with_custom_training_pipeline_components.ipynb",
      "toc_visible": true
    },
    "kernelspec": {
      "display_name": "Python 3",
      "name": "python3"
    }
  },
  "nbformat": 4,
  "nbformat_minor": 0
}
