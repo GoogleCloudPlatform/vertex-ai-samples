{
  "cells": [
    {
      "cell_type": "code",
      "execution_count": null,
      "metadata": {
        "id": "copyright"
      },
      "outputs": [],
      "source": [
        "# Copyright 2022 Google LLC\n",
        "#\n",
        "# Licensed under the Apache License, Version 2.0 (the \"License\");\n",
        "# you may not use this file except in compliance with the License.\n",
        "# You may obtain a copy of the License at\n",
        "#\n",
        "#     https://www.apache.org/licenses/LICENSE-2.0\n",
        "#\n",
        "# Unless required by applicable law or agreed to in writing, software\n",
        "# distributed under the License is distributed on an \"AS IS\" BASIS,\n",
        "# WITHOUT WARRANTIES OR CONDITIONS OF ANY KIND, either express or implied.\n",
        "# See the License for the specific language governing permissions and\n",
        "# limitations under the License."
      ]
    },
    {
      "cell_type": "markdown",
      "metadata": {
        "id": "3f8c2f702ccd"
      },
      "source": [
        "This notebook is an updated version of a notebook contributed by [Mohammad Al-Ansari](https://github.com/Mansari). Special thanks to [Andrew Ferlitsch](https://github.com/andrewferlitsch) for his reviews and edits.\n",
        "\n",
        "This is an extension of the [Vertex AI SDK for Python: AutoML training text entity extraction model for online prediction notebook](https://github.com/GoogleCloudPlatform/vertex-ai-samples/blob/main/notebooks/official/automl/sdk_automl_text_entity_extraction_online.ipynb) originally co-authored by [Andrew Ferlitsch](https://github.com/andrewferlitsch) and [\n",
        "Karl Weinmeister](https://github.com/kweinmeister). This version add the use of `Vision API` and `BigQuery` to preprocess a `Vertex AI AutoML` dataset for text entity extraction model training."
      ]
    },
    {
      "cell_type": "markdown",
      "metadata": {
        "id": "title"
      },
      "source": [
        "# E2E ML on GCP: MLOps stage 2 : experiments: get started Vision API test preprocessing and AutoML text model generation\n",
        "\n",
        "<table align=\"left\">\n",
        "  <td>\n",
        "    <a href=\"https://colab.research.google.com/github/GoogleCloudPlatform/vertex-ai-samples/blob/main/notebooks/community/ml_ops/stage2/get_started_with_visionapi_and_automl.ipynb\">\n",
        "      <img src=\"https://cloud.google.com/ml-engine/images/colab-logo-32px.png\" alt=\"Colab logo\"> Run in Colab\n",
        "    </a>\n",
        "  </td>\n",
        "  <td>\n",
        "    <a href=\"https://github.com/GoogleCloudPlatform/vertex-ai-samples/blob/main/notebooks/community/ml_ops/stage2/get_started_with_visionapi_and_automl.ipynb\">\n",
        "      <img src=\"https://cloud.google.com/ml-engine/images/github-logo-32px.png\" alt=\"GitHub logo\">\n",
        "      View on GitHub\n",
        "    </a>\n",
        "  </td>\n",
        "  <td>\n",
        "    <a href=\"https://console.cloud.google.com/vertex-ai/workbench/deploy-notebook?download_url=https://raw.githubusercontent.com/GoogleCloudPlatform/vertex-ai-samples/main/notebooks/community/ml_ops/stage2/get_started_with_visionapi_and_automl.ipynb\">\n",
        "     <img src=\"https://lh3.googleusercontent.com/UiNooY4LUgW_oTvpsNhPpQzsstV5W8F7rYgxgGBD85cWJoLmrOzhVs_ksK_vgx40SHs7jCqkTkCk=e14-rj-sc0xffffff-h130-w32\" alt=\"Vertex AI logo\">\n",
        "      Open in Vertex AI Workbench\n",
        "    </a>\n",
        "  </td>\n",
        "</table>\n",
        "<br/><br/><br/>"
      ]
    },
    {
      "cell_type": "markdown",
      "metadata": {
        "id": "overview:automl"
      },
      "source": [
        "## Overview\n",
        "\n",
        "This tutorial demonstrates how to use `BigQuery`, `Vision AI`, and `Vertex AI SDK` for Python to train a text entity extraction model based on existing training data."
      ]
    },
    {
      "cell_type": "markdown",
      "metadata": {
        "id": "objective:automl,training,online_prediction"
      },
      "source": [
        "### Objective\n",
        "\n",
        "In this tutorial, you create an `AutoML` text entity extraction model pre-existing extracted data by generating a custom import file. You deploy this mode for online prediction from a Python script using the `BigQuery`, `Vision AI`, Cloud Storage and `Vertex AI SDK` for Python. You can alternatively create and deploy models using the `gcloud` command-line tool or online using the Cloud Console.\n",
        "\n",
        "Using existing training data that have been previously annotated can be very useful in training a model, as it allows you to use a larger data set with minimal resources.\n",
        "\n",
        "This tutorial uses the following Google Cloud services:\n",
        "\n",
        "- `BigQuery`\n",
        "- `Vision AI`\n",
        "- `Vertex AI AutoML`\n",
        "\n",
        "The steps performed include:\n",
        "\n",
        "- Preprocess training files using `Vision AI` APIs to extract the text from PDF files.\n",
        "- Create a custom import file that includes annotation data based on the sample `BigQuery` dataset.\n",
        "- Create a `Vertex AI Dataset` resource.\n",
        "- Train the model.\n",
        "- View the model evaluation.\n",
        "- Deploy the `Vertex AI Model` resource to a serving `Endpoint` resource.\n",
        "- Make a prediction.\n",
        "- Undeploy the `Model`."
      ]
    },
    {
      "cell_type": "markdown",
      "metadata": {
        "id": "dataset:biomedical,ten"
      },
      "source": [
        "### Dataset\n",
        "\n",
        "The dataset used for this tutorial is the [Patent PDF Samples with Extracted Structured Data](https://console.cloud.google.com/marketplace/product/global-patents/labeled-patents) from Google Public Data Sets. \n",
        "\n",
        "This dataset includes data extracted from over 300 patent documents issued in the US and EU. The dataset includes links to Cloud Storage blobs for the first page of each patent, in addition to a number of extracted entities. \n",
        "\n",
        "The data is published as a [public dataset](https://cloud.google.com/bigquery/public-data) on `BigQuery`."
      ]
    },
    {
      "cell_type": "markdown",
      "metadata": {
        "id": "costs"
      },
      "source": [
        "### Costs\n",
        "\n",
        "This tutorial uses billable components of Google Cloud:\n",
        "\n",
        "* BigQuery\n",
        "* Vision API\n",
        "* Vertex AI\n",
        "* Cloud Storage\n",
        "\n",
        "Learn about [Vertex AI\n",
        "pricing](https://cloud.google.com/vertex-ai/pricing), [Vision API pricing](https://cloud.google.com/vision/pricing), [BigQuery pricing](https://cloud.google.com/bigquery/pricing), [Cloud Storage\n",
        "pricing](https://cloud.google.com/storage/pricing), and use the [Pricing\n",
        "Calculator](https://cloud.google.com/products/calculator/)\n",
        "to generate a cost estimate based on your projected usage."
      ]
    },
    {
      "cell_type": "markdown",
      "metadata": {
        "id": "setup_local"
      },
      "source": [
        "### Set up your local development environment\n",
        "\n",
        "If you are using Colab or Vertex AI Workbench Notebooks, your environment already meets all the requirements to run this notebook.  \n",
        "\n",
        "Otherwise, make sure your environment meets this notebook's requirements. You need the following:\n",
        "\n",
        "- The BigQuery SDK\n",
        "- The Vision API SDK\n",
        "- The Vertex AI SDK\n",
        "- The Cloud Storage SDK\n",
        "- Git\n",
        "- Python 3\n",
        "- virtualenv\n",
        "- Jupyter notebook running in a virtual environment with Python 3\n",
        "\n",
        "The Cloud Storage guide to [Setting up a Python development environment](https://cloud.google.com/python/setup) and the [Jupyter installation guide](https://jupyter.org/install) provide detailed instructions for meeting these requirements. The following steps provide a condensed set of instructions:\n",
        "\n",
        "1. [Install and initialize the SDKs](https://cloud.google.com/sdk/docs/).\n",
        "\n",
        "2. [Install Python 3](https://cloud.google.com/python/setup#installing_python).\n",
        "\n",
        "3. [Install virtualenv](https://cloud.google.com/python/setup#installing_and_using_virtualenv) and create a virtual environment that uses Python 3.  Activate the virtual environment.\n",
        "\n",
        "4. To install Jupyter, run `pip3 install jupyter` on the command-line in a terminal shell.\n",
        "\n",
        "5. To launch Jupyter, run `jupyter notebook` on the command-line in a terminal shell.\n",
        "\n",
        "6. Open this notebook in the Jupyter Notebook Dashboard.\n"
      ]
    },
    {
      "cell_type": "markdown",
      "metadata": {
        "id": "install_aip:mbsdk"
      },
      "source": [
        "## Installation\n",
        "\n",
        "Install the packages required for executing this notebook. You can ignore errors for the `pip` dependecy resolver as they do not impact this notebook."
      ]
    },
    {
      "cell_type": "code",
      "execution_count": null,
      "metadata": {
        "id": "7jyX6N_KVQtd"
      },
      "outputs": [],
      "source": [
        "import os\n",
        "\n",
        "# The Vertex AI Workbench Notebook product has specific requirements\n",
        "IS_WORKBENCH_NOTEBOOK = os.getenv(\"DL_ANACONDA_HOME\") and not os.getenv(\"VIRTUAL_ENV\")\n",
        "IS_USER_MANAGED_WORKBENCH_NOTEBOOK = os.path.exists(\n",
        "    \"/opt/deeplearning/metadata/env_version\"\n",
        ")\n",
        "\n",
        "# Vertex AI Notebook requires dependencies to be installed with '--user'\n",
        "USER_FLAG = \"\"\n",
        "if IS_WORKBENCH_NOTEBOOK:\n",
        "    USER_FLAG = \"--user\"\n",
        "\n",
        "! pip3 install --upgrade google-cloud-aiplatform google-cloud-bigquery google-cloud-vision google-cloud-storage pandas $USER_FLAG -q"
      ]
    },
    {
      "cell_type": "markdown",
      "metadata": {
        "id": "restart"
      },
      "source": [
        "### Restart the kernel\n",
        "\n",
        "Once you've installed the additional packages, you need to restart the notebook kernel so it can find the packages."
      ]
    },
    {
      "cell_type": "code",
      "execution_count": null,
      "metadata": {
        "id": "aotmuladxKSU"
      },
      "outputs": [],
      "source": [
        "import os\n",
        "\n",
        "if not os.getenv(\"IS_TESTING\"):\n",
        "    # Automatically restart kernel after installs\n",
        "    import IPython\n",
        "\n",
        "    app = IPython.Application.instance()\n",
        "    app.kernel.do_shutdown(True)"
      ]
    },
    {
      "cell_type": "markdown",
      "metadata": {
        "id": "before_you_begin"
      },
      "source": [
        "## Before you begin\n",
        "\n",
        "### GPU runtime\n",
        "\n",
        "*Make sure you're running this notebook in a GPU runtime if you have that option. In Colab, select* **Runtime > Change Runtime Type > GPU**\n",
        "\n",
        "### Set up your Google Cloud project\n",
        "\n",
        "**The following steps are required, regardless of your notebook environment.**\n",
        "\n",
        "1. [Select or create a Google Cloud project](https://console.cloud.google.com/cloud-resource-manager). When you first create an account, you get a $300 free credit towards your compute/storage costs.\n",
        "\n",
        "2. [Make sure that billing is enabled for your project.](https://cloud.google.com/billing/docs/how-to/modify-project)\n",
        "\n",
        "3. [Enable the following APIs: BigQuery APIs, Vision API, Vertex AI APIs, Compute Engine APIs, and Cloud Storage.](https://console.cloud.google.com/flows/enableapi?apiid=bigquery.googleapis.com,vision.googleapis.com,aiplatform.googleapis.com,compute_component,storage-component.googleapis.com)\n",
        "\n",
        "4. If you are running this notebook locally, you need to install the [Cloud SDK]((https://cloud.google.com/sdk)).\n",
        "\n",
        "5. Enter your project ID in the cell below. Then run the  cell to make sure the\n",
        "Cloud SDK uses the right project for all the commands in this notebook.\n",
        "\n",
        "**Note**: Jupyter runs lines prefixed with `!` as shell commands, and it interpolates Python variables prefixed with `$`."
      ]
    },
    {
      "cell_type": "markdown",
      "metadata": {
        "id": "WReHDGG5g0XY"
      },
      "source": [
        "#### Set your project ID\n",
        "\n",
        "**If you don't know your project ID**, you may be able to get your project ID using `gcloud`."
      ]
    },
    {
      "cell_type": "code",
      "execution_count": null,
      "metadata": {
        "id": "set_project_id"
      },
      "outputs": [],
      "source": [
        "PROJECT_ID = \"[your-project-id]\"  # @param {type:\"string\"}"
      ]
    },
    {
      "cell_type": "code",
      "execution_count": null,
      "metadata": {
        "id": "autoset_project_id"
      },
      "outputs": [],
      "source": [
        "if PROJECT_ID == \"\" or PROJECT_ID is None or PROJECT_ID == \"[your-project-id]\":\n",
        "    # Get your GCP project id from gcloud\n",
        "    shell_output = ! gcloud config list --format 'value(core.project)' 2>/dev/null\n",
        "    PROJECT_ID = shell_output[0]\n",
        "    print(\"Project ID:\", PROJECT_ID)"
      ]
    },
    {
      "cell_type": "code",
      "execution_count": null,
      "metadata": {
        "id": "set_gcloud_project_id"
      },
      "outputs": [],
      "source": [
        "! gcloud config set project $PROJECT_ID"
      ]
    },
    {
      "cell_type": "markdown",
      "metadata": {
        "id": "rcry99vMdnvS"
      },
      "source": [
        "### Regions\n",
        "\n",
        "#### Vision AI\n",
        "\n",
        "You can now specify continent-level data storage and Optical Character Regonition (OCR) processing by setting the `VISION_AI_REGION` variable. You can select one of the following options:\n",
        "\n",
        "* USA country only: `us`\n",
        "* The European Union: `eu`\n",
        "\n",
        "Learn more about [Vision AI regions for OCR](https://cloud.google.com/vision/docs/pdf#regionalization)\n",
        "\n",
        "#### Vertex AI\n",
        "\n",
        "You can also change the `VERTEX_AI_REGION` variable, which is used for operations throughout the rest of this notebook.  Below are regions supported for Vertex AI. We recommend that you choose the region closest to you.\n",
        "\n",
        "- Americas: `us-central1`\n",
        "- Europe: `europe-west4`\n",
        "- Asia Pacific: `asia-east1`\n",
        "\n",
        "You may not use a multi-regional bucket for training with Vertex AI. Not all regions provide support for all Vertex AI services.\n",
        "\n",
        "Learn more about [Vertex AI regions](https://cloud.google.com/vertex-ai/docs/general/locations)."
      ]
    },
    {
      "cell_type": "code",
      "execution_count": null,
      "metadata": {
        "id": "i6_Agd6JdVzZ"
      },
      "outputs": [],
      "source": [
        "VISION_AI_REGION = \"[your-region]\"  # @param {type: \"string\"}\n",
        "\n",
        "if VISION_AI_REGION == \"[your-region]\":\n",
        "    VISION_AI_REGION = \"us\"\n",
        "\n",
        "VERTEX_AI_REGION = \"[your-region]\"  # @param {type: \"string\"}\n",
        "\n",
        "if VERTEX_AI_REGION == \"[your-region]\":\n",
        "    VERTEX_AI_REGION = \"us-central1\""
      ]
    },
    {
      "cell_type": "markdown",
      "metadata": {
        "id": "timestamp"
      },
      "source": [
        "### Timestamp\n",
        "\n",
        "If you are in a live tutorial session, you might be using a shared test account or project. To avoid name collisions between users on resources created, you create a timestamp for each instance session, and append the timestamp onto the name of resources you create in this tutorial."
      ]
    },
    {
      "cell_type": "code",
      "execution_count": null,
      "metadata": {
        "id": "EnUihKmWxKSY"
      },
      "outputs": [],
      "source": [
        "from datetime import datetime\n",
        "\n",
        "TIMESTAMP = datetime.now().strftime(\"%Y%m%d%H%M%S\")"
      ]
    },
    {
      "cell_type": "markdown",
      "metadata": {
        "id": "gcp_authenticate"
      },
      "source": [
        "### Authenticate your Google Cloud account\n",
        "\n",
        "**If you are using Vertex AI Workbench**, your environment is already authenticated. Skip this step. If you receive errors still, you may have to grant the service account that is your Workbench notebook is running under access to the services listed below.\n",
        "\n",
        "**If you are using Colab**, run the cell below and follow the instructions when prompted to authenticate your account via oAuth.\n",
        "\n",
        "**Otherwise**, follow these steps:\n",
        "\n",
        "In the Cloud Console, go to the [Create service account key](https://console.cloud.google.com/apis/credentials/serviceaccountkey) page.\n",
        "\n",
        "**Click Create service account**.\n",
        "\n",
        "In the **Service account name** field, enter a name, and click **Create**.\n",
        "\n",
        "In the **Grant this service account access to project** section, click the Role drop-down list. Type \"Vertex\" into the filter box, and select **Vertex AI Administrator**. Type \"Storage Object Admin\" into the filter box, and select **Storage Object Admin**.\n",
        "\n",
        "Click Create. A JSON file that contains your key downloads to your local environment.\n",
        "\n",
        "Enter the path to your service account key as the GOOGLE_APPLICATION_CREDENTIALS variable in the cell below and run the cell."
      ]
    },
    {
      "cell_type": "code",
      "execution_count": null,
      "metadata": {
        "id": "eDVp5emdxKSZ"
      },
      "outputs": [],
      "source": [
        "# If you are running this notebook in Colab, run this cell and follow the\n",
        "# instructions to authenticate your GCP account. This provides access to your\n",
        "# Cloud Storage bucket and lets you submit training jobs and prediction\n",
        "# requests.\n",
        "\n",
        "import os\n",
        "import sys\n",
        "\n",
        "# If on Vertex AI Workbench, then don't execute this code\n",
        "IS_COLAB = False\n",
        "if not os.path.exists(\"/opt/deeplearning/metadata/env_version\") and not os.getenv(\n",
        "    \"DL_ANACONDA_HOME\"\n",
        "):\n",
        "    if \"google.colab\" in sys.modules:\n",
        "        IS_COLAB = True\n",
        "        from google.colab import auth as google_auth\n",
        "\n",
        "        google_auth.authenticate_user()\n",
        "\n",
        "    # If you are running this notebook locally, replace the string below with the\n",
        "    # path to your service account key and run this cell to authenticate your GCP\n",
        "    # account.\n",
        "    elif not os.getenv(\"IS_TESTING\"):\n",
        "        %env GOOGLE_APPLICATION_CREDENTIALS ''"
      ]
    },
    {
      "cell_type": "markdown",
      "metadata": {
        "id": "bucket:mbsdk"
      },
      "source": [
        "### Create a Cloud Storage bucket\n",
        "\n",
        "**The following steps are required, regardless of your notebook environment.**\n",
        "\n",
        "When you initialize the Vertex AI SDK for Python, you specify a Cloud Storage staging bucket. The staging bucket is where all the data associated with your dataset and model resources are retained across sessions. This bucket will be also used to store the output of the Vision API SDK PDF-to-text conversion process.\n",
        "\n",
        "Set the name of your Cloud Storage bucket below. Bucket names must be globally unique across all Google Cloud projects, including those outside of your organization."
      ]
    },
    {
      "cell_type": "code",
      "execution_count": null,
      "metadata": {
        "id": "bucket"
      },
      "outputs": [],
      "source": [
        "BUCKET_NAME = \"[your-bucket-name]\"  # @param {type:\"string\"}\n",
        "BUCKET_URI = f\"gs://{BUCKET_NAME}\""
      ]
    },
    {
      "cell_type": "code",
      "execution_count": null,
      "metadata": {
        "id": "autoset_bucket"
      },
      "outputs": [],
      "source": [
        "if BUCKET_NAME == \"\" or BUCKET_NAME is None or BUCKET_NAME == \"[your-bucket-name]\":\n",
        "    BUCKET_NAME = PROJECT_ID + \"aip-\" + TIMESTAMP\n",
        "    BUCKET_URI = \"gs://\" + BUCKET_NAME"
      ]
    },
    {
      "cell_type": "markdown",
      "metadata": {
        "id": "create_bucket"
      },
      "source": [
        "**Only if your bucket doesn't already exist**: Run the following cell to create your Cloud Storage bucket."
      ]
    },
    {
      "cell_type": "code",
      "execution_count": null,
      "metadata": {
        "id": "8uy78ydExKSa"
      },
      "outputs": [],
      "source": [
        "! gsutil mb -l $VERTEX_AI_REGION -p $PROJECT_ID $BUCKET_URI"
      ]
    },
    {
      "cell_type": "markdown",
      "metadata": {
        "id": "validate_bucket"
      },
      "source": [
        "Finally, validate access to your Cloud Storage bucket by examining its contents:"
      ]
    },
    {
      "cell_type": "code",
      "execution_count": null,
      "metadata": {
        "id": "G5WDF0OrxKSa"
      },
      "outputs": [],
      "source": [
        "! gsutil ls -al $BUCKET_URI"
      ]
    },
    {
      "cell_type": "markdown",
      "metadata": {
        "id": "setup_vars"
      },
      "source": [
        "### Set up variables\n",
        "\n",
        "Next, set up some variables used throughout the tutorial.\n",
        "\n",
        "### Import libraries and define constants"
      ]
    },
    {
      "cell_type": "code",
      "execution_count": null,
      "metadata": {
        "id": "import_aip:mbsdk"
      },
      "outputs": [],
      "source": [
        "import os\n",
        "\n",
        "from google.cloud import aiplatform, bigquery, storage, vision"
      ]
    },
    {
      "cell_type": "markdown",
      "metadata": {
        "id": "init_aip:mbsdk"
      },
      "source": [
        "### Initalize BigQuery SDK for Python\n",
        "\n",
        "Create the BigQuery client."
      ]
    },
    {
      "cell_type": "code",
      "execution_count": null,
      "metadata": {
        "id": "vu8Y9PysWBYx"
      },
      "outputs": [],
      "source": [
        "bq_client = bigquery.Client(project=PROJECT_ID)"
      ]
    },
    {
      "cell_type": "markdown",
      "metadata": {
        "id": "hodnaGMZzhBz"
      },
      "source": [
        "### Initialize Vision API SDK for Python"
      ]
    },
    {
      "cell_type": "code",
      "execution_count": null,
      "metadata": {
        "id": "__ECwMnpcylb"
      },
      "outputs": [],
      "source": [
        "vision_client_options = {\n",
        "    \"quota_project_id\": PROJECT_ID,\n",
        "    \"api_endpoint\": f\"{VISION_AI_REGION}-vision.googleapis.com\",\n",
        "}\n",
        "vision_client = vision.ImageAnnotatorClient(client_options=vision_client_options)"
      ]
    },
    {
      "cell_type": "markdown",
      "metadata": {
        "id": "e0rJHOzNzbXa"
      },
      "source": [
        "### Initialize Vertex AI SDK for Python\n",
        "\n",
        "Initialize the Vertex AI SDK for Python for your project and corresponding bucket."
      ]
    },
    {
      "cell_type": "code",
      "execution_count": null,
      "metadata": {
        "id": "HzhbPWI8xKSa"
      },
      "outputs": [],
      "source": [
        "aiplatform.init(\n",
        "    project=PROJECT_ID, location=VERTEX_AI_REGION, staging_bucket=BUCKET_URI\n",
        ")"
      ]
    },
    {
      "cell_type": "markdown",
      "metadata": {
        "id": "rZFky_jpy-Xe"
      },
      "source": [
        "### Initialize Cloud Storage SDK for Python"
      ]
    },
    {
      "cell_type": "code",
      "execution_count": null,
      "metadata": {
        "id": "M3azitORy-rz"
      },
      "outputs": [],
      "source": [
        "storage_client = storage.Client(project=PROJECT_ID)"
      ]
    },
    {
      "cell_type": "markdown",
      "metadata": {
        "id": "tutorial_start:automl"
      },
      "source": [
        "## Tutorial\n",
        "\n",
        "Now you are ready to start creating your own AutoML text entity extraction model with a custom import file."
      ]
    },
    {
      "cell_type": "markdown",
      "metadata": {
        "id": "Gx_sjaDp2DFP"
      },
      "source": [
        "### Query the Patent PDF Samples dataset\n",
        "\n",
        "First, you run a query to select a subset of the data for your training purposes."
      ]
    },
    {
      "cell_type": "code",
      "execution_count": null,
      "metadata": {
        "id": "S-mD1MzpVyWb"
      },
      "outputs": [],
      "source": [
        "# Select only patents issued in the US and in English\n",
        "query = \"\"\"\n",
        "    SELECT * FROM `bigquery-public-data.labeled_patents.extracted_data`\n",
        "    WHERE issuer = 'US' and language = 'EN'\n",
        "    ORDER BY gcs_path ASC\n",
        "    \"\"\"\n",
        "\n",
        "query_job = bq_client.query(query)\n",
        "\n",
        "# Convert the results into a pandas dataframe\n",
        "results_df = query_job.result().to_dataframe()\n",
        "\n",
        "print(f\"Retrieved {len(results_df)} rows\")"
      ]
    },
    {
      "cell_type": "markdown",
      "metadata": {
        "id": "quick_peek:jsonl"
      },
      "source": [
        "#### Review the data\n",
        "\n",
        "You can take a quick peek at the content of the data by showing the first 5 rows.\n"
      ]
    },
    {
      "cell_type": "code",
      "execution_count": null,
      "metadata": {
        "id": "hesLNvyoxKSc"
      },
      "outputs": [],
      "source": [
        "print(results_df.head(5))"
      ]
    },
    {
      "cell_type": "markdown",
      "metadata": {
        "id": "a4VcC_8kJGM5"
      },
      "source": [
        "The `gcs_path` contains the full path to the PDFs. To make your life easier, you are going to add another column to the data frame that includes the file name only (no extenstion).You do this using a pandas transformation.\n",
        "\n",
        "Learn more about [pandas text manipultion](https://pandas.pydata.org/docs/getting_started/intro_tutorials/index.html)"
      ]
    },
    {
      "cell_type": "code",
      "execution_count": null,
      "metadata": {
        "id": "OAoDw6lRnQaR"
      },
      "outputs": [],
      "source": [
        "# Apply a transformation and store the result in a new column\n",
        "results_df[\"gcs_filename\"] = results_df[\"gcs_path\"].apply(\n",
        "    lambda x: os.path.splitext(os.path.basename(x))[0]\n",
        ")\n",
        "\n",
        "# Take a look at the data to see the newly added filename at the end\n",
        "print(results_df.head(5))"
      ]
    },
    {
      "cell_type": "markdown",
      "metadata": {
        "id": "J82aX94d5BIe"
      },
      "source": [
        "### Create the AutoML dataset import file\n",
        "\n",
        "Now that we have the data ready, we can move to the next step."
      ]
    },
    {
      "cell_type": "markdown",
      "metadata": {
        "id": "import_file:u_dataset,jsonl"
      },
      "source": [
        "#### Preprocess files using Vision API\n",
        "\n",
        "Vertex AI needs plain text for training a text entity extraction model. However, our sample dataset doest not contain the full text that was used to extract the data, but instead contains a link to the PDF version. \n",
        "\n",
        "[Here is a sample of one of the PDF files](https://github.com/GoogleCloudPlatform/vertex-ai-samples/tree/main/notebooks/community/ml_ops/stage2/notebook_resources/get_started_with_visionapi_and_automl/us_001.pdf)\n",
        "\n",
        "You need to convert the PDF files to text so that you can use it in building your annotation file. You use the `Vision AI` document text detection to accomplish this. \n",
        "\n",
        "Learn more about [Detect text in files (PDF/TIFF)](https://cloud.google.com/vision/docs/pdf)."
      ]
    },
    {
      "cell_type": "code",
      "execution_count": null,
      "metadata": {
        "id": "wYwjtiQ2c9o6"
      },
      "outputs": [],
      "source": [
        "# Specify a destination path inside our bucket\n",
        "gcs_destination_path = \"ocr-output\"\n",
        "gcs_destination_uri = f\"{BUCKET_URI}/{gcs_destination_path}\"\n",
        "\n",
        "# Specify the feature for the Vision API processor\n",
        "feature = vision.Feature(type_=vision.Feature.Type.DOCUMENT_TEXT_DETECTION)\n",
        "\n",
        "# Create a collection of requests. The SDK requires a separate request per each\n",
        "# file that we want to extract text from\n",
        "async_requests = []\n",
        "\n",
        "# Build the requests array by iterating through our dataset\n",
        "for i in range(len(results_df)):\n",
        "    gcs_uri = results_df.loc[i, \"gcs_path\"]\n",
        "\n",
        "    # Build input_config\n",
        "    gcs_source = vision.GcsSource(uri=gcs_uri)\n",
        "    input_config = vision.InputConfig(\n",
        "        gcs_source=gcs_source, mime_type=\"application/pdf\"\n",
        "    )\n",
        "\n",
        "    # Build output config\n",
        "    gcs_source_filename = results_df.loc[i, \"gcs_filename\"]\n",
        "    gcs_destination = vision.GcsDestination(\n",
        "        uri=f\"{gcs_destination_uri}/{gcs_source_filename}-\"\n",
        "    )\n",
        "    output_config = vision.OutputConfig(gcs_destination=gcs_destination)\n",
        "\n",
        "    # Build request object and add to the collection\n",
        "    async_request = vision.AsyncAnnotateFileRequest(\n",
        "        features=[feature], input_config=input_config, output_config=output_config\n",
        "    )\n",
        "\n",
        "    async_requests.append(async_request)\n",
        "\n",
        "print(f\"Created {len(async_requests)} requests\")\n",
        "\n",
        "# Submit the batch OCR job\n",
        "operation = vision_client.async_batch_annotate_files(requests=async_requests)\n",
        "print(\"Submitting the batch OCR job\")\n",
        "\n",
        "print(\"Waiting for the operation to finish... this will take a short while\")\n",
        "\n",
        "response = operation.result(timeout=420)\n",
        "\n",
        "print(\"Completed!\")"
      ]
    },
    {
      "cell_type": "markdown",
      "metadata": {
        "id": "5e6q9Nw51QgK"
      },
      "source": [
        "### Generate the import file\n",
        "\n",
        "Since you already have extracted data from the patents, you use this data to generate annotations that you use to train the `AutoML` model. \n",
        "\n",
        "You do this by looking up certain extracted entities in the converted text and then specifiying the location of that text in the document. \n",
        "\n",
        "#### Generate the annotations\n",
        "\n",
        "For the purposes of this tutorial you are only going to annotate three entities: publication data, application number and the first line of the inventor(s) names. You can extend the code to annotate additional entites that are available in the extracted dataset."
      ]
    },
    {
      "cell_type": "code",
      "execution_count": null,
      "metadata": {
        "id": "xKcQvtbKjfXk"
      },
      "outputs": [],
      "source": [
        "import json\n",
        "\n",
        "# Remove the leading gs:// from the bucket name by splitting the name\n",
        "# and taking the second part\n",
        "gcs_bucket_name = BUCKET_URI.split(\"gs://\")[1]\n",
        "\n",
        "output_bucket = storage_client.bucket(gcs_bucket_name)\n",
        "# print(output_bucket)\n",
        "print(\"Creating annotation set based on output text files and dataset\")\n",
        "\n",
        "annotations = []\n",
        "\n",
        "# Loop through the dataset\n",
        "for i in range(len(results_df)):\n",
        "    gcs_uri = results_df.loc[i, \"gcs_path\"]\n",
        "\n",
        "    # For each row, try to read the resulting text file from the output directory\n",
        "    # based on some path name\n",
        "    gcs_output_filename = f\"{results_df.loc[i, 'gcs_filename']}-output-1-to-1.json\"\n",
        "    blob_name = f\"{gcs_destination_path}/{gcs_output_filename}\"\n",
        "    blob = output_bucket.blob(blob_name)\n",
        "    contents = blob.download_as_string()\n",
        "\n",
        "    json_object = json.loads(contents)\n",
        "\n",
        "    full_text = json_object[\"responses\"][0][\"fullTextAnnotation\"][\"text\"]\n",
        "\n",
        "    text_segment_annotations = []\n",
        "\n",
        "    # Prepare labels to be annotated\n",
        "    labels = [\n",
        "        {\n",
        "            \"name\": \"lbl_publication_date\",\n",
        "            \"value\": results_df.loc[i, \"publication_date\"],\n",
        "        },\n",
        "        {\n",
        "            \"name\": \"lbl_application_number\",\n",
        "            \"value\": results_df.loc[i, \"application_number\"],\n",
        "        },\n",
        "        {\"name\": \"lbl_inventor_line_1\", \"value\": results_df.loc[i, \"inventor_line_1\"]},\n",
        "    ]\n",
        "\n",
        "    # Search for the labels in the patent text\n",
        "    for label in labels:\n",
        "        startIndex = 0\n",
        "\n",
        "        while True:\n",
        "            found_index = full_text.find(label[\"value\"], startIndex)\n",
        "            if found_index == -1:\n",
        "                break\n",
        "            else:\n",
        "                end_offset = found_index + len(label[\"value\"])\n",
        "                text_segment_annotations.append(\n",
        "                    {\n",
        "                        \"startOffset\": found_index,\n",
        "                        \"endOffset\": end_offset,\n",
        "                        \"displayName\": label[\"name\"],\n",
        "                    }\n",
        "                )\n",
        "                # Move the startIndex in the search to the end offset so we can\n",
        "                # find the next match\n",
        "                startIndex = end_offset\n",
        "\n",
        "    # Create the annotation object and add to the collection\n",
        "    annotation = {\n",
        "        \"textSegmentAnnotations\": text_segment_annotations,\n",
        "        \"textContent\": full_text,\n",
        "    }\n",
        "\n",
        "    annotations.append(annotation)\n",
        "\n",
        "print(\"Done !\")"
      ]
    },
    {
      "cell_type": "markdown",
      "metadata": {
        "id": "xPe9amMFeRg2"
      },
      "source": [
        "#### Generate and upload the import file\n",
        "\n",
        "Now that you have the annotations, you generate the import file based on the schema mentioned in [this guide](https://cloud.google.com/vertex-ai/docs/datasets/prepare-text#entity-extraction).\n",
        "\n",
        "You upload your import file to your bucket to be used for `AutoML` training."
      ]
    },
    {
      "cell_type": "code",
      "execution_count": null,
      "metadata": {
        "id": "bzjigrPeeRrv"
      },
      "outputs": [],
      "source": [
        "# Convert array to JSONL content\n",
        "jsonl_output = \"\"\n",
        "for annotation in annotations:\n",
        "    jsonl_output += json.dumps(annotation) + \"\\n\"\n",
        "\n",
        "print(f\"Created import file based on {len(annotations)} annotations\")\n",
        "\n",
        "# Upload content to GCS to be used in our next step\n",
        "gcs_annotation_file_name = \"annotation_file/import_file.jsonl\"\n",
        "import_file_blob = output_bucket.blob(gcs_annotation_file_name)\n",
        "import_file_blob.upload_from_string(jsonl_output)\n",
        "\n",
        "print(f\"Uploaded import file to {output_bucket.name}/{gcs_annotation_file_name}\")"
      ]
    },
    {
      "cell_type": "markdown",
      "metadata": {
        "id": "create_dataset:text,ten"
      },
      "source": [
        "### Create the Vertex AI Dataset\n",
        "\n",
        "Next, create the `Dataset` resource using the `create` method for the `TextDataset` class, which takes the following parameters:\n",
        "\n",
        "- `display_name`: The human readable name for the `Dataset` resource.\n",
        "- `gcs_source`: A list of one or more dataset index files to import the data items into the `Dataset` resource.\n",
        "- `import_schema_uri`: The data labeling schema for the data items.\n",
        "\n",
        "This operation may take ten to twenty minutes."
      ]
    },
    {
      "cell_type": "code",
      "execution_count": null,
      "metadata": {
        "id": "Wyh54ORdxKSc"
      },
      "outputs": [],
      "source": [
        "dataset = aiplatform.TextDataset.create(\n",
        "    display_name=\"Patent PDF Samples\" + \"_\" + TIMESTAMP,\n",
        "    gcs_source=[f\"gs://{output_bucket.name}/{gcs_annotation_file_name}\"],\n",
        "    import_schema_uri=aiplatform.schema.dataset.ioformat.text.extraction,\n",
        ")\n",
        "\n",
        "print(dataset.resource_name)"
      ]
    },
    {
      "cell_type": "markdown",
      "metadata": {
        "id": "Aai9Eh7tLeW0"
      },
      "source": [
        "Now that the dataset is imported, you can also review the dataset annotations in the Cloud Console to verify the patent text have been successfully annotated."
      ]
    },
    {
      "cell_type": "markdown",
      "metadata": {
        "id": "create_automl_pipeline:text,ten"
      },
      "source": [
        "### Create and run `AutoML` training pipeline\n",
        "\n",
        "To train an `AutoML` model, you perform two steps: 1) create an `AutoML` training pipeline, and 2) run the pipeline.\n",
        "\n",
        "#### Create training pipeline\n",
        "\n",
        "An `AutoML` training pipeline is created with the `AutoMLTextTrainingJob` class, with the following parameters:\n",
        "\n",
        "- `display_name`: The human readable name for the `TrainingJob` resource.\n",
        "- `prediction_type`: The type task to train the model for.\n",
        "  - `classification`: A text classification model.\n",
        "  - `sentiment`: A text sentiment analysis model.\n",
        "  - `extraction`: A text entity extraction model.\n",
        "- `multi_label`: If a classification task, whether single (False) or multi-labeled (True).\n",
        "- `sentiment_max`: If a sentiment analysis task, the maximum sentiment value.\n"
      ]
    },
    {
      "cell_type": "code",
      "execution_count": null,
      "metadata": {
        "id": "uiZ2NJUgxKSc"
      },
      "outputs": [],
      "source": [
        "job = aiplatform.AutoMLTextTrainingJob(\n",
        "    display_name=\"patent_sample_\" + TIMESTAMP, prediction_type=\"extraction\"\n",
        ")\n",
        "\n",
        "print(\"Training job created!\")"
      ]
    },
    {
      "cell_type": "markdown",
      "metadata": {
        "id": "run_automl_pipeline:text"
      },
      "source": [
        "#### Run the training pipeline\n",
        "\n",
        "Next, you start the training job by invoking the method `run`, with the following parameters:\n",
        "\n",
        "- `dataset`: The `Dataset` resource to train the model.\n",
        "- `model_display_name`: The human readable name for the trained model.\n",
        "- `training_fraction_split`: The percentage of the dataset to use for training.\n",
        "- `test_fraction_split`: The percentage of the dataset to use for test (holdout data).\n",
        "- `validation_fraction_split`: The percentage of the dataset to use for validation.\n",
        "\n",
        "The `run` method when completed returns the `Model` resource.\n",
        "\n",
        "The execution of the training pipeline will take upto 4 hours.\n",
        "\n",
        "_If you are using Colab, please make sure your session does not time out while waiting for the model training to be completed. You may run into issues and have to reinitalize the notebook and manually set the model evaluation in the next step_"
      ]
    },
    {
      "cell_type": "code",
      "execution_count": null,
      "metadata": {
        "id": "10sLN_GwxKSd"
      },
      "outputs": [],
      "source": [
        "model = job.run(\n",
        "    dataset=dataset,\n",
        "    model_display_name=\"patent_sample_\" + TIMESTAMP,\n",
        "    training_fraction_split=0.8,\n",
        "    validation_fraction_split=0.1,\n",
        "    test_fraction_split=0.1,\n",
        ")"
      ]
    },
    {
      "cell_type": "markdown",
      "metadata": {
        "id": "evaluate_the_model:mbsdk"
      },
      "source": [
        "## Review model evaluation scores\n",
        "\n",
        "After your model training has finished, you can review the evaluation scores for it using the `list_model_evaluations()` method. This method will return an iterator for each evaluation slice."
      ]
    },
    {
      "cell_type": "code",
      "execution_count": null,
      "metadata": {
        "id": "GdReEVB1xKSd"
      },
      "outputs": [],
      "source": [
        "model_evaluations = model.list_model_evaluations()\n",
        "\n",
        "for model_evaluation in model_evaluations:\n",
        "    print(model_evaluation.to_dict())"
      ]
    },
    {
      "cell_type": "markdown",
      "metadata": {
        "id": "deploy_model:mbsdk,automatic"
      },
      "source": [
        "## Deploy the `AutoML` model to a `Vertex AI Endpoint` resource\n",
        "\n",
        "Next, deploy your `AutoML` model to a `Vertex AI Endpoint` resource for online prediction. To deploy the model, you invoke the `deploy` method. \n",
        "\n",
        "This will take a few minutes."
      ]
    },
    {
      "cell_type": "code",
      "execution_count": null,
      "metadata": {
        "id": "jQyzy2v1xKSd"
      },
      "outputs": [],
      "source": [
        "endpoint = model.deploy()"
      ]
    },
    {
      "cell_type": "markdown",
      "metadata": {
        "id": "make_prediction"
      },
      "source": [
        "## Send a online prediction request\n",
        "\n",
        "Send a online prediction to your deployed model."
      ]
    },
    {
      "cell_type": "markdown",
      "metadata": {
        "id": "make_test_item:automl,online_prediction"
      },
      "source": [
        "### Make a test item\n",
        "\n",
        "Next, you run a test using the extracted text from first page of a patent that was not part of our original dataset. [Here is a link to the PDF file that was converted to text below.](https://github.com/GoogleCloudPlatform/vertex-ai-samples/tree/main/notebooks/community/ml_ops/stage2/notebook_resources/get_started_with_visionapi_and_automl/sample_patent.pdf)\n",
        "\n",
        "The file was downloaded from the United States Patent and Trademark Office (USPTO) that follows the same format as your training set.\n",
        "\n",
        "You have previously extracted text from the image using Vision API document text detection process and included the text below."
      ]
    },
    {
      "cell_type": "code",
      "execution_count": null,
      "metadata": {
        "id": "make_test_item:automl,text,biomedical"
      },
      "outputs": [],
      "source": [
        "test_item = \"US010143036B2\\n(12) United States Patent\\nKhan\\n(10) Patent No.: US 10,143,036 B2\\n(45) Date of Patent: Nov. 27, 2018\\n(54) MILLIMETER WAVE WIRELESS SYSTEM\\nUSING LICENSED AND UNLICENSED\\nFREQUENCY SPRECTRUM\\n(58) Field of Classification Search\\nCPC . H04W 74/006; H04W 80/02; H04W 34/005;\\nHOW 84/04; HOW 84/045; H04W\\n88/06; H04W 92/20; H04W 74/0816;\\nHO4B 7/02\\nSee application file for complete search history.\\n(71) Applicant: Phazr, Inc., Allen, TX (US)\\n(72) Inventor: Farooq Khan, Allen, TX (US)\\n(56)\\n(73) Assignee: Phazr, Inc., Allen, TX (US)\\nReferences Cited\\nU.S. PATENT DOCUMENTS\\n(*) Notice:\\nSubject to any disclaimer, the term of this\\npatent is extended or adjusted under 35\\nU.S.C. 154(b) by 44 days.\\n10,057,898 B2 *\\n10,075,852 B2 *\\n2013/0072125 A1*\\n8/2018 Khan\\n9/2018 Nekovee\\n3/2013 Yoon\\nH04W 72/044\\nH04W 16/28\\nHO1P 1/10\\n455/67.11\\nH04B 1/40\\n455/78\\n(21) Appl. No.: 15/644,553\\n2014/0106686 A1*\\n4/2014 Higgins\\n(22) Filed:\\nJul. 7, 2017\\n(Continued)\\n(65)\\nPrior Publication Data\\nUS 2018/0035487 A1\\nFeb. 1, 2018\\nPrimary Examiner — Devan Sandiford\\n(74) Attorney, Agent, or Firm — Michael A. Rahman\\nRelated U.S. Application Data\\n(60) Provisional application No. 62/369,038, filed on Jul.\\n30, 2016.\\n(51) Int. CI.\\nH0W 84/04\\n(2009.01)\\nH04W 74/00\\n(2009.01)\\nH04W 84/00\\n(2009.01)\\nH04W 92/20\\n(2009.01)\\nH04W 80/02\\n(2009.01)\\nH0W 88/06\\n(2009.01)\\nH04B 7/02\\n(2018.01)\\nH04W 74/08\\n(2009.01)\\n(52) U.S. CI.\\nCPC\\nH04W 84/045 (2013.01); H04B 7/02\\n(2013.01); H04W 74/006 (2013.01); H04W\\n80/02 (2013.01); H04W 84/005 (2013.01);\\nH04W 84/04 (2013.01); H04W 88/06\\n(2013.01); H04W 92/20 (2013.01); H04W\\n74/0816 (2013.01)\\n(57)\\nABSTRACT\\nA method of wireless communication includes transmitting\\nin a downlink direction on a licensed millimeter wave band,\\nby a radio base station, a first millimeter wave band signal\\nat high transmit equivalent isotropically radiated power\\n(EIRP) using a multiple input multiple output transmit\\nantenna array. The method includes receiving by a commu-\\nnications device the first millimeter wave band signal. The\\nmethod includes transmitting in an uplink direction on an\\nunlicensed millimeter wave band, by the communications\\ndevice, a second millimeter wave band signal at low transmit\\nequivalent isotropically radiated power (EIRP) using a mul-\\ntiple input multiple output transmit antenna array. The\\nmethod includes receiving on the unlicensed millimeter\\nwave band, by the radio base station, the second millimeter\\nwave band signal at a high receive gain using a multiple\\ninput multiple output receive antenna array.\\n26 Claims, 11 Drawing Sheets\\n100\\nHigh-Gain\\nantenna array\\nHigh power\\nPower amplifiers\\nComplex\\nTX\\nTX\\nLow Transmit\\nEIRP\\nLicensed\\nSpectrum.\\nRX\\nLow Receive\\nGain\\nUnlicensed\\nSpectrum\\nHighly\\nsensitive\\nRX\\nCommunication Device\\nDevice\\nC1\\nLow-Noise\\nFigure\\nLNA\\nAccess Point\\nDevice\\n00\\nDevice\\nC2\\nAccess\\nPoint\\nAO\\n\""
      ]
    },
    {
      "cell_type": "markdown",
      "metadata": {
        "id": "predict_request:mbsdk,ten"
      },
      "source": [
        "### Make the prediction\n",
        "\n",
        "Now that your `Model` resource is deployed to an `Endpoint` resource, you can do online predictions by sending prediction requests to the `Endpoint` resource.\n",
        "\n",
        "#### Request\n",
        "\n",
        "The format of each instance is:\n",
        "\n",
        "     { 'content': text_string }\n",
        "\n",
        "Since the predict() method can take multiple items (instances), send your single test item as a list of one test item.\n",
        "\n",
        "#### Response\n",
        "\n",
        "The response from the predict() call is a Python dictionary with the following entries:\n",
        "\n",
        "- `ids`: The internal assigned unique identifiers for each prediction request.\n",
        "- `displayNames`: The class names for each entity.\n",
        "- `confidences`: The predicted confidence, between 0 and 1, per entity.\n",
        "- `textSegmentStartOffsets`: The character offset in the text to the start of the entity.\n",
        "- `textSegmentEndOffsets`: The character offset in the text to the end of the entity.\n",
        "- `deployed_model_id`: The Vertex AI identifier for the deployed `Model` resource which did the predictions."
      ]
    },
    {
      "cell_type": "code",
      "execution_count": null,
      "metadata": {
        "id": "b8dpwqzExKSe"
      },
      "outputs": [],
      "source": [
        "import json\n",
        "\n",
        "instances_list = [{\"content\": test_item}]\n",
        "\n",
        "prediction = endpoint.predict(instances_list)\n",
        "print(json.dumps(prediction, indent=4))"
      ]
    },
    {
      "cell_type": "markdown",
      "metadata": {
        "id": "undeploy_model:mbsdk"
      },
      "source": [
        "## Undeploy the model\n",
        "\n",
        "When you are done doing predictions, you undeploy the model from the `Endpoint` resouce. This deprovisions all compute resources and ends billing for the deployed model."
      ]
    },
    {
      "cell_type": "code",
      "execution_count": null,
      "metadata": {
        "id": "xU_Ps4aUxKSe"
      },
      "outputs": [],
      "source": [
        "endpoint.undeploy_all()"
      ]
    },
    {
      "cell_type": "markdown",
      "metadata": {
        "id": "cleanup:mbsdk"
      },
      "source": [
        "# Cleaning up\n",
        "\n",
        "To clean up all Google Cloud resources used in this project, you can [delete the Google Cloud\n",
        "project](https://cloud.google.com/resource-manager/docs/creating-managing-projects#shutting_down_projects) you used for the tutorial.\n",
        "\n",
        "Otherwise, you can delete the individual resources you created in this tutorial."
      ]
    },
    {
      "cell_type": "code",
      "execution_count": null,
      "metadata": {
        "id": "HOWKpE74xKSf"
      },
      "outputs": [],
      "source": [
        "delete_bucket = False\n",
        "\n",
        "# Delete the dataset using the Vertex dataset object\n",
        "dataset.delete()\n",
        "\n",
        "# Delete the model using the Vertex model object\n",
        "model.delete()\n",
        "\n",
        "# Delete the endpoint using the Vertex endpoint object\n",
        "endpoint.delete()\n",
        "\n",
        "# Delete the AutoML or Pipeline training job\n",
        "job.delete()\n",
        "\n",
        "if delete_bucket or os.getenv(\"IS_TESTING\"):\n",
        "    ! gsutil -m rm -r $BUCKET_URI\n",
        "\n",
        "print(\"Clean up completed!\")"
      ]
    }
  ],
  "metadata": {
    "colab": {
      "name": "get_started_with_visionapi_and_automl.ipynb",
      "toc_visible": true
    },
    "kernelspec": {
      "display_name": "Python 3",
      "name": "python3"
    }
  },
  "nbformat": 4,
  "nbformat_minor": 0
}
