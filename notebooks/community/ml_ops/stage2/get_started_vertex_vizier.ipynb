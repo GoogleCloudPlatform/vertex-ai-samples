{
 "cells": [
  {
   "cell_type": "code",
   "execution_count": null,
   "metadata": {
    "id": "copyright"
   },
   "outputs": [],
   "source": [
    "# Copyright 2021 Google LLC\n",
    "#\n",
    "# Licensed under the Apache License, Version 2.0 (the \"License\");\n",
    "# you may not use this file except in compliance with the License.\n",
    "# You may obtain a copy of the License at\n",
    "#\n",
    "#     https://www.apache.org/licenses/LICENSE-2.0\n",
    "#\n",
    "# Unless required by applicable law or agreed to in writing, software\n",
    "# distributed under the License is distributed on an \"AS IS\" BASIS,\n",
    "# WITHOUT WARRANTIES OR CONDITIONS OF ANY KIND, either express or implied.\n",
    "# See the License for the specific language governing permissions and\n",
    "# limitations under the License."
   ]
  },
  {
   "cell_type": "markdown",
   "metadata": {
    "id": "title:generic,gcp"
   },
   "source": [
    "# E2E ML on GCP: MLOps stage 2 : experimentation: get started with Vertex Vizier\n",
    "\n",
    "<table align=\"left\">\n",
    "  <td>\n",
    "    <a href=\"https://github.com/GoogleCloudPlatform/vertex-ai-samples/blob/main/notebooks/community/ml_ops/stage2/get_started_vertex_vizier.ipynb\">\n",
    "      <img src=\"https://cloud.google.com/ml-engine/images/github-logo-32px.png\" alt=\"GitHub logo\">\n",
    "      View on GitHub\n",
    "    </a>\n",
    "  </td>\n",
    "  <td>\n",
    "    <a href=\"https://console.cloud.google.com/ai/platform/notebooks/deploy-notebook?download_url=https://github.com/GoogleCloudPlatform/vertex-ai-samples/blob/main/notebooks/community/ml_ops/stage2/get_started_vertex_vizier.ipynb\">\n",
    "      Open in Google Cloud Notebooks\n",
    "    </a>\n",
    "  </td>\n",
    "</table>\n",
    "<br/><br/><br/>"
   ]
  },
  {
   "cell_type": "markdown",
   "metadata": {
    "id": "overview:mlops"
   },
   "source": [
    "## Overview\n",
    "\n",
    "\n",
    "This tutorial demonstrates how to use Vertex AI for E2E MLOps on Google Cloud in production. This tutorial covers stage 2 : experimentation: get started with Vertex Vizier."
   ]
  },
  {
   "cell_type": "markdown",
   "metadata": {
    "id": "dataset:custom,boston,lrg"
   },
   "source": [
    "### Dataset\n",
    "\n",
    "The dataset used for this tutorial is the [Boston Housing Prices dataset](https://www.cs.toronto.edu/~delve/data/boston/bostonDetail.html). The version of the dataset you will use in this tutorial is built into TensorFlow. The trained model predicts the median price of a house in units of 1K USD."
   ]
  },
  {
   "cell_type": "markdown",
   "metadata": {
    "id": "objective:mlops,stage2,get_started_vertex_vizier"
   },
   "source": [
    "### Objective\n",
    "\n",
    "In this tutorial, you learn how to use `Vertex AI Vizier` for when training with `Vertex AI`.\n",
    "\n",
    "This tutorial uses the following Google Cloud ML services:\n",
    "\n",
    "- `Vertex AI Training`\n",
    "- `Vertex AI Hyperparameter Tuning`\n",
    "- `Vertex AI Vizier`\n",
    "\n",
    "The steps performed include:\n",
    "\n",
    "- Hyperparameter tuning with Random algorithm.\n",
    "- Hyperparameter tuning with Vizier (Bayesian) algorithm."
   ]
  },
  {
   "cell_type": "markdown",
   "metadata": {
    "id": "recommendation:mlops,stage2,vertex,vizier"
   },
   "source": [
    "### Recommendations\n",
    "\n",
    "When doing E2E MLOps on Google Cloud, the following are best practices for when to use Vertex AI Vizier for hyperparameter tuning:\n",
    "\n",
    "**Grid Search**\n",
    "\n",
    "You have a small number of combinations of discrete values. For example, you have the following two hyperparameters and discrete values:\n",
    "\n",
    "- batch size: \\[ 16, 32, 64\\]\n",
    "- lr: \\[ 0.001, 0.01. 0.1\\]\n",
    "\n",
    "The total number of combinations is 9 (3 x 3).\n",
    "\n",
    "**Random Search**\n",
    "\n",
    "You have a small number of hyperparameters, where at least one is a continuous value. For example, you have the following two hyperparameters and ranges:\n",
    "\n",
    "- batch size: \\[ 16, 32, 64\\]\n",
    "- lr: 0.001 .. 0.1\n",
    "\n",
    "\n",
    "**Vizier Search**\n",
    "\n",
    "You have either a:\n",
    "\n",
    "- large number of hyperparameters and discrete values\n",
    "- vast continuous search space\n",
    "- multiple of objectives"
   ]
  },
  {
   "cell_type": "markdown",
   "metadata": {
    "id": "install_mlops"
   },
   "source": [
    "## Installations\n",
    "\n",
    "Install *one time* the packages for executing the MLOps notebooks."
   ]
  },
  {
   "cell_type": "code",
   "execution_count": 1,
   "metadata": {},
   "outputs": [],
   "source": [
    "import os\n",
    "\n",
    "# The Google Cloud Notebook product has specific requirements\n",
    "IS_GOOGLE_CLOUD_NOTEBOOK = os.path.exists(\"/opt/deeplearning/metadata/env_version\")\n",
    "\n",
    "# Google Cloud Notebook requires dependencies to be installed with '--user'\n",
    "USER_FLAG = \"\"\n",
    "if IS_GOOGLE_CLOUD_NOTEBOOK:\n",
    "    USER_FLAG = \"\""
   ]
  },
  {
   "cell_type": "code",
   "execution_count": 2,
   "metadata": {
    "collapsed": true,
    "id": "install_mlops",
    "jupyter": {
     "outputs_hidden": true
    },
    "tags": []
   },
   "outputs": [
    {
     "name": "stdout",
     "output_type": "stream",
     "text": [
      "Requirement already satisfied: google-cloud-aiplatform[tensorboard] in /opt/conda/envs/vizier-4/lib/python3.7/site-packages (1.11.0)\n",
      "Requirement already satisfied: google-api-core[grpc]!=2.0.*,!=2.1.*,!=2.2.*,!=2.3.0,<3.0.0dev,>=1.31.5 in /opt/conda/envs/vizier-4/lib/python3.7/site-packages (from google-cloud-aiplatform[tensorboard]) (2.7.1)\n",
      "Requirement already satisfied: packaging>=14.3 in /opt/conda/envs/vizier-4/lib/python3.7/site-packages (from google-cloud-aiplatform[tensorboard]) (21.3)\n",
      "Requirement already satisfied: proto-plus>=1.15.0 in /opt/conda/envs/vizier-4/lib/python3.7/site-packages (from google-cloud-aiplatform[tensorboard]) (1.20.3)\n",
      "Requirement already satisfied: google-cloud-bigquery<3.0.0dev,>=1.15.0 in /opt/conda/envs/vizier-4/lib/python3.7/site-packages (from google-cloud-aiplatform[tensorboard]) (2.34.2)\n",
      "Requirement already satisfied: google-cloud-storage<3.0.0dev,>=1.32.0 in /opt/conda/envs/vizier-4/lib/python3.7/site-packages (from google-cloud-aiplatform[tensorboard]) (2.2.1)\n",
      "Collecting tensorflow<=2.7.0,>=2.3.0\n",
      "  Using cached tensorflow-2.7.0-cp37-cp37m-manylinux2010_x86_64.whl (489.6 MB)\n",
      "Requirement already satisfied: google-auth<3.0dev,>=1.25.0 in /opt/conda/envs/vizier-4/lib/python3.7/site-packages (from google-api-core[grpc]!=2.0.*,!=2.1.*,!=2.2.*,!=2.3.0,<3.0.0dev,>=1.31.5->google-cloud-aiplatform[tensorboard]) (2.6.0)\n",
      "Requirement already satisfied: protobuf>=3.12.0 in /opt/conda/envs/vizier-4/lib/python3.7/site-packages (from google-api-core[grpc]!=2.0.*,!=2.1.*,!=2.2.*,!=2.3.0,<3.0.0dev,>=1.31.5->google-cloud-aiplatform[tensorboard]) (3.20.0rc2)\n",
      "Requirement already satisfied: requests<3.0.0dev,>=2.18.0 in /opt/conda/envs/vizier-4/lib/python3.7/site-packages (from google-api-core[grpc]!=2.0.*,!=2.1.*,!=2.2.*,!=2.3.0,<3.0.0dev,>=1.31.5->google-cloud-aiplatform[tensorboard]) (2.27.1)\n",
      "Requirement already satisfied: googleapis-common-protos<2.0dev,>=1.52.0 in /opt/conda/envs/vizier-4/lib/python3.7/site-packages (from google-api-core[grpc]!=2.0.*,!=2.1.*,!=2.2.*,!=2.3.0,<3.0.0dev,>=1.31.5->google-cloud-aiplatform[tensorboard]) (1.55.0)\n",
      "Requirement already satisfied: grpcio-status<2.0dev,>=1.33.2 in /opt/conda/envs/vizier-4/lib/python3.7/site-packages (from google-api-core[grpc]!=2.0.*,!=2.1.*,!=2.2.*,!=2.3.0,<3.0.0dev,>=1.31.5->google-cloud-aiplatform[tensorboard]) (1.44.0)\n",
      "Requirement already satisfied: grpcio<2.0dev,>=1.33.2 in /opt/conda/envs/vizier-4/lib/python3.7/site-packages (from google-api-core[grpc]!=2.0.*,!=2.1.*,!=2.2.*,!=2.3.0,<3.0.0dev,>=1.31.5->google-cloud-aiplatform[tensorboard]) (1.44.0)\n",
      "Requirement already satisfied: google-resumable-media<3.0dev,>=0.6.0 in /opt/conda/envs/vizier-4/lib/python3.7/site-packages (from google-cloud-bigquery<3.0.0dev,>=1.15.0->google-cloud-aiplatform[tensorboard]) (2.3.2)\n",
      "Requirement already satisfied: google-cloud-core<3.0.0dev,>=1.4.1 in /opt/conda/envs/vizier-4/lib/python3.7/site-packages (from google-cloud-bigquery<3.0.0dev,>=1.15.0->google-cloud-aiplatform[tensorboard]) (2.2.3)\n",
      "Requirement already satisfied: python-dateutil<3.0dev,>=2.7.2 in /opt/conda/envs/vizier-4/lib/python3.7/site-packages (from google-cloud-bigquery<3.0.0dev,>=1.15.0->google-cloud-aiplatform[tensorboard]) (2.8.2)\n",
      "Requirement already satisfied: pyparsing!=3.0.5,>=2.0.2 in /opt/conda/envs/vizier-4/lib/python3.7/site-packages (from packaging>=14.3->google-cloud-aiplatform[tensorboard]) (3.0.7)\n",
      "Collecting keras<2.8,>=2.7.0rc0\n",
      "  Using cached keras-2.7.0-py2.py3-none-any.whl (1.3 MB)\n",
      "Requirement already satisfied: wheel<1.0,>=0.32.0 in /opt/conda/envs/vizier-4/lib/python3.7/site-packages (from tensorflow<=2.7.0,>=2.3.0->google-cloud-aiplatform[tensorboard]) (0.37.1)\n",
      "Collecting flatbuffers<3.0,>=1.12\n",
      "  Using cached flatbuffers-2.0-py2.py3-none-any.whl (26 kB)\n",
      "Collecting google-pasta>=0.1.1\n",
      "  Using cached google_pasta-0.2.0-py3-none-any.whl (57 kB)\n",
      "Collecting tensorflow-estimator<2.8,~=2.7.0rc0\n",
      "  Using cached tensorflow_estimator-2.7.0-py2.py3-none-any.whl (463 kB)\n",
      "Collecting libclang>=9.0.1\n",
      "  Using cached libclang-13.0.0-py2.py3-none-manylinux1_x86_64.whl (14.5 MB)\n",
      "Collecting termcolor>=1.1.0\n",
      "  Using cached termcolor-1.1.0-py3-none-any.whl\n",
      "Collecting wrapt>=1.11.0\n",
      "  Using cached wrapt-1.14.0-cp37-cp37m-manylinux_2_5_x86_64.manylinux1_x86_64.manylinux_2_17_x86_64.manylinux2014_x86_64.whl (75 kB)\n",
      "Collecting astunparse>=1.6.0\n",
      "  Using cached astunparse-1.6.3-py2.py3-none-any.whl (12 kB)\n",
      "Collecting tensorboard~=2.6\n",
      "  Using cached tensorboard-2.8.0-py3-none-any.whl (5.8 MB)\n",
      "Requirement already satisfied: numpy>=1.14.5 in /opt/conda/envs/vizier-4/lib/python3.7/site-packages (from tensorflow<=2.7.0,>=2.3.0->google-cloud-aiplatform[tensorboard]) (1.21.5)\n",
      "Collecting gast<0.5.0,>=0.2.1\n",
      "  Using cached gast-0.4.0-py3-none-any.whl (9.8 kB)\n",
      "Requirement already satisfied: typing-extensions>=3.6.6 in /opt/conda/envs/vizier-4/lib/python3.7/site-packages (from tensorflow<=2.7.0,>=2.3.0->google-cloud-aiplatform[tensorboard]) (4.1.1)\n",
      "Requirement already satisfied: six>=1.12.0 in /opt/conda/envs/vizier-4/lib/python3.7/site-packages (from tensorflow<=2.7.0,>=2.3.0->google-cloud-aiplatform[tensorboard]) (1.16.0)\n",
      "Collecting keras-preprocessing>=1.1.1\n",
      "  Using cached Keras_Preprocessing-1.1.2-py2.py3-none-any.whl (42 kB)\n",
      "Collecting opt-einsum>=2.3.2\n",
      "  Using cached opt_einsum-3.3.0-py3-none-any.whl (65 kB)\n",
      "Collecting h5py>=2.9.0\n",
      "  Using cached h5py-3.6.0-cp37-cp37m-manylinux_2_12_x86_64.manylinux2010_x86_64.whl (4.1 MB)\n",
      "Collecting tensorflow-io-gcs-filesystem>=0.21.0\n",
      "  Using cached tensorflow_io_gcs_filesystem-0.24.0-cp37-cp37m-manylinux_2_12_x86_64.manylinux2010_x86_64.whl (2.1 MB)\n",
      "Collecting absl-py>=0.4.0\n",
      "  Using cached absl_py-1.0.0-py3-none-any.whl (126 kB)\n",
      "Requirement already satisfied: pyasn1-modules>=0.2.1 in /opt/conda/envs/vizier-4/lib/python3.7/site-packages (from google-auth<3.0dev,>=1.25.0->google-api-core[grpc]!=2.0.*,!=2.1.*,!=2.2.*,!=2.3.0,<3.0.0dev,>=1.31.5->google-cloud-aiplatform[tensorboard]) (0.2.8)\n",
      "Requirement already satisfied: rsa<5,>=3.1.4 in /opt/conda/envs/vizier-4/lib/python3.7/site-packages (from google-auth<3.0dev,>=1.25.0->google-api-core[grpc]!=2.0.*,!=2.1.*,!=2.2.*,!=2.3.0,<3.0.0dev,>=1.31.5->google-cloud-aiplatform[tensorboard]) (4.8)\n",
      "Requirement already satisfied: cachetools<6.0,>=2.0.0 in /opt/conda/envs/vizier-4/lib/python3.7/site-packages (from google-auth<3.0dev,>=1.25.0->google-api-core[grpc]!=2.0.*,!=2.1.*,!=2.2.*,!=2.3.0,<3.0.0dev,>=1.31.5->google-cloud-aiplatform[tensorboard]) (5.0.0)\n",
      "Requirement already satisfied: google-crc32c<2.0dev,>=1.0 in /opt/conda/envs/vizier-4/lib/python3.7/site-packages (from google-resumable-media<3.0dev,>=0.6.0->google-cloud-bigquery<3.0.0dev,>=1.15.0->google-cloud-aiplatform[tensorboard]) (1.3.0)\n",
      "Collecting cached-property\n",
      "  Using cached cached_property-1.5.2-py2.py3-none-any.whl (7.6 kB)\n",
      "Requirement already satisfied: certifi>=2017.4.17 in /opt/conda/envs/vizier-4/lib/python3.7/site-packages (from requests<3.0.0dev,>=2.18.0->google-api-core[grpc]!=2.0.*,!=2.1.*,!=2.2.*,!=2.3.0,<3.0.0dev,>=1.31.5->google-cloud-aiplatform[tensorboard]) (2021.10.8)\n",
      "Requirement already satisfied: idna<4,>=2.5 in /opt/conda/envs/vizier-4/lib/python3.7/site-packages (from requests<3.0.0dev,>=2.18.0->google-api-core[grpc]!=2.0.*,!=2.1.*,!=2.2.*,!=2.3.0,<3.0.0dev,>=1.31.5->google-cloud-aiplatform[tensorboard]) (3.3)\n",
      "Requirement already satisfied: charset-normalizer~=2.0.0 in /opt/conda/envs/vizier-4/lib/python3.7/site-packages (from requests<3.0.0dev,>=2.18.0->google-api-core[grpc]!=2.0.*,!=2.1.*,!=2.2.*,!=2.3.0,<3.0.0dev,>=1.31.5->google-cloud-aiplatform[tensorboard]) (2.0.12)\n",
      "Requirement already satisfied: urllib3<1.27,>=1.21.1 in /opt/conda/envs/vizier-4/lib/python3.7/site-packages (from requests<3.0.0dev,>=2.18.0->google-api-core[grpc]!=2.0.*,!=2.1.*,!=2.2.*,!=2.3.0,<3.0.0dev,>=1.31.5->google-cloud-aiplatform[tensorboard]) (1.26.9)\n",
      "Collecting google-auth-oauthlib<0.5,>=0.4.1\n",
      "  Using cached google_auth_oauthlib-0.4.6-py2.py3-none-any.whl (18 kB)\n",
      "Collecting markdown>=2.6.8\n",
      "  Using cached Markdown-3.3.6-py3-none-any.whl (97 kB)\n",
      "Collecting tensorboard-data-server<0.7.0,>=0.6.0\n",
      "  Using cached tensorboard_data_server-0.6.1-py3-none-manylinux2010_x86_64.whl (4.9 MB)\n",
      "Collecting werkzeug>=0.11.15\n",
      "  Using cached Werkzeug-2.0.3-py3-none-any.whl (289 kB)\n",
      "Requirement already satisfied: setuptools>=41.0.0 in /opt/conda/envs/vizier-4/lib/python3.7/site-packages (from tensorboard~=2.6->tensorflow<=2.7.0,>=2.3.0->google-cloud-aiplatform[tensorboard]) (60.10.0)\n",
      "Collecting tensorboard-plugin-wit>=1.6.0\n",
      "  Using cached tensorboard_plugin_wit-1.8.1-py3-none-any.whl (781 kB)\n",
      "Collecting requests-oauthlib>=0.7.0\n",
      "  Using cached requests_oauthlib-1.3.1-py2.py3-none-any.whl (23 kB)\n",
      "Requirement already satisfied: importlib-metadata>=4.4 in /opt/conda/envs/vizier-4/lib/python3.7/site-packages (from markdown>=2.6.8->tensorboard~=2.6->tensorflow<=2.7.0,>=2.3.0->google-cloud-aiplatform[tensorboard]) (4.11.3)\n",
      "Requirement already satisfied: pyasn1<0.5.0,>=0.4.6 in /opt/conda/envs/vizier-4/lib/python3.7/site-packages (from pyasn1-modules>=0.2.1->google-auth<3.0dev,>=1.25.0->google-api-core[grpc]!=2.0.*,!=2.1.*,!=2.2.*,!=2.3.0,<3.0.0dev,>=1.31.5->google-cloud-aiplatform[tensorboard]) (0.4.8)\n",
      "Requirement already satisfied: zipp>=0.5 in /opt/conda/envs/vizier-4/lib/python3.7/site-packages (from importlib-metadata>=4.4->markdown>=2.6.8->tensorboard~=2.6->tensorflow<=2.7.0,>=2.3.0->google-cloud-aiplatform[tensorboard]) (3.7.0)\n",
      "Collecting oauthlib>=3.0.0\n",
      "  Using cached oauthlib-3.2.0-py3-none-any.whl (151 kB)\n",
      "Installing collected packages: termcolor, tensorflow-estimator, tensorboard-plugin-wit, libclang, keras, flatbuffers, cached-property, wrapt, werkzeug, tensorflow-io-gcs-filesystem, tensorboard-data-server, opt-einsum, oauthlib, keras-preprocessing, h5py, google-pasta, gast, astunparse, absl-py, requests-oauthlib, markdown, google-auth-oauthlib, tensorboard, tensorflow\n",
      "Successfully installed absl-py-1.0.0 astunparse-1.6.3 cached-property-1.5.2 flatbuffers-2.0 gast-0.4.0 google-auth-oauthlib-0.4.6 google-pasta-0.2.0 h5py-3.6.0 keras-2.7.0 keras-preprocessing-1.1.2 libclang-13.0.0 markdown-3.3.6 oauthlib-3.2.0 opt-einsum-3.3.0 requests-oauthlib-1.3.1 tensorboard-2.8.0 tensorboard-data-server-0.6.1 tensorboard-plugin-wit-1.8.1 tensorflow-2.7.0 tensorflow-estimator-2.7.0 tensorflow-io-gcs-filesystem-0.24.0 termcolor-1.1.0 werkzeug-2.0.3 wrapt-1.14.0\n"
     ]
    }
   ],
   "source": [
    "! pip3 install --upgrade google-cloud-aiplatform[tensorboard] $USER_FLAG\n",
    "    "
   ]
  },
  {
   "cell_type": "markdown",
   "metadata": {
    "id": "restart"
   },
   "source": [
    "### Restart the kernel\n",
    "\n",
    "Once you've installed the additional packages, you need to restart the notebook kernel so it can find the packages."
   ]
  },
  {
   "cell_type": "code",
   "execution_count": 3,
   "metadata": {
    "id": "restart"
   },
   "outputs": [],
   "source": [
    "import os\n",
    "\n",
    "if not os.getenv(\"IS_TESTING\"):\n",
    "    # Automatically restart kernel after installs\n",
    "    import IPython\n",
    "\n",
    "    app = IPython.Application.instance()\n",
    "    app.kernel.do_shutdown(True)"
   ]
  },
  {
   "cell_type": "markdown",
   "metadata": {
    "id": "project_id"
   },
   "source": [
    "#### Set your project ID\n",
    "\n",
    "**If you don't know your project ID**, you may be able to get your project ID using `gcloud`."
   ]
  },
  {
   "cell_type": "code",
   "execution_count": 2,
   "metadata": {
    "id": "set_project_id"
   },
   "outputs": [],
   "source": [
    "PROJECT_ID = \"[your-project-id]\"  # @param {type:\"string\"}"
   ]
  },
  {
   "cell_type": "code",
   "execution_count": 3,
   "metadata": {
    "id": "autoset_project_id"
   },
   "outputs": [
    {
     "name": "stdout",
     "output_type": "stream",
     "text": [
      "Project ID: vertex-ai-dev\n"
     ]
    }
   ],
   "source": [
    "if PROJECT_ID == \"\" or PROJECT_ID is None or PROJECT_ID == \"[your-project-id]\":\n",
    "    # Get your GCP project id from gcloud\n",
    "    shell_output = ! gcloud config list --format 'value(core.project)' 2>/dev/null\n",
    "    PROJECT_ID = shell_output[0]\n",
    "    print(\"Project ID:\", PROJECT_ID)"
   ]
  },
  {
   "cell_type": "code",
   "execution_count": 4,
   "metadata": {
    "id": "set_gcloud_project_id"
   },
   "outputs": [
    {
     "name": "stdout",
     "output_type": "stream",
     "text": [
      "Updated property [core/project].\n"
     ]
    }
   ],
   "source": [
    "! gcloud config set project $PROJECT_ID"
   ]
  },
  {
   "cell_type": "markdown",
   "metadata": {
    "id": "region"
   },
   "source": [
    "#### Region\n",
    "\n",
    "You can also change the `REGION` variable, which is used for operations\n",
    "throughout the rest of this notebook.  Below are regions supported for Vertex AI. We recommend that you choose the region closest to you.\n",
    "\n",
    "- Americas: `us-central1`\n",
    "- Europe: `europe-west4`\n",
    "- Asia Pacific: `asia-east1`\n",
    "\n",
    "You may not use a multi-regional bucket for training with Vertex AI. Not all regions provide support for all Vertex AI services.\n",
    "\n",
    "Learn more about [Vertex AI regions](https://cloud.google.com/vertex-ai/docs/general/locations)."
   ]
  },
  {
   "cell_type": "code",
   "execution_count": 5,
   "metadata": {
    "id": "region"
   },
   "outputs": [],
   "source": [
    "REGION = \"[your-region]\"  # @param {type:\"string\"}\n",
    "if REGION == \"[your-region]\":\n",
    "    REGION = \"us-central1\""
   ]
  },
  {
   "cell_type": "markdown",
   "metadata": {
    "id": "timestamp"
   },
   "source": [
    "#### Timestamp\n",
    "\n",
    "If you are in a live tutorial session, you might be using a shared test account or project. To avoid name collisions between users on resources created, you create a timestamp for each instance session, and append the timestamp onto the name of resources you create in this tutorial."
   ]
  },
  {
   "cell_type": "code",
   "execution_count": 6,
   "metadata": {
    "id": "timestamp"
   },
   "outputs": [],
   "source": [
    "from datetime import datetime\n",
    "\n",
    "TIMESTAMP = datetime.now().strftime(\"%Y%m%d%H%M%S\")"
   ]
  },
  {
   "cell_type": "markdown",
   "metadata": {
    "id": "bucket:mbsdk"
   },
   "source": [
    "### Create a Cloud Storage bucket\n",
    "\n",
    "**The following steps are required, regardless of your notebook environment.**\n",
    "\n",
    "When you initialize the Vertex SDK for Python, you specify a Cloud Storage staging bucket. The staging bucket is where all the data associated with your dataset and model resources are retained across sessions.\n",
    "\n",
    "Set the name of your Cloud Storage bucket below. Bucket names must be globally unique across all Google Cloud projects, including those outside of your organization."
   ]
  },
  {
   "cell_type": "code",
   "execution_count": 11,
   "metadata": {
    "id": "bucket"
   },
   "outputs": [],
   "source": [
    "BUCKET_URI = \"gs://[your-bucket-name]\"  # @param {type:\"string\"}"
   ]
  },
  {
   "cell_type": "code",
   "execution_count": 12,
   "metadata": {
    "id": "autoset_bucket"
   },
   "outputs": [],
   "source": [
    "if BUCKET_URI == \"\" or BUCKET_URI is None or BUCKET_URI == \"gs://[your-bucket-name]\":\n",
    "    BUCKET_URI = \"gs://\" + PROJECT_ID + \"aip-\" + TIMESTAMP"
   ]
  },
  {
   "cell_type": "markdown",
   "metadata": {
    "id": "create_bucket"
   },
   "source": [
    "**Only if your bucket doesn't already exist**: Run the following cell to create your Cloud Storage bucket."
   ]
  },
  {
   "cell_type": "code",
   "execution_count": 13,
   "metadata": {
    "id": "create_bucket"
   },
   "outputs": [
    {
     "name": "stdout",
     "output_type": "stream",
     "text": [
      "Creating gs://vertex-ai-devaip-20220317043422/...\n"
     ]
    }
   ],
   "source": [
    "! gsutil mb -l $REGION $BUCKET_URI"
   ]
  },
  {
   "cell_type": "markdown",
   "metadata": {
    "id": "validate_bucket"
   },
   "source": [
    "Finally, validate access to your Cloud Storage bucket by examining its contents:"
   ]
  },
  {
   "cell_type": "code",
   "execution_count": 14,
   "metadata": {
    "id": "validate_bucket"
   },
   "outputs": [],
   "source": [
    "! gsutil ls -al $BUCKET_URI"
   ]
  },
  {
   "cell_type": "markdown",
   "metadata": {
    "id": "setup_vars"
   },
   "source": [
    "### Set up variables\n",
    "\n",
    "Next, set up some variables used throughout the tutorial.\n",
    "### Import libraries and define constants"
   ]
  },
  {
   "cell_type": "code",
   "execution_count": 15,
   "metadata": {
    "id": "import_aip:mbsdk"
   },
   "outputs": [],
   "source": [
    "import google.cloud.aiplatform as aip"
   ]
  },
  {
   "cell_type": "markdown",
   "metadata": {
    "id": "init_aip:mbsdk"
   },
   "source": [
    "### Initialize Vertex AI SDK for Python\n",
    "\n",
    "Initialize the Vertex AI SDK for Python for your project and corresponding bucket."
   ]
  },
  {
   "cell_type": "code",
   "execution_count": 16,
   "metadata": {
    "id": "init_aip:mbsdk"
   },
   "outputs": [],
   "source": [
    "aip.init(project=PROJECT_ID, staging_bucket=BUCKET_URI)"
   ]
  },
  {
   "cell_type": "markdown",
   "metadata": {
    "id": "aip_constants"
   },
   "source": [
    "#### Vertex AI constants\n",
    "\n",
    "Setup up the following constants for Vertex AI:\n",
    "\n",
    "- `API_ENDPOINT`: The Vertex AI API service endpoint for `Dataset`, `Model`, `Job`, `Pipeline` and `Endpoint` services.\n",
    "- `PARENT`: The Vertex AI location root path for `Dataset`, `Model`, `Job`, `Pipeline` and `Endpoint` resources."
   ]
  },
  {
   "cell_type": "code",
   "execution_count": 17,
   "metadata": {
    "id": "aip_constants"
   },
   "outputs": [],
   "source": [
    "# API service endpoint\n",
    "API_ENDPOINT = \"{}-aiplatform.googleapis.com\".format(REGION)\n",
    "\n",
    "# Vertex location root path for your dataset, model and endpoint resources\n",
    "PARENT = \"projects/\" + PROJECT_ID + \"/locations/\" + REGION"
   ]
  },
  {
   "cell_type": "markdown",
   "metadata": {
    "id": "accelerators:training,mbsdk"
   },
   "source": [
    "#### Set hardware accelerators\n",
    "\n",
    "You can set hardware accelerators for training.\n",
    "\n",
    "Set the variable `TRAIN_GPU/TRAIN_NGPU` to use a container image supporting a GPU and the number of GPUs allocated to the virtual machine (VM) instance. For example, to use a GPU container image with 4 Nvidia Telsa K80 GPUs allocated to each VM, you would specify:\n",
    "\n",
    "    (aip.AcceleratorType.NVIDIA_TESLA_K80, 4)\n",
    "\n",
    "Otherwise specify `(None, None)` to use a container image to run on a CPU.\n",
    "\n",
    "Learn more [here](https://cloud.google.com/vertex-ai/docs/general/locations#accelerators) hardware accelerator support for your region"
   ]
  },
  {
   "cell_type": "code",
   "execution_count": 18,
   "metadata": {
    "id": "accelerators:training,mbsdk"
   },
   "outputs": [],
   "source": [
    "if os.getenv(\"IS_TESTING_TRAIN_GPU\"):\n",
    "    TRAIN_GPU, TRAIN_NGPU = (\n",
    "        aip.gapic.AcceleratorType.NVIDIA_TESLA_K80,\n",
    "        int(os.getenv(\"IS_TESTING_TRAIN_GPU\")),\n",
    "    )\n",
    "else:\n",
    "    TRAIN_GPU, TRAIN_NGPU = (aip.gapic.AcceleratorType.NVIDIA_TESLA_K80, 1)"
   ]
  },
  {
   "cell_type": "markdown",
   "metadata": {
    "id": "container:training"
   },
   "source": [
    "#### Set pre-built containers\n",
    "\n",
    "Set the pre-built Docker container image for training.\n",
    "\n",
    "- Set the variable `TF` to the TensorFlow version of the container image. For example, `2-1` would be version 2.1, and `1-15` would be version 1.15. The following list shows some of the pre-built images available:\n",
    "\n",
    "\n",
    "For the latest list, see [Pre-built containers for training](https://cloud.google.com/ai-platform-unified/docs/training/pre-built-containers)."
   ]
  },
  {
   "cell_type": "code",
   "execution_count": 19,
   "metadata": {
    "id": "container:training"
   },
   "outputs": [
    {
     "name": "stdout",
     "output_type": "stream",
     "text": [
      "Training: us-docker.pkg.dev/vertex-ai/training/tf-gpu.2-1:latest AcceleratorType.NVIDIA_TESLA_K80 1\n"
     ]
    }
   ],
   "source": [
    "if os.getenv(\"IS_TESTING_TF\"):\n",
    "    TF = os.getenv(\"IS_TESTING_TF\")\n",
    "else:\n",
    "    TF = \"2.1\".replace(\".\", \"-\")\n",
    "\n",
    "if TF[0] == \"2\":\n",
    "    if TRAIN_GPU:\n",
    "        TRAIN_VERSION = \"tf-gpu.{}\".format(TF)\n",
    "    else:\n",
    "        TRAIN_VERSION = \"tf-cpu.{}\".format(TF)\n",
    "else:\n",
    "    if TRAIN_GPU:\n",
    "        TRAIN_VERSION = \"tf-gpu.{}\".format(TF)\n",
    "    else:\n",
    "        TRAIN_VERSION = \"tf-cpu.{}\".format(TF)\n",
    "\n",
    "TRAIN_IMAGE = \"{}-docker.pkg.dev/vertex-ai/training/{}:latest\".format(\n",
    "    REGION.split(\"-\")[0], TRAIN_VERSION\n",
    ")\n",
    "\n",
    "print(\"Training:\", TRAIN_IMAGE, TRAIN_GPU, TRAIN_NGPU)"
   ]
  },
  {
   "cell_type": "markdown",
   "metadata": {
    "id": "machine:training"
   },
   "source": [
    "#### Set machine type\n",
    "\n",
    "Next, set the machine type to use for training.\n",
    "\n",
    "- Set the variable `TRAIN_COMPUTE` to configure  the compute resources for the VMs you will use for for training.\n",
    " - `machine type`\n",
    "     - `n1-standard`: 3.75GB of memory per vCPU.\n",
    "     - `n1-highmem`: 6.5GB of memory per vCPU\n",
    "     - `n1-highcpu`: 0.9 GB of memory per vCPU\n",
    " - `vCPUs`: number of \\[2, 4, 8, 16, 32, 64, 96 \\]\n",
    "\n",
    "*Note: The following is not supported for training:*\n",
    "\n",
    " - `standard`: 2 vCPUs\n",
    " - `highcpu`: 2, 4 and 8 vCPUs\n",
    "\n",
    "*Note: You may also use n2 and e2 machine types for training and deployment, but they do not support GPUs*."
   ]
  },
  {
   "cell_type": "code",
   "execution_count": 20,
   "metadata": {
    "id": "machine:training"
   },
   "outputs": [
    {
     "name": "stdout",
     "output_type": "stream",
     "text": [
      "Train machine type n1-standard-4\n"
     ]
    }
   ],
   "source": [
    "if os.getenv(\"IS_TESTING_TRAIN_MACHINE\"):\n",
    "    MACHINE_TYPE = os.getenv(\"IS_TESTING_TRAIN_MACHINE\")\n",
    "else:\n",
    "    MACHINE_TYPE = \"n1-standard\"\n",
    "\n",
    "VCPU = \"4\"\n",
    "TRAIN_COMPUTE = MACHINE_TYPE + \"-\" + VCPU\n",
    "print(\"Train machine type\", TRAIN_COMPUTE)"
   ]
  },
  {
   "cell_type": "markdown",
   "metadata": {
    "id": "vizier_intro"
   },
   "source": [
    "## Standalone Vertex AI Vizer service\n",
    "\n",
    "The `Vizier` service can be used as a standalone service for selecting the next set of parameters for a trial.\n",
    "\n",
    "*Note:* The service does not execute trials. You create your own trial and execution.\n",
    "\n",
    "Learn more about [Using Vizier](https://cloud.google.com/vertex-ai/docs/vizier/using-vizier)"
   ]
  },
  {
   "cell_type": "markdown",
   "metadata": {
    "id": "hpt_intro"
   },
   "source": [
    "## Vertex AI Hyperparameter Tuning service\n",
    "\n",
    "The following example demonstrates how to setup, execute and evaluate trials using the Vertex AI Hyperparameter Tuning service with `random` search algorithm.\n",
    "\n",
    "Learn more about [Overview of hyperparameter tuning](https://cloud.google.com/vertex-ai/docs/training/hyperparameter-tuning-overview)"
   ]
  },
  {
   "cell_type": "markdown",
   "metadata": {
    "id": "examine_training_package"
   },
   "source": [
    "### Examine the hyperparameter tuning package\n",
    "\n",
    "#### Package layout\n",
    "\n",
    "Before you start the hyperparameter tuning, you will look at how a Python package is assembled for a custom hyperparameter tuning job. When unarchived, the package contains the following directory/file layout.\n",
    "\n",
    "- PKG-INFO\n",
    "- README.md\n",
    "- setup.cfg\n",
    "- setup.py\n",
    "- trainer\n",
    "  - \\_\\_init\\_\\_.py\n",
    "  - task.py\n",
    "\n",
    "The files `setup.cfg` and `setup.py` are the instructions for installing the package into the operating environment of the Docker image.\n",
    "\n",
    "The file `trainer/task.py` is the Python script for executing the custom hyperparameter tuning job. *Note*, when we referred to it in the worker pool specification, we replace the directory slash with a dot (`trainer.task`) and dropped the file suffix (`.py`).\n",
    "\n",
    "#### Package Assembly\n",
    "\n",
    "In the following cells, you will assemble the training package."
   ]
  },
  {
   "cell_type": "code",
   "execution_count": 21,
   "metadata": {
    "id": "examine_training_package"
   },
   "outputs": [],
   "source": [
    "# Make folder for Python hyperparameter tuning script\n",
    "! rm -rf custom\n",
    "! mkdir custom\n",
    "\n",
    "# Add package information\n",
    "! touch custom/README.md\n",
    "\n",
    "setup_cfg = \"[egg_info]\\n\\ntag_build =\\n\\ntag_date = 0\"\n",
    "! echo \"$setup_cfg\" > custom/setup.cfg\n",
    "\n",
    "setup_py = \"import setuptools\\n\\nsetuptools.setup(\\n\\n    install_requires=[\\n\\n        'tensorflow==2.5.0',\\n\\n        'tensorflow_datasets==1.3.0',\\n\\n    ],\\n\\n    packages=setuptools.find_packages())\"\n",
    "! echo \"$setup_py\" > custom/setup.py\n",
    "\n",
    "pkg_info = \"Metadata-Version: 1.0\\n\\nName: Boston Housing tabular regression\\n\\nVersion: 0.0.0\\n\\nSummary: Demostration hyperparameter tuning script\\n\\nHome-page: www.google.com\\n\\nAuthor: Google\\n\\nAuthor-email: aferlitsch@google.com\\n\\nLicense: Public\\n\\nDescription: Demo\\n\\nPlatform: Vertex\"\n",
    "! echo \"$pkg_info\" > custom/PKG-INFO\n",
    "\n",
    "# Make the training subfolder\n",
    "! mkdir custom/trainer\n",
    "! touch custom/trainer/__init__.py"
   ]
  },
  {
   "cell_type": "markdown",
   "metadata": {
    "id": "taskpy_contents:hpt,boston"
   },
   "source": [
    "#### Task.py contents\n",
    "\n",
    "In the next cell, you write the contents of the hyperparameter tuning script task.py. I won't go into detail, it's just there for you to browse. In summary:\n",
    "\n",
    "- Parse the command line arguments for the hyperparameter settings for the current trial.\n",
    " - Get the directory where to save the model artifacts from the command line (`--model_dir`), and if not specified, then from the environment variable `AIP_MODEL_DIR`.\n",
    "- Download and preprocess the Boston Housing dataset.\n",
    "- Build a DNN model.\n",
    "- The number of units per dense layer and learning rate hyperparameter values are used during the build and compile of the model.\n",
    "- A definition of a callback `HPTCallback` which obtains the validation loss at the end of each epoch (`on_epoch_end()`) and reports it to the hyperparameter tuning service using `hpt.report_hyperparameter_tuning_metric()`.\n",
    "- Train the model with the `fit()` method and specify a callback which will report the validation loss back to the hyperparameter tuning service."
   ]
  },
  {
   "cell_type": "code",
   "execution_count": 22,
   "metadata": {
    "id": "taskpy_contents:hpt,boston"
   },
   "outputs": [
    {
     "name": "stdout",
     "output_type": "stream",
     "text": [
      "Writing custom/trainer/task.py\n"
     ]
    }
   ],
   "source": [
    "%%writefile custom/trainer/task.py\n",
    "# Custom Training for Boston Housing\n",
    "\n",
    "import tensorflow_datasets as tfds\n",
    "import tensorflow as tf\n",
    "from tensorflow.python.client import device_lib\n",
    "from hypertune import HyperTune\n",
    "import numpy as np\n",
    "import argparse\n",
    "import os\n",
    "import sys\n",
    "tfds.disable_progress_bar()\n",
    "\n",
    "parser = argparse.ArgumentParser()\n",
    "parser.add_argument('--model-dir', dest='model_dir',\n",
    "                    default=os.getenv('AIP_MODEL_DIR'), type=str, help='Model dir.')\n",
    "parser.add_argument('--lr', dest='lr',\n",
    "                    default=0.001, type=float,\n",
    "                    help='Learning rate.')\n",
    "parser.add_argument('--decay', dest='decay',\n",
    "                    default=0.98, type=float,\n",
    "                    help='Decay rate')\n",
    "parser.add_argument('--units', dest='units',\n",
    "                    default=64, type=int,\n",
    "                    help='Number of units.')\n",
    "parser.add_argument('--epochs', dest='epochs',\n",
    "                    default=20, type=int,\n",
    "                    help='Number of epochs.')\n",
    "parser.add_argument('--steps', dest='steps',\n",
    "                    default=200, type=int,\n",
    "                    help='Number of steps per epoch.')\n",
    "parser.add_argument('--param-file', dest='param_file',\n",
    "                    default='/tmp/param.txt', type=str,\n",
    "                    help='Output file for parameters')\n",
    "parser.add_argument('--distribute', dest='distribute', type=str, default='single',\n",
    "                    help='distributed training strategy')\n",
    "args = parser.parse_args()\n",
    "\n",
    "print('Python Version = {}'.format(sys.version))\n",
    "print('TensorFlow Version = {}'.format(tf.__version__))\n",
    "print('TF_CONFIG = {}'.format(os.environ.get('TF_CONFIG', 'Not found')))\n",
    "\n",
    "\n",
    "def make_dataset():\n",
    "\n",
    "  # Scaling Boston Housing data features\n",
    "  def scale(feature):\n",
    "    max = np.max(feature)\n",
    "    feature = (feature / max).astype(np.float)\n",
    "    return feature, max\n",
    "\n",
    "  (x_train, y_train), (x_test, y_test) = tf.keras.datasets.boston_housing.load_data(\n",
    "    path=\"boston_housing.npz\", test_split=0.2, seed=113\n",
    "  )\n",
    "  params = []\n",
    "  for _ in range(13):\n",
    "    x_train[_], max = scale(x_train[_])\n",
    "    x_test[_], _ = scale(x_test[_])\n",
    "    params.append(max)\n",
    "\n",
    "  # store the normalization (max) value for each feature\n",
    "  with tf.io.gfile.GFile(args.param_file, 'w') as f:\n",
    "    f.write(str(params))\n",
    "  return (x_train, y_train), (x_test, y_test)\n",
    "\n",
    "# Build the Keras model\n",
    "def build_and_compile_dnn_model():\n",
    "  model = tf.keras.Sequential([\n",
    "      tf.keras.layers.Dense(args.units, activation='relu', input_shape=(13,)),\n",
    "      tf.keras.layers.Dense(args.units, activation='relu'),\n",
    "      tf.keras.layers.Dense(1, activation='linear')\n",
    "  ])\n",
    "  model.compile(\n",
    "      loss='mse',\n",
    "      optimizer=tf.keras.optimizers.RMSprop(learning_rate=args.lr, decay=args.decay))\n",
    "  return model\n",
    "\n",
    "\n",
    "model = build_and_compile_dnn_model()\n",
    "\n",
    "# Instantiate the HyperTune reporting object\n",
    "hpt = HyperTune()\n",
    "\n",
    "# Reporting callback\n",
    "class HPTCallback(tf.keras.callbacks.Callback):\n",
    "\n",
    "    def on_epoch_end(self, epoch, logs=None):\n",
    "        global hpt\n",
    "        hpt.report_hyperparameter_tuning_metric(\n",
    "        hyperparameter_metric_tag='val_loss',\n",
    "        metric_value=logs['val_loss'],\n",
    "        global_step=epoch)\n",
    "\n",
    "# Train the model\n",
    "BATCH_SIZE = 16\n",
    "(x_train, y_train), (x_test, y_test) = make_dataset()\n",
    "model.fit(x_train, y_train, epochs=args.epochs, batch_size=BATCH_SIZE, validation_split=0.1, callbacks=[HPTCallback()])\n",
    "model.save(args.model_dir)"
   ]
  },
  {
   "cell_type": "markdown",
   "metadata": {
    "id": "tarball_training_script"
   },
   "source": [
    "#### Store hyperparameter tuning script on your Cloud Storage bucket\n",
    "\n",
    "Next, you package the hyperparameter tuning folder into a compressed tar ball, and then store it in your Cloud Storage bucket."
   ]
  },
  {
   "cell_type": "code",
   "execution_count": 23,
   "metadata": {
    "id": "tarball_training_script"
   },
   "outputs": [
    {
     "name": "stdout",
     "output_type": "stream",
     "text": [
      "custom/\n",
      "custom/trainer/\n",
      "custom/trainer/__init__.py\n",
      "custom/trainer/task.py\n",
      "custom/setup.cfg\n",
      "custom/README.md\n",
      "custom/setup.py\n",
      "custom/PKG-INFO\n",
      "Copying file://custom.tar.gz [Content-Type=application/x-tar]...\n",
      "/ [1 files][  1.8 KiB/  1.8 KiB]                                                \n",
      "Operation completed over 1 objects/1.8 KiB.                                      \n"
     ]
    }
   ],
   "source": [
    "! rm -f custom.tar custom.tar.gz\n",
    "! tar cvf custom.tar custom\n",
    "! gzip custom.tar\n",
    "! gsutil cp custom.tar.gz $BUCKET_URI/trainer_boston.tar.gz"
   ]
  },
  {
   "cell_type": "markdown",
   "metadata": {
    "id": "train_custom_job_machine_specification"
   },
   "source": [
    "### Prepare your machine specification\n",
    "\n",
    "Now define the machine specification for your custom hyperparameter tuning job. This tells Vertex what type of machine instance to provision for the hyperparameter tuning.\n",
    "  - `machine_type`: The type of GCP instance to provision -- e.g., n1-standard-8.\n",
    "  - `accelerator_type`: The type, if any, of hardware accelerator. In this tutorial if you previously set the variable `TRAIN_GPU != None`, you are using a GPU; otherwise you will use a CPU.\n",
    "  - `accelerator_count`: The number of accelerators."
   ]
  },
  {
   "cell_type": "code",
   "execution_count": 24,
   "metadata": {
    "id": "train_custom_job_machine_specification"
   },
   "outputs": [],
   "source": [
    "if TRAIN_GPU:\n",
    "    machine_spec = {\n",
    "        \"machine_type\": TRAIN_COMPUTE,\n",
    "        \"accelerator_type\": TRAIN_GPU,\n",
    "        \"accelerator_count\": TRAIN_NGPU,\n",
    "    }\n",
    "else:\n",
    "    machine_spec = {\"machine_type\": TRAIN_COMPUTE, \"accelerator_count\": 0}"
   ]
  },
  {
   "cell_type": "markdown",
   "metadata": {
    "id": "train_custom_job_disk_specification"
   },
   "source": [
    "### Prepare your disk specification\n",
    "\n",
    "(optional) Now define the disk specification for your custom hyperparameter tuning job. This tells Vertex what type and size of disk to provision in each machine instance for the hyperparameter tuning.\n",
    "\n",
    "  - `boot_disk_type`: Either SSD or Standard. SSD is faster, and Standard is less expensive. Defaults to SSD.\n",
    "  - `boot_disk_size_gb`: Size of disk in GB."
   ]
  },
  {
   "cell_type": "code",
   "execution_count": 25,
   "metadata": {
    "id": "train_custom_job_disk_specification"
   },
   "outputs": [],
   "source": [
    "DISK_TYPE = \"pd-ssd\"  # [ pd-ssd, pd-standard]\n",
    "DISK_SIZE = 200  # GB\n",
    "\n",
    "disk_spec = {\"boot_disk_type\": DISK_TYPE, \"boot_disk_size_gb\": DISK_SIZE}"
   ]
  },
  {
   "cell_type": "markdown",
   "metadata": {
    "id": "train_custom_job_worker_pool_specification:prebuilt_container"
   },
   "source": [
    "### Define the worker pool specification\n",
    "\n",
    "Next, you define the worker pool specification for your custom hyperparameter tuning job. The worker pool specification will consist of the following:\n",
    "\n",
    "- `replica_count`: The number of instances to provision of this machine type.\n",
    "- `machine_spec`: The hardware specification.\n",
    "- `disk_spec` : (optional) The disk storage specification.\n",
    "\n",
    "- `python_package`: The Python training package to install on the VM instance(s) and which Python module to invoke, along with command line arguments for the Python module.\n",
    "\n",
    "Let's dive deeper now into the python package specification:\n",
    "\n",
    "-`executor_image_spec`: This is the docker image which is configured for your custom hyperparameter tuning job.\n",
    "\n",
    "-`package_uris`: This is a list of the locations (URIs) of your python training packages to install on the provisioned instance. The locations need to be in a Cloud Storage bucket. These can be either individual python files or a zip (archive) of an entire package. In the later case, the job service will unzip (unarchive) the contents into the docker image.\n",
    "\n",
    "-`python_module`: The Python module (script) to invoke for running the custom hyperparameter tuning job. In this example, you will be invoking `trainer.task.py` -- note that it was not neccessary to append the `.py` suffix.\n",
    "\n",
    "-`args`: The command line arguments to pass to the corresponding Pythom module. In this example, you will be setting:\n",
    "  - `\"--model-dir=\" + MODEL_DIR` : The Cloud Storage location where to store the model artifacts. There are two ways to tell the hyperparameter tuning script where to save the model artifacts:\n",
    "      - direct: You pass the Cloud Storage location as a command line argument to your training script (set variable `DIRECT = True`), or\n",
    "      - indirect: The service passes the Cloud Storage location as the environment variable `AIP_MODEL_DIR` to your training script (set variable `DIRECT = False`). In this case, you tell the service the model artifact location in the job specification.\n",
    "  - `\"--epochs=\" + EPOCHS`: The number of epochs for training.\n",
    "  - `\"--steps=\" + STEPS`: The number of steps (batches) per epoch.\n",
    "  - `\"--distribute=\" + TRAIN_STRATEGY\"` : The hyperparameter tuning distribution strategy to use for single or distributed hyperparameter tuning.\n",
    "     - `\"single\"`: single device.\n",
    "     - `\"mirror\"`: all GPU devices on a single compute instance.\n",
    "     - `\"multi\"`: all GPU devices on all compute instances."
   ]
  },
  {
   "cell_type": "code",
   "execution_count": 26,
   "metadata": {
    "id": "train_custom_job_worker_pool_specification:prebuilt_container"
   },
   "outputs": [],
   "source": [
    "JOB_NAME = \"custom_job_\" + TIMESTAMP\n",
    "MODEL_DIR = \"{}/{}\".format(BUCKET_URI, JOB_NAME)\n",
    "\n",
    "if not TRAIN_NGPU or TRAIN_NGPU < 2:\n",
    "    TRAIN_STRATEGY = \"single\"\n",
    "else:\n",
    "    TRAIN_STRATEGY = \"mirror\"\n",
    "\n",
    "EPOCHS = 20\n",
    "STEPS = 100\n",
    "\n",
    "DIRECT = False\n",
    "if DIRECT:\n",
    "    CMDARGS = [\n",
    "        \"--model-dir=\" + MODEL_DIR,\n",
    "        \"--epochs=\" + str(EPOCHS),\n",
    "        \"--steps=\" + str(STEPS),\n",
    "        \"--distribute=\" + TRAIN_STRATEGY,\n",
    "    ]\n",
    "else:\n",
    "    CMDARGS = [\n",
    "        \"--epochs=\" + str(EPOCHS),\n",
    "        \"--steps=\" + str(STEPS),\n",
    "        \"--distribute=\" + TRAIN_STRATEGY,\n",
    "    ]\n",
    "\n",
    "worker_pool_spec = [\n",
    "    {\n",
    "        \"replica_count\": 1,\n",
    "        \"machine_spec\": machine_spec,\n",
    "        \"disk_spec\": disk_spec,\n",
    "        \"python_package_spec\": {\n",
    "            \"executor_image_uri\": TRAIN_IMAGE,\n",
    "            \"package_uris\": [BUCKET_URI + \"/trainer_boston.tar.gz\"],\n",
    "            \"python_module\": \"trainer.task\",\n",
    "            \"args\": CMDARGS,\n",
    "        },\n",
    "    }\n",
    "]"
   ]
  },
  {
   "cell_type": "markdown",
   "metadata": {
    "id": "create_custom_job:mbsdk"
   },
   "source": [
    "## Create a custom job\n",
    "\n",
    "Use the class `CustomJob` to create a custom job, such as for hyperparameter tuning, with the following parameters:\n",
    "\n",
    "- `display_name`: A human readable name for the custom job.\n",
    "- `worker_pool_specs`: The specification for the corresponding VM instances."
   ]
  },
  {
   "cell_type": "code",
   "execution_count": 27,
   "metadata": {
    "id": "create_custom_job:mbsdk"
   },
   "outputs": [],
   "source": [
    "job = aip.CustomJob(\n",
    "    display_name=\"boston_\" + TIMESTAMP, worker_pool_specs=worker_pool_spec\n",
    ")"
   ]
  },
  {
   "cell_type": "markdown",
   "metadata": {
    "id": "create_hpt_job:mbsdk"
   },
   "source": [
    "## Create a hyperparameter tuning job\n",
    "\n",
    "Use the class `HyperparameterTuningJob` to create a hyperparameter tuning job, with the following parameters:\n",
    "\n",
    "- `display_name`: A human readable name for the custom job.\n",
    "- `custom_job`: The worker pool spec from this custom job applies to the CustomJobs created in all the trials.\n",
    "- `metrics_spec`: The metrics to optimize. The dictionary key is the metric_id, which is reported by your training job, and the dictionary value is the optimization goal of the metric('minimize' or 'maximize').\n",
    "- `parameter_spec`: The parameters to optimize. The dictionary key is the metric_id, which is passed into your training job as a command line key word argument, and the dictionary value is the parameter specification of the metric.\n",
    "- `search_algorithm`: The search algorithm to use: `grid`, `random` and `None`. If `None` is specified, the `Vizier` service (Bayesian) is used.\n",
    "- `max_trial_count`: The maximum number of trials to perform."
   ]
  },
  {
   "cell_type": "code",
   "execution_count": 28,
   "metadata": {
    "id": "create_hpt_job:mbsdk"
   },
   "outputs": [],
   "source": [
    "from google.cloud.aiplatform import hyperparameter_tuning as hpt\n",
    "\n",
    "hpt_job = aip.HyperparameterTuningJob(\n",
    "    display_name=\"boston_\" + TIMESTAMP,\n",
    "    custom_job=job,\n",
    "    metric_spec={\n",
    "        \"val_loss\": \"minimize\",\n",
    "    },\n",
    "    parameter_spec={\n",
    "        \"lr\": hpt.DoubleParameterSpec(min=0.001, max=0.1, scale=\"log\"),\n",
    "        \"units\": hpt.IntegerParameterSpec(min=4, max=128, scale=\"linear\"),\n",
    "    },\n",
    "    search_algorithm=\"random\",\n",
    "    max_trial_count=6,\n",
    "    parallel_trial_count=1,\n",
    ")"
   ]
  },
  {
   "cell_type": "markdown",
   "metadata": {
    "id": "run_hpt_job:mbsdk"
   },
   "source": [
    "## Run the hyperparameter tuning job\n",
    "\n",
    "Use the `run()` method to execute the hyperparameter tuning job."
   ]
  },
  {
   "cell_type": "code",
   "execution_count": 29,
   "metadata": {
    "id": "run_hpt_job:mbsdk"
   },
   "outputs": [
    {
     "name": "stdout",
     "output_type": "stream",
     "text": [
      "INFO:google.cloud.aiplatform.jobs:Creating HyperparameterTuningJob\n",
      "INFO:google.cloud.aiplatform.jobs:HyperparameterTuningJob created. Resource name: projects/931647533046/locations/us-central1/hyperparameterTuningJobs/6247144143802335232\n",
      "INFO:google.cloud.aiplatform.jobs:To use this HyperparameterTuningJob in another session:\n",
      "INFO:google.cloud.aiplatform.jobs:hpt_job = aiplatform.HyperparameterTuningJob.get('projects/931647533046/locations/us-central1/hyperparameterTuningJobs/6247144143802335232')\n",
      "INFO:google.cloud.aiplatform.jobs:View HyperparameterTuningJob:\n",
      "https://console.cloud.google.com/ai/platform/locations/us-central1/training/6247144143802335232?project=931647533046\n",
      "INFO:google.cloud.aiplatform.jobs:HyperparameterTuningJob projects/931647533046/locations/us-central1/hyperparameterTuningJobs/6247144143802335232 current state:\n",
      "JobState.JOB_STATE_PENDING\n",
      "INFO:google.cloud.aiplatform.jobs:HyperparameterTuningJob projects/931647533046/locations/us-central1/hyperparameterTuningJobs/6247144143802335232 current state:\n",
      "JobState.JOB_STATE_RUNNING\n",
      "INFO:google.cloud.aiplatform.jobs:HyperparameterTuningJob projects/931647533046/locations/us-central1/hyperparameterTuningJobs/6247144143802335232 current state:\n",
      "JobState.JOB_STATE_RUNNING\n",
      "INFO:google.cloud.aiplatform.jobs:HyperparameterTuningJob projects/931647533046/locations/us-central1/hyperparameterTuningJobs/6247144143802335232 current state:\n",
      "JobState.JOB_STATE_RUNNING\n",
      "INFO:google.cloud.aiplatform.jobs:HyperparameterTuningJob projects/931647533046/locations/us-central1/hyperparameterTuningJobs/6247144143802335232 current state:\n",
      "JobState.JOB_STATE_RUNNING\n",
      "INFO:google.cloud.aiplatform.jobs:HyperparameterTuningJob projects/931647533046/locations/us-central1/hyperparameterTuningJobs/6247144143802335232 current state:\n",
      "JobState.JOB_STATE_RUNNING\n",
      "INFO:google.cloud.aiplatform.jobs:HyperparameterTuningJob projects/931647533046/locations/us-central1/hyperparameterTuningJobs/6247144143802335232 current state:\n",
      "JobState.JOB_STATE_RUNNING\n",
      "INFO:google.cloud.aiplatform.jobs:HyperparameterTuningJob projects/931647533046/locations/us-central1/hyperparameterTuningJobs/6247144143802335232 current state:\n",
      "JobState.JOB_STATE_RUNNING\n",
      "INFO:google.cloud.aiplatform.jobs:HyperparameterTuningJob projects/931647533046/locations/us-central1/hyperparameterTuningJobs/6247144143802335232 current state:\n",
      "JobState.JOB_STATE_RUNNING\n",
      "INFO:google.cloud.aiplatform.jobs:HyperparameterTuningJob projects/931647533046/locations/us-central1/hyperparameterTuningJobs/6247144143802335232 current state:\n",
      "JobState.JOB_STATE_RUNNING\n",
      "INFO:google.cloud.aiplatform.jobs:HyperparameterTuningJob projects/931647533046/locations/us-central1/hyperparameterTuningJobs/6247144143802335232 current state:\n",
      "JobState.JOB_STATE_RUNNING\n",
      "INFO:google.cloud.aiplatform.jobs:HyperparameterTuningJob projects/931647533046/locations/us-central1/hyperparameterTuningJobs/6247144143802335232 current state:\n",
      "JobState.JOB_STATE_RUNNING\n",
      "INFO:google.cloud.aiplatform.jobs:HyperparameterTuningJob projects/931647533046/locations/us-central1/hyperparameterTuningJobs/6247144143802335232 current state:\n",
      "JobState.JOB_STATE_RUNNING\n",
      "INFO:google.cloud.aiplatform.jobs:HyperparameterTuningJob projects/931647533046/locations/us-central1/hyperparameterTuningJobs/6247144143802335232 current state:\n",
      "JobState.JOB_STATE_RUNNING\n",
      "INFO:google.cloud.aiplatform.jobs:HyperparameterTuningJob projects/931647533046/locations/us-central1/hyperparameterTuningJobs/6247144143802335232 current state:\n",
      "JobState.JOB_STATE_RUNNING\n",
      "INFO:google.cloud.aiplatform.jobs:HyperparameterTuningJob projects/931647533046/locations/us-central1/hyperparameterTuningJobs/6247144143802335232 current state:\n",
      "JobState.JOB_STATE_RUNNING\n",
      "INFO:google.cloud.aiplatform.jobs:HyperparameterTuningJob projects/931647533046/locations/us-central1/hyperparameterTuningJobs/6247144143802335232 current state:\n",
      "JobState.JOB_STATE_RUNNING\n",
      "INFO:google.cloud.aiplatform.jobs:HyperparameterTuningJob projects/931647533046/locations/us-central1/hyperparameterTuningJobs/6247144143802335232 current state:\n",
      "JobState.JOB_STATE_SUCCEEDED\n",
      "INFO:google.cloud.aiplatform.jobs:HyperparameterTuningJob run completed. Resource name: projects/931647533046/locations/us-central1/hyperparameterTuningJobs/6247144143802335232\n"
     ]
    }
   ],
   "source": [
    "hpt_job.run()"
   ]
  },
  {
   "cell_type": "markdown",
   "metadata": {
    "id": "hpt_trial_results:mbsdk"
   },
   "source": [
    "### Display the hyperparameter tuning job trial results\n",
    "\n",
    "After the hyperparameter tuning job has completed, the property `trials` will return the results for each trial."
   ]
  },
  {
   "cell_type": "code",
   "execution_count": 30,
   "metadata": {
    "id": "hpt_trial_results:mbsdk"
   },
   "outputs": [
    {
     "name": "stdout",
     "output_type": "stream",
     "text": [
      "[id: \"1\"\n",
      "state: SUCCEEDED\n",
      "parameters {\n",
      "  parameter_id: \"lr\"\n",
      "  value {\n",
      "    number_value: 0.027811423306355023\n",
      "  }\n",
      "}\n",
      "parameters {\n",
      "  parameter_id: \"units\"\n",
      "  value {\n",
      "    number_value: 32.0\n",
      "  }\n",
      "}\n",
      "final_measurement {\n",
      "  step_count: 19\n",
      "  metrics {\n",
      "    metric_id: \"val_loss\"\n",
      "    value: 33.01795196533203\n",
      "  }\n",
      "}\n",
      "start_time {\n",
      "  seconds: 1647491931\n",
      "  nanos: 509249371\n",
      "}\n",
      "end_time {\n",
      "  seconds: 1647492244\n",
      "}\n",
      ", id: \"2\"\n",
      "state: SUCCEEDED\n",
      "parameters {\n",
      "  parameter_id: \"lr\"\n",
      "  value {\n",
      "    number_value: 0.0017143127138743517\n",
      "  }\n",
      "}\n",
      "parameters {\n",
      "  parameter_id: \"units\"\n",
      "  value {\n",
      "    number_value: 14.0\n",
      "  }\n",
      "}\n",
      "final_measurement {\n",
      "  step_count: 19\n",
      "  metrics {\n",
      "    metric_id: \"val_loss\"\n",
      "    value: 827.4771118164062\n",
      "  }\n",
      "}\n",
      "start_time {\n",
      "  seconds: 1647492580\n",
      "  nanos: 739294544\n",
      "}\n",
      "end_time {\n",
      "  seconds: 1647492882\n",
      "}\n",
      ", id: \"3\"\n",
      "state: SUCCEEDED\n",
      "parameters {\n",
      "  parameter_id: \"lr\"\n",
      "  value {\n",
      "    number_value: 0.0039035443577781935\n",
      "  }\n",
      "}\n",
      "parameters {\n",
      "  parameter_id: \"units\"\n",
      "  value {\n",
      "    number_value: 64.0\n",
      "  }\n",
      "}\n",
      "final_measurement {\n",
      "  step_count: 19\n",
      "  metrics {\n",
      "    metric_id: \"val_loss\"\n",
      "    value: 28.145639419555664\n",
      "  }\n",
      "}\n",
      "start_time {\n",
      "  seconds: 1647493219\n",
      "  nanos: 793316433\n",
      "}\n",
      "end_time {\n",
      "  seconds: 1647493522\n",
      "}\n",
      ", id: \"4\"\n",
      "state: SUCCEEDED\n",
      "parameters {\n",
      "  parameter_id: \"lr\"\n",
      "  value {\n",
      "    number_value: 0.006277298977002078\n",
      "  }\n",
      "}\n",
      "parameters {\n",
      "  parameter_id: \"units\"\n",
      "  value {\n",
      "    number_value: 106.0\n",
      "  }\n",
      "}\n",
      "final_measurement {\n",
      "  step_count: 19\n",
      "  metrics {\n",
      "    metric_id: \"val_loss\"\n",
      "    value: 21.635236740112305\n",
      "  }\n",
      "}\n",
      "start_time {\n",
      "  seconds: 1647493856\n",
      "  nanos: 144069132\n",
      "}\n",
      "end_time {\n",
      "  seconds: 1647494159\n",
      "}\n",
      ", id: \"5\"\n",
      "state: SUCCEEDED\n",
      "parameters {\n",
      "  parameter_id: \"lr\"\n",
      "  value {\n",
      "    number_value: 0.02002827780580902\n",
      "  }\n",
      "}\n",
      "parameters {\n",
      "  parameter_id: \"units\"\n",
      "  value {\n",
      "    number_value: 50.0\n",
      "  }\n",
      "}\n",
      "final_measurement {\n",
      "  step_count: 17\n",
      "  metrics {\n",
      "    metric_id: \"val_loss\"\n",
      "    value: 26.606237411499023\n",
      "  }\n",
      "}\n",
      "start_time {\n",
      "  seconds: 1647494527\n",
      "  nanos: 366530409\n",
      "}\n",
      "end_time {\n",
      "  seconds: 1647494826\n",
      "}\n",
      ", id: \"6\"\n",
      "state: SUCCEEDED\n",
      "parameters {\n",
      "  parameter_id: \"lr\"\n",
      "  value {\n",
      "    number_value: 0.003982176160350557\n",
      "  }\n",
      "}\n",
      "parameters {\n",
      "  parameter_id: \"units\"\n",
      "  value {\n",
      "    number_value: 47.0\n",
      "  }\n",
      "}\n",
      "final_measurement {\n",
      "  step_count: 6\n",
      "  metrics {\n",
      "    metric_id: \"val_loss\"\n",
      "    value: 55.38731384277344\n",
      "  }\n",
      "}\n",
      "start_time {\n",
      "  seconds: 1647495194\n",
      "  nanos: 609807724\n",
      "}\n",
      "end_time {\n",
      "  seconds: 1647495493\n",
      "}\n",
      "]\n"
     ]
    }
   ],
   "source": [
    "print(hpt_job.trials)"
   ]
  },
  {
   "cell_type": "markdown",
   "metadata": {
    "id": "best_trial:mbsdk"
   },
   "source": [
    "### Best trial\n",
    "\n",
    "Now look at which trial was the best:"
   ]
  },
  {
   "cell_type": "code",
   "execution_count": 31,
   "metadata": {
    "id": "best_trial:mbsdk"
   },
   "outputs": [
    {
     "name": "stdout",
     "output_type": "stream",
     "text": [
      "('2', 0.0017143127138743517, 14.0, 827.4771118164062)\n"
     ]
    }
   ],
   "source": [
    "best = (None, None, None, 0.0)\n",
    "for trial in hpt_job.trials:\n",
    "    # Keep track of the best outcome\n",
    "    if float(trial.final_measurement.metrics[0].value) > best[3]:\n",
    "        try:\n",
    "            best = (\n",
    "                trial.id,\n",
    "                float(trial.parameters[0].value),\n",
    "                float(trial.parameters[1].value),\n",
    "                float(trial.final_measurement.metrics[0].value),\n",
    "            )\n",
    "        except:\n",
    "            best = (\n",
    "                trial.id,\n",
    "                float(trial.parameters[0].value),\n",
    "                None,\n",
    "                float(trial.final_measurement.metrics[0].value),\n",
    "            )\n",
    "\n",
    "print(best)"
   ]
  },
  {
   "cell_type": "markdown",
   "metadata": {
    "id": "get_best_model"
   },
   "source": [
    "## Get the Best Model\n",
    "\n",
    "If you used the method of having the service tell the tuning script where to save the model artifacts (`DIRECT = False`), then the model artifacts for the best model are saved at:\n",
    "\n",
    "    MODEL_DIR/<best_trial_id>/model"
   ]
  },
  {
   "cell_type": "code",
   "execution_count": 32,
   "metadata": {
    "id": "get_best_model"
   },
   "outputs": [],
   "source": [
    "BEST_MODEL_DIR = MODEL_DIR + \"/\" + best[0] + \"/model\""
   ]
  },
  {
   "cell_type": "markdown",
   "metadata": {
    "id": "delete_hpt_job"
   },
   "source": [
    "### Delete the hyperparameter tuning job\n",
    "\n",
    "The method 'delete()' will delete the hyperparameter tuning job."
   ]
  },
  {
   "cell_type": "code",
   "execution_count": 33,
   "metadata": {
    "id": "delete_hpt_job"
   },
   "outputs": [
    {
     "name": "stdout",
     "output_type": "stream",
     "text": [
      "INFO:google.cloud.aiplatform.base:Deleting HyperparameterTuningJob : projects/931647533046/locations/us-central1/hyperparameterTuningJobs/6247144143802335232\n",
      "INFO:google.cloud.aiplatform.base:Delete HyperparameterTuningJob  backing LRO: projects/931647533046/locations/us-central1/operations/6292685984144293888\n",
      "INFO:google.cloud.aiplatform.base:HyperparameterTuningJob deleted. . Resource name: projects/931647533046/locations/us-central1/hyperparameterTuningJobs/6247144143802335232\n"
     ]
    }
   ],
   "source": [
    "hpt_job.delete()"
   ]
  },
  {
   "cell_type": "markdown",
   "metadata": {
    "id": "hpt_vizier_intro"
   },
   "source": [
    "## Vertex AI Hyperparameter Tuning and Vertex AI Vizer service combined\n",
    "\n",
    "The following example demonstrates how to setup, execute and evaluate trials using the Vertex AI Hyperparameter Tuning service with `Vizier` search service."
   ]
  },
  {
   "cell_type": "markdown",
   "metadata": {
    "id": "create_custom_job:mbsdk"
   },
   "source": [
    "## Create a custom job\n",
    "\n",
    "Use the class `CustomJob` to create a custom job, such as for hyperparameter tuning, with the following parameters:\n",
    "\n",
    "- `display_name`: A human readable name for the custom job.\n",
    "- `worker_pool_specs`: The specification for the corresponding VM instances."
   ]
  },
  {
   "cell_type": "code",
   "execution_count": 34,
   "metadata": {
    "id": "create_custom_job:mbsdk"
   },
   "outputs": [],
   "source": [
    "job = aip.CustomJob(\n",
    "    display_name=\"boston_\" + TIMESTAMP, worker_pool_specs=worker_pool_spec\n",
    ")"
   ]
  },
  {
   "cell_type": "markdown",
   "metadata": {
    "id": "create_hpt_job:mbsdk,vizier"
   },
   "source": [
    "## Create a hyperparameter tuning job\n",
    "\n",
    "Use the class `HyperparameterTuningJob` to create a hyperparameter tuning job, with the following parameters:\n",
    "\n",
    "- `display_name`: A human readable name for the custom job.\n",
    "- `custom_job`: The worker pool spec from this custom job applies to the CustomJobs created in all the trials.\n",
    "- `metrics_spec`: The metrics to optimize. The dictionary key is the metric_id, which is reported by your training job, and the dictionary value is the optimization goal of the metric('minimize' or 'maximize').\n",
    "- `parameter_spec`: The parameters to optimize. The dictionary key is the metric_id, which is passed into your training job as a command line key word argument, and the dictionary value is the parameter specification of the metric.\n",
    "- `search_algorithm`: The search algorithm to use: `grid`, `random` and `None`. If `None` is specified, the `Vizier` service (Bayesian) is used.\n",
    "- `max_trial_count`: The maximum number of trials to perform."
   ]
  },
  {
   "cell_type": "code",
   "execution_count": 35,
   "metadata": {
    "id": "create_hpt_job:mbsdk,vizier"
   },
   "outputs": [],
   "source": [
    "from google.cloud.aiplatform import hyperparameter_tuning as hpt\n",
    "\n",
    "hpt_job = aip.HyperparameterTuningJob(\n",
    "    display_name=\"boston_\" + TIMESTAMP,\n",
    "    custom_job=job,\n",
    "    metric_spec={\n",
    "        \"val_loss\": \"minimize\",\n",
    "    },\n",
    "    parameter_spec={\n",
    "        \"lr\": hpt.DoubleParameterSpec(min=0.0001, max=0.1, scale=\"log\"),\n",
    "        \"units\": hpt.IntegerParameterSpec(min=4, max=512, scale=\"linear\"),\n",
    "    },\n",
    "    search_algorithm=None,\n",
    "    max_trial_count=12,\n",
    "    parallel_trial_count=1,\n",
    ")"
   ]
  },
  {
   "cell_type": "markdown",
   "metadata": {
    "id": "run_hpt_job:mbsdk"
   },
   "source": [
    "## Run the hyperparameter tuning job\n",
    "\n",
    "Use the `run()` method to execute the hyperparameter tuning job."
   ]
  },
  {
   "cell_type": "code",
   "execution_count": 36,
   "metadata": {
    "id": "run_hpt_job:mbsdk"
   },
   "outputs": [
    {
     "name": "stdout",
     "output_type": "stream",
     "text": [
      "INFO:google.cloud.aiplatform.jobs:Creating HyperparameterTuningJob\n",
      "INFO:google.cloud.aiplatform.jobs:HyperparameterTuningJob created. Resource name: projects/931647533046/locations/us-central1/hyperparameterTuningJobs/8072227892794228736\n",
      "INFO:google.cloud.aiplatform.jobs:To use this HyperparameterTuningJob in another session:\n",
      "INFO:google.cloud.aiplatform.jobs:hpt_job = aiplatform.HyperparameterTuningJob.get('projects/931647533046/locations/us-central1/hyperparameterTuningJobs/8072227892794228736')\n",
      "INFO:google.cloud.aiplatform.jobs:View HyperparameterTuningJob:\n",
      "https://console.cloud.google.com/ai/platform/locations/us-central1/training/8072227892794228736?project=931647533046\n",
      "INFO:google.cloud.aiplatform.jobs:HyperparameterTuningJob projects/931647533046/locations/us-central1/hyperparameterTuningJobs/8072227892794228736 current state:\n",
      "JobState.JOB_STATE_PENDING\n",
      "INFO:google.cloud.aiplatform.jobs:HyperparameterTuningJob projects/931647533046/locations/us-central1/hyperparameterTuningJobs/8072227892794228736 current state:\n",
      "JobState.JOB_STATE_RUNNING\n",
      "INFO:google.cloud.aiplatform.jobs:HyperparameterTuningJob projects/931647533046/locations/us-central1/hyperparameterTuningJobs/8072227892794228736 current state:\n",
      "JobState.JOB_STATE_RUNNING\n",
      "INFO:google.cloud.aiplatform.jobs:HyperparameterTuningJob projects/931647533046/locations/us-central1/hyperparameterTuningJobs/8072227892794228736 current state:\n",
      "JobState.JOB_STATE_RUNNING\n",
      "INFO:google.cloud.aiplatform.jobs:HyperparameterTuningJob projects/931647533046/locations/us-central1/hyperparameterTuningJobs/8072227892794228736 current state:\n",
      "JobState.JOB_STATE_RUNNING\n",
      "INFO:google.cloud.aiplatform.jobs:HyperparameterTuningJob projects/931647533046/locations/us-central1/hyperparameterTuningJobs/8072227892794228736 current state:\n",
      "JobState.JOB_STATE_RUNNING\n",
      "INFO:google.cloud.aiplatform.jobs:HyperparameterTuningJob projects/931647533046/locations/us-central1/hyperparameterTuningJobs/8072227892794228736 current state:\n",
      "JobState.JOB_STATE_RUNNING\n",
      "INFO:google.cloud.aiplatform.jobs:HyperparameterTuningJob projects/931647533046/locations/us-central1/hyperparameterTuningJobs/8072227892794228736 current state:\n",
      "JobState.JOB_STATE_RUNNING\n",
      "INFO:google.cloud.aiplatform.jobs:HyperparameterTuningJob projects/931647533046/locations/us-central1/hyperparameterTuningJobs/8072227892794228736 current state:\n",
      "JobState.JOB_STATE_RUNNING\n",
      "INFO:google.cloud.aiplatform.jobs:HyperparameterTuningJob projects/931647533046/locations/us-central1/hyperparameterTuningJobs/8072227892794228736 current state:\n",
      "JobState.JOB_STATE_RUNNING\n",
      "INFO:google.cloud.aiplatform.jobs:HyperparameterTuningJob projects/931647533046/locations/us-central1/hyperparameterTuningJobs/8072227892794228736 current state:\n",
      "JobState.JOB_STATE_RUNNING\n",
      "INFO:google.cloud.aiplatform.jobs:HyperparameterTuningJob projects/931647533046/locations/us-central1/hyperparameterTuningJobs/8072227892794228736 current state:\n",
      "JobState.JOB_STATE_RUNNING\n",
      "INFO:google.cloud.aiplatform.jobs:HyperparameterTuningJob projects/931647533046/locations/us-central1/hyperparameterTuningJobs/8072227892794228736 current state:\n",
      "JobState.JOB_STATE_RUNNING\n",
      "INFO:google.cloud.aiplatform.jobs:HyperparameterTuningJob projects/931647533046/locations/us-central1/hyperparameterTuningJobs/8072227892794228736 current state:\n",
      "JobState.JOB_STATE_RUNNING\n",
      "INFO:google.cloud.aiplatform.jobs:HyperparameterTuningJob projects/931647533046/locations/us-central1/hyperparameterTuningJobs/8072227892794228736 current state:\n",
      "JobState.JOB_STATE_RUNNING\n",
      "INFO:google.cloud.aiplatform.jobs:HyperparameterTuningJob projects/931647533046/locations/us-central1/hyperparameterTuningJobs/8072227892794228736 current state:\n",
      "JobState.JOB_STATE_RUNNING\n",
      "INFO:google.cloud.aiplatform.jobs:HyperparameterTuningJob projects/931647533046/locations/us-central1/hyperparameterTuningJobs/8072227892794228736 current state:\n",
      "JobState.JOB_STATE_RUNNING\n",
      "INFO:google.cloud.aiplatform.jobs:HyperparameterTuningJob projects/931647533046/locations/us-central1/hyperparameterTuningJobs/8072227892794228736 current state:\n",
      "JobState.JOB_STATE_RUNNING\n",
      "INFO:google.cloud.aiplatform.jobs:HyperparameterTuningJob projects/931647533046/locations/us-central1/hyperparameterTuningJobs/8072227892794228736 current state:\n",
      "JobState.JOB_STATE_RUNNING\n",
      "INFO:google.cloud.aiplatform.jobs:HyperparameterTuningJob projects/931647533046/locations/us-central1/hyperparameterTuningJobs/8072227892794228736 current state:\n",
      "JobState.JOB_STATE_RUNNING\n",
      "INFO:google.cloud.aiplatform.jobs:HyperparameterTuningJob projects/931647533046/locations/us-central1/hyperparameterTuningJobs/8072227892794228736 current state:\n",
      "JobState.JOB_STATE_RUNNING\n",
      "INFO:google.cloud.aiplatform.jobs:HyperparameterTuningJob projects/931647533046/locations/us-central1/hyperparameterTuningJobs/8072227892794228736 current state:\n",
      "JobState.JOB_STATE_RUNNING\n",
      "INFO:google.cloud.aiplatform.jobs:HyperparameterTuningJob projects/931647533046/locations/us-central1/hyperparameterTuningJobs/8072227892794228736 current state:\n",
      "JobState.JOB_STATE_RUNNING\n",
      "INFO:google.cloud.aiplatform.jobs:HyperparameterTuningJob projects/931647533046/locations/us-central1/hyperparameterTuningJobs/8072227892794228736 current state:\n",
      "JobState.JOB_STATE_RUNNING\n",
      "INFO:google.cloud.aiplatform.jobs:HyperparameterTuningJob projects/931647533046/locations/us-central1/hyperparameterTuningJobs/8072227892794228736 current state:\n",
      "JobState.JOB_STATE_RUNNING\n",
      "INFO:google.cloud.aiplatform.jobs:HyperparameterTuningJob projects/931647533046/locations/us-central1/hyperparameterTuningJobs/8072227892794228736 current state:\n",
      "JobState.JOB_STATE_RUNNING\n",
      "INFO:google.cloud.aiplatform.jobs:HyperparameterTuningJob projects/931647533046/locations/us-central1/hyperparameterTuningJobs/8072227892794228736 current state:\n",
      "JobState.JOB_STATE_RUNNING\n",
      "INFO:google.cloud.aiplatform.jobs:HyperparameterTuningJob projects/931647533046/locations/us-central1/hyperparameterTuningJobs/8072227892794228736 current state:\n",
      "JobState.JOB_STATE_RUNNING\n",
      "INFO:google.cloud.aiplatform.jobs:HyperparameterTuningJob projects/931647533046/locations/us-central1/hyperparameterTuningJobs/8072227892794228736 current state:\n",
      "JobState.JOB_STATE_RUNNING\n",
      "INFO:google.cloud.aiplatform.jobs:HyperparameterTuningJob projects/931647533046/locations/us-central1/hyperparameterTuningJobs/8072227892794228736 current state:\n",
      "JobState.JOB_STATE_RUNNING\n",
      "INFO:google.cloud.aiplatform.jobs:HyperparameterTuningJob projects/931647533046/locations/us-central1/hyperparameterTuningJobs/8072227892794228736 current state:\n",
      "JobState.JOB_STATE_SUCCEEDED\n",
      "INFO:google.cloud.aiplatform.jobs:HyperparameterTuningJob run completed. Resource name: projects/931647533046/locations/us-central1/hyperparameterTuningJobs/8072227892794228736\n"
     ]
    }
   ],
   "source": [
    "hpt_job.run()"
   ]
  },
  {
   "cell_type": "markdown",
   "metadata": {
    "id": "hpt_trial_results:mbsdk"
   },
   "source": [
    "### Display the hyperparameter tuning job trial results\n",
    "\n",
    "After the hyperparameter tuning job has completed, the property `trials` will return the results for each trial."
   ]
  },
  {
   "cell_type": "code",
   "execution_count": 37,
   "metadata": {
    "collapsed": true,
    "id": "hpt_trial_results:mbsdk",
    "jupyter": {
     "outputs_hidden": true
    },
    "tags": []
   },
   "outputs": [
    {
     "name": "stdout",
     "output_type": "stream",
     "text": [
      "[id: \"1\"\n",
      "state: SUCCEEDED\n",
      "parameters {\n",
      "  parameter_id: \"lr\"\n",
      "  value {\n",
      "    number_value: 0.003162277660168379\n",
      "  }\n",
      "}\n",
      "parameters {\n",
      "  parameter_id: \"units\"\n",
      "  value {\n",
      "    number_value: 258.0\n",
      "  }\n",
      "}\n",
      "final_measurement {\n",
      "  step_count: 19\n",
      "  metrics {\n",
      "    metric_id: \"val_loss\"\n",
      "    value: 22.584911346435547\n",
      "  }\n",
      "}\n",
      "start_time {\n",
      "  seconds: 1647496373\n",
      "  nanos: 906660003\n",
      "}\n",
      "end_time {\n",
      "  seconds: 1647496717\n",
      "}\n",
      ", id: \"2\"\n",
      "state: SUCCEEDED\n",
      "parameters {\n",
      "  parameter_id: \"lr\"\n",
      "  value {\n",
      "    number_value: 0.014452495617692955\n",
      "  }\n",
      "}\n",
      "parameters {\n",
      "  parameter_id: \"units\"\n",
      "  value {\n",
      "    number_value: 370.0\n",
      "  }\n",
      "}\n",
      "final_measurement {\n",
      "  step_count: 19\n",
      "  metrics {\n",
      "    metric_id: \"val_loss\"\n",
      "    value: 45.8549919128418\n",
      "  }\n",
      "}\n",
      "start_time {\n",
      "  seconds: 1647497056\n",
      "  nanos: 731519597\n",
      "}\n",
      "end_time {\n",
      "  seconds: 1647497391\n",
      "}\n",
      ", id: \"3\"\n",
      "state: SUCCEEDED\n",
      "parameters {\n",
      "  parameter_id: \"lr\"\n",
      "  value {\n",
      "    number_value: 0.000867782295054441\n",
      "  }\n",
      "}\n",
      "parameters {\n",
      "  parameter_id: \"units\"\n",
      "  value {\n",
      "    number_value: 251.0\n",
      "  }\n",
      "}\n",
      "final_measurement {\n",
      "  step_count: 18\n",
      "  metrics {\n",
      "    metric_id: \"val_loss\"\n",
      "    value: 23.79774284362793\n",
      "  }\n",
      "}\n",
      "start_time {\n",
      "  seconds: 1647497699\n",
      "  nanos: 861040878\n",
      "}\n",
      "end_time {\n",
      "  seconds: 1647498005\n",
      "}\n",
      ", id: \"4\"\n",
      "state: SUCCEEDED\n",
      "parameters {\n",
      "  parameter_id: \"lr\"\n",
      "  value {\n",
      "    number_value: 0.0015925329499507125\n",
      "  }\n",
      "}\n",
      "parameters {\n",
      "  parameter_id: \"units\"\n",
      "  value {\n",
      "    number_value: 212.0\n",
      "  }\n",
      "}\n",
      "final_measurement {\n",
      "  step_count: 19\n",
      "  metrics {\n",
      "    metric_id: \"val_loss\"\n",
      "    value: 22.165346145629883\n",
      "  }\n",
      "}\n",
      "start_time {\n",
      "  seconds: 1647498370\n",
      "  nanos: 439908404\n",
      "}\n",
      "end_time {\n",
      "  seconds: 1647498694\n",
      "}\n",
      ", id: \"5\"\n",
      "state: SUCCEEDED\n",
      "parameters {\n",
      "  parameter_id: \"lr\"\n",
      "  value {\n",
      "    number_value: 0.002039689140599115\n",
      "  }\n",
      "}\n",
      "parameters {\n",
      "  parameter_id: \"units\"\n",
      "  value {\n",
      "    number_value: 203.0\n",
      "  }\n",
      "}\n",
      "final_measurement {\n",
      "  step_count: 19\n",
      "  metrics {\n",
      "    metric_id: \"val_loss\"\n",
      "    value: 23.949134826660156\n",
      "  }\n",
      "}\n",
      "start_time {\n",
      "  seconds: 1647499010\n",
      "  nanos: 880232417\n",
      "}\n",
      "end_time {\n",
      "  seconds: 1647499329\n",
      "}\n",
      ", id: \"6\"\n",
      "state: SUCCEEDED\n",
      "parameters {\n",
      "  parameter_id: \"lr\"\n",
      "  value {\n",
      "    number_value: 0.0009414154947356808\n",
      "  }\n",
      "}\n",
      "parameters {\n",
      "  parameter_id: \"units\"\n",
      "  value {\n",
      "    number_value: 183.0\n",
      "  }\n",
      "}\n",
      "final_measurement {\n",
      "  step_count: 19\n",
      "  metrics {\n",
      "    metric_id: \"val_loss\"\n",
      "    value: 25.076364517211914\n",
      "  }\n",
      "}\n",
      "start_time {\n",
      "  seconds: 1647499650\n",
      "  nanos: 497120308\n",
      "}\n",
      "end_time {\n",
      "  seconds: 1647499954\n",
      "}\n",
      ", id: \"7\"\n",
      "state: SUCCEEDED\n",
      "parameters {\n",
      "  parameter_id: \"lr\"\n",
      "  value {\n",
      "    number_value: 0.0020164537310396985\n",
      "  }\n",
      "}\n",
      "parameters {\n",
      "  parameter_id: \"units\"\n",
      "  value {\n",
      "    number_value: 229.0\n",
      "  }\n",
      "}\n",
      "final_measurement {\n",
      "  step_count: 19\n",
      "  metrics {\n",
      "    metric_id: \"val_loss\"\n",
      "    value: 24.9825439453125\n",
      "  }\n",
      "}\n",
      "start_time {\n",
      "  seconds: 1647500321\n",
      "  nanos: 580062182\n",
      "}\n",
      "end_time {\n",
      "  seconds: 1647500619\n",
      "}\n",
      ", id: \"8\"\n",
      "state: SUCCEEDED\n",
      "parameters {\n",
      "  parameter_id: \"lr\"\n",
      "  value {\n",
      "    number_value: 0.001928732251393682\n",
      "  }\n",
      "}\n",
      "parameters {\n",
      "  parameter_id: \"units\"\n",
      "  value {\n",
      "    number_value: 224.0\n",
      "  }\n",
      "}\n",
      "final_measurement {\n",
      "  step_count: 19\n",
      "  metrics {\n",
      "    metric_id: \"val_loss\"\n",
      "    value: 23.213869094848633\n",
      "  }\n",
      "}\n",
      "start_time {\n",
      "  seconds: 1647500989\n",
      "  nanos: 255217248\n",
      "}\n",
      "end_time {\n",
      "  seconds: 1647501280\n",
      "}\n",
      ", id: \"9\"\n",
      "state: SUCCEEDED\n",
      "parameters {\n",
      "  parameter_id: \"lr\"\n",
      "  value {\n",
      "    number_value: 0.0016483414469896467\n",
      "  }\n",
      "}\n",
      "parameters {\n",
      "  parameter_id: \"units\"\n",
      "  value {\n",
      "    number_value: 227.0\n",
      "  }\n",
      "}\n",
      "final_measurement {\n",
      "  step_count: 19\n",
      "  metrics {\n",
      "    metric_id: \"val_loss\"\n",
      "    value: 20.395751953125\n",
      "  }\n",
      "}\n",
      "start_time {\n",
      "  seconds: 1647501629\n",
      "  nanos: 775824082\n",
      "}\n",
      "end_time {\n",
      "  seconds: 1647501934\n",
      "}\n",
      ", id: \"10\"\n",
      "state: SUCCEEDED\n",
      "parameters {\n",
      "  parameter_id: \"lr\"\n",
      "  value {\n",
      "    number_value: 0.0015851116160188687\n",
      "  }\n",
      "}\n",
      "parameters {\n",
      "  parameter_id: \"units\"\n",
      "  value {\n",
      "    number_value: 213.0\n",
      "  }\n",
      "}\n",
      "final_measurement {\n",
      "  step_count: 11\n",
      "  metrics {\n",
      "    metric_id: \"val_loss\"\n",
      "    value: 22.06939697265625\n",
      "  }\n",
      "}\n",
      "start_time {\n",
      "  seconds: 1647502303\n",
      "  nanos: 479154752\n",
      "}\n",
      "end_time {\n",
      "  seconds: 1647502605\n",
      "}\n",
      ", id: \"11\"\n",
      "state: SUCCEEDED\n",
      "parameters {\n",
      "  parameter_id: \"lr\"\n",
      "  value {\n",
      "    number_value: 0.001747378246385631\n",
      "  }\n",
      "}\n",
      "parameters {\n",
      "  parameter_id: \"units\"\n",
      "  value {\n",
      "    number_value: 225.0\n",
      "  }\n",
      "}\n",
      "final_measurement {\n",
      "  step_count: 19\n",
      "  metrics {\n",
      "    metric_id: \"val_loss\"\n",
      "    value: 25.17832374572754\n",
      "  }\n",
      "}\n",
      "start_time {\n",
      "  seconds: 1647502946\n",
      "  nanos: 72782248\n",
      "}\n",
      "end_time {\n",
      "  seconds: 1647503244\n",
      "}\n",
      ", id: \"12\"\n",
      "state: SUCCEEDED\n",
      "parameters {\n",
      "  parameter_id: \"lr\"\n",
      "  value {\n",
      "    number_value: 0.0010266968645849665\n",
      "  }\n",
      "}\n",
      "parameters {\n",
      "  parameter_id: \"units\"\n",
      "  value {\n",
      "    number_value: 192.0\n",
      "  }\n",
      "}\n",
      "final_measurement {\n",
      "  step_count: 19\n",
      "  metrics {\n",
      "    metric_id: \"val_loss\"\n",
      "    value: 24.754627227783203\n",
      "  }\n",
      "}\n",
      "start_time {\n",
      "  seconds: 1647503583\n",
      "  nanos: 533148689\n",
      "}\n",
      "end_time {\n",
      "  seconds: 1647503918\n",
      "}\n",
      "]\n"
     ]
    }
   ],
   "source": [
    "print(hpt_job.trials)"
   ]
  },
  {
   "cell_type": "markdown",
   "metadata": {
    "id": "best_trial:mbsdk"
   },
   "source": [
    "### Best trial\n",
    "\n",
    "Now look at which trial was the best:"
   ]
  },
  {
   "cell_type": "code",
   "execution_count": 34,
   "metadata": {
    "id": "best_trial:mbsdk"
   },
   "outputs": [
    {
     "name": "stdout",
     "output_type": "stream",
     "text": [
      "('9', 0.017269285311480965, 419.0, 32.40668869018555)\n"
     ]
    }
   ],
   "source": [
    "best = (None, None, None, 0.0)\n",
    "for trial in hpt_job.trials:\n",
    "    # Keep track of the best outcome\n",
    "    if float(trial.final_measurement.metrics[0].value) > best[3]:\n",
    "        try:\n",
    "            best = (\n",
    "                trial.id,\n",
    "                float(trial.parameters[0].value),\n",
    "                float(trial.parameters[1].value),\n",
    "                float(trial.final_measurement.metrics[0].value),\n",
    "            )\n",
    "        except:\n",
    "            best = (\n",
    "                trial.id,\n",
    "                float(trial.parameters[0].value),\n",
    "                None,\n",
    "                float(trial.final_measurement.metrics[0].value),\n",
    "            )\n",
    "\n",
    "print(best)"
   ]
  },
  {
   "cell_type": "markdown",
   "metadata": {
    "id": "delete_hpt_job"
   },
   "source": [
    "### Delete the hyperparameter tuning job\n",
    "\n",
    "The method 'delete()' will delete the hyperparameter tuning job."
   ]
  },
  {
   "cell_type": "code",
   "execution_count": 38,
   "metadata": {
    "id": "delete_hpt_job"
   },
   "outputs": [
    {
     "name": "stdout",
     "output_type": "stream",
     "text": [
      "INFO:google.cloud.aiplatform.base:Deleting HyperparameterTuningJob : projects/931647533046/locations/us-central1/hyperparameterTuningJobs/8072227892794228736\n",
      "INFO:google.cloud.aiplatform.base:Delete HyperparameterTuningJob  backing LRO: projects/931647533046/locations/us-central1/operations/5427994855689158656\n",
      "INFO:google.cloud.aiplatform.base:HyperparameterTuningJob deleted. . Resource name: projects/931647533046/locations/us-central1/hyperparameterTuningJobs/8072227892794228736\n"
     ]
    }
   ],
   "source": [
    "hpt_job.delete()"
   ]
  },
  {
   "cell_type": "markdown",
   "metadata": {
    "id": "vizier_intro"
   },
   "source": [
    "## Standalone Vertex AI Vizer service\n",
    "\n",
    "The `Vizier` service can be used as a standalone service for selecting the next set of parameters for a trial.\n",
    "\n",
    "*Note:* The service does not execute trials. You create your own trial and execution.\n",
    "\n",
    "Learn more about [Using Vizier](https://cloud.google.com/vertex-ai/docs/vizier/using-vizier)"
   ]
  },
  {
   "cell_type": "markdown",
   "metadata": {
    "id": "vizier_client"
   },
   "source": [
    "### Create Vizier client\n",
    "\n",
    "Create a client side connection to the Vertex AI Vizier service."
   ]
  },
  {
   "cell_type": "code",
   "execution_count": 39,
   "metadata": {
    "id": "vizier_client"
   },
   "outputs": [],
   "source": [
    "vizier_client = aip.gapic.VizierServiceClient(\n",
    "    client_options=dict(api_endpoint=API_ENDPOINT)\n",
    ")"
   ]
  },
  {
   "cell_type": "markdown",
   "metadata": {
    "id": "create_vizier_study"
   },
   "source": [
    "### Create a study\n",
    "\n",
    "A study is a series of experiments, or trials, that help you optimize your hyperparameters or parameters.\n",
    "\n",
    "In the following example, the goal is to maximize y = x^2 with x in the range of \\[-10. 10\\]. This example has only one parameter and uses an easily calculated function to help demonstrate how to use Vizier.\n",
    "\n",
    "First, you will create the study using the `create_study()` method."
   ]
  },
  {
   "cell_type": "code",
   "execution_count": 40,
   "metadata": {
    "id": "create_vizier_study"
   },
   "outputs": [
    {
     "name": "stdout",
     "output_type": "stream",
     "text": [
      "projects/931647533046/locations/us-central1/studies/548649416084\n"
     ]
    }
   ],
   "source": [
    "STUDY_DISPLAY_NAME = \"xpow2\" + TIMESTAMP\n",
    "\n",
    "param_x = {\n",
    "    \"parameter_id\": \"x\",\n",
    "    \"double_value_spec\": {\"min_value\": -10.0, \"max_value\": 10.0},\n",
    "}\n",
    "\n",
    "metric_y = {\"metric_id\": \"y\", \"goal\": \"MAXIMIZE\"}\n",
    "\n",
    "study = {\n",
    "    \"display_name\": STUDY_DISPLAY_NAME,\n",
    "    \"study_spec\": {\n",
    "        \"algorithm\": \"RANDOM_SEARCH\",\n",
    "        \"parameters\": [param_x],\n",
    "        \"metrics\": [metric_y],\n",
    "    },\n",
    "}\n",
    "\n",
    "study = vizier_client.create_study(parent=PARENT, study=study)\n",
    "STUDY_NAME = study.name\n",
    "\n",
    "print(STUDY_NAME)"
   ]
  },
  {
   "cell_type": "markdown",
   "metadata": {
    "id": "get_vizier_study"
   },
   "source": [
    "### Get Vizier study\n",
    "\n",
    "You can get a study using the method `get_study()`, with the following key/value pairs:\n",
    "\n",
    "- `name`: The name of the study."
   ]
  },
  {
   "cell_type": "code",
   "execution_count": 41,
   "metadata": {
    "collapsed": true,
    "id": "get_vizier_study",
    "jupyter": {
     "outputs_hidden": true
    },
    "tags": []
   },
   "outputs": [
    {
     "name": "stdout",
     "output_type": "stream",
     "text": [
      "name: \"projects/931647533046/locations/us-central1/studies/548649416084\"\n",
      "display_name: \"xpow220220317043422\"\n",
      "study_spec {\n",
      "  metrics {\n",
      "    metric_id: \"y\"\n",
      "    goal: MAXIMIZE\n",
      "  }\n",
      "  parameters {\n",
      "    parameter_id: \"x\"\n",
      "    double_value_spec {\n",
      "      min_value: -10.0\n",
      "      max_value: 10.0\n",
      "    }\n",
      "  }\n",
      "  algorithm: RANDOM_SEARCH\n",
      "}\n",
      "state: ACTIVE\n",
      "create_time {\n",
      "  seconds: 1647504604\n",
      "}\n",
      "\n"
     ]
    }
   ],
   "source": [
    "study = vizier_client.get_study({\"name\": STUDY_NAME})\n",
    "\n",
    "print(study)"
   ]
  },
  {
   "cell_type": "markdown",
   "metadata": {
    "id": "vizier_suggest_trial"
   },
   "source": [
    "### Get suggested trial\n",
    "\n",
    "Next, query the Vizier service for a suggested trial(s) using the method `suggest_trials`, with the following key/value pairs:\n",
    "\n",
    "- `parent`: The name of the study.\n",
    "- `suggestion_count`: The number of trials to suggest.\n",
    "- `client_id`: blah\n",
    "\n",
    "This call is a long running operation. The method `result()` from the response object will wait until the call has completed."
   ]
  },
  {
   "cell_type": "code",
   "execution_count": 42,
   "metadata": {
    "id": "vizier_suggest_trial"
   },
   "outputs": [
    {
     "name": "stdout",
     "output_type": "stream",
     "text": [
      "[name: \"projects/931647533046/locations/us-central1/studies/548649416084/trials/1\"\n",
      "state: ACTIVE\n",
      "parameters {\n",
      "  parameter_id: \"x\"\n",
      "  value {\n",
      "    number_value: -9.89651518584465\n",
      "  }\n",
      "}\n",
      "start_time {\n",
      "  seconds: 1647504614\n",
      "}\n",
      "client_id: \"1001\"\n",
      "]\n"
     ]
    }
   ],
   "source": [
    "SUGGEST_COUNT = 1\n",
    "CLIENT_ID = \"1001\"\n",
    "\n",
    "response = vizier_client.suggest_trials(\n",
    "    {\"parent\": STUDY_NAME, \"suggestion_count\": SUGGEST_COUNT, \"client_id\": CLIENT_ID}\n",
    ")\n",
    "\n",
    "trials = response.result().trials\n",
    "\n",
    "print(trials)\n",
    "\n",
    "# Get the trial ID of the first trial\n",
    "TRIAL_ID = trials[0].name"
   ]
  },
  {
   "cell_type": "markdown",
   "metadata": {
    "id": "evaluate_vizier_trial"
   },
   "source": [
    "### Evaluate the results\n",
    "After receiving your trial suggestions, evaluate each trial and record each result as a measurement.\n",
    "\n",
    "For example, if the function you are trying to optimize is y = x^2, then you evaluate the function using the trial's suggested value of x. Using a suggested value of 0.1, the function evaluates to y = 0.1 * 0.1, which results in 0.01."
   ]
  },
  {
   "cell_type": "markdown",
   "metadata": {
    "id": "vizier_add_measurement"
   },
   "source": [
    "### Add a measurement\n",
    "\n",
    "After evaluating your trial suggestion to get a measurement, add this measurement to your trial.\n",
    "\n",
    "Use the following commands to store your measurement and send the request. In this example, replace RESULT with the measurement. If the function you are optimizing is y = x^2, and the suggested value of x is 0.1, the result is 0.01."
   ]
  },
  {
   "cell_type": "code",
   "execution_count": 43,
   "metadata": {
    "id": "vizier_add_measurement"
   },
   "outputs": [
    {
     "data": {
      "text/plain": [
       "name: \"projects/931647533046/locations/us-central1/studies/548649416084/trials/1\"\n",
       "state: ACTIVE\n",
       "parameters {\n",
       "  parameter_id: \"x\"\n",
       "  value {\n",
       "    number_value: -9.89651518584465\n",
       "  }\n",
       "}\n",
       "measurements {\n",
       "  metrics {\n",
       "    metric_id: \"y\"\n",
       "    value: 0.01\n",
       "  }\n",
       "}\n",
       "start_time {\n",
       "  seconds: 1647504614\n",
       "}\n",
       "client_id: \"1001\""
      ]
     },
     "execution_count": 43,
     "metadata": {},
     "output_type": "execute_result"
    }
   ],
   "source": [
    "RESULT = 0.01\n",
    "\n",
    "vizier_client.add_trial_measurement(\n",
    "    {\n",
    "        \"trial_name\": TRIAL_ID,\n",
    "        \"measurement\": {\"metrics\": [{\"metric_id\": \"y\", \"value\": RESULT}]},\n",
    "    }\n",
    ")"
   ]
  },
  {
   "cell_type": "markdown",
   "metadata": {
    "id": "vizier_delete_study"
   },
   "source": [
    "### Delete the Vizier study\n",
    "\n",
    "The method 'delete_study()' will delete the study."
   ]
  },
  {
   "cell_type": "code",
   "execution_count": 44,
   "metadata": {
    "id": "vizier_delete_study"
   },
   "outputs": [],
   "source": [
    "vizier_client.delete_study({\"name\": STUDY_NAME})"
   ]
  },
  {
   "cell_type": "markdown",
   "metadata": {
    "id": "cleanup:mbsdk"
   },
   "source": [
    "# Cleaning up\n",
    "\n",
    "To clean up all Google Cloud resources used in this project, you can [delete the Google Cloud\n",
    "project](https://cloud.google.com/resource-manager/docs/creating-managing-projects#shutting_down_projects) you used for the tutorial.\n",
    "\n",
    "Otherwise, you can delete the individual resources you created in this tutorial:\n",
    "\n",
    "- Cloud Storage Bucket"
   ]
  },
  {
   "cell_type": "code",
   "execution_count": 46,
   "metadata": {
    "collapsed": true,
    "id": "cleanup:mbsdk",
    "jupyter": {
     "outputs_hidden": true
    },
    "tags": []
   },
   "outputs": [
    {
     "name": "stderr",
     "output_type": "stream",
     "text": [
      "E0317 08:12:18.923763108   21631 fork_posix.cc:70]           Fork support is only compatible with the epoll1 and poll polling strategies\n"
     ]
    },
    {
     "name": "stdout",
     "output_type": "stream",
     "text": [
      "Removing gs://vertex-ai-devaip-20220317043422/trainer_boston.tar.gz#1647491891309034...\n",
      "Removing gs://vertex-ai-devaip-20220317043422/aiplatform-custom-job-2022-03-17-04:38:33.669/#1647492216879498...\n",
      "Removing gs://vertex-ai-devaip-20220317043422/aiplatform-custom-job-2022-03-17-04:38:33.669/1/#1647492216991593...\n",
      "Removing gs://vertex-ai-devaip-20220317043422/aiplatform-custom-job-2022-03-17-04:38:33.669/1/model/#1647492217134057...\n",
      "/ [4 objects]                                                                   \n",
      "==> NOTE: You are performing a sequence of gsutil operations that may\n",
      "run significantly faster if you instead use gsutil -m rm ... Please\n",
      "see the -m section under \"gsutil help options\" for further information\n",
      "about when gsutil -m can be advantageous.\n",
      "\n",
      "Removing gs://vertex-ai-devaip-20220317043422/aiplatform-custom-job-2022-03-17-04:38:33.669/1/model/assets/#1647492219109718...\n",
      "Removing gs://vertex-ai-devaip-20220317043422/aiplatform-custom-job-2022-03-17-04:38:33.669/1/model/keras_metadata.pb#1647492219632518...\n",
      "Removing gs://vertex-ai-devaip-20220317043422/aiplatform-custom-job-2022-03-17-04:38:33.669/1/model/saved_model.pb#1647492219419433...\n",
      "Removing gs://vertex-ai-devaip-20220317043422/aiplatform-custom-job-2022-03-17-04:38:33.669/1/model/variables/#1647492217244621...\n",
      "Removing gs://vertex-ai-devaip-20220317043422/aiplatform-custom-job-2022-03-17-04:38:33.669/1/model/variables/variables.data-00000-of-00001#1647492218493991...\n",
      "Removing gs://vertex-ai-devaip-20220317043422/aiplatform-custom-job-2022-03-17-04:38:33.669/1/model/variables/variables.index#1647492218679158...\n",
      "Removing gs://vertex-ai-devaip-20220317043422/aiplatform-custom-job-2022-03-17-04:38:33.669/2/#1647492859881211...\n",
      "Removing gs://vertex-ai-devaip-20220317043422/aiplatform-custom-job-2022-03-17-04:38:33.669/2/model/#1647492860022165...\n",
      "Removing gs://vertex-ai-devaip-20220317043422/aiplatform-custom-job-2022-03-17-04:38:33.669/2/model/assets/#1647492862227962...\n",
      "Removing gs://vertex-ai-devaip-20220317043422/aiplatform-custom-job-2022-03-17-04:38:33.669/2/model/keras_metadata.pb#1647492862817337...\n",
      "Removing gs://vertex-ai-devaip-20220317043422/aiplatform-custom-job-2022-03-17-04:38:33.669/2/model/saved_model.pb#1647492862597547...\n",
      "Removing gs://vertex-ai-devaip-20220317043422/aiplatform-custom-job-2022-03-17-04:38:33.669/2/model/variables/#1647492860166314...\n",
      "Removing gs://vertex-ai-devaip-20220317043422/aiplatform-custom-job-2022-03-17-04:38:33.669/2/model/variables/variables.data-00000-of-00001#1647492861535691...\n",
      "Removing gs://vertex-ai-devaip-20220317043422/aiplatform-custom-job-2022-03-17-04:38:33.669/2/model/variables/variables.index#1647492861736886...\n",
      "Removing gs://vertex-ai-devaip-20220317043422/aiplatform-custom-job-2022-03-17-04:38:33.669/3/#1647493498349943...\n",
      "Removing gs://vertex-ai-devaip-20220317043422/aiplatform-custom-job-2022-03-17-04:38:33.669/3/model/#1647493498552440...\n",
      "Removing gs://vertex-ai-devaip-20220317043422/aiplatform-custom-job-2022-03-17-04:38:33.669/3/model/assets/#1647493500871609...\n",
      "Removing gs://vertex-ai-devaip-20220317043422/aiplatform-custom-job-2022-03-17-04:38:33.669/3/model/keras_metadata.pb#1647493501406512...\n",
      "Removing gs://vertex-ai-devaip-20220317043422/aiplatform-custom-job-2022-03-17-04:38:33.669/3/model/saved_model.pb#1647493501189191...\n",
      "Removing gs://vertex-ai-devaip-20220317043422/aiplatform-custom-job-2022-03-17-04:38:33.669/3/model/variables/#1647493498707863...\n",
      "Removing gs://vertex-ai-devaip-20220317043422/aiplatform-custom-job-2022-03-17-04:38:33.669/3/model/variables/variables.data-00000-of-00001#1647493500145771...\n",
      "Removing gs://vertex-ai-devaip-20220317043422/aiplatform-custom-job-2022-03-17-04:38:33.669/3/model/variables/variables.index#1647493500348330...\n",
      "Removing gs://vertex-ai-devaip-20220317043422/aiplatform-custom-job-2022-03-17-04:38:33.669/4/#1647494139070667...\n",
      "Removing gs://vertex-ai-devaip-20220317043422/aiplatform-custom-job-2022-03-17-04:38:33.669/4/model/#1647494139197676...\n",
      "Removing gs://vertex-ai-devaip-20220317043422/aiplatform-custom-job-2022-03-17-04:38:33.669/4/model/assets/#1647494141389327...\n",
      "Removing gs://vertex-ai-devaip-20220317043422/aiplatform-custom-job-2022-03-17-04:38:33.669/4/model/keras_metadata.pb#1647494141973505...\n",
      "Removing gs://vertex-ai-devaip-20220317043422/aiplatform-custom-job-2022-03-17-04:38:33.669/4/model/saved_model.pb#1647494141753056...\n",
      "Removing gs://vertex-ai-devaip-20220317043422/aiplatform-custom-job-2022-03-17-04:38:33.669/4/model/variables/#1647494139335185...\n",
      "Removing gs://vertex-ai-devaip-20220317043422/aiplatform-custom-job-2022-03-17-04:38:33.669/4/model/variables/variables.data-00000-of-00001#1647494140687039...\n",
      "Removing gs://vertex-ai-devaip-20220317043422/aiplatform-custom-job-2022-03-17-04:38:33.669/4/model/variables/variables.index#1647494140870653...\n",
      "Removing gs://vertex-ai-devaip-20220317043422/aiplatform-custom-job-2022-03-17-04:38:33.669/5/#1647494817416438...\n",
      "Removing gs://vertex-ai-devaip-20220317043422/aiplatform-custom-job-2022-03-17-04:38:33.669/5/model/#1647494817554708...\n",
      "Removing gs://vertex-ai-devaip-20220317043422/aiplatform-custom-job-2022-03-17-04:38:33.669/5/model/assets/#1647494819701129...\n",
      "Removing gs://vertex-ai-devaip-20220317043422/aiplatform-custom-job-2022-03-17-04:38:33.669/5/model/keras_metadata.pb#1647494820277887...\n",
      "Removing gs://vertex-ai-devaip-20220317043422/aiplatform-custom-job-2022-03-17-04:38:33.669/5/model/saved_model.pb#1647494820086638...\n",
      "Removing gs://vertex-ai-devaip-20220317043422/aiplatform-custom-job-2022-03-17-04:38:33.669/5/model/variables/#1647494817689481...\n",
      "Removing gs://vertex-ai-devaip-20220317043422/aiplatform-custom-job-2022-03-17-04:38:33.669/5/model/variables/variables.data-00000-of-00001#1647494818963807...\n",
      "Removing gs://vertex-ai-devaip-20220317043422/aiplatform-custom-job-2022-03-17-04:38:33.669/5/model/variables/variables.index#1647494819189910...\n",
      "Removing gs://vertex-ai-devaip-20220317043422/aiplatform-custom-job-2022-03-17-04:38:33.669/6/#1647495481340179...\n",
      "Removing gs://vertex-ai-devaip-20220317043422/aiplatform-custom-job-2022-03-17-04:38:33.669/6/model/#1647495481461848...\n",
      "Removing gs://vertex-ai-devaip-20220317043422/aiplatform-custom-job-2022-03-17-04:38:33.669/6/model/assets/#1647495483618791...\n",
      "Removing gs://vertex-ai-devaip-20220317043422/aiplatform-custom-job-2022-03-17-04:38:33.669/6/model/keras_metadata.pb#1647495484124878...\n",
      "Removing gs://vertex-ai-devaip-20220317043422/aiplatform-custom-job-2022-03-17-04:38:33.669/6/model/saved_model.pb#1647495483957024...\n",
      "Removing gs://vertex-ai-devaip-20220317043422/aiplatform-custom-job-2022-03-17-04:38:33.669/6/model/variables/#1647495481584707...\n",
      "Removing gs://vertex-ai-devaip-20220317043422/aiplatform-custom-job-2022-03-17-04:38:33.669/6/model/variables/variables.data-00000-of-00001#1647495482936803...\n",
      "Removing gs://vertex-ai-devaip-20220317043422/aiplatform-custom-job-2022-03-17-04:38:33.669/6/model/variables/variables.index#1647495483134197...\n",
      "Removing gs://vertex-ai-devaip-20220317043422/aiplatform-custom-job-2022-03-17-05:52:38.273/#1647496680222136...\n",
      "Removing gs://vertex-ai-devaip-20220317043422/aiplatform-custom-job-2022-03-17-05:52:38.273/1/#1647496680362738...\n",
      "Removing gs://vertex-ai-devaip-20220317043422/aiplatform-custom-job-2022-03-17-05:52:38.273/1/model/#1647496680496745...\n",
      "Removing gs://vertex-ai-devaip-20220317043422/aiplatform-custom-job-2022-03-17-05:52:38.273/1/model/assets/#1647496686437956...\n",
      "Removing gs://vertex-ai-devaip-20220317043422/aiplatform-custom-job-2022-03-17-05:52:38.273/1/model/keras_metadata.pb#1647496686968402...\n",
      "Removing gs://vertex-ai-devaip-20220317043422/aiplatform-custom-job-2022-03-17-05:52:38.273/1/model/saved_model.pb#1647496686749149...\n",
      "Removing gs://vertex-ai-devaip-20220317043422/aiplatform-custom-job-2022-03-17-05:52:38.273/1/model/variables/#1647496680656080...\n",
      "Removing gs://vertex-ai-devaip-20220317043422/aiplatform-custom-job-2022-03-17-05:52:38.273/1/model/variables/variables.data-00000-of-00001#1647496682009677...\n",
      "Removing gs://vertex-ai-devaip-20220317043422/aiplatform-custom-job-2022-03-17-05:52:38.273/1/model/variables/variables.index#1647496682224719...\n",
      "Removing gs://vertex-ai-devaip-20220317043422/aiplatform-custom-job-2022-03-17-05:52:38.273/10/#1647502588422723...\n",
      "Removing gs://vertex-ai-devaip-20220317043422/aiplatform-custom-job-2022-03-17-05:52:38.273/10/model/#1647502588553188...\n",
      "Removing gs://vertex-ai-devaip-20220317043422/aiplatform-custom-job-2022-03-17-05:52:38.273/10/model/assets/#1647502590616643...\n",
      "Removing gs://vertex-ai-devaip-20220317043422/aiplatform-custom-job-2022-03-17-05:52:38.273/10/model/keras_metadata.pb#1647502591115158...\n",
      "Removing gs://vertex-ai-devaip-20220317043422/aiplatform-custom-job-2022-03-17-05:52:38.273/10/model/saved_model.pb#1647502590930090...\n",
      "Removing gs://vertex-ai-devaip-20220317043422/aiplatform-custom-job-2022-03-17-05:52:38.273/10/model/variables/#1647502588719515...\n",
      "Removing gs://vertex-ai-devaip-20220317043422/aiplatform-custom-job-2022-03-17-05:52:38.273/10/model/variables/variables.data-00000-of-00001#1647502589974130...\n",
      "Removing gs://vertex-ai-devaip-20220317043422/aiplatform-custom-job-2022-03-17-05:52:38.273/10/model/variables/variables.index#1647502590142386...\n",
      "Removing gs://vertex-ai-devaip-20220317043422/aiplatform-custom-job-2022-03-17-05:52:38.273/11/#1647503235167730...\n",
      "Removing gs://vertex-ai-devaip-20220317043422/aiplatform-custom-job-2022-03-17-05:52:38.273/11/model/#1647503235320245...\n",
      "Removing gs://vertex-ai-devaip-20220317043422/aiplatform-custom-job-2022-03-17-05:52:38.273/11/model/assets/#1647503237456838...\n",
      "Removing gs://vertex-ai-devaip-20220317043422/aiplatform-custom-job-2022-03-17-05:52:38.273/11/model/keras_metadata.pb#1647503238017267...\n",
      "Removing gs://vertex-ai-devaip-20220317043422/aiplatform-custom-job-2022-03-17-05:52:38.273/11/model/saved_model.pb#1647503237830486...\n",
      "Removing gs://vertex-ai-devaip-20220317043422/aiplatform-custom-job-2022-03-17-05:52:38.273/11/model/variables/#1647503235477246...\n",
      "Removing gs://vertex-ai-devaip-20220317043422/aiplatform-custom-job-2022-03-17-05:52:38.273/11/model/variables/variables.data-00000-of-00001#1647503236787799...\n",
      "Removing gs://vertex-ai-devaip-20220317043422/aiplatform-custom-job-2022-03-17-05:52:38.273/11/model/variables/variables.index#1647503236971295...\n",
      "Removing gs://vertex-ai-devaip-20220317043422/aiplatform-custom-job-2022-03-17-05:52:38.273/12/#1647503905869161...\n",
      "Removing gs://vertex-ai-devaip-20220317043422/aiplatform-custom-job-2022-03-17-05:52:38.273/12/model/#1647503906049850...\n",
      "Removing gs://vertex-ai-devaip-20220317043422/aiplatform-custom-job-2022-03-17-05:52:38.273/12/model/assets/#1647503908347264...\n",
      "Removing gs://vertex-ai-devaip-20220317043422/aiplatform-custom-job-2022-03-17-05:52:38.273/12/model/keras_metadata.pb#1647503909308842...\n",
      "Removing gs://vertex-ai-devaip-20220317043422/aiplatform-custom-job-2022-03-17-05:52:38.273/12/model/saved_model.pb#1647503909100443...\n",
      "Removing gs://vertex-ai-devaip-20220317043422/aiplatform-custom-job-2022-03-17-05:52:38.273/12/model/variables/#1647503906190328...\n",
      "Removing gs://vertex-ai-devaip-20220317043422/aiplatform-custom-job-2022-03-17-05:52:38.273/12/model/variables/variables.data-00000-of-00001#1647503907616128...\n",
      "Removing gs://vertex-ai-devaip-20220317043422/aiplatform-custom-job-2022-03-17-05:52:38.273/12/model/variables/variables.index#1647503907798940...\n",
      "Removing gs://vertex-ai-devaip-20220317043422/aiplatform-custom-job-2022-03-17-05:52:38.273/2/#1647497353111426...\n",
      "Removing gs://vertex-ai-devaip-20220317043422/aiplatform-custom-job-2022-03-17-05:52:38.273/2/model/#1647497353242949...\n",
      "Removing gs://vertex-ai-devaip-20220317043422/aiplatform-custom-job-2022-03-17-05:52:38.273/2/model/assets/#1647497355393351...\n",
      "Removing gs://vertex-ai-devaip-20220317043422/aiplatform-custom-job-2022-03-17-05:52:38.273/2/model/keras_metadata.pb#1647497355889178...\n",
      "Removing gs://vertex-ai-devaip-20220317043422/aiplatform-custom-job-2022-03-17-05:52:38.273/2/model/saved_model.pb#1647497355672634...\n",
      "Removing gs://vertex-ai-devaip-20220317043422/aiplatform-custom-job-2022-03-17-05:52:38.273/2/model/variables/#1647497353368599...\n",
      "Removing gs://vertex-ai-devaip-20220317043422/aiplatform-custom-job-2022-03-17-05:52:38.273/2/model/variables/variables.data-00000-of-00001#1647497354721318...\n",
      "Removing gs://vertex-ai-devaip-20220317043422/aiplatform-custom-job-2022-03-17-05:52:38.273/2/model/variables/variables.index#1647497354907255...\n",
      "Removing gs://vertex-ai-devaip-20220317043422/aiplatform-custom-job-2022-03-17-05:52:38.273/3/#1647497982189936...\n",
      "Removing gs://vertex-ai-devaip-20220317043422/aiplatform-custom-job-2022-03-17-05:52:38.273/3/model/#1647497982335277...\n",
      "Removing gs://vertex-ai-devaip-20220317043422/aiplatform-custom-job-2022-03-17-05:52:38.273/3/model/assets/#1647497984409760...\n",
      "Removing gs://vertex-ai-devaip-20220317043422/aiplatform-custom-job-2022-03-17-05:52:38.273/3/model/keras_metadata.pb#1647497984900986...\n",
      "Removing gs://vertex-ai-devaip-20220317043422/aiplatform-custom-job-2022-03-17-05:52:38.273/3/model/saved_model.pb#1647497984736150...\n",
      "Removing gs://vertex-ai-devaip-20220317043422/aiplatform-custom-job-2022-03-17-05:52:38.273/3/model/variables/#1647497982466026...\n",
      "Removing gs://vertex-ai-devaip-20220317043422/aiplatform-custom-job-2022-03-17-05:52:38.273/3/model/variables/variables.data-00000-of-00001#1647497983770450...\n",
      "Removing gs://vertex-ai-devaip-20220317043422/aiplatform-custom-job-2022-03-17-05:52:38.273/3/model/variables/variables.index#1647497983930723...\n",
      "Removing gs://vertex-ai-devaip-20220317043422/aiplatform-custom-job-2022-03-17-05:52:38.273/4/#1647498658739880...\n",
      "Removing gs://vertex-ai-devaip-20220317043422/aiplatform-custom-job-2022-03-17-05:52:38.273/4/model/#1647498658905406...\n",
      "Removing gs://vertex-ai-devaip-20220317043422/aiplatform-custom-job-2022-03-17-05:52:38.273/4/model/assets/#1647498661395464...\n",
      "Removing gs://vertex-ai-devaip-20220317043422/aiplatform-custom-job-2022-03-17-05:52:38.273/4/model/keras_metadata.pb#1647498661983961...\n",
      "Removing gs://vertex-ai-devaip-20220317043422/aiplatform-custom-job-2022-03-17-05:52:38.273/4/model/saved_model.pb#1647498661750877...\n",
      "Removing gs://vertex-ai-devaip-20220317043422/aiplatform-custom-job-2022-03-17-05:52:38.273/4/model/variables/#1647498659073819...\n",
      "Removing gs://vertex-ai-devaip-20220317043422/aiplatform-custom-job-2022-03-17-05:52:38.273/4/model/variables/variables.data-00000-of-00001#1647498660619905...\n",
      "Removing gs://vertex-ai-devaip-20220317043422/aiplatform-custom-job-2022-03-17-05:52:38.273/4/model/variables/variables.index#1647498660821976...\n",
      "Removing gs://vertex-ai-devaip-20220317043422/aiplatform-custom-job-2022-03-17-05:52:38.273/5/#1647499296644415...\n",
      "Removing gs://vertex-ai-devaip-20220317043422/aiplatform-custom-job-2022-03-17-05:52:38.273/5/model/#1647499296803382...\n",
      "Removing gs://vertex-ai-devaip-20220317043422/aiplatform-custom-job-2022-03-17-05:52:38.273/5/model/assets/#1647499299195458...\n",
      "Removing gs://vertex-ai-devaip-20220317043422/aiplatform-custom-job-2022-03-17-05:52:38.273/5/model/keras_metadata.pb#1647499299733792...\n",
      "Removing gs://vertex-ai-devaip-20220317043422/aiplatform-custom-job-2022-03-17-05:52:38.273/5/model/saved_model.pb#1647499299538282...\n",
      "Removing gs://vertex-ai-devaip-20220317043422/aiplatform-custom-job-2022-03-17-05:52:38.273/5/model/variables/#1647499296963402...\n",
      "Removing gs://vertex-ai-devaip-20220317043422/aiplatform-custom-job-2022-03-17-05:52:38.273/5/model/variables/variables.data-00000-of-00001#1647499298398063...\n",
      "Removing gs://vertex-ai-devaip-20220317043422/aiplatform-custom-job-2022-03-17-05:52:38.273/5/model/variables/variables.index#1647499298640260...\n",
      "Removing gs://vertex-ai-devaip-20220317043422/aiplatform-custom-job-2022-03-17-05:52:38.273/6/#1647499930842310...\n",
      "Removing gs://vertex-ai-devaip-20220317043422/aiplatform-custom-job-2022-03-17-05:52:38.273/6/model/#1647499930975878...\n",
      "Removing gs://vertex-ai-devaip-20220317043422/aiplatform-custom-job-2022-03-17-05:52:38.273/6/model/assets/#1647499933477706...\n",
      "Removing gs://vertex-ai-devaip-20220317043422/aiplatform-custom-job-2022-03-17-05:52:38.273/6/model/keras_metadata.pb#1647499934074590...\n",
      "Removing gs://vertex-ai-devaip-20220317043422/aiplatform-custom-job-2022-03-17-05:52:38.273/6/model/saved_model.pb#1647499933823595...\n",
      "Removing gs://vertex-ai-devaip-20220317043422/aiplatform-custom-job-2022-03-17-05:52:38.273/6/model/variables/#1647499931457901...\n",
      "Removing gs://vertex-ai-devaip-20220317043422/aiplatform-custom-job-2022-03-17-05:52:38.273/6/model/variables/variables.data-00000-of-00001#1647499932794451...\n",
      "Removing gs://vertex-ai-devaip-20220317043422/aiplatform-custom-job-2022-03-17-05:52:38.273/6/model/variables/variables.index#1647499932974347...\n",
      "Removing gs://vertex-ai-devaip-20220317043422/aiplatform-custom-job-2022-03-17-05:52:38.273/7/#1647500611389764...\n",
      "Removing gs://vertex-ai-devaip-20220317043422/aiplatform-custom-job-2022-03-17-05:52:38.273/7/model/#1647500611533081...\n",
      "Removing gs://vertex-ai-devaip-20220317043422/aiplatform-custom-job-2022-03-17-05:52:38.273/7/model/assets/#1647500613724875...\n",
      "Removing gs://vertex-ai-devaip-20220317043422/aiplatform-custom-job-2022-03-17-05:52:38.273/7/model/keras_metadata.pb#1647500614249586...\n",
      "Removing gs://vertex-ai-devaip-20220317043422/aiplatform-custom-job-2022-03-17-05:52:38.273/7/model/saved_model.pb#1647500614034143...\n",
      "Removing gs://vertex-ai-devaip-20220317043422/aiplatform-custom-job-2022-03-17-05:52:38.273/7/model/variables/#1647500611695901...\n",
      "Removing gs://vertex-ai-devaip-20220317043422/aiplatform-custom-job-2022-03-17-05:52:38.273/7/model/variables/variables.data-00000-of-00001#1647500612992207...\n",
      "Removing gs://vertex-ai-devaip-20220317043422/aiplatform-custom-job-2022-03-17-05:52:38.273/7/model/variables/variables.index#1647500613206168...\n",
      "Removing gs://vertex-ai-devaip-20220317043422/aiplatform-custom-job-2022-03-17-05:52:38.273/8/#1647501269042503...\n",
      "Removing gs://vertex-ai-devaip-20220317043422/aiplatform-custom-job-2022-03-17-05:52:38.273/8/model/#1647501269186490...\n",
      "Removing gs://vertex-ai-devaip-20220317043422/aiplatform-custom-job-2022-03-17-05:52:38.273/8/model/assets/#1647501271503574...\n",
      "Removing gs://vertex-ai-devaip-20220317043422/aiplatform-custom-job-2022-03-17-05:52:38.273/8/model/keras_metadata.pb#1647501271972865...\n",
      "Removing gs://vertex-ai-devaip-20220317043422/aiplatform-custom-job-2022-03-17-05:52:38.273/8/model/saved_model.pb#1647501271804886...\n",
      "Removing gs://vertex-ai-devaip-20220317043422/aiplatform-custom-job-2022-03-17-05:52:38.273/8/model/variables/#1647501269338069...\n",
      "Removing gs://vertex-ai-devaip-20220317043422/aiplatform-custom-job-2022-03-17-05:52:38.273/8/model/variables/variables.data-00000-of-00001#1647501270691357...\n",
      "Removing gs://vertex-ai-devaip-20220317043422/aiplatform-custom-job-2022-03-17-05:52:38.273/8/model/variables/variables.index#1647501270960823...\n",
      "Removing gs://vertex-ai-devaip-20220317043422/aiplatform-custom-job-2022-03-17-05:52:38.273/9/#1647501913485511...\n",
      "Removing gs://vertex-ai-devaip-20220317043422/aiplatform-custom-job-2022-03-17-05:52:38.273/9/model/#1647501913613549...\n",
      "Removing gs://vertex-ai-devaip-20220317043422/aiplatform-custom-job-2022-03-17-05:52:38.273/9/model/assets/#1647501915810487...\n",
      "Removing gs://vertex-ai-devaip-20220317043422/aiplatform-custom-job-2022-03-17-05:52:38.273/9/model/keras_metadata.pb#1647501916383838...\n",
      "Removing gs://vertex-ai-devaip-20220317043422/aiplatform-custom-job-2022-03-17-05:52:38.273/9/model/saved_model.pb#1647501916110993...\n",
      "Removing gs://vertex-ai-devaip-20220317043422/aiplatform-custom-job-2022-03-17-05:52:38.273/9/model/variables/#1647501913784405...\n",
      "Removing gs://vertex-ai-devaip-20220317043422/aiplatform-custom-job-2022-03-17-05:52:38.273/9/model/variables/variables.data-00000-of-00001#1647501915072841...\n",
      "Removing gs://vertex-ai-devaip-20220317043422/aiplatform-custom-job-2022-03-17-05:52:38.273/9/model/variables/variables.index#1647501915301588...\n",
      "/ [147 objects]  11.90 objects/s                                                \n",
      "==> NOTE: You are performing a sequence of gsutil operations that may\n",
      "run significantly faster if you instead use gsutil -m rm ... Please\n",
      "see the -m section under \"gsutil help options\" for further information\n",
      "about when gsutil -m can be advantageous.\n",
      "\n",
      "\n",
      "Operation completed over 147 objects.                                            \n",
      "Removing gs://vertex-ai-devaip-20220317043422/...\n"
     ]
    }
   ],
   "source": [
    "if os.getenv(\"IS_TESTING\"):\n",
    "    ! gsutil rm -r $BUCKET_URI"
   ]
  }
 ],
 "metadata": {
  "colab": {
   "name": "get_started_vertex_vizier.ipynb",
   "toc_visible": true
  },
  "environment": {
   "kernel": "conda-env-vizier-4-py",
   "name": "common-cpu.m89",
   "type": "gcloud",
   "uri": "gcr.io/deeplearning-platform-release/base-cpu:m89"
  },
  "kernelspec": {
   "display_name": "Python [conda env:vizier-4]",
   "language": "python",
   "name": "conda-env-vizier-4-py"
  },
  "language_info": {
   "codemirror_mode": {
    "name": "ipython",
    "version": 3
   },
   "file_extension": ".py",
   "mimetype": "text/x-python",
   "name": "python",
   "nbconvert_exporter": "python",
   "pygments_lexer": "ipython3",
   "version": "3.7.12"
  }
 },
 "nbformat": 4,
 "nbformat_minor": 4
}
