{
  "cells": [
    {
      "cell_type": "code",
      "execution_count": null,
      "metadata": {
        "id": "ur8xi4C7S06n"
      },
      "outputs": [],
      "source": [
        "# Copyright 2022 Google LLC\n",
        "#\n",
        "# Licensed under the Apache License, Version 2.0 (the \"License\");\n",
        "# you may not use this file except in compliance with the License.\n",
        "# You may obtain a copy of the License at\n",
        "#\n",
        "#     https://www.apache.org/licenses/LICENSE-2.0\n",
        "#\n",
        "# Unless required by applicable law or agreed to in writing, software\n",
        "# distributed under the License is distributed on an \"AS IS\" BASIS,\n",
        "# WITHOUT WARRANTIES OR CONDITIONS OF ANY KIND, either express or implied.\n",
        "# See the License for the specific language governing permissions and\n",
        "# limitations under the License."
      ]
    },
    {
      "cell_type": "markdown",
      "metadata": {
        "id": "5bfe9394d8cd"
      },
      "source": [
        "This notebook is an updated version of a notebook authored by [Jesus Chavez](https://github.com/jchavezar)"
      ]
    },
    {
      "cell_type": "markdown",
      "metadata": {
        "id": "title:generic,gcp"
      },
      "source": [
        "# E2E ML on GCP: MLOps stage 2 : experimentation: Get started with distributed training using DASK\n",
        "\n",
        "<table align=\"left\">\n",
        "  <td>\n",
        "    <a href=\"https://colab.research.google.com/github/GoogleCloudPlatform/vertex-ai-samples/blob/main/notebooks/community/ml_ops/stage2/get_started_with_distributed_training_xgboost.ipynb\">\n",
        "      <img src=\"https://cloud.google.com/ml-engine/images/colab-logo-32px.png\" alt=\"Colab logo\"> Run in Colab\n",
        "    </a>\n",
        "  </td>\n",
        "  <td>\n",
        "    <a href=\"https://github.com/GoogleCloudPlatform/vertex-ai-samples/blob/main/notebooks/community/ml_ops/stage2/get_started_with_distributed_training_xgboost.ipynb\">\n",
        "      <img src=\"https://cloud.google.com/ml-engine/images/github-logo-32px.png\" alt=\"GitHub logo\">\n",
        "      View on GitHub\n",
        "    </a>\n",
        "  </td>\n",
        "  <td>\n",
        "    <a href=\"https://console.cloud.google.com/vertex-ai/workbench/deploy-notebook?download_url=https://raw.githubusercontent.com/GoogleCloudPlatform/vertex-ai-samples/main/notebooks/community/ml_ops/stage2/get_started_with_distributed_training_xgboost.ipynb\">\n",
        "      <img src=\"https://lh3.googleusercontent.com/UiNooY4LUgW_oTvpsNhPpQzsstV5W8F7rYgxgGBD85cWJoLmrOzhVs_ksK_vgx40SHs7jCqkTkCk=e14-rj-sc0xffffff-h130-w32\" alt=\"Vertex AI logo\">\n",
        "      Open in Vertex AI Workbench\n",
        "    </a>\n",
        "  </td>        \n",
        "</table>\n",
        "<br/><br/><br/>"
      ]
    },
    {
      "cell_type": "markdown",
      "metadata": {
        "id": "3baf7d4e1b84"
      },
      "source": [
        "## Overview\n",
        "\n",
        "This tutorial demonstrates how to do distributed training for XGBoost models with `Vertex AI Training`. The tutorial includes using DASK for supporting distributed training for XGBoost and Scikit-learn models, and Flask as a web server for a custom serving container."
      ]
    },
    {
      "cell_type": "markdown",
      "metadata": {
        "id": "c9402cfbdc2d"
      },
      "source": [
        "### Objective\n",
        "\n",
        "In this tutorial, you learn how to use `Vertex AI Training` for distributed training of XGBoost model using the OSS package DASK. Additionally, you learn to construct and deploy a custom serving container using a Flask web server.\n",
        "\n",
        "This tutorial uses the following Google Cloud ML services and resources:\n",
        "\n",
        "- `Vertex AI Training`\n",
        "- `Vertex AI Prediction`\n",
        "- `Vertex AI Model` resource\n",
        "- `Vertex AI Endpoint` resource\n",
        "\n",
        "The steps performed include:\n",
        "\n",
        "- Construct an XGBoost training script using DASK for distributed training.\n",
        "- Construct a custom training container.\n",
        "- Configure a distributed custom training job.\n",
        "- Execute the custom training job.\n",
        "- Construct a custom serving container using Flask.\n",
        "- Upload the trained XGBoost model as a `Vertex AI Model` resource.\n",
        "- Create a `Vertex AI Endpoint` resource.\n",
        "- Deploy the `Vertex AI Model` resource to `Vertex AI Endpoint` resource.\n",
        "- Make a prediction."
      ]
    },
    {
      "cell_type": "markdown",
      "metadata": {
        "id": "dataset:iris,lcn"
      },
      "source": [
        "### Dataset\n",
        "\n",
        "The dataset used in this tutorial is the [Forest Cover Type](https://archive.ics.uci.edu/ml/datasets/covertype). The version of this dataset is stored in CSV format on a public Cloud Storage bucket. The dataset predicts the forest cover type from cartographic variables only."
      ]
    },
    {
      "cell_type": "markdown",
      "metadata": {
        "id": "costs"
      },
      "source": [
        "### Costs\n",
        "\n",
        "This tutorial uses billable components of Google Cloud:\n",
        "\n",
        "* Vertex AI\n",
        "* Cloud Storage\n",
        "\n",
        "Learn about [Vertex AI\n",
        "pricing](https://cloud.google.com/vertex-ai/pricing) and [Cloud Storage\n",
        "pricing](https://cloud.google.com/storage/pricing), and use the [Pricing\n",
        "Calculator](https://cloud.google.com/products/calculator/)\n",
        "to generate a cost estimate based on your projected usage."
      ]
    },
    {
      "cell_type": "markdown",
      "metadata": {
        "id": "install_aip"
      },
      "source": [
        "## Installation\n",
        "\n",
        "Install the following packages to execute this notebook."
      ]
    },
    {
      "cell_type": "code",
      "execution_count": null,
      "metadata": {
        "id": "install_aip"
      },
      "outputs": [],
      "source": [
        "import os\n",
        "\n",
        "# The Vertex AI Workbench Notebook product has specific requirements\n",
        "IS_WORKBENCH_NOTEBOOK = os.getenv(\"DL_ANACONDA_HOME\")\n",
        "IS_USER_MANAGED_WORKBENCH_NOTEBOOK = os.path.exists(\n",
        "    \"/opt/deeplearning/metadata/env_version\"\n",
        ")\n",
        "\n",
        "# Vertex AI Notebook requires dependencies to be installed with '--user'\n",
        "USER_FLAG = \"\"\n",
        "if IS_WORKBENCH_NOTEBOOK:\n",
        "    USER_FLAG = \"--user\"\n",
        "\n",
        "! pip3 install --upgrade google-cloud-aiplatform $USER_FLAG -q"
      ]
    },
    {
      "cell_type": "markdown",
      "metadata": {
        "id": "hhq5zEbGg0XX"
      },
      "source": [
        "### Restart the kernel\n",
        "\n",
        "After you install the additional packages, you need to restart the notebook kernel so it can find the packages."
      ]
    },
    {
      "cell_type": "code",
      "execution_count": null,
      "metadata": {
        "id": "EzrelQZ22IZj"
      },
      "outputs": [],
      "source": [
        "# Automatically restart kernel after installs\n",
        "import os\n",
        "\n",
        "if not os.getenv(\"IS_TESTING\"):\n",
        "    # Automatically restart kernel after installs\n",
        "    import IPython\n",
        "\n",
        "    app = IPython.Application.instance()\n",
        "    app.kernel.do_shutdown(True)"
      ]
    },
    {
      "cell_type": "markdown",
      "metadata": {
        "id": "before_you_begin"
      },
      "source": [
        "## Before you begin\n",
        "\n",
        "### Set up your Google Cloud project\n",
        "\n",
        "**The following steps are required, regardless of your notebook environment.**\n",
        "\n",
        "1. [Select or create a Google Cloud project](https://console.cloud.google.com/cloud-resource-manager). When you first create an account, you get a $300 free credit towards your compute/storage costs.\n",
        "\n",
        "2. [Make sure that billing is enabled for your project.](https://cloud.google.com/billing/docs/how-to/modify-project)\n",
        "\n",
        "3. [Enable the following APIs: Vertex AI APIs, Compute Engine APIs, and Cloud Storage.](https://console.cloud.google.com/flows/enableapi?apiid=aiplatform.googleapis.com,compute_component,storage-component.googleapis.com)\n",
        "\n",
        "4. If you are running this notebook locally, you need to install the [Cloud SDK]((https://cloud.google.com/sdk)).\n",
        "\n",
        "5. Enter your project ID in the cell below. Then run the  cell to make sure the\n",
        "Cloud SDK uses the right project for all the commands in this notebook.\n",
        "\n",
        "**Note**: Jupyter runs lines prefixed with `!` as shell commands, and it interpolates Python variables prefixed with `$`."
      ]
    },
    {
      "cell_type": "markdown",
      "metadata": {
        "id": "project_id"
      },
      "source": [
        "#### Set your project ID\n",
        "\n",
        "**If you don't know your project ID**, you may be able to get your project ID using `gcloud`."
      ]
    },
    {
      "cell_type": "code",
      "execution_count": null,
      "metadata": {
        "id": "set_project_id"
      },
      "outputs": [],
      "source": [
        "PROJECT_ID = \"[your-project-id]\"  # @param {type:\"string\"}"
      ]
    },
    {
      "cell_type": "code",
      "execution_count": null,
      "metadata": {
        "id": "autoset_project_id"
      },
      "outputs": [],
      "source": [
        "if PROJECT_ID == \"\" or PROJECT_ID is None or PROJECT_ID == \"[your-project-id]\":\n",
        "    # Get your GCP project id from gcloud\n",
        "    shell_output = ! gcloud config list --format 'value(core.project)' 2>/dev/null\n",
        "    PROJECT_ID = shell_output[0]\n",
        "    print(\"Project ID:\", PROJECT_ID)"
      ]
    },
    {
      "cell_type": "code",
      "execution_count": null,
      "metadata": {
        "id": "set_gcloud_project_id"
      },
      "outputs": [],
      "source": [
        "! gcloud config set project $PROJECT_ID"
      ]
    },
    {
      "cell_type": "markdown",
      "metadata": {
        "id": "region"
      },
      "source": [
        "#### Region\n",
        "\n",
        "You can also change the `REGION` variable, which is used for operations\n",
        "throughout the rest of this notebook.  Below are regions supported for Vertex AI. We recommend that you choose the region closest to you.\n",
        "\n",
        "- Americas: `us-central1`\n",
        "- Europe: `europe-west4`\n",
        "- Asia Pacific: `asia-east1`\n",
        "\n",
        "You may not use a multi-regional bucket for training with Vertex AI. Not all regions provide support for all Vertex AI services.\n",
        "\n",
        "Learn more about [Vertex AI regions](https://cloud.google.com/vertex-ai/docs/general/locations)."
      ]
    },
    {
      "cell_type": "code",
      "execution_count": null,
      "metadata": {
        "id": "region"
      },
      "outputs": [],
      "source": [
        "REGION = \"[your-region]\"  # @param {type: \"string\"}\n",
        "\n",
        "if REGION == \"[your-region]\":\n",
        "    REGION = \"us-central1\""
      ]
    },
    {
      "cell_type": "markdown",
      "metadata": {
        "id": "timestamp"
      },
      "source": [
        "#### Timestamp\n",
        "\n",
        "If you are in a live tutorial session, you might be using a shared test account or project. To avoid name collisions between users on resources created, you create a timestamp for each instance session, and append the timestamp onto the name of resources you create in this tutorial."
      ]
    },
    {
      "cell_type": "code",
      "execution_count": null,
      "metadata": {
        "id": "timestamp"
      },
      "outputs": [],
      "source": [
        "from datetime import datetime\n",
        "\n",
        "TIMESTAMP = datetime.now().strftime(\"%Y%m%d%H%M%S\")"
      ]
    },
    {
      "cell_type": "markdown",
      "metadata": {
        "id": "gcp_authenticate"
      },
      "source": [
        "### Authenticate your Google Cloud account\n",
        "\n",
        "**If you are using Vertex AI Workbench Notebooks**, your environment is already authenticated. Skip this step.\n",
        "\n",
        "**If you are using Colab**, run the cell below and follow the instructions when prompted to authenticate your account via oAuth.\n",
        "\n",
        "**Otherwise**, follow these steps:\n",
        "\n",
        "In the Cloud Console, go to the [Create service account key](https://console.cloud.google.com/apis/credentials/serviceaccountkey) page.\n",
        "\n",
        "**Click Create service account**.\n",
        "\n",
        "In the **Service account name** field, enter a name, and click **Create**.\n",
        "\n",
        "In the **Grant this service account access to project** section, click the Role drop-down list. Type \"Vertex\" into the filter box, and select **Vertex Administrator**. Type \"Storage Object Admin\" into the filter box, and select **Storage Object Admin**.\n",
        "\n",
        "Click Create. A JSON file that contains your key downloads to your local environment.\n",
        "\n",
        "Enter the path to your service account key as the GOOGLE_APPLICATION_CREDENTIALS variable in the cell below and run the cell."
      ]
    },
    {
      "cell_type": "code",
      "execution_count": null,
      "metadata": {
        "id": "gcp_authenticate"
      },
      "outputs": [],
      "source": [
        "# If you are running this notebook in Colab, run this cell and follow the\n",
        "# instructions to authenticate your GCP account. This provides access to your\n",
        "# Cloud Storage bucket and lets you submit training jobs and prediction\n",
        "# requests.\n",
        "\n",
        "import os\n",
        "import sys\n",
        "\n",
        "# If on Vertex AI Workbench, then don't execute this code\n",
        "IS_COLAB = \"google.colab\" in sys.modules\n",
        "if not os.path.exists(\"/opt/deeplearning/metadata/env_version\") and not os.getenv(\n",
        "    \"DL_ANACONDA_HOME\"\n",
        "):\n",
        "    if \"google.colab\" in sys.modules:\n",
        "        from google.colab import auth as google_auth\n",
        "\n",
        "        google_auth.authenticate_user()\n",
        "\n",
        "    # If you are running this notebook locally, replace the string below with the\n",
        "    # path to your service account key and run this cell to authenticate your GCP\n",
        "    # account.\n",
        "    elif not os.getenv(\"IS_TESTING\"):\n",
        "        %env GOOGLE_APPLICATION_CREDENTIALS ''"
      ]
    },
    {
      "cell_type": "markdown",
      "metadata": {
        "id": "bucket:mbsdk"
      },
      "source": [
        "### Create a Cloud Storage bucket\n",
        "\n",
        "**The following steps are required, regardless of your notebook environment.**\n",
        "\n",
        "When you initialize the Vertex AI SDK for Python, you specify a Cloud Storage staging bucket. The staging bucket is where all the data associated with your dataset and model resources are retained across sessions.\n",
        "\n",
        "Set the name of your Cloud Storage bucket below. Bucket names must be globally unique across all Google Cloud projects, including those outside of your organization."
      ]
    },
    {
      "cell_type": "code",
      "execution_count": null,
      "metadata": {
        "id": "bucket"
      },
      "outputs": [],
      "source": [
        "BUCKET_NAME = \"[your-bucket-name]\"  # @param {type:\"string\"}\n",
        "BUCKET_URI = f\"gs://{BUCKET_NAME}\""
      ]
    },
    {
      "cell_type": "code",
      "execution_count": null,
      "metadata": {
        "id": "autoset_bucket"
      },
      "outputs": [],
      "source": [
        "if BUCKET_NAME == \"\" or BUCKET_NAME is None or BUCKET_NAME == \"[your-bucket-name]\":\n",
        "    BUCKET_NAME = PROJECT_ID + \"aip-\" + TIMESTAMP\n",
        "    BUCKET_URI = \"gs://\" + BUCKET_NAME"
      ]
    },
    {
      "cell_type": "markdown",
      "metadata": {
        "id": "create_bucket"
      },
      "source": [
        "**Only if your bucket doesn't already exist**: Run the following cell to create your Cloud Storage bucket."
      ]
    },
    {
      "cell_type": "code",
      "execution_count": null,
      "metadata": {
        "id": "create_bucket"
      },
      "outputs": [],
      "source": [
        "! gsutil mb -l $REGION $BUCKET_URI"
      ]
    },
    {
      "cell_type": "markdown",
      "metadata": {
        "id": "validate_bucket"
      },
      "source": [
        "Finally, validate access to your Cloud Storage bucket by examining its contents:"
      ]
    },
    {
      "cell_type": "code",
      "execution_count": null,
      "metadata": {
        "id": "validate_bucket"
      },
      "outputs": [],
      "source": [
        "! gsutil ls -al $BUCKET_URI"
      ]
    },
    {
      "cell_type": "markdown",
      "metadata": {
        "id": "gar_enable_api"
      },
      "source": [
        "### Enable Artifact Registry API\n",
        "\n",
        "You must enable the Artifact Registry API service for your project.\n",
        "\n",
        "Learn more about [Enabling service](https://cloud.google.com/artifact-registry/docs/enable-service)."
      ]
    },
    {
      "cell_type": "code",
      "execution_count": null,
      "metadata": {
        "id": "gar_enable_api"
      },
      "outputs": [],
      "source": [
        "! gcloud services enable artifactregistry.googleapis.com"
      ]
    },
    {
      "cell_type": "markdown",
      "metadata": {
        "id": "setup_vars"
      },
      "source": [
        "### Set up variables\n",
        "\n",
        "Next, set up some variables used throughout the tutorial.\n",
        "### Import libraries and define constants"
      ]
    },
    {
      "cell_type": "code",
      "execution_count": null,
      "metadata": {
        "id": "import_aip:mbsdk"
      },
      "outputs": [],
      "source": [
        "import google.cloud.aiplatform as aiplatform"
      ]
    },
    {
      "cell_type": "markdown",
      "metadata": {
        "id": "init_aip:mbsdk"
      },
      "source": [
        "### Initialize Vertex AI SDK for Python\n",
        "\n",
        "Initialize the Vertex AI SDK for Python for your project and corresponding bucket."
      ]
    },
    {
      "cell_type": "code",
      "execution_count": null,
      "metadata": {
        "id": "init_aip:mbsdk"
      },
      "outputs": [],
      "source": [
        "aiplatform.init(project=PROJECT_ID, staging_bucket=BUCKET_URI)"
      ]
    },
    {
      "cell_type": "markdown",
      "metadata": {
        "id": "2259110f1d46"
      },
      "source": [
        "## Introduction to DASK\n",
        "\n",
        "Excerpts from XGBoost DASK documentation.\n",
        "\n",
        "### What is DASK?\n",
        "\n",
        "```\n",
        "Dask is a parallel computing library built on Python. Dask allows easy management of distributed workers and excels at handling large distributed data science workflows. The implementation in XGBoost originates from dask-xgboost with some extended functionalities and a different interface. \n",
        "```\n",
        "\n",
        "### XGBoost DASK Overview\n",
        "\n",
        "```\n",
        "A dask cluster consists of three different components: a centralized scheduler, one or more workers, and one or more clients which act as the user-facing entry point for submitting tasks to the cluster. When using XGBoost with dask, one needs to call the XGBoost dask interface from the client side. Below is a small example which illustrates basic usage of running XGBoost on a dask cluster\n",
        "```\n",
        "\n",
        "\n",
        "\n",
        "Learn more about [XGBoost DASK](https://xgboost.readthedocs.io/en/stable/tutorials/dask.html)\n",
        "\n",
        "Learn more about [DASK](dask.org)"
      ]
    },
    {
      "cell_type": "markdown",
      "metadata": {
        "id": "xgboost_intro"
      },
      "source": [
        "## Introduction to XGBoost training\n",
        "\n",
        "Once you have trained a XGBoost model, you will want to save it at a Cloud Storage location, so it can subsequently be uploaded to a `Vertex AI Model` resource.\n",
        "The XGBoost package does not have support to save the model to a Cloud Storage location. Instead, you will do the following steps to save to a Cloud Storage location.\n",
        "\n",
        "1. Save the in-memory model to the local filesystem (e.g., model.bst).\n",
        "2. Use `google.cloud.storage` to copy the local copy to the specified Cloud Storage location."
      ]
    },
    {
      "cell_type": "markdown",
      "metadata": {
        "id": "examine_training_package:xgboost"
      },
      "source": [
        "### Examine the training package\n",
        "\n",
        "#### Package layout\n",
        "\n",
        "Before you start the training, you will look at how a Python package is assembled for a custom training job. When unarchived, the package contains the following directory/file layout.\n",
        "\n",
        "- PKG-INFO\n",
        "- README.md\n",
        "- trainer\n",
        "  - \\_\\_init\\_\\_.py\n",
        "  - task.py\n",
        "\n",
        "The file `trainer/task.py` is the Python script for executing the custom training job. *Note*, when you referred to it in the worker pool specification, you replace the directory slash with a dot (`trainer.task`) and dropped the file suffix (`.py`).\n",
        "\n",
        "#### Package Assembly\n",
        "\n",
        "In the following cells, you assemble the training package."
      ]
    },
    {
      "cell_type": "code",
      "execution_count": null,
      "metadata": {
        "id": "f4wS4eISox9V"
      },
      "outputs": [],
      "source": [
        "# Make folder for Python training script\n",
        "! rm -rf custom prediction\n",
        "! mkdir custom prediction\n",
        "\n",
        "# Add package information\n",
        "! touch custom/README.md\n",
        "\n",
        "pkg_info = \"Metadata-Version: 1.0\\n\\nName: cover_type classification\\n\\nVersion: 0.0.0\\n\\nSummary: Demostration training script\\n\\nHome-page: www.google.com\\n\\nAuthor: Google\\n\\nAuthor-email: aferlitsch@google.com\\n\\nLicense: Public\\n\\nDescription: Demo\\n\\nPlatform: Vertex\"\n",
        "! echo \"$pkg_info\" > custom/PKG-INFO\n",
        "\n",
        "# Make the training subfolder\n",
        "! mkdir custom/trainer\n",
        "! touch custom/trainer/__init__.py"
      ]
    },
    {
      "cell_type": "markdown",
      "metadata": {
        "id": "3ab4eeb45d1c"
      },
      "source": [
        "## Construct the training script with Dask + CUDA (GPU)\n",
        "\n",
        "Next, you write your custom training script to train an XGBoost model using DASK for distributed training.\n",
        "\n",
        "- `args`: Arguments passed to the training script:\n",
        "  - `dataset-source`: The Cloud Storage location of the CSV file containing the training data.\n",
        "  - `model_dir`: The Cloud Storage location to store the model artifacts.\n",
        "  - `model_name`: The file name of the model.\n",
        "  - `--num-gpu-per-worker`: For the scheduler, the number of GPUs per worker. You need to additionally set (subsequently) the accelerator_count in the `run()` method for the job to the same number of GPUs -- to be allocated.\n",
        "  - `--threads-per-worker`: For efficiency, you should set the number of threads per worker to the number of GPUs.\n",
        "- `get_scheduler_info()`: Gets VM/process scheduling related information for setting up a distributed cluster.\n",
        "- `using_quantile_device_dmatrix()`: Does the distributed training:\n",
        "  - Note `client` is the cluster controller for the distributed training.\n",
        "  - Reads the dataset in from CSV file using `dask_cudf.read_csv()`.\n",
        "  - Splits and preprocesses the dataset into train/eval.\n",
        "  - Loads dataset for distributed training using `dxgb.DaskDeviceQuantileDMatrix()`.\n",
        "  - Does distributed training using `xgb.dask.train()`\n",
        "- `saved_model()`: Saves the model and evaluation metrics to the specified Cloud Storage location."
      ]
    },
    {
      "cell_type": "code",
      "execution_count": null,
      "metadata": {
        "id": "ba73b24cd497"
      },
      "outputs": [],
      "source": [
        "%%writefile custom/trainer/task.py\n",
        "\n",
        "import argparse\n",
        "import os\n",
        "import logging\n",
        "import dask_cudf\n",
        "import xgboost as xgb\n",
        "import pandas as pd\n",
        "import subprocess\n",
        "import time\n",
        "from google.cloud import storage\n",
        "\n",
        "from dask_cuda import LocalCUDACluster\n",
        "from dask.distributed import Client\n",
        "from dask.distributed import wait\n",
        "from dask import array as da\n",
        "from xgboost import dask as dxgb\n",
        "from xgboost.dask import DaskDMatrix\n",
        "from dask.utils import parse_bytes\n",
        "\n",
        "parser = argparse.ArgumentParser()\n",
        "parser.add_argument(\n",
        "    '--dataset-source', dest='dataset',\n",
        "    type=str,\n",
        "    help='Dataset.')\n",
        "parser.add_argument(\n",
        "    '--model-dir',\n",
        "    default=os.getenv('AIP_MODEL_DIR'),\n",
        "    help='GCS location to export models')\n",
        "parser.add_argument(\n",
        "    '--model-name',\n",
        "    default=\"custom-train\",\n",
        "    help='The name of your saved model')\n",
        "parser.add_argument(\n",
        "    '--num-gpu-per-worker', type=str, help='num of workers',\n",
        "    default=2)\n",
        "parser.add_argument(\n",
        "    '--threads-per-worker', type=str, help='num of threads per worker',\n",
        "    default=4)\n",
        "\n",
        "args = parser.parse_args()\n",
        "\n",
        "\n",
        "def save_model(model_dir):\n",
        "    logging.info(f\"Reading input job_dir: {model_dir}\")\n",
        "    model_dir = model_dir.split(\"/\")\n",
        "    bucket_name = model_dir[2]\n",
        "    object_prefix = \"/\".join(model_dir[3:]).rstrip(\"/\")\n",
        "    logging.info(f\"Reading object_prefix: {object_prefix}\")\n",
        "\n",
        "    if object_prefix:\n",
        "        model_path = '{}/{}'.format(object_prefix, \"xgboost\")\n",
        "    else:\n",
        "        model_path = '{}'.format(\"xgboost\")\n",
        "            \n",
        "    logging.info(f\"The model path is {model_path}\")\n",
        "    bucket = storage.Client().bucket(bucket_name)    \n",
        "    local_path = os.path.join(\"/tmp\", \"xgboost\")\n",
        "    \n",
        "    files = [f for f in os.listdir(local_path) if os.path.isfile(os.path.join(local_path, f))]\n",
        "    for file in files:\n",
        "        local_file = os.path.join(local_path, file)\n",
        "        blob = bucket.blob(\"/\".join([model_path, file]))\n",
        "        blob.upload_from_filename(local_file)\n",
        "    logging.info(local_file)\n",
        "    logging.info(f\"gs://{bucket_name}/{model_path}\")\n",
        "    logging.info(f\"Saved model files in gs://{bucket_name}/{model_path}\")\n",
        "\n",
        "        \n",
        "def using_quantile_device_dmatrix(client: Client, \n",
        "                                  dataset_source: str, \n",
        "                                  model_dir: str, \n",
        "                                  model_name: str):\n",
        "    \n",
        "    start_time = time.time()\n",
        "    logging.info(f\"Importing dataset {dataset_source}\")\n",
        "    df = dask_cudf.read_csv(dataset_source)\n",
        "\n",
        "    logging.info(\"Cleaning and standarizing dataset\")\n",
        "    df = df.dropna() \n",
        "\n",
        "    logging.info(\"Splitting dataset\")\n",
        "    df_train, df_eval = df.random_split([0.8, 0.2], random_state=123)\n",
        "    df_train_features= df_train.drop('Cover_Type', axis=1)\n",
        "    df_eval_features= df_eval.drop('Cover_Type', axis=1)\n",
        "    df_train_labels = df_train.pop('Cover_Type')\n",
        "    df_eval_labels = df_eval.pop('Cover_Type')\n",
        "\n",
        "    logging.info(\"Train Dataset for dask\")\n",
        "    dtrain = dxgb.DaskDeviceQuantileDMatrix(client, df_train_features, df_train_labels)\n",
        "    \n",
        "    logging.info(\"Eval Dataset for dask\")\n",
        "    dvalid = dxgb.DaskDeviceQuantileDMatrix(client, df_eval_features, df_eval_labels)\n",
        "    logging.info(\"[INFO]: ------ QuantileDMatrix is formed in {} seconds ---\".format((time.time() - start_time)))\n",
        "\n",
        "    del df_train_features\n",
        "    del df_train_labels\n",
        "    del df_eval_features\n",
        "    del df_eval_labels \n",
        "    \n",
        "    start_time = time.time()\n",
        "    \n",
        "    logging.info(\"Training\")\n",
        "    logging.info(f\"XGBoost version: {xgb.__version__}\")\n",
        "    output = xgb.dask.train(\n",
        "        client,\n",
        "        {\n",
        "            \"verbosity\": 2, \n",
        "            \"tree_method\": \"gpu_hist\", \n",
        "            \"objective\": \"multi:softprob\",\n",
        "            \"eval_metric\": [\"mlogloss\"],\n",
        "            \"learning_rate\": 0.1,\n",
        "            \"gamma\": 0.9,\n",
        "            \"subsample\": 0.5,\n",
        "            \"max_depth\": 9,\n",
        "            \"num_class\": 8\n",
        "        },\n",
        "        dtrain,\n",
        "        num_boost_round=10,\n",
        "        evals=[(dvalid, \"valid1\")],\n",
        "        early_stopping_rounds=5\n",
        "    ) \n",
        "    print(\"[INFO]: ------ Training is completed in {} seconds ---\".format((time.time() - start_time)))\n",
        "\n",
        "    # Saving models and exporting performance metrics\n",
        "    \n",
        "    df_eval_metrics = pd.DataFrame(output[\"history\"][\"valid1\"])\n",
        "    model = output[\"booster\"]\n",
        "    best_model = model[: model.best_iteration]\n",
        "    print(f\"Best model: {best_model}\")\n",
        "    \n",
        "    temp_dir = \"/tmp/xgboost\"\n",
        "    os.mkdir(temp_dir)\n",
        "    best_model.save_model(\"{}/{}\".format(temp_dir, model_name))\n",
        "    df_eval_metrics.to_json(\"{}/all_results.json\".format(temp_dir))\n",
        "\n",
        "    save_model(model_dir)\n",
        "        \n",
        "def get_scheduler_info():\n",
        "    scheduler_ip =  subprocess.check_output(['hostname','--all-ip-addresses'])\n",
        "    scheduler_ip = scheduler_ip.decode('UTF-8').split()[0]\n",
        "    scheduler_port = '8786'\n",
        "    scheduler_uri = '{}:{}'.format(scheduler_ip, scheduler_port)\n",
        "    return scheduler_ip, scheduler_uri\n",
        "\n",
        "if __name__ == '__main__':\n",
        "    print(\"Creating dask cluster\")\n",
        "    \n",
        "    sched_ip, sched_uri = get_scheduler_info()\n",
        "    \n",
        "    print(f\"Sched_ip and Sched_uri, {sched_ip}, {sched_uri}\")\n",
        "\n",
        "    print(\"[INFO]: ------ LocalCUDACluster is being formed \")\n",
        "    \n",
        "    with LocalCUDACluster(\n",
        "        ip=sched_ip,\n",
        "        n_workers=int(args.num_gpu_per_worker), \n",
        "        threads_per_worker=int(args.threads_per_worker) \n",
        "    ) as cluster:\n",
        "        with Client(cluster) as client:\n",
        "            print('[INFO]: ------ Calling main function ')\n",
        "            using_quantile_device_dmatrix(client, \n",
        "                                          dataset_source=args.dataset, \n",
        "                                          model_dir=args.model_dir, \n",
        "                                          model_name=args.model_name\n",
        "                                         )"
      ]
    },
    {
      "cell_type": "markdown",
      "metadata": {
        "id": "26a173ba89d6"
      },
      "source": [
        "### Construct custom training container\n",
        "\n",
        "Next, you construct a custom (Docker) container for training a XGBoost model with GPU CUDA support. As a base image, you use an image from Rapids AI with CUDA support. You then install into the image packages for XGBoost, Google Cloud Fuse, and Cloud Storage.\n",
        "\n",
        "*Note:* Currently, Vertex AI does not support a pre-built container for XGBoost with GPU support (CPU only). "
      ]
    },
    {
      "cell_type": "code",
      "execution_count": null,
      "metadata": {
        "id": "1c8198a33c48"
      },
      "outputs": [],
      "source": [
        "%%writefile custom/Dockerfile\n",
        "\n",
        "FROM rapidsai/rapidsai-nightly:22.04-cuda11.2-base-ubuntu20.04-py3.9\n",
        "\n",
        "RUN pip install google.cloud[storage] \\\n",
        "  && pip install gcsfs \\\n",
        "  && pip install xgboost --upgrade\n",
        "\n",
        "COPY trainer trainer/\n",
        "\n",
        "ENTRYPOINT [\"python\", \"trainer/task.py\"]"
      ]
    },
    {
      "cell_type": "markdown",
      "metadata": {
        "id": "gar_create_repo"
      },
      "source": [
        "## Create a private Docker repository\n",
        "\n",
        "Next, you create your own Docker repository in Google Artifact Registry.\n",
        "\n",
        "1. Run the `gcloud artifacts repositories create` command to create a new Docker repository with your region with the description \"docker repository\".\n",
        "\n",
        "2. Run the `gcloud artifacts repositories list` command to verify that your repository was created."
      ]
    },
    {
      "cell_type": "code",
      "execution_count": null,
      "metadata": {
        "id": "gar_create_repo"
      },
      "outputs": [],
      "source": [
        "PRIVATE_REPO = \"my-docker-repo\"\n",
        "\n",
        "! gcloud artifacts repositories create {PRIVATE_REPO} --repository-format=docker --location={REGION} --description=\"Docker repository\"\n",
        "\n",
        "! gcloud artifacts repositories list"
      ]
    },
    {
      "cell_type": "markdown",
      "metadata": {
        "id": "gar_auth"
      },
      "source": [
        "### Configure authentication to your private repo\n",
        "\n",
        "Before you push or pull container images, configure Docker to use the `gcloud` command-line tool to authenticate requests to `Artifact Registry` for your region."
      ]
    },
    {
      "cell_type": "code",
      "execution_count": null,
      "metadata": {
        "id": "gar_auth"
      },
      "outputs": [],
      "source": [
        "! gcloud auth configure-docker {REGION}-docker.pkg.dev --quiet"
      ]
    },
    {
      "cell_type": "markdown",
      "metadata": {
        "id": "b6882c48fb15"
      },
      "source": [
        "## Build the custom training container\n",
        "\n",
        "Next, you build your custom training (Docker) image."
      ]
    },
    {
      "cell_type": "code",
      "execution_count": null,
      "metadata": {
        "id": "7b0aa42672d6"
      },
      "outputs": [],
      "source": [
        "TRAIN_IMAGE = (\n",
        "    f\"{REGION}-docker.pkg.dev/{PROJECT_ID}/{PRIVATE_REPO}/train_gpu_xgb:latest\"\n",
        ")\n",
        "\n",
        "! docker build custom -t $TRAIN_IMAGE\n",
        "! docker push $TRAIN_IMAGE"
      ]
    },
    {
      "cell_type": "markdown",
      "metadata": {
        "id": "98e8ddfb3ee9"
      },
      "source": [
        "## Construct the serving container using Flask.\n",
        "\n",
        "In this tutorial, the model will be served using a custom serving container. You construct the HTTP server for the health and prediction routes using Flask.\n",
        "\n",
        "*TODO: Unhardcode PROJECT_ID*"
      ]
    },
    {
      "cell_type": "code",
      "execution_count": null,
      "metadata": {
        "id": "38de94ac40a3"
      },
      "outputs": [],
      "source": [
        "%%writefile prediction/app.py\n",
        "\n",
        "import os\n",
        "import logging\n",
        "import pandas as pd\n",
        "import xgboost as xgb\n",
        "from flask import Flask, request, Response, jsonify\n",
        "from google.cloud import storage\n",
        "\n",
        "#client = storage.Client(project=os.environ['PROJECT_ID'])\n",
        "client = storage.Client(project='andy-1234-221921')\n",
        "\n",
        "# Model Download from gcs\n",
        "\n",
        "fname = \"model.json\"\n",
        "\n",
        "with open(fname, \"wb\") as model:\n",
        "    client.download_blob_to_file(\n",
        "        f\"{os.environ['AIP_STORAGE_URI']}/{fname}\", model\n",
        "    )\n",
        "\n",
        "# Loading model\n",
        "print(\"Loading model from: {}\".format(fname))\n",
        "model = xgb.Booster(model_file=fname)\n",
        "\n",
        "# Creation of the Flask app\n",
        "app = Flask(__name__)\n",
        "\n",
        "# Flask route for Liveness checks\n",
        "@app.route(os.environ['AIP_HEALTH_ROUTE'])\n",
        "def isalive():\n",
        "    status_code = Response(status=200)\n",
        "    return status_code\n",
        "\n",
        "# Flask route for predictions\n",
        "@app.route(os.environ['AIP_PREDICT_ROUTE'],methods=['GET','POST'])\n",
        "def prediction():\n",
        "    _features = ['Id','Elevation', 'Aspect', 'Slope', 'Horizontal_Distance_To_Hydrology', 'Vertical_Distance_To_Hydrology', 'Horizontal_Distance_To_Roadways',\n",
        "                          'Hillshade_9am', 'Hillshade_Noon', 'Hillshade_3pm','Horizontal_Distance_To_Fire_Points', 'Wilderness_Area1', 'Wilderness_Area2', 'Wilderness_Area3', \n",
        "                          'Wilderness_Area4', 'Soil_Type1', 'Soil_Type2', 'Soil_Type3', 'Soil_Type4', 'Soil_Type5', 'Soil_Type6', 'Soil_Type7', 'Soil_Type8', 'Soil_Type9',\n",
        "                          'Soil_Type10','Soil_Type11','Soil_Type12','Soil_Type13','Soil_Type14','Soil_Type15','Soil_Type16','Soil_Type17','Soil_Type18','Soil_Type19', \n",
        "                          'Soil_Type20', 'Soil_Type21', 'Soil_Type22', 'Soil_Type23', 'Soil_Type24', 'Soil_Type25', 'Soil_Type26', 'Soil_Type27', 'Soil_Type28', 'Soil_Type29',\n",
        "                          'Soil_Type30', 'Soil_Type31', 'Soil_Type32', 'Soil_Type33', 'Soil_Type34', 'Soil_Type35', 'Soil_Type36', 'Soil_Type37', 'Soil_Type38', 'Soil_Type39', 'Soil_Type40']\n",
        "    data = request.get_json(silent=True, force=True)\n",
        "    dmf = xgb.DMatrix(pd.DataFrame(data[\"instances\"], columns=_features))\n",
        "    response = pd.DataFrame(model.predict(dmf))\n",
        "    logging.info(f\"Response: {response}\")\n",
        "    return jsonify({\"Cover Type\": str(response.idxmax(axis=1)[0])})\n",
        "\n",
        "if __name__ == \"__main__\":\n",
        "    app.run(debug=True, host='0.0.0.0', port=8080)"
      ]
    },
    {
      "cell_type": "markdown",
      "metadata": {
        "id": "1f71690e0d59"
      },
      "source": [
        "### Construct the package requirements for your custom serving container\n",
        "\n",
        "Next, you construct the requirements file for your custom serving container."
      ]
    },
    {
      "cell_type": "code",
      "execution_count": null,
      "metadata": {
        "id": "936121d30322"
      },
      "outputs": [],
      "source": [
        "%%writefile prediction/requirements.txt\n",
        "\n",
        "google-cloud-storage\n",
        "numpy\n",
        "pandas\n",
        "flask\n",
        "xgboost"
      ]
    },
    {
      "cell_type": "markdown",
      "metadata": {
        "id": "8ac192063545"
      },
      "source": [
        "### Construct custom prediction container\n",
        "\n",
        "Next, you construct a custom (Docker) container for serving predictions from your deployed XGBoost model.\n"
      ]
    },
    {
      "cell_type": "code",
      "execution_count": null,
      "metadata": {
        "id": "dfaa2f71def4"
      },
      "outputs": [],
      "source": [
        "%%writefile prediction/Dockerfile\n",
        "\n",
        "FROM python:3.7-buster\n",
        "\n",
        "RUN mkdir my-model\n",
        "\n",
        "COPY app.py ./app.py\n",
        "COPY requirements.txt ./requirements.txt\n",
        "RUN pip install -r requirements.txt \n",
        "\n",
        "# Flask Env Variable\n",
        "ENV FLASK_APP=app\n",
        "\n",
        "# Expose port 8080\n",
        "EXPOSE 8080\n",
        "\n",
        "CMD flask run --host=0.0.0.0 --port=8080"
      ]
    },
    {
      "cell_type": "markdown",
      "metadata": {
        "id": "445235be1721"
      },
      "source": [
        "## Build the custom serving container\n",
        "\n",
        "Next, you build your custom prediction (Docker) image."
      ]
    },
    {
      "cell_type": "code",
      "execution_count": null,
      "metadata": {
        "id": "71f78292b55f"
      },
      "outputs": [],
      "source": [
        "DEPLOY_IMAGE = (\n",
        "    f\"{REGION}-docker.pkg.dev/{PROJECT_ID}/{PRIVATE_REPO}/predict_gpu_xgb:latest\"\n",
        ")\n",
        "\n",
        "! docker build prediction -t $DEPLOY_IMAGE\n",
        "! docker push $DEPLOY_IMAGE"
      ]
    },
    {
      "cell_type": "markdown",
      "metadata": {
        "id": "tarball_training_script"
      },
      "source": [
        "#### Store training script on your Cloud Storage bucket\n",
        "\n",
        "Next, you package the training folder into a compressed tar ball, and then store it in your Cloud Storage bucket."
      ]
    },
    {
      "cell_type": "code",
      "execution_count": null,
      "metadata": {
        "id": "dnmdycf6ox9X"
      },
      "outputs": [],
      "source": [
        "! rm -f custom.tar custom.tar.gz\n",
        "! tar cvf custom.tar custom\n",
        "! gzip custom.tar\n",
        "! gsutil cp custom.tar.gz $BUCKET_URI/trainer_covertype.tar.gz"
      ]
    },
    {
      "cell_type": "markdown",
      "metadata": {
        "id": "create_custom_pp_training_job:mbsdk"
      },
      "source": [
        "### Create and run custom training job\n",
        "\n",
        "\n",
        "To train a custom model, you perform two steps: 1) create a custom training job, and 2) run the job.\n",
        "\n",
        "#### Create custom training job\n",
        "\n",
        "A custom training job is created with the `CustomTrainingJob` class, with the following parameters:\n",
        "\n",
        "- `display_name`: The human readable name for the custom training job.\n",
        "- `container_uri`: The training container image.\n",
        "\n",
        "- `command`: The command (e.g., interpreter) and script to invokee within the container.\n",
        "\n",
        "- `model_serving_container_image_uri`: The corresponding serving container to be used with the model when it is deployed.\n",
        "\n",
        "*Note:* The interpreter and script to invoke is overridable within the container (i.e., ENTRYPOINT)."
      ]
    },
    {
      "cell_type": "code",
      "execution_count": null,
      "metadata": {
        "id": "rVEMz1xqox9X"
      },
      "outputs": [],
      "source": [
        "DISPLAY_NAME = \"covertype_\" + TIMESTAMP\n",
        "\n",
        "job = aiplatform.CustomContainerTrainingJob(\n",
        "    display_name=\"DISPLAY_NAME\",\n",
        "    container_uri=TRAIN_IMAGE,\n",
        "    command=[\"python3\", \"trainer/task.py\"],\n",
        "    model_serving_container_image_uri=DEPLOY_IMAGE,\n",
        ")"
      ]
    },
    {
      "cell_type": "markdown",
      "metadata": {
        "id": "run_custom_container_training_job:no_model"
      },
      "source": [
        "#### Run the custom container training job\n",
        "\n",
        "Next, you run the custom job to start the training job by invoking the method `run()`, with the following parameters:\n",
        "\n",
        "- `model_display_name`: When the training job is completed, the model artifacts will be automatically uploaded as a `Vertex AI Model` resource, with the specified display name.\n",
        "- `args`: The command line arguments to pass to the training script:\n",
        "    - `dataset-source`: The Cloud Storage location to the CSV dataset file.\n",
        "    - `model-name`: The file name for the model artifacts.\n",
        "    - `num-gpu-per-worker`: The number of GPUs per VM instance (worker).\n",
        "    - `threads-per-worker`: The number of training process threads per VM instances.\n",
        "- `replica_count`: The number of VM instances.\n",
        "- `machine_type`: The machine type per VM instance.\n",
        "- `accelerator_type`: The type of GPU, if any.\n",
        "- `accelerator_count`: The number of GPUs per VM instance, if any.\n",
        "- `base_output_dir`: The Cloud Storage location to save the model artifacts to."
      ]
    },
    {
      "cell_type": "code",
      "execution_count": null,
      "metadata": {
        "id": "5eaec67248bf"
      },
      "outputs": [],
      "source": [
        "DATASET_FILE = \"gs://vtx-datasets-public/cover_type_4Mrows.csv\"\n",
        "\n",
        "MODEL_DIR = f\"{BUCKET_URI}\"\n",
        "\n",
        "NGPU = 4\n",
        "\n",
        "CMDARGS = [\n",
        "    \"--dataset-source\",\n",
        "    DATASET_FILE,\n",
        "    \"--model-name\",\n",
        "    \"model.json\",\n",
        "    \"--num-gpu-per-worker\",\n",
        "    str(NGPU),\n",
        "    \"--threads-per-worker\",\n",
        "    \"4\",\n",
        "]\n",
        "\n",
        "model = job.run(\n",
        "    model_display_name=\"covertype_\" + TIMESTAMP,\n",
        "    args=CMDARGS,\n",
        "    replica_count=1,\n",
        "    machine_type=\"n1-standard-4\",\n",
        "    accelerator_type=\"NVIDIA_TESLA_T4\",\n",
        "    accelerator_count=NGPU,\n",
        "    base_output_dir=MODEL_DIR,\n",
        ")"
      ]
    },
    {
      "cell_type": "markdown",
      "metadata": {
        "id": "delete_job"
      },
      "source": [
        "### Delete a custom training job\n",
        "\n",
        "After a training job is completed, you can delete the training job with the method `delete()`.  Prior to completion, a training job can be canceled with the method `cancel()`."
      ]
    },
    {
      "cell_type": "code",
      "execution_count": null,
      "metadata": {
        "id": "delete_job"
      },
      "outputs": [],
      "source": [
        "job.delete()"
      ]
    },
    {
      "cell_type": "markdown",
      "metadata": {
        "id": "8c9e104ae3ac"
      },
      "source": [
        "#### Display location of saved model artifacts\n",
        "\n",
        "Next, you display the contents of the Cloud Storage location where your training script saved the trained model artifacts."
      ]
    },
    {
      "cell_type": "code",
      "execution_count": null,
      "metadata": {
        "id": "88cf7be4cd4e"
      },
      "outputs": [],
      "source": [
        "! gsutil ls {MODEL_DIR}/model"
      ]
    },
    {
      "cell_type": "markdown",
      "metadata": {
        "id": "92c9a5641b60"
      },
      "source": [
        "### Deploy the model\n",
        "\n",
        "Next, you deploy your XGBoost model + serving container to a `Vertex AI Endpoint` resource using the `deploy()` method."
      ]
    },
    {
      "cell_type": "code",
      "execution_count": null,
      "metadata": {
        "id": "4082d39f001b"
      },
      "outputs": [],
      "source": [
        "endpoint = model.deploy(machine_type=\"n1-standard-4\")"
      ]
    },
    {
      "cell_type": "markdown",
      "metadata": {
        "id": "b6ad37e4520c"
      },
      "source": [
        "#### Prepare prediction request\n",
        "\n",
        "Next, you prepare a prediction request. For demonstration purposes, you use the first row (example) from the dataset."
      ]
    },
    {
      "cell_type": "code",
      "execution_count": null,
      "metadata": {
        "id": "758edcec727f"
      },
      "outputs": [],
      "source": [
        "output = ! gsutil cat {DATASET_FILE} | head -n2\n",
        "\n",
        "print(output[1])\n",
        "\n",
        "import json\n",
        "\n",
        "instance = json.loads(output[1])\n",
        "print(instance)"
      ]
    },
    {
      "cell_type": "markdown",
      "metadata": {
        "id": "149556c3b776"
      },
      "source": [
        "### Make the prediction\n",
        "\n",
        "BLAH"
      ]
    },
    {
      "cell_type": "code",
      "execution_count": null,
      "metadata": {
        "id": "d486a0ddff75"
      },
      "outputs": [],
      "source": [
        "prediction = endpoint.predict(instances=[instance])\n",
        "print(prediction)"
      ]
    },
    {
      "cell_type": "markdown",
      "metadata": {
        "id": "e18637e0af66"
      },
      "source": [
        "#### Undeploy and delete the `Endpoint` resource\n",
        "\n",
        "BLAH"
      ]
    },
    {
      "cell_type": "code",
      "execution_count": null,
      "metadata": {
        "id": "659cf7dd8d33"
      },
      "outputs": [],
      "source": [
        "endpoint.undeploy_all(force=True)\n",
        "endpoint.delete()"
      ]
    },
    {
      "cell_type": "markdown",
      "metadata": {
        "id": "e591b61fd8f5"
      },
      "source": [
        "#### Delete the `Model` resource\n",
        "\n",
        "You can delete a model resource with the method delete()."
      ]
    },
    {
      "cell_type": "code",
      "execution_count": null,
      "metadata": {
        "id": "00fa6a7b4f24"
      },
      "outputs": [],
      "source": [
        "model.delete()"
      ]
    },
    {
      "cell_type": "markdown",
      "metadata": {
        "id": "8b6599395122"
      },
      "source": [
        "## Cleanup"
      ]
    },
    {
      "cell_type": "code",
      "execution_count": null,
      "metadata": {
        "id": "e7ffef3306e5"
      },
      "outputs": [],
      "source": [
        "delete_bucket = True\n",
        "if delete_bucket or os.getenv(\"IS_TESTING\"):\n",
        "    ! gsutil rm -r {BUCKET_URI}\n",
        "\n",
        "! rm -rf custom prediction custom.tar.gz\n",
        "\n",
        "# TODO: delete repo, delete images"
      ]
    }
  ],
  "metadata": {
    "colab": {
      "name": "get_started_with_distributed_training_xgboost.ipynb",
      "toc_visible": true
    },
    "kernelspec": {
      "display_name": "Python 3",
      "name": "python3"
    }
  },
  "nbformat": 4,
  "nbformat_minor": 0
}
