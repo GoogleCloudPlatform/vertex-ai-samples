{
  "cells": [
    {
      "cell_type": "code",
      "execution_count": null,
      "id": "d32b661c-eb7c-470a-832e-12bf6212ea16",
      "metadata": {
        "id": "ur8xi4C7S06n"
      },
      "outputs": [],
      "source": [
        "# Copyright 2022 Google LLC\n",
        "#\n",
        "# Licensed under the Apache License, Version 2.0 (the \"License\");\n",
        "# you may not use this file except in compliance with the License.\n",
        "# You may obtain a copy of the License at\n",
        "#\n",
        "#     https://www.apache.org/licenses/LICENSE-2.0\n",
        "#\n",
        "# Unless required by applicable law or agreed to in writing, software\n",
        "# distributed under the License is distributed on an \"AS IS\" BASIS,\n",
        "# WITHOUT WARRANTIES OR CONDITIONS OF ANY KIND, either express or implied.\n",
        "# See the License for the specific language governing permissions and\n",
        "# limitations under the License."
      ]
    },
    {
      "cell_type": "markdown",
      "id": "e417f6a1-b6ca-4dc4-8e0a-1f1a773d5a8f",
      "metadata": {
        "id": "5bfe9394d8cd"
      },
      "source": [
        "This notebook is an updated version of a notebook authored by [Jesus Chavez](https://github.com/jchavezar)"
      ]
    },
    {
      "cell_type": "markdown",
      "id": "716308ca-de41-497a-a738-76421a4f0161",
      "metadata": {
        "id": "title:generic,gcp"
      },
      "source": [
        "# E2E ML on GCP: MLOps stage 2 : experimentation: Get started with distributed training using DASK\n",
        "\n",
        "<table align=\"left\">\n",
        "  <td>\n",
        "    <a href=\"https://colab.research.google.com/github/GoogleCloudPlatform/vertex-ai-samples/blob/main/notebooks/community/ml_ops/stage2/get_started_with_dask_xgboost.ipynb\">\n",
        "      <img src=\"https://cloud.google.com/ml-engine/images/colab-logo-32px.png\" alt=\"Colab logo\"> Run in Colab\n",
        "    </a>\n",
        "  </td>\n",
        "  <td>\n",
        "    <a href=\"https://github.com/GoogleCloudPlatform/vertex-ai-samples/blob/main/notebooks/community/ml_ops/stage2/get_started_with_dask_xgboost.ipynb\">\n",
        "      <img src=\"https://cloud.google.com/ml-engine/images/github-logo-32px.png\" alt=\"GitHub logo\">\n",
        "      View on GitHub\n",
        "    </a>\n",
        "  </td>\n",
        "  <td>\n",
        "    <a href=\"https://console.cloud.google.com/vertex-ai/workbench/deploy-notebook?download_url=https://raw.githubusercontent.com/GoogleCloudPlatform/vertex-ai-samples/main/notebooks/community/ml_ops/stage2/get_started_with_dask_xgboost.ipynb\">\n",
        "      <img src=\"https://lh3.googleusercontent.com/UiNooY4LUgW_oTvpsNhPpQzsstV5W8F7rYgxgGBD85cWJoLmrOzhVs_ksK_vgx40SHs7jCqkTkCk=e14-rj-sc0xffffff-h130-w32\" alt=\"Vertex AI logo\">\n",
        "      Open in Vertex AI Workbench\n",
        "    </a>\n",
        "  </td>        \n",
        "</table>\n",
        "<br/><br/><br/>"
      ]
    },
    {
      "cell_type": "markdown",
      "id": "a6f144d5-6ca6-4ef3-9200-3d07101990f0",
      "metadata": {
        "id": "3baf7d4e1b84"
      },
      "source": [
        "## Overview\n",
        "\n",
        "This tutorial demonstrates how to do distributed training for XGBoost models with `Vertex AI Training`. The tutorial includes using DASK for supporting distributed training for XGBoost and Scikit-learn models, and Flask as a web server for a custom serving container."
      ]
    },
    {
      "cell_type": "markdown",
      "id": "1f722376-4c9d-471d-a8e9-128fd25f0a58",
      "metadata": {
        "id": "c9402cfbdc2d"
      },
      "source": [
        "### Objective\n",
        "\n",
        "In this tutorial, you learn how to use `Vertex AI Training` for distributed training of XGBoost model using the OSS package DASK. Additionally, you learn to construct and deploy a custom serving container using a Flask web server.\n",
        "\n",
        "This tutorial uses the following Google Cloud ML services and resources:\n",
        "\n",
        "- `Vertex AI Training`\n",
        "- `Vertex AI Prediction`\n",
        "- `Vertex AI Model` resource\n",
        "- `Vertex AI Endpoint` resource\n",
        "\n",
        "The steps performed include:\n",
        "\n",
        "- Construct an XGBoost training script using DASK for distributed training.\n",
        "- Construct a custom training container.\n",
        "- Configure a distributed custom training job.\n",
        "- Execute the custom training job.\n",
        "- Construct a custom serving container using Flask.\n",
        "- Upload the trained XGBoost model as a `Vertex AI Model` resource.\n",
        "- Create a `Vertex AI Endpoint` resource.\n",
        "- Deploy the `Vertex AI Model` resource to `Vertex AI Endpoint` resource.\n",
        "- Make a prediction."
      ]
    },
    {
      "cell_type": "markdown",
      "id": "aa6e8a57-053d-4b30-b1ba-1641dee18dca",
      "metadata": {
        "id": "dataset:iris,lcn"
      },
      "source": [
        "### Dataset\n",
        "\n",
        "The dataset used in this tutorial is the [Forest Cover Type](https://archive.ics.uci.edu/ml/datasets/covertype). The version of this dataset is stored in CSV format on a public Cloud Storage bucket. The dataset predicts the forest cover type from cartographic variables only."
      ]
    },
    {
      "cell_type": "markdown",
      "id": "d5989490-c542-4400-a2e8-779fb8bb4937",
      "metadata": {
        "id": "costs"
      },
      "source": [
        "### Costs\n",
        "\n",
        "This tutorial uses billable components of Google Cloud:\n",
        "\n",
        "* Vertex AI\n",
        "* Cloud Storage\n",
        "\n",
        "Learn about [Vertex AI\n",
        "pricing](https://cloud.google.com/vertex-ai/pricing) and [Cloud Storage\n",
        "pricing](https://cloud.google.com/storage/pricing), and use the [Pricing\n",
        "Calculator](https://cloud.google.com/products/calculator/)\n",
        "to generate a cost estimate based on your projected usage."
      ]
    },
    {
      "cell_type": "markdown",
      "id": "50906192-e2a8-45d9-af0b-fc82e2eac201",
      "metadata": {
        "id": "install_aip"
      },
      "source": [
        "## Installation\n",
        "\n",
        "Install the following packages to execute this notebook."
      ]
    },
    {
      "cell_type": "code",
      "execution_count": null,
      "id": "fbb3428a-7560-443f-bbcc-b5233fb8102f",
      "metadata": {
        "id": "install_aip"
      },
      "outputs": [],
      "source": [
        "import os\n",
        "\n",
        "# The Vertex AI Workbench Notebook product has specific requirements\n",
        "IS_WORKBENCH_NOTEBOOK = os.getenv(\"DL_ANACONDA_HOME\")\n",
        "IS_USER_MANAGED_WORKBENCH_NOTEBOOK = os.path.exists(\n",
        "    \"/opt/deeplearning/metadata/env_version\"\n",
        ")\n",
        "\n",
        "# Vertex AI Notebook requires dependencies to be installed with '--user'\n",
        "USER_FLAG = \"\"\n",
        "if IS_WORKBENCH_NOTEBOOK:\n",
        "    USER_FLAG = \"--user\"\n",
        "\n",
        "! pip3 install --upgrade google-cloud-aiplatform $USER_FLAG -q"
      ]
    },
    {
      "cell_type": "markdown",
      "id": "f4f073ee-7c39-4907-bdae-0d3909180861",
      "metadata": {
        "id": "hhq5zEbGg0XX"
      },
      "source": [
        "### Restart the kernel\n",
        "\n",
        "After you install the additional packages, you need to restart the notebook kernel so it can find the packages."
      ]
    },
    {
      "cell_type": "code",
      "execution_count": null,
      "id": "d0626f67-98c6-453f-bf74-2ee9bdc1e5e6",
      "metadata": {
        "id": "EzrelQZ22IZj"
      },
      "outputs": [],
      "source": [
        "# Automatically restart kernel after installs\n",
        "import os\n",
        "\n",
        "if not os.getenv(\"IS_TESTING\"):\n",
        "    # Automatically restart kernel after installs\n",
        "    import IPython\n",
        "\n",
        "    app = IPython.Application.instance()\n",
        "    app.kernel.do_shutdown(True)"
      ]
    },
    {
      "cell_type": "markdown",
      "id": "8e9c16ed-43d4-40ec-bee0-7062ae18b57b",
      "metadata": {
        "id": "before_you_begin"
      },
      "source": [
        "## Before you begin\n",
        "\n",
        "### Set up your Google Cloud project\n",
        "\n",
        "**The following steps are required, regardless of your notebook environment.**\n",
        "\n",
        "1. [Select or create a Google Cloud project](https://console.cloud.google.com/cloud-resource-manager). When you first create an account, you get a $300 free credit towards your compute/storage costs.\n",
        "\n",
        "2. [Make sure that billing is enabled for your project.](https://cloud.google.com/billing/docs/how-to/modify-project)\n",
        "\n",
        "3. [Enable the following APIs: Vertex AI APIs, Compute Engine APIs, and Cloud Storage.](https://console.cloud.google.com/flows/enableapi?apiid=aiplatform.googleapis.com,compute_component,storage-component.googleapis.com)\n",
        "\n",
        "4. If you are running this notebook locally, you need to install the [Cloud SDK]((https://cloud.google.com/sdk)).\n",
        "\n",
        "5. Enter your project ID in the cell below. Then run the  cell to make sure the\n",
        "Cloud SDK uses the right project for all the commands in this notebook.\n",
        "\n",
        "**Note**: Jupyter runs lines prefixed with `!` as shell commands, and it interpolates Python variables prefixed with `$`."
      ]
    },
    {
      "cell_type": "markdown",
      "id": "73d38048-d6ab-46b8-8ad6-02700b005692",
      "metadata": {
        "id": "project_id"
      },
      "source": [
        "#### Set your project ID\n",
        "\n",
        "**If you don't know your project ID**, you may be able to get your project ID using `gcloud`."
      ]
    },
    {
      "cell_type": "code",
      "execution_count": 1,
      "id": "53b9146b-d502-4d61-8b1f-458ec4a19402",
      "metadata": {
        "id": "set_project_id"
      },
      "outputs": [],
      "source": [
        "PROJECT_ID = \"[your-project-id]\"  # @param {type:\"string\"}"
      ]
    },
    {
      "cell_type": "code",
      "execution_count": 2,
      "id": "b8e88a17-e6c5-4da3-adb0-c01c53db5c74",
      "metadata": {
        "id": "autoset_project_id"
      },
      "outputs": [
        {
          "name": "stdout",
          "output_type": "stream",
          "text": [
            "Project ID: andy-1234-221921\n"
          ]
        }
      ],
      "source": [
        "if PROJECT_ID == \"\" or PROJECT_ID is None or PROJECT_ID == \"[your-project-id]\":\n",
        "    # Get your GCP project id from gcloud\n",
        "    shell_output = ! gcloud config list --format 'value(core.project)' 2>/dev/null\n",
        "    PROJECT_ID = shell_output[0]\n",
        "    print(\"Project ID:\", PROJECT_ID)"
      ]
    },
    {
      "cell_type": "code",
      "execution_count": 3,
      "id": "eb03085a-f755-470a-966a-ca9f4826acff",
      "metadata": {
        "id": "set_gcloud_project_id"
      },
      "outputs": [
        {
          "name": "stdout",
          "output_type": "stream",
          "text": [
            "Updated property [core/project].\n"
          ]
        }
      ],
      "source": [
        "! gcloud config set project $PROJECT_ID"
      ]
    },
    {
      "cell_type": "markdown",
      "id": "9a62527f-7952-42d4-bdf2-a4d37243d63e",
      "metadata": {
        "id": "region"
      },
      "source": [
        "#### Region\n",
        "\n",
        "You can also change the `REGION` variable, which is used for operations\n",
        "throughout the rest of this notebook.  Below are regions supported for Vertex AI. We recommend that you choose the region closest to you.\n",
        "\n",
        "- Americas: `us-central1`\n",
        "- Europe: `europe-west4`\n",
        "- Asia Pacific: `asia-east1`\n",
        "\n",
        "You may not use a multi-regional bucket for training with Vertex AI. Not all regions provide support for all Vertex AI services.\n",
        "\n",
        "Learn more about [Vertex AI regions](https://cloud.google.com/vertex-ai/docs/general/locations)."
      ]
    },
    {
      "cell_type": "code",
      "execution_count": 4,
      "id": "466de8bb-3186-4681-98cb-819d08c38a72",
      "metadata": {
        "id": "region"
      },
      "outputs": [],
      "source": [
        "REGION = \"[your-region]\"  # @param {type: \"string\"}\n",
        "\n",
        "if REGION == \"[your-region]\":\n",
        "    REGION = \"us-central1\""
      ]
    },
    {
      "cell_type": "markdown",
      "id": "db84cfab-b193-4ee9-a426-d15cf8620e17",
      "metadata": {
        "id": "timestamp"
      },
      "source": [
        "#### Timestamp\n",
        "\n",
        "If you are in a live tutorial session, you might be using a shared test account or project. To avoid name collisions between users on resources created, you create a timestamp for each instance session, and append the timestamp onto the name of resources you create in this tutorial."
      ]
    },
    {
      "cell_type": "code",
      "execution_count": 5,
      "id": "4d516314-a805-4bdc-bfb9-ff276a7eac20",
      "metadata": {
        "id": "timestamp"
      },
      "outputs": [],
      "source": [
        "from datetime import datetime\n",
        "\n",
        "TIMESTAMP = datetime.now().strftime(\"%Y%m%d%H%M%S\")"
      ]
    },
    {
      "cell_type": "markdown",
      "id": "705263e2-1429-49ef-89ea-f0a8082b42f7",
      "metadata": {
        "id": "gcp_authenticate"
      },
      "source": [
        "### Authenticate your Google Cloud account\n",
        "\n",
        "**If you are using Vertex AI Workbench Notebooks**, your environment is already authenticated. Skip this step.\n",
        "\n",
        "**If you are using Colab**, run the cell below and follow the instructions when prompted to authenticate your account via oAuth.\n",
        "\n",
        "**Otherwise**, follow these steps:\n",
        "\n",
        "In the Cloud Console, go to the [Create service account key](https://console.cloud.google.com/apis/credentials/serviceaccountkey) page.\n",
        "\n",
        "**Click Create service account**.\n",
        "\n",
        "In the **Service account name** field, enter a name, and click **Create**.\n",
        "\n",
        "In the **Grant this service account access to project** section, click the Role drop-down list. Type \"Vertex\" into the filter box, and select **Vertex Administrator**. Type \"Storage Object Admin\" into the filter box, and select **Storage Object Admin**.\n",
        "\n",
        "Click Create. A JSON file that contains your key downloads to your local environment.\n",
        "\n",
        "Enter the path to your service account key as the GOOGLE_APPLICATION_CREDENTIALS variable in the cell below and run the cell."
      ]
    },
    {
      "cell_type": "code",
      "execution_count": 6,
      "id": "99708c14-ebba-41cc-967a-e7d044186cfb",
      "metadata": {
        "id": "gcp_authenticate"
      },
      "outputs": [],
      "source": [
        "# If you are running this notebook in Colab, run this cell and follow the\n",
        "# instructions to authenticate your GCP account. This provides access to your\n",
        "# Cloud Storage bucket and lets you submit training jobs and prediction\n",
        "# requests.\n",
        "\n",
        "import os\n",
        "import sys\n",
        "\n",
        "# If on Vertex AI Workbench, then don't execute this code\n",
        "IS_COLAB = \"google.colab\" in sys.modules\n",
        "if not os.path.exists(\"/opt/deeplearning/metadata/env_version\") and not os.getenv(\n",
        "    \"DL_ANACONDA_HOME\"\n",
        "):\n",
        "    if \"google.colab\" in sys.modules:\n",
        "        from google.colab import auth as google_auth\n",
        "\n",
        "        google_auth.authenticate_user()\n",
        "\n",
        "    # If you are running this notebook locally, replace the string below with the\n",
        "    # path to your service account key and run this cell to authenticate your GCP\n",
        "    # account.\n",
        "    elif not os.getenv(\"IS_TESTING\"):\n",
        "        %env GOOGLE_APPLICATION_CREDENTIALS ''"
      ]
    },
    {
      "cell_type": "markdown",
      "id": "cafe5c4a-553f-4b6f-95c6-aced5f9e7f69",
      "metadata": {
        "id": "bucket:mbsdk"
      },
      "source": [
        "### Create a Cloud Storage bucket\n",
        "\n",
        "**The following steps are required, regardless of your notebook environment.**\n",
        "\n",
        "When you initialize the Vertex AI SDK for Python, you specify a Cloud Storage staging bucket. The staging bucket is where all the data associated with your dataset and model resources are retained across sessions.\n",
        "\n",
        "Set the name of your Cloud Storage bucket below. Bucket names must be globally unique across all Google Cloud projects, including those outside of your organization."
      ]
    },
    {
      "cell_type": "code",
      "execution_count": 7,
      "id": "18fcd208-b4f4-4d8d-bd8c-cac4af4d637f",
      "metadata": {
        "id": "bucket"
      },
      "outputs": [],
      "source": [
        "BUCKET_NAME = \"[your-bucket-name]\"  # @param {type:\"string\"}\n",
        "BUCKET_URI = f\"gs://{BUCKET_NAME}\""
      ]
    },
    {
      "cell_type": "code",
      "execution_count": 8,
      "id": "a7b0282e-fc02-42d8-8fd1-4d8c99a67390",
      "metadata": {
        "id": "autoset_bucket"
      },
      "outputs": [],
      "source": [
        "if BUCKET_NAME == \"\" or BUCKET_NAME is None or BUCKET_NAME == \"[your-bucket-name]\":\n",
        "    BUCKET_NAME = PROJECT_ID + \"aip-\" + TIMESTAMP\n",
        "    BUCKET_URI = \"gs://\" + BUCKET_NAME"
      ]
    },
    {
      "cell_type": "markdown",
      "id": "9f2bc1d1-ae4a-481a-b640-9ef2f0ad9de9",
      "metadata": {
        "id": "create_bucket"
      },
      "source": [
        "**Only if your bucket doesn't already exist**: Run the following cell to create your Cloud Storage bucket."
      ]
    },
    {
      "cell_type": "code",
      "execution_count": 9,
      "id": "fc11c279-c71b-4876-9a3d-440a151861c9",
      "metadata": {
        "id": "create_bucket"
      },
      "outputs": [
        {
          "name": "stdout",
          "output_type": "stream",
          "text": [
            "Creating gs://andy-1234-221921aip-20220808183359/...\n"
          ]
        }
      ],
      "source": [
        "! gsutil mb -l $REGION $BUCKET_URI"
      ]
    },
    {
      "cell_type": "markdown",
      "id": "e0036847-28fb-40c9-8407-b8f6549c2076",
      "metadata": {
        "id": "validate_bucket"
      },
      "source": [
        "Finally, validate access to your Cloud Storage bucket by examining its contents:"
      ]
    },
    {
      "cell_type": "code",
      "execution_count": 10,
      "id": "103b133c-d6cc-41bc-9629-f9cc1a7c6a60",
      "metadata": {
        "id": "validate_bucket"
      },
      "outputs": [],
      "source": [
        "! gsutil ls -al $BUCKET_URI"
      ]
    },
    {
      "cell_type": "markdown",
      "id": "3e601e6e-742e-4aa6-b7af-8609f24a0a81",
      "metadata": {
        "id": "gar_enable_api"
      },
      "source": [
        "### Enable Artifact Registry API\n",
        "\n",
        "You must enable the Artifact Registry API service for your project.\n",
        "\n",
        "Learn more about [Enabling service](https://cloud.google.com/artifact-registry/docs/enable-service)."
      ]
    },
    {
      "cell_type": "code",
      "execution_count": 11,
      "id": "1a0ab0af-881e-45b3-b91f-bf091a705542",
      "metadata": {
        "id": "gar_enable_api"
      },
      "outputs": [],
      "source": [
        "! gcloud services enable artifactregistry.googleapis.com"
      ]
    },
    {
      "cell_type": "markdown",
      "id": "5414f8e5-0e40-4e59-b71f-f7b2a7bfc06a",
      "metadata": {
        "id": "setup_vars"
      },
      "source": [
        "### Set up variables\n",
        "\n",
        "Next, set up some variables used throughout the tutorial.\n",
        "### Import libraries and define constants"
      ]
    },
    {
      "cell_type": "code",
      "execution_count": 12,
      "id": "a115af78-c214-4695-9602-5882c34a7c3d",
      "metadata": {
        "id": "import_aip:mbsdk"
      },
      "outputs": [],
      "source": [
        "import google.cloud.aiplatform as aiplatform"
      ]
    },
    {
      "cell_type": "markdown",
      "id": "c2b718a4-53f5-43eb-8a6e-962c327b2550",
      "metadata": {
        "id": "init_aip:mbsdk"
      },
      "source": [
        "### Initialize Vertex AI SDK for Python\n",
        "\n",
        "Initialize the Vertex AI SDK for Python for your project and corresponding bucket."
      ]
    },
    {
      "cell_type": "code",
      "execution_count": 13,
      "id": "3f8b4f3c-0ada-4232-b4c7-c07d2607074f",
      "metadata": {
        "id": "init_aip:mbsdk"
      },
      "outputs": [],
      "source": [
        "aiplatform.init(project=PROJECT_ID, staging_bucket=BUCKET_URI)"
      ]
    },
    {
      "cell_type": "markdown",
      "id": "adc1cbde-008a-4e92-8af0-d5df8bfb3c2c",
      "metadata": {
        "id": "2259110f1d46"
      },
      "source": [
        "## Introduction to DASK\n",
        "\n",
        "Excerpts from XGBoost DASK documentation.\n",
        "\n",
        "### What is DASK?\n",
        "\n",
        "```\n",
        "Dask is a parallel computing library built on Python. Dask allows easy management of distributed workers and excels at handling large distributed data science workflows. The implementation in XGBoost originates from dask-xgboost with some extended functionalities and a different interface. \n",
        "```\n",
        "\n",
        "### XGBoost DASK Overview\n",
        "\n",
        "```\n",
        "A dask cluster consists of three different components: a centralized scheduler, one or more workers, and one or more clients which act as the user-facing entry point for submitting tasks to the cluster. When using XGBoost with dask, one needs to call the XGBoost dask interface from the client side. Below is a small example which illustrates basic usage of running XGBoost on a dask cluster\n",
        "```\n",
        "\n",
        "\n",
        "\n",
        "Learn more about [XGBoost DASK](https://xgboost.readthedocs.io/en/stable/tutorials/dask.html)\n",
        "\n",
        "Learn more about [DASK](dask.org)"
      ]
    },
    {
      "cell_type": "markdown",
      "id": "4cde1aba-33bf-4680-a9d1-be78b0fd893f",
      "metadata": {
        "id": "xgboost_intro"
      },
      "source": [
        "## Introduction to XGBoost training\n",
        "\n",
        "Once you have trained a XGBoost model, you will want to save it at a Cloud Storage location, so it can subsequently be uploaded to a `Vertex AI Model` resource.\n",
        "The XGBoost package does not have support to save the model to a Cloud Storage location. Instead, you will do the following steps to save to a Cloud Storage location.\n",
        "\n",
        "1. Save the in-memory model to the local filesystem (e.g., model.bst).\n",
        "2. Use `google.cloud.storage` to copy the local copy to the specified Cloud Storage location."
      ]
    },
    {
      "cell_type": "markdown",
      "id": "f49f02b5-df08-428d-9cfd-3c24b0f71c71",
      "metadata": {
        "id": "examine_training_package:xgboost"
      },
      "source": [
        "### Examine the training package\n",
        "\n",
        "#### Package layout\n",
        "\n",
        "Before you start the training, you will look at how a Python package is assembled for a custom training job. When unarchived, the package contains the following directory/file layout.\n",
        "\n",
        "- PKG-INFO\n",
        "- README.md\n",
        "- trainer\n",
        "  - \\_\\_init\\_\\_.py\n",
        "  - task.py\n",
        "\n",
        "The file `trainer/task.py` is the Python script for executing the custom training job. *Note*, when you referred to it in the worker pool specification, you replace the directory slash with a dot (`trainer.task`) and dropped the file suffix (`.py`).\n",
        "\n",
        "#### Package Assembly\n",
        "\n",
        "In the following cells, you assemble the training package."
      ]
    },
    {
      "cell_type": "code",
      "execution_count": 14,
      "id": "66d3f21d-86c6-4df3-94f7-7563b73ee52e",
      "metadata": {
        "id": "f4wS4eISox9V"
      },
      "outputs": [],
      "source": [
        "# Make folder for Python training script\n",
        "! rm -rf custom prediction\n",
        "! mkdir custom prediction\n",
        "\n",
        "# Add package information\n",
        "! touch custom/README.md\n",
        "\n",
        "pkg_info = \"Metadata-Version: 1.0\\n\\nName: cover_type classification\\n\\nVersion: 0.0.0\\n\\nSummary: Demostration training script\\n\\nHome-page: www.google.com\\n\\nAuthor: Google\\n\\nAuthor-email: aferlitsch@google.com\\n\\nLicense: Public\\n\\nDescription: Demo\\n\\nPlatform: Vertex\"\n",
        "! echo \"$pkg_info\" > custom/PKG-INFO\n",
        "\n",
        "# Make the training subfolder\n",
        "! mkdir custom/trainer\n",
        "! touch custom/trainer/__init__.py"
      ]
    },
    {
      "cell_type": "markdown",
      "id": "44865445-381d-4fb8-b6b6-ac422e2d07a1",
      "metadata": {
        "id": "3ab4eeb45d1c"
      },
      "source": [
        "## Construct the training script with Dask + CUDA (GPU)\n",
        "\n",
        "Next, you write your custom training script to train an XGBoost model using DASK for distributed training.\n",
        "\n",
        "- `args`: Arguments passed to the training script:\n",
        "  - `dataset-source`: The Cloud Storage location of the CSV file containing the training data.\n",
        "  - `model_dir`: The Cloud Storage location to store the model artifacts.\n",
        "  - `model_name`: The file name of the model.\n",
        "  - `--num-gpu-per-worker`: For the scheduler, the number of GPUs per worker. You need to additionally set (subsequently) the accelerator_count in the `run()` method for the job to the same number of GPUs -- to be allocated.\n",
        "  - `--threads-per-worker`: For efficiency, you should set the number of threads per worker to the number of GPUs.\n",
        "- `get_scheduler_info()`: Gets VM/process scheduling related information for setting up a distributed cluster.\n",
        "- `using_quantile_device_dmatrix()`: Does the distributed training:\n",
        "  - Note `client` is the cluster controller for the distributed training.\n",
        "  - Reads the dataset in from CSV file using `dask_cudf.read_csv()`.\n",
        "  - Splits and preprocesses the dataset into train/eval.\n",
        "  - Loads dataset for distributed training using `dxgb.DaskDeviceQuantileDMatrix()`.\n",
        "  - Does distributed training using `xgb.dask.train()`\n",
        "- `saved_model()`: Saves the model and evaluation metrics to the specified Cloud Storage location."
      ]
    },
    {
      "cell_type": "code",
      "execution_count": 30,
      "id": "e89b392d-c322-49d3-b801-639097275a6a",
      "metadata": {
        "id": "ba73b24cd497"
      },
      "outputs": [
        {
          "name": "stdout",
          "output_type": "stream",
          "text": [
            "Overwriting custom/trainer/task.py\n"
          ]
        }
      ],
      "source": [
        "%%writefile custom/trainer/task.py\n",
        "\n",
        "import argparse\n",
        "import os\n",
        "import logging\n",
        "import dask_cudf\n",
        "import xgboost as xgb\n",
        "import pandas as pd\n",
        "import subprocess\n",
        "import time\n",
        "from google.cloud import storage\n",
        "\n",
        "from dask_cuda import LocalCUDACluster\n",
        "from dask.distributed import Client\n",
        "from dask.distributed import wait\n",
        "from dask import array as da\n",
        "from xgboost import dask as dxgb\n",
        "from xgboost.dask import DaskDMatrix\n",
        "from dask.utils import parse_bytes\n",
        "\n",
        "parser = argparse.ArgumentParser()\n",
        "parser.add_argument(\n",
        "    '--dataset-source', dest='dataset',\n",
        "    type=str,\n",
        "    help='Dataset.')\n",
        "parser.add_argument(\n",
        "    '--model-dir',\n",
        "    default=os.getenv('AIP_MODEL_DIR'),\n",
        "    help='GCS location to export models')\n",
        "parser.add_argument(\n",
        "    '--model-name',\n",
        "    default=\"custom-train\",\n",
        "    help='The name of your saved model')\n",
        "parser.add_argument(\n",
        "    '--num-gpu-per-worker', type=str, help='num of workers',\n",
        "    default=2)\n",
        "parser.add_argument(\n",
        "    '--threads-per-worker', type=str, help='num of threads per worker',\n",
        "    default=4)\n",
        "\n",
        "args = parser.parse_args()\n",
        "\n",
        "\n",
        "def save_model(model_dir):\n",
        "    logging.info(f\"Reading input job_dir: {model_dir}\")\n",
        "    model_dir = model_dir.split(\"/\")\n",
        "    bucket_name = model_dir[2]\n",
        "    object_prefix = \"/\".join(model_dir[3:]).rstrip(\"/\")\n",
        "    logging.info(f\"Reading object_prefix: {object_prefix}\")\n",
        "\n",
        "    if object_prefix:\n",
        "        model_path = '{}/{}'.format(object_prefix, \"xgboost\")\n",
        "    else:\n",
        "        model_path = '{}'.format(\"xgboost\")\n",
        "            \n",
        "    logging.info(f\"The model path is {model_path}\")\n",
        "    bucket = storage.Client().bucket(bucket_name)    \n",
        "    local_path = os.path.join(\"/tmp\", \"xgboost\")\n",
        "    \n",
        "    files = [f for f in os.listdir(local_path) if os.path.isfile(os.path.join(local_path, f))]\n",
        "    for file in files:\n",
        "        local_file = os.path.join(local_path, file)\n",
        "        blob = bucket.blob(\"/\".join([model_path, file]))\n",
        "        blob.upload_from_filename(local_file)\n",
        "    logging.info(local_file)\n",
        "    logging.info(f\"gs://{bucket_name}/{model_path}\")\n",
        "    logging.info(f\"Saved model files in gs://{bucket_name}/{model_path}\")\n",
        "\n",
        "        \n",
        "def using_quantile_device_dmatrix(client: Client, \n",
        "                                  dataset_source: str, \n",
        "                                  model_dir: str, \n",
        "                                  model_name: str):\n",
        "    \n",
        "    start_time = time.time()\n",
        "    logging.info(f\"Importing dataset {dataset_source}\")\n",
        "    df = dask_cudf.read_csv(dataset_source)\n",
        "\n",
        "    logging.info(\"Cleaning and standarizing dataset\")\n",
        "    df = df.dropna() \n",
        "\n",
        "    logging.info(\"Splitting dataset\")\n",
        "    df_train, df_eval = df.random_split([0.8, 0.2], random_state=123)\n",
        "    df_train_features= df_train.drop('Cover_Type', axis=1)\n",
        "    df_eval_features= df_eval.drop('Cover_Type', axis=1)\n",
        "    df_train_labels = df_train.pop('Cover_Type')\n",
        "    df_eval_labels = df_eval.pop('Cover_Type')\n",
        "\n",
        "    logging.info(\"Train Dataset for dask\")\n",
        "    dtrain = dxgb.DaskDeviceQuantileDMatrix(client, df_train_features, df_train_labels)\n",
        "    \n",
        "    logging.info(\"Eval Dataset for dask\")\n",
        "    dvalid = dxgb.DaskDeviceQuantileDMatrix(client, df_eval_features, df_eval_labels)\n",
        "    logging.info(\"[INFO]: ------ QuantileDMatrix is formed in {} seconds ---\".format((time.time() - start_time)))\n",
        "\n",
        "    del df_train_features\n",
        "    del df_train_labels\n",
        "    del df_eval_features\n",
        "    del df_eval_labels \n",
        "    \n",
        "    start_time = time.time()\n",
        "    \n",
        "    logging.info(\"Training\")\n",
        "    logging.info(f\"XGBoost version: {xgb.__version__}\")\n",
        "    output = xgb.dask.train(\n",
        "        client,\n",
        "        {\n",
        "            \"verbosity\": 2, \n",
        "            \"tree_method\": \"gpu_hist\", \n",
        "            \"objective\": \"multi:softprob\",\n",
        "            \"eval_metric\": [\"mlogloss\"],\n",
        "            \"learning_rate\": 0.1,\n",
        "            \"gamma\": 0.9,\n",
        "            \"subsample\": 0.5,\n",
        "            \"max_depth\": 9,\n",
        "            \"num_class\": 8\n",
        "        },\n",
        "        dtrain,\n",
        "        num_boost_round=10,\n",
        "        evals=[(dvalid, \"valid1\")],\n",
        "        early_stopping_rounds=5\n",
        "    ) \n",
        "    print(\"[INFO]: ------ Training is completed in {} seconds ---\".format((time.time() - start_time)))\n",
        "\n",
        "    # Saving models and exporting performance metrics\n",
        "    \n",
        "    df_eval_metrics = pd.DataFrame(output[\"history\"][\"valid1\"])\n",
        "    model = output[\"booster\"]\n",
        "    best_model = model[: model.best_iteration]\n",
        "    print(f\"Best model: {best_model}\")\n",
        "    \n",
        "    temp_dir = \"/tmp/xgboost\"\n",
        "    os.mkdir(temp_dir)\n",
        "    best_model.save_model(\"{}/{}\".format(temp_dir, model_name))\n",
        "    df_eval_metrics.to_json(\"{}/all_results.json\".format(temp_dir))\n",
        "\n",
        "    save_model(model_dir)\n",
        "        \n",
        "def get_scheduler_info():\n",
        "    scheduler_ip =  subprocess.check_output(['hostname','--all-ip-addresses'])\n",
        "    scheduler_ip = scheduler_ip.decode('UTF-8').split()[0]\n",
        "    scheduler_port = '8786'\n",
        "    scheduler_uri = '{}:{}'.format(scheduler_ip, scheduler_port)\n",
        "    return scheduler_ip, scheduler_uri\n",
        "\n",
        "if __name__ == '__main__':\n",
        "    print(\"Creating dask cluster\")\n",
        "    \n",
        "    sched_ip, sched_uri = get_scheduler_info()\n",
        "    \n",
        "    print(f\"Sched_ip and Sched_uri, {sched_ip}, {sched_uri}\")\n",
        "\n",
        "    print(\"[INFO]: ------ LocalCUDACluster is being formed \")\n",
        "    \n",
        "    with LocalCUDACluster(\n",
        "        ip=sched_ip,\n",
        "        n_workers=int(args.num_gpu_per_worker), \n",
        "        threads_per_worker=int(args.threads_per_worker) \n",
        "    ) as cluster:\n",
        "        with Client(cluster) as client:\n",
        "            print('[INFO]: ------ Calling main function ')\n",
        "            using_quantile_device_dmatrix(client, \n",
        "                                          dataset_source=args.dataset, \n",
        "                                          model_dir=args.model_dir, \n",
        "                                          model_name=args.model_name\n",
        "                                         )"
      ]
    },
    {
      "cell_type": "markdown",
      "id": "186059cb-7e97-41df-83d3-6672c123a882",
      "metadata": {
        "id": "26a173ba89d6"
      },
      "source": [
        "### Construct custom training container\n",
        "\n",
        "Next, you construct a custom (Docker) container for training a XGBoost model with GPU CUDA support. As a base image, you use an image from Rapids AI with CUDA support. You then install into the image packages for XGBoost, Google Cloud Fuse, and Cloud Storage.\n",
        "\n",
        "*Note:* Currently, Vertex AI does not support a pre-built container for XGBoost with GPU support (CPU only). "
      ]
    },
    {
      "cell_type": "code",
      "execution_count": 31,
      "id": "ad0305f5-d441-456c-806d-906dc73b7b52",
      "metadata": {
        "id": "1c8198a33c48"
      },
      "outputs": [
        {
          "name": "stdout",
          "output_type": "stream",
          "text": [
            "Overwriting custom/Dockerfile\n"
          ]
        }
      ],
      "source": [
        "%%writefile custom/Dockerfile\n",
        "\n",
        "FROM rapidsai/rapidsai-nightly:22.04-cuda11.2-base-ubuntu20.04-py3.9\n",
        "\n",
        "RUN pip install google.cloud[storage] \\\n",
        "  && pip install gcsfs \\\n",
        "  && pip install xgboost --upgrade\n",
        "\n",
        "COPY trainer trainer/\n",
        "\n",
        "ENTRYPOINT [\"python\", \"trainer/task.py\"]"
      ]
    },
    {
      "cell_type": "markdown",
      "id": "0280cedf-d1fe-481b-ba1f-68ca6c8ce209",
      "metadata": {
        "id": "gar_create_repo"
      },
      "source": [
        "## Create a private Docker repository\n",
        "\n",
        "Next, you create your own Docker repository in Google Artifact Registry.\n",
        "\n",
        "1. Run the `gcloud artifacts repositories create` command to create a new Docker repository with your region with the description \"docker repository\".\n",
        "\n",
        "2. Run the `gcloud artifacts repositories list` command to verify that your repository was created."
      ]
    },
    {
      "cell_type": "code",
      "execution_count": 32,
      "id": "5ecb75f7-db46-458f-8532-25066d32360d",
      "metadata": {
        "id": "gar_create_repo"
      },
      "outputs": [
        {
          "name": "stdout",
          "output_type": "stream",
          "text": [
            "\u001b[1;31mERROR:\u001b[0m (gcloud.artifacts.repositories.create) ALREADY_EXISTS: the repository already exists\n",
            "Listing items under project andy-1234-221921, across all locations.\n",
            "\n",
            "                                                                        ARTIFACT_REGISTRY\n",
            "REPOSITORY                              FORMAT  DESCRIPTION                     LOCATION     LABELS  ENCRYPTION          CREATE_TIME          UPDATE_TIME\n",
            "custom-preprocess-container-prediction  DOCKER                                  us-central1          Google-managed key  2022-03-11T00:47:46  2022-07-29T18:59:32\n",
            "my-docker-repo                          DOCKER  Docker repository               us-central1          Google-managed key  2022-08-05T03:10:25  2022-08-08T21:29:53\n",
            "tpu-training-repository                 DOCKER  Vertex TPU training repository  us-central1          Google-managed key  2022-02-02T21:36:53  2022-02-03T00:15:12\n",
            "trainings                               DOCKER                                  us-central1          Google-managed key  2022-08-05T15:20:55  2022-08-05T15:20:55\n",
            "triton-prediction-container             DOCKER  Triton Docker repository        us-central1          Google-managed key  2022-05-06T17:56:27  2022-05-09T20:28:35\n",
            "vertex-r                                DOCKER                                  us-central1          Google-managed key  2022-06-02T18:17:21  2022-06-02T18:28:47\n"
          ]
        }
      ],
      "source": [
        "PRIVATE_REPO = \"my-docker-repo\"\n",
        "\n",
        "! gcloud artifacts repositories create {PRIVATE_REPO} --repository-format=docker --location={REGION} --description=\"Docker repository\"\n",
        "\n",
        "! gcloud artifacts repositories list"
      ]
    },
    {
      "cell_type": "markdown",
      "id": "121e03c3-a6a0-4543-bda5-89bfaccfc396",
      "metadata": {
        "id": "gar_auth"
      },
      "source": [
        "### Configure authentication to your private repo\n",
        "\n",
        "Before you push or pull container images, configure Docker to use the `gcloud` command-line tool to authenticate requests to `Artifact Registry` for your region."
      ]
    },
    {
      "cell_type": "code",
      "execution_count": 33,
      "id": "adc51a0e-3fae-4536-9142-509e7ad63c0e",
      "metadata": {
        "id": "gar_auth"
      },
      "outputs": [
        {
          "name": "stdout",
          "output_type": "stream",
          "text": [
            "\u001b[1;33mWARNING:\u001b[0m Your config file at [/home/jupyter/.docker/config.json] contains these credential helper entries:\n",
            "\n",
            "{\n",
            "  \"credHelpers\": {\n",
            "    \"gcr.io\": \"gcloud\",\n",
            "    \"us.gcr.io\": \"gcloud\",\n",
            "    \"eu.gcr.io\": \"gcloud\",\n",
            "    \"asia.gcr.io\": \"gcloud\",\n",
            "    \"staging-k8s.gcr.io\": \"gcloud\",\n",
            "    \"marketplace.gcr.io\": \"gcloud\",\n",
            "    \"us-central1-docker.pkg.dev\": \"gcloud\"\n",
            "  }\n",
            "}\n",
            "Adding credentials for: us-central1-docker.pkg.dev\n",
            "gcloud credential helpers already registered correctly.\n"
          ]
        }
      ],
      "source": [
        "! gcloud auth configure-docker {REGION}-docker.pkg.dev --quiet"
      ]
    },
    {
      "cell_type": "markdown",
      "id": "66162a50-462b-4eb9-a0b1-76bac2b5a7aa",
      "metadata": {
        "id": "b6882c48fb15"
      },
      "source": [
        "## Build the custom training container\n",
        "\n",
        "Next, you build your custom training (Docker) image."
      ]
    },
    {
      "cell_type": "code",
      "execution_count": 34,
      "id": "c9a266b8-7f12-42aa-91b3-a79387d2a60a",
      "metadata": {
        "id": "7b0aa42672d6"
      },
      "outputs": [
        {
          "name": "stdout",
          "output_type": "stream",
          "text": [
            "Sending build context to Docker daemon  10.75kB\n",
            "Step 1/4 : FROM rapidsai/rapidsai-nightly:22.04-cuda11.2-base-ubuntu20.04-py3.9\n",
            " ---> 6f5057ed56a0\n",
            "Step 2/4 : RUN pip install google.cloud[storage]   && pip install gcsfs   && pip install xgboost --upgrade\n",
            " ---> Using cache\n",
            " ---> d0505852fede\n",
            "Step 3/4 : COPY trainer trainer/\n",
            " ---> d1181e973754\n",
            "Step 4/4 : ENTRYPOINT [\"python\", \"trainer/task.py\"]\n",
            " ---> Running in 2ed6510a8ae3\n",
            "Removing intermediate container 2ed6510a8ae3\n",
            " ---> 4e748cd92992\n",
            "Successfully built 4e748cd92992\n",
            "Successfully tagged us-central1-docker.pkg.dev/andy-1234-221921/my-docker-repo/train_gpu_xgb:latest\n",
            "The push refers to repository [us-central1-docker.pkg.dev/andy-1234-221921/my-docker-repo/train_gpu_xgb]\n",
            "\n",
            "\u001b[1B94499082: Preparing \n",
            "\u001b[1B7412b417: Preparing \n",
            "\u001b[1Bd20a3982: Preparing \n",
            "\u001b[1B177f7dba: Preparing \n",
            "\u001b[1Be2396578: Preparing \n",
            "\u001b[1B749f56f5: Preparing \n",
            "\u001b[1Ba57855d6: Preparing \n",
            "\u001b[1Beca41527: Preparing \n",
            "\u001b[1B32e4a10b: Preparing \n",
            "\u001b[1Bc89280f3: Preparing \n",
            "\u001b[1Bd1e3350d: Preparing \n",
            "\u001b[1B8e8f7e67: Preparing \n",
            "\u001b[4Bc89280f3: Layer already exists 3kB\u001b[8A\u001b[2K\u001b[3A\u001b[2K\u001b[13A\u001b[2K\u001b[4A\u001b[2Klatest: digest: sha256:650710890a012d7866da858659361c696e633b80564b15b2cdeb0dfa94cc74b7 size: 3065\n"
          ]
        }
      ],
      "source": [
        "TRAIN_IMAGE = (\n",
        "    f\"{REGION}-docker.pkg.dev/{PROJECT_ID}/{PRIVATE_REPO}/train_gpu_xgb:latest\"\n",
        ")\n",
        "\n",
        "#! gcloud builds submit -t $TRAIN_IMAGE custom/.\n",
        "\n",
        "! docker build custom -t $TRAIN_IMAGE\n",
        "#! docker tag tensorflow/serving $DEPLOY_IMAGE\n",
        "! docker push $TRAIN_IMAGE"
      ]
    },
    {
      "cell_type": "markdown",
      "id": "b6bb87a6-dd31-4694-bbd1-bcbf9ad3adea",
      "metadata": {
        "id": "98e8ddfb3ee9"
      },
      "source": [
        "## Construct the serving container using Flask.\n",
        "\n",
        "In this tutorial, the model will be served using a custom serving container. You construct the HTTP server for the health and prediction routes using Flask.\n",
        "\n",
        "*TODO: Unhardcode PROJECT_ID*"
      ]
    },
    {
      "cell_type": "code",
      "execution_count": 45,
      "id": "5a3087f0-3e36-4e56-b073-60f930cf9161",
      "metadata": {
        "id": "38de94ac40a3"
      },
      "outputs": [
        {
          "name": "stdout",
          "output_type": "stream",
          "text": [
            "Overwriting prediction/app.py\n"
          ]
        }
      ],
      "source": [
        "%%writefile prediction/app.py\n",
        "\n",
        "import os\n",
        "import logging\n",
        "import pandas as pd\n",
        "import xgboost as xgb\n",
        "from flask import Flask, request, Response, jsonify\n",
        "from google.cloud import storage\n",
        "\n",
        "#client = storage.Client(project=os.environ['PROJECT_ID'])\n",
        "client = storage.Client(project='andy-1234-221921')\n",
        "\n",
        "# Model Download from gcs\n",
        "\n",
        "fname = \"model.json\"\n",
        "\n",
        "with open(fname, \"wb\") as model:\n",
        "    client.download_blob_to_file(\n",
        "        f\"{os.environ['AIP_STORAGE_URI']}/{fname}\", model\n",
        "    )\n",
        "\n",
        "# Loading model\n",
        "print(\"Loading model from: {}\".format(fname))\n",
        "model = xgb.Booster(model_file=fname)\n",
        "\n",
        "# Creation of the Flask app\n",
        "app = Flask(__name__)\n",
        "\n",
        "# Flask route for Liveness checks\n",
        "@app.route(os.environ['AIP_HEALTH_ROUTE'])\n",
        "def isalive():\n",
        "    status_code = Response(status=200)\n",
        "    return status_code\n",
        "\n",
        "# Flask route for predictions\n",
        "@app.route(os.environ['AIP_PREDICT_ROUTE'],methods=['GET','POST'])\n",
        "def prediction():\n",
        "    _features = ['Id','Elevation', 'Aspect', 'Slope', 'Horizontal_Distance_To_Hydrology', 'Vertical_Distance_To_Hydrology', 'Horizontal_Distance_To_Roadways',\n",
        "                          'Hillshade_9am', 'Hillshade_Noon', 'Hillshade_3pm','Horizontal_Distance_To_Fire_Points', 'Wilderness_Area1', 'Wilderness_Area2', 'Wilderness_Area3', \n",
        "                          'Wilderness_Area4', 'Soil_Type1', 'Soil_Type2', 'Soil_Type3', 'Soil_Type4', 'Soil_Type5', 'Soil_Type6', 'Soil_Type7', 'Soil_Type8', 'Soil_Type9',\n",
        "                          'Soil_Type10','Soil_Type11','Soil_Type12','Soil_Type13','Soil_Type14','Soil_Type15','Soil_Type16','Soil_Type17','Soil_Type18','Soil_Type19', \n",
        "                          'Soil_Type20', 'Soil_Type21', 'Soil_Type22', 'Soil_Type23', 'Soil_Type24', 'Soil_Type25', 'Soil_Type26', 'Soil_Type27', 'Soil_Type28', 'Soil_Type29',\n",
        "                          'Soil_Type30', 'Soil_Type31', 'Soil_Type32', 'Soil_Type33', 'Soil_Type34', 'Soil_Type35', 'Soil_Type36', 'Soil_Type37', 'Soil_Type38', 'Soil_Type39', 'Soil_Type40']\n",
        "    data = request.get_json(silent=True, force=True)\n",
        "    dmf = xgb.DMatrix(pd.DataFrame(data[\"instances\"], columns=_features))\n",
        "    response = pd.DataFrame(model.predict(dmf))\n",
        "    logging.info(f\"Response: {response}\")\n",
        "    return jsonify({\"Cover Type\": str(response.idxmax(axis=1)[0])})\n",
        "\n",
        "if __name__ == \"__main__\":\n",
        "    app.run(debug=True, host='0.0.0.0', port=8080)"
      ]
    },
    {
      "cell_type": "markdown",
      "id": "ded2b9d8-164c-4ceb-9369-d21bf676f882",
      "metadata": {
        "id": "1f71690e0d59"
      },
      "source": [
        "### Construct the package requirements for your custom serving container\n",
        "\n",
        "Next, you construct the requirements file for your custom serving container."
      ]
    },
    {
      "cell_type": "code",
      "execution_count": 46,
      "id": "086026cc-fff9-454a-8608-cc413d222701",
      "metadata": {
        "id": "936121d30322"
      },
      "outputs": [
        {
          "name": "stdout",
          "output_type": "stream",
          "text": [
            "Overwriting prediction/requirements.txt\n"
          ]
        }
      ],
      "source": [
        "%%writefile prediction/requirements.txt\n",
        "\n",
        "google-cloud-storage\n",
        "numpy\n",
        "pandas\n",
        "flask\n",
        "xgboost"
      ]
    },
    {
      "cell_type": "markdown",
      "id": "583b5ca1-6cf0-4ebf-917b-d64341bf3795",
      "metadata": {
        "id": "8ac192063545"
      },
      "source": [
        "### Construct custom prediction container\n",
        "\n",
        "Next, you construct a custom (Docker) container for serving predictions from your deployed XGBoost model.\n"
      ]
    },
    {
      "cell_type": "code",
      "execution_count": 47,
      "id": "05bfdf9f-f5f8-4e6e-bb1d-ae4dc335a0b5",
      "metadata": {
        "id": "dfaa2f71def4"
      },
      "outputs": [
        {
          "name": "stdout",
          "output_type": "stream",
          "text": [
            "Overwriting prediction/Dockerfile\n"
          ]
        }
      ],
      "source": [
        "%%writefile prediction/Dockerfile\n",
        "\n",
        "FROM python:3.7-buster\n",
        "\n",
        "RUN mkdir my-model\n",
        "\n",
        "COPY app.py ./app.py\n",
        "COPY requirements.txt ./requirements.txt\n",
        "RUN pip install -r requirements.txt \n",
        "\n",
        "# Flask Env Variable\n",
        "ENV FLASK_APP=app\n",
        "\n",
        "# Expose port 8080\n",
        "EXPOSE 8080\n",
        "\n",
        "CMD flask run --host=0.0.0.0 --port=8080"
      ]
    },
    {
      "cell_type": "markdown",
      "id": "adf14377-3fa6-4dd4-a2fe-f867d0cfc02d",
      "metadata": {
        "id": "445235be1721"
      },
      "source": [
        "## Build the custom serving container\n",
        "\n",
        "Next, you build your custom prediction (Docker) image."
      ]
    },
    {
      "cell_type": "code",
      "execution_count": 48,
      "id": "d5ae5d5c-4a65-4903-b747-3dd8bf464fff",
      "metadata": {
        "id": "71f78292b55f"
      },
      "outputs": [
        {
          "name": "stdout",
          "output_type": "stream",
          "text": [
            "Sending build context to Docker daemon   7.68kB\n",
            "Step 1/8 : FROM python:3.7-buster\n",
            " ---> 1902e2432d77\n",
            "Step 2/8 : RUN mkdir my-model\n",
            " ---> Using cache\n",
            " ---> ac56a1c65a6c\n",
            "Step 3/8 : COPY app.py ./app.py\n",
            " ---> 2f9cb0c81571\n",
            "Step 4/8 : COPY requirements.txt ./requirements.txt\n",
            " ---> 114316b4750e\n",
            "Step 5/8 : RUN pip install -r requirements.txt\n",
            " ---> Running in 573bb5282aa7\n",
            "Collecting google-cloud-storage\n",
            "  Downloading google_cloud_storage-2.5.0-py2.py3-none-any.whl (106 kB)\n",
            "     ━━━━━━━━━━━━━━━━━━━━━━━━━━━━━━━━━━━━━━━ 107.0/107.0 KB 4.2 MB/s eta 0:00:00\n",
            "Collecting numpy\n",
            "  Downloading numpy-1.21.6-cp37-cp37m-manylinux_2_12_x86_64.manylinux2010_x86_64.whl (15.7 MB)\n",
            "     ━━━━━━━━━━━━━━━━━━━━━━━━━━━━━━━━━━━━━━━━ 15.7/15.7 MB 64.1 MB/s eta 0:00:00\n",
            "Collecting pandas\n",
            "  Downloading pandas-1.3.5-cp37-cp37m-manylinux_2_17_x86_64.manylinux2014_x86_64.whl (11.3 MB)\n",
            "     ━━━━━━━━━━━━━━━━━━━━━━━━━━━━━━━━━━━━━━━━ 11.3/11.3 MB 74.7 MB/s eta 0:00:00\n",
            "Collecting flask\n",
            "  Downloading Flask-2.2.1-py3-none-any.whl (101 kB)\n",
            "     ━━━━━━━━━━━━━━━━━━━━━━━━━━━━━━━━━━━━━━ 101.5/101.5 KB 15.6 MB/s eta 0:00:00\n",
            "Collecting xgboost\n",
            "  Downloading xgboost-1.6.1-py3-none-manylinux2014_x86_64.whl (192.9 MB)\n",
            "     ━━━━━━━━━━━━━━━━━━━━━━━━━━━━━━━━━━━━━━━ 192.9/192.9 MB 2.2 MB/s eta 0:00:00\n",
            "Collecting google-api-core!=2.0.*,!=2.1.*,!=2.2.*,!=2.3.0,<3.0.0dev,>=1.31.5\n",
            "  Downloading google_api_core-2.8.2-py3-none-any.whl (114 kB)\n",
            "     ━━━━━━━━━━━━━━━━━━━━━━━━━━━━━━━━━━━━━━ 114.6/114.6 KB 16.7 MB/s eta 0:00:00\n",
            "Collecting google-auth<3.0dev,>=1.25.0\n",
            "  Downloading google_auth-2.10.0-py2.py3-none-any.whl (167 kB)\n",
            "     ━━━━━━━━━━━━━━━━━━━━━━━━━━━━━━━━━━━━━━ 167.2/167.2 KB 22.3 MB/s eta 0:00:00\n",
            "Collecting requests<3.0.0dev,>=2.18.0\n",
            "  Downloading requests-2.28.1-py3-none-any.whl (62 kB)\n",
            "     ━━━━━━━━━━━━━━━━━━━━━━━━━━━━━━━━━━━━━━━━ 62.8/62.8 KB 10.3 MB/s eta 0:00:00\n",
            "Collecting google-cloud-core<3.0dev,>=2.3.0\n",
            "  Downloading google_cloud_core-2.3.2-py2.py3-none-any.whl (29 kB)\n",
            "Collecting google-resumable-media>=2.3.2\n",
            "  Downloading google_resumable_media-2.3.3-py2.py3-none-any.whl (76 kB)\n",
            "     ━━━━━━━━━━━━━━━━━━━━━━━━━━━━━━━━━━━━━━━━ 76.9/76.9 KB 12.1 MB/s eta 0:00:00\n",
            "Collecting python-dateutil>=2.7.3\n",
            "  Downloading python_dateutil-2.8.2-py2.py3-none-any.whl (247 kB)\n",
            "     ━━━━━━━━━━━━━━━━━━━━━━━━━━━━━━━━━━━━━━ 247.7/247.7 KB 31.5 MB/s eta 0:00:00\n",
            "Collecting pytz>=2017.3\n",
            "  Downloading pytz-2022.1-py2.py3-none-any.whl (503 kB)\n",
            "     ━━━━━━━━━━━━━━━━━━━━━━━━━━━━━━━━━━━━━━ 503.5/503.5 KB 42.5 MB/s eta 0:00:00\n",
            "Collecting Werkzeug>=2.2.0\n",
            "  Downloading Werkzeug-2.2.2-py3-none-any.whl (232 kB)\n",
            "     ━━━━━━━━━━━━━━━━━━━━━━━━━━━━━━━━━━━━━━ 232.7/232.7 KB 28.8 MB/s eta 0:00:00\n",
            "Collecting importlib-metadata>=3.6.0\n",
            "  Downloading importlib_metadata-4.12.0-py3-none-any.whl (21 kB)\n",
            "Collecting click>=8.0\n",
            "  Downloading click-8.1.3-py3-none-any.whl (96 kB)\n",
            "     ━━━━━━━━━━━━━━━━━━━━━━━━━━━━━━━━━━━━━━━━ 96.6/96.6 KB 15.0 MB/s eta 0:00:00\n",
            "Collecting Jinja2>=3.0\n",
            "  Downloading Jinja2-3.1.2-py3-none-any.whl (133 kB)\n",
            "     ━━━━━━━━━━━━━━━━━━━━━━━━━━━━━━━━━━━━━━ 133.1/133.1 KB 18.9 MB/s eta 0:00:00\n",
            "Collecting itsdangerous>=2.0\n",
            "  Downloading itsdangerous-2.1.2-py3-none-any.whl (15 kB)\n",
            "Collecting scipy\n",
            "  Downloading scipy-1.7.3-cp37-cp37m-manylinux_2_12_x86_64.manylinux2010_x86_64.whl (38.1 MB)\n",
            "     ━━━━━━━━━━━━━━━━━━━━━━━━━━━━━━━━━━━━━━━━ 38.1/38.1 MB 35.2 MB/s eta 0:00:00\n",
            "Collecting protobuf<5.0.0dev,>=3.15.0\n",
            "  Downloading protobuf-4.21.4-cp37-abi3-manylinux2014_x86_64.whl (408 kB)\n",
            "     ━━━━━━━━━━━━━━━━━━━━━━━━━━━━━━━━━━━━━━ 408.4/408.4 KB 40.9 MB/s eta 0:00:00\n",
            "Collecting googleapis-common-protos<2.0dev,>=1.56.2\n",
            "  Downloading googleapis_common_protos-1.56.4-py2.py3-none-any.whl (211 kB)\n",
            "     ━━━━━━━━━━━━━━━━━━━━━━━━━━━━━━━━━━━━━━ 211.7/211.7 KB 29.5 MB/s eta 0:00:00\n",
            "Collecting cachetools<6.0,>=2.0.0\n",
            "  Downloading cachetools-5.2.0-py3-none-any.whl (9.3 kB)\n",
            "Collecting pyasn1-modules>=0.2.1\n",
            "  Downloading pyasn1_modules-0.2.8-py2.py3-none-any.whl (155 kB)\n",
            "     ━━━━━━━━━━━━━━━━━━━━━━━━━━━━━━━━━━━━━━ 155.3/155.3 KB 23.8 MB/s eta 0:00:00\n",
            "Collecting rsa<5,>=3.1.4\n",
            "  Downloading rsa-4.9-py3-none-any.whl (34 kB)\n",
            "Collecting six>=1.9.0\n",
            "  Downloading six-1.16.0-py2.py3-none-any.whl (11 kB)\n",
            "Collecting google-crc32c<2.0dev,>=1.0\n",
            "  Downloading google_crc32c-1.3.0-cp37-cp37m-manylinux_2_12_x86_64.manylinux2010_x86_64.whl (38 kB)\n",
            "Collecting typing-extensions>=3.6.4\n",
            "  Downloading typing_extensions-4.3.0-py3-none-any.whl (25 kB)\n",
            "Collecting zipp>=0.5\n",
            "  Downloading zipp-3.8.1-py3-none-any.whl (5.6 kB)\n",
            "Collecting MarkupSafe>=2.0\n",
            "  Downloading MarkupSafe-2.1.1-cp37-cp37m-manylinux_2_17_x86_64.manylinux2014_x86_64.whl (25 kB)\n",
            "Collecting urllib3<1.27,>=1.21.1\n",
            "  Downloading urllib3-1.26.11-py2.py3-none-any.whl (139 kB)\n",
            "     ━━━━━━━━━━━━━━━━━━━━━━━━━━━━━━━━━━━━━━ 139.9/139.9 KB 19.6 MB/s eta 0:00:00\n",
            "Collecting certifi>=2017.4.17\n",
            "  Downloading certifi-2022.6.15-py3-none-any.whl (160 kB)\n",
            "     ━━━━━━━━━━━━━━━━━━━━━━━━━━━━━━━━━━━━━━ 160.2/160.2 KB 25.0 MB/s eta 0:00:00\n",
            "Collecting charset-normalizer<3,>=2\n",
            "  Downloading charset_normalizer-2.1.0-py3-none-any.whl (39 kB)\n",
            "Collecting idna<4,>=2.5\n",
            "  Downloading idna-3.3-py3-none-any.whl (61 kB)\n",
            "     ━━━━━━━━━━━━━━━━━━━━━━━━━━━━━━━━━━━━━━━━ 61.2/61.2 KB 11.4 MB/s eta 0:00:00\n",
            "Collecting pyasn1<0.5.0,>=0.4.6\n",
            "  Downloading pyasn1-0.4.8-py2.py3-none-any.whl (77 kB)\n",
            "     ━━━━━━━━━━━━━━━━━━━━━━━━━━━━━━━━━━━━━━━━ 77.1/77.1 KB 12.6 MB/s eta 0:00:00\n",
            "Installing collected packages: pytz, pyasn1, zipp, urllib3, typing-extensions, six, rsa, pyasn1-modules, protobuf, numpy, MarkupSafe, itsdangerous, idna, google-crc32c, charset-normalizer, certifi, cachetools, Werkzeug, scipy, requests, python-dateutil, Jinja2, importlib-metadata, googleapis-common-protos, google-resumable-media, google-auth, xgboost, pandas, google-api-core, click, google-cloud-core, flask, google-cloud-storage\n",
            "Successfully installed Jinja2-3.1.2 MarkupSafe-2.1.1 Werkzeug-2.2.2 cachetools-5.2.0 certifi-2022.6.15 charset-normalizer-2.1.0 click-8.1.3 flask-2.2.1 google-api-core-2.8.2 google-auth-2.10.0 google-cloud-core-2.3.2 google-cloud-storage-2.5.0 google-crc32c-1.3.0 google-resumable-media-2.3.3 googleapis-common-protos-1.56.4 idna-3.3 importlib-metadata-4.12.0 itsdangerous-2.1.2 numpy-1.21.6 pandas-1.3.5 protobuf-4.21.4 pyasn1-0.4.8 pyasn1-modules-0.2.8 python-dateutil-2.8.2 pytz-2022.1 requests-2.28.1 rsa-4.9 scipy-1.7.3 six-1.16.0 typing-extensions-4.3.0 urllib3-1.26.11 xgboost-1.6.1 zipp-3.8.1\n",
            "\u001b[91mWARNING: Running pip as the 'root' user can result in broken permissions and conflicting behaviour with the system package manager. It is recommended to use a virtual environment instead: https://pip.pypa.io/warnings/venv\n",
            "\u001b[0m\u001b[91mWARNING: You are using pip version 22.0.4; however, version 22.2.2 is available.\n",
            "You should consider upgrading via the '/usr/local/bin/python -m pip install --upgrade pip' command.\n",
            "\u001b[0mRemoving intermediate container 573bb5282aa7\n",
            " ---> c213ba2f7509\n",
            "Step 6/8 : ENV FLASK_APP=app\n",
            " ---> Running in 9796d6d44a0e\n",
            "Removing intermediate container 9796d6d44a0e\n",
            " ---> b47113982c75\n",
            "Step 7/8 : EXPOSE 8080\n",
            " ---> Running in ee3657a21cfb\n",
            "Removing intermediate container ee3657a21cfb\n",
            " ---> c6f15e85e42d\n",
            "Step 8/8 : CMD flask run --host=0.0.0.0 --port=8080\n",
            " ---> Running in be7799c7d288\n",
            "Removing intermediate container be7799c7d288\n",
            " ---> 8aa620ffb1b0\n",
            "Successfully built 8aa620ffb1b0\n",
            "Successfully tagged us-central1-docker.pkg.dev/andy-1234-221921/my-docker-repo/predict_gpu_xgb:latest\n",
            "The push refers to repository [us-central1-docker.pkg.dev/andy-1234-221921/my-docker-repo/predict_gpu_xgb]\n",
            "\n",
            "\u001b[1B7e57d5a4: Preparing \n",
            "\u001b[1B761c5e40: Preparing \n",
            "\u001b[1B70eafacb: Preparing \n",
            "\u001b[1B9de949be: Preparing \n",
            "\u001b[1Ba8577818: Preparing \n",
            "\u001b[1Bae58a42a: Preparing \n",
            "\u001b[1Bed3cf4db: Preparing \n",
            "\u001b[1B86d6d73d: Preparing \n",
            "\u001b[1Bee259bc5: Preparing \n",
            "\u001b[1Bfe198f83: Preparing \n",
            "\u001b[1Bc4b93150: Preparing \n",
            "\u001b[7Bae58a42a: Waiting g \n",
            "\u001b[13Be57d5a4: Pushed   801.7MB/794.3MB\u001b[13A\u001b[2K\u001b[5A\u001b[2K\u001b[13A\u001b[2K\u001b[1A\u001b[2K\u001b[2A\u001b[2K\u001b[11A\u001b[2K\u001b[13A\u001b[2K\u001b[13A\u001b[2K\u001b[13A\u001b[2K\u001b[13A\u001b[2K\u001b[13A\u001b[2K\u001b[13A\u001b[2K\u001b[13A\u001b[2K\u001b[13A\u001b[2K\u001b[13A\u001b[2K\u001b[13A\u001b[2K\u001b[13A\u001b[2K\u001b[13A\u001b[2K\u001b[13A\u001b[2K\u001b[13A\u001b[2K\u001b[13A\u001b[2K\u001b[13A\u001b[2K\u001b[13A\u001b[2K\u001b[13A\u001b[2K\u001b[13A\u001b[2K\u001b[13A\u001b[2K\u001b[13A\u001b[2K\u001b[13A\u001b[2K\u001b[13A\u001b[2K\u001b[13A\u001b[2K\u001b[13A\u001b[2K\u001b[13A\u001b[2K\u001b[13A\u001b[2K\u001b[13A\u001b[2K\u001b[13A\u001b[2K\u001b[13A\u001b[2K\u001b[13A\u001b[2K\u001b[13A\u001b[2K\u001b[13A\u001b[2K\u001b[13A\u001b[2K\u001b[13A\u001b[2K\u001b[13A\u001b[2K\u001b[13A\u001b[2K\u001b[13A\u001b[2K\u001b[13A\u001b[2K\u001b[13A\u001b[2K\u001b[13A\u001b[2K\u001b[13A\u001b[2K\u001b[13A\u001b[2K\u001b[13A\u001b[2K\u001b[13A\u001b[2K\u001b[13A\u001b[2K\u001b[13A\u001b[2K\u001b[13A\u001b[2K\u001b[13A\u001b[2K\u001b[13A\u001b[2K\u001b[13A\u001b[2K\u001b[13A\u001b[2K\u001b[13A\u001b[2K\u001b[13A\u001b[2K\u001b[13A\u001b[2K\u001b[13A\u001b[2K\u001b[13A\u001b[2K\u001b[13A\u001b[2K\u001b[13A\u001b[2K\u001b[13A\u001b[2K\u001b[13A\u001b[2K\u001b[13A\u001b[2K\u001b[13A\u001b[2K\u001b[13A\u001b[2K\u001b[13A\u001b[2K\u001b[13A\u001b[2K\u001b[13A\u001b[2K\u001b[13A\u001b[2K\u001b[13A\u001b[2K\u001b[13A\u001b[2K\u001b[13A\u001b[2K\u001b[13A\u001b[2K\u001b[13A\u001b[2K\u001b[13A\u001b[2K\u001b[13A\u001b[2K\u001b[13A\u001b[2K\u001b[13A\u001b[2K\u001b[13A\u001b[2K\u001b[13A\u001b[2K\u001b[13A\u001b[2K\u001b[13A\u001b[2K\u001b[13A\u001b[2K\u001b[13A\u001b[2K\u001b[13A\u001b[2K\u001b[13A\u001b[2K\u001b[13A\u001b[2K\u001b[13A\u001b[2K\u001b[13A\u001b[2K\u001b[13A\u001b[2K\u001b[13A\u001b[2K\u001b[13A\u001b[2K\u001b[13A\u001b[2K\u001b[13A\u001b[2K\u001b[13A\u001b[2K\u001b[13A\u001b[2K\u001b[13A\u001b[2K\u001b[13A\u001b[2K\u001b[13A\u001b[2K\u001b[13A\u001b[2K\u001b[13A\u001b[2K\u001b[13A\u001b[2K\u001b[13A\u001b[2K\u001b[13A\u001b[2K\u001b[13A\u001b[2K\u001b[13A\u001b[2K\u001b[13A\u001b[2K\u001b[13A\u001b[2K\u001b[13A\u001b[2K\u001b[13A\u001b[2K\u001b[13A\u001b[2K\u001b[13A\u001b[2K\u001b[13A\u001b[2K\u001b[13A\u001b[2K\u001b[13A\u001b[2K\u001b[13A\u001b[2K\u001b[13A\u001b[2K\u001b[13A\u001b[2K\u001b[13A\u001b[2K\u001b[13A\u001b[2K\u001b[13A\u001b[2K\u001b[13A\u001b[2K\u001b[13A\u001b[2K\u001b[13A\u001b[2K\u001b[13A\u001b[2K\u001b[13A\u001b[2K\u001b[13A\u001b[2K\u001b[13A\u001b[2K\u001b[13A\u001b[2K\u001b[13A\u001b[2K\u001b[13A\u001b[2K\u001b[13A\u001b[2K\u001b[13A\u001b[2K\u001b[13A\u001b[2K\u001b[13A\u001b[2K\u001b[13A\u001b[2K\u001b[13A\u001b[2K\u001b[13A\u001b[2K\u001b[13A\u001b[2K\u001b[13A\u001b[2K\u001b[13A\u001b[2K\u001b[13A\u001b[2K\u001b[13A\u001b[2K\u001b[13A\u001b[2K\u001b[13A\u001b[2K\u001b[13A\u001b[2K\u001b[13A\u001b[2K\u001b[13A\u001b[2K\u001b[13A\u001b[2K\u001b[13A\u001b[2K\u001b[13A\u001b[2K\u001b[13A\u001b[2K\u001b[13A\u001b[2K\u001b[13A\u001b[2K\u001b[13A\u001b[2K\u001b[13A\u001b[2K\u001b[13A\u001b[2K\u001b[13A\u001b[2K\u001b[13A\u001b[2K\u001b[13A\u001b[2K\u001b[13A\u001b[2K\u001b[13A\u001b[2K\u001b[13A\u001b[2K\u001b[13A\u001b[2K\u001b[13A\u001b[2K\u001b[13A\u001b[2K\u001b[13A\u001b[2K\u001b[13A\u001b[2K\u001b[13A\u001b[2K\u001b[13A\u001b[2K\u001b[13A\u001b[2K\u001b[13A\u001b[2K\u001b[13A\u001b[2K\u001b[13A\u001b[2K\u001b[13A\u001b[2K\u001b[13A\u001b[2K\u001b[13A\u001b[2K\u001b[13A\u001b[2K\u001b[13A\u001b[2K\u001b[13A\u001b[2K\u001b[13A\u001b[2K\u001b[13A\u001b[2K\u001b[13A\u001b[2K\u001b[13A\u001b[2K\u001b[13A\u001b[2K\u001b[13A\u001b[2K\u001b[13A\u001b[2K\u001b[13A\u001b[2K\u001b[13A\u001b[2K\u001b[13A\u001b[2K\u001b[13A\u001b[2K\u001b[13A\u001b[2K\u001b[13A\u001b[2K\u001b[13A\u001b[2K\u001b[13A\u001b[2K\u001b[13A\u001b[2K\u001b[13A\u001b[2K\u001b[13A\u001b[2K\u001b[13A\u001b[2K\u001b[13A\u001b[2K\u001b[13A\u001b[2K\u001b[13A\u001b[2K\u001b[13A\u001b[2K\u001b[13A\u001b[2K\u001b[13A\u001b[2K\u001b[13A\u001b[2K\u001b[13A\u001b[2K\u001b[13A\u001b[2K\u001b[13A\u001b[2K\u001b[13A\u001b[2K\u001b[13A\u001b[2K\u001b[13A\u001b[2K\u001b[13A\u001b[2K\u001b[13A\u001b[2K\u001b[13A\u001b[2K\u001b[13A\u001b[2K\u001b[13A\u001b[2K\u001b[13A\u001b[2K\u001b[13A\u001b[2K\u001b[13A\u001b[2K\u001b[13A\u001b[2K\u001b[13A\u001b[2K\u001b[13A\u001b[2K\u001b[13A\u001b[2K\u001b[13A\u001b[2K\u001b[13A\u001b[2K\u001b[13A\u001b[2K\u001b[13A\u001b[2K\u001b[13A\u001b[2K\u001b[13A\u001b[2K\u001b[13A\u001b[2K\u001b[13A\u001b[2K\u001b[13A\u001b[2K\u001b[13A\u001b[2K\u001b[13A\u001b[2K\u001b[13A\u001b[2K\u001b[13A\u001b[2K\u001b[13A\u001b[2K\u001b[13A\u001b[2K\u001b[13A\u001b[2K\u001b[13A\u001b[2K\u001b[13A\u001b[2K\u001b[13A\u001b[2K\u001b[13A\u001b[2K\u001b[13A\u001b[2K\u001b[13A\u001b[2K\u001b[13A\u001b[2K\u001b[13A\u001b[2K\u001b[13A\u001b[2K\u001b[13A\u001b[2K\u001b[13A\u001b[2K\u001b[13A\u001b[2K\u001b[13A\u001b[2K\u001b[13A\u001b[2K\u001b[13A\u001b[2K\u001b[13A\u001b[2K\u001b[13A\u001b[2K\u001b[13A\u001b[2K\u001b[13A\u001b[2K\u001b[13A\u001b[2K\u001b[13A\u001b[2K\u001b[13A\u001b[2K\u001b[13A\u001b[2K\u001b[13A\u001b[2K\u001b[13A\u001b[2K\u001b[13A\u001b[2K\u001b[13A\u001b[2K\u001b[13A\u001b[2K\u001b[13A\u001b[2K\u001b[13A\u001b[2K\u001b[13A\u001b[2K\u001b[13A\u001b[2K\u001b[13A\u001b[2K\u001b[13A\u001b[2K\u001b[13A\u001b[2K\u001b[13A\u001b[2K\u001b[13A\u001b[2K\u001b[13A\u001b[2K\u001b[13A\u001b[2K\u001b[13A\u001b[2K\u001b[13A\u001b[2K\u001b[13A\u001b[2K\u001b[13A\u001b[2K\u001b[13A\u001b[2K\u001b[13A\u001b[2K\u001b[13A\u001b[2K\u001b[13A\u001b[2K\u001b[13A\u001b[2K\u001b[13A\u001b[2K\u001b[13A\u001b[2K\u001b[13A\u001b[2K\u001b[13A\u001b[2K\u001b[13A\u001b[2K\u001b[13A\u001b[2K\u001b[13A\u001b[2K\u001b[13A\u001b[2K\u001b[13A\u001b[2K\u001b[13A\u001b[2K\u001b[13A\u001b[2K\u001b[13A\u001b[2K\u001b[13A\u001b[2K\u001b[13A\u001b[2K\u001b[13A\u001b[2K\u001b[13A\u001b[2K\u001b[13A\u001b[2K\u001b[13A\u001b[2K\u001b[13A\u001b[2K\u001b[13A\u001b[2K\u001b[13A\u001b[2K\u001b[13A\u001b[2K\u001b[13A\u001b[2K\u001b[13A\u001b[2K\u001b[13A\u001b[2K\u001b[13A\u001b[2K\u001b[13A\u001b[2K\u001b[13A\u001b[2K\u001b[13A\u001b[2K\u001b[13A\u001b[2K\u001b[13A\u001b[2K\u001b[13A\u001b[2K\u001b[13A\u001b[2K\u001b[13A\u001b[2K\u001b[13A\u001b[2K\u001b[13A\u001b[2K\u001b[13A\u001b[2K\u001b[13A\u001b[2K\u001b[13A\u001b[2K\u001b[13A\u001b[2K\u001b[13A\u001b[2K\u001b[13A\u001b[2K\u001b[13A\u001b[2K\u001b[13A\u001b[2K\u001b[13A\u001b[2K\u001b[13A\u001b[2K\u001b[13A\u001b[2K\u001b[13A\u001b[2K\u001b[13A\u001b[2K\u001b[13A\u001b[2K\u001b[13A\u001b[2K\u001b[13A\u001b[2K\u001b[13A\u001b[2K\u001b[13A\u001b[2K\u001b[13A\u001b[2K\u001b[13A\u001b[2K\u001b[13A\u001b[2K\u001b[13A\u001b[2K\u001b[13A\u001b[2K\u001b[13A\u001b[2K\u001b[13A\u001b[2K\u001b[13A\u001b[2K\u001b[13A\u001b[2K\u001b[13A\u001b[2Klatest: digest: sha256:745c115777a05cf224d0165217ee014f33b2a8022c0ae2b04518c2a91bd55a89 size: 3053\n"
          ]
        }
      ],
      "source": [
        "DEPLOY_IMAGE = (\n",
        "    f\"{REGION}-docker.pkg.dev/{PROJECT_ID}/{PRIVATE_REPO}/predict_gpu_xgb:latest\"\n",
        ")\n",
        "\n",
        "! docker build prediction -t $DEPLOY_IMAGE\n",
        "! docker push $DEPLOY_IMAGE"
      ]
    },
    {
      "cell_type": "markdown",
      "id": "d296fbdc-86fe-4b9e-be31-7728049378e3",
      "metadata": {
        "id": "tarball_training_script"
      },
      "source": [
        "#### Store training script on your Cloud Storage bucket\n",
        "\n",
        "Next, you package the training folder into a compressed tar ball, and then store it in your Cloud Storage bucket."
      ]
    },
    {
      "cell_type": "code",
      "execution_count": 49,
      "id": "06093789-ac1a-4cce-b8dc-0a72bc18728c",
      "metadata": {
        "id": "dnmdycf6ox9X"
      },
      "outputs": [
        {
          "name": "stdout",
          "output_type": "stream",
          "text": [
            "custom/\n",
            "custom/PKG-INFO\n",
            "custom/Dockerfile\n",
            "custom/README.md\n",
            "custom/trainer/\n",
            "custom/trainer/task.py\n",
            "custom/trainer/__init__.py\n",
            "Copying file://custom.tar.gz [Content-Type=application/x-tar]...\n",
            "/ [1 files][  2.5 KiB/  2.5 KiB]                                                \n",
            "Operation completed over 1 objects/2.5 KiB.                                      \n"
          ]
        }
      ],
      "source": [
        "! rm -f custom.tar custom.tar.gz\n",
        "! tar cvf custom.tar custom\n",
        "! gzip custom.tar\n",
        "! gsutil cp custom.tar.gz $BUCKET_URI/trainer_covertype.tar.gz"
      ]
    },
    {
      "cell_type": "markdown",
      "id": "f6bf3c60-5b4e-44d5-853c-bcaaaa3af4e6",
      "metadata": {
        "id": "create_custom_pp_training_job:mbsdk"
      },
      "source": [
        "### Create and run custom training job\n",
        "\n",
        "\n",
        "To train a custom model, you perform two steps: 1) create a custom training job, and 2) run the job.\n",
        "\n",
        "#### Create custom training job\n",
        "\n",
        "A custom training job is created with the `CustomTrainingJob` class, with the following parameters:\n",
        "\n",
        "- `display_name`: The human readable name for the custom training job.\n",
        "- `container_uri`: The training container image.\n",
        "\n",
        "- `command`: The command (e.g., interpreter) and script to invokee within the container.\n",
        "\n",
        "- `model_serving_container_image_uri`: The corresponding serving container to be used with the model when it is deployed.\n",
        "\n",
        "*Note:* The interpreter and script to invoke is overridable within the container (i.e., ENTRYPOINT)."
      ]
    },
    {
      "cell_type": "code",
      "execution_count": 50,
      "id": "126598e2-2fd3-496e-b627-3b15ba06c1b4",
      "metadata": {
        "id": "rVEMz1xqox9X"
      },
      "outputs": [],
      "source": [
        "DISPLAY_NAME = \"covertype_\" + TIMESTAMP\n",
        "\n",
        "job = aiplatform.CustomContainerTrainingJob(\n",
        "    display_name=\"DISPLAY_NAME\",\n",
        "    container_uri=TRAIN_IMAGE,\n",
        "    command=[\"python3\", \"trainer/task.py\"],\n",
        "    model_serving_container_image_uri=DEPLOY_IMAGE,\n",
        ")"
      ]
    },
    {
      "cell_type": "markdown",
      "id": "24317cee-d9a0-446c-9cf9-2a6b4851991f",
      "metadata": {
        "id": "run_custom_container_training_job:no_model"
      },
      "source": [
        "#### Run the custom container training job\n",
        "\n",
        "Next, you run the custom job to start the training job by invoking the method `run()`, with the following parameters:\n",
        "\n",
        "- `model_display_name`: When the training job is completed, the model artifacts will be automatically uploaded as a `Vertex AI Model` resource, with the specified display name.\n",
        "- `args`: The command line arguments to pass to the training script:\n",
        "    - `dataset-source`: The Cloud Storage location to the CSV dataset file.\n",
        "    - `model-name`: The file name for the model artifacts.\n",
        "    - `num-gpu-per-worker`: The number of GPUs per VM instance (worker).\n",
        "    - `threads-per-worker`: The number of training process threads per VM instances.\n",
        "- `replica_count`: The number of VM instances.\n",
        "- `machine_type`: The machine type per VM instance.\n",
        "- `accelerator_type`: The type of GPU, if any.\n",
        "- `accelerator_count`: The number of GPUs per VM instance, if any.\n",
        "- `base_output_dir`: The Cloud Storage location to save the model artifacts to."
      ]
    },
    {
      "cell_type": "code",
      "execution_count": 51,
      "id": "f4afcc50-67e3-41fd-8b4d-c99bec8ca6a7",
      "metadata": {
        "id": "5eaec67248bf"
      },
      "outputs": [
        {
          "name": "stdout",
          "output_type": "stream",
          "text": [
            "Training Output directory:\n",
            "gs://andy-1234-221921aip-20220808183359 \n",
            "View Training:\n",
            "https://console.cloud.google.com/ai/platform/locations/us-central1/training/5005831525049040896?project=759209241365\n",
            "CustomContainerTrainingJob projects/759209241365/locations/us-central1/trainingPipelines/5005831525049040896 current state:\n",
            "PipelineState.PIPELINE_STATE_RUNNING\n",
            "View backing custom job:\n",
            "https://console.cloud.google.com/ai/platform/locations/us-central1/training/3811682732447105024?project=759209241365\n",
            "CustomContainerTrainingJob projects/759209241365/locations/us-central1/trainingPipelines/5005831525049040896 current state:\n",
            "PipelineState.PIPELINE_STATE_RUNNING\n",
            "CustomContainerTrainingJob projects/759209241365/locations/us-central1/trainingPipelines/5005831525049040896 current state:\n",
            "PipelineState.PIPELINE_STATE_RUNNING\n",
            "CustomContainerTrainingJob projects/759209241365/locations/us-central1/trainingPipelines/5005831525049040896 current state:\n",
            "PipelineState.PIPELINE_STATE_RUNNING\n",
            "CustomContainerTrainingJob projects/759209241365/locations/us-central1/trainingPipelines/5005831525049040896 current state:\n",
            "PipelineState.PIPELINE_STATE_RUNNING\n",
            "CustomContainerTrainingJob projects/759209241365/locations/us-central1/trainingPipelines/5005831525049040896 current state:\n",
            "PipelineState.PIPELINE_STATE_RUNNING\n",
            "CustomContainerTrainingJob run completed. Resource name: projects/759209241365/locations/us-central1/trainingPipelines/5005831525049040896\n",
            "Model available at projects/759209241365/locations/us-central1/models/3452901917821239296\n"
          ]
        }
      ],
      "source": [
        "DATASET_FILE = \"gs://vtx-datasets-public/cover_type_4Mrows.csv\"\n",
        "\n",
        "MODEL_DIR = f\"{BUCKET_URI}\"\n",
        "\n",
        "NGPU = 4\n",
        "\n",
        "CMDARGS = [\n",
        "    \"--dataset-source\",\n",
        "    DATASET_FILE,\n",
        "    \"--model-name\",\n",
        "    \"model.json\",\n",
        "    \"--num-gpu-per-worker\",\n",
        "    str(NGPU),\n",
        "    \"--threads-per-worker\",\n",
        "    \"4\",\n",
        "]\n",
        "\n",
        "model = job.run(\n",
        "    model_display_name=\"covertype_\" + TIMESTAMP,\n",
        "    args=CMDARGS,\n",
        "    replica_count=1,\n",
        "    machine_type=\"n1-standard-4\",\n",
        "    accelerator_type=\"NVIDIA_TESLA_T4\",\n",
        "    accelerator_count=NGPU,\n",
        "    base_output_dir=MODEL_DIR,\n",
        ")"
      ]
    },
    {
      "cell_type": "markdown",
      "id": "6f9a94d1-516e-427b-904f-bfd9341abfbd",
      "metadata": {
        "id": "delete_job"
      },
      "source": [
        "### Delete a custom training job\n",
        "\n",
        "After a training job is completed, you can delete the training job with the method `delete()`.  Prior to completion, a training job can be canceled with the method `cancel()`."
      ]
    },
    {
      "cell_type": "code",
      "execution_count": 52,
      "id": "ebd8195b-dc76-4353-9e3f-1b539bcbfd81",
      "metadata": {
        "id": "delete_job"
      },
      "outputs": [
        {
          "name": "stdout",
          "output_type": "stream",
          "text": [
            "Deleting CustomContainerTrainingJob : projects/759209241365/locations/us-central1/trainingPipelines/5005831525049040896\n",
            "Delete CustomContainerTrainingJob  backing LRO: projects/759209241365/locations/us-central1/operations/2495575079300104192\n",
            "CustomContainerTrainingJob deleted. . Resource name: projects/759209241365/locations/us-central1/trainingPipelines/5005831525049040896\n"
          ]
        }
      ],
      "source": [
        "job.delete()"
      ]
    },
    {
      "cell_type": "markdown",
      "id": "9240927b-08b8-43a6-83ab-b8515f16aee3",
      "metadata": {
        "id": "8c9e104ae3ac"
      },
      "source": [
        "#### Display location of saved model artifacts\n",
        "\n",
        "Next, you display the contents of the Cloud Storage location where your training script saved the trained model artifacts."
      ]
    },
    {
      "cell_type": "code",
      "execution_count": 58,
      "id": "baff56c3-78bf-4f7a-8950-e9f9bb81af49",
      "metadata": {
        "id": "88cf7be4cd4e"
      },
      "outputs": [
        {
          "name": "stdout",
          "output_type": "stream",
          "text": [
            "gs://andy-1234-221921aip-20220808183359/model/xgboost/all_results.json\n",
            "gs://andy-1234-221921aip-20220808183359/model/xgboost/model.json\n"
          ]
        }
      ],
      "source": [
        "! gsutil ls {MODEL_DIR}/model"
      ]
    },
    {
      "cell_type": "markdown",
      "id": "87e6dcc1-3af0-47ff-886e-f0f031d03e5a",
      "metadata": {
        "id": "92c9a5641b60"
      },
      "source": [
        "### Deploy the model\n",
        "\n",
        "Next, you deploy your XGBoost model + serving container to a `Vertex AI Endpoint` resource using the `deploy()` method."
      ]
    },
    {
      "cell_type": "code",
      "execution_count": 54,
      "id": "99e9e448-a169-44d0-b49e-f5e745da9e05",
      "metadata": {
        "id": "4082d39f001b"
      },
      "outputs": [
        {
          "name": "stdout",
          "output_type": "stream",
          "text": [
            "Creating Endpoint\n",
            "Create Endpoint backing LRO: projects/759209241365/locations/us-central1/endpoints/3938177971809943552/operations/3392917305053675520\n",
            "Endpoint created. Resource name: projects/759209241365/locations/us-central1/endpoints/3938177971809943552\n",
            "To use this Endpoint in another session:\n",
            "endpoint = aiplatform.Endpoint('projects/759209241365/locations/us-central1/endpoints/3938177971809943552')\n",
            "Deploying model to Endpoint : projects/759209241365/locations/us-central1/endpoints/3938177971809943552\n",
            "Deploy Endpoint model backing LRO: projects/759209241365/locations/us-central1/endpoints/3938177971809943552/operations/6600606139648311296\n"
          ]
        },
        {
          "ename": "FailedPrecondition",
          "evalue": "400 Model server terminated: model server container terminated: exit_code: \t 1\nreason: \"Error\"\nstarted_at {\n  seconds: 1659999294\n}\nfinished_at {\n  seconds: 1659999295\n}\n. Model server logs can be found at https://console.cloud.google.com/logs/viewer?project=759209241365&resource=aiplatform.googleapis.com%252FEndpoint&advancedFilter=resource.type%3D%22aiplatform.googleapis.com%2FEndpoint%22%0Aresource.labels.endpoint_id%3D%223938177971809943552%22%0Aresource.labels.location%3D%22us-central1%22.",
          "output_type": "error",
          "traceback": [
            "\u001b[0;31m---------------------------------------------------------------------------\u001b[0m",
            "\u001b[0;31mFailedPrecondition\u001b[0m                        Traceback (most recent call last)",
            "\u001b[0;32m/tmp/ipykernel_4630/1380091961.py\u001b[0m in \u001b[0;36m<module>\u001b[0;34m\u001b[0m\n\u001b[1;32m      1\u001b[0m endpoint = model.deploy(\n\u001b[0;32m----> 2\u001b[0;31m     \u001b[0mmachine_type\u001b[0m\u001b[0;34m=\u001b[0m\u001b[0;34m\"n1-standard-4\"\u001b[0m\u001b[0;34m\u001b[0m\u001b[0;34m\u001b[0m\u001b[0m\n\u001b[0m\u001b[1;32m      3\u001b[0m )\n",
            "\u001b[0;32m~/.local/lib/python3.7/site-packages/google/cloud/aiplatform/models.py\u001b[0m in \u001b[0;36mdeploy\u001b[0;34m(self, endpoint, deployed_model_display_name, traffic_percentage, traffic_split, machine_type, min_replica_count, max_replica_count, accelerator_type, accelerator_count, service_account, explanation_metadata, explanation_parameters, metadata, encryption_spec_key_name, network, sync, deploy_request_timeout, autoscaling_target_cpu_utilization, autoscaling_target_accelerator_duty_cycle)\u001b[0m\n\u001b[1;32m   3219\u001b[0m             \u001b[0mdeploy_request_timeout\u001b[0m\u001b[0;34m=\u001b[0m\u001b[0mdeploy_request_timeout\u001b[0m\u001b[0;34m,\u001b[0m\u001b[0;34m\u001b[0m\u001b[0;34m\u001b[0m\u001b[0m\n\u001b[1;32m   3220\u001b[0m             \u001b[0mautoscaling_target_cpu_utilization\u001b[0m\u001b[0;34m=\u001b[0m\u001b[0mautoscaling_target_cpu_utilization\u001b[0m\u001b[0;34m,\u001b[0m\u001b[0;34m\u001b[0m\u001b[0;34m\u001b[0m\u001b[0m\n\u001b[0;32m-> 3221\u001b[0;31m             \u001b[0mautoscaling_target_accelerator_duty_cycle\u001b[0m\u001b[0;34m=\u001b[0m\u001b[0mautoscaling_target_accelerator_duty_cycle\u001b[0m\u001b[0;34m,\u001b[0m\u001b[0;34m\u001b[0m\u001b[0;34m\u001b[0m\u001b[0m\n\u001b[0m\u001b[1;32m   3222\u001b[0m         )\n\u001b[1;32m   3223\u001b[0m \u001b[0;34m\u001b[0m\u001b[0m\n",
            "\u001b[0;32m~/.local/lib/python3.7/site-packages/google/cloud/aiplatform/base.py\u001b[0m in \u001b[0;36mwrapper\u001b[0;34m(*args, **kwargs)\u001b[0m\n\u001b[1;32m    791\u001b[0m                 \u001b[0;32mif\u001b[0m \u001b[0mself\u001b[0m\u001b[0;34m:\u001b[0m\u001b[0;34m\u001b[0m\u001b[0;34m\u001b[0m\u001b[0m\n\u001b[1;32m    792\u001b[0m                     \u001b[0mVertexAiResourceNounWithFutureManager\u001b[0m\u001b[0;34m.\u001b[0m\u001b[0mwait\u001b[0m\u001b[0;34m(\u001b[0m\u001b[0mself\u001b[0m\u001b[0;34m)\u001b[0m\u001b[0;34m\u001b[0m\u001b[0;34m\u001b[0m\u001b[0m\n\u001b[0;32m--> 793\u001b[0;31m                 \u001b[0;32mreturn\u001b[0m \u001b[0mmethod\u001b[0m\u001b[0;34m(\u001b[0m\u001b[0;34m*\u001b[0m\u001b[0margs\u001b[0m\u001b[0;34m,\u001b[0m \u001b[0;34m**\u001b[0m\u001b[0mkwargs\u001b[0m\u001b[0;34m)\u001b[0m\u001b[0;34m\u001b[0m\u001b[0;34m\u001b[0m\u001b[0m\n\u001b[0m\u001b[1;32m    794\u001b[0m \u001b[0;34m\u001b[0m\u001b[0m\n\u001b[1;32m    795\u001b[0m             \u001b[0;31m# callbacks to call within the Future (in same Thread)\u001b[0m\u001b[0;34m\u001b[0m\u001b[0;34m\u001b[0m\u001b[0;34m\u001b[0m\u001b[0m\n",
            "\u001b[0;32m~/.local/lib/python3.7/site-packages/google/cloud/aiplatform/models.py\u001b[0m in \u001b[0;36m_deploy\u001b[0;34m(self, endpoint, deployed_model_display_name, traffic_percentage, traffic_split, machine_type, min_replica_count, max_replica_count, accelerator_type, accelerator_count, service_account, explanation_metadata, explanation_parameters, metadata, encryption_spec_key_name, network, sync, deploy_request_timeout, autoscaling_target_cpu_utilization, autoscaling_target_accelerator_duty_cycle)\u001b[0m\n\u001b[1;32m   3394\u001b[0m             \u001b[0mdeploy_request_timeout\u001b[0m\u001b[0;34m=\u001b[0m\u001b[0mdeploy_request_timeout\u001b[0m\u001b[0;34m,\u001b[0m\u001b[0;34m\u001b[0m\u001b[0;34m\u001b[0m\u001b[0m\n\u001b[1;32m   3395\u001b[0m             \u001b[0mautoscaling_target_cpu_utilization\u001b[0m\u001b[0;34m=\u001b[0m\u001b[0mautoscaling_target_cpu_utilization\u001b[0m\u001b[0;34m,\u001b[0m\u001b[0;34m\u001b[0m\u001b[0;34m\u001b[0m\u001b[0m\n\u001b[0;32m-> 3396\u001b[0;31m             \u001b[0mautoscaling_target_accelerator_duty_cycle\u001b[0m\u001b[0;34m=\u001b[0m\u001b[0mautoscaling_target_accelerator_duty_cycle\u001b[0m\u001b[0;34m,\u001b[0m\u001b[0;34m\u001b[0m\u001b[0;34m\u001b[0m\u001b[0m\n\u001b[0m\u001b[1;32m   3397\u001b[0m         )\n\u001b[1;32m   3398\u001b[0m \u001b[0;34m\u001b[0m\u001b[0m\n",
            "\u001b[0;32m~/.local/lib/python3.7/site-packages/google/cloud/aiplatform/models.py\u001b[0m in \u001b[0;36m_deploy_call\u001b[0;34m(cls, api_client, endpoint_resource_name, model, endpoint_resource_traffic_split, network, deployed_model_display_name, traffic_percentage, traffic_split, machine_type, min_replica_count, max_replica_count, accelerator_type, accelerator_count, service_account, explanation_metadata, explanation_parameters, metadata, deploy_request_timeout, autoscaling_target_cpu_utilization, autoscaling_target_accelerator_duty_cycle)\u001b[0m\n\u001b[1;32m   1231\u001b[0m         )\n\u001b[1;32m   1232\u001b[0m \u001b[0;34m\u001b[0m\u001b[0m\n\u001b[0;32m-> 1233\u001b[0;31m         \u001b[0moperation_future\u001b[0m\u001b[0;34m.\u001b[0m\u001b[0mresult\u001b[0m\u001b[0;34m(\u001b[0m\u001b[0;34m)\u001b[0m\u001b[0;34m\u001b[0m\u001b[0;34m\u001b[0m\u001b[0m\n\u001b[0m\u001b[1;32m   1234\u001b[0m \u001b[0;34m\u001b[0m\u001b[0m\n\u001b[1;32m   1235\u001b[0m     def undeploy(\n",
            "\u001b[0;32m~/.local/lib/python3.7/site-packages/google/api_core/future/polling.py\u001b[0m in \u001b[0;36mresult\u001b[0;34m(self, timeout, retry)\u001b[0m\n\u001b[1;32m    133\u001b[0m             \u001b[0;31m# pylint: disable=raising-bad-type\u001b[0m\u001b[0;34m\u001b[0m\u001b[0;34m\u001b[0m\u001b[0;34m\u001b[0m\u001b[0m\n\u001b[1;32m    134\u001b[0m             \u001b[0;31m# Pylint doesn't recognize that this is valid in this case.\u001b[0m\u001b[0;34m\u001b[0m\u001b[0;34m\u001b[0m\u001b[0;34m\u001b[0m\u001b[0m\n\u001b[0;32m--> 135\u001b[0;31m             \u001b[0;32mraise\u001b[0m \u001b[0mself\u001b[0m\u001b[0;34m.\u001b[0m\u001b[0m_exception\u001b[0m\u001b[0;34m\u001b[0m\u001b[0;34m\u001b[0m\u001b[0m\n\u001b[0m\u001b[1;32m    136\u001b[0m \u001b[0;34m\u001b[0m\u001b[0m\n\u001b[1;32m    137\u001b[0m         \u001b[0;32mreturn\u001b[0m \u001b[0mself\u001b[0m\u001b[0;34m.\u001b[0m\u001b[0m_result\u001b[0m\u001b[0;34m\u001b[0m\u001b[0;34m\u001b[0m\u001b[0m\n",
            "\u001b[0;31mFailedPrecondition\u001b[0m: 400 Model server terminated: model server container terminated: exit_code: \t 1\nreason: \"Error\"\nstarted_at {\n  seconds: 1659999294\n}\nfinished_at {\n  seconds: 1659999295\n}\n. Model server logs can be found at https://console.cloud.google.com/logs/viewer?project=759209241365&resource=aiplatform.googleapis.com%252FEndpoint&advancedFilter=resource.type%3D%22aiplatform.googleapis.com%2FEndpoint%22%0Aresource.labels.endpoint_id%3D%223938177971809943552%22%0Aresource.labels.location%3D%22us-central1%22."
          ]
        }
      ],
      "source": [
        "endpoint = model.deploy(machine_type=\"n1-standard-4\")"
      ]
    },
    {
      "cell_type": "markdown",
      "id": "afa57d53-c38b-4a96-87e8-4e2ee72881b1",
      "metadata": {
        "id": "b6ad37e4520c"
      },
      "source": [
        "#### Prepare prediction request\n",
        "\n",
        "Next, you prepare a prediction request. For demonstration purposes, you use the first row (example) from the dataset."
      ]
    },
    {
      "cell_type": "code",
      "execution_count": 56,
      "id": "136752f9-befc-477a-aa29-d4213f7d41b4",
      "metadata": {
        "id": "758edcec727f"
      },
      "outputs": [
        {
          "name": "stdout",
          "output_type": "stream",
          "text": [
            "0,3189,40,8,30,13,3270,206,234,193,4873,1,0,0,0,0,0,0,0,0,0,0,0,0,0,0,0,0,0,0,0,0,0,0,0,0,0,0,0,0,0,0,0,1,0,0,0,0,0,0,0,0,0,0,0,1\n"
          ]
        },
        {
          "ename": "JSONDecodeError",
          "evalue": "Extra data: line 1 column 2 (char 1)",
          "output_type": "error",
          "traceback": [
            "\u001b[0;31m---------------------------------------------------------------------------\u001b[0m",
            "\u001b[0;31mJSONDecodeError\u001b[0m                           Traceback (most recent call last)",
            "\u001b[0;32m/tmp/ipykernel_4630/3441276774.py\u001b[0m in \u001b[0;36m<module>\u001b[0;34m\u001b[0m\n\u001b[1;32m      4\u001b[0m \u001b[0;34m\u001b[0m\u001b[0m\n\u001b[1;32m      5\u001b[0m \u001b[0;32mimport\u001b[0m \u001b[0mjson\u001b[0m\u001b[0;34m\u001b[0m\u001b[0;34m\u001b[0m\u001b[0m\n\u001b[0;32m----> 6\u001b[0;31m \u001b[0minstance\u001b[0m \u001b[0;34m=\u001b[0m \u001b[0mjson\u001b[0m\u001b[0;34m.\u001b[0m\u001b[0mloads\u001b[0m\u001b[0;34m(\u001b[0m\u001b[0moutput\u001b[0m\u001b[0;34m[\u001b[0m\u001b[0;36m1\u001b[0m\u001b[0;34m]\u001b[0m\u001b[0;34m)\u001b[0m\u001b[0;34m\u001b[0m\u001b[0;34m\u001b[0m\u001b[0m\n\u001b[0m\u001b[1;32m      7\u001b[0m \u001b[0mprint\u001b[0m\u001b[0;34m(\u001b[0m\u001b[0minstance\u001b[0m\u001b[0;34m)\u001b[0m\u001b[0;34m\u001b[0m\u001b[0;34m\u001b[0m\u001b[0m\n",
            "\u001b[0;32m/opt/conda/lib/python3.7/json/__init__.py\u001b[0m in \u001b[0;36mloads\u001b[0;34m(s, encoding, cls, object_hook, parse_float, parse_int, parse_constant, object_pairs_hook, **kw)\u001b[0m\n\u001b[1;32m    346\u001b[0m             \u001b[0mparse_int\u001b[0m \u001b[0;32mis\u001b[0m \u001b[0;32mNone\u001b[0m \u001b[0;32mand\u001b[0m \u001b[0mparse_float\u001b[0m \u001b[0;32mis\u001b[0m \u001b[0;32mNone\u001b[0m \u001b[0;32mand\u001b[0m\u001b[0;34m\u001b[0m\u001b[0;34m\u001b[0m\u001b[0m\n\u001b[1;32m    347\u001b[0m             parse_constant is None and object_pairs_hook is None and not kw):\n\u001b[0;32m--> 348\u001b[0;31m         \u001b[0;32mreturn\u001b[0m \u001b[0m_default_decoder\u001b[0m\u001b[0;34m.\u001b[0m\u001b[0mdecode\u001b[0m\u001b[0;34m(\u001b[0m\u001b[0ms\u001b[0m\u001b[0;34m)\u001b[0m\u001b[0;34m\u001b[0m\u001b[0;34m\u001b[0m\u001b[0m\n\u001b[0m\u001b[1;32m    349\u001b[0m     \u001b[0;32mif\u001b[0m \u001b[0mcls\u001b[0m \u001b[0;32mis\u001b[0m \u001b[0;32mNone\u001b[0m\u001b[0;34m:\u001b[0m\u001b[0;34m\u001b[0m\u001b[0;34m\u001b[0m\u001b[0m\n\u001b[1;32m    350\u001b[0m         \u001b[0mcls\u001b[0m \u001b[0;34m=\u001b[0m \u001b[0mJSONDecoder\u001b[0m\u001b[0;34m\u001b[0m\u001b[0;34m\u001b[0m\u001b[0m\n",
            "\u001b[0;32m/opt/conda/lib/python3.7/json/decoder.py\u001b[0m in \u001b[0;36mdecode\u001b[0;34m(self, s, _w)\u001b[0m\n\u001b[1;32m    338\u001b[0m         \u001b[0mend\u001b[0m \u001b[0;34m=\u001b[0m \u001b[0m_w\u001b[0m\u001b[0;34m(\u001b[0m\u001b[0ms\u001b[0m\u001b[0;34m,\u001b[0m \u001b[0mend\u001b[0m\u001b[0;34m)\u001b[0m\u001b[0;34m.\u001b[0m\u001b[0mend\u001b[0m\u001b[0;34m(\u001b[0m\u001b[0;34m)\u001b[0m\u001b[0;34m\u001b[0m\u001b[0;34m\u001b[0m\u001b[0m\n\u001b[1;32m    339\u001b[0m         \u001b[0;32mif\u001b[0m \u001b[0mend\u001b[0m \u001b[0;34m!=\u001b[0m \u001b[0mlen\u001b[0m\u001b[0;34m(\u001b[0m\u001b[0ms\u001b[0m\u001b[0;34m)\u001b[0m\u001b[0;34m:\u001b[0m\u001b[0;34m\u001b[0m\u001b[0;34m\u001b[0m\u001b[0m\n\u001b[0;32m--> 340\u001b[0;31m             \u001b[0;32mraise\u001b[0m \u001b[0mJSONDecodeError\u001b[0m\u001b[0;34m(\u001b[0m\u001b[0;34m\"Extra data\"\u001b[0m\u001b[0;34m,\u001b[0m \u001b[0ms\u001b[0m\u001b[0;34m,\u001b[0m \u001b[0mend\u001b[0m\u001b[0;34m)\u001b[0m\u001b[0;34m\u001b[0m\u001b[0;34m\u001b[0m\u001b[0m\n\u001b[0m\u001b[1;32m    341\u001b[0m         \u001b[0;32mreturn\u001b[0m \u001b[0mobj\u001b[0m\u001b[0;34m\u001b[0m\u001b[0;34m\u001b[0m\u001b[0m\n\u001b[1;32m    342\u001b[0m \u001b[0;34m\u001b[0m\u001b[0m\n",
            "\u001b[0;31mJSONDecodeError\u001b[0m: Extra data: line 1 column 2 (char 1)"
          ]
        }
      ],
      "source": [
        "output = ! gsutil cat {DATASET_FILE} | head -n2\n",
        "\n",
        "print(output[1])\n",
        "\n",
        "import json\n",
        "\n",
        "instance = json.loads(output[1])\n",
        "print(instance)"
      ]
    },
    {
      "cell_type": "markdown",
      "id": "1e14f850-c901-4d6c-a902-04139e4d969a",
      "metadata": {
        "id": "149556c3b776"
      },
      "source": [
        "### Make the prediction\n",
        "\n",
        "BLAH"
      ]
    },
    {
      "cell_type": "code",
      "execution_count": null,
      "id": "26af35f1-ddc9-417b-8429-d7d4569aac25",
      "metadata": {
        "id": "d486a0ddff75"
      },
      "outputs": [],
      "source": [
        "prediction = endpoint.predict(instances=[instance])\n",
        "print(prediction)"
      ]
    },
    {
      "cell_type": "markdown",
      "id": "57bc8966-454d-448f-bdb2-036ec39c20b2",
      "metadata": {
        "id": "e18637e0af66"
      },
      "source": [
        "#### Undeploy and delete the `Endpoint` resource\n",
        "\n",
        "BLAH"
      ]
    },
    {
      "cell_type": "code",
      "execution_count": 59,
      "id": "2a5a797e-7ef5-481f-a31c-94c0577b2f9c",
      "metadata": {
        "id": "659cf7dd8d33"
      },
      "outputs": [
        {
          "ename": "NameError",
          "evalue": "name 'endpoint' is not defined",
          "output_type": "error",
          "traceback": [
            "\u001b[0;31m---------------------------------------------------------------------------\u001b[0m",
            "\u001b[0;31mNameError\u001b[0m                                 Traceback (most recent call last)",
            "\u001b[0;32m/tmp/ipykernel_4630/1688010881.py\u001b[0m in \u001b[0;36m<module>\u001b[0;34m\u001b[0m\n\u001b[0;32m----> 1\u001b[0;31m \u001b[0mendpoint\u001b[0m\u001b[0;34m.\u001b[0m\u001b[0mundeploy_all\u001b[0m\u001b[0;34m(\u001b[0m\u001b[0mforce\u001b[0m\u001b[0;34m=\u001b[0m\u001b[0;32mTrue\u001b[0m\u001b[0;34m)\u001b[0m\u001b[0;34m\u001b[0m\u001b[0;34m\u001b[0m\u001b[0m\n\u001b[0m\u001b[1;32m      2\u001b[0m \u001b[0mendpoint\u001b[0m\u001b[0;34m.\u001b[0m\u001b[0mdelete\u001b[0m\u001b[0;34m(\u001b[0m\u001b[0;34m)\u001b[0m\u001b[0;34m\u001b[0m\u001b[0;34m\u001b[0m\u001b[0m\n",
            "\u001b[0;31mNameError\u001b[0m: name 'endpoint' is not defined"
          ]
        }
      ],
      "source": [
        "endpoint.undeploy_all(force=True)\n",
        "endpoint.delete()"
      ]
    },
    {
      "cell_type": "markdown",
      "id": "5322cea1-399b-4afe-bb08-56c96620c7dc",
      "metadata": {
        "id": "e591b61fd8f5"
      },
      "source": [
        "#### Delete the `Model` resource\n",
        "\n",
        "You can delete a model resource with the method delete()."
      ]
    },
    {
      "cell_type": "code",
      "execution_count": 60,
      "id": "93a85448-269a-4096-86eb-77c2542a1b3f",
      "metadata": {
        "id": "00fa6a7b4f24"
      },
      "outputs": [
        {
          "name": "stdout",
          "output_type": "stream",
          "text": [
            "Deleting Model : projects/759209241365/locations/us-central1/models/3452901917821239296\n",
            "Delete Model  backing LRO: projects/759209241365/locations/us-central1/operations/6569080942256717824\n",
            "Model deleted. . Resource name: projects/759209241365/locations/us-central1/models/3452901917821239296\n"
          ]
        }
      ],
      "source": [
        "model.delete()"
      ]
    },
    {
      "cell_type": "markdown",
      "id": "7e9f2bad-3555-4d75-8e34-fc1ee616cff4",
      "metadata": {
        "id": "8b6599395122"
      },
      "source": [
        "## Cleanup"
      ]
    },
    {
      "cell_type": "code",
      "execution_count": 61,
      "id": "29f69875-6bc7-421c-bf4d-017c20f59cae",
      "metadata": {
        "id": "e7ffef3306e5"
      },
      "outputs": [
        {
          "name": "stdout",
          "output_type": "stream",
          "text": [
            "Removing gs://andy-1234-221921aip-20220808183359/trainer_covertype.tar.gz#1659997980723690...\n",
            "Removing gs://andy-1234-221921aip-20220808183359/model/model/xgboost/all_results.json#1659996013500812...\n",
            "Removing gs://andy-1234-221921aip-20220808183359/model/model/xgboost/model.json#1659996013612869...\n",
            "Removing gs://andy-1234-221921aip-20220808183359/model/xgboost/all_results.json#1659998221499926...\n",
            "/ [4 objects]                                                                   \n",
            "==> NOTE: You are performing a sequence of gsutil operations that may\n",
            "run significantly faster if you instead use gsutil -m rm ... Please\n",
            "see the -m section under \"gsutil help options\" for further information\n",
            "about when gsutil -m can be advantageous.\n",
            "\n",
            "Removing gs://andy-1234-221921aip-20220808183359/model/xgboost/model.json#1659998221591249...\n",
            "/ [5 objects]                                                                   \n",
            "Operation completed over 5 objects.                                              \n",
            "Removing gs://andy-1234-221921aip-20220808183359/...\n"
          ]
        }
      ],
      "source": [
        "delete_bucket = True\n",
        "if delete_bucket or os.getenv(\"IS_TESTING\"):\n",
        "    ! gsutil rm -r {BUCKET_URI}\n",
        "\n",
        "! rm -rf custom prediction custom.tar.gz\n",
        "\n",
        "# TODO: delete repo, delete images"
      ]
    }
  ],
  "metadata": {
    "colab": {
      "name": "get_started_with_distributed_training_xgboost.ipynb",
      "toc_visible": true
    },
    "kernelspec": {
      "display_name": "Python 3",
      "name": "python3"
    }
  },
  "nbformat": 4,
  "nbformat_minor": 0
}
