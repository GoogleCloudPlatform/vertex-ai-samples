{
  "cells": [
    {
      "cell_type": "code",
      "execution_count": null,
      "metadata": {
        "id": "ur8xi4C7S06n"
      },
      "outputs": [],
      "source": [
        "# Copyright 2022 Google LLC\n",
        "#\n",
        "# Licensed under the Apache License, Version 2.0 (the \"License\");\n",
        "# you may not use this file except in compliance with the License.\n",
        "# You may obtain a copy of the License at\n",
        "#\n",
        "#     https://www.apache.org/licenses/LICENSE-2.0\n",
        "#\n",
        "# Unless required by applicable law or agreed to in writing, software\n",
        "# distributed under the License is distributed on an \"AS IS\" BASIS,\n",
        "# WITHOUT WARRANTIES OR CONDITIONS OF ANY KIND, either express or implied.\n",
        "# See the License for the specific language governing permissions and\n",
        "# limitations under the License."
      ]
    },
    {
      "cell_type": "markdown",
      "metadata": {
        "id": "e3ba05e16cf2"
      },
      "source": [
        "This notebook is an updated version of a notebook contributed by [Fabian Hirschmann](https://github.com/fhirschmann)."
      ]
    },
    {
      "cell_type": "markdown",
      "metadata": {
        "id": "JAPoU8Sm5E6e"
      },
      "source": [
        "# E2E ML on GCP: MLOps stage 2 : experimentation: get started with Vertex AI Training for R using R Kernel\n",
        "\n",
        "<table align=\"left\">\n",
        "\n",
        "  <td>\n",
        "    <a href=\"https://colab.research.google.com/github/GoogleCloudPlatform/vertex-ai-samples/blob/main/notebooks/community/ml_ops/stage2/get_started_vertex_training_r_using_r_kernel.ipynb\">\n",
        "      <img src=\"https://cloud.google.com/ml-engine/images/colab-logo-32px.png\" alt=\"Colab logo\"> Run in Colab\n",
        "    </a>\n",
        "  </td>\n",
        "  <td>\n",
        "    <a href=\"https://github.com/GoogleCloudPlatform/vertex-ai-samples/blob/main/notebooks/community/ml_ops/stage2/get_started_vertex_training_r_using_r_kernel.ipynb\">\n",
        "      <img src=\"https://cloud.google.com/ml-engine/images/github-logo-32px.png\" alt=\"GitHub logo\">\n",
        "      View on GitHub\n",
        "    </a>\n",
        "  </td>\n",
        "  <td>\n",
        "    <a href=\"https://console.cloud.google.com/vertex-ai/workbench/deploy-notebook?download_url=https://raw.githubusercontent.com/GoogleCloudPlatform/vertex-ai-samples/main/notebooks/community/ml_ops/stage2/get_started_vertex_training_r_using_r_kernel.ipynb\">\n",
        "      <img src=\"https://lh3.googleusercontent.com/UiNooY4LUgW_oTvpsNhPpQzsstV5W8F7rYgxgGBD85cWJoLmrOzhVs_ksK_vgx40SHs7jCqkTkCk=e14-rj-sc0xffffff-h130-w32\" alt=\"Vertex AI logo\">\n",
        "      Open in Vertex AI Workbench\n",
        "    </a>\n",
        "  </td>                                                                                        \n",
        "</table>"
      ]
    },
    {
      "cell_type": "markdown",
      "metadata": {
        "id": "be1799d4f500"
      },
      "source": [
        "## Overview\n",
        "\n",
        "This example demonstrates how to train and deploy R models with `Vertex AI` using an R kernel -- such as in `Vertex AI Workbench Notebooks`."
      ]
    },
    {
      "cell_type": "markdown",
      "metadata": {
        "id": "tvgnzT1CKxrO"
      },
      "source": [
        "### Objective\n",
        "\n",
        "In this tutorial, you learn how to use `Vertex AI`, using an R kernel, for training and deploying an R custom model.\n",
        "\n",
        "This tutorial uses the following Google Cloud ML services:\n",
        "\n",
        "- `Vertex AI Training`\n",
        "- `Vertex AI Prediction`\n",
        "- `Vertex AI Model` resource\n",
        "- `Vertex AI Endpoint` resource\n",
        "\n",
        "The steps performed include:\n",
        "\n",
        "- Create a custom R training script\n",
        "- Create a custom R serving script\n",
        "- Create a custom R deployment (serving) container.\n",
        "- Train the model using `Vertex AI` custom training.\n",
        "- Create an `Endpoint` resouce.\n",
        "- Deploy the `Model` resource (trained R model) to the `Endpoint` resource.\n",
        "- Make an online prediction.\n"
      ]
    },
    {
      "cell_type": "markdown",
      "metadata": {
        "id": "e1266da324d2"
      },
      "source": [
        "### Dataset\n",
        "\n",
        "The dataset used for this tutorial is [California Housing Dataset](https://www.dcc.fc.up.pt/~ltorgo/Regression/cal_housing.html). The data contains information from the 1990 California census. The data set is publicly available from Cloud Storage at `gs://cloud-samples-data/ai-platform-unified/datasets/tabular/california-housing-tabular-regression.csv`. The dataset is used to train a Random Forest regressor to predict a median housing price, given a longitude and lattitude along with data from the corresponding census block group. A block group is the smallest geographical unit for which the U.S. Census Bureau publishes sample data (a block group typically has a population of 600 to 3,000 people).\n"
      ]
    },
    {
      "cell_type": "markdown",
      "metadata": {
        "id": "de76bb18c85b"
      },
      "source": [
        "### Costs \n",
        "\n",
        "This tutorial uses billable components of Google Cloud:\n",
        "\n",
        "* Vertex AI\n",
        "* Cloud Storage\n",
        "\n",
        "Learn about [Vertex AI\n",
        "pricing](https://cloud.google.com/vertex-ai/pricing) and [Cloud Storage\n",
        "pricing](https://cloud.google.com/storage/pricing), and use the [Pricing\n",
        "Calculator](https://cloud.google.com/products/calculator/)\n",
        "to generate a cost estimate based on your projected usage."
      ]
    },
    {
      "cell_type": "markdown",
      "metadata": {
        "id": "ze4-nDLfK4pw"
      },
      "source": [
        "### Set up your local development environment\n",
        "\n",
        "**If you are using Colab or Vertex AI Workbench Notebooks**, your environment already meets\n",
        "all the requirements to run this notebook. You can skip this step."
      ]
    },
    {
      "cell_type": "markdown",
      "metadata": {
        "id": "gCuSR8GkAgzl"
      },
      "source": [
        "**Otherwise**, make sure your environment meets this notebook's requirements.\n",
        "You need the following:\n",
        "\n",
        "* The Google Cloud SDK\n",
        "* Git\n",
        "* R\n",
        "* Python 3\n",
        "* virtualenv\n",
        "* Jupyter notebook running in a virtual environment with R and Python 3\n",
        "\n",
        "The Cloud Storage guide to [Setting up a Python development environment](https://cloud.google.com/python/setup) and the [Jupyter installation guide](https://jupyter.org/install) provide detailed instructions for meeting these requirements. The following steps provide a condensed set of instructions:\n",
        "\n",
        "1. [Install and initialize the SDK](https://cloud.google.com/sdk/docs/).\n",
        "\n",
        "2. [Install R]().\n",
        "\n",
        "3. [Install virtualenv](https://cloud.google.com/python/setup#installing_and_using_virtualenv) and create a virtual environment that uses R.  Activate the virtual environment.\n",
        "\n",
        "4. To install Jupyter, run `pip3 install jupyter` on the command-line in a terminal shell.\n",
        "\n",
        "5. To launch Jupyter, run `jupyter notebook` on the command-line in a terminal shell.\n",
        "\n",
        "6. Open this notebook in the Jupyter Notebook Dashboard.\n"
      ]
    },
    {
      "cell_type": "markdown",
      "metadata": {
        "id": "06f5a76b4348"
      },
      "source": [
        "#### Define helper functions for this Notebook\n",
        "\n",
        "First, you define some helper functions used throughout this tutorial.\n",
        "\n",
        "- `sh`: Executes the specified command shell.\n",
        "- `display_file`: Displays the contents of the specified file."
      ]
    },
    {
      "cell_type": "code",
      "execution_count": null,
      "metadata": {
        "id": "863da1f51894"
      },
      "outputs": [],
      "source": [
        "library(glue)\n",
        "library(IRdisplay)\n",
        "\n",
        "sh <- function(cmd, args = c(), intern = FALSE) {\n",
        "    if (is.null(args)) {\n",
        "        cmd <- glue(cmd)\n",
        "        s <- strsplit(cmd, \" \")[[1]]\n",
        "        cmd <- s[1]\n",
        "        args <- s[2:length(s)]\n",
        "    }\n",
        "    ret <- system2(cmd, args, stdout = TRUE, stderr = TRUE)\n",
        "    if (\"errmsg\" %in% attributes(attributes(ret))$names) cat(attr(ret, \"errmsg\"), \"\\n\")\n",
        "    if (intern) return(ret) else cat(paste(ret, collapse = \"\\n\"))\n",
        "}\n",
        "\n",
        "display_file <- function(filename) {\n",
        "    body <- sh(glue(\"pygmentize -g {filename} -f html -P full -O style=default\"), intern = TRUE)\n",
        "    IRdisplay::display_html(paste(\"<div style='text-align: left'>\", paste(body, collapse=\"\\n\"), \"</div>\", collapse=\"\\n\"))\n",
        "}"
      ]
    },
    {
      "cell_type": "markdown",
      "metadata": {
        "id": "70807819d50b"
      },
      "source": [
        "## Installation\n",
        "\n",
        "Install the following packages to execute this notebook."
      ]
    },
    {
      "cell_type": "code",
      "execution_count": null,
      "metadata": {
        "id": "9ddc1f185b04"
      },
      "outputs": [],
      "source": [
        "required_packages < -c(\"reticulate\", \"glue\", \"httr\")\n",
        "install.packages(setdiff(required_packages, rownames(installed.packages())))\n",
        "\n",
        "sh(\"pip3 install --upgrade google-cloud-aiplatform -q\")"
      ]
    },
    {
      "cell_type": "markdown",
      "metadata": {
        "id": "lWEdiXsJg0XY"
      },
      "source": [
        "## Before you begin"
      ]
    },
    {
      "cell_type": "markdown",
      "metadata": {
        "id": "BF1j6f9HApxa"
      },
      "source": [
        "### Set up your Google Cloud project\n",
        "\n",
        "**The following steps are required, regardless of your notebook environment.**\n",
        "\n",
        "1. [Select or create a Google Cloud project](https://console.cloud.google.com/cloud-resource-manager). When you first create an account, you get a $300 free credit towards your compute/storage costs.\n",
        "\n",
        "1. [Make sure that billing is enabled for your project](https://cloud.google.com/billing/docs/how-to/modify-project).\n",
        "\n",
        "1. [Enable the Vertex AI API](https://console.cloud.google.com/flows/enableapi?apiid=aiplatform.googleapis.com) and the [Artifact Registry API](https://console.cloud.google.com/flows/enableapi?apiid=artifactregistry.googleapis.com).\n",
        "\n",
        "1. If you are running this notebook locally, you need to install the [Cloud SDK](https://cloud.google.com/sdk).\n",
        "\n",
        "1. Have the project ID autodetected or enter it below. Then run the cell to make sure the\n",
        "Cloud SDK uses the right project for all the commands in this notebook."
      ]
    },
    {
      "cell_type": "markdown",
      "metadata": {
        "id": "WReHDGG5g0XY"
      },
      "source": [
        "#### Set your project ID\n",
        "\n",
        "**If you don't know your project ID**, you may be able to get your project ID using `gcloud`."
      ]
    },
    {
      "cell_type": "code",
      "execution_count": null,
      "metadata": {
        "id": "095b71d07b73"
      },
      "outputs": [],
      "source": [
        "PROJECT_ID < -\"[your-project-id]\"  # @param {type:\"string\"}"
      ]
    },
    {
      "cell_type": "code",
      "execution_count": null,
      "metadata": {
        "id": "86deb10cfd16"
      },
      "outputs": [],
      "source": [
        "# Get your Google Cloud project ID from gcloud\n",
        "if (Sys.getenv(\"IS_TESTING\") == \"\") {\n",
        "    if (PROJECT_ID == \"[your-project-id]\") {\n",
        "      PROJECT_ID <- sh(\"gcloud config list --format 'value(core.project)' 2>/dev/null\", intern = TRUE)\n",
        "    }\n",
        "    cat(\"Project ID:\", PROJECT_ID, \"\\n\")\n",
        "}"
      ]
    },
    {
      "cell_type": "code",
      "execution_count": null,
      "metadata": {
        "id": "91dd1d99b257"
      },
      "outputs": [],
      "source": [
        "sh(\"gcloud config set project {PROJECT_ID}\")"
      ]
    },
    {
      "cell_type": "markdown",
      "metadata": {
        "id": "88dd74c4c84e"
      },
      "source": [
        "#### Region\n",
        "\n",
        "You can also change the `REGION` variable, which is used for operations\n",
        "throughout the rest of this notebook.  Below are regions supported for Vertex AI. We recommend that you choose the region closest to you.\n",
        "\n",
        "- Americas: `us-central1`\n",
        "- Europe: `europe-west4`\n",
        "- Asia Pacific: `asia-east1`\n",
        "\n",
        "You may not use a multi-regional bucket for training with Vertex AI. Not all regions provide support for all Vertex AI services.\n",
        "\n",
        "Learn more about [Vertex AI regions](https://cloud.google.com/vertex-ai/docs/general/locations)."
      ]
    },
    {
      "cell_type": "code",
      "execution_count": null,
      "metadata": {
        "id": "6e7cff94d9fe"
      },
      "outputs": [],
      "source": [
        "REGION <- \"[your-region]\"  # @param {type: \"string\"}\n",
        "\n",
        "if (REGION == \"[your-region]\") {\n",
        "    REGION <- \"us-central1\"\n",
        "}"
      ]
    },
    {
      "cell_type": "markdown",
      "metadata": {
        "id": "06571eb4063b"
      },
      "source": [
        "#### Timestamp\n",
        "\n",
        "If you are in a live tutorial session, you might be using a shared test account or project. To avoid name collisions between users on resources created, you create a timestamp for each instance session, and append it onto the name of resources you create in this tutorial."
      ]
    },
    {
      "cell_type": "code",
      "execution_count": null,
      "metadata": {
        "id": "697568e92bd6"
      },
      "outputs": [],
      "source": [
        "TIMESTAMP = format(Sys.time(), \"%Y%m%d%H%M%S\")"
      ]
    },
    {
      "cell_type": "markdown",
      "metadata": {
        "id": "sBCra4QMA2wR"
      },
      "source": [
        "### Authenticate your Google Cloud account\n",
        "\n",
        "**If you are using Vertex AI Workbench Notebooks**, your environment is already\n",
        "authenticated. Skip this step.\n",
        "\n",
        "**If you are using Colab**, run the cell below and follow the instructions\n",
        "when prompted to authenticate your account via oAuth.\n",
        "\n",
        "**Otherwise**, follow these steps:\n",
        "\n",
        "1. In the Cloud Console, go to the [**Create service account key**\n",
        "   page](https://console.cloud.google.com/apis/credentials/serviceaccountkey).\n",
        "\n",
        "2. Click **Create service account**.\n",
        "\n",
        "3. In the **Service account name** field, enter a name, and\n",
        "   click **Create**.\n",
        "\n",
        "4. In the **Grant this service account access to project** section, click the **Role** drop-down list. Type \"Vertex AI\"\n",
        "into the filter box, and select\n",
        "   **Vertex AI Administrator**. Type \"Storage Object Admin\" into the filter box, and select **Storage Object Admin**.\n",
        "\n",
        "5. Click *Create*. A JSON file that contains your key downloads to your\n",
        "local environment.\n",
        "\n",
        "6. Enter the path to your service account key as the\n",
        "`GOOGLE_APPLICATION_CREDENTIALS` variable in the cell below and run the cell."
      ]
    },
    {
      "cell_type": "code",
      "execution_count": null,
      "metadata": {
        "id": "60ba8e2386e8"
      },
      "outputs": [],
      "source": [
        "# The Google Cloud Notebook product has specific requirements\n",
        "IS_WORKBENCH_NOTEBOOK <- file.exists(\"/opt/deeplearning/metadata/env_version\")\n",
        "IS_GOOGLE_COLAB <- (system(\"python -c 'import google.colab'\") != 0)\n",
        "\n",
        "GOOGLE_APPLICATION_CREDENTIALS <- \"\"  # @param {type:\"string\"}\n",
        "\n",
        "# If on Vertex AI Workbench Notebooks, then don't execute this code\n",
        "if (!IS_WORKBENCH_NOTEBOOK) {\n",
        "    # Replace the string below with the path to your service account key and run this cell\n",
        "    # to authenticate your GCP account.\n",
        "    Sys.setenv(\"GOOGLE_APPLICATION_CREDENTIALS\" = GOOGLE_APPLICATION_CREDENTIALS)\n",
        "}"
      ]
    },
    {
      "cell_type": "markdown",
      "metadata": {
        "id": "zgPO1eR3CYjk"
      },
      "source": [
        "### Create a Cloud Storage bucket\n",
        "\n",
        "**The following steps are required, regardless of your notebook environment.**\n",
        "\n",
        "When you initialize the Vertex AI SDK for Python, you specify a Cloud Storage staging bucket. The staging bucket is where all the data associated with your dataset and model resources are retained across sessions.\n",
        "\n",
        "Set the name of your Cloud Storage bucket below. Bucket names must be globally unique across all Google Cloud projects, including those outside of your organization."
      ]
    },
    {
      "cell_type": "code",
      "execution_count": null,
      "metadata": {
        "id": "MzGDU7TWdts_"
      },
      "outputs": [],
      "source": [
        "BUCKET_NAME < -\"[your-bucket-name]\"  # @param {type:\"string\"}\n",
        "BUCKET_URI < -paste0(\"gs://\", BUCKET_NAME)"
      ]
    },
    {
      "cell_type": "code",
      "execution_count": null,
      "metadata": {
        "id": "cf221059d072"
      },
      "outputs": [],
      "source": [
        "if (BUCKET_NAME == \"\" || BUCKET_NAME == \"[your-bucket-name]\") {\n",
        "    BUCKET_NAME = paste0(PROJECT_ID, \"aip-\", TIMESTAMP)\n",
        "    BUCKET_URI = paste0(\"gs://\", BUCKET_NAME)\n",
        "}\n",
        "\n",
        "BUCKET_URI"
      ]
    },
    {
      "cell_type": "markdown",
      "metadata": {
        "id": "-EcIXiGsCePi"
      },
      "source": [
        "**Only if your bucket doesn't already exist**: Run the following cell to create your Cloud Storage bucket."
      ]
    },
    {
      "cell_type": "code",
      "execution_count": null,
      "metadata": {
        "id": "NIq7R4HZCfIc"
      },
      "outputs": [],
      "source": [
        "sh(\"gsutil mb -l {REGION} -p {PROJECT_ID} {BUCKET_URI}\")"
      ]
    },
    {
      "cell_type": "markdown",
      "metadata": {
        "id": "ucvCsknMCims"
      },
      "source": [
        "Finally, validate access to your Cloud Storage bucket by examining its contents:"
      ]
    },
    {
      "cell_type": "code",
      "execution_count": null,
      "metadata": {
        "id": "2126ef67e2b8"
      },
      "outputs": [],
      "source": [
        "sh(\"gsutil ls -al {BUCKET_URI}\")"
      ]
    },
    {
      "cell_type": "markdown",
      "metadata": {
        "id": "XoEqT2Y4DJmf"
      },
      "source": [
        "### Import libraries and define constants\n",
        "\n",
        "Import and initialize the `reticulate` R package to interface with the Vertex AI SDK, which is written in Python."
      ]
    },
    {
      "cell_type": "code",
      "execution_count": null,
      "metadata": {
        "id": "pRUOFELefqf1"
      },
      "outputs": [],
      "source": [
        "library(reticulate)\n",
        "library(glue)\n",
        "library(httr)\n",
        "library(IRdisplay)\n",
        "\n",
        "use_python(Sys.which(\"python3\"))\n",
        "\n",
        "aiplatform <- import(\"google.cloud.aiplatform\")"
      ]
    },
    {
      "cell_type": "markdown",
      "metadata": {
        "id": "530680373055"
      },
      "source": [
        "### Initialize Vertex AI SDK for Python\n",
        "\n",
        "Initialize the Vertex AI SDK for Python for your project and corresponding bucket."
      ]
    },
    {
      "cell_type": "code",
      "execution_count": null,
      "metadata": {
        "id": "39cc83ec6368"
      },
      "outputs": [],
      "source": [
        "aiplatform$init(project = PROJECT_ID, location = REGION, staging_bucket = BUCKET_URI)"
      ]
    },
    {
      "cell_type": "markdown",
      "metadata": {
        "id": "05f72278fae7"
      },
      "source": [
        "## Introduction to Google Artifact Registry\n",
        "\n",
        "The `Google Artifact Registry` is a service for storing and managing artifacts in private repositories, including container images, Helm charts, and language packages. It is the recommended container image registry for Google Cloud.\n",
        "\n",
        "Learn more about [Quick start for Docker](https://cloud.google.com/artifact-registry/docs/docker/quickstart)"
      ]
    },
    {
      "cell_type": "markdown",
      "metadata": {
        "id": "350a2d02c888"
      },
      "source": [
        "### Enable Artifact Registry API\n",
        "\n",
        "First, you must enable the Artifact Registry API service for your project.\n",
        "\n",
        "Learn more about [Enabling service](https://cloud.google.com/artifact-registry/docs/enable-service)."
      ]
    },
    {
      "cell_type": "code",
      "execution_count": null,
      "metadata": {
        "id": "f41c96b6e892"
      },
      "outputs": [],
      "source": [
        "sh(\"gcloud services enable artifactregistry.googleapis.com\")"
      ]
    },
    {
      "cell_type": "markdown",
      "metadata": {
        "id": "77f8109061ac"
      },
      "source": [
        "## Create a private Docker repository\n",
        "\n",
        "Your first step is to create your own Docker repository in Google Artifact Registry.\n",
        "\n",
        "1. Run the `gcloud artifacts repositories create` command to create a new Docker repository with your region with the description \"docker repository\".\n",
        "\n",
        "2. Run the `gcloud artifacts repositories list` command to verify that your repository was created."
      ]
    },
    {
      "cell_type": "code",
      "execution_count": null,
      "metadata": {
        "id": "8edf09af3af7"
      },
      "outputs": [],
      "source": [
        "PRIVATE_REPO < -\"my-docker-repo\"\n",
        "\n",
        "sh(\n",
        "    'gcloud artifacts repositories create {PRIVATE_REPO} --repository-format=docker --location={REGION} --description=\"Docker repository\"'\n",
        ")\n",
        "\n",
        "sh(\"gcloud artifacts repositories list\")"
      ]
    },
    {
      "cell_type": "markdown",
      "metadata": {
        "id": "cbf833c64f3b"
      },
      "source": [
        "### Configure authentication to your private repo\n",
        "\n",
        "Before you push or pull container images, configure Docker to use the `gcloud` command-line tool to authenticate requests to `Artifact Registry` for your region."
      ]
    },
    {
      "cell_type": "code",
      "execution_count": null,
      "metadata": {
        "id": "e09e73499933"
      },
      "outputs": [],
      "source": [
        "sh(\"gcloud auth configure-docker {REGION}-docker.pkg.dev --quiet\")"
      ]
    },
    {
      "cell_type": "markdown",
      "metadata": {
        "id": "d6b87b7ace12"
      },
      "source": [
        "### Create Dockerfile\n",
        "\n",
        "The docker file for your custom container is built on top of the Deep Learning container -- the same container that is also used for Vertex AI Workbench. In addition, you add two R scripts for model training and serving, respectively."
      ]
    },
    {
      "cell_type": "code",
      "execution_count": null,
      "metadata": {
        "id": "d2b4a17dd9aa"
      },
      "outputs": [],
      "source": [
        "IMAGE_NAME < -\"vertex-r\"  # @param {type:\"string\"}\n",
        "IMAGE_TAG < -\"latest\"  # @param {type:\"string\"}\n",
        "IMAGE_URI < -glue(\n",
        "    \"{REGION}-docker.pkg.dev/{PROJECT_ID}/{PRIVATE_REPO}/{IMAGE_NAME}:{IMAGE_TAG}\"\n",
        ")\n",
        "\n",
        "dir.create(\"src\", showWarnings=FALSE)"
      ]
    },
    {
      "cell_type": "code",
      "execution_count": null,
      "metadata": {
        "id": "34ccf288f715"
      },
      "outputs": [],
      "source": [
        "Dockerfile = cat(\"\n",
        "# filename: Dockerfile - container specifications for using R in Vertex AI\n",
        "FROM gcr.io/deeplearning-platform-release/r-cpu.4-1:latest\n",
        "\n",
        "WORKDIR /root\n",
        "\n",
        "COPY train.R /root/train.R\n",
        "COPY serve.R /root/serve.R\n",
        "\n",
        "# Install Fortran\n",
        "RUN apt-get update\n",
        "RUN apt-get install gfortran -yy\n",
        "\n",
        "# Install R packages\n",
        "RUN Rscript -e \\\"install.packages('plumber')\\\"\n",
        "RUN Rscript -e \\\"install.packages('randomForest')\\\"\n",
        "\n",
        "EXPOSE 8080\n",
        "\", file = \"src/Dockerfile\")\n",
        "\n",
        "display_file(\"src/Dockerfile\")"
      ]
    },
    {
      "cell_type": "markdown",
      "metadata": {
        "id": "eeac0887873f"
      },
      "source": [
        "### Create the training script\n",
        "\n",
        "Next, create the file `train.R`, which is used to train your R model. The script trains a `randomForest` model on the California Housing dataset. Vertex AI sets environment variables that you can utilize, and since this script uses a Vertex AI managed dataset, data splits are performed by Vertex AI and the script receives environment variables pointing to the training, test, and validation sets.\n",
        "\n",
        "The trained model artifacts are then stored to your Cloud Storage bucket."
      ]
    },
    {
      "cell_type": "code",
      "execution_count": null,
      "metadata": {
        "id": "f04bb87dbcea"
      },
      "outputs": [],
      "source": [
        "cat('\n",
        "#!/usr/bin/env Rscript\n",
        "# filename: train.R - train a Random Forest model on Vertex AI Managed Dataset\n",
        "library(tidyverse)\n",
        "library(data.table)\n",
        "library(randomForest)\n",
        "Sys.getenv()\n",
        "\n",
        "# The GCP Project ID\n",
        "project_id <- Sys.getenv(\"CLOUD_ML_PROJECT_ID\")\n",
        "\n",
        "# The GCP Region\n",
        "location <- Sys.getenv(\"CLOUD_ML_REGION\")\n",
        "\n",
        "# The Cloud Storage URI to upload the trained model artifact to\n",
        "model_dir <- Sys.getenv(\"AIP_MODEL_DIR\")\n",
        "\n",
        "# Next, you create directories to download our training, validation, and test set into.\n",
        "dir.create(\"training\")\n",
        "dir.create(\"validation\")\n",
        "dir.create(\"test\")\n",
        "\n",
        "# You download the Vertex AI managed data sets into the container environment locally.\n",
        "system2(\"gsutil\", c(\"cp\", Sys.getenv(\"AIP_TRAINING_DATA_URI\"), \"training/\"))\n",
        "system2(\"gsutil\", c(\"cp\", Sys.getenv(\"AIP_VALIDATION_DATA_URI\"), \"validation/\"))\n",
        "system2(\"gsutil\", c(\"cp\", Sys.getenv(\"AIP_TEST_DATA_URI\"), \"test/\"))\n",
        "\n",
        "# For each data set, you may receive one or more CSV files that you will read into data frames.\n",
        "training_df <- list.files(\"training\", full.names = TRUE) %>% map_df(~fread(.))\n",
        "validation_df <- list.files(\"validation\", full.names = TRUE) %>% map_df(~fread(.))\n",
        "test_df <- list.files(\"test\", full.names = TRUE) %>% map_df(~fread(.))\n",
        "\n",
        "print(\"Starting Model Training\")\n",
        "rf <- randomForest(median_house_value ~ ., data=training_df, ntree=100)\n",
        "rf\n",
        "\n",
        "saveRDS(rf, \"rf.rds\")\n",
        "system2(\"gsutil\", c(\"cp\", \"rf.rds\", model_dir))\n",
        "', file = \"src/train.R\")\n",
        "\n",
        "display_file(\"src/train.R\")"
      ]
    },
    {
      "cell_type": "markdown",
      "metadata": {
        "id": "51c013e169a7"
      },
      "source": [
        "### Create the serving script\n",
        "\n",
        "Next, create the file `serve.R`, which is used for serving your R model. The script downloads the model artifact from Cloud Storage, loads the model artifacts, and listens for prediction requests on port `8080`."
      ]
    },
    {
      "cell_type": "code",
      "execution_count": null,
      "metadata": {
        "id": "7e9d6b6cc920"
      },
      "outputs": [],
      "source": [
        "cat('\n",
        "#!/usr/bin/env Rscript\n",
        "# filename: serve.R - serve predictions from a Random Forest model\n",
        "Sys.getenv()\n",
        "library(plumber)\n",
        "\n",
        "system2(\"gsutil\", c(\"cp\", \"-r\", Sys.getenv(\"AIP_STORAGE_URI\"), \".\"))\n",
        "system(\"du -a .\")\n",
        "\n",
        "rf <- readRDS(\"artifacts/rf.rds\")\n",
        "library(randomForest)\n",
        "\n",
        "predict_route <- function(req, res) {\n",
        "    print(\"Handling prediction request\")\n",
        "    df <- as.data.frame(req$body$instances)\n",
        "    preds <- predict(rf, df)\n",
        "    return(list(predictions=preds))\n",
        "}\n",
        "\n",
        "print(\"Staring Serving\")\n",
        "\n",
        "pr() %>%\n",
        "    pr_get(Sys.getenv(\"AIP_HEALTH_ROUTE\"), function() \"OK\") %>%\n",
        "    pr_post(Sys.getenv(\"AIP_PREDICT_ROUTE\"), predict_route) %>%\n",
        "    pr_run(host = \"0.0.0.0\", port=as.integer(Sys.getenv(\"AIP_HTTP_PORT\", 8080)))\n",
        "', file = \"src/serve.R\")\n",
        "\n",
        "display_file(\"src/serve.R\")"
      ]
    },
    {
      "cell_type": "markdown",
      "metadata": {
        "id": "41d24ed533ba"
      },
      "source": [
        "### Build the Docker container\n",
        "\n",
        "Next, you build the Docker container image on Cloud Build -- the serverless CI/CD platform.\n",
        "\n",
        "*Note:* Building the Docker container image may take 10 to 15 minutes."
      ]
    },
    {
      "cell_type": "code",
      "execution_count": null,
      "metadata": {
        "id": "ace815c9f5c9"
      },
      "outputs": [],
      "source": [
        "sh(\"cd src && gcloud builds submit --region={REGION} --tag={IMAGE_URI} --timeout=1h\")"
      ]
    },
    {
      "cell_type": "markdown",
      "metadata": {
        "id": "67e1cccd840f"
      },
      "source": [
        "## Create Vertex AI Managed Dataset\n",
        "\n",
        "You create a Vertex AI Managed dataset to have Vertex AI take care of the data set split. This is optional, and alternatively you may want to pass the URI to the data set via environment variables."
      ]
    },
    {
      "cell_type": "code",
      "execution_count": null,
      "metadata": {
        "id": "e9f13c135b82"
      },
      "outputs": [],
      "source": [
        "data_uri <- \"gs://cloud-samples-data/ai-platform-unified/datasets/tabular/california-housing-tabular-regression.csv\"\n",
        "\n",
        "dataset <- aiplatform$TabularDataset$create(\n",
        "    display_name = \"California Housing Dataset\",\n",
        "    gcs_source = data_uri\n",
        ")"
      ]
    },
    {
      "cell_type": "markdown",
      "metadata": {
        "id": "25c5c9e52add"
      },
      "source": [
        "## Create a Vertex AI custom training job\n",
        "\n",
        "The custom training job wraps the training process by creating an instance of your container image and executing `train.R` for model training and `serve.R` for model serving.\n",
        "\n",
        "*Note:* You use the same custom container for both training and serving."
      ]
    },
    {
      "cell_type": "code",
      "execution_count": null,
      "metadata": {
        "id": "4d299867e2bf"
      },
      "outputs": [],
      "source": [
        "job <- aiplatform$CustomContainerTrainingJob(\n",
        "    display_name = \"vertex-r\",\n",
        "    container_uri = IMAGE_URI,\n",
        "    command = c(\"Rscript\", \"train.R\"),\n",
        "    model_serving_container_command = c(\"Rscript\", \"serve.R\"),\n",
        "    model_serving_container_image_uri = IMAGE_URI\n",
        ")"
      ]
    },
    {
      "cell_type": "markdown",
      "metadata": {
        "id": "1ba72747b37a"
      },
      "source": [
        "### Execute the custom training job\n",
        "\n",
        "\n",
        "To train the model, you call the method `run()`, with a machine type that is sufficient in resources to train a machine learning model on your dataset. For this tutorial, you use a `n1-standard-4` VM instance."
      ]
    },
    {
      "cell_type": "code",
      "execution_count": null,
      "metadata": {
        "id": "d92f97a83540"
      },
      "outputs": [],
      "source": [
        "model <- job$run(\n",
        "    dataset=dataset,\n",
        "    model_display_name = \"vertex-r-model\",\n",
        "    machine_type = \"n1-standard-4\"\n",
        ")\n",
        "\n",
        "model$display_name\n",
        "model$resource_name\n",
        "model$uri"
      ]
    },
    {
      "cell_type": "markdown",
      "metadata": {
        "id": "408dddcca33b"
      },
      "source": [
        "## Creating an `Endpoint` resource\n",
        "\n",
        "You create an `Endpoint` resource using the `Endpoint.create()` method. At a minimum, you specify the display name for the endpoint. Optionally, you can specify the project and location (region); otherwise the settings are inherited by the values you set when you initialized the Vertex AI SDK with the `init()` method.\n",
        "\n",
        "In this example, the following parameters are specified:\n",
        "\n",
        "- `display_name`: A human readable name for the `Endpoint` resource.\n",
        "- `project`: Your project ID.\n",
        "- `location`: Your region.\n",
        "- `labels`: (optional) User defined metadata for the `Endpoint` in the form of key/value pairs.\n",
        "\n",
        "This method returns an `Endpoint` object.\n",
        "\n",
        "Learn more about [Vertex AI Endpoints](https://cloud.google.com/vertex-ai/docs/predictions/deploy-model-api)."
      ]
    },
    {
      "cell_type": "code",
      "execution_count": null,
      "metadata": {
        "id": "20bd777c0e1b"
      },
      "outputs": [],
      "source": [
        "endpoint <- aiplatform$Endpoint$create(\n",
        "    display_name = \"California Housing Endpoint\",\n",
        "    project = PROJECT_ID,\n",
        "    location = REGION\n",
        ")\n",
        "\n",
        "endpoint"
      ]
    },
    {
      "cell_type": "markdown",
      "metadata": {
        "id": "9bf06ce1174f"
      },
      "source": [
        "## Deploying `Model` resources to an `Endpoint` resource.\n",
        "\n",
        "You can deploy one of more `Vertex AI Model` resource instances to the same endpoint. Each `Vertex AI Model` resource that is deployed will have its own deployment container for the serving binary. \n",
        "\n",
        "Next, you deploy the `Vertex AI Model` resource to a `Vertex AI Endpoint` resource. The `Vertex AI Model` resource already has defined for it the deployment container image. To deploy, you specify the following additional configuration settings:\n",
        "\n",
        "- The machine type.\n",
        "- The (if any) type and number of GPUs.\n",
        "- Static, manual or auto-scaling of VM instances.\n",
        "\n",
        "In this example, you deploy the model with the minimal amount of specified parameters, as follows:\n",
        "\n",
        "- `model`: The `Model` resource.\n",
        "- `deployed_model_displayed_name`: The human readable name for the deployed model instance.\n",
        "- `machine_type`: The machine type for each VM instance.\n",
        "\n",
        "Do to the requirements to provision the resource, this may take upto a few minutes.\n",
        "\n",
        "*Note:* For this example, you specified the R deployment container in the previous step of uploading the model artifacts to a `Vertex AI Model` resource."
      ]
    },
    {
      "cell_type": "code",
      "execution_count": null,
      "metadata": {
        "id": "c842934f319e"
      },
      "outputs": [],
      "source": [
        "model$deploy(endpoint = endpoint, machine_type = \"n1-standard-4\")"
      ]
    },
    {
      "cell_type": "markdown",
      "metadata": {
        "id": "c6e4ff10dedc"
      },
      "source": [
        "### Test the deployed model\n",
        "\n",
        "Now that your `Model` resource is deployed to an `Endpoint` resource, you can do online predictions by sending prediction requests to the Endpoint resource.\n",
        "\n",
        "#### Create example data\n",
        "\n",
        "First, you create some example data to test making a prediction request to your deployed model. You use five JSON-encoded example data points (without the label `median_house_value`) from the original data file in `data_uri`.\n"
      ]
    },
    {
      "cell_type": "code",
      "execution_count": null,
      "metadata": {
        "id": "adad8ed75fed"
      },
      "outputs": [],
      "source": [
        "df <- read.csv(text=sh(\"gsutil cat {data_uri}\", intern = TRUE))\n",
        "head(df, 5)\n",
        "\n",
        "instances = list(instances=head(df[, names(df) != \"median_house_value\"], 5))\n",
        "instances\n",
        "\n",
        "json_instances = toJSON(instances)\n",
        "json_instances"
      ]
    },
    {
      "cell_type": "markdown",
      "metadata": {
        "id": "da2c2808187d"
      },
      "source": [
        "#### Make a prediction request\n",
        "\n",
        "Finally, you make a prediction request with your example data. In this example, you use the REST API (e.g., Curl) to make the prediction request."
      ]
    },
    {
      "cell_type": "code",
      "execution_count": null,
      "metadata": {
        "id": "d7dcdfc50799"
      },
      "outputs": [],
      "source": [
        "url < -glue(\n",
        "    \"https://{REGION}-aiplatform.googleapis.com/v1/{endpoint$resource_name}:predict\"\n",
        ")\n",
        "access_token < -sh(\"gcloud auth print-access-token\", intern=TRUE)\n",
        "\n",
        "sh(\n",
        "    \"curl\",\n",
        "    c(\n",
        "        \"--tr-encoding\",\n",
        "        \"-s\",\n",
        "        \"-X POST\",\n",
        "        glue(\"-H 'Authorization: Bearer {access_token}'\"),\n",
        "        \"-H 'Content-Type: application/jsoin'\",\n",
        "        url,\n",
        "        glue(\"-d {json_instances}\"),\n",
        "    ),\n",
        ")"
      ]
    },
    {
      "cell_type": "markdown",
      "metadata": {
        "id": "2a5c78f94179"
      },
      "source": [
        "## Clean up\n",
        "\n",
        "To clean up all Google Cloud resources used in this project, you can [delete the Google Cloud\n",
        "project](https://cloud.google.com/resource-manager/docs/creating-managing-projects#shutting_down_projects) you used for the tutorial.\n",
        "\n",
        "Otherwise, you can delete the individual resources you created in this tutorial."
      ]
    },
    {
      "cell_type": "code",
      "execution_count": null,
      "metadata": {
        "id": "f7aa1bcf2cc3"
      },
      "outputs": [],
      "source": [
        "delete_bucket = FALSE\n",
        "\n",
        "endpoint$undeploy_all()\n",
        "endpoint$delete()\n",
        "dataset$delete()\n",
        "model$delete()\n",
        "job$delete()\n",
        "\n",
        "sh(\"rm -rf src\")\n",
        "\n",
        "# remove Docker image\n",
        "sh(\"docker rmi {IMAGE_URI}\")\n",
        "\n",
        "if (delete_bucket == TRUE) sh(\"gsutil -m rm -r {BUCKET_URI}\")"
      ]
    }
  ],
  "metadata": {
    "colab": {
      "collapsed_sections": [],
      "name": "get_started_vertex_training_r_using_r_kernel.ipynb",
      "toc_visible": true
    },
    "kernelspec": {
      "display_name": "Python 3",
      "name": "python3"
    }
  },
  "nbformat": 4,
  "nbformat_minor": 0
}
