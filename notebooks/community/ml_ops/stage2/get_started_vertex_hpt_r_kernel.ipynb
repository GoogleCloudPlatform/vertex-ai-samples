{
  "cells": [
    {
      "cell_type": "code",
      "execution_count": null,
      "metadata": {
        "id": "ur8xi4C7S06n"
      },
      "outputs": [],
      "source": [
        "# Copyright 2022 Google LLC\n",
        "#\n",
        "# Licensed under the Apache License, Version 2.0 (the \"License\");\n",
        "# you may not use this file except in compliance with the License.\n",
        "# You may obtain a copy of the License at\n",
        "#\n",
        "#     https://www.apache.org/licenses/LICENSE-2.0\n",
        "#\n",
        "# Unless required by applicable law or agreed to in writing, software\n",
        "# distributed under the License is distributed on an \"AS IS\" BASIS,\n",
        "# WITHOUT WARRANTIES OR CONDITIONS OF ANY KIND, either express or implied.\n",
        "# See the License for the specific language governing permissions and\n",
        "# limitations under the License."
      ]
    },
    {
      "cell_type": "markdown",
      "metadata": {
        "id": "e3ba05e16cf2"
      },
      "source": [
        "This notebook is an updated version of a notebook contributed by [Fabian Hirschmann](https://github.com/fhirschmann) and [Rajesh Thallam](https://github.com/RajeshThallam)."
      ]
    },
    {
      "cell_type": "markdown",
      "metadata": {
        "id": "JAPoU8Sm5E6e"
      },
      "source": [
        "# Vertex AI Hyperparameter Tuning with R kernel\n",
        "\n",
        "<table align=\"left\">\n",
        "\n",
        "  <td>\n",
        "    <a href=\"https://colab.sandbox.google.com/github/vertex-ai-samples/blob/main/notebooks/community/ml_ops/stage2/get_started_vertex_hpt_r_kernel.ipynb\">\n",
        "      <img src=\"https://cloud.google.com/ml-engine/images/colab-logo-32px.png\" alt=\"Colab logo\"> Run in Colab\n",
        "    </a>\n",
        "  </td>\n",
        "  <td>\n",
        "<a href=https://github.com/GoogleCloudPlatform/vertex-ai-samples/blob/main/notebooks/community/ml_ops/stage2/get_started_vertex_hpt_r_kernel.ipynb target='_blank'>",
        "      <img src=\"https://cloud.google.com/ml-engine/images/github-logo-32px.png\" alt=\"GitHub logo\">\n",
        "      View on GitHub\n",
        "    </a>\n",
        "  </td>\n",
        "  <td>\n",
        "    <a href=\"https://console.cloud.google.com/vertex-ai/workbench/deploy-notebook?download_url=https://raw.githubusercontent.com/GoogleCloudPlatform/vertex-ai-samples/main/notebooks/community/ml_ops/stage2/get_started_vertex_hpt_r_kernel.ipynb\">\n",
        "      <img src=\"https://lh3.googleusercontent.com/UiNooY4LUgW_oTvpsNhPpQzsstV5W8F7rYgxgGBD85cWJoLmrOzhVs_ksK_vgx40SHs7jCqkTkCk=e14-rj-sc0xffffff-h130-w32\" alt=\"Vertex AI logo\">\n",
        "      Open in Vertex AI Workbench\n",
        "    </a>\n",
        "  </td>                                                                                        \n",
        "</table>"
      ]
    },
    {
      "cell_type": "markdown",
      "metadata": {
        "id": "b38f8b26543b"
      },
      "source": [
        "## Overview\n",
        "\n",
        "This example demonstrates how to perform hyperparameter tuning of models written in R with `Vertex AI` using an R kernel -- such as in `Vertex AI Workbench Notebooks`."
      ]
    },
    {
      "cell_type": "markdown",
      "metadata": {
        "id": "8ff911b16296"
      },
      "source": [
        "### Objective\n",
        "\n",
        "In this tutorial, you learn how to use `Vertex AI`, using an R kernel, for tuning hyperparameters of a R custom model.\n",
        "\n",
        "This tutorial uses the following Google Cloud ML services:\n",
        "\n",
        "- `Vertex AI Training`\n",
        "- `Vertex AI Prediction`\n",
        "- `Vertex AI Model` resource\n",
        "- `Vertex AI Endpoint` resource\n",
        "\n",
        "The steps performed include:\n",
        "\n",
        "- Create a custom R training script\n",
        "- Create a custom R deployment container.\n",
        "- Perform hyperparameter tuning using `Vertex AI`."
      ]
    },
    {
      "cell_type": "markdown",
      "metadata": {
        "id": "tvgnzT1CKxrO"
      },
      "source": [
        "### Dataset\n",
        "\n",
        "The dataset used for this tutorial is [California Housing Dataset](https://www.dcc.fc.up.pt/~ltorgo/Regression/cal_housing.html). The data contains information from the 1990 California census. The data set is publicly available from Cloud Storage at `gs://cloud-samples-data/ai-platform-unified/datasets/tabular/california-housing-tabular-regression.csv`. The dataset is used to train a Random Forest regressor to predict a median housing price, given a longitude and lattitude along with data from the corresponding census block group. A block group is the smallest geographical unit for which the U.S. Census Bureau publishes sample data (a block group typically has a population of 600 to 3,000 people)."
      ]
    },
    {
      "cell_type": "markdown",
      "metadata": {
        "id": "de76bb18c85b"
      },
      "source": [
        "### Costs \n",
        "\n",
        "This tutorial uses billable components of Google Cloud:\n",
        "\n",
        "* Vertex AI\n",
        "* Cloud Storage\n",
        "\n",
        "Learn about [Vertex AI\n",
        "pricing](https://cloud.google.com/vertex-ai/pricing) and [Cloud Storage\n",
        "pricing](https://cloud.google.com/storage/pricing), and use the [Pricing\n",
        "Calculator](https://cloud.google.com/products/calculator/)\n",
        "to generate a cost estimate based on your projected usage."
      ]
    },
    {
      "cell_type": "markdown",
      "metadata": {
        "id": "ze4-nDLfK4pw"
      },
      "source": [
        "### Set up your local development environment\n",
        "\n",
        "**If you are using Colab or Vertex AI Workbench Notebooks**, your environment already meets\n",
        "all the requirements to run this notebook. You can skip this step."
      ]
    },
    {
      "cell_type": "markdown",
      "metadata": {
        "id": "gCuSR8GkAgzl"
      },
      "source": [
        "**Otherwise**, make sure your environment meets this notebook's requirements.\n",
        "You need the following:\n",
        "\n",
        "* The Google Cloud SDK\n",
        "* Git\n",
        "* R\n",
        "* Python 3\n",
        "* virtualenv\n",
        "* Jupyter notebook running in a virtual environment with R and Python 3\n",
        "\n",
        "The Cloud Storage guide to [Setting up a Python development environment](https://cloud.google.com/python/setup) and the [Jupyter installation guide](https://jupyter.org/install) provide detailed instructions for meeting these requirements. The following steps provide a condensed set of instructions:\n",
        "\n",
        "1. [Install and initialize the SDK](https://cloud.google.com/sdk/docs/).\n",
        "\n",
        "2. [Install R]().\n",
        "\n",
        "3. [Install virtualenv](https://cloud.google.com/python/setup#installing_and_using_virtualenv) and create a virtual environment that uses R.  Activate the virtual environment.\n",
        "\n",
        "4. To install Jupyter, run `pip3 install jupyter` on the command-line in a terminal shell.\n",
        "\n",
        "5. To launch Jupyter, run `jupyter notebook` on the command-line in a terminal shell.\n",
        "\n",
        "6. Open this notebook in the Jupyter Notebook Dashboard.\n"
      ]
    },
    {
      "cell_type": "markdown",
      "metadata": {
        "id": "06f5a76b4348"
      },
      "source": [
        "#### Define helper functions for this Notebook\n",
        "\n",
        "First, you define some helper functions used throughout this tutorial.\n",
        "\n",
        "- `sh`: Executes the specified command shell.\n",
        "- `display_file`: Displays the contents of the specified file."
      ]
    },
    {
      "cell_type": "code",
      "execution_count": null,
      "metadata": {
        "id": "863da1f51894"
      },
      "outputs": [],
      "source": [
        "library(glue)\n",
        "library(IRdisplay)\n",
        "\n",
        "sh <- function(cmd, args = c(), intern = FALSE) {\n",
        "    if (is.null(args)) {\n",
        "        cmd <- glue(cmd)\n",
        "        s <- strsplit(cmd, \" \")[[1]]\n",
        "        cmd <- s[1]\n",
        "        args <- s[2:length(s)]\n",
        "    }\n",
        "    ret <- system2(cmd, args, stdout = TRUE, stderr = TRUE)\n",
        "    if (\"errmsg\" %in% attributes(attributes(ret))$names) cat(attr(ret, \"errmsg\"), \"\\n\")\n",
        "    if (intern) return(ret) else cat(paste(ret, collapse = \"\\n\"))\n",
        "}\n",
        "\n",
        "display_file <- function(filename) {\n",
        "    body <- sh(glue(\"pygmentize -g {filename} -f html -P full -O style=default\"), intern = TRUE)\n",
        "    IRdisplay::display_html(paste(\"<div style='text-align: left'>\", paste(body, collapse=\"\\n\"), \"</div>\", collapse=\"\\n\"))\n",
        "}"
      ]
    },
    {
      "cell_type": "markdown",
      "metadata": {
        "id": "70807819d50b"
      },
      "source": [
        "## Installation\n",
        "\n",
        "Install the following packages to execute this notebook."
      ]
    },
    {
      "cell_type": "code",
      "execution_count": null,
      "metadata": {
        "id": "9ddc1f185b04"
      },
      "outputs": [],
      "source": [
        "required_packages < -c(\"reticulate\", \"glue\", \"httr\")\n",
        "install.packages(setdiff(required_packages, rownames(installed.packages())))\n",
        "\n",
        "sh(\"pip install --upgrade google-cloud-aiplatform\")"
      ]
    },
    {
      "cell_type": "markdown",
      "metadata": {
        "id": "lWEdiXsJg0XY"
      },
      "source": [
        "## Before you begin"
      ]
    },
    {
      "cell_type": "markdown",
      "metadata": {
        "id": "BF1j6f9HApxa"
      },
      "source": [
        "### Set up your Google Cloud project\n",
        "\n",
        "**The following steps are required, regardless of your notebook environment.**\n",
        "\n",
        "1. [Select or create a Google Cloud project](https://console.cloud.google.com/cloud-resource-manager). When you first create an account, you get a $300 free credit towards your compute/storage costs.\n",
        "\n",
        "1. [Make sure that billing is enabled for your project](https://cloud.google.com/billing/docs/how-to/modify-project).\n",
        "\n",
        "1. [Enable the Vertex AI API](https://console.cloud.google.com/flows/enableapi?apiid=aiplatform.googleapis.com) and the [Artifact Registry API](https://console.cloud.google.com/flows/enableapi?apiid=artifactregistry.googleapis.com).\n",
        "\n",
        "1. If you are running this notebook locally, you will need to install the [Cloud SDK](https://cloud.google.com/sdk).\n",
        "\n",
        "1. Have the project ID autodetected or enter it below. Then run the cell to make sure the\n",
        "Cloud SDK uses the right project for all the commands in this notebook."
      ]
    },
    {
      "cell_type": "markdown",
      "metadata": {
        "id": "WReHDGG5g0XY"
      },
      "source": [
        "#### Set your project ID\n",
        "\n",
        "**If you don't know your project ID**, you may be able to get your project ID using `gcloud`."
      ]
    },
    {
      "cell_type": "code",
      "execution_count": null,
      "metadata": {
        "id": "095b71d07b73"
      },
      "outputs": [],
      "source": [
        "PROJECT_ID < -\"[your-project-id]\"  # @param {type:\"string\"}"
      ]
    },
    {
      "cell_type": "code",
      "execution_count": null,
      "metadata": {
        "id": "86deb10cfd16"
      },
      "outputs": [],
      "source": [
        "# Get your Google Cloud project ID from gcloud\n",
        "if (Sys.getenv(\"IS_TESTING\") == \"\") {\n",
        "    if (PROJECT_ID == \"[your-project-id]\") {\n",
        "      PROJECT_ID <- sh(\"gcloud config list --format 'value(core.project)' 2>/dev/null\", intern = TRUE)\n",
        "    }\n",
        "    cat(\"Project ID:\", PROJECT_ID, \"\\n\")\n",
        "}"
      ]
    },
    {
      "cell_type": "code",
      "execution_count": null,
      "metadata": {
        "id": "91dd1d99b257"
      },
      "outputs": [],
      "source": [
        "sh(\"gcloud config set project {PROJECT_ID}\")"
      ]
    },
    {
      "cell_type": "markdown",
      "metadata": {
        "id": "88dd74c4c84e"
      },
      "source": [
        "#### Region\n",
        "\n",
        "You can also change the `REGION` variable, which is used for operations\n",
        "throughout the rest of this notebook.  Below are regions supported for Vertex AI. We recommend that you choose the region closest to you.\n",
        "\n",
        "- Americas: `us-central1`\n",
        "- Europe: `europe-west4`\n",
        "- Asia Pacific: `asia-east1`\n",
        "\n",
        "You may not use a multi-regional bucket for training with Vertex AI. Not all regions provide support for all Vertex AI services.\n",
        "\n",
        "Learn more about [Vertex AI regions](https://cloud.google.com/vertex-ai/docs/general/locations)."
      ]
    },
    {
      "cell_type": "code",
      "execution_count": null,
      "metadata": {
        "id": "6e7cff94d9fe"
      },
      "outputs": [],
      "source": [
        "REGION <- \"[your-region]\"  # @param {type: \"string\"}\n",
        "\n",
        "if (REGION == \"[your-region]\") {\n",
        "    REGION <- \"us-central1\"\n",
        "}"
      ]
    },
    {
      "cell_type": "markdown",
      "metadata": {
        "id": "06571eb4063b"
      },
      "source": [
        "#### Timestamp\n",
        "\n",
        "If you are in a live tutorial session, you might be using a shared test account or project. To avoid name collisions between users on resources created, you create a timestamp for each instance session, and append it onto the name of resources you create in this tutorial."
      ]
    },
    {
      "cell_type": "code",
      "execution_count": null,
      "metadata": {
        "id": "697568e92bd6"
      },
      "outputs": [],
      "source": [
        "TIMESTAMP = format(Sys.time(), \"%Y%m%d%H%M%S\")"
      ]
    },
    {
      "cell_type": "markdown",
      "metadata": {
        "id": "sBCra4QMA2wR"
      },
      "source": [
        "### Authenticate your Google Cloud account\n",
        "\n",
        "**If you are using Vertex AI Workbench Notebooks**, your environment is already\n",
        "authenticated. Skip this step.\n",
        "\n",
        "**If you are using Colab**, run the cell below and follow the instructions\n",
        "when prompted to authenticate your account via oAuth.\n",
        "\n",
        "**Otherwise**, follow these steps:\n",
        "\n",
        "1. In the Cloud Console, go to the [**Create service account key**\n",
        "   page](https://console.cloud.google.com/apis/credentials/serviceaccountkey).\n",
        "\n",
        "2. Click **Create service account**.\n",
        "\n",
        "3. In the **Service account name** field, enter a name, and\n",
        "   click **Create**.\n",
        "\n",
        "4. In the **Grant this service account access to project** section, click the **Role** drop-down list. Type \"Vertex AI\"\n",
        "into the filter box, and select\n",
        "   **Vertex AI Administrator**. Type \"Storage Object Admin\" into the filter box, and select **Storage Object Admin**.\n",
        "\n",
        "5. Click *Create*. A JSON file that contains your key downloads to your\n",
        "local environment.\n",
        "\n",
        "6. Enter the path to your service account key as the\n",
        "`GOOGLE_APPLICATION_CREDENTIALS` variable in the cell below and run the cell."
      ]
    },
    {
      "cell_type": "code",
      "execution_count": null,
      "metadata": {
        "id": "60ba8e2386e8"
      },
      "outputs": [],
      "source": [
        "# The Google Cloud Notebook product has specific requirements\n",
        "IS_WORKBENCH_NOTEBOOK <- file.exists(\"/opt/deeplearning/metadata/env_version\")\n",
        "IS_GOOGLE_COLAB <- (system(\"python -c 'import google.colab'\") != 0)\n",
        "\n",
        "GOOGLE_APPLICATION_CREDENTIALS <- \"\"  # @param {type:\"string\"}\n",
        "\n",
        "# If on Vertex AI Workbench Notebooks, then don't execute this code\n",
        "if (!IS_WORKBENCH_NOTEBOOK) {\n",
        "    # Replace the string below with the path to your service account key and run this cell\n",
        "    # to authenticate your GCP account.\n",
        "    Sys.setenv(\"GOOGLE_APPLICATION_CREDENTIALS\" = GOOGLE_APPLICATION_CREDENTIALS)\n",
        "}"
      ]
    },
    {
      "cell_type": "markdown",
      "metadata": {
        "id": "zgPO1eR3CYjk"
      },
      "source": [
        "### Create a Cloud Storage bucket\n",
        "\n",
        "**The following steps are required, regardless of your notebook environment.**\n",
        "\n",
        "When you initialize the Vertex AI SDK for Python, you specify a Cloud Storage staging bucket. The staging bucket is where all the data associated with your dataset and model resources are retained across sessions.\n",
        "\n",
        "Set the name of your Cloud Storage bucket below. Bucket names must be globally unique across all Google Cloud projects, including those outside of your organization."
      ]
    },
    {
      "cell_type": "code",
      "execution_count": null,
      "metadata": {
        "id": "MzGDU7TWdts_"
      },
      "outputs": [],
      "source": [
        "BUCKET_NAME < -\"[your-bucket-name]\"  # @param {type:\"string\"}\n",
        "BUCKET_URI < -paste0(\"gs://\", BUCKET_NAME)"
      ]
    },
    {
      "cell_type": "code",
      "execution_count": null,
      "metadata": {
        "id": "cf221059d072"
      },
      "outputs": [],
      "source": [
        "if (BUCKET_NAME == \"\" || BUCKET_NAME == \"[your-bucket-name]\") {\n",
        "    BUCKET_NAME = paste0(PROJECT_ID, \"aip-\", TIMESTAMP)\n",
        "    BUCKET_URI = paste0(\"gs://\", BUCKET_NAME)\n",
        "}\n",
        "\n",
        "BUCKET_URI"
      ]
    },
    {
      "cell_type": "markdown",
      "metadata": {
        "id": "-EcIXiGsCePi"
      },
      "source": [
        "**Only if your bucket doesn't already exist**: Run the following cell to create your Cloud Storage bucket."
      ]
    },
    {
      "cell_type": "code",
      "execution_count": null,
      "metadata": {
        "id": "NIq7R4HZCfIc"
      },
      "outputs": [],
      "source": [
        "sh(\"gsutil mb -l {REGION} -p {PROJECT_ID} {BUCKET_URI}\")"
      ]
    },
    {
      "cell_type": "markdown",
      "metadata": {
        "id": "ucvCsknMCims"
      },
      "source": [
        "Finally, validate access to your Cloud Storage bucket by examining its contents:"
      ]
    },
    {
      "cell_type": "code",
      "execution_count": null,
      "metadata": {
        "id": "2126ef67e2b8"
      },
      "outputs": [],
      "source": [
        "sh(\"gsutil ls -al {BUCKET_URI}\")"
      ]
    },
    {
      "cell_type": "markdown",
      "metadata": {
        "id": "XoEqT2Y4DJmf"
      },
      "source": [
        "### Import libraries and define constants\n",
        "\n",
        "Import and initialize the `reticulate` R package to interface with the Vertex AI SDK, which is written in Python."
      ]
    },
    {
      "cell_type": "code",
      "execution_count": null,
      "metadata": {
        "id": "pRUOFELefqf1"
      },
      "outputs": [],
      "source": [
        "library(reticulate)\n",
        "library(glue)\n",
        "library(httr)\n",
        "library(IRdisplay)\n",
        "\n",
        "use_python(Sys.which(\"python3\"))\n",
        "\n",
        "aiplatform <- import(\"google.cloud.aiplatform\")"
      ]
    },
    {
      "cell_type": "markdown",
      "metadata": {
        "id": "530680373055"
      },
      "source": [
        "### Initialize Vertex AI SDK for Python\n",
        "\n",
        "Initialize the Vertex AI SDK for Python for your project and corresponding bucket."
      ]
    },
    {
      "cell_type": "code",
      "execution_count": null,
      "metadata": {
        "id": "39cc83ec6368"
      },
      "outputs": [],
      "source": [
        "aiplatform$init(project = PROJECT_ID, location = REGION, staging_bucket = BUCKET_URI)"
      ]
    },
    {
      "cell_type": "markdown",
      "metadata": {
        "id": "05f72278fae7"
      },
      "source": [
        "## Introduction to Google Artifact Registry\n",
        "\n",
        "The `Google Artifact Registry` is a service for storing and managing artifacts in private repositories, including container images, Helm charts, and language packages. It is the recommended container image registry for Google Cloud.\n",
        "\n",
        "Learn more about [Quick start for Docker](https://cloud.google.com/artifact-registry/docs/docker/quickstart)"
      ]
    },
    {
      "cell_type": "markdown",
      "metadata": {
        "id": "350a2d02c888"
      },
      "source": [
        "### Enable Artifact Registry API\n",
        "\n",
        "First, you must enable the Artifact Registry API service for your project.\n",
        "\n",
        "Learn more about [Enabling service](https://cloud.google.com/artifact-registry/docs/enable-service)."
      ]
    },
    {
      "cell_type": "code",
      "execution_count": null,
      "metadata": {
        "id": "f41c96b6e892"
      },
      "outputs": [],
      "source": [
        "sh(\"gcloud services enable artifactregistry.googleapis.com\")"
      ]
    },
    {
      "cell_type": "markdown",
      "metadata": {
        "id": "77f8109061ac"
      },
      "source": [
        "## Create a private Docker repository\n",
        "\n",
        "Your first step is to create your own Docker repository in Google Artifact Registry.\n",
        "\n",
        "1. Run the `gcloud artifacts repositories create` command to create a new Docker repository with your region with the description \"docker repository\".\n",
        "\n",
        "2. Run the `gcloud artifacts repositories list` command to verify that your repository was created."
      ]
    },
    {
      "cell_type": "code",
      "execution_count": null,
      "metadata": {
        "id": "8edf09af3af7"
      },
      "outputs": [],
      "source": [
        "PRIVATE_REPO < -\"my-docker-repo\"\n",
        "\n",
        "sh(\n",
        "    'gcloud artifacts repositories create {PRIVATE_REPO} --repository-format=docker --location={REGION} --description=\"Docker repository\"'\n",
        ")\n",
        "\n",
        "sh(\"gcloud artifacts repositories list\")"
      ]
    },
    {
      "cell_type": "markdown",
      "metadata": {
        "id": "cbf833c64f3b"
      },
      "source": [
        "### Configure authentication to your private repo\n",
        "\n",
        "Before you push or pull container images, configure Docker to use the `gcloud` command-line tool to authenticate requests to `Artifact Registry` for your region."
      ]
    },
    {
      "cell_type": "code",
      "execution_count": null,
      "metadata": {
        "id": "e09e73499933"
      },
      "outputs": [],
      "source": [
        "sh(\"gcloud auth configure-docker {REGION}-docker.pkg.dev --quiet\")"
      ]
    },
    {
      "cell_type": "markdown",
      "metadata": {
        "id": "d6b87b7ace12"
      },
      "source": [
        "### Create Dockerfile\n",
        "\n",
        "The docker file for your custom container is built on top of the Deep Learning container -- the same container that is also used for Vertex AI Workbench. In addition, you add an R script for model training."
      ]
    },
    {
      "cell_type": "code",
      "execution_count": null,
      "metadata": {
        "id": "d2b4a17dd9aa"
      },
      "outputs": [],
      "source": [
        "IMAGE_NAME < -\"vertex-r\"  # @param {type:\"string\"}\n",
        "IMAGE_TAG < -\"latest\"  # @param {type:\"string\"}\n",
        "IMAGE_URI < -glue(\n",
        "    \"{REGION}-docker.pkg.dev/{PROJECT_ID}/{PRIVATE_REPO}/{IMAGE_NAME}:{IMAGE_TAG}\"\n",
        ")\n",
        "\n",
        "dir.create(\"src\", showWarnings=FALSE)"
      ]
    },
    {
      "cell_type": "code",
      "execution_count": null,
      "metadata": {
        "id": "34ccf288f715"
      },
      "outputs": [],
      "source": [
        "Dockerfile = cat(\"\n",
        "# filename: Dockerfile - container specifications for using R in Vertex AI\n",
        "FROM gcr.io/deeplearning-platform-release/r-cpu.4-1:latest\n",
        "\n",
        "WORKDIR /root\n",
        "\n",
        "COPY train.R /root/train.R\n",
        "\n",
        "# Install Fortran\n",
        "RUN apt-get update\n",
        "RUN apt-get install gfortran -yy\n",
        "\n",
        "# Install R packages\n",
        "RUN Rscript -e \\\"install.packages('plumber')\\\"\n",
        "RUN Rscript -e \\\"install.packages('argparser')\\\"\n",
        "RUN Rscript -e \\\"install.packages('gbm')\\\"\n",
        "RUN Rscript -e \\\"install.packages('caret')\\\"\n",
        "RUN Rscript -e \\\"install.packages('reticulate')\\\"\n",
        "\n",
        "RUN pip install cloudml-hypertune\n",
        "\n",
        "EXPOSE 8080\n",
        "\", file = \"src/Dockerfile\")\n",
        "\n",
        "display_file(\"src/Dockerfile\")"
      ]
    },
    {
      "cell_type": "markdown",
      "metadata": {
        "id": "eeac0887873f"
      },
      "source": [
        "### Create the training script\n",
        "\n",
        "Next, create the file `train.R`, which is used to train your R model. The script trains a `gbm` model on the California Housing dataset. Vertex AI sets environment variables that you can utilize, and the hyperparameters for each trial are passed as command line arguments. The trained model artifacts are then stored to your Cloud Storage bucket. The results of your training script are communicated back to Vertex AI using the [hypertune](https://github.com/GoogleCloudPlatform/cloudml-hypertune) package, which stores a JSON file to `/tmp/hypertune/output.metrics`. Vertex AI uses this information to come up with a hyperparameter configuration for the next trial, and to assess which trial was responsible for the best overall result."
      ]
    },
    {
      "cell_type": "code",
      "execution_count": null,
      "metadata": {
        "id": "f04bb87dbcea"
      },
      "outputs": [],
      "source": [
        "cat('\n",
        "#!/usr/bin/env Rscript\n",
        "# filename: train.R - perform hyperparamter tuning on a boosted tree model using Vertex AI\n",
        "\n",
        "Sys.getenv()\n",
        "library(tidyverse)\n",
        "library(data.table)\n",
        "library(argparser)\n",
        "library(jsonlite)\n",
        "library(reticulate)\n",
        "library(caret)\n",
        "\n",
        "# The GCP Project ID\n",
        "project_id <- Sys.getenv(\"CLOUD_ML_PROJECT_ID\")\n",
        "\n",
        "# The GCP Region\n",
        "location <- Sys.getenv(\"CLOUD_ML_REGION\")\n",
        "\n",
        "# The Cloud Storage URI to upload the trained model artifact to\n",
        "model_dir <- Sys.getenv(\"AIP_MODEL_DIR\")\n",
        "\n",
        "# The trial ID\n",
        "trial_id <- Sys.getenv(\"CLOUD_ML_TRIAL_ID\", 0)\n",
        "\n",
        "# The JSON file to save metric results to\n",
        "#metric_file <- Sys.getenv(\"CLOUD_ML_HP_METRIC_FILE\")\n",
        "metric_file <- \"/var/hypertune/output.metrics\"\n",
        "\n",
        "# Hyperparameters for this trial\n",
        "p <- arg_parser(\"California Housing Model\") %>%\n",
        "     add_argument(\"--n.trees\", default = \"100\", help = \"number of trees to fit\", type = \"integer\") %>%\n",
        "     add_argument(\"--interaction.depth\", default = 3, help = \"maximum depth of each tree\") %>%\n",
        "     add_argument(\"--n.minobsinnode\", default = 10, help = \"minimun number of observations in terminal node\") %>%\n",
        "     add_argument(\"--shrinkage\", default = 0.1, help = \"learning rate\") %>%\n",
        "     add_argument(\"--data\", help = \"path to the training data in GCS\")\n",
        "\n",
        "dir.create(\"/tmp/hypertune\")\n",
        "argv <- parse_args(p, unlist(strsplit(commandArgs(trailingOnly = TRUE), \"=\")))\n",
        "\n",
        "system2(\"gsutil\", c(\"cp\", argv$data, \"./data.csv\"))\n",
        "data <- fread(\"data.csv\")\n",
        "print(data)\n",
        "\n",
        "print(\"Starting Model Training\")\n",
        "tuneGrid <- expand.grid(\n",
        "    interaction.depth = as.integer(argv$interaction.depth),\n",
        "    n.trees = as.integer(argv$n.trees),\n",
        "    n.minobsinnode = as.integer(argv$n.minobsinnode),\n",
        "    shrinkage = as.numeric(0.1)\n",
        ")\n",
        "print(tuneGrid)\n",
        "fitControl <- trainControl(method = \"cv\", number = 3)\n",
        "set.seed(42)\n",
        "fit <- train(median_house_value ~ .,\n",
        "             method = \"gbm\",\n",
        "             trControl = fitControl,\n",
        "             tuneGrid = tuneGrid,\n",
        "             metric = \"MAE\",\n",
        "             data = data\n",
        ")\n",
        "\n",
        "mean_absolute_error <- mean(fit$resample$MAE)\n",
        "cat(paste(\"mean absolute error:\", mean_absolute_error, \"\\\\n\"))\n",
        "\n",
        "hypertune <- import(\"hypertune\")\n",
        "hpt = hypertune$HyperTune()\n",
        "hpt$report_hyperparameter_tuning_metric(\n",
        "    hyperparameter_metric_tag = \"mean_absolute_error\",\n",
        "    metric_value = as.numeric(mean_absolute_error),\n",
        "    global_step = 1000)\n",
        "\n",
        "saveRDS(fit$finalModel, \"gbm.rds\")\n",
        "system2(\"gsutil\", c(\"cp\", \"gbm.rds\", model_dir))\n",
        "', file = \"src/train.R\")\n",
        "\n",
        "display_file(\"src/train.R\")"
      ]
    },
    {
      "cell_type": "markdown",
      "metadata": {
        "id": "41d24ed533ba"
      },
      "source": [
        "### Build the Docker container\n",
        "\n",
        "Next, you build the Docker container image on Cloud Build -- the serverless CI/CD platform.\n",
        "\n",
        "*Note:* Building the Docker container image may take 10 to 15 minutes."
      ]
    },
    {
      "cell_type": "code",
      "execution_count": null,
      "metadata": {
        "id": "ace815c9f5c9"
      },
      "outputs": [],
      "source": [
        "sh(\"cd src && gcloud builds submit --region={REGION} --tag={IMAGE_URI} --timeout=1h\")"
      ]
    },
    {
      "cell_type": "markdown",
      "metadata": {
        "id": "382a3adc2c10"
      },
      "source": [
        "### Define and submit hyperparameter tuning job\n",
        "\n",
        "Once your training application is containerized, you define the machine specifications for the tuning job. In this example, you use `n1-standard-4` instances."
      ]
    },
    {
      "cell_type": "code",
      "execution_count": null,
      "metadata": {
        "id": "ac23b9007d5b"
      },
      "outputs": [],
      "source": [
        "worker_pool_specs <- list(\n",
        "    list(\n",
        "        'machine_spec' = list(\n",
        "            'accelerator_count' = as.integer(0),\n",
        "            'machine_type' = 'n1-standard-4'\n",
        "        ),\n",
        "        'container_spec' = list(\n",
        "            \"image_uri\" = IMAGE_URI,\n",
        "            \"command\" = c(\"Rscript\", \"train.R\"),\n",
        "            \"args\" = list(\"--data\", \"gs://cloud-samples-data/ai-platform-unified/datasets/tabular/california-housing-tabular-regression.csv\")\n",
        "        ),\n",
        "        'replica_count' = 1\n",
        "    )\n",
        ")"
      ]
    },
    {
      "cell_type": "markdown",
      "metadata": {
        "id": "b47af71dd9e9"
      },
      "source": [
        "This specification is then used in a `CustomJob`."
      ]
    },
    {
      "cell_type": "code",
      "execution_count": null,
      "metadata": {
        "id": "0ffeaf297076"
      },
      "outputs": [],
      "source": [
        "MODEL_DIR <- glue(\"{BUCKET_URI}/aiplatform-custom-job-{TIMESTAMP}\")\n",
        "custom_job <- aiplatform$CustomJob(\n",
        "    display_name = \"california-custom-job\",\n",
        "    worker_pool_specs = worker_pool_specs,\n",
        "    base_output_dir = MODEL_DIR\n",
        ")"
      ]
    },
    {
      "cell_type": "markdown",
      "metadata": {
        "id": "346c514ad810"
      },
      "source": [
        "Hyperparameter tuning jobs search for the best combination of hyperparameters to optimize your metrics. Hyperparameter tuning jobs do this by running multiple trials of your training application with different sets of hyperparameters.\n",
        "\n",
        "You can control the job in the following ways:\n",
        "\n",
        "- `max_trial_count`: Decide how many trials you want to allow the service to run. Increasing the number of trials generally yields better results, but it is not always so. Usually, there is a point of diminishing returns after which additional trials have little or no effect on the accuracy. Before starting a job with a large number of trials, you may want to start with a small number of trials to gauge the effect your chosen hyperparameters have on your model's accuracy. To get the most out of hyperparameter tuning, you shouldn't set your maximum value lower than ten times the number of hyperparameters you use.\n",
        "- `parallel_trial_count`: You can specify how many trials can run in parallel. Running parallel trials has the benefit of reducing the time the training job takes (real time—the total processing time required is not typically changed). However, running in parallel can reduce the effectiveness of the tuning job overall. That is because hyperparameter tuning uses the results of previous trials to inform the values to assign to the hyperparameters of subsequent trials. When running in parallel, some trials start without having the benefit of the results of any trials still running.\n",
        "\n",
        "In addition, you also need to specify which hyperparameters to tune. There is little universal advice to give about how to choose which hyperparameters you should tune. If you have experience with the machine learning technique that you're using, you may have insight into how its hyperparameters behave. You may also be able to find advice from machine learning communities.\n",
        "\n",
        "However you choose them, it's important to understand the implications. Every hyperparameter that you choose to tune has the potential to increase the number of trials required for a successful tuning job. When you run a hyperparameter tuning job on Vertex AI, the amount you are charged is based on the duration of the trials initiated by your hyperparameter tuning job. A careful choice of hyperparameters to tune can reduce the time and cost of your hyperparameter tuning job.\n",
        "\n",
        "There are [several data types supported for Vertex AI Hyperparameter Tuning Jobs](https://cloud.google.com/vertex-ai/docs/training/hyperparameter-tuning-overview#data-types)."
      ]
    },
    {
      "cell_type": "code",
      "execution_count": null,
      "metadata": {
        "id": "5cb30a5ef729"
      },
      "outputs": [],
      "source": [
        "hpt_job <- aiplatform$HyperparameterTuningJob(\n",
        "    display_name = \"california-hpt-job\",\n",
        "    custom_job = custom_job,\n",
        "    max_trial_count = as.integer(14),\n",
        "    parallel_trial_count = as.integer(2),\n",
        "    metric_spec = list(\n",
        "        \"mean_absolute_error\" = \"minimize\"\n",
        "    ),\n",
        "    parameter_spec = list(\n",
        "        \"n.trees\" = aiplatform$hyperparameter_tuning$IntegerParameterSpec(\n",
        "            min = as.integer(10), max = as.integer(1000), scale = \"linear\"\n",
        "        ),\n",
        "        \"interaction.depth\" = aiplatform$hyperparameter_tuning$IntegerParameterSpec(\n",
        "            min = as.integer(1), max = as.integer(10), scale = \"linear\"\n",
        "        ),\n",
        "        \"n.minobsinnode\" = aiplatform$hyperparameter_tuning$IntegerParameterSpec(\n",
        "            min = as.integer(1), max = as.integer(20), scale = \"linear\"\n",
        "        )\n",
        "    )\n",
        ")"
      ]
    },
    {
      "cell_type": "markdown",
      "metadata": {
        "id": "1ba72747b37a"
      },
      "source": [
        "### Execute the hyperparameter tuning job\n",
        "\n",
        "\n",
        "To train tune model, you call the method `run()`."
      ]
    },
    {
      "cell_type": "code",
      "execution_count": null,
      "metadata": {
        "id": "d92f97a83540"
      },
      "outputs": [],
      "source": [
        "hpt_job$run()\n",
        "hpt_job"
      ]
    },
    {
      "cell_type": "markdown",
      "metadata": {
        "id": "62d3248f4613"
      },
      "source": [
        "You can now watch the progress live in the Vertex AI console. Once the job has finished, you can see the results for each trial."
      ]
    },
    {
      "cell_type": "markdown",
      "metadata": {
        "id": "02bb5c9cd07a"
      },
      "source": [
        "Finally, to list all trials and their respective results, we can inspect `hpt_job$trials`."
      ]
    },
    {
      "cell_type": "code",
      "execution_count": null,
      "metadata": {
        "id": "290a54f46c7b"
      },
      "outputs": [],
      "source": [
        "results <- lapply(hpt_job$trials,\n",
        "    function(x) { c(as.integer(x$id), as.numeric(x$final_measurement$metrics[[0]]$value)) }\n",
        ")\n",
        "results <- as.data.frame(do.call(rbind, results))\n",
        "colnames(results) <- c(\"id\", \"metric\")"
      ]
    },
    {
      "cell_type": "code",
      "execution_count": null,
      "metadata": {
        "id": "bc016209de51"
      },
      "outputs": [],
      "source": [
        "results"
      ]
    },
    {
      "cell_type": "markdown",
      "metadata": {
        "id": "6b9d19a20836"
      },
      "source": [
        "And find the trial with the lowest error."
      ]
    },
    {
      "cell_type": "code",
      "execution_count": null,
      "metadata": {
        "id": "83444b871808"
      },
      "outputs": [],
      "source": [
        "best_trial <- results[results$metric == min(results$metric), ]$id"
      ]
    },
    {
      "cell_type": "code",
      "execution_count": null,
      "metadata": {
        "id": "412cfd3b2596"
      },
      "outputs": [],
      "source": [
        "hpt_job$trials[[best_trial]]"
      ]
    },
    {
      "cell_type": "markdown",
      "metadata": {
        "id": "cb9f235ff95c"
      },
      "source": [
        "The model artifacts can be found in Cloud Storage."
      ]
    },
    {
      "cell_type": "code",
      "execution_count": null,
      "metadata": {
        "id": "cd68f3fff832"
      },
      "outputs": [],
      "source": [
        "sh(\"gsutil ls -r {MODEL_DIR}/{best_trial}\")"
      ]
    },
    {
      "cell_type": "markdown",
      "metadata": {
        "id": "2a5c78f94179"
      },
      "source": [
        "## Clean up\n",
        "\n",
        "To clean up all Google Cloud resources used in this project, you can [delete the Google Cloud\n",
        "project](https://cloud.google.com/resource-manager/docs/creating-managing-projects#shutting_down_projects) you used for the tutorial.\n",
        "\n",
        "Otherwise, you can delete the individual resources you created in this tutorial."
      ]
    },
    {
      "cell_type": "code",
      "execution_count": null,
      "metadata": {
        "id": "f7aa1bcf2cc3"
      },
      "outputs": [],
      "source": [
        "delete_bucket <- FALSE\n",
        "\n",
        "hpt_job$delete()\n",
        "\n",
        "sh(\"rm -rf src\")\n",
        "\n",
        "# remove Docker image\n",
        "sh(\"docker rmi {IMAGE_URI}\")\n",
        "\n",
        "if (delete_bucket == TRUE) sh(\"gsutil -m rm -r {BUCKET_URI}\")"
      ]
    }
  ],
  "metadata": {
    "colab": {
      "collapsed_sections": [],
      "name": "get_started_vertex_hpt_r_kernel.ipynb",
      "toc_visible": true
    },
    "kernelspec": {
      "display_name": "Python 3",
      "name": "python3"
    }
  },
  "nbformat": 4,
  "nbformat_minor": 0
}
