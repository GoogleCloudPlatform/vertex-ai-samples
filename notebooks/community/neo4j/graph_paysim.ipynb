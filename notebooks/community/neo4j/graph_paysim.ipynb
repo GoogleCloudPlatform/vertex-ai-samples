{
  "nbformat": 4,
  "nbformat_minor": 0,
  "metadata": {
    "colab": {
      "name": "graph_paysim.ipynb",
      "provenance": [],
      "toc_visible": true
    },
    "kernelspec": {
      "display_name": "Python 3",
      "name": "python3"
    }
  },
  "cells": [
    {
      "cell_type": "code",
      "metadata": {
        "id": "xpj6twWatL1e"
      },
      "source": [
        "# Copyright 2021 Google LLC\n",
        "#\n",
        "# Licensed under the Apache License, Version 2.0 (the \"License\");\n",
        "# you may not use this file except in compliance with the License.\n",
        "# You may obtain a copy of the License at\n",
        "#\n",
        "#     https://www.apache.org/licenses/LICENSE-2.0\n",
        "#\n",
        "# Unless required by applicable law or agreed to in writing, software\n",
        "# distributed under the License is distributed on an \"AS IS\" BASIS,\n",
        "# WITHOUT WARRANTIES OR CONDITIONS OF ANY KIND, either express or implied.\n",
        "# See the License for the specific language governing permissions and\n",
        "# limitations under the License."
      ],
      "execution_count": null,
      "outputs": []
    },
    {
      "cell_type": "markdown",
      "metadata": {
        "id": "JAPoU8Sm5E6e"
      },
      "source": [
        "<table align=\"left\">\n",
        "\n",
        "  <td>\n",
        "    <a href=\"https://colab.research.google.com/github/benofben/vertex-ai-samples/blob/master/notebooks/community/neo4j/graph_paysim.ipynb\" target=\"_parent\">\n",
        "      <img src=\"https://cloud.google.com/ml-engine/images/colab-logo-32px.png\" alt=\"Colab logo\"> Run in Colab\n",
        "    </a>\n",
        "  </td>\n",
        "  <td>\n",
        "    <a href=\"https://github.com/benofben/vertex-ai-samples/tree/master/notebooks/community/neo4j/graph_paysim.ipynb\">\n",
        "      <img src=\"https://cloud.google.com/ml-engine/images/github-logo-32px.png\" alt=\"GitHub logo\">\n",
        "      View on GitHub\n",
        "    </a>\n",
        "  </td>\n",
        "</table>"
      ]
    },
    {
      "cell_type": "markdown",
      "metadata": {
        "id": "YasYy1BqRHY8"
      },
      "source": [
        "# Overview\n",
        "This notebook is an example of using Neo4j with Vertex AI.  It takes PaySim data from a Neo4j database, puts that into Feature Store and then runs two classifications on that.  One classification uses the standard PaySim features.  A second uses features engineered using Neo4j Graph Data Science."
      ]
    },
    {
      "cell_type": "markdown",
      "metadata": {
        "id": "ze4-nDLfK4pw"
      },
      "source": [
        "## Dataset\n",
        "The notebook uses a version of the PaySim dataset that has been modified to work with Neo4j's graph database.  PaySim is a synthetic fraud dataset.  The goal is to identify whether or not a given transaction constitutes fraud.  The dataset is [here](https://github.com/voutilad/PaySim)."
      ]
    },
    {
      "cell_type": "markdown",
      "metadata": {
        "id": "hhXY4QkGraog"
      },
      "source": [
        "##Objective\n",
        "In this notebook, you will learn how to use Neo4j Graph Data Science (GDS) to create graph features.  You'll then use those new features to solve a classification problem with Vertex AI.\n"
      ]
    },
    {
      "cell_type": "markdown",
      "metadata": {
        "id": "pD0fZLPdsAYf"
      },
      "source": [
        "##Costs\n",
        "This tutorial uses billable components of Google Cloud:\n",
        "\n",
        "* Cloud Storage\n",
        "* Vertex AI\n",
        "\n",
        "Learn about [Vertex AI pricing](https://cloud.google.com/vertex-ai/pricing) and [Cloud Storage pricing](https://cloud.google.com/storage/pricing), and use the [Pricing Calculator](https://cloud.google.com/products/calculator/) to generate a cost estimate based on your projected usage."
      ]
    },
    {
      "cell_type": "markdown",
      "metadata": {
        "id": "mbIYWyMksbpC"
      },
      "source": [
        "##Set up your development environment¶\n",
        "We suggest you use Colab for this notebook."
      ]
    },
    {
      "cell_type": "markdown",
      "metadata": {
        "id": "BKipBL0kWY7w"
      },
      "source": [
        "## Install additional Packages\n",
        "We assume that you've already loaded the PaySim data into a Neo4j instance and have the credentials to connect to that.\n",
        "\n",
        "You'll also need to install a few packages."
      ]
    },
    {
      "cell_type": "code",
      "metadata": {
        "id": "qwKogqD_He_e",
        "colab": {
          "base_uri": "https://localhost:8080/"
        },
        "outputId": "f690b6e0-e167-46fe-e2c8-08269d97369a"
      },
      "source": [
        "!pip install neo4j"
      ],
      "execution_count": 1,
      "outputs": [
        {
          "output_type": "stream",
          "name": "stdout",
          "text": [
            "Collecting neo4j\n",
            "  Downloading neo4j-4.4.0.tar.gz (89 kB)\n",
            "\u001b[?25l\r\u001b[K     |███▊                            | 10 kB 20.5 MB/s eta 0:00:01\r\u001b[K     |███████▍                        | 20 kB 19.0 MB/s eta 0:00:01\r\u001b[K     |███████████                     | 30 kB 17.9 MB/s eta 0:00:01\r\u001b[K     |██████████████▊                 | 40 kB 11.8 MB/s eta 0:00:01\r\u001b[K     |██████████████████▍             | 51 kB 8.6 MB/s eta 0:00:01\r\u001b[K     |██████████████████████          | 61 kB 7.8 MB/s eta 0:00:01\r\u001b[K     |█████████████████████████▊      | 71 kB 7.4 MB/s eta 0:00:01\r\u001b[K     |█████████████████████████████▍  | 81 kB 8.2 MB/s eta 0:00:01\r\u001b[K     |████████████████████████████████| 89 kB 3.4 MB/s \n",
            "\u001b[?25hRequirement already satisfied: pytz in /usr/local/lib/python3.7/dist-packages (from neo4j) (2018.9)\n",
            "Building wheels for collected packages: neo4j\n",
            "  Building wheel for neo4j (setup.py) ... \u001b[?25l\u001b[?25hdone\n",
            "  Created wheel for neo4j: filename=neo4j-4.4.0-py3-none-any.whl size=114860 sha256=056da01bc8885056e0a05fa84d77fc03a63bb254c78797843627599ce9459b01\n",
            "  Stored in directory: /root/.cache/pip/wheels/b8/cb/e4/d34e10b40d33911c281a6e9aa038d54ca7435310529b3f6042\n",
            "Successfully built neo4j\n",
            "Installing collected packages: neo4j\n",
            "Successfully installed neo4j-4.4.0\n"
          ]
        }
      ]
    },
    {
      "cell_type": "code",
      "metadata": {
        "id": "Ix0KpBl-hnxF",
        "colab": {
          "base_uri": "https://localhost:8080/",
          "height": 1000
        },
        "outputId": "b8d09ecc-a8f0-4be2-bebd-5c79415db6e2"
      },
      "source": [
        "!pip install google.cloud.aiplatform"
      ],
      "execution_count": 3,
      "outputs": [
        {
          "output_type": "stream",
          "name": "stdout",
          "text": [
            "Collecting google.cloud.aiplatform\n",
            "  Downloading google_cloud_aiplatform-1.6.2-py2.py3-none-any.whl (1.6 MB)\n",
            "\u001b[K     |████████████████████████████████| 1.6 MB 5.2 MB/s \n",
            "\u001b[?25hCollecting proto-plus>=1.10.1\n",
            "  Downloading proto_plus-1.19.7-py3-none-any.whl (45 kB)\n",
            "\u001b[K     |████████████████████████████████| 45 kB 3.2 MB/s \n",
            "\u001b[?25hRequirement already satisfied: packaging>=14.3 in /usr/local/lib/python3.7/dist-packages (from google.cloud.aiplatform) (21.0)\n",
            "Requirement already satisfied: google-api-core[grpc]<3.0.0dev,>=1.26.0 in /usr/local/lib/python3.7/dist-packages (from google.cloud.aiplatform) (1.26.3)\n",
            "Collecting google-cloud-storage<2.0.0dev,>=1.32.0\n",
            "  Downloading google_cloud_storage-1.42.3-py2.py3-none-any.whl (105 kB)\n",
            "\u001b[K     |████████████████████████████████| 105 kB 55.4 MB/s \n",
            "\u001b[?25hRequirement already satisfied: google-cloud-bigquery<3.0.0dev,>=1.15.0 in /usr/local/lib/python3.7/dist-packages (from google.cloud.aiplatform) (1.21.0)\n",
            "Requirement already satisfied: google-auth<2.0dev,>=1.21.1 in /usr/local/lib/python3.7/dist-packages (from google-api-core[grpc]<3.0.0dev,>=1.26.0->google.cloud.aiplatform) (1.35.0)\n",
            "Requirement already satisfied: requests<3.0.0dev,>=2.18.0 in /usr/local/lib/python3.7/dist-packages (from google-api-core[grpc]<3.0.0dev,>=1.26.0->google.cloud.aiplatform) (2.23.0)\n",
            "Requirement already satisfied: protobuf>=3.12.0 in /usr/local/lib/python3.7/dist-packages (from google-api-core[grpc]<3.0.0dev,>=1.26.0->google.cloud.aiplatform) (3.17.3)\n",
            "Requirement already satisfied: six>=1.13.0 in /usr/local/lib/python3.7/dist-packages (from google-api-core[grpc]<3.0.0dev,>=1.26.0->google.cloud.aiplatform) (1.15.0)\n",
            "Requirement already satisfied: pytz in /usr/local/lib/python3.7/dist-packages (from google-api-core[grpc]<3.0.0dev,>=1.26.0->google.cloud.aiplatform) (2018.9)\n",
            "Requirement already satisfied: googleapis-common-protos<2.0dev,>=1.6.0 in /usr/local/lib/python3.7/dist-packages (from google-api-core[grpc]<3.0.0dev,>=1.26.0->google.cloud.aiplatform) (1.53.0)\n",
            "Requirement already satisfied: setuptools>=40.3.0 in /usr/local/lib/python3.7/dist-packages (from google-api-core[grpc]<3.0.0dev,>=1.26.0->google.cloud.aiplatform) (57.4.0)\n",
            "Requirement already satisfied: grpcio<2.0dev,>=1.29.0 in /usr/local/lib/python3.7/dist-packages (from google-api-core[grpc]<3.0.0dev,>=1.26.0->google.cloud.aiplatform) (1.41.0)\n",
            "Requirement already satisfied: cachetools<5.0,>=2.0.0 in /usr/local/lib/python3.7/dist-packages (from google-auth<2.0dev,>=1.21.1->google-api-core[grpc]<3.0.0dev,>=1.26.0->google.cloud.aiplatform) (4.2.4)\n",
            "Requirement already satisfied: rsa<5,>=3.1.4 in /usr/local/lib/python3.7/dist-packages (from google-auth<2.0dev,>=1.21.1->google-api-core[grpc]<3.0.0dev,>=1.26.0->google.cloud.aiplatform) (4.7.2)\n",
            "Requirement already satisfied: pyasn1-modules>=0.2.1 in /usr/local/lib/python3.7/dist-packages (from google-auth<2.0dev,>=1.21.1->google-api-core[grpc]<3.0.0dev,>=1.26.0->google.cloud.aiplatform) (0.2.8)\n",
            "Requirement already satisfied: google-resumable-media!=0.4.0,<0.5.0dev,>=0.3.1 in /usr/local/lib/python3.7/dist-packages (from google-cloud-bigquery<3.0.0dev,>=1.15.0->google.cloud.aiplatform) (0.4.1)\n",
            "Requirement already satisfied: google-cloud-core<2.0dev,>=1.0.3 in /usr/local/lib/python3.7/dist-packages (from google-cloud-bigquery<3.0.0dev,>=1.15.0->google.cloud.aiplatform) (1.0.3)\n",
            "  Downloading google_cloud_storage-1.42.2-py2.py3-none-any.whl (105 kB)\n",
            "\u001b[K     |████████████████████████████████| 105 kB 70.0 MB/s \n",
            "\u001b[?25h  Downloading google_cloud_storage-1.42.1-py2.py3-none-any.whl (105 kB)\n",
            "\u001b[K     |████████████████████████████████| 105 kB 70.9 MB/s \n",
            "\u001b[?25h  Downloading google_cloud_storage-1.42.0-py2.py3-none-any.whl (105 kB)\n",
            "\u001b[K     |████████████████████████████████| 105 kB 70.9 MB/s \n",
            "\u001b[?25h  Downloading google_cloud_storage-1.41.1-py2.py3-none-any.whl (105 kB)\n",
            "\u001b[K     |████████████████████████████████| 105 kB 45.9 MB/s \n",
            "\u001b[?25h  Downloading google_cloud_storage-1.41.0-py2.py3-none-any.whl (104 kB)\n",
            "\u001b[K     |████████████████████████████████| 104 kB 56.3 MB/s \n",
            "\u001b[?25h  Downloading google_cloud_storage-1.40.0-py2.py3-none-any.whl (104 kB)\n",
            "\u001b[K     |████████████████████████████████| 104 kB 60.1 MB/s \n",
            "\u001b[?25h  Downloading google_cloud_storage-1.39.0-py2.py3-none-any.whl (103 kB)\n",
            "\u001b[K     |████████████████████████████████| 103 kB 58.0 MB/s \n",
            "\u001b[?25h  Downloading google_cloud_storage-1.38.0-py2.py3-none-any.whl (103 kB)\n",
            "\u001b[K     |████████████████████████████████| 103 kB 59.8 MB/s \n",
            "\u001b[?25h  Downloading google_cloud_storage-1.37.1-py2.py3-none-any.whl (103 kB)\n",
            "\u001b[K     |████████████████████████████████| 103 kB 61.8 MB/s \n",
            "\u001b[?25h  Downloading google_cloud_storage-1.37.0-py2.py3-none-any.whl (103 kB)\n",
            "\u001b[K     |████████████████████████████████| 103 kB 53.4 MB/s \n",
            "\u001b[?25h  Downloading google_cloud_storage-1.36.2-py2.py3-none-any.whl (97 kB)\n",
            "\u001b[K     |████████████████████████████████| 97 kB 6.7 MB/s \n",
            "\u001b[?25h  Downloading google_cloud_storage-1.36.1-py2.py3-none-any.whl (97 kB)\n",
            "\u001b[K     |████████████████████████████████| 97 kB 6.6 MB/s \n",
            "\u001b[?25h  Downloading google_cloud_storage-1.36.0-py2.py3-none-any.whl (97 kB)\n",
            "\u001b[K     |████████████████████████████████| 97 kB 6.3 MB/s \n",
            "\u001b[?25h  Downloading google_cloud_storage-1.35.1-py2.py3-none-any.whl (96 kB)\n",
            "\u001b[K     |████████████████████████████████| 96 kB 5.4 MB/s \n",
            "\u001b[?25h  Downloading google_cloud_storage-1.35.0-py2.py3-none-any.whl (96 kB)\n",
            "\u001b[K     |████████████████████████████████| 96 kB 5.6 MB/s \n",
            "\u001b[?25h  Downloading google_cloud_storage-1.34.0-py2.py3-none-any.whl (96 kB)\n",
            "\u001b[K     |████████████████████████████████| 96 kB 5.6 MB/s \n",
            "\u001b[?25h  Downloading google_cloud_storage-1.33.0-py2.py3-none-any.whl (92 kB)\n",
            "\u001b[K     |████████████████████████████████| 92 kB 11.3 MB/s \n",
            "\u001b[?25h  Downloading google_cloud_storage-1.32.0-py2.py3-none-any.whl (92 kB)\n",
            "\u001b[K     |████████████████████████████████| 92 kB 10.7 MB/s \n",
            "\u001b[?25hINFO: pip is looking at multiple versions of google-cloud-core to determine which version is compatible with other requirements. This could take a while.\n",
            "Collecting google-cloud-core<2.0dev,>=1.0.3\n",
            "  Downloading google_cloud_core-1.7.2-py2.py3-none-any.whl (28 kB)\n",
            "  Downloading google_cloud_core-1.7.1-py2.py3-none-any.whl (28 kB)\n",
            "  Downloading google_cloud_core-1.7.0-py2.py3-none-any.whl (28 kB)\n",
            "  Downloading google_cloud_core-1.6.0-py2.py3-none-any.whl (28 kB)\n",
            "  Downloading google_cloud_core-1.5.0-py2.py3-none-any.whl (27 kB)\n",
            "  Downloading google_cloud_core-1.4.4-py2.py3-none-any.whl (27 kB)\n",
            "  Downloading google_cloud_core-1.4.3-py2.py3-none-any.whl (27 kB)\n",
            "INFO: pip is looking at multiple versions of google-cloud-core to determine which version is compatible with other requirements. This could take a while.\n",
            "  Downloading google_cloud_core-1.4.2-py2.py3-none-any.whl (26 kB)\n",
            "  Downloading google_cloud_core-1.4.1-py2.py3-none-any.whl (26 kB)\n",
            "  Downloading google_cloud_core-1.4.0-py2.py3-none-any.whl (26 kB)\n",
            "  Downloading google_cloud_core-1.3.0-py2.py3-none-any.whl (26 kB)\n",
            "  Downloading google_cloud_core-1.2.0-py2.py3-none-any.whl (26 kB)\n",
            "INFO: This is taking longer than usual. You might need to provide the dependency resolver with stricter constraints to reduce runtime. If you want to abort this run, you can press Ctrl + C to do so. To improve how pip performs, tell us what happened here: https://pip.pypa.io/surveys/backtracking\n",
            "  Downloading google_cloud_core-1.1.0-py2.py3-none-any.whl (26 kB)\n",
            "  Downloading google_cloud_core-1.0.3-py2.py3-none-any.whl (26 kB)\n",
            "INFO: pip is looking at multiple versions of google-cloud-bigquery to determine which version is compatible with other requirements. This could take a while.\n",
            "Collecting google-cloud-bigquery<3.0.0dev,>=1.15.0\n",
            "  Downloading google_cloud_bigquery-2.30.1-py2.py3-none-any.whl (203 kB)\n",
            "\u001b[K     |████████████████████████████████| 203 kB 55.8 MB/s \n",
            "\u001b[?25hCollecting google-cloud-core<3.0.0dev,>=1.4.1\n",
            "  Downloading google_cloud_core-2.1.0-py2.py3-none-any.whl (27 kB)\n",
            "Collecting google-resumable-media<3.0dev,>=0.6.0\n",
            "  Downloading google_resumable_media-2.1.0-py2.py3-none-any.whl (75 kB)\n",
            "\u001b[K     |████████████████████████████████| 75 kB 4.8 MB/s \n",
            "\u001b[?25hCollecting google-cloud-bigquery<3.0.0dev,>=1.15.0\n",
            "  Downloading google_cloud_bigquery-2.30.0-py2.py3-none-any.whl (203 kB)\n",
            "\u001b[K     |████████████████████████████████| 203 kB 59.9 MB/s \n",
            "\u001b[?25h  Downloading google_cloud_bigquery-2.29.0-py2.py3-none-any.whl (203 kB)\n",
            "\u001b[K     |████████████████████████████████| 203 kB 49.8 MB/s \n",
            "\u001b[?25h  Downloading google_cloud_bigquery-2.28.1-py2.py3-none-any.whl (202 kB)\n",
            "\u001b[K     |████████████████████████████████| 202 kB 58.5 MB/s \n",
            "\u001b[?25h  Downloading google_cloud_bigquery-2.28.0-py2.py3-none-any.whl (202 kB)\n",
            "\u001b[K     |████████████████████████████████| 202 kB 53.3 MB/s \n",
            "\u001b[?25h  Downloading google_cloud_bigquery-2.27.1-py2.py3-none-any.whl (201 kB)\n",
            "\u001b[K     |████████████████████████████████| 201 kB 55.5 MB/s \n",
            "\u001b[?25h  Downloading google_cloud_bigquery-2.27.0-py2.py3-none-any.whl (201 kB)\n",
            "\u001b[K     |████████████████████████████████| 201 kB 51.5 MB/s \n",
            "\u001b[?25h  Downloading google_cloud_bigquery-2.26.0-py2.py3-none-any.whl (201 kB)\n",
            "\u001b[K     |████████████████████████████████| 201 kB 41.9 MB/s \n",
            "\u001b[?25h  Downloading google_cloud_bigquery-2.25.2-py2.py3-none-any.whl (200 kB)\n",
            "\u001b[K     |████████████████████████████████| 200 kB 59.7 MB/s \n",
            "\u001b[?25h  Downloading google_cloud_bigquery-2.25.1-py2.py3-none-any.whl (200 kB)\n",
            "\u001b[K     |████████████████████████████████| 200 kB 52.3 MB/s \n",
            "\u001b[?25h  Downloading google_cloud_bigquery-2.25.0-py2.py3-none-any.whl (200 kB)\n",
            "\u001b[K     |████████████████████████████████| 200 kB 59.4 MB/s \n",
            "\u001b[?25h  Downloading google_cloud_bigquery-2.24.1-py2.py3-none-any.whl (198 kB)\n",
            "\u001b[K     |████████████████████████████████| 198 kB 48.4 MB/s \n",
            "\u001b[?25h  Downloading google_cloud_bigquery-2.24.0-py2.py3-none-any.whl (198 kB)\n",
            "\u001b[K     |████████████████████████████████| 198 kB 51.1 MB/s \n",
            "\u001b[?25h  Downloading google_cloud_bigquery-2.23.3-py2.py3-none-any.whl (196 kB)\n",
            "\u001b[K     |████████████████████████████████| 196 kB 49.0 MB/s \n",
            "\u001b[?25h  Downloading google_cloud_bigquery-2.23.2-py2.py3-none-any.whl (196 kB)\n",
            "\u001b[K     |████████████████████████████████| 196 kB 60.2 MB/s \n",
            "\u001b[?25h  Downloading google_cloud_bigquery-2.23.1-py2.py3-none-any.whl (196 kB)\n",
            "\u001b[K     |████████████████████████████████| 196 kB 56.7 MB/s \n",
            "\u001b[?25h  Downloading google_cloud_bigquery-2.23.0-py2.py3-none-any.whl (196 kB)\n",
            "\u001b[K     |████████████████████████████████| 196 kB 59.5 MB/s \n",
            "\u001b[?25h  Downloading google_cloud_bigquery-2.22.1-py2.py3-none-any.whl (195 kB)\n",
            "\u001b[K     |████████████████████████████████| 195 kB 58.1 MB/s \n",
            "\u001b[?25h  Downloading google_cloud_bigquery-2.22.0-py2.py3-none-any.whl (194 kB)\n",
            "\u001b[K     |████████████████████████████████| 194 kB 57.6 MB/s \n",
            "\u001b[?25h  Downloading google_cloud_bigquery-2.21.0-py2.py3-none-any.whl (193 kB)\n",
            "\u001b[K     |████████████████████████████████| 193 kB 59.1 MB/s \n",
            "\u001b[?25hCollecting google-resumable-media<2.0dev,>=0.6.0\n",
            "  Downloading google_resumable_media-1.3.3-py2.py3-none-any.whl (75 kB)\n",
            "\u001b[K     |████████████████████████████████| 75 kB 4.6 MB/s \n",
            "\u001b[?25hCollecting google-cloud-bigquery<3.0.0dev,>=1.15.0\n",
            "  Downloading google_cloud_bigquery-2.20.0-py2.py3-none-any.whl (189 kB)\n",
            "\u001b[K     |████████████████████████████████| 189 kB 57.7 MB/s \n",
            "\u001b[?25h  Downloading google_cloud_bigquery-2.19.0-py2.py3-none-any.whl (188 kB)\n",
            "\u001b[K     |████████████████████████████████| 188 kB 36.7 MB/s \n",
            "\u001b[?25h  Downloading google_cloud_bigquery-2.18.0-py2.py3-none-any.whl (188 kB)\n",
            "\u001b[K     |████████████████████████████████| 188 kB 58.4 MB/s \n",
            "\u001b[?25hCollecting google-crc32c<2.0dev,>=1.0\n",
            "  Downloading google_crc32c-1.3.0-cp37-cp37m-manylinux_2_12_x86_64.manylinux2010_x86_64.whl (38 kB)\n",
            "Requirement already satisfied: pyparsing>=2.0.2 in /usr/local/lib/python3.7/dist-packages (from packaging>=14.3->google.cloud.aiplatform) (2.4.7)\n",
            "Collecting protobuf>=3.12.0\n",
            "  Downloading protobuf-3.19.1-cp37-cp37m-manylinux_2_17_x86_64.manylinux2014_x86_64.whl (1.1 MB)\n",
            "\u001b[K     |████████████████████████████████| 1.1 MB 59.2 MB/s \n",
            "\u001b[?25hRequirement already satisfied: pyasn1<0.5.0,>=0.4.6 in /usr/local/lib/python3.7/dist-packages (from pyasn1-modules>=0.2.1->google-auth<2.0dev,>=1.21.1->google-api-core[grpc]<3.0.0dev,>=1.26.0->google.cloud.aiplatform) (0.4.8)\n",
            "Requirement already satisfied: certifi>=2017.4.17 in /usr/local/lib/python3.7/dist-packages (from requests<3.0.0dev,>=2.18.0->google-api-core[grpc]<3.0.0dev,>=1.26.0->google.cloud.aiplatform) (2021.5.30)\n",
            "Requirement already satisfied: urllib3!=1.25.0,!=1.25.1,<1.26,>=1.21.1 in /usr/local/lib/python3.7/dist-packages (from requests<3.0.0dev,>=2.18.0->google-api-core[grpc]<3.0.0dev,>=1.26.0->google.cloud.aiplatform) (1.24.3)\n",
            "Requirement already satisfied: idna<3,>=2.5 in /usr/local/lib/python3.7/dist-packages (from requests<3.0.0dev,>=2.18.0->google-api-core[grpc]<3.0.0dev,>=1.26.0->google.cloud.aiplatform) (2.10)\n",
            "Requirement already satisfied: chardet<4,>=3.0.2 in /usr/local/lib/python3.7/dist-packages (from requests<3.0.0dev,>=2.18.0->google-api-core[grpc]<3.0.0dev,>=1.26.0->google.cloud.aiplatform) (3.0.4)\n",
            "Installing collected packages: protobuf, google-crc32c, proto-plus, google-resumable-media, google-cloud-core, google-cloud-storage, google-cloud-bigquery, google.cloud.aiplatform\n",
            "  Attempting uninstall: protobuf\n",
            "    Found existing installation: protobuf 3.17.3\n",
            "    Uninstalling protobuf-3.17.3:\n",
            "      Successfully uninstalled protobuf-3.17.3\n",
            "  Attempting uninstall: google-resumable-media\n",
            "    Found existing installation: google-resumable-media 0.4.1\n",
            "    Uninstalling google-resumable-media-0.4.1:\n",
            "      Successfully uninstalled google-resumable-media-0.4.1\n",
            "  Attempting uninstall: google-cloud-core\n",
            "    Found existing installation: google-cloud-core 1.0.3\n",
            "    Uninstalling google-cloud-core-1.0.3:\n",
            "      Successfully uninstalled google-cloud-core-1.0.3\n",
            "  Attempting uninstall: google-cloud-storage\n",
            "    Found existing installation: google-cloud-storage 1.18.1\n",
            "    Uninstalling google-cloud-storage-1.18.1:\n",
            "      Successfully uninstalled google-cloud-storage-1.18.1\n",
            "  Attempting uninstall: google-cloud-bigquery\n",
            "    Found existing installation: google-cloud-bigquery 1.21.0\n",
            "    Uninstalling google-cloud-bigquery-1.21.0:\n",
            "      Successfully uninstalled google-cloud-bigquery-1.21.0\n",
            "\u001b[31mERROR: pip's dependency resolver does not currently take into account all the packages that are installed. This behaviour is the source of the following dependency conflicts.\n",
            "pandas-gbq 0.13.3 requires google-cloud-bigquery[bqstorage,pandas]<2.0.0dev,>=1.11.1, but you have google-cloud-bigquery 2.18.0 which is incompatible.\u001b[0m\n",
            "Successfully installed google-cloud-bigquery-2.18.0 google-cloud-core-1.7.2 google-cloud-storage-1.41.1 google-crc32c-1.3.0 google-resumable-media-1.3.3 google.cloud.aiplatform-1.6.2 proto-plus-1.19.7 protobuf-3.19.1\n"
          ]
        },
        {
          "output_type": "display_data",
          "data": {
            "application/vnd.colab-display-data+json": {
              "pip_warning": {
                "packages": [
                  "google"
                ]
              }
            }
          },
          "metadata": {}
        }
      ]
    },
    {
      "cell_type": "markdown",
      "metadata": {
        "id": "JBXAh7fVt9Ou"
      },
      "source": [
        "##Restart the kernel\n",
        "After you install the additional packages, you need to restart the notebook kernel so it can find the packages."
      ]
    },
    {
      "cell_type": "markdown",
      "metadata": {
        "id": "FZTkUGnPuacD"
      },
      "source": [
        "##Before you begin"
      ]
    },
    {
      "cell_type": "markdown",
      "metadata": {
        "id": "zLocKiyCwtR7"
      },
      "source": [
        "### Set up your Google Cloud project\n",
        "\n",
        "**The following steps are required, regardless of your notebook environment.**\n",
        "\n",
        "1. [Select or create a Google Cloud project](https://console.cloud.google.com/cloud-resource-manager). When you first create an account, you get a $300 free credit towards your compute/storage costs.\n",
        "\n",
        "1. [Make sure that billing is enabled for your project](https://cloud.google.com/billing/docs/how-to/modify-project).\n",
        "\n",
        "1. [Enable the Vertex AI API](https://console.cloud.google.com/flows/enableapi?apiid=aiplatform.googleapis.com).\n",
        "\n",
        "1. If you are running this notebook locally, you will need to install the [Cloud SDK](https://cloud.google.com/sdk).\n",
        "\n",
        "1. Enter your project ID in the cell below. Then run the cell to make sure the\n",
        "Cloud SDK uses the right project for all the commands in this notebook.\n",
        "\n",
        "**Note**: Jupyter runs lines prefixed with `!` as shell commands, and it interpolates Python variables prefixed with `$` into these commands."
      ]
    },
    {
      "cell_type": "markdown",
      "metadata": {
        "id": "x4kJLkGWw_RA"
      },
      "source": [
        "### Set your Google Cloud project\n"
      ]
    },
    {
      "cell_type": "code",
      "metadata": {
        "id": "x-jb886JxBNO"
      },
      "source": [
        "PROJECT_ID = 'neo4jbusinessdev'"
      ],
      "execution_count": 9,
      "outputs": []
    },
    {
      "cell_type": "code",
      "metadata": {
        "id": "06_B_SQzx7td"
      },
      "source": [
        "import os\n",
        "os.environ['GCLOUD_PROJECT'] = 'neo4jbusinessdev'"
      ],
      "execution_count": 10,
      "outputs": []
    },
    {
      "cell_type": "markdown",
      "metadata": {
        "id": "vBGLEj2yxbe_"
      },
      "source": [
        "### Authenticate your Google Cloud account\n"
      ]
    },
    {
      "cell_type": "code",
      "metadata": {
        "id": "wdDdVDnPxciG"
      },
      "source": [
        "from google.colab import auth as google_auth\n",
        "google_auth.authenticate_user()"
      ],
      "execution_count": 3,
      "outputs": []
    },
    {
      "cell_type": "markdown",
      "metadata": {
        "id": "tpNk1MvcWY7x"
      },
      "source": [
        "## Working with Neo4j\n",
        "In this section we're going to connect to Neo4j and look around the database.  We're going to generate some new features in the dataset using Neo4j's Graph Data Science library.  Finally, we'll load the data into a Pandas dataframe so that it's all ready to put into GCP Feature Store."
      ]
    },
    {
      "cell_type": "code",
      "metadata": {
        "id": "QiFDi4uLWY7x"
      },
      "source": [
        "import pandas as pd\n",
        "from neo4j import GraphDatabase"
      ],
      "execution_count": 4,
      "outputs": []
    },
    {
      "cell_type": "code",
      "metadata": {
        "id": "W8CxXHc3WY7x"
      },
      "source": [
        "DB_ULR = 'neo4j+s://6c443062.databases.neo4j.io:7687'\n",
        "DB_USER = 'neo4j'\n",
        "DB_PASS = 'T4N-lrtigLmVKnlmCkxjuOaAz_bADkzJkMHcCfC7hvw'\n",
        "DB_NAME = 'neo4j'"
      ],
      "execution_count": 5,
      "outputs": []
    },
    {
      "cell_type": "code",
      "metadata": {
        "id": "sgEy4q7iWY7y"
      },
      "source": [
        "driver = GraphDatabase.driver(DB_ULR, auth=(DB_USER, DB_PASS))"
      ],
      "execution_count": 6,
      "outputs": []
    },
    {
      "cell_type": "markdown",
      "metadata": {
        "id": "yBpL6dY3HEMD"
      },
      "source": [
        "Now, let's explore the data in the database a bit to understand what we have to work with."
      ]
    },
    {
      "cell_type": "code",
      "metadata": {
        "id": "z4a0_CqVWY7y",
        "colab": {
          "base_uri": "https://localhost:8080/",
          "height": 514
        },
        "outputId": "dcc7d452-0388-414e-8455-95865997d2bf"
      },
      "source": [
        "# node labels\n",
        "with driver.session(database = DB_NAME) as session:\n",
        "  result = session.read_transaction( lambda tx: \n",
        "    tx.run(\n",
        "    \"\"\"\n",
        "    CALL db.labels() YIELD label\n",
        "    CALL apoc.cypher.run('MATCH (:`'+label+'`) RETURN count(*) as freq', {})\n",
        "    YIELD value\n",
        "    RETURN label, value.freq AS freq\n",
        "    \"\"\"\n",
        "    ).data()\n",
        "  )\n",
        "  df = pd.DataFrame(result)\n",
        "  display(df)"
      ],
      "execution_count": 7,
      "outputs": [
        {
          "output_type": "display_data",
          "data": {
            "text/html": [
              "<div>\n",
              "<style scoped>\n",
              "    .dataframe tbody tr th:only-of-type {\n",
              "        vertical-align: middle;\n",
              "    }\n",
              "\n",
              "    .dataframe tbody tr th {\n",
              "        vertical-align: top;\n",
              "    }\n",
              "\n",
              "    .dataframe thead th {\n",
              "        text-align: right;\n",
              "    }\n",
              "</style>\n",
              "<table border=\"1\" class=\"dataframe\">\n",
              "  <thead>\n",
              "    <tr style=\"text-align: right;\">\n",
              "      <th></th>\n",
              "      <th>label</th>\n",
              "      <th>freq</th>\n",
              "    </tr>\n",
              "  </thead>\n",
              "  <tbody>\n",
              "    <tr>\n",
              "      <th>0</th>\n",
              "      <td>Node</td>\n",
              "      <td>0</td>\n",
              "    </tr>\n",
              "    <tr>\n",
              "      <th>1</th>\n",
              "      <td>Client</td>\n",
              "      <td>11270</td>\n",
              "    </tr>\n",
              "    <tr>\n",
              "      <th>2</th>\n",
              "      <td>Bank</td>\n",
              "      <td>5</td>\n",
              "    </tr>\n",
              "    <tr>\n",
              "      <th>3</th>\n",
              "      <td>Merchant</td>\n",
              "      <td>3465</td>\n",
              "    </tr>\n",
              "    <tr>\n",
              "      <th>4</th>\n",
              "      <td>Mule</td>\n",
              "      <td>0</td>\n",
              "    </tr>\n",
              "    <tr>\n",
              "      <th>5</th>\n",
              "      <td>CashIn</td>\n",
              "      <td>746751</td>\n",
              "    </tr>\n",
              "    <tr>\n",
              "      <th>6</th>\n",
              "      <td>CashOut</td>\n",
              "      <td>424574</td>\n",
              "    </tr>\n",
              "    <tr>\n",
              "      <th>7</th>\n",
              "      <td>Debit</td>\n",
              "      <td>130284</td>\n",
              "    </tr>\n",
              "    <tr>\n",
              "      <th>8</th>\n",
              "      <td>Payment</td>\n",
              "      <td>542443</td>\n",
              "    </tr>\n",
              "    <tr>\n",
              "      <th>9</th>\n",
              "      <td>Transfer</td>\n",
              "      <td>0</td>\n",
              "    </tr>\n",
              "    <tr>\n",
              "      <th>10</th>\n",
              "      <td>Transaction</td>\n",
              "      <td>1844052</td>\n",
              "    </tr>\n",
              "    <tr>\n",
              "      <th>11</th>\n",
              "      <td>Email</td>\n",
              "      <td>11299</td>\n",
              "    </tr>\n",
              "    <tr>\n",
              "      <th>12</th>\n",
              "      <td>SSN</td>\n",
              "      <td>11301</td>\n",
              "    </tr>\n",
              "    <tr>\n",
              "      <th>13</th>\n",
              "      <td>Phone</td>\n",
              "      <td>11299</td>\n",
              "    </tr>\n",
              "    <tr>\n",
              "      <th>14</th>\n",
              "      <td>model_data</td>\n",
              "      <td>1662</td>\n",
              "    </tr>\n",
              "  </tbody>\n",
              "</table>\n",
              "</div>"
            ],
            "text/plain": [
              "          label     freq\n",
              "0          Node        0\n",
              "1        Client    11270\n",
              "2          Bank        5\n",
              "3      Merchant     3465\n",
              "4          Mule        0\n",
              "5        CashIn   746751\n",
              "6       CashOut   424574\n",
              "7         Debit   130284\n",
              "8       Payment   542443\n",
              "9      Transfer        0\n",
              "10  Transaction  1844052\n",
              "11        Email    11299\n",
              "12          SSN    11301\n",
              "13        Phone    11299\n",
              "14   model_data     1662"
            ]
          },
          "metadata": {}
        }
      ]
    },
    {
      "cell_type": "code",
      "metadata": {
        "id": "SrETUiWdFDoy",
        "colab": {
          "base_uri": "https://localhost:8080/",
          "height": 297
        },
        "outputId": "86a3cfa6-5f6f-4072-af64-f2d0ba79c24c"
      },
      "source": [
        "# relationship types\n",
        "with driver.session(database = DB_NAME) as session:\n",
        "  result = session.read_transaction( lambda tx: \n",
        "    tx.run(\n",
        "      \"\"\"\n",
        "      CALL db.relationshipTypes() YIELD relationshipType as type\n",
        "      CALL apoc.cypher.run('MATCH ()-[:`'+type+'`]->() RETURN count(*) as freq', {})\n",
        "      YIELD value\n",
        "      RETURN type AS relationshipType, value.freq AS freq\n",
        "      ORDER by freq DESC\n",
        "      \"\"\"\n",
        "      ).data()\n",
        "    )\n",
        "df = pd.DataFrame(result)\n",
        "display(df)"
      ],
      "execution_count": 8,
      "outputs": [
        {
          "output_type": "display_data",
          "data": {
            "text/html": [
              "<div>\n",
              "<style scoped>\n",
              "    .dataframe tbody tr th:only-of-type {\n",
              "        vertical-align: middle;\n",
              "    }\n",
              "\n",
              "    .dataframe tbody tr th {\n",
              "        vertical-align: top;\n",
              "    }\n",
              "\n",
              "    .dataframe thead th {\n",
              "        text-align: right;\n",
              "    }\n",
              "</style>\n",
              "<table border=\"1\" class=\"dataframe\">\n",
              "  <thead>\n",
              "    <tr style=\"text-align: right;\">\n",
              "      <th></th>\n",
              "      <th>relationshipType</th>\n",
              "      <th>freq</th>\n",
              "    </tr>\n",
              "  </thead>\n",
              "  <tbody>\n",
              "    <tr>\n",
              "      <th>0</th>\n",
              "      <td>PERFORMED</td>\n",
              "      <td>1844052</td>\n",
              "    </tr>\n",
              "    <tr>\n",
              "      <th>1</th>\n",
              "      <td>TO</td>\n",
              "      <td>1844052</td>\n",
              "    </tr>\n",
              "    <tr>\n",
              "      <th>2</th>\n",
              "      <td>NEXT</td>\n",
              "      <td>1833720</td>\n",
              "    </tr>\n",
              "    <tr>\n",
              "      <th>3</th>\n",
              "      <td>HAS_SSN</td>\n",
              "      <td>11330</td>\n",
              "    </tr>\n",
              "    <tr>\n",
              "      <th>4</th>\n",
              "      <td>HAS_EMAIL</td>\n",
              "      <td>11330</td>\n",
              "    </tr>\n",
              "    <tr>\n",
              "      <th>5</th>\n",
              "      <td>HAS_PHONE</td>\n",
              "      <td>11330</td>\n",
              "    </tr>\n",
              "    <tr>\n",
              "      <th>6</th>\n",
              "      <td>FIRST_TX</td>\n",
              "      <td>10332</td>\n",
              "    </tr>\n",
              "    <tr>\n",
              "      <th>7</th>\n",
              "      <td>LAST_TX</td>\n",
              "      <td>10332</td>\n",
              "    </tr>\n",
              "  </tbody>\n",
              "</table>\n",
              "</div>"
            ],
            "text/plain": [
              "  relationshipType     freq\n",
              "0        PERFORMED  1844052\n",
              "1               TO  1844052\n",
              "2             NEXT  1833720\n",
              "3          HAS_SSN    11330\n",
              "4        HAS_EMAIL    11330\n",
              "5        HAS_PHONE    11330\n",
              "6         FIRST_TX    10332\n",
              "7          LAST_TX    10332"
            ]
          },
          "metadata": {}
        }
      ]
    },
    {
      "cell_type": "code",
      "metadata": {
        "id": "Lsfbg8rpJcXo",
        "colab": {
          "base_uri": "https://localhost:8080/",
          "height": 204
        },
        "outputId": "79c39161-c749-4c31-ebcc-0bff2e41c53f"
      },
      "source": [
        "# transaction types\n",
        "with driver.session(database = DB_NAME) as session:\n",
        "  result = session.read_transaction( lambda tx: \n",
        "    tx.run(\n",
        "    \"\"\"\n",
        "    MATCH (t:Transaction)\n",
        "    WITH sum(t.amount) AS globalSum, count(t) AS globalCnt\n",
        "    WITH *, 10^3 AS scaleFactor\n",
        "    UNWIND ['CashIn', 'CashOut', 'Payment', 'Debit', 'Transfer'] AS txType\n",
        "      CALL apoc.cypher.run('MATCH (t:' + txType + ')\n",
        "        RETURN sum(t.amount) as txAmount, count(t) AS txCnt', {})\n",
        "      YIELD value\n",
        "    RETURN txType,value.txAmount AS TotalMarketValue\n",
        "    \"\"\"\n",
        "    ).data()\n",
        "  )\n",
        "  df = pd.DataFrame(result)\n",
        "  display(df)"
      ],
      "execution_count": 9,
      "outputs": [
        {
          "output_type": "display_data",
          "data": {
            "text/html": [
              "<div>\n",
              "<style scoped>\n",
              "    .dataframe tbody tr th:only-of-type {\n",
              "        vertical-align: middle;\n",
              "    }\n",
              "\n",
              "    .dataframe tbody tr th {\n",
              "        vertical-align: top;\n",
              "    }\n",
              "\n",
              "    .dataframe thead th {\n",
              "        text-align: right;\n",
              "    }\n",
              "</style>\n",
              "<table border=\"1\" class=\"dataframe\">\n",
              "  <thead>\n",
              "    <tr style=\"text-align: right;\">\n",
              "      <th></th>\n",
              "      <th>txType</th>\n",
              "      <th>TotalMarketValue</th>\n",
              "    </tr>\n",
              "  </thead>\n",
              "  <tbody>\n",
              "    <tr>\n",
              "      <th>0</th>\n",
              "      <td>CashIn</td>\n",
              "      <td>1.040582e+11</td>\n",
              "    </tr>\n",
              "    <tr>\n",
              "      <th>1</th>\n",
              "      <td>CashOut</td>\n",
              "      <td>5.385410e+10</td>\n",
              "    </tr>\n",
              "    <tr>\n",
              "      <th>2</th>\n",
              "      <td>Payment</td>\n",
              "      <td>9.646814e+10</td>\n",
              "    </tr>\n",
              "    <tr>\n",
              "      <th>3</th>\n",
              "      <td>Debit</td>\n",
              "      <td>1.016829e+09</td>\n",
              "    </tr>\n",
              "    <tr>\n",
              "      <th>4</th>\n",
              "      <td>Transfer</td>\n",
              "      <td>0.000000e+00</td>\n",
              "    </tr>\n",
              "  </tbody>\n",
              "</table>\n",
              "</div>"
            ],
            "text/plain": [
              "     txType  TotalMarketValue\n",
              "0    CashIn      1.040582e+11\n",
              "1   CashOut      5.385410e+10\n",
              "2   Payment      9.646814e+10\n",
              "3     Debit      1.016829e+09\n",
              "4  Transfer      0.000000e+00"
            ]
          },
          "metadata": {}
        }
      ]
    },
    {
      "cell_type": "markdown",
      "metadata": {
        "id": "AKo4m-A4J9F8"
      },
      "source": [
        "## Create a New Feature with a Graph Embedding using Neo4j\n",
        "First we're going to create an in memory graph represtation of the data in Neo4j Graph Data Science (GDS)."
      ]
    },
    {
      "cell_type": "code",
      "metadata": {
        "id": "vdBkeDV7J8Ke",
        "colab": {
          "base_uri": "https://localhost:8080/",
          "height": 97
        },
        "outputId": "d00c1661-6d58-4fa1-e4a7-309b8c723c81"
      },
      "source": [
        "with driver.session(database = DB_NAME) as session:\n",
        "  result = session.read_transaction( lambda tx: \n",
        "    tx.run(\n",
        "    \"\"\"\n",
        "    CALL gds.graph.create.cypher('client_graph', \n",
        "      'MATCH (c:Client) RETURN id(c) as id, c.num_transactions as num_transactions, c.total_transaction_amnt as total_dollar_amnt, c.is_fraudster as is_fraudster',\n",
        "      'MATCH (c:Client)-[:PERFORMED]->(t:Transaction)-[:TO]->(c2:Client) return id(c) as source, id(c2) as target, sum(t.amount) as amount, \"TRANSACTED_WITH\" as type ')\n",
        "    \"\"\"\n",
        "    ).data()\n",
        "  )\n",
        "  df = pd.DataFrame(result)\n",
        "  display(df)"
      ],
      "execution_count": 12,
      "outputs": [
        {
          "output_type": "display_data",
          "data": {
            "text/html": [
              "<div>\n",
              "<style scoped>\n",
              "    .dataframe tbody tr th:only-of-type {\n",
              "        vertical-align: middle;\n",
              "    }\n",
              "\n",
              "    .dataframe tbody tr th {\n",
              "        vertical-align: top;\n",
              "    }\n",
              "\n",
              "    .dataframe thead th {\n",
              "        text-align: right;\n",
              "    }\n",
              "</style>\n",
              "<table border=\"1\" class=\"dataframe\">\n",
              "  <thead>\n",
              "    <tr style=\"text-align: right;\">\n",
              "      <th></th>\n",
              "      <th>nodeQuery</th>\n",
              "      <th>relationshipQuery</th>\n",
              "      <th>graphName</th>\n",
              "      <th>nodeCount</th>\n",
              "      <th>relationshipCount</th>\n",
              "      <th>createMillis</th>\n",
              "    </tr>\n",
              "  </thead>\n",
              "  <tbody>\n",
              "    <tr>\n",
              "      <th>0</th>\n",
              "      <td>MATCH (c:Client) RETURN id(c) as id, c.num_tra...</td>\n",
              "      <td>MATCH (c:Client)-[:PERFORMED]-&gt;(t:Transaction)...</td>\n",
              "      <td>client_graph</td>\n",
              "      <td>11270</td>\n",
              "      <td>26035</td>\n",
              "      <td>490</td>\n",
              "    </tr>\n",
              "  </tbody>\n",
              "</table>\n",
              "</div>"
            ],
            "text/plain": [
              "                                           nodeQuery  ... createMillis\n",
              "0  MATCH (c:Client) RETURN id(c) as id, c.num_tra...  ...          490\n",
              "\n",
              "[1 rows x 6 columns]"
            ]
          },
          "metadata": {}
        }
      ]
    },
    {
      "cell_type": "markdown",
      "metadata": {
        "id": "WewKw5g4NKVo"
      },
      "source": [
        "Now we can generate an embedding from that graph.  This is a new feature we can use in our predictions.  We're using FastRP, which is a more full featured and higher performance of Node2Vec.  You can learn more about that [here](https://neo4j.com/docs/graph-data-science/current/algorithms/fastrp/)."
      ]
    },
    {
      "cell_type": "code",
      "metadata": {
        "id": "fBa8ofijEtHn",
        "colab": {
          "base_uri": "https://localhost:8080/",
          "height": 80
        },
        "outputId": "c886219c-b17c-413e-e687-98d252a7f3b1"
      },
      "source": [
        "with driver.session(database = DB_NAME) as session:\n",
        "  result = session.read_transaction( lambda tx: \n",
        "    tx.run(\n",
        "    \"\"\"\n",
        "    CALL gds.fastRP.mutate('client_graph',{\n",
        "      relationshipWeightProperty:'amount',\n",
        "      iterationWeights: [0.0, 1.00, 1.00, 0.80, 0.60],\n",
        "      featureProperties: ['num_transactions', 'total_dollar_amnt'],\n",
        "      propertyRatio: .25, \n",
        "      embeddingDimension:16,\n",
        "      randomSeed: 1, \n",
        "      mutateProperty:'embedding'\n",
        "    })\n",
        "    \"\"\"\n",
        "    ).data()\n",
        "  )\n",
        "  df = pd.DataFrame(result)\n",
        "  display(df)"
      ],
      "execution_count": 13,
      "outputs": [
        {
          "output_type": "display_data",
          "data": {
            "text/html": [
              "<div>\n",
              "<style scoped>\n",
              "    .dataframe tbody tr th:only-of-type {\n",
              "        vertical-align: middle;\n",
              "    }\n",
              "\n",
              "    .dataframe tbody tr th {\n",
              "        vertical-align: top;\n",
              "    }\n",
              "\n",
              "    .dataframe thead th {\n",
              "        text-align: right;\n",
              "    }\n",
              "</style>\n",
              "<table border=\"1\" class=\"dataframe\">\n",
              "  <thead>\n",
              "    <tr style=\"text-align: right;\">\n",
              "      <th></th>\n",
              "      <th>nodePropertiesWritten</th>\n",
              "      <th>mutateMillis</th>\n",
              "      <th>nodeCount</th>\n",
              "      <th>createMillis</th>\n",
              "      <th>computeMillis</th>\n",
              "      <th>configuration</th>\n",
              "    </tr>\n",
              "  </thead>\n",
              "  <tbody>\n",
              "    <tr>\n",
              "      <th>0</th>\n",
              "      <td>11270</td>\n",
              "      <td>0</td>\n",
              "      <td>11270</td>\n",
              "      <td>0</td>\n",
              "      <td>17</td>\n",
              "      <td>{'nodeSelfInfluence': 0, 'relationshipWeightPr...</td>\n",
              "    </tr>\n",
              "  </tbody>\n",
              "</table>\n",
              "</div>"
            ],
            "text/plain": [
              "   nodePropertiesWritten  ...                                      configuration\n",
              "0                  11270  ...  {'nodeSelfInfluence': 0, 'relationshipWeightPr...\n",
              "\n",
              "[1 rows x 6 columns]"
            ]
          },
          "metadata": {}
        }
      ]
    },
    {
      "cell_type": "markdown",
      "metadata": {
        "id": "7PCI0yiUNpLZ"
      },
      "source": [
        "Finally we dump that out to a dataframe"
      ]
    },
    {
      "cell_type": "code",
      "metadata": {
        "id": "gkALAMl5NtDg",
        "colab": {
          "base_uri": "https://localhost:8080/",
          "height": 419
        },
        "outputId": "d97aac09-bb60-4182-b991-926a081d432d"
      },
      "source": [
        "with driver.session(database = DB_NAME) as session:\n",
        "  result = session.read_transaction( lambda tx: \n",
        "    tx.run(\n",
        "    \"\"\"\n",
        "    CALL gds.graph.streamNodeProperties\n",
        "    ('client_graph', ['embedding', 'num_transactions', 'total_dollar_amnt', 'is_fraudster'])\n",
        "    YIELD nodeId, nodeProperty, propertyValue\n",
        "    RETURN nodeId, nodeProperty, propertyValue\n",
        "    \"\"\"\n",
        "    ).data()\n",
        "  )\n",
        "  df = pd.DataFrame(result)\n",
        "  display(df)"
      ],
      "execution_count": 14,
      "outputs": [
        {
          "output_type": "display_data",
          "data": {
            "text/html": [
              "<div>\n",
              "<style scoped>\n",
              "    .dataframe tbody tr th:only-of-type {\n",
              "        vertical-align: middle;\n",
              "    }\n",
              "\n",
              "    .dataframe tbody tr th {\n",
              "        vertical-align: top;\n",
              "    }\n",
              "\n",
              "    .dataframe thead th {\n",
              "        text-align: right;\n",
              "    }\n",
              "</style>\n",
              "<table border=\"1\" class=\"dataframe\">\n",
              "  <thead>\n",
              "    <tr style=\"text-align: right;\">\n",
              "      <th></th>\n",
              "      <th>nodeId</th>\n",
              "      <th>nodeProperty</th>\n",
              "      <th>propertyValue</th>\n",
              "    </tr>\n",
              "  </thead>\n",
              "  <tbody>\n",
              "    <tr>\n",
              "      <th>0</th>\n",
              "      <td>0</td>\n",
              "      <td>embedding</td>\n",
              "      <td>[0.0, 0.0, 0.0, 0.0, 0.0, 0.0, 0.0, 0.0, 0.0, ...</td>\n",
              "    </tr>\n",
              "    <tr>\n",
              "      <th>1</th>\n",
              "      <td>0</td>\n",
              "      <td>num_transactions</td>\n",
              "      <td>4</td>\n",
              "    </tr>\n",
              "    <tr>\n",
              "      <th>2</th>\n",
              "      <td>0</td>\n",
              "      <td>total_dollar_amnt</td>\n",
              "      <td>118919</td>\n",
              "    </tr>\n",
              "    <tr>\n",
              "      <th>3</th>\n",
              "      <td>0</td>\n",
              "      <td>is_fraudster</td>\n",
              "      <td>1</td>\n",
              "    </tr>\n",
              "    <tr>\n",
              "      <th>4</th>\n",
              "      <td>3</td>\n",
              "      <td>embedding</td>\n",
              "      <td>[0.0, 0.0, 0.0, 0.0, 0.0, 0.0, 0.0, 0.0, 0.0, ...</td>\n",
              "    </tr>\n",
              "    <tr>\n",
              "      <th>...</th>\n",
              "      <td>...</td>\n",
              "      <td>...</td>\n",
              "      <td>...</td>\n",
              "    </tr>\n",
              "    <tr>\n",
              "      <th>45075</th>\n",
              "      <td>1858717</td>\n",
              "      <td>is_fraudster</td>\n",
              "      <td>10000</td>\n",
              "    </tr>\n",
              "    <tr>\n",
              "      <th>45076</th>\n",
              "      <td>1858725</td>\n",
              "      <td>embedding</td>\n",
              "      <td>[0.0, 0.0, 0.0, 0.0, 0.0, 0.0, 0.0, 0.0, 0.0, ...</td>\n",
              "    </tr>\n",
              "    <tr>\n",
              "      <th>45077</th>\n",
              "      <td>1858725</td>\n",
              "      <td>num_transactions</td>\n",
              "      <td>1</td>\n",
              "    </tr>\n",
              "    <tr>\n",
              "      <th>45078</th>\n",
              "      <td>1858725</td>\n",
              "      <td>total_dollar_amnt</td>\n",
              "      <td>1557.3</td>\n",
              "    </tr>\n",
              "    <tr>\n",
              "      <th>45079</th>\n",
              "      <td>1858725</td>\n",
              "      <td>is_fraudster</td>\n",
              "      <td>10000</td>\n",
              "    </tr>\n",
              "  </tbody>\n",
              "</table>\n",
              "<p>45080 rows × 3 columns</p>\n",
              "</div>"
            ],
            "text/plain": [
              "        nodeId  ...                                      propertyValue\n",
              "0            0  ...  [0.0, 0.0, 0.0, 0.0, 0.0, 0.0, 0.0, 0.0, 0.0, ...\n",
              "1            0  ...                                                  4\n",
              "2            0  ...                                             118919\n",
              "3            0  ...                                                  1\n",
              "4            3  ...  [0.0, 0.0, 0.0, 0.0, 0.0, 0.0, 0.0, 0.0, 0.0, ...\n",
              "...        ...  ...                                                ...\n",
              "45075  1858717  ...                                              10000\n",
              "45076  1858725  ...  [0.0, 0.0, 0.0, 0.0, 0.0, 0.0, 0.0, 0.0, 0.0, ...\n",
              "45077  1858725  ...                                                  1\n",
              "45078  1858725  ...                                             1557.3\n",
              "45079  1858725  ...                                              10000\n",
              "\n",
              "[45080 rows x 3 columns]"
            ]
          },
          "metadata": {}
        }
      ]
    },
    {
      "cell_type": "markdown",
      "metadata": {
        "id": "gzDiV7Efv40X"
      },
      "source": [
        "Now we need to take that dataframe and shape it into something that better represents our classification problem."
      ]
    },
    {
      "cell_type": "code",
      "metadata": {
        "colab": {
          "base_uri": "https://localhost:8080/",
          "height": 419
        },
        "id": "JkzFxCgdqeTt",
        "outputId": "fee1225f-1221-4b1a-d357-760aab881767"
      },
      "source": [
        "x = df.pivot(index='nodeId', columns='nodeProperty', values='propertyValue')\n",
        "x = x.reset_index()\n",
        "x.columns.name = None\n",
        "x"
      ],
      "execution_count": 15,
      "outputs": [
        {
          "output_type": "execute_result",
          "data": {
            "text/html": [
              "<div>\n",
              "<style scoped>\n",
              "    .dataframe tbody tr th:only-of-type {\n",
              "        vertical-align: middle;\n",
              "    }\n",
              "\n",
              "    .dataframe tbody tr th {\n",
              "        vertical-align: top;\n",
              "    }\n",
              "\n",
              "    .dataframe thead th {\n",
              "        text-align: right;\n",
              "    }\n",
              "</style>\n",
              "<table border=\"1\" class=\"dataframe\">\n",
              "  <thead>\n",
              "    <tr style=\"text-align: right;\">\n",
              "      <th></th>\n",
              "      <th>nodeId</th>\n",
              "      <th>embedding</th>\n",
              "      <th>is_fraudster</th>\n",
              "      <th>num_transactions</th>\n",
              "      <th>total_dollar_amnt</th>\n",
              "    </tr>\n",
              "  </thead>\n",
              "  <tbody>\n",
              "    <tr>\n",
              "      <th>0</th>\n",
              "      <td>0</td>\n",
              "      <td>[0.0, 0.0, 0.0, 0.0, 0.0, 0.0, 0.0, 0.0, 0.0, ...</td>\n",
              "      <td>1</td>\n",
              "      <td>4</td>\n",
              "      <td>118919</td>\n",
              "    </tr>\n",
              "    <tr>\n",
              "      <th>1</th>\n",
              "      <td>3</td>\n",
              "      <td>[0.0, 0.0, 0.0, 0.0, 0.0, 0.0, 0.0, 0.0, 0.0, ...</td>\n",
              "      <td>10000</td>\n",
              "      <td>0</td>\n",
              "      <td>0</td>\n",
              "    </tr>\n",
              "    <tr>\n",
              "      <th>2</th>\n",
              "      <td>5</td>\n",
              "      <td>[-4.998395475297457e-09, 5.79870196304455e-09,...</td>\n",
              "      <td>1</td>\n",
              "      <td>80</td>\n",
              "      <td>7.48446e+06</td>\n",
              "    </tr>\n",
              "    <tr>\n",
              "      <th>3</th>\n",
              "      <td>8</td>\n",
              "      <td>[0.0, 0.0, 0.0, 0.0, 0.0, 0.0, 0.0, 0.0, 0.0, ...</td>\n",
              "      <td>10000</td>\n",
              "      <td>0</td>\n",
              "      <td>0</td>\n",
              "    </tr>\n",
              "    <tr>\n",
              "      <th>4</th>\n",
              "      <td>10</td>\n",
              "      <td>[0.02352502942085266, -0.023524967953562737, 2...</td>\n",
              "      <td>1</td>\n",
              "      <td>227</td>\n",
              "      <td>3.75806e+07</td>\n",
              "    </tr>\n",
              "    <tr>\n",
              "      <th>...</th>\n",
              "      <td>...</td>\n",
              "      <td>...</td>\n",
              "      <td>...</td>\n",
              "      <td>...</td>\n",
              "      <td>...</td>\n",
              "    </tr>\n",
              "    <tr>\n",
              "      <th>11265</th>\n",
              "      <td>1857442</td>\n",
              "      <td>[0.0, 0.0, 0.0, 0.0, 0.0, 0.0, 0.0, 0.0, 0.0, ...</td>\n",
              "      <td>10000</td>\n",
              "      <td>1</td>\n",
              "      <td>21671</td>\n",
              "    </tr>\n",
              "    <tr>\n",
              "      <th>11266</th>\n",
              "      <td>1857502</td>\n",
              "      <td>[0.0, 0.0, 0.0, 0.0, 0.0, 0.0, 0.0, 0.0, 0.0, ...</td>\n",
              "      <td>10000</td>\n",
              "      <td>1</td>\n",
              "      <td>93.5579</td>\n",
              "    </tr>\n",
              "    <tr>\n",
              "      <th>11267</th>\n",
              "      <td>1857640</td>\n",
              "      <td>[0.0, 0.0, 0.0, 0.0, 0.0, 0.0, 0.0, 0.0, 0.0, ...</td>\n",
              "      <td>10000</td>\n",
              "      <td>1</td>\n",
              "      <td>92.3323</td>\n",
              "    </tr>\n",
              "    <tr>\n",
              "      <th>11268</th>\n",
              "      <td>1858717</td>\n",
              "      <td>[0.0, 0.0, 0.0, 0.0, 0.0, 0.0, 0.0, 0.0, 0.0, ...</td>\n",
              "      <td>10000</td>\n",
              "      <td>1</td>\n",
              "      <td>11272.2</td>\n",
              "    </tr>\n",
              "    <tr>\n",
              "      <th>11269</th>\n",
              "      <td>1858725</td>\n",
              "      <td>[0.0, 0.0, 0.0, 0.0, 0.0, 0.0, 0.0, 0.0, 0.0, ...</td>\n",
              "      <td>10000</td>\n",
              "      <td>1</td>\n",
              "      <td>1557.3</td>\n",
              "    </tr>\n",
              "  </tbody>\n",
              "</table>\n",
              "<p>11270 rows × 5 columns</p>\n",
              "</div>"
            ],
            "text/plain": [
              "        nodeId  ... total_dollar_amnt\n",
              "0            0  ...            118919\n",
              "1            3  ...                 0\n",
              "2            5  ...       7.48446e+06\n",
              "3            8  ...                 0\n",
              "4           10  ...       3.75806e+07\n",
              "...        ...  ...               ...\n",
              "11265  1857442  ...             21671\n",
              "11266  1857502  ...           93.5579\n",
              "11267  1857640  ...           92.3323\n",
              "11268  1858717  ...           11272.2\n",
              "11269  1858725  ...            1557.3\n",
              "\n",
              "[11270 rows x 5 columns]"
            ]
          },
          "metadata": {},
          "execution_count": 15
        }
      ]
    },
    {
      "cell_type": "markdown",
      "metadata": {
        "id": "uPim4AGB8w3Q"
      },
      "source": [
        "is_fraudster will have a value of 0 or 1 if populated.  If the value is 10000 then it's unlabled, so we're going to drop it."
      ]
    },
    {
      "cell_type": "code",
      "metadata": {
        "colab": {
          "base_uri": "https://localhost:8080/",
          "height": 419
        },
        "id": "2jZZg6ln8wW_",
        "outputId": "89bb2407-3aab-48c4-c977-d8b9c732a965"
      },
      "source": [
        "x = x.loc[x['is_fraudster'] != 10000]\n",
        "x"
      ],
      "execution_count": 16,
      "outputs": [
        {
          "output_type": "execute_result",
          "data": {
            "text/html": [
              "<div>\n",
              "<style scoped>\n",
              "    .dataframe tbody tr th:only-of-type {\n",
              "        vertical-align: middle;\n",
              "    }\n",
              "\n",
              "    .dataframe tbody tr th {\n",
              "        vertical-align: top;\n",
              "    }\n",
              "\n",
              "    .dataframe thead th {\n",
              "        text-align: right;\n",
              "    }\n",
              "</style>\n",
              "<table border=\"1\" class=\"dataframe\">\n",
              "  <thead>\n",
              "    <tr style=\"text-align: right;\">\n",
              "      <th></th>\n",
              "      <th>nodeId</th>\n",
              "      <th>embedding</th>\n",
              "      <th>is_fraudster</th>\n",
              "      <th>num_transactions</th>\n",
              "      <th>total_dollar_amnt</th>\n",
              "    </tr>\n",
              "  </thead>\n",
              "  <tbody>\n",
              "    <tr>\n",
              "      <th>0</th>\n",
              "      <td>0</td>\n",
              "      <td>[0.0, 0.0, 0.0, 0.0, 0.0, 0.0, 0.0, 0.0, 0.0, ...</td>\n",
              "      <td>1</td>\n",
              "      <td>4</td>\n",
              "      <td>118919</td>\n",
              "    </tr>\n",
              "    <tr>\n",
              "      <th>2</th>\n",
              "      <td>5</td>\n",
              "      <td>[-4.998395475297457e-09, 5.79870196304455e-09,...</td>\n",
              "      <td>1</td>\n",
              "      <td>80</td>\n",
              "      <td>7.48446e+06</td>\n",
              "    </tr>\n",
              "    <tr>\n",
              "      <th>4</th>\n",
              "      <td>10</td>\n",
              "      <td>[0.02352502942085266, -0.023524967953562737, 2...</td>\n",
              "      <td>1</td>\n",
              "      <td>227</td>\n",
              "      <td>3.75806e+07</td>\n",
              "    </tr>\n",
              "    <tr>\n",
              "      <th>6</th>\n",
              "      <td>15</td>\n",
              "      <td>[-0.005754098296165466, -4.570129021885805e-05...</td>\n",
              "      <td>1</td>\n",
              "      <td>106</td>\n",
              "      <td>4.86428e+06</td>\n",
              "    </tr>\n",
              "    <tr>\n",
              "      <th>7</th>\n",
              "      <td>18</td>\n",
              "      <td>[0.0, 0.0, 0.0, 0.0, 0.0, 0.0, 0.0, 0.0, 0.0, ...</td>\n",
              "      <td>0</td>\n",
              "      <td>0</td>\n",
              "      <td>0</td>\n",
              "    </tr>\n",
              "    <tr>\n",
              "      <th>...</th>\n",
              "      <td>...</td>\n",
              "      <td>...</td>\n",
              "      <td>...</td>\n",
              "      <td>...</td>\n",
              "      <td>...</td>\n",
              "    </tr>\n",
              "    <tr>\n",
              "      <th>11192</th>\n",
              "      <td>1839904</td>\n",
              "      <td>[0.0, 0.0, 0.0, 0.0, 0.0, 0.0, 0.0, 0.0, 0.0, ...</td>\n",
              "      <td>0</td>\n",
              "      <td>1</td>\n",
              "      <td>52.3779</td>\n",
              "    </tr>\n",
              "    <tr>\n",
              "      <th>11204</th>\n",
              "      <td>1844183</td>\n",
              "      <td>[0.0, 0.0, 0.0, 0.0, 0.0, 0.0, 0.0, 0.0, 0.0, ...</td>\n",
              "      <td>0</td>\n",
              "      <td>1</td>\n",
              "      <td>133989</td>\n",
              "    </tr>\n",
              "    <tr>\n",
              "      <th>11224</th>\n",
              "      <td>1847685</td>\n",
              "      <td>[0.0, 0.0, 0.0, 0.0, 0.0, 0.0, 0.0, 0.0, 0.0, ...</td>\n",
              "      <td>0</td>\n",
              "      <td>1</td>\n",
              "      <td>27.6889</td>\n",
              "    </tr>\n",
              "    <tr>\n",
              "      <th>11242</th>\n",
              "      <td>1849983</td>\n",
              "      <td>[0.0, 0.0, 0.0, 0.0, 0.0, 0.0, 0.0, 0.0, 0.0, ...</td>\n",
              "      <td>0</td>\n",
              "      <td>1</td>\n",
              "      <td>194573</td>\n",
              "    </tr>\n",
              "    <tr>\n",
              "      <th>11245</th>\n",
              "      <td>1851115</td>\n",
              "      <td>[0.0, 0.0, 0.0, 0.0, 0.0, 0.0, 0.0, 0.0, 0.0, ...</td>\n",
              "      <td>0</td>\n",
              "      <td>1</td>\n",
              "      <td>5528.9</td>\n",
              "    </tr>\n",
              "  </tbody>\n",
              "</table>\n",
              "<p>1662 rows × 5 columns</p>\n",
              "</div>"
            ],
            "text/plain": [
              "        nodeId  ... total_dollar_amnt\n",
              "0            0  ...            118919\n",
              "2            5  ...       7.48446e+06\n",
              "4           10  ...       3.75806e+07\n",
              "6           15  ...       4.86428e+06\n",
              "7           18  ...                 0\n",
              "...        ...  ...               ...\n",
              "11192  1839904  ...           52.3779\n",
              "11204  1844183  ...            133989\n",
              "11224  1847685  ...           27.6889\n",
              "11242  1849983  ...            194573\n",
              "11245  1851115  ...            5528.9\n",
              "\n",
              "[1662 rows x 5 columns]"
            ]
          },
          "metadata": {},
          "execution_count": 16
        }
      ]
    },
    {
      "cell_type": "markdown",
      "metadata": {
        "id": "gOt_DjoPVirz"
      },
      "source": [
        "Note that the embedding row is an array.  To make this dataset more consumable, we should flatten that out into multiple individual features: embedding_0, embedding_1, ... embedding_n."
      ]
    },
    {
      "cell_type": "code",
      "metadata": {
        "id": "am_j04A-VykQ",
        "colab": {
          "base_uri": "https://localhost:8080/",
          "height": 439
        },
        "outputId": "0ca8a696-90ce-418c-df63-154b9416a98f"
      },
      "source": [
        "y = pd.DataFrame()\n",
        "for index, row in x.iterrows():\n",
        "  embedding = row['embedding']\n",
        "  i=0\n",
        "  for column in embedding:\n",
        "    row['embedding_' + str(i)] = column\n",
        "    i+=1\n",
        "  y = y.append(row)\n",
        "y = y.drop(columns = 'embedding')\n",
        "y"
      ],
      "execution_count": 17,
      "outputs": [
        {
          "output_type": "execute_result",
          "data": {
            "text/html": [
              "<div>\n",
              "<style scoped>\n",
              "    .dataframe tbody tr th:only-of-type {\n",
              "        vertical-align: middle;\n",
              "    }\n",
              "\n",
              "    .dataframe tbody tr th {\n",
              "        vertical-align: top;\n",
              "    }\n",
              "\n",
              "    .dataframe thead th {\n",
              "        text-align: right;\n",
              "    }\n",
              "</style>\n",
              "<table border=\"1\" class=\"dataframe\">\n",
              "  <thead>\n",
              "    <tr style=\"text-align: right;\">\n",
              "      <th></th>\n",
              "      <th>embedding_0</th>\n",
              "      <th>embedding_1</th>\n",
              "      <th>embedding_10</th>\n",
              "      <th>embedding_11</th>\n",
              "      <th>embedding_12</th>\n",
              "      <th>embedding_13</th>\n",
              "      <th>embedding_14</th>\n",
              "      <th>embedding_15</th>\n",
              "      <th>embedding_2</th>\n",
              "      <th>embedding_3</th>\n",
              "      <th>embedding_4</th>\n",
              "      <th>embedding_5</th>\n",
              "      <th>embedding_6</th>\n",
              "      <th>embedding_7</th>\n",
              "      <th>embedding_8</th>\n",
              "      <th>embedding_9</th>\n",
              "      <th>is_fraudster</th>\n",
              "      <th>nodeId</th>\n",
              "      <th>num_transactions</th>\n",
              "      <th>total_dollar_amnt</th>\n",
              "    </tr>\n",
              "  </thead>\n",
              "  <tbody>\n",
              "    <tr>\n",
              "      <th>0</th>\n",
              "      <td>0.000000e+00</td>\n",
              "      <td>0.000000e+00</td>\n",
              "      <td>0.000000e+00</td>\n",
              "      <td>0.000000e+00</td>\n",
              "      <td>0.000000</td>\n",
              "      <td>0.000000</td>\n",
              "      <td>0.000000</td>\n",
              "      <td>0.000000</td>\n",
              "      <td>0.000000e+00</td>\n",
              "      <td>0.000000e+00</td>\n",
              "      <td>0.000000e+00</td>\n",
              "      <td>0.000000e+00</td>\n",
              "      <td>0.000000e+00</td>\n",
              "      <td>0.000000e+00</td>\n",
              "      <td>0.000000e+00</td>\n",
              "      <td>0.000000e+00</td>\n",
              "      <td>1.0</td>\n",
              "      <td>0.0</td>\n",
              "      <td>4.0</td>\n",
              "      <td>1.189191e+05</td>\n",
              "    </tr>\n",
              "    <tr>\n",
              "      <th>2</th>\n",
              "      <td>-4.998395e-09</td>\n",
              "      <td>5.798702e-09</td>\n",
              "      <td>2.002568e-08</td>\n",
              "      <td>-2.010450e-09</td>\n",
              "      <td>-1.699997</td>\n",
              "      <td>-1.700010</td>\n",
              "      <td>1.699997</td>\n",
              "      <td>1.699997</td>\n",
              "      <td>7.104590e-09</td>\n",
              "      <td>1.546504e-08</td>\n",
              "      <td>-1.411599e-09</td>\n",
              "      <td>5.922697e-09</td>\n",
              "      <td>-1.690706e-08</td>\n",
              "      <td>2.139070e-08</td>\n",
              "      <td>-1.641397e-09</td>\n",
              "      <td>4.917939e-10</td>\n",
              "      <td>1.0</td>\n",
              "      <td>5.0</td>\n",
              "      <td>80.0</td>\n",
              "      <td>7.484460e+06</td>\n",
              "    </tr>\n",
              "    <tr>\n",
              "      <th>4</th>\n",
              "      <td>2.352503e-02</td>\n",
              "      <td>-2.352497e-02</td>\n",
              "      <td>-1.257205e-09</td>\n",
              "      <td>-6.579879e-08</td>\n",
              "      <td>-1.699563</td>\n",
              "      <td>-1.699574</td>\n",
              "      <td>1.699563</td>\n",
              "      <td>1.699563</td>\n",
              "      <td>2.529249e-09</td>\n",
              "      <td>5.642404e-08</td>\n",
              "      <td>-2.352496e-02</td>\n",
              "      <td>-6.034454e-08</td>\n",
              "      <td>-3.087639e-09</td>\n",
              "      <td>2.352496e-02</td>\n",
              "      <td>1.089450e-09</td>\n",
              "      <td>-4.411410e-09</td>\n",
              "      <td>1.0</td>\n",
              "      <td>10.0</td>\n",
              "      <td>227.0</td>\n",
              "      <td>3.758064e+07</td>\n",
              "    </tr>\n",
              "    <tr>\n",
              "      <th>6</th>\n",
              "      <td>-5.754098e-03</td>\n",
              "      <td>-4.570129e-05</td>\n",
              "      <td>-5.204798e-03</td>\n",
              "      <td>5.197512e-03</td>\n",
              "      <td>-1.699943</td>\n",
              "      <td>-1.699966</td>\n",
              "      <td>1.699943</td>\n",
              "      <td>1.699943</td>\n",
              "      <td>-2.185746e-04</td>\n",
              "      <td>-5.421832e-03</td>\n",
              "      <td>5.196619e-03</td>\n",
              "      <td>-5.610914e-03</td>\n",
              "      <td>5.400719e-05</td>\n",
              "      <td>-1.105490e-02</td>\n",
              "      <td>-9.687337e-06</td>\n",
              "      <td>5.248424e-03</td>\n",
              "      <td>1.0</td>\n",
              "      <td>15.0</td>\n",
              "      <td>106.0</td>\n",
              "      <td>4.864282e+06</td>\n",
              "    </tr>\n",
              "    <tr>\n",
              "      <th>7</th>\n",
              "      <td>0.000000e+00</td>\n",
              "      <td>0.000000e+00</td>\n",
              "      <td>0.000000e+00</td>\n",
              "      <td>0.000000e+00</td>\n",
              "      <td>0.000000</td>\n",
              "      <td>0.000000</td>\n",
              "      <td>0.000000</td>\n",
              "      <td>0.000000</td>\n",
              "      <td>0.000000e+00</td>\n",
              "      <td>0.000000e+00</td>\n",
              "      <td>0.000000e+00</td>\n",
              "      <td>0.000000e+00</td>\n",
              "      <td>0.000000e+00</td>\n",
              "      <td>0.000000e+00</td>\n",
              "      <td>0.000000e+00</td>\n",
              "      <td>0.000000e+00</td>\n",
              "      <td>0.0</td>\n",
              "      <td>18.0</td>\n",
              "      <td>0.0</td>\n",
              "      <td>0.000000e+00</td>\n",
              "    </tr>\n",
              "    <tr>\n",
              "      <th>...</th>\n",
              "      <td>...</td>\n",
              "      <td>...</td>\n",
              "      <td>...</td>\n",
              "      <td>...</td>\n",
              "      <td>...</td>\n",
              "      <td>...</td>\n",
              "      <td>...</td>\n",
              "      <td>...</td>\n",
              "      <td>...</td>\n",
              "      <td>...</td>\n",
              "      <td>...</td>\n",
              "      <td>...</td>\n",
              "      <td>...</td>\n",
              "      <td>...</td>\n",
              "      <td>...</td>\n",
              "      <td>...</td>\n",
              "      <td>...</td>\n",
              "      <td>...</td>\n",
              "      <td>...</td>\n",
              "      <td>...</td>\n",
              "    </tr>\n",
              "    <tr>\n",
              "      <th>11192</th>\n",
              "      <td>0.000000e+00</td>\n",
              "      <td>0.000000e+00</td>\n",
              "      <td>0.000000e+00</td>\n",
              "      <td>0.000000e+00</td>\n",
              "      <td>0.000000</td>\n",
              "      <td>0.000000</td>\n",
              "      <td>0.000000</td>\n",
              "      <td>0.000000</td>\n",
              "      <td>0.000000e+00</td>\n",
              "      <td>0.000000e+00</td>\n",
              "      <td>0.000000e+00</td>\n",
              "      <td>0.000000e+00</td>\n",
              "      <td>0.000000e+00</td>\n",
              "      <td>0.000000e+00</td>\n",
              "      <td>0.000000e+00</td>\n",
              "      <td>0.000000e+00</td>\n",
              "      <td>0.0</td>\n",
              "      <td>1839904.0</td>\n",
              "      <td>1.0</td>\n",
              "      <td>5.237794e+01</td>\n",
              "    </tr>\n",
              "    <tr>\n",
              "      <th>11204</th>\n",
              "      <td>0.000000e+00</td>\n",
              "      <td>0.000000e+00</td>\n",
              "      <td>0.000000e+00</td>\n",
              "      <td>0.000000e+00</td>\n",
              "      <td>0.000000</td>\n",
              "      <td>0.000000</td>\n",
              "      <td>0.000000</td>\n",
              "      <td>0.000000</td>\n",
              "      <td>0.000000e+00</td>\n",
              "      <td>0.000000e+00</td>\n",
              "      <td>0.000000e+00</td>\n",
              "      <td>0.000000e+00</td>\n",
              "      <td>0.000000e+00</td>\n",
              "      <td>0.000000e+00</td>\n",
              "      <td>0.000000e+00</td>\n",
              "      <td>0.000000e+00</td>\n",
              "      <td>0.0</td>\n",
              "      <td>1844183.0</td>\n",
              "      <td>1.0</td>\n",
              "      <td>1.339891e+05</td>\n",
              "    </tr>\n",
              "    <tr>\n",
              "      <th>11224</th>\n",
              "      <td>0.000000e+00</td>\n",
              "      <td>0.000000e+00</td>\n",
              "      <td>0.000000e+00</td>\n",
              "      <td>0.000000e+00</td>\n",
              "      <td>0.000000</td>\n",
              "      <td>0.000000</td>\n",
              "      <td>0.000000</td>\n",
              "      <td>0.000000</td>\n",
              "      <td>0.000000e+00</td>\n",
              "      <td>0.000000e+00</td>\n",
              "      <td>0.000000e+00</td>\n",
              "      <td>0.000000e+00</td>\n",
              "      <td>0.000000e+00</td>\n",
              "      <td>0.000000e+00</td>\n",
              "      <td>0.000000e+00</td>\n",
              "      <td>0.000000e+00</td>\n",
              "      <td>0.0</td>\n",
              "      <td>1847685.0</td>\n",
              "      <td>1.0</td>\n",
              "      <td>2.768894e+01</td>\n",
              "    </tr>\n",
              "    <tr>\n",
              "      <th>11242</th>\n",
              "      <td>0.000000e+00</td>\n",
              "      <td>0.000000e+00</td>\n",
              "      <td>0.000000e+00</td>\n",
              "      <td>0.000000e+00</td>\n",
              "      <td>0.000000</td>\n",
              "      <td>0.000000</td>\n",
              "      <td>0.000000</td>\n",
              "      <td>0.000000</td>\n",
              "      <td>0.000000e+00</td>\n",
              "      <td>0.000000e+00</td>\n",
              "      <td>0.000000e+00</td>\n",
              "      <td>0.000000e+00</td>\n",
              "      <td>0.000000e+00</td>\n",
              "      <td>0.000000e+00</td>\n",
              "      <td>0.000000e+00</td>\n",
              "      <td>0.000000e+00</td>\n",
              "      <td>0.0</td>\n",
              "      <td>1849983.0</td>\n",
              "      <td>1.0</td>\n",
              "      <td>1.945731e+05</td>\n",
              "    </tr>\n",
              "    <tr>\n",
              "      <th>11245</th>\n",
              "      <td>0.000000e+00</td>\n",
              "      <td>0.000000e+00</td>\n",
              "      <td>0.000000e+00</td>\n",
              "      <td>0.000000e+00</td>\n",
              "      <td>0.000000</td>\n",
              "      <td>0.000000</td>\n",
              "      <td>0.000000</td>\n",
              "      <td>0.000000</td>\n",
              "      <td>0.000000e+00</td>\n",
              "      <td>0.000000e+00</td>\n",
              "      <td>0.000000e+00</td>\n",
              "      <td>0.000000e+00</td>\n",
              "      <td>0.000000e+00</td>\n",
              "      <td>0.000000e+00</td>\n",
              "      <td>0.000000e+00</td>\n",
              "      <td>0.000000e+00</td>\n",
              "      <td>0.0</td>\n",
              "      <td>1851115.0</td>\n",
              "      <td>1.0</td>\n",
              "      <td>5.528896e+03</td>\n",
              "    </tr>\n",
              "  </tbody>\n",
              "</table>\n",
              "<p>1662 rows × 20 columns</p>\n",
              "</div>"
            ],
            "text/plain": [
              "        embedding_0   embedding_1  ...  num_transactions  total_dollar_amnt\n",
              "0      0.000000e+00  0.000000e+00  ...               4.0       1.189191e+05\n",
              "2     -4.998395e-09  5.798702e-09  ...              80.0       7.484460e+06\n",
              "4      2.352503e-02 -2.352497e-02  ...             227.0       3.758064e+07\n",
              "6     -5.754098e-03 -4.570129e-05  ...             106.0       4.864282e+06\n",
              "7      0.000000e+00  0.000000e+00  ...               0.0       0.000000e+00\n",
              "...             ...           ...  ...               ...                ...\n",
              "11192  0.000000e+00  0.000000e+00  ...               1.0       5.237794e+01\n",
              "11204  0.000000e+00  0.000000e+00  ...               1.0       1.339891e+05\n",
              "11224  0.000000e+00  0.000000e+00  ...               1.0       2.768894e+01\n",
              "11242  0.000000e+00  0.000000e+00  ...               1.0       1.945731e+05\n",
              "11245  0.000000e+00  0.000000e+00  ...               1.0       5.528896e+03\n",
              "\n",
              "[1662 rows x 20 columns]"
            ]
          },
          "metadata": {},
          "execution_count": 17
        }
      ]
    },
    {
      "cell_type": "markdown",
      "metadata": {
        "id": "hpNFaHfKK6jK"
      },
      "source": [
        "And that's it!  The dataframe now has a nice dataset that we can use with GCP Vertex AI."
      ]
    },
    {
      "cell_type": "markdown",
      "metadata": {
        "id": "FUU7z4FjJS90"
      },
      "source": [
        "##Upload to a GCP Cloud Storage Bucket\n",
        "\n",
        "To get the data into Vertex AI, we must first put it in a bucket as a CSV."
      ]
    },
    {
      "cell_type": "code",
      "metadata": {
        "id": "keOu2viCwKy0"
      },
      "source": [
        "filename = 'clients.csv'\n",
        "y.to_csv(filename, index=False)"
      ],
      "execution_count": 18,
      "outputs": []
    },
    {
      "cell_type": "code",
      "metadata": {
        "id": "e3nbLg1cKJpJ"
      },
      "source": [
        "from google.cloud import storage\n",
        "client = storage.Client()"
      ],
      "execution_count": 19,
      "outputs": []
    },
    {
      "cell_type": "code",
      "metadata": {
        "id": "4dAkAU5ALnUo"
      },
      "source": [
        "# Create a bucket\n",
        "bucket_name='paysim'\n",
        "bucket = client.bucket(bucket_name)\n",
        "new_bucket = client.create_bucket(bucket)"
      ],
      "execution_count": 20,
      "outputs": []
    },
    {
      "cell_type": "code",
      "metadata": {
        "id": "UTo7-_oJL_dZ"
      },
      "source": [
        "# Upload our CSV to that bucket\n",
        "bucket = client.get_bucket(bucket_name)\n",
        "blob = bucket.blob(filename)\n",
        "blob.upload_from_filename(filename)"
      ],
      "execution_count": 21,
      "outputs": []
    },
    {
      "cell_type": "markdown",
      "metadata": {
        "id": "ArK3cfKsdT1x"
      },
      "source": [
        "## Create a Dataset with Vertex AI\n",
        "Now we're going to take the CSV in our bucket and turn that into a dataset in Vertex AI"
      ]
    },
    {
      "cell_type": "code",
      "metadata": {
        "id": "KGjrD-k3dsCN",
        "colab": {
          "base_uri": "https://localhost:8080/"
        },
        "outputId": "f5363044-9263-4c5e-b3cc-056a5b5c59f3"
      },
      "source": [
        "from google.cloud import aiplatform\n",
        "aiplatform.init()\n",
        "\n",
        "dataset = aiplatform.TabularDataset.create(display_name='paysim', gcs_source='gs://paysim/clients.csv')\n",
        "dataset.wait()\n",
        "\n",
        "print(f'\\tDataset: \"{dataset.display_name}\"')\n",
        "print(f'\\tname: \"{dataset.resource_name}\"')\n"
      ],
      "execution_count": 11,
      "outputs": [
        {
          "output_type": "stream",
          "name": "stdout",
          "text": [
            "INFO:google.cloud.aiplatform.datasets.dataset:Creating TabularDataset\n",
            "INFO:google.cloud.aiplatform.datasets.dataset:Create TabularDataset backing LRO: projects/803648085855/locations/us-central1/datasets/5948753730454159360/operations/5838694678098083840\n",
            "INFO:google.cloud.aiplatform.datasets.dataset:TabularDataset created. Resource name: projects/803648085855/locations/us-central1/datasets/5948753730454159360\n",
            "INFO:google.cloud.aiplatform.datasets.dataset:To use this TabularDataset in another session:\n",
            "INFO:google.cloud.aiplatform.datasets.dataset:ds = aiplatform.TabularDataset('projects/803648085855/locations/us-central1/datasets/5948753730454159360')\n",
            "\tDataset: \"paysim\"\n",
            "\tname: \"projects/803648085855/locations/us-central1/datasets/5948753730454159360\"\n"
          ]
        }
      ]
    },
    {
      "cell_type": "code",
      "metadata": {
        "id": "0vOCtlrSVBHf",
        "outputId": "13f6e97d-eeb7-4f12-f2c4-96f1c297bac8",
        "colab": {
          "base_uri": "https://localhost:8080/"
        }
      },
      "source": [
        "!gcloud ai endpoints list --region=us-central1 --project=neo4jbusinessdev\n"
      ],
      "execution_count": 8,
      "outputs": [
        {
          "output_type": "stream",
          "name": "stdout",
          "text": [
            "Using endpoint [https://us-central1-aiplatform.googleapis.com/]\n",
            "Listed 0 items.\n"
          ]
        }
      ]
    },
    {
      "cell_type": "markdown",
      "metadata": {
        "id": "ugQOvhv4WY7z"
      },
      "source": [
        "## Classification with Vertex AI\n",
        "In this section, we're going to run two classifiers and compare results.  The first will use the standard PaySim features.  The second will use our new graph features."
      ]
    },
    {
      "cell_type": "markdown",
      "metadata": {
        "id": "n9JWKg5hEpJO"
      },
      "source": [
        "## Analyze the Predictions\n",
        "Now that Vertex AI has made predictions on the dataset, we're going to use Neo4j Bloom to investigate how those predictions fit with the data they were made from."
      ]
    },
    {
      "cell_type": "code",
      "metadata": {
        "id": "Tu-lcvi7wMHL"
      },
      "source": [
        "pass"
      ],
      "execution_count": null,
      "outputs": []
    },
    {
      "cell_type": "markdown",
      "metadata": {
        "id": "-NnDaATyWY7z"
      },
      "source": [
        "## Loading Data into GCP Feature Store\n",
        "In this section, we'll take our dataframe with newly engineered features and load that into GCP feature store."
      ]
    },
    {
      "cell_type": "code",
      "metadata": {
        "id": "J7EeaPn_QPhB"
      },
      "source": [
        "from google.colab import auth\n",
        "auth.authenticate_user()"
      ],
      "execution_count": 2,
      "outputs": []
    },
    {
      "cell_type": "code",
      "metadata": {
        "id": "r0DcYzPkRrzj"
      },
      "source": [
        "from google.cloud.aiplatform_v1 import FeaturestoreServiceClient\n",
        "API_ENDPOINT = 'us-central1-aiplatform.googleapis.com'\n",
        "admin_client = FeaturestoreServiceClient(client_options={'api_endpoint': API_ENDPOINT})\n",
        "\n",
        "PROJECT_ID = 'Neo4jBusinessDev'\n",
        "REGION = 'us-central1'\n",
        "BASE_RESOURCE_PATH = admin_client.common_location_path(PROJECT_ID, REGION)"
      ],
      "execution_count": 3,
      "outputs": []
    },
    {
      "cell_type": "code",
      "metadata": {
        "id": "caTWbgeChd_x",
        "colab": {
          "base_uri": "https://localhost:8080/",
          "height": 443
        },
        "outputId": "7a62ea97-8e56-4916-def8-b94d86208431"
      },
      "source": [
        "from google.cloud.aiplatform_v1.types import featurestore_service as featurestore_service_pb2\n",
        "from google.cloud.aiplatform_v1.types import featurestore as featurestore_pb2\n",
        "    \n",
        "FEATURESTORE_ID = \"paysim\"\n",
        "create_lro = admin_client.create_featurestore(\n",
        "    featurestore_service_pb2.CreateFeaturestoreRequest(\n",
        "        parent=BASE_RESOURCE_PATH,\n",
        "        featurestore_id=FEATURESTORE_ID,\n",
        "        featurestore=featurestore_pb2.Featurestore(\n",
        "            online_serving_config=featurestore_pb2.Featurestore.OnlineServingConfig(\n",
        "                fixed_node_count=1\n",
        "            ),\n",
        "        ),\n",
        "    )\n",
        ")"
      ],
      "execution_count": 4,
      "outputs": [
        {
          "output_type": "error",
          "ename": "PermissionDenied",
          "evalue": "ignored",
          "traceback": [
            "\u001b[0;31m---------------------------------------------------------------------------\u001b[0m",
            "\u001b[0;31m_InactiveRpcError\u001b[0m                         Traceback (most recent call last)",
            "\u001b[0;32m/usr/local/lib/python3.7/dist-packages/google/api_core/grpc_helpers.py\u001b[0m in \u001b[0;36merror_remapped_callable\u001b[0;34m(*args, **kwargs)\u001b[0m\n\u001b[1;32m     72\u001b[0m         \u001b[0;32mtry\u001b[0m\u001b[0;34m:\u001b[0m\u001b[0;34m\u001b[0m\u001b[0;34m\u001b[0m\u001b[0m\n\u001b[0;32m---> 73\u001b[0;31m             \u001b[0;32mreturn\u001b[0m \u001b[0mcallable_\u001b[0m\u001b[0;34m(\u001b[0m\u001b[0;34m*\u001b[0m\u001b[0margs\u001b[0m\u001b[0;34m,\u001b[0m \u001b[0;34m**\u001b[0m\u001b[0mkwargs\u001b[0m\u001b[0;34m)\u001b[0m\u001b[0;34m\u001b[0m\u001b[0;34m\u001b[0m\u001b[0m\n\u001b[0m\u001b[1;32m     74\u001b[0m         \u001b[0;32mexcept\u001b[0m \u001b[0mgrpc\u001b[0m\u001b[0;34m.\u001b[0m\u001b[0mRpcError\u001b[0m \u001b[0;32mas\u001b[0m \u001b[0mexc\u001b[0m\u001b[0;34m:\u001b[0m\u001b[0;34m\u001b[0m\u001b[0;34m\u001b[0m\u001b[0m\n",
            "\u001b[0;32m/usr/local/lib/python3.7/dist-packages/grpc/_channel.py\u001b[0m in \u001b[0;36m__call__\u001b[0;34m(self, request, timeout, metadata, credentials, wait_for_ready, compression)\u001b[0m\n\u001b[1;32m    945\u001b[0m                                       wait_for_ready, compression)\n\u001b[0;32m--> 946\u001b[0;31m         \u001b[0;32mreturn\u001b[0m \u001b[0m_end_unary_response_blocking\u001b[0m\u001b[0;34m(\u001b[0m\u001b[0mstate\u001b[0m\u001b[0;34m,\u001b[0m \u001b[0mcall\u001b[0m\u001b[0;34m,\u001b[0m \u001b[0;32mFalse\u001b[0m\u001b[0;34m,\u001b[0m \u001b[0;32mNone\u001b[0m\u001b[0;34m)\u001b[0m\u001b[0;34m\u001b[0m\u001b[0;34m\u001b[0m\u001b[0m\n\u001b[0m\u001b[1;32m    947\u001b[0m \u001b[0;34m\u001b[0m\u001b[0m\n",
            "\u001b[0;32m/usr/local/lib/python3.7/dist-packages/grpc/_channel.py\u001b[0m in \u001b[0;36m_end_unary_response_blocking\u001b[0;34m(state, call, with_call, deadline)\u001b[0m\n\u001b[1;32m    848\u001b[0m     \u001b[0;32melse\u001b[0m\u001b[0;34m:\u001b[0m\u001b[0;34m\u001b[0m\u001b[0;34m\u001b[0m\u001b[0m\n\u001b[0;32m--> 849\u001b[0;31m         \u001b[0;32mraise\u001b[0m \u001b[0m_InactiveRpcError\u001b[0m\u001b[0;34m(\u001b[0m\u001b[0mstate\u001b[0m\u001b[0;34m)\u001b[0m\u001b[0;34m\u001b[0m\u001b[0;34m\u001b[0m\u001b[0m\n\u001b[0m\u001b[1;32m    850\u001b[0m \u001b[0;34m\u001b[0m\u001b[0m\n",
            "\u001b[0;31m_InactiveRpcError\u001b[0m: <_InactiveRpcError of RPC that terminated with:\n\tstatus = StatusCode.PERMISSION_DENIED\n\tdetails = \"Permission denied on resource project Neo4jBusinessDev.\"\n\tdebug_error_string = \"{\"created\":\"@1636136024.580502277\",\"description\":\"Error received from peer ipv4:108.177.13.95:443\",\"file\":\"src/core/lib/surface/call.cc\",\"file_line\":1069,\"grpc_message\":\"Permission denied on resource project Neo4jBusinessDev.\",\"grpc_status\":7}\"\n>",
            "\nThe above exception was the direct cause of the following exception:\n",
            "\u001b[0;31mPermissionDenied\u001b[0m                          Traceback (most recent call last)",
            "\u001b[0;32m<ipython-input-4-2367df2be53e>\u001b[0m in \u001b[0;36m<module>\u001b[0;34m()\u001b[0m\n\u001b[1;32m      9\u001b[0m         featurestore=featurestore_pb2.Featurestore(\n\u001b[1;32m     10\u001b[0m             online_serving_config=featurestore_pb2.Featurestore.OnlineServingConfig(\n\u001b[0;32m---> 11\u001b[0;31m                 \u001b[0mfixed_node_count\u001b[0m\u001b[0;34m=\u001b[0m\u001b[0;36m1\u001b[0m\u001b[0;34m\u001b[0m\u001b[0;34m\u001b[0m\u001b[0m\n\u001b[0m\u001b[1;32m     12\u001b[0m             ),\n\u001b[1;32m     13\u001b[0m         ),\n",
            "\u001b[0;32m/usr/local/lib/python3.7/dist-packages/google/cloud/aiplatform_v1/services/featurestore_service/client.py\u001b[0m in \u001b[0;36mcreate_featurestore\u001b[0;34m(self, request, parent, featurestore, retry, timeout, metadata)\u001b[0m\n\u001b[1;32m    488\u001b[0m \u001b[0;34m\u001b[0m\u001b[0m\n\u001b[1;32m    489\u001b[0m         \u001b[0;31m# Send the request.\u001b[0m\u001b[0;34m\u001b[0m\u001b[0;34m\u001b[0m\u001b[0;34m\u001b[0m\u001b[0m\n\u001b[0;32m--> 490\u001b[0;31m         \u001b[0mresponse\u001b[0m \u001b[0;34m=\u001b[0m \u001b[0mrpc\u001b[0m\u001b[0;34m(\u001b[0m\u001b[0mrequest\u001b[0m\u001b[0;34m,\u001b[0m \u001b[0mretry\u001b[0m\u001b[0;34m=\u001b[0m\u001b[0mretry\u001b[0m\u001b[0;34m,\u001b[0m \u001b[0mtimeout\u001b[0m\u001b[0;34m=\u001b[0m\u001b[0mtimeout\u001b[0m\u001b[0;34m,\u001b[0m \u001b[0mmetadata\u001b[0m\u001b[0;34m=\u001b[0m\u001b[0mmetadata\u001b[0m\u001b[0;34m,\u001b[0m\u001b[0;34m)\u001b[0m\u001b[0;34m\u001b[0m\u001b[0;34m\u001b[0m\u001b[0m\n\u001b[0m\u001b[1;32m    491\u001b[0m \u001b[0;34m\u001b[0m\u001b[0m\n\u001b[1;32m    492\u001b[0m         \u001b[0;31m# Wrap the response in an operation future.\u001b[0m\u001b[0;34m\u001b[0m\u001b[0;34m\u001b[0m\u001b[0;34m\u001b[0m\u001b[0m\n",
            "\u001b[0;32m/usr/local/lib/python3.7/dist-packages/google/api_core/gapic_v1/method.py\u001b[0m in \u001b[0;36m__call__\u001b[0;34m(self, *args, **kwargs)\u001b[0m\n\u001b[1;32m    143\u001b[0m             \u001b[0mkwargs\u001b[0m\u001b[0;34m[\u001b[0m\u001b[0;34m\"metadata\"\u001b[0m\u001b[0;34m]\u001b[0m \u001b[0;34m=\u001b[0m \u001b[0mmetadata\u001b[0m\u001b[0;34m\u001b[0m\u001b[0;34m\u001b[0m\u001b[0m\n\u001b[1;32m    144\u001b[0m \u001b[0;34m\u001b[0m\u001b[0m\n\u001b[0;32m--> 145\u001b[0;31m         \u001b[0;32mreturn\u001b[0m \u001b[0mwrapped_func\u001b[0m\u001b[0;34m(\u001b[0m\u001b[0;34m*\u001b[0m\u001b[0margs\u001b[0m\u001b[0;34m,\u001b[0m \u001b[0;34m**\u001b[0m\u001b[0mkwargs\u001b[0m\u001b[0;34m)\u001b[0m\u001b[0;34m\u001b[0m\u001b[0;34m\u001b[0m\u001b[0m\n\u001b[0m\u001b[1;32m    146\u001b[0m \u001b[0;34m\u001b[0m\u001b[0m\n\u001b[1;32m    147\u001b[0m \u001b[0;34m\u001b[0m\u001b[0m\n",
            "\u001b[0;32m/usr/local/lib/python3.7/dist-packages/google/api_core/grpc_helpers.py\u001b[0m in \u001b[0;36merror_remapped_callable\u001b[0;34m(*args, **kwargs)\u001b[0m\n\u001b[1;32m     73\u001b[0m             \u001b[0;32mreturn\u001b[0m \u001b[0mcallable_\u001b[0m\u001b[0;34m(\u001b[0m\u001b[0;34m*\u001b[0m\u001b[0margs\u001b[0m\u001b[0;34m,\u001b[0m \u001b[0;34m**\u001b[0m\u001b[0mkwargs\u001b[0m\u001b[0;34m)\u001b[0m\u001b[0;34m\u001b[0m\u001b[0;34m\u001b[0m\u001b[0m\n\u001b[1;32m     74\u001b[0m         \u001b[0;32mexcept\u001b[0m \u001b[0mgrpc\u001b[0m\u001b[0;34m.\u001b[0m\u001b[0mRpcError\u001b[0m \u001b[0;32mas\u001b[0m \u001b[0mexc\u001b[0m\u001b[0;34m:\u001b[0m\u001b[0;34m\u001b[0m\u001b[0;34m\u001b[0m\u001b[0m\n\u001b[0;32m---> 75\u001b[0;31m             \u001b[0msix\u001b[0m\u001b[0;34m.\u001b[0m\u001b[0mraise_from\u001b[0m\u001b[0;34m(\u001b[0m\u001b[0mexceptions\u001b[0m\u001b[0;34m.\u001b[0m\u001b[0mfrom_grpc_error\u001b[0m\u001b[0;34m(\u001b[0m\u001b[0mexc\u001b[0m\u001b[0;34m)\u001b[0m\u001b[0;34m,\u001b[0m \u001b[0mexc\u001b[0m\u001b[0;34m)\u001b[0m\u001b[0;34m\u001b[0m\u001b[0;34m\u001b[0m\u001b[0m\n\u001b[0m\u001b[1;32m     76\u001b[0m \u001b[0;34m\u001b[0m\u001b[0m\n\u001b[1;32m     77\u001b[0m     \u001b[0;32mreturn\u001b[0m \u001b[0merror_remapped_callable\u001b[0m\u001b[0;34m\u001b[0m\u001b[0;34m\u001b[0m\u001b[0m\n",
            "\u001b[0;32m/usr/local/lib/python3.7/dist-packages/six.py\u001b[0m in \u001b[0;36mraise_from\u001b[0;34m(value, from_value)\u001b[0m\n",
            "\u001b[0;31mPermissionDenied\u001b[0m: 403 Permission denied on resource project Neo4jBusinessDev."
          ]
        }
      ]
    },
    {
      "cell_type": "code",
      "metadata": {
        "id": "Q1JRwvvYJMBy",
        "colab": {
          "base_uri": "https://localhost:8080/",
          "height": 208
        },
        "outputId": "5264057f-2e38-4350-87c2-13f376f98699"
      },
      "source": [
        "\n",
        "worker_count = 2\n",
        "location = 'us-central1'\n",
        "timeout = 300,\n",
        "\n",
        "#client_options = {'api_endpoint': 'us-central1-aiplatform.googleapis.com'}\n",
        "client = aiplatform.gapic.FeaturestoreServiceClient()\n",
        "\n",
        "'''\n",
        "entity_type = f\"projects/{project}/locations/{location}/featurestores/{featurestore_id}/entityTypes/{entity_type_id}\"\n",
        "avro_source = aiplatform.gapic.AvroSource(gcs_source=aiplatform.gapic.GcsSource(uris=[avro_gcs_uri]))\n",
        "    \n",
        "feature_specs = [\n",
        "  aiplatform.gapic.ImportFeatureValuesRequest.FeatureSpec(id='embedding'),\n",
        "  aiplatform.gapic.ImportFeatureValuesRequest.FeatureSpec(id='is_fraudster'),\n",
        "  aiplatform.gapic.ImportFeatureValuesRequest.FeatureSpec(id='num_transactions'),\n",
        "  aiplatform.gapic.ImportFeatureValuesRequest.FeatureSpec(id='total_dollar_amnt'),\n",
        "]\n",
        "\n",
        "import_feature_values_request = aiplatform.gapic.ImportFeatureValuesRequest(\n",
        "  entity_type=entity_type,\n",
        "  avro_source=avro_source,\n",
        "  feature_specs=feature_specs,\n",
        "  entity_id_field=entity_id_field,\n",
        "  feature_time_field=feature_time_field,\n",
        "  worker_count=worker_count,\n",
        ")\n",
        "lro_response = client.import_feature_values(request=import_feature_values_request)\n",
        "print(\"Long running operation:\", lro_response.operation.name)\n",
        "import_feature_values_response = lro_response.result(timeout=timeout)\n",
        "print(\"import_feature_values_response:\", import_feature_values_response)\n",
        "'''"
      ],
      "execution_count": null,
      "outputs": [
        {
          "output_type": "stream",
          "name": "stdout",
          "text": [
            "WARNING:google.auth._default:No project ID could be determined. Consider running `gcloud config set project` or setting the GOOGLE_CLOUD_PROJECT environment variable\n"
          ]
        },
        {
          "output_type": "execute_result",
          "data": {
            "application/vnd.google.colaboratory.intrinsic+json": {
              "type": "string"
            },
            "text/plain": [
              "'\\nentity_type = f\"projects/{project}/locations/{location}/featurestores/{featurestore_id}/entityTypes/{entity_type_id}\"\\navro_source = aiplatform.gapic.AvroSource(gcs_source=aiplatform.gapic.GcsSource(uris=[avro_gcs_uri]))\\n    \\nfeature_specs = [\\n  aiplatform.gapic.ImportFeatureValuesRequest.FeatureSpec(id=\\'embedding\\'),\\n  aiplatform.gapic.ImportFeatureValuesRequest.FeatureSpec(id=\\'is_fraudster\\'),\\n  aiplatform.gapic.ImportFeatureValuesRequest.FeatureSpec(id=\\'num_transactions\\'),\\n  aiplatform.gapic.ImportFeatureValuesRequest.FeatureSpec(id=\\'total_dollar_amnt\\'),\\n]\\n\\nimport_feature_values_request = aiplatform.gapic.ImportFeatureValuesRequest(\\n  entity_type=entity_type,\\n  avro_source=avro_source,\\n  feature_specs=feature_specs,\\n  entity_id_field=entity_id_field,\\n  feature_time_field=feature_time_field,\\n  worker_count=worker_count,\\n)\\nlro_response = client.import_feature_values(request=import_feature_values_request)\\nprint(\"Long running operation:\", lro_response.operation.name)\\nimport_feature_values_response = lro_response.result(timeout=timeout)\\nprint(\"import_feature_values_response:\", import_feature_values_response)\\n'"
            ]
          },
          "metadata": {},
          "execution_count": 18
        }
      ]
    },
    {
      "cell_type": "markdown",
      "metadata": {
        "id": "DU79nGz2gv_M"
      },
      "source": [
        "##Cleanup\n",
        "\n",
        "To delete the Graph Data Science representation of the graph, run this:"
      ]
    },
    {
      "cell_type": "code",
      "metadata": {
        "id": "ICSNRLM5YQ5N"
      },
      "source": [
        "with driver.session(database = DB_NAME) as session:\n",
        "    result = session.read_transaction( lambda tx: \n",
        "        tx.run(\n",
        "        \"\"\"\n",
        "        CALL gds.graph.drop('client_graph')\n",
        "        \"\"\"\n",
        "        ).data()\n",
        "    )"
      ],
      "execution_count": 11,
      "outputs": []
    }
  ]
}