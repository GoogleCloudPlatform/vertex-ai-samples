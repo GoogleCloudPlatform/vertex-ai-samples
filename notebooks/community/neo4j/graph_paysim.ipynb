{
  "nbformat": 4,
  "nbformat_minor": 0,
  "metadata": {
    "colab": {
      "name": "graph_paysim.ipynb",
      "provenance": []
    },
    "kernelspec": {
      "display_name": "Python 3",
      "name": "python3"
    }
  },
  "cells": [
    {
      "cell_type": "code",
      "metadata": {
        "id": "xpj6twWatL1e"
      },
      "source": [
        "# Copyright 2021 Google LLC\n",
        "#\n",
        "# Licensed under the Apache License, Version 2.0 (the \"License\");\n",
        "# you may not use this file except in compliance with the License.\n",
        "# You may obtain a copy of the License at\n",
        "#\n",
        "#     https://www.apache.org/licenses/LICENSE-2.0\n",
        "#\n",
        "# Unless required by applicable law or agreed to in writing, software\n",
        "# distributed under the License is distributed on an \"AS IS\" BASIS,\n",
        "# WITHOUT WARRANTIES OR CONDITIONS OF ANY KIND, either express or implied.\n",
        "# See the License for the specific language governing permissions and\n",
        "# limitations under the License."
      ],
      "execution_count": null,
      "outputs": []
    },
    {
      "cell_type": "markdown",
      "metadata": {
        "id": "JAPoU8Sm5E6e"
      },
      "source": [
        "<table align=\"left\">\n",
        "\n",
        "  <td>\n",
        "    <a href=\"https://colab.research.google.com/github/benofben/vertex-ai-samples/blob/master/notebooks/community/neo4j/graph_paysim.ipynb\" target=\"_blank\">\n",
        "      <img src=\"https://cloud.google.com/ml-engine/images/colab-logo-32px.png\" alt=\"Colab logo\"> Run in Colab\n",
        "    </a>\n",
        "  </td>\n",
        "  <td>\n",
        "    <a href=\"https://github.com/benofben/vertex-ai-samples/tree/master/notebooks/community/neo4j/graph_paysim.ipynb\" target=\"_blank\">\n",
        "      <img src=\"https://cloud.google.com/ml-engine/images/github-logo-32px.png\" alt=\"GitHub logo\">\n",
        "      View on GitHub\n",
        "    </a>\n",
        "  </td>\n",
        "</table>"
      ]
    },
    {
      "cell_type": "markdown",
      "metadata": {
        "id": "YasYy1BqRHY8"
      },
      "source": [
        "# Overview\n",
        "In this notebook, you will learn how to use Neo4j AuraDS to create graph features.  You'll then use those new features to solve a classification problem with Vertex AI.\n"
      ]
    },
    {
      "cell_type": "markdown",
      "metadata": {
        "id": "ze4-nDLfK4pw"
      },
      "source": [
        "## Dataset\n",
        "This notebook uses a version of the PaySim dataset that has been modified to work with Neo4j's graph database.  PaySim is a synthetic fraud dataset.  The goal is to identify whether or not a given transaction constitutes fraud.  The [original version of the dataset](https://github.com/EdgarLopezPhD/PaySim) has tabular data.\n",
        "\n",
        "Neo4j has worked on a modified version that generates a graph dataset [here](https://github.com/voutilad/PaySim).  We've pregenerated a copy of that dataset that you can grab [here](https://storage.googleapis.com/neo4j-datasets/paysim.dump).  You'll want to download that dataset and then upload it to Neo4j AuraDS.  AuraDS is a graph data science tool that is offered as a service on GCP.  Instructions on signing up and uploading the dataset are available [here](https://github.com/neo4j-partners/aurads-paysim)."
      ]
    },
    {
      "cell_type": "markdown",
      "metadata": {
        "id": "pD0fZLPdsAYf"
      },
      "source": [
        "##Costs\n",
        "This tutorial uses billable components of Google Cloud:\n",
        "\n",
        "* Cloud Storage\n",
        "* Vertex AI\n",
        "\n",
        "Learn about [Vertex AI pricing](https://cloud.google.com/vertex-ai/pricing) and [Cloud Storage pricing](https://cloud.google.com/storage/pricing), and use the [Pricing Calculator](https://cloud.google.com/products/calculator/) to generate a cost estimate based on your projected usage."
      ]
    },
    {
      "cell_type": "markdown",
      "metadata": {
        "id": "m51HUN1aHNid"
      },
      "source": [
        "# Setup"
      ]
    },
    {
      "cell_type": "markdown",
      "metadata": {
        "id": "mbIYWyMksbpC"
      },
      "source": [
        "## Set up your development environment\n",
        "We suggest you use Colab for this notebook."
      ]
    },
    {
      "cell_type": "markdown",
      "metadata": {
        "id": "zLocKiyCwtR7"
      },
      "source": [
        "## Set up your Google Cloud project\n",
        "\n",
        "**The following steps are required, regardless of your notebook environment.**\n",
        "\n",
        "1. [Select or create a Google Cloud project](https://console.cloud.google.com/cloud-resource-manager). When you first create an account, you get a $300 free credit towards your compute/storage costs.\n",
        "\n",
        "1. [Make sure that billing is enabled for your project](https://cloud.google.com/billing/docs/how-to/modify-project).\n",
        "\n",
        "1. [Enable the Vertex AI API](https://console.cloud.google.com/flows/enableapi?apiid=aiplatform.googleapis.com).\n",
        "\n",
        "1. If you are running this notebook locally, you will need to install the [Cloud SDK](https://cloud.google.com/sdk).\n",
        "\n",
        "1. Enter your project ID in the cell below. Then run the cell to make sure the\n",
        "Cloud SDK uses the right project for all the commands in this notebook.\n",
        "\n",
        "**Note**: Jupyter runs lines prefixed with `!` as shell commands, and it interpolates Python variables prefixed with `$` into these commands."
      ]
    },
    {
      "cell_type": "markdown",
      "metadata": {
        "id": "BKipBL0kWY7w"
      },
      "source": [
        "## Install additional Packages\n",
        "First off, you'll also need to install a few packages."
      ]
    },
    {
      "cell_type": "code",
      "metadata": {
        "id": "qwKogqD_He_e",
        "outputId": "a83ad47f-6ddf-49d8-aa36-f59269be3cf2",
        "colab": {
          "base_uri": "https://localhost:8080/"
        }
      },
      "source": [
        "!pip install --quiet --upgrade neo4j"
      ],
      "execution_count": 1,
      "outputs": [
        {
          "output_type": "stream",
          "name": "stdout",
          "text": [
            "\u001b[?25l\r\u001b[K     |███▊                            | 10 kB 14.6 MB/s eta 0:00:01\r\u001b[K     |███████▍                        | 20 kB 19.5 MB/s eta 0:00:01\r\u001b[K     |███████████                     | 30 kB 22.9 MB/s eta 0:00:01\r\u001b[K     |██████████████▊                 | 40 kB 24.4 MB/s eta 0:00:01\r\u001b[K     |██████████████████▍             | 51 kB 7.7 MB/s eta 0:00:01\r\u001b[K     |██████████████████████          | 61 kB 8.9 MB/s eta 0:00:01\r\u001b[K     |█████████████████████████▊      | 71 kB 10.0 MB/s eta 0:00:01\r\u001b[K     |█████████████████████████████▍  | 81 kB 11.0 MB/s eta 0:00:01\r\u001b[K     |████████████████████████████████| 89 kB 4.3 MB/s \n",
            "\u001b[?25h  Building wheel for neo4j (setup.py) ... \u001b[?25l\u001b[?25hdone\n"
          ]
        }
      ]
    },
    {
      "cell_type": "code",
      "metadata": {
        "id": "tDipS8p-27qg"
      },
      "source": [
        "pip install --quiet google-cloud-storage"
      ],
      "execution_count": 2,
      "outputs": []
    },
    {
      "cell_type": "code",
      "metadata": {
        "id": "Ix0KpBl-hnxF",
        "outputId": "a7f5b5e1-418e-4715-a4c1-d73238d884a1",
        "colab": {
          "base_uri": "https://localhost:8080/"
        }
      },
      "source": [
        "!pip install --quiet google.cloud.aiplatform"
      ],
      "execution_count": 3,
      "outputs": [
        {
          "output_type": "stream",
          "name": "stdout",
          "text": [
            "\u001b[K     |████████████████████████████████| 1.6 MB 24.7 MB/s \n",
            "\u001b[K     |████████████████████████████████| 45 kB 3.8 MB/s \n",
            "\u001b[K     |████████████████████████████████| 106 kB 57.5 MB/s \n",
            "\u001b[K     |████████████████████████████████| 105 kB 80.7 MB/s \n",
            "\u001b[K     |████████████████████████████████| 105 kB 81.8 MB/s \n",
            "\u001b[K     |████████████████████████████████| 105 kB 67.7 MB/s \n",
            "\u001b[K     |████████████████████████████████| 105 kB 79.4 MB/s \n",
            "\u001b[K     |████████████████████████████████| 105 kB 86.9 MB/s \n",
            "\u001b[K     |████████████████████████████████| 104 kB 76.6 MB/s \n",
            "\u001b[K     |████████████████████████████████| 104 kB 46.4 MB/s \n",
            "\u001b[K     |████████████████████████████████| 103 kB 88.7 MB/s \n",
            "\u001b[K     |████████████████████████████████| 103 kB 26.1 MB/s \n",
            "\u001b[K     |████████████████████████████████| 103 kB 64.2 MB/s \n",
            "\u001b[K     |████████████████████████████████| 103 kB 78.9 MB/s \n",
            "\u001b[K     |████████████████████████████████| 97 kB 6.8 MB/s \n",
            "\u001b[K     |████████████████████████████████| 97 kB 7.4 MB/s \n",
            "\u001b[K     |████████████████████████████████| 97 kB 5.9 MB/s \n",
            "\u001b[K     |████████████████████████████████| 96 kB 6.6 MB/s \n",
            "\u001b[K     |████████████████████████████████| 96 kB 5.8 MB/s \n",
            "\u001b[K     |████████████████████████████████| 96 kB 6.3 MB/s \n",
            "\u001b[K     |████████████████████████████████| 92 kB 12.4 MB/s \n",
            "\u001b[K     |████████████████████████████████| 92 kB 12.1 MB/s \n",
            "\u001b[K     |████████████████████████████████| 203 kB 77.0 MB/s \n",
            "\u001b[K     |████████████████████████████████| 75 kB 4.6 MB/s \n",
            "\u001b[K     |████████████████████████████████| 203 kB 54.8 MB/s \n",
            "\u001b[K     |████████████████████████████████| 203 kB 75.2 MB/s \n",
            "\u001b[K     |████████████████████████████████| 202 kB 75.5 MB/s \n",
            "\u001b[K     |████████████████████████████████| 202 kB 80.6 MB/s \n",
            "\u001b[K     |████████████████████████████████| 201 kB 79.5 MB/s \n",
            "\u001b[K     |████████████████████████████████| 201 kB 62.5 MB/s \n",
            "\u001b[K     |████████████████████████████████| 201 kB 60.5 MB/s \n",
            "\u001b[K     |████████████████████████████████| 200 kB 34.9 MB/s \n",
            "\u001b[K     |████████████████████████████████| 200 kB 59.2 MB/s \n",
            "\u001b[K     |████████████████████████████████| 200 kB 62.7 MB/s \n",
            "\u001b[K     |████████████████████████████████| 198 kB 50.3 MB/s \n",
            "\u001b[K     |████████████████████████████████| 198 kB 64.5 MB/s \n",
            "\u001b[K     |████████████████████████████████| 196 kB 67.2 MB/s \n",
            "\u001b[K     |████████████████████████████████| 196 kB 65.4 MB/s \n",
            "\u001b[K     |████████████████████████████████| 196 kB 67.3 MB/s \n",
            "\u001b[K     |████████████████████████████████| 196 kB 67.9 MB/s \n",
            "\u001b[K     |████████████████████████████████| 195 kB 80.3 MB/s \n",
            "\u001b[K     |████████████████████████████████| 194 kB 47.0 MB/s \n",
            "\u001b[K     |████████████████████████████████| 193 kB 79.5 MB/s \n",
            "\u001b[K     |████████████████████████████████| 75 kB 5.2 MB/s \n",
            "\u001b[K     |████████████████████████████████| 189 kB 63.8 MB/s \n",
            "\u001b[K     |████████████████████████████████| 188 kB 47.8 MB/s \n",
            "\u001b[K     |████████████████████████████████| 188 kB 61.9 MB/s \n",
            "\u001b[K     |████████████████████████████████| 1.1 MB 58.3 MB/s \n",
            "\u001b[31mERROR: pip's dependency resolver does not currently take into account all the packages that are installed. This behaviour is the source of the following dependency conflicts.\n",
            "pandas-gbq 0.13.3 requires google-cloud-bigquery[bqstorage,pandas]<2.0.0dev,>=1.11.1, but you have google-cloud-bigquery 2.18.0 which is incompatible.\u001b[0m\n",
            "\u001b[?25h"
          ]
        }
      ]
    },
    {
      "cell_type": "markdown",
      "metadata": {
        "id": "JBXAh7fVt9Ou"
      },
      "source": [
        "## (Colab only) Restart the kernel\n",
        "After you install the additional packages, you need to restart the notebook kernel so it can find the packages.  When you run this, you may get a notification that the kernel crashed.  You can disregard that."
      ]
    },
    {
      "cell_type": "code",
      "metadata": {
        "id": "ySSyV4T_3dQB",
        "outputId": "5a26c047-60c0-4145-9589-608ad11bbf74",
        "colab": {
          "base_uri": "https://localhost:8080/"
        }
      },
      "source": [
        "import IPython\n",
        "\n",
        "app = IPython.Application.instance()\n",
        "app.kernel.do_shutdown(True)"
      ],
      "execution_count": 4,
      "outputs": [
        {
          "output_type": "execute_result",
          "data": {
            "text/plain": [
              "{'restart': True, 'status': 'ok'}"
            ]
          },
          "metadata": {},
          "execution_count": 4
        }
      ]
    },
    {
      "cell_type": "markdown",
      "metadata": {
        "id": "4ldFrUMIHVHP"
      },
      "source": [
        "# Working with Neo4j"
      ]
    },
    {
      "cell_type": "markdown",
      "metadata": {
        "id": "jMwl92_1HoIl"
      },
      "source": [
        "## Define Neo4J related variables\n",
        "\n",
        "You'll need to enter the credentials from your AuraDS instance below.  You can get your credentials by following this [walkthrough](https://github.com/neo4j-partners/aurads-paysim).\n",
        "\n",
        "The \"DB_NAME\" is always neo4j for AuraDS.  It is different from the name you gave your database tenant in the AuraDS console."
      ]
    },
    {
      "cell_type": "code",
      "metadata": {
        "id": "96IVMcJeH3N4"
      },
      "source": [
        "DB_URL = 'neo4j+s://e4807cb4.databases.neo4j.io'\n",
        "DB_USER = 'neo4j'\n",
        "DB_PASS = 'password'\n",
        "DB_NAME = 'neo4j'"
      ],
      "execution_count": 1,
      "outputs": []
    },
    {
      "cell_type": "markdown",
      "metadata": {
        "id": "tpNk1MvcWY7x"
      },
      "source": [
        "In this section we're going to connect to Neo4j and look around the database.  We're going to generate some new features in the dataset using Neo4j's Graph Data Science library.  Finally, we'll load the data into a Pandas dataframe so that it's all ready to put into GCP Feature Store."
      ]
    },
    {
      "cell_type": "markdown",
      "metadata": {
        "id": "RJptLsHUHgCV"
      },
      "source": [
        "## Exploring the database"
      ]
    },
    {
      "cell_type": "code",
      "metadata": {
        "id": "QiFDi4uLWY7x"
      },
      "source": [
        "import pandas as pd\n",
        "from neo4j import GraphDatabase"
      ],
      "execution_count": 2,
      "outputs": []
    },
    {
      "cell_type": "code",
      "metadata": {
        "id": "sgEy4q7iWY7y"
      },
      "source": [
        "driver = GraphDatabase.driver(DB_URL, auth=(DB_USER, DB_PASS))"
      ],
      "execution_count": 3,
      "outputs": []
    },
    {
      "cell_type": "markdown",
      "metadata": {
        "id": "yBpL6dY3HEMD"
      },
      "source": [
        "Now, let's explore the data in the database a bit to understand what we have to work with."
      ]
    },
    {
      "cell_type": "code",
      "metadata": {
        "id": "z4a0_CqVWY7y",
        "outputId": "17beeccc-6090-466e-b5f8-344d7b203e88",
        "colab": {
          "base_uri": "https://localhost:8080/",
          "height": 520
        }
      },
      "source": [
        "# node labels\n",
        "with driver.session(database = DB_NAME) as session:\n",
        "  result = session.read_transaction( lambda tx: \n",
        "    tx.run(\n",
        "    \"\"\"\n",
        "    CALL db.labels() YIELD label\n",
        "    CALL apoc.cypher.run('MATCH (:`'+label+'`) RETURN count(*) as freq', {})\n",
        "    YIELD value\n",
        "    RETURN label, value.freq AS freq\n",
        "    \"\"\"\n",
        "    ).data()\n",
        "  )\n",
        "  df = pd.DataFrame(result)\n",
        "  display(df)"
      ],
      "execution_count": 4,
      "outputs": [
        {
          "output_type": "display_data",
          "data": {
            "text/html": [
              "<div>\n",
              "<style scoped>\n",
              "    .dataframe tbody tr th:only-of-type {\n",
              "        vertical-align: middle;\n",
              "    }\n",
              "\n",
              "    .dataframe tbody tr th {\n",
              "        vertical-align: top;\n",
              "    }\n",
              "\n",
              "    .dataframe thead th {\n",
              "        text-align: right;\n",
              "    }\n",
              "</style>\n",
              "<table border=\"1\" class=\"dataframe\">\n",
              "  <thead>\n",
              "    <tr style=\"text-align: right;\">\n",
              "      <th></th>\n",
              "      <th>label</th>\n",
              "      <th>freq</th>\n",
              "    </tr>\n",
              "  </thead>\n",
              "  <tbody>\n",
              "    <tr>\n",
              "      <th>0</th>\n",
              "      <td>Node</td>\n",
              "      <td>0</td>\n",
              "    </tr>\n",
              "    <tr>\n",
              "      <th>1</th>\n",
              "      <td>Client</td>\n",
              "      <td>11270</td>\n",
              "    </tr>\n",
              "    <tr>\n",
              "      <th>2</th>\n",
              "      <td>Bank</td>\n",
              "      <td>5</td>\n",
              "    </tr>\n",
              "    <tr>\n",
              "      <th>3</th>\n",
              "      <td>Merchant</td>\n",
              "      <td>3465</td>\n",
              "    </tr>\n",
              "    <tr>\n",
              "      <th>4</th>\n",
              "      <td>Mule</td>\n",
              "      <td>0</td>\n",
              "    </tr>\n",
              "    <tr>\n",
              "      <th>5</th>\n",
              "      <td>CashIn</td>\n",
              "      <td>746751</td>\n",
              "    </tr>\n",
              "    <tr>\n",
              "      <th>6</th>\n",
              "      <td>CashOut</td>\n",
              "      <td>424574</td>\n",
              "    </tr>\n",
              "    <tr>\n",
              "      <th>7</th>\n",
              "      <td>Debit</td>\n",
              "      <td>130284</td>\n",
              "    </tr>\n",
              "    <tr>\n",
              "      <th>8</th>\n",
              "      <td>Payment</td>\n",
              "      <td>542443</td>\n",
              "    </tr>\n",
              "    <tr>\n",
              "      <th>9</th>\n",
              "      <td>Transfer</td>\n",
              "      <td>0</td>\n",
              "    </tr>\n",
              "    <tr>\n",
              "      <th>10</th>\n",
              "      <td>Transaction</td>\n",
              "      <td>1844052</td>\n",
              "    </tr>\n",
              "    <tr>\n",
              "      <th>11</th>\n",
              "      <td>Email</td>\n",
              "      <td>11299</td>\n",
              "    </tr>\n",
              "    <tr>\n",
              "      <th>12</th>\n",
              "      <td>SSN</td>\n",
              "      <td>11301</td>\n",
              "    </tr>\n",
              "    <tr>\n",
              "      <th>13</th>\n",
              "      <td>Phone</td>\n",
              "      <td>11299</td>\n",
              "    </tr>\n",
              "    <tr>\n",
              "      <th>14</th>\n",
              "      <td>model_data</td>\n",
              "      <td>1662</td>\n",
              "    </tr>\n",
              "  </tbody>\n",
              "</table>\n",
              "</div>"
            ],
            "text/plain": [
              "          label     freq\n",
              "0          Node        0\n",
              "1        Client    11270\n",
              "2          Bank        5\n",
              "3      Merchant     3465\n",
              "4          Mule        0\n",
              "5        CashIn   746751\n",
              "6       CashOut   424574\n",
              "7         Debit   130284\n",
              "8       Payment   542443\n",
              "9      Transfer        0\n",
              "10  Transaction  1844052\n",
              "11        Email    11299\n",
              "12          SSN    11301\n",
              "13        Phone    11299\n",
              "14   model_data     1662"
            ]
          },
          "metadata": {}
        }
      ]
    },
    {
      "cell_type": "code",
      "metadata": {
        "id": "SrETUiWdFDoy",
        "outputId": "1b1e70fb-2c59-48b7-cc5e-caf0da4a0f49",
        "colab": {
          "base_uri": "https://localhost:8080/",
          "height": 300
        }
      },
      "source": [
        "# relationship types\n",
        "with driver.session(database = DB_NAME) as session:\n",
        "  result = session.read_transaction( lambda tx: \n",
        "    tx.run(\n",
        "      \"\"\"\n",
        "      CALL db.relationshipTypes() YIELD relationshipType as type\n",
        "      CALL apoc.cypher.run('MATCH ()-[:`'+type+'`]->() RETURN count(*) as freq', {})\n",
        "      YIELD value\n",
        "      RETURN type AS relationshipType, value.freq AS freq\n",
        "      ORDER by freq DESC\n",
        "      \"\"\"\n",
        "      ).data()\n",
        "    )\n",
        "df = pd.DataFrame(result)\n",
        "display(df)"
      ],
      "execution_count": 5,
      "outputs": [
        {
          "output_type": "display_data",
          "data": {
            "text/html": [
              "<div>\n",
              "<style scoped>\n",
              "    .dataframe tbody tr th:only-of-type {\n",
              "        vertical-align: middle;\n",
              "    }\n",
              "\n",
              "    .dataframe tbody tr th {\n",
              "        vertical-align: top;\n",
              "    }\n",
              "\n",
              "    .dataframe thead th {\n",
              "        text-align: right;\n",
              "    }\n",
              "</style>\n",
              "<table border=\"1\" class=\"dataframe\">\n",
              "  <thead>\n",
              "    <tr style=\"text-align: right;\">\n",
              "      <th></th>\n",
              "      <th>relationshipType</th>\n",
              "      <th>freq</th>\n",
              "    </tr>\n",
              "  </thead>\n",
              "  <tbody>\n",
              "    <tr>\n",
              "      <th>0</th>\n",
              "      <td>PERFORMED</td>\n",
              "      <td>1844052</td>\n",
              "    </tr>\n",
              "    <tr>\n",
              "      <th>1</th>\n",
              "      <td>TO</td>\n",
              "      <td>1844052</td>\n",
              "    </tr>\n",
              "    <tr>\n",
              "      <th>2</th>\n",
              "      <td>NEXT</td>\n",
              "      <td>1833720</td>\n",
              "    </tr>\n",
              "    <tr>\n",
              "      <th>3</th>\n",
              "      <td>HAS_SSN</td>\n",
              "      <td>11330</td>\n",
              "    </tr>\n",
              "    <tr>\n",
              "      <th>4</th>\n",
              "      <td>HAS_EMAIL</td>\n",
              "      <td>11330</td>\n",
              "    </tr>\n",
              "    <tr>\n",
              "      <th>5</th>\n",
              "      <td>HAS_PHONE</td>\n",
              "      <td>11330</td>\n",
              "    </tr>\n",
              "    <tr>\n",
              "      <th>6</th>\n",
              "      <td>FIRST_TX</td>\n",
              "      <td>10332</td>\n",
              "    </tr>\n",
              "    <tr>\n",
              "      <th>7</th>\n",
              "      <td>LAST_TX</td>\n",
              "      <td>10332</td>\n",
              "    </tr>\n",
              "  </tbody>\n",
              "</table>\n",
              "</div>"
            ],
            "text/plain": [
              "  relationshipType     freq\n",
              "0        PERFORMED  1844052\n",
              "1               TO  1844052\n",
              "2             NEXT  1833720\n",
              "3          HAS_SSN    11330\n",
              "4        HAS_EMAIL    11330\n",
              "5        HAS_PHONE    11330\n",
              "6         FIRST_TX    10332\n",
              "7          LAST_TX    10332"
            ]
          },
          "metadata": {}
        }
      ]
    },
    {
      "cell_type": "code",
      "metadata": {
        "id": "Lsfbg8rpJcXo",
        "outputId": "430afdf5-1425-43ab-f282-7e66748e2c32",
        "colab": {
          "base_uri": "https://localhost:8080/",
          "height": 206
        }
      },
      "source": [
        "# transaction types\n",
        "with driver.session(database = DB_NAME) as session:\n",
        "  result = session.read_transaction( lambda tx: \n",
        "    tx.run(\n",
        "    \"\"\"\n",
        "    MATCH (t:Transaction)\n",
        "    WITH sum(t.amount) AS globalSum, count(t) AS globalCnt\n",
        "    WITH *, 10^3 AS scaleFactor\n",
        "    UNWIND ['CashIn', 'CashOut', 'Payment', 'Debit', 'Transfer'] AS txType\n",
        "      CALL apoc.cypher.run('MATCH (t:' + txType + ')\n",
        "        RETURN sum(t.amount) as txAmount, count(t) AS txCnt', {})\n",
        "      YIELD value\n",
        "    RETURN txType,value.txAmount AS TotalMarketValue\n",
        "    \"\"\"\n",
        "    ).data()\n",
        "  )\n",
        "  df = pd.DataFrame(result)\n",
        "  display(df)"
      ],
      "execution_count": 6,
      "outputs": [
        {
          "output_type": "display_data",
          "data": {
            "text/html": [
              "<div>\n",
              "<style scoped>\n",
              "    .dataframe tbody tr th:only-of-type {\n",
              "        vertical-align: middle;\n",
              "    }\n",
              "\n",
              "    .dataframe tbody tr th {\n",
              "        vertical-align: top;\n",
              "    }\n",
              "\n",
              "    .dataframe thead th {\n",
              "        text-align: right;\n",
              "    }\n",
              "</style>\n",
              "<table border=\"1\" class=\"dataframe\">\n",
              "  <thead>\n",
              "    <tr style=\"text-align: right;\">\n",
              "      <th></th>\n",
              "      <th>txType</th>\n",
              "      <th>TotalMarketValue</th>\n",
              "    </tr>\n",
              "  </thead>\n",
              "  <tbody>\n",
              "    <tr>\n",
              "      <th>0</th>\n",
              "      <td>CashIn</td>\n",
              "      <td>1.040582e+11</td>\n",
              "    </tr>\n",
              "    <tr>\n",
              "      <th>1</th>\n",
              "      <td>CashOut</td>\n",
              "      <td>5.385410e+10</td>\n",
              "    </tr>\n",
              "    <tr>\n",
              "      <th>2</th>\n",
              "      <td>Payment</td>\n",
              "      <td>9.646814e+10</td>\n",
              "    </tr>\n",
              "    <tr>\n",
              "      <th>3</th>\n",
              "      <td>Debit</td>\n",
              "      <td>1.016829e+09</td>\n",
              "    </tr>\n",
              "    <tr>\n",
              "      <th>4</th>\n",
              "      <td>Transfer</td>\n",
              "      <td>0.000000e+00</td>\n",
              "    </tr>\n",
              "  </tbody>\n",
              "</table>\n",
              "</div>"
            ],
            "text/plain": [
              "     txType  TotalMarketValue\n",
              "0    CashIn      1.040582e+11\n",
              "1   CashOut      5.385410e+10\n",
              "2   Payment      9.646814e+10\n",
              "3     Debit      1.016829e+09\n",
              "4  Transfer      0.000000e+00"
            ]
          },
          "metadata": {}
        }
      ]
    },
    {
      "cell_type": "markdown",
      "metadata": {
        "id": "AKo4m-A4J9F8"
      },
      "source": [
        "## Create a New Feature with a Graph Embedding using Neo4j\n",
        "First we're going to create an in memory graph represtation of the data in Neo4j Graph Data Science (GDS).\n",
        "\n",
        "Note, if you get an error saying the graph already exists, that's probably because you ran this code before.  You can destroy it using the command in the cleanup section of this notebook."
      ]
    },
    {
      "cell_type": "code",
      "metadata": {
        "id": "vdBkeDV7J8Ke",
        "outputId": "08da990f-1e0a-4b7d-ee13-f02b266e6618",
        "colab": {
          "base_uri": "https://localhost:8080/",
          "height": 81
        }
      },
      "source": [
        "with driver.session(database = DB_NAME) as session:\n",
        "  result = session.read_transaction( lambda tx: \n",
        "    tx.run(\n",
        "    \"\"\"\n",
        "    CALL gds.graph.create.cypher('client_graph', \n",
        "      'MATCH (c:Client) RETURN id(c) as id, c.num_transactions as num_transactions, c.total_transaction_amnt as total_transaction_amnt, c.is_fraudster as is_fraudster',\n",
        "      'MATCH (c:Client)-[:PERFORMED]->(t:Transaction)-[:TO]->(c2:Client) return id(c) as source, id(c2) as target, sum(t.amount) as amount, \"TRANSACTED_WITH\" as type ')\n",
        "    \"\"\"\n",
        "    ).data()\n",
        "  )\n",
        "  df = pd.DataFrame(result)\n",
        "  display(df)"
      ],
      "execution_count": 26,
      "outputs": [
        {
          "output_type": "display_data",
          "data": {
            "text/html": [
              "<div>\n",
              "<style scoped>\n",
              "    .dataframe tbody tr th:only-of-type {\n",
              "        vertical-align: middle;\n",
              "    }\n",
              "\n",
              "    .dataframe tbody tr th {\n",
              "        vertical-align: top;\n",
              "    }\n",
              "\n",
              "    .dataframe thead th {\n",
              "        text-align: right;\n",
              "    }\n",
              "</style>\n",
              "<table border=\"1\" class=\"dataframe\">\n",
              "  <thead>\n",
              "    <tr style=\"text-align: right;\">\n",
              "      <th></th>\n",
              "      <th>nodeQuery</th>\n",
              "      <th>relationshipQuery</th>\n",
              "      <th>graphName</th>\n",
              "      <th>nodeCount</th>\n",
              "      <th>relationshipCount</th>\n",
              "      <th>createMillis</th>\n",
              "    </tr>\n",
              "  </thead>\n",
              "  <tbody>\n",
              "    <tr>\n",
              "      <th>0</th>\n",
              "      <td>MATCH (c:Client) RETURN id(c) as id, c.num_tra...</td>\n",
              "      <td>MATCH (c:Client)-[:PERFORMED]-&gt;(t:Transaction)...</td>\n",
              "      <td>client_graph</td>\n",
              "      <td>11270</td>\n",
              "      <td>26035</td>\n",
              "      <td>414</td>\n",
              "    </tr>\n",
              "  </tbody>\n",
              "</table>\n",
              "</div>"
            ],
            "text/plain": [
              "                                           nodeQuery  ... createMillis\n",
              "0  MATCH (c:Client) RETURN id(c) as id, c.num_tra...  ...          414\n",
              "\n",
              "[1 rows x 6 columns]"
            ]
          },
          "metadata": {}
        }
      ]
    },
    {
      "cell_type": "markdown",
      "metadata": {
        "id": "WewKw5g4NKVo"
      },
      "source": [
        "Now we can generate an embedding from that graph.  This is a new feature we can use in our predictions.  We're using FastRP, which is a more full featured and higher performance of Node2Vec.  You can learn more about that [here](https://neo4j.com/docs/graph-data-science/current/algorithms/fastrp/)."
      ]
    },
    {
      "cell_type": "code",
      "metadata": {
        "id": "fBa8ofijEtHn",
        "outputId": "5fd9b71b-6b2f-49ab-c573-0844da683902",
        "colab": {
          "base_uri": "https://localhost:8080/",
          "height": 81
        }
      },
      "source": [
        "with driver.session(database = DB_NAME) as session:\n",
        "  result = session.read_transaction( lambda tx: \n",
        "    tx.run(\n",
        "    \"\"\"\n",
        "    CALL gds.fastRP.mutate('client_graph',{\n",
        "      relationshipWeightProperty:'amount',\n",
        "      iterationWeights: [0.0, 1.00, 1.00, 0.80, 0.60],\n",
        "      featureProperties: ['num_transactions', 'total_transaction_amnt'],\n",
        "      propertyRatio: 0.25, \n",
        "      nodeSelfInfluence: 0.15,\n",
        "      embeddingDimension: 16,\n",
        "      randomSeed: 1, \n",
        "      mutateProperty:'embedding'\n",
        "    })\n",
        "    \"\"\"\n",
        "    ).data()\n",
        "  )\n",
        "  df = pd.DataFrame(result)\n",
        "  display(df)"
      ],
      "execution_count": 28,
      "outputs": [
        {
          "output_type": "display_data",
          "data": {
            "text/html": [
              "<div>\n",
              "<style scoped>\n",
              "    .dataframe tbody tr th:only-of-type {\n",
              "        vertical-align: middle;\n",
              "    }\n",
              "\n",
              "    .dataframe tbody tr th {\n",
              "        vertical-align: top;\n",
              "    }\n",
              "\n",
              "    .dataframe thead th {\n",
              "        text-align: right;\n",
              "    }\n",
              "</style>\n",
              "<table border=\"1\" class=\"dataframe\">\n",
              "  <thead>\n",
              "    <tr style=\"text-align: right;\">\n",
              "      <th></th>\n",
              "      <th>nodePropertiesWritten</th>\n",
              "      <th>mutateMillis</th>\n",
              "      <th>nodeCount</th>\n",
              "      <th>createMillis</th>\n",
              "      <th>computeMillis</th>\n",
              "      <th>configuration</th>\n",
              "    </tr>\n",
              "  </thead>\n",
              "  <tbody>\n",
              "    <tr>\n",
              "      <th>0</th>\n",
              "      <td>11270</td>\n",
              "      <td>0</td>\n",
              "      <td>11270</td>\n",
              "      <td>0</td>\n",
              "      <td>15</td>\n",
              "      <td>{'nodeSelfInfluence': 0.15, 'relationshipWeigh...</td>\n",
              "    </tr>\n",
              "  </tbody>\n",
              "</table>\n",
              "</div>"
            ],
            "text/plain": [
              "   nodePropertiesWritten  ...                                      configuration\n",
              "0                  11270  ...  {'nodeSelfInfluence': 0.15, 'relationshipWeigh...\n",
              "\n",
              "[1 rows x 6 columns]"
            ]
          },
          "metadata": {}
        }
      ]
    },
    {
      "cell_type": "markdown",
      "metadata": {
        "id": "7PCI0yiUNpLZ"
      },
      "source": [
        "Finally we dump that out to a dataframe"
      ]
    },
    {
      "cell_type": "code",
      "metadata": {
        "id": "gkALAMl5NtDg",
        "outputId": "d960efef-5cca-4317-a671-651cb7e392d4",
        "colab": {
          "base_uri": "https://localhost:8080/",
          "height": 206
        }
      },
      "source": [
        "with driver.session(database = DB_NAME) as session:\n",
        "  result = session.read_transaction( lambda tx: \n",
        "    tx.run(\n",
        "    \"\"\"\n",
        "    CALL gds.graph.streamNodeProperties\n",
        "    ('client_graph', ['embedding', 'num_transactions', 'total_transaction_amnt', 'is_fraudster'])\n",
        "    YIELD nodeId, nodeProperty, propertyValue\n",
        "    RETURN nodeId, nodeProperty, propertyValue\n",
        "    \"\"\"\n",
        "    ).data()\n",
        "  )\n",
        "df = pd.DataFrame(result)\n",
        "df.head()"
      ],
      "execution_count": 29,
      "outputs": [
        {
          "output_type": "execute_result",
          "data": {
            "text/html": [
              "<div>\n",
              "<style scoped>\n",
              "    .dataframe tbody tr th:only-of-type {\n",
              "        vertical-align: middle;\n",
              "    }\n",
              "\n",
              "    .dataframe tbody tr th {\n",
              "        vertical-align: top;\n",
              "    }\n",
              "\n",
              "    .dataframe thead th {\n",
              "        text-align: right;\n",
              "    }\n",
              "</style>\n",
              "<table border=\"1\" class=\"dataframe\">\n",
              "  <thead>\n",
              "    <tr style=\"text-align: right;\">\n",
              "      <th></th>\n",
              "      <th>nodeId</th>\n",
              "      <th>nodeProperty</th>\n",
              "      <th>propertyValue</th>\n",
              "    </tr>\n",
              "  </thead>\n",
              "  <tbody>\n",
              "    <tr>\n",
              "      <th>0</th>\n",
              "      <td>0</td>\n",
              "      <td>embedding</td>\n",
              "      <td>[0.0, -3.641206660631724e-07, 0.0, 0.0, -3.641...</td>\n",
              "    </tr>\n",
              "    <tr>\n",
              "      <th>1</th>\n",
              "      <td>0</td>\n",
              "      <td>num_transactions</td>\n",
              "      <td>4</td>\n",
              "    </tr>\n",
              "    <tr>\n",
              "      <th>2</th>\n",
              "      <td>0</td>\n",
              "      <td>total_transaction_amnt</td>\n",
              "      <td>118919</td>\n",
              "    </tr>\n",
              "    <tr>\n",
              "      <th>3</th>\n",
              "      <td>0</td>\n",
              "      <td>is_fraudster</td>\n",
              "      <td>1</td>\n",
              "    </tr>\n",
              "    <tr>\n",
              "      <th>4</th>\n",
              "      <td>3</td>\n",
              "      <td>embedding</td>\n",
              "      <td>[0.0, 0.0, 0.0, -0.07500000298023224, 0.0, 0.0...</td>\n",
              "    </tr>\n",
              "  </tbody>\n",
              "</table>\n",
              "</div>"
            ],
            "text/plain": [
              "   nodeId  ...                                      propertyValue\n",
              "0       0  ...  [0.0, -3.641206660631724e-07, 0.0, 0.0, -3.641...\n",
              "1       0  ...                                                  4\n",
              "2       0  ...                                             118919\n",
              "3       0  ...                                                  1\n",
              "4       3  ...  [0.0, 0.0, 0.0, -0.07500000298023224, 0.0, 0.0...\n",
              "\n",
              "[5 rows x 3 columns]"
            ]
          },
          "metadata": {},
          "execution_count": 29
        }
      ]
    },
    {
      "cell_type": "markdown",
      "metadata": {
        "id": "gzDiV7Efv40X"
      },
      "source": [
        "Now we need to take that dataframe and shape it into something that better represents our classification problem."
      ]
    },
    {
      "cell_type": "code",
      "metadata": {
        "id": "JkzFxCgdqeTt",
        "outputId": "28c5fb16-ddac-4a32-aa2f-b7d82d5def95",
        "colab": {
          "base_uri": "https://localhost:8080/",
          "height": 206
        }
      },
      "source": [
        "x = df.pivot(index='nodeId', columns='nodeProperty', values='propertyValue')\n",
        "x = x.reset_index()\n",
        "x.columns.name = None\n",
        "x.head()"
      ],
      "execution_count": 30,
      "outputs": [
        {
          "output_type": "execute_result",
          "data": {
            "text/html": [
              "<div>\n",
              "<style scoped>\n",
              "    .dataframe tbody tr th:only-of-type {\n",
              "        vertical-align: middle;\n",
              "    }\n",
              "\n",
              "    .dataframe tbody tr th {\n",
              "        vertical-align: top;\n",
              "    }\n",
              "\n",
              "    .dataframe thead th {\n",
              "        text-align: right;\n",
              "    }\n",
              "</style>\n",
              "<table border=\"1\" class=\"dataframe\">\n",
              "  <thead>\n",
              "    <tr style=\"text-align: right;\">\n",
              "      <th></th>\n",
              "      <th>nodeId</th>\n",
              "      <th>embedding</th>\n",
              "      <th>is_fraudster</th>\n",
              "      <th>num_transactions</th>\n",
              "      <th>total_transaction_amnt</th>\n",
              "    </tr>\n",
              "  </thead>\n",
              "  <tbody>\n",
              "    <tr>\n",
              "      <th>0</th>\n",
              "      <td>0</td>\n",
              "      <td>[0.0, -3.641206660631724e-07, 0.0, 0.0, -3.641...</td>\n",
              "      <td>1</td>\n",
              "      <td>4</td>\n",
              "      <td>118919</td>\n",
              "    </tr>\n",
              "    <tr>\n",
              "      <th>1</th>\n",
              "      <td>3</td>\n",
              "      <td>[0.0, 0.0, 0.0, -0.07500000298023224, 0.0, 0.0...</td>\n",
              "      <td>-9223372036854775808</td>\n",
              "      <td>0</td>\n",
              "      <td>0</td>\n",
              "    </tr>\n",
              "    <tr>\n",
              "      <th>2</th>\n",
              "      <td>5</td>\n",
              "      <td>[-4.998395475297457e-09, 5.79870196304455e-09,...</td>\n",
              "      <td>1</td>\n",
              "      <td>80</td>\n",
              "      <td>7.48446e+06</td>\n",
              "    </tr>\n",
              "    <tr>\n",
              "      <th>3</th>\n",
              "      <td>8</td>\n",
              "      <td>[0.0, 0.0, 0.0, 0.06708204001188278, 0.0, 0.06...</td>\n",
              "      <td>-9223372036854775808</td>\n",
              "      <td>0</td>\n",
              "      <td>0</td>\n",
              "    </tr>\n",
              "    <tr>\n",
              "      <th>4</th>\n",
              "      <td>10</td>\n",
              "      <td>[0.02352503128349781, -0.023524967953562737, 2...</td>\n",
              "      <td>1</td>\n",
              "      <td>227</td>\n",
              "      <td>3.75806e+07</td>\n",
              "    </tr>\n",
              "  </tbody>\n",
              "</table>\n",
              "</div>"
            ],
            "text/plain": [
              "   nodeId  ... total_transaction_amnt\n",
              "0       0  ...                 118919\n",
              "1       3  ...                      0\n",
              "2       5  ...            7.48446e+06\n",
              "3       8  ...                      0\n",
              "4      10  ...            3.75806e+07\n",
              "\n",
              "[5 rows x 5 columns]"
            ]
          },
          "metadata": {},
          "execution_count": 30
        }
      ]
    },
    {
      "cell_type": "markdown",
      "metadata": {
        "id": "uPim4AGB8w3Q"
      },
      "source": [
        "is_fraudster will have a value of 0 or 1 if populated.  If the value is -9223372036854775808 then it's unlabled, so we're going to drop it."
      ]
    },
    {
      "cell_type": "code",
      "metadata": {
        "id": "2jZZg6ln8wW_",
        "outputId": "87bc6076-2862-48a4-dfa5-347be88c4362",
        "colab": {
          "base_uri": "https://localhost:8080/",
          "height": 206
        }
      },
      "source": [
        "x = x.loc[x['is_fraudster'] != -9223372036854775808]\n",
        "x.head()"
      ],
      "execution_count": 31,
      "outputs": [
        {
          "output_type": "execute_result",
          "data": {
            "text/html": [
              "<div>\n",
              "<style scoped>\n",
              "    .dataframe tbody tr th:only-of-type {\n",
              "        vertical-align: middle;\n",
              "    }\n",
              "\n",
              "    .dataframe tbody tr th {\n",
              "        vertical-align: top;\n",
              "    }\n",
              "\n",
              "    .dataframe thead th {\n",
              "        text-align: right;\n",
              "    }\n",
              "</style>\n",
              "<table border=\"1\" class=\"dataframe\">\n",
              "  <thead>\n",
              "    <tr style=\"text-align: right;\">\n",
              "      <th></th>\n",
              "      <th>nodeId</th>\n",
              "      <th>embedding</th>\n",
              "      <th>is_fraudster</th>\n",
              "      <th>num_transactions</th>\n",
              "      <th>total_transaction_amnt</th>\n",
              "    </tr>\n",
              "  </thead>\n",
              "  <tbody>\n",
              "    <tr>\n",
              "      <th>0</th>\n",
              "      <td>0</td>\n",
              "      <td>[0.0, -3.641206660631724e-07, 0.0, 0.0, -3.641...</td>\n",
              "      <td>1</td>\n",
              "      <td>4</td>\n",
              "      <td>118919</td>\n",
              "    </tr>\n",
              "    <tr>\n",
              "      <th>2</th>\n",
              "      <td>5</td>\n",
              "      <td>[-4.998395475297457e-09, 5.79870196304455e-09,...</td>\n",
              "      <td>1</td>\n",
              "      <td>80</td>\n",
              "      <td>7.48446e+06</td>\n",
              "    </tr>\n",
              "    <tr>\n",
              "      <th>4</th>\n",
              "      <td>10</td>\n",
              "      <td>[0.02352503128349781, -0.023524967953562737, 2...</td>\n",
              "      <td>1</td>\n",
              "      <td>227</td>\n",
              "      <td>3.75806e+07</td>\n",
              "    </tr>\n",
              "    <tr>\n",
              "      <th>6</th>\n",
              "      <td>15</td>\n",
              "      <td>[-0.005754098296165466, -4.570129021885805e-05...</td>\n",
              "      <td>0</td>\n",
              "      <td>106</td>\n",
              "      <td>4.86428e+06</td>\n",
              "    </tr>\n",
              "    <tr>\n",
              "      <th>7</th>\n",
              "      <td>18</td>\n",
              "      <td>[0.0, 0.0, -0.06708204001188278, 0.0, 0.0, -0....</td>\n",
              "      <td>0</td>\n",
              "      <td>0</td>\n",
              "      <td>0</td>\n",
              "    </tr>\n",
              "  </tbody>\n",
              "</table>\n",
              "</div>"
            ],
            "text/plain": [
              "   nodeId  ... total_transaction_amnt\n",
              "0       0  ...                 118919\n",
              "2       5  ...            7.48446e+06\n",
              "4      10  ...            3.75806e+07\n",
              "6      15  ...            4.86428e+06\n",
              "7      18  ...                      0\n",
              "\n",
              "[5 rows x 5 columns]"
            ]
          },
          "metadata": {},
          "execution_count": 31
        }
      ]
    },
    {
      "cell_type": "markdown",
      "metadata": {
        "id": "gOt_DjoPVirz"
      },
      "source": [
        "Note that the embedding row is an array.  To make this dataset more consumable, we should flatten that out into multiple individual features: embedding_0, embedding_1, ... embedding_n."
      ]
    },
    {
      "cell_type": "code",
      "metadata": {
        "id": "h9j0PPn9H4RD"
      },
      "source": [
        "FEATURES_FILENAME = 'features.csv'\n",
        "\n",
        "embeddings = pd.DataFrame(x['embedding'].values.tolist()).add_prefix('embedding_')\n",
        "merged = x.drop(columns=['embedding']).merge(embeddings, left_index=True, right_index=True)\n",
        "features_df = merged.drop(columns=['is_fraudster', 'num_transactions', 'total_transaction_amnt'])\n",
        "train_df = merged.drop(columns=['nodeId'])\n",
        "\n",
        "features_df.to_csv(FEATURES_FILENAME, index=False)"
      ],
      "execution_count": 32,
      "outputs": []
    },
    {
      "cell_type": "markdown",
      "metadata": {
        "id": "cWBOxHrusEXk"
      },
      "source": [
        "This dataset is too small to use with Vertex AI AutoML Tables. For sake of demonstration, we're going to repeat it a few times. Don't do this in the real world."
      ]
    },
    {
      "cell_type": "code",
      "metadata": {
        "id": "JMTvbcsvdVfb"
      },
      "source": [
        "TRAINING_FILENAME = 'train.csv'\n",
        "\n",
        "pd.concat([train_df for i in range(10)]).to_csv(TRAINING_FILENAME, index=False)"
      ],
      "execution_count": 33,
      "outputs": []
    },
    {
      "cell_type": "markdown",
      "metadata": {
        "id": "hpNFaHfKK6jK"
      },
      "source": [
        "And that's it!  The dataframe now has a nice dataset that we can use with GCP Vertex AI."
      ]
    },
    {
      "cell_type": "markdown",
      "metadata": {
        "id": "GTIKVdXJIOaF"
      },
      "source": [
        "# Using Vertex AI with Neo4j data"
      ]
    },
    {
      "cell_type": "markdown",
      "metadata": {
        "id": "QrJyXGJAHr_M"
      },
      "source": [
        "## Define Google Cloud variables\n",
        "You'll need to set a few variables for your GCP environment.  PROJECT_ID and STORAGE_BUCKET are most critical.  The others will probably work with the defaults given."
      ]
    },
    {
      "cell_type": "code",
      "metadata": {
        "id": "K-FC4GI1H3jx"
      },
      "source": [
        "# Edit these variables!\n",
        "PROJECT_ID = 'neo4jbusinessdev'\n",
        "STORAGE_BUCKET = 'paysimbucketneo4j'\n",
        "\n",
        "# You can leave these defaults\n",
        "REGION = 'us-central1'\n",
        "STORAGE_PATH = 'paysim'\n",
        "EMBEDDING_DIMENSION = 16\n",
        "FEATURESTORE_ID = 'paysim'\n",
        "ENTITY_NAME = 'payer'"
      ],
      "execution_count": 34,
      "outputs": []
    },
    {
      "cell_type": "code",
      "metadata": {
        "id": "1XoT1nT_JlYx"
      },
      "source": [
        "import os\n",
        "os.environ['GCLOUD_PROJECT'] = PROJECT_ID"
      ],
      "execution_count": 35,
      "outputs": []
    },
    {
      "cell_type": "markdown",
      "metadata": {
        "id": "Id6tjQDbgf2S"
      },
      "source": [
        "## Authenticate your Google Cloud account\n"
      ]
    },
    {
      "cell_type": "code",
      "metadata": {
        "id": "HucMnpmVgfmX"
      },
      "source": [
        "try:\n",
        "  from google.colab import auth as google_auth\n",
        "  google_auth.authenticate_user()\n",
        "except:\n",
        "  pass"
      ],
      "execution_count": 36,
      "outputs": []
    },
    {
      "cell_type": "markdown",
      "metadata": {
        "id": "FUU7z4FjJS90"
      },
      "source": [
        "##Upload to a GCP Cloud Storage Bucket\n",
        "\n",
        "To get the data into Vertex AI, we must first put it in a bucket as a CSV."
      ]
    },
    {
      "cell_type": "code",
      "metadata": {
        "id": "e3nbLg1cKJpJ"
      },
      "source": [
        "from google.cloud import storage\n",
        "client = storage.Client()"
      ],
      "execution_count": 37,
      "outputs": []
    },
    {
      "cell_type": "code",
      "metadata": {
        "id": "4dAkAU5ALnUo",
        "outputId": "4150d0d3-a18e-4001-854e-153ff914f951",
        "colab": {
          "base_uri": "https://localhost:8080/"
        }
      },
      "source": [
        "bucket = client.bucket(STORAGE_BUCKET)\n",
        "client.create_bucket(bucket)"
      ],
      "execution_count": 38,
      "outputs": [
        {
          "output_type": "execute_result",
          "data": {
            "text/plain": [
              "<Bucket: paysimbucketneo4j>"
            ]
          },
          "metadata": {},
          "execution_count": 38
        }
      ]
    },
    {
      "cell_type": "code",
      "metadata": {
        "id": "UTo7-_oJL_dZ"
      },
      "source": [
        "# Upload our files to that bucket\n",
        "for filename in [FEATURES_FILENAME, TRAINING_FILENAME]:\n",
        "  upload_path = os.path.join(STORAGE_PATH, filename)  \n",
        "  blob = bucket.blob(upload_path)\n",
        "  blob.upload_from_filename(filename)"
      ],
      "execution_count": 39,
      "outputs": []
    },
    {
      "cell_type": "markdown",
      "metadata": {
        "id": "ArK3cfKsdT1x"
      },
      "source": [
        "## Train and deploy a model on GCP\n",
        "We'll use the engineered features to train an AutoML Tables model, then deploy it to an endpoint"
      ]
    },
    {
      "cell_type": "code",
      "metadata": {
        "id": "KGjrD-k3dsCN",
        "outputId": "2c8fb04f-ff6b-4073-adbc-4d22d276c3bb",
        "colab": {
          "base_uri": "https://localhost:8080/"
        }
      },
      "source": [
        "from google.cloud import aiplatform\n",
        "aiplatform.init(\n",
        "    project=PROJECT_ID,\n",
        "    location=REGION\n",
        ")\n",
        "\n",
        "dataset = aiplatform.TabularDataset.create(display_name='paysim', gcs_source=os.path.join('gs://', STORAGE_BUCKET, STORAGE_PATH, TRAINING_FILENAME))\n",
        "dataset.wait()\n",
        "\n",
        "print(f'\\tDataset: \"{dataset.display_name}\"')\n",
        "print(f'\\tname: \"{dataset.resource_name}\"')"
      ],
      "execution_count": 40,
      "outputs": [
        {
          "output_type": "stream",
          "name": "stdout",
          "text": [
            "INFO:google.cloud.aiplatform.datasets.dataset:Creating TabularDataset\n",
            "INFO:google.cloud.aiplatform.datasets.dataset:Create TabularDataset backing LRO: projects/803648085855/locations/us-central1/datasets/5947698199291494400/operations/4838804507515158528\n",
            "INFO:google.cloud.aiplatform.datasets.dataset:TabularDataset created. Resource name: projects/803648085855/locations/us-central1/datasets/5947698199291494400\n",
            "INFO:google.cloud.aiplatform.datasets.dataset:To use this TabularDataset in another session:\n",
            "INFO:google.cloud.aiplatform.datasets.dataset:ds = aiplatform.TabularDataset('projects/803648085855/locations/us-central1/datasets/5947698199291494400')\n",
            "\tDataset: \"paysim\"\n",
            "\tname: \"projects/803648085855/locations/us-central1/datasets/5947698199291494400\"\n"
          ]
        }
      ]
    },
    {
      "cell_type": "code",
      "metadata": {
        "id": "oaSPuk31N2xS"
      },
      "source": [
        "embedding_column_names = [ 'embedding_{}'.format(i) for i in range(EMBEDDING_DIMENSION) ]\n",
        "other_column_names = [\n",
        "  'num_transactions',\n",
        "  'total_transaction_amnt'\n",
        "]\n",
        "all_columns = other_column_names + embedding_column_names\n",
        "column_specs = {column: 'numeric' for column in all_columns} \n",
        "\n",
        "job = aiplatform.AutoMLTabularTrainingJob(\n",
        "    display_name = \"train-paysim-automl-1\",\n",
        "    optimization_prediction_type = \"classification\",\n",
        "    column_specs = column_specs\n",
        ")"
      ],
      "execution_count": 41,
      "outputs": []
    },
    {
      "cell_type": "code",
      "metadata": {
        "id": "Fqf44y_G8vi1",
        "outputId": "d8742c3a-9476-43bb-84ff-018f2817b767",
        "colab": {
          "base_uri": "https://localhost:8080/"
        }
      },
      "source": [
        "model = job.run(\n",
        "    dataset = dataset,\n",
        "    target_column = 'is_fraudster',\n",
        "    training_fraction_split = 0.8,\n",
        "    validation_fraction_split = 0.1,\n",
        "    test_fraction_split = 0.1,\n",
        "    model_display_name = 'paysim-prediction-model',\n",
        "    disable_early_stopping = False,\n",
        "    budget_milli_node_hours = 1000\n",
        ")"
      ],
      "execution_count": null,
      "outputs": [
        {
          "output_type": "stream",
          "name": "stdout",
          "text": [
            "INFO:google.cloud.aiplatform.training_jobs:View Training:\n",
            "https://console.cloud.google.com/ai/platform/locations/us-central1/training/7917540350661492736?project=803648085855\n",
            "INFO:google.cloud.aiplatform.training_jobs:AutoMLTabularTrainingJob projects/803648085855/locations/us-central1/trainingPipelines/7917540350661492736 current state:\n",
            "PipelineState.PIPELINE_STATE_RUNNING\n",
            "INFO:google.cloud.aiplatform.training_jobs:AutoMLTabularTrainingJob projects/803648085855/locations/us-central1/trainingPipelines/7917540350661492736 current state:\n",
            "PipelineState.PIPELINE_STATE_RUNNING\n",
            "INFO:google.cloud.aiplatform.training_jobs:AutoMLTabularTrainingJob projects/803648085855/locations/us-central1/trainingPipelines/7917540350661492736 current state:\n",
            "PipelineState.PIPELINE_STATE_RUNNING\n"
          ]
        }
      ]
    },
    {
      "cell_type": "code",
      "metadata": {
        "colab": {
          "background_save": true
        },
        "id": "IoVThi28VO_R"
      },
      "source": [
        "endpoint = model.deploy(machine_type=\"n1-standard-4\")"
      ],
      "execution_count": null,
      "outputs": []
    },
    {
      "cell_type": "markdown",
      "metadata": {
        "id": "-NnDaATyWY7z"
      },
      "source": [
        "## Loading Data into GCP Feature Store\n",
        "In this section, we'll take our dataframe with newly engineered features and load that into GCP feature store."
      ]
    },
    {
      "cell_type": "code",
      "metadata": {
        "id": "r0DcYzPkRrzj"
      },
      "source": [
        "from google.cloud.aiplatform_v1 import FeaturestoreServiceClient\n",
        "api_endpoint = '{}-aiplatform.googleapis.com'.format(REGION)\n",
        "fs_client = FeaturestoreServiceClient(client_options={'api_endpoint': api_endpoint})\n",
        "\n",
        "resource_path = fs_client.common_location_path(PROJECT_ID, REGION)\n",
        "fs_path = fs_client.featurestore_path(PROJECT_ID, REGION, FEATURESTORE_ID)\n",
        "entity_path = fs_client.entity_type_path(PROJECT_ID, REGION, FEATURESTORE_ID, ENTITY_NAME)"
      ],
      "execution_count": null,
      "outputs": []
    },
    {
      "cell_type": "markdown",
      "metadata": {
        "id": "wMN4Ue2hjdL3"
      },
      "source": [
        "First, let's check if the Feature Store already exists"
      ]
    },
    {
      "cell_type": "code",
      "metadata": {
        "id": "tYQknjQFsVNC"
      },
      "source": [
        "from grpc import StatusCode\n",
        "def check_has_resource(callable):\n",
        "  has_resource = False\n",
        "  try:\n",
        "    callable()\n",
        "    has_resource = True\n",
        "  except Exception as e:\n",
        "    if not hasattr(e, 'grpc_status_code') or e.grpc_status_code != StatusCode.NOT_FOUND:\n",
        "      raise e\n",
        "  return has_resource"
      ],
      "execution_count": null,
      "outputs": []
    },
    {
      "cell_type": "code",
      "metadata": {
        "id": "qTVIsom6eejQ"
      },
      "source": [
        "feature_store_exists = check_has_resource(\n",
        "    lambda: fs_client.get_featurestore(\n",
        "      name= fs_path\n",
        "    )\n",
        ")"
      ],
      "execution_count": null,
      "outputs": []
    },
    {
      "cell_type": "code",
      "metadata": {
        "id": "caTWbgeChd_x"
      },
      "source": [
        "from google.cloud.aiplatform_v1.types import featurestore_service as featurestore_service_pb2\n",
        "from google.cloud.aiplatform_v1.types import featurestore as featurestore_pb2\n",
        "from google.cloud.aiplatform_v1.types import feature as feature_pb2\n",
        "from google.cloud.aiplatform_v1.types import entity_type as entity_type_pb2\n",
        "from google.cloud.aiplatform_v1.types import io as io_pb2\n",
        "\n",
        "if not feature_store_exists:\n",
        "  create_lro = fs_client.create_featurestore(\n",
        "      featurestore_service_pb2.CreateFeaturestoreRequest(\n",
        "          parent=resource_path,\n",
        "          featurestore_id=FEATURESTORE_ID,\n",
        "          featurestore=featurestore_pb2.Featurestore(\n",
        "              online_serving_config=featurestore_pb2.Featurestore.OnlineServingConfig(\n",
        "                  fixed_node_count=1\n",
        "              ),\n",
        "          ),\n",
        "      )\n",
        "  )\n",
        "\n",
        "  print(create_lro.result())"
      ],
      "execution_count": null,
      "outputs": []
    },
    {
      "cell_type": "code",
      "metadata": {
        "id": "Q1JRwvvYJMBy"
      },
      "source": [
        "entity_type_exists = check_has_resource(    \n",
        "    lambda: fs_client.get_entity_type(\n",
        "        name=entity_path\n",
        "    )\n",
        ")\n",
        "\n",
        "if not entity_type_exists:\n",
        "  users_entity_type_lro = fs_client.create_entity_type(\n",
        "    featurestore_service_pb2.CreateEntityTypeRequest(\n",
        "        parent=fs_path,\n",
        "        entity_type_id=ENTITY_NAME,\n",
        "        entity_type=entity_type_pb2.EntityType(\n",
        "            description=\"Main entity type\",\n",
        "        ),\n",
        "      )\n",
        "  )\n",
        "  print(users_entity_type_lro.result())\n",
        "\n",
        "  feature_requests = [\n",
        "    featurestore_service_pb2.CreateFeatureRequest(\n",
        "      feature=feature_pb2.Feature(\n",
        "          value_type=feature_pb2.Feature.ValueType.DOUBLE,\n",
        "          description=\"Embedding {} from Neo4j\".format(i),\n",
        "      ),\n",
        "      feature_id=\"embedding_{}\".format(i),\n",
        "    )\n",
        "    for i in range(EMBEDDING_DIMENSION)\n",
        "  ]\n",
        "  create_features_lro = fs_client.batch_create_features(\n",
        "      parent=entity_path,\n",
        "      requests=feature_requests,\n",
        "  )\n",
        "  print(create_features_lro.result())"
      ],
      "execution_count": null,
      "outputs": []
    },
    {
      "cell_type": "code",
      "metadata": {
        "id": "Uz78rmNrwK0V"
      },
      "source": [
        "feature_specs = [\n",
        "  featurestore_service_pb2.ImportFeatureValuesRequest.FeatureSpec(id=\"embedding_{}\".format(i))\n",
        "  for i in range(EMBEDDING_DIMENSION)         \n",
        "]\n",
        "\n",
        "from google.protobuf.timestamp_pb2 import Timestamp\n",
        "feature_time = Timestamp()\n",
        "feature_time.GetCurrentTime()\n",
        "feature_time.nanos = 0\n",
        "\n",
        "import_request = fs_client.import_feature_values(\n",
        "    featurestore_service_pb2.ImportFeatureValuesRequest(\n",
        "      entity_type=entity_path,\n",
        "      csv_source=io_pb2.CsvSource(\n",
        "          gcs_source=io_pb2.GcsSource(\n",
        "              uris=[\n",
        "                  os.path.join('gs://', STORAGE_BUCKET, STORAGE_PATH, FEATURES_FILENAME)\n",
        "              ]\n",
        "          )\n",
        "      ),\n",
        "      entity_id_field=\"nodeId\",\n",
        "      feature_specs=feature_specs,\n",
        "      worker_count=1,\n",
        "      feature_time=feature_time\n",
        "  )\n",
        ")\n",
        "\n",
        "print(import_request.result())"
      ],
      "execution_count": null,
      "outputs": []
    },
    {
      "cell_type": "markdown",
      "metadata": {
        "id": "mOeih_WxWhSx"
      },
      "source": [
        "## Sending a prediction using features from the feature store"
      ]
    },
    {
      "cell_type": "code",
      "metadata": {
        "id": "HFr8zWyiWxOa"
      },
      "source": [
        "from google.cloud.aiplatform_v1 import FeaturestoreOnlineServingServiceClient\n",
        "data_client = FeaturestoreOnlineServingServiceClient(\n",
        "    client_options={\"api_endpoint\": api_endpoint}\n",
        ")"
      ],
      "execution_count": null,
      "outputs": []
    },
    {
      "cell_type": "code",
      "metadata": {
        "id": "CnVC3BHmWylQ"
      },
      "source": [
        "# Retrieve Neo4j embeddings from feature store\n",
        "from google.cloud.aiplatform_v1.types import FeatureSelector, IdMatcher\n",
        "from google.cloud.aiplatform_v1.types import \\\n",
        "    featurestore_online_service as featurestore_online_service_pb2\n",
        "\n",
        "feature_selector = FeatureSelector(\n",
        "    id_matcher=IdMatcher(ids=[\n",
        "        \"embedding_{}\".format(i)\n",
        "        for i in range(EMBEDDING_DIMENSION) \n",
        "    ])\n",
        ")\n",
        "\n",
        "fs_features = data_client.read_feature_values(\n",
        "    featurestore_online_service_pb2.ReadFeatureValuesRequest(\n",
        "        entity_type=entity_path,\n",
        "        entity_id=\"5\",\n",
        "        feature_selector=feature_selector,\n",
        "    )\n",
        ")\n",
        "\n",
        "saved_embeddings = dict(zip(\n",
        "  (fd.id for fd in fs_features.header.feature_descriptors),\n",
        "  (str(d.value.double_value) for d in fs_features.entity_view.data)\n",
        "))"
      ],
      "execution_count": null,
      "outputs": []
    },
    {
      "cell_type": "code",
      "metadata": {
        "id": "jgW3Ks0SihdN"
      },
      "source": [
        "# Combine with other features. These might be sourced per transaction\n",
        "all_features = {\n",
        "    'num_transactions': '80',\n",
        "    'total_dollar_amnt': '7484459.618641878'\n",
        "}\n",
        "\n",
        "all_features.update(saved_embeddings)\n",
        "\n",
        "instances = [{\n",
        "    key: str(value) for key, value in all_features.items()\n",
        "}]"
      ],
      "execution_count": null,
      "outputs": []
    },
    {
      "cell_type": "code",
      "metadata": {
        "id": "DnK_FJeIi--4"
      },
      "source": [
        "# Send a prediction\n",
        "endpoint.predict(instances=instances)"
      ],
      "execution_count": null,
      "outputs": []
    },
    {
      "cell_type": "markdown",
      "metadata": {
        "id": "DU79nGz2gv_M"
      },
      "source": [
        "# Cleanup\n"
      ]
    },
    {
      "cell_type": "markdown",
      "metadata": {
        "id": "cBqqQEW_Kggf"
      },
      "source": [
        "## Neo4j cleanup\n",
        "\n",
        "To delete the Graph Data Science representation of the graph, run this:"
      ]
    },
    {
      "cell_type": "code",
      "metadata": {
        "id": "ICSNRLM5YQ5N"
      },
      "source": [
        "with driver.session(database = DB_NAME) as session:\n",
        "    result = session.read_transaction( lambda tx: \n",
        "        tx.run(\n",
        "        \"\"\"\n",
        "        CALL gds.graph.drop('client_graph')\n",
        "        \"\"\"\n",
        "        ).data()\n",
        "    )"
      ],
      "execution_count": 25,
      "outputs": []
    },
    {
      "cell_type": "markdown",
      "metadata": {
        "id": "NAM7PXfmKikz"
      },
      "source": [
        "## Google Cloud cleanup\n",
        "\n",
        "Delete the feature store and turn down the endpoint"
      ]
    },
    {
      "cell_type": "code",
      "metadata": {
        "id": "Es9wPH3UVbP-"
      },
      "source": [
        "fs_client.delete_featurestore(\n",
        "    request=featurestore_service_pb2.DeleteFeaturestoreRequest(\n",
        "        name=fs_client.featurestore_path(PROJECT_ID, REGION, FEATURESTORE_ID),\n",
        "        force=True,\n",
        "    )\n",
        ").result()\n",
        "\n",
        "endpoint.delete()"
      ],
      "execution_count": null,
      "outputs": []
    }
  ]
}