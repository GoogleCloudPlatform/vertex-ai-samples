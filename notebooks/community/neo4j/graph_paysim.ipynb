{
  "nbformat": 4,
  "nbformat_minor": 0,
  "metadata": {
    "colab": {
      "name": "graph_paysim.ipynb",
      "provenance": [],
      "toc_visible": true
    },
    "kernelspec": {
      "display_name": "Python 3",
      "name": "python3"
    }
  },
  "cells": [
    {
      "cell_type": "markdown",
      "metadata": {
        "id": "YasYy1BqRHY8"
      },
      "source": [
        "# Graph PaySim\n",
        "This notebook is an example of using Neo4j with Vertex AI.  It takes PaySim data from a Neo4j database, puts that into Feature Store and then runs two classifications on that.  One classification uses the standard PaySim features.  A second uses features engineered using Neo4j Graph Data Science."
      ]
    },
    {
      "cell_type": "markdown",
      "metadata": {
        "id": "JAPoU8Sm5E6e"
      },
      "source": [
        "<table align=\"left\">\n",
        "\n",
        "  <td>\n",
        "    <a href=\"https://colab.research.google.com/github/benofben/vertex-ai-samples/blob/master/notebooks/community/neo4j/graph_paysim.ipynb\" target=\"_parent\">\n",
        "      <img src=\"https://cloud.google.com/ml-engine/images/colab-logo-32px.png\" alt=\"Colab logo\"> Run in Colab\n",
        "    </a>\n",
        "  </td>\n",
        "  <td>\n",
        "    <a href=\"https://github.com/benofben/vertex-ai-samples/tree/master/notebooks/community/neo4j/graph_paysim.ipynb\">\n",
        "      <img src=\"https://cloud.google.com/ml-engine/images/github-logo-32px.png\" alt=\"GitHub logo\">\n",
        "      View on GitHub\n",
        "    </a>\n",
        "  </td>\n",
        "</table>"
      ]
    },
    {
      "cell_type": "markdown",
      "metadata": {
        "id": "ze4-nDLfK4pw"
      },
      "source": [
        "## Data Set\n",
        "The notebook uses a version of the PaySim dataset that has been modified to work with Neo4j's graph database.  PaySim is a synthetic fraud dataset.  The goal is to identify whether or not a given transaction constitutes fraud.  The dataset is [here](https://github.com/voutilad/PaySim).\n",
        "\n",
        "To do -- more info on importing dump into Aura DS"
      ]
    },
    {
      "cell_type": "markdown",
      "metadata": {
        "id": "BKipBL0kWY7w"
      },
      "source": [
        "## Prerequisites\n",
        "We assume that you've already loaded the PaySim data into a Neo4j instance and have the credentials to connect to that.  You'll also need to install the Neo4j Python driver by running the cell below."
      ]
    },
    {
      "cell_type": "code",
      "metadata": {
        "id": "0XMg6qd4WY7w",
        "colab": {
          "base_uri": "https://localhost:8080/"
        },
        "outputId": "4342e817-8476-461a-8124-ca62f77feae4"
      },
      "source": [
        "!pip install neo4j"
      ],
      "execution_count": 3,
      "outputs": [
        {
          "output_type": "stream",
          "name": "stdout",
          "text": [
            "Collecting neo4j\n",
            "  Downloading neo4j-4.3.7.tar.gz (76 kB)\n",
            "\u001b[?25l\r\u001b[K     |████▎                           | 10 kB 23.5 MB/s eta 0:00:01\r\u001b[K     |████████▋                       | 20 kB 27.9 MB/s eta 0:00:01\r\u001b[K     |█████████████                   | 30 kB 17.8 MB/s eta 0:00:01\r\u001b[K     |█████████████████▏              | 40 kB 14.9 MB/s eta 0:00:01\r\u001b[K     |█████████████████████▌          | 51 kB 6.4 MB/s eta 0:00:01\r\u001b[K     |█████████████████████████▉      | 61 kB 6.9 MB/s eta 0:00:01\r\u001b[K     |██████████████████████████████▏ | 71 kB 7.3 MB/s eta 0:00:01\r\u001b[K     |████████████████████████████████| 76 kB 3.3 MB/s \n",
            "\u001b[?25hRequirement already satisfied: pytz in /usr/local/lib/python3.7/dist-packages (from neo4j) (2018.9)\n",
            "Building wheels for collected packages: neo4j\n",
            "  Building wheel for neo4j (setup.py) ... \u001b[?25l\u001b[?25hdone\n",
            "  Created wheel for neo4j: filename=neo4j-4.3.7-py3-none-any.whl size=100642 sha256=92f32ea29534ce013071eae2f8b186dc12555fc1ae591030354812ef4bd8c8be\n",
            "  Stored in directory: /root/.cache/pip/wheels/b5/24/bb/cece9fcfdd5e1aa0683e2533945e1e3f27f70f342ff7e28993\n",
            "Successfully built neo4j\n",
            "Installing collected packages: neo4j\n",
            "Successfully installed neo4j-4.3.7\n"
          ]
        }
      ]
    },
    {
      "cell_type": "markdown",
      "metadata": {
        "id": "tpNk1MvcWY7x"
      },
      "source": [
        "## Working with Neo4j\n",
        "In this section we're going to connect to Neo4j and look around the database.  We're going to generate some new features in the dataset using Neo4j's Graph Data Science library.  Finally, we'll load the data into a Pandas dataframe so that it's all ready to put into GCP Feature Store."
      ]
    },
    {
      "cell_type": "code",
      "metadata": {
        "id": "QiFDi4uLWY7x"
      },
      "source": [
        "import pandas as pd\n",
        "from neo4j import GraphDatabase"
      ],
      "execution_count": 4,
      "outputs": []
    },
    {
      "cell_type": "code",
      "metadata": {
        "id": "W8CxXHc3WY7x"
      },
      "source": [
        "DB_ULR = 'neo4j+s://6c443062.databases.neo4j.io:7687'\n",
        "DB_USER = 'neo4j'\n",
        "DB_PASS = 'some password'\n",
        "DB_NAME = 'neo4j'"
      ],
      "execution_count": 5,
      "outputs": []
    },
    {
      "cell_type": "code",
      "metadata": {
        "id": "sgEy4q7iWY7y"
      },
      "source": [
        "driver = GraphDatabase.driver(DB_ULR, auth=(DB_USER, DB_PASS))"
      ],
      "execution_count": 8,
      "outputs": []
    },
    {
      "cell_type": "markdown",
      "metadata": {
        "id": "yBpL6dY3HEMD"
      },
      "source": [
        "Now, let's explore the data in the database a bit to understand what we have to work with."
      ]
    },
    {
      "cell_type": "code",
      "metadata": {
        "id": "z4a0_CqVWY7y",
        "colab": {
          "base_uri": "https://localhost:8080/",
          "height": 514
        },
        "outputId": "df6519e3-6347-4e55-c4db-6565fb6b0ec2"
      },
      "source": [
        "# node labels\n",
        "with driver.session(database = DB_NAME) as session:\n",
        "  result = session.read_transaction( lambda tx: \n",
        "    tx.run(\n",
        "    \"\"\"\n",
        "    CALL db.labels() YIELD label\n",
        "    CALL apoc.cypher.run('MATCH (:`'+label+'`) RETURN count(*) as freq', {})\n",
        "    YIELD value\n",
        "    RETURN label, value.freq AS freq\n",
        "    \"\"\"\n",
        "    ).data()\n",
        "  )\n",
        "  df = pd.DataFrame(result)\n",
        "  display(df)"
      ],
      "execution_count": 31,
      "outputs": [
        {
          "output_type": "display_data",
          "data": {
            "text/html": [
              "<div>\n",
              "<style scoped>\n",
              "    .dataframe tbody tr th:only-of-type {\n",
              "        vertical-align: middle;\n",
              "    }\n",
              "\n",
              "    .dataframe tbody tr th {\n",
              "        vertical-align: top;\n",
              "    }\n",
              "\n",
              "    .dataframe thead th {\n",
              "        text-align: right;\n",
              "    }\n",
              "</style>\n",
              "<table border=\"1\" class=\"dataframe\">\n",
              "  <thead>\n",
              "    <tr style=\"text-align: right;\">\n",
              "      <th></th>\n",
              "      <th>label</th>\n",
              "      <th>freq</th>\n",
              "    </tr>\n",
              "  </thead>\n",
              "  <tbody>\n",
              "    <tr>\n",
              "      <th>0</th>\n",
              "      <td>Node</td>\n",
              "      <td>0</td>\n",
              "    </tr>\n",
              "    <tr>\n",
              "      <th>1</th>\n",
              "      <td>Client</td>\n",
              "      <td>11270</td>\n",
              "    </tr>\n",
              "    <tr>\n",
              "      <th>2</th>\n",
              "      <td>Bank</td>\n",
              "      <td>5</td>\n",
              "    </tr>\n",
              "    <tr>\n",
              "      <th>3</th>\n",
              "      <td>Merchant</td>\n",
              "      <td>3465</td>\n",
              "    </tr>\n",
              "    <tr>\n",
              "      <th>4</th>\n",
              "      <td>Mule</td>\n",
              "      <td>0</td>\n",
              "    </tr>\n",
              "    <tr>\n",
              "      <th>5</th>\n",
              "      <td>CashIn</td>\n",
              "      <td>746751</td>\n",
              "    </tr>\n",
              "    <tr>\n",
              "      <th>6</th>\n",
              "      <td>CashOut</td>\n",
              "      <td>424574</td>\n",
              "    </tr>\n",
              "    <tr>\n",
              "      <th>7</th>\n",
              "      <td>Debit</td>\n",
              "      <td>130284</td>\n",
              "    </tr>\n",
              "    <tr>\n",
              "      <th>8</th>\n",
              "      <td>Payment</td>\n",
              "      <td>542443</td>\n",
              "    </tr>\n",
              "    <tr>\n",
              "      <th>9</th>\n",
              "      <td>Transfer</td>\n",
              "      <td>0</td>\n",
              "    </tr>\n",
              "    <tr>\n",
              "      <th>10</th>\n",
              "      <td>Transaction</td>\n",
              "      <td>1844052</td>\n",
              "    </tr>\n",
              "    <tr>\n",
              "      <th>11</th>\n",
              "      <td>Email</td>\n",
              "      <td>11299</td>\n",
              "    </tr>\n",
              "    <tr>\n",
              "      <th>12</th>\n",
              "      <td>SSN</td>\n",
              "      <td>11301</td>\n",
              "    </tr>\n",
              "    <tr>\n",
              "      <th>13</th>\n",
              "      <td>Phone</td>\n",
              "      <td>11299</td>\n",
              "    </tr>\n",
              "    <tr>\n",
              "      <th>14</th>\n",
              "      <td>model_data</td>\n",
              "      <td>1662</td>\n",
              "    </tr>\n",
              "  </tbody>\n",
              "</table>\n",
              "</div>"
            ],
            "text/plain": [
              "          label     freq\n",
              "0          Node        0\n",
              "1        Client    11270\n",
              "2          Bank        5\n",
              "3      Merchant     3465\n",
              "4          Mule        0\n",
              "5        CashIn   746751\n",
              "6       CashOut   424574\n",
              "7         Debit   130284\n",
              "8       Payment   542443\n",
              "9      Transfer        0\n",
              "10  Transaction  1844052\n",
              "11        Email    11299\n",
              "12          SSN    11301\n",
              "13        Phone    11299\n",
              "14   model_data     1662"
            ]
          },
          "metadata": {}
        }
      ]
    },
    {
      "cell_type": "code",
      "metadata": {
        "id": "SrETUiWdFDoy",
        "colab": {
          "base_uri": "https://localhost:8080/",
          "height": 297
        },
        "outputId": "b906cd31-85d8-4c2e-df89-37ffef63b8d3"
      },
      "source": [
        "# relationship types\n",
        "with driver.session(database = DB_NAME) as session:\n",
        "  result = session.read_transaction( lambda tx: \n",
        "    tx.run(\n",
        "      \"\"\"\n",
        "      CALL db.relationshipTypes() YIELD relationshipType as type\n",
        "      CALL apoc.cypher.run('MATCH ()-[:`'+type+'`]->() RETURN count(*) as freq', {})\n",
        "      YIELD value\n",
        "      RETURN type AS relationshipType, value.freq AS freq\n",
        "      ORDER by freq DESC\n",
        "      \"\"\"\n",
        "      ).data()\n",
        "    )\n",
        "df = pd.DataFrame(result)\n",
        "display(df)"
      ],
      "execution_count": 32,
      "outputs": [
        {
          "output_type": "display_data",
          "data": {
            "text/html": [
              "<div>\n",
              "<style scoped>\n",
              "    .dataframe tbody tr th:only-of-type {\n",
              "        vertical-align: middle;\n",
              "    }\n",
              "\n",
              "    .dataframe tbody tr th {\n",
              "        vertical-align: top;\n",
              "    }\n",
              "\n",
              "    .dataframe thead th {\n",
              "        text-align: right;\n",
              "    }\n",
              "</style>\n",
              "<table border=\"1\" class=\"dataframe\">\n",
              "  <thead>\n",
              "    <tr style=\"text-align: right;\">\n",
              "      <th></th>\n",
              "      <th>relationshipType</th>\n",
              "      <th>freq</th>\n",
              "    </tr>\n",
              "  </thead>\n",
              "  <tbody>\n",
              "    <tr>\n",
              "      <th>0</th>\n",
              "      <td>PERFORMED</td>\n",
              "      <td>1844052</td>\n",
              "    </tr>\n",
              "    <tr>\n",
              "      <th>1</th>\n",
              "      <td>TO</td>\n",
              "      <td>1844052</td>\n",
              "    </tr>\n",
              "    <tr>\n",
              "      <th>2</th>\n",
              "      <td>NEXT</td>\n",
              "      <td>1833720</td>\n",
              "    </tr>\n",
              "    <tr>\n",
              "      <th>3</th>\n",
              "      <td>HAS_SSN</td>\n",
              "      <td>11330</td>\n",
              "    </tr>\n",
              "    <tr>\n",
              "      <th>4</th>\n",
              "      <td>HAS_EMAIL</td>\n",
              "      <td>11330</td>\n",
              "    </tr>\n",
              "    <tr>\n",
              "      <th>5</th>\n",
              "      <td>HAS_PHONE</td>\n",
              "      <td>11330</td>\n",
              "    </tr>\n",
              "    <tr>\n",
              "      <th>6</th>\n",
              "      <td>FIRST_TX</td>\n",
              "      <td>10332</td>\n",
              "    </tr>\n",
              "    <tr>\n",
              "      <th>7</th>\n",
              "      <td>LAST_TX</td>\n",
              "      <td>10332</td>\n",
              "    </tr>\n",
              "  </tbody>\n",
              "</table>\n",
              "</div>"
            ],
            "text/plain": [
              "  relationshipType     freq\n",
              "0        PERFORMED  1844052\n",
              "1               TO  1844052\n",
              "2             NEXT  1833720\n",
              "3          HAS_SSN    11330\n",
              "4        HAS_EMAIL    11330\n",
              "5        HAS_PHONE    11330\n",
              "6         FIRST_TX    10332\n",
              "7          LAST_TX    10332"
            ]
          },
          "metadata": {}
        }
      ]
    },
    {
      "cell_type": "code",
      "metadata": {
        "id": "Lsfbg8rpJcXo",
        "colab": {
          "base_uri": "https://localhost:8080/",
          "height": 204
        },
        "outputId": "f8dff333-6ac5-45b1-ceb9-42d894872a54"
      },
      "source": [
        "# transaction types\n",
        "with driver.session(database = DB_NAME) as session:\n",
        "  result = session.read_transaction( lambda tx: \n",
        "    tx.run(\n",
        "    \"\"\"\n",
        "    MATCH (t:Transaction)\n",
        "    WITH sum(t.amount) AS globalSum, count(t) AS globalCnt\n",
        "    WITH *, 10^3 AS scaleFactor\n",
        "    UNWIND ['CashIn', 'CashOut', 'Payment', 'Debit', 'Transfer'] AS txType\n",
        "      CALL apoc.cypher.run('MATCH (t:' + txType + ')\n",
        "        RETURN sum(t.amount) as txAmount, count(t) AS txCnt', {})\n",
        "      YIELD value\n",
        "    RETURN txType,value.txAmount AS TotalMarketValue\n",
        "    \"\"\"\n",
        "    ).data()\n",
        "  )\n",
        "  df = pd.DataFrame(result)\n",
        "  display(df)"
      ],
      "execution_count": 33,
      "outputs": [
        {
          "output_type": "display_data",
          "data": {
            "text/html": [
              "<div>\n",
              "<style scoped>\n",
              "    .dataframe tbody tr th:only-of-type {\n",
              "        vertical-align: middle;\n",
              "    }\n",
              "\n",
              "    .dataframe tbody tr th {\n",
              "        vertical-align: top;\n",
              "    }\n",
              "\n",
              "    .dataframe thead th {\n",
              "        text-align: right;\n",
              "    }\n",
              "</style>\n",
              "<table border=\"1\" class=\"dataframe\">\n",
              "  <thead>\n",
              "    <tr style=\"text-align: right;\">\n",
              "      <th></th>\n",
              "      <th>txType</th>\n",
              "      <th>TotalMarketValue</th>\n",
              "    </tr>\n",
              "  </thead>\n",
              "  <tbody>\n",
              "    <tr>\n",
              "      <th>0</th>\n",
              "      <td>CashIn</td>\n",
              "      <td>1.040582e+11</td>\n",
              "    </tr>\n",
              "    <tr>\n",
              "      <th>1</th>\n",
              "      <td>CashOut</td>\n",
              "      <td>5.385410e+10</td>\n",
              "    </tr>\n",
              "    <tr>\n",
              "      <th>2</th>\n",
              "      <td>Payment</td>\n",
              "      <td>9.646814e+10</td>\n",
              "    </tr>\n",
              "    <tr>\n",
              "      <th>3</th>\n",
              "      <td>Debit</td>\n",
              "      <td>1.016829e+09</td>\n",
              "    </tr>\n",
              "    <tr>\n",
              "      <th>4</th>\n",
              "      <td>Transfer</td>\n",
              "      <td>0.000000e+00</td>\n",
              "    </tr>\n",
              "  </tbody>\n",
              "</table>\n",
              "</div>"
            ],
            "text/plain": [
              "     txType  TotalMarketValue\n",
              "0    CashIn      1.040582e+11\n",
              "1   CashOut      5.385410e+10\n",
              "2   Payment      9.646814e+10\n",
              "3     Debit      1.016829e+09\n",
              "4  Transfer      0.000000e+00"
            ]
          },
          "metadata": {}
        }
      ]
    },
    {
      "cell_type": "markdown",
      "metadata": {
        "id": "AKo4m-A4J9F8"
      },
      "source": [
        "## Create a New Feature with a Graph Embedding using Neo4j\n",
        "Now we're going to create an in memory graph represtation of the data.\n",
        "\n",
        "If you've run these examples previously, you will need to delete the Cypher represenation of the graph."
      ]
    },
    {
      "cell_type": "code",
      "metadata": {
        "id": "ICSNRLM5YQ5N"
      },
      "source": [
        "with driver.session(database = DB_NAME) as session:\n",
        "    result = session.read_transaction( lambda tx: \n",
        "        tx.run(\n",
        "        \"\"\"\n",
        "        CALL gds.graph.drop('client_graph')\n",
        "        \"\"\"\n",
        "        ).data()\n",
        "    )"
      ],
      "execution_count": 34,
      "outputs": []
    },
    {
      "cell_type": "markdown",
      "metadata": {
        "id": "PJt7uxS9ZP1K"
      },
      "source": [
        "We're going to create a representation of the data in Neo4j Graph Data Science (GDS)."
      ]
    },
    {
      "cell_type": "code",
      "metadata": {
        "id": "vdBkeDV7J8Ke",
        "colab": {
          "base_uri": "https://localhost:8080/",
          "height": 97
        },
        "outputId": "a095fdec-a6ad-429d-ab0d-1c3eca664acf"
      },
      "source": [
        "with driver.session(database = DB_NAME) as session:\n",
        "  result = session.read_transaction( lambda tx: \n",
        "    tx.run(\n",
        "    \"\"\"\n",
        "    CALL gds.graph.create.cypher('client_graph', \n",
        "      'MATCH (c:Client) RETURN id(c) as id, c.num_transactions as num_transactions, c.total_transaction_amnt as total_dollar_amnt, c.is_fraudster as is_fraudster',\n",
        "      'MATCH (c:Client)-[:PERFORMED]->(t:Transaction)-[:TO]->(c2:Client) return id(c) as source, id(c2) as target, sum(t.amount) as amount, \"TRANSACTED_WITH\" as type ')\n",
        "    \"\"\"\n",
        "    ).data()\n",
        "  )\n",
        "  df = pd.DataFrame(result)\n",
        "  display(df)"
      ],
      "execution_count": 35,
      "outputs": [
        {
          "output_type": "display_data",
          "data": {
            "text/html": [
              "<div>\n",
              "<style scoped>\n",
              "    .dataframe tbody tr th:only-of-type {\n",
              "        vertical-align: middle;\n",
              "    }\n",
              "\n",
              "    .dataframe tbody tr th {\n",
              "        vertical-align: top;\n",
              "    }\n",
              "\n",
              "    .dataframe thead th {\n",
              "        text-align: right;\n",
              "    }\n",
              "</style>\n",
              "<table border=\"1\" class=\"dataframe\">\n",
              "  <thead>\n",
              "    <tr style=\"text-align: right;\">\n",
              "      <th></th>\n",
              "      <th>nodeQuery</th>\n",
              "      <th>relationshipQuery</th>\n",
              "      <th>graphName</th>\n",
              "      <th>nodeCount</th>\n",
              "      <th>relationshipCount</th>\n",
              "      <th>createMillis</th>\n",
              "    </tr>\n",
              "  </thead>\n",
              "  <tbody>\n",
              "    <tr>\n",
              "      <th>0</th>\n",
              "      <td>MATCH (c:Client) RETURN id(c) as id, c.num_tra...</td>\n",
              "      <td>MATCH (c:Client)-[:PERFORMED]-&gt;(t:Transaction)...</td>\n",
              "      <td>client_graph</td>\n",
              "      <td>11270</td>\n",
              "      <td>26035</td>\n",
              "      <td>417</td>\n",
              "    </tr>\n",
              "  </tbody>\n",
              "</table>\n",
              "</div>"
            ],
            "text/plain": [
              "                                           nodeQuery  ... createMillis\n",
              "0  MATCH (c:Client) RETURN id(c) as id, c.num_tra...  ...          417\n",
              "\n",
              "[1 rows x 6 columns]"
            ]
          },
          "metadata": {}
        }
      ]
    },
    {
      "cell_type": "markdown",
      "metadata": {
        "id": "WewKw5g4NKVo"
      },
      "source": [
        "Now we can generate an embedding from that graph.  This is a new feature we can use in our predictions.  We're using FastRP, which is a more full featured and higher performance of Node2Vec.  You can learn more about that [here](https://neo4j.com/docs/graph-data-science/current/algorithms/fastrp/)."
      ]
    },
    {
      "cell_type": "code",
      "metadata": {
        "id": "fBa8ofijEtHn",
        "colab": {
          "base_uri": "https://localhost:8080/",
          "height": 80
        },
        "outputId": "41e3e3cf-dfdc-46e9-be7e-0b0924a2bc2d"
      },
      "source": [
        "with driver.session(database = DB_NAME) as session:\n",
        "  result = session.read_transaction( lambda tx: \n",
        "    tx.run(\n",
        "    \"\"\"\n",
        "    CALL gds.fastRP.mutate('client_graph',{\n",
        "      relationshipWeightProperty:'amount',\n",
        "      iterationWeights: [0.0, 1.00, 1.00, 0.80, 0.60],\n",
        "      featureProperties: ['num_transactions', 'total_dollar_amnt'],\n",
        "      propertyRatio: .25, \n",
        "      embeddingDimension:16,\n",
        "      randomSeed: 1, \n",
        "      mutateProperty:'embedding'\n",
        "    })\n",
        "    \"\"\"\n",
        "    ).data()\n",
        "  )\n",
        "  df = pd.DataFrame(result)\n",
        "  display(df)"
      ],
      "execution_count": 36,
      "outputs": [
        {
          "output_type": "display_data",
          "data": {
            "text/html": [
              "<div>\n",
              "<style scoped>\n",
              "    .dataframe tbody tr th:only-of-type {\n",
              "        vertical-align: middle;\n",
              "    }\n",
              "\n",
              "    .dataframe tbody tr th {\n",
              "        vertical-align: top;\n",
              "    }\n",
              "\n",
              "    .dataframe thead th {\n",
              "        text-align: right;\n",
              "    }\n",
              "</style>\n",
              "<table border=\"1\" class=\"dataframe\">\n",
              "  <thead>\n",
              "    <tr style=\"text-align: right;\">\n",
              "      <th></th>\n",
              "      <th>nodePropertiesWritten</th>\n",
              "      <th>mutateMillis</th>\n",
              "      <th>nodeCount</th>\n",
              "      <th>createMillis</th>\n",
              "      <th>computeMillis</th>\n",
              "      <th>configuration</th>\n",
              "    </tr>\n",
              "  </thead>\n",
              "  <tbody>\n",
              "    <tr>\n",
              "      <th>0</th>\n",
              "      <td>11270</td>\n",
              "      <td>0</td>\n",
              "      <td>11270</td>\n",
              "      <td>0</td>\n",
              "      <td>14</td>\n",
              "      <td>{'relationshipWeightProperty': 'amount', 'prop...</td>\n",
              "    </tr>\n",
              "  </tbody>\n",
              "</table>\n",
              "</div>"
            ],
            "text/plain": [
              "   nodePropertiesWritten  ...                                      configuration\n",
              "0                  11270  ...  {'relationshipWeightProperty': 'amount', 'prop...\n",
              "\n",
              "[1 rows x 6 columns]"
            ]
          },
          "metadata": {}
        }
      ]
    },
    {
      "cell_type": "markdown",
      "metadata": {
        "id": "7PCI0yiUNpLZ"
      },
      "source": [
        "Finally we dump that out to a dataframe"
      ]
    },
    {
      "cell_type": "code",
      "metadata": {
        "id": "gkALAMl5NtDg",
        "colab": {
          "base_uri": "https://localhost:8080/",
          "height": 419
        },
        "outputId": "a6e1f9f0-cb0a-4bc6-a3d4-01d854fafcb9"
      },
      "source": [
        "with driver.session(database = DB_NAME) as session:\n",
        "  result = session.read_transaction( lambda tx: \n",
        "    tx.run(\n",
        "    \"\"\"\n",
        "    CALL gds.graph.streamNodeProperties\n",
        "    ('client_graph', ['embedding', 'num_transactions', 'total_dollar_amnt', 'is_fraudster'])\n",
        "    YIELD nodeId, nodeProperty, propertyValue\n",
        "    RETURN nodeId, nodeProperty, propertyValue\n",
        "    \"\"\"\n",
        "    ).data()\n",
        "  )\n",
        "  df = pd.DataFrame(result)\n",
        "  display(df)"
      ],
      "execution_count": 37,
      "outputs": [
        {
          "output_type": "display_data",
          "data": {
            "text/html": [
              "<div>\n",
              "<style scoped>\n",
              "    .dataframe tbody tr th:only-of-type {\n",
              "        vertical-align: middle;\n",
              "    }\n",
              "\n",
              "    .dataframe tbody tr th {\n",
              "        vertical-align: top;\n",
              "    }\n",
              "\n",
              "    .dataframe thead th {\n",
              "        text-align: right;\n",
              "    }\n",
              "</style>\n",
              "<table border=\"1\" class=\"dataframe\">\n",
              "  <thead>\n",
              "    <tr style=\"text-align: right;\">\n",
              "      <th></th>\n",
              "      <th>nodeId</th>\n",
              "      <th>nodeProperty</th>\n",
              "      <th>propertyValue</th>\n",
              "    </tr>\n",
              "  </thead>\n",
              "  <tbody>\n",
              "    <tr>\n",
              "      <th>0</th>\n",
              "      <td>0</td>\n",
              "      <td>embedding</td>\n",
              "      <td>[0.0, 0.0, 0.0, 0.0, 0.0, 0.0, 0.0, 0.0, 0.0, ...</td>\n",
              "    </tr>\n",
              "    <tr>\n",
              "      <th>1</th>\n",
              "      <td>0</td>\n",
              "      <td>num_transactions</td>\n",
              "      <td>4</td>\n",
              "    </tr>\n",
              "    <tr>\n",
              "      <th>2</th>\n",
              "      <td>0</td>\n",
              "      <td>total_dollar_amnt</td>\n",
              "      <td>118919</td>\n",
              "    </tr>\n",
              "    <tr>\n",
              "      <th>3</th>\n",
              "      <td>0</td>\n",
              "      <td>is_fraudster</td>\n",
              "      <td>1</td>\n",
              "    </tr>\n",
              "    <tr>\n",
              "      <th>4</th>\n",
              "      <td>3</td>\n",
              "      <td>embedding</td>\n",
              "      <td>[0.0, 0.0, 0.0, 0.0, 0.0, 0.0, 0.0, 0.0, 0.0, ...</td>\n",
              "    </tr>\n",
              "    <tr>\n",
              "      <th>...</th>\n",
              "      <td>...</td>\n",
              "      <td>...</td>\n",
              "      <td>...</td>\n",
              "    </tr>\n",
              "    <tr>\n",
              "      <th>45075</th>\n",
              "      <td>1858717</td>\n",
              "      <td>is_fraudster</td>\n",
              "      <td>10000</td>\n",
              "    </tr>\n",
              "    <tr>\n",
              "      <th>45076</th>\n",
              "      <td>1858725</td>\n",
              "      <td>embedding</td>\n",
              "      <td>[0.0, 0.0, 0.0, 0.0, 0.0, 0.0, 0.0, 0.0, 0.0, ...</td>\n",
              "    </tr>\n",
              "    <tr>\n",
              "      <th>45077</th>\n",
              "      <td>1858725</td>\n",
              "      <td>num_transactions</td>\n",
              "      <td>1</td>\n",
              "    </tr>\n",
              "    <tr>\n",
              "      <th>45078</th>\n",
              "      <td>1858725</td>\n",
              "      <td>total_dollar_amnt</td>\n",
              "      <td>1557.3</td>\n",
              "    </tr>\n",
              "    <tr>\n",
              "      <th>45079</th>\n",
              "      <td>1858725</td>\n",
              "      <td>is_fraudster</td>\n",
              "      <td>10000</td>\n",
              "    </tr>\n",
              "  </tbody>\n",
              "</table>\n",
              "<p>45080 rows × 3 columns</p>\n",
              "</div>"
            ],
            "text/plain": [
              "        nodeId  ...                                      propertyValue\n",
              "0            0  ...  [0.0, 0.0, 0.0, 0.0, 0.0, 0.0, 0.0, 0.0, 0.0, ...\n",
              "1            0  ...                                                  4\n",
              "2            0  ...                                             118919\n",
              "3            0  ...                                                  1\n",
              "4            3  ...  [0.0, 0.0, 0.0, 0.0, 0.0, 0.0, 0.0, 0.0, 0.0, ...\n",
              "...        ...  ...                                                ...\n",
              "45075  1858717  ...                                              10000\n",
              "45076  1858725  ...  [0.0, 0.0, 0.0, 0.0, 0.0, 0.0, 0.0, 0.0, 0.0, ...\n",
              "45077  1858725  ...                                                  1\n",
              "45078  1858725  ...                                             1557.3\n",
              "45079  1858725  ...                                              10000\n",
              "\n",
              "[45080 rows x 3 columns]"
            ]
          },
          "metadata": {}
        }
      ]
    },
    {
      "cell_type": "code",
      "metadata": {
        "id": "40fKKnklJ0He",
        "outputId": "c54b9d07-94f4-4f56-bf6c-de943b979da1",
        "colab": {
          "base_uri": "https://localhost:8080/",
          "height": 419
        }
      },
      "source": [
        "with driver.session(database = DB_NAME) as session:\n",
        "  result = session.read_transaction( lambda tx: \n",
        "    tx.run(\n",
        "    'MATCH (c:Client) RETURN id(c) as id, c.name as name'\n",
        "    ).data()\n",
        "  )\n",
        "  df = pd.DataFrame(result)\n",
        "  display(df)"
      ],
      "execution_count": 30,
      "outputs": [
        {
          "output_type": "display_data",
          "data": {
            "text/html": [
              "<div>\n",
              "<style scoped>\n",
              "    .dataframe tbody tr th:only-of-type {\n",
              "        vertical-align: middle;\n",
              "    }\n",
              "\n",
              "    .dataframe tbody tr th {\n",
              "        vertical-align: top;\n",
              "    }\n",
              "\n",
              "    .dataframe thead th {\n",
              "        text-align: right;\n",
              "    }\n",
              "</style>\n",
              "<table border=\"1\" class=\"dataframe\">\n",
              "  <thead>\n",
              "    <tr style=\"text-align: right;\">\n",
              "      <th></th>\n",
              "      <th>id</th>\n",
              "      <th>name</th>\n",
              "    </tr>\n",
              "  </thead>\n",
              "  <tbody>\n",
              "    <tr>\n",
              "      <th>0</th>\n",
              "      <td>0</td>\n",
              "      <td>Ryder Mills</td>\n",
              "    </tr>\n",
              "    <tr>\n",
              "      <th>1</th>\n",
              "      <td>3</td>\n",
              "      <td>Bella Nichols</td>\n",
              "    </tr>\n",
              "    <tr>\n",
              "      <th>2</th>\n",
              "      <td>5</td>\n",
              "      <td>Bella Pitts</td>\n",
              "    </tr>\n",
              "    <tr>\n",
              "      <th>3</th>\n",
              "      <td>8</td>\n",
              "      <td>Harper Mccarthy</td>\n",
              "    </tr>\n",
              "    <tr>\n",
              "      <th>4</th>\n",
              "      <td>10</td>\n",
              "      <td>Connor Neal</td>\n",
              "    </tr>\n",
              "    <tr>\n",
              "      <th>...</th>\n",
              "      <td>...</td>\n",
              "      <td>...</td>\n",
              "    </tr>\n",
              "    <tr>\n",
              "      <th>11265</th>\n",
              "      <td>1857442</td>\n",
              "      <td>Khloe Castillo</td>\n",
              "    </tr>\n",
              "    <tr>\n",
              "      <th>11266</th>\n",
              "      <td>1857502</td>\n",
              "      <td>Faith Byers</td>\n",
              "    </tr>\n",
              "    <tr>\n",
              "      <th>11267</th>\n",
              "      <td>1857640</td>\n",
              "      <td>Reagan Edwards</td>\n",
              "    </tr>\n",
              "    <tr>\n",
              "      <th>11268</th>\n",
              "      <td>1858717</td>\n",
              "      <td>Christopher Foley</td>\n",
              "    </tr>\n",
              "    <tr>\n",
              "      <th>11269</th>\n",
              "      <td>1858725</td>\n",
              "      <td>Zachary Swanson</td>\n",
              "    </tr>\n",
              "  </tbody>\n",
              "</table>\n",
              "<p>11270 rows × 2 columns</p>\n",
              "</div>"
            ],
            "text/plain": [
              "            id               name\n",
              "0            0        Ryder Mills\n",
              "1            3      Bella Nichols\n",
              "2            5        Bella Pitts\n",
              "3            8    Harper Mccarthy\n",
              "4           10        Connor Neal\n",
              "...        ...                ...\n",
              "11265  1857442     Khloe Castillo\n",
              "11266  1857502        Faith Byers\n",
              "11267  1857640     Reagan Edwards\n",
              "11268  1858717  Christopher Foley\n",
              "11269  1858725    Zachary Swanson\n",
              "\n",
              "[11270 rows x 2 columns]"
            ]
          },
          "metadata": {}
        }
      ]
    },
    {
      "cell_type": "markdown",
      "metadata": {
        "id": "gzDiV7Efv40X"
      },
      "source": [
        "Now we need to take that dataframe and shape it into something that better represents our classification problem."
      ]
    },
    {
      "cell_type": "code",
      "metadata": {
        "colab": {
          "base_uri": "https://localhost:8080/",
          "height": 419
        },
        "id": "JkzFxCgdqeTt",
        "outputId": "1f85d187-d94c-4dce-e904-d27317226ff1"
      },
      "source": [
        "x = df.pivot(index='nodeId', columns='nodeProperty', values='propertyValue')\n",
        "x = x.reset_index()\n",
        "x.columns.name = None\n",
        "x"
      ],
      "execution_count": 14,
      "outputs": [
        {
          "output_type": "execute_result",
          "data": {
            "text/html": [
              "<div>\n",
              "<style scoped>\n",
              "    .dataframe tbody tr th:only-of-type {\n",
              "        vertical-align: middle;\n",
              "    }\n",
              "\n",
              "    .dataframe tbody tr th {\n",
              "        vertical-align: top;\n",
              "    }\n",
              "\n",
              "    .dataframe thead th {\n",
              "        text-align: right;\n",
              "    }\n",
              "</style>\n",
              "<table border=\"1\" class=\"dataframe\">\n",
              "  <thead>\n",
              "    <tr style=\"text-align: right;\">\n",
              "      <th></th>\n",
              "      <th>nodeId</th>\n",
              "      <th>embedding</th>\n",
              "      <th>is_fraudster</th>\n",
              "      <th>num_transactions</th>\n",
              "      <th>total_dollar_amnt</th>\n",
              "    </tr>\n",
              "  </thead>\n",
              "  <tbody>\n",
              "    <tr>\n",
              "      <th>0</th>\n",
              "      <td>0</td>\n",
              "      <td>[0.0, 0.0, 0.0, 0.0, 0.0, 0.0, 0.0, 0.0, 0.0, ...</td>\n",
              "      <td>1</td>\n",
              "      <td>4</td>\n",
              "      <td>118919</td>\n",
              "    </tr>\n",
              "    <tr>\n",
              "      <th>1</th>\n",
              "      <td>3</td>\n",
              "      <td>[0.0, 0.0, 0.0, 0.0, 0.0, 0.0, 0.0, 0.0, 0.0, ...</td>\n",
              "      <td>10000</td>\n",
              "      <td>0</td>\n",
              "      <td>0</td>\n",
              "    </tr>\n",
              "    <tr>\n",
              "      <th>2</th>\n",
              "      <td>5</td>\n",
              "      <td>[6.206621439019955e-09, -1.9226471081879026e-0...</td>\n",
              "      <td>1</td>\n",
              "      <td>80</td>\n",
              "      <td>7.48446e+06</td>\n",
              "    </tr>\n",
              "    <tr>\n",
              "      <th>3</th>\n",
              "      <td>8</td>\n",
              "      <td>[0.0, 0.0, 0.0, 0.0, 0.0, 0.0, 0.0, 0.0, 0.0, ...</td>\n",
              "      <td>10000</td>\n",
              "      <td>0</td>\n",
              "      <td>0</td>\n",
              "    </tr>\n",
              "    <tr>\n",
              "      <th>4</th>\n",
              "      <td>10</td>\n",
              "      <td>[7.890789133213616e-10, -0.021041372790932655,...</td>\n",
              "      <td>1</td>\n",
              "      <td>227</td>\n",
              "      <td>3.75806e+07</td>\n",
              "    </tr>\n",
              "    <tr>\n",
              "      <th>...</th>\n",
              "      <td>...</td>\n",
              "      <td>...</td>\n",
              "      <td>...</td>\n",
              "      <td>...</td>\n",
              "      <td>...</td>\n",
              "    </tr>\n",
              "    <tr>\n",
              "      <th>11265</th>\n",
              "      <td>1857442</td>\n",
              "      <td>[0.0, 0.0, 0.0, 0.0, 0.0, 0.0, 0.0, 0.0, 0.0, ...</td>\n",
              "      <td>10000</td>\n",
              "      <td>1</td>\n",
              "      <td>21671</td>\n",
              "    </tr>\n",
              "    <tr>\n",
              "      <th>11266</th>\n",
              "      <td>1857502</td>\n",
              "      <td>[0.0, 0.0, 0.0, 0.0, 0.0, 0.0, 0.0, 0.0, 0.0, ...</td>\n",
              "      <td>10000</td>\n",
              "      <td>1</td>\n",
              "      <td>93.5579</td>\n",
              "    </tr>\n",
              "    <tr>\n",
              "      <th>11267</th>\n",
              "      <td>1857640</td>\n",
              "      <td>[0.0, 0.0, 0.0, 0.0, 0.0, 0.0, 0.0, 0.0, 0.0, ...</td>\n",
              "      <td>10000</td>\n",
              "      <td>1</td>\n",
              "      <td>92.3323</td>\n",
              "    </tr>\n",
              "    <tr>\n",
              "      <th>11268</th>\n",
              "      <td>1858717</td>\n",
              "      <td>[0.0, 0.0, 0.0, 0.0, 0.0, 0.0, 0.0, 0.0, 0.0, ...</td>\n",
              "      <td>10000</td>\n",
              "      <td>1</td>\n",
              "      <td>11272.2</td>\n",
              "    </tr>\n",
              "    <tr>\n",
              "      <th>11269</th>\n",
              "      <td>1858725</td>\n",
              "      <td>[0.0, 0.0, 0.0, 0.0, 0.0, 0.0, 0.0, 0.0, 0.0, ...</td>\n",
              "      <td>10000</td>\n",
              "      <td>1</td>\n",
              "      <td>1557.3</td>\n",
              "    </tr>\n",
              "  </tbody>\n",
              "</table>\n",
              "<p>11270 rows × 5 columns</p>\n",
              "</div>"
            ],
            "text/plain": [
              "        nodeId  ... total_dollar_amnt\n",
              "0            0  ...            118919\n",
              "1            3  ...                 0\n",
              "2            5  ...       7.48446e+06\n",
              "3            8  ...                 0\n",
              "4           10  ...       3.75806e+07\n",
              "...        ...  ...               ...\n",
              "11265  1857442  ...             21671\n",
              "11266  1857502  ...           93.5579\n",
              "11267  1857640  ...           92.3323\n",
              "11268  1858717  ...           11272.2\n",
              "11269  1858725  ...            1557.3\n",
              "\n",
              "[11270 rows x 5 columns]"
            ]
          },
          "metadata": {},
          "execution_count": 14
        }
      ]
    },
    {
      "cell_type": "markdown",
      "metadata": {
        "id": "uPim4AGB8w3Q"
      },
      "source": [
        "is_fraudster will have a value of 0 or 1 if populated.  If the value is 10000 then it's unlabled, so we're going to drop it."
      ]
    },
    {
      "cell_type": "code",
      "metadata": {
        "colab": {
          "base_uri": "https://localhost:8080/",
          "height": 419
        },
        "id": "2jZZg6ln8wW_",
        "outputId": "4231d5d4-2a9a-484c-d959-c457e047f8a5"
      },
      "source": [
        "clients = x.loc[x['is_fraudster'] != 10000]\n",
        "clients"
      ],
      "execution_count": 15,
      "outputs": [
        {
          "output_type": "execute_result",
          "data": {
            "text/html": [
              "<div>\n",
              "<style scoped>\n",
              "    .dataframe tbody tr th:only-of-type {\n",
              "        vertical-align: middle;\n",
              "    }\n",
              "\n",
              "    .dataframe tbody tr th {\n",
              "        vertical-align: top;\n",
              "    }\n",
              "\n",
              "    .dataframe thead th {\n",
              "        text-align: right;\n",
              "    }\n",
              "</style>\n",
              "<table border=\"1\" class=\"dataframe\">\n",
              "  <thead>\n",
              "    <tr style=\"text-align: right;\">\n",
              "      <th></th>\n",
              "      <th>nodeId</th>\n",
              "      <th>embedding</th>\n",
              "      <th>is_fraudster</th>\n",
              "      <th>num_transactions</th>\n",
              "      <th>total_dollar_amnt</th>\n",
              "    </tr>\n",
              "  </thead>\n",
              "  <tbody>\n",
              "    <tr>\n",
              "      <th>0</th>\n",
              "      <td>0</td>\n",
              "      <td>[0.0, 0.0, 0.0, 0.0, 0.0, 0.0, 0.0, 0.0, 0.0, ...</td>\n",
              "      <td>1</td>\n",
              "      <td>4</td>\n",
              "      <td>118919</td>\n",
              "    </tr>\n",
              "    <tr>\n",
              "      <th>2</th>\n",
              "      <td>5</td>\n",
              "      <td>[6.206621439019955e-09, -1.9226471081879026e-0...</td>\n",
              "      <td>1</td>\n",
              "      <td>80</td>\n",
              "      <td>7.48446e+06</td>\n",
              "    </tr>\n",
              "    <tr>\n",
              "      <th>4</th>\n",
              "      <td>10</td>\n",
              "      <td>[7.890789133213616e-10, -0.021041372790932655,...</td>\n",
              "      <td>1</td>\n",
              "      <td>227</td>\n",
              "      <td>3.75806e+07</td>\n",
              "    </tr>\n",
              "    <tr>\n",
              "      <th>6</th>\n",
              "      <td>15</td>\n",
              "      <td>[3.494107261303725e-07, -0.005100565031170845,...</td>\n",
              "      <td>1</td>\n",
              "      <td>106</td>\n",
              "      <td>4.86428e+06</td>\n",
              "    </tr>\n",
              "    <tr>\n",
              "      <th>7</th>\n",
              "      <td>18</td>\n",
              "      <td>[0.0, 0.0, 0.0, 0.0, 0.0, 0.0, 0.0, 0.0, 0.0, ...</td>\n",
              "      <td>0</td>\n",
              "      <td>0</td>\n",
              "      <td>0</td>\n",
              "    </tr>\n",
              "    <tr>\n",
              "      <th>...</th>\n",
              "      <td>...</td>\n",
              "      <td>...</td>\n",
              "      <td>...</td>\n",
              "      <td>...</td>\n",
              "      <td>...</td>\n",
              "    </tr>\n",
              "    <tr>\n",
              "      <th>11192</th>\n",
              "      <td>1839904</td>\n",
              "      <td>[0.0, 0.0, 0.0, 0.0, 0.0, 0.0, 0.0, 0.0, 0.0, ...</td>\n",
              "      <td>0</td>\n",
              "      <td>1</td>\n",
              "      <td>52.3779</td>\n",
              "    </tr>\n",
              "    <tr>\n",
              "      <th>11204</th>\n",
              "      <td>1844183</td>\n",
              "      <td>[0.0, 0.0, 0.0, 0.0, 0.0, 0.0, 0.0, 0.0, 0.0, ...</td>\n",
              "      <td>0</td>\n",
              "      <td>1</td>\n",
              "      <td>133989</td>\n",
              "    </tr>\n",
              "    <tr>\n",
              "      <th>11224</th>\n",
              "      <td>1847685</td>\n",
              "      <td>[0.0, 0.0, 0.0, 0.0, 0.0, 0.0, 0.0, 0.0, 0.0, ...</td>\n",
              "      <td>0</td>\n",
              "      <td>1</td>\n",
              "      <td>27.6889</td>\n",
              "    </tr>\n",
              "    <tr>\n",
              "      <th>11242</th>\n",
              "      <td>1849983</td>\n",
              "      <td>[0.0, 0.0, 0.0, 0.0, 0.0, 0.0, 0.0, 0.0, 0.0, ...</td>\n",
              "      <td>0</td>\n",
              "      <td>1</td>\n",
              "      <td>194573</td>\n",
              "    </tr>\n",
              "    <tr>\n",
              "      <th>11245</th>\n",
              "      <td>1851115</td>\n",
              "      <td>[0.0, 0.0, 0.0, 0.0, 0.0, 0.0, 0.0, 0.0, 0.0, ...</td>\n",
              "      <td>0</td>\n",
              "      <td>1</td>\n",
              "      <td>5528.9</td>\n",
              "    </tr>\n",
              "  </tbody>\n",
              "</table>\n",
              "<p>1662 rows × 5 columns</p>\n",
              "</div>"
            ],
            "text/plain": [
              "        nodeId  ... total_dollar_amnt\n",
              "0            0  ...            118919\n",
              "2            5  ...       7.48446e+06\n",
              "4           10  ...       3.75806e+07\n",
              "6           15  ...       4.86428e+06\n",
              "7           18  ...                 0\n",
              "...        ...  ...               ...\n",
              "11192  1839904  ...           52.3779\n",
              "11204  1844183  ...            133989\n",
              "11224  1847685  ...           27.6889\n",
              "11242  1849983  ...            194573\n",
              "11245  1851115  ...            5528.9\n",
              "\n",
              "[1662 rows x 5 columns]"
            ]
          },
          "metadata": {},
          "execution_count": 15
        }
      ]
    },
    {
      "cell_type": "markdown",
      "metadata": {
        "id": "hpNFaHfKK6jK"
      },
      "source": [
        "And that's it!  The \"clients\" dataframe now has a nice dataset that we can push to GCP Feature Store."
      ]
    },
    {
      "cell_type": "markdown",
      "metadata": {
        "id": "-NnDaATyWY7z"
      },
      "source": [
        "## Loading Data into GCP Feature Store\n",
        "In this section, we'll take our dataframe with newly engineered features and load that into GCP feature store."
      ]
    },
    {
      "cell_type": "code",
      "metadata": {
        "id": "Q1JRwvvYJMBy"
      },
      "source": [
        "pass"
      ],
      "execution_count": null,
      "outputs": []
    },
    {
      "cell_type": "markdown",
      "metadata": {
        "id": "ugQOvhv4WY7z"
      },
      "source": [
        "## Classification with Vertex AI\n",
        "In this section, we're going to run two classifiers and compare results.  The first will use the standard PaySim features.  The second will use our new graph features."
      ]
    },
    {
      "cell_type": "code",
      "metadata": {
        "id": "keOu2viCwKy0"
      },
      "source": [
        "pass"
      ],
      "execution_count": null,
      "outputs": []
    },
    {
      "cell_type": "markdown",
      "metadata": {
        "id": "n9JWKg5hEpJO"
      },
      "source": [
        "## Analyze the Predictions\n",
        "Now that Vertex AI has made predictions on the dataset, we're going to use Neo4j Bloom to investigate how those predictions fit with the data they were made from."
      ]
    },
    {
      "cell_type": "code",
      "metadata": {
        "id": "Tu-lcvi7wMHL"
      },
      "source": [
        "pass"
      ],
      "execution_count": null,
      "outputs": []
    }
  ]
}