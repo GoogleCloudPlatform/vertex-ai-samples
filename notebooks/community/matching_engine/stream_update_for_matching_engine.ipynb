{
  "cells": [
    {
      "cell_type": "code",
      "execution_count": null,
      "metadata": {
        "id": "18ebbd838e32"
      },
      "outputs": [],
      "source": [
        "# Copyright 2022 Google LLC\n",
        "#\n",
        "# Licensed under the Apache License, Version 2.0 (the \"License\");\n",
        "# you may not use this file except in compliance with the License.\n",
        "# You may obtain a copy of the License at\n",
        "#\n",
        "#     https://www.apache.org/licenses/LICENSE-2.0\n",
        "#\n",
        "# Unless required by applicable law or agreed to in writing, software\n",
        "# distributed under the License is distributed on an \"AS IS\" BASIS,\n",
        "# WITHOUT WARRANTIES OR CONDITIONS OF ANY KIND, either express or implied.\n",
        "# See the License for the specific language governing permissions and\n",
        "# limitations under the License."
      ]
    },
    {
      "cell_type": "markdown",
      "metadata": {
        "id": "efeacd7aa57e"
      },
      "source": [
        "<table align=\"left\">\n",
        "\n",
        "  <td>\n",
        "    <a href=\"https://console.cloud.google.com/vertex-ai/notebooks/deploy-notebook?download_url=https://github.com/GoogleCloudPlatform/vertex-ai-samples/blob/master/notebooks/community/matching_engine/stream_update_matching_engine.ipynb\">\n",
        "      Run in Workbench AI Notebooks\n",
        "    </a>\n",
        "  </td>\n",
        "  <td>\n",
        "    <a href=\"https://github.com/GoogleCloudPlatform/vertex-ai-samples/blob/master/notebooks/community/matching_engine/stream_update_matching_engine.ipynb\">\n",
        "      <img src=\"https://cloud.google.com/ml-engine/images/github-logo-32px.png\" alt=\"GitHub logo\">\n",
        "      View on GitHub\n",
        "    </a>\n",
        "  </td>\n",
        "</table>"
      ]
    },
    {
      "cell_type": "markdown",
      "metadata": {
        "id": "9552cdc846d4"
      },
      "source": [
        "## Overview\n",
        "\n",
        "This example demonstrates how to use the Vertex AI Matching Engine Stream Update Service. \n",
        "\n",
        "### Dataset\n",
        "\n",
        "The dataset used for this tutorial is the [GloVe dataset](https://nlp.stanford.edu/projects/glove/).\n",
        "\n",
        "### Objective\n",
        "\n",
        "In this notebook, you will learn how to create Approximate Nearest Neighbor (ANN) Index, update index using stream update, and query against indexes. \n",
        "\n",
        "The steps performed include:\n",
        "\n",
        "* Create ANN Index \n",
        "* Create an IndexEndpoint with VPC Network\n",
        "* Deploy ANN Index \n",
        "* Perform online query\n",
        "* Update index by using stream udpate\n",
        "* Compute recall\n",
        "\n",
        "\n",
        "### Costs \n",
        "\n",
        "This tutorial uses billable components of Google Cloud:\n",
        "\n",
        "* Vertex AI\n",
        "* Cloud Storage\n",
        "\n",
        "Learn about [Vertex AI\n",
        "pricing](https://cloud.google.com/vertex-ai/pricing) and [Cloud Storage\n",
        "pricing](https://cloud.google.com/storage/pricing), and use the [Pricing\n",
        "Calculator](https://cloud.google.com/products/calculator/)\n",
        "to generate a cost estimate based on your projected usage."
      ]
    },
    {
      "cell_type": "markdown",
      "metadata": {
        "id": "8fd5c7b5f762"
      },
      "source": [
        "## Before you begin\n",
        "\n",
        "* **Prepare a VPC network**.  To reduce any network overhead that might lead to unnecessary increase in overhead latency, it is best to call the ANN endpoints from your VPC via a direct [VPC Peering](https://cloud.google.com/vertex-ai/docs/general/vpc-peering) connection. The following section describes how to setup a VPC Peering connection if you don't have one. This is a one-time initial setup task. You can also reuse existing VPC network and skip this section.\n",
        "* **WARNING:** The match service gRPC API (to create online queries against your deployed index) has to be executed in a Google Cloud Notebook instance that is created with the following requirements:\n",
        "  * **In the same region as where your ANN service is deployed** (for example, if you set `REGION = \"us-central1\"` as same as the tutorial, the notebook instance has to be in `us-central1`).\n",
        "  * **Make sure you select the VPC network you created for ANN service** (instead of using the \"default\" one). That is, you will have to create the VPC network below and then create a new notebook instance that uses that VPC.  \n",
        "  * If you run it in the colab or a Google Cloud Notebook instance in a different VPC network or region, the gRPC API will fail to peer the network (InactiveRPCError)."
      ]
    },
    {
      "cell_type": "code",
      "execution_count": null,
      "metadata": {
        "id": "a6816045be6c"
      },
      "outputs": [],
      "source": [
        "PROJECT_ID = \"<your_project_id>\"  # @param {type:\"string\"}\n",
        "NETWORK_NAME = \"ucaip-haystack-vpc-network\"  # @param {type:\"string\"}\n",
        "PEERING_RANGE_NAME = \"ucaip-haystack-range\"\n",
        "\n",
        "# Create a VPC network\n",
        "! gcloud compute networks create {NETWORK_NAME} --bgp-routing-mode=regional --subnet-mode=auto --project={PROJECT_ID}\n",
        "\n",
        "# Add necessary firewall rules\n",
        "! gcloud compute firewall-rules create {NETWORK_NAME}-allow-icmp --network {NETWORK_NAME} --priority 65534 --project {PROJECT_ID} --allow icmp\n",
        "\n",
        "! gcloud compute firewall-rules create {NETWORK_NAME}-allow-internal --network {NETWORK_NAME} --priority 65534 --project {PROJECT_ID} --allow all --source-ranges 10.128.0.0/9\n",
        "\n",
        "! gcloud compute firewall-rules create {NETWORK_NAME}-allow-rdp --network {NETWORK_NAME} --priority 65534 --project {PROJECT_ID} --allow tcp:3389\n",
        "\n",
        "! gcloud compute firewall-rules create {NETWORK_NAME}-allow-ssh --network {NETWORK_NAME} --priority 65534 --project {PROJECT_ID} --allow tcp:22\n",
        "\n",
        "# Reserve IP range\n",
        "! gcloud compute addresses create {PEERING_RANGE_NAME} --global --prefix-length=16 --network={NETWORK_NAME} --purpose=VPC_PEERING --project={PROJECT_ID} --description=\"peering range for uCAIP Haystack.\"\n",
        "\n",
        "# Set up peering with service networking\n",
        "! gcloud services vpc-peerings connect --service=servicenetworking.googleapis.com --network={NETWORK_NAME} --ranges={PEERING_RANGE_NAME} --project={PROJECT_ID}"
      ]
    },
    {
      "cell_type": "markdown",
      "metadata": {
        "id": "f884f24cb13d"
      },
      "source": [
        "* Authentication: `$ gcloud auth login` rerun this in Google Cloud Notebook terminal when you are logged out and need the credential again."
      ]
    },
    {
      "cell_type": "markdown",
      "metadata": {
        "id": "f23c454bb919"
      },
      "source": [
        "### Installation\n",
        "\n",
        "Download and install the latest (preview) version of the Vertex AI SDK for Python."
      ]
    },
    {
      "cell_type": "code",
      "execution_count": null,
      "metadata": {
        "id": "0ff9763645ba"
      },
      "outputs": [],
      "source": [
        "! pip install -U git+https://github.com/googleapis/python-aiplatform.git@main --user"
      ]
    },
    {
      "cell_type": "markdown",
      "metadata": {
        "id": "56ae24483bdd"
      },
      "source": [
        "Install the `h5py` to prepare sample dataset, and the `grpcio-tools` for querying against the index. "
      ]
    },
    {
      "cell_type": "code",
      "execution_count": null,
      "metadata": {
        "id": "8de4826c5dae"
      },
      "outputs": [],
      "source": [
        "! pip install -U grpcio-tools --user\n",
        "! pip install -U h5py --user"
      ]
    },
    {
      "cell_type": "markdown",
      "metadata": {
        "id": "35942e320683"
      },
      "source": [
        "### Restart the kernel\n",
        "\n",
        "After you install the additional packages, you need to restart the notebook kernel so it can find the packages."
      ]
    },
    {
      "cell_type": "code",
      "execution_count": null,
      "metadata": {
        "id": "a7e5937088c8"
      },
      "outputs": [],
      "source": [
        "# Automatically restart kernel after installs\n",
        "import os\n",
        "\n",
        "if not os.getenv(\"IS_TESTING\"):\n",
        "    # Automatically restart kernel after installs\n",
        "    import IPython\n",
        "\n",
        "    app = IPython.Application.instance()\n",
        "    app.kernel.do_shutdown(True)"
      ]
    },
    {
      "cell_type": "markdown",
      "metadata": {
        "id": "8b2ac6070a50"
      },
      "source": [
        "### Set up your Google Cloud project\n",
        "\n",
        "**The following steps are required, regardless of your notebook environment.**\n",
        "\n",
        "1. [Select or create a Google Cloud project](https://console.cloud.google.com/cloud-resource-manager).\n",
        "\n",
        "1. [Make sure that billing is enabled for your project](https://cloud.google.com/billing/docs/how-to/modify-project).\n",
        "\n",
        "1. [Enable the Vertex AI API and Compute Engine API, and Service Networking API](https://console.cloud.google.com/flows/enableapi?apiid=aiplatform.googleapis.com,compute_component,servicenetworking.googleapis.com).\n",
        "\n",
        "1. Enter your project ID in the cell below. Then run the cell to make sure the\n",
        "Cloud SDK uses the right project for all the commands in this notebook.\n",
        "\n",
        "**Note**: Jupyter runs lines prefixed with `!` as shell commands, and it interpolates Python variables prefixed with `$` into these commands."
      ]
    },
    {
      "cell_type": "markdown",
      "metadata": {
        "id": "1460fd744366"
      },
      "source": [
        "#### Set your project ID\n",
        "\n",
        "**If you don't know your project ID**, you may be able to get your project ID using `gcloud`."
      ]
    },
    {
      "cell_type": "code",
      "execution_count": null,
      "metadata": {
        "id": "de2e46fd8357"
      },
      "outputs": [],
      "source": [
        "import os\n",
        "\n",
        "PROJECT_ID = \"\"\n",
        "\n",
        "# Get your Google Cloud project ID from gcloud\n",
        "if not os.getenv(\"IS_TESTING\"):\n",
        "    shell_output = !gcloud config list --format 'value(core.project)' 2>/dev/null\n",
        "    PROJECT_ID = shell_output[0]\n",
        "    print(\"Project ID: \", PROJECT_ID)"
      ]
    },
    {
      "cell_type": "markdown",
      "metadata": {
        "id": "9209d63a0cd0"
      },
      "source": [
        "Otherwise, set your project ID here."
      ]
    },
    {
      "cell_type": "code",
      "execution_count": null,
      "metadata": {
        "id": "162231be132f"
      },
      "outputs": [],
      "source": [
        "if PROJECT_ID == \"\" or PROJECT_ID is None:\n",
        "    PROJECT_ID = \"<your_project_id>\"  # @param {type:\"string\"}"
      ]
    },
    {
      "cell_type": "markdown",
      "metadata": {
        "id": "d5bfb28f0c8f"
      },
      "source": [
        "### Create a Cloud Storage bucket\n",
        "\n",
        "**The following steps are required, regardless of your notebook environment.**\n",
        "\n",
        "Set the name of your Cloud Storage bucket below. It must be unique across all\n",
        "Cloud Storage buckets.\n",
        "\n",
        "You may also change the `REGION` variable, which is used for operations\n",
        "throughout the rest of this notebook. Make sure to [choose a region where Vertex AI services are\n",
        "available](https://cloud.google.com/vertex-ai/docs/general/locations#available_regions). You may\n",
        "not use a Multi-Regional Storage bucket for training with Vertex AI."
      ]
    },
    {
      "cell_type": "code",
      "execution_count": null,
      "metadata": {
        "id": "44daa168d249"
      },
      "outputs": [],
      "source": [
        "BUCKET_NAME = \"gs://[your-bucket-name]\"  # @param {type:\"string\"}\n",
        "REGION = \"us-central1\"  # @param {type:\"string\"}"
      ]
    },
    {
      "cell_type": "code",
      "execution_count": null,
      "metadata": {
        "id": "526e2543b88c"
      },
      "outputs": [],
      "source": [
        "from datetime import datetime\n",
        "\n",
        "TIMESTAMP = datetime.now().strftime(\"%Y%m%d%H%M%S\")\n",
        "\n",
        "if BUCKET_NAME == \"\" or BUCKET_NAME is None or BUCKET_NAME == \"gs://[your-bucket-name]\":\n",
        "    BUCKET_NAME = \"gs://\" + PROJECT_ID + \"aip-\" + TIMESTAMP"
      ]
    },
    {
      "cell_type": "markdown",
      "metadata": {
        "id": "c2494d848ef8"
      },
      "source": [
        "**Only if your bucket doesn't already exist**: Run the following cell to create your Cloud Storage bucket."
      ]
    },
    {
      "cell_type": "code",
      "execution_count": null,
      "metadata": {
        "id": "288789c89136"
      },
      "outputs": [],
      "source": [
        "! gsutil mb -l $REGION $BUCKET_NAME"
      ]
    },
    {
      "cell_type": "markdown",
      "metadata": {
        "id": "edb9a1c8f05d"
      },
      "source": [
        "Finally, validate access to your Cloud Storage bucket by examining its contents:"
      ]
    },
    {
      "cell_type": "code",
      "execution_count": null,
      "metadata": {
        "id": "0a998b7e4c00"
      },
      "outputs": [],
      "source": [
        "! gsutil ls -al $BUCKET_NAME"
      ]
    },
    {
      "cell_type": "markdown",
      "metadata": {
        "id": "77c298e180cc"
      },
      "source": [
        "### Import libraries and define constants"
      ]
    },
    {
      "cell_type": "markdown",
      "metadata": {
        "id": "b26cba3c637f"
      },
      "source": [
        "Import the Vertex AI (unified) client library into your Python environment. "
      ]
    },
    {
      "cell_type": "code",
      "execution_count": null,
      "metadata": {
        "id": "10eced247f4e"
      },
      "outputs": [],
      "source": [
        "import time\n",
        "\n",
        "import grpc\n",
        "import h5py\n",
        "from google.cloud import aiplatform_v1\n",
        "from google.protobuf import struct_pb2"
      ]
    },
    {
      "cell_type": "code",
      "execution_count": null,
      "metadata": {
        "id": "7faeb1a283f1"
      },
      "outputs": [],
      "source": [
        "REGION = \"us-central1\"\n",
        "ENDPOINT = \"{}-aiplatform.googleapis.com\".format(REGION)\n",
        "NETWORK_NAME = \"ucaip-haystack-vpc-network\"  # @param {type:\"string\"}\n",
        "\n",
        "\n",
        "AUTH_TOKEN = !gcloud auth print-access-token\n",
        "PROJECT_NUMBER = !gcloud projects list --filter=\"PROJECT_ID:'{PROJECT_ID}'\" --format='value(PROJECT_NUMBER)'\n",
        "PROJECT_NUMBER = PROJECT_NUMBER[0]\n",
        "\n",
        "PARENT = \"projects/{}/locations/{}\".format(PROJECT_ID, REGION)\n",
        "\n",
        "print(\"ENDPOINT: {}\".format(ENDPOINT))\n",
        "print(\"PROJECT_ID: {}\".format(PROJECT_ID))\n",
        "print(\"REGION: {}\".format(REGION))\n",
        "\n",
        "!gcloud config set project {PROJECT_ID} --quiet\n",
        "!gcloud config set ai_platform/region {REGION} --quiet"
      ]
    },
    {
      "cell_type": "markdown",
      "metadata": {
        "id": "8292bcedab58"
      },
      "source": [
        "## Prepare the data\n",
        "\n",
        "The GloVe dataset consists of a set of pre-trained embeddings. The embeddings are split into a \"train\" split, and a \"test\" split.\n",
        "We will create a vector search index from the \"train\" split, and use the embedding vectors in the \"test\" split as query vectors to test the vector search index.\n",
        "\n",
        "NOTE: While the data split uses the term \"train\", these are pre-trained embeddings and thus are ready to be indexed for search. The terms \"train\" and \"test\" split are used just to be consistent with usual machine learning terminology.\n",
        "\n",
        "Download the GloVe dataset.\n"
      ]
    },
    {
      "cell_type": "code",
      "execution_count": null,
      "metadata": {
        "id": "6b1d956b9b35"
      },
      "outputs": [],
      "source": [
        "! gsutil cp gs://cloud-samples-data/vertex-ai/matching_engine/glove-100-angular.hdf5 ."
      ]
    },
    {
      "cell_type": "markdown",
      "metadata": {
        "id": "94016ba9813e"
      },
      "source": [
        "Read the data into memory."
      ]
    },
    {
      "cell_type": "code",
      "execution_count": null,
      "metadata": {
        "id": "8b624e450373"
      },
      "outputs": [],
      "source": [
        "# The number of nearest neighbors to be retrieved from database for each query.\n",
        "k = 10\n",
        "\n",
        "h5 = h5py.File(\"glove-100-angular.hdf5\", \"r\")\n",
        "train = h5[\"train\"]\n",
        "test = h5[\"test\"]"
      ]
    },
    {
      "cell_type": "code",
      "execution_count": null,
      "metadata": {
        "id": "e76abc48ecf9"
      },
      "outputs": [],
      "source": [
        "train[0]"
      ]
    },
    {
      "cell_type": "markdown",
      "metadata": {
        "id": "3f2963a0b8e0"
      },
      "source": [
        "Save the train split in JSONL format."
      ]
    },
    {
      "cell_type": "code",
      "execution_count": null,
      "metadata": {
        "id": "2dfd0d33958e"
      },
      "outputs": [],
      "source": [
        "# Add restricts to each data point, in this demo, we only add one namespace and the allowlist is set to be the same as the id.\n",
        "# Later on, we will demo how to return only the allowlisted data points.\n",
        "# Split datapoins into two groups 'a' and 'b'. The datapoint whose ids are even are in group 'a', otherwise are in group 'b'\n",
        "# We will demo how to configure the query to return up to k data points for each group.\n",
        "with open(\"glove100.json\", \"w\") as f:\n",
        "    for i in range(len(train)):\n",
        "        f.write('{\"id\":\"' + str(i) + '\",')\n",
        "        f.write('\"embedding\":[' + \",\".join(str(x) for x in train[i]) + \"],\")\n",
        "        f.write(\n",
        "            '\"restricts\":[{\"namespace\": \"class\", \"allow\": [\"' + str(i) + '\"]}],'\n",
        "        )\n",
        "        f.write('\"crowding_tag\":' + ('\"a\"' if i % 2 == 0 else '\"b\"') + \"}\")\n",
        "        f.write(\"\\n\")\n",
        "        if i >= 100:\n",
        "            break"
      ]
    },
    {
      "cell_type": "markdown",
      "metadata": {
        "id": "3b7a26dcf2d1"
      },
      "source": [
        "Upload the training data to GCS."
      ]
    },
    {
      "cell_type": "code",
      "execution_count": null,
      "metadata": {
        "id": "88318b94c325"
      },
      "outputs": [],
      "source": [
        "# NOTE: Everything in this GCS DIR will be DELETED before uploading the data.\n",
        "\n",
        "! gsutil rm -rf {BUCKET_NAME}/*"
      ]
    },
    {
      "cell_type": "code",
      "execution_count": null,
      "metadata": {
        "id": "42f2fa79030e"
      },
      "outputs": [],
      "source": [
        "! gsutil cp glove100.json {BUCKET_NAME}/glove100.json"
      ]
    },
    {
      "cell_type": "code",
      "execution_count": null,
      "metadata": {
        "id": "32356782a8eb"
      },
      "outputs": [],
      "source": [
        "! gsutil ls {BUCKET_NAME}"
      ]
    },
    {
      "cell_type": "markdown",
      "metadata": {
        "id": "7ed651577839"
      },
      "source": [
        "## Create Stream Update index"
      ]
    },
    {
      "cell_type": "code",
      "execution_count": null,
      "metadata": {
        "id": "1f6e0eb16f64"
      },
      "outputs": [],
      "source": [
        "index_client = aiplatform_v1.IndexServiceClient(\n",
        "    client_options=dict(api_endpoint=ENDPOINT)\n",
        ")"
      ]
    },
    {
      "cell_type": "code",
      "execution_count": null,
      "metadata": {
        "id": "510494ae296f"
      },
      "outputs": [],
      "source": [
        "DIMENSIONS = 100\n",
        "DISPLAY_NAME = \"glove_100_1\""
      ]
    },
    {
      "cell_type": "code",
      "execution_count": null,
      "metadata": {
        "id": "59c3bccd08a7"
      },
      "outputs": [],
      "source": [
        "treeAhConfig = struct_pb2.Struct(\n",
        "    fields={\n",
        "        \"leafNodeEmbeddingCount\": struct_pb2.Value(number_value=500),\n",
        "        \"leafNodesToSearchPercent\": struct_pb2.Value(number_value=7),\n",
        "    }\n",
        ")\n",
        "\n",
        "algorithmConfig = struct_pb2.Struct(\n",
        "    fields={\"treeAhConfig\": struct_pb2.Value(struct_value=treeAhConfig)}\n",
        ")\n",
        "\n",
        "config = struct_pb2.Struct(\n",
        "    fields={\n",
        "        \"dimensions\": struct_pb2.Value(number_value=DIMENSIONS),\n",
        "        \"approximateNeighborsCount\": struct_pb2.Value(number_value=150),\n",
        "        \"distanceMeasureType\": struct_pb2.Value(string_value=\"DOT_PRODUCT_DISTANCE\"),\n",
        "        \"algorithmConfig\": struct_pb2.Value(struct_value=algorithmConfig),\n",
        "    }\n",
        ")\n",
        "\n",
        "metadata = struct_pb2.Struct(\n",
        "    fields={\n",
        "        \"config\": struct_pb2.Value(struct_value=config),\n",
        "        \"contentsDeltaUri\": struct_pb2.Value(string_value=BUCKET_NAME),\n",
        "    }\n",
        ")\n",
        "\n",
        "ann_index = {\n",
        "    \"display_name\": DISPLAY_NAME,\n",
        "    \"description\": \"Glove 100 ANN index\",\n",
        "    \"metadata\": struct_pb2.Value(struct_value=metadata),\n",
        "    \"index_update_method\": aiplatform_v1.Index.IndexUpdateMethod.STREAM_UPDATE,\n",
        "}"
      ]
    },
    {
      "cell_type": "code",
      "execution_count": null,
      "metadata": {
        "id": "9583e9ef05c1"
      },
      "outputs": [],
      "source": [
        "ann_index = index_client.create_index(parent=PARENT, index=ann_index)"
      ]
    },
    {
      "cell_type": "code",
      "execution_count": null,
      "metadata": {
        "id": "31f5c52b6303"
      },
      "outputs": [],
      "source": [
        "ann_index.result()"
      ]
    },
    {
      "cell_type": "code",
      "execution_count": null,
      "metadata": {
        "id": "dfb686eead67"
      },
      "outputs": [],
      "source": [
        "INDEX_RESOURCE_NAME = ann_index.result().name\n",
        "INDEX_RESOURCE_NAME"
      ]
    },
    {
      "cell_type": "markdown",
      "metadata": {
        "id": "7d420cee013c"
      },
      "source": [
        "## Create an IndexEndpoint with VPC Network"
      ]
    },
    {
      "cell_type": "code",
      "execution_count": null,
      "metadata": {
        "id": "4b397be1e32c"
      },
      "outputs": [],
      "source": [
        "index_endpoint_client = aiplatform_v1.IndexEndpointServiceClient(\n",
        "    client_options=dict(api_endpoint=ENDPOINT)\n",
        ")"
      ]
    },
    {
      "cell_type": "code",
      "execution_count": null,
      "metadata": {
        "id": "b31ddc729234"
      },
      "outputs": [],
      "source": [
        "VPC_NETWORK_NAME = \"projects/{}/global/networks/{}\".format(PROJECT_NUMBER, NETWORK_NAME)\n",
        "VPC_NETWORK_NAME"
      ]
    },
    {
      "cell_type": "code",
      "execution_count": null,
      "metadata": {
        "id": "8c57b9946a3f"
      },
      "outputs": [],
      "source": [
        "index_endpoint = {\n",
        "    \"display_name\": \"index_endpoint_for_demo\",\n",
        "    \"network\": VPC_NETWORK_NAME,\n",
        "}"
      ]
    },
    {
      "cell_type": "code",
      "execution_count": null,
      "metadata": {
        "id": "cec7c9539038"
      },
      "outputs": [],
      "source": [
        "r = index_endpoint_client.create_index_endpoint(\n",
        "    parent=PARENT, index_endpoint=index_endpoint\n",
        ")"
      ]
    },
    {
      "cell_type": "code",
      "execution_count": null,
      "metadata": {
        "id": "9eb4c78e80f2"
      },
      "outputs": [],
      "source": [
        "r.result()"
      ]
    },
    {
      "cell_type": "code",
      "execution_count": null,
      "metadata": {
        "id": "03980ee08465"
      },
      "outputs": [],
      "source": [
        "INDEX_ENDPOINT_NAME = r.result().name\n",
        "INDEX_ENDPOINT_NAME"
      ]
    },
    {
      "cell_type": "markdown",
      "metadata": {
        "id": "16410d318cdb"
      },
      "source": [
        "## Deploy Stream Update Index"
      ]
    },
    {
      "cell_type": "code",
      "execution_count": null,
      "metadata": {
        "id": "cdbe1b60a9d2"
      },
      "outputs": [],
      "source": [
        "DEPLOYED_INDEX_ID = \"stream_update_glove_deployed\""
      ]
    },
    {
      "cell_type": "code",
      "execution_count": null,
      "metadata": {
        "id": "57f12183f88e"
      },
      "outputs": [],
      "source": [
        "deploy_ann_index = {\n",
        "    \"id\": DEPLOYED_INDEX_ID,\n",
        "    \"display_name\": DEPLOYED_INDEX_ID,\n",
        "    \"index\": INDEX_RESOURCE_NAME,\n",
        "}"
      ]
    },
    {
      "cell_type": "code",
      "execution_count": null,
      "metadata": {
        "id": "f71e60755eb1"
      },
      "outputs": [],
      "source": [
        "r = index_endpoint_client.deploy_index(\n",
        "    index_endpoint=INDEX_ENDPOINT_NAME, deployed_index=deploy_ann_index\n",
        ")"
      ]
    },
    {
      "cell_type": "code",
      "execution_count": null,
      "metadata": {
        "id": "6053ceb66ae8"
      },
      "outputs": [],
      "source": [
        "# Poll the operation until it's done successfullly.\n",
        "\n",
        "while True:\n",
        "    if r.done():\n",
        "        break\n",
        "    print(\"Poll the operation to deploy index...\")\n",
        "    time.sleep(60)"
      ]
    },
    {
      "cell_type": "code",
      "execution_count": null,
      "metadata": {
        "id": "46a89c0e99a7"
      },
      "outputs": [],
      "source": [
        "r.result()"
      ]
    },
    {
      "cell_type": "markdown",
      "metadata": {
        "id": "00c606bc97b5"
      },
      "source": [
        "## Create online queries\n",
        "\n",
        "After you built your indexes, you may query against the deployed index through the online querying gRPC API (Match service) within the virtual machine instances from the same region (for example 'us-central1' in this tutorial).  \n",
        "\n",
        "The way a client uses this gRPC API is by folowing steps:\n",
        "\n",
        "* Write `match_service.proto` locally\n",
        "* Clone the repository that contains the dependencies of match_service.proto in the Terminal:\n",
        "\n",
        "`$ mkdir third_party && cd third_party`\n",
        "\n",
        "`$ git clone https://github.com/googleapis/googleapis.git`\n",
        "\n",
        "* Compile the protocal buffer (see below)\n",
        "* Obtain the index endpoint\n",
        "* Use a code-generated stub to make the call, passing the parameter values"
      ]
    },
    {
      "cell_type": "code",
      "execution_count": null,
      "metadata": {
        "id": "c5cdbfe3eee3"
      },
      "outputs": [],
      "source": [
        "%%writefile match_service.proto\n",
        "\n",
        "syntax = \"proto3\";\n",
        "\n",
        "package google.cloud.aiplatform.container.v1;\n",
        "\n",
        "// MatchService is a Google managed service for efficient vector similarity\n",
        "// search at scale.\n",
        "service MatchService {\n",
        "  // Returns the nearest neighbors for the query. If it is a sharded\n",
        "  // deployment, calls the other shards and aggregates the responses.\n",
        "  rpc Match(MatchRequest) returns (MatchResponse) {}\n",
        "}\n",
        "\n",
        "// Parameters for a match query.\n",
        "message MatchRequest {\n",
        "  // The ID of the DeploydIndex that will serve the request.\n",
        "  // This MatchRequest is sent to a specific IndexEndpoint of the Control API,\n",
        "  // as per the IndexEndpoint.network. That IndexEndpoint also has\n",
        "  // IndexEndpoint.deployed_indexes, and each such index has an\n",
        "  // DeployedIndex.id field.\n",
        "  // The value of the field below must equal one of the DeployedIndex.id\n",
        "  // fields of the IndexEndpoint that is being called for this request.\n",
        "  string deployed_index_id = 1;\n",
        "\n",
        "  // The embedding values.\n",
        "  repeated float float_val = 2;\n",
        "\n",
        "  // The number of nearest neighbors to be retrieved from database for\n",
        "  // each query. If not set, will use the default from\n",
        "  // the service configuration.\n",
        "  int32 num_neighbors = 3;\n",
        "\n",
        "  // The list of restricts.\n",
        "  repeated Namespace restricts = 4;\n",
        "\n",
        "  // Crowding is a constraint on a neighbor list produced by nearest neighbor\n",
        "  // search requiring that no more than some value k' of the k neighbors\n",
        "  // returned have the same value of crowding_attribute.\n",
        "  // It's used for improving result diversity.\n",
        "  // This field is the maximum number of matches with the same crowding tag.\n",
        "  int32 per_crowding_attribute_num_neighbors = 5;\n",
        "\n",
        "  // The number of neighbors to find via approximate search before\n",
        "  // exact reordering is performed. If not set, the default value from scam\n",
        "  // config is used; if set, this value must be > 0.\n",
        "  int32 approx_num_neighbors = 6;\n",
        "\n",
        "  // The fraction of the number of leaves to search, set at query time allows\n",
        "  // user to tune search performance. This value increase result in both search\n",
        "  // accuracy and latency increase. The value should be between 0.0 and 1.0. If\n",
        "  // not set or set to 0.0, query uses the default value specified in\n",
        "  // NearestNeighborSearchConfig.TreeAHConfig.leaf_nodes_to_search_percent.\n",
        "  int32 leaf_nodes_to_search_percent_override = 7;\n",
        "}\n",
        "\n",
        "// Response of a match query.\n",
        "message MatchResponse {\n",
        "  message Neighbor {\n",
        "    // The ids of the matches.\n",
        "    string id = 1;\n",
        "\n",
        "    // The distances of the matches.\n",
        "    double distance = 2;\n",
        "  }\n",
        "  // All its neighbors.\n",
        "  repeated Neighbor neighbor = 1;\n",
        "}\n",
        "\n",
        "// Namespace specifies the rules for determining the datapoints that are\n",
        "// eligible for each matching query, overall query is an AND across namespaces.\n",
        "message Namespace {\n",
        "  // The string name of the namespace that this proto is specifying,\n",
        "  // such as \"color\", \"shape\", \"geo\", or \"tags\".\n",
        "  string name = 1;\n",
        "\n",
        "  // The allowed tokens in the namespace.\n",
        "  repeated string allow_tokens = 2;\n",
        "\n",
        "  // The denied tokens in the namespace.\n",
        "  // The denied tokens have exactly the same format as the token fields, but\n",
        "  // represents a negation. When a token is denied, then matches will be\n",
        "  // excluded whenever the other datapoint has that token.\n",
        "  //\n",
        "  // For example, if a query specifies {color: red, blue, !purple}, then that\n",
        "  // query will match datapoints that are red or blue, but if those points are\n",
        "  // also purple, then they will be excluded even if they are red/blue.\n",
        "  repeated string deny_tokens = 3;\n",
        "}"
      ]
    },
    {
      "cell_type": "markdown",
      "metadata": {
        "id": "e498e63f1ecc"
      },
      "source": [
        "Compile the protocol buffer, and then `match_service_pb2.py` and `match_service_pb2_grpc.py` are generated."
      ]
    },
    {
      "cell_type": "code",
      "execution_count": null,
      "metadata": {
        "id": "347a120fb98b"
      },
      "outputs": [],
      "source": [
        "! python -m grpc_tools.protoc -I=. --proto_path=./googleapis --python_out=. --grpc_python_out=. match_service.proto"
      ]
    },
    {
      "cell_type": "markdown",
      "metadata": {
        "id": "1a946b341b8e"
      },
      "source": [
        "Obtain the Private Endpoint: "
      ]
    },
    {
      "cell_type": "code",
      "execution_count": null,
      "metadata": {
        "id": "7b2cf3c64085"
      },
      "outputs": [],
      "source": [
        "DEPLOYED_INDEX_SERVER_IP = (\n",
        "    list(index_endpoint_client.list_index_endpoints(parent=PARENT))[0]\n",
        "    .deployed_indexes[0]\n",
        "    .private_endpoints.match_grpc_address\n",
        ")\n",
        "DEPLOYED_INDEX_SERVER_IP"
      ]
    },
    {
      "cell_type": "markdown",
      "metadata": {
        "id": "0faef2ea1582"
      },
      "source": [
        "Test your query:"
      ]
    },
    {
      "cell_type": "code",
      "execution_count": null,
      "metadata": {
        "id": "815005140590"
      },
      "outputs": [],
      "source": [
        "import match_service_pb2\n",
        "import match_service_pb2_grpc\n",
        "\n",
        "channel = grpc.insecure_channel(\"{}:10000\".format(DEPLOYED_INDEX_SERVER_IP))\n",
        "stub = match_service_pb2_grpc.MatchServiceStub(channel)"
      ]
    },
    {
      "cell_type": "code",
      "execution_count": null,
      "metadata": {
        "id": "ecbb0547b77b"
      },
      "outputs": [],
      "source": [
        "# Test query\n",
        "query = [\n",
        "    -0.11333,\n",
        "    0.48402,\n",
        "    0.090771,\n",
        "    -0.22439,\n",
        "    0.034206,\n",
        "    -0.55831,\n",
        "    0.041849,\n",
        "    -0.53573,\n",
        "    0.18809,\n",
        "    -0.58722,\n",
        "    0.015313,\n",
        "    -0.014555,\n",
        "    0.80842,\n",
        "    -0.038519,\n",
        "    0.75348,\n",
        "    0.70502,\n",
        "    -0.17863,\n",
        "    0.3222,\n",
        "    0.67575,\n",
        "    0.67198,\n",
        "    0.26044,\n",
        "    0.4187,\n",
        "    -0.34122,\n",
        "    0.2286,\n",
        "    -0.53529,\n",
        "    1.2582,\n",
        "    -0.091543,\n",
        "    0.19716,\n",
        "    -0.037454,\n",
        "    -0.3336,\n",
        "    0.31399,\n",
        "    0.36488,\n",
        "    0.71263,\n",
        "    0.1307,\n",
        "    -0.24654,\n",
        "    -0.52445,\n",
        "    -0.036091,\n",
        "    0.55068,\n",
        "    0.10017,\n",
        "    0.48095,\n",
        "    0.71104,\n",
        "    -0.053462,\n",
        "    0.22325,\n",
        "    0.30917,\n",
        "    -0.39926,\n",
        "    0.036634,\n",
        "    -0.35431,\n",
        "    -0.42795,\n",
        "    0.46444,\n",
        "    0.25586,\n",
        "    0.68257,\n",
        "    -0.20821,\n",
        "    0.38433,\n",
        "    0.055773,\n",
        "    -0.2539,\n",
        "    -0.20804,\n",
        "    0.52522,\n",
        "    -0.11399,\n",
        "    -0.3253,\n",
        "    -0.44104,\n",
        "    0.17528,\n",
        "    0.62255,\n",
        "    0.50237,\n",
        "    -0.7607,\n",
        "    -0.071786,\n",
        "    0.0080131,\n",
        "    -0.13286,\n",
        "    0.50097,\n",
        "    0.18824,\n",
        "    -0.54722,\n",
        "    -0.42664,\n",
        "    0.4292,\n",
        "    0.14877,\n",
        "    -0.0072514,\n",
        "    -0.16484,\n",
        "    -0.059798,\n",
        "    0.9895,\n",
        "    -0.61738,\n",
        "    0.054169,\n",
        "    0.48424,\n",
        "    -0.35084,\n",
        "    -0.27053,\n",
        "    0.37829,\n",
        "    0.11503,\n",
        "    -0.39613,\n",
        "    0.24266,\n",
        "    0.39147,\n",
        "    -0.075256,\n",
        "    0.65093,\n",
        "    -0.20822,\n",
        "    -0.17456,\n",
        "    0.53571,\n",
        "    -0.16537,\n",
        "    0.13582,\n",
        "    -0.56016,\n",
        "    0.016964,\n",
        "    0.1277,\n",
        "    0.94071,\n",
        "    -0.22608,\n",
        "    -0.021106,\n",
        "]"
      ]
    },
    {
      "cell_type": "code",
      "execution_count": null,
      "metadata": {
        "id": "18df0feb38ed"
      },
      "outputs": [],
      "source": [
        "request = match_service_pb2.MatchRequest()\n",
        "request.deployed_index_id = DEPLOYED_INDEX_ID\n",
        "for val in query:\n",
        "    request.float_val.append(val)\n",
        "\n",
        "# The output before stream update\n",
        "response = stub.Match(request)\n",
        "response"
      ]
    },
    {
      "cell_type": "markdown",
      "metadata": {
        "id": "07dc81eea8c5"
      },
      "source": [
        "Insert datapoints:"
      ]
    },
    {
      "cell_type": "code",
      "execution_count": null,
      "metadata": {
        "id": "2e62c671b238"
      },
      "outputs": [],
      "source": [
        "insert_datapoints_payload = aiplatform_v1.IndexDatapoint(\n",
        "    datapoint_id=\"101\",\n",
        "    feature_vector=query,\n",
        "    restricts=[{\"namespace\": \"class\", \"allow_list\": [\"101\"]}],\n",
        "    crowding_tag=aiplatform_v1.IndexDatapoint.CrowdingTag(crowding_attribute=\"b\"),\n",
        ")\n",
        "\n",
        "upsert_request = aiplatform_v1.UpsertDatapointsRequest(\n",
        "    index=INDEX_RESOURCE_NAME, datapoints=[insert_datapoints_payload]\n",
        ")\n",
        "\n",
        "index_client.upsert_datapoints(request=upsert_request)\n",
        "\n",
        "request = match_service_pb2.MatchRequest()\n",
        "request.deployed_index_id = DEPLOYED_INDEX_ID\n",
        "for val in query:\n",
        "    request.float_val.append(val)\n",
        "\n",
        "# The new inserted datapoint with id 101 will show up in the output\n",
        "response = stub.Match(request)\n",
        "response"
      ]
    },
    {
      "cell_type": "markdown",
      "metadata": {
        "id": "3b96fe2670a6"
      },
      "source": [
        "Add filtering:"
      ]
    },
    {
      "cell_type": "code",
      "execution_count": null,
      "metadata": {
        "id": "d4b8b85f3b31"
      },
      "outputs": [],
      "source": [
        "request = match_service_pb2.MatchRequest()\n",
        "request.deployed_index_id = DEPLOYED_INDEX_ID\n",
        "for val in query:\n",
        "    request.float_val.append(val)\n",
        "\n",
        "# Only the datapoints whose id is 1 and 101 will show up in the output\n",
        "restrict = match_service_pb2.Namespace()\n",
        "restrict.name = \"class\"\n",
        "restrict.allow_tokens.append(\"1\")\n",
        "restrict.allow_tokens.append(\"101\")\n",
        "\n",
        "request.restricts.append(restrict)\n",
        "\n",
        "response = stub.Match(request)\n",
        "response"
      ]
    },
    {
      "cell_type": "markdown",
      "metadata": {
        "id": "61e5535f1026"
      },
      "source": [
        "Update datapoint filtering:"
      ]
    },
    {
      "cell_type": "code",
      "execution_count": null,
      "metadata": {
        "id": "84c4b7600df6"
      },
      "outputs": [],
      "source": [
        "update_datapoints_payload = aiplatform_v1.IndexDatapoint(\n",
        "    datapoint_id=\"101\",\n",
        "    feature_vector=query,\n",
        "    restricts=[{\"namespace\": \"class\", \"allow_list\": [\"102\"]}],\n",
        "    crowding_tag=aiplatform_v1.IndexDatapoint.CrowdingTag(crowding_attribute=\"b\"),\n",
        ")\n",
        "\n",
        "upsert_request = aiplatform_v1.UpsertDatapointsRequest(\n",
        "    index=INDEX_RESOURCE_NAME, datapoints=[update_datapoints_payload]\n",
        ")\n",
        "\n",
        "index_client.upsert_datapoints(request=upsert_request)\n",
        "\n",
        "response = stub.Match(request)\n",
        "response"
      ]
    },
    {
      "cell_type": "markdown",
      "metadata": {
        "id": "5f30e0ecf500"
      },
      "source": [
        "Add crowding:"
      ]
    },
    {
      "cell_type": "code",
      "execution_count": null,
      "metadata": {
        "id": "add6e7bfc278"
      },
      "outputs": [],
      "source": [
        "request = match_service_pb2.MatchRequest()\n",
        "request.deployed_index_id = DEPLOYED_INDEX_ID\n",
        "for val in query:\n",
        "    request.float_val.append(val)\n",
        "\n",
        "# Set the limit of the number of neighbors in each crowding to 1\n",
        "# So no more than one neighbor of each crowding group will appear in the output\n",
        "request.per_crowding_attribute_num_neighbors = 1\n",
        "\n",
        "response = stub.Match(request)\n",
        "response"
      ]
    },
    {
      "cell_type": "markdown",
      "metadata": {
        "id": "c252b046d461"
      },
      "source": [
        "Update datapoint crowding:"
      ]
    },
    {
      "cell_type": "code",
      "execution_count": null,
      "metadata": {
        "id": "885236ad019a"
      },
      "outputs": [],
      "source": [
        "# Change the crowding_attribute from 'b' to 'a' for the datapoint with id '101' by using stream update\n",
        "update_datapoints_payload = aiplatform_v1.IndexDatapoint(\n",
        "    datapoint_id=\"101\",\n",
        "    feature_vector=query,\n",
        "    restricts=[{\"namespace\": \"class\", \"allow_list\": [\"101\"]}],\n",
        "    crowding_tag=aiplatform_v1.IndexDatapoint.CrowdingTag(crowding_attribute=\"a\"),\n",
        ")\n",
        "\n",
        "upsert_request = aiplatform_v1.UpsertDatapointsRequest(\n",
        "    index=INDEX_RESOURCE_NAME, datapoints=[update_datapoints_payload]\n",
        ")\n",
        "\n",
        "index_client.upsert_datapoints(request=upsert_request)\n",
        "\n",
        "response = stub.Match(request)\n",
        "response"
      ]
    },
    {
      "cell_type": "markdown",
      "metadata": {
        "id": "7759f9f5eae7"
      },
      "source": [
        "Remove datapoints:"
      ]
    },
    {
      "cell_type": "code",
      "execution_count": null,
      "metadata": {
        "id": "e78703d19ddd"
      },
      "outputs": [],
      "source": [
        "# Remove the datapoint with id '101' from the index\n",
        "remove_request = aiplatform_v1.RemoveDatapointsRequest(\n",
        "    index=INDEX_RESOURCE_NAME, datapoint_ids=[\"101\"]\n",
        ")\n",
        "\n",
        "index_client.remove_datapoints(request=remove_request)\n",
        "\n",
        "request = match_service_pb2.MatchRequest()\n",
        "request.deployed_index_id = DEPLOYED_INDEX_ID\n",
        "for val in query:\n",
        "    request.float_val.append(val)\n",
        "\n",
        "response = stub.Match(request)\n",
        "response"
      ]
    },
    {
      "cell_type": "markdown",
      "metadata": {
        "id": "d3b0fda71629"
      },
      "source": [
        "## Cleaning up\n",
        "\n",
        "To clean up all Google Cloud resources used in this project, you can [delete the Google Cloud\n",
        "project](https://cloud.google.com/resource-manager/docs/creating-managing-projects#shutting_down_projects) you used for the tutorial.\n",
        "You can also manually delete resources that you created by running the following code."
      ]
    },
    {
      "cell_type": "code",
      "execution_count": null,
      "metadata": {
        "id": "7eefcc8f9527"
      },
      "outputs": [],
      "source": [
        "index_client.delete_index(name=INDEX_RESOURCE_NAME)"
      ]
    },
    {
      "cell_type": "code",
      "execution_count": null,
      "metadata": {
        "id": "4e0d28117b7c"
      },
      "outputs": [],
      "source": [
        "index_endpoint_client.delete_index_endpoint(name=INDEX_ENDPOINT_NAME)"
      ]
    }
  ],
  "metadata": {
    "colab": {
      "name": "stream_update_for_matching_engine.ipynb",
      "toc_visible": true
    },
    "kernelspec": {
      "display_name": "Python 3",
      "name": "python3"
    }
  },
  "nbformat": 4,
  "nbformat_minor": 0
}
