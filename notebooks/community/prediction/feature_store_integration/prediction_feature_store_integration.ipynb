{
  "cells": [
    {
      "cell_type": "code",
      "execution_count": null,
      "metadata": {
        "id": "ur8xi4C7S06n"
      },
      "outputs": [],
      "source": [
        "# Copyright 2022 Google LLC\n",
        "#\n",
        "# Licensed under the Apache License, Version 2.0 (the \"License\");\n",
        "# you may not use this file except in compliance with the License.\n",
        "# You may obtain a copy of the License at\n",
        "#\n",
        "#     https://www.apache.org/licenses/LICENSE-2.0\n",
        "#\n",
        "# Unless required by applicable law or agreed to in writing, software\n",
        "# distributed under the License is distributed on an \"AS IS\" BASIS,\n",
        "# WITHOUT WARRANTIES OR CONDITIONS OF ANY KIND, either express or implied.\n",
        "# See the License for the specific language governing permissions and\n",
        "# limitations under the License."
      ]
    },
    {
      "cell_type": "markdown",
      "metadata": {
        "id": "16631b027eee"
      },
      "source": [
        "<table align=\"left\">\n",
        "  <td>\n",
        "    <a href=\"https://github.com/GoogleCloudPlatform/vertex-ai-samples/blob/main/notebooks/community/prediction/feature_store_integration/prediction_feature_store_integration.ipynb\">\n",
        "      <img src=\"https://cloud.google.com/ml-engine/images/github-logo-32px.png\" alt=\"GitHub logo\">\n",
        "      View on GitHub\n",
        "    </a>\n",
        "  </td>\n",
        "  <td>\n",
        "    <a href=\"https://console.cloud.google.com/vertex-ai/workbench/deploy-notebook?download_url=https://raw.githubusercontent.com/GoogleCloudPlatform/vertex-ai-samples/main/notebooks/community/prediction/feature_store_integration/prediction_feature_store_integration.ipynb\">\n",
        "      <img src=\"https://lh3.googleusercontent.com/UiNooY4LUgW_oTvpsNhPpQzsstV5W8F7rYgxgGBD85cWJoLmrOzhVs_ksK_vgx40SHs7jCqkTkCk=e14-rj-sc0xffffff-h130-w32\" alt=\"Vertex AI logo\">\n",
        "      Open in Vertex AI Workbench\n",
        "    </a>\n",
        "  </td>\n",
        "</table>\n"
      ]
    },
    {
      "cell_type": "markdown",
      "metadata": {
        "id": "0a2a426f71c0"
      },
      "source": [
        "## Overview\n",
        "\n",
        "This notebook demonstrates how to deploy and serve models on Vertex AI with Feature Store integration. This integration enables feature values to be fetched directly from Feature Store during a `predict` request, instead of having to specify feature values explicitly in the predict request.\n",
        "\n",
        "**This is an Experimental release**, covered by the [Pre-GA Offerings](https://cloud.google.com/terms/service-terms) Terms of your Google Cloud Platform [Terms of Service](https://cloud.google.com/terms).\n",
        "\n",
        "Experimental features are focused on validating a prototype and are not guaranteed to be released. They are not intended for production use or covered by any SLA, support obligation, or deprecation policy and might be subject to backward-incompatible changes. They also may not be at the same reliability standards as a GA product.\n",
        "\n",
        "The usage of the product for model deployment and serving is free during the Experimental release period: you will still incur charges for other GCP products usage, such as Feature store, storage, etc.\n",
        "\n",
        "**Kindly drop us a note before you run any scale tests.**\n",
        "\n",
        "**Do not hesitate to contact vertexai-prediction-preview-feedback@google.com if you have any questions or run into any issues.**\n",
        "\n",
        "The projects need to be allowlisted to access this feature. If you are interested, please send an email to vertexai-prediction-preview-feedback@google.com with your project numbers OR project ids.\n",
        "\n",
        "The dataset and model used in this notebook is based on this [Prediction and Feature Store Online Serving notebook](https://github.com/GoogleCloudPlatform/vertex-ai-samples/blob/main/notebooks/community/feature_store/mobile_gaming/mobile_gaming_feature_store.ipynb) and [this blog post](https://cloud.google.com/blog/topics/developers-practitioners/churn-prediction-game-developers-using-google-analytics-4-ga4-and-bigquery-ml)."
      ]
    },
    {
      "cell_type": "markdown",
      "metadata": {
        "id": "04c030a6aefc"
      },
      "source": [
        "## Introduction\n",
        "\n",
        "Prior to this, when using Vertex AI Feature Store to store and fetch features for prediction, users had to first call Feature Store to fetch the features and then send those features to Vertex AI Prediction Service in a prediction request. Users frequently also performed feature transformations before or after sending the prediction instance to the prediction container. This led to a lot of orchestration on the user's end. \n",
        "\n",
        "\n",
        "To make it easier for our users to use Feature Store and Prediction service together, we are offering a built-in integration between Feature Store and Prediction service. Users can now upload a config when they upload their model to the model registry. This config has information on what features the model takes, where are those feature stored in Vertex AI Feature Store and how the prediction request to the deployed models should be built. On the prediction path, users just give the IDs of the entities stored in the Feature Store, or any features they want to override. Vertex AI will take care of reading all the features, constructing and executing the prediction request and returning the final prediction response.\n",
        "\n",
        "\n",
        "**Why should I care about this integration?**\n",
        "- Make predictions with a single call to online prediction service, instead of calling two separate services (one or more calls to feature store and one call to Prediction service)\n",
        "- Less code to be written and maintained by users, as they don't have to convert Feature Store's response to the format that the deployed model accepts.\n",
        "- Clients that send prediction requests to the deployed models do not have to worry about the features that a model accepts. As a result, data science teams building the models can continue to experiment without requiring every client to change their code every time a feature is added/deleted/modified. Therefore, it leads to faster iterations in organizations.\n",
        "- Model-Feature lineage can be easily and explicitly tracked.\n"
      ]
    },
    {
      "cell_type": "markdown",
      "metadata": {
        "id": "87c41242da9b"
      },
      "source": [
        "### Objective\n",
        "\n",
        "The goal is to:\n",
        "- Set up a Feature Store with the mobile game users demographic and behavioral data.\n",
        "- Learn how to write a feature fetch config for Vertex Prediction.\n",
        "- Deploy a Feature Store integrated model to Vertex Prediction using the pretrained churn model.\n",
        "- Send a `predict` request to the deployed model that fetches feature values from Feature Store in real time.\n",
        "- Learn how to debug a Feature Store integrated model using a identity model."
      ]
    },
    {
      "cell_type": "markdown",
      "metadata": {
        "id": "37bfd7e17503"
      },
      "source": [
        "### Dataset\n",
        "\n",
        "The dataset is the public sample export data from an actual mobile game app called \"Flood It!\" ([Android](https://play.google.com/store/apps/details?id=com.labpixies.flood&pli=1), [iOS](https://apps.apple.com/us/app/flood-it/id476943146))."
      ]
    },
    {
      "cell_type": "markdown",
      "metadata": {
        "id": "bb819819a5c9"
      },
      "source": [
        "### Model\n",
        "\n",
        "The model used in this notebook is based on [this blog post](https://cloud.google.com/blog/topics/developers-practitioners/churn-prediction-game-developers-using-google-analytics-4-ga4-and-bigquery-ml). The model predicts the probability of a user churning. The [raw data](https://console.cloud.google.com/bigquery?p=firebase-public-project&d=analytics_153293282&t=events_20181003&page=table&_ga=2.214026135.-1049105954.1678419790) contains the following categories of information:\n",
        "\n",
        "- identity - unique player identity numbers.\n",
        "- demographic features - information about the player, such as the geographic region in which a player is located.\n",
        "- behavioral features - counts of the number of times a player has triggered certain game events, such as reaching a new level.\n",
        "- churn propensity - this is the label or target feature, it provides an estimated probability that this player will churn, i.e. stop being an active player.\n",
        "\n",
        "The blog article referenced above explains how to use BigQuery to store the raw data, pre-process the data for machine learning, and train the corresponding model. Because this notebook focuses on Vertex Prediction, we're going to reuse a pre-trained version of this model, which can be downloaded from `gs://featurestore_integration/model`.\n",
        "\n",
        "The model's list of features by category:\n",
        "- Demographic features:\n",
        "  - `country`\n",
        "  - `operating_system`\n",
        "  - `language`\n",
        "  - `user_pseudo_id`\n",
        "- Behavioral features:\n",
        "  - `cnt_user_engagement`\n",
        "  - `cnt_level_start_quickplay`\n",
        "  - `cnt_level_end_quickplay`\n",
        "  - `cnt_level_complete_quickplay`\n",
        "  - `cnt_level_reset_quickplay`\n",
        "  - `cnt_post_score`\n",
        "  - `cnt_spend_virtual_currency`\n",
        "  - `cnt_ad_reward`\n",
        "  - `cnt_challenge_a_friend`\n",
        "  - `cnt_completed_5_levels`\n",
        "  - `cnt_use_extra_steps`\n",
        "  - `month`\n",
        "  - `julianday`\n",
        "  - `dayofweek`\n",
        "- Label:\n",
        "  - `churned`"
      ]
    },
    {
      "cell_type": "markdown",
      "metadata": {
        "id": "d9a4fd2594ca"
      },
      "source": [
        "### Costs \n",
        "\n",
        "This tutorial uses billable components of Google Cloud:\n",
        "\n",
        "* Google Cloud Storage\n",
        "* Vertex AI Feature Store\n",
        "\n",
        "Learn about [Vertex AI pricing](https://cloud.google.com/vertex-ai/pricing), and use the [Pricing Calculator](https://cloud.google.com/products/calculator/) to generate a cost estimate based on your projected usage.\n",
        "\n",
        "Vertex AI Prediction will not be billed for this feature."
      ]
    },
    {
      "cell_type": "markdown",
      "metadata": {
        "id": "ze4-nDLfK4pw"
      },
      "source": [
        "### Set up your local development environment\n",
        "\n",
        "**If you are using Vertex AI Workbench Notebooks**, your environment already meets\n",
        "all the requirements to run this notebook. You can skip this step."
      ]
    },
    {
      "cell_type": "markdown",
      "metadata": {
        "id": "gCuSR8GkAgzl"
      },
      "source": [
        "**Otherwise**, make sure your environment meets this notebook's requirements.\n",
        "You need the following:\n",
        "\n",
        "* Docker\n",
        "* Git\n",
        "* Google Cloud SDK (gcloud)\n",
        "* Python 3\n",
        "* virtualenv\n",
        "* Jupyter notebook running in a virtual environment with Python 3\n",
        "\n",
        "The Google Cloud guide to [Setting up a Python development\n",
        "environment](https://cloud.google.com/python/setup) and the [Jupyter\n",
        "installation guide](https://jupyter.org/install) provide detailed instructions\n",
        "for meeting these requirements. The following steps provide a condensed set of\n",
        "instructions:\n",
        "\n",
        "1. [Install and initialize the Cloud SDK.](https://cloud.google.com/sdk/docs/)\n",
        "\n",
        "1. [Install Python 3.](https://cloud.google.com/python/setup#installing_python)\n",
        "\n",
        "1. [Install\n",
        "   virtualenv](https://cloud.google.com/python/setup#installing_and_using_virtualenv)\n",
        "   and create a virtual environment that uses Python 3. Activate the virtual environment.\n",
        "\n",
        "1. To install Jupyter, run `pip install jupyter` on the\n",
        "command-line in a terminal shell.\n",
        "\n",
        "1. To launch Jupyter, run `jupyter notebook` on the command-line in a terminal shell.\n",
        "\n",
        "1. Open this notebook in the Jupyter Notebook Dashboard."
      ]
    },
    {
      "cell_type": "markdown",
      "metadata": {
        "id": "2ced96588e13"
      },
      "source": [
        "### Install additional packages\n",
        "\n",
        "Install additional package dependencies not installed in your notebook environment"
      ]
    },
    {
      "cell_type": "code",
      "execution_count": null,
      "metadata": {
        "id": "4811add5cd1c"
      },
      "outputs": [],
      "source": [
        "! pip install google-cloud-aiplatform"
      ]
    },
    {
      "cell_type": "markdown",
      "metadata": {
        "id": "f55ce5546af6"
      },
      "source": [
        "### Restart the kernel\n",
        "\n",
        "After you install the additional packages, you need to restart the notebook kernel so it can find the packages."
      ]
    },
    {
      "cell_type": "code",
      "execution_count": null,
      "metadata": {
        "id": "aa1d87bdc90b"
      },
      "outputs": [],
      "source": [
        "# Automatically restart kernel after installs\n",
        "import os\n",
        "\n",
        "if not os.getenv(\"IS_TESTING\"):\n",
        "    # Automatically restart kernel after installs\n",
        "    import IPython\n",
        "\n",
        "    app = IPython.Application.instance()\n",
        "    app.kernel.do_shutdown(True)"
      ]
    },
    {
      "cell_type": "markdown",
      "metadata": {
        "id": "c7947573e336"
      },
      "source": [
        "### Set up project"
      ]
    },
    {
      "cell_type": "code",
      "execution_count": null,
      "metadata": {
        "id": "94f36c0f4a00"
      },
      "outputs": [],
      "source": [
        "import os\n",
        "\n",
        "PROJECT_ID = \"\"\n",
        "\n",
        "# Get your Google Cloud project ID from gcloud\n",
        "if not os.getenv(\"IS_TESTING\"):\n",
        "    shell_output = !gcloud config list --format 'value(core.project)' 2>/dev/null\n",
        "    PROJECT_ID = shell_output[0]\n",
        "    print(\"Project ID: \", PROJECT_ID)"
      ]
    },
    {
      "cell_type": "code",
      "execution_count": null,
      "metadata": {
        "id": "7d439758446b"
      },
      "outputs": [],
      "source": [
        "if PROJECT_ID == \"\" or PROJECT_ID is None:\n",
        "    PROJECT_ID = \"[your-project-id]\"  # @param {type:\"string\"}"
      ]
    },
    {
      "cell_type": "code",
      "execution_count": null,
      "metadata": {
        "id": "56a76e9ebc4d"
      },
      "outputs": [],
      "source": [
        "shell_output = ! gcloud projects list --filter=\"PROJECT_ID:'{PROJECT_ID}'\" --format='value(PROJECT_NUMBER)'\n",
        "PROJECT_NUMBER = shell_output[0]\n",
        "print(\"Project Number:\", PROJECT_NUMBER)"
      ]
    },
    {
      "cell_type": "code",
      "execution_count": null,
      "metadata": {
        "id": "a74685b6ae29"
      },
      "outputs": [],
      "source": [
        "! gcloud config set project $PROJECT_ID"
      ]
    },
    {
      "cell_type": "markdown",
      "metadata": {
        "id": "cba67853cf0b"
      },
      "source": [
        "Set the region you choose to use."
      ]
    },
    {
      "cell_type": "code",
      "execution_count": null,
      "metadata": {
        "id": "7fdcbacfa8ad"
      },
      "outputs": [],
      "source": [
        "REGION = \"\"\n",
        "\n",
        "if REGION == \"\" or REGION is None:\n",
        "    REGION = \"us-central1\""
      ]
    },
    {
      "cell_type": "markdown",
      "metadata": {
        "id": "17c464cec341"
      },
      "source": [
        "### Timestamp\n",
        "\n",
        "This timestamp will be used to prevent resource name collisions."
      ]
    },
    {
      "cell_type": "code",
      "execution_count": null,
      "metadata": {
        "id": "9fa11b3e7936"
      },
      "outputs": [],
      "source": [
        "from datetime import datetime\n",
        "\n",
        "TIMESTAMP = datetime.now().strftime(\"%Y%m%d%H%M%S\")"
      ]
    },
    {
      "cell_type": "markdown",
      "metadata": {
        "id": "5e0fb97d6170"
      },
      "source": [
        "### Model Artifacts Bucket Setup"
      ]
    },
    {
      "cell_type": "markdown",
      "metadata": {
        "id": "2f52dced4061"
      },
      "source": [
        "Create a bucket and copy the pretrained model to it."
      ]
    },
    {
      "cell_type": "code",
      "execution_count": null,
      "metadata": {
        "id": "12c9381edd2a"
      },
      "outputs": [],
      "source": [
        "BUCKET_NAME = \"[your-bucket-name]\"  # @param {type:\"string\"}\n",
        "BUCKET_URI = f\"gs://{BUCKET_NAME}\""
      ]
    },
    {
      "cell_type": "code",
      "execution_count": null,
      "metadata": {
        "id": "50c6cda053e1"
      },
      "outputs": [],
      "source": [
        "if BUCKET_NAME == \"\" or BUCKET_NAME is None or BUCKET_NAME == \"[your-bucket-name]\":\n",
        "    BUCKET_NAME = PROJECT_ID + \"-mobile-gaming-model-\" + TIMESTAMP\n",
        "    BUCKET_URI = f\"gs://{BUCKET_NAME}\""
      ]
    },
    {
      "cell_type": "markdown",
      "metadata": {
        "id": "197c22fada47"
      },
      "source": [
        "Only if your bucket doesn't already exist: Run the following cell to create your Cloud Storage bucket."
      ]
    },
    {
      "cell_type": "code",
      "execution_count": null,
      "metadata": {
        "id": "2de44a514cd1"
      },
      "outputs": [],
      "source": [
        "! gsutil mb -l $REGION -p $PROJECT_ID $BUCKET_URI"
      ]
    },
    {
      "cell_type": "code",
      "execution_count": null,
      "metadata": {
        "id": "ca57dc423195"
      },
      "outputs": [],
      "source": [
        "! gsutil ls -al $BUCKET_URI"
      ]
    },
    {
      "cell_type": "markdown",
      "metadata": {
        "id": "0a6202578b94"
      },
      "source": [
        "Copy the trained model to your bucket"
      ]
    },
    {
      "cell_type": "code",
      "execution_count": null,
      "metadata": {
        "id": "05a8f87d7de3"
      },
      "outputs": [],
      "source": [
        "ARTIFACT_URI = BUCKET_URI + \"/model\""
      ]
    },
    {
      "cell_type": "code",
      "execution_count": null,
      "metadata": {
        "id": "6b2501fc7f01"
      },
      "outputs": [],
      "source": [
        "! gsutil cp -r gs://featurestore_integration/model/* $ARTIFACT_URI"
      ]
    },
    {
      "cell_type": "markdown",
      "metadata": {
        "id": "56a185de336f"
      },
      "source": [
        "## Feature Store Setup\n",
        "\n",
        "First you need to set up a Feature Store to host the data."
      ]
    },
    {
      "cell_type": "markdown",
      "metadata": {
        "id": "d3938f6d37a1"
      },
      "source": [
        "### Import Vertex AI Libraries"
      ]
    },
    {
      "cell_type": "code",
      "execution_count": null,
      "metadata": {
        "id": "7759fe720d45"
      },
      "outputs": [],
      "source": [
        "# Vertex AI and its Feature Store\n",
        "from google.cloud import aiplatform\n",
        "from google.cloud.aiplatform import Featurestore"
      ]
    },
    {
      "cell_type": "code",
      "execution_count": null,
      "metadata": {
        "id": "7def96de8098"
      },
      "outputs": [],
      "source": [
        "aiplatform.init(project=PROJECT_ID, location=REGION)"
      ]
    },
    {
      "cell_type": "markdown",
      "metadata": {
        "id": "85f09125566f"
      },
      "source": [
        "### Create Feature Store"
      ]
    },
    {
      "cell_type": "code",
      "execution_count": null,
      "metadata": {
        "id": "363c77a9e9e3"
      },
      "outputs": [],
      "source": [
        "FEATURESTORE_ID = \"mobile_gaming_\" + TIMESTAMP  # @param {type:\"string\"}\n",
        "\n",
        "# Vertex AI Feature store\n",
        "ONLINE_STORE_NODES_COUNT = 5\n",
        "DEMOGRAPHIC_ENTITY_ID = \"demographic\"\n",
        "BEHAVIOR_ENTITY_ID = \"behavior\"\n",
        "FEATURE_TIME = \"timestamp\"\n",
        "ENTITY_ID_FIELD = \"user_pseudo_id\""
      ]
    },
    {
      "cell_type": "markdown",
      "metadata": {
        "id": "bcaa5c3644f0"
      },
      "source": [
        "We will use the exported sample data of the dataset used in this [this blog post](https://cloud.google.com/blog/topics/developers-practitioners/churn-prediction-game-developers-using-google-analytics-4-ga4-and-bigquery-ml)"
      ]
    },
    {
      "cell_type": "code",
      "execution_count": null,
      "metadata": {
        "id": "764aa2b60016"
      },
      "outputs": [],
      "source": [
        "try:\n",
        "    mobile_gaming_feature_store = Featurestore.create(\n",
        "        featurestore_id=FEATURESTORE_ID,\n",
        "        online_store_fixed_node_count=ONLINE_STORE_NODES_COUNT,\n",
        "        sync=True,\n",
        "    )\n",
        "except RuntimeError as error:\n",
        "    print(error)\n",
        "else:\n",
        "    FEATURESTORE_RESOURCE_NAME = mobile_gaming_feature_store.resource_name\n",
        "    print(f\"Feature store created: {FEATURESTORE_RESOURCE_NAME}\")"
      ]
    },
    {
      "cell_type": "markdown",
      "metadata": {
        "id": "7d4ff784a9f7"
      },
      "source": [
        "### Create Entities"
      ]
    },
    {
      "cell_type": "code",
      "execution_count": null,
      "metadata": {
        "id": "51e62e67d4e8"
      },
      "outputs": [],
      "source": [
        "try:\n",
        "    demographic_entity_type = mobile_gaming_feature_store.create_entity_type(\n",
        "        entity_type_id=DEMOGRAPHIC_ENTITY_ID,\n",
        "        description=\"User demographic Entity\",\n",
        "        sync=True,\n",
        "    )\n",
        "except RuntimeError as error:\n",
        "    print(error)\n",
        "else:\n",
        "    DEMOGRAPHIC_ENTITY_RESOURCE_NAME = demographic_entity_type.resource_name\n",
        "    print(\"Entity type name is\", DEMOGRAPHIC_ENTITY_RESOURCE_NAME)"
      ]
    },
    {
      "cell_type": "code",
      "execution_count": null,
      "metadata": {
        "id": "6ae913f7e9cc"
      },
      "outputs": [],
      "source": [
        "try:\n",
        "    behavior_entity_type = mobile_gaming_feature_store.create_entity_type(\n",
        "        entity_type_id=BEHAVIOR_ENTITY_ID, description=\"User behavior Entity\", sync=True\n",
        "    )\n",
        "except RuntimeError as error:\n",
        "    print(error)\n",
        "else:\n",
        "    BEHAVIOR_ENTITY_RESOURCE_NAME = behavior_entity_type.resource_name\n",
        "    print(\"Entity type name is\", BEHAVIOR_ENTITY_RESOURCE_NAME)"
      ]
    },
    {
      "cell_type": "markdown",
      "metadata": {
        "id": "ae2b5655049b"
      },
      "source": [
        "### Create Features"
      ]
    },
    {
      "cell_type": "markdown",
      "metadata": {
        "id": "809f781e797a"
      },
      "source": [
        "#### Feature Config"
      ]
    },
    {
      "cell_type": "code",
      "execution_count": null,
      "metadata": {
        "id": "22d855f118ea"
      },
      "outputs": [],
      "source": [
        "demographic_feature_configs = {\n",
        "    \"country\": {\n",
        "        \"value_type\": \"STRING\",\n",
        "        \"description\": \"The country of customer\",\n",
        "        \"labels\": {\"status\": \"passed\"},\n",
        "    },\n",
        "    \"operating_system\": {\n",
        "        \"value_type\": \"STRING\",\n",
        "        \"description\": \"The operating system of device\",\n",
        "        \"labels\": {\"status\": \"passed\"},\n",
        "    },\n",
        "    \"language\": {\n",
        "        \"value_type\": \"STRING\",\n",
        "        \"description\": \"The language of device\",\n",
        "        \"labels\": {\"status\": \"passed\"},\n",
        "    },\n",
        "    \"user_pseudo_id\": {\n",
        "        \"value_type\": \"STRING\",\n",
        "        \"description\": \"User pseudo id\",\n",
        "        \"labels\": {\"status\": \"passed\"},\n",
        "    },\n",
        "}\n",
        "\n",
        "behavior_feature_configs = {\n",
        "    \"cnt_user_engagement\": {\n",
        "        \"value_type\": \"DOUBLE\",\n",
        "        \"description\": \"A variable of user engagement level\",\n",
        "        \"labels\": {\"status\": \"passed\"},\n",
        "    },\n",
        "    \"cnt_level_start_quickplay\": {\n",
        "        \"value_type\": \"DOUBLE\",\n",
        "        \"description\": \"A variable of user engagement with start level\",\n",
        "        \"labels\": {\"status\": \"passed\"},\n",
        "    },\n",
        "    \"cnt_level_end_quickplay\": {\n",
        "        \"value_type\": \"DOUBLE\",\n",
        "        \"description\": \"A variable of user engagement with end level\",\n",
        "        \"labels\": {\"status\": \"passed\"},\n",
        "    },\n",
        "    \"cnt_level_complete_quickplay\": {\n",
        "        \"value_type\": \"DOUBLE\",\n",
        "        \"description\": \"A variable of user engagement with complete status\",\n",
        "        \"labels\": {\"status\": \"passed\"},\n",
        "    },\n",
        "    \"cnt_level_reset_quickplay\": {\n",
        "        \"value_type\": \"DOUBLE\",\n",
        "        \"description\": \"A variable of user engagement with reset status\",\n",
        "        \"labels\": {\"status\": \"passed\"},\n",
        "    },\n",
        "    \"cnt_post_score\": {\n",
        "        \"value_type\": \"DOUBLE\",\n",
        "        \"description\": \"A variable of user score\",\n",
        "        \"labels\": {\"status\": \"passed\"},\n",
        "    },\n",
        "    \"cnt_spend_virtual_currency\": {\n",
        "        \"value_type\": \"DOUBLE\",\n",
        "        \"description\": \"A variable of user virtual amount\",\n",
        "        \"labels\": {\"status\": \"passed\"},\n",
        "    },\n",
        "    \"cnt_ad_reward\": {\n",
        "        \"value_type\": \"DOUBLE\",\n",
        "        \"description\": \"A variable of user reward\",\n",
        "        \"labels\": {\"status\": \"passed\"},\n",
        "    },\n",
        "    \"cnt_challenge_a_friend\": {\n",
        "        \"value_type\": \"DOUBLE\",\n",
        "        \"description\": \"A variable of user challenges with friends\",\n",
        "        \"labels\": {\"status\": \"passed\"},\n",
        "    },\n",
        "    \"cnt_completed_5_levels\": {\n",
        "        \"value_type\": \"DOUBLE\",\n",
        "        \"description\": \"A variable of user level 5 completed\",\n",
        "        \"labels\": {\"status\": \"passed\"},\n",
        "    },\n",
        "    \"cnt_use_extra_steps\": {\n",
        "        \"value_type\": \"DOUBLE\",\n",
        "        \"description\": \"A variable of user extra steps\",\n",
        "        \"labels\": {\"status\": \"passed\"},\n",
        "    },\n",
        "    \"month\": {\n",
        "        \"value_type\": \"INT64\",\n",
        "        \"description\": \"First touch month\",\n",
        "        \"labels\": {\"status\": \"passed\"},\n",
        "    },\n",
        "    \"julianday\": {\n",
        "        \"value_type\": \"INT64\",\n",
        "        \"description\": \"First touch julian day\",\n",
        "        \"labels\": {\"status\": \"passed\"},\n",
        "    },\n",
        "    \"dayofweek\": {\n",
        "        \"value_type\": \"INT64\",\n",
        "        \"description\": \"First touch day of week\",\n",
        "        \"labels\": {\"status\": \"passed\"},\n",
        "    },\n",
        "}"
      ]
    },
    {
      "cell_type": "markdown",
      "metadata": {
        "id": "1b72bf136987"
      },
      "source": [
        "#### Create features using `batch_create_features` method"
      ]
    },
    {
      "cell_type": "code",
      "execution_count": null,
      "metadata": {
        "id": "9c2769834702"
      },
      "outputs": [],
      "source": [
        "try:\n",
        "    demographic_entity_type.batch_create_features(\n",
        "        feature_configs=demographic_feature_configs, sync=True\n",
        "    )\n",
        "except RuntimeError as error:\n",
        "    print(error)\n",
        "else:\n",
        "    for feature in demographic_entity_type.list_features():\n",
        "        print(\"\")\n",
        "        print(f\"The resource name of {feature.name} feature is\", feature.resource_name)"
      ]
    },
    {
      "cell_type": "code",
      "execution_count": null,
      "metadata": {
        "id": "68b07d3b2bf0"
      },
      "outputs": [],
      "source": [
        "try:\n",
        "    behavior_entity_type.batch_create_features(\n",
        "        feature_configs=behavior_feature_configs, sync=True\n",
        "    )\n",
        "except RuntimeError as error:\n",
        "    print(error)\n",
        "else:\n",
        "    for feature in behavior_entity_type.list_features():\n",
        "        print(\"\")\n",
        "        print(f\"The resource name of {feature.name} feature is\", feature.resource_name)"
      ]
    },
    {
      "cell_type": "markdown",
      "metadata": {
        "id": "34bf9fc11ae3"
      },
      "source": [
        "### Ingest features "
      ]
    },
    {
      "cell_type": "markdown",
      "metadata": {
        "id": "b1bb35360a5e"
      },
      "source": [
        "First copy the data to your bucket."
      ]
    },
    {
      "cell_type": "code",
      "execution_count": null,
      "metadata": {
        "id": "5f389df7a94e"
      },
      "outputs": [],
      "source": [
        "SOURCE_URI = BUCKET_URI + \"/feature_store_source/mobile_gaming_dataset.csv\""
      ]
    },
    {
      "cell_type": "code",
      "execution_count": null,
      "metadata": {
        "id": "516af072eb58"
      },
      "outputs": [],
      "source": [
        "! gsutil cp gs://featurestore_integration/data/mobile_gaming_dataset.csv $SOURCE_URI"
      ]
    },
    {
      "cell_type": "code",
      "execution_count": null,
      "metadata": {
        "id": "92e92c854028"
      },
      "outputs": [],
      "source": [
        "DEMOGRAPHIC_FEATURES_IDS = [\n",
        "    feature.name for feature in demographic_entity_type.list_features()\n",
        "]"
      ]
    },
    {
      "cell_type": "code",
      "execution_count": null,
      "metadata": {
        "id": "50a7e935a870"
      },
      "outputs": [],
      "source": [
        "# This may take several minutes to run\n",
        "\n",
        "try:\n",
        "    demographic_entity_type.ingest_from_gcs(\n",
        "        feature_ids=DEMOGRAPHIC_FEATURES_IDS,\n",
        "        feature_time=FEATURE_TIME,\n",
        "        gcs_source_uris=SOURCE_URI,\n",
        "        gcs_source_type=\"csv\",\n",
        "        entity_id_field=ENTITY_ID_FIELD,\n",
        "        disable_online_serving=False,\n",
        "        worker_count=10,\n",
        "        sync=True,\n",
        "    )\n",
        "except RuntimeError as error:\n",
        "    print(error)"
      ]
    },
    {
      "cell_type": "code",
      "execution_count": null,
      "metadata": {
        "id": "dcbb4fa32e40"
      },
      "outputs": [],
      "source": [
        "BEHAVIOR_FEATURES_IDS = [\n",
        "    feature.name for feature in behavior_entity_type.list_features()\n",
        "]"
      ]
    },
    {
      "cell_type": "code",
      "execution_count": null,
      "metadata": {
        "id": "a36facc52807"
      },
      "outputs": [],
      "source": [
        "# This may take several minutes to run\n",
        "\n",
        "try:\n",
        "    behavior_entity_type.ingest_from_gcs(\n",
        "        feature_ids=BEHAVIOR_FEATURES_IDS,\n",
        "        feature_time=FEATURE_TIME,\n",
        "        gcs_source_uris=SOURCE_URI,\n",
        "        gcs_source_type=\"csv\",\n",
        "        entity_id_field=ENTITY_ID_FIELD,\n",
        "        disable_online_serving=False,\n",
        "        worker_count=10,\n",
        "        sync=True,\n",
        "    )\n",
        "except RuntimeError as error:\n",
        "    print(error)"
      ]
    },
    {
      "cell_type": "markdown",
      "metadata": {
        "id": "070b37a5ffcb"
      },
      "source": [
        "Now that we have our Feature Store set up, let's try fetching features for a sample entity."
      ]
    },
    {
      "cell_type": "code",
      "execution_count": null,
      "metadata": {
        "id": "31e281294a63"
      },
      "outputs": [],
      "source": [
        "demographic_entity_type.read(entity_ids=\"AB0F2EE5F9F401763BE1E9FA55410312\")"
      ]
    },
    {
      "cell_type": "code",
      "execution_count": null,
      "metadata": {
        "id": "f63fd2617fdf"
      },
      "outputs": [],
      "source": [
        "behavior_entity_type.read(entity_ids=\"AB0F2EE5F9F401763BE1E9FA55410312\")"
      ]
    },
    {
      "cell_type": "markdown",
      "metadata": {
        "id": "bec74a816daf"
      },
      "source": [
        "## Feature Fetch Config File For Vertex Prediction"
      ]
    },
    {
      "cell_type": "markdown",
      "metadata": {
        "id": "43e66d6d33fd"
      },
      "source": [
        "To enable feature fetching for model deployment, the file `prediction_featurestore_fetch_config.yaml` must be included in the `artifacts_uri` path. \n",
        "\n",
        "The purpose of this yaml file is to specify the following information.\n",
        "- Which **feature store** (location, project ID, featurestore ID) to fetch features from.\n",
        "- The **feature names** (i.e. feature IDs) corresponding to the features to be fetched.\n",
        "- How to **construct the predict request** from the user provided predict request and fetched features.\n",
        "- At Prediction Time, which **entities** to fetch features from.\n",
        "\n",
        "The yaml file must conform to the following proto."
      ]
    },
    {
      "cell_type": "markdown",
      "metadata": {
        "id": "b1131367aeec"
      },
      "source": [
        "### Feature fetch config proto:\n",
        "\n",
        "```protobuf\n",
        "message FeatureFetchConfig {\n",
        "  // The format of the internal prediction request auto-created after features\n",
        "  // are fetched. Prediction currently supports XGBoost, TensorFlow,\n",
        "  // scikit-learn, Pytorch, and custom containers. Among these frameworks, \n",
        "  // XGBoost supports array input format only (i.e. input features are in the \n",
        "  // form of an array), whereas the other three frameworks can allow both\n",
        "  // dictionary format and array format inputs.\n",
        "  ModelInputFormat model_input_format = 3;\n",
        "  enum ModelInputFormat {\n",
        "    MODEL_INPUT_FORMAT_UNSPECIFIED = 0;\n",
        "    ARRAY = 1;\n",
        "    DICT = 2;\n",
        "  }\n",
        "\n",
        "  message FeatureSource {\n",
        "    // Required. Fully-qualified-name of the EntityType, e.g.:\n",
        "    // \"projects/acme/locations/us-central1/featurestores/fs/entityTypes/movies\"\n",
        "    string entity_type = 2;\n",
        "\n",
        "    // Required. Specifies the name of the field in the request sent by the user\n",
        "    // (NOT the auto generated prediction request with feature values) that\n",
        "    // holds the entityID to be fetched from this source. The input request sent\n",
        "    // by the user is a JSON dictionary. The entity ID to be fetched is held by\n",
        "    // the dictionary entry with this key.\n",
        "    string entity_id_field = 3;\n",
        "  }\n",
        "\n",
        "  // Feature Source definitions. Key of this map is used to refer to the source\n",
        "  // in the Feature settings. Key cannot be empty.\n",
        "  map<string, FeatureSource> feature_sources = 5;\n",
        "\n",
        "  // Specifying details of the prediction input\n",
        "  repeated Feature features = 4;\n",
        "  message Feature {\n",
        "    // Obsolete fields.\n",
        "    reserved 1, 2;\n",
        "\n",
        "    // When internal_request_format = DICT, this name is used\n",
        "    // for the Internal Prediction Request as the key to the feature value.\n",
        "    // In the FeatureFetchConfig, a pass-through feature can be represented by\n",
        "    // a Feature message with just a name.\n",
        "    string name = 3;\n",
        "\n",
        "    message FetchFrom {\n",
        "      // Required. Name of the feature source to fetch feature values from.\n",
        "      // Leave blank if feature values is from the original request\n",
        "      // (passthrough).\n",
        "      string source_name = 1;\n",
        "\n",
        "      // Required. The Feature ID to be fetched. This should be a valid feature\n",
        "      // Id for the entityType corresponding to the featureSource above. Must be\n",
        "      // provided if the featureSource is used.\n",
        "      string feature_id = 2;\n",
        "    }\n",
        "    // Define the source to fetch feature value. Note that if the request sent\n",
        "    // by the user already provides a value for this feature, that value will be\n",
        "    // used as is (i.e this setting will be ignored and this feature will be\n",
        "    // treated as passthrough for that request) If this field is not set, the\n",
        "    // feature value is always passthrough from the original request.\n",
        "    FetchFrom fetch_from = 4;\n",
        "  }\n",
        "}\n",
        "```"
      ]
    },
    {
      "cell_type": "markdown",
      "metadata": {
        "id": "092d012dfd27"
      },
      "source": [
        "### Write the Feature Fetch Config"
      ]
    },
    {
      "cell_type": "markdown",
      "metadata": {
        "id": "03239b227869"
      },
      "source": [
        "Note the following\n",
        "- We use `modelInputFormat: DICT` since the model expects a dictionary input\n",
        "- `user_pseudo_id` is a pass-through feature. The key value pair in the user's predict request is passed directly to the model server.\n",
        "- All other `features` (with non empty `fetchFrom`) will be fetched from feature store at predict time."
      ]
    },
    {
      "cell_type": "code",
      "execution_count": null,
      "metadata": {
        "id": "7ee405070fe4"
      },
      "outputs": [],
      "source": [
        "FEATURE_FETCH_CONFIG_TEMPLATE = \"\"\"modelInputFormat: DICT\n",
        "featureSources:\n",
        "  user:\n",
        "    entityType: projects/{PROJECT_NUMBER}/locations/{REGION}/featurestores/{FEATURESTORE_ID}/entityTypes/demographic\n",
        "    entityIdField: demographic\n",
        "  behavior:\n",
        "    entityType: projects/{PROJECT_NUMBER}/locations/{REGION}/featurestores/{FEATURESTORE_ID}/entityTypes/behavior\n",
        "    entityIdField: behavior\n",
        "features:\n",
        "- name: user_pseudo_id\n",
        "- name: country\n",
        "  fetchFrom:\n",
        "    sourceName: user\n",
        "    featureId: country\n",
        "- name: operating_system\n",
        "  fetchFrom:\n",
        "    sourceName: user\n",
        "    featureId: operating_system\n",
        "- name: language\n",
        "  fetchFrom:\n",
        "    sourceName: user\n",
        "    featureId: language\n",
        "- name: cnt_user_engagement\n",
        "  fetchFrom:\n",
        "    sourceName: behavior\n",
        "    featureId: cnt_user_engagement\n",
        "- name: cnt_level_start_quickplay\n",
        "  fetchFrom:\n",
        "    sourceName: behavior\n",
        "    featureId: cnt_level_start_quickplay\n",
        "- name: cnt_level_end_quickplay\n",
        "  fetchFrom:\n",
        "    sourceName: behavior\n",
        "    featureId: cnt_level_end_quickplay\n",
        "- name: cnt_level_complete_quickplay\n",
        "  fetchFrom:\n",
        "    sourceName: behavior\n",
        "    featureId: cnt_level_complete_quickplay\n",
        "- name: cnt_level_reset_quickplay\n",
        "  fetchFrom:\n",
        "    sourceName: behavior\n",
        "    featureId: cnt_level_reset_quickplay\n",
        "- name: cnt_post_score\n",
        "  fetchFrom:\n",
        "    sourceName: behavior\n",
        "    featureId: cnt_post_score\n",
        "- name: cnt_spend_virtual_currency\n",
        "  fetchFrom:\n",
        "    sourceName: behavior\n",
        "    featureId: cnt_spend_virtual_currency\n",
        "- name: cnt_ad_reward\n",
        "  fetchFrom:\n",
        "    sourceName: behavior\n",
        "    featureId: cnt_ad_reward\n",
        "- name: cnt_challenge_a_friend\n",
        "  fetchFrom:\n",
        "    sourceName: behavior\n",
        "    featureId: cnt_challenge_a_friend\n",
        "- name: cnt_completed_5_levels\n",
        "  fetchFrom:\n",
        "    sourceName: behavior\n",
        "    featureId: cnt_completed_5_levels\n",
        "- name: cnt_use_extra_steps\n",
        "  fetchFrom:\n",
        "    sourceName: behavior\n",
        "    featureId: cnt_use_extra_steps\n",
        "- name: month\n",
        "  fetchFrom:\n",
        "    sourceName: behavior\n",
        "    featureId: month\n",
        "- name: julianday\n",
        "  fetchFrom:\n",
        "    sourceName: behavior\n",
        "    featureId: julianday\n",
        "- name: dayofweek\n",
        "  fetchFrom:\n",
        "    sourceName: behavior\n",
        "    featureId: dayofweek\"\"\"\n",
        "\n",
        "feature_fetch_config = FEATURE_FETCH_CONFIG_TEMPLATE.format(\n",
        "    PROJECT_NUMBER=PROJECT_NUMBER, REGION=REGION, FEATURESTORE_ID=FEATURESTORE_ID\n",
        ")\n",
        "\n",
        "with open(\"prediction_featurestore_fetch_config.yaml\", \"w\") as f:\n",
        "    f.write(feature_fetch_config)"
      ]
    },
    {
      "cell_type": "markdown",
      "metadata": {
        "id": "846c9ca65e68"
      },
      "source": [
        "Copy the feature fetch config yaml to the artifacts gcs path."
      ]
    },
    {
      "cell_type": "code",
      "execution_count": null,
      "metadata": {
        "id": "9ac494223985"
      },
      "outputs": [],
      "source": [
        "!gsutil cp prediction_featurestore_fetch_config.yaml $ARTIFACT_URI"
      ]
    },
    {
      "cell_type": "markdown",
      "metadata": {
        "id": "5e58334c94b6"
      },
      "source": [
        "## Upload and Deploy Model to Vertex Prediction"
      ]
    },
    {
      "cell_type": "markdown",
      "metadata": {
        "id": "b4dfbffa88e0"
      },
      "source": [
        "### Upload Model"
      ]
    },
    {
      "cell_type": "code",
      "execution_count": null,
      "metadata": {
        "id": "03e6cf99f099"
      },
      "outputs": [],
      "source": [
        "DISPLAY_NAME = \"mobile_gaming_featureStore_integration_\" + TIMESTAMP\n",
        "\n",
        "model = aiplatform.Model.upload(\n",
        "    display_name=DISPLAY_NAME,\n",
        "    artifact_uri=ARTIFACT_URI,\n",
        "    serving_container_image_uri=\"us-docker.pkg.dev/vertex-ai/prediction/tf2-cpu.2-7:latest\",\n",
        "    sync=False,\n",
        ")\n",
        "\n",
        "model.wait()"
      ]
    },
    {
      "cell_type": "markdown",
      "metadata": {
        "id": "eaaf2d7adf0d"
      },
      "source": [
        "### Deploy Model"
      ]
    },
    {
      "cell_type": "markdown",
      "metadata": {
        "id": "c672b6901814"
      },
      "source": [
        "#### Prediction service account\n",
        "\n",
        "We need a provide service account for this new feature because the prediction workload's default identity does not have access to Feature Store. The service account needs to have `Vertex AI Feature Store Data Viewer` in your project.\n",
        "\n",
        "Open a terminal and run `gcloud auth login` before running the commands below."
      ]
    },
    {
      "cell_type": "code",
      "execution_count": null,
      "metadata": {
        "id": "534b78bcc16d"
      },
      "outputs": [],
      "source": [
        "SA_NAME = \"prediction-feature-store-fetch\"\n",
        "SA_DESCRIPTION = '\"Fetch feature from Feature Store during Prediction\"'\n",
        "DISPLAY_NAME = \"prediction-feature-store-fetch\"\n",
        "\n",
        "!gcloud iam service-accounts create $SA_NAME \\\n",
        "    --description=$SA_DESCRIPTION \\\n",
        "    --display-name=$DISPLAY_NAME"
      ]
    },
    {
      "cell_type": "code",
      "execution_count": null,
      "metadata": {
        "id": "c16f9d06913c"
      },
      "outputs": [],
      "source": [
        "SERVICE_ACCOUNT = f\"{SA_NAME}@{PROJECT_ID}.iam.gserviceaccount.com\""
      ]
    },
    {
      "cell_type": "markdown",
      "metadata": {
        "id": "71ddea21667d"
      },
      "source": [
        "Grant the Service Account Vertex AI Feature Store Data Viewer role to access data in Feature Store during prediction."
      ]
    },
    {
      "cell_type": "code",
      "execution_count": null,
      "metadata": {
        "id": "53cf1aa9659d"
      },
      "outputs": [],
      "source": [
        "!gcloud projects add-iam-policy-binding $PROJECT_ID \\\n",
        "    --member=serviceAccount:$SERVICE_ACCOUNT \\\n",
        "    --role=roles/aiplatform.featurestoreDataViewer;"
      ]
    },
    {
      "cell_type": "markdown",
      "metadata": {
        "id": "bbc606615275"
      },
      "source": [
        "Now we're ready to deploy the model."
      ]
    },
    {
      "cell_type": "code",
      "execution_count": null,
      "metadata": {
        "id": "dc5406d7e46c"
      },
      "outputs": [],
      "source": [
        "DEPLOYED_NAME = DISPLAY_NAME + TIMESTAMP\n",
        "\n",
        "TRAFFIC_SPLIT = {\"0\": 100}\n",
        "\n",
        "MACHINE_TYPE = \"n1-standard-4\"\n",
        "\n",
        "MIN_NODES = 1\n",
        "MAX_NODES = 1\n",
        "\n",
        "endpoint = model.deploy(\n",
        "    deployed_model_display_name=DEPLOYED_NAME,\n",
        "    traffic_split=TRAFFIC_SPLIT,\n",
        "    machine_type=MACHINE_TYPE,\n",
        "    min_replica_count=MIN_NODES,\n",
        "    max_replica_count=MAX_NODES,\n",
        "    service_account=SERVICE_ACCOUNT,\n",
        ")"
      ]
    },
    {
      "cell_type": "markdown",
      "metadata": {
        "id": "fc1e1f273ed2"
      },
      "source": [
        "### Predict"
      ]
    },
    {
      "cell_type": "markdown",
      "metadata": {
        "id": "c90c3f0597ef"
      },
      "source": [
        "The TF model expects inputs of the following format:"
      ]
    },
    {
      "cell_type": "code",
      "execution_count": null,
      "metadata": {
        "id": "c83e8207bf74"
      },
      "outputs": [],
      "source": [
        "default_pred_request = [\n",
        "    {\n",
        "        \"user_pseudo_id\": \"AB0F2EE5F9F401763BE1E9FA55410312\",\n",
        "        \"country\": \"Australia\",\n",
        "        \"operating_system\": \"IOS\",\n",
        "        \"language\": \"en-au\",\n",
        "        \"cnt_user_engagement\": 3.0,\n",
        "        \"cnt_level_start_quickplay\": 1.0,\n",
        "        \"cnt_level_end_quickplay\": 0.0,\n",
        "        \"cnt_level_complete_quickplay\": 0.0,\n",
        "        \"cnt_level_reset_quickplay\": 0.0,\n",
        "        \"cnt_post_score\": 0.0,\n",
        "        \"cnt_spend_virtual_currency\": 0.0,\n",
        "        \"cnt_ad_reward\": 0.0,\n",
        "        \"cnt_challenge_a_friend\": 0.0,\n",
        "        \"cnt_completed_5_levels\": 0.0,\n",
        "        \"cnt_use_extra_steps\": 0.0,\n",
        "        \"month\": 7,\n",
        "        \"julianday\": 194,\n",
        "        \"dayofweek\": 6,\n",
        "    },\n",
        "]"
      ]
    },
    {
      "cell_type": "markdown",
      "metadata": {
        "id": "20a09918d2cd"
      },
      "source": [
        "Instead of providing the feature values directly in the predict request, we'll instead specify the entity id key (e.g.`demographic` and `behavior`) and entity id value (e.g. `AB0F2EE5F9F401763BE1E9FA55410312`). The feature values will be fetched service side at predict time."
      ]
    },
    {
      "cell_type": "code",
      "execution_count": null,
      "metadata": {
        "id": "430fe30f0878"
      },
      "outputs": [],
      "source": [
        "fs_pred_request = [\n",
        "    {\n",
        "        \"user_pseudo_id\": \"AB0F2EE5F9F401763BE1E9FA55410312\",\n",
        "        \"demographic\": \"AB0F2EE5F9F401763BE1E9FA55410312\",\n",
        "        \"behavior\": \"AB0F2EE5F9F401763BE1E9FA55410312\",\n",
        "    },\n",
        "]\n",
        "\n",
        "endpoint.predict(fs_pred_request)"
      ]
    },
    {
      "cell_type": "markdown",
      "metadata": {
        "id": "496710f4bb97"
      },
      "source": [
        "Any subset of features fetched from Feature Store can be overriden. For example,"
      ]
    },
    {
      "cell_type": "code",
      "execution_count": null,
      "metadata": {
        "id": "a8c4c871a305"
      },
      "outputs": [],
      "source": [
        "fs_pred_request_with_overridden_features = [\n",
        "    {\n",
        "        \"user_pseudo_id\": \"AB0F2EE5F9F401763BE1E9FA55410312\",\n",
        "        \"demographic\": \"AB0F2EE5F9F401763BE1E9FA55410312\",\n",
        "        \"behavior\": \"AB0F2EE5F9F401763BE1E9FA55410312\",\n",
        "        \"cnt_ad_reward\": 10.0,\n",
        "        \"cnt_challenge_a_friend\": 10.0,\n",
        "        \"cnt_completed_5_levels\": 10.0,\n",
        "        \"cnt_use_extra_steps\": 10.0,\n",
        "    },\n",
        "]\n",
        "\n",
        "endpoint.predict(fs_pred_request_with_overridden_features)"
      ]
    },
    {
      "cell_type": "markdown",
      "metadata": {
        "id": "b5cb68646b47"
      },
      "source": [
        "If all fetched features are overriden, then the behavior of the predict request is the same as that without feature store integration. Compare the responses of `fs_pred_request` and `default_pred_request`."
      ]
    },
    {
      "cell_type": "code",
      "execution_count": null,
      "metadata": {
        "id": "5aa045160751"
      },
      "outputs": [],
      "source": [
        "endpoint.predict(default_pred_request)"
      ]
    },
    {
      "cell_type": "markdown",
      "metadata": {
        "id": "9a1c51970914"
      },
      "source": [
        "## Debugging"
      ]
    },
    {
      "cell_type": "markdown",
      "metadata": {
        "id": "cdc304735eea"
      },
      "source": [
        "We have provided a Identity model server, built using [CPR](https://cloud.google.com/vertex-ai/docs/predictions/custom-prediction-routines) to help with debugging your feature fetch config. The CPR built Identity model server simply returns the request body as the response. This will allow you to explore how the Feature Store/Prediction integration formats the prediction request to the model server.\n",
        "\n",
        "The server has been published here - `us-docker.pkg.dev/vertex-ai/sample-model-servers/cpr-identity-server:latest`, and uses the following `Predictor`.\n",
        "```\n",
        "from google.cloud.aiplatform.prediction.predictor import Predictor\n",
        "\n",
        "class CprPredictor(Predictor):\n",
        "    \n",
        "    def __init__(self):\n",
        "        return\n",
        "    \n",
        "    def load(self, artifacts_uri: str):\n",
        "        \"\"\"Loads the preprocessor and model artifacts.\"\"\"\n",
        "        pass\n",
        "\n",
        "    def predict(self, instances):\n",
        "        \"\"\"Performs prediction.\"\"\"\n",
        "        return {\"predictions\": instances}\n",
        "```"
      ]
    },
    {
      "cell_type": "markdown",
      "metadata": {
        "id": "46c332abbe7a"
      },
      "source": [
        "Using the same feature fetch config file as in the previous example, deploy it with the Identity model server to debug.\n",
        "\n",
        "First copy the image to Artifacts Registry."
      ]
    },
    {
      "cell_type": "code",
      "execution_count": null,
      "metadata": {
        "id": "962c1cfe1588"
      },
      "outputs": [],
      "source": [
        "!gcloud services enable artifactregistry.googleapis.com"
      ]
    },
    {
      "cell_type": "code",
      "execution_count": null,
      "metadata": {
        "id": "639b2d067827"
      },
      "outputs": [],
      "source": [
        "REPOSITORY = \"feature-store-prediction-sample\"\n",
        "IMAGE = \"cpr-identity-server\"\n",
        "CONTAINER_URI = f\"{REGION}-docker.pkg.dev/{PROJECT_ID}/{REPOSITORY}/{IMAGE}\""
      ]
    },
    {
      "cell_type": "code",
      "execution_count": null,
      "metadata": {
        "id": "6523af67c1ab"
      },
      "outputs": [],
      "source": [
        "!gcloud artifacts repositories create {REPOSITORY} \\\n",
        "    --repository-format=docker \\\n",
        "    --location=$REGION"
      ]
    },
    {
      "cell_type": "code",
      "execution_count": null,
      "metadata": {
        "id": "b3b939dc0b25"
      },
      "outputs": [],
      "source": [
        "!gcloud auth configure-docker {REGION}-docker.pkg.dev --quiet"
      ]
    },
    {
      "cell_type": "code",
      "execution_count": null,
      "metadata": {
        "id": "34c1cec95124"
      },
      "outputs": [],
      "source": [
        "!docker pull us-docker.pkg.dev/vertex-ai/sample-model-servers/cpr-identity-server:latest\n",
        "!docker tag us-docker.pkg.dev/vertex-ai/sample-model-servers/cpr-identity-server:latest $CONTAINER_URI\n",
        "!docker push $CONTAINER_URI"
      ]
    },
    {
      "cell_type": "markdown",
      "metadata": {
        "id": "d4c81e1eb726"
      },
      "source": [
        "Now upload and deploy the identity model to Vertex Prediction for debugging."
      ]
    },
    {
      "cell_type": "code",
      "execution_count": null,
      "metadata": {
        "id": "047633693964"
      },
      "outputs": [],
      "source": [
        "IDENTITY_MODEL_DISPLAY_NAME = \"cpr_identity_with_feature_store_integration\" + TIMESTAMP\n",
        "\n",
        "identity_model = aiplatform.Model.upload(\n",
        "    display_name=IDENTITY_MODEL_DISPLAY_NAME,\n",
        "    artifact_uri=ARTIFACT_URI,\n",
        "    serving_container_image_uri=CONTAINER_URI,\n",
        "    sync=False,\n",
        ")\n",
        "\n",
        "identity_model.wait()"
      ]
    },
    {
      "cell_type": "code",
      "execution_count": null,
      "metadata": {
        "id": "a799b531cb2a"
      },
      "outputs": [],
      "source": [
        "identity_endpoint = identity_model.deploy(\n",
        "    deployed_model_display_name=IDENTITY_MODEL_DISPLAY_NAME,\n",
        "    traffic_split=TRAFFIC_SPLIT,\n",
        "    machine_type=MACHINE_TYPE,\n",
        "    min_replica_count=MIN_NODES,\n",
        "    max_replica_count=MAX_NODES,\n",
        "    service_account=SERVICE_ACCOUNT,\n",
        ")"
      ]
    },
    {
      "cell_type": "markdown",
      "metadata": {
        "id": "c6176505e93b"
      },
      "source": [
        "Let's now see how the actual request to the model server looked for each of the predict requests in the previous example."
      ]
    },
    {
      "cell_type": "code",
      "execution_count": null,
      "metadata": {
        "id": "cfa66eadd2fa"
      },
      "outputs": [],
      "source": [
        "print(\"Predict request:\")\n",
        "print(fs_pred_request)\n",
        "print(\"Request sent to model server:\")\n",
        "identity_endpoint.predict(fs_pred_request)"
      ]
    },
    {
      "cell_type": "code",
      "execution_count": null,
      "metadata": {
        "id": "8e28fd72b592"
      },
      "outputs": [],
      "source": [
        "print(\"Predict request:\")\n",
        "print(fs_pred_request_with_overridden_features)\n",
        "print(\"Request sent to model server:\")\n",
        "identity_endpoint.predict(fs_pred_request_with_overridden_features)"
      ]
    },
    {
      "cell_type": "code",
      "execution_count": null,
      "metadata": {
        "id": "ae55ed7251ee"
      },
      "outputs": [],
      "source": [
        "print(\"Predict request:\")\n",
        "print(default_pred_request)\n",
        "print(\"Request sent to model server:\")\n",
        "identity_endpoint.predict(default_pred_request)"
      ]
    },
    {
      "cell_type": "markdown",
      "metadata": {
        "id": "3ce09d9bc5a5"
      },
      "source": [
        "## Clean Up"
      ]
    },
    {
      "cell_type": "code",
      "execution_count": null,
      "metadata": {
        "id": "24f16a59ca09"
      },
      "outputs": [],
      "source": [
        "# delete feature store\n",
        "mobile_gaming_feature_store.delete(sync=True, force=True)"
      ]
    },
    {
      "cell_type": "code",
      "execution_count": null,
      "metadata": {
        "id": "540b19cca2bb"
      },
      "outputs": [],
      "source": [
        "# delete Vertex AI resources\n",
        "endpoint.undeploy_all()\n",
        "endpoint.delete()\n",
        "model.delete\n",
        "\n",
        "identity_endpoint.undeploy_all()\n",
        "identity_endpoint.delete()\n",
        "identity_model.delete"
      ]
    },
    {
      "cell_type": "code",
      "execution_count": null,
      "metadata": {
        "id": "42172d5bc91b"
      },
      "outputs": [],
      "source": [
        "# Delete bucket\n",
        "!gsutil -m rm -r $BUCKET_URI"
      ]
    }
  ],
  "metadata": {
    "colab": {
      "name": "prediction_feature_store_integration.ipynb",
      "toc_visible": true
    },
    "kernelspec": {
      "display_name": "Python 3",
      "name": "python3"
    }
  },
  "nbformat": 4,
  "nbformat_minor": 0
}
