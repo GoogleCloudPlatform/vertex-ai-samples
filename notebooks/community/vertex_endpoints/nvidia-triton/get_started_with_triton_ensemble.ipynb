{
  "cells": [
    {
      "cell_type": "code",
      "execution_count": null,
      "metadata": {
        "id": "18ebbd838e32"
      },
      "outputs": [],
      "source": [
        "# Copyright 2022 Google LLC\n",
        "#\n",
        "# Licensed under the Apache License, Version 2.0 (the \"License\");\n",
        "# you may not use this file except in compliance with the License.\n",
        "# You may obtain a copy of the License at\n",
        "#\n",
        "#     https://www.apache.org/licenses/LICENSE-2.0\n",
        "#\n",
        "# Unless required by applicable law or agreed to in writing, software\n",
        "# distributed under the License is distributed on an \"AS IS\" BASIS,\n",
        "# WITHOUT WARRANTIES OR CONDITIONS OF ANY KIND, either express or implied.\n",
        "# See the License for the specific language governing permissions and\n",
        "# limitations under the License."
      ]
    },
    {
      "cell_type": "markdown",
      "metadata": {
        "id": "06cb539bac9c"
      },
      "source": [
        "# Getting started: Ensembling Multiple Models with NVIDIA Triton Inference Server with a custom container\n",
        "\n",
        "<table align=\"left\">\n",
        "  <td>\n",
        "    <a href=\"https://github.com/GoogleCloudPlatform/vertex-ai-samples/blob/main/notebooks/community/vertex_endpoints/nvidia-triton/get_started_with_triton_ensemble.ipynb\">\n",
        "      <img src=\"https://cloud.google.com/ml-engine/images/github-logo-32px.png\" alt=\"GitHub logo\">\n",
        "      View on GitHub\n",
        "    </a>\n",
        "  </td>\n",
        "  <td>\n",
        "    <a href=\"https://console.cloud.google.com/vertex-ai/workbench/deploy-notebook?download_url=https://raw.githubusercontent.com/GoogleCloudPlatform/vertex-ai-samples/main/notebooks/community/vertex_endpoints/nvidia-triton/get_started_with_triton_ensemble.ipynb\">\n",
        "      <img src=\"https://lh3.googleusercontent.com/UiNooY4LUgW_oTvpsNhPpQzsstV5W8F7rYgxgGBD85cWJoLmrOzhVs_ksK_vgx40SHs7jCqkTkCk=e14-rj-sc0xffffff-h130-w32\" alt=\"Vertex AI logo\">\n",
        "      Open in Vertex AI Workbench\n",
        "    </a>\n",
        "  </td>  \n",
        "</table>\n"
      ]
    },
    {
      "cell_type": "markdown",
      "metadata": {
        "id": "8b10d2fb975d"
      },
      "source": [
        "## Overview\n",
        "\n",
        "This tutorial shows how to use a custom container running [NVIDIA Triton Inference Server (Triton)](https://developer.nvidia.com/nvidia-triton-inference-server) to deploy multiple models including an ensembled model on [Vertex AI Prediction](https://cloud.google.com/vertex-ai/docs/predictions/getting-predictions) that serves online predictions.\n",
        "\n",
        "Learn more about [Vertex AI Prediction](https://cloud.google.com/vertex-ai/docs/predictions/get-predictions).\n",
        "\n",
        "\n",
        "### Objective\n",
        "\n",
        "In this tutorial, you deploy a custom container running Nvidia Triton Server to serve predictions from an ensembled model \n",
        "REDO\n",
        "and then use the Vertex AI Endpoints to detect objects in an image.\n",
        "\n",
        "The steps performed in this tutorial include:\n",
        "\n",
        "- Create Triton configuration files for multiple pre-built models\n",
        "- Pull a custom serving container running Triton\n",
        "- Upload the Triton multiple model package as a Vertex `Model` resource\n",
        "- Deploy the `Model` resource to a serving `Endpoint` resource.\n",
        "- Make a prediction request as individual models.\n",
        "- Make a prediction request as a model ensemble.\n",
        "- Undeploy the `Model` resource and delete the `Endpoint`\n",
        "\n",
        "### Dataset\n",
        "\n",
        "The notebook uses random data generator to train and serve the models.\n",
        "\n",
        "### Costs\n",
        "\n",
        "This tutorial uses billable components of Google Cloud:\n",
        "\n",
        "* Vertex AI\n",
        "* Cloud Storage\n",
        "\n",
        "Learn about [Vertex AI pricing](https://cloud.google.com/vertex-ai/pricing) and [Cloud Storage pricing](https://cloud.google.com/storage/pricing), and use the [Pricing Calculator](https://cloud.google.com/products/calculator/) to generate a cost estimate based on your projected usage."
      ]
    },
    {
      "cell_type": "markdown",
      "metadata": {
        "id": "5468fdaf15ba"
      },
      "source": [
        "## NVIDIA Triton Inference Server (Triton) Overview\n",
        "\n",
        "[NVIDIA Triton Inference Server (Triton)](https://github.com/triton-inference-server/server) provides an inference solution optimized for both CPUs and GPUs. Triton can run multiple models from the same or different frameworks concurrently on a single GPU or CPU. In a multi-GPU server, it automatically creates an instance of each model on each GPU to increase utilization without extra coding. It supports real-time inferencing, batch inferencing to maximize GPU/CPU utilization, and streaming inference with built-in support for audio streaming input. It also supports model ensembles for use cases that require multiple models to perform end-to-end inference.\n",
        "\n",
        "The following figure shows the Triton's high-level architecture.\n",
        "\n",
        "![Triton high level architecture](https://raw.githubusercontent.com/triton-inference-server/server/main/docs/user_guide/images/arch.jpg)\n",
        "\n",
        "- The model repository is a file-system based repository of the models that Triton will make available for inference.\n",
        "- Inference requests arrive at the server via either HTTP/REST or gRPC and are then routed to the appropriate per-model scheduler.\n",
        "- Triton implements multiple scheduling and batching algorithms that can be configured on a model-by-model basis.\n",
        "- The backend performs inference using the inputs provided in the batched requests to produce the requested outputs.\n",
        "\n",
        "Triton provides readiness and liveness health endpoints, as well as utilization, throughput, and latency metrics, which enable the integration of Triton into deployment environments, such as Vertex AI Prediction.\n",
        "\n",
        "Refer to [Triton architecture](https://github.com/triton-inference-server/server/blob/main/docs/architecture.md) for more detailed information.\n",
        "\n",
        "## Triton on Vertex AI Prediction\n",
        "\n",
        "Triton inference server runs inside a container published by NVIDIA GPU Cloud (NGC) - [NVIDIA Triton Inference Server Image](https://catalog.ngc.nvidia.com/orgs/nvidia/containers/tritonserver). NVIDIA and GCP Vertex AI team collaborated and added packages and configurations to align Triton with Vertex AI [requirements for custom serving container images](https://cloud.google.com/vertex-ai/docs/predictions/custom-container-requirements).\n",
        "\n",
        "The model to be served by Triton should be registered with Vertex AI as a `Model` resource. The `Model`'s metadata refer to a location of the ensemble artifacts in Cloud Storage and the custom serving container including configuration.\n",
        "\n",
        "Triton loads the models and exposes inference, health, and model management REST endpoints using [standard inference protocols](https://github.com/kserve/kserve/tree/master/docs/predict-api/v2). While deploying to Vertex AI, Triton recognizes Vertex AI environment and adopts Vertex AI Prediction protocol for [health checks](https://cloud.google.com/vertex-ai/docs/predictions/custom-container-requirements#health) and predictions.\n",
        "\n",
        "To invoke the model through the Vertex AI Endpoint, format prediction request using a [standard Inference Request JSON Object](https://github.com/kserve/kserve/blob/master/docs/predict-api/v2/required_api.md#inference) or a [Inference Request JSON Object with a binary extension](https://github.com/triton-inference-server/server/blob/main/docs/protocol/extension_binary_data.md) and submit a request to Vertex AI Prediction [REST rawPredict endpoint](https://cloud.google.com/vertex-ai/docs/reference/rest/v1beta1/projects.locations.endpoints/rawPredict). You need to use the `rawPredict` rather than `predict` method because inference request formats used by Triton are not compatible with the Vertex AI Prediction [standard input format](https://cloud.google.com/vertex-ai/docs/predictions/online-predictions-custom-models#formatting-prediction-input).\n",
        "\n",
        "![triton-on-vertex-ai-predictions](https://cloud.google.com/vertex-ai/docs/predictions/images/using-triton-on-vertex-ai-predictions-architecture.png)"
      ]
    },
    {
      "cell_type": "markdown",
      "metadata": {
        "id": "e1467db2eb51"
      },
      "source": [
        "## Set up your local development environment\n",
        "\n",
        "This notebook is only supported on [Vertex AI Workbench](https://cloud.google.com/vertex-ai/docs/workbench/introduction), and the Vertex AI Workbench environment already meets all the requirements to run this notebook. Please make sure you are running the notebook in TensorFlow kernel in the Vertex AI Workbench notebook environment.\n",
        "\n",
        "**NOTE:** This notebook uses `docker` commands to build and test the containers in the local development environment before deploying a custom container to Vertex AI Predictions. [Google Colab currently does not natively support running docker](https://github.com/googlecolab/colabtools/issues/299#issuecomment-615308778) and hence the notebook is supported only on Vertex AI Workbench."
      ]
    },
    {
      "cell_type": "markdown",
      "metadata": {
        "id": "fe9ac246674b"
      },
      "source": [
        "## Installation\n",
        "\n",
        "Install the following packages required to execute this notebook."
      ]
    },
    {
      "cell_type": "code",
      "execution_count": null,
      "metadata": {
        "id": "b795ef93e589"
      },
      "outputs": [],
      "source": [
        "# Install the packages\n",
        "! pip3 install --user --upgrade google-cloud-aiplatform\n",
        "\n",
        "! pip3 install tritonclient geventhttpclient transformers"
      ]
    },
    {
      "cell_type": "markdown",
      "metadata": {
        "id": "4dc4a2d5acc9"
      },
      "source": [
        "## Before you begin\n",
        "\n",
        "### GPU runtime\n",
        "\n",
        "This tutorial does not require a GPU runtime.\n",
        "\n",
        "### Set up your Google Cloud project\n",
        "\n",
        "**The following steps are required, regardless of your notebook environment.**\n",
        "\n",
        "1. [Select or create a Google Cloud project](https://console.cloud.google.com/cloud-resource-manager). When you first create an account, you get a $300 free credit towards your compute/storage costs.\n",
        "\n",
        "2. [Make sure that billing is enabled for your project.](https://cloud.google.com/billing/docs/how-to/modify-project)\n",
        "\n",
        "3. [Enable the following APIs: Vertex AI APIs, Compute Engine APIs, and Cloud Storage.](https://console.cloud.google.com/flows/enableapi?apiid=ml.googleapis.com,compute_component,storage-component.googleapis.com)\n",
        "\n",
        "4. [The Google Cloud SDK](https://cloud.google.com/sdk) is already installed in Google Cloud Notebook.\n",
        "\n",
        "5. Enter your project ID in the cell below. Then run the  cell to make sure the\n",
        "Cloud SDK uses the right project for all the commands in this notebook.\n",
        "\n",
        "**Note**: Jupyter runs lines prefixed with `!` as shell commands, and it interpolates Python variables prefixed with `$`."
      ]
    },
    {
      "cell_type": "code",
      "execution_count": null,
      "metadata": {
        "id": "a6fba02a84c4"
      },
      "outputs": [],
      "source": [
        "PROJECT_ID = \"[your-project-id]\"  # @param {type:\"string\"}\n",
        "\n",
        "# Set the project id\n",
        "! gcloud config set project {PROJECT_ID}"
      ]
    },
    {
      "cell_type": "markdown",
      "metadata": {
        "id": "3e7b3427fb75"
      },
      "source": [
        "#### Region\n",
        "\n",
        "You can also change the `REGION` variable, which is used for operations\n",
        "throughout the rest of this notebook.  Below are regions supported for Vertex AI. We recommend that you choose the region closest to you.\n",
        "\n",
        "- Americas: `us-central1`\n",
        "- Europe: `europe-west4`\n",
        "- Asia Pacific: `asia-east1`\n",
        "\n",
        "You may not use a multi-regional bucket for training with Vertex AI. Not all regions provide support for all Vertex AI services.\n",
        "\n",
        "Learn more about [Vertex AI regions](https://cloud.google.com/vertex-ai/docs/general/locations)"
      ]
    },
    {
      "cell_type": "code",
      "execution_count": null,
      "metadata": {
        "id": "f83bd6013894"
      },
      "outputs": [],
      "source": [
        "REGION = \"us-central1\"  # @param {type: \"string\"}"
      ]
    },
    {
      "cell_type": "markdown",
      "metadata": {
        "id": "a3891fe77fa8"
      },
      "source": [
        "#### Authenticate your Google Cloud account\n",
        "\n",
        "**If you are running Notebook from Vertex AI Workbench, your environment is already authenticated.**"
      ]
    },
    {
      "cell_type": "markdown",
      "metadata": {
        "id": "409dda31908e"
      },
      "source": [
        "### Create a Cloud Storage bucket\n",
        "\n",
        "**The following steps are required, regardless of your notebook environment.**\n",
        "\n",
        "When you initialize the Vertex SDK for Python, you specify a Cloud Storage staging bucket. The staging bucket is where all the data associated with your dataset and model resources are retained across sessions.\n",
        "\n",
        "Set the name of your Cloud Storage bucket below. Bucket names must be globally unique across all Google Cloud projects, including those outside of your organization."
      ]
    },
    {
      "cell_type": "code",
      "execution_count": null,
      "metadata": {
        "id": "3d5e239a98f2"
      },
      "outputs": [],
      "source": [
        "BUCKET_URI = \"gs://your-bucket-name-unique\"  # @param {type:\"string\"}"
      ]
    },
    {
      "cell_type": "markdown",
      "metadata": {
        "id": "20a64b3d187e"
      },
      "source": [
        "---\n",
        "\n",
        "**Only if your bucket doesn't already exist**: Run the following cell to create your Cloud Storage bucket.\n",
        "\n",
        "---"
      ]
    },
    {
      "cell_type": "code",
      "execution_count": null,
      "metadata": {
        "id": "e66f36b71bc3"
      },
      "outputs": [],
      "source": [
        "! gsutil mb -l $REGION $BUCKET_URI"
      ]
    },
    {
      "cell_type": "markdown",
      "metadata": {
        "id": "51a8afe42b5e"
      },
      "source": [
        "Finally, validate access to your Cloud Storage bucket by examining its contents:"
      ]
    },
    {
      "cell_type": "code",
      "execution_count": null,
      "metadata": {
        "id": "835bf2f84d86"
      },
      "outputs": [],
      "source": [
        "! gsutil ls -al $BUCKET_URI"
      ]
    },
    {
      "cell_type": "markdown",
      "metadata": {
        "id": "34be3b6bc70a"
      },
      "source": [
        "### Set up variables\n",
        "\n",
        "Next, set up some variables used throughout the tutorial.\n",
        "### Import libraries"
      ]
    },
    {
      "cell_type": "code",
      "execution_count": null,
      "metadata": {
        "id": "5c51d0f060ba"
      },
      "outputs": [],
      "source": [
        "import json\n",
        "import os\n",
        "\n",
        "import numpy as np\n",
        "import tritonclient.http as triton_http\n",
        "from google.api import httpbody_pb2\n",
        "from google.cloud import aiplatform as aip\n",
        "from google.cloud import aiplatform_v1 as gapic"
      ]
    },
    {
      "cell_type": "markdown",
      "metadata": {
        "id": "9e609999d2cd"
      },
      "source": [
        "### Define constants\n",
        "\n",
        "`MODEL_ARTIFACTS_REPOSITORY` - the Cloud Storage location where the Triton model artifacts are stored."
      ]
    },
    {
      "cell_type": "code",
      "execution_count": null,
      "metadata": {
        "id": "771aa5548060"
      },
      "outputs": [],
      "source": [
        "MODEL_ARTIFACTS_REPOSITORY = (\n",
        "    \"gs://cloud-samples-data/vertex-ai/model-deployment/models/triton_models\"\n",
        ")"
      ]
    },
    {
      "cell_type": "markdown",
      "metadata": {
        "id": "299e6463253d"
      },
      "source": [
        "The following set of constants will be used to create names and display names of Vertex AI Prediction resources like models, endpoints, and model deployments."
      ]
    },
    {
      "cell_type": "code",
      "execution_count": null,
      "metadata": {
        "id": "d572aed16497"
      },
      "outputs": [],
      "source": [
        "# set model names and version\n",
        "MODEL_NAME = \"ensemble\"\n",
        "MODEL_VERSION = \"v01\"\n",
        "MODEL_DISPLAY_NAME = f\"triton-{MODEL_NAME}-{MODEL_VERSION}\"\n",
        "ENDPOINT_DISPLAY_NAME = f\"endpoint-{MODEL_NAME}-{MODEL_VERSION}\"\n",
        "\n",
        "# You can get the latest Triton image uri from\n",
        "# https://catalog.ngc.nvidia.com/orgs/nvidia/containers/tritonserver\n",
        "NGC_TRITON_IMAGE_URI = \"nvcr.io/nvidia/tritonserver:22.05-py3\"\n",
        "\n",
        "# prediction container image name\n",
        "IMAGE_NAME = \"vertex-triton-inference:22.05\""
      ]
    },
    {
      "cell_type": "markdown",
      "metadata": {
        "id": "6183d4018b5b"
      },
      "source": [
        "### Initialize Vertex AI SDK for Python\n",
        "\n",
        "Initialize the Vertex AI SDK for Python for your project and corresponding bucket."
      ]
    },
    {
      "cell_type": "code",
      "execution_count": null,
      "metadata": {
        "id": "dcf75deec9a4"
      },
      "outputs": [],
      "source": [
        "aip.init(project=PROJECT_ID, staging_bucket=BUCKET_URI)"
      ]
    },
    {
      "cell_type": "markdown",
      "metadata": {
        "id": "0192665cc7af"
      },
      "source": [
        "## Prepare model artifacts\n",
        "\n",
        "The `config.pbtxt` file describes the [model configuration](https://github.com/triton-inference-server/server/blob/main/docs/model_configuration.md) for the ensemble model. For example:\n",
        "\n",
        "> ```\n",
        "> └── model-repository-path\n",
        ">        └── model_name\n",
        ">               ├── config.pbtxt\n",
        ">               └── 1\n",
        ">                   └── model.savedmodel\n",
        ">                         └── <saved-model-files>\n",
        "> ```"
      ]
    },
    {
      "attachments": {
        "56718a9f-9e3d-4898-ad10-7dcc89fda6ef.png": {
          "image/png": "[encoded data removed]"
        }
      },
      "cell_type": "markdown",
      "metadata": {
        "id": "458a1d5f6ab3"
      },
      "source": [
        "![image.png](attachment:56718a9f-9e3d-4898-ad10-7dcc89fda6ef.png)"
      ]
    },
    {
      "cell_type": "markdown",
      "metadata": {
        "id": "4c86034cf8db"
      },
      "source": [
        "### Prebuilt models for the ensemble\n",
        "\n",
        "Next, view the prebuild models you use in this model ensemble."
      ]
    },
    {
      "cell_type": "code",
      "execution_count": null,
      "metadata": {
        "id": "d966364e6d59"
      },
      "outputs": [],
      "source": [
        "! gsutil ls -R {MODEL_ARTIFACTS_REPOSITORY}"
      ]
    },
    {
      "cell_type": "markdown",
      "metadata": {
        "id": "da18b2ab4350"
      },
      "source": [
        "### Create model configuration file\n",
        "\n",
        "The [model configuration](https://github.com/triton-inference-server/server/blob/main/docs/model_configuration.md) file `config.pbtxt` provides information about the model such as inputs and outputs. Refer to the [Triton docs](https://github.com/triton-inference-server/common/blob/main/protobuf/model_config.proto) for the configuration format. For TensorFlow models, you could use the [`saved_model_cli` command](https://www.tensorflow.org/guide/saved_model#details_of_the_savedmodel_command_line_interface) and map to the Triton's configuration format. Note that Triton datatypes are different from the frameworks and should be mapped accordingly based on the table [here](https://github.com/triton-inference-server/server/blob/main/docs/model_configuration.md#datatypes)."
      ]
    },
    {
      "cell_type": "code",
      "execution_count": null,
      "metadata": {
        "id": "c7752023c902"
      },
      "outputs": [],
      "source": [
        "! gsutil cat {MODEL_ARTIFACTS_REPOSITORY}/ensemble/config.pbtxt"
      ]
    },
    {
      "cell_type": "markdown",
      "metadata": {
        "id": "4088a566fbcb"
      },
      "source": [
        "## Building and pushing the container image\n",
        "\n",
        "To use a custom container for serving predictions, you specify a Docker container image that meets the [custom container requirements](https://cloud.google.com/vertex-ai/docs/predictions/custom-container-requirements). This section describes how to create the container image running Triton and push it to the Artifact Registry."
      ]
    },
    {
      "cell_type": "markdown",
      "metadata": {
        "id": "09873e7f28f8"
      },
      "source": [
        "### Setting up Artifact Registry"
      ]
    },
    {
      "cell_type": "markdown",
      "metadata": {
        "id": "065dc0e1d7e2"
      },
      "source": [
        "- **Enable the Artifact Registry API service for your project.**"
      ]
    },
    {
      "cell_type": "code",
      "execution_count": null,
      "metadata": {
        "id": "df3616824fb0"
      },
      "outputs": [],
      "source": [
        "! gcloud services enable artifactregistry.googleapis.com"
      ]
    },
    {
      "cell_type": "markdown",
      "metadata": {
        "id": "f7e0403eef20"
      },
      "source": [
        "- **Create a private Docker repository to push the container images**"
      ]
    },
    {
      "cell_type": "code",
      "execution_count": null,
      "metadata": {
        "id": "d6c28fa204ab"
      },
      "outputs": [],
      "source": [
        "DOCKER_ARTIFACT_REPO = \"triton-prediction-container\""
      ]
    },
    {
      "cell_type": "code",
      "execution_count": null,
      "metadata": {
        "id": "4643ca50f603"
      },
      "outputs": [],
      "source": [
        "# create a new Docker repository with your region with the description\n",
        "! gcloud artifacts repositories create {DOCKER_ARTIFACT_REPO} \\\n",
        "    --repository-format=docker \\\n",
        "    --location={REGION} \\\n",
        "    --description=\"Triton Docker repository\"\n",
        "\n",
        "# verify that your repository was created.\n",
        "! gcloud artifacts repositories list \\\n",
        "    --location={REGION} \\\n",
        "    --filter=\"name~\"{DOCKER_ARTIFACT_REPO}"
      ]
    },
    {
      "cell_type": "markdown",
      "metadata": {
        "id": "a245c5b9449e"
      },
      "source": [
        "- **Configure authentication to the private repo**\n",
        "\n",
        "Before you push or pull container images, configure Docker to use the `gcloud` command-line tool to authenticate requests to Artifact Registry for your region."
      ]
    },
    {
      "cell_type": "code",
      "execution_count": null,
      "metadata": {
        "id": "ef441e0d3f2a"
      },
      "outputs": [],
      "source": [
        "! gcloud auth configure-docker {REGION}-docker.pkg.dev --quiet"
      ]
    },
    {
      "cell_type": "markdown",
      "metadata": {
        "id": "4ce4aa5221e2"
      },
      "source": [
        "- **Build the image and tag the Artifact Registry path that the image will be pushed to**"
      ]
    },
    {
      "cell_type": "code",
      "execution_count": null,
      "metadata": {
        "id": "4a7cf7c1789d"
      },
      "outputs": [],
      "source": [
        "IMAGE_URI = f\"{REGION}-docker.pkg.dev/{PROJECT_ID}/{DOCKER_ARTIFACT_REPO}/{IMAGE_NAME}\""
      ]
    },
    {
      "cell_type": "code",
      "execution_count": null,
      "metadata": {
        "id": "18023297caa0"
      },
      "outputs": [],
      "source": [
        "%%bash -s $NGC_TRITON_IMAGE_URI\n",
        "\n",
        "export NGC_TRITON_IMAGE_URI=$1\n",
        "\n",
        "cat <<EOF > Dockerfile\n",
        "\n",
        "FROM $NGC_TRITON_IMAGE_URI AS triton\n",
        "\n",
        "RUN pip3 install transformers\n",
        "\n",
        "EOF"
      ]
    },
    {
      "cell_type": "code",
      "execution_count": null,
      "metadata": {
        "id": "f336f3d9a9be"
      },
      "outputs": [],
      "source": [
        "! docker build -t $IMAGE_URI ."
      ]
    },
    {
      "cell_type": "markdown",
      "metadata": {
        "id": "2d3029333e92"
      },
      "source": [
        "### Run the container locally *[optional]*\n",
        "\n",
        "Before pushing the custom container image to Artifact Registry to use it with Vertex AI Predictions, run the container in local environment to verify that the server responds to prediction instances.\n",
        "\n",
        "\n",
        "#### Start running the container image\n",
        "\n",
        "To run the container image as a container locally, run the following command:"
      ]
    },
    {
      "cell_type": "code",
      "execution_count": null,
      "metadata": {
        "id": "c4438609304a"
      },
      "outputs": [],
      "source": [
        "! docker stop ensemble 2>/dev/stderr\n",
        "! docker run -t -d -p 8000:8000 --rm \\\n",
        "    --name=ensemble \\\n",
        "    -e AIP_MODE=True \\\n",
        "    --shm-size=256m \\\n",
        "    --gpus all \\\n",
        "    $IMAGE_URI \\\n",
        "    --model-repository $MODEL_ARTIFACTS_REPOSITORY\n",
        "! sleep 20"
      ]
    },
    {
      "cell_type": "code",
      "execution_count": null,
      "metadata": {
        "id": "b4f323bfacf1"
      },
      "outputs": [],
      "source": [
        "# check if the triton container is running locally\n",
        "!docker container ls -f\"name=ensemble\" --no-trunc"
      ]
    },
    {
      "cell_type": "markdown",
      "metadata": {
        "id": "6e13b94db665"
      },
      "source": [
        "#### Perform health check\n",
        "\n",
        "To send the container's server a health check, run the following command. It should return the status code as `200`"
      ]
    },
    {
      "cell_type": "code",
      "execution_count": null,
      "metadata": {
        "id": "75ded496a095"
      },
      "outputs": [],
      "source": [
        "! curl -s -o /dev/null -w \"%{http_code}\" http://localhost:8000/v2/health/ready"
      ]
    },
    {
      "cell_type": "markdown",
      "metadata": {
        "id": "4f325a2b6a2f"
      },
      "source": [
        "#### Send a prediction request\n",
        "\n",
        "To send the container's server a prediction request, run the following script with the sample payload based on the model type (scikit-learn, xgboost, tensorflow, ensemble) and get prediction responses"
      ]
    },
    {
      "cell_type": "code",
      "execution_count": null,
      "metadata": {
        "id": "593accdbfccc"
      },
      "outputs": [],
      "source": [
        "def get_triton_prediction_local(model_name, url=\"localhost:8000\", headers=None):\n",
        "    # set up both HTTP and GRPC clients. Note that the GRPC client is generally\n",
        "    # somewhat faster.\n",
        "    http_client = triton_http.InferenceServerClient(\n",
        "        url=url, verbose=False, concurrency=5\n",
        "    )\n",
        "\n",
        "    # generate example data to classify\n",
        "    features = 4\n",
        "    samples = 1\n",
        "    data = np.random.rand(samples, features).astype(\"float32\")\n",
        "\n",
        "    # payload configuration defining input and output names\n",
        "    payload_config = {\n",
        "        \"sci_1\": {\"input\": \"input__0\", \"output\": \"output__0\"},\n",
        "        \"sci_2\": {\"input\": \"input__0\", \"output\": \"output__0\"},\n",
        "        \"xgb\": {\"input\": \"input__0\", \"output\": \"output__0\"},\n",
        "        \"tf\": {\"input\": \"dense_input\", \"output\": \"round\"},\n",
        "        \"ensemble\": {\"input\": \"INPUT0\", \"output\": \"OUTPUT0\"},\n",
        "    }\n",
        "\n",
        "    # get input and output names based on model name\n",
        "    input_name = payload_config[model_name][\"input\"]\n",
        "    output_name = payload_config[model_name][\"output\"]\n",
        "\n",
        "    # set up Triton input and output objects for HTTP\n",
        "    triton_input_http = triton_http.InferInput(input_name, (samples, features), \"FP32\")\n",
        "    triton_input_http.set_data_from_numpy(data, binary_data=False)\n",
        "    triton_output_http = triton_http.InferRequestedOutput(\n",
        "        output_name, binary_data=False\n",
        "    )\n",
        "\n",
        "    # submit inference request\n",
        "    request_http = http_client.infer(\n",
        "        model_name,\n",
        "        model_version=\"1\",\n",
        "        inputs=[triton_input_http],\n",
        "        outputs=[triton_output_http],\n",
        "        headers=headers,\n",
        "    )\n",
        "\n",
        "    # get results as numpy arrays\n",
        "    result_http = request_http.as_numpy(output_name)\n",
        "    print(f\"request: {data}\")\n",
        "    print(f\"response: {result_http}\")"
      ]
    },
    {
      "cell_type": "code",
      "execution_count": null,
      "metadata": {
        "id": "6f7f1724e536"
      },
      "outputs": [],
      "source": [
        "# model names: sci_1, sci_2, xgb, tf, ensemble\n",
        "TRITON_URL = \"localhost:8000\"\n",
        "\n",
        "for model_name in [\"sci_1\", \"sci_2\", \"xgb\", \"tf\", \"ensemble\"]:\n",
        "    print(f\"Predictions from model: {model_name}\")\n",
        "    get_triton_prediction_local(model_name, TRITON_URL)\n",
        "    print(\"-\" * 16)"
      ]
    },
    {
      "cell_type": "markdown",
      "metadata": {
        "id": "a7d76c05d109"
      },
      "source": [
        "#### Stop running the container\n",
        "\n",
        "To stop the container, run the following command:"
      ]
    },
    {
      "cell_type": "code",
      "execution_count": null,
      "metadata": {
        "id": "1ee8310e38dc"
      },
      "outputs": [],
      "source": [
        "! docker stop ensemble"
      ]
    },
    {
      "cell_type": "markdown",
      "metadata": {
        "id": "6e51ebd6dcaa"
      },
      "source": [
        "### Push the container image to Artifact Registry\n",
        "\n",
        "After testing the container image locally, push the image to Artifact Registry. The Artifact Registry image URI will be used when creating the Vertex AI model resource."
      ]
    },
    {
      "cell_type": "code",
      "execution_count": null,
      "metadata": {
        "id": "58f094be7ec1"
      },
      "outputs": [],
      "source": [
        "! docker push $IMAGE_URI"
      ]
    },
    {
      "cell_type": "markdown",
      "metadata": {
        "id": "4d2bb68b8f9b"
      },
      "source": [
        "## Create Vertex AI Model resource\n",
        "\n",
        "A  Vertex AI Model resource must be created to deploy the model to a Vertex AI Prediction Endpoint. Create a Vertex AI Model resource with the deployment image pointing to the model artifacts. Refer to [Vertex AI Prediction guide](https://cloud.google.com/vertex-ai/docs/predictions/use-custom-container) for creating Vertex AI Model resource with custom container."
      ]
    },
    {
      "cell_type": "code",
      "execution_count": null,
      "metadata": {
        "id": "1f643458b022"
      },
      "outputs": [],
      "source": [
        "print(f\"MODEL_ARTIFACTS_REPOSITORY = {MODEL_ARTIFACTS_REPOSITORY}\")\n",
        "print(f\"MODEL_DISPLAY_NAME = {MODEL_DISPLAY_NAME}\")\n",
        "print(f\"IMAGE_URI = {IMAGE_URI}\")"
      ]
    },
    {
      "cell_type": "code",
      "execution_count": null,
      "metadata": {
        "id": "8d86c4d8f0c7"
      },
      "outputs": [],
      "source": [
        "model = aip.Model.upload(\n",
        "    display_name=MODEL_DISPLAY_NAME,\n",
        "    serving_container_image_uri=IMAGE_URI,\n",
        "    artifact_uri=MODEL_ARTIFACTS_REPOSITORY,\n",
        "    sync=True,\n",
        "    serving_container_args=[\n",
        "        \"--backend-config=tensorflow,version=2\",\n",
        "        \"--backend-config=tensorflow,transfer_threshold=0\",\n",
        "        \"--backend-config=python,shm-default-byte-size=33554432,shm-growth-byte-size=8388608\",\n",
        "        \"--backend-config=fil,transfer_threshold=0\",\n",
        "        \"--vertex-ai-default-model=ensemble\",\n",
        "        \"--strict-model-config=true\",\n",
        "        \"--log-verbose=99\",\n",
        "        \"--log-error=1\",\n",
        "    ],\n",
        ")\n",
        "\n",
        "print(model.resource_name)"
      ]
    },
    {
      "cell_type": "markdown",
      "metadata": {
        "id": "f3c8c48ee2fb"
      },
      "source": [
        "## Deploy the model to Vertex AI Predictions\n",
        "\n",
        "Deploying a Vertex AI Model is a two step process.\n",
        "\n",
        "1. Create an `Endpoint` exposing an external interface to users consuming the model. \n",
        "2. After the `Endpoint` is ready, deploy multiple versions of a model to the `Endpoint`. The deployed model runs the custom container image running Triton to serve predictions."
      ]
    },
    {
      "cell_type": "markdown",
      "metadata": {
        "id": "b1488b536cf8"
      },
      "source": [
        "### Create an endpoint\n",
        "\n",
        "Before deploying the `Model` you created a `Vertex AI Endpoint`."
      ]
    },
    {
      "cell_type": "code",
      "execution_count": null,
      "metadata": {
        "id": "38fbd01376fa"
      },
      "outputs": [],
      "source": [
        "endpoint = aip.Endpoint.create(display_name=ENDPOINT_DISPLAY_NAME)"
      ]
    },
    {
      "cell_type": "markdown",
      "metadata": {
        "id": "d04a1e77ebda"
      },
      "source": [
        "### Deploy model to an endpoint\n",
        "\n",
        "After the `Endpoint` is ready, deploy the `Model` to the `Endpoint`.The deployed model runs the Triton Server on a GPU node equipped with the NVIDIA Tesla T4 GPUs. \n",
        "\n",
        "Learn more about[Deploy a model using the Vertex AI API](https://cloud.google.com/vertex-ai/docs/predictions/deploy-model-api) guide for more information.\n",
        "\n",
        "**NOTE:** This step can take up to 20 min."
      ]
    },
    {
      "cell_type": "code",
      "execution_count": null,
      "metadata": {
        "id": "567c1f644e3f"
      },
      "outputs": [],
      "source": [
        "traffic_percentage = 100\n",
        "machine_type = \"n1-standard-4\"\n",
        "accelerator_type = \"NVIDIA_TESLA_T4\"\n",
        "accelerator_count = 1\n",
        "min_replica_count = 1\n",
        "max_replica_count = 2\n",
        "\n",
        "model.deploy(\n",
        "    endpoint=endpoint,\n",
        "    deployed_model_display_name=MODEL_DISPLAY_NAME,\n",
        "    machine_type=machine_type,\n",
        "    min_replica_count=min_replica_count,\n",
        "    max_replica_count=max_replica_count,\n",
        "    traffic_percentage=traffic_percentage,\n",
        "    accelerator_type=accelerator_type,\n",
        "    accelerator_count=accelerator_count,\n",
        "    sync=True,\n",
        ")\n",
        "\n",
        "print(endpoint.name)"
      ]
    },
    {
      "cell_type": "markdown",
      "metadata": {
        "id": "be665a6d09db"
      },
      "source": [
        "## Invoking the model and getting predictions\n",
        "\n",
        "To invoke the model through Vertex AI Prediction endpoint, format prediction request using a [standard Inference Request JSON Object](https://github.com/kserve/kserve/blob/master/docs/predict-api/v2/required_api.md#inference) or a [Inference Request JSON Object with a binary extension](https://github.com/triton-inference-server/server/blob/main/docs/protocol/extension_binary_data.md) and submit the request to Vertex AI Prediction [REST rawPredict endpoint](https://cloud.google.com/vertex-ai/docs/reference/rest/v1beta1/projects.locations.endpoints/rawPredict). \n",
        "\n",
        "---\n",
        "\n",
        "Instead of `predict` API, you must use the `rawPredict` API  because prediction request formats used by Triton are not compatible with the Vertex AI Prediction [standard input format](https://cloud.google.com/vertex-ai/docs/predictions/online-predictions-custom-models#formatting-prediction-input).\n",
        "\n",
        "---\n",
        "\n",
        "In the [previous section](#Download-test-image-file-and-generate-payload-to-make-prediction-requests) the request body was formatted as a [standard Inference Request JSON Object](https://github.com/kserve/kserve/blob/master/docs/predict-api/v2/required_api.md#inference)."
      ]
    },
    {
      "cell_type": "markdown",
      "metadata": {
        "id": "539bd89689e0"
      },
      "source": [
        "**You can invoke the Vertex AI Prediction `rawPredict` endpoint using [Vertex AI SDK](https://googleapis.dev/python/aiplatform/latest/aiplatform_v1/prediction_service.html#:~:text=async-,raw_predict,-(request%3A%20Optional%5BUnion), any HTTP tool or library, including `curl`.**\n",
        "\n",
        "To use `Endpoint` in another session: set endpoint as following\n",
        "\n",
        "```\n",
        "endpoint = aip.Endpoint('projects/<project-number>/locations/<region>/endpoints/<endpoint-id>')\n",
        "```"
      ]
    },
    {
      "cell_type": "markdown",
      "metadata": {
        "id": "ef14f78a6e8f"
      },
      "source": [
        "### Calling `rawPredict` using Vertex AI SDK to get prediction response"
      ]
    },
    {
      "cell_type": "markdown",
      "metadata": {
        "id": "796efa92222c"
      },
      "source": [
        "The function below calls the Triton inference server deployed on Vertex AI Endpoint with the Endpoint resource name, model name to call when multiple models are deployed on Triton inference server on the same Endpoint and additional headers to pass to the Triton inference server."
      ]
    },
    {
      "cell_type": "code",
      "execution_count": null,
      "metadata": {
        "id": "d9aae97e657d"
      },
      "outputs": [],
      "source": [
        "def get_triton_prediction_vertex(\n",
        "    model_name,\n",
        "    endpoint_name,\n",
        "    api_endpoint=f\"{REGION}-aiplatform.googleapis.com\",\n",
        "    headers=None,\n",
        "):\n",
        "    # set up vertex ai prediction client\n",
        "    client_options = {\"api_endpoint\": api_endpoint}\n",
        "    gapic_client = gapic.PredictionServiceClient(client_options=client_options)\n",
        "\n",
        "    # generate example data to classify\n",
        "    features = 4\n",
        "    samples = 1\n",
        "    data = np.random.rand(samples, features).astype(\"float32\")\n",
        "\n",
        "    # payload configuration defining input and output names\n",
        "    payload_config = {\n",
        "        \"sci_1\": {\"input\": \"input__0\", \"output\": \"output__0\"},\n",
        "        \"sci_2\": {\"input\": \"input__0\", \"output\": \"output__0\"},\n",
        "        \"xgb\": {\"input\": \"input__0\", \"output\": \"output__0\"},\n",
        "        \"tf\": {\"input\": \"dense_input\", \"output\": \"round\"},\n",
        "        \"ensemble\": {\"input\": \"INPUT0\", \"output\": \"OUTPUT0\"},\n",
        "        \"mux\": {\n",
        "            \"input\": \"mux_in\",\n",
        "            \"output\": [\"mux_xgb_out\", \"mux_tf_out\", \"mux_sci_1_out\", \"mux_sci_2_out\"],\n",
        "        },\n",
        "    }\n",
        "\n",
        "    # get input and output names based on model name\n",
        "    input_name = payload_config[model_name][\"input\"]\n",
        "    output_name = payload_config[model_name][\"output\"]\n",
        "\n",
        "    # set up Triton input and output objects for HTTP\n",
        "    triton_input_http = triton_http.InferInput(input_name, (samples, features), \"FP32\")\n",
        "    triton_input_http.set_data_from_numpy(data, binary_data=False)\n",
        "\n",
        "    if isinstance(output_name, list):\n",
        "        triton_output_http = [\n",
        "            triton_http.InferRequestedOutput(output, binary_data=False)\n",
        "            for output in output_name\n",
        "        ]\n",
        "\n",
        "    else:\n",
        "        triton_output_http = [\n",
        "            triton_http.InferRequestedOutput(output_name, binary_data=False)\n",
        "        ]\n",
        "\n",
        "    # create inference request\n",
        "    _data, _ = triton_http._get_inference_request(\n",
        "        inputs=[triton_input_http],\n",
        "        outputs=triton_output_http,\n",
        "        request_id=\"\",\n",
        "        sequence_id=0,\n",
        "        sequence_start=False,\n",
        "        sequence_end=False,\n",
        "        priority=0,\n",
        "        timeout=None,\n",
        "    )\n",
        "    http_body = httpbody_pb2.HttpBody(\n",
        "        data=_data.encode(\"utf-8\"), content_type=\"application/json\"\n",
        "    )\n",
        "    print(f\"request: {data}\")\n",
        "    # submit inference request\n",
        "    request = gapic.RawPredictRequest(endpoint=endpoint_name, http_body=http_body)\n",
        "    response = gapic_client.raw_predict(request=request, metadata=headers)\n",
        "    # get result as json\n",
        "    result_http = json.loads(response.data.decode(\"utf-8\"))\n",
        "    print(f\"response: {result_http['outputs'][0]['data']}\")"
      ]
    },
    {
      "cell_type": "markdown",
      "metadata": {
        "id": "d1cb9f10e09e"
      },
      "source": [
        "#### Make model ensemble prediction request\n",
        "\n",
        "Call the Vertex AI Endpoint to get prediction responses from Triton server from the multiple of models deployed including an ensembled model."
      ]
    },
    {
      "cell_type": "code",
      "execution_count": null,
      "metadata": {
        "id": "d095caa1de2c"
      },
      "outputs": [],
      "source": [
        "endpoint_name = endpoint.resource_name\n",
        "\n",
        "# model names: sci_1, sci_2, xgb, tf, ensemble\n",
        "for model_name in [\"sci_1\", \"sci_2\", \"xgb\", \"tf\", \"ensemble\"]:\n",
        "    print(f\"Predictions from model: {model_name}\")\n",
        "    headers = {\"x-vertex-ai-triton-redirect\": f\"v2/models/{model_name}/infer\"}\n",
        "    get_triton_prediction_vertex(\n",
        "        model_name, endpoint_name, headers=tuple(headers.items())\n",
        "    )\n",
        "    print(\"-\" * 16)"
      ]
    },
    {
      "cell_type": "markdown",
      "metadata": {
        "id": "d2dfa7278a60"
      },
      "source": [
        "#### Example sample to call Vertex AI Endpoint with a payload file instead of generating payload inline"
      ]
    },
    {
      "cell_type": "code",
      "execution_count": null,
      "metadata": {
        "id": "0fc2e930ecdb"
      },
      "outputs": [],
      "source": [
        "# initialize service client\n",
        "client_options = {\"api_endpoint\": f\"{REGION}-aiplatform.googleapis.com\"}\n",
        "prediction_client = gapic.PredictionServiceClient(client_options=client_options)\n",
        "\n",
        "payload_file = \"payload_ensemble.json\""
      ]
    },
    {
      "cell_type": "code",
      "execution_count": null,
      "metadata": {
        "id": "2102aa4b8a97"
      },
      "outputs": [],
      "source": [
        "%%bash -s $payload_file\n",
        "\n",
        "payload_file=$1\n",
        "echo \"Writing $payload_file\"\n",
        "\n",
        "cat <<EOF > $payload_file\n",
        "{\"id\": \"0\", \"inputs\": [{\"name\": \"INPUT0\", \"shape\": [1, 4], \"datatype\": \"FP32\", \"parameters\": {}, \"data\": [0.6060078144073486, 0.2473181188106537, 0.5559595227241516, 0.8552274703979492]}]}\n",
        "EOF"
      ]
    },
    {
      "cell_type": "markdown",
      "metadata": {
        "id": "77966cc1685f"
      },
      "source": [
        "#### Format the http request"
      ]
    },
    {
      "cell_type": "code",
      "execution_count": null,
      "metadata": {
        "id": "c97b1200e22f"
      },
      "outputs": [],
      "source": [
        "# format payload\n",
        "http_body = httpbody_pb2.HttpBody(\n",
        "    data=open(payload_file).read().encode(\"utf-8\"),\n",
        "    content_type=\"application/json\",\n",
        ")\n",
        "\n",
        "print(http_body)\n",
        "\n",
        "# Initialize request argument(s)\n",
        "request = gapic.RawPredictRequest(endpoint=endpoint_name, http_body=http_body)"
      ]
    },
    {
      "cell_type": "markdown",
      "metadata": {
        "id": "395a2836a569"
      },
      "source": [
        "**Make the prediction request**"
      ]
    },
    {
      "cell_type": "code",
      "execution_count": null,
      "metadata": {
        "id": "7fc337a9f7be"
      },
      "outputs": [],
      "source": [
        "# Make the prediction request\n",
        "response = prediction_client.raw_predict(request=request)\n",
        "result = json.loads(response.data)\n",
        "\n",
        "print(result)"
      ]
    },
    {
      "cell_type": "markdown",
      "metadata": {
        "id": "6cf44dd9e744"
      },
      "source": [
        "### Making `curl` request to get prediction response\n",
        "\n",
        "Notice the use of `rawPredict` API endpoint in the URI below"
      ]
    },
    {
      "cell_type": "code",
      "execution_count": null,
      "metadata": {
        "id": "31f15c9b6fe5"
      },
      "outputs": [],
      "source": [
        "endpoint_uri = f\"https://{REGION}-aiplatform.googleapis.com/v1/projects/{PROJECT_ID}/locations/{REGION}/endpoints/{endpoint.name}:rawPredict\""
      ]
    },
    {
      "cell_type": "markdown",
      "metadata": {
        "id": "c15b112bf855"
      },
      "source": [
        "Create payload specific for TensorFlow model instead of default ensemble model"
      ]
    },
    {
      "cell_type": "code",
      "execution_count": null,
      "metadata": {
        "id": "b7e61dfdfbe7"
      },
      "outputs": [],
      "source": [
        "%%bash\n",
        "\n",
        "echo \"Writing payload for TensorFlow model\"\n",
        "\n",
        "cat <<EOF > payload_tf.json\n",
        "{\"id\": \"0\", \"inputs\": [{\"name\": \"dense_input\", \"shape\": [1, 4], \"datatype\": \"FP32\", \"parameters\": {}, \"data\": [0.3097294569015503, 0.5998961329460144, 0.09703510254621506, 0.11341036856174469], \"raw_data\": null}]}\n",
        "EOF"
      ]
    },
    {
      "cell_type": "markdown",
      "metadata": {
        "id": "342a67a5ed52"
      },
      "source": [
        "Add additional header to infer from TensorFlow model instead of default model (multiple models were deployed on the endpoint)"
      ]
    },
    {
      "cell_type": "code",
      "execution_count": null,
      "metadata": {
        "id": "dbfbee893d35"
      },
      "outputs": [],
      "source": [
        "! curl -X POST \\\n",
        "   -H \"Authorization: Bearer $(gcloud auth print-access-token)\" \\\n",
        "   -H \"Content-Type: application/json\"  \\\n",
        "   -H \"Accept: */*\" \\\n",
        "   -H \"X-Vertex-Ai-Triton-Redirect: v2/models/tf/infer\" \\\n",
        "   $endpoint_uri \\\n",
        "   -d @payload_tf.json"
      ]
    },
    {
      "cell_type": "markdown",
      "metadata": {
        "id": "f898a2c7a826"
      },
      "source": [
        "## Cleaning up \n",
        "\n",
        "### Cleaning up training and deployment resources\n",
        "\n",
        "To clean up all Google Cloud resources used in this notebook, you can [delete the Google Cloud project](https://cloud.google.com/resource-manager/docs/creating-managing-projects#shutting_down_projects) you used for the tutorial.\n",
        "\n",
        "Otherwise, you can delete the individual resources you created in this tutorial:\n",
        "\n",
        "- Model\n",
        "- Endpoint\n",
        "- Cloud Storage Bucket\n",
        "- Container Images"
      ]
    },
    {
      "cell_type": "code",
      "execution_count": null,
      "metadata": {
        "id": "9f483a2db5d9"
      },
      "outputs": [],
      "source": [
        "delete_endpoint = True\n",
        "delete_model = True\n",
        "delete_bucket = False\n",
        "delete_image = True\n",
        "\n",
        "# Delete the endpoint using the Vertex AI fully qualified identifier for the endpoint\n",
        "try:\n",
        "    if delete_endpoint or os.getenv(\"IS_TESTING\"):\n",
        "        # get endpoint resource\n",
        "        endpoints = aip.Endpoint.list(\n",
        "            filter=f\"display_name={ENDPOINT_DISPLAY_NAME}\", order_by=\"create_time\"\n",
        "        )\n",
        "        endpoint = endpoints[0]\n",
        "        # undeploy models from the endpoint\n",
        "        print(\n",
        "            f\"Undeploying all deployed models from the endpoint {endpoint.display_name} [{endpoint._gca_resource.name}]\"\n",
        "        )\n",
        "        endpoint.undeploy_all(sync=True)\n",
        "        # deleting endpoint\n",
        "        print(\n",
        "            f\"Deleting endpoint {endpoint.display_name} [{endpoint._gca_resource.name}]\"\n",
        "        )\n",
        "        aip.Endpoint.delete(endpoint)\n",
        "        print(f\"Deleted endpoint {endpoint.display_name}\")\n",
        "except Exception as e:\n",
        "    print(e)"
      ]
    },
    {
      "cell_type": "markdown",
      "metadata": {
        "id": "d6498adbdb04"
      },
      "source": [
        "#### **Deleting models**"
      ]
    },
    {
      "cell_type": "code",
      "execution_count": null,
      "metadata": {
        "id": "858a7e25dac9"
      },
      "outputs": [],
      "source": [
        "# Delete the model using the Vertex AI fully qualified identifier for the model\n",
        "try:\n",
        "    if delete_model or os.getenv(\"IS_TESTING\"):\n",
        "        # get model resource\n",
        "        models = aip.Model.list(\n",
        "            filter=f\"display_name={MODEL_DISPLAY_NAME}\", order_by=\"create_time\"\n",
        "        )\n",
        "        for model in models:\n",
        "            # deleting model\n",
        "            print(f\"Deleting model {model.display_name} [{model._gca_resource.name}]\")\n",
        "            aip.Model.delete(model)\n",
        "            print(f\"Deleted model {model.display_name}\")\n",
        "except Exception as e:\n",
        "    print(e)"
      ]
    },
    {
      "cell_type": "markdown",
      "metadata": {
        "id": "63525ba98cd6"
      },
      "source": [
        "#### **Delete contents from the staging bucket**\n",
        "\n",
        "---\n",
        "\n",
        "***NOTE: Everything in this Cloud Storage bucket will be DELETED. Please run it with caution.***\n",
        "\n",
        "---"
      ]
    },
    {
      "cell_type": "code",
      "execution_count": null,
      "metadata": {
        "id": "f25c0aaa1d66"
      },
      "outputs": [],
      "source": [
        "if delete_bucket or os.getenv(\"IS_TESTING\"):\n",
        "    ! gsutil rm -r $BUCKET_NAME\n",
        "    \n",
        "rm -f Dockerfile payload_*.json"
      ]
    },
    {
      "cell_type": "markdown",
      "metadata": {
        "id": "c1685fb4374b"
      },
      "source": [
        "#### **Delete images from Artifact Registry**\n",
        "\n",
        "Deletes all the container images created in this tutorial with name defined by variable `IMAGE_NAME` from the registry. All associated tags are also deleted."
      ]
    },
    {
      "cell_type": "code",
      "execution_count": null,
      "metadata": {
        "id": "17eea976bc97"
      },
      "outputs": [],
      "source": [
        "gar_images = ! gcloud artifacts docker images list $REGION-docker.pkg.dev/$PROJECT_ID/$DOCKER_ARTIFACT_REPO \\\n",
        "      --filter=\"package~\"$(echo $IMAGE_NAME | sed 's/:.*//') \\\n",
        "      --format=\"get(package)\"\n",
        "\n",
        "try:\n",
        "    if delete_image or os.getenv(\"IS_TESTING\"):\n",
        "        for image in gar_images:\n",
        "            # delete only if image name starts with valid region\n",
        "            if image.startswith(f'{REGION}-docker.pkg.dev'):\n",
        "                print(f\"Deleting image {image} including all tags\")\n",
        "                ! gcloud artifacts docker images delete $image --delete-tags --quiet\n",
        "except Exception as e:\n",
        "    print(e)"
      ]
    },
    {
      "cell_type": "markdown",
      "metadata": {
        "id": "286d2c9d3dd5"
      },
      "source": [
        "### Cleaning up Notebook Environment\n",
        "\n",
        "After you are done experimenting, you can either [STOP](https://cloud.google.com/ai-platform/notebooks/docs/shut-down) or DELETE the AI Notebook instance to prevent any  charges. If you want to save your work, you can choose to stop the instance instead.\n",
        "\n",
        "```\n",
        "# Stopping Notebook instance\n",
        "gcloud notebooks instances stop example-instance --location=us-central1-a\n",
        "\n",
        "\n",
        "# Deleting Notebook instance\n",
        "gcloud notebooks instances delete example-instance --location=us-central1-a\n",
        "```"
      ]
    }
  ],
  "metadata": {
    "colab": {
      "name": "get_started_with_triton_ensemble.ipynb",
      "toc_visible": true
    },
    "kernelspec": {
      "display_name": "Python 3",
      "name": "python3"
    }
  },
  "nbformat": 4,
  "nbformat_minor": 0
}
