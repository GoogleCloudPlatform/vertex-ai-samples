{
  "cells": [
    {
      "cell_type": "code",
      "execution_count": null,
      "metadata": {
        "id": "zB_PYUGd7-ko"
      },
      "outputs": [],
      "source": [
        "# Copyright 2022 Google LLC\n",
        "#\n",
        "# Licensed under the Apache License, Version 2.0 (the \"License\");\n",
        "# you may not use this file except in compliance with the License.\n",
        "# You may obtain a copy of the License at\n",
        "#\n",
        "#     https://www.apache.org/licenses/LICENSE-2.0\n",
        "#\n",
        "# Unless required by applicable law or agreed to in writing, software\n",
        "# distributed under the License is distributed on an \"AS IS\" BASIS,\n",
        "# WITHOUT WARRANTIES OR CONDITIONS OF ANY KIND, either express or implied.\n",
        "# See the License for the specific language governing permissions and\n",
        "# limitations under the License."
      ]
    },
    {
      "cell_type": "markdown",
      "metadata": {
        "id": "3bcfa29cc2be"
      },
      "source": [
        "<table align=\"left\">\n",
        "\n",
        "  <td>\n",
        "    <a href=\"https://colab.research.google.com/github/GoogleCloudPlatform/vertex-ai-samples/blob/master/notebooks/community/vertex_endpoints/find_ideal_machine_type/find_ideal_machine_type.ipynb\"\">\n",
        "      <img src=\"https://cloud.google.com/ml-engine/images/colab-logo-32px.png\" alt=\"Colab logo\"> Run in Colab\n",
        "    </a>\n",
        "  </td>\n",
        "  <td>\n",
        "    <a href=\"https://github.com/GoogleCloudPlatform/vertex-ai-samples/blob/master/notebooks/community/vertex_endpoints/find_ideal_machine_type/find_ideal_machine_type.ipynb\">\n",
        "      <img src=\"https://cloud.google.com/ml-engine/images/github-logo-32px.png\" alt=\"GitHub logo\">\n",
        "      View on GitHub\n",
        "    </a>\n",
        "  </td>\n",
        "  <td>\n",
        "    <a href=\"https://console.cloud.google.com/vertex-ai/notebooks/deploy-notebook?download_url=https://github.com/GoogleCloudPlatform/vertex-ai-samples/blob/master/notebooks/community/vertex_endpoints/find_ideal_machine_type/find_ideal_machine_type.ipynb\"\n",
        "      <img src=\"https://cloud.google.com/images/products/ai/ai-solutions-icon.svg\" alt=\"Vertex AI Workbench notebook\"> Open in Vertex AI Workbench\n",
        "    </a>\n",
        "  </td> \n",
        "</table>"
      ]
    },
    {
      "cell_type": "markdown",
      "metadata": {
        "id": "nmDKdOFh8Ko8"
      },
      "source": [
        "# Determining the ideal machine type to use for Vertex AI endpoints"
      ]
    },
    {
      "cell_type": "markdown",
      "metadata": {
        "id": "FTe0sT1p8SHy"
      },
      "source": [
        "## Overview\n",
        "This tutorial demonstrates how to determine the ideal machine type for your machine learning model based on cost and performance requirements.\n",
        "\n",
        "More details about best practices can be found [here](https://cloud.google.com/vertex-ai/docs/predictions/configure-compute#finding_the_ideal_machine_type)"
      ]
    },
    {
      "cell_type": "markdown",
      "metadata": {
        "id": "c8OldBdp8VeZ"
      },
      "source": [
        "## Model\n",
        "The model used for this tutorial is `BERT` from [TensorFlow Hub open source model repository](https://tfhub.dev/tensorflow/bert_en_uncased_L-12_H-768_A-12/4)"
      ]
    },
    {
      "cell_type": "markdown",
      "metadata": {
        "id": "DU7F8BCg8WgZ"
      },
      "source": [
        "## Objective\n",
        "\n",
        "The steps performed include:\n",
        "- Create a workbench notebook with a machine type that is being tested.\n",
        "- Download the model from TensorFlow Hub.\n",
        "- Create a local model and deploy it to a local endpoint.\n",
        "- Benchmark the model latencies.\n",
        "- Clean up."
      ]
    },
    {
      "cell_type": "markdown",
      "metadata": {
        "id": "KT8PQtz68aRa"
      },
      "source": [
        "## Costs\n",
        "This tutorial uses billable components of Google Cloud:\n",
        "- Vertex AI\n",
        "- Cloud Storage\n",
        "\n",
        "Learn about [Vertex AI pricing](https://cloud.google.com/vertex-ai/pricing) and [Cloud Storage pricing](https://cloud.google.com/storage/pricing), and use the [Pricing Calculator](https://cloud.google.com/products/calculator/) to generate a cost estimate based on your projected usage."
      ]
    },
    {
      "cell_type": "markdown",
      "metadata": {
        "id": "Peg2Bwy_v2fe"
      },
      "source": [
        "## Before you begin\n",
        "\n",
        "### Set up your Google Cloud project\n",
        "\n",
        "**The following steps are required, regardless of your notebook environment.**\n",
        "\n",
        "1. [Select or create a Google Cloud project](https://console.cloud.google.com/cloud-resource-manager). When you first create an account, you get a $300 free credit towards your compute/storage costs.\n",
        "\n",
        "2. [Make sure that billing is enabled for your project](https://cloud.google.com/billing/docs/how-to/modify-project).\n",
        "\n",
        "3. [Enable the Vertex AI API](https://console.cloud.google.com/flows/enableapi?apiid=aiplatform.googleapis.com).\n",
        "\n",
        "4. If you are running this notebook locally, you will need to install the [Cloud SDK](https://cloud.google.com/sdk).\n",
        "\n",
        "5. Enter your project ID in the cell below. Then run the cell to make sure the\n",
        "Cloud SDK uses the right project for all the commands in this notebook.\n",
        "\n",
        "**Note**: Jupyter runs lines prefixed with `!` as shell commands, and it interpolates Python variables prefixed with `$` into these commands."
      ]
    },
    {
      "cell_type": "markdown",
      "metadata": {
        "id": "1NRbJL7iwTwm"
      },
      "source": [
        "#### Set your project ID\n",
        "\n",
        "**If you don't know your project ID**, you might be able to get your project ID using `gcloud`."
      ]
    },
    {
      "cell_type": "code",
      "execution_count": null,
      "metadata": {
        "id": "jVrtnNtuwOgv"
      },
      "outputs": [],
      "source": [
        "import os\n",
        "\n",
        "PROJECT_ID = \"\"\n",
        "\n",
        "if not os.getenv(\"IS_TESTING\"):\n",
        "    # Get your Google Cloud project ID from gcloud\n",
        "    shell_output = !gcloud config list --format 'value(core.project)' 2>/dev/null\n",
        "    PROJECT_ID = shell_output[0]\n",
        "    print(\"Project ID: \", PROJECT_ID)"
      ]
    },
    {
      "cell_type": "markdown",
      "metadata": {
        "id": "yHaNeGniwQwf"
      },
      "source": [
        "Otherwise, set your project ID here."
      ]
    },
    {
      "cell_type": "code",
      "execution_count": null,
      "metadata": {
        "id": "7wU5w8-WwakX"
      },
      "outputs": [],
      "source": [
        "if PROJECT_ID == \"\" or PROJECT_ID is None:\n",
        "    PROJECT_ID = \"\"  # @param {type:\"string\"}"
      ]
    },
    {
      "cell_type": "markdown",
      "metadata": {
        "id": "R3YQn1FNv7I9"
      },
      "source": [
        "#### Timestamp\n",
        "\n",
        "If you are in a live tutorial session, you might be using a shared test account or project. To avoid name collisions between users on resources created, create a timestamp for each instance session, and append it onto the name of resources you create in this tutorial."
      ]
    },
    {
      "cell_type": "code",
      "execution_count": null,
      "metadata": {
        "id": "TU_3QS-Rwk0v"
      },
      "outputs": [],
      "source": [
        "from datetime import datetime\n",
        "\n",
        "TIMESTAMP = datetime.now().strftime(\"%Y%m%d%H%M%S\")"
      ]
    },
    {
      "cell_type": "markdown",
      "metadata": {
        "id": "VlLFGqlov_Ht"
      },
      "source": [
        "### Authenticate your Google Cloud account\n",
        "\n",
        "**If you are using Google Cloud Notebooks**, your environment is already\n",
        "authenticated. Skip this step.\n",
        "\n",
        "**If you are using Colab**, run the cell below and follow the instructions\n",
        "when prompted to authenticate your account via oAuth.\n",
        "\n",
        "**Otherwise**, follow these steps:\n",
        "\n",
        "1. In the Cloud Console, go to the [**Create service account key**\n",
        "   page](https://console.cloud.google.com/apis/credentials/serviceaccountkey).\n",
        "\n",
        "2. Click **Create service account**.\n",
        "\n",
        "3. In the **Service account name** field, enter a name, and\n",
        "   click **Create**.\n",
        "\n",
        "4. In the **Grant this service account access to project** section, click the **Role** drop-down list. Type \"Vertex AI\"\n",
        "into the filter box, and select\n",
        "   **Vertex AI Administrator**. Type \"Storage Object Admin\" into the filter box, and select **Storage Object Admin**.\n",
        "\n",
        "5. Click *Create*. A JSON file that contains your key downloads to your\n",
        "local environment.\n",
        "\n",
        "6. Enter the path to your service account key as the\n",
        "`GOOGLE_APPLICATION_CREDENTIALS` variable in the cell below and run the cell."
      ]
    },
    {
      "cell_type": "code",
      "execution_count": null,
      "metadata": {
        "id": "EBTUnqS1wqHo"
      },
      "outputs": [],
      "source": [
        "import os\n",
        "import sys\n",
        "\n",
        "# If you are running this notebook in Colab, run this cell and follow the\n",
        "# instructions to authenticate your GCP account. This provides access to your\n",
        "# Cloud Storage bucket and lets you submit training jobs and prediction\n",
        "# requests.\n",
        "\n",
        "# The Google Cloud Notebook product has specific requirements\n",
        "IS_GOOGLE_CLOUD_NOTEBOOK = os.path.exists(\"/opt/deeplearning/metadata/env_version\")\n",
        "\n",
        "# If on Google Cloud Notebooks, then don't execute this code\n",
        "if not IS_GOOGLE_CLOUD_NOTEBOOK:\n",
        "    if \"google.colab\" in sys.modules:\n",
        "        from google.colab import auth as google_auth\n",
        "\n",
        "        google_auth.authenticate_user()\n",
        "\n",
        "    # If you are running this notebook locally, replace the string below with the\n",
        "    # path to your service account key and run this cell to authenticate your GCP\n",
        "    # account.\n",
        "    elif not os.getenv(\"IS_TESTING\"):\n",
        "        %env GOOGLE_APPLICATION_CREDENTIALS ''"
      ]
    },
    {
      "cell_type": "markdown",
      "metadata": {
        "id": "wPrx2LnU8vFU"
      },
      "source": [
        "### Create a Cloud Storage bucket\n",
        "\n",
        "**The following steps are required, regardless of your notebook environment.**\n",
        "\n",
        "You first upload the model files to a Cloud Storage bucket. Using this model artifact, you can then\n",
        "create Vertex AI model and endpoint resources in order to serve\n",
        "online predictions.\n",
        "\n",
        "Set the name of your Cloud Storage bucket below. It must be unique across all\n",
        "Cloud Storage buckets.\n",
        "\n",
        "You may also change the `REGION` variable, which is used for operations\n",
        "throughout the rest of this notebook. Make sure to [choose a region where Vertex AI services are\n",
        "available](https://cloud.google.com/vertex-ai/docs/general/locations#available_regions). You may\n",
        "not use a Multi-Regional Storage bucket for training with Vertex AI."
      ]
    },
    {
      "cell_type": "code",
      "execution_count": null,
      "metadata": {
        "id": "ef0nYMRKxvDV"
      },
      "outputs": [],
      "source": [
        "BUCKET_NAME = \"\"  # @param {type:\"string\"}\n",
        "REGION = \"us-central1\"  # @param {type:\"string\"}"
      ]
    },
    {
      "cell_type": "code",
      "execution_count": null,
      "metadata": {
        "id": "ti_79ErvxxeF"
      },
      "outputs": [],
      "source": [
        "if BUCKET_NAME == \"\" or BUCKET_NAME is None or BUCKET_NAME == \"gs://[your-bucket-name]\":\n",
        "    BUCKET_NAME = \"gs://\" + PROJECT_ID + \"aip-\" + TIMESTAMP"
      ]
    },
    {
      "cell_type": "code",
      "execution_count": null,
      "metadata": {
        "id": "Ig18nZMtmuGH"
      },
      "outputs": [],
      "source": [
        "print(BUCKET_NAME)"
      ]
    },
    {
      "cell_type": "markdown",
      "metadata": {
        "id": "TCZRfgA9x0Mz"
      },
      "source": [
        "**Only if your bucket doesn't already exist**: Run the following cell to create your Cloud Storage bucket."
      ]
    },
    {
      "cell_type": "code",
      "execution_count": null,
      "metadata": {
        "id": "gDX_aWtjxzSN"
      },
      "outputs": [],
      "source": [
        "! gsutil mb -p $PROJECT_ID -l $REGION $BUCKET_NAME"
      ]
    },
    {
      "cell_type": "markdown",
      "metadata": {
        "id": "n7IDVRdwx4hd"
      },
      "source": [
        "Finally, validate access to your Cloud Storage bucket by examining its contents:"
      ]
    },
    {
      "cell_type": "code",
      "execution_count": null,
      "metadata": {
        "id": "iA6Uqvqxx8Ls"
      },
      "outputs": [],
      "source": [
        "! gsutil ls -al $BUCKET_NAME"
      ]
    },
    {
      "cell_type": "markdown",
      "metadata": {
        "id": "cf3978e40b0c"
      },
      "source": [
        "### Create a Workbench Notebook\n",
        "\n",
        "You'll be using a Google Cloud Notebook to run load tests on a specific machine type to get a good idea of how your model will perform once it is running in a Vertex AI endpoint.\n",
        "\n",
        "Here we will be creating the notebook using `gcloud`, but you can also create it through the Google cloud console as explained [here](https://cloud.google.com/vertex-ai/docs/workbench/user-managed/create-new#before_you_begin)."
      ]
    },
    {
      "cell_type": "code",
      "execution_count": null,
      "metadata": {
        "id": "acac1efc5d72"
      },
      "outputs": [],
      "source": [
        "!gcloud notebooks instances create load-test-notebook \\\n",
        "--vm-image-project=\"deeplearning-platform-release\" \\\n",
        "--vm-image-name=\"common-cpu-notebooks-v20221017-debian-10\" \\\n",
        "--machine-type=\"n1-standard-8\" --project=$PROJECT_ID \\\n",
        "--location=us-central1-a"
      ]
    },
    {
      "cell_type": "markdown",
      "metadata": {
        "id": "bd08a0c3944e"
      },
      "source": [
        "### Open The Workbench Notebook\n",
        "\n",
        "Once the notebook is created, open the notebook. You'll be running the rest of the steps in the newly created notebook."
      ]
    },
    {
      "cell_type": "markdown",
      "metadata": {
        "id": "55cba005e3fd"
      },
      "source": [
        "### Install Vegeta\n",
        "\n",
        "Vegeta is a versatile HTTP load testing tool built out of a need to drill HTTP services with a constant request rate."
      ]
    },
    {
      "cell_type": "code",
      "execution_count": null,
      "metadata": {
        "id": "6189cc5f276a"
      },
      "outputs": [],
      "source": [
        "! wget https://github.com/tsenart/vegeta/releases/download/v12.8.4/vegeta_12.8.4_linux_amd64.tar.gz"
      ]
    },
    {
      "cell_type": "code",
      "execution_count": null,
      "metadata": {
        "id": "b18fb52391c3"
      },
      "outputs": [],
      "source": [
        "! tar -xvf vegeta_12.8.4_linux_amd64.tar.gz"
      ]
    },
    {
      "cell_type": "markdown",
      "metadata": {
        "id": "308be646d91c"
      },
      "source": [
        "### Install dependencies\n",
        "\n",
        "Install the python dependencies"
      ]
    },
    {
      "cell_type": "code",
      "execution_count": null,
      "metadata": {
        "id": "1b7e9e3f8985"
      },
      "outputs": [],
      "source": [
        "%%writefile requirements.txt\n",
        "google-cloud-aiplatform[prediction]>=1.16.0,<2.0.0\n",
        "matplotlib\n",
        "fastapi\n",
        "contexttimer\n",
        "tqdm"
      ]
    },
    {
      "cell_type": "code",
      "execution_count": null,
      "metadata": {
        "id": "b815283c6fcd"
      },
      "outputs": [],
      "source": [
        "%pip install -U --user -r requirements.txt"
      ]
    },
    {
      "cell_type": "markdown",
      "metadata": {
        "id": "me1llTRsyImc"
      },
      "source": [
        "### Download and extract the model"
      ]
    },
    {
      "cell_type": "code",
      "execution_count": null,
      "metadata": {
        "id": "_6dmPQqxzGZp"
      },
      "outputs": [],
      "source": [
        "! wget https://tfhub.dev/tensorflow/bert_en_uncased_L-12_H-768_A-12/4?tf-hub-format=compressed -O bert.tgz\n",
        "! mkdir -p bert_sentence_embedding/00001\n",
        "! tar -xvf bert.tgz -C bert_sentence_embedding/00001"
      ]
    },
    {
      "cell_type": "markdown",
      "metadata": {
        "id": "8b21a70079d9"
      },
      "source": [
        "### Set the bucket variable in the new notebook\n",
        "\n",
        "You created a bucket in a previous step. Because you are now working on a new notebook, you should re-set the bucket variable"
      ]
    },
    {
      "cell_type": "code",
      "execution_count": null,
      "metadata": {
        "id": "2efae3889325"
      },
      "outputs": [],
      "source": [
        "BUCKET_NAME = \"\"  # @param {type:\"string\"}"
      ]
    },
    {
      "cell_type": "markdown",
      "metadata": {
        "id": "324fa4e23dab"
      },
      "source": [
        "### Configuration\n",
        "\n",
        "In order to send requests to the endpoint, you'll create a dummy request body."
      ]
    },
    {
      "cell_type": "code",
      "execution_count": null,
      "metadata": {
        "id": "c862a456adb5"
      },
      "outputs": [],
      "source": [
        "# The gcs uri; remember to have a version folder under this link\n",
        "# For example, GCS_URI = \"gs://project/bucket/folder\"\n",
        "# the model should be put in \"gs://project/bucket/folder/1/saved_model.pb\".\n",
        "GCS_URI = f\"gs://{BUCKET_NAME}/bert_sentence_embedding\"\n",
        "REQUEST = \"\"\"\n",
        "{\n",
        "  \"instances\": [\n",
        "    {\n",
        "      \"input_word_ids\": [101, 23784, 11591, 11030, 24340, 21867, 21352, 21455, 20467, 10159, 23804, 10822, 26534, 20355, 14000, 11767, 10131, 28426, 10576, 22469, 22237, 25433, 263, 28636, 12291, 119, 15337, 10171, 25585, 21885, 10263, 13706, 16046, 10112, 18725, 13668, 12208, 10104, 13336, 102, 0, 0, 0, 0, 0, 0, 0, 0, 0, 0, 0, 0, 0, 0, 0, 0, 0, 0, 0, 0, 0, 0, 0, 0, 0, 0, 0, 0, 0, 0, 0, 0, 0, 0, 0, 0, 0, 0, 0, 0, 0, 0, 0, 0, 0, 0, 0, 0, 0, 0, 0, 0, 0, 0, 0, 0, 0, 0, 0, 0, 0, 0, 0, 0, 0, 0, 0, 0, 0, 0, 0, 0, 0, 0, 0, 0, 0, 0, 0, 0, 0, 0, 0, 0, 0, 0, 0, 0],\n",
        "      \"input_mask\": [1, 1, 1, 1, 1, 1, 1, 1, 1, 1, 1, 1, 1, 1, 1, 1, 1, 1, 1, 1, 1, 1, 1, 1, 1, 1, 1, 1, 1, 1, 1, 1, 1, 1, 1, 1, 1, 1, 1, 1, 0, 0, 0, 0, 0, 0, 0, 0, 0, 0, 0, 0, 0, 0, 0, 0, 0, 0, 0, 0, 0, 0, 0, 0, 0, 0, 0, 0, 0, 0, 0, 0, 0, 0, 0, 0, 0, 0, 0, 0, 0, 0, 0, 0, 0, 0, 0, 0, 0, 0, 0, 0, 0, 0, 0, 0, 0, 0, 0, 0, 0, 0, 0, 0, 0, 0, 0, 0, 0, 0, 0, 0, 0, 0, 0, 0, 0, 0, 0, 0, 0, 0, 0, 0, 0, 0, 0, 0],\n",
        "      \"input_type_ids\": [0, 0, 0, 0, 0, 0, 0, 0, 0, 0, 0, 0, 0, 0, 0, 0, 0, 0, 0, 0, 0, 0, 0, 0, 0, 0, 0, 0, 0, 0, 0, 0, 0, 0, 0, 0, 0, 0, 0, 0, 0, 0, 0, 0, 0, 0, 0, 0, 0, 0, 0, 0, 0, 0, 0, 0, 0, 0, 0, 0, 0, 0, 0, 0, 0, 0, 0, 0, 0, 0, 0, 0, 0, 0, 0, 0, 0, 0, 0, 0, 0, 0, 0, 0, 0, 0, 0, 0, 0, 0, 0, 0, 0, 0, 0, 0, 0, 0, 0, 0, 0, 0, 0, 0, 0, 0, 0, 0, 0, 0, 0, 0, 0, 0, 0, 0, 0, 0, 0, 0, 0, 0, 0, 0, 0, 0, 0, 0]\n",
        "    }\n",
        "  ]\n",
        "}\n",
        "\"\"\""
      ]
    },
    {
      "cell_type": "code",
      "execution_count": null,
      "metadata": {
        "id": "8eed897f11df"
      },
      "outputs": [],
      "source": [
        "!echo $GCS_URI"
      ]
    },
    {
      "cell_type": "markdown",
      "metadata": {
        "id": "0e1f4fc0c7b6"
      },
      "source": [
        "### Copy model to GCS bucket"
      ]
    },
    {
      "cell_type": "code",
      "execution_count": null,
      "metadata": {
        "id": "392ae29f9285"
      },
      "outputs": [],
      "source": [
        "!sudo gsutil cp -r ./bert_sentence_embedding/00001/* $GCS_URI/1/"
      ]
    },
    {
      "cell_type": "markdown",
      "metadata": {
        "id": "cf1d35fd7dba"
      },
      "source": [
        "### Logging\n",
        "Turn on logging to see the logs of the model"
      ]
    },
    {
      "cell_type": "code",
      "execution_count": null,
      "metadata": {
        "id": "60d2cd206419"
      },
      "outputs": [],
      "source": [
        "import logging\n",
        "\n",
        "logging.basicConfig(level=logging.INFO)"
      ]
    },
    {
      "cell_type": "markdown",
      "metadata": {
        "id": "17fed206bc47"
      },
      "source": [
        "## Sequential requests\n",
        "\n",
        "This tests what the latency (and, potentially, utilization), when the server is serving\n",
        "at most 1 request at a time, back-to-back. You can use this information to estimate how\n",
        "many QPS a single replica can handle as a starting point for your configuration."
      ]
    },
    {
      "cell_type": "markdown",
      "metadata": {
        "id": "11a949c70643"
      },
      "source": [
        "### Monkey patch LocalModel to provide cleaner syntax..."
      ]
    },
    {
      "cell_type": "code",
      "execution_count": null,
      "metadata": {
        "id": "0868520f8877"
      },
      "outputs": [],
      "source": [
        "from google.cloud.aiplatform.prediction import LocalModel\n",
        "\n",
        "\n",
        "@classmethod\n",
        "def create_tensorflow2(\n",
        "    cls, version: str, saved_model_path: str, includes_version_subdir: bool = True\n",
        ") -> LocalModel:\n",
        "    version = version.replace(\".\", \"-\")\n",
        "    return cls(\n",
        "        serving_container_image_uri=f\"us-docker.pkg.dev/vertex-ai/prediction/tf2-gpu.{version}:latest\",\n",
        "        serving_container_predict_route=\"/v1/models/default:predict\",\n",
        "        serving_container_health_route=\"/v1/models/default\",\n",
        "        serving_container_ports=[8501],\n",
        "        serving_container_environment_variables={\n",
        "            \"model_name\": \"default\",\n",
        "            \"model_path\": saved_model_path,\n",
        "        },\n",
        "    )\n",
        "\n",
        "\n",
        "LocalModel.create_tensorflow2 = create_tensorflow2\n",
        "\n",
        "\n",
        "@classmethod\n",
        "def create_pytorch(cls, version: str) -> LocalModel:\n",
        "    version = version.replace(\".\", \"-\")\n",
        "    return LocalModel(\n",
        "        serving_container_image_uri=\"us-docker.pkg.dev/vertex-ai/prediction/pytorch-gpu.{version}:latest\",\n",
        "        serving_container_predict_route=\"/predictions/model\",\n",
        "        serving_container_health_route=\"/ping\",\n",
        "        serving_container_ports=[8080],\n",
        "    )\n",
        "\n",
        "\n",
        "LocalModel.create_pytorch = create_pytorch"
      ]
    },
    {
      "cell_type": "markdown",
      "metadata": {
        "id": "792144166f54"
      },
      "source": [
        "### Create the LocalModel and deploy it to a LocalEndpoint."
      ]
    },
    {
      "cell_type": "code",
      "execution_count": null,
      "metadata": {
        "id": "5bd8fe59c778"
      },
      "outputs": [],
      "source": [
        "from google.cloud.aiplatform.prediction import LocalModel\n",
        "\n",
        "local_model = LocalModel.create_tensorflow2(version=\"2.7\", saved_model_path=GCS_URI)"
      ]
    },
    {
      "cell_type": "code",
      "execution_count": null,
      "metadata": {
        "id": "d95eab87becb"
      },
      "outputs": [],
      "source": [
        "import os.path\n",
        "\n",
        "GPU_COUNT = 1 if os.path.exists(\"/dev/nvidia0\") else None\n",
        "print(GPU_COUNT)"
      ]
    },
    {
      "cell_type": "code",
      "execution_count": null,
      "metadata": {
        "id": "c4f664318f9a"
      },
      "outputs": [],
      "source": [
        "from contexttimer import Timer\n",
        "\n",
        "with Timer() as timer:\n",
        "    local_endpoint = local_model.deploy_to_local_endpoint(\n",
        "        gpu_count=GPU_COUNT,\n",
        "    )\n",
        "    local_endpoint.serve()\n",
        "\n",
        "# Actual startup time involves more than just loading the container and model, but still\n",
        "# a useful number:\n",
        "print(f\"Startup time: {timer.elapsed}\")"
      ]
    },
    {
      "cell_type": "markdown",
      "metadata": {
        "id": "edd0744e993a"
      },
      "source": [
        "### Send sequential requests\n",
        "You'll send multiple requests to the local endpoint and collect latency metrics which will give you a good idea of how the model will perform in production with the selected machine type. You'll visualize these results and get the mean latency in milliseconds. \n",
        "\n",
        "Because this is a transformer model, it will run slow on CPUs and would ideally be running using GPUs."
      ]
    },
    {
      "cell_type": "code",
      "execution_count": null,
      "metadata": {
        "id": "e5ced2a0912c"
      },
      "outputs": [],
      "source": [
        "WARMUP_REQUESTS = 10\n",
        "NUM_REQUESTS = 100\n",
        "PERCENTILE_POINTS = [0, 50, 95, 99, 100]\n",
        "LABELS = [\"min\", \"50\", \"95\", \"99\", \"max\"]\n",
        "\n",
        "import numpy as np\n",
        "from contexttimer import Timer\n",
        "from tqdm import tqdm\n",
        "\n",
        "# Send some warm up requests\n",
        "for _ in tqdm(range(WARMUP_REQUESTS), desc=\"Sending warm-up requests\"):\n",
        "    local_endpoint.predict(\n",
        "        request=REQUEST, headers={\"Content-Type\": \"application/json\"}\n",
        "    )\n",
        "\n",
        "# Send sequential requests\n",
        "latencies = []\n",
        "for _ in tqdm(range(NUM_REQUESTS), desc=\"Sending requests\"):\n",
        "    with Timer(factor=1000) as timer:\n",
        "        local_endpoint.predict(\n",
        "            request=REQUEST, headers={\"Content-Type\": \"application/json\"}\n",
        "        )\n",
        "    latencies.append(timer.elapsed)\n",
        "\n",
        "percentiles = np.percentile(latencies, PERCENTILE_POINTS)"
      ]
    },
    {
      "cell_type": "code",
      "execution_count": null,
      "metadata": {
        "id": "2f833fbfa940"
      },
      "outputs": [],
      "source": [
        "from matplotlib import pyplot as plt\n",
        "\n",
        "plt.hist(latencies, bins=50, density=True)\n",
        "plt.xlabel(\"Latency (ms)\")\n",
        "plt.show()\n",
        "\n",
        "for p, v in zip([\"min\", \"50\", \"95\", \"99\", \"max\"], percentiles):\n",
        "    print(f\"{p}: {v:0.1f}\")\n",
        "\n",
        "print(f\"mean: {np.average(latencies):0.1f}\")"
      ]
    },
    {
      "cell_type": "markdown",
      "metadata": {
        "id": "2bcd27ced3eb"
      },
      "source": [
        "### Send concurrent requests\n",
        "\n",
        "The exercise above provides a good benchmark for per request latency, but it is not indicative of how the model will perform in production when there are concurrent requests. For example, latencies might degrade when the machine's resources are exhausted. To find an idea machine type that can handle multiple concurrent requests effectively, we'll use `vegeta`."
      ]
    },
    {
      "cell_type": "code",
      "execution_count": null,
      "metadata": {
        "id": "9fb3ff0c341c"
      },
      "outputs": [],
      "source": [
        "BATCH_SIZE = 1\n",
        "REQUEST_FILE = \"request.json\"\n",
        "\n",
        "import json\n",
        "\n",
        "instance = json.loads(REQUEST)[\"instances\"][0]\n",
        "# Row-based encoding\n",
        "with open(REQUEST_FILE, \"w\") as f:\n",
        "    json.dump({\"instances\": [instance] * BATCH_SIZE}, f)\n",
        "\n",
        "# Column-based encoding (more efficient for some models)\n",
        "inputs = {feature: [values] * BATCH_SIZE for feature, values in instance.items()}\n",
        "with open(\"request_cols.json\", \"w\") as f:\n",
        "    json.dump({\"inputs\": inputs}, f)"
      ]
    },
    {
      "cell_type": "code",
      "execution_count": null,
      "metadata": {
        "id": "a010689ecd0d"
      },
      "outputs": [],
      "source": [
        "URL = f\"http://localhost:{local_endpoint.assigned_host_port}{local_endpoint.serving_container_predict_route}\"\n",
        "URL"
      ]
    },
    {
      "cell_type": "code",
      "execution_count": null,
      "metadata": {
        "id": "046bcb10d578"
      },
      "outputs": [],
      "source": [
        "!curl http://localhost:{local_endpoint.assigned_host_port}{local_endpoint.serving_container_health_route}"
      ]
    },
    {
      "cell_type": "code",
      "execution_count": null,
      "metadata": {
        "id": "00c79b9c8145"
      },
      "outputs": [],
      "source": [
        "!curl -X POST http://localhost:{local_endpoint.assigned_host_port}{local_endpoint.serving_container_predict_route} -d @request.json"
      ]
    },
    {
      "cell_type": "code",
      "execution_count": null,
      "metadata": {
        "id": "33002019b35c"
      },
      "outputs": [],
      "source": [
        "DURATION = \"100s\"\n",
        "\n",
        "! for i in 1 2 3 4; do \\\n",
        "    echo \"POST {URL}\" | \\\n",
        "   ./vegeta attack -header \"Content-Type: application/json\" -body {REQUEST_FILE} -rate ${{i}} -duration {DURATION} | \\\n",
        "   tee report-${{i}}.bin | \\\n",
        "   ./vegeta report --every=60s; \\\n",
        "  done"
      ]
    },
    {
      "cell_type": "code",
      "execution_count": null,
      "metadata": {
        "id": "564f15310d42"
      },
      "outputs": [],
      "source": [
        "! for f in `ls *.bin`; do \\\n",
        "    ./vegeta report --type=json ${{f}} > ${{f}}.json; \\\n",
        "  done"
      ]
    },
    {
      "cell_type": "code",
      "execution_count": null,
      "metadata": {
        "id": "506fac26a3fd"
      },
      "outputs": [],
      "source": [
        "import glob\n",
        "import json\n",
        "import re\n",
        "\n",
        "throughput, p99, avg = {}, {}, {}\n",
        "for fn in glob.glob(\"report-*.bin.json\"):\n",
        "    with open(fn) as f:\n",
        "        data = json.load(f)\n",
        "    qps = int(re.search(r\"report-(\\d+).bin.json\", fn).group(1))\n",
        "    throughput[qps] = data[\"throughput\"]\n",
        "    p99[qps] = data[\"latencies\"][\"99th\"] / 1000000\n",
        "    avg[qps] = data[\"latencies\"][\"mean\"] / 1000000"
      ]
    },
    {
      "cell_type": "code",
      "execution_count": null,
      "metadata": {
        "id": "1940fa5f23df"
      },
      "outputs": [],
      "source": [
        "import matplotlib.pyplot as plt\n",
        "\n",
        "points = sorted(p99.items(), key=lambda item: item[0])\n",
        "x, y = zip(*points)\n",
        "plt.plot(x, y, \"-o\")\n",
        "plt.xlabel(\"Target QPS\")\n",
        "plt.ylabel(\"P99 Latency (ms)\")\n",
        "plt.show()"
      ]
    },
    {
      "cell_type": "code",
      "execution_count": null,
      "metadata": {
        "id": "7a7f0a0ca552"
      },
      "outputs": [],
      "source": [
        "import matplotlib.pyplot as plt\n",
        "\n",
        "points = sorted(throughput.items(), key=lambda item: item[0])\n",
        "x, y = zip(*points)\n",
        "plt.plot(x, y, \"-o\")\n",
        "plt.xlabel(\"Target QPS\")\n",
        "plt.ylabel(\"Actual QPS\")\n",
        "plt.show()"
      ]
    },
    {
      "cell_type": "code",
      "execution_count": null,
      "metadata": {
        "id": "84886940cac3"
      },
      "outputs": [],
      "source": [
        "import matplotlib.pyplot as plt\n",
        "\n",
        "points = sorted(avg.items(), key=lambda item: item[0])\n",
        "x, y = zip(*points)\n",
        "plt.plot(x, y, \"-o\")\n",
        "plt.xlabel(\"Target QPS\")\n",
        "plt.ylabel(\"Average Latency (ms)\")\n",
        "plt.show()"
      ]
    },
    {
      "cell_type": "markdown",
      "metadata": {
        "id": "21fe816f4490"
      },
      "source": [
        "We can estimate the number of concurrent requests that a single replica can handle:\n",
        "\n",
        "$num\\_concurrent\\_requests = \\frac{qps}{avg\\_latency_{qps}}$"
      ]
    },
    {
      "cell_type": "code",
      "execution_count": null,
      "metadata": {
        "id": "7319ff6f1223"
      },
      "outputs": [],
      "source": [
        "QPS = 2\n",
        "\n",
        "num_concurrent_requests = QPS / avg[QPS]\n",
        "num_concurrent_requests"
      ]
    },
    {
      "cell_type": "markdown",
      "metadata": {
        "id": "f61ec29124cd"
      },
      "source": [
        "#### As you can see, this model would not perform well using this type of machine type. Try different machine type configurations or add a GPU to see how results change."
      ]
    },
    {
      "cell_type": "markdown",
      "metadata": {
        "id": "8c83b5cf6819"
      },
      "source": [
        "## Cleaning up\n",
        "\n",
        "To clean up all Google Cloud resources used in this project, you can [delete the Google Cloud\n",
        "project](https://cloud.google.com/resource-manager/docs/creating-managing-projects#shutting_down_projects) you used for the tutorial.\n",
        "\n",
        "Otherwise, you can delete the individual resources you created in this tutorial."
      ]
    },
    {
      "cell_type": "code",
      "execution_count": null,
      "metadata": {
        "id": "aokup0x_ZiJK"
      },
      "outputs": [],
      "source": [
        "!gsutil rm -r $GCS_URI/*"
      ]
    },
    {
      "cell_type": "markdown",
      "metadata": {
        "id": "9a52cf30cea2"
      },
      "source": [
        "The following command will delete the workbench notebook instance used for testing. Save all your work before proceeding."
      ]
    },
    {
      "cell_type": "code",
      "execution_count": null,
      "metadata": {
        "id": "fbb241f715c2"
      },
      "outputs": [],
      "source": [
        "!gcloud notebooks instances delete load-test-notebook"
      ]
    }
  ],
  "metadata": {
    "colab": {
      "collapsed_sections": [],
      "name": "find_ideal_machine_type.ipynb",
      "toc_visible": true
    },
    "kernelspec": {
      "display_name": "Python 3",
      "name": "python3"
    }
  },
  "nbformat": 4,
  "nbformat_minor": 0
}
