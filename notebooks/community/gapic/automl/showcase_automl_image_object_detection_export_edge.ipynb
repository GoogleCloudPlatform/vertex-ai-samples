{
  "cells": [
    {
      "cell_type": "code",
      "execution_count": null,
      "metadata": {
        "id": "copyright"
      },
      "outputs": [],
      "source": [
        "# Copyright 2020 Google LLC\n",
        "#\n",
        "# Licensed under the Apache License, Version 2.0 (the \"License\");\n",
        "# you may not use this file except in compliance with the License.\n",
        "# You may obtain a copy of the License at\n",
        "#\n",
        "#     https://www.apache.org/licenses/LICENSE-2.0\n",
        "#\n",
        "# Unless required by applicable law or agreed to in writing, software\n",
        "# distributed under the License is distributed on an \"AS IS\" BASIS,\n",
        "# WITHOUT WARRANTIES OR CONDITIONS OF ANY KIND, either express or implied.\n",
        "# See the License for the specific language governing permissions and\n",
        "# limitations under the License."
      ]
    },
    {
      "cell_type": "markdown",
      "metadata": {
        "id": "title"
      },
      "source": [
        "# Vertex client library: AutoML image object detection model for export to edge\n",
        "\n",
        "<table align=\"left\">\n",
        "  <td>\n",
        "    <a href=\"https://colab.research.google.com/github/GoogleCloudPlatform/vertex-ai-samples/blob/master/notebooks/community/gapic/automl/showcase_automl_image_object_detection_export_edge.ipynb\">\n",
        "      <img src=\"https://cloud.google.com/ml-engine/images/colab-logo-32px.png\" alt=\"Colab logo\"> Run in Colab\n",
        "    </a>\n",
        "  </td>\n",
        "  <td>\n",
        "    <a href=\"https://github.com/GoogleCloudPlatform/vertex-ai-samples/blob/master/notebooks/community/gapic/automl/showcase_automl_image_object_detection_export_edge.ipynb\">\n",
        "      <img src=\"https://cloud.google.com/ml-engine/images/github-logo-32px.png\" alt=\"GitHub logo\">\n",
        "      View on GitHub\n",
        "    </a>\n",
        "  </td>\n",
        "</table>\n",
        "<br/><br/><br/>"
      ]
    },
    {
      "cell_type": "markdown",
      "metadata": {
        "id": "overview:automl,export_edge"
      },
      "source": [
        "## Overview\n",
        "\n",
        "\n",
        "This tutorial demonstrates how to use the Vertex client library for Python to create image object detection models to export as an Edge model using Google Cloud's AutoML."
      ]
    },
    {
      "cell_type": "markdown",
      "metadata": {
        "id": "dataset:salads,iod"
      },
      "source": [
        "### Dataset\n",
        "\n",
        "The dataset used for this tutorial is the Salads category of the [OpenImages dataset](https://www.tensorflow.org/datasets/catalog/open_images_v4) from [TensorFlow Datasets](https://www.tensorflow.org/datasets/catalog/overview). This dataset does not require any feature engineering. The version of the dataset you will use in this tutorial is stored in a public Cloud Storage bucket. The trained model predicts the bounding box locations and corresponding type of salad items in an image from a class of five items: salad, seafood, tomato, baked goods, or cheese."
      ]
    },
    {
      "cell_type": "markdown",
      "metadata": {
        "id": "objective:automl,training,export_edge"
      },
      "source": [
        "### Objective\n",
        "\n",
        "In this tutorial, you create a AutoML image object detection model from a Python script using the Vertex client library, and then export the model as an Edge model in TFLite format. You can alternatively create models with AutoML using the `gcloud` command-line tool or online using the Google Cloud Console.\n",
        "\n",
        "The steps performed include:\n",
        "\n",
        "- Create a Vertex `Dataset` resource.\n",
        "- Train the model.\n",
        "- Export the `Edge` model from the `Model` resource to Cloud Storage.\n",
        "- Download the model locally.\n",
        "- Make a local prediction."
      ]
    },
    {
      "cell_type": "markdown",
      "metadata": {
        "id": "costs"
      },
      "source": [
        "### Costs\n",
        "\n",
        "This tutorial uses billable components of Google Cloud (GCP):\n",
        "\n",
        "* Vertex AI\n",
        "* Cloud Storage\n",
        "\n",
        "Learn about [Vertex AI\n",
        "pricing](https://cloud.google.com/vertex-ai/pricing) and [Cloud Storage\n",
        "pricing](https://cloud.google.com/storage/pricing), and use the [Pricing\n",
        "Calculator](https://cloud.google.com/products/calculator/)\n",
        "to generate a cost estimate based on your projected usage."
      ]
    },
    {
      "cell_type": "markdown",
      "metadata": {
        "id": "install_aip"
      },
      "source": [
        "## Installation\n",
        "\n",
        "Install the latest version of Vertex client library."
      ]
    },
    {
      "cell_type": "code",
      "execution_count": null,
      "metadata": {
        "id": "install_aip"
      },
      "outputs": [],
      "source": [
        "import os\n",
        "import sys\n",
        "\n",
        "# Google Cloud Notebook\n",
        "if os.path.exists(\"/opt/deeplearning/metadata/env_version\"):\n",
        "    USER_FLAG = \"--user\"\n",
        "else:\n",
        "    USER_FLAG = \"\"\n",
        "\n",
        "! pip3 install -U google-cloud-aiplatform $USER_FLAG"
      ]
    },
    {
      "cell_type": "markdown",
      "metadata": {
        "id": "install_storage"
      },
      "source": [
        "Install the latest GA version of *google-cloud-storage* library as well."
      ]
    },
    {
      "cell_type": "code",
      "execution_count": null,
      "metadata": {
        "id": "install_storage"
      },
      "outputs": [],
      "source": [
        "! pip3 install -U google-cloud-storage $USER_FLAG"
      ]
    },
    {
      "cell_type": "markdown",
      "metadata": {
        "id": "restart"
      },
      "source": [
        "### Restart the kernel\n",
        "\n",
        "Once you've installed the Vertex client library and Google *cloud-storage*, you need to restart the notebook kernel so it can find the packages."
      ]
    },
    {
      "cell_type": "code",
      "execution_count": null,
      "metadata": {
        "id": "restart"
      },
      "outputs": [],
      "source": [
        "if not os.getenv(\"IS_TESTING\"):\n",
        "    # Automatically restart kernel after installs\n",
        "    import IPython\n",
        "\n",
        "    app = IPython.Application.instance()\n",
        "    app.kernel.do_shutdown(True)"
      ]
    },
    {
      "cell_type": "markdown",
      "metadata": {
        "id": "before_you_begin"
      },
      "source": [
        "## Before you begin\n",
        "\n",
        "### GPU runtime\n",
        "\n",
        "*Make sure you're running this notebook in a GPU runtime if you have that option. In Colab, select* **Runtime > Change Runtime Type > GPU**\n",
        "\n",
        "### Set up your Google Cloud project\n",
        "\n",
        "**The following steps are required, regardless of your notebook environment.**\n",
        "\n",
        "1. [Select or create a Google Cloud project](https://console.cloud.google.com/cloud-resource-manager). When you first create an account, you get a $300 free credit towards your compute/storage costs.\n",
        "\n",
        "2. [Make sure that billing is enabled for your project.](https://cloud.google.com/billing/docs/how-to/modify-project)\n",
        "\n",
        "3. [Enable the Vertex APIs and Compute Engine APIs.](https://console.cloud.google.com/flows/enableapi?apiid=ml.googleapis.com,compute_component)\n",
        "\n",
        "4. [The Google Cloud SDK](https://cloud.google.com/sdk) is already installed in Google Cloud Notebook.\n",
        "\n",
        "5. Enter your project ID in the cell below. Then run the  cell to make sure the\n",
        "Cloud SDK uses the right project for all the commands in this notebook.\n",
        "\n",
        "**Note**: Jupyter runs lines prefixed with `!` as shell commands, and it interpolates Python variables prefixed with `$` into these commands."
      ]
    },
    {
      "cell_type": "code",
      "execution_count": null,
      "metadata": {
        "id": "set_project_id"
      },
      "outputs": [],
      "source": [
        "PROJECT_ID = \"[your-project-id]\"  # @param {type:\"string\"}"
      ]
    },
    {
      "cell_type": "code",
      "execution_count": null,
      "metadata": {
        "id": "autoset_project_id"
      },
      "outputs": [],
      "source": [
        "if PROJECT_ID == \"\" or PROJECT_ID is None or PROJECT_ID == \"[your-project-id]\":\n",
        "    # Get your GCP project id from gcloud\n",
        "    shell_output = !gcloud config list --format 'value(core.project)' 2>/dev/null\n",
        "    PROJECT_ID = shell_output[0]\n",
        "    print(\"Project ID:\", PROJECT_ID)"
      ]
    },
    {
      "cell_type": "code",
      "execution_count": null,
      "metadata": {
        "id": "set_gcloud_project_id"
      },
      "outputs": [],
      "source": [
        "! gcloud config set project $PROJECT_ID"
      ]
    },
    {
      "cell_type": "markdown",
      "metadata": {
        "id": "region"
      },
      "source": [
        "#### Region\n",
        "\n",
        "You can also change the `REGION` variable, which is used for operations\n",
        "throughout the rest of this notebook.  Below are regions supported for Vertex. We recommend that you choose the region closest to you.\n",
        "\n",
        "- Americas: `us-central1`\n",
        "- Europe: `europe-west4`\n",
        "- Asia Pacific: `asia-east1`\n",
        "\n",
        "You may not use a multi-regional bucket for training with Vertex. Not all regions provide support for all Vertex services. For the latest support per region, see the [Vertex locations documentation](https://cloud.google.com/vertex-ai/docs/general/locations)"
      ]
    },
    {
      "cell_type": "code",
      "execution_count": null,
      "metadata": {
        "id": "region"
      },
      "outputs": [],
      "source": [
        "REGION = \"us-central1\"  # @param {type: \"string\"}"
      ]
    },
    {
      "cell_type": "markdown",
      "metadata": {
        "id": "timestamp"
      },
      "source": [
        "#### Timestamp\n",
        "\n",
        "If you are in a live tutorial session, you might be using a shared test account or project. To avoid name collisions between users on resources created, you create a timestamp for each instance session, and append onto the name of resources which will be created in this tutorial."
      ]
    },
    {
      "cell_type": "code",
      "execution_count": null,
      "metadata": {
        "id": "timestamp"
      },
      "outputs": [],
      "source": [
        "from datetime import datetime\n",
        "\n",
        "TIMESTAMP = datetime.now().strftime(\"%Y%m%d%H%M%S\")"
      ]
    },
    {
      "cell_type": "markdown",
      "metadata": {
        "id": "gcp_authenticate"
      },
      "source": [
        "### Authenticate your Google Cloud account\n",
        "\n",
        "**If you are using Google Cloud Notebook**, your environment is already authenticated. Skip this step.\n",
        "\n",
        "**If you are using Colab**, run the cell below and follow the instructions when prompted to authenticate your account via oAuth.\n",
        "\n",
        "**Otherwise**, follow these steps:\n",
        "\n",
        "In the Cloud Console, go to the [Create service account key](https://console.cloud.google.com/apis/credentials/serviceaccountkey) page.\n",
        "\n",
        "**Click Create service account**.\n",
        "\n",
        "In the **Service account name** field, enter a name, and click **Create**.\n",
        "\n",
        "In the **Grant this service account access to project** section, click the Role drop-down list. Type \"Vertex\" into the filter box, and select **Vertex Administrator**. Type \"Storage Object Admin\" into the filter box, and select **Storage Object Admin**.\n",
        "\n",
        "Click Create. A JSON file that contains your key downloads to your local environment.\n",
        "\n",
        "Enter the path to your service account key as the GOOGLE_APPLICATION_CREDENTIALS variable in the cell below and run the cell."
      ]
    },
    {
      "cell_type": "code",
      "execution_count": null,
      "metadata": {
        "id": "gcp_authenticate"
      },
      "outputs": [],
      "source": [
        "# If you are running this notebook in Colab, run this cell and follow the\n",
        "# instructions to authenticate your GCP account. This provides access to your\n",
        "# Cloud Storage bucket and lets you submit training jobs and prediction\n",
        "# requests.\n",
        "\n",
        "# If on Google Cloud Notebook, then don't execute this code\n",
        "if not os.path.exists(\"/opt/deeplearning/metadata/env_version\"):\n",
        "    if \"google.colab\" in sys.modules:\n",
        "        from google.colab import auth as google_auth\n",
        "\n",
        "        google_auth.authenticate_user()\n",
        "\n",
        "    # If you are running this notebook locally, replace the string below with the\n",
        "    # path to your service account key and run this cell to authenticate your GCP\n",
        "    # account.\n",
        "    elif not os.getenv(\"IS_TESTING\"):\n",
        "        %env GOOGLE_APPLICATION_CREDENTIALS ''"
      ]
    },
    {
      "cell_type": "markdown",
      "metadata": {
        "id": "bucket:export_edge"
      },
      "source": [
        "### Create a Cloud Storage bucket\n",
        "\n",
        "**The following steps are required, regardless of your notebook environment.**\n",
        "\n",
        "This tutorial is designed to use training data that is in a public Cloud Storage bucket and a local Cloud Storage bucket for exporting the trained model. You may alternatively use your own training data that you have stored in a local Cloud Storage bucket.\n",
        "\n",
        "Set the name of your Cloud Storage bucket below. Bucket names must be globally unique across all Google Cloud projects, including those outside of your organization."
      ]
    },
    {
      "cell_type": "code",
      "execution_count": null,
      "metadata": {
        "id": "bucket"
      },
      "outputs": [],
      "source": [
        "BUCKET_NAME = \"gs://[your-bucket-name]\"  # @param {type:\"string\"}"
      ]
    },
    {
      "cell_type": "code",
      "execution_count": null,
      "metadata": {
        "id": "autoset_bucket"
      },
      "outputs": [],
      "source": [
        "if BUCKET_NAME == \"\" or BUCKET_NAME is None or BUCKET_NAME == \"gs://[your-bucket-name]\":\n",
        "    BUCKET_NAME = \"gs://\" + PROJECT_ID + \"aip-\" + TIMESTAMP"
      ]
    },
    {
      "cell_type": "markdown",
      "metadata": {
        "id": "create_bucket"
      },
      "source": [
        "**Only if your bucket doesn't already exist**: Run the following cell to create your Cloud Storage bucket."
      ]
    },
    {
      "cell_type": "code",
      "execution_count": null,
      "metadata": {
        "id": "create_bucket"
      },
      "outputs": [],
      "source": [
        "! gsutil mb -l $REGION $BUCKET_NAME"
      ]
    },
    {
      "cell_type": "markdown",
      "metadata": {
        "id": "validate_bucket"
      },
      "source": [
        "Finally, validate access to your Cloud Storage bucket by examining its contents:"
      ]
    },
    {
      "cell_type": "code",
      "execution_count": null,
      "metadata": {
        "id": "validate_bucket"
      },
      "outputs": [],
      "source": [
        "! gsutil ls -al $BUCKET_NAME"
      ]
    },
    {
      "cell_type": "markdown",
      "metadata": {
        "id": "setup_vars"
      },
      "source": [
        "### Set up variables\n",
        "\n",
        "Next, set up some variables used throughout the tutorial.\n",
        "### Import libraries and define constants"
      ]
    },
    {
      "cell_type": "markdown",
      "metadata": {
        "id": "import_aip:protobuf"
      },
      "source": [
        "#### Import Vertex client library\n",
        "\n",
        "Import the Vertex client library into our Python environment."
      ]
    },
    {
      "cell_type": "code",
      "execution_count": null,
      "metadata": {
        "id": "import_aip:protobuf"
      },
      "outputs": [],
      "source": [
        "import time\n",
        "\n",
        "from google.cloud.aiplatform import gapic as aip\n",
        "from google.protobuf import json_format\n",
        "from google.protobuf.json_format import MessageToJson, ParseDict\n",
        "from google.protobuf.struct_pb2 import Struct, Value"
      ]
    },
    {
      "cell_type": "markdown",
      "metadata": {
        "id": "aip_constants"
      },
      "source": [
        "#### Vertex constants\n",
        "\n",
        "Setup up the following constants for Vertex:\n",
        "\n",
        "- `API_ENDPOINT`: The Vertex API service endpoint for dataset, model, job, pipeline and endpoint services.\n",
        "- `PARENT`: The Vertex location root path for dataset, model, job, pipeline and endpoint resources."
      ]
    },
    {
      "cell_type": "code",
      "execution_count": null,
      "metadata": {
        "id": "aip_constants"
      },
      "outputs": [],
      "source": [
        "# API service endpoint\n",
        "API_ENDPOINT = \"{}-aiplatform.googleapis.com\".format(REGION)\n",
        "\n",
        "# Vertex location root path for your dataset, model and endpoint resources\n",
        "PARENT = \"projects/\" + PROJECT_ID + \"/locations/\" + REGION"
      ]
    },
    {
      "cell_type": "markdown",
      "metadata": {
        "id": "automl_constants"
      },
      "source": [
        "#### AutoML constants\n",
        "\n",
        "Set constants unique to AutoML datasets and training:\n",
        "\n",
        "- Dataset Schemas: Tells the `Dataset` resource service which type of dataset it is.\n",
        "- Data Labeling (Annotations) Schemas: Tells the `Dataset` resource service how the data is labeled (annotated).\n",
        "- Dataset Training Schemas: Tells the `Pipeline` resource service the task (e.g., classification) to train the model for."
      ]
    },
    {
      "cell_type": "code",
      "execution_count": null,
      "metadata": {
        "id": "automl_constants:iod"
      },
      "outputs": [],
      "source": [
        "# Image Dataset type\n",
        "DATA_SCHEMA = \"gs://google-cloud-aiplatform/schema/dataset/metadata/image_1.0.0.yaml\"\n",
        "# Image Labeling type\n",
        "LABEL_SCHEMA = \"gs://google-cloud-aiplatform/schema/dataset/ioformat/image_bounding_box_io_format_1.0.0.yaml\"\n",
        "# Image Training task\n",
        "TRAINING_SCHEMA = \"gs://google-cloud-aiplatform/schema/trainingjob/definition/automl_image_object_detection_1.0.0.yaml\""
      ]
    },
    {
      "cell_type": "markdown",
      "metadata": {
        "id": "tutorial_start:automl"
      },
      "source": [
        "# Tutorial\n",
        "\n",
        "Now you are ready to start creating your own AutoML image object detection model."
      ]
    },
    {
      "cell_type": "markdown",
      "metadata": {
        "id": "clients:automl,export_edge"
      },
      "source": [
        "## Set up clients\n",
        "\n",
        "The Vertex client library works as a client/server model. On your side (the Python script) you will create a client that sends requests and receives responses from the Vertex server.\n",
        "\n",
        "You will use different clients in this tutorial for different steps in the workflow. So set them all up upfront.\n",
        "\n",
        "- Dataset Service for `Dataset` resources.\n",
        "- Model Service for `Model` resources.\n",
        "- Pipeline Service for training."
      ]
    },
    {
      "cell_type": "code",
      "execution_count": null,
      "metadata": {
        "id": "clients:automl,export_edge"
      },
      "outputs": [],
      "source": [
        "# client options same for all services\n",
        "client_options = {\"api_endpoint\": API_ENDPOINT}\n",
        "\n",
        "\n",
        "def create_dataset_client():\n",
        "    client = aip.DatasetServiceClient(client_options=client_options)\n",
        "    return client\n",
        "\n",
        "\n",
        "def create_model_client():\n",
        "    client = aip.ModelServiceClient(client_options=client_options)\n",
        "    return client\n",
        "\n",
        "\n",
        "def create_pipeline_client():\n",
        "    client = aip.PipelineServiceClient(client_options=client_options)\n",
        "    return client\n",
        "\n",
        "\n",
        "clients = {}\n",
        "clients[\"dataset\"] = create_dataset_client()\n",
        "clients[\"model\"] = create_model_client()\n",
        "clients[\"pipeline\"] = create_pipeline_client()\n",
        "\n",
        "for client in clients.items():\n",
        "    print(client)"
      ]
    },
    {
      "cell_type": "markdown",
      "metadata": {
        "id": "create_aip_dataset"
      },
      "source": [
        "## Dataset\n",
        "\n",
        "Now that your clients are ready, your first step in training a model is to create a managed dataset instance, and then upload your labeled data to it.\n",
        "\n",
        "### Create `Dataset` resource instance\n",
        "\n",
        "Use the helper function `create_dataset` to create the instance of a `Dataset` resource. This function does the following:\n",
        "\n",
        "1. Uses the dataset client service.\n",
        "2. Creates an Vertex `Dataset` resource (`aip.Dataset`), with the following parameters:\n",
        " - `display_name`: The human-readable name you choose to give it.\n",
        " - `metadata_schema_uri`: The schema for the dataset type.\n",
        "3. Calls the client dataset service method `create_dataset`, with the following parameters:\n",
        " - `parent`: The Vertex location root path for your `Database`, `Model` and `Endpoint` resources.\n",
        " - `dataset`: The Vertex dataset object instance you created.\n",
        "4. The method returns an `operation` object.\n",
        "\n",
        "An `operation` object is how Vertex handles asynchronous calls for long running operations. While this step usually goes fast, when you first use it in your project, there is a longer delay due to provisioning.\n",
        "\n",
        "You can use the `operation` object to get status on the operation (e.g., create `Dataset` resource) or to cancel the operation, by invoking an operation method:\n",
        "\n",
        "| Method      | Description |\n",
        "| ----------- | ----------- |\n",
        "| result()    | Waits for the operation to complete and returns a result object in JSON format.      |\n",
        "| running()   | Returns True/False on whether the operation is still running.        |\n",
        "| done()      | Returns True/False on whether the operation is completed. |\n",
        "| canceled()  | Returns True/False on whether the operation was canceled. |\n",
        "| cancel()    | Cancels the operation (this may take up to 30 seconds). |"
      ]
    },
    {
      "cell_type": "code",
      "execution_count": null,
      "metadata": {
        "id": "create_aip_dataset"
      },
      "outputs": [],
      "source": [
        "TIMEOUT = 90\n",
        "\n",
        "\n",
        "def create_dataset(name, schema, labels=None, timeout=TIMEOUT):\n",
        "    start_time = time.time()\n",
        "    try:\n",
        "        dataset = aip.Dataset(\n",
        "            display_name=name, metadata_schema_uri=schema, labels=labels\n",
        "        )\n",
        "\n",
        "        operation = clients[\"dataset\"].create_dataset(parent=PARENT, dataset=dataset)\n",
        "        print(\"Long running operation:\", operation.operation.name)\n",
        "        result = operation.result(timeout=TIMEOUT)\n",
        "        print(\"time:\", time.time() - start_time)\n",
        "        print(\"response\")\n",
        "        print(\" name:\", result.name)\n",
        "        print(\" display_name:\", result.display_name)\n",
        "        print(\" metadata_schema_uri:\", result.metadata_schema_uri)\n",
        "        print(\" metadata:\", dict(result.metadata))\n",
        "        print(\" create_time:\", result.create_time)\n",
        "        print(\" update_time:\", result.update_time)\n",
        "        print(\" etag:\", result.etag)\n",
        "        print(\" labels:\", dict(result.labels))\n",
        "        return result\n",
        "    except Exception as e:\n",
        "        print(\"exception:\", e)\n",
        "        return None\n",
        "\n",
        "\n",
        "result = create_dataset(\"salads-\" + TIMESTAMP, DATA_SCHEMA)"
      ]
    },
    {
      "cell_type": "markdown",
      "metadata": {
        "id": "dataset_id:result"
      },
      "source": [
        "Now save the unique dataset identifier for the `Dataset` resource instance you created."
      ]
    },
    {
      "cell_type": "code",
      "execution_count": null,
      "metadata": {
        "id": "dataset_id:result"
      },
      "outputs": [],
      "source": [
        "# The full unique ID for the dataset\n",
        "dataset_id = result.name\n",
        "# The short numeric ID for the dataset\n",
        "dataset_short_id = dataset_id.split(\"/\")[-1]\n",
        "\n",
        "print(dataset_id)"
      ]
    },
    {
      "cell_type": "markdown",
      "metadata": {
        "id": "data_preparation:image,u_dataset"
      },
      "source": [
        "### Data preparation\n",
        "\n",
        "The Vertex `Dataset` resource for images has some requirements for your data:\n",
        "\n",
        "- Images must be stored in a Cloud Storage bucket.\n",
        "- Each image file must be in an image format (PNG, JPEG, BMP, ...).\n",
        "- There must be an index file stored in your Cloud Storage bucket that contains the path and label for each image.\n",
        "- The index file must be either CSV or JSONL."
      ]
    },
    {
      "cell_type": "markdown",
      "metadata": {
        "id": "data_import_format:iod,u_dataset,csv"
      },
      "source": [
        "#### CSV\n",
        "\n",
        "For image object detection, the CSV index file has the requirements:\n",
        "\n",
        "- No heading.\n",
        "- First column is the Cloud Storage path to the image.\n",
        "- Second column is the label.\n",
        "- Third/Fourth columns are the upper left corner of bounding box. Coordinates are normalized, between 0 and 1.\n",
        "- Fifth/Sixth/Seventh columns are not used and should be 0.\n",
        "- Eighth/Ninth columns are the lower right corner of the bounding box."
      ]
    },
    {
      "cell_type": "markdown",
      "metadata": {
        "id": "import_file:u_dataset,csv"
      },
      "source": [
        "#### Location of Cloud Storage training data.\n",
        "\n",
        "Now set the variable `IMPORT_FILE` to the location of the CSV index file in Cloud Storage."
      ]
    },
    {
      "cell_type": "code",
      "execution_count": null,
      "metadata": {
        "id": "import_file:salads,csv,iod"
      },
      "outputs": [],
      "source": [
        "IMPORT_FILE = \"gs://cloud-samples-data/vision/salads.csv\""
      ]
    },
    {
      "cell_type": "markdown",
      "metadata": {
        "id": "quick_peek:csv"
      },
      "source": [
        "#### Quick peek at your data\n",
        "\n",
        "You will use a version of the Salads dataset that is stored in a public Cloud Storage bucket, using a CSV index file.\n",
        "\n",
        "Start by doing a quick peek at the data. You count the number of examples by counting the number of rows in the CSV index file  (`wc -l`) and then peek at the first few rows."
      ]
    },
    {
      "cell_type": "code",
      "execution_count": null,
      "metadata": {
        "id": "quick_peek:csv"
      },
      "outputs": [],
      "source": [
        "if \"IMPORT_FILES\" in globals():\n",
        "    FILE = IMPORT_FILES[0]\n",
        "else:\n",
        "    FILE = IMPORT_FILE\n",
        "\n",
        "count = ! gsutil cat $FILE | wc -l\n",
        "print(\"Number of Examples\", int(count[0]))\n",
        "\n",
        "print(\"First 10 rows\")\n",
        "! gsutil cat $FILE | head"
      ]
    },
    {
      "cell_type": "markdown",
      "metadata": {
        "id": "import_data"
      },
      "source": [
        "### Import data\n",
        "\n",
        "Now, import the data into your Vertex Dataset resource. Use this helper function `import_data` to import the data. The function does the following:\n",
        "\n",
        "- Uses the `Dataset` client.\n",
        "- Calls the client method `import_data`, with the following parameters:\n",
        " - `name`: The human readable name you give to the `Dataset` resource (e.g., salads).\n",
        " - `import_configs`: The import configuration.\n",
        "\n",
        "- `import_configs`: A Python list containing a dictionary, with the key/value entries:\n",
        " - `gcs_sources`: A list of URIs to the paths of the one or more index files.\n",
        " - `import_schema_uri`: The schema identifying the labeling type.\n",
        "\n",
        "The `import_data()` method returns a long running `operation` object. This will take a few minutes to complete. If you are in a live tutorial, this would be a good time to ask questions, or take a personal break."
      ]
    },
    {
      "cell_type": "code",
      "execution_count": null,
      "metadata": {
        "id": "import_data"
      },
      "outputs": [],
      "source": [
        "def import_data(dataset, gcs_sources, schema):\n",
        "    config = [{\"gcs_source\": {\"uris\": gcs_sources}, \"import_schema_uri\": schema}]\n",
        "    print(\"dataset:\", dataset_id)\n",
        "    start_time = time.time()\n",
        "    try:\n",
        "        operation = clients[\"dataset\"].import_data(\n",
        "            name=dataset_id, import_configs=config\n",
        "        )\n",
        "        print(\"Long running operation:\", operation.operation.name)\n",
        "\n",
        "        result = operation.result()\n",
        "        print(\"result:\", result)\n",
        "        print(\"time:\", int(time.time() - start_time), \"secs\")\n",
        "        print(\"error:\", operation.exception())\n",
        "        print(\"meta :\", operation.metadata)\n",
        "        print(\n",
        "            \"after: running:\",\n",
        "            operation.running(),\n",
        "            \"done:\",\n",
        "            operation.done(),\n",
        "            \"cancelled:\",\n",
        "            operation.cancelled(),\n",
        "        )\n",
        "\n",
        "        return operation\n",
        "    except Exception as e:\n",
        "        print(\"exception:\", e)\n",
        "        return None\n",
        "\n",
        "\n",
        "import_data(dataset_id, [IMPORT_FILE], LABEL_SCHEMA)"
      ]
    },
    {
      "cell_type": "markdown",
      "metadata": {
        "id": "train_automl_model"
      },
      "source": [
        "## Train the model\n",
        "\n",
        "Now train an AutoML image object detection model using your Vertex `Dataset` resource. To train the model, do the following steps:\n",
        "\n",
        "1. Create an Vertex training pipeline for the `Dataset` resource.\n",
        "2. Execute the pipeline to start the training."
      ]
    },
    {
      "cell_type": "markdown",
      "metadata": {
        "id": "create_pipeline:automl"
      },
      "source": [
        "### Create a training pipeline\n",
        "\n",
        "You may ask, what do we use a pipeline for? You typically use pipelines when the job (such as training) has multiple steps, generally in sequential order: do step A, do step B, etc. By putting the steps into a pipeline, we gain the benefits of:\n",
        "\n",
        "1. Being reusable for subsequent training jobs.\n",
        "2. Can be containerized and ran as a batch job.\n",
        "3. Can be distributed.\n",
        "4. All the steps are associated with the same pipeline job for tracking progress.\n",
        "\n",
        "Use this helper function `create_pipeline`, which takes the following parameters:\n",
        "\n",
        "- `pipeline_name`: A human readable name for the pipeline job.\n",
        "- `model_name`: A human readable name for the model.\n",
        "- `dataset`: The Vertex fully qualified dataset identifier.\n",
        "- `schema`: The dataset labeling (annotation) training schema.\n",
        "- `task`: A dictionary describing the requirements for the training job.\n",
        "\n",
        "The helper function calls the `Pipeline` client service'smethod `create_pipeline`, which takes the following parameters:\n",
        "\n",
        "- `parent`: The Vertex location root path for your `Dataset`, `Model` and `Endpoint` resources.\n",
        "- `training_pipeline`: the full specification for the pipeline training job.\n",
        "\n",
        "Let's look now deeper into the *minimal* requirements for constructing a `training_pipeline` specification:\n",
        "\n",
        "- `display_name`: A human readable name for the pipeline job.\n",
        "- `training_task_definition`: The dataset labeling (annotation) training schema.\n",
        "- `training_task_inputs`: A dictionary describing the requirements for the training job.\n",
        "- `model_to_upload`: A human readable name for the model.\n",
        "- `input_data_config`: The dataset specification.\n",
        " - `dataset_id`: The Vertex dataset identifier only (non-fully qualified) -- this is the last part of the fully-qualified identifier.\n",
        " - `fraction_split`: If specified, the percentages of the dataset to use for training, test and validation. Otherwise, the percentages are automatically selected by AutoML."
      ]
    },
    {
      "cell_type": "code",
      "execution_count": null,
      "metadata": {
        "id": "create_pipeline:automl"
      },
      "outputs": [],
      "source": [
        "def create_pipeline(pipeline_name, model_name, dataset, schema, task):\n",
        "\n",
        "    dataset_id = dataset.split(\"/\")[-1]\n",
        "\n",
        "    input_config = {\n",
        "        \"dataset_id\": dataset_id,\n",
        "        \"fraction_split\": {\n",
        "            \"training_fraction\": 0.8,\n",
        "            \"validation_fraction\": 0.1,\n",
        "            \"test_fraction\": 0.1,\n",
        "        },\n",
        "    }\n",
        "\n",
        "    training_pipeline = {\n",
        "        \"display_name\": pipeline_name,\n",
        "        \"training_task_definition\": schema,\n",
        "        \"training_task_inputs\": task,\n",
        "        \"input_data_config\": input_config,\n",
        "        \"model_to_upload\": {\"display_name\": model_name},\n",
        "    }\n",
        "\n",
        "    try:\n",
        "        pipeline = clients[\"pipeline\"].create_training_pipeline(\n",
        "            parent=PARENT, training_pipeline=training_pipeline\n",
        "        )\n",
        "        print(pipeline)\n",
        "    except Exception as e:\n",
        "        print(\"exception:\", e)\n",
        "        return None\n",
        "    return pipeline"
      ]
    },
    {
      "cell_type": "markdown",
      "metadata": {
        "id": "task_requirements:automl,iod,edge"
      },
      "source": [
        "### Construct the task requirements\n",
        "\n",
        "Next, construct the task requirements. Unlike other parameters which take a Python (JSON-like) dictionary, the `task` field takes a Google protobuf Struct, which is very similar to a Python dictionary. Use the `json_format.ParseDict` method for the conversion.\n",
        "\n",
        "The minimal fields you need to specify are:\n",
        "\n",
        "- `budget_milli_node_hours`: The maximum time to budget (billed) for training the model, where 1000 = 1 hour. For image object detection, the budget must be a minimum of 20 hours.\n",
        "- `model_type`: The type of deployed model:\n",
        "  - `CLOUD_HIGH_ACCURACY_1`: For deploying to Google Cloud and optimizing for accuracy.\n",
        "  - `CLOUD_LOW_LATENCY_1`: For deploying to Google Cloud and optimizing for latency (response time),\n",
        "  - `MOBILE_TF_HIGH_ACCURACY_1`: For deploying to the edge and optimizing for accuracy.\n",
        "  - `MOBILE_TF_LOW_LATENCY_1`: For deploying to the edge and optimizing for latency (response time).\n",
        "  - `MOBILE_TF_VERSATILE_1`: For deploying to the edge and optimizing for a trade off between latency and accuracy.\n",
        "- `disable_early_stopping`: Whether True/False to let AutoML use its judgement to stop training early or train for the entire budget.\n",
        "\n",
        "Finally, create the pipeline by calling the helper function `create_pipeline`, which returns an instance of a training pipeline object."
      ]
    },
    {
      "cell_type": "code",
      "execution_count": null,
      "metadata": {
        "id": "task_requirements:automl,iod,edge"
      },
      "outputs": [],
      "source": [
        "PIPE_NAME = \"salads_pipe-\" + TIMESTAMP\n",
        "MODEL_NAME = \"salads_model-\" + TIMESTAMP\n",
        "\n",
        "task = json_format.ParseDict(\n",
        "    {\n",
        "        \"budget_milli_node_hours\": 20000,\n",
        "        \"model_type\": \"MOBILE_TF_LOW_LATENCY_1\",\n",
        "        \"disable_early_stopping\": False,\n",
        "    },\n",
        "    Value(),\n",
        ")\n",
        "\n",
        "response = create_pipeline(PIPE_NAME, MODEL_NAME, dataset_id, TRAINING_SCHEMA, task)"
      ]
    },
    {
      "cell_type": "markdown",
      "metadata": {
        "id": "pipeline_id:response"
      },
      "source": [
        "Now save the unique identifier of the training pipeline you created."
      ]
    },
    {
      "cell_type": "code",
      "execution_count": null,
      "metadata": {
        "id": "pipeline_id:response"
      },
      "outputs": [],
      "source": [
        "# The full unique ID for the pipeline\n",
        "pipeline_id = response.name\n",
        "# The short numeric ID for the pipeline\n",
        "pipeline_short_id = pipeline_id.split(\"/\")[-1]\n",
        "\n",
        "print(pipeline_id)"
      ]
    },
    {
      "cell_type": "markdown",
      "metadata": {
        "id": "get_training_pipeline"
      },
      "source": [
        "### Get information on a training pipeline\n",
        "\n",
        "Now get pipeline information for just this training pipeline instance. The helper function  gets the job information for just this job by calling the the job client service's `get_training_pipeline` method, with the following parameter:\n",
        "\n",
        "- `name`: The Vertex fully qualified pipeline identifier.\n",
        "\n",
        "When the model is done training, the pipeline state will be `PIPELINE_STATE_SUCCEEDED`."
      ]
    },
    {
      "cell_type": "code",
      "execution_count": null,
      "metadata": {
        "id": "get_training_pipeline"
      },
      "outputs": [],
      "source": [
        "def get_training_pipeline(name, silent=False):\n",
        "    response = clients[\"pipeline\"].get_training_pipeline(name=name)\n",
        "    if silent:\n",
        "        return response\n",
        "\n",
        "    print(\"pipeline\")\n",
        "    print(\" name:\", response.name)\n",
        "    print(\" display_name:\", response.display_name)\n",
        "    print(\" state:\", response.state)\n",
        "    print(\" training_task_definition:\", response.training_task_definition)\n",
        "    print(\" training_task_inputs:\", dict(response.training_task_inputs))\n",
        "    print(\" create_time:\", response.create_time)\n",
        "    print(\" start_time:\", response.start_time)\n",
        "    print(\" end_time:\", response.end_time)\n",
        "    print(\" update_time:\", response.update_time)\n",
        "    print(\" labels:\", dict(response.labels))\n",
        "    return response\n",
        "\n",
        "\n",
        "response = get_training_pipeline(pipeline_id)"
      ]
    },
    {
      "cell_type": "markdown",
      "metadata": {
        "id": "wait_training_complete"
      },
      "source": [
        "# Deployment\n",
        "\n",
        "Training the above model may take upwards of 30 minutes time.\n",
        "\n",
        "Once your model is done training, you can calculate the actual time it took to train the model by subtracting `end_time` from `start_time`. For your model, you will need to know the fully qualified Vertex Model resource identifier, which the pipeline service assigned to it. You can get this from the returned pipeline instance as the field `model_to_deploy.name`."
      ]
    },
    {
      "cell_type": "code",
      "execution_count": null,
      "metadata": {
        "id": "wait_training_complete"
      },
      "outputs": [],
      "source": [
        "while True:\n",
        "    response = get_training_pipeline(pipeline_id, True)\n",
        "    if response.state != aip.PipelineState.PIPELINE_STATE_SUCCEEDED:\n",
        "        print(\"Training job has not completed:\", response.state)\n",
        "        model_to_deploy_id = None\n",
        "        if response.state == aip.PipelineState.PIPELINE_STATE_FAILED:\n",
        "            raise Exception(\"Training Job Failed\")\n",
        "    else:\n",
        "        model_to_deploy = response.model_to_upload\n",
        "        model_to_deploy_id = model_to_deploy.name\n",
        "        print(\"Training Time:\", response.end_time - response.start_time)\n",
        "        break\n",
        "    time.sleep(60)\n",
        "\n",
        "print(\"model to deploy:\", model_to_deploy_id)"
      ]
    },
    {
      "cell_type": "markdown",
      "metadata": {
        "id": "model_information"
      },
      "source": [
        "## Model information\n",
        "\n",
        "Now that your model is trained, you can get some information on your model."
      ]
    },
    {
      "cell_type": "markdown",
      "metadata": {
        "id": "evaluate_the_model:automl"
      },
      "source": [
        "## Evaluate the Model resource\n",
        "\n",
        "Now find out how good the model service believes your model is. As part of training, some portion of the dataset was set aside as the test (holdout) data, which is used by the pipeline service to evaluate the model."
      ]
    },
    {
      "cell_type": "markdown",
      "metadata": {
        "id": "list_model_evaluations:automl,iod"
      },
      "source": [
        "### List evaluations for all slices\n",
        "\n",
        "Use this helper function `list_model_evaluations`, which takes the following parameter:\n",
        "\n",
        "- `name`: The Vertex fully qualified model identifier for the `Model` resource.\n",
        "\n",
        "This helper function uses the model client service's `list_model_evaluations` method, which takes the same parameter. The response object from the call is a list, where each element is an evaluation metric.\n",
        "\n",
        "For each evaluation -- you probably only have one, we then print all the key names for each metric in the evaluation, and for a small set (`evaluatedBoundingBoxCount` and `boundingBoxMeanAveragePrecision`) you will print the result."
      ]
    },
    {
      "cell_type": "code",
      "execution_count": null,
      "metadata": {
        "id": "list_model_evaluations:automl,iod"
      },
      "outputs": [],
      "source": [
        "def list_model_evaluations(name):\n",
        "    response = clients[\"model\"].list_model_evaluations(parent=name)\n",
        "    for evaluation in response:\n",
        "        print(\"model_evaluation\")\n",
        "        print(\" name:\", evaluation.name)\n",
        "        print(\" metrics_schema_uri:\", evaluation.metrics_schema_uri)\n",
        "        metrics = json_format.MessageToDict(evaluation._pb.metrics)\n",
        "        for metric in metrics.keys():\n",
        "            print(metric)\n",
        "        print(\"evaluatedBoundingBoxCount\", metrics[\"evaluatedBoundingBoxCount\"])\n",
        "        print(\n",
        "            \"boundingBoxMeanAveragePrecision\",\n",
        "            metrics[\"boundingBoxMeanAveragePrecision\"],\n",
        "        )\n",
        "\n",
        "    return evaluation.name\n",
        "\n",
        "\n",
        "last_evaluation = list_model_evaluations(model_to_deploy_id)"
      ]
    },
    {
      "cell_type": "markdown",
      "metadata": {
        "id": "export_model:export_edge"
      },
      "source": [
        "## Export as Edge model\n",
        "\n",
        "You can export an AutoML image object detection model as an Edge model which you can then custom deploy to an edge device, such as a mobile phone or IoT device, or download locally. Use this helper function `export_model` to export the model to Google Cloud, which takes the following parameters:\n",
        "\n",
        "- `name`: The Vertex fully qualified identifier for the `Model` resource.\n",
        "- `format`: The format to save the model format as.\n",
        "- `gcs_dest`: The Cloud Storage location to store the SavedFormat model artifacts to.\n",
        "\n",
        "This function calls the `Model` client service's method `export_model`, with the following parameters:\n",
        "\n",
        "- `name`: The Vertex fully qualified identifier for the `Model` resource.\n",
        "- `output_config`: The destination information for the exported model.\n",
        "  - `artifact_destination.output_uri_prefix`: The Cloud Storage location to store the SavedFormat model artifacts to.\n",
        "  - `export_format_id`: The format to save the model format as. For AutoML image object detection:\n",
        "   - `tf-saved-model`: TensorFlow SavedFormat for deployment to a container.\n",
        "   - `tflite`: TensorFlow Lite for deployment to an edge or mobile device.\n",
        "   - `edgetpu-tflite`: TensorFlow Lite for TPU\n",
        "   - `tf-js`: TensorFlow for web client\n",
        "   - `coral-ml`: for Coral devices\n",
        "\n",
        "The method returns a long running operation `response`. We will wait sychronously for the operation to complete by calling the `response.result()`, which will block until the model is exported."
      ]
    },
    {
      "cell_type": "code",
      "execution_count": null,
      "metadata": {
        "id": "export_model:export_edge"
      },
      "outputs": [],
      "source": [
        "MODEL_DIR = BUCKET_NAME + \"/\" + \"salads\"\n",
        "\n",
        "\n",
        "def export_model(name, format, gcs_dest):\n",
        "    output_config = {\n",
        "        \"artifact_destination\": {\"output_uri_prefix\": gcs_dest},\n",
        "        \"export_format_id\": format,\n",
        "    }\n",
        "    response = clients[\"model\"].export_model(name=name, output_config=output_config)\n",
        "    print(\"Long running operation:\", response.operation.name)\n",
        "    result = response.result(timeout=1800)\n",
        "    metadata = response.operation.metadata\n",
        "    artifact_uri = str(metadata.value).split(\"\\\\\")[-1][4:-1]\n",
        "    print(\"Artifact Uri\", artifact_uri)\n",
        "    return artifact_uri\n",
        "\n",
        "\n",
        "model_package = export_model(model_to_deploy_id, \"tflite\", MODEL_DIR)"
      ]
    },
    {
      "cell_type": "markdown",
      "metadata": {
        "id": "download_model_artifacts:tflite"
      },
      "source": [
        "#### Download the TFLite model artifacts\n",
        "\n",
        "Now that you have an exported TFLite version of your model, you can test the exported model locally, but first downloading it from Cloud Storage."
      ]
    },
    {
      "cell_type": "code",
      "execution_count": null,
      "metadata": {
        "id": "download_model_artifacts:tflite"
      },
      "outputs": [],
      "source": [
        "! gsutil ls $model_package\n",
        "# Download the model artifacts\n",
        "! gsutil cp -r $model_package tflite\n",
        "\n",
        "tflite_path = \"tflite/model.tflite\""
      ]
    },
    {
      "cell_type": "markdown",
      "metadata": {
        "id": "instantiate_tflite_interpreter"
      },
      "source": [
        "#### Instantiate a TFLite interpreter\n",
        "\n",
        "The TFLite version of the model is not a TensorFlow SavedModel format. You cannot directly use methods like predict(). Instead, one uses the TFLite interpreter. You must first setup the interpreter for the TFLite model as follows:\n",
        "\n",
        "- Instantiate an TFLite interpreter for the TFLite model.\n",
        "- Instruct the interpreter to allocate input and output tensors for the model.\n",
        "- Get detail information about the models input and output tensors that will need to be known for prediction."
      ]
    },
    {
      "cell_type": "code",
      "execution_count": null,
      "metadata": {
        "id": "instantiate_tflite_interpreter"
      },
      "outputs": [],
      "source": [
        "import tensorflow as tf\n",
        "\n",
        "interpreter = tf.lite.Interpreter(model_path=tflite_path)\n",
        "interpreter.allocate_tensors()\n",
        "\n",
        "input_details = interpreter.get_input_details()\n",
        "output_details = interpreter.get_output_details()\n",
        "input_shape = input_details[0][\"shape\"]\n",
        "\n",
        "print(\"input tensor shape\", input_shape)"
      ]
    },
    {
      "cell_type": "markdown",
      "metadata": {
        "id": "get_test_item"
      },
      "source": [
        "### Get test item\n",
        "\n",
        "You will use an arbitrary example out of the dataset as a test item. Don't be concerned that the example was likely used in training the model -- we just want to demonstrate how to make a prediction."
      ]
    },
    {
      "cell_type": "code",
      "execution_count": null,
      "metadata": {
        "id": "get_test_item:image,224x224"
      },
      "outputs": [],
      "source": [
        "test_items = ! gsutil cat $IMPORT_FILE | head -n1\n",
        "test_item = test_items[0].split(\",\")[0]\n",
        "\n",
        "with tf.io.gfile.GFile(test_item, \"rb\") as f:\n",
        "    content = f.read()\n",
        "test_image = tf.io.decode_jpeg(content)\n",
        "print(\"test image shape\", test_image.shape)\n",
        "\n",
        "test_image = tf.image.resize(test_image, (224, 224))\n",
        "print(\"test image shape\", test_image.shape, test_image.dtype)\n",
        "\n",
        "test_image = tf.cast(test_image, dtype=tf.uint8).numpy()"
      ]
    },
    {
      "cell_type": "markdown",
      "metadata": {
        "id": "invoke_tflite_interpreter"
      },
      "source": [
        "#### Make a prediction with TFLite model\n",
        "\n",
        "Finally, you do a prediction using your TFLite model, as follows:\n",
        "\n",
        "- Convert the test image into a batch of a single image (`np.expand_dims`)\n",
        "- Set the input tensor for the interpreter to your batch of a single image (`data`).\n",
        "- Invoke the interpreter.\n",
        "- Retrieve the softmax probabilities for the prediction (`get_tensor`).\n",
        "- Determine which label had the highest probability (`np.argmax`)."
      ]
    },
    {
      "cell_type": "code",
      "execution_count": null,
      "metadata": {
        "id": "invoke_tflite_interpreter"
      },
      "outputs": [],
      "source": [
        "import numpy as np\n",
        "\n",
        "data = np.expand_dims(test_image, axis=0)\n",
        "\n",
        "interpreter.set_tensor(input_details[0][\"index\"], data)\n",
        "\n",
        "interpreter.invoke()\n",
        "\n",
        "softmax = interpreter.get_tensor(output_details[0][\"index\"])\n",
        "\n",
        "label = np.argmax(softmax)\n",
        "\n",
        "print(label)"
      ]
    },
    {
      "cell_type": "markdown",
      "metadata": {
        "id": "cleanup"
      },
      "source": [
        "# Cleaning up\n",
        "\n",
        "To clean up all GCP resources used in this project, you can [delete the GCP\n",
        "project](https://cloud.google.com/resource-manager/docs/creating-managing-projects#shutting_down_projects) you used for the tutorial.\n",
        "\n",
        "Otherwise, you can delete the individual resources you created in this tutorial:\n",
        "\n",
        "- Dataset\n",
        "- Pipeline\n",
        "- Model\n",
        "- Endpoint\n",
        "- Batch Job\n",
        "- Custom Job\n",
        "- Hyperparameter Tuning Job\n",
        "- Cloud Storage Bucket"
      ]
    },
    {
      "cell_type": "code",
      "execution_count": null,
      "metadata": {
        "id": "cleanup"
      },
      "outputs": [],
      "source": [
        "delete_dataset = True\n",
        "delete_pipeline = True\n",
        "delete_model = True\n",
        "delete_endpoint = True\n",
        "delete_batchjob = True\n",
        "delete_customjob = True\n",
        "delete_hptjob = True\n",
        "delete_bucket = True\n",
        "\n",
        "# Delete the dataset using the Vertex fully qualified identifier for the dataset\n",
        "try:\n",
        "    if delete_dataset and \"dataset_id\" in globals():\n",
        "        clients[\"dataset\"].delete_dataset(name=dataset_id)\n",
        "except Exception as e:\n",
        "    print(e)\n",
        "\n",
        "# Delete the training pipeline using the Vertex fully qualified identifier for the pipeline\n",
        "try:\n",
        "    if delete_pipeline and \"pipeline_id\" in globals():\n",
        "        clients[\"pipeline\"].delete_training_pipeline(name=pipeline_id)\n",
        "except Exception as e:\n",
        "    print(e)\n",
        "\n",
        "# Delete the model using the Vertex fully qualified identifier for the model\n",
        "try:\n",
        "    if delete_model and \"model_to_deploy_id\" in globals():\n",
        "        clients[\"model\"].delete_model(name=model_to_deploy_id)\n",
        "except Exception as e:\n",
        "    print(e)\n",
        "\n",
        "# Delete the endpoint using the Vertex fully qualified identifier for the endpoint\n",
        "try:\n",
        "    if delete_endpoint and \"endpoint_id\" in globals():\n",
        "        clients[\"endpoint\"].delete_endpoint(name=endpoint_id)\n",
        "except Exception as e:\n",
        "    print(e)\n",
        "\n",
        "# Delete the batch job using the Vertex fully qualified identifier for the batch job\n",
        "try:\n",
        "    if delete_batchjob and \"batch_job_id\" in globals():\n",
        "        clients[\"job\"].delete_batch_prediction_job(name=batch_job_id)\n",
        "except Exception as e:\n",
        "    print(e)\n",
        "\n",
        "# Delete the custom job using the Vertex fully qualified identifier for the custom job\n",
        "try:\n",
        "    if delete_customjob and \"job_id\" in globals():\n",
        "        clients[\"job\"].delete_custom_job(name=job_id)\n",
        "except Exception as e:\n",
        "    print(e)\n",
        "\n",
        "# Delete the hyperparameter tuning job using the Vertex fully qualified identifier for the hyperparameter tuning job\n",
        "try:\n",
        "    if delete_hptjob and \"hpt_job_id\" in globals():\n",
        "        clients[\"job\"].delete_hyperparameter_tuning_job(name=hpt_job_id)\n",
        "except Exception as e:\n",
        "    print(e)\n",
        "\n",
        "if delete_bucket and \"BUCKET_NAME\" in globals():\n",
        "    ! gsutil rm -r $BUCKET_NAME"
      ]
    }
  ],
  "metadata": {
    "colab": {
      "name": "showcase_automl_image_object_detection_export_edge.ipynb",
      "toc_visible": true
    },
    "kernelspec": {
      "display_name": "Python 3",
      "name": "python3"
    }
  },
  "nbformat": 4,
  "nbformat_minor": 0
}
