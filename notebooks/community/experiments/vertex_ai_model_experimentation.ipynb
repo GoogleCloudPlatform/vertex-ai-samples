{
  "cells": [
    {
      "cell_type": "code",
      "execution_count": null,
      "metadata": {
        "id": "ur8xi4C7S06n"
      },
      "outputs": [],
      "source": [
        "# Copyright 2022 Google LLC\n",
        "#\n",
        "# Licensed under the Apache License, Version 2.0 (the \"License\");\n",
        "# you may not use this file except in compliance with the License.\n",
        "# You may obtain a copy of the License at\n",
        "#\n",
        "#     https://www.apache.org/licenses/LICENSE-2.0\n",
        "#\n",
        "# Unless required by applicable law or agreed to in writing, software\n",
        "# distributed under the License is distributed on an \"AS IS\" BASIS,\n",
        "# WITHOUT WARRANTIES OR CONDITIONS OF ANY KIND, either express or implied.\n",
        "# See the License for the specific language governing permissions and\n",
        "# limitations under the License."
      ]
    },
    {
      "cell_type": "markdown",
      "metadata": {
        "id": "JAPoU8Sm5E6e"
      },
      "source": [
        "# Track, compare, manage experiments with Vertex AI Experiments\n",
        "\n",
        "\n",
        "<table align=\"left\">\n",
        "\n",
        "  <td>\n",
        "    <a href=\"https://colab.research.google.com/github/GoogleCloudPlatform/vertex-ai-samples/blob/main/notebooks/vertex_ai_experiments_classification.ipynb\">\n",
        "      <img src=\"https://cloud.google.com/ml-engine/images/colab-logo-32px.png\" alt=\"Colab logo\"> Run in Colab\n",
        "    </a>\n",
        "  </td>\n",
        "  <td>\n",
        "    <a href=\"https://github.com/GoogleCloudPlatform/vertex-ai-samples/blob/main/notebooks/vertex_ai_experiments_classification.ipynb\">\n",
        "      <img src=\"https://cloud.google.com/ml-engine/images/github-logo-32px.png\" alt=\"GitHub logo\">\n",
        "      View on GitHub\n",
        "    </a>\n",
        "  </td>\n",
        "  <td>\n",
        "    <a href=\"https://console.cloud.google.com/vertex-ai/workbench/deploy-notebook?download_url=https://raw.githubusercontent.com/GoogleCloudPlatform/vertex-ai-samples/main/notebooks/vertex_ai_experiments_classification.ipynb\">\n",
        "      <img src=\"https://lh3.googleusercontent.com/UiNooY4LUgW_oTvpsNhPpQzsstV5W8F7rYgxgGBD85cWJoLmrOzhVs_ksK_vgx40SHs7jCqkTkCk=e14-rj-sc0xffffff-h130-w32\" alt=\"Vertex AI logo\">\n",
        "      Open in Vertex AI Workbench\n",
        "    </a>\n",
        "  </td>                                                                                               \n",
        "</table>"
      ]
    },
    {
      "cell_type": "markdown",
      "metadata": {
        "id": "tvgnzT1CKxrO"
      },
      "source": [
        "## Overview\n",
        "\n",
        "The goal when developing a model for a problem is to identify the best model for that particular use case. To this end, Vertex AI Experiments enables you to track, analyze, compare, and search across different ML frameworks (for example, TensorFlow, PyTorch, scikit-learn) and training environments.\n",
        "\n",
        "Vertex AI Experiments enables you to track\n",
        "\n",
        "*   steps of an experiment run, for example, preprocessing, training\n",
        "*   inputs, for example, algorithm, parameters, datasets\n",
        "*   outputs of those steps, for example, models, checkpoints, metrics\n"
      ]
    },
    {
      "cell_type": "markdown",
      "metadata": {
        "id": "d975e698c9a4"
      },
      "source": [
        "### Objective\n",
        "\n",
        "In this tutorial, you learn how to use Vertex AI Experiments to cover model experimentation. \n",
        "\n",
        "This tutorial uses the following Google Cloud ML services and resources:\n",
        "\n",
        "- Cloud Storage\n",
        "- Vertex AI\n",
        "\n",
        "The steps performed include:\n",
        "\n",
        "1. Create Experiment\n",
        "2. Create Run\n",
        "3. Log Parameters\n",
        "4. Log Metrics\n",
        "5. Track Artifacts and Executions\n",
        "6. Track Vertex AI Pipeline"
      ]
    },
    {
      "cell_type": "markdown",
      "metadata": {
        "id": "08d289fa873f"
      },
      "source": [
        "### Dataset\n",
        "\n",
        "The dataset is the [Heart Disease DataSet](https://archive.ics.uci.edu/ml/datasets/heart+Disease). This database contains 14 attributes.\n",
        "\n",
        "The \"goal\" field refers to the presence of heart disease in the patient."
      ]
    },
    {
      "cell_type": "markdown",
      "metadata": {
        "id": "aed92deeb4a0"
      },
      "source": [
        "### Costs \n",
        "\n",
        "This tutorial uses billable components of Google Cloud:\n",
        "\n",
        "* Vertex AI\n",
        "* Cloud Storage\n",
        "\n",
        "Learn about [Vertex AI pricing](https://cloud.google.com/vertex-ai/pricing),\n",
        "and [Cloud Storage pricing](https://cloud.google.com/storage/pricing), \n",
        "and use the [Pricing Calculator](https://cloud.google.com/products/calculator/)\n",
        "to generate a cost estimate based on your projected usage."
      ]
    },
    {
      "cell_type": "markdown",
      "metadata": {
        "id": "gCuSR8GkAgzl"
      },
      "source": [
        "### Set up your local development environment\n",
        "\n",
        "**If you are using Colab or Vertex AI Workbench Notebooks**, your environment already meets\n",
        "all the requirements to run this notebook. You can skip this step."
      ]
    },
    {
      "cell_type": "markdown",
      "metadata": {
        "id": "24743cf4a1e1"
      },
      "source": [
        "**_NOTE_**: This notebook has been tested in the following environment:\n",
        "\n",
        "* Python version = 3.9"
      ]
    },
    {
      "cell_type": "markdown",
      "metadata": {
        "id": "fITp_o3JWlA0"
      },
      "source": [
        "**Otherwise**, make sure your environment meets this notebook's requirements.\n",
        "You need the following:\n",
        "\n",
        "* The Google Cloud SDK\n",
        "\n",
        "The Google Cloud guide to [Setting up a Python development\n",
        "environment](https://cloud.google.com/python/setup) and the [Jupyter\n",
        "installation guide](https://jupyter.org/install) provide detailed instructions\n",
        "for meeting these requirements. The following steps provide a condensed set of\n",
        "instructions:\n",
        "\n",
        "1. [Install and initialize the Cloud SDK.](https://cloud.google.com/sdk/docs/)\n",
        "\n",
        "1. [Install Python 3.](https://cloud.google.com/python/setup#installing_python)\n",
        "\n",
        "1. [Install\n",
        "   virtualenv](https://cloud.google.com/python/setup#installing_and_using_virtualenv)\n",
        "   and create a virtual environment that uses Python 3. Activate the virtual environment.\n",
        "\n",
        "1. To install Jupyter, run `pip3 install jupyter` on the\n",
        "command-line in a terminal shell.\n",
        "\n",
        "1. To launch Jupyter, run `jupyter notebook` on the command-line in a terminal shell.\n",
        "\n",
        "1. Open this notebook in the Jupyter Notebook Dashboard."
      ]
    },
    {
      "cell_type": "markdown",
      "metadata": {
        "id": "i7EUnXsZhAGF"
      },
      "source": [
        "## Installation\n",
        "\n",
        "Install the following packages required to execute this notebook. "
      ]
    },
    {
      "cell_type": "code",
      "execution_count": null,
      "metadata": {
        "id": "2b4ef9b72d43"
      },
      "outputs": [],
      "source": [
        "import os\n",
        "\n",
        "# The Vertex AI Workbench Notebook product has specific requirements\n",
        "IS_WORKBENCH_NOTEBOOK = os.getenv(\"DL_ANACONDA_HOME\")\n",
        "IS_USER_MANAGED_WORKBENCH_NOTEBOOK = os.path.exists(\n",
        "    \"/opt/deeplearning/metadata/env_version\"\n",
        ")\n",
        "\n",
        "# Vertex AI Notebook requires dependencies to be installed with '--user'\n",
        "USER_FLAG = \"\"\n",
        "if IS_WORKBENCH_NOTEBOOK:\n",
        "    USER_FLAG = \"--user\"\n",
        "\n",
        "! pip3 install --upgrade google-cloud-aiplatform kfp fsspec gcsfs {USER_FLAG} -q --no-warn-conflicts"
      ]
    },
    {
      "cell_type": "markdown",
      "metadata": {
        "id": "hhq5zEbGg0XX"
      },
      "source": [
        "### Restart the kernel\n",
        "\n",
        "After you install the additional packages, you need to restart the notebook kernel so it can find the packages."
      ]
    },
    {
      "cell_type": "code",
      "execution_count": null,
      "metadata": {
        "id": "EzrelQZ22IZj"
      },
      "outputs": [],
      "source": [
        "# Automatically restart kernel after installs\n",
        "import os\n",
        "\n",
        "if not os.getenv(\"IS_TESTING\"):\n",
        "    # Automatically restart kernel after installs\n",
        "    import IPython\n",
        "\n",
        "    app = IPython.Application.instance()\n",
        "    app.kernel.do_shutdown(True)"
      ]
    },
    {
      "cell_type": "markdown",
      "metadata": {
        "id": "BF1j6f9HApxa"
      },
      "source": [
        "## Before you begin\n",
        "\n",
        "### Set up your Google Cloud project\n",
        "\n",
        "**The following steps are required, regardless of your notebook environment.**\n",
        "\n",
        "1. [Select or create a Google Cloud project](https://console.cloud.google.com/cloud-resource-manager). When you first create an account, you get a $300 free credit towards your compute/storage costs.\n",
        "\n",
        "1. [Make sure that billing is enabled for your project](https://cloud.google.com/billing/docs/how-to/modify-project).\n",
        "\n",
        "1. [Enable the Vertex AI API](https://console.cloud.google.com/flows/enableapi?apiid=aiplatform.googleapis.com).\n",
        "\n",
        "1. If you are running this notebook locally, you need to install the [Cloud SDK](https://cloud.google.com/sdk).\n",
        "\n",
        "1. Enter your project ID in the cell below. Then run the cell to make sure the\n",
        "Cloud SDK uses the right project for all the commands in this notebook.\n",
        "\n",
        "**Note**: Jupyter runs lines prefixed with `!` as shell commands, and it interpolates Python variables prefixed with `$` into these commands."
      ]
    },
    {
      "cell_type": "markdown",
      "metadata": {
        "id": "WReHDGG5g0XY"
      },
      "source": [
        "#### Set your project ID\n",
        "\n",
        "**If you don't know your project ID**, you may be able to get your project ID using `gcloud`."
      ]
    },
    {
      "cell_type": "code",
      "execution_count": null,
      "metadata": {
        "id": "oM1iC_MfAts1"
      },
      "outputs": [],
      "source": [
        "PROJECT_ID = \"[your-project-id]\"  # @param {type:\"string\"}"
      ]
    },
    {
      "cell_type": "code",
      "execution_count": null,
      "metadata": {
        "id": "riG_qUokg0XZ"
      },
      "outputs": [],
      "source": [
        "if PROJECT_ID == \"\" or PROJECT_ID is None or PROJECT_ID == \"[your-project-id]\":\n",
        "    # Get your GCP project id from gcloud\n",
        "    shell_output = ! gcloud config list --format 'value(core.project)' 2>/dev/null\n",
        "    PROJECT_ID = shell_output[0]\n",
        "    print(\"Project ID:\", PROJECT_ID)"
      ]
    },
    {
      "cell_type": "code",
      "execution_count": null,
      "metadata": {
        "id": "set_gcloud_project_id"
      },
      "outputs": [],
      "source": [
        "! gcloud config set project $PROJECT_ID"
      ]
    },
    {
      "cell_type": "markdown",
      "metadata": {
        "id": "region"
      },
      "source": [
        "#### Region\n",
        "\n",
        "You can also change the `REGION` variable, which is used for operations\n",
        "throughout the rest of this notebook.  Below are regions supported for Vertex AI. It is recommended that you choose the region closest to you.\n",
        "\n",
        "- Americas: `us-central1`\n",
        "- Europe: `europe-west4`\n",
        "- Asia Pacific: `asia-east1`\n",
        "\n",
        "You may not use a multi-regional bucket for training with Vertex AI. Not all regions provide support for all Vertex AI services.\n",
        "\n",
        "Learn more about [Vertex AI regions](https://cloud.google.com/vertex-ai/docs/general/locations)."
      ]
    },
    {
      "cell_type": "code",
      "execution_count": null,
      "metadata": {
        "id": "MiIiKM9LWlA4"
      },
      "outputs": [],
      "source": [
        "REGION = \"[your-region]\"  # @param {type: \"string\"}\n",
        "\n",
        "if REGION == \"[your-region]\":\n",
        "    REGION = \"us-central1\""
      ]
    },
    {
      "cell_type": "markdown",
      "metadata": {
        "id": "06571eb4063b"
      },
      "source": [
        "#### UUID\n",
        "\n",
        "If you are in a live tutorial session, you might be using a shared test account or project. To avoid name collisions between users on resources created, you create a uuid for each instance session, and append it onto the name of resources you create in this tutorial."
      ]
    },
    {
      "cell_type": "code",
      "execution_count": null,
      "metadata": {
        "id": "697568e92bd6"
      },
      "outputs": [],
      "source": [
        "import random\n",
        "import string\n",
        "\n",
        "\n",
        "# Generate a uuid of a specifed length(default=8)\n",
        "def generate_uuid(length: int = 8) -> str:\n",
        "    return \"\".join(random.choices(string.ascii_lowercase + string.digits, k=length))\n",
        "\n",
        "\n",
        "UUID = generate_uuid()"
      ]
    },
    {
      "cell_type": "markdown",
      "metadata": {
        "id": "sBCra4QMA2wR"
      },
      "source": [
        "### Authenticate your Google Cloud account\n",
        "\n",
        "**If you are using Vertex AI Workbench Notebooks**, your environment is already\n",
        "authenticated. \n",
        "\n",
        "**If you are using Colab**, run the cell below and follow the instructions\n",
        "when prompted to authenticate your account via oAuth.\n",
        "\n",
        "**Otherwise**, follow these steps:\n",
        "\n",
        "1. In the Cloud Console, go to the [**Create service account key**\n",
        "   page](https://console.cloud.google.com/apis/credentials/serviceaccountkey).\n",
        "\n",
        "2. Click **Create service account**.\n",
        "\n",
        "3. In the **Service account name** field, enter a name, and\n",
        "   click **Create**.\n",
        "\n",
        "4. In the **Grant this service account access to project** section, click the **Role** drop-down list. Type \"Vertex AI\"\n",
        "into the filter box, and select\n",
        "   **Vertex AI Administrator**. Type \"Storage Object Admin\" into the filter box, and select **Storage Object Admin**.\n",
        "\n",
        "5. Click *Create*. A JSON file that contains your key downloads to your\n",
        "local environment.\n",
        "\n",
        "6. Enter the path to your service account key as the\n",
        "`GOOGLE_APPLICATION_CREDENTIALS` variable in the cell below and run the cell."
      ]
    },
    {
      "cell_type": "code",
      "execution_count": null,
      "metadata": {
        "id": "PyQmSRbKA8r-"
      },
      "outputs": [],
      "source": [
        "# If you are running this notebook in Colab, run this cell and follow the\n",
        "# instructions to authenticate your GCP account. This provides access to your\n",
        "# Cloud Storage bucket and lets you submit training jobs and prediction\n",
        "# requests.\n",
        "\n",
        "import os\n",
        "import sys\n",
        "\n",
        "# If on Vertex AI Workbench, then don't execute this code\n",
        "IS_COLAB = \"google.colab\" in sys.modules\n",
        "if not os.path.exists(\"/opt/deeplearning/metadata/env_version\") and not os.getenv(\n",
        "    \"DL_ANACONDA_HOME\"\n",
        "):\n",
        "    if \"google.colab\" in sys.modules:\n",
        "        from google.colab import auth as google_auth\n",
        "\n",
        "        google_auth.authenticate_user()\n",
        "\n",
        "    # If you are running this notebook locally, replace the string below with the\n",
        "    # path to your service account key and run this cell to authenticate your GCP\n",
        "    # account.\n",
        "    elif not os.getenv(\"IS_TESTING\"):\n",
        "        %env GOOGLE_APPLICATION_CREDENTIALS '[your-service-account-key-path]'"
      ]
    },
    {
      "cell_type": "markdown",
      "metadata": {
        "id": "23988890fef6"
      },
      "source": [
        "#### Get your project number\n",
        "\n",
        "Now that the project ID is set, you get your corresponding project number."
      ]
    },
    {
      "cell_type": "code",
      "execution_count": null,
      "metadata": {
        "id": "2d6950574e1d"
      },
      "outputs": [],
      "source": [
        "shell_output = ! gcloud projects list --filter=\"PROJECT_ID:'{PROJECT_ID}'\" --format='value(PROJECT_NUMBER)'\n",
        "PROJECT_NUMBER = shell_output[0]\n",
        "print(\"Project Number:\", PROJECT_NUMBER)"
      ]
    },
    {
      "cell_type": "markdown",
      "metadata": {
        "id": "zgPO1eR3CYjk"
      },
      "source": [
        "### Create a Cloud Storage bucket\n",
        "\n",
        "**The following steps are required, regardless of your notebook environment.**\n",
        "\n",
        "\n",
        "Set the name of your Cloud Storage bucket below. It must be unique across all\n",
        "Cloud Storage buckets."
      ]
    },
    {
      "cell_type": "code",
      "execution_count": null,
      "metadata": {
        "id": "MzGDU7TWdts_"
      },
      "outputs": [],
      "source": [
        "BUCKET_NAME = \"[your-bucket-name]\"  # @param {type:\"string\"}\n",
        "BUCKET_URI = f\"gs://{BUCKET_NAME}\""
      ]
    },
    {
      "cell_type": "code",
      "execution_count": null,
      "metadata": {
        "id": "cf221059d072"
      },
      "outputs": [],
      "source": [
        "if BUCKET_NAME == \"\" or BUCKET_NAME is None or BUCKET_NAME == \"[your-bucket-name]\":\n",
        "    BUCKET_NAME = PROJECT_ID + \"-aip-\" + UUID\n",
        "    BUCKET_URI = f\"gs://{BUCKET_NAME}\""
      ]
    },
    {
      "cell_type": "markdown",
      "metadata": {
        "id": "-EcIXiGsCePi"
      },
      "source": [
        "**Only if your bucket doesn't already exist**: Run the following cell to create your Cloud Storage bucket."
      ]
    },
    {
      "cell_type": "code",
      "execution_count": null,
      "metadata": {
        "id": "NIq7R4HZCfIc"
      },
      "outputs": [],
      "source": [
        "! gsutil mb -l $REGION -p $PROJECT_ID $BUCKET_URI"
      ]
    },
    {
      "cell_type": "markdown",
      "metadata": {
        "id": "ucvCsknMCims"
      },
      "source": [
        "Finally, validate access to your Cloud Storage bucket by examining its contents:"
      ]
    },
    {
      "cell_type": "code",
      "execution_count": null,
      "metadata": {
        "id": "vhOb7YnwClBb"
      },
      "outputs": [],
      "source": [
        "! gsutil ls -al $BUCKET_URI"
      ]
    },
    {
      "cell_type": "markdown",
      "metadata": {
        "id": "set_service_account"
      },
      "source": [
        "#### Service Account \n",
        "\n",
        "If you do not want to use your project's Compute Engine service account, set `SERVICE_ACCOUNT` to another service account ID."
      ]
    },
    {
      "cell_type": "code",
      "execution_count": null,
      "metadata": {
        "id": "dxkQNhY0WlA8"
      },
      "outputs": [],
      "source": [
        "SERVICE_ACCOUNT = \"[your-service-account]\"  # @param {type:\"string\"}"
      ]
    },
    {
      "cell_type": "code",
      "execution_count": null,
      "metadata": {
        "id": "autoset_service_account"
      },
      "outputs": [],
      "source": [
        "if (\n",
        "    SERVICE_ACCOUNT == \"\"\n",
        "    or SERVICE_ACCOUNT is None\n",
        "    or SERVICE_ACCOUNT == \"[your-service-account]\"\n",
        "):\n",
        "    # Get your service account from gcloud\n",
        "    if not IS_COLAB:\n",
        "        shell_output = !gcloud auth list 2>/dev/null\n",
        "        SERVICE_ACCOUNT = shell_output[2].replace(\"*\", \"\").strip()\n",
        "\n",
        "    else:  # IS_COLAB:\n",
        "        shell_output = ! gcloud projects describe  $PROJECT_ID\n",
        "        project_number = shell_output[-1].split(\":\")[1].strip().replace(\"'\", \"\")\n",
        "        SERVICE_ACCOUNT = f\"{project_number}-compute@developer.gserviceaccount.com\"\n",
        "\n",
        "    print(\"Service Account:\", SERVICE_ACCOUNT)"
      ]
    },
    {
      "cell_type": "markdown",
      "metadata": {
        "id": "set_service_account:pipelines"
      },
      "source": [
        "#### Set service account access \n",
        "\n",
        "Run the following commands to grant your service account access to {TODO; i.e., read and write pipeline artifacts} in the bucket that you created in the previous step. You only need to run this step once per service account."
      ]
    },
    {
      "cell_type": "code",
      "execution_count": null,
      "metadata": {
        "id": "7oFHfGxwWlA8"
      },
      "outputs": [],
      "source": [
        "! gsutil iam ch serviceAccount:{SERVICE_ACCOUNT}:roles/storage.objectCreator $BUCKET_URI\n",
        "\n",
        "! gsutil iam ch serviceAccount:{SERVICE_ACCOUNT}:roles/storage.objectViewer $BUCKET_URI"
      ]
    },
    {
      "cell_type": "markdown",
      "metadata": {
        "id": "XoEqT2Y4DJmf"
      },
      "source": [
        "### Import libraries"
      ]
    },
    {
      "cell_type": "code",
      "execution_count": null,
      "metadata": {
        "id": "pRUOFELefqf1"
      },
      "outputs": [],
      "source": [
        "import kfp.v2.compiler as compiler\n",
        "import kfp.v2.dsl as dsl\n",
        "import pandas as pd\n",
        "import tensorflow as tf\n",
        "from google.cloud import aiplatform as vertex_ai\n",
        "from kfp.v2.dsl import Metrics, Model, Output, component\n",
        "from tensorflow import keras\n",
        "from tensorflow.keras import layers\n",
        "from tensorflow.keras.layers import IntegerLookup, Normalization, StringLookup"
      ]
    },
    {
      "cell_type": "markdown",
      "metadata": {
        "id": "hEWIYdFBbUNa"
      },
      "source": [
        "### Define constants"
      ]
    },
    {
      "cell_type": "code",
      "execution_count": null,
      "metadata": {
        "id": "jHFGG8X3bVK1"
      },
      "outputs": [],
      "source": [
        "EXPERIMENT_NAME = \"[your-experiment-name]\"  # @param {type:\"string\"}"
      ]
    },
    {
      "cell_type": "code",
      "execution_count": null,
      "metadata": {
        "id": "ogcGyP5XbZil"
      },
      "outputs": [],
      "source": [
        "if EXPERIMENT_NAME == \"[your-experiment-name]\" or EXPERIMENT_NAME is None:\n",
        "    EXPERIMENT_NAME = \"my-experiment-\" + UUID"
      ]
    },
    {
      "cell_type": "markdown",
      "metadata": {
        "id": "Qy-YBebIewXA"
      },
      "source": [
        "### Helpers\n",
        "\n",
        "Below you have the following helper functions:\n",
        "\n",
        "- `dataframe_to_dataset` to convert a Pandas dataframe to a tf.data.Dataset\n",
        "- `encode_numerical_feature` to create a normalizer and encode a numerical feature.\n",
        "- `encode_categorical_feature` to encode a categorical feature."
      ]
    },
    {
      "cell_type": "code",
      "execution_count": null,
      "metadata": {
        "id": "t9N3mbVPeyQV"
      },
      "outputs": [],
      "source": [
        "def dataframe_to_dataset(dataframe):\n",
        "    \"\"\"\n",
        "    Convert a Pandas dataframe to a tf.data.Dataset.\n",
        "    Args:\n",
        "        dataframe: Pandas dataframe\n",
        "    Returns:\n",
        "        tf.data.Dataset\n",
        "    \"\"\"\n",
        "    dataframe = dataframe.copy()\n",
        "    labels = dataframe.pop(\"target\")\n",
        "    ds = tf.data.Dataset.from_tensor_slices((dict(dataframe), labels))\n",
        "    return ds\n",
        "\n",
        "\n",
        "def encode_numerical_feature(feature, name, dataset):\n",
        "    \"\"\"\n",
        "    Create a normalizer and encode a numerical feature.\n",
        "    Args:\n",
        "        feature: the feature to encode\n",
        "        name: the name of the feature\n",
        "        dataset: tf.data.Dataset\n",
        "    Returns:\n",
        "        the encoded feature\n",
        "    \"\"\"\n",
        "    # Create a Normalization layer for our feature\n",
        "    normalizer = Normalization()\n",
        "\n",
        "    # Prepare a Dataset that only yields our feature\n",
        "    feature_ds = dataset.map(lambda x, y: x[name])\n",
        "    feature_ds = feature_ds.map(lambda x: tf.expand_dims(x, -1))\n",
        "\n",
        "    # Learn the statistics of the data\n",
        "    normalizer.adapt(feature_ds)\n",
        "\n",
        "    # Normalize the input feature\n",
        "    encoded_feature = normalizer(feature)\n",
        "    return encoded_feature\n",
        "\n",
        "\n",
        "def encode_categorical_feature(feature, name, dataset, is_string):\n",
        "    \"\"\"\n",
        "    Encode a categorical feature.\n",
        "    Args:\n",
        "        feature: the feature to encode\n",
        "        name: the name of the feature\n",
        "        dataset: tf.data.Dataset\n",
        "        is_string: whether the feature is a string\n",
        "    Returns:\n",
        "        the encoded feature\n",
        "    \"\"\"\n",
        "    lookup_class = StringLookup if is_string else IntegerLookup\n",
        "    # Create a lookup layer which will turn strings into integer indices\n",
        "    lookup = lookup_class(output_mode=\"binary\")\n",
        "\n",
        "    # Prepare a Dataset that only yields our feature\n",
        "    feature_ds = dataset.map(lambda x, y: x[name])\n",
        "    feature_ds = feature_ds.map(lambda x: tf.expand_dims(x, -1))\n",
        "\n",
        "    # Learn the set of possible string values and assign them a fixed integer index\n",
        "    lookup.adapt(feature_ds)\n",
        "\n",
        "    # Turn the string input into integer indices\n",
        "    encoded_feature = lookup(feature)\n",
        "    return encoded_feature"
      ]
    },
    {
      "cell_type": "markdown",
      "metadata": {
        "id": "init_aip:mbsdk,all"
      },
      "source": [
        "### Initialize Vertex AI SDK for Python\n",
        "\n",
        "Initialize the Vertex AI SDK for Python for your project and corresponding bucket."
      ]
    },
    {
      "cell_type": "code",
      "execution_count": null,
      "metadata": {
        "id": "zBXU04iaWlA9"
      },
      "outputs": [],
      "source": [
        "vertex_ai.init(project=PROJECT_ID, location=REGION, staging_bucket=BUCKET_URI)"
      ]
    },
    {
      "cell_type": "markdown",
      "metadata": {
        "id": "bba904753a2c"
      },
      "source": [
        "### Create TensorBoard instance using Vertex AI TensorBoard\n",
        "\n",
        "You can upload your TensorBoard logs by first creating a Vertex AI TensorBoard instance.\n",
        "\n",
        "**Notice** that if you did not activate yet, Vertex AI TensorBoard charges a monthly fee of $300 per unique active user. \n",
        "\n",
        "Learn more about [TensorBoard overview](https://cloud.google.com/vertex-ai/docs/experiments/tensorboard-overview)."
      ]
    },
    {
      "cell_type": "code",
      "execution_count": null,
      "metadata": {
        "id": "d9800e386d0c"
      },
      "outputs": [],
      "source": [
        "vertex_ai_tb = vertex_ai.Tensorboard.create()"
      ]
    },
    {
      "cell_type": "code",
      "execution_count": null,
      "metadata": {
        "id": "a600e376bf37"
      },
      "outputs": [],
      "source": [
        "vertex_ai.init(experiment=EXPERIMENT_NAME, experiment_tensorboard=vertex_ai_tb)"
      ]
    },
    {
      "cell_type": "markdown",
      "metadata": {
        "id": "12ab31563365"
      },
      "source": [
        "## Model Experimentation and Formalization with Vertex AI Experiments\n",
        "\n",
        "Vertex AI enables users to track the steps (for example, preprocessing, training) of an experiment run, and track inputs (for example, algorithm, parameters, datasets) and outputs (for example, models, checkpoints, metrics) of those steps. \n",
        "\n",
        "To better understanding how parameters and metrics are stored and organized, the following concepts are explained:\n",
        "\n",
        "1. **Experiments** describe a context that groups your runs and the artifacts you create into a logical session. For example, in this notebook you create an Experiment and log data to that experiment.\n",
        "\n",
        "1. **Run** represents a single path/avenue that you executed while performing an experiment. A run includes artifacts that you used as inputs or outputs, and parameters that you used in this execution. An Experiment can contain multiple runs. \n",
        "\n",
        "You can use the  Vertex AI SDK for Python to track metrics and parameters models trained locally for each experiment across several experiment runs. "
      ]
    },
    {
      "cell_type": "markdown",
      "metadata": {
        "id": "u-iTnzt3B6Z_"
      },
      "source": [
        "### Initiate an experiment and run an experiment run\n",
        "\n",
        "You define several experiment configurations, run experiments and track them in Vertex AI Experiments"
      ]
    },
    {
      "cell_type": "code",
      "execution_count": null,
      "metadata": {
        "id": "qoKLTdn5cD4p"
      },
      "outputs": [],
      "source": [
        "RUN_NAME = \"run-1\"\n",
        "my_run = vertex_ai.start_run(RUN_NAME)"
      ]
    },
    {
      "cell_type": "markdown",
      "metadata": {
        "id": "7-_upcKFdlwY"
      },
      "source": [
        "#### Prepare the data for model training\n",
        "\n",
        "##### Track the dataset and data configuration"
      ]
    },
    {
      "cell_type": "code",
      "execution_count": null,
      "metadata": {
        "id": "4PujAKQ4coI4"
      },
      "outputs": [],
      "source": [
        "file_url = \"http://storage.googleapis.com/download.tensorflow.org/data/heart.csv\"\n",
        "dataset_artifact = vertex_ai.Artifact.create(\n",
        "    schema_title=\"system.Dataset\",\n",
        "    resource_id=f\"{EXPERIMENT_NAME}-heart-data\",\n",
        "    uri=file_url,\n",
        "    display_name=\"heart data\",\n",
        ")"
      ]
    },
    {
      "cell_type": "markdown",
      "metadata": {
        "id": "da3f422ed147"
      },
      "source": [
        "##### Initiate experiment configuration"
      ]
    },
    {
      "cell_type": "code",
      "execution_count": null,
      "metadata": {
        "id": "c_Z1SbcadDZ3"
      },
      "outputs": [],
      "source": [
        "params = dict(\n",
        "    dataset_uri=dataset_artifact.uri,\n",
        "    dataset_fraction_split=0.2,\n",
        "    dataset_batch=32,\n",
        "    random_state=1337,\n",
        ")\n",
        "\n",
        "vertex_ai.log_params(params)\n",
        "vertex_ai.get_experiment_df()"
      ]
    },
    {
      "cell_type": "markdown",
      "metadata": {
        "id": "1hnbD-eheQan"
      },
      "source": [
        "##### Read the dataset"
      ]
    },
    {
      "cell_type": "code",
      "execution_count": null,
      "metadata": {
        "id": "JrcH08CLeE22"
      },
      "outputs": [],
      "source": [
        "dataframe = pd.read_csv(file_url)\n",
        "dataframe.head()"
      ]
    },
    {
      "cell_type": "markdown",
      "metadata": {
        "id": "yb8VyNdheTDN"
      },
      "source": [
        "##### Create training, test and validation datasets and track them in Vertex ML Metadata for data lineage\n",
        "\n",
        "Run an execution to prepare training data and track resulting datasets as part of Experiment lineage."
      ]
    },
    {
      "cell_type": "code",
      "execution_count": null,
      "metadata": {
        "id": "interracial-cleanup"
      },
      "outputs": [],
      "source": [
        "with vertex_ai.start_execution(\n",
        "    schema_title=\"system.ContainerExecution\", display_name=f\"{RUN_NAME} data split\"\n",
        ") as exc:\n",
        "    exc.assign_input_artifacts([dataset_artifact])\n",
        "\n",
        "    # Train, test and validation split\n",
        "    val_dataframe = dataframe.sample(\n",
        "        frac=params[\"dataset_fraction_split\"], random_state=params[\"random_state\"]\n",
        "    )\n",
        "    test_dataframe = val_dataframe.sample(\n",
        "        frac=params[\"dataset_fraction_split\"], random_state=params[\"random_state\"]\n",
        "    )\n",
        "    train_dataframe = dataframe.drop(val_dataframe.index)\n",
        "\n",
        "    train_uri = f\"{BUCKET_URI}/{EXPERIMENT_NAME}/{RUN_NAME}/data/heart_train.csv\"\n",
        "    test_uri = f\"{BUCKET_URI}/{EXPERIMENT_NAME}/{RUN_NAME}/data/heart_test.csv\"\n",
        "    val_uri = f\"{BUCKET_URI}/{EXPERIMENT_NAME}/{RUN_NAME}/data/heart_val.csv\"\n",
        "\n",
        "    # Materialize data\n",
        "    train_dataframe.to_csv(train_uri)\n",
        "    val_dataframe.to_csv(val_uri)\n",
        "    test_dataframe.to_csv(val_uri)\n",
        "\n",
        "    # Create Vertex AI Datasets\n",
        "    train_metadata = vertex_ai.Artifact.create(\n",
        "        schema_title=\"system.Dataset\", uri=train_uri, display_name=\"train split\"\n",
        "    )\n",
        "    val_metadata = vertex_ai.Artifact.create(\n",
        "        schema_title=\"system.Dataset\", uri=val_uri, display_name=\"val split\"\n",
        "    )\n",
        "    test_metadata = vertex_ai.Artifact.create(\n",
        "        schema_title=\"system.Dataset\", uri=test_uri, display_name=\"test split\"\n",
        "    )\n",
        "\n",
        "    exc.assign_output_artifacts([train_metadata, val_metadata, test_metadata])"
      ]
    },
    {
      "cell_type": "markdown",
      "metadata": {
        "id": "2fasbSpQeq31"
      },
      "source": [
        "#### Feature Engineering\n",
        "\n",
        "##### Trasform dataframe into TF dataset"
      ]
    },
    {
      "cell_type": "code",
      "execution_count": null,
      "metadata": {
        "id": "0Geq2oWte_yi"
      },
      "outputs": [],
      "source": [
        "train_ds = (\n",
        "    dataframe_to_dataset(train_dataframe)\n",
        "    .batch(params[\"dataset_batch\"])\n",
        "    .shuffle(buffer_size=len(train_dataframe))\n",
        ")\n",
        "val_ds = dataframe_to_dataset(val_dataframe).batch(params[\"dataset_batch\"])\n",
        "test_ds = dataframe_to_dataset(test_dataframe).batch(params[\"dataset_batch\"])"
      ]
    },
    {
      "cell_type": "markdown",
      "metadata": {
        "id": "IeVZbTGZiV_3"
      },
      "source": [
        "##### Generate features\n",
        "\n",
        "The steps performed in this part includes categorical and integer features encoding."
      ]
    },
    {
      "cell_type": "code",
      "execution_count": null,
      "metadata": {
        "id": "r0hCAxfIfcC5"
      },
      "outputs": [],
      "source": [
        "# Categorical features encoded as integers\n",
        "sex = keras.Input(shape=(1,), name=\"sex\", dtype=\"int64\")\n",
        "cp = keras.Input(shape=(1,), name=\"cp\", dtype=\"int64\")\n",
        "fbs = keras.Input(shape=(1,), name=\"fbs\", dtype=\"int64\")\n",
        "restecg = keras.Input(shape=(1,), name=\"restecg\", dtype=\"int64\")\n",
        "exang = keras.Input(shape=(1,), name=\"exang\", dtype=\"int64\")\n",
        "ca = keras.Input(shape=(1,), name=\"ca\", dtype=\"int64\")\n",
        "\n",
        "# Categorical feature encoded as string\n",
        "thal = keras.Input(shape=(1,), name=\"thal\", dtype=\"string\")\n",
        "\n",
        "# Numerical features\n",
        "age = keras.Input(shape=(1,), name=\"age\")\n",
        "trestbps = keras.Input(shape=(1,), name=\"trestbps\")\n",
        "chol = keras.Input(shape=(1,), name=\"chol\")\n",
        "thalach = keras.Input(shape=(1,), name=\"thalach\")\n",
        "oldpeak = keras.Input(shape=(1,), name=\"oldpeak\")\n",
        "slope = keras.Input(shape=(1,), name=\"slope\")\n",
        "\n",
        "all_inputs = [\n",
        "    sex,\n",
        "    cp,\n",
        "    fbs,\n",
        "    restecg,\n",
        "    exang,\n",
        "    ca,\n",
        "    thal,\n",
        "    age,\n",
        "    trestbps,\n",
        "    chol,\n",
        "    thalach,\n",
        "    oldpeak,\n",
        "    slope,\n",
        "]\n",
        "\n",
        "# Integer categorical features\n",
        "sex_encoded = encode_categorical_feature(sex, \"sex\", train_ds, False)\n",
        "cp_encoded = encode_categorical_feature(cp, \"cp\", train_ds, False)\n",
        "fbs_encoded = encode_categorical_feature(fbs, \"fbs\", train_ds, False)\n",
        "restecg_encoded = encode_categorical_feature(restecg, \"restecg\", train_ds, False)\n",
        "exang_encoded = encode_categorical_feature(exang, \"exang\", train_ds, False)\n",
        "ca_encoded = encode_categorical_feature(ca, \"ca\", train_ds, False)\n",
        "\n",
        "# String categorical features\n",
        "thal_encoded = encode_categorical_feature(thal, \"thal\", train_ds, True)\n",
        "\n",
        "# Numerical features\n",
        "age_encoded = encode_numerical_feature(age, \"age\", train_ds)\n",
        "trestbps_encoded = encode_numerical_feature(trestbps, \"trestbps\", train_ds)\n",
        "chol_encoded = encode_numerical_feature(chol, \"chol\", train_ds)\n",
        "thalach_encoded = encode_numerical_feature(thalach, \"thalach\", train_ds)\n",
        "oldpeak_encoded = encode_numerical_feature(oldpeak, \"oldpeak\", train_ds)\n",
        "slope_encoded = encode_numerical_feature(slope, \"slope\", train_ds)\n",
        "\n",
        "all_features = layers.concatenate(\n",
        "    [\n",
        "        sex_encoded,\n",
        "        cp_encoded,\n",
        "        fbs_encoded,\n",
        "        restecg_encoded,\n",
        "        exang_encoded,\n",
        "        slope_encoded,\n",
        "        ca_encoded,\n",
        "        thal_encoded,\n",
        "        age_encoded,\n",
        "        trestbps_encoded,\n",
        "        chol_encoded,\n",
        "        thalach_encoded,\n",
        "        oldpeak_encoded,\n",
        "    ]\n",
        ")"
      ]
    },
    {
      "cell_type": "markdown",
      "metadata": {
        "id": "56t6atwMfteE"
      },
      "source": [
        "#### Build and train the model"
      ]
    },
    {
      "cell_type": "markdown",
      "metadata": {
        "id": "9BXdhgJnsvmZ"
      },
      "source": [
        "###### Track model configuration"
      ]
    },
    {
      "cell_type": "code",
      "execution_count": null,
      "metadata": {
        "id": "kPhulhwEgOl4"
      },
      "outputs": [],
      "source": [
        "params.update(n_units=32, activation=\"relu\", dropout_rate=0.5)\n",
        "\n",
        "vertex_ai.log_params(params)\n",
        "vertex_ai.get_experiment_df()"
      ]
    },
    {
      "cell_type": "markdown",
      "metadata": {
        "id": "TTNAzId5tGSn"
      },
      "source": [
        "###### Build the model"
      ]
    },
    {
      "cell_type": "code",
      "execution_count": null,
      "metadata": {
        "id": "GmFwjbt1fyvj"
      },
      "outputs": [],
      "source": [
        "x = layers.Dense(params[\"n_units\"], activation=params[\"activation\"])(all_features)\n",
        "x = layers.Dropout(params[\"dropout_rate\"])(x)\n",
        "output = layers.Dense(1, activation=\"sigmoid\")(x)\n",
        "model = keras.Model(all_inputs, output)\n",
        "model.compile(\"adam\", \"binary_crossentropy\", metrics=[\"accuracy\"])"
      ]
    },
    {
      "cell_type": "markdown",
      "metadata": {
        "id": "DsOMLiv9thdN"
      },
      "source": [
        "###### Train the model and track metrics"
      ]
    },
    {
      "cell_type": "code",
      "execution_count": null,
      "metadata": {
        "id": "5WhfzpZEgsec"
      },
      "outputs": [],
      "source": [
        "with vertex_ai.start_execution(\n",
        "    schema_title=\"system.ContainerExecution\", display_name=f\"{RUN_NAME} train\"\n",
        ") as exc:\n",
        "\n",
        "    exc.assign_input_artifacts([train_metadata, val_metadata, test_metadata])\n",
        "\n",
        "    params.update(epochs=10)\n",
        "    vertex_ai.log_params(params)\n",
        "    history = model.fit(train_ds, epochs=params[\"epochs\"], validation_data=val_ds)\n",
        "    for i in range(history.params[\"epochs\"]):\n",
        "        vertex_ai.log_time_series_metrics(\n",
        "            dict(\n",
        "                train_loss=history.history[\"loss\"][i],\n",
        "                train_accuracy=history.history[\"accuracy\"][i],\n",
        "                val_loss=history.history[\"val_loss\"][i],\n",
        "                val_accuracy=history.history[\"val_accuracy\"][i],\n",
        "            )\n",
        "        )\n",
        "\n",
        "    metrics = model.evaluate(test_ds, return_dict=True)\n",
        "    vertex_ai.log_metrics(\n",
        "        dict(\n",
        "            loss=metrics[\"loss\"],\n",
        "            accurancy=metrics[\"accuracy\"],\n",
        "        )\n",
        "    )\n",
        "\n",
        "    model_uri = f\"{BUCKET_URI}/{EXPERIMENT_NAME}/{RUN_NAME}/model/\"\n",
        "    model.save(model_uri)\n",
        "\n",
        "    model_metadata = vertex_ai.Artifact.create(\n",
        "        schema_title=\"system.Model\", uri=model_uri, display_name=\"trained heart model\"\n",
        "    )\n",
        "\n",
        "    exc.assign_output_artifacts([model_metadata])"
      ]
    },
    {
      "cell_type": "markdown",
      "metadata": {
        "id": "ZvXizXBN0myN"
      },
      "source": [
        "##### Visualizing experiment results"
      ]
    },
    {
      "cell_type": "markdown",
      "metadata": {
        "id": "k1zcDoj6ucIz"
      },
      "source": [
        "###### Plot metrics"
      ]
    },
    {
      "cell_type": "code",
      "execution_count": null,
      "metadata": {
        "id": "fFIk3lkC0z__"
      },
      "outputs": [],
      "source": [
        "vertex_ai.get_experiment_df()"
      ]
    },
    {
      "cell_type": "markdown",
      "metadata": {
        "id": "rDZ4KXQ-AARJ"
      },
      "source": [
        "###### Plot metrics per epoch"
      ]
    },
    {
      "cell_type": "code",
      "execution_count": null,
      "metadata": {
        "id": "sRFz_imruwhT"
      },
      "outputs": [],
      "source": [
        "my_run.get_time_series_data_frame()"
      ]
    },
    {
      "cell_type": "markdown",
      "metadata": {
        "id": "jHM1TAbmAGXy"
      },
      "source": [
        "###### Visualize experiment in Cloud Console"
      ]
    },
    {
      "cell_type": "code",
      "execution_count": null,
      "metadata": {
        "id": "yWppCA5p0vHf"
      },
      "outputs": [],
      "source": [
        "print(\"Vertex AI Experiments:\")\n",
        "print(\n",
        "    f\"https://console.cloud.google.com/ai/platform/experiments/experiments?folder=&organizationId=&project={PROJECT_ID}\"\n",
        ")"
      ]
    },
    {
      "cell_type": "code",
      "execution_count": null,
      "metadata": {
        "id": "hTQ7eWDZu45Q"
      },
      "outputs": [],
      "source": [
        "vertex_ai.end_run()"
      ]
    },
    {
      "cell_type": "markdown",
      "metadata": {
        "id": "gNxc57G-xIlf"
      },
      "source": [
        "#### Formalize your experiment in a Vertex AI Pipeline"
      ]
    },
    {
      "cell_type": "markdown",
      "metadata": {
        "id": "Waw0N6qeyMlT"
      },
      "source": [
        "##### Create a custom component\n",
        "\n",
        "The section below create a custom trainer component that wraps the experiment code in a pipeline component"
      ]
    },
    {
      "cell_type": "code",
      "execution_count": null,
      "metadata": {
        "id": "dFynCYipxZ1y"
      },
      "outputs": [],
      "source": [
        "@component(packages_to_install=[\"tensorflow\", \"pandas\"])\n",
        "def tabular_trainer(\n",
        "    dataset_uri: str,\n",
        "    dataset_fraction_split: float,\n",
        "    dataset_batch: int,\n",
        "    random_state: int,\n",
        "    n_units: int,\n",
        "    activation: str,\n",
        "    dropout_rate: float,\n",
        "    epochs: int,\n",
        "    metrics: Output[Metrics],\n",
        "    model_metadata: Output[Model],\n",
        "):\n",
        "\n",
        "    import pandas as pd\n",
        "    import tensorflow as tf\n",
        "    from tensorflow import keras\n",
        "    from tensorflow.keras import layers\n",
        "    from tensorflow.keras.layers import (IntegerLookup, Normalization,\n",
        "                                         StringLookup)\n",
        "\n",
        "    dataframe = pd.read_csv(dataset_uri)\n",
        "    dataframe.head()\n",
        "\n",
        "    val_dataframe = dataframe.sample(\n",
        "        frac=dataset_fraction_split, random_state=random_state\n",
        "    )\n",
        "    test_dataframe = val_dataframe.sample(\n",
        "        frac=dataset_fraction_split, random_state=random_state\n",
        "    )\n",
        "    train_dataframe = dataframe.drop(val_dataframe.index)\n",
        "\n",
        "    def dataframe_to_dataset(dataframe):\n",
        "        \"\"\"\n",
        "        Convert a Pandas dataframe to a tf.data.Dataset.\n",
        "        Args:\n",
        "            dataframe: Pandas dataframe\n",
        "        Returns:\n",
        "            tf.data.Dataset\n",
        "        \"\"\"\n",
        "        dataframe = dataframe.copy()\n",
        "        labels = dataframe.pop(\"target\")\n",
        "        ds = tf.data.Dataset.from_tensor_slices((dict(dataframe), labels))\n",
        "        return ds\n",
        "\n",
        "    train_ds = (\n",
        "        dataframe_to_dataset(train_dataframe)\n",
        "        .batch(dataset_batch)\n",
        "        .shuffle(buffer_size=len(train_dataframe))\n",
        "    )\n",
        "    val_ds = dataframe_to_dataset(val_dataframe).batch(dataset_batch)\n",
        "    test_ds = dataframe_to_dataset(test_dataframe).batch(dataset_batch)\n",
        "\n",
        "    def encode_numerical_feature(feature, name, dataset):\n",
        "        \"\"\"\n",
        "        Create a normalizer and encode a numerical feature.\n",
        "        Args:\n",
        "          feature: the feature to encode\n",
        "          name: the name of the feature\n",
        "          dataset: tf.data.Dataset\n",
        "        Returns:\n",
        "          the encoded feature\n",
        "        \"\"\"\n",
        "        # Create a Normalization layer for our feature\n",
        "        normalizer = Normalization()\n",
        "\n",
        "        # Prepare a Dataset that only yields our feature\n",
        "        feature_ds = dataset.map(lambda x, y: x[name])\n",
        "        feature_ds = feature_ds.map(lambda x: tf.expand_dims(x, -1))\n",
        "\n",
        "        # Learn the statistics of the data\n",
        "        normalizer.adapt(feature_ds)\n",
        "\n",
        "        # Normalize the input feature\n",
        "        encoded_feature = normalizer(feature)\n",
        "        return encoded_feature\n",
        "\n",
        "    def encode_categorical_feature(feature, name, dataset, is_string):\n",
        "        \"\"\"\n",
        "        Encode a categorical feature.\n",
        "        Args:\n",
        "          feature: the feature to encode\n",
        "          name: the name of the feature\n",
        "          dataset: tf.data.Dataset\n",
        "          is_string: whether the feature is a string\n",
        "        Returns:\n",
        "          the encoded feature\n",
        "        \"\"\"\n",
        "        lookup_class = StringLookup if is_string else IntegerLookup\n",
        "        # Create a lookup layer which will turn strings into integer indices\n",
        "        lookup = lookup_class(output_mode=\"binary\")\n",
        "\n",
        "        # Prepare a Dataset that only yields our feature\n",
        "        feature_ds = dataset.map(lambda x, y: x[name])\n",
        "        feature_ds = feature_ds.map(lambda x: tf.expand_dims(x, -1))\n",
        "\n",
        "        # Learn the set of possible string values and assign them a fixed integer index\n",
        "        lookup.adapt(feature_ds)\n",
        "\n",
        "        # Turn the string input into integer indices\n",
        "        encoded_feature = lookup(feature)\n",
        "        return encoded_feature\n",
        "\n",
        "    # Categorical features encoded as integers\n",
        "    sex = keras.Input(shape=(1,), name=\"sex\", dtype=\"int64\")\n",
        "    cp = keras.Input(shape=(1,), name=\"cp\", dtype=\"int64\")\n",
        "    fbs = keras.Input(shape=(1,), name=\"fbs\", dtype=\"int64\")\n",
        "    restecg = keras.Input(shape=(1,), name=\"restecg\", dtype=\"int64\")\n",
        "    exang = keras.Input(shape=(1,), name=\"exang\", dtype=\"int64\")\n",
        "    ca = keras.Input(shape=(1,), name=\"ca\", dtype=\"int64\")\n",
        "\n",
        "    # Categorical feature encoded as string\n",
        "    thal = keras.Input(shape=(1,), name=\"thal\", dtype=\"string\")\n",
        "\n",
        "    # Numerical features\n",
        "    age = keras.Input(shape=(1,), name=\"age\")\n",
        "    trestbps = keras.Input(shape=(1,), name=\"trestbps\")\n",
        "    chol = keras.Input(shape=(1,), name=\"chol\")\n",
        "    thalach = keras.Input(shape=(1,), name=\"thalach\")\n",
        "    oldpeak = keras.Input(shape=(1,), name=\"oldpeak\")\n",
        "    slope = keras.Input(shape=(1,), name=\"slope\")\n",
        "\n",
        "    all_inputs = [\n",
        "        sex,\n",
        "        cp,\n",
        "        fbs,\n",
        "        restecg,\n",
        "        exang,\n",
        "        ca,\n",
        "        thal,\n",
        "        age,\n",
        "        trestbps,\n",
        "        chol,\n",
        "        thalach,\n",
        "        oldpeak,\n",
        "        slope,\n",
        "    ]\n",
        "\n",
        "    # Integer categorical features\n",
        "    sex_encoded = encode_categorical_feature(sex, \"sex\", train_ds, False)\n",
        "    cp_encoded = encode_categorical_feature(cp, \"cp\", train_ds, False)\n",
        "    fbs_encoded = encode_categorical_feature(fbs, \"fbs\", train_ds, False)\n",
        "    restecg_encoded = encode_categorical_feature(restecg, \"restecg\", train_ds, False)\n",
        "    exang_encoded = encode_categorical_feature(exang, \"exang\", train_ds, False)\n",
        "    ca_encoded = encode_categorical_feature(ca, \"ca\", train_ds, False)\n",
        "\n",
        "    # String categorical features\n",
        "    thal_encoded = encode_categorical_feature(thal, \"thal\", train_ds, True)\n",
        "\n",
        "    # Numerical features\n",
        "    age_encoded = encode_numerical_feature(age, \"age\", train_ds)\n",
        "    trestbps_encoded = encode_numerical_feature(trestbps, \"trestbps\", train_ds)\n",
        "    chol_encoded = encode_numerical_feature(chol, \"chol\", train_ds)\n",
        "    thalach_encoded = encode_numerical_feature(thalach, \"thalach\", train_ds)\n",
        "    oldpeak_encoded = encode_numerical_feature(oldpeak, \"oldpeak\", train_ds)\n",
        "    slope_encoded = encode_numerical_feature(slope, \"slope\", train_ds)\n",
        "\n",
        "    all_features = layers.concatenate(\n",
        "        [\n",
        "            sex_encoded,\n",
        "            cp_encoded,\n",
        "            fbs_encoded,\n",
        "            restecg_encoded,\n",
        "            exang_encoded,\n",
        "            slope_encoded,\n",
        "            ca_encoded,\n",
        "            thal_encoded,\n",
        "            age_encoded,\n",
        "            trestbps_encoded,\n",
        "            chol_encoded,\n",
        "            thalach_encoded,\n",
        "            oldpeak_encoded,\n",
        "        ]\n",
        "    )\n",
        "\n",
        "    x = layers.Dense(n_units, activation=activation)(all_features)\n",
        "    x = layers.Dropout(dropout_rate)(x)\n",
        "    output = layers.Dense(1, activation=\"sigmoid\")(x)\n",
        "    model = keras.Model(all_inputs, output)\n",
        "    model.compile(\"adam\", \"binary_crossentropy\", metrics=[\"accuracy\"])\n",
        "\n",
        "    model.fit(train_ds, epochs=epochs, validation_data=val_ds)\n",
        "\n",
        "    m = model.evaluate(test_ds, return_dict=True)\n",
        "    metrics.metadata.update(\n",
        "        dict(\n",
        "            loss=m[\"loss\"],\n",
        "            accurancy=m[\"accuracy\"],\n",
        "        )\n",
        "    )\n",
        "\n",
        "    model.save(model_metadata.uri)"
      ]
    },
    {
      "cell_type": "markdown",
      "metadata": {
        "id": "RUTnAo1EyVKR"
      },
      "source": [
        "##### Build the ML pipeline\n",
        "\n",
        "Build and compile the pipeline including the trainer component"
      ]
    },
    {
      "cell_type": "code",
      "execution_count": null,
      "metadata": {
        "id": "p1XdCv2OyZui"
      },
      "outputs": [],
      "source": [
        "@dsl.pipeline(name=\"simple-tabular-pipeline\")\n",
        "def pipeline(\n",
        "    dataset_uri: str,\n",
        "    dataset_fraction_split: float,\n",
        "    dataset_batch: int,\n",
        "    random_state: int,\n",
        "    n_units: int,\n",
        "    activation: str,\n",
        "    dropout_rate: float,\n",
        "    epochs: int,\n",
        "):\n",
        "\n",
        "    tabular_trainer(\n",
        "        dataset_uri=dataset_uri,\n",
        "        dataset_fraction_split=dataset_fraction_split,\n",
        "        dataset_batch=dataset_batch,\n",
        "        random_state=random_state,\n",
        "        n_units=n_units,\n",
        "        activation=activation,\n",
        "        dropout_rate=dropout_rate,\n",
        "        epochs=epochs,\n",
        "    )\n",
        "\n",
        "\n",
        "compiler.Compiler().compile(pipeline_func=pipeline, package_path=\"pipeline.json\")"
      ]
    },
    {
      "cell_type": "markdown",
      "metadata": {
        "id": "jYbpX6bvyfK8"
      },
      "source": [
        "##### Submit the experiment pipeline run"
      ]
    },
    {
      "cell_type": "code",
      "execution_count": null,
      "metadata": {
        "id": "X8Dtdt6hycgJ"
      },
      "outputs": [],
      "source": [
        "job = vertex_ai.PipelineJob(\n",
        "    display_name=\"my pipeline run\",\n",
        "    template_path=\"pipeline.json\",\n",
        "    job_id=f\"pipeline-{RUN_NAME}\",\n",
        "    pipeline_root=BUCKET_URI,\n",
        "    parameter_values={**params},\n",
        ")\n",
        "\n",
        "job.submit(experiment=EXPERIMENT_NAME)"
      ]
    },
    {
      "cell_type": "markdown",
      "metadata": {
        "id": "ClIUq-V4zatH"
      },
      "source": [
        "##### Check the pipeline experiment status"
      ]
    },
    {
      "cell_type": "code",
      "execution_count": null,
      "metadata": {
        "id": "L5jdjRZLzFux"
      },
      "outputs": [],
      "source": [
        "vertex_ai.get_experiment_df()"
      ]
    },
    {
      "cell_type": "code",
      "execution_count": null,
      "metadata": {
        "id": "BTQPSGHfzLbW"
      },
      "outputs": [],
      "source": [
        "job.wait()"
      ]
    },
    {
      "cell_type": "code",
      "execution_count": null,
      "metadata": {
        "id": "UO6-6EFyzWCD"
      },
      "outputs": [],
      "source": [
        "vertex_ai.get_experiment_df()"
      ]
    },
    {
      "cell_type": "markdown",
      "metadata": {
        "id": "Ww-geF9GAviH"
      },
      "source": [
        "##### Visualize experiment in Cloud Console"
      ]
    },
    {
      "cell_type": "code",
      "execution_count": null,
      "metadata": {
        "id": "iPqjDzcSAviI"
      },
      "outputs": [],
      "source": [
        "print(\"Vertex AI Experiments:\")\n",
        "print(\n",
        "    f\"https://console.cloud.google.com/ai/platform/experiments/experiments?folder=&organizationId=&project={PROJECT_ID}\"\n",
        ")"
      ]
    },
    {
      "cell_type": "markdown",
      "metadata": {
        "id": "TpV-iwP9qw9c"
      },
      "source": [
        "## Cleaning up\n",
        "\n",
        "To clean up all Google Cloud resources used in this project, you can [delete the Google Cloud\n",
        "project](https://cloud.google.com/resource-manager/docs/creating-managing-projects#shutting_down_projects) you used for the tutorial.\n",
        "\n",
        "Otherwise, you can delete the individual resources you created in this tutorial."
      ]
    },
    {
      "cell_type": "code",
      "execution_count": null,
      "metadata": {
        "id": "659e822f49c1"
      },
      "outputs": [],
      "source": [
        "# Delete pipeline\n",
        "job.delete()\n",
        "\n",
        "# Delete experiment\n",
        "exp = vertex_ai.Experiment(EXPERIMENT_NAME)\n",
        "exp.delete(delete_backing_tensorboard_runs=True)\n",
        "\n",
        "# Delete Tensorboard\n",
        "vertex_ai_tb.delete()\n",
        "\n",
        "# Delete Artifacts\n",
        "artifacts_list = vertex_ai.Artifact.list()\n",
        "for artifact in artifacts_list:\n",
        "    vertex_ai.Artifact.delete(artifact)\n",
        "\n",
        "# Delete Contexts\n",
        "context_list = vertex_ai.Context.list()\n",
        "for context in context_list:\n",
        "    vertex_ai.Context.delete(context)\n",
        "\n",
        "\n",
        "# Delete Cloud Storage objects that were created\n",
        "delete_bucket = False\n",
        "\n",
        "if delete_bucket or os.getenv(\"IS_TESTING\"):\n",
        "    ! gsutil rm -rf {BUCKET_URI}"
      ]
    }
  ],
  "metadata": {
    "colab": {
      "collapsed_sections": [],
      "name": "vertex_ai_model_experimentation.ipynb",
      "toc_visible": true
    },
    "kernelspec": {
      "display_name": "Python 3",
      "name": "python3"
    }
  },
  "nbformat": 4,
  "nbformat_minor": 0
}
