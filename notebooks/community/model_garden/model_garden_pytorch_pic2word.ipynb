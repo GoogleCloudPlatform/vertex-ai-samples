{
  "cells": [
    {
      "cell_type": "code",
      "execution_count": null,
      "id": "ad41232f-4ac9-4607-8ee6-9b1d98d0f5c3",
      "metadata": {
        "id": "7d9bbf86da5e"
      },
      "outputs": [],
      "source": [
        "# Copyright 2023 Google LLC\n",
        "#\n",
        "# Licensed under the Apache License, Version 2.0 (the \"License\");\n",
        "# you may not use this file except in compliance with the License.\n",
        "# You may obtain a copy of the License at\n",
        "#\n",
        "#     https://www.apache.org/licenses/LICENSE-2.0\n",
        "#\n",
        "# Unless required by applicable law or agreed to in writing, software\n",
        "# distributed under the License is distributed on an \"AS IS\" BASIS,\n",
        "# WITHOUT WARRANTIES OR CONDITIONS OF ANY KIND, either express or implied.\n",
        "# See the License for the specific language governing permissions and\n",
        "# limitations under the License."
      ]
    },
    {
      "attachments": {},
      "cell_type": "markdown",
      "id": "30e2cb63",
      "metadata": {
        "id": "99c1c3fc2ca5"
      },
      "source": [
        "# Vertex AI Model Garden - Pic2Word\n",
        "\n",
        "<table align=\"left\">\n",
        "  <td>\n",
        "    <a href=\"https://colab.research.google.com/github/GoogleCloudPlatform/vertex-ai-samples/blob/main/notebooks/community/model_garden/model_garden_pic2word.ipynb\">\n",
        "      <img src=\"https://cloud.google.com/ml-engine/images/colab-logo-32px.png\" alt=\"Colab logo\"> Run in Colab\n",
        "    </a>\n",
        "  </td>\n",
        "\n",
        "  <td>\n",
        "    <a href=\"https://github.com/GoogleCloudPlatform/vertex-ai-samples/blob/main/notebooks/community/model_garden/model_garden_jpic2word.ipynb\">\n",
        "      <img src=\"https://cloud.google.com/ml-engine/images/github-logo-32px.png\" alt=\"GitHub logo\">\n",
        "      View on GitHub\n",
        "    </a>\n",
        "  </td>\n",
        "  <td>                                                                                               <td>\n",
        "    <a href=\"https://console.cloud.google.com/vertex-ai/notebooks/deploy-notebook?download_url=https://raw.githubusercontent.com/GoogleCloudPlatform/vertex-ai-samples/main/notebooks/community/model_garden/model_garden_pic2word.ipynb\">\n",
        "      <img src=\"https://lh3.googleusercontent.com/UiNooY4LUgW_oTvpsNhPpQzsstV5W8F7rYgxgGBD85cWJoLmrOzhVs_ksK_vgx40SHs7jCqkTkCk=e14-rj-sc0xffffff-h130-w32\" alt=\"Vertex AI logo\">\n",
        "Open in Vertex AI Workbench\n",
        "    </a>\n",
        "  </td>\n",
        "</table>"
      ]
    },
    {
      "attachments": {},
      "cell_type": "markdown",
      "id": "5d5af88c-a3c8-46fa-b90a-1b6737a91534",
      "metadata": {
        "id": "7e3e5205fbfd"
      },
      "source": [
        "## Overview"
      ]
    },
    {
      "attachments": {},
      "cell_type": "markdown",
      "id": "87b71198-5c24-4e8c-aab1-44e080aa7fe7",
      "metadata": {
        "id": "523084ce4894"
      },
      "source": [
        "This notebook demonstrates how to use the [Pic2Word](https://github.com/google-research/composed_image_retrieval) model in Vertex AI Model Garden. "
      ]
    },
    {
      "attachments": {},
      "cell_type": "markdown",
      "id": "0ba32ec8-e06f-474f-b753-20aaf74ebd12",
      "metadata": {
        "id": "f9cbeb1704e1"
      },
      "source": [
        "## Objective"
      ]
    },
    {
      "attachments": {},
      "cell_type": "markdown",
      "id": "95694bc4-0626-4371-8b2a-6b89967742db",
      "metadata": {
        "id": "da71cd41e69e"
      },
      "source": [
        "Following the notebook you will conduct experiments using the pre-built docker image on Vertex AI.\n",
        "\n",
        "- Deploy pretrained Pic2Word models in Google Cloud Vertex AI\n",
        "\n",
        "This tutorial uses the following Google Cloud ML services and resources:\n",
        "\n",
        "- Vertex AI Model Registry\n",
        "- Vertex AI Online Prediction"
      ]
    },
    {
      "attachments": {},
      "cell_type": "markdown",
      "id": "b1893e0c-859b-4d42-b1d8-d133855d8767",
      "metadata": {
        "id": "8264c04e0f34"
      },
      "source": [
        "## Dataset"
      ]
    },
    {
      "attachments": {},
      "cell_type": "markdown",
      "id": "a099439c-3122-429b-8215-caaf9aee69c5",
      "metadata": {
        "id": "52e4f9df87b2"
      },
      "source": [
        "We use the [COCO](https://cocodataset.org/#home) validation set (5,000 images) for evaluation."
      ]
    },
    {
      "attachments": {},
      "cell_type": "markdown",
      "id": "56d2a9f8-2d99-407e-a378-57f99754185b",
      "metadata": {
        "id": "169ef74e43a6"
      },
      "source": [
        "## Costs"
      ]
    },
    {
      "attachments": {},
      "cell_type": "markdown",
      "id": "bb62de0d-71ac-45ee-82ac-5f7465f2f0eb",
      "metadata": {
        "id": "61a64432ac87"
      },
      "source": [
        "This tutorial uses billable components of Google Cloud:\n",
        "\n",
        "- Vertex AI\n",
        "- Cloud Storage\n",
        "\n",
        "Learn about [Vertex AI pricing](https://cloud.google.com/vertex-ai/pricing?_ga=2.46650789.-341051769.1686949237) and [Cloud Storage pricing](https://cloud.google.com/storage/pricing?_ga=2.46650789.-341051769.1686949237), and use the [Pricing Calculator](https://cloud.google.com/products/calculator/?_ga=2.247379078.-341051769.1686949237) to generate a cost estimate based on your projected usage."
      ]
    },
    {
      "attachments": {},
      "cell_type": "markdown",
      "id": "ea27403e",
      "metadata": {
        "id": "586c9147ba8a"
      },
      "source": [
        "# Installation\n",
        "\n",
        "Install the following packages required to execute this notebook."
      ]
    },
    {
      "cell_type": "code",
      "execution_count": null,
      "id": "f9c685d9",
      "metadata": {
        "id": "68f1241e68a7"
      },
      "outputs": [],
      "source": [
        "if \"google.colab\" in str(get_ipython()):\n",
        "    # Configs for colab notebooks.\n",
        "    ! pip3 install --upgrade --quiet google-cloud-aiplatform\n",
        "\n",
        "    # Automatically restart kernel after installs\n",
        "    import IPython\n",
        "\n",
        "    app = IPython.Application.instance()\n",
        "    app.kernel.do_shutdown(True)\n",
        "\n",
        "    from google.colab import auth as google_auth\n",
        "\n",
        "    google_auth.authenticate_user()"
      ]
    },
    {
      "attachments": {},
      "cell_type": "markdown",
      "id": "e75fe500-5dc1-4ab3-8829-3eeada5be7f7",
      "metadata": {
        "id": "d0c7bca32b78"
      },
      "source": [
        "## Setup environment"
      ]
    },
    {
      "attachments": {},
      "cell_type": "markdown",
      "id": "e8b0ef65",
      "metadata": {
        "id": "BF1j6f9HApxa"
      },
      "source": [
        "## Before you begin\n",
        "\n",
        "### Set up your Google Cloud project\n",
        "\n",
        "**The following steps are required, regardless of your notebook environment.**\n",
        "\n",
        "1. [Select or create a Google Cloud project](https://console.cloud.google.com/cloud-resource-manager). When you first create an account, you get a $300 free credit towards your compute/storage costs.\n",
        "\n",
        "1. [Make sure that billing is enabled for your project](https://cloud.google.com/billing/docs/how-to/modify-project).\n",
        "\n",
        "1. [Enable the Vertex AI API and Compute Engine API](https://console.cloud.google.com/flows/enableapi?apiid=aiplatform.googleapis.com,compute_component).\n",
        "\n",
        "1. If you are running this notebook locally, you need to install the [Cloud SDK](https://cloud.google.com/sdk).\n",
        "\n",
        "1. [Create a service account](https://cloud.google.com/iam/docs/service-accounts-create#iam-service-accounts-create-console) with **Vertex AI User** and **Storage Object Admin** roles for deploying fine tuned model to Vertex AI endpoint.\n",
        "\n",
        "1. Enter your project ID in the cell below. Then run the cell to make sure the Cloud SDK uses the right project for all the commands in this notebook.\n",
        "\n",
        "\n",
        "**Note**: Jupyter runs lines prefixed with ! as shell commands, and it interpolates Python variables prefixed with $ into these commands."
      ]
    },
    {
      "attachments": {},
      "cell_type": "markdown",
      "id": "09490824",
      "metadata": {
        "id": "WReHDGG5g0XY"
      },
      "source": [
        "#### Set your project ID\n",
        "\n",
        "**If you don't know your project ID**, try the following:\n",
        "* Run `gcloud config list`.\n",
        "* Run `gcloud projects list`.\n",
        "* See the support page: [Locate the project ID](https://support.google.com/googleapi/answer/7014113)"
      ]
    },
    {
      "cell_type": "code",
      "execution_count": null,
      "id": "6ddc1d11",
      "metadata": {
        "id": "oM1iC_MfAts1"
      },
      "outputs": [],
      "source": [
        "PROJECT_ID = \"your-project-id\"  # @param {type:\"string\"}\n",
        "\n",
        "# Set the project id\n",
        "! gcloud config set project {PROJECT_ID}"
      ]
    },
    {
      "attachments": {},
      "cell_type": "markdown",
      "id": "9ed7d668",
      "metadata": {
        "id": "region"
      },
      "source": [
        "#### Region\n",
        "\n",
        "You can also change the `REGION` variable used by Vertex AI. Learn more about [Vertex AI regions](https://cloud.google.com/vertex-ai/docs/general/locations)."
      ]
    },
    {
      "cell_type": "code",
      "execution_count": null,
      "id": "90d0108f",
      "metadata": {
        "id": "twgKk-LsLmX3"
      },
      "outputs": [],
      "source": [
        "REGION = \"us-central1\"  # @param {type: \"string\"}"
      ]
    },
    {
      "attachments": {},
      "cell_type": "markdown",
      "id": "ca43938d",
      "metadata": {
        "id": "409f1effab6c"
      },
      "source": [
        "### Buckets\n",
        "\n",
        "You can create a storage bucket to store model input and output images."
      ]
    },
    {
      "cell_type": "code",
      "execution_count": null,
      "id": "889d10ac",
      "metadata": {
        "id": "bcdadd216c34"
      },
      "outputs": [],
      "source": [
        "# The form for BUCKET_URI is gs://.\n",
        "BUCKET_URI = \"\"  # @param {type:\"string\"}\n",
        "\n",
        "import os\n",
        "\n",
        "INPUT_BUCKET = os.path.join(BUCKET_URI, \"/input\")\n",
        "OUTPUT_BUCKET = os.path.join(BUCKET_URI, \"/output\")"
      ]
    },
    {
      "attachments": {},
      "cell_type": "markdown",
      "id": "15c0e671",
      "metadata": {
        "id": "sBCra4QMA2wR"
      },
      "source": [
        "### Authenticate your Google Cloud account\n",
        "\n",
        "Depending on your Jupyter environment, you may have to manually authenticate. Follow the relevant instructions below."
      ]
    },
    {
      "attachments": {},
      "cell_type": "markdown",
      "id": "623a03cc",
      "metadata": {
        "id": "74ccc9e52986"
      },
      "source": [
        "**1. Vertex AI Workbench**\n",
        "* Do nothing as you are already authenticated."
      ]
    },
    {
      "attachments": {},
      "cell_type": "markdown",
      "id": "fbee4160",
      "metadata": {
        "id": "de775a3773ba"
      },
      "source": [
        "**2. Local JupyterLab instance, uncomment and run:**"
      ]
    },
    {
      "cell_type": "code",
      "execution_count": null,
      "id": "3eabaf6b",
      "metadata": {
        "id": "254614fa0c46"
      },
      "outputs": [],
      "source": [
        "# ! gcloud auth login"
      ]
    },
    {
      "attachments": {},
      "cell_type": "markdown",
      "id": "90a615fe",
      "metadata": {
        "id": "ef21552ccea8"
      },
      "source": [
        "**3. Colab, uncomment and run:**"
      ]
    },
    {
      "cell_type": "code",
      "execution_count": null,
      "id": "3d4e50e1",
      "metadata": {
        "id": "603adbbf0532"
      },
      "outputs": [],
      "source": [
        "# from google.colab import auth\n",
        "# auth.authenticate_user()"
      ]
    },
    {
      "attachments": {},
      "cell_type": "markdown",
      "id": "b0b40233",
      "metadata": {
        "id": "f6b2ccc891ed"
      },
      "source": [
        "**4. Service account or other**\n",
        "* See how to grant Cloud Storage permissions to your service account at https://cloud.google.com/storage/docs/gsutil/commands/iam#ch-examples."
      ]
    },
    {
      "attachments": {},
      "cell_type": "markdown",
      "id": "a8019fcc-26ce-4536-b394-aa1fb18794ee",
      "metadata": {
        "id": "4226467373ef"
      },
      "source": [
        "If you are running this notebook locally, you will need to install the [Cloud SDK](https://cloud.google.com/sdk) and [gsutil](https://cloud.google.com/storage/docs/gsutil_install)."
      ]
    },
    {
      "attachments": {},
      "cell_type": "markdown",
      "id": "315598c1-3ff4-4bc8-9b82-7e2fe55d4678",
      "metadata": {
        "id": "8ba36d3a171d"
      },
      "source": [
        "### Setup variables"
      ]
    },
    {
      "cell_type": "code",
      "execution_count": null,
      "id": "6d26ddb2-04ad-4973-8965-9b25eb24993f",
      "metadata": {
        "id": "25ca675e59e7"
      },
      "outputs": [],
      "source": [
        "# Prediction constants.\n",
        "PREDICTION_DOCKER_URI = \"us-docker.pkg.dev/vertex-ai-restricted/vertex-vision-model-garden-dockers/pic2word_serve:latest\"\n",
        "PREDICTION_ACCELERATOR_TYPE = \"NVIDIA_TESLA_T4\"\n",
        "PREDICTION_MACHINE_TYPE = \"n1-standard-8\"\n",
        "\n",
        "# The serving port.\n",
        "SERVE_PORT = 7080\n",
        "\n",
        "# The service account looks like:\n",
        "# '@.iam.gserviceaccount.com'\n",
        "# Please go to https://cloud.google.com/iam/docs/service-accounts-create#iam-service-accounts-create-console\n",
        "# and create service account with `Vertex AI User` and `Storage Object Admin` roles.\n",
        "SERVICE_ACCOUNT = \"\"  # @param {type:\"string\"}"
      ]
    },
    {
      "attachments": {},
      "cell_type": "markdown",
      "id": "0daec6e5-7642-458f-bd93-60a15431b0a1",
      "metadata": {
        "id": "71dd15118703"
      },
      "source": [
        "## Deploy model for online prediction"
      ]
    },
    {
      "attachments": {},
      "cell_type": "markdown",
      "id": "b286ce6b-cb00-441b-8249-93497de17974",
      "metadata": {
        "id": "5c891f6352ad"
      },
      "source": [
        "This section uploads the model to Vertex Model Registry and deploys it on an Endpoint resource. This will take around 15 minutes to finish."
      ]
    },
    {
      "attachments": {},
      "cell_type": "markdown",
      "id": "01f686b2-9227-496b-9c4d-a63becb59fb8",
      "metadata": {
        "id": "e6abf4ee450a"
      },
      "source": [
        "### Upload and deploy model to Vertex AI"
      ]
    },
    {
      "cell_type": "code",
      "execution_count": null,
      "id": "8885d5be-5007-4778-9562-976102fefe73",
      "metadata": {
        "id": "645d8d1df8d4"
      },
      "outputs": [],
      "source": [
        "from google.cloud import aiplatform\n",
        "\n",
        "# Init common setup.\n",
        "aiplatform.init(project=PROJECT_ID, location=REGION, staging_bucket=BUCKET_URI)\n",
        "\n",
        "# Upload model.\n",
        "serving_env = {}\n",
        "model = aiplatform.Model.upload(\n",
        "    display_name=\"pic2word-model\",\n",
        "    serving_container_image_uri=PREDICTION_DOCKER_URI,\n",
        "    serving_container_ports=[SERVE_PORT],\n",
        "    serving_container_predict_route=\"/predictions/pic2word\",\n",
        "    serving_container_health_route=\"/ping\",\n",
        "    serving_container_environment_variables=serving_env,\n",
        ")\n",
        "# Or reuse a pre-uploaded model.\n",
        "# model = aiplatform.Model('projects/123456789/locations/us-central1/models/123456789@1')\n",
        "\n",
        "# Create an endpoint.\n",
        "endpoint = aiplatform.Endpoint.create(display_name=\"pytorch-pic2word-endpoint\")\n",
        "# Or reuse a pre-created endpoint.\n",
        "# endpoint = aiplatform.Endpoint('projects/123456789/locations/us-central1/endpoints/123456789')\n",
        "\n",
        "# Deploy model to endpoint.\n",
        "model.deploy(\n",
        "    endpoint=endpoint,\n",
        "    machine_type=PREDICTION_MACHINE_TYPE,\n",
        "    accelerator_type=PREDICTION_ACCELERATOR_TYPE,\n",
        "    accelerator_count=1,\n",
        "    traffic_percentage=100,\n",
        "    service_account=SERVICE_ACCOUNT,\n",
        ")"
      ]
    },
    {
      "attachments": {},
      "cell_type": "markdown",
      "id": "f0bd36bb-f988-479a-be40-18c54980ca1f",
      "metadata": {
        "id": "2bb47a2855a2"
      },
      "source": [
        "You can manage your uploaded models in the [Model Registry](https://pantheon.corp.google.com/vertex-ai/models) and your endpoints in the [Endpoints](https://pantheon.corp.google.com/vertex-ai/endpoints)."
      ]
    },
    {
      "attachments": {},
      "cell_type": "markdown",
      "id": "95edbcdd-8246-444a-aef2-a9cadbc03000",
      "metadata": {
        "id": "f14ff5e7a476"
      },
      "source": [
        "## Send a prediction request to the endpoint"
      ]
    },
    {
      "attachments": {},
      "cell_type": "markdown",
      "id": "3a83d6bb",
      "metadata": {
        "id": "c41c7d51d654"
      },
      "source": [
        "Set the query text and upload your desired query image to the specified INPUT_BUCKET. Use an asterisk in the query text to specify which token gets replaced by the image token. "
      ]
    },
    {
      "cell_type": "code",
      "execution_count": null,
      "id": "f7c6fc99-42cd-4544-86df-b14f49189bfd",
      "metadata": {
        "id": "58d4f8e84e02"
      },
      "outputs": [],
      "source": [
        "payload = json.dumps(\n",
        "    {\n",
        "        \"query\": \"a bunch of *\",\n",
        "        \"image_path\": INPUT_BUCKET,\n",
        "        \"image_file_name\": \"cat.png\",\n",
        "        \"output_storage_dir\": OUTPUT_BUCKET,\n",
        "    }\n",
        ")\n",
        "response = endpoint.predict(payload).predictions\n",
        "print(response)"
      ]
    },
    {
      "attachments": {},
      "cell_type": "markdown",
      "id": "8e71ee23-967c-4871-802f-ccb39958386e",
      "metadata": {
        "id": "608b936179df"
      },
      "source": [
        "## Cleaning Up\n",
        "\n",
        "To clean up all Google Cloud resources used in this project, you can delete the Google Cloud project you used for the tutorial.\n",
        "\n",
        "Otherwise, you can delete the individual resources you created in this tutorial:"
      ]
    },
    {
      "cell_type": "code",
      "execution_count": null,
      "id": "d9be2a18-db11-4108-9622-647b33be2594",
      "metadata": {
        "id": "7d17b385141d"
      },
      "outputs": [],
      "source": [
        "# Delete endpoint resource.\n",
        "endpoint.delete(force=True)\n",
        "\n",
        "# Delete model resource.\n",
        "model.delete()\n",
        "\n",
        "# Delete Cloud Storage objects that were created.\n",
        "delete_bucket = False\n",
        "if delete_bucket or os.getenv(\"IS_TESTING\"):\n",
        "    ! gsutil -m rm -r $BUCKET_URI"
      ]
    }
  ],
  "metadata": {
    "colab": {
      "name": "model_garden_pytorch_pic2word.ipynb",
      "toc_visible": true
    },
    "kernelspec": {
      "display_name": "Python 3",
      "name": "python3"
    }
  },
  "nbformat": 4,
  "nbformat_minor": 0
}
