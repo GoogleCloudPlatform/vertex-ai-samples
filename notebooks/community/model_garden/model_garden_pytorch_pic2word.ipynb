{
  "cells": [
    {
      "cell_type": "code",
      "execution_count": null,
      "id": "ad41232f-4ac9-4607-8ee6-9b1d98d0f5c3",
      "metadata": {
        "id": "7d9bbf86da5e"
      },
      "outputs": [],
      "source": [
        "# Copyright 2023 Google LLC\n",
        "#\n",
        "# Licensed under the Apache License, Version 2.0 (the \"License\");\n",
        "# you may not use this file except in compliance with the License.\n",
        "# You may obtain a copy of the License at\n",
        "#\n",
        "#     https://www.apache.org/licenses/LICENSE-2.0\n",
        "#\n",
        "# Unless required by applicable law or agreed to in writing, software\n",
        "# distributed under the License is distributed on an \"AS IS\" BASIS,\n",
        "# WITHOUT WARRANTIES OR CONDITIONS OF ANY KIND, either express or implied.\n",
        "# See the License for the specific language governing permissions and\n",
        "# limitations under the License."
      ]
    },
    {
      "cell_type": "markdown",
      "id": "51bd90c7-7f0c-47b5-8966-809ff9bca6dc",
      "metadata": {
        "id": "b9f232d0cc87"
      },
      "source": [
        "# Pic2Word Model serving on Vertex AI"
      ]
    },
    {
      "cell_type": "markdown",
      "id": "5d5af88c-a3c8-46fa-b90a-1b6737a91534",
      "metadata": {
        "id": "7e3e5205fbfd"
      },
      "source": [
        "## Overview"
      ]
    },
    {
      "cell_type": "markdown",
      "id": "87b71198-5c24-4e8c-aab1-44e080aa7fe7",
      "metadata": {
        "id": "523084ce4894"
      },
      "source": [
        "This notebook demonstrates how to use the [Pic2Word](https://github.com/google-research/composed_image_retrieval) model in Vertex AI Model Garden. "
      ]
    },
    {
      "cell_type": "markdown",
      "id": "0ba32ec8-e06f-474f-b753-20aaf74ebd12",
      "metadata": {
        "id": "f9cbeb1704e1"
      },
      "source": [
        "## Objective"
      ]
    },
    {
      "cell_type": "markdown",
      "id": "95694bc4-0626-4371-8b2a-6b89967742db",
      "metadata": {
        "id": "841db7d9e1d4"
      },
      "source": [
        "Follow the notebook you will conduct experiments using the pre-built docker images on local (optional) and on Vertex AI.\n",
        "\n",
        "- Run local inferences for pretrained Pic2Word models\n",
        "\n",
        "- Deploy pretrained Pic2Word models in Google Cloud Vertex AI"
      ]
    },
    {
      "cell_type": "markdown",
      "id": "b1893e0c-859b-4d42-b1d8-d133855d8767",
      "metadata": {
        "id": "8264c04e0f34"
      },
      "source": [
        "## Dataset"
      ]
    },
    {
      "cell_type": "markdown",
      "id": "a099439c-3122-429b-8215-caaf9aee69c5",
      "metadata": {
        "id": "52e4f9df87b2"
      },
      "source": [
        "We use the [COCO](https://cocodataset.org/#home) validation set (5,000 images) for evaluation."
      ]
    },
    {
      "cell_type": "markdown",
      "id": "56d2a9f8-2d99-407e-a378-57f99754185b",
      "metadata": {
        "id": "169ef74e43a6"
      },
      "source": [
        "## Costs"
      ]
    },
    {
      "cell_type": "markdown",
      "id": "bb62de0d-71ac-45ee-82ac-5f7465f2f0eb",
      "metadata": {
        "id": "61a64432ac87"
      },
      "source": [
        "This tutorial uses billable components of Google Cloud:\n",
        "\n",
        "- Vertex AI\n",
        "- Cloud Storage\n",
        "\n",
        "Learn about [Vertex AI pricing](https://cloud.google.com/vertex-ai/pricing?_ga=2.46650789.-341051769.1686949237) and [Cloud Storage pricing](https://cloud.google.com/storage/pricing?_ga=2.46650789.-341051769.1686949237), and use the [Pricing Calculator](https://cloud.google.com/products/calculator/?_ga=2.247379078.-341051769.1686949237) to generate a cost estimate based on your projected usage."
      ]
    },
    {
      "cell_type": "markdown",
      "id": "e75fe500-5dc1-4ab3-8829-3eeada5be7f7",
      "metadata": {
        "id": "83c1c18e530f"
      },
      "source": [
        "## Setup environment"
      ]
    },
    {
      "cell_type": "markdown",
      "id": "20d63ea9-36da-439c-9c11-aa4e6a39894f",
      "metadata": {
        "id": "8fbb9b9c7974"
      },
      "source": [
        "### Setup cloud project\n",
        "\n",
        "1. [Select or create a Google Cloud project](https://console.cloud.google.com/cloud-resource-manager). When you first create an account, you get a $300 free credit towards your compute/storage costs.\n",
        "\n",
        "1. [Make sure that billing is enabled for your project](https://cloud.google.com/billing/docs/how-to/modify-project).\n",
        "\n",
        "1. [Enable Artifact Registry](https://cloud.google.com/artifact-registry/docs/enable-service) and [create a repository](https://cloud.google.com/artifact-registry/docs/repositories/create-repos) for storing docker images.\n",
        "\n",
        "1. [Create a GCS bucket](https://cloud.google.com/storage/docs/creating-buckets) for storing experiment outputs.\n",
        "\n",
        "1. [Enable the Vertex AI API and Compute Engine API](https://console.cloud.google.com/flows/enableapi?apiid=aiplatform.googleapis.com,compute_component)."
      ]
    },
    {
      "cell_type": "markdown",
      "id": "b18f2701-dfcf-4e50-9994-1bf67297b4b9",
      "metadata": {
        "id": "d57d972491c0"
      },
      "source": [
        "### Install dependencies"
      ]
    },
    {
      "cell_type": "code",
      "execution_count": null,
      "id": "0c1565c3-64fb-4aba-836e-7813ea5917a3",
      "metadata": {
        "id": "214dfdd62787"
      },
      "outputs": [],
      "source": [
        "!pip install -r composed_image_retrieval/requirements.txt"
      ]
    },
    {
      "cell_type": "markdown",
      "id": "429c74e5-e17a-4607-ae65-f99774a115f6",
      "metadata": {
        "id": "1dca2ff8a669"
      },
      "source": [
        "It's highly recommended to run this notebook on [Vertex AI workbench](https://cloud.google.com/vertex-ai-workbench)."
      ]
    },
    {
      "cell_type": "markdown",
      "id": "a8019fcc-26ce-4536-b394-aa1fb18794ee",
      "metadata": {
        "id": "a4ec7fc6eb32"
      },
      "source": [
        "If you are running this notebook locally, you will need to install the [Cloud SDK](https://cloud.google.com/sdk) and [gsutil](https://cloud.google.com/storage/docs/gsutil_install)."
      ]
    },
    {
      "cell_type": "markdown",
      "id": "315598c1-3ff4-4bc8-9b82-7e2fe55d4678",
      "metadata": {
        "id": "02dcb7bf8bb5"
      },
      "source": [
        "### Setup variables"
      ]
    },
    {
      "cell_type": "code",
      "execution_count": null,
      "id": "6d26ddb2-04ad-4973-8965-9b25eb24993f",
      "metadata": {
        "id": "560f4095a25b"
      },
      "outputs": [],
      "source": [
        "# Cloud project setup.\n",
        "PROJECT_ID = \"automl-migration-test\"\n",
        "REGION = \"us-central1\"\n",
        "GCS_BUCKET = \"pic2word-bucket\"\n",
        "\n",
        "# The pre-built docker image\n",
        "SERVE_DOCKER_URI = \"us-central1-docker.pkg.dev/automl-migration-test/pic2word-repo/pic2word_serve:latest\"\n",
        "\n",
        "# The serving port.\n",
        "SERVE_PORT = 7080\n",
        "\n",
        "# The path to model checkpoint file.\n",
        "MODEL_PT_PATH = \"gs://pic2word-bucket/checkpoint/pic2word_model.pt\"\n",
        "MODEL_NAME = \"pic2word\""
      ]
    },
    {
      "cell_type": "markdown",
      "id": "dcd4ccab-9858-4141-a3fb-f9d4bdcee62a",
      "metadata": {
        "id": "82aeb30d4ba2"
      },
      "source": [
        "## [Optional] Run serving jobs locally"
      ]
    },
    {
      "cell_type": "markdown",
      "id": "e2feacb9-7808-4e59-921f-6d34859d8c8a",
      "metadata": {
        "id": "a2527b972d4f"
      },
      "source": [
        "### Build and push serving docker image"
      ]
    },
    {
      "cell_type": "markdown",
      "id": "d9f6d290-f795-4400-9eb9-0f421f1ac1d4",
      "metadata": {
        "id": "5b1ae704ee99"
      },
      "source": [
        "NOTE: Users won't build docker images on their own, they will use our pre-built docker images directly."
      ]
    },
    {
      "cell_type": "code",
      "execution_count": null,
      "id": "7d1e9bce-11a2-45c8-ae50-4f4c97b94612",
      "metadata": {
        "id": "746b184a98f3"
      },
      "outputs": [],
      "source": [
        "!docker build -f serve.Dockerfile . -t {SERVE_DOCKER_URI}\n",
        "!docker push {SERVE_DOCKER_URI}"
      ]
    },
    {
      "cell_type": "code",
      "execution_count": null,
      "id": "6a3616e2-4a7f-45dd-a003-d948b2ab2038",
      "metadata": {
        "id": "f7b387d00f7d"
      },
      "outputs": [],
      "source": [
        "LOCAL_SERVE_URL = f\"http://localhost:{SERVE_PORT}/predictions/pic2word_serving\""
      ]
    },
    {
      "cell_type": "markdown",
      "id": "0f73baf8-0cbc-4919-9443-d06f1421812e",
      "metadata": {
        "id": "425d35b8518f"
      },
      "source": [
        "### Image retrieval"
      ]
    },
    {
      "cell_type": "code",
      "execution_count": null,
      "id": "832d0719-1542-457f-93ba-01cc32f20342",
      "metadata": {
        "id": "97256fbf8ee6"
      },
      "outputs": [],
      "source": [
        "# Run the serving container. \n",
        "!nvidia-docker run -t --rm \\\n",
        "-p 7080:7080 \\\n",
        "-e NVIDIA_DISABLE_REQUIRE=1 \\\n",
        "-e CUDA_VISIBLE_DEVICES=0 \\\n",
        "{SERVE_DOCKER_URI}"
      ]
    },
    {
      "cell_type": "code",
      "execution_count": null,
      "id": "150d3f8f-019d-4364-ac00-6091f6b6c988",
      "metadata": {
        "id": "85b1b03d9107"
      },
      "outputs": [],
      "source": [
        "import json\n",
        "\n",
        "payload = json.dumps(\n",
        "    {\"query\": \"a bunch of *\", \"image_path\": \"pic2word-bucket/model_io/input/\"}\n",
        ")\n",
        "response = requests.post(\n",
        "    LOCAL_SERVE_URL,\n",
        "    data=payload,\n",
        "    headers={\"content-type\": \"application/json\", \"Accept-Charset\": \"UTF-8\"},\n",
        ")\n",
        "print(response)"
      ]
    },
    {
      "cell_type": "markdown",
      "id": "0daec6e5-7642-458f-bd93-60a15431b0a1",
      "metadata": {
        "id": "a461b37f2852"
      },
      "source": [
        "## Deploy model for online prediction"
      ]
    },
    {
      "cell_type": "markdown",
      "id": "b286ce6b-cb00-441b-8249-93497de17974",
      "metadata": {
        "id": "13ac6e95be5e"
      },
      "source": [
        "This section uploads the model to Vertex Model Registry and deploys it on an Endpoint resource. "
      ]
    },
    {
      "cell_type": "markdown",
      "id": "01f686b2-9227-496b-9c4d-a63becb59fb8",
      "metadata": {
        "id": "a1717598e276"
      },
      "source": [
        "### Upload and deploy model to Vertex AI"
      ]
    },
    {
      "cell_type": "code",
      "execution_count": null,
      "id": "8885d5be-5007-4778-9562-976102fefe73",
      "metadata": {
        "id": "e18c9614c51e"
      },
      "outputs": [],
      "source": [
        "from google.cloud import aiplatform\n",
        "\n",
        "# Init common setup.\n",
        "aiplatform.init(\n",
        "    project=\"automl-migration-test\",\n",
        "    location=\"us-central1\",\n",
        "    staging_bucket=\"pic2word-bucket\",\n",
        ")\n",
        "\n",
        "\n",
        "# Upload model.\n",
        "serving_env = {}\n",
        "model = aiplatform.Model.upload(\n",
        "    display_name=\"pic2word-model-display\",\n",
        "    serving_container_image_uri=\"us-central1-docker.pkg.dev/google.com/jismailyan-test/jismailyan-docker-repo/pic2word_serve:latest\",\n",
        "    serving_container_ports=[SERVE_PORT],\n",
        "    serving_container_predict_route=\"/predictions/pic2word\",\n",
        "    serving_container_health_route=\"/ping\",\n",
        "    serving_container_environment_variables=serving_env,\n",
        ")\n",
        "# Or reuse a pre-uploaded model.\n",
        "# model = aiplatform.Model('projects/123456789/locations/us-central1/models/123456789@1')\n",
        "\n",
        "# Create an endpoint.\n",
        "endpoint = aiplatform.Endpoint.create(display_name=\"pytorch-pic2word-endpoint\")\n",
        "# Or reuse a pre-created endpoint.\n",
        "# endpoint = aiplatform.Endpoint('projects/123456789/locations/us-central1/endpoints/123456789')\n",
        "\n",
        "# Deploy model to endpoint.\n",
        "model.deploy(\n",
        "    endpoint=endpoint,\n",
        "    machine_type=\"n1-standard-8\",\n",
        "    accelerator_type=\"NVIDIA_TESLA_T4\",\n",
        "    accelerator_count=1,\n",
        "    traffic_percentage=100,\n",
        ")"
      ]
    },
    {
      "cell_type": "markdown",
      "id": "f0bd36bb-f988-479a-be40-18c54980ca1f",
      "metadata": {
        "id": "4d08244dc094"
      },
      "source": [
        "You can manage your uploaded models in the [Model Registry](https://pantheon.corp.google.com/vertex-ai/models) and your endpoints in the [Endpoints](https://pantheon.corp.google.com/vertex-ai/endpoints)."
      ]
    },
    {
      "cell_type": "markdown",
      "id": "95edbcdd-8246-444a-aef2-a9cadbc03000",
      "metadata": {
        "id": "76382252f380"
      },
      "source": [
        "## Send a prediction request to the endpoint"
      ]
    },
    {
      "cell_type": "code",
      "execution_count": null,
      "id": "f7c6fc99-42cd-4544-86df-b14f49189bfd",
      "metadata": {
        "id": "6b3439b480fa"
      },
      "outputs": [],
      "source": [
        "endpoint = aiplatform.Endpoint(\n",
        "    \"projects/6924728003/locations/us-central1/endpoints/4124413251322642432\"\n",
        ")\n",
        "\n",
        "payload = json.dumps(\n",
        "    {\"query\": \"a bunch of *\", \"image_path\": \"pic2word-bucket/model_io/input/\"}\n",
        ")\n",
        "response = endpoint.predict(payload).predictions\n",
        "print(response)"
      ]
    }
  ],
  "metadata": {
    "colab": {
      "name": "model_garden_pytorch_pic2word.ipynb",
      "toc_visible": true
    },
    "kernelspec": {
      "display_name": "Python 3",
      "name": "python3"
    }
  },
  "nbformat": 4,
  "nbformat_minor": 0
}
