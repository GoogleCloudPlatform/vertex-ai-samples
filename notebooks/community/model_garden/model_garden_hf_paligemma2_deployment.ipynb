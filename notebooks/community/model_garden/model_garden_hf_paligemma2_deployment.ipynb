{
  "cells": [
    {
      "cell_type": "code",
      "execution_count": null,
      "metadata": {
        "cellView": "form",
        "id": "OdZIyZwjgsQcOXnmE8X0xy40"
      },
      "outputs": [],
      "source": [
        "# Copyright 2025 Google LLC\n",
        "#\n",
        "# Licensed under the Apache License, Version 2.0 (the \"License\");\n",
        "# you may not use this file except in compliance with the License.\n",
        "# You may obtain a copy of the License at\n",
        "#\n",
        "#     https://www.apache.org/licenses/LICENSE-2.0\n",
        "#\n",
        "# Unless required by applicable law or agreed to in writing, software\n",
        "# distributed under the License is distributed on an \"AS IS\" BASIS,\n",
        "# WITHOUT WARRANTIES OR CONDITIONS OF ANY KIND, either express or implied.\n",
        "# See the License for the specific language governing permissions and\n",
        "# limitations under the License."
      ]
    },
    {
      "cell_type": "markdown",
      "metadata": {
        "id": "VJWDivOv3OWy"
      },
      "source": [
        "# Vertex AI Model Garden - PaliGemma 2 (Deployment)\n",
        "\n",
        "<table><tbody><tr>\n",
        "  <td style=\"text-align: center\">\n",
        "    <a href=\"https://console.cloud.google.com/vertex-ai/notebooks/deploy-notebook?download_url=https://raw.githubusercontent.com/GoogleCloudPlatform/vertex-ai-samples/main/notebooks/community/model_garden/model_garden_hf_paligemma2_deployment.ipynb\">\n",
        "      <img alt=\"Workbench logo\" src=\"https://lh3.googleusercontent.com/UiNooY4LUgW_oTvpsNhPpQzsstV5W8F7rYgxgGBD85cWJoLmrOzhVs_ksK_vgx40SHs7jCqkTkCk=e14-rj-sc0xffffff-h130-w32\" width=\"32px\"><br> Run in Workbench\n",
        "    </a>\n",
        "  </td>\n",
        "  <td style=\"text-align: center\">\n",
        "    <a href=\"https://console.cloud.google.com/vertex-ai/colab/import/https:%2F%2Fraw.githubusercontent.com%2FGoogleCloudPlatform%2Fvertex-ai-samples%2Fmain%2Fnotebooks%2Fcommunity%2Fmodel_garden%2Fmodel_garden_hf_paligemma2_deployment.ipynb\">\n",
        "      <img alt=\"Google Cloud Colab Enterprise logo\" src=\"https://lh3.googleusercontent.com/JmcxdQi-qOpctIvWKgPtrzZdJJK-J3sWE1RsfjZNwshCFgE_9fULcNpuXYTilIR2hjwN\" width=\"32px\"><br> Run in Colab Enterprise\n",
        "    </a>\n",
        "  </td>\n",
        "  <td style=\"text-align: center\">\n",
        "    <a href=\"https://github.com/GoogleCloudPlatform/vertex-ai-samples/blob/main/notebooks/community/model_garden/model_garden_hf_paligemma2_deployment.ipynb\">\n",
        "      <img alt=\"GitHub logo\" src=\"https://github.githubassets.com/assets/GitHub-Mark-ea2971cee799.png\" width=\"32px\"><br> View on GitHub\n",
        "    </a>\n",
        "  </td>\n",
        "</tr></tbody></table>"
      ]
    },
    {
      "cell_type": "markdown",
      "metadata": {
        "id": "3de7470326a2"
      },
      "source": [
        "## Overview\n",
        "\n",
        "This notebook demonstrates how to deploy a **Paligemma** open model on Google Cloud Vertex AI.\n",
        "\n",
        "### Objectives\n",
        "\n",
        "- Deploy Paligemma using containerized backends like [vLLM](https://github.com/vllm-project/vllm) on GPU.\n",
        "- Use the deployed model to serve chat completion requests for both text and multimodal inputs.\n",
        "\n",
        "### File a Bug\n",
        "\n",
        "If you encounter issues with this notebook, report them on [GitHub](https://github.com/GoogleCloudPlatform/vertex-ai-samples/issues/new).\n",
        "\n",
        "### Costs\n",
        "\n",
        "This tutorial uses billable components of Google Cloud:\n",
        "\n",
        "- Vertex AI\n",
        "- Cloud Storage\n",
        "\n",
        "Refer to the [Vertex AI pricing](https://cloud.google.com/vertex-ai/pricing) and [Cloud Storage pricing](https://cloud.google.com/storage/pricing) pages for more information. Use the [Pricing Calculator](https://cloud.google.com/products/calculator/) to estimate your projected costs."
      ]
    },
    {
      "cell_type": "markdown",
      "metadata": {
        "id": "jeYw-Czg-DFy"
      },
      "source": [
        "## Get Started"
      ]
    },
    {
      "cell_type": "markdown",
      "metadata": {
        "id": "KgyhGvEzBDkj"
      },
      "source": [
        "### Install Vertex AI SDK and other required packages"
      ]
    },
    {
      "cell_type": "code",
      "execution_count": null,
      "metadata": {
        "cellView": "form",
        "id": "iCacdLqG-IsH"
      },
      "outputs": [],
      "source": [
        "%pip install --upgrade --force-reinstall --quiet 'google-cloud-aiplatform>=1.106.0' 'openai' 'google-auth==2.27.0' 'requests==2.32.3'"
      ]
    },
    {
      "cell_type": "markdown",
      "metadata": {
        "id": "HUKCrpBy-3yf"
      },
      "source": [
        "### Authenticate the Notebook Environment (Colab only)\n",
        "\n",
        "If you're running this notebook in Google Colab, run the following cell to authenticate."
      ]
    },
    {
      "cell_type": "code",
      "execution_count": null,
      "metadata": {
        "cellView": "form",
        "id": "JXwCT1kn-3Gu"
      },
      "outputs": [],
      "source": [
        "import sys\n",
        "\n",
        "if \"google.colab\" in sys.modules:\n",
        "    from google.colab import auth\n",
        "\n",
        "    auth.authenticate_user()"
      ]
    },
    {
      "cell_type": "markdown",
      "metadata": {
        "id": "AcW2nwB8-7yC"
      },
      "source": [
        "### Set Google Cloud Project Information\n",
        "\n",
        "To get started with Vertex AI, ensure you have an existing Google Cloud project and that the [Vertex AI API is enabled](https://console.cloud.google.com/flows/enableapi?apiid=aiplatform.googleapis.com).\n",
        "\n",
        "See the guide on [setting up your project and development environment](https://cloud.google.com/vertex-ai/docs/start/cloud-environment). Also confirm that [billing is enabled](https://cloud.google.com/billing/docs/how-to/modify-project).\n"
      ]
    },
    {
      "cell_type": "code",
      "execution_count": null,
      "metadata": {
        "cellView": "form",
        "id": "eIVLp0oE--k-"
      },
      "outputs": [],
      "source": [
        "# Use the environment variable if the user doesn't provide Project ID.\n",
        "import os\n",
        "\n",
        "import vertexai\n",
        "\n",
        "PROJECT_ID = \"\"  # @param {type: \"string\", placeholder: \"[your-project-id]\", isTemplate: true}\n",
        "\n",
        "if not PROJECT_ID:\n",
        "    PROJECT_ID = os.environ.get(\"GOOGLE_CLOUD_PROJECT\")\n",
        "\n",
        "REGION = \"\"  # @param {type: \"string\", placeholder: \"[your-region]\", isTemplate: true}\n",
        "\n",
        "if not REGION:\n",
        "    REGION = os.environ.get(\"GOOGLE_CLOUD_REGION\", \"us-central1\")\n",
        "\n",
        "vertexai.init(project=PROJECT_ID, location=REGION)\n",
        "\n",
        "print(f\"Project: {PROJECT_ID}\\nLocation: {REGION}\")"
      ]
    },
    {
      "cell_type": "markdown",
      "metadata": {
        "id": "Q0CXrvcZH_aw"
      },
      "source": [
        "### Import libraries"
      ]
    },
    {
      "cell_type": "code",
      "execution_count": null,
      "metadata": {
        "cellView": "form",
        "id": "3G2UXB82ICs6"
      },
      "outputs": [],
      "source": [
        "from vertexai import model_garden"
      ]
    },
    {
      "cell_type": "markdown",
      "metadata": {
        "id": "upYRiGtP_-iN"
      },
      "source": [
        "## Deploy model"
      ]
    },
    {
      "cell_type": "markdown",
      "metadata": {
        "id": "H2WC_0hXDVXc"
      },
      "source": [
        "### Choose model variant"
      ]
    },
    {
      "cell_type": "markdown",
      "metadata": {
        "id": "u41zbNa2EoFq"
      },
      "source": [
        "You can proceed with the default model variant or select a different one."
      ]
    },
    {
      "cell_type": "code",
      "execution_count": null,
      "metadata": {
        "cellView": "form",
        "id": "-fgC4NLSDkF7"
      },
      "outputs": [],
      "source": [
        "model_version = \"paligemma2-3b-mix-448\"  # @param [\"paligemma-224-bfloat16\", \"paligemma-224-float16\", \"paligemma-224-float32\", \"paligemma-448-bfloat16\", \"paligemma-448-float16\", \"paligemma-448-float32\", \"paligemma-896-bfloat16\", \"paligemma-896-float16\", \"paligemma-896-float32\", \"paligemma-mix-224-bfloat16\", \"paligemma-mix-224-float16\", \"paligemma-mix-224-float32\", \"paligemma-mix-448-bfloat16\", \"paligemma-mix-448-float16\", \"paligemma-mix-448-float32\", \"paligemma2-10b-ft-docci-448\", \"paligemma2-10b-mix-224\", \"paligemma2-10b-mix-448\", \"paligemma2-10b-pt-448\", \"paligemma2-10b-pt-896\", \"paligemma2-28b-mix-224\", \"paligemma2-28b-mix-448\", \"paligemma2-28b-pt-224\", \"paligemma2-28b-pt-448\", \"paligemma2-28b-pt-896\", \"paligemma2-3b-ft-docci-448\", \"paligemma2-3b-mix-224\", \"paligemma2-3b-mix-448\", \"paligemma2-3b-pt-224\", \"paligemma2-3b-pt-448\", \"paligemma2-3b-pt-896\"] {isTemplate:true}\n",
        "MODEL_NAME = f\"google/paligemma@{model_version}\""
      ]
    },
    {
      "cell_type": "markdown",
      "metadata": {
        "id": "VRnUgU8LF3_i"
      },
      "source": [
        "To see all deployable model variants available in Model Garden, use:"
      ]
    },
    {
      "cell_type": "code",
      "execution_count": null,
      "metadata": {
        "cellView": "form",
        "id": "-QLd-wshF6sB"
      },
      "outputs": [],
      "source": [
        "all_model_versions = model_garden.list_deployable_models(\n",
        "    model_filter=\"paligemma\", list_hf_models=False\n",
        ")"
      ]
    },
    {
      "cell_type": "markdown",
      "metadata": {
        "id": "N0UeFHa2GO63"
      },
      "source": [
        "Once you've selected a model variant, initialize it:"
      ]
    },
    {
      "cell_type": "code",
      "execution_count": null,
      "metadata": {
        "cellView": "form",
        "id": "GZiV3trBBcA3"
      },
      "outputs": [],
      "source": [
        "model = model_garden.OpenModel(MODEL_NAME)"
      ]
    },
    {
      "cell_type": "markdown",
      "metadata": {
        "id": "-0cL378wFlvf"
      },
      "source": [
        "### Check the Deployment Configuration\n",
        "\n",
        "Use the `list_deploy_options()` method to view the verified deployment configurations for your selected model. This helps ensure you have sufficient resources (e.g., GPU quota) available to deploy it."
      ]
    },
    {
      "cell_type": "code",
      "execution_count": null,
      "metadata": {
        "cellView": "form",
        "id": "zm73g7vFFm9N"
      },
      "outputs": [],
      "source": [
        "deploy_options = model.list_deploy_options(concise=True)\n",
        "print(deploy_options)"
      ]
    },
    {
      "cell_type": "markdown",
      "metadata": {
        "id": "WjV499VsGwrD"
      },
      "source": [
        "### Deploy the Model\n",
        "\n",
        "Now that you’ve reviewed the deployment options, use the `deploy()` method to serve the selected open model to a Vertex AI endpoint. Deployment time may vary depending on the model size and infrastructure requirements.\n",
        "\n",
        "> **Note**: If the model requires accepting a license agreement (EULA), set the `accept_eula=True` flag in the deploy call. Set `use_dedicated_endpoint` to False if you don't want to use [dedicated endpoint](https://cloud.google.com/vertex-ai/docs/general/deployment#create-dedicated-endpoint)."
      ]
    },
    {
      "cell_type": "code",
      "execution_count": null,
      "metadata": {
        "cellView": "form",
        "id": "wX1itVTvXdEP"
      },
      "outputs": [],
      "source": [
        "use_dedicated_endpoint = True"
      ]
    },
    {
      "cell_type": "code",
      "execution_count": null,
      "metadata": {
        "cellView": "form",
        "id": "S0q5fdbietBH"
      },
      "outputs": [],
      "source": [
        "endpoints = {}"
      ]
    },
    {
      "cell_type": "code",
      "execution_count": null,
      "metadata": {
        "cellView": "form",
        "id": "MRmPFEPoGzsB"
      },
      "outputs": [],
      "source": [
        "endpoints[\"sdk_default\"] = model.deploy(\n",
        "    accept_eula=True,\n",
        "    use_dedicated_endpoint=use_dedicated_endpoint,\n",
        ")"
      ]
    },
    {
      "cell_type": "markdown",
      "metadata": {
        "id": "PHBtn8DQp-ID"
      },
      "source": [
        "Alternatively, you can select one of the verified deployment configurations listed above."
      ]
    },
    {
      "cell_type": "code",
      "execution_count": null,
      "metadata": {
        "cellView": "form",
        "id": "ADsJG8JYqI6c"
      },
      "outputs": [],
      "source": [
        "endpoints[\"sdk_custom\"] = model.deploy(\n",
        "    accept_eula=True,\n",
        "    use_dedicated_endpoint=use_dedicated_endpoint,\n",
        "    serving_container_image_uri=\"us-docker.pkg.dev/vertex-ai/vertex-vision-model-garden-dockers/pytorch-one-serve:20250205_0822_RC00\",\n",
        "    machine_type=\"g2-standard-16\",\n",
        "    accelerator_type=\"NVIDIA_L4\",\n",
        "    accelerator_count=1,\n",
        ")"
      ]
    },
    {
      "cell_type": "code",
      "execution_count": null,
      "metadata": {
        "cellView": "form",
        "id": "OCOHt9ivCdgA"
      },
      "outputs": [],
      "source": [
        "if \"sdk_default\" in endpoints:\n",
        "    endpoint = endpoints[\"sdk_default\"]\n",
        "elif \"sdk_custom\" in endpoints:\n",
        "    endpoint = endpoints[\"sdk_custom\"]\n",
        "else:\n",
        "    raise ValueError(\"No endpoint found. Create an endpoint.\")"
      ]
    },
    {
      "cell_type": "markdown",
      "metadata": {
        "id": "kqSUK2CwsImi"
      },
      "source": [
        "To further customize your deployment, you can configure:\n",
        "\n",
        "- **Compute Resources**: Machine type, replica count (min/max), accelerator type and quantity.\n",
        "- **Infrastructure**: Use Spot VMs, reservation affinity, or dedicated endpoints.\n",
        "- **Serving Container**: Customize container image, ports, health checks, and environment variables.\n",
        "\n",
        "See the [Model Garden SDK README](https://github.com/googleapis/python-aiplatform/blob/main/vertexai/model_garden/README.md) for advanced configuration options."
      ]
    },
    {
      "cell_type": "markdown",
      "metadata": {
        "id": "2Idtx2ETNQtn"
      },
      "source": [
        "## Predict\n",
        "\n",
        "The following sections will use images from [pexels.com](https://www.pexels.com/) for demoing purposes. All the images have the following license: https://www.pexels.com/license/.\n",
        "\n",
        "Images will be resized to a width of 1000 pixels by default since requests made to a Vertex Endpoint are limited to 1.500MB."
      ]
    },
    {
      "cell_type": "code",
      "execution_count": null,
      "metadata": {
        "cellView": "form",
        "id": "FxdKXm6INQtn"
      },
      "outputs": [],
      "source": [
        "# @title Visual Question Answering\n",
        "\n",
        "# @markdown This section uses the deployed PaliGemma model to answer questions about a given image.\n",
        "\n",
        "import importlib\n",
        "from typing import Any, Dict\n",
        "\n",
        "from google.cloud import aiplatform\n",
        "\n",
        "# Import the necessary packages.\n",
        "! rm -rf vertex-ai-samples && git clone https://github.com/GoogleCloudPlatform/vertex-ai-samples.git\n",
        "! cd vertex-ai-samples\n",
        "\n",
        "common_util = importlib.import_module(\n",
        "    \"vertex-ai-samples.notebooks.community.model_garden.docker_source_codes.notebook_util.common_util\"\n",
        ")\n",
        "\n",
        "# @markdown ![](https://images.pexels.com/photos/1006293/pexels-photo-1006293.jpeg?auto=compress&cs=tinysrgb&w=630&h=375&dpr=2)\n",
        "image_url = \"https://images.pexels.com/photos/1006293/pexels-photo-1006293.jpeg\"  # @param {type:\"string\"}\n",
        "\n",
        "# @markdown You may leave question prompts empty and they will be ignored.\n",
        "question_prompt = \"What is shown in the picture?\"  # @param {type: \"string\"}\n",
        "\n",
        "# @markdown The question prompt can be non-English languages.\n",
        "\n",
        "\n",
        "def vqa_predict(\n",
        "    endpoint: aiplatform.Endpoint,\n",
        "    image_url: str,\n",
        "    text_prompt: str,\n",
        "    parameters: Dict[str, Any] = None,\n",
        ") -> str:\n",
        "    \"\"\"Predicts the answer to a question about an image using an Endpoint,\n",
        "\n",
        "       and passes parameters in the payload.\n",
        "\n",
        "    Args:\n",
        "        endpoint: The deployed Vertex AI endpoint.\n",
        "        image_url: URL of the image to ask about.\n",
        "        text_prompt: The text prompt question.\n",
        "        parameters: Additional parameters for the prediction request.\n",
        "\n",
        "    Returns:\n",
        "        The predicted answer string or None if no prediction.\n",
        "    \"\"\"\n",
        "\n",
        "    instances = []\n",
        "    if text_prompt:\n",
        "        instances.append(\n",
        "            {\n",
        "                \"text_prompt\": text_prompt,\n",
        "                \"image_url\": image_url,\n",
        "            }\n",
        "        )\n",
        "\n",
        "    # Construct the prediction payload\n",
        "    payload = {\"instances\": instances}\n",
        "    if parameters:\n",
        "        payload[\"parameters\"] = parameters\n",
        "\n",
        "    response = endpoint.predict(instances=instances, parameters=parameters)\n",
        "    answer = None\n",
        "    if response.predictions:\n",
        "        answer = response.predictions[0][\"text\"].split(\"\\n\")[1]\n",
        "    return answer\n",
        "\n",
        "\n",
        "# Using max_new_tokens along with other parameters\n",
        "parameters_with_tokens = {\"max_new_tokens\": 50}\n",
        "predictions_with_tokens = vqa_predict(\n",
        "    endpoint=endpoint,\n",
        "    image_url=image_url,\n",
        "    text_prompt=question_prompt,\n",
        "    parameters=parameters_with_tokens,\n",
        ")\n",
        "\n",
        "\n",
        "image = common_util.download_image(image_url)\n",
        "display(image)\n",
        "\n",
        "print(f\"Prediction Response: {predictions_with_tokens}\")\n",
        "# @markdown Click \"Show Code\" to see more details."
      ]
    },
    {
      "cell_type": "markdown",
      "metadata": {
        "id": "IrVZ030i4XMY"
      },
      "source": [
        "## Clean up resources"
      ]
    },
    {
      "cell_type": "code",
      "execution_count": null,
      "metadata": {
        "cellView": "form",
        "id": "YsMpOI1kYjil"
      },
      "outputs": [],
      "source": [
        "# @markdown Delete the endpoint.\n",
        "\n",
        "for endpoint in endpoints.values():\n",
        "    endpoint.delete(force=True)"
      ]
    }
  ],
  "metadata": {
    "colab": {
      "name": "model_garden_hf_paligemma2_deployment.ipynb",
      "toc_visible": true
    },
    "kernelspec": {
      "display_name": "Python 3",
      "name": "python3"
    }
  },
  "nbformat": 4,
  "nbformat_minor": 0
}
