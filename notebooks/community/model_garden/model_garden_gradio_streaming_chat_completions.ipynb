{
  "cells": [
    {
      "cell_type": "code",
      "execution_count": null,
      "metadata": {
        "cellView": "form",
        "id": "L7tH6GT2M9F9"
      },
      "outputs": [],
      "source": [
        "# Copyright 2025 Google LLC\n",
        "#\n",
        "# Licensed under the Apache License, Version 2.0 (the \"License\");\n",
        "# you may not use this file except in compliance with the License.\n",
        "# You may obtain a copy of the License at\n",
        "#\n",
        "#     https://www.apache.org/licenses/LICENSE-2.0\n",
        "#\n",
        "# Unless required by applicable law or agreed to in writing, software\n",
        "# distributed under the License is distributed on an \"AS IS\" BASIS,\n",
        "# WITHOUT WARRANTIES OR CONDITIONS OF ANY KIND, either express or implied.\n",
        "# See the License for the specific language governing permissions and\n",
        "# limitations under the License."
      ]
    },
    {
      "cell_type": "markdown",
      "metadata": {
        "id": "BG8HkBaxM9F9"
      },
      "source": [
        "# Vertex AI Model Garden - Chat Completions With Streaming Playground\n",
        "\n",
        "<table><tbody><tr>\n",
        "  <td style=\"text-align: center\">\n",
        "    <a href=\"https://console.cloud.google.com/vertex-ai/colab/import/https:%2F%2Fraw.githubusercontent.com%2FGoogleCloudPlatform%2Fvertex-ai-samples%2Fmain%2Fnotebooks%2Fcommunity%2Fmodel_garden%2Fmodel_garden_gradio_streaming_chat_completions.ipynb\">\n",
        "      <img alt=\"Google Cloud Colab Enterprise logo\" src=\"https://lh3.googleusercontent.com/JmcxdQi-qOpctIvWKgPtrzZdJJK-J3sWE1RsfjZNwshCFgE_9fULcNpuXYTilIR2hjwN\" width=\"32px\"><br> Run in Colab Enterprise\n",
        "    </a>\n",
        "  </td>\n",
        "  <td style=\"text-align: center\">\n",
        "    <a href=\"https://github.com/GoogleCloudPlatform/vertex-ai-samples/blob/main/notebooks/community/model_garden/model_garden_gradio_streaming_chat_completions.ipynb\">\n",
        "      <img alt=\"GitHub logo\" src=\"https://github.githubassets.com/assets/GitHub-Mark-ea2971cee799.png\" width=\"32px\"><br> View on GitHub\n",
        "    </a>\n",
        "  </td>\n",
        "</tr></tbody></table>"
      ]
    },
    {
      "cell_type": "markdown",
      "metadata": {
        "id": "bmPrfBTFM9F9"
      },
      "source": [
        "## Overview\n",
        "\n",
        "This notebook demonstrates starting a playground based on [Gradio UI](https://www.gradio.app/) that allows users to interact with the instruction-tuned text generation models via a chatbot UI more easily.\n",
        "\n",
        "### Objective\n",
        "\n",
        "This notebook shows how to build a streaming chat UI using [Gradio](https://www.gradio.app/) and models from **Vertex AI Model Garden**.\n",
        "\n",
        "We cover two options:\n",
        "\n",
        "1. Public Playground Endpoints — quick demos, no deployment needed.  \n",
        "2. Self-Deployed Endpoints (via Model Garden SDK) — production-ready, full control over resources, scaling, and networking using [Vertex Online Prediction](https://cloud.google.com/vertex-ai/docs/predictions/get-online-predictions).\n",
        "\n",
        "\n",
        "### File a Bug\n",
        "\n",
        "If you encounter issues with this notebook, report them on [GitHub](https://github.com/GoogleCloudPlatform/vertex-ai-samples/issues/new).\n",
        "\n",
        "### Costs\n",
        "\n",
        "This tutorial uses billable components of Google Cloud:\n",
        "\n",
        "* Vertex AI\n",
        "* Cloud Storage\n",
        "\n",
        "Learn about [Vertex AI pricing](https://cloud.google.com/vertex-ai/pricing), [Cloud Storage pricing](https://cloud.google.com/storage/pricing), and use the [Pricing Calculator](https://cloud.google.com/products/calculator/) to generate a cost estimate based on your projected usage."
      ]
    },
    {
      "cell_type": "markdown",
      "metadata": {
        "id": "TW7zfjJ9ijdv"
      },
      "source": [
        "## Get Started"
      ]
    },
    {
      "cell_type": "markdown",
      "metadata": {
        "id": "t2ZbddqwirAQ"
      },
      "source": [
        "### Install Vertex AI SDK and other required packages"
      ]
    },
    {
      "cell_type": "code",
      "execution_count": null,
      "metadata": {
        "cellView": "form",
        "id": "jUZxkzWgisjM"
      },
      "outputs": [],
      "source": [
        "%pip install --upgrade --force-reinstall --quiet 'google-cloud-aiplatform>=1.106.0' 'gradio~=4.40.0' 'openai' 'google-auth==2.27.0' 'requests==2.32.3'"
      ]
    },
    {
      "cell_type": "markdown",
      "metadata": {
        "id": "5kqUh4mLi3ve"
      },
      "source": [
        "### Authenticate the Notebook Environment (Colab only)\n",
        "\n",
        "If you're running this notebook in Google Colab, run the following cell to authenticate."
      ]
    },
    {
      "cell_type": "code",
      "execution_count": null,
      "metadata": {
        "cellView": "form",
        "id": "LCCyyaMCi5WA"
      },
      "outputs": [],
      "source": [
        "import sys\n",
        "\n",
        "if \"google.colab\" in sys.modules:\n",
        "    from google.colab import auth\n",
        "\n",
        "    auth.authenticate_user()"
      ]
    },
    {
      "cell_type": "markdown",
      "metadata": {
        "id": "C4OKFznli8wZ"
      },
      "source": [
        "### Set Google Cloud Project Information\n",
        "\n",
        "\n",
        "To get started with Vertex AI, ensure you have an existing Google Cloud project and that the [Vertex AI API is enabled](https://console.cloud.google.com/flows/enableapi?apiid=aiplatform.googleapis.com).\n",
        "\n",
        "See the guide on [setting up your project and development environment](https://cloud.google.com/vertex-ai/docs/start/cloud-environment). Also confirm that [billing is enabled](https://cloud.google.com/billing/docs/how-to/modify-project)."
      ]
    },
    {
      "cell_type": "code",
      "execution_count": null,
      "metadata": {
        "cellView": "form",
        "id": "rvg9VdvLjDlU"
      },
      "outputs": [],
      "source": [
        "# Use the environment variable if the user doesn't provide Project ID.\n",
        "import os\n",
        "\n",
        "import vertexai\n",
        "\n",
        "PROJECT_ID = \"[your-project-id]\"  # @param {type: \"string\", placeholder: \"[your-project-id]\", isTemplate: true}\n",
        "\n",
        "if not PROJECT_ID or PROJECT_ID == \"[your-project-id]\":\n",
        "    PROJECT_ID = str(os.environ.get(\"GOOGLE_CLOUD_PROJECT\"))\n",
        "\n",
        "REGION = \"us-west1\"  # @param {type: \"string\", placeholder: \"us-west1\", isTemplate: true}\n",
        "\n",
        "if not REGION:\n",
        "    REGION = os.environ.get(\"GOOGLE_CLOUD_REGION\", \"us-west1\")\n",
        "\n",
        "vertexai.init(project=PROJECT_ID, location=REGION)"
      ]
    },
    {
      "cell_type": "markdown",
      "metadata": {
        "id": "UJTVLP9KjGcA"
      },
      "source": [
        "### Import libraries"
      ]
    },
    {
      "cell_type": "code",
      "execution_count": null,
      "metadata": {
        "cellView": "form",
        "id": "JVyH9233jAfs"
      },
      "outputs": [],
      "source": [
        "import json\n",
        "from typing import Any, Dict, List, Optional, Tuple\n",
        "\n",
        "import google.auth\n",
        "import google.auth.transport.requests\n",
        "import gradio as gr\n",
        "import requests\n",
        "from vertexai import model_garden"
      ]
    },
    {
      "cell_type": "markdown",
      "metadata": {
        "id": "32d-COi4Xuxf"
      },
      "source": [
        "## Choose an Endpoint"
      ]
    },
    {
      "cell_type": "markdown",
      "metadata": {
        "id": "9l5U7zzWjQN4"
      },
      "source": [
        "### [Option 1] Public Playground Endpoint\n",
        "\n",
        "Google provides some shared endpoints for quick testing. These are **multi-tenant** and intended for experimentation, not production. Use this option if you just want to test the chat UI quickly.\n",
        "\n",
        "This example is using Gemma-2-2b-it (Public playground)."
      ]
    },
    {
      "cell_type": "code",
      "execution_count": null,
      "metadata": {
        "cellView": "form",
        "id": "k1Vg7ZtRjXJV"
      },
      "outputs": [],
      "source": [
        "use_public_endpoint = True\n",
        "MODEL = \"google/796\""
      ]
    },
    {
      "cell_type": "markdown",
      "metadata": {
        "id": "-7NrNHYumaMT"
      },
      "source": [
        "### [Option 2] Self-Deployed Endpoint\n",
        "Deploy a model from Model Garden with your own settings. You control machine type, scaling, etc."
      ]
    },
    {
      "cell_type": "code",
      "execution_count": null,
      "metadata": {
        "cellView": "form",
        "id": "PngCre5noddO"
      },
      "outputs": [],
      "source": [
        "use_public_endpoint = False"
      ]
    },
    {
      "cell_type": "markdown",
      "metadata": {
        "id": "nYZ9ej_1p--4"
      },
      "source": [
        "#### Choose model variant\n",
        "\n",
        "You can proceed with the default model variant or select a different one.\n",
        "\n",
        "To see all deployable model variants available in Model Garden, use:"
      ]
    },
    {
      "cell_type": "code",
      "execution_count": null,
      "metadata": {
        "cellView": "form",
        "id": "EAgXX3-lnFyY"
      },
      "outputs": [],
      "source": [
        "all_deployable_models = model_garden.list_deployable_models()"
      ]
    },
    {
      "cell_type": "markdown",
      "metadata": {
        "id": "z6J_UhJOnPVT"
      },
      "source": [
        "Once you've selected a model variant, initialize it:"
      ]
    },
    {
      "cell_type": "code",
      "execution_count": null,
      "metadata": {
        "cellView": "form",
        "id": "miOkAxBenRig"
      },
      "outputs": [],
      "source": [
        "model = model_garden.OpenModel(\"openai/gpt-oss@gpt-oss-20b\")"
      ]
    },
    {
      "cell_type": "markdown",
      "metadata": {
        "id": "8ZSQ6jUrn33o"
      },
      "source": [
        "#### Check the Deployment Configuration\n",
        "\n",
        "Use the `list_deploy_options()` method to view the verified deployment configurations for your selected model. This helps ensure you have sufficient resources (e.g., GPU quota) available to deploy it.\n",
        "\n",
        "> **Note**: Only endpoints with **TGI**, **vLLM**, and **HexLLM** serving container image deployed after August 20, 2024 with a new container image support chat completions and streaming features. If you are not sure, you can deploy a demo endpoint directly from below."
      ]
    },
    {
      "cell_type": "code",
      "execution_count": null,
      "metadata": {
        "cellView": "form",
        "id": "vL7Qf_H8n5gc"
      },
      "outputs": [],
      "source": [
        "deploy_options = model.list_deploy_options(concise=True)\n",
        "print(deploy_options)"
      ]
    },
    {
      "cell_type": "markdown",
      "metadata": {
        "id": "AqLAKRhWn9JY"
      },
      "source": [
        "#### Deploy the Model\n",
        "\n",
        "Now that you’ve reviewed the deployment options, use the `deploy()` method to serve the selected open model to a Vertex AI endpoint. Deployment time may vary depending on the model size and infrastructure requirements.\n",
        "\n",
        "> **Note**: If the model requires accepting a license agreement (EULA), set the `accept_eula=True` flag in the deploy call. Set `use_dedicated_endpoint` to False if you don't want to use [dedicated endpoint](https://cloud.google.com/vertex-ai/docs/general/deployment#create-dedicated-endpoint)."
      ]
    },
    {
      "cell_type": "code",
      "execution_count": null,
      "metadata": {
        "cellView": "form",
        "id": "CFUxKaCiogKF"
      },
      "outputs": [],
      "source": [
        "use_dedicated_endpoint = False"
      ]
    },
    {
      "cell_type": "code",
      "execution_count": null,
      "metadata": {
        "cellView": "form",
        "id": "BrloHZgXm-z1"
      },
      "outputs": [],
      "source": [
        "endpoint = model.deploy(\n",
        "    accept_eula=True,\n",
        "    use_dedicated_endpoint=use_dedicated_endpoint,\n",
        "    serving_container_image_uri=\"us-docker.pkg.dev/vertex-ai/vertex-vision-model-garden-dockers/pytorch-vllm-serve:20250807_0916_RC01_maas\",\n",
        "    machine_type=\"a3-highgpu-1g\",\n",
        "    accelerator_type=\"NVIDIA_H100_80GB\",\n",
        "    accelerator_count=1,\n",
        ")"
      ]
    },
    {
      "cell_type": "markdown",
      "metadata": {
        "id": "etu4WvXqH7Pf"
      },
      "source": [
        "## Streaming Chat Function\n",
        "\n",
        "This function will:\n",
        "- Take user input + history\n",
        "- Call the model (streaming)\n",
        "- Yield partial outputs so the UI updates in real time"
      ]
    },
    {
      "cell_type": "code",
      "execution_count": null,
      "metadata": {
        "cellView": "form",
        "id": "e5sKDoepYDcp"
      },
      "outputs": [],
      "source": [
        "def format_payload(\n",
        "    messages: List[Dict[str, str]], max_tokens: int, model: str = None\n",
        ") -> Dict[str, Any]:\n",
        "    \"\"\"Formats the request payload for the chat completion API.\"\"\"\n",
        "    payload = {\n",
        "        \"messages\": messages,\n",
        "        \"max_tokens\": max_tokens,\n",
        "        \"stream\": True,\n",
        "    }\n",
        "    # Conditionally add the model for public endpoints\n",
        "    if model:\n",
        "        payload[\"model\"] = model\n",
        "    return payload\n",
        "\n",
        "\n",
        "class StreamingClient:\n",
        "    \"\"\"A wrapper for a streaming client, initialized with either a model (public) or an endpoint (custom).\"\"\"\n",
        "\n",
        "    def __init__(\n",
        "        self,\n",
        "        model: Optional[str] = None,\n",
        "        endpoint: Optional[Any] = None,\n",
        "        max_tokens: int = 512,\n",
        "        use_dedicated_endpoint: bool = False,\n",
        "    ):\n",
        "        \"\"\"\n",
        "        Initializes the client with API configuration.\n",
        "\n",
        "        :param model: The model ID (e.g., \"gemini-2.5-flash\") for the public endpoint.\n",
        "        :param endpoint: An object representing a custom deployed endpoint (must have a resource_name).\n",
        "        :param max_tokens: The maximum number of tokens to generate.\n",
        "        :param use_dedicated_endpoint: Flag to use a GCA-dedicated endpoint URL pattern.\n",
        "        \"\"\"\n",
        "        self.max_tokens = max_tokens\n",
        "\n",
        "        if model is not None and endpoint is not None:\n",
        "            raise ValueError(\n",
        "                \"Must provide either a 'model' (for public API) OR an 'endpoint' (for custom deployment), not both.\"\n",
        "            )\n",
        "        if model is None and endpoint is None:\n",
        "            raise ValueError(\n",
        "                \"Must provide a 'model' (for public API) or an 'endpoint' (for custom deployment).\"\n",
        "            )\n",
        "\n",
        "        self.model = model\n",
        "        self.use_public_endpoint = model is not None\n",
        "\n",
        "        if self.use_public_endpoint:\n",
        "            self.url = f\"https://{REGION}-aiplatform.googleapis.com/v1beta1/projects/{PROJECT_ID}/locations/{REGION}/endpoints/openapi/chat/completions\"\n",
        "\n",
        "        elif use_dedicated_endpoint:\n",
        "            self.url = f\"https://{endpoint.dedicated_endpoint_dns}/v1beta1/{endpoint.resource_name}/chat/completions\"\n",
        "\n",
        "        else:\n",
        "            self.url = f\"https://{REGION}-aiplatform.googleapis.com/v1beta1/{endpoint.resource_name}/chat/completions\"\n",
        "\n",
        "    def _get_access_token(self) -> str:\n",
        "        \"\"\"Programmatically obtains the access token using google.auth.\"\"\"\n",
        "        credentials, _ = google.auth.default(\n",
        "            scopes=[\"https://www.googleapis.com/auth/cloud-platform\"]\n",
        "        )\n",
        "        auth_request = google.auth.transport.requests.Request()\n",
        "        credentials.refresh(auth_request)\n",
        "        return credentials.token\n",
        "\n",
        "    def predict(self, message: str, chat_history: List[Tuple[str, str]]):\n",
        "        \"\"\"\n",
        "        Sends a request to the chat API and streams the response.\n",
        "        :yields: Chunks of the streamed prediction text.\n",
        "        \"\"\"\n",
        "        messages = []\n",
        "        for u, a in chat_history:\n",
        "            messages.append({\"role\": \"user\", \"content\": u})\n",
        "            messages.append({\"role\": \"assistant\", \"content\": a})\n",
        "        messages.append({\"role\": \"user\", \"content\": message})\n",
        "\n",
        "        model_to_use = self.model if self.use_public_endpoint else None\n",
        "        payload = format_payload(messages, self.max_tokens, model=model_to_use)\n",
        "\n",
        "        access_token = self._get_access_token()\n",
        "\n",
        "        response = requests.post(\n",
        "            self.url,\n",
        "            headers={\"Authorization\": f\"Bearer {access_token}\"},\n",
        "            json=payload,\n",
        "            stream=True,\n",
        "        )\n",
        "\n",
        "        if not response.ok:\n",
        "            raise gr.Error(\n",
        "                f\"API Request Failed: {response.status_code} - {response.text}\"\n",
        "            )\n",
        "\n",
        "        prediction = \"\"\n",
        "        for chunk in response.iter_lines(chunk_size=8192, decode_unicode=False):\n",
        "            if chunk:\n",
        "                chunk = chunk.decode(\"utf-8\").removeprefix(\"data:\").strip()\n",
        "                if chunk == \"[DONE]\":\n",
        "                    break\n",
        "                try:\n",
        "                    data = json.loads(chunk)\n",
        "                except json.JSONDecodeError:\n",
        "                    continue\n",
        "\n",
        "                if not isinstance(data, dict) or \"error\" in data:\n",
        "                    raise gr.Error(data)\n",
        "\n",
        "                delta = data[\"choices\"][0][\"delta\"].get(\"content\")\n",
        "                if delta:\n",
        "                    prediction += delta\n",
        "                    yield prediction"
      ]
    },
    {
      "cell_type": "markdown",
      "metadata": {
        "id": "w-dAr278H-89"
      },
      "source": [
        "## Build Gradio Interface\n",
        "Use Gradio to build a chat interface that calls the `stream_chat` generator: the UI shows messages and the streaming response."
      ]
    },
    {
      "cell_type": "code",
      "execution_count": null,
      "metadata": {
        "cellView": "form",
        "id": "PY6xIJQ8IBKT"
      },
      "outputs": [],
      "source": [
        "if use_public_endpoint:\n",
        "    client = StreamingClient(model=MODEL)\n",
        "else:\n",
        "    client = StreamingClient(\n",
        "        endpoint=endpoint, use_dedicated_endpoint=use_dedicated_endpoint\n",
        "    )\n",
        "\n",
        "with gr.Blocks(title=\"Vertex Model Garden Chat\", fill_height=True) as demo:\n",
        "    gr.ChatInterface(client.predict)\n",
        "\n",
        "demo.launch(share=False, debug=True, show_error=True)"
      ]
    },
    {
      "cell_type": "markdown",
      "metadata": {
        "id": "crFYGvxIIG2l"
      },
      "source": [
        "## Cleanup\n",
        "\n",
        "If you deployed your own endpoint, make sure to delete it to avoid charges:"
      ]
    },
    {
      "cell_type": "code",
      "execution_count": null,
      "metadata": {
        "cellView": "form",
        "id": "GM-Xrc0SIIJF"
      },
      "outputs": [],
      "source": [
        "# endpoint.delete()  # Uncomment when ready"
      ]
    }
  ],
  "metadata": {
    "colab": {
      "name": "model_garden_gradio_streaming_chat_completions.ipynb",
      "toc_visible": true
    },
    "kernelspec": {
      "display_name": "Python 3",
      "name": "python3"
    }
  },
  "nbformat": 4,
  "nbformat_minor": 0
}
