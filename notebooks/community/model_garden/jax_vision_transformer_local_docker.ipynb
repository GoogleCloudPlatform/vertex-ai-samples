{
  "cells": [
    {
      "cell_type": "markdown",
      "id": "3c19749c-4780-47e7-9da1-c4a86aa227dc",
      "metadata": {
        "id": "aef5cb6e9177"
      },
      "source": [
        "# Local docker run for JAX VIT training\n",
        "\n",
        "This notebook shows local docker run for JAX VIT training.\n",
        "This notebook uses a workbench with TensorFlow 2.11 and 8 v100 GPUs.\n",
        "You also need to upload the 'train_vit_gpu.Dockerfile' to the home directory for workbench."
      ]
    },
    {
      "cell_type": "code",
      "execution_count": null,
      "id": "a3df6e8a-68c7-40a2-9b24-0ed7acdeffc3",
      "metadata": {
        "id": "f05ff093a12c"
      },
      "outputs": [],
      "source": [
        "# Build training docker\n",
        "\n",
        "project = \"cloud-nas-260507\"\n",
        "image_tag = \"jax-vit-train-gpu-lavrai-test:latest\"\n",
        "train_docker_uri = \"gcr.io/{}/{}\".format(project, image_tag)\n",
        "\n",
        "!docker build -f train_vit_gpu.Dockerfile . -t {image_tag}\n",
        "\n",
        "!docker tag {image_tag} {train_docker_uri}\n",
        "\n",
        "!docker push {train_docker_uri}"
      ]
    },
    {
      "cell_type": "code",
      "execution_count": null,
      "id": "10978e1a-8cf2-4a07-8b0c-f0e45a88bf53",
      "metadata": {
        "id": "f34c12555d83"
      },
      "outputs": [],
      "source": [
        "# Docker arguments.\n",
        "workdir = \"tmp\"\n",
        "docker_args_list = [\n",
        "    \"--config\",\n",
        "    \"vit_jax/configs/augreg.py:R_Ti_16\",\n",
        "    \"--config.dataset\",\n",
        "    \"tf_flowers\",\n",
        "    \"--config.pp.train\",\n",
        "    \"train[:90%]\",\n",
        "    \"--config.pp.test\",\n",
        "    \"train[90%:]\",\n",
        "    \"--config.batch_eval\",\n",
        "    \"120\",\n",
        "    \"--config.base_lr\",\n",
        "    \"0.01\",\n",
        "    \"--config.shuffle_buffer\",\n",
        "    \"1000\",\n",
        "    \"--config.total_steps\",\n",
        "    \"100\",\n",
        "    \"--config.warmup_steps\",\n",
        "    \"10\",\n",
        "    \"--config.accum_steps\",\n",
        "    \"0\",  # Not needed with R+Ti/16 model.\n",
        "    \"--config.pp.crop\",\n",
        "    \"224\",\n",
        "    \"--workdir\",\n",
        "    f\"{workdir}\",\n",
        "]\n",
        "print(docker_args_list)"
      ]
    },
    {
      "cell_type": "code",
      "execution_count": null,
      "id": "b36477a6-f083-4098-8745-aebcc6e74098",
      "metadata": {
        "id": "8a55b3a05cda"
      },
      "outputs": [],
      "source": [
        "# Utility functions.\n",
        "\n",
        "import io\n",
        "import subprocess\n",
        "import sys\n",
        "\n",
        "\n",
        "def run_command_with_stdout(cmd, job_log_file=None, error_message=\"\"):\n",
        "    \"\"\"Runs the command and stream the command outputs.\"\"\"\n",
        "    if job_log_file is None:\n",
        "        job_log_file = sys.stdout\n",
        "    buf = io.StringIO()\n",
        "    ret_code = None\n",
        "\n",
        "    with subprocess.Popen(\n",
        "        cmd,\n",
        "        stdin=subprocess.PIPE,\n",
        "        stdout=subprocess.PIPE,\n",
        "        stderr=subprocess.STDOUT,\n",
        "        universal_newlines=False,\n",
        "    ) as p:\n",
        "        out = io.TextIOWrapper(p.stdout, newline=\"\")\n",
        "\n",
        "        for line in out:\n",
        "            buf.write(line)\n",
        "            job_log_file.write(line)\n",
        "            job_log_file.flush()\n",
        "\n",
        "        # flush to force the contents to display.\n",
        "        job_log_file.flush()\n",
        "\n",
        "        while p.poll() is None:\n",
        "            # Process hasn't exited yet, let's wait some\n",
        "            time.sleep(0.5)\n",
        "\n",
        "        ret_code = p.returncode\n",
        "        p.stdout.close()\n",
        "\n",
        "    if ret_code:\n",
        "        raise RuntimeError(\n",
        "            \"Error: {} with return code {}\".format(error_message, ret_code)\n",
        "        )\n",
        "    return buf.getvalue(), ret_code"
      ]
    },
    {
      "cell_type": "code",
      "execution_count": null,
      "id": "7d559395-c1d5-4ccd-8066-054eac3ad2d2",
      "metadata": {
        "id": "b6204dd0a570"
      },
      "outputs": [],
      "source": [
        "# Run local training.\n",
        "cmd = [\"nvidia-docker\", \"run\"] + [\"-t\", train_docker_uri] + docker_args_list\n",
        "run_command_with_stdout(cmd, error_message=\"Failed to run docker locally\")"
      ]
    }
  ],
  "metadata": {
    "colab": {
      "name": "jax_vision_transformer_local_docker.ipynb",
      "toc_visible": true
    },
    "kernelspec": {
      "display_name": "Python 3",
      "name": "python3"
    }
  },
  "nbformat": 4,
  "nbformat_minor": 0
}
