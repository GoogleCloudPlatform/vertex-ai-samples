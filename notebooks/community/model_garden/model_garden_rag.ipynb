{
  "cells": [
    {
      "cell_type": "code",
      "execution_count": null,
      "metadata": {
        "cellView": "form",
        "id": "Rdr9qXnG1HaN"
      },
      "outputs": [],
      "source": [
        "# Copyright 2024 Google LLC\n",
        "#\n",
        "# Licensed under the Apache License, Version 2.0 (the \"License\");\n",
        "# you may not use this file except in compliance with the License.\n",
        "# You may obtain a copy of the License at\n",
        "#\n",
        "#     https://www.apache.org/licenses/LICENSE-2.0\n",
        "#\n",
        "# Unless required by applicable law or agreed to in writing, software\n",
        "# distributed under the License is distributed on an \"AS IS\" BASIS,\n",
        "# WITHOUT WARRANTIES OR CONDITIONS OF ANY KIND, either express or implied.\n",
        "# See the License for the specific language governing permissions and\n",
        "# limitations under the License."
      ]
    },
    {
      "cell_type": "markdown",
      "metadata": {
        "id": "E_X6E0Jl1NbD"
      },
      "source": [
        "## Model Garden RAG API\n",
        "\n",
        "<table align=\"left\">\n",
        "  <td style=\"text-align: center\">\n",
        "    <a href=\"https://colab.research.google.com/github/GoogleCloudPlatform/vertex-ai-samples/blob/main/notebooks/community/model_garden/model_garden_rag.ipynb\">\n",
        "      <img src=\"https://cloud.google.com/ml-engine/images/colab-logo-32px.png\" alt=\"Google Colaboratory logo\"><br> Open in Colab\n",
        "    </a>\n",
        "  </td>\n",
        "  <td style=\"text-align: center\">\n",
        "    <a href=\"https://console.cloud.google.com/vertex-ai/colab/import/https:%2F%2Fraw.githubusercontent.com%2FGoogleCloudPlatform%2Fvertex-ai-samples%2Fmain%2Fnotebooks%2Fcommunity%2Fmodel_garden%2Fmodel_garden_rag.ipynb\"\">\n",
        "      <img width=\"32px\" src=\"https://cloud.google.com/ml-engine/images/colab-enterprise-logo-32px.png\" alt=\"Google Cloud Colab Enterprise logo\"><br> Open in Colab Enterprise\n",
        "    </a>\n",
        "  </td>    \n",
        "  <td style=\"text-align: center\">\n",
        "    <a href=\"https://console.cloud.google.com/vertex-ai/workbench/deploy-notebook?download_url=https://raw.githubusercontent.com/GoogleCloudPlatform/vertex-ai-samples/blob/main/notebooks/community/model_garden/model_garden_rag.ipynb\">\n",
        "      <img src=\"https://lh3.googleusercontent.com/UiNooY4LUgW_oTvpsNhPpQzsstV5W8F7rYgxgGBD85cWJoLmrOzhVs_ksK_vgx40SHs7jCqkTkCk=e14-rj-sc0xffffff-h130-w32\" alt=\"Vertex AI logo\"><br> Open in Workbench\n",
        "    </a>\n",
        "  </td>\n",
        "  <td style=\"text-align: center\">\n",
        "    <a href=\"https://github.com/GoogleCloudPlatform/vertex-ai-samples/blob/main/notebooks/community/model_garden/model_garden_rag.ipynb\">\n",
        "      <img src=\"https://github.githubassets.com/assets/GitHub-Mark-ea2971cee799.png\" alt=\"GitHub logo\"><br> View on GitHub\n",
        "    </a>\n",
        "  </td>"
      ]
    },
    {
      "cell_type": "markdown",
      "metadata": {
        "id": "a1xYf51YT_56"
      },
      "source": [
        "## 0. Set up the Environment and Test Project"
      ]
    },
    {
      "cell_type": "code",
      "execution_count": null,
      "metadata": {
        "cellView": "form",
        "id": "u9mTxNC41S_1"
      },
      "outputs": [],
      "source": [
        "!pip3 install --force-reinstall google-cloud-aiplatform \"numpy<2.0.0\" --user\n",
        "!pip install --upgrade --quiet openai"
      ]
    },
    {
      "cell_type": "code",
      "execution_count": null,
      "metadata": {
        "cellView": "form",
        "id": "ILNZ8_hw1WaC"
      },
      "outputs": [],
      "source": [
        "from google.colab import auth\n",
        "\n",
        "auth.authenticate_user()\n",
        "\n",
        "# Install gcloud\n",
        "!pip install google-cloud"
      ]
    },
    {
      "cell_type": "markdown",
      "metadata": {
        "id": "WuzltFSF1ZWw"
      },
      "source": [
        "**Remember to restart after pip install.**"
      ]
    },
    {
      "cell_type": "code",
      "execution_count": null,
      "metadata": {
        "cellView": "form",
        "id": "yj8SdgZM1cOP"
      },
      "outputs": [],
      "source": [
        "import sys\n",
        "\n",
        "if \"google.colab\" in sys.modules:\n",
        "\n",
        "    import IPython\n",
        "\n",
        "    app = IPython.Application.instance()\n",
        "    app.kernel.do_shutdown(True)"
      ]
    },
    {
      "cell_type": "markdown",
      "metadata": {
        "id": "o7x73NiprHhJ"
      },
      "source": [
        "## Initialization\n"
      ]
    },
    {
      "cell_type": "code",
      "execution_count": null,
      "metadata": {
        "cellView": "form",
        "id": "ldoxVA24qnAF"
      },
      "outputs": [],
      "source": [
        "import vertexai\n",
        "from vertexai.preview import rag\n",
        "from vertexai.preview.generative_models import GenerativeModel, Tool"
      ]
    },
    {
      "cell_type": "code",
      "execution_count": null,
      "metadata": {
        "cellView": "form",
        "id": "tB-fhAybq0T2"
      },
      "outputs": [],
      "source": [
        "# Set Project\n",
        "PROJECT_ID = \"\"  # @param {type:\"string\", \"placeholder\": \"your-project-id\"}"
      ]
    },
    {
      "cell_type": "code",
      "execution_count": null,
      "metadata": {
        "cellView": "form",
        "id": "O2Rr1Ymlq3Uq"
      },
      "outputs": [],
      "source": [
        "vertexai.init(project=PROJECT_ID, location=\"us-central1\")"
      ]
    },
    {
      "cell_type": "markdown",
      "metadata": {
        "id": "cmxhW-LArK2L"
      },
      "source": [
        "## Create a RAG corpus\n"
      ]
    },
    {
      "cell_type": "code",
      "execution_count": null,
      "metadata": {
        "cellView": "form",
        "id": "5E1tVMx3rAXF"
      },
      "outputs": [],
      "source": [
        "# Configure a Google first-party embedding model\n",
        "embedding_model_config = rag.EmbeddingModelConfig(\n",
        "    publisher_model=\"publishers/google/models/text-embedding-004\"\n",
        ")\n",
        "\n",
        "# Name your corpus\n",
        "DISPLAY_NAME = \"\"  # @param {type:\"string\", \"placeholder\": \"your-corpus-name\"}\n",
        "\n",
        "rag_corpus = rag.create_corpus(\n",
        "    display_name=DISPLAY_NAME, embedding_model_config=embedding_model_config\n",
        ")\n",
        "\n",
        "# Use other embedding models\n",
        "# Configure a third-party model or a Google fine-tuned first-party model as a Vertex Endpoint resource\n",
        "# See https://github.com/GoogleCloudPlatform/vertex-ai-samples/blob/main/notebooks/community/model_garden/model_garden_e5.ipynb\n",
        "# for deploying 3P embedding models to endpoints\n",
        "# EMBEDDING_MODEL_ENDPOINT_ID = \"\" # @param {type:\"string\", \"placeholder\": \"your-model-endpoint-id\"}\n",
        "# EMBEDDING_MODEL_ENDPOINT = f\"projects/{PROJECT_ID}/locations/us-central1/endpoints/{EMBEDDING_MODEL_ENDPOINT_ID}\"\n",
        "# embedding_model_config = rag.EmbeddingModelConfig(\n",
        "#     endpoint=EMBEDDING_MODEL_ENDPOINT,\n",
        "# )\n",
        "\n",
        "# Use Pinecone as the Vector Database\n",
        "# Configure a Pinecone Instance\n",
        "# PINECONE_INDEX_NAME = \"\" # @param {type:\"string\", \"placeholder\": \"your-pinecone-index-name\"}\n",
        "# PINECONE_API_KEY = \"\" # @param {type:\"string\", \"placeholder\": \"your-secret-manager-resource-name\"}\n",
        "# vector_db = rag.Pinecone(\n",
        "#     index_name=PINECONE_INDEX_NAME,\n",
        "#     api_key=PINECONE_API_KEY,\n",
        "# )\n",
        "# rag_corpus = rag.create_corpus(\n",
        "#     display_name=DISPLAY_NAME, embedding_model_config=embedding_model_config, vector_db=vector_db\n",
        "# )\n",
        "\n",
        "# Use Weaviate as the Vector Database\n",
        "# Configure a Weaviate Vector Database Instance for the corpus\n",
        "# WEAVIATE_HTTP_ENDPOINT = \"\" # @param {type:\"string\", \"placeholder\": \"your-weaviate-http-endpoint\"}\n",
        "# COLLECTION_NAME = \"\" # @param {type:\"string\", \"placeholder\": \"your-weaviate-collection-name\"}\n",
        "# API_KEY = \"\" # @param {type:\"string\", \"placeholder\": \"your-secret-manager-resource-name\"}\n",
        "# vector_db = rag.Weaviate(\n",
        "#     weaviate_http_endpoint=WEAVIATE_HTTP_ENDPOINT,\n",
        "#     collection_name=COLLECTION_NAME,\n",
        "#     api_key=API_KEY,\n",
        "# )\n",
        "# rag_corpus = rag.create_corpus(\n",
        "#     display_name=DISPLAY_NAME, embedding_model_config=embedding_model_config, vector_db=vector_db\n",
        "# )\n",
        "\n",
        "# Use Vertex Feature Store as the Vector Database\n",
        "# Configure a Vertex Feature Store Instance\n",
        "# FEATURE_VIEW_RESOURCE_NAME = \"\" # @param {type:\"string\", \"placeholder\": \"your-feature-view-resource-name\"}\n",
        "# vector_db = rag.VertexFeatureStore(\n",
        "#     resource_name=FEATURE_VIEW_RESOURCE_NAME,\n",
        "# )\n",
        "# rag_corpus = rag.create_corpus(\n",
        "#     display_name=DISPLAY_NAME, embedding_model_config=embedding_model_config, vector_db=vector_db\n",
        "# )\n",
        "\n",
        "# Use Vertex Vector Search as the Vector Database\n",
        "# Configure a Vertex Vector Search instance\n",
        "# VECTOR_SEARCH_INDEX_ENDPOINT = \"\" # @param {type:\"string\", \"placeholder\": \"your-vector-search-index-endpoint\"}\n",
        "# VECTOR_SEARCH_INDEX = \"\" # @param {type:\"string\", \"placeholder\": \"your-vector-search-index\"}\n",
        "# vector_db = rag.VertexVectorSearch(\n",
        "#     index_endpoint=VECTOR_SEARCH_INDEX_ENDPOINT,\n",
        "#     index=VECTOR_SEARCH_INDEX,\n",
        "# )\n",
        "# rag_corpus = rag.create_corpus(\n",
        "#     display_name=DISPLAY_NAME, embedding_model_config=embedding_model_config, vector_db=vector_db\n",
        "# )"
      ]
    },
    {
      "cell_type": "code",
      "execution_count": null,
      "metadata": {
        "cellView": "form",
        "id": "16i1ZInQrFnL"
      },
      "outputs": [],
      "source": [
        "# Check the corpus just created\n",
        "rag.list_corpora()"
      ]
    },
    {
      "cell_type": "markdown",
      "metadata": {
        "id": "sSLWYGF8rfMf"
      },
      "source": [
        "## Upload a file to the corpus"
      ]
    },
    {
      "cell_type": "code",
      "execution_count": null,
      "metadata": {
        "cellView": "form",
        "id": "4G5uyvbdraMY"
      },
      "outputs": [],
      "source": [
        "%%writefile test.txt\n",
        "\n",
        "Here's a demo for Llama3 RAG"
      ]
    },
    {
      "cell_type": "code",
      "execution_count": null,
      "metadata": {
        "cellView": "form",
        "id": "Z2vnvVO9rtDF"
      },
      "outputs": [],
      "source": [
        "rag_file = rag.upload_file(\n",
        "    corpus_name=rag_corpus.name,\n",
        "    path=\"test.txt\",\n",
        "    display_name=\"test.txt\",\n",
        "    description=\"my test\",\n",
        ")"
      ]
    },
    {
      "cell_type": "markdown",
      "metadata": {
        "id": "oOhO9-G2r1Gc"
      },
      "source": [
        "## Import files from Google Cloud Storage\n",
        "Remember to grant \"Viewer\" access to the \"Vertex RAG Data Service Agent\" (with the format of service-{project_number}@gcp-sa-vertex-rag.iam.gserviceaccount.com) for your Google Cloud Storage bucket"
      ]
    },
    {
      "cell_type": "code",
      "execution_count": null,
      "metadata": {
        "cellView": "form",
        "id": "y64Hdd_9r5H9"
      },
      "outputs": [],
      "source": [
        "GS_BUCKET = \"\"  # @param {type:\"string\", \"placeholder\": \"your-gs-bucket\"}\n",
        "\n",
        "response = await rag.import_files_async(  # noqa: F704\n",
        "    corpus_name=rag_corpus.name,\n",
        "    paths=[GS_BUCKET],\n",
        "    chunk_size=512,\n",
        "    chunk_overlap=50,\n",
        ")"
      ]
    },
    {
      "cell_type": "code",
      "execution_count": null,
      "metadata": {
        "cellView": "form",
        "id": "YiTAFiEasHLX"
      },
      "outputs": [],
      "source": [
        "# Check the files just imported. It may take a few seconds to process the imported files.\n",
        "list(rag.list_files(corpus_name=rag_corpus.name))"
      ]
    },
    {
      "cell_type": "markdown",
      "metadata": {
        "id": "bBsPDR-jsML5"
      },
      "source": [
        "## Import files from Google Drive\n",
        "Eligible paths can be https://drive.google.com/drive/folders/{folder_id} or https://drive.google.com/file/d/{file_id}.\n",
        "\n",
        "Remember to grant \"Viewer\" access to the \"Vertex RAG Data Service Agent\" (with the format of `service-{project_number}@gcp-sa-vertex-rag.iam.gserviceaccount.com`) for your Drive folder/files."
      ]
    },
    {
      "cell_type": "code",
      "execution_count": null,
      "metadata": {
        "cellView": "form",
        "id": "u16-LvjT2Thi"
      },
      "outputs": [],
      "source": [
        "FILE_ID = \"\"  # @param {type:\"string\", \"placeholder\": \"your-file-id\"}\n",
        "FILE_PATH = f\"https://drive.google.com/file/d/{FILE_ID}\""
      ]
    },
    {
      "cell_type": "code",
      "execution_count": null,
      "metadata": {
        "cellView": "form",
        "id": "iY4_6tshsPSA"
      },
      "outputs": [],
      "source": [
        "rag.import_files(\n",
        "    corpus_name=rag_corpus.name,\n",
        "    paths=[FILE_PATH],\n",
        "    chunk_size=1024,\n",
        "    chunk_overlap=100,\n",
        ")"
      ]
    },
    {
      "cell_type": "code",
      "execution_count": null,
      "metadata": {
        "cellView": "form",
        "id": "Dl8gPm9l4DQ3"
      },
      "outputs": [],
      "source": [
        "# Check the files just imported. It may take a few seconds to process the imported files.\n",
        "list(rag.list_files(corpus_name=rag_corpus.name))"
      ]
    },
    {
      "cell_type": "markdown",
      "metadata": {
        "id": "0fbf43274d4e"
      },
      "source": [
        "## Import files from Slack"
      ]
    },
    {
      "cell_type": "code",
      "execution_count": null,
      "metadata": {
        "cellView": "form",
        "id": "b280caeab721"
      },
      "outputs": [],
      "source": [
        "CHANNEL_ID = \"\"  # @param {type:\"string\", \"placeholder\": \"your-slack-channel-id\"}\n",
        "# fmt: off\n",
        "API_KEY_SECRET_VERSION = \"\"  # @param {type:\"string\", \"placeholder\": \"your-secret-manager-resource-name\"}\n",
        "# fmt: on"
      ]
    },
    {
      "cell_type": "code",
      "execution_count": null,
      "metadata": {
        "cellView": "form",
        "id": "69d731dc8bd6"
      },
      "outputs": [],
      "source": [
        "slack_source = rag.SlackChannelsSource(\n",
        "    channels=[rag.SlackChannel(CHANNEL_ID, API_KEY_SECRET_VERSION)],\n",
        ")"
      ]
    },
    {
      "cell_type": "code",
      "execution_count": null,
      "metadata": {
        "cellView": "form",
        "id": "c54695d94783"
      },
      "outputs": [],
      "source": [
        "response = await rag.import_files_async(  # noqa: F704\n",
        "    corpus_name=rag_corpus.name,\n",
        "    source=slack_source,\n",
        "    chunk_size=1024,\n",
        "    chunk_overlap=200,\n",
        ")"
      ]
    },
    {
      "cell_type": "code",
      "execution_count": null,
      "metadata": {
        "cellView": "form",
        "id": "19bd9fe1537b"
      },
      "outputs": [],
      "source": [
        "# Check the files just imported. It may take a few seconds to process the imported files.\n",
        "list(rag.list_files(corpus_name=rag_corpus.name))"
      ]
    },
    {
      "cell_type": "markdown",
      "metadata": {
        "id": "90e3a7a9fd84"
      },
      "source": [
        "## Import files from Jira"
      ]
    },
    {
      "cell_type": "code",
      "execution_count": null,
      "metadata": {
        "cellView": "form",
        "id": "97716299c38f"
      },
      "outputs": [],
      "source": [
        "EMAIL = \"\"  # @param {type:\"string\", \"placeholder\": \"your-email\"}\n",
        "SERVER_URI = \"\"  # @param {type:\"string\", \"placeholder\": \"your-server.atlassian.net\"}\n",
        "PROJECT = \"\"  # @param {type:\"string\", \"placeholder\": \"your-project-name\"}\n",
        "CUSTOM_QUERY = \"\"  # @param {type:\"string\", \"placeholder\": \"your-custom-jql-query\"}\n",
        "# fmt: off\n",
        "API_KEY_SECRET_VERSION = \"\"  # @param {type:\"string\", \"placeholder\": \"your-secret-manager-resource-name\"}\n",
        "# fmt: on"
      ]
    },
    {
      "cell_type": "code",
      "execution_count": null,
      "metadata": {
        "cellView": "form",
        "id": "768705a29d61"
      },
      "outputs": [],
      "source": [
        "jira_query = rag.JiraQuery(\n",
        "    email=EMAIL,\n",
        "    jira_projects=[PROJECT],\n",
        "    custom_queries=[CUSTOM_QUERY],\n",
        "    api_key=API_KEY_SECRET_VERSION,\n",
        "    server_uri=SERVER_URI,\n",
        ")\n",
        "\n",
        "jira_source = rag.JiraSource(\n",
        "    queries=[jira_query],\n",
        ")"
      ]
    },
    {
      "cell_type": "code",
      "execution_count": null,
      "metadata": {
        "cellView": "form",
        "id": "05b54b5973ae"
      },
      "outputs": [],
      "source": [
        "response = await rag.import_files_async(  # noqa: F704\n",
        "    corpus_name=rag_corpus.name,\n",
        "    source=jira_source,\n",
        "    chunk_size=1024,\n",
        "    chunk_overlap=200,\n",
        ")"
      ]
    },
    {
      "cell_type": "code",
      "execution_count": null,
      "metadata": {
        "cellView": "form",
        "id": "dbb764934c18"
      },
      "outputs": [],
      "source": [
        "# Check the files just imported. It may take a few seconds to process the imported files.\n",
        "list(rag.list_files(corpus_name=rag_corpus.name))"
      ]
    },
    {
      "cell_type": "markdown",
      "metadata": {
        "id": "f2iw2eOjT_56"
      },
      "source": [
        "## Using GenerateContent API with Google-operated Llama3 model endpoint\n",
        "\n",
        "When retrieval query similarity distance < vector_distance_threshold, generate content will cite the retrieved context (from RagStore)."
      ]
    },
    {
      "cell_type": "code",
      "execution_count": null,
      "metadata": {
        "cellView": "form",
        "id": "Ad6Uev02T_56"
      },
      "outputs": [],
      "source": [
        "rag_resource = rag.RagResource(\n",
        "    rag_corpus=rag_corpus.name,\n",
        ")\n",
        "\n",
        "rag_retrieval_tool = Tool.from_retrieval(\n",
        "    retrieval=rag.Retrieval(\n",
        "        source=rag.VertexRagStore(\n",
        "            # Currently only 1 corpus is allowed.\n",
        "            rag_resources=[rag_resource],\n",
        "            similarity_top_k=10,\n",
        "            vector_distance_threshold=0.4,\n",
        "        ),\n",
        "    )\n",
        ")"
      ]
    },
    {
      "cell_type": "code",
      "execution_count": null,
      "metadata": {
        "cellView": "form",
        "id": "urlpq0YiT_56"
      },
      "outputs": [],
      "source": [
        "ENDPOINT = f\"projects/{PROJECT_ID}/locations/us-central1/publishers/meta/models/llama-3.1-405b-instruct-maas\"\n",
        "\n",
        "rag_model = GenerativeModel(ENDPOINT, tools=[rag_retrieval_tool])"
      ]
    },
    {
      "cell_type": "code",
      "execution_count": null,
      "metadata": {
        "cellView": "form",
        "id": "N5B2BSPdT_56"
      },
      "outputs": [],
      "source": [
        "GENERATE_CONTENT_PROMPT = \"What is RAG and why it is helpful?\"  # @param {type:\"string\"}\n",
        "\n",
        "response = rag_model.generate_content(GENERATE_CONTENT_PROMPT)"
      ]
    },
    {
      "cell_type": "code",
      "execution_count": null,
      "metadata": {
        "cellView": "form",
        "id": "sTNBJlPET_56"
      },
      "outputs": [],
      "source": [
        "response"
      ]
    },
    {
      "cell_type": "markdown",
      "metadata": {
        "id": "I1-joFPys-FS"
      },
      "source": [
        "## Using GenerateContent API with self-deployed Llama3 model endpoint\n",
        "\n",
        "When retrieval query similarity distance < vector_distance_threshold, generate content will cite the retrieved context (from RagStore).\n"
      ]
    },
    {
      "cell_type": "code",
      "execution_count": null,
      "metadata": {
        "cellView": "form",
        "id": "LvTPfijxtAQO"
      },
      "outputs": [],
      "source": [
        "rag_resource = rag.RagResource(\n",
        "    rag_corpus=rag_corpus.name,\n",
        ")\n",
        "\n",
        "rag_retrieval_tool = Tool.from_retrieval(\n",
        "    retrieval=rag.Retrieval(\n",
        "        source=rag.VertexRagStore(\n",
        "            rag_resources=[rag_resource],  # Currently only 1 corpus is allowed.\n",
        "            similarity_top_k=10,\n",
        "            vector_distance_threshold=0.4,\n",
        "        ),\n",
        "    )\n",
        ")"
      ]
    },
    {
      "cell_type": "code",
      "execution_count": null,
      "metadata": {
        "cellView": "form",
        "id": "T3IffRu42nRp"
      },
      "outputs": [],
      "source": [
        "ENDPOINT_ID = \"\"  # @param {type:\"string\", \"placeholder\": \"your-endpoint-id\"}\n",
        "ENDPOINT = f\"projects/{PROJECT_ID}/locations/us-central1/endpoints/{ENDPOINT_ID}\"\n",
        "\n",
        "rag_model = GenerativeModel(ENDPOINT, tools=[rag_retrieval_tool])"
      ]
    },
    {
      "cell_type": "code",
      "execution_count": null,
      "metadata": {
        "cellView": "form",
        "id": "SFEEv2u0tVNz"
      },
      "outputs": [],
      "source": [
        "GENERATE_CONTENT_PROMPT = \"What is RAG and why it is helpful?\"  # @param {type:\"string\"}\n",
        "\n",
        "response = rag_model.generate_content(GENERATE_CONTENT_PROMPT)"
      ]
    },
    {
      "cell_type": "code",
      "execution_count": null,
      "metadata": {
        "cellView": "form",
        "id": "0I2EniAZtiUt"
      },
      "outputs": [],
      "source": [
        "response"
      ]
    },
    {
      "cell_type": "markdown",
      "metadata": {
        "id": "2dmb7XHET_56"
      },
      "source": [
        "## Using ChatCompletions API with Google-operated Llama3 model endpoint\n",
        "\n",
        "Use OpenAI compatible ChatCompletions API and set Rag Retrieval Tool in the extra_body."
      ]
    },
    {
      "cell_type": "code",
      "execution_count": null,
      "metadata": {
        "cellView": "form",
        "id": "3xSVLXL3T_56"
      },
      "outputs": [],
      "source": [
        "import openai\n",
        "from google.auth import default, transport\n",
        "\n",
        "credentials, _ = default()\n",
        "auth_request = transport.requests.Request()\n",
        "credentials.refresh(auth_request)\n",
        "\n",
        "client = openai.OpenAI(\n",
        "    base_url=f\"https://us-central1-aiplatform.googleapis.com/v1/projects/{PROJECT_ID}/locations/us-central1/endpoints/openapi/chat/completions?\",\n",
        "    api_key=credentials.token,\n",
        ")"
      ]
    },
    {
      "cell_type": "code",
      "execution_count": null,
      "metadata": {
        "cellView": "form",
        "id": "7VfgTTF7T_56"
      },
      "outputs": [],
      "source": [
        "CHAT_COMPLETIONS_PROMPT = \"What is RAG and why it is helpful?\"  # @param {type:\"string\"}\n",
        "\n",
        "response = client.chat.completions.create(\n",
        "    model=\"meta/llama-3.1-405b-instruct-maas\",\n",
        "    messages=[{\"role\": \"user\", \"content\": CHAT_COMPLETIONS_PROMPT}],\n",
        "    extra_body={\n",
        "        \"extra_body\": {\n",
        "            \"google\": {\n",
        "                \"vertex_rag_store\": {\n",
        "                    \"rag_resources\": {\"rag_corpus\": rag_corpus.name},\n",
        "                    \"similarity_top_k\": 10,\n",
        "                }\n",
        "            }\n",
        "        }\n",
        "    },\n",
        ")"
      ]
    },
    {
      "cell_type": "code",
      "execution_count": null,
      "metadata": {
        "cellView": "form",
        "id": "76TW5K5kT_56"
      },
      "outputs": [],
      "source": [
        "response"
      ]
    },
    {
      "cell_type": "markdown",
      "metadata": {
        "id": "cje1WHtOtt2q"
      },
      "source": [
        "## Using other generation API with Llama3 model endpoint\n",
        "\n",
        "The retrieved contexts can be passed to any SDK or model generation API to generate final results.\n"
      ]
    },
    {
      "cell_type": "code",
      "execution_count": null,
      "metadata": {
        "cellView": "form",
        "id": "dK7YmoIGtyki"
      },
      "outputs": [],
      "source": [
        "RETRIEVAL_QUERY = \"What is RAG and why it is helpful?\"  # @param {type:\"string\"}\n",
        "\n",
        "rag_resource = rag.RagResource(\n",
        "    rag_corpus=rag_corpus.name,\n",
        ")\n",
        "\n",
        "response = rag.retrieval_query(\n",
        "    rag_resources=[rag_resource],  # Currently only 1 corpus is allowed.\n",
        "    text=RETRIEVAL_QUERY,\n",
        "    similarity_top_k=10,\n",
        "    vector_distance_threshold=0.4,\n",
        ")\n",
        "\n",
        "# The retrieved context can be passed to any SDK or model generation API to generate final results.\n",
        "retrieved_context = \" \".join(\n",
        "    [context.text for context in response.contexts.contexts]\n",
        ").replace(\"\\n\", \"\")"
      ]
    },
    {
      "cell_type": "code",
      "execution_count": null,
      "metadata": {
        "cellView": "form",
        "id": "--GwKlAO29bZ"
      },
      "outputs": [],
      "source": [
        "retrieved_context"
      ]
    },
    {
      "cell_type": "markdown",
      "metadata": {
        "id": "q9yIfvPBgtu9"
      },
      "source": [
        "## Cleaning up\n",
        "\n",
        "Clean up resources created in this notebook."
      ]
    },
    {
      "cell_type": "code",
      "execution_count": null,
      "metadata": {
        "cellView": "form",
        "id": "tGtR_G2Rg1HC"
      },
      "outputs": [],
      "source": [
        "delete_rag_corpus = False  # @param {type:\"boolean\"}\n",
        "delete_bucket = False  # @param {type:\"boolean\"}\n",
        "\n",
        "if delete_rag_corpus:\n",
        "    rag_corpus_list = rag.list_corpora()\n",
        "    for rag_corpus in rag_corpus_list:\n",
        "        rag.delete_corpus(name=rag_corpus.name)\n",
        "\n",
        "if delete_bucket:\n",
        "    ! gsutil -m rm -r $GS_BUCKET"
      ]
    },
    {
      "cell_type": "markdown",
      "metadata": {
        "id": "kTHflSAhupiN"
      },
      "source": [
        "## API reference\n",
        "\n",
        "For more details on RAG corpus/file management and detailed support, visit https://cloud.google.com/vertex-ai/generative-ai/docs/model-reference/rag-api\n"
      ]
    }
  ],
  "metadata": {
    "colab": {
      "name": "model_garden_rag.ipynb",
      "toc_visible": true
    },
    "kernelspec": {
      "display_name": "Python 3",
      "name": "python3"
    }
  },
  "nbformat": 4,
  "nbformat_minor": 0
}
