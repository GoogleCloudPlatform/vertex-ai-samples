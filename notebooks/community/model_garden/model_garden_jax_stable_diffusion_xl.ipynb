{
  "cells": [
    {
      "cell_type": "code",
      "execution_count": null,
      "metadata": {
        "cellView": "form",
        "id": "7d9bbf86da5e"
      },
      "outputs": [],
      "source": [
        "# Copyright 2025 Google LLC\n",
        "#\n",
        "# Licensed under the Apache License, Version 2.0 (the \"License\");\n",
        "# you may not use this file except in compliance with the License.\n",
        "# You may obtain a copy of the License at\n",
        "#\n",
        "#     https://www.apache.org/licenses/LICENSE-2.0\n",
        "#\n",
        "# Unless required by applicable law or agreed to in writing, software\n",
        "# distributed under the License is distributed on an \"AS IS\" BASIS,\n",
        "# WITHOUT WARRANTIES OR CONDITIONS OF ANY KIND, either express or implied.\n",
        "# See the License for the specific language governing permissions and\n",
        "# limitations under the License."
      ]
    },
    {
      "cell_type": "markdown",
      "metadata": {
        "id": "99c1c3fc2ca5"
      },
      "source": [
        "# Vertex AI Model Garden - Stable Diffusion XL 1.0 - TPU v5e\n",
        "\n",
        "<table><tbody><tr>\n",
        "  <td style=\"text-align: center\">\n",
        "    <a href=\"https://console.cloud.google.com/vertex-ai/notebooks/deploy-notebook?download_url=https://raw.githubusercontent.com/GoogleCloudPlatform/vertex-ai-samples/main/notebooks/community/model_garden/model_garden_jax_stable_diffusion_xl.ipynb\">\n",
        "      <img alt=\"Workbench logo\" src=\"https://lh3.googleusercontent.com/UiNooY4LUgW_oTvpsNhPpQzsstV5W8F7rYgxgGBD85cWJoLmrOzhVs_ksK_vgx40SHs7jCqkTkCk=e14-rj-sc0xffffff-h130-w32\" width=\"32px\"><br> Run in Workbench\n",
        "    </a>\n",
        "  </td>\n",
        "  <td style=\"text-align: center\">\n",
        "    <a href=\"https://console.cloud.google.com/vertex-ai/colab/import/https:%2F%2Fraw.githubusercontent.com%2FGoogleCloudPlatform%2Fvertex-ai-samples%2Fmain%2Fnotebooks%2Fcommunity%2Fmodel_garden%2Fmodel_garden_jax_stable_diffusion_xl.ipynb\">\n",
        "      <img alt=\"Google Cloud Colab Enterprise logo\" src=\"https://lh3.googleusercontent.com/JmcxdQi-qOpctIvWKgPtrzZdJJK-J3sWE1RsfjZNwshCFgE_9fULcNpuXYTilIR2hjwN\" width=\"32px\"><br> Run in Colab Enterprise\n",
        "    </a>\n",
        "  </td>\n",
        "  <td style=\"text-align: center\">\n",
        "    <a href=\"https://github.com/GoogleCloudPlatform/vertex-ai-samples/blob/main/notebooks/community/model_garden/model_garden_jax_stable_diffusion_xl.ipynb\">\n",
        "      <img alt=\"GitHub logo\" src=\"https://github.githubassets.com/assets/GitHub-Mark-ea2971cee799.png\" width=\"32px\"><br> View on GitHub\n",
        "    </a>\n",
        "  </td>\n",
        "</tr></tbody></table>"
      ]
    },
    {
      "cell_type": "markdown",
      "metadata": {
        "id": "3de7470326a2"
      },
      "source": [
        "## Overview\n",
        "\n",
        "This notebook demonstrates how to deploy a **Stable-Diffusion-Xl-Base** open model on Google Cloud Vertex AI.\n",
        "\n",
        "### Objectives\n",
        "\n",
        "- Deploy Stable-Diffusion-Xl-Base using containerized backends like [vLLM](https://github.com/vllm-project/vllm) on GPU.\n",
        "- Use the deployed model to serve chat completion requests for both text and multimodal inputs.\n",
        "\n",
        "### File a Bug\n",
        "\n",
        "If you encounter issues with this notebook, report them on [GitHub](https://github.com/GoogleCloudPlatform/vertex-ai-samples/issues/new).\n",
        "\n",
        "### Costs\n",
        "\n",
        "This tutorial uses billable components of Google Cloud:\n",
        "\n",
        "- Vertex AI\n",
        "- Cloud Storage\n",
        "\n",
        "Refer to the [Vertex AI pricing](https://cloud.google.com/vertex-ai/pricing) and [Cloud Storage pricing](https://cloud.google.com/storage/pricing) pages for more information. Use the [Pricing Calculator](https://cloud.google.com/products/calculator/) to estimate your projected costs."
      ]
    },
    {
      "cell_type": "markdown",
      "metadata": {
        "id": "jeYw-Czg-DFy"
      },
      "source": [
        "## Get Started"
      ]
    },
    {
      "cell_type": "markdown",
      "metadata": {
        "id": "KgyhGvEzBDkj"
      },
      "source": [
        "### Install Vertex AI SDK and other required packages"
      ]
    },
    {
      "cell_type": "code",
      "execution_count": null,
      "metadata": {
        "cellView": "form",
        "id": "iCacdLqG-IsH"
      },
      "outputs": [],
      "source": [
        "%pip install --upgrade --force-reinstall --quiet 'google-cloud-aiplatform>=1.106.0' 'openai' 'google-auth==2.27.0' 'requests==2.32.3'"
      ]
    },
    {
      "cell_type": "markdown",
      "metadata": {
        "id": "HUKCrpBy-3yf"
      },
      "source": [
        "### Authenticate the Notebook Environment (Colab only)\n",
        "\n",
        "If you're running this notebook in Google Colab, run the following cell to authenticate."
      ]
    },
    {
      "cell_type": "code",
      "execution_count": null,
      "metadata": {
        "cellView": "form",
        "id": "JXwCT1kn-3Gu"
      },
      "outputs": [],
      "source": [
        "import sys\n",
        "\n",
        "if \"google.colab\" in sys.modules:\n",
        "    from google.colab import auth\n",
        "\n",
        "    auth.authenticate_user()"
      ]
    },
    {
      "cell_type": "markdown",
      "metadata": {
        "id": "AcW2nwB8-7yC"
      },
      "source": [
        "### Set Google Cloud Project Information\n",
        "\n",
        "To get started with Vertex AI, ensure you have an existing Google Cloud project and that the [Vertex AI API is enabled](https://console.cloud.google.com/flows/enableapi?apiid=aiplatform.googleapis.com).\n",
        "\n",
        "See the guide on [setting up your project and development environment](https://cloud.google.com/vertex-ai/docs/start/cloud-environment). Also confirm that [billing is enabled](https://cloud.google.com/billing/docs/how-to/modify-project).\n"
      ]
    },
    {
      "cell_type": "code",
      "execution_count": null,
      "metadata": {
        "cellView": "form",
        "id": "eIVLp0oE--k-"
      },
      "outputs": [],
      "source": [
        "# Use the environment variable if the user doesn't provide Project ID.\n",
        "import os\n",
        "\n",
        "import vertexai\n",
        "\n",
        "PROJECT_ID = \"\"  # @param {type: \"string\", placeholder: \"[your-project-id]\", isTemplate: true}\n",
        "\n",
        "if not PROJECT_ID:\n",
        "    PROJECT_ID = os.environ.get(\"GOOGLE_CLOUD_PROJECT\")\n",
        "\n",
        "REGION = \"\"  # @param {type: \"string\", placeholder: \"[your-region]\", isTemplate: true}\n",
        "\n",
        "if not REGION:\n",
        "    REGION = os.environ.get(\"GOOGLE_CLOUD_REGION\", \"us-central1\")\n",
        "\n",
        "vertexai.init(project=PROJECT_ID, location=REGION)"
      ]
    },
    {
      "cell_type": "markdown",
      "metadata": {
        "id": "Q0CXrvcZH_aw"
      },
      "source": [
        "### Import libraries"
      ]
    },
    {
      "cell_type": "code",
      "execution_count": null,
      "metadata": {
        "cellView": "form",
        "id": "3G2UXB82ICs6"
      },
      "outputs": [],
      "source": [
        "from vertexai import model_garden"
      ]
    },
    {
      "cell_type": "markdown",
      "metadata": {
        "id": "upYRiGtP_-iN"
      },
      "source": [
        "## Deploy model"
      ]
    },
    {
      "cell_type": "markdown",
      "metadata": {
        "id": "H2WC_0hXDVXc"
      },
      "source": [
        "### Choose model variant"
      ]
    },
    {
      "cell_type": "markdown",
      "metadata": {
        "id": "u41zbNa2EoFq"
      },
      "source": [
        "You can proceed with the default model variant or select a different one."
      ]
    },
    {
      "cell_type": "code",
      "execution_count": null,
      "metadata": {
        "cellView": "form",
        "id": "-fgC4NLSDkF7"
      },
      "outputs": [],
      "source": [
        "model_version = \"stable-diffusion-xl-base-1.0\"  # @param [\"stable-diffusion-xl-base-1.0\"] {isTemplate:true}\n",
        "MODEL_NAME = f\"stability-ai/stable-diffusion-xl-base@{model_version}\""
      ]
    },
    {
      "cell_type": "markdown",
      "metadata": {
        "id": "VRnUgU8LF3_i"
      },
      "source": [
        "To see all deployable model variants available in Model Garden, use:"
      ]
    },
    {
      "cell_type": "code",
      "execution_count": null,
      "metadata": {
        "cellView": "form",
        "id": "-QLd-wshF6sB"
      },
      "outputs": [],
      "source": [
        "all_model_versions = model_garden.list_deployable_models(\n",
        "    model_filter=\"stable-diffusion-xl-base\", list_hf_models=False\n",
        ")"
      ]
    },
    {
      "cell_type": "markdown",
      "metadata": {
        "id": "N0UeFHa2GO63"
      },
      "source": [
        "Once you've selected a model variant, initialize it:"
      ]
    },
    {
      "cell_type": "code",
      "execution_count": null,
      "metadata": {
        "cellView": "form",
        "id": "GZiV3trBBcA3"
      },
      "outputs": [],
      "source": [
        "model = model_garden.OpenModel(MODEL_NAME)"
      ]
    },
    {
      "cell_type": "markdown",
      "metadata": {
        "id": "-0cL378wFlvf"
      },
      "source": [
        "### Check the Deployment Configuration\n",
        "\n",
        "Use the `list_deploy_options()` method to view the verified deployment configurations for your selected model. This helps ensure you have sufficient resources (e.g., GPU quota) available to deploy it."
      ]
    },
    {
      "cell_type": "code",
      "execution_count": null,
      "metadata": {
        "cellView": "form",
        "id": "zm73g7vFFm9N"
      },
      "outputs": [],
      "source": [
        "deploy_options = model.list_deploy_options(concise=True)\n",
        "print(deploy_options)"
      ]
    },
    {
      "cell_type": "markdown",
      "metadata": {
        "id": "WjV499VsGwrD"
      },
      "source": [
        "### Deploy the Model\n",
        "\n",
        "Now that you’ve reviewed the deployment options, use the `deploy()` method to serve the selected open model to a Vertex AI endpoint. Deployment time may vary depending on the model size and infrastructure requirements.\n",
        "\n",
        "> **Note**: If the model requires accepting a license agreement (EULA), set the `accept_eula=True` flag in the deploy call. Set `use_dedicated_endpoint` to False if you don't want to use [dedicated endpoint](https://cloud.google.com/vertex-ai/docs/general/deployment#create-dedicated-endpoint)."
      ]
    },
    {
      "cell_type": "code",
      "execution_count": null,
      "metadata": {
        "cellView": "form",
        "id": "wX1itVTvXdEP"
      },
      "outputs": [],
      "source": [
        "use_dedicated_endpoint = True"
      ]
    },
    {
      "cell_type": "code",
      "execution_count": null,
      "metadata": {
        "cellView": "form",
        "id": "S0q5fdbietBH"
      },
      "outputs": [],
      "source": [
        "endpoints = {}"
      ]
    },
    {
      "cell_type": "code",
      "execution_count": null,
      "metadata": {
        "cellView": "form",
        "id": "MRmPFEPoGzsB"
      },
      "outputs": [],
      "source": [
        "endpoints[\"sdk_default\"] = model.deploy(\n",
        "    accept_eula=True,\n",
        "    use_dedicated_endpoint=use_dedicated_endpoint,\n",
        ")"
      ]
    },
    {
      "cell_type": "markdown",
      "metadata": {
        "id": "PHBtn8DQp-ID"
      },
      "source": [
        "Alternatively, you can select one of the verified deployment configurations listed above."
      ]
    },
    {
      "cell_type": "code",
      "execution_count": null,
      "metadata": {
        "cellView": "form",
        "id": "ADsJG8JYqI6c"
      },
      "outputs": [],
      "source": [
        "endpoints[\"sdk_custom\"] = model.deploy(\n",
        "    accept_eula=True,\n",
        "    use_dedicated_endpoint=use_dedicated_endpoint,\n",
        "    serving_container_image_uri=\"us-docker.pkg.dev/deeplearning-platform-release/vertex-model-garden/pytorch-inference.cu125.0-4.ubuntu2204.py310\",\n",
        "    machine_type=\"a2-ultragpu-1g\",\n",
        "    accelerator_type=\"NVIDIA_A100_80GB\",\n",
        "    accelerator_count=1,\n",
        ")"
      ]
    },
    {
      "cell_type": "code",
      "execution_count": null,
      "metadata": {
        "cellView": "form",
        "id": "OCOHt9ivCdgA"
      },
      "outputs": [],
      "source": [
        "if \"sdk_default\" in endpoints:\n",
        "    endpoint = endpoints[\"sdk_default\"]\n",
        "elif \"sdk_custom\" in endpoints:\n",
        "    endpoint = endpoints[\"sdk_custom\"]\n",
        "else:\n",
        "    raise ValueError(\"No endpoint found. Create an endpoint.\")"
      ]
    },
    {
      "cell_type": "markdown",
      "metadata": {
        "id": "kqSUK2CwsImi"
      },
      "source": [
        "To further customize your deployment, you can configure:\n",
        "\n",
        "- **Compute Resources**: Machine type, replica count (min/max), accelerator type and quantity.\n",
        "- **Infrastructure**: Use Spot VMs, reservation affinity, or dedicated endpoints.\n",
        "- **Serving Container**: Customize container image, ports, health checks, and environment variables.\n",
        "\n",
        "See the [Model Garden SDK README](https://github.com/googleapis/python-aiplatform/blob/main/vertexai/model_garden/README.md) for advanced configuration options."
      ]
    },
    {
      "cell_type": "code",
      "execution_count": null,
      "metadata": {
        "cellView": "form",
        "id": "4ab04da3ec9a"
      },
      "outputs": [],
      "source": [
        "# @title Predict\n",
        "\n",
        "# @markdown Once deployed, you can send a batch of text prompts to the endpoint to generated images.\n",
        "\n",
        "# @markdown When deployed on one TPU V5e instance, the averaged inference time of one image is ~3 seconds.\n",
        "\n",
        "\n",
        "import base64\n",
        "from io import BytesIO\n",
        "\n",
        "from PIL import Image\n",
        "\n",
        "\n",
        "def base64_to_image(image_str):\n",
        "    \"\"\"Convert base64 encoded string to an image.\"\"\"\n",
        "    image = Image.open(BytesIO(base64.b64decode(image_str)))\n",
        "    return image\n",
        "\n",
        "\n",
        "def image_grid(imgs, rows=2, cols=2):\n",
        "    w, h = imgs[0].size\n",
        "    grid = Image.new(\n",
        "        mode=\"RGB\", size=(cols * w + 10 * cols, rows * h), color=(255, 255, 255)\n",
        "    )\n",
        "    for i, img in enumerate(imgs):\n",
        "        grid.paste(img, box=(i % cols * w + 10 * i, i // cols * h))\n",
        "    return grid\n",
        "\n",
        "\n",
        "instances = [\n",
        "    {\n",
        "        \"prompt\": \"Photorealistic whale swimming in abyss\",\n",
        "        \"height\": 1024,\n",
        "        \"width\": 1024,\n",
        "    },\n",
        "]\n",
        "response = endpoint.predict(instances=instances)\n",
        "\n",
        "images = [\n",
        "    base64_to_image(response.predictions[0]) for prediction in response.predictions\n",
        "]\n",
        "\n",
        "image_grid(images, rows=1)"
      ]
    },
    {
      "cell_type": "markdown",
      "metadata": {
        "id": "af21a3cff1e0"
      },
      "source": [
        "### Clean up resources"
      ]
    },
    {
      "cell_type": "code",
      "execution_count": null,
      "metadata": {
        "cellView": "form",
        "id": "911406c1561e"
      },
      "outputs": [],
      "source": [
        "# @markdown Delete the endpoint.\n",
        "\n",
        "for endpoint in endpoints.values():\n",
        "    endpoint.delete(force=True)"
      ]
    }
  ],
  "metadata": {
    "accelerator": "GPU",
    "colab": {
      "name": "model_garden_jax_stable_diffusion_xl.ipynb",
      "toc_visible": true
    },
    "kernelspec": {
      "display_name": "Python 3",
      "name": "python3"
    }
  },
  "nbformat": 4,
  "nbformat_minor": 0
}
