{
  "cells": [
    {
      "cell_type": "markdown",
      "metadata": {
        "id": "c4b363e1330b"
      },
      "source": [
        "# Build a fraud detection model on Vertex AI"
      ]
    },
    {
      "cell_type": "markdown",
      "metadata": {
        "id": "4c5fb7f2090f"
      },
      "source": [
        "## Table of contents\n",
        "\n",
        "* [Overview](#section-1)\n",
        "* [Dataset](#section-2)\n",
        "* [Objective](#section-3)\n",
        "* [Costs](#section-4)\n",
        "* [Analyze the dataset](#section-5)\n",
        "* [Fit a random forest model](#section-6)\n",
        "* [Analyzing results](#section-7)\n",
        "* [Save the model to a Cloud Storagae path](#section-8)\n",
        "* [Create a model in Vertex AI](#section-9)\n",
        "* [Create an Endpoint](#section-10)  \n",
        "* [What-If Tool ](#section-11)\n",
        "* [Clean up](#section-12)"
      ]
    },
    {
      "cell_type": "markdown",
      "metadata": {
        "id": "b7fdf2b19b83"
      },
      "source": [
        "## Overview\n",
        "<a name=\"section-1\"></a>\n",
        "\n",
        "This tutorial shows you how to build, deploy, and analyze predictions from a simple [random forest](https://en.wikipedia.org/wiki/Random_forest) model using tools like scikit-learn, Vertex AI, and the [What-IF Tool (WIT)](https://cloud.google.com/ai-platform/prediction/docs/using-what-if-tool) on a synthetic fraud transaction dataset to solve a financial fraud detection problem.\n",
        "\n",
        "*Note: This notebook file was designed to run in a [Vertex AI Workbench managed notebooks](https://cloud.google.com/vertex-ai/docs/workbench/managed/create-instance) instance using the `TensorFlow 2 (Local)` kernel. Some components of this notebook may not work in other notebook environments.*"
      ]
    },
    {
      "cell_type": "markdown",
      "metadata": {
        "id": "9625185ccee9"
      },
      "source": [
        "## Dataset\n",
        "<a name=\"section-2\"></a>\n",
        "\n",
        "\n",
        "The dataset used in this tutorial is publicly available at Kaggle. See [Synthetic Financial Datasets For Fraud Detection](https://www.kaggle.com/ealaxi/paysim1)."
      ]
    },
    {
      "cell_type": "markdown",
      "metadata": {
        "id": "411d886b6144"
      },
      "source": [
        "## Objective\n",
        "<a name=\"section-3\"></a>\n",
        "\n",
        "This tutorial demonstrates data analysis and model-building using a synthetic financial dataset. The model is trained on identifying fraudulent cases among the transactions. Then, the trained model is deployed on a Vertex AI Endpoint and analyzed using the What-If Tool. The steps taken in this tutorial are as follows: \n",
        "\n",
        "- Installation of required libraries\n",
        "- Reading the dataset from a Cloud Storage bucket\n",
        "- Performing exploratory analysis on the dataset\n",
        "- Preprocessing the dataset\n",
        "- Training a random forest model using scikit-learn\n",
        "- Saving the model to a Cloud Storage bucket\n",
        "- Creating a Vertex AI model resource and deploying to an endpoint\n",
        "- Running the What-If Tool on test data\n",
        "- Un-deploying the model and cleaning up the model resources"
      ]
    },
    {
      "cell_type": "markdown",
      "metadata": {
        "id": "65f7cca50e5c"
      },
      "source": [
        "## Costs\n",
        "<a name=\"section-4\"></a>\n",
        "\n",
        "\n",
        "This tutorial uses billable components of Google Cloud:\n",
        "\n",
        "* Vertex AI\n",
        "* Cloud Storage\n",
        "\n",
        "Learn about [Vertex AI\n",
        "pricing](https://cloud.google.com/vertex-ai/pricing) and [Cloud Storage\n",
        "pricing](https://cloud.google.com/storage/pricing), and use the [Pricing\n",
        "Calculator](https://cloud.google.com/products/calculator/)\n",
        "to generate a cost estimate based on your projected usage. "
      ]
    },
    {
      "cell_type": "markdown",
      "metadata": {
        "id": "611991f03b38"
      },
      "source": [
        "## Installation"
      ]
    },
    {
      "cell_type": "code",
      "execution_count": null,
      "metadata": {
        "id": "172533a994ad"
      },
      "outputs": [],
      "source": [
        "import os\n",
        "\n",
        "import google.auth\n",
        "\n",
        "USER_FLAG = \"\"\n",
        "# Google Cloud Notebook requires dependencies to be installed with '--user'\n",
        "if \"default\" in dir(google.auth):\n",
        "    USER_FLAG = \"--user\""
      ]
    },
    {
      "cell_type": "markdown",
      "metadata": {
        "id": "a465cf9367de"
      },
      "source": [
        "Install the latest version of the Vertex AI client library.\n",
        "\n",
        "Run the following command in your virtual environment to install the Vertex SDK for Python:"
      ]
    },
    {
      "cell_type": "code",
      "execution_count": null,
      "metadata": {
        "id": "6380f7ee5f54"
      },
      "outputs": [],
      "source": [
        "! pip install {USER_FLAG} --upgrade google-cloud-aiplatform"
      ]
    },
    {
      "cell_type": "markdown",
      "metadata": {
        "id": "5aee4379e8e5"
      },
      "source": [
        "#### Set your project ID\n",
        "\n",
        "**If you don't know your project ID**, you may be able to get your project ID using `gcloud`."
      ]
    },
    {
      "cell_type": "code",
      "execution_count": null,
      "metadata": {
        "id": "b27f37ed1ccf"
      },
      "outputs": [],
      "source": [
        "PROJECT_ID = \"\"\n",
        "\n",
        "# Get your Google Cloud project ID from gcloud\n",
        "if not os.getenv(\"IS_TESTING\"):\n",
        "    shell_output = !gcloud config list --format 'value(core.project)' 2>/dev/null\n",
        "    PROJECT_ID = shell_output[0]\n",
        "    print(\"Project ID: \", PROJECT_ID)"
      ]
    },
    {
      "cell_type": "markdown",
      "metadata": {
        "id": "8827f32850b2"
      },
      "source": [
        "Otherwise, set your project ID here."
      ]
    },
    {
      "cell_type": "code",
      "execution_count": null,
      "metadata": {
        "id": "3dbdf6a5c539"
      },
      "outputs": [],
      "source": [
        "if PROJECT_ID == \"\" or PROJECT_ID is None:\n",
        "    PROJECT_ID = \"[your-project-id]\"  # @param {type:\"string\"}"
      ]
    },
    {
      "cell_type": "markdown",
      "metadata": {
        "id": "e663bd062c6f"
      },
      "source": [
        "#### Timestamp\n",
        "\n",
        "If you are in a live tutorial session, you might be using a shared test account or project. To avoid name collisions between users on resources created, you create a timestamp for each instance session, and append it onto the name of resources you create in this tutorial."
      ]
    },
    {
      "cell_type": "code",
      "execution_count": null,
      "metadata": {
        "id": "953fa6e5ddda"
      },
      "outputs": [],
      "source": [
        "from datetime import datetime\n",
        "\n",
        "TIMESTAMP = datetime.now().strftime(\"%Y%m%d%H%M%S\")"
      ]
    },
    {
      "cell_type": "markdown",
      "metadata": {
        "id": "bc115c8dca3e"
      },
      "source": [
        "### Create a Cloud Storage bucket\n",
        "\n",
        "**The following steps are required, regardless of your notebook environment.**\n",
        "\n",
        "\n",
        "When you create a model in Vertex AI using the Cloud SDK, you give a Cloud Storage path where the trained model is saved. \n",
        "In this tutorial, Vertex AI saves the trained model to a Cloud Storage bucket. Using this model artifact, you can then\n",
        "create Vertex AI model and endpoint resources in order to serve\n",
        "online predictions.\n",
        "\n",
        "Set the name of your Cloud Storage bucket below. It must be unique across all\n",
        "Cloud Storage buckets.\n",
        "\n",
        "You may also change the `REGION` variable, which is used for operations\n",
        "throughout the rest of this notebook. Make sure to [choose a region where Vertex AI services are\n",
        "available](https://cloud.google.com/vertex-ai/docs/general/locations#available_regions). You may\n",
        "not use a Multi-Regional Storage bucket for training with Vertex AI."
      ]
    },
    {
      "cell_type": "code",
      "execution_count": null,
      "metadata": {
        "id": "f56c52ba662c"
      },
      "outputs": [],
      "source": [
        "BUCKET_NAME = \"[your-bucket-name]\"  # @param {type:\"string\"}\n",
        "REGION = \"us-central1\"  # @param {type:\"string\"}"
      ]
    },
    {
      "cell_type": "code",
      "execution_count": null,
      "metadata": {
        "id": "68d1f4908641"
      },
      "outputs": [],
      "source": [
        "if BUCKET_NAME == \"\" or BUCKET_NAME is None or BUCKET_NAME == \"[your-bucket-name]\":\n",
        "    BUCKET_NAME = PROJECT_ID + \"-vertex-ai-\" + TIMESTAMP\n",
        "BUCKET_URI = f\"gs://{BUCKET_NAME}\""
      ]
    },
    {
      "cell_type": "markdown",
      "metadata": {
        "id": "26fd8d22e96f"
      },
      "source": [
        "**Only if your bucket doesn't already exist**: Run the following cell to create your Cloud Storage bucket."
      ]
    },
    {
      "cell_type": "code",
      "execution_count": null,
      "metadata": {
        "id": "d201bf34f895"
      },
      "outputs": [],
      "source": [
        "! gsutil mb -l $REGION $BUCKET_URI"
      ]
    },
    {
      "cell_type": "markdown",
      "metadata": {
        "id": "efc7b5613847"
      },
      "source": [
        "Finally, validate access to your Cloud Storage bucket by examining its contents:"
      ]
    },
    {
      "cell_type": "code",
      "execution_count": null,
      "metadata": {
        "id": "73f53d17ae47"
      },
      "outputs": [],
      "source": [
        "! gsutil ls -al $BUCKET_URI"
      ]
    },
    {
      "cell_type": "markdown",
      "metadata": {
        "id": "6cd10bb43f7e"
      },
      "source": [
        "## Tutorial"
      ]
    },
    {
      "cell_type": "markdown",
      "metadata": {
        "id": "4bf0287233a6"
      },
      "source": [
        "### Import required libraries"
      ]
    },
    {
      "cell_type": "code",
      "execution_count": null,
      "metadata": {
        "id": "e4c19cf811b7"
      },
      "outputs": [],
      "source": [
        "import warnings\n",
        "\n",
        "import joblib\n",
        "import matplotlib.pyplot as plt\n",
        "import numpy as np\n",
        "import pandas as pd\n",
        "from google.cloud import storage\n",
        "from sklearn.ensemble import RandomForestClassifier\n",
        "from sklearn.metrics import (average_precision_score, classification_report,\n",
        "                             confusion_matrix, f1_score)\n",
        "from sklearn.model_selection import train_test_split\n",
        "from witwidget.notebook.visualization import WitConfigBuilder, WitWidget\n",
        "\n",
        "warnings.filterwarnings(\"ignore\")"
      ]
    },
    {
      "cell_type": "code",
      "execution_count": null,
      "metadata": {
        "id": "ef87c3afe3a3"
      },
      "outputs": [],
      "source": [
        "# Load dataset\n",
        "df = pd.read_csv(\n",
        "    \"gs://cloud-samples-data/vertex-ai/managed_notebooks/fraud_detection/fraud_detection_data.csv\"\n",
        ")"
      ]
    },
    {
      "cell_type": "markdown",
      "metadata": {
        "id": "5467471277e9"
      },
      "source": [
        "## Analyze the dataset\n",
        "<a name=\"section-5\"></a>\n"
      ]
    },
    {
      "cell_type": "markdown",
      "metadata": {
        "id": "b2faa1d38ce2"
      },
      "source": [
        "Take a quick look at the dataset and the number of rows."
      ]
    },
    {
      "cell_type": "code",
      "execution_count": null,
      "metadata": {
        "id": "2439f8994596"
      },
      "outputs": [],
      "source": [
        "print(\"shape : \", df.shape)\n",
        "df.head()"
      ]
    },
    {
      "cell_type": "markdown",
      "metadata": {
        "id": "677d10ff3a8f"
      },
      "source": [
        "Check for null values."
      ]
    },
    {
      "cell_type": "code",
      "execution_count": null,
      "metadata": {
        "id": "f1cf29145731"
      },
      "outputs": [],
      "source": [
        "df.isnull().sum()"
      ]
    },
    {
      "cell_type": "markdown",
      "metadata": {
        "id": "7841d9921c72"
      },
      "source": [
        "Check the type of transactions involved."
      ]
    },
    {
      "cell_type": "code",
      "execution_count": null,
      "metadata": {
        "id": "0af58be0e70d"
      },
      "outputs": [],
      "source": [
        "print(df.type.value_counts())\n",
        "var = df.groupby(\"type\").amount.sum()\n",
        "fig = plt.figure()\n",
        "ax1 = fig.add_subplot(1, 1, 1)\n",
        "var.plot(kind=\"bar\")\n",
        "ax1.set_title(\"Total amount per transaction type\")\n",
        "ax1.set_xlabel(\"Type of Transaction\")\n",
        "ax1.set_ylabel(\"Amount\")"
      ]
    },
    {
      "cell_type": "markdown",
      "metadata": {
        "id": "3ea666cc9ea7"
      },
      "source": [
        "## Working with imbalanced data\n",
        "\n",
        "Althuogh the outcome variable \"isFraud\" seems to be very imbalanced in the current dataset, a base model can be trained on it to check the quality of fraudulent transactions in the data and if needed, counter measures like undersampling of majority class or oversampling of the minority class can be considered."
      ]
    },
    {
      "cell_type": "code",
      "execution_count": null,
      "metadata": {
        "id": "62c36cf345a4"
      },
      "outputs": [],
      "source": [
        "# Count number of fraudulent/non-fraudulent transactions\n",
        "df.isFraud.value_counts()"
      ]
    },
    {
      "cell_type": "code",
      "execution_count": null,
      "metadata": {
        "id": "4792737cfe01"
      },
      "outputs": [],
      "source": [
        "piedata = df.groupby([\"isFlaggedFraud\"]).sum()\n",
        "f, axes = plt.subplots(1, 1, figsize=(6, 6))\n",
        "axes.set_title(\"% of fraud transaction detected\")\n",
        "piedata.plot(\n",
        "    kind=\"pie\", y=\"isFraud\", ax=axes, fontsize=14, shadow=False, autopct=\"%1.1f%%\"\n",
        ")\n",
        "axes.set_ylabel(\"\")\n",
        "plt.legend(loc=\"upper left\", labels=[\"Not Detected\", \"Detected\"])\n",
        "plt.show()"
      ]
    },
    {
      "cell_type": "markdown",
      "metadata": {
        "id": "6d2de35a680d"
      },
      "source": [
        "## Prepare data for modeling\n",
        "To prepare the dataset for training, a few columns need to be dropped that contain either unique data ('nameOrig','nameDest') or redundant fields ('isFlaggedFraud'). The categorical field \"type\" which describes the type of transaction and is important for fraud detection needs to be one-hot encoded.\n"
      ]
    },
    {
      "cell_type": "code",
      "execution_count": null,
      "metadata": {
        "id": "6f3ff2800803"
      },
      "outputs": [],
      "source": [
        "df.drop([\"nameOrig\", \"nameDest\", \"isFlaggedFraud\"], axis=1, inplace=True)"
      ]
    },
    {
      "cell_type": "code",
      "execution_count": null,
      "metadata": {
        "id": "d555f1c66b64"
      },
      "outputs": [],
      "source": [
        "X = pd.concat([df.drop(\"type\", axis=1), pd.get_dummies(df[\"type\"])], axis=1)\n",
        "X.head()"
      ]
    },
    {
      "cell_type": "markdown",
      "metadata": {
        "id": "32d8675912f6"
      },
      "source": [
        "Remove the outcome variable from the training data."
      ]
    },
    {
      "cell_type": "code",
      "execution_count": null,
      "metadata": {
        "id": "d28694b6532e"
      },
      "outputs": [],
      "source": [
        "y = X[[\"isFraud\"]]\n",
        "X = X.drop([\"isFraud\"], axis=1)"
      ]
    },
    {
      "cell_type": "markdown",
      "metadata": {
        "id": "a86d250f6e89"
      },
      "source": [
        "Split the data and assign 70% for training and 30% for testing."
      ]
    },
    {
      "cell_type": "code",
      "execution_count": null,
      "metadata": {
        "id": "9a1c56f01b4b"
      },
      "outputs": [],
      "source": [
        "X_train, X_test, y_train, y_test = train_test_split(\n",
        "    X, y, test_size=0.3, random_state=42, shuffle=False\n",
        ")\n",
        "print(X_train.shape, X_test.shape)"
      ]
    },
    {
      "cell_type": "markdown",
      "metadata": {
        "id": "c2755e0dcfa2"
      },
      "source": [
        "## Fit a random forest model\n",
        "<a name=\"section-6\"></a>\n",
        "\n",
        "Fit a simple random forest classifier on the preprocessed training dataset."
      ]
    },
    {
      "cell_type": "code",
      "execution_count": null,
      "metadata": {
        "id": "2e01c5fc5df7"
      },
      "outputs": [],
      "source": [
        "%%time\n",
        "forest = RandomForestClassifier()\n",
        "forest.fit(X_train, y_train)"
      ]
    },
    {
      "cell_type": "markdown",
      "metadata": {
        "id": "dcd6f1e38b31"
      },
      "source": [
        "## Analyzing Results\n",
        "<a name=\"section-7\"></a>\n",
        "\n",
        "The model returns good scores and the confusion matrix confirms that this model can indeed work with imbalanced data."
      ]
    },
    {
      "cell_type": "code",
      "execution_count": null,
      "metadata": {
        "id": "2cff9b77c9f7"
      },
      "outputs": [],
      "source": [
        "y_prob = forest.predict_proba(X_test)\n",
        "y_pred = forest.predict(X_test)\n",
        "\n",
        "print(\"AUPRC :\", (average_precision_score(y_test, y_prob[:, 1])))\n",
        "print(\"F1 - score :\", (f1_score(y_test, y_pred)))\n",
        "\n",
        "print(\"Confusion_matrix : \")\n",
        "print(confusion_matrix(y_test, y_pred))\n",
        "\n",
        "print(\"classification_report\")\n",
        "print(classification_report(y_test, y_pred))"
      ]
    },
    {
      "cell_type": "markdown",
      "metadata": {
        "id": "5f9309a5c6de"
      },
      "source": [
        "Use `RandomForestClassifier`'s `feature_importances_ function` to get a better understanding about which features were the most useful to the model."
      ]
    },
    {
      "cell_type": "code",
      "execution_count": null,
      "metadata": {
        "id": "e4e8d572079c"
      },
      "outputs": [],
      "source": [
        "importances = forest.feature_importances_\n",
        "std = np.std([tree.feature_importances_ for tree in forest.estimators_], axis=0)\n",
        "forest_importances = pd.Series(importances, index=list(X_train))\n",
        "fig, ax = plt.subplots()\n",
        "forest_importances.plot.bar(yerr=std, ax=ax)\n",
        "ax.set_title(\"Feature Importance for Fraud Transaction Detection Model\")\n",
        "ax.set_ylabel(\"Importance\")\n",
        "fig.tight_layout()"
      ]
    },
    {
      "cell_type": "markdown",
      "metadata": {
        "id": "f96d2120eaf7"
      },
      "source": [
        "## Save the model to a Cloud Storage path\n",
        "<a name=\"section-8\"></a>"
      ]
    },
    {
      "cell_type": "code",
      "execution_count": null,
      "metadata": {
        "id": "53b6d3053566"
      },
      "outputs": [],
      "source": [
        "# save the trained model to a local file \"model.joblib\"\n",
        "FILE_NAME = \"model.joblib\"\n",
        "joblib.dump(forest, FILE_NAME)\n",
        "\n",
        "# Upload the saved model file to Cloud Storage\n",
        "BLOB_PATH = \"[your-blob-path]\"\n",
        "BLOB_NAME = os.path.join(BLOB_PATH, FILE_NAME)\n",
        "\n",
        "bucket = storage.Client().bucket(BUCKET_NAME)\n",
        "blob = bucket.blob(BLOB_NAME)\n",
        "blob.upload_from_filename(FILE_NAME)"
      ]
    },
    {
      "cell_type": "markdown",
      "metadata": {
        "id": "624a66e36aef"
      },
      "source": [
        "## Create a model in Vertex AI\n",
        "<a name=\"section-9\"></a>"
      ]
    },
    {
      "cell_type": "code",
      "execution_count": null,
      "metadata": {
        "id": "5604b728b7bb"
      },
      "outputs": [],
      "source": [
        "MODEL_DISPLAY_NAME = \"[your-model-display-name]\"\n",
        "ARTIFACT_GCS_PATH = f\"{BUCKET_URI}/{BLOB_PATH}\""
      ]
    },
    {
      "cell_type": "code",
      "execution_count": null,
      "metadata": {
        "id": "a6629488879c"
      },
      "outputs": [],
      "source": [
        "# Create a Vertex AI model resource\n",
        "from google.cloud import aiplatform\n",
        "\n",
        "aiplatform.init(project=PROJECT_ID, location=REGION)\n",
        "\n",
        "model = aiplatform.Model.upload(\n",
        "    display_name=MODEL_DISPLAY_NAME,\n",
        "    artifact_uri=ARTIFACT_GCS_PATH,\n",
        "    serving_container_image_uri=\"us-docker.pkg.dev/vertex-ai/prediction/sklearn-cpu.0-24:latest\",\n",
        ")\n",
        "\n",
        "model.wait()\n",
        "\n",
        "print(model.display_name)\n",
        "print(model.resource_name)"
      ]
    },
    {
      "cell_type": "markdown",
      "metadata": {
        "id": "208e1e07c9f6"
      },
      "source": [
        "## Create an Endpoint\n",
        "<a name=\"section-10\"></a>"
      ]
    },
    {
      "cell_type": "code",
      "execution_count": null,
      "metadata": {
        "id": "967cc823d241"
      },
      "outputs": [],
      "source": [
        "ENDPOINT_DISPLAY_NAME = \"[your-endpoint-display-name]\""
      ]
    },
    {
      "cell_type": "code",
      "execution_count": null,
      "metadata": {
        "id": "224016f69665"
      },
      "outputs": [],
      "source": [
        "endpoint = aiplatform.Endpoint.create(display_name=ENDPOINT_DISPLAY_NAME)\n",
        "\n",
        "\n",
        "print(endpoint.display_name)\n",
        "print(endpoint.resource_name)"
      ]
    },
    {
      "cell_type": "markdown",
      "metadata": {
        "id": "fb18c0e6f2ce"
      },
      "source": [
        "### Deploy the model to the created Endpoint\n",
        "\n",
        "Configure the deployment name, machine type, and other parameters for the deployment."
      ]
    },
    {
      "cell_type": "code",
      "execution_count": null,
      "metadata": {
        "id": "7fcb85a9c097"
      },
      "outputs": [],
      "source": [
        "DEPLOYED_MODEL_NAME = \"[your-deployed-model-name]\"\n",
        "MACHINE_TYPE = \"n1-standard-2\""
      ]
    },
    {
      "cell_type": "code",
      "execution_count": null,
      "metadata": {
        "id": "32a896d705ef"
      },
      "outputs": [],
      "source": [
        "# Uncomment if starting over without model and endpoint references\n",
        "# model = aiplatform.Model('[your-model-resource-name]')\n",
        "# endpoint = aiplatform.Endpoint('[your-endpoint-resource-name]')\n",
        "\n",
        "# deploy the model to the endpoint\n",
        "model.deploy(\n",
        "    endpoint=endpoint,\n",
        "    deployed_model_display_name=DEPLOYED_MODEL_NAME,\n",
        "    machine_type=MACHINE_TYPE,\n",
        ")\n",
        "\n",
        "model.wait()\n",
        "\n",
        "print(model.display_name)\n",
        "print(model.resource_name)"
      ]
    },
    {
      "cell_type": "markdown",
      "metadata": {
        "id": "602a1a615bb0"
      },
      "source": [
        "Save the ID of the deployed model. The ID of the deployed model can also be checked by using the `endpoint.list_models()` method."
      ]
    },
    {
      "cell_type": "code",
      "execution_count": null,
      "metadata": {
        "id": "84a1da5b5e93"
      },
      "outputs": [],
      "source": [
        "DEPLOYED_MODEL_ID = \"[your-deployed-model-id]\""
      ]
    },
    {
      "cell_type": "markdown",
      "metadata": {
        "id": "c70d82a5f6d5"
      },
      "source": [
        "## What-If Tool \n",
        "<a name=\"section-11\"></a>\n",
        "\n",
        "The What-If Tool can be used to analyze the model predictions on a test data. See a [brief introduction to the What-If Tool](https://pair-code.github.io/what-if-tool/). In this tutorial, the What-If Tool will be configured and run on the model trained locally, and on the model deployed on Vertex AI Endpoints in the previous steps.\n",
        "\n",
        "[WitConfigBuilder](https://github.com/PAIR-code/what-if-tool/blob/master/witwidget/notebook/visualization.py#L30) provides the  `set_ai_platform_model()` method to configure the What-If Tool with a model deployed as a version on Ai Platform models. This feature currently supports Ai Platform only but not Vertex AI models. Fortunately, there is also an option to pass a custom function for generating predictions through the `set_custom_predict_fn()` method where either the locally trained model or a function that returns predictions from a Vertex AI model can be passed."
      ]
    },
    {
      "cell_type": "markdown",
      "metadata": {
        "id": "d0b3caf9b49e"
      },
      "source": [
        "### Prepare test samples\n",
        "\n",
        "Save some samples from the test data for both the available classes (Fraud/not-Fraud) to analyze the model using the What-If Tool."
      ]
    },
    {
      "cell_type": "code",
      "execution_count": null,
      "metadata": {
        "id": "c07ef36a521a"
      },
      "outputs": [],
      "source": [
        "# collect 50 samples for each class-label from the test data\n",
        "pos_samples = y_test[y_test[\"isFraud\"] == 1].sample(50).index\n",
        "neg_samples = y_test[y_test[\"isFraud\"] == 0].sample(50).index\n",
        "test_samples_y = pd.concat([y_test.loc[pos_samples], y_test.loc[neg_samples]])\n",
        "test_samples_X = X_test.loc[test_samples_y.index].copy()"
      ]
    },
    {
      "cell_type": "markdown",
      "metadata": {
        "id": "0691c01e8fee"
      },
      "source": [
        "### Running the What-If Tool on the local model"
      ]
    },
    {
      "cell_type": "code",
      "execution_count": null,
      "metadata": {
        "id": "9cccdcf14cea"
      },
      "outputs": [],
      "source": [
        "# define target and labels\n",
        "TARGET_FEATURE = \"isFraud\"\n",
        "LABEL_VOCAB = [\"not-fraud\", \"fraud\"]\n",
        "\n",
        "# define the function to adjust the predictions\n",
        "\n",
        "\n",
        "def adjust_prediction(pred):\n",
        "    return [1 - pred, pred]\n",
        "\n",
        "\n",
        "# Combine the features and labels into one array for the What-If Tool\n",
        "test_examples = np.hstack(\n",
        "    (test_samples_X.to_numpy(), test_samples_y.to_numpy().reshape(-1, 1))\n",
        ")\n",
        "\n",
        "# Configure the WIT to run on the locally trained model\n",
        "config_builder = (\n",
        "    WitConfigBuilder(\n",
        "        test_examples.tolist(), test_samples_X.columns.tolist() + [\"isFraud\"]\n",
        "    )\n",
        "    .set_custom_predict_fn(forest.predict_proba)\n",
        "    .set_target_feature(TARGET_FEATURE)\n",
        "    .set_label_vocab(LABEL_VOCAB)\n",
        ")\n",
        "\n",
        "# display the WIT widget\n",
        "WitWidget(config_builder, height=600)"
      ]
    },
    {
      "cell_type": "markdown",
      "metadata": {
        "id": "a97c4880ff33"
      },
      "source": [
        "### Running the What-If Tool on the deployed Vertex AI model"
      ]
    },
    {
      "cell_type": "code",
      "execution_count": null,
      "metadata": {
        "id": "362ef35a5475"
      },
      "outputs": [],
      "source": [
        "# configure the target and class-labels\n",
        "TARGET_FEATURE = \"isFraud\"\n",
        "LABEL_VOCAB = [\"not-fraud\", \"fraud\"]\n",
        "\n",
        "# function to return predictions from the deployed Model\n",
        "\n",
        "\n",
        "def endpoint_predict_sample(instances: list):\n",
        "    prediction = endpoint.predict(instances=instances)\n",
        "    preds = [[1 - i, i] for i in prediction.predictions]\n",
        "    return preds\n",
        "\n",
        "\n",
        "# Combine the features and labels into one array for the What-If Tool\n",
        "test_examples = np.hstack(\n",
        "    (test_samples_X.to_numpy(), test_samples_y.to_numpy().reshape(-1, 1))\n",
        ")\n",
        "\n",
        "# Configure the WIT with the prediction function\n",
        "config_builder = (\n",
        "    WitConfigBuilder(\n",
        "        test_examples.tolist(), test_samples_X.columns.tolist() + [\"isFraud\"]\n",
        "    )\n",
        "    .set_custom_predict_fn(endpoint_predict_sample)\n",
        "    .set_target_feature(TARGET_FEATURE)\n",
        "    .set_label_vocab(LABEL_VOCAB)\n",
        ")\n",
        "\n",
        "# run the WIT-widget\n",
        "WitWidget(config_builder, height=400)"
      ]
    },
    {
      "cell_type": "markdown",
      "metadata": {
        "id": "aea461dd4549"
      },
      "source": [
        "## Clean up\n",
        "<a name=\"section-12\"></a>\n",
        "\n",
        "\n",
        "To clean up all Google Cloud resources used in this project, you can [delete the Google Cloud\n",
        "project](https://cloud.google.com/resource-manager/docs/creating-managing-projects#shutting_down_projects) you used for the tutorial.\n",
        "\n",
        "Otherwise, you can delete the individual resources you created in this tutorial:"
      ]
    },
    {
      "cell_type": "code",
      "execution_count": null,
      "metadata": {
        "id": "46061cbb656d"
      },
      "outputs": [],
      "source": [
        "# undeploy the model\n",
        "endpoint.undeploy(deployed_model_id=DEPLOYED_MODEL_ID)"
      ]
    },
    {
      "cell_type": "code",
      "execution_count": null,
      "metadata": {
        "id": "f62e2c499f70"
      },
      "outputs": [],
      "source": [
        "# delete the endpoint\n",
        "endpoint.delete()"
      ]
    },
    {
      "cell_type": "code",
      "execution_count": null,
      "metadata": {
        "id": "f5d7143e9f5c"
      },
      "outputs": [],
      "source": [
        "# delete the model\n",
        "model.delete()"
      ]
    },
    {
      "cell_type": "code",
      "execution_count": null,
      "metadata": {
        "id": "ea8063b9606f"
      },
      "outputs": [],
      "source": [
        "# uncomment to remove the contents of the Cloud Storage bucket\n",
        "# ! gsutil -m rm -r $BUCKET_NAME"
      ]
    }
  ],
  "metadata": {
    "colab": {
      "name": "fraud-detection-model.ipynb",
      "toc_visible": true
    },
    "kernelspec": {
      "display_name": "Python 3",
      "name": "python3"
    }
  },
  "nbformat": 4,
  "nbformat_minor": 0
}
