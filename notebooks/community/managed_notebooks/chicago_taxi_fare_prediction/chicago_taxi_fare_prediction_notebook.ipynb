{
 "cells": [
  {
   "cell_type": "markdown",
   "id": "8d9f0def-ce60-4380-b16f-bc13fee1ee3d",
   "metadata": {},
   "source": [
    "# Taxi Fare Prediction using Chicago Taxi-cab dataset\n",
    "\n",
    "## Table of Contents\n",
    "* [Overview](#section-1)\n",
    "* [Dataset](#section-2)\n",
    "* [Objective](#section-3)\n",
    "* [Costs](#section-4)\n",
    "* [Data Analysis](#section-5)\n",
    "* [Fit a Simple Linear Regression model](#section-6)\n",
    "* [Save the model and upload to a GCS bucket](#section-7)\n",
    "* [Deploy the Model on Vertex-AI with support for Explanations](#section-8)\n",
    "* [Get explanations from the deployed model](#section-9)\n",
    "* [Clean Up](#section-10)\n",
    "\n",
    "## Overview\n",
    "<a name=\"section-1\"></a>\n",
    "\n",
    "This notebooks demonstrates analysis, feature selection, model building and deployment with explanations configured on Vertex-AI on a subset of the Chicago Taxi-cab dataset for Taxi-fare prediction problem.\n",
    "\n",
    "Note: This notebook file was developed to run in a [Vertex AI Workbench managed notebooks](https://console.cloud.google.com/vertex-ai/workbench/list/managed) instance using the Python(Local) kernel. Some components of this notebook may not work in other notebook environments.\n",
    "\n",
    "## Dataset\n",
    "<a name=\"section-2\"></a>\n",
    "\n",
    "The Chicago Taxi-cab dataset includes taxi trips from 2013 to the present, reported to the City of Chicago in its role as a regulatory agency. To protect privacy but allow for aggregate analyses, the Taxi ID is consistent for any given taxi medallion number but does not show the number, Census Tracts are suppressed in some cases, and times are rounded to the nearest 15 minutes. Due to the data reporting process, not all trips are reported but the City believes that most are. This dataset is publicly available on Bigquery under the public datasets with the Table ID : `bigquery-public-data.chicago_taxi_trips.taxi_trips` and also as public dataset on Kaggle Datasets at : [Chicago Taxi Trips Dataset](https://www.kaggle.com/chicago/chicago-taxi-trips-bq).\n",
    "\n",
    " For more information about this dataset and how it was created, please refer [Chicago Digital website](http://digital.cityofchicago.org/index.php/chicago-taxi-data-released).\n",
    "\n",
    "## Objective\n",
    "<a name=\"section-3\"></a>\n",
    "\n",
    "The goal of this notebook is to provide an overview on the latest Vertex-AI features like Explainable AI  and Bigquery in Notebook by trying to solve a Taxi-fare prediction problem. The steps followed in this notebook include : \n",
    "\n",
    "- Loading the dataset using `Bigquery in Notebooks`\n",
    "- Performing Exploratory Data Analysis on the dataset\n",
    "- Feature selection and preprocessing\n",
    "- Building a linear regression model using Sklearn\n",
    "- Configuring the model for explanations\n",
    "- Deploying the model to Vertex-AI\n",
    "- Testing the deployed model\n",
    "- Clean up\n",
    "\n",
    "## Costs\n",
    "<a name=\"section-4\"></a>\n",
    "\n",
    "This tutorial uses the following billable components of Google Cloud:\n",
    "\n",
    "- Vertex AI\n",
    "- Bigquery\n",
    "- Cloud Storage\n",
    "\n",
    "\n",
    "Learn about [Vertex AI\n",
    "pricing](https://cloud.google.com/vertex-ai/pricing), [Bigquery pricing](https://cloud.google.com/bigquery/pricing) and [Cloud Storage\n",
    "pricing](https://cloud.google.com/storage/pricing), and use the [Pricing\n",
    "Calculator](https://cloud.google.com/products/calculator/)\n",
    "to generate a cost estimate based on your projected usage."
   ]
  },
  {
   "cell_type": "markdown",
   "id": "c5ef934d-c226-4f4d-b91f-6ffb9a2be297",
   "metadata": {},
   "source": [
    "## Set your project ID"
   ]
  },
  {
   "cell_type": "code",
   "execution_count": null,
   "id": "6bf08598-1683-4af9-a64b-a8294384b9ab",
   "metadata": {},
   "outputs": [],
   "source": [
    "PROJECT = \"[your-project-id]\""
   ]
  },
  {
   "cell_type": "markdown",
   "id": "d16c89f5-5692-4aa1-a956-27fac53f7879",
   "metadata": {},
   "source": [
    "## Select or Create Cloud Storage Bucket for storing the model\n",
    "\n",
    "When you create a model resource on Vertex-AI using the Cloud SDK, you need to give a Cloud Storage bucket uri of the model where the model is stored. Using the model saved, you can then create Vertex AI model and endpoint resources in order to serve online predictions.\n",
    "\n",
    "Set the name of your Cloud Storage bucket below. It must be unique across all Cloud Storage buckets.You may also change the REGION variable, which is used for operations throughout the rest of this notebook. Make sure to choose a region where Vertex AI services are available."
   ]
  },
  {
   "cell_type": "code",
   "execution_count": null,
   "id": "456762d6-7a88-492a-a37d-e6e873f58270",
   "metadata": {},
   "outputs": [],
   "source": [
    "BUCKET_NAME = \"[your-bucket-name]\"\n",
    "BUCKET_URI = f\"gs://{BUCKET_NAME}\"\n",
    "LOCATION = \"us-central1\""
   ]
  },
  {
   "cell_type": "code",
   "execution_count": null,
   "id": "45eba414-fbbf-4e87-b36f-be6b70de1a6f",
   "metadata": {},
   "outputs": [],
   "source": [
    "## Set a default bucketname in case bucket name is not given\n",
    "if BUCKET_NAME == \"\" or BUCKET_NAME is None :\n",
    "    from datetime import datetime\n",
    "    \n",
    "    TIMESTAMP = datetime.now().strftime(\"%Y%m%d%H%M%S\")\n",
    "    BUCKET_NAME =  PROJECT_ID + \"aip-\" + TIMESTAMP\n",
    "    BUCKET_URI = \"gs://\" +BUCKET_NAME"
   ]
  },
  {
   "cell_type": "markdown",
   "id": "06a62c61-2cf0-48fe-8e8d-a35321353eda",
   "metadata": {},
   "source": [
    "<b>Only if your bucket doesn't already exist</b>: Run the following cell to create your Cloud Storage bucket."
   ]
  },
  {
   "cell_type": "markdown",
   "id": "775033f8-fb9f-43b6-8b73-0716f582de46",
   "metadata": {},
   "source": [
    "## Import the required libraries and define constants"
   ]
  },
  {
   "cell_type": "code",
   "execution_count": null,
   "id": "8263dbfb-bb34-410a-982b-6e5ced1a6e72",
   "metadata": {},
   "outputs": [],
   "source": [
    "! gsutil mb -l $REGION $BUCKET_NAME"
   ]
  },
  {
   "cell_type": "markdown",
   "id": "e499b3e8-54ac-477d-aae0-c19a8b4d2e1a",
   "metadata": {},
   "source": [
    "Next, validate access to your Cloud Storage bucket by examining its contents:"
   ]
  },
  {
   "cell_type": "code",
   "execution_count": null,
   "id": "bf0d3272-7424-4325-84c4-8a5416842726",
   "metadata": {},
   "outputs": [],
   "source": [
    "! gsutil ls -al $BUCKET_NAME"
   ]
  },
  {
   "cell_type": "code",
   "execution_count": 1,
   "id": "ab56b918-6b89-44f7-9230-c9bc03f1dae9",
   "metadata": {},
   "outputs": [],
   "source": [
    "# load the required libraries\n",
    "import pandas as pd\n",
    "import matplotlib.pyplot as plt\n",
    "import seaborn as sns\n",
    "%matplotlib inline\n",
    "\n",
    "from sklearn.linear_model import LinearRegression\n",
    "from sklearn.metrics import r2_score, mean_squared_error\n",
    "from sklearn.model_selection import train_test_split"
   ]
  },
  {
   "cell_type": "markdown",
   "id": "83721c37-40a3-4db3-a810-6232c5732afb",
   "metadata": {},
   "source": [
    "The dataset is quite a large and noisy one and so data from a specific date range will be used. Based on various blogs and resources that are available online, many of them seem to have used the data from around May-2018 which gave some really good results compared to the other date ranges. While there are also some complicated research models propsed for the same problem like considering the weather data, holidays and seasons etc., the current notebook only explores a simple linear regression model as our main objective is to demonstrate the model deployment with explanations configured on Vertex-AI.\n",
    "\n",
    "## Accessing the data through Bigquery in Notebooks\n",
    "`Bigquery in Notebooks` feature of Vertex-AI's managed notebooks allows us to use Bigquery and its features from the notebook itself eliminating the need to switch between tabs everytime. For every cell in the notebook, there is an option for Bigquery integration at the top right selecting which would enable us to compose a SQL query that can be executed in Bigquery. \n",
    "\n",
    "The chosen dataset consists of the following fields :\n",
    "- `unique_key` : Unique identifier for the trip.\n",
    "- `taxi_id` : A unique identifier for the taxi.\n",
    "- `trip_start_timestamp`: When the trip started, rounded to the nearest 15 minutes.\n",
    "- `trip_end_timestamp`: When the trip ended, rounded to the nearest 15 minutes.\n",
    "- `trip_seconds`: Time of the trip in seconds.\n",
    "- `trip_miles`: Distance of the trip in miles.\n",
    "- `pickup_census_tract`: The Census Tract where the trip began. For privacy, this Census Tract is not shown for some trips.\n",
    "- `dropoff_census_tract`: The Census Tract where the trip ended. For privacy, this Census Tract is not shown for some trips.\n",
    "- `pickup_community_area`: The Community Area where the trip began.\n",
    "- `dropoff_community_area`: The Community Area where the trip ended.\n",
    "- `fare`: The fare for the trip.\n",
    "- `tips`: The tip for the trip. Cash tips generally will not be recorded.\n",
    "- `tolls`: The tolls for the trip.\n",
    "- `extras`: Extra charges for the trip.\n",
    "- `trip_total`: Total cost of the trip, the total of the fare, tips, tolls, and extras.\n",
    "- `payment_type`: Type of payment for the trip.\n",
    "- `company`: The taxi company.\n",
    "- `pickup_latitude`: The latitude of the center of the pickup census tract or the community area if the census tract has been hidden for privacy.\n",
    "- `pickup_longitude`: The longitude of the center of the pickup census tract or the community area if the census tract has been hidden for privacy.\n",
    "- `pickup_location`: The location of the center of the pickup census tract or the community area if the census tract has been hidden for privacy.\n",
    "- `dropoff_latitude`: The latitude of the center of the dropoff census tract or the community area if the census tract has been hidden for privacy.\n",
    "- `dropoff_longitude`: The longitude of the center of the dropoff census tract or the community area if the census tract has been hidden for privacy.\n",
    "- `dropoff_location`: The location of the center of the dropoff census tract or the community area if the census tract has been hidden for privacy.\n",
    "\n",
    "Among the available fields in the dataset, only the fields that seem common and relevant for analysis and modeling like `taxi_id`, `trip_start_timestamp`, `trip_seconds`, `trip_miles`, `payment_type` and `trip_total` are selected. Further, the field `trip_total` is treated as the target variable that would be predicted by the machine learning model. Apparently, this field is a summation of `fare`,`tips`,`tolls` and `extras` fields and so because of their correlation with the target variable, they are being excluded for modeling. Due to the volume of the data, a subset of the dataset over the course of one week i.e., 12-May-2018 to 18-May-2018 is being considered. Within this date range itself, the datapoints can be noisy and so a few conditions like the following are considered : \n",
    "\n",
    "- Time taken for the trip > 0.\n",
    "- Distance covered during the trip > 0.\n",
    "- Total trip charges > 0 and\n",
    "- Pickup and dropoff areas are valid(not empty)."
   ]
  },
  {
   "cell_type": "markdown",
   "id": "f5760ac7-ad92-4936-90bb-2e23edd911c6",
   "metadata": {},
   "source": [
    "#@bigquery\n",
    "\n",
    "select \n",
    "-- select the required fields\n",
    "taxi_id, trip_start_timestamp, \n",
    "trip_seconds, trip_miles, trip_total, \n",
    "payment_type\n",
    "\n",
    "from `bigquery-public-data.chicago_taxi_trips.taxi_trips` \n",
    "where \n",
    "-- specify the required criteria\n",
    "trip_start_timestamp >= '2018-05-12' and \n",
    "trip_end_timestamp <= '2018-05-18' and\n",
    "trip_seconds > 0 and\n",
    "trip_miles > 0 and\n",
    "trip_total > 3 and\n",
    "pickup_community_area is not NULL and \n",
    "dropoff_community_area is not NULL\n"
   ]
  },
  {
   "cell_type": "markdown",
   "id": "0e6e5bd4-9439-4d80-8b44-f10791119a28",
   "metadata": {},
   "source": [
    "The Bigquery integration also allows us to load the queried data into a pandas dataframe using the `Query and load as DataFrame` button. Clicking the button adds a new cell below that provides a code snippet to load the data into a dataframe."
   ]
  },
  {
   "cell_type": "code",
   "execution_count": 17,
   "id": "a14c424c-33b4-4d00-bf99-6c95ed6c8963",
   "metadata": {},
   "outputs": [],
   "source": [
    "# The following two lines are only necessary to run once.\n",
    "# Comment out otherwise for speed-up.\n",
    "from google.cloud.bigquery import Client, QueryJobConfig\n",
    "client = Client()\n",
    "\n",
    "query = \"\"\"select \n",
    "taxi_id, trip_start_timestamp, \n",
    "trip_seconds, trip_miles, trip_total, \n",
    "payment_type, pickup_community_area, \n",
    "dropoff_community_area \n",
    "\n",
    "from `bigquery-public-data.chicago_taxi_trips.taxi_trips` \n",
    "where \n",
    "trip_start_timestamp >= '2018-05-12' and \n",
    "trip_end_timestamp <= '2018-05-18' and\n",
    "trip_seconds > 0 and trip_seconds < 6*60*60 and\n",
    "trip_miles > 0 and\n",
    "trip_total > 3 and\n",
    "pickup_community_area is not NULL and \n",
    "dropoff_community_area is not NULL\"\"\"\n",
    "job = client.query(query)\n",
    "df = job.to_dataframe()"
   ]
  },
  {
   "cell_type": "markdown",
   "id": "65f63414-550f-42ff-8473-f52bc90b63d2",
   "metadata": {},
   "source": [
    "Check the fields in the data and the shape."
   ]
  },
  {
   "cell_type": "code",
   "execution_count": 18,
   "id": "b98505cd-abff-4d8f-b7f9-e8425bdad535",
   "metadata": {},
   "outputs": [
    {
     "name": "stdout",
     "output_type": "stream",
     "text": [
      "(278678, 8)\n"
     ]
    },
    {
     "data": {
      "text/plain": [
       "Index(['taxi_id', 'trip_start_timestamp', 'trip_seconds', 'trip_miles',\n",
       "       'trip_total', 'payment_type', 'pickup_community_area',\n",
       "       'dropoff_community_area'],\n",
       "      dtype='object')"
      ]
     },
     "execution_count": 18,
     "metadata": {},
     "output_type": "execute_result"
    }
   ],
   "source": [
    "## check the dataframe's shape\n",
    "print (df.shape)\n",
    "## check the columns in the dataframe\n",
    "df.columns"
   ]
  },
  {
   "cell_type": "markdown",
   "id": "8ca6461a-220e-4ab9-975e-e1a5fb6b6510",
   "metadata": {},
   "source": [
    "Check some sample data."
   ]
  },
  {
   "cell_type": "code",
   "execution_count": 19,
   "id": "4a96e580-d7cc-446d-8d73-929e7e36e007",
   "metadata": {},
   "outputs": [
    {
     "data": {
      "text/html": [
       "<div>\n",
       "<style scoped>\n",
       "    .dataframe tbody tr th:only-of-type {\n",
       "        vertical-align: middle;\n",
       "    }\n",
       "\n",
       "    .dataframe tbody tr th {\n",
       "        vertical-align: top;\n",
       "    }\n",
       "\n",
       "    .dataframe thead th {\n",
       "        text-align: right;\n",
       "    }\n",
       "</style>\n",
       "<table border=\"1\" class=\"dataframe\">\n",
       "  <thead>\n",
       "    <tr style=\"text-align: right;\">\n",
       "      <th></th>\n",
       "      <th>taxi_id</th>\n",
       "      <th>trip_start_timestamp</th>\n",
       "      <th>trip_seconds</th>\n",
       "      <th>trip_miles</th>\n",
       "      <th>trip_total</th>\n",
       "      <th>payment_type</th>\n",
       "      <th>pickup_community_area</th>\n",
       "      <th>dropoff_community_area</th>\n",
       "    </tr>\n",
       "  </thead>\n",
       "  <tbody>\n",
       "    <tr>\n",
       "      <th>0</th>\n",
       "      <td>1833edab9ed696386a8224986104fd046eaf9ea8dffb9e...</td>\n",
       "      <td>2018-05-17 11:15:00+00:00</td>\n",
       "      <td>33</td>\n",
       "      <td>0.1</td>\n",
       "      <td>6.75</td>\n",
       "      <td>Credit Card</td>\n",
       "      <td>32</td>\n",
       "      <td>32</td>\n",
       "    </tr>\n",
       "    <tr>\n",
       "      <th>1</th>\n",
       "      <td>58c784c628cc2b0b77468e6a406acea729301abbc17a62...</td>\n",
       "      <td>2018-05-13 00:15:00+00:00</td>\n",
       "      <td>65</td>\n",
       "      <td>0.1</td>\n",
       "      <td>5.50</td>\n",
       "      <td>Credit Card</td>\n",
       "      <td>8</td>\n",
       "      <td>8</td>\n",
       "    </tr>\n",
       "    <tr>\n",
       "      <th>2</th>\n",
       "      <td>0300862a19483bcacac6176544abf331b8a3d41ec6efda...</td>\n",
       "      <td>2018-05-13 18:45:00+00:00</td>\n",
       "      <td>65</td>\n",
       "      <td>0.1</td>\n",
       "      <td>3.75</td>\n",
       "      <td>Cash</td>\n",
       "      <td>11</td>\n",
       "      <td>11</td>\n",
       "    </tr>\n",
       "    <tr>\n",
       "      <th>3</th>\n",
       "      <td>cf201b86531ed045f2aba753831f73b9839ab42281b703...</td>\n",
       "      <td>2018-05-13 00:00:00+00:00</td>\n",
       "      <td>84</td>\n",
       "      <td>0.1</td>\n",
       "      <td>3.75</td>\n",
       "      <td>Cash</td>\n",
       "      <td>8</td>\n",
       "      <td>8</td>\n",
       "    </tr>\n",
       "    <tr>\n",
       "      <th>4</th>\n",
       "      <td>a2f43960996408dea7a7a313753317981e812219c9e040...</td>\n",
       "      <td>2018-05-14 02:00:00+00:00</td>\n",
       "      <td>70</td>\n",
       "      <td>0.4</td>\n",
       "      <td>5.00</td>\n",
       "      <td>Cash</td>\n",
       "      <td>8</td>\n",
       "      <td>8</td>\n",
       "    </tr>\n",
       "  </tbody>\n",
       "</table>\n",
       "</div>"
      ],
      "text/plain": [
       "                                             taxi_id  \\\n",
       "0  1833edab9ed696386a8224986104fd046eaf9ea8dffb9e...   \n",
       "1  58c784c628cc2b0b77468e6a406acea729301abbc17a62...   \n",
       "2  0300862a19483bcacac6176544abf331b8a3d41ec6efda...   \n",
       "3  cf201b86531ed045f2aba753831f73b9839ab42281b703...   \n",
       "4  a2f43960996408dea7a7a313753317981e812219c9e040...   \n",
       "\n",
       "       trip_start_timestamp  trip_seconds  trip_miles  trip_total  \\\n",
       "0 2018-05-17 11:15:00+00:00            33         0.1        6.75   \n",
       "1 2018-05-13 00:15:00+00:00            65         0.1        5.50   \n",
       "2 2018-05-13 18:45:00+00:00            65         0.1        3.75   \n",
       "3 2018-05-13 00:00:00+00:00            84         0.1        3.75   \n",
       "4 2018-05-14 02:00:00+00:00            70         0.4        5.00   \n",
       "\n",
       "  payment_type  pickup_community_area  dropoff_community_area  \n",
       "0  Credit Card                     32                      32  \n",
       "1  Credit Card                      8                       8  \n",
       "2         Cash                     11                      11  \n",
       "3         Cash                      8                       8  \n",
       "4         Cash                      8                       8  "
      ]
     },
     "execution_count": 19,
     "metadata": {},
     "output_type": "execute_result"
    }
   ],
   "source": [
    "df.head()"
   ]
  },
  {
   "cell_type": "markdown",
   "id": "ca70b654-9aa2-4317-8ef2-da89289ff268",
   "metadata": {},
   "source": [
    "Check the dtypes of fields in the data."
   ]
  },
  {
   "cell_type": "code",
   "execution_count": 20,
   "id": "326819fa-540e-4f7b-8ef9-1a9d3ddf092d",
   "metadata": {},
   "outputs": [
    {
     "data": {
      "text/plain": [
       "taxi_id                                object\n",
       "trip_start_timestamp      datetime64[ns, UTC]\n",
       "trip_seconds                            int64\n",
       "trip_miles                            float64\n",
       "trip_total                            float64\n",
       "payment_type                           object\n",
       "pickup_community_area                   int64\n",
       "dropoff_community_area                  int64\n",
       "dtype: object"
      ]
     },
     "execution_count": 20,
     "metadata": {},
     "output_type": "execute_result"
    }
   ],
   "source": [
    "df.dtypes"
   ]
  },
  {
   "cell_type": "markdown",
   "id": "89b9ea0f-f8f0-4809-96ba-fa2b9ef04f78",
   "metadata": {},
   "source": [
    "Check for null values in the dataframe."
   ]
  },
  {
   "cell_type": "code",
   "execution_count": 21,
   "id": "3945debf-6ac6-4773-ab55-2fb24542b165",
   "metadata": {},
   "outputs": [
    {
     "name": "stdout",
     "output_type": "stream",
     "text": [
      "<class 'pandas.core.frame.DataFrame'>\n",
      "RangeIndex: 278678 entries, 0 to 278677\n",
      "Data columns (total 8 columns):\n",
      " #   Column                  Non-Null Count   Dtype              \n",
      "---  ------                  --------------   -----              \n",
      " 0   taxi_id                 278678 non-null  object             \n",
      " 1   trip_start_timestamp    278678 non-null  datetime64[ns, UTC]\n",
      " 2   trip_seconds            278678 non-null  int64              \n",
      " 3   trip_miles              278678 non-null  float64            \n",
      " 4   trip_total              278678 non-null  float64            \n",
      " 5   payment_type            278678 non-null  object             \n",
      " 6   pickup_community_area   278678 non-null  int64              \n",
      " 7   dropoff_community_area  278678 non-null  int64              \n",
      "dtypes: datetime64[ns, UTC](1), float64(2), int64(3), object(2)\n",
      "memory usage: 17.0+ MB\n"
     ]
    }
   ],
   "source": [
    "df.info()"
   ]
  },
  {
   "cell_type": "markdown",
   "id": "c46166bd-90bf-455a-ae80-640324bc0035",
   "metadata": {},
   "source": [
    "Depending on the percentage of null values in the data, one can choose to either drop them or impute them with mean/median(for numerical values) and mode(for categorical values). In the current data, there doesn't seem to be any null values."
   ]
  },
  {
   "cell_type": "markdown",
   "id": "3d48f82c-c9c5-4ace-9090-18ec1fc9e4e9",
   "metadata": {},
   "source": [
    "Check the numerical distributions of the fields(numerical). In case there are any fields with constant values, those fields can be dropped as they don't add any value to the model."
   ]
  },
  {
   "cell_type": "code",
   "execution_count": 22,
   "id": "624d5e6b-ed64-4876-b359-b5bd2d0e85cd",
   "metadata": {},
   "outputs": [
    {
     "data": {
      "text/html": [
       "<div>\n",
       "<style scoped>\n",
       "    .dataframe tbody tr th:only-of-type {\n",
       "        vertical-align: middle;\n",
       "    }\n",
       "\n",
       "    .dataframe tbody tr th {\n",
       "        vertical-align: top;\n",
       "    }\n",
       "\n",
       "    .dataframe thead th {\n",
       "        text-align: right;\n",
       "    }\n",
       "</style>\n",
       "<table border=\"1\" class=\"dataframe\">\n",
       "  <thead>\n",
       "    <tr style=\"text-align: right;\">\n",
       "      <th></th>\n",
       "      <th>count</th>\n",
       "      <th>mean</th>\n",
       "      <th>std</th>\n",
       "      <th>min</th>\n",
       "      <th>25%</th>\n",
       "      <th>50%</th>\n",
       "      <th>75%</th>\n",
       "      <th>max</th>\n",
       "    </tr>\n",
       "  </thead>\n",
       "  <tbody>\n",
       "    <tr>\n",
       "      <th>trip_seconds</th>\n",
       "      <td>278678.0</td>\n",
       "      <td>895.686875</td>\n",
       "      <td>881.699588</td>\n",
       "      <td>1.00</td>\n",
       "      <td>360.0</td>\n",
       "      <td>599.0</td>\n",
       "      <td>1020.00</td>\n",
       "      <td>20265.00</td>\n",
       "    </tr>\n",
       "    <tr>\n",
       "      <th>trip_miles</th>\n",
       "      <td>278678.0</td>\n",
       "      <td>4.086207</td>\n",
       "      <td>5.809640</td>\n",
       "      <td>0.01</td>\n",
       "      <td>0.9</td>\n",
       "      <td>1.5</td>\n",
       "      <td>4.00</td>\n",
       "      <td>813.00</td>\n",
       "    </tr>\n",
       "    <tr>\n",
       "      <th>trip_total</th>\n",
       "      <td>278678.0</td>\n",
       "      <td>17.128208</td>\n",
       "      <td>20.883550</td>\n",
       "      <td>3.01</td>\n",
       "      <td>7.5</td>\n",
       "      <td>10.0</td>\n",
       "      <td>17.25</td>\n",
       "      <td>6155.91</td>\n",
       "    </tr>\n",
       "    <tr>\n",
       "      <th>pickup_community_area</th>\n",
       "      <td>278678.0</td>\n",
       "      <td>25.525133</td>\n",
       "      <td>20.430918</td>\n",
       "      <td>1.00</td>\n",
       "      <td>8.0</td>\n",
       "      <td>28.0</td>\n",
       "      <td>32.00</td>\n",
       "      <td>77.00</td>\n",
       "    </tr>\n",
       "    <tr>\n",
       "      <th>dropoff_community_area</th>\n",
       "      <td>278678.0</td>\n",
       "      <td>22.657479</td>\n",
       "      <td>17.978810</td>\n",
       "      <td>1.00</td>\n",
       "      <td>8.0</td>\n",
       "      <td>24.0</td>\n",
       "      <td>32.00</td>\n",
       "      <td>77.00</td>\n",
       "    </tr>\n",
       "  </tbody>\n",
       "</table>\n",
       "</div>"
      ],
      "text/plain": [
       "                           count        mean         std   min    25%    50%  \\\n",
       "trip_seconds            278678.0  895.686875  881.699588  1.00  360.0  599.0   \n",
       "trip_miles              278678.0    4.086207    5.809640  0.01    0.9    1.5   \n",
       "trip_total              278678.0   17.128208   20.883550  3.01    7.5   10.0   \n",
       "pickup_community_area   278678.0   25.525133   20.430918  1.00    8.0   28.0   \n",
       "dropoff_community_area  278678.0   22.657479   17.978810  1.00    8.0   24.0   \n",
       "\n",
       "                            75%       max  \n",
       "trip_seconds            1020.00  20265.00  \n",
       "trip_miles                 4.00    813.00  \n",
       "trip_total                17.25   6155.91  \n",
       "pickup_community_area     32.00     77.00  \n",
       "dropoff_community_area    32.00     77.00  "
      ]
     },
     "execution_count": 22,
     "metadata": {},
     "output_type": "execute_result"
    }
   ],
   "source": [
    "df.describe().T"
   ]
  },
  {
   "cell_type": "markdown",
   "id": "ceed5a90-d17a-4fc4-aeff-997c83c14a30",
   "metadata": {},
   "source": [
    "In the current dataset, `trip_total` is the target field. To access the fields by their type easily, identify the categorical and numerical fields in the data and save them."
   ]
  },
  {
   "cell_type": "code",
   "execution_count": 23,
   "id": "20cf0b6d-0183-47c6-adbb-ebf37b78cb0f",
   "metadata": {},
   "outputs": [],
   "source": [
    "target = \"trip_total\"\n",
    "categ_cols = ['payment_type','pickup_community_area','dropoff_community_area']\n",
    "num_cols = ['trip_seconds','trip_miles']"
   ]
  },
  {
   "cell_type": "markdown",
   "id": "f490f1bd-4c4a-418f-ae10-87fe1ee218ff",
   "metadata": {},
   "source": [
    "## Analyze numerical data\n",
    "<a name=\"section-5\"></a>\n",
    "\n",
    "To further anaylyze the data, there are various plots that can be used on numerical and categorical fields. In case of numerical data, one can use histograms and box-plots while bar charts(distribution plots) are more suited for categorical data to better understand the distribution of the data and the outliers in the data."
   ]
  },
  {
   "cell_type": "markdown",
   "id": "2f740052-0960-4a56-a9fb-0ea7187ae60c",
   "metadata": {},
   "source": [
    "Plot Histograms and Box-plots on the numerical fields."
   ]
  },
  {
   "cell_type": "code",
   "execution_count": 24,
   "id": "a80753de-215c-4b18-9973-95fe4d46acca",
   "metadata": {
    "scrolled": true,
    "tags": []
   },
   "outputs": [
    {
     "data": {
      "image/png": "[encoded data removed]",
      "text/plain": [
       "<Figure size 864x288 with 2 Axes>"
      ]
     },
     "metadata": {
      "needs_background": "light"
     },
     "output_type": "display_data"
    },
    {
     "data": {
      "image/png": "[encoded data removed]",
      "text/plain": [
       "<Figure size 864x288 with 2 Axes>"
      ]
     },
     "metadata": {
      "needs_background": "light"
     },
     "output_type": "display_data"
    },
    {
     "data": {
      "image/png": "[encoded data removed]",
      "text/plain": [
       "<Figure size 864x288 with 2 Axes>"
      ]
     },
     "metadata": {
      "needs_background": "light"
     },
     "output_type": "display_data"
    }
   ],
   "source": [
    "for i in num_cols+[target] :\n",
    "    _, ax = plt.subplots(1,2,figsize=(12,4))\n",
    "    df[i].plot(kind='hist',bins=100, ax=ax[0])\n",
    "    ax[0].set_title(str(i) + ' -Histogram')\n",
    "    df[i].plot(kind='box', ax=ax[1])\n",
    "    ax[1].set_title(str(i) + ' -Boxplot')\n",
    "    plt.show()"
   ]
  },
  {
   "cell_type": "markdown",
   "id": "cb2b00ad-e710-4f78-aa2e-90332e45ee67",
   "metadata": {},
   "source": [
    "The field `trip_seconds` describes the time taken for the trip in seconds. Optionally, it can be converted into hours for an easier understanding."
   ]
  },
  {
   "cell_type": "code",
   "execution_count": 25,
   "id": "55d120b1-e648-4c5d-ba13-efe251229a2c",
   "metadata": {},
   "outputs": [
    {
     "data": {
      "text/plain": [
       "<AxesSubplot:>"
      ]
     },
     "execution_count": 25,
     "metadata": {},
     "output_type": "execute_result"
    },
    {
     "data": {
      "image/png": "[encoded data removed]",
      "text/plain": [
       "<Figure size 432x288 with 1 Axes>"
      ]
     },
     "metadata": {
      "needs_background": "light"
     },
     "output_type": "display_data"
    }
   ],
   "source": [
    "df['trip_hours'] = round(df['trip_seconds']/3600,2)\n",
    "df['trip_hours'].plot(kind='box')"
   ]
  },
  {
   "cell_type": "markdown",
   "id": "acf78126-f5af-4cae-b842-08bc58e65aae",
   "metadata": {},
   "source": [
    "Similarly, another field `trip_speed` can be added by dividing `trip_miles` and `trip_hours` to understand the speed of the trip in miles/hour."
   ]
  },
  {
   "cell_type": "code",
   "execution_count": 26,
   "id": "7f717996-5910-4ad8-b23c-63d41f0fb488",
   "metadata": {},
   "outputs": [
    {
     "data": {
      "text/plain": [
       "<AxesSubplot:>"
      ]
     },
     "execution_count": 26,
     "metadata": {},
     "output_type": "execute_result"
    },
    {
     "data": {
      "image/png": "[encoded data removed]",
      "text/plain": [
       "<Figure size 432x288 with 1 Axes>"
      ]
     },
     "metadata": {
      "needs_background": "light"
     },
     "output_type": "display_data"
    }
   ],
   "source": [
    "df['trip_speed'] = round(df['trip_miles']/df['trip_hours'],2)\n",
    "df['trip_speed'].plot(kind='box')"
   ]
  },
  {
   "cell_type": "markdown",
   "id": "0e881a80-06ad-48cf-9670-17c595e29664",
   "metadata": {},
   "source": [
    "So far we've only considered to look at the univariate plots. To better understand the relationship between the variables, a pair-plot can be plotted."
   ]
  },
  {
   "cell_type": "code",
   "execution_count": 27,
   "id": "ae452278-1b9a-45b6-b4f8-71378bc1b3d0",
   "metadata": {},
   "outputs": [
    {
     "data": {
      "image/png": "[encoded data removed]",
      "text/plain": [
       "<Figure size 720x720 with 20 Axes>"
      ]
     },
     "metadata": {
      "needs_background": "light"
     },
     "output_type": "display_data"
    }
   ],
   "source": [
    "sns.pairplot(data=df[['trip_seconds','trip_miles','trip_total', 'trip_speed']].sample(10000))\n",
    "plt.show()"
   ]
  },
  {
   "cell_type": "markdown",
   "id": "ba026d69-a1d4-4698-bac0-dec335ebdea2",
   "metadata": {},
   "source": [
    "From the box-plots and the histograms plotted so far, it is evident that there are some outliers causing skewness in the data which perhaps could be removed. Also, we can certainly see some linear relationship between the independent variables considered in the pair-plot i.e., `trip_seconds` and `trip_miles` and the dependant variable `trip_total`."
   ]
  },
  {
   "cell_type": "markdown",
   "id": "00c29735-4308-4754-bb49-b802a6210ea5",
   "metadata": {},
   "source": [
    "Restrict the data based on the following conditions to remove the outliers in the data to some extent :\n",
    "- Total charge being at least more than $3.\n",
    "- Total miles driven greater than 0 and less than 300 miles.\n",
    "- Total seconds driven at least 1 minute.\n",
    "- Total hours driven not more than 2 hours.\n",
    "- Speed of the trip not being more than 70 mph.\n",
    "\n",
    "These conditions are based on some general assumptions as clearly there were some recording errors like speed being greater than 500 mph and travel-time being more than 5 hours that led to outliers in the data. "
   ]
  },
  {
   "cell_type": "code",
   "execution_count": 28,
   "id": "27cde09d-f529-47f8-a611-2031a9ba7030",
   "metadata": {},
   "outputs": [
    {
     "data": {
      "text/plain": [
       "(277386, 10)"
      ]
     },
     "execution_count": 28,
     "metadata": {},
     "output_type": "execute_result"
    }
   ],
   "source": [
    "## set constraints to remove outliers\n",
    "df = df[df['trip_total'] > 3]\n",
    "\n",
    "df = df[(df['trip_miles'] > 0)&(df['trip_miles']<300)]\n",
    "\n",
    "df = df[df['trip_seconds']>=60]\n",
    "\n",
    "df = df[df['trip_hours']<=2]\n",
    "\n",
    "df = df[df['trip_speed']<=70]\n",
    "df.reset_index(drop=True, inplace=True)\n",
    "df.shape"
   ]
  },
  {
   "cell_type": "markdown",
   "id": "afc7bbd6-76a6-47da-98cf-a38b1d3bf4d8",
   "metadata": {},
   "source": [
    "## Analyze Categorical data\n",
    "\n",
    "Further, explore the categorical data by plotting the distribution of all the levels in each field."
   ]
  },
  {
   "cell_type": "code",
   "execution_count": 29,
   "id": "f0499328-2c24-4129-a986-07f11b6f2208",
   "metadata": {
    "scrolled": true,
    "tags": []
   },
   "outputs": [
    {
     "name": "stdout",
     "output_type": "stream",
     "text": [
      "(8,)\n"
     ]
    },
    {
     "data": {
      "image/png": "[encoded data removed]",
      "text/plain": [
       "<Figure size 720x288 with 1 Axes>"
      ]
     },
     "metadata": {
      "needs_background": "light"
     },
     "output_type": "display_data"
    },
    {
     "name": "stdout",
     "output_type": "stream",
     "text": [
      "(77,)\n"
     ]
    },
    {
     "data": {
      "image/png": "[encoded data removed]",
      "text/plain": [
       "<Figure size 720x288 with 1 Axes>"
      ]
     },
     "metadata": {
      "needs_background": "light"
     },
     "output_type": "display_data"
    },
    {
     "name": "stdout",
     "output_type": "stream",
     "text": [
      "(77,)\n"
     ]
    },
    {
     "data": {
      "image/png": "[encoded data removed]",
      "text/plain": [
       "<Figure size 720x288 with 1 Axes>"
      ]
     },
     "metadata": {
      "needs_background": "light"
     },
     "output_type": "display_data"
    }
   ],
   "source": [
    "for i in categ_cols :\n",
    "    print (df[i].unique().shape)\n",
    "    df[i].value_counts(normalize=True).plot(kind='bar',figsize=(10,4))\n",
    "    plt.title(i)\n",
    "    plt.show()"
   ]
  },
  {
   "cell_type": "markdown",
   "id": "5d1d8717-b0de-47a2-8444-f373f6921d60",
   "metadata": {},
   "source": [
    "From the above analysis, one can see that almost 99% of the transaction types are Cash and Credit Card. While there are also other type of transactions, their distribution is very less. In such a case, the lower distribution levels can be dropped. On the other hand, total number of pickup and dropoff community areas both seem to have the same levels which make sense. In this case also, one can choose to omit the lower distribution levels but it has to be made sure that both the fields have the same levels afterwards. In the current notebook, we'd keep them as it is and proceed with the modeling.\n",
    "\n",
    "The relationships between the target variable and the categorical fields can be represented through boxplots. For each level, the corresponding distribution of the target variable can be identified."
   ]
  },
  {
   "cell_type": "code",
   "execution_count": 31,
   "id": "fadd674f-bde1-448d-8269-f30df633af53",
   "metadata": {
    "scrolled": true,
    "tags": []
   },
   "outputs": [
    {
     "data": {
      "image/png": "[encoded data removed]",
      "text/plain": [
       "<Figure size 720x288 with 1 Axes>"
      ]
     },
     "metadata": {
      "needs_background": "light"
     },
     "output_type": "display_data"
    },
    {
     "data": {
      "image/png": "[encoded data removed]",
      "text/plain": [
       "<Figure size 720x288 with 1 Axes>"
      ]
     },
     "metadata": {
      "needs_background": "light"
     },
     "output_type": "display_data"
    },
    {
     "data": {
      "image/png": "[encoded data removed]",
      "text/plain": [
       "<Figure size 720x288 with 1 Axes>"
      ]
     },
     "metadata": {
      "needs_background": "light"
     },
     "output_type": "display_data"
    }
   ],
   "source": [
    "for i in categ_cols :\n",
    "    plt.figure(figsize=(10,4))\n",
    "    sns.boxplot(x=i,y=target,data=df)\n",
    "    plt.xticks(rotation=45)\n",
    "    plt.title(i)\n",
    "    plt.show()"
   ]
  },
  {
   "cell_type": "markdown",
   "id": "51f8edc1-4777-40d8-84ca-6a9e6c5b48f8",
   "metadata": {},
   "source": [
    "There seems to be one case where the `trip_total` is over 3000 and has the same pickup and dropoff community area i.e., 28 which is clearly an outlier compared to the rest of the points. This datapoint can be removed."
   ]
  },
  {
   "cell_type": "code",
   "execution_count": 32,
   "id": "d2a4f2a1-0453-4957-8ccb-47d70fc05e26",
   "metadata": {},
   "outputs": [],
   "source": [
    "df = df[df['trip_total']<3000].reset_index(drop=True)"
   ]
  },
  {
   "cell_type": "markdown",
   "id": "54458fa8-17ba-40c8-8c06-322c526cb2b3",
   "metadata": {},
   "source": [
    "Keep only the `Credit Card` and `Cash` payment types. Further, encode them by assigning 0 for `Credit Card` and 1 for `Cash` payment types."
   ]
  },
  {
   "cell_type": "code",
   "execution_count": 38,
   "id": "70605eca-9192-463c-8178-5a435de32a37",
   "metadata": {},
   "outputs": [],
   "source": [
    "## add payment_type\n",
    "df = df[df['payment_type'].isin(['Credit Card', 'Cash'])].reset_index(drop=True)\n",
    "## encode the payment types\n",
    "df['payment_type'] = df['payment_type'].apply(lambda x: 0 if x == 'Credit Card' else (1 if x == 'Cash' else None))"
   ]
  },
  {
   "cell_type": "markdown",
   "id": "0095d6ea-b686-4ead-a977-72ae4eaf8ead",
   "metadata": {},
   "source": [
    "There are also timestamp fields in the data that can prove to be useful. `trip_start_timestamp` represents the start timestamp of the taxi-trip and fields like what day of week it was and what hour it was can be dervied from it."
   ]
  },
  {
   "cell_type": "code",
   "execution_count": 33,
   "id": "b40c324a-bb5f-4fc5-a7f7-80642fb7cdfb",
   "metadata": {},
   "outputs": [],
   "source": [
    "df['trip_start_timestamp'] = pd.to_datetime(df['trip_start_timestamp'])\n",
    "df['dayofweek'] = df['trip_start_timestamp'].dt.dayofweek\n",
    "df['hour'] = df['trip_start_timestamp'].dt.hour"
   ]
  },
  {
   "cell_type": "markdown",
   "id": "d0547c26-f034-411c-aa2b-995d5828265e",
   "metadata": {},
   "source": [
    "Since the current dataset is considered only for a week, if there isn't much variation in the newly dervied fields with respect to the target variable, they can be dropped.\n",
    "\n",
    "Plot sum and average of the `trip_total` with respect to the `dayofweek`."
   ]
  },
  {
   "cell_type": "code",
   "execution_count": 34,
   "id": "2b3ebfe8-f911-4879-bc04-749bd34b9e51",
   "metadata": {},
   "outputs": [
    {
     "data": {
      "image/png": "[encoded data removed]",
      "text/plain": [
       "<Figure size 720x288 with 2 Axes>"
      ]
     },
     "metadata": {
      "needs_background": "light"
     },
     "output_type": "display_data"
    }
   ],
   "source": [
    "## plot sum and average of trip_total w.r.t the dayofweek\n",
    "_, ax = plt.subplots(1,2,figsize=(10,4))\n",
    "df[['dayofweek','trip_total']].groupby('dayofweek').trip_total.sum().plot(kind='bar',ax=ax[0])\n",
    "ax[0].set_title(\"Sum of trip_total\")\n",
    "df[['dayofweek','trip_total']].groupby('dayofweek').trip_total.mean().plot(kind='bar',ax=ax[1])\n",
    "ax[1].set_title(\"Avg. of trip_total\")\n",
    "plt.show()"
   ]
  },
  {
   "cell_type": "markdown",
   "id": "c71c1b01-2347-4945-860b-c5cb52000c9f",
   "metadata": {},
   "source": [
    "Plot sum and average of the `trip_total` with respect to the `hour`."
   ]
  },
  {
   "cell_type": "code",
   "execution_count": null,
   "id": "9c672694-b94b-4939-b492-b8f8978171ce",
   "metadata": {},
   "outputs": [
    {
     "data": {
      "image/png": "[encoded data removed]",
      "text/plain": [
       "<Figure size 720x288 with 2 Axes>"
      ]
     },
     "metadata": {
      "needs_background": "light"
     },
     "output_type": "display_data"
    }
   ],
   "source": [
    "_, ax = plt.subplots(1,2,figsize=(10,4))\n",
    "df[['hour','trip_total']].groupby('hour').trip_total.sum().plot(kind='bar',ax=ax[0])\n",
    "ax[0].set_title(\"Sum of trip_total\")\n",
    "df[['hour','trip_total']].groupby('hour').trip_total.mean().plot(kind='bar',ax=ax[1])\n",
    "ax[1].set_title(\"Avg. of trip_total\")\n",
    "plt.show()"
   ]
  },
  {
   "cell_type": "markdown",
   "id": "d62e6993-9fc9-49f5-8032-4762d68aa56b",
   "metadata": {},
   "source": [
    "As these plots don't seem to have constant figures with respect to the target variable across their levels, they can be considered for training. In fact, to simplify things these dervied features can be bucketed into less number of levels.\n",
    "\n",
    "`dayofweek` field can be bucketed into a binary field considering whether or not it was a weekend. If it is a weekday, the record can be assigned 1, else 0. Similarly, `hour` field can also be bucketed and encoded. The normal working hours in Chicago can be assumed to be between *8AM*-*10PM* and if the value falls in between the working hours, it can be encoded as 1, else 0."
   ]
  },
  {
   "cell_type": "code",
   "execution_count": 35,
   "id": "dfea44c7-c57f-4df8-950f-2b2f2abdd69f",
   "metadata": {},
   "outputs": [],
   "source": [
    "## bucket and encode the dayofweek and hour\n",
    "df['dayofweek'] = df['dayofweek'].apply(lambda x : 0 if x in [5,6] else 1)\n",
    "df['hour'] = df['hour'].apply(lambda x: 0 if x in [23,0,1,2,3,4,5,6,7] else 1)"
   ]
  },
  {
   "cell_type": "markdown",
   "id": "48428486-6fa4-46ec-948b-762b18f560df",
   "metadata": {},
   "source": [
    "Check the data distribution before training the model."
   ]
  },
  {
   "cell_type": "code",
   "execution_count": 127,
   "id": "784c1946-308b-4f2e-920d-7d226218dac4",
   "metadata": {},
   "outputs": [
    {
     "data": {
      "text/html": [
       "<div>\n",
       "<style scoped>\n",
       "    .dataframe tbody tr th:only-of-type {\n",
       "        vertical-align: middle;\n",
       "    }\n",
       "\n",
       "    .dataframe tbody tr th {\n",
       "        vertical-align: top;\n",
       "    }\n",
       "\n",
       "    .dataframe thead th {\n",
       "        text-align: right;\n",
       "    }\n",
       "</style>\n",
       "<table border=\"1\" class=\"dataframe\">\n",
       "  <thead>\n",
       "    <tr style=\"text-align: right;\">\n",
       "      <th></th>\n",
       "      <th>count</th>\n",
       "      <th>mean</th>\n",
       "      <th>std</th>\n",
       "      <th>min</th>\n",
       "      <th>25%</th>\n",
       "      <th>50%</th>\n",
       "      <th>75%</th>\n",
       "      <th>max</th>\n",
       "    </tr>\n",
       "  </thead>\n",
       "  <tbody>\n",
       "    <tr>\n",
       "      <th>trip_seconds</th>\n",
       "      <td>273862.0</td>\n",
       "      <td>892.965694</td>\n",
       "      <td>852.294942</td>\n",
       "      <td>60.00</td>\n",
       "      <td>360.0</td>\n",
       "      <td>599.00</td>\n",
       "      <td>1020.00</td>\n",
       "      <td>7206.0</td>\n",
       "    </tr>\n",
       "    <tr>\n",
       "      <th>trip_miles</th>\n",
       "      <td>273862.0</td>\n",
       "      <td>4.073097</td>\n",
       "      <td>5.544775</td>\n",
       "      <td>0.01</td>\n",
       "      <td>0.9</td>\n",
       "      <td>1.50</td>\n",
       "      <td>4.00</td>\n",
       "      <td>71.5</td>\n",
       "    </tr>\n",
       "    <tr>\n",
       "      <th>trip_total</th>\n",
       "      <td>273862.0</td>\n",
       "      <td>17.089971</td>\n",
       "      <td>17.291648</td>\n",
       "      <td>3.01</td>\n",
       "      <td>7.5</td>\n",
       "      <td>10.00</td>\n",
       "      <td>17.10</td>\n",
       "      <td>3030.3</td>\n",
       "    </tr>\n",
       "    <tr>\n",
       "      <th>payment_type</th>\n",
       "      <td>273862.0</td>\n",
       "      <td>0.495228</td>\n",
       "      <td>0.499978</td>\n",
       "      <td>0.00</td>\n",
       "      <td>0.0</td>\n",
       "      <td>0.00</td>\n",
       "      <td>1.00</td>\n",
       "      <td>1.0</td>\n",
       "    </tr>\n",
       "    <tr>\n",
       "      <th>pickup_community_area</th>\n",
       "      <td>273862.0</td>\n",
       "      <td>25.482236</td>\n",
       "      <td>20.406290</td>\n",
       "      <td>1.00</td>\n",
       "      <td>8.0</td>\n",
       "      <td>28.00</td>\n",
       "      <td>32.00</td>\n",
       "      <td>77.0</td>\n",
       "    </tr>\n",
       "    <tr>\n",
       "      <th>dropoff_community_area</th>\n",
       "      <td>273862.0</td>\n",
       "      <td>22.582783</td>\n",
       "      <td>17.911476</td>\n",
       "      <td>1.00</td>\n",
       "      <td>8.0</td>\n",
       "      <td>24.00</td>\n",
       "      <td>32.00</td>\n",
       "      <td>77.0</td>\n",
       "    </tr>\n",
       "    <tr>\n",
       "      <th>trip_hours</th>\n",
       "      <td>273862.0</td>\n",
       "      <td>0.248034</td>\n",
       "      <td>0.236760</td>\n",
       "      <td>0.02</td>\n",
       "      <td>0.1</td>\n",
       "      <td>0.17</td>\n",
       "      <td>0.28</td>\n",
       "      <td>2.0</td>\n",
       "    </tr>\n",
       "    <tr>\n",
       "      <th>trip_speed</th>\n",
       "      <td>273862.0</td>\n",
       "      <td>13.577049</td>\n",
       "      <td>8.706641</td>\n",
       "      <td>0.02</td>\n",
       "      <td>8.0</td>\n",
       "      <td>11.00</td>\n",
       "      <td>16.67</td>\n",
       "      <td>70.0</td>\n",
       "    </tr>\n",
       "    <tr>\n",
       "      <th>dayofweek</th>\n",
       "      <td>273862.0</td>\n",
       "      <td>0.754581</td>\n",
       "      <td>0.430336</td>\n",
       "      <td>0.00</td>\n",
       "      <td>1.0</td>\n",
       "      <td>1.00</td>\n",
       "      <td>1.00</td>\n",
       "      <td>1.0</td>\n",
       "    </tr>\n",
       "    <tr>\n",
       "      <th>hour</th>\n",
       "      <td>273862.0</td>\n",
       "      <td>0.833518</td>\n",
       "      <td>0.372513</td>\n",
       "      <td>0.00</td>\n",
       "      <td>1.0</td>\n",
       "      <td>1.00</td>\n",
       "      <td>1.00</td>\n",
       "      <td>1.0</td>\n",
       "    </tr>\n",
       "  </tbody>\n",
       "</table>\n",
       "</div>"
      ],
      "text/plain": [
       "                           count        mean         std    min    25%  \\\n",
       "trip_seconds            273862.0  892.965694  852.294942  60.00  360.0   \n",
       "trip_miles              273862.0    4.073097    5.544775   0.01    0.9   \n",
       "trip_total              273862.0   17.089971   17.291648   3.01    7.5   \n",
       "payment_type            273862.0    0.495228    0.499978   0.00    0.0   \n",
       "pickup_community_area   273862.0   25.482236   20.406290   1.00    8.0   \n",
       "dropoff_community_area  273862.0   22.582783   17.911476   1.00    8.0   \n",
       "trip_hours              273862.0    0.248034    0.236760   0.02    0.1   \n",
       "trip_speed              273862.0   13.577049    8.706641   0.02    8.0   \n",
       "dayofweek               273862.0    0.754581    0.430336   0.00    1.0   \n",
       "hour                    273862.0    0.833518    0.372513   0.00    1.0   \n",
       "\n",
       "                           50%      75%     max  \n",
       "trip_seconds            599.00  1020.00  7206.0  \n",
       "trip_miles                1.50     4.00    71.5  \n",
       "trip_total               10.00    17.10  3030.3  \n",
       "payment_type              0.00     1.00     1.0  \n",
       "pickup_community_area    28.00    32.00    77.0  \n",
       "dropoff_community_area   24.00    32.00    77.0  \n",
       "trip_hours                0.17     0.28     2.0  \n",
       "trip_speed               11.00    16.67    70.0  \n",
       "dayofweek                 1.00     1.00     1.0  \n",
       "hour                      1.00     1.00     1.0  "
      ]
     },
     "execution_count": 127,
     "metadata": {},
     "output_type": "execute_result"
    }
   ],
   "source": [
    "df.describe().T"
   ]
  },
  {
   "cell_type": "markdown",
   "id": "6b8cb6c3-2c13-4e5b-91b8-972927a7436a",
   "metadata": {},
   "source": [
    "## Divide the data in Train and Test sets\n",
    "\n",
    "Split the preprocessed dataset into train and test sets so that the linear regression model can be validated on the test set."
   ]
  },
  {
   "cell_type": "code",
   "execution_count": 39,
   "id": "0341ab82-f060-4ce0-8a16-6a2eafac7261",
   "metadata": {},
   "outputs": [
    {
     "data": {
      "text/plain": [
       "((205395, 8), (68466, 8))"
      ]
     },
     "execution_count": 39,
     "metadata": {},
     "output_type": "execute_result"
    }
   ],
   "source": [
    "cols = ['trip_seconds', 'trip_miles', 'payment_type','pickup_community_area',\n",
    "             'dropoff_community_area','dayofweek', 'hour','trip_speed']\n",
    "x = df[cols].copy()\n",
    "y = df[target].copy()\n",
    "\n",
    "## split the data into 75-25% ratio\n",
    "X_train, X_test, y_train, y_test = train_test_split(x, y, train_size=0.75, test_size=0.25, random_state=13)\n",
    "X_train.shape, X_test.shape"
   ]
  },
  {
   "cell_type": "markdown",
   "id": "dddf3409-a7b4-4fd8-9595-4116bbf7b9e7",
   "metadata": {},
   "source": [
    "## Fit a Simple Linear Regression model\n",
    "<a name=\"section-6\"></a>\n",
    "\n",
    "Fit a linear regression model using Sklearn's LinearRegression method on the train data."
   ]
  },
  {
   "cell_type": "code",
   "execution_count": 40,
   "id": "772f324f-0a45-4131-a19e-e1476e2be347",
   "metadata": {},
   "outputs": [
    {
     "data": {
      "text/plain": [
       "LinearRegression()"
      ]
     },
     "execution_count": 40,
     "metadata": {},
     "output_type": "execute_result"
    }
   ],
   "source": [
    "# Building the regression model\n",
    "reg = LinearRegression()\n",
    "reg.fit(X_train,y_train)"
   ]
  },
  {
   "cell_type": "markdown",
   "id": "48320b57-315e-4dec-9b32-d661e04f4cd5",
   "metadata": {},
   "source": [
    "Print the `R2 score` and `RMSE` values for the model on train and test sets."
   ]
  },
  {
   "cell_type": "code",
   "execution_count": 41,
   "id": "58ff7319-de28-401c-914c-5d1f72621125",
   "metadata": {},
   "outputs": [
    {
     "name": "stdout",
     "output_type": "stream",
     "text": [
      "Train R2-score: 0.934937407792465 Train RMSE: 4.156837818607167\n",
      "Test R2-score: 0.9353978031623289 Test RMSE: 4.150444740081971\n"
     ]
    }
   ],
   "source": [
    "## print test R2 score\n",
    "y_train_pred = reg.predict(X_train)\n",
    "train_score = r2_score(y_train, y_train_pred)\n",
    "train_rmse = mean_squared_error(y_train, y_train_pred, squared=False)\n",
    "y_test_pred = reg.predict(X_test)\n",
    "test_score = r2_score(y_test, y_test_pred)\n",
    "test_rmse = mean_squared_error(y_test, y_test_pred, squared=False)\n",
    "print (\"Train R2-score:\",train_score,\"Train RMSE:\",train_rmse)\n",
    "print (\"Test R2-score:\",test_score,\"Test RMSE:\",test_rmse)"
   ]
  },
  {
   "cell_type": "markdown",
   "id": "527d97f1-764a-4317-938d-643721b2ce39",
   "metadata": {},
   "source": [
    "A low RMSE error and a train and test R2 score of 0.93 suggests that the model has fitted well on the data. Further, the coefficients learned by the model for each of its independent variables can also be checked by checking the `coef_` attribute of the sklearn model. \n",
    "\n",
    "Check the coefficients learned by the model."
   ]
  },
  {
   "cell_type": "code",
   "execution_count": 42,
   "id": "929cd1ae-cbc5-4445-a7a3-897564af681e",
   "metadata": {},
   "outputs": [
    {
     "data": {
      "text/plain": [
       "<AxesSubplot:xlabel='col'>"
      ]
     },
     "execution_count": 42,
     "metadata": {},
     "output_type": "execute_result"
    },
    {
     "data": {
      "image/png": "[encoded data removed]",
      "text/plain": [
       "<Figure size 432x288 with 1 Axes>"
      ]
     },
     "metadata": {
      "needs_background": "light"
     },
     "output_type": "display_data"
    }
   ],
   "source": [
    "coef_df = pd.DataFrame({\"col\":cols, \"coeff\":reg.coef_})\n",
    "coef_df.set_index(\"col\").plot(kind='bar')"
   ]
  },
  {
   "cell_type": "markdown",
   "id": "b1b2b529-ebf5-4fb5-acb0-bbf3519d914e",
   "metadata": {},
   "source": [
    "## Save the model and upload to a GCS bucket.\n",
    "<a name=\"section-7\"></a>\n",
    "\n",
    "To deploy the model on Vertex-AI, the model needs to be stored in a cloud storage bucket first."
   ]
  },
  {
   "cell_type": "code",
   "execution_count": 140,
   "id": "94cd1e50-9dbe-4e16-b63e-d002a7c38c33",
   "metadata": {},
   "outputs": [],
   "source": [
    "import joblib\n",
    "from google.cloud import storage\n",
    "\n",
    "FILE_NAME = \"model.joblib\"\n",
    "joblib.dump(reg, FILE_NAME)\n",
    "\n",
    "# Upload the saved model file to Cloud Storage\n",
    "BLOB_PATH = \"taxicab_fare_prediction/\"\n",
    "\n",
    "BLOB_NAME = BLOB_PATH + FILE_NAME\n",
    "\n",
    "bucket = storage.Client().bucket(BUCKET_NAME)\n",
    "blob = bucket.blob(BLOB_NAME)\n",
    "blob.upload_from_filename(FILE_NAME)"
   ]
  },
  {
   "cell_type": "markdown",
   "id": "6bbfa0fb-5f05-439c-ab03-bb979fbf4b5d",
   "metadata": {},
   "source": [
    "## Deploy the Model on Vertex-AI with support for Explanations\n",
    "<a name=\"section-8\"></a>\n",
    "\n",
    "Configure the explanations before deploying the model. For further details, see [Configuring explanations in Vertex AI models](https://cloud.google.com/vertex-ai/docs/explainable-ai/configuring-explanations#scikit-learn-and-xgboost-pre-built-containers)."
   ]
  },
  {
   "cell_type": "code",
   "execution_count": 142,
   "id": "72871c13-380f-43f1-9876-84a6d2cb1e7f",
   "metadata": {},
   "outputs": [],
   "source": [
    "MODEL_DISPLAY_NAME = \"taxi_fare_prediction_model\"\n",
    "ARTIFACT_GCS_PATH = f\"gs://{BUCKET_NAME}/{BLOB_PATH}\"\n",
    "\n",
    "# Feature-name(Inp_feature) and Output-name(Model_output) can be arbitrary\n",
    "exp_metadata = {\"inputs\": {\"Input_feature\": {}}, \"outputs\": {\"Predicted_taxi_fare\": {}}}"
   ]
  },
  {
   "cell_type": "markdown",
   "id": "2019c01d-8888-4a95-aaf9-ae3c07a2b2bb",
   "metadata": {},
   "source": [
    "Create a model resource from the uploaded model with explanation metadata configured."
   ]
  },
  {
   "cell_type": "code",
   "execution_count": null,
   "id": "b728b4a9-63a7-40cd-8674-50ca63175d0b",
   "metadata": {},
   "outputs": [
    {
     "name": "stdout",
     "output_type": "stream",
     "text": [
      "INFO:google.cloud.aiplatform.models:Creating Model\n",
      "INFO:google.cloud.aiplatform.models:Create Model backing LRO: projects/931647533046/locations/us-central1/models/8770694303606374400/operations/1619333306317275136\n",
      "INFO:google.cloud.aiplatform.models:Model created. Resource name: projects/931647533046/locations/us-central1/models/8770694303606374400\n",
      "INFO:google.cloud.aiplatform.models:To use this Model in another session:\n",
      "INFO:google.cloud.aiplatform.models:model = aiplatform.Model('projects/931647533046/locations/us-central1/models/8770694303606374400')\n",
      "taxi_fare_prediction_model\n",
      "projects/931647533046/locations/us-central1/models/8770694303606374400\n"
     ]
    }
   ],
   "source": [
    "from google.cloud import aiplatform\n",
    "from google.cloud.aiplatform_v1.types.explanation import ExplanationParameters\n",
    "from google.cloud.aiplatform_v1.types import SampledShapleyAttribution\n",
    "# Create a Vertex AI model resource with support for explanations\n",
    "\n",
    "aiplatform.init(project=PROJECT, location=LOCATION)\n",
    "\n",
    "model = aiplatform.Model.upload(\n",
    "    display_name=MODEL_DISPLAY_NAME,\n",
    "    artifact_uri=ARTIFACT_GCS_PATH,\n",
    "    serving_container_image_uri=\"us-docker.pkg.dev/vertex-ai/prediction/sklearn-cpu.0-24:latest\",\n",
    "    explanation_metadata=exp_metadata,\n",
    "explanation_parameters=ExplanationParameters(sampled_shapley_attribution=SampledShapleyAttribution(path_count=25))\n",
    ")\n",
    "\n",
    "model.wait()\n",
    "\n",
    "print(model.display_name)\n",
    "print(model.resource_name)"
   ]
  },
  {
   "cell_type": "markdown",
   "id": "cf234331-a014-42c5-bec4-3812c4cff2e7",
   "metadata": {},
   "source": [
    "Create an Endpoint resource for the model."
   ]
  },
  {
   "cell_type": "code",
   "execution_count": 198,
   "id": "63170257-ca6e-4902-9d78-20c3bce21251",
   "metadata": {},
   "outputs": [
    {
     "name": "stdout",
     "output_type": "stream",
     "text": [
      "INFO:google.cloud.aiplatform.models:Creating Endpoint\n",
      "INFO:google.cloud.aiplatform.models:Create Endpoint backing LRO: projects/931647533046/locations/us-central1/endpoints/4735051223063855104/operations/6996631261397647360\n",
      "INFO:google.cloud.aiplatform.models:Endpoint created. Resource name: projects/931647533046/locations/us-central1/endpoints/4735051223063855104\n",
      "INFO:google.cloud.aiplatform.models:To use this Endpoint in another session:\n",
      "INFO:google.cloud.aiplatform.models:endpoint = aiplatform.Endpoint('projects/931647533046/locations/us-central1/endpoints/4735051223063855104')\n",
      "taxi_fare_prediction_endpoint\n",
      "projects/931647533046/locations/us-central1/endpoints/4735051223063855104\n"
     ]
    }
   ],
   "source": [
    "ENDPOINT_DISPLAY_NAME = \"taxi_fare_prediction_endpoint\"\n",
    "\n",
    "endpoint = aiplatform.Endpoint.create(\n",
    "    display_name=ENDPOINT_DISPLAY_NAME, project=PROJECT, location=LOCATION\n",
    ")\n",
    "\n",
    "print(endpoint.display_name)\n",
    "print(endpoint.resource_name)"
   ]
  },
  {
   "cell_type": "markdown",
   "id": "b705f472-1eac-41c6-9e79-6c51ecc95065",
   "metadata": {},
   "source": [
    "Save the Endpoint Id for inference."
   ]
  },
  {
   "cell_type": "code",
   "execution_count": 206,
   "id": "1340731e-cb7e-47e7-a79a-ecae7257a723",
   "metadata": {},
   "outputs": [],
   "source": [
    "ENDPOINT_ID = \"\""
   ]
  },
  {
   "cell_type": "markdown",
   "id": "cf8074b3-9509-4c66-a8d9-b80a2e11cfba",
   "metadata": {},
   "source": [
    "Deploy the model to the created endpoint with the required machine-type."
   ]
  },
  {
   "cell_type": "code",
   "execution_count": 199,
   "id": "351e08e2-5744-43e9-afa6-61613d1d23e1",
   "metadata": {},
   "outputs": [
    {
     "name": "stdout",
     "output_type": "stream",
     "text": [
      "INFO:google.cloud.aiplatform.models:Deploying model to Endpoint : projects/931647533046/locations/us-central1/endpoints/4735051223063855104\n",
      "INFO:google.cloud.aiplatform.models:Deploy Endpoint model backing LRO: projects/931647533046/locations/us-central1/endpoints/4735051223063855104/operations/5297648301972127744\n",
      "INFO:google.cloud.aiplatform.models:Endpoint model deployed. Resource name: projects/931647533046/locations/us-central1/endpoints/4735051223063855104\n",
      "taxi_fare_prediction_model\n",
      "projects/931647533046/locations/us-central1/models/8770694303606374400\n"
     ]
    }
   ],
   "source": [
    "DEPLOYED_MODEL_NAME = \"taxi_fare_prediction_deployment\"\n",
    "MACHINE_TYPE = \"n1-standard-2\"\n",
    "\n",
    "# deploy the model to the endpoint\n",
    "model.deploy(\n",
    "    endpoint=endpoint,\n",
    "    deployed_model_display_name=DEPLOYED_MODEL_NAME,\n",
    "    machine_type=MACHINE_TYPE,\n",
    ")\n",
    "\n",
    "model.wait()\n",
    "\n",
    "print(model.display_name)\n",
    "print(model.resource_name)"
   ]
  },
  {
   "cell_type": "markdown",
   "id": "6a52e3c8-633f-4d71-9962-5c647d349e64",
   "metadata": {
    "tags": []
   },
   "source": [
    "Save the ID of the deployed model. The ID of the deployed model can also checked using the `endpoint.list_models()` method."
   ]
  },
  {
   "cell_type": "code",
   "execution_count": 217,
   "id": "388c3afc-2e11-429e-a407-f4921c70b223",
   "metadata": {},
   "outputs": [],
   "source": [
    "DEPLOYED_MODEL_ID = \"\""
   ]
  },
  {
   "cell_type": "markdown",
   "id": "e331d5f6-0771-435f-9948-2515e08a431a",
   "metadata": {},
   "source": [
    "## Get explanations from the deployed model.\n",
    "<a name=\"section-9\"></a>\n",
    "\n",
    "For testing the deployed online model, select two instances from the test data as payload."
   ]
  },
  {
   "cell_type": "code",
   "execution_count": 201,
   "id": "5365b5ea-59bd-4b8b-8430-aedcbb71c559",
   "metadata": {},
   "outputs": [],
   "source": [
    "# format the top 2 test instances as the request's payload\n",
    "test_json = {\"instances\": [X_test.iloc[0].tolist(), X_test.iloc[1].tolist()]}"
   ]
  },
  {
   "cell_type": "markdown",
   "id": "d48f4853-1dac-4cff-a0ed-081620dd5281",
   "metadata": {},
   "source": [
    "Call the endpoint with the payload request and parse the response for explanations. The explanations consists of attributions on the independent variables used for training the model which are based on the configured attribution method. In this case, we've used the `Sampled Shapely` method which assigns credit for the outcome to each feature, and considers different permutations of the features. This method provides a sampling approximation of exact Shapley values. Further information on the attribution methods for explantions can be found at [Overview of ExplainableAI](https://cloud.google.com/vertex-ai/docs/explainable-ai/overview) page."
   ]
  },
  {
   "cell_type": "code",
   "execution_count": 208,
   "id": "ed850459-17c2-4e2e-877d-a09a64c45ac7",
   "metadata": {
    "scrolled": true,
    "tags": []
   },
   "outputs": [
    {
     "name": "stdout",
     "output_type": "stream",
     "text": [
      "##########Explanations##########\n",
      " explanation\n",
      "  attribution\n",
      "   baseline_output_value: 3.907447444588969\n",
      "   instance_output_value: 7.479390476970965\n",
      "   output_display_name: \n",
      "   approximation_error: 2.2577913122857465e-19\n",
      "   output_name: Predicted_taxi_fare\n",
      "   output_index: -1\n"
     ]
    },
    {
     "data": {
      "image/png": "[encoded data removed]",
      "text/plain": [
       "<Figure size 432x288 with 1 Axes>"
      ]
     },
     "metadata": {
      "needs_background": "light"
     },
     "output_type": "display_data"
    },
    {
     "name": "stdout",
     "output_type": "stream",
     "text": [
      " explanation\n",
      "  attribution\n",
      "   baseline_output_value: 3.907447444588969\n",
      "   instance_output_value: 7.553233762450805\n",
      "   output_display_name: \n",
      "   approximation_error: 8.490226225376406e-19\n",
      "   output_name: Predicted_taxi_fare\n",
      "   output_index: -1\n"
     ]
    },
    {
     "data": {
      "image/png": "[encoded data removed]",
      "text/plain": [
       "<Figure size 432x288 with 1 Axes>"
      ]
     },
     "metadata": {
      "needs_background": "light"
     },
     "output_type": "display_data"
    },
    {
     "name": "stdout",
     "output_type": "stream",
     "text": [
      "##########Predictions##########\n",
      "7.479390476970966\n",
      "7.553233762450805\n"
     ]
    }
   ],
   "source": [
    "features = X_train.columns.to_list()\n",
    "\n",
    "def plot_attributions(attrs):\n",
    "    \"\"\"\n",
    "    Function to plot the features and their attributions for an instance\n",
    "    \"\"\"\n",
    "    rows = {\"feature_name\": [], \"attribution\": []}\n",
    "    for i, val in enumerate(features):\n",
    "        rows[\"feature_name\"].append(val)\n",
    "        rows[\"attribution\"].append(attrs[\"Input_feature\"][i])\n",
    "    attr_df = pd.DataFrame(rows).set_index(\"feature_name\")\n",
    "    attr_df.plot(kind=\"bar\")\n",
    "    plt.show()\n",
    "    return\n",
    "\n",
    "\n",
    "def explain_tabular_sample(\n",
    "    project: str, location: str, endpoint_id: str, instances: list\n",
    "):\n",
    "    \"\"\"\n",
    "    Function to make an explanation request for the specified payload and generate feature attribution plots\n",
    "    \"\"\"\n",
    "    aiplatform.init(project=project, location=location)\n",
    "\n",
    "    endpoint = aiplatform.Endpoint(endpoint_id)\n",
    "\n",
    "    response = endpoint.explain(instances=instances)\n",
    "    print(\"#\" * 10 + \"Explanations\" + \"#\" * 10)\n",
    "    for explanation in response.explanations:\n",
    "        print(\" explanation\")\n",
    "        # Feature attributions.\n",
    "        attributions = explanation.attributions\n",
    "\n",
    "        for attribution in attributions:\n",
    "            print(\"  attribution\")\n",
    "            print(\"   baseline_output_value:\", attribution.baseline_output_value)\n",
    "            print(\"   instance_output_value:\", attribution.instance_output_value)\n",
    "            print(\"   output_display_name:\", attribution.output_display_name)\n",
    "            print(\"   approximation_error:\", attribution.approximation_error)\n",
    "            print(\"   output_name:\", attribution.output_name)\n",
    "            output_index = attribution.output_index\n",
    "            for output_index in output_index:\n",
    "                print(\"   output_index:\", output_index)\n",
    "\n",
    "            plot_attributions(attribution.feature_attributions)\n",
    "\n",
    "    print(\"#\" * 10 + \"Predictions\" + \"#\" * 10)\n",
    "    for prediction in response.predictions:\n",
    "        print(prediction)\n",
    "\n",
    "    return response\n",
    "\n",
    "\n",
    "test_json = [X_test.iloc[0].tolist(), X_test.iloc[1].tolist()]\n",
    "prediction = explain_tabular_sample(PROJECT, LOCATION, ENDPOINT_ID, test_json)"
   ]
  },
  {
   "cell_type": "markdown",
   "id": "bf0ba249-b6f7-4647-ae77-7e7723102663",
   "metadata": {},
   "source": [
    "## Next Steps\n",
    "\n",
    "The Chicago-Taxicab dataset is continuously updating so the same kind of analysis and model training can be applied every time a new set of data is available. The date range can also be increased from a week to a month or more depending on the quality of data. Most of the\n",
    "steps in this notebook can be applied to new data unless the data is too noisy. Therefore, any new data needs to be checked for outliers, edge cases, etc. The model needs to be prepared for unknown outliers, missing data, or any other conditions that are too complex to learn.\n",
    "The notebook can also be scheduled to run at the specified times to retrain the model using the scheduling option of the [Vertex-AI workbench's Executor feature](https://console.cloud.google.com/vertex-ai/workbench/list/executions)."
   ]
  },
  {
   "cell_type": "markdown",
   "id": "42e7eec9-9e07-436b-913c-f84be567f3ed",
   "metadata": {},
   "source": [
    "## Clean Up\n",
    "<a name=\"section-10\"></a>\n",
    "\n",
    "Delete the resources created in this notebook.\n",
    "\n",
    "Undeploy the model by specifying the `DEPLOYED_MODEL_ID`."
   ]
  },
  {
   "cell_type": "code",
   "execution_count": 218,
   "id": "02d23121-32b8-4bf6-895a-b6dd6b5af978",
   "metadata": {},
   "outputs": [
    {
     "name": "stdout",
     "output_type": "stream",
     "text": [
      "INFO:google.cloud.aiplatform.models:Undeploying Endpoint model: projects/931647533046/locations/us-central1/endpoints/4735051223063855104\n",
      "INFO:google.cloud.aiplatform.models:Undeploy Endpoint model backing LRO: projects/931647533046/locations/us-central1/endpoints/4735051223063855104/operations/6792843378259132416\n",
      "INFO:google.cloud.aiplatform.models:Endpoint model undeployed. Resource name: projects/931647533046/locations/us-central1/endpoints/4735051223063855104\n"
     ]
    }
   ],
   "source": [
    "endpoint.undeploy(deployed_model_id=DEPLOYED_MODEL_ID)"
   ]
  },
  {
   "cell_type": "markdown",
   "id": "2f370fb2-df82-4930-b186-1fc6c6cffdc1",
   "metadata": {},
   "source": [
    "Delete the endpoint resource."
   ]
  },
  {
   "cell_type": "code",
   "execution_count": 219,
   "id": "6d69b899-4632-4451-8bdd-dc6c64677531",
   "metadata": {},
   "outputs": [
    {
     "name": "stdout",
     "output_type": "stream",
     "text": [
      "INFO:google.cloud.aiplatform.base:Deleting Endpoint : projects/931647533046/locations/us-central1/endpoints/4735051223063855104\n",
      "INFO:google.cloud.aiplatform.base:Delete Endpoint  backing LRO: projects/931647533046/locations/us-central1/operations/77976333849722880\n",
      "INFO:google.cloud.aiplatform.base:Endpoint deleted. . Resource name: projects/931647533046/locations/us-central1/endpoints/4735051223063855104\n"
     ]
    }
   ],
   "source": [
    "endpoint.delete()"
   ]
  },
  {
   "cell_type": "markdown",
   "id": "a8218efb-85ec-475b-90b5-5a190ceda27b",
   "metadata": {},
   "source": [
    "Delete the model resource."
   ]
  },
  {
   "cell_type": "code",
   "execution_count": 220,
   "id": "a67cc7a1-8899-4abf-a6bb-5a5d40e0f203",
   "metadata": {},
   "outputs": [
    {
     "name": "stdout",
     "output_type": "stream",
     "text": [
      "INFO:google.cloud.aiplatform.base:Deleting Model : projects/931647533046/locations/us-central1/models/8770694303606374400\n",
      "INFO:google.cloud.aiplatform.base:Delete Model  backing LRO: projects/931647533046/locations/us-central1/operations/920149464168005632\n",
      "INFO:google.cloud.aiplatform.base:Model deleted. . Resource name: projects/931647533046/locations/us-central1/models/8770694303606374400\n"
     ]
    }
   ],
   "source": [
    "model.delete()"
   ]
  },
  {
   "cell_type": "markdown",
   "id": "d209c73a-3961-4311-b63f-fb1ee43b061e",
   "metadata": {},
   "source": [
    "Remove the contents of the created Cloud Storage bucket."
   ]
  },
  {
   "cell_type": "code",
   "execution_count": 221,
   "id": "c304c078-bb86-4d32-b2cd-40e8a8ef9a63",
   "metadata": {},
   "outputs": [],
   "source": [
    "! gsutil -m rm -r $BUCKET_NAME"
   ]
  }
 ],
 "metadata": {
  "environment": {
   "kernel": "python3",
   "name": "managed-notebooks.m87",
   "type": "gcloud",
   "uri": "gcr.io/deeplearning-platform-release/base-cu110:latest"
  },
  "kernelspec": {
   "display_name": "Python (Local)",
   "language": "python",
   "name": "local-base"
  },
  "language_info": {
   "codemirror_mode": {
    "name": "ipython",
    "version": 3
   },
   "file_extension": ".py",
   "mimetype": "text/x-python",
   "name": "python",
   "nbconvert_exporter": "python",
   "pygments_lexer": "ipython3",
   "version": "3.7.12"
  }
 },
 "nbformat": 4,
 "nbformat_minor": 5
}
