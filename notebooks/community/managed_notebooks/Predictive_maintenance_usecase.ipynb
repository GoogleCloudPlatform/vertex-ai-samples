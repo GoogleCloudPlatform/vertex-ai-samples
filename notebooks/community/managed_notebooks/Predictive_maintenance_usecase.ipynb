{
 "cells": [
  {
   "cell_type": "markdown",
   "id": "dd1bf63e-8386-4b5c-a17d-2c750cf79746",
   "metadata": {},
   "source": [
    "# Predictive Maintenance \n",
    "## Table of contents\n",
    "* [Overview](#section-1)\n",
    "* [Dataset](#section-2)\n",
    "* [Objective](#section-3)\n",
    "* [Costs](#section-4)\n",
    "* [Data Analysis](#section-5)\n",
    "* [Fit a Regression model](#section-6)\n",
    "* [Evaluate the trained model](#section-7)\n",
    "* [Save the model](#section-8)\n",
    "* [Running a notebook end-to-end using **Executor**](#section-9)\n",
    "* [Hosting the model on Vertex AI](#section-10)\n",
    "   * [Create an Endpoint](#section-11)\n",
    "   * [Deploy the model to the created Endpoint](#section-12)\n",
    "   * [Test calling the endpoint](#section-13)\n",
    "* [Clean up](#section-14)\n",
    "\n",
    "\n",
    "## Overview\n",
    "<a name=\"section-1\"></a>\n",
    "This notebook demonstrates performing predictive maintenance on industrial data using machine learning techniques, deploying the machine learning model on Vertex-AI and automating the workflow using executor feature of Vertex-AI.\n",
    "\n",
    "<b>Note</b>: This notebook is designed to run on managed notebooks instance of Vertex AI Workbench. Some components of this notebook may not work in other notebook environments.\n",
    "\n",
    "## Dataset\n",
    "<a name=\"section-2\"></a>\n",
    "The dataset used in this notebook is a part of the [NASA Turbofan Engine Degradation Dataset](https://ti.arc.nasa.gov/tech/dash/groups/pcoe/prognostic-data-repository/) which consists of simulated time-series data for four sets of fleet-engines under different combinations of operational conditions and fault modes. In this notebook, only one of the engine's simulated data(FD001) has been considered to analyze and train a model that can predict the engine's remaining useful life.\n",
    "\n",
    "## Objective\n",
    "<a name=\"section-3\"></a>\n",
    "In this notebook :\n",
    "\n",
    "- Loading the required dataset from Cloud Storage bucket.\n",
    "- Analysizing the fields present in the dataset.\n",
    "- Selecting the required data for the predictive maintenance model.\n",
    "- Training an XGBoost regression model for predicting the remaining useful life.\n",
    "- Evaluating the model.\n",
    "- Running the notebook end-to-end as a training job using Executor.\n",
    "- Deploying the model on Vertex-AI.\n",
    "- Clean up.\n",
    "\n",
    "\n",
    "## Costs\n",
    "<a name=\"section-4\"></a>\n",
    "This tutorial uses the following billable components of Google Cloud:\n",
    "\n",
    "- Vertex AI\n",
    "- Cloud Storage\n",
    "\n",
    "Learn about [Vertex AI\n",
    "pricing](https://cloud.google.com/vertex-ai/pricing) and [Cloud Storage\n",
    "pricing](https://cloud.google.com/storage/pricing), and use the [Pricing\n",
    "Calculator](https://cloud.google.com/products/calculator/)\n",
    "to generate a cost estimate based on your projected usage."
   ]
  },
  {
   "cell_type": "markdown",
   "id": "69d0a049-890b-4b8b-8365-2df32c9cb224",
   "metadata": {},
   "source": [
    "## Kernel selection\n",
    "Select <b>XGBoost</b> kernel while running this notebook on Vertex-AIs managed instances or ensure that the following libraries are installed in the environment where this notebook is being run.\n",
    "- XGBoost\n",
    "- Pandas\n",
    "- Seaborn\n",
    "- Sklearn\n",
    "\n",
    "Along with the above libraries, the following google-cloud libraries are also used in this notebook.\n",
    "\n",
    "- google.cloud.aiplatform\n",
    "- google.cloud.storage\n",
    "\n",
    "## Set your project ID"
   ]
  },
  {
   "cell_type": "code",
   "execution_count": 1,
   "id": "47c0ea84-950f-47ae-99f4-26d513717e85",
   "metadata": {},
   "outputs": [],
   "source": [
    "PROJECT_ID = \"[your-project-id]\""
   ]
  },
  {
   "cell_type": "markdown",
   "id": "03a1fde7-c0d5-4b21-9fec-a67a40d163a6",
   "metadata": {},
   "source": [
    "#### Timestamp\n",
    "\n",
    "If you are in a live tutorial session, you might be using a shared test account or project. To avoid name collisions between users on resources created, you create a timestamp for each instance session, and append it onto the name of resources you create in this tutorial."
   ]
  },
  {
   "cell_type": "code",
   "execution_count": null,
   "id": "b06ff403-58af-4d8a-9eec-c3066dfada4f",
   "metadata": {},
   "outputs": [],
   "source": [
    "from datetime import datetime\n",
    "\n",
    "TIMESTAMP = datetime.now().strftime(\"%Y%m%d%H%M%S\")"
   ]
  },
  {
   "cell_type": "markdown",
   "id": "feb49945-6c14-49fa-92bd-53ab576e3fca",
   "metadata": {},
   "source": [
    "## Select or Create Cloud Storage Bucket for storing the model\n",
    "\n",
    "When you create a model resource on Vertex-AI using the Cloud SDK, you need to give a Cloud Storage bucket uri of the model where the model is stored. Using the model saved, you can then create Vertex AI model and endpoint resources in order to serve online predictions.\n",
    "\n",
    "Set the name of your Cloud Storage bucket below. It must be unique across all Cloud Storage buckets.You may also change the REGION variable, which is used for operations throughout the rest of this notebook. Make sure to choose a region where Vertex AI services are available."
   ]
  },
  {
   "cell_type": "code",
   "execution_count": 49,
   "id": "f8064f8f-b7dd-41f4-a763-09f4d7c45a77",
   "metadata": {},
   "outputs": [],
   "source": [
    "BUCKET_NAME = \"[your-bucket-name]\"\n",
    "BUCKET_URI = f\"gs://{BUCKET_NAME}\"\n",
    "REGION = \"us-central1\""
   ]
  },
  {
   "cell_type": "code",
   "execution_count": 47,
   "id": "8cbd8e18-3a4b-46ae-8f1a-f84a03d3f18b",
   "metadata": {},
   "outputs": [],
   "source": [
    "## Set a default bucketname in case bucket name is not given\n",
    "if BUCKET_NAME == \"\" or BUCKET_NAME is None :\n",
    "    from datetime import datetime\n",
    "    \n",
    "    TIMESTAMP = datetime.now().strftime(\"%Y%m%d%H%M%S\")\n",
    "    BUCKET_NAME =  PROJECT_ID + \"aip-\" + TIMESTAMP\n",
    "    BUCKET_URI = \"gs://\" +BUCKET_NAME"
   ]
  },
  {
   "cell_type": "markdown",
   "id": "2ca4db75-6d9e-4d8a-b606-11b299d86444",
   "metadata": {},
   "source": [
    "<b>Only if your bucket doesn't already exist</b>: Run the following cell to create your Cloud Storage bucket."
   ]
  },
  {
   "cell_type": "code",
   "execution_count": null,
   "id": "43f72a5a-d66b-49b6-8cea-1810cd8718b8",
   "metadata": {},
   "outputs": [],
   "source": [
    "! gsutil mb -l $REGION $BUCKET_NAME"
   ]
  },
  {
   "cell_type": "markdown",
   "id": "bc3e90e5-36a9-4185-8e42-d5aa47e9e099",
   "metadata": {},
   "source": [
    "Next, validate access to your Cloud Storage bucket by examining its contents:"
   ]
  },
  {
   "cell_type": "code",
   "execution_count": null,
   "id": "6ca5ede2-3738-4c2e-a07a-f4e97bc8c718",
   "metadata": {},
   "outputs": [],
   "source": [
    "! gsutil ls -al $BUCKET_NAME"
   ]
  },
  {
   "cell_type": "markdown",
   "id": "70e1f4df-2581-4054-aef6-82b608b28c42",
   "metadata": {},
   "source": [
    "## Import the required libraries"
   ]
  },
  {
   "cell_type": "code",
   "execution_count": 4,
   "id": "a733f45d",
   "metadata": {},
   "outputs": [],
   "source": [
    "## load the required libraries\n",
    "import pandas as pd\n",
    "import matplotlib.pyplot as plt\n",
    "%matplotlib inline\n",
    "import seaborn as sns\n",
    "import numpy as np\n",
    "\n",
    "from sklearn.model_selection import train_test_split\n",
    "from sklearn.metrics import r2_score, mean_squared_error\n",
    "import xgboost as xgb\n",
    "\n",
    "import os\n",
    "from google.cloud import storage\n",
    "from google.cloud import aiplatform"
   ]
  },
  {
   "cell_type": "markdown",
   "id": "0f954e77-70ca-440c-ba20-ffefa4235f02",
   "metadata": {},
   "source": [
    "Load the data and check the data shape."
   ]
  },
  {
   "cell_type": "code",
   "execution_count": 6,
   "id": "a6784c21",
   "metadata": {},
   "outputs": [
    {
     "name": "stdout",
     "output_type": "stream",
     "text": [
      "(20631, 28)\n"
     ]
    },
    {
     "data": {
      "text/html": [
       "<div>\n",
       "<style scoped>\n",
       "    .dataframe tbody tr th:only-of-type {\n",
       "        vertical-align: middle;\n",
       "    }\n",
       "\n",
       "    .dataframe tbody tr th {\n",
       "        vertical-align: top;\n",
       "    }\n",
       "\n",
       "    .dataframe thead th {\n",
       "        text-align: right;\n",
       "    }\n",
       "</style>\n",
       "<table border=\"1\" class=\"dataframe\">\n",
       "  <thead>\n",
       "    <tr style=\"text-align: right;\">\n",
       "      <th></th>\n",
       "      <th>0</th>\n",
       "      <th>1</th>\n",
       "      <th>2</th>\n",
       "      <th>3</th>\n",
       "      <th>4</th>\n",
       "      <th>5</th>\n",
       "      <th>6</th>\n",
       "      <th>7</th>\n",
       "      <th>8</th>\n",
       "      <th>9</th>\n",
       "      <th>...</th>\n",
       "      <th>18</th>\n",
       "      <th>19</th>\n",
       "      <th>20</th>\n",
       "      <th>21</th>\n",
       "      <th>22</th>\n",
       "      <th>23</th>\n",
       "      <th>24</th>\n",
       "      <th>25</th>\n",
       "      <th>26</th>\n",
       "      <th>27</th>\n",
       "    </tr>\n",
       "  </thead>\n",
       "  <tbody>\n",
       "    <tr>\n",
       "      <th>0</th>\n",
       "      <td>1</td>\n",
       "      <td>1</td>\n",
       "      <td>-0.0007</td>\n",
       "      <td>-0.0004</td>\n",
       "      <td>100.0</td>\n",
       "      <td>518.67</td>\n",
       "      <td>641.82</td>\n",
       "      <td>1589.70</td>\n",
       "      <td>1400.60</td>\n",
       "      <td>14.62</td>\n",
       "      <td>...</td>\n",
       "      <td>8138.62</td>\n",
       "      <td>8.4195</td>\n",
       "      <td>0.03</td>\n",
       "      <td>392</td>\n",
       "      <td>2388</td>\n",
       "      <td>100.0</td>\n",
       "      <td>39.06</td>\n",
       "      <td>23.4190</td>\n",
       "      <td>NaN</td>\n",
       "      <td>NaN</td>\n",
       "    </tr>\n",
       "    <tr>\n",
       "      <th>1</th>\n",
       "      <td>1</td>\n",
       "      <td>2</td>\n",
       "      <td>0.0019</td>\n",
       "      <td>-0.0003</td>\n",
       "      <td>100.0</td>\n",
       "      <td>518.67</td>\n",
       "      <td>642.15</td>\n",
       "      <td>1591.82</td>\n",
       "      <td>1403.14</td>\n",
       "      <td>14.62</td>\n",
       "      <td>...</td>\n",
       "      <td>8131.49</td>\n",
       "      <td>8.4318</td>\n",
       "      <td>0.03</td>\n",
       "      <td>392</td>\n",
       "      <td>2388</td>\n",
       "      <td>100.0</td>\n",
       "      <td>39.00</td>\n",
       "      <td>23.4236</td>\n",
       "      <td>NaN</td>\n",
       "      <td>NaN</td>\n",
       "    </tr>\n",
       "    <tr>\n",
       "      <th>2</th>\n",
       "      <td>1</td>\n",
       "      <td>3</td>\n",
       "      <td>-0.0043</td>\n",
       "      <td>0.0003</td>\n",
       "      <td>100.0</td>\n",
       "      <td>518.67</td>\n",
       "      <td>642.35</td>\n",
       "      <td>1587.99</td>\n",
       "      <td>1404.20</td>\n",
       "      <td>14.62</td>\n",
       "      <td>...</td>\n",
       "      <td>8133.23</td>\n",
       "      <td>8.4178</td>\n",
       "      <td>0.03</td>\n",
       "      <td>390</td>\n",
       "      <td>2388</td>\n",
       "      <td>100.0</td>\n",
       "      <td>38.95</td>\n",
       "      <td>23.3442</td>\n",
       "      <td>NaN</td>\n",
       "      <td>NaN</td>\n",
       "    </tr>\n",
       "    <tr>\n",
       "      <th>3</th>\n",
       "      <td>1</td>\n",
       "      <td>4</td>\n",
       "      <td>0.0007</td>\n",
       "      <td>0.0000</td>\n",
       "      <td>100.0</td>\n",
       "      <td>518.67</td>\n",
       "      <td>642.35</td>\n",
       "      <td>1582.79</td>\n",
       "      <td>1401.87</td>\n",
       "      <td>14.62</td>\n",
       "      <td>...</td>\n",
       "      <td>8133.83</td>\n",
       "      <td>8.3682</td>\n",
       "      <td>0.03</td>\n",
       "      <td>392</td>\n",
       "      <td>2388</td>\n",
       "      <td>100.0</td>\n",
       "      <td>38.88</td>\n",
       "      <td>23.3739</td>\n",
       "      <td>NaN</td>\n",
       "      <td>NaN</td>\n",
       "    </tr>\n",
       "    <tr>\n",
       "      <th>4</th>\n",
       "      <td>1</td>\n",
       "      <td>5</td>\n",
       "      <td>-0.0019</td>\n",
       "      <td>-0.0002</td>\n",
       "      <td>100.0</td>\n",
       "      <td>518.67</td>\n",
       "      <td>642.37</td>\n",
       "      <td>1582.85</td>\n",
       "      <td>1406.22</td>\n",
       "      <td>14.62</td>\n",
       "      <td>...</td>\n",
       "      <td>8133.80</td>\n",
       "      <td>8.4294</td>\n",
       "      <td>0.03</td>\n",
       "      <td>393</td>\n",
       "      <td>2388</td>\n",
       "      <td>100.0</td>\n",
       "      <td>38.90</td>\n",
       "      <td>23.4044</td>\n",
       "      <td>NaN</td>\n",
       "      <td>NaN</td>\n",
       "    </tr>\n",
       "  </tbody>\n",
       "</table>\n",
       "<p>5 rows × 28 columns</p>\n",
       "</div>"
      ],
      "text/plain": [
       "   0   1       2       3      4       5       6        7        8      9   \\\n",
       "0   1   1 -0.0007 -0.0004  100.0  518.67  641.82  1589.70  1400.60  14.62   \n",
       "1   1   2  0.0019 -0.0003  100.0  518.67  642.15  1591.82  1403.14  14.62   \n",
       "2   1   3 -0.0043  0.0003  100.0  518.67  642.35  1587.99  1404.20  14.62   \n",
       "3   1   4  0.0007  0.0000  100.0  518.67  642.35  1582.79  1401.87  14.62   \n",
       "4   1   5 -0.0019 -0.0002  100.0  518.67  642.37  1582.85  1406.22  14.62   \n",
       "\n",
       "   ...       18      19    20   21    22     23     24       25  26  27  \n",
       "0  ...  8138.62  8.4195  0.03  392  2388  100.0  39.06  23.4190 NaN NaN  \n",
       "1  ...  8131.49  8.4318  0.03  392  2388  100.0  39.00  23.4236 NaN NaN  \n",
       "2  ...  8133.23  8.4178  0.03  390  2388  100.0  38.95  23.3442 NaN NaN  \n",
       "3  ...  8133.83  8.3682  0.03  392  2388  100.0  38.88  23.3739 NaN NaN  \n",
       "4  ...  8133.80  8.4294  0.03  393  2388  100.0  38.90  23.4044 NaN NaN  \n",
       "\n",
       "[5 rows x 28 columns]"
      ]
     },
     "execution_count": 6,
     "metadata": {},
     "output_type": "execute_result"
    }
   ],
   "source": [
    "## load the data from the source\n",
    "INPUT_PATH = 'gs://vertex_ai_managed_services_demo/mfg_predictive_maintenance/train_FD001.txt' # data source\n",
    "raw_data = pd.read_csv(INPUT_PATH, sep=' ', header = None)\n",
    "# check the data\n",
    "print (raw_data.shape)\n",
    "raw_data.head()"
   ]
  },
  {
   "cell_type": "markdown",
   "id": "d09267bf-cddf-48b2-83ab-06d084822d0c",
   "metadata": {},
   "source": [
    "The data itself doesn't contain any feature names and thus needs its columns to be re-named. The data source already provides us with some data description. Apparently, the <b>ID</b> column represents the unit-number of the fleet-engine and <b>Cycle</b> represents the time in cycles. <b>OpSet1</b>,<b>Opset2</b> & <b>Opset3</b> represent the three operational settings that are described in the original data source and have a substantial effect on engine performance. The rest of the fields show sensor readings collected from 21 different sensors."
   ]
  },
  {
   "cell_type": "code",
   "execution_count": 7,
   "id": "d1843c1c",
   "metadata": {},
   "outputs": [
    {
     "data": {
      "text/html": [
       "<div>\n",
       "<style scoped>\n",
       "    .dataframe tbody tr th:only-of-type {\n",
       "        vertical-align: middle;\n",
       "    }\n",
       "\n",
       "    .dataframe tbody tr th {\n",
       "        vertical-align: top;\n",
       "    }\n",
       "\n",
       "    .dataframe thead th {\n",
       "        text-align: right;\n",
       "    }\n",
       "</style>\n",
       "<table border=\"1\" class=\"dataframe\">\n",
       "  <thead>\n",
       "    <tr style=\"text-align: right;\">\n",
       "      <th></th>\n",
       "      <th>ID</th>\n",
       "      <th>Cycle</th>\n",
       "      <th>OpSet1</th>\n",
       "      <th>OpSet2</th>\n",
       "      <th>OpSet3</th>\n",
       "      <th>SensorMeasure1</th>\n",
       "      <th>SensorMeasure2</th>\n",
       "      <th>SensorMeasure3</th>\n",
       "      <th>SensorMeasure4</th>\n",
       "      <th>SensorMeasure5</th>\n",
       "      <th>...</th>\n",
       "      <th>SensorMeasure12</th>\n",
       "      <th>SensorMeasure13</th>\n",
       "      <th>SensorMeasure14</th>\n",
       "      <th>SensorMeasure15</th>\n",
       "      <th>SensorMeasure16</th>\n",
       "      <th>SensorMeasure17</th>\n",
       "      <th>SensorMeasure18</th>\n",
       "      <th>SensorMeasure19</th>\n",
       "      <th>SensorMeasure20</th>\n",
       "      <th>SensorMeasure21</th>\n",
       "    </tr>\n",
       "  </thead>\n",
       "  <tbody>\n",
       "    <tr>\n",
       "      <th>0</th>\n",
       "      <td>1</td>\n",
       "      <td>1</td>\n",
       "      <td>-0.0007</td>\n",
       "      <td>-0.0004</td>\n",
       "      <td>100.0</td>\n",
       "      <td>518.67</td>\n",
       "      <td>641.82</td>\n",
       "      <td>1589.70</td>\n",
       "      <td>1400.60</td>\n",
       "      <td>14.62</td>\n",
       "      <td>...</td>\n",
       "      <td>521.66</td>\n",
       "      <td>2388.02</td>\n",
       "      <td>8138.62</td>\n",
       "      <td>8.4195</td>\n",
       "      <td>0.03</td>\n",
       "      <td>392</td>\n",
       "      <td>2388</td>\n",
       "      <td>100.0</td>\n",
       "      <td>39.06</td>\n",
       "      <td>23.4190</td>\n",
       "    </tr>\n",
       "    <tr>\n",
       "      <th>1</th>\n",
       "      <td>1</td>\n",
       "      <td>2</td>\n",
       "      <td>0.0019</td>\n",
       "      <td>-0.0003</td>\n",
       "      <td>100.0</td>\n",
       "      <td>518.67</td>\n",
       "      <td>642.15</td>\n",
       "      <td>1591.82</td>\n",
       "      <td>1403.14</td>\n",
       "      <td>14.62</td>\n",
       "      <td>...</td>\n",
       "      <td>522.28</td>\n",
       "      <td>2388.07</td>\n",
       "      <td>8131.49</td>\n",
       "      <td>8.4318</td>\n",
       "      <td>0.03</td>\n",
       "      <td>392</td>\n",
       "      <td>2388</td>\n",
       "      <td>100.0</td>\n",
       "      <td>39.00</td>\n",
       "      <td>23.4236</td>\n",
       "    </tr>\n",
       "    <tr>\n",
       "      <th>2</th>\n",
       "      <td>1</td>\n",
       "      <td>3</td>\n",
       "      <td>-0.0043</td>\n",
       "      <td>0.0003</td>\n",
       "      <td>100.0</td>\n",
       "      <td>518.67</td>\n",
       "      <td>642.35</td>\n",
       "      <td>1587.99</td>\n",
       "      <td>1404.20</td>\n",
       "      <td>14.62</td>\n",
       "      <td>...</td>\n",
       "      <td>522.42</td>\n",
       "      <td>2388.03</td>\n",
       "      <td>8133.23</td>\n",
       "      <td>8.4178</td>\n",
       "      <td>0.03</td>\n",
       "      <td>390</td>\n",
       "      <td>2388</td>\n",
       "      <td>100.0</td>\n",
       "      <td>38.95</td>\n",
       "      <td>23.3442</td>\n",
       "    </tr>\n",
       "    <tr>\n",
       "      <th>3</th>\n",
       "      <td>1</td>\n",
       "      <td>4</td>\n",
       "      <td>0.0007</td>\n",
       "      <td>0.0000</td>\n",
       "      <td>100.0</td>\n",
       "      <td>518.67</td>\n",
       "      <td>642.35</td>\n",
       "      <td>1582.79</td>\n",
       "      <td>1401.87</td>\n",
       "      <td>14.62</td>\n",
       "      <td>...</td>\n",
       "      <td>522.86</td>\n",
       "      <td>2388.08</td>\n",
       "      <td>8133.83</td>\n",
       "      <td>8.3682</td>\n",
       "      <td>0.03</td>\n",
       "      <td>392</td>\n",
       "      <td>2388</td>\n",
       "      <td>100.0</td>\n",
       "      <td>38.88</td>\n",
       "      <td>23.3739</td>\n",
       "    </tr>\n",
       "    <tr>\n",
       "      <th>4</th>\n",
       "      <td>1</td>\n",
       "      <td>5</td>\n",
       "      <td>-0.0019</td>\n",
       "      <td>-0.0002</td>\n",
       "      <td>100.0</td>\n",
       "      <td>518.67</td>\n",
       "      <td>642.37</td>\n",
       "      <td>1582.85</td>\n",
       "      <td>1406.22</td>\n",
       "      <td>14.62</td>\n",
       "      <td>...</td>\n",
       "      <td>522.19</td>\n",
       "      <td>2388.04</td>\n",
       "      <td>8133.80</td>\n",
       "      <td>8.4294</td>\n",
       "      <td>0.03</td>\n",
       "      <td>393</td>\n",
       "      <td>2388</td>\n",
       "      <td>100.0</td>\n",
       "      <td>38.90</td>\n",
       "      <td>23.4044</td>\n",
       "    </tr>\n",
       "  </tbody>\n",
       "</table>\n",
       "<p>5 rows × 26 columns</p>\n",
       "</div>"
      ],
      "text/plain": [
       "   ID  Cycle  OpSet1  OpSet2  OpSet3  SensorMeasure1  SensorMeasure2  \\\n",
       "0   1      1 -0.0007 -0.0004   100.0          518.67          641.82   \n",
       "1   1      2  0.0019 -0.0003   100.0          518.67          642.15   \n",
       "2   1      3 -0.0043  0.0003   100.0          518.67          642.35   \n",
       "3   1      4  0.0007  0.0000   100.0          518.67          642.35   \n",
       "4   1      5 -0.0019 -0.0002   100.0          518.67          642.37   \n",
       "\n",
       "   SensorMeasure3  SensorMeasure4  SensorMeasure5  ...  SensorMeasure12  \\\n",
       "0         1589.70         1400.60           14.62  ...           521.66   \n",
       "1         1591.82         1403.14           14.62  ...           522.28   \n",
       "2         1587.99         1404.20           14.62  ...           522.42   \n",
       "3         1582.79         1401.87           14.62  ...           522.86   \n",
       "4         1582.85         1406.22           14.62  ...           522.19   \n",
       "\n",
       "   SensorMeasure13  SensorMeasure14  SensorMeasure15  SensorMeasure16  \\\n",
       "0          2388.02          8138.62           8.4195             0.03   \n",
       "1          2388.07          8131.49           8.4318             0.03   \n",
       "2          2388.03          8133.23           8.4178             0.03   \n",
       "3          2388.08          8133.83           8.3682             0.03   \n",
       "4          2388.04          8133.80           8.4294             0.03   \n",
       "\n",
       "   SensorMeasure17  SensorMeasure18  SensorMeasure19  SensorMeasure20  \\\n",
       "0              392             2388            100.0            39.06   \n",
       "1              392             2388            100.0            39.00   \n",
       "2              390             2388            100.0            38.95   \n",
       "3              392             2388            100.0            38.88   \n",
       "4              393             2388            100.0            38.90   \n",
       "\n",
       "   SensorMeasure21  \n",
       "0          23.4190  \n",
       "1          23.4236  \n",
       "2          23.3442  \n",
       "3          23.3739  \n",
       "4          23.4044  \n",
       "\n",
       "[5 rows x 26 columns]"
      ]
     },
     "execution_count": 7,
     "metadata": {},
     "output_type": "execute_result"
    }
   ],
   "source": [
    "## name the columns (based on the original data source page)\n",
    "raw_data = raw_data[[f for f in range(0,26)]]\n",
    "raw_data.columns = ['ID', 'Cycle', 'OpSet1', 'OpSet2', 'OpSet3', 'SensorMeasure1', 'SensorMeasure2', 'SensorMeasure3', 'SensorMeasure4', 'SensorMeasure5', 'SensorMeasure6', 'SensorMeasure7', 'SensorMeasure8', 'SensorMeasure9', 'SensorMeasure10', 'SensorMeasure11', 'SensorMeasure12', 'SensorMeasure13', 'SensorMeasure14', 'SensorMeasure15', 'SensorMeasure16', 'SensorMeasure17', 'SensorMeasure18', 'SensorMeasure19', 'SensorMeasure20', 'SensorMeasure21']\n",
    "raw_data.head()"
   ]
  },
  {
   "cell_type": "markdown",
   "id": "aaab311f-404a-42a2-85e2-42c515882836",
   "metadata": {},
   "source": [
    "## Data Analysis\n",
    "<a name=\"section-5\"></a>\n",
    "The current dataset consists of timeseries data for various unit IDs. The data is represented in terms of cycles. Lets first see the distribution of number of cycles across the units."
   ]
  },
  {
   "cell_type": "code",
   "execution_count": 8,
   "id": "3e3c9651",
   "metadata": {},
   "outputs": [
    {
     "data": {
      "text/plain": [
       "<AxesSubplot:xlabel='ID'>"
      ]
     },
     "execution_count": 8,
     "metadata": {},
     "output_type": "execute_result"
    },
    {
     "data": {
      "image/png": "[encoded data removed]",
      "text/plain": [
       "<Figure size 864x360 with 1 Axes>"
      ]
     },
     "metadata": {
      "needs_background": "light"
     },
     "output_type": "display_data"
    }
   ],
   "source": [
    "## plot the cycle count for each IDs\n",
    "raw_data[['ID','Cycle']].groupby(by=['ID']).count().plot(kind='bar',figsize=(12,5))"
   ]
  },
  {
   "cell_type": "markdown",
   "id": "b85e4206-44f8-4805-b246-4a316095e10b",
   "metadata": {},
   "source": [
    "On an average, there seems to be around 225 cycles per each ID in the dataset. Further, lets check the data-types of the fields and the number of null records in the data."
   ]
  },
  {
   "cell_type": "code",
   "execution_count": 9,
   "id": "84d8b737",
   "metadata": {},
   "outputs": [
    {
     "name": "stdout",
     "output_type": "stream",
     "text": [
      "<class 'pandas.core.frame.DataFrame'>\n",
      "RangeIndex: 20631 entries, 0 to 20630\n",
      "Data columns (total 26 columns):\n",
      " #   Column           Non-Null Count  Dtype  \n",
      "---  ------           --------------  -----  \n",
      " 0   ID               20631 non-null  int64  \n",
      " 1   Cycle            20631 non-null  int64  \n",
      " 2   OpSet1           20631 non-null  float64\n",
      " 3   OpSet2           20631 non-null  float64\n",
      " 4   OpSet3           20631 non-null  float64\n",
      " 5   SensorMeasure1   20631 non-null  float64\n",
      " 6   SensorMeasure2   20631 non-null  float64\n",
      " 7   SensorMeasure3   20631 non-null  float64\n",
      " 8   SensorMeasure4   20631 non-null  float64\n",
      " 9   SensorMeasure5   20631 non-null  float64\n",
      " 10  SensorMeasure6   20631 non-null  float64\n",
      " 11  SensorMeasure7   20631 non-null  float64\n",
      " 12  SensorMeasure8   20631 non-null  float64\n",
      " 13  SensorMeasure9   20631 non-null  float64\n",
      " 14  SensorMeasure10  20631 non-null  float64\n",
      " 15  SensorMeasure11  20631 non-null  float64\n",
      " 16  SensorMeasure12  20631 non-null  float64\n",
      " 17  SensorMeasure13  20631 non-null  float64\n",
      " 18  SensorMeasure14  20631 non-null  float64\n",
      " 19  SensorMeasure15  20631 non-null  float64\n",
      " 20  SensorMeasure16  20631 non-null  float64\n",
      " 21  SensorMeasure17  20631 non-null  int64  \n",
      " 22  SensorMeasure18  20631 non-null  int64  \n",
      " 23  SensorMeasure19  20631 non-null  float64\n",
      " 24  SensorMeasure20  20631 non-null  float64\n",
      " 25  SensorMeasure21  20631 non-null  float64\n",
      "dtypes: float64(22), int64(4)\n",
      "memory usage: 4.1 MB\n"
     ]
    }
   ],
   "source": [
    "## check the data-types\n",
    "raw_data.info()"
   ]
  },
  {
   "cell_type": "markdown",
   "id": "33ddf59e-f02d-4018-a38c-2ff06ac718b3",
   "metadata": {},
   "source": [
    "The data doesn't have any null records or any categorical fields. Next, lets check the numerical distribution of the fields."
   ]
  },
  {
   "cell_type": "code",
   "execution_count": 10,
   "id": "68a7d964",
   "metadata": {},
   "outputs": [
    {
     "data": {
      "text/html": [
       "<div>\n",
       "<style scoped>\n",
       "    .dataframe tbody tr th:only-of-type {\n",
       "        vertical-align: middle;\n",
       "    }\n",
       "\n",
       "    .dataframe tbody tr th {\n",
       "        vertical-align: top;\n",
       "    }\n",
       "\n",
       "    .dataframe thead th {\n",
       "        text-align: right;\n",
       "    }\n",
       "</style>\n",
       "<table border=\"1\" class=\"dataframe\">\n",
       "  <thead>\n",
       "    <tr style=\"text-align: right;\">\n",
       "      <th></th>\n",
       "      <th>count</th>\n",
       "      <th>mean</th>\n",
       "      <th>std</th>\n",
       "      <th>min</th>\n",
       "      <th>25%</th>\n",
       "      <th>50%</th>\n",
       "      <th>75%</th>\n",
       "      <th>max</th>\n",
       "    </tr>\n",
       "  </thead>\n",
       "  <tbody>\n",
       "    <tr>\n",
       "      <th>ID</th>\n",
       "      <td>20631.0</td>\n",
       "      <td>51.506568</td>\n",
       "      <td>2.922763e+01</td>\n",
       "      <td>1.0000</td>\n",
       "      <td>26.0000</td>\n",
       "      <td>52.0000</td>\n",
       "      <td>77.0000</td>\n",
       "      <td>100.0000</td>\n",
       "    </tr>\n",
       "    <tr>\n",
       "      <th>Cycle</th>\n",
       "      <td>20631.0</td>\n",
       "      <td>108.807862</td>\n",
       "      <td>6.888099e+01</td>\n",
       "      <td>1.0000</td>\n",
       "      <td>52.0000</td>\n",
       "      <td>104.0000</td>\n",
       "      <td>156.0000</td>\n",
       "      <td>362.0000</td>\n",
       "    </tr>\n",
       "    <tr>\n",
       "      <th>OpSet1</th>\n",
       "      <td>20631.0</td>\n",
       "      <td>-0.000009</td>\n",
       "      <td>2.187313e-03</td>\n",
       "      <td>-0.0087</td>\n",
       "      <td>-0.0015</td>\n",
       "      <td>0.0000</td>\n",
       "      <td>0.0015</td>\n",
       "      <td>0.0087</td>\n",
       "    </tr>\n",
       "    <tr>\n",
       "      <th>OpSet2</th>\n",
       "      <td>20631.0</td>\n",
       "      <td>0.000002</td>\n",
       "      <td>2.930621e-04</td>\n",
       "      <td>-0.0006</td>\n",
       "      <td>-0.0002</td>\n",
       "      <td>0.0000</td>\n",
       "      <td>0.0003</td>\n",
       "      <td>0.0006</td>\n",
       "    </tr>\n",
       "    <tr>\n",
       "      <th>OpSet3</th>\n",
       "      <td>20631.0</td>\n",
       "      <td>100.000000</td>\n",
       "      <td>0.000000e+00</td>\n",
       "      <td>100.0000</td>\n",
       "      <td>100.0000</td>\n",
       "      <td>100.0000</td>\n",
       "      <td>100.0000</td>\n",
       "      <td>100.0000</td>\n",
       "    </tr>\n",
       "    <tr>\n",
       "      <th>SensorMeasure1</th>\n",
       "      <td>20631.0</td>\n",
       "      <td>518.670000</td>\n",
       "      <td>6.537152e-11</td>\n",
       "      <td>518.6700</td>\n",
       "      <td>518.6700</td>\n",
       "      <td>518.6700</td>\n",
       "      <td>518.6700</td>\n",
       "      <td>518.6700</td>\n",
       "    </tr>\n",
       "    <tr>\n",
       "      <th>SensorMeasure2</th>\n",
       "      <td>20631.0</td>\n",
       "      <td>642.680934</td>\n",
       "      <td>5.000533e-01</td>\n",
       "      <td>641.2100</td>\n",
       "      <td>642.3250</td>\n",
       "      <td>642.6400</td>\n",
       "      <td>643.0000</td>\n",
       "      <td>644.5300</td>\n",
       "    </tr>\n",
       "    <tr>\n",
       "      <th>SensorMeasure3</th>\n",
       "      <td>20631.0</td>\n",
       "      <td>1590.523119</td>\n",
       "      <td>6.131150e+00</td>\n",
       "      <td>1571.0400</td>\n",
       "      <td>1586.2600</td>\n",
       "      <td>1590.1000</td>\n",
       "      <td>1594.3800</td>\n",
       "      <td>1616.9100</td>\n",
       "    </tr>\n",
       "    <tr>\n",
       "      <th>SensorMeasure4</th>\n",
       "      <td>20631.0</td>\n",
       "      <td>1408.933782</td>\n",
       "      <td>9.000605e+00</td>\n",
       "      <td>1382.2500</td>\n",
       "      <td>1402.3600</td>\n",
       "      <td>1408.0400</td>\n",
       "      <td>1414.5550</td>\n",
       "      <td>1441.4900</td>\n",
       "    </tr>\n",
       "    <tr>\n",
       "      <th>SensorMeasure5</th>\n",
       "      <td>20631.0</td>\n",
       "      <td>14.620000</td>\n",
       "      <td>3.394700e-12</td>\n",
       "      <td>14.6200</td>\n",
       "      <td>14.6200</td>\n",
       "      <td>14.6200</td>\n",
       "      <td>14.6200</td>\n",
       "      <td>14.6200</td>\n",
       "    </tr>\n",
       "    <tr>\n",
       "      <th>SensorMeasure6</th>\n",
       "      <td>20631.0</td>\n",
       "      <td>21.609803</td>\n",
       "      <td>1.388985e-03</td>\n",
       "      <td>21.6000</td>\n",
       "      <td>21.6100</td>\n",
       "      <td>21.6100</td>\n",
       "      <td>21.6100</td>\n",
       "      <td>21.6100</td>\n",
       "    </tr>\n",
       "    <tr>\n",
       "      <th>SensorMeasure7</th>\n",
       "      <td>20631.0</td>\n",
       "      <td>553.367711</td>\n",
       "      <td>8.850923e-01</td>\n",
       "      <td>549.8500</td>\n",
       "      <td>552.8100</td>\n",
       "      <td>553.4400</td>\n",
       "      <td>554.0100</td>\n",
       "      <td>556.0600</td>\n",
       "    </tr>\n",
       "    <tr>\n",
       "      <th>SensorMeasure8</th>\n",
       "      <td>20631.0</td>\n",
       "      <td>2388.096652</td>\n",
       "      <td>7.098548e-02</td>\n",
       "      <td>2387.9000</td>\n",
       "      <td>2388.0500</td>\n",
       "      <td>2388.0900</td>\n",
       "      <td>2388.1400</td>\n",
       "      <td>2388.5600</td>\n",
       "    </tr>\n",
       "    <tr>\n",
       "      <th>SensorMeasure9</th>\n",
       "      <td>20631.0</td>\n",
       "      <td>9065.242941</td>\n",
       "      <td>2.208288e+01</td>\n",
       "      <td>9021.7300</td>\n",
       "      <td>9053.1000</td>\n",
       "      <td>9060.6600</td>\n",
       "      <td>9069.4200</td>\n",
       "      <td>9244.5900</td>\n",
       "    </tr>\n",
       "    <tr>\n",
       "      <th>SensorMeasure10</th>\n",
       "      <td>20631.0</td>\n",
       "      <td>1.300000</td>\n",
       "      <td>4.660829e-13</td>\n",
       "      <td>1.3000</td>\n",
       "      <td>1.3000</td>\n",
       "      <td>1.3000</td>\n",
       "      <td>1.3000</td>\n",
       "      <td>1.3000</td>\n",
       "    </tr>\n",
       "    <tr>\n",
       "      <th>SensorMeasure11</th>\n",
       "      <td>20631.0</td>\n",
       "      <td>47.541168</td>\n",
       "      <td>2.670874e-01</td>\n",
       "      <td>46.8500</td>\n",
       "      <td>47.3500</td>\n",
       "      <td>47.5100</td>\n",
       "      <td>47.7000</td>\n",
       "      <td>48.5300</td>\n",
       "    </tr>\n",
       "    <tr>\n",
       "      <th>SensorMeasure12</th>\n",
       "      <td>20631.0</td>\n",
       "      <td>521.413470</td>\n",
       "      <td>7.375534e-01</td>\n",
       "      <td>518.6900</td>\n",
       "      <td>520.9600</td>\n",
       "      <td>521.4800</td>\n",
       "      <td>521.9500</td>\n",
       "      <td>523.3800</td>\n",
       "    </tr>\n",
       "    <tr>\n",
       "      <th>SensorMeasure13</th>\n",
       "      <td>20631.0</td>\n",
       "      <td>2388.096152</td>\n",
       "      <td>7.191892e-02</td>\n",
       "      <td>2387.8800</td>\n",
       "      <td>2388.0400</td>\n",
       "      <td>2388.0900</td>\n",
       "      <td>2388.1400</td>\n",
       "      <td>2388.5600</td>\n",
       "    </tr>\n",
       "    <tr>\n",
       "      <th>SensorMeasure14</th>\n",
       "      <td>20631.0</td>\n",
       "      <td>8143.752722</td>\n",
       "      <td>1.907618e+01</td>\n",
       "      <td>8099.9400</td>\n",
       "      <td>8133.2450</td>\n",
       "      <td>8140.5400</td>\n",
       "      <td>8148.3100</td>\n",
       "      <td>8293.7200</td>\n",
       "    </tr>\n",
       "    <tr>\n",
       "      <th>SensorMeasure15</th>\n",
       "      <td>20631.0</td>\n",
       "      <td>8.442146</td>\n",
       "      <td>3.750504e-02</td>\n",
       "      <td>8.3249</td>\n",
       "      <td>8.4149</td>\n",
       "      <td>8.4389</td>\n",
       "      <td>8.4656</td>\n",
       "      <td>8.5848</td>\n",
       "    </tr>\n",
       "    <tr>\n",
       "      <th>SensorMeasure16</th>\n",
       "      <td>20631.0</td>\n",
       "      <td>0.030000</td>\n",
       "      <td>1.556432e-14</td>\n",
       "      <td>0.0300</td>\n",
       "      <td>0.0300</td>\n",
       "      <td>0.0300</td>\n",
       "      <td>0.0300</td>\n",
       "      <td>0.0300</td>\n",
       "    </tr>\n",
       "    <tr>\n",
       "      <th>SensorMeasure17</th>\n",
       "      <td>20631.0</td>\n",
       "      <td>393.210654</td>\n",
       "      <td>1.548763e+00</td>\n",
       "      <td>388.0000</td>\n",
       "      <td>392.0000</td>\n",
       "      <td>393.0000</td>\n",
       "      <td>394.0000</td>\n",
       "      <td>400.0000</td>\n",
       "    </tr>\n",
       "    <tr>\n",
       "      <th>SensorMeasure18</th>\n",
       "      <td>20631.0</td>\n",
       "      <td>2388.000000</td>\n",
       "      <td>0.000000e+00</td>\n",
       "      <td>2388.0000</td>\n",
       "      <td>2388.0000</td>\n",
       "      <td>2388.0000</td>\n",
       "      <td>2388.0000</td>\n",
       "      <td>2388.0000</td>\n",
       "    </tr>\n",
       "    <tr>\n",
       "      <th>SensorMeasure19</th>\n",
       "      <td>20631.0</td>\n",
       "      <td>100.000000</td>\n",
       "      <td>0.000000e+00</td>\n",
       "      <td>100.0000</td>\n",
       "      <td>100.0000</td>\n",
       "      <td>100.0000</td>\n",
       "      <td>100.0000</td>\n",
       "      <td>100.0000</td>\n",
       "    </tr>\n",
       "    <tr>\n",
       "      <th>SensorMeasure20</th>\n",
       "      <td>20631.0</td>\n",
       "      <td>38.816271</td>\n",
       "      <td>1.807464e-01</td>\n",
       "      <td>38.1400</td>\n",
       "      <td>38.7000</td>\n",
       "      <td>38.8300</td>\n",
       "      <td>38.9500</td>\n",
       "      <td>39.4300</td>\n",
       "    </tr>\n",
       "    <tr>\n",
       "      <th>SensorMeasure21</th>\n",
       "      <td>20631.0</td>\n",
       "      <td>23.289705</td>\n",
       "      <td>1.082509e-01</td>\n",
       "      <td>22.8942</td>\n",
       "      <td>23.2218</td>\n",
       "      <td>23.2979</td>\n",
       "      <td>23.3668</td>\n",
       "      <td>23.6184</td>\n",
       "    </tr>\n",
       "  </tbody>\n",
       "</table>\n",
       "</div>"
      ],
      "text/plain": [
       "                   count         mean           std        min        25%  \\\n",
       "ID               20631.0    51.506568  2.922763e+01     1.0000    26.0000   \n",
       "Cycle            20631.0   108.807862  6.888099e+01     1.0000    52.0000   \n",
       "OpSet1           20631.0    -0.000009  2.187313e-03    -0.0087    -0.0015   \n",
       "OpSet2           20631.0     0.000002  2.930621e-04    -0.0006    -0.0002   \n",
       "OpSet3           20631.0   100.000000  0.000000e+00   100.0000   100.0000   \n",
       "SensorMeasure1   20631.0   518.670000  6.537152e-11   518.6700   518.6700   \n",
       "SensorMeasure2   20631.0   642.680934  5.000533e-01   641.2100   642.3250   \n",
       "SensorMeasure3   20631.0  1590.523119  6.131150e+00  1571.0400  1586.2600   \n",
       "SensorMeasure4   20631.0  1408.933782  9.000605e+00  1382.2500  1402.3600   \n",
       "SensorMeasure5   20631.0    14.620000  3.394700e-12    14.6200    14.6200   \n",
       "SensorMeasure6   20631.0    21.609803  1.388985e-03    21.6000    21.6100   \n",
       "SensorMeasure7   20631.0   553.367711  8.850923e-01   549.8500   552.8100   \n",
       "SensorMeasure8   20631.0  2388.096652  7.098548e-02  2387.9000  2388.0500   \n",
       "SensorMeasure9   20631.0  9065.242941  2.208288e+01  9021.7300  9053.1000   \n",
       "SensorMeasure10  20631.0     1.300000  4.660829e-13     1.3000     1.3000   \n",
       "SensorMeasure11  20631.0    47.541168  2.670874e-01    46.8500    47.3500   \n",
       "SensorMeasure12  20631.0   521.413470  7.375534e-01   518.6900   520.9600   \n",
       "SensorMeasure13  20631.0  2388.096152  7.191892e-02  2387.8800  2388.0400   \n",
       "SensorMeasure14  20631.0  8143.752722  1.907618e+01  8099.9400  8133.2450   \n",
       "SensorMeasure15  20631.0     8.442146  3.750504e-02     8.3249     8.4149   \n",
       "SensorMeasure16  20631.0     0.030000  1.556432e-14     0.0300     0.0300   \n",
       "SensorMeasure17  20631.0   393.210654  1.548763e+00   388.0000   392.0000   \n",
       "SensorMeasure18  20631.0  2388.000000  0.000000e+00  2388.0000  2388.0000   \n",
       "SensorMeasure19  20631.0   100.000000  0.000000e+00   100.0000   100.0000   \n",
       "SensorMeasure20  20631.0    38.816271  1.807464e-01    38.1400    38.7000   \n",
       "SensorMeasure21  20631.0    23.289705  1.082509e-01    22.8942    23.2218   \n",
       "\n",
       "                       50%        75%        max  \n",
       "ID                 52.0000    77.0000   100.0000  \n",
       "Cycle             104.0000   156.0000   362.0000  \n",
       "OpSet1              0.0000     0.0015     0.0087  \n",
       "OpSet2              0.0000     0.0003     0.0006  \n",
       "OpSet3            100.0000   100.0000   100.0000  \n",
       "SensorMeasure1    518.6700   518.6700   518.6700  \n",
       "SensorMeasure2    642.6400   643.0000   644.5300  \n",
       "SensorMeasure3   1590.1000  1594.3800  1616.9100  \n",
       "SensorMeasure4   1408.0400  1414.5550  1441.4900  \n",
       "SensorMeasure5     14.6200    14.6200    14.6200  \n",
       "SensorMeasure6     21.6100    21.6100    21.6100  \n",
       "SensorMeasure7    553.4400   554.0100   556.0600  \n",
       "SensorMeasure8   2388.0900  2388.1400  2388.5600  \n",
       "SensorMeasure9   9060.6600  9069.4200  9244.5900  \n",
       "SensorMeasure10     1.3000     1.3000     1.3000  \n",
       "SensorMeasure11    47.5100    47.7000    48.5300  \n",
       "SensorMeasure12   521.4800   521.9500   523.3800  \n",
       "SensorMeasure13  2388.0900  2388.1400  2388.5600  \n",
       "SensorMeasure14  8140.5400  8148.3100  8293.7200  \n",
       "SensorMeasure15     8.4389     8.4656     8.5848  \n",
       "SensorMeasure16     0.0300     0.0300     0.0300  \n",
       "SensorMeasure17   393.0000   394.0000   400.0000  \n",
       "SensorMeasure18  2388.0000  2388.0000  2388.0000  \n",
       "SensorMeasure19   100.0000   100.0000   100.0000  \n",
       "SensorMeasure20    38.8300    38.9500    39.4300  \n",
       "SensorMeasure21    23.2979    23.3668    23.6184  "
      ]
     },
     "execution_count": 10,
     "metadata": {},
     "output_type": "execute_result"
    }
   ],
   "source": [
    "## check the numerical characteristics of the data\n",
    "raw_data.describe().T"
   ]
  },
  {
   "cell_type": "markdown",
   "id": "42d68273-3080-41f6-b77b-37977d8b403c",
   "metadata": {},
   "source": [
    "Features **OpSet3**, **SensorMeasure1**,**SensorMeasure10**, **SensorMeasure18** & **SensorMeasure19** seem to be constant throughout the dataset and thus can be eliminated. Apart from the fields that are constant throughout the data, fields that are correlated highly can also be considered for dropping. Having highly correlated fields in the data often leads to multi-collinearity situation which unnecessarily increases the size of feature-space even if it doesn't affect the accuracy much. Such fields can be identified through correlation-matrices and heatmaps."
   ]
  },
  {
   "cell_type": "code",
   "execution_count": 20,
   "id": "429a2e6e",
   "metadata": {},
   "outputs": [
    {
     "data": {
      "image/png": "[encoded data removed]",
      "text/plain": [
       "<Figure size 1080x720 with 2 Axes>"
      ]
     },
     "metadata": {
      "needs_background": "light"
     },
     "output_type": "display_data"
    }
   ],
   "source": [
    "## plot the correlation matrix\n",
    "plt.figure(figsize = (15,10))\n",
    "cols = [i for i in raw_data.columns if i not in ['ID','Cycle','OpSet3', 'SensorMeasure1',\n",
    "                                                 'SensorMeasure10', 'SensorMeasure18', 'SensorMeasure19'\n",
    "                                                ]]\n",
    "corr_mat = raw_data[cols].corr()\n",
    "matrix = np.triu(corr_mat)\n",
    "\n",
    "sns.heatmap(corr_mat,annot=True,mask=matrix,fmt='.1g')\n",
    "plt.show()"
   ]
  },
  {
   "cell_type": "markdown",
   "id": "97e2ec73-70b8-4c78-b4d0-622da75c8d93",
   "metadata": {},
   "source": [
    "Fields **SensorMeasure7**, **SensorMeasure12**, **SensorMeasure20** & **SensorMeasure21** correlate highly with many other fields. These fields can be omitted. Further, **SensorMeasure8**, **SensorMeasure11** and **SensorMeasure4** seem highly correlated with each other and so any one of them, say **SensorMeasure4** can be kept and the rest can be omitted."
   ]
  },
  {
   "cell_type": "code",
   "execution_count": 23,
   "id": "db50db2e-4a79-4492-9c4a-29db3ad9779e",
   "metadata": {},
   "outputs": [
    {
     "data": {
      "image/png": "[encoded data removed]",
      "text/plain": [
       "<Figure size 648x360 with 2 Axes>"
      ]
     },
     "metadata": {
      "needs_background": "light"
     },
     "output_type": "display_data"
    }
   ],
   "source": [
    "cols = [i for i in cols if i not in ['SensorMeasure7', 'SensorMeasure12', \n",
    "                                     'SensorMeasure20','SensorMeasure21', \n",
    "                                     'SensorMeasure8', 'SensorMeasure11']]\n",
    "corr_mat = raw_data[cols].corr()\n",
    "matrix = np.triu(corr_mat)\n",
    "plt.figure(figsize=(9,5))\n",
    "sns.heatmap(corr_mat,annot=True,mask=matrix,fmt='.1g')\n",
    "plt.show()"
   ]
  },
  {
   "cell_type": "markdown",
   "id": "bfac3d67-44b4-4f9a-956d-c1eb26b94a69",
   "metadata": {},
   "source": [
    "As the current objective is to predict the remaining useful life(RUL) of each unit(ID), the target variable needs to be identified. Since we're dealing with a timeseries data that represents the lifetime of a unit, remaining useful life of a unit can be calculated by subtracting the current cycle from the maximum cycle of that unit.\n",
    "\n",
    "\t\t\t\t\tRUL = Max. Cycle - Current Cycle    \n",
    "## RUL calculation and Feature selection"
   ]
  },
  {
   "cell_type": "code",
   "execution_count": 28,
   "id": "43292cef",
   "metadata": {},
   "outputs": [],
   "source": [
    "## get max-cycle of the ids\n",
    "cols = [\"ID\",\"Cycle\"]+cols \n",
    "max_cycles_df = raw_data.groupby(['ID'], sort=False)['Cycle'].max().reset_index().rename(columns={'Cycle':'MaxCycleID'})\n",
    "## merge back to original dataset\n",
    "FD001_df = pd.merge(raw_data, max_cycles_df, how='inner', on='ID')\n",
    "## calculate rul from max-cycle and current-cycle \n",
    "FD001_df['RUL'] = FD001_df['MaxCycleID'] - FD001_df['Cycle']"
   ]
  },
  {
   "cell_type": "markdown",
   "id": "28b22e01-86ad-46f2-bd89-22e4c7a0f2a1",
   "metadata": {},
   "source": [
    "To ensure that the target field is generated properly, the RUL field can be plotted."
   ]
  },
  {
   "cell_type": "code",
   "execution_count": 16,
   "id": "cc1db9c0-54c3-455a-89e1-2447fb7eba92",
   "metadata": {},
   "outputs": [
    {
     "data": {
      "image/png": "[encoded data removed]",
      "text/plain": [
       "<Figure size 432x288 with 1 Axes>"
      ]
     },
     "metadata": {
      "needs_background": "light"
     },
     "output_type": "display_data"
    }
   ],
   "source": [
    "# plot the RUL vs Cycles\n",
    "one_engine = []\n",
    "for i,r in FD001_df.iterrows():\n",
    "    rul = r['RUL']\n",
    "    one_engine.append(rul)\n",
    "    if rul == 0:\n",
    "        plt.plot(one_engine)\n",
    "        one_engine = []\n",
    "        \n",
    "plt.grid()"
   ]
  },
  {
   "cell_type": "markdown",
   "id": "ee3f8670-40ea-403c-88da-1e7be1b974a5",
   "metadata": {},
   "source": [
    "The above plot suggests that the RUL i.e., the remaining cycles is decreasing as the current cycle increases which is expected. Further, lets see the how the other fields relate to RUL in the current dataset."
   ]
  },
  {
   "cell_type": "code",
   "execution_count": null,
   "id": "4c9be253-b8cc-4363-b31f-4bc135dabd56",
   "metadata": {
    "scrolled": true,
    "tags": []
   },
   "outputs": [],
   "source": [
    "## plot feature vs the RUL\n",
    "def plot_feature(feature):\n",
    "    plt.figure(figsize=(10,5))\n",
    "    for i in FD001_df['ID'].unique():\n",
    "        if (i % 10 == 0):  # only plot every 10th ID\n",
    "            plt.plot('RUL', feature, data=FD001_df[FD001_df['ID']==i])\n",
    "    plt.xlim(250, 0)  # reverse the x-axis so RUL counts down to zero\n",
    "    plt.xticks(np.arange(0, 275, 25))\n",
    "    plt.ylabel(feature)\n",
    "    plt.xlabel('RUL')\n",
    "    plt.show()\n",
    "    \n",
    "for i in cols :\n",
    "    if i not in ['ID', 'Cycle']:\n",
    "        plot_feature(i)"
   ]
  },
  {
   "cell_type": "markdown",
   "id": "db2fc91f-18c4-4787-9def-5529dac38f60",
   "metadata": {
    "tags": []
   },
   "source": [
    "The following set of observations can be made from the outcome of the above cell :\n",
    "- Fields **SensorMeasure5** and **SensorMeasure16** don't show much variance with the RUL and seem constant all the time. Hence, they can be removed.\n",
    "- Fields **SensorMeasure2**, **SensorMeasure3**, **SensorMeasure4**, **SensorMeasure13**, **SensorMeasure15** & **SensorMeasure17** show a similar rising trend.\n",
    "- **SensorMeasure9** and **SensorMeasure14** show a similar trend.\n",
    "- **SensorMeasure6** shows flatline most of the time except at a very few places and therefore can be ignored."
   ]
  },
  {
   "cell_type": "code",
   "execution_count": 38,
   "id": "92b1ab39",
   "metadata": {},
   "outputs": [
    {
     "data": {
      "text/plain": [
       "['Cycle',\n",
       " 'OpSet1',\n",
       " 'OpSet2',\n",
       " 'SensorMeasure2',\n",
       " 'SensorMeasure3',\n",
       " 'SensorMeasure4',\n",
       " 'SensorMeasure9',\n",
       " 'SensorMeasure13',\n",
       " 'SensorMeasure14',\n",
       " 'SensorMeasure15',\n",
       " 'SensorMeasure17']"
      ]
     },
     "execution_count": 38,
     "metadata": {},
     "output_type": "execute_result"
    }
   ],
   "source": [
    "## remove the unnecessary fields\n",
    "cols = [i for i in cols if i not in ['ID', 'SensorMeasure5', 'SensorMeasure6', 'SensorMeasure16']]\n",
    "cols"
   ]
  },
  {
   "cell_type": "markdown",
   "id": "47b2cd26-306d-4cd7-8d80-9dded91e120f",
   "metadata": {},
   "source": [
    "## Split the data into Train and Test\n",
    "\n",
    "Divide the dataset with the selected features into train and test sets."
   ]
  },
  {
   "cell_type": "code",
   "execution_count": 39,
   "id": "924dbc82",
   "metadata": {},
   "outputs": [
    {
     "data": {
      "text/plain": [
       "((14441, 11), (14441,), (6190, 11), (6190,))"
      ]
     },
     "execution_count": 39,
     "metadata": {},
     "output_type": "execute_result"
    }
   ],
   "source": [
    "## split data into train and test\n",
    "X = FD001_df[cols].copy()\n",
    "y = FD001_df['RUL'].copy()\n",
    "\n",
    "## split the data into 70-30 ratio of train-test\n",
    "X_train, X_test, y_train, y_test = train_test_split(X, y, train_size=0.7, random_state=36)\n",
    "X_train.shape, y_train.shape, X_test.shape, y_test.shape"
   ]
  },
  {
   "cell_type": "markdown",
   "id": "75000a62-ee52-4d7a-a9b7-6785c0df5b24",
   "metadata": {},
   "source": [
    "## Fit a Regression model\n",
    "<a name=\"section-6\"></a>\n",
    "Initialize and train a regression model using XGBoost library with the calculated RUL as the target feature."
   ]
  },
  {
   "cell_type": "code",
   "execution_count": 40,
   "id": "838a97f1",
   "metadata": {},
   "outputs": [
    {
     "data": {
      "text/plain": [
       "XGBRegressor(base_score=0.5, booster='gbtree', colsample_bylevel=1,\n",
       "             colsample_bynode=1, colsample_bytree=1, gamma=0, gpu_id=-1,\n",
       "             importance_type='gain', interaction_constraints='',\n",
       "             learning_rate=0.300000012, max_delta_step=0, max_depth=6,\n",
       "             min_child_weight=1, missing=nan, monotone_constraints='()',\n",
       "             n_estimators=100, n_jobs=0, num_parallel_tree=1, random_state=0,\n",
       "             reg_alpha=0, reg_lambda=1, scale_pos_weight=1, subsample=1,\n",
       "             tree_method='exact', validate_parameters=1, verbosity=None)"
      ]
     },
     "execution_count": 40,
     "metadata": {},
     "output_type": "execute_result"
    }
   ],
   "source": [
    "model = xgb.XGBRegressor()\n",
    "model.fit(X_train, y_train)"
   ]
  },
  {
   "cell_type": "markdown",
   "id": "d55ea499-1e76-45b5-9c76-b09b14fc759f",
   "metadata": {},
   "source": [
    "## Evaluate the trained model\n",
    "<a name=\"section-7\"></a>\n",
    "\n",
    "Check the R2 scores of the model on train and test sets."
   ]
  },
  {
   "cell_type": "code",
   "execution_count": 41,
   "id": "f785846c",
   "metadata": {},
   "outputs": [
    {
     "name": "stdout",
     "output_type": "stream",
     "text": [
      "Train score: 0.880913287930797\n",
      "Test score: 0.7011615471434914\n"
     ]
    }
   ],
   "source": [
    "## print test R2 score\n",
    "y_train_pred = model.predict(X_train)\n",
    "train_score = r2_score(y_train, y_train_pred)\n",
    "y_test_pred = model.predict(X_test)\n",
    "test_score = r2_score(y_test, y_test_pred)\n",
    "print (\"Train score:\",train_score)\n",
    "print (\"Test score:\",test_score)"
   ]
  },
  {
   "cell_type": "markdown",
   "id": "8f40abb0-b23f-497c-9ef0-d08a5c2eed61",
   "metadata": {},
   "source": [
    "Check the RMSE errors on train and test sets."
   ]
  },
  {
   "cell_type": "code",
   "execution_count": 42,
   "id": "53ff1adc-1208-439b-8f95-bc1cebfad4a4",
   "metadata": {},
   "outputs": [
    {
     "name": "stdout",
     "output_type": "stream",
     "text": [
      "Train error: 23.80309418944036\n",
      "Test error: 37.52822238055519\n"
     ]
    }
   ],
   "source": [
    "## print train and test RMSEs\n",
    "train_error = mean_squared_error(y_train, y_train_pred, squared=False)\n",
    "test_error = mean_squared_error(y_test, y_test_pred, squared=False)\n",
    "print (\"Train error:\",train_error)\n",
    "print (\"Test error:\",test_error)"
   ]
  },
  {
   "cell_type": "markdown",
   "id": "62c278f1-9c97-4bbf-adaf-e7f496271a37",
   "metadata": {},
   "source": [
    "Plot the predicted values against the target values. The closer the plot to a straight line passing through origin with a unit slope, the better the model. "
   ]
  },
  {
   "cell_type": "code",
   "execution_count": 24,
   "id": "81b63a1f",
   "metadata": {},
   "outputs": [
    {
     "data": {
      "image/png": "[encoded data removed]",
      "text/plain": [
       "<Figure size 432x288 with 1 Axes>"
      ]
     },
     "metadata": {
      "needs_background": "light"
     },
     "output_type": "display_data"
    },
    {
     "data": {
      "image/png": "[encoded data removed]",
      "text/plain": [
       "<Figure size 432x288 with 1 Axes>"
      ]
     },
     "metadata": {
      "needs_background": "light"
     },
     "output_type": "display_data"
    }
   ],
   "source": [
    "## plot the train and test predictions\n",
    "plt.scatter(y_train,y_train_pred)\n",
    "plt.xlabel('Target')\n",
    "plt.ylabel('Prediction')\n",
    "plt.title('Train')\n",
    "plt.show()\n",
    "plt.scatter(y_test,y_test_pred)\n",
    "plt.xlabel('Target')\n",
    "plt.ylabel('Prediction')\n",
    "plt.title('Test')\n",
    "plt.show()"
   ]
  },
  {
   "cell_type": "markdown",
   "id": "af49c092-233e-46fa-9ee9-bb80071ee479",
   "metadata": {},
   "source": [
    "## Save the model\n",
    "<a name=\"section-8\"></a>\n",
    "\n",
    "Save the model to a booster file."
   ]
  },
  {
   "cell_type": "code",
   "execution_count": 43,
   "id": "468ff746-bcdd-4763-828a-773e3956fd3c",
   "metadata": {},
   "outputs": [],
   "source": [
    "# save the trained model to a local file \"model.bst\"\n",
    "FILE_NAME = \"model.bst\"\n",
    "model.save_model(FILE_NAME)"
   ]
  },
  {
   "cell_type": "markdown",
   "id": "657fa715-75c0-4997-948f-5986717fbb20",
   "metadata": {},
   "source": [
    "Copy the model to the cloud-storage bucket"
   ]
  },
  {
   "cell_type": "code",
   "execution_count": 46,
   "id": "be6c956c-b248-4b7c-ba2b-c86092dd473e",
   "metadata": {},
   "outputs": [],
   "source": [
    "# Upload the saved model file to Cloud Storage\n",
    "BLOB_PATH = \"mfg_predictive_maintenance/\"\n",
    "BLOB_NAME = os.path.join(BLOB_PATH, FILE_NAME)\n",
    "bucket = storage.Client().bucket(BUCKET_NAME)\n",
    "blob = bucket.blob(BLOB_NAME)\n",
    "blob.upload_from_filename(FILE_NAME)"
   ]
  },
  {
   "cell_type": "markdown",
   "id": "964f7268-4f75-4e70-a323-66b09dd1d8fd",
   "metadata": {},
   "source": [
    "## Running a notebook end-to-end using **Executor**\n",
    "<a name=\"section-9\"></a>\n",
    "\n",
    "### Automating the notebook execution\n",
    "All the steps followed till now can be run as a training job without using any additional code using the Notebook executor. Notebook executor can help you run a notebook file from start to end, with your choice of the environment, machine type, input parameters, and other characteristics. After setting up an execution, the notebook is executed as a job in Vertex AI custom training. Your jobs can be monitored from the Notebook Executor pane in the menu on the left.\n",
    "\n",
    "<img src=\"images/executor.PNG\">\n",
    "\n",
    "Executor also lets you choose the environment and machine type while automating the runs similar to Vertex AI training jobs without switching to the training jobs UI. Apart from the custom container that replicates the existing kernel by default, pre-built environments like TensorFlow Enterprise, PyTorch, and others can also be selected to run the notebook. Furthermore the required compute power can be specified by choosing from the list of machine types available, including GPUs.\n",
    "\n",
    "## Scheduled runs on executor\n",
    "Notebook runs can also be scheduled recurringly with the executor. To do so, select Schedule-based recurring executions as the run type instead of One-time execution. The frequency of the job and the time when it executes is provided when you create the execution.\n",
    "\n",
    "<img src=\"https://storage.googleapis.com/gweb-cloudblog-publish/images/7_Vertex_AI_Workbench.max-1100x1100.jpg\">\n",
    "\n",
    "## Parameterizing the variables\n",
    "Executor lets you run a notebook with different sets of input parameters.If you’ve added parameter tags to any of your notebook cells, you can pass in your parameter values to the executor. More about how to use this feature can be found on this [blog](https://cloud.google.com/blog/products/ai-machine-learning/schedule-and-execute-notebooks-with-vertex-ai-workbench).\n",
    "\n",
    "<img src=\"https://storage.googleapis.com/gweb-cloudblog-publish/images/6_Vertex_AI_Workbench.max-700x700.jpg\">\n",
    "\n"
   ]
  },
  {
   "cell_type": "markdown",
   "id": "e2ff7691-dfbc-42b5-a727-4825f1e970b4",
   "metadata": {},
   "source": [
    "## Hosting the model on Vertex AI\n",
    "<a name=\"section-10\"></a>\n",
    "\n",
    "### Create a model resource\n",
    "\n",
    "The saved model from the cloud storage can be deployed easily using the Vertex-AI sdk. To do so, first create a model resource."
   ]
  },
  {
   "cell_type": "code",
   "execution_count": 27,
   "id": "3b5813f8-c171-4a2f-8cbf-dba5a4cd91a1",
   "metadata": {},
   "outputs": [],
   "source": [
    "ARTIFACT_GCS_PATH = f\"gs://{BUCKET_NAME}/{BLOB_PATH}\"\n"
   ]
  },
  {
   "cell_type": "code",
   "execution_count": null,
   "id": "79192cab-dfad-4b2d-8f96-81a559863f2e",
   "metadata": {},
   "outputs": [],
   "source": [
    "# Create a Vertex AI model resource\n",
    "aiplatform.init(project=PROJECT_ID, location=REGION)\n",
    "\n",
    "model = aiplatform.Model.upload(\n",
    "    display_name=MODEL_DISPLAY_NAME,\n",
    "    artifact_uri=ARTIFACT_GCS_PATH,\n",
    "    serving_container_image_uri=\"us-docker.pkg.dev/vertex-ai/prediction/xgboost-cpu.1-1:latest\",\n",
    ")\n",
    "\n",
    "model.wait()\n",
    "\n",
    "print(model.display_name)\n",
    "print(model.resource_name)"
   ]
  },
  {
   "cell_type": "markdown",
   "id": "4bfcba65-be85-4cb2-ac55-2a924f34d3dc",
   "metadata": {},
   "source": [
    "### Create an Endpoint\n",
    "<a name=\"section-11\"></a>\n",
    "\n",
    "\n",
    "Next, create an endpoint resource for deploying the model."
   ]
  },
  {
   "cell_type": "code",
   "execution_count": 29,
   "id": "a095322c-6d20-4ce5-a7a5-7d45138c353e",
   "metadata": {},
   "outputs": [
    {
     "name": "stdout",
     "output_type": "stream",
     "text": [
      "INFO:google.cloud.aiplatform.models:Creating Endpoint\n",
      "INFO:google.cloud.aiplatform.models:Create Endpoint backing LRO: projects/931647533046/locations/us-central1/endpoints/6327636641292746752/operations/9115834370819620864\n",
      "INFO:google.cloud.aiplatform.models:Endpoint created. Resource name: projects/931647533046/locations/us-central1/endpoints/6327636641292746752\n",
      "INFO:google.cloud.aiplatform.models:To use this Endpoint in another session:\n",
      "INFO:google.cloud.aiplatform.models:endpoint = aiplatform.Endpoint('projects/931647533046/locations/us-central1/endpoints/6327636641292746752')\n",
      "rul_prediction_endpoint1\n",
      "projects/931647533046/locations/us-central1/endpoints/6327636641292746752\n"
     ]
    }
   ],
   "source": [
    "endpoint = aiplatform.Endpoint.create(display_name=ENDPOINT_DISPLAY_NAME)\n",
    "\n",
    "print(endpoint.display_name)\n",
    "print(endpoint.resource_name)"
   ]
  },
  {
   "cell_type": "markdown",
   "id": "d293268e-5f20-40c8-baa7-1e895ce307e7",
   "metadata": {},
   "source": [
    "### Deploy the model to the created Endpoint\n",
    "<a name=\"section-12\"></a>\n",
    "\n",
    "\n",
    "Configure the deployment name, machine type, and other parameters for the deployment and deploy the model to the created endpoint."
   ]
  },
  {
   "cell_type": "code",
   "execution_count": 30,
   "id": "3011ec30-1d2d-4444-9d1f-3fd28b4be0e1",
   "metadata": {},
   "outputs": [],
   "source": [
    "MACHINE_TYPE = \"n1-standard-2\""
   ]
  },
  {
   "cell_type": "code",
   "execution_count": 31,
   "id": "55e8f65c-37d8-4cf4-be7a-e4e7d5dc76b1",
   "metadata": {},
   "outputs": [
    {
     "name": "stdout",
     "output_type": "stream",
     "text": [
      "INFO:google.cloud.aiplatform.models:Deploying model to Endpoint : projects/931647533046/locations/us-central1/endpoints/6327636641292746752\n",
      "INFO:google.cloud.aiplatform.models:Deploy Endpoint model backing LRO: projects/931647533046/locations/us-central1/endpoints/6327636641292746752/operations/4256450372886855680\n",
      "INFO:google.cloud.aiplatform.models:Endpoint model deployed. Resource name: projects/931647533046/locations/us-central1/endpoints/6327636641292746752\n",
      "rul_prediction\n",
      "projects/931647533046/locations/us-central1/models/1583793723253194752\n"
     ]
    }
   ],
   "source": [
    "# deploy the model to the endpoint\n",
    "model.deploy(\n",
    "    endpoint=endpoint,\n",
    "    deployed_model_display_name=DEPLOYED_MODEL_NAME,\n",
    "    machine_type=MACHINE_TYPE,\n",
    ")\n",
    "\n",
    "model.wait()\n",
    "\n",
    "print(model.display_name)\n",
    "print(model.resource_name)"
   ]
  },
  {
   "cell_type": "markdown",
   "id": "16df0528-f26c-4738-b701-7925ba6db08d",
   "metadata": {},
   "source": [
    "## Test calling the endpoint\n",
    "<a name=\"section-13\"></a>\n",
    "\n",
    "Send some sample data to the deployed model on the endpoint to get predictions."
   ]
  },
  {
   "cell_type": "code",
   "execution_count": 46,
   "id": "2eb9d25b-c45e-4614-9713-2d3ec9e9be81",
   "metadata": {},
   "outputs": [
    {
     "data": {
      "text/plain": [
       "[162.6863403320312, 143.4859466552734]"
      ]
     },
     "execution_count": 46,
     "metadata": {},
     "output_type": "execute_result"
    }
   ],
   "source": [
    "## get predictions on sample data\n",
    "instances = X_test.iloc[0:2].to_numpy().tolist()\n",
    "print (endpoint.predict(instances=instances).predictions)"
   ]
  },
  {
   "cell_type": "markdown",
   "id": "a62e6d2c-fc86-4b01-a383-4f0259d0ff90",
   "metadata": {},
   "source": [
    "## Clean up\n",
    "<a name=\"section-14\"></a>\n",
    "\n",
    "Undeploy the model from endpoint."
   ]
  },
  {
   "cell_type": "code",
   "execution_count": 49,
   "id": "52be4ba0-8d7a-4169-913b-364e9c80bb14",
   "metadata": {},
   "outputs": [
    {
     "name": "stdout",
     "output_type": "stream",
     "text": [
      "INFO:google.cloud.aiplatform.models:Undeploying Endpoint model: projects/931647533046/locations/us-central1/endpoints/6327636641292746752\n",
      "INFO:google.cloud.aiplatform.models:Undeploy Endpoint model backing LRO: projects/931647533046/locations/us-central1/endpoints/6327636641292746752/operations/6784095663748546560\n",
      "INFO:google.cloud.aiplatform.models:Endpoint model undeployed. Resource name: projects/931647533046/locations/us-central1/endpoints/6327636641292746752\n"
     ]
    }
   ],
   "source": [
    "DEPLOYED_MODEL_ID = \"\"\n",
    "endpoint.undeploy(deployed_model_id=DEPLOYED_MODEL_ID)"
   ]
  },
  {
   "cell_type": "markdown",
   "id": "79c28f62-1506-480b-b453-d98cae16fa85",
   "metadata": {},
   "source": [
    "Delete the endpoint."
   ]
  },
  {
   "cell_type": "code",
   "execution_count": 50,
   "id": "7f30e38a-2770-40b0-ac74-4c266dff639b",
   "metadata": {},
   "outputs": [
    {
     "name": "stdout",
     "output_type": "stream",
     "text": [
      "INFO:google.cloud.aiplatform.base:Deleting Endpoint : projects/931647533046/locations/us-central1/endpoints/6327636641292746752\n",
      "INFO:google.cloud.aiplatform.base:Delete Endpoint  backing LRO: projects/931647533046/locations/us-central1/operations/4455734656398000128\n",
      "INFO:google.cloud.aiplatform.base:Endpoint deleted. . Resource name: projects/931647533046/locations/us-central1/endpoints/6327636641292746752\n"
     ]
    }
   ],
   "source": [
    "endpoint.delete()"
   ]
  },
  {
   "cell_type": "markdown",
   "id": "fba57032-3687-40f7-a4e3-7dd595ea0994",
   "metadata": {},
   "source": [
    "Delete the model."
   ]
  },
  {
   "cell_type": "code",
   "execution_count": 51,
   "id": "f0902d96-5d04-4929-a15d-9bd04c8ddba0",
   "metadata": {},
   "outputs": [
    {
     "name": "stdout",
     "output_type": "stream",
     "text": [
      "INFO:google.cloud.aiplatform.base:Deleting Model : projects/931647533046/locations/us-central1/models/1583793723253194752\n",
      "INFO:google.cloud.aiplatform.base:Delete Model  backing LRO: projects/931647533046/locations/us-central1/operations/5554612965476401152\n",
      "INFO:google.cloud.aiplatform.base:Model deleted. . Resource name: projects/931647533046/locations/us-central1/models/1583793723253194752\n"
     ]
    }
   ],
   "source": [
    "model.delete()"
   ]
  },
  {
   "cell_type": "markdown",
   "id": "9619b84e-043e-45ec-95a5-f327e47a98da",
   "metadata": {},
   "source": [
    "Remove the contents of the Cloud Storage bucket."
   ]
  },
  {
   "cell_type": "code",
   "execution_count": null,
   "id": "574b4055-1c34-4dbc-b716-e4a903815c7e",
   "metadata": {},
   "outputs": [],
   "source": [
    "! gsutil -m rm -r $BUCKET_URI"
   ]
  }
 ],
 "metadata": {
  "environment": {
   "kernel": "python3",
   "name": "managed-notebooks.m87",
   "type": "gcloud",
   "uri": "gcr.io/deeplearning-platform-release/xgboost-cpu:latest"
  },
  "kernelspec": {
   "display_name": "XGBoost (Local)",
   "language": "python",
   "name": "local-xgboost"
  },
  "language_info": {
   "codemirror_mode": {
    "name": "ipython",
    "version": 3
   },
   "file_extension": ".py",
   "mimetype": "text/x-python",
   "name": "python",
   "nbconvert_exporter": "python",
   "pygments_lexer": "ipython3",
   "version": "3.7.12"
  }
 },
 "nbformat": 4,
 "nbformat_minor": 5
}
