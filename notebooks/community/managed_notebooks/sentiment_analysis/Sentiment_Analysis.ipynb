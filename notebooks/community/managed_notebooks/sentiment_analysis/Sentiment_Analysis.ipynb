{
  "cells": [
    {
      "cell_type": "markdown",
      "metadata": {
        "id": "87e8ba66a90f"
      },
      "source": [
        "# Sentiment Analysis\n",
        "## Table of contents\n",
        "* [Overview](#section-1)\n",
        "* [Dataset](#section-2)\n",
        "* [Objective](#section-3)\n",
        "* [Costs](#section-4)\n",
        "* [Load the data](#section-5)\n",
        "* [Prepare the training data](#section-6)\n",
        "* [Create a dataset in Vertex AI](#section-7)\n",
        "* [Train the model using Vertex AI](#section-8)\n",
        "* [Deploy the model to the endpoint](#section-9)\n",
        "* [Prediction](#section-10)\n",
        "* [Review visualization](#section-11)\n",
        "* [Clean up](#section-12)\n",
        "\n",
        "## Overview\n",
        "<a name=\"section-1\"></a>\n",
        "\n",
        "This notebook demonstrates how to perform sentiment analysis on a Stanford movie reviews dataset using AutoML Natural Language and how to deploy the sentiment analysis model on Vertex AI to get predictions. \n",
        "\n",
        "*Note: This notebook file was developed to run in a [Vertex AI Workbench managed notebooks](https://console.cloud.google.com/vertex-ai/workbench/list/managed) instance using the Python (Local) kernel. Some components of this notebook may not work in other notebook environments.*\n",
        "\n",
        "## Dataset\n",
        "<a name=\"section-2\"></a>\n",
        "\n",
        "The dataset used in this notebook is a part of the [Stanford Sentiment Treebank dataset](https://nlp.stanford.edu/sentiment/), which consists of movie review phrases and their corresponding sentiment scores.\n",
        "\n",
        "## Objectives\n",
        "<a name=\"section-3\"></a>\n",
        "\n",
        "The objectives of this notebook include:\n",
        "\n",
        "- Loading the required data. \n",
        "- Preprocessing the data.\n",
        "- Selecting the required data for the model.\n",
        "- Loading the dataset into Vertex AI managed datasets.\n",
        "- Training a sentiment model using AutoML Natural Language.\n",
        "- Evaluating the model.\n",
        "- Deploying the model on Vertex AI.\n",
        "- Getting predictions.\n",
        "- Clean up.\n",
        "\n",
        "\n",
        "## Costs\n",
        "<a name=\"section-4\"></a>\n",
        "\n",
        "This tutorial uses the following billable components of Google Cloud:\n",
        "\n",
        "- Vertex AI\n",
        "- Cloud Storage\n",
        "\n",
        "Learn about [Vertex AI\n",
        "pricing](https://cloud.google.com/vertex-ai/pricing) and [Cloud Storage\n",
        "pricing](https://cloud.google.com/storage/pricing), and use the [Pricing\n",
        "Calculator](https://cloud.google.com/products/calculator/)\n",
        "to generate a cost estimate based on your projected usage."
      ]
    },
    {
      "cell_type": "markdown",
      "metadata": {
        "id": "dc07534b5fed"
      },
      "source": [
        "## Before you begin\n",
        "\n",
        "### Kernel selection\n",
        "\n",
        "Select <b>Python</b> kernel while running this notebook on Vertex AI's managed instances and ensure that the following libraries are installed in the environment where this notebook is being run.\n",
        "\n",
        "- wordcloud\n",
        "- Pandas \n",
        "\n",
        "Along with the above libraries, the following google-cloud libraries are also used in this notebook.\n",
        "\n",
        "- google.cloud.aiplatform\n",
        "- google.cloud.storage\n"
      ]
    },
    {
      "cell_type": "markdown",
      "metadata": {
        "id": "cf3f84c87bdb"
      },
      "source": [
        "### Install required packages"
      ]
    },
    {
      "cell_type": "code",
      "execution_count": null,
      "metadata": {
        "id": "03c928ef2566"
      },
      "outputs": [],
      "source": [
        "! pip install wordcloud"
      ]
    },
    {
      "cell_type": "markdown",
      "metadata": {
        "id": "8053acfd33e4"
      },
      "source": [
        "If you are using Vertex AI Workbench, your environment already meets all the requirements to run this notebook. You can skip this step."
      ]
    },
    {
      "cell_type": "code",
      "execution_count": null,
      "metadata": {
        "id": "e7bfa731d8b0"
      },
      "outputs": [],
      "source": [
        "! pip install google-cloud-aiplatform\n",
        "! pip install fsspec\n",
        "! pip install gcsfs"
      ]
    },
    {
      "cell_type": "markdown",
      "metadata": {
        "id": "e092f34aa304"
      },
      "source": [
        "### Set your project ID"
      ]
    },
    {
      "cell_type": "markdown",
      "metadata": {
        "id": "55354f114f2a"
      },
      "source": [
        "**If you don't know your project ID**, you may be able to get your project ID using `gcloud`."
      ]
    },
    {
      "cell_type": "code",
      "execution_count": null,
      "metadata": {
        "id": "94f36c0f4a00"
      },
      "outputs": [],
      "source": [
        "import os\n",
        "\n",
        "PROJECT_ID = \"\"\n",
        "\n",
        "# Get your Google Cloud project ID from gcloud\n",
        "if not os.getenv(\"IS_TESTING\"):\n",
        "    shell_output = !gcloud config list --format 'value(core.project)' 2>/dev/null\n",
        "    PROJECT_ID = shell_output[0]\n",
        "    print(\"Project ID: \", PROJECT_ID)"
      ]
    },
    {
      "cell_type": "markdown",
      "metadata": {
        "id": "e4373c1899ed"
      },
      "source": [
        "Otherwise, set your project ID here."
      ]
    },
    {
      "cell_type": "code",
      "execution_count": null,
      "metadata": {
        "id": "3ecacf9ae574"
      },
      "outputs": [],
      "source": [
        "if PROJECT_ID == \"\" or PROJECT_ID is None:\n",
        "    PROJECT_ID = \"[your-project-id]\"  # @param {type:\"string\"}\n",
        "    %env GOOGLE_CLOUD_PROJECT  PROJECT_ID\n",
        "    print(\"Project ID: \", PROJECT_ID)"
      ]
    },
    {
      "cell_type": "markdown",
      "metadata": {
        "id": "b32c908a390c"
      },
      "source": [
        "## Timestamp\n",
        "\n",
        "If you are in a live tutorial session, you might be using a shared test account or project. To avoid name collisions between users on resources created, you create a timestamp for each instance session, and append it onto the name of resources you create in this tutorial."
      ]
    },
    {
      "cell_type": "code",
      "execution_count": null,
      "metadata": {
        "id": "d598bcdd2f4e"
      },
      "outputs": [],
      "source": [
        "from datetime import datetime\n",
        "\n",
        "TIMESTAMP = datetime.now().strftime(\"%Y%m%d%H%M%S\")"
      ]
    },
    {
      "cell_type": "markdown",
      "metadata": {
        "id": "262a312bcd87"
      },
      "source": [
        "## Authenticate your Google Cloud account"
      ]
    },
    {
      "cell_type": "markdown",
      "metadata": {
        "id": "5e18b2d160e4"
      },
      "source": [
        "**If you are using Vertex AI Workbench managed notebooks or user-managed notebooks**, your environment is already authenticated. Skip this step.\n",
        "\n",
        "**If you are using Colab**, run the cell below and follow the instructions when prompted to authenticate your account via oAuth.\n",
        "\n",
        "**Otherwise**, follow these steps:\n",
        "\n",
        "In the Cloud Console, go to the [Create service account key page](https://console.cloud.google.com/projectselector2/iam-admin/serviceaccounts?supportedpurview=project).\n",
        "\n",
        "Click **Create service account.**\n",
        "\n",
        "In the **Service account name** field, enter a name, and click **Create**.\n",
        "\n",
        "In the **Grant this service account access to project section**, click the **Role** drop-down list. Type \"Vertex AI\" into the filter box, and select **Vertex AI Administrator**. Type \"Storage Object Admin\" into the filter box, and select **Storage Object Admin**.\n",
        "\n",
        "Click Create. A JSON file that contains your key downloads to your local environment.\n",
        "\n",
        "Enter the path to your service account key as the GOOGLE_APPLICATION_CREDENTIALS variable in the cell below and run the cell."
      ]
    },
    {
      "cell_type": "code",
      "execution_count": null,
      "metadata": {
        "id": "0ffb57911177"
      },
      "outputs": [],
      "source": [
        "import os\n",
        "import sys\n",
        "\n",
        "# If you are running this notebook in Colab, run this cell and follow the\n",
        "# instructions to authenticate your GCP account. This provides access to your\n",
        "# Cloud Storage bucket and lets you submit training jobs and prediction\n",
        "# requests.\n",
        "\n",
        "# The Google Cloud Notebook product has specific requirements\n",
        "IS_GOOGLE_CLOUD_NOTEBOOK = os.path.exists(\"/opt/deeplearning/metadata/env_version\")\n",
        "\n",
        "# If on Google Cloud Notebooks, then don't execute this code\n",
        "if not IS_GOOGLE_CLOUD_NOTEBOOK:\n",
        "    if \"google.colab\" in sys.modules:\n",
        "        from google.colab import auth as google_auth\n",
        "\n",
        "        google_auth.authenticate_user()\n",
        "\n",
        "    # If you are running this notebook locally, replace the string below with the\n",
        "    # path to your service account key and run this cell to authenticate your GCP\n",
        "    # account.\n",
        "    elif not os.getenv(\"IS_TESTING\"):\n",
        "        %env GOOGLE_APPLICATION_CREDENTIALS ''"
      ]
    },
    {
      "cell_type": "markdown",
      "metadata": {
        "id": "543fd0a71f4d"
      },
      "source": [
        "## Import required libraries and define constants"
      ]
    },
    {
      "cell_type": "code",
      "execution_count": null,
      "metadata": {
        "id": "5e0383e0444d"
      },
      "outputs": [],
      "source": [
        "import os\n",
        "import random\n",
        "from typing import Dict, List, Optional, Sequence, Tuple, Union\n",
        "\n",
        "import matplotlib.pyplot as plt\n",
        "import pandas as pd\n",
        "from google.cloud import aiplatform, storage\n",
        "from wordcloud import STOPWORDS, WordCloud"
      ]
    },
    {
      "cell_type": "code",
      "execution_count": null,
      "metadata": {
        "id": "7a7dd63eef70"
      },
      "outputs": [],
      "source": [
        "LOCATION = \"us-central1\"\n",
        "BUCKET_NAME = \"{your_bucket_name}\""
      ]
    },
    {
      "cell_type": "markdown",
      "metadata": {
        "id": "5563f402e958"
      },
      "source": [
        "## Load the data \n",
        "<a name=\"section-5\"></a>"
      ]
    },
    {
      "cell_type": "code",
      "execution_count": null,
      "metadata": {
        "id": "e9bed419ca1b"
      },
      "outputs": [],
      "source": [
        "phrases = pd.read_csv(\n",
        "    \"gs://vertex_ai_managed_services_demo/sentiment_analysis/stanfordSentimentTreebank/dictionary.txt\",\n",
        "    sep=\"|\",\n",
        ")\n",
        "phrases.columns = [\"text\", \"phrase ids\"]\n",
        "scores = pd.read_csv(\n",
        "    \"gs://vertex_ai_managed_services_demo/sentiment_analysis/stanfordSentimentTreebank/sentiment_labels.txt\",\n",
        "    sep=\"|\",\n",
        ")\n",
        "df = phrases.merge(scores, how=\"left\", on=\"phrase ids\")\n",
        "print(df.head(5))"
      ]
    },
    {
      "cell_type": "code",
      "execution_count": null,
      "metadata": {
        "id": "d88a752930ac"
      },
      "outputs": [],
      "source": [
        "print(max(df[\"sentiment values\"]), min(df[\"sentiment values\"]))"
      ]
    },
    {
      "cell_type": "markdown",
      "metadata": {
        "id": "c83b75fb3279"
      },
      "source": [
        "The data itself doesn't contain any feature names and thus needs its columns to be renamed. dictionary.txt contains all phrases and their IDs, separated by a vertical line |. sentiment_labels.txt contains all phrase ids and the corresponding sentiment scores, separated by a vertical line. Four classes are created by mapping the positivity probability using the following cut-offs:\n",
        "\n",
        "[0, 0.25], (0.25, 0.5], (0.5, 0.75],(0.75, 1.0]"
      ]
    },
    {
      "cell_type": "markdown",
      "metadata": {
        "id": "44443815a2fc"
      },
      "source": [
        "### Create labels "
      ]
    },
    {
      "cell_type": "code",
      "execution_count": null,
      "metadata": {
        "id": "97bbb7218788"
      },
      "outputs": [],
      "source": [
        "VERYNEGATIVE = 0\n",
        "NEGATIVE = 1\n",
        "POSITIVE = 2\n",
        "VERYPOSITIVE = 3"
      ]
    },
    {
      "cell_type": "code",
      "execution_count": null,
      "metadata": {
        "id": "e971f9f576cf"
      },
      "outputs": [],
      "source": [
        "bins = [0, 0.25, 0.5, 0.75, 1]\n",
        "labels = [VERYNEGATIVE, NEGATIVE, POSITIVE, VERYPOSITIVE]\n",
        "df[\"label\"] = pd.cut(df[\"sentiment values\"], bins=bins, labels=labels)\n",
        "print(df.head())"
      ]
    },
    {
      "cell_type": "markdown",
      "metadata": {
        "id": "87b38faf9a85"
      },
      "source": [
        "## Prepare the training data\n",
        "<a name=\"section-6\"></a>"
      ]
    },
    {
      "cell_type": "markdown",
      "metadata": {
        "id": "61e3ad46ce44"
      },
      "source": [
        "To train a sentiment analysis model, you provide representative samples of the type of content you want AutoML Natural Language to analyze, each labeled with a value indicating how positive the sentiment is within the content.\n",
        "\n",
        "The sentiment score is an integer ranging from 0 (relatively negative) to a maximum value of your choice (positive). For example, if you want to identify whether the sentiment is negative, positive, or neutral, you would label the training data with sentiment scores of 0 (negative), 1 (neutral), and 2 (positive). If you want to capture more granularity with five levels of sentiment, you still label documents with the most negative sentiment as 0 and use 4 for the most positive sentiment. The Maximum sentiment score (sentiment_max) for the dataset would be 4."
      ]
    },
    {
      "cell_type": "markdown",
      "metadata": {
        "id": "edcf89a00954"
      },
      "source": [
        "Select a subset of the orginal data to train on that consists of extreme positive and negative samples. Here the maximum sentiment would be 1. In the <i>ML use</i> column you could provide if it is a TRAIN/VALIDATION/TEST sample or let the Vertex AI randomly assign. \n",
        "Each line in a CSV file refers to a single document. The following example shows the general format of a valid CSV file. The ml_use column is optional.\n",
        "\n",
        "\\[ml_use\\],gcs_file_uri|\"inline_text\",sentiment,sentimentMax\n",
        "\n",
        "For more information visit the official [documentation](https://cloud.google.com/vertex-ai/docs/datasets/prepare-text#sentiment-analysis)\n"
      ]
    },
    {
      "cell_type": "markdown",
      "metadata": {
        "id": "245c07c7df7b"
      },
      "source": [
        "### Select a subset of the data"
      ]
    },
    {
      "cell_type": "code",
      "execution_count": null,
      "metadata": {
        "id": "e1db0f24d1da"
      },
      "outputs": [],
      "source": [
        "subset_data = df[df[\"label\"].isin([VERYNEGATIVE, VERYPOSITIVE])].reset_index(drop=True)\n",
        "subset_data.head()"
      ]
    },
    {
      "cell_type": "code",
      "execution_count": null,
      "metadata": {
        "id": "99f314e5a437"
      },
      "outputs": [],
      "source": [
        "subset_data[\"label\"] = subset_data[\"label\"].apply(lambda x: 1 if x == 3 else 0)\n",
        "subset_data[\"ml_use\"] = \"\"\n",
        "subset_data[\"sentimentMax\"] = 1\n",
        "subset_data = subset_data[[\"ml_use\", \"text\", \"label\", \"sentimentMax\"]]\n",
        "print(subset_data.head())"
      ]
    },
    {
      "cell_type": "markdown",
      "metadata": {
        "id": "c3e54c1f430a"
      },
      "source": [
        "### Create an import csv"
      ]
    },
    {
      "cell_type": "code",
      "execution_count": null,
      "metadata": {
        "id": "806303530d77"
      },
      "outputs": [],
      "source": [
        "FILE_NAME = \"sentiment_data.csv\"\n",
        "subset_data.to_csv(FILE_NAME, index=False)\n",
        "# Upload the saved model file to Cloud Storage\n",
        "BLOB_PATH = \"sentiment_analysis/\"\n",
        "BLOB_NAME = os.path.join(BLOB_PATH, FILE_NAME)\n",
        "bucket = storage.Client().bucket(BUCKET_NAME)\n",
        "blob = bucket.blob(BLOB_NAME)\n",
        "blob.upload_from_filename(FILE_NAME)"
      ]
    },
    {
      "cell_type": "markdown",
      "metadata": {
        "id": "453938b7c88b"
      },
      "source": [
        "## Create a dataset in Vertex AI\n",
        "<a name=\"section-7\"></a>"
      ]
    },
    {
      "cell_type": "markdown",
      "metadata": {
        "id": "061bca976104"
      },
      "source": [
        "The following code uses the Vertex AI SDK for Python to both create a dataset and import data. "
      ]
    },
    {
      "cell_type": "code",
      "execution_count": null,
      "metadata": {
        "id": "e359a68f6295"
      },
      "outputs": [],
      "source": [
        "def import_data_text_sentiment_analysis(\n",
        "    project: str,\n",
        "    location: str,\n",
        "    display_name: str,\n",
        "    src_uris: Union[str, List[str]],\n",
        "    sync: bool = True,\n",
        "):\n",
        "    aiplatform.init(project=project, location=location)\n",
        "\n",
        "    ds = aiplatform.TextDataset.create(\n",
        "        display_name=display_name,\n",
        "        gcs_source=src_uris,\n",
        "        import_schema_uri=aiplatform.schema.dataset.ioformat.text.sentiment,\n",
        "        sync=sync,\n",
        "    )\n",
        "\n",
        "    ds.wait()\n",
        "\n",
        "    print(ds.display_name)\n",
        "    print(ds.resource_name)\n",
        "    return ds"
      ]
    },
    {
      "cell_type": "code",
      "execution_count": null,
      "metadata": {
        "id": "989313dc7b94"
      },
      "outputs": [],
      "source": [
        "display_name = \"sentimentanalysis\"\n",
        "src_uris = [f\"gs://{BUCKET_NAME}/sentiment_analysis/sentiment_data.csv\"]\n",
        "dataset = import_data_text_sentiment_analysis(\n",
        "    PROJECT_ID, LOCATION, display_name, src_uris\n",
        ")"
      ]
    },
    {
      "cell_type": "markdown",
      "metadata": {
        "id": "a7c140cb93c0"
      },
      "source": [
        "## Train the model using Vertex AI\n",
        "<a name=\"section-8\"></a>"
      ]
    },
    {
      "cell_type": "markdown",
      "metadata": {
        "id": "38bc9330bd37"
      },
      "source": [
        "The following code uses the Vertex AI SDK for Python to train the model on the above created dataset. You can get the dataset id from the Dataset section of Vertex AI in the console or from the resource name in the dataset object created above. You can specify how the training data is split between the training, validation, and test sets by setting the fraction_split variables."
      ]
    },
    {
      "cell_type": "code",
      "execution_count": null,
      "metadata": {
        "id": "bd06f6f67a56"
      },
      "outputs": [],
      "source": [
        "def create_training_pipeline_text_sentiment_analysis(\n",
        "    project: str,\n",
        "    location: str,\n",
        "    display_name: str,\n",
        "    dataset_id: str,\n",
        "    model_display_name: Optional[str] = None,\n",
        "    sentiment_max: int = 10,\n",
        "    training_fraction_split: float = 0.8,\n",
        "    validation_fraction_split: float = 0.1,\n",
        "    test_fraction_split: float = 0.1,\n",
        "    sync: bool = True,\n",
        "):\n",
        "    aiplatform.init(project=project, location=location)\n",
        "\n",
        "    job = aiplatform.AutoMLTextTrainingJob(\n",
        "        display_name=display_name,\n",
        "        prediction_type=\"sentiment\",\n",
        "        sentiment_max=sentiment_max,\n",
        "    )\n",
        "\n",
        "    text_dataset = aiplatform.TextDataset(dataset_id)\n",
        "\n",
        "    model = job.run(\n",
        "        dataset=text_dataset,\n",
        "        model_display_name=model_display_name,\n",
        "        training_fraction_split=training_fraction_split,\n",
        "        validation_fraction_split=validation_fraction_split,\n",
        "        test_fraction_split=test_fraction_split,\n",
        "        sync=sync,\n",
        "    )\n",
        "\n",
        "    model.wait()\n",
        "\n",
        "    print(model.display_name)\n",
        "    print(model.resource_name)\n",
        "    print(model.uri)\n",
        "    return model"
      ]
    },
    {
      "cell_type": "code",
      "execution_count": null,
      "metadata": {
        "id": "a0a83ba2be4b"
      },
      "outputs": [],
      "source": [
        "display_name = \"sentimentanalysis\"\n",
        "dataset_id = dataset.resource_name.split(\"/\")[-1]\n",
        "print(dataset_id)\n",
        "model = create_training_pipeline_text_sentiment_analysis(\n",
        "    PROJECT_ID, LOCATION, display_name, dataset_id, sentiment_max=1\n",
        ")"
      ]
    },
    {
      "cell_type": "markdown",
      "metadata": {
        "id": "077f319a4218"
      },
      "source": [
        "## Deploy the model to the endpoint\n",
        "<a name=\"section-9\"></a>\n"
      ]
    },
    {
      "cell_type": "markdown",
      "metadata": {
        "id": "cd4463310e5a"
      },
      "source": [
        "#### Create the endpoint"
      ]
    },
    {
      "cell_type": "code",
      "execution_count": null,
      "metadata": {
        "id": "473ff65e0b88"
      },
      "outputs": [],
      "source": [
        "def create_endpoint(\n",
        "    project: str,\n",
        "    display_name: str,\n",
        "    location: str,\n",
        "):\n",
        "    aiplatform.init(project=project, location=location)\n",
        "\n",
        "    endpoint = aiplatform.Endpoint.create(\n",
        "        display_name=display_name,\n",
        "        project=project,\n",
        "        location=location,\n",
        "    )\n",
        "\n",
        "    print(endpoint.display_name)\n",
        "    print(endpoint.resource_name)\n",
        "    return endpoint"
      ]
    },
    {
      "cell_type": "code",
      "execution_count": null,
      "metadata": {
        "id": "54785032708f"
      },
      "outputs": [],
      "source": [
        "display_name = \"sentiment-analysis\"\n",
        "endpoint = create_endpoint(PROJECT_ID, display_name, LOCATION)"
      ]
    },
    {
      "cell_type": "markdown",
      "metadata": {
        "id": "f84df96c9828"
      },
      "source": [
        "#### Deploy the model"
      ]
    },
    {
      "cell_type": "markdown",
      "metadata": {
        "id": "6bf13cc6a68f"
      },
      "source": [
        "The following code uses the Vertex AI SDK for Python to deploy the model to a endpoint. You can get the model id from the models section of Vertex AI in the console"
      ]
    },
    {
      "cell_type": "code",
      "execution_count": null,
      "metadata": {
        "id": "7db8d93ea373"
      },
      "outputs": [],
      "source": [
        "def deploy_model_with_automatic_resources(\n",
        "    project,\n",
        "    location,\n",
        "    model_name: str,\n",
        "    endpoint: Optional[aiplatform.Endpoint] = None,\n",
        "    deployed_model_display_name: Optional[str] = None,\n",
        "    traffic_percentage: Optional[int] = 0,\n",
        "    traffic_split: Optional[Dict[str, int]] = None,\n",
        "    min_replica_count: int = 1,\n",
        "    max_replica_count: int = 1,\n",
        "    metadata: Optional[Sequence[Tuple[str, str]]] = (),\n",
        "    sync: bool = True,\n",
        "):\n",
        "    \"\"\"\n",
        "    model_name: A fully-qualified model resource name or model ID.\n",
        "          Example: \"projects/123/locations/us-central1/models/456\" or\n",
        "          \"456\" when project and location are initialized or passed.\n",
        "    \"\"\"\n",
        "\n",
        "    aiplatform.init(project=project, location=location)\n",
        "\n",
        "    model = aiplatform.Model(model_name=model_name)\n",
        "    model.deploy(\n",
        "        endpoint=endpoint,\n",
        "    )\n",
        "    model.wait()\n",
        "    print(model.display_name)\n",
        "    print(model.resource_name)\n",
        "    return model"
      ]
    },
    {
      "cell_type": "code",
      "execution_count": null,
      "metadata": {
        "id": "ace75348ce10"
      },
      "outputs": [],
      "source": [
        "model_id = \"\"\n",
        "model = deploy_model_with_automatic_resources(PROJECT_ID, LOCATION, model_id, endpoint)"
      ]
    },
    {
      "cell_type": "markdown",
      "metadata": {
        "id": "9bcd4d7a11de"
      },
      "source": [
        "## Prediction\n",
        "<a name=\"section-10\"></a>\n"
      ]
    },
    {
      "cell_type": "markdown",
      "metadata": {
        "id": "c72060f26336"
      },
      "source": [
        "After deploying the model to an endpoint use the Vertex AI API to request an online prediction. Filter the data that you haven't used for the training and pick longer reviews to test the model."
      ]
    },
    {
      "cell_type": "code",
      "execution_count": null,
      "metadata": {
        "id": "7fa5e1a01a77"
      },
      "outputs": [],
      "source": [
        "def predict_text_sentiment_analysis_sample(endpoint, content):\n",
        "    print(content)\n",
        "    response = endpoint.predict(instances=[{\"content\": content}], parameters={})\n",
        "\n",
        "    for prediction_ in response.predictions:\n",
        "        print(prediction_)"
      ]
    },
    {
      "cell_type": "code",
      "execution_count": null,
      "metadata": {
        "id": "817ba5968e22"
      },
      "outputs": [],
      "source": [
        "test_data_pos = df[df[\"label\"].isin([POSITIVE])].reset_index(drop=True)\n",
        "test_data_neg = df[df[\"label\"].isin([NEGATIVE])].reset_index(drop=True)\n",
        "\n",
        "test_data_neg = test_data_neg.text.values\n",
        "test_data_neg = [i for i in test_data_neg if len(i) > 200]\n",
        "random.shuffle(test_data_neg)"
      ]
    },
    {
      "cell_type": "code",
      "execution_count": null,
      "metadata": {
        "id": "3fed98fbb6d7"
      },
      "outputs": [],
      "source": [
        "test_data_pos = test_data_pos.text.values\n",
        "test_data_pos = [i for i in test_data_pos if len(i) > 200]\n",
        "random.shuffle(test_data_pos)"
      ]
    },
    {
      "cell_type": "markdown",
      "metadata": {
        "id": "963102b04a59"
      },
      "source": [
        "Here is the prediction results on the positive samples. The model did a good job on predicting positive sentiment for positive reviews. The first and last review predictions are false negatives. "
      ]
    },
    {
      "cell_type": "code",
      "execution_count": null,
      "metadata": {
        "id": "5d7b1d59c0d0"
      },
      "outputs": [],
      "source": [
        "for review in test_data_pos[0:10]:\n",
        "    predict_text_sentiment_analysis_sample(endpoint, review)"
      ]
    },
    {
      "cell_type": "markdown",
      "metadata": {
        "id": "6fc9dbc3436e"
      },
      "source": [
        "Here is the prediction results on the negative reviews. Out of 10 reviews below 7 negative reviews are correctly predicted with negative sentiment"
      ]
    },
    {
      "cell_type": "code",
      "execution_count": null,
      "metadata": {
        "id": "53830cc82fc5"
      },
      "outputs": [],
      "source": [
        "for review in test_data_neg[0:10]:\n",
        "    predict_text_sentiment_analysis_sample(endpoint, review)"
      ]
    },
    {
      "cell_type": "markdown",
      "metadata": {
        "id": "aa6a2abc2006"
      },
      "source": [
        "## Review visualization\n",
        "<a name=\"section-11\"></a>\n"
      ]
    },
    {
      "cell_type": "markdown",
      "metadata": {
        "id": "f478d63de61a"
      },
      "source": [
        "Visualize the positive and negative reviews in the data."
      ]
    },
    {
      "cell_type": "code",
      "execution_count": null,
      "metadata": {
        "id": "b08c4be897ce"
      },
      "outputs": [],
      "source": [
        "data_pos = df[df[\"label\"].isin([VERYPOSITIVE])].reset_index(drop=True)\n",
        "data_neg = df[df[\"label\"].isin([VERYNEGATIVE])].reset_index(drop=True)\n",
        "\n",
        "data_neg = data_neg.text.values"
      ]
    },
    {
      "cell_type": "code",
      "execution_count": null,
      "metadata": {
        "id": "27d61dcee56a"
      },
      "outputs": [],
      "source": [
        "data_pos = data_pos.text.values"
      ]
    },
    {
      "cell_type": "markdown",
      "metadata": {
        "id": "9ddc8e1dfaab"
      },
      "source": [
        "Create the word cloud by removing the common words to highlight the words representing positive and negative samples."
      ]
    },
    {
      "cell_type": "code",
      "execution_count": null,
      "metadata": {
        "id": "8f48fa9258c3"
      },
      "outputs": [],
      "source": [
        "# Python program to generate WordCloud\n",
        "def plot_word_cloud(data, common_words):\n",
        "    comment_words = \"\"\n",
        "    stopwords = set(STOPWORDS)\n",
        "    for val in data:\n",
        "        tokens = val.split()\n",
        "        for i in range(len(tokens)):\n",
        "            tokens[i] = tokens[i].lower()\n",
        "            for each in common_words:\n",
        "                if each in tokens[i]:\n",
        "                    tokens[i] = \"\"\n",
        "                    break\n",
        "\n",
        "        comment_words += \" \".join(tokens) + \" \"\n",
        "\n",
        "    wordcloud = WordCloud(\n",
        "        width=800,\n",
        "        height=800,\n",
        "        background_color=\"white\",\n",
        "        stopwords=stopwords,\n",
        "        min_font_size=10,\n",
        "    ).generate(comment_words)\n",
        "\n",
        "    plt.figure(figsize=(8, 8), facecolor=None)\n",
        "    plt.imshow(wordcloud)\n",
        "    plt.axis(\"off\")\n",
        "    plt.tight_layout(pad=0)\n",
        "\n",
        "    plt.show()"
      ]
    },
    {
      "cell_type": "markdown",
      "metadata": {
        "id": "09e568ad3526"
      },
      "source": [
        "Plot a word cloud of negative reviews."
      ]
    },
    {
      "cell_type": "code",
      "execution_count": null,
      "metadata": {
        "id": "4fd9bf528bb4"
      },
      "outputs": [],
      "source": [
        "plot_word_cloud(\n",
        "    data_neg,\n",
        "    [\n",
        "        \"movie\",\n",
        "        \"film\",\n",
        "        \"story\",\n",
        "        \"audience\",\n",
        "        \"director\",\n",
        "        \"watch\",\n",
        "        \"seem\",\n",
        "        \"world\",\n",
        "        \"one\",\n",
        "        \"make\",\n",
        "        \"way\",\n",
        "        \"character\",\n",
        "        \"much\",\n",
        "        \"time\",\n",
        "        \"even\",\n",
        "        \"take\",\n",
        "        \"s\",\n",
        "        \"n't\",\n",
        "        \"will\",\n",
        "        \"may\",\n",
        "        \"re\",\n",
        "        \"plot\",\n",
        "        \"good\",\n",
        "        \"comedy\",\n",
        "        \"made\",\n",
        "    ],\n",
        ")"
      ]
    },
    {
      "cell_type": "markdown",
      "metadata": {
        "id": "cd2c9686efbc"
      },
      "source": [
        "Plot a word cloud of positive reviews."
      ]
    },
    {
      "cell_type": "code",
      "execution_count": null,
      "metadata": {
        "id": "2fb8c50e991b"
      },
      "outputs": [],
      "source": [
        "plot_word_cloud(\n",
        "    data_pos,\n",
        "    [\n",
        "        \"movie\",\n",
        "        \"film\",\n",
        "        \"story\",\n",
        "        \"audience\",\n",
        "        \"director\",\n",
        "        \"watch\",\n",
        "        \"seem\",\n",
        "        \"world\",\n",
        "        \"one\",\n",
        "        \"make\",\n",
        "        \"way\",\n",
        "        \"character\",\n",
        "        \"much\",\n",
        "        \"time\",\n",
        "        \"even\",\n",
        "        \"take\",\n",
        "        \"s\",\n",
        "        \"n't\",\n",
        "        \"will\",\n",
        "        \"may\",\n",
        "        \"re\",\n",
        "        \"plot\",\n",
        "        \"made\",\n",
        "    ],\n",
        ")"
      ]
    },
    {
      "cell_type": "markdown",
      "metadata": {
        "id": "c169667d92e8"
      },
      "source": [
        "## Clean up\n",
        "<a name=\"section-12\"></a>\n",
        "\n",
        "Undeploy the model from the endpoint."
      ]
    },
    {
      "cell_type": "code",
      "execution_count": null,
      "metadata": {
        "id": "c72329be87c8"
      },
      "outputs": [],
      "source": [
        "DEPLOYED_MODEL_ID = \"\"\n",
        "endpoint.undeploy(deployed_model_id=DEPLOYED_MODEL_ID)"
      ]
    },
    {
      "cell_type": "markdown",
      "metadata": {
        "id": "1b8c7af9f513"
      },
      "source": [
        "Delete the endpoint."
      ]
    },
    {
      "cell_type": "code",
      "execution_count": null,
      "metadata": {
        "id": "1a08e7cea52d"
      },
      "outputs": [],
      "source": [
        "endpoint.delete()"
      ]
    },
    {
      "cell_type": "markdown",
      "metadata": {
        "id": "aa0be755cb23"
      },
      "source": [
        "Delete the dataset."
      ]
    },
    {
      "cell_type": "code",
      "execution_count": null,
      "metadata": {
        "id": "42244042a680"
      },
      "outputs": [],
      "source": [
        "dataset.delete()"
      ]
    },
    {
      "cell_type": "markdown",
      "metadata": {
        "id": "c79a8e124887"
      },
      "source": [
        "Delete the model."
      ]
    },
    {
      "cell_type": "code",
      "execution_count": null,
      "metadata": {
        "id": "034a8bcc30de"
      },
      "outputs": [],
      "source": [
        "model.delete()"
      ]
    }
  ],
  "metadata": {
    "colab": {
      "name": "Sentiment_Analysis.ipynb",
      "toc_visible": true
    },
    "kernelspec": {
      "display_name": "Python 3",
      "name": "python3"
    }
  },
  "nbformat": 4,
  "nbformat_minor": 0
}
