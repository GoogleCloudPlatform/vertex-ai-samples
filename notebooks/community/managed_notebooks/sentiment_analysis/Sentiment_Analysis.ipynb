{
  "cells": [
    {
      "cell_type": "markdown",
      "id": "cfb58b58-3e92-4583-9173-04cfeaeb465e",
      "metadata": {
        "id": "87e8ba66a90f"
      },
      "source": [
        "# Sentiment Analysis\n",
        "## Table of contents\n",
        "* [Overview](#section-1)\n",
        "* [Dataset](#section-2)\n",
        "* [Objective](#section-3)\n",
        "* [Costs](#section-4)\n",
        "* [Data Loading](#section-5)\n",
        "* [Preparing training data](#section-6)\n",
        "* [Creating Dataset in Vertex AI](#section-7)\n",
        "* [Training the model using Vertex AI](#section-8)\n",
        "* [Deploy the Model to the endpoint](#section-9)\n",
        "* [Prediction](#section-10)\n",
        "* [Reviews visualisation](#section-11)\n",
        "* [Clean-up](#section-12)\n",
        "\n",
        "## Overview\n",
        "<a name=\"section-1\"></a>\n",
        "This notebook demonstrates performing sentiment analysis on stanford movie reviews dataset using AutoML NLP, deploying the sentimental model on Vertex AI and getting predictions. \n",
        "<b>Note</b>: This notebook is designed to run on managed notebooks instance of Vertex AI Workbench. Some components of this notebook may not work in other notebook environments.\n",
        "\n",
        "## Dataset\n",
        "<a name=\"section-2\"></a>\n",
        "The dataset used in this notebook is a part of the [Stanford Sentiment Treebank Dataset](https://nlp.stanford.edu/sentiment/) which consists of all movie review phrases and the corresponding sentiment scores.\n",
        "\n",
        "## Objective\n",
        "<a name=\"section-3\"></a>\n",
        "In this notebook :\n",
        "\n",
        "- Loading the required data. \n",
        "- Preprocessing the data \n",
        "- Selecting the required data for the model.\n",
        "- Load the dataset into Vertex AI Managed datasets.\n",
        "- Training a sentimental model using AutoML NLP.\n",
        "- Evaluating the model.\n",
        "- Deploying the model on Vertex AI.\n",
        "- Getting Predictions\n",
        "- Clean up.\n",
        "\n",
        "\n",
        "## Costs\n",
        "<a name=\"section-4\"></a>\n",
        "This tutorial uses the following billable components of Google Cloud:\n",
        "\n",
        "- Vertex AI\n",
        "- Cloud Storage\n",
        "\n",
        "Learn about [Vertex AI\n",
        "pricing](https://cloud.google.com/vertex-ai/pricing) and [Cloud Storage\n",
        "pricing](https://cloud.google.com/storage/pricing), and use the [Pricing\n",
        "Calculator](https://cloud.google.com/products/calculator/)\n",
        "to generate a cost estimate based on your projected usage."
      ]
    },
    {
      "cell_type": "markdown",
      "id": "823afb59-968f-4cac-a3d9-77898ccf971d",
      "metadata": {
        "id": "dc07534b5fed"
      },
      "source": [
        "## Kernel selection\n",
        "Select <b>Python</b> kernel while running this notebook on Vertex AI's managed instances and ensure that the following libraries are installed in the environment where this notebook is being run.\n",
        "- wordcloud\n",
        "- Pandas \n",
        "\n",
        "\n",
        "Along with the above libraries, the following google-cloud libraries are also used in this notebook.\n",
        "\n",
        "- google.cloud.aiplatform\n",
        "- google.cloud.storage\n"
      ]
    },
    {
      "cell_type": "markdown",
      "id": "73c7a12e-7b57-47c3-976a-030140422428",
      "metadata": {
        "id": "cf3f84c87bdb"
      },
      "source": [
        "## Install required packages"
      ]
    },
    {
      "cell_type": "markdown",
      "id": "4ad9e4d6-888f-4f56-af14-8ee4c9452e8a",
      "metadata": {
        "id": "03c928ef2566"
      },
      "source": [
        "! pip install wordcloud"
      ]
    },
    {
      "cell_type": "markdown",
      "id": "1b290e00-3f91-489d-9982-49a11d74b400",
      "metadata": {
        "id": "8053acfd33e4"
      },
      "source": [
        "If you are using Vertex AI Workbench, your environment already meets all the requirements to run this notebook. You can skip this step.\n",
        "- ! pip install google-cloud-aiplatform\n",
        "- ! pip install fsspec\n",
        "- ! pip install gcsfs\n"
      ]
    },
    {
      "cell_type": "markdown",
      "id": "ed6a2f21-f490-4bc4-82bf-d2a3f66e297e",
      "metadata": {
        "id": "e092f34aa304"
      },
      "source": [
        "## Set your project ID"
      ]
    },
    {
      "cell_type": "markdown",
      "id": "65a82cf5-5d72-4906-bd22-4759c0c68779",
      "metadata": {
        "id": "55354f114f2a"
      },
      "source": [
        "If you don't know your project ID, you may be able to get your project ID using gcloud."
      ]
    },
    {
      "cell_type": "code",
      "execution_count": null,
      "id": "ac63128b-59b0-447c-ad49-4ef0a48234ff",
      "metadata": {
        "id": "94f36c0f4a00"
      },
      "outputs": [],
      "source": [
        "import os\n",
        "\n",
        "PROJECT_ID = \"\"\n",
        "\n",
        "# Get your Google Cloud project ID from gcloud\n",
        "if not os.getenv(\"IS_TESTING\"):\n",
        "    shell_output = !gcloud config list --format 'value(core.project)' 2>/dev/null\n",
        "    PROJECT_ID = shell_output[0]\n",
        "    print(\"Project ID: \", PROJECT_ID)"
      ]
    },
    {
      "cell_type": "markdown",
      "id": "359d171e-b8a8-4345-a62f-299fb2675696",
      "metadata": {
        "id": "e4373c1899ed"
      },
      "source": [
        "Otherwise, set your project ID here."
      ]
    },
    {
      "cell_type": "code",
      "execution_count": null,
      "id": "3d29a7b4-79c5-4143-a12a-56d047f83f40",
      "metadata": {
        "id": "3ecacf9ae574"
      },
      "outputs": [],
      "source": [
        "if PROJECT_ID == \"\" or PROJECT_ID is None:\n",
        "    PROJECT_ID = \"[your-project-id]\"  # @param {type:\"string\"}\n",
        "    %env GOOGLE_CLOUD_PROJECT  PROJECT_ID\n",
        "    print(\"Project ID: \", PROJECT_ID)"
      ]
    },
    {
      "cell_type": "markdown",
      "id": "4276d8cd-d6b4-43c6-bc68-febaa5aa7b7a",
      "metadata": {
        "id": "b32c908a390c"
      },
      "source": [
        "## Timestamp\n",
        "\n",
        "If you are in a live tutorial session, you might be using a shared test account or project. To avoid name collisions between users on resources created, you create a timestamp for each instance session, and append it onto the name of resources you create in this tutorial."
      ]
    },
    {
      "cell_type": "code",
      "execution_count": null,
      "id": "cfd0248b-b096-47d1-801e-f05bbe45b875",
      "metadata": {
        "id": "d598bcdd2f4e"
      },
      "outputs": [],
      "source": [
        "from datetime import datetime\n",
        "\n",
        "TIMESTAMP = datetime.now().strftime(\"%Y%m%d%H%M%S\")"
      ]
    },
    {
      "cell_type": "markdown",
      "id": "91385138-96ad-4897-b6e9-645025ee89da",
      "metadata": {
        "id": "262a312bcd87"
      },
      "source": [
        "## Authenticate your Google Cloud account"
      ]
    },
    {
      "cell_type": "markdown",
      "id": "ef8a5d4c-de14-4a73-bfa3-dc8b146b79f3",
      "metadata": {
        "id": "5e18b2d160e4"
      },
      "source": [
        "**If you are using Google Cloud Notebooks**, your environment is already authenticated. Skip this step.\n",
        "\n",
        "**If you are using Colab**, run the cell below and follow the instructions when prompted to authenticate your account via oAuth.\n",
        "\n",
        "**Otherwise**, follow these steps:\n",
        "\n",
        "In the Cloud Console, go to the [Create service account key page](https://console.cloud.google.com/projectselector2/iam-admin/serviceaccounts?supportedpurview=project).\n",
        "\n",
        "Click **Create service account.**\n",
        "\n",
        "In the **Service account name** field, enter a name, and click **Create**.\n",
        "\n",
        "In the **Grant this service account access to project section**, click the **Role** drop-down list. Type \"Vertex AI\" into the filter box, and select **Vertex AI Administrator**. Type \"Storage Object Admin\" into the filter box, and select **Storage Object Admin**.\n",
        "\n",
        "Click Create. A JSON file that contains your key downloads to your local environment.\n",
        "\n",
        "Enter the path to your service account key as the GOOGLE_APPLICATION_CREDENTIALS variable in the cell below and run the cell."
      ]
    },
    {
      "cell_type": "code",
      "execution_count": null,
      "id": "50c0913e-f67c-45c5-bc18-bb8c1a2c60af",
      "metadata": {
        "id": "0ffb57911177"
      },
      "outputs": [],
      "source": [
        "import os\n",
        "import sys\n",
        "\n",
        "# If you are running this notebook in Colab, run this cell and follow the\n",
        "# instructions to authenticate your GCP account. This provides access to your\n",
        "# Cloud Storage bucket and lets you submit training jobs and prediction\n",
        "# requests.\n",
        "\n",
        "# The Google Cloud Notebook product has specific requirements\n",
        "IS_GOOGLE_CLOUD_NOTEBOOK = os.path.exists(\"/opt/deeplearning/metadata/env_version\")\n",
        "\n",
        "# If on Google Cloud Notebooks, then don't execute this code\n",
        "if not IS_GOOGLE_CLOUD_NOTEBOOK:\n",
        "    if \"google.colab\" in sys.modules:\n",
        "        from google.colab import auth as google_auth\n",
        "\n",
        "        google_auth.authenticate_user()\n",
        "\n",
        "    # If you are running this notebook locally, replace the string below with the\n",
        "    # path to your service account key and run this cell to authenticate your GCP\n",
        "    # account.\n",
        "    elif not os.getenv(\"IS_TESTING\"):\n",
        "        %env GOOGLE_APPLICATION_CREDENTIALS ''"
      ]
    },
    {
      "cell_type": "markdown",
      "id": "d599e91d-9cc2-46da-a103-09e91310199a",
      "metadata": {
        "id": "543fd0a71f4d"
      },
      "source": [
        "## Import required libraries and define constants"
      ]
    },
    {
      "cell_type": "code",
      "execution_count": null,
      "id": "bfa3220b-4eaa-44be-97c7-597dd916aa22",
      "metadata": {
        "id": "5e0383e0444d"
      },
      "outputs": [],
      "source": [
        "import os\n",
        "import random\n",
        "from typing import Dict, List, Optional, Sequence, Tuple, Union\n",
        "\n",
        "import matplotlib.pyplot as plt\n",
        "import pandas as pd\n",
        "from google.cloud import aiplatform, storage\n",
        "from wordcloud import STOPWORDS, WordCloud"
      ]
    },
    {
      "cell_type": "code",
      "execution_count": null,
      "id": "cccba4a7-2fef-4861-bac3-5de6d9a0cdb9",
      "metadata": {
        "id": "7a7dd63eef70"
      },
      "outputs": [],
      "source": [
        "LOCATION = \"us-central1\"\n",
        "BUCKET_NAME = \"{your_bucket_name}\""
      ]
    },
    {
      "cell_type": "markdown",
      "id": "5fa0d9c7-a3cc-4a5a-ba82-d7f494b5752d",
      "metadata": {
        "id": "5563f402e958"
      },
      "source": [
        "## Loading data \n",
        "<a name=\"section-5\"></a>"
      ]
    },
    {
      "cell_type": "code",
      "execution_count": null,
      "id": "a10d8894-c279-4306-ba63-6c9e35d8feab",
      "metadata": {
        "id": "e9bed419ca1b"
      },
      "outputs": [],
      "source": [
        "phrases = pd.read_csv(\n",
        "    \"gs://vertex_ai_managed_services_demo/sentiment_analysis/stanfordSentimentTreebank/dictionary.txt\",\n",
        "    sep=\"|\",\n",
        ")\n",
        "phrases.columns = [\"text\", \"phrase ids\"]\n",
        "scores = pd.read_csv(\n",
        "    \"gs://vertex_ai_managed_services_demo/sentiment_analysis/stanfordSentimentTreebank/sentiment_labels.txt\",\n",
        "    sep=\"|\",\n",
        ")\n",
        "df = phrases.merge(scores, how=\"left\", on=\"phrase ids\")\n",
        "print(df.head(5))"
      ]
    },
    {
      "cell_type": "code",
      "execution_count": null,
      "id": "64943564-78d7-4eec-b67d-37467e27320c",
      "metadata": {
        "id": "d88a752930ac"
      },
      "outputs": [],
      "source": [
        "print(max(df[\"sentiment values\"]), min(df[\"sentiment values\"]))"
      ]
    },
    {
      "cell_type": "markdown",
      "id": "ed79e7d8-c74d-410d-8c07-023ac410dee9",
      "metadata": {
        "id": "c83b75fb3279"
      },
      "source": [
        "The data itself doesn't contain any feature names and thus needs its columns to be re-named. dictionary.txt contains all phrases and their IDs, separated by a vertical line |. sentiment_labels.txt contains all phrase ids and the corresponding sentiment scores, separated by a vertical line. 4 classes are created by mapping the positivity probability using the following cut-offs:\n",
        "[0, 0.25], (0.25, 0.5], (0.5, 0.75],(0.75, 1.0]"
      ]
    },
    {
      "cell_type": "markdown",
      "id": "70223fcc-fc51-494a-b057-79b4e3dcba1e",
      "metadata": {
        "id": "44443815a2fc"
      },
      "source": [
        "### Creating labels "
      ]
    },
    {
      "cell_type": "code",
      "execution_count": null,
      "id": "e8bf4d6c-e6fe-47e4-80a9-7741d97e71ee",
      "metadata": {
        "id": "97bbb7218788"
      },
      "outputs": [],
      "source": [
        "VERYNEGATIVE = 0\n",
        "NEGATIVE = 1\n",
        "POSITIVE = 2\n",
        "VERYPOSITIVE = 3"
      ]
    },
    {
      "cell_type": "code",
      "execution_count": null,
      "id": "8b855383-15c5-4374-85ff-b5d42ec75663",
      "metadata": {
        "id": "e971f9f576cf"
      },
      "outputs": [],
      "source": [
        "bins = [0, 0.25, 0.5, 0.75, 1]\n",
        "labels = [VERYNEGATIVE, NEGATIVE, POSITIVE, VERYPOSITIVE]\n",
        "df[\"label\"] = pd.cut(df[\"sentiment values\"], bins=bins, labels=labels)\n",
        "print(df.head())"
      ]
    },
    {
      "cell_type": "markdown",
      "id": "a90fcf66-9cdd-42ea-a7e9-eb44038964e7",
      "metadata": {
        "id": "87b38faf9a85"
      },
      "source": [
        "## Preparing training data\n",
        "<a name=\"section-6\"></a>"
      ]
    },
    {
      "cell_type": "markdown",
      "id": "d546ce1a-2464-4371-b40e-5ca5e48d39c4",
      "metadata": {
        "id": "61e3ad46ce44"
      },
      "source": [
        "To train a sentiment analysis model, you provide representative samples of the type of content you want AutoML Natural Language to analyze, each labeled with a value indicating how positive the sentiment is within the content.\n",
        "\n",
        "The sentiment score is an integer ranging from 0 (relatively negative) to a maximum value of your choice (positive). For example, if you want to identify whether the sentiment is negative, positive, or neutral, you would label the training data with sentiment scores of 0 (negative), 1 (neutral), and 2 (positive).If you want to capture more granularity with five levels of sentiment, you still label documents with the most negative sentiment as 0 and use 4 for the most positive sentiment. The Maximum sentiment score (sentiment_max) for the dataset would be 4."
      ]
    },
    {
      "cell_type": "markdown",
      "id": "59636f66-b8ad-4c18-8750-6f1b5035a75d",
      "metadata": {
        "id": "edcf89a00954"
      },
      "source": [
        "For this notebook we are selecting subset of the orginal data to train on, which consists extreme positive and negative samples. Here the maximum sentiment would be 1. In <i>ML use</i> column we could provide if it is a TRAIN/VALIDATION/TEST sample or let the Vertex AI randomly assign. \n",
        "Each line in a CSV file refers to a single document. The following example shows the general format of a valid CSV file. The ml_use column is optional.\n",
        "\n",
        "\\[ml_use\\],gcs_file_uri|\"inline_text\",sentiment,sentimentMax\n",
        "\n",
        "For more information visit the official [documentation](https://cloud.google.com/vertex-ai/docs/datasets/prepare-text#sentiment-analysis)\n"
      ]
    },
    {
      "cell_type": "markdown",
      "id": "9fca82d5-a63b-470c-84d6-9bb01708b55c",
      "metadata": {
        "id": "245c07c7df7b"
      },
      "source": [
        "### Selecting subset data"
      ]
    },
    {
      "cell_type": "code",
      "execution_count": null,
      "id": "0253fe82-3fc9-46af-a28a-764d719d94d8",
      "metadata": {
        "id": "e1db0f24d1da"
      },
      "outputs": [],
      "source": [
        "subset_data = df[df[\"label\"].isin([VERYNEGATIVE, VERYPOSITIVE])].reset_index(drop=True)\n",
        "subset_data.head()"
      ]
    },
    {
      "cell_type": "code",
      "execution_count": null,
      "id": "6b12e9a1-0444-4068-93cd-ba3d173e7233",
      "metadata": {
        "id": "99f314e5a437"
      },
      "outputs": [],
      "source": [
        "subset_data[\"label\"] = subset_data[\"label\"].apply(lambda x: 1 if x == 3 else 0)\n",
        "subset_data[\"ml_use\"] = \"\"\n",
        "subset_data[\"sentimentMax\"] = 1\n",
        "subset_data = subset_data[[\"ml_use\", \"text\", \"label\", \"sentimentMax\"]]\n",
        "print(subset_data.head())"
      ]
    },
    {
      "cell_type": "markdown",
      "id": "525bd8c9-5fd8-4e31-a66c-0ab7ee5a2d87",
      "metadata": {
        "id": "c3e54c1f430a"
      },
      "source": [
        "### Creating an import csv"
      ]
    },
    {
      "cell_type": "code",
      "execution_count": null,
      "id": "04332242-a356-4539-9191-ada15e603d1b",
      "metadata": {
        "id": "806303530d77"
      },
      "outputs": [],
      "source": [
        "FILE_NAME = \"sentiment_data.csv\"\n",
        "subset_data.to_csv(FILE_NAME, index=False)\n",
        "# Upload the saved model file to Cloud Storage\n",
        "BLOB_PATH = \"sentiment_analysis/\"\n",
        "BLOB_NAME = os.path.join(BLOB_PATH, FILE_NAME)\n",
        "bucket = storage.Client().bucket(BUCKET_NAME)\n",
        "blob = bucket.blob(BLOB_NAME)\n",
        "blob.upload_from_filename(FILE_NAME)"
      ]
    },
    {
      "cell_type": "markdown",
      "id": "6bc262be-6b18-49dc-bb3a-d1c6323aa1cc",
      "metadata": {
        "id": "453938b7c88b"
      },
      "source": [
        "## Creating Dataset in Vertex AI\n",
        "<a name=\"section-7\"></a>"
      ]
    },
    {
      "cell_type": "markdown",
      "id": "79f5b072-5fc4-4804-94fa-dfd7c7f281b8",
      "metadata": {
        "id": "061bca976104"
      },
      "source": [
        "The following code uses the Vertex AI SDK for Python to both create a dataset and import data. "
      ]
    },
    {
      "cell_type": "code",
      "execution_count": null,
      "id": "de42bdeb-4f17-432a-9bf8-cc76316b0fbf",
      "metadata": {
        "id": "e359a68f6295"
      },
      "outputs": [],
      "source": [
        "def import_data_text_sentiment_analysis(\n",
        "    project: str,\n",
        "    location: str,\n",
        "    display_name: str,\n",
        "    src_uris: Union[str, List[str]],\n",
        "    sync: bool = True,\n",
        "):\n",
        "    aiplatform.init(project=project, location=location)\n",
        "\n",
        "    ds = aiplatform.TextDataset.create(\n",
        "        display_name=display_name,\n",
        "        gcs_source=src_uris,\n",
        "        import_schema_uri=aiplatform.schema.dataset.ioformat.text.sentiment,\n",
        "        sync=sync,\n",
        "    )\n",
        "\n",
        "    ds.wait()\n",
        "\n",
        "    print(ds.display_name)\n",
        "    print(ds.resource_name)\n",
        "    return ds"
      ]
    },
    {
      "cell_type": "code",
      "execution_count": null,
      "id": "7ece2f5d-e684-4301-a594-75512a32c8b5",
      "metadata": {
        "id": "989313dc7b94"
      },
      "outputs": [],
      "source": [
        "display_name = \"sentimentanalysis\"\n",
        "src_uris = [f\"gs://{BUCKET_NAME}/sentiment_analysis/sentiment_data.csv\"]\n",
        "dataset = import_data_text_sentiment_analysis(\n",
        "    PROJECT_ID, LOCATION, display_name, src_uris\n",
        ")"
      ]
    },
    {
      "cell_type": "markdown",
      "id": "b7bd14d1-5997-440e-a657-717ab7f75607",
      "metadata": {
        "id": "a7c140cb93c0"
      },
      "source": [
        "## Training the model using Vertex AI\n",
        "<a name=\"section-8\"></a>"
      ]
    },
    {
      "cell_type": "markdown",
      "id": "1210da4d-1280-4b6f-bb49-c0cfdbab31e3",
      "metadata": {
        "id": "38bc9330bd37"
      },
      "source": [
        "The following code uses the Vertex AI SDK for Python to train the model on the above created dataset. You can get the dataset id from the Dataset section of Vertex AI in the console or get from the resource name in the dataset object created above. We can specify how the training data is split between the training, validation, and test sets by setting the fraction_split variables."
      ]
    },
    {
      "cell_type": "code",
      "execution_count": null,
      "id": "29279a7b-fd0e-472a-8d60-425c0db773b2",
      "metadata": {
        "id": "bd06f6f67a56"
      },
      "outputs": [],
      "source": [
        "def create_training_pipeline_text_sentiment_analysis(\n",
        "    project: str,\n",
        "    location: str,\n",
        "    display_name: str,\n",
        "    dataset_id: str,\n",
        "    model_display_name: Optional[str] = None,\n",
        "    sentiment_max: int = 10,\n",
        "    training_fraction_split: float = 0.8,\n",
        "    validation_fraction_split: float = 0.1,\n",
        "    test_fraction_split: float = 0.1,\n",
        "    sync: bool = True,\n",
        "):\n",
        "    aiplatform.init(project=project, location=location)\n",
        "\n",
        "    job = aiplatform.AutoMLTextTrainingJob(\n",
        "        display_name=display_name,\n",
        "        prediction_type=\"sentiment\",\n",
        "        sentiment_max=sentiment_max,\n",
        "    )\n",
        "\n",
        "    text_dataset = aiplatform.TextDataset(dataset_id)\n",
        "\n",
        "    model = job.run(\n",
        "        dataset=text_dataset,\n",
        "        model_display_name=model_display_name,\n",
        "        training_fraction_split=training_fraction_split,\n",
        "        validation_fraction_split=validation_fraction_split,\n",
        "        test_fraction_split=test_fraction_split,\n",
        "        sync=sync,\n",
        "    )\n",
        "\n",
        "    model.wait()\n",
        "\n",
        "    print(model.display_name)\n",
        "    print(model.resource_name)\n",
        "    print(model.uri)\n",
        "    return model"
      ]
    },
    {
      "cell_type": "code",
      "execution_count": null,
      "id": "3f02a27f-30b9-40fb-a4b8-e896217321af",
      "metadata": {
        "id": "a0a83ba2be4b"
      },
      "outputs": [],
      "source": [
        "display_name = \"sentimentanalysis\"\n",
        "dataset_id = dataset.resource_name.split(\"/\")[-1]\n",
        "print(dataset_id)\n",
        "model = create_training_pipeline_text_sentiment_analysis(\n",
        "    PROJECT_ID, LOCATION, display_name, dataset_id, sentiment_max=1\n",
        ")"
      ]
    },
    {
      "cell_type": "markdown",
      "id": "af4cd245-8db2-4fbc-a4e7-ed76b5a18719",
      "metadata": {
        "id": "077f319a4218"
      },
      "source": [
        "## Deploy the Model to the endpoint\n",
        "<a name=\"section-9\"></a>\n"
      ]
    },
    {
      "cell_type": "markdown",
      "id": "2a7144bf-ba37-40d4-950a-a9a2bd9708b3",
      "metadata": {
        "id": "cd4463310e5a"
      },
      "source": [
        "#### create the endpoint"
      ]
    },
    {
      "cell_type": "code",
      "execution_count": null,
      "id": "3b456052-2378-4d83-bcf5-072e0fd67283",
      "metadata": {
        "id": "473ff65e0b88"
      },
      "outputs": [],
      "source": [
        "def create_endpoint(\n",
        "    project: str,\n",
        "    display_name: str,\n",
        "    location: str,\n",
        "):\n",
        "    aiplatform.init(project=project, location=location)\n",
        "\n",
        "    endpoint = aiplatform.Endpoint.create(\n",
        "        display_name=display_name,\n",
        "        project=project,\n",
        "        location=location,\n",
        "    )\n",
        "\n",
        "    print(endpoint.display_name)\n",
        "    print(endpoint.resource_name)\n",
        "    return endpoint"
      ]
    },
    {
      "cell_type": "code",
      "execution_count": null,
      "id": "adfddb5e-b4a6-403e-9da6-1f93e7251398",
      "metadata": {
        "id": "54785032708f"
      },
      "outputs": [],
      "source": [
        "display_name = \"sentiment-analysis\"\n",
        "endpoint = create_endpoint(PROJECT_ID, display_name, LOCATION)"
      ]
    },
    {
      "cell_type": "markdown",
      "id": "5404bc6a-fbe5-4f26-83ff-010c2146a024",
      "metadata": {
        "id": "f84df96c9828"
      },
      "source": [
        "#### Deploy the model"
      ]
    },
    {
      "cell_type": "markdown",
      "id": "c3f02b2d-8e5c-490c-8176-1d1b43442981",
      "metadata": {
        "id": "6bf13cc6a68f"
      },
      "source": [
        "The following code uses the Vertex AI SDK for Python to deploy the model to a endpoint. You can get the model id from the models section of Vertex AI in the console"
      ]
    },
    {
      "cell_type": "code",
      "execution_count": null,
      "id": "7207f24c-3fc0-4759-96c1-2d0b29f45bb7",
      "metadata": {
        "id": "7db8d93ea373"
      },
      "outputs": [],
      "source": [
        "def deploy_model_with_automatic_resources(\n",
        "    project,\n",
        "    location,\n",
        "    model_name: str,\n",
        "    endpoint: Optional[aiplatform.Endpoint] = None,\n",
        "    deployed_model_display_name: Optional[str] = None,\n",
        "    traffic_percentage: Optional[int] = 0,\n",
        "    traffic_split: Optional[Dict[str, int]] = None,\n",
        "    min_replica_count: int = 1,\n",
        "    max_replica_count: int = 1,\n",
        "    metadata: Optional[Sequence[Tuple[str, str]]] = (),\n",
        "    sync: bool = True,\n",
        "):\n",
        "    \"\"\"\n",
        "    model_name: A fully-qualified model resource name or model ID.\n",
        "          Example: \"projects/123/locations/us-central1/models/456\" or\n",
        "          \"456\" when project and location are initialized or passed.\n",
        "    \"\"\"\n",
        "\n",
        "    aiplatform.init(project=project, location=location)\n",
        "\n",
        "    model = aiplatform.Model(model_name=model_name)\n",
        "    model.deploy(\n",
        "        endpoint=endpoint,\n",
        "    )\n",
        "    model.wait()\n",
        "    print(model.display_name)\n",
        "    print(model.resource_name)\n",
        "    return model"
      ]
    },
    {
      "cell_type": "code",
      "execution_count": null,
      "id": "9d588407-324e-4bf2-9bbd-25dc45f58a38",
      "metadata": {
        "id": "ace75348ce10"
      },
      "outputs": [],
      "source": [
        "model_id = \"\"\n",
        "model = deploy_model_with_automatic_resources(PROJECT_ID, LOCATION, model_id, endpoint)"
      ]
    },
    {
      "cell_type": "markdown",
      "id": "f970ca16-34ef-47ff-97af-c4b35b97db67",
      "metadata": {
        "id": "9bcd4d7a11de"
      },
      "source": [
        "## Prediction\n",
        "<a name=\"section-10\"></a>\n"
      ]
    },
    {
      "cell_type": "markdown",
      "id": "a2e6a187-cf73-4072-9373-05d9847ff44d",
      "metadata": {
        "id": "c72060f26336"
      },
      "source": [
        "After deploying the model to an endpoint use the Vertex AI API to request an online prediction. Filter the data which we haven't used for the training and pick longer reviews to test the model "
      ]
    },
    {
      "cell_type": "code",
      "execution_count": null,
      "id": "6b69fd2c-d0e0-4d77-b33a-038302d97c2a",
      "metadata": {
        "id": "7fa5e1a01a77"
      },
      "outputs": [],
      "source": [
        "def predict_text_sentiment_analysis_sample(endpoint, content):\n",
        "    print(content)\n",
        "    response = endpoint.predict(instances=[{\"content\": content}], parameters={})\n",
        "\n",
        "    for prediction_ in response.predictions:\n",
        "        print(prediction_)"
      ]
    },
    {
      "cell_type": "code",
      "execution_count": null,
      "id": "c1bfbef3-9a3f-46a2-9858-a53b2e63d743",
      "metadata": {
        "id": "817ba5968e22"
      },
      "outputs": [],
      "source": [
        "test_data_pos = df[df[\"label\"].isin([POSITIVE])].reset_index(drop=True)\n",
        "test_data_neg = df[df[\"label\"].isin([NEGATIVE])].reset_index(drop=True)\n",
        "\n",
        "test_data_neg = test_data_neg.text.values\n",
        "test_data_neg = [i for i in test_data_neg if len(i) > 200]\n",
        "random.shuffle(test_data_neg)"
      ]
    },
    {
      "cell_type": "code",
      "execution_count": null,
      "id": "5cac4c12-b4bb-41ef-aeb9-87bfa7071b48",
      "metadata": {
        "id": "3fed98fbb6d7"
      },
      "outputs": [],
      "source": [
        "test_data_pos = test_data_pos.text.values\n",
        "test_data_pos = [i for i in test_data_pos if len(i) > 200]\n",
        "random.shuffle(test_data_pos)"
      ]
    },
    {
      "cell_type": "markdown",
      "id": "340f3d6a-c350-4846-a040-36db400fdf37",
      "metadata": {
        "id": "963102b04a59"
      },
      "source": [
        "Here is the prediction results on the positive samples. Model did a good job on predicting positive sentiment for positive reviews. First and last review predictions are false negatives. \n"
      ]
    },
    {
      "cell_type": "code",
      "execution_count": null,
      "id": "03d750ea-d1ca-49a5-ae40-ebeded32d680",
      "metadata": {
        "id": "5d7b1d59c0d0"
      },
      "outputs": [],
      "source": [
        "for review in test_data_pos[0:10]:\n",
        "    predict_text_sentiment_analysis_sample(endpoint, review)"
      ]
    },
    {
      "cell_type": "markdown",
      "id": "45430d7b-62e5-4e8f-be64-f0aece454b6e",
      "metadata": {
        "id": "6fc9dbc3436e"
      },
      "source": [
        "Here is the prediction results on the negative reviews. Out of 10 reviews below 7 negative reviews are correctly predicted with negative sentiment"
      ]
    },
    {
      "cell_type": "code",
      "execution_count": null,
      "id": "f83741a7-0a90-4bbb-869d-c0f60b65782a",
      "metadata": {
        "id": "53830cc82fc5"
      },
      "outputs": [],
      "source": [
        "for review in test_data_neg[0:10]:\n",
        "    predict_text_sentiment_analysis_sample(endpoint, review)"
      ]
    },
    {
      "cell_type": "markdown",
      "id": "992a4147-c488-4a7c-827b-bdcbda3a798b",
      "metadata": {
        "id": "aa6a2abc2006"
      },
      "source": [
        "## Reviews visualisation\n",
        "<a name=\"section-11\"></a>\n"
      ]
    },
    {
      "cell_type": "markdown",
      "id": "fe396e2f-e3fb-48c9-8aac-f92820644e70",
      "metadata": {
        "id": "f478d63de61a"
      },
      "source": [
        "Here we are trying to visualise the positive and negative reviews in the data."
      ]
    },
    {
      "cell_type": "code",
      "execution_count": null,
      "id": "904a2d19-180a-4d99-9f59-1c838fe26275",
      "metadata": {
        "id": "b08c4be897ce"
      },
      "outputs": [],
      "source": [
        "data_pos = df[df[\"label\"].isin([VERYPOSITIVE])].reset_index(drop=True)\n",
        "data_neg = df[df[\"label\"].isin([VERYNEGATIVE])].reset_index(drop=True)\n",
        "\n",
        "data_neg = data_neg.text.values"
      ]
    },
    {
      "cell_type": "code",
      "execution_count": null,
      "id": "d4fd3cbe-b5f3-40f4-a3e0-5c28335d08a6",
      "metadata": {
        "id": "27d61dcee56a"
      },
      "outputs": [],
      "source": [
        "data_pos = data_pos.text.values"
      ]
    },
    {
      "cell_type": "markdown",
      "id": "e7d4e8e8-3d8a-437f-b010-3a4b8794c241",
      "metadata": {
        "id": "9ddc8e1dfaab"
      },
      "source": [
        "Creating the word cloud by removing the common words to highlight the words representing positive and negative samples "
      ]
    },
    {
      "cell_type": "code",
      "execution_count": null,
      "id": "318ace0b-07de-4e67-9d33-112e9af393a7",
      "metadata": {
        "id": "8f48fa9258c3"
      },
      "outputs": [],
      "source": [
        "# Python program to generate WordCloud\n",
        "def plot_word_cloud(data, common_words):\n",
        "    comment_words = \"\"\n",
        "    stopwords = set(STOPWORDS)\n",
        "    for val in data:\n",
        "        tokens = val.split()\n",
        "        for i in range(len(tokens)):\n",
        "            tokens[i] = tokens[i].lower()\n",
        "            for each in common_words:\n",
        "                if each in tokens[i]:\n",
        "                    tokens[i] = \"\"\n",
        "                    break\n",
        "\n",
        "        comment_words += \" \".join(tokens) + \" \"\n",
        "\n",
        "    wordcloud = WordCloud(\n",
        "        width=800,\n",
        "        height=800,\n",
        "        background_color=\"white\",\n",
        "        stopwords=stopwords,\n",
        "        min_font_size=10,\n",
        "    ).generate(comment_words)\n",
        "\n",
        "    plt.figure(figsize=(8, 8), facecolor=None)\n",
        "    plt.imshow(wordcloud)\n",
        "    plt.axis(\"off\")\n",
        "    plt.tight_layout(pad=0)\n",
        "\n",
        "    plt.show()"
      ]
    },
    {
      "cell_type": "markdown",
      "id": "a442b525-54b6-4794-b1e4-7f53f1cb7e3d",
      "metadata": {
        "id": "09e568ad3526"
      },
      "source": [
        "Word cloud of negative reviews"
      ]
    },
    {
      "cell_type": "code",
      "execution_count": null,
      "id": "3cde242c-fe9a-4144-a6f5-c8bbac321786",
      "metadata": {
        "id": "4fd9bf528bb4"
      },
      "outputs": [],
      "source": [
        "plot_word_cloud(\n",
        "    data_neg,\n",
        "    [\n",
        "        \"movie\",\n",
        "        \"film\",\n",
        "        \"story\",\n",
        "        \"audience\",\n",
        "        \"director\",\n",
        "        \"watch\",\n",
        "        \"seem\",\n",
        "        \"world\",\n",
        "        \"one\",\n",
        "        \"make\",\n",
        "        \"way\",\n",
        "        \"character\",\n",
        "        \"much\",\n",
        "        \"time\",\n",
        "        \"even\",\n",
        "        \"take\",\n",
        "        \"s\",\n",
        "        \"n't\",\n",
        "        \"will\",\n",
        "        \"may\",\n",
        "        \"re\",\n",
        "        \"plot\",\n",
        "        \"good\",\n",
        "        \"comedy\",\n",
        "        \"made\",\n",
        "    ],\n",
        ")"
      ]
    },
    {
      "cell_type": "markdown",
      "id": "abc93a13-e675-4381-8b0a-0563ab939017",
      "metadata": {
        "id": "cd2c9686efbc"
      },
      "source": [
        "Word cloud of positive reviews"
      ]
    },
    {
      "cell_type": "code",
      "execution_count": null,
      "id": "887787e6-498d-4194-86aa-51b46efe29b6",
      "metadata": {
        "id": "2fb8c50e991b"
      },
      "outputs": [],
      "source": [
        "plot_word_cloud(\n",
        "    data_pos,\n",
        "    [\n",
        "        \"movie\",\n",
        "        \"film\",\n",
        "        \"story\",\n",
        "        \"audience\",\n",
        "        \"director\",\n",
        "        \"watch\",\n",
        "        \"seem\",\n",
        "        \"world\",\n",
        "        \"one\",\n",
        "        \"make\",\n",
        "        \"way\",\n",
        "        \"character\",\n",
        "        \"much\",\n",
        "        \"time\",\n",
        "        \"even\",\n",
        "        \"take\",\n",
        "        \"s\",\n",
        "        \"n't\",\n",
        "        \"will\",\n",
        "        \"may\",\n",
        "        \"re\",\n",
        "        \"plot\",\n",
        "        \"made\",\n",
        "    ],\n",
        ")"
      ]
    },
    {
      "cell_type": "markdown",
      "id": "67aebd05-2822-4dc9-86dc-8fb60bbbfeb7",
      "metadata": {
        "id": "c169667d92e8"
      },
      "source": [
        "## Clean up\n",
        "<a name=\"section-12\"></a>\n",
        "\n",
        "Undeploy the model from endpoint."
      ]
    },
    {
      "cell_type": "code",
      "execution_count": null,
      "id": "9e1b4484-64b8-43b9-8700-8015ec043714",
      "metadata": {
        "id": "c72329be87c8"
      },
      "outputs": [],
      "source": [
        "DEPLOYED_MODEL_ID = \"\"\n",
        "endpoint.undeploy(deployed_model_id=DEPLOYED_MODEL_ID)"
      ]
    },
    {
      "cell_type": "markdown",
      "id": "9177d56b-6d09-4e2a-8cb3-40e98b277a79",
      "metadata": {
        "id": "1b8c7af9f513"
      },
      "source": [
        "Delete the endpoint."
      ]
    },
    {
      "cell_type": "code",
      "execution_count": null,
      "id": "755f0d68-b7d8-46b4-978a-15e88084ac84",
      "metadata": {
        "id": "1a08e7cea52d"
      },
      "outputs": [],
      "source": [
        "endpoint.delete()"
      ]
    },
    {
      "cell_type": "markdown",
      "id": "6213446a-fd71-4aa8-8c34-7d0777c1e89d",
      "metadata": {
        "id": "aa0be755cb23"
      },
      "source": [
        "Delete the dataset"
      ]
    },
    {
      "cell_type": "code",
      "execution_count": null,
      "id": "fbd51fb9-c7f0-4be4-ab51-982902920494",
      "metadata": {
        "id": "42244042a680"
      },
      "outputs": [],
      "source": [
        "dataset.delete()"
      ]
    },
    {
      "cell_type": "markdown",
      "id": "736ce014-e3e4-4757-8030-69046f754868",
      "metadata": {
        "id": "c79a8e124887"
      },
      "source": [
        "Delete the model"
      ]
    },
    {
      "cell_type": "code",
      "execution_count": null,
      "id": "c04e5fa3-3f5f-43d3-9dc9-a7c8cf8a1474",
      "metadata": {
        "id": "034a8bcc30de"
      },
      "outputs": [],
      "source": [
        "model.delete()"
      ]
    }
  ],
  "metadata": {
    "colab": {
      "name": "Sentiment_Analysis.ipynb",
      "toc_visible": true
    },
    "kernelspec": {
      "display_name": "Python 3",
      "name": "python3"
    }
  },
  "nbformat": 4,
  "nbformat_minor": 0
}
