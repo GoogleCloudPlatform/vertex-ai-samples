{
 "cells": [
  {
   "cell_type": "markdown",
   "id": "c7300ba6",
   "metadata": {},
   "source": [
    "# Forecasting Retail Demand with Vertex AI and BQML "
   ]
  },
  {
   "cell_type": "markdown",
   "id": "90711f2b-952f-4f12-903f-e2e82907df17",
   "metadata": {},
   "source": [
    "## Table Of Contents\n",
    "* [Overview](#section-1)\n",
    "* [Dataset](#section-2)\n",
    "* [Objective](#section-3)\n",
    "* [Costs](#section-4)\n",
    "* [Explore Data](#section-5)\n",
    "* [Modeling with BigQuery and the ARIMA model](#section-6)\n",
    "* [Evaluating model](#section-7)\n",
    "* [Executor](#section-8)\n",
    "* [Clean Up](#section-9)\n",
    "\n"
   ]
  },
  {
   "cell_type": "markdown",
   "id": "9e2f0b78",
   "metadata": {},
   "source": [
    "## Overview \n",
    "<a name=\"section-1\"></a>\n",
    "\n",
    "\n",
    "In this notebook, we explore demand forecasting using bigquery public retail dataset. Being able to measure and forecast customer demand can help retailers better understand their customers, stock shelves with the right products, offer targeted promotions, and generally, better plan and manage their budgets. We apply an ARIMA model (Autoregressive integrated moving average) from BQML on retail data. This notebook demonstrates how to train and evaluate a BQML model for demand forecasting datasets, extract actionable future insights.\n",
    "\n",
    "You have to follow this steps before going through this notebook inside Vertex-AI notebook instance :\n",
    "* Create a managed notebook instance in Vertex-AI with python3 (\"NumPy/SciPy/scikit-learn\") environment on a n1-standard4 instance.\n",
    "\n",
    "\n",
    "#### ARIMA Modeling with BQML \n",
    "\n",
    "The <a href='https://en.wikipedia.org/wiki/Autoregressive_integrated_moving_average'>ARIMA model</a> is designed to analyze historical data, spot patterns over time, and project them into the future, i.e. forecasting. The model is available inside BigQuery ML and enables users to create and execute machine learning models directly in BigQuery using SQL queries. Working with BQML is advantageous, as it already has access to the data, it can handle most of the modeling details automatically if desired, and will store both the model and any predictions also inside BigQuery. \n"
   ]
  },
  {
   "cell_type": "markdown",
   "id": "683a5ef9",
   "metadata": {},
   "source": [
    "## Dataset \n",
    "<a name=\"section-2\"></a>\n",
    "\n",
    "This notebook uses the bigquery public retail data set.\n",
    "The data covers 10 US stores and includes item level, department, product categories, and store details. In addition, it has explanatory variables such as price, gross_margin. \n"
   ]
  },
  {
   "cell_type": "markdown",
   "id": "bdce8091-ef4b-4182-90bd-74d2dacab10d",
   "metadata": {},
   "source": [
    "## Objective\n",
    "<a name=\"section-3\"></a>\n",
    "In this tutorial we follow below steps\n",
    "* Explore Data\n",
    "* Model with BigQuery and the ARIMA model\n",
    "* Evaluate the model\n",
    "* Evaluate the Model Results using BQML (on Training Data)\n",
    "* Evalute the Model Results - MAE, MAPE, MSE, RMSE (on Test data)\n",
    "* Executor feature"
   ]
  },
  {
   "cell_type": "markdown",
   "id": "fa6f8d5a-2146-4f02-aa6e-a1895f61adbf",
   "metadata": {},
   "source": [
    "## Costs\n",
    "<a name=\"section-4\"></a>\n",
    "This tutorial uses the following billable components of Google Cloud:\n",
    "\n",
    "* Vertex AI\n",
    "* Bigquery\n",
    "\n",
    "Learn about [Vertex AI\n",
    "pricing](https://cloud.google.com/vertex-ai/pricing), [Bigquery\n",
    "pricing](https://cloud.google.com/bigquery/pricing) and use the [Pricing\n",
    "Calculator](https://cloud.google.com/products/calculator/)\n",
    "to generate a cost estimate based on your projected usage."
   ]
  },
  {
   "cell_type": "markdown",
   "id": "dfb16fcb",
   "metadata": {},
   "source": [
    "## Before you begin\n",
    "\n",
    "**Note:** This notebook does not require a GPU runtime."
   ]
  },
  {
   "cell_type": "markdown",
   "id": "971770ae",
   "metadata": {},
   "source": [
    "### Set up your Google Cloud project\n",
    "\n",
    "**The following steps are required, regardless of your notebook environment.**\n",
    "\n",
    "1. [Select or create a Google Cloud project](https://console.cloud.google.com/cloud-resource-manager). When you first create an account, you get a $300 free credit towards your compute/storage costs.\n",
    "\n",
    "1. [Make sure that billing is enabled for your project](https://cloud.google.com/billing/docs/how-to/modify-project).\n",
    "\n",
    "1. [Enable the Vertex AI, Cloud Storage, and Compute Engine APIs](https://console.cloud.google.com/flows/enableapi?apiid=aiplatform.googleapis.com,compute_component,storage-component.googleapis.com). \n",
    "\n",
    "1. Follow the \"**Configuring your project**\" instructions from the Vertex Pipelines documentation.\n",
    "\n",
    "1. If you are running this notebook locally, you will need to install the [Cloud SDK](https://cloud.google.com/sdk).\n",
    "\n",
    "1. Enter your project ID in the cell below. Then run the cell to make sure the\n",
    "Cloud SDK uses the right project for all the commands in this notebook.\n",
    "\n",
    "**Note**: Jupyter runs lines prefixed with `!` as shell commands, and it interpolates Python variables prefixed with `$` into these commands."
   ]
  },
  {
   "cell_type": "markdown",
   "id": "48f05776",
   "metadata": {},
   "source": [
    "#### Set your project ID\n",
    "\n",
    "**If you don't know your project ID**, you may be able to get your project ID using `gcloud`."
   ]
  },
  {
   "cell_type": "code",
   "execution_count": 143,
   "id": "d3daccb7",
   "metadata": {},
   "outputs": [
    {
     "name": "stdout",
     "output_type": "stream",
     "text": [
      "Project ID:  vertex-ai-dev\n"
     ]
    }
   ],
   "source": [
    "import os\n",
    "PROJECT_ID = \"\"\n",
    "\n",
    "# Get your Google Cloud project ID from gcloud\n",
    "if not os.getenv(\"IS_TESTING\"):\n",
    "    shell_output=!gcloud config list --format 'value(core.project)' 2>/dev/null\n",
    "    PROJECT_ID = shell_output[0]\n",
    "    print(\"Project ID: \", PROJECT_ID)"
   ]
  },
  {
   "cell_type": "markdown",
   "id": "9521892d",
   "metadata": {},
   "source": [
    "Otherwise, set your project ID here."
   ]
  },
  {
   "cell_type": "code",
   "execution_count": 2,
   "id": "a654cacc",
   "metadata": {},
   "outputs": [],
   "source": [
    "if PROJECT_ID == \"\" or PROJECT_ID is None:\n",
    "    PROJECT_ID = \"[your-project-id]\"  # @param {type:\"string\"}"
   ]
  },
  {
   "cell_type": "markdown",
   "id": "cc90a20e",
   "metadata": {},
   "source": [
    "#### Timestamp\n",
    "\n",
    "If you are in a live tutorial session, you might be using a shared test account or project. To avoid name collisions between users on resources created, you create a timestamp for each instance session, and append it onto the name of resources you create in this tutorial."
   ]
  },
  {
   "cell_type": "code",
   "execution_count": 144,
   "id": "0a083529",
   "metadata": {},
   "outputs": [],
   "source": [
    "from datetime import datetime\n",
    "\n",
    "TIMESTAMP = datetime.now().strftime(\"%Y%m%d%H%M%S\")"
   ]
  },
  {
   "cell_type": "markdown",
   "id": "046a7794",
   "metadata": {},
   "source": [
    "## Import libraries and define constants"
   ]
  },
  {
   "cell_type": "markdown",
   "id": "ec1f5282",
   "metadata": {},
   "source": [
    "Load the required libraries"
   ]
  },
  {
   "cell_type": "code",
   "execution_count": 1,
   "id": "d9d5cc72",
   "metadata": {},
   "outputs": [],
   "source": [
    "from functools import partial\n",
    "import pandas as pd\n",
    "from google.cloud import bigquery\n",
    "import matplotlib.pyplot as plt\n",
    "from google.cloud.bigquery import Client, QueryJobConfig\n",
    "import datetime\n",
    "from sklearn.metrics import mean_absolute_error, mean_absolute_percentage_error, mean_squared_error\n",
    "\n",
    "%matplotlib inline\n",
    "\n",
    "import warnings\n",
    "warnings.filterwarnings('ignore')"
   ]
  },
  {
   "cell_type": "code",
   "execution_count": 99,
   "id": "00ce9b4f-551f-4b64-a899-e513c06cbbe6",
   "metadata": {},
   "outputs": [],
   "source": [
    "PROJECT_ID='vertex-ai-dev'\n",
    "DATASET='demandforecasting'\n",
    "SALES_TABLE='total_formatted_data'"
   ]
  },
  {
   "cell_type": "markdown",
   "id": "3d438f9f-74d1-4569-8dc2-39a4dee1ff8c",
   "metadata": {},
   "source": [
    "Create a bigquery datatset"
   ]
  },
  {
   "cell_type": "markdown",
   "id": "6e5c72b6",
   "metadata": {},
   "source": [
    "#@bigquery\n",
    "CREATE SCHEMA demandforecasting\n",
    "OPTIONS(\n",
    "  location=\"us\"\n",
    "  )"
   ]
  },
  {
   "cell_type": "markdown",
   "id": "fd744e8e-1d53-424b-a257-fe243943754b",
   "metadata": {},
   "source": [
    "## Explore the Data\n",
    "<a name=\"section-5\"></a>"
   ]
  },
  {
   "cell_type": "markdown",
   "id": "81eb5b7d-bf87-4b36-9ae9-77058188dd38",
   "metadata": {},
   "source": [
    "Viewing the data"
   ]
  },
  {
   "cell_type": "markdown",
   "id": "31b3664a",
   "metadata": {},
   "source": [
    "#@bigquery\n",
    "SELECT * FROM `looker-private-demo.retail.transaction_detail`"
   ]
  },
  {
   "cell_type": "markdown",
   "id": "564b6732-5029-4984-9e40-0c8b284e14e7",
   "metadata": {},
   "source": [
    "Creating a view in which we will ve extracting the important fields and will be selecting store with id 10 "
   ]
  },
  {
   "cell_type": "markdown",
   "id": "74de5275",
   "metadata": {},
   "source": [
    "#@bigquery\n",
    "CREATE OR REPLACE VIEW demandforecasting.important_fields AS\n",
    "(\n",
    "    SELECT transaction_timestamp,line_items from `looker-private-demo.retail.transaction_detail` WHERE store_id = 10\n",
    ")   "
   ]
  },
  {
   "cell_type": "markdown",
   "id": "9dad58e8-b011-47f2-bd6c-6963698f4c45",
   "metadata": {},
   "source": [
    "Viewing the data"
   ]
  },
  {
   "cell_type": "markdown",
   "id": "1936f541",
   "metadata": {},
   "source": [
    "#@bigquery\n",
    "SELECT * FROM demandforecasting.important_fields"
   ]
  },
  {
   "cell_type": "markdown",
   "id": "11296e9c-6fca-4f0e-a465-76da91d88a83",
   "metadata": {},
   "source": [
    "Converting timestamp to date for transaction_timestamp column "
   ]
  },
  {
   "cell_type": "markdown",
   "id": "c721a5bd",
   "metadata": {},
   "source": [
    "#@bigquery\n",
    "CREATE OR REPLACE VIEW demandforecasting.data_after_converting_timestamp_to_date AS\n",
    "(\n",
    "    SELECT EXTRACT(DATE FROM transaction_timestamp AT TIME ZONE \"UTC\") AS date,line_items from demandforecasting.important_fields\n",
    ")   "
   ]
  },
  {
   "cell_type": "markdown",
   "id": "a5bcb243-c4ee-42ae-909d-fdc205ceddbf",
   "metadata": {},
   "source": [
    "Viewing the data"
   ]
  },
  {
   "cell_type": "markdown",
   "id": "32f2a14c",
   "metadata": {},
   "source": [
    "#@bigquery\n",
    "SELECT * FROM demandforecasting.data_after_converting_timestamp_to_date"
   ]
  },
  {
   "cell_type": "code",
   "execution_count": 145,
   "id": "e5ee1ad4-57c0-49a9-9fae-160c547943fb",
   "metadata": {},
   "outputs": [],
   "source": [
    "# The following two lines are only necessary to run once.\n",
    "# Comment out otherwise for speed-up.\n",
    "from google.cloud.bigquery import Client, QueryJobConfig\n",
    "client = Client()\n",
    "\n",
    "query = \"\"\"SELECT * FROM demandforecasting.data_after_converting_timestamp_to_date\"\"\"\n",
    "job = client.query(query)\n",
    "df_intermediary = job.to_dataframe()"
   ]
  },
  {
   "cell_type": "code",
   "execution_count": 146,
   "id": "eb3e360a-ca1b-480c-bb61-6a972f07d77f",
   "metadata": {},
   "outputs": [
    {
     "data": {
      "text/plain": [
       "date          object\n",
       "line_items    object\n",
       "dtype: object"
      ]
     },
     "execution_count": 146,
     "metadata": {},
     "output_type": "execute_result"
    }
   ],
   "source": [
    "df_intermediary.dtypes"
   ]
  },
  {
   "cell_type": "markdown",
   "id": "ee1a2269-c175-4e46-81a5-afd234d1814e",
   "metadata": {},
   "source": [
    "Line items is array of structs. We have to split each array into individual items\n",
    "\n"
   ]
  },
  {
   "cell_type": "markdown",
   "id": "2e75e015",
   "metadata": {},
   "source": [
    "#@bigquery\n",
    "CREATE OR REPLACE VIEW demandforecasting.split_array_of_structs AS\n",
    " \n",
    "(SELECT date,line_items\n",
    "FROM demandforecasting.data_after_converting_timestamp_to_date, UNNEST(line_items) AS line_items)"
   ]
  },
  {
   "cell_type": "markdown",
   "id": "43ed3e15-4afd-4e91-85bc-82bc8c6637cb",
   "metadata": {},
   "source": [
    "Viewing data"
   ]
  },
  {
   "cell_type": "markdown",
   "id": "60a7cd0a",
   "metadata": {},
   "source": [
    "#@bigquery\n",
    "SELECT * FROM demandforecasting.split_array_of_structs"
   ]
  },
  {
   "cell_type": "markdown",
   "id": "75709ee2-3117-4490-814b-cc6ee3a11501",
   "metadata": {},
   "source": [
    "We want only product_id column so ignoring other columns"
   ]
  },
  {
   "cell_type": "markdown",
   "id": "25bf4f8e",
   "metadata": {},
   "source": [
    "#@bigquery\n",
    "CREATE OR REPLACE VIEW demandforecasting.splitting_struct_columns AS\n",
    " \n",
    "(SELECT date,line_items.product_id as product_id\n",
    "FROM demandforecasting.split_array_of_structs)"
   ]
  },
  {
   "cell_type": "markdown",
   "id": "711aac62-0ba5-41f3-8763-9f054b2f35a6",
   "metadata": {},
   "source": [
    "Viewing data"
   ]
  },
  {
   "cell_type": "markdown",
   "id": "097f5495",
   "metadata": {},
   "source": [
    "#@bigquery\n",
    "SELECT * FROM demandforecasting.splitting_struct_columns "
   ]
  },
  {
   "cell_type": "markdown",
   "id": "fb58cdb1-bf4a-4406-bb7f-167f50f940f7",
   "metadata": {},
   "source": [
    "Here we are counting the sales of a product for each date"
   ]
  },
  {
   "cell_type": "markdown",
   "id": "8a57e37a",
   "metadata": {},
   "source": [
    "#@bigquery\n",
    "CREATE OR REPLACE VIEW demandforecasting.sales_count_per_date AS\n",
    " \n",
    "(SELECT date,product_id,COUNT(*) as sales_count\n",
    "FROM demandforecasting.splitting_struct_columns GROUP BY date,product_id)"
   ]
  },
  {
   "cell_type": "markdown",
   "id": "009feb93",
   "metadata": {},
   "source": [
    "#@bigquery\n",
    "SELECT * FROM demandforecasting.sales_count_per_date"
   ]
  },
  {
   "cell_type": "markdown",
   "id": "cabd20e8-2e0e-4690-9d13-9e9ca9ddce6e",
   "metadata": {},
   "source": [
    "Here we are creating a view for top five sold products. The products are chosen for which the sum of sales over all dates is highest"
   ]
  },
  {
   "cell_type": "markdown",
   "id": "05bff02f-dd35-4357-b439-260da16a1f75",
   "metadata": {},
   "source": [
    "#@bigquery\n",
    "CREATE OR REPLACE VIEW demandforecasting.top_five_products AS (\n",
    "    WITH topsellingitems AS(\n",
    "         SELECT \n",
    "            product_id,\n",
    "            sum(sales_count) sum_sales\n",
    "        FROM\n",
    "            `demandforecasting.sales_count_per_date` \n",
    "        GROUP BY \n",
    "            product_id\n",
    "        ORDER BY sum_sales DESC\n",
    "        LIMIT 5 #Top N\n",
    "    )\n",
    "    SELECT \n",
    "        date,\n",
    "        product_id,\n",
    "        sales_count\n",
    "    FROM\n",
    "        `demandforecasting.sales_count_per_date` \n",
    "    WHERE\n",
    "        product_id IN (SELECT product_id FROM topsellingitems)\n",
    "    )"
   ]
  },
  {
   "cell_type": "markdown",
   "id": "b55507b7-8354-430f-b248-37d26a5c806e",
   "metadata": {},
   "source": [
    "#@bigquery\n",
    "SELECT * FROM demandforecasting.top_five_products\n"
   ]
  },
  {
   "cell_type": "code",
   "execution_count": 148,
   "id": "f44b91e3-2c5a-4fd1-a813-d1dd436608d6",
   "metadata": {},
   "outputs": [],
   "source": [
    "# The following two lines are only necessary to run once.\n",
    "# Comment out otherwise for speed-up.\n",
    "from google.cloud.bigquery import Client\n",
    "client = Client()\n",
    "\n",
    "query = \"\"\"SELECT * FROM demandforecasting.top_five_products\"\"\"\n",
    "job = client.query(query)\n",
    "df = job.to_dataframe()"
   ]
  },
  {
   "cell_type": "code",
   "execution_count": 149,
   "id": "34545bb2-7410-4d15-96df-0052730dac96",
   "metadata": {},
   "outputs": [
    {
     "data": {
      "text/html": [
       "<div>\n",
       "<style scoped>\n",
       "    .dataframe tbody tr th:only-of-type {\n",
       "        vertical-align: middle;\n",
       "    }\n",
       "\n",
       "    .dataframe tbody tr th {\n",
       "        vertical-align: top;\n",
       "    }\n",
       "\n",
       "    .dataframe thead th {\n",
       "        text-align: right;\n",
       "    }\n",
       "</style>\n",
       "<table border=\"1\" class=\"dataframe\">\n",
       "  <thead>\n",
       "    <tr style=\"text-align: right;\">\n",
       "      <th></th>\n",
       "      <th>date</th>\n",
       "      <th>product_id</th>\n",
       "      <th>sales_count</th>\n",
       "    </tr>\n",
       "  </thead>\n",
       "  <tbody>\n",
       "    <tr>\n",
       "      <th>0</th>\n",
       "      <td>2021-02-16</td>\n",
       "      <td>23641</td>\n",
       "      <td>2</td>\n",
       "    </tr>\n",
       "    <tr>\n",
       "      <th>1</th>\n",
       "      <td>2020-10-29</td>\n",
       "      <td>13596</td>\n",
       "      <td>1</td>\n",
       "    </tr>\n",
       "    <tr>\n",
       "      <th>2</th>\n",
       "      <td>2021-09-28</td>\n",
       "      <td>20552</td>\n",
       "      <td>1</td>\n",
       "    </tr>\n",
       "    <tr>\n",
       "      <th>3</th>\n",
       "      <td>2018-07-05</td>\n",
       "      <td>28305</td>\n",
       "      <td>1</td>\n",
       "    </tr>\n",
       "    <tr>\n",
       "      <th>4</th>\n",
       "      <td>2021-05-10</td>\n",
       "      <td>23641</td>\n",
       "      <td>2</td>\n",
       "    </tr>\n",
       "    <tr>\n",
       "      <th>...</th>\n",
       "      <td>...</td>\n",
       "      <td>...</td>\n",
       "      <td>...</td>\n",
       "    </tr>\n",
       "    <tr>\n",
       "      <th>2550</th>\n",
       "      <td>2019-12-30</td>\n",
       "      <td>13596</td>\n",
       "      <td>1</td>\n",
       "    </tr>\n",
       "    <tr>\n",
       "      <th>2551</th>\n",
       "      <td>2021-06-25</td>\n",
       "      <td>20552</td>\n",
       "      <td>2</td>\n",
       "    </tr>\n",
       "    <tr>\n",
       "      <th>2552</th>\n",
       "      <td>2020-04-30</td>\n",
       "      <td>20552</td>\n",
       "      <td>2</td>\n",
       "    </tr>\n",
       "    <tr>\n",
       "      <th>2553</th>\n",
       "      <td>2019-12-07</td>\n",
       "      <td>28305</td>\n",
       "      <td>1</td>\n",
       "    </tr>\n",
       "    <tr>\n",
       "      <th>2554</th>\n",
       "      <td>2018-04-04</td>\n",
       "      <td>28305</td>\n",
       "      <td>1</td>\n",
       "    </tr>\n",
       "  </tbody>\n",
       "</table>\n",
       "<p>2555 rows × 3 columns</p>\n",
       "</div>"
      ],
      "text/plain": [
       "            date  product_id  sales_count\n",
       "0     2021-02-16       23641            2\n",
       "1     2020-10-29       13596            1\n",
       "2     2021-09-28       20552            1\n",
       "3     2018-07-05       28305            1\n",
       "4     2021-05-10       23641            2\n",
       "...          ...         ...          ...\n",
       "2550  2019-12-30       13596            1\n",
       "2551  2021-06-25       20552            2\n",
       "2552  2020-04-30       20552            2\n",
       "2553  2019-12-07       28305            1\n",
       "2554  2018-04-04       28305            1\n",
       "\n",
       "[2555 rows x 3 columns]"
      ]
     },
     "execution_count": 149,
     "metadata": {},
     "output_type": "execute_result"
    }
   ],
   "source": [
    "df"
   ]
  },
  {
   "cell_type": "code",
   "execution_count": 150,
   "id": "cd6c3209-034f-4364-a5de-1a2a7089cc28",
   "metadata": {},
   "outputs": [
    {
     "data": {
      "text/plain": [
       "date           object\n",
       "product_id      int64\n",
       "sales_count     int64\n",
       "dtype: object"
      ]
     },
     "execution_count": 150,
     "metadata": {},
     "output_type": "execute_result"
    }
   ],
   "source": [
    "df.dtypes"
   ]
  },
  {
   "cell_type": "markdown",
   "id": "c7a85bd7-f669-47d2-b2c1-85332efe6cc4",
   "metadata": {},
   "source": [
    "Convert date column data type from object to datetime"
   ]
  },
  {
   "cell_type": "code",
   "execution_count": 151,
   "id": "12f4f68e-bc9a-4b9e-ab1e-62da66eb726f",
   "metadata": {},
   "outputs": [],
   "source": [
    "df['date'] = pd.to_datetime(df['date'], format='%Y-%m-%d')\n"
   ]
  },
  {
   "cell_type": "markdown",
   "id": "b7fe4d1a-7b50-4de6-8a63-12f96d68c1cb",
   "metadata": {},
   "source": [
    "Here we have sales of products on only specific dates. For forecasting model we want continuous dates. So for each product we are putting zero for  sales_count column on dates which the product is not sold"
   ]
  },
  {
   "cell_type": "markdown",
   "id": "b63fb09f-d530-4fb4-8dfb-508be34f36e3",
   "metadata": {},
   "source": [
    "Here we are creating a dates dataframe from lowest date of all dates to highest date of all dates"
   ]
  },
  {
   "cell_type": "markdown",
   "id": "d9a4d8eb-071b-4fb9-964c-ab6aaa86e237",
   "metadata": {},
   "source": [
    "#@bigquery\n",
    "SELECT MIN(DATE) FROM demandforecasting.top_five_products"
   ]
  },
  {
   "cell_type": "markdown",
   "id": "15d01160-be77-4855-86f5-fd2ad8f866f1",
   "metadata": {},
   "source": [
    "#@bigquery\n",
    "SELECT MAX(DATE) FROM demandforecasting.top_five_products"
   ]
  },
  {
   "cell_type": "code",
   "execution_count": 152,
   "id": "9a630036-df1a-40f3-8623-5e9c4519fbe1",
   "metadata": {},
   "outputs": [],
   "source": [
    "dates = pd.date_range(start='2016-12-17', end='2021-10-06').to_frame() "
   ]
  },
  {
   "cell_type": "code",
   "execution_count": 153,
   "id": "7fd2a3d4-6b60-4cc9-88b2-5c1702a5a7d3",
   "metadata": {},
   "outputs": [
    {
     "name": "stdout",
     "output_type": "stream",
     "text": [
      "<class 'pandas.core.frame.DataFrame'>\n",
      "DatetimeIndex: 1755 entries, 2016-12-17 to 2021-10-06\n",
      "Freq: D\n",
      "Data columns (total 1 columns):\n",
      " #   Column  Non-Null Count  Dtype         \n",
      "---  ------  --------------  -----         \n",
      " 0   0       1755 non-null   datetime64[ns]\n",
      "dtypes: datetime64[ns](1)\n",
      "memory usage: 27.4 KB\n"
     ]
    }
   ],
   "source": [
    "dates.info()"
   ]
  },
  {
   "cell_type": "markdown",
   "id": "7ba1d8f8-5528-4265-bb2e-0da01d384313",
   "metadata": {},
   "source": [
    "For top five products we follow below step\n",
    "* Select a product_id, merge the product product_id rows with dates dataframe so that we will get a continuous dates dataframe for each product\n"
   ]
  },
  {
   "cell_type": "code",
   "execution_count": 154,
   "id": "3b546ff3-38fb-49f4-9288-38cf069c7647",
   "metadata": {},
   "outputs": [
    {
     "name": "stdout",
     "output_type": "stream",
     "text": [
      "data before for a product with product_id 20552\n"
     ]
    },
    {
     "data": {
      "text/html": [
       "<div>\n",
       "<style scoped>\n",
       "    .dataframe tbody tr th:only-of-type {\n",
       "        vertical-align: middle;\n",
       "    }\n",
       "\n",
       "    .dataframe tbody tr th {\n",
       "        vertical-align: top;\n",
       "    }\n",
       "\n",
       "    .dataframe thead th {\n",
       "        text-align: right;\n",
       "    }\n",
       "</style>\n",
       "<table border=\"1\" class=\"dataframe\">\n",
       "  <thead>\n",
       "    <tr style=\"text-align: right;\">\n",
       "      <th></th>\n",
       "      <th>date</th>\n",
       "      <th>product_id</th>\n",
       "      <th>sales_count</th>\n",
       "    </tr>\n",
       "  </thead>\n",
       "  <tbody>\n",
       "    <tr>\n",
       "      <th>2107</th>\n",
       "      <td>2016-12-17</td>\n",
       "      <td>20552</td>\n",
       "      <td>1</td>\n",
       "    </tr>\n",
       "    <tr>\n",
       "      <th>62</th>\n",
       "      <td>2016-12-30</td>\n",
       "      <td>20552</td>\n",
       "      <td>1</td>\n",
       "    </tr>\n",
       "    <tr>\n",
       "      <th>1396</th>\n",
       "      <td>2017-01-03</td>\n",
       "      <td>20552</td>\n",
       "      <td>2</td>\n",
       "    </tr>\n",
       "    <tr>\n",
       "      <th>380</th>\n",
       "      <td>2017-01-13</td>\n",
       "      <td>20552</td>\n",
       "      <td>1</td>\n",
       "    </tr>\n",
       "    <tr>\n",
       "      <th>1515</th>\n",
       "      <td>2017-01-19</td>\n",
       "      <td>20552</td>\n",
       "      <td>1</td>\n",
       "    </tr>\n",
       "    <tr>\n",
       "      <th>...</th>\n",
       "      <td>...</td>\n",
       "      <td>...</td>\n",
       "      <td>...</td>\n",
       "    </tr>\n",
       "    <tr>\n",
       "      <th>2014</th>\n",
       "      <td>2021-09-30</td>\n",
       "      <td>20552</td>\n",
       "      <td>2</td>\n",
       "    </tr>\n",
       "    <tr>\n",
       "      <th>316</th>\n",
       "      <td>2021-10-01</td>\n",
       "      <td>20552</td>\n",
       "      <td>3</td>\n",
       "    </tr>\n",
       "    <tr>\n",
       "      <th>751</th>\n",
       "      <td>2021-10-02</td>\n",
       "      <td>20552</td>\n",
       "      <td>1</td>\n",
       "    </tr>\n",
       "    <tr>\n",
       "      <th>662</th>\n",
       "      <td>2021-10-04</td>\n",
       "      <td>20552</td>\n",
       "      <td>1</td>\n",
       "    </tr>\n",
       "    <tr>\n",
       "      <th>2056</th>\n",
       "      <td>2021-10-05</td>\n",
       "      <td>20552</td>\n",
       "      <td>3</td>\n",
       "    </tr>\n",
       "  </tbody>\n",
       "</table>\n",
       "<p>760 rows × 3 columns</p>\n",
       "</div>"
      ],
      "text/plain": [
       "           date  product_id  sales_count\n",
       "2107 2016-12-17       20552            1\n",
       "62   2016-12-30       20552            1\n",
       "1396 2017-01-03       20552            2\n",
       "380  2017-01-13       20552            1\n",
       "1515 2017-01-19       20552            1\n",
       "...         ...         ...          ...\n",
       "2014 2021-09-30       20552            2\n",
       "316  2021-10-01       20552            3\n",
       "751  2021-10-02       20552            1\n",
       "662  2021-10-04       20552            1\n",
       "2056 2021-10-05       20552            3\n",
       "\n",
       "[760 rows x 3 columns]"
      ]
     },
     "execution_count": 154,
     "metadata": {},
     "output_type": "execute_result"
    }
   ],
   "source": [
    "print(\"data before for a product with product_id 20552\")\n",
    "df.loc[df['product_id'] == 20552].sort_values(by=['date'])"
   ]
  },
  {
   "cell_type": "markdown",
   "id": "60fa3d66-bc98-4970-8b33-e91fab16c90b",
   "metadata": {},
   "source": [
    "As we can see from 2016-12-17 to 2016-12-30 there are no dates displayes"
   ]
  },
  {
   "cell_type": "code",
   "execution_count": 155,
   "id": "6d7198da-c9e9-47e2-ba2d-d3ceaeaf3bb1",
   "metadata": {},
   "outputs": [
    {
     "name": "stdout",
     "output_type": "stream",
     "text": [
      "data after converting for a product with product_id 20552\n"
     ]
    },
    {
     "data": {
      "text/html": [
       "<div>\n",
       "<style scoped>\n",
       "    .dataframe tbody tr th:only-of-type {\n",
       "        vertical-align: middle;\n",
       "    }\n",
       "\n",
       "    .dataframe tbody tr th {\n",
       "        vertical-align: top;\n",
       "    }\n",
       "\n",
       "    .dataframe thead th {\n",
       "        text-align: right;\n",
       "    }\n",
       "</style>\n",
       "<table border=\"1\" class=\"dataframe\">\n",
       "  <thead>\n",
       "    <tr style=\"text-align: right;\">\n",
       "      <th></th>\n",
       "      <th>date</th>\n",
       "      <th>product_id</th>\n",
       "      <th>sales_count</th>\n",
       "    </tr>\n",
       "  </thead>\n",
       "  <tbody>\n",
       "    <tr>\n",
       "      <th>0</th>\n",
       "      <td>2016-12-17</td>\n",
       "      <td>20552</td>\n",
       "      <td>1</td>\n",
       "    </tr>\n",
       "    <tr>\n",
       "      <th>1</th>\n",
       "      <td>2016-12-18</td>\n",
       "      <td>20552</td>\n",
       "      <td>0</td>\n",
       "    </tr>\n",
       "    <tr>\n",
       "      <th>2</th>\n",
       "      <td>2016-12-19</td>\n",
       "      <td>20552</td>\n",
       "      <td>0</td>\n",
       "    </tr>\n",
       "    <tr>\n",
       "      <th>3</th>\n",
       "      <td>2016-12-20</td>\n",
       "      <td>20552</td>\n",
       "      <td>0</td>\n",
       "    </tr>\n",
       "    <tr>\n",
       "      <th>4</th>\n",
       "      <td>2016-12-21</td>\n",
       "      <td>20552</td>\n",
       "      <td>0</td>\n",
       "    </tr>\n",
       "    <tr>\n",
       "      <th>...</th>\n",
       "      <td>...</td>\n",
       "      <td>...</td>\n",
       "      <td>...</td>\n",
       "    </tr>\n",
       "    <tr>\n",
       "      <th>1750</th>\n",
       "      <td>2021-10-02</td>\n",
       "      <td>20552</td>\n",
       "      <td>1</td>\n",
       "    </tr>\n",
       "    <tr>\n",
       "      <th>1751</th>\n",
       "      <td>2021-10-03</td>\n",
       "      <td>20552</td>\n",
       "      <td>0</td>\n",
       "    </tr>\n",
       "    <tr>\n",
       "      <th>1752</th>\n",
       "      <td>2021-10-04</td>\n",
       "      <td>20552</td>\n",
       "      <td>1</td>\n",
       "    </tr>\n",
       "    <tr>\n",
       "      <th>1753</th>\n",
       "      <td>2021-10-05</td>\n",
       "      <td>20552</td>\n",
       "      <td>3</td>\n",
       "    </tr>\n",
       "    <tr>\n",
       "      <th>1754</th>\n",
       "      <td>2021-10-06</td>\n",
       "      <td>20552</td>\n",
       "      <td>0</td>\n",
       "    </tr>\n",
       "  </tbody>\n",
       "</table>\n",
       "<p>1755 rows × 3 columns</p>\n",
       "</div>"
      ],
      "text/plain": [
       "           date  product_id  sales_count\n",
       "0    2016-12-17       20552            1\n",
       "1    2016-12-18       20552            0\n",
       "2    2016-12-19       20552            0\n",
       "3    2016-12-20       20552            0\n",
       "4    2016-12-21       20552            0\n",
       "...         ...         ...          ...\n",
       "1750 2021-10-02       20552            1\n",
       "1751 2021-10-03       20552            0\n",
       "1752 2021-10-04       20552            1\n",
       "1753 2021-10-05       20552            3\n",
       "1754 2021-10-06       20552            0\n",
       "\n",
       "[1755 rows x 3 columns]"
      ]
     },
     "execution_count": 155,
     "metadata": {},
     "output_type": "execute_result"
    }
   ],
   "source": [
    "df1=pd.merge(\n",
    "    df.loc[df['product_id'] == 20552], dates, left_on='date', right_on=0,\n",
    "    how='outer').sort_values(by=['date']).drop(columns=0)#merging dates dataframe with product_id matching rows\n",
    "df1['product_id']=20552 #product_id will be null so making it the specified values\n",
    "df1.reset_index(inplace = True, drop = True)#making index to start from 0\n",
    "df1=df1.fillna(0)#for sales_count making null values as 0\n",
    "df1[\"sales_count\"] = pd.to_numeric(df1[\"sales_count\"],downcast='integer')#convert sales_count column to integer\n",
    "print(\"data after converting for a product with product_id 20552\")\n",
    "df1"
   ]
  },
  {
   "cell_type": "code",
   "execution_count": 156,
   "id": "a5ee6515-021d-4102-970e-0042c1643fa7",
   "metadata": {},
   "outputs": [
    {
     "data": {
      "text/html": [
       "<div>\n",
       "<style scoped>\n",
       "    .dataframe tbody tr th:only-of-type {\n",
       "        vertical-align: middle;\n",
       "    }\n",
       "\n",
       "    .dataframe tbody tr th {\n",
       "        vertical-align: top;\n",
       "    }\n",
       "\n",
       "    .dataframe thead th {\n",
       "        text-align: right;\n",
       "    }\n",
       "</style>\n",
       "<table border=\"1\" class=\"dataframe\">\n",
       "  <thead>\n",
       "    <tr style=\"text-align: right;\">\n",
       "      <th></th>\n",
       "      <th>date</th>\n",
       "      <th>product_id</th>\n",
       "      <th>sales_count</th>\n",
       "    </tr>\n",
       "  </thead>\n",
       "  <tbody>\n",
       "    <tr>\n",
       "      <th>0</th>\n",
       "      <td>2016-12-17</td>\n",
       "      <td>13596</td>\n",
       "      <td>0</td>\n",
       "    </tr>\n",
       "    <tr>\n",
       "      <th>1</th>\n",
       "      <td>2016-12-18</td>\n",
       "      <td>13596</td>\n",
       "      <td>0</td>\n",
       "    </tr>\n",
       "    <tr>\n",
       "      <th>2</th>\n",
       "      <td>2016-12-19</td>\n",
       "      <td>13596</td>\n",
       "      <td>0</td>\n",
       "    </tr>\n",
       "    <tr>\n",
       "      <th>3</th>\n",
       "      <td>2016-12-20</td>\n",
       "      <td>13596</td>\n",
       "      <td>0</td>\n",
       "    </tr>\n",
       "    <tr>\n",
       "      <th>4</th>\n",
       "      <td>2016-12-21</td>\n",
       "      <td>13596</td>\n",
       "      <td>0</td>\n",
       "    </tr>\n",
       "    <tr>\n",
       "      <th>...</th>\n",
       "      <td>...</td>\n",
       "      <td>...</td>\n",
       "      <td>...</td>\n",
       "    </tr>\n",
       "    <tr>\n",
       "      <th>1750</th>\n",
       "      <td>2021-10-02</td>\n",
       "      <td>13596</td>\n",
       "      <td>2</td>\n",
       "    </tr>\n",
       "    <tr>\n",
       "      <th>1751</th>\n",
       "      <td>2021-10-03</td>\n",
       "      <td>13596</td>\n",
       "      <td>1</td>\n",
       "    </tr>\n",
       "    <tr>\n",
       "      <th>1752</th>\n",
       "      <td>2021-10-04</td>\n",
       "      <td>13596</td>\n",
       "      <td>3</td>\n",
       "    </tr>\n",
       "    <tr>\n",
       "      <th>1753</th>\n",
       "      <td>2021-10-05</td>\n",
       "      <td>13596</td>\n",
       "      <td>2</td>\n",
       "    </tr>\n",
       "    <tr>\n",
       "      <th>1754</th>\n",
       "      <td>2021-10-06</td>\n",
       "      <td>13596</td>\n",
       "      <td>0</td>\n",
       "    </tr>\n",
       "  </tbody>\n",
       "</table>\n",
       "<p>1755 rows × 3 columns</p>\n",
       "</div>"
      ],
      "text/plain": [
       "           date  product_id  sales_count\n",
       "0    2016-12-17       13596            0\n",
       "1    2016-12-18       13596            0\n",
       "2    2016-12-19       13596            0\n",
       "3    2016-12-20       13596            0\n",
       "4    2016-12-21       13596            0\n",
       "...         ...         ...          ...\n",
       "1750 2021-10-02       13596            2\n",
       "1751 2021-10-03       13596            1\n",
       "1752 2021-10-04       13596            3\n",
       "1753 2021-10-05       13596            2\n",
       "1754 2021-10-06       13596            0\n",
       "\n",
       "[1755 rows x 3 columns]"
      ]
     },
     "execution_count": 156,
     "metadata": {},
     "output_type": "execute_result"
    }
   ],
   "source": [
    "df2=pd.merge(\n",
    "    df.loc[df['product_id'] == 13596], dates, left_on='date', right_on=0,\n",
    "    how='outer').sort_values(by=['date']).drop(columns=0)#merging dates dataframe with product_id matching rows\n",
    "df2['product_id']=13596#product_id will be null so making it the specified values\n",
    "df2.reset_index(inplace = True, drop = True)#making index to start from 0\n",
    "df2=df2.fillna(0)#for sales_count making null values as 0\n",
    "df2[\"sales_count\"] = pd.to_numeric(df2[\"sales_count\"],downcast='integer')#convert sales_count column to integer\n",
    "df2"
   ]
  },
  {
   "cell_type": "code",
   "execution_count": 158,
   "id": "085d3ff6-9966-40dd-94ae-8dfd26fed8fa",
   "metadata": {},
   "outputs": [
    {
     "data": {
      "text/html": [
       "<div>\n",
       "<style scoped>\n",
       "    .dataframe tbody tr th:only-of-type {\n",
       "        vertical-align: middle;\n",
       "    }\n",
       "\n",
       "    .dataframe tbody tr th {\n",
       "        vertical-align: top;\n",
       "    }\n",
       "\n",
       "    .dataframe thead th {\n",
       "        text-align: right;\n",
       "    }\n",
       "</style>\n",
       "<table border=\"1\" class=\"dataframe\">\n",
       "  <thead>\n",
       "    <tr style=\"text-align: right;\">\n",
       "      <th></th>\n",
       "      <th>date</th>\n",
       "      <th>product_id</th>\n",
       "      <th>sales_count</th>\n",
       "    </tr>\n",
       "  </thead>\n",
       "  <tbody>\n",
       "    <tr>\n",
       "      <th>0</th>\n",
       "      <td>2016-12-17</td>\n",
       "      <td>23641</td>\n",
       "      <td>0</td>\n",
       "    </tr>\n",
       "    <tr>\n",
       "      <th>1</th>\n",
       "      <td>2016-12-18</td>\n",
       "      <td>23641</td>\n",
       "      <td>0</td>\n",
       "    </tr>\n",
       "    <tr>\n",
       "      <th>2</th>\n",
       "      <td>2016-12-19</td>\n",
       "      <td>23641</td>\n",
       "      <td>0</td>\n",
       "    </tr>\n",
       "    <tr>\n",
       "      <th>3</th>\n",
       "      <td>2016-12-20</td>\n",
       "      <td>23641</td>\n",
       "      <td>0</td>\n",
       "    </tr>\n",
       "    <tr>\n",
       "      <th>4</th>\n",
       "      <td>2016-12-21</td>\n",
       "      <td>23641</td>\n",
       "      <td>0</td>\n",
       "    </tr>\n",
       "    <tr>\n",
       "      <th>...</th>\n",
       "      <td>...</td>\n",
       "      <td>...</td>\n",
       "      <td>...</td>\n",
       "    </tr>\n",
       "    <tr>\n",
       "      <th>1750</th>\n",
       "      <td>2021-10-02</td>\n",
       "      <td>23641</td>\n",
       "      <td>0</td>\n",
       "    </tr>\n",
       "    <tr>\n",
       "      <th>1751</th>\n",
       "      <td>2021-10-03</td>\n",
       "      <td>23641</td>\n",
       "      <td>1</td>\n",
       "    </tr>\n",
       "    <tr>\n",
       "      <th>1752</th>\n",
       "      <td>2021-10-04</td>\n",
       "      <td>23641</td>\n",
       "      <td>1</td>\n",
       "    </tr>\n",
       "    <tr>\n",
       "      <th>1753</th>\n",
       "      <td>2021-10-05</td>\n",
       "      <td>23641</td>\n",
       "      <td>2</td>\n",
       "    </tr>\n",
       "    <tr>\n",
       "      <th>1754</th>\n",
       "      <td>2021-10-06</td>\n",
       "      <td>23641</td>\n",
       "      <td>0</td>\n",
       "    </tr>\n",
       "  </tbody>\n",
       "</table>\n",
       "<p>1755 rows × 3 columns</p>\n",
       "</div>"
      ],
      "text/plain": [
       "           date  product_id  sales_count\n",
       "0    2016-12-17       23641            0\n",
       "1    2016-12-18       23641            0\n",
       "2    2016-12-19       23641            0\n",
       "3    2016-12-20       23641            0\n",
       "4    2016-12-21       23641            0\n",
       "...         ...         ...          ...\n",
       "1750 2021-10-02       23641            0\n",
       "1751 2021-10-03       23641            1\n",
       "1752 2021-10-04       23641            1\n",
       "1753 2021-10-05       23641            2\n",
       "1754 2021-10-06       23641            0\n",
       "\n",
       "[1755 rows x 3 columns]"
      ]
     },
     "execution_count": 158,
     "metadata": {},
     "output_type": "execute_result"
    }
   ],
   "source": [
    "df3=pd.merge(\n",
    "    df.loc[df['product_id'] == 23641], dates, left_on='date', right_on=0,\n",
    "    how='outer').sort_values(by=['date']).drop(columns=0)#merging dates dataframe with product_id matching rows\n",
    "df3['product_id']=23641#product_id will be null so making it the specified values\n",
    "df3.reset_index(inplace = True, drop = True)#making index to start from 0\n",
    "df3=df3.fillna(0)#for sales_count making null values as 0\n",
    "df3[\"sales_count\"] = pd.to_numeric(df3[\"sales_count\"],downcast='integer')#convert sales_count column to integer\n",
    "df3"
   ]
  },
  {
   "cell_type": "code",
   "execution_count": 159,
   "id": "4611b2d7-60c9-455c-974d-cb0f69235c46",
   "metadata": {},
   "outputs": [
    {
     "data": {
      "text/html": [
       "<div>\n",
       "<style scoped>\n",
       "    .dataframe tbody tr th:only-of-type {\n",
       "        vertical-align: middle;\n",
       "    }\n",
       "\n",
       "    .dataframe tbody tr th {\n",
       "        vertical-align: top;\n",
       "    }\n",
       "\n",
       "    .dataframe thead th {\n",
       "        text-align: right;\n",
       "    }\n",
       "</style>\n",
       "<table border=\"1\" class=\"dataframe\">\n",
       "  <thead>\n",
       "    <tr style=\"text-align: right;\">\n",
       "      <th></th>\n",
       "      <th>date</th>\n",
       "      <th>product_id</th>\n",
       "      <th>sales_count</th>\n",
       "    </tr>\n",
       "  </thead>\n",
       "  <tbody>\n",
       "    <tr>\n",
       "      <th>0</th>\n",
       "      <td>2016-12-17</td>\n",
       "      <td>28305</td>\n",
       "      <td>0</td>\n",
       "    </tr>\n",
       "    <tr>\n",
       "      <th>1</th>\n",
       "      <td>2016-12-18</td>\n",
       "      <td>28305</td>\n",
       "      <td>0</td>\n",
       "    </tr>\n",
       "    <tr>\n",
       "      <th>2</th>\n",
       "      <td>2016-12-19</td>\n",
       "      <td>28305</td>\n",
       "      <td>0</td>\n",
       "    </tr>\n",
       "    <tr>\n",
       "      <th>3</th>\n",
       "      <td>2016-12-20</td>\n",
       "      <td>28305</td>\n",
       "      <td>0</td>\n",
       "    </tr>\n",
       "    <tr>\n",
       "      <th>4</th>\n",
       "      <td>2016-12-21</td>\n",
       "      <td>28305</td>\n",
       "      <td>0</td>\n",
       "    </tr>\n",
       "    <tr>\n",
       "      <th>...</th>\n",
       "      <td>...</td>\n",
       "      <td>...</td>\n",
       "      <td>...</td>\n",
       "    </tr>\n",
       "    <tr>\n",
       "      <th>1750</th>\n",
       "      <td>2021-10-02</td>\n",
       "      <td>28305</td>\n",
       "      <td>0</td>\n",
       "    </tr>\n",
       "    <tr>\n",
       "      <th>1751</th>\n",
       "      <td>2021-10-03</td>\n",
       "      <td>28305</td>\n",
       "      <td>0</td>\n",
       "    </tr>\n",
       "    <tr>\n",
       "      <th>1752</th>\n",
       "      <td>2021-10-04</td>\n",
       "      <td>28305</td>\n",
       "      <td>0</td>\n",
       "    </tr>\n",
       "    <tr>\n",
       "      <th>1753</th>\n",
       "      <td>2021-10-05</td>\n",
       "      <td>28305</td>\n",
       "      <td>1</td>\n",
       "    </tr>\n",
       "    <tr>\n",
       "      <th>1754</th>\n",
       "      <td>2021-10-06</td>\n",
       "      <td>28305</td>\n",
       "      <td>2</td>\n",
       "    </tr>\n",
       "  </tbody>\n",
       "</table>\n",
       "<p>1755 rows × 3 columns</p>\n",
       "</div>"
      ],
      "text/plain": [
       "           date  product_id  sales_count\n",
       "0    2016-12-17       28305            0\n",
       "1    2016-12-18       28305            0\n",
       "2    2016-12-19       28305            0\n",
       "3    2016-12-20       28305            0\n",
       "4    2016-12-21       28305            0\n",
       "...         ...         ...          ...\n",
       "1750 2021-10-02       28305            0\n",
       "1751 2021-10-03       28305            0\n",
       "1752 2021-10-04       28305            0\n",
       "1753 2021-10-05       28305            1\n",
       "1754 2021-10-06       28305            2\n",
       "\n",
       "[1755 rows x 3 columns]"
      ]
     },
     "execution_count": 159,
     "metadata": {},
     "output_type": "execute_result"
    }
   ],
   "source": [
    "df4=pd.merge(\n",
    "    df.loc[df['product_id'] == 28305], dates, left_on='date', right_on=0,\n",
    "    how='outer').sort_values(by=['date']).drop(columns=0)#merging dates dataframe with product_id matching rows\n",
    "df4['product_id']=28305#product_id will be null so making it the specified values\n",
    "df4.reset_index(inplace = True, drop = True)#making index to start from 0\n",
    "df4=df4.fillna(0)#for sales_count making null values as 0\n",
    "df4[\"sales_count\"] = pd.to_numeric(df4[\"sales_count\"],downcast='integer')#convert sales_count column to integer\n",
    "df4"
   ]
  },
  {
   "cell_type": "code",
   "execution_count": 160,
   "id": "b02d6796-fadf-47bf-88bc-058fc8476300",
   "metadata": {},
   "outputs": [
    {
     "data": {
      "text/html": [
       "<div>\n",
       "<style scoped>\n",
       "    .dataframe tbody tr th:only-of-type {\n",
       "        vertical-align: middle;\n",
       "    }\n",
       "\n",
       "    .dataframe tbody tr th {\n",
       "        vertical-align: top;\n",
       "    }\n",
       "\n",
       "    .dataframe thead th {\n",
       "        text-align: right;\n",
       "    }\n",
       "</style>\n",
       "<table border=\"1\" class=\"dataframe\">\n",
       "  <thead>\n",
       "    <tr style=\"text-align: right;\">\n",
       "      <th></th>\n",
       "      <th>date</th>\n",
       "      <th>product_id</th>\n",
       "      <th>sales_count</th>\n",
       "    </tr>\n",
       "  </thead>\n",
       "  <tbody>\n",
       "    <tr>\n",
       "      <th>0</th>\n",
       "      <td>2016-12-17</td>\n",
       "      <td>20547</td>\n",
       "      <td>0</td>\n",
       "    </tr>\n",
       "    <tr>\n",
       "      <th>1</th>\n",
       "      <td>2016-12-18</td>\n",
       "      <td>20547</td>\n",
       "      <td>0</td>\n",
       "    </tr>\n",
       "    <tr>\n",
       "      <th>2</th>\n",
       "      <td>2016-12-19</td>\n",
       "      <td>20547</td>\n",
       "      <td>0</td>\n",
       "    </tr>\n",
       "    <tr>\n",
       "      <th>3</th>\n",
       "      <td>2016-12-20</td>\n",
       "      <td>20547</td>\n",
       "      <td>0</td>\n",
       "    </tr>\n",
       "    <tr>\n",
       "      <th>4</th>\n",
       "      <td>2016-12-21</td>\n",
       "      <td>20547</td>\n",
       "      <td>0</td>\n",
       "    </tr>\n",
       "    <tr>\n",
       "      <th>...</th>\n",
       "      <td>...</td>\n",
       "      <td>...</td>\n",
       "      <td>...</td>\n",
       "    </tr>\n",
       "    <tr>\n",
       "      <th>1750</th>\n",
       "      <td>2021-10-02</td>\n",
       "      <td>20547</td>\n",
       "      <td>1</td>\n",
       "    </tr>\n",
       "    <tr>\n",
       "      <th>1751</th>\n",
       "      <td>2021-10-03</td>\n",
       "      <td>20547</td>\n",
       "      <td>2</td>\n",
       "    </tr>\n",
       "    <tr>\n",
       "      <th>1752</th>\n",
       "      <td>2021-10-04</td>\n",
       "      <td>20547</td>\n",
       "      <td>0</td>\n",
       "    </tr>\n",
       "    <tr>\n",
       "      <th>1753</th>\n",
       "      <td>2021-10-05</td>\n",
       "      <td>20547</td>\n",
       "      <td>3</td>\n",
       "    </tr>\n",
       "    <tr>\n",
       "      <th>1754</th>\n",
       "      <td>2021-10-06</td>\n",
       "      <td>20547</td>\n",
       "      <td>0</td>\n",
       "    </tr>\n",
       "  </tbody>\n",
       "</table>\n",
       "<p>1755 rows × 3 columns</p>\n",
       "</div>"
      ],
      "text/plain": [
       "           date  product_id  sales_count\n",
       "0    2016-12-17       20547            0\n",
       "1    2016-12-18       20547            0\n",
       "2    2016-12-19       20547            0\n",
       "3    2016-12-20       20547            0\n",
       "4    2016-12-21       20547            0\n",
       "...         ...         ...          ...\n",
       "1750 2021-10-02       20547            1\n",
       "1751 2021-10-03       20547            2\n",
       "1752 2021-10-04       20547            0\n",
       "1753 2021-10-05       20547            3\n",
       "1754 2021-10-06       20547            0\n",
       "\n",
       "[1755 rows x 3 columns]"
      ]
     },
     "execution_count": 160,
     "metadata": {},
     "output_type": "execute_result"
    }
   ],
   "source": [
    "df5=pd.merge(\n",
    "    df.loc[df['product_id'] == 20547], dates, left_on='date', right_on=0,\n",
    "    how='outer').sort_values(by=['date']).drop(columns=0)#merging dates dataframe with product_id matching rows\n",
    "df5['product_id']=20547#product_id will be null so making it the specified values\n",
    "df5.reset_index(inplace = True, drop = True)#making index to start from 0\n",
    "df5=df5.fillna(0)#for sales_count making null values as 0\n",
    "df5[\"sales_count\"] = pd.to_numeric(df5[\"sales_count\"],downcast='integer')#convert sales_count column to integer\n",
    "df5"
   ]
  },
  {
   "cell_type": "markdown",
   "id": "997e652c-6f72-4643-9b66-9b87d1ac3cba",
   "metadata": {},
   "source": [
    "Merge all the dataframes into a new dataframe"
   ]
  },
  {
   "cell_type": "code",
   "execution_count": 161,
   "id": "6dbf9939",
   "metadata": {},
   "outputs": [
    {
     "data": {
      "text/html": [
       "<div>\n",
       "<style scoped>\n",
       "    .dataframe tbody tr th:only-of-type {\n",
       "        vertical-align: middle;\n",
       "    }\n",
       "\n",
       "    .dataframe tbody tr th {\n",
       "        vertical-align: top;\n",
       "    }\n",
       "\n",
       "    .dataframe thead th {\n",
       "        text-align: right;\n",
       "    }\n",
       "</style>\n",
       "<table border=\"1\" class=\"dataframe\">\n",
       "  <thead>\n",
       "    <tr style=\"text-align: right;\">\n",
       "      <th></th>\n",
       "      <th>date</th>\n",
       "      <th>product_id</th>\n",
       "      <th>sales_count</th>\n",
       "    </tr>\n",
       "  </thead>\n",
       "  <tbody>\n",
       "    <tr>\n",
       "      <th>0</th>\n",
       "      <td>2016-12-17</td>\n",
       "      <td>20552</td>\n",
       "      <td>1</td>\n",
       "    </tr>\n",
       "    <tr>\n",
       "      <th>1</th>\n",
       "      <td>2016-12-18</td>\n",
       "      <td>20552</td>\n",
       "      <td>0</td>\n",
       "    </tr>\n",
       "    <tr>\n",
       "      <th>2</th>\n",
       "      <td>2016-12-19</td>\n",
       "      <td>20552</td>\n",
       "      <td>0</td>\n",
       "    </tr>\n",
       "    <tr>\n",
       "      <th>3</th>\n",
       "      <td>2016-12-20</td>\n",
       "      <td>20552</td>\n",
       "      <td>0</td>\n",
       "    </tr>\n",
       "    <tr>\n",
       "      <th>4</th>\n",
       "      <td>2016-12-21</td>\n",
       "      <td>20552</td>\n",
       "      <td>0</td>\n",
       "    </tr>\n",
       "    <tr>\n",
       "      <th>...</th>\n",
       "      <td>...</td>\n",
       "      <td>...</td>\n",
       "      <td>...</td>\n",
       "    </tr>\n",
       "    <tr>\n",
       "      <th>1750</th>\n",
       "      <td>2021-10-02</td>\n",
       "      <td>20547</td>\n",
       "      <td>1</td>\n",
       "    </tr>\n",
       "    <tr>\n",
       "      <th>1751</th>\n",
       "      <td>2021-10-03</td>\n",
       "      <td>20547</td>\n",
       "      <td>2</td>\n",
       "    </tr>\n",
       "    <tr>\n",
       "      <th>1752</th>\n",
       "      <td>2021-10-04</td>\n",
       "      <td>20547</td>\n",
       "      <td>0</td>\n",
       "    </tr>\n",
       "    <tr>\n",
       "      <th>1753</th>\n",
       "      <td>2021-10-05</td>\n",
       "      <td>20547</td>\n",
       "      <td>3</td>\n",
       "    </tr>\n",
       "    <tr>\n",
       "      <th>1754</th>\n",
       "      <td>2021-10-06</td>\n",
       "      <td>20547</td>\n",
       "      <td>0</td>\n",
       "    </tr>\n",
       "  </tbody>\n",
       "</table>\n",
       "<p>8775 rows × 3 columns</p>\n",
       "</div>"
      ],
      "text/plain": [
       "           date  product_id  sales_count\n",
       "0    2016-12-17       20552            1\n",
       "1    2016-12-18       20552            0\n",
       "2    2016-12-19       20552            0\n",
       "3    2016-12-20       20552            0\n",
       "4    2016-12-21       20552            0\n",
       "...         ...         ...          ...\n",
       "1750 2021-10-02       20547            1\n",
       "1751 2021-10-03       20547            2\n",
       "1752 2021-10-04       20547            0\n",
       "1753 2021-10-05       20547            3\n",
       "1754 2021-10-06       20547            0\n",
       "\n",
       "[8775 rows x 3 columns]"
      ]
     },
     "execution_count": 161,
     "metadata": {},
     "output_type": "execute_result"
    }
   ],
   "source": [
    "pdList = [df1, df2,df3,df4,df5]  # List of your dataframes\n",
    "new_df = pd.concat(pdList)\n",
    "new_df\n"
   ]
  },
  {
   "cell_type": "code",
   "execution_count": 162,
   "id": "69b68cd9-6167-49bd-86e1-b10baaa3f846",
   "metadata": {},
   "outputs": [],
   "source": [
    "new_df.reset_index(inplace = True, drop = True)"
   ]
  },
  {
   "cell_type": "code",
   "execution_count": 163,
   "id": "09e89c8e-6fcb-4392-9ce4-b9c3d03c9422",
   "metadata": {},
   "outputs": [
    {
     "data": {
      "text/html": [
       "<div>\n",
       "<style scoped>\n",
       "    .dataframe tbody tr th:only-of-type {\n",
       "        vertical-align: middle;\n",
       "    }\n",
       "\n",
       "    .dataframe tbody tr th {\n",
       "        vertical-align: top;\n",
       "    }\n",
       "\n",
       "    .dataframe thead th {\n",
       "        text-align: right;\n",
       "    }\n",
       "</style>\n",
       "<table border=\"1\" class=\"dataframe\">\n",
       "  <thead>\n",
       "    <tr style=\"text-align: right;\">\n",
       "      <th></th>\n",
       "      <th>date</th>\n",
       "      <th>product_id</th>\n",
       "      <th>sales_count</th>\n",
       "    </tr>\n",
       "  </thead>\n",
       "  <tbody>\n",
       "    <tr>\n",
       "      <th>0</th>\n",
       "      <td>2016-12-17</td>\n",
       "      <td>20552</td>\n",
       "      <td>1</td>\n",
       "    </tr>\n",
       "    <tr>\n",
       "      <th>1</th>\n",
       "      <td>2016-12-18</td>\n",
       "      <td>20552</td>\n",
       "      <td>0</td>\n",
       "    </tr>\n",
       "    <tr>\n",
       "      <th>2</th>\n",
       "      <td>2016-12-19</td>\n",
       "      <td>20552</td>\n",
       "      <td>0</td>\n",
       "    </tr>\n",
       "    <tr>\n",
       "      <th>3</th>\n",
       "      <td>2016-12-20</td>\n",
       "      <td>20552</td>\n",
       "      <td>0</td>\n",
       "    </tr>\n",
       "    <tr>\n",
       "      <th>4</th>\n",
       "      <td>2016-12-21</td>\n",
       "      <td>20552</td>\n",
       "      <td>0</td>\n",
       "    </tr>\n",
       "    <tr>\n",
       "      <th>...</th>\n",
       "      <td>...</td>\n",
       "      <td>...</td>\n",
       "      <td>...</td>\n",
       "    </tr>\n",
       "    <tr>\n",
       "      <th>8770</th>\n",
       "      <td>2021-10-02</td>\n",
       "      <td>20547</td>\n",
       "      <td>1</td>\n",
       "    </tr>\n",
       "    <tr>\n",
       "      <th>8771</th>\n",
       "      <td>2021-10-03</td>\n",
       "      <td>20547</td>\n",
       "      <td>2</td>\n",
       "    </tr>\n",
       "    <tr>\n",
       "      <th>8772</th>\n",
       "      <td>2021-10-04</td>\n",
       "      <td>20547</td>\n",
       "      <td>0</td>\n",
       "    </tr>\n",
       "    <tr>\n",
       "      <th>8773</th>\n",
       "      <td>2021-10-05</td>\n",
       "      <td>20547</td>\n",
       "      <td>3</td>\n",
       "    </tr>\n",
       "    <tr>\n",
       "      <th>8774</th>\n",
       "      <td>2021-10-06</td>\n",
       "      <td>20547</td>\n",
       "      <td>0</td>\n",
       "    </tr>\n",
       "  </tbody>\n",
       "</table>\n",
       "<p>8775 rows × 3 columns</p>\n",
       "</div>"
      ],
      "text/plain": [
       "           date  product_id  sales_count\n",
       "0    2016-12-17       20552            1\n",
       "1    2016-12-18       20552            0\n",
       "2    2016-12-19       20552            0\n",
       "3    2016-12-20       20552            0\n",
       "4    2016-12-21       20552            0\n",
       "...         ...         ...          ...\n",
       "8770 2021-10-02       20547            1\n",
       "8771 2021-10-03       20547            2\n",
       "8772 2021-10-04       20547            0\n",
       "8773 2021-10-05       20547            3\n",
       "8774 2021-10-06       20547            0\n",
       "\n",
       "[8775 rows x 3 columns]"
      ]
     },
     "execution_count": 163,
     "metadata": {},
     "output_type": "execute_result"
    }
   ],
   "source": [
    "new_df"
   ]
  },
  {
   "cell_type": "markdown",
   "id": "a7c9e63d-c86d-4fda-aa51-45425b0b3c46",
   "metadata": {},
   "source": [
    "Seeing the different product id's to plot"
   ]
  },
  {
   "cell_type": "markdown",
   "id": "1e783857-fcd2-4fc8-9c91-f56a804aee4f",
   "metadata": {},
   "source": [
    "#@bigquery\n",
    "SELECT DISTINCT product_id from demandforecasting.top_five_products"
   ]
  },
  {
   "cell_type": "markdown",
   "id": "b0139d2c-371c-4a62-b1d7-a7e232e06eb3",
   "metadata": {},
   "source": [
    "Plotting sales for a specific product"
   ]
  },
  {
   "cell_type": "code",
   "execution_count": 178,
   "id": "ed84fbcc-f030-4e75-8d4a-7650516d742e",
   "metadata": {},
   "outputs": [
    {
     "data": {
      "text/plain": [
       "(array([16801., 17167., 17532., 17897., 18262., 18628., 18993.]),\n",
       " [Text(0, 0, ''),\n",
       "  Text(0, 0, ''),\n",
       "  Text(0, 0, ''),\n",
       "  Text(0, 0, ''),\n",
       "  Text(0, 0, ''),\n",
       "  Text(0, 0, ''),\n",
       "  Text(0, 0, '')])"
      ]
     },
     "execution_count": 178,
     "metadata": {},
     "output_type": "execute_result"
    },
    {
     "data": {
      "image/png": "[encoded data removed]",
      "text/plain": [
       "<Figure size 432x288 with 1 Axes>"
      ]
     },
     "metadata": {
      "needs_background": "light"
     },
     "output_type": "display_data"
    }
   ],
   "source": [
    "plt.plot(new_df.loc[new_df['product_id']==20552]['date'], new_df.loc[new_df['product_id']==20552]['sales_count'])\n",
    "plt.xticks(rotation='vertical')"
   ]
  },
  {
   "cell_type": "code",
   "execution_count": 179,
   "id": "1b819205-b55b-4113-848f-056b340733bd",
   "metadata": {},
   "outputs": [
    {
     "data": {
      "text/plain": [
       "(array([16801., 17167., 17532., 17897., 18262., 18628., 18993.]),\n",
       " [Text(0, 0, ''),\n",
       "  Text(0, 0, ''),\n",
       "  Text(0, 0, ''),\n",
       "  Text(0, 0, ''),\n",
       "  Text(0, 0, ''),\n",
       "  Text(0, 0, ''),\n",
       "  Text(0, 0, '')])"
      ]
     },
     "execution_count": 179,
     "metadata": {},
     "output_type": "execute_result"
    },
    {
     "data": {
      "image/png": "[encoded data removed]",
      "text/plain": [
       "<Figure size 432x288 with 1 Axes>"
      ]
     },
     "metadata": {
      "needs_background": "light"
     },
     "output_type": "display_data"
    }
   ],
   "source": [
    "plt.plot(new_df.loc[new_df['product_id']==20547]['date'], new_df.loc[new_df['product_id']==20547]['sales_count'])\n",
    "plt.xticks(rotation='vertical')"
   ]
  },
  {
   "cell_type": "code",
   "execution_count": 180,
   "id": "61bf91d6-aa38-4d28-b5e5-c4b890fecff7",
   "metadata": {},
   "outputs": [
    {
     "data": {
      "text/plain": [
       "(array([16801., 17167., 17532., 17897., 18262., 18628., 18993.]),\n",
       " [Text(0, 0, ''),\n",
       "  Text(0, 0, ''),\n",
       "  Text(0, 0, ''),\n",
       "  Text(0, 0, ''),\n",
       "  Text(0, 0, ''),\n",
       "  Text(0, 0, ''),\n",
       "  Text(0, 0, '')])"
      ]
     },
     "execution_count": 180,
     "metadata": {},
     "output_type": "execute_result"
    },
    {
     "data": {
      "image/png": "[encoded data removed]",
      "text/plain": [
       "<Figure size 432x288 with 1 Axes>"
      ]
     },
     "metadata": {
      "needs_background": "light"
     },
     "output_type": "display_data"
    }
   ],
   "source": [
    "plt.plot(new_df.loc[new_df['product_id']==28305]['date'], new_df.loc[new_df['product_id']==28305]['sales_count'])\n",
    "plt.xticks(rotation='vertical')"
   ]
  },
  {
   "cell_type": "code",
   "execution_count": 181,
   "id": "10336ccc-dc29-4b6a-8fa1-443f79a6a340",
   "metadata": {},
   "outputs": [
    {
     "data": {
      "text/plain": [
       "(array([16801., 17167., 17532., 17897., 18262., 18628., 18993.]),\n",
       " [Text(0, 0, ''),\n",
       "  Text(0, 0, ''),\n",
       "  Text(0, 0, ''),\n",
       "  Text(0, 0, ''),\n",
       "  Text(0, 0, ''),\n",
       "  Text(0, 0, ''),\n",
       "  Text(0, 0, '')])"
      ]
     },
     "execution_count": 181,
     "metadata": {},
     "output_type": "execute_result"
    },
    {
     "data": {
      "image/png": "[encoded data removed]",
      "text/plain": [
       "<Figure size 432x288 with 1 Axes>"
      ]
     },
     "metadata": {
      "needs_background": "light"
     },
     "output_type": "display_data"
    }
   ],
   "source": [
    "plt.plot(new_df.loc[new_df['product_id']==23641]['date'], new_df.loc[new_df['product_id']==23641]['sales_count'])\n",
    "plt.xticks(rotation='vertical')"
   ]
  },
  {
   "cell_type": "code",
   "execution_count": 182,
   "id": "9c26e668-25b6-45f0-8f58-a8356d1949b3",
   "metadata": {},
   "outputs": [
    {
     "data": {
      "text/plain": [
       "(array([16801., 17167., 17532., 17897., 18262., 18628., 18993.]),\n",
       " [Text(0, 0, ''),\n",
       "  Text(0, 0, ''),\n",
       "  Text(0, 0, ''),\n",
       "  Text(0, 0, ''),\n",
       "  Text(0, 0, ''),\n",
       "  Text(0, 0, ''),\n",
       "  Text(0, 0, '')])"
      ]
     },
     "execution_count": 182,
     "metadata": {},
     "output_type": "execute_result"
    },
    {
     "data": {
      "image/png": "[encoded data removed]",
      "text/plain": [
       "<Figure size 432x288 with 1 Axes>"
      ]
     },
     "metadata": {
      "needs_background": "light"
     },
     "output_type": "display_data"
    }
   ],
   "source": [
    "plt.plot(new_df.loc[new_df['product_id']==13596]['date'], new_df.loc[new_df['product_id']==13596]['sales_count'])\n",
    "plt.xticks(rotation='vertical')"
   ]
  },
  {
   "cell_type": "markdown",
   "id": "b309bc8b-404c-466d-8c86-1eab2cdcb636",
   "metadata": {},
   "source": [
    "Checking data types for new_df dataframe"
   ]
  },
  {
   "cell_type": "code",
   "execution_count": 165,
   "id": "8f8edd2e-f9e0-4072-9b84-9477749d55a0",
   "metadata": {},
   "outputs": [
    {
     "data": {
      "text/plain": [
       "date           datetime64[ns]\n",
       "product_id              int64\n",
       "sales_count              int8\n",
       "dtype: object"
      ]
     },
     "execution_count": 165,
     "metadata": {},
     "output_type": "execute_result"
    }
   ],
   "source": [
    "new_df.dtypes"
   ]
  },
  {
   "cell_type": "markdown",
   "id": "075ce5bd-8b63-416e-8199-61347a9902a0",
   "metadata": {},
   "source": [
    "Creating a big query table out of new_df dataframe"
   ]
  },
  {
   "cell_type": "code",
   "execution_count": 166,
   "id": "bd16d536-4ed2-44d9-8a09-e6ca5bb93691",
   "metadata": {},
   "outputs": [
    {
     "data": {
      "text/plain": [
       "<google.cloud.bigquery.job.load.LoadJob at 0x7fdcb0af9990>"
      ]
     },
     "execution_count": 166,
     "metadata": {},
     "output_type": "execute_result"
    }
   ],
   "source": [
    "bq_client = bigquery.Client(project='vertex-ai-dev')\n",
    "\n",
    "job_config = bigquery.LoadJobConfig(\n",
    "    # Specify a (partial) schema. All columns are always written to the\n",
    "    # table. The schema is used to assist in data type definitions.\n",
    "    schema=[\n",
    "        bigquery.SchemaField(\"product_id\", bigquery.enums.SqlTypeNames.INTEGER),\n",
    "        bigquery.SchemaField(\"date\", bigquery.enums.SqlTypeNames.DATE),\n",
    "        bigquery.SchemaField(\"sales_count\", bigquery.enums.SqlTypeNames.INTEGER),\n",
    "    ],\n",
    "    # Optionally, set the write disposition. BigQuery appends loaded rows\n",
    "    # to an existing table by default, but with WRITE_TRUNCATE write\n",
    "    # disposition it replaces the table with the loaded data.\n",
    "    write_disposition=\"WRITE_TRUNCATE\",\n",
    ")\n",
    "\n",
    "## save the dataframe to a table in the created dataset\n",
    "job = bq_client.load_table_from_dataframe(\n",
    "    new_df,\n",
    "    \"{}.{}.{}\".format(PROJECT_ID, DATASET, SALES_TABLE),\n",
    "    job_config=job_config\n",
    ")  # Make an API request.\n",
    "job.result()  # Wait for the job to complete.\n"
   ]
  },
  {
   "cell_type": "markdown",
   "id": "9e6bec22-f13e-4657-b42f-d34cf24bfe7b",
   "metadata": {},
   "source": [
    "Creating training data by choosing starting and ending data"
   ]
  },
  {
   "cell_type": "code",
   "execution_count": 167,
   "id": "c8e6324f-b15f-4325-8f84-41727584f900",
   "metadata": {},
   "outputs": [],
   "source": [
    "## select the date-range and item-id(top 5) for training-data and create a table for the same\n",
    "TRAININGDATA_STARTDATE= '2016-12-17'\n",
    "TRAININGDATA_ENDDATE= '2021-6-01'\n",
    "query = \"\"\"\n",
    "CREATE OR REPLACE TABLE {DATASET}.training_data AS (\n",
    "    \n",
    "    SELECT \n",
    "        *\n",
    "    FROM\n",
    "        `{DATASET}.{SALES_TABLE}` \n",
    "    WHERE\n",
    "        date BETWEEN '{STARTDATE}' AND '{ENDDATE}'\n",
    "        \n",
    "    );\n",
    "\n",
    "\"\"\".format( STARTDATE=TRAININGDATA_STARTDATE,\n",
    "            ENDDATE=TRAININGDATA_ENDDATE,\n",
    "            DATASET= DATASET,\n",
    "            SALES_TABLE= SALES_TABLE)\n",
    "## execute the query (as it is a create query, there won't be any tabular output)\n",
    "_ = bq_client.query(query)"
   ]
  },
  {
   "cell_type": "markdown",
   "id": "fe269673-545b-45d4-9b80-0e345231a4f5",
   "metadata": {},
   "source": [
    "Select the original data for plotting"
   ]
  },
  {
   "cell_type": "code",
   "execution_count": 169,
   "id": "2075f221-4d39-4cd5-8f5e-aee0d1dd0222",
   "metadata": {},
   "outputs": [
    {
     "data": {
      "text/html": [
       "<div>\n",
       "<style scoped>\n",
       "    .dataframe tbody tr th:only-of-type {\n",
       "        vertical-align: middle;\n",
       "    }\n",
       "\n",
       "    .dataframe tbody tr th {\n",
       "        vertical-align: top;\n",
       "    }\n",
       "\n",
       "    .dataframe thead th {\n",
       "        text-align: right;\n",
       "    }\n",
       "</style>\n",
       "<table border=\"1\" class=\"dataframe\">\n",
       "  <thead>\n",
       "    <tr style=\"text-align: right;\">\n",
       "      <th></th>\n",
       "      <th>date</th>\n",
       "      <th>product_id</th>\n",
       "      <th>sales_count</th>\n",
       "    </tr>\n",
       "  </thead>\n",
       "  <tbody>\n",
       "    <tr>\n",
       "      <th>0</th>\n",
       "      <td>2016-12-17</td>\n",
       "      <td>20552</td>\n",
       "      <td>1</td>\n",
       "    </tr>\n",
       "    <tr>\n",
       "      <th>1</th>\n",
       "      <td>2016-12-18</td>\n",
       "      <td>20552</td>\n",
       "      <td>0</td>\n",
       "    </tr>\n",
       "    <tr>\n",
       "      <th>2</th>\n",
       "      <td>2016-12-19</td>\n",
       "      <td>20552</td>\n",
       "      <td>0</td>\n",
       "    </tr>\n",
       "    <tr>\n",
       "      <th>3</th>\n",
       "      <td>2016-12-20</td>\n",
       "      <td>20552</td>\n",
       "      <td>0</td>\n",
       "    </tr>\n",
       "    <tr>\n",
       "      <th>4</th>\n",
       "      <td>2016-12-21</td>\n",
       "      <td>20552</td>\n",
       "      <td>0</td>\n",
       "    </tr>\n",
       "    <tr>\n",
       "      <th>...</th>\n",
       "      <td>...</td>\n",
       "      <td>...</td>\n",
       "      <td>...</td>\n",
       "    </tr>\n",
       "    <tr>\n",
       "      <th>8643</th>\n",
       "      <td>2021-05-28</td>\n",
       "      <td>20547</td>\n",
       "      <td>0</td>\n",
       "    </tr>\n",
       "    <tr>\n",
       "      <th>8644</th>\n",
       "      <td>2021-05-29</td>\n",
       "      <td>20547</td>\n",
       "      <td>0</td>\n",
       "    </tr>\n",
       "    <tr>\n",
       "      <th>8645</th>\n",
       "      <td>2021-05-30</td>\n",
       "      <td>20547</td>\n",
       "      <td>0</td>\n",
       "    </tr>\n",
       "    <tr>\n",
       "      <th>8646</th>\n",
       "      <td>2021-05-31</td>\n",
       "      <td>20547</td>\n",
       "      <td>0</td>\n",
       "    </tr>\n",
       "    <tr>\n",
       "      <th>8647</th>\n",
       "      <td>2021-06-01</td>\n",
       "      <td>20547</td>\n",
       "      <td>0</td>\n",
       "    </tr>\n",
       "  </tbody>\n",
       "</table>\n",
       "<p>8140 rows × 3 columns</p>\n",
       "</div>"
      ],
      "text/plain": [
       "           date  product_id  sales_count\n",
       "0    2016-12-17       20552            1\n",
       "1    2016-12-18       20552            0\n",
       "2    2016-12-19       20552            0\n",
       "3    2016-12-20       20552            0\n",
       "4    2016-12-21       20552            0\n",
       "...         ...         ...          ...\n",
       "8643 2021-05-28       20547            0\n",
       "8644 2021-05-29       20547            0\n",
       "8645 2021-05-30       20547            0\n",
       "8646 2021-05-31       20547            0\n",
       "8647 2021-06-01       20547            0\n",
       "\n",
       "[8140 rows x 3 columns]"
      ]
     },
     "execution_count": 169,
     "metadata": {},
     "output_type": "execute_result"
    }
   ],
   "source": [
    "\n",
    "df_historical = new_df[(new_df['date']>=pd.to_datetime(TRAININGDATA_STARTDATE))&\n",
    "                              (new_df['date']<=pd.to_datetime(TRAININGDATA_ENDDATE))].copy()\n",
    "df_historical"
   ]
  },
  {
   "cell_type": "markdown",
   "id": "7a18f40a",
   "metadata": {},
   "source": [
    "## Modeling with BigQuery and the ARIMA model\n",
    "<a name=\"section-6\"></a>\n"
   ]
  },
  {
   "cell_type": "markdown",
   "id": "8abe1e3b",
   "metadata": {},
   "source": [
    "#@bigquery\n",
    "CREATE OR REPLACE MODEL demandforecasting.arima_model\n",
    "\n",
    "OPTIONS(\n",
    "  MODEL_TYPE='ARIMA',\n",
    "  TIME_SERIES_TIMESTAMP_COL='date', \n",
    "  TIME_SERIES_DATA_COL='sales_count',\n",
    "  TIME_SERIES_ID_COL='product_id',\n",
    "  HOLIDAY_REGION='US'\n",
    "    \n",
    ") AS\n",
    "\n",
    "SELECT \n",
    "    date,\n",
    "    product_id,\n",
    "    sales_count\n",
    "FROM\n",
    "  demandforecasting.training_data"
   ]
  },
  {
   "cell_type": "code",
   "execution_count": 170,
   "id": "be388c81-b518-4524-96e8-22eab9ac9049",
   "metadata": {},
   "outputs": [
    {
     "data": {
      "text/plain": [
       "<google.cloud.bigquery.table._EmptyRowIterator at 0x7fdcb0999550>"
      ]
     },
     "execution_count": 170,
     "metadata": {},
     "output_type": "execute_result"
    }
   ],
   "source": [
    "## Train an ARIMA model on the created dataset\n",
    "query = \"\"\"\n",
    "CREATE OR REPLACE MODEL `{PROJECT_ID}.{DATASET}.arima_model`\n",
    "\n",
    "OPTIONS(\n",
    "  MODEL_TYPE='ARIMA',\n",
    "  TIME_SERIES_TIMESTAMP_COL='date', \n",
    "  TIME_SERIES_DATA_COL='sales_count',\n",
    "  TIME_SERIES_ID_COL='product_id') AS\n",
    "\n",
    "SELECT \n",
    "    date,\n",
    "    product_id,\n",
    "    sales_count\n",
    "FROM\n",
    "  `{PROJECT_ID}.{DATASET}.training_data`\n",
    "\"\"\".format(PROJECT_ID=PROJECT_ID, DATASET= DATASET)\n",
    "## execute the query\n",
    "job = bq_client.query(query)\n",
    "job.result()"
   ]
  },
  {
   "cell_type": "markdown",
   "id": "b45cb958",
   "metadata": {},
   "source": [
    "# Evaluating the model\n",
    "<a name=\"section-7\"></a>\n",
    "\n",
    "\n",
    "To evaluate the trained model, lets get forecasts for 90 days from the last date of the training-data. In BQML, we can provide the number of days of forecast we need using the \"HORIZON\" argument. Apart from number of days of forecast, we can also specify the confidence interval for the forecast by specifying \"CONFIDENCE_LEVEL\" argument."
   ]
  },
  {
   "cell_type": "markdown",
   "id": "c6c4240f",
   "metadata": {},
   "source": [
    "#@bigquery dfforecast \n",
    "\n",
    "DECLARE HORIZON STRING DEFAULT \"90\";\n",
    "DECLARE CONFIDENCE_LEVEL STRING DEFAULT \"0.90\";\n",
    "\n",
    "EXECUTE IMMEDIATE format('''\n",
    "    SELECT\n",
    "      *\n",
    "    FROM \n",
    "      ML.FORECAST(MODEL demandforecasting.arima_model, \n",
    "                  STRUCT(%s AS horizon, \n",
    "                         %s AS confidence_level)\n",
    "                 )\n",
    "    ''',HORIZON,CONFIDENCE_LEVEL)"
   ]
  },
  {
   "cell_type": "markdown",
   "id": "b3272078",
   "metadata": {},
   "source": [
    "Load the data into a dataframe \"dfforecast\"."
   ]
  },
  {
   "cell_type": "code",
   "execution_count": 171,
   "id": "45e14c8a",
   "metadata": {},
   "outputs": [],
   "source": [
    "client = Client()\n",
    "\n",
    "query = '''DECLARE HORIZON STRING DEFAULT \"90\"; #number of values to forecast\n",
    "DECLARE CONFIDENCE_LEVEL STRING DEFAULT \"0.90\"; ## required confidence level\n",
    "\n",
    "EXECUTE IMMEDIATE format(\"\"\"\n",
    "    SELECT\n",
    "      *\n",
    "    FROM \n",
    "      ML.FORECAST(MODEL demandforecasting.arima_model, \n",
    "                  STRUCT(%s AS horizon, \n",
    "                         %s AS confidence_level)\n",
    "                 )\n",
    "    \"\"\",HORIZON,CONFIDENCE_LEVEL)'''\n",
    "job = client.query(query)\n",
    "dfforecast = job.to_dataframe()"
   ]
  },
  {
   "cell_type": "code",
   "execution_count": 172,
   "id": "b06b3a26",
   "metadata": {},
   "outputs": [
    {
     "data": {
      "text/html": [
       "<div>\n",
       "<style scoped>\n",
       "    .dataframe tbody tr th:only-of-type {\n",
       "        vertical-align: middle;\n",
       "    }\n",
       "\n",
       "    .dataframe tbody tr th {\n",
       "        vertical-align: top;\n",
       "    }\n",
       "\n",
       "    .dataframe thead th {\n",
       "        text-align: right;\n",
       "    }\n",
       "</style>\n",
       "<table border=\"1\" class=\"dataframe\">\n",
       "  <thead>\n",
       "    <tr style=\"text-align: right;\">\n",
       "      <th></th>\n",
       "      <th>product_id</th>\n",
       "      <th>forecast_timestamp</th>\n",
       "      <th>forecast_value</th>\n",
       "      <th>standard_error</th>\n",
       "      <th>confidence_level</th>\n",
       "      <th>prediction_interval_lower_bound</th>\n",
       "      <th>prediction_interval_upper_bound</th>\n",
       "      <th>confidence_interval_lower_bound</th>\n",
       "      <th>confidence_interval_upper_bound</th>\n",
       "    </tr>\n",
       "  </thead>\n",
       "  <tbody>\n",
       "    <tr>\n",
       "      <th>0</th>\n",
       "      <td>13596</td>\n",
       "      <td>2021-06-02 00:00:00+00:00</td>\n",
       "      <td>0.453448</td>\n",
       "      <td>0.397189</td>\n",
       "      <td>0.9</td>\n",
       "      <td>-0.199162</td>\n",
       "      <td>1.106058</td>\n",
       "      <td>-0.199162</td>\n",
       "      <td>1.106058</td>\n",
       "    </tr>\n",
       "    <tr>\n",
       "      <th>1</th>\n",
       "      <td>13596</td>\n",
       "      <td>2021-06-03 00:00:00+00:00</td>\n",
       "      <td>0.430828</td>\n",
       "      <td>0.397545</td>\n",
       "      <td>0.9</td>\n",
       "      <td>-0.222366</td>\n",
       "      <td>1.084022</td>\n",
       "      <td>-0.222366</td>\n",
       "      <td>1.084022</td>\n",
       "    </tr>\n",
       "    <tr>\n",
       "      <th>2</th>\n",
       "      <td>13596</td>\n",
       "      <td>2021-06-04 00:00:00+00:00</td>\n",
       "      <td>0.414326</td>\n",
       "      <td>0.397737</td>\n",
       "      <td>0.9</td>\n",
       "      <td>-0.239184</td>\n",
       "      <td>1.067837</td>\n",
       "      <td>-0.239184</td>\n",
       "      <td>1.067837</td>\n",
       "    </tr>\n",
       "    <tr>\n",
       "      <th>3</th>\n",
       "      <td>13596</td>\n",
       "      <td>2021-06-05 00:00:00+00:00</td>\n",
       "      <td>0.379068</td>\n",
       "      <td>0.398587</td>\n",
       "      <td>0.9</td>\n",
       "      <td>-0.275839</td>\n",
       "      <td>1.033974</td>\n",
       "      <td>-0.275839</td>\n",
       "      <td>1.033974</td>\n",
       "    </tr>\n",
       "    <tr>\n",
       "      <th>4</th>\n",
       "      <td>13596</td>\n",
       "      <td>2021-06-06 00:00:00+00:00</td>\n",
       "      <td>0.375882</td>\n",
       "      <td>0.398596</td>\n",
       "      <td>0.9</td>\n",
       "      <td>-0.279040</td>\n",
       "      <td>1.030804</td>\n",
       "      <td>-0.279040</td>\n",
       "      <td>1.030804</td>\n",
       "    </tr>\n",
       "  </tbody>\n",
       "</table>\n",
       "</div>"
      ],
      "text/plain": [
       "   product_id        forecast_timestamp  forecast_value  standard_error  \\\n",
       "0       13596 2021-06-02 00:00:00+00:00        0.453448        0.397189   \n",
       "1       13596 2021-06-03 00:00:00+00:00        0.430828        0.397545   \n",
       "2       13596 2021-06-04 00:00:00+00:00        0.414326        0.397737   \n",
       "3       13596 2021-06-05 00:00:00+00:00        0.379068        0.398587   \n",
       "4       13596 2021-06-06 00:00:00+00:00        0.375882        0.398596   \n",
       "\n",
       "   confidence_level  prediction_interval_lower_bound  \\\n",
       "0               0.9                        -0.199162   \n",
       "1               0.9                        -0.222366   \n",
       "2               0.9                        -0.239184   \n",
       "3               0.9                        -0.275839   \n",
       "4               0.9                        -0.279040   \n",
       "\n",
       "   prediction_interval_upper_bound  confidence_interval_lower_bound  \\\n",
       "0                         1.106058                        -0.199162   \n",
       "1                         1.084022                        -0.222366   \n",
       "2                         1.067837                        -0.239184   \n",
       "3                         1.033974                        -0.275839   \n",
       "4                         1.030804                        -0.279040   \n",
       "\n",
       "   confidence_interval_upper_bound  \n",
       "0                         1.106058  \n",
       "1                         1.084022  \n",
       "2                         1.067837  \n",
       "3                         1.033974  \n",
       "4                         1.030804  "
      ]
     },
     "execution_count": 172,
     "metadata": {},
     "output_type": "execute_result"
    }
   ],
   "source": [
    "dfforecast.head()"
   ]
  },
  {
   "cell_type": "code",
   "execution_count": 173,
   "id": "aae92e36",
   "metadata": {},
   "outputs": [
    {
     "name": "stdout",
     "output_type": "stream",
     "text": [
      "Number of rows: 450\n"
     ]
    }
   ],
   "source": [
    "print(f\"Number of rows: {dfforecast.shape[0]}\")"
   ]
  },
  {
   "cell_type": "markdown",
   "id": "b159811e-6852-46b8-8e6d-8ebc1a42429c",
   "metadata": {},
   "source": [
    "Clean the historical and forecasted values for plotting\n"
   ]
  },
  {
   "cell_type": "code",
   "execution_count": 174,
   "id": "9e1c3051",
   "metadata": {},
   "outputs": [
    {
     "data": {
      "text/plain": [
       "(450, 3)"
      ]
     },
     "execution_count": 174,
     "metadata": {},
     "output_type": "execute_result"
    }
   ],
   "source": [
    "df_historical.sort_values(by=[\"product_id\",\"date\"], inplace=True)\n",
    "dfforecast.sort_values(by=[\"product_id\",\"forecast_timestamp\"], inplace=True)\n",
    "\n",
    "## Select the actual data to plot against the forecasted data\n",
    "day_diff = (new_df['date'] - pd.to_datetime(TRAININGDATA_ENDDATE)).dt.days \n",
    "df_actual_90d = new_df[new_df['product_id'].isin(dfforecast['product_id'].unique())][(day_diff > 0 )&(day_diff <= 90)].copy()\n",
    "df_actual_90d.shape"
   ]
  },
  {
   "cell_type": "markdown",
   "id": "510506c5",
   "metadata": {},
   "source": [
    "Plot the historical and forecast data.\n"
   ]
  },
  {
   "cell_type": "code",
   "execution_count": 175,
   "id": "8c7fe184",
   "metadata": {},
   "outputs": [
    {
     "name": "stdout",
     "output_type": "stream",
     "text": [
      "Product_id :  13596\n"
     ]
    },
    {
     "data": {
      "image/png": "[encoded data removed]",
      "text/plain": [
       "<Figure size 1080x288 with 1 Axes>"
      ]
     },
     "metadata": {
      "needs_background": "light"
     },
     "output_type": "display_data"
    },
    {
     "name": "stdout",
     "output_type": "stream",
     "text": [
      "Product_id :  20547\n"
     ]
    },
    {
     "data": {
      "image/png": "[encoded data removed]",
      "text/plain": [
       "<Figure size 1080x288 with 1 Axes>"
      ]
     },
     "metadata": {
      "needs_background": "light"
     },
     "output_type": "display_data"
    },
    {
     "name": "stdout",
     "output_type": "stream",
     "text": [
      "Product_id :  20552\n"
     ]
    },
    {
     "data": {
      "image/png": "[encoded data removed]",
      "text/plain": [
       "<Figure size 1080x288 with 1 Axes>"
      ]
     },
     "metadata": {
      "needs_background": "light"
     },
     "output_type": "display_data"
    },
    {
     "name": "stdout",
     "output_type": "stream",
     "text": [
      "Product_id :  23641\n"
     ]
    },
    {
     "data": {
      "image/png": "[encoded data removed]",
      "text/plain": [
       "<Figure size 1080x288 with 1 Axes>"
      ]
     },
     "metadata": {
      "needs_background": "light"
     },
     "output_type": "display_data"
    },
    {
     "name": "stdout",
     "output_type": "stream",
     "text": [
      "Product_id :  28305\n"
     ]
    },
    {
     "data": {
      "image/png": "[encoded data removed]",
      "text/plain": [
       "<Figure size 1080x288 with 1 Axes>"
      ]
     },
     "metadata": {
      "needs_background": "light"
     },
     "output_type": "display_data"
    }
   ],
   "source": [
    "def plot_hist_forecast(historical, forecast, actual, hist_start=\"\", hist_end=\"\", title=\"\") :\n",
    "    if hist_start != \"\":\n",
    "        historical = historical[historical[\"date\"] >= pd.to_datetime(hist_start,format=\"%Y-%m-%d\")].copy()\n",
    "    if hist_end != \"\":\n",
    "        historical = historical[historical[\"date\"] <= pd.to_datetime(hist_end,format=\"%Y-%m-%d\")].copy()\n",
    "        \n",
    "    plt.figure(figsize=(15,4))\n",
    "    plt.plot(historical[\"date\"], historical[\"sales_count\"], label=\"historical\")\n",
    "    # Plot the forecast data\n",
    "    plt.plot(forecast[\"forecast_timestamp\"], forecast[\"forecast_value\"], label=\"forecast\", linestyle='--')\n",
    "    # Plot the actual data\n",
    "    plt.plot(actual[\"date\"], actual[\"sales_count\"], label=\"actual\")\n",
    "    ## plot the confidence interval\n",
    "    confidence_level = forecast['confidence_level'].iloc[0] * 100\n",
    "    low_CI = forecast['confidence_interval_lower_bound']\n",
    "    upper_CI = forecast['confidence_interval_upper_bound']\n",
    "    \n",
    "    # Shade the confidence interval\n",
    "    plt.fill_between(forecast[\"forecast_timestamp\"], low_CI, upper_CI, color = '#539caf', alpha = 0.4, \n",
    "                     label = f'{confidence_level} confidence interval')\n",
    "    plt.legend()\n",
    "    plt.title(title)\n",
    "    plt.show()\n",
    "    return\n",
    "\n",
    "product_id_list = dfforecast[\"product_id\"].unique()\n",
    "for i in item_id_list :\n",
    "    print (\"Product_id : \", i)\n",
    "    plot_hist_forecast(df_historical[df_historical[\"product_id\"] == i], \n",
    "                       dfforecast[dfforecast[\"product_id\"]==i], \n",
    "                       df_actual_90d[df_actual_90d[\"product_id\"]==i],\n",
    "                       hist_start=\"2021-02-01\", title=i)"
   ]
  },
  {
   "cell_type": "markdown",
   "id": "912df92d",
   "metadata": {},
   "source": [
    "While most of the predictions are looking decent, you can also see that the actual ranges fall into the 90% confidence interval suggested by the model. Under the hood, BQML performs many computationally expensive tasks even considering the seasonal and holiday information.\n",
    "<img src=\"https://cloud.google.com/bigquery-ml/images/BQ_ARIMA_diagram.png\"> <a href=\"https://cloud.google.com/bigquery-ml/docs/reference/standard-sql/bigqueryml-syntax-create-time-series\"> Source</a> </img>\n",
    "\n",
    "The coefficients learned by BQML's ARIMA model can also be checked by simply querying for <a href=\"https://cloud.google.com/bigquery-ml/docs/reference/standard-sql/bigqueryml-syntax-arima-coefficients\">ARIMA_COEFFICIENTS</a> from the model."
   ]
  },
  {
   "cell_type": "markdown",
   "id": "aed72797",
   "metadata": {},
   "source": [
    "#@bigquery\n",
    "SELECT\n",
    "  *\n",
    "FROM \n",
    "  ML.ARIMA_COEFFICIENTS(MODEL demandforecasting.arima_model)"
   ]
  },
  {
   "cell_type": "markdown",
   "id": "8f617947",
   "metadata": {},
   "source": [
    "In the above results, \n",
    "- <b>product_id</b> column represents the index column we've specified while training the ARIMA model.\n",
    "- <b>ar_coefficients</b> column corresponds to the autoregressive coefficients in the ARIMA algorithm(non-seasonal p).\n",
    "- <b>ma_coefficients</b> refers to the moving average coefficients in the ARIMA algorithm(non-seasonal q).\n",
    "- <b>intercept_or_drift</b> is the constant term in the ARIMA algorithm."
   ]
  },
  {
   "cell_type": "markdown",
   "id": "5b25aa8f",
   "metadata": {},
   "source": [
    "## Evaluating the model results using BQML \n",
    "<a name=\"section-7-subsection-1\"></a>\n",
    "\n",
    "\n",
    "Nevertheless, BQML also provies us with the <a href=\"https://cloud.google.com/bigquery-ml/docs/reference/standard-sql/bigqueryml-syntax-evaluate\">ML.EVALUATE</a> function to see check the evaluation metrics of the trained model. For ARIMA model, we can see the model being evaluated on log_likelihood, AIC and variance measures. "
   ]
  },
  {
   "cell_type": "markdown",
   "id": "a29a4e32",
   "metadata": {},
   "source": [
    "#@bigquery\n",
    "SELECT\n",
    "  *\n",
    "FROM\n",
    "  ML.EVALUATE(MODEL demandforecasting.arima_model)"
   ]
  },
  {
   "cell_type": "markdown",
   "id": "ce8638d6",
   "metadata": {},
   "source": [
    "## Evaluting the model results - MAE, MAPE, MSE, RMSE (on Test data)\n",
    "<a name=\"section-7-subsection-2\"></a>\n",
    "\n",
    "\n",
    "Generally, to evaluate forecast model, we have various metrics depending on how we want to evaluate. For starters, we can choose from the following : \n",
    "* <b>Mean Absolute Error (MAE)</b> : Average of the absolute differences between the actual values and the forecasted values.\n",
    "* <b>Mean Absolute Percentage Error (MAPE)</b> : Average of the percentages of absolute difference between the actual and forecasted values to the actual values.\n",
    "* <b>Mean Squared Error (MSE)</b> : Average of squared differences between the actual and forecasted values.\n",
    "* <b>Root Mean Squared Error (RMSE)</b> : Root of MSE"
   ]
  },
  {
   "cell_type": "code",
   "execution_count": 176,
   "id": "7eac5202",
   "metadata": {},
   "outputs": [],
   "source": [
    "\n",
    "df_actual_90d.sort_values(by=[\"product_id\",\"date\"], inplace=True)\n",
    "df_actual_90d.reset_index(drop=True, inplace=True)\n",
    "dfforecast.sort_values(by=[\"product_id\", \"forecast_timestamp\"], inplace=True)\n",
    "dfforecast.reset_index(drop=True, inplace=True)"
   ]
  },
  {
   "cell_type": "code",
   "execution_count": 177,
   "id": "c66d8332",
   "metadata": {},
   "outputs": [
    {
     "data": {
      "text/html": [
       "<div>\n",
       "<style scoped>\n",
       "    .dataframe tbody tr th:only-of-type {\n",
       "        vertical-align: middle;\n",
       "    }\n",
       "\n",
       "    .dataframe tbody tr th {\n",
       "        vertical-align: top;\n",
       "    }\n",
       "\n",
       "    .dataframe thead th {\n",
       "        text-align: right;\n",
       "    }\n",
       "</style>\n",
       "<table border=\"1\" class=\"dataframe\">\n",
       "  <thead>\n",
       "    <tr style=\"text-align: right;\">\n",
       "      <th></th>\n",
       "      <th>product_id</th>\n",
       "      <th>MAE</th>\n",
       "      <th>MAPE</th>\n",
       "      <th>MSE</th>\n",
       "      <th>RMSE</th>\n",
       "    </tr>\n",
       "  </thead>\n",
       "  <tbody>\n",
       "    <tr>\n",
       "      <th>0</th>\n",
       "      <td>13596</td>\n",
       "      <td>0.752581</td>\n",
       "      <td>8.505267e+14</td>\n",
       "      <td>1.033025</td>\n",
       "      <td>1.016379</td>\n",
       "    </tr>\n",
       "    <tr>\n",
       "      <th>1</th>\n",
       "      <td>20547</td>\n",
       "      <td>0.536853</td>\n",
       "      <td>7.270733e+14</td>\n",
       "      <td>0.581119</td>\n",
       "      <td>0.762312</td>\n",
       "    </tr>\n",
       "    <tr>\n",
       "      <th>2</th>\n",
       "      <td>20552</td>\n",
       "      <td>0.896490</td>\n",
       "      <td>1.397336e+15</td>\n",
       "      <td>1.190419</td>\n",
       "      <td>1.091063</td>\n",
       "    </tr>\n",
       "    <tr>\n",
       "      <th>3</th>\n",
       "      <td>23641</td>\n",
       "      <td>0.631763</td>\n",
       "      <td>8.404797e+14</td>\n",
       "      <td>0.668938</td>\n",
       "      <td>0.817886</td>\n",
       "    </tr>\n",
       "    <tr>\n",
       "      <th>4</th>\n",
       "      <td>28305</td>\n",
       "      <td>0.737716</td>\n",
       "      <td>1.394103e+15</td>\n",
       "      <td>0.954218</td>\n",
       "      <td>0.976841</td>\n",
       "    </tr>\n",
       "  </tbody>\n",
       "</table>\n",
       "</div>"
      ],
      "text/plain": [
       "   product_id       MAE          MAPE       MSE      RMSE\n",
       "0       13596  0.752581  8.505267e+14  1.033025  1.016379\n",
       "1       20547  0.536853  7.270733e+14  0.581119  0.762312\n",
       "2       20552  0.896490  1.397336e+15  1.190419  1.091063\n",
       "3       23641  0.631763  8.404797e+14  0.668938  0.817886\n",
       "4       28305  0.737716  1.394103e+15  0.954218  0.976841"
      ]
     },
     "execution_count": 177,
     "metadata": {},
     "output_type": "execute_result"
    }
   ],
   "source": [
    "errors = {\"product_id\":[], \"MAE\":[], \"MAPE\":[], \"MSE\":[], \"RMSE\":[]}\n",
    "for i in product_id_list :\n",
    "    mae = mean_absolute_error(df_actual_90d[df_actual_90d[\"product_id\"]==i][\"sales_count\"],\n",
    "                             dfforecast[dfforecast[\"product_id\"]==i][\"forecast_value\"])\n",
    "    mape = mean_absolute_percentage_error(df_actual_90d[df_actual_90d[\"product_id\"]==i][\"sales_count\"],\n",
    "                             dfforecast[dfforecast[\"product_id\"]==i][\"forecast_value\"])\n",
    "    mse = mean_squared_error(df_actual_90d[df_actual_90d[\"product_id\"]==i][\"sales_count\"],\n",
    "                             dfforecast[dfforecast[\"product_id\"]==i][\"forecast_value\"],squared=True)\n",
    "    rmse = mean_squared_error(df_actual_90d[df_actual_90d[\"product_id\"]==i][\"sales_count\"],\n",
    "                             dfforecast[dfforecast[\"product_id\"]==i][\"forecast_value\"],squared=False)\n",
    "    errors[\"product_id\"].append(i)\n",
    "    errors[\"MAE\"].append(mae)\n",
    "    errors[\"MAPE\"].append(mape)\n",
    "    errors[\"MSE\"].append(mse)\n",
    "    errors[\"RMSE\"].append(rmse)\n",
    "errors = pd.DataFrame(errors)\n",
    "errors"
   ]
  },
  {
   "cell_type": "markdown",
   "id": "40251029",
   "metadata": {},
   "source": [
    "From the values obtained for various error measures, you can identify that for product id's 20552, 13596 error measures are high. It has to be noted that these error measures are an aggregate of all the individual forecasts made during the test period and so we get an overall picture of the model's performance over the selected period. Ideally, the lower these error measures, the better the model is good at forecasting."
   ]
  },
  {
   "cell_type": "markdown",
   "id": "86577b76-2240-4f05-9d1e-93393d8ebaa5",
   "metadata": {},
   "source": [
    "## Executor\n",
    "<a name=\"section-8\"></a>\n",
    "From the navbar you see below select executor option\n"
   ]
  },
  {
   "cell_type": "markdown",
   "id": "39d9b364-0542-4e3e-90fd-7fa89737807d",
   "metadata": {},
   "source": [
    "<img src=\"images/navbar_exe.png\" ></img>\n"
   ]
  },
  {
   "cell_type": "markdown",
   "id": "731eae68-9cfb-45ed-927f-979d99c16ef3",
   "metadata": {},
   "source": [
    "Give the execution name. Select the cloud storage bucket,machine type, accelerator type. For environment you can choose python 3 here from the environment options\n"
   ]
  },
  {
   "cell_type": "markdown",
   "id": "5061b3b7-2fd4-4608-806a-cad631a86fdb",
   "metadata": {},
   "source": [
    "<img src=\"images/exe_form.png\" style=\"height:500px;width:500px\"></img>\n"
   ]
  },
  {
   "cell_type": "markdown",
   "id": "3ac9f7bd-7ce3-42b3-8b4b-a779526e499e",
   "metadata": {},
   "source": []
  },
  {
   "cell_type": "markdown",
   "id": "000387af-25d1-4d04-9e7c-3f9dfe31f28a",
   "metadata": {},
   "source": [
    "<img src=\"images/python3_env_selection.png\" style=\"height:500px;width:500px\"></img>\n"
   ]
  },
  {
   "cell_type": "markdown",
   "id": "e4ca208d-eee1-42a7-b62a-f99ef98584dc",
   "metadata": {},
   "source": [
    "In type option you can select Schedule-based recurring executions if you want to schelule the execution like every 1 hour."
   ]
  },
  {
   "cell_type": "markdown",
   "id": "af57b6d8-2080-4c08-b78b-806d9c52f55d",
   "metadata": {},
   "source": [
    "<img src=\"images/schedule.png\" style=\"height:500px;\"></img>\n"
   ]
  },
  {
   "cell_type": "markdown",
   "id": "044bf594-622d-4ccc-b24e-44d4ee4d4e2a",
   "metadata": {},
   "source": [
    "You can see the history of executions by selecting last but one item on the down from the side nav bar"
   ]
  },
  {
   "cell_type": "markdown",
   "id": "70903167-3117-438c-813f-99b1db7b6093",
   "metadata": {},
   "source": [
    "<img src=\"images/side_nav.png\" style=\"height:500px;\"></img>\n"
   ]
  },
  {
   "cell_type": "markdown",
   "id": "368a78e7-5765-4d23-8050-c6402f65d91d",
   "metadata": {},
   "source": [
    "You can see history of executions here"
   ]
  },
  {
   "cell_type": "markdown",
   "id": "d218c6f3-c252-47bb-bb21-784b3f1e85eb",
   "metadata": {},
   "source": [
    "<img src=\"images/list_execution.png\" style=\"height:500px;width:500px\"></img>\n"
   ]
  },
  {
   "cell_type": "markdown",
   "id": "9301d42c-67a5-4ed1-b716-118a68b99cc3",
   "metadata": {},
   "source": [
    "You can see history of schedules here"
   ]
  },
  {
   "cell_type": "markdown",
   "id": "0a8169b1-6bce-45d6-b4b0-4c40c3e8566e",
   "metadata": {},
   "source": [
    "<img src=\"images/list_schedule.png\" style=\"height:500px;width:500px\"></img>\n"
   ]
  },
  {
   "cell_type": "markdown",
   "id": "631fb7a4-eb18-442f-a02e-e6255c56c6c5",
   "metadata": {},
   "source": [
    "## Clean up\n",
    "<a name=\"section-9\"></a>\n",
    "\n",
    "\n",
    "To clean up all Google Cloud resources used in this project, you can [delete the Google Cloud\n",
    "project](https://cloud.google.com/resource-manager/docs/creating-managing-projects#shutting_down_projects) you used for the tutorial.\n",
    "\n",
    "Otherwise, you can delete the individual resources you created in this tutorial(The following code deletes entire dataset).\n",
    "\n"
   ]
  },
  {
   "cell_type": "code",
   "execution_count": null,
   "id": "030ff85a-65a9-4fc1-8c94-cfcd89cbb11f",
   "metadata": {},
   "outputs": [],
   "source": [
    "# Construct a BigQuery client object.\n",
    "client = bigquery.Client()\n",
    "\n",
    "# TODO(developer): Set model_id to the ID of the model to fetch.\n",
    "dataset_id = 'your-project-id.dataset-name'\n",
    "\n",
    "# Use the delete_contents parameter to delete a dataset and its contents.\n",
    "# Use the not_found_ok parameter to not receive an error if the dataset has already been deleted.\n",
    "client.delete_dataset(\n",
    "    dataset_id, delete_contents=True, not_found_ok=True\n",
    ")  # Make an API request.\n",
    "\n",
    "print(\"Deleted dataset '{}'.\".format(dataset_id))"
   ]
  }
 ],
 "metadata": {
  "environment": {
   "name": "managed-notebooks.m80",
   "type": "gcloud",
   "uri": "gcr.io/deeplearning-platform-release/managed-notebooks:m80"
  },
  "kernelspec": {
   "display_name": "Python (Local)",
   "language": "python",
   "name": "local-base"
  },
  "language_info": {
   "codemirror_mode": {
    "name": "ipython",
    "version": 3
   },
   "file_extension": ".py",
   "mimetype": "text/x-python",
   "name": "python",
   "nbconvert_exporter": "python",
   "pygments_lexer": "ipython3",
   "version": "3.7.10"
  },
  "toc-showtags": false
 },
 "nbformat": 4,
 "nbformat_minor": 5
}
