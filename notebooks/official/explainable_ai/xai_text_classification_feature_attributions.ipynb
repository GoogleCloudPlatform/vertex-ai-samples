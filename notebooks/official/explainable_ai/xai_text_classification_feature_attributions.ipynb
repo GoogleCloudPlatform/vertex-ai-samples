{
  "cells": [
    {
      "cell_type": "code",
      "execution_count": null,
      "metadata": {
        "id": "ur8xi4C7S06n"
      },
      "outputs": [],
      "source": [
        "# Copyright 2023 Google LLC\n",
        "#\n",
        "# Licensed under the Apache License, Version 2.0 (the \"License\");\n",
        "# you may not use this file except in compliance with the License.\n",
        "# You may obtain a copy of the License at\n",
        "#\n",
        "#     https://www.apache.org/licenses/LICENSE-2.0\n",
        "#\n",
        "# Unless required by applicable law or agreed to in writing, software\n",
        "# distributed under the License is distributed on an \"AS IS\" BASIS,\n",
        "# WITHOUT WARRANTIES OR CONDITIONS OF ANY KIND, either express or implied.\n",
        "# See the License for the specific language governing permissions and\n",
        "# limitations under the License."
      ]
    },
    {
      "cell_type": "markdown",
      "metadata": {
        "id": "JAPoU8Sm5E6e"
      },
      "source": [
        "# Explaining text classification with Vertex Explainable AI\n",
        "\n",
        "---\n",
        "\n",
        "\n",
        "\n",
        "<table align=\"left\">\n",
        "\n",
        "  <td>\n",
        "    <a href=\"https://colab.research.google.com/github/GoogleCloudPlatform/vertex-ai-samples/blob/main/notebooks/official/explainable_ai/xai_text_classification_feature_attributions.ipynb\">\n",
        "      <img src=\"https://cloud.google.com/ml-engine/images/colab-logo-32px.png\" alt=\"Colab logo\"> Run in Colab\n",
        "    </a>\n",
        "  </td>\n",
        "  <td>\n",
        "    <a href=\"https://github.com/GoogleCloudPlatform/vertex-ai-samples/blob/main/notebooks/official/explainable_ai/xai_text_classification_feature_attributions.ipynb\">\n",
        "      <img src=\"https://cloud.google.com/ml-engine/images/github-logo-32px.png\" alt=\"GitHub logo\">\n",
        "      View on GitHub\n",
        "    </a>\n",
        "  </td>\n",
        "  <td>\n",
        "    <a href=\"https://console.cloud.google.com/vertex-ai/workbench/deploy-notebook?download_url=https://raw.githubusercontent.com/GoogleCloudPlatform/vertex-ai-samples/main/notebooks/official/explainable_ai/xai_text_classification_feature_attributions.ipynb\">\n",
        "      <img src=\"https://lh3.googleusercontent.com/UiNooY4LUgW_oTvpsNhPpQzsstV5W8F7rYgxgGBD85cWJoLmrOzhVs_ksK_vgx40SHs7jCqkTkCk=e14-rj-sc0xffffff-h130-w32\" alt=\"Vertex AI logo\">\n",
        "      Open in Vertex AI Workbench\n",
        "    </a>\n",
        "  </td>\n",
        "</table>"
      ]
    },
    {
      "cell_type": "markdown",
      "metadata": {
        "id": "tvgnzT1CKxrO"
      },
      "source": [
        "## Overview\n",
        "\n",
        "Vertex Explainable AI offers feature-based and example-based explanations to provide better understanding of model decision making. For feature-based explanations, Vertex Explainable AI integrates feature attributions into Vertex AI. Feature attributions indicate how much each feature in your model contributed to the predictions for each given instance. For a text classification model, when you request explanations, you get the predicted class along with explanations, indicating how much each word or token contributes to the classification.\n",
        "\n",
        "To use Vertex Explainable AI on a pre-trained or custom-trained model, you must configure certain options when you create the `Model` resource that you plan to request explanations from, when you deploy the model, or when you submit a batch explanation job. This tutorial demonstrates how to configure these options, and get and visualize explanations for text models.\n",
        "\n",
        "Learn more about [Vertex Explainable AI](https://cloud.google.com/vertex-ai/docs/explainable-ai/overview)."
      ]
    },
    {
      "cell_type": "markdown",
      "metadata": {
        "id": "d975e698c9a4"
      },
      "source": [
        "### Objective\n",
        "\n",
        "In this tutorial, you learn how to configure feature-based explanations using **sampled Shapley method** on a TensorFlow text classification model for online predictions with explanations.\n",
        "\n",
        "This tutorial uses the following Google Cloud ML services and resources:\n",
        "\n",
        "- `Vertex Explainable AI`\n",
        "- `Vertex AI Prediction`\n",
        "\n",
        "The steps performed include:\n",
        "\n",
        "- Build and train a TensorFlow text classification model\n",
        "- Upload model for deployment\n",
        "- Deploy model for online prediction\n",
        "- Make online prediction with explanations\n"
      ]
    },
    {
      "cell_type": "markdown",
      "metadata": {
        "id": "08d289fa873f"
      },
      "source": [
        "### Dataset\n",
        "\n",
        "In this tutorial, you use the [IMDB review sentiment classification dataset](https://keras.io/api/datasets/imdb/) from Keras."
      ]
    },
    {
      "cell_type": "markdown",
      "metadata": {
        "id": "aed92deeb4a0"
      },
      "source": [
        "### Costs\n",
        "\n",
        "This tutorial uses billable components of Google Cloud:\n",
        "\n",
        "* Vertex AI\n",
        "* Cloud Storage\n",
        "\n",
        "Learn about [Vertex AI pricing](https://cloud.google.com/vertex-ai/pricing),\n",
        "and [Cloud Storage pricing](https://cloud.google.com/storage/pricing),\n",
        "and use the [Pricing Calculator](https://cloud.google.com/products/calculator/)\n",
        "to generate a cost estimate based on your projected usage."
      ]
    },
    {
      "cell_type": "markdown",
      "metadata": {
        "id": "i7EUnXsZhAGF"
      },
      "source": [
        "## Installation\n",
        "\n",
        "Install the following packages required to execute this notebook."
      ]
    },
    {
      "cell_type": "code",
      "execution_count": null,
      "metadata": {
        "id": "2b4ef9b72d43"
      },
      "outputs": [],
      "source": [
        "! pip3 install --upgrade -q google-cloud-aiplatform \\\n",
        "                            tensorflow"
      ]
    },
    {
      "cell_type": "markdown",
      "metadata": {
        "id": "58707a750154"
      },
      "source": [
        "### Colab only: Uncomment the following cell to restart the kernel."
      ]
    },
    {
      "cell_type": "code",
      "execution_count": null,
      "metadata": {
        "id": "f200f10a1da3"
      },
      "outputs": [],
      "source": [
        "# Automatically restart kernel after installs so that your environment can access the new packages\n",
        "# import IPython\n",
        "\n",
        "# app = IPython.Application.instance()\n",
        "# app.kernel.do_shutdown(True)"
      ]
    },
    {
      "cell_type": "markdown",
      "metadata": {
        "id": "BF1j6f9HApxa"
      },
      "source": [
        "## Before you begin\n",
        "\n",
        "### Set up your Google Cloud project\n",
        "\n",
        "**The following steps are required, regardless of your notebook environment.**\n",
        "\n",
        "1. [Select or create a Google Cloud project](https://console.cloud.google.com/cloud-resource-manager). When you first create an account, you get a $300 free credit towards your compute/storage costs.\n",
        "\n",
        "2. [Make sure that billing is enabled for your project](https://cloud.google.com/billing/docs/how-to/modify-project).\n",
        "\n",
        "3. [Enable the Vertex AI API](https://console.cloud.google.com/flows/enableapi?apiid=aiplatform.googleapis.com).\n",
        "\n",
        "4. If you are running this notebook locally, you need to install the [Cloud SDK](https://cloud.google.com/sdk)."
      ]
    },
    {
      "cell_type": "markdown",
      "metadata": {
        "id": "WReHDGG5g0XY"
      },
      "source": [
        "#### Set your project ID\n",
        "\n",
        "**If you don't know your project ID**, try the following:\n",
        "* Run `gcloud config list`.\n",
        "* Run `gcloud projects list`.\n",
        "* See the support page: [Locate the project ID](https://support.google.com/googleapi/answer/7014113)"
      ]
    },
    {
      "cell_type": "code",
      "execution_count": null,
      "metadata": {
        "id": "oM1iC_MfAts1"
      },
      "outputs": [],
      "source": [
        "PROJECT_ID = \"[your-project-id]\"  # @param {type:\"string\"}\n",
        "\n",
        "# Set the project id\n",
        "! gcloud config set project {PROJECT_ID}"
      ]
    },
    {
      "cell_type": "markdown",
      "metadata": {
        "id": "region"
      },
      "source": [
        "#### Region\n",
        "\n",
        "You can also change the `REGION` variable used by Vertex AI. Learn more about [Vertex AI regions](https://cloud.google.com/vertex-ai/docs/general/locations)."
      ]
    },
    {
      "cell_type": "code",
      "execution_count": null,
      "metadata": {
        "id": "LxQmrc_AARaD"
      },
      "outputs": [],
      "source": [
        "REGION = \"us-central1\"  # @param {type: \"string\"}"
      ]
    },
    {
      "cell_type": "markdown",
      "metadata": {
        "id": "sBCra4QMA2wR"
      },
      "source": [
        "### Authenticate your Google Cloud account\n",
        "\n",
        "Depending on your Jupyter environment, you may have to manually authenticate. Follow the relevant instructions below."
      ]
    },
    {
      "cell_type": "markdown",
      "metadata": {
        "id": "74ccc9e52986"
      },
      "source": [
        "**1. Vertex AI Workbench**\n",
        "* Do nothing as you are already authenticated."
      ]
    },
    {
      "cell_type": "markdown",
      "metadata": {
        "id": "de775a3773ba"
      },
      "source": [
        "**2. Local JupyterLab instance, uncomment and run:**"
      ]
    },
    {
      "cell_type": "code",
      "execution_count": null,
      "metadata": {
        "id": "254614fa0c46"
      },
      "outputs": [],
      "source": [
        "# ! gcloud auth login"
      ]
    },
    {
      "cell_type": "markdown",
      "metadata": {
        "id": "ef21552ccea8"
      },
      "source": [
        "**3. Colab, uncomment and run:**"
      ]
    },
    {
      "cell_type": "code",
      "execution_count": null,
      "metadata": {
        "id": "603adbbf0532"
      },
      "outputs": [],
      "source": [
        "# from google.colab import auth\n",
        "# auth.authenticate_user()"
      ]
    },
    {
      "cell_type": "markdown",
      "metadata": {
        "id": "f6b2ccc891ed"
      },
      "source": [
        "**4. Service account or other**\n",
        "* See how to grant Cloud Storage permissions to your service account at https://cloud.google.com/storage/docs/gsutil/commands/iam#ch-examples."
      ]
    },
    {
      "cell_type": "markdown",
      "metadata": {
        "id": "zgPO1eR3CYjk"
      },
      "source": [
        "### Create a Cloud Storage bucket\n",
        "\n",
        "Create a storage bucket to store intermediate artifacts such as datasets."
      ]
    },
    {
      "cell_type": "code",
      "execution_count": null,
      "metadata": {
        "id": "MzGDU7TWdts_"
      },
      "outputs": [],
      "source": [
        "BUCKET_URI = f\"gs://your-bucket-name-{PROJECT_ID}-unique\"  # @param {type:\"string\"}"
      ]
    },
    {
      "cell_type": "markdown",
      "metadata": {
        "id": "-EcIXiGsCePi"
      },
      "source": [
        "**Only if your bucket doesn't already exist**: Run the following cell to create your Cloud Storage bucket."
      ]
    },
    {
      "cell_type": "code",
      "execution_count": null,
      "metadata": {
        "id": "NIq7R4HZCfIc"
      },
      "outputs": [],
      "source": [
        "! gsutil mb -l $REGION -p $PROJECT_ID $BUCKET_URI"
      ]
    },
    {
      "cell_type": "markdown",
      "metadata": {
        "id": "960505627ddf"
      },
      "source": [
        "### Import libraries"
      ]
    },
    {
      "cell_type": "code",
      "execution_count": null,
      "metadata": {
        "id": "PyQmSRbKA8r-"
      },
      "outputs": [],
      "source": [
        "import warnings\n",
        "\n",
        "import numpy as np\n",
        "import tensorflow as tf\n",
        "from google.cloud import aiplatform\n",
        "from keras.datasets import imdb\n",
        "from keras.layers import LSTM, Dense, Embedding\n",
        "from keras.models import Sequential\n",
        "from keras.utils import pad_sequences\n",
        "\n",
        "warnings.filterwarnings(\"ignore\")"
      ]
    },
    {
      "cell_type": "markdown",
      "metadata": {
        "id": "init_aip:mbsdk,all"
      },
      "source": [
        "### Initialize Vertex AI SDK for Python\n",
        "\n",
        "Initialize the Vertex AI SDK for Python for your project."
      ]
    },
    {
      "cell_type": "code",
      "execution_count": null,
      "metadata": {
        "id": "utUNuq2aARaE"
      },
      "outputs": [],
      "source": [
        "aiplatform.init(project=PROJECT_ID, location=REGION, staging_bucket=BUCKET_URI)"
      ]
    },
    {
      "cell_type": "markdown",
      "metadata": {
        "id": "SqI_MEPvWVI5"
      },
      "source": [
        "## Build a TensorFlow model locally\n",
        "\n",
        "This notebook classifies movie reviews as positive or negative using the text of the review. In this tutorial, you build and train a model in `TensorFlow`.\n"
      ]
    },
    {
      "cell_type": "markdown",
      "metadata": {
        "id": "JCH6o8gbf0As"
      },
      "source": [
        "#### Load IMDB data"
      ]
    },
    {
      "cell_type": "code",
      "execution_count": null,
      "metadata": {
        "id": "poetFd8bwHFb"
      },
      "outputs": [],
      "source": [
        "max_features = 10000\n",
        "maxlen = 80\n",
        "\n",
        "(x_train, y_train), (x_test, y_test) = imdb.load_data(num_words=max_features)\n",
        "\n",
        "x_train = pad_sequences(x_train, maxlen=maxlen)\n",
        "x_test = pad_sequences(x_test, maxlen=maxlen)"
      ]
    },
    {
      "cell_type": "markdown",
      "metadata": {
        "id": "9ns56O28f4bY"
      },
      "source": [
        "#### Build model\n",
        "\n",
        "You train an LSTM model in `TensorFlow` on the IMDB sentiment classification task."
      ]
    },
    {
      "cell_type": "code",
      "execution_count": null,
      "metadata": {
        "id": "tLJKt1uHJ8La"
      },
      "outputs": [],
      "source": [
        "model = Sequential()\n",
        "model.add(Embedding(max_features, 128))\n",
        "model.add(LSTM(128, dropout=0.2, recurrent_dropout=0.2))\n",
        "model.add(Dense(1, activation=\"sigmoid\"))\n",
        "\n",
        "model.compile(optimizer=\"adam\", loss=\"binary_crossentropy\", metrics=[\"accuracy\"])\n",
        "\n",
        "model.fit(x_train, y_train, batch_size=32, epochs=2, validation_data=(x_test, y_test))\n",
        "\n",
        "loss, accuracy = model.evaluate(x_test, y_test, batch_size=32)\n",
        "\n",
        "print(f\"Loss: {loss}  Accuracy: {accuracy}\")"
      ]
    },
    {
      "cell_type": "markdown",
      "metadata": {
        "id": "3f9_ct3sc_AF"
      },
      "source": [
        "#### Export the model\n",
        "\n",
        "Next, you export the model to your Cloud Storage bucket."
      ]
    },
    {
      "cell_type": "code",
      "execution_count": null,
      "metadata": {
        "id": "bxuGLTEpR7Dg"
      },
      "outputs": [],
      "source": [
        "MODEL_DIR = f\"{BUCKET_URI}/model\"\n",
        "\n",
        "tf.saved_model.save(model, MODEL_DIR)"
      ]
    },
    {
      "cell_type": "markdown",
      "metadata": {
        "id": "YOOXywwNZBN1"
      },
      "source": [
        "#### Get the serving function signature\n",
        "\n",
        "You get the signatures of your model's input and output layers by reloading the model into memory, and querying it for the signatures corresponding to each layer. The input layer name of the serving function will be used later when you configure explanation settings."
      ]
    },
    {
      "cell_type": "code",
      "execution_count": null,
      "metadata": {
        "id": "vVdSjoBSQaEA"
      },
      "outputs": [],
      "source": [
        "saved_model = tf.saved_model.load(MODEL_DIR)\n",
        "serving_input = list(\n",
        "    saved_model.signatures[\"serving_default\"].structured_input_signature[1].keys()\n",
        ")[0]\n",
        "serving_output = list(\n",
        "    saved_model.signatures[\"serving_default\"].structured_outputs.keys()\n",
        ")[0]\n",
        "\n",
        "print(\"Serving function input:\", serving_input)\n",
        "print(\"Serving function output:\", serving_output)"
      ]
    },
    {
      "cell_type": "markdown",
      "metadata": {
        "id": "ySldGR7eKdY0"
      },
      "source": [
        "## Upload the model for deployment\n",
        "\n",
        "Next, you upload the model to `Vertex AI` Model Registry, which will create a `Vertex AI Model` resource for your model."
      ]
    },
    {
      "cell_type": "markdown",
      "metadata": {
        "id": "wnefcZK1ba4b"
      },
      "source": [
        "### Configure explanation settings\n",
        "\n",
        "To use `Vertex Explainable AI` with a custom-trained model, you must configure explanation settings when uploading the model. These settings include:\n",
        "\n",
        "- `parameters`: The feature attribution method. You use the `sampled_shapley_attribution` method in this tutorial.\n",
        "- `metadata`: The model's input and output for explanation.\n",
        "\n",
        "Learn more about [configuring feature-based explanations](https://cloud.google.com/vertex-ai/docs/explainable-ai/configuring-explanations-feature-based)."
      ]
    },
    {
      "cell_type": "code",
      "execution_count": null,
      "metadata": {
        "id": "_wDTAJoJHx5p"
      },
      "outputs": [],
      "source": [
        "PARAMETERS = {\"sampled_shapley_attribution\": {\"path_count\": 10}}\n",
        "\n",
        "parameters = aiplatform.explain.ExplanationParameters(PARAMETERS)"
      ]
    },
    {
      "cell_type": "code",
      "execution_count": null,
      "metadata": {
        "id": "xwGWXCKv-EW3"
      },
      "outputs": [],
      "source": [
        "INPUT_METADATA = {\n",
        "    \"my_input\": aiplatform.explain.ExplanationMetadata.InputMetadata(\n",
        "        {\n",
        "            \"input_tensor_name\": serving_input,\n",
        "            \"encoding\": aiplatform.explain.ExplanationMetadata.InputMetadata.Encoding(\n",
        "                1\n",
        "            ),\n",
        "        }\n",
        "    ),\n",
        "}\n",
        "\n",
        "OUTPUT_METADATA = {\n",
        "    \"my_output\": aiplatform.explain.ExplanationMetadata.OutputMetadata(\n",
        "        {\"output_tensor_name\": serving_output}\n",
        "    )\n",
        "}\n",
        "\n",
        "metadata = aiplatform.explain.ExplanationMetadata(\n",
        "    inputs=INPUT_METADATA, outputs=OUTPUT_METADATA\n",
        ")"
      ]
    },
    {
      "cell_type": "markdown",
      "metadata": {
        "id": "aLslkKlneNyX"
      },
      "source": [
        "### Upload the model to `Model Registry`\n",
        "\n",
        "Next, upload your model to `Model Registry` with the explanation configuration. Vertex AI provides [Docker container images](https://cloud.google.com/vertex-ai/docs/predictions/pre-built-containers) that you run as pre-built containers for serving predictions and explanations from trained model artifacts."
      ]
    },
    {
      "cell_type": "code",
      "execution_count": null,
      "metadata": {
        "id": "MQ_oIG11ID1o"
      },
      "outputs": [],
      "source": [
        "MODEL_DISPLAY_NAME = \"tf_text_model_unique\"\n",
        "DEPLOY_IMAGE = \"us-docker.pkg.dev/vertex-ai/prediction/tf2-cpu.2-11:latest\"\n",
        "\n",
        "uploaded_model = aiplatform.Model.upload(\n",
        "    display_name=MODEL_DISPLAY_NAME,\n",
        "    artifact_uri=MODEL_DIR,\n",
        "    serving_container_image_uri=DEPLOY_IMAGE,\n",
        "    explanation_parameters=parameters,\n",
        "    explanation_metadata=metadata,\n",
        ")"
      ]
    },
    {
      "cell_type": "markdown",
      "metadata": {
        "id": "KfL8qvYlLOo6"
      },
      "source": [
        "## Deploy the model for online prediction\n",
        "\n",
        "Next, deploy your model for online prediction. You set the variable `DEPLOY_COMPUTE` to configure the machine type for the [compute resources](https://cloud.google.com/vertex-ai/docs/predictions/configure-compute) that you will use for prediction."
      ]
    },
    {
      "cell_type": "code",
      "execution_count": null,
      "metadata": {
        "id": "IOkThfvqJlk6"
      },
      "outputs": [],
      "source": [
        "DEPLOY_DISPLAY_NAME = \"tf_text_model_deploy_unique\"\n",
        "DEPLOY_COMPUTE = \"n1-standard-4\"\n",
        "\n",
        "endpoint = uploaded_model.deploy(\n",
        "    deployed_model_display_name=DEPLOY_DISPLAY_NAME,\n",
        "    machine_type=DEPLOY_COMPUTE,\n",
        "    accelerator_type=None,\n",
        "    accelerator_count=0,\n",
        ")"
      ]
    },
    {
      "cell_type": "markdown",
      "metadata": {
        "id": "bHCXBWAYNx3h"
      },
      "source": [
        "## Make online prediction with explanations\n",
        "\n",
        "You send an `explain` request with encoded input text data to the `endpoint` and get predictions with explanations.\n"
      ]
    },
    {
      "cell_type": "code",
      "execution_count": null,
      "metadata": {
        "id": "O9b3dW7o3lk2"
      },
      "outputs": [],
      "source": [
        "# Take one example datapoint from the test dataset for prediction\n",
        "example = x_test[2].tolist()\n",
        "example_label = y_test[2]\n",
        "\n",
        "result = endpoint.explain([example])"
      ]
    },
    {
      "cell_type": "markdown",
      "metadata": {
        "id": "ceqOWiU2kmHG"
      },
      "source": [
        "As you request explanations on a text classification model, you get the predicted class along with an explanation, indicating how much each word or token contributes to the classification."
      ]
    },
    {
      "cell_type": "code",
      "execution_count": null,
      "metadata": {
        "id": "0-qS3S8w48Iz"
      },
      "outputs": [],
      "source": [
        "prediction = result.predictions[0][0]\n",
        "attributions = result.explanations[0].attributions[0].feature_attributions[\"my_input\"]"
      ]
    },
    {
      "cell_type": "markdown",
      "metadata": {
        "id": "CTegf0H-1M3M"
      },
      "source": [
        "### Visualize explanations\n",
        "\n",
        "We can visualize the attributions for the text instance by mapping the values of the attributions onto a matplotlib colormap, as example below:\n",
        "\n",
        "![image.png](data:image/png;base64,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)\n",
        "\n",
        "\n",
        "You visualize the attribution values (highlighted in the text) having the highest positive attributions. Words with high positive attribution are highlighted in shades of green and words with negative attribution in shades of pink. Stronger shading corresponds to higher attribution values. Positive attributions can be interpreted as increase in probability of the predicted class while negative attributions correspond to decrease in probability of the predicted class."
      ]
    },
    {
      "cell_type": "code",
      "execution_count": null,
      "metadata": {
        "id": "6s7GRCkn8-iQ"
      },
      "outputs": [],
      "source": [
        "from IPython.display import HTML\n",
        "\n",
        "\n",
        "def highlight(string, color=\"white\"):\n",
        "    \"\"\"\n",
        "    Return HTML markup highlighting text with the desired color.\n",
        "    \"\"\"\n",
        "    return f\"<mark style=background-color:{color}>{string} </mark>\"\n",
        "\n",
        "\n",
        "def colorize(attrs, cmap=\"PiYG\"):\n",
        "    \"\"\"\n",
        "    Compute hex colors based on the attributions for a single instance.\n",
        "    Uses a diverging colorscale by default and normalizes and scales\n",
        "    the colormap so that colors are consistent with the attributions.\n",
        "    \"\"\"\n",
        "    import matplotlib as mpl\n",
        "\n",
        "    cmap_bound = np.abs(attrs).max()\n",
        "    norm = mpl.colors.Normalize(vmin=-cmap_bound, vmax=cmap_bound)\n",
        "    cmap = mpl.cm.get_cmap(cmap)\n",
        "\n",
        "    # now compute hex values of colors\n",
        "    colors = list(map(lambda x: mpl.colors.rgb2hex(cmap(norm(x))), attrs))\n",
        "    return colors"
      ]
    },
    {
      "cell_type": "code",
      "execution_count": null,
      "metadata": {
        "id": "xZ9b03pQ9W86"
      },
      "outputs": [],
      "source": [
        "index = imdb.get_word_index()\n",
        "reverse_index = {value: key for (key, value) in index.items()}\n",
        "\n",
        "\n",
        "def decode_sentence(x, reverse_index):\n",
        "    # the `-3` offset is due to the special tokens used by keras\n",
        "    # see https://stackoverflow.com/questions/42821330/restore-original-text-from-keras-s-imdb-dataset\n",
        "    return \" \".join([reverse_index.get(i - 3, \"UNK\") for i in x])"
      ]
    },
    {
      "cell_type": "code",
      "execution_count": null,
      "metadata": {
        "id": "9SEieQI-9FIy"
      },
      "outputs": [],
      "source": [
        "words = decode_sentence(example, reverse_index).split()\n",
        "colors = colorize(attributions)\n",
        "\n",
        "print(f\"Prediction:[{prediction}] Actual:[{example_label}]\\n\")\n",
        "\n",
        "HTML(\"\".join(list(map(highlight, words, colors))))"
      ]
    },
    {
      "cell_type": "markdown",
      "metadata": {
        "id": "TpV-iwP9qw9c"
      },
      "source": [
        "## Cleaning up\n",
        "\n",
        "To clean up all Google Cloud resources used in this project, you can [delete the Google Cloud\n",
        "project](https://cloud.google.com/resource-manager/docs/creating-managing-projects#shutting_down_projects) you used for the tutorial.\n",
        "\n",
        "Otherwise, you can delete the individual resources you created in this tutorial."
      ]
    },
    {
      "cell_type": "code",
      "execution_count": null,
      "metadata": {
        "id": "sx_vKniMq9ZX"
      },
      "outputs": [],
      "source": [
        "endpoint.undeploy_all()\n",
        "endpoint.delete()\n",
        "uploaded_model.delete()\n",
        "\n",
        "delete_bucket = False\n",
        "if delete_bucket:\n",
        "    ! gsutil -m rm -r $BUCKET_URI"
      ]
    }
  ],
  "metadata": {
    "colab": {
      "name": "xai_text_classification_feature_attributions.ipynb",
      "toc_visible": true
    },
    "kernelspec": {
      "display_name": "Python 3",
      "name": "python3"
    }
  },
  "nbformat": 4,
  "nbformat_minor": 0
}
