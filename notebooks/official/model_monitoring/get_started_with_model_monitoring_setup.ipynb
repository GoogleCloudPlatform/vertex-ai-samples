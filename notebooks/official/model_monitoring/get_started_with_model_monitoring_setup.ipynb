{
  "cells": [
    {
      "cell_type": "code",
      "execution_count": null,
      "metadata": {
        "cellView": "form",
        "id": "ur8xi4C7S06n"
      },
      "outputs": [],
      "source": [
        "# @title Copyright & License (click to expand)\n",
        "# Copyright 2022 Google LLC\n",
        "#\n",
        "# Licensed under the Apache License, Version 2.0 (the \"License\");\n",
        "# you may not use this file except in compliance with the License.\n",
        "# You may obtain a copy of the License at\n",
        "#\n",
        "#     https://www.apache.org/licenses/LICENSE-2.0\n",
        "#\n",
        "# Unless required by applicable law or agreed to in writing, software\n",
        "# distributed under the License is distributed on an \"AS IS\" BASIS,\n",
        "# WITHOUT WARRANTIES OR CONDITIONS OF ANY KIND, either express or implied.\n",
        "# See the License for the specific language governing permissions and\n",
        "# limitations under the License."
      ]
    },
    {
      "cell_type": "markdown",
      "metadata": {
        "id": "fsv4jGuU89rX"
      },
      "source": [
        "# Vertex AI Model Monitoring for setup for tabular models\n",
        "\n",
        "<table align=\"left\">\n",
        "  <td>\n",
        "    <a href=\"https://colab.research.google.com/github/GoogleCloudPlatform/vertex-ai-samples/blob/main/notebooks/official/model_monitoring/get_started_with_model_monitoring_setup.ipynb\">\n",
        "      <img src=\"https://cloud.google.com/ml-engine/images/colab-logo-32px.png\" alt=\"Colab logo\"> Run in Colab\n",
        "    </a>\n",
        "  </td>\n",
        "  <td>\n",
        "    <a href=\"https://github.com/GoogleCloudPlatform/vertex-ai-samples/blob/main/notebooks/official/model_monitoring/get_started_with_model_monitoring_setup.ipynb\">\n",
        "        <img src=\"https://cloud.google.com/ml-engine/images/github-logo-32px.png\" alt=\"GitHub logo\">\n",
        "      View on GitHub\n",
        "    </a>\n",
        "  </td>\n",
        "  <td>\n",
        "    <a href=\"https://console.cloud.google.com/vertex-ai/workbench/deploy-notebook?download_url=https://raw.githubusercontent.com/GoogleCloudPlatform/vertex-ai-samples/main/notebooks/official/model_monitoring/get_started_with_model_monitoring_setup.ipynb\">\n",
        "      <img src=\"https://lh3.googleusercontent.com/UiNooY4LUgW_oTvpsNhPpQzsstV5W8F7rYgxgGBD85cWJoLmrOzhVs_ksK_vgx40SHs7jCqkTkCk=e14-rj-sc0xffffff-h130-w32\" alt=\"Vertex AI logo\">\n",
        "      Open in Vertex AI Workbench\n",
        "    </a>\n",
        "  </td>\n",
        "</table>"
      ]
    },
    {
      "cell_type": "markdown",
      "metadata": {
        "id": "lA32H1oKGgpf"
      },
      "source": [
        "## Overview\n",
        "\n",
        "This tutorial demonstrates how to setup Vertex AI Model Monitoring for tabular models.\n",
        "\n",
        "Learn more about [Vertex AI Model Monitoring](https://cloud.google.com/vertex-ai/docs/model-monitoring)."
      ]
    },
    {
      "cell_type": "markdown",
      "metadata": {
        "id": "de998a3953c9"
      },
      "source": [
        "### Objective\n",
        "\n",
        "In this notebook, you learn to setup the `Vertex AI Model Monitoring` service to detect feature skew and drift in the input predict requests.\n",
        "\n",
        "This tutorial uses the following Google Cloud ML services:\n",
        "\n",
        "- `Vertex AI Model Monitoring`\n",
        "- `Vertex AI Prediction`\n",
        "- `Vertex AI Model` resource\n",
        "- `Vertex AI Endpoint` resource\n",
        "\n",
        "The steps performed include:\n",
        "\n",
        "- Download a pre-trained custom tabular model.\n",
        "- Upload the pre-trained model as a `Model` resource.\n",
        "- Deploy the `Model` resource to the `Endpoint` resource.\n",
        "- Configure the `Endpoint` resource for model monitoring.\n",
        "    - Skew and drift detection for feature inputs.\n",
        "    - Skew and drift detection for feature attributions.\n",
        "- Automatic generation of the `input schema` by sending 1000 prediction request.\n",
        "- List, pause, resume and delete monitoring jobs.\n",
        "- Restart monitoring job with predefined `input schema`.\n",
        "- View logged monitored data."
      ]
    },
    {
      "cell_type": "markdown",
      "metadata": {
        "id": "edba71dc9840"
      },
      "source": [
        "### Model\n",
        "\n",
        "This tutorial uses a pre-trained model, where the model artifacts are stored in a public Cloud Storage bucket. \n",
        "\n",
        "The model is based on [the blog post](https://cloud.google.com/blog/topics/developers-practitioners/churn-prediction-game-developers-using-google-analytics-4-ga4-and-bigquery-ml). The idea behind this model is that your company has extensive log data describing how your game users have interacted with the site. The raw data contains the following categories of information:\n",
        "\n",
        "- identity - unique player identitity numbers\n",
        "- demographic features - information about the player, such as the geographic region in which a player is located\n",
        "- behavioral features - counts of the number of times a  player has triggered certain game events, such as reaching a new level\n",
        "- churn propensity - this is the label or target feature, it provides an estimated probability that this player may churn, i.e. stop being an active player."
      ]
    },
    {
      "cell_type": "markdown",
      "metadata": {
        "id": "t6Cd51FkG09E"
      },
      "source": [
        "### Costs \n",
        "\n",
        "This tutorial uses billable components of Google Cloud:\n",
        "\n",
        "* Vertex AI\n",
        "* BigQuery\n",
        "* Cloud Storage\n",
        "\n",
        "Learn about [Vertext AI\n",
        "pricing](https://cloud.google.com/vertex-ai/pricing) and [Cloud Storage\n",
        "pricing](https://cloud.google.com/storage/pricing), and use the [Pricing\n",
        "Calculator](https://cloud.google.com/products/calculator/)\n",
        "to generate a cost estimate based on your projected usage."
      ]
    },
    {
      "cell_type": "markdown",
      "metadata": {
        "id": "f3848df1e5b0"
      },
      "source": [
        "## Installation\n",
        "\n",
        "Install the packages required for executing this notebook."
      ]
    },
    {
      "cell_type": "code",
      "execution_count": null,
      "metadata": {
        "id": "b24b232ee039"
      },
      "outputs": [],
      "source": [
        "# Install required packages.\n",
        "! pip3 install --quiet --upgrade google-cloud-aiplatform \\\n",
        "                                 google-cloud-bigquery \\\n",
        "                                 tensorflow==2.7 \\\n",
        "                                 protobuf==3.20.3"
      ]
    },
    {
      "cell_type": "markdown",
      "metadata": {
        "id": "restart"
      },
      "source": [
        "### Colab only: Uncomment the following cell to restart the kernel"
      ]
    },
    {
      "cell_type": "code",
      "execution_count": null,
      "metadata": {
        "id": "D-ZBOjErv5mM"
      },
      "outputs": [],
      "source": [
        "# Automatically restart kernel after installs so that your environment can access the new packages\n",
        "# import IPython\n",
        "\n",
        "# app = IPython.Application.instance()\n",
        "# app.kernel.do_shutdown(True)"
      ]
    },
    {
      "cell_type": "markdown",
      "metadata": {
        "id": "before_you_begin:nogpu"
      },
      "source": [
        "## Before you begin\n",
        "\n",
        "### Set your project ID\n",
        "\n",
        "**If you don't know your project ID**, try the following:\n",
        "* Run `gcloud config list`.\n",
        "* Run `gcloud projects list`.\n",
        "* See the support page: [Locate the project ID](https://support.google.com/googleapi/answer/7014113)"
      ]
    },
    {
      "cell_type": "code",
      "execution_count": null,
      "metadata": {
        "id": "set_project_id"
      },
      "outputs": [],
      "source": [
        "PROJECT_ID = \"[your-project-id]\"  # @param {type:\"string\"}\n",
        "\n",
        "# Set the project id\n",
        "! gcloud config set project {PROJECT_ID}"
      ]
    },
    {
      "cell_type": "markdown",
      "metadata": {
        "id": "region"
      },
      "source": [
        "#### Region\n",
        "\n",
        "You can also change the `REGION` variable used by Vertex AI. Learn more about [Vertex AI regions](https://cloud.google.com/vertex-ai/docs/general/locations)."
      ]
    },
    {
      "cell_type": "code",
      "execution_count": null,
      "metadata": {
        "id": "2dw8q9fdQEH5"
      },
      "outputs": [],
      "source": [
        "REGION = \"us-central1\""
      ]
    },
    {
      "cell_type": "markdown",
      "metadata": {
        "id": "42c8a7c56abd"
      },
      "source": [
        "#### User Email\n",
        "\n",
        "Set your user email address to receive monitoring alerts."
      ]
    },
    {
      "cell_type": "code",
      "execution_count": null,
      "metadata": {
        "id": "ce2589511bb6"
      },
      "outputs": [],
      "source": [
        "import os\n",
        "\n",
        "USER_EMAIL = \"[your-email-address]\"  # @param {type:\"string\"}\n",
        "\n",
        "if os.getenv(\"IS_TESTING\"):\n",
        "    USER_EMAIL = \"noreply@google.com\""
      ]
    },
    {
      "cell_type": "markdown",
      "metadata": {
        "id": "gcp_authenticate"
      },
      "source": [
        "### Authenticate your Google Cloud account\n",
        "\n",
        "Depending on your Jupyter environment, you may have to manually authenticate. Follow the relevant instructions below.\n",
        "\n",
        "**1. Vertex AI Workbench**\n",
        "* Do nothing as you are already authenticated.\n",
        "\n",
        "**2. Local JupyterLab instance, uncomment and run:**"
      ]
    },
    {
      "cell_type": "code",
      "execution_count": null,
      "metadata": {
        "id": "ce6043da7b33"
      },
      "outputs": [],
      "source": [
        "# ! gcloud auth login"
      ]
    },
    {
      "cell_type": "markdown",
      "metadata": {
        "id": "0367eac06a10"
      },
      "source": [
        "**3. Colab, uncomment and run:**"
      ]
    },
    {
      "cell_type": "code",
      "execution_count": null,
      "metadata": {
        "id": "21ad4dbb4a61"
      },
      "outputs": [],
      "source": [
        "# from google.colab import auth\n",
        "# auth.authenticate_user()"
      ]
    },
    {
      "cell_type": "markdown",
      "metadata": {
        "id": "c13224697bfb"
      },
      "source": [
        "**4. Service account or other**\n",
        "* See how to grant Cloud Storage permissions to your service account at https://cloud.google.com/storage/docs/gsutil/commands/iam#ch-examples."
      ]
    },
    {
      "cell_type": "markdown",
      "metadata": {
        "id": "8RJ3_20etd31"
      },
      "source": [
        "### Notes about service account and permission\n",
        "\n",
        "**By default no configuration is required**, if you run into any permission related issue, please make sure the service accounts above have the required roles:\n",
        "\n",
        "|Service account email|Description|Roles|\n",
        "|---|---|---|\n",
        "|PROJECT_NUMBER-compute@developer.gserviceaccount.com|Compute Engine default service account|Dataflow Admin, Dataflow Worker, Storage Admin, BigQuery Admin, Vertex AI User|\n",
        "|service-PROJECT_NUMBER@gcp-sa-aiplatform.iam.gserviceaccount.com|AI Platform Service Agent|Vertex AI Service Agent|\n",
        "\n",
        "\n",
        "1. Goto https://console.cloud.google.com/iam-admin/iam.\n",
        "2. Check the \"Include Google-provided role grants\" checkbox.\n",
        "3. Grant the corresponding roles.\n",
        "\n",
        "### Using data source from a different project\n",
        "- For the BQ data source, grant both service accounts the \"BigQuery Data Viewer\" role.\n",
        "- For the CSV data source, grant both service accounts the \"Storage Object Viewer\" role."
      ]
    },
    {
      "cell_type": "markdown",
      "metadata": {
        "id": "bucket:mbsdk"
      },
      "source": [
        "### Create a Cloud Storage bucket\n",
        "\n",
        "Create a storage bucket to store intermediate artifacts such as datasets."
      ]
    },
    {
      "cell_type": "code",
      "execution_count": null,
      "metadata": {
        "id": "bucket"
      },
      "outputs": [],
      "source": [
        "BUCKET_URI = f\"gs://your-bucket-name-{PROJECT_ID}-unique\"  # @param {type:\"string\"}"
      ]
    },
    {
      "cell_type": "markdown",
      "metadata": {
        "id": "autoset_bucket"
      },
      "source": [
        "**Only if your bucket doesn't already exist**: Run the following cell to create your Cloud Storage bucket."
      ]
    },
    {
      "cell_type": "code",
      "execution_count": null,
      "metadata": {
        "id": "91c46850b49b"
      },
      "outputs": [],
      "source": [
        "! gsutil mb -l $REGION -p $PROJECT_ID $BUCKET_URI"
      ]
    },
    {
      "cell_type": "markdown",
      "metadata": {
        "id": "a0d294ff6d10"
      },
      "source": [
        "### Import libraries"
      ]
    },
    {
      "cell_type": "code",
      "execution_count": null,
      "metadata": {
        "id": "bd7a633296eb"
      },
      "outputs": [],
      "source": [
        "import google.cloud.aiplatform as aiplatform\n",
        "from google.cloud import bigquery\n",
        "from google.cloud.aiplatform import model_monitoring\n",
        "from google.cloud.aiplatform.explain.metadata.tf.v2 import \\\n",
        "    saved_model_metadata_builder"
      ]
    },
    {
      "cell_type": "markdown",
      "metadata": {
        "id": "init_aip:mbsdk,all"
      },
      "source": [
        "### Initialize Vertex AI SDK for Python\n",
        "\n",
        "Initialize the Vertex AI SDK for Python for your project and corresponding bucket."
      ]
    },
    {
      "cell_type": "code",
      "execution_count": null,
      "metadata": {
        "id": "init_aip:mbsdk,all"
      },
      "outputs": [],
      "source": [
        "aiplatform.init(project=PROJECT_ID, location=REGION)"
      ]
    },
    {
      "cell_type": "markdown",
      "metadata": {
        "id": "init_bq"
      },
      "source": [
        "### Create BigQuery client\n",
        "\n",
        "In this tutorial, you use data from the same public BigQuery table that was used to train the pre-trained model. You create a client interface, which you subsequently use to access the data."
      ]
    },
    {
      "cell_type": "code",
      "execution_count": null,
      "metadata": {
        "id": "init_bq"
      },
      "outputs": [],
      "source": [
        "bqclient = bigquery.Client(project=PROJECT_ID)"
      ]
    },
    {
      "cell_type": "markdown",
      "metadata": {
        "id": "accelerators:training,prediction"
      },
      "source": [
        "#### Set hardware accelerators\n",
        "\n",
        "You can set hardware accelerators for prediction (e.g., GPUs) or choose not to use any (CPU). Hardware accelertors lower the latency response for a prediction request. When choosing a hardware accelerators, consider the additional cost trade-off over latency.\n",
        "\n",
        "Set the variables `DEPLOY_GPU/DEPLOY_NGPU` to use a container image supporting a GPU and the number of GPUs allocated to the virtual machine (VM) instance. For example, to use a GPU container image with 4 Nvidia Tesla K80 GPUs allocated to each VM, you would specify:\n",
        "\n",
        "    (aiplatform.gapic.AcceleratorType.NVIDIA_TESLA_K80, 4)\n",
        "\n",
        "See the [locations where accelerators are available](https://cloud.google.com/vertex-ai/docs/general/locations#accelerators).\n",
        "\n",
        "Otherwise specify `(None, None)` to use a container image to run on a CPU."
      ]
    },
    {
      "cell_type": "code",
      "execution_count": null,
      "metadata": {
        "id": "xd5PLXDTlugv"
      },
      "outputs": [],
      "source": [
        "GPU = False\n",
        "if GPU:\n",
        "    DEPLOY_GPU, DEPLOY_NGPU = (aiplatform.gapic.AcceleratorType.NVIDIA_TESLA_K80, 1)\n",
        "else:\n",
        "    DEPLOY_GPU, DEPLOY_NGPU = (None, None)"
      ]
    },
    {
      "cell_type": "markdown",
      "metadata": {
        "id": "container:training,prediction"
      },
      "source": [
        "#### Set pre-built containers\n",
        "\n",
        "Set the pre-built Docker container image for prediction.\n",
        "\n",
        "For the latest list, see [Pre-built containers for prediction](https://cloud.google.com/ai-platform-unified/docs/predictions/pre-built-containers)."
      ]
    },
    {
      "cell_type": "code",
      "execution_count": null,
      "metadata": {
        "id": "1u1mr18jlugv"
      },
      "outputs": [],
      "source": [
        "if GPU:\n",
        "    DEPLOY_VERSION = \"tf2-gpu.2-5\"\n",
        "else:\n",
        "    DEPLOY_VERSION = \"tf2-cpu.2-5\"\n",
        "\n",
        "DEPLOY_IMAGE = \"{}-docker.pkg.dev/vertex-ai/prediction/{}:latest\".format(\n",
        "    REGION.split(\"-\")[0], DEPLOY_VERSION\n",
        ")\n",
        "\n",
        "print(\"Deployment:\", DEPLOY_IMAGE, DEPLOY_GPU, DEPLOY_NGPU)"
      ]
    },
    {
      "cell_type": "markdown",
      "metadata": {
        "id": "machine:training,prediction"
      },
      "source": [
        "#### Set machine types\n",
        "\n",
        "Next, set the machine types to use for training and prediction.\n",
        "\n",
        "- Set the variable `DEPLOY_COMPUTE` to configure your compute resources for prediction.\n",
        " - `machine type`\n",
        "     - `n1-standard`: 3.75GB of memory per vCPU\n",
        "     - `n1-highmem`: 6.5GB of memory per vCPU\n",
        "     - `n1-highcpu`: 0.9 GB of memory per vCPU\n",
        " - `vCPUs`: number of \\[2, 4, 8, 16, 32, 64, 96 \\]\n",
        "\n",
        "*Note: You may also use n2 and e2 machine types for training and deployment, but they do not support GPUs*."
      ]
    },
    {
      "cell_type": "code",
      "execution_count": null,
      "metadata": {
        "id": "YAXwbqKKlugv"
      },
      "outputs": [],
      "source": [
        "MACHINE_TYPE = \"n1-standard\"\n",
        "\n",
        "VCPU = \"4\"\n",
        "TRAIN_COMPUTE = MACHINE_TYPE + \"-\" + VCPU\n",
        "print(\"Train machine type\", TRAIN_COMPUTE)\n",
        "\n",
        "MACHINE_TYPE = \"n1-standard\"\n",
        "\n",
        "VCPU = \"4\"\n",
        "DEPLOY_COMPUTE = MACHINE_TYPE + \"-\" + VCPU\n",
        "print(\"Deploy machine type\", DEPLOY_COMPUTE)"
      ]
    },
    {
      "cell_type": "markdown",
      "metadata": {
        "id": "b890e02cb4b0"
      },
      "source": [
        "## Introduction to Vertex AI Model Monitoring\n",
        "\n",
        "Vertex AI Model Monitoring is supported for AutoML tabular models and custom tabular models. You can monitor for skew and drift detection of the features in the inbound prediction requests or skew and drift detection of the feature attributions (Explainable AI) in the outbound prediction response -- that is, the distribution of the attributions on how they contributed to the output (predictions).\n",
        "\n",
        "The following are the basic steps to enable model monitoring:\n",
        "\n",
        "1. Deploy a `Vertex AI` AutoML or custom tabular model to an `Vertex AI Endpoint`.\n",
        "2. Configure a model monitoring specification.\n",
        "3. Upload the model monitoring specification to the `Vertex AI Endpoint`.\n",
        "4. Upload or automatic generation of the `input schema` for parsing.\n",
        "5. For feature skew detection, upload the training data for automatic generation of the feature distribution.\n",
        "6. For feature attributions, upload corresponding `Vertex AI Explainability` specification.\n",
        "\n",
        "Once configured, you can enable/disable monitoring, change alerts and update the model monitoring configuration. \n",
        "\n",
        "When model monitoring is enabled, the sampled incoming prediction requests are logged into a BigQuery table. The input feature values contained in the logged requests are then analyzed for skew or drift on an specified interval basis. You set a sampling rate to monitor a subset of the production inputs to a model, and the monitoring interval.\n",
        "\n",
        "The model monitoring service needs to know how to parse the feature values, which is referred to as the input schema. For AutoML tabular models, the input schema is automatically generated. For custom tabular models, the service attempts to automatically derive the input schema from the first 1000 prediction requests. Alternatively, one can upload the input schema.\n",
        "\n",
        "For skew detection, the monitoring service requires a baseline for the statistical distribution of values in the training data. For AutoML tabular models this is automatically derived. For custom tabular models, you upload the training data to the service, and have the service automatically derive the distribution.\n",
        "\n",
        "For feature attribution skew and drift detection, requires enabling your deployed model for `Vertex AI Explainability`\n",
        "\n",
        "Learn more about [Introduction to Vertex AI Model Monitoring](https://cloud.google.com/vertex-ai/docs/model-monitoring/overview)."
      ]
    },
    {
      "cell_type": "markdown",
      "metadata": {
        "id": "1mhT_d_Bi-Kf"
      },
      "source": [
        "### Generate explainable metadata for `Vertex Explainable AI`\n",
        "\n",
        "If you want to do skew and drift detection on feature attributions of the output predictions (response), you do the additional steps:\n",
        "\n",
        "- Specify the explainability specification for the model.\n",
        "- When subsequently uploading the model as a `Vertex AI Model` resource, include the explainability specification.\n",
        "- When subsequently uploading the model monitoring configuration specification to the corresponding `Vertex AI Endpoint` resource, include the explainability objective configuration.\n",
        "\n",
        "As the first step, you create the explainable AI specification for your model using the helper method `SavedModelMetadataBuilder()`.\n",
        "\n",
        "Learn more about [Introduction to Explainable AI](https://cloud.google.com/vertex-ai/docs/explainable-ai/overview)."
      ]
    },
    {
      "cell_type": "code",
      "execution_count": null,
      "metadata": {
        "id": "805ae9b01889"
      },
      "outputs": [],
      "source": [
        "MODEL_ARTIFACT_URI = \"gs://mco-mm/churn\"\n",
        "\n",
        "params = {\"sampled_shapley_attribution\": {\"path_count\": 10}}\n",
        "explanation_parameters = aiplatform.explain.ExplanationParameters(params)\n",
        "\n",
        "builder = saved_model_metadata_builder.SavedModelMetadataBuilder(\n",
        "    model_path=MODEL_ARTIFACT_URI, outputs_to_explain=[\"churned_probs\"]\n",
        ")\n",
        "explanation_metadata = builder.get_metadata_protobuf()"
      ]
    },
    {
      "cell_type": "markdown",
      "metadata": {
        "id": "9bf06cd476e9"
      },
      "source": [
        "### Upload the model artifacts as a `Vertex AI Model` resource\n",
        "\n",
        "Next, you upload the pre-trained custom tabular model artifacts as a `Vertex AI Model` resource using the `upload()` method, with the following parameters:\n",
        "\n",
        "- `display_name`: The human readable name for the `Model` resource.\n",
        "- `artifact_uri`: The Cloud Storage location of the model artifacts.\n",
        "- `serving_container_image`: The serving container image to use when the model is deployed to a `Vertex AI Endpoint` resource.\n",
        "- `explanation_parameters`: The parameters to configure explaining for the model's predictions.\n",
        "- `explanation_metadata`: The metadata describing the model's input and output for explanation.\n",
        "- `sync`: Whether to wait for the process to complete, or return immediately (async).\n",
        "\n",
        "Learn more about [Import models to Vertex AI](https://cloud.google.com/vertex-ai/docs/model-registry/import-model)"
      ]
    },
    {
      "cell_type": "code",
      "execution_count": null,
      "metadata": {
        "id": "0193f247e216"
      },
      "outputs": [],
      "source": [
        "model = aiplatform.Model.upload(\n",
        "    display_name=\"churn\",\n",
        "    artifact_uri=MODEL_ARTIFACT_URI,\n",
        "    serving_container_image_uri=DEPLOY_IMAGE,\n",
        "    explanation_parameters=explanation_parameters,\n",
        "    explanation_metadata=explanation_metadata,\n",
        "    sync=True,\n",
        ")\n",
        "\n",
        "print(model)"
      ]
    },
    {
      "cell_type": "markdown",
      "metadata": {
        "id": "1069c6f0eba8"
      },
      "source": [
        "### Deploy the `Vertex AI Model` resource to a `Vertex AI Endpoint` resource\n",
        "\n",
        "Next, you deploy your `Vertex AI Model` resource to a `Vertex AI Endpoint` resource using the `deploy()` method, with the following parameters:\n",
        "\n",
        "- `deploy_model_display`: The human reable name for the deployed model.\n",
        "- `machine_type`: The machine type for each VM node instance.\n",
        "- `min_replica_count`: The minimum number of nodes to provision for auto-scaling.\n",
        "- `max_replica_count`: The maximum number of nodes to provision for auto-scaling.\n",
        "- `accelerator_type`: The type, if any, of GPU accelators per provisioned node.\n",
        "- `accelrator_count`: The number, if any, of GPU accelators per provisioned node.\n",
        "\n",
        "Learn more about [Deploy a model using Vertex AI](https://cloud.google.com/vertex-ai/docs/predictions/deploy-model-api)."
      ]
    },
    {
      "cell_type": "code",
      "execution_count": null,
      "metadata": {
        "id": "b883402dda8c"
      },
      "outputs": [],
      "source": [
        "MIN_NODES = 1\n",
        "MAX_NODES = 1\n",
        "\n",
        "if GPU:\n",
        "    endpoint = model.deploy(\n",
        "        deployed_model_display_name=\"churn\",\n",
        "        machine_type=DEPLOY_COMPUTE,\n",
        "        min_replica_count=MIN_NODES,\n",
        "        max_replica_count=MAX_NODES,\n",
        "        accelerator_type=DEPLOY_GPU.name,\n",
        "        accelerator_count=DEPLOY_NGPU,\n",
        "    )\n",
        "else:\n",
        "    endpoint = model.deploy(\n",
        "        deployed_model_display_name=\"churn\",\n",
        "        machine_type=DEPLOY_COMPUTE,\n",
        "        min_replica_count=MIN_NODES,\n",
        "        max_replica_count=MAX_NODES,\n",
        "    )"
      ]
    },
    {
      "cell_type": "markdown",
      "metadata": {
        "id": "ba4a2924aec6"
      },
      "source": [
        "## Configure a monitoring job\n",
        "\n",
        "Configuring the monitoring job consists of the following specifications:\n",
        "\n",
        "- `alert_config`: The email address(es) to send monitoring alerts to.\n",
        "- `schedule_config`: The time window to analyze predictions.\n",
        "- `logging_sampling_strategy`: The rate for sampling prediction requests. \n",
        "- `drift_config`: The features and drift thresholds to monitor.\n",
        "- `skew_config`: The features and skew thresholds to monitor.\n",
        "\n",
        "Learn more about [Monitor feature skew and drift](https://cloud.google.com/vertex-ai/docs/model-monitoring/using-model-monitoring)."
      ]
    },
    {
      "cell_type": "markdown",
      "metadata": {
        "id": "87abd93294c4"
      },
      "source": [
        "### Configure the alerting specification\n",
        "\n",
        "First, you configure the `alerting_config` specification with the following settings:\n",
        "\n",
        "- `user_emails`: A list of one or more email to send alerts to.\n",
        "- `enable_logging`: Stream detected anomalies to Cloud Logging. Default is False.\n",
        "\n",
        "Learn more about [Configure alerts for model monitoring jobs](https://cloud.google.com/vertex-ai/docs/model-monitoring/using-model-monitoring#monitor-job)."
      ]
    },
    {
      "cell_type": "code",
      "execution_count": null,
      "metadata": {
        "id": "be6137df0086"
      },
      "outputs": [],
      "source": [
        "# Create alerting configuration.\n",
        "alerting_config = model_monitoring.EmailAlertConfig(\n",
        "    user_emails=[USER_EMAIL], enable_logging=True\n",
        ")"
      ]
    },
    {
      "cell_type": "markdown",
      "metadata": {
        "id": "66c7283276bc"
      },
      "source": [
        "### Configure the monitoring interval specification\n",
        "\n",
        "Next, you configure the `schedule_config` specification with the following settings:\n",
        "\n",
        "- `monitor_interval`:  Sets the model monitoring job scheduling interval in hours. Minimum time interval is 1 hour.\n",
        "\n",
        "*Note:* The REST API specifies the unit in seconds."
      ]
    },
    {
      "cell_type": "code",
      "execution_count": null,
      "metadata": {
        "id": "1230b92d1eed"
      },
      "outputs": [],
      "source": [
        "# Monitoring Interval\n",
        "MONITOR_INTERVAL = 1  # @param {type:\"number\"}\n",
        "\n",
        "# Create schedule configuration\n",
        "schedule_config = model_monitoring.ScheduleConfig(monitor_interval=MONITOR_INTERVAL)"
      ]
    },
    {
      "cell_type": "markdown",
      "metadata": {
        "id": "3bd8dd304191"
      },
      "source": [
        "### Configure the sampling specification\n",
        "\n",
        "Next, you configure the `logging_sampling_strategy` specification with the following settings:\n",
        "\n",
        "- `sample_rate`: The rate as a percentage (between 0 and 1) to randomly sample predictions for monitoring. Select samples are logged to a BigQuery table.\n"
      ]
    },
    {
      "cell_type": "code",
      "execution_count": null,
      "metadata": {
        "id": "3688c245a0e9"
      },
      "outputs": [],
      "source": [
        "# Sampling rate (optional, default=.8)\n",
        "SAMPLE_RATE = 0.5  # @param {type:\"number\"}\n",
        "\n",
        "# Create sampling configuration\n",
        "logging_sampling_strategy = model_monitoring.RandomSampleConfig(sample_rate=SAMPLE_RATE)"
      ]
    },
    {
      "cell_type": "markdown",
      "metadata": {
        "id": "c1bc3bc8992f"
      },
      "source": [
        "### Configure the drift detection specification\n",
        "\n",
        "Next, you configure the `drift_config` specification with the following settings:\n",
        "\n",
        "- `drift_thresholds`: A dictionary of key/value pairs where the keys are the input features for monitor for feature input drift. The value is the detection threshold. When not specified, the default drift threshold for a feature is 0.3 (30%).\n",
        "- `attribute_drift_threshold`: A dictionary of key/value pairs where the keys are the input features for monitor for feature attribution drift. The value is the detection threshold. When not specified, the default drift threshold for a feature is 0.3 (30%).\n",
        "\n",
        "*Note:* Enabling drift detection for either feature inputs or feature attributions is optional."
      ]
    },
    {
      "cell_type": "code",
      "execution_count": null,
      "metadata": {
        "id": "128bdc05cb5b"
      },
      "outputs": [],
      "source": [
        "DRIFT_THRESHOLD_VALUE = 0.05\n",
        "ATTRIBUTION_DRIFT_THRESHOLD_VALUE = 0.05\n",
        "\n",
        "DRIFT_THRESHOLDS = {\n",
        "    \"country\": DRIFT_THRESHOLD_VALUE,\n",
        "    \"cnt_user_engagement\": DRIFT_THRESHOLD_VALUE,\n",
        "}\n",
        "\n",
        "ATTRIBUTION_DRIFT_THRESHOLDS = {\n",
        "    \"country\": ATTRIBUTION_DRIFT_THRESHOLD_VALUE,\n",
        "    \"cnt_user_engagement\": ATTRIBUTION_DRIFT_THRESHOLD_VALUE,\n",
        "}\n",
        "\n",
        "drift_config = model_monitoring.DriftDetectionConfig(\n",
        "    drift_thresholds=DRIFT_THRESHOLDS,\n",
        "    attribute_drift_thresholds=ATTRIBUTION_DRIFT_THRESHOLDS,\n",
        ")"
      ]
    },
    {
      "cell_type": "markdown",
      "metadata": {
        "id": "651b576aa037"
      },
      "source": [
        "### Configure the skew detection specification\n",
        "\n",
        "Next, you configure the `skew_config` specification with the following settings:\n",
        "\n",
        "- `data_source`: The source of the dataset of the original training data. The format of the source defaults to a BigQuery table. Otherwise the setting `data_format` must be set to one of the values below. The location of the data must be a Cloud Storage location.\n",
        "  - `csv`: \n",
        "  - `jsonl`:\n",
        "  - `tf-record`:\n",
        "- `skew_thresholds`: A dictionary of key/value pairs where the keys are the input features for monitor for feature input skew. The value is the detection threshold. When not specified, the default skew threshold for a feature is 0.3 (30%).\n",
        "- `attribute_skew_thresholds`: A dictionary of key/value pairs where the keys are the input features for monitor for feature attribution skew. The value is the detection threshold. When not specified, the default skew threshold for a feature is 0.3 (30%).\n",
        "- `target_field`: The target label for the training dataset\n",
        "\n",
        "*Note:* Enabling skew detection is optional."
      ]
    },
    {
      "cell_type": "code",
      "execution_count": null,
      "metadata": {
        "id": "4cb098c74d2c"
      },
      "outputs": [],
      "source": [
        "# URI to training dataset.\n",
        "DATASET_BQ_URI = \"bq://mco-mm.bqmlga4.train\"  # @param {type:\"string\"}\n",
        "# Prediction target column name in training dataset.\n",
        "TARGET = \"churned\"\n",
        "\n",
        "SKEW_THRESHOLD_VALUE = 0.5\n",
        "\n",
        "SKEW_THRESHOLDS = {\n",
        "    \"country\": SKEW_THRESHOLD_VALUE,\n",
        "    \"cnt_user_engagement\": SKEW_THRESHOLD_VALUE,\n",
        "}\n",
        "\n",
        "ATTRIBUTE_SKEW_THRESHOLDS = {\n",
        "    \"country\": SKEW_THRESHOLD_VALUE,\n",
        "    \"cnt_user_engagement\": SKEW_THRESHOLD_VALUE,\n",
        "}\n",
        "\n",
        "skew_config = model_monitoring.SkewDetectionConfig(\n",
        "    data_source=DATASET_BQ_URI,\n",
        "    skew_thresholds=SKEW_THRESHOLDS,\n",
        "    attribute_skew_thresholds=ATTRIBUTE_SKEW_THRESHOLDS,\n",
        "    target_field=TARGET,\n",
        ")"
      ]
    },
    {
      "cell_type": "markdown",
      "metadata": {
        "id": "8b6d5bd71ac9"
      },
      "source": [
        "### Assemble the objective specification\n",
        "\n",
        "Finally, you assemble the objective specification `objective_config` with the following settings:\n",
        "\n",
        "- `skew_detection_config`: (Optional) The specification for the skew detection configuration.\n",
        "- `drift_detection_config`: (Optional) The specification for the drift detection configuration.\n",
        "- `explanation_config`: (Optional) The specification for explanations when enabling monitoring for feature attributions."
      ]
    },
    {
      "cell_type": "code",
      "execution_count": null,
      "metadata": {
        "id": "d353205a8aec"
      },
      "outputs": [],
      "source": [
        "explanation_config = model_monitoring.ExplanationConfig()\n",
        "\n",
        "objective_config = model_monitoring.ObjectiveConfig(\n",
        "    skew_detection_config=skew_config,\n",
        "    drift_detection_config=drift_config,\n",
        "    explanation_config=explanation_config,\n",
        ")"
      ]
    },
    {
      "cell_type": "markdown",
      "metadata": {
        "id": "82c7e7af7163"
      },
      "source": [
        "### Create the monitoring job\n",
        "\n",
        "You create a monitoring job, with your monitoring specifications, using the `aiplatform.ModelDeploymentMonitoringJob.create()` method, with the following parameters:\n",
        "\n",
        "- `display_name`: The human readable name for the monitoring job.\n",
        "- `project`: The project ID.\n",
        "- `region`: The region.\n",
        "- `endpoint`: The fully qualified resource name of the `Vertex AI Endpoint` to enable monitoring.\n",
        "- `logging_sampling_strategy`: The specification for the sampling configuration.\n",
        "- `schedule_config`: The specification for the scheduling configuration.\n",
        "- `alert_config`: The specification for the alerting configuration.\n",
        "- `objective_configs`: The specification for the objectives configuration."
      ]
    },
    {
      "cell_type": "code",
      "execution_count": null,
      "metadata": {
        "id": "86f76670f439"
      },
      "outputs": [],
      "source": [
        "monitoring_job = aiplatform.ModelDeploymentMonitoringJob.create(\n",
        "    display_name=\"churn\",\n",
        "    project=PROJECT_ID,\n",
        "    location=REGION,\n",
        "    endpoint=endpoint,\n",
        "    logging_sampling_strategy=logging_sampling_strategy,\n",
        "    schedule_config=schedule_config,\n",
        "    alert_config=alerting_config,\n",
        "    objective_configs=objective_config,\n",
        ")\n",
        "\n",
        "print(monitoring_job.gca_resource)"
      ]
    },
    {
      "cell_type": "markdown",
      "metadata": {
        "id": "3c6d3b620264"
      },
      "source": [
        "#### Email notification of the monitoring job.\n",
        "\n",
        "An email notification is sent to the email address in the alerting configuration, notifying that the model monitoring job is now enabled.\n",
        "\n",
        "The contents will appear like:\n",
        "\n",
        "<blockquote>\n",
        "Hello Vertex AI Customer,\n",
        "\n",
        "You are receiving this mail because you are using the Vertex AI Model Monitoring service.\n",
        "This mail is to inform you that we received your request to set up drift or skew detection for the Prediction Endpoint listed below. Starting from now, incoming prediction requests will be sampled and logged for analysis.\n",
        "Raw requests and responses will be collected from prediction service and saved in bq://[your-project-id].model_deployment_monitoring_[endpoint-id].serving_predict .\n",
        "</blockquote>"
      ]
    },
    {
      "cell_type": "markdown",
      "metadata": {
        "id": "dcc4aae9e20f"
      },
      "source": [
        "#### Monitoring Job State\n",
        "\n",
        "After you start the `Vertex AI Model Monitoring` job, it will be in a `PENDING` state until the `input schema` and `skew distribution baselines` are calculated. The process happens sequentially. In this example where you use automatic generation of the `input schema`, the service stays in a `PENDING` state until the 1000 prediction request (discussed subsequently) is sent. \n",
        "\n",
        "Once the `input schema` has been generated, then a batch job will be initiated to generate the distribution baseline from the training data. Again, the service stays in a `PENDING` state until the baseline distribution is calculated.\n",
        "\n",
        "Once the baseline distribution is generated, then the monitoring job will enter `OFFLINE` state. On the per interval basis -- e.g., once an hour, the monitoring job will enter `RUNNING` state while analyzing the sampled data. Once completed, it will return to an `OFFLINE` state while awaiting the next scheduled analysis."
      ]
    },
    {
      "cell_type": "code",
      "execution_count": null,
      "metadata": {
        "id": "f640fb7f10cd"
      },
      "outputs": [],
      "source": [
        "jobs = monitoring_job.list(filter=\"display_name=churn\")\n",
        "job = jobs[0]\n",
        "print(job.state)"
      ]
    },
    {
      "cell_type": "markdown",
      "metadata": {
        "id": "3960076190ab"
      },
      "source": [
        "## Initialize the parsing for automatically generating the input schema\n",
        "\n",
        "After your `Endpoint` receives a 1000 prediction requests, the modeling service will automatically parse and create the `input schema`.\n",
        "\n",
        "### Create the 1000 instance data\n",
        "\n",
        "In this example, the first 1000 entries in the BigQuery training data are used as the first 1000 prediction requests. \n",
        "\n",
        "*Note:* In this context, each instance is a prediction request. In otherwords, sending 1000 prediction requests of a single instance is the same as sending a single prediction request with 1000 instances."
      ]
    },
    {
      "cell_type": "code",
      "execution_count": null,
      "metadata": {
        "id": "cb26c3dea306"
      },
      "outputs": [],
      "source": [
        "# Download the table.\n",
        "table = bigquery.TableReference.from_string(DATASET_BQ_URI[5:])\n",
        "\n",
        "rows = bqclient.list_rows(table, max_results=1000)\n",
        "\n",
        "instances = []\n",
        "for row in rows:\n",
        "    instance = {}\n",
        "    for key, value in row.items():\n",
        "        if key == TARGET:\n",
        "            continue\n",
        "        if value is None:\n",
        "            value = \"\"\n",
        "        instance[key] = value\n",
        "    instances.append(instance)\n",
        "\n",
        "print(len(instances))"
      ]
    },
    {
      "cell_type": "markdown",
      "metadata": {
        "id": "6d002569dadc"
      },
      "source": [
        "### Make the initial prediction request\n",
        "\n",
        "Next, you send the the 1000 prediction request to your `Vertex AI Endpoint` resource using the `predict()` method."
      ]
    },
    {
      "cell_type": "code",
      "execution_count": null,
      "metadata": {
        "id": "b2d69d89cd66"
      },
      "outputs": [],
      "source": [
        "response = endpoint.predict(instances=instances)\n",
        "\n",
        "prediction = response[0]\n",
        "\n",
        "# print the prediction for the first instance\n",
        "print(prediction[0])"
      ]
    },
    {
      "cell_type": "markdown",
      "metadata": {
        "id": "e990a8821178"
      },
      "source": [
        "### Automatic generation of the input schema\n",
        "\n",
        "After the model monitoring service receives 1000 instances of prediction requests, the monitoring will start analyzing the prediction requests to automatically generate an `input schema` for the feature inputs.\n",
        "\n",
        "### Automatic generation of the baseline distribution\n",
        "\n",
        "After the `input schema` is generated, the monitoring service creates a batch job to analyze the training data to determine the baseline distribution. "
      ]
    },
    {
      "cell_type": "code",
      "execution_count": null,
      "metadata": {
        "id": "670b5bc98c2a"
      },
      "outputs": [],
      "source": [
        "# Pause a bit for the baseline distribution to be calculated\n",
        "if os.getenv(\"IS_TESTING\"):\n",
        "    import time\n",
        "\n",
        "    time.sleep(120)"
      ]
    },
    {
      "cell_type": "markdown",
      "metadata": {
        "id": "08f499f7adae"
      },
      "source": [
        "#### The location of the BigQuery table for monitoring\n",
        "\n",
        "The BigQuery table for logging the sampled requests is located at:\n",
        "\n",
        "    `<PROJECT_ID>.model_deployment_monitoring_<ENDPOINT_ID>`.serving_predict, \n",
        "    \n",
        "Where <ENDPOINT_ID> is the numerical identifier for the `Vertex AI Endpoint` resource."
      ]
    },
    {
      "cell_type": "code",
      "execution_count": null,
      "metadata": {
        "id": "ae7b9b1ce8df"
      },
      "outputs": [],
      "source": [
        "ENDPOINT_ID = endpoint.resource_name.split(\"/\")[-1]\n",
        "\n",
        "BQ_MON_TABLE = f\"{PROJECT_ID}.model_deployment_monitoring_{ENDPOINT_ID}.serving_predict\"\n",
        "\n",
        "table = bigquery.TableReference.from_string(BQ_MON_TABLE)\n",
        "bq_table = bqclient.get_table(table)\n",
        "\n",
        "print(bq_table)"
      ]
    },
    {
      "cell_type": "markdown",
      "metadata": {
        "id": "69147b259cbf"
      },
      "source": [
        "### Pause the monitoring job\n",
        "\n",
        "You can pause and resume a monitoring job with the methods `pause()` and `resume()`, respectively."
      ]
    },
    {
      "cell_type": "code",
      "execution_count": null,
      "metadata": {
        "id": "2f4e99831237"
      },
      "outputs": [],
      "source": [
        "monitoring_job.pause()\n",
        "monitoring_job.resume()"
      ]
    },
    {
      "cell_type": "markdown",
      "metadata": {
        "id": "8c92eb3ffdeb"
      },
      "source": [
        "### List monitoring jobs\n",
        "\n",
        "Next, you can get a list of all monitoring jobs using the `list()` method."
      ]
    },
    {
      "cell_type": "code",
      "execution_count": null,
      "metadata": {
        "id": "7c4332598e13"
      },
      "outputs": [],
      "source": [
        "monitoring_jobs = aiplatform.ModelDeploymentMonitoringJob.list()\n",
        "print(monitoring_jobs)"
      ]
    },
    {
      "cell_type": "markdown",
      "metadata": {
        "id": "a5c889257c9e"
      },
      "source": [
        "### List monitoring jobs by a filter\n",
        "\n",
        "Alternatively, you can use a `filter` parameter to list a subset of jobs. In this example, you filter the list by the monitoring job's display name."
      ]
    },
    {
      "cell_type": "code",
      "execution_count": null,
      "metadata": {
        "id": "39a45c1a7cea"
      },
      "outputs": [],
      "source": [
        "monitoring_jobs = aiplatform.ModelDeploymentMonitoringJob.list(\n",
        "    filter=\"display_name=churn\"\n",
        ")\n",
        "\n",
        "print(monitoring_jobs[0].gca_resource)"
      ]
    },
    {
      "cell_type": "markdown",
      "metadata": {
        "id": "39cdad8fdcc5"
      },
      "source": [
        "### Delete the monitoring job\n",
        "\n",
        "You can delete the monitoring job using the `delete()` method. \n",
        "\n",
        "*Note:* You cannot delete a monitoring job when in a state of RUNNING. You must pause the job first."
      ]
    },
    {
      "cell_type": "code",
      "execution_count": null,
      "metadata": {
        "id": "bdc44ad0471a"
      },
      "outputs": [],
      "source": [
        "monitoring_job.pause()\n",
        "monitoring_job.delete()"
      ]
    },
    {
      "cell_type": "markdown",
      "metadata": {
        "id": "313b543dc772"
      },
      "source": [
        "### Delete the logged sampled data"
      ]
    },
    {
      "cell_type": "code",
      "execution_count": null,
      "metadata": {
        "id": "9a638ce66806"
      },
      "outputs": [],
      "source": [
        "# Delete the monitoring logged data BigQuery dataset\n",
        "\n",
        "! bq rm -r -f {PROJECT_ID}.model_deployment_monitoring_{ENDPOINT_ID}"
      ]
    },
    {
      "cell_type": "markdown",
      "metadata": {
        "id": "73fbeb1b68ba"
      },
      "source": [
        "### Create a monitoring job with a predefined input schema\n",
        "\n",
        "Next, you create another monitoring job. This time you will load a predefined `input schema`. Once loaded, the monitoring service will use this `input schema` instead of automatically generating one from the first 1000 prediction instances.\n",
        "\n",
        "#### Create the predefined input schema\n",
        "\n",
        "The predefined `input schema` is specified as a YAML file. In this example, you retrieve the BigQuery schema for the training data, which includes the feature names and data types, to generate the YAML specification. The predefined `input schema` must be loaded to a Cloud Storage location.\n",
        "\n",
        "Learn more about [Custom instance schemas for parsing input](https://cloud.google.com/vertex-ai/docs/model-monitoring/overview#custom-input-schemas)."
      ]
    },
    {
      "cell_type": "code",
      "execution_count": null,
      "metadata": {
        "id": "59becb56ad34"
      },
      "outputs": [],
      "source": [
        "# Get the BQ table\n",
        "\n",
        "table = bigquery.TableReference.from_string(DATASET_BQ_URI[5:])\n",
        "bq_table = bqclient.get_table(table)\n",
        "\n",
        "yaml = \"\"\"type: object\n",
        "properties:\n",
        "\"\"\"\n",
        "\n",
        "schema = bq_table.schema\n",
        "for feature in schema:\n",
        "    if feature.name == TARGET:\n",
        "        continue\n",
        "    if feature.field_type == \"STRING\":\n",
        "        f_type = \"string\"\n",
        "    else:\n",
        "        f_type = \"integer\"\n",
        "    yaml += f\"\"\"  {feature.name}:\n",
        "    type: {f_type}\n",
        "\"\"\"\n",
        "\n",
        "yaml += \"\"\"required:\n",
        "\"\"\"\n",
        "for feature in schema:\n",
        "    if feature.name == TARGET:\n",
        "        continue\n",
        "    yaml += f\"\"\"- {feature.name}\n",
        "\"\"\"\n",
        "\n",
        "print(yaml)\n",
        "\n",
        "with open(\"schema.yaml\", \"w\") as f:\n",
        "    f.write(yaml)\n",
        "\n",
        "! gsutil cp schema.yaml {BUCKET_URI}/schema.yaml"
      ]
    },
    {
      "cell_type": "markdown",
      "metadata": {
        "id": "45df86099448"
      },
      "source": [
        "### Create the monitoring job\n",
        "\n",
        "Finally, you create the monitoring job using the `create()` method, with the following additional parameter:\n",
        "\n",
        "- `analysis_instance_schema_uri`: The location of the YAML file containing the `input schema`."
      ]
    },
    {
      "cell_type": "code",
      "execution_count": null,
      "metadata": {
        "id": "4b8dd381c5c3"
      },
      "outputs": [],
      "source": [
        "monitoring_job = aiplatform.ModelDeploymentMonitoringJob.create(\n",
        "    display_name=\"churn\",\n",
        "    project=PROJECT_ID,\n",
        "    location=REGION,\n",
        "    endpoint=endpoint,\n",
        "    logging_sampling_strategy=logging_sampling_strategy,\n",
        "    schedule_config=schedule_config,\n",
        "    alert_config=alerting_config,\n",
        "    objective_configs=objective_config,\n",
        "    analysis_instance_schema_uri=f\"{BUCKET_URI}/schema.yaml\",\n",
        ")\n",
        "\n",
        "print(monitoring_job)"
      ]
    },
    {
      "cell_type": "markdown",
      "metadata": {
        "id": "39cdad8fdcc5"
      },
      "source": [
        "### Delete the monitoring job\n",
        "\n",
        "You can delete the monitoring job using the `delete()` method. "
      ]
    },
    {
      "cell_type": "code",
      "execution_count": null,
      "metadata": {
        "id": "ef1ddc1d6017"
      },
      "outputs": [],
      "source": [
        "monitoring_job.pause()\n",
        "monitoring_job.delete()"
      ]
    },
    {
      "cell_type": "markdown",
      "metadata": {
        "id": "c6280efab664"
      },
      "source": [
        "#### Undeploy and delete the `Vertex AI Endpoint` resource\n",
        "\n",
        "Your `Vertex AI Endpoint` resource can be deleted using the `delete()` method. Prior to deleting, any model deployed to your `Vertex AI Endpoint` resource, must first be undeployed."
      ]
    },
    {
      "cell_type": "code",
      "execution_count": null,
      "metadata": {
        "id": "ad0d28b762e5"
      },
      "outputs": [],
      "source": [
        "endpoint.undeploy_all()\n",
        "endpoint.delete()"
      ]
    },
    {
      "cell_type": "markdown",
      "metadata": {
        "id": "448f3698d50f"
      },
      "source": [
        "#### Delete the `Vertex AI Model` resource\n",
        "\n",
        "Your `Vertex AI Model` resource can be deleted using the `delete()` method."
      ]
    },
    {
      "cell_type": "code",
      "execution_count": null,
      "metadata": {
        "id": "0feab0a0b5d7"
      },
      "outputs": [],
      "source": [
        "model.delete()"
      ]
    },
    {
      "cell_type": "markdown",
      "metadata": {
        "id": "18889460bd33"
      },
      "source": [
        "## Cleaning up\n",
        "\n",
        "To clean up all Google Cloud resources used in this project, you can [delete the Google Cloud\n",
        "project](https://cloud.google.com/resource-manager/docs/creating-managing-projects#shutting_down_projects) you used for the tutorial.\n",
        "\n",
        "Otherwise, you can delete the individual resources you created in this tutorial."
      ]
    },
    {
      "cell_type": "code",
      "execution_count": null,
      "metadata": {
        "id": "8c1de58f049e"
      },
      "outputs": [],
      "source": [
        "delete_bucket = False\n",
        "\n",
        "if delete_bucket or os.getenv(\"IS_TESTING\"):\n",
        "    ! gsutil rm -rf {BUCKET_URI}\n",
        "\n",
        "! rm -f schema.yaml\n",
        "\n",
        "! bq rm -r -f {PROJECT_ID}.model_deployment_monitoring_{ENDPOINT_ID}"
      ]
    }
  ],
  "metadata": {
    "colab": {
      "collapsed_sections": [],
      "name": "get_started_with_model_monitoring_setup.ipynb",
      "toc_visible": true
    },
    "kernelspec": {
      "display_name": "Python 3",
      "name": "python3"
    }
  },
  "nbformat": 4,
  "nbformat_minor": 0
}
