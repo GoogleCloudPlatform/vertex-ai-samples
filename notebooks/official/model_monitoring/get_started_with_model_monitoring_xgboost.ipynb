{
  "cells": [
    {
      "cell_type": "code",
      "execution_count": null,
      "metadata": {
        "cellView": "form",
        "id": "ur8xi4C7S06n"
      },
      "outputs": [],
      "source": [
        "# @title Copyright & License (click to expand)\n",
        "# Copyright 2022 Google LLC\n",
        "#\n",
        "# Licensed under the Apache License, Version 2.0 (the \"License\");\n",
        "# you may not use this file except in compliance with the License.\n",
        "# You may obtain a copy of the License at\n",
        "#\n",
        "#     https://www.apache.org/licenses/LICENSE-2.0\n",
        "#\n",
        "# Unless required by applicable law or agreed to in writing, software\n",
        "# distributed under the License is distributed on an \"AS IS\" BASIS,\n",
        "# WITHOUT WARRANTIES OR CONDITIONS OF ANY KIND, either express or implied.\n",
        "# See the License for the specific language governing permissions and\n",
        "# limitations under the License."
      ]
    },
    {
      "cell_type": "markdown",
      "metadata": {
        "id": "fsv4jGuU89rX"
      },
      "source": [
        "# Vertex AI Model Monitoring for XGBoost models\n",
        "\n",
        "<table align=\"left\">\n",
        "  <td>\n",
        "    <a href=\"https://colab.research.google.com/github/GoogleCloudPlatform/vertex-ai-samples/blob/main/notebooks/official/model_monitoring/get_started_with_model_monitoring_xgboost.ipynb\">\n",
        "      <img src=\"https://cloud.google.com/ml-engine/images/colab-logo-32px.png\" alt=\"Colab logo\"> Run in Colab\n",
        "    </a>\n",
        "  </td>\n",
        "  <td>\n",
        "    <a href=\"https://github.com/GoogleCloudPlatform/vertex-ai-samples/blob/main/notebooks/official/model_monitoring/get_started_with_model_monitoring_xgboost.ipynb\">\n",
        "        <img src=\"https://cloud.google.com/ml-engine/images/github-logo-32px.png\" alt=\"GitHub logo\">\n",
        "      View on GitHub\n",
        "    </a>\n",
        "  </td> \n",
        "  <td>\n",
        "    <a href=\"https://console.cloud.google.com/vertex-ai/workbench/deploy-notebook?download_url=https://raw.githubusercontent.com/GoogleCloudPlatform/vertex-ai-samples/main/notebooks/official/model_monitoring/get_started_with_model_monitoring_xgboost.ipynb\">\n",
        "      <img src=\"https://lh3.googleusercontent.com/UiNooY4LUgW_oTvpsNhPpQzsstV5W8F7rYgxgGBD85cWJoLmrOzhVs_ksK_vgx40SHs7jCqkTkCk=e14-rj-sc0xffffff-h130-w32\" alt=\"Vertex AI logo\">\n",
        "      Open in Vertex AI Workbench\n",
        "    </a>\n",
        "  </td>\n",
        "</table>\n"
      ]
    },
    {
      "cell_type": "markdown",
      "metadata": {
        "id": "lA32H1oKGgpf"
      },
      "source": [
        "## Overview\n",
        "\n",
        "This tutorial demonstrates how to use `Vertex AI Model Monitoring` for XGBoost models.\n",
        "\n",
        "Learn more about [Vertex AI Model Monitoring](https://cloud.google.com/vertex-ai/docs/model-monitoring)."
      ]
    },
    {
      "cell_type": "markdown",
      "metadata": {
        "id": "de998a3953c9"
      },
      "source": [
        "### Objective\n",
        "\n",
        "In this notebook, you learn to use the `Vertex AI Model Monitoring` service to detect feature skew and drift in the input predict requests for XGBoost models.\n",
        "\n",
        "This tutorial uses the following Google Cloud ML services:\n",
        "\n",
        "- `Vertex AI Model Monitoring`\n",
        "- `Vertex AI Prediction`\n",
        "- `Vertex AI Model` resource\n",
        "- `Vertex AI Endpoint` resource\n",
        "\n",
        "The steps performed include:\n",
        "\n",
        "- Download a pre-trained XGBoost model.\n",
        "- Upload the pre-trained model as a `Model` resource.\n",
        "- Deploy the `Model` resource to the `Endpoint` resource.\n",
        "- Configure the `Endpoint` resource for model monitoring:\n",
        "  - drift detection only -- no access to training data.\n",
        "  - predefine the input schema to map feature alias names to the unnamed array input to the model.\n",
        "- Generate synthetic prediction requests for drift.\n",
        "\n",
        "\n",
        "Learn more about [Introduction to Vertex AI Model Monitoring](https://cloud.google.com/vertex-ai/docs/model-monitoring/overview)."
      ]
    },
    {
      "cell_type": "markdown",
      "metadata": {
        "id": "edba71dc9840"
      },
      "source": [
        "### Model\n",
        "\n",
        "The model used for this tutorial is a pretrain XGBoost model that was trained on the [Iris dataset](https://www.tensorflow.org/datasets/catalog/iris) from [TensorFlow Datasets](https://www.tensorflow.org/datasets/catalog/overview). The trained model predicts the type of Iris flower species from a class of three species: setosa, virginica, or versicolor."
      ]
    },
    {
      "cell_type": "markdown",
      "metadata": {
        "id": "t6Cd51FkG09E"
      },
      "source": [
        "### Costs \n",
        "\n",
        "This tutorial uses billable components of Google Cloud:\n",
        "\n",
        "* Vertex AI\n",
        "* BigQuery\n",
        "* Cloud Storage\n",
        "\n",
        "Learn about [Vertext AI\n",
        "pricing](https://cloud.google.com/vertex-ai/pricing) and [Cloud Storage\n",
        "pricing](https://cloud.google.com/storage/pricing), and use the [Pricing\n",
        "Calculator](https://cloud.google.com/products/calculator/)\n",
        "to generate a cost estimate based on your projected usage."
      ]
    },
    {
      "cell_type": "markdown",
      "metadata": {
        "id": "f3848df1e5b0"
      },
      "source": [
        "## Installation\n",
        "\n",
        "Install the packages required for executing this notebook."
      ]
    },
    {
      "cell_type": "code",
      "execution_count": null,
      "metadata": {
        "id": "b24b232ee039"
      },
      "outputs": [],
      "source": [
        "# Install required packages.\n",
        "! pip3 install --quiet --upgrade google-cloud-aiplatform \\\n",
        "                                 google-cloud-bigquery"
      ]
    },
    {
      "cell_type": "markdown",
      "metadata": {
        "id": "restart"
      },
      "source": [
        "### Colab only: Uncomment the following cell to restart the kernel"
      ]
    },
    {
      "cell_type": "code",
      "execution_count": null,
      "metadata": {
        "id": "D-ZBOjErv5mM"
      },
      "outputs": [],
      "source": [
        "# Automatically restart kernel after installs so that your environment can access the new packages\n",
        "# import IPython\n",
        "\n",
        "# app = IPython.Application.instance()\n",
        "# app.kernel.do_shutdown(True)"
      ]
    },
    {
      "cell_type": "markdown",
      "metadata": {
        "id": "before_you_begin:nogpu"
      },
      "source": [
        "## Before you begin\n",
        "\n",
        "### Set your project ID\n",
        "\n",
        "**If you don't know your project ID**, try the following:\n",
        "* Run `gcloud config list`.\n",
        "* Run `gcloud projects list`.\n",
        "* See the support page: [Locate the project ID](https://support.google.com/googleapi/answer/7014113)"
      ]
    },
    {
      "cell_type": "code",
      "execution_count": null,
      "metadata": {
        "id": "set_project_id"
      },
      "outputs": [],
      "source": [
        "PROJECT_ID = \"[your-project-id]\"  # @param {type:\"string\"}\n",
        "\n",
        "# Set the project id\n",
        "! gcloud config set project {PROJECT_ID}"
      ]
    },
    {
      "cell_type": "markdown",
      "metadata": {
        "id": "region"
      },
      "source": [
        "#### Region\n",
        "\n",
        "You can also change the `REGION` variable used by Vertex AI. Learn more about [Vertex AI regions](https://cloud.google.com/vertex-ai/docs/general/locations)."
      ]
    },
    {
      "cell_type": "code",
      "execution_count": null,
      "metadata": {
        "id": "2dw8q9fdQEH5"
      },
      "outputs": [],
      "source": [
        "REGION = \"us-central1\""
      ]
    },
    {
      "cell_type": "markdown",
      "metadata": {
        "id": "42c8a7c56abd"
      },
      "source": [
        "#### User Email\n",
        "\n",
        "Set your user email address to receive monitoring alerts."
      ]
    },
    {
      "cell_type": "code",
      "execution_count": null,
      "metadata": {
        "id": "ce2589511bb6"
      },
      "outputs": [],
      "source": [
        "import os\n",
        "\n",
        "USER_EMAIL = \"[your-email-addr]\"  # @param {type:\"string\"}\n",
        "\n",
        "if os.getenv(\"IS_TESTING\"):\n",
        "    USER_EMAIL = \"noreply@google.com\""
      ]
    },
    {
      "cell_type": "markdown",
      "metadata": {
        "id": "gcp_authenticate"
      },
      "source": [
        "### Authenticate your Google Cloud account\n",
        "\n",
        "Depending on your Jupyter environment, you may have to manually authenticate. Follow the relevant instructions below.\n",
        "\n",
        "**1. Vertex AI Workbench**\n",
        "* Do nothing as you are already authenticated.\n",
        "\n",
        "**2. Local JupyterLab instance, uncomment and run:**"
      ]
    },
    {
      "cell_type": "code",
      "execution_count": null,
      "metadata": {
        "id": "ce6043da7b33"
      },
      "outputs": [],
      "source": [
        "# ! gcloud auth login"
      ]
    },
    {
      "cell_type": "markdown",
      "metadata": {
        "id": "0367eac06a10"
      },
      "source": [
        "**3. Colab, uncomment and run:**"
      ]
    },
    {
      "cell_type": "code",
      "execution_count": null,
      "metadata": {
        "id": "21ad4dbb4a61"
      },
      "outputs": [],
      "source": [
        "# from google.colab import auth\n",
        "# auth.authenticate_user()"
      ]
    },
    {
      "cell_type": "markdown",
      "metadata": {
        "id": "c13224697bfb"
      },
      "source": [
        "**4. Service account or other**\n",
        "* See how to grant Cloud Storage permissions to your service account at https://cloud.google.com/storage/docs/gsutil/commands/iam#ch-examples."
      ]
    },
    {
      "cell_type": "markdown",
      "metadata": {
        "id": "8RJ3_20etd31"
      },
      "source": [
        "### Notes about service account and permission\n",
        "\n",
        "**By default no configuration is required**, if you run into any permission related issue, please make sure the service accounts above have the required roles:\n",
        "\n",
        "|Service account email|Description|Roles|\n",
        "|---|---|---|\n",
        "|PROJECT_NUMBER-compute@developer.gserviceaccount.com|Compute Engine default service account|Dataflow Admin, Dataflow Worker, Storage Admin, BigQuery Admin, Vertex AI User|\n",
        "|service-PROJECT_NUMBER@gcp-sa-aiplatform.iam.gserviceaccount.com|AI Platform Service Agent|Vertex AI Service Agent|\n",
        "\n",
        "\n",
        "1. Goto https://console.cloud.google.com/iam-admin/iam.\n",
        "2. Check the \"Include Google-provided role grants\" checkbox.\n",
        "3. Find the above emails.\n",
        "4. Grant the corresponding roles.\n",
        "\n",
        "### Using data source from a different project\n",
        "- For the BQ data source, grant both service accounts the \"BigQuery Data Viewer\" role.\n",
        "- For the CSV data source, grant both service accounts the \"Storage Object Viewer\" role."
      ]
    },
    {
      "cell_type": "markdown",
      "metadata": {
        "id": "bucket:mbsdk"
      },
      "source": [
        "### Create a Cloud Storage bucket\n",
        "\n",
        "Create a storage bucket to store intermediate artifacts such as datasets."
      ]
    },
    {
      "cell_type": "code",
      "execution_count": null,
      "metadata": {
        "id": "bucket"
      },
      "outputs": [],
      "source": [
        "BUCKET_URI = f\"gs://your-bucket-name-{PROJECT_ID}-unique\"  # @param {type:\"string\"}"
      ]
    },
    {
      "cell_type": "markdown",
      "metadata": {
        "id": "autoset_bucket"
      },
      "source": [
        "**Only if your bucket doesn't already exist**: Run the following cell to create your Cloud Storage bucket."
      ]
    },
    {
      "cell_type": "code",
      "execution_count": null,
      "metadata": {
        "id": "91c46850b49b"
      },
      "outputs": [],
      "source": [
        "! gsutil mb -l $REGION -p $PROJECT_ID $BUCKET_URI"
      ]
    },
    {
      "cell_type": "markdown",
      "metadata": {
        "id": "a0d294ff6d10"
      },
      "source": [
        "### Import libraries"
      ]
    },
    {
      "cell_type": "code",
      "execution_count": null,
      "metadata": {
        "id": "bd7a633296eb"
      },
      "outputs": [],
      "source": [
        "import os\n",
        "import random\n",
        "\n",
        "from google.cloud import aiplatform, bigquery\n",
        "from google.cloud.aiplatform import model_monitoring"
      ]
    },
    {
      "cell_type": "markdown",
      "metadata": {
        "id": "init_aip:mbsdk,all"
      },
      "source": [
        "### Initialize Vertex AI SDK for Python\n",
        "\n",
        "Initialize the Vertex AI SDK for Python for your project and corresponding bucket."
      ]
    },
    {
      "cell_type": "code",
      "execution_count": null,
      "metadata": {
        "id": "init_aip:mbsdk,all"
      },
      "outputs": [],
      "source": [
        "aiplatform.init(project=PROJECT_ID, location=REGION)"
      ]
    },
    {
      "cell_type": "markdown",
      "metadata": {
        "id": "init_bq"
      },
      "source": [
        "### Create BigQuery client\n",
        "\n",
        "In this tutorial, you use data from the same public BigQuery table that was used to train the pre-trained model. You create a client interface, which you subsequently use to access the data."
      ]
    },
    {
      "cell_type": "code",
      "execution_count": null,
      "metadata": {
        "id": "init_bq"
      },
      "outputs": [],
      "source": [
        "bqclient = bigquery.Client(project=PROJECT_ID)"
      ]
    },
    {
      "cell_type": "markdown",
      "metadata": {
        "id": "container:training,prediction"
      },
      "source": [
        "#### Set pre-built containers\n",
        "\n",
        "Set the pre-built Docker container image for prediction.\n",
        "\n",
        "For the latest list, see [Pre-built containers for prediction](https://cloud.google.com/ai-platform-unified/docs/predictions/pre-built-containers)."
      ]
    },
    {
      "cell_type": "code",
      "execution_count": null,
      "metadata": {
        "id": "1u1mr18jlugv"
      },
      "outputs": [],
      "source": [
        "DEPLOY_VERSION = \"xgboost-cpu.1-1\"\n",
        "\n",
        "LOCATION = REGION.split(\"-\")[0]\n",
        "\n",
        "DEPLOY_IMAGE = f\"{LOCATION}-docker.pkg.dev/vertex-ai/prediction/{DEPLOY_VERSION}:latest\"\n",
        "\n",
        "print(\"Deployment:\", DEPLOY_IMAGE)"
      ]
    },
    {
      "cell_type": "markdown",
      "metadata": {
        "id": "machine:training,prediction"
      },
      "source": [
        "#### Set machine types\n",
        "\n",
        "Next, set the machine types to use for training and prediction.\n",
        "\n",
        "- Set the variable `DEPLOY_COMPUTE` to configure your compute resources for prediction.\n",
        " - `machine type`\n",
        "     - `n1-standard`: 3.75GB of memory per vCPU\n",
        "     - `n1-highmem`: 6.5GB of memory per vCPU\n",
        "     - `n1-highcpu`: 0.9 GB of memory per vCPU\n",
        " - `vCPUs`: number of \\[2, 4, 8, 16, 32, 64, 96 \\]\n",
        "\n",
        "*Note: You may also use n2 and e2 machine types for training and deployment, but they do not support GPUs*."
      ]
    },
    {
      "cell_type": "code",
      "execution_count": null,
      "metadata": {
        "id": "YAXwbqKKlugv"
      },
      "outputs": [],
      "source": [
        "MACHINE_TYPE = \"n1-standard\"\n",
        "\n",
        "VCPU = \"4\"\n",
        "TRAIN_COMPUTE = MACHINE_TYPE + \"-\" + VCPU\n",
        "print(\"Train machine type\", TRAIN_COMPUTE)\n",
        "\n",
        "MACHINE_TYPE = \"n1-standard\"\n",
        "\n",
        "VCPU = \"4\"\n",
        "DEPLOY_COMPUTE = MACHINE_TYPE + \"-\" + VCPU\n",
        "print(\"Deploy machine type\", DEPLOY_COMPUTE)"
      ]
    },
    {
      "cell_type": "markdown",
      "metadata": {
        "id": "b890e02cb4b0"
      },
      "source": [
        "## Introduction to Vertex AI Model Monitoring\n",
        "\n",
        "Vertex AI Model Monitoring is supported for AutoML tabular models and custom tabular models. You can monitor for skew and drift detection of the features in the inbound prediction requests or skew and drift detection of the feature attributions (Explainable AI) in the outbound prediction response -- that is, the distribution of the attributions on how they contributed to the output (predictions).\n",
        "\n",
        "The following are the basic steps to enable model monitoring:\n",
        "\n",
        "1. Deploy a `Vertex AI` AutoML or custom tabular model to an `Vertex AI Endpoint`.\n",
        "2. Configure a model monitoring specification.\n",
        "3. Upload the model monitoring specification to the `Vertex AI Endpoint`.\n",
        "4. Upload or automatic generation of the `input schema` for parsing.\n",
        "5. For feature skew detection, upload the training data for automatic generation of the feature distribution.\n",
        "6. For feature attributions, upload corresponding `Vertex AI Explainability` specification.\n",
        "\n",
        "Once configured, you can enable/disable monitoring, change alerts and update the model monitoring configuration. \n",
        "\n",
        "When model monitoring is enabled, the sampled incoming prediction requests are logged into a BigQuery table. The input feature values contained in the logged requests are then analyzed for skew or drift on an specified interval basis. You set a sampling rate to monitor a subset of the production inputs to a model, and the monitoring interval.\n",
        "\n",
        "The model monitoring service needs to know how to parse the feature values, which is referred to as the input schema. For AutoML tabular models, the input schema is automatically generated. For custom tabular models, the service attempts to automatically derive the input schema from the first 1000 prediction requests. Alternatively, one can upload the input schema.\n",
        "\n",
        "For skew detection, the monitoring service requires a baseline for the statistical distribution of values in the training data. For AutoML tabular models this is automatically derived. For custom tabular models, you upload the training data to the service, and have the service automatically derive the distribution.\n",
        "\n",
        "For feature attribution skew and drift detection, requires enabling your deployed model for `Vertex AI Explainability` for custom tabular models. For AutoML models, `Vertex AI Explainability` is automatically enabled.\n",
        "\n",
        "Learn more about [Introduction to Vertex AI Model Monitoring](https://cloud.google.com/vertex-ai/docs/model-monitoring/overview)."
      ]
    },
    {
      "cell_type": "markdown",
      "metadata": {
        "id": "9bf06cd476e9"
      },
      "source": [
        "### Upload the model artifacts as a `Vertex AI Model` resource\n",
        "\n",
        "First, you upload the pre-trained XGBoost tabular model artifacts as a `Vertex AI Model` resource using the `upload()` method, with the following parameters:\n",
        "\n",
        "- `display_name`: The human readable name for the `Model` resource.\n",
        "- `artifact_uri`: The Cloud Storage location of the model artifacts.\n",
        "- `serving_container_image`: The serving container image to use when the model is deployed to a `Vertex AI Endpoint` resource.\n",
        "- `sync`: Whether to wait for the process to complete, or return immediately (async)."
      ]
    },
    {
      "cell_type": "code",
      "execution_count": null,
      "metadata": {
        "id": "0193f247e216"
      },
      "outputs": [],
      "source": [
        "MODEL_ARTIFACT_URI = (\n",
        "    \"gs://cloud-samples-data/vertex-ai/model-deployment/models/xgboost_iris\"\n",
        ")\n",
        "\n",
        "model = aiplatform.Model.upload(\n",
        "    display_name=\"xgboost_iris\",\n",
        "    artifact_uri=MODEL_ARTIFACT_URI,\n",
        "    serving_container_image_uri=DEPLOY_IMAGE,\n",
        "    sync=True,\n",
        ")\n",
        "\n",
        "print(model)"
      ]
    },
    {
      "cell_type": "markdown",
      "metadata": {
        "id": "1069c6f0eba8"
      },
      "source": [
        "### Deploy the `Vertex AI Model` resource to a `Vertex AI Endpoint` resource\n",
        "\n",
        "Next, you deploy your `Vertex AI Model` resource to a `Vertex AI Endpoint` resource using the `deploy()` method, with the following parameters:\n",
        "\n",
        "- `deploy_model_display`: The human reable name for the deployed model.\n",
        "- `machine_type`: The machine type for each VM node instance.\n",
        "- `min_replica_count`: The minimum number of nodes to provision for auto-scaling.\n",
        "- `max_replica_count`: The maximum number of nodes to provision for auto-scaling."
      ]
    },
    {
      "cell_type": "code",
      "execution_count": null,
      "metadata": {
        "id": "b883402dda8c"
      },
      "outputs": [],
      "source": [
        "MIN_NODES = 1\n",
        "MAX_NODES = 1\n",
        "\n",
        "\n",
        "endpoint = model.deploy(\n",
        "    deployed_model_display_name=\"xgboost_iris\",\n",
        "    machine_type=DEPLOY_COMPUTE,\n",
        "    min_replica_count=MIN_NODES,\n",
        "    max_replica_count=MAX_NODES,\n",
        ")"
      ]
    },
    {
      "cell_type": "markdown",
      "metadata": {
        "id": "ba4a2924aec6"
      },
      "source": [
        "## Configure a monitoring job\n",
        "\n",
        "Configuring the monitoring job consists of the following specifications:\n",
        "\n",
        "- `alert_config`: The email address(es) to send monitoring alerts to.\n",
        "- `schedule_config`: The time window to analyze predictions.\n",
        "- `logging_sampling_strategy`: The rate for sampling prediction requests. \n",
        "- `drift_config`: The features and drift thresholds to monitor.\n",
        "- `skew_config`: The features and skew thresholds to monitor."
      ]
    },
    {
      "cell_type": "markdown",
      "metadata": {
        "id": "87abd93294c4"
      },
      "source": [
        "### Configure the alerting specification\n",
        "\n",
        "First, you configure the `alerting_config` specification with the following settings:\n",
        "\n",
        "- `user_emails`: A list of one or more email to send alerts to.\n",
        "- `enable_logging`: Streams detected anomalies to Cloud Logging. Default is False."
      ]
    },
    {
      "cell_type": "code",
      "execution_count": null,
      "metadata": {
        "id": "be6137df0086"
      },
      "outputs": [],
      "source": [
        "# Create alerting configuration.\n",
        "alerting_config = model_monitoring.EmailAlertConfig(\n",
        "    user_emails=[USER_EMAIL], enable_logging=True\n",
        ")"
      ]
    },
    {
      "cell_type": "markdown",
      "metadata": {
        "id": "66c7283276bc"
      },
      "source": [
        "### Configure the monitoring interval specification\n",
        "\n",
        "Next, you configure the `schedule_config` specification with the following settings:\n",
        "\n",
        "- `monitor_interval`:  Sets the model monitoring job scheduling interval in hours. Minimum time interval is 1 hour. For example, at a one hour interval, the monitoring job will run once an hour."
      ]
    },
    {
      "cell_type": "code",
      "execution_count": null,
      "metadata": {
        "id": "1230b92d1eed"
      },
      "outputs": [],
      "source": [
        "# Monitoring Interval\n",
        "MONITOR_INTERVAL = 1  # @param {type:\"number\"}\n",
        "\n",
        "# Create schedule configuration\n",
        "schedule_config = model_monitoring.ScheduleConfig(monitor_interval=MONITOR_INTERVAL)"
      ]
    },
    {
      "cell_type": "markdown",
      "metadata": {
        "id": "3bd8dd304191"
      },
      "source": [
        "### Configure the sampling specification\n",
        "\n",
        "Next, you configure the `logging_sampling_strategy` specification with the following settings:\n",
        "\n",
        "- `sample_rate`: The rate as a percentage (between 0 and 1) to randomly sample prediction requests for monitoring. Selected samples are logged to a BigQuery table."
      ]
    },
    {
      "cell_type": "code",
      "execution_count": null,
      "metadata": {
        "id": "3688c245a0e9"
      },
      "outputs": [],
      "source": [
        "# Sampling rate (optional, default=.8)\n",
        "SAMPLE_RATE = 0.5  # @param {type:\"number\"}\n",
        "\n",
        "# Create sampling configuration\n",
        "logging_sampling_strategy = model_monitoring.RandomSampleConfig(sample_rate=SAMPLE_RATE)"
      ]
    },
    {
      "cell_type": "markdown",
      "metadata": {
        "id": "c1bc3bc8992f"
      },
      "source": [
        "### Configure the drift detection specification\n",
        "\n",
        "Next, you configure the `drift_config` specification with the following settings:\n",
        "\n",
        "- `drift_thresholds`: A dictionary of key/value pairs where the keys are the input features for monitor for drift. The value is the detection threshold. When not specified, the default drift threshold for a feature is 0.3 (30%).\n",
        "\n",
        "*Note:* Enabling drift detection is optional."
      ]
    },
    {
      "cell_type": "code",
      "execution_count": null,
      "metadata": {
        "id": "128bdc05cb5b"
      },
      "outputs": [],
      "source": [
        "DRIFT_THRESHOLD_VALUE = 0.05\n",
        "\n",
        "DRIFT_THRESHOLDS = {\n",
        "    \"sepal_length\": DRIFT_THRESHOLD_VALUE,\n",
        "    \"petal_length\": DRIFT_THRESHOLD_VALUE,\n",
        "}\n",
        "\n",
        "drift_config = model_monitoring.DriftDetectionConfig(drift_thresholds=DRIFT_THRESHOLDS)"
      ]
    },
    {
      "cell_type": "markdown",
      "metadata": {
        "id": "8b6d5bd71ac9"
      },
      "source": [
        "### Assemble the objective specification\n",
        "\n",
        "Finally, you assemble the objective specification `objective_config` with the following settings:\n",
        "\n",
        "- `skew_detection_config`: (Optional) The specification for the skew detection configuration.\n",
        "- `drift_detection_config`: (Optional) The specification for the drift detection configuration.\n",
        "- `explanation_config`: (Optional) The specification for explanations when enabling monitoring for feature attributions.\n",
        "\n",
        "*Note:* You don't configure skew detection, since the assumption is you don't have access to the training data."
      ]
    },
    {
      "cell_type": "code",
      "execution_count": null,
      "metadata": {
        "id": "d353205a8aec"
      },
      "outputs": [],
      "source": [
        "objective_config = model_monitoring.ObjectiveConfig(\n",
        "    skew_detection_config=None,\n",
        "    drift_detection_config=drift_config,\n",
        "    explanation_config=None,\n",
        ")"
      ]
    },
    {
      "cell_type": "markdown",
      "metadata": {
        "id": "8ac30ffa72b5"
      },
      "source": [
        "### Create the input schema\n",
        "\n",
        "The monitoring service needs to know the features and data types for the the feature inputs to the model, which is referred to as the `input schema`. The `input schema` can either be \n",
        " - Preloaded to the monitoring service.\n",
        " - Automatically generated by the monitoring service after receiving first 1000 prediction instances.\n",
        " \n",
        "In this tutorial, you preload the `input schema`.\n",
        "\n",
        "#### Create the predefined input schema\n",
        "\n",
        "The predefined `input schema` is specified as a YAML file. In this example, you generate the YAML specification according to the model's input layer. In this case, the input layer is an array of four floating point numeric values. In the schema, this is represented by:\n",
        "\n",
        "- `type: array`: Refers to the input is an array (list)\n",
        "- `properties`: An ordered list of the inputs in the array\n",
        "- `properties -> name`: The alias (e.g., sepal_length) for the corresponding value in the array.\n",
        "- `properties -> type: number`: The value for the array element is floating point.\n",
        "- `required`: The order of the values in the array specified by alias. \n",
        "\n",
        "The input schema then informs the model monitoring service how to map the unnamed input values to the corresponding feature alias names, which can then be specified in your model monitoring configuration.\n",
        "\n",
        "The predefined `input schema` must be loaded to a Cloud Storage location.\n",
        "\n",
        "Learn more about [Custom instance schemas for parsing input](https://cloud.google.com/vertex-ai/docs/model-monitoring/overview#custom-input-schemas)."
      ]
    },
    {
      "cell_type": "code",
      "execution_count": null,
      "metadata": {
        "id": "59becb56ad34"
      },
      "outputs": [],
      "source": [
        "yaml = \"\"\"type: array\n",
        "properties:\n",
        "  sepal_length:\n",
        "    type: number\n",
        "  sepal_width:\n",
        "    type: number\n",
        "  petal_length:\n",
        "    type: number\n",
        "  petal_width:\n",
        "    type: number\n",
        "required:\n",
        "  - sepal_length\n",
        "  - sepal_width\n",
        "  - petal_length\n",
        "  - petal_width\n",
        "\"\"\"\n",
        "\n",
        "print(yaml)\n",
        "\n",
        "with open(\"schema.yaml\", \"w\") as f:\n",
        "    f.write(yaml)\n",
        "\n",
        "! gsutil cp schema.yaml {BUCKET_URI}/schema.yaml"
      ]
    },
    {
      "cell_type": "markdown",
      "metadata": {
        "id": "82c7e7af7163"
      },
      "source": [
        "### Create the monitoring job\n",
        "\n",
        "You create a monitoring job, with your monitoring specifications, using the `aiplatform.ModelDeploymentMonitoringJob.create()` method, with the following parameters:\n",
        "\n",
        "- `display_name`: The human readable name for the monitoring job.\n",
        "- `project`: The project ID.\n",
        "- `region`: The region.\n",
        "- `endpoint`: The fully qualified resource name of the `Vertex AI Endpoint` to enable monitoring.\n",
        "- `logging_sampling_strategy`: The specification for the sampling configuration.\n",
        "- `schedule_config`: The specification for the scheduling configuration.\n",
        "- `alert_config`: The specification for the alerting configuration.\n",
        "- `objective_configs`: The specification for the objectives configuration.\n",
        "- `analysis_instance_schema_uri`: The location of the YAML file containing the `input schema`."
      ]
    },
    {
      "cell_type": "code",
      "execution_count": null,
      "metadata": {
        "id": "4b8dd381c5c3"
      },
      "outputs": [],
      "source": [
        "monitoring_job = aiplatform.ModelDeploymentMonitoringJob.create(\n",
        "    display_name=\"xgboost_iris\",\n",
        "    project=PROJECT_ID,\n",
        "    location=REGION,\n",
        "    endpoint=endpoint,\n",
        "    logging_sampling_strategy=logging_sampling_strategy,\n",
        "    schedule_config=schedule_config,\n",
        "    alert_config=alerting_config,\n",
        "    objective_configs=objective_config,\n",
        "    analysis_instance_schema_uri=f\"{BUCKET_URI}/schema.yaml\",\n",
        ")\n",
        "\n",
        "print(monitoring_job)"
      ]
    },
    {
      "cell_type": "markdown",
      "metadata": {
        "id": "3c6d3b620264"
      },
      "source": [
        "#### Email notification of the monitoring job.\n",
        "\n",
        "An email notification is sent to the email address in the alerting configuration, notifying that the model monitoring job is now enabled.\n",
        "\n",
        "The contents will appear like:\n",
        "\n",
        "<blockquote>\n",
        "Hello Vertex AI Customer,\n",
        "\n",
        "You are receiving this mail because you are using the Vertex AI Model Monitoring service.\n",
        "This mail is to inform you that we received your request to set up drift or skew detection for the Prediction Endpoint listed below. Starting from now, incoming prediction requests will be sampled and logged for analysis.\n",
        "Raw requests and responses will be collected from prediction service and saved in bq://[your-project-id].model_deployment_monitoring_[endpoint-id].serving_predict .\n",
        "</blockquote>"
      ]
    },
    {
      "cell_type": "markdown",
      "metadata": {
        "id": "dcc4aae9e20f"
      },
      "source": [
        "#### Monitoring Job State\n",
        "\n",
        "After you start the `Vertex AI Model Monitoring` job, there are three transition states the job may be in:\n",
        "\n",
        "- `PENDING`: The job is configured for skew detection and the `skew distribution baseline` is being calculated. The monitoring service will initiate a batch job to generate the distribution baseline from the training data. \n",
        "\n",
        "- `OFFLINE`: The monitoring job is between monitoring intervals.\n",
        "\n",
        "- `RUNNING`: The monitoring job on a per interval basis is analyzing the sampled data."
      ]
    },
    {
      "cell_type": "code",
      "execution_count": null,
      "metadata": {
        "id": "f640fb7f10cd"
      },
      "outputs": [],
      "source": [
        "jobs = monitoring_job.list(filter=\"display_name=xgboost_iris\")\n",
        "job = jobs[0]\n",
        "print(job.state)"
      ]
    },
    {
      "cell_type": "markdown",
      "metadata": {
        "id": "e385d103aba6"
      },
      "source": [
        "pause for the monitoring job to be enabled"
      ]
    },
    {
      "cell_type": "code",
      "execution_count": null,
      "metadata": {
        "id": "670b5bc98c2a"
      },
      "outputs": [],
      "source": [
        "import time\n",
        "\n",
        "time.sleep(180)"
      ]
    },
    {
      "cell_type": "markdown",
      "metadata": {
        "id": "555642c341e1"
      },
      "source": [
        "### Generate synthetic prediction requests for first baseline\n",
        "\n",
        "Next, you create a 1000 synthetic data items to use for prediction requests. "
      ]
    },
    {
      "cell_type": "code",
      "execution_count": null,
      "metadata": {
        "id": "cb26c3dea306"
      },
      "outputs": [],
      "source": [
        "instances = []\n",
        "for _ in range(1000):\n",
        "    sepal_length = random.uniform(0.5, 3.5)\n",
        "    sepal_width = random.uniform(0.2, 2.0)\n",
        "    petal_length = random.uniform(0.5, 2.0)\n",
        "    petal_width = random.uniform(0.2, 1.5)\n",
        "    instances.append([sepal_length, sepal_width, petal_length, petal_width])"
      ]
    },
    {
      "cell_type": "markdown",
      "metadata": {
        "id": "6d002569dadc"
      },
      "source": [
        "### Make the prediction requests\n",
        "\n",
        "Next, you send the the 1000 prediction requests to your `Vertex AI Endpoint` resource using the `predict()` method.\n",
        "\n",
        "Note, the model outputs the class as a floating point value. For example, `0.0` is the label `0`."
      ]
    },
    {
      "cell_type": "code",
      "execution_count": null,
      "metadata": {
        "id": "b2d69d89cd66"
      },
      "outputs": [],
      "source": [
        "for instance in instances:\n",
        "    response = endpoint.predict(instances=[instance])\n",
        "\n",
        "prediction = response[0]\n",
        "\n",
        "# print the prediction for the first instance\n",
        "print(prediction[0])"
      ]
    },
    {
      "cell_type": "markdown",
      "metadata": {
        "id": "5184c68e4c99"
      },
      "source": [
        "### Logging sampled requests\n",
        "\n",
        "On the next monitoring interval, the sampled predictions are then copied over to the BigQuery logging table. Once the entries are in the BigQuery table, the monitoring service will analyze the sampled data.\n",
        "\n",
        "Next, you wait for the first logged entres to appear in the BigQuery table used for logging prediction samples. Since you sent 1000 prediction requests, with 50% sampling, you should see around 500 entries.\n",
        "\n",
        "*Note*: This may take upto the length of the monitoring interval (e.g., one hour)."
      ]
    },
    {
      "cell_type": "code",
      "execution_count": null,
      "metadata": {
        "id": "d9a2f9342b06"
      },
      "outputs": [],
      "source": [
        "import time\n",
        "\n",
        "while True:\n",
        "\n",
        "    ENDPOINT_ID = endpoint.resource_name.split(\"/\")[-1]\n",
        "\n",
        "    table = bigquery.TableReference.from_string(\n",
        "        f\"{PROJECT_ID}.model_deployment_monitoring_{ENDPOINT_ID}.serving_predict\"\n",
        "    )\n",
        "    rows = bqclient.list_rows(table)\n",
        "    print(rows.total_rows)\n",
        "    if rows.total_rows > 0:\n",
        "        break\n",
        "    time.sleep(180)"
      ]
    },
    {
      "cell_type": "markdown",
      "metadata": {
        "id": "ec5f1e9b8cfc"
      },
      "source": [
        "### Generate synthetic prediction requests for drift detection\n",
        "\n",
        "You modify the data (synthetic) to trigger the drift detection in the prediction requests from the previous basline distribution versus the current distribution, as follows:\n",
        "\n",
        "- `sepal_length`: increase the value 4x."
      ]
    },
    {
      "cell_type": "code",
      "execution_count": null,
      "metadata": {
        "id": "cb26c3dea306"
      },
      "outputs": [],
      "source": [
        "instances = []\n",
        "for _ in range(1000):\n",
        "    sepal_length = random.uniform(0.5, 3.5) * 4.0\n",
        "    sepal_width = random.uniform(0.2, 2.0)\n",
        "    petal_length = random.uniform(0.5, 2.0)\n",
        "    petal_width = random.uniform(0.2, 1.5)\n",
        "    instances.append([sepal_length, sepal_width, petal_length, petal_width])"
      ]
    },
    {
      "cell_type": "markdown",
      "metadata": {
        "id": "6d002569dadc"
      },
      "source": [
        "### Make the prediction requests\n",
        "\n",
        "Next, you send the the 1000 prediction requests to your `Vertex AI Endpoint` resource using the `predict()` method."
      ]
    },
    {
      "cell_type": "code",
      "execution_count": null,
      "metadata": {
        "id": "b2d69d89cd66"
      },
      "outputs": [],
      "source": [
        "for instance in instances:\n",
        "    response = endpoint.predict(instances=[instance])\n",
        "\n",
        "prediction = response[0]\n",
        "\n",
        "# print the prediction for the first instance\n",
        "print(prediction[0])"
      ]
    },
    {
      "cell_type": "markdown",
      "metadata": {
        "id": "683ed0ba4ccd"
      },
      "source": [
        "### Drift detection during monitoring\n",
        "\n",
        "The feature input drift detection will occur at the next monitoring interval. In this tutorial, you set the monitoring interval to one hour. So, in about an hour your monitoring job will go from `OFFLINE` to `RUNNING`. While running, it will analyze the logged sampled tables from the predictions during this interval and compare them to the previous monitoring interva distribution.\n",
        "\n",
        "Once the analysis is completed, the monitoring job will send email notifications on the detected drift, in this case `cnt_user_engagement`, and the monitoring job will go into `OFFLINE` state until the next interval.\n",
        "\n",
        "#### Wait for monitoring interval\n",
        "\n",
        "It can take upwards of 40 minutes from when the analyis occurred on the monitoring interval to when you receive an email alert."
      ]
    },
    {
      "cell_type": "code",
      "execution_count": null,
      "metadata": {
        "id": "2e64ffaae2de"
      },
      "outputs": [],
      "source": [
        "if os.getenv(\"IS_TESTING\"):\n",
        "    time.sleep(60 * 45)"
      ]
    },
    {
      "cell_type": "markdown",
      "metadata": {
        "id": "5184c68e4c99"
      },
      "source": [
        "### Logging sampled requests\n",
        "\n",
        "On the next monitoring interval, the sampled predictions are then copied over to the BigQuery logging table. Once the entries are in the BigQuery table, the monitoring service will analyze the sampled data.\n",
        "\n",
        "Next, you wait for the second logged entres to appear in the BigQuery table used for logging prediction samples. Since you sent 1000 prediction requests, with 50% sampling, you should see around 1000 entries.\n",
        "\n",
        "*Note*: This may take upto the length of the monitoring interval (e.g., one hour)."
      ]
    },
    {
      "cell_type": "code",
      "execution_count": null,
      "metadata": {
        "id": "d9a2f9342b06"
      },
      "outputs": [],
      "source": [
        "import time\n",
        "\n",
        "while True:\n",
        "\n",
        "    ENDPOINT_ID = endpoint.resource_name.split(\"/\")[-1]\n",
        "\n",
        "    table = bigquery.TableReference.from_string(\n",
        "        f\"{PROJECT_ID}.model_deployment_monitoring_{ENDPOINT_ID}.serving_predict\"\n",
        "    )\n",
        "    rows = bqclient.list_rows(table)\n",
        "    print(rows.total_rows)\n",
        "    if rows.total_rows > 950:\n",
        "        break\n",
        "    time.sleep(180)"
      ]
    },
    {
      "cell_type": "markdown",
      "metadata": {
        "id": "39cdad8fdcc5"
      },
      "source": [
        "### Delete the monitoring job\n",
        "\n",
        "You can delete the monitoring job using the `delete()` method. "
      ]
    },
    {
      "cell_type": "code",
      "execution_count": null,
      "metadata": {
        "id": "ef1ddc1d6017"
      },
      "outputs": [],
      "source": [
        "monitoring_job.pause()\n",
        "monitoring_job.delete()"
      ]
    },
    {
      "cell_type": "markdown",
      "metadata": {
        "id": "c6280efab664"
      },
      "source": [
        "#### Undeploy and delete the `Vertex AI Endpoint` resource\n",
        "\n",
        "Your `Vertex AI Endpoint` resource can be deleted using the `delete()` method. Prior to deleting, any model deployed to your `Vertex AI Endpoint` resource, must first be undeployed."
      ]
    },
    {
      "cell_type": "code",
      "execution_count": null,
      "metadata": {
        "id": "ad0d28b762e5"
      },
      "outputs": [],
      "source": [
        "endpoint.undeploy_all()\n",
        "endpoint.delete()"
      ]
    },
    {
      "cell_type": "markdown",
      "metadata": {
        "id": "18889460bd33"
      },
      "source": [
        "## Cleaning up\n",
        "\n",
        "To clean up all Google Cloud resources used in this project, you can [delete the Google Cloud\n",
        "project](https://cloud.google.com/resource-manager/docs/creating-managing-projects#shutting_down_projects) you used for the tutorial.\n",
        "\n",
        "Otherwise, you can delete the individual resources you created in this tutorial."
      ]
    },
    {
      "cell_type": "code",
      "execution_count": null,
      "metadata": {
        "id": "c736a6bf1428"
      },
      "outputs": [],
      "source": [
        "delete_bucket = False\n",
        "\n",
        "if delete_bucket or os.getenv(\"IS_TESTING\"):\n",
        "    ! gsutil rm -rf {BUCKET_URI}\n",
        "\n",
        "! rm -f schema.yaml\n",
        "\n",
        "! bq rm -f {PROJECT_ID}.model_deployment_monitoring_{ENDPOINT_ID}"
      ]
    }
  ],
  "metadata": {
    "colab": {
      "collapsed_sections": [],
      "name": "get_started_with_model_monitoring_xgboost.ipynb",
      "toc_visible": true
    },
    "kernelspec": {
      "display_name": "Python 3",
      "name": "python3"
    }
  },
  "nbformat": 4,
  "nbformat_minor": 0
}
