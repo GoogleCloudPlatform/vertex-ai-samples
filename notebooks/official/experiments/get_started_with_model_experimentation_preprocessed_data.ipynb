{
  "cells": [
    {
      "cell_type": "code",
      "execution_count": null,
      "metadata": {
        "id": "ur8xi4C7S06n"
      },
      "outputs": [],
      "source": [
        "# Copyright 2022 Google LLC\n",
        "#\n",
        "# Licensed under the Apache License, Version 2.0 (the \"License\");\n",
        "# you may not use this file except in compliance with the License.\n",
        "# You may obtain a copy of the License at\n",
        "#\n",
        "#     https://www.apache.org/licenses/LICENSE-2.0\n",
        "#\n",
        "# Unless required by applicable law or agreed to in writing, software\n",
        "# distributed under the License is distributed on an \"AS IS\" BASIS,\n",
        "# WITHOUT WARRANTIES OR CONDITIONS OF ANY KIND, either express or implied.\n",
        "# See the License for the specific language governing permissions and\n",
        "# limitations under the License."
      ]
    },
    {
      "cell_type": "markdown",
      "metadata": {
        "id": "JAPoU8Sm5E6e"
      },
      "source": [
        "<table align=\"left\">\n",
        "\n",
        "  <td>\n",
        "    <a href=\"https://colab.research.google.com/github/GoogleCloudPlatform/vertex-ai-samples/blob/main/notebooks/notebook_template.ipynb\">\n",
        "      <img src=\"https://cloud.google.com/ml-engine/images/colab-logo-32px.png\" alt=\"Colab logo\"> Run in Colab\n",
        "    </a>\n",
        "  </td>\n",
        "  <td>\n",
        "    <a href=\"https://github.com/GoogleCloudPlatform/vertex-ai-samples/blob/main/notebooks/notebook_template.ipynb\">\n",
        "      <img src=\"https://cloud.google.com/ml-engine/images/github-logo-32px.png\" alt=\"GitHub logo\">\n",
        "      View on GitHub\n",
        "    </a>\n",
        "  </td>\n",
        "  <td>\n",
        "    <a href=\"https://console.cloud.google.com/vertex-ai/workbench/deploy-notebook?download_url=https://github.com/GoogleCloudPlatform/vertex-ai-samples/blob/main/notebooks/notebook_template.ipynb\">\n",
        "      <img src=\"https://lh3.googleusercontent.com/UiNooY4LUgW_oTvpsNhPpQzsstV5W8F7rYgxgGBD85cWJoLmrOzhVs_ksK_vgx40SHs7jCqkTkCk=e14-rj-sc0xffffff-h130-w32\" alt=\"Vertex AI logo\">\n",
        "      Open in Vertex AI Workbench\n",
        "    </a>\n",
        "  </td>                                                                                               \n",
        "</table>"
      ]
    },
    {
      "cell_type": "markdown",
      "metadata": {
        "id": "tvgnzT1CKxrO"
      },
      "source": [
        "## Overview\n",
        "\n",
        "As a Data Scientist, you want to be able to reuse code path (data preprocessing, feature engineering etc...) that others within your team have written to simplify and standardize all the complex data wrangling. \n",
        "\n",
        "### Dataset\n",
        "\n",
        "\n",
        "### Objective\n",
        "\n",
        "In this notebook, you will learn how to integrate preprocessing code in a Vertex AI experiments. Also you will build the experiment lineage lets you record, analyze, debug, and audit metadata and artifacts produced along your ML journey.\n",
        "\n",
        "### Costs \n",
        "\n",
        "This tutorial uses billable components of Google Cloud:\n",
        "\n",
        "* Vertex AI\n",
        "* Cloud Storage\n",
        "\n",
        "Learn about [Vertex AI\n",
        "pricing](https://cloud.google.com/vertex-ai/pricing) and [Cloud Storage\n",
        "pricing](https://cloud.google.com/storage/pricing), and use the [Pricing\n",
        "Calculator](https://cloud.google.com/products/calculator/)\n",
        "to generate a cost estimate based on your projected usage."
      ]
    },
    {
      "cell_type": "markdown",
      "metadata": {
        "id": "ze4-nDLfK4pw"
      },
      "source": [
        "### Set up your local development environment\n",
        "\n",
        "**If you are using Colab or Google Cloud Notebooks**, your environment already meets\n",
        "all the requirements to run this notebook. You can skip this step."
      ]
    },
    {
      "cell_type": "markdown",
      "metadata": {
        "id": "gCuSR8GkAgzl"
      },
      "source": [
        "**Otherwise**, make sure your environment meets this notebook's requirements.\n",
        "You need the following:\n",
        "\n",
        "* The Google Cloud SDK\n",
        "* Git\n",
        "* Python 3\n",
        "* virtualenv\n",
        "* Jupyter notebook running in a virtual environment with Python 3\n",
        "\n",
        "The Google Cloud guide to [Setting up a Python development\n",
        "environment](https://cloud.google.com/python/setup) and the [Jupyter\n",
        "installation guide](https://jupyter.org/install) provide detailed instructions\n",
        "for meeting these requirements. The following steps provide a condensed set of\n",
        "instructions:\n",
        "\n",
        "1. [Install and initialize the Cloud SDK.](https://cloud.google.com/sdk/docs/)\n",
        "\n",
        "1. [Install Python 3.](https://cloud.google.com/python/setup#installing_python)\n",
        "\n",
        "1. [Install\n",
        "   virtualenv](https://cloud.google.com/python/setup#installing_and_using_virtualenv)\n",
        "   and create a virtual environment that uses Python 3. Activate the virtual environment.\n",
        "\n",
        "1. To install Jupyter, run `pip3 install jupyter` on the\n",
        "command-line in a terminal shell.\n",
        "\n",
        "1. To launch Jupyter, run `jupyter notebook` on the command-line in a terminal shell.\n",
        "\n",
        "1. Open this notebook in the Jupyter Notebook Dashboard."
      ]
    },
    {
      "cell_type": "markdown",
      "metadata": {
        "id": "i7EUnXsZhAGF"
      },
      "source": [
        "### Install additional packages\n",
        "\n",
        "Install additional package dependencies not installed in your notebook environment, such as TensorFlow or Vertex AI SDK. Use the latest major GA version of each package."
      ]
    },
    {
      "cell_type": "code",
      "execution_count": null,
      "metadata": {
        "id": "2b4ef9b72d43"
      },
      "outputs": [],
      "source": [
        "import os\n",
        "\n",
        "# The Google Cloud Notebook product has specific requirements\n",
        "IS_GOOGLE_CLOUD_NOTEBOOK = os.path.exists(\"/opt/deeplearning/metadata/env_version\")\n",
        "\n",
        "# Google Cloud Notebook requires dependencies to be installed with '--user'\n",
        "USER_FLAG = \"\"\n",
        "if IS_GOOGLE_CLOUD_NOTEBOOK:\n",
        "    USER_FLAG = \"--user\""
      ]
    },
    {
      "cell_type": "code",
      "execution_count": null,
      "metadata": {
        "id": "wyy5Lbnzg5fi"
      },
      "outputs": [],
      "source": [
        "! pip3 install {USER_FLAG} --upgrade fsspec==2022.3.0 gcsfs==2022.3.0 pandas==1.3.5 tensorflow==2.8.0 joblib==1.1.0"
      ]
    },
    {
      "cell_type": "code",
      "source": [
        "! pip3 install {USER_FLAG} --force-reinstall git+https://github.com/googleapis/python-aiplatform@v2_experiments-dev"
      ],
      "metadata": {
        "id": "oLFMVKr7J-ec"
      },
      "execution_count": null,
      "outputs": []
    },
    {
      "cell_type": "markdown",
      "metadata": {
        "id": "hhq5zEbGg0XX"
      },
      "source": [
        "### Restart the kernel\n",
        "\n",
        "After you install the additional packages, you need to restart the notebook kernel so it can find the packages."
      ]
    },
    {
      "cell_type": "code",
      "execution_count": null,
      "metadata": {
        "id": "EzrelQZ22IZj"
      },
      "outputs": [],
      "source": [
        "# Automatically restart kernel after installs\n",
        "import os\n",
        "\n",
        "if not os.getenv(\"IS_TESTING\"):\n",
        "    # Automatically restart kernel after installs\n",
        "    import IPython\n",
        "\n",
        "    app = IPython.Application.instance()\n",
        "    app.kernel.do_shutdown(True)"
      ]
    },
    {
      "cell_type": "markdown",
      "metadata": {
        "id": "lWEdiXsJg0XY"
      },
      "source": [
        "## Before you begin"
      ]
    },
    {
      "cell_type": "markdown",
      "metadata": {
        "id": "BF1j6f9HApxa"
      },
      "source": [
        "### Set up your Google Cloud project\n",
        "\n",
        "**The following steps are required, regardless of your notebook environment.**\n",
        "\n",
        "1. [Select or create a Google Cloud project](https://console.cloud.google.com/cloud-resource-manager). When you first create an account, you get a $300 free credit towards your compute/storage costs.\n",
        "\n",
        "1. [Make sure that billing is enabled for your project](https://cloud.google.com/billing/docs/how-to/modify-project).\n",
        "\n",
        "1. [Enable the Vertex AI API](https://console.cloud.google.com/flows/enableapi?apiid=aiplatform.googleapis.com). {TODO: Update the APIs needed for your tutorial. Edit the API names, and update the link to append the API IDs, separating each one with a comma. For example, container.googleapis.com,cloudbuild.googleapis.com}\n",
        "\n",
        "1. If you are running this notebook locally, you will need to install the [Cloud SDK](https://cloud.google.com/sdk).\n",
        "\n",
        "1. Enter your project ID in the cell below. Then run the cell to make sure the\n",
        "Cloud SDK uses the right project for all the commands in this notebook.\n",
        "\n",
        "**Note**: Jupyter runs lines prefixed with `!` as shell commands, and it interpolates Python variables prefixed with `$` into these commands."
      ]
    },
    {
      "cell_type": "markdown",
      "metadata": {
        "id": "WReHDGG5g0XY"
      },
      "source": [
        "#### Set your project ID\n",
        "\n",
        "**If you don't know your project ID**, you may be able to get your project ID using `gcloud`."
      ]
    },
    {
      "cell_type": "code",
      "execution_count": null,
      "metadata": {
        "id": "oM1iC_MfAts1"
      },
      "outputs": [],
      "source": [
        "import os\n",
        "PROJECT_ID = \"\"\n",
        "\n",
        "# Get your Google Cloud project ID from gcloud\n",
        "if not os.getenv(\"IS_TESTING\"):\n",
        "    shell_output = !gcloud config list --format 'value(core.project)' 2>/dev/null\n",
        "    PROJECT_ID = shell_output[0]\n",
        "    print(\"Project ID: \", PROJECT_ID)"
      ]
    },
    {
      "cell_type": "markdown",
      "metadata": {
        "id": "qJYoRfYng0XZ"
      },
      "source": [
        "Otherwise, set your project ID here."
      ]
    },
    {
      "cell_type": "code",
      "execution_count": null,
      "metadata": {
        "id": "riG_qUokg0XZ"
      },
      "outputs": [],
      "source": [
        "if PROJECT_ID == \"\" or PROJECT_ID is None:\n",
        "    PROJECT_ID = \"\"  # @param {type:\"string\"}"
      ]
    },
    {
      "cell_type": "code",
      "source": [
        "!gcloud config set project $PROJECT_ID"
      ],
      "metadata": {
        "id": "wJyyYlKGYqaa"
      },
      "execution_count": null,
      "outputs": []
    },
    {
      "cell_type": "markdown",
      "metadata": {
        "id": "06571eb4063b"
      },
      "source": [
        "#### Timestamp\n",
        "\n",
        "If you are in a live tutorial session, you might be using a shared test account or project. To avoid name collisions between users on resources created, you create a timestamp for each instance session, and append it onto the name of resources you create in this tutorial."
      ]
    },
    {
      "cell_type": "code",
      "execution_count": null,
      "metadata": {
        "id": "697568e92bd6"
      },
      "outputs": [],
      "source": [
        "from datetime import datetime\n",
        "\n",
        "TIMESTAMP = datetime.now().strftime(\"%Y%m%d%H%M%S\")"
      ]
    },
    {
      "cell_type": "markdown",
      "metadata": {
        "id": "dr--iN2kAylZ"
      },
      "source": [
        "### Authenticate your Google Cloud account\n",
        "\n",
        "**If you are using Google Cloud Notebooks**, your environment is already\n",
        "authenticated. Skip this step."
      ]
    },
    {
      "cell_type": "markdown",
      "metadata": {
        "id": "sBCra4QMA2wR"
      },
      "source": [
        "**If you are using Colab**, run the cell below and follow the instructions\n",
        "when prompted to authenticate your account via oAuth.\n",
        "\n",
        "**Otherwise**, follow these steps:\n",
        "\n",
        "1. In the Cloud Console, go to the [**Create service account key**\n",
        "   page](https://console.cloud.google.com/apis/credentials/serviceaccountkey).\n",
        "\n",
        "2. Click **Create service account**.\n",
        "\n",
        "3. In the **Service account name** field, enter a name, and\n",
        "   click **Create**.\n",
        "\n",
        "4. In the **Grant this service account access to project** section, click the **Role** drop-down list. Type \"Vertex AI\"\n",
        "into the filter box, and select\n",
        "   **Vertex AI Administrator**. Type \"Storage Object Admin\" into the filter box, and select **Storage Object Admin**.\n",
        "\n",
        "5. Click *Create*. A JSON file that contains your key downloads to your\n",
        "local environment.\n",
        "\n",
        "6. Enter the path to your service account key as the\n",
        "`GOOGLE_APPLICATION_CREDENTIALS` variable in the cell below and run the cell."
      ]
    },
    {
      "cell_type": "code",
      "execution_count": null,
      "metadata": {
        "id": "PyQmSRbKA8r-"
      },
      "outputs": [],
      "source": [
        "import os\n",
        "import sys\n",
        "\n",
        "# If you are running this notebook in Colab, run this cell and follow the\n",
        "# instructions to authenticate your GCP account. This provides access to your\n",
        "# Cloud Storage bucket and lets you submit training jobs and prediction\n",
        "# requests.\n",
        "\n",
        "# The Google Cloud Notebook product has specific requirements\n",
        "IS_GOOGLE_CLOUD_NOTEBOOK = os.path.exists(\"/opt/deeplearning/metadata/env_version\")\n",
        "\n",
        "# If on Google Cloud Notebooks, then don't execute this code\n",
        "if not IS_GOOGLE_CLOUD_NOTEBOOK:\n",
        "    if \"google.colab\" in sys.modules:\n",
        "        from google.colab import auth as google_auth\n",
        "\n",
        "        google_auth.authenticate_user()\n",
        "\n",
        "    # If you are running this notebook locally, replace the string below with the\n",
        "    # path to your service account key and run this cell to authenticate your GCP\n",
        "    # account.\n",
        "    elif not os.getenv(\"IS_TESTING\"):\n",
        "        %env GOOGLE_APPLICATION_CREDENTIALS ''"
      ]
    },
    {
      "cell_type": "markdown",
      "metadata": {
        "id": "zgPO1eR3CYjk"
      },
      "source": [
        "### Create a Cloud Storage bucket\n",
        "\n",
        "**The following steps are required, regardless of your notebook environment.**\n",
        "\n",
        "When you initialize the Vertex SDK for Python, you specify a Cloud Storage staging bucket. The staging bucket is where all the data associated with your dataset and model resources are retained across sessions.\n",
        "\n",
        "Set the name of your Cloud Storage bucket below. Bucket names must be globally unique across all Google Cloud projects, including those outside of your organization."
      ]
    },
    {
      "cell_type": "code",
      "execution_count": null,
      "metadata": {
        "id": "MzGDU7TWdts_"
      },
      "outputs": [],
      "source": [
        "BUCKET_URI = \"gs://[your-bucket-name]\"  # @param {type:\"string\"}\n",
        "REGION = \"[your-region]\"  # @param {type:\"string\"}"
      ]
    },
    {
      "cell_type": "code",
      "execution_count": null,
      "metadata": {
        "id": "cf221059d072"
      },
      "outputs": [],
      "source": [
        "if BUCKET_URI == \"\" or BUCKET_URI is None or BUCKET_URI == \"gs://[your-bucket-name]\":\n",
        "    BUCKET_URI = \"gs://\" + PROJECT_ID + \"-aip-\" + TIMESTAMP\n",
        "\n",
        "if REGION == \"[your-region]\":\n",
        "    REGION = \"us-central1\""
      ]
    },
    {
      "cell_type": "markdown",
      "metadata": {
        "id": "-EcIXiGsCePi"
      },
      "source": [
        "**Only if your bucket doesn't already exist**: Run the following cell to create your Cloud Storage bucket."
      ]
    },
    {
      "cell_type": "code",
      "execution_count": null,
      "metadata": {
        "id": "NIq7R4HZCfIc"
      },
      "outputs": [],
      "source": [
        "! gsutil mb -l $REGION -p $PROJECT_ID $BUCKET_URI"
      ]
    },
    {
      "cell_type": "markdown",
      "metadata": {
        "id": "ucvCsknMCims"
      },
      "source": [
        "Finally, validate access to your Cloud Storage bucket by examining its contents:"
      ]
    },
    {
      "cell_type": "code",
      "execution_count": null,
      "metadata": {
        "id": "vhOb7YnwClBb"
      },
      "outputs": [],
      "source": [
        "! gsutil ls -al $BUCKET_URI"
      ]
    },
    {
      "cell_type": "markdown",
      "source": [
        "### Set project folder"
      ],
      "metadata": {
        "id": "0ljjTziu90rZ"
      }
    },
    {
      "cell_type": "code",
      "source": [
        "DATA_PATH = 'data'"
      ],
      "metadata": {
        "id": "AARD6Fsr-DSi"
      },
      "execution_count": null,
      "outputs": []
    },
    {
      "cell_type": "code",
      "source": [
        "!mkdir -m 777 -p {DATA_PATH}"
      ],
      "metadata": {
        "id": "oigzvA4m937q"
      },
      "execution_count": null,
      "outputs": []
    },
    {
      "cell_type": "markdown",
      "source": [
        "### Prepare data"
      ],
      "metadata": {
        "id": "UTjfRk2I9CGO"
      }
    },
    {
      "cell_type": "code",
      "source": [
        "DATASET_URL = \"https://archive.ics.uci.edu/ml/machine-learning-databases/00359/NewsAggregatorDataset.zip\""
      ],
      "metadata": {
        "id": "3V6W2nIo9FtL"
      },
      "execution_count": null,
      "outputs": []
    },
    {
      "cell_type": "code",
      "source": [
        "!wget --no-parent {DATASET_URL} --directory-prefix={DATA_PATH}\n",
        "!mkdir -m 777 -p {DATA_PATH}/temp {DATA_PATH}/raw\n",
        "!unzip {DATA_PATH}/*.zip -d {DATA_PATH}/temp\n",
        "!mv {DATA_PATH}/temp/*.csv {DATA_PATH}/raw && rm -Rf {DATA_PATH}/temp && rm -f {DATA_PATH}/*.zip"
      ],
      "metadata": {
        "id": "L4tPQ0lG9HoG"
      },
      "execution_count": null,
      "outputs": []
    },
    {
      "cell_type": "code",
      "source": [
        "!gsutil -m cp -R {DATA_PATH}/raw $BUCKET_URI/{DATA_PATH}/raw"
      ],
      "metadata": {
        "id": "N-chqqLJAOpM"
      },
      "execution_count": null,
      "outputs": []
    },
    {
      "cell_type": "markdown",
      "metadata": {
        "id": "XoEqT2Y4DJmf"
      },
      "source": [
        "### Import libraries"
      ]
    },
    {
      "cell_type": "code",
      "execution_count": null,
      "metadata": {
        "id": "pRUOFELefqf1"
      },
      "outputs": [],
      "source": [
        "# General\n",
        "from pathlib import Path as p\n",
        "import uuid\n",
        "import time\n",
        "from json import dumps\n",
        "import logging\n",
        "logger = logging.getLogger('logger')\n",
        "logging.basicConfig(level=logging.INFO)\n",
        "\n",
        "# Experiment\n",
        "import pandas as pd\n",
        "import tensorflow as tf\n",
        "import joblib\n",
        "\n",
        "# Vertex AI\n",
        "from google.cloud import aiplatform as vertex_ai"
      ]
    },
    {
      "cell_type": "markdown",
      "source": [
        "### Define constants"
      ],
      "metadata": {
        "id": "oUiMepZvRiaa"
      }
    },
    {
      "cell_type": "code",
      "source": [
        "# Base\n",
        "DATASET_NAME = 'news_corpora'\n",
        "DATASET_URI = f'{BUCKET_URI}/{DATA_PATH}/raw/newsCorpora.csv'\n",
        "\n",
        "# Experiments\n",
        "TASK = 'classification'\n",
        "MODEL_TYPE = 'naivebayes'\n",
        "EXPERIMENT_NAME = f'{TASK}-{MODEL_TYPE}'\n",
        "EXPERIMENT_RUN_NAME = f'{EXPERIMENT_NAME}-{str(uuid.uuid1())}'\n",
        "\n",
        "# Preprocessing\n",
        "PREPROCESSED_DATASET_NAME = f'preprocessed_{DATASET_NAME}'\n",
        "PREPROCESS_EXECUTION_NAME = 'preprocess'\n",
        "COLUMN_NAMES = [\"id\", \"title\", \"url\", \"publisher\",\n",
        "                    \"category\", \"story\", \"hostname\", \"timestamp\"]\n",
        "DELIMITER = \"\t\"\n",
        "INDEX_COL = 0\n",
        "PREPROCESSED_DATASET_URI = f'{BUCKET_URI}/{DATA_PATH}/preprocess/{PREPROCESSED_DATASET_NAME}.csv'\n",
        "\n",
        "# Training\n",
        "TRAIN_EXECUTION_NAME = 'train'\n",
        "TARGET = 'category'\n",
        "FEATURES = 'title'\n",
        "TEST_SIZE = 0.2\n",
        "SEED = 8\n",
        "TRAINED_MODEL_URI = f'{BUCKET_URI}/deliverables/{TIMESTAMP}'\n",
        "MODEL_NAME = f'{EXPERIMENT_NAME}-model'"
      ],
      "metadata": {
        "id": "9zDMnU3gRhSn"
      },
      "execution_count": null,
      "outputs": []
    },
    {
      "cell_type": "markdown",
      "source": [
        "### Initialize Vertex AI SDK for Python\n",
        "\n",
        "Initialize the Vertex AI SDK for Python for your project and corresponding bucket."
      ],
      "metadata": {
        "id": "inR70nh38PeK"
      }
    },
    {
      "cell_type": "code",
      "source": [
        "vertex_ai.init(project=PROJECT_ID, experiment=EXPERIMENT_NAME, staging_bucket=BUCKET_URI)"
      ],
      "metadata": {
        "id": "Nz0nasrh8T3c"
      },
      "execution_count": null,
      "outputs": []
    },
    {
      "cell_type": "markdown",
      "metadata": {
        "id": "container:training,prediction,xgboost"
      },
      "source": [
        "### Set pre-built containers\n",
        "\n",
        "Set the pre-built Docker container image for training and prediction.\n",
        "\n",
        "\n",
        "For the latest list, see [Pre-built containers for training](https://cloud.google.com/ai-platform-unified/docs/training/pre-built-containers).\n",
        "\n",
        "\n",
        "For the latest list, see [Pre-built containers for prediction](https://cloud.google.com/ai-platform-unified/docs/predictions/pre-built-containers)."
      ]
    },
    {
      "cell_type": "code",
      "execution_count": null,
      "metadata": {
        "id": "XujRA5ueox9U"
      },
      "outputs": [],
      "source": [
        "SERVE_IMAGE = vertex_ai.helpers.get_prebuilt_prediction_container_uri(\n",
        "            framework='sklearn',\n",
        "            framework_version='1.0',\n",
        "            accelerator= \"cpu\"\n",
        "        )"
      ]
    },
    {
      "cell_type": "markdown",
      "source": [
        "### Initialize Experiment run"
      ],
      "metadata": {
        "id": "9JSL9CzsZZZT"
      }
    },
    {
      "cell_type": "code",
      "source": [
        "run = vertex_ai.start_run(EXPERIMENT_RUN_NAME)"
      ],
      "metadata": {
        "id": "AmHX6qy6ZVoq"
      },
      "execution_count": null,
      "outputs": []
    },
    {
      "cell_type": "markdown",
      "source": [
        "## Model experimentation with pre-built data pre-processing code"
      ],
      "metadata": {
        "id": "tysB_Zy68KIe"
      }
    },
    {
      "cell_type": "markdown",
      "source": [
        "### Data preprocessing\n",
        "\n",
        "In this step, you simulate some preprocessing on raw data to create the training dataset.\n",
        "\n",
        "Notice you add the preprocessing step to the experiment context for replicability.\n",
        "\n"
      ],
      "metadata": {
        "id": "vEyXGFqq8cR_"
      }
    },
    {
      "cell_type": "markdown",
      "source": [
        "#### Create a Dataset Metadata Artifact"
      ],
      "metadata": {
        "id": "43K9jkygpv9w"
      }
    },
    {
      "cell_type": "code",
      "execution_count": null,
      "metadata": {
        "id": "configured-fetish"
      },
      "outputs": [],
      "source": [
        "raw_dataset_artifact = vertex_ai.Artifact.create(\n",
        "    schema_title='system.Dataset',\n",
        "    display_name=DATASET_NAME,\n",
        "    uri=DATASET_URI)"
      ]
    },
    {
      "cell_type": "markdown",
      "source": [
        "#### Create a preprocess module"
      ],
      "metadata": {
        "id": "ZrtoR-V0GVzy"
      }
    },
    {
      "cell_type": "code",
      "source": [
        "\"\"\"\n",
        "Preprocess module\n",
        "\"\"\"\n",
        "\n",
        "import string\n",
        "import pandas as pd\n",
        "\n",
        "def preprocess(df: pd.DataFrame, text_col: str) -> pd.DataFrame:\n",
        "    \"\"\"\n",
        "    Preprocess text\n",
        "    Args:\n",
        "        df: The DataFrame to preprocesss\n",
        "        text_col: The text column name\n",
        "    Returns:\n",
        "        preprocessed_df: The datafrane with text in lowercase and without punctuation\n",
        "    \"\"\"\n",
        "    preprocessed_df = df.copy()\n",
        "    preprocessed_df[text_col] = preprocessed_df[text_col].apply(lambda x: x.lower())\n",
        "    preprocessed_df[text_col] = preprocessed_df[text_col].apply(lambda x: x.translate(str.maketrans('', \n",
        "                                                                                                    '', \n",
        "                                                                                                    string.punctuation)))\n",
        "    return preprocessed_df"
      ],
      "metadata": {
        "id": "DjCc1Us_Gb5Q"
      },
      "execution_count": null,
      "outputs": []
    },
    {
      "cell_type": "markdown",
      "source": [
        "#### Add the `preprocessing` Execution"
      ],
      "metadata": {
        "id": "vSVFPWU9DFw_"
      }
    },
    {
      "cell_type": "code",
      "source": [
        "with vertex_ai.start_execution(schema_title='system.ContainerExecution',\n",
        "                                display_name=PREPROCESS_EXECUTION_NAME) as exec:\n",
        "    logging.info(f'Start {PREPROCESS_EXECUTION_NAME} execution.')\n",
        "    exec.assign_input_artifacts([raw_dataset_artifact])\n",
        "\n",
        "    # Log preprocessing params --------------------------------------------------\n",
        "    logging.info('Log preprocessing params.')\n",
        "    vertex_ai.log_params({'delimiter': DELIMITER, 'names': COLUMN_NAMES, \n",
        "                          'index_col': INDEX_COL})\n",
        "    \n",
        "    # Preprocessing ------------------------------------------------------------\n",
        "    logging.info('Preprocessing.')\n",
        "    raw_df = pd.read_csv(raw_dataset_artifact.uri, delimiter=DELIMITER, \n",
        "                         names=COLUMN_NAMES, index_col=INDEX_COL)\n",
        "    preprocessed_df = preprocess(raw_df, 'title')\n",
        "    preprocessed_df.to_csv(PREPROCESSED_DATASET_URI, sep=\",\")\n",
        "    \n",
        "    # Log preprocessing metrics and store dataset artifact ---------------------\n",
        "    logging.info(f'Log preprocessing metrics and {PREPROCESSED_DATASET_NAME} dataset.')\n",
        "    vertex_ai.log_metrics({'n_records': preprocessed_df.shape[0],\n",
        "                            'n_columns': preprocessed_df.shape[1],\n",
        "                            'dtypes': {col: str(preprocessed_df[col].dtype) \n",
        "                            for col in preprocessed_df.columns}},\n",
        "                           )\n",
        "    \n",
        "    preprocessed_dataset_metadata = vertex_ai.Artifact.create(\n",
        "        schema_title='system.Dataset',\n",
        "        display_name=PREPROCESSED_DATASET_NAME,\n",
        "        uri=PREPROCESSED_DATASET_URI)\n",
        "    exec.assign_output_artifacts([preprocessed_dataset_metadata])"
      ],
      "metadata": {
        "id": "NI5e4a44EH4S"
      },
      "execution_count": null,
      "outputs": []
    },
    {
      "cell_type": "markdown",
      "source": [
        "### Model Training"
      ],
      "metadata": {
        "id": "blqKeaw9cigK"
      }
    },
    {
      "cell_type": "markdown",
      "source": [
        "#### Create model training module"
      ],
      "metadata": {
        "id": "9DIhphAwcpl2"
      }
    },
    {
      "cell_type": "code",
      "source": [
        "\"\"\"\n",
        "Train module\n",
        "\"\"\"\n",
        "from pathlib import Path as p\n",
        "import pandas as pd\n",
        "from sklearn.model_selection import train_test_split\n",
        "from sklearn.pipeline import Pipeline\n",
        "from sklearn.feature_extraction.text import CountVectorizer, TfidfTransformer\n",
        "from sklearn.naive_bayes import MultinomialNB\n",
        "import joblib\n",
        "\n",
        "\n",
        "def get_training_split(x: pd.DataFrame, y: pd.Series, test_size: float, \n",
        "                       random_state: int) -> (pd.DataFrame, pd.Series, \n",
        "                                              pd.DataFrame, pd.Series):\n",
        "    \"\"\"\n",
        "    Splits data into training and testing sets\n",
        "    Args:\n",
        "        x: The data to be split\n",
        "        y: The labels to be split\n",
        "        test_size: The proportion of the data to be reserved for testing\n",
        "        random_state: The seed used by the random number generator\n",
        "    Returns:\n",
        "        x_train: The training data\n",
        "        x_test: The testing data\n",
        "        y_train: The training labels\n",
        "        y_test: The testing labels\n",
        "    \"\"\"\n",
        "\n",
        "    x_train, x_val, y_train, y_val = train_test_split(x, y, test_size=test_size, \n",
        "                                                      random_state=random_state)\n",
        "    return x_train, x_val, y_train, y_val\n",
        "\n",
        "def get_pipeline():\n",
        "    \"\"\"\n",
        "    Get the model\n",
        "    Args:\n",
        "        None\n",
        "    Returns:\n",
        "        model: The model\n",
        "    \"\"\"\n",
        "    model = Pipeline([\n",
        "        ('vect', CountVectorizer()),\n",
        "        ('tfidf', TfidfTransformer()),\n",
        "        ('clf', MultinomialNB())\n",
        "    ])\n",
        "    return model\n",
        "\n",
        "def train_pipeline(model: Pipeline, X_train: pd.Series, y_train: pd.Series) -> Pipeline:\n",
        "    \"\"\"\n",
        "    Train the model\n",
        "    Args:\n",
        "        model: The model to train\n",
        "        X_train: The training data\n",
        "        y_train: The training labels\n",
        "    Returns:\n",
        "        model: The trained model\n",
        "    \"\"\"\n",
        "    model.fit(X_train, y_train)\n",
        "    return model\n",
        "\n",
        "def evaluate_model(model: Pipeline, X_test: pd.Series, \n",
        "                   y_test: pd.Series) -> float:\n",
        "    \"\"\"\n",
        "    Evaluate the model\n",
        "    Args:\n",
        "        model: The model to evaluate\n",
        "        X_test: The testing data\n",
        "        y_test: The testing labels\n",
        "    Returns:\n",
        "        score: The accuracy of the model\n",
        "    \"\"\"\n",
        "    score = model.score(X_test, y_test)\n",
        "    return round(score, 5)\n",
        "\n",
        "def save_model(model: Pipeline, save_path: str) -> int:\n",
        "  model_path = f'{save_path}/model.joblib'\n",
        "  try:\n",
        "    joblib.dump(model, tf.io.gfile.GFile(model_path, 'wb'))\n",
        "  except RuntimeError as error:\n",
        "    print(error)\n",
        "  return 1\n"
      ],
      "metadata": {
        "id": "XAV2Ew1Gc-dk"
      },
      "execution_count": null,
      "outputs": []
    },
    {
      "cell_type": "markdown",
      "source": [
        "#### Add the `train` Execution"
      ],
      "metadata": {
        "id": "AHqNQ66EntqP"
      }
    },
    {
      "cell_type": "code",
      "source": [
        "with vertex_ai.start_execution(schema_title='system.ContainerExecution',\n",
        "                                display_name=TRAIN_EXECUTION_NAME) as exec:\n",
        "\n",
        "    exec.assign_input_artifacts([preprocessed_dataset_metadata])\n",
        "\n",
        "    # Get training and testing data\n",
        "    logging.info('Get training and testing data.')\n",
        "    x_train, x_val, y_train, y_val = get_training_split(preprocessed_df[FEATURES], \n",
        "                                                        preprocessed_df[TARGET],\n",
        "                                                        test_size=TEST_SIZE, \n",
        "                                                        random_state=SEED)\n",
        "    # Get model pipeline\n",
        "    logging.info('Get model pipeline.')\n",
        "    pipeline = get_pipeline()\n",
        "\n",
        "    # Log training param -------------------------------------------------------\n",
        "\n",
        "    # Log data parameters\n",
        "    logging.info('Log data parameters.')\n",
        "    vertex_ai.log_params({'target': TARGET, 'features': FEATURES, \n",
        "                          'test_size': TEST_SIZE, 'random_state': SEED})\n",
        "    \n",
        "    # Log pipeline parameters\n",
        "    logging.info('Log pipeline parameters.')\n",
        "    vertex_ai.log_params({'pipeline_steps': {step[0]: str(step[1].__class__) \n",
        "    for step in pipeline.steps}})\n",
        "\n",
        "    # Training -----------------------------------------------------------------\n",
        "    \n",
        "    # Train model pipeline\n",
        "    logging.info('Train model pipeline.')\n",
        "    train_start = time.time()\n",
        "    trained_pipeline = train_pipeline(pipeline, x_train, y_train)\n",
        "    train_end = time.time()\n",
        "\n",
        "    # Evaluate model\n",
        "    logging.info('Evaluate model.')\n",
        "    score = evaluate_model(trained_pipeline, x_val, y_val)\n",
        "\n",
        "    # Log training metrics and store model artifact ----------------------------\n",
        "\n",
        "    # Log training metrics\n",
        "    logging.info('Log training metrics.')\n",
        "    vertex_ai.log_metrics({'train_time': train_end - train_start})\n",
        "    vertex_ai.log_metrics({'score': score})\n",
        "\n",
        "    # Upload Model on Vertex AI\n",
        "    logging.info('Upload Model on Vertex AI.')\n",
        "    loaded = save_model(trained_pipeline, TRAINED_MODEL_URI)\n",
        "    if loaded:\n",
        "      model = vertex_ai.Model.upload(\n",
        "        serving_container_image_uri=SERVE_IMAGE,\n",
        "        artifact_uri=TRAINED_MODEL_URI,\n",
        "        display_name = MODEL_NAME\n",
        "      )\n",
        "      \n",
        "    exec.assign_output_artifacts([model])"
      ],
      "metadata": {
        "id": "5-kIK4obcbSr"
      },
      "execution_count": null,
      "outputs": []
    },
    {
      "cell_type": "markdown",
      "source": [
        "### Visualize Experiment Lineage"
      ],
      "metadata": {
        "id": "0KQbDqiRBV9x"
      }
    },
    {
      "cell_type": "code",
      "source": [
        "print('Open the following link:', exec.get_output_artifacts()[0].lineage_console_uri)"
      ],
      "metadata": {
        "id": "4L_XvSllBeqC"
      },
      "execution_count": null,
      "outputs": []
    },
    {
      "cell_type": "markdown",
      "metadata": {
        "id": "TpV-iwP9qw9c"
      },
      "source": [
        "## Cleaning up\n",
        "\n",
        "To clean up all Google Cloud resources used in this project, you can [delete the Google Cloud\n",
        "project](https://cloud.google.com/resource-manager/docs/creating-managing-projects#shutting_down_projects) you used for the tutorial.\n",
        "\n",
        "Otherwise, you can delete the individual resources you created in this tutorial."
      ]
    },
    {
      "cell_type": "code",
      "source": [
        "# Delete experiment\n",
        "exp = vertex_ai.Experiment(EXPERIMENT_NAME)\n",
        "exp.delete(\n",
        "    delete_experiment_runs=True)"
      ],
      "metadata": {
        "id": "uGvJieN5BjPG"
      },
      "execution_count": null,
      "outputs": []
    },
    {
      "cell_type": "code",
      "source": [
        "# Delete model\n",
        "model_list = vertex_ai.Model.list(filter=f'display_name=\"{MODEL_NAME}\"')\n",
        "for model in model_list:\n",
        "  model.delete()\n",
        "\n",
        "# Delete dataset\n",
        "for dataset_name in [DATASET_NAME, PREPROCESSED_DATASET_NAME]:\n",
        "  dataset_list = vertex_ai.TabularDataset.list(filter=f'display_name=\"{dataset_name}\"')\n",
        "  for dataset in dataset_list:\n",
        "    dataset.delete()"
      ],
      "metadata": {
        "id": "gW8Ddbr8xaKp"
      },
      "execution_count": null,
      "outputs": []
    },
    {
      "cell_type": "code",
      "execution_count": null,
      "metadata": {
        "id": "sx_vKniMq9ZX"
      },
      "outputs": [],
      "source": [
        "# Delete Cloud Storage objects that were created\n",
        "! gsutil -m rm -r $BUCKET_URI"
      ]
    }
  ],
  "metadata": {
    "colab": {
      "collapsed_sections": [],
      "name": "get_started_with_model_experimentation_preprocessed_data.ipynb",
      "provenance": []
    },
    "kernelspec": {
      "display_name": "Python 3",
      "name": "python3"
    }
  },
  "nbformat": 4,
  "nbformat_minor": 0
}