{
  "cells": [
    {
      "cell_type": "code",
      "execution_count": null,
      "metadata": {
        "id": "ur8xi4C7S06n"
      },
      "outputs": [],
      "source": [
        "# Copyright 2021 Google LLC\n",
        "#\n",
        "# Licensed under the Apache License, Version 2.0 (the \"License\");\n",
        "# you may not use this file except in compliance with the License.\n",
        "# You may obtain a copy of the License at\n",
        "#\n",
        "#     https://www.apache.org/licenses/LICENSE-2.0\n",
        "#\n",
        "# Unless required by applicable law or agreed to in writing, software\n",
        "# distributed under the License is distributed on an \"AS IS\" BASIS,\n",
        "# WITHOUT WARRANTIES OR CONDITIONS OF ANY KIND, either express or implied.\n",
        "# See the License for the specific language governing permissions and\n",
        "# limitations under the License."
      ]
    },
    {
      "cell_type": "markdown",
      "metadata": {
        "id": "JAPoU8Sm5E6e"
      },
      "source": [
        "# Build Vertex AI Experiment lineage for custom training\n",
        "\n",
        "<table align=\"left\">\n",
        "\n",
        "  <td>\n",
        "    <a href=\"https://colab.research.google.com/github/GoogleCloudPlatform/vertex-ai-samples/blob/main/notebooks/official/experiments/build_model_experimentation_lineage_with_prebuild_code.ipynb\">\n",
        "      <img src=\"https://cloud.google.com/ml-engine/images/colab-logo-32px.png\" alt=\"Colab logo\"> Run in Colab\n",
        "    </a>\n",
        "  </td>\n",
        "  <td>\n",
        "    <a href=\"https://github.com/GoogleCloudPlatform/vertex-ai-samples/blob/main/notebooks/official/experiments/build_model_experimentation_lineage_with_prebuild_code.ipynb\">\n",
        "      <img src=\"https://cloud.google.com/ml-engine/images/github-logo-32px.png\" alt=\"GitHub logo\">\n",
        "      View on GitHub\n",
        "    </a>\n",
        "  </td>\n",
        "  <td>\n",
        "    <a href=\"https://console.cloud.google.com/vertex-ai/workbench/deploy-notebook?download_url=https://raw.githubusercontent.com/GoogleCloudPlatform/vertex-ai-samples/main/notebooks/official/experiments/build_model_experimentation_lineage_with_prebuild_code.ipynb\">\n",
        "      <img src=\"https://lh3.googleusercontent.com/UiNooY4LUgW_oTvpsNhPpQzsstV5W8F7rYgxgGBD85cWJoLmrOzhVs_ksK_vgx40SHs7jCqkTkCk=e14-rj-sc0xffffff-h130-w32\" alt=\"Vertex AI logo\">\n",
        "      Open in Vertex AI Workbench\n",
        "    </a>\n",
        "  </td>                                                                                               \n",
        "</table>\n"
      ]
    },
    {
      "cell_type": "markdown",
      "metadata": {
        "id": "d975c5729f18"
      },
      "source": [
        "## Overview\n",
        "\n",
        "As a Data Scientist, you want to be able to reuse code path (data preprocessing, feature engineering etc...) that others within your team have written to simplify and standardize all the complex data wrangling. \n",
        "\n",
        "Learn more about [Vertex AI Experiments](https://cloud.google.com/vertex-ai/docs/experiments/intro-vertex-ai-experiments) and [Vertex ML Metadata](https://cloud.google.com/vertex-ai/docs/ml-metadata)."
      ]
    },
    {
      "cell_type": "markdown",
      "metadata": {
        "id": "3a0f8061b9c1"
      },
      "source": [
        "### Objective\n",
        "\n",
        "In this notebook, you learn how to integrate preprocessing code in a Vertex AI experiments. Also you build the experiment lineage lets you record, analyze, debug, and audit metadata and artifacts produced along your ML journey.\n",
        "\n",
        "This tutorial uses the following Google Cloud ML services and resources:\n",
        "\n",
        "- Vertex ML Metadata\n",
        "- Vertex AI Experiments\n",
        "\n",
        "The steps performed include:\n",
        "\n",
        "- Execute module for preprocessing data\n",
        "  - Create a dataset artifact\n",
        "  - Log parameters\n",
        "-  Execute module for training the model\n",
        "  - Log parameters\n",
        "  - Create model artifact\n",
        "  - Assign tracking lineage to dataset, model and parameters"
      ]
    },
    {
      "cell_type": "markdown",
      "metadata": {
        "id": "tvgnzT1CKxrO"
      },
      "source": [
        "### Dataset\n",
        "\n",
        "This dataset is the UCI News Aggregator Data Set which contains 422,937 news collected between March 10th, 2014 and August 10th, 2014. Below are example records from the dataset:\n",
        "\n",
        "\n",
        "|ID |TITLE                                                                |URL                                                                                                                        |PUBLISHER        |CATEGORY|STORY                        |HOSTNAME           |TIMESTAMP    |\n",
        "|---|---------------------------------------------------------------------|---------------------------------------------------------------------------------------------------------------------------|-----------------|--------|-----------------------------|-------------------|-------------|\n",
        "|1  |Fed official says weak data caused by weather, should not slow taper |http://www.latimes.com/business/money/la-fi-mo-federal-reserve-plosser-stimulus-economy-20140310,0,1312750.story\\?track=rss|Los Angeles Times|b       |ddUyU0VZz0BRneMioxUPQVP6sIxvM|www.latimes.com    |1394470370698|\n",
        "|2  |Fed's Charles Plosser sees high bar for change in pace of tapering   |http://www.livemint.com/Politics/H2EvwJSK2VE6OF7iK1g3PP/Feds-Charles-Plosser-sees-high-bar-for-change-in-pace-of-ta.html   |Livemint         |b       |ddUyU0VZz0BRneMioxUPQVP6sIxvM|www.livemint.com   |1394470371207|\n",
        "|3  |US open: Stocks fall after Fed official hints at accelerated tapering|http://www.ifamagazine.com/news/us-open-stocks-fall-after-fed-official-hints-at-accelerated-tapering-294436                |IFA Magazine     |b       |ddUyU0VZz0BRneMioxUPQVP6sIxvM|www.ifamagazine.com|1394470371550|\n",
        "|4  |Fed risks falling 'behind the curve', Charles Plosser says           |http://www.ifamagazine.com/news/fed-risks-falling-behind-the-curve-charles-plosser-says-294430                             |IFA Magazine     |b       |ddUyU0VZz0BRneMioxUPQVP6sIxvM|www.ifamagazine.com|1394470371793|\n",
        "|5  |Fed's Plosser: Nasty Weather Has Curbed Job Growth                   |http://www.moneynews.com/Economy/federal-reserve-charles-plosser-weather-job-growth/2014/03/10/id/557011                   |Moneynews        |b       |ddUyU0VZz0BRneMioxUPQVP6sIxvM|www.moneynews.com  |1394470372027|"
      ]
    },
    {
      "cell_type": "markdown",
      "metadata": {
        "id": "5e2eba58ad71"
      },
      "source": [
        "### Costs \n",
        "\n",
        "This tutorial uses billable components of Google Cloud:\n",
        "\n",
        "* Vertex AI\n",
        "* Cloud Storage\n",
        "\n",
        "Learn about [Vertex AI\n",
        "pricing](https://cloud.google.com/vertex-ai/pricing) and [Cloud Storage\n",
        "pricing](https://cloud.google.com/storage/pricing), and use the [Pricing\n",
        "Calculator](https://cloud.google.com/products/calculator/)\n",
        "to generate a cost estimate based on your projected usage."
      ]
    },
    {
      "cell_type": "markdown",
      "metadata": {
        "id": "i7EUnXsZhAGF"
      },
      "source": [
        "### Install additional packages\n",
        "\n",
        "Install additional package dependencies not installed in your notebook environment."
      ]
    },
    {
      "cell_type": "code",
      "execution_count": null,
      "metadata": {
        "id": "2b4ef9b72d43"
      },
      "outputs": [],
      "source": [
        "! pip3 install --upgrade --quiet joblib fsspec gcsfs scikit-learn \n",
        "! pip3 install --upgrade --quiet google-cloud-aiplatform "
      ]
    },
    {
      "cell_type": "markdown",
      "metadata": {
        "id": "restart"
      },
      "source": [
        "### Colab only: Uncomment the following cell to restart the kernel"
      ]
    },
    {
      "cell_type": "code",
      "execution_count": null,
      "metadata": {
        "id": "D-ZBOjErv5mM"
      },
      "outputs": [],
      "source": [
        "# Automatically restart kernel after installs so that your environment can access the new packages\n",
        "# import IPython\n",
        "\n",
        "# app = IPython.Application.instance()\n",
        "# app.kernel.do_shutdown(True)"
      ]
    },
    {
      "cell_type": "markdown",
      "metadata": {
        "id": "yfEglUHQk9S3"
      },
      "source": [
        "## Before you begin\n",
        "\n",
        "### Set your project ID\n",
        "\n",
        "**If you don't know your project ID**, try the following:\n",
        "* Run `gcloud config list`.\n",
        "* Run `gcloud projects list`.\n",
        "* See the support page: [Locate the project ID](https://support.google.com/googleapi/answer/7014113)"
      ]
    },
    {
      "cell_type": "code",
      "execution_count": null,
      "metadata": {
        "id": "set_project_id"
      },
      "outputs": [],
      "source": [
        "PROJECT_ID = \"[your-project-id]\"  # @param {type:\"string\"}\n",
        "\n",
        "# Set the project id\n",
        "! gcloud config set project {PROJECT_ID}"
      ]
    },
    {
      "cell_type": "markdown",
      "metadata": {
        "id": "region"
      },
      "source": [
        "#### Region\n",
        "\n",
        "You can also change the `REGION` variable used by Vertex AI. Learn more about [Vertex AI regions](https://cloud.google.com/vertex-ai/docs/general/locations)."
      ]
    },
    {
      "cell_type": "code",
      "execution_count": null,
      "metadata": {
        "id": "region"
      },
      "outputs": [],
      "source": [
        "REGION = \"us-central1\"  # @param {type: \"string\"}"
      ]
    },
    {
      "cell_type": "markdown",
      "metadata": {
        "id": "gcp_authenticate"
      },
      "source": [
        "### Authenticate your Google Cloud account\n",
        "\n",
        "Depending on your Jupyter environment, you may have to manually authenticate. Follow the relevant instructions below.\n",
        "\n",
        "**1. Vertex AI Workbench**\n",
        "* Do nothing as you are already authenticated.\n",
        "\n",
        "**2. Local JupyterLab instance, uncomment and run:**"
      ]
    },
    {
      "cell_type": "code",
      "execution_count": null,
      "metadata": {
        "id": "ce6043da7b33"
      },
      "outputs": [],
      "source": [
        "# ! gcloud auth login"
      ]
    },
    {
      "cell_type": "markdown",
      "metadata": {
        "id": "0367eac06a10"
      },
      "source": [
        "**3. Colab, uncomment and run:**"
      ]
    },
    {
      "cell_type": "code",
      "execution_count": null,
      "metadata": {
        "id": "21ad4dbb4a61"
      },
      "outputs": [],
      "source": [
        "# from google.colab import auth\n",
        "# auth.authenticate_user()"
      ]
    },
    {
      "cell_type": "markdown",
      "metadata": {
        "id": "c13224697bfb"
      },
      "source": [
        "**4. Service account or other**\n",
        "* See how to grant Cloud Storage permissions to your service account at https://cloud.google.com/storage/docs/gsutil/commands/iam#ch-examples."
      ]
    },
    {
      "cell_type": "markdown",
      "metadata": {
        "id": "bucket:mbsdk"
      },
      "source": [
        "### Create a Cloud Storage bucket\n",
        "\n",
        "Create a storage bucket to store intermediate artifacts such as datasets."
      ]
    },
    {
      "cell_type": "code",
      "execution_count": null,
      "metadata": {
        "id": "bucket"
      },
      "outputs": [],
      "source": [
        "BUCKET_URI = f\"gs://your-bucket-name-{PROJECT_ID}-unique\"  # @param {type:\"string\"}"
      ]
    },
    {
      "cell_type": "markdown",
      "metadata": {
        "id": "create_bucket"
      },
      "source": [
        "**Only if your bucket doesn't already exist**: Run the following cell to create your Cloud Storage bucket."
      ]
    },
    {
      "cell_type": "code",
      "execution_count": null,
      "metadata": {
        "id": "create_bucket"
      },
      "outputs": [],
      "source": [
        "! gsutil mb -l {REGION} {BUCKET_URI}"
      ]
    },
    {
      "cell_type": "markdown",
      "metadata": {
        "id": "0ljjTziu90rZ"
      },
      "source": [
        "### Set data folder"
      ]
    },
    {
      "cell_type": "code",
      "execution_count": null,
      "metadata": {
        "id": "oigzvA4m937q"
      },
      "outputs": [],
      "source": [
        "DATA_PATH = \"data\"\n",
        "! mkdir -m 777 -p {DATA_PATH}"
      ]
    },
    {
      "cell_type": "markdown",
      "metadata": {
        "id": "UTjfRk2I9CGO"
      },
      "source": [
        "### Get the data"
      ]
    },
    {
      "cell_type": "code",
      "execution_count": null,
      "metadata": {
        "id": "L4tPQ0lG9HoG"
      },
      "outputs": [],
      "source": [
        "DATASET_URL = \"https://archive.ics.uci.edu/ml/machine-learning-databases/00359/NewsAggregatorDataset.zip\"\n",
        "! wget --no-parent {DATASET_URL} --directory-prefix={DATA_PATH}\n",
        "! mkdir -m 777 -p {DATA_PATH}/temp {DATA_PATH}/raw\n",
        "! unzip {DATA_PATH}/*.zip -d {DATA_PATH}/temp\n",
        "! mv {DATA_PATH}/temp/*.csv {DATA_PATH}/raw && rm -Rf {DATA_PATH}/temp && rm -f {DATA_PATH}/*.zip\n",
        "\n",
        "! gsutil -m cp -R {DATA_PATH}/raw $BUCKET_URI/{DATA_PATH}/raw"
      ]
    },
    {
      "cell_type": "markdown",
      "metadata": {
        "id": "XoEqT2Y4DJmf"
      },
      "source": [
        "### Import libraries"
      ]
    },
    {
      "cell_type": "code",
      "execution_count": null,
      "metadata": {
        "id": "pRUOFELefqf1"
      },
      "outputs": [],
      "source": [
        "# General\n",
        "import logging\n",
        "\n",
        "logger = logging.getLogger(\"logger\")\n",
        "logging.basicConfig(level=logging.INFO)\n",
        "\n",
        "import collections\n",
        "import tempfile\n",
        "import time\n",
        "import uuid\n",
        "from json import dumps\n",
        "\n",
        "collections.Iterable = collections.abc.Iterable\n",
        "\n",
        "# Vertex AI\n",
        "from google.cloud import aiplatform as vertex_ai"
      ]
    },
    {
      "cell_type": "markdown",
      "metadata": {
        "id": "oUiMepZvRiaa"
      },
      "source": [
        "### Define constants"
      ]
    },
    {
      "cell_type": "code",
      "execution_count": null,
      "metadata": {
        "id": "9zDMnU3gRhSn"
      },
      "outputs": [],
      "source": [
        "import os\n",
        "\n",
        "# Base\n",
        "DATASET_NAME = \"news_corpora\"\n",
        "DATASET_URI = f\"{BUCKET_URI}/{DATA_PATH}/raw/newsCorpora.csv\"\n",
        "\n",
        "# Experiments\n",
        "TASK = \"classification\"\n",
        "MODEL_TYPE = \"naivebayes\"\n",
        "EXPERIMENT_NAME = f\"{TASK}-{MODEL_TYPE}-{uuid.uuid1()}\"\n",
        "EXPERIMENT_RUN_NAME = \"run-1\"\n",
        "\n",
        "# Preprocessing\n",
        "PREPROCESSED_DATASET_NAME = f\"preprocessed_{DATASET_NAME}\"\n",
        "PREPROCESS_EXECUTION_NAME = \"preprocess\"\n",
        "COLUMN_NAMES = [\n",
        "    \"id\",\n",
        "    \"title\",\n",
        "    \"url\",\n",
        "    \"publisher\",\n",
        "    \"category\",\n",
        "    \"story\",\n",
        "    \"hostname\",\n",
        "    \"timestamp\",\n",
        "]\n",
        "DELIMITER = \"\t\"\n",
        "INDEX_COL = 0\n",
        "PREPROCESSED_DATASET_URI = (\n",
        "    f\"{BUCKET_URI}/{DATA_PATH}/preprocess/{PREPROCESSED_DATASET_NAME}.csv\"\n",
        ")\n",
        "\n",
        "# Training\n",
        "TRAIN_EXECUTION_NAME = \"train\"\n",
        "TARGET = \"category\"\n",
        "TARGET_LABELS = [\"b\", \"t\", \"e\", \"m\"]\n",
        "FEATURES = \"title\"\n",
        "TEST_SIZE = 0.2\n",
        "SEED = 8\n",
        "TRAINED_MODEL_URI = f\"{BUCKET_URI}/deliverables/{uuid.uuid1()}\"\n",
        "MODEL_NAME = f\"{EXPERIMENT_NAME}-model\""
      ]
    },
    {
      "cell_type": "markdown",
      "metadata": {
        "id": "inR70nh38PeK"
      },
      "source": [
        "### Initialize Vertex AI SDK for Python\n",
        "\n",
        "Initialize the Vertex AI SDK for Python for your project and corresponding bucket."
      ]
    },
    {
      "cell_type": "code",
      "execution_count": null,
      "metadata": {
        "id": "Nz0nasrh8T3c"
      },
      "outputs": [],
      "source": [
        "vertex_ai.init(\n",
        "    project=PROJECT_ID, experiment=EXPERIMENT_NAME, staging_bucket=BUCKET_URI\n",
        ")"
      ]
    },
    {
      "cell_type": "markdown",
      "metadata": {
        "id": "container:training,prediction,xgboost"
      },
      "source": [
        "### Set prebuilt containers\n",
        "\n",
        "Set the prebuilt Docker container image for training and prediction.\n",
        "\n",
        "\n",
        "For the latest list, see [Prebuilt containers for training](https://cloud.google.com/ai-platform-unified/docs/training/pre-built-containers).\n",
        "\n",
        "\n",
        "For the latest list, see [Prebuilt containers for prediction](https://cloud.google.com/ai-platform-unified/docs/predictions/pre-built-containers)."
      ]
    },
    {
      "cell_type": "code",
      "execution_count": null,
      "metadata": {
        "id": "XujRA5ueox9U"
      },
      "outputs": [],
      "source": [
        "SERVE_IMAGE = vertex_ai.helpers.get_prebuilt_prediction_container_uri(\n",
        "    framework=\"sklearn\", framework_version=\"1.0\", accelerator=\"cpu\"\n",
        ")"
      ]
    },
    {
      "cell_type": "markdown",
      "metadata": {
        "id": "9JSL9CzsZZZT"
      },
      "source": [
        "### Initialize Experiment run"
      ]
    },
    {
      "cell_type": "code",
      "execution_count": null,
      "metadata": {
        "id": "AmHX6qy6ZVoq"
      },
      "outputs": [],
      "source": [
        "run = vertex_ai.start_run(EXPERIMENT_RUN_NAME)"
      ]
    },
    {
      "cell_type": "markdown",
      "metadata": {
        "id": "tysB_Zy68KIe"
      },
      "source": [
        "## Model experimentation with prebuilt data pre-processing code"
      ]
    },
    {
      "cell_type": "markdown",
      "metadata": {
        "id": "vEyXGFqq8cR_"
      },
      "source": [
        "### Data preprocessing\n",
        "\n",
        "In this step, you simulate some preprocessing on raw data to create the training dataset.\n",
        "\n",
        "Indeed it would happen that you have some data preprocessing that others within your team may have written. For that reason, you need a way to integrate the preprocessing code in your experiment runs to standardize and reuse all the complex data wrangling that you are dealing with. \n",
        "\n",
        "Using Vertex AI Experiments, you can track that code as part of the run execution by adding one `with` statement in your experiment context. "
      ]
    },
    {
      "cell_type": "markdown",
      "metadata": {
        "id": "43K9jkygpv9w"
      },
      "source": [
        "#### Create a Dataset Metadata Artifact\n",
        "\n",
        "First you create the Dataset artifact to track the dataset resource in the Vertex ML Metadata and create the experiment lineage."
      ]
    },
    {
      "cell_type": "code",
      "execution_count": null,
      "metadata": {
        "id": "configured-fetish"
      },
      "outputs": [],
      "source": [
        "raw_dataset_artifact = vertex_ai.Artifact.create(\n",
        "    schema_title=\"system.Dataset\", display_name=DATASET_NAME, uri=DATASET_URI\n",
        ")"
      ]
    },
    {
      "cell_type": "markdown",
      "metadata": {
        "id": "ZrtoR-V0GVzy"
      },
      "source": [
        "#### Create a preprocess module\n",
        "\n",
        "Next, you build a simple preprocessing module to convert the text case and remove the punctuation."
      ]
    },
    {
      "cell_type": "code",
      "execution_count": null,
      "metadata": {
        "id": "DjCc1Us_Gb5Q"
      },
      "outputs": [],
      "source": [
        "\"\"\"\n",
        "Preprocess module\n",
        "\"\"\"\n",
        "\n",
        "\n",
        "import string\n",
        "\n",
        "import pandas as pd\n",
        "\n",
        "\n",
        "def preprocess(df: pd.DataFrame, text_col: str) -> pd.DataFrame:\n",
        "    \"\"\"\n",
        "    Preprocess text\n",
        "    Args:\n",
        "        df: The DataFrame to preprocesss\n",
        "        text_col: The text column name\n",
        "    Returns:\n",
        "        preprocessed_df: The datafrane with text in lowercase and without punctuation\n",
        "    \"\"\"\n",
        "    preprocessed_df = df.copy()\n",
        "    preprocessed_df[text_col] = preprocessed_df[text_col].apply(lambda x: x.lower())\n",
        "    preprocessed_df[text_col] = preprocessed_df[text_col].apply(\n",
        "        lambda x: x.translate(str.maketrans(\"\", \"\", string.punctuation))\n",
        "    )\n",
        "    return preprocessed_df"
      ]
    },
    {
      "cell_type": "markdown",
      "metadata": {
        "id": "vSVFPWU9DFw_"
      },
      "source": [
        "#### Add the `preprocessing` Execution\n",
        "\n",
        "Vertex AI Experiments supports tracking both executions and artifacts. Executions are steps in an ML workflow that can include but are not limited to data preprocessing, training, and model evaluation. Executions can consume artifacts such as datasets and produce artifacts such as models.\n",
        "\n",
        "You add the preprocessing step to track its execution in the lineage associated to Vertex AI Experiment. \n",
        "For Vertex AI, the parameters are passed inside the message field which we see in the logs. These structures of the logs are predefined."
      ]
    },
    {
      "cell_type": "code",
      "execution_count": null,
      "metadata": {
        "id": "NI5e4a44EH4S"
      },
      "outputs": [],
      "source": [
        "with vertex_ai.start_execution(\n",
        "    schema_title=\"system.ContainerExecution\", display_name=PREPROCESS_EXECUTION_NAME\n",
        ") as exc:\n",
        "    logging.info(f\"Start {PREPROCESS_EXECUTION_NAME} execution.\")\n",
        "    exc.assign_input_artifacts([raw_dataset_artifact])\n",
        "\n",
        "    # Log preprocessing params --------------------------------------------------\n",
        "    logging.info(\"Log preprocessing params.\")\n",
        "    vertex_ai.log_params(\n",
        "        {\n",
        "            \"delimiter\": DELIMITER,\n",
        "            \"features\": dumps(COLUMN_NAMES),\n",
        "            \"index_col\": INDEX_COL,\n",
        "        }\n",
        "    )\n",
        "\n",
        "    # Preprocessing ------------------------------------------------------------\n",
        "    logging.info(\"Preprocessing.\")\n",
        "    raw_df = pd.read_csv(\n",
        "        raw_dataset_artifact.uri,\n",
        "        delimiter=DELIMITER,\n",
        "        names=COLUMN_NAMES,\n",
        "        index_col=INDEX_COL,\n",
        "    )\n",
        "    preprocessed_df = preprocess(raw_df, \"title\")\n",
        "    preprocessed_df.to_csv(PREPROCESSED_DATASET_URI, sep=\",\")\n",
        "\n",
        "    # Log preprocessing metrics and store dataset artifact ---------------------\n",
        "    logging.info(f\"Log preprocessing metrics and {PREPROCESSED_DATASET_NAME} dataset.\")\n",
        "    vertex_ai.log_metrics(\n",
        "        {\n",
        "            \"n_records\": preprocessed_df.shape[0],\n",
        "            \"n_columns\": preprocessed_df.shape[1],\n",
        "        },\n",
        "    )\n",
        "\n",
        "    preprocessed_dataset_metadata = vertex_ai.Artifact.create(\n",
        "        schema_title=\"system.Dataset\",\n",
        "        display_name=PREPROCESSED_DATASET_NAME,\n",
        "        uri=PREPROCESSED_DATASET_URI,\n",
        "    )\n",
        "    exc.assign_output_artifacts([preprocessed_dataset_metadata])"
      ]
    },
    {
      "cell_type": "markdown",
      "metadata": {
        "id": "blqKeaw9cigK"
      },
      "source": [
        "### Model Training\n",
        "\n",
        "In this step, you train a multinomial Naive Bayes pipeline."
      ]
    },
    {
      "cell_type": "markdown",
      "metadata": {
        "id": "9DIhphAwcpl2"
      },
      "source": [
        "#### Create model training module\n",
        "\n",
        "Below the training module.\n",
        "\n",
        "**get_training_split :** It takes parameters like  x(The data to be split), y(The labels to be split), test_size(The proportion of the data to be reserved for testing) and random_state(The seed used by the random number generator).\n",
        "This function return training data, testing data , The training labels and The testing labels.\n",
        "\n",
        "**get_pipeline :** It return's the model.\n",
        "\n",
        "**train_pipeline :** It train the model by using model, training data, training lables and return's the trained model.\n",
        "\n",
        "**evaluate_model :** It evaluate the model and return the accuracy of the model.\n"
      ]
    },
    {
      "cell_type": "code",
      "execution_count": null,
      "metadata": {
        "id": "XAV2Ew1Gc-dk"
      },
      "outputs": [],
      "source": [
        "\"\"\"\n",
        "Train module\n",
        "\"\"\"\n",
        "\n",
        "import joblib\n",
        "import pandas as pd\n",
        "from sklearn.feature_extraction.text import CountVectorizer, TfidfTransformer\n",
        "from sklearn.metrics import (accuracy_score, confusion_matrix, precision_score,\n",
        "                             recall_score)\n",
        "from sklearn.model_selection import train_test_split\n",
        "from sklearn.naive_bayes import MultinomialNB\n",
        "from sklearn.pipeline import Pipeline\n",
        "\n",
        "\n",
        "def get_training_split(\n",
        "    x: pd.DataFrame, y: pd.Series, test_size: float, random_state: int\n",
        ") -> (pd.DataFrame, pd.Series, pd.DataFrame, pd.Series):\n",
        "    \"\"\"\n",
        "    Splits data into training and testing sets\n",
        "    Args:\n",
        "        x: The data to be split\n",
        "        y: The labels to be split\n",
        "        test_size: The proportion of the data to be reserved for testing\n",
        "        random_state: The seed used by the random number generator\n",
        "    Returns:\n",
        "        x_train: The training data\n",
        "        x_test: The testing data\n",
        "        y_train: The training labels\n",
        "        y_test: The testing labels\n",
        "    \"\"\"\n",
        "\n",
        "    x_train, x_val, y_train, y_val = train_test_split(\n",
        "        x, y, test_size=test_size, random_state=random_state\n",
        "    )\n",
        "    return x_train, x_val, y_train, y_val\n",
        "\n",
        "\n",
        "def get_pipeline():\n",
        "    \"\"\"\n",
        "    Get the model\n",
        "    Args:\n",
        "        None\n",
        "    Returns:\n",
        "        model: The model\n",
        "    \"\"\"\n",
        "    model = Pipeline(\n",
        "        [\n",
        "            (\"vect\", CountVectorizer()),\n",
        "            (\"tfidf\", TfidfTransformer()),\n",
        "            (\"clf\", MultinomialNB()),\n",
        "        ]\n",
        "    )\n",
        "    return model\n",
        "\n",
        "\n",
        "def train_pipeline(model: Pipeline, X_train: pd.Series, y_train: pd.Series) -> Pipeline:\n",
        "    \"\"\"\n",
        "    Train the model\n",
        "    Args:\n",
        "        model: The model to train\n",
        "        X_train: The training data\n",
        "        y_train: The training labels\n",
        "    Returns:\n",
        "        model: The trained model\n",
        "    \"\"\"\n",
        "    model.fit(X_train, y_train)\n",
        "    return model\n",
        "\n",
        "\n",
        "def evaluate_model(model: Pipeline, X_test: pd.Series, y_test: pd.Series) -> float:\n",
        "    \"\"\"\n",
        "    Evaluate the model\n",
        "    Args:\n",
        "        model: The model to evaluate\n",
        "        X_test: The testing data\n",
        "        y_test: The testing labels\n",
        "    Returns:\n",
        "        score: The accuracy of the model\n",
        "    \"\"\"\n",
        "    # Evaluate model\n",
        "    y_pred = model.predict(X_test)\n",
        "\n",
        "    # Store evaluation metrics\n",
        "    summary_metrics = {\n",
        "        \"accuracy\": round(accuracy_score(y_test, y_pred), 5),\n",
        "        \"precision\": round(precision_score(y_test, y_pred, average=\"weighted\"), 5),\n",
        "        \"recall\": round(recall_score(y_test, y_pred, average=\"weighted\"), 5),\n",
        "    }\n",
        "    classification_metrics = {\n",
        "        \"matrix\": confusion_matrix(y_test, y_pred, labels=TARGET_LABELS).tolist(),\n",
        "        \"labels\": TARGET_LABELS,\n",
        "    }\n",
        "\n",
        "    return summary_metrics, classification_metrics\n",
        "\n",
        "\n",
        "def save_model(model: Pipeline, save_path: str) -> int:\n",
        "    try:\n",
        "        with tempfile.NamedTemporaryFile() as tmp:\n",
        "            joblib.dump(trained_pipeline, filename=tmp.name)\n",
        "            ! gsutil cp {tmp.name} {save_path}/model.joblib\n",
        "    except RuntimeError as error:\n",
        "        print(error)\n",
        "    return 1"
      ]
    },
    {
      "cell_type": "markdown",
      "metadata": {
        "id": "AHqNQ66EntqP"
      },
      "source": [
        "#### Add the `train` Execution\n",
        "\n",
        "Next, you add the training task to the experiment execution to update the experiment lineage."
      ]
    },
    {
      "cell_type": "code",
      "execution_count": null,
      "metadata": {
        "id": "5-kIK4obcbSr"
      },
      "outputs": [],
      "source": [
        "with vertex_ai.start_execution(\n",
        "    schema_title=\"system.ContainerExecution\", display_name=TRAIN_EXECUTION_NAME\n",
        ") as exc:\n",
        "\n",
        "    exc.assign_input_artifacts([preprocessed_dataset_metadata])\n",
        "\n",
        "    # Get training and testing data\n",
        "    logging.info(\"Get training and testing data.\")\n",
        "    x_train, x_val, y_train, y_val = get_training_split(\n",
        "        preprocessed_df[FEATURES],\n",
        "        preprocessed_df[TARGET],\n",
        "        test_size=TEST_SIZE,\n",
        "        random_state=SEED,\n",
        "    )\n",
        "    # Get model pipeline\n",
        "    logging.info(\"Get model pipeline.\")\n",
        "    pipeline = get_pipeline()\n",
        "\n",
        "    # Log training param -------------------------------------------------------\n",
        "\n",
        "    # Log data parameters\n",
        "    logging.info(\"Log data parameters.\")\n",
        "    vertex_ai.log_params(\n",
        "        {\n",
        "            \"target\": TARGET,\n",
        "            \"features\": FEATURES,\n",
        "            \"test_size\": TEST_SIZE,\n",
        "            \"random_state\": SEED,\n",
        "        }\n",
        "    )\n",
        "\n",
        "    # Log pipeline parameters\n",
        "    logging.info(\"Log pipeline parameters.\")\n",
        "    vertex_ai.log_params(\n",
        "        {\n",
        "            \"pipeline_steps\": dumps(\n",
        "                {step[0]: str(step[1].__class__.__name__) for step in pipeline.steps}\n",
        "            )\n",
        "        }\n",
        "    )\n",
        "\n",
        "    # Training -----------------------------------------------------------------\n",
        "\n",
        "    # Train model pipeline\n",
        "    logging.info(\"Train model pipeline.\")\n",
        "    train_start = time.time()\n",
        "    trained_pipeline = train_pipeline(pipeline, x_train, y_train)\n",
        "    train_end = time.time()\n",
        "\n",
        "    # Evaluate model\n",
        "    logging.info(\"Evaluate model.\")\n",
        "    summary_metrics, classification_metrics = evaluate_model(\n",
        "        trained_pipeline, x_val, y_val\n",
        "    )\n",
        "\n",
        "    # Log training metrics and store model artifact ----------------------------\n",
        "\n",
        "    # Log training metrics\n",
        "    logging.info(\"Log training metrics.\")\n",
        "    vertex_ai.log_metrics(summary_metrics)\n",
        "    vertex_ai.log_classification_metrics(\n",
        "        labels=classification_metrics[\"labels\"],\n",
        "        matrix=classification_metrics[\"matrix\"],\n",
        "        display_name=\"my-confusion-matrix\",\n",
        "    )\n",
        "\n",
        "    # Generate first ten predictions\n",
        "    logging.info(\"Generate prediction sample.\")\n",
        "    prediction_sample = trained_pipeline.predict(x_val)[:10]\n",
        "    print(\"prediction sample:\", prediction_sample)\n",
        "\n",
        "    # Upload Model on Vertex AI\n",
        "    logging.info(\"Upload Model on Vertex AI.\")\n",
        "    loaded = save_model(trained_pipeline, TRAINED_MODEL_URI)\n",
        "    if loaded:\n",
        "        model = vertex_ai.Model.upload(\n",
        "            serving_container_image_uri=SERVE_IMAGE,\n",
        "            artifact_uri=TRAINED_MODEL_URI,\n",
        "            display_name=MODEL_NAME,\n",
        "        )\n",
        "\n",
        "    exc.assign_output_artifacts([model])"
      ]
    },
    {
      "cell_type": "markdown",
      "metadata": {
        "id": "e595c893de8d"
      },
      "source": [
        "### Stop Experiment run"
      ]
    },
    {
      "cell_type": "code",
      "execution_count": null,
      "metadata": {
        "id": "ee96d6d8c0fa"
      },
      "outputs": [],
      "source": [
        "run.end_run()"
      ]
    },
    {
      "cell_type": "markdown",
      "metadata": {
        "id": "0KQbDqiRBV9x"
      },
      "source": [
        "### Visualize Experiment Lineage\n",
        "\n",
        "Below you get the link to Vertex AI Metadata UI in the console that show the experiment lineage."
      ]
    },
    {
      "cell_type": "code",
      "execution_count": null,
      "metadata": {
        "id": "4L_XvSllBeqC"
      },
      "outputs": [],
      "source": [
        "print(\"Open the following link:\", exc.get_output_artifacts()[0].lineage_console_uri)"
      ]
    },
    {
      "cell_type": "markdown",
      "metadata": {
        "id": "TpV-iwP9qw9c"
      },
      "source": [
        "## Cleaning up\n",
        "\n",
        "To clean up all Google Cloud resources used in this project, you can [delete the Google Cloud\n",
        "project](https://cloud.google.com/resource-manager/docs/creating-managing-projects#shutting_down_projects) you used for the tutorial.\n",
        "\n",
        "Otherwise, you can delete the individual resources you created in this tutorial."
      ]
    },
    {
      "cell_type": "code",
      "execution_count": null,
      "metadata": {
        "id": "uGvJieN5BjPG"
      },
      "outputs": [],
      "source": [
        "# Delete experiment\n",
        "exp = vertex_ai.Experiment(EXPERIMENT_NAME)\n",
        "exp.delete()\n",
        "\n",
        "# Delete model\n",
        "model_list = vertex_ai.Model.list(filter=f'display_name=\"{MODEL_NAME}\"')\n",
        "for model in model_list:\n",
        "    model.delete()\n",
        "\n",
        "# Delete dataset\n",
        "for dataset_name in [DATASET_NAME, PREPROCESSED_DATASET_NAME]:\n",
        "    dataset_list = vertex_ai.TabularDataset.list(\n",
        "        filter=f'display_name=\"{dataset_name}\"'\n",
        "    )\n",
        "    for dataset in dataset_list:\n",
        "        dataset.delete()\n",
        "\n",
        "# Delete Cloud Storage objects that were created\n",
        "delete_bucket = True\n",
        "\n",
        "if delete_bucket or os.getenv(\"IS_TESTING\"):\n",
        "    ! gsutil -m rm -r $BUCKET_URI\n",
        "\n",
        "!rm -Rf {DATA_PATH}"
      ]
    }
  ],
  "metadata": {
    "colab": {
      "collapsed_sections": [],
      "name": "build_model_experimentation_lineage_with_prebuild_code.ipynb",
      "toc_visible": true
    },
    "kernelspec": {
      "display_name": "Python 3",
      "name": "python3"
    }
  },
  "nbformat": 4,
  "nbformat_minor": 0
}
