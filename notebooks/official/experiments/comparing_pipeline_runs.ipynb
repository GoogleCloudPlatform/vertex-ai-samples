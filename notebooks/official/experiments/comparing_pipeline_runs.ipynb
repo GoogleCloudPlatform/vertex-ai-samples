{
  "cells": [
    {
      "cell_type": "code",
      "execution_count": null,
      "metadata": {
        "id": "ur8xi4C7S06n"
      },
      "outputs": [],
      "source": [
        "# Copyright 2022 Google LLC\n",
        "#\n",
        "# Licensed under the Apache License, Version 2.0 (the \"License\");\n",
        "# you may not use this file except in compliance with the License.\n",
        "# You may obtain a copy of the License at\n",
        "#\n",
        "#     https://www.apache.org/licenses/LICENSE-2.0\n",
        "#\n",
        "# Unless required by applicable law or agreed to in writing, software\n",
        "# distributed under the License is distributed on an \"AS IS\" BASIS,\n",
        "# WITHOUT WARRANTIES OR CONDITIONS OF ANY KIND, either express or implied.\n",
        "# See the License for the specific language governing permissions and\n",
        "# limitations under the License."
      ]
    },
    {
      "cell_type": "markdown",
      "metadata": {
        "id": "JAPoU8Sm5E6e"
      },
      "source": [
        "# Compare pipeline runs with Vertex AI Experiments\n",
        "\n",
        "<table align=\"left\">\n",
        "\n",
        "  <td>\n",
        "    <a href=\"https://colab.research.google.com/github/GoogleCloudPlatform/vertex-ai-samples/blob/main/notebooks/official/experiments/comparing_pipeline_runs.ipynb\">\n",
        "      <img src=\"https://cloud.google.com/ml-engine/images/colab-logo-32px.png\" alt=\"Colab logo\"> Run in Colab\n",
        "    </a>\n",
        "  </td>\n",
        "  <td>\n",
        "    <a href=\"https://github.com/GoogleCloudPlatform/vertex-ai-samples/blob/main/notebooks/official/experiments/comparing_pipeline_runs.ipynb\">\n",
        "      <img src=\"https://cloud.google.com/ml-engine/images/github-logo-32px.png\" alt=\"GitHub logo\">\n",
        "      View on GitHub\n",
        "    </a>\n",
        "  </td>\n",
        "  <td>\n",
        "    <a href=\"https://console.cloud.google.com/vertex-ai/workbench/deploy-notebook?download_url=https://raw.githubusercontent.com/GoogleCloudPlatform/vertex-ai-samples/main/notebooks/official/experiments/comparing_pipeline_runs.ipynb\">\n",
        "      <img src=\"https://lh3.googleusercontent.com/UiNooY4LUgW_oTvpsNhPpQzsstV5W8F7rYgxgGBD85cWJoLmrOzhVs_ksK_vgx40SHs7jCqkTkCk=e14-rj-sc0xffffff-h130-w32\" alt=\"Vertex AI logo\">\n",
        "      Open in Vertex AI Workbench\n",
        "    </a>\n",
        "  </td>                                                                                               \n",
        "</table>"
      ]
    },
    {
      "cell_type": "markdown",
      "metadata": {
        "id": "tvgnzT1CKxrO"
      },
      "source": [
        "## Overview\n",
        "\n",
        "Depending on the model life cycle of your data science team, you would like to experiment and track training pipeline runs and its associated parameters. Then, you would to compare runs of these Pipelines to each others in order to figure out which is the best configuration generates the model you will register in the Vertex AI Model Registry.\n",
        "\n",
        "Learn more about [Vertex AI Experiments](https://cloud.google.com/vertex-ai/docs/experiments/intro-vertex-ai-experiments) and [Vertex AI Pipelines](https://cloud.google.com/vertex-ai/docs/pipelines/introduction)."
      ]
    },
    {
      "cell_type": "markdown",
      "metadata": {
        "id": "d220917f1302"
      },
      "source": [
        "### Objective\n",
        "\n",
        "In this notebook, you learn how to use `Vertex AI Experiments` to log a pipeline job and compare different pipeline jobs.\n",
        "\n",
        "This tutorial uses the following Google Cloud ML services and resources:\n",
        "\n",
        "- Vertex AI Pipelines\n",
        "- Vertex AI Experiments\n",
        "\n",
        "The steps performed include:\n",
        "\n",
        "* Formalize a training component\n",
        "* Build a training pipeline\n",
        "* Run several Pipeline jobs and log their results\n",
        "* Compare different Pipeline jobs"
      ]
    },
    {
      "cell_type": "markdown",
      "metadata": {
        "id": "263933842022"
      },
      "source": [
        "### Dataset\n",
        "\n",
        "The dataset used for this tutorial is the [Iris dataset](https://www.tensorflow.org/datasets/catalog/iris) from [TensorFlow Datasets](https://www.tensorflow.org/datasets/catalog/overview). This dataset does not require any feature engineering. The version of the dataset you will use in this tutorial is stored in a public Cloud Storage bucket. The trained model predicts the type of Iris flower species from a class of three species: setosa, virginica, or versicolor.\n"
      ]
    },
    {
      "cell_type": "markdown",
      "metadata": {
        "id": "de76bb18c85b"
      },
      "source": [
        "### Costs \n",
        "\n",
        "This tutorial uses billable components of Google Cloud:\n",
        "\n",
        "* Vertex AI\n",
        "* Cloud Storage\n",
        "\n",
        "Learn about [Vertex AI\n",
        "pricing](https://cloud.google.com/vertex-ai/pricing) and [Cloud Storage\n",
        "pricing](https://cloud.google.com/storage/pricing), and use the [Pricing\n",
        "Calculator](https://cloud.google.com/products/calculator/)\n",
        "to generate a cost estimate based on your projected usage."
      ]
    },
    {
      "cell_type": "markdown",
      "metadata": {
        "id": "i7EUnXsZhAGF"
      },
      "source": [
        "### Install additional packages\n",
        "\n",
        "Install additional package dependencies not installed in your notebook environment."
      ]
    },
    {
      "cell_type": "code",
      "execution_count": null,
      "metadata": {
        "id": "2b4ef9b72d43"
      },
      "outputs": [],
      "source": [
        "! pip3 install --force-reinstall 'google-cloud-aiplatform>=1.15' -q --no-warn-conflicts\n",
        "! pip3 install kfp -q --no-warn-conflicts"
      ]
    },
    {
      "cell_type": "markdown",
      "metadata": {
        "id": "restart"
      },
      "source": [
        "### Colab only: Uncomment the following cell to restart the kernel"
      ]
    },
    {
      "cell_type": "code",
      "execution_count": null,
      "metadata": {
        "id": "D-ZBOjErv5mM"
      },
      "outputs": [],
      "source": [
        "# Automatically restart kernel after installs so that your environment can access the new packages\n",
        "# import IPython\n",
        "\n",
        "# app = IPython.Application.instance()\n",
        "# app.kernel.do_shutdown(True)"
      ]
    },
    {
      "cell_type": "markdown",
      "metadata": {
        "id": "yfEglUHQk9S3"
      },
      "source": [
        "## Before you begin\n",
        "\n",
        "### Set your project ID\n",
        "\n",
        "**If you don't know your project ID**, try the following:\n",
        "* Run `gcloud config list`.\n",
        "* Run `gcloud projects list`.\n",
        "* See the support page: [Locate the project ID](https://support.google.com/googleapi/answer/7014113)"
      ]
    },
    {
      "cell_type": "code",
      "execution_count": null,
      "metadata": {
        "id": "set_project_id"
      },
      "outputs": [],
      "source": [
        "PROJECT_ID = \"[your-project-id]\"  # @param {type:\"string\"}\n",
        "\n",
        "# Set the project id\n",
        "! gcloud config set project {PROJECT_ID}"
      ]
    },
    {
      "cell_type": "markdown",
      "metadata": {
        "id": "region"
      },
      "source": [
        "#### Region\n",
        "\n",
        "You can also change the `REGION` variable used by Vertex AI. Learn more about [Vertex AI regions](https://cloud.google.com/vertex-ai/docs/general/locations)."
      ]
    },
    {
      "cell_type": "code",
      "execution_count": null,
      "metadata": {
        "id": "region"
      },
      "outputs": [],
      "source": [
        "REGION = \"us-central1\"  # @param {type: \"string\"}"
      ]
    },
    {
      "cell_type": "markdown",
      "metadata": {
        "id": "gcp_authenticate"
      },
      "source": [
        "### Authenticate your Google Cloud account\n",
        "\n",
        "Depending on your Jupyter environment, you may have to manually authenticate. Follow the relevant instructions below.\n",
        "\n",
        "**1. Vertex AI Workbench**\n",
        "* Do nothing as you are already authenticated.\n",
        "\n",
        "**2. Local JupyterLab instance, uncomment and run:**"
      ]
    },
    {
      "cell_type": "code",
      "execution_count": null,
      "metadata": {
        "id": "ce6043da7b33"
      },
      "outputs": [],
      "source": [
        "# ! gcloud auth login"
      ]
    },
    {
      "cell_type": "markdown",
      "metadata": {
        "id": "0367eac06a10"
      },
      "source": [
        "**3. Colab, uncomment and run:**"
      ]
    },
    {
      "cell_type": "code",
      "execution_count": null,
      "metadata": {
        "id": "21ad4dbb4a61"
      },
      "outputs": [],
      "source": [
        "# from google.colab import auth\n",
        "# auth.authenticate_user()"
      ]
    },
    {
      "cell_type": "markdown",
      "metadata": {
        "id": "c13224697bfb"
      },
      "source": [
        "**4. Service account or other**\n",
        "* See how to grant Cloud Storage permissions to your service account at https://cloud.google.com/storage/docs/gsutil/commands/iam#ch-examples."
      ]
    },
    {
      "cell_type": "markdown",
      "metadata": {
        "id": "bucket:mbsdk"
      },
      "source": [
        "### Create a Cloud Storage bucket\n",
        "\n",
        "Create a storage bucket to store intermediate artifacts such as datasets."
      ]
    },
    {
      "cell_type": "code",
      "execution_count": null,
      "metadata": {
        "id": "bucket"
      },
      "outputs": [],
      "source": [
        "BUCKET_URI = f\"gs://your-bucket-name-{PROJECT_ID}-unique\"  # @param {type:\"string\"}"
      ]
    },
    {
      "cell_type": "markdown",
      "metadata": {
        "id": "create_bucket"
      },
      "source": [
        "**Only if your bucket doesn't already exist**: Run the following cell to create your Cloud Storage bucket."
      ]
    },
    {
      "cell_type": "code",
      "execution_count": null,
      "metadata": {
        "id": "create_bucket"
      },
      "outputs": [],
      "source": [
        "! gsutil mb -l $REGION $BUCKET_URI"
      ]
    },
    {
      "cell_type": "markdown",
      "metadata": {
        "id": "b7e24e522bee"
      },
      "source": [
        "#### Service Account\n",
        "\n",
        "**If you don't know your service account**, try to get your service account using `gcloud` command by executing the second cell below."
      ]
    },
    {
      "cell_type": "code",
      "execution_count": null,
      "metadata": {
        "id": "77b01a1fdbb4"
      },
      "outputs": [],
      "source": [
        "SERVICE_ACCOUNT = \"[your-service-account]\"  # @param {type:\"string\"}"
      ]
    },
    {
      "cell_type": "code",
      "execution_count": null,
      "metadata": {
        "id": "121d7ca29426"
      },
      "outputs": [],
      "source": [
        "import sys\n",
        "\n",
        "IS_COLAB = \"google.colab\" in sys.modules\n",
        "\n",
        "if (\n",
        "    SERVICE_ACCOUNT == \"\"\n",
        "    or SERVICE_ACCOUNT is None\n",
        "    or SERVICE_ACCOUNT == \"[your-service-account]\"\n",
        "):\n",
        "    # Get your service account from gcloud\n",
        "    if not IS_COLAB:\n",
        "        shell_output = !gcloud auth list 2>/dev/null\n",
        "        SERVICE_ACCOUNT = shell_output[2].replace(\"*\", \"\").strip()\n",
        "\n",
        "    if IS_COLAB:\n",
        "        shell_output = ! gcloud projects describe  $PROJECT_ID\n",
        "        project_number = shell_output[-1].split(\":\")[1].strip().replace(\"'\", \"\")\n",
        "        SERVICE_ACCOUNT = f\"{project_number}-compute@developer.gserviceaccount.com\"\n",
        "\n",
        "    print(\"Service Account:\", SERVICE_ACCOUNT)"
      ]
    },
    {
      "cell_type": "markdown",
      "metadata": {
        "id": "aa175e2960ac"
      },
      "source": [
        "#### Set service account access for Vertex AI Pipelines\n",
        "\n",
        "Run the following commands to grant your service account access to read and write pipeline artifacts in the bucket that you created in the previous step -- you only need to run these once per service account."
      ]
    },
    {
      "cell_type": "code",
      "execution_count": null,
      "metadata": {
        "id": "f88cb0488c08"
      },
      "outputs": [],
      "source": [
        "! gsutil iam ch serviceAccount:{SERVICE_ACCOUNT}:roles/storage.objectCreator $BUCKET_URI\n",
        "\n",
        "! gsutil iam ch serviceAccount:{SERVICE_ACCOUNT}:roles/storage.objectViewer $BUCKET_URI"
      ]
    },
    {
      "cell_type": "markdown",
      "metadata": {
        "id": "fXUqOdIaLbjf"
      },
      "source": [
        "### Download training dataset\n"
      ]
    },
    {
      "cell_type": "code",
      "execution_count": null,
      "metadata": {
        "id": "9fYX14c0LfmU"
      },
      "outputs": [],
      "source": [
        "DATASET_URI = \"gs://cloud-samples-data/ai-platform/iris\"\n",
        "\n",
        "!gsutil cp -r $DATASET_URI $BUCKET_URI"
      ]
    },
    {
      "cell_type": "markdown",
      "metadata": {
        "id": "XoEqT2Y4DJmf"
      },
      "source": [
        "### Import libraries and define constants"
      ]
    },
    {
      "cell_type": "code",
      "execution_count": null,
      "metadata": {
        "id": "pRUOFELefqf1"
      },
      "outputs": [],
      "source": [
        "import logging\n",
        "# General\n",
        "import os\n",
        "import time\n",
        "import uuid\n",
        "\n",
        "logger = logging.getLogger(\"logger\")\n",
        "logging.basicConfig(level=logging.INFO)\n",
        "\n",
        "import kfp.v2.compiler as compiler\n",
        "# Pipeline Experiments\n",
        "import kfp.v2.dsl as dsl\n",
        "# Vertex AI\n",
        "from google.cloud import aiplatform as vertex_ai\n",
        "from google.cloud.aiplatform_v1.types.pipeline_state import PipelineState\n",
        "from kfp.v2.dsl import Metrics, Model, Output, component"
      ]
    },
    {
      "cell_type": "code",
      "execution_count": null,
      "metadata": {
        "id": "OAY0QKZD8qNP"
      },
      "outputs": [],
      "source": [
        "# Experiments\n",
        "TASK = \"classification\"\n",
        "MODEL_TYPE = \"xgboost\"\n",
        "EXPERIMENT_NAME = f\"{PROJECT_ID}-{TASK}-{MODEL_TYPE}-{uuid.uuid1()}\"\n",
        "\n",
        "# Pipeline\n",
        "PIPELINE_TEMPLATE_FILE = \"pipeline.json\"\n",
        "PIPELINE_URI = f\"{BUCKET_URI}/pipelines\"\n",
        "TRAIN_URI = f\"{BUCKET_URI}/iris/iris_data.csv\"\n",
        "LABEL_URI = f\"{BUCKET_URI}/iris/iris_target.csv\"\n",
        "MODEL_URI = f\"{BUCKET_URI}/model\""
      ]
    },
    {
      "cell_type": "markdown",
      "metadata": {
        "id": "inR70nh38PeK"
      },
      "source": [
        "### Initialize Vertex AI SDK for Python\n",
        "\n",
        "Initialize the Vertex AI SDK for Python for your project and corresponding bucket."
      ]
    },
    {
      "cell_type": "code",
      "execution_count": null,
      "metadata": {
        "id": "Nz0nasrh8T3c"
      },
      "outputs": [],
      "source": [
        "vertex_ai.init(project=PROJECT_ID, staging_bucket=BUCKET_URI)"
      ]
    },
    {
      "cell_type": "markdown",
      "metadata": {
        "id": "container:training,prediction,xgboost"
      },
      "source": [
        "### Set pre-built containers\n",
        "\n",
        "Set the pre-built Docker container image for training and prediction.\n",
        "\n",
        "\n",
        "For the latest list, see [Pre-built containers for training](https://cloud.google.com/ai-platform-unified/docs/training/pre-built-containers).\n",
        "\n",
        "\n",
        "For the latest list, see [Pre-built containers for prediction](https://cloud.google.com/ai-platform-unified/docs/predictions/pre-built-containers)."
      ]
    },
    {
      "cell_type": "code",
      "execution_count": null,
      "metadata": {
        "id": "XujRA5ueox9U"
      },
      "outputs": [],
      "source": [
        "TRAIN_IMAGE = vertex_ai.helpers.get_prebuilt_prediction_container_uri(\n",
        "    framework=\"xgboost\", framework_version=\"1.1\", accelerator=\"cpu\"\n",
        ")"
      ]
    },
    {
      "cell_type": "markdown",
      "metadata": {
        "id": "t1NLYz1R-KWv"
      },
      "source": [
        "## Formalize your training as pipeline component\n"
      ]
    },
    {
      "cell_type": "markdown",
      "metadata": {
        "id": "jnfKxpj0-Z0H"
      },
      "source": [
        "Before you start running your pipeline experiments, you have to formalize your training as pipeline component.\n",
        "\n",
        "To do that, you build the pipeline by using the `kfp.v2.dsl.component` decorator to convert your training task into a pipeline component. "
      ]
    },
    {
      "cell_type": "code",
      "execution_count": null,
      "metadata": {
        "id": "jv_-vU46_eFN"
      },
      "outputs": [],
      "source": [
        "@component(\n",
        "    packages_to_install=[\n",
        "        \"numpy==1.18.5\",\n",
        "        \"pandas==1.0.4\",\n",
        "        \"scikit-learn==0.23.1\",\n",
        "        \"xgboost==1.1.1\",\n",
        "    ]\n",
        ")\n",
        "def custom_trainer(\n",
        "    train_uri: str,\n",
        "    label_uri: str,\n",
        "    max_depth: int,\n",
        "    learning_rate: float,\n",
        "    boost_rounds: int,\n",
        "    model_uri: str,\n",
        "    metrics: Output[Metrics],\n",
        "    model_metadata: Output[Model],\n",
        "):\n",
        "\n",
        "    # import libraries\n",
        "    import logging\n",
        "    import uuid\n",
        "    from pathlib import Path as path\n",
        "\n",
        "    import pandas as pd\n",
        "    import xgboost as xgb\n",
        "    from sklearn.metrics import accuracy_score\n",
        "    from sklearn.model_selection import train_test_split\n",
        "\n",
        "    # variables\n",
        "    gs_prefix = \"gs://\"\n",
        "    gcsfuse_prefix = \"/gcs/\"\n",
        "    train_path = train_uri.replace(gs_prefix, gcsfuse_prefix)\n",
        "    label_path = label_uri.replace(gs_prefix, gcsfuse_prefix)\n",
        "    model_path = model_uri.replace(gs_prefix, gcsfuse_prefix)\n",
        "\n",
        "    def get_logger():\n",
        "        \"\"\"\n",
        "        Get the logger\n",
        "        \"\"\"\n",
        "        logger = logging.getLogger(__name__)\n",
        "        logger.setLevel(logging.INFO)\n",
        "        handler = logging.StreamHandler()\n",
        "        handler.setFormatter(\n",
        "            logging.Formatter(\"%(asctime)s - %(name)s - %(levelname)s - %(message)s\")\n",
        "        )\n",
        "        logger.addHandler(handler)\n",
        "        return logger\n",
        "\n",
        "    def get_data(\n",
        "        train_path: str, label_path: str\n",
        "    ) -> (xgb.DMatrix, pd.DataFrame, pd.DataFrame):\n",
        "        \"\"\"\n",
        "        Get the data\n",
        "        Args:\n",
        "            train_path: the path of the train data\n",
        "            label_path: the path of the label data\n",
        "        Returns:\n",
        "            the train data and the label data\n",
        "        \"\"\"\n",
        "        # Load data into pandas, then use `.values` to get NumPy arrays\n",
        "        data = pd.read_csv(train_path).values\n",
        "        labels = pd.read_csv(label_path).values\n",
        "\n",
        "        # Convert one-column 2D array into 1D array for use with XGBoost\n",
        "        labels = labels.reshape((labels.size,))\n",
        "        train_data, test_data, train_labels, test_labels = train_test_split(\n",
        "            data, labels, test_size=0.2, random_state=7\n",
        "        )\n",
        "\n",
        "        # Load data into DMatrix object\n",
        "        dtrain = xgb.DMatrix(train_data, label=train_labels)\n",
        "        return dtrain, test_data, test_labels\n",
        "\n",
        "    def train_model(max_depth: int, eta: int, boost_rounds, dtrain: xgb.DMatrix):\n",
        "        \"\"\"\n",
        "        Train the model\n",
        "        Args:\n",
        "            max_depth: the max depth of the model\n",
        "            eta: the eta of the model\n",
        "            boost_rounds: the boost rounds of the model\n",
        "            dtrain: the train data\n",
        "        Returns:\n",
        "            the trained model\n",
        "        \"\"\"\n",
        "        # Train XGBoost model\n",
        "        param = {\"max_depth\": max_depth, \"eta\": eta}\n",
        "        model = xgb.train(param, dtrain, num_boost_round=boost_rounds)\n",
        "        return model\n",
        "\n",
        "    def evaluate_model(model, test_data, test_labels):\n",
        "        \"\"\"\n",
        "        Evaluate the model\n",
        "        Args:\n",
        "            model: the trained model\n",
        "            test_data: the test data\n",
        "            test_labels: the test labels\n",
        "        Returns:\n",
        "            the accuracy of the model\n",
        "        \"\"\"\n",
        "        dtest = xgb.DMatrix(test_data)\n",
        "        pred = model.predict(dtest)\n",
        "        predictions = [round(value) for value in pred]\n",
        "        # Evaluate predictions\n",
        "        accuracy = accuracy_score(test_labels, predictions)\n",
        "        return accuracy\n",
        "\n",
        "    def save_model(model, model_path):\n",
        "        \"\"\"\n",
        "        Save the model\n",
        "        Args:\n",
        "            model: the trained model\n",
        "            model_path: the path of the model\n",
        "        \"\"\"\n",
        "        model_id = str(uuid.uuid1())\n",
        "        model_path = f\"{model_path}/{model_id}/model.bst\"\n",
        "        path(model_path).parent.mkdir(parents=True, exist_ok=True)\n",
        "        model.save_model(model_path)\n",
        "\n",
        "    # Main ----------------------------------------------\n",
        "\n",
        "    dtrain, test_data, test_labels = get_data(train_path, label_path)\n",
        "    model = train_model(max_depth, learning_rate, boost_rounds, dtrain)\n",
        "    accuracy = evaluate_model(model, test_data, test_labels)\n",
        "    save_model(model, model_path)\n",
        "\n",
        "    # Metadata ------------------------------------------\n",
        "    metrics.log_metric(\"accurancy\", accuracy)\n",
        "    model_metadata.uri = model_uri"
      ]
    },
    {
      "cell_type": "markdown",
      "metadata": {
        "id": "U1UiTZhkVoFM"
      },
      "source": [
        "## Build a pipeline\n",
        "\n",
        "Below code will perform creating pipelineJob in associated project."
      ]
    },
    {
      "cell_type": "code",
      "execution_count": null,
      "metadata": {
        "id": "9Gfr6pNLU-dB"
      },
      "outputs": [],
      "source": [
        "@dsl.pipeline(name=\"custom-training-pipeline\")\n",
        "def pipeline(\n",
        "    train_uri: str,\n",
        "    label_uri: str,\n",
        "    max_depth: int,\n",
        "    learning_rate: float,\n",
        "    boost_rounds: int,\n",
        "    model_uri: str,\n",
        "):\n",
        "\n",
        "    custom_trainer(\n",
        "        train_uri, label_uri, max_depth, learning_rate, boost_rounds, model_uri\n",
        "    )"
      ]
    },
    {
      "cell_type": "markdown",
      "metadata": {
        "id": "RkfZ7qVAVjBO"
      },
      "source": [
        "### Compile your pipeline into a JSON file"
      ]
    },
    {
      "cell_type": "code",
      "execution_count": null,
      "metadata": {
        "id": "oYlLBGUSVibG"
      },
      "outputs": [],
      "source": [
        "compiler.Compiler().compile(pipeline_func=pipeline, package_path=\"pipeline.json\")"
      ]
    },
    {
      "cell_type": "markdown",
      "metadata": {
        "id": "95vG4-zPWc0B"
      },
      "source": [
        "## Submit and track pipeline runs"
      ]
    },
    {
      "cell_type": "markdown",
      "metadata": {
        "id": "ZNb6kZ2l5t-O"
      },
      "source": [
        "### Submit Pipeline runs\n",
        "\n",
        "Now that you have the pipeline, you define its training configuration depending on the defined parameters. Below you have an example and how you can submit several pipeline runs. "
      ]
    },
    {
      "cell_type": "code",
      "execution_count": null,
      "metadata": {
        "id": "XPy0Jc8xXgpa"
      },
      "outputs": [],
      "source": [
        "runs = [\n",
        "    {\"max_depth\": 4, \"learning_rate\": 0.2, \"boost_rounds\": 10},\n",
        "    {\"max_depth\": 5, \"learning_rate\": 0.3, \"boost_rounds\": 20},\n",
        "    {\"max_depth\": 3, \"learning_rate\": 0.1, \"boost_rounds\": 30},\n",
        "    {\"max_depth\": 6, \"learning_rate\": 0.5, \"boost_rounds\": 40},\n",
        "    {\"max_depth\": 5, \"learning_rate\": 0.4, \"boost_rounds\": 30},\n",
        "]"
      ]
    },
    {
      "cell_type": "code",
      "execution_count": null,
      "metadata": {
        "id": "G0hm1no_WY8o"
      },
      "outputs": [],
      "source": [
        "for i, run in enumerate(runs):\n",
        "\n",
        "    job = vertex_ai.PipelineJob(\n",
        "        display_name=f\"{EXPERIMENT_NAME}-pipeline-run-{i}\",\n",
        "        template_path=PIPELINE_TEMPLATE_FILE,\n",
        "        pipeline_root=PIPELINE_URI,\n",
        "        parameter_values={\n",
        "            \"train_uri\": TRAIN_URI,\n",
        "            \"label_uri\": LABEL_URI,\n",
        "            \"model_uri\": MODEL_URI,\n",
        "            **run,\n",
        "        },\n",
        "    )\n",
        "    job.submit(experiment=EXPERIMENT_NAME)"
      ]
    },
    {
      "cell_type": "markdown",
      "metadata": {
        "id": "O8TV4q535c2M"
      },
      "source": [
        "### Check Pipeline run states\n",
        "\n",
        "Vertex AI SDK provides you `get_experiment_df` method to monitor the status of pipeline runs. You can use it either to return parameters and metrics of the Pipeline Runs in the Vertex AI Experiment or in combination with `get` method of `PipelineJob` to return the pipeline job in Vertex AI Pipeline.\n"
      ]
    },
    {
      "cell_type": "code",
      "execution_count": null,
      "metadata": {
        "id": "dlCEJKfH5xR7"
      },
      "outputs": [],
      "source": [
        "# see state of all pipelineJob\n",
        "vertex_ai.get_experiment_df(EXPERIMENT_NAME)"
      ]
    },
    {
      "cell_type": "markdown",
      "metadata": {
        "id": "98c022ca36b4"
      },
      "source": [
        "The pipeline runs in the Vertex AI Experiment will be monitored based on pipeline run status."
      ]
    },
    {
      "cell_type": "code",
      "execution_count": null,
      "metadata": {
        "id": "FA9W85vs7LLD"
      },
      "outputs": [],
      "source": [
        "while True:\n",
        "    pipeline_experiments_df = vertex_ai.get_experiment_df(EXPERIMENT_NAME)\n",
        "    if any(\n",
        "        pipeline_state != \"COMPLETE\" for pipeline_state in pipeline_experiments_df.state\n",
        "    ):\n",
        "        print(\"Pipeline runs are still running...\")\n",
        "        if any(\n",
        "            pipeline_state == \"FAILED\"\n",
        "            for pipeline_state in pipeline_experiments_df.state\n",
        "        ):\n",
        "            print(\"At least one Pipeline run failed\")\n",
        "            break\n",
        "    else:\n",
        "        print(\"Pipeline experiment runs have completed\")\n",
        "        break\n",
        "    time.sleep(60)"
      ]
    },
    {
      "cell_type": "code",
      "execution_count": null,
      "metadata": {
        "id": "ISsK9Msi-Kqs"
      },
      "outputs": [],
      "source": [
        "# Get the PipelineJob resource using the experiment run name\n",
        "pipeline_experiments_df = vertex_ai.get_experiment_df(EXPERIMENT_NAME)\n",
        "job = vertex_ai.PipelineJob.get(pipeline_experiments_df.run_name[0])\n",
        "print(\"Pipeline job name: \", job.resource_name)\n",
        "print(\"Pipeline Run UI link: \", job._dashboard_uri())"
      ]
    },
    {
      "cell_type": "markdown",
      "metadata": {
        "id": "TpV-iwP9qw9c"
      },
      "source": [
        "## Cleaning up\n",
        "\n",
        "To clean up all Google Cloud resources used in this project, you can [delete the Google Cloud\n",
        "project](https://cloud.google.com/resource-manager/docs/creating-managing-projects#shutting_down_projects) you used for the tutorial.\n",
        "\n",
        "Otherwise, you can delete the individual resources you created in this tutorial"
      ]
    },
    {
      "cell_type": "code",
      "execution_count": null,
      "metadata": {
        "id": "6xbYQn5t5Noe"
      },
      "outputs": [],
      "source": [
        "# Delete the pipeline\n",
        "while True:\n",
        "    for i in range(0, len(runs)):\n",
        "        pipeline_job = vertex_ai.PipelineJob.get(pipeline_experiments_df.run_name[i])\n",
        "        if pipeline_job.state != PipelineState.PIPELINE_STATE_SUCCEEDED:\n",
        "            print(\"Pipeline job is still running...\")\n",
        "            time.sleep(60)\n",
        "        else:\n",
        "            print(\"Pipeline job is complete.\")\n",
        "            pipeline_job.delete()\n",
        "    break\n",
        "\n",
        "# Delete experiment\n",
        "exp = vertex_ai.Experiment(EXPERIMENT_NAME)\n",
        "exp.delete()\n",
        "\n",
        "# Delete bucket\n",
        "delete_bucket = False\n",
        "if delete_bucket or os.getenv(\"IS_TESTING\"):\n",
        "    ! gsutil rm -rf {BUCKET_URI}\n",
        "\n",
        "# Remove local files\n",
        "\n",
        "!rm {PIPELINE_TEMPLATE_FILE}"
      ]
    }
  ],
  "metadata": {
    "colab": {
      "collapsed_sections": [],
      "name": "comparing_pipeline_runs.ipynb",
      "toc_visible": true
    },
    "kernelspec": {
      "display_name": "Python 3",
      "name": "python3"
    }
  },
  "nbformat": 4,
  "nbformat_minor": 0
}
