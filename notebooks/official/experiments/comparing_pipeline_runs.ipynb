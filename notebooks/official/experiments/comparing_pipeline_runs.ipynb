{
  "cells": [
    {
      "cell_type": "code",
      "execution_count": null,
      "id": "ed0fca3f",
      "metadata": {
        "id": "ur8xi4C7S06n"
      },
      "outputs": [],
      "source": [
        "# Copyright 2022 Google LLC\n",
        "#\n",
        "# Licensed under the Apache License, Version 2.0 (the \"License\");\n",
        "# you may not use this file except in compliance with the License.\n",
        "# You may obtain a copy of the License at\n",
        "#\n",
        "#     https://www.apache.org/licenses/LICENSE-2.0\n",
        "#\n",
        "# Unless required by applicable law or agreed to in writing, software\n",
        "# distributed under the License is distributed on an \"AS IS\" BASIS,\n",
        "# WITHOUT WARRANTIES OR CONDITIONS OF ANY KIND, either express or implied.\n",
        "# See the License for the specific language governing permissions and\n",
        "# limitations under the License."
      ]
    },
    {
      "cell_type": "markdown",
      "id": "6e92def7-b4f0-4100-b981-82972665d19d",
      "metadata": {
        "id": "847715f095b5"
      },
      "source": [
        "# Vertex AI: Comparing Pipeline Runs"
      ]
    },
    {
      "cell_type": "markdown",
      "id": "ffada1ce",
      "metadata": {
        "id": "JAPoU8Sm5E6e"
      },
      "source": [
        "<table align=\"left\">\n",
        "\n",
        "  <td>\n",
        "    <a href=\"https://colab.research.google.com/github/GoogleCloudPlatform/vertex-ai-samples/blob/main/notebooks/official/experiments/comparing_pipeline_runs.ipynb\">\n",
        "      <img src=\"https://cloud.google.com/ml-engine/images/colab-logo-32px.png\" alt=\"Colab logo\"> Run in Colab\n",
        "    </a>\n",
        "  </td>\n",
        "  <td>\n",
        "    <a href=\"https://github.com/GoogleCloudPlatform/vertex-ai-samples/blob/main/notebooks/official/experiments/comparing_pipeline_runs.ipynb\">\n",
        "      <img src=\"https://cloud.google.com/ml-engine/images/github-logo-32px.png\" alt=\"GitHub logo\">\n",
        "      View on GitHub\n",
        "    </a>\n",
        "  </td>\n",
        "  <td>\n",
        "    <a href=\"https://console.cloud.google.com/vertex-ai/workbench/deploy-notebook?download_url=https://raw.githubusercontent.com/GoogleCloudPlatform/vertex-ai-samples/main/notebooks/official/experiments/comparing_pipeline_runs.ipynb\">\n",
        "      <img src=\"https://lh3.googleusercontent.com/UiNooY4LUgW_oTvpsNhPpQzsstV5W8F7rYgxgGBD85cWJoLmrOzhVs_ksK_vgx40SHs7jCqkTkCk=e14-rj-sc0xffffff-h130-w32\" alt=\"Vertex AI logo\">\n",
        "      Open in Vertex AI Workbench\n",
        "    </a>\n",
        "  </td>                                                                                               \n",
        "</table>"
      ]
    },
    {
      "cell_type": "markdown",
      "id": "d118d181",
      "metadata": {
        "id": "tvgnzT1CKxrO"
      },
      "source": [
        "# Compare pipeline runs with Vertex AI Experiments\n",
        "\n",
        "## Overview\n",
        "\n",
        "Depending on the model life cycle of your data science team, you would like to experiment and track training Pipeline runs and its associated parameters. Then, you would to compare runs of these Pipelines to each others in order to figure out which is the best configuration generates the model you will register in the Vertex AI Model Registry."
      ]
    },
    {
      "cell_type": "markdown",
      "id": "b6201ad0-af42-48fd-b03d-403fd235e268",
      "metadata": {
        "id": "d220917f1302"
      },
      "source": [
        "### Objective\n",
        "\n",
        "In this notebook, you will learn how to use Vertex AI Experiments to \n",
        "\n",
        "*   Log Pipeline Job\n",
        "*   Compare different Pipeline Jobs\n",
        "\n",
        "The steps covered include:\n",
        "\n",
        "* Formalize a training component\n",
        "* Build a training pipeline\n",
        "* Run several Pipeline jobs and log their results\n",
        "* Compare different Pipeline jobs"
      ]
    },
    {
      "cell_type": "markdown",
      "id": "cffa7608-f550-4913-8f88-30cbcd525685",
      "metadata": {
        "id": "263933842022"
      },
      "source": [
        "### Dataset\n",
        "\n",
        "The dataset used for this tutorial is the [Iris dataset](https://www.tensorflow.org/datasets/catalog/iris) from [TensorFlow Datasets](https://www.tensorflow.org/datasets/catalog/overview). This dataset does not require any feature engineering. The version of the dataset you will use in this tutorial is stored in a public Cloud Storage bucket. The trained model predicts the type of Iris flower species from a class of three species: setosa, virginica, or versicolor.\n"
      ]
    },
    {
      "cell_type": "markdown",
      "id": "b46c0eb6-e65d-4b28-b17d-dc9bf9b08120",
      "metadata": {
        "id": "de76bb18c85b"
      },
      "source": [
        "### Costs \n",
        "\n",
        "This tutorial uses billable components of Google Cloud:\n",
        "\n",
        "* Vertex AI\n",
        "* Cloud Storage\n",
        "\n",
        "Learn about [Vertex AI\n",
        "pricing](https://cloud.google.com/vertex-ai/pricing) and [Cloud Storage\n",
        "pricing](https://cloud.google.com/storage/pricing), and use the [Pricing\n",
        "Calculator](https://cloud.google.com/products/calculator/)\n",
        "to generate a cost estimate based on your projected usage."
      ]
    },
    {
      "cell_type": "markdown",
      "id": "ee1e6851",
      "metadata": {
        "id": "gCuSR8GkAgzl"
      },
      "source": [
        "### Set up your local development environment\n",
        "\n",
        "**If you are using Colab or Vertex AI Workbench Notebooks**, your environment already meets\n",
        "all the requirements to run this notebook. You can skip this step.\n",
        "\n",
        "**Otherwise**, make sure your environment meets this notebook's requirements.\n",
        "You need the following:\n",
        "\n",
        "* The Google Cloud SDK\n",
        "* Git\n",
        "* Python 3\n",
        "* virtualenv\n",
        "* Jupyter notebook running in a virtual environment with Python 3\n",
        "\n",
        "The Google Cloud guide to [Setting up a Python development\n",
        "environment](https://cloud.google.com/python/setup) and the [Jupyter\n",
        "installation guide](https://jupyter.org/install) provide detailed instructions\n",
        "for meeting these requirements. The following steps provide a condensed set of\n",
        "instructions:\n",
        "\n",
        "1. [Install and initialize the Cloud SDK.](https://cloud.google.com/sdk/docs/)\n",
        "\n",
        "1. [Install Python 3.](https://cloud.google.com/python/setup#installing_python)\n",
        "\n",
        "1. [Install\n",
        "   virtualenv](https://cloud.google.com/python/setup#installing_and_using_virtualenv)\n",
        "   and create a virtual environment that uses Python 3. Activate the virtual environment.\n",
        "\n",
        "1. To install Jupyter, run `pip3 install jupyter` on the\n",
        "command-line in a terminal shell.\n",
        "\n",
        "1. To launch Jupyter, run `jupyter notebook` on the command-line in a terminal shell.\n",
        "\n",
        "1. Open this notebook in the Jupyter Notebook Dashboard."
      ]
    },
    {
      "cell_type": "markdown",
      "id": "97e5b386",
      "metadata": {
        "id": "i7EUnXsZhAGF"
      },
      "source": [
        "### Install additional packages\n",
        "\n",
        "Install additional package dependencies not installed in your notebook environment, such as Vertex AI SDK and KFP SDK. Use the latest major GA version of each package."
      ]
    },
    {
      "cell_type": "code",
      "execution_count": null,
      "id": "5b01540f",
      "metadata": {
        "id": "2b4ef9b72d43"
      },
      "outputs": [],
      "source": [
        "import os\n",
        "\n",
        "# The Vertex AI Workbench Notebook product has specific requirements\n",
        "IS_WORKBENCH_NOTEBOOK = os.getenv(\"DL_ANACONDA_HOME\")\n",
        "IS_USER_MANAGED_WORKBENCH_NOTEBOOK = os.path.exists(\n",
        "    \"/opt/deeplearning/metadata/env_version\"\n",
        ")\n",
        "\n",
        "# Vertex AI Notebook requires dependencies to be installed with '--user'\n",
        "USER_FLAG = \"\"\n",
        "if IS_WORKBENCH_NOTEBOOK:\n",
        "    USER_FLAG = \"--user\"\n",
        "\n",
        "!pip3 install {USER_FLAG} --force-reinstall 'google-cloud-aiplatform>=1.15' -q --no-warn-conflicts\n",
        "!pip3 install {USER_FLAG} kfp -q --no-warn-conflicts"
      ]
    },
    {
      "cell_type": "markdown",
      "id": "c6806ee8",
      "metadata": {
        "id": "hhq5zEbGg0XX"
      },
      "source": [
        "### Restart the kernel\n",
        "\n",
        "After you install the additional packages, you need to restart the notebook kernel so it can find the packages."
      ]
    },
    {
      "cell_type": "code",
      "execution_count": null,
      "id": "584f0887",
      "metadata": {
        "id": "EzrelQZ22IZj"
      },
      "outputs": [],
      "source": [
        "# Automatically restart kernel after installs\n",
        "import os\n",
        "\n",
        "if not os.getenv(\"IS_TESTING\"):\n",
        "    # Automatically restart kernel after installs\n",
        "    import IPython\n",
        "\n",
        "    app = IPython.Application.instance()\n",
        "    app.kernel.do_shutdown(True)"
      ]
    },
    {
      "cell_type": "markdown",
      "id": "bb098c06",
      "metadata": {
        "id": "lWEdiXsJg0XY"
      },
      "source": [
        "## Before you begin"
      ]
    },
    {
      "cell_type": "markdown",
      "id": "3706598b",
      "metadata": {
        "id": "BF1j6f9HApxa"
      },
      "source": [
        "### Set up your Google Cloud project\n",
        "\n",
        "**The following steps are required, regardless of your notebook environment.**\n",
        "\n",
        "1. [Select or create a Google Cloud project](https://console.cloud.google.com/cloud-resource-manager). When you first create an account, you get a $300 free credit towards your compute/storage costs.\n",
        "\n",
        "1. [Make sure that billing is enabled for your project](https://cloud.google.com/billing/docs/how-to/modify-project).\n",
        "\n",
        "1. [Enable APIs](https://console.cloud.google.com/flows/enableapi?apiid=cloudresourcemanager.googleapis.com,aiplatform.googleapis.com).\n",
        "\n",
        "1. If you are running this notebook locally, you will need to install the [Cloud SDK](https://cloud.google.com/sdk).\n",
        "\n",
        "1. Enter your project ID in the cell below. Then run the cell to make sure the\n",
        "Cloud SDK uses the right project for all the commands in this notebook.\n",
        "\n",
        "**Note**: Jupyter runs lines prefixed with `!` as shell commands, and it interpolates Python variables prefixed with `$` into these commands."
      ]
    },
    {
      "cell_type": "markdown",
      "id": "c7f6a1ea",
      "metadata": {
        "id": "WReHDGG5g0XY"
      },
      "source": [
        "#### Set your project ID\n",
        "\n",
        "**If you don't know your project ID**, you may be able to get your project ID using `gcloud`."
      ]
    },
    {
      "cell_type": "code",
      "execution_count": null,
      "id": "6984e874-ae15-4094-9c5b-8d12661645c9",
      "metadata": {
        "id": "3c8049930470"
      },
      "outputs": [],
      "source": [
        "PROJECT_ID = \"[your-project-id]\"  # @param {type:\"string\"}"
      ]
    },
    {
      "cell_type": "code",
      "execution_count": null,
      "id": "ebaef2f9",
      "metadata": {
        "id": "oM1iC_MfAts1"
      },
      "outputs": [],
      "source": [
        "import os\n",
        "\n",
        "if PROJECT_ID == \"\" or PROJECT_ID is None or PROJECT_ID == \"[your-project-id]\":\n",
        "    # Get your GCP project id from gcloud\n",
        "    shell_output = ! gcloud config list --format 'value(core.project)' 2>/dev/null\n",
        "    PROJECT_ID = shell_output[0]\n",
        "    print(\"Project ID:\", PROJECT_ID)"
      ]
    },
    {
      "cell_type": "code",
      "execution_count": null,
      "id": "d9745b2b-cd37-4a1c-aae7-4cd75a3c126c",
      "metadata": {
        "id": "f2e3c0f2cbfb"
      },
      "outputs": [],
      "source": [
        "! gcloud config set project $PROJECT_ID"
      ]
    },
    {
      "cell_type": "markdown",
      "id": "fff3c4af",
      "metadata": {
        "id": "qJYoRfYng0XZ"
      },
      "source": [
        "Otherwise, set your project ID here."
      ]
    },
    {
      "cell_type": "code",
      "execution_count": null,
      "id": "89a05131",
      "metadata": {
        "id": "riG_qUokg0XZ"
      },
      "outputs": [],
      "source": [
        "if PROJECT_ID == \"\" or PROJECT_ID is None:\n",
        "    PROJECT_ID = \"python-docs-samples-tests\"  # @param {type:\"string\"}"
      ]
    },
    {
      "cell_type": "markdown",
      "id": "9aa4ad5f",
      "metadata": {
        "id": "2aa333eca058"
      },
      "source": [
        "#### Region\n",
        "\n",
        "You can also change the `REGION` variable, which is used for operations\n",
        "throughout the rest of this notebook.  Below are regions supported for Vertex AI. We recommend that you choose the region closest to you.\n",
        "\n",
        "- Americas: `us-central1`\n",
        "- Europe: `europe-west4`\n",
        "- Asia Pacific: `asia-east1`\n",
        "\n",
        "You may not use a multi-regional bucket for training with Vertex AI. Not all regions provide support for all Vertex AI services.\n",
        "\n",
        "Learn more about [Vertex AI regions](https://cloud.google.com/vertex-ai/docs/general/locations)."
      ]
    },
    {
      "cell_type": "code",
      "execution_count": null,
      "id": "244d416e",
      "metadata": {
        "id": "d8b34ef9a3d0"
      },
      "outputs": [],
      "source": [
        "REGION = \"[your-region]\"  # @param {type: \"string\"}\n",
        "\n",
        "if REGION == \"[your-region]\":\n",
        "    REGION = \"us-central1\""
      ]
    },
    {
      "cell_type": "markdown",
      "id": "eed6c3ba",
      "metadata": {
        "id": "126548a06aa1"
      },
      "source": [
        "#### UUID\n",
        "\n",
        "If you are in a live tutorial session, you might be using a shared test account or project. To avoid name collisions between users on resources created, you create a uuid for each instance session, and append it onto the name of resources you create in this tutorial.\n"
      ]
    },
    {
      "cell_type": "code",
      "execution_count": null,
      "id": "6ef7c7b1",
      "metadata": {
        "id": "e660b8504e63"
      },
      "outputs": [],
      "source": [
        "import random\n",
        "import string\n",
        "\n",
        "\n",
        "# Generate a uuid of a specifed length(default=8)\n",
        "def generate_uuid(length: int = 8) -> str:\n",
        "    return \"\".join(random.choices(string.ascii_lowercase + string.digits, k=length))\n",
        "\n",
        "\n",
        "UUID = generate_uuid()"
      ]
    },
    {
      "cell_type": "markdown",
      "id": "5763da2c",
      "metadata": {
        "id": "sBCra4QMA2wR"
      },
      "source": [
        "### Authenticate your Google Cloud account\n",
        "\n",
        "**If you are using Vertex AI Workbench Notebooks**, your environment is already\n",
        "authenticated. Skip this step.\n",
        "\n",
        "**If you are using Colab**, run the cell below and follow the instructions\n",
        "when prompted to authenticate your account via oAuth.\n",
        "\n",
        "**Otherwise**, follow these steps:\n",
        "\n",
        "1. In the Cloud Console, go to the [**Create service account key**\n",
        "   page](https://console.cloud.google.com/apis/credentials/serviceaccountkey).\n",
        "\n",
        "2. Click **Create service account**.\n",
        "\n",
        "3. In the **Service account name** field, enter a name, and\n",
        "   click **Create**.\n",
        "\n",
        "4. In the **Grant this service account access to project** section, click the **Role** drop-down list. Type and select\n",
        "the following role into the filter box:\n",
        "\n",
        "    *   Storage Admin\n",
        "    *   Storage Object Admin\n",
        "    *   Service Account User\n",
        "    *   Vertex AI Administrator\n",
        "\n",
        "\n",
        "5. Click *Create*. A JSON file that contains your key downloads to your\n",
        "local environment.\n",
        "\n",
        "6. Enter the path to your service account key as the\n",
        "`GOOGLE_APPLICATION_CREDENTIALS` variable in the cell below and run the cell."
      ]
    },
    {
      "cell_type": "code",
      "execution_count": null,
      "id": "85b826d2",
      "metadata": {
        "id": "PyQmSRbKA8r-"
      },
      "outputs": [],
      "source": [
        "# If you are running this notebook in Colab, run this cell and follow the\n",
        "# instructions to authenticate your GCP account. This provides access to your\n",
        "# Cloud Storage bucket and lets you submit training jobs and prediction\n",
        "# requests.\n",
        "\n",
        "import os\n",
        "import sys\n",
        "\n",
        "# If on Vertex AI Workbench, then don't execute this code\n",
        "IS_COLAB = \"google.colab\" in sys.modules\n",
        "if not os.path.exists(\"/opt/deeplearning/metadata/env_version\") and not os.getenv(\n",
        "    \"DL_ANACONDA_HOME\"\n",
        "):\n",
        "    if \"google.colab\" in sys.modules:\n",
        "        from google.colab import auth as google_auth\n",
        "\n",
        "        google_auth.authenticate_user()\n",
        "\n",
        "    # If you are running this notebook locally, replace the string below with the\n",
        "    # path to your service account key and run this cell to authenticate your GCP\n",
        "    # account.\n",
        "    elif not os.getenv(\"IS_TESTING\"):\n",
        "        %env GOOGLE_APPLICATION_CREDENTIALS ''"
      ]
    },
    {
      "cell_type": "markdown",
      "id": "3d31b8b8",
      "metadata": {
        "id": "zgPO1eR3CYjk"
      },
      "source": [
        "### Create a Cloud Storage bucket\n",
        "\n",
        "**The following steps are required, regardless of your notebook environment.**\n",
        "\n",
        "When you initialize the Vertex SDK for Python, you specify a Cloud Storage staging bucket. The staging bucket is where all the data associated with your dataset and model resources are retained across sessions.\n",
        "\n",
        "Set the name of your Cloud Storage bucket below. Bucket names must be globally unique across all Google Cloud projects, including those outside of your organization."
      ]
    },
    {
      "cell_type": "code",
      "execution_count": null,
      "id": "95a18950",
      "metadata": {
        "id": "MzGDU7TWdts_"
      },
      "outputs": [],
      "source": [
        "BUCKET_NAME = \"[your-bucket-name]\"  # @param {type:\"string\"}\n",
        "BUCKET_URI = f\"gs://{BUCKET_NAME}\""
      ]
    },
    {
      "cell_type": "code",
      "execution_count": null,
      "id": "379d758a",
      "metadata": {
        "id": "cf221059d072"
      },
      "outputs": [],
      "source": [
        "if BUCKET_NAME == \"\" or BUCKET_NAME is None or BUCKET_NAME == \"[your-bucket-name]\":\n",
        "    BUCKET_NAME = PROJECT_ID + \"aip-\" + UUID\n",
        "    BUCKET_URI = f\"gs://{BUCKET_NAME}\""
      ]
    },
    {
      "cell_type": "markdown",
      "id": "50b86adc",
      "metadata": {
        "id": "-EcIXiGsCePi"
      },
      "source": [
        "**Only if your bucket doesn't already exist**: Run the following cell to create your Cloud Storage bucket."
      ]
    },
    {
      "cell_type": "code",
      "execution_count": null,
      "id": "564ce38f",
      "metadata": {
        "id": "NIq7R4HZCfIc"
      },
      "outputs": [],
      "source": [
        "! gsutil mb -l $REGION -p $PROJECT_ID $BUCKET_URI"
      ]
    },
    {
      "cell_type": "markdown",
      "id": "a4324d2e",
      "metadata": {
        "id": "ucvCsknMCims"
      },
      "source": [
        "Finally, validate access to your Cloud Storage bucket by examining its contents:"
      ]
    },
    {
      "cell_type": "code",
      "execution_count": null,
      "id": "df030498-f6e7-4e45-96f4-0d36590865aa",
      "metadata": {
        "id": "vhOb7YnwClBb"
      },
      "outputs": [],
      "source": [
        "! gsutil ls -al $BUCKET_URI"
      ]
    },
    {
      "cell_type": "markdown",
      "id": "49d12f54",
      "metadata": {
        "id": "b7e24e522bee"
      },
      "source": [
        "#### Service Account\n",
        "\n",
        "**If you don't know your service account**, try to get your service account using `gcloud` command by executing the second cell below."
      ]
    },
    {
      "cell_type": "code",
      "execution_count": null,
      "id": "8da829a1",
      "metadata": {
        "id": "77b01a1fdbb4"
      },
      "outputs": [],
      "source": [
        "SERVICE_ACCOUNT = \"[your-service-account]\"  # @param {type:\"string\"}"
      ]
    },
    {
      "cell_type": "code",
      "execution_count": null,
      "id": "f2c8c41d",
      "metadata": {
        "id": "121d7ca29426"
      },
      "outputs": [],
      "source": [
        "import sys\n",
        "\n",
        "IS_COLAB = \"google.colab\" in sys.modules\n",
        "\n",
        "if (\n",
        "    SERVICE_ACCOUNT == \"\"\n",
        "    or SERVICE_ACCOUNT is None\n",
        "    or SERVICE_ACCOUNT == \"[your-service-account]\"\n",
        "):\n",
        "    # Get your service account from gcloud\n",
        "    if not IS_COLAB:\n",
        "        shell_output = !gcloud auth list 2>/dev/null\n",
        "        SERVICE_ACCOUNT = shell_output[2].replace(\"*\", \"\").strip()\n",
        "\n",
        "    if IS_COLAB:\n",
        "        shell_output = ! gcloud projects describe  $PROJECT_ID\n",
        "        project_number = shell_output[-1].split(\":\")[1].strip().replace(\"'\", \"\")\n",
        "        SERVICE_ACCOUNT = f\"{project_number}-compute@developer.gserviceaccount.com\"\n",
        "\n",
        "    print(\"Service Account:\", SERVICE_ACCOUNT)"
      ]
    },
    {
      "cell_type": "markdown",
      "id": "f0552e61",
      "metadata": {
        "id": "aa175e2960ac"
      },
      "source": [
        "#### Set service account access for Vertex AI Pipelines\n",
        "\n",
        "Run the following commands to grant your service account access to read and write pipeline artifacts in the bucket that you created in the previous step -- you only need to run these once per service account."
      ]
    },
    {
      "cell_type": "code",
      "execution_count": null,
      "id": "abbfcad3",
      "metadata": {
        "id": "f88cb0488c08"
      },
      "outputs": [],
      "source": [
        "! gsutil iam ch serviceAccount:{SERVICE_ACCOUNT}:roles/storage.objectCreator $BUCKET_URI\n",
        "\n",
        "! gsutil iam ch serviceAccount:{SERVICE_ACCOUNT}:roles/storage.objectViewer $BUCKET_URI"
      ]
    },
    {
      "cell_type": "markdown",
      "id": "2689f52b",
      "metadata": {
        "id": "fXUqOdIaLbjf"
      },
      "source": [
        "### Download training dataset\n"
      ]
    },
    {
      "cell_type": "code",
      "execution_count": null,
      "id": "754e5f7b",
      "metadata": {
        "id": "9fYX14c0LfmU"
      },
      "outputs": [],
      "source": [
        "DATASET_URI = \"gs://cloud-samples-data/ai-platform/iris\"\n",
        "\n",
        "!gsutil cp -r $DATASET_URI $BUCKET_URI"
      ]
    },
    {
      "cell_type": "markdown",
      "id": "231e5499",
      "metadata": {
        "id": "XoEqT2Y4DJmf"
      },
      "source": [
        "### Import libraries and define constants"
      ]
    },
    {
      "cell_type": "code",
      "execution_count": null,
      "id": "884b2d31",
      "metadata": {
        "id": "pRUOFELefqf1"
      },
      "outputs": [],
      "source": [
        "import logging\n",
        "# General\n",
        "import os\n",
        "import time\n",
        "\n",
        "logger = logging.getLogger(\"logger\")\n",
        "logging.basicConfig(level=logging.INFO)\n",
        "\n",
        "import kfp.v2.compiler as compiler\n",
        "# Pipeline Experiments\n",
        "import kfp.v2.dsl as dsl\n",
        "# Vertex AI\n",
        "from google.cloud import aiplatform as vertex_ai\n",
        "from google.cloud.aiplatform_v1.types.pipeline_state import PipelineState\n",
        "from kfp.v2.dsl import Metrics, Model, Output, component"
      ]
    },
    {
      "cell_type": "code",
      "execution_count": null,
      "id": "20e96b6b",
      "metadata": {
        "id": "OAY0QKZD8qNP"
      },
      "outputs": [],
      "source": [
        "# Experiments\n",
        "TASK = \"classification\"\n",
        "MODEL_TYPE = \"xgboost\"\n",
        "EXPERIMENT_NAME = f\"{PROJECT_ID}-{TASK}-{MODEL_TYPE}-{UUID}\"\n",
        "\n",
        "# Pipeline\n",
        "PIPELINE_TEMPLATE_FILE = \"pipeline.json\"\n",
        "PIPELINE_URI = f\"{BUCKET_URI}/pipelines\"\n",
        "TRAIN_URI = f\"{BUCKET_URI}/iris/iris_data.csv\"\n",
        "LABEL_URI = f\"{BUCKET_URI}/iris/iris_target.csv\"\n",
        "MODEL_URI = f\"{BUCKET_URI}/model\""
      ]
    },
    {
      "cell_type": "markdown",
      "id": "3fb7c387",
      "metadata": {
        "id": "inR70nh38PeK"
      },
      "source": [
        "### Initialize Vertex AI SDK for Python\n",
        "\n",
        "Initialize the Vertex AI SDK for Python for your project and corresponding bucket."
      ]
    },
    {
      "cell_type": "code",
      "execution_count": null,
      "id": "6eb614be",
      "metadata": {
        "id": "Nz0nasrh8T3c"
      },
      "outputs": [],
      "source": [
        "vertex_ai.init(project=PROJECT_ID, staging_bucket=BUCKET_URI)"
      ]
    },
    {
      "cell_type": "markdown",
      "id": "01448e2a",
      "metadata": {
        "id": "container:training,prediction,xgboost"
      },
      "source": [
        "### Set pre-built containers\n",
        "\n",
        "Set the pre-built Docker container image for training and prediction.\n",
        "\n",
        "\n",
        "For the latest list, see [Pre-built containers for training](https://cloud.google.com/ai-platform-unified/docs/training/pre-built-containers).\n",
        "\n",
        "\n",
        "For the latest list, see [Pre-built containers for prediction](https://cloud.google.com/ai-platform-unified/docs/predictions/pre-built-containers)."
      ]
    },
    {
      "cell_type": "code",
      "execution_count": null,
      "id": "ece742dc",
      "metadata": {
        "id": "XujRA5ueox9U"
      },
      "outputs": [],
      "source": [
        "TRAIN_IMAGE = vertex_ai.helpers.get_prebuilt_prediction_container_uri(\n",
        "    framework=\"xgboost\", framework_version=\"1.1\", accelerator=\"cpu\"\n",
        ")"
      ]
    },
    {
      "cell_type": "markdown",
      "id": "32a2397a",
      "metadata": {
        "id": "t1NLYz1R-KWv"
      },
      "source": [
        "## Formalize your training as pipeline component\n"
      ]
    },
    {
      "cell_type": "markdown",
      "id": "64570881",
      "metadata": {
        "id": "jnfKxpj0-Z0H"
      },
      "source": [
        "Before you start running your pipeline experiments, you have to formalize your training as pipeline component.\n",
        "\n",
        "To do that, you build the pipeline by using the `kfp.v2.dsl.component` decorator to convert your training task into a pipeline component. "
      ]
    },
    {
      "cell_type": "code",
      "execution_count": null,
      "id": "f612dbf2",
      "metadata": {
        "id": "jv_-vU46_eFN"
      },
      "outputs": [],
      "source": [
        "@component(\n",
        "    packages_to_install=[\n",
        "        \"numpy==1.18.5\",\n",
        "        \"pandas==1.0.4\",\n",
        "        \"scikit-learn==0.23.1\",\n",
        "        \"xgboost==1.1.1\",\n",
        "    ]\n",
        ")\n",
        "def custom_trainer(\n",
        "    train_uri: str,\n",
        "    label_uri: str,\n",
        "    max_depth: int,\n",
        "    learning_rate: float,\n",
        "    boost_rounds: int,\n",
        "    model_uri: str,\n",
        "    metrics: Output[Metrics],\n",
        "    model_metadata: Output[Model],\n",
        "):\n",
        "\n",
        "    # import libraries\n",
        "    import logging\n",
        "    import uuid\n",
        "    from pathlib import Path as path\n",
        "\n",
        "    import pandas as pd\n",
        "    import xgboost as xgb\n",
        "    from sklearn.metrics import accuracy_score\n",
        "    from sklearn.model_selection import train_test_split\n",
        "\n",
        "    # variables\n",
        "    gs_prefix = \"gs://\"\n",
        "    gcsfuse_prefix = \"/gcs/\"\n",
        "    train_path = train_uri.replace(gs_prefix, gcsfuse_prefix)\n",
        "    label_path = label_uri.replace(gs_prefix, gcsfuse_prefix)\n",
        "    model_path = model_uri.replace(gs_prefix, gcsfuse_prefix)\n",
        "\n",
        "    def get_logger():\n",
        "        \"\"\"\n",
        "        Get the logger\n",
        "        \"\"\"\n",
        "        logger = logging.getLogger(__name__)\n",
        "        logger.setLevel(logging.INFO)\n",
        "        handler = logging.StreamHandler()\n",
        "        handler.setFormatter(\n",
        "            logging.Formatter(\"%(asctime)s - %(name)s - %(levelname)s - %(message)s\")\n",
        "        )\n",
        "        logger.addHandler(handler)\n",
        "        return logger\n",
        "\n",
        "    def get_data(\n",
        "        train_path: str, label_path: str\n",
        "    ) -> (xgb.DMatrix, pd.DataFrame, pd.DataFrame):\n",
        "        \"\"\"\n",
        "        Get the data\n",
        "        Args:\n",
        "            train_path: the path of the train data\n",
        "            label_path: the path of the label data\n",
        "        Returns:\n",
        "            the train data and the label data\n",
        "        \"\"\"\n",
        "        # Load data into pandas, then use `.values` to get NumPy arrays\n",
        "        data = pd.read_csv(train_path).values\n",
        "        labels = pd.read_csv(label_path).values\n",
        "\n",
        "        # Convert one-column 2D array into 1D array for use with XGBoost\n",
        "        labels = labels.reshape((labels.size,))\n",
        "        train_data, test_data, train_labels, test_labels = train_test_split(\n",
        "            data, labels, test_size=0.2, random_state=7\n",
        "        )\n",
        "\n",
        "        # Load data into DMatrix object\n",
        "        dtrain = xgb.DMatrix(train_data, label=train_labels)\n",
        "        return dtrain, test_data, test_labels\n",
        "\n",
        "    def train_model(max_depth: int, eta: int, boost_rounds, dtrain: xgb.DMatrix):\n",
        "        \"\"\"\n",
        "        Train the model\n",
        "        Args:\n",
        "            max_depth: the max depth of the model\n",
        "            eta: the eta of the model\n",
        "            boost_rounds: the boost rounds of the model\n",
        "            dtrain: the train data\n",
        "        Returns:\n",
        "            the trained model\n",
        "        \"\"\"\n",
        "        # Train XGBoost model\n",
        "        param = {\"max_depth\": max_depth, \"eta\": eta}\n",
        "        model = xgb.train(param, dtrain, num_boost_round=boost_rounds)\n",
        "        return model\n",
        "\n",
        "    def evaluate_model(model, test_data, test_labels):\n",
        "        \"\"\"\n",
        "        Evaluate the model\n",
        "        Args:\n",
        "            model: the trained model\n",
        "            test_data: the test data\n",
        "            test_labels: the test labels\n",
        "        Returns:\n",
        "            the accuracy of the model\n",
        "        \"\"\"\n",
        "        dtest = xgb.DMatrix(test_data)\n",
        "        pred = model.predict(dtest)\n",
        "        predictions = [round(value) for value in pred]\n",
        "        # Evaluate predictions\n",
        "        accuracy = accuracy_score(test_labels, predictions)\n",
        "        return accuracy\n",
        "\n",
        "    def save_model(model, model_path):\n",
        "        \"\"\"\n",
        "        Save the model\n",
        "        Args:\n",
        "            model: the trained model\n",
        "            model_path: the path of the model\n",
        "        \"\"\"\n",
        "        model_id = str(uuid.uuid1())\n",
        "        model_path = f\"{model_path}/{model_id}/model.bst\"\n",
        "        path(model_path).parent.mkdir(parents=True, exist_ok=True)\n",
        "        model.save_model(model_path)\n",
        "\n",
        "    # Main ----------------------------------------------\n",
        "\n",
        "    dtrain, test_data, test_labels = get_data(train_path, label_path)\n",
        "    model = train_model(max_depth, learning_rate, boost_rounds, dtrain)\n",
        "    accuracy = evaluate_model(model, test_data, test_labels)\n",
        "    save_model(model, model_path)\n",
        "\n",
        "    # Metadata ------------------------------------------\n",
        "    metrics.log_metric(\"accurancy\", accuracy)\n",
        "    model_metadata.uri = model_uri"
      ]
    },
    {
      "cell_type": "markdown",
      "id": "bf048b2a",
      "metadata": {
        "id": "U1UiTZhkVoFM"
      },
      "source": [
        "## Build a pipeline\n",
        "\n",
        "Below code will perform creating pipelineJob in associated project."
      ]
    },
    {
      "cell_type": "code",
      "execution_count": null,
      "id": "7684850a",
      "metadata": {
        "id": "9Gfr6pNLU-dB"
      },
      "outputs": [],
      "source": [
        "@dsl.pipeline(name=\"custom-training-pipeline\")\n",
        "def pipeline(\n",
        "    train_uri: str,\n",
        "    label_uri: str,\n",
        "    max_depth: int,\n",
        "    learning_rate: float,\n",
        "    boost_rounds: int,\n",
        "    model_uri: str,\n",
        "):\n",
        "\n",
        "    custom_trainer(\n",
        "        train_uri, label_uri, max_depth, learning_rate, boost_rounds, model_uri\n",
        "    )"
      ]
    },
    {
      "cell_type": "markdown",
      "id": "cb6cae0b",
      "metadata": {
        "id": "RkfZ7qVAVjBO"
      },
      "source": [
        "### Compile your pipeline into a JSON file"
      ]
    },
    {
      "cell_type": "code",
      "execution_count": null,
      "id": "c6b9ec3f",
      "metadata": {
        "id": "oYlLBGUSVibG"
      },
      "outputs": [],
      "source": [
        "compiler.Compiler().compile(pipeline_func=pipeline, package_path=\"pipeline.json\")"
      ]
    },
    {
      "cell_type": "markdown",
      "id": "cc940f17",
      "metadata": {
        "id": "95vG4-zPWc0B"
      },
      "source": [
        "## Submit and track pipeline runs"
      ]
    },
    {
      "cell_type": "markdown",
      "id": "bb2b2eb4",
      "metadata": {
        "id": "ZNb6kZ2l5t-O"
      },
      "source": [
        "### Submit Pipeline runs\n",
        "\n",
        "Now that you have the pipeline, you define its training configuration depending on the defined parameters. Below you have an example and how you can submit several pipeline runs. "
      ]
    },
    {
      "cell_type": "code",
      "execution_count": null,
      "id": "77314a6f",
      "metadata": {
        "id": "XPy0Jc8xXgpa"
      },
      "outputs": [],
      "source": [
        "runs = [\n",
        "    {\"max_depth\": 4, \"learning_rate\": 0.2, \"boost_rounds\": 10},\n",
        "    {\"max_depth\": 5, \"learning_rate\": 0.3, \"boost_rounds\": 20},\n",
        "    {\"max_depth\": 3, \"learning_rate\": 0.1, \"boost_rounds\": 30},\n",
        "    {\"max_depth\": 6, \"learning_rate\": 0.5, \"boost_rounds\": 40},\n",
        "    {\"max_depth\": 5, \"learning_rate\": 0.4, \"boost_rounds\": 30},\n",
        "]"
      ]
    },
    {
      "cell_type": "code",
      "execution_count": null,
      "id": "aee97ebf",
      "metadata": {
        "id": "G0hm1no_WY8o"
      },
      "outputs": [],
      "source": [
        "for i, run in enumerate(runs):\n",
        "\n",
        "    job = vertex_ai.PipelineJob(\n",
        "        display_name=f\"{EXPERIMENT_NAME}-pipeline-run-{i}\",\n",
        "        template_path=PIPELINE_TEMPLATE_FILE,\n",
        "        pipeline_root=PIPELINE_URI,\n",
        "        parameter_values={\n",
        "            \"train_uri\": TRAIN_URI,\n",
        "            \"label_uri\": LABEL_URI,\n",
        "            \"model_uri\": MODEL_URI,\n",
        "            **run,\n",
        "        },\n",
        "    )\n",
        "    job.submit(experiment=EXPERIMENT_NAME)"
      ]
    },
    {
      "cell_type": "markdown",
      "id": "0ca08588",
      "metadata": {
        "id": "O8TV4q535c2M"
      },
      "source": [
        "### Check Pipeline run states\n",
        "\n",
        "Vertex AI SDK provides you `get_experiment_df` method to monitor the status of pipeline runs. You can use it either to return parameters and metrics of the Pipeline Runs in the Vertex AI Experiment or in combination with `get` method of `PipelineJob` to return the pipeline job in Vertex AI Pipeline.\n"
      ]
    },
    {
      "cell_type": "code",
      "execution_count": null,
      "id": "a65f2574",
      "metadata": {
        "id": "dlCEJKfH5xR7"
      },
      "outputs": [],
      "source": [
        "# see state of all pipelineJob\n",
        "vertex_ai.get_experiment_df(EXPERIMENT_NAME)"
      ]
    },
    {
      "cell_type": "markdown",
      "id": "f605666a-9f2a-479f-9948-6f2f29e4e76b",
      "metadata": {
        "id": "98c022ca36b4"
      },
      "source": [
        "The pipeline runs in the Vertex AI Experiment will be monitored based on pipeline run status."
      ]
    },
    {
      "cell_type": "code",
      "execution_count": null,
      "id": "dc6661c5",
      "metadata": {
        "id": "FA9W85vs7LLD"
      },
      "outputs": [],
      "source": [
        "while True:\n",
        "    pipeline_experiments_df = vertex_ai.get_experiment_df(EXPERIMENT_NAME)\n",
        "    if any(\n",
        "        pipeline_state != \"COMPLETE\" for pipeline_state in pipeline_experiments_df.state\n",
        "    ):\n",
        "        print(\"Pipeline runs are still running...\")\n",
        "        if any(\n",
        "            pipeline_state == \"FAILED\"\n",
        "            for pipeline_state in pipeline_experiments_df.state\n",
        "        ):\n",
        "            print(\"At least one Pipeline run failed\")\n",
        "            break\n",
        "    else:\n",
        "        print(\"Pipeline experiment runs have completed\")\n",
        "        break\n",
        "    time.sleep(60)"
      ]
    },
    {
      "cell_type": "code",
      "execution_count": null,
      "id": "ef041ba2",
      "metadata": {
        "id": "ISsK9Msi-Kqs"
      },
      "outputs": [],
      "source": [
        "# Get the PipelineJob resource using the experiment run name\n",
        "pipeline_experiments_df = vertex_ai.get_experiment_df(EXPERIMENT_NAME)\n",
        "job = vertex_ai.PipelineJob.get(pipeline_experiments_df.run_name[0])\n",
        "print(\"Pipeline job name: \", job.resource_name)\n",
        "print(\"Pipeline Run UI link: \", job._dashboard_uri())"
      ]
    },
    {
      "cell_type": "markdown",
      "id": "02a718ab",
      "metadata": {
        "id": "TpV-iwP9qw9c"
      },
      "source": [
        "## Cleaning up\n",
        "\n",
        "To clean up all Google Cloud resources used in this project, you can [delete the Google Cloud\n",
        "project](https://cloud.google.com/resource-manager/docs/creating-managing-projects#shutting_down_projects) you used for the tutorial.\n",
        "\n",
        "Otherwise, you can delete the individual resources you created in this tutorial"
      ]
    },
    {
      "cell_type": "code",
      "execution_count": null,
      "id": "e90fb0b1",
      "metadata": {
        "id": "6xbYQn5t5Noe"
      },
      "outputs": [],
      "source": [
        "# Delete the pipeline\n",
        "while True:\n",
        "    for i in range(0, len(runs)):\n",
        "        pipeline_job = vertex_ai.PipelineJob.get(pipeline_experiments_df.run_name[i])\n",
        "        if pipeline_job.state != PipelineState.PIPELINE_STATE_SUCCEEDED:\n",
        "            print(\"Pipeline job is still running...\")\n",
        "            time.sleep(60)\n",
        "        else:\n",
        "            print(\"Pipeline job is complete.\")\n",
        "            pipeline_job.delete()\n",
        "    break\n",
        "\n",
        "# Delete experiment\n",
        "exp = vertex_ai.Experiment(EXPERIMENT_NAME)\n",
        "exp.delete()\n",
        "\n",
        "# Delete bucket\n",
        "delete_bucket = False\n",
        "if delete_bucket or os.getenv(\"IS_TESTING\"):\n",
        "    ! gsutil rm -rf {BUCKET_URI}\n",
        "\n",
        "# Remove local files\n",
        "\n",
        "!rm {PIPELINE_TEMPLATE_FILE}"
      ]
    }
  ],
  "metadata": {
    "colab": {
      "collapsed_sections": [],
      "name": "comparing_pipeline_runs.ipynb",
      "toc_visible": true
    },
    "kernelspec": {
      "display_name": "Python 3",
      "name": "python3"
    }
  },
  "nbformat": 4,
  "nbformat_minor": 0
}
