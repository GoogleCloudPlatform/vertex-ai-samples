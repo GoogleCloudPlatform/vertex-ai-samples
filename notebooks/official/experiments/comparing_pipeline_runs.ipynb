{
 "cells": [
  {
   "cell_type": "code",
   "execution_count": 1,
   "id": "03d6692a",
   "metadata": {
    "execution": {
     "iopub.execute_input": "2022-08-11T10:06:07.611119Z",
     "iopub.status.busy": "2022-08-11T10:06:07.610815Z",
     "iopub.status.idle": "2022-08-11T10:06:07.615907Z",
     "shell.execute_reply": "2022-08-11T10:06:07.615038Z"
    },
    "id": "ur8xi4C7S06n",
    "papermill": {
     "duration": 0.020401,
     "end_time": "2022-08-11T10:06:07.617777",
     "exception": false,
     "start_time": "2022-08-11T10:06:07.597376",
     "status": "completed"
    },
    "tags": []
   },
   "outputs": [],
   "source": [
    "# Copyright 2022 Google LLC\n",
    "#\n",
    "# Licensed under the Apache License, Version 2.0 (the \"License\");\n",
    "# you may not use this file except in compliance with the License.\n",
    "# You may obtain a copy of the License at\n",
    "#\n",
    "#     https://www.apache.org/licenses/LICENSE-2.0\n",
    "#\n",
    "# Unless required by applicable law or agreed to in writing, software\n",
    "# distributed under the License is distributed on an \"AS IS\" BASIS,\n",
    "# WITHOUT WARRANTIES OR CONDITIONS OF ANY KIND, either express or implied.\n",
    "# See the License for the specific language governing permissions and\n",
    "# limitations under the License."
   ]
  },
  {
   "cell_type": "markdown",
   "id": "8d0e4326",
   "metadata": {
    "id": "847715f095b5",
    "papermill": {
     "duration": 0.094045,
     "end_time": "2022-08-11T10:06:07.724409",
     "exception": false,
     "start_time": "2022-08-11T10:06:07.630364",
     "status": "completed"
    },
    "tags": []
   },
   "source": [
    "# Vertex AI: Comparing Pipeline Runs"
   ]
  },
  {
   "cell_type": "markdown",
   "id": "51ad0b17",
   "metadata": {
    "id": "JAPoU8Sm5E6e",
    "papermill": {
     "duration": 0.011308,
     "end_time": "2022-08-11T10:06:07.747444",
     "exception": false,
     "start_time": "2022-08-11T10:06:07.736136",
     "status": "completed"
    },
    "tags": []
   },
   "source": [
    "<table align=\"left\">\n",
    "\n",
    "  <td>\n",
    "    <a href=\"https://colab.research.google.com/github/GoogleCloudPlatform/vertex-ai-samples/blob/main/notebooks/official/experiments/comparing_pipeline_runs.ipynb\">\n",
    "      <img src=\"https://cloud.google.com/ml-engine/images/colab-logo-32px.png\" alt=\"Colab logo\"> Run in Colab\n",
    "    </a>\n",
    "  </td>\n",
    "  <td>\n",
    "    <a href=\"https://github.com/GoogleCloudPlatform/vertex-ai-samples/blob/main/notebooks/official/experiments/comparing_pipeline_runs.ipynb\">\n",
    "      <img src=\"https://cloud.google.com/ml-engine/images/github-logo-32px.png\" alt=\"GitHub logo\">\n",
    "      View on GitHub\n",
    "    </a>\n",
    "  </td>\n",
    "  <td>\n",
    "    <a href=\"https://console.cloud.google.com/vertex-ai/workbench/deploy-notebook?download_url=https://github.com/GoogleCloudPlatform/vertex-ai-samples/blob/main/notebooks/official/experiments/comparing_pipeline_runs.ipynb\">\n",
    "      <img src=\"https://lh3.googleusercontent.com/UiNooY4LUgW_oTvpsNhPpQzsstV5W8F7rYgxgGBD85cWJoLmrOzhVs_ksK_vgx40SHs7jCqkTkCk=e14-rj-sc0xffffff-h130-w32\" alt=\"Vertex AI logo\">\n",
    "      Open in Vertex AI Workbench\n",
    "    </a>\n",
    "  </td>                                                                                               \n",
    "</table>"
   ]
  },
  {
   "cell_type": "markdown",
   "id": "678d089e",
   "metadata": {
    "id": "tvgnzT1CKxrO",
    "papermill": {
     "duration": 0.01186,
     "end_time": "2022-08-11T10:06:07.770675",
     "exception": false,
     "start_time": "2022-08-11T10:06:07.758815",
     "status": "completed"
    },
    "tags": []
   },
   "source": [
    "## Overview\n",
    "\n",
    "Depending on the model life cycle of your data science team, you would like to experiment and track training Pipeline runs and its associated parameters. Then, you would to compare runs of these Pipelines to each others in order to figure out which is the best configuration generates the model you will register in the Vertex AI Model Registry."
   ]
  },
  {
   "cell_type": "markdown",
   "id": "8f42d593",
   "metadata": {
    "id": "d220917f1302",
    "papermill": {
     "duration": 0.011119,
     "end_time": "2022-08-11T10:06:07.792994",
     "exception": false,
     "start_time": "2022-08-11T10:06:07.781875",
     "status": "completed"
    },
    "tags": []
   },
   "source": [
    "### Objective\n",
    "\n",
    "In this notebook, you will learn how to use Vertex AI Experiments to \n",
    "\n",
    "*   Log Pipeline Job\n",
    "*   Compare different Pipeline Jobs\n",
    "\n",
    "The steps covered include:\n",
    "\n",
    "* Formalize a training component\n",
    "* Build a training pipeline\n",
    "* Run several Pipeline jobs and log their results\n",
    "* Compare different Pipeline jobs"
   ]
  },
  {
   "cell_type": "markdown",
   "id": "1385a4fd",
   "metadata": {
    "id": "263933842022",
    "papermill": {
     "duration": 0.011162,
     "end_time": "2022-08-11T10:06:07.815478",
     "exception": false,
     "start_time": "2022-08-11T10:06:07.804316",
     "status": "completed"
    },
    "tags": []
   },
   "source": [
    "### Dataset\n",
    "\n",
    "The dataset used for this tutorial is the [Iris dataset](https://www.tensorflow.org/datasets/catalog/iris) from [TensorFlow Datasets](https://www.tensorflow.org/datasets/catalog/overview). This dataset does not require any feature engineering. The version of the dataset you will use in this tutorial is stored in a public Cloud Storage bucket. The trained model predicts the type of Iris flower species from a class of three species: setosa, virginica, or versicolor.\n"
   ]
  },
  {
   "cell_type": "markdown",
   "id": "f18ce2bc",
   "metadata": {
    "id": "de76bb18c85b",
    "papermill": {
     "duration": 0.011061,
     "end_time": "2022-08-11T10:06:07.837679",
     "exception": false,
     "start_time": "2022-08-11T10:06:07.826618",
     "status": "completed"
    },
    "tags": []
   },
   "source": [
    "### Costs \n",
    "\n",
    "This tutorial uses billable components of Google Cloud:\n",
    "\n",
    "* Vertex AI\n",
    "* Cloud Storage\n",
    "\n",
    "Learn about [Vertex AI\n",
    "pricing](https://cloud.google.com/vertex-ai/pricing) and [Cloud Storage\n",
    "pricing](https://cloud.google.com/storage/pricing), and use the [Pricing\n",
    "Calculator](https://cloud.google.com/products/calculator/)\n",
    "to generate a cost estimate based on your projected usage."
   ]
  },
  {
   "cell_type": "markdown",
   "id": "929dc146",
   "metadata": {
    "id": "gCuSR8GkAgzl",
    "papermill": {
     "duration": 0.011526,
     "end_time": "2022-08-11T10:06:07.860431",
     "exception": false,
     "start_time": "2022-08-11T10:06:07.848905",
     "status": "completed"
    },
    "tags": []
   },
   "source": [
    "### Set up your local development environment\n",
    "\n",
    "**If you are using Colab or Vertex AI Workbench Notebooks**, your environment already meets\n",
    "all the requirements to run this notebook. You can skip this step.\n",
    "\n",
    "**Otherwise**, make sure your environment meets this notebook's requirements.\n",
    "You need the following:\n",
    "\n",
    "* The Google Cloud SDK\n",
    "* Git\n",
    "* Python 3\n",
    "* virtualenv\n",
    "* Jupyter notebook running in a virtual environment with Python 3\n",
    "\n",
    "The Google Cloud guide to [Setting up a Python development\n",
    "environment](https://cloud.google.com/python/setup) and the [Jupyter\n",
    "installation guide](https://jupyter.org/install) provide detailed instructions\n",
    "for meeting these requirements. The following steps provide a condensed set of\n",
    "instructions:\n",
    "\n",
    "1. [Install and initialize the Cloud SDK.](https://cloud.google.com/sdk/docs/)\n",
    "\n",
    "1. [Install Python 3.](https://cloud.google.com/python/setup#installing_python)\n",
    "\n",
    "1. [Install\n",
    "   virtualenv](https://cloud.google.com/python/setup#installing_and_using_virtualenv)\n",
    "   and create a virtual environment that uses Python 3. Activate the virtual environment.\n",
    "\n",
    "1. To install Jupyter, run `pip3 install jupyter` on the\n",
    "command-line in a terminal shell.\n",
    "\n",
    "1. To launch Jupyter, run `jupyter notebook` on the command-line in a terminal shell.\n",
    "\n",
    "1. Open this notebook in the Jupyter Notebook Dashboard."
   ]
  },
  {
   "cell_type": "markdown",
   "id": "8a04f380",
   "metadata": {
    "id": "i7EUnXsZhAGF",
    "papermill": {
     "duration": 0.011056,
     "end_time": "2022-08-11T10:06:07.882755",
     "exception": false,
     "start_time": "2022-08-11T10:06:07.871699",
     "status": "completed"
    },
    "tags": []
   },
   "source": [
    "### Install additional packages\n",
    "\n",
    "Install additional package dependencies not installed in your notebook environment, such as Vertex AI SDK and KFP SDK. Use the latest major GA version of each package."
   ]
  },
  {
   "cell_type": "code",
   "execution_count": 1,
   "id": "01efff6f",
   "metadata": {
    "id": "2b4ef9b72d43",
    "papermill": {
     "duration": 23.787741,
     "end_time": "2022-08-11T10:06:31.681536",
     "exception": false,
     "start_time": "2022-08-11T10:06:07.893795",
     "status": "completed"
    },
    "tags": []
   },
   "outputs": [
    {
     "name": "stdout",
     "output_type": "stream",
     "text": [
      "\u001b[33mWARNING: You are using pip version 21.0.1; however, version 22.2.2 is available.\n",
      "You should consider upgrading via the '/usr/local/bin/python3 -m pip install --upgrade pip' command.\u001b[0m\n"
     ]
    }
   ],
   "source": [
    "import os\n",
    "\n",
    "# The Vertex AI Workbench Notebook product has specific requirements\n",
    "IS_WORKBENCH_NOTEBOOK = os.getenv(\"DL_ANACONDA_HOME\")\n",
    "IS_USER_MANAGED_WORKBENCH_NOTEBOOK = os.path.exists(\n",
    "    \"/opt/deeplearning/metadata/env_version\"\n",
    ")\n",
    "\n",
    "# Vertex AI Notebook requires dependencies to be installed with '--user'\n",
    "USER_FLAG = \"\"\n",
    "if IS_WORKBENCH_NOTEBOOK:\n",
    "    USER_FLAG = \"--user\"\n",
    "\n",
    "! pip install {USER_FLAG} --upgrade google-cloud-aiplatform \\\n",
    "                                    google-cloud-storage \\\n",
    "                                    google-auth \\\n",
    "                                    kfp -q"
   ]
  },
  {
   "cell_type": "markdown",
   "id": "661d507f",
   "metadata": {
    "id": "hhq5zEbGg0XX",
    "papermill": {
     "duration": 0.011088,
     "end_time": "2022-08-11T10:06:31.704136",
     "exception": false,
     "start_time": "2022-08-11T10:06:31.693048",
     "status": "completed"
    },
    "tags": []
   },
   "source": [
    "### Restart the kernel\n",
    "\n",
    "After you install the additional packages, you need to restart the notebook kernel so it can find the packages."
   ]
  },
  {
   "cell_type": "code",
   "execution_count": 2,
   "id": "03b6a8de",
   "metadata": {
    "id": "EzrelQZ22IZj",
    "papermill": {
     "duration": 0.017761,
     "end_time": "2022-08-11T10:06:31.732880",
     "exception": false,
     "start_time": "2022-08-11T10:06:31.715119",
     "status": "completed"
    },
    "tags": []
   },
   "outputs": [],
   "source": [
    "# Automatically restart kernel after installs\n",
    "import os\n",
    "\n",
    "if not os.getenv(\"IS_TESTING\"):\n",
    "    # Automatically restart kernel after installs\n",
    "    import IPython\n",
    "\n",
    "    app = IPython.Application.instance()\n",
    "    app.kernel.do_shutdown(True)"
   ]
  },
  {
   "cell_type": "markdown",
   "id": "1933b3ea",
   "metadata": {
    "id": "lWEdiXsJg0XY",
    "papermill": {
     "duration": 0.011079,
     "end_time": "2022-08-11T10:06:31.755013",
     "exception": false,
     "start_time": "2022-08-11T10:06:31.743934",
     "status": "completed"
    },
    "tags": []
   },
   "source": [
    "## Before you begin"
   ]
  },
  {
   "cell_type": "markdown",
   "id": "f5a5ce85",
   "metadata": {
    "id": "BF1j6f9HApxa",
    "papermill": {
     "duration": 0.011254,
     "end_time": "2022-08-11T10:06:31.777402",
     "exception": false,
     "start_time": "2022-08-11T10:06:31.766148",
     "status": "completed"
    },
    "tags": []
   },
   "source": [
    "### Set up your Google Cloud project\n",
    "\n",
    "**The following steps are required, regardless of your notebook environment.**\n",
    "\n",
    "1. [Select or create a Google Cloud project](https://console.cloud.google.com/cloud-resource-manager). When you first create an account, you get a $300 free credit towards your compute/storage costs.\n",
    "\n",
    "1. [Make sure that billing is enabled for your project](https://cloud.google.com/billing/docs/how-to/modify-project).\n",
    "\n",
    "1. [Enable the Vertex AI API](https://console.cloud.google.com/flows/enableapi?apiid=aiplatform.googleapis.com).\n",
    "\n",
    "1. If you are running this notebook locally, you will need to install the [Cloud SDK](https://cloud.google.com/sdk).\n",
    "\n",
    "1. Enter your project ID in the cell below. Then run the cell to make sure the\n",
    "Cloud SDK uses the right project for all the commands in this notebook.\n",
    "\n",
    "**Note**: Jupyter runs lines prefixed with `!` as shell commands, and it interpolates Python variables prefixed with `$` into these commands."
   ]
  },
  {
   "cell_type": "markdown",
   "id": "87374522",
   "metadata": {
    "id": "WReHDGG5g0XY",
    "papermill": {
     "duration": 0.011235,
     "end_time": "2022-08-11T10:06:31.800142",
     "exception": false,
     "start_time": "2022-08-11T10:06:31.788907",
     "status": "completed"
    },
    "tags": []
   },
   "source": [
    "#### Set your project ID\n",
    "\n",
    "**If you don't know your project ID**, you may be able to get your project ID using `gcloud`."
   ]
  },
  {
   "cell_type": "code",
   "execution_count": 1,
   "id": "623f7f81",
   "metadata": {
    "id": "3c8049930470",
    "papermill": {
     "duration": 0.017113,
     "end_time": "2022-08-11T10:06:31.828678",
     "exception": false,
     "start_time": "2022-08-11T10:06:31.811565",
     "status": "completed"
    },
    "tags": []
   },
   "outputs": [],
   "source": [
    "PROJECT_ID = \"[your-project-id]\"  # @param {type:\"string\"}"
   ]
  },
  {
   "cell_type": "code",
   "execution_count": 2,
   "id": "61208acd",
   "metadata": {
    "id": "oM1iC_MfAts1",
    "papermill": {
     "duration": 0.018941,
     "end_time": "2022-08-11T10:06:31.859094",
     "exception": false,
     "start_time": "2022-08-11T10:06:31.840153",
     "status": "completed"
    },
    "tags": []
   },
   "outputs": [
    {
     "name": "stdout",
     "output_type": "stream",
     "text": [
      "Project ID: vertex-ai-dev\n"
     ]
    }
   ],
   "source": [
    "import os\n",
    "\n",
    "if PROJECT_ID == \"\" or PROJECT_ID is None or PROJECT_ID == \"[your-project-id]\":\n",
    "    # Get your GCP project id from gcloud\n",
    "    shell_output = ! gcloud config list --format 'value(core.project)' 2>/dev/null\n",
    "    PROJECT_ID = shell_output[0]\n",
    "    print(\"Project ID:\", PROJECT_ID)"
   ]
  },
  {
   "cell_type": "code",
   "execution_count": 3,
   "id": "e3b6676c",
   "metadata": {
    "id": "f2e3c0f2cbfb",
    "papermill": {
     "duration": 1.514379,
     "end_time": "2022-08-11T10:06:33.385035",
     "exception": false,
     "start_time": "2022-08-11T10:06:31.870656",
     "status": "completed"
    },
    "tags": []
   },
   "outputs": [
    {
     "name": "stdout",
     "output_type": "stream",
     "text": [
      "Updated property [core/project].\n",
      "\n",
      "\n",
      "Updates are available for some Cloud SDK components.  To install them,\n",
      "please run:\n",
      "  $ gcloud components update\n",
      "\n",
      "\n",
      "\n",
      "To take a quick anonymous survey, run:\n",
      "  $ gcloud survey\n",
      "\n"
     ]
    }
   ],
   "source": [
    "! gcloud config set project $PROJECT_ID"
   ]
  },
  {
   "cell_type": "markdown",
   "id": "f72c97d9",
   "metadata": {
    "id": "qJYoRfYng0XZ",
    "papermill": {
     "duration": 0.012094,
     "end_time": "2022-08-11T10:06:33.409075",
     "exception": false,
     "start_time": "2022-08-11T10:06:33.396981",
     "status": "completed"
    },
    "tags": []
   },
   "source": [
    "Otherwise, set your project ID here."
   ]
  },
  {
   "cell_type": "markdown",
   "id": "7d5f4514",
   "metadata": {
    "id": "2aa333eca058",
    "papermill": {
     "duration": 0.012172,
     "end_time": "2022-08-11T10:06:33.491546",
     "exception": false,
     "start_time": "2022-08-11T10:06:33.479374",
     "status": "completed"
    },
    "tags": []
   },
   "source": [
    "#### Region\n",
    "\n",
    "You can also change the `REGION` variable, which is used for operations\n",
    "throughout the rest of this notebook.  Below are regions supported for Vertex AI. We recommend that you choose the region closest to you.\n",
    "\n",
    "- Americas: `us-central1`\n",
    "- Europe: `europe-west4`\n",
    "- Asia Pacific: `asia-east1`\n",
    "\n",
    "You may not use a multi-regional bucket for training with Vertex AI. Not all regions provide support for all Vertex AI services.\n",
    "\n",
    "Learn more about [Vertex AI regions](https://cloud.google.com/vertex-ai/docs/general/locations)."
   ]
  },
  {
   "cell_type": "code",
   "execution_count": 4,
   "id": "8ce855e6",
   "metadata": {
    "id": "d8b34ef9a3d0",
    "papermill": {
     "duration": 0.018126,
     "end_time": "2022-08-11T10:06:33.521118",
     "exception": false,
     "start_time": "2022-08-11T10:06:33.502992",
     "status": "completed"
    },
    "tags": []
   },
   "outputs": [],
   "source": [
    "REGION = \"us-central1\"  # @param {type: \"string\"}\n",
    "\n",
    "if REGION == \"[your-region]\":\n",
    "    REGION = \"us-central1\""
   ]
  },
  {
   "cell_type": "markdown",
   "id": "0ae1f1b2",
   "metadata": {
    "id": "126548a06aa1",
    "papermill": {
     "duration": 0.011284,
     "end_time": "2022-08-11T10:06:33.543774",
     "exception": false,
     "start_time": "2022-08-11T10:06:33.532490",
     "status": "completed"
    },
    "tags": []
   },
   "source": [
    "#### UUID\n",
    "\n",
    "If you are in a live tutorial session, you might be using a shared test account or project. To avoid name collisions between users on resources created, you create a uuid for each instance session, and append it onto the name of resources you create in this tutorial.\n"
   ]
  },
  {
   "cell_type": "code",
   "execution_count": 5,
   "id": "cff64b43",
   "metadata": {
    "id": "e660b8504e63",
    "papermill": {
     "duration": 0.018218,
     "end_time": "2022-08-11T10:06:33.573409",
     "exception": false,
     "start_time": "2022-08-11T10:06:33.555191",
     "status": "completed"
    },
    "tags": []
   },
   "outputs": [],
   "source": [
    "import random\n",
    "import string\n",
    "\n",
    "\n",
    "# Generate a uuid of a specifed length(default=8)\n",
    "def generate_uuid(length: int = 8) -> str:\n",
    "    return \"\".join(random.choices(string.ascii_lowercase + string.digits, k=length))\n",
    "\n",
    "\n",
    "UUID = generate_uuid()"
   ]
  },
  {
   "cell_type": "markdown",
   "id": "604e452e",
   "metadata": {
    "id": "sBCra4QMA2wR",
    "papermill": {
     "duration": 0.011328,
     "end_time": "2022-08-11T10:06:33.596138",
     "exception": false,
     "start_time": "2022-08-11T10:06:33.584810",
     "status": "completed"
    },
    "tags": []
   },
   "source": [
    "### Authenticate your Google Cloud account\n",
    "\n",
    "**If you are using Vertex AI Workbench Notebooks**, your environment is already\n",
    "authenticated. Skip this step.\n",
    "\n",
    "**If you are using Colab**, run the cell below and follow the instructions\n",
    "when prompted to authenticate your account via oAuth.\n",
    "\n",
    "**Otherwise**, follow these steps:\n",
    "\n",
    "1. In the Cloud Console, go to the [**Create service account key**\n",
    "   page](https://console.cloud.google.com/apis/credentials/serviceaccountkey).\n",
    "\n",
    "2. Click **Create service account**.\n",
    "\n",
    "3. In the **Service account name** field, enter a name, and\n",
    "   click **Create**.\n",
    "\n",
    "4. In the **Grant this service account access to project** section, click the **Role** drop-down list. Type \"Vertex AI\"\n",
    "into the filter box, and select\n",
    "   **Vertex AI Administrator**. Type \"Storage Object Admin\" into the filter box, and select **Storage Object Admin**.\n",
    "\n",
    "5. Click *Create*. A JSON file that contains your key downloads to your\n",
    "local environment.\n",
    "\n",
    "6. Enter the path to your service account key as the\n",
    "`GOOGLE_APPLICATION_CREDENTIALS` variable in the cell below and run the cell."
   ]
  },
  {
   "cell_type": "code",
   "execution_count": 10,
   "id": "ceb14194",
   "metadata": {
    "execution": {
     "iopub.execute_input": "2022-08-11T10:06:33.621053Z",
     "iopub.status.busy": "2022-08-11T10:06:33.620784Z",
     "iopub.status.idle": "2022-08-11T10:06:33.627462Z",
     "shell.execute_reply": "2022-08-11T10:06:33.626449Z"
    },
    "id": "PyQmSRbKA8r-",
    "papermill": {
     "duration": 0.022216,
     "end_time": "2022-08-11T10:06:33.629928",
     "exception": false,
     "start_time": "2022-08-11T10:06:33.607712",
     "status": "completed"
    },
    "tags": []
   },
   "outputs": [],
   "source": [
    "# If you are running this notebook in Colab, run this cell and follow the\n",
    "# instructions to authenticate your GCP account. This provides access to your\n",
    "# Cloud Storage bucket and lets you submit training jobs and prediction\n",
    "# requests.\n",
    "\n",
    "import os\n",
    "import sys\n",
    "\n",
    "# If on Vertex AI Workbench, then don't execute this code\n",
    "IS_COLAB = \"google.colab\" in sys.modules\n",
    "if not os.path.exists(\"/opt/deeplearning/metadata/env_version\") and not os.getenv(\n",
    "    \"DL_ANACONDA_HOME\"\n",
    "):\n",
    "    if \"google.colab\" in sys.modules:\n",
    "        from google.colab import auth as google_auth\n",
    "\n",
    "        google_auth.authenticate_user()\n",
    "\n",
    "    # If you are running this notebook locally, replace the string below with the\n",
    "    # path to your service account key and run this cell to authenticate your GCP\n",
    "    # account.\n",
    "    elif not os.getenv(\"IS_TESTING\"):\n",
    "        %env GOOGLE_APPLICATION_CREDENTIALS ''"
   ]
  },
  {
   "cell_type": "markdown",
   "id": "afc3e9b1",
   "metadata": {
    "id": "zgPO1eR3CYjk",
    "papermill": {
     "duration": 0.011522,
     "end_time": "2022-08-11T10:06:33.653005",
     "exception": false,
     "start_time": "2022-08-11T10:06:33.641483",
     "status": "completed"
    },
    "tags": []
   },
   "source": [
    "### Create a Cloud Storage bucket\n",
    "\n",
    "**The following steps are required, regardless of your notebook environment.**\n",
    "\n",
    "When you initialize the Vertex SDK for Python, you specify a Cloud Storage staging bucket. The staging bucket is where all the data associated with your dataset and model resources are retained across sessions.\n",
    "\n",
    "Set the name of your Cloud Storage bucket below. Bucket names must be globally unique across all Google Cloud projects, including those outside of your organization."
   ]
  },
  {
   "cell_type": "code",
   "execution_count": 6,
   "id": "393dab7d",
   "metadata": {
    "id": "MzGDU7TWdts_",
    "papermill": {
     "duration": 0.017992,
     "end_time": "2022-08-11T10:06:33.682622",
     "exception": false,
     "start_time": "2022-08-11T10:06:33.664630",
     "status": "completed"
    },
    "tags": []
   },
   "outputs": [],
   "source": [
    "BUCKET_NAME = \"[your-bucket-name]\"  # @param {type:\"string\"}\n",
    "BUCKET_URI = f\"gs://{BUCKET_NAME}\""
   ]
  },
  {
   "cell_type": "code",
   "execution_count": 7,
   "id": "ed0cf308",
   "metadata": {
    "id": "cf221059d072",
    "papermill": {
     "duration": 0.018442,
     "end_time": "2022-08-11T10:06:33.712570",
     "exception": false,
     "start_time": "2022-08-11T10:06:33.694128",
     "status": "completed"
    },
    "tags": []
   },
   "outputs": [],
   "source": [
    "if BUCKET_NAME == \"\" or BUCKET_NAME is None or BUCKET_NAME == \"[your-bucket-name]\":\n",
    "    BUCKET_NAME = PROJECT_ID + \"aip-\" + UUID\n",
    "    BUCKET_URI = f\"gs://{BUCKET_NAME}\""
   ]
  },
  {
   "cell_type": "markdown",
   "id": "e64c79b6",
   "metadata": {
    "id": "-EcIXiGsCePi",
    "papermill": {
     "duration": 0.011515,
     "end_time": "2022-08-11T10:06:33.735598",
     "exception": false,
     "start_time": "2022-08-11T10:06:33.724083",
     "status": "completed"
    },
    "tags": []
   },
   "source": [
    "**Only if your bucket doesn't already exist**: Run the following cell to create your Cloud Storage bucket."
   ]
  },
  {
   "cell_type": "code",
   "execution_count": 8,
   "id": "5583579c",
   "metadata": {
    "id": "NIq7R4HZCfIc",
    "papermill": {
     "duration": 2.900303,
     "end_time": "2022-08-11T10:06:36.647446",
     "exception": false,
     "start_time": "2022-08-11T10:06:33.747143",
     "status": "completed"
    },
    "tags": []
   },
   "outputs": [
    {
     "name": "stdout",
     "output_type": "stream",
     "text": [
      "Creating gs://vertex-ai-devaip-4wfap8r0/...\n"
     ]
    }
   ],
   "source": [
    "! gsutil mb -l $REGION -p $PROJECT_ID $BUCKET_URI"
   ]
  },
  {
   "cell_type": "markdown",
   "id": "23c6ab3a",
   "metadata": {
    "id": "ucvCsknMCims",
    "papermill": {
     "duration": 0.012072,
     "end_time": "2022-08-11T10:06:36.671744",
     "exception": false,
     "start_time": "2022-08-11T10:06:36.659672",
     "status": "completed"
    },
    "tags": []
   },
   "source": [
    "Finally, validate access to your Cloud Storage bucket by examining its contents:"
   ]
  },
  {
   "cell_type": "code",
   "execution_count": 14,
   "id": "1d421ae7",
   "metadata": {
    "execution": {
     "iopub.execute_input": "2022-08-11T10:06:36.696503Z",
     "iopub.status.busy": "2022-08-11T10:06:36.696239Z",
     "iopub.status.idle": "2022-08-11T10:06:38.275843Z",
     "shell.execute_reply": "2022-08-11T10:06:38.275082Z"
    },
    "id": "vhOb7YnwClBb",
    "papermill": {
     "duration": 1.594695,
     "end_time": "2022-08-11T10:06:38.278208",
     "exception": false,
     "start_time": "2022-08-11T10:06:36.683513",
     "status": "completed"
    },
    "tags": []
   },
   "outputs": [],
   "source": [
    "! gsutil ls -al $BUCKET_URI"
   ]
  },
  {
   "cell_type": "markdown",
   "id": "31e17701",
   "metadata": {
    "id": "b7e24e522bee",
    "papermill": {
     "duration": 0.011787,
     "end_time": "2022-08-11T10:06:38.302185",
     "exception": false,
     "start_time": "2022-08-11T10:06:38.290398",
     "status": "completed"
    },
    "tags": []
   },
   "source": [
    "#### Service Account\n",
    "\n",
    "**If you don't know your service account**, try to get your service account using `gcloud` command by executing the second cell below."
   ]
  },
  {
   "cell_type": "code",
   "execution_count": 9,
   "id": "677dc50c",
   "metadata": {
    "id": "77b01a1fdbb4",
    "papermill": {
     "duration": 0.018039,
     "end_time": "2022-08-11T10:06:38.332100",
     "exception": false,
     "start_time": "2022-08-11T10:06:38.314061",
     "status": "completed"
    },
    "tags": []
   },
   "outputs": [],
   "source": [
    "SERVICE_ACCOUNT = \"[your-service-account]\"  # @param {type:\"string\"}"
   ]
  },
  {
   "cell_type": "code",
   "execution_count": 10,
   "id": "6b52d75e",
   "metadata": {
    "id": "121d7ca29426",
    "papermill": {
     "duration": 0.022914,
     "end_time": "2022-08-11T10:06:38.366774",
     "exception": false,
     "start_time": "2022-08-11T10:06:38.343860",
     "status": "completed"
    },
    "tags": []
   },
   "outputs": [],
   "source": [
    "import sys\n",
    "\n",
    "IS_COLAB = \"google.colab\" in sys.modules\n",
    "\n",
    "if (\n",
    "    SERVICE_ACCOUNT == \"\"\n",
    "    or SERVICE_ACCOUNT is None\n",
    "    or SERVICE_ACCOUNT == \"[your-service-account]\"\n",
    "):\n",
    "    # Get your service account from gcloud\n",
    "    if not IS_COLAB:\n",
    "        shell_output = !gcloud auth list 2>/dev/null\n",
    "        SERVICE_ACCOUNT = shell_output[2].replace(\"*\", \"\").strip()\n",
    "\n",
    "    if IS_COLAB:\n",
    "        shell_output = ! gcloud projects describe  $PROJECT_ID\n",
    "        project_number = shell_output[-1].split(\":\")[1].strip().replace(\"'\", \"\")\n",
    "        SERVICE_ACCOUNT = f\"{project_number}-compute@developer.gserviceaccount.com\"\n",
    "\n",
    "    print(\"Service Account:\", SERVICE_ACCOUNT)"
   ]
  },
  {
   "cell_type": "markdown",
   "id": "8ea42e65",
   "metadata": {
    "id": "aa175e2960ac",
    "papermill": {
     "duration": 0.01173,
     "end_time": "2022-08-11T10:06:38.390318",
     "exception": false,
     "start_time": "2022-08-11T10:06:38.378588",
     "status": "completed"
    },
    "tags": []
   },
   "source": [
    "#### Set service account access for Vertex AI Pipelines\n",
    "\n",
    "Run the following commands to grant your service account access to read and write pipeline artifacts in the bucket that you created in the previous step -- you only need to run these once per service account."
   ]
  },
  {
   "cell_type": "code",
   "execution_count": 11,
   "id": "d1866e8b",
   "metadata": {
    "id": "f88cb0488c08",
    "papermill": {
     "duration": 4.043822,
     "end_time": "2022-08-11T10:06:42.445893",
     "exception": false,
     "start_time": "2022-08-11T10:06:38.402071",
     "status": "completed"
    },
    "tags": []
   },
   "outputs": [],
   "source": [
    "! gsutil iam ch serviceAccount:{SERVICE_ACCOUNT}:roles/storage.objectCreator $BUCKET_URI\n",
    "\n",
    "! gsutil iam ch serviceAccount:{SERVICE_ACCOUNT}:roles/storage.objectViewer $BUCKET_URI"
   ]
  },
  {
   "cell_type": "markdown",
   "id": "0b8b3a2b",
   "metadata": {
    "id": "fXUqOdIaLbjf",
    "papermill": {
     "duration": 0.011987,
     "end_time": "2022-08-11T10:06:42.470276",
     "exception": false,
     "start_time": "2022-08-11T10:06:42.458289",
     "status": "completed"
    },
    "tags": []
   },
   "source": [
    "### Download training dataset\n"
   ]
  },
  {
   "cell_type": "code",
   "execution_count": 12,
   "id": "e3f5dd10",
   "metadata": {
    "id": "9fYX14c0LfmU",
    "papermill": {
     "duration": 3.011705,
     "end_time": "2022-08-11T10:06:45.493943",
     "exception": false,
     "start_time": "2022-08-11T10:06:42.482238",
     "status": "completed"
    },
    "tags": []
   },
   "outputs": [
    {
     "name": "stdout",
     "output_type": "stream",
     "text": [
      "Copying gs://cloud-samples-data/ai-platform/iris/classification/evaluate.csv [Content-Type=text/csv]...\n",
      "Copying gs://cloud-samples-data/ai-platform/iris/classification/train.csv [Content-Type=text/csv]...\n",
      "Copying gs://cloud-samples-data/ai-platform/iris/iris_data.csv [Content-Type=application/octet-stream]...\n",
      "Copying gs://cloud-samples-data/ai-platform/iris/iris_predict.csv [Content-Type=text/csv]...\n",
      "\\ [4 files][  5.4 KiB/  5.4 KiB]                                                \n",
      "==> NOTE: You are performing a sequence of gsutil operations that may\n",
      "run significantly faster if you instead use gsutil -m cp ... Please\n",
      "see the -m section under \"gsutil help options\" for further information\n",
      "about when gsutil -m can be advantageous.\n",
      "\n",
      "Copying gs://cloud-samples-data/ai-platform/iris/iris_target.csv [Content-Type=application/octet-stream]...\n",
      "Copying gs://cloud-samples-data/ai-platform/iris/iris_test.csv [Content-Type=text/csv]...\n",
      "Copying gs://cloud-samples-data/ai-platform/iris/iris_training.csv [Content-Type=text/csv]...\n",
      "| [7 files][  8.4 KiB/  8.4 KiB]                                                \n",
      "Operation completed over 7 objects/8.4 KiB.                                      \n"
     ]
    }
   ],
   "source": [
    "DATASET_URI = \"gs://cloud-samples-data/ai-platform/iris\"\n",
    "\n",
    "!gsutil cp -r $DATASET_URI $BUCKET_URI"
   ]
  },
  {
   "cell_type": "markdown",
   "id": "bc868559",
   "metadata": {
    "id": "XoEqT2Y4DJmf",
    "papermill": {
     "duration": 0.0127,
     "end_time": "2022-08-11T10:06:45.519838",
     "exception": false,
     "start_time": "2022-08-11T10:06:45.507138",
     "status": "completed"
    },
    "tags": []
   },
   "source": [
    "### Import libraries and define constants"
   ]
  },
  {
   "cell_type": "code",
   "execution_count": 13,
   "id": "9a28ecc1",
   "metadata": {
    "id": "pRUOFELefqf1",
    "papermill": {
     "duration": 1.916638,
     "end_time": "2022-08-11T10:06:47.449107",
     "exception": false,
     "start_time": "2022-08-11T10:06:45.532469",
     "status": "completed"
    },
    "tags": []
   },
   "outputs": [],
   "source": [
    "import logging\n",
    "# General\n",
    "import os\n",
    "import time\n",
    "\n",
    "logger = logging.getLogger(\"logger\")\n",
    "logging.basicConfig(level=logging.INFO)\n",
    "\n",
    "import kfp.v2.compiler as compiler\n",
    "# Pipeline Experiments\n",
    "import kfp.v2.dsl as dsl\n",
    "# Vertex AI\n",
    "from google.cloud import aiplatform as vertex_ai\n",
    "from kfp.v2.dsl import Metrics, Model, Output, component"
   ]
  },
  {
   "cell_type": "code",
   "execution_count": 14,
   "id": "ac9d1918",
   "metadata": {
    "id": "OAY0QKZD8qNP",
    "papermill": {
     "duration": 0.020873,
     "end_time": "2022-08-11T10:06:47.483998",
     "exception": false,
     "start_time": "2022-08-11T10:06:47.463125",
     "status": "completed"
    },
    "tags": []
   },
   "outputs": [],
   "source": [
    "# Experiments\n",
    "TASK = \"classification\"\n",
    "MODEL_TYPE = \"xgboost\"\n",
    "EXPERIMENT_NAME = f\"{PROJECT_ID}-{TASK}-{MODEL_TYPE}-{UUID}\"\n",
    "\n",
    "# Pipeline\n",
    "PIPELINE_URI = f\"{BUCKET_URI}/pipelines\"\n",
    "TRAIN_URI = f\"{BUCKET_URI}/iris/iris_data.csv\"\n",
    "LABEL_URI = f\"{BUCKET_URI}/iris/iris_target.csv\"\n",
    "MODEL_URI = f\"{BUCKET_URI}/model\""
   ]
  },
  {
   "cell_type": "markdown",
   "id": "bf6fc2a6",
   "metadata": {
    "id": "inR70nh38PeK",
    "papermill": {
     "duration": 0.012829,
     "end_time": "2022-08-11T10:06:47.509493",
     "exception": false,
     "start_time": "2022-08-11T10:06:47.496664",
     "status": "completed"
    },
    "tags": []
   },
   "source": [
    "### Initialize Vertex AI SDK for Python\n",
    "\n",
    "Initialize the Vertex AI SDK for Python for your project and corresponding bucket."
   ]
  },
  {
   "cell_type": "code",
   "execution_count": 15,
   "id": "c09cf724",
   "metadata": {
    "id": "Nz0nasrh8T3c",
    "papermill": {
     "duration": 0.019145,
     "end_time": "2022-08-11T10:06:47.541308",
     "exception": false,
     "start_time": "2022-08-11T10:06:47.522163",
     "status": "completed"
    },
    "tags": []
   },
   "outputs": [],
   "source": [
    "vertex_ai.init(project=PROJECT_ID, staging_bucket=BUCKET_URI)"
   ]
  },
  {
   "cell_type": "markdown",
   "id": "7f8a3f4c",
   "metadata": {
    "id": "container:training,prediction,xgboost",
    "papermill": {
     "duration": 0.012633,
     "end_time": "2022-08-11T10:06:47.566570",
     "exception": false,
     "start_time": "2022-08-11T10:06:47.553937",
     "status": "completed"
    },
    "tags": []
   },
   "source": [
    "### Set pre-built containers\n",
    "\n",
    "Set the pre-built Docker container image for training and prediction.\n",
    "\n",
    "\n",
    "For the latest list, see [Pre-built containers for training](https://cloud.google.com/ai-platform-unified/docs/training/pre-built-containers).\n",
    "\n",
    "\n",
    "For the latest list, see [Pre-built containers for prediction](https://cloud.google.com/ai-platform-unified/docs/predictions/pre-built-containers)."
   ]
  },
  {
   "cell_type": "code",
   "execution_count": 16,
   "id": "9f7f135c",
   "metadata": {
    "id": "XujRA5ueox9U",
    "papermill": {
     "duration": 0.019204,
     "end_time": "2022-08-11T10:06:47.598563",
     "exception": false,
     "start_time": "2022-08-11T10:06:47.579359",
     "status": "completed"
    },
    "tags": []
   },
   "outputs": [],
   "source": [
    "TRAIN_IMAGE = vertex_ai.helpers.get_prebuilt_prediction_container_uri(\n",
    "    framework=\"xgboost\", framework_version=\"1.1\", accelerator=\"cpu\"\n",
    ")"
   ]
  },
  {
   "cell_type": "markdown",
   "id": "3e8703de",
   "metadata": {
    "id": "t1NLYz1R-KWv",
    "papermill": {
     "duration": 0.012693,
     "end_time": "2022-08-11T10:06:47.623920",
     "exception": false,
     "start_time": "2022-08-11T10:06:47.611227",
     "status": "completed"
    },
    "tags": []
   },
   "source": [
    "## Formalize your training as pipeline component\n"
   ]
  },
  {
   "cell_type": "markdown",
   "id": "7a8cc371",
   "metadata": {
    "id": "jnfKxpj0-Z0H",
    "papermill": {
     "duration": 0.012702,
     "end_time": "2022-08-11T10:06:47.649312",
     "exception": false,
     "start_time": "2022-08-11T10:06:47.636610",
     "status": "completed"
    },
    "tags": []
   },
   "source": [
    "Before you start running your pipeline experiments, you have to formalize your training as pipeline component.\n",
    "\n",
    "To do that, you will use the `kfp.v2.dsl.component` decorator to convert your training task into a pipeline component.\n",
    "\n",
    "Training code will import required libraries to train,evaluate and save a model with mentioned features. "
   ]
  },
  {
   "cell_type": "code",
   "execution_count": 17,
   "id": "75d4db2c",
   "metadata": {
    "id": "jv_-vU46_eFN",
    "papermill": {
     "duration": 0.040905,
     "end_time": "2022-08-11T10:06:47.702983",
     "exception": false,
     "start_time": "2022-08-11T10:06:47.662078",
     "status": "completed"
    },
    "tags": []
   },
   "outputs": [],
   "source": [
    "@component(\n",
    "    packages_to_install=[\n",
    "        \"numpy==1.18.5\",\n",
    "        \"pandas==1.0.4\",\n",
    "        \"scikit-learn==0.23.1\",\n",
    "        \"xgboost==1.1.1\",\n",
    "    ]\n",
    ")\n",
    "def custom_trainer(\n",
    "    train_uri: str,\n",
    "    label_uri: str,\n",
    "    max_depth: int,\n",
    "    learning_rate: float,\n",
    "    boost_rounds: int,\n",
    "    model_uri: str,\n",
    "    metrics: Output[Metrics],\n",
    "    model_metadata: Output[Model],\n",
    "):\n",
    "\n",
    "    # import libraries\n",
    "    import logging\n",
    "    import uuid\n",
    "    from pathlib import Path as path\n",
    "\n",
    "    import pandas as pd\n",
    "    import xgboost as xgb\n",
    "    from sklearn.metrics import accuracy_score\n",
    "    from sklearn.model_selection import train_test_split\n",
    "\n",
    "    # variables\n",
    "    gs_prefix = \"gs://\"\n",
    "    gcsfuse_prefix = \"/gcs/\"\n",
    "    train_path = train_uri.replace(gs_prefix, gcsfuse_prefix)\n",
    "    label_path = label_uri.replace(gs_prefix, gcsfuse_prefix)\n",
    "    model_path = model_uri.replace(gs_prefix, gcsfuse_prefix)\n",
    "\n",
    "    def get_logger():\n",
    "        \"\"\"\n",
    "        Get the logger\n",
    "        \"\"\"\n",
    "        logger = logging.getLogger(__name__)\n",
    "        logger.setLevel(logging.INFO)\n",
    "        handler = logging.StreamHandler()\n",
    "        handler.setFormatter(\n",
    "            logging.Formatter(\"%(asctime)s - %(name)s - %(levelname)s - %(message)s\")\n",
    "        )\n",
    "        logger.addHandler(handler)\n",
    "        return logger\n",
    "\n",
    "    def get_data(\n",
    "        train_path: str, label_path: str\n",
    "    ) -> (xgb.DMatrix, pd.DataFrame, pd.DataFrame):\n",
    "        \"\"\"\n",
    "        Get the data\n",
    "        Args:\n",
    "            train_path: the path of the train data\n",
    "            label_path: the path of the label data\n",
    "        Returns:\n",
    "            the train data and the label data\n",
    "        \"\"\"\n",
    "        # Load data into pandas, then use `.values` to get NumPy arrays\n",
    "        data = pd.read_csv(train_path).values\n",
    "        labels = pd.read_csv(label_path).values\n",
    "\n",
    "        # Convert one-column 2D array into 1D array for use with XGBoost\n",
    "        labels = labels.reshape((labels.size,))\n",
    "        train_data, test_data, train_labels, test_labels = train_test_split(\n",
    "            data, labels, test_size=0.2, random_state=7\n",
    "        )\n",
    "\n",
    "        # Load data into DMatrix object\n",
    "        dtrain = xgb.DMatrix(train_data, label=train_labels)\n",
    "        return dtrain, test_data, test_labels\n",
    "\n",
    "    def train_model(max_depth: int, eta: int, boost_rounds, dtrain: xgb.DMatrix):\n",
    "        \"\"\"\n",
    "        Train the model\n",
    "        Args:\n",
    "            max_depth: the max depth of the model\n",
    "            eta: the eta of the model\n",
    "            boost_rounds: the boost rounds of the model\n",
    "            dtrain: the train data\n",
    "        Returns:\n",
    "            the trained model\n",
    "        \"\"\"\n",
    "        # Train XGBoost model\n",
    "        param = {\"max_depth\": max_depth, \"eta\": eta}\n",
    "        model = xgb.train(param, dtrain, num_boost_round=boost_rounds)\n",
    "        return model\n",
    "\n",
    "    def evaluate_model(model, test_data, test_labels):\n",
    "        \"\"\"\n",
    "        Evaluate the model\n",
    "        Args:\n",
    "            model: the trained model\n",
    "            test_data: the test data\n",
    "            test_labels: the test labels\n",
    "        Returns:\n",
    "            the accuracy of the model\n",
    "        \"\"\"\n",
    "        dtest = xgb.DMatrix(test_data)\n",
    "        pred = model.predict(dtest)\n",
    "        predictions = [round(value) for value in pred]\n",
    "        # Evaluate predictions\n",
    "        accuracy = accuracy_score(test_labels, predictions)\n",
    "        return accuracy\n",
    "\n",
    "    def save_model(model, model_path):\n",
    "        \"\"\"\n",
    "        Save the model\n",
    "        Args:\n",
    "            model: the trained model\n",
    "            model_path: the path of the model\n",
    "        \"\"\"\n",
    "        model_id = str(uuid.uuid1())\n",
    "        model_path = f\"{model_path}/{model_id}/model.bst\"\n",
    "        path(model_path).parent.mkdir(parents=True, exist_ok=True)\n",
    "        model.save_model(model_path)\n",
    "\n",
    "    # Main ----------------------------------------------\n",
    "\n",
    "    dtrain, test_data, test_labels = get_data(train_path, label_path)\n",
    "    model = train_model(max_depth, learning_rate, boost_rounds, dtrain)\n",
    "    accuracy = evaluate_model(model, test_data, test_labels)\n",
    "    save_model(model, model_path)\n",
    "\n",
    "    # Metadata ------------------------------------------\n",
    "    metrics.log_metric(\"accurancy\", accuracy)\n",
    "    model_metadata.uri = model_uri"
   ]
  },
  {
   "cell_type": "markdown",
   "id": "880167af",
   "metadata": {
    "id": "U1UiTZhkVoFM",
    "papermill": {
     "duration": 0.01271,
     "end_time": "2022-08-11T10:06:47.728525",
     "exception": false,
     "start_time": "2022-08-11T10:06:47.715815",
     "status": "completed"
    },
    "tags": []
   },
   "source": [
    "## Build a pipeline\n",
    "\n",
    "Below code will perform creating pipelineJob in associated project."
   ]
  },
  {
   "cell_type": "code",
   "execution_count": 18,
   "id": "348313d8",
   "metadata": {
    "id": "9Gfr6pNLU-dB",
    "papermill": {
     "duration": 0.02022,
     "end_time": "2022-08-11T10:06:47.761480",
     "exception": false,
     "start_time": "2022-08-11T10:06:47.741260",
     "status": "completed"
    },
    "tags": []
   },
   "outputs": [],
   "source": [
    "@dsl.pipeline(name=\"custom-training-pipeline\")\n",
    "def pipeline(\n",
    "    train_uri: str,\n",
    "    label_uri: str,\n",
    "    max_depth: int,\n",
    "    learning_rate: float,\n",
    "    boost_rounds: int,\n",
    "    model_uri: str,\n",
    "):\n",
    "\n",
    "    custom_trainer(\n",
    "        train_uri, label_uri, max_depth, learning_rate, boost_rounds, model_uri\n",
    "    )"
   ]
  },
  {
   "cell_type": "markdown",
   "id": "9155cd6e",
   "metadata": {
    "id": "RkfZ7qVAVjBO",
    "papermill": {
     "duration": 0.012807,
     "end_time": "2022-08-11T10:06:47.787032",
     "exception": false,
     "start_time": "2022-08-11T10:06:47.774225",
     "status": "completed"
    },
    "tags": []
   },
   "source": [
    "### Compile your pipeline into a JSON file"
   ]
  },
  {
   "cell_type": "code",
   "execution_count": 19,
   "id": "86102284",
   "metadata": {
    "id": "oYlLBGUSVibG",
    "papermill": {
     "duration": 0.026609,
     "end_time": "2022-08-11T10:06:47.826809",
     "exception": false,
     "start_time": "2022-08-11T10:06:47.800200",
     "status": "completed"
    },
    "tags": []
   },
   "outputs": [
    {
     "name": "stderr",
     "output_type": "stream",
     "text": [
      "/usr/local/lib/python3.9/site-packages/kfp/v2/compiler/compiler.py:1292: FutureWarning: APIs imported from the v1 namespace (e.g. kfp.dsl, kfp.components, etc) will not be supported by the v2 compiler since v2.0.0\n",
      "  warnings.warn(\n"
     ]
    }
   ],
   "source": [
    "compiler.Compiler().compile(pipeline_func=pipeline, package_path=\"pipeline.json\")"
   ]
  },
  {
   "cell_type": "markdown",
   "id": "fa41fd09",
   "metadata": {
    "id": "95vG4-zPWc0B",
    "papermill": {
     "duration": 0.013129,
     "end_time": "2022-08-11T10:06:47.853758",
     "exception": false,
     "start_time": "2022-08-11T10:06:47.840629",
     "status": "completed"
    },
    "tags": []
   },
   "source": [
    "## Submit and track pipeline runs"
   ]
  },
  {
   "cell_type": "markdown",
   "id": "e52fdb84",
   "metadata": {
    "id": "ZNb6kZ2l5t-O",
    "papermill": {
     "duration": 0.013357,
     "end_time": "2022-08-11T10:06:47.880233",
     "exception": false,
     "start_time": "2022-08-11T10:06:47.866876",
     "status": "completed"
    },
    "tags": []
   },
   "source": [
    "### Submit Pipeline runs\n",
    "\n",
    "Now that you have the pipeline, you define its training configuration depending on the defined parameters. Below you have an example and how you can submit several pipeline runs. "
   ]
  },
  {
   "cell_type": "code",
   "execution_count": 28,
   "id": "fb6f7d31",
   "metadata": {
    "id": "XPy0Jc8xXgpa",
    "papermill": {
     "duration": 0.021175,
     "end_time": "2022-08-11T10:06:47.914491",
     "exception": false,
     "start_time": "2022-08-11T10:06:47.893316",
     "status": "completed"
    },
    "tags": []
   },
   "outputs": [],
   "source": [
    "runs = [\n",
    "    {\"max_depth\": 4, \"learning_rate\": 0.2, \"boost_rounds\": 10},\n",
    "    {\"max_depth\": 5, \"learning_rate\": 0.3, \"boost_rounds\": 20},\n",
    "    {\"max_depth\": 3, \"learning_rate\": 0.1, \"boost_rounds\": 30},\n",
    "    {\"max_depth\": 6, \"learning_rate\": 0.5, \"boost_rounds\": 40},\n",
    "    {\"max_depth\": 5, \"learning_rate\": 0.4, \"boost_rounds\": 30},\n",
    "]"
   ]
  },
  {
   "cell_type": "code",
   "execution_count": 29,
   "id": "d825a64d",
   "metadata": {
    "id": "G0hm1no_WY8o",
    "papermill": {
     "duration": 14.81309,
     "end_time": "2022-08-11T10:07:02.740695",
     "exception": false,
     "start_time": "2022-08-11T10:06:47.927605",
     "status": "completed"
    },
    "tags": []
   },
   "outputs": [
    {
     "name": "stderr",
     "output_type": "stream",
     "text": [
      "INFO:google.cloud.aiplatform.utils.gcs_utils:Creating GCS bucket for Vertex Pipelines: \"vertex-ai-devaip-4wfap8r0\"\n"
     ]
    },
    {
     "name": "stdout",
     "output_type": "stream",
     "text": [
      "Creating PipelineJob\n"
     ]
    },
    {
     "name": "stderr",
     "output_type": "stream",
     "text": [
      "INFO:google.cloud.aiplatform.pipeline_jobs:Creating PipelineJob\n"
     ]
    },
    {
     "name": "stdout",
     "output_type": "stream",
     "text": [
      "PipelineJob created. Resource name: projects/931647533046/locations/us-central1/pipelineJobs/custom-training-pipeline-20220811111813\n"
     ]
    },
    {
     "name": "stderr",
     "output_type": "stream",
     "text": [
      "INFO:google.cloud.aiplatform.pipeline_jobs:PipelineJob created. Resource name: projects/931647533046/locations/us-central1/pipelineJobs/custom-training-pipeline-20220811111813\n"
     ]
    },
    {
     "name": "stdout",
     "output_type": "stream",
     "text": [
      "To use this PipelineJob in another session:\n"
     ]
    },
    {
     "name": "stderr",
     "output_type": "stream",
     "text": [
      "INFO:google.cloud.aiplatform.pipeline_jobs:To use this PipelineJob in another session:\n"
     ]
    },
    {
     "name": "stdout",
     "output_type": "stream",
     "text": [
      "pipeline_job = aiplatform.PipelineJob.get('projects/931647533046/locations/us-central1/pipelineJobs/custom-training-pipeline-20220811111813')\n"
     ]
    },
    {
     "name": "stderr",
     "output_type": "stream",
     "text": [
      "INFO:google.cloud.aiplatform.pipeline_jobs:pipeline_job = aiplatform.PipelineJob.get('projects/931647533046/locations/us-central1/pipelineJobs/custom-training-pipeline-20220811111813')\n"
     ]
    },
    {
     "name": "stdout",
     "output_type": "stream",
     "text": [
      "View Pipeline Job:\n",
      "https://console.cloud.google.com/vertex-ai/locations/us-central1/pipelines/runs/custom-training-pipeline-20220811111813?project=931647533046\n"
     ]
    },
    {
     "name": "stderr",
     "output_type": "stream",
     "text": [
      "INFO:google.cloud.aiplatform.pipeline_jobs:View Pipeline Job:\n",
      "https://console.cloud.google.com/vertex-ai/locations/us-central1/pipelines/runs/custom-training-pipeline-20220811111813?project=931647533046\n"
     ]
    },
    {
     "name": "stdout",
     "output_type": "stream",
     "text": [
      "Associating projects/931647533046/locations/us-central1/pipelineJobs/custom-training-pipeline-20220811111813 to Experiment: vertex-ai-dev-classification-xgboost-4wfap8r0\n"
     ]
    },
    {
     "name": "stderr",
     "output_type": "stream",
     "text": [
      "INFO:google.cloud.aiplatform.metadata.experiment_resources:Associating projects/931647533046/locations/us-central1/pipelineJobs/custom-training-pipeline-20220811111813 to Experiment: vertex-ai-dev-classification-xgboost-4wfap8r0\n"
     ]
    },
    {
     "name": "stdout",
     "output_type": "stream",
     "text": [
      "PipelineJob run completed. Resource name: projects/931647533046/locations/us-central1/pipelineJobs/custom-training-pipeline-20220811111813\n"
     ]
    },
    {
     "name": "stderr",
     "output_type": "stream",
     "text": [
      "INFO:google.cloud.aiplatform.pipeline_jobs:PipelineJob run completed. Resource name: projects/931647533046/locations/us-central1/pipelineJobs/custom-training-pipeline-20220811111813\n"
     ]
    },
    {
     "name": "stdout",
     "output_type": "stream",
     "text": [
      "Creating PipelineJob\n"
     ]
    },
    {
     "name": "stderr",
     "output_type": "stream",
     "text": [
      "INFO:google.cloud.aiplatform.pipeline_jobs:Creating PipelineJob\n"
     ]
    },
    {
     "name": "stdout",
     "output_type": "stream",
     "text": [
      "PipelineJob created. Resource name: projects/931647533046/locations/us-central1/pipelineJobs/custom-training-pipeline-20220811111818\n"
     ]
    },
    {
     "name": "stderr",
     "output_type": "stream",
     "text": [
      "INFO:google.cloud.aiplatform.pipeline_jobs:PipelineJob created. Resource name: projects/931647533046/locations/us-central1/pipelineJobs/custom-training-pipeline-20220811111818\n"
     ]
    },
    {
     "name": "stdout",
     "output_type": "stream",
     "text": [
      "To use this PipelineJob in another session:\n"
     ]
    },
    {
     "name": "stderr",
     "output_type": "stream",
     "text": [
      "INFO:google.cloud.aiplatform.pipeline_jobs:To use this PipelineJob in another session:\n"
     ]
    },
    {
     "name": "stdout",
     "output_type": "stream",
     "text": [
      "pipeline_job = aiplatform.PipelineJob.get('projects/931647533046/locations/us-central1/pipelineJobs/custom-training-pipeline-20220811111818')\n"
     ]
    },
    {
     "name": "stderr",
     "output_type": "stream",
     "text": [
      "INFO:google.cloud.aiplatform.pipeline_jobs:pipeline_job = aiplatform.PipelineJob.get('projects/931647533046/locations/us-central1/pipelineJobs/custom-training-pipeline-20220811111818')\n"
     ]
    },
    {
     "name": "stdout",
     "output_type": "stream",
     "text": [
      "View Pipeline Job:\n",
      "https://console.cloud.google.com/vertex-ai/locations/us-central1/pipelines/runs/custom-training-pipeline-20220811111818?project=931647533046\n"
     ]
    },
    {
     "name": "stderr",
     "output_type": "stream",
     "text": [
      "INFO:google.cloud.aiplatform.pipeline_jobs:View Pipeline Job:\n",
      "https://console.cloud.google.com/vertex-ai/locations/us-central1/pipelines/runs/custom-training-pipeline-20220811111818?project=931647533046\n"
     ]
    },
    {
     "name": "stdout",
     "output_type": "stream",
     "text": [
      "Associating projects/931647533046/locations/us-central1/pipelineJobs/custom-training-pipeline-20220811111818 to Experiment: vertex-ai-dev-classification-xgboost-4wfap8r0\n"
     ]
    },
    {
     "name": "stderr",
     "output_type": "stream",
     "text": [
      "INFO:google.cloud.aiplatform.metadata.experiment_resources:Associating projects/931647533046/locations/us-central1/pipelineJobs/custom-training-pipeline-20220811111818 to Experiment: vertex-ai-dev-classification-xgboost-4wfap8r0\n"
     ]
    },
    {
     "name": "stdout",
     "output_type": "stream",
     "text": [
      "PipelineJob run completed. Resource name: projects/931647533046/locations/us-central1/pipelineJobs/custom-training-pipeline-20220811111818\n"
     ]
    },
    {
     "name": "stderr",
     "output_type": "stream",
     "text": [
      "INFO:google.cloud.aiplatform.pipeline_jobs:PipelineJob run completed. Resource name: projects/931647533046/locations/us-central1/pipelineJobs/custom-training-pipeline-20220811111818\n"
     ]
    },
    {
     "name": "stdout",
     "output_type": "stream",
     "text": [
      "Creating PipelineJob\n"
     ]
    },
    {
     "name": "stderr",
     "output_type": "stream",
     "text": [
      "INFO:google.cloud.aiplatform.pipeline_jobs:Creating PipelineJob\n"
     ]
    },
    {
     "name": "stdout",
     "output_type": "stream",
     "text": [
      "PipelineJob created. Resource name: projects/931647533046/locations/us-central1/pipelineJobs/custom-training-pipeline-20220811111826\n"
     ]
    },
    {
     "name": "stderr",
     "output_type": "stream",
     "text": [
      "INFO:google.cloud.aiplatform.pipeline_jobs:PipelineJob created. Resource name: projects/931647533046/locations/us-central1/pipelineJobs/custom-training-pipeline-20220811111826\n"
     ]
    },
    {
     "name": "stdout",
     "output_type": "stream",
     "text": [
      "To use this PipelineJob in another session:\n"
     ]
    },
    {
     "name": "stderr",
     "output_type": "stream",
     "text": [
      "INFO:google.cloud.aiplatform.pipeline_jobs:To use this PipelineJob in another session:\n"
     ]
    },
    {
     "name": "stdout",
     "output_type": "stream",
     "text": [
      "pipeline_job = aiplatform.PipelineJob.get('projects/931647533046/locations/us-central1/pipelineJobs/custom-training-pipeline-20220811111826')\n"
     ]
    },
    {
     "name": "stderr",
     "output_type": "stream",
     "text": [
      "INFO:google.cloud.aiplatform.pipeline_jobs:pipeline_job = aiplatform.PipelineJob.get('projects/931647533046/locations/us-central1/pipelineJobs/custom-training-pipeline-20220811111826')\n"
     ]
    },
    {
     "name": "stdout",
     "output_type": "stream",
     "text": [
      "View Pipeline Job:\n",
      "https://console.cloud.google.com/vertex-ai/locations/us-central1/pipelines/runs/custom-training-pipeline-20220811111826?project=931647533046\n"
     ]
    },
    {
     "name": "stderr",
     "output_type": "stream",
     "text": [
      "INFO:google.cloud.aiplatform.pipeline_jobs:View Pipeline Job:\n",
      "https://console.cloud.google.com/vertex-ai/locations/us-central1/pipelines/runs/custom-training-pipeline-20220811111826?project=931647533046\n"
     ]
    },
    {
     "name": "stdout",
     "output_type": "stream",
     "text": [
      "Associating projects/931647533046/locations/us-central1/pipelineJobs/custom-training-pipeline-20220811111826 to Experiment: vertex-ai-dev-classification-xgboost-4wfap8r0\n"
     ]
    },
    {
     "name": "stderr",
     "output_type": "stream",
     "text": [
      "INFO:google.cloud.aiplatform.metadata.experiment_resources:Associating projects/931647533046/locations/us-central1/pipelineJobs/custom-training-pipeline-20220811111826 to Experiment: vertex-ai-dev-classification-xgboost-4wfap8r0\n"
     ]
    },
    {
     "name": "stdout",
     "output_type": "stream",
     "text": [
      "PipelineJob run completed. Resource name: projects/931647533046/locations/us-central1/pipelineJobs/custom-training-pipeline-20220811111826\n"
     ]
    },
    {
     "name": "stderr",
     "output_type": "stream",
     "text": [
      "INFO:google.cloud.aiplatform.pipeline_jobs:PipelineJob run completed. Resource name: projects/931647533046/locations/us-central1/pipelineJobs/custom-training-pipeline-20220811111826\n"
     ]
    },
    {
     "name": "stdout",
     "output_type": "stream",
     "text": [
      "Creating PipelineJob\n"
     ]
    },
    {
     "name": "stderr",
     "output_type": "stream",
     "text": [
      "INFO:google.cloud.aiplatform.pipeline_jobs:Creating PipelineJob\n"
     ]
    },
    {
     "name": "stdout",
     "output_type": "stream",
     "text": [
      "PipelineJob created. Resource name: projects/931647533046/locations/us-central1/pipelineJobs/custom-training-pipeline-20220811111830\n"
     ]
    },
    {
     "name": "stderr",
     "output_type": "stream",
     "text": [
      "INFO:google.cloud.aiplatform.pipeline_jobs:PipelineJob created. Resource name: projects/931647533046/locations/us-central1/pipelineJobs/custom-training-pipeline-20220811111830\n"
     ]
    },
    {
     "name": "stdout",
     "output_type": "stream",
     "text": [
      "To use this PipelineJob in another session:\n"
     ]
    },
    {
     "name": "stderr",
     "output_type": "stream",
     "text": [
      "INFO:google.cloud.aiplatform.pipeline_jobs:To use this PipelineJob in another session:\n"
     ]
    },
    {
     "name": "stdout",
     "output_type": "stream",
     "text": [
      "pipeline_job = aiplatform.PipelineJob.get('projects/931647533046/locations/us-central1/pipelineJobs/custom-training-pipeline-20220811111830')\n"
     ]
    },
    {
     "name": "stderr",
     "output_type": "stream",
     "text": [
      "INFO:google.cloud.aiplatform.pipeline_jobs:pipeline_job = aiplatform.PipelineJob.get('projects/931647533046/locations/us-central1/pipelineJobs/custom-training-pipeline-20220811111830')\n"
     ]
    },
    {
     "name": "stdout",
     "output_type": "stream",
     "text": [
      "View Pipeline Job:\n",
      "https://console.cloud.google.com/vertex-ai/locations/us-central1/pipelines/runs/custom-training-pipeline-20220811111830?project=931647533046\n"
     ]
    },
    {
     "name": "stderr",
     "output_type": "stream",
     "text": [
      "INFO:google.cloud.aiplatform.pipeline_jobs:View Pipeline Job:\n",
      "https://console.cloud.google.com/vertex-ai/locations/us-central1/pipelines/runs/custom-training-pipeline-20220811111830?project=931647533046\n"
     ]
    },
    {
     "name": "stdout",
     "output_type": "stream",
     "text": [
      "Associating projects/931647533046/locations/us-central1/pipelineJobs/custom-training-pipeline-20220811111830 to Experiment: vertex-ai-dev-classification-xgboost-4wfap8r0\n"
     ]
    },
    {
     "name": "stderr",
     "output_type": "stream",
     "text": [
      "INFO:google.cloud.aiplatform.metadata.experiment_resources:Associating projects/931647533046/locations/us-central1/pipelineJobs/custom-training-pipeline-20220811111830 to Experiment: vertex-ai-dev-classification-xgboost-4wfap8r0\n"
     ]
    },
    {
     "name": "stdout",
     "output_type": "stream",
     "text": [
      "PipelineJob run completed. Resource name: projects/931647533046/locations/us-central1/pipelineJobs/custom-training-pipeline-20220811111830\n"
     ]
    },
    {
     "name": "stderr",
     "output_type": "stream",
     "text": [
      "INFO:google.cloud.aiplatform.pipeline_jobs:PipelineJob run completed. Resource name: projects/931647533046/locations/us-central1/pipelineJobs/custom-training-pipeline-20220811111830\n"
     ]
    },
    {
     "name": "stdout",
     "output_type": "stream",
     "text": [
      "Creating PipelineJob\n"
     ]
    },
    {
     "name": "stderr",
     "output_type": "stream",
     "text": [
      "INFO:google.cloud.aiplatform.pipeline_jobs:Creating PipelineJob\n"
     ]
    },
    {
     "name": "stdout",
     "output_type": "stream",
     "text": [
      "PipelineJob created. Resource name: projects/931647533046/locations/us-central1/pipelineJobs/custom-training-pipeline-20220811111833\n"
     ]
    },
    {
     "name": "stderr",
     "output_type": "stream",
     "text": [
      "INFO:google.cloud.aiplatform.pipeline_jobs:PipelineJob created. Resource name: projects/931647533046/locations/us-central1/pipelineJobs/custom-training-pipeline-20220811111833\n"
     ]
    },
    {
     "name": "stdout",
     "output_type": "stream",
     "text": [
      "To use this PipelineJob in another session:\n"
     ]
    },
    {
     "name": "stderr",
     "output_type": "stream",
     "text": [
      "INFO:google.cloud.aiplatform.pipeline_jobs:To use this PipelineJob in another session:\n"
     ]
    },
    {
     "name": "stdout",
     "output_type": "stream",
     "text": [
      "pipeline_job = aiplatform.PipelineJob.get('projects/931647533046/locations/us-central1/pipelineJobs/custom-training-pipeline-20220811111833')\n"
     ]
    },
    {
     "name": "stderr",
     "output_type": "stream",
     "text": [
      "INFO:google.cloud.aiplatform.pipeline_jobs:pipeline_job = aiplatform.PipelineJob.get('projects/931647533046/locations/us-central1/pipelineJobs/custom-training-pipeline-20220811111833')\n"
     ]
    },
    {
     "name": "stdout",
     "output_type": "stream",
     "text": [
      "View Pipeline Job:\n",
      "https://console.cloud.google.com/vertex-ai/locations/us-central1/pipelines/runs/custom-training-pipeline-20220811111833?project=931647533046\n"
     ]
    },
    {
     "name": "stderr",
     "output_type": "stream",
     "text": [
      "INFO:google.cloud.aiplatform.pipeline_jobs:View Pipeline Job:\n",
      "https://console.cloud.google.com/vertex-ai/locations/us-central1/pipelines/runs/custom-training-pipeline-20220811111833?project=931647533046\n"
     ]
    },
    {
     "name": "stdout",
     "output_type": "stream",
     "text": [
      "Associating projects/931647533046/locations/us-central1/pipelineJobs/custom-training-pipeline-20220811111833 to Experiment: vertex-ai-dev-classification-xgboost-4wfap8r0\n"
     ]
    },
    {
     "name": "stderr",
     "output_type": "stream",
     "text": [
      "INFO:google.cloud.aiplatform.metadata.experiment_resources:Associating projects/931647533046/locations/us-central1/pipelineJobs/custom-training-pipeline-20220811111833 to Experiment: vertex-ai-dev-classification-xgboost-4wfap8r0\n"
     ]
    },
    {
     "name": "stdout",
     "output_type": "stream",
     "text": [
      "PipelineJob run completed. Resource name: projects/931647533046/locations/us-central1/pipelineJobs/custom-training-pipeline-20220811111833\n"
     ]
    },
    {
     "name": "stderr",
     "output_type": "stream",
     "text": [
      "INFO:google.cloud.aiplatform.pipeline_jobs:PipelineJob run completed. Resource name: projects/931647533046/locations/us-central1/pipelineJobs/custom-training-pipeline-20220811111833\n"
     ]
    }
   ],
   "source": [
    "for i, run in enumerate(runs):\n",
    "\n",
    "    job = vertex_ai.PipelineJob(\n",
    "        display_name=f\"{EXPERIMENT_NAME}-pipeline-run-{i}\",\n",
    "        template_path=\"pipeline.json\",\n",
    "        pipeline_root=PIPELINE_URI,\n",
    "        parameter_values={\n",
    "            \"train_uri\": TRAIN_URI,\n",
    "            \"label_uri\": LABEL_URI,\n",
    "            \"model_uri\": MODEL_URI,\n",
    "            **run,\n",
    "        },\n",
    "    )\n",
    "    job.submit(experiment=EXPERIMENT_NAME)\n",
    "    job.wait()"
   ]
  },
  {
   "cell_type": "markdown",
   "id": "209cafcb",
   "metadata": {
    "id": "O8TV4q535c2M",
    "papermill": {
     "duration": 0.016937,
     "end_time": "2022-08-11T10:07:02.775341",
     "exception": false,
     "start_time": "2022-08-11T10:07:02.758404",
     "status": "completed"
    },
    "tags": []
   },
   "source": [
    "### Check Pipeline run states\n",
    "\n",
    "Vertex AI SDK provides you `get_experiment_df` method to monitor the status of pipeline runs. You can use it either to return parameters and metrics of the Pipeline Runs in the Vertex AI Experiment or in combination with `get` method of `PipelineJob` to return the pipeline job in Vertex AI Pipeline.\n"
   ]
  },
  {
   "cell_type": "code",
   "execution_count": 30,
   "id": "338bf926",
   "metadata": {
    "id": "dlCEJKfH5xR7",
    "papermill": {
     "duration": 2.419924,
     "end_time": "2022-08-11T10:07:05.212193",
     "exception": false,
     "start_time": "2022-08-11T10:07:02.792269",
     "status": "completed"
    },
    "tags": []
   },
   "outputs": [
    {
     "data": {
      "text/html": [
       "<div>\n",
       "<style scoped>\n",
       "    .dataframe tbody tr th:only-of-type {\n",
       "        vertical-align: middle;\n",
       "    }\n",
       "\n",
       "    .dataframe tbody tr th {\n",
       "        vertical-align: top;\n",
       "    }\n",
       "\n",
       "    .dataframe thead th {\n",
       "        text-align: right;\n",
       "    }\n",
       "</style>\n",
       "<table border=\"1\" class=\"dataframe\">\n",
       "  <thead>\n",
       "    <tr style=\"text-align: right;\">\n",
       "      <th></th>\n",
       "      <th>experiment_name</th>\n",
       "      <th>run_name</th>\n",
       "      <th>run_type</th>\n",
       "      <th>state</th>\n",
       "      <th>param.label_uri</th>\n",
       "      <th>param.max_depth</th>\n",
       "      <th>param.boost_rounds</th>\n",
       "      <th>param.learning_rate</th>\n",
       "      <th>param.train_uri</th>\n",
       "      <th>param.model_uri</th>\n",
       "      <th>metric.accurancy</th>\n",
       "    </tr>\n",
       "  </thead>\n",
       "  <tbody>\n",
       "    <tr>\n",
       "      <th>0</th>\n",
       "      <td>vertex-ai-dev-classification-xgboost-4wfap8r0</td>\n",
       "      <td>custom-training-pipeline-20220811111833</td>\n",
       "      <td>system.PipelineRun</td>\n",
       "      <td>COMPLETE</td>\n",
       "      <td>gs://vertex-ai-devaip-4wfap8r0/iris/iris_targe...</td>\n",
       "      <td>5</td>\n",
       "      <td>30</td>\n",
       "      <td>0.4</td>\n",
       "      <td>gs://vertex-ai-devaip-4wfap8r0/iris/iris_data.csv</td>\n",
       "      <td>gs://vertex-ai-devaip-4wfap8r0/model</td>\n",
       "      <td>0.900000</td>\n",
       "    </tr>\n",
       "    <tr>\n",
       "      <th>1</th>\n",
       "      <td>vertex-ai-dev-classification-xgboost-4wfap8r0</td>\n",
       "      <td>custom-training-pipeline-20220811111830</td>\n",
       "      <td>system.PipelineRun</td>\n",
       "      <td>COMPLETE</td>\n",
       "      <td>gs://vertex-ai-devaip-4wfap8r0/iris/iris_targe...</td>\n",
       "      <td>6</td>\n",
       "      <td>40</td>\n",
       "      <td>0.5</td>\n",
       "      <td>gs://vertex-ai-devaip-4wfap8r0/iris/iris_data.csv</td>\n",
       "      <td>gs://vertex-ai-devaip-4wfap8r0/model</td>\n",
       "      <td>0.900000</td>\n",
       "    </tr>\n",
       "    <tr>\n",
       "      <th>2</th>\n",
       "      <td>vertex-ai-dev-classification-xgboost-4wfap8r0</td>\n",
       "      <td>custom-training-pipeline-20220811111826</td>\n",
       "      <td>system.PipelineRun</td>\n",
       "      <td>COMPLETE</td>\n",
       "      <td>gs://vertex-ai-devaip-4wfap8r0/iris/iris_targe...</td>\n",
       "      <td>3</td>\n",
       "      <td>30</td>\n",
       "      <td>0.1</td>\n",
       "      <td>gs://vertex-ai-devaip-4wfap8r0/iris/iris_data.csv</td>\n",
       "      <td>gs://vertex-ai-devaip-4wfap8r0/model</td>\n",
       "      <td>0.900000</td>\n",
       "    </tr>\n",
       "    <tr>\n",
       "      <th>3</th>\n",
       "      <td>vertex-ai-dev-classification-xgboost-4wfap8r0</td>\n",
       "      <td>custom-training-pipeline-20220811111818</td>\n",
       "      <td>system.PipelineRun</td>\n",
       "      <td>COMPLETE</td>\n",
       "      <td>gs://vertex-ai-devaip-4wfap8r0/iris/iris_targe...</td>\n",
       "      <td>5</td>\n",
       "      <td>20</td>\n",
       "      <td>0.3</td>\n",
       "      <td>gs://vertex-ai-devaip-4wfap8r0/iris/iris_data.csv</td>\n",
       "      <td>gs://vertex-ai-devaip-4wfap8r0/model</td>\n",
       "      <td>0.866667</td>\n",
       "    </tr>\n",
       "    <tr>\n",
       "      <th>4</th>\n",
       "      <td>vertex-ai-dev-classification-xgboost-4wfap8r0</td>\n",
       "      <td>custom-training-pipeline-20220811111813</td>\n",
       "      <td>system.PipelineRun</td>\n",
       "      <td>COMPLETE</td>\n",
       "      <td>gs://vertex-ai-devaip-4wfap8r0/iris/iris_targe...</td>\n",
       "      <td>4</td>\n",
       "      <td>10</td>\n",
       "      <td>0.2</td>\n",
       "      <td>gs://vertex-ai-devaip-4wfap8r0/iris/iris_data.csv</td>\n",
       "      <td>gs://vertex-ai-devaip-4wfap8r0/model</td>\n",
       "      <td>0.900000</td>\n",
       "    </tr>\n",
       "  </tbody>\n",
       "</table>\n",
       "</div>"
      ],
      "text/plain": [
       "                                 experiment_name  \\\n",
       "0  vertex-ai-dev-classification-xgboost-4wfap8r0   \n",
       "1  vertex-ai-dev-classification-xgboost-4wfap8r0   \n",
       "2  vertex-ai-dev-classification-xgboost-4wfap8r0   \n",
       "3  vertex-ai-dev-classification-xgboost-4wfap8r0   \n",
       "4  vertex-ai-dev-classification-xgboost-4wfap8r0   \n",
       "\n",
       "                                  run_name            run_type     state  \\\n",
       "0  custom-training-pipeline-20220811111833  system.PipelineRun  COMPLETE   \n",
       "1  custom-training-pipeline-20220811111830  system.PipelineRun  COMPLETE   \n",
       "2  custom-training-pipeline-20220811111826  system.PipelineRun  COMPLETE   \n",
       "3  custom-training-pipeline-20220811111818  system.PipelineRun  COMPLETE   \n",
       "4  custom-training-pipeline-20220811111813  system.PipelineRun  COMPLETE   \n",
       "\n",
       "                                     param.label_uri param.max_depth  \\\n",
       "0  gs://vertex-ai-devaip-4wfap8r0/iris/iris_targe...               5   \n",
       "1  gs://vertex-ai-devaip-4wfap8r0/iris/iris_targe...               6   \n",
       "2  gs://vertex-ai-devaip-4wfap8r0/iris/iris_targe...               3   \n",
       "3  gs://vertex-ai-devaip-4wfap8r0/iris/iris_targe...               5   \n",
       "4  gs://vertex-ai-devaip-4wfap8r0/iris/iris_targe...               4   \n",
       "\n",
       "  param.boost_rounds  param.learning_rate  \\\n",
       "0                 30                  0.4   \n",
       "1                 40                  0.5   \n",
       "2                 30                  0.1   \n",
       "3                 20                  0.3   \n",
       "4                 10                  0.2   \n",
       "\n",
       "                                     param.train_uri  \\\n",
       "0  gs://vertex-ai-devaip-4wfap8r0/iris/iris_data.csv   \n",
       "1  gs://vertex-ai-devaip-4wfap8r0/iris/iris_data.csv   \n",
       "2  gs://vertex-ai-devaip-4wfap8r0/iris/iris_data.csv   \n",
       "3  gs://vertex-ai-devaip-4wfap8r0/iris/iris_data.csv   \n",
       "4  gs://vertex-ai-devaip-4wfap8r0/iris/iris_data.csv   \n",
       "\n",
       "                        param.model_uri  metric.accurancy  \n",
       "0  gs://vertex-ai-devaip-4wfap8r0/model          0.900000  \n",
       "1  gs://vertex-ai-devaip-4wfap8r0/model          0.900000  \n",
       "2  gs://vertex-ai-devaip-4wfap8r0/model          0.900000  \n",
       "3  gs://vertex-ai-devaip-4wfap8r0/model          0.866667  \n",
       "4  gs://vertex-ai-devaip-4wfap8r0/model          0.900000  "
      ]
     },
     "execution_count": 30,
     "metadata": {},
     "output_type": "execute_result"
    }
   ],
   "source": [
    "# see state of all pipelineJob\n",
    "vertex_ai.get_experiment_df(EXPERIMENT_NAME)"
   ]
  },
  {
   "cell_type": "markdown",
   "id": "3a6a6323",
   "metadata": {
    "id": "98c022ca36b4",
    "papermill": {
     "duration": 0.017442,
     "end_time": "2022-08-11T10:07:05.247561",
     "exception": false,
     "start_time": "2022-08-11T10:07:05.230119",
     "status": "completed"
    },
    "tags": []
   },
   "source": [
    "The pipeline runs in the Vertex AI Experiment will be monitored based on pipeline run status."
   ]
  },
  {
   "cell_type": "code",
   "execution_count": 24,
   "id": "6f6773e2",
   "metadata": {
    "id": "1371f04e2343",
    "papermill": {
     "duration": 2.350032,
     "end_time": "2022-08-11T10:08:12.480756",
     "exception": false,
     "start_time": "2022-08-11T10:08:10.130724",
     "status": "completed"
    },
    "tags": []
   },
   "outputs": [
    {
     "data": {
      "text/html": [
       "<div>\n",
       "<style scoped>\n",
       "    .dataframe tbody tr th:only-of-type {\n",
       "        vertical-align: middle;\n",
       "    }\n",
       "\n",
       "    .dataframe tbody tr th {\n",
       "        vertical-align: top;\n",
       "    }\n",
       "\n",
       "    .dataframe thead th {\n",
       "        text-align: right;\n",
       "    }\n",
       "</style>\n",
       "<table border=\"1\" class=\"dataframe\">\n",
       "  <thead>\n",
       "    <tr style=\"text-align: right;\">\n",
       "      <th></th>\n",
       "      <th>experiment_name</th>\n",
       "      <th>run_name</th>\n",
       "      <th>run_type</th>\n",
       "      <th>state</th>\n",
       "      <th>param.max_depth</th>\n",
       "      <th>param.model_uri</th>\n",
       "      <th>param.learning_rate</th>\n",
       "      <th>param.label_uri</th>\n",
       "      <th>param.train_uri</th>\n",
       "      <th>param.boost_rounds</th>\n",
       "      <th>metric.accurancy</th>\n",
       "    </tr>\n",
       "  </thead>\n",
       "  <tbody>\n",
       "    <tr>\n",
       "      <th>0</th>\n",
       "      <td>vertex-ai-dev-classification-xgboost-4wfap8r0</td>\n",
       "      <td>custom-training-pipeline-20220811111417</td>\n",
       "      <td>system.PipelineRun</td>\n",
       "      <td>COMPLETE</td>\n",
       "      <td>5</td>\n",
       "      <td>gs://vertex-ai-devaip-4wfap8r0/model</td>\n",
       "      <td>0.4</td>\n",
       "      <td>gs://vertex-ai-devaip-4wfap8r0/iris/iris_targe...</td>\n",
       "      <td>gs://vertex-ai-devaip-4wfap8r0/iris/iris_data.csv</td>\n",
       "      <td>30</td>\n",
       "      <td>0.900000</td>\n",
       "    </tr>\n",
       "    <tr>\n",
       "      <th>1</th>\n",
       "      <td>vertex-ai-dev-classification-xgboost-4wfap8r0</td>\n",
       "      <td>custom-training-pipeline-20220811111413</td>\n",
       "      <td>system.PipelineRun</td>\n",
       "      <td>COMPLETE</td>\n",
       "      <td>6</td>\n",
       "      <td>gs://vertex-ai-devaip-4wfap8r0/model</td>\n",
       "      <td>0.5</td>\n",
       "      <td>gs://vertex-ai-devaip-4wfap8r0/iris/iris_targe...</td>\n",
       "      <td>gs://vertex-ai-devaip-4wfap8r0/iris/iris_data.csv</td>\n",
       "      <td>40</td>\n",
       "      <td>0.900000</td>\n",
       "    </tr>\n",
       "    <tr>\n",
       "      <th>2</th>\n",
       "      <td>vertex-ai-dev-classification-xgboost-4wfap8r0</td>\n",
       "      <td>custom-training-pipeline-20220811111411</td>\n",
       "      <td>system.PipelineRun</td>\n",
       "      <td>COMPLETE</td>\n",
       "      <td>3</td>\n",
       "      <td>gs://vertex-ai-devaip-4wfap8r0/model</td>\n",
       "      <td>0.1</td>\n",
       "      <td>gs://vertex-ai-devaip-4wfap8r0/iris/iris_targe...</td>\n",
       "      <td>gs://vertex-ai-devaip-4wfap8r0/iris/iris_data.csv</td>\n",
       "      <td>30</td>\n",
       "      <td>0.900000</td>\n",
       "    </tr>\n",
       "    <tr>\n",
       "      <th>3</th>\n",
       "      <td>vertex-ai-dev-classification-xgboost-4wfap8r0</td>\n",
       "      <td>custom-training-pipeline-20220811111408</td>\n",
       "      <td>system.PipelineRun</td>\n",
       "      <td>COMPLETE</td>\n",
       "      <td>5</td>\n",
       "      <td>gs://vertex-ai-devaip-4wfap8r0/model</td>\n",
       "      <td>0.3</td>\n",
       "      <td>gs://vertex-ai-devaip-4wfap8r0/iris/iris_targe...</td>\n",
       "      <td>gs://vertex-ai-devaip-4wfap8r0/iris/iris_data.csv</td>\n",
       "      <td>20</td>\n",
       "      <td>0.866667</td>\n",
       "    </tr>\n",
       "    <tr>\n",
       "      <th>4</th>\n",
       "      <td>vertex-ai-dev-classification-xgboost-4wfap8r0</td>\n",
       "      <td>custom-training-pipeline-20220811111404</td>\n",
       "      <td>system.PipelineRun</td>\n",
       "      <td>COMPLETE</td>\n",
       "      <td>4</td>\n",
       "      <td>gs://vertex-ai-devaip-4wfap8r0/model</td>\n",
       "      <td>0.2</td>\n",
       "      <td>gs://vertex-ai-devaip-4wfap8r0/iris/iris_targe...</td>\n",
       "      <td>gs://vertex-ai-devaip-4wfap8r0/iris/iris_data.csv</td>\n",
       "      <td>10</td>\n",
       "      <td>0.900000</td>\n",
       "    </tr>\n",
       "  </tbody>\n",
       "</table>\n",
       "</div>"
      ],
      "text/plain": [
       "                                 experiment_name  \\\n",
       "0  vertex-ai-dev-classification-xgboost-4wfap8r0   \n",
       "1  vertex-ai-dev-classification-xgboost-4wfap8r0   \n",
       "2  vertex-ai-dev-classification-xgboost-4wfap8r0   \n",
       "3  vertex-ai-dev-classification-xgboost-4wfap8r0   \n",
       "4  vertex-ai-dev-classification-xgboost-4wfap8r0   \n",
       "\n",
       "                                  run_name            run_type     state  \\\n",
       "0  custom-training-pipeline-20220811111417  system.PipelineRun  COMPLETE   \n",
       "1  custom-training-pipeline-20220811111413  system.PipelineRun  COMPLETE   \n",
       "2  custom-training-pipeline-20220811111411  system.PipelineRun  COMPLETE   \n",
       "3  custom-training-pipeline-20220811111408  system.PipelineRun  COMPLETE   \n",
       "4  custom-training-pipeline-20220811111404  system.PipelineRun  COMPLETE   \n",
       "\n",
       "  param.max_depth                       param.model_uri  param.learning_rate  \\\n",
       "0               5  gs://vertex-ai-devaip-4wfap8r0/model                  0.4   \n",
       "1               6  gs://vertex-ai-devaip-4wfap8r0/model                  0.5   \n",
       "2               3  gs://vertex-ai-devaip-4wfap8r0/model                  0.1   \n",
       "3               5  gs://vertex-ai-devaip-4wfap8r0/model                  0.3   \n",
       "4               4  gs://vertex-ai-devaip-4wfap8r0/model                  0.2   \n",
       "\n",
       "                                     param.label_uri  \\\n",
       "0  gs://vertex-ai-devaip-4wfap8r0/iris/iris_targe...   \n",
       "1  gs://vertex-ai-devaip-4wfap8r0/iris/iris_targe...   \n",
       "2  gs://vertex-ai-devaip-4wfap8r0/iris/iris_targe...   \n",
       "3  gs://vertex-ai-devaip-4wfap8r0/iris/iris_targe...   \n",
       "4  gs://vertex-ai-devaip-4wfap8r0/iris/iris_targe...   \n",
       "\n",
       "                                     param.train_uri param.boost_rounds  \\\n",
       "0  gs://vertex-ai-devaip-4wfap8r0/iris/iris_data.csv                 30   \n",
       "1  gs://vertex-ai-devaip-4wfap8r0/iris/iris_data.csv                 40   \n",
       "2  gs://vertex-ai-devaip-4wfap8r0/iris/iris_data.csv                 30   \n",
       "3  gs://vertex-ai-devaip-4wfap8r0/iris/iris_data.csv                 20   \n",
       "4  gs://vertex-ai-devaip-4wfap8r0/iris/iris_data.csv                 10   \n",
       "\n",
       "   metric.accurancy  \n",
       "0          0.900000  \n",
       "1          0.900000  \n",
       "2          0.900000  \n",
       "3          0.866667  \n",
       "4          0.900000  "
      ]
     },
     "execution_count": 24,
     "metadata": {},
     "output_type": "execute_result"
    }
   ],
   "source": [
    "vertex_ai.get_experiment_df(EXPERIMENT_NAME)"
   ]
  },
  {
   "cell_type": "code",
   "execution_count": 25,
   "id": "e10f83f5",
   "metadata": {
    "id": "ISsK9Msi-Kqs",
    "papermill": {
     "duration": 3.653754,
     "end_time": "2022-08-11T10:08:16.152831",
     "exception": false,
     "start_time": "2022-08-11T10:08:12.499077",
     "status": "completed"
    },
    "tags": []
   },
   "outputs": [
    {
     "name": "stdout",
     "output_type": "stream",
     "text": [
      "projects/931647533046/locations/us-central1/pipelineJobs/custom-training-pipeline-20220811111417\n",
      "https://console.cloud.google.com/vertex-ai/locations/us-central1/pipelines/runs/custom-training-pipeline-20220811111417?project=931647533046\n",
      "projects/931647533046/locations/us-central1/pipelineJobs/custom-training-pipeline-20220811111413\n",
      "https://console.cloud.google.com/vertex-ai/locations/us-central1/pipelines/runs/custom-training-pipeline-20220811111413?project=931647533046\n",
      "projects/931647533046/locations/us-central1/pipelineJobs/custom-training-pipeline-20220811111411\n",
      "https://console.cloud.google.com/vertex-ai/locations/us-central1/pipelines/runs/custom-training-pipeline-20220811111411?project=931647533046\n",
      "projects/931647533046/locations/us-central1/pipelineJobs/custom-training-pipeline-20220811111408\n",
      "https://console.cloud.google.com/vertex-ai/locations/us-central1/pipelines/runs/custom-training-pipeline-20220811111408?project=931647533046\n",
      "projects/931647533046/locations/us-central1/pipelineJobs/custom-training-pipeline-20220811111404\n",
      "https://console.cloud.google.com/vertex-ai/locations/us-central1/pipelines/runs/custom-training-pipeline-20220811111404?project=931647533046\n"
     ]
    }
   ],
   "source": [
    "# Get the PipelineJob resource using the experiment run name\n",
    "pipeline_experiments_df = vertex_ai.get_experiment_df(EXPERIMENT_NAME)\n",
    "for i in range(5):\n",
    "    job = vertex_ai.PipelineJob.get(pipeline_experiments_df.run_name[i])\n",
    "    print(job.resource_name)\n",
    "    print(job._dashboard_uri())"
   ]
  },
  {
   "cell_type": "markdown",
   "id": "b1919ad1",
   "metadata": {
    "id": "TpV-iwP9qw9c",
    "papermill": {
     "duration": 0.018256,
     "end_time": "2022-08-11T10:08:16.189770",
     "exception": false,
     "start_time": "2022-08-11T10:08:16.171514",
     "status": "completed"
    },
    "tags": []
   },
   "source": [
    "## Cleaning up\n",
    "\n",
    "To clean up all Google Cloud resources used in this project, you can [delete the Google Cloud\n",
    "project](https://cloud.google.com/resource-manager/docs/creating-managing-projects#shutting_down_projects) you used for the tutorial.\n",
    "\n",
    "Otherwise, you can delete the individual resources you created in this tutorial"
   ]
  },
  {
   "cell_type": "markdown",
   "id": "8146fa9c",
   "metadata": {
    "tags": [
     "papermill-error-cell-tag"
    ]
   },
   "source": [
    "<span id=\"papermill-error-cell\" style=\"color:red; font-family:Helvetica Neue, Helvetica, Arial, sans-serif; font-size:2em;\">Execution using papermill encountered an exception here and stopped:</span>"
   ]
  },
  {
   "cell_type": "code",
   "execution_count": 31,
   "id": "1e442fef",
   "metadata": {
    "id": "6xbYQn5t5Noe",
    "papermill": {
     "duration": 4.270784,
     "end_time": "2022-08-11T10:08:20.479224",
     "exception": true,
     "start_time": "2022-08-11T10:08:16.208440",
     "status": "failed"
    },
    "tags": []
   },
   "outputs": [
    {
     "name": "stdout",
     "output_type": "stream",
     "text": [
      "projects/931647533046/locations/us-central1/pipelineJobs/custom-training-pipeline-20220811111833\n",
      "https://console.cloud.google.com/vertex-ai/locations/us-central1/pipelines/runs/custom-training-pipeline-20220811111833?project=931647533046\n",
      "Deleting PipelineJob : projects/931647533046/locations/us-central1/pipelineJobs/custom-training-pipeline-20220811111833\n"
     ]
    },
    {
     "name": "stderr",
     "output_type": "stream",
     "text": [
      "INFO:google.cloud.aiplatform.base:Deleting PipelineJob : projects/931647533046/locations/us-central1/pipelineJobs/custom-training-pipeline-20220811111833\n"
     ]
    },
    {
     "name": "stdout",
     "output_type": "stream",
     "text": [
      "Delete PipelineJob  backing LRO: projects/931647533046/locations/us-central1/operations/8662164053449244672\n"
     ]
    },
    {
     "name": "stderr",
     "output_type": "stream",
     "text": [
      "INFO:google.cloud.aiplatform.base:Delete PipelineJob  backing LRO: projects/931647533046/locations/us-central1/operations/8662164053449244672\n"
     ]
    },
    {
     "name": "stdout",
     "output_type": "stream",
     "text": [
      "PipelineJob deleted. . Resource name: projects/931647533046/locations/us-central1/pipelineJobs/custom-training-pipeline-20220811111833\n"
     ]
    },
    {
     "name": "stderr",
     "output_type": "stream",
     "text": [
      "INFO:google.cloud.aiplatform.base:PipelineJob deleted. . Resource name: projects/931647533046/locations/us-central1/pipelineJobs/custom-training-pipeline-20220811111833\n"
     ]
    },
    {
     "name": "stdout",
     "output_type": "stream",
     "text": [
      "projects/931647533046/locations/us-central1/pipelineJobs/custom-training-pipeline-20220811111830\n",
      "https://console.cloud.google.com/vertex-ai/locations/us-central1/pipelines/runs/custom-training-pipeline-20220811111830?project=931647533046\n",
      "Deleting PipelineJob : projects/931647533046/locations/us-central1/pipelineJobs/custom-training-pipeline-20220811111830\n"
     ]
    },
    {
     "name": "stderr",
     "output_type": "stream",
     "text": [
      "INFO:google.cloud.aiplatform.base:Deleting PipelineJob : projects/931647533046/locations/us-central1/pipelineJobs/custom-training-pipeline-20220811111830\n"
     ]
    },
    {
     "name": "stdout",
     "output_type": "stream",
     "text": [
      "Delete PipelineJob  backing LRO: projects/931647533046/locations/us-central1/operations/5561435710004658176\n"
     ]
    },
    {
     "name": "stderr",
     "output_type": "stream",
     "text": [
      "INFO:google.cloud.aiplatform.base:Delete PipelineJob  backing LRO: projects/931647533046/locations/us-central1/operations/5561435710004658176\n"
     ]
    },
    {
     "name": "stdout",
     "output_type": "stream",
     "text": [
      "PipelineJob deleted. . Resource name: projects/931647533046/locations/us-central1/pipelineJobs/custom-training-pipeline-20220811111830\n"
     ]
    },
    {
     "name": "stderr",
     "output_type": "stream",
     "text": [
      "INFO:google.cloud.aiplatform.base:PipelineJob deleted. . Resource name: projects/931647533046/locations/us-central1/pipelineJobs/custom-training-pipeline-20220811111830\n"
     ]
    },
    {
     "name": "stdout",
     "output_type": "stream",
     "text": [
      "projects/931647533046/locations/us-central1/pipelineJobs/custom-training-pipeline-20220811111826\n",
      "https://console.cloud.google.com/vertex-ai/locations/us-central1/pipelines/runs/custom-training-pipeline-20220811111826?project=931647533046\n",
      "Deleting PipelineJob : projects/931647533046/locations/us-central1/pipelineJobs/custom-training-pipeline-20220811111826\n"
     ]
    },
    {
     "name": "stderr",
     "output_type": "stream",
     "text": [
      "INFO:google.cloud.aiplatform.base:Deleting PipelineJob : projects/931647533046/locations/us-central1/pipelineJobs/custom-training-pipeline-20220811111826\n"
     ]
    },
    {
     "name": "stdout",
     "output_type": "stream",
     "text": [
      "Delete PipelineJob  backing LRO: projects/931647533046/locations/us-central1/operations/7865026919404666880\n"
     ]
    },
    {
     "name": "stderr",
     "output_type": "stream",
     "text": [
      "INFO:google.cloud.aiplatform.base:Delete PipelineJob  backing LRO: projects/931647533046/locations/us-central1/operations/7865026919404666880\n"
     ]
    },
    {
     "name": "stdout",
     "output_type": "stream",
     "text": [
      "PipelineJob deleted. . Resource name: projects/931647533046/locations/us-central1/pipelineJobs/custom-training-pipeline-20220811111826\n"
     ]
    },
    {
     "name": "stderr",
     "output_type": "stream",
     "text": [
      "INFO:google.cloud.aiplatform.base:PipelineJob deleted. . Resource name: projects/931647533046/locations/us-central1/pipelineJobs/custom-training-pipeline-20220811111826\n"
     ]
    },
    {
     "name": "stdout",
     "output_type": "stream",
     "text": [
      "projects/931647533046/locations/us-central1/pipelineJobs/custom-training-pipeline-20220811111818\n",
      "https://console.cloud.google.com/vertex-ai/locations/us-central1/pipelines/runs/custom-training-pipeline-20220811111818?project=931647533046\n",
      "Deleting PipelineJob : projects/931647533046/locations/us-central1/pipelineJobs/custom-training-pipeline-20220811111818\n"
     ]
    },
    {
     "name": "stderr",
     "output_type": "stream",
     "text": [
      "INFO:google.cloud.aiplatform.base:Deleting PipelineJob : projects/931647533046/locations/us-central1/pipelineJobs/custom-training-pipeline-20220811111818\n"
     ]
    },
    {
     "name": "stdout",
     "output_type": "stream",
     "text": [
      "Delete PipelineJob  backing LRO: projects/931647533046/locations/us-central1/operations/6950796195048456192\n"
     ]
    },
    {
     "name": "stderr",
     "output_type": "stream",
     "text": [
      "INFO:google.cloud.aiplatform.base:Delete PipelineJob  backing LRO: projects/931647533046/locations/us-central1/operations/6950796195048456192\n"
     ]
    },
    {
     "name": "stdout",
     "output_type": "stream",
     "text": [
      "PipelineJob deleted. . Resource name: projects/931647533046/locations/us-central1/pipelineJobs/custom-training-pipeline-20220811111818\n"
     ]
    },
    {
     "name": "stderr",
     "output_type": "stream",
     "text": [
      "INFO:google.cloud.aiplatform.base:PipelineJob deleted. . Resource name: projects/931647533046/locations/us-central1/pipelineJobs/custom-training-pipeline-20220811111818\n"
     ]
    },
    {
     "name": "stdout",
     "output_type": "stream",
     "text": [
      "projects/931647533046/locations/us-central1/pipelineJobs/custom-training-pipeline-20220811111813\n",
      "https://console.cloud.google.com/vertex-ai/locations/us-central1/pipelines/runs/custom-training-pipeline-20220811111813?project=931647533046\n",
      "Deleting PipelineJob : projects/931647533046/locations/us-central1/pipelineJobs/custom-training-pipeline-20220811111813\n"
     ]
    },
    {
     "name": "stderr",
     "output_type": "stream",
     "text": [
      "INFO:google.cloud.aiplatform.base:Deleting PipelineJob : projects/931647533046/locations/us-central1/pipelineJobs/custom-training-pipeline-20220811111813\n"
     ]
    },
    {
     "name": "stdout",
     "output_type": "stream",
     "text": [
      "Delete PipelineJob  backing LRO: projects/931647533046/locations/us-central1/operations/6831450804923138048\n"
     ]
    },
    {
     "name": "stderr",
     "output_type": "stream",
     "text": [
      "INFO:google.cloud.aiplatform.base:Delete PipelineJob  backing LRO: projects/931647533046/locations/us-central1/operations/6831450804923138048\n"
     ]
    },
    {
     "name": "stdout",
     "output_type": "stream",
     "text": [
      "PipelineJob deleted. . Resource name: projects/931647533046/locations/us-central1/pipelineJobs/custom-training-pipeline-20220811111813\n"
     ]
    },
    {
     "name": "stderr",
     "output_type": "stream",
     "text": [
      "INFO:google.cloud.aiplatform.base:PipelineJob deleted. . Resource name: projects/931647533046/locations/us-central1/pipelineJobs/custom-training-pipeline-20220811111813\n"
     ]
    },
    {
     "name": "stdout",
     "output_type": "stream",
     "text": [
      "Deleting Context : projects/931647533046/locations/us-central1/metadataStores/default/contexts/vertex-ai-dev-classification-xgboost-4wfap8r0\n"
     ]
    },
    {
     "name": "stderr",
     "output_type": "stream",
     "text": [
      "INFO:google.cloud.aiplatform.base:Deleting Context : projects/931647533046/locations/us-central1/metadataStores/default/contexts/vertex-ai-dev-classification-xgboost-4wfap8r0\n"
     ]
    },
    {
     "name": "stdout",
     "output_type": "stream",
     "text": [
      "Delete Context  backing LRO: projects/931647533046/locations/us-central1/metadataStores/default/contexts/vertex-ai-dev-classification-xgboost-4wfap8r0/operations/9110272216372609024\n"
     ]
    },
    {
     "name": "stderr",
     "output_type": "stream",
     "text": [
      "INFO:google.cloud.aiplatform.base:Delete Context  backing LRO: projects/931647533046/locations/us-central1/metadataStores/default/contexts/vertex-ai-dev-classification-xgboost-4wfap8r0/operations/9110272216372609024\n"
     ]
    },
    {
     "name": "stdout",
     "output_type": "stream",
     "text": [
      "Context deleted. . Resource name: projects/931647533046/locations/us-central1/metadataStores/default/contexts/vertex-ai-dev-classification-xgboost-4wfap8r0\n"
     ]
    },
    {
     "name": "stderr",
     "output_type": "stream",
     "text": [
      "INFO:google.cloud.aiplatform.base:Context deleted. . Resource name: projects/931647533046/locations/us-central1/metadataStores/default/contexts/vertex-ai-dev-classification-xgboost-4wfap8r0\n"
     ]
    }
   ],
   "source": [
    "# Delete the pipeline\n",
    "# Get the PipelineJob resource using the experiment run name\n",
    "pipeline_experiments_df = vertex_ai.get_experiment_df(EXPERIMENT_NAME)\n",
    "for i in range(5):\n",
    "    job = vertex_ai.PipelineJob.get(pipeline_experiments_df.run_name[i])\n",
    "    print(job.resource_name)\n",
    "    print(job._dashboard_uri())\n",
    "    job.delete()\n",
    "\n",
    "# Delete experiment\n",
    "exp = vertex_ai.Experiment(EXPERIMENT_NAME)\n",
    "exp.delete()\n",
    "\n",
    "# Delete bucket\n",
    "delete_bucket = False\n",
    "if delete_bucket or os.getenv(\"IS_TESTING\"):\n",
    "    ! gsutil rm -rf {BUCKET_URI}"
   ]
  },
  {
   "cell_type": "code",
   "execution_count": 27,
   "id": "0893fd64-bd99-4f78-9f26-9bb4d33f1025",
   "metadata": {},
   "outputs": [
    {
     "name": "stdout",
     "output_type": "stream",
     "text": [
      "Removing gs://vertex-ai-devaip-4wfap8r0/iris/classification/evaluate.csv#1660216403301085...\n",
      "Removing gs://vertex-ai-devaip-4wfap8r0/iris/classification/train.csv#1660216403618209...\n",
      "Removing gs://vertex-ai-devaip-4wfap8r0/iris/iris_data.csv#1660216403910997...  \n",
      "Removing gs://vertex-ai-devaip-4wfap8r0/iris/iris_predict.csv#1660216404330510...\n",
      "/ [4 objects]                                                                   \n",
      "==> NOTE: You are performing a sequence of gsutil operations that may\n",
      "run significantly faster if you instead use gsutil -m rm ... Please\n",
      "see the -m section under \"gsutil help options\" for further information\n",
      "about when gsutil -m can be advantageous.\n",
      "\n",
      "Removing gs://vertex-ai-devaip-4wfap8r0/iris/iris_target.csv#1660216404797712...\n",
      "Removing gs://vertex-ai-devaip-4wfap8r0/iris/iris_test.csv#1660216405119190...  \n",
      "Removing gs://vertex-ai-devaip-4wfap8r0/iris/iris_training.csv#1660216405534592...\n",
      "Removing gs://vertex-ai-devaip-4wfap8r0/model/#1660216552325667...              \n",
      "Removing gs://vertex-ai-devaip-4wfap8r0/model/f5d1c3f6-1966-11ed-9d7a-0242c0a80a03/#1660216552509474...\n",
      "Removing gs://vertex-ai-devaip-4wfap8r0/model/f5d1c3f6-1966-11ed-9d7a-0242c0a80a03/model.bst#1660216552949150...\n",
      "Removing gs://vertex-ai-devaip-4wfap8r0/model/f6c177a2-1966-11ed-93a0-0242c0a80a03/#1660216553814874...\n",
      "Removing gs://vertex-ai-devaip-4wfap8r0/model/f6c177a2-1966-11ed-93a0-0242c0a80a03/model.bst#1660216554173034...\n",
      "Removing gs://vertex-ai-devaip-4wfap8r0/model/f7f409c8-1966-11ed-a0b3-0242c0a80a03/#1660216555858190...\n",
      "Removing gs://vertex-ai-devaip-4wfap8r0/model/f7f409c8-1966-11ed-a0b3-0242c0a80a03/model.bst#1660216556258851...\n",
      "Removing gs://vertex-ai-devaip-4wfap8r0/model/f9437692-1966-11ed-b731-0242c0a80a03/#1660216558035823...\n",
      "Removing gs://vertex-ai-devaip-4wfap8r0/model/f9437692-1966-11ed-b731-0242c0a80a03/model.bst#1660216558436475...\n",
      "Removing gs://vertex-ai-devaip-4wfap8r0/model/fdac5460-1966-11ed-979b-0242c0a80a03/#1660216565475628...\n",
      "Removing gs://vertex-ai-devaip-4wfap8r0/model/fdac5460-1966-11ed-979b-0242c0a80a03/model.bst#1660216565861652...\n",
      "Removing gs://vertex-ai-devaip-4wfap8r0/pipelines/#1660216549906637...          \n",
      "Removing gs://vertex-ai-devaip-4wfap8r0/pipelines/931647533046/#1660216550118144...\n",
      "Removing gs://vertex-ai-devaip-4wfap8r0/pipelines/931647533046/custom-training-pipeline-20220811111404/#1660216554024935...\n",
      "Removing gs://vertex-ai-devaip-4wfap8r0/pipelines/931647533046/custom-training-pipeline-20220811111404/custom-trainer_5316000731587674112/#1660216554223743...\n",
      "Removing gs://vertex-ai-devaip-4wfap8r0/pipelines/931647533046/custom-training-pipeline-20220811111404/custom-trainer_5316000731587674112/executor_output.json#1660216556672608...\n",
      "Removing gs://vertex-ai-devaip-4wfap8r0/pipelines/931647533046/custom-training-pipeline-20220811111408/#1660216552160318...\n",
      "Removing gs://vertex-ai-devaip-4wfap8r0/pipelines/931647533046/custom-training-pipeline-20220811111408/custom-trainer_6360835845137629184/#1660216552327978...\n",
      "Removing gs://vertex-ai-devaip-4wfap8r0/pipelines/931647533046/custom-training-pipeline-20220811111408/custom-trainer_6360835845137629184/executor_output.json#1660216554534643...\n",
      "Removing gs://vertex-ai-devaip-4wfap8r0/pipelines/931647533046/custom-training-pipeline-20220811111411/#1660216550309008...\n",
      "Removing gs://vertex-ai-devaip-4wfap8r0/pipelines/931647533046/custom-training-pipeline-20220811111411/custom-trainer_-1142161134061617152/#1660216550568459...\n",
      "Removing gs://vertex-ai-devaip-4wfap8r0/pipelines/931647533046/custom-training-pipeline-20220811111411/custom-trainer_-1142161134061617152/executor_output.json#1660216553393318...\n",
      "Removing gs://vertex-ai-devaip-4wfap8r0/pipelines/931647533046/custom-training-pipeline-20220811111413/#1660216556320632...\n",
      "Removing gs://vertex-ai-devaip-4wfap8r0/pipelines/931647533046/custom-training-pipeline-20220811111413/custom-trainer_-7528265405672980480/#1660216556518774...\n",
      "Removing gs://vertex-ai-devaip-4wfap8r0/pipelines/931647533046/custom-training-pipeline-20220811111413/custom-trainer_-7528265405672980480/executor_output.json#1660216558915584...\n",
      "Removing gs://vertex-ai-devaip-4wfap8r0/pipelines/931647533046/custom-training-pipeline-20220811111417/#1660216563531698...\n",
      "Removing gs://vertex-ai-devaip-4wfap8r0/pipelines/931647533046/custom-training-pipeline-20220811111417/custom-trainer_8882851636465106944/#1660216563718065...\n",
      "Removing gs://vertex-ai-devaip-4wfap8r0/pipelines/931647533046/custom-training-pipeline-20220811111417/custom-trainer_8882851636465106944/executor_output.json#1660216566247780...\n",
      "/ [35 objects]                                                                  \n",
      "==> NOTE: You are performing a sequence of gsutil operations that may\n",
      "run significantly faster if you instead use gsutil -m rm ... Please\n",
      "see the -m section under \"gsutil help options\" for further information\n",
      "about when gsutil -m can be advantageous.\n",
      "\n",
      "\n",
      "Operation completed over 35 objects.                                             \n",
      "Removing gs://vertex-ai-devaip-4wfap8r0/...\n"
     ]
    }
   ],
   "source": [
    "! gsutil rm -rf {BUCKET_URI}"
   ]
  },
  {
   "cell_type": "code",
   "execution_count": null,
   "id": "45ba47d3-f5be-4acd-a798-5d1be9d9c0bb",
   "metadata": {},
   "outputs": [],
   "source": []
  }
 ],
 "metadata": {
  "colab": {
   "collapsed_sections": [],
   "name": "comparing_pipeline_runs.ipynb",
   "toc_visible": true
  },
  "environment": {
   "kernel": "python3",
   "name": "common-cpu.m94",
   "type": "gcloud",
   "uri": "gcr.io/deeplearning-platform-release/base-cpu:m94"
  },
  "kernelspec": {
   "display_name": "Python 3",
   "language": "python",
   "name": "python3"
  },
  "language_info": {
   "codemirror_mode": {
    "name": "ipython",
    "version": 3
   },
   "file_extension": ".py",
   "mimetype": "text/x-python",
   "name": "python",
   "nbconvert_exporter": "python",
   "pygments_lexer": "ipython3",
   "version": "3.7.12"
  },
  "papermill": {
   "default_parameters": {},
   "duration": 137.412074,
   "end_time": "2022-08-11T10:08:23.851252",
   "environment_variables": {},
   "exception": true,
   "input_path": "notebooks/official/experiments/comparing_pipeline_runs.ipynb",
   "output_path": "notebooks/official/experiments/comparing_pipeline_runs.ipynb",
   "parameters": {},
   "start_time": "2022-08-11T10:06:06.439178",
   "version": "2.3.4"
  }
 },
 "nbformat": 4,
 "nbformat_minor": 5
}
