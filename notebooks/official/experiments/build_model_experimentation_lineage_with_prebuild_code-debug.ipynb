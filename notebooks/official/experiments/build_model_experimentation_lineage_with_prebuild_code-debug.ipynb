{
  "cells": [
    {
      "cell_type": "markdown",
      "id": "6c3fb9b4",
      "metadata": {
        "id": "a9fa31b38caa"
      },
      "source": [
        "<span style=\"color:red; font-family:Helvetica Neue, Helvetica, Arial, sans-serif; font-size:2em;\">An Exception was encountered at '<a href=\"#papermill-error-cell\">In [25]</a>'.</span>"
      ]
    },
    {
      "cell_type": "markdown",
      "id": "c88ad708",
      "metadata": {
        "id": "96e58c7b8ee0"
      },
      "source": [
        "<span id=\"papermill-error-cell\" style=\"color:red; font-family:Helvetica Neue, Helvetica, Arial, sans-serif; font-size:2em;\">Execution using papermill encountered an exception here and stopped:</span>"
      ]
    },
    {
      "cell_type": "code",
      "execution_count": null,
      "id": "e275ce41",
      "metadata": {
        "id": "DjCc1Us_Gb5Q"
      },
      "outputs": [],
      "source": [
        "\"\"\"\n",
        "Preprocess module\n",
        "\"\"\"\n",
        "\n",
        "import string\n",
        "\n",
        "import pandas as pd\n",
        "\n",
        "\n",
        "def preprocess(df: pd.DataFrame, text_col: str) -> pd.DataFrame:\n",
        "    \"\"\"\n",
        "    Preprocess text\n",
        "    Args:\n",
        "        df: The DataFrame to preprocesss\n",
        "        text_col: The text column name\n",
        "    Returns:\n",
        "        preprocessed_df: The datafrane with text in lowercase and without punctuation\n",
        "    \"\"\"\n",
        "    preprocessed_df = df.copy()\n",
        "    preprocessed_df[text_col] = preprocessed_df[text_col].apply(lambda x: x.lower())\n",
        "    preprocessed_df[text_col] = preprocessed_df[text_col].apply(\n",
        "        lambda x: x.translate(str.maketrans(\"\", \"\", string.punctuation))\n",
        "    )\n",
        "    return preprocessed_df"
      ]
    }
  ],
  "metadata": {
    "colab": {
      "collapsed_sections": [],
      "name": "build_model_experimentation_lineage_with_prebuild_code-debug.ipynb",
      "toc_visible": true
    },
    "kernelspec": {
      "display_name": "Python 3",
      "name": "python3"
    }
  },
  "nbformat": 4,
  "nbformat_minor": 0
}
