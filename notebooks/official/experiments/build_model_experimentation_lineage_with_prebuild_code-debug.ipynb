{
 "cells": [
  {
   "cell_type": "markdown",
   "id": "6c3fb9b4",
   "metadata": {
    "tags": [
     "papermill-error-cell-tag"
    ]
   },
   "source": [
    "<span style=\"color:red; font-family:Helvetica Neue, Helvetica, Arial, sans-serif; font-size:2em;\">An Exception was encountered at '<a href=\"#papermill-error-cell\">In [25]</a>'.</span>"
   ]
  },
  {
   "cell_type": "markdown",
   "id": "c88ad708",
   "metadata": {
    "tags": [
     "papermill-error-cell-tag"
    ]
   },
   "source": [
    "<span id=\"papermill-error-cell\" style=\"color:red; font-family:Helvetica Neue, Helvetica, Arial, sans-serif; font-size:2em;\">Execution using papermill encountered an exception here and stopped:</span>"
   ]
  },
  {
   "cell_type": "code",
   "execution_count": 20,
   "id": "e275ce41",
   "metadata": {
    "id": "DjCc1Us_Gb5Q",
    "papermill": {
     "duration": 0.989708,
     "end_time": "2022-06-23T17:52:07.024218",
     "exception": true,
     "start_time": "2022-06-23T17:52:06.034510",
     "status": "failed"
    },
    "tags": []
   },
   "outputs": [],
   "source": [
    "\"\"\"\n",
    "Preprocess module\n",
    "\"\"\"\n",
    "\n",
    "import string\n",
    "\n",
    "import pandas as pd\n",
    "\n",
    "\n",
    "def preprocess(df: pd.DataFrame, text_col: str) -> pd.DataFrame:\n",
    "    \"\"\"\n",
    "    Preprocess text\n",
    "    Args:\n",
    "        df: The DataFrame to preprocesss\n",
    "        text_col: The text column name\n",
    "    Returns:\n",
    "        preprocessed_df: The datafrane with text in lowercase and without punctuation\n",
    "    \"\"\"\n",
    "    preprocessed_df = df.copy()\n",
    "    preprocessed_df[text_col] = preprocessed_df[text_col].apply(lambda x: x.lower())\n",
    "    preprocessed_df[text_col] = preprocessed_df[text_col].apply(\n",
    "        lambda x: x.translate(str.maketrans(\"\", \"\", string.punctuation))\n",
    "    )\n",
    "    return preprocessed_df"
   ]
  }
 ],
 "metadata": {
  "colab": {
   "collapsed_sections": [],
   "name": "build_model_experimentation_lineage_with_prebuild_code.ipynb",
   "toc_visible": true
  },
  "environment": {
   "kernel": "python3",
   "name": "common-cpu.m93",
   "type": "gcloud",
   "uri": "gcr.io/deeplearning-platform-release/base-cpu:m93"
  },
  "kernelspec": {
   "display_name": "Python 3",
   "language": "python",
   "name": "python3"
  },
  "language_info": {
   "codemirror_mode": {
    "name": "ipython",
    "version": 3
   },
   "file_extension": ".py",
   "mimetype": "text/x-python",
   "name": "python",
   "nbconvert_exporter": "python",
   "pygments_lexer": "ipython3",
   "version": "3.7.12"
  },
  "papermill": {
   "default_parameters": {},
   "duration": 97.433376,
   "end_time": "2022-06-23T17:52:10.256176",
   "environment_variables": {},
   "exception": true,
   "input_path": "notebooks/official/experiments/build_model_experimentation_lineage_with_prebuild_code.ipynb",
   "output_path": "notebooks/official/experiments/build_model_experimentation_lineage_with_prebuild_code.ipynb",
   "parameters": {},
   "start_time": "2022-06-23T17:50:32.822800",
   "version": "2.3.4"
  }
 },
 "nbformat": 4,
 "nbformat_minor": 5
}
