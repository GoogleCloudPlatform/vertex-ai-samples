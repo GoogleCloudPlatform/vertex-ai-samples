{
 "cells": [
  {
   "cell_type": "code",
   "execution_count": null,
   "id": "e636548d-0b00-456e-a288-cc73d7a630df",
   "metadata": {},
   "outputs": [],
   "source": [
    "# Copyright 2024 Google LLC\n",
    "#\n",
    "# Licensed under the Apache License, Version 2.0 (the \"License\");\n",
    "# you may not use this file except in compliance with the License.\n",
    "# You may obtain a copy of the License at\n",
    "#\n",
    "#     https://www.apache.org/licenses/LICENSE-2.0\n",
    "#\n",
    "# Unless required by applicable law or agreed to in writing, software\n",
    "# distributed under the License is distributed on an \"AS IS\" BASIS,\n",
    "# WITHOUT WARRANTIES OR CONDITIONS OF ANY KIND, either express or implied.\n",
    "# See the License for the specific language governing permissions and\n",
    "# limitations under the License."
   ]
  },
  {
   "cell_type": "markdown",
   "id": "21e4cf90-5f1f-44c2-b020-91ecb003bb77",
   "metadata": {},
   "source": [
    "# Getting Started with Mistral AI OCR\n",
    "<table align=\"left\">\n",
    "  <td style=\"text-align: center\">\n",
    "    <a href=\"https://colab.research.google.com/github/GoogleCloudPlatform/vertex-ai-samples/blob/main/notebooks/official/generative_ai/mistralai_ocr.ipynb\">\n",
    "      <img src=\"https://cloud.google.com/ml-engine/images/colab-logo-32px.png\" alt=\"Google Colaboratory logo\"><br> Open in Colab\n",
    "    </a>\n",
    "  </td>\n",
    "  <td style=\"text-align: center\">\n",
    "    <a href=\"https://console.cloud.google.com/vertex-ai/colab/import/https:%2F%2Fraw.githubusercontent.com%2FGoogleCloudPlatform%2Fvertex-ai-samples%2Fmain%2Fnotebooks%2Fofficial%2Fgenerative_ai%2Fmistralai_ocr.ipynb\">\n",
    "      <img width=\"32px\" src=\"https://cloud.google.com/ml-engine/images/colab-enterprise-logo-32px.png\" alt=\"Google Cloud Colab Enterprise logo\"><br> Open in Colab Enterprise\n",
    "    </a>\n",
    "  </td>\n",
    "  <td style=\"text-align: center\">                                                                             \n",
    "    <a href=\"https://console.cloud.google.com/vertex-ai/notebooks/deploy-notebook?download_url=https://raw.githubusercontent.com/GoogleCloudPlatform/vertex-ai-samples/main/notebooks/official/generative_ai/mistralai_ocr.ipynb\">\n",
    "      <img src=\"https://lh3.googleusercontent.com/UiNooY4LUgW_oTvpsNhPpQzsstV5W8F7rYgxgGBD85cWJoLmrOzhVs_ksK_vgx40SHs7jCqkTkCk=e14-rj-sc0xffffff-h130-w32\" alt=\"Vertex AI logo\"><br> Open in Workbench\n",
    "    </a>\n",
    "  </td>\n",
    "  <td style=\"text-align: center\">\n",
    "    <a href=\"https://github.com/GoogleCloudPlatform/vertex-ai-samples/blob/main/notebooks/official/generative_ai/mistralai_ocr.ipynb\">\n",
    "      <img src=\"https://cloud.google.com/ml-engine/images/github-logo-32px.png\" alt=\"GitHub logo\"><br> View on GitHub\n",
    "    </a>\n",
    "  </td>\n",
    "  \n",
    "</table>"
   ]
  },
  {
   "cell_type": "markdown",
   "id": "a94cdb15-82cf-477f-9f31-3a31574bdf91",
   "metadata": {},
   "source": [
    "NOTE: This notebook has been tested in the following environment:\n",
    "\n",
    "Python version = 3.10"
   ]
  },
  {
   "cell_type": "markdown",
   "id": "4774e332-79af-48a5-b31a-17be51dd7caf",
   "metadata": {},
   "source": [
    "## Objective\n",
    "\n",
    "Mistral OCR (25.05) is a model specialized in extracting text and images from documents. It is specifically built to preserve the structure of the document pages and automatically formats the extracted text in Markdown.\n",
    "\n",
    "The objective of this notebook is to provide a summary overview of the Mistral OCR (25.05) model's capabilities and how to leverage it using the Vertex AI platform."
   ]
  },
  {
   "cell_type": "code",
   "execution_count": null,
   "id": "40d7a849-b291-4a09-8673-0f98989714bd",
   "metadata": {},
   "outputs": [],
   "source": [
    "%pip install -U -q httpx"
   ]
  },
  {
   "cell_type": "markdown",
   "id": "82aa1ec4-ca7a-424f-94d3-90e687d37152",
   "metadata": {},
   "source": [
    "## Getting started\n",
    "\n",
    "Before proceeding further, fill in the following information:"
   ]
  },
  {
   "cell_type": "code",
   "execution_count": null,
   "id": "e2fcdc63-466c-4186-b9aa-3a77d11026b4",
   "metadata": {},
   "outputs": [],
   "source": [
    "PROJECT_ID = \"\"\n",
    "REGION = \"\"\n",
    "MODEL_NAME = \"mistral-ocr\"\n",
    "MODEL_VERSION = \"2505\"\n",
    "TEST_DOC_URL = \"https://arxiv.org/pdf/2410.07073\""
   ]
  },
  {
   "cell_type": "markdown",
   "id": "a89e8159-46c6-4cf4-b8fd-acdb49ac1d1f",
   "metadata": {},
   "source": [
    "As a developer, your first step is to authenticate your notebook environment. If you are using Google Colab to run it, the following cell should take care of the authentication, otherwise it will run the `gcloud` command to retrieve the access token needed to authenticate your API calls:"
   ]
  },
  {
   "cell_type": "code",
   "execution_count": null,
   "id": "d4e27c2f-b324-458d-8526-163dc14f4bbb",
   "metadata": {},
   "outputs": [],
   "source": [
    "import sys\n",
    "import subprocess\n",
    "\n",
    "if \"google.colab\" in sys.modules:\n",
    "    from google.colab import auth\n",
    "    auth.authenticate_user()\n",
    "else:\n",
    "    try:\n",
    "        result = subprocess.run(\n",
    "            [\"gcloud\", \"auth\", \"print-access-token\"],\n",
    "            check=True,\n",
    "            stdout=subprocess.PIPE,\n",
    "            stderr=subprocess.PIPE,\n",
    "            text=True\n",
    "        )\n",
    "        access_token = result.stdout.strip()\n",
    "    except subprocess.CalledProcessError as e:\n",
    "        print(f\"Error while running command: {e.stderr}\")"
   ]
  },
  {
   "cell_type": "markdown",
   "id": "6f8a5799-2806-47e2-b1ce-5d8dd3c58cdb",
   "metadata": {},
   "source": [
    "## Calling the OCR model (HTTP)\n",
    "\n",
    "Start by defining a simple function that will help building the URL of your model endpoint:"
   ]
  },
  {
   "cell_type": "code",
   "execution_count": null,
   "id": "eed6ee59-c4c0-4a02-aef5-3d28b049c285",
   "metadata": {},
   "outputs": [],
   "source": [
    "def build_endpoint_url(region: str, project_id: str, model_name: str, model_version: str) -> str:\n",
    "    base_url = f\"https://{region}-aiplatform.googleapis.com/v1\"\n",
    "    endpoint_url_segments = [\n",
    "        base_url,\n",
    "        f\"projects/{project_id}\",\n",
    "        f\"locations/{region}\",\n",
    "        \"publishers/mistralai\",\n",
    "        f\"models/{model_name}-{model_version}\",\n",
    "    ]\n",
    "    specifier = \"rawPredict\" # Streaming is not supported\n",
    "    endpoint_url = \"/\".join(endpoint_url_segments) + f\":{specifier}\"\n",
    "    return endpoint_url"
   ]
  },
  {
   "cell_type": "markdown",
   "id": "343096d0-bc42-45e1-8a34-a564867dd1ab",
   "metadata": {},
   "source": [
    "You can now send your HTTP request to the model endpoint:"
   ]
  },
  {
   "cell_type": "markdown",
   "id": "b5b6ca1c-2839-4b84-a4bc-f799304dc9bd",
   "metadata": {},
   "source": [
    "Calling the OCR model is done via a HTTP POST request where the document to be processed is passed in the payload as a base64-encoded string. The following cell defines another helper function that downloads a given PDF file from a URL and encodes it in base64. If you already have your own documents at hand you can easily modify it to only keep the encoding part.\n",
    "\n",
    "**Warning**: the larger the document, the bigger the payload and the longer the model will take to handle it. To avoid timeout issues it is advised to split the document into smaller chunks. The number and size of chunks will depend on the total volume of documents you wish to process."
   ]
  },
  {
   "cell_type": "code",
   "execution_count": null,
   "id": "851f2e12-a1bb-4e31-ac00-aa9b5993fe9f",
   "metadata": {},
   "outputs": [],
   "source": [
    "import base64\n",
    "\n",
    "def download_pdf_and_base64_encode(pdf_url: str) -> str:\n",
    "    resp = httpx.get(pdf_url)\n",
    "    resp.raise_for_status()\n",
    "    content_bytes = resp.content\n",
    "    content_encoded_pdf = base64.b64encode(content_bytes).decode(\"utf-8\")\n",
    "    return content_encoded_pdf"
   ]
  },
  {
   "cell_type": "markdown",
   "id": "d4fa491f-4edc-401e-95a7-8afb52ece915",
   "metadata": {},
   "source": [
    "You can now send the HTTP request to the model endpoint. Note that you can also optionally:\n",
    "\n",
    "- limit the number of scanned pages,\n",
    "- retrieved any image detected by the model, in the form of base64-encoded strings.\n",
    "\n",
    "Check the detailed list of available options and values in the [Mistral AI API documentation](https://docs.mistral.ai/api/#tag/ocr)."
   ]
  },
  {
   "cell_type": "code",
   "execution_count": null,
   "id": "ddf75839-a55a-49f0-ad06-6771ba97ec87",
   "metadata": {},
   "outputs": [],
   "source": [
    "import httpx\n",
    "\n",
    "# URL\n",
    "url = build_endpoint_url(\n",
    "    region=REGION,\n",
    "    project_id=PROJECT_ID,\n",
    "    model_name=MODEL_NAME,\n",
    "    model_version=MODEL_VERSION\n",
    ")\n",
    "\n",
    "# Headers\n",
    "headers = {\n",
    "    \"Content-Type\": \"application/json\",\n",
    "    \"Accept\": \"application/json\"\n",
    "}\n",
    "if not \"google.colab\" in sys.modules:\n",
    "    headers[\"Authorization\"] = f\"Bearer {access_token}\"\n",
    "\n",
    "# Payload\n",
    "encoded_doc = download_pdf_and_base64_encode(TEST_DOC_URL)\n",
    "payload = {\n",
    "    \"model\": f\"{MODEL_NAME}-{MODEL_VERSION}\",\n",
    "    \"document\": {\n",
    "        \"type\": \"document_url\",\n",
    "        \"document_url\": f\"data:application/pdf;base64,{encoded_doc}\"\n",
    "    }\n",
    "}\n",
    "\n",
    "# Request\n",
    "model_resp = httpx.post(\n",
    "    url=url,\n",
    "    headers=headers,\n",
    "    json=payload,\n",
    "    timeout=None\n",
    ")\n",
    "\n",
    "# Response\n",
    "model_resp.raise_for_status()\n",
    "if model_resp.status_code == 200:\n",
    "    scanned_doc = model_resp.json()"
   ]
  },
  {
   "cell_type": "markdown",
   "id": "e69f7c7b-a595-480b-8081-bc57e6ad2989",
   "metadata": {},
   "source": [
    "## Parsing the results\n",
    "\n",
    "If your request was successful, the `scanned_doc` variable should contain:\n",
    "\n",
    "* `.pages` : a list of dicts containing, for each scanned page, the Markdown-formatted text detected.\n",
    "* `.usage_info`: the total count of pages processed as well as the scanned document's size."
   ]
  },
  {
   "cell_type": "code",
   "execution_count": null,
   "id": "8d05f635-b89b-4ffd-9af0-02af9ea2acaa",
   "metadata": {},
   "outputs": [],
   "source": [
    "# Beginning of the first page's content\n",
    "\n",
    "content_extract = scanned_doc[\"pages\"][0][\"markdown\"][:256]\n",
    "print(content_extract)"
   ]
  },
  {
   "cell_type": "code",
   "execution_count": null,
   "id": "cb04cd2d-3c87-4bb3-8f20-87dd01a759c2",
   "metadata": {},
   "outputs": [],
   "source": [
    "content_info = scanned_doc[\"usage_info\"]\n",
    "print(content_info)"
   ]
  },
  {
   "cell_type": "markdown",
   "id": "17fa538d-de5b-4c52-be3b-6a935c0c509c",
   "metadata": {},
   "source": [
    "## (Advanced) Combining OCR with a multimodal model\n",
    "\n",
    "In more elaborate scenarios, you may want to annotate the images of a document in addition to retrieving the document's text. This is made possible by adding a multimodal model such as `mistral-small-2503` to the mix and have it analyze the image extracted from the OCR operation, making the overall operation a two-step process which takes longer but yields more information on the document's content.\n",
    "\n",
    "To make the code more modular you can start by packaging the OCR call into a `call_ocr_model()` function that:\n",
    "- downloads the document,\n",
    "- converts it into a base64-encoded string,\n",
    "- passes that string to the OCR model. We added a `pages` argument to optionally limit the number of pages processed, to shorten processing time."
   ]
  },
  {
   "cell_type": "code",
   "execution_count": null,
   "id": "60870ff2-e749-4678-89e4-55912fdbbb95",
   "metadata": {},
   "outputs": [],
   "source": [
    "from typing import Dict, Any, Optional\n",
    "\n",
    "def call_ocr_model(endpoint_url: str, \n",
    "                   pdf_url: str,\n",
    "                   with_image_outputs: bool = False,\n",
    "                   pages: Optional[str]=None,\n",
    "                   access_token: Optional[str]=None) -> Dict[str, Any]:\n",
    "    headers = {\n",
    "        \"Content-Type\": \"application/json\",\n",
    "        \"Accept\": \"application/json\",\n",
    "    }\n",
    "    if access_token:\n",
    "        headers[\"Authorization\"] = f\"Bearer {access_token}\"\n",
    "    payload = {\n",
    "        \"model\": f\"{MODEL_NAME}-{MODEL_VERSION}\",\n",
    "        \"document\": {\n",
    "            \"type\": \"document_url\",\n",
    "            \"document_url\": f\"data:application/pdf;base64,{encoded_doc}\",\n",
    "        },\n",
    "        \"include_image_base64\": with_image_outputs,\n",
    "    }\n",
    "    if pages:\n",
    "        payload[\"pages\"] = pages\n",
    "    with httpx.Client() as client:\n",
    "        ocr_resp = client.post(\n",
    "            url=endpoint_url, headers=headers, json=payload, timeout=None\n",
    "        )\n",
    "        ocr_resp.raise_for_status()\n",
    "        if ocr_resp.status_code == 200:\n",
    "            return ocr_resp.json()"
   ]
  },
  {
   "cell_type": "markdown",
   "id": "baea9c6b-0aa5-4c5e-a586-b07da6a29932",
   "metadata": {},
   "source": [
    "To illustrate how the system works, you can scan the document pointed at by the `TEST_DOC_URL` URL as such:"
   ]
  },
  {
   "cell_type": "code",
   "execution_count": null,
   "id": "242a3c6d-ab85-4d40-99f6-cf2aadd77d34",
   "metadata": {},
   "outputs": [],
   "source": [
    "scanned_doc = call_ocr_model(\n",
    "    endpoint_url=url,\n",
    "    pdf_url=TEST_DOC_URL,\n",
    "    pages=\"1-10\",\n",
    "    with_image_outputs=True,\n",
    "    access_token=access_token\n",
    ")"
   ]
  },
  {
   "cell_type": "markdown",
   "id": "6310be20-49bd-4ab7-8fdb-4b889ee07857",
   "metadata": {},
   "source": [
    "Note that `with_image_outputs` is set to `True` because you will want to annotate the figures/images in the documents, so you need to retrieve their base64-encoded representation.\n",
    "\n",
    "The next step is to define how the multimodal model will be called to analyze the image content. To do so, you will query another Mistral model available on Vertex AI: `mistral-small-2503`, which can process both text and image inputs. This is a basic system message you can pass to it:"
   ]
  },
  {
   "cell_type": "code",
   "execution_count": null,
   "id": "68c2762e-76e4-4135-8204-be221f5eb211",
   "metadata": {},
   "outputs": [],
   "source": [
    "VLM_NAME = \"mistral-small\"\n",
    "VLM_VERSION = \"2503\"\n",
    "\n",
    "ANNOTATION_SYSTEM_PROMPT = \"\"\"\n",
    "Your mission is to provide a clear description to each image you will see.\n",
    "Describe its features and key components.\n",
    "Return your answer in a well-structured JSON object.\n",
    "\"\"\""
   ]
  },
  {
   "cell_type": "markdown",
   "id": "0467bcbc-01e5-4cc1-8afb-f16d385e2713",
   "metadata": {},
   "source": [
    "To ensure that the image annotation will stick to a specific format, you will leverage another feature called _structured outputs_, which enforces strict schema rules when you require JSON output from the model. In practice, you can define your output structure with a Pydantic model, then later convert it into a JSON Schema dictionary when passing it to the API, here is an example:"
   ]
  },
  {
   "cell_type": "code",
   "execution_count": null,
   "id": "3ef6c0a9-e1dd-438d-a14b-2dd416a8ec55",
   "metadata": {},
   "outputs": [],
   "source": [
    "from pydantic import BaseModel, Field\n",
    "import json\n",
    "\n",
    "class AnnotatedImage(BaseModel):\n",
    "    short_desc: str = Field(...,\n",
    "                            description=\"A short one-sentence summary of the image\")\n",
    "    long_desc: str = Field(...,\n",
    "                           description=\"A longer detailed description of the image\")\n",
    "\n",
    "schema = AnnotatedImage.model_json_schema()\n",
    "print(json.dumps(schema, indent=4))"
   ]
  },
  {
   "cell_type": "markdown",
   "id": "4dbec360-8878-4fb4-bf15-8c0c43bcefcc",
   "metadata": {},
   "source": [
    "You can read more about structured outputs in the [Mistral documentation](https://docs.mistral.ai/capabilities/structured-output/custom_structured_output).\n",
    "\n",
    "From there, you can write an `annotate_with_vlm_model()` function that will call the multimodal model and pass it a base64-encoded image to retrieve its description in a well-structured format:"
   ]
  },
  {
   "cell_type": "code",
   "execution_count": null,
   "id": "40428fe0-ac1d-4f5e-8219-94d98d5b3688",
   "metadata": {},
   "outputs": [],
   "source": [
    "def annotate_with_vlm_model(endpoint_url: str,\n",
    "                            annotation_structure: BaseModel,\n",
    "                            image_base64: str,\n",
    "                            access_token:Optional[str]=None,\n",
    "                            debug: bool = False) -> Dict[str,Any]:\n",
    "    \n",
    "    # Headers\n",
    "    headers = {\n",
    "        \"Content-Type\": \"application/json\",\n",
    "        \"Accept\": \"application/json\",\n",
    "    }\n",
    "    if access_token: # Non-Colab environments only\n",
    "        headers[\"Authorization\"] = f\"Bearer {access_token}\"\n",
    "\n",
    "    # JSON output schema\n",
    "    annotation_schema = annotation_structure.model_json_schema()\n",
    "    annotation_schema[\"additionalProperties\"] = False\n",
    "    payload = {\n",
    "        \"model\": f\"{VLM_NAME}-{VLM_VERSION}\",\n",
    "        \"messages\": [\n",
    "            {\n",
    "                \"role\": \"system\",\n",
    "                \"content\": ANNOTATION_SYSTEM_PROMPT\n",
    "            },\n",
    "            {\n",
    "                \"role\": \"user\",\n",
    "                \"content\": [\n",
    "                    {\n",
    "                        \"type\": \"image_url\",\n",
    "                        \"image_url\": image_base64\n",
    "                    }\n",
    "                ]\n",
    "            }\n",
    "        ],\n",
    "        \"response_format\": {\n",
    "            \"type\": \"json_schema\",\n",
    "            \"json_schema\": {\n",
    "                \"schema\": annotation_schema, \n",
    "                \"name\": \"image_schema\", \n",
    "                \"strict\": True\n",
    "            }\n",
    "        }\n",
    "    }\n",
    "\n",
    "    # Request & response\n",
    "    with httpx.Client() as client:\n",
    "        vlm_resp = client.post(url=endpoint_url, headers=headers, json=payload, timeout=None)\n",
    "        vlm_resp.raise_for_status()\n",
    "        if vlm_resp.status_code == 200:\n",
    "            vlm_out = vlm_resp.json()\n",
    "            annotation = json.loads(vlm_out[\"choices\"][0][\"message\"][\"content\"])\n",
    "        return annotation"
   ]
  },
  {
   "cell_type": "markdown",
   "id": "4e6d738d-440a-477b-a8d2-cc47272e16a2",
   "metadata": {},
   "source": [
    "You can test your function on a page of the scanned document that contains one or more images:"
   ]
  },
  {
   "cell_type": "code",
   "execution_count": null,
   "id": "3b881446-8bcc-4161-a579-7cbb31f57370",
   "metadata": {},
   "outputs": [],
   "source": [
    "from typing import List\n",
    "\n",
    "page_idx = 0\n",
    "images_b64 = [item[\"image_base64\"] for item in scanned_doc[\"pages\"][page_idx][\"images\"]]\n",
    "vlm_url = build_endpoint_url(\n",
    "    model_name=VLM_NAME,\n",
    "    model_version=VLM_VERSION,\n",
    "    project_id=PROJECT_ID,\n",
    "    region=REGION\n",
    ")\n",
    "annotations: List[Dict[str, Any]] = []\n",
    "for imgb64 in images_b64:\n",
    "    annotations.append(\n",
    "        annotate_with_vlm_model(\n",
    "            endpoint_url=vlm_url,\n",
    "            annotation_structure=AnnotatedImage,\n",
    "            image_base64=imgb64,\n",
    "            access_token=access_token\n",
    "        )\n",
    "    )\n",
    "print(f\"Page {page_idx}:\")\n",
    "print(annotations)"
   ]
  },
  {
   "cell_type": "markdown",
   "id": "10976165-28df-48d1-ae15-b22e1dbc71a7",
   "metadata": {},
   "source": [
    "Finally, in order to stict everything together, you can run the following code that will edit in-place the `scanned_doc` variable and add a `annotations` field where each detected image will have its description written:"
   ]
  },
  {
   "cell_type": "code",
   "execution_count": null,
   "id": "182f830a-8bda-45a4-a518-d55206352a28",
   "metadata": {},
   "outputs": [],
   "source": [
    "for idx, page in enumerate(scanned_doc[\"pages\"]):\n",
    "    annotations: List[Dict[str, Any]] = []\n",
    "    for img in page[\"images\"]:\n",
    "        annotations.append(\n",
    "            {\n",
    "                \"id\": img[\"id\"],\n",
    "                \"annotation\": annotate_with_vlm_model(\n",
    "                    endpoint_url=vlm_url,\n",
    "                    annotation_structure=AnnotatedImage,\n",
    "                    image_base64=img[\"image_base64\"],\n",
    "                    access_token=access_token\n",
    "                )\n",
    "            }\n",
    "        )\n",
    "    scanned_doc[\"pages\"][idx][\"annotations\"] = annotations"
   ]
  },
  {
   "cell_type": "markdown",
   "id": "a494332d-bc00-4aaf-a373-1291951b77c4",
   "metadata": {},
   "source": [
    "You can now retrieve both text and image descriptions:"
   ]
  },
  {
   "cell_type": "code",
   "execution_count": null,
   "id": "435df5b9-9c53-4971-b3d9-68611ec81f82",
   "metadata": {},
   "outputs": [],
   "source": [
    "page_idx = 6\n",
    "text = scanned_doc[\"pages\"][page_idx][\"markdown\"]\n",
    "annotations = scanned_doc[\"pages\"][page_idx][\"annotations\"]\n",
    "print(text)\n",
    "print(80*\"_\")\n",
    "print(annotations)"
   ]
  }
 ],
 "metadata": {
  "kernelspec": {
   "display_name": "Python 3 (ipykernel)",
   "language": "python",
   "name": "python3"
  },
  "language_info": {
   "codemirror_mode": {
    "name": "ipython",
    "version": 3
   },
   "file_extension": ".py",
   "mimetype": "text/x-python",
   "name": "python",
   "nbconvert_exporter": "python",
   "pygments_lexer": "ipython3",
   "version": "3.12.2"
  }
 },
 "nbformat": 4,
 "nbformat_minor": 5
}
