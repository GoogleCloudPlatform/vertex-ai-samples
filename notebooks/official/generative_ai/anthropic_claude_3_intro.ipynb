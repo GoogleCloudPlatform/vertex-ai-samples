{
 "cells": [
  {
   "cell_type": "code",
   "execution_count": null,
   "metadata": {
    "id": "9A9NkTRTfo2I"
   },
   "outputs": [],
   "source": [
    "# Copyright 2024 Google LLC\n",
    "#\n",
    "# Licensed under the Apache License, Version 2.0 (the \"License\");\n",
    "# you may not use this file except in compliance with the License.\n",
    "# You may obtain a copy of the License at\n",
    "#\n",
    "#     https://www.apache.org/licenses/LICENSE-2.0\n",
    "#\n",
    "# Unless required by applicable law or agreed to in writing, software\n",
    "# distributed under the License is distributed on an \"AS IS\" BASIS,\n",
    "# WITHOUT WARRANTIES OR CONDITIONS OF ANY KIND, either express or implied.\n",
    "# See the License for the specific language governing permissions and\n",
    "# limitations under the License."
   ]
  },
  {
   "cell_type": "markdown",
   "metadata": {
    "id": "IPprg6Oz0QDs"
   },
   "source": [
    "# Getting Started with Claude 3 Models\n",
    "<table align=\"left\">\n",
    "  <td style=\"text-align: center\">\n",
    "    <a href=\"https://colab.research.google.com/github/GoogleCloudPlatform/vertex-ai-samples/blob/main/notebooks/official/generative_ai/anthropic_claude_3_intro.ipynb\">\n",
    "      <img src=\"https://cloud.google.com/ml-engine/images/colab-logo-32px.png\" alt=\"Google Colaboratory logo\"><br> Open in Colab\n",
    "    </a>\n",
    "  </td>\n",
    "  <td style=\"text-align: center\">\n",
    "    <a href=\"https://console.cloud.google.com/vertex-ai/colab/import/https:%2F%2Fraw.githubusercontent.com%2FGoogleCloudPlatform%2Fvertex-ai-samples%2Fblob%2Fmain%2Fnotebooks%2Fofficial%2Fgenerative_ai%2Fanthropic_claude_3_intro.ipynb\">\n",
    "      <img width=\"32px\" src=\"https://lh3.googleusercontent.com/JmcxdQi-qOpctIvWKgPtrzZdJJK-J3sWE1RsfjZNwshCFgE_9fULcNpuXYTilIR2hjwN\" alt=\"Google Cloud Colab Enterprise logo\"><br> Open in Colab Enterprise\n",
    "    </a>\n",
    "  </td> \n",
    "  <td style=\"text-align: center\">                                                                             \n",
    "    <a href=\"https://console.cloud.google.com/vertex-ai/notebooks/deploy-notebook?download_url=https://raw.githubusercontent.com/GoogleCloudPlatform/vertex-ai-samples/main/notebooks/official/generative_ai/anthropic_claude_3_intro.ipynb\">\n",
    "      <img src=\"https://lh3.googleusercontent.com/UiNooY4LUgW_oTvpsNhPpQzsstV5W8F7rYgxgGBD85cWJoLmrOzhVs_ksK_vgx40SHs7jCqkTkCk=e14-rj-sc0xffffff-h130-w32\" alt=\"Vertex AI logo\"><br> Open in Workbench\n",
    "    </a>\n",
    "  </td>\n",
    "  <td style=\"text-align: center\">\n",
    "    <a href=\"https://github.com/GoogleCloudPlatform/vertex-ai-samples/blob/main/notebooks/official/generative_ai/anthropic_claude_3_intro.ipynb\">\n",
    "      <img src=\"https://cloud.google.com/ml-engine/images/github-logo-32px.png\" alt=\"GitHub logo\"><br> View on GitHub\n",
    "    </a>\n",
    "  </td>\n",
    "  \n",
    "</table>"
   ]
  },
  {
   "cell_type": "markdown",
   "metadata": {
    "id": "8fK_rdvvx1iZ"
   },
   "source": [
    "## Overview\n",
    "\n",
    "### Claude on Vertex AI\n",
    "\n",
    "Anthropic Claude 3 models on Vertex AI offer fully managed and serverless models are offered as managed APIs. To use a Claude model on Vertex AI, send a request directly to the Vertex AI API endpoint.\n",
    "\n",
    "You can stream your Claude responses to reduce the end-user latency perception. A streamed response uses server-sent events (SSE) to incrementally stream the response.\n",
    "\n",
    "### Available Anthropic Claude models\n",
    "\n",
    "#### Claude 3 Sonnet\n",
    "Anthropic Claude 3 Sonnet provides a balance between intelligence and speed for enterprise workloads. It's a high-endurance model for scaled AI that's available at a competitive price.\n",
    "\n",
    "#### Claude 3 Haiku\n",
    "Anthropic Claude 3 Haiku is the fastest, most compact model available from Anthropic. It is designed to answer simple queries and requests quickly. You can use it to build AI experiences that mimic human interactions.\n",
    "\n",
    "All Claude 3 models can process images and return text outputs, and feature a 200K context window.\n",
    "\n",
    "## Objective\n",
    "\n",
    "This notebook shows how to use **Vertex AI API** and **Anthropic’s Vertex SDK for Python** to call the Claude on Vertex AI API with the Claude 3 Sonnet and Claude 3 Haiku model.\n",
    "\n",
    "For more information, see the [Use Claude](https://cloud.google.com/vertex-ai/generative-ai/docs/partner-models/use-claude) documentation.\n"
   ]
  },
  {
   "cell_type": "markdown",
   "metadata": {
    "id": "HcJCV6Dw5usD"
   },
   "source": [
    "## Vertex AI API"
   ]
  },
  {
   "cell_type": "markdown",
   "metadata": {
    "id": "nwYvaaW25jYS"
   },
   "source": [
    "## Getting Started\n"
   ]
  },
  {
   "cell_type": "markdown",
   "metadata": {
    "tags": []
   },
   "source": [
    "### Install required packages\n"
   ]
  },
  {
   "cell_type": "code",
   "execution_count": null,
   "metadata": {
    "tags": []
   },
   "outputs": [],
   "source": [
    "! pip3 install -U -q httpx"
   ]
  },
  {
   "cell_type": "markdown",
   "metadata": {},
   "source": [
    "### Restart runtime (Colab only)\n",
    "\n",
    "To use the newly installed packages, you must restart the runtime on Google Colab."
   ]
  },
  {
   "cell_type": "code",
   "execution_count": null,
   "metadata": {},
   "outputs": [],
   "source": [
    "import sys\n",
    "\n",
    "if \"google.colab\" in sys.modules:\n",
    "\n",
    "    import IPython\n",
    "\n",
    "    app = IPython.Application.instance()\n",
    "    app.kernel.do_shutdown(True)"
   ]
  },
  {
   "cell_type": "markdown",
   "metadata": {},
   "source": [
    "<div class=\"alert alert-block alert-warning\">\n",
    "<b>⚠️ The kernel is going to restart. Please wait until it is finished before continuing to the next step. ⚠️</b>\n",
    "</div>\n"
   ]
  },
  {
   "cell_type": "markdown",
   "metadata": {},
   "source": [
    "### Authenticate your notebook environment (Colab only)\n",
    "\n",
    "Authenticate your environment on Google Colab.\n"
   ]
  },
  {
   "cell_type": "code",
   "execution_count": null,
   "metadata": {},
   "outputs": [],
   "source": [
    "import sys\n",
    "\n",
    "if \"google.colab\" in sys.modules:\n",
    "\n",
    "    from google.colab import auth\n",
    "\n",
    "    auth.authenticate_user()"
   ]
  },
  {
   "cell_type": "markdown",
   "metadata": {
    "id": "2fxZn4SAbxdl"
   },
   "source": [
    "#### Select Claude 3 model"
   ]
  },
  {
   "cell_type": "code",
   "execution_count": null,
   "metadata": {
    "id": "Y8X70FTSbx7U",
    "tags": []
   },
   "outputs": [],
   "source": [
    "MODEL = \"claude-3-sonnet@20240229\"  # @param [\"claude-3-sonnet@20240229\", \"claude-3-haiku@20240307\", \"claude-3-opus@20240229\"]\n",
    "if MODEL == \"claude-3-sonnet@20240229\":\n",
    "    available_regions = [\"us-central1\", \"asia-southeast1\"]\n",
    "elif MODEL == \"claude-3-haiku@20240307\":\n",
    "    available_regions = [\"us-central1\", \"europe-west4\"]\n",
    "else:\n",
    "    available_regions = [\"us-east5\"]"
   ]
  },
  {
   "cell_type": "markdown",
   "metadata": {
    "id": "bpuX3sKtexlK"
   },
   "source": [
    "#### Select a location"
   ]
  },
  {
   "cell_type": "code",
   "execution_count": null,
   "metadata": {
    "id": "dHl8xW45ex_O",
    "tags": []
   },
   "outputs": [],
   "source": [
    "import ipywidgets as widgets\n",
    "from IPython.display import display\n",
    "\n",
    "dropdown = widgets.Dropdown(\n",
    "    options=available_regions,\n",
    "    description=\"Select a location:\",\n",
    "    font_weight=\"bold\",\n",
    "    style={\"description_width\": \"initial\"},\n",
    ")\n",
    "\n",
    "\n",
    "def dropdown_eventhandler(change):\n",
    "    global LOCATION\n",
    "    if change[\"type\"] == \"change\" and change[\"name\"] == \"value\":\n",
    "        LOCATION = change.new\n",
    "        print(\"Selected:\", change.new)\n",
    "\n",
    "\n",
    "LOCATION = dropdown.value\n",
    "dropdown.observe(dropdown_eventhandler, names=\"value\")\n",
    "display(dropdown)"
   ]
  },
  {
   "cell_type": "markdown",
   "metadata": {
    "id": "3q58icinBjoK"
   },
   "source": [
    "#### Define Google Cloud project and model information\n",
    "\n",
    "To get started using Vertex AI, you must have an existing Google Cloud project and [enable the Vertex AI API](https://console.cloud.google.com/flows/enableapi?apiid=aiplatform.googleapis.com). Learn more about [setting up a project and a development environment](https://cloud.google.com/vertex-ai/docs/start/cloud-environment)."
   ]
  },
  {
   "cell_type": "code",
   "execution_count": null,
   "metadata": {
    "id": "hltNx33t6cSZ",
    "tags": []
   },
   "outputs": [],
   "source": [
    "PROJECT_ID = \"[your-project-id]\"  # @param {type:\"string\"}\n",
    "ENDPOINT = f\"https://{LOCATION}-aiplatform.googleapis.com\"\n",
    "\n",
    "if not PROJECT_ID or PROJECT_ID == \"[your-project-id]\":\n",
    "    raise ValueError(\"Please set your PROJECT_ID\")"
   ]
  },
  {
   "cell_type": "markdown",
   "metadata": {
    "id": "4NAstKRFBt4N"
   },
   "source": [
    "#### Import required libraries"
   ]
  },
  {
   "cell_type": "code",
   "execution_count": null,
   "metadata": {
    "id": "QZEFLE6a6bqy",
    "tags": []
   },
   "outputs": [],
   "source": [
    "import json\n",
    "import base64\n",
    "\n",
    "import httpx\n",
    "import requests\n",
    "from IPython.display import Image"
   ]
  },
  {
   "cell_type": "markdown",
   "metadata": {
    "id": "5ahw-uFjCAbo"
   },
   "source": [
    "### Text generation"
   ]
  },
  {
   "cell_type": "markdown",
   "metadata": {
    "id": "61107099357a"
   },
   "source": [
    "#### Unary call\n",
    "\n",
    "Sends a POST request to the specified API endpoint to get a response from the model for a banana bread recipe using the provided payload."
   ]
  },
  {
   "cell_type": "code",
   "execution_count": null,
   "metadata": {
    "id": "4zFz260B50oi",
    "tags": []
   },
   "outputs": [],
   "source": [
    "PAYLOAD = {\n",
    "    \"anthropic_version\": \"vertex-2023-10-16\",\n",
    "    \"messages\": [{\"role\": \"user\", \"content\": \"Send me a recipe for banana bread.\"}],\n",
    "    \"max_tokens\": 100,\n",
    "    \"stream\": False,\n",
    "}\n",
    "\n",
    "request = json.dumps(PAYLOAD)\n",
    "!curl -X POST -H \"Authorization: Bearer $(gcloud auth print-access-token)\" -H \"Content-Type: application/json\" {ENDPOINT}/v1/projects/{PROJECT_ID}/locations/{LOCATION}/publishers/anthropic/models/{MODEL}:rawPredict -d '{request}'"
   ]
  },
  {
   "cell_type": "markdown",
   "metadata": {
    "id": "e6f52fae9379"
   },
   "source": [
    "#### Streaming call\n",
    "\n",
    "Sends a POST request to the specified API endpoint to stream a response from the model for a banana bread recipe using the provided payload."
   ]
  },
  {
   "cell_type": "code",
   "execution_count": null,
   "metadata": {
    "id": "c99761dcd7da"
   },
   "outputs": [],
   "source": [
    "PAYLOAD = {\n",
    "    \"anthropic_version\": \"vertex-2023-10-16\",\n",
    "    \"messages\": [{\"role\": \"user\", \"content\": \"Send me a recipe for banana bread.\"}],\n",
    "    \"max_tokens\": 100,\n",
    "    \"stream\": True,\n",
    "}\n",
    "\n",
    "request = json.dumps(PAYLOAD)\n",
    "!curl -X POST -H \"Authorization: Bearer $(gcloud auth print-access-token)\" -H \"Content-Type: application/json\" {ENDPOINT}/v1/projects/{PROJECT_ID}/locations/{LOCATION}/publishers/anthropic/models/{MODEL}:streamRawPredict -d '{request}'"
   ]
  },
  {
   "cell_type": "markdown",
   "metadata": {
    "id": "lfTx9TIKCBHo"
   },
   "source": [
    "### Vision"
   ]
  },
  {
   "cell_type": "markdown",
   "metadata": {
    "id": "3d627efff784"
   },
   "source": [
    "#### Encode And Preview Image\n",
    "\n",
    "We'll fetch sample images from Wikipedia using the httpx library, but you can use whatever image sources work for you."
   ]
  },
  {
   "cell_type": "code",
   "execution_count": null,
   "metadata": {
    "id": "7f1954211edf",
    "tags": []
   },
   "outputs": [],
   "source": [
    "image_url = \"https://upload.wikimedia.org/wikipedia/commons/thumb/a/a7/Camponotus_flavomarginatus_ant.jpg/300px-Camponotus_flavomarginatus_ant.jpg\"\n",
    "image_b64 = base64.b64encode(httpx.get(image_url).content).decode(\"utf-8\")\n",
    "\n",
    "response = requests.get(image_url)\n",
    "image = Image(response.content, width=300, height=200)\n",
    "\n",
    "image"
   ]
  },
  {
   "cell_type": "markdown",
   "metadata": {
    "id": "9771877508aa"
   },
   "source": [
    "#### Unary call\n",
    "\n",
    "Sends a POST request to the specified API endpoint to get a response from the model analyzing the content of an image, provided as base64-encoded data, along with the text prompt."
   ]
  },
  {
   "cell_type": "code",
   "execution_count": null,
   "metadata": {
    "id": "JjrE75TF8Nsn",
    "tags": []
   },
   "outputs": [],
   "source": [
    "PAYLOAD = {\n",
    "    \"anthropic_version\": \"vertex-2023-10-16\",\n",
    "    \"messages\": [\n",
    "        {\n",
    "            \"role\": \"user\",\n",
    "            \"content\": [\n",
    "                {\n",
    "                    \"type\": \"image\",\n",
    "                    \"source\": {\n",
    "                        \"type\": \"base64\",\n",
    "                        \"media_type\": \"image/jpeg\",\n",
    "                        \"data\": image_b64,\n",
    "                    },\n",
    "                },\n",
    "                {\"type\": \"text\", \"text\": \"What is in this image?\"},\n",
    "            ],\n",
    "        }\n",
    "    ],\n",
    "    \"max_tokens\": 100,\n",
    "    \"stream\": False,\n",
    "}\n",
    "\n",
    "request = json.dumps(PAYLOAD)\n",
    "!curl -X POST -H \"Authorization: Bearer $(gcloud auth print-access-token)\" -H \"Content-Type: application/json\" {ENDPOINT}/v1/projects/{PROJECT_ID}/locations/{LOCATION}/publishers/anthropic/models/{MODEL}:rawPredict -d '{request}'"
   ]
  },
  {
   "cell_type": "markdown",
   "metadata": {
    "id": "2ecd941bf6cc"
   },
   "source": [
    "#### Streaming call\n",
    "\n",
    "Sends a POST request to the specified API endpoint to stream a response from the model analyzing the content of an image, provided as base64-encoded data, along with the text prompt."
   ]
  },
  {
   "cell_type": "code",
   "execution_count": null,
   "metadata": {
    "id": "59ca7a4e6426"
   },
   "outputs": [],
   "source": [
    "PAYLOAD = {\n",
    "    \"anthropic_version\": \"vertex-2023-10-16\",\n",
    "    \"messages\": [\n",
    "        {\n",
    "            \"role\": \"user\",\n",
    "            \"content\": [\n",
    "                {\n",
    "                    \"type\": \"image\",\n",
    "                    \"source\": {\n",
    "                        \"type\": \"base64\",\n",
    "                        \"media_type\": \"image/jpeg\",\n",
    "                        \"data\": image_b64,\n",
    "                    },\n",
    "                },\n",
    "                {\"type\": \"text\", \"text\": \"What is in this image?\"},\n",
    "            ],\n",
    "        }\n",
    "    ],\n",
    "    \"max_tokens\": 100,\n",
    "    \"stream\": True,\n",
    "}\n",
    "\n",
    "request = json.dumps(PAYLOAD)\n",
    "!curl -X POST -H \"Authorization: Bearer $(gcloud auth print-access-token)\" -H \"Content-Type: application/json\" {ENDPOINT}/v1/projects/{PROJECT_ID}/locations/{LOCATION}/publishers/anthropic/models/{MODEL}:streamRawPredict -d '{request}'"
   ]
  },
  {
   "cell_type": "markdown",
   "metadata": {
    "id": "gI3KlxQQ_F_T"
   },
   "source": [
    "## Using Anthropic's Vertex SDK for *Python*"
   ]
  },
  {
   "cell_type": "markdown",
   "metadata": {
    "id": "E0x3GO6M_O3_"
   },
   "source": [
    "## Getting Started\n"
   ]
  },
  {
   "cell_type": "markdown",
   "metadata": {
    "id": "_CJrqUvqAfR7"
   },
   "source": [
    "### Install Anthropic's Vertex SDK and other required packages"
   ]
  },
  {
   "cell_type": "code",
   "execution_count": 2,
   "metadata": {
    "id": "fi_HLdat_Pce",
    "tags": []
   },
   "outputs": [],
   "source": [
    "! pip3 install -U -q 'anthropic[vertex]'\n",
    "! pip3 install -U -q httpx"
   ]
  },
  {
   "cell_type": "markdown",
   "metadata": {
    "id": "hUiAYUFbBCpR"
   },
   "source": [
    "### Restart runtime (Colab only)\n",
    "\n",
    "To use the newly installed packages, you must restart the runtime on Google Colab."
   ]
  },
  {
   "cell_type": "code",
   "execution_count": null,
   "metadata": {
    "id": "jcqgcj_DBFgt"
   },
   "outputs": [],
   "source": [
    "# Restart kernel after installs so that your environment can access the new packages\n",
    "import sys\n",
    "\n",
    "if \"google.colab\" in sys.modules:\n",
    "    import IPython\n",
    "\n",
    "    app = IPython.Application.instance()\n",
    "    app.kernel.do_shutdown(True)"
   ]
  },
  {
   "cell_type": "markdown",
   "metadata": {},
   "source": [
    "<div class=\"alert alert-block alert-warning\">\n",
    "<b>⚠️ The kernel is going to restart. Please wait until it is finished before continuing to the next step. ⚠️</b>\n",
    "</div>\n"
   ]
  },
  {
   "cell_type": "markdown",
   "metadata": {},
   "source": [
    "### Authenticate your notebook environment (Colab only)\n",
    "\n",
    "Authenticate your environment on Google Colab.\n"
   ]
  },
  {
   "cell_type": "code",
   "execution_count": null,
   "metadata": {},
   "outputs": [],
   "source": [
    "import sys\n",
    "\n",
    "if \"google.colab\" in sys.modules:\n",
    "\n",
    "    from google.colab import auth\n",
    "\n",
    "    auth.authenticate_user()"
   ]
  },
  {
   "cell_type": "markdown",
   "metadata": {
    "id": "czcmJpKPBMVC"
   },
   "source": [
    "#### Select Claude 3 model"
   ]
  },
  {
   "cell_type": "code",
   "execution_count": 3,
   "metadata": {
    "id": "s6SJn92__jpy",
    "tags": []
   },
   "outputs": [],
   "source": [
    "MODEL = \"claude-3-sonnet@20240229\"  # @param [\"claude-3-sonnet@20240229\", \"claude-3-haiku@20240307\", \"claude-3-opus@20240229\"]\n",
    "if MODEL == \"claude-3-sonnet@20240229\":\n",
    "    available_regions = [\"us-central1\", \"asia-southeast1\"]\n",
    "elif MODEL == \"claude-3-haiku@20240307\":\n",
    "    available_regions = [\"us-central1\", \"europe-west4\"]\n",
    "else:\n",
    "    available_regions = [\"us-east5\"]"
   ]
  },
  {
   "cell_type": "markdown",
   "metadata": {
    "id": "C-z0epNze9k8"
   },
   "source": [
    "#### Select a region"
   ]
  },
  {
   "cell_type": "code",
   "execution_count": 4,
   "metadata": {
    "id": "u4ciYLdLe-D-",
    "tags": []
   },
   "outputs": [
    {
     "data": {
      "application/vnd.jupyter.widget-view+json": {
       "model_id": "75694fba048148a98d995e19828b9d93",
       "version_major": 2,
       "version_minor": 0
      },
      "text/plain": [
       "Dropdown(description='Select a location:', options=('us-central1', 'europe-west4'), style=DescriptionStyle(des…"
      ]
     },
     "metadata": {},
     "output_type": "display_data"
    }
   ],
   "source": [
    "import ipywidgets as widgets\n",
    "from IPython.display import display\n",
    "\n",
    "dropdown = widgets.Dropdown(\n",
    "    options=available_regions,\n",
    "    description=\"Select a location:\",\n",
    "    font_weight=\"bold\",\n",
    "    style={\"description_width\": \"initial\"},\n",
    ")\n",
    "\n",
    "\n",
    "def dropdown_eventhandler(change):\n",
    "    global LOCATION\n",
    "    if change[\"type\"] == \"change\" and change[\"name\"] == \"value\":\n",
    "        LOCATION = change.new\n",
    "        print(\"Selected:\", change.new)\n",
    "\n",
    "\n",
    "LOCATION = dropdown.value\n",
    "dropdown.observe(dropdown_eventhandler, names=\"value\")\n",
    "display(dropdown)"
   ]
  },
  {
   "cell_type": "markdown",
   "metadata": {
    "id": "shZgRl6qbZYP"
   },
   "source": [
    "#### Define Google Cloud project and model information\n",
    "\n",
    "To get started using Vertex AI, you must have an existing Google Cloud project and [enable the Vertex AI API](https://console.cloud.google.com/flows/enableapi?apiid=aiplatform.googleapis.com). Learn more about [setting up a project and a development environment](https://cloud.google.com/vertex-ai/docs/start/cloud-environment).#### Define Google Cloud project and model information"
   ]
  },
  {
   "cell_type": "code",
   "execution_count": 5,
   "metadata": {
    "id": "JZLqMJ6va9fc",
    "tags": []
   },
   "outputs": [],
   "source": [
    "PROJECT_ID = \"[your-project-id]\"  # @param {type:\"string\"}\n",
    "ENDPOINT = f\"https://{LOCATION}-aiplatform.googleapis.com\"\n",
    "\n",
    "if not PROJECT_ID or PROJECT_ID == \"[your-project-id]\":\n",
    "    raise ValueError(\"Please set your PROJECT_ID\")"
   ]
  },
  {
   "cell_type": "markdown",
   "metadata": {},
   "source": [
    "#### Import required libraries"
   ]
  },
  {
   "cell_type": "code",
   "execution_count": 6,
   "metadata": {
    "tags": []
   },
   "outputs": [],
   "source": [
    "import base64\n",
    "\n",
    "import httpx\n",
    "import requests\n",
    "from IPython.display import Image"
   ]
  },
  {
   "cell_type": "markdown",
   "metadata": {
    "id": "gijJ2vr5B5nV"
   },
   "source": [
    "### Text generation"
   ]
  },
  {
   "cell_type": "markdown",
   "metadata": {
    "id": "2f7ee8ceb620"
   },
   "source": [
    "#### Unary call\n",
    "\n",
    "Initializes a client for Anthropic's Vertex AI, sends a request to generate the content, and prints the response in a formatted JSON"
   ]
  },
  {
   "cell_type": "code",
   "execution_count": 7,
   "metadata": {
    "id": "c2c03d3da1b0",
    "tags": []
   },
   "outputs": [
    {
     "name": "stdout",
     "output_type": "stream",
     "text": [
      "{\n",
      "  \"id\": \"msg_vrtx_01217PxzvULUjECXyvq8Y64n\",\n",
      "  \"content\": [\n",
      "    {\n",
      "      \"text\": \"Here is a classic recipe for moist and delicious banana bread:\\n\\nBanana Bread\\n\\nIngredients:\\n- 1 3/4 cups (220g) all-purpose flour \\n- 1 teaspoon baking soda\\n- 1/4 teaspoon salt\\n- 1/2 cup (115g) unsalted butter, softened\\n- 3/4 cup (150g) granulated sugar\\n- 2 large eggs\\n- 1 teaspoon vanilla extract\\n- 1 1/4 cups (300g) mashed ripe bananas (about 3 medium bananas)\\n\\nInstructions:\\n\\n1. Preheat the oven to 350\\u00b0F (177\\u00b0C). Grease a 9x5-inch loaf pan or line it with parchment paper.\\n\\n2. In a medium bowl, whisk together the flour, baking soda, and salt. Set aside.\\n\\n3. In a large bowl, beat the butter and sugar together until light and fluffy, about 2-3 minutes. Beat in the eggs one at a time, then stir in the vanilla and mashed bananas until combined.\\n\\n4. Fold the dry ingredients into the wet ingredients until just combined. Do not overmix.\\n\\n5. Pour the batter into the prepared loaf pan and bake for 55-65 minutes, until a toothpick inserted in the center comes out clean. \\n\\n6. Allow the banana bread to cool in the pan for 10 minutes, then transfer to a wire rack to cool completely before slicing and serving.\\n\\nEnjoy your homemade banana bread! Let me know if you have any other questions.\",\n",
      "      \"type\": \"text\"\n",
      "    }\n",
      "  ],\n",
      "  \"model\": \"claude-3-haiku-20240307\",\n",
      "  \"role\": \"assistant\",\n",
      "  \"stop_reason\": \"end_turn\",\n",
      "  \"stop_sequence\": null,\n",
      "  \"type\": \"message\",\n",
      "  \"usage\": {\n",
      "    \"input_tokens\": 15,\n",
      "    \"output_tokens\": 383\n",
      "  }\n",
      "}\n"
     ]
    }
   ],
   "source": [
    "from anthropic import AnthropicVertex\n",
    "\n",
    "client = AnthropicVertex(region=LOCATION, project_id=PROJECT_ID)\n",
    "message = client.messages.create(\n",
    "    max_tokens=1024,\n",
    "    messages=[\n",
    "        {\n",
    "            \"role\": \"user\",\n",
    "            \"content\": \"Send me a recipe for banana bread.\",\n",
    "        }\n",
    "    ],\n",
    "    model=MODEL,\n",
    ")\n",
    "print(message.model_dump_json(indent=2))"
   ]
  },
  {
   "cell_type": "markdown",
   "metadata": {
    "id": "f8e56a2fb209"
   },
   "source": [
    "#### Streaming call\n",
    "\n",
    "Initializes a client for Anthropic's Vertex AI, sends a streaming request to generate the content, and continuously prints the received text as it is streamed."
   ]
  },
  {
   "cell_type": "code",
   "execution_count": 8,
   "metadata": {
    "id": "KedVqBW9_2m_",
    "tags": []
   },
   "outputs": [
    {
     "name": "stdout",
     "output_type": "stream",
     "text": [
      "Here is a classic recipe for moist and delicious banana bread:\n",
      "\n",
      "Banana Bread\n",
      "\n",
      "Ingredients:\n",
      "- 1 3/4 cups all-purpose flour \n",
      "- 1 teaspoon baking soda\n",
      "- 1/4 teaspoon salt\n",
      "- 1/2 cup unsalted butter, softened\n",
      "- 3/4 cup granulated sugar\n",
      "- 2 large eggs\n",
      "- 1 teaspoon vanilla extract\n",
      "- 1 1/4 cups mashed ripe bananas (about 3 medium bananas)\n",
      "\n",
      "Instructions:\n",
      "\n",
      "1. Preheat oven to 350°F. Grease a 9x5 inch loaf pan.\n",
      "\n",
      "2. In a medium bowl, whisk together the flour, baking soda and salt. Set aside.\n",
      "\n",
      "3. In a large bowl, beat the butter and sugar together until light and fluffy, about 2-3 minutes. Beat in the eggs one at a time, then stir in the vanilla and mashed bananas until combined. \n",
      "\n",
      "4. Fold the dry ingredients into the wet ingredients until just combined, being careful not to overmix.\n",
      "\n",
      "5. Pour the batter into the prepared loaf pan. Bake for 55-65 minutes, until a toothpick inserted in the center comes out clean. \n",
      "\n",
      "6. Allow the banana bread to cool in the pan for 10 minutes, then transfer to a wire rack to cool completely before slicing.\n",
      "\n",
      "Enjoy your homemade banana bread! Let me know if you need any clarification on the steps."
     ]
    }
   ],
   "source": [
    "from anthropic import AnthropicVertex\n",
    "\n",
    "client = AnthropicVertex(region=LOCATION, project_id=PROJECT_ID)\n",
    "\n",
    "with client.messages.stream(\n",
    "    max_tokens=1024,\n",
    "    messages=[\n",
    "        {\n",
    "            \"role\": \"user\",\n",
    "            \"content\": \"Send me a recipe for banana bread.\",\n",
    "        }\n",
    "    ],\n",
    "    model=MODEL,\n",
    ") as stream:\n",
    "    for text in stream.text_stream:\n",
    "        print(text, end=\"\", flush=True)"
   ]
  },
  {
   "cell_type": "markdown",
   "metadata": {
    "id": "CysN0InWCKN4"
   },
   "source": [
    "### Vision"
   ]
  },
  {
   "cell_type": "markdown",
   "metadata": {
    "id": "2fe57432a56d"
   },
   "source": [
    "#### Encode And Preview Image\n",
    "\n",
    "We'll fetch sample images from Wikipedia using the httpx library, but you can use whatever image sources work for you."
   ]
  },
  {
   "cell_type": "code",
   "execution_count": 9,
   "metadata": {
    "id": "8437abc38965",
    "tags": []
   },
   "outputs": [
    {
     "data": {
      "image/jpeg": "[encoded data removed]",
      "text/plain": [
       "<IPython.core.display.Image object>"
      ]
     },
     "execution_count": 9,
     "metadata": {
      "image/jpeg": {
       "height": 200,
       "width": 300
      }
     },
     "output_type": "execute_result"
    }
   ],
   "source": [
    "image_url = \"https://upload.wikimedia.org/wikipedia/commons/thumb/a/a7/Camponotus_flavomarginatus_ant.jpg/300px-Camponotus_flavomarginatus_ant.jpg\"\n",
    "image_media_type = \"image/jpeg\"\n",
    "image_b64 = base64.b64encode(httpx.get(image_url).content).decode(\"utf-8\")\n",
    "\n",
    "response = requests.get(image_url)\n",
    "image = Image(response.content, width=300, height=200)\n",
    "\n",
    "image"
   ]
  },
  {
   "cell_type": "markdown",
   "metadata": {
    "id": "9fd5937f839b"
   },
   "source": [
    "#### Unary call\n",
    "\n",
    "Initializes a client for Anthropic's Vertex AI, sends a request to describe an image (provided as base64-encoded data) along with a text prompt, and prints the response in a formatted JSON."
   ]
  },
  {
   "cell_type": "code",
   "execution_count": 10,
   "metadata": {
    "id": "8hTk6_Ju_3rj",
    "tags": []
   },
   "outputs": [
    {
     "name": "stdout",
     "output_type": "stream",
     "text": [
      "{\n",
      "  \"id\": \"msg_vrtx_01XBoXC1Q3WaFRXhpzcQNSdQ\",\n",
      "  \"content\": [\n",
      "    {\n",
      "      \"text\": \"This image depicts a close-up view of a small insect, likely an ant or similar crawling arthropod. The insect has a distinct segmented body, with a head, thorax, and abdomen visible. Its legs are extended and the creature appears to be in motion, possibly foraging or exploring its environment. The image is sharply focused, allowing for detailed observation of the insect's features, such as its antennae and compound eyes. The background is blurred, drawing the viewer's attention to the central subject of the image.\",\n",
      "      \"type\": \"text\"\n",
      "    }\n",
      "  ],\n",
      "  \"model\": \"claude-3-haiku-20240307\",\n",
      "  \"role\": \"assistant\",\n",
      "  \"stop_reason\": \"end_turn\",\n",
      "  \"stop_sequence\": null,\n",
      "  \"type\": \"message\",\n",
      "  \"usage\": {\n",
      "    \"input_tokens\": 104,\n",
      "    \"output_tokens\": 118\n",
      "  }\n",
      "}\n"
     ]
    }
   ],
   "source": [
    "from anthropic import AnthropicVertex\n",
    "\n",
    "client = AnthropicVertex(region=LOCATION, project_id=PROJECT_ID)\n",
    "\n",
    "message = client.messages.create(\n",
    "    max_tokens=1024,\n",
    "    messages=[\n",
    "        {\n",
    "            \"role\": \"user\",\n",
    "            \"content\": [\n",
    "                {\n",
    "                    \"type\": \"image\",\n",
    "                    \"source\": {\n",
    "                        \"type\": \"base64\",\n",
    "                        \"media_type\": image_media_type,\n",
    "                        \"data\": image_b64,\n",
    "                    },\n",
    "                },\n",
    "                {\"type\": \"text\", \"text\": \"Describe this image.\"},\n",
    "            ],\n",
    "        }\n",
    "    ],\n",
    "    model=MODEL,\n",
    ")\n",
    "print(message.model_dump_json(indent=2))"
   ]
  },
  {
   "cell_type": "markdown",
   "metadata": {
    "id": "1fb4855047e3"
   },
   "source": [
    "#### Streaming call\n",
    "\n",
    "Initializes a client for Anthropic's Vertex AI, sends a streaming request to describe an image (provided as base64-encoded data) along with a text prompt, and continuously prints the received text as it is streamed."
   ]
  },
  {
   "cell_type": "code",
   "execution_count": null,
   "metadata": {
    "id": "6df4d0e6d95b"
   },
   "outputs": [],
   "source": [
    "from anthropic import AnthropicVertex\n",
    "\n",
    "client = AnthropicVertex(region=LOCATION, project_id=PROJECT_ID)\n",
    "\n",
    "with client.messages.stream(\n",
    "    max_tokens=1024,\n",
    "    messages=[\n",
    "        {\n",
    "            \"role\": \"user\",\n",
    "            \"content\": [\n",
    "                {\n",
    "                    \"type\": \"image\",\n",
    "                    \"source\": {\n",
    "                        \"type\": \"base64\",\n",
    "                        \"media_type\": image_media_type,\n",
    "                        \"data\": image_b64,\n",
    "                    },\n",
    "                },\n",
    "                {\"type\": \"text\", \"text\": \"Describe this image.\"},\n",
    "            ],\n",
    "        }\n",
    "    ],\n",
    "    model=MODEL,\n",
    ") as stream:\n",
    "    for text in stream.text_stream:\n",
    "        print(text, end=\"\", flush=True)"
   ]
  }
 ],
 "metadata": {
  "colab": {
   "name": "anthropic_claude_3_intro.ipynb",
   "toc_visible": true
  },
  "environment": {
   "kernel": "python3",
   "name": "common-cpu.m121",
   "type": "gcloud",
   "uri": "us-docker.pkg.dev/deeplearning-platform-release/gcr.io/base-cpu:m121"
  },
  "kernelspec": {
   "display_name": "Python 3 (Local)",
   "language": "python",
   "name": "python3"
  },
  "language_info": {
   "codemirror_mode": {
    "name": "ipython",
    "version": 3
   },
   "file_extension": ".py",
   "mimetype": "text/x-python",
   "name": "python",
   "nbconvert_exporter": "python",
   "pygments_lexer": "ipython3",
   "version": "3.10.14"
  }
 },
 "nbformat": 4,
 "nbformat_minor": 4
}
