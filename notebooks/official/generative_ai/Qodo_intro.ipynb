{
 "cells": [
  {
   "cell_type": "code",
   "execution_count": null,
   "metadata": {
    "cellView": "form",
    "id": "9A9NkTRTfo2I"
   },
   "outputs": [],
   "source": [
    "# Copyright 2024 Google LLC\n",
    "#\n",
    "# Licensed under the Apache License, Version 2.0 (the \"License\");\n",
    "# you may not use this file except in compliance with the License.\n",
    "# You may obtain a copy of the License at\n",
    "#\n",
    "#     https://www.apache.org/licenses/LICENSE-2.0\n",
    "#\n",
    "# Unless required by applicable law or agreed to in writing, software\n",
    "# distributed under the License is distributed on an \"AS IS\" BASIS,\n",
    "# WITHOUT WARRANTIES OR CONDITIONS OF ANY KIND, either express or implied.\n",
    "# See the License for the specific language governing permissions and\n",
    "# limitations under the License."
   ]
  },
  {
   "cell_type": "markdown",
   "metadata": {},
   "source": [
    "# Getting Started with qodo Models\n",
    "\n",
    "{TODO: Update the links below}\n",
    "\n",
    "<table align=\"left\">\n",
    "  <td style=\"text-align: center\">\n",
    "    <a href=\"https://colab.research.google.com/github/GoogleCloudPlatform/vertex-ai-samples/blob/main/notebooks/official/generative_ai/Qodo_intro.ipynb\">\n",
    "      <img src=\"https://cloud.google.com/ml-engine/images/colab-logo-32px.png\" alt=\"Google Colaboratory logo\"><br> Open in Colab\n",
    "    </a>\n",
    "  </td>\n",
    "  <td style=\"text-align: center\">\n",
    "    <a href=\"https://console.cloud.google.com/vertex-ai/colab/import/https:%2F%2Fraw.githubusercontent.com%2FGoogleCloudPlatform%2Fvertex-ai-samples%2Fmain%2Fnotebooks%2Fnotebook_template.ipynb\">\n",
    "      <img width=\"32px\" src=\"https://cloud.google.com/ml-engine/images/colab-enterprise-logo-32px.png\" alt=\"Google Cloud Colab Enterprise logo\"><br> Open in Colab Enterprise\n",
    "    </a>\n",
    "  </td>    \n",
    "  <td style=\"text-align: center\">\n",
    "    <a href=\"https://console.cloud.google.com/vertex-ai/workbench/deploy-notebook?download_url=https://raw.githubusercontent.com/GoogleCloudPlatform/vertex-ai-samples/main/notebooks/official/generative_ai/Qodo_intro.ipynb\">\n",
    "      <img src=\"https://lh3.googleusercontent.com/UiNooY4LUgW_oTvpsNhPpQzsstV5W8F7rYgxgGBD85cWJoLmrOzhVs_ksK_vgx40SHs7jCqkTkCk=e14-rj-sc0xffffff-h130-w32\" alt=\"Vertex AI logo\"><br> Open in Workbench\n",
    "    </a>\n",
    "  </td>\n",
    "  <td style=\"text-align: center\">\n",
    "    <a href=\"https://github.com/GoogleCloudPlatform/vertex-ai-samples/blob/main/notebooks/official/generative_ai/Qodo_intro.ipynb\">\n",
    "      <img src=\"https://cloud.google.com/ml-engine/images/github-logo-32px.png\" alt=\"GitHub logo\"><br> View on GitHub\n",
    "    </a>\n",
    "  </td>\n",
    "</table>"
   ]
  },
  {
   "cell_type": "markdown",
   "metadata": {
    "id": "8fK_rdvvx1iZ"
   },
   "source": [
    "## Overview\n",
    "\n",
    "This notebook demonstrates how to deploy and use Qodo's state-of-the-art code embedding models on Google Cloud's Vertex AI platform. You'll learn how to set up, deploy, and make predictions with these specialized embedding models that enhance code retrieval and search capabilities.\n",
    "In this notebook, you will:\n",
    "\n",
    "Set up your Google Cloud environment and initialize the Vertex AI SDK\n",
    "Upload a Qodo model to your Vertex AI Model Registry\n",
    "Create a Vertex AI endpoint for model deployment\n",
    "Deploy the Qodo model to your endpoint with appropriate compute resources\n",
    "Make predictions using the deployed model.\n",
    "\n",
    "### `Qodo` on Vertex AI\n",
    "\n",
    "You can deploy the `Qodo` models in your own endpoint.\n",
    "\n",
    "\n",
    "\n",
    "### Available `Qodo` models\n",
    "\n",
    "#### `Qodo-Embed-1-7B`\n",
    "Qodo-Embed-1-7B is a state-of-the-art code embedding model for efficient code & text retrieval, enhancing the search accuracy of RAG methods.\n",
    "\n",
    "\n",
    "\n",
    "## Objective\n",
    "\n",
    "This notebook shows how to use **Vertex AI API** to deploy the `qodo` models.\n",
    "\n",
    "For more information, see the [qodo website](https://www.qodo.ai/blog/qodo-embed-1-code-embedding-code-retreival/).\n"
   ]
  },
  {
   "cell_type": "markdown",
   "metadata": {
    "id": "nwYvaaW25jYS"
   },
   "source": [
    "## Get Started\n"
   ]
  },
  {
   "cell_type": "markdown",
   "metadata": {},
   "source": [
    "### Install Vertex AI SDK for Python or other required packages\n"
   ]
  },
  {
   "cell_type": "code",
   "execution_count": null,
   "metadata": {},
   "outputs": [],
   "source": [
    "! pip3 install --upgrade --quiet google-cloud-aiplatform"
   ]
  },
  {
   "cell_type": "code",
   "execution_count": null,
   "metadata": {},
   "outputs": [],
   "source": [
    "! pip3 install -U -q httpx"
   ]
  },
  {
   "cell_type": "markdown",
   "metadata": {
    "id": "b9f4c57a43f6"
   },
   "source": [
    "### Restart runtime (Colab only)\n",
    "\n",
    "To use the newly installed packages, you must restart the runtime on Google Colab."
   ]
  },
  {
   "cell_type": "code",
   "execution_count": null,
   "metadata": {
    "id": "3b9119a60525"
   },
   "outputs": [],
   "source": [
    "import sys\n",
    "\n",
    "if \"google.colab\" in sys.modules:\n",
    "\n",
    "    import IPython\n",
    "\n",
    "    app = IPython.Application.instance()\n",
    "    app.kernel.do_shutdown(True)"
   ]
  },
  {
   "cell_type": "markdown",
   "metadata": {
    "id": "6a5bea26f60f"
   },
   "source": [
    "### Authenticate your notebook environment (Colab only)\n",
    "\n",
    "Authenticate your environment on Google Colab.\n"
   ]
  },
  {
   "cell_type": "code",
   "execution_count": null,
   "metadata": {
    "id": "c97be6a73155"
   },
   "outputs": [],
   "source": [
    "import sys\n",
    "\n",
    "if \"google.colab\" in sys.modules:\n",
    "\n",
    "    from google.colab import auth\n",
    "\n",
    "    auth.authenticate_user()"
   ]
  },
  {
   "cell_type": "code",
   "execution_count": null,
   "metadata": {
    "id": "Y8X70FTSbx7U"
   },
   "outputs": [],
   "source": [
    "PUBLISHER_NAME = \"qodo\"  # @param {type:\"string\"}\n",
    "PUBLISHER_MODEL_NAME = \"Qodo-Embed-1-7B\"  # @param [\"publisher-model-name-1\", \"publisher-model-name-2\", \"test-marketplace-publisher-model-e2e-01\"]\n",
    "\n",
    "available_regions = [\"us-central1\", \"europe-west4\"]\n"
   ]
  },
  {
   "cell_type": "markdown",
   "metadata": {
    "id": "bpuX3sKtexlK"
   },
   "source": [
    "### Select a location and a version from the dropdown"
   ]
  },
  {
   "cell_type": "code",
   "execution_count": null,
   "metadata": {
    "id": "dHl8xW45ex_O"
   },
   "outputs": [],
   "source": [
    "import ipywidgets as widgets\n",
    "from IPython.display import display\n",
    "\n",
    "dropdown_loc = widgets.Dropdown(\n",
    "    options=available_regions,\n",
    "    description=\"Select a location:\",\n",
    "    font_weight=\"bold\",\n",
    "    style={\"description_width\": \"initial\"},\n",
    ")\n",
    "\n",
    "\n",
    "def dropdown_loc_eventhandler(change):\n",
    "    global LOCATION\n",
    "    if change[\"type\"] == \"change\" and change[\"name\"] == \"value\":\n",
    "        LOCATION = change.new\n",
    "        print(\"Selected:\", change.new)\n",
    "\n",
    "LOCATION = dropdown_loc.value\n",
    "dropdown_loc.observe(dropdown_loc_eventhandler, names=\"value\")\n",
    "display(dropdown_loc)"
   ]
  },
  {
   "cell_type": "markdown",
   "metadata": {},
   "source": [
    "### Set Google Cloud project information and initialize Vertex AI SDK for Python\n",
    "\n",
    "To get started using Vertex AI, you must have an existing Google Cloud project and [enable the Vertex AI API](https://console.cloud.google.com/flows/enableapi?apiid=aiplatform.googleapis.com). Learn more about [setting up a project and a development environment](https://cloud.google.com/vertex-ai/docs/start/cloud-environment)."
   ]
  },
  {
   "cell_type": "code",
   "execution_count": null,
   "metadata": {},
   "outputs": [],
   "source": [
    "PROJECT_ID = \"[your-project-id]\"  # @param {type:\"string\"}\n",
    "ENDPOINT = f\"https://{LOCATION}-aiplatform.googleapis.com\"\n",
    "\n",
    "if not PROJECT_ID or PROJECT_ID == \"[your-project-id]\":\n",
    "    raise ValueError(\"Please set your PROJECT_ID\")"
   ]
  },
  {
   "cell_type": "markdown",
   "metadata": {
    "id": "4NAstKRFBt4N"
   },
   "source": [
    "### Import required libraries"
   ]
  },
  {
   "cell_type": "code",
   "execution_count": null,
   "metadata": {
    "id": "QZEFLE6a6bqy"
   },
   "outputs": [],
   "source": [
    "import base64\n",
    "import json\n",
    "import time\n",
    "\n",
    "import httpx\n",
    "import requests"
   ]
  },
  {
   "cell_type": "markdown",
   "metadata": {},
   "source": [
    "## Using Vertex AI API"
   ]
  },
  {
   "cell_type": "markdown",
   "metadata": {
    "id": "qjsDpa8jlTRu"
   },
   "source": [
    "### Upload Model"
   ]
  },
  {
   "cell_type": "code",
   "execution_count": null,
   "metadata": {
    "id": "y1R2BRsBlu-k"
   },
   "outputs": [],
   "source": [
    "UPLOAD_MODEL_PAYLOAD = {\n",
    "  \"model\": {\n",
    "    \"displayName\": \"ModelGarden_LaunchPad_Model_\" + time.strftime(\"%Y%m%d-%H%M%S\"),\n",
    "    \"baseModelSource\": {\n",
    "        \"modelGardenSource\": {\n",
    "          \"publicModelName\": f\"publishers/{PUBLISHER_NAME}/models/{PUBLISHER_MODEL_NAME}\",\n",
    "        }\n",
    "    }\n",
    "  }\n",
    "}\n",
    "\n",
    "request = json.dumps(UPLOAD_MODEL_PAYLOAD)\n",
    "\n",
    "! curl -X POST -H \"Authorization: Bearer $(gcloud auth print-access-token)\" -H \"Content-Type: application/json\" {ENDPOINT}/v1beta1/projects/{PROJECT_ID}/locations/{LOCATION}/models:upload -d '{request}'"
   ]
  },
  {
   "cell_type": "markdown",
   "metadata": {
    "id": "V2j0nVGwlf9b"
   },
   "source": [
    "### Get Model"
   ]
  },
  {
   "cell_type": "code",
   "execution_count": null,
   "metadata": {
    "id": "bxwM0GXTmQhh"
   },
   "outputs": [],
   "source": [
    "MODEL_ID = 123456789\t\t  # @param {type: \"number\"}\n",
    "\n",
    "! curl -X GET -H \"Authorization: Bearer $(gcloud auth print-access-token)\" -H \"Content-Type: application/json\" {ENDPOINT}/v1/projects/{PROJECT_ID}/locations/{LOCATION}/models/{MODEL_ID}"
   ]
  },
  {
   "cell_type": "markdown",
   "metadata": {
    "id": "3q3ygq8VlZAp"
   },
   "source": [
    "### Create Endpoint"
   ]
  },
  {
   "cell_type": "code",
   "execution_count": null,
   "metadata": {
    "id": "O1ChDOt7mPBQ"
   },
   "outputs": [],
   "source": [
    "CREATE_ENDPOINT_PAYLOAD = {\n",
    "  \"displayName\": \"ModelGarden_LaunchPad_Endpoint_\" + time.strftime(\"%Y%m%d-%H%M%S\"),\n",
    "}\n",
    "\n",
    "request = json.dumps(CREATE_ENDPOINT_PAYLOAD)\n",
    "\n",
    "! curl -X POST -H \"Authorization: Bearer $(gcloud auth print-access-token)\" -H \"Content-Type: application/json\" {ENDPOINT}/v1/projects/{PROJECT_ID}/locations/{LOCATION}/endpoints -d '{request}'"
   ]
  },
  {
   "cell_type": "markdown",
   "metadata": {
    "id": "GuMZCdhmlpCE"
   },
   "source": [
    "### Get Endpoint"
   ]
  },
  {
   "cell_type": "code",
   "execution_count": null,
   "metadata": {
    "id": "tHq_cLT6mPp_"
   },
   "outputs": [],
   "source": [
    "ENDPOINT_ID = 123456789 # @param {type: \"number\"}\n",
    "\n",
    "! curl -X GET -H \"Authorization: Bearer $(gcloud auth print-access-token)\" -H \"Content-Type: application/json\" {ENDPOINT}/v1/projects/{PROJECT_ID}/locations/{LOCATION}/endpoints/{ENDPOINT_ID}"
   ]
  },
  {
   "cell_type": "markdown",
   "metadata": {
    "id": "G0amEPXolbP7"
   },
   "source": [
    "### Deploy Model"
   ]
  },
  {
   "cell_type": "code",
   "execution_count": null,
   "metadata": {
    "id": "Ucj-Xa-fpGrg"
   },
   "outputs": [],
   "source": [
    "MACHINE_TYPE = \"a2-highgpu-1g\"  # @param {type: \"string\"}\n",
    "ACCELERATOR_TYPE = \"NVIDIA_Tesla_A100\" # @param {type: \"string\"}\n",
    "ACCELERATOR_COUNT = 1 # @param {type: \"number\"}\n"
   ]
  },
  {
   "cell_type": "code",
   "execution_count": null,
   "metadata": {
    "id": "VGTyCQQhlrAR"
   },
   "outputs": [],
   "source": [
    "DEPLOY_PAYLOAD = {\n",
    "  \"deployedModel\": {\n",
    "    \"model\": f\"projects/{PROJECT_ID}/locations/{LOCATION}/models/{MODEL_ID}\",\n",
    "    \"displayName\": \"ModelGarden_LaunchPad_DeployedModel_\" + time.strftime(\"%Y%m%d-%H%M%S\"),\n",
    "    \"dedicatedResources\": {\n",
    "     \"machineSpec\": {\n",
    "        \"machineType\": MACHINE_TYPE,\n",
    "        \"acceleratorType\": ACCELERATOR_TYPE,\n",
    "        \"acceleratorCount\": ACCELERATOR_COUNT,\n",
    "     },\n",
    "     \"minReplicaCount\": 1,\n",
    "     \"maxReplicaCount\": 1\n",
    "    },\n",
    "  },\n",
    "  \"trafficSplit\": {\n",
    "    \"0\": 100\n",
    "  }\n",
    "}\n",
    "\n",
    "request = json.dumps(DEPLOY_PAYLOAD)\n",
    "print(\"Request payload to Deploy Model:\")\n",
    "print(json.dumps(DEPLOY_PAYLOAD, indent=2))\n",
    "print(\"\\nResult:\")\n",
    "! curl -X POST -H \"Authorization: Bearer $(gcloud auth print-access-token)\" -H \"Content-Type: application/json\" {ENDPOINT}/v1/projects/{PROJECT_ID}/locations/{LOCATION}/endpoints/{ENDPOINT_ID}:deployModel -d '{request}'"
   ]
  },
  {
   "cell_type": "markdown",
   "metadata": {
    "id": "5ahw-uFjCAbo"
   },
   "source": [
    "### Prediction"
   ]
  },
  {
   "cell_type": "markdown",
   "metadata": {
    "id": "61107099357a"
   },
   "source": [
    "#### Unary call\n",
    "\n",
    "Sends a POST request to the specified API endpoint to get a response from the model for a joke using the provided payload."
   ]
  },
  {
   "cell_type": "code",
   "execution_count": null,
   "metadata": {
    "id": "4zFz260B50oi"
   },
   "outputs": [],
   "source": [
    "PAYLOAD = {\n",
    "   \"instances\":[\n",
    "      {\n",
    "         \"inputs\":[\n",
    "            \"def hello_world(): \\n  print('hello_world')\"\n",
    "         ]\n",
    "      }\n",
    "   ]\n",
    "}\n",
    "\n",
    "\n",
    "request = json.dumps(PAYLOAD)\n",
    "\n",
    "!curl -X POST \\\n",
    "  -H \"Authorization: Bearer $(gcloud auth print-access-token)\" \\\n",
    "  -H \"Content-Type: application/json\" {ENDPOINT}/v1/projects/{PROJECT_ID}/locations/{LOCATION}/endpoints/{ENDPOINT_ID}:rawPredict \\\n",
    "  -d '{request}'"
   ]
  },
  {
   "cell_type": "markdown",
   "metadata": {},
   "source": [
    "## Using Vertex AI SDK for *Python*"
   ]
  },
  {
   "cell_type": "code",
   "execution_count": null,
   "metadata": {},
   "outputs": [],
   "source": [
    "from google.cloud import aiplatform"
   ]
  },
  {
   "cell_type": "code",
   "execution_count": null,
   "metadata": {},
   "outputs": [],
   "source": [
    "aiplatform.init(project=PROJECT_ID, location=LOCATION)"
   ]
  },
  {
   "cell_type": "markdown",
   "metadata": {},
   "source": [
    "### Upload Model"
   ]
  },
  {
   "cell_type": "code",
   "execution_count": null,
   "metadata": {},
   "outputs": [],
   "source": [
    "model = aiplatform.Model.upload(\n",
    "    display_name=\"ModelGarden_LaunchPad_Endpoint_\" + time.strftime(\"%Y%m%d-%H%M%S\"),\n",
    "    model_garden_source_model_name = f\"publishers/{PUBLISHER_NAME}/models/{PUBLISHER_MODEL_NAME}\",\n",
    ")"
   ]
  },
  {
   "cell_type": "markdown",
   "metadata": {},
   "source": [
    "### Create Endpoint"
   ]
  },
  {
   "cell_type": "code",
   "execution_count": null,
   "metadata": {},
   "outputs": [],
   "source": [
    "my_endpoint = aiplatform.Endpoint.create(display_name=\"ModelGarden_LaunchPad_Endpoint_\" + time.strftime(\"%Y%m%d-%H%M%S\"))"
   ]
  },
  {
   "cell_type": "markdown",
   "metadata": {},
   "source": [
    "### Deploy Model"
   ]
  },
  {
   "cell_type": "code",
   "execution_count": null,
   "metadata": {},
   "outputs": [],
   "source": [
    "MACHINE_TYPE = \"a2-highgpu-1g\"  # @param {type: \"string\"}\n",
    "ACCELERATOR_TYPE = \"NVIDIA_Tesla_A100\" # @param {type: \"string\"}\n",
    "ACCELERATOR_COUNT = 1 # @param {type: \"number\"}"
   ]
  },
  {
   "cell_type": "code",
   "execution_count": null,
   "metadata": {},
   "outputs": [],
   "source": [
    "model.deploy(\n",
    "    endpoint=my_endpoint,\n",
    "    deployed_model_display_name=\"ModelGarden_LaunchPad_DeployedModel_\" + time.strftime(\"%Y%m%d-%H%M%S\"),\n",
    "    traffic_split={\"0\": 100},\n",
    "    machine_type=MACHINE_TYPE,\n",
    "    accelerator_type=ACCELERATOR_TYPE,\n",
    "    accelerator_count=ACCELERATOR_COUNT,\n",
    "    min_replica_count=1,\n",
    "    max_replica_count=1,\n",
    ")"
   ]
  },
  {
   "cell_type": "markdown",
   "metadata": {},
   "source": [
    "### Prediction"
   ]
  },
  {
   "cell_type": "markdown",
   "metadata": {},
   "source": [
    "#### Unary call"
   ]
  },
  {
   "cell_type": "code",
   "execution_count": null,
   "metadata": {},
   "outputs": [],
   "source": [
    "PAYLOAD = {\n",
    "   \"instances\":[\n",
    "      {\n",
    "         \"inputs\":[\n",
    "            \"def hello_world(): \\n  print('hello_world')\"\n",
    "         ]\n",
    "      }\n",
    "   ]\n",
    "}\n",
    "\n",
    "\n",
    "request = json.dumps(PAYLOAD)\n",
    "\n",
    "response = my_endpoint.raw_predict(\n",
    "    body = request,\n",
    "    headers = {'Content-Type':'application/json'}\n",
    ")\n",
    "embedding = response['predictions'][0]['data'][0]['embedding']\n",
    "print(embedding)"
   ]
  }
 ],
 "metadata": {
  "colab": {
   "provenance": [],
   "toc_visible": true
  },
  "kernelspec": {
   "display_name": "Python 3",
   "name": "python3"
  }
 },
 "nbformat": 4,
 "nbformat_minor": 0
}
