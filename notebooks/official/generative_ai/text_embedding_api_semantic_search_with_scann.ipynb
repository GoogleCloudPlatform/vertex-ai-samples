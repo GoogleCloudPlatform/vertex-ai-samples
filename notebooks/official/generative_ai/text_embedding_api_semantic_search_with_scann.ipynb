{
  "cells": [
    {
      "cell_type": "code",
      "execution_count": 1,
      "metadata": {
        "id": "KSP1duKDeaDR"
      },
      "outputs": [],
      "source": [
        "# Copyright 2023 Google LLC\n",
        "#\n",
        "# Licensed under the Apache License, Version 2.0 (the \"License\");\n",
        "# you may not use this file except in compliance with the License.\n",
        "# You may obtain a copy of the License at\n",
        "#\n",
        "#     https://www.apache.org/licenses/LICENSE-2.0\n",
        "#\n",
        "# Unless required by applicable law or agreed to in writing, software\n",
        "# distributed under the License is distributed on an \"AS IS\" BASIS,\n",
        "# WITHOUT WARRANTIES OR CONDITIONS OF ANY KIND, either express or implied.\n",
        "# See the License for the specific language governing permissions and\n",
        "# limitations under the License."
      ]
    },
    {
      "cell_type": "markdown",
      "metadata": {
        "id": "JAPoU8Sm5E6e"
      },
      "source": [
        "# Semantic Search using Embeddings\n",
        "\n",
        "\n",
        "<table align=\"left\">\n",
        "\n",
        "  <td>\n",
        "    <a href=\"https://colab.research.google.com/github/GoogleCloudPlatform/vertex-ai-samples/blob/main/notebooks/text_embedding_api_semantic_search_with_scann.ipynb\">\n",
        "      <img src=\"https://cloud.google.com/ml-engine/images/colab-logo-32px.png\" alt=\"Colab logo\"> Run in Colab\n",
        "    </a>\n",
        "  </td>\n",
        "  <td>\n",
        "    <a href=\"https://github.com/GoogleCloudPlatform/vertex-ai-samples/blob/main/notebooks/text_embedding_api_semantic_search_with_scann.ipynb\">\n",
        "      <img src=\"https://cloud.google.com/ml-engine/images/github-logo-32px.png\" alt=\"GitHub logo\">\n",
        "      View on GitHub\n",
        "    </a>\n",
        "  </td>\n",
        "  <td>\n",
        "    <a href=\"https://console.cloud.google.com/vertex-ai/workbench/deploy-notebook?download_url=https://raw.githubusercontent.com/GoogleCloudPlatform/vertex-ai-samples/main/notebooks/text_embedding_api_semantic_search_with_scann.ipynb\">\n",
        "      <img src=\"https://lh3.googleusercontent.com/UiNooY4LUgW_oTvpsNhPpQzsstV5W8F7rYgxgGBD85cWJoLmrOzhVs_ksK_vgx40SHs7jCqkTkCk=e14-rj-sc0xffffff-h130-w32\" alt=\"Vertex AI logo\">\n",
        "      Open in Vertex AI Workbench\n",
        "    </a>\n",
        "  </td>                                                                                               \n",
        "</table>"
      ]
    },
    {
      "cell_type": "markdown",
      "metadata": {
        "id": "24743cf4a1e1"
      },
      "source": [
        "**_NOTE_**: This notebook has been tested in the following environment:\n",
        "\n",
        "* Python version = 3.9"
      ]
    },
    {
      "cell_type": "markdown",
      "metadata": {
        "id": "tvgnzT1CKxrO"
      },
      "source": [
        "## Overview\n",
        "\n",
        "Semantic search is a type of search that uses the meaning of words, phrases, and context to find the most relevant results. Semantic searches rely on vector embeddings which can best match the user query to the most similar result.\n",
        "\n",
        "An embedding in this scenario is a vector which represents words. The closer the items are in a vector space, the more similar they are. So when you query an embedding, items that are the closest match to your input (from your training input) are returned.\n",
        "\n",
        "Learn more about [text embedding](https://cloud.google.com/vertex-ai/docs/generative-ai/embeddings/get-text-embeddings)."
      ]
    },
    {
      "cell_type": "markdown",
      "metadata": {
        "id": "d975e698c9a4"
      },
      "source": [
        "### Objective\n",
        "\n",
        "In this tutorial, we demonstrate how to create an embedding generated from text and perform a semantic search. The embeddings are generated using [Google ScaNN: Efficient Vector Similarity Search](https://ai.googleblog.com/2020/07/announcing-scann-efficient-vector.html).\n",
        "\n",
        "This tutorial uses the following Google Cloud ML services and resources:\n",
        "- Vertex LLM SDK\n",
        "- ScaNN [github](https://github.com/google-research/google-research/tree/master/scann)\n",
        "\n",
        "The steps performed include:\n",
        "- Installation and imports\n",
        "- Create embedding dataset\n",
        "- Create an index\n",
        "- Query the index\n"
      ]
    },
    {
      "cell_type": "markdown",
      "metadata": {
        "id": "08d289fa873f"
      },
      "source": [
        "### Dataset\n",
        "\n",
        "In this tutorial, you will use the sample dataset called \"wide_and_deep_trainer_container_tests_input.jsonl\" developed by Google Brain.\n",
        "\n",
        "You will import the file from Google Cloud Samples Data Bucket in the next few steps.\n",
        "\n",
        "Here is the link to file:"
      ]
    },
    {
      "cell_type": "code",
      "execution_count": 2,
      "metadata": {
        "id": "C1ZEiJcophY0"
      },
      "outputs": [],
      "source": [
        "DATASET_URI = \"gs://cloud-samples-data/vertex-ai/dataset-management/datasets/bert_finetuning/wide_and_deep_trainer_container_tests_input.jsonl\"  # @param {type:\"string\"}"
      ]
    },
    {
      "cell_type": "markdown",
      "metadata": {
        "id": "aed92deeb4a0"
      },
      "source": [
        "### Costs\n",
        "\n",
        "This tutorial uses billable components of Google Cloud:\n",
        "\n",
        "* Vertex AI\n",
        "* Cloud Storage\n",
        "\n",
        "Learn about [Vertex AI pricing](https://cloud.google.com/vertex-ai/pricing),\n",
        "and [Cloud Storage pricing](https://cloud.google.com/storage/pricing),\n",
        "and use the [Pricing Calculator](https://cloud.google.com/products/calculator/)\n",
        "to generate a cost estimate based on your projected usage."
      ]
    },
    {
      "cell_type": "markdown",
      "metadata": {
        "id": "BF1j6f9HApxa"
      },
      "source": [
        "## Before you begin\n",
        "\n",
        "### Set up your Google Cloud project\n",
        "\n",
        "**The following steps are required, regardless of your notebook environment.**\n",
        "\n",
        "1. [Select or create a Google Cloud project](https://console.cloud.google.com/cloud-resource-manager). When you first create an account, you get a $300 free credit towards your compute/storage costs.\n",
        "\n",
        "2. [Make sure that billing is enabled for your project](https://cloud.google.com/billing/docs/how-to/modify-project).\n",
        "\n",
        "3. [Enable the Vertex AI API](https://console.cloud.google.com/flows/enableapi?apiid=aiplatform.googleapis.com).\n",
        "\n",
        "4. If you are running this notebook locally, you need to install the [Cloud SDK](https://cloud.google.com/sdk)."
      ]
    },
    {
      "cell_type": "markdown",
      "metadata": {
        "id": "WReHDGG5g0XY"
      },
      "source": [
        "#### Set your project ID\n",
        "\n",
        "**If you don't know your project ID**, try the following:\n",
        "* Run `gcloud config list`.\n",
        "* Run `gcloud projects list`.\n",
        "* See the support page: [Locate the project ID](https://support.google.com/googleapi/answer/7014113)"
      ]
    },
    {
      "cell_type": "code",
      "execution_count": 3,
      "metadata": {
        "id": "oM1iC_MfAts1"
      },
      "outputs": [
        {
          "name": "stdout",
          "output_type": "stream",
          "text": [
            "Updated property [core/project].\n"
          ]
        }
      ],
      "source": [
        "PROJECT_ID = \"[your-project-id]\"  # @param {type:\"string\"}\n",
        "\n",
        "# Set the project id\n",
        "! gcloud config set project {PROJECT_ID}"
      ]
    },
    {
      "cell_type": "markdown",
      "metadata": {
        "id": "region"
      },
      "source": [
        "#### Region\n",
        "\n",
        "You can also change the `REGION` variable used by Vertex AI. Learn more about [Vertex AI regions](https://cloud.google.com/vertex-ai/docs/general/locations)."
      ]
    },
    {
      "cell_type": "code",
      "execution_count": 4,
      "metadata": {
        "id": "RfLtjhGNmKvA"
      },
      "outputs": [],
      "source": [
        "REGION = \"us-central1\"  # @param {type: \"string\"}"
      ]
    },
    {
      "cell_type": "markdown",
      "metadata": {
        "id": "sBCra4QMA2wR"
      },
      "source": [
        "### Authenticate your Google Cloud account\n",
        "\n",
        "Depending on your Jupyter environment, you may have to manually authenticate. Follow the relevant instructions below."
      ]
    },
    {
      "cell_type": "markdown",
      "metadata": {
        "id": "74ccc9e52986"
      },
      "source": [
        "**1. Vertex AI Workbench**\n",
        "* Do nothing as you are already authenticated."
      ]
    },
    {
      "cell_type": "markdown",
      "metadata": {
        "id": "de775a3773ba"
      },
      "source": [
        "**2. Local JupyterLab instance, uncomment and run:**"
      ]
    },
    {
      "cell_type": "code",
      "execution_count": 5,
      "metadata": {
        "id": "254614fa0c46"
      },
      "outputs": [],
      "source": [
        "# ! gcloud auth login"
      ]
    },
    {
      "cell_type": "markdown",
      "metadata": {
        "id": "ef21552ccea8"
      },
      "source": [
        "**3. Colab, uncomment and run:**"
      ]
    },
    {
      "cell_type": "code",
      "execution_count": 6,
      "metadata": {
        "id": "603adbbf0532"
      },
      "outputs": [],
      "source": [
        "# from google.colab import auth\n",
        "# auth.authenticate_user()"
      ]
    },
    {
      "cell_type": "markdown",
      "metadata": {
        "id": "f6b2ccc891ed"
      },
      "source": [
        "**4. Service account or other**\n",
        "* See how to grant Cloud Storage permissions to your service account at https://cloud.google.com/storage/docs/gsutil/commands/iam#ch-examples."
      ]
    },
    {
      "cell_type": "markdown",
      "metadata": {
        "id": "FyyMdUeAJIVv"
      },
      "source": [
        "## Installation\n",
        "\n",
        "Install the following packages required to execute this notebook.\n",
        "\n",
        "Remember to restart the runtime after installation."
      ]
    },
    {
      "cell_type": "code",
      "execution_count": 7,
      "metadata": {
        "id": "snBUuUamoJPz"
      },
      "outputs": [],
      "source": [
        "!pip3 install google-cloud-aiplatform>=1.25 \"shapely<2.0.0\" --quiet\n",
        "!pip install scann --quiet"
      ]
    },
    {
      "cell_type": "markdown",
      "metadata": {
        "id": "dae340cb-0583-4e7e-a562-6817ee4d7f6d"
      },
      "source": [
        "### Imports libraries"
      ]
    },
    {
      "cell_type": "code",
      "execution_count": 8,
      "metadata": {
        "id": "412d00f1-08db-4880-8ced-52a9583757b8"
      },
      "outputs": [],
      "source": [
        "import json\n",
        "import time\n",
        "\n",
        "import numpy as np\n",
        "import pandas as pd\n",
        "import scann\n",
        "import vertexai\n",
        "from vertexai.preview.language_models import TextEmbeddingModel"
      ]
    },
    {
      "cell_type": "code",
      "execution_count": 9,
      "metadata": {
        "id": "zgVQcE0ewO8W"
      },
      "outputs": [],
      "source": [
        "# Initiate Vertex AI\n",
        "vertexai.init(project=PROJECT_ID, location=REGION)"
      ]
    },
    {
      "cell_type": "code",
      "execution_count": 10,
      "metadata": {
        "id": "1e6e1b98-a632-44a2-afb8-fc212018ef4f"
      },
      "outputs": [],
      "source": [
        "model = TextEmbeddingModel.from_pretrained(\"google/textembedding-gecko@001\")"
      ]
    },
    {
      "cell_type": "markdown",
      "metadata": {
        "id": "f50f22f3-ec85-463e-b6fe-5c8e6b80b07b"
      },
      "source": [
        "## Create embedding dataset\n",
        "\n",
        "The dataset demonstrates the use of the Text Embedding API with a vector database. It is not intended to be used for any other purpose, such as evaluating models. The dataset is small and does not represent a comprehensive sample of all possible text."
      ]
    },
    {
      "cell_type": "code",
      "execution_count": 11,
      "metadata": {
        "id": "2OUg-Qf8iFta"
      },
      "outputs": [
        {
          "name": "stdout",
          "output_type": "stream",
          "text": [
            "Copying gs://cloud-samples-data/vertex-ai/dataset-management/datasets/bert_finetuning/wide_and_deep_trainer_container_tests_input.jsonl...\n",
            "/ [1 files][ 14.1 KiB/ 14.1 KiB]                                                \n",
            "Operation completed over 1 objects/14.1 KiB.                                     \n"
          ]
        }
      ],
      "source": [
        "!gsutil cp gs://cloud-samples-data/vertex-ai/dataset-management/datasets/bert_finetuning/wide_and_deep_trainer_container_tests_input.jsonl ."
      ]
    },
    {
      "cell_type": "code",
      "execution_count": 12,
      "metadata": {
        "id": "BNPapKXviHlE"
      },
      "outputs": [],
      "source": [
        "# reads a JSON file and stores the records in a list\n",
        "records = []\n",
        "with open(\"wide_and_deep_trainer_container_tests_input.jsonl\") as f:\n",
        "    for line in f:\n",
        "        record = json.loads(line)\n",
        "        records.append(record)"
      ]
    },
    {
      "cell_type": "code",
      "execution_count": 13,
      "metadata": {
        "id": "Z1Y9Bx2miJba"
      },
      "outputs": [
        {
          "data": {
            "text/html": [
              "\n",
              "\n",
              "  <div id=\"df-cb0ca7a6-703c-4d60-8434-61e1187029c6\">\n",
              "    <div class=\"colab-df-container\">\n",
              "      <div>\n",
              "<style scoped>\n",
              "    .dataframe tbody tr th:only-of-type {\n",
              "        vertical-align: middle;\n",
              "    }\n",
              "\n",
              "    .dataframe tbody tr th {\n",
              "        vertical-align: top;\n",
              "    }\n",
              "\n",
              "    .dataframe thead th {\n",
              "        text-align: right;\n",
              "    }\n",
              "</style>\n",
              "<table border=\"1\" class=\"dataframe\">\n",
              "  <thead>\n",
              "    <tr style=\"text-align: right;\">\n",
              "      <th></th>\n",
              "      <th>textContent</th>\n",
              "      <th>classificationAnnotation</th>\n",
              "      <th>dataItemResourceLabels</th>\n",
              "    </tr>\n",
              "  </thead>\n",
              "  <tbody>\n",
              "    <tr>\n",
              "      <th>0</th>\n",
              "      <td>Cats are good pets, for they are clean and are...</td>\n",
              "      <td>{'displayName': 'FirstClass', 'annotationResou...</td>\n",
              "      <td>{'aiplatform.googleapis.com/ml_use': 'training'}</td>\n",
              "    </tr>\n",
              "    <tr>\n",
              "      <th>1</th>\n",
              "      <td>More RVs were seen in the storage lot than at ...</td>\n",
              "      <td>{'displayName': 'SecondClass', 'annotationReso...</td>\n",
              "      <td>{'aiplatform.googleapis.com/ml_use': 'training'}</td>\n",
              "    </tr>\n",
              "    <tr>\n",
              "      <th>2</th>\n",
              "      <td>When he asked her favorite number, she answere...</td>\n",
              "      <td>{'displayName': 'FirstClass', 'annotationResou...</td>\n",
              "      <td>{'aiplatform.googleapis.com/ml_use': 'training'}</td>\n",
              "    </tr>\n",
              "    <tr>\n",
              "      <th>3</th>\n",
              "      <td>Greetings from the real universe.</td>\n",
              "      <td>{'displayName': 'SecondClass', 'annotationReso...</td>\n",
              "      <td>{'aiplatform.googleapis.com/ml_use': 'training'}</td>\n",
              "    </tr>\n",
              "    <tr>\n",
              "      <th>4</th>\n",
              "      <td>As he entered the church he could hear the sof...</td>\n",
              "      <td>{'displayName': 'FirstClass', 'annotationResou...</td>\n",
              "      <td>{'aiplatform.googleapis.com/ml_use': 'training'}</td>\n",
              "    </tr>\n",
              "    <tr>\n",
              "      <th>5</th>\n",
              "      <td>They got there early, and they got really good...</td>\n",
              "      <td>{'displayName': 'SecondClass', 'annotationReso...</td>\n",
              "      <td>{'aiplatform.googleapis.com/ml_use': 'training'}</td>\n",
              "    </tr>\n",
              "    <tr>\n",
              "      <th>6</th>\n",
              "      <td>Pink horses galloped across the sea.</td>\n",
              "      <td>{'displayName': 'FirstClass', 'annotationResou...</td>\n",
              "      <td>{'aiplatform.googleapis.com/ml_use': 'training'}</td>\n",
              "    </tr>\n",
              "    <tr>\n",
              "      <th>7</th>\n",
              "      <td>Even though he thought the world was flat he d...</td>\n",
              "      <td>{'displayName': 'SecondClass', 'annotationReso...</td>\n",
              "      <td>{'aiplatform.googleapis.com/ml_use': 'training'}</td>\n",
              "    </tr>\n",
              "    <tr>\n",
              "      <th>8</th>\n",
              "      <td>He wondered if she would appreciate his toenai...</td>\n",
              "      <td>{'displayName': 'FirstClass', 'annotationResou...</td>\n",
              "      <td>{'aiplatform.googleapis.com/ml_use': 'training'}</td>\n",
              "    </tr>\n",
              "    <tr>\n",
              "      <th>9</th>\n",
              "      <td>They say people remember important moments in ...</td>\n",
              "      <td>{'displayName': 'SecondClass', 'annotationReso...</td>\n",
              "      <td>{'aiplatform.googleapis.com/ml_use': 'training'}</td>\n",
              "    </tr>\n",
              "  </tbody>\n",
              "</table>\n",
              "</div>\n",
              "      <button class=\"colab-df-convert\" onclick=\"convertToInteractive('df-cb0ca7a6-703c-4d60-8434-61e1187029c6')\"\n",
              "              title=\"Convert this dataframe to an interactive table.\"\n",
              "              style=\"display:none;\">\n",
              "\n",
              "  <svg xmlns=\"http://www.w3.org/2000/svg\" height=\"24px\"viewBox=\"0 0 24 24\"\n",
              "       width=\"24px\">\n",
              "    <path d=\"M0 0h24v24H0V0z\" fill=\"none\"/>\n",
              "    <path d=\"M18.56 5.44l.94 2.06.94-2.06 2.06-.94-2.06-.94-.94-2.06-.94 2.06-2.06.94zm-11 1L8.5 8.5l.94-2.06 2.06-.94-2.06-.94L8.5 2.5l-.94 2.06-2.06.94zm10 10l.94 2.06.94-2.06 2.06-.94-2.06-.94-.94-2.06-.94 2.06-2.06.94z\"/><path d=\"M17.41 7.96l-1.37-1.37c-.4-.4-.92-.59-1.43-.59-.52 0-1.04.2-1.43.59L10.3 9.45l-7.72 7.72c-.78.78-.78 2.05 0 2.83L4 21.41c.39.39.9.59 1.41.59.51 0 1.02-.2 1.41-.59l7.78-7.78 2.81-2.81c.8-.78.8-2.07 0-2.86zM5.41 20L4 18.59l7.72-7.72 1.47 1.35L5.41 20z\"/>\n",
              "  </svg>\n",
              "      </button>\n",
              "\n",
              "\n",
              "\n",
              "    <div id=\"df-3b403ec2-b2a4-4989-b4dc-ea741ab4ece2\">\n",
              "      <button class=\"colab-df-quickchart\" onclick=\"quickchart('df-3b403ec2-b2a4-4989-b4dc-ea741ab4ece2')\"\n",
              "              title=\"Suggest charts.\"\n",
              "              style=\"display:none;\">\n",
              "\n",
              "<svg xmlns=\"http://www.w3.org/2000/svg\" height=\"24px\"viewBox=\"0 0 24 24\"\n",
              "     width=\"24px\">\n",
              "    <g>\n",
              "        <path d=\"M19 3H5c-1.1 0-2 .9-2 2v14c0 1.1.9 2 2 2h14c1.1 0 2-.9 2-2V5c0-1.1-.9-2-2-2zM9 17H7v-7h2v7zm4 0h-2V7h2v10zm4 0h-2v-4h2v4z\"/>\n",
              "    </g>\n",
              "</svg>\n",
              "      </button>\n",
              "    </div>\n",
              "\n",
              "<style>\n",
              "  .colab-df-quickchart {\n",
              "    background-color: #E8F0FE;\n",
              "    border: none;\n",
              "    border-radius: 50%;\n",
              "    cursor: pointer;\n",
              "    display: none;\n",
              "    fill: #1967D2;\n",
              "    height: 32px;\n",
              "    padding: 0 0 0 0;\n",
              "    width: 32px;\n",
              "  }\n",
              "\n",
              "  .colab-df-quickchart:hover {\n",
              "    background-color: #E2EBFA;\n",
              "    box-shadow: 0px 1px 2px rgba(60, 64, 67, 0.3), 0px 1px 3px 1px rgba(60, 64, 67, 0.15);\n",
              "    fill: #174EA6;\n",
              "  }\n",
              "\n",
              "  [theme=dark] .colab-df-quickchart {\n",
              "    background-color: #3B4455;\n",
              "    fill: #D2E3FC;\n",
              "  }\n",
              "\n",
              "  [theme=dark] .colab-df-quickchart:hover {\n",
              "    background-color: #434B5C;\n",
              "    box-shadow: 0px 1px 3px 1px rgba(0, 0, 0, 0.15);\n",
              "    filter: drop-shadow(0px 1px 2px rgba(0, 0, 0, 0.3));\n",
              "    fill: #FFFFFF;\n",
              "  }\n",
              "</style>\n",
              "\n",
              "    <script>\n",
              "      async function quickchart(key) {\n",
              "        const containerElement = document.querySelector('#' + key);\n",
              "        const charts = await google.colab.kernel.invokeFunction(\n",
              "            'suggestCharts', [key], {});\n",
              "      }\n",
              "    </script>\n",
              "\n",
              "      <script>\n",
              "\n",
              "function displayQuickchartButton(domScope) {\n",
              "  let quickchartButtonEl =\n",
              "    domScope.querySelector('#df-3b403ec2-b2a4-4989-b4dc-ea741ab4ece2 button.colab-df-quickchart');\n",
              "  quickchartButtonEl.style.display =\n",
              "    google.colab.kernel.accessAllowed ? 'block' : 'none';\n",
              "}\n",
              "\n",
              "        displayQuickchartButton(document);\n",
              "      </script>\n",
              "      <style>\n",
              "    .colab-df-container {\n",
              "      display:flex;\n",
              "      flex-wrap:wrap;\n",
              "      gap: 12px;\n",
              "    }\n",
              "\n",
              "    .colab-df-convert {\n",
              "      background-color: #E8F0FE;\n",
              "      border: none;\n",
              "      border-radius: 50%;\n",
              "      cursor: pointer;\n",
              "      display: none;\n",
              "      fill: #1967D2;\n",
              "      height: 32px;\n",
              "      padding: 0 0 0 0;\n",
              "      width: 32px;\n",
              "    }\n",
              "\n",
              "    .colab-df-convert:hover {\n",
              "      background-color: #E2EBFA;\n",
              "      box-shadow: 0px 1px 2px rgba(60, 64, 67, 0.3), 0px 1px 3px 1px rgba(60, 64, 67, 0.15);\n",
              "      fill: #174EA6;\n",
              "    }\n",
              "\n",
              "    [theme=dark] .colab-df-convert {\n",
              "      background-color: #3B4455;\n",
              "      fill: #D2E3FC;\n",
              "    }\n",
              "\n",
              "    [theme=dark] .colab-df-convert:hover {\n",
              "      background-color: #434B5C;\n",
              "      box-shadow: 0px 1px 3px 1px rgba(0, 0, 0, 0.15);\n",
              "      filter: drop-shadow(0px 1px 2px rgba(0, 0, 0, 0.3));\n",
              "      fill: #FFFFFF;\n",
              "    }\n",
              "  </style>\n",
              "\n",
              "      <script>\n",
              "        const buttonEl =\n",
              "          document.querySelector('#df-cb0ca7a6-703c-4d60-8434-61e1187029c6 button.colab-df-convert');\n",
              "        buttonEl.style.display =\n",
              "          google.colab.kernel.accessAllowed ? 'block' : 'none';\n",
              "\n",
              "        async function convertToInteractive(key) {\n",
              "          const element = document.querySelector('#df-cb0ca7a6-703c-4d60-8434-61e1187029c6');\n",
              "          const dataTable =\n",
              "            await google.colab.kernel.invokeFunction('convertToInteractive',\n",
              "                                                     [key], {});\n",
              "          if (!dataTable) return;\n",
              "\n",
              "          const docLinkHtml = 'Like what you see? Visit the ' +\n",
              "            '<a target=\"_blank\" href=https://colab.research.google.com/notebooks/data_table.ipynb>data table notebook</a>'\n",
              "            + ' to learn more about interactive tables.';\n",
              "          element.innerHTML = '';\n",
              "          dataTable['output_type'] = 'display_data';\n",
              "          await google.colab.output.renderOutput(dataTable, element);\n",
              "          const docLink = document.createElement('div');\n",
              "          docLink.innerHTML = docLinkHtml;\n",
              "          element.appendChild(docLink);\n",
              "        }\n",
              "      </script>\n",
              "    </div>\n",
              "  </div>\n"
            ],
            "text/plain": [
              "                                         textContent  \\\n",
              "0  Cats are good pets, for they are clean and are...   \n",
              "1  More RVs were seen in the storage lot than at ...   \n",
              "2  When he asked her favorite number, she answere...   \n",
              "3                  Greetings from the real universe.   \n",
              "4  As he entered the church he could hear the sof...   \n",
              "5  They got there early, and they got really good...   \n",
              "6               Pink horses galloped across the sea.   \n",
              "7  Even though he thought the world was flat he d...   \n",
              "8  He wondered if she would appreciate his toenai...   \n",
              "9  They say people remember important moments in ...   \n",
              "\n",
              "                            classificationAnnotation  \\\n",
              "0  {'displayName': 'FirstClass', 'annotationResou...   \n",
              "1  {'displayName': 'SecondClass', 'annotationReso...   \n",
              "2  {'displayName': 'FirstClass', 'annotationResou...   \n",
              "3  {'displayName': 'SecondClass', 'annotationReso...   \n",
              "4  {'displayName': 'FirstClass', 'annotationResou...   \n",
              "5  {'displayName': 'SecondClass', 'annotationReso...   \n",
              "6  {'displayName': 'FirstClass', 'annotationResou...   \n",
              "7  {'displayName': 'SecondClass', 'annotationReso...   \n",
              "8  {'displayName': 'FirstClass', 'annotationResou...   \n",
              "9  {'displayName': 'SecondClass', 'annotationReso...   \n",
              "\n",
              "                             dataItemResourceLabels  \n",
              "0  {'aiplatform.googleapis.com/ml_use': 'training'}  \n",
              "1  {'aiplatform.googleapis.com/ml_use': 'training'}  \n",
              "2  {'aiplatform.googleapis.com/ml_use': 'training'}  \n",
              "3  {'aiplatform.googleapis.com/ml_use': 'training'}  \n",
              "4  {'aiplatform.googleapis.com/ml_use': 'training'}  \n",
              "5  {'aiplatform.googleapis.com/ml_use': 'training'}  \n",
              "6  {'aiplatform.googleapis.com/ml_use': 'training'}  \n",
              "7  {'aiplatform.googleapis.com/ml_use': 'training'}  \n",
              "8  {'aiplatform.googleapis.com/ml_use': 'training'}  \n",
              "9  {'aiplatform.googleapis.com/ml_use': 'training'}  "
            ]
          },
          "execution_count": 13,
          "metadata": {},
          "output_type": "execute_result"
        }
      ],
      "source": [
        "# Peek at the data.\n",
        "df = pd.DataFrame(records)\n",
        "df.head(10)"
      ]
    },
    {
      "cell_type": "code",
      "execution_count": 14,
      "metadata": {
        "id": "1v7zUwoWiPl-"
      },
      "outputs": [],
      "source": [
        "# This function takes a text string as input\n",
        "# and returns the embedding of the text\n",
        "\n",
        "\n",
        "def get_embedding(text: str) -> list:\n",
        "    try:\n",
        "        embeddings = model.get_embeddings([text])\n",
        "        return embeddings[0].values\n",
        "    except:\n",
        "        return []\n",
        "\n",
        "\n",
        "get_embedding.counter = 0\n",
        "\n",
        "# This may take several minutes to complete.\n",
        "df[\"embedding\"] = df[\"textContent\"].apply(lambda x: get_embedding(x))"
      ]
    },
    {
      "cell_type": "code",
      "execution_count": 15,
      "metadata": {
        "id": "QUQYhwpXie_-"
      },
      "outputs": [
        {
          "data": {
            "text/html": [
              "\n",
              "\n",
              "  <div id=\"df-1479f378-5477-42b8-a034-2ffa6ff5eac4\">\n",
              "    <div class=\"colab-df-container\">\n",
              "      <div>\n",
              "<style scoped>\n",
              "    .dataframe tbody tr th:only-of-type {\n",
              "        vertical-align: middle;\n",
              "    }\n",
              "\n",
              "    .dataframe tbody tr th {\n",
              "        vertical-align: top;\n",
              "    }\n",
              "\n",
              "    .dataframe thead th {\n",
              "        text-align: right;\n",
              "    }\n",
              "</style>\n",
              "<table border=\"1\" class=\"dataframe\">\n",
              "  <thead>\n",
              "    <tr style=\"text-align: right;\">\n",
              "      <th></th>\n",
              "      <th>textContent</th>\n",
              "      <th>classificationAnnotation</th>\n",
              "      <th>dataItemResourceLabels</th>\n",
              "      <th>embedding</th>\n",
              "    </tr>\n",
              "  </thead>\n",
              "  <tbody>\n",
              "    <tr>\n",
              "      <th>0</th>\n",
              "      <td>Cats are good pets, for they are clean and are...</td>\n",
              "      <td>{'displayName': 'FirstClass', 'annotationResou...</td>\n",
              "      <td>{'aiplatform.googleapis.com/ml_use': 'training'}</td>\n",
              "      <td>[0.037178341299295425, -0.010241042822599411, ...</td>\n",
              "    </tr>\n",
              "    <tr>\n",
              "      <th>1</th>\n",
              "      <td>More RVs were seen in the storage lot than at ...</td>\n",
              "      <td>{'displayName': 'SecondClass', 'annotationReso...</td>\n",
              "      <td>{'aiplatform.googleapis.com/ml_use': 'training'}</td>\n",
              "      <td>[-0.011439577676355839, -0.032596345990896225,...</td>\n",
              "    </tr>\n",
              "    <tr>\n",
              "      <th>2</th>\n",
              "      <td>When he asked her favorite number, she answere...</td>\n",
              "      <td>{'displayName': 'FirstClass', 'annotationResou...</td>\n",
              "      <td>{'aiplatform.googleapis.com/ml_use': 'training'}</td>\n",
              "      <td>[0.020134523510932922, -0.0022515689488500357,...</td>\n",
              "    </tr>\n",
              "    <tr>\n",
              "      <th>3</th>\n",
              "      <td>Greetings from the real universe.</td>\n",
              "      <td>{'displayName': 'SecondClass', 'annotationReso...</td>\n",
              "      <td>{'aiplatform.googleapis.com/ml_use': 'training'}</td>\n",
              "      <td>[-0.016334038227796555, 0.0007779737352393568,...</td>\n",
              "    </tr>\n",
              "    <tr>\n",
              "      <th>4</th>\n",
              "      <td>As he entered the church he could hear the sof...</td>\n",
              "      <td>{'displayName': 'FirstClass', 'annotationResou...</td>\n",
              "      <td>{'aiplatform.googleapis.com/ml_use': 'training'}</td>\n",
              "      <td>[0.005115862935781479, -0.034255024045705795, ...</td>\n",
              "    </tr>\n",
              "  </tbody>\n",
              "</table>\n",
              "</div>\n",
              "      <button class=\"colab-df-convert\" onclick=\"convertToInteractive('df-1479f378-5477-42b8-a034-2ffa6ff5eac4')\"\n",
              "              title=\"Convert this dataframe to an interactive table.\"\n",
              "              style=\"display:none;\">\n",
              "\n",
              "  <svg xmlns=\"http://www.w3.org/2000/svg\" height=\"24px\"viewBox=\"0 0 24 24\"\n",
              "       width=\"24px\">\n",
              "    <path d=\"M0 0h24v24H0V0z\" fill=\"none\"/>\n",
              "    <path d=\"M18.56 5.44l.94 2.06.94-2.06 2.06-.94-2.06-.94-.94-2.06-.94 2.06-2.06.94zm-11 1L8.5 8.5l.94-2.06 2.06-.94-2.06-.94L8.5 2.5l-.94 2.06-2.06.94zm10 10l.94 2.06.94-2.06 2.06-.94-2.06-.94-.94-2.06-.94 2.06-2.06.94z\"/><path d=\"M17.41 7.96l-1.37-1.37c-.4-.4-.92-.59-1.43-.59-.52 0-1.04.2-1.43.59L10.3 9.45l-7.72 7.72c-.78.78-.78 2.05 0 2.83L4 21.41c.39.39.9.59 1.41.59.51 0 1.02-.2 1.41-.59l7.78-7.78 2.81-2.81c.8-.78.8-2.07 0-2.86zM5.41 20L4 18.59l7.72-7.72 1.47 1.35L5.41 20z\"/>\n",
              "  </svg>\n",
              "      </button>\n",
              "\n",
              "\n",
              "\n",
              "    <div id=\"df-1a15e67b-31cb-4138-bafe-7be1fd1413ef\">\n",
              "      <button class=\"colab-df-quickchart\" onclick=\"quickchart('df-1a15e67b-31cb-4138-bafe-7be1fd1413ef')\"\n",
              "              title=\"Suggest charts.\"\n",
              "              style=\"display:none;\">\n",
              "\n",
              "<svg xmlns=\"http://www.w3.org/2000/svg\" height=\"24px\"viewBox=\"0 0 24 24\"\n",
              "     width=\"24px\">\n",
              "    <g>\n",
              "        <path d=\"M19 3H5c-1.1 0-2 .9-2 2v14c0 1.1.9 2 2 2h14c1.1 0 2-.9 2-2V5c0-1.1-.9-2-2-2zM9 17H7v-7h2v7zm4 0h-2V7h2v10zm4 0h-2v-4h2v4z\"/>\n",
              "    </g>\n",
              "</svg>\n",
              "      </button>\n",
              "    </div>\n",
              "\n",
              "<style>\n",
              "  .colab-df-quickchart {\n",
              "    background-color: #E8F0FE;\n",
              "    border: none;\n",
              "    border-radius: 50%;\n",
              "    cursor: pointer;\n",
              "    display: none;\n",
              "    fill: #1967D2;\n",
              "    height: 32px;\n",
              "    padding: 0 0 0 0;\n",
              "    width: 32px;\n",
              "  }\n",
              "\n",
              "  .colab-df-quickchart:hover {\n",
              "    background-color: #E2EBFA;\n",
              "    box-shadow: 0px 1px 2px rgba(60, 64, 67, 0.3), 0px 1px 3px 1px rgba(60, 64, 67, 0.15);\n",
              "    fill: #174EA6;\n",
              "  }\n",
              "\n",
              "  [theme=dark] .colab-df-quickchart {\n",
              "    background-color: #3B4455;\n",
              "    fill: #D2E3FC;\n",
              "  }\n",
              "\n",
              "  [theme=dark] .colab-df-quickchart:hover {\n",
              "    background-color: #434B5C;\n",
              "    box-shadow: 0px 1px 3px 1px rgba(0, 0, 0, 0.15);\n",
              "    filter: drop-shadow(0px 1px 2px rgba(0, 0, 0, 0.3));\n",
              "    fill: #FFFFFF;\n",
              "  }\n",
              "</style>\n",
              "\n",
              "    <script>\n",
              "      async function quickchart(key) {\n",
              "        const containerElement = document.querySelector('#' + key);\n",
              "        const charts = await google.colab.kernel.invokeFunction(\n",
              "            'suggestCharts', [key], {});\n",
              "      }\n",
              "    </script>\n",
              "\n",
              "      <script>\n",
              "\n",
              "function displayQuickchartButton(domScope) {\n",
              "  let quickchartButtonEl =\n",
              "    domScope.querySelector('#df-1a15e67b-31cb-4138-bafe-7be1fd1413ef button.colab-df-quickchart');\n",
              "  quickchartButtonEl.style.display =\n",
              "    google.colab.kernel.accessAllowed ? 'block' : 'none';\n",
              "}\n",
              "\n",
              "        displayQuickchartButton(document);\n",
              "      </script>\n",
              "      <style>\n",
              "    .colab-df-container {\n",
              "      display:flex;\n",
              "      flex-wrap:wrap;\n",
              "      gap: 12px;\n",
              "    }\n",
              "\n",
              "    .colab-df-convert {\n",
              "      background-color: #E8F0FE;\n",
              "      border: none;\n",
              "      border-radius: 50%;\n",
              "      cursor: pointer;\n",
              "      display: none;\n",
              "      fill: #1967D2;\n",
              "      height: 32px;\n",
              "      padding: 0 0 0 0;\n",
              "      width: 32px;\n",
              "    }\n",
              "\n",
              "    .colab-df-convert:hover {\n",
              "      background-color: #E2EBFA;\n",
              "      box-shadow: 0px 1px 2px rgba(60, 64, 67, 0.3), 0px 1px 3px 1px rgba(60, 64, 67, 0.15);\n",
              "      fill: #174EA6;\n",
              "    }\n",
              "\n",
              "    [theme=dark] .colab-df-convert {\n",
              "      background-color: #3B4455;\n",
              "      fill: #D2E3FC;\n",
              "    }\n",
              "\n",
              "    [theme=dark] .colab-df-convert:hover {\n",
              "      background-color: #434B5C;\n",
              "      box-shadow: 0px 1px 3px 1px rgba(0, 0, 0, 0.15);\n",
              "      filter: drop-shadow(0px 1px 2px rgba(0, 0, 0, 0.3));\n",
              "      fill: #FFFFFF;\n",
              "    }\n",
              "  </style>\n",
              "\n",
              "      <script>\n",
              "        const buttonEl =\n",
              "          document.querySelector('#df-1479f378-5477-42b8-a034-2ffa6ff5eac4 button.colab-df-convert');\n",
              "        buttonEl.style.display =\n",
              "          google.colab.kernel.accessAllowed ? 'block' : 'none';\n",
              "\n",
              "        async function convertToInteractive(key) {\n",
              "          const element = document.querySelector('#df-1479f378-5477-42b8-a034-2ffa6ff5eac4');\n",
              "          const dataTable =\n",
              "            await google.colab.kernel.invokeFunction('convertToInteractive',\n",
              "                                                     [key], {});\n",
              "          if (!dataTable) return;\n",
              "\n",
              "          const docLinkHtml = 'Like what you see? Visit the ' +\n",
              "            '<a target=\"_blank\" href=https://colab.research.google.com/notebooks/data_table.ipynb>data table notebook</a>'\n",
              "            + ' to learn more about interactive tables.';\n",
              "          element.innerHTML = '';\n",
              "          dataTable['output_type'] = 'display_data';\n",
              "          await google.colab.output.renderOutput(dataTable, element);\n",
              "          const docLink = document.createElement('div');\n",
              "          docLink.innerHTML = docLinkHtml;\n",
              "          element.appendChild(docLink);\n",
              "        }\n",
              "      </script>\n",
              "    </div>\n",
              "  </div>\n"
            ],
            "text/plain": [
              "                                         textContent  \\\n",
              "0  Cats are good pets, for they are clean and are...   \n",
              "1  More RVs were seen in the storage lot than at ...   \n",
              "2  When he asked her favorite number, she answere...   \n",
              "3                  Greetings from the real universe.   \n",
              "4  As he entered the church he could hear the sof...   \n",
              "\n",
              "                            classificationAnnotation  \\\n",
              "0  {'displayName': 'FirstClass', 'annotationResou...   \n",
              "1  {'displayName': 'SecondClass', 'annotationReso...   \n",
              "2  {'displayName': 'FirstClass', 'annotationResou...   \n",
              "3  {'displayName': 'SecondClass', 'annotationReso...   \n",
              "4  {'displayName': 'FirstClass', 'annotationResou...   \n",
              "\n",
              "                             dataItemResourceLabels  \\\n",
              "0  {'aiplatform.googleapis.com/ml_use': 'training'}   \n",
              "1  {'aiplatform.googleapis.com/ml_use': 'training'}   \n",
              "2  {'aiplatform.googleapis.com/ml_use': 'training'}   \n",
              "3  {'aiplatform.googleapis.com/ml_use': 'training'}   \n",
              "4  {'aiplatform.googleapis.com/ml_use': 'training'}   \n",
              "\n",
              "                                           embedding  \n",
              "0  [0.037178341299295425, -0.010241042822599411, ...  \n",
              "1  [-0.011439577676355839, -0.032596345990896225,...  \n",
              "2  [0.020134523510932922, -0.0022515689488500357,...  \n",
              "3  [-0.016334038227796555, 0.0007779737352393568,...  \n",
              "4  [0.005115862935781479, -0.034255024045705795, ...  "
            ]
          },
          "execution_count": 15,
          "metadata": {},
          "output_type": "execute_result"
        }
      ],
      "source": [
        "# Peek at the data.\n",
        "df.head()"
      ]
    },
    {
      "cell_type": "markdown",
      "metadata": {
        "id": "ba4f49b6-65e1-49ea-988b-c4e195219deb"
      },
      "source": [
        "## Create an index"
      ]
    },
    {
      "cell_type": "code",
      "execution_count": 16,
      "metadata": {
        "id": "245bc8cd-038b-484a-acb2-3a705d4cc4cf"
      },
      "outputs": [],
      "source": [
        "record_count = len(records)\n",
        "dataset = np.array([df.embedding[i] for i in range(record_count)])\n",
        "\n",
        "\n",
        "normalized_dataset = dataset / np.linalg.norm(dataset, axis=1)[:, np.newaxis]\n",
        "# configure ScaNN as a tree - asymmetric hash hybrid with reordering\n",
        "# anisotropic quantization as described in the paper; see README\n",
        "\n",
        "# use scann.scann_ops.build() to instead create a TensorFlow-compatible searcher\n",
        "searcher = (\n",
        "    scann.scann_ops_pybind.builder(normalized_dataset, 10, \"dot_product\")\n",
        "    .tree(\n",
        "        num_leaves=record_count,\n",
        "        num_leaves_to_search=record_count,\n",
        "        training_sample_size=record_count,\n",
        "    )\n",
        "    .score_ah(2, anisotropic_quantization_threshold=0.2)\n",
        "    .reorder(100)\n",
        "    .build()\n",
        ")"
      ]
    },
    {
      "cell_type": "markdown",
      "metadata": {
        "id": "9f1689eb-c27c-4566-afc7-7fbc55552aad"
      },
      "source": [
        "## Query the index\n",
        "This is a good example of how to use the ScaNN library to perform approximate nearest neighbor search. The function takes a query string as input and returns the top 3 neighbors of the query. The function is efficient and can be used to search large datasets quickly."
      ]
    },
    {
      "cell_type": "code",
      "execution_count": 17,
      "metadata": {
        "id": "494079df-d8f6-4a6a-b26b-0b0477791adc"
      },
      "outputs": [],
      "source": [
        "def search(query: str) -> None:\n",
        "    start = time.time()\n",
        "    query = model.get_embeddings([query])[0].values\n",
        "    neighbors, distances = searcher.search(query, final_num_neighbors=3)\n",
        "    end = time.time()\n",
        "\n",
        "    for id, dist in zip(neighbors, distances):\n",
        "        print(f\"[docid:{id}] [{dist}] -- {df.textContent[int(id)][:125]}...\")\n",
        "    print(\"Latency (ms):\", 1000 * (end - start))"
      ]
    },
    {
      "cell_type": "markdown",
      "metadata": {
        "id": "C4if4lyqXLAN"
      },
      "source": [
        "You can test a few queries."
      ]
    },
    {
      "cell_type": "code",
      "execution_count": 18,
      "metadata": {
        "id": "50497681-6112-4147-a13e-afedb72b54f5"
      },
      "outputs": [
        {
          "name": "stdout",
          "output_type": "stream",
          "text": [
            "[docid:20] [0.6497225761413574] -- Hit me with your pet shark!...\n",
            "[docid:24] [0.6352805495262146] -- Today I dressed my unicorn in preparation for the race....\n",
            "[docid:30] [0.6284741163253784] -- A kangaroo is really just a rabbit on steroids....\n",
            "Latency (ms): 97.6724624633789\n"
          ]
        }
      ],
      "source": [
        "search(\"tell me about an animal\")"
      ]
    },
    {
      "cell_type": "code",
      "execution_count": 19,
      "metadata": {
        "id": "c814f835-3e2a-4366-a334-ccc636f00b83"
      },
      "outputs": [
        {
          "name": "stdout",
          "output_type": "stream",
          "text": [
            "[docid:9] [0.6281773447990417] -- They say people remember important moments in their life well, yet no one even remembers their own birth....\n",
            "[docid:19] [0.5852192640304565] -- The near-death experience brought new ideas to light....\n",
            "[docid:36] [0.5711853504180908] -- The most exciting eureka moment I've had was when I realized that the instructions on food packets were just guidelines....\n",
            "Latency (ms): 100.8751392364502\n"
          ]
        }
      ],
      "source": [
        "search(\"tell me about an important moment or event in your life\")"
      ]
    }
  ],
  "metadata": {
    "colab": {
      "name": "text_embedding_api_semantic_search_with_scann.ipynb",
      "toc_visible": true
    },
    "kernelspec": {
      "display_name": "Python 3",
      "name": "python3"
    }
  },
  "nbformat": 4,
  "nbformat_minor": 0
}
