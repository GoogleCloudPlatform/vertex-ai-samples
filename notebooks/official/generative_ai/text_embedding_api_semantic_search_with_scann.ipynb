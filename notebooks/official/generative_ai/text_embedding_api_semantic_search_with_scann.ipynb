{
  "cells": [
    {
      "cell_type": "code",
      "execution_count": null,
      "metadata": {
        "id": "KSP1duKDeaDR"
      },
      "outputs": [],
      "source": [
        "# Copyright 2023 Google LLC\n",
        "#\n",
        "# Licensed under the Apache License, Version 2.0 (the \"License\");\n",
        "# you may not use this file except in compliance with the License.\n",
        "# You may obtain a copy of the License at\n",
        "#\n",
        "#     https://www.apache.org/licenses/LICENSE-2.0\n",
        "#\n",
        "# Unless required by applicable law or agreed to in writing, software\n",
        "# distributed under the License is distributed on an \"AS IS\" BASIS,\n",
        "# WITHOUT WARRANTIES OR CONDITIONS OF ANY KIND, either express or implied.\n",
        "# See the License for the specific language governing permissions and\n",
        "# limitations under the License."
      ]
    },
    {
      "cell_type": "markdown",
      "metadata": {
        "id": "JAPoU8Sm5E6e"
      },
      "source": [
        "# Semantic Search using Embeddings\n",
        "\n",
        "<table align=\"left\">\n",
        "  <td style=\"text-align: center\">\n",
        "    <a href=\"https://colab.research.google.com/github/GoogleCloudPlatform/vertex-ai-samples/blob/main/notebooks/official/generative_ai/text_embedding_api_semantic_search_with_scann.ipynb\">\n",
        "      <img src=\"https://cloud.google.com/ml-engine/images/colab-logo-32px.png\" alt=\"Google Colaboratory logo\"><br> Open in Colab\n",
        "    </a>\n",
        "  </td>\n",
        "  <td style=\"text-align: center\">\n",
        "    <a href=\"https://console.cloud.google.com/vertex-ai/colab/import/https:%2F%2Fraw.githubusercontent.com%2FGoogleCloudPlatform%2Fvertex-ai-samples%2Fmain%2Fnotebooks%2Fofficial%2Fgenerative_ai%2Ftext_embedding_api_semantic_search_with_scann.ipynb\">\n",
        "      <img width=\"32px\" src=\"https://cloud.google.com/ml-engine/images/colab-enterprise-logo-32px.png\" alt=\"Google Cloud Colab Enterprise logo\"><br> Open in Colab Enterprise\n",
        "    </a>\n",
        "  </td>    \n",
        "  <td style=\"text-align: center\">\n",
        "    <a href=\"https://console.cloud.google.com/vertex-ai/workbench/deploy-notebook?download_url=https://raw.githubusercontent.com/GoogleCloudPlatform/vertex-ai-samples/main/notebooks/official/generative_ai/text_embedding_api_semantic_search_with_scann.ipynb\">\n",
        "      <img src=\"https://lh3.googleusercontent.com/UiNooY4LUgW_oTvpsNhPpQzsstV5W8F7rYgxgGBD85cWJoLmrOzhVs_ksK_vgx40SHs7jCqkTkCk=e14-rj-sc0xffffff-h130-w32\" alt=\"Vertex AI logo\"><br> Open in Workbench\n",
        "    </a>\n",
        "  </td>\n",
        "  <td style=\"text-align: center\">\n",
        "    <a href=\"https://github.com/GoogleCloudPlatform/vertex-ai-samples/blob/main/notebooks/official/generative_ai/text_embedding_api_semantic_search_with_scann.ipynb\">\n",
        "      <img src=\"https://cloud.google.com/ml-engine/images/github-logo-32px.png\" alt=\"GitHub logo\"><br> View on GitHub\n",
        "    </a>\n",
        "  </td>\n",
        "</table>"
      ]
    },
    {
      "cell_type": "markdown",
      "metadata": {
        "id": "tvgnzT1CKxrO"
      },
      "source": [
        "## Overview\n",
        "\n",
        "Semantic search is a type of search that uses the meaning of words, phrases, and context to find the most relevant results. Semantic searches rely on vector embeddings which can best match the user query to the most similar result.\n",
        "\n",
        "An embedding in this scenario is a vector which represents words. The closer the items are in a vector space, the more similar they are. So when you query an embedding, items that are the closest match to your input (from your training input) are returned.\n",
        "\n",
        "Learn more about [text embedding](https://cloud.google.com/vertex-ai/docs/generative-ai/embeddings/get-text-embeddings)."
      ]
    },
    {
      "cell_type": "markdown",
      "metadata": {
        "id": "d975e698c9a4"
      },
      "source": [
        "### Objective\n",
        "\n",
        "In this tutorial, we demonstrate how to create an embedding generated from text and perform a semantic search. The embeddings are generated using [Google ScaNN: Efficient Vector Similarity Search](https://ai.googleblog.com/2020/07/announcing-scann-efficient-vector.html).\n",
        "\n",
        "This tutorial uses the following Google Cloud ML services and resources:\n",
        "- Vertex LLM SDK\n",
        "- ScaNN [github](https://github.com/google-research/google-research/tree/master/scann)\n",
        "\n",
        "The steps performed include:\n",
        "- Installation and imports\n",
        "- Create embedding dataset\n",
        "- Create an index\n",
        "- Query the index\n"
      ]
    },
    {
      "cell_type": "markdown",
      "metadata": {
        "id": "08d289fa873f"
      },
      "source": [
        "### Dataset\n",
        "\n",
        "In this tutorial, you will use the sample dataset called \"wide_and_deep_trainer_container_tests_input.jsonl\" developed by Google Brain.\n",
        "\n",
        "You will import the file from Google Cloud Samples Data Bucket in the next few steps.\n",
        "\n",
        "Here is the link to file:"
      ]
    },
    {
      "cell_type": "code",
      "execution_count": null,
      "metadata": {
        "id": "C1ZEiJcophY0"
      },
      "outputs": [],
      "source": [
        "DATASET_URI = \"gs://cloud-samples-data/vertex-ai/dataset-management/datasets/bert_finetuning/wide_and_deep_trainer_container_tests_input.jsonl\"  # @param {type:\"string\"}"
      ]
    },
    {
      "cell_type": "markdown",
      "metadata": {
        "id": "aed92deeb4a0"
      },
      "source": [
        "### Costs\n",
        "\n",
        "This tutorial uses billable components of Google Cloud:\n",
        "\n",
        "* Vertex AI\n",
        "* Cloud Storage\n",
        "\n",
        "Learn about [Vertex AI pricing](https://cloud.google.com/vertex-ai/pricing),\n",
        "and [Cloud Storage pricing](https://cloud.google.com/storage/pricing),\n",
        "and use the [Pricing Calculator](https://cloud.google.com/products/calculator/)\n",
        "to generate a cost estimate based on your projected usage."
      ]
    },
    {
      "cell_type": "markdown",
      "metadata": {
        "id": "7cc240e9c1a6"
      },
      "source": [
        "## Get Started"
      ]
    },
    {
      "cell_type": "markdown",
      "metadata": {
        "id": "a6ab0747c5e6"
      },
      "source": [
        "### Install Vertex AI SDK for Python and other required packages"
      ]
    },
    {
      "cell_type": "code",
      "execution_count": null,
      "metadata": {
        "id": "bb3fc5b6c2c3"
      },
      "outputs": [],
      "source": [
        "!pip3 install google-cloud-aiplatform \"shapely<2.0.0\" --quiet\n",
        "!pip install scann --quiet"
      ]
    },
    {
      "cell_type": "markdown",
      "metadata": {
        "id": "16220914acc5"
      },
      "source": [
        "### Restart runtime (Colab only)\n",
        "\n",
        "To use the newly installed packages, you must restart the runtime on Google Colab."
      ]
    },
    {
      "cell_type": "code",
      "execution_count": null,
      "metadata": {
        "id": "157953ab28f0"
      },
      "outputs": [],
      "source": [
        "import sys\n",
        "\n",
        "if \"google.colab\" in sys.modules:\n",
        "\n",
        "    import IPython\n",
        "\n",
        "    app = IPython.Application.instance()\n",
        "    app.kernel.do_shutdown(True)"
      ]
    },
    {
      "cell_type": "markdown",
      "metadata": {
        "id": "e669f8088ac3"
      },
      "source": [
        "<div class=\"alert alert-block alert-warning\">\n",
        "    <b>⚠️ The kernel is going to restart. Wait until it's finished before continuing to the next step. ⚠️</b>\n",
        "</div>"
      ]
    },
    {
      "cell_type": "markdown",
      "metadata": {
        "id": "ff666ce4051c"
      },
      "source": [
        "### Authenticate your notebook environment (Colab only)\n",
        "\n",
        "Authenticate your environment on Google Colab."
      ]
    },
    {
      "cell_type": "code",
      "execution_count": null,
      "metadata": {
        "id": "cc7251520a07"
      },
      "outputs": [],
      "source": [
        "import sys\n",
        "\n",
        "if \"google.colab\" in sys.modules:\n",
        "\n",
        "    from google.colab import auth\n",
        "\n",
        "    auth.authenticate_user()"
      ]
    },
    {
      "cell_type": "markdown",
      "metadata": {
        "id": "60763ee24ce0"
      },
      "source": [
        "### Set Google Cloud project information and initialize Vertex AI SDK\n",
        "\n",
        "To get started using Vertex AI, you must have an existing Google Cloud project and [enable the Vertex AI API](https://console.cloud.google.com/flows/enableapi?apiid=aiplatform.googleapis.com). Learn more about [setting up a project and a development environment](https://cloud.google.com/vertex-ai/docs/start/cloud-environment)."
      ]
    },
    {
      "cell_type": "code",
      "execution_count": null,
      "metadata": {
        "id": "0e1a068fcb88"
      },
      "outputs": [],
      "source": [
        "PROJECT_ID = \"[your-project-id]\"  # @param {type:\"string\"}\n",
        "LOCATION = \"us-central1\"  # @param {type:\"string\"}\n",
        "\n",
        "\n",
        "import vertexai\n",
        "\n",
        "# Initiate Vertex AI\n",
        "vertexai.init(project=PROJECT_ID, location=LOCATION)"
      ]
    },
    {
      "cell_type": "markdown",
      "metadata": {
        "id": "dae340cb-0583-4e7e-a562-6817ee4d7f6d"
      },
      "source": [
        "### Imports libraries"
      ]
    },
    {
      "cell_type": "code",
      "execution_count": null,
      "metadata": {
        "id": "412d00f1-08db-4880-8ced-52a9583757b8"
      },
      "outputs": [],
      "source": [
        "import json\n",
        "import time\n",
        "\n",
        "import numpy as np\n",
        "import pandas as pd\n",
        "import scann\n",
        "from vertexai.preview.language_models import TextEmbeddingModel"
      ]
    },
    {
      "cell_type": "markdown",
      "metadata": {
        "id": "d1a62cd003f5"
      },
      "source": [
        "Initialize a text embedding model using a pretrained model from Google."
      ]
    },
    {
      "cell_type": "code",
      "execution_count": null,
      "metadata": {
        "id": "1e6e1b98-a632-44a2-afb8-fc212018ef4f"
      },
      "outputs": [],
      "source": [
        "model = TextEmbeddingModel.from_pretrained(\"google/textembedding-gecko@001\")"
      ]
    },
    {
      "cell_type": "markdown",
      "metadata": {
        "id": "f50f22f3-ec85-463e-b6fe-5c8e6b80b07b"
      },
      "source": [
        "### Create embedding dataset\n",
        "\n",
        "The dataset demonstrates the use of the Text Embedding API with a vector database. It is not intended to be used for any other purpose, such as evaluating models. The dataset is small and does not represent a comprehensive sample of all possible text."
      ]
    },
    {
      "cell_type": "code",
      "execution_count": null,
      "metadata": {
        "id": "2OUg-Qf8iFta"
      },
      "outputs": [],
      "source": [
        "!gsutil cp gs://cloud-samples-data/vertex-ai/dataset-management/datasets/bert_finetuning/wide_and_deep_trainer_container_tests_input.jsonl ."
      ]
    },
    {
      "cell_type": "code",
      "execution_count": null,
      "metadata": {
        "id": "BNPapKXviHlE"
      },
      "outputs": [],
      "source": [
        "# reads a JSON file and stores the records in a list\n",
        "records = []\n",
        "with open(\"wide_and_deep_trainer_container_tests_input.jsonl\") as f:\n",
        "    for line in f:\n",
        "        record = json.loads(line)\n",
        "        records.append(record)"
      ]
    },
    {
      "cell_type": "code",
      "execution_count": null,
      "metadata": {
        "id": "Z1Y9Bx2miJba"
      },
      "outputs": [],
      "source": [
        "# Peek at the data.\n",
        "df = pd.DataFrame(records)\n",
        "df.head(10)"
      ]
    },
    {
      "cell_type": "code",
      "execution_count": null,
      "metadata": {
        "id": "1v7zUwoWiPl-"
      },
      "outputs": [],
      "source": [
        "# This function takes a text string as input\n",
        "# and returns the embedding of the text\n",
        "\n",
        "\n",
        "def get_embedding(text: str) -> list:\n",
        "    try:\n",
        "        embeddings = model.get_embeddings([text])\n",
        "        return embeddings[0].values\n",
        "    except:\n",
        "        return []\n",
        "\n",
        "\n",
        "get_embedding.counter = 0\n",
        "\n",
        "# This may take several minutes to complete.\n",
        "df[\"embedding\"] = df[\"textContent\"].apply(lambda x: get_embedding(x))"
      ]
    },
    {
      "cell_type": "code",
      "execution_count": null,
      "metadata": {
        "id": "QUQYhwpXie_-"
      },
      "outputs": [],
      "source": [
        "# Peek at the data.\n",
        "df.head()"
      ]
    },
    {
      "cell_type": "markdown",
      "metadata": {
        "id": "ba4f49b6-65e1-49ea-988b-c4e195219deb"
      },
      "source": [
        "### Create an index"
      ]
    },
    {
      "cell_type": "code",
      "execution_count": null,
      "metadata": {
        "id": "245bc8cd-038b-484a-acb2-3a705d4cc4cf"
      },
      "outputs": [],
      "source": [
        "record_count = len(records)\n",
        "dataset = np.array([df.embedding[i] for i in range(record_count)])\n",
        "\n",
        "\n",
        "normalized_dataset = dataset / np.linalg.norm(dataset, axis=1)[:, np.newaxis]\n",
        "# configure ScaNN as a tree - asymmetric hash hybrid with reordering\n",
        "# anisotropic quantization as described in the paper; see README\n",
        "\n",
        "# use scann.scann_ops.build() to instead create a TensorFlow-compatible searcher\n",
        "searcher = (\n",
        "    scann.scann_ops_pybind.builder(normalized_dataset, 10, \"dot_product\")\n",
        "    .tree(\n",
        "        num_leaves=record_count,\n",
        "        num_leaves_to_search=record_count,\n",
        "        training_sample_size=record_count,\n",
        "    )\n",
        "    .score_ah(2, anisotropic_quantization_threshold=0.2)\n",
        "    .reorder(100)\n",
        "    .build()\n",
        ")"
      ]
    },
    {
      "cell_type": "markdown",
      "metadata": {
        "id": "9f1689eb-c27c-4566-afc7-7fbc55552aad"
      },
      "source": [
        "### Query the index\n",
        "This is a good example of how to use the ScaNN library to perform approximate nearest neighbor search. The function takes a query string as input and returns the top 3 neighbors of the query. The function is efficient and can be used to search large datasets quickly."
      ]
    },
    {
      "cell_type": "code",
      "execution_count": null,
      "metadata": {
        "id": "494079df-d8f6-4a6a-b26b-0b0477791adc"
      },
      "outputs": [],
      "source": [
        "def search(query: str) -> None:\n",
        "    start = time.time()\n",
        "    query = model.get_embeddings([query])[0].values\n",
        "    neighbors, distances = searcher.search(query, final_num_neighbors=3)\n",
        "    end = time.time()\n",
        "\n",
        "    for id, dist in zip(neighbors, distances):\n",
        "        print(f\"[docid:{id}] [{dist}] -- {df.textContent[int(id)][:125]}...\")\n",
        "    print(\"Latency (ms):\", 1000 * (end - start))"
      ]
    },
    {
      "cell_type": "markdown",
      "metadata": {
        "id": "C4if4lyqXLAN"
      },
      "source": [
        "You can test a few queries."
      ]
    },
    {
      "cell_type": "code",
      "execution_count": null,
      "metadata": {
        "id": "50497681-6112-4147-a13e-afedb72b54f5"
      },
      "outputs": [],
      "source": [
        "search(\"tell me about an animal\")"
      ]
    },
    {
      "cell_type": "code",
      "execution_count": null,
      "metadata": {
        "id": "c814f835-3e2a-4366-a334-ccc636f00b83"
      },
      "outputs": [],
      "source": [
        "search(\"tell me about an important moment or event in your life\")"
      ]
    }
  ],
  "metadata": {
    "colab": {
      "name": "text_embedding_api_semantic_search_with_scann.ipynb",
      "toc_visible": true
    },
    "kernelspec": {
      "display_name": "Python 3",
      "name": "python3"
    }
  },
  "nbformat": 4,
  "nbformat_minor": 0
}
