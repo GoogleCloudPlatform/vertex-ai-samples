{
  "cells": [
    {
      "cell_type": "code",
      "execution_count": null,
      "metadata": {
        "cellView": "form",
        "id": "ur8xi4C7S06n"
      },
      "outputs": [],
      "source": [
        "# @title Copyright 2024 Google LLC\n",
        "#\n",
        "# Licensed under the Apache License, Version 2.0 (the \"License\");\n",
        "# you may not use this file except in compliance with the License.\n",
        "# You may obtain a copy of the License at\n",
        "#\n",
        "#     https://www.apache.org/licenses/LICENSE-2.0\n",
        "#\n",
        "# Unless required by applicable law or agreed to in writing, software\n",
        "# distributed under the License is distributed on an \"AS IS\" BASIS,\n",
        "# WITHOUT WARRANTIES OR CONDITIONS OF ANY KIND, either express or implied.\n",
        "# See the License for the specific language governing permissions and\n",
        "# limitations under the License."
      ]
    },
    {
      "cell_type": "markdown",
      "metadata": {
        "id": "JAPoU8Sm5E6e"
      },
      "source": [
        "# Getting Text Embeddings on Vertex AI\n",
        "\n",
        "<table align=\"left\">\n",
        "  <td style=\"text-align: center\">\n",
        "    <a href=\"https://colab.research.google.com/github/GoogleCloudPlatform/vertex-ai-samples/blob/main/notebooks/official/generative_ai/text_embeddings.ipynb\">\n",
        "      <img src=\"https://cloud.google.com/ml-engine/images/colab-logo-32px.png\" alt=\"Google Colaboratory logo\"><br> Open in Colab\n",
        "    </a>\n",
        "  </td>\n",
        "  <td style=\"text-align: center\">\n",
        "    <a href=\"https://console.cloud.google.com/vertex-ai/colab/import/https:%2F%2Fraw.githubusercontent.com%2FGoogleCloudPlatform%2Fvertex-ai-samples%2Fmain%2Fnotebooks%2Fofficial%2Fgenerative_ai%2Ftext_embeddings.ipynb\">\n",
        "      <img width=\"32px\" src=\"https://cloud.google.com/ml-engine/images/colab-enterprise-logo-32px.png\" alt=\"Google Cloud Colab Enterprise logo\"><br> Open in Colab Enterprise\n",
        "    </a>\n",
        "  </td>    \n",
        "  <td style=\"text-align: center\">\n",
        "    <a href=\"https://console.cloud.google.com/vertex-ai/workbench/deploy-notebook?download_url=https://raw.githubusercontent.com/GoogleCloudPlatform/vertex-ai-samples/main/notebooks/official/generative_ai/text_embeddings.ipynb\">\n",
        "      <img src=\"https://lh3.googleusercontent.com/UiNooY4LUgW_oTvpsNhPpQzsstV5W8F7rYgxgGBD85cWJoLmrOzhVs_ksK_vgx40SHs7jCqkTkCk=e14-rj-sc0xffffff-h130-w32\" alt=\"Vertex AI logo\"><br> Open in Workbench\n",
        "    </a>\n",
        "  </td>\n",
        "  <td style=\"text-align: center\">\n",
        "    <a href=\"https://github.com/GoogleCloudPlatform/vertex-ai-samples/blob/main/notebooks/official/generative_ai/text_embedding.ipynb\">\n",
        "      <img src=\"https://cloud.google.com/ml-engine/images/github-logo-32px.png\" alt=\"GitHub logo\"><br> View on GitHub\n",
        "    </a>\n",
        "  </td>\n",
        "</table>"
      ]
    },
    {
      "cell_type": "markdown",
      "metadata": {
        "id": "tvgnzT1CKxrO"
      },
      "source": [
        "## Overview\n",
        "\n",
        "This notebook will walk you through the process of getting text embeddings given a text-embedding model such as **text-embedding-005** and **text-multilingual-embedding-002**. See also [getting text embeddings](https://cloud.google.com/vertex-ai/docs/generative-ai/embeddings/get-text-embeddings#api_changes_to_models_released_in_or_after_august_2023)."
      ]
    },
    {
      "cell_type": "markdown",
      "metadata": {
        "id": "d975e698c9a4"
      },
      "source": [
        "### Objective\n",
        "\n",
        "In this tutorial, you learn how to get a text embedding given a text-embedding model and a text.\n",
        "\n",
        "This tutorial uses the following Google Cloud ML services and resources:\n",
        "\n",
        "* Vertex AI\n",
        "\n",
        "The steps include:\n",
        "\n",
        "* Installing and initializing Vertex AI SDK.\n",
        "* Authenticating your Google Cloud account.\n",
        "* Getting an embedding given a model and a text."
      ]
    },
    {
      "cell_type": "markdown",
      "metadata": {
        "id": "aed92deeb4a0"
      },
      "source": [
        "### Costs\n",
        "\n",
        "This tutorial uses billable components of Google Cloud:\n",
        "\n",
        "* Vertex AI\n",
        "\n",
        "Learn about [Vertex AI pricing](https://cloud.google.com/vertex-ai/pricing),\n",
        "and use the [Pricing Calculator](https://cloud.google.com/products/calculator/)\n",
        "to generate a cost estimate based on your projected usage."
      ]
    },
    {
      "cell_type": "markdown",
      "metadata": {
        "id": "8925ff9e165e"
      },
      "source": [
        "## Get Started"
      ]
    },
    {
      "cell_type": "markdown",
      "metadata": {
        "id": "OvuvT7KHT89K"
      },
      "source": [
        "### Set up your Google Cloud project\n",
        "\n",
        "**The following steps are required, regardless of your notebook environment.**\n",
        "\n",
        "1. [Select or create a Google Cloud project](https://console.cloud.google.com/projectselector2/). When you first create an account, you get a $300 free credit towards your compute/storage costs.\n",
        "\n",
        "2. [Make sure that billing is enabled for your project](https://cloud.google.com/billing/docs/how-to/modify-project).\n",
        "\n",
        "3. [Enable APIs](https://console.cloud.google.com/flows/enableapi?apiid=aiplatform.googleapis.com,documentai.googleapis.com).\n",
        "\n",
        "4. If you are running this notebook locally, you need to install the [Cloud SDK](https://cloud.google.com/sdk)."
      ]
    },
    {
      "cell_type": "markdown",
      "metadata": {
        "id": "6dac73aa3f75"
      },
      "source": [
        "### Installation\n",
        "\n",
        "This tutorial requires you to install the latest `google-cloud-aiplatform` package."
      ]
    },
    {
      "cell_type": "code",
      "execution_count": null,
      "metadata": {
        "id": "PC0H5W7KO4AI"
      },
      "outputs": [],
      "source": [
        "!pip3 install --user --quiet --upgrade google-cloud-aiplatform"
      ]
    },
    {
      "cell_type": "markdown",
      "metadata": {
        "id": "6e0c0cdffff3"
      },
      "source": [
        "#### Restart runtime (Colab only)\n",
        "\n",
        "To use the newly installed packages, you must restart the runtime on Google Colab."
      ]
    },
    {
      "cell_type": "code",
      "execution_count": null,
      "metadata": {
        "id": "dcc98768955f"
      },
      "outputs": [],
      "source": [
        "import sys\n",
        "\n",
        "if \"google.colab\" in sys.modules:\n",
        "\n",
        "    import IPython\n",
        "\n",
        "    app = IPython.Application.instance()\n",
        "    app.kernel.do_shutdown(True)"
      ]
    },
    {
      "cell_type": "markdown",
      "metadata": {
        "id": "e487ec618b5e"
      },
      "source": [
        "### Initialize Vertex AI SDK\n",
        "\n",
        "Import and Initialize the SDK for your project and region.\n",
        "\n",
        "**If you don't know your project ID**, try the following:\n",
        "* Run `gcloud config list`.\n",
        "* Run `gcloud projects list`.\n",
        "* See also [locating the project ID](https://support.google.com/googleapi/answer/7014113).\n",
        "\n",
        "See also [Vertex AI regions](https://cloud.google.com/vertex-ai/docs/general/locations)."
      ]
    },
    {
      "cell_type": "code",
      "execution_count": null,
      "metadata": {
        "cellView": "form",
        "id": "48d81914dc54"
      },
      "outputs": [],
      "source": [
        "# @title (Required) Set PROJECT_ID and REGION\n",
        "PROJECT_ID = \"\"  # @param {type:\"string\"}\n",
        "REGION = \"us-central1\"  # @param {type:\"string\"}\n",
        "if not PROJECT_ID.strip():\n",
        "    raise ValueError(\"'PROJECT_ID' is required.\")\n",
        "if not REGION.strip():\n",
        "    raise ValueError(\"'REGION' is required.\")\n",
        "!gcloud config set project {PROJECT_ID}\n",
        "\n",
        "import vertexai\n",
        "from vertexai.language_models import TextEmbeddingInput, TextEmbeddingModel\n",
        "\n",
        "vertexai.init(project=PROJECT_ID, location=REGION)"
      ]
    },
    {
      "cell_type": "markdown",
      "metadata": {
        "id": "2nDeSBMbAEZq"
      },
      "source": [
        "### Authenticate your Google Cloud account\n",
        "\n",
        "Depending on your Jupyter environment, you may have to manually authenticate. Follow the relevant instructions below."
      ]
    },
    {
      "cell_type": "markdown",
      "metadata": {
        "id": "AYT3vFsIAKGQ"
      },
      "source": [
        "**1. Colab:**"
      ]
    },
    {
      "cell_type": "code",
      "execution_count": null,
      "metadata": {
        "id": "IfLvy4izAMJq"
      },
      "outputs": [],
      "source": [
        "# @title (Required on Colab) `authenticate_user()`\n",
        "import builtins\n",
        "import os\n",
        "import sys\n",
        "\n",
        "running_in_colab = \"google.colab\" in sys.modules and hasattr(builtins, \"get_ipython\")\n",
        "if running_in_colab and not os.getenv(\"IS_TESTING\"):\n",
        "    from google.colab import auth\n",
        "\n",
        "    auth.authenticate_user(project_id=PROJECT_ID)"
      ]
    },
    {
      "cell_type": "markdown",
      "metadata": {
        "id": "A69ooMk5ATkl"
      },
      "source": [
        "**2. Vertex AI Workbench**\n",
        "\n",
        "Make sure that [the Compute Engine default service account](https://cloud.google.com/compute/docs/access/service-accounts#default_service_account) running a Vertex AI workbench instance has the permission iam.serviceAccounts.actAs (most likely through [roles/iam.serviceAccountUser](https://cloud.google.com/iam/docs/understanding-roles#iam.serviceAccountUser)) at [the IAM & Admin page of the Cloud Console](https://console.cloud.google.com/iam-admin). This permission allows a workbench instance to act as the service account when interacting with other Google Cloud services."
      ]
    },
    {
      "cell_type": "markdown",
      "metadata": {
        "id": "EMekZw5mAXG4"
      },
      "source": [
        "**3. Local JupyterLab instance, uncomment and run:**"
      ]
    },
    {
      "cell_type": "code",
      "execution_count": null,
      "metadata": {
        "id": "weGVw4YSAgjT"
      },
      "outputs": [],
      "source": [
        "# !gcloud auth login"
      ]
    },
    {
      "cell_type": "markdown",
      "metadata": {
        "id": "3xRjU9DGQzh6"
      },
      "source": [
        "### Get Text Embeddings\n",
        "\n",
        "1.   Specify the model. The latest models are\n",
        "     * **text-embedding-005** for English.\n",
        "     * **text-multilingual-embedding-002** for supported, international languages.\n",
        "     \n",
        "     See the [supported text languages](https://cloud.google.com/vertex-ai/generative-ai/docs/model-reference/text-embeddings-api#supported_text_languages) and the [supported language models](https://cloud.google.com/vertex-ai/generative-ai/docs/embeddings/get-text-embeddings#supported-models).\n",
        "2.   Specify the task, text, and optional title (valid only for task **RETRIEVAL_DOCUMENT**). The valid task types are:\n",
        "     * **RETRIEVAL_QUERY**\n",
        "     * **RETRIEVAL_DOCUMENT**\n",
        "     * **SEMANTIC_SIMILARITY**\n",
        "     * **CLASSIFICATION**\n",
        "     * **CLUSTERING**\n",
        "     * **QUESTION_ANSWERING** (valid only for the latest models)\n",
        "     * **FACT_VERIFICATION** (valid only for the latest models)\n",
        "     * **CODE_RETRIEVAL_QUERY** (valid only for the latest models)\n",
        "3. Optionally specify the output dimensionality (valid only for the latest models)."
      ]
    },
    {
      "cell_type": "code",
      "execution_count": null,
      "metadata": {
        "cellView": "form",
        "id": "rHRZXoG0SVol"
      },
      "outputs": [],
      "source": [
        "# @title { run: \"auto\" }\n",
        "MODEL = \"text-embedding-005\"  # @param [\"text-embedding-005\", \"text-embedding-004\", \"text-multilingual-embedding-002\"]\n",
        "TASK = \"CODE_RETRIEVAL_QUERY\"  # @param [\"RETRIEVAL_QUERY\", \"RETRIEVAL_DOCUMENT\", \"SEMANTIC_SIMILARITY\", \"CLASSIFICATION\", \"CLUSTERING\", \"QUESTION_ANSWERING\", \"FACT_VERIFICATION\", \"CODE_RETRIEVAL_QUERY\"]\n",
        "TEXT = \"Banana Muffin?\"  # @param {type:\"string\"}\n",
        "TITLE = \"\"  # @param {type:\"string\"}\n",
        "OUTPUT_DIMENSIONALITY = 256  # @param [1, 768, \"None\"] {type:\"raw\", allow-input:true}\n",
        "\n",
        "if not MODEL:\n",
        "    raise ValueError(\"MODEL must be specified.\")\n",
        "if not TEXT:\n",
        "    raise ValueError(\"TEXT must be specified.\")\n",
        "if TITLE and TASK != \"RETRIEVAL_DOCUMENT\":\n",
        "    raise ValueError(\"TITLE can only be specified for TASK 'RETRIEVAL_DOCUMENT'\")\n",
        "if OUTPUT_DIMENSIONALITY is not None and MODEL not in [\n",
        "    \"text-embedding-005\",\n",
        "    \"text-embedding-004\",\n",
        "    \"text-multilingual-embedding-002\",\n",
        "]:\n",
        "    raise ValueError(f\"OUTPUT_DIMENTIONALITY cannot be specified for model '{MODEL}'.\")\n",
        "if TASK in [\"QUESTION_ANSWERING\", \"FACT_VERIFICATION\"] and MODEL not in [\n",
        "    \"text-embedding-005\",\n",
        "    \"text-embedding-004\",\n",
        "    \"text-multilingual-embedding-002\",\n",
        "]:\n",
        "    raise ValueError(f\"TASK '{TASK}' is not valid for model '{MODEL}'.\")\n",
        "if TASK in [\"CODE_RETRIEVAL_QUERY\"] and MODEL not in [\n",
        "    \"text-embedding-005\",\n",
        "]:\n",
        "    raise ValueError(f\"TASK '{TASK}' is not valid for model '{MODEL}'.\")"
      ]
    },
    {
      "cell_type": "code",
      "execution_count": null,
      "metadata": {
        "id": "qFLiXoRrSnJU"
      },
      "outputs": [],
      "source": [
        "def embed_text(\n",
        "    model_name: str,\n",
        "    task_type: str,\n",
        "    text: str,\n",
        "    title: str = \"\",\n",
        "    output_dimensionality=None,\n",
        ") -> list:\n",
        "    \"\"\"Generates a text embedding with a Large Language Model.\"\"\"\n",
        "    model = TextEmbeddingModel.from_pretrained(model_name)\n",
        "    text_embedding_input = TextEmbeddingInput(\n",
        "        task_type=task_type, title=title, text=text\n",
        "    )\n",
        "    kwargs = (\n",
        "        dict(output_dimensionality=output_dimensionality)\n",
        "        if output_dimensionality\n",
        "        else {}\n",
        "    )\n",
        "    embeddings = model.get_embeddings([text_embedding_input], **kwargs)\n",
        "    return embeddings[0].values\n",
        "\n",
        "\n",
        "# Get a text embedding for a downstream task.\n",
        "embedding = embed_text(\n",
        "    model_name=MODEL,\n",
        "    task_type=TASK,\n",
        "    text=TEXT,\n",
        "    title=TITLE,\n",
        "    output_dimensionality=OUTPUT_DIMENSIONALITY,\n",
        ")\n",
        "print(len(embedding))  # Expected value: {OUTPUT_DIMENSIONALITY}."
      ]
    },
    {
      "cell_type": "markdown",
      "metadata": {
        "id": "TpV-iwP9qw9c"
      },
      "source": [
        "### Cleaning up\n",
        "\n",
        "To clean up all Google Cloud resources used in this project, you can [delete the Google Cloud\n",
        "project](https://cloud.google.com/resource-manager/docs/creating-managing-projects#shutting_down_projects) you used for the tutorial."
      ]
    }
  ],
  "metadata": {
    "colab": {
      "name": "text_embeddings.ipynb",
      "toc_visible": true
    },
    "kernelspec": {
      "display_name": "Python 3",
      "name": "python3"
    }
  },
  "nbformat": 4,
  "nbformat_minor": 0
}
