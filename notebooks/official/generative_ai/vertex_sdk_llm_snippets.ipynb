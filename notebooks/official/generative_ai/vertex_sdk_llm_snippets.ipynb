{
  "nbformat": 4,
  "nbformat_minor": 0,
  "metadata": {
    "colab": {
      "provenance": []
    },
    "kernelspec": {
      "name": "python3",
      "display_name": "Python 3"
    },
    "language_info": {
      "name": "python"
    }
  },
  "cells": [
    {
      "cell_type": "markdown",
      "source": [
        "# Authorization"
      ],
      "metadata": {
        "id": "fT-PEIcts5iq"
      }
    },
    {
      "cell_type": "code",
      "execution_count": null,
      "metadata": {
        "id": "GWcy9oGzEXXJ"
      },
      "outputs": [],
      "source": [
        "from google.colab import auth as google_auth\n",
        "google_auth.authenticate_user()"
      ]
    },
    {
      "cell_type": "markdown",
      "source": [
        "# Installing the package"
      ],
      "metadata": {
        "id": "40xdBGbjFoeG"
      }
    },
    {
      "cell_type": "code",
      "source": [
        "!pip install pip install git+https://github.com/googleapis/python-aiplatform.git@refs/pull/2172/merge"
      ],
      "metadata": {
        "id": "2Q5T3BlbFNHx"
      },
      "execution_count": null,
      "outputs": []
    },
    {
      "cell_type": "markdown",
      "source": [
        "#### ! ^^^^ Do not forget to click the \"Restart runtime\" button above."
      ],
      "metadata": {
        "id": "g3jhntJ0KUzq"
      }
    },
    {
      "cell_type": "code",
      "source": [
        "from google.colab import auth as google_auth\n",
        "google_auth.authenticate_user()"
      ],
      "metadata": {
        "id": "nhOgiE9mKTT2"
      },
      "execution_count": null,
      "outputs": []
    },
    {
      "cell_type": "code",
      "source": [
        "PROJECT_ID = \"cloud-llm-preview1\" # @param {type:\"string\"}\n",
        "LOCATION = \"us-central1\"  # @param {type:\"string\"}\n",
        "\n",
        "import vertexai\n",
        "vertexai.init(project=PROJECT_ID, location=LOCATION)"
      ],
      "metadata": {
        "id": "PquoDfoXFV3J"
      },
      "execution_count": null,
      "outputs": []
    },
    {
      "cell_type": "markdown",
      "source": [
        "# Summarization examples: Transcript summarization"
      ],
      "metadata": {
        "id": "mOabLACbseoE"
      }
    },
    {
      "cell_type": "code",
      "source": [
        "from vertexai.preview.language_models import TextGenerationModel\n",
        "\n",
        "\n",
        "def text_summarization_example(temperature=.2):\n",
        "    \"\"\"Summarization Example with a Large Language Model\"\"\"\n",
        "    model = TextGenerationModel.from_pretrained(\"text-bison@001\")\n",
        "    response = model.predict(\n",
        "        '''Provide a summary with about two sentences for the following article:\n",
        "The efficient-market hypothesis (EMH) is a hypothesis in financial \\\n",
        "economics that states that asset prices reflect all available \\\n",
        "information. A direct implication is that it is impossible to \\\n",
        "\"beat the market\" consistently on a risk-adjusted basis since market \\\n",
        "prices should only react to new information. Because the EMH is \\\n",
        "formulated in terms of risk adjustment, it only makes testable \\\n",
        "predictions when coupled with a particular model of risk. As a \\\n",
        "result, research in financial economics since at least the 1990s has \\\n",
        "focused on market anomalies, that is, deviations from specific \\\n",
        "models of risk. The idea that financial market returns are difficult \\\n",
        "to predict goes back to Bachelier, Mandelbrot, and Samuelson, but \\\n",
        "is closely associated with Eugene Fama, in part due to his \\\n",
        "influential 1970 review of the theoretical and empirical research. \\\n",
        "The EMH provides the basic logic for modern risk-based theories of \\\n",
        "asset prices, and frameworks such as consumption-based asset pricing \\\n",
        "and intermediary asset pricing can be thought of as the combination \\\n",
        "of a model of risk with the EMH. Many decades of empirical research \\\n",
        "on return predictability has found mixed evidence. Research in the \\\n",
        "1950s and 1960s often found a lack of predictability (e.g. Ball and \\\n",
        "Brown 1968; Fama, Fisher, Jensen, and Roll 1969), yet the \\\n",
        "1980s-2000s saw an explosion of discovered return predictors (e.g. \\\n",
        "Rosenberg, Reid, and Lanstein 1985; Campbell and Shiller 1988; \\\n",
        "Jegadeesh and Titman 1993). Since the 2010s, studies have often \\\n",
        "found that return predictability has become more elusive, as \\\n",
        "predictability fails to work out-of-sample (Goyal and Welch 2008), \\\n",
        "or has been weakened by advances in trading technology and investor \\\n",
        "learning (Chordia, Subrahmanyam, and Tong 2014; McLean and Pontiff \\\n",
        "2016; Martineau 2021).\n",
        "Summary:\n",
        "''',\n",
        "        temperature=temperature,\n",
        "        max_output_tokens=256,\n",
        "        top_k=40,\n",
        "        top_p=.95,\n",
        "    )\n",
        "    print(f\"Response from Model: {response.text}\")\n"
      ],
      "metadata": {
        "id": "XmnFXfnhJ9K-"
      },
      "execution_count": null,
      "outputs": []
    },
    {
      "cell_type": "markdown",
      "source": [
        "# Classification examples: Classification headline"
      ],
      "metadata": {
        "id": "AdxJX2dNE7t3"
      }
    },
    {
      "cell_type": "code",
      "source": [
        "from vertexai.preview.language_models import TextGenerationModel\n",
        "\n",
        "\n",
        "def classify_news_items_example(temperature=0):\n",
        "    \"\"\"Text Classification Example with a Large Language Model\"\"\"\n",
        "    model = TextGenerationModel.from_pretrained(\"text-bison@001\")\n",
        "    response = model.predict(\n",
        "      '''What is the topic for a given news headline?\n",
        "- business\n",
        "- entertainment\n",
        "- health\n",
        "- sports\n",
        "- technology\n",
        "\n",
        "Text: Pixel 7 Pro Expert Hands On Review, the Most Helpful Google Phones.\n",
        "The answer is: technology\n",
        "\n",
        "Text: Quit smoking?\n",
        "The answer is: health\n",
        "\n",
        "Text: Roger Federer reveals why he touched Rafael Nadals hand while they were crying\n",
        "The answer is: sports\n",
        "\n",
        "Text: Business relief from Arizona minimum-wage hike looking more remote\n",
        "The answer is: business\n",
        "\n",
        "Text: #TomCruise has arrived in Bari, Italy for #MissionImpossible.\n",
        "The answer is: entertainment\n",
        "\n",
        "Text: CNBC Reports Rising Digital Profit as Print Advertising Falls\n",
        "The answer is:\n",
        "''',\n",
        "      temperature=temperature,\n",
        "      max_output_tokens=5,\n",
        "      top_k=1,\n",
        "      top_p=0,\n",
        "    )\n",
        "    print(f\"Response from Model: {response.text}\")\n"
      ],
      "metadata": {
        "id": "q2fw1_3H-tjX"
      },
      "execution_count": null,
      "outputs": []
    },
    {
      "cell_type": "markdown",
      "source": [
        "# Classification examples: Sentiment analysis"
      ],
      "metadata": {
        "id": "fKsuhKli70q-"
      }
    },
    {
      "cell_type": "code",
      "source": [
        "from vertexai.preview.language_models import TextGenerationModel\n",
        "\n",
        "\n",
        "def sentiment_analysis_example(temperature=0):\n",
        "    \"\"\"Sentiment analysis example with a Large Language Model.\"\"\"\n",
        "    model = TextGenerationModel.from_pretrained(\"text-bison@001\")\n",
        "    response = model.predict(\n",
        "      '''I had to compare two versions of Hamlet for my Shakespeare class and \\\n",
        "unfortunately I picked this version. Everything from the acting (the actors \\\n",
        "deliver most of their lines directly to the camera) to the camera shots (all \\\n",
        "medium or close up shots...no scenery shots and very little back ground in the \\\n",
        "shots) were absolutely terrible. I watched this over my spring break and it is \\\n",
        "very safe to say that I feel that I was gypped out of 114 minutes of my \\\n",
        "vacation. Not recommended by any stretch of the imagination.\n",
        "Classify the sentiment of the message: negative\n",
        "\n",
        "Something surprised me about this movie - it was actually original. It was not \\\n",
        "the same old recycled crap that comes out of Hollywood every month. I saw this \\\n",
        "movie on video because I did not even know about it before I saw it at my \\\n",
        "local video store. If you see this movie available - rent it - you will not \\\n",
        "regret it.\n",
        "Classify the sentiment of the message: positive\n",
        "\n",
        "My family has watched Arthur Bach stumble and stammer since the movie first \\\n",
        "came out. We have most lines memorized. I watched it two weeks ago and still \\\n",
        "get tickled at the simple humor and view-at-life that Dudley Moore portrays. \\\n",
        "Liza Minelli did a wonderful job as the side kick - though I\\'m not her \\\n",
        "biggest fan. This movie makes me just enjoy watching movies. My favorite scene \\\n",
        "is when Arthur is visiting his fiancée\\'s house. His conversation with the \\\n",
        "butler and Susan\\'s father is side-spitting. The line from the butler, \\\n",
        "\"Would you care to wait in the Library\" followed by Arthur\\'s reply, \\\n",
        "\"Yes I would, the bathroom is out of the question\", is my NEWMAIL \\\n",
        "notification on my computer.\n",
        "Classify the sentiment of the message: positive\n",
        "\n",
        "This Charles outing is decent but this is a pretty low-key performance. Marlon \\\n",
        "Brando stands out. There\\'s a subplot with Mira Sorvino and Donald Sutherland \\\n",
        "that forgets to develop and it hurts the film a little. I\\'m still trying to \\\n",
        "figure out why Charlie want to change his name.\n",
        "Classify the sentiment of the message: negative\n",
        "\n",
        "Tweet: The Pixel 7 Pro, is too big to fit in my jeans pocket, so I bought \\\n",
        "new jeans.\n",
        "Classify the sentiment of the message: ''',\n",
        "      max_output_tokens=5,\n",
        "      temperature=temperature,\n",
        "      top_k=1,\n",
        "      top_p=0,\n",
        "    )\n",
        "    print(f\"Response from Model: {response.text}\")\n"
      ],
      "metadata": {
        "id": "ipqROPufuhDr"
      },
      "execution_count": null,
      "outputs": []
    },
    {
      "cell_type": "markdown",
      "source": [
        "# Extraction examples: Extractive Question Answering\n",
        "\n"
      ],
      "metadata": {
        "id": "Dh0tLRggE5H1"
      }
    },
    {
      "cell_type": "code",
      "source": [
        "from vertexai.preview.language_models import TextGenerationModel\n",
        "\n",
        "\n",
        "def extractive_question_answering_example(temperature=0):\n",
        "    \"\"\"Extractive Question Answering with a Large Language Model.\"\"\"\n",
        "    model = TextGenerationModel.from_pretrained(\"text-bison@001\")\n",
        "    response = model.predict(\n",
        "      '''Background: There is evidence that there have been significant changes \\\n",
        "in Amazon rainforest vegetation over the last 21,000 years through the Last \\\n",
        "Glacial Maximum (LGM) and subsequent deglaciation. Analyses of sediment \\\n",
        "deposits from Amazon basin paleo lakes and from the Amazon Fan indicate that \\\n",
        "rainfall in the basin during the LGM was lower than for the present, and this \\\n",
        "was almost certainly associated with reduced moist tropical vegetation cover \\\n",
        "in the basin. There is debate, however, over how extensive this reduction \\\n",
        "was. Some scientists argue that the rainforest was reduced to small, isolated \\\n",
        "refugia separated by open forest and grassland; other scientists argue that \\\n",
        "the rainforest remained largely intact but extended less far to the north, \\\n",
        "south, and east than is seen today. This debate has proved difficult to \\\n",
        "resolve because the practical limitations of working in the rainforest mean \\\n",
        "that data sampling is biased away from the center of the Amazon basin, and \\\n",
        "both explanations are reasonably well supported by the available data.\n",
        "\n",
        "Q: What does LGM stands for?\n",
        "A: Last Glacial Maximum.\n",
        "\n",
        "Q: What did the analysis from the sediment deposits indicate?\n",
        "A: Rainfall in the basin during the LGM was lower than for the present.\n",
        "\n",
        "Q: What are some of scientists arguments?\n",
        "A: The rainforest was reduced to small, isolated refugia separated by open forest and grassland.\n",
        "\n",
        "Q: There have been major changes in Amazon rainforest vegetation over the last how many years?\n",
        "A: 21,000.\n",
        "\n",
        "Q: What caused changes in the Amazon rainforest vegetation?\n",
        "A: The Last Glacial Maximum (LGM) and subsequent deglaciation\n",
        "\n",
        "Q: What has been analyzed to compare Amazon rainfall in the past and present?\n",
        "A: Sediment deposits.\n",
        "\n",
        "Q: What has the lower rainfall in the Amazon during the LGM been attributed to?\n",
        "A:''',\n",
        "      temperature=temperature,\n",
        "      max_output_tokens=256,\n",
        "      top_k=1,\n",
        "      top_p=0,\n",
        "    )\n",
        "    print(f\"Response from Model: {response.text}\")\n"
      ],
      "metadata": {
        "id": "MPqZ38QDoBeh"
      },
      "execution_count": null,
      "outputs": []
    },
    {
      "cell_type": "markdown",
      "source": [
        "# Ideation examples: Interview questions"
      ],
      "metadata": {
        "id": "vV08j9H-Rbr7"
      }
    },
    {
      "cell_type": "code",
      "source": [
        "from vertexai.preview.language_models import TextGenerationModel\n",
        "\n",
        "\n",
        "def interview_example(temperature=.2):\n",
        "    \"\"\"Ideation example with a Large Language Model\"\"\"\n",
        "    model = TextGenerationModel.from_pretrained(\"text-bison@001\")\n",
        "    response = model.predict(\n",
        "        'Give me ten interview questions for the role of program manager.',\n",
        "        temperature=temperature,\n",
        "        max_output_tokens=256,\n",
        "        top_k=40,\n",
        "        top_p=.8,\n",
        "    )\n",
        "    print(f\"Response from Model: {response.text}\")\n"
      ],
      "metadata": {
        "id": "ofBsWYxt_cl3"
      },
      "execution_count": null,
      "outputs": []
    },
    {
      "cell_type": "markdown",
      "source": [
        "# Chat examples: Science tutoring"
      ],
      "metadata": {
        "id": "tpeXOD_bsCAX"
      }
    },
    {
      "cell_type": "code",
      "source": [
        "from vertexai.preview.language_models import ChatModel, InputOutputTextPair\n",
        "\n",
        "def science_tutoring_chat(temperature=.2):\n",
        "    \"\"\"Chat example with a Large Language Model\"\"\"\n",
        "    chat_model = ChatModel.from_pretrained(\"chat-bison@001\")\n",
        "    parameters = {\n",
        "      \"temperature\": 0.2,\n",
        "      \"max_output_tokens\": 256,\n",
        "      \"top_p\": 0.95,\n",
        "      \"top_k\": 40,\n",
        "    }\n",
        "\n",
        "    chat = chat_model.start_chat(\n",
        "        context=\"My name is Miles. You are an astronomer, knowledgeable about the solar system.\",\n",
        "        examples=[\n",
        "            InputOutputTextPair(\n",
        "                input_text='How many moons does Mars have?',\n",
        "                output_text='The planet Mars has two moons, Phobos and Deimos.',\n",
        "            ),\n",
        "        ]\n",
        "    )\n",
        "\n",
        "    response = chat.send_message(\"How many planets are there in the solar system?\", **parameters)\n",
        "    response = chat.send_message(\"When I learned about the planets in school, there were nine. When did that change?\", **parameters)\n",
        "    response = chat.send_message(\"Does Pluto have any moons? What about other dwarf planets?\", **parameters)\n",
        "    response = chat.send_message(\"Who chose all of these cool names?!\", **parameters)\n",
        "    print(response.text)\n",
        "\n",
        "science_tutoring_chat()"
      ],
      "metadata": {
        "id": "1my0ebNpsKGT",
        "colab": {
          "base_uri": "https://localhost:8080/"
        },
        "outputId": "ed564737-f853-473f-e312-9d4f420cf7e9"
      },
      "execution_count": null,
      "outputs": [
        {
          "output_type": "stream",
          "name": "stdout",
          "text": [
            "The names of the moons of Pluto were chosen by the discoverers of the moons. Charon was named after the ferryman who carried the souls of the dead across the River Styx in Greek mythology. Nix and Hydra were named after the goddess of the night and the nine-headed serpent, respectively, in Greek mythology. Kerberos and Styx were named after the three-headed dog and the river of the underworld, respectively, in Greek mythology.\r\n",
            "\r\n",
            "The names of the moons of Eris were chosen by the discoverers of the dwarf planet. Dysnomia was named after the daughter of Eris in Greek mythology.\r\n",
            "\r\n",
            "The names of the moons of Haumea were chosen by the discoverers of the dwarf planet. Hiʻiaka was named after the daughter of Haumea in Hawaiian mythology. Namaka was named after the goddess of the sea in Hawaiian mythology.\r\n",
            "\r\n",
            "The names of the moons of dwarf planets are often chosen to reflect the mythology or culture of the discoverers.\n"
          ]
        }
      ]
    },
    {
      "cell_type": "markdown",
      "source": [
        "# Text Embedding"
      ],
      "metadata": {
        "id": "ag5Og6Y3xfvM"
      }
    },
    {
      "cell_type": "code",
      "source": [
        "from vertexai.preview.language_models import TextEmbeddingModel\n",
        "\n",
        "\n",
        "def text_embedding_example():\n",
        "  \"\"\"Text embedding with a Large Language Model.\"\"\"\n",
        "  model = TextEmbeddingModel.from_pretrained(\"textembedding-gecko@001\")\n",
        "  embeddings = model.get_embeddings([\"What is life?\"])\n",
        "  for embedding in embeddings:\n",
        "      vector = embedding.values\n",
        "      print(f'Length of Embedding Vector: {len(vector)}')\n"
      ],
      "metadata": {
        "id": "sNstE8FOxmm2"
      },
      "execution_count": null,
      "outputs": []
    },
    {
      "cell_type": "markdown",
      "source": [
        "# List tuned models"
      ],
      "metadata": {
        "id": "CI-dpBTr6LGH"
      }
    },
    {
      "cell_type": "code",
      "source": [
        "import vertexai\n",
        "from vertexai.preview.language_models import TextGenerationModel\n",
        "\n",
        "\n",
        "def list_tuned_models(project_id, location):\n",
        "  \"\"\"List tuned models.\"\"\"\n",
        "  vertexai.init(project=project_id, location=location)\n",
        "  model = TextGenerationModel.from_pretrained(\"text-bison@001\")\n",
        "  tuned_model_names = model.list_tuned_model_names()\n",
        "  print(tuned_model_names)\n"
      ],
      "metadata": {
        "id": "U-MuqTjTA0zk"
      },
      "execution_count": null,
      "outputs": []
    },
    {
      "cell_type": "markdown",
      "source": [
        "# Tune a model"
      ],
      "metadata": {
        "id": "gYvbJ9PrFF2g"
      }
    },
    {
      "cell_type": "code",
      "source": [
        "from typing import Union\n",
        "\n",
        "import pandas as pd\n",
        "\n",
        "import vertexai\n",
        "from vertexai.preview.language_models import TextGenerationModel\n",
        "\n",
        "\n",
        "def tune_model(\n",
        "    project_id: str,\n",
        "    location: str,\n",
        "    training_data: Union[pd.DataFrame, str],\n",
        "    train_steps: int = 10,\n",
        "):\n",
        "  \"\"\"Tune a new model, based on a prompt-response data.\n",
        "\n",
        "  \"training_data\" can be either the GCS URI of a file formatted in JSONL format\n",
        "  (for example: training_data=f'gs://{bucket}/{filename}.jsonl'), or a pandas\n",
        "  DataFrame. Each training example should be JSONL record with two keys, for\n",
        "  example:\n",
        "    {\n",
        "      \"input_text\": <input prompt>,\n",
        "      \"output_text\": <associated output>\n",
        "    },\n",
        "  or the pandas DataFame should contain two columns:\n",
        "    ['input_text', 'output_text']\n",
        "  with rows for each training example.\n",
        "\n",
        "  Args:\n",
        "    project_id: GCP Project ID, used to initialize aiplatform\n",
        "    location: GCP Region, used to initialize aiplatform\n",
        "    training_data: GCS URI of training file or pandas dataframe of training data\n",
        "    train_steps: Number of training steps to use when tuning the model.\n",
        "  \"\"\"\n",
        "  vertexai.init(project=project_id, location=location)\n",
        "  model = TextGenerationModel.from_pretrained(\"text-bison@001\")\n",
        "\n",
        "  model.tune_model(\n",
        "      training_data=training_data,\n",
        "      train_steps=train_steps,\n",
        "      tuning_job_location=\"europe-west4\",\n",
        "      tuned_model_location=\"us-central1\",\n",
        "  )\n",
        "\n",
        "  # Test the tuned model:\n",
        "  print(\n",
        "      model.predict(\"Tell me some ideas combining VR and fitness:\")\n",
        "  )\n"
      ],
      "metadata": {
        "id": "UoEVAfGCFOnT"
      },
      "execution_count": null,
      "outputs": []
    },
    {
      "cell_type": "code",
      "source": [
        "science_tutoring_chat()"
      ],
      "metadata": {
        "colab": {
          "base_uri": "https://localhost:8080/"
        },
        "id": "IaDO8x3bfuoP",
        "outputId": "7a23f28b-2818-4499-e99b-434c87c2ee58"
      },
      "execution_count": null,
      "outputs": [
        {
          "output_type": "stream",
          "name": "stdout",
          "text": [
            "The names of the dwarf planets and their moons are chosen by the discoverers. In some cases, the discoverers have chosen to name the objects after mythological figures or characters from literature. For example, Pluto is named after the Roman god of the underworld, and Charon is named after the ferryman who transported souls across the River Styx to the underworld. In other cases, the discoverers have chosen to name the objects after places or people that are significant to them. For example, Eris is named after the Greek goddess of strife, and Makemake is named after the creator god of the Rapa Nui people.\r\n",
            "\r\n",
            "The names of the dwarf planets and their moons are important because they help us to remember and learn about these fascinating objects. They also help us to understand the history of their discovery and the cultures that have been inspired by them.\n"
          ]
        }
      ]
    },
    {
      "cell_type": "code",
      "source": [],
      "metadata": {
        "id": "pbGh-7nxf_yT"
      },
      "execution_count": null,
      "outputs": []
    }
  ]
}