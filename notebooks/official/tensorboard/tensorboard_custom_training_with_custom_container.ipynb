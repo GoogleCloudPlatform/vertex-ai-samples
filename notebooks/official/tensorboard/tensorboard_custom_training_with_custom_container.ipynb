{
 "cells": [
  {
   "cell_type": "code",
   "execution_count": null,
   "id": "28a6339a",
   "metadata": {
    "id": "Gpc9ZhH_W4AP",
    "papermill": {
     "duration": 0.020613,
     "end_time": "2022-09-24T04:20:31.923028",
     "exception": false,
     "start_time": "2022-09-24T04:20:31.902415",
     "status": "completed"
    },
    "tags": []
   },
   "outputs": [],
   "source": [
    "# Copyright 2022 Google LLC\n",
    "#\n",
    "# Licensed under the Apache License, Version 2.0 (the \"License\");\n",
    "# you may not use this file except in compliance with the License.\n",
    "# You may obtain a copy of the License at\n",
    "#\n",
    "#     https://www.apache.org/licenses/LICENSE-2.0\n",
    "#\n",
    "# Unless required by applicable law or agreed to in writing, software\n",
    "# distributed under the License is distributed on an \"AS IS\" BASIS,\n",
    "# WITHOUT WARRANTIES OR CONDITIONS OF ANY KIND, either express or implied.\n",
    "# See the License for the specific language governing permissions and\n",
    "# limitations under the License."
   ]
  },
  {
   "cell_type": "markdown",
   "id": "4f26f4fe",
   "metadata": {
    "id": "ed2pOXQMb8fY",
    "papermill": {
     "duration": 0.009675,
     "end_time": "2022-09-24T04:20:31.942779",
     "exception": false,
     "start_time": "2022-09-24T04:20:31.933104",
     "status": "completed"
    },
    "tags": []
   },
   "source": [
    "# Vertex AI TensorBoard Custom Training with Custom Container\n",
    "\n",
    "<table align=\"left\">\n",
    "  <td>\n",
    "    <a href=\"https://console.cloud.google.com/ai-platform/notebooks/deploy-notebook?name=Model%20Monitoring&download_url=https%3A%2F%2Fraw.githubusercontent.com%2FGoogleCloudPlatform%2Fvertex-ai-samples%2Fmaster%2Fnotebooks%2Fofficial%2Ftensorboard%2Ftensorboard_custom_training_with_custom_container.ipynb\">\n",
    "       <img src=\"https://www.gstatic.com/cloud/images/navigation/vertex-ai.svg\" alt=\"Google Cloud Notebooks\">Open in Cloud Notebook\n",
    "    </a>\n",
    "  </td> \n",
    "  <td>\n",
    "    <a href=\"https://colab.research.google.com/github/GoogleCloudPlatform/vertex-ai-samples/blob/master/notebooks/official/tensorboard/tensorboard_custom_training_with_custom_container.ipynb\">\n",
    "      <img src=\"https://cloud.google.com/ml-engine/images/colab-logo-32px.png\" alt=\"Colab logo\"> Open in Colab\n",
    "    </a>\n",
    "  </td>\n",
    "  <td>\n",
    "    <a href=\"https://github.com/GoogleCloudPlatform/vertex-ai-samples/blob/master/notebooks/official/tensorboard/tensorboard_custom_training_with_custom_container.ipynb\">\n",
    "        <img src=\"https://cloud.google.com/ml-engine/images/github-logo-32px.png\" alt=\"GitHub logo\">\n",
    "      View on GitHub\n",
    "    </a>\n",
    "  </td>\n",
    "</table>"
   ]
  },
  {
   "cell_type": "markdown",
   "id": "7328a76b",
   "metadata": {
    "id": "GXqVc0ADMq__",
    "papermill": {
     "duration": 0.010655,
     "end_time": "2022-09-24T04:20:31.963245",
     "exception": false,
     "start_time": "2022-09-24T04:20:31.952590",
     "status": "completed"
    },
    "tags": []
   },
   "source": [
    "## Overview"
   ]
  },
  {
   "cell_type": "markdown",
   "id": "b4a5cddd",
   "metadata": {
    "id": "WagqZOn_cdCb",
    "papermill": {
     "duration": 0.009697,
     "end_time": "2022-09-24T04:20:31.982525",
     "exception": false,
     "start_time": "2022-09-24T04:20:31.972828",
     "status": "completed"
    },
    "tags": []
   },
   "source": [
    "### What is Vertex AI TensorBoard\n",
    "\n",
    "[Open source TensorBoard](https://www.tensorflow.org/tensorboard/get_started)\n",
    "(TB) is a Google open source project for machine learning experiment\n",
    "visualization. Vertex AI TensorBoard is an enterprise-ready managed\n",
    "version of TensorBoard.\n",
    "\n",
    "Vertex AI TensorBoard provides various detailed visualizations, that\n",
    "includes:\n",
    "\n",
    "*   Tracking and visualizing metrics such as loss and accuracy over time\n",
    "*   Visualizing model computational graphs (ops and layers)\n",
    "*   Viewing histograms of weights, biases, or other tensors as they change over time\n",
    "*   Projecting embeddings to a lower dimensional space\n",
    "*   Displaying image, text, and audio samples\n",
    "\n",
    "In addition to the powerful visualizations from\n",
    "TensorBoard, Vertex AI TensorBoard provides:\n",
    "\n",
    "*  A persistent, shareable link to your experiment's dashboard\n",
    "\n",
    "*  A searchable list of all experiments in a project\n",
    "\n",
    "*  Tight integrations with Vertex AI services for model training\n",
    "\n",
    "*  Enterprise-grade security, privacy, and compliance\n",
    "\n",
    "With Vertex AI TensorBoard, you can track, visualize, and compare\n",
    "ML experiments and share them with your team.\n"
   ]
  },
  {
   "cell_type": "markdown",
   "id": "7bc2496b",
   "metadata": {
    "id": "wkpL6qqIM1pO",
    "papermill": {
     "duration": 0.009746,
     "end_time": "2022-09-24T04:20:32.001781",
     "exception": false,
     "start_time": "2022-09-24T04:20:31.992035",
     "status": "completed"
    },
    "tags": []
   },
   "source": [
    "### Dataset\n",
    "\n",
    "Dataset used in this tutorial will be the [flower dataset](https://www.tensorflow.org/datasets/catalog/tf_flowers) provided by TensorFlow. No other datasets are required."
   ]
  },
  {
   "cell_type": "markdown",
   "id": "25c1e360",
   "metadata": {
    "id": "DFHvu3pYM1gY",
    "papermill": {
     "duration": 0.009892,
     "end_time": "2022-09-24T04:20:32.021384",
     "exception": false,
     "start_time": "2022-09-24T04:20:32.011492",
     "status": "completed"
    },
    "tags": []
   },
   "source": [
    "### Objective\n",
    "\n",
    "In this tutorial, you learn how to create a custom training job using custom containers, and monitor your training process on Vertex AI TensorBoard in near real time.\n",
    "\n",
    "The steps performed include:\n",
    "\n",
    "* Create docker repository & config.\n",
    "* Create a custom container image with your customized training code.\n",
    "* Setup service account and Google Cloud Storage buckets.\n",
    "* Create & launch your custom training job with your custom container."
   ]
  },
  {
   "cell_type": "markdown",
   "id": "8736ea68",
   "metadata": {
    "id": "lCzg9s63M1Oq",
    "papermill": {
     "duration": 0.009762,
     "end_time": "2022-09-24T04:20:32.040792",
     "exception": false,
     "start_time": "2022-09-24T04:20:32.031030",
     "status": "completed"
    },
    "tags": []
   },
   "source": [
    "### Costs\n",
    "\n",
    "This tutorial uses billable components of Google Cloud:\n",
    "\n",
    "* Vertex AI\n",
    "* Cloud Storage\n",
    "* Google Artifact Registry\n",
    "\n",
    "Learn about [Vertex AI pricing](https://cloud.google.com/vertex-ai/pricing),[Cloud Storage pricing](https://cloud.google.com/storage/pricing), and [Google Artifact Registry pricing](https://cloud.google.com/artifact-registry/pricing). \n",
    "\n",
    "Use the [Pricing Calculator](https://cloud.google.com/products/calculator/) to generate a cost estimate based on your projected usage."
   ]
  },
  {
   "cell_type": "markdown",
   "id": "a55dcca7",
   "metadata": {
    "id": "rAPBk_OCNN_h",
    "papermill": {
     "duration": 0.009531,
     "end_time": "2022-09-24T04:20:32.060072",
     "exception": false,
     "start_time": "2022-09-24T04:20:32.050541",
     "status": "completed"
    },
    "tags": []
   },
   "source": [
    "### Set up your local development environment\n",
    "\n",
    "**If you are using Colab or Vertex AI Workbench**, your environment already meets all the requirements to run this notebook. You can skip this step.\n",
    "\n",
    "Otherwise, make sure your environment meets this notebook's requirements. You need the following:\n",
    "\n",
    "- The Cloud Storage SDK\n",
    "- Git\n",
    "- Python 3\n",
    "- virtualenv\n",
    "- Jupyter notebook running in a virtual environment with Python 3\n",
    "\n",
    "The Cloud Storage guide to [Setting up a Python development environment](https://cloud.google.com/python/setup) and the [Jupyter installation guide](https://jupyter.org/install) provide detailed instructions for meeting these requirements. The following steps provide a condensed set of instructions:\n",
    "\n",
    "1. [Install and initialize the SDK](https://cloud.google.com/sdk/docs/).\n",
    "\n",
    "2. [Install Python 3](https://cloud.google.com/python/setup#installing_python).\n",
    "\n",
    "3. [Install virtualenv](https://cloud.google.com/python/setup#installing_and_using_virtualenv) and create a virtual environment that uses Python 3.  Activate the virtual environment.\n",
    "\n",
    "4. To install Jupyter, run `pip3 install jupyter` on the command-line in a terminal shell.\n",
    "\n",
    "5. To launch Jupyter, run `jupyter notebook` on the command-line in a terminal shell.\n",
    "\n",
    "6. Open this notebook in the Jupyter Notebook Dashboard."
   ]
  },
  {
   "cell_type": "markdown",
   "id": "905c3472",
   "metadata": {
    "id": "0Edien3sDfJm",
    "papermill": {
     "duration": 0.009711,
     "end_time": "2022-09-24T04:20:32.079288",
     "exception": false,
     "start_time": "2022-09-24T04:20:32.069577",
     "status": "completed"
    },
    "tags": []
   },
   "source": [
    "### Install additional packages\n",
    "\n",
    "Install the following packages required to execute this notebook."
   ]
  },
  {
   "cell_type": "code",
   "execution_count": null,
   "id": "c4bc29a7",
   "metadata": {
    "id": "n21c5UHogVEY",
    "papermill": {
     "duration": 2.640333,
     "end_time": "2022-09-24T04:20:34.729007",
     "exception": false,
     "start_time": "2022-09-24T04:20:32.088674",
     "status": "completed"
    },
    "tags": []
   },
   "outputs": [],
   "source": [
    "import os\n",
    "\n",
    "# The Vertex AI Workbench Notebook product has specific requirements\n",
    "IS_WORKBENCH_NOTEBOOK = os.getenv(\"DL_ANACONDA_HOME\")\n",
    "\n",
    "# Vertex AI Notebook requires dependencies to be installed with '--user'\n",
    "USER_FLAG = \"\"\n",
    "if IS_WORKBENCH_NOTEBOOK:\n",
    "    USER_FLAG = \"--user\"\n",
    "\n",
    "! pip3 install google-cloud-aiplatform {USER_FLAG} -q\n",
    "! pip install -U {USER_FLAG} google-cloud-aiplatform -q\n"
   ]
  },
  {
   "cell_type": "markdown",
   "id": "eb4aedda-38fc-4021-a17a-5df09a99202b",
   "metadata": {
    "tags": []
   },
   "source": [
    "### Restart the kernel\n",
    "\n",
    "Once you've installed the additional packages, you need to restart the notebook kernel so it can find the packages."
   ]
  },
  {
   "cell_type": "code",
   "execution_count": null,
   "id": "d24eb7b8-6d1b-40f1-be06-21e1b9e4efec",
   "metadata": {},
   "outputs": [],
   "source": [
    "import os\n",
    "\n",
    "if not os.getenv(\"IS_TESTING\"):\n",
    "    # Automatically restart kernel after installs\n",
    "    import IPython\n",
    "\n",
    "    app = IPython.Application.instance()\n",
    "    app.kernel.do_shutdown(True)"
   ]
  },
  {
   "cell_type": "markdown",
   "id": "4b23855e",
   "metadata": {
    "id": "r_dA3M6UJELw",
    "papermill": {
     "duration": 0.009718,
     "end_time": "2022-09-24T04:20:34.748529",
     "exception": false,
     "start_time": "2022-09-24T04:20:34.738811",
     "status": "completed"
    },
    "tags": []
   },
   "source": [
    "## Before you begin"
   ]
  },
  {
   "cell_type": "markdown",
   "id": "e7849066",
   "metadata": {
    "id": "1Dunp1YrhPYo",
    "papermill": {
     "duration": 0.009617,
     "end_time": "2022-09-24T04:20:34.767883",
     "exception": false,
     "start_time": "2022-09-24T04:20:34.758266",
     "status": "completed"
    },
    "tags": []
   },
   "source": [
    "### Set up your Google Cloud project\n",
    "\n",
    "**The following steps are required, regardless of your notebook environment.**\n",
    "\n",
    "1. [Select or create a Google Cloud project](https://console.cloud.google.com/cloud-resource-manager). When you first create an account, you get a $300 free credit towards your compute/storage costs.\n",
    "\n",
    "2. [Make sure that billing is enabled for your project.](https://cloud.google.com/billing/docs/how-to/modify-project)\n",
    "\n",
    "3. [Enable the Vertex AI, Cloud Storage, Cloud Build, and Artifact Registry APIs.](https://console.cloud.google.com/flows/enableapi?apiid=ml.googleapis.com,storage-component.googleapis.com,cloudbuild.googleapis.com,artifactregistry.googleapis.com)\n",
    "\n",
    "4. If you are running this notebook locally, you will need to install the [Cloud SDK](https://cloud.google.com/sdk).\n",
    "\n",
    "\n",
    "5. Enter your project ID in the cell below. Then run the  cell to make sure the\n",
    "Cloud SDK uses the right project for all the commands in this notebook.\n",
    "\n",
    "Note: Jupyter runs lines prefixed with `!` as shell commands, and it interpolates Python variables prefixed with `$`."
   ]
  },
  {
   "cell_type": "markdown",
   "id": "98b94ab9",
   "metadata": {
    "id": "lMqIOZfqhXyD",
    "papermill": {
     "duration": 0.009582,
     "end_time": "2022-09-24T04:20:34.786947",
     "exception": false,
     "start_time": "2022-09-24T04:20:34.777365",
     "status": "completed"
    },
    "tags": []
   },
   "source": [
    "### Set your project ID"
   ]
  },
  {
   "cell_type": "markdown",
   "id": "b184cdb5",
   "metadata": {
    "id": "siN0RvWyZYv9",
    "papermill": {
     "duration": 0.009672,
     "end_time": "2022-09-24T04:20:34.806131",
     "exception": false,
     "start_time": "2022-09-24T04:20:34.796459",
     "status": "completed"
    },
    "tags": []
   },
   "source": [
    "**If you don't know your project ID**, you may be able to get your project ID using `gcloud`."
   ]
  },
  {
   "cell_type": "code",
   "execution_count": null,
   "id": "2b2176b2-482a-451b-8d4d-8265fa9e1844",
   "metadata": {},
   "outputs": [],
   "source": [
    "PROJECT_ID = \"[your-project-id]\"  # @param {type:\"string\"}"
   ]
  },
  {
   "cell_type": "code",
   "execution_count": null,
   "id": "18453b63",
   "metadata": {
    "id": "lU-1yD4jZc-6",
    "papermill": {
     "duration": 0.019774,
     "end_time": "2022-09-24T04:20:34.835441",
     "exception": false,
     "start_time": "2022-09-24T04:20:34.815667",
     "status": "completed"
    },
    "tags": []
   },
   "outputs": [],
   "source": [
    "if PROJECT_ID == \"\" or PROJECT_ID is None or PROJECT_ID == \"[your-project-id]\":\n",
    "    # Get your GCP project id from gcloud\n",
    "    shell_output = ! gcloud config list --format 'value(core.project)' 2>/dev/null\n",
    "    PROJECT_ID = shell_output[0]\n",
    "    print(\"Project ID:\", PROJECT_ID)"
   ]
  },
  {
   "cell_type": "markdown",
   "id": "e81b9225",
   "metadata": {
    "id": "XNVqyIvYaPO-",
    "papermill": {
     "duration": 0.009586,
     "end_time": "2022-09-24T04:20:34.854558",
     "exception": false,
     "start_time": "2022-09-24T04:20:34.844972",
     "status": "completed"
    },
    "tags": []
   },
   "source": [
    "Otherwise, set your project ID here."
   ]
  },
  {
   "cell_type": "code",
   "execution_count": null,
   "id": "ba9b7124",
   "metadata": {
    "id": "s0F0U7WZhfAZ",
    "papermill": {
     "duration": 0.016874,
     "end_time": "2022-09-24T04:20:34.881235",
     "exception": false,
     "start_time": "2022-09-24T04:20:34.864361",
     "status": "completed"
    },
    "tags": []
   },
   "outputs": [],
   "source": [
    "if PROJECT_ID == \"\" or PROJECT_ID is None:\n",
    "    PROJECT_ID = \"python-docs-samples-tests\"  # @param {type:\"string\"}"
   ]
  },
  {
   "cell_type": "markdown",
   "id": "b751012c",
   "metadata": {
    "id": "K-KuU54IaVz5",
    "papermill": {
     "duration": 0.009685,
     "end_time": "2022-09-24T04:20:34.900663",
     "exception": false,
     "start_time": "2022-09-24T04:20:34.890978",
     "status": "completed"
    },
    "tags": []
   },
   "source": [
    "#### UUID\n",
    "\n",
    "If you are in a live tutorial session, you might be using a shared test account or project. To avoid name collisions between users on resources created, you create a uuid for each instance session, and append it onto the name of resources you create in this tutorial."
   ]
  },
  {
   "cell_type": "code",
   "execution_count": null,
   "id": "da7cdc39",
   "metadata": {
    "id": "rheJHuCIadAL",
    "papermill": {
     "duration": 0.035679,
     "end_time": "2022-09-24T04:20:34.965227",
     "exception": false,
     "start_time": "2022-09-24T04:20:34.929548",
     "status": "completed"
    },
    "tags": []
   },
   "outputs": [],
   "source": [
    "import random\n",
    "import string\n",
    "\n",
    "\n",
    "# Generate a uuid of a specifed length(default=8)\n",
    "def generate_uuid(length: int = 8) -> str:\n",
    "    return \"\".join(random.choices(string.ascii_lowercase + string.digits, k=length))\n",
    "\n",
    "\n",
    "UUID = generate_uuid()"
   ]
  },
  {
   "cell_type": "markdown",
   "id": "0f2d544d",
   "metadata": {
    "id": "Ee3vBgvdhgTb",
    "papermill": {
     "duration": 0.010129,
     "end_time": "2022-09-24T04:20:34.985587",
     "exception": false,
     "start_time": "2022-09-24T04:20:34.975458",
     "status": "completed"
    },
    "tags": []
   },
   "source": [
    "#### Region\n",
    "\n",
    "You can also change the `REGION` variable, which is used for operations\n",
    "throughout the rest of this notebook.  Below are regions supported for Vertex AI. It is recommended that you choose the region closest to you.\n",
    "\n",
    "- Americas: `us-central1`\n",
    "- Europe: `europe-west4`\n",
    "- Asia Pacific: `asia-east1`\n",
    "\n",
    "You may not use a multi-regional bucket for training with Vertex AI. Not all regions provide support for all Vertex AI services.\n",
    "\n",
    "Learn more about [Vertex AI regions](https://cloud.google.com/vertex-ai/docs/general/locations)."
   ]
  },
  {
   "cell_type": "code",
   "execution_count": null,
   "id": "fc475c7a",
   "metadata": {
    "id": "flcwBahRhi8b",
    "papermill": {
     "duration": 0.016851,
     "end_time": "2022-09-24T04:20:35.012107",
     "exception": false,
     "start_time": "2022-09-24T04:20:34.995256",
     "status": "completed"
    },
    "tags": []
   },
   "outputs": [],
   "source": [
    "REGION = \"[your-region]\"  # @param {type: \"string\"}\n",
    "\n",
    "if REGION == \"[your-region]\":\n",
    "    REGION = \"us-central1\""
   ]
  },
  {
   "cell_type": "markdown",
   "id": "e19e4ba2",
   "metadata": {
    "id": "KuNRbXkIijp6",
    "papermill": {
     "duration": 0.0097,
     "end_time": "2022-09-24T04:20:35.031495",
     "exception": false,
     "start_time": "2022-09-24T04:20:35.021795",
     "status": "completed"
    },
    "tags": []
   },
   "source": [
    "### Authenticate your Google Cloud account\n",
    "\n",
    "**If you are using Vertex AI Workbench Notebooks**, your environment is already\n",
    "authenticated. Skip this step."
   ]
  },
  {
   "cell_type": "markdown",
   "id": "5f8cb680-3bed-4365-b364-be7d19ab31c2",
   "metadata": {},
   "source": [
    "**If you are using Colab**, run the cell below and follow the instructions\n",
    "when prompted to authenticate your account via oAuth.\n",
    "\n",
    "**Otherwise**, follow these steps:\n",
    "\n",
    "1. In the Cloud Console, go to the [**Create service account key**\n",
    "   page](https://console.cloud.google.com/apis/credentials/serviceaccountkey).\n",
    "\n",
    "2. Click **Create service account**.\n",
    "\n",
    "3. In the **Service account name** field, enter a name, and\n",
    "   click **Create**.\n",
    "\n",
    "4. In the **Grant this service account access to project** section, click the **Role** drop-down list. Type \"Vertex AI\"\n",
    "into the filter box, and select\n",
    "   **Vertex AI Administrator**. Type \"Storage Object Admin\" into the filter box, and select **Storage Object Admin**.\n",
    "\n",
    "5. Click *Create*. A JSON file that contains your key downloads to your\n",
    "local environment.\n",
    "\n",
    "6. Enter the path to your service account key as the\n",
    "`GOOGLE_APPLICATION_CREDENTIALS` variable in the cell below and run the cell."
   ]
  },
  {
   "cell_type": "code",
   "execution_count": null,
   "id": "b032d1f1",
   "metadata": {
    "id": "P9vQxUzfirCV",
    "papermill": {
     "duration": 0.018658,
     "end_time": "2022-09-24T04:20:35.059786",
     "exception": false,
     "start_time": "2022-09-24T04:20:35.041128",
     "status": "completed"
    },
    "tags": []
   },
   "outputs": [],
   "source": [
    "# The Google Cloud Notebook product has specific requirements\n",
    "import os\n",
    "import sys\n",
    "\n",
    "IS_GOOGLE_CLOUD_NOTEBOOK = os.path.exists(\"/opt/deeplearning/metadata/env_version\")\n",
    "\n",
    "IS_COLAB = \"google.colab\" in sys.modules\n",
    "# If on Google Cloud Notebooks, then don't execute this code\n",
    "if not IS_GOOGLE_CLOUD_NOTEBOOK:\n",
    "    if IS_COLAB:\n",
    "        from google.colab import auth as google_auth\n",
    "\n",
    "        google_auth.authenticate_user()\n",
    "\n",
    "    # If you are running this notebook locally, replace the string below with the\n",
    "    # path to your service account key and run this cell to authenticate your GCP\n",
    "    # account.\n",
    "    elif not os.getenv(\"IS_TESTING\"):\n",
    "        %env GOOGLE_APPLICATION_CREDENTIALS"
   ]
  },
  {
   "cell_type": "markdown",
   "id": "f0718e80",
   "metadata": {
    "id": "OG3dstAuVtgz",
    "papermill": {
     "duration": 0.00986,
     "end_time": "2022-09-24T04:20:35.079360",
     "exception": false,
     "start_time": "2022-09-24T04:20:35.069500",
     "status": "completed"
    },
    "tags": []
   },
   "source": [
    "### Create Cloud Storage bucket"
   ]
  },
  {
   "cell_type": "markdown",
   "id": "59423d4b",
   "metadata": {
    "id": "TKVkz5uzV07p",
    "papermill": {
     "duration": 0.009742,
     "end_time": "2022-09-24T04:20:35.099015",
     "exception": false,
     "start_time": "2022-09-24T04:20:35.089273",
     "status": "completed"
    },
    "tags": []
   },
   "source": [
    "A Cloud Storage buckets will be used store your training code output (including TensorBoard logs). The bucket must be regional that is, not multi-region or dual-region, and the following resources must be in same region:\n",
    "\n",
    "* the Cloud Storage bucket\n",
    "* the Vertex AI training job\n",
    "* the Vertex AI TensorBoard instance"
   ]
  },
  {
   "cell_type": "code",
   "execution_count": null,
   "id": "e39fbb57",
   "metadata": {
    "id": "_BzfwD8EV7Fw",
    "papermill": {
     "duration": 0.01745,
     "end_time": "2022-09-24T04:20:35.126100",
     "exception": false,
     "start_time": "2022-09-24T04:20:35.108650",
     "status": "completed"
    },
    "tags": []
   },
   "outputs": [],
   "source": [
    "BUCKET_URI = \"gs://[your-bucket-name]\"  # @param {type:\"string\"}\n",
    "\n",
    "if BUCKET_URI == \"\" or BUCKET_URI is None or BUCKET_URI == \"gs://[your-bucket-name]\":\n",
    "    BUCKET_URI = \"gs://\" + PROJECT_ID + \"aip-\" + UUID"
   ]
  },
  {
   "cell_type": "markdown",
   "id": "ff58784f",
   "metadata": {
    "id": "iVe3Y5UGWDoC",
    "papermill": {
     "duration": 0.009816,
     "end_time": "2022-09-24T04:20:35.145715",
     "exception": false,
     "start_time": "2022-09-24T04:20:35.135899",
     "status": "completed"
    },
    "tags": []
   },
   "source": [
    "**Only if your bucket doesn't already exist**: Run the following cell to create your Cloud Storage bucket. The created bucket will be deleted in the cleaning up section in the end. "
   ]
  },
  {
   "cell_type": "code",
   "execution_count": null,
   "id": "63bdbd51",
   "metadata": {
    "id": "M0krsPd9WJYl",
    "papermill": {
     "duration": 3.96453,
     "end_time": "2022-09-24T04:20:39.120015",
     "exception": false,
     "start_time": "2022-09-24T04:20:35.155485",
     "status": "completed"
    },
    "tags": []
   },
   "outputs": [],
   "source": [
    "! gsutil mb -l {REGION} -p {PROJECT_ID} {BUCKET_URI}"
   ]
  },
  {
   "cell_type": "markdown",
   "id": "e64bd22d",
   "metadata": {
    "id": "oXo9TNzQWQBS",
    "papermill": {
     "duration": 0.010086,
     "end_time": "2022-09-24T04:20:39.140606",
     "exception": false,
     "start_time": "2022-09-24T04:20:39.130520",
     "status": "completed"
    },
    "tags": []
   },
   "source": [
    "Finally, validate access to your Cloud Storage bucket by examining its contents:"
   ]
  },
  {
   "cell_type": "code",
   "execution_count": null,
   "id": "6fc3f085",
   "metadata": {
    "id": "BD-n41FzWY0G",
    "papermill": {
     "duration": 2.482811,
     "end_time": "2022-09-24T04:20:41.633431",
     "exception": false,
     "start_time": "2022-09-24T04:20:39.150620",
     "status": "completed"
    },
    "tags": []
   },
   "outputs": [],
   "source": [
    "! gsutil ls -al {BUCKET_URI}"
   ]
  },
  {
   "cell_type": "markdown",
   "id": "013e620b",
   "metadata": {
    "id": "q73OgpxyDtSk",
    "papermill": {
     "duration": 0.010635,
     "end_time": "2022-09-24T04:20:41.654390",
     "exception": false,
     "start_time": "2022-09-24T04:20:41.643755",
     "status": "completed"
    },
    "tags": []
   },
   "source": [
    "### Import aiplatform"
   ]
  },
  {
   "cell_type": "code",
   "execution_count": null,
   "id": "bbe7e40b",
   "metadata": {
    "id": "yO4wki2xD0Ys",
    "papermill": {
     "duration": 1.867464,
     "end_time": "2022-09-24T04:20:43.532242",
     "exception": false,
     "start_time": "2022-09-24T04:20:41.664778",
     "status": "completed"
    },
    "tags": []
   },
   "outputs": [],
   "source": [
    "import google.cloud.aiplatform as aiplatform"
   ]
  },
  {
   "cell_type": "markdown",
   "id": "ef58b2e5",
   "metadata": {
    "id": "79WoncsWbLTg",
    "papermill": {
     "duration": 0.010288,
     "end_time": "2022-09-24T04:20:43.552944",
     "exception": false,
     "start_time": "2022-09-24T04:20:43.542656",
     "status": "completed"
    },
    "tags": []
   },
   "source": [
    "### Initialize Vertex AI SDK for Python\n",
    "Initialize the Vertex AI SDK for Python for your project and corresponding bucket."
   ]
  },
  {
   "cell_type": "code",
   "execution_count": null,
   "id": "ac0df4b4",
   "metadata": {
    "id": "y4qLmB4WbLwo",
    "papermill": {
     "duration": 0.018223,
     "end_time": "2022-09-24T04:20:43.581438",
     "exception": false,
     "start_time": "2022-09-24T04:20:43.563215",
     "status": "completed"
    },
    "tags": []
   },
   "outputs": [],
   "source": [
    "aiplatform.init(project=PROJECT_ID, location=REGION, staging_bucket=BUCKET_URI)"
   ]
  },
  {
   "cell_type": "markdown",
   "id": "bed23e5f-0055-4b25-92c9-68bf36bb568b",
   "metadata": {
    "tags": []
   },
   "source": [
    "### Enable Artifact Registry API\n",
    "First, you must enable the Artifact Registry API service for your project.\n",
    "\n",
    "Learn more about Enabling service."
   ]
  },
  {
   "cell_type": "code",
   "execution_count": null,
   "id": "3bb7b80a-9e87-4eec-8196-f707a37cd25b",
   "metadata": {},
   "outputs": [],
   "source": [
    "!gcloud services enable artifactregistry.googleapis.com"
   ]
  },
  {
   "cell_type": "markdown",
   "id": "758cd825",
   "metadata": {
    "id": "0j1NWIQEJI5i",
    "papermill": {
     "duration": 0.010104,
     "end_time": "2022-09-24T04:20:43.601655",
     "exception": false,
     "start_time": "2022-09-24T04:20:43.591551",
     "status": "completed"
    },
    "tags": []
   },
   "source": [
    "### Create Docker repository"
   ]
  },
  {
   "cell_type": "markdown",
   "id": "51828e5b",
   "metadata": {
    "id": "hNmHMIyjBzxx",
    "papermill": {
     "duration": 0.010187,
     "end_time": "2022-09-24T04:20:43.621966",
     "exception": false,
     "start_time": "2022-09-24T04:20:43.611779",
     "status": "completed"
    },
    "tags": []
   },
   "source": [
    "Create a Docker repository named `DOCKER_REPOSITORY` in your `REGION`.\n",
    "This docker repository will be deleted in the clearning up section in the end."
   ]
  },
  {
   "cell_type": "code",
   "execution_count": null,
   "id": "98b5d400",
   "metadata": {
    "id": "iz9CUUbdBTvF",
    "papermill": {
     "duration": 0.018849,
     "end_time": "2022-09-24T04:20:43.650916",
     "exception": false,
     "start_time": "2022-09-24T04:20:43.632067",
     "status": "completed"
    },
    "tags": []
   },
   "outputs": [],
   "source": [
    "DOCKER_REPOSITORY = \"[your-docker-repository-name]\"  # @param {type:\"string\"}\n",
    "\n",
    "if (\n",
    "    DOCKER_REPOSITORY == \"\"\n",
    "    or DOCKER_REPOSITORY is None\n",
    "    or DOCKER_REPOSITORY == \"[your-docker-repository-name]\"\n",
    "):\n",
    "    DOCKER_REPOSITORY = \"tb-docker-repo-\" + PROJECT_ID + \"-\" + UUID\n",
    "\n",
    "print(\"Docker repository to create:\", DOCKER_REPOSITORY)"
   ]
  },
  {
   "cell_type": "code",
   "execution_count": null,
   "id": "074167c8",
   "metadata": {
    "id": "R9eQDigtC8XA",
    "papermill": {
     "duration": 4.070064,
     "end_time": "2022-09-24T04:20:47.731189",
     "exception": false,
     "start_time": "2022-09-24T04:20:43.661125",
     "status": "completed"
    },
    "tags": []
   },
   "outputs": [],
   "source": [
    "! gcloud  artifacts repositories create  $DOCKER_REPOSITORY --project={PROJECT_ID} \\\n",
    "--repository-format=docker \\\n",
    "--location={REGION} --description=\"Repository for TensorBoard Custom Training Job\" "
   ]
  },
  {
   "cell_type": "code",
   "execution_count": null,
   "id": "f708100a",
   "metadata": {
    "id": "fgHYvZlwDuAN",
    "papermill": {
     "duration": 14.022872,
     "end_time": "2022-09-24T04:21:01.790675",
     "exception": false,
     "start_time": "2022-09-24T04:20:47.767803",
     "status": "completed"
    },
    "tags": []
   },
   "outputs": [],
   "source": [
    "! gcloud artifacts repositories list --project={PROJECT_ID}"
   ]
  },
  {
   "cell_type": "markdown",
   "id": "97defbd5",
   "metadata": {
    "id": "laaA77LsIt0c",
    "papermill": {
     "duration": 0.01253,
     "end_time": "2022-09-24T04:21:01.816053",
     "exception": false,
     "start_time": "2022-09-24T04:21:01.803523",
     "status": "completed"
    },
    "tags": []
   },
   "source": [
    "## Create a custom container image and push to Artifact Registry\n"
   ]
  },
  {
   "cell_type": "code",
   "execution_count": null,
   "id": "05397fd7",
   "metadata": {
    "id": "AVcNnHfEKBdm",
    "papermill": {
     "duration": 0.955367,
     "end_time": "2022-09-24T04:21:02.783975",
     "exception": false,
     "start_time": "2022-09-24T04:21:01.828608",
     "status": "completed"
    },
    "tags": []
   },
   "outputs": [],
   "source": [
    "# Create a folder for the image.\n",
    "! mkdir tb-custom-container\n",
    "%cd tb-custom-container"
   ]
  },
  {
   "cell_type": "markdown",
   "id": "04239678",
   "metadata": {
    "id": "jUcVG77dKmPn",
    "papermill": {
     "duration": 0.012476,
     "end_time": "2022-09-24T04:21:02.809258",
     "exception": false,
     "start_time": "2022-09-24T04:21:02.796782",
     "status": "completed"
    },
    "tags": []
   },
   "source": [
    "Write your own training code in task.py file. You can use the following code as an example."
   ]
  },
  {
   "cell_type": "code",
   "execution_count": null,
   "id": "19f80466",
   "metadata": {
    "id": "7k1JDOGNKL3d",
    "papermill": {
     "duration": 0.024618,
     "end_time": "2022-09-24T04:21:02.846308",
     "exception": false,
     "start_time": "2022-09-24T04:21:02.821690",
     "status": "completed"
    },
    "tags": []
   },
   "outputs": [],
   "source": [
    "%%writefile task.py\n",
    "\n",
    "import logging\n",
    "import os\n",
    "\n",
    "import tensorflow as tf\n",
    "import tensorflow_datasets as tfds\n",
    "\n",
    "IMG_WIDTH = 128\n",
    "\n",
    "def normalize_img(image):\n",
    "    \"\"\"Normalizes image.\n",
    "\n",
    "    * Resizes image to IMG_WIDTH x IMG_WIDTH pixels\n",
    "    * Casts values from `uint8` to `float32`\n",
    "    * Scales values from [0, 255] to [0, 1]\n",
    "\n",
    "    Returns:\n",
    "      A tensor with shape (IMG_WIDTH, IMG_WIDTH, 3). (3 color channels)\n",
    "    \"\"\"\n",
    "    image = tf.image.resize_with_pad(image, IMG_WIDTH, IMG_WIDTH)\n",
    "    return image / 255.\n",
    "\n",
    "\n",
    "def normalize_img_and_label(image, label):\n",
    "    \"\"\"Normalizes image and label.\n",
    "\n",
    "    * Performs normalize_img on image\n",
    "    * Passes through label unchanged\n",
    "\n",
    "    Returns:\n",
    "      Tuple (image, label) where\n",
    "      * image is a tensor with shape (IMG_WIDTH, IMG_WIDTH, 3). (3 color\n",
    "        channels)\n",
    "      * label is an unchanged integer [0, 4] representing flower type\n",
    "    \"\"\"\n",
    "    return normalize_img(image), label\n",
    "\n",
    "logging.info('Loading and preprocessing data ...')\n",
    "dataset = tfds.load('tf_flowers:3.*.*',\n",
    "                    split='train',\n",
    "                    try_gcs=True,\n",
    "                    shuffle_files=True,\n",
    "                    as_supervised=True)\n",
    "dataset = dataset.map(normalize_img_and_label,\n",
    "                      num_parallel_calls=tf.data.experimental.AUTOTUNE)\n",
    "dataset = dataset.cache()\n",
    "dataset = dataset.shuffle(1000)\n",
    "dataset = dataset.batch(128)\n",
    "dataset = dataset.prefetch(tf.data.experimental.AUTOTUNE)\n",
    "\n",
    "logging.info('Creating and training model ...')\n",
    "\n",
    "model = tf.keras.Sequential([\n",
    "    tf.keras.layers.Conv2D(16,\n",
    "                           3,\n",
    "                           padding='same',\n",
    "                           activation='relu',\n",
    "                           input_shape=(IMG_WIDTH, IMG_WIDTH, 3)),\n",
    "    tf.keras.layers.Maklp;p[ppp;p;;;;;;;;;xPooling2D(),\n",
    "    tf.keras.layers.Conv2D(32, 3, padding='same', activation='relu'),\n",
    "    tf.keras.layers.MaxPooling2D(),\n",
    "    tf.keras.layers.Conv2D(64, 3, padding='same', activation='relu'),\n",
    "    tf.keras.layers.MaxPooling2D(),\n",
    "    tf.keras.layers.Flatten(),\n",
    "    tf.keras.layers.Dense(512, activation=\"relu\"),\n",
    "    tf.keras.layers.Dense(5)  # 5 classes\n",
    "])\n",
    "\n",
    "logging.info('Compiling model ...')\n",
    "model.compile(\n",
    "    optimizer='adam',\n",
    "    loss=tf.keras.losses.SparseCategoricalCrossentropy(from_logits=True),\n",
    "    metrics=['accuracy'])\n",
    "\n",
    "log_dir = \"logs\"\n",
    "if 'AIP_TENSORBOARD_LOG_DIR' in os.environ:\n",
    "  log_dir=os.environ['AIP_TENSORBOARD_LOG_DIR']\n",
    "\n",
    "tensorboard_callback = tf.keras.callbacks.TensorBoard(\n",
    "  log_dir=log_dir,\n",
    "  histogram_freq=1)\n",
    "\n",
    "logging.info('Training model ...')\n",
    "model.fit(dataset, epochs=13, callbacks=[tensorboard_callback])\n",
    "\n",
    "logging.info('Model training done')"
   ]
  },
  {
   "cell_type": "code",
   "execution_count": null,
   "id": "e86a6533-7e06-4b85-8f9a-8b2e69f8f431",
   "metadata": {},
   "outputs": [],
   "source": []
  },
  {
   "cell_type": "markdown",
   "id": "8941227a",
   "metadata": {
    "id": "hvNddrgPP9bs",
    "papermill": {
     "duration": 0.012577,
     "end_time": "2022-09-24T04:21:02.871455",
     "exception": false,
     "start_time": "2022-09-24T04:21:02.858878",
     "status": "completed"
    },
    "tags": []
   },
   "source": [
    "Create your own `Dockerfile` to specify all instructions needed to build your container. You can use the following `Dockerfile` as an example."
   ]
  },
  {
   "cell_type": "code",
   "execution_count": null,
   "id": "afa891c8",
   "metadata": {
    "id": "fxi1HZbKQUKY",
    "papermill": {
     "duration": 0.021539,
     "end_time": "2022-09-24T04:21:02.905494",
     "exception": false,
     "start_time": "2022-09-24T04:21:02.883955",
     "status": "completed"
    },
    "tags": []
   },
   "outputs": [],
   "source": [
    "%%writefile Dockerfile\n",
    "\n",
    "# Specifies base image and tag\n",
    "FROM us-docker.pkg.dev/vertex-ai/training/tf-cpu.2-8:latest\n",
    "WORKDIR /root\n",
    "\n",
    "\n",
    "# Installs additional packages as you need.\n",
    "\n",
    "# Copies the trainer code to the docker image.\n",
    "COPY task.py /root/task.py\n",
    "\n",
    "# Sets up the entry point to invoke the trainer.\n",
    "ENTRYPOINT [\"python\", \"task.py\"]"
   ]
  },
  {
   "cell_type": "markdown",
   "id": "ecc07b2d",
   "metadata": {
    "id": "DK2E1xz8Q7Q-",
    "papermill": {
     "duration": 0.011651,
     "end_time": "2022-09-24T04:21:02.929071",
     "exception": false,
     "start_time": "2022-09-24T04:21:02.917420",
     "status": "completed"
    },
    "tags": []
   },
   "source": [
    "Build your container image using `gcloud builds` from your training code and `Dockerfile`. Note that this step may take a few minutes."
   ]
  },
  {
   "cell_type": "code",
   "execution_count": null,
   "id": "250424af",
   "metadata": {
    "id": "BvyoFJW_LJeG",
    "papermill": {
     "duration": 899.987441,
     "end_time": "2022-09-24T04:36:02.928089",
     "exception": false,
     "start_time": "2022-09-24T04:21:02.940648",
     "status": "completed"
    },
    "tags": []
   },
   "outputs": [],
   "source": [
    "IMAGE_NAME = \"tensorboard-custom-container\"\n",
    "IMAGE_TAG = \"v1\"\n",
    "IMAGE_URI = \"us-central1-docker.pkg.dev/{}/{}/{}:{}\".format(\n",
    "    PROJECT_ID, DOCKER_REPOSITORY, IMAGE_NAME, IMAGE_TAG\n",
    ")\n",
    "\n",
    "! gcloud builds submit --project {PROJECT_ID} --region={REGION} --tag {IMAGE_URI} --timeout=20m"
   ]
  },
  {
   "cell_type": "markdown",
   "id": "f34c39e1",
   "metadata": {
    "id": "hwXxa4Qgnh4Y",
    "papermill": {
     "duration": 0.01521,
     "end_time": "2022-09-24T04:36:02.958671",
     "exception": false,
     "start_time": "2022-09-24T04:36:02.943461",
     "status": "completed"
    },
    "tags": []
   },
   "source": [
    "## Setup service account and permissions"
   ]
  },
  {
   "cell_type": "markdown",
   "id": "bca7c056",
   "metadata": {
    "id": "7qXFUiHLoFRw",
    "papermill": {
     "duration": 0.014595,
     "end_time": "2022-09-24T04:36:02.988019",
     "exception": false,
     "start_time": "2022-09-24T04:36:02.973424",
     "status": "completed"
    },
    "tags": []
   },
   "source": [
    "A service account will be used to create custom training job. If you do not want to use your project's Compute Engine service account, set SERVICE_ACCOUNT to another service account ID. You can create a service account by following the [instruction](https://cloud.google.com/iam/docs/creating-managing-service-accounts#creating)."
   ]
  },
  {
   "cell_type": "code",
   "execution_count": null,
   "id": "c8b21b7a",
   "metadata": {
    "id": "mpKjfsXumuNV",
    "papermill": {
     "duration": 0.022839,
     "end_time": "2022-09-24T04:36:03.025608",
     "exception": false,
     "start_time": "2022-09-24T04:36:03.002769",
     "status": "completed"
    },
    "tags": []
   },
   "outputs": [],
   "source": [
    "SERVICE_ACCOUNT = \"[your-service-account]\""
   ]
  },
  {
   "cell_type": "code",
   "execution_count": null,
   "id": "5d681c55",
   "metadata": {
    "id": "RdWLe8S_tlee",
    "papermill": {
     "duration": 0.026563,
     "end_time": "2022-09-24T04:36:03.067079",
     "exception": false,
     "start_time": "2022-09-24T04:36:03.040516",
     "status": "completed"
    },
    "tags": []
   },
   "outputs": [],
   "source": [
    "import sys\n",
    "IS_COLAB = \"google.colab\" in sys.modules\n",
    "if (\n",
    "    SERVICE_ACCOUNT == \"\"\n",
    "    or SERVICE_ACCOUNT is None\n",
    "    or SERVICE_ACCOUNT == \"[your-service-account]\"\n",
    "):\n",
    "    # Get your service account from gcloud\n",
    "    if not IS_COLAB:\n",
    "        shell_output = ! gcloud auth list 2>/dev/null\n",
    "        SERVICE_ACCOUNT = shell_output[2].replace(\"*\", \"\").strip()\n",
    "\n",
    "    else:  # IS_COLAB:\n",
    "        shell_output = ! gcloud projects describe  $PROJECT_ID\n",
    "        project_number = shell_output[-1].split(\":\")[1].strip().replace(\"'\", \"\")\n",
    "        SERVICE_ACCOUNT = f\"{project_number}-compute@developer.gserviceaccount.com\"\n",
    "\n",
    "    print(\"Service Account:\", SERVICE_ACCOUNT)"
   ]
  },
  {
   "cell_type": "code",
   "execution_count": null,
   "id": "22ca4926-7db1-4996-ada4-830049a19338",
   "metadata": {},
   "outputs": [],
   "source": [
    "! gsutil iam ch serviceAccount:{SERVICE_ACCOUNT}:roles/storage.objectCreator $BUCKET_URI\n",
    "\n",
    "! gsutil iam ch serviceAccount:{SERVICE_ACCOUNT}:roles/storage.objectViewer $BUCKET_URI"
   ]
  },
  {
   "cell_type": "markdown",
   "id": "f740875b",
   "metadata": {
    "id": "IaQjIPvuKLwW",
    "papermill": {
     "duration": 0.016438,
     "end_time": "2022-09-24T04:36:08.636680",
     "exception": false,
     "start_time": "2022-09-24T04:36:08.620242",
     "status": "completed"
    },
    "tags": []
   },
   "source": [
    "## Create a custom training job with your container"
   ]
  },
  {
   "cell_type": "markdown",
   "id": "5e8cc8a0",
   "metadata": {
    "id": "svUGBOow_Obj",
    "papermill": {
     "duration": 0.016731,
     "end_time": "2022-09-24T04:36:08.669720",
     "exception": false,
     "start_time": "2022-09-24T04:36:08.652989",
     "status": "completed"
    },
    "tags": []
   },
   "source": [
    "Create a TensorBoard instnace to be used by the custom training job."
   ]
  },
  {
   "cell_type": "code",
   "execution_count": null,
   "id": "8a962dc4",
   "metadata": {
    "id": "OAe1xJeS_X3F",
    "papermill": {
     "duration": 2.766991,
     "end_time": "2022-09-24T04:36:11.452977",
     "exception": false,
     "start_time": "2022-09-24T04:36:08.685986",
     "status": "completed"
    },
    "tags": []
   },
   "outputs": [],
   "source": [
    "TENSORBOARD_NAME = \"[your-tensorboard-name]\"  # @param {type:\"string\"}\n",
    "\n",
    "if (\n",
    "    TENSORBOARD_NAME == \"\"\n",
    "    or TENSORBOARD_NAME is None\n",
    "    or TENSORBOARD_NAME == \"[your-tensorboard-name]\"\n",
    "):\n",
    "    TENSORBOARD_NAME = PROJECT_ID + \"-tb-\" + UUID\n",
    "\n",
    "tensorboard = aiplatform.Tensorboard.create(\n",
    "    display_name=TENSORBOARD_NAME, project=PROJECT_ID, location=REGION\n",
    ")\n",
    "TENSORBOARD_RESOURCE_NAME = tensorboard.gca_resource.name\n",
    "print(\"TensorBoard resource name:\", TENSORBOARD_RESOURCE_NAME)"
   ]
  },
  {
   "cell_type": "markdown",
   "id": "6c3596cd",
   "metadata": {
    "id": "mudxBDal_a_k",
    "papermill": {
     "duration": 0.015434,
     "end_time": "2022-09-24T04:36:11.484225",
     "exception": false,
     "start_time": "2022-09-24T04:36:11.468791",
     "status": "completed"
    },
    "tags": []
   },
   "source": [
    "Run the following example request to create your own custom training job using the container you just built and uploaded to Artifact Registry, and stream the training results to TensorBoard."
   ]
  },
  {
   "cell_type": "code",
   "execution_count": null,
   "id": "26c42164",
   "metadata": {
    "id": "wugHEC8czuBe",
    "papermill": {
     "duration": 516.736154,
     "end_time": "2022-09-24T04:44:48.235814",
     "exception": false,
     "start_time": "2022-09-24T04:36:11.499660",
     "status": "completed"
    },
    "tags": []
   },
   "outputs": [],
   "source": [
    "JOB_NAME = \"tensorboard-example-job-{}\".format(UUID)\n",
    "BASE_OUTPUT_DIR = \"{}/{}\".format(BUCKET_URI, JOB_NAME)\n",
    "\n",
    "job = aiplatform.CustomContainerTrainingJob(\n",
    "    display_name=JOB_NAME,\n",
    "    container_uri=IMAGE_URI,\n",
    "    project=PROJECT_ID,\n",
    "    location=REGION,\n",
    "    staging_bucket=BUCKET_URI,\n",
    ")\n",
    "\n",
    "job.run(\n",
    "    machine_type=\"n1-standard-8\",\n",
    "    replica_count=1,\n",
    "    service_account=SERVICE_ACCOUNT,\n",
    "    tensorboard=TENSORBOARD_RESOURCE_NAME,\n",
    ")"
   ]
  },
  {
   "cell_type": "markdown",
   "id": "b9cd9609",
   "metadata": {
    "id": "VfMsn_RnEtnj",
    "papermill": {
     "duration": 0.016427,
     "end_time": "2022-09-24T04:44:48.269135",
     "exception": false,
     "start_time": "2022-09-24T04:44:48.252708",
     "status": "completed"
    },
    "tags": []
   },
   "source": [
    "In Google Cloud console, you can monitor your training job at Vertex AI > Training > Custom Jobs. In each custom training job, near real time updated TensorBoard is available at `OPEN TENSORBOARD` button."
   ]
  },
  {
   "cell_type": "markdown",
   "id": "6e5dfd6c",
   "metadata": {
    "id": "Bmbjz-nUW7KE",
    "papermill": {
     "duration": 0.016163,
     "end_time": "2022-09-24T04:44:48.301742",
     "exception": false,
     "start_time": "2022-09-24T04:44:48.285579",
     "status": "completed"
    },
    "tags": []
   },
   "source": [
    "## Cleaning up\n",
    "\n",
    "To clean up all Google Cloud resources used in this project, you can [delete the Google Cloud project](https://cloud.google.com/resource-manager/docs/creating-managing-projects#shutting_down_projects) you used for the tutorial.\n",
    "\n",
    "Otherwise, **if you created the individual resources in the notebook** you can delete them as follow:"
   ]
  },
  {
   "cell_type": "code",
   "execution_count": null,
   "id": "f4121563",
   "metadata": {
    "id": "-LSKjrRqW-Bk",
    "papermill": {
     "duration": 10.046002,
     "end_time": "2022-09-24T04:44:58.363967",
     "exception": false,
     "start_time": "2022-09-24T04:44:48.317965",
     "status": "completed"
    },
    "tags": []
   },
   "outputs": [],
   "source": [
    "\n",
    "# Delete docker repository.\n",
    "! gcloud artifacts repositories delete $DOCKER_REPOSITORY --project {PROJECT_ID} --location {REGION} --quiet\n",
    "\n",
    "# Delete TensorBoard instance.\n",
    "! gcloud ai tensorboards delete {TENSORBOARD_RESOURCE_NAME}\n",
    "\n",
    "# Delete custom job.\n",
    "job.delete()\n",
    "\n",
    "# Delete GCS bucket.\n",
    "\n",
    "if \"BUCKET_NAME\" in globals():\n",
    "        ! gsutil rm -r $BUCKET_URI"
   ]
  }
 ],
 "metadata": {
  "colab": {
   "collapsed_sections": [],
   "name": "tensorboard_custom_training_with_custom_container.ipynb",
   "toc_visible": true
  },
  "kernelspec": {
   "display_name": "Python 3 (ipykernel)",
   "language": "python",
   "name": "python3"
  },
  "language_info": {
   "codemirror_mode": {
    "name": "ipython",
    "version": 3
   },
   "file_extension": ".py",
   "mimetype": "text/x-python",
   "name": "python",
   "nbconvert_exporter": "python",
   "pygments_lexer": "ipython3",
   "version": "3.9.2"
  },
  "papermill": {
   "default_parameters": {},
   "duration": 1468.400685,
   "end_time": "2022-09-24T04:44:58.904532",
   "environment_variables": {},
   "exception": null,
   "input_path": "notebooks/official/tensorboard/tensorboard_custom_training_with_custom_container.ipynb",
   "output_path": "notebooks/official/tensorboard/tensorboard_custom_training_with_custom_container.ipynb",
   "parameters": {},
   "start_time": "2022-09-24T04:20:30.503847",
   "version": "2.4.0"
  }
 },
 "nbformat": 4,
 "nbformat_minor": 5
}
