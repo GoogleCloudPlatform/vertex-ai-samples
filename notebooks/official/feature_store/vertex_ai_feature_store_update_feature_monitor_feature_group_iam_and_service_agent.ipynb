{
  "cells": [
    {
      "cell_type": "code",
      "execution_count": null,
      "metadata": {
        "id": "ur8xi4C7S06n"
      },
      "outputs": [],
      "source": [
        "# Copyright 2025 Google LLC\n",
        "#\n",
        "# Licensed under the Apache License, Version 2.0 (the \"License\");\n",
        "# you may not use this file except in compliance with the License.\n",
        "# You may obtain a copy of the License at\n",
        "#\n",
        "#     https://www.apache.org/licenses/LICENSE-2.0\n",
        "#\n",
        "# Unless required by applicable law or agreed to in writing, software\n",
        "# distributed under the License is distributed on an \"AS IS\" BASIS,\n",
        "# WITHOUT WARRANTIES OR CONDITIONS OF ANY KIND, either express or implied.\n",
        "# See the License for the specific language governing permissions and\n",
        "# limitations under the License."
      ]
    },
    {
      "cell_type": "markdown",
      "metadata": {
        "id": "JAPoU8Sm5E6e"
      },
      "source": [
        "# Update Feature Monitor, Feature Group IAM, and Feature Group Service Agent\n",
        "\n",
        "\n",
        "\n",
        "<table align=\"left\">\n",
        "  <td style=\"text-align: center\">\n",
        "    <a href=\"https://colab.research.google.com/github/GoogleCloudPlatform/vertex-ai-samples/blob/main/notebooks/official/feature_store/vertex_ai_feature_store_update_feature_monitor_feature_group_iam_and_service_agent.ipynb\">\n",
        "      <img src=\"https://cloud.google.com/ml-engine/images/colab-logo-32px.png\" alt=\"Google Colaboratory logo\"><br> Open in Colab\n",
        "    </a>\n",
        "  </td>\n",
        "  <td style=\"text-align: center\">\n",
        "    <a href=\"https://console.cloud.google.com/vertex-ai/colab/import/https:%2F%2Fraw.githubusercontent.com%2FGoogleCloudPlatform%2Fvertex-ai-samples%2Fmain%2Fnotebooks%2Fofficial%2Ffeature_store%2Fvertex_ai_feature_store_update_feature_monitor_feature_group_iam_and_service_agent.ipynb\">\n",
        "      <img width=\"32px\" src=\"https://cloud.google.com/ml-engine/images/colab-enterprise-logo-32px.png\" alt=\"Google Cloud Colab Enterprise logo\"><br> Open in Colab Enterprise\n",
        "    </a>\n",
        "  </td>    \n",
        "  <td style=\"text-align: center\">\n",
        "    <a href=\"https://console.cloud.google.com/vertex-ai/workbench/deploy-notebook?download_url=https://raw.githubusercontent.com/GoogleCloudPlatform/vertex-ai-samples/main/notebooks/official/feature_store/vertex_ai_feature_store_update_feature_monitor_feature_group_iam_and_service_agent.ipynb\">\n",
        "      <img src=\"https://lh3.googleusercontent.com/UiNooY4LUgW_oTvpsNhPpQzsstV5W8F7rYgxgGBD85cWJoLmrOzhVs_ksK_vgx40SHs7jCqkTkCk=e14-rj-sc0xffffff-h130-w32\" alt=\"Vertex AI logo\"><br> Open in Workbench\n",
        "    </a>\n",
        "  </td>\n",
        "  <td style=\"text-align: center\">\n",
        "    <a href=\"https://github.com/GoogleCloudPlatform/vertex-ai-samples/blob/main/notebooks/official/feature_store/vertex_ai_feature_store_update_feature_monitor_feature_group_iam_and_service_agent.ipynb\">\n",
        "      <img src=\"https://cloud.google.com/ml-engine/images/github-logo-32px.png\" alt=\"GitHub logo\"><br> View on GitHub\n",
        "    </a>\n",
        "  </td>\n",
        "</table>"
      ]
    },
    {
      "cell_type": "markdown",
      "metadata": {
        "id": "tvgnzT1CKxrO"
      },
      "source": [
        "## Overview\n",
        "\n",
        "In this tutorial, you learn how to update a feature monitor, configure feature group IAM Policy, and use a Feature Group Service Agent.\n",
        "\n",
        "Learn more about [Vertex AI Feature Store](https://cloud.google.com/vertex-ai/docs/featurestore/overview).\n",
        "\n",
        "The steps performed include:\n",
        "* Create a feature group, features, and a feature monitor.\n",
        "* A service account is created for each feature group when configured to use Feature Group Service Agent.\n",
        "* Get/List feature group API returns the auto-created service account. Users need to use the command `bq add-iam-policy-binding`  to grant `roles/bigquery.dataViewer` to the provided service account.\n",
        "\n",
        "## Note\n",
        "\n",
        "This is a Preview release. By using the feature, you acknowledge that you're aware of the open issues and that this preview is provided “as is” under the pre-GA terms of service."
      ]
    },
    {
      "cell_type": "markdown",
      "metadata": {
        "id": "61RBz8LLbxCR"
      },
      "source": [
        "## Get started"
      ]
    },
    {
      "cell_type": "markdown",
      "metadata": {
        "id": "No17Cw5hgx12"
      },
      "source": [
        "### Install Vertex AI SDK for Python and other required packages\n"
      ]
    },
    {
      "cell_type": "code",
      "execution_count": null,
      "metadata": {
        "id": "tFy3H3aPgx12"
      },
      "outputs": [],
      "source": [
        "! pip3 install --upgrade --quiet google-cloud-aiplatform\n"
      ]
    },
    {
      "cell_type": "markdown",
      "metadata": {
        "id": "R5Xep4W9lq-Z"
      },
      "source": [
        "### Restart runtime (Colab only)\n",
        "\n",
        "To use the newly installed packages, you must restart the runtime on Google Colab."
      ]
    },
    {
      "cell_type": "code",
      "execution_count": null,
      "metadata": {
        "id": "XRvKdaPDTznN"
      },
      "outputs": [],
      "source": [
        "import sys\n",
        "\n",
        "if \"google.colab\" in sys.modules:\n",
        "\n",
        "    import IPython\n",
        "\n",
        "    app = IPython.Application.instance()\n",
        "    app.kernel.do_shutdown(True)"
      ]
    },
    {
      "cell_type": "markdown",
      "metadata": {
        "id": "SbmM4z7FOBpM"
      },
      "source": [
        "<div class=\"alert alert-block alert-warning\">\n",
        "<b>⚠️ The kernel is going to restart. Wait until it's finished before continuing to the next step. ⚠️</b>\n",
        "</div>\n"
      ]
    },
    {
      "cell_type": "markdown",
      "metadata": {
        "id": "dmWOrTJ3gx13"
      },
      "source": [
        "### Authenticate your notebook environment (Colab only)\n",
        "\n",
        "Authenticate your environment on Google Colab.\n"
      ]
    },
    {
      "cell_type": "code",
      "execution_count": null,
      "metadata": {
        "id": "NyKGtVQjgx13"
      },
      "outputs": [],
      "source": [
        "import sys\n",
        "\n",
        "if \"google.colab\" in sys.modules:\n",
        "\n",
        "    from google.colab import auth\n",
        "\n",
        "    auth.authenticate_user()"
      ]
    },
    {
      "cell_type": "markdown",
      "metadata": {
        "id": "DF4l8DTdWgPY"
      },
      "source": [
        "### Set Google Cloud project information and initialize Vertex AI SDK for Python\n",
        "\n",
        "To get started using Vertex AI, you must have an existing Google Cloud project and [enable the Vertex AI API](https://console.cloud.google.com/flows/enableapi?apiid=aiplatform.googleapis.com). Learn more about [setting up a project and a development environment](https://cloud.google.com/vertex-ai/docs/start/cloud-environment)."
      ]
    },
    {
      "cell_type": "code",
      "execution_count": null,
      "metadata": {
        "id": "Nqwi-5ufWp_B"
      },
      "outputs": [],
      "source": [
        "PROJECT_ID = \"[your-project-id]\"  # @param {type:\"string\"}\n",
        "LOCATION = \"us-central1\"  # @param {type:\"string\"}\n",
        "LOCATION_PARENT = \"projects/\" + PROJECT_ID + \"/locations/\" + LOCATION\n",
        "\n",
        "import vertexai\n",
        "\n",
        "vertexai.init(project=PROJECT_ID, location=LOCATION)"
      ]
    },
    {
      "cell_type": "markdown",
      "metadata": {
        "id": "EdvJRUWRNGHE"
      },
      "source": [
        "## Update Feature Monitor, Feature Group IAM, and Feature Group Service Agent"
      ]
    },
    {
      "cell_type": "markdown",
      "metadata": {
        "id": "yCX0_WOJ2-Aq"
      },
      "source": [
        "Import libraries."
      ]
    },
    {
      "cell_type": "code",
      "execution_count": null,
      "metadata": {
        "id": "WjCDv5NS29jP"
      },
      "outputs": [],
      "source": [
        "from google.cloud.aiplatform_v1beta1.types import feature as feature_pb2\n",
        "from google.cloud.aiplatform_v1beta1.types import \\\n",
        "    feature_group as feature_group_pb2\n",
        "from google.cloud.aiplatform_v1beta1.types import \\\n",
        "    feature_monitor as feature_monitor_pb2\n",
        "from google.cloud.aiplatform_v1beta1.types import \\\n",
        "    featurestore_service as featurestore_service_pb2\n",
        "from google.cloud.aiplatform_v1beta1.types import io as io_pb2"
      ]
    },
    {
      "cell_type": "markdown",
      "metadata": {
        "id": "k_A3qvbkXUdf"
      },
      "source": [
        "Configure the necessary service clients:\n",
        "\n",
        "* [FeatureOnlineStoreAdminServiceClient](https://cloud.google.com/python/docs/reference/aiplatform/latest/google.cloud.aiplatform_v1beta1.services.feature_online_store_admin_service.FeatureOnlineStoreAdminServiceClient)\n",
        "* [FeatureRegistryServiceClient](https://cloud.google.com/python/docs/reference/aiplatform/latest/google.cloud.aiplatform_v1beta1.services.feature_registry_service.FeatureRegistryServiceClient)"
      ]
    },
    {
      "cell_type": "code",
      "execution_count": null,
      "metadata": {
        "id": "jHtCLfAFXjP5"
      },
      "outputs": [],
      "source": [
        "from google.cloud.aiplatform_v1beta1 import (\n",
        "    FeatureOnlineStoreAdminServiceClient, FeatureRegistryServiceClient)\n",
        "from google.iam.v1 import iam_policy_pb2, policy_pb2\n",
        "\n",
        "ENDPOINT = LOCATION + \"-aiplatform.googleapis.com\"\n",
        "feature_online_store_admin_service_client = FeatureOnlineStoreAdminServiceClient(\n",
        "    client_options={\"api_endpoint\": ENDPOINT}\n",
        ")\n",
        "feature_registry_service_client = FeatureRegistryServiceClient(\n",
        "    client_options={\"api_endpoint\": ENDPOINT}\n",
        ")"
      ]
    },
    {
      "cell_type": "markdown",
      "metadata": {
        "id": "orHBBTgJ0vsf"
      },
      "source": [
        "Generate sample data for this colab."
      ]
    },
    {
      "cell_type": "code",
      "execution_count": null,
      "metadata": {
        "id": "AdM9GebS0uiB"
      },
      "outputs": [],
      "source": [
        "DATASET_ID = \"test_data\"+\"_\"+LOCATION.replace('-', '_')  # @param {type:\"string\"}\n",
        "TABLE_ID = \"tableA\"  # @param {type:\"string\"}\n",
        "\n",
        "!bq mk --project_id={PROJECT_ID} --dataset_id={DATASET_ID} --location={LOCATION}\n",
        "!bq query --project_id={PROJECT_ID} --nouse_legacy_sql \\\n",
        "\"CREATE TABLE {DATASET_ID}.{TABLE_ID} AS (\" \\\n",
        "\"SELECT * FROM UNNEST(ARRAY<STRUCT<entity_id STRING, feature_timestamp TIMESTAMP, feature1 INT64, feature2 INT64>>[\" \\\n",
        "\"('test', TIMESTAMP('2024-02-26 08:00:00 UTC'), 10, 20),\" \\\n",
        "\"('test', TIMESTAMP('2024-02-27 08:00:00 UTC'), 30, 40),\" \\\n",
        "\"('test', TIMESTAMP('2024-02-28 08:00:00 UTC'), 50, 60)]))\""
      ]
    },
    {
      "cell_type": "markdown",
      "metadata": {
        "id": "rlxhrAPeX0G2"
      },
      "source": [
        "## Create `FeatureGroup` and `Feature` resources"
      ]
    },
    {
      "cell_type": "markdown",
      "metadata": {
        "id": "cNWR4LQEX5x5"
      },
      "source": [
        "Create a `FeatureGroup`."
      ]
    },
    {
      "cell_type": "code",
      "execution_count": null,
      "metadata": {
        "id": "9z-bjrgSX4WQ"
      },
      "outputs": [],
      "source": [
        "FEATURE_GROUP_ID = \"product_features_unique\"\n",
        "DATA_SOURCE = f\"bq://{PROJECT_ID}.{DATASET_ID}.{TABLE_ID}\"\n",
        "\n",
        "feature_group_config = feature_group_pb2.FeatureGroup(\n",
        "    big_query=feature_group_pb2.FeatureGroup.BigQuery(\n",
        "        big_query_source=io_pb2.BigQuerySource(input_uri=DATA_SOURCE),\n",
        "        entity_id_columns=[\"entity_id\"],\n",
        "    ),\n",
        "    service_agent_type=\"SERVICE_AGENT_TYPE_FEATURE_GROUP\",\n",
        "    description=\"This is a feature group for testing\",\n",
        ")\n",
        "\n",
        "create_group_lro = feature_registry_service_client.create_feature_group(\n",
        "    parent=f\"projects/{PROJECT_ID}/locations/{LOCATION}\",\n",
        "    feature_group_id=FEATURE_GROUP_ID,\n",
        "    feature_group=feature_group_config,\n",
        ")\n",
        "print(create_group_lro.result())\n",
        "\n",
        "# Verify feature group is created.\n",
        "feature_group = feature_registry_service_client.get_feature_group(\n",
        "    name=f\"projects/{PROJECT_ID}/locations/{LOCATION}/featureGroups/{FEATURE_GROUP_ID}\"\n",
        ")\n",
        "print(feature_group)"
      ]
    },
    {
      "cell_type": "markdown",
      "metadata": {
        "id": "SNQmBTddF4lT"
      },
      "source": [
        "Update the IAM policy on the BigQuery Source.\n",
        "* Note: The policy change typically takes 2 minutes, so this delay may be reduced. See [IAM docs](https://cloud.google.com/iam/docs/access-change-propagation) for more details."
      ]
    },
    {
      "cell_type": "code",
      "execution_count": null,
      "metadata": {
        "id": "EMJZkwooF04m"
      },
      "outputs": [],
      "source": [
        "SERVICE_ACCOUNT = feature_group.service_account_email\n",
        "!bq add-iam-policy-binding --project_id={PROJECT_ID} --member=serviceAccount:$SERVICE_ACCOUNT --role=roles/bigquery.dataViewer {DATASET_ID}.{TABLE_ID}\n",
        "\n",
        "# Wait 10 minutes for the newly updated IAM policy binding to become effective.\n",
        "from time import sleep\n",
        "\n",
        "sleep(600)"
      ]
    },
    {
      "cell_type": "markdown",
      "metadata": {
        "id": "mudDLsHfX93W"
      },
      "source": [
        "Create `Feature` resources."
      ]
    },
    {
      "cell_type": "code",
      "execution_count": null,
      "metadata": {
        "id": "dhxPqQ9bAy9f"
      },
      "outputs": [],
      "source": [
        "FEATURE_IDS = [\"feature1\", \"feature2\"]\n",
        "create_feature_lros = []\n",
        "for id in FEATURE_IDS:\n",
        "    create_feature_lros.append(\n",
        "        feature_registry_service_client.create_feature(\n",
        "            parent=f\"projects/{PROJECT_ID}/locations/{LOCATION}/featureGroups/{FEATURE_GROUP_ID}\",\n",
        "            feature_id=id,\n",
        "            feature=feature_pb2.Feature(),\n",
        "        )\n",
        "    )\n",
        "for lro in create_feature_lros:\n",
        "    print(lro.result())\n",
        "\n",
        "# Use list to verify the features are created.\n",
        "feature_registry_service_client.list_features(\n",
        "    parent=f\"projects/{PROJECT_ID}/locations/{LOCATION}/featureGroups/{FEATURE_GROUP_ID}\"\n",
        ")"
      ]
    },
    {
      "cell_type": "markdown",
      "metadata": {
        "id": "DRjmqnThA_fZ"
      },
      "source": [
        "Create a `FeatureMonitor`."
      ]
    },
    {
      "cell_type": "code",
      "execution_count": null,
      "metadata": {
        "id": "2riy8OTLBKfl"
      },
      "outputs": [],
      "source": [
        "FEATURE_MONITOR_ID = \"test_feature_monitor\"\n",
        "schedule_config = feature_monitor_pb2.ScheduleConfig(cron=\"0 12 * * *\")\n",
        "feature_selection_config = feature_monitor_pb2.FeatureSelectionConfig(\n",
        "    feature_configs=[\n",
        "        feature_monitor_pb2.FeatureSelectionConfig.FeatureConfig(\n",
        "            feature_id=\"feature1\", drift_threshold=0.3\n",
        "        ),\n",
        "        feature_monitor_pb2.FeatureSelectionConfig.FeatureConfig(\n",
        "            feature_id=\"feature2\", drift_threshold=0.3\n",
        "        ),\n",
        "    ]\n",
        ")\n",
        "create_feature_monitor_lro = feature_registry_service_client.create_feature_monitor(\n",
        "    parent=f\"projects/{PROJECT_ID}/locations/{LOCATION}/featureGroups/{FEATURE_GROUP_ID}\",\n",
        "    feature_monitor_id=FEATURE_MONITOR_ID,\n",
        "    feature_monitor=feature_monitor_pb2.FeatureMonitor(\n",
        "        schedule_config=schedule_config,\n",
        "        feature_selection_config=feature_selection_config,\n",
        "    ),\n",
        ")\n",
        "print(create_feature_monitor_lro.result())\n",
        "\n",
        "# Verify feature monitor is created.\n",
        "feature_registry_service_client.get_feature_monitor(\n",
        "    name=f\"projects/{PROJECT_ID}/locations/{LOCATION}/featureGroups/{FEATURE_GROUP_ID}/featureMonitors/{FEATURE_MONITOR_ID}\"\n",
        ")"
      ]
    },
    {
      "cell_type": "markdown",
      "metadata": {
        "id": "gCuxur4rFfPb"
      },
      "source": [
        "Update `FeatureMonitor`"
      ]
    },
    {
      "cell_type": "code",
      "execution_count": null,
      "metadata": {
        "id": "AZ4OMk6wFhNR"
      },
      "outputs": [],
      "source": [
        "schedule_config = feature_monitor_pb2.ScheduleConfig(cron=\"0 14 * * *\")\n",
        "update_feature_monitor_lro = feature_registry_service_client.update_feature_monitor(\n",
        "    feature_monitor=feature_monitor_pb2.FeatureMonitor(\n",
        "        name=f\"projects/{PROJECT_ID}/locations/{LOCATION}/featureGroups/{FEATURE_GROUP_ID}/featureMonitors/{FEATURE_MONITOR_ID}\",\n",
        "        description=\"Test description.\",\n",
        "        schedule_config=schedule_config,\n",
        "    ),\n",
        ")\n",
        "print(update_feature_monitor_lro.result())"
      ]
    },
    {
      "cell_type": "markdown",
      "metadata": {
        "id": "mjcr-YBxKjby"
      },
      "source": [
        "Configure IAM Policy for a feature group.\n"
      ]
    },
    {
      "cell_type": "code",
      "execution_count": null,
      "metadata": {
        "id": "0icuKY9IKioZ"
      },
      "outputs": [],
      "source": [
        "FEATURE_GROUP_RESOURCE_ID = LOCATION_PARENT + \"/featureGroups/\" + FEATURE_GROUP_ID\n",
        "# A specific user email or a group email can be used to add members to the IAM Policy.\n",
        "EXAMPLE_RESOURCE_VIEWER_EMAIL = (\n",
        "    \"google-cloud-eng-fte@google.com\"  # @param {type:\"string\"}\n",
        ")\n",
        "EXAMPLE_DATA_VIEWER_EMAIL = \"python-sample-owners@google.com\"  # @param {type:\"string\"}\n",
        "# A Service Account can also be added to the IAM Policy.\n",
        "EXAMPLE_ADMIN_SERVICE_ACCOUNT = \"samples@python-docs-samples-tests.iam.gserviceaccount.com\"  # @param {type:\"string\"}\n",
        "feature_registry_service_client.set_iam_policy(\n",
        "    request=iam_policy_pb2.SetIamPolicyRequest(\n",
        "        resource=FEATURE_GROUP_RESOURCE_ID,\n",
        "        policy=policy_pb2.Policy(\n",
        "            bindings=[\n",
        "                policy_pb2.Binding(\n",
        "                    role=\"roles/aiplatform.featurestoreResourceViewer\",\n",
        "                    members=[f\"group:{EXAMPLE_RESOURCE_VIEWER_EMAIL}\"],\n",
        "                ),\n",
        "                policy_pb2.Binding(\n",
        "                    role=\"roles/aiplatform.featurestoreDataViewer\",\n",
        "                    members=[f\"group:{EXAMPLE_DATA_VIEWER_EMAIL}\"],\n",
        "                ),\n",
        "                policy_pb2.Binding(\n",
        "                    role=\"roles/aiplatform.admin\",\n",
        "                    members=[f\"serviceAccount:{EXAMPLE_ADMIN_SERVICE_ACCOUNT}\"],\n",
        "                ),\n",
        "            ]\n",
        "        ),\n",
        "    )\n",
        ")"
      ]
    },
    {
      "cell_type": "markdown",
      "metadata": {
        "id": "BX9YwWx3LH_-"
      },
      "source": [
        "Confirm the updated IAM Policy."
      ]
    },
    {
      "cell_type": "code",
      "execution_count": null,
      "metadata": {
        "id": "2CcnFAeULDUq"
      },
      "outputs": [],
      "source": [
        "feature_registry_service_client.get_iam_policy(\n",
        "    request=iam_policy_pb2.GetIamPolicyRequest(resource=FEATURE_GROUP_RESOURCE_ID)\n",
        ")"
      ]
    },
    {
      "cell_type": "markdown",
      "metadata": {
        "id": "3qh9xggkDROe"
      },
      "source": [
        "Create feature monitor job."
      ]
    },
    {
      "cell_type": "code",
      "execution_count": null,
      "metadata": {
        "id": "ueaEt7_lC90V"
      },
      "outputs": [],
      "source": [
        "feature_registry_service_client.create_feature_monitor_job(\n",
        "    parent=f\"projects/{PROJECT_ID}/locations/{LOCATION}/featureGroups/{FEATURE_GROUP_ID}/featureMonitors/{FEATURE_MONITOR_ID}\"\n",
        ")"
      ]
    },
    {
      "cell_type": "markdown",
      "metadata": {
        "id": "7GnZn4d-mKBZ"
      },
      "source": [
        "Get feature statistics."
      ]
    },
    {
      "cell_type": "code",
      "execution_count": null,
      "metadata": {
        "id": "br7FhP-TmCrV"
      },
      "outputs": [],
      "source": [
        "feature_registry_service_client.get_feature(\n",
        "    featurestore_service_pb2.GetFeatureRequest(\n",
        "        name=f\"projects/{PROJECT_ID}/locations/{LOCATION}/featureGroups/{FEATURE_GROUP_ID}/features/feature1\",\n",
        "        feature_stats_and_anomaly_spec=feature_monitor_pb2.FeatureStatsAndAnomalySpec(\n",
        "            latest_stats_count=5\n",
        "        ),\n",
        "    )\n",
        ")"
      ]
    },
    {
      "cell_type": "markdown",
      "metadata": {
        "id": "2a4e033321ad"
      },
      "source": [
        "## Cleaning up\n",
        "To clean up all Google Cloud resources used in this project, you can [delete the Google Cloud project](https://cloud.google.com/resource-manager/docs/creating-managing-projects#shutting_down_projects) you used for the tutorial.\n",
        "\n",
        "Otherwise, you can delete the cluster you created in this tutorial."
      ]
    },
    {
      "cell_type": "code",
      "execution_count": null,
      "metadata": {
        "id": "L5TcyiDmGoUf"
      },
      "outputs": [],
      "source": [
        "# Delete features\n",
        "for feature_id in FEATURE_IDS:\n",
        "    feature_registry_service_client.delete_feature(\n",
        "        name=f\"projects/{PROJECT_ID}/locations/{LOCATION}/featureGroups/{FEATURE_GROUP_ID}/features/{feature_id}\"\n",
        "    )\n",
        "\n",
        "# Delete feature group\n",
        "feature_registry_service_client.delete_feature_group(\n",
        "    name=f\"projects/{PROJECT_ID}/locations/{LOCATION}/featureGroups/{FEATURE_GROUP_ID}\"\n",
        ")\n",
        "\n",
        "# Delete test data\n",
        "!bq rm --project_id={PROJECT_ID} -f {DATASET_ID}.{TABLE_ID}"
      ]
    }
  ],
  "metadata": {
    "colab": {
      "name": "vertex_ai_feature_store_update_feature_monitor_feature_group_iam_and_service_agent.ipynb",
      "toc_visible": true
    },
    "kernelspec": {
      "display_name": "Python 3",
      "name": "python3"
    }
  },
  "nbformat": 4,
  "nbformat_minor": 0
}
