{
  "cells": [
    {
      "cell_type": "code",
      "source": [
        "# Copyright 2024 Google LLC\n",
        "#\n",
        "# Licensed under the Apache License, Version 2.0 (the \"License\");\n",
        "# you may not use this file except in compliance with the License.\n",
        "# You may obtain a copy of the License at\n",
        "#\n",
        "#     https://www.apache.org/licenses/LICENSE-2.0\n",
        "#\n",
        "# Unless required by applicable law or agreed to in writing, software\n",
        "# distributed under the License is distributed on an \"AS IS\" BASIS,\n",
        "# WITHOUT WARRANTIES OR CONDITIONS OF ANY KIND, either express or implied.\n",
        "# See the License for the specific language governing permissions and\n",
        "# limitations under the License."
      ],
      "metadata": {
        "id": "kBcxtSnY6OKi"
      },
      "execution_count": null,
      "outputs": []
    },
    {
      "cell_type": "markdown",
      "source": [
        "# Vertex AI Feature Store FeatureView Service Agents Tutorial"
      ],
      "metadata": {
        "id": "vBSXW09S05My"
      }
    },
    {
      "cell_type": "markdown",
      "source": [
        "<table align=\"left\">\n",
        "<a href=\"https://colab.research.google.com/github/GoogleCloudPlatform/vertex-ai-samples/blob/main/notebooks/official/feature_store/vertex_ai_feature_store_feature_view_service_agents.ipynb\\\"><img src=\"https://cloud.google.com/ml-engine/images/colab-logo-32px.png\\\" alt=\"Colab logo\">Run in Colab\n",
        "<a href=\"https://github.com/GoogleCloudPlatform/vertex-ai-samples/blob/main/notebooks/official/feature_store/vertex_ai_feature_store_feature_view_service_agents.ipynb\\\"><img src=\"https://cloud.google.com/ml-engine/images/github-logo-32px.png\\\" alt=\"GitHub logo\">View on GitHub\n",
        "<a href=\"https://console.cloud.google.com/vertex-ai/workbench/deploy-notebook?download_url=https://raw.githubusercontent.com/GoogleCloudPlatform/vertex-ai-samples/main/notebooks/official/feature_store/vertex_ai_feature_store_feature_view_service_agents.ipynb\\\"><img src=\"https://lh3.googleusercontent.com/UiNooY4LUgW_oTvpsNhPpQzsstV5W8F7rYgxgGBD85cWJoLmrOzhVs_ksK_vgx40SHs7jCqkTkCk=e14-rj-sc0xffffff-h130-w32\" alt=\"Vertex AI logo\">Open in Vertex AI Workbench\""
      ],
      "metadata": {
        "id": "103lT16d4tLE"
      }
    },
    {
      "cell_type": "markdown",
      "source": [
        "## Overview\n",
        "In this tutorial, you learn how to enable FeatureView Service Agents and grant each FeatureView access to the specific source data that is used.\n",
        "\n",
        "Learn more about [Vertex AI Feature Store](https://cloud.google.com/vertex-ai/docs/featurestore/overview).\n",
        "\n",
        "## Objective\n",
        "In this tuturial, you learn how to use FeatureView Service Agents to enable fine-grained data access in an end to end workflow extracting data in `BigQuery` and serving features in `Vertex AI Feature Store`.\n",
        "\n",
        "This tutorial uses the following Google Cloud ML services and resources:\n",
        "* `Vertex AI Feature Store`\n",
        "\n",
        "The steps performed include:\n",
        "* When creating a FeatureView, pass service_agent_type = `SERVICE_AGENT_TYPE_FEATURE_VIEW`. The default is `SERVICE_AGENT_TYPE_PROJECT`.\n",
        "* A service account is created for each FeatureView. Such service account is used to sync data from BigQuery.\n",
        "* Get/List FeatureView API returns the auto-created service account. Users need to manually call `cloud projects add-iam-policy-binding` command to grant `roles/bigquery.dataViewer` to the service account.\n",
        "\n",
        "## Note\n",
        "This is a Preview release. By using the feature, you acknowledge that you're aware of the open issues and that this preview is provided “as is” under the pre-GA terms of service.\n",
        "\n",
        "## Costs\n",
        "This tutorial uses billable components of Google Cloud:\n",
        "* `Vertex AI`\n",
        "* `BigQuery`\n",
        "* `Cloud Storage`\n",
        "\n",
        "Learn about [Vertex AI pricing](https://cloud.google.com/vertex-ai/pricing) and [BigQuery pricing](https://cloud.google.com/bigquery/pricing) and use the [Pricing Calculator](https://cloud.google.com/products/calculator/) to generate a cost estimate based on your projected usage."
      ],
      "metadata": {
        "id": "E5wnTSHgyuFr"
      }
    },
    {
      "cell_type": "markdown",
      "source": [
        "## Installation\n",
        "\n",
        "Install the following packages required to execute this notebook."
      ],
      "metadata": {
        "id": "-HGNMzgHFy34"
      }
    },
    {
      "cell_type": "code",
      "source": [
        "# Install the packages\n",
        "! pip3 install --upgrade --quiet google-cloud-aiplatform\\\n",
        "                                 google-cloud-bigquery\\\n",
        "                                 db-dtypes"
      ],
      "metadata": {
        "id": "v37lUIm7-08A"
      },
      "execution_count": null,
      "outputs": []
    },
    {
      "cell_type": "markdown",
      "source": [
        "Install the Python SDK for the Feature Store 2.0 experimental release."
      ],
      "metadata": {
        "id": "HmBzV4hT-nFW"
      }
    },
    {
      "cell_type": "code",
      "execution_count": null,
      "metadata": {
        "id": "oL295lk7Xjll"
      },
      "outputs": [],
      "source": [
        "# Dowload and install the private SDK\n",
        "!pip uninstall google-cloud-aiplatform -y\n",
        "!gsutil cp gs://caip-featurestore-sdk/20240215/aiplatform-v1beta1-py.tar.gz .\n",
        "!pip install --user aiplatform-v1beta1-py.tar.gz\n",
        "!rm aiplatform-v1beta1-py.tar.gz"
      ]
    },
    {
      "cell_type": "markdown",
      "source": [
        "## Colab only: Uncomment the following cell to restart the kernel."
      ],
      "metadata": {
        "id": "UGJ_-HL1_P7w"
      }
    },
    {
      "cell_type": "code",
      "source": [
        "# # Automatically restart kernel after installs so that your environment can access the new packages\n",
        "# import IPython\n",
        "\n",
        "# app = IPython.Application.instance()\n",
        "# app.kernel.do_shutdown(True)"
      ],
      "metadata": {
        "id": "4QPx2cLv_TF0"
      },
      "execution_count": null,
      "outputs": []
    },
    {
      "cell_type": "markdown",
      "source": [
        "## Before you begin\n",
        "\n",
        "### Set up your Google Cloud project\n",
        "\n",
        "**The following steps are required, regardless of your notebook environment.**\n",
        "\n",
        "1. [Select or create a Google Cloud project](https://console.cloud.google.com/cloud-resource-manager). When you first create an account, you get a $300 free credit towards your compute/storage costs.\n",
        "\n",
        "2. [Make sure that billing is enabled for your project](https://cloud.google.com/billing/docs/how-to/modify-project).\n",
        "\n",
        "3. [Enable the Vertex AI API](https://console.cloud.google.com/flows/enableapi?apiid=aiplatform.googleapis.com).\n",
        "\n",
        "4. If you are running this notebook locally, you need to install the [Cloud SDK](https://cloud.google.com/sdk)."
      ],
      "metadata": {
        "id": "TZP9eoNCAAi4"
      }
    },
    {
      "cell_type": "markdown",
      "source": [
        "#### Set your project ID\n",
        "\n",
        "**If you don't know your project ID**, try the following:\n",
        "* Run `gcloud config list`.\n",
        "* Run `gcloud projects list`.\n",
        "* See the support page: [Locate the project ID](https://support.google.com/googleapi/answer/7014113)"
      ],
      "metadata": {
        "id": "7zkyTnWjACyk"
      }
    },
    {
      "cell_type": "code",
      "source": [
        "PROJECT_ID = \"ethangordon-fs\"  # @param {type:\"string\"}\n",
        "\n",
        "# Set the project id\n",
        "! gcloud config set project {PROJECT_ID}"
      ],
      "metadata": {
        "id": "_KQlSLb1AFEr"
      },
      "execution_count": null,
      "outputs": []
    },
    {
      "cell_type": "markdown",
      "metadata": {
        "id": "dTgGw1tU4T_E"
      },
      "source": [
        "### Set up env variable\n"
      ]
    },
    {
      "cell_type": "code",
      "source": [
        "REGION=\"us-central1\" # @param {type: \"string\"}\n",
        "VERTEX_AI_SERVICE=\"aiplatform.googleapis.com\"\n",
        "API_ENDPOINT=f\"{REGION}-{VERTEX_AI_SERVICE}\""
      ],
      "metadata": {
        "id": "8WR3oRPphcwv"
      },
      "execution_count": null,
      "outputs": []
    },
    {
      "cell_type": "markdown",
      "metadata": {
        "id": "1Z_1vxrS4quc"
      },
      "source": [
        "### Authenticate your Google Cloud account\n",
        "\n",
        "Depending on your Jupyter environment, you may have to manually authenticate. Follow the relevant instructions below."
      ]
    },
    {
      "cell_type": "markdown",
      "source": [
        "**1. Vertex AI Workbench**\n",
        "* Do nothing as you are already authenticated."
      ],
      "metadata": {
        "id": "xYej1E-9Acgz"
      }
    },
    {
      "cell_type": "markdown",
      "source": [
        "**2. Local JupyterLab instance, uncomment and run:**"
      ],
      "metadata": {
        "id": "_ii5t0qTAhDu"
      }
    },
    {
      "cell_type": "code",
      "source": [
        "# ! gcloud auth login"
      ],
      "metadata": {
        "id": "JQ7TXbsUAgF7"
      },
      "execution_count": null,
      "outputs": []
    },
    {
      "cell_type": "markdown",
      "metadata": {
        "id": "M0VJ-rsK4tu8"
      },
      "source": [
        "**3. Colab, uncomment and run:**"
      ]
    },
    {
      "cell_type": "code",
      "source": [
        "# from google.colab import auth\n",
        "# auth.authenticate_user()"
      ],
      "metadata": {
        "id": "gyUOLvGJAqYo"
      },
      "execution_count": null,
      "outputs": []
    },
    {
      "cell_type": "markdown",
      "source": [
        "**4. Service account or other**\n",
        "* See how to grant Cloud Storage permissions to your service account at https://cloud.google.com/storage/docs/gsutil/commands/iam#ch-examples."
      ],
      "metadata": {
        "id": "PsAbCyVSAs62"
      }
    },
    {
      "cell_type": "markdown",
      "source": [
        "### Import libraries"
      ],
      "metadata": {
        "id": "ZbAVOgZ5KVpi"
      }
    },
    {
      "cell_type": "code",
      "execution_count": null,
      "metadata": {
        "id": "jXuCQJwZrV5P"
      },
      "outputs": [],
      "source": [
        "from google.cloud.aiplatform_v1beta1 import FeatureOnlineStoreAdminServiceClient\n",
        "from google.cloud.aiplatform_v1beta1 import FeatureRegistryServiceClient\n",
        "from google.cloud.aiplatform_v1beta1 import FeatureOnlineStoreServiceClient\n",
        "from google.cloud.aiplatform_v1beta1.types import feature_online_store_admin_service as feature_online_store_admin_service_pb2\n",
        "from google.cloud.aiplatform_v1beta1.types import feature_registry_service as feature_registry_service_pb2\n",
        "from google.cloud.aiplatform_v1beta1.types import featurestore_service as featurestore_service_pb2\n",
        "from google.cloud.aiplatform_v1beta1.types import feature_online_store_service as feature_online_store_service_pb2\n",
        "from google.cloud.aiplatform_v1beta1.types import feature_group as feature_group_pb2\n",
        "from google.cloud.aiplatform_v1beta1.types import feature as feature_pb2\n",
        "from google.cloud.aiplatform_v1beta1.types import feature_online_store as feature_online_store_pb2\n",
        "from google.cloud.aiplatform_v1beta1.types import feature_view as feature_view_pb2\n",
        "from google.cloud.aiplatform_v1beta1.types import io as io_pb2\n",
        "\n",
        "admin_client = FeatureOnlineStoreAdminServiceClient(client_options={\"api_endpoint\": API_ENDPOINT})\n",
        "registry_client = FeatureRegistryServiceClient(client_options={\"api_endpoint\": API_ENDPOINT})\n",
        "data_client = FeatureOnlineStoreServiceClient(client_options={\"api_endpoint\": API_ENDPOINT})"
      ]
    },
    {
      "cell_type": "markdown",
      "source": [
        "## Create a Feature Group\n",
        "First, let's create a FeatureGroup"
      ],
      "metadata": {
        "id": "85tGwbXKkKCo"
      }
    },
    {
      "cell_type": "code",
      "source": [
        "DATASET_ID = \"test_data\"\n",
        "TABLE_ID = \"tableA\"\n",
        "DATA_SOURCE= f\"bq://{PROJECT_ID}.{DATASET_ID}.{TABLE_ID}\" # @param {type:\"string\"}\n",
        "\n",
        "FEATURE_GROUP_ID=\"test_fg\" # @param {type: \"string\"}\n",
        "\n",
        "FEATURE_IDS=[\"feature1\", \"feature2\"] # @param"
      ],
      "metadata": {
        "id": "AeRGYl--kk2s"
      },
      "execution_count": null,
      "outputs": []
    },
    {
      "cell_type": "code",
      "source": [
        "!bq mk --dataset_id={DATASET_ID}"
      ],
      "metadata": {
        "id": "IwOZIQNUggkm"
      },
      "execution_count": null,
      "outputs": []
    },
    {
      "cell_type": "code",
      "source": [
        "!bq query --nouse_legacy_sql \\\n",
        "\"CREATE TABLE {DATASET_ID}.{TABLE_ID} AS (\" \\\n",
        "\"SELECT * FROM UNNEST(ARRAY<STRUCT<entity_id STRING, feature_timestamp TIMESTAMP, feature1 INT64, feature2 INT64>>[\" \\\n",
        "\"('test', TIMESTAMP('2024-02-26 08:00:00 UTC'), 10, 20),\" \\\n",
        "\"('test', TIMESTAMP('2024-02-27 08:00:00 UTC'), 30, 40),\" \\\n",
        "\"('test', TIMESTAMP('2024-02-28 08:00:00 UTC'), 50, 60)]))\""
      ],
      "metadata": {
        "id": "NzZ-cOFSbxoC"
      },
      "execution_count": null,
      "outputs": []
    },
    {
      "cell_type": "code",
      "source": [
        "# Create a FeatureGroup\n",
        "feature_group_config = feature_group_pb2.FeatureGroup(\n",
        "  big_query=feature_group_pb2.FeatureGroup.BigQuery(\n",
        "    big_query_source=io_pb2.BigQuerySource(input_uri=DATA_SOURCE),\n",
        "    entity_id_columns=[\"entity_id\"]),\n",
        "  description=\"This is a FeatureGroup for testing\")\n",
        "\n",
        "create_group_lro = registry_client.create_feature_group(\n",
        "    feature_registry_service_pb2.CreateFeatureGroupRequest(\n",
        "        parent=f\"projects/{PROJECT_ID}/locations/{REGION}\",\n",
        "        feature_group_id=FEATURE_GROUP_ID,\n",
        "        feature_group = feature_group_config))\n",
        "print(create_group_lro.result())\n",
        "\n",
        "# Create features under the FeatureGroup\n",
        "create_feature_lros = []\n",
        "for id in FEATURE_IDS:\n",
        "  create_feature_lros.append(registry_client.create_feature(\n",
        "      featurestore_service_pb2.CreateFeatureRequest(\n",
        "          parent=f\"projects/{PROJECT_ID}/locations/{REGION}/featureGroups/{FEATURE_GROUP_ID}\",\n",
        "          feature_id=id,\n",
        "          feature=feature_pb2.Feature())))\n",
        "for lro in create_feature_lros:\n",
        "  print(lro.result())"
      ],
      "metadata": {
        "id": "YXuEczUzkIJ4"
      },
      "execution_count": null,
      "outputs": []
    },
    {
      "cell_type": "markdown",
      "source": [
        "Verify the created FeatureGroup"
      ],
      "metadata": {
        "id": "33gFGPm0koAB"
      }
    },
    {
      "cell_type": "code",
      "source": [
        "# Verify FeatureGroup is created.\n",
        "registry_client.get_feature_group(name=f\"projects/{PROJECT_ID}/locations/{REGION}/featureGroups/{FEATURE_GROUP_ID}\")"
      ],
      "metadata": {
        "id": "pmQ_wKRmknCT"
      },
      "execution_count": null,
      "outputs": []
    },
    {
      "cell_type": "markdown",
      "source": [
        "Verify the created Features"
      ],
      "metadata": {
        "id": "vTpUlRNrktEE"
      }
    },
    {
      "cell_type": "code",
      "source": [
        "# Use list to verify the features are created.\n",
        "registry_client.list_features(\n",
        "    parent=f\"projects/{PROJECT_ID}/locations/{REGION}/featureGroups/{FEATURE_GROUP_ID}\")"
      ],
      "metadata": {
        "id": "6qHAP0r5kuhx"
      },
      "execution_count": null,
      "outputs": []
    },
    {
      "cell_type": "markdown",
      "metadata": {
        "id": "GrPQH-KwrV5Q"
      },
      "source": [
        "### Create Feature Online Store\n",
        "\n",
        "Next, let's create a standard online store."
      ]
    },
    {
      "cell_type": "code",
      "source": [
        "FEATURE_ONLINE_STORE_ID = \"test_fos\" #@param {type:\"string\"}"
      ],
      "metadata": {
        "id": "9CWn1704uTR6"
      },
      "execution_count": null,
      "outputs": []
    },
    {
      "cell_type": "code",
      "execution_count": null,
      "metadata": {
        "id": "ycuXEY_SrV5Q"
      },
      "outputs": [],
      "source": [
        "online_store_config = feature_online_store_pb2.FeatureOnlineStore(\n",
        "  bigtable=feature_online_store_pb2.FeatureOnlineStore.Bigtable(\n",
        "    auto_scaling=feature_online_store_pb2.FeatureOnlineStore.Bigtable.AutoScaling(\n",
        "      min_node_count=1,\n",
        "      max_node_count=1,\n",
        "      cpu_utilization_target=50)))\n",
        "\n",
        "create_store_lro = admin_client.create_feature_online_store(cs\n",
        "    feature_online_store_admin_service_pb2.CreateFeatureOnlineStoreRequest(\n",
        "        parent=f\"projects/{PROJECT_ID}/locations/{REGION}\",\n",
        "        feature_online_store_id=FEATURE_ONLINE_STORE_ID,\n",
        "        feature_online_store = online_store_config))\n",
        "\n",
        "# Wait for the LRO to finish and get the LRO result.\n",
        "# This operation might take up to 10 minutes to complete.\n",
        "print(create_store_lro.result())"
      ]
    },
    {
      "cell_type": "markdown",
      "source": [
        "Verify the created FeatureOnlineStore"
      ],
      "metadata": {
        "id": "Fk_w2_pBnZW_"
      }
    },
    {
      "cell_type": "code",
      "execution_count": null,
      "metadata": {
        "id": "zDDZdSVzrV5Q"
      },
      "outputs": [],
      "source": [
        "# Use list to verify the store is created.\n",
        "admin_client.get_feature_online_store(\n",
        "    name=f\"projects/{PROJECT_ID}/locations/{REGION}/featureOnlineStores/{FEATURE_ONLINE_STORE_ID}\")"
      ]
    },
    {
      "cell_type": "markdown",
      "source": [
        "### Create FeatureView"
      ],
      "metadata": {
        "id": "iOZ8nXht-npF"
      }
    },
    {
      "cell_type": "code",
      "source": [
        "import json\n",
        "\n",
        "FEATURE_VIEW_ID=\"test_fv\" # @param {type: \"string\"}\n",
        "\n",
        "# A schedule will be created based on this cron setting.\n",
        "CRON_SCHEDULE=\"TZ=America/Los_Angeles 0 12 * * *\" # @param {type: \"string\"}\n",
        "\n",
        "# Create FeatureView\n",
        "feature_registry_source = feature_view_pb2.FeatureView.FeatureRegistrySource(\n",
        "    feature_groups = [\n",
        "        feature_view_pb2.FeatureView.FeatureRegistrySource.FeatureGroup(\n",
        "            feature_group_id=FEATURE_GROUP_ID,\n",
        "            feature_ids=FEATURE_IDS)\n",
        "        ])\n",
        "\n",
        "# Set cron schedule.\n",
        "sync_config = feature_view_pb2.FeatureView.SyncConfig(cron = CRON_SCHEDULE)\n",
        "\n",
        "create_view_lro = admin_client.create_feature_view(\n",
        "        parent=f\"projects/{PROJECT_ID}/locations/{REGION}/featureOnlineStores/{FEATURE_ONLINE_STORE_ID}\",\n",
        "        feature_view_id=\"test_fv\",\n",
        "        feature_view = feature_view_pb2.FeatureView(\n",
        "            feature_registry_source = feature_registry_source,\n",
        "            sync_config = sync_config,\n",
        "            service_agent_type=feature_view_pb2.FeatureView.ServiceAgentType.SERVICE_AGENT_TYPE_FEATURE_VIEW,\n",
        "))"
      ],
      "metadata": {
        "id": "Py-Xq7BDxz-G"
      },
      "execution_count": null,
      "outputs": []
    },
    {
      "cell_type": "code",
      "source": [
        "print(create_view_lro.result())"
      ],
      "metadata": {
        "id": "2_0qUZkGzKjx"
      },
      "execution_count": null,
      "outputs": []
    },
    {
      "cell_type": "markdown",
      "source": [
        "Verify the created FeatureView"
      ],
      "metadata": {
        "id": "ulWt3gm41Dni"
      }
    },
    {
      "cell_type": "code",
      "source": [
        "# Use list to verify the store is created.\n",
        "admin_client.get_feature_view(\n",
        "    name=f\"projects/{PROJECT_ID}/locations/{REGION}/featureOnlineStores/{FEATURE_ONLINE_STORE_ID}/featureViews/{FEATURE_VIEW_ID}\")"
      ],
      "metadata": {
        "id": "cGPqc1MF1FlE"
      },
      "execution_count": null,
      "outputs": []
    },
    {
      "cell_type": "markdown",
      "source": [
        "### Grant BigQuery access to the FeatureView Service Agent\n",
        "\n",
        "Next, let's grant the BigQuery Data Viewer role to the created FeatureView Service Agent. This takes two steps:\n",
        "1. Find the FeatureView `service_account_email`.\n",
        "2. Update the IAM policy on the BigQuery Source."
      ],
      "metadata": {
        "id": "RBMKndb7Mogn"
      }
    },
    {
      "cell_type": "code",
      "source": [
        "# Step 1: Find the FeatureView service_account_email.\n",
        "\n",
        "# call GetFeatureView\n",
        "feature_view = admin_client.get_feature_view(\n",
        "    name=f\"projects/{PROJECT_ID}/locations/{REGION}/featureOnlineStores/{FEATURE_ONLINE_STORE_ID}/featureViews/{FEATURE_VIEW_ID}\")\n",
        "SERVICE_ACCOUNT=feature_view.service_account_email"
      ],
      "metadata": {
        "id": "xaujhyKDMy6c"
      },
      "execution_count": null,
      "outputs": []
    },
    {
      "cell_type": "code",
      "source": [
        "# Step 2: Update the IAM policy on the BigQuery Source.\n",
        "\n",
        "!bq add-iam-policy-binding --member=serviceAccount:$SERVICE_ACCOUNT --role=roles/bigquery.dataViewer {DATASET_ID}.{TABLE_ID}"
      ],
      "metadata": {
        "id": "zg5-zjd8NHaO"
      },
      "execution_count": null,
      "outputs": []
    },
    {
      "cell_type": "markdown",
      "source": [
        "If you skip the above step, sync will fail.\n",
        "\n",
        "Let's run on-demand batch sync"
      ],
      "metadata": {
        "id": "vUzKZra0zUuG"
      }
    },
    {
      "cell_type": "code",
      "source": [
        "sync_response=admin_client.sync_feature_view(\n",
        "    feature_view=f\"projects/{PROJECT_ID}/locations/{REGION}/featureOnlineStores/{FEATURE_ONLINE_STORE_ID}/featureViews/{FEATURE_VIEW_ID}\")"
      ],
      "metadata": {
        "id": "8a4HzqtyzYJS"
      },
      "execution_count": null,
      "outputs": []
    },
    {
      "cell_type": "markdown",
      "source": [
        "Confirm the status of batch sync."
      ],
      "metadata": {
        "id": "chrQP9VfSHw2"
      }
    },
    {
      "cell_type": "code",
      "source": [
        "admin_client.get_feature_view_sync(name = sync_response.feature_view_sync)"
      ],
      "metadata": {
        "id": "sEE1HxAISRY_"
      },
      "execution_count": null,
      "outputs": []
    },
    {
      "cell_type": "markdown",
      "source": [
        "### Start online serving\n",
        "\n",
        "After the data sync is complete, use the `FetchFeatureValues` API to retrieve the data."
      ],
      "metadata": {
        "id": "QV75u0SS0-2b"
      }
    },
    {
      "cell_type": "code",
      "source": [
        "data_client = FeatureOnlineStoreServiceClient(\n",
        "    client_options={\"api_endpoint\": API_ENDPOINT})"
      ],
      "metadata": {
        "id": "q0SwbX1MiSPf"
      },
      "execution_count": null,
      "outputs": []
    },
    {
      "cell_type": "markdown",
      "source": [
        "Read the synced data from feature online store."
      ],
      "metadata": {
        "id": "oHzmqin0SMZA"
      }
    },
    {
      "cell_type": "code",
      "source": [
        "data_client.fetch_feature_values(\n",
        "    request=feature_online_store_service_pb2.FetchFeatureValuesRequest(\n",
        "        feature_view=f\"projects/{PROJECT_ID}/locations/{REGION}/featureOnlineStores/{FEATURE_ONLINE_STORE_ID}/featureViews/{FEATURE_VIEW_ID}\",\n",
        "        data_key=feature_online_store_service_pb2.FeatureViewDataKey(key=\"test\")\n",
        "    ))"
      ],
      "metadata": {
        "id": "ZUJib4x1SXlw"
      },
      "execution_count": null,
      "outputs": []
    },
    {
      "cell_type": "markdown",
      "metadata": {
        "id": "6J8bU-GmrV5i"
      },
      "source": [
        "# Clean up"
      ]
    },
    {
      "cell_type": "markdown",
      "source": [
        "To clean up all the Google Cloud resources used in this project, delete the individual resources you created in this tutorial."
      ],
      "metadata": {
        "id": "sXNEYNZiBcpj"
      }
    },
    {
      "cell_type": "code",
      "execution_count": null,
      "metadata": {
        "id": "uTa8-ut-rV5j"
      },
      "outputs": [],
      "source": [
        "# Delete FeatureView\n",
        "admin_client.delete_feature_view(\n",
        "  name=f\"projects/{PROJECT_ID}/locations/{REGION}/featureOnlineStores/{FEATURE_ONLINE_STORE_ID}/featureViews/{FEATURE_VIEW_ID}\")\n",
        "\n",
        "# Delete OnlineStore\n",
        "admin_client.delete_feature_online_store(\n",
        "  name=f\"projects/{PROJECT_ID}/locations/{REGION}/featureOnlineStores/{FEATURE_ONLINE_STORE_ID}\")\n",
        "\n",
        "# Delete Features\n",
        "for feature_id in FEATURE_IDS:\n",
        "  registry_client.delete_feature(name=f\"projects/{PROJECT_ID}/locations/{REGION}/featureGroups/{FEATURE_GROUP_ID}/features/{feature_id}\")\n",
        "\n",
        "# Delete FeatureGroup\n",
        "registry_client.delete_feature_group(name=f\"projects/{PROJECT_ID}/locations/{REGION}/featureGroups/{FEATURE_GROUP_ID}\")\n",
        "\n",
        "# Delete test data\n",
        "!bq rm -f {DATASET_ID}.{TABLE_ID}"
      ]
    },
    {
      "cell_type": "markdown",
      "source": [
        "After deleting resources, please search for the deleted resources in Dataplex search. Confirm the resource is no longer discoverable."
      ],
      "metadata": {
        "id": "eWk6DF5igzXN"
      }
    }
  ],
  "metadata": {
    "colab": {
      "provenance": [],
      "private_outputs": true
    },
    "environment": {
      "name": "common-cpu.m55",
      "type": "gcloud",
      "uri": "gcr.io/deeplearning-platform-release/base-cpu:m55"
    },
    "kernelspec": {
      "display_name": "Python 3",
      "language": "python",
      "name": "python3"
    },
    "language_info": {
      "codemirror_mode": {
        "name": "ipython",
        "version": 3
      },
      "file_extension": ".py",
      "mimetype": "text/x-python",
      "name": "python",
      "nbconvert_exporter": "python",
      "pygments_lexer": "ipython3",
      "version": "3.7.8"
    },
    "gpuClass": "standard"
  },
  "nbformat": 4,
  "nbformat_minor": 0
}