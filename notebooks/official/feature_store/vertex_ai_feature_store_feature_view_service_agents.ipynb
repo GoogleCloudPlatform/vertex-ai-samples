{
  "cells": [
    {
      "cell_type": "code",
      "execution_count": null,
      "metadata": {
        "id": "kBcxtSnY6OKi"
      },
      "outputs": [],
      "source": [
        "# Copyright 2024 Google LLC\n",
        "#\n",
        "# Licensed under the Apache License, Version 2.0 (the \"License\");\n",
        "# you may not use this file except in compliance with the License.\n",
        "# You may obtain a copy of the License at\n",
        "#\n",
        "#     https://www.apache.org/licenses/LICENSE-2.0\n",
        "#\n",
        "# Unless required by applicable law or agreed to in writing, software\n",
        "# distributed under the License is distributed on an \"AS IS\" BASIS,\n",
        "# WITHOUT WARRANTIES OR CONDITIONS OF ANY KIND, either express or implied.\n",
        "# See the License for the specific language governing permissions and\n",
        "# limitations under the License."
      ]
    },
    {
      "cell_type": "markdown",
      "metadata": {
        "id": "vBSXW09S05My"
      },
      "source": [
        "# Vertex AI Feature Store Feature View Service Agents Tutorial"
      ]
    },
    {
      "cell_type": "markdown",
      "metadata": {
        "id": "103lT16d4tLE"
      },
      "source": [
        "<table align=\"left\">\n",
        "<a href=\"https://colab.research.google.com/github/GoogleCloudPlatform/vertex-ai-samples/blob/main/notebooks/official/feature_store/vertex_ai_feature_store_feature_view_service_agents.ipynb\\\"><img src=\"https://cloud.google.com/ml-engine/images/colab-logo-32px.png\\\" alt=\"Colab logo\">Run in Colab\n",
        "<a href=\"https://github.com/GoogleCloudPlatform/vertex-ai-samples/blob/main/notebooks/official/feature_store/vertex_ai_feature_store_feature_view_service_agents.ipynb\\\"><img src=\"https://cloud.google.com/ml-engine/images/github-logo-32px.png\\\" alt=\"GitHub logo\">View on GitHub\n",
        "<a href=\"https://console.cloud.google.com/vertex-ai/workbench/deploy-notebook?download_url=https://raw.githubusercontent.com/GoogleCloudPlatform/vertex-ai-samples/main/notebooks/official/feature_store/vertex_ai_feature_store_feature_view_service_agents.ipynb\\\"><img src=\"https://lh3.googleusercontent.com/UiNooY4LUgW_oTvpsNhPpQzsstV5W8F7rYgxgGBD85cWJoLmrOzhVs_ksK_vgx40SHs7jCqkTkCk=e14-rj-sc0xffffff-h130-w32\" alt=\"Vertex AI logo\">Open in Vertex AI Workbench\""
      ]
    },
    {
      "cell_type": "markdown",
      "metadata": {
        "id": "E5wnTSHgyuFr"
      },
      "source": [
        "## Overview\n",
        "In this tutorial, you learn how to enable feature view Service Agents and grant each feature view access to the specific source data that is used.\n",
        "\n",
        "Learn more about [Vertex AI Feature Store](https://cloud.google.com/vertex-ai/docs/featurestore/latest/overview).\n",
        "\n",
        "## Objective\n",
        "In this tutorial, you learn how to use a dedicated service agent for a feature view in Vertex AI Feature Store. Using a dedicated service agent for a feature view, you grant access to extract feature data from BigQuery in an end-to-end feature serving workflow.\n",
        "\n",
        "This tutorial uses the following Google Cloud services and resources:\n",
        "* Vertex AI Feature Store\n",
        "\n",
        "You'll perform the following steps:\n",
        "* Create a feature view configured to use a dedicated service account.\n",
        "* A service account is created for each feature view. Such service account is used to sync data from BigQuery.\n",
        "* Get/List feature view API returns the auto-created service account. Users need to call `bq add-iam-policy-binding` command to grant `roles/bigquery.dataViewer` to the service account.\n",
        "\n",
        "## Note\n",
        "This is a Preview release. By using the feature, you acknowledge that you're aware of the open issues and that this preview is provided “as is” under the pre-GA terms of service.\n",
        "\n",
        "## Costs\n",
        "This tutorial uses billable components of Google Cloud:\n",
        "* `Vertex AI`\n",
        "* `BigQuery`\n",
        "\n",
        "Learn about [Vertex AI pricing](https://cloud.google.com/vertex-ai/pricing) and [BigQuery pricing](https://cloud.google.com/bigquery/pricing) and use the [Pricing Calculator](https://cloud.google.com/products/calculator/) to generate a cost estimate based on your projected usage."
      ]
    },
    {
      "cell_type": "markdown",
      "metadata": {
        "id": "-HGNMzgHFy34"
      },
      "source": [
        "## Installation\n",
        "\n",
        "Install the following packages required to execute this notebook."
      ]
    },
    {
      "cell_type": "code",
      "execution_count": null,
      "metadata": {
        "id": "v37lUIm7-08A"
      },
      "outputs": [],
      "source": [
        "# Install the packages\n",
        "! pip3 install --upgrade --quiet google-cloud-aiplatform\\\n",
        "                                 google-cloud-bigquery\\\n",
        "                                 db-dtypes"
      ]
    },
    {
      "cell_type": "markdown",
      "metadata": {
        "id": "UGJ_-HL1_P7w"
      },
      "source": [
        "## Colab only: Uncomment the following cell to restart the kernel."
      ]
    },
    {
      "cell_type": "code",
      "execution_count": null,
      "metadata": {
        "id": "4QPx2cLv_TF0"
      },
      "outputs": [],
      "source": [
        "# # Automatically restart kernel after installs so that your environment can access the new packages\n",
        "# import IPython\n",
        "\n",
        "# app = IPython.Application.instance()\n",
        "# app.kernel.do_shutdown(True)"
      ]
    },
    {
      "cell_type": "markdown",
      "metadata": {
        "id": "TZP9eoNCAAi4"
      },
      "source": [
        "## Before you begin\n",
        "\n",
        "### Set up your Google Cloud project\n",
        "\n",
        "**The following steps are required, regardless of your notebook environment.**\n",
        "\n",
        "1. [Select or create a Google Cloud project](https://console.cloud.google.com/cloud-resource-manager). When you first create an account, you get a $300 free credit towards your compute/storage costs.\n",
        "\n",
        "2. [Make sure that billing is enabled for your project](https://cloud.google.com/billing/docs/how-to/modify-project).\n",
        "\n",
        "3. [Enable the Vertex AI API](https://console.cloud.google.com/flows/enableapi?apiid=aiplatform.googleapis.com).\n",
        "\n",
        "4. If you are running this notebook locally, you need to install the [Cloud SDK](https://cloud.google.com/sdk)."
      ]
    },
    {
      "cell_type": "markdown",
      "metadata": {
        "id": "7zkyTnWjACyk"
      },
      "source": [
        "#### Set your project ID\n",
        "\n",
        "**If you don't know your project ID**, try the following:\n",
        "* Run `gcloud config list`.\n",
        "* Run `gcloud projects list`.\n",
        "* See the support page: [Locate the project ID](https://support.google.com/googleapi/answer/7014113)"
      ]
    },
    {
      "cell_type": "code",
      "execution_count": null,
      "metadata": {
        "id": "_KQlSLb1AFEr"
      },
      "outputs": [],
      "source": [
        "PROJECT_ID = \"[your-project-id]\"  # @param {type:\"string\"}\n",
        "\n",
        "# Set the project id\n",
        "! gcloud config set project {PROJECT_ID}"
      ]
    },
    {
      "cell_type": "markdown",
      "metadata": {
        "id": "Vbc1nfqhxvrS"
      },
      "source": [
        "#### Region\n",
        "\n",
        "You can also change the `REGION` variable used by Vertex AI. Learn more about [Vertex AI regions](https://cloud.google.com/vertex-ai/docs/general/locations). Note that the new API is currently only available in the following regions:\n",
        "* `us-central1`\n",
        "* `asia-southeast1`\n",
        "* `europe-west1`\n",
        "* `europe-west2`\n",
        "* `europe-west3`\n",
        "* `europe-west4`\n",
        "* `us-east1`\n",
        "* `us-east4`\n",
        "* `us-west1`\n",
        "* `us-west2`\n",
        "* `us-west3`\n",
        "* `europe-west8`\n",
        "* `asia-northeast2`"
      ]
    },
    {
      "cell_type": "code",
      "execution_count": null,
      "metadata": {
        "id": "7Ywl-59Sxy4h"
      },
      "outputs": [],
      "source": [
        "REGION = \"us-central1\"  # @param {type: \"string\"}"
      ]
    },
    {
      "cell_type": "markdown",
      "metadata": {
        "id": "1Z_1vxrS4quc"
      },
      "source": [
        "### Authenticate your Google Cloud account\n",
        "\n",
        "Depending on your Jupyter environment, you may have to manually authenticate. Follow the relevant instructions below."
      ]
    },
    {
      "cell_type": "markdown",
      "metadata": {
        "id": "xYej1E-9Acgz"
      },
      "source": [
        "**1. Vertex AI Workbench**\n",
        "* Do nothing as you are already authenticated."
      ]
    },
    {
      "cell_type": "markdown",
      "metadata": {
        "id": "_ii5t0qTAhDu"
      },
      "source": [
        "**2. Local JupyterLab instance, uncomment and run:**"
      ]
    },
    {
      "cell_type": "code",
      "execution_count": null,
      "metadata": {
        "id": "JQ7TXbsUAgF7"
      },
      "outputs": [],
      "source": [
        "# ! gcloud auth login"
      ]
    },
    {
      "cell_type": "markdown",
      "metadata": {
        "id": "M0VJ-rsK4tu8"
      },
      "source": [
        "**3. Colab, uncomment and run:**"
      ]
    },
    {
      "cell_type": "code",
      "execution_count": null,
      "metadata": {
        "id": "gyUOLvGJAqYo"
      },
      "outputs": [],
      "source": [
        "# from google.colab import auth\n",
        "# auth.authenticate_user()"
      ]
    },
    {
      "cell_type": "markdown",
      "metadata": {
        "id": "PsAbCyVSAs62"
      },
      "source": [
        "**4. Service account or other**\n",
        "* See how to grant Cloud Storage permissions to your service account at https://cloud.google.com/storage/docs/gsutil/commands/iam#ch-examples."
      ]
    },
    {
      "cell_type": "markdown",
      "metadata": {
        "id": "ZbAVOgZ5KVpi"
      },
      "source": [
        "### Import libraries"
      ]
    },
    {
      "cell_type": "code",
      "execution_count": null,
      "metadata": {
        "id": "jXuCQJwZrV5P"
      },
      "outputs": [],
      "source": [
        "from google.cloud import aiplatform\n",
        "from google.cloud.aiplatform_v1beta1 import (\n",
        "    FeatureOnlineStoreAdminServiceClient, FeatureOnlineStoreServiceClient,\n",
        "    FeatureRegistryServiceClient)\n",
        "from google.cloud.aiplatform_v1beta1.types import feature as feature_pb2\n",
        "from google.cloud.aiplatform_v1beta1.types import \\\n",
        "    feature_group as feature_group_pb2\n",
        "from google.cloud.aiplatform_v1beta1.types import \\\n",
        "    feature_online_store as feature_online_store_pb2\n",
        "from google.cloud.aiplatform_v1beta1.types import \\\n",
        "    feature_online_store_admin_service as \\\n",
        "    feature_online_store_admin_service_pb2\n",
        "from google.cloud.aiplatform_v1beta1.types import \\\n",
        "    feature_online_store_service as feature_online_store_service_pb2\n",
        "from google.cloud.aiplatform_v1beta1.types import \\\n",
        "    feature_registry_service as feature_registry_service_pb2\n",
        "from google.cloud.aiplatform_v1beta1.types import \\\n",
        "    feature_view as feature_view_pb2\n",
        "from google.cloud.aiplatform_v1beta1.types import \\\n",
        "    featurestore_service as featurestore_service_pb2\n",
        "from google.cloud.aiplatform_v1beta1.types import io as io_pb2"
      ]
    },
    {
      "cell_type": "markdown",
      "metadata": {
        "id": "S4nZTv4sx_wS"
      },
      "source": [
        "### Initialize Vertex AI SDK for Python\n",
        "\n",
        "Initialize the Vertex AI SDK for Python for your project."
      ]
    },
    {
      "cell_type": "code",
      "execution_count": null,
      "metadata": {
        "id": "MykgQklFx81S"
      },
      "outputs": [],
      "source": [
        "aiplatform.init(project=PROJECT_ID, location=REGION)\n",
        "\n",
        "API_ENDPOINT = f\"{REGION}-aiplatform.googleapis.com\"\n",
        "\n",
        "admin_client = FeatureOnlineStoreAdminServiceClient(\n",
        "    client_options={\"api_endpoint\": API_ENDPOINT}\n",
        ")\n",
        "registry_client = FeatureRegistryServiceClient(\n",
        "    client_options={\"api_endpoint\": API_ENDPOINT}\n",
        ")\n",
        "data_client = FeatureOnlineStoreServiceClient(\n",
        "    client_options={\"api_endpoint\": API_ENDPOINT}\n",
        ")"
      ]
    },
    {
      "cell_type": "markdown",
      "metadata": {
        "id": "aNNwV6quHGlT"
      },
      "source": [
        "Generate sample data for this colab."
      ]
    },
    {
      "cell_type": "code",
      "execution_count": null,
      "metadata": {
        "id": "sJL164n9HZsD"
      },
      "outputs": [],
      "source": [
        "DATASET_ID = \"test_data\"+\"_\"+REGION.replace('-', '_')  # @param {type:\"string\"}\n",
        "TABLE_ID = \"tableA\"  # @param {type:\"string\"}\n",
        "\n",
        "!bq mk --dataset_id={DATASET_ID} --location={REGION}\n",
        "!bq query --nouse_legacy_sql \\\n",
        "\"CREATE TABLE {DATASET_ID}.{TABLE_ID} AS (\" \\\n",
        "\"SELECT * FROM UNNEST(ARRAY<STRUCT<entity_id STRING, feature_timestamp TIMESTAMP, feature1 INT64, feature2 INT64>>[\" \\\n",
        "\"('test', TIMESTAMP('2024-02-26 08:00:00 UTC'), 10, 20),\" \\\n",
        "\"('test', TIMESTAMP('2024-02-27 08:00:00 UTC'), 30, 40),\" \\\n",
        "\"('test', TIMESTAMP('2024-02-28 08:00:00 UTC'), 50, 60)]))\""
      ]
    },
    {
      "cell_type": "markdown",
      "metadata": {
        "id": "85tGwbXKkKCo"
      },
      "source": [
        "## Create a Feature Group\n",
        "First, create a feature group."
      ]
    },
    {
      "cell_type": "code",
      "execution_count": null,
      "metadata": {
        "id": "AeRGYl--kk2s"
      },
      "outputs": [],
      "source": [
        "FEATURE_GROUP_ID = \"product_features_unique\"  # @param {type: \"string\"}\n",
        "\n",
        "FEATURE_IDS = [\"feature1\", \"feature2\"]  # @param\n",
        "\n",
        "DATA_SOURCE = f\"bq://{PROJECT_ID}.{DATASET_ID}.{TABLE_ID}\""
      ]
    },
    {
      "cell_type": "code",
      "execution_count": null,
      "metadata": {
        "id": "YXuEczUzkIJ4"
      },
      "outputs": [],
      "source": [
        "# Create a feature group\n",
        "feature_group_config = feature_group_pb2.FeatureGroup(\n",
        "    big_query=feature_group_pb2.FeatureGroup.BigQuery(\n",
        "        big_query_source=io_pb2.BigQuerySource(input_uri=DATA_SOURCE),\n",
        "        entity_id_columns=[\"entity_id\"],\n",
        "    ),\n",
        "    description=\"This is a feature group for testing\",\n",
        ")\n",
        "\n",
        "create_group_lro = registry_client.create_feature_group(\n",
        "    feature_registry_service_pb2.CreateFeatureGroupRequest(\n",
        "        parent=f\"projects/{PROJECT_ID}/locations/{REGION}\",\n",
        "        feature_group_id=FEATURE_GROUP_ID,\n",
        "        feature_group=feature_group_config,\n",
        "    )\n",
        ")\n",
        "print(create_group_lro.result())\n",
        "\n",
        "# Create features under the feature group\n",
        "create_feature_lros = []\n",
        "for id in FEATURE_IDS:\n",
        "    create_feature_lros.append(\n",
        "        registry_client.create_feature(\n",
        "            featurestore_service_pb2.CreateFeatureRequest(\n",
        "                parent=f\"projects/{PROJECT_ID}/locations/{REGION}/featureGroups/{FEATURE_GROUP_ID}\",\n",
        "                feature_id=id,\n",
        "                feature=feature_pb2.Feature(),\n",
        "            )\n",
        "        )\n",
        "    )\n",
        "for lro in create_feature_lros:\n",
        "    print(lro.result())"
      ]
    },
    {
      "cell_type": "markdown",
      "metadata": {
        "id": "33gFGPm0koAB"
      },
      "source": [
        "Verify the created feature group."
      ]
    },
    {
      "cell_type": "code",
      "execution_count": null,
      "metadata": {
        "id": "pmQ_wKRmknCT"
      },
      "outputs": [],
      "source": [
        "# Verify feature group is created.\n",
        "registry_client.get_feature_group(\n",
        "    name=f\"projects/{PROJECT_ID}/locations/{REGION}/featureGroups/{FEATURE_GROUP_ID}\"\n",
        ")"
      ]
    },
    {
      "cell_type": "markdown",
      "metadata": {
        "id": "vTpUlRNrktEE"
      },
      "source": [
        "Verify the created features."
      ]
    },
    {
      "cell_type": "code",
      "execution_count": null,
      "metadata": {
        "id": "6qHAP0r5kuhx"
      },
      "outputs": [],
      "source": [
        "# Use list to verify the features are created.\n",
        "registry_client.list_features(\n",
        "    parent=f\"projects/{PROJECT_ID}/locations/{REGION}/featureGroups/{FEATURE_GROUP_ID}\"\n",
        ")"
      ]
    },
    {
      "cell_type": "markdown",
      "metadata": {
        "id": "GrPQH-KwrV5Q"
      },
      "source": [
        "### Create Feature Online Store\n",
        "\n",
        "Next, create a standard online store."
      ]
    },
    {
      "cell_type": "code",
      "execution_count": null,
      "metadata": {
        "id": "9CWn1704uTR6"
      },
      "outputs": [],
      "source": [
        "FEATURE_ONLINE_STORE_ID = \"test_fos_unique\"  # @param {type:\"string\"}"
      ]
    },
    {
      "cell_type": "code",
      "execution_count": null,
      "metadata": {
        "id": "ycuXEY_SrV5Q"
      },
      "outputs": [],
      "source": [
        "online_store_config = feature_online_store_pb2.FeatureOnlineStore(\n",
        "    bigtable=feature_online_store_pb2.FeatureOnlineStore.Bigtable(\n",
        "        auto_scaling=feature_online_store_pb2.FeatureOnlineStore.Bigtable.AutoScaling(\n",
        "            min_node_count=1, max_node_count=1, cpu_utilization_target=50\n",
        "        )\n",
        "    )\n",
        ")\n",
        "\n",
        "create_store_lro = admin_client.create_feature_online_store(\n",
        "    feature_online_store_admin_service_pb2.CreateFeatureOnlineStoreRequest(\n",
        "        parent=f\"projects/{PROJECT_ID}/locations/{REGION}\",\n",
        "        feature_online_store_id=FEATURE_ONLINE_STORE_ID,\n",
        "        feature_online_store=online_store_config,\n",
        "    )\n",
        ")\n",
        "\n",
        "# Wait for the LRO to finish and get the LRO result.\n",
        "# This operation might take up to 10 minutes to complete.\n",
        "print(create_store_lro.result())"
      ]
    },
    {
      "cell_type": "markdown",
      "metadata": {
        "id": "Fk_w2_pBnZW_"
      },
      "source": [
        "Verify the created feature online store."
      ]
    },
    {
      "cell_type": "code",
      "execution_count": null,
      "metadata": {
        "id": "zDDZdSVzrV5Q"
      },
      "outputs": [],
      "source": [
        "# Use list to verify the store is created.\n",
        "admin_client.get_feature_online_store(\n",
        "    name=f\"projects/{PROJECT_ID}/locations/{REGION}/featureOnlineStores/{FEATURE_ONLINE_STORE_ID}\"\n",
        ")"
      ]
    },
    {
      "cell_type": "markdown",
      "metadata": {
        "id": "iOZ8nXht-npF"
      },
      "source": [
        "### Create Feature View"
      ]
    },
    {
      "cell_type": "code",
      "execution_count": null,
      "metadata": {
        "id": "q8BdSJSRGfQQ"
      },
      "outputs": [],
      "source": [
        "FEATURE_VIEW_ID = \"test_fv\"  # @param {type: \"string\"}\n",
        "\n",
        "# A schedule will be created based on this cron setting.\n",
        "CRON_SCHEDULE = \"TZ=America/Los_Angeles 0 12 * * *\"  # @param {type: \"string\"}"
      ]
    },
    {
      "cell_type": "code",
      "execution_count": null,
      "metadata": {
        "id": "Py-Xq7BDxz-G"
      },
      "outputs": [],
      "source": [
        "# Create Feature View\n",
        "feature_registry_source = feature_view_pb2.FeatureView.FeatureRegistrySource(\n",
        "    feature_groups=[\n",
        "        feature_view_pb2.FeatureView.FeatureRegistrySource.FeatureGroup(\n",
        "            feature_group_id=FEATURE_GROUP_ID, feature_ids=FEATURE_IDS\n",
        "        )\n",
        "    ]\n",
        ")\n",
        "\n",
        "# Set cron schedule.\n",
        "sync_config = feature_view_pb2.FeatureView.SyncConfig(cron=CRON_SCHEDULE)\n",
        "\n",
        "create_view_lro = admin_client.create_feature_view(\n",
        "    parent=f\"projects/{PROJECT_ID}/locations/{REGION}/featureOnlineStores/{FEATURE_ONLINE_STORE_ID}\",\n",
        "    feature_view_id=\"test_fv\",\n",
        "    feature_view=feature_view_pb2.FeatureView(\n",
        "        feature_registry_source=feature_registry_source,\n",
        "        sync_config=sync_config,\n",
        "        service_agent_type=feature_view_pb2.FeatureView.ServiceAgentType.SERVICE_AGENT_TYPE_FEATURE_VIEW,\n",
        "    ),\n",
        ")"
      ]
    },
    {
      "cell_type": "code",
      "execution_count": null,
      "metadata": {
        "id": "2_0qUZkGzKjx"
      },
      "outputs": [],
      "source": [
        "print(create_view_lro.result())"
      ]
    },
    {
      "cell_type": "markdown",
      "metadata": {
        "id": "ulWt3gm41Dni"
      },
      "source": [
        "Verify the created feature view."
      ]
    },
    {
      "cell_type": "code",
      "execution_count": null,
      "metadata": {
        "id": "cGPqc1MF1FlE"
      },
      "outputs": [],
      "source": [
        "# Use list to verify the store is created.\n",
        "admin_client.get_feature_view(\n",
        "    name=f\"projects/{PROJECT_ID}/locations/{REGION}/featureOnlineStores/{FEATURE_ONLINE_STORE_ID}/featureViews/{FEATURE_VIEW_ID}\"\n",
        ")"
      ]
    },
    {
      "cell_type": "markdown",
      "metadata": {
        "id": "RBMKndb7Mogn"
      },
      "source": [
        "### Grant BigQuery access to the Feature View Service Agent\n",
        "\n",
        "> Caution: Ensure that you complete the steps described in this section. Otherwise, sync will fail for the feature view.\n",
        "\n",
        "Next, grant the BigQuery Data Viewer role to the created feature view Service Agent. This takes two steps:\n",
        "1. Retrieve the `service_account_email` for the feature view.\n",
        "2. Update the IAM policy on the BigQuery Source."
      ]
    },
    {
      "cell_type": "code",
      "execution_count": null,
      "metadata": {
        "id": "xaujhyKDMy6c"
      },
      "outputs": [],
      "source": [
        "# Step 1: Retrieve the service account email for the feature view.\n",
        "\n",
        "# Get feature view\n",
        "feature_view = admin_client.get_feature_view(\n",
        "    name=f\"projects/{PROJECT_ID}/locations/{REGION}/featureOnlineStores/{FEATURE_ONLINE_STORE_ID}/featureViews/{FEATURE_VIEW_ID}\"\n",
        ")\n",
        "SERVICE_ACCOUNT = feature_view.service_account_email"
      ]
    },
    {
      "cell_type": "code",
      "execution_count": null,
      "metadata": {
        "id": "zg5-zjd8NHaO"
      },
      "outputs": [],
      "source": [
        "# Step 2: Update the IAM policy on the BigQuery Source.\n",
        "\n",
        "!bq add-iam-policy-binding --member=serviceAccount:$SERVICE_ACCOUNT --role=roles/bigquery.dataViewer {DATASET_ID}.{TABLE_ID}"
      ]
    },
    {
      "cell_type": "markdown",
      "metadata": {
        "id": "5wgXT0u3dIvv"
      },
      "source": [
        "Wait some time for the newly-added IAM policy binding to take effect.\n",
        "* Note: The policy change typically takes 2 minutes, so this delay may be reduced. See [IAM docs](https://cloud.google.com/iam/docs/access-change-propagation) for more details."
      ]
    },
    {
      "cell_type": "code",
      "execution_count": null,
      "metadata": {
        "id": "X1Akdz6pCiT5"
      },
      "outputs": [],
      "source": [
        "# Wait 10 minutes for the newly updated IAM policy binding to become effective.\n",
        "from time import sleep\n",
        "\n",
        "sleep(600)"
      ]
    },
    {
      "cell_type": "markdown",
      "metadata": {
        "id": "GdAIYPGmCh3s"
      },
      "source": [
        "Run on-demand batch sync."
      ]
    },
    {
      "cell_type": "code",
      "execution_count": null,
      "metadata": {
        "id": "8a4HzqtyzYJS"
      },
      "outputs": [],
      "source": [
        "sync_response = admin_client.sync_feature_view(\n",
        "    feature_view=f\"projects/{PROJECT_ID}/locations/{REGION}/featureOnlineStores/{FEATURE_ONLINE_STORE_ID}/featureViews/{FEATURE_VIEW_ID}\"\n",
        ")\n",
        "\n",
        "# Wait for sync completion\n",
        "while True:\n",
        "    feature_view_sync = admin_client.get_feature_view_sync(\n",
        "        name=sync_response.feature_view_sync\n",
        "    )\n",
        "    if feature_view_sync.run_time.end_time.seconds > 0:\n",
        "        status = \"Succeed\" if feature_view_sync.final_status.code == 0 else \"Failed\"\n",
        "        print(f\"Sync {status} for {feature_view_sync.name}.\")\n",
        "        break\n",
        "    else:\n",
        "        print(\"Sync ongoing, waiting for 30 seconds.\")\n",
        "    sleep(30)"
      ]
    },
    {
      "cell_type": "markdown",
      "metadata": {
        "id": "chrQP9VfSHw2"
      },
      "source": [
        "Confirm the status of batch sync."
      ]
    },
    {
      "cell_type": "code",
      "execution_count": null,
      "metadata": {
        "id": "cdCvuudTHE3c"
      },
      "outputs": [],
      "source": [
        "admin_client.get_feature_view_sync(name=sync_response.feature_view_sync)"
      ]
    },
    {
      "cell_type": "markdown",
      "metadata": {
        "id": "QV75u0SS0-2b"
      },
      "source": [
        "### Start online serving\n",
        "\n",
        "After the data sync is complete, use the `FetchFeatureValues` API to retrieve the data."
      ]
    },
    {
      "cell_type": "code",
      "execution_count": null,
      "metadata": {
        "id": "q0SwbX1MiSPf"
      },
      "outputs": [],
      "source": [
        "data_client = FeatureOnlineStoreServiceClient(\n",
        "    client_options={\"api_endpoint\": API_ENDPOINT}\n",
        ")"
      ]
    },
    {
      "cell_type": "markdown",
      "metadata": {
        "id": "oHzmqin0SMZA"
      },
      "source": [
        "Read the synced data from feature online store."
      ]
    },
    {
      "cell_type": "code",
      "execution_count": null,
      "metadata": {
        "id": "ZUJib4x1SXlw"
      },
      "outputs": [],
      "source": [
        "data_client.fetch_feature_values(\n",
        "    request=feature_online_store_service_pb2.FetchFeatureValuesRequest(\n",
        "        feature_view=f\"projects/{PROJECT_ID}/locations/{REGION}/featureOnlineStores/{FEATURE_ONLINE_STORE_ID}/featureViews/{FEATURE_VIEW_ID}\",\n",
        "        data_key=feature_online_store_service_pb2.FeatureViewDataKey(key=\"test\"),\n",
        "    )\n",
        ")"
      ]
    },
    {
      "cell_type": "markdown",
      "metadata": {
        "id": "6J8bU-GmrV5i"
      },
      "source": [
        "# Clean up"
      ]
    },
    {
      "cell_type": "markdown",
      "metadata": {
        "id": "sXNEYNZiBcpj"
      },
      "source": [
        "To clean up all the Google Cloud resources used in this project, delete the individual resources you created in this tutorial."
      ]
    },
    {
      "cell_type": "code",
      "execution_count": null,
      "metadata": {
        "id": "uTa8-ut-rV5j"
      },
      "outputs": [],
      "source": [
        "# Delete feature view\n",
        "admin_client.delete_feature_view(\n",
        "    name=f\"projects/{PROJECT_ID}/locations/{REGION}/featureOnlineStores/{FEATURE_ONLINE_STORE_ID}/featureViews/{FEATURE_VIEW_ID}\"\n",
        ")\n",
        "\n",
        "# Delete online store\n",
        "admin_client.delete_feature_online_store(\n",
        "    name=f\"projects/{PROJECT_ID}/locations/{REGION}/featureOnlineStores/{FEATURE_ONLINE_STORE_ID}\"\n",
        ")\n",
        "\n",
        "# Delete features\n",
        "for feature_id in FEATURE_IDS:\n",
        "    registry_client.delete_feature(\n",
        "        name=f\"projects/{PROJECT_ID}/locations/{REGION}/featureGroups/{FEATURE_GROUP_ID}/features/{feature_id}\"\n",
        "    )\n",
        "\n",
        "# Delete feature group\n",
        "registry_client.delete_feature_group(\n",
        "    name=f\"projects/{PROJECT_ID}/locations/{REGION}/featureGroups/{FEATURE_GROUP_ID}\"\n",
        ")\n",
        "\n",
        "# Delete test data\n",
        "!bq rm -f {DATASET_ID}.{TABLE_ID}"
      ]
    }
  ],
  "metadata": {
    "colab": {
      "name": "vertex_ai_feature_store_feature_view_service_agents.ipynb",
      "toc_visible": true
    },
    "kernelspec": {
      "display_name": "Python 3",
      "name": "python3"
    }
  },
  "nbformat": 4,
  "nbformat_minor": 0
}
