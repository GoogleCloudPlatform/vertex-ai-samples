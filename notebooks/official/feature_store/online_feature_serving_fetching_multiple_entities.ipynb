{
  "cells": [
    {
      "cell_type": "code",
      "execution_count": null,
      "metadata": {
        "id": "ur8xi4C7S06n"
      },
      "outputs": [],
      "source": [
        "# Copyright 2024 Google LLC\n",
        "#\n",
        "# Licensed under the Apache License, Version 2.0 (the \"License\");\n",
        "# you may not use this file except in compliance with the License.\n",
        "# You may obtain a copy of the License at\n",
        "#\n",
        "#     https://www.apache.org/licenses/LICENSE-2.0\n",
        "#\n",
        "# Unless required by applicable law or agreed to in writing, software\n",
        "# distributed under the License is distributed on an \"AS IS\" BASIS,\n",
        "# WITHOUT WARRANTIES OR CONDITIONS OF ANY KIND, either express or implied.\n",
        "# See the License for the specific language governing permissions and\n",
        "# limitations under the License."
      ]
    },
    {
      "cell_type": "markdown",
      "metadata": {
        "id": "JAPoU8Sm5E6e"
      },
      "source": [
        "## Fetch multiple entities\n",
        "\n",
        "<table align=\"left\">\n",
        "  <td style=\"text-align: center\">\n",
        "    <a href=\"https://colab.research.google.com/github/GoogleCloudPlatform/vertex-ai-samples/blob/main/notebooks/official/feature_store/online_feature_serving_fetching_multiple_entities.ipynb\">\n",
        "      <img src=\"https://cloud.google.com/ml-engine/images/colab-logo-32px.png\" alt=\"Google Colaboratory logo\"><br> Open in Colab\n",
        "    </a>\n",
        "  </td>\n",
        "  <td style=\"text-align: center\">\n",
        "    <a href=\"https://console.cloud.google.com/vertex-ai/colab/import/https:%2F%2Fraw.githubusercontent.com%2FGoogleCloudPlatform%2Fvertex-ai-samples%2Fmain%2Fnotebooks%2Fofficial%2Ffeature_store%2Fonline_feature_serving_fetching_multiple_entities.ipynb\">\n",
        "      <img width=\"32px\" src=\"https://cloud.google.com/ml-engine/images/colab-enterprise-logo-32px.png\" alt=\"Google Cloud Colab Enterprise logo\"><br> Open in Colab Enterprise\n",
        "    </a>\n",
        "  </td>    \n",
        "  <td style=\"text-align: center\">\n",
        "    <a href=\"https://console.cloud.google.com/vertex-ai/workbench/deploy-notebook?download_url=https://raw.githubusercontent.com/GoogleCloudPlatform/vertex-ai-samples/main/notebooks/official/feature_store/online_feature_serving_fetching_multiple_entities.ipynb\">\n",
        "      <img src=\"https://lh3.googleusercontent.com/UiNooY4LUgW_oTvpsNhPpQzsstV5W8F7rYgxgGBD85cWJoLmrOzhVs_ksK_vgx40SHs7jCqkTkCk=e14-rj-sc0xffffff-h130-w32\" alt=\"Vertex AI logo\"><br> Open in Workbench\n",
        "    </a>\n",
        "  </td>\n",
        "  <td style=\"text-align: center\">\n",
        "    <a href=\"https://github.com/GoogleCloudPlatform/vertex-ai-samples/blob/main/notebooks/official/feature_store/online_feature_serving_fetching_multiple_entities.ipynb\">\n",
        "      <img src=\"https://cloud.google.com/ml-engine/images/github-logo-32px.png\" alt=\"GitHub logo\"><br> View on GitHub\n",
        "    </a>\n",
        "  </td>\n",
        "</table>"
      ]
    },
    {
      "cell_type": "markdown",
      "metadata": {
        "id": "tvgnzT1CKxrO"
      },
      "source": [
        "## Overview\n",
        "\n",
        "In this tutorial, you will learn how to use the Vertex AI SDK for Python to\n",
        "fetch multiple entities (and their feature values) in real-time. This notebook\n",
        "introduces the *StreamingFetchFeatureValues* (SFFV) API for faster multi-entity\n",
        "lookup.\n",
        "\n",
        "This tutorial uses the following Google Cloud ML services and resources: \n",
        "\n",
        "* Vertex AI Feature Store\n",
        "* BigQuery\n",
        "\n",
        "The steps performed include the following:\n",
        "\n",
        "* Setup BigQuery data\n",
        "* Setup Feature Online Store\n",
        "* Setup Feature View\n",
        "* Fetch multiple entities\n",
        "* Cleanup"
      ]
    },
    {
      "cell_type": "markdown",
      "metadata": {
        "id": "61RBz8LLbxCR"
      },
      "source": [
        "## Get started"
      ]
    },
    {
      "cell_type": "markdown",
      "metadata": {
        "id": "No17Cw5hgx12"
      },
      "source": [
        "### Install Vertex AI SDK for Python and other required packages\n"
      ]
    },
    {
      "cell_type": "code",
      "execution_count": null,
      "metadata": {
        "id": "tFy3H3aPgx12"
      },
      "outputs": [],
      "source": [
        "! pip3 install --upgrade --quiet google-cloud-aiplatform bigframes"
      ]
    },
    {
      "cell_type": "markdown",
      "metadata": {
        "id": "R5Xep4W9lq-Z"
      },
      "source": [
        "### Restart runtime (Colab only)\n",
        "\n",
        "To use the newly installed packages, you must restart the runtime on Google Colab."
      ]
    },
    {
      "cell_type": "code",
      "execution_count": null,
      "metadata": {
        "id": "XRvKdaPDTznN"
      },
      "outputs": [],
      "source": [
        "import sys\n",
        "\n",
        "if \"google.colab\" in sys.modules:\n",
        "\n",
        "    import IPython\n",
        "\n",
        "    app = IPython.Application.instance()\n",
        "    app.kernel.do_shutdown(True)"
      ]
    },
    {
      "cell_type": "markdown",
      "metadata": {
        "id": "SbmM4z7FOBpM"
      },
      "source": [
        "<div class=\"alert alert-block alert-warning\">\n",
        "<b>⚠️ The kernel is going to restart. Wait until it's finished before continuing to the next step. ⚠️</b>\n",
        "</div>\n"
      ]
    },
    {
      "cell_type": "markdown",
      "metadata": {
        "id": "dmWOrTJ3gx13"
      },
      "source": [
        "### Authenticate your notebook environment (Colab only)\n",
        "\n",
        "Authenticate your environment on Google Colab.\n"
      ]
    },
    {
      "cell_type": "code",
      "execution_count": null,
      "metadata": {
        "id": "NyKGtVQjgx13"
      },
      "outputs": [],
      "source": [
        "import sys\n",
        "\n",
        "if \"google.colab\" in sys.modules:\n",
        "\n",
        "    from google.colab import auth\n",
        "\n",
        "    auth.authenticate_user()"
      ]
    },
    {
      "cell_type": "markdown",
      "metadata": {
        "id": "DF4l8DTdWgPY"
      },
      "source": [
        "### Set Google Cloud project information and initialize Vertex AI SDK for Python\n",
        "\n",
        "To get started using Vertex AI, you must have an existing Google Cloud project and [enable the Vertex AI API](https://console.cloud.google.com/flows/enableapi?apiid=aiplatform.googleapis.com). Learn more about [setting up a project and a development environment](https://cloud.google.com/vertex-ai/docs/start/cloud-environment)."
      ]
    },
    {
      "cell_type": "code",
      "execution_count": null,
      "metadata": {
        "id": "Nqwi-5ufWp_B"
      },
      "outputs": [],
      "source": [
        "PROJECT_ID = \"[your-project-id]\"  # @param {type:\"string\"}\n",
        "LOCATION = \"us-central1\"  # @param {type:\"string\"}\n",
        "\n",
        "\n",
        "import vertexai\n",
        "\n",
        "vertexai.init(project=PROJECT_ID, location=LOCATION)"
      ]
    },
    {
      "cell_type": "markdown",
      "metadata": {
        "id": "EdvJRUWRNGHE"
      },
      "source": [
        "## Multiple entity fetch tutorial"
      ]
    },
    {
      "cell_type": "markdown",
      "metadata": {
        "id": "33067053f38b"
      },
      "source": [
        "### Imports and IDs"
      ]
    },
    {
      "cell_type": "markdown",
      "metadata": {
        "id": "07c511c32166"
      },
      "source": [
        "Import the packages required to use setup and use real-time serving in the\n",
        "Vertex AI SDK for Python."
      ]
    },
    {
      "cell_type": "code",
      "execution_count": null,
      "metadata": {
        "id": "c8abe818393b"
      },
      "outputs": [],
      "source": [
        "import bigframes\n",
        "import bigframes.pandas\n",
        "from google.cloud import bigquery\n",
        "from vertexai.resources.preview.feature_store import (FeatureOnlineStore,\n",
        "                                                      FeatureView)\n",
        "from vertexai.resources.preview.feature_store import utils as fs_utils"
      ]
    },
    {
      "cell_type": "markdown",
      "metadata": {
        "id": "790dc61e551f"
      },
      "source": [
        "The following variables set BigQuery and Feature Store resources that will be\n",
        "used or created."
      ]
    },
    {
      "cell_type": "code",
      "execution_count": null,
      "metadata": {
        "id": "ac036ecfbc32"
      },
      "outputs": [],
      "source": [
        "BQ_DATASET_ID = \"sffv_dataset_unique\"  # @param {type:\"string\"}\n",
        "BQ_TABLE_ID = \"sffv_table_unique\"  # @param {type:\"string\"}\n",
        "BQ_TABLE_URI = f\"{PROJECT_ID}.{BQ_DATASET_ID}.{BQ_TABLE_ID}\"\n",
        "\n",
        "FOS_ID = \"sffv_fos_unique\"  # @param {type:\"string\"}\n",
        "FV_ID = \"sffv_fv_unique\"  # @param {type:\"string\"}"
      ]
    },
    {
      "cell_type": "markdown",
      "metadata": {
        "id": "cd580a0679ce"
      },
      "source": [
        "### Write BigQuery table for use in Feature View"
      ]
    },
    {
      "cell_type": "markdown",
      "metadata": {
        "id": "c1301a0b2e70"
      },
      "source": [
        "The following query queries table\n",
        "`bigquery-public-data.thelook_ecommerce.products` and builds usable data for use\n",
        "in the Feature View."
      ]
    },
    {
      "cell_type": "code",
      "execution_count": null,
      "metadata": {
        "id": "26097301e363"
      },
      "outputs": [],
      "source": [
        "QUERY = \"\"\"\n",
        "WITH\n",
        " product_order_agg AS (\n",
        "   SELECT cast(product_id as string) as entity_id,\n",
        "     countif(status in (\"Shipped\", \"Complete\")) as good_order_count,\n",
        "     countif(status in (\"Returned\", \"Cancelled\")) as bad_order_count\n",
        "   FROM `bigquery-public-data.thelook_ecommerce.order_items`\n",
        "   WHERE\n",
        "     timestamp_trunc(created_at, day) >= timestamp_trunc(timestamp_sub(CURRENT_TIMESTAMP(), interval 30 day), day) and\n",
        "     timestamp_trunc(created_at, day) < timestamp_trunc(CURRENT_TIMESTAMP(), day)\n",
        "   group by 1\n",
        "   order by entity_id),\n",
        " product_basic AS (\n",
        "   SELECT cast(id as string) AS entity_id,\n",
        "     lower(name) as name,\n",
        "     lower(category) as category,\n",
        "     lower(brand) as brand,\n",
        "     cost,\n",
        "     retail_price\n",
        "   FROM `bigquery-public-data.thelook_ecommerce.products`)\n",
        "SELECT *, current_timestamp() as feature_timestamp\n",
        "FROM product_basic\n",
        "LEFT OUTER JOIN product_order_agg\n",
        "USING (entity_id)\n",
        "\"\"\""
      ]
    },
    {
      "cell_type": "markdown",
      "metadata": {
        "id": "f66f837b08b1"
      },
      "source": [
        "Use BigQuery DataFrames to load our query."
      ]
    },
    {
      "cell_type": "code",
      "execution_count": null,
      "metadata": {
        "id": "1ff4481243a8"
      },
      "outputs": [],
      "source": [
        "session = bigframes.connect(\n",
        "    bigframes.BigQueryOptions(\n",
        "        project=PROJECT_ID,\n",
        "        location=\"US\",\n",
        "    )\n",
        ")\n",
        "df = session.read_gbq_query(QUERY)\n",
        "df.to_gbq(BQ_TABLE_URI, if_exists=\"replace\")"
      ]
    },
    {
      "cell_type": "markdown",
      "metadata": {
        "id": "a3a14795d7a8"
      },
      "source": [
        "Let's preview the data to be written to the table."
      ]
    },
    {
      "cell_type": "code",
      "execution_count": null,
      "metadata": {
        "id": "8733c7994437"
      },
      "outputs": [],
      "source": [
        "df.head()"
      ]
    },
    {
      "cell_type": "markdown",
      "metadata": {
        "id": "7d3bdc80d18d"
      },
      "source": [
        "And finally write the DataFrame to the target BigQuery table."
      ]
    },
    {
      "cell_type": "code",
      "execution_count": null,
      "metadata": {
        "id": "c691531c006f"
      },
      "outputs": [],
      "source": [
        "df.to_gbq(BQ_TABLE_URI, if_exists=\"replace\")"
      ]
    },
    {
      "cell_type": "markdown",
      "metadata": {
        "id": "818a36b9da86"
      },
      "source": [
        "### Create Feature Online Store"
      ]
    },
    {
      "cell_type": "markdown",
      "metadata": {
        "id": "12f06212c6e9"
      },
      "source": [
        "Create a Bigtable feature online store."
      ]
    },
    {
      "cell_type": "code",
      "execution_count": null,
      "metadata": {
        "id": "1f915ddd4669"
      },
      "outputs": [],
      "source": [
        "fos: FeatureOnlineStore = FeatureOnlineStore.create_bigtable_store(FOS_ID)"
      ]
    },
    {
      "cell_type": "markdown",
      "metadata": {
        "id": "1ee60189d98a"
      },
      "source": [
        "### Create Feature View"
      ]
    },
    {
      "cell_type": "markdown",
      "metadata": {
        "id": "5a441abc23e5"
      },
      "source": [
        "Under the previously created feature online store, create a feature view which\n",
        "pulls data from the BigQuery table."
      ]
    },
    {
      "cell_type": "code",
      "execution_count": null,
      "metadata": {
        "id": "0dba1c02883c"
      },
      "outputs": [],
      "source": [
        "fv: FeatureView = fos.create_feature_view(\n",
        "    FV_ID,\n",
        "    source=fs_utils.FeatureViewBigQuerySource(\n",
        "        uri=f\"bq://{BQ_TABLE_URI}\",\n",
        "        entity_id_columns=[\"entity_id\"],\n",
        "    ),\n",
        ")"
      ]
    },
    {
      "cell_type": "markdown",
      "metadata": {
        "id": "c71964219962"
      },
      "source": [
        "### Sync the feature view"
      ]
    },
    {
      "cell_type": "markdown",
      "metadata": {
        "id": "c98722d92844"
      },
      "source": [
        "Trigger the data sync for the feature view."
      ]
    },
    {
      "cell_type": "code",
      "execution_count": null,
      "metadata": {
        "id": "8fb9774db748"
      },
      "outputs": [],
      "source": [
        "fv_sync = fv.sync()"
      ]
    },
    {
      "cell_type": "markdown",
      "metadata": {
        "id": "f66ef58438d8"
      },
      "source": [
        "Wait for the feature view sync to be complete."
      ]
    },
    {
      "cell_type": "code",
      "execution_count": null,
      "metadata": {
        "id": "9ee5be32ada4"
      },
      "outputs": [],
      "source": [
        "import time\n",
        "\n",
        "while True:\n",
        "    fv_sync = FeatureView.FeatureViewSync(fv_sync.resource_name)\n",
        "    end_time = fv_sync._gca_resource.run_time.end_time.seconds\n",
        "    if end_time > 0:\n",
        "        status = \"Success\" if fv_sync._gca_resource.final_status.code == 0 else \"Failed\"\n",
        "        print(f\"Sync: {status}\")\n",
        "        break\n",
        "\n",
        "    print(\"Waiting for FeatureViewSync...\")\n",
        "    time.sleep(10)\n",
        "\n",
        "FeatureView.FeatureViewSync(fv_sync.resource_name)._gca_resource"
      ]
    },
    {
      "cell_type": "markdown",
      "metadata": {
        "id": "f9ecae3005df"
      },
      "source": [
        "### Reading multiple entities\n",
        "\n",
        "The following sections demonstrate a few different ways to read multiple entities. Using the FetchFeatureValues API results in higher latency due to sequential calls - using threads slightly reduces latency. Using the StreamingFetchFeatureValues API reduces latency greatly as batching of reads is done by the Feature Store server."
      ]
    },
    {
      "cell_type": "markdown",
      "metadata": {
        "id": "5d4f1da9a621"
      },
      "source": [
        "Create the client so read latency is not affected by gRPC channel creation. Inspecting the output can help check that data is synced and present in the FeatureView. If a NOT_FOUND error is received, then certain server-side caches likely have not expired - please retry the read."
      ]
    },
    {
      "cell_type": "code",
      "execution_count": null,
      "metadata": {
        "id": "8b271366933e"
      },
      "outputs": [],
      "source": [
        "fv.read(\"1\")"
      ]
    },
    {
      "cell_type": "markdown",
      "metadata": {
        "id": "849d24d973a4"
      },
      "source": [
        "#### Using FetchFeatureValues API"
      ]
    },
    {
      "cell_type": "markdown",
      "metadata": {
        "id": "4f61f7ab55d1"
      },
      "source": [
        "##### Sequential call"
      ]
    },
    {
      "cell_type": "markdown",
      "metadata": {
        "id": "af332090a053"
      },
      "source": [
        "Create a helper function to read multiple entities by issuing sequential read calls."
      ]
    },
    {
      "cell_type": "code",
      "execution_count": null,
      "metadata": {
        "id": "906429990d0b"
      },
      "outputs": [],
      "source": [
        "def read_multiple_sequential(low, high):\n",
        "    return list(map(fv.read, [[str(i)] for i in range(low, high)]))"
      ]
    },
    {
      "cell_type": "markdown",
      "metadata": {
        "id": "e08496e02339"
      },
      "source": [
        "The following fetches entities 1-10. The `%%timeit` magic command times the execution of the cell. This allows rough latency & performance estimates."
      ]
    },
    {
      "cell_type": "code",
      "execution_count": null,
      "metadata": {
        "id": "540bf94d3593"
      },
      "outputs": [],
      "source": [
        "%%timeit\n",
        "read_multiple_sequential(1, 11)"
      ]
    },
    {
      "cell_type": "markdown",
      "metadata": {
        "id": "add20060f5d3"
      },
      "source": [
        "##### Using thread pool"
      ]
    },
    {
      "cell_type": "markdown",
      "metadata": {
        "id": "52745dc3d2ec"
      },
      "source": [
        "Create a helper function to read multiple entities by issuing concurrent read\n",
        "calls by using a thread pool."
      ]
    },
    {
      "cell_type": "code",
      "execution_count": null,
      "metadata": {
        "id": "e2eda4d39bfc"
      },
      "outputs": [],
      "source": [
        "from concurrent.futures import ThreadPoolExecutor\n",
        "\n",
        "\n",
        "def read_multiple_with_thread_pool(low, high):\n",
        "    with ThreadPoolExecutor() as e:\n",
        "        futures = []\n",
        "        for i in range(low, high):\n",
        "            futures.append(e.submit(fv.read, [\"1\"]))\n",
        "        return [f.result() for f in futures]"
      ]
    },
    {
      "cell_type": "markdown",
      "metadata": {
        "id": "362a4c372178"
      },
      "source": [
        "Fetch entities 1-10 concurrently using the thread pool."
      ]
    },
    {
      "cell_type": "code",
      "execution_count": null,
      "metadata": {
        "id": "311e602d0602"
      },
      "outputs": [],
      "source": [
        "%%timeit\n",
        "read_multiple_with_thread_pool(1, 11)"
      ]
    },
    {
      "cell_type": "markdown",
      "metadata": {
        "id": "68babea4545e"
      },
      "source": [
        "#### Using the StreamingFetchFeatureValues API"
      ]
    },
    {
      "cell_type": "markdown",
      "metadata": {
        "id": "bfbfb1bcf5c5"
      },
      "source": [
        "##### Setup Helper function\n",
        "\n",
        "Create a function that helps with managing some of the details of using a Streaming gRPC\n",
        "API."
      ]
    },
    {
      "cell_type": "code",
      "execution_count": null,
      "metadata": {
        "id": "853e8f32a33b"
      },
      "outputs": [],
      "source": [
        "from typing import List\n",
        "\n",
        "from google.cloud.aiplatform_v1beta1 import FeatureOnlineStoreServiceClient\n",
        "from google.cloud.aiplatform_v1beta1.types import \\\n",
        "    feature_online_store_service as feature_online_store_service_pb2\n",
        "\n",
        "\n",
        "def sffv(data_client, feature_view, keys_list: List[List[str]]):\n",
        "    \"\"\"Helper function\"\"\"\n",
        "\n",
        "    def request_generator(keys_list):\n",
        "        for keys in keys_list:\n",
        "            data_keys = [\n",
        "                feature_online_store_service_pb2.FeatureViewDataKey(key=key)\n",
        "                for key in keys\n",
        "            ]\n",
        "            request = (\n",
        "                feature_online_store_service_pb2.StreamingFetchFeatureValuesRequest(\n",
        "                    feature_view=feature_view,\n",
        "                    data_keys=data_keys,\n",
        "                )\n",
        "            )\n",
        "            yield request\n",
        "\n",
        "    responses = data_client.streaming_fetch_feature_values(\n",
        "        requests=request_generator(keys_list)\n",
        "    )\n",
        "    return [response for response in responses]"
      ]
    },
    {
      "cell_type": "markdown",
      "metadata": {
        "id": "6e450f675753"
      },
      "source": [
        "##### Initialize data client"
      ]
    },
    {
      "cell_type": "code",
      "execution_count": null,
      "metadata": {
        "id": "d16385be6bae"
      },
      "outputs": [],
      "source": [
        "API_ENDPOINT = f\"{LOCATION}-aiplatform.googleapis.com\"\n",
        "data_client = FeatureOnlineStoreServiceClient(\n",
        "    client_options={\"api_endpoint\": API_ENDPOINT}\n",
        ")"
      ]
    },
    {
      "cell_type": "markdown",
      "metadata": {
        "id": "c3449d5ddf37"
      },
      "source": [
        "##### Fetch multiple entities using StreamingFetch"
      ]
    },
    {
      "cell_type": "markdown",
      "metadata": {
        "id": "be6e3504589e"
      },
      "source": [
        "Fetch entities 1-10 using the `StreamingFetchFeatureValues` API."
      ]
    },
    {
      "cell_type": "code",
      "execution_count": null,
      "metadata": {
        "id": "ad24b87f79fb"
      },
      "outputs": [],
      "source": [
        "%%timeit\n",
        "sffv(\n",
        "    data_client=data_client,\n",
        "    feature_view=fv.resource_name,\n",
        "    keys_list=[[f\"{num}\" for num in range(1, 11)]],\n",
        ")"
      ]
    },
    {
      "cell_type": "markdown",
      "metadata": {
        "id": "d0032be9c2d6"
      },
      "source": [
        "Read 1000 entities using the SFFV API. The latency\n",
        "increases, but should roughly be 100ms-200ms. You can further improve this by changing the way the keys are grouped."
      ]
    },
    {
      "cell_type": "code",
      "execution_count": null,
      "metadata": {
        "id": "2a2f6dfd83f1"
      },
      "outputs": [],
      "source": [
        "%%timeit\n",
        "sffv(\n",
        "    data_client=data_client,\n",
        "    feature_view=fv.resource_name,\n",
        "    keys_list=[[f\"{num}\" for num in range(1, 1001)]],\n",
        ")"
      ]
    },
    {
      "cell_type": "markdown",
      "metadata": {
        "id": "e3dcc9bb38c0"
      },
      "source": [
        "##### Changing grouping of keys (batch size tuning)\n",
        "\n",
        "In the `keys_list` argument to `sffv()`, change the grouping of the keys. This affects how Vertex AI Feature Store reads the keys based on the request.\n",
        "\n",
        "The following `keys_list` list tells Vertex AI Feature Store to perform two reads. During the first read, Vertex AI Feature Store reads entities 1-500. During the second read, Vertex AI Feature Store reads entities 501-1000. Placing contiguous entities in the same read will help reduce latency."
      ]
    },
    {
      "cell_type": "code",
      "execution_count": null,
      "metadata": {
        "id": "baab4720ea2b"
      },
      "outputs": [],
      "source": [
        "%%timeit\n",
        "sffv(\n",
        "    data_client=data_client,\n",
        "    feature_view=fv.resource_name,\n",
        "    keys_list=[\n",
        "        [f\"{num}\" for num in range(1, 501)],\n",
        "        [f\"{num}\" for num in range(501, 1001)],\n",
        "    ],\n",
        ")"
      ]
    },
    {
      "cell_type": "markdown",
      "metadata": {
        "id": "119fc46b49b5"
      },
      "source": [
        "You can try your own \"batch size\" to see what works best."
      ]
    },
    {
      "cell_type": "code",
      "execution_count": null,
      "metadata": {
        "id": "6d587dde7c0f"
      },
      "outputs": [],
      "source": [
        "%%timeit\n",
        "batch_size = 50  # @param {type:\"number\"}\n",
        "sffv(\n",
        "    data_client=data_client,\n",
        "    feature_view=fv.resource_name,\n",
        "    keys_list=[\n",
        "        [f\"{num}\" for num in range(i, i + batch_size + 1)]\n",
        "        for i in range(1, 1001, batch_size)\n",
        "    ],\n",
        ")"
      ]
    },
    {
      "cell_type": "markdown",
      "metadata": {
        "id": "235f1ada156d"
      },
      "source": [
        "#### Using StreamingFetchFeatureValues with REST\n",
        "\n",
        "The following is an example of using the `StreamingFetchFeatureValues` API via REST."
      ]
    },
    {
      "cell_type": "markdown",
      "metadata": {
        "id": "e11a0d34bff2"
      },
      "source": [
        "The following two print statements will print details that need to be copied into the curl command."
      ]
    },
    {
      "cell_type": "code",
      "execution_count": null,
      "metadata": {
        "id": "466f2134316f"
      },
      "outputs": [],
      "source": [
        "print(\n",
        "    f\"URL: https://us-central1-aiplatform.googleapis.com/v1beta1/{fv.resource_name}:streamingFetchFeatureValues\"\n",
        ")  # Copy output into {URL}\n",
        "\n",
        "print(\"FV resource name: \", fv.resource_name)  # Copy output into {FEATURE_VIEW}"
      ]
    },
    {
      "cell_type": "markdown",
      "metadata": {
        "id": "1c1618814fe7"
      },
      "source": [
        "Uncomment the cell. After copying releveant details into {URL} and {FEATURE_VIEW}, run the cell."
      ]
    },
    {
      "cell_type": "code",
      "execution_count": null,
      "metadata": {
        "id": "dc7f3a0eedcb"
      },
      "outputs": [],
      "source": [
        "# %%bash\n",
        "# # Uncomment and run\n",
        "# curl {URL} \\\n",
        "#   -X POST \\\n",
        "#   -H \"Authorization: Bearer $(gcloud auth print-access-token)\" \\\n",
        "#   -H \"Content-Type: application/json\" \\\n",
        "#   -d '[\n",
        "#   {\n",
        "#     data_keys: [{key: \"1\"}, {key: \"2\"}, {key: \"3\"}],\n",
        "#     feature_view: \"{FEATURE_VIEW}\"\n",
        "#   },\n",
        "#   {\n",
        "#     data_keys: [{key: \"5\"}, {key: \"6\"}, {key: \"7\"}],\n",
        "#     feature_view: \"{FEATURE_VIEW}\"\n",
        "#   }\n",
        "# ]'"
      ]
    },
    {
      "cell_type": "markdown",
      "metadata": {
        "id": "2a4e033321ad"
      },
      "source": [
        "## Cleaning up"
      ]
    },
    {
      "cell_type": "markdown",
      "metadata": {
        "id": "ffd3dc65a25f"
      },
      "source": [
        "### Delete feature view and feature online store"
      ]
    },
    {
      "cell_type": "code",
      "execution_count": null,
      "metadata": {
        "id": "7517048d8510"
      },
      "outputs": [],
      "source": [
        "fv.delete()"
      ]
    },
    {
      "cell_type": "code",
      "execution_count": null,
      "metadata": {
        "id": "8488287340ca"
      },
      "outputs": [],
      "source": [
        "fos.delete()"
      ]
    },
    {
      "cell_type": "markdown",
      "metadata": {
        "id": "753e85f60d06"
      },
      "source": [
        "### Delete BigQuery dataset and table"
      ]
    },
    {
      "cell_type": "code",
      "execution_count": null,
      "metadata": {
        "id": "99e984fe9c53"
      },
      "outputs": [],
      "source": [
        "client = bigquery.Client()"
      ]
    },
    {
      "cell_type": "code",
      "execution_count": null,
      "metadata": {
        "id": "6cc5fdf51c9e"
      },
      "outputs": [],
      "source": [
        "client.delete_table(f\"{BQ_TABLE_URI}\")"
      ]
    },
    {
      "cell_type": "code",
      "execution_count": null,
      "metadata": {
        "id": "4bac93a9ffcb"
      },
      "outputs": [],
      "source": [
        "client.delete_dataset(f\"{PROJECT_ID}.{BQ_DATASET_ID}\")"
      ]
    }
  ],
  "metadata": {
    "colab": {
      "name": "online_feature_serving_fetching_multiple_entities.ipynb",
      "toc_visible": true
    },
    "kernelspec": {
      "display_name": "Python 3",
      "name": "python3"
    }
  },
  "nbformat": 4,
  "nbformat_minor": 0
}
