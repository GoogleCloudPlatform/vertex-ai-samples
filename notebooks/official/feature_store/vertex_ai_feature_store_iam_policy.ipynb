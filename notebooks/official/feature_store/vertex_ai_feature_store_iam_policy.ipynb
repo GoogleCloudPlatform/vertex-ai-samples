{
  "nbformat": 4,
  "nbformat_minor": 0,
  "metadata": {
    "colab": {
      "provenance": []
    },
    "kernelspec": {
      "name": "python3",
      "display_name": "Python 3"
    },
    "language_info": {
      "name": "python"
    }
  },
  "cells": [
    {
      "cell_type": "code",
      "execution_count": null,
      "metadata": {
        "id": "_jRS3R5SGdJv"
      },
      "outputs": [],
      "source": [
        "# Copyright 2023 Google LLC\n",
        "#\n",
        "# Licensed under the Apache License, Version 2.0 (the \"License\");\n",
        "# you may not use this file except in compliance with the License.\n",
        "# You may obtain a copy of the License at\n",
        "#\n",
        "#     https://www.apache.org/licenses/LICENSE-2.0\n",
        "#\n",
        "# Unless required by applicable law or agreed to in writing, software\n",
        "# distributed under the License is distributed on an \"AS IS\" BASIS,\n",
        "# WITHOUT WARRANTIES OR CONDITIONS OF ANY KIND, either express or implied.\n",
        "# See the License for the specific language governing permissions and\n",
        "# limitations under the License."
      ]
    },
    {
      "cell_type": "markdown",
      "source": [
        "## Configure IAM Policy in Vertex AI Feature Store\n",
        "\n",
        "\n",
        "<table align=\"left\">\n",
        "\n",
        "  <td>\n",
        "    <a href=\"TODO\">\n",
        "      <img src=\"https://cloud.google.com/ml-engine/images/colab-logo-32px.png\" alt=\"Colab logo\"> Run in Colab\n",
        "    </a>\n",
        "  </td>\n",
        "  <td>\n",
        "    <a href=\"TODO\">\n",
        "      <img src=\"https://cloud.google.com/ml-engine/images/github-logo-32px.png\" alt=\"GitHub logo\">\n",
        "      View on GitHub\n",
        "    </a>\n",
        "  </td>\n",
        "  <td>\n",
        "    <a href=\"TODO\">\n",
        "      <img src=\"https://lh3.googleusercontent.com/UiNooY4LUgW_oTvpsNhPpQzsstV5W8F7rYgxgGBD85cWJoLmrOzhVs_ksK_vgx40SHs7jCqkTkCk=e14-rj-sc0xffffff-h130-w32\" alt=\"Vertex AI logo\">\n",
        "      Open in Vertex AI Workbench\n",
        "    </a>\n",
        "  </td>                                                                                               \n",
        "</table>"
      ],
      "metadata": {
        "id": "4YnfYYInppW5"
      }
    },
    {
      "cell_type": "markdown",
      "source": [],
      "metadata": {
        "id": "0DSsD23Cf3et"
      }
    },
    {
      "cell_type": "markdown",
      "source": [
        "## Overview\n",
        "\n",
        "This tutorial demonstrates how to configure an IAM Policy to control access to resources and data stored within `Vertex AI Feature Store`.\n",
        "\n",
        "Learn more about [Vertex AI Feature Store](https://cloud.google.com/vertex-ai/docs/featurestore/overview)."
      ],
      "metadata": {
        "id": "Dd1ziMz0qWq-"
      }
    },
    {
      "cell_type": "markdown",
      "source": [
        "### Objective\n",
        "\n",
        "In this tutorial, you will learn to use Cloud IAM and Vertex AI Feature Store to control access to resources and data used for online serving.\n",
        "\n",
        "This tutorial uses the following Google Cloud ML services and resources:\n",
        "\n",
        "- `Vertex AI Feature Store`\n",
        "- `Cloud IAM`\n",
        "- `BigQuery`\n",
        "\n",
        "The steps performed include:\n",
        "- Create a BigQuery dataset and set up a `FeatureView` to run periodic sync jobs.\n",
        "- Provision an online store instance and set up online serving.\n",
        "- Configure an IAM Policy to manage access controls."
      ],
      "metadata": {
        "id": "VtQJSMUwqeIm"
      }
    },
    {
      "cell_type": "markdown",
      "source": [
        "### Costs\n",
        "\n",
        "This tutorial uses billable components of Google Cloud:\n",
        "\n",
        "* `Vertex AI`\n",
        "* `BigQuery`\n",
        "\n",
        "Learn about [Vertex AI pricing](https://cloud.google.com/vertex-ai/pricing) and\n",
        "[BigQuery pricing](https://cloud.google.com/bigquery/pricing)\n",
        "and use the [Pricing Calculator](https://cloud.google.com/products/calculator/)\n",
        "to generate a cost estimate based on your projected usage."
      ],
      "metadata": {
        "id": "naLfMUqVrJ2_"
      }
    },
    {
      "cell_type": "markdown",
      "source": [
        "## Installation"
      ],
      "metadata": {
        "id": "xzj61FeHTWBW"
      }
    },
    {
      "cell_type": "markdown",
      "source": [
        "Install the following packages required to run this notebook."
      ],
      "metadata": {
        "id": "vFATzZr7rdrx"
      }
    },
    {
      "cell_type": "code",
      "source": [
        "! pip3 install --upgrade --quiet google-cloud-aiplatform\\\n",
        "                                 google-cloud-bigquery"
      ],
      "metadata": {
        "id": "Uv6AL09LS-Z0"
      },
      "execution_count": null,
      "outputs": []
    },
    {
      "cell_type": "markdown",
      "source": [
        "### Restart the kernel\n",
        "\n",
        "After you install the SDK, you need to restart the notebook kernel so it can find the packages. Restart kernel from *Kernel -> Restart Kernel*, or by running the following:"
      ],
      "metadata": {
        "id": "wCW8br8xTFPm"
      }
    },
    {
      "cell_type": "code",
      "source": [
        "# Automatically restart kernel after installs\n",
        "import os\n",
        "\n",
        "if not os.getenv(\"IS_TESTING\"):\n",
        "    # Automatically restart kernel after installs\n",
        "    import IPython\n",
        "\n",
        "    app = IPython.Application.instance()\n",
        "    app.kernel.do_shutdown(True)"
      ],
      "metadata": {
        "id": "6NEmBa24TATf"
      },
      "execution_count": null,
      "outputs": []
    },
    {
      "cell_type": "markdown",
      "source": [
        "### Authenticate your Google Cloud account\n",
        "Depending on your Jupyter environment, you may have to manually authenticate. Follow the relevant instructions below."
      ],
      "metadata": {
        "id": "dHfkZBX2Tf1g"
      }
    },
    {
      "cell_type": "markdown",
      "source": [
        "**1. Vertex AI Workbench**\n",
        "* Do nothing as you are already authenticated."
      ],
      "metadata": {
        "id": "gR3ufZeVT4s4"
      }
    },
    {
      "cell_type": "markdown",
      "source": [
        "**2. Local JupyterLab instance, uncomment and run:**"
      ],
      "metadata": {
        "id": "EWVYwMfWT8wP"
      }
    },
    {
      "cell_type": "code",
      "source": [
        "# ! gcloud auth login"
      ],
      "metadata": {
        "id": "ImK2l8NATkkH"
      },
      "execution_count": null,
      "outputs": []
    },
    {
      "cell_type": "markdown",
      "source": [
        "**3. Colab**"
      ],
      "metadata": {
        "id": "Jz_PgIxpT_hV"
      }
    },
    {
      "cell_type": "code",
      "source": [
        "import os\n",
        "import sys\n",
        "\n",
        "if \"google.colab\" in sys.modules:\n",
        "    from google.colab import auth as google_auth\n",
        "\n",
        "    google_auth.authenticate_user()\n",
        "\n",
        "# If you are running this notebook locally, replace the string below with the\n",
        "# path to your service account key and run this cell to authenticate your GCP\n",
        "# account.\n",
        "elif not os.getenv(\"IS_TESTING\"):\n",
        "    %env GOOGLE_APPLICATION_CREDENTIALS ''"
      ],
      "metadata": {
        "id": "3H_t0ECWT_KZ"
      },
      "execution_count": null,
      "outputs": []
    },
    {
      "cell_type": "markdown",
      "source": [
        "**4. Service account or other**\n",
        "* See how to grant Cloud Storage permissions to your service account at https://cloud.google.com/storage/docs/gsutil/commands/iam#ch-examples."
      ],
      "metadata": {
        "id": "W0w4-YiJUL_k"
      }
    },
    {
      "cell_type": "markdown",
      "source": [
        "### Initial Setup"
      ],
      "metadata": {
        "id": "hDyYQi2dVhdS"
      }
    },
    {
      "cell_type": "markdown",
      "source": [
        "Import the following libraries to use Vertex AI Feature Store."
      ],
      "metadata": {
        "id": "L2R0_hv5saHs"
      }
    },
    {
      "cell_type": "code",
      "source": [
        "from google.cloud import aiplatform, bigquery\n",
        "from google.cloud.aiplatform_v1beta1 import FeaturestoreServiceClient\n",
        "from google.cloud.aiplatform_v1beta1 import (\n",
        "    FeatureOnlineStoreAdminServiceClient, FeatureOnlineStoreServiceClient,\n",
        "    FeatureRegistryServiceClient,)\n",
        "from google.cloud.aiplatform_v1beta1.types import feature as feature_pb2\n",
        "from google.cloud.aiplatform_v1beta1.types import \\\n",
        "    feature_group as feature_group_pb2\n",
        "from google.cloud.aiplatform_v1beta1.types import \\\n",
        "    feature_online_store as feature_online_store_pb2\n",
        "from google.cloud.aiplatform_v1beta1.types import \\\n",
        "    feature_online_store_admin_service as \\\n",
        "    feature_online_store_admin_service_pb2\n",
        "from google.cloud.aiplatform_v1beta1.types import \\\n",
        "    feature_online_store_service as feature_online_store_service_pb2\n",
        "from google.cloud.aiplatform_v1beta1.types import \\\n",
        "    feature_registry_service as feature_registry_service_pb2\n",
        "from google.cloud.aiplatform_v1beta1.types import \\\n",
        "    feature_view as feature_view_pb2\n",
        "from google.cloud.aiplatform_v1beta1.types import \\\n",
        "    featurestore_service as featurestore_service_pb2\n",
        "from google.cloud.aiplatform_v1beta1.types import io as io_pb2\n",
        "from google.cloud.aiplatform_v1beta1.types import \\\n",
        "    feature_selector as feature_selector_pb2\n",
        "from google.iam.v1 import iam_policy_pb2\n",
        "from google.iam.v1 import policy_pb2\n",
        "from http import HTTPStatus"
      ],
      "metadata": {
        "id": "-5sK-kwa_7E0"
      },
      "execution_count": null,
      "outputs": []
    },
    {
      "cell_type": "markdown",
      "source": [
        "Specify the GCP Project ID."
      ],
      "metadata": {
        "id": "w9Ws4Fr1vypl"
      }
    },
    {
      "cell_type": "code",
      "source": [
        "PROJECT_ID = \"[your-project-id]\"  # @param {type:\"string\"}\n",
        "\n",
        "# Set the project id\n",
        "! gcloud config set project {PROJECT_ID}"
      ],
      "metadata": {
        "id": "l6f_sTPBVOHr"
      },
      "execution_count": null,
      "outputs": []
    },
    {
      "cell_type": "markdown",
      "source": [
        "Select a region to be used when constructing the the Vertex AI regional API endpoint. For example, `us-central1` corresponds to `us-central1-aiplatform.googleapis.com`.\n",
        "\n",
        "<details>\n",
        "<summary>View list of supported regions</summary>\n",
        "<br>\n",
        "\n",
        "- asia-southeast1\n",
        "- europe-west4\n",
        "- us-central1\n",
        "- us-east1\n",
        "- us-east4\n",
        "- us-west1\n",
        "- us-west3\n",
        "- europe-west2\n",
        "- asia-northeast2\n",
        "- us-west2\n",
        "- europe-west3\n",
        "</details>"
      ],
      "metadata": {
        "id": "c7wdWClIv31n"
      }
    },
    {
      "cell_type": "code",
      "source": [
        "REGION = \"us-central1\"  # @param {type:\"string\"}\n",
        "LOCATION_PARENT = \"projects/\" + PROJECT_ID + \"/locations/\" + REGION"
      ],
      "metadata": {
        "id": "b4zcDEE3VUnT"
      },
      "execution_count": null,
      "outputs": []
    },
    {
      "cell_type": "markdown",
      "source": [
        "Configure the necessary service clients:\n",
        "- [FeaturestoreServiceClient](https://cloud.google.com/python/docs/reference/aiplatform/latest/google.cloud.aiplatform_v1.services.featurestore_service.FeaturestoreServiceClient)\n",
        "- [FeatureOnlineStoreAdminServiceClient](https://cloud.google.com/python/docs/reference/aiplatform/latest/google.cloud.aiplatform_v1beta1.services.feature_online_store_admin_service.FeatureOnlineStoreAdminServiceClient)\n",
        "- [FeatureRegistryServiceClient](https://cloud.google.com/python/docs/reference/aiplatform/latest/google.cloud.aiplatform_v1beta1.services.feature_registry_service.FeatureRegistryServiceClient)"
      ],
      "metadata": {
        "id": "BIuZ73Kew2RV"
      }
    },
    {
      "cell_type": "code",
      "source": [
        "ENDPOINT = REGION + \"-aiplatform.googleapis.com\"\n",
        "featurestore_service_client = FeaturestoreServiceClient(client_options={\"api_endpoint\": ENDPOINT})\n",
        "feature_online_store_admin_service_client = FeatureOnlineStoreAdminServiceClient(client_options={\"api_endpoint\": ENDPOINT})\n",
        "feature_registry_service_client = FeatureRegistryServiceClient(client_options={\"api_endpoint\": ENDPOINT})"
      ],
      "metadata": {
        "id": "BdWVxDnuWQZI"
      },
      "execution_count": null,
      "outputs": []
    },
    {
      "cell_type": "markdown",
      "source": [
        "Generate sample data for this colab."
      ],
      "metadata": {
        "id": "YRfR_Wwjx5Pv"
      }
    },
    {
      "cell_type": "code",
      "source": [
        "DATASET_ID = \"test_data\"+\"_\"+REGION.replace('-', '_')  # @param {type:\"string\"}\n",
        "TABLE_ID = \"tableA\"  # @param {type:\"string\"}\n",
        "\n",
        "!bq mk --dataset_id={DATASET_ID} --location={REGION}\n",
        "!bq query --nouse_legacy_sql \\\n",
        "\"CREATE TABLE {DATASET_ID}.{TABLE_ID} AS (\" \\\n",
        "\"SELECT * FROM UNNEST(ARRAY<STRUCT<entity_id STRING, feature_timestamp TIMESTAMP, feature1 INT64, feature2 INT64>>[\" \\\n",
        "\"('test', TIMESTAMP('2024-02-26 08:00:00 UTC'), 10, 20),\" \\\n",
        "\"('test', TIMESTAMP('2024-02-27 08:00:00 UTC'), 30, 40),\" \\\n",
        "\"('test', TIMESTAMP('2024-02-28 08:00:00 UTC'), 50, 60)]))\""
      ],
      "metadata": {
        "id": "uHI5pFCW3eHq"
      },
      "execution_count": null,
      "outputs": []
    },
    {
      "cell_type": "markdown",
      "source": [
        "## Configure Online Serving"
      ],
      "metadata": {
        "id": "BCwMcvSqAVVY"
      }
    },
    {
      "cell_type": "markdown",
      "source": [
        "Provision a `FeatureOnlineStore` instance."
      ],
      "metadata": {
        "id": "nI2WiW1oFW4v"
      }
    },
    {
      "cell_type": "code",
      "source": [
        "FEATURE_ONLINE_STORE_ID = \"test_feature_online_store\"\n",
        "feature_online_store_admin_service_client.create_feature_online_store({\n",
        "  \"parent\": LOCATION_PARENT,\n",
        "  \"feature_online_store_id\": FEATURE_ONLINE_STORE_ID,\n",
        "  \"feature_online_store\": {\n",
        "    \"bigtable\": {\n",
        "        \"auto_scaling\": {\n",
        "            \"min_node_count\": 1,\n",
        "            \"max_node_count\": 3,\n",
        "            \"cpu_utilization_target\": 50\n",
        "        }\n",
        "    }\n",
        "  }\n",
        "}).result()"
      ],
      "metadata": {
        "id": "7Ywy4jiqRofj"
      },
      "execution_count": null,
      "outputs": []
    },
    {
      "cell_type": "markdown",
      "source": [
        "Configure periodic data synchronization from the offline store in BigQuery to the `FeatureOnlineStore` instance."
      ],
      "metadata": {
        "id": "AenA-QRVyV4R"
      }
    },
    {
      "cell_type": "code",
      "source": [
        "FEATURE_VIEW_ID = \"test_feature_view\"\n",
        "create_feature_view_result = feature_online_store_admin_service_client.create_feature_view(\n",
        "    parent = LOCATION_PARENT + \"/featureOnlineStores/\" + FEATURE_ONLINE_STORE_ID,\n",
        "    feature_view_id = FEATURE_VIEW_ID,\n",
        "    feature_view = {\n",
        "        \"big_query_source\": {\n",
        "          \"uri\": f\"bq://{PROJECT_ID}.{DATASET_ID}.{TABLE_ID}\",\n",
        "          \"entity_id_columns\": [\"entity_id\"]\n",
        "        },\n",
        "        \"sync_config\": { \"cron\": \"0 12 * * *\" }\n",
        "    }\n",
        ").result()"
      ],
      "metadata": {
        "id": "EzX7bGpoAZK-"
      },
      "execution_count": null,
      "outputs": []
    },
    {
      "cell_type": "markdown",
      "source": [
        "Configure IAM Policy for a feature online store."
      ],
      "metadata": {
        "id": "meAUlGchyBDA"
      }
    },
    {
      "cell_type": "code",
      "source": [
        "# A specific user email or a group email can be used to add members to the IAM Policy.\n",
        "EXAMPLE_RESOURCE_VIEWER_EMAIL = \"\" # @param {type:\"string\"}\n",
        "EXAMPLE_DATA_VIEWER_EMAIL = \"\" # @param {type:\"string\"}\n",
        "# A Service Account can also be added to the IAM Policy.\n",
        "EXAMPLE_ADMIN_SERVICE_ACCOUNT = \"\" # @param {type:\"string\"}\n",
        "feature_online_store_admin_service_client.set_iam_policy(request = iam_policy_pb2.SetIamPolicyRequest(\n",
        "    resource=LOCATION_PARENT + \"/featureOnlineStores/\" + FEATURE_ONLINE_STORE_ID,\n",
        "    policy = policy_pb2.Policy(\n",
        "        bindings = [\n",
        "          policy_pb2.Binding(\n",
        "              role = \"roles/aiplatform.featurestoreResourceViewer\",\n",
        "              members = [f\"user:{EXAMPLE_RESOURCE_VIEWER_EMAIL}\"]\n",
        "          ),\n",
        "          policy_pb2.Binding(\n",
        "              role = \"roles/aiplatform.featurestoreDataViewer\",\n",
        "              members = [f\"user:{EXAMPLE_DATA_VIEWER_EMAIL}\"]\n",
        "          ),\n",
        "          policy_pb2.Binding(\n",
        "              role = \"roles/aiplatform.admin\",\n",
        "              members = [f\"serviceAccount:{EXAMPLE_ADMIN_SERVICE_ACCOUNT}\"]\n",
        "          )\n",
        "        ]\n",
        "    )\n",
        "))"
      ],
      "metadata": {
        "id": "iyO8KihWyGem"
      },
      "execution_count": null,
      "outputs": []
    },
    {
      "cell_type": "markdown",
      "source": [
        "Confirm the updated IAM Policy of the feature online store."
      ],
      "metadata": {
        "id": "111cpTp62WV6"
      }
    },
    {
      "cell_type": "code",
      "source": [
        "feature_online_store_admin_service_client.get_iam_policy(request = iam_policy_pb2.GetIamPolicyRequest(\n",
        "    resource=LOCATION_PARENT + \"/featureOnlineStores/\" + FEATURE_ONLINE_STORE_ID\n",
        "))"
      ],
      "metadata": {
        "id": "TKX8wuea2LkS"
      },
      "execution_count": null,
      "outputs": []
    },
    {
      "cell_type": "markdown",
      "source": [
        "Configure IAM Policy for a feature view."
      ],
      "metadata": {
        "id": "_A8pY7cx2brF"
      }
    },
    {
      "cell_type": "code",
      "source": [
        "# A specific user email or a group email can be used to add members to the IAM Policy.\n",
        "EXAMPLE_RESOURCE_VIEWER_EMAIL = \"\" # @param {type:\"string\"}\n",
        "EXAMPLE_DATA_VIEWER_EMAIL = \"\" # @param {type:\"string\"}\n",
        "# A Service Account can also be added to the IAM Policy.\n",
        "EXAMPLE_ADMIN_SERVICE_ACCOUNT = \"\" # @param {type:\"string\"}\n",
        "feature_online_store_admin_service_client.set_iam_policy(request = iam_policy_pb2.SetIamPolicyRequest(\n",
        "    resource=LOCATION_PARENT + \"/featureOnlineStores/\" + FEATURE_ONLINE_STORE_ID + \"/featureViews/\" + FEATURE_VIEW_ID,\n",
        "    policy = policy_pb2.Policy(\n",
        "        bindings = [\n",
        "          policy_pb2.Binding(\n",
        "              role = \"roles/aiplatform.featurestoreResourceViewer\",\n",
        "              members = [f\"user:{EXAMPLE_RESOURCE_VIEWER_EMAIL}\"]\n",
        "          ),\n",
        "          policy_pb2.Binding(\n",
        "              role = \"roles/aiplatform.featurestoreDataViewer\",\n",
        "              members = [f\"user:{EXAMPLE_DATA_VIEWER_EMAIL}\"]\n",
        "          ),\n",
        "          policy_pb2.Binding(\n",
        "              role = \"roles/aiplatform.admin\",\n",
        "              members = [f\"serviceAccount:{EXAMPLE_ADMIN_SERVICE_ACCOUNT}\"]\n",
        "          )\n",
        "        ]\n",
        "    )\n",
        "))"
      ],
      "metadata": {
        "id": "b2nlWpfx1_5o"
      },
      "execution_count": null,
      "outputs": []
    },
    {
      "cell_type": "markdown",
      "source": [
        "Confirm the updated IAM Policy."
      ],
      "metadata": {
        "id": "3JHfpPev1o-F"
      }
    },
    {
      "cell_type": "code",
      "source": [
        "feature_online_store_admin_service_client.get_iam_policy(request = iam_policy_pb2.GetIamPolicyRequest(\n",
        "    resource=LOCATION_PARENT + \"/featureOnlineStores/\" + FEATURE_ONLINE_STORE_ID + \"/featureViews/\" + FEATURE_VIEW_ID\n",
        "))"
      ],
      "metadata": {
        "id": "kF3_kHH71jxw"
      },
      "execution_count": null,
      "outputs": []
    },
    {
      "cell_type": "markdown",
      "source": [
        "Trigger a `FeatureViewSync`"
      ],
      "metadata": {
        "id": "ZBvZcDWYw3xV"
      }
    },
    {
      "cell_type": "code",
      "source": [
        "feature_online_store_admin_service_client.sync_feature_view(\n",
        "    feature_view = f\"{LOCATION_PARENT}/featureOnlineStores/{FEATURE_ONLINE_STORE_ID}/featureViews/{FEATURE_VIEW_ID}\"\n",
        ")"
      ],
      "metadata": {
        "id": "JtqTNPabw88T"
      },
      "execution_count": null,
      "outputs": []
    },
    {
      "cell_type": "markdown",
      "source": [
        "# Start online serving"
      ],
      "metadata": {
        "id": "XCSaEfc-2mMz"
      }
    },
    {
      "cell_type": "code",
      "source": [
        "data_client = FeatureOnlineStoreServiceClient(\n",
        "    client_options={\"api_endpoint\": ENDPOINT}\n",
        ")"
      ],
      "metadata": {
        "id": "4XGHlx8Y2tXK"
      },
      "execution_count": null,
      "outputs": []
    },
    {
      "cell_type": "code",
      "source": [
        "data_client.fetch_feature_values(\n",
        "    request=feature_online_store_service_pb2.FetchFeatureValuesRequest(\n",
        "        feature_view=f\"projects/{PROJECT_ID}/locations/{REGION}/featureOnlineStores/{FEATURE_ONLINE_STORE_ID}/featureViews/{FEATURE_VIEW_ID}\",\n",
        "        data_key=feature_online_store_service_pb2.FeatureViewDataKey(key=\"test\"),\n",
        "    )\n",
        ")"
      ],
      "metadata": {
        "id": "rdIq_QlY2l3u"
      },
      "execution_count": null,
      "outputs": []
    },
    {
      "cell_type": "markdown",
      "source": [
        "## Clean up"
      ],
      "metadata": {
        "id": "0aeMpjdjFBiy"
      }
    },
    {
      "cell_type": "markdown",
      "source": [
        "Delete the resources created in this tutorial."
      ],
      "metadata": {
        "id": "mnsN63BEFDWJ"
      }
    },
    {
      "cell_type": "code",
      "source": [
        "!read -p \"Are you sure? \" -n 1 -r\n",
        "feature_online_store_admin_service_client.delete_feature_online_store({\n",
        "  \"name\": LOCATION_PARENT + \"/featureOnlineStores/\" + FEATURE_ONLINE_STORE_ID,\n",
        "  \"force\": True\n",
        "}).result()\n",
        "\n",
        "# Delete test data\n",
        "!bq rm -f {DATASET_ID}.{TABLE_ID}"
      ],
      "metadata": {
        "id": "7pf-muiwFFRk"
      },
      "execution_count": null,
      "outputs": []
    }
  ]
}