{
  "cells": [
    {
      "cell_type": "code",
      "execution_count": null,
      "metadata": {
        "id": "ur8xi4C7S06n"
      },
      "outputs": [],
      "source": [
        "# Copyright 2022 Google LLC\n",
        "#\n",
        "# Licensed under the Apache License, Version 2.0 (the \"License\");\n",
        "# you may not use this file except in compliance with the License.\n",
        "# You may obtain a copy of the License at\n",
        "#\n",
        "#     https://www.apache.org/licenses/LICENSE-2.0\n",
        "#\n",
        "# Unless required by applicable law or agreed to in writing, software\n",
        "# distributed under the License is distributed on an \"AS IS\" BASIS,\n",
        "# WITHOUT WARRANTIES OR CONDITIONS OF ANY KIND, either express or implied.\n",
        "# See the License for the specific language governing permissions and\n",
        "# limitations under the License."
      ]
    },
    {
      "cell_type": "markdown",
      "metadata": {
        "id": "JAPoU8Sm5E6e"
      },
      "source": [
        "# Vertex AI Pipelines: Evaluating BatchPrediction results from a Custom Tabular classification model\n",
        "\n",
        "<table align=\"left\">\n",
        "\n",
        "  <td>\n",
        "    <a href=\"https://colab.research.google.com/github/GoogleCloudPlatform/vertex-ai-samples/blob/main/notebooks/official/model_evaluation/custom_tabular_classification_model_evaluation.ipynb\">\n",
        "      <img src=\"https://cloud.google.com/ml-engine/images/colab-logo-32px.png\" alt=\"Colab logo\"> Run in Colab\n",
        "    </a>\n",
        "  </td>\n",
        "  <td>\n",
        "    <a href=\"https://github.com/GoogleCloudPlatform/vertex-ai-samples/blob/main/notebooks/official/model_evaluation/custom_tabular_classification_model_evaluation.ipynb\">\n",
        "      <img src=\"https://cloud.google.com/ml-engine/images/github-logo-32px.png\" alt=\"GitHub logo\">\n",
        "      View on GitHub\n",
        "    </a>\n",
        "  </td>\n",
        "  <td>\n",
        "<a href=\"https://console.cloud.google.com/vertex-ai/workbench/deploy-notebook?download_url=https://raw.githubusercontent.com/GoogleCloudPlatform/vertex-ai-samples/main/notebooks/official/model_evaluation/custom_tabular_classification_model_evaluation.ipynb\" target='_blank'>\n",
        "      <img src=\"https://lh3.googleusercontent.com/UiNooY4LUgW_oTvpsNhPpQzsstV5W8F7rYgxgGBD85cWJoLmrOzhVs_ksK_vgx40SHs7jCqkTkCk=e14-rj-sc0xffffff-h130-w32\" alt=\"Vertex AI logo\">\n",
        "      Open in Vertex AI Workbench\n",
        "    </a>\n",
        "  </td>                                                                                               \n",
        "</table>"
      ]
    },
    {
      "cell_type": "markdown",
      "metadata": {
        "id": "tvgnzT1CKxrO"
      },
      "source": [
        "## Overview\n",
        "\n",
        "This notebook demonstrates how to use the Vertex AI classification model evaluation component to evaluate a custom-trained tabular classification model saved in Vertex AI Model Registry. Model evaluation helps you determine your model performance based on the evaluation metrics and improve the model if necessary. \n",
        "\n",
        "Learn more about [Vertex AI Model Evaluation](https://cloud.google.com/vertex-ai/docs/evaluation/introduction) and [Vertex AI Training](https://cloud.google.com/vertex-ai/docs/training/custom-training)."
      ]
    },
    {
      "cell_type": "markdown",
      "metadata": {
        "id": "d975e698c9a4"
      },
      "source": [
        "### Objective\n",
        "\n",
        "In this tutorial, you train a scikit-learn RandomForest model, save it in Vertex AI Model Registry and learn how to evaluate it through a Vertex AI pipeline job using `google_cloud_pipeline_components`.\n",
        "\n",
        "This tutorial uses the following Google Cloud ML services and resources:\n",
        "\n",
        "- Vertex AI Model Registry\n",
        "- Vertex AI Pipelines\n",
        "- Vertex AI Batch Predictions\n",
        "\n",
        "The steps performed include:\n",
        "\n",
        "- Fetch the dataset from the public source.\n",
        "- Preprocess the data locally and save test data in BigQuery.\n",
        "- Train a RandomForest classification model locally using scikit-learn Python package.\n",
        "- Create a custom container in Artifact Registry for predictions.\n",
        "- Upload the model in Vertex AI Model Registry.\n",
        "- Create and run a Vertex AI Pipeline that:\n",
        "    - Imports the trained model into the pipeline.\n",
        "    - Runs a `Batch Prediction` job on the test data in BigQuery.\n",
        "    - Evaulates the model using the evaluation component from google-cloud-pipeline-components Python SDK.\n",
        "    - Imports the classification metrics in to the model resource in Vertex AI Model Registry.\n",
        "- Print and visualize the classification evaluation metrics.\n",
        "- Clean up the resources created in this notebook."
      ]
    },
    {
      "cell_type": "markdown",
      "metadata": {
        "id": "08d289fa873f"
      },
      "source": [
        "### Dataset\n",
        "\n",
        "The **Census Income Dataset** used in this notebook, is hosted on BigQuery under public datasets. Originally, it is sourced by the [UC Irvine Machine Learning Repository](https://archive.ics.uci.edu/ml/datasets.php). The underlying task associated with the dataset is to determine whether a person makes over 50K a year or not. For more information, check the [details on its UCI webpage](https://archive.ics.uci.edu/ml/datasets/Census+Income)."
      ]
    },
    {
      "cell_type": "markdown",
      "metadata": {
        "id": "aed92deeb4a0"
      },
      "source": [
        "### Costs \n",
        "This tutorial uses billable components of Google Cloud:\n",
        "\n",
        "* Artifact Registry\n",
        "* BigQuery\n",
        "* Cloud Build\n",
        "* Cloud Storage\n",
        "* Vertex AI\n",
        "\n",
        "Learn about [Artifact Registry pricing](https://cloud.google.com/artifact-registry/pricing), [BigQuery pricing](https://cloud.google.com/bigquery/pricing), [Cloud Build pricing](https://cloud.google.com/build/pricing), [Cloud Storage\n",
        "pricing](https://cloud.google.com/storage/pricing), [Vertex AI\n",
        "pricing](https://cloud.google.com/vertex-ai/pricing), and use the [Pricing\n",
        "Calculator](https://cloud.google.com/products/calculator/)\n",
        "to generate a cost estimate based on your projected usage."
      ]
    },
    {
      "cell_type": "markdown",
      "metadata": {
        "id": "i7EUnXsZhAGF"
      },
      "source": [
        "## Installation\n",
        "\n",
        "Install the following packages required to execute this notebook. "
      ]
    },
    {
      "cell_type": "code",
      "execution_count": null,
      "metadata": {
        "id": "2b4ef9b72d43"
      },
      "outputs": [],
      "source": [
        "# Install the latest versions of the following packages\n",
        "! pip3 install --upgrade google-cloud-aiplatform \\\n",
        "                            google-cloud-pipeline-components==1.0.26 \\\n",
        "                            matplotlib \\\n",
        "                            pyarrow -q\n",
        "# Install the specified versions of the following packages\n",
        "! pip3 install scikit-learn==1.0 \\\n",
        "                  pandas \\\n",
        "                  joblib==1.2.0 \\\n",
        "                  numpy==1.23.3 -q"
      ]
    },
    {
      "cell_type": "markdown",
      "metadata": {
        "id": "hhq5zEbGg0XX"
      },
      "source": [
        "### Colab only: Uncomment the following cell to restart the kernel."
      ]
    },
    {
      "cell_type": "code",
      "execution_count": null,
      "metadata": {
        "id": "EzrelQZ22IZj"
      },
      "outputs": [],
      "source": [
        "# Automatically restart kernel after installs so that your environment can access the new packages\n",
        "# import IPython\n",
        "\n",
        "# app = IPython.Application.instance()\n",
        "# app.kernel.do_shutdown(True)"
      ]
    },
    {
      "cell_type": "markdown",
      "metadata": {
        "id": "BF1j6f9HApxa"
      },
      "source": [
        "## Before you begin\n",
        "\n",
        "### Set up your Google Cloud project\n",
        "\n",
        "**The following steps are required, regardless of your notebook environment.**\n",
        "\n",
        "1. [Select or create a Google Cloud project](https://console.cloud.google.com/cloud-resource-manager). When you first create an account, you get a $300 free credit towards your compute/storage costs.\n",
        "\n",
        "1. [Make sure that billing is enabled for your project](https://cloud.google.com/billing/docs/how-to/modify-project).\n",
        "\n",
        "1. [Enable the Vertex AI, Compute Engine, Artifact Registry, Cloud Build and Dataflow APIs](https://console.cloud.google.com/flows/enableapi?apiid=aiplatform.googleapis.com,compute.googleapis.com,artifactregistry.googleapis.com,cloudbuild.googleapis.com,dataflow.googleapis.com).\n",
        "\n",
        "1. If you are running this notebook locally, you need to install the [Cloud SDK](https://cloud.google.com/sdk)."
      ]
    },
    {
      "cell_type": "markdown",
      "metadata": {
        "id": "WReHDGG5g0XY"
      },
      "source": [
        "#### Set your project ID\n",
        "\n",
        "**If you don't know your project ID**, try the following:\n",
        "* Run `gcloud config list`.\n",
        "* Run `gcloud projects list`.\n",
        "* See the support page: [Locate the project ID](https://support.google.com/googleapi/answer/7014113)"
      ]
    },
    {
      "cell_type": "code",
      "execution_count": null,
      "metadata": {
        "id": "oM1iC_MfAts1"
      },
      "outputs": [],
      "source": [
        "PROJECT_ID = \"[your-project-id]\"  # @param {type:\"string\"}\n",
        "\n",
        "# Set the project id\n",
        "! gcloud config set project {PROJECT_ID}"
      ]
    },
    {
      "cell_type": "markdown",
      "metadata": {
        "id": "region"
      },
      "source": [
        "#### Region\n",
        "\n",
        "You can also change the `REGION` variable used by Vertex AI. Learn more about [Vertex AI regions](https://cloud.google.com/vertex-ai/docs/general/locations)."
      ]
    },
    {
      "cell_type": "code",
      "execution_count": null,
      "metadata": {
        "id": "sduDOFQVF6kv"
      },
      "outputs": [],
      "source": [
        "REGION = \"us-central1\"  # @param {type: \"string\"}"
      ]
    },
    {
      "cell_type": "markdown",
      "metadata": {
        "id": "sBCra4QMA2wR"
      },
      "source": [
        "### Authenticate your Google Cloud account\n",
        "\n",
        "Depending on your Jupyter environment, you may have to manually authenticate. Follow the relevant instructions below."
      ]
    },
    {
      "cell_type": "markdown",
      "metadata": {
        "id": "af349043f23b"
      },
      "source": [
        "**1. Vertex AI Workbench**\n",
        "* Do nothing as you are already authenticated."
      ]
    },
    {
      "cell_type": "markdown",
      "metadata": {
        "id": "ad1138a125ea"
      },
      "source": [
        "**2. Local JupyterLab instance, uncomment and run:**"
      ]
    },
    {
      "cell_type": "code",
      "execution_count": null,
      "metadata": {
        "id": "ce6043da7b33"
      },
      "outputs": [],
      "source": [
        "# ! gcloud auth login"
      ]
    },
    {
      "cell_type": "markdown",
      "metadata": {
        "id": "0367eac06a10"
      },
      "source": [
        "**3. Colab, uncomment and run:**"
      ]
    },
    {
      "cell_type": "code",
      "execution_count": null,
      "metadata": {
        "id": "21ad4dbb4a61"
      },
      "outputs": [],
      "source": [
        "# from google.colab import auth\n",
        "# auth.authenticate_user()"
      ]
    },
    {
      "cell_type": "markdown",
      "metadata": {
        "id": "c13224697bfb"
      },
      "source": [
        "**4. Service account or other**\n",
        "* See how to grant Cloud Storage permissions to your service account at https://cloud.google.com/storage/docs/gsutil/commands/iam#ch-examples."
      ]
    },
    {
      "cell_type": "markdown",
      "metadata": {
        "id": "zgPO1eR3CYjk"
      },
      "source": [
        "### Create a Cloud Storage bucket\n",
        "\n",
        "Create a storage bucket to store intermediate artifacts such as datasets."
      ]
    },
    {
      "cell_type": "code",
      "execution_count": null,
      "metadata": {
        "id": "MzGDU7TWdts_"
      },
      "outputs": [],
      "source": [
        "BUCKET_URI = \"gs://your-bucket-name-unique\"  # @param {type:\"string\"}"
      ]
    },
    {
      "cell_type": "markdown",
      "metadata": {
        "id": "-EcIXiGsCePi"
      },
      "source": [
        "**Only if your bucket doesn't already exist**: Run the following cell to create your Cloud Storage bucket."
      ]
    },
    {
      "cell_type": "code",
      "execution_count": null,
      "metadata": {
        "id": "NIq7R4HZCfIc"
      },
      "outputs": [],
      "source": [
        "! gsutil mb -l $REGION -p $PROJECT_ID $BUCKET_URI"
      ]
    },
    {
      "cell_type": "markdown",
      "metadata": {
        "id": "set_service_account"
      },
      "source": [
        "#### Service Account\n",
        "\n",
        "You use a service account to create Vertex AI Pipeline jobs. If you do not want to use your project's Compute Engine service account, set `SERVICE_ACCOUNT` to another service account ID."
      ]
    },
    {
      "cell_type": "code",
      "execution_count": null,
      "metadata": {
        "id": "UwC1AdGeF6kx"
      },
      "outputs": [],
      "source": [
        "SERVICE_ACCOUNT = \"[your-service-account]\"  # @param {type:\"string\"}"
      ]
    },
    {
      "cell_type": "code",
      "execution_count": null,
      "metadata": {
        "id": "autoset_service_account"
      },
      "outputs": [],
      "source": [
        "if SERVICE_ACCOUNT == \"[your-service-account]\":\n",
        "    shell_output = ! gcloud projects list --filter=\"PROJECT_ID:'{PROJECT_ID}'\" --format='value(PROJECT_NUMBER)'\n",
        "    PROJECT_NUMBER = shell_output[0]\n",
        "    SERVICE_ACCOUNT = f\"{PROJECT_NUMBER}-compute@developer.gserviceaccount.com\"\n",
        "\n",
        "print(\"Service Account:\", SERVICE_ACCOUNT)"
      ]
    },
    {
      "cell_type": "markdown",
      "metadata": {
        "id": "set_service_account:pipelines"
      },
      "source": [
        "#### Set service account access for Vertex AI Pipelines\n",
        "\n",
        "Run the following commands to grant your service account access to read and write pipeline artifacts in the bucket that you created in the previous step. You only need to run this step once per service account."
      ]
    },
    {
      "cell_type": "code",
      "execution_count": null,
      "metadata": {
        "id": "6OqzKqhMF6kx"
      },
      "outputs": [],
      "source": [
        "! gsutil iam ch serviceAccount:{SERVICE_ACCOUNT}:roles/storage.objectCreator $BUCKET_URI\n",
        "\n",
        "! gsutil iam ch serviceAccount:{SERVICE_ACCOUNT}:roles/storage.objectViewer $BUCKET_URI"
      ]
    },
    {
      "cell_type": "markdown",
      "metadata": {
        "id": "XoEqT2Y4DJmf"
      },
      "source": [
        "### Import libraries\n",
        "\n",
        "Import the Vertex AI Python SDK and other required Python libraries."
      ]
    },
    {
      "cell_type": "code",
      "execution_count": null,
      "metadata": {
        "id": "pRUOFELefqf1"
      },
      "outputs": [],
      "source": [
        "import joblib\n",
        "import kfp\n",
        "import matplotlib.pyplot as plt\n",
        "from google.cloud import aiplatform, aiplatform_v1, bigquery\n",
        "from kfp.v2 import compiler\n",
        "from sklearn.ensemble import RandomForestClassifier\n",
        "from sklearn.feature_selection import SelectKBest\n",
        "from sklearn.model_selection import train_test_split\n",
        "from sklearn.pipeline import FeatureUnion, Pipeline\n",
        "from sklearn.preprocessing import LabelBinarizer"
      ]
    },
    {
      "cell_type": "markdown",
      "metadata": {
        "id": "init_aip:mbsdk,all"
      },
      "source": [
        "### Initialize Vertex AI and BigQuery SDK for Python\n",
        "\n",
        "Initialize the Vertex AI and BigQuery SDK for Python with your project and the created bucket."
      ]
    },
    {
      "cell_type": "code",
      "execution_count": null,
      "metadata": {
        "id": "ksAefQcCF6ky"
      },
      "outputs": [],
      "source": [
        "aiplatform.init(project=PROJECT_ID, location=REGION, staging_bucket=BUCKET_URI)\n",
        "\n",
        "bq_client = bigquery.Client(\n",
        "    project=PROJECT_ID,\n",
        "    credentials=aiplatform.initializer.global_config.credentials,\n",
        ")"
      ]
    },
    {
      "cell_type": "markdown",
      "metadata": {
        "id": "b3a7f0650928"
      },
      "source": [
        "### Define constants\n",
        "\n",
        "In the next cell, define the constants that you use in this session."
      ]
    },
    {
      "cell_type": "code",
      "execution_count": null,
      "metadata": {
        "id": "3390c9e9426c"
      },
      "outputs": [],
      "source": [
        "# Define the public bigquery data source\n",
        "DATA_SOURCE = \"bigquery-public-data.ml_datasets.census_adult_income\"\n",
        "\n",
        "# Define the dataset name for storing the test data\n",
        "PREDICTION_INPUT_DATASET_ID = \"adult_income_prediction\"\n",
        "\n",
        "# Define the table name for storing the test data for batch prediction\n",
        "PREDICTION_INPUT_TABLE_ID = \"adult_income_test_data\"\n",
        "\n",
        "# Set the folder path inside GCS bucket where you store model artifacts\n",
        "MODEL_ARTIFACT_DIR = \"sklearn-income-pred-model\"\n",
        "\n",
        "# Set the name of the local folder where you store your prediction application\n",
        "SRC_DIR = \"src\"\n",
        "\n",
        "# Define the feature columns that you use from the dataset\n",
        "COLUMNS = (\n",
        "    \"age\",\n",
        "    \"workclass\",\n",
        "    \"functional_weight\",\n",
        "    \"education\",\n",
        "    \"education_num\",\n",
        "    \"marital_status\",\n",
        "    \"occupation\",\n",
        "    \"relationship\",\n",
        "    \"race\",\n",
        "    \"sex\",\n",
        "    \"capital_gain\",\n",
        "    \"capital_loss\",\n",
        "    \"hours_per_week\",\n",
        "    \"native_country\",\n",
        ")\n",
        "\n",
        "# Categorical columns are columns that have string values and\n",
        "# need to be turned into a numerical value to be used for training\n",
        "CATEGORICAL_COLUMNS = (\n",
        "    \"workclass\",\n",
        "    \"education\",\n",
        "    \"marital_status\",\n",
        "    \"occupation\",\n",
        "    \"relationship\",\n",
        "    \"race\",\n",
        "    \"sex\",\n",
        "    \"native_country\",\n",
        ")\n",
        "\n",
        "# Target column in the dataset\n",
        "TARGET = \"income_bracket\"\n",
        "\n",
        "# Save the individual class labels in a constant\n",
        "CLASS_LABELS = [\" <=50K\", \" >50K\"]\n",
        "\n",
        "# Set the test ratio for splitting\n",
        "TEST_SIZE = 0.25\n",
        "\n",
        "# Set a random state\n",
        "RANDOM_STATE = 36\n",
        "\n",
        "# Set a sample size for batch prediction\n",
        "BATCH_SAMPLE_SIZE = 3000\n",
        "\n",
        "# Set the name for your repository in artifact registry\n",
        "REPOSITORY = \"sklearn-income-prediction-repo-unique\"  # @param {type:\"string\"}\n",
        "\n",
        "# Set the name for your prediction image in artifact registry\n",
        "IMAGE = \"sklearn-fastapi-server\"\n",
        "\n",
        "# Set a display name for your Vertex AI Model\n",
        "MODEL_DISPLAY_NAME = \"skl_inc_pred_model-unique\"  # @param {type:\"string\"}\n",
        "\n",
        "# Set a display name for your Vertex AI Pipeline\n",
        "PIPELINE_DISPLAY_NAME = (\n",
        "    \"income_classification_multiclass-unique\"  # @param {type:\"string\"}\n",
        ")\n",
        "\n",
        "# Path where the compiled pipeline needs to be written\n",
        "PIPELINE_PACKAGE_PATH = \"custom_tabular_classify_pipeline_config.json\"\n",
        "\n",
        "# Set the GCS path to your root directory for Vertex AI pipelines\n",
        "PIPELINE_ROOT = f\"{BUCKET_URI}/pipeline_root/income_classification_task\""
      ]
    },
    {
      "cell_type": "markdown",
      "metadata": {
        "id": "8d97acf78771"
      },
      "source": [
        "## Fetch the dataset\n",
        "\n",
        "Download the census data from the BigQuery public dataset. In this tutorial, you only use 20K from the dataset for training and testing."
      ]
    },
    {
      "cell_type": "code",
      "execution_count": null,
      "metadata": {
        "id": "2011a473ce65"
      },
      "outputs": [],
      "source": [
        "# Define the SQL query to fetch the dataset\n",
        "query = f\"\"\"\n",
        "SELECT * FROM `{DATA_SOURCE}` LIMIT 20000\n",
        "\"\"\"\n",
        "# Download the dataset to a dataframe\n",
        "df = bq_client.query(query).to_dataframe()\n",
        "df.head()"
      ]
    },
    {
      "cell_type": "markdown",
      "metadata": {
        "id": "a19ba1448b08"
      },
      "source": [
        "## Split the data\n",
        "\n",
        "Divide the data into train and test. You train the Random Forest classification model on the train set and use the test data for evaluation. "
      ]
    },
    {
      "cell_type": "code",
      "execution_count": null,
      "metadata": {
        "id": "b5e3eaa9b483"
      },
      "outputs": [],
      "source": [
        "# Split the dataset\n",
        "X_train, X_test = train_test_split(df, test_size=TEST_SIZE, random_state=RANDOM_STATE)\n",
        "# Print the shapes of train and test sets\n",
        "print(X_train.shape, X_test.shape)"
      ]
    },
    {
      "cell_type": "markdown",
      "metadata": {
        "id": "8f33bc1cc83f"
      },
      "source": [
        "## Save the test data in BigQuery\n",
        "\n",
        "Create a dataset in BigQuery and store the test set in a table inside the dataset. This dataset is further used while running the evaluation pipeline for creating data samples and storing predictions.\n",
        "\n",
        "### Create a dataset in BigQuery"
      ]
    },
    {
      "cell_type": "code",
      "execution_count": null,
      "metadata": {
        "id": "5f57144682e5"
      },
      "outputs": [],
      "source": [
        "# Create a bigquery dataset\n",
        "bq_dataset = bigquery.Dataset(f\"{PROJECT_ID}.{PREDICTION_INPUT_DATASET_ID}\")\n",
        "bq_dataset = bq_client.create_dataset(bq_dataset, exists_ok=True)\n",
        "print(f\"Created dataset {bq_client.project}.{bq_dataset.dataset_id}\")"
      ]
    },
    {
      "cell_type": "markdown",
      "metadata": {
        "id": "50963dd50e4a"
      },
      "source": [
        "### Configure the schema for storing test data"
      ]
    },
    {
      "cell_type": "code",
      "execution_count": null,
      "metadata": {
        "id": "1e4f37c791c0"
      },
      "outputs": [],
      "source": [
        "schema_config = []\n",
        "for i in COLUMNS:\n",
        "    if X_test[i].dtype == \"int64\":\n",
        "        schema_config.append(bigquery.SchemaField(i, \"INTEGER\"))\n",
        "    elif X_test[i].dtype in [\"object\", \"category\"]:\n",
        "        schema_config.append(bigquery.SchemaField(i, \"STRING\"))\n",
        "\n",
        "schema_config.append(bigquery.SchemaField(TARGET, \"STRING\"))"
      ]
    },
    {
      "cell_type": "markdown",
      "metadata": {
        "id": "d34830366653"
      },
      "source": [
        "### Load the test data to a table"
      ]
    },
    {
      "cell_type": "code",
      "execution_count": null,
      "metadata": {
        "id": "fe505b44bd57"
      },
      "outputs": [],
      "source": [
        "table_ref = bq_dataset.table(PREDICTION_INPUT_TABLE_ID)\n",
        "job_config = bigquery.LoadJobConfig(\n",
        "    schema=schema_config, write_disposition=\"WRITE_TRUNCATE\"\n",
        ")\n",
        "\n",
        "job = bq_client.load_table_from_dataframe(X_test, table_ref)\n",
        "\n",
        "job.result()  # Waits for table load to complete.\n",
        "print(\"Loaded dataframe to {}\".format(table_ref.path))"
      ]
    },
    {
      "cell_type": "markdown",
      "metadata": {
        "id": "49c8ce17f86f"
      },
      "source": [
        "## Create a preprocessing pipeline for training\n",
        "\n",
        "Since the dataset consists of both categorical and numerical data, certain steps of preprocessing are required. However, your dataset needs to have only numerical values before it can be used for training the classification model. Therefore, you encode the categorical data to numerical values using [LabelBinarizer](https://scikit-learn.org/stable/modules/generated/sklearn.preprocessing.LabelBinarizer.html).\n",
        "\n",
        "To keep it simple while serving predictions, the following code encapsulates the steps in a scikit-learn Pipeline. You can export Pipeline objects using the version of `joblib` included in scikit-learn or `pickle`, similarly to how you export [scikit-learn estimators](https://scikit-learn.org/stable/tutorial/statistical_inference/settings.html#estimators-objects).\n",
        "\n",
        "Learn more about [scikit-learn Pipelines](https://scikit-learn.org/stable/modules/generated/sklearn.pipeline.Pipeline.html)."
      ]
    },
    {
      "cell_type": "code",
      "execution_count": null,
      "metadata": {
        "id": "c5327f5646bc"
      },
      "outputs": [],
      "source": [
        "# Remove the column we are trying to predict ('income-level') from our features list\n",
        "# Convert the Dataframe to a lists of lists\n",
        "train_features = X_train.drop(TARGET, axis=1).to_numpy().tolist()\n",
        "# Create our training labels list, convert the Dataframe to a lists of lists\n",
        "train_labels = X_train[TARGET].to_numpy().tolist()\n",
        "\n",
        "# Since the census data set has categorical features, we need to convert\n",
        "# them to numerical values. We'll use a list of pipelines to convert each\n",
        "# categorical column and then use FeatureUnion to combine them before calling\n",
        "# the RandomForestClassifier.\n",
        "categorical_pipelines = []\n",
        "\n",
        "# Each categorical column needs to be extracted individually and converted to a numerical value.\n",
        "# To do this, each categorical column will use a pipeline that extracts one feature column via\n",
        "# SelectKBest(k=1) and a LabelBinarizer() to convert the categorical value to a numerical one.\n",
        "# A scores array (created below) will select and extract the feature column. The scores array is\n",
        "# created by iterating over the COLUMNS and checking if it is a CATEGORICAL_COLUMN.\n",
        "for i, col in enumerate(COLUMNS):\n",
        "    if col in CATEGORICAL_COLUMNS:\n",
        "        # Create a scores array to get the individual categorical column.\n",
        "        # Example:\n",
        "        #  data = [39, 'State-gov', 77516, 'Bachelors', 13, 'Never-married', 'Adm-clerical',\n",
        "        #         'Not-in-family', 'White', 'Male', 2174, 0, 40, 'United-States']\n",
        "        #  scores = [0, 1, 0, 0, 0, 0, 0, 0, 0, 0, 0, 0, 0, 0]\n",
        "        #\n",
        "        # Returns: [['Sate-gov']]\n",
        "        scores = []\n",
        "        # Build the scores array\n",
        "        for j in range(len(COLUMNS)):\n",
        "            if i == j:  # This column is the categorical column we want to extract.\n",
        "                scores.append(1)  # Set to 1 to select this column\n",
        "            else:  # Every other column should be ignored.\n",
        "                scores.append(0)\n",
        "        skb = SelectKBest(k=1)\n",
        "        skb.scores_ = scores\n",
        "        # Convert the categorical column to a numerical value\n",
        "        lbn = LabelBinarizer()\n",
        "        r = skb.transform(train_features)\n",
        "        lbn.fit(r)\n",
        "        # Create the pipeline to extract the categorical feature\n",
        "        categorical_pipelines.append(\n",
        "            (\n",
        "                \"categorical-{}\".format(i),\n",
        "                Pipeline([(\"SKB-{}\".format(i), skb), (\"LBN-{}\".format(i), lbn)]),\n",
        "            )\n",
        "        )\n",
        "\n",
        "# Create pipeline to extract the numerical features\n",
        "skb = SelectKBest(k=6)\n",
        "# From COLUMNS use the features that are numerical\n",
        "skb.scores_ = [1, 0, 1, 0, 1, 0, 0, 0, 0, 0, 1, 1, 1, 0]\n",
        "categorical_pipelines.append((\"numerical\", skb))\n",
        "\n",
        "# Combine all the features using FeatureUnion\n",
        "preprocess = FeatureUnion(categorical_pipelines)"
      ]
    },
    {
      "cell_type": "markdown",
      "metadata": {
        "id": "9263b67cf815"
      },
      "source": [
        "## Train a Random Forest classification model\n",
        "\n",
        "Next, you fit a Random Forest classification model on the preprocessed data.\n",
        "\n",
        "After training, you add the estimator to the pipeline object and save the pipeline to disk."
      ]
    },
    {
      "cell_type": "code",
      "execution_count": null,
      "metadata": {
        "id": "65d19ac42f8c"
      },
      "outputs": [],
      "source": [
        "# Create the classifier\n",
        "classifier = RandomForestClassifier()\n",
        "\n",
        "# Transform the features and fit them to the classifier\n",
        "classifier.fit(preprocess.transform(train_features), train_labels)\n",
        "\n",
        "# Create the overall model as a single pipeline\n",
        "pipeline = Pipeline([(\"union\", preprocess), (\"classifier\", classifier)])\n",
        "\n",
        "# Save the pipeline\n",
        "joblib.dump(pipeline, \"model.joblib\")"
      ]
    },
    {
      "cell_type": "markdown",
      "metadata": {
        "id": "82a402f70027"
      },
      "source": [
        "## Create a container image for serving predictions\n",
        "\n",
        "For serving predictions using the model, you upload the model to Vertex AI Model Registry using a custom container for predictions.\n",
        "To create the container image, you take the following steps:\n",
        "- Save the model to your Cloud Storage bucket.\n",
        "- Locally, create an application for serving using [`FastAPI`](https://fastapi.tiangolo.com/tutorial/first-steps/) Python package.\n",
        "- Dockerize the application and upload it to [Artifact Registry using Cloud Build](https://cloud.google.com/build/docs/build-push-docker-image).\n",
        "\n",
        "Learn more about using a [custom container for predictions on Vertex AI](https://cloud.google.com/vertex-ai/docs/predictions/use-custom-container).\n",
        "\n",
        "### Upload the model to Cloud Storage bucket"
      ]
    },
    {
      "cell_type": "code",
      "execution_count": null,
      "metadata": {
        "id": "1a7e8f443169"
      },
      "outputs": [],
      "source": [
        "!gsutil cp \"model.joblib\" {BUCKET_URI}/{MODEL_ARTIFACT_DIR}/"
      ]
    },
    {
      "cell_type": "markdown",
      "metadata": {
        "id": "32a87daeba3d"
      },
      "source": [
        "### Create the serving application \n",
        "\n",
        "Create a source directory where you pacakge your serving application."
      ]
    },
    {
      "cell_type": "code",
      "execution_count": null,
      "metadata": {
        "id": "bf0ae3ccfeef"
      },
      "outputs": [],
      "source": [
        "# Create the source directory\n",
        "! mkdir $SRC_DIR\n",
        "\n",
        "# Create the app folder\n",
        "! mkdir $SRC_DIR/app\n",
        "\n",
        "# Move your model to the app folder\n",
        "! mv model.joblib $SRC_DIR/app/"
      ]
    },
    {
      "cell_type": "markdown",
      "metadata": {
        "id": "df803659c0b4"
      },
      "source": [
        "Create the `main.py` file that contains the code to serve predictions using `FastAPI`."
      ]
    },
    {
      "cell_type": "code",
      "execution_count": null,
      "metadata": {
        "id": "7682e6a682d2"
      },
      "outputs": [],
      "source": [
        "%%writefile $SRC_DIR/app/main.py\n",
        "# Import the required libraries\n",
        "from fastapi import FastAPI, Request\n",
        "import joblib\n",
        "import json\n",
        "import os\n",
        "from google.cloud import storage\n",
        "import logging\n",
        "\n",
        "app = FastAPI()\n",
        "# Define the Cloud Storage client\n",
        "gcs_client = storage.Client()\n",
        "\n",
        "# Download the model file from Cloud Storage bucket\n",
        "with open(\"model.joblib\", 'wb') as model_f:\n",
        "    gcs_client.download_blob_to_file(\n",
        "            f\"{os.environ['AIP_STORAGE_URI']}/model.joblib\", model_f\n",
        "        )\n",
        "    \n",
        "# Load the scikit-learn model/pipeline file\n",
        "_model = joblib.load(\"model.joblib\")\n",
        "\n",
        "# Define a function for health route\n",
        "@app.get(os.environ['AIP_HEALTH_ROUTE'], status_code=200)\n",
        "def health():\n",
        "    return {}\n",
        "\n",
        "# Define a function for prediction route\n",
        "@app.post(os.environ['AIP_PREDICT_ROUTE'])\n",
        "async def predict(request: Request):\n",
        "    # await the request\n",
        "    body = await request.json()\n",
        "    # parse the request instances\n",
        "    instances = body[\"instances\"]\n",
        "    # pass it to the model/pipeline for prediction scores\n",
        "    predictions = _model.predict_proba(instances).tolist()\n",
        "    # return the batch prediction scores\n",
        "    return {\"predictions\": predictions}"
      ]
    },
    {
      "cell_type": "markdown",
      "metadata": {
        "id": "36f2a47133fa"
      },
      "source": [
        "### Create the requirements file\n",
        "Create `requirements.txt` file that specifies the package versions for the application."
      ]
    },
    {
      "cell_type": "code",
      "execution_count": null,
      "metadata": {
        "id": "5d0dff56ce78"
      },
      "outputs": [],
      "source": [
        "%%writefile $SRC_DIR/requirements.txt\n",
        "joblib==1.2.0\n",
        "numpy==1.23.3\n",
        "scikit-learn==1.0\n",
        "google-cloud-storage>=1.44.0,<2.0.0dev"
      ]
    },
    {
      "cell_type": "markdown",
      "metadata": {
        "id": "8c5f2c75fcee"
      },
      "source": [
        "### Create a bash script for setting environment variables\n",
        "\n",
        "Create the `prestart.sh` bash script that sets the port to `AIP_HTTP_PORT`. Your container's HTTP server listens for requests on this port."
      ]
    },
    {
      "cell_type": "code",
      "execution_count": null,
      "metadata": {
        "id": "848e9ad3ba5d"
      },
      "outputs": [],
      "source": [
        "%%writefile $SRC_DIR/app/prestart.sh\n",
        "#!/bin/bash\n",
        "export PORT=$AIP_HTTP_PORT"
      ]
    },
    {
      "cell_type": "markdown",
      "metadata": {
        "id": "6a95adcb2ef4"
      },
      "source": [
        "### Containerize the serving application\n",
        "\n",
        "Create a Dockerfile for containerizing the serving application."
      ]
    },
    {
      "cell_type": "code",
      "execution_count": null,
      "metadata": {
        "id": "be2138ccfd24"
      },
      "outputs": [],
      "source": [
        "%%writefile $SRC_DIR/Dockerfile\n",
        "\n",
        "FROM tiangolo/uvicorn-gunicorn-fastapi:python3.9\n",
        "\n",
        "COPY ./app /app\n",
        "COPY requirements.txt requirements.txt\n",
        "\n",
        "RUN pip install -r requirements.txt"
      ]
    },
    {
      "cell_type": "markdown",
      "metadata": {
        "id": "62a376d0edee"
      },
      "source": [
        "#### Create a repository\n",
        "\n",
        "To store your container image, create a repository in the Artifact Registry."
      ]
    },
    {
      "cell_type": "code",
      "execution_count": null,
      "metadata": {
        "id": "b647ab40c7a1"
      },
      "outputs": [],
      "source": [
        "!gcloud artifacts repositories create {REPOSITORY} \\\n",
        "    --repository-format=docker \\\n",
        "    --location=$REGION"
      ]
    },
    {
      "cell_type": "markdown",
      "metadata": {
        "id": "79dda0e8fa0c"
      },
      "source": [
        "#### Push the container image\n",
        "Using Cloud Build, containerize your serving application and push it to your repository."
      ]
    },
    {
      "cell_type": "code",
      "execution_count": null,
      "metadata": {
        "id": "d1d2a81a3968"
      },
      "outputs": [],
      "source": [
        "%cd $SRC_DIR/\n",
        "!gcloud builds submit --region={REGION} --tag={REGION}-docker.pkg.dev/{PROJECT_ID}/{REPOSITORY}/{IMAGE} --suppress-logs\n",
        "%cd .."
      ]
    },
    {
      "cell_type": "markdown",
      "metadata": {
        "id": "890ee72a71df"
      },
      "source": [
        "## Upload the model to Vertex AI Registry\n",
        "\n",
        "Now, create a Vertex AI model using the container image and the artifact directory path in Cloud Storage bucket where your model was uploaded. \n",
        "\n",
        "To upload your model, you use the `Model.upload()` method from Vertex AI SDK by passing the following parameters:\n",
        "\n",
        "- `display_name`: Display name of the model resource.\n",
        "- `artifact_uri`: Cloud Storage path where the model file/artifact(s) is located.\n",
        "- `serving_container_image_uri`: Path to the serving container image.\n",
        "- `serving_container_predict_route`: Serving application's predict route.\n",
        "- `serving_container_health_route`: Serving application's health check route."
      ]
    },
    {
      "cell_type": "code",
      "execution_count": null,
      "metadata": {
        "id": "ed6e4a5a98a4"
      },
      "outputs": [],
      "source": [
        "aip_model = aiplatform.Model.upload(\n",
        "    display_name=MODEL_DISPLAY_NAME,\n",
        "    artifact_uri=f\"{BUCKET_URI}/{MODEL_ARTIFACT_DIR}\",\n",
        "    serving_container_image_uri=f\"{REGION}-docker.pkg.dev/{PROJECT_ID}/{REPOSITORY}/{IMAGE}\",\n",
        "    serving_container_predict_route=\"/predict\",\n",
        "    serving_container_health_route=\"/health\",\n",
        ")"
      ]
    },
    {
      "cell_type": "markdown",
      "metadata": {
        "id": "77f4838ece15"
      },
      "source": [
        "## Create and run the evaluation pipeline\n",
        "\n",
        "In this section, you run a Vertex AI Pipeline that runs the following steps:\n",
        "1. Imports your model from Vertex AI Model Registry.\n",
        "1. Samples the test data for batch prediction.\n",
        "1. Removes the target field from the sampled test data.\n",
        "1. Runs the batch prediction job.\n",
        "1. Evaluates results from the batch prediction job using the ground-truth/target information.\n",
        "1. Imports the generated evaluation metrics to the Vertex AI model.\n",
        "\n",
        "\n",
        "### Define the pipeline\n",
        "To define the Vertex AI Pipeline for evaluating your model, you use the `google-cloud-pipeline-components` Python package. Google Cloud Pipeline Components provides an SDK with a set of pipeline components for users to interact with Google Cloud services such as Vertex AI, Dataflow and BigQuery. \n",
        "\n",
        "Learn more about [Google Cloud Pipeline Components](https://cloud.google.com/vertex-ai/docs/pipelines/components-introduction).\n",
        "\n",
        "The evaluation pipeline uses the following components:\n",
        "\n",
        "- `GetVertexModelOp`: Gets a Vertex AI Model artifact. \n",
        "- `EvaluationDataSamplerOp`: Randomly downsamples an input dataset to a specified size for computing Vertex Explainable AI feature attributions for AutoML Tabular and custom models. Creates a Dataflow job with Apache Beam to downsample the dataset. \n",
        "- `TargetFieldDataRemoverOp`: Removes the target field from the input dataset for supporting unstructured AutoML models and custom models for Vertex AI batch prediction.\n",
        "- `ModelBatchPredictOp`: Creates a Vertex AI batch prediction job and waits for it to complete. \n",
        "- `ModelEvaluationClassificationOp`: Compute evaluation metrics on a trained model’s batch prediction results. Creates a Dataflow job with Apache Beam and TFMA to compute evaluation metrics. Supports mutliclass classification evaluation for tabular, image, video, and text data. \n",
        "- `ModelImportEvaluationOp`: Imports a model evaluation artifact to an existing Vertex AI model with ModelService.ImportModelEvaluation. "
      ]
    },
    {
      "cell_type": "code",
      "execution_count": null,
      "metadata": {
        "id": "8c32329207b6"
      },
      "outputs": [],
      "source": [
        "# define the evaluation pipeline\n",
        "@kfp.dsl.pipeline(name=\"custom-tabular-classification-evaluation-pipeline\")\n",
        "def evaluation_custom_tabular_feature_attribution_pipeline(\n",
        "    project: str,\n",
        "    location: str,\n",
        "    root_dir: str,\n",
        "    model_name: str,\n",
        "    target_field_name: str,\n",
        "    bigquery_source_input_uri: str,\n",
        "    bigquery_destination_output_uri: str,\n",
        "    batch_predict_instances_format: str,\n",
        "    evaluation_class_names: list,\n",
        "    batch_predict_predictions_format: str = \"bigquery\",\n",
        "    evaluation_prediction_label_column: str = \"\",\n",
        "    evaluation_prediction_score_column: str = \"prediction\",\n",
        "    batch_predict_machine_type: str = \"n1-standard-4\",\n",
        "    batch_predict_starting_replica_count: int = 5,\n",
        "    batch_predict_max_replica_count: int = 10,\n",
        "    batch_predict_data_sample_size: int = 10000,\n",
        "):\n",
        "    # Import the components\n",
        "    from google_cloud_pipeline_components.aiplatform import ModelBatchPredictOp\n",
        "    from google_cloud_pipeline_components.experimental.evaluation import (\n",
        "        EvaluationDataSamplerOp, GetVertexModelOp,\n",
        "        ModelEvaluationClassificationOp, ModelImportEvaluationOp,\n",
        "        TargetFieldDataRemoverOp)\n",
        "\n",
        "    # Get the Vertex AI model resource\n",
        "    get_model_task = GetVertexModelOp(model_resource_name=model_name)\n",
        "\n",
        "    # Run the data sampling task\n",
        "    data_sampler_task = EvaluationDataSamplerOp(\n",
        "        project=project,\n",
        "        location=location,\n",
        "        root_dir=root_dir,\n",
        "        bigquery_source_uri=bigquery_source_input_uri,\n",
        "        instances_format=batch_predict_instances_format,\n",
        "        sample_size=batch_predict_data_sample_size,\n",
        "    )\n",
        "\n",
        "    # Run the task to remove the target field from data for batch prediction\n",
        "    data_splitter_task = TargetFieldDataRemoverOp(\n",
        "        project=project,\n",
        "        location=location,\n",
        "        root_dir=root_dir,\n",
        "        bigquery_source_uri=data_sampler_task.outputs[\"bigquery_output_table\"],\n",
        "        instances_format=batch_predict_instances_format,\n",
        "        target_field_name=target_field_name,\n",
        "    )\n",
        "\n",
        "    # Run the batch prediction task\n",
        "    batch_predict_task = ModelBatchPredictOp(\n",
        "        project=project,\n",
        "        location=location,\n",
        "        model=get_model_task.outputs[\"model\"],\n",
        "        job_display_name=\"model-registry-batch-prediction\",\n",
        "        bigquery_source_input_uri=data_splitter_task.outputs[\"bigquery_output_table\"],\n",
        "        instances_format=batch_predict_instances_format,\n",
        "        predictions_format=batch_predict_predictions_format,\n",
        "        bigquery_destination_output_uri=bigquery_destination_output_uri,\n",
        "        machine_type=batch_predict_machine_type,\n",
        "        starting_replica_count=batch_predict_starting_replica_count,\n",
        "        max_replica_count=batch_predict_max_replica_count,\n",
        "    )\n",
        "\n",
        "    # Run the evaluation based on prediction type\n",
        "    eval_task = ModelEvaluationClassificationOp(\n",
        "        project=project,\n",
        "        location=location,\n",
        "        root_dir=root_dir,\n",
        "        class_labels=evaluation_class_names,\n",
        "        prediction_label_column=evaluation_prediction_label_column,\n",
        "        prediction_score_column=evaluation_prediction_score_column,\n",
        "        target_field_name=target_field_name,\n",
        "        ground_truth_format=batch_predict_instances_format,\n",
        "        ground_truth_bigquery_source=data_sampler_task.outputs[\"bigquery_output_table\"],\n",
        "        predictions_format=batch_predict_predictions_format,\n",
        "        predictions_bigquery_source=batch_predict_task.outputs[\"bigquery_output_table\"],\n",
        "    )\n",
        "\n",
        "    # Import the model evaluations to the Vertex AI model\n",
        "    ModelImportEvaluationOp(\n",
        "        classification_metrics=eval_task.outputs[\"evaluation_metrics\"],\n",
        "        model=get_model_task.outputs[\"model\"],\n",
        "        dataset_type=batch_predict_instances_format,\n",
        "    )"
      ]
    },
    {
      "cell_type": "markdown",
      "metadata": {
        "id": "d4a544d067ba"
      },
      "source": [
        "### Compile the evaluation pipeline\n",
        "\n",
        "Compile the defined pipeline to a (json/yaml) file."
      ]
    },
    {
      "cell_type": "code",
      "execution_count": null,
      "metadata": {
        "id": "fc6171557f75"
      },
      "outputs": [],
      "source": [
        "compiler.Compiler().compile(\n",
        "    pipeline_func=evaluation_custom_tabular_feature_attribution_pipeline,\n",
        "    package_path=PIPELINE_PACKAGE_PATH,\n",
        ")"
      ]
    },
    {
      "cell_type": "markdown",
      "metadata": {
        "id": "e4f633d51a8d"
      },
      "source": [
        "### Define the parameters\n",
        "\n",
        "Before running your pipeline, set the following parameters :\n",
        "\n",
        "- `project`: Project ID of the Google Cloud project.\n",
        "- `location`: Region where the pipeline needs to be run. If not set, the pipeline defaults to the region that Vertex AI SDK is configured with.\n",
        "- `root_dir`: The Cloud Storage directory for keeping the staged files and artifacts. A random subdirectory is created under the directory to keep the job information for resuming the job in case of a failure.\n",
        "- `model_name`: Resource name of the trained custom tabular classification model.\n",
        "- `target_field_name`: Name of the column to be used as the ground truth for evaluation.\n",
        "- `bigquery_source_input_uri`: BigQuery table URI where the test input is stored.\n",
        "- `bigquery_destination_output_uri`: BigQuery dataset URI for exporting predictions on the test set.\n",
        "- `batch_predict_instances_format`: Format of the input for batch prediction and evaluation.\n",
        "- `batch_predict_predictions_format`: Format of the output for batch prediction and evaluation.\n",
        "- `evaluation_class_names`: The list of all class names for the target field in the dataset. \n",
        "- `batch_predict_data_sample_size`: Sample size of the input test data needed for batch prediction job and evaluation."
      ]
    },
    {
      "cell_type": "code",
      "execution_count": null,
      "metadata": {
        "id": "497307d23cf6"
      },
      "outputs": [],
      "source": [
        "parameters = {\n",
        "    \"project\": PROJECT_ID,\n",
        "    \"location\": REGION,\n",
        "    \"root_dir\": PIPELINE_ROOT,\n",
        "    \"model_name\": aip_model.resource_name,\n",
        "    \"target_field_name\": TARGET,\n",
        "    \"bigquery_source_input_uri\": f\"bq://{PROJECT_ID}.{table_ref.dataset_id}.{table_ref.table_id}\",\n",
        "    \"bigquery_destination_output_uri\": f\"bq://{PROJECT_ID}.{table_ref.dataset_id}\",\n",
        "    \"batch_predict_instances_format\": \"bigquery\",\n",
        "    \"batch_predict_predictions_format\": \"bigquery\",\n",
        "    \"evaluation_class_names\": CLASS_LABELS,\n",
        "    \"batch_predict_data_sample_size\": BATCH_SAMPLE_SIZE,\n",
        "}"
      ]
    },
    {
      "cell_type": "markdown",
      "metadata": {
        "id": "dc5d739481ab"
      },
      "source": [
        "### Run the pipeline\n",
        "\n",
        "Create a Vertex AI pipeline job using the following parameters and run it:\n",
        "\n",
        "- `display_name`: The name of the pipeline that should show up in the Google Cloud console.\n",
        "- `template_path`: The path of compiled PipelineSpec JSON or YAML file. It can be a local path, a Google Cloud Storage URI or an Artifact Registry URI.\n",
        "- `parameter_values`: The mapping from runtime parameter names to its values that control the pipeline run.\n",
        "- `enable_caching`: Boolean to spcify whether to turn on caching for the run or not.\n",
        "\n",
        "Learn more about Vertex AI SDK's [PipelineJob Class](https://cloud.google.com/python/docs/reference/aiplatform/latest/google.cloud.aiplatform.PipelineJob).\n",
        "\n",
        "After creating the pipeline job, run it using the configured `SERVICE_ACCOUNT`."
      ]
    },
    {
      "cell_type": "code",
      "execution_count": null,
      "metadata": {
        "id": "763d8aec247e"
      },
      "outputs": [],
      "source": [
        "# Create the pipeline job\n",
        "job = aiplatform.PipelineJob(\n",
        "    display_name=PIPELINE_DISPLAY_NAME,\n",
        "    template_path=PIPELINE_PACKAGE_PATH,\n",
        "    parameter_values=parameters,\n",
        "    enable_caching=True,\n",
        ")\n",
        "# Run the pipeline job\n",
        "job.run(service_account=SERVICE_ACCOUNT)"
      ]
    },
    {
      "cell_type": "markdown",
      "metadata": {
        "id": "1a80e3c81ad5"
      },
      "source": [
        "In the results obtained from the last step, click on the generated link to see your run in the Cloud Console.\n",
        "\n",
        "In the UI, nodes for your pipeline's directed acyclic graph (DAG) expand or collapse when you click on them. Here is a partially-expanded view of the DAG (click image to see larger version).\n",
        "\n",
        "<img src=\"images/custom_tabular_classification_evaluation_pipeline.PNG\">\n",
        "\n",
        "## Print the metrics\n",
        "\n",
        "After the pipeline has run successfully, fetch the evaluation metrics from the evaluation task and print them."
      ]
    },
    {
      "cell_type": "code",
      "execution_count": null,
      "metadata": {
        "id": "b53739c26cfa"
      },
      "outputs": [],
      "source": [
        "# Iterate over the pipeline tasks\n",
        "for task in job._gca_resource.job_detail.task_details:\n",
        "    # Obtain the artifacts from the evaluation task\n",
        "    if (\n",
        "        (\"model-evaluation\" in task.task_name)\n",
        "        and (\"model-evaluation-import\" not in task.task_name)\n",
        "        and (\n",
        "            task.state == aiplatform_v1.types.PipelineTaskDetail.State.SUCCEEDED\n",
        "            or task.state == aiplatform_v1.types.PipelineTaskDetail.State.SKIPPED\n",
        "        )\n",
        "    ):\n",
        "        evaluation_metrics = task.outputs.get(\"evaluation_metrics\").artifacts[0]\n",
        "        evaluation_metrics_gcs_uri = evaluation_metrics.uri\n",
        "\n",
        "print(evaluation_metrics)\n",
        "print(evaluation_metrics_gcs_uri)"
      ]
    },
    {
      "cell_type": "markdown",
      "metadata": {
        "id": "e8984d2a0e5b"
      },
      "source": [
        "## Visualize the metrics\n",
        "\n",
        "Visualize the generated evaluation metrics using a bar chart."
      ]
    },
    {
      "cell_type": "code",
      "execution_count": null,
      "metadata": {
        "id": "b296182b80b3"
      },
      "outputs": [],
      "source": [
        "metrics = []\n",
        "values = []\n",
        "for i in evaluation_metrics.metadata.items():\n",
        "    metrics.append(i[0])\n",
        "    values.append(i[1])\n",
        "plt.figure(figsize=(5, 3))\n",
        "plt.bar(x=metrics, height=values)\n",
        "plt.title(\"Evaluation Metrics\")\n",
        "plt.ylabel(\"Value\")\n",
        "plt.show()"
      ]
    },
    {
      "cell_type": "markdown",
      "metadata": {
        "id": "TpV-iwP9qw9c"
      },
      "source": [
        "## Cleaning up\n",
        "\n",
        "To clean up all Google Cloud resources used in this project, you can [delete the Google Cloud\n",
        "project](https://cloud.google.com/resource-manager/docs/creating-managing-projects#shutting_down_projects) you used for the tutorial.\n",
        "\n",
        "Otherwise, you can delete the individual resources you created in this tutorial.\n",
        "\n",
        "- Vertex AI Model\n",
        "- Vertex AI Pipeline job\n",
        "- Repository in Artifact Registry\n",
        "- BigQuery dataset\n",
        "- Cloud Storage bucekt (set `delete_bucket` to **True** to create the Cloud Storage bucket created in this notebook)."
      ]
    },
    {
      "cell_type": "code",
      "execution_count": null,
      "metadata": {
        "id": "sx_vKniMq9ZX"
      },
      "outputs": [],
      "source": [
        "import os\n",
        "\n",
        "# Delete model resource\n",
        "aip_model.delete()\n",
        "\n",
        "# Delete the evaluation pipeline\n",
        "job.delete()\n",
        "\n",
        "# Delete the repository in Artifact Registry\n",
        "! gcloud artifacts repositories delete --location=us-central1 {REPOSITORY} --quiet\n",
        "\n",
        "# Delete the BigQuery dataset\n",
        "! bq rm -r -f $PROJECT_ID:$PREDICTION_INPUT_DATASET_ID\n",
        "\n",
        "delete_bucket = False\n",
        "# Delete Cloud Storage objects\n",
        "if delete_bucket or os.getenv(\"IS_TESTING\"):\n",
        "    ! gsutil -m rm -r $BUCKET_URI"
      ]
    }
  ],
  "metadata": {
    "colab": {
      "collapsed_sections": [],
      "name": "custom_tabular_classification_model_evaluation.ipynb",
      "toc_visible": true
    },
    "kernelspec": {
      "display_name": "Python 3",
      "name": "python3"
    }
  },
  "nbformat": 4,
  "nbformat_minor": 0
}
