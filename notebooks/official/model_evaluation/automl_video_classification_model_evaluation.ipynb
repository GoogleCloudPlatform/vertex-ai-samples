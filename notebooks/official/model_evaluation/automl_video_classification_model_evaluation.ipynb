{
 "cells": [
  {
   "cell_type": "code",
   "execution_count": null,
   "metadata": {
    "id": "copyright"
   },
   "outputs": [],
   "source": [
    "# Copyright 2022 Google LLC\n",
    "#\n",
    "# Licensed under the Apache License, Version 2.0 (the \"License\");\n",
    "# you may not use this file except in compliance with the License.\n",
    "# You may obtain a copy of the License at\n",
    "#\n",
    "#     https://www.apache.org/licenses/LICENSE-2.0\n",
    "#\n",
    "# Unless required by applicable law or agreed to in writing, software\n",
    "# distributed under the License is distributed on an \"AS IS\" BASIS,\n",
    "# WITHOUT WARRANTIES OR CONDITIONS OF ANY KIND, either express or implied.\n",
    "# See the License for the specific language governing permissions and\n",
    "# limitations under the License."
   ]
  },
  {
   "cell_type": "markdown",
   "metadata": {
    "id": "title"
   },
   "source": [
    "# Vertex AI Pipelines: Evaluating batch prediction results from AutoML video classification model\n",
    "\n",
    "<table align=\"left\">\n",
    "  <td style=\"text-align: center\">\n",
    "    <a href=\"https://colab.research.google.com/github/GoogleCloudPlatform/vertex-ai-samples/blob/main/notebooks/official/pipelines/lightweight_functions_component_io_kfp.ipynb\">\n",
    "      <img src=\"https://cloud.google.com/ml-engine/images/colab-logo-32px.png\" alt=\"Google Colaboratory logo\"><br> Open in Colab\n",
    "    </a>\n",
    "  </td>\n",
    "  <td style=\"text-align: center\">\n",
    "    <a href=\"https://console.cloud.google.com/vertex-ai/colab/import/https:%2F%2Fraw.githubusercontent.com%2FGoogleCloudPlatform%2Fvertex-ai-samples%2Fmain%2Fnotebooks%2Fnotebook_template.ipynb\">\n",
    "      <img src=\"https://cloud.google.com/ml-engine/images/colab-enterprise-logo-32px.png\" alt=\"Google Cloud Colab Enterprise logo\"><br> Open in Colab Enterprise\n",
    "    </a>\n",
    "  </td>\n",
    "  <td style=\"text-align: center\">\n",
    "    <a href=\"https://github.com/GoogleCloudPlatform/vertex-ai-samples/blob/main/notebooks/official/pipelines/lightweight_functions_component_io_kfp.ipynb\">\n",
    "      <img src=\"https://cloud.google.com/ml-engine/images/github-logo-32px.png\" alt=\"GitHub logo\"><br> View on GitHub\n",
    "    </a>\n",
    "  </td>\n",
    "  <td style=\"text-align: center\">\n",
    "<a href=\"https://console.cloud.google.com/vertex-ai/workbench/deploy-notebook?download_url=https://raw.githubusercontent.com/GoogleCloudPlatform/vertex-ai-samples/main/notebooks/official/pipelines/lightweight_functions_component_io_kfp.ipynb\" target='_blank'>\n",
    "      <img src=\"https://lh3.googleusercontent.com/UiNooY4LUgW_oTvpsNhPpQzsstV5W8F7rYgxgGBD85cWJoLmrOzhVs_ksK_vgx40SHs7jCqkTkCk=e14-rj-sc0xffffff-h130-w32\" alt=\"Vertex AI logo\"><br> Open in Vertex AI Workbench\n",
    "     </a>\n",
    "   </td>\n",
    "</table>\n",
    "<br/><br/><br/>"
   ]
  },
  {
   "cell_type": "markdown",
   "metadata": {
    "id": "098dd9090e65"
   },
   "source": [
    "## Overview\n",
    "\n",
    "This notebook demonstrates how to use the Vertex AI classification model evaluation component to evaluate an AutoML video classification model. Model evaluation helps you determine your model performance based on the evaluation metrics and improve the model if necessary. \n",
    "\n",
    "Learn more about [Vertex AI Model Evaluation](https://cloud.google.com/vertex-ai/docs/evaluation/introduction) and [Classification for video data](https://cloud.google.com/vertex-ai/docs/training-overview#classification_for_videos)."
   ]
  },
  {
   "cell_type": "markdown",
   "metadata": {
    "id": "objective:automl,training,batch_prediction"
   },
   "source": [
    "### Objective\n",
    "\n",
    "In this tutorial, you learn how to train a Vertex AI AutoML Video classification model and learn how to evaluate it through a Vertex AI pipeline job using google_cloud_pipeline_components:\n",
    "\n",
    "This tutorial uses the following Google Cloud ML services and resources:\n",
    "\n",
    "- Vertex AI Datasets\n",
    "- Vertex AI Training(AutoML Video Classification) \n",
    "- Vertex AI Model Registry\n",
    "- Vertex AI Pipelines\n",
    "- Vertex AI Batch Predictions\n",
    "\n",
    "\n",
    "\n",
    "The steps performed include:\n",
    "\n",
    "- Create a Vertex AI Dataset.\n",
    "- Train a Automl Video Classification model on the Vertex AI Dataset resource.\n",
    "- Import the trained AutoML Vertex AI Model resource into the pipeline.\n",
    "- Run a batch prediction job inside the pipeline.\n",
    "- Evaluate the AutoML model using the classification evaluation component.\n",
    "- Import the classification metrics to the AutoML Vertex AI Model resource."
   ]
  },
  {
   "cell_type": "markdown",
   "metadata": {
    "id": "dataset:hmdb,vcn"
   },
   "source": [
    "### Dataset\n",
    "\n",
    "The dataset used for this tutorial is the golf swing recognition portion of the [Human Motion dataset from MIT](http://cbcl.mit.edu/publications/ps/Kuehne_etal_iccv11.pdf). The version of the dataset you use in this tutorial is stored in a public Cloud Storage bucket. The trained model predicts the start frame where a golf swing begins.\n"
   ]
  },
  {
   "cell_type": "markdown",
   "metadata": {
    "id": "costs"
   },
   "source": [
    "### Costs\n",
    "\n",
    "This tutorial uses billable components of Google Cloud:\n",
    "\n",
    "* Vertex AI\n",
    "* Cloud Storage\n",
    "\n",
    "Learn about [Vertex AI pricing](https://cloud.google.com/vertex-ai/pricing) and\n",
    "[Cloud Storage pricing](https://cloud.google.com/storage/pricing), and use the\n",
    "[Pricing Calculator](https://cloud.google.com/products/calculator/) to generate a cost estimate based on your projected usage."
   ]
  },
  {
   "cell_type": "markdown",
   "metadata": {
    "id": "install_aip:mbsdk"
   },
   "source": [
    "## Get started\n",
    "\n",
    "Install Vertex AI SDK for Python and other required packages\n"
   ]
  },
  {
   "cell_type": "code",
   "execution_count": 1,
   "metadata": {
    "id": "2abdd254e90f"
   },
   "outputs": [],
   "source": [
    "! pip3 install --upgrade --quiet google-cloud-aiplatform \\\n",
    "                                 google-cloud-pipeline-components \\\n",
    "                                 google-cloud-storage \\\n",
    "                                 matplotlib"
   ]
  },
  {
   "cell_type": "markdown",
   "metadata": {
    "id": "restart"
   },
   "source": [
    "### Restart runtime (Colab only)\n",
    "\n",
    "To use the newly installed packages, you must restart the runtime on Google Colab."
   ]
  },
  {
   "cell_type": "code",
   "execution_count": null,
   "metadata": {
    "id": "D-ZBOjErv5mM"
   },
   "outputs": [],
   "source": [
    "import sys\n",
    "\n",
    "if \"google.colab\" in sys.modules:\n",
    "\n",
    "    import IPython\n",
    "\n",
    "    app = IPython.Application.instance()\n",
    "    app.kernel.do_shutdown(True)"
   ]
  },
  {
   "cell_type": "markdown",
   "metadata": {},
   "source": [
    "### Authenticate your notebook environment (Colab only)\n",
    "\n",
    "Authenticate your environment on Google Colab."
   ]
  },
  {
   "cell_type": "code",
   "execution_count": null,
   "metadata": {},
   "outputs": [],
   "source": [
    "import sys\n",
    "\n",
    "if \"google.colab\" in sys.modules:\n",
    "\n",
    "    from google.colab import auth\n",
    "\n",
    "    auth.authenticate_user()"
   ]
  },
  {
   "cell_type": "markdown",
   "metadata": {},
   "source": [
    "### Set Google Cloud project information\n",
    "\n",
    "Learn more about [setting up a project and a development environment](https://cloud.google.com/vertex-ai/docs/start/cloud-environment)"
   ]
  },
  {
   "cell_type": "code",
   "execution_count": 4,
   "metadata": {
    "id": "set_project_id"
   },
   "outputs": [],
   "source": [
    "PROJECT_ID = \"[your-project-id]\"  # @param {type:\"string\"}\n",
    "LOCATION = \"us-central1\"  # @param {type:\"string\"}"
   ]
  },
  {
   "cell_type": "markdown",
   "metadata": {
    "id": "bucket:mbsdk"
   },
   "source": [
    "### Create a Cloud Storage bucket\n",
    "\n",
    "Create a storage bucket to store intermediate artifacts such as datasets."
   ]
  },
  {
   "cell_type": "code",
   "execution_count": 5,
   "metadata": {
    "id": "bucket"
   },
   "outputs": [],
   "source": [
    "BUCKET_URI = f\"gs://your-bucket-name-{PROJECT_ID}-unique\"  # @param {type:\"string\"}"
   ]
  },
  {
   "cell_type": "markdown",
   "metadata": {
    "id": "autoset_bucket"
   },
   "source": [
    "**If your bucket doesn't already exist**: Run the following cell to create your Cloud Storage bucket."
   ]
  },
  {
   "cell_type": "code",
   "execution_count": 6,
   "metadata": {
    "id": "91c46850b49b"
   },
   "outputs": [
    {
     "name": "stdout",
     "output_type": "stream",
     "text": [
      "Creating gs://automl-video-model-vertexai-service-project-unique/...\n",
      "ServiceException: 409 A Cloud Storage bucket named 'automl-video-model-vertexai-service-project-unique' already exists. Try another name. Bucket names must be globally unique across all Google Cloud projects, including those outside of your organization.\n"
     ]
    }
   ],
   "source": [
    "! gsutil mb -l $LOCATION -p $PROJECT_ID $BUCKET_URI"
   ]
  },
  {
   "cell_type": "markdown",
   "metadata": {
    "id": "setup_vars"
   },
   "source": [
    "### Import libraries"
   ]
  },
  {
   "cell_type": "code",
   "execution_count": 7,
   "metadata": {
    "id": "import_aip:mbsdk"
   },
   "outputs": [],
   "source": [
    "import json\n",
    "\n",
    "import google.cloud.aiplatform as aiplatform\n",
    "import matplotlib.pyplot as plt\n",
    "from google.cloud import aiplatform_v1, storage"
   ]
  },
  {
   "cell_type": "markdown",
   "metadata": {
    "id": "init_aip:mbsdk"
   },
   "source": [
    "### Initialize Vertex AI SDK for Python\n",
    "\n",
    "Initialize the Vertex AI SDK for Python for your project and corresponding bucket."
   ]
  },
  {
   "cell_type": "code",
   "execution_count": 8,
   "metadata": {
    "id": "init_aip:mbsdk"
   },
   "outputs": [],
   "source": [
    "aiplatform.init(project=PROJECT_ID, staging_bucket=BUCKET_URI)"
   ]
  },
  {
   "cell_type": "markdown",
   "metadata": {
    "id": "import_file:u_dataset,csv"
   },
   "source": [
    "### Location of training data\n",
    "\n",
    "Now set the variable `IMPORT_FILE` to the location of the CSV index file in Cloud Storage."
   ]
  },
  {
   "cell_type": "code",
   "execution_count": 9,
   "metadata": {
    "id": "import_file:hmdb,csv,vcn"
   },
   "outputs": [],
   "source": [
    "IMPORT_FILE = (\n",
    "    \"gs://cloud-samples-data/video/automl_classification/hmdb_split_40_mp4_step2.csv\"\n",
    ")"
   ]
  },
  {
   "cell_type": "markdown",
   "metadata": {
    "id": "quick_peek:csv"
   },
   "source": [
    "### Quick peek at your data\n",
    "\n",
    "This tutorial uses a version of the MIT Human Motion dataset that is stored in a public Cloud Storage bucket, using a CSV index file.\n",
    "\n",
    "Start by doing a quick peek at the data. You count the number of examples by counting the number of rows in the CSV index file  (`wc -l`) and then peek at the first few rows."
   ]
  },
  {
   "cell_type": "code",
   "execution_count": 10,
   "metadata": {
    "id": "quick_peek:csv"
   },
   "outputs": [
    {
     "name": "stdout",
     "output_type": "stream",
     "text": [
      "Number of Examples 78\n",
      "First 10 rows\n",
      "gs://cloud-samples-data/video/automl_classification/April_09_brush_hair_u_nm_np1_ba_goo_0.mp4,brush_hair,0,13.633333\n",
      "gs://cloud-samples-data/video/automl_classification/April_09_brush_hair_u_nm_np1_ba_goo_1.mp4,brush_hair,0,13.166667\n",
      "gs://cloud-samples-data/video/automl_classification/April_09_brush_hair_u_nm_np1_ba_goo_2.mp4,brush_hair,0,10.766667\n",
      "gs://cloud-samples-data/video/automl_classification/Aussie_Brunette_Brushing_Hair_II_brush_hair_u_nm_np1_ri_med_3.mp4,brush_hair,0,5.3\n",
      "gs://cloud-samples-data/video/automl_classification/Aussie_Brunette_Brushing_Hair_II_brush_hair_u_nm_np2_le_goo_0.mp4,brush_hair,0,4.566667\n",
      "gs://cloud-samples-data/video/automl_classification/Aussie_Brunette_Brushing_Hair_II_brush_hair_u_nm_np2_le_goo_1.mp4,brush_hair,0,11.966667\n",
      "gs://cloud-samples-data/video/automl_classification/Aussie_Brunette_Brushing_Hair_II_brush_hair_u_nm_np2_le_med_2.mp4,brush_hair,0,6.366667\n",
      "gs://cloud-samples-data/video/automl_classification/Blonde_being_brushed_brush_hair_f_nm_np2_ri_med_0.mp4,brush_hair,0,2.633333\n",
      "gs://cloud-samples-data/video/automl_classification/Blonde_being_brushed_brush_hair_u_cm_np2_ri_med_1.mp4,brush_hair,0,9.133333\n",
      "gs://cloud-samples-data/video/automl_classification/Brunette_Foxyanya_ultra_silky_long_hair_brushing_hairjob_brush_hair_f_nm_np1_fr_goo_1.mp4,brush_hair,0,8.533333\n",
      "Exception ignored in: <_io.TextIOWrapper name='<stdout>' mode='w' encoding='utf-8'>\n",
      "BrokenPipeError: [Errno 32] Broken pipe\n"
     ]
    }
   ],
   "source": [
    "count = ! gsutil cat $IMPORT_FILE | wc -l\n",
    "print(\"Number of Examples\", int(count[0]))\n",
    "\n",
    "print(\"First 10 rows\")\n",
    "! gsutil cat $IMPORT_FILE | head"
   ]
  },
  {
   "cell_type": "markdown",
   "metadata": {
    "id": "create_dataset:video,vcn"
   },
   "source": [
    "### Create the Dataset\n",
    "\n",
    "Next, create the `Vertex AI Dataset` resource using the `create` method for the `VideoDataset` class, which takes the following parameters:\n",
    "\n",
    "- `display_name`: The human readable name for the `Vertex AI Dataset` resource.\n",
    "- `gcs_source`: A list of one or more dataset index files to import the data items into the `Vertex AI Dataset` resource.\n",
    "\n",
    "This operation may take several minutes."
   ]
  },
  {
   "cell_type": "code",
   "execution_count": 11,
   "metadata": {
    "id": "create_dataset:video,vcn"
   },
   "outputs": [
    {
     "name": "stdout",
     "output_type": "stream",
     "text": [
      "Creating VideoDataset\n",
      "Create VideoDataset backing LRO: projects/314481442207/locations/us-central1/datasets/1005225207159324672/operations/7295141762031419392\n",
      "VideoDataset created. Resource name: projects/314481442207/locations/us-central1/datasets/1005225207159324672\n",
      "To use this VideoDataset in another session:\n",
      "ds = aiplatform.VideoDataset('projects/314481442207/locations/us-central1/datasets/1005225207159324672')\n",
      "Importing VideoDataset data: projects/314481442207/locations/us-central1/datasets/1005225207159324672\n",
      "Import VideoDataset data backing LRO: projects/314481442207/locations/us-central1/datasets/1005225207159324672/operations/2863599728698851328\n",
      "VideoDataset data imported. Resource name: projects/314481442207/locations/us-central1/datasets/1005225207159324672\n",
      "projects/314481442207/locations/us-central1/datasets/1005225207159324672\n"
     ]
    }
   ],
   "source": [
    "dataset = aiplatform.VideoDataset.create(\n",
    "    display_name=\"MIT Human Motion\",\n",
    "    gcs_source=[IMPORT_FILE],\n",
    "    import_schema_uri=aiplatform.schema.dataset.ioformat.video.classification,\n",
    ")\n",
    "\n",
    "print(dataset.resource_name)"
   ]
  },
  {
   "cell_type": "markdown",
   "metadata": {
    "id": "create_automl_pipeline:video,vcn"
   },
   "source": [
    "### Create and run training pipeline\n",
    "\n",
    "To train an AutoML model, you perform two steps:\n",
    "\n",
    "1. Create a training pipeline.\n",
    "2. Run the pipeline.\n",
    "\n",
    "\n",
    "\n",
    "#### Create the training pipeline\n",
    "\n",
    "An AutoML training pipeline is created with the `AutoMLVideoTrainingJob` class, with the following parameters:\n",
    "\n",
    "- `display_name`: The human readable name for the `TrainingJob` resource.\n",
    "- `prediction_type`: The type task to train the model for.\n",
    "  - `classification`: A video classification model.\n",
    "  - `object_tracking`: A video object tracking model.\n",
    "  - `action_recognition`: A video action recognition model.\n"
   ]
  },
  {
   "cell_type": "code",
   "execution_count": 12,
   "metadata": {
    "id": "create_automl_pipeline:video,vcn"
   },
   "outputs": [
    {
     "name": "stdout",
     "output_type": "stream",
     "text": [
      "<google.cloud.aiplatform.training_jobs.AutoMLVideoTrainingJob object at 0x7f60e18a4d00>\n"
     ]
    }
   ],
   "source": [
    "training_job = aiplatform.AutoMLVideoTrainingJob(\n",
    "    display_name=\"hmdb\",\n",
    "    prediction_type=\"classification\",\n",
    ")\n",
    "\n",
    "print(training_job)"
   ]
  },
  {
   "cell_type": "markdown",
   "metadata": {
    "id": "run_automl_pipeline:video"
   },
   "source": [
    "#### Run the training pipeline\n",
    "\n",
    "Next, you run the job to start the training job by invoking the method `run`, with the following parameters:\n",
    "\n",
    "- `dataset`: The `Vertex AI Dataset` resource to train the model.\n",
    "- `model_display_name`: The human readable name for the trained model.\n",
    "- `training_fraction_split`: The percentage of the dataset to use for training.\n",
    "- `test_fraction_split`: The percentage of the dataset to use for test (holdout data).\n",
    "\n",
    "The `run` method when completed returns the `Model` resource.\n",
    "\n",
    "The execution of the training pipeline can take over 24 hours to complete."
   ]
  },
  {
   "cell_type": "code",
   "execution_count": 13,
   "metadata": {
    "id": "3eaba926cdfa"
   },
   "outputs": [],
   "source": [
    "import os\n",
    "\n",
    "if os.getenv(\"IS_TESTING\"):\n",
    "    sys.exit(0)"
   ]
  },
  {
   "cell_type": "code",
   "execution_count": 15,
   "metadata": {
    "id": "run_automl_pipeline:video"
   },
   "outputs": [
    {
     "ename": "RuntimeError",
     "evalue": "AutoML Video Training has already run.",
     "output_type": "error",
     "traceback": [
      "\u001b[0;31m---------------------------------------------------------------------------\u001b[0m",
      "\u001b[0;31mRuntimeError\u001b[0m                              Traceback (most recent call last)",
      "Cell \u001b[0;32mIn[15], line 1\u001b[0m\n\u001b[0;32m----> 1\u001b[0m model \u001b[38;5;241m=\u001b[39m \u001b[43mtraining_job\u001b[49m\u001b[38;5;241;43m.\u001b[39;49m\u001b[43mrun\u001b[49m\u001b[43m(\u001b[49m\n\u001b[1;32m      2\u001b[0m \u001b[43m    \u001b[49m\u001b[43mdataset\u001b[49m\u001b[38;5;241;43m=\u001b[39;49m\u001b[43mdataset\u001b[49m\u001b[43m,\u001b[49m\n\u001b[1;32m      3\u001b[0m \u001b[43m    \u001b[49m\u001b[43mmodel_display_name\u001b[49m\u001b[38;5;241;43m=\u001b[39;49m\u001b[38;5;124;43m\"\u001b[39;49m\u001b[38;5;124;43mhmdb\u001b[39;49m\u001b[38;5;124;43m\"\u001b[39;49m\u001b[43m,\u001b[49m\n\u001b[1;32m      4\u001b[0m \u001b[43m    \u001b[49m\u001b[43mtraining_fraction_split\u001b[49m\u001b[38;5;241;43m=\u001b[39;49m\u001b[38;5;241;43m0.8\u001b[39;49m\u001b[43m,\u001b[49m\n\u001b[1;32m      5\u001b[0m \u001b[43m    \u001b[49m\u001b[43mtest_fraction_split\u001b[49m\u001b[38;5;241;43m=\u001b[39;49m\u001b[38;5;241;43m0.2\u001b[39;49m\u001b[43m,\u001b[49m\n\u001b[1;32m      6\u001b[0m \u001b[43m)\u001b[49m\n\u001b[1;32m      8\u001b[0m \u001b[38;5;28mprint\u001b[39m(model)\n",
      "File \u001b[0;32m/opt/conda/envs/automl_video_classification_model_evaluation/lib/python3.8/site-packages/google/cloud/aiplatform/training_jobs.py:8459\u001b[0m, in \u001b[0;36mAutoMLVideoTrainingJob.run\u001b[0;34m(self, dataset, training_fraction_split, test_fraction_split, training_filter_split, test_filter_split, model_display_name, model_labels, model_id, parent_model, is_default_version, model_version_aliases, model_version_description, sync, create_request_timeout)\u001b[0m\n\u001b[1;32m   8456\u001b[0m     \u001b[38;5;28;01mraise\u001b[39;00m \u001b[38;5;167;01mRuntimeError\u001b[39;00m(\u001b[38;5;124m\"\u001b[39m\u001b[38;5;124mAutoML Video Training is already scheduled to run.\u001b[39m\u001b[38;5;124m\"\u001b[39m)\n\u001b[1;32m   8458\u001b[0m \u001b[38;5;28;01mif\u001b[39;00m \u001b[38;5;28mself\u001b[39m\u001b[38;5;241m.\u001b[39m_has_run:\n\u001b[0;32m-> 8459\u001b[0m     \u001b[38;5;28;01mraise\u001b[39;00m \u001b[38;5;167;01mRuntimeError\u001b[39;00m(\u001b[38;5;124m\"\u001b[39m\u001b[38;5;124mAutoML Video Training has already run.\u001b[39m\u001b[38;5;124m\"\u001b[39m)\n\u001b[1;32m   8461\u001b[0m \u001b[38;5;28;01mreturn\u001b[39;00m \u001b[38;5;28mself\u001b[39m\u001b[38;5;241m.\u001b[39m_run(\n\u001b[1;32m   8462\u001b[0m     dataset\u001b[38;5;241m=\u001b[39mdataset,\n\u001b[1;32m   8463\u001b[0m     training_fraction_split\u001b[38;5;241m=\u001b[39mtraining_fraction_split,\n\u001b[0;32m   (...)\u001b[0m\n\u001b[1;32m   8475\u001b[0m     create_request_timeout\u001b[38;5;241m=\u001b[39mcreate_request_timeout,\n\u001b[1;32m   8476\u001b[0m )\n",
      "\u001b[0;31mRuntimeError\u001b[0m: AutoML Video Training has already run."
     ]
    }
   ],
   "source": [
    "model = training_job.run(\n",
    "    dataset=dataset,\n",
    "    model_display_name=\"hmdb\",\n",
    "    training_fraction_split=0.8,\n",
    "    test_fraction_split=0.2,\n",
    ")\n",
    "\n",
    "print(model)"
   ]
  },
  {
   "cell_type": "markdown",
   "metadata": {
    "id": "evaluate_the_model:mbsdk"
   },
   "source": [
    "## List model evaluations from training \n",
    "After your model has finished training, you can review the evaluation scores for it.\n",
    "\n",
    "You can check the model's evaluation results using the `get_model_evaluation` method of the Vertex AI Model resource.\n",
    "\n",
    "Just like Vertex AI datasets, you can either use the reference to the model variable you created when you trained the model or you can filter from the list of all of the models in your project using the model's display name as given below."
   ]
  },
  {
   "cell_type": "code",
   "execution_count": 16,
   "metadata": {
    "id": "evaluate_the_model:mbsdk"
   },
   "outputs": [
    {
     "name": "stdout",
     "output_type": "stream",
     "text": [
      "Vertex AI Model resource name: projects/314481442207/locations/us-central1/models/5412984803983097856\n"
     ]
    },
    {
     "data": {
      "text/html": [
       "\n",
       "        \n",
       "    <link rel=\"stylesheet\" href=\"https://fonts.googleapis.com/icon?family=Material+Icons\">\n",
       "    <style>\n",
       "      .view-vertex-resource,\n",
       "      .view-vertex-resource:hover,\n",
       "      .view-vertex-resource:visited {\n",
       "        position: relative;\n",
       "        display: inline-flex;\n",
       "        flex-direction: row;\n",
       "        height: 32px;\n",
       "        padding: 0 12px;\n",
       "          margin: 4px 18px;\n",
       "        gap: 4px;\n",
       "        border-radius: 4px;\n",
       "\n",
       "        align-items: center;\n",
       "        justify-content: center;\n",
       "        background-color: rgb(255, 255, 255);\n",
       "        color: rgb(51, 103, 214);\n",
       "\n",
       "        font-family: Roboto,\"Helvetica Neue\",sans-serif;\n",
       "        font-size: 13px;\n",
       "        font-weight: 500;\n",
       "        text-transform: uppercase;\n",
       "        text-decoration: none !important;\n",
       "\n",
       "        transition: box-shadow 280ms cubic-bezier(0.4, 0, 0.2, 1) 0s;\n",
       "        box-shadow: 0px 3px 1px -2px rgba(0,0,0,0.2), 0px 2px 2px 0px rgba(0,0,0,0.14), 0px 1px 5px 0px rgba(0,0,0,0.12);\n",
       "      }\n",
       "      .view-vertex-resource:active {\n",
       "        box-shadow: 0px 5px 5px -3px rgba(0,0,0,0.2),0px 8px 10px 1px rgba(0,0,0,0.14),0px 3px 14px 2px rgba(0,0,0,0.12);\n",
       "      }\n",
       "      .view-vertex-resource:active .view-vertex-ripple::before {\n",
       "        position: absolute;\n",
       "        top: 0;\n",
       "        bottom: 0;\n",
       "        left: 0;\n",
       "        right: 0;\n",
       "        border-radius: 4px;\n",
       "        pointer-events: none;\n",
       "\n",
       "        content: '';\n",
       "        background-color: rgb(51, 103, 214);\n",
       "        opacity: 0.12;\n",
       "      }\n",
       "      .view-vertex-icon {\n",
       "        font-size: 18px;\n",
       "      }\n",
       "    </style>\n",
       "  \n",
       "        <a class=\"view-vertex-resource\" id=\"view-vertex-resource-ec8d3405-691f-4c78-8619-823e6f31de02\" href=\"#view-view-vertex-resource-ec8d3405-691f-4c78-8619-823e6f31de02\">\n",
       "          <span class=\"material-icons view-vertex-icon\">lightbulb</span>\n",
       "          <span>View Model Evaluation</span>\n",
       "        </a>\n",
       "        \n",
       "        <script>\n",
       "          (function () {\n",
       "            const link = document.getElementById('view-vertex-resource-ec8d3405-691f-4c78-8619-823e6f31de02');\n",
       "            link.addEventListener('click', (e) => {\n",
       "              if (window.google?.colab?.openUrl) {\n",
       "                window.google.colab.openUrl('https://console.cloud.google.com/vertex-ai/models/locations/us-central1/models/5412984803983097856/versions/1/evaluations/4868080911570173952?project=314481442207');\n",
       "              } else {\n",
       "                window.open('https://console.cloud.google.com/vertex-ai/models/locations/us-central1/models/5412984803983097856/versions/1/evaluations/4868080911570173952?project=314481442207', '_blank');\n",
       "              }\n",
       "              e.stopPropagation();\n",
       "              e.preventDefault();\n",
       "            });\n",
       "          })();\n",
       "        </script>\n",
       "    "
      ],
      "text/plain": [
       "<IPython.core.display.HTML object>"
      ]
     },
     "metadata": {},
     "output_type": "display_data"
    },
    {
     "name": "stdout",
     "output_type": "stream",
     "text": [
      "Model's evaluation metrics from Training:\n",
      "\n",
      "metric: auPrc, value: 1.0\n",
      "\n",
      "metric: confusionMatrix, value: {'rows': [[8.0, 0.0], [0.0, 8.0]], 'annotationSpecs': [{'displayName': 'cartwheel', 'id': '1312774277488967680'}, {'displayName': 'brush_hair', 'id': '5924460295916355584'}]}\n",
      "\n",
      "metric: confidenceMetrics, value: [{'confidenceThreshold': 0.09510372, 'f1Score': 0.6666667, 'maxPredictions': 0.0, 'recall': 1.0, 'precision': 0.5}, {'confidenceThreshold': 0.09613987, 'f1Score': 0.7111111, 'maxPredictions': 0.0, 'recall': 1.0, 'precision': 0.55172414}, {'confidenceThreshold': 0.099069834, 'f1Score': 0.74418604, 'maxPredictions': 0.0, 'recall': 1.0, 'precision': 0.5925926}, {'confidenceThreshold': 0.10014116, 'f1Score': 0.7804878, 'maxPredictions': 0.0, 'recall': 1.0, 'precision': 0.64}, {'confidenceThreshold': 0.104234606, 'f1Score': 0.84210527, 'maxPredictions': 0.0, 'recall': 1.0, 'precision': 0.72727275}, {'confidenceThreshold': 0.106793284, 'f1Score': 0.8648649, 'maxPredictions': 0.0, 'recall': 1.0, 'precision': 0.7619048}, {'confidenceThreshold': 0.1139238, 'f1Score': 0.9142857, 'maxPredictions': 0.0, 'recall': 1.0, 'precision': 0.84210527}, {'confidenceThreshold': 0.11523403, 'f1Score': 0.9411765, 'maxPredictions': 0.0, 'recall': 1.0, 'precision': 0.8888889}, {'confidenceThreshold': 0.119469196, 'f1Score': 0.969697, 'maxPredictions': 0.0, 'recall': 1.0, 'precision': 0.9411765}, {'confidenceThreshold': 0.8750724, 'f1Score': 1.0, 'maxPredictions': 0.0, 'recall': 1.0, 'precision': 1.0}, {'confidenceThreshold': 0.88075846, 'f1Score': 0.9677419, 'maxPredictions': 0.0, 'recall': 0.9375, 'precision': 1.0}, {'confidenceThreshold': 0.8919529, 'f1Score': 0.8965517, 'maxPredictions': 0.0, 'recall': 0.8125, 'precision': 1.0}, {'confidenceThreshold': 0.8946547, 'f1Score': 0.85714287, 'maxPredictions': 0.0, 'recall': 0.75, 'precision': 1.0}, {'confidenceThreshold': 0.89655906, 'f1Score': 0.7692308, 'maxPredictions': 0.0, 'recall': 0.625, 'precision': 1.0}, {'confidenceThreshold': 0.900584, 'f1Score': 0.6666667, 'maxPredictions': 0.0, 'recall': 0.5, 'precision': 1.0}, {'confidenceThreshold': 0.90430844, 'f1Score': 0.54545456, 'maxPredictions': 0.0, 'recall': 0.375, 'precision': 1.0}, {'confidenceThreshold': 0.9070034, 'f1Score': 0.47619048, 'maxPredictions': 0.0, 'recall': 0.3125, 'precision': 1.0}, {'confidenceThreshold': 0.90979457, 'f1Score': 0.22222222, 'maxPredictions': 0.0, 'recall': 0.125, 'precision': 1.0}, {'confidenceThreshold': 0.9100275, 'f1Score': 0.11764706, 'maxPredictions': 0.0, 'recall': 0.0625, 'precision': 1.0}, {'confidenceThreshold': 1.0, 'f1Score': 0.0, 'maxPredictions': 0.0, 'recall': 0.0, 'precision': 0.0}]\n",
      "\n"
     ]
    }
   ],
   "source": [
    "# Get Vertex AI Model resource ID using the display_name\n",
    "models = aiplatform.Model.list(filter=\"display_name=hmdb\")\n",
    "\n",
    "if len(models) != 0:\n",
    "    # Get the model object\n",
    "    MODEL_RSC_NAME = models[0].resource_name\n",
    "    print(\"Vertex AI Model resource name:\", MODEL_RSC_NAME)\n",
    "    model = aiplatform.Model(MODEL_RSC_NAME)\n",
    "\n",
    "    # Print the evaluation metrics\n",
    "    model_eval = model.get_model_evaluation()\n",
    "    evaluation = model_eval.to_dict()\n",
    "    print(\"Model's evaluation metrics from Training:\\n\")\n",
    "    metrics = evaluation[\"metrics\"]\n",
    "    for metric in metrics.keys():\n",
    "        print(f\"metric: {metric}, value: {metrics[metric]}\\n\")"
   ]
  },
  {
   "cell_type": "markdown",
   "metadata": {
    "id": "get_test_items:batch_prediction"
   },
   "source": [
    "### Get test item(s)\n",
    "\n",
    "Inside the pipeline, you need some data samples for creating a batch prediction job. So, you use some arbitrary examples from the dataset as test items."
   ]
  },
  {
   "cell_type": "code",
   "execution_count": 17,
   "metadata": {
    "id": "get_test_items:automl,vcn,csv"
   },
   "outputs": [
    {
     "name": "stdout",
     "output_type": "stream",
     "text": [
      "gs://cloud-samples-data/video/automl_classification/April_09_brush_hair_u_nm_np1_ba_goo_0.mp4 brush_hair\n",
      "gs://cloud-samples-data/video/automl_classification/April_09_brush_hair_u_nm_np1_ba_goo_1.mp4 brush_hair\n",
      "['gs://cloud-samples-data/video/automl_classification/April_09_brush_hair_u_nm_np1_ba_goo_0.mp4,brush_hair,0,13.633333', 'gs://cloud-samples-data/video/automl_classification/April_09_brush_hair_u_nm_np1_ba_goo_1.mp4,brush_hair,0,13.166667', \"Exception ignored in: <_io.TextIOWrapper name='<stdout>' mode='w' encoding='utf-8'>\", 'BrokenPipeError: [Errno 32] Broken pipe']\n"
     ]
    }
   ],
   "source": [
    "test_items = ! gsutil cat $IMPORT_FILE | head -n2\n",
    "\n",
    "if len(test_items[0]) == 5:\n",
    "    _, test_item_1, test_label_1, _, _ = str(test_items[0]).split(\",\")\n",
    "    _, test_item_2, test_label_2, _, _ = str(test_items[1]).split(\",\")\n",
    "else:\n",
    "    test_item_1, test_label_1, _, _ = str(test_items[0]).split(\",\")\n",
    "    test_item_2, test_label_2, _, _ = str(test_items[1]).split(\",\")\n",
    "\n",
    "\n",
    "print(test_item_1, test_label_1)\n",
    "print(test_item_2, test_label_2)\n",
    "\n",
    "print(test_items)"
   ]
  },
  {
   "cell_type": "markdown",
   "metadata": {
    "id": "dcb49010e512"
   },
   "source": [
    "### Copy test item(s)\n",
    "For the batch prediction, copy the test items over to your Cloud Storage bucket."
   ]
  },
  {
   "cell_type": "code",
   "execution_count": 18,
   "metadata": {
    "id": "874f9ab72908"
   },
   "outputs": [
    {
     "name": "stdout",
     "output_type": "stream",
     "text": [
      "Copying gs://cloud-samples-data/video/automl_classification/April_09_brush_hair_u_nm_np1_ba_goo_0.mp4 [Content-Type=video/mp4]...\n",
      "/ [1 files][214.8 KiB/214.8 KiB]                                                \n",
      "Operation completed over 1 objects/214.8 KiB.                                    \n",
      "Copying gs://cloud-samples-data/video/automl_classification/April_09_brush_hair_u_nm_np1_ba_goo_1.mp4 [Content-Type=video/mp4]...\n",
      "/ [1 files][175.8 KiB/175.8 KiB]                                                \n",
      "Operation completed over 1 objects/175.8 KiB.                                    \n"
     ]
    }
   ],
   "source": [
    "file_1 = test_item_1.split(\"/\")[-1]\n",
    "file_2 = test_item_2.split(\"/\")[-1]\n",
    "\n",
    "! gsutil cp $test_item_1 $BUCKET_URI/$file_1\n",
    "! gsutil cp $test_item_2 $BUCKET_URI/$file_2\n",
    "\n",
    "test_item_1 = BUCKET_URI + \"/\" + file_1\n",
    "test_item_2 = BUCKET_URI + \"/\" + file_2"
   ]
  },
  {
   "cell_type": "markdown",
   "metadata": {
    "id": "make_batch_file:automl,video"
   },
   "source": [
    "### Make a Pipeline input file\n",
    "\n",
    "Now, make an input file for your evaluation pipeline and store it in the Cloud Storage bucket. The input file is stored in JSONL format for this tutorial. In the JSONL file, you make one dictionary entry per line for each video file. The dictionary contains the following key-value pairs:\n",
    "\n",
    "- `content`: The Cloud Storage path to the video.\n",
    "- `mimeType`: The content type. In our example, it is a `avi` file.\n",
    "- `timeSegmentStart`: The start timestamp in the video to do prediction on. *Note*, the timestamp must be specified as a string and followed by s (second), m (minute) or h (hour).\n",
    "- `timeSegmentEnd`: The end timestamp in the video to do prediction on.\n",
    "- `outputLabel`: The batch prediction labels."
   ]
  },
  {
   "cell_type": "code",
   "execution_count": 19,
   "metadata": {
    "id": "116377999a9f"
   },
   "outputs": [
    {
     "name": "stdout",
     "output_type": "stream",
     "text": [
      "gs://automl-video-model-vertexai-service-project-unique/ground_truth.jsonl\n"
     ]
    }
   ],
   "source": [
    "test_filename = \"ground_truth.jsonl\"\n",
    "gcs_ground_truth_uri = BUCKET_URI + \"/\" + test_filename\n",
    "\n",
    "data_1 = {\n",
    "    \"content\": test_item_1,\n",
    "    \"mimeType\": \"video/mp4\",\n",
    "    \"timeSegmentStart\": \"0.0s\",\n",
    "    \"timeSegmentEnd\": \"5.0s\",\n",
    "    \"outputLabel\": test_label_1,\n",
    "}\n",
    "data_2 = {\n",
    "    \"content\": test_item_2,\n",
    "    \"mimeType\": \"video/mp4\",\n",
    "    \"timeSegmentStart\": \"0.0s\",\n",
    "    \"timeSegmentEnd\": \"5.0s\",\n",
    "    \"outputLabel\": test_label_2,\n",
    "}\n",
    "\n",
    "\n",
    "bucket = storage.Client(project=PROJECT_ID).bucket(BUCKET_URI[5:])\n",
    "blob = bucket.blob(blob_name=test_filename)\n",
    "data = json.dumps(data_1) + \"\\n\" + json.dumps(data_2) + \"\\n\"\n",
    "blob.upload_from_string(data)\n",
    "print(gcs_ground_truth_uri)"
   ]
  },
  {
   "cell_type": "markdown",
   "metadata": {
    "id": "d56366168ec5"
   },
   "source": [
    "### Check input content\n",
    "Check the contents of the `ground_truth.jsonl`."
   ]
  },
  {
   "cell_type": "code",
   "execution_count": 20,
   "metadata": {
    "id": "48889e396969"
   },
   "outputs": [
    {
     "name": "stdout",
     "output_type": "stream",
     "text": [
      "{\"content\": \"gs://automl-video-model-vertexai-service-project-unique/April_09_brush_hair_u_nm_np1_ba_goo_0.mp4\", \"mimeType\": \"video/mp4\", \"timeSegmentStart\": \"0.0s\", \"timeSegmentEnd\": \"5.0s\", \"outputLabel\": \"brush_hair\"}\n",
      "{\"content\": \"gs://automl-video-model-vertexai-service-project-unique/April_09_brush_hair_u_nm_np1_ba_goo_1.mp4\", \"mimeType\": \"video/mp4\", \"timeSegmentStart\": \"0.0s\", \"timeSegmentEnd\": \"5.0s\", \"outputLabel\": \"brush_hair\"}\n"
     ]
    }
   ],
   "source": [
    "! gsutil cat $gcs_ground_truth_uri"
   ]
  },
  {
   "cell_type": "markdown",
   "metadata": {
    "id": "f55310caafeb"
   },
   "source": [
    "## Run a pipeline for model evaluation\n",
    "\n",
    "Now, you run a Vertex AI batch prediction job and generate evaluations and feature attributions on its results using a pipeline. \n",
    "\n",
    "To do so, you create a Vertex AI pipeline by calling `evaluate` function. Learn more about [evaluate function](https://github.com/googleapis/python-aiplatform/blob/main/google/cloud/aiplatform/models.py#L5127)."
   ]
  },
  {
   "cell_type": "markdown",
   "metadata": {
    "id": "269a8f6f50ed"
   },
   "source": [
    "### Define parameters to run the evaluate function\n",
    "\n",
    "Specify the required parameters to run `evaluate` function. \n",
    "\n",
    "The following is the instruction of `evaluate` function paramters:\n",
    "\n",
    "- `prediction_type`: The problem type being addressed by this evaluation run. 'classification' and 'regression' are the currently supported problem types.\n",
    "- `target_field_name`: Name of the column to be used as the target for classification.\n",
    "- `gcs_source_uris`: List of the Cloud Storage bucket uris of input instances for batch prediction.\n",
    "- `class_labels`: List of class labels in the target column.\n",
    "- `generate_feature_attributions`: Optional. Whether the model evaluation job should generate feature attributions. Defaults to False ."
   ]
  },
  {
   "cell_type": "code",
   "execution_count": 21,
   "metadata": {
    "id": "59be2edbff8b"
   },
   "outputs": [
    {
     "name": "stdout",
     "output_type": "stream",
     "text": [
      "Created PipelineJob for your Model Evaluation. View it in the console: https://console.cloud.google.com/vertex-ai/locations/us-central1/pipelines/runs/evaluation-classification-pipeline-20240703101221?project=314481442207\n",
      "Waiting model evaluation is in process\n",
      "PipelineJob projects/314481442207/locations/us-central1/pipelineJobs/evaluation-classification-pipeline-20240703101221 current state:\n",
      "PipelineState.PIPELINE_STATE_RUNNING\n",
      "PipelineJob projects/314481442207/locations/us-central1/pipelineJobs/evaluation-classification-pipeline-20240703101221 current state:\n",
      "PipelineState.PIPELINE_STATE_RUNNING\n",
      "PipelineJob projects/314481442207/locations/us-central1/pipelineJobs/evaluation-classification-pipeline-20240703101221 current state:\n",
      "PipelineState.PIPELINE_STATE_RUNNING\n",
      "PipelineJob projects/314481442207/locations/us-central1/pipelineJobs/evaluation-classification-pipeline-20240703101221 current state:\n",
      "PipelineState.PIPELINE_STATE_RUNNING\n",
      "PipelineJob projects/314481442207/locations/us-central1/pipelineJobs/evaluation-classification-pipeline-20240703101221 current state:\n",
      "PipelineState.PIPELINE_STATE_RUNNING\n",
      "PipelineJob projects/314481442207/locations/us-central1/pipelineJobs/evaluation-classification-pipeline-20240703101221 current state:\n",
      "PipelineState.PIPELINE_STATE_RUNNING\n",
      "PipelineJob run completed. Resource name: projects/314481442207/locations/us-central1/pipelineJobs/evaluation-classification-pipeline-20240703101221\n"
     ]
    },
    {
     "data": {
      "text/html": [
       "\n",
       "        \n",
       "    <link rel=\"stylesheet\" href=\"https://fonts.googleapis.com/icon?family=Material+Icons\">\n",
       "    <style>\n",
       "      .view-vertex-resource,\n",
       "      .view-vertex-resource:hover,\n",
       "      .view-vertex-resource:visited {\n",
       "        position: relative;\n",
       "        display: inline-flex;\n",
       "        flex-direction: row;\n",
       "        height: 32px;\n",
       "        padding: 0 12px;\n",
       "          margin: 4px 18px;\n",
       "        gap: 4px;\n",
       "        border-radius: 4px;\n",
       "\n",
       "        align-items: center;\n",
       "        justify-content: center;\n",
       "        background-color: rgb(255, 255, 255);\n",
       "        color: rgb(51, 103, 214);\n",
       "\n",
       "        font-family: Roboto,\"Helvetica Neue\",sans-serif;\n",
       "        font-size: 13px;\n",
       "        font-weight: 500;\n",
       "        text-transform: uppercase;\n",
       "        text-decoration: none !important;\n",
       "\n",
       "        transition: box-shadow 280ms cubic-bezier(0.4, 0, 0.2, 1) 0s;\n",
       "        box-shadow: 0px 3px 1px -2px rgba(0,0,0,0.2), 0px 2px 2px 0px rgba(0,0,0,0.14), 0px 1px 5px 0px rgba(0,0,0,0.12);\n",
       "      }\n",
       "      .view-vertex-resource:active {\n",
       "        box-shadow: 0px 5px 5px -3px rgba(0,0,0,0.2),0px 8px 10px 1px rgba(0,0,0,0.14),0px 3px 14px 2px rgba(0,0,0,0.12);\n",
       "      }\n",
       "      .view-vertex-resource:active .view-vertex-ripple::before {\n",
       "        position: absolute;\n",
       "        top: 0;\n",
       "        bottom: 0;\n",
       "        left: 0;\n",
       "        right: 0;\n",
       "        border-radius: 4px;\n",
       "        pointer-events: none;\n",
       "\n",
       "        content: '';\n",
       "        background-color: rgb(51, 103, 214);\n",
       "        opacity: 0.12;\n",
       "      }\n",
       "      .view-vertex-icon {\n",
       "        font-size: 18px;\n",
       "      }\n",
       "    </style>\n",
       "  \n",
       "        <a class=\"view-vertex-resource\" id=\"view-vertex-resource-e00aabf7-9856-4c5a-8211-1e02e9064c32\" href=\"#view-view-vertex-resource-e00aabf7-9856-4c5a-8211-1e02e9064c32\">\n",
       "          <span class=\"material-icons view-vertex-icon\">lightbulb</span>\n",
       "          <span>View Model Evaluation</span>\n",
       "        </a>\n",
       "        \n",
       "        <script>\n",
       "          (function () {\n",
       "            const link = document.getElementById('view-vertex-resource-e00aabf7-9856-4c5a-8211-1e02e9064c32');\n",
       "            link.addEventListener('click', (e) => {\n",
       "              if (window.google?.colab?.openUrl) {\n",
       "                window.google.colab.openUrl('https://console.cloud.google.com/vertex-ai/models/locations/us-central1/models/5412984803983097856/versions/1/evaluations/5306182413539409834?project=314481442207');\n",
       "              } else {\n",
       "                window.open('https://console.cloud.google.com/vertex-ai/models/locations/us-central1/models/5412984803983097856/versions/1/evaluations/5306182413539409834?project=314481442207', '_blank');\n",
       "              }\n",
       "              e.stopPropagation();\n",
       "              e.preventDefault();\n",
       "            });\n",
       "          })();\n",
       "        </script>\n",
       "    "
      ],
      "text/plain": [
       "<IPython.core.display.HTML object>"
      ]
     },
     "metadata": {},
     "output_type": "display_data"
    }
   ],
   "source": [
    "LABEL_COLUMN = \"outputLabel\"\n",
    "CLASS_LABELS = [\"brush_hair\", \"cartwheel\"]\n",
    "\n",
    "job = model.evaluate(\n",
    "    prediction_type=\"classification\",\n",
    "    target_field_name=LABEL_COLUMN,\n",
    "    gcs_source_uris=[gcs_ground_truth_uri],\n",
    "    class_labels=CLASS_LABELS,\n",
    "    generate_feature_attributions=False,\n",
    ")\n",
    "\n",
    "print(\"Waiting model evaluation is in process\")\n",
    "job.wait()"
   ]
  },
  {
   "cell_type": "markdown",
   "metadata": {
    "id": "batch_request:mbsdk"
   },
   "source": [
    "### Get the Model Evaluation Results\n",
    "After the evalution pipeline is finished, run the below cell to print the evaluation metrics."
   ]
  },
  {
   "cell_type": "code",
   "execution_count": 22,
   "metadata": {
    "id": "a4f83f2da03f"
   },
   "outputs": [
    {
     "data": {
      "text/html": [
       "\n",
       "        \n",
       "    <link rel=\"stylesheet\" href=\"https://fonts.googleapis.com/icon?family=Material+Icons\">\n",
       "    <style>\n",
       "      .view-vertex-resource,\n",
       "      .view-vertex-resource:hover,\n",
       "      .view-vertex-resource:visited {\n",
       "        position: relative;\n",
       "        display: inline-flex;\n",
       "        flex-direction: row;\n",
       "        height: 32px;\n",
       "        padding: 0 12px;\n",
       "          margin: 4px 18px;\n",
       "        gap: 4px;\n",
       "        border-radius: 4px;\n",
       "\n",
       "        align-items: center;\n",
       "        justify-content: center;\n",
       "        background-color: rgb(255, 255, 255);\n",
       "        color: rgb(51, 103, 214);\n",
       "\n",
       "        font-family: Roboto,\"Helvetica Neue\",sans-serif;\n",
       "        font-size: 13px;\n",
       "        font-weight: 500;\n",
       "        text-transform: uppercase;\n",
       "        text-decoration: none !important;\n",
       "\n",
       "        transition: box-shadow 280ms cubic-bezier(0.4, 0, 0.2, 1) 0s;\n",
       "        box-shadow: 0px 3px 1px -2px rgba(0,0,0,0.2), 0px 2px 2px 0px rgba(0,0,0,0.14), 0px 1px 5px 0px rgba(0,0,0,0.12);\n",
       "      }\n",
       "      .view-vertex-resource:active {\n",
       "        box-shadow: 0px 5px 5px -3px rgba(0,0,0,0.2),0px 8px 10px 1px rgba(0,0,0,0.14),0px 3px 14px 2px rgba(0,0,0,0.12);\n",
       "      }\n",
       "      .view-vertex-resource:active .view-vertex-ripple::before {\n",
       "        position: absolute;\n",
       "        top: 0;\n",
       "        bottom: 0;\n",
       "        left: 0;\n",
       "        right: 0;\n",
       "        border-radius: 4px;\n",
       "        pointer-events: none;\n",
       "\n",
       "        content: '';\n",
       "        background-color: rgb(51, 103, 214);\n",
       "        opacity: 0.12;\n",
       "      }\n",
       "      .view-vertex-icon {\n",
       "        font-size: 18px;\n",
       "      }\n",
       "    </style>\n",
       "  \n",
       "        <a class=\"view-vertex-resource\" id=\"view-vertex-resource-84d7b192-8941-4e94-bb14-ee08a688b655\" href=\"#view-view-vertex-resource-84d7b192-8941-4e94-bb14-ee08a688b655\">\n",
       "          <span class=\"material-icons view-vertex-icon\">lightbulb</span>\n",
       "          <span>View Model Evaluation</span>\n",
       "        </a>\n",
       "        \n",
       "        <script>\n",
       "          (function () {\n",
       "            const link = document.getElementById('view-vertex-resource-84d7b192-8941-4e94-bb14-ee08a688b655');\n",
       "            link.addEventListener('click', (e) => {\n",
       "              if (window.google?.colab?.openUrl) {\n",
       "                window.google.colab.openUrl('https://console.cloud.google.com/vertex-ai/models/locations/us-central1/models/5412984803983097856/versions/1/evaluations/5306182413539409834?project=314481442207');\n",
       "              } else {\n",
       "                window.open('https://console.cloud.google.com/vertex-ai/models/locations/us-central1/models/5412984803983097856/versions/1/evaluations/5306182413539409834?project=314481442207', '_blank');\n",
       "              }\n",
       "              e.stopPropagation();\n",
       "              e.preventDefault();\n",
       "            });\n",
       "          })();\n",
       "        </script>\n",
       "    "
      ],
      "text/plain": [
       "<IPython.core.display.HTML object>"
      ]
     },
     "metadata": {},
     "output_type": "display_data"
    }
   ],
   "source": [
    "model_evaluation = job.get_model_evaluation()"
   ]
  },
  {
   "cell_type": "code",
   "execution_count": 23,
   "metadata": {
    "id": "batch_request:mbsdk"
   },
   "outputs": [
    {
     "name": "stdout",
     "output_type": "stream",
     "text": [
      "name: \"projects/314481442207/locations/us-central1/metadataStores/default/artifacts/2784306973405715941\"\n",
      "display_name: \"evaluation_metrics\"\n",
      "uri: \"gs://automl-video-model-vertexai-service-project-unique/314481442207/evaluation-classification-pipeline-20240703101221/model-evaluation-classification_5514238623626559488/evaluation_metrics\"\n",
      "etag: \"1720001931037\"\n",
      "create_time {\n",
      "  seconds: 1720001825\n",
      "  nanos: 298000000\n",
      "}\n",
      "update_time {\n",
      "  seconds: 1720001931\n",
      "  nanos: 37000000\n",
      "}\n",
      "state: LIVE\n",
      "schema_title: \"google.ClassificationMetrics\"\n",
      "schema_version: \"0.0.1\"\n",
      "metadata {\n",
      "  fields {\n",
      "    key: \"logLoss\"\n",
      "    value {\n",
      "      number_value: 0.10166249\n",
      "    }\n",
      "  }\n",
      "  fields {\n",
      "    key: \"auRoc\"\n",
      "    value {\n",
      "      number_value: 1\n",
      "    }\n",
      "  }\n",
      "  fields {\n",
      "    key: \"auPrc\"\n",
      "    value {\n",
      "      number_value: 1\n",
      "    }\n",
      "  }\n",
      "}\n",
      "\n",
      "gs://automl-video-model-vertexai-service-project-unique/314481442207/evaluation-classification-pipeline-20240703101221/model-evaluation-classification_5514238623626559488/evaluation_metrics\n"
     ]
    }
   ],
   "source": [
    "# Iterate over the pipeline tasks\n",
    "for (\n",
    "    task\n",
    ") in model_evaluation._backing_pipeline_job._gca_resource.job_detail.task_details:\n",
    "    # Obtain the artifacts from the evaluation task\n",
    "    if (\n",
    "        (\"model-evaluation\" in task.task_name)\n",
    "        and (\"model-evaluation-import\" not in task.task_name)\n",
    "        and (\n",
    "            task.state == aiplatform_v1.types.PipelineTaskDetail.State.SUCCEEDED\n",
    "            or task.state == aiplatform_v1.types.PipelineTaskDetail.State.SKIPPED\n",
    "        )\n",
    "    ):\n",
    "        evaluation_metrics = task.outputs.get(\"evaluation_metrics\").artifacts[0]\n",
    "        evaluation_metrics_gcs_uri = evaluation_metrics.uri\n",
    "\n",
    "print(evaluation_metrics)\n",
    "print(evaluation_metrics_gcs_uri)"
   ]
  },
  {
   "cell_type": "markdown",
   "metadata": {
    "id": "16d4bdbd9f4a"
   },
   "source": [
    "## Visualize the metrics\n",
    "Visualize the available metrics like auRoc and logLoss using a bar-chart."
   ]
  },
  {
   "cell_type": "code",
   "execution_count": 24,
   "metadata": {
    "id": "batch_request_wait:mbsdk"
   },
   "outputs": [
    {
     "data": {
      "image/png": "[encoded data removed]",
      "text/plain": [
       "<Figure size 500x300 with 1 Axes>"
      ]
     },
     "metadata": {},
     "output_type": "display_data"
    }
   ],
   "source": [
    "metrics = []\n",
    "values = []\n",
    "for i in evaluation_metrics.metadata.items():\n",
    "    metrics.append(i[0])\n",
    "    values.append(i[1])\n",
    "plt.figure(figsize=(5, 3))\n",
    "plt.bar(x=metrics, height=values)\n",
    "plt.title(\"Evaluation Metrics\")\n",
    "plt.ylabel(\"Value\")\n",
    "plt.show()"
   ]
  },
  {
   "cell_type": "markdown",
   "metadata": {
    "id": "cleanup:mbsdk"
   },
   "source": [
    "## Clean up\n",
    "\n",
    "To clean up all Google Cloud resources used in this project, you can [delete the Google Cloud\n",
    "project](https://cloud.google.com/resource-manager/docs/creating-managing-projects#shutting_down_projects) you used for the tutorial.\n",
    "\n",
    "Otherwise, you can delete the individual resources you created in this tutorial:\n",
    "\n",
    "- Dataset\n",
    "- Model\n",
    "- AutoML Training Job\n",
    "- Cloud Storage Bucket\n"
   ]
  },
  {
   "cell_type": "code",
   "execution_count": 25,
   "metadata": {
    "id": "cleanup:mbsdk"
   },
   "outputs": [
    {
     "name": "stdout",
     "output_type": "stream",
     "text": [
      "Deleting VideoDataset : projects/314481442207/locations/us-central1/datasets/1005225207159324672\n",
      "VideoDataset deleted. . Resource name: projects/314481442207/locations/us-central1/datasets/1005225207159324672\n",
      "Deleting VideoDataset resource: projects/314481442207/locations/us-central1/datasets/1005225207159324672\n",
      "Delete VideoDataset backing LRO: projects/314481442207/locations/us-central1/operations/9055838110100750336\n",
      "VideoDataset resource projects/314481442207/locations/us-central1/datasets/1005225207159324672 deleted.\n",
      "Deleting Model : projects/314481442207/locations/us-central1/models/5412984803983097856\n",
      "Model deleted. . Resource name: projects/314481442207/locations/us-central1/models/5412984803983097856\n",
      "Deleting Model resource: projects/314481442207/locations/us-central1/models/5412984803983097856\n",
      "Delete Model backing LRO: projects/314481442207/locations/us-central1/models/5412984803983097856/operations/1874426291793428480\n",
      "Model resource projects/314481442207/locations/us-central1/models/5412984803983097856 deleted.\n",
      "Deleting AutoMLVideoTrainingJob : projects/314481442207/locations/us-central1/trainingPipelines/4114544309829632\n",
      "AutoMLVideoTrainingJob deleted. . Resource name: projects/314481442207/locations/us-central1/trainingPipelines/4114544309829632\n",
      "Deleting AutoMLVideoTrainingJob resource: projects/314481442207/locations/us-central1/trainingPipelines/4114544309829632\n",
      "Delete AutoMLVideoTrainingJob backing LRO: projects/314481442207/locations/us-central1/operations/6258821266526961664\n",
      "AutoMLVideoTrainingJob resource projects/314481442207/locations/us-central1/trainingPipelines/4114544309829632 deleted.\n",
      "Deleting _ModelEvaluationJob : projects/314481442207/locations/us-central1/pipelineJobs/evaluation-classification-pipeline-20240703101221\n",
      "_ModelEvaluationJob deleted. . Resource name: projects/314481442207/locations/us-central1/pipelineJobs/evaluation-classification-pipeline-20240703101221\n",
      "Deleting _ModelEvaluationJob resource: projects/314481442207/locations/us-central1/pipelineJobs/evaluation-classification-pipeline-20240703101221\n",
      "Delete _ModelEvaluationJob backing LRO: projects/314481442207/locations/us-central1/operations/5380161942352560128\n",
      "_ModelEvaluationJob resource projects/314481442207/locations/us-central1/pipelineJobs/evaluation-classification-pipeline-20240703101221 deleted.\n"
     ]
    }
   ],
   "source": [
    "# If the bucket needs to be deleted too, please set \"delete_bucket\" to True\n",
    "delete_bucket = False\n",
    "\n",
    "# Delete the dataset using the Vertex dataset object\n",
    "dataset.delete()\n",
    "\n",
    "# Delete the model using the Vertex model object\n",
    "model.delete()\n",
    "\n",
    "# Delete the training job\n",
    "training_job.delete()\n",
    "\n",
    "# Delete the evaluation pipeline\n",
    "job.delete()\n",
    "\n",
    "# Delete the Cloud storage bucket\n",
    "if delete_bucket:\n",
    "    ! gsutil rm -r $BUCKET_URI"
   ]
  }
 ],
 "metadata": {
  "colab": {
   "name": "automl_video_classification_model_evaluation.ipynb",
   "toc_visible": true
  },
  "environment": {
   "kernel": "automl_video_classification_model_evaluation",
   "name": "common-cpu.m122",
   "type": "gcloud",
   "uri": "us-docker.pkg.dev/deeplearning-platform-release/gcr.io/base-cpu:m122"
  },
  "kernelspec": {
   "display_name": "Python (automl_video_classification_model_evaluation) (Local)",
   "language": "python",
   "name": "automl_video_classification_model_evaluation"
  },
  "language_info": {
   "codemirror_mode": {
    "name": "ipython",
    "version": 3
   },
   "file_extension": ".py",
   "mimetype": "text/x-python",
   "name": "python",
   "nbconvert_exporter": "python",
   "pygments_lexer": "ipython3",
   "version": "3.8.19"
  }
 },
 "nbformat": 4,
 "nbformat_minor": 4
}
