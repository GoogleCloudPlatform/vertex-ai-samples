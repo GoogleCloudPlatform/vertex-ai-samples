{
  "cells": [
    {
      "cell_type": "code",
      "execution_count": null,
      "metadata": {
        "id": "copyright"
      },
      "outputs": [],
      "source": [
        "# Copyright 2022 Google LLC\n",
        "#\n",
        "# Licensed under the Apache License, Version 2.0 (the \"License\");\n",
        "# you may not use this file except in compliance with the License.\n",
        "# You may obtain a copy of the License at\n",
        "#\n",
        "#     https://www.apache.org/licenses/LICENSE-2.0\n",
        "#\n",
        "# Unless required by applicable law or agreed to in writing, software\n",
        "# distributed under the License is distributed on an \"AS IS\" BASIS,\n",
        "# WITHOUT WARRANTIES OR CONDITIONS OF ANY KIND, either express or implied.\n",
        "# See the License for the specific language governing permissions and\n",
        "# limitations under the License."
      ]
    },
    {
      "cell_type": "markdown",
      "metadata": {
        "id": "title:generic"
      },
      "source": [
        "# Vertex AI Pipelines: AutoML text classification pipelines using google-cloud-pipeline-components\n",
        "\n",
        "<table align=\"left\">\n",
        "  <td>\n",
        "    <a href=\"https://colab.research.google.com/github/GoogleCloudPlatform/vertex-ai-samples/blob/main/notebooks/official/model_evaluation/automl_text_classification_model_evaluation.ipynb\">\n",
        "      <img src=\"https://cloud.google.com/ml-engine/images/colab-logo-32px.png\" alt=\"Colab logo\"> Run in Colab\n",
        "    </a>\n",
        "  </td>\n",
        "  <td>\n",
        "    <a href=\"https://github.com/GoogleCloudPlatform/vertex-ai-samples/blob/main/notebooks/official/model_evaluation/automl_text_classification_model_evaluation.ipynb\">\n",
        "      <img src=\"https://cloud.google.com/ml-engine/images/github-logo-32px.png\" alt=\"GitHub logo\">\n",
        "      View on GitHub\n",
        "    </a>\n",
        "  </td>\n",
        "  <td>\n",
        "    <a href=\"https://console.cloud.google.com/vertex-ai/workbench/deploy-notebook?download_url=https://raw.githubusercontent.com/GoogleCloudPlatform/vertex-ai-samples/main/notebooks/official/model_evaluation/automl_text_classification_model_evaluation.ipynb\">\n",
        "      <img src=\"https://lh3.googleusercontent.com/UiNooY4LUgW_oTvpsNhPpQzsstV5W8F7rYgxgGBD85cWJoLmrOzhVs_ksK_vgx40SHs7jCqkTkCk=e14-rj-sc0xffffff-h130-w32\" alt=\"Vertex AI logo\">\n",
        "      Open in Vertex AI Workbench\n",
        "     </a>\n",
        "  </td>\n",
        "</table>\n",
        "<br/><br/><br/>"
      ]
    },
    {
      "cell_type": "markdown",
      "metadata": {
        "id": "overview:pipelines,automl"
      },
      "source": [
        "## Overview\n",
        "\n",
        "This notebook demonstrates how to use the Vertex AI classification model evaluation component to evaluate an AutoML text classification model. Model evaluation helps you determine your model performance based on the evaluation metrics and improve the model if necessary. \n",
        "\n",
        "Learn more about [Vertex AI Model Evaluation](https://cloud.google.com/vertex-ai/docs/evaluation/introduction) and [AutoML Text](https://cloud.google.com/vertex-ai/docs/text-data/classification/prepare-data)."
      ]
    },
    {
      "cell_type": "markdown",
      "metadata": {
        "id": "objective:pipelines,automl"
      },
      "source": [
        "### Objective\n",
        "\n",
        "In this tutorial, you learn how to use `Vertex AI Pipelines` and `Google Cloud Pipeline Components` to build an `AutoML` text classification model.\n",
        "\n",
        "\n",
        "This tutorial uses the following Google Cloud ML services:\n",
        "\n",
        "- Vertex AI `Datasets`\n",
        "- Vertex AI `Training`(AutoML Tabular Classification) \n",
        "- Vertex AI `Model Registry`\n",
        "- Vertex AI `Pipelines`\n",
        "- Vertex AI `Batch Predictions`\n",
        "\n",
        "The steps performed include:\n",
        "\n",
        "- Create a Vertex AI `Dataset`.\n",
        "- Train a Automl Text Classification model on the `Dataset` resource.\n",
        "- Import the trained `AutoML model resource` into the pipeline.\n",
        "- Run a `Batch Prediction` job.\n",
        "- Evaulate the AutoML model using the `Classification Evaluation Component`.\n",
        "- Import the classification metrics to the AutoML model resource.\n",
        "\n",
        "The components are [documented here](https://google-cloud-pipeline-components.readthedocs.io/en/latest/google_cloud_pipeline_components.aiplatform.html#module-google_cloud_pipeline_components.aiplatform)."
      ]
    },
    {
      "cell_type": "markdown",
      "metadata": {
        "id": "dd81fd5c3454"
      },
      "source": [
        "### Dataset\n",
        "\n",
        "The dataset used for this tutorial is the [Happy Moments dataset](https://www.kaggle.com/ritresearch/happydb) from [Kaggle Datasets](https://www.kaggle.com/ritresearch/happydb). The version of the dataset you will use in this tutorial is stored in a public Cloud Storage bucket."
      ]
    },
    {
      "cell_type": "markdown",
      "metadata": {
        "id": "costs"
      },
      "source": [
        "### Costs\n",
        "\n",
        "This tutorial uses billable components of Google Cloud:\n",
        "\n",
        "* Vertex AI\n",
        "* Cloud Storage\n",
        "\n",
        "Learn about [Vertex AI\n",
        "pricing](https://cloud.google.com/vertex-ai/pricing) and [Cloud Storage\n",
        "pricing](https://cloud.google.com/storage/pricing), and use the [Pricing\n",
        "Calculator](https://cloud.google.com/products/calculator/)\n",
        "to generate a cost estimate based on your projected usage."
      ]
    },
    {
      "cell_type": "markdown",
      "metadata": {
        "id": "setup_local"
      },
      "source": [
        "### Set up your local development environment\n",
        "\n",
        "If you are using Colab or Google Vertex AI Workbench Notebook, your environment already meets all the requirements to run this notebook. You can skip this step.\n",
        "\n",
        "Otherwise, make sure your environment meets this notebook's requirements. You need the following:\n",
        "\n",
        "- The Cloud Storage SDK\n",
        "- Git\n",
        "- Python 3\n",
        "- virtualenv\n",
        "- Jupyter notebook running in a virtual environment with Python 3\n",
        "\n",
        "The Cloud Storage guide to [Setting up a Python development environment](https://cloud.google.com/python/setup) and the [Jupyter installation guide](https://jupyter.org/install) provide detailed instructions for meeting these requirements. The following steps provide a condensed set of instructions:\n",
        "\n",
        "1. [Install and initialize the SDK](https://cloud.google.com/sdk/docs/).\n",
        "\n",
        "2. [Install Python 3](https://cloud.google.com/python/setup#installing_python).\n",
        "\n",
        "3. [Install virtualenv](Ihttps://cloud.google.com/python/setup#installing_and_using_virtualenv) and create a virtual environment that uses Python 3.\n",
        "\n",
        "4. Activate that environment and run `pip3 install Jupyter` in a terminal shell to install Jupyter.\n",
        "\n",
        "5. Run `jupyter notebook` on the command line in a terminal shell to launch Jupyter.\n",
        "\n",
        "6. Open this notebook in the Jupyter Notebook Dashboard.\n"
      ]
    },
    {
      "cell_type": "markdown",
      "metadata": {
        "id": "install_aip:mbsdk"
      },
      "source": [
        "## Installation\n",
        "\n",
        "Install the packages required for executing this notebook."
      ]
    },
    {
      "cell_type": "code",
      "execution_count": null,
      "metadata": {
        "id": "install_aip:mbsdk"
      },
      "outputs": [],
      "source": [
        "import os\n",
        "\n",
        "# The Vertex AI Workbench Notebook product has specific requirements\n",
        "IS_WORKBENCH_NOTEBOOK = os.getenv(\"DL_ANACONDA_HOME\") and not os.getenv(\"VIRTUAL_ENV\")\n",
        "IS_USER_MANAGED_WORKBENCH_NOTEBOOK = os.path.exists(\n",
        "    \"/opt/deeplearning/metadata/env_version\"\n",
        ")\n",
        "\n",
        "# Vertex AI Notebook requires dependencies to be installed with '--user'\n",
        "USER_FLAG = \"\"\n",
        "if IS_WORKBENCH_NOTEBOOK:\n",
        "    USER_FLAG = \"--user\"\n",
        "\n",
        "! pip3 install --upgrade google-cloud-aiplatform \\\n",
        "                         google-cloud-storage \\\n",
        "                         kfp google-cloud-pipeline-components==1.0.25 \\\n",
        "                         ndjson {USER_FLAG} -q"
      ]
    },
    {
      "cell_type": "markdown",
      "metadata": {
        "id": "restart"
      },
      "source": [
        "### Restart the kernel\n",
        "\n",
        "Once you've installed the additional packages, you need to restart the notebook kernel so it can find the packages."
      ]
    },
    {
      "cell_type": "code",
      "execution_count": null,
      "metadata": {
        "id": "restart"
      },
      "outputs": [],
      "source": [
        "import os\n",
        "\n",
        "if not os.getenv(\"IS_TESTING\"):\n",
        "    # Automatically restart kernel after installs\n",
        "    import IPython\n",
        "\n",
        "    app = IPython.Application.instance()\n",
        "    app.kernel.do_shutdown(True)"
      ]
    },
    {
      "cell_type": "markdown",
      "metadata": {
        "id": "check_versions"
      },
      "source": [
        "Check the versions of the packages you installed.  The KFP SDK version should be >=1.6."
      ]
    },
    {
      "cell_type": "code",
      "execution_count": null,
      "metadata": {
        "id": "check_versions:kfp,gcpc"
      },
      "outputs": [],
      "source": [
        "! python3 -c \"import kfp; print('KFP SDK version: {}'.format(kfp.__version__))\"\n",
        "! python3 -c \"import google_cloud_pipeline_components; print('google_cloud_pipeline_components version: {}'.format(google_cloud_pipeline_components.__version__))\""
      ]
    },
    {
      "cell_type": "markdown",
      "metadata": {
        "id": "before_you_begin:nogpu"
      },
      "source": [
        "## Before you begin\n",
        "\n",
        "### GPU runtime\n",
        "\n",
        "This tutorial does not require a GPU runtime.\n",
        "\n",
        "### Set up your Google Cloud project\n",
        "\n",
        "**The following steps are required, regardless of your notebook environment.**\n",
        "\n",
        "1. [Select or create a Google Cloud project](https://console.cloud.google.com/cloud-resource-manager). When you first create an account, you get a $300 free credit towards your compute/storage costs.\n",
        "\n",
        "2. [Make sure that billing is enabled for your project.](https://cloud.google.com/billing/docs/how-to/modify-project)\n",
        "\n",
        "3. [Enable the Vertex AI APIs, Compute Engine APIs, and Cloud Storage.](https://console.cloud.google.com/flows/enableapi?apiid=ml.googleapis.com,compute_component,storage-component.googleapis.com)\n",
        "\n",
        "4. [The Google Cloud SDK](https://cloud.google.com/sdk) is already installed in Google Vertex AI Workbench Notebook.\n",
        "\n",
        "5. Enter your project ID in the cell below. Then run the  cell to make sure the\n",
        "Cloud SDK uses the right project for all the commands in this notebook.\n",
        "\n",
        "**Note**: Jupyter runs lines prefixed with `!` as shell commands, and it interpolates Python variables prefixed with `$`."
      ]
    },
    {
      "cell_type": "code",
      "execution_count": null,
      "metadata": {
        "id": "set_project_id"
      },
      "outputs": [],
      "source": [
        "PROJECT_ID = \"[your-project-id]\"  # @param {type:\"string\"}"
      ]
    },
    {
      "cell_type": "code",
      "execution_count": null,
      "metadata": {
        "id": "autoset_project_id"
      },
      "outputs": [],
      "source": [
        "if PROJECT_ID == \"\" or PROJECT_ID is None or PROJECT_ID == \"[your-project-id]\":\n",
        "    # Get your GCP project id from gcloud\n",
        "    shell_output = ! gcloud config list --format 'value(core.project)' 2>/dev/null\n",
        "    PROJECT_ID = shell_output[0]\n",
        "    print(\"Project ID:\", PROJECT_ID)"
      ]
    },
    {
      "cell_type": "code",
      "execution_count": null,
      "metadata": {
        "id": "set_gcloud_project_id"
      },
      "outputs": [],
      "source": [
        "! gcloud config set project $PROJECT_ID"
      ]
    },
    {
      "cell_type": "markdown",
      "metadata": {
        "id": "region"
      },
      "source": [
        "#### Region\n",
        "\n",
        "You can also change the `REGION` variable, which is used for operations\n",
        "throughout the rest of this notebook.  Below are regions supported for Vertex AI. We recommend that you choose the region closest to you.\n",
        "\n",
        "- Americas: `us-central1`\n",
        "- Europe: `europe-west4`\n",
        "- Asia Pacific: `asia-east1`\n",
        "\n",
        "You may not use a multi-regional bucket for training with Vertex AI. Not all regions provide support for all Vertex AI services.\n",
        "\n",
        "Learn more about [Vertex AI regions](https://cloud.google.com/vertex-ai/docs/general/locations)"
      ]
    },
    {
      "cell_type": "code",
      "execution_count": null,
      "metadata": {
        "id": "region"
      },
      "outputs": [],
      "source": [
        "REGION = \"[your-region]\"  # @param {type: \"string\"}\n",
        "\n",
        "if REGION == \"[your-region]\":\n",
        "    REGION = \"us-central1\""
      ]
    },
    {
      "cell_type": "markdown",
      "metadata": {
        "id": "timestamp"
      },
      "source": [
        "#### UUID\n",
        "\n",
        "If you are in a live tutorial session, you might be using a shared test account or project. To avoid name collisions between users on resources created, you create a uuid for each instance session, and append the uuid onto the name of resources you create in this tutorial."
      ]
    },
    {
      "cell_type": "code",
      "execution_count": null,
      "metadata": {
        "id": "timestamp"
      },
      "outputs": [],
      "source": [
        "import random\n",
        "import string\n",
        "\n",
        "\n",
        "# Generate a uuid of a specifed length(default=8)\n",
        "def generate_uuid(length: int = 8) -> str:\n",
        "    return \"\".join(random.choices(string.ascii_lowercase + string.digits, k=length))\n",
        "\n",
        "\n",
        "UUID = generate_uuid()"
      ]
    },
    {
      "cell_type": "markdown",
      "metadata": {
        "id": "gcp_authenticate"
      },
      "source": [
        "### Authenticate your Google Cloud account\n",
        "\n",
        "**If you are using Vertex AI Workbench Notebook**, your environment is already authenticated.\n",
        "\n",
        "**If you are using Colab**, run the cell below and follow the instructions\n",
        "when prompted to authenticate your account via oAuth.\n",
        "\n",
        "**Otherwise**, follow these steps:\n",
        "\n",
        "1. In the Cloud Console, go to the [**Create service account key**\n",
        "   page](https://console.cloud.google.com/apis/credentials/serviceaccountkey).\n",
        "\n",
        "2. Click **Create service account**.\n",
        "\n",
        "3. In the **Service account name** field, enter a name, and\n",
        "   click **Create**.\n",
        "\n",
        "4. In the **Grant this service account access to project** section, click the **Role** drop-down list. Type \"Vertex AI\"\n",
        "into the filter box, and select\n",
        "   **Vertex AI Administrator**. Type \"Storage Object Admin\" into the filter box, and select **Storage Object Admin**.\n",
        "\n",
        "5. Click *Create*. A JSON file that contains your key downloads to your\n",
        "local environment.\n",
        "\n",
        "6. Enter the path to your service account key as the\n",
        "`GOOGLE_APPLICATION_CREDENTIALS` variable in the cell below and run the cell."
      ]
    },
    {
      "cell_type": "code",
      "execution_count": null,
      "metadata": {
        "id": "gcp_authenticate"
      },
      "outputs": [],
      "source": [
        "# If you are running this notebook in Colab, run this cell and follow the\n",
        "# instructions to authenticate your GCP account. This provides access to your\n",
        "# Cloud Storage bucket and lets you submit training jobs and prediction\n",
        "# requests.\n",
        "\n",
        "import os\n",
        "import sys\n",
        "\n",
        "# If on Vertex AI Workbench, then don't execute this code\n",
        "IS_COLAB = \"google.colab\" in sys.modules\n",
        "if not os.path.exists(\"/opt/deeplearning/metadata/env_version\") and not os.getenv(\n",
        "    \"DL_ANACONDA_HOME\"\n",
        "):\n",
        "    if \"google.colab\" in sys.modules:\n",
        "        from google.colab import auth as google_auth\n",
        "\n",
        "        google_auth.authenticate_user()\n",
        "\n",
        "    # If you are running this notebook locally, replace the string below with the\n",
        "    # path to your service account key and run this cell to authenticate your GCP\n",
        "    # account.\n",
        "    elif not os.getenv(\"IS_TESTING\"):\n",
        "        %env GOOGLE_APPLICATION_CREDENTIALS ''"
      ]
    },
    {
      "cell_type": "markdown",
      "metadata": {
        "id": "bucket:mbsdk"
      },
      "source": [
        "### Create a Cloud Storage bucket\n",
        "\n",
        "**The following steps are required, regardless of your notebook environment.**\n",
        "\n",
        "When you initialize the Vertex AI SDK for Python, you specify a Cloud Storage staging bucket. The staging bucket is where all the data associated with your dataset and model resources are retained across sessions.\n",
        "\n",
        "Set the name of your Cloud Storage bucket below. Bucket names must be globally unique across all Google Cloud projects, including those outside of your organization."
      ]
    },
    {
      "cell_type": "code",
      "execution_count": null,
      "metadata": {
        "id": "bucket"
      },
      "outputs": [],
      "source": [
        "BUCKET_NAME = \"[your-bucket-name]\"  # @param {type:\"string\"}\n",
        "BUCKET_URI = f\"gs://{BUCKET_NAME}\""
      ]
    },
    {
      "cell_type": "code",
      "execution_count": null,
      "metadata": {
        "id": "autoset_bucket"
      },
      "outputs": [],
      "source": [
        "if BUCKET_NAME == \"\" or BUCKET_NAME is None or BUCKET_NAME == \"[your-bucket-name]\":\n",
        "    BUCKET_NAME = PROJECT_ID + \"aip-\" + UUID\n",
        "    BUCKET_URI = \"gs://\" + BUCKET_NAME"
      ]
    },
    {
      "cell_type": "markdown",
      "metadata": {
        "id": "create_bucket"
      },
      "source": [
        "**Only if your bucket doesn't already exist**: Run the following cell to create your Cloud Storage bucket."
      ]
    },
    {
      "cell_type": "code",
      "execution_count": null,
      "metadata": {
        "id": "create_bucket"
      },
      "outputs": [],
      "source": [
        "! gsutil mb -l $REGION $BUCKET_URI"
      ]
    },
    {
      "cell_type": "markdown",
      "metadata": {
        "id": "validate_bucket"
      },
      "source": [
        "Finally, validate access to your Cloud Storage bucket by examining its contents:"
      ]
    },
    {
      "cell_type": "code",
      "execution_count": null,
      "metadata": {
        "id": "validate_bucket"
      },
      "outputs": [],
      "source": [
        "! gsutil ls -al $BUCKET_URI"
      ]
    },
    {
      "cell_type": "markdown",
      "metadata": {
        "id": "set_service_account"
      },
      "source": [
        "#### Service Account\n",
        "\n",
        "**If you don't know your service account**, try to get your service account using `gcloud` command by executing the second cell below."
      ]
    },
    {
      "cell_type": "code",
      "execution_count": null,
      "metadata": {
        "id": "set_service_account"
      },
      "outputs": [],
      "source": [
        "SERVICE_ACCOUNT = \"[your-service-account]\"  # @param {type:\"string\"}"
      ]
    },
    {
      "cell_type": "code",
      "execution_count": null,
      "metadata": {
        "id": "autoset_service_account"
      },
      "outputs": [],
      "source": [
        "if (\n",
        "    SERVICE_ACCOUNT == \"\"\n",
        "    or SERVICE_ACCOUNT is None\n",
        "    or SERVICE_ACCOUNT == \"[your-service-account]\"\n",
        "):\n",
        "    # Get your service account from gcloud\n",
        "    if not IS_COLAB:\n",
        "        shell_output = !gcloud auth list 2>/dev/null\n",
        "        SERVICE_ACCOUNT = shell_output[2].replace(\"*\", \"\").strip()\n",
        "\n",
        "    if IS_COLAB:\n",
        "        shell_output = ! gcloud projects describe  $PROJECT_ID\n",
        "        project_number = shell_output[-1].split(\":\")[1].strip().replace(\"'\", \"\")\n",
        "        SERVICE_ACCOUNT = f\"{project_number}-compute@developer.gserviceaccount.com\"\n",
        "\n",
        "    print(\"Service Account:\", SERVICE_ACCOUNT)"
      ]
    },
    {
      "cell_type": "markdown",
      "metadata": {
        "id": "set_service_account:pipelines"
      },
      "source": [
        "#### Set service account access for Vertex AI Pipelines\n",
        "\n",
        "Run the following commands to grant your service account access to read and write pipeline artifacts in the bucket that you created in the previous step -- you only need to run these once per service account."
      ]
    },
    {
      "cell_type": "code",
      "execution_count": null,
      "metadata": {
        "id": "set_service_account:pipelines"
      },
      "outputs": [],
      "source": [
        "! gsutil iam ch serviceAccount:{SERVICE_ACCOUNT}:roles/storage.objectCreator $BUCKET_URI\n",
        "\n",
        "! gsutil iam ch serviceAccount:{SERVICE_ACCOUNT}:roles/storage.objectViewer $BUCKET_URI"
      ]
    },
    {
      "cell_type": "markdown",
      "metadata": {
        "id": "setup_vars"
      },
      "source": [
        "### Set up variables\n",
        "\n",
        "Next, set up some variables used throughout the tutorial.\n",
        "### Import libraries and define constants"
      ]
    },
    {
      "cell_type": "code",
      "execution_count": null,
      "metadata": {
        "id": "import_aip:mbsdk"
      },
      "outputs": [],
      "source": [
        "import google.cloud.aiplatform as aip\n",
        "import kfp\n",
        "from google.cloud import aiplatform_v1"
      ]
    },
    {
      "cell_type": "markdown",
      "metadata": {
        "id": "pipeline_constants"
      },
      "source": [
        "#### Vertex AI Pipelines constants\n",
        "\n",
        "Setup up the following constants for Vertex AI Pipelines:"
      ]
    },
    {
      "cell_type": "code",
      "execution_count": null,
      "metadata": {
        "id": "pipeline_constants"
      },
      "outputs": [],
      "source": [
        "PIPELINE_ROOT = \"{}/pipeline_root/happydb\".format(BUCKET_URI)"
      ]
    },
    {
      "cell_type": "markdown",
      "metadata": {
        "id": "init_aip:mbsdk"
      },
      "source": [
        "## Initialize Vertex AI SDK for Python\n",
        "\n",
        "Initialize the Vertex AI SDK for Python for your project and corresponding bucket."
      ]
    },
    {
      "cell_type": "code",
      "execution_count": null,
      "metadata": {
        "id": "init_aip:mbsdk"
      },
      "outputs": [],
      "source": [
        "aip.init(project=PROJECT_ID, staging_bucket=BUCKET_URI)"
      ]
    },
    {
      "cell_type": "markdown",
      "metadata": {
        "id": "define_pipeline:gcpc,automl,happydb,tcn"
      },
      "source": [
        "## Define AutoML text classification model pipeline that uses components from `google_cloud_pipeline_components`\n",
        "\n",
        "Next, you define the pipeline.\n",
        "\n",
        "Create and deploy an AutoML text classification `Model` resource using a `Dataset` resource."
      ]
    },
    {
      "cell_type": "code",
      "execution_count": null,
      "metadata": {
        "id": "define_pipeline:gcpc,automl,happydb,tcn"
      },
      "outputs": [],
      "source": [
        "IMPORT_FILE = \"gs://cloud-ml-data/NL-classification/happiness.csv\"\n",
        "\n",
        "\n",
        "@kfp.dsl.pipeline(name=\"automl-text-classification\" + UUID)\n",
        "def pipeline(\n",
        "    project: str = PROJECT_ID, region: str = REGION, import_file: str = IMPORT_FILE\n",
        "):\n",
        "    from google_cloud_pipeline_components import aiplatform as gcc_aip\n",
        "    from google_cloud_pipeline_components.v1.endpoint import (EndpointCreateOp,\n",
        "                                                              ModelDeployOp)\n",
        "\n",
        "    dataset_create_task = gcc_aip.TextDatasetCreateOp(\n",
        "        display_name=\"train-automl-happydb\",\n",
        "        gcs_source=import_file,\n",
        "        import_schema_uri=aip.schema.dataset.ioformat.text.multi_label_classification,\n",
        "        project=project,\n",
        "    )\n",
        "\n",
        "    training_run_task = gcc_aip.AutoMLTextTrainingJobRunOp(\n",
        "        dataset=dataset_create_task.outputs[\"dataset\"],\n",
        "        display_name=\"train-automl-happydb\",\n",
        "        prediction_type=\"classification\",\n",
        "        multi_label=True,\n",
        "        training_fraction_split=0.6,\n",
        "        validation_fraction_split=0.2,\n",
        "        test_fraction_split=0.2,\n",
        "        model_display_name=\"train-automl-happydb\",\n",
        "        project=project,\n",
        "    )\n",
        "\n",
        "    endpoint_op = EndpointCreateOp(\n",
        "        project=project,\n",
        "        location=region,\n",
        "        display_name=\"train-automl-happydb\",\n",
        "    )\n",
        "\n",
        "    _ = ModelDeployOp(\n",
        "        model=training_run_task.outputs[\"model\"],\n",
        "        endpoint=endpoint_op.outputs[\"endpoint\"],\n",
        "        automatic_resources_min_replica_count=1,\n",
        "        automatic_resources_max_replica_count=1,\n",
        "    )"
      ]
    },
    {
      "cell_type": "markdown",
      "metadata": {
        "id": "compile_pipeline"
      },
      "source": [
        "## Compile the pipeline\n",
        "\n",
        "Next, compile the pipeline."
      ]
    },
    {
      "cell_type": "code",
      "execution_count": null,
      "metadata": {
        "id": "compile_pipeline"
      },
      "outputs": [],
      "source": [
        "from kfp.v2 import compiler  # noqa: F811\n",
        "\n",
        "compiler.Compiler().compile(\n",
        "    pipeline_func=pipeline,\n",
        "    package_path=\"text_classification_pipeline.json\",\n",
        ")"
      ]
    },
    {
      "cell_type": "markdown",
      "metadata": {
        "id": "run_pipeline:automl,text"
      },
      "source": [
        "## Run the pipeline\n",
        "\n",
        "Next, run the pipeline."
      ]
    },
    {
      "cell_type": "code",
      "execution_count": null,
      "metadata": {
        "id": "run_pipeline:automl,text"
      },
      "outputs": [],
      "source": [
        "DISPLAY_NAME = \"happydb_\" + UUID\n",
        "\n",
        "job = aip.PipelineJob(\n",
        "    display_name=DISPLAY_NAME,\n",
        "    template_path=\"text_classification_pipeline.json\",\n",
        "    pipeline_root=PIPELINE_ROOT,\n",
        "    enable_caching=False,\n",
        ")\n",
        "\n",
        "job.run(sync=True)\n",
        "\n",
        "! rm text_classification_pipeline.json"
      ]
    },
    {
      "cell_type": "markdown",
      "metadata": {
        "id": "view_pipeline_run:automl,text"
      },
      "source": [
        "Click on the generated link to see your run in the Cloud Console.\n",
        "\n",
        "In the UI, many of the pipeline DAG nodes will expand or collapse when you click on them. Here is a partially-expanded view of the DAG (click image to see larger version).\n",
        "\n",
        "<a href=\"https://storage.googleapis.com/amy-jo/images/mp/automl_text_classif.png\" target=\"_blank\"><img src=\"https://storage.googleapis.com/amy-jo/images/mp/automl_text_classif.png\" width=\"40%\"/></a>"
      ]
    },
    {
      "cell_type": "code",
      "execution_count": null,
      "metadata": {
        "id": "9af2a70fc560"
      },
      "outputs": [],
      "source": [
        "model_display_name = \"train-automl-happydb \"\n",
        "models = aip.Model.list(\n",
        "    filter=f\"display_name={model_display_name}\", order_by=\"create_time\"\n",
        ")\n",
        "if models:\n",
        "    model = models[0]\n",
        "model"
      ]
    },
    {
      "cell_type": "code",
      "execution_count": null,
      "metadata": {
        "id": "0a460b7aefc3"
      },
      "outputs": [],
      "source": [
        "# For existing model, use MODEL_ID to load the model.\n",
        "# MODEL_ID = '3402729003222564864'\n",
        "# model = aip.Model(model_name=MODEL_ID)"
      ]
    },
    {
      "cell_type": "code",
      "execution_count": null,
      "metadata": {
        "id": "679ded8b6097"
      },
      "outputs": [],
      "source": [
        "# Get evaluations\n",
        "model_evaluations = model.list_model_evaluations()\n",
        "\n",
        "model_evaluation = list(model_evaluations)[0]\n",
        "print(model_evaluation)"
      ]
    },
    {
      "cell_type": "code",
      "execution_count": null,
      "metadata": {
        "id": "92a590960332"
      },
      "outputs": [],
      "source": [
        "# Print the evaluation metrics\n",
        "for evaluation in model_evaluations:\n",
        "    evaluation = evaluation.to_dict()\n",
        "    print(\"Model's evaluation metrics from Training:\\n\")\n",
        "    metrics = evaluation[\"metrics\"]\n",
        "    for metric in metrics.keys():\n",
        "        print(f\"metric: {metric}, value: {metrics[metric]}\\n\")"
      ]
    },
    {
      "cell_type": "markdown",
      "metadata": {
        "id": "f54ab89a020c"
      },
      "source": [
        "## Get batch predictions from your model\n",
        "\n",
        "You can get batch predictions from a text classification model without deploying it. You must first format all of your prediction instances (prediction input) in JSONL format and you must store the JSONL file in a Google Cloud Storage bucket. You must also provide a Google Cloud Storage bucket to hold your prediction output.\n",
        "\n",
        "To start, you must first create your predictions input file in JSONL format. Each line in the JSONL document needs to be formatted like so:\n",
        "\n",
        "```\n",
        "{ \"content\": \"gs://sourcebucket/datasets/texts/source_text.txt\", \"mimeType\": \"text/plain\"}\n",
        "```\n",
        "\n",
        "The `content` field in the JSON structure must be a Google Cloud Storage URI to another document that contains the text input for prediction.\n",
        "[See the documentation for more information.](https://cloud.google.com/ai-platform-unified/docs/predictions/batch-predictions#text)"
      ]
    },
    {
      "cell_type": "code",
      "execution_count": null,
      "metadata": {
        "id": "f23865fbab9a"
      },
      "outputs": [],
      "source": [
        "instances = [\n",
        "    {\n",
        "        \"Text\": \"I went on a successful date with someone I felt sympathy and connection with.\",\n",
        "        \"Labels\": \"affection\",\n",
        "    },\n",
        "    {\n",
        "        \"Text\": \"I was happy when my son got 90% marks in his examination\",\n",
        "        \"Labels\": \"affection\",\n",
        "    },\n",
        "    {\"Text\": \"I went to the gym this morning and did yoga.\", \"Labels\": \"exercise\"},\n",
        "    {\n",
        "        \"Text\": \"We had a serious talk with some friends of ours who have been flaky lately. They understood and we had a good evening hanging out.\",\n",
        "        \"Labels\": \"bonding\",\n",
        "    },\n",
        "    {\n",
        "        \"Text\": \"I went with grandchildren to butterfly display at Crohn Conservatory\",\n",
        "        \"Labels\": \"affection\",\n",
        "    },\n",
        "    {\"Text\": \"I meditated last night.\", \"Labels\": \"leisure\"},\n",
        "    {\n",
        "        \"Text\": \"I made a new recipe for peasant bread, and it came out spectacular!\",\n",
        "        \"Labels\": \"achievement\",\n",
        "    },\n",
        "    {\n",
        "        \"Text\": \"I got gift from my elder brother which was really surprising me\",\n",
        "        \"Labels\": \"affection\",\n",
        "    },\n",
        "    {\"Text\": \"YESTERDAY MY MOMS BIRTHDAY SO I ENJOYED\", \"Labels\": \"enjoy_the_moment\"},\n",
        "    {\n",
        "        \"Text\": \"Watching cupcake wars with my three teen children\",\n",
        "        \"Labels\": \"affection\",\n",
        "    },\n",
        "    {\"Text\": \"I came in 3rd place in my Call of Duty video game.\", \"Labels\": \"leisure\"},\n",
        "    {\n",
        "        \"Text\": \"I completed my 5 miles run without break. It makes me feel strong.\",\n",
        "        \"Labels\": \"exercise\",\n",
        "    },\n",
        "    {\"Text\": \"went to movies with my friends it was fun\", \"Labels\": \"bonding\"},\n",
        "    {\n",
        "        \"Text\": \"I was shorting Gold and made $200 from the trade.\",\n",
        "        \"Labels\": \"achievement\",\n",
        "    },\n",
        "    {\n",
        "        \"Text\": \"Hearing Songs It can be nearly impossible to go from angry to happy, so you're just looking for the thought that eases you out of your angry feeling and moves you in the direction of happiness. It may take a while, but as long as you're headed in a more positive direction youall be doing yourself a world of good.\",\n",
        "        \"Labels\": \"enjoy_the_moment\",\n",
        "    },\n",
        "    {\n",
        "        \"Text\": \"My son performed very well for a test preparation.\",\n",
        "        \"Labels\": \"affection\",\n",
        "    },\n",
        "    {\"Text\": \"I helped my neighbour to fix their car damages.\", \"Labels\": \"bonding\"},\n",
        "    {\n",
        "        \"Text\": \"Managed to get the final trophy in a game I was playing.\",\n",
        "        \"Labels\": \"achievement\",\n",
        "    },\n",
        "    {\n",
        "        \"Text\": \"A hot kiss with my girl friend last night made my day\",\n",
        "        \"Labels\": \"bonding\",\n",
        "    },\n",
        "    {\n",
        "        \"Text\": \"My new BCAAs came in the mail. Yay! Strawberry Lemonade flavored aminos make my heart happy.\",\n",
        "        \"Labels\": \"affection\",\n",
        "    },\n",
        "    {\"Text\": \"Got A in class.\", \"Labels\": \"achievement\"},\n",
        "    {\n",
        "        \"Text\": \"My sister called me from abroad this morning after some long years. Such a happy occassion for all family members.\",\n",
        "        \"Labels\": \"affection\",\n",
        "    },\n",
        "    {\n",
        "        \"Text\": \"The cake I made today came out amazing. It tasted amazing as well.\",\n",
        "        \"Labels\": \"achievement\",\n",
        "    },\n",
        "    {\n",
        "        \"Text\": \"There are two types of people in the world: those who choose to be happy, and those who choose to be unhappy. Contrary to popular belief, happiness doesn't come from fame, fortune, other people, or material possessions\",\n",
        "        \"Labels\": \"enjoy_the_moment\",\n",
        "    },\n",
        "    {\n",
        "        \"Text\": \"My grandmother start to walk from the bed after a long time.\",\n",
        "        \"Labels\": \"affection\",\n",
        "    },\n",
        "    {\"Text\": \"i was able to hit a top spin serve in tennis\", \"Labels\": \"achievement\"},\n",
        "    {\n",
        "        \"Text\": \"I napped with my husband on the bed this afternoon and it was sweet to cuddle so close to him.\",\n",
        "        \"Labels\": \"affection\",\n",
        "    },\n",
        "    {\n",
        "        \"Text\": \"My co-woker started playing a Carley Rae Jepsen song from her phone while ringing out customers.\",\n",
        "        \"Labels\": \"leisure\",\n",
        "    },\n",
        "    {\n",
        "        \"Text\": \"My son woke me up to a fantastic breakfast of eggs, his special hamburger patty and pancakes.\",\n",
        "        \"Labels\": \"affection\",\n",
        "    },\n",
        "    {\n",
        "        \"Text\": \"After a long time my brother gave a suprise visit to my house yesterday.\",\n",
        "        \"Labels\": \"affection\",\n",
        "    },\n",
        "]\n",
        "\n",
        "input_file_name = \"happiness-batch-prediction-input.jsonl\""
      ]
    },
    {
      "cell_type": "markdown",
      "metadata": {
        "id": "6d0156222582"
      },
      "source": [
        "For batch prediction, you must supply the following:\n",
        "\n",
        "+ All of your prediction instances as individual files on Google Cloud Storage, as TXT files for your instances\n",
        "+ A JSONL file that lists the URIs of all your prediction instances\n",
        "+ A Cloud Storage bucket to hold the output from batch prediction\n",
        "\n",
        "For this tutorial, the following cells create a new Storage bucket, upload individual prediction instances as text files to the bucket, and then create the JSONL file with the URIs of your prediction instances."
      ]
    },
    {
      "cell_type": "code",
      "execution_count": null,
      "metadata": {
        "id": "aa27e20fc2ec"
      },
      "outputs": [],
      "source": [
        "# Instantiate the Storage client and create the new bucket\n",
        "from google.cloud import storage\n",
        "\n",
        "storage_client = storage.Client()\n",
        "bucket = storage_client.bucket(BUCKET_NAME)\n",
        "# Iterate over the prediction instances, creating a new TXT file\n",
        "# for each.\n",
        "input_file_data = []\n",
        "for count, instance in enumerate(instances):\n",
        "    print(instance)\n",
        "    instance_name = f\"input_{count}.txt\"\n",
        "    instance_file_uri = f\"{BUCKET_URI}/batch-prediction-input/{instance_name}\"\n",
        "    # Add the data to store in the JSONL input file.\n",
        "    tmp_data = {\"content\": instance_file_uri, \"mimeType\": \"text/plain\"}\n",
        "    input_file_data.append(tmp_data)\n",
        "\n",
        "    # Create the new instance file\n",
        "    blob = bucket.blob(\"batch-prediction-input/\" + instance_name)\n",
        "    blob.upload_from_string(instance[\"Text\"])\n",
        "\n",
        "\n",
        "input_str = \"\\n\".join([str(d) for d in input_file_data])\n",
        "file_blob = bucket.blob(f\"{input_file_name}\")\n",
        "file_blob.upload_from_string(input_str)"
      ]
    },
    {
      "cell_type": "code",
      "execution_count": null,
      "metadata": {
        "id": "d330cc0a3582"
      },
      "outputs": [],
      "source": [
        "job_display_name = \"happiness-text-classification-batch-prediction-job\"\n",
        "batch_prediction_job = model.batch_predict(\n",
        "    job_display_name=job_display_name,\n",
        "    gcs_source=f\"{BUCKET_URI}/{input_file_name}\",\n",
        "    gcs_destination_prefix=f\"{BUCKET_URI}/output\",\n",
        "    sync=True,\n",
        ")\n",
        "batch_prediction_job_name = batch_prediction_job.resource_name"
      ]
    },
    {
      "cell_type": "code",
      "execution_count": null,
      "metadata": {
        "id": "b3ca5b6c88ef"
      },
      "outputs": [],
      "source": [
        "from google.cloud.aiplatform import jobs\n",
        "\n",
        "batch_job = jobs.BatchPredictionJob(batch_prediction_job_name)\n",
        "print(f\"Batch prediction job state: {str(batch_job.state)}\")"
      ]
    },
    {
      "cell_type": "markdown",
      "metadata": {
        "id": "8ec70df091f1"
      },
      "source": [
        "## Get predictions for batch prediction job\n",
        "\n",
        "Load the batch predictions from GCS"
      ]
    },
    {
      "cell_type": "code",
      "execution_count": null,
      "metadata": {
        "id": "82c88319987e"
      },
      "outputs": [],
      "source": [
        "import ndjson\n",
        "\n",
        "bp_iter_outputs = batch_job.iter_outputs()\n",
        "\n",
        "prediction_results = list()\n",
        "for blob in bp_iter_outputs:\n",
        "    if blob.name.split(\"/\")[-1].startswith(\"prediction\"):\n",
        "        prediction_results.append(blob.name)\n",
        "\n",
        "for prediction_result in prediction_results:\n",
        "    gfile_name = f\"gs://{bp_iter_outputs.bucket.name}/{prediction_result}\".replace(\n",
        "        BUCKET_URI + \"/\", \"\"\n",
        "    )\n",
        "    data = bucket.get_blob(gfile_name).download_as_string()\n",
        "    data = ndjson.loads(data)\n",
        "    # print(data)"
      ]
    },
    {
      "cell_type": "markdown",
      "metadata": {
        "id": "10aefe12628a"
      },
      "source": [
        "## Create input file with ground truth for evaluation \n",
        "\n",
        "Evaluation component needs ground truth to be part of the input file against which the predictions are evaluated"
      ]
    },
    {
      "cell_type": "code",
      "execution_count": null,
      "metadata": {
        "id": "8f51edb0d581"
      },
      "outputs": [],
      "source": [
        "input_file_name = \"happiness-batch-prediction-input-with-groundtruth.jsonl\""
      ]
    },
    {
      "cell_type": "code",
      "execution_count": null,
      "metadata": {
        "id": "c6b057194bb4"
      },
      "outputs": [],
      "source": [
        "# Instantiate the Storage client and create the new bucket\n",
        "from google.cloud import storage\n",
        "\n",
        "storage_client = storage.Client()\n",
        "bucket = storage_client.bucket(BUCKET_NAME)\n",
        "# Iterate over the prediction instances, creating a new TXT file\n",
        "# for each.\n",
        "input_file_data = []\n",
        "for count, instance in enumerate(instances):\n",
        "    instance_name = f\"input_{count}.txt\"\n",
        "    instance_file_uri = (\n",
        "        f\"{BUCKET_URI}/evaluation-batch-prediction-input/{instance_name}\"\n",
        "    )\n",
        "    # Add the data to store in the JSONL input file.\n",
        "    # out_put variable in each json instance is needed to act as ground_truth for the evaluation task\n",
        "    tmp_data = {\n",
        "        \"content\": instance_file_uri,\n",
        "        \"mimeType\": \"text/plain\",\n",
        "        \"out_put\": instance[\"Labels\"],\n",
        "    }\n",
        "    input_file_data.append(tmp_data)\n",
        "\n",
        "    # Create the new instance file\n",
        "    blob = bucket.blob(\"evaluation-batch-prediction-input/\" + instance_name)\n",
        "    blob.upload_from_string(instance[\"Text\"])\n",
        "\n",
        "import json\n",
        "\n",
        "input_str = json.dumps(input_file_data[0])\n",
        "for i in input_file_data[1:]:\n",
        "    input_str = input_str + \"\\n\" + json.dumps(i)\n",
        "# input_str = \"\\n\".join([str(d) for d in input_file_data])\n",
        "file_blob = bucket.blob(f\"{input_file_name}\")\n",
        "file_blob.upload_from_string(input_str)"
      ]
    },
    {
      "cell_type": "markdown",
      "metadata": {
        "id": "da26980e4892"
      },
      "source": [
        "# Create pipeline for model evaluation\n",
        "\n",
        "Now, you run a Vertex AI BatchPrediction job and generate evaluations its results. \n",
        "\n",
        "To do so, you create a Vertex AI pipeline using the components available from the [`google-cloud-pipeline-components`](https://google-cloud-pipeline-components.readthedocs.io/en/google-cloud-pipeline-components-1.0.17/index.html) Python package."
      ]
    },
    {
      "cell_type": "markdown",
      "metadata": {
        "id": "681c838a9e9a"
      },
      "source": [
        "### Define the Pipeline\n",
        "\n",
        "While defining the flow of the pipeline, you get the model resource first. Then, you sample the provided source dataset for batch predictions and create a batch prediction. Once the batch prediction job is completed, you get the classification evaluation metrics.\n",
        "\n",
        "The pipeline uses the following components:\n",
        "\n",
        "- `GetVertexModelOp`: Gets a Vertex AI Model Artifact. \n",
        "- `EvaluationDataSamplerOp`: Randomly downsamples an input dataset to a specified size for computing Vertex Explainable AI feature attributions for AutoML Text and custom models. Creates a Dataflow job with Apache Beam to downsample the dataset. \n",
        "- `EvaluationDataSplitterOp`: Removes the Ground Truth columns from the input dataset for supporting unstructured AutoML models and custom models in Batch Prediction. Creates a Dataflow job with Apache Beam to remove the ground truth columns.\n",
        "- `ModelBatchPredictOp`: Creates a Google Cloud Vertex BatchPredictionJob and waits for it to complete. \n",
        "- `ModelEvaluationClassificationOp`: Compute evaluation metrics on a trained model’s batch prediction results. Creates a Dataflow job with Apache Beam and TFMA to compute evaluation metrics. Supports mutliclass classification evaluation for tabular, image, video, and text data. \n",
        "- `ModelImportEvaluationOp`: Imports a model evaluation artifact to an existing Vertex model with ModelService.ImportModelEvaluation. \n",
        "\n",
        "Learn more about [Google Cloud Pipeline Model Evaluation components](https://google-cloud-pipeline-components.readthedocs.io/en/google-cloud-pipeline-components-1.0.20/google_cloud_pipeline_components.experimental.evaluation.html)."
      ]
    },
    {
      "cell_type": "code",
      "execution_count": null,
      "metadata": {
        "id": "1eb4358fb33b"
      },
      "outputs": [],
      "source": [
        "@kfp.dsl.pipeline(name=\"automl-text-classification-evaluation\")\n",
        "def evaluation_automl_text_classification_evaluation_pipeline(\n",
        "    project: str,\n",
        "    location: str,\n",
        "    root_dir: str,\n",
        "    model_name: str,\n",
        "    target_column_name: str,\n",
        "    key_columns: list,\n",
        "    ground_truth_gcs_uri: list,\n",
        "    batch_predict_gcs_source_uris: list,\n",
        "    batch_predict_instances_format: str,\n",
        "    batch_predict_predictions_format: str = \"jsonl\",\n",
        "    batch_predict_machine_type: str = \"n1-standard-4\",\n",
        "    batch_predict_starting_replica_count: int = 5,\n",
        "    batch_predict_max_replica_count: int = 10,\n",
        "    batch_predict_explanation_metadata: dict = {},\n",
        "    batch_predict_explanation_parameters: dict = {},\n",
        "    batch_predict_explanation_data_sample_size: int = 10000,\n",
        "    encryption_spec_key_name: str = \"\",\n",
        "):\n",
        "\n",
        "    from google_cloud_pipeline_components.aiplatform import ModelBatchPredictOp\n",
        "    from google_cloud_pipeline_components.experimental.evaluation import (\n",
        "        EvaluationDataSamplerOp, EvaluationDataSplitterOp, GetVertexModelOp,\n",
        "        ModelEvaluationClassificationOp, ModelImportEvaluationOp)\n",
        "\n",
        "    # Get the Vertex AI model resource\n",
        "    get_model_task = GetVertexModelOp(model_resource_name=model_name)\n",
        "\n",
        "    # Run Data-sampling task\n",
        "    data_sampler_task = EvaluationDataSamplerOp(\n",
        "        project=project,\n",
        "        location=location,\n",
        "        root_dir=root_dir,\n",
        "        gcs_source_uris=ground_truth_gcs_uri,\n",
        "        instances_format=batch_predict_instances_format,\n",
        "        sample_size=batch_predict_explanation_data_sample_size,\n",
        "    )\n",
        "\n",
        "    # Run Data-splitter task\n",
        "    data_splitter_task = EvaluationDataSplitterOp(\n",
        "        project=project,\n",
        "        location=location,\n",
        "        root_dir=root_dir,\n",
        "        gcs_source_uris=data_sampler_task.outputs[\"gcs_output_directory\"],\n",
        "        instances_format=batch_predict_instances_format,\n",
        "        ground_truth_column=target_column_name,\n",
        "    )\n",
        "\n",
        "    # Run Batch Explanations\n",
        "    batch_predict_task = ModelBatchPredictOp(\n",
        "        project=project,\n",
        "        location=location,\n",
        "        model=get_model_task.outputs[\"model\"],\n",
        "        job_display_name=\"model-registry-batch-predict-evaluation\",\n",
        "        gcs_source_uris=data_splitter_task.outputs[\"gcs_output_directory\"],\n",
        "        instances_format=batch_predict_instances_format,\n",
        "        predictions_format=batch_predict_predictions_format,\n",
        "        gcs_destination_output_uri_prefix=root_dir,\n",
        "        machine_type=batch_predict_machine_type,\n",
        "        starting_replica_count=batch_predict_starting_replica_count,\n",
        "        max_replica_count=batch_predict_max_replica_count,\n",
        "        encryption_spec_key_name=encryption_spec_key_name,\n",
        "    )\n",
        "\n",
        "    # Run evaluation based on prediction type and feature attribution component.\n",
        "    # After, import the model evaluations to the Vertex model.\n",
        "    eval_task = ModelEvaluationClassificationOp(\n",
        "        project=project,\n",
        "        location=location,\n",
        "        root_dir=root_dir,\n",
        "        key_columns=key_columns,\n",
        "        ground_truth_column=target_column_name,\n",
        "        ground_truth_gcs_source=ground_truth_gcs_uri,\n",
        "        ground_truth_format=\"jsonl\",\n",
        "        predictions_gcs_source=batch_predict_task.outputs[\"gcs_output_directory\"],\n",
        "        predictions_format=batch_predict_predictions_format,\n",
        "        encryption_spec_key_name=encryption_spec_key_name,\n",
        "    )\n",
        "\n",
        "    ModelImportEvaluationOp(\n",
        "        classification_metrics=eval_task.outputs[\"evaluation_metrics\"],\n",
        "        model=get_model_task.outputs[\"model\"],\n",
        "        dataset_type=batch_predict_instances_format,\n",
        "    )"
      ]
    },
    {
      "cell_type": "markdown",
      "metadata": {
        "id": "da6fe805d207"
      },
      "source": [
        "### Compile the pipeline\n",
        "\n",
        "Next, compile the pipline to the `automl_text_classification_evaluation.json` file."
      ]
    },
    {
      "cell_type": "code",
      "execution_count": null,
      "metadata": {
        "id": "a8623eccf059"
      },
      "outputs": [],
      "source": [
        "from kfp.v2 import compiler\n",
        "\n",
        "compiler.Compiler().compile(\n",
        "    pipeline_func=evaluation_automl_text_classification_evaluation_pipeline,\n",
        "    package_path=\"automl_text_classification_evaluation.json\",\n",
        ")"
      ]
    },
    {
      "cell_type": "markdown",
      "metadata": {
        "id": "ce4da3e6d82b"
      },
      "source": [
        "### Define the parameters to run the pipeline\n",
        "\n",
        "Specify the required parameters to run the pipeline.\n",
        "\n",
        "Set a display name for your pipeline."
      ]
    },
    {
      "cell_type": "code",
      "execution_count": null,
      "metadata": {
        "id": "31f172dfb60b"
      },
      "outputs": [],
      "source": [
        "PIPELINE_DISPLAY_NAME = \"[your-pipeline-display-name]\"  # @param {type:\"string\"}"
      ]
    },
    {
      "cell_type": "code",
      "execution_count": null,
      "metadata": {
        "id": "88386d636e0b"
      },
      "outputs": [],
      "source": [
        "# If no display name is set, use the default one\n",
        "if (\n",
        "    PIPELINE_DISPLAY_NAME == \"[your-pipeline-display-name]\"\n",
        "    or PIPELINE_DISPLAY_NAME == \"\"\n",
        "    or PIPELINE_DISPLAY_NAME is None\n",
        "):\n",
        "    PIPELINE_DISPLAY_NAME = \"happiness_\" + UUID"
      ]
    },
    {
      "cell_type": "markdown",
      "metadata": {
        "id": "ba99dc63345d"
      },
      "source": [
        "To pass the required arguments to the pipeline, you define the following paramters below:\n",
        "\n",
        "- `project`: Project ID.\n",
        "- `location`: Region where the pipeline is run.\n",
        "- `root_dir`: The GCS directory for keeping staging files and artifacts. A random subdirectory is created under the directory to keep job info for resuming the job in case of failure.\n",
        "- `model_name`: Resource name of the trained AutoML Text Classification model.\n",
        "- `target_column_name`: Name of the column to be used as the target for classification.\n",
        "- `batch_predict_gcs_source_uris`: List of the Cloud Storage bucket uris of input instances for batch prediction.\n",
        "- `batch_predict_instances_format`: Format of the input instances for batch prediction. Format used here is'**jsonl**'.\n",
        "- `batch_predict_explanation_data_sample_size`: Size of the samples to be considered for batch prediction and evaluation.\n",
        "- `ground_truth_gcs_uri`: Google Cloud Storage URI(-s) to your instances to run data splitter on. They must match instances_format.\n",
        "- `key_columns` : The list of fields in the ground truth gcs source to format the joining key. Used to merge prediction instances with ground truth data."
      ]
    },
    {
      "cell_type": "code",
      "execution_count": null,
      "metadata": {
        "id": "c7f9ac728635"
      },
      "outputs": [],
      "source": [
        "DATA_SOURCE = f\"{BUCKET_URI}/{input_file_name}\"\n",
        "PIPELINE_ROOT = f\"{BUCKET_URI}/pipeline_root/happiness_{UUID}\"\n",
        "parameters = {\n",
        "    \"project\": PROJECT_ID,\n",
        "    \"location\": REGION,\n",
        "    \"root_dir\": PIPELINE_ROOT,\n",
        "    \"model_name\": model.resource_name,\n",
        "    \"target_column_name\": \"out_put\",\n",
        "    \"batch_predict_gcs_source_uris\": [DATA_SOURCE],\n",
        "    \"batch_predict_instances_format\": \"jsonl\",\n",
        "    \"batch_predict_explanation_data_sample_size\": 10,\n",
        "    \"ground_truth_gcs_uri\": [DATA_SOURCE],\n",
        "    \"key_columns\": [\"content\", \"mimeType\"],\n",
        "}"
      ]
    },
    {
      "cell_type": "markdown",
      "metadata": {
        "id": "9b6bf9409c51"
      },
      "source": [
        "Create a Vertex AI pipeline job using the following parameters:\n",
        "\n",
        "- `display_name`: The name of the pipeline, this will show up in the Google Cloud console.\n",
        "- `template_path`: The path of PipelineJob or PipelineSpec JSON or YAML file. It can be a local path, a Google Cloud Storage URI or an Artifact Registry URI.\n",
        "- `parameter_values`: The mapping from runtime parameter names to its values that\n",
        "        control the pipeline run.\n",
        "- `enable_caching`: Whether to turn on caching for the run.\n",
        "\n",
        "Learn more about [Class PipelineJob](https://cloud.google.com/python/docs/reference/aiplatform/latest/google.cloud.aiplatform.PipelineJob).\n",
        "\n",
        "After creating, run the pipeline job using the configured `SERVICE_ACCOUNT`."
      ]
    },
    {
      "cell_type": "code",
      "execution_count": null,
      "metadata": {
        "id": "8db9156f3050"
      },
      "outputs": [],
      "source": [
        "evaluation_job = aip.PipelineJob(\n",
        "    display_name=PIPELINE_DISPLAY_NAME,\n",
        "    template_path=\"automl_text_classification_evaluation.json\",\n",
        "    parameter_values=parameters,\n",
        "    enable_caching=False,\n",
        ")\n",
        "\n",
        "evaluation_job.run(service_account=SERVICE_ACCOUNT, sync=True)"
      ]
    },
    {
      "cell_type": "markdown",
      "metadata": {
        "id": "570f69c35f3b"
      },
      "source": [
        "# Model Evaluation"
      ]
    },
    {
      "cell_type": "markdown",
      "metadata": {
        "id": "40944be9d8e7"
      },
      "source": [
        "In the results from last step, click on the generated link to see your run in the Cloud Console.\n",
        "\n",
        "In the UI, many of the pipeline directed acyclic graph (DAG) nodes expand or collapse when you click on them. Here is a partially-expanded view of the DAG (click image to see larger version).\n",
        "\n",
        "<img src=\"images/automl-text-classification-evaluation-image.PNG\">"
      ]
    },
    {
      "cell_type": "markdown",
      "metadata": {
        "id": "c9b563bdc3d5"
      },
      "source": [
        "### Get the Model Evaluation Results\n",
        "\n",
        "After the evalution pipeline is finished, run the below cell to print the evaluation metrics."
      ]
    },
    {
      "cell_type": "code",
      "execution_count": null,
      "metadata": {
        "id": "f05de1ad1e67"
      },
      "outputs": [],
      "source": [
        "# Iterate over the pipeline tasks\n",
        "for task in evaluation_job._gca_resource.job_detail.task_details:\n",
        "    # Obtain the artifacts from the evaluation task\n",
        "    if (\n",
        "        (\"model-evaluation\" in task.task_name)\n",
        "        and (\"model-evaluation-import\" not in task.task_name)\n",
        "        and (\n",
        "            task.state == aiplatform_v1.types.PipelineTaskDetail.State.SUCCEEDED\n",
        "            or task.state == aiplatform_v1.types.PipelineTaskDetail.State.SKIPPED\n",
        "        )\n",
        "    ):\n",
        "        evaluation_metrics = task.outputs.get(\"evaluation_metrics\").artifacts[\n",
        "            0\n",
        "        ]  # ['artifacts']\n",
        "        evaluation_metrics_gcs_uri = evaluation_metrics.uri\n",
        "\n",
        "print(evaluation_metrics)\n",
        "print(evaluation_metrics_gcs_uri)"
      ]
    },
    {
      "cell_type": "markdown",
      "metadata": {
        "id": "34c1905f54e3"
      },
      "source": [
        "### Visualize the metrics\n",
        "\n",
        "Visualize the available metrics like `auRoc` and `logLoss` using a bar-chart."
      ]
    },
    {
      "cell_type": "code",
      "execution_count": null,
      "metadata": {
        "id": "274de9ff8dc5"
      },
      "outputs": [],
      "source": [
        "import matplotlib.pyplot as plt\n",
        "\n",
        "metrics = []\n",
        "values = []\n",
        "for i in evaluation_metrics.metadata.items():\n",
        "    metrics.append(i[0])\n",
        "    values.append(i[1])\n",
        "plt.figure(figsize=(15, 5))\n",
        "plt.bar(x=metrics, height=values)\n",
        "plt.title(\"Evaluation Metrics\")\n",
        "plt.ylabel(\"Value\")\n",
        "plt.show()"
      ]
    },
    {
      "cell_type": "markdown",
      "metadata": {
        "id": "91082815d1b3"
      },
      "source": [
        "# Get Model Evaluations from Model Registry"
      ]
    },
    {
      "cell_type": "code",
      "execution_count": null,
      "metadata": {
        "id": "8a35f4f09cc2"
      },
      "outputs": [],
      "source": [
        "for task in evaluation_job.task_details:\n",
        "    if \"model-evaluation-import\" in task.task_name:\n",
        "        val = json.loads(task.execution.metadata.get(\"output:gcp_resources\"))\n",
        "        model_evaluation = val[\"resources\"][0]"
      ]
    },
    {
      "cell_type": "code",
      "execution_count": null,
      "metadata": {
        "id": "70aaaca32f36"
      },
      "outputs": [],
      "source": [
        "# Print the evaluation metrics\n",
        "model_evaluation_id = model_evaluation[\"resourceUri\"].split(\"/\")[-1]\n",
        "print(model_evaluation_id)\n",
        "\n",
        "evaluation = model.get_model_evaluation()  # evaluation_id=model_evaluation_id)\n",
        "evaluation = evaluation.to_dict()\n",
        "print(\"Model's evaluation metrics from Training:\\n\")\n",
        "metrics = evaluation[\"metrics\"]\n",
        "for metric in metrics.keys():\n",
        "    print(f\"metric: {metric}, value: {metrics[metric]}\\n\")"
      ]
    },
    {
      "cell_type": "markdown",
      "metadata": {
        "id": "cleanup:pipelines"
      },
      "source": [
        "# Cleaning up\n",
        "\n",
        "To clean up all Google Cloud resources used in this project, you can [delete the Google Cloud\n",
        "project](https://cloud.google.com/resource-manager/docs/creating-managing-projects#shutting_down_projects) you used for the tutorial.\n",
        "\n",
        "Otherwise, you can delete the individual resources you created in this tutorial -- *Note:* this is auto-generated and not all resources may be applicable for this tutorial:\n",
        "\n",
        "\n",
        "- Dataset\n",
        "- Model\n",
        "- AutoML Training Job\n",
        "- Batch Job\n",
        "- Evaluation Job\n",
        "- Cloud Storage Bucket"
      ]
    },
    {
      "cell_type": "code",
      "execution_count": null,
      "metadata": {
        "id": "92e77f0a7931"
      },
      "outputs": [],
      "source": [
        "delete_dataset = True\n",
        "delete_training_pipeline = True\n",
        "delete_batchpredict_job = True\n",
        "delete_evaluation_pipeline = True\n",
        "delete_model = True\n",
        "delete_endpoint = True\n",
        "delete_bucket = False\n",
        "\n",
        "dataset_type = \"text\"\n",
        "dataset_display_name = \"train-automl-happydb\"\n",
        "model_display_name = \"train-automl-happydb\"\n",
        "endpoint_display_name = \"train-automl-happydb\"\n",
        "\n",
        "\n",
        "if delete_endpoint:\n",
        "    endpoints = aip.Endpoint.list(\n",
        "        filter=f\"display_name={endpoint_display_name}\", order_by=\"create_time\"\n",
        "    )\n",
        "    if endpoints:\n",
        "        endpoint = endpoints[0]\n",
        "        endpoint.undeploy_all()\n",
        "        endpoint.delete()\n",
        "        print(\"Deleted endpoint:\", endpoint)\n",
        "\n",
        "if delete_model:\n",
        "    models = aip.Model.list(\n",
        "        filter=f\"display_name={model_display_name}\", order_by=\"create_time\"\n",
        "    )\n",
        "    if models:\n",
        "        model = models[0]\n",
        "        model.delete()\n",
        "        print(\"Deleted model:\", model)\n",
        "\n",
        "if delete_dataset:\n",
        "    if dataset_type == \"tabular\":\n",
        "        datasets = aip.TabularDataset.list(\n",
        "            filter=f\"display_name={dataset_display_name}\", order_by=\"create_time\"\n",
        "        )\n",
        "        if datasets:\n",
        "            dataset = datasets[0]\n",
        "            dataset.delete()\n",
        "            print(\"Deleted dataset:\", dataset)\n",
        "\n",
        "    if dataset_type == \"image\":\n",
        "        datasets = aip.ImageDataset.list(\n",
        "            filter=f\"display_name={dataset_display_name}\", order_by=\"create_time\"\n",
        "        )\n",
        "        if datasets:\n",
        "            dataset = datasets[0]\n",
        "            dataset.delete()\n",
        "            print(\"Deleted dataset:\", dataset)\n",
        "\n",
        "    if dataset_type == \"text\":\n",
        "        datasets = aip.TextDataset.list(\n",
        "            filter=f\"display_name={dataset_display_name}\", order_by=\"create_time\"\n",
        "        )\n",
        "        if datasets:\n",
        "            dataset = datasets[0]\n",
        "            dataset.delete()\n",
        "            print(\"Deleted dataset:\", dataset)\n",
        "\n",
        "    if dataset_type == \"video\":\n",
        "        datasets = aip.VideoDataset.list(\n",
        "            filter=f\"display_name={dataset_display_name}\", order_by=\"create_time\"\n",
        "        )\n",
        "        if datasets:\n",
        "            dataset = datasets[0]\n",
        "            dataset.delete()\n",
        "            print(\"Deleted dataset:\", dataset)\n",
        "\n",
        "if delete_training_pipeline:\n",
        "    job.delete()\n",
        "\n",
        "if delete_batchpredict_job:\n",
        "    batch_prediction_job.delete()\n",
        "\n",
        "if delete_evaluation_pipeline:\n",
        "    evaluation_job.delete()\n",
        "\n",
        "\n",
        "if delete_bucket and os.getenv(\"IS_TESTING\"):\n",
        "    ! gsutil rm -r $BUCKET_URI"
      ]
    }
  ],
  "metadata": {
    "colab": {
      "name": "automl_text_classification_model_evaluation.ipynb",
      "toc_visible": true
    },
    "kernelspec": {
      "display_name": "Python 3",
      "name": "python3"
    }
  },
  "nbformat": 4,
  "nbformat_minor": 0
}
