{
  "cells": [
    {
      "cell_type": "code",
      "execution_count": null,
      "metadata": {
        "id": "ur8xi4C7S06n"
      },
      "outputs": [],
      "source": [
        "# Copyright 2022 Google LLC\n",
        "#\n",
        "# Licensed under the Apache License, Version 2.0 (the \"License\");\n",
        "# you may not use this file except in compliance with the License.\n",
        "# You may obtain a copy of the License at\n",
        "#\n",
        "#     https://www.apache.org/licenses/LICENSE-2.0\n",
        "#\n",
        "# Unless required by applicable law or agreed to in writing, software\n",
        "# distributed under the License is distributed on an \"AS IS\" BASIS,\n",
        "# WITHOUT WARRANTIES OR CONDITIONS OF ANY KIND, either express or implied.\n",
        "# See the License for the specific language governing permissions and\n",
        "# limitations under the License."
      ]
    },
    {
      "cell_type": "markdown",
      "metadata": {
        "id": "JAPoU8Sm5E6e"
      },
      "source": [
        "<table align=\"left\">\n",
        "\n",
        "  <td>\n",
        "    <a href=\"https://colab.research.google.com/github/GoogleCloudPlatform/vertex-ai-samples/blob/main/notebooks/official/bigquery-ml/bqml-vertexai-model-registry.ipynb\">\n",
        "      <img src=\"https://cloud.google.com/ml-engine/images/colab-logo-32px.png\" alt=\"Colab logo\"> Run in Colab\n",
        "    </a>\n",
        "  </td>\n",
        "  <td>\n",
        "    <a href=\"https://github.com/GoogleCloudPlatform/vertex-ai-samples/blob/main/notebooks/official/bigquery-ml/bqml-vertexai-model-registry.ipynb\">\n",
        "      <img src=\"https://cloud.google.com/ml-engine/images/github-logo-32px.png\" alt=\"GitHub logo\">\n",
        "      View on GitHub\n",
        "    </a>\n",
        "  </td>\n",
        "  <td>\n",
        "    <a href=\"https://console.cloud.google.com/vertex-ai/workbench/deploy-notebook?download_url=https://raw.githubusercontent.com/GoogleCloudPlatform/vertex-ai-samples/blob/main/notebooks/official/bigquery-ml/bqml-vertexai-model-registry.ipynb\">\n",
        "      <img src=\"https://lh3.googleusercontent.com/UiNooY4LUgW_oTvpsNhPpQzsstV5W8F7rYgxgGBD85cWJoLmrOzhVs_ksK_vgx40SHs7jCqkTkCk=e14-rj-sc0xffffff-h130-w32\" alt=\"Vertex AI logo\">\n",
        "      Open in Vertex AI Workbench\n",
        "    </a>\n",
        "  </td>                                                                                               \n",
        "</table>"
      ]
    },
    {
      "cell_type": "markdown",
      "metadata": {
        "id": "tvgnzT1CKxrO"
      },
      "source": [
        "# E2E ML on GCP: Deploy BiqQuery ML Model on Vertex AI Model Registry and Make Predictions\n",
        "\n",
        "## Overview\n",
        "\n",
        "This tutorial demonstrates how to train a model with BigQuery Machine Learning and upload it on Vertex AI model registry, then make batch predictions.\n",
        "\n",
        "### Dataset\n",
        "\n",
        "The dataset used for this tutorial is the Penguins dataset from [BigQuery public datasets](https://cloud.google.com/bigquery/public-data). This version of the dataset is used to predict the species of penguins from the available features like culmen-length, flipper-depth etc.\n",
        "\n",
        "\n",
        "### Objective\n",
        "\n",
        "In this tutorial, you learn how to use `Vertex AI Model Registry` with `BigQuery Machine Learning` and make batch predictions:\n",
        "\n",
        "This tutorial uses the following Google Cloud ML services and resources:\n",
        "\n",
        "- `Vertex AI Model Registry`\n",
        "- `Vertex AI Model` resources \n",
        "- `Vertex AI Endpoint` resources\n",
        "- `Vertex AI Prediction`\n",
        "- `BigQuery Machine Learning`\n",
        "\n",
        "\n",
        "The steps performed include:\n",
        "\n",
        "- Train a model with `BQML`\n",
        "- Upload the model to `Vertex AI Model Registry` \n",
        "- Create a `Vertex AI Endpoint` resource\n",
        "- Deploy the `Model` resource to the `Endpoint` resource\n",
        "- Make `prediction` requests to the model endpoint\n",
        "- Run `batch prediction` job on the `Model` resource \n",
        "\n",
        "### Costs \n",
        "\n",
        "This tutorial uses billable components of Google Cloud:\n",
        "\n",
        "* Vertex AI\n",
        "* BigQuery Machine Learning \n",
        "\n",
        "Learn about [Vertex AI\n",
        "pricing](https://cloud.google.com/vertex-ai/pricing) and [BigQuery pricing](https://cloud.google.com/bigquery/pricing), and use the [Pricing\n",
        "Calculator](https://cloud.google.com/products/calculator/)\n",
        "to generate a cost estimate based on your projected usage."
      ]
    },
    {
      "cell_type": "markdown",
      "metadata": {
        "id": "ze4-nDLfK4pw"
      },
      "source": [
        "### Set up your local development environment\n",
        "\n",
        "**If you are using Colab or Vertex AI Workbench Notebooks**, your environment already meets\n",
        "all the requirements to run this notebook. You can skip this step."
      ]
    },
    {
      "cell_type": "markdown",
      "metadata": {
        "id": "gCuSR8GkAgzl"
      },
      "source": [
        "**Otherwise**, make sure your environment meets this notebook's requirements.\n",
        "You need the following:\n",
        "\n",
        "* The Google Cloud SDK\n",
        "* Git\n",
        "* Python 3\n",
        "* virtualenv\n",
        "* Jupyter notebook running in a virtual environment with Python 3\n",
        "\n",
        "The Google Cloud guide to [Setting up a Python development\n",
        "environment](https://cloud.google.com/python/setup) and the [Jupyter\n",
        "installation guide](https://jupyter.org/install) provide detailed instructions\n",
        "for meeting these requirements. The following steps provide a condensed set of\n",
        "instructions:\n",
        "\n",
        "1. [Install and initialize the Cloud SDK.](https://cloud.google.com/sdk/docs/)\n",
        "\n",
        "1. [Install Python 3.](https://cloud.google.com/python/setup#installing_python)\n",
        "\n",
        "1. [Install\n",
        "   virtualenv](https://cloud.google.com/python/setup#installing_and_using_virtualenv)\n",
        "   and create a virtual environment that uses Python 3. Activate the virtual environment.\n",
        "\n",
        "1. To install Jupyter, run `pip3 install jupyter` on the\n",
        "command-line in a terminal shell.\n",
        "\n",
        "1. To launch Jupyter, run `jupyter notebook` on the command-line in a terminal shell.\n",
        "\n",
        "1. Open this notebook in the Jupyter Notebook Dashboard."
      ]
    },
    {
      "cell_type": "markdown",
      "metadata": {
        "id": "i7EUnXsZhAGF"
      },
      "source": [
        "### Install additional packages\n",
        "\n",
        "Install the following packages required to execute this notebook. "
      ]
    },
    {
      "cell_type": "code",
      "execution_count": null,
      "metadata": {
        "id": "2b4ef9b72d43"
      },
      "outputs": [
        {
          "name": "stdout",
          "output_type": "stream",
          "text": [
            "\u001b[K     |████████████████████████████████| 2.1 MB 5.6 MB/s \n",
            "\u001b[K     |████████████████████████████████| 106 kB 67.9 MB/s \n",
            "\u001b[K     |████████████████████████████████| 1.0 MB 53.3 MB/s \n",
            "\u001b[K     |████████████████████████████████| 46 kB 3.9 MB/s \n",
            "\u001b[K     |████████████████████████████████| 231 kB 69.9 MB/s \n",
            "\u001b[K     |████████████████████████████████| 114 kB 59.4 MB/s \n",
            "\u001b[K     |████████████████████████████████| 107 kB 63.0 MB/s \n",
            "\u001b[K     |████████████████████████████████| 107 kB 62.9 MB/s \n",
            "\u001b[K     |████████████████████████████████| 107 kB 50.9 MB/s \n",
            "\u001b[K     |████████████████████████████████| 106 kB 61.5 MB/s \n",
            "\u001b[K     |████████████████████████████████| 106 kB 61.5 MB/s \n",
            "\u001b[K     |████████████████████████████████| 106 kB 61.8 MB/s \n",
            "\u001b[K     |████████████████████████████████| 106 kB 63.3 MB/s \n",
            "\u001b[K     |████████████████████████████████| 105 kB 61.2 MB/s \n",
            "\u001b[K     |████████████████████████████████| 105 kB 54.2 MB/s \n",
            "\u001b[K     |████████████████████████████████| 105 kB 38.4 MB/s \n",
            "\u001b[K     |████████████████████████████████| 105 kB 64.0 MB/s \n",
            "\u001b[K     |████████████████████████████████| 105 kB 47.0 MB/s \n",
            "\u001b[K     |████████████████████████████████| 104 kB 61.4 MB/s \n",
            "\u001b[K     |████████████████████████████████| 104 kB 44.2 MB/s \n",
            "\u001b[K     |████████████████████████████████| 103 kB 63.9 MB/s \n",
            "\u001b[K     |████████████████████████████████| 103 kB 71.3 MB/s \n",
            "\u001b[K     |████████████████████████████████| 103 kB 72.1 MB/s \n",
            "\u001b[K     |████████████████████████████████| 103 kB 72.3 MB/s \n",
            "\u001b[K     |████████████████████████████████| 97 kB 7.0 MB/s \n",
            "\u001b[K     |████████████████████████████████| 97 kB 6.8 MB/s \n",
            "\u001b[K     |████████████████████████████████| 97 kB 6.6 MB/s \n",
            "\u001b[K     |████████████████████████████████| 96 kB 5.9 MB/s \n",
            "\u001b[K     |████████████████████████████████| 96 kB 6.1 MB/s \n",
            "\u001b[K     |████████████████████████████████| 96 kB 5.8 MB/s \n",
            "\u001b[K     |████████████████████████████████| 92 kB 11.3 MB/s \n",
            "\u001b[K     |████████████████████████████████| 92 kB 10.5 MB/s \n",
            "\u001b[K     |████████████████████████████████| 230 kB 59.4 MB/s \n",
            "\u001b[K     |████████████████████████████████| 230 kB 57.4 MB/s \n",
            "\u001b[K     |████████████████████████████████| 402 kB 42.5 MB/s \n",
            "\u001b[K     |████████████████████████████████| 402 kB 58.3 MB/s \n",
            "\u001b[K     |████████████████████████████████| 286 kB 63.0 MB/s \n",
            "\u001b[K     |████████████████████████████████| 206 kB 58.7 MB/s \n",
            "\u001b[K     |████████████████████████████████| 76 kB 5.6 MB/s \n",
            "\u001b[31mERROR: pip's dependency resolver does not currently take into account all the packages that are installed. This behaviour is the source of the following dependency conflicts.\n",
            "tensorflow 2.8.2+zzzcolab20220719082949 requires protobuf<3.20,>=3.9.2, but you have protobuf 3.20.1 which is incompatible.\n",
            "pandas-gbq 0.13.3 requires google-cloud-bigquery[bqstorage,pandas]<2.0.0dev,>=1.11.1, but you have google-cloud-bigquery 2.34.4 which is incompatible.\n",
            "google-cloud-translate 1.5.0 requires google-api-core[grpc]<2.0.0dev,>=1.6.0, but you have google-api-core 2.8.2 which is incompatible.\n",
            "google-cloud-translate 1.5.0 requires google-cloud-core<2.0dev,>=1.0.0, but you have google-cloud-core 2.3.2 which is incompatible.\n",
            "google-cloud-language 1.2.0 requires google-api-core[grpc]<2.0.0dev,>=1.6.0, but you have google-api-core 2.8.2 which is incompatible.\n",
            "google-cloud-firestore 1.7.0 requires google-api-core[grpc]<2.0.0dev,>=1.14.0, but you have google-api-core 2.8.2 which is incompatible.\n",
            "google-cloud-firestore 1.7.0 requires google-cloud-core<2.0dev,>=1.0.3, but you have google-cloud-core 2.3.2 which is incompatible.\n",
            "google-cloud-datastore 1.8.0 requires google-api-core[grpc]<2.0.0dev,>=1.6.0, but you have google-api-core 2.8.2 which is incompatible.\n",
            "google-cloud-datastore 1.8.0 requires google-cloud-core<2.0dev,>=1.0.0, but you have google-cloud-core 2.3.2 which is incompatible.\n",
            "firebase-admin 4.4.0 requires google-api-core[grpc]<2.0.0dev,>=1.14.0; platform_python_implementation != \"PyPy\", but you have google-api-core 2.8.2 which is incompatible.\u001b[0m\n",
            "\u001b[K     |████████████████████████████████| 211 kB 5.3 MB/s \n",
            "\u001b[K     |████████████████████████████████| 181 kB 53.3 MB/s \n",
            "\u001b[31mERROR: pip's dependency resolver does not currently take into account all the packages that are installed. This behaviour is the source of the following dependency conflicts.\n",
            "pandas-gbq 0.13.3 requires google-cloud-bigquery[bqstorage,pandas]<2.0.0dev,>=1.11.1, but you have google-cloud-bigquery 3.2.0 which is incompatible.\n",
            "google-cloud-aiplatform 1.15.1 requires google-cloud-bigquery<3.0.0dev,>=1.15.0, but you have google-cloud-bigquery 3.2.0 which is incompatible.\u001b[0m\n",
            "\u001b[?25h"
          ]
        }
      ],
      "source": [
        "import os\n",
        "\n",
        "# The Vertex AI Workbench Notebook product has specific requirements\n",
        "IS_WORKBENCH_NOTEBOOK = os.getenv(\"DL_ANACONDA_HOME\")\n",
        "IS_USER_MANAGED_WORKBENCH_NOTEBOOK = os.path.exists(\n",
        "    \"/opt/deeplearning/metadata/env_version\"\n",
        ")\n",
        "\n",
        "# Vertex AI Notebook requires dependencies to be installed with '--user'\n",
        "USER_FLAG = \"\"\n",
        "if IS_WORKBENCH_NOTEBOOK:\n",
        "    USER_FLAG = \"--user\"\n",
        "\n",
        "! pip3 install --upgrade google-cloud-aiplatform {USER_FLAG} -q\n",
        "! pip3 install --upgrade google-cloud-bigquery {USER_FLAG} -q"
      ]
    },
    {
      "cell_type": "markdown",
      "metadata": {
        "id": "hhq5zEbGg0XX"
      },
      "source": [
        "### Restart the kernel\n",
        "\n",
        "After you install the additional packages, you need to restart the notebook kernel so it can find the packages."
      ]
    },
    {
      "cell_type": "code",
      "execution_count": null,
      "metadata": {
        "id": "EzrelQZ22IZj"
      },
      "outputs": [],
      "source": [
        "# Automatically restart kernel after installs\n",
        "import os\n",
        "\n",
        "if not os.getenv(\"IS_TESTING\"):\n",
        "    # Automatically restart kernel after installs\n",
        "    import IPython\n",
        "\n",
        "    app = IPython.Application.instance()\n",
        "    app.kernel.do_shutdown(True)"
      ]
    },
    {
      "cell_type": "markdown",
      "metadata": {
        "id": "lWEdiXsJg0XY"
      },
      "source": [
        "## Before you begin"
      ]
    },
    {
      "cell_type": "markdown",
      "metadata": {
        "id": "BF1j6f9HApxa"
      },
      "source": [
        "### Set up your Google Cloud project\n",
        "\n",
        "**The following steps are required, regardless of your notebook environment.**\n",
        "\n",
        "1. [Select or create a Google Cloud project](https://console.cloud.google.com/cloud-resource-manager). When you first create an account, you get a $300 free credit towards your compute/storage costs.\n",
        "\n",
        "1. [Make sure that billing is enabled for your project](https://cloud.google.com/billing/docs/how-to/modify-project).\n",
        "\n",
        "1. [Enable the Vertex AI and BigQuery APIs](https://console.cloud.google.com/flows/enableapi?apiid=aiplatform.googleapis.com,bigquery). \n",
        "\n",
        "1. If you are running this notebook locally, you will need to install the [Cloud SDK](https://cloud.google.com/sdk).\n",
        "\n",
        "1. Enter your project ID in the cell below. Then run the cell to make sure the\n",
        "Cloud SDK uses the right project for all the commands in this notebook.\n",
        "\n",
        "**Note**: Jupyter runs lines prefixed with `!` as shell commands, and it interpolates Python variables prefixed with `$` into these commands."
      ]
    },
    {
      "cell_type": "markdown",
      "metadata": {
        "id": "WReHDGG5g0XY"
      },
      "source": [
        "#### Set your project ID\n",
        "\n",
        "**If you don't know your project ID**, you may be able to get your project ID using `gcloud`."
      ]
    },
    {
      "cell_type": "code",
      "execution_count": null,
      "metadata": {
        "id": "RYbBU1jXAETD"
      },
      "outputs": [],
      "source": [
        "import os\n",
        "\n",
        "PROJECT_ID = \"\"\n",
        "\n",
        "# Get your Google Cloud project ID from gcloud\n",
        "if not os.getenv(\"IS_TESTING\"):\n",
        "    shell_output = !gcloud config list --format 'value(core.project)' 2>/dev/null\n",
        "    PROJECT_ID = shell_output[0]\n",
        "    print(\"Project ID: \", PROJECT_ID)"
      ]
    },
    {
      "cell_type": "markdown",
      "metadata": {
        "id": "_ERU9QSkAOQ1"
      },
      "source": [
        "Otherwise, set your project ID here."
      ]
    },
    {
      "cell_type": "code",
      "execution_count": null,
      "metadata": {
        "id": "o1AuQDpf_hS-"
      },
      "outputs": [],
      "source": [
        "PROJECT_ID = \"bqml-vertexai-356715\"  # @param {type:\"string\"}"
      ]
    },
    {
      "cell_type": "code",
      "execution_count": null,
      "metadata": {
        "id": "set_gcloud_project_id"
      },
      "outputs": [
        {
          "name": "stdout",
          "output_type": "stream",
          "text": [
            "Updated property [core/project].\n"
          ]
        }
      ],
      "source": [
        "! gcloud config set project $PROJECT_ID"
      ]
    },
    {
      "cell_type": "code",
      "execution_count": null,
      "metadata": {
        "id": "r7MuAQ4o7MiX"
      },
      "outputs": [
        {
          "name": "stdout",
          "output_type": "stream",
          "text": [
            "bqml-vertexai-356715\n"
          ]
        }
      ],
      "source": [
        "! gcloud config get project"
      ]
    },
    {
      "cell_type": "markdown",
      "metadata": {
        "id": "region"
      },
      "source": [
        "#### Region\n",
        "\n",
        "You can also change the `REGION` variable, which is used for operations\n",
        "throughout the rest of this notebook.  Below are regions supported for Vertex AI. We recommend that you choose the region closest to you.\n",
        "\n",
        "- Americas: `us-central1`\n",
        "- Europe: `europe-west4`\n",
        "- Asia Pacific: `asia-east1`\n",
        "\n",
        "You may not use a multi-regional bucket for training with Vertex AI. Not all regions provide support for all Vertex AI services.\n",
        "\n",
        "Learn more about [Vertex AI regions](https://cloud.google.com/vertex-ai/docs/general/locations)."
      ]
    },
    {
      "cell_type": "code",
      "execution_count": null,
      "metadata": {
        "id": "vO3W8YdN2LuA"
      },
      "outputs": [],
      "source": [
        "REGION = \"[your-region]\"  # @param {type: \"string\"}\n",
        "\n",
        "if REGION == \"[your-region]\":\n",
        "    REGION = \"us-central1\""
      ]
    },
    {
      "cell_type": "markdown",
      "metadata": {
        "id": "dr--iN2kAylZ"
      },
      "source": [
        "### Authenticate your Google Cloud account\n",
        "\n",
        "**If you are using Vertex AI Workbench Notebooks**, your environment is already\n",
        "authenticated. Skip this step."
      ]
    },
    {
      "cell_type": "markdown",
      "metadata": {
        "id": "sBCra4QMA2wR"
      },
      "source": [
        "**If you are using Colab**, run the cell below and follow the instructions\n",
        "when prompted to authenticate your account via oAuth.\n",
        "\n",
        "**Otherwise**, follow these steps:\n",
        "\n",
        "1. In the Cloud Console, go to the [**Create service account key**\n",
        "   page](https://console.cloud.google.com/apis/credentials/serviceaccountkey).\n",
        "\n",
        "2. Click **Create service account**.\n",
        "\n",
        "3. In the **Service account name** field, enter a name, and\n",
        "   click **Create**.\n",
        "\n",
        "4. In the **Grant this service account access to project** section, click the **Role** drop-down list. Type \"Vertex AI\"\n",
        "into the filter box, and select\n",
        "   **Vertex AI Administrator**. Type \"Storage Object Admin\" into the filter box, and select **Storage Object Admin**.\n",
        "\n",
        "5. Click *Create*. A JSON file that contains your key downloads to your\n",
        "local environment.\n",
        "\n",
        "6. Enter the path to your service account key as the\n",
        "`GOOGLE_APPLICATION_CREDENTIALS` variable in the cell below and run the cell."
      ]
    },
    {
      "cell_type": "code",
      "execution_count": null,
      "metadata": {
        "id": "PyQmSRbKA8r-"
      },
      "outputs": [],
      "source": [
        "# If you are running this notebook in Colab, run this cell and follow the\n",
        "# instructions to authenticate your GCP account. This provides access to your\n",
        "# Cloud Storage bucket and lets you submit training jobs and prediction\n",
        "# requests.\n",
        "\n",
        "import os\n",
        "import sys\n",
        "\n",
        "# If on Vertex AI Workbench, then don't execute this code\n",
        "IS_COLAB = \"google.colab\" in sys.modules\n",
        "if not os.path.exists(\"/opt/deeplearning/metadata/env_version\") and not os.getenv(\n",
        "    \"DL_ANACONDA_HOME\"\n",
        "):\n",
        "    if \"google.colab\" in sys.modules:\n",
        "        from google.colab import auth as google_auth\n",
        "\n",
        "        google_auth.authenticate_user()\n",
        "\n",
        "    # If you are running this notebook locally, replace the string below with the\n",
        "    # path to your service account key and run this cell to authenticate your GCP\n",
        "    # account.\n",
        "    elif not os.getenv(\"IS_TESTING\"):\n",
        "        %env GOOGLE_APPLICATION_CREDENTIALS ''"
      ]
    },
    {
      "cell_type": "markdown",
      "metadata": {
        "id": "XoEqT2Y4DJmf"
      },
      "source": [
        "### Import libraries"
      ]
    },
    {
      "cell_type": "code",
      "execution_count": null,
      "metadata": {
        "id": "pRUOFELefqf1"
      },
      "outputs": [],
      "source": [
        "import google.cloud.aiplatform as aiplatform\n",
        "from google.cloud import bigquery"
      ]
    },
    {
      "cell_type": "markdown",
      "metadata": {
        "id": "init_aip:mbsdk,all"
      },
      "source": [
        "### Initialize Vertex AI and Big Query SDKs for Python\n",
        "\n",
        "Initialize the Vertex AI and Big Query SDKs for Python for your project and corresponding bucket."
      ]
    },
    {
      "cell_type": "code",
      "execution_count": null,
      "metadata": {
        "id": "BgaYKz2-2LuC"
      },
      "outputs": [],
      "source": [
        "aiplatform.init(project=PROJECT_ID, location=REGION)"
      ]
    },
    {
      "cell_type": "code",
      "execution_count": null,
      "metadata": {
        "id": "PChHADIdKofo"
      },
      "outputs": [],
      "source": [
        "bqclient = bigquery.Client(project=PROJECT_ID)"
      ]
    },
    {
      "cell_type": "markdown",
      "metadata": {
        "id": "lUEtpimzL17Z"
      },
      "source": [
        "## BigQuery ML introduction\n",
        "\n",
        "BigQuery ML (BQML) provides the capability to train ML tabular models, such as classification and regression, in BigQuery using SQL syntax.\n",
        "\n",
        "Learn more about [BigQuery ML documentation](https://cloud.google.com/bigquery-ml/docs)."
      ]
    },
    {
      "cell_type": "code",
      "execution_count": null,
      "metadata": {
        "id": "3O7qlOGWNEU4"
      },
      "outputs": [],
      "source": [
        "# Define BigQuery table to be used for training\n",
        "\n",
        "BQ_TABLE = \"bigquery-public-data.ml_datasets.penguins\""
      ]
    },
    {
      "cell_type": "markdown",
      "metadata": {
        "id": "PKQD2e0eMg3M"
      },
      "source": [
        "### Create BQ dataset resource"
      ]
    },
    {
      "cell_type": "markdown",
      "metadata": {
        "id": "BnXOpvs2MmzF"
      },
      "source": [
        "First, you create an empty dataset resource in your project."
      ]
    },
    {
      "cell_type": "code",
      "execution_count": null,
      "metadata": {
        "id": "luqb-DBiMn-0"
      },
      "outputs": [],
      "source": [
        "BQ_DATASET_NAME = \"penguins\"\n",
        "DATASET_QUERY = f\"\"\"CREATE SCHEMA {BQ_DATASET_NAME}\"\"\"\n",
        "\n",
        "job = bqclient.query(DATASET_QUERY)"
      ]
    },
    {
      "cell_type": "markdown",
      "metadata": {
        "id": "b-_8rZO8NIEb"
      },
      "source": [
        "## Train BQML model and upload it to Vertex AI Model Registry"
      ]
    },
    {
      "cell_type": "markdown",
      "metadata": {
        "id": "wvbelBM4NZMF"
      },
      "source": [
        "Next, you create and train a BQML tabular regression model from the public dataset penguins and store the model in your project `Vertex AI Model Registry` using the `CREATE MODEL` statement. The model configuration is specified in the `OPTIONS` statement as follows:\n",
        "\n",
        "- `model_type`: The type and archictecture of tabular model to train, e.g., LOGISTIC_REG.\n",
        "\n",
        "- `labels`: The column which are the labels.\n",
        "\n",
        "- `model_registry`: To register a BigQuery ML model to Vertex AI Model Registry, you must use `model_registry=\"vertex_ai\"`.\n",
        "\n",
        "Learn more about the [CREATE MODEL statement](https://cloud.google.com/bigquery-ml/docs/reference/standard-sql/bigqueryml-syntax-create).\n",
        "\n",
        "Learn more about [Managing BigQuery ML models in the Vertex AI Model Registry](https://cloud.google.com/bigquery-ml/docs/managing-models-vertex)."
      ]
    },
    {
      "cell_type": "code",
      "execution_count": null,
      "metadata": {
        "id": "Q96rlZKRNPjU"
      },
      "outputs": [],
      "source": [
        "# Write the query to create Big Query ML model\n",
        "\n",
        "MODEL_NAME = \"penguins-lr\"\n",
        "MODEL_QUERY = f\"\"\"\n",
        "CREATE OR REPLACE MODEL `{BQ_DATASET_NAME}.{MODEL_NAME}`\n",
        "OPTIONS(\n",
        "    model_type='LOGISTIC_REG',\n",
        "    labels = ['species'],\n",
        "    model_registry='vertex_ai'\n",
        "    )\n",
        "AS\n",
        "SELECT *\n",
        "FROM `{BQ_TABLE}`\n",
        "\"\"\""
      ]
    },
    {
      "cell_type": "code",
      "execution_count": null,
      "metadata": {
        "id": "LtdieY-BWILs"
      },
      "outputs": [
        {
          "name": "stdout",
          "output_type": "stream",
          "text": [
            "Job state: RUNNING\n",
            "Job Error:None\n"
          ]
        }
      ],
      "source": [
        "# Run the model creation query using Big Query client\n",
        "\n",
        "job = bqclient.query(MODEL_QUERY)\n",
        "print(f\"Job state: {job.state}\\nJob Error:{job.errors}\")"
      ]
    },
    {
      "cell_type": "code",
      "execution_count": null,
      "metadata": {
        "id": "Y4C_3hTEXOE7"
      },
      "outputs": [
        {
          "name": "stdout",
          "output_type": "stream",
          "text": [
            "Running ...\n",
            "Running ...\n",
            "Running ...\n",
            "[{'reason': 'invalidQuery', 'location': 'query', 'message': 'The input data has NULL values in one or more columns: culmen_length_mm, culmen_depth_mm, flipper_length_mm, body_mass_g, sex. BQML automatically handles null values (See https://cloud.google.com/bigquery-ml/docs/reference/standard-sql/bigqueryml-auto-preprocessing#imputation). If null values represent a special value in the data, replace them with the desired value before training and then retry.'}] DONE\n"
          ]
        }
      ],
      "source": [
        "while job.running():\n",
        "    from time import sleep\n",
        "\n",
        "    sleep(30)\n",
        "    print(\"Running ...\")\n",
        "print(job.errors, job.state)"
      ]
    },
    {
      "cell_type": "markdown",
      "metadata": {
        "id": "5nHvVttrYfQ8"
      },
      "source": [
        "### Find the model in the Vertex Model Registry\n",
        "\n",
        "You can use the `Vertex AI Model list()` method with a filter query to find the automatically registered model."
      ]
    },
    {
      "cell_type": "code",
      "execution_count": null,
      "metadata": {
        "id": "E08IwUX5YpAG"
      },
      "outputs": [
        {
          "name": "stdout",
          "output_type": "stream",
          "text": [
            "name: \"projects/704725089108/locations/us-central1/models/penguins-lr\"\n",
            "display_name: \"penguins-lr\"\n",
            "supported_deployment_resources_types: DEDICATED_RESOURCES\n",
            "create_time {\n",
            "  seconds: 1658430788\n",
            "  nanos: 441880000\n",
            "}\n",
            "update_time {\n",
            "  seconds: 1658430788\n",
            "  nanos: 441880000\n",
            "}\n",
            "deployed_models {\n",
            "  endpoint: \"projects/704725089108/locations/us-central1/endpoints/1198019073531707392\"\n",
            "  deployed_model_id: \"3335518056439873536\"\n",
            "}\n",
            "etag: \"AMEw9yOT8QWWptSveXHhIiAyOicOBeGKJI_iFIJjobGaLVZ5P7PhmL1U6axG-FtWfb_L\"\n",
            "version_id: \"1\"\n",
            "version_aliases: \"default\"\n",
            "version_create_time {\n",
            "  seconds: 1658430788\n",
            "  nanos: 441880000\n",
            "}\n",
            "version_update_time {\n",
            "  seconds: 1658430788\n",
            "  nanos: 441880000\n",
            "}\n",
            "\n"
          ]
        }
      ],
      "source": [
        "models = aiplatform.Model.list(filter=f\"display_name={MODEL_NAME}\")\n",
        "model = models[0]\n",
        "\n",
        "print(model.gca_resource)"
      ]
    },
    {
      "cell_type": "markdown",
      "metadata": {
        "id": "zgvXXlaZaYw3"
      },
      "source": [
        "## Deploy the model to an endpoint"
      ]
    },
    {
      "cell_type": "markdown",
      "metadata": {
        "id": "uSzSKLAdad7J"
      },
      "source": [
        "You must deploy a model to an `endpoint` before that model can be used to serve online predictions; deploying a model associates physical resources with the model so it can serve online predictions with low latency. \n",
        "\n",
        "Learn more about [Deploy a model using the Vertex AI API](https://cloud.google.com/vertex-ai/docs/predictions/deploy-model-api#aiplatform_deploy_model_custom_trained_model_sample-python)\n"
      ]
    },
    {
      "cell_type": "markdown",
      "metadata": {
        "id": "N27z-_by5gti"
      },
      "source": [
        "### Creat an endpoint\n",
        "\n",
        "If you are deploying a model to an existing endpoint, you can skip this cell."
      ]
    },
    {
      "cell_type": "code",
      "execution_count": null,
      "metadata": {
        "id": "XmmyCtW055Ya"
      },
      "outputs": [
        {
          "name": "stdout",
          "output_type": "stream",
          "text": [
            "Creating Endpoint\n"
          ]
        },
        {
          "name": "stderr",
          "output_type": "stream",
          "text": [
            "INFO:google.cloud.aiplatform.models:Creating Endpoint\n"
          ]
        },
        {
          "name": "stdout",
          "output_type": "stream",
          "text": [
            "Create Endpoint backing LRO: projects/704725089108/locations/us-central1/endpoints/1198019073531707392/operations/5570802724439588864\n"
          ]
        },
        {
          "name": "stderr",
          "output_type": "stream",
          "text": [
            "INFO:google.cloud.aiplatform.models:Create Endpoint backing LRO: projects/704725089108/locations/us-central1/endpoints/1198019073531707392/operations/5570802724439588864\n"
          ]
        },
        {
          "name": "stdout",
          "output_type": "stream",
          "text": [
            "Endpoint created. Resource name: projects/704725089108/locations/us-central1/endpoints/1198019073531707392\n"
          ]
        },
        {
          "name": "stderr",
          "output_type": "stream",
          "text": [
            "INFO:google.cloud.aiplatform.models:Endpoint created. Resource name: projects/704725089108/locations/us-central1/endpoints/1198019073531707392\n"
          ]
        },
        {
          "name": "stdout",
          "output_type": "stream",
          "text": [
            "To use this Endpoint in another session:\n"
          ]
        },
        {
          "name": "stderr",
          "output_type": "stream",
          "text": [
            "INFO:google.cloud.aiplatform.models:To use this Endpoint in another session:\n"
          ]
        },
        {
          "name": "stdout",
          "output_type": "stream",
          "text": [
            "endpoint = aiplatform.Endpoint('projects/704725089108/locations/us-central1/endpoints/1198019073531707392')\n"
          ]
        },
        {
          "name": "stderr",
          "output_type": "stream",
          "text": [
            "INFO:google.cloud.aiplatform.models:endpoint = aiplatform.Endpoint('projects/704725089108/locations/us-central1/endpoints/1198019073531707392')\n"
          ]
        },
        {
          "name": "stdout",
          "output_type": "stream",
          "text": [
            "bqml-lr-model-endpoint\n",
            "projects/704725089108/locations/us-central1/endpoints/1198019073531707392\n"
          ]
        }
      ],
      "source": [
        "ENDPOINT_DISPLAY_NAME = \"bqml-lr-model-endpoint\"\n",
        "\n",
        "endpoint = aiplatform.Endpoint.create(\n",
        "    display_name=ENDPOINT_DISPLAY_NAME,\n",
        "    project=PROJECT_ID,\n",
        "    location=REGION,\n",
        ")\n",
        "\n",
        "print(endpoint.display_name)\n",
        "print(endpoint.resource_name)"
      ]
    },
    {
      "cell_type": "markdown",
      "metadata": {
        "id": "zg1ozL57vhv4"
      },
      "source": [
        "If you want to use an existing endpoint, enter the endpoint ID below."
      ]
    },
    {
      "cell_type": "code",
      "execution_count": null,
      "metadata": {
        "id": "YSdHiykTIStC"
      },
      "outputs": [],
      "source": [
        "# get an existing endpoint\n",
        "ENDPOINT_ID = \"1198019073531707392\"  # @param {type:\"string\"}\n",
        "endpoint = aiplatform.Endpoint(ENDPOINT_ID)"
      ]
    },
    {
      "cell_type": "markdown",
      "metadata": {
        "id": "xSCIKdFo56YO"
      },
      "source": [
        "### Deploy the model to the endpoint"
      ]
    },
    {
      "cell_type": "code",
      "execution_count": null,
      "metadata": {
        "id": "f7KfDgALE4aD"
      },
      "outputs": [
        {
          "name": "stdout",
          "output_type": "stream",
          "text": [
            "Deploying model to Endpoint : projects/704725089108/locations/us-central1/endpoints/1198019073531707392\n"
          ]
        },
        {
          "name": "stderr",
          "output_type": "stream",
          "text": [
            "INFO:google.cloud.aiplatform.models:Deploying model to Endpoint : projects/704725089108/locations/us-central1/endpoints/1198019073531707392\n"
          ]
        },
        {
          "name": "stdout",
          "output_type": "stream",
          "text": [
            "Using default machine_type: n1-standard-2\n"
          ]
        },
        {
          "name": "stderr",
          "output_type": "stream",
          "text": [
            "INFO:google.cloud.aiplatform.models:Using default machine_type: n1-standard-2\n"
          ]
        },
        {
          "name": "stdout",
          "output_type": "stream",
          "text": [
            "Deploy Endpoint model backing LRO: projects/704725089108/locations/us-central1/endpoints/1198019073531707392/operations/1177541287939670016\n"
          ]
        },
        {
          "name": "stderr",
          "output_type": "stream",
          "text": [
            "INFO:google.cloud.aiplatform.models:Deploy Endpoint model backing LRO: projects/704725089108/locations/us-central1/endpoints/1198019073531707392/operations/1177541287939670016\n"
          ]
        },
        {
          "name": "stdout",
          "output_type": "stream",
          "text": [
            "Endpoint model deployed. Resource name: projects/704725089108/locations/us-central1/endpoints/1198019073531707392\n"
          ]
        },
        {
          "name": "stderr",
          "output_type": "stream",
          "text": [
            "INFO:google.cloud.aiplatform.models:Endpoint model deployed. Resource name: projects/704725089108/locations/us-central1/endpoints/1198019073531707392\n"
          ]
        },
        {
          "name": "stdout",
          "output_type": "stream",
          "text": [
            "penguins-lr\n",
            "projects/704725089108/locations/us-central1/models/penguins-lr\n"
          ]
        }
      ],
      "source": [
        "DEPLOYED_NAME = \"bqml-lr-penguins\"\n",
        "\n",
        "model.deploy(endpoint=endpoint, deployed_model_display_name=DEPLOYED_NAME)\n",
        "\n",
        "print(model.display_name)\n",
        "print(model.resource_name)"
      ]
    },
    {
      "cell_type": "markdown",
      "metadata": {
        "id": "H3K6SVplJ9Mg"
      },
      "source": [
        "## Send prediction request to the endpoint\n",
        "\n",
        "Now that your Model resource is deployed to an `Endpoint` resource, you can do online predictions by sending prediction requests to the `Endpoint` resource.\n",
        "\n",
        "Learn more about [Get online predictions from custom-trained models ](https://cloud.google.com/vertex-ai/docs/predictions/online-predictions-custom-models)"
      ]
    },
    {
      "cell_type": "code",
      "execution_count": null,
      "metadata": {
        "id": "2j7ioB3VKEtx"
      },
      "outputs": [
        {
          "data": {
            "text/plain": [
              "Prediction(predictions=[{'predicted_species': ['Adelie Penguin (Pygoscelis adeliae)'], 'species_values': ['Gentoo penguin (Pygoscelis papua)', 'Adelie Penguin (Pygoscelis adeliae)', 'Chinstrap penguin (Pygoscelis antarctica)'], 'species_probs': [8.708736467696576e-06, 0.9958568976496748, 0.004134393613857475]}], deployed_model_id='3335518056439873536', model_version_id='', model_resource_name='projects/704725089108/locations/us-central1/models/penguins-lr', explanations=None)"
            ]
          },
          "execution_count": 16,
          "metadata": {},
          "output_type": "execute_result"
        }
      ],
      "source": [
        "instance = {\n",
        "    \"island\": \"Dream\",\n",
        "    \"culmen_length_mm\": 36.6,\n",
        "    \"culmen_depth_mm\": 18.4,\n",
        "    \"flipper_length_mm\": 184.0,\n",
        "    \"body_mass_g\": 3475.0,\n",
        "    \"sex\": \"FEMALE\",\n",
        "}\n",
        "\n",
        "endpoint.predict([instance])"
      ]
    },
    {
      "cell_type": "markdown",
      "metadata": {
        "id": "C39qOaBHZI1G"
      },
      "source": [
        "## Batch Prediction on the BQML model"
      ]
    },
    {
      "cell_type": "markdown",
      "metadata": {
        "id": "UBffk3GyaPY3"
      },
      "source": [
        "Here you request batch predictions directly from the model resource; you don't need to deploy the model to an endpoint. For data types that support both batch and online predictions, use batch predictions when you don't require an immediate response and want to process accumulated data by using a single request.\n",
        "\n",
        "Learn more abount [The ML.PREDICT function](https://cloud.google.com/bigquery-ml/docs/reference/standard-sql/bigqueryml-syntax-predict)"
      ]
    },
    {
      "cell_type": "code",
      "execution_count": null,
      "metadata": {
        "id": "_QxZb19_o6jx"
      },
      "outputs": [],
      "source": [
        "sql_ml_predict = f\"\"\"SELECT * FROM ML.PREDICT(MODEL `{PROJECT_ID}.{BQ_DATASET_NAME}.{MODEL_NAME}`, \n",
        "(SELECT\n",
        "      *\n",
        "    FROM\n",
        "      `{BQ_TABLE}` LIMIT 10))\"\"\"\n",
        "\n",
        "job = bqclient.query(sql_ml_predict)\n",
        "prediction_result = job.result().to_arrow().to_pandas()"
      ]
    },
    {
      "cell_type": "code",
      "execution_count": null,
      "metadata": {
        "id": "TVpsLI5nrVii"
      },
      "outputs": [
        {
          "data": {
            "text/html": [
              "\n",
              "  <div id=\"df-ac4075f4-86e7-4e7b-8d58-f951789a7229\">\n",
              "    <div class=\"colab-df-container\">\n",
              "      <div>\n",
              "<style scoped>\n",
              "    .dataframe tbody tr th:only-of-type {\n",
              "        vertical-align: middle;\n",
              "    }\n",
              "\n",
              "    .dataframe tbody tr th {\n",
              "        vertical-align: top;\n",
              "    }\n",
              "\n",
              "    .dataframe thead th {\n",
              "        text-align: right;\n",
              "    }\n",
              "</style>\n",
              "<table border=\"1\" class=\"dataframe\">\n",
              "  <thead>\n",
              "    <tr style=\"text-align: right;\">\n",
              "      <th></th>\n",
              "      <th>predicted_species</th>\n",
              "      <th>predicted_species_probs</th>\n",
              "      <th>species</th>\n",
              "      <th>island</th>\n",
              "      <th>culmen_length_mm</th>\n",
              "      <th>culmen_depth_mm</th>\n",
              "      <th>flipper_length_mm</th>\n",
              "      <th>body_mass_g</th>\n",
              "      <th>sex</th>\n",
              "    </tr>\n",
              "  </thead>\n",
              "  <tbody>\n",
              "    <tr>\n",
              "      <th>0</th>\n",
              "      <td>Chinstrap penguin (Pygoscelis antarctica)</td>\n",
              "      <td>[{'label': 'Chinstrap penguin (Pygoscelis anta...</td>\n",
              "      <td>Chinstrap penguin (Pygoscelis antarctica)</td>\n",
              "      <td>Dream</td>\n",
              "      <td>50.5</td>\n",
              "      <td>18.4</td>\n",
              "      <td>200.0</td>\n",
              "      <td>3400.0</td>\n",
              "      <td>FEMALE</td>\n",
              "    </tr>\n",
              "    <tr>\n",
              "      <th>1</th>\n",
              "      <td>Adelie Penguin (Pygoscelis adeliae)</td>\n",
              "      <td>[{'label': 'Adelie Penguin (Pygoscelis adeliae...</td>\n",
              "      <td>Adelie Penguin (Pygoscelis adeliae)</td>\n",
              "      <td>Dream</td>\n",
              "      <td>39.8</td>\n",
              "      <td>19.1</td>\n",
              "      <td>184.0</td>\n",
              "      <td>4650.0</td>\n",
              "      <td>MALE</td>\n",
              "    </tr>\n",
              "    <tr>\n",
              "      <th>2</th>\n",
              "      <td>Chinstrap penguin (Pygoscelis antarctica)</td>\n",
              "      <td>[{'label': 'Chinstrap penguin (Pygoscelis anta...</td>\n",
              "      <td>Chinstrap penguin (Pygoscelis antarctica)</td>\n",
              "      <td>Dream</td>\n",
              "      <td>46.9</td>\n",
              "      <td>16.6</td>\n",
              "      <td>192.0</td>\n",
              "      <td>2700.0</td>\n",
              "      <td>FEMALE</td>\n",
              "    </tr>\n",
              "    <tr>\n",
              "      <th>3</th>\n",
              "      <td>Chinstrap penguin (Pygoscelis antarctica)</td>\n",
              "      <td>[{'label': 'Chinstrap penguin (Pygoscelis anta...</td>\n",
              "      <td>Chinstrap penguin (Pygoscelis antarctica)</td>\n",
              "      <td>Dream</td>\n",
              "      <td>49.5</td>\n",
              "      <td>19.0</td>\n",
              "      <td>200.0</td>\n",
              "      <td>3800.0</td>\n",
              "      <td>MALE</td>\n",
              "    </tr>\n",
              "    <tr>\n",
              "      <th>4</th>\n",
              "      <td>Chinstrap penguin (Pygoscelis antarctica)</td>\n",
              "      <td>[{'label': 'Chinstrap penguin (Pygoscelis anta...</td>\n",
              "      <td>Chinstrap penguin (Pygoscelis antarctica)</td>\n",
              "      <td>Dream</td>\n",
              "      <td>46.5</td>\n",
              "      <td>17.9</td>\n",
              "      <td>192.0</td>\n",
              "      <td>3500.0</td>\n",
              "      <td>FEMALE</td>\n",
              "    </tr>\n",
              "    <tr>\n",
              "      <th>5</th>\n",
              "      <td>Adelie Penguin (Pygoscelis adeliae)</td>\n",
              "      <td>[{'label': 'Adelie Penguin (Pygoscelis adeliae...</td>\n",
              "      <td>Adelie Penguin (Pygoscelis adeliae)</td>\n",
              "      <td>Dream</td>\n",
              "      <td>43.2</td>\n",
              "      <td>18.5</td>\n",
              "      <td>192.0</td>\n",
              "      <td>4100.0</td>\n",
              "      <td>MALE</td>\n",
              "    </tr>\n",
              "    <tr>\n",
              "      <th>6</th>\n",
              "      <td>Adelie Penguin (Pygoscelis adeliae)</td>\n",
              "      <td>[{'label': 'Adelie Penguin (Pygoscelis adeliae...</td>\n",
              "      <td>Adelie Penguin (Pygoscelis adeliae)</td>\n",
              "      <td>Dream</td>\n",
              "      <td>40.9</td>\n",
              "      <td>18.9</td>\n",
              "      <td>184.0</td>\n",
              "      <td>3900.0</td>\n",
              "      <td>MALE</td>\n",
              "    </tr>\n",
              "    <tr>\n",
              "      <th>7</th>\n",
              "      <td>Adelie Penguin (Pygoscelis adeliae)</td>\n",
              "      <td>[{'label': 'Adelie Penguin (Pygoscelis adeliae...</td>\n",
              "      <td>Adelie Penguin (Pygoscelis adeliae)</td>\n",
              "      <td>Dream</td>\n",
              "      <td>37.3</td>\n",
              "      <td>16.8</td>\n",
              "      <td>192.0</td>\n",
              "      <td>3000.0</td>\n",
              "      <td>FEMALE</td>\n",
              "    </tr>\n",
              "    <tr>\n",
              "      <th>8</th>\n",
              "      <td>Adelie Penguin (Pygoscelis adeliae)</td>\n",
              "      <td>[{'label': 'Adelie Penguin (Pygoscelis adeliae...</td>\n",
              "      <td>Adelie Penguin (Pygoscelis adeliae)</td>\n",
              "      <td>Dream</td>\n",
              "      <td>36.6</td>\n",
              "      <td>18.4</td>\n",
              "      <td>184.0</td>\n",
              "      <td>3475.0</td>\n",
              "      <td>FEMALE</td>\n",
              "    </tr>\n",
              "    <tr>\n",
              "      <th>9</th>\n",
              "      <td>Adelie Penguin (Pygoscelis adeliae)</td>\n",
              "      <td>[{'label': 'Adelie Penguin (Pygoscelis adeliae...</td>\n",
              "      <td>Adelie Penguin (Pygoscelis adeliae)</td>\n",
              "      <td>Dream</td>\n",
              "      <td>40.2</td>\n",
              "      <td>20.1</td>\n",
              "      <td>200.0</td>\n",
              "      <td>3975.0</td>\n",
              "      <td>MALE</td>\n",
              "    </tr>\n",
              "  </tbody>\n",
              "</table>\n",
              "</div>\n",
              "      <button class=\"colab-df-convert\" onclick=\"convertToInteractive('df-ac4075f4-86e7-4e7b-8d58-f951789a7229')\"\n",
              "              title=\"Convert this dataframe to an interactive table.\"\n",
              "              style=\"display:none;\">\n",
              "        \n",
              "  <svg xmlns=\"http://www.w3.org/2000/svg\" height=\"24px\"viewBox=\"0 0 24 24\"\n",
              "       width=\"24px\">\n",
              "    <path d=\"M0 0h24v24H0V0z\" fill=\"none\"/>\n",
              "    <path d=\"M18.56 5.44l.94 2.06.94-2.06 2.06-.94-2.06-.94-.94-2.06-.94 2.06-2.06.94zm-11 1L8.5 8.5l.94-2.06 2.06-.94-2.06-.94L8.5 2.5l-.94 2.06-2.06.94zm10 10l.94 2.06.94-2.06 2.06-.94-2.06-.94-.94-2.06-.94 2.06-2.06.94z\"/><path d=\"M17.41 7.96l-1.37-1.37c-.4-.4-.92-.59-1.43-.59-.52 0-1.04.2-1.43.59L10.3 9.45l-7.72 7.72c-.78.78-.78 2.05 0 2.83L4 21.41c.39.39.9.59 1.41.59.51 0 1.02-.2 1.41-.59l7.78-7.78 2.81-2.81c.8-.78.8-2.07 0-2.86zM5.41 20L4 18.59l7.72-7.72 1.47 1.35L5.41 20z\"/>\n",
              "  </svg>\n",
              "      </button>\n",
              "      \n",
              "  <style>\n",
              "    .colab-df-container {\n",
              "      display:flex;\n",
              "      flex-wrap:wrap;\n",
              "      gap: 12px;\n",
              "    }\n",
              "\n",
              "    .colab-df-convert {\n",
              "      background-color: #E8F0FE;\n",
              "      border: none;\n",
              "      border-radius: 50%;\n",
              "      cursor: pointer;\n",
              "      display: none;\n",
              "      fill: #1967D2;\n",
              "      height: 32px;\n",
              "      padding: 0 0 0 0;\n",
              "      width: 32px;\n",
              "    }\n",
              "\n",
              "    .colab-df-convert:hover {\n",
              "      background-color: #E2EBFA;\n",
              "      box-shadow: 0px 1px 2px rgba(60, 64, 67, 0.3), 0px 1px 3px 1px rgba(60, 64, 67, 0.15);\n",
              "      fill: #174EA6;\n",
              "    }\n",
              "\n",
              "    [theme=dark] .colab-df-convert {\n",
              "      background-color: #3B4455;\n",
              "      fill: #D2E3FC;\n",
              "    }\n",
              "\n",
              "    [theme=dark] .colab-df-convert:hover {\n",
              "      background-color: #434B5C;\n",
              "      box-shadow: 0px 1px 3px 1px rgba(0, 0, 0, 0.15);\n",
              "      filter: drop-shadow(0px 1px 2px rgba(0, 0, 0, 0.3));\n",
              "      fill: #FFFFFF;\n",
              "    }\n",
              "  </style>\n",
              "\n",
              "      <script>\n",
              "        const buttonEl =\n",
              "          document.querySelector('#df-ac4075f4-86e7-4e7b-8d58-f951789a7229 button.colab-df-convert');\n",
              "        buttonEl.style.display =\n",
              "          google.colab.kernel.accessAllowed ? 'block' : 'none';\n",
              "\n",
              "        async function convertToInteractive(key) {\n",
              "          const element = document.querySelector('#df-ac4075f4-86e7-4e7b-8d58-f951789a7229');\n",
              "          const dataTable =\n",
              "            await google.colab.kernel.invokeFunction('convertToInteractive',\n",
              "                                                     [key], {});\n",
              "          if (!dataTable) return;\n",
              "\n",
              "          const docLinkHtml = 'Like what you see? Visit the ' +\n",
              "            '<a target=\"_blank\" href=https://colab.research.google.com/notebooks/data_table.ipynb>data table notebook</a>'\n",
              "            + ' to learn more about interactive tables.';\n",
              "          element.innerHTML = '';\n",
              "          dataTable['output_type'] = 'display_data';\n",
              "          await google.colab.output.renderOutput(dataTable, element);\n",
              "          const docLink = document.createElement('div');\n",
              "          docLink.innerHTML = docLinkHtml;\n",
              "          element.appendChild(docLink);\n",
              "        }\n",
              "      </script>\n",
              "    </div>\n",
              "  </div>\n",
              "  "
            ],
            "text/plain": [
              "                           predicted_species  \\\n",
              "0  Chinstrap penguin (Pygoscelis antarctica)   \n",
              "1        Adelie Penguin (Pygoscelis adeliae)   \n",
              "2  Chinstrap penguin (Pygoscelis antarctica)   \n",
              "3  Chinstrap penguin (Pygoscelis antarctica)   \n",
              "4  Chinstrap penguin (Pygoscelis antarctica)   \n",
              "5        Adelie Penguin (Pygoscelis adeliae)   \n",
              "6        Adelie Penguin (Pygoscelis adeliae)   \n",
              "7        Adelie Penguin (Pygoscelis adeliae)   \n",
              "8        Adelie Penguin (Pygoscelis adeliae)   \n",
              "9        Adelie Penguin (Pygoscelis adeliae)   \n",
              "\n",
              "                             predicted_species_probs  \\\n",
              "0  [{'label': 'Chinstrap penguin (Pygoscelis anta...   \n",
              "1  [{'label': 'Adelie Penguin (Pygoscelis adeliae...   \n",
              "2  [{'label': 'Chinstrap penguin (Pygoscelis anta...   \n",
              "3  [{'label': 'Chinstrap penguin (Pygoscelis anta...   \n",
              "4  [{'label': 'Chinstrap penguin (Pygoscelis anta...   \n",
              "5  [{'label': 'Adelie Penguin (Pygoscelis adeliae...   \n",
              "6  [{'label': 'Adelie Penguin (Pygoscelis adeliae...   \n",
              "7  [{'label': 'Adelie Penguin (Pygoscelis adeliae...   \n",
              "8  [{'label': 'Adelie Penguin (Pygoscelis adeliae...   \n",
              "9  [{'label': 'Adelie Penguin (Pygoscelis adeliae...   \n",
              "\n",
              "                                     species island  culmen_length_mm  \\\n",
              "0  Chinstrap penguin (Pygoscelis antarctica)  Dream              50.5   \n",
              "1        Adelie Penguin (Pygoscelis adeliae)  Dream              39.8   \n",
              "2  Chinstrap penguin (Pygoscelis antarctica)  Dream              46.9   \n",
              "3  Chinstrap penguin (Pygoscelis antarctica)  Dream              49.5   \n",
              "4  Chinstrap penguin (Pygoscelis antarctica)  Dream              46.5   \n",
              "5        Adelie Penguin (Pygoscelis adeliae)  Dream              43.2   \n",
              "6        Adelie Penguin (Pygoscelis adeliae)  Dream              40.9   \n",
              "7        Adelie Penguin (Pygoscelis adeliae)  Dream              37.3   \n",
              "8        Adelie Penguin (Pygoscelis adeliae)  Dream              36.6   \n",
              "9        Adelie Penguin (Pygoscelis adeliae)  Dream              40.2   \n",
              "\n",
              "   culmen_depth_mm  flipper_length_mm  body_mass_g     sex  \n",
              "0             18.4              200.0       3400.0  FEMALE  \n",
              "1             19.1              184.0       4650.0    MALE  \n",
              "2             16.6              192.0       2700.0  FEMALE  \n",
              "3             19.0              200.0       3800.0    MALE  \n",
              "4             17.9              192.0       3500.0  FEMALE  \n",
              "5             18.5              192.0       4100.0    MALE  \n",
              "6             18.9              184.0       3900.0    MALE  \n",
              "7             16.8              192.0       3000.0  FEMALE  \n",
              "8             18.4              184.0       3475.0  FEMALE  \n",
              "9             20.1              200.0       3975.0    MALE  "
            ]
          },
          "execution_count": 32,
          "metadata": {},
          "output_type": "execute_result"
        }
      ],
      "source": [
        "prediction_result"
      ]
    },
    {
      "cell_type": "markdown",
      "metadata": {
        "id": "TpV-iwP9qw9c"
      },
      "source": [
        "## Cleaning up\n",
        "\n",
        "To clean up all Google Cloud resources used in this project, you can [delete the Google Cloud\n",
        "project](https://cloud.google.com/resource-manager/docs/creating-managing-projects#shutting_down_projects) you used for the tutorial.\n",
        "\n",
        "Otherwise, you can delete the individual resources you created in this tutorial:\n",
        "\n",
        "{TODO: Include commands to delete individual resources below}"
      ]
    },
    {
      "cell_type": "code",
      "execution_count": null,
      "metadata": {
        "id": "sx_vKniMq9ZX"
      },
      "outputs": [],
      "source": [
        "# Delete the endpoint using the Vertex endpoint object\n",
        "endpoint.undeploy_all()\n",
        "endpoint.delete()\n",
        "\n",
        "# Delete the model using the Vertex model object\n",
        "try:\n",
        "    model.delete()\n",
        "except Exception as e:\n",
        "    print(e)\n",
        "\n",
        "# Delete the created BigQuery dataset\n",
        "! bq rm -r -f $PROJECT_ID:$BQ_DATASET_NAME"
      ]
    }
  ],
  "metadata": {
    "colab": {
      "collapsed_sections": [],
      "name": "bqml-vertexai-model-registry.ipynb",
      "toc_visible": true
    },
    "kernelspec": {
      "display_name": "Python 3",
      "name": "python3"
    }
  },
  "nbformat": 4,
  "nbformat_minor": 0
}
