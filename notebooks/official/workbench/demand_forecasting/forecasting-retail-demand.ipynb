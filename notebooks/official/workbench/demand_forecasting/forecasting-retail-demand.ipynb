{
  "cells": [
    {
      "cell_type": "code",
      "execution_count": null,
      "metadata": {
        "id": "6a81007f6093"
      },
      "outputs": [],
      "source": [
        "# Copyright 2022 Google LLC\n",
        "#\n",
        "# Licensed under the Apache License, Version 2.0 (the \"License\");\n",
        "# you may not use this file except in compliance with the License.\n",
        "# You may obtain a copy of the License at\n",
        "#\n",
        "#     https://www.apache.org/licenses/LICENSE-2.0\n",
        "#\n",
        "# Unless required by applicable law or agreed to in writing, software\n",
        "# distributed under the License is distributed on an \"AS IS\" BASIS,\n",
        "# WITHOUT WARRANTIES OR CONDITIONS OF ANY KIND, either express or implied.\n",
        "# See the License for the specific language governing permissions and\n",
        "# limitations under the License."
      ]
    },
    {
      "cell_type": "markdown",
      "metadata": {
        "id": "nqAYb3rIp93t"
      },
      "source": [
        "# Forecasting retail demand with Vertex AI and BigQuery ML "
      ]
    },
    {
      "cell_type": "markdown",
      "metadata": {
        "id": "nweBeREip93u"
      },
      "source": [
        "<table align=\"left\">\n",
        "\n",
        "  <td>\n",
        "    <a href=\"https://colab.research.google.com/github/GoogleCloudPlatform/vertex-ai-samples/blob/main/notebooks/official/workbench/demand_forecasting/forecasting-retail-demand.ipynb\">\n",
        "      <img src=\"https://cloud.google.com/ml-engine/images/colab-logo-32px.png\" alt=\"Colab logo\"> Run in Colab\n",
        "    </a>\n",
        "  </td>\n",
        "  <td>\n",
        "    <a href=\"https://github.com/GoogleCloudPlatform/vertex-ai-samples/blob/main/notebooks/official/workbench/demand_forecasting/forecasting-retail-demand.ipynb\">\n",
        "      <img src=\"https://cloud.google.com/ml-engine/images/github-logo-32px.png\" alt=\"GitHub logo\">\n",
        "      View on GitHub\n",
        "    </a>\n",
        "  </td>\n",
        "  <td>\n",
        "    <a href=\"https://console.cloud.google.com/vertex-ai/workbench/deploy-notebook?download_url=https://github.com/GoogleCloudPlatform/vertex-ai-samples/blob/main/notebooks/official/workbench/demand_forecasting/forecasting-retail-demand.ipynb\">\n",
        "      <img src=\"https://lh3.googleusercontent.com/UiNooY4LUgW_oTvpsNhPpQzsstV5W8F7rYgxgGBD85cWJoLmrOzhVs_ksK_vgx40SHs7jCqkTkCk=e14-rj-sc0xffffff-h130-w32\" alt=\"Vertex AI logo\">\n",
        "      Open in Vertex AI Workbench\n",
        "    </a>\n",
        "  </td>                                                                                               \n",
        "</table>"
      ]
    },
    {
      "cell_type": "markdown",
      "metadata": {
        "id": "033afdb243c4"
      },
      "source": [
        "## Table of contents\n",
        "\n",
        "* [Overview](#section-1)\n",
        "* [Dataset](#section-2)\n",
        "* [Objective](#section-3)\n",
        "* [Costs](#section-4)\n",
        "* [Explore the data](#section-5)\n",
        "* [Modeling with BigQuery and the ARIMA model](#section-6)\n",
        "* [Evaluate the model](#section-7)\n",
        "* [Executor](#section-8)\n",
        "* [Clean up](#section-9)\n"
      ]
    },
    {
      "cell_type": "markdown",
      "metadata": {
        "id": "dc1f01b84273"
      },
      "source": [
        "## Overview \n",
        "<a name=\"section-1\"></a>\n",
        "\n",
        "This tutorial explores demand forecasting using a BigQuery public retail dataset. Being able to measure and forecast customer demand can help retailers better understand their customers, stock shelves with the right products, offer targeted promotions, and generally, better plan and manage their budgets. This notebook applies an ARIMA (Autoregressive integrated moving average) model from BigQuery ML on retail data. This notebook demonstrates how to train and evaluate a BigQuery ML model for demand forecasting datasets and extract actionable future insights.\n",
        "\n",
        "*Note: This notebook file was designed to run in a [Vertex AI Workbench managed notebooks](https://cloud.google.com/vertex-ai/docs/workbench/managed/create-instance) instance using the `Python (Local)` kernel. Some components of this notebook may not work in other notebook environments.*\n",
        "\n",
        "#### ARIMA Modeling with BigQuery ML \n",
        "\n",
        "The <a href='https://en.wikipedia.org/wiki/Autoregressive_integrated_moving_average'>ARIMA model</a> is designed to analyze historical data, spot patterns over time, and project them into the future--in other words, forecasting. The model is available inside BigQuery ML and enables users to create and execute machine learning models directly in BigQuery using SQL queries. Working with BigQuery ML is advantageous, as it already has access to the data, it can handle most of the modeling details automatically if desired, and will store both the model and any predictions also inside BigQuery. "
      ]
    },
    {
      "cell_type": "markdown",
      "metadata": {
        "id": "286d39afc239"
      },
      "source": [
        "## Dataset \n",
        "<a name=\"section-2\"></a>\n",
        "\n",
        "This notebook uses the BigQuery public retail data set.\n",
        "The data covers 10 US stores and includes item level, department, product categories, and store details. In addition, it has explanatory variables such as price and gross margin. \n"
      ]
    },
    {
      "cell_type": "markdown",
      "metadata": {
        "id": "dbab58d4ae1a"
      },
      "source": [
        "## Objective\n",
        "<a name=\"section-3\"></a>\n",
        "\n",
        "In this tutorial, you will:\n",
        "\n",
        "* Explore data\n",
        "* Model with BigQuery and the ARIMA model\n",
        "* Evaluate the model\n",
        "* Evaluate the model results using BigQuery ML (on training data)\n",
        "* Evalute the model results - MAE, MAPE, MSE, RMSE (on test data)\n",
        "* Use the executor feature"
      ]
    },
    {
      "cell_type": "markdown",
      "metadata": {
        "id": "17e0532066d7"
      },
      "source": [
        "## Costs\n",
        "<a name=\"section-4\"></a>\n",
        "This tutorial uses the following billable components of Google Cloud:\n",
        "\n",
        "* Vertex AI\n",
        "* BigQuery\n",
        "\n",
        "Learn about [Vertex AI\n",
        "pricing](https://cloud.google.com/vertex-ai/pricing), [BigQuery\n",
        "pricing](https://cloud.google.com/bigquery/pricing) and use the [Pricing\n",
        "Calculator](https://cloud.google.com/products/calculator/)\n",
        "to generate a cost estimate based on your projected usage."
      ]
    },
    {
      "cell_type": "markdown",
      "metadata": {
        "id": "c9ea7usPp93z"
      },
      "source": [
        "### Set up your local development environment\n",
        "\n",
        "**If you are using Colab or Google Cloud Notebooks**, your environment already meets\n",
        "all the requirements to run this notebook. You can skip this step."
      ]
    },
    {
      "cell_type": "markdown",
      "metadata": {
        "id": "dNN9pAmip93z"
      },
      "source": [
        "**Otherwise**, make sure your environment meets this notebook's requirements.\n",
        "You need the following:\n",
        "\n",
        "* The Google Cloud SDK\n",
        "* Git\n",
        "* Python 3\n",
        "* virtualenv\n",
        "* Jupyter notebook running in a virtual environment with Python 3\n",
        "\n",
        "The Google Cloud guide to [Setting up a Python development\n",
        "environment](https://cloud.google.com/python/setup) and the [Jupyter\n",
        "installation guide](https://jupyter.org/install) provide detailed instructions\n",
        "for meeting these requirements. The following steps provide a condensed set of\n",
        "instructions:\n",
        "\n",
        "1. [Install and initialize the Cloud SDK.](https://cloud.google.com/sdk/docs/)\n",
        "\n",
        "1. [Install Python 3.](https://cloud.google.com/python/setup#installing_python)\n",
        "\n",
        "1. [Install\n",
        "   virtualenv](https://cloud.google.com/python/setup#installing_and_using_virtualenv)\n",
        "   and create a virtual environment that uses Python 3. Activate the virtual environment.\n",
        "\n",
        "1. To install Jupyter, run `pip3 install jupyter` on the\n",
        "command-line in a terminal shell.\n",
        "\n",
        "1. To launch Jupyter, run `jupyter notebook` on the command-line in a terminal shell.\n",
        "\n",
        "1. Open this notebook in the Jupyter Notebook Dashboard."
      ]
    },
    {
      "cell_type": "markdown",
      "metadata": {
        "id": "oH0bZDCmp930"
      },
      "source": [
        "### Install additional packages\n"
      ]
    },
    {
      "cell_type": "code",
      "execution_count": 1,
      "metadata": {
        "id": "V3RUMIvBp932"
      },
      "outputs": [],
      "source": [
        "import os\n",
        "\n",
        "# The Google Cloud Notebook product has specific requirements\n",
        "IS_GOOGLE_CLOUD_NOTEBOOK = os.path.exists(\"/opt/deeplearning/metadata/env_version\")\n",
        "\n",
        "# Google Cloud Notebook requires dependencies to be installed with '--user'\n",
        "USER_FLAG = \"\"\n",
        "if IS_GOOGLE_CLOUD_NOTEBOOK:\n",
        "    USER_FLAG = \"--user\""
      ]
    },
    {
      "cell_type": "code",
      "execution_count": 2,
      "metadata": {
        "id": "qkHGZ4xYp933"
      },
      "outputs": [
        {
          "name": "stdout",
          "output_type": "stream",
          "text": [
            "Collecting pandas-gbq\n",
            "  Downloading pandas_gbq-0.17.7-py2.py3-none-any.whl (25 kB)\n",
            "Requirement already satisfied: google-cloud-bigquery[bqstorage,pandas] in /opt/conda/lib/python3.7/site-packages (2.34.4)\n",
            "Collecting google-cloud-bigquery[bqstorage,pandas]\n",
            "  Downloading google_cloud_bigquery-3.3.0-py2.py3-none-any.whl (211 kB)\n",
            "\u001b[2K     \u001b[90m━━━━━━━━━━━━━━━━━━━━━━━━━━━━━━━━━━━━━━\u001b[0m \u001b[32m211.9/211.9 kB\u001b[0m \u001b[31m12.2 MB/s\u001b[0m eta \u001b[36m0:00:00\u001b[0m\n",
            "\u001b[?25hCollecting sklearn\n",
            "  Downloading sklearn-0.0.tar.gz (1.1 kB)\n",
            "  Preparing metadata (setup.py) ... \u001b[?25ldone\n",
            "\u001b[?25hRequirement already satisfied: google-auth>=1.25.0 in /home/jupyter/.local/lib/python3.7/site-packages (from pandas-gbq) (1.35.0)\n",
            "Collecting db-dtypes<2.0.0,>=0.3.1\n",
            "  Downloading db_dtypes-1.0.2-py2.py3-none-any.whl (14 kB)\n",
            "Requirement already satisfied: numpy>=1.16.6 in /opt/conda/lib/python3.7/site-packages (from pandas-gbq) (1.19.5)\n",
            "Requirement already satisfied: google-auth-oauthlib>=0.0.1 in /opt/conda/lib/python3.7/site-packages (from pandas-gbq) (0.4.6)\n",
            "Requirement already satisfied: pandas>=0.24.2 in /opt/conda/lib/python3.7/site-packages (from pandas-gbq) (1.3.5)\n",
            "Requirement already satisfied: setuptools in /opt/conda/lib/python3.7/site-packages (from pandas-gbq) (59.8.0)\n",
            "Requirement already satisfied: pyarrow<9.0dev,>=3.0.0 in /opt/conda/lib/python3.7/site-packages (from pandas-gbq) (8.0.0)\n",
            "Requirement already satisfied: google-api-core!=2.0.*,!=2.1.*,!=2.2.*,!=2.3.0,<3.0.0dev,>=1.31.5 in /opt/conda/lib/python3.7/site-packages (from pandas-gbq) (2.8.1)\n",
            "Requirement already satisfied: google-cloud-bigquery-storage<3.0.0dev,>=1.1.0 in /opt/conda/lib/python3.7/site-packages (from pandas-gbq) (2.13.2)\n",
            "Collecting pydata-google-auth\n",
            "  Downloading pydata_google_auth-1.4.0-py2.py3-none-any.whl (14 kB)\n",
            "Requirement already satisfied: google-cloud-core<3.0.0dev,>=1.4.1 in /opt/conda/lib/python3.7/site-packages (from google-cloud-bigquery[bqstorage,pandas]) (2.3.1)\n",
            "Requirement already satisfied: requests<3.0.0dev,>=2.18.0 in /opt/conda/lib/python3.7/site-packages (from google-cloud-bigquery[bqstorage,pandas]) (2.28.1)\n",
            "Requirement already satisfied: python-dateutil<3.0dev,>=2.7.2 in /opt/conda/lib/python3.7/site-packages (from google-cloud-bigquery[bqstorage,pandas]) (2.8.2)\n",
            "Requirement already satisfied: google-resumable-media<3.0dev,>=0.6.0 in /opt/conda/lib/python3.7/site-packages (from google-cloud-bigquery[bqstorage,pandas]) (2.3.3)\n",
            "Requirement already satisfied: grpcio<2.0dev,>=1.47.0 in /opt/conda/lib/python3.7/site-packages (from google-cloud-bigquery[bqstorage,pandas]) (1.47.0)\n",
            "Requirement already satisfied: packaging<22.0.0dev,>=14.3 in /opt/conda/lib/python3.7/site-packages (from google-cloud-bigquery[bqstorage,pandas]) (21.3)\n",
            "Requirement already satisfied: protobuf<4.0.0dev,>=3.12.0 in /opt/conda/lib/python3.7/site-packages (from google-cloud-bigquery[bqstorage,pandas]) (3.19.4)\n",
            "Requirement already satisfied: proto-plus<2.0.0dev,>=1.15.0 in /opt/conda/lib/python3.7/site-packages (from google-cloud-bigquery[bqstorage,pandas]) (1.20.6)\n",
            "Requirement already satisfied: scikit-learn in /opt/conda/lib/python3.7/site-packages (from sklearn) (1.0.2)\n",
            "Requirement already satisfied: googleapis-common-protos<2.0dev,>=1.56.2 in /opt/conda/lib/python3.7/site-packages (from google-api-core!=2.0.*,!=2.1.*,!=2.2.*,!=2.3.0,<3.0.0dev,>=1.31.5->pandas-gbq) (1.56.3)\n",
            "Requirement already satisfied: grpcio-status<2.0dev,>=1.33.2 in /opt/conda/lib/python3.7/site-packages (from google-api-core!=2.0.*,!=2.1.*,!=2.2.*,!=2.3.0,<3.0.0dev,>=1.31.5->pandas-gbq) (1.47.0)\n",
            "Requirement already satisfied: rsa<5,>=3.1.4 in /opt/conda/lib/python3.7/site-packages (from google-auth>=1.25.0->pandas-gbq) (4.8)\n",
            "Requirement already satisfied: pyasn1-modules>=0.2.1 in /opt/conda/lib/python3.7/site-packages (from google-auth>=1.25.0->pandas-gbq) (0.2.7)\n",
            "Requirement already satisfied: six>=1.9.0 in /opt/conda/lib/python3.7/site-packages (from google-auth>=1.25.0->pandas-gbq) (1.16.0)\n",
            "Requirement already satisfied: cachetools<5.0,>=2.0.0 in /home/jupyter/.local/lib/python3.7/site-packages (from google-auth>=1.25.0->pandas-gbq) (4.2.4)\n",
            "Requirement already satisfied: requests-oauthlib>=0.7.0 in /opt/conda/lib/python3.7/site-packages (from google-auth-oauthlib>=0.0.1->pandas-gbq) (1.3.1)\n",
            "Requirement already satisfied: google-crc32c<2.0dev,>=1.0 in /opt/conda/lib/python3.7/site-packages (from google-resumable-media<3.0dev,>=0.6.0->google-cloud-bigquery[bqstorage,pandas]) (1.1.2)\n",
            "Requirement already satisfied: pyparsing!=3.0.5,>=2.0.2 in /opt/conda/lib/python3.7/site-packages (from packaging<22.0.0dev,>=14.3->google-cloud-bigquery[bqstorage,pandas]) (3.0.9)\n",
            "Requirement already satisfied: pytz>=2017.3 in /opt/conda/lib/python3.7/site-packages (from pandas>=0.24.2->pandas-gbq) (2022.1)\n",
            "Requirement already satisfied: charset-normalizer<3,>=2 in /opt/conda/lib/python3.7/site-packages (from requests<3.0.0dev,>=2.18.0->google-cloud-bigquery[bqstorage,pandas]) (2.1.0)\n",
            "Requirement already satisfied: urllib3<1.27,>=1.21.1 in /opt/conda/lib/python3.7/site-packages (from requests<3.0.0dev,>=2.18.0->google-cloud-bigquery[bqstorage,pandas]) (1.26.9)\n",
            "Requirement already satisfied: idna<4,>=2.5 in /opt/conda/lib/python3.7/site-packages (from requests<3.0.0dev,>=2.18.0->google-cloud-bigquery[bqstorage,pandas]) (3.3)\n",
            "Requirement already satisfied: certifi>=2017.4.17 in /opt/conda/lib/python3.7/site-packages (from requests<3.0.0dev,>=2.18.0->google-cloud-bigquery[bqstorage,pandas]) (2022.6.15)\n",
            "Requirement already satisfied: threadpoolctl>=2.0.0 in /opt/conda/lib/python3.7/site-packages (from scikit-learn->sklearn) (3.1.0)\n",
            "Requirement already satisfied: scipy>=1.1.0 in /opt/conda/lib/python3.7/site-packages (from scikit-learn->sklearn) (1.7.3)\n",
            "Requirement already satisfied: joblib>=0.11 in /opt/conda/lib/python3.7/site-packages (from scikit-learn->sklearn) (1.1.0)\n",
            "Requirement already satisfied: cffi>=1.0.0 in /opt/conda/lib/python3.7/site-packages (from google-crc32c<2.0dev,>=1.0->google-resumable-media<3.0dev,>=0.6.0->google-cloud-bigquery[bqstorage,pandas]) (1.15.0)\n",
            "Requirement already satisfied: pyasn1<0.5.0,>=0.4.6 in /opt/conda/lib/python3.7/site-packages (from pyasn1-modules>=0.2.1->google-auth>=1.25.0->pandas-gbq) (0.4.8)\n",
            "Requirement already satisfied: oauthlib>=3.0.0 in /opt/conda/lib/python3.7/site-packages (from requests-oauthlib>=0.7.0->google-auth-oauthlib>=0.0.1->pandas-gbq) (3.2.0)\n",
            "Requirement already satisfied: pycparser in /opt/conda/lib/python3.7/site-packages (from cffi>=1.0.0->google-crc32c<2.0dev,>=1.0->google-resumable-media<3.0dev,>=0.6.0->google-cloud-bigquery[bqstorage,pandas]) (2.21)\n",
            "Building wheels for collected packages: sklearn\n",
            "  Building wheel for sklearn (setup.py) ... \u001b[?25ldone\n",
            "\u001b[?25h  Created wheel for sklearn: filename=sklearn-0.0-py2.py3-none-any.whl size=1310 sha256=cb140ade321df8d1361587c17024a6eed70fa245290227601cd33d845d0e87e6\n",
            "  Stored in directory: /home/jupyter/.cache/pip/wheels/46/ef/c3/157e41f5ee1372d1be90b09f74f82b10e391eaacca8f22d33e\n",
            "Successfully built sklearn\n",
            "Installing collected packages: sklearn, db-dtypes, pydata-google-auth, google-cloud-bigquery, pandas-gbq\n",
            "\u001b[31mERROR: pip's dependency resolver does not currently take into account all the packages that are installed. This behaviour is the source of the following dependency conflicts.\n",
            "google-cloud-aiplatform 1.16.0 requires google-cloud-bigquery<3.0.0dev,>=1.15.0, but you have google-cloud-bigquery 3.3.0 which is incompatible.\u001b[0m\u001b[31m\n",
            "\u001b[0mSuccessfully installed db-dtypes-1.0.2 google-cloud-bigquery-3.3.0 pandas-gbq-0.17.7 pydata-google-auth-1.4.0 sklearn-0.0\n"
          ]
        }
      ],
      "source": [
        "! pip3 install {USER_FLAG} --upgrade pandas-gbq 'google-cloud-bigquery[bqstorage,pandas]' sklearn \n"
      ]
    },
    {
      "cell_type": "markdown",
      "metadata": {
        "id": "QLnr7HGVp934"
      },
      "source": [
        "### Restart the kernel\n",
        "\n",
        "After you install the additional packages, you need to restart the notebook kernel so it can find the packages."
      ]
    },
    {
      "cell_type": "code",
      "execution_count": 80,
      "metadata": {
        "id": "h5Vuu7x7p935"
      },
      "outputs": [],
      "source": [
        "# Automatically restart kernel after installs\n",
        "import os\n",
        "\n",
        "if not os.getenv(\"IS_TESTING\"):\n",
        "    # Automatically restart kernel after installs\n",
        "    import IPython\n",
        "\n",
        "    app = IPython.Application.instance()\n",
        "    app.kernel.do_shutdown(True)"
      ]
    },
    {
      "cell_type": "markdown",
      "metadata": {
        "id": "75568876f1a4"
      },
      "source": [
        "## Before you begin"
      ]
    },
    {
      "cell_type": "markdown",
      "metadata": {
        "id": "276011faac6f"
      },
      "source": [
        "### Set up your Google Cloud project\n",
        "\n",
        "**The following steps are required, regardless of your notebook environment.**\n",
        "\n",
        "1. [Select or create a Google Cloud project](https://console.cloud.google.com/cloud-resource-manager). When you first create an account, you get a $300 free credit towards your compute/storage costs.\n",
        "\n",
        "1. [Make sure that billing is enabled for your project](https://cloud.google.com/billing/docs/how-to/modify-project).\n",
        "\n",
        "1. [Enable the Vertex AI, Cloud Storage, and Compute Engine APIs](https://console.cloud.google.com/flows/enableapi?apiid=aiplatform.googleapis.com,compute_component,storage-component.googleapis.com). \n",
        "\n",
        "1. [Configure your Google Cloud project for Vertex Pipelines](https://cloud.google.com/vertex-ai/docs/pipelines/configure-project).\n",
        "\n",
        "1. If you are running this notebook locally, you will need to install the [Cloud SDK](https://cloud.google.com/sdk).\n",
        "\n",
        "1. Enter your project ID in the cell below. Then run the cell to make sure the\n",
        "Cloud SDK uses the right project for all the commands in this notebook.\n",
        "\n",
        "**Note**: Jupyter runs lines prefixed with `!` as shell commands, and it interpolates Python variables prefixed with `$` into these commands."
      ]
    },
    {
      "cell_type": "markdown",
      "metadata": {
        "id": "d3b3a6979860"
      },
      "source": [
        "#### Set your project ID\n",
        "\n",
        "**If you don't know your project ID**, you may be able to get your project ID using `gcloud`."
      ]
    },
    {
      "cell_type": "code",
      "execution_count": 2,
      "metadata": {
        "id": "b453e095976a"
      },
      "outputs": [
        {
          "name": "stdout",
          "output_type": "stream",
          "text": [
            "Project ID:  vertex-ai-dev\n"
          ]
        }
      ],
      "source": [
        "import os\n",
        "\n",
        "PROJECT_ID = \"\"\n",
        "\n",
        "# Get your Google Cloud project ID from gcloud\n",
        "if not os.getenv(\"IS_TESTING\"):\n",
        "    shell_output = !gcloud config list --format 'value(core.project)' 2>/dev/null\n",
        "    PROJECT_ID = shell_output[0]\n",
        "    print(\"Project ID: \", PROJECT_ID)"
      ]
    },
    {
      "cell_type": "markdown",
      "metadata": {
        "id": "f4c6d0a9e66c"
      },
      "source": [
        "Otherwise, set your project ID here."
      ]
    },
    {
      "cell_type": "code",
      "execution_count": 3,
      "metadata": {
        "id": "eab2101e413d"
      },
      "outputs": [],
      "source": [
        "if PROJECT_ID == \"\" or PROJECT_ID is None:\n",
        "    PROJECT_ID = \"[your-project-id]\"  # @param {type:\"string\"}"
      ]
    },
    {
      "cell_type": "markdown",
      "metadata": {
        "id": "07fc8daffbf9"
      },
      "source": [
        "#### Timestamp\n",
        "\n",
        "If you are in a live tutorial session, you might be using a shared test account or project. To avoid name collisions between users on resources created, you create a timestamp for each instance session, and append it onto the name of resources you create in this tutorial."
      ]
    },
    {
      "cell_type": "code",
      "execution_count": 4,
      "metadata": {
        "id": "abc79bf099b2"
      },
      "outputs": [],
      "source": [
        "from datetime import datetime\n",
        "\n",
        "TIMESTAMP = datetime.now().strftime(\"%Y%m%d%H%M%S\")"
      ]
    },
    {
      "cell_type": "markdown",
      "metadata": {
        "id": "_RFbibT9p937"
      },
      "source": [
        "### Authenticate your Google Cloud account\n",
        "\n",
        "**If you are using Google Cloud Notebooks**, your environment is already\n",
        "authenticated. Skip this step."
      ]
    },
    {
      "cell_type": "markdown",
      "metadata": {
        "id": "gpGsDv_8p937"
      },
      "source": [
        "**If you are using Colab**, run the cell below and follow the instructions\n",
        "when prompted to authenticate your account via oAuth.\n",
        "\n",
        "**Otherwise**, follow these steps:\n",
        "\n",
        "1. In the Cloud Console, go to the [**Create service account key**\n",
        "   page](https://console.cloud.google.com/apis/credentials/serviceaccountkey).\n",
        "\n",
        "2. Click **Create service account**.\n",
        "\n",
        "3. In the **Service account name** field, enter a name, and\n",
        "   click **Create**.\n",
        "\n",
        "4. In the **Grant this service account access to project** section, click the **Role** drop-down list. Type \"Vertex AI\"\n",
        "into the filter box, and select\n",
        "   **Vertex AI Administrator**. Type \"Storage Object Admin\" into the filter box, and select **Storage Object Admin**.\n",
        "\n",
        "5. Click *Create*. A JSON file that contains your key downloads to your\n",
        "local environment.\n",
        "\n",
        "6. Enter the path to your service account key as the\n",
        "`GOOGLE_APPLICATION_CREDENTIALS` variable in the cell below and run the cell."
      ]
    },
    {
      "cell_type": "code",
      "execution_count": null,
      "metadata": {
        "id": "Suj2JY6ep937"
      },
      "outputs": [],
      "source": [
        "import os\n",
        "import sys\n",
        "\n",
        "# If you are running this notebook in Colab, run this cell and follow the\n",
        "# instructions to authenticate your GCP account. This provides access to your\n",
        "# Cloud Storage bucket and lets you submit training jobs and prediction\n",
        "# requests.\n",
        "\n",
        "# The Google Cloud Notebook product has specific requirements\n",
        "IS_GOOGLE_CLOUD_NOTEBOOK = os.path.exists(\"/opt/deeplearning/metadata/env_version\")\n",
        "\n",
        "# If on Google Cloud Notebooks, then don't execute this code\n",
        "if not IS_GOOGLE_CLOUD_NOTEBOOK:\n",
        "    if \"google.colab\" in sys.modules:\n",
        "        from google.colab import auth as google_auth\n",
        "\n",
        "        google_auth.authenticate_user()\n",
        "\n",
        "    # If you are running this notebook locally, replace the string below with the\n",
        "    # path to your service account key and run this cell to authenticate your GCP\n",
        "    # account.\n",
        "    elif not os.getenv(\"IS_TESTING\"):\n",
        "        %env GOOGLE_APPLICATION_CREDENTIALS ''"
      ]
    },
    {
      "cell_type": "markdown",
      "metadata": {
        "id": "b4edb2c269d4"
      },
      "source": [
        "## Import libraries and define constants"
      ]
    },
    {
      "cell_type": "markdown",
      "metadata": {
        "id": "b81a2c71fa3a"
      },
      "source": [
        "Load the required libraries."
      ]
    },
    {
      "cell_type": "code",
      "execution_count": 5,
      "metadata": {
        "id": "c64de5cbad25"
      },
      "outputs": [],
      "source": [
        "import datetime\n",
        "\n",
        "import matplotlib.pyplot as plt\n",
        "import pandas as pd\n",
        "from google.cloud import bigquery\n",
        "from google.cloud.bigquery import Client\n",
        "from sklearn.metrics import (mean_absolute_error,\n",
        "                             mean_absolute_percentage_error,\n",
        "                             mean_squared_error)\n",
        "\n",
        "%matplotlib inline\n",
        "\n",
        "import warnings\n",
        "\n",
        "warnings.filterwarnings(\"ignore\")"
      ]
    },
    {
      "cell_type": "code",
      "execution_count": 6,
      "metadata": {
        "id": "7592011d7825"
      },
      "outputs": [],
      "source": [
        "SALES_TABLE = \"training_data_table\"\n",
        "\n",
        "# Construct a BigQuery client object.\n",
        "\n",
        "client = Client(project=PROJECT_ID)"
      ]
    },
    {
      "cell_type": "markdown",
      "metadata": {
        "id": "36d3a8aec700"
      },
      "source": [
        "Create a BigQuery datatset"
      ]
    },
    {
      "cell_type": "code",
      "execution_count": 7,
      "metadata": {
        "id": "2f6037562f87"
      },
      "outputs": [],
      "source": [
        "dataset_id = \"demandforecasting\" + \"_\" + TIMESTAMP"
      ]
    },
    {
      "cell_type": "markdown",
      "metadata": {
        "id": "0wguBZeKp93_"
      },
      "source": [
        "If you are using ***Vertex AI Workbench managed notebooks instance***, every cell which starts with \"#@bigquery\" will be a SQL Query. If you are using Vertex AI Workbench user managed notebooks instance or Colab it will be a markdown cell."
      ]
    },
    {
      "cell_type": "markdown",
      "metadata": {
        "id": "2ce9876ee882"
      },
      "source": [
        "#@bigquery\n",
        "CREATE SCHEMA [your-dataset-id]\n",
        "OPTIONS(\n",
        "  location=\"us\"\n",
        "  )"
      ]
    },
    {
      "cell_type": "markdown",
      "metadata": {
        "id": "RxnaBh4sp93_"
      },
      "source": [
        "(**Optional**)If you are using Vertex AI Workbench managed notebooks instance, once the results from BigQuery are displayed in the above cell, click the **Query and load as DataFrame** button and execute the generated code stub to fetch the data into the current notebook as a dataframe.\n",
        "\n",
        "*Note: By default the data is loaded into a `df` variable, though this can be changed before executing the cell if required.*"
      ]
    },
    {
      "cell_type": "code",
      "execution_count": 8,
      "metadata": {
        "id": "d1m0ixQ9p93_"
      },
      "outputs": [
        {
          "name": "stdout",
          "output_type": "stream",
          "text": [
            "<google.cloud.bigquery.table._EmptyRowIterator object at 0x7f31a0748f10>\n"
          ]
        }
      ],
      "source": [
        "query = \"\"\"\n",
        "CREATE SCHEMA `{PROJECT_ID}.{dataset_id}`\n",
        "OPTIONS(\n",
        "  location=\"us\"\n",
        "  )\n",
        "\"\"\".format(\n",
        "    PROJECT_ID=PROJECT_ID, dataset_id=dataset_id\n",
        ")\n",
        "query_job = client.query(query)\n",
        "print(query_job.result())"
      ]
    },
    {
      "cell_type": "markdown",
      "metadata": {
        "id": "7002b223b2b5"
      },
      "source": [
        "## Explore the Data\n",
        "<a name=\"section-5\"></a>"
      ]
    },
    {
      "cell_type": "markdown",
      "metadata": {
        "id": "6a3ee00b6b9f"
      },
      "source": [
        "View the data that is stored in the public BigQuery dataset."
      ]
    },
    {
      "cell_type": "markdown",
      "metadata": {
        "id": "2b134d3155d5"
      },
      "source": [
        "#@bigquery\n",
        "SELECT * FROM `looker-private-demo.retail.transaction_detail`"
      ]
    },
    {
      "cell_type": "code",
      "execution_count": 9,
      "metadata": {
        "id": "R8QkUxvzp94A"
      },
      "outputs": [],
      "source": [
        "query = \"\"\"\n",
        "SELECT * FROM `looker-private-demo.retail.transaction_detail`\n",
        "\"\"\"\n",
        "query_job = client.query(query)"
      ]
    },
    {
      "cell_type": "code",
      "execution_count": 10,
      "metadata": {
        "id": "GhAK4ryBp94A"
      },
      "outputs": [
        {
          "data": {
            "text/html": [
              "<div>\n",
              "<style scoped>\n",
              "    .dataframe tbody tr th:only-of-type {\n",
              "        vertical-align: middle;\n",
              "    }\n",
              "\n",
              "    .dataframe tbody tr th {\n",
              "        vertical-align: top;\n",
              "    }\n",
              "\n",
              "    .dataframe thead th {\n",
              "        text-align: right;\n",
              "    }\n",
              "</style>\n",
              "<table border=\"1\" class=\"dataframe\">\n",
              "  <thead>\n",
              "    <tr style=\"text-align: right;\">\n",
              "      <th></th>\n",
              "      <th>transaction_timestamp</th>\n",
              "      <th>transaction_id</th>\n",
              "      <th>store_id</th>\n",
              "      <th>channel_id</th>\n",
              "      <th>customer_id</th>\n",
              "      <th>line_items</th>\n",
              "    </tr>\n",
              "  </thead>\n",
              "  <tbody>\n",
              "    <tr>\n",
              "      <th>0</th>\n",
              "      <td>2019-05-01 01:32:37+00:00</td>\n",
              "      <td>158877</td>\n",
              "      <td>1</td>\n",
              "      <td>2</td>\n",
              "      <td>&lt;NA&gt;</td>\n",
              "      <td>[{'product_id': 5130, 'sale_price': 29.9400005...</td>\n",
              "    </tr>\n",
              "    <tr>\n",
              "      <th>1</th>\n",
              "      <td>2019-05-01 13:01:03+00:00</td>\n",
              "      <td>87580</td>\n",
              "      <td>1</td>\n",
              "      <td>1</td>\n",
              "      <td>&lt;NA&gt;</td>\n",
              "      <td>[{'product_id': 18807, 'sale_price': 59.990001...</td>\n",
              "    </tr>\n",
              "    <tr>\n",
              "      <th>2</th>\n",
              "      <td>2019-05-01 12:23:00+00:00</td>\n",
              "      <td>144415</td>\n",
              "      <td>1</td>\n",
              "      <td>2</td>\n",
              "      <td>&lt;NA&gt;</td>\n",
              "      <td>[{'product_id': 17641, 'sale_price': 44.0, 'gr...</td>\n",
              "    </tr>\n",
              "    <tr>\n",
              "      <th>3</th>\n",
              "      <td>2019-05-01 03:13:40+00:00</td>\n",
              "      <td>11320</td>\n",
              "      <td>1</td>\n",
              "      <td>3</td>\n",
              "      <td>11971</td>\n",
              "      <td>[{'product_id': 12795, 'sale_price': 108.0, 'g...</td>\n",
              "    </tr>\n",
              "    <tr>\n",
              "      <th>4</th>\n",
              "      <td>2019-05-01 18:06:49+00:00</td>\n",
              "      <td>144253</td>\n",
              "      <td>1</td>\n",
              "      <td>2</td>\n",
              "      <td>&lt;NA&gt;</td>\n",
              "      <td>[{'product_id': 4274, 'sale_price': 39.9900016...</td>\n",
              "    </tr>\n",
              "    <tr>\n",
              "      <th>...</th>\n",
              "      <td>...</td>\n",
              "      <td>...</td>\n",
              "      <td>...</td>\n",
              "      <td>...</td>\n",
              "      <td>...</td>\n",
              "      <td>...</td>\n",
              "    </tr>\n",
              "    <tr>\n",
              "      <th>297392</th>\n",
              "      <td>2018-07-24 22:23:57+00:00</td>\n",
              "      <td>4776</td>\n",
              "      <td>10</td>\n",
              "      <td>1</td>\n",
              "      <td>&lt;NA&gt;</td>\n",
              "      <td>[{'product_id': 1534, 'sale_price': 24.9899997...</td>\n",
              "    </tr>\n",
              "    <tr>\n",
              "      <th>297393</th>\n",
              "      <td>2018-07-24 15:16:40+00:00</td>\n",
              "      <td>142912</td>\n",
              "      <td>10</td>\n",
              "      <td>3</td>\n",
              "      <td>2873</td>\n",
              "      <td>[{'product_id': 3249, 'sale_price': 36.9900016...</td>\n",
              "    </tr>\n",
              "    <tr>\n",
              "      <th>297394</th>\n",
              "      <td>2018-07-24 05:09:27+00:00</td>\n",
              "      <td>73940</td>\n",
              "      <td>10</td>\n",
              "      <td>2</td>\n",
              "      <td>&lt;NA&gt;</td>\n",
              "      <td>[{'product_id': 3170, 'sale_price': 19.9899997...</td>\n",
              "    </tr>\n",
              "    <tr>\n",
              "      <th>297395</th>\n",
              "      <td>2018-07-24 21:07:44+00:00</td>\n",
              "      <td>4756</td>\n",
              "      <td>10</td>\n",
              "      <td>1</td>\n",
              "      <td>&lt;NA&gt;</td>\n",
              "      <td>[{'product_id': 22699, 'sale_price': 54.0, 'gr...</td>\n",
              "    </tr>\n",
              "    <tr>\n",
              "      <th>297396</th>\n",
              "      <td>2018-07-24 16:18:00+00:00</td>\n",
              "      <td>109383</td>\n",
              "      <td>10</td>\n",
              "      <td>2</td>\n",
              "      <td>3462</td>\n",
              "      <td>[{'product_id': 16110, 'sale_price': 26.0, 'gr...</td>\n",
              "    </tr>\n",
              "  </tbody>\n",
              "</table>\n",
              "<p>297397 rows × 6 columns</p>\n",
              "</div>"
            ],
            "text/plain": [
              "           transaction_timestamp  transaction_id  store_id  channel_id  \\\n",
              "0      2019-05-01 01:32:37+00:00          158877         1           2   \n",
              "1      2019-05-01 13:01:03+00:00           87580         1           1   \n",
              "2      2019-05-01 12:23:00+00:00          144415         1           2   \n",
              "3      2019-05-01 03:13:40+00:00           11320         1           3   \n",
              "4      2019-05-01 18:06:49+00:00          144253         1           2   \n",
              "...                          ...             ...       ...         ...   \n",
              "297392 2018-07-24 22:23:57+00:00            4776        10           1   \n",
              "297393 2018-07-24 15:16:40+00:00          142912        10           3   \n",
              "297394 2018-07-24 05:09:27+00:00           73940        10           2   \n",
              "297395 2018-07-24 21:07:44+00:00            4756        10           1   \n",
              "297396 2018-07-24 16:18:00+00:00          109383        10           2   \n",
              "\n",
              "        customer_id                                         line_items  \n",
              "0              <NA>  [{'product_id': 5130, 'sale_price': 29.9400005...  \n",
              "1              <NA>  [{'product_id': 18807, 'sale_price': 59.990001...  \n",
              "2              <NA>  [{'product_id': 17641, 'sale_price': 44.0, 'gr...  \n",
              "3             11971  [{'product_id': 12795, 'sale_price': 108.0, 'g...  \n",
              "4              <NA>  [{'product_id': 4274, 'sale_price': 39.9900016...  \n",
              "...             ...                                                ...  \n",
              "297392         <NA>  [{'product_id': 1534, 'sale_price': 24.9899997...  \n",
              "297393         2873  [{'product_id': 3249, 'sale_price': 36.9900016...  \n",
              "297394         <NA>  [{'product_id': 3170, 'sale_price': 19.9899997...  \n",
              "297395         <NA>  [{'product_id': 22699, 'sale_price': 54.0, 'gr...  \n",
              "297396         3462  [{'product_id': 16110, 'sale_price': 26.0, 'gr...  \n",
              "\n",
              "[297397 rows x 6 columns]"
            ]
          },
          "execution_count": 10,
          "metadata": {},
          "output_type": "execute_result"
        }
      ],
      "source": [
        "query_job.to_dataframe()"
      ]
    },
    {
      "cell_type": "markdown",
      "metadata": {
        "id": "6d52803e14f2"
      },
      "source": [
        "Create a view named `important_fields` using only the `transaction_timestamp` and `line_items` fields, where the store ID is 10."
      ]
    },
    {
      "cell_type": "markdown",
      "metadata": {
        "id": "dc37b15df336"
      },
      "source": [
        "#@bigquery\n",
        "CREATE OR REPLACE VIEW [your-dataset-id].important_fields AS\n",
        "(\n",
        "    SELECT transaction_timestamp,line_items from `looker-private-demo.retail.transaction_detail` WHERE store_id = 10\n",
        ")   "
      ]
    },
    {
      "cell_type": "code",
      "execution_count": 11,
      "metadata": {
        "id": "uDgu3GWtp94B"
      },
      "outputs": [
        {
          "name": "stdout",
          "output_type": "stream",
          "text": [
            "<google.cloud.bigquery.table._EmptyRowIterator object at 0x7f31afc51610>\n"
          ]
        }
      ],
      "source": [
        "query = \"\"\"\n",
        "CREATE OR REPLACE VIEW {dataset_id}.important_fields AS\n",
        "(\n",
        "    SELECT transaction_timestamp,line_items from `looker-private-demo.retail.transaction_detail` WHERE store_id = 10\n",
        ")   \n",
        "\"\"\".format(\n",
        "    dataset_id=dataset_id\n",
        ")\n",
        "query_job = client.query(query)\n",
        "print(query_job.result())"
      ]
    },
    {
      "cell_type": "markdown",
      "metadata": {
        "id": "a9ca8a8bbf82"
      },
      "source": [
        "Look at the data in the `important_fields` view."
      ]
    },
    {
      "cell_type": "markdown",
      "metadata": {
        "id": "1ffe2d8e816c"
      },
      "source": [
        "#@bigquery\n",
        "SELECT * FROM [your-dataset-id].important_fields"
      ]
    },
    {
      "cell_type": "code",
      "execution_count": 12,
      "metadata": {
        "id": "J4CN-N_op94B"
      },
      "outputs": [],
      "source": [
        "query = \"\"\"\n",
        "SELECT * FROM {dataset_id}.important_fields\n",
        "\"\"\".format(\n",
        "    dataset_id=dataset_id\n",
        ")\n",
        "query_job = client.query(query)"
      ]
    },
    {
      "cell_type": "code",
      "execution_count": 13,
      "metadata": {
        "id": "LTHxGXsGp94B"
      },
      "outputs": [
        {
          "data": {
            "text/html": [
              "<div>\n",
              "<style scoped>\n",
              "    .dataframe tbody tr th:only-of-type {\n",
              "        vertical-align: middle;\n",
              "    }\n",
              "\n",
              "    .dataframe tbody tr th {\n",
              "        vertical-align: top;\n",
              "    }\n",
              "\n",
              "    .dataframe thead th {\n",
              "        text-align: right;\n",
              "    }\n",
              "</style>\n",
              "<table border=\"1\" class=\"dataframe\">\n",
              "  <thead>\n",
              "    <tr style=\"text-align: right;\">\n",
              "      <th></th>\n",
              "      <th>transaction_timestamp</th>\n",
              "      <th>line_items</th>\n",
              "    </tr>\n",
              "  </thead>\n",
              "  <tbody>\n",
              "    <tr>\n",
              "      <th>0</th>\n",
              "      <td>2022-03-02 16:40:10+00:00</td>\n",
              "      <td>[{'product_id': 7468, 'sale_price': 13.6499996...</td>\n",
              "    </tr>\n",
              "    <tr>\n",
              "      <th>1</th>\n",
              "      <td>2022-03-02 18:24:14+00:00</td>\n",
              "      <td>[{'product_id': 2868, 'sale_price': 9.48999977...</td>\n",
              "    </tr>\n",
              "    <tr>\n",
              "      <th>2</th>\n",
              "      <td>2022-03-02 01:52:34+00:00</td>\n",
              "      <td>[{'product_id': 27457, 'sale_price': 27.600000...</td>\n",
              "    </tr>\n",
              "    <tr>\n",
              "      <th>3</th>\n",
              "      <td>2022-03-02 01:09:08+00:00</td>\n",
              "      <td>[{'product_id': 7828, 'sale_price': 223.5, 'gr...</td>\n",
              "    </tr>\n",
              "    <tr>\n",
              "      <th>4</th>\n",
              "      <td>2022-03-02 14:37:25+00:00</td>\n",
              "      <td>[{'product_id': 2946, 'sale_price': 25.3400001...</td>\n",
              "    </tr>\n",
              "    <tr>\n",
              "      <th>...</th>\n",
              "      <td>...</td>\n",
              "      <td>...</td>\n",
              "    </tr>\n",
              "    <tr>\n",
              "      <th>30045</th>\n",
              "      <td>2022-06-03 08:51:13+00:00</td>\n",
              "      <td>[{'product_id': 16109, 'sale_price': 44.400001...</td>\n",
              "    </tr>\n",
              "    <tr>\n",
              "      <th>30046</th>\n",
              "      <td>2020-09-05 17:35:08+00:00</td>\n",
              "      <td>[{'product_id': 16109, 'sale_price': 44.400001...</td>\n",
              "    </tr>\n",
              "    <tr>\n",
              "      <th>30047</th>\n",
              "      <td>2022-06-08 19:57:06+00:00</td>\n",
              "      <td>[{'product_id': 16109, 'sale_price': 44.400001...</td>\n",
              "    </tr>\n",
              "    <tr>\n",
              "      <th>30048</th>\n",
              "      <td>2022-06-08 16:27:25+00:00</td>\n",
              "      <td>[{'product_id': 18070, 'sale_price': 44.400001...</td>\n",
              "    </tr>\n",
              "    <tr>\n",
              "      <th>30049</th>\n",
              "      <td>2022-06-06 13:21:05+00:00</td>\n",
              "      <td>[{'product_id': 16109, 'sale_price': 44.400001...</td>\n",
              "    </tr>\n",
              "  </tbody>\n",
              "</table>\n",
              "<p>30050 rows × 2 columns</p>\n",
              "</div>"
            ],
            "text/plain": [
              "          transaction_timestamp  \\\n",
              "0     2022-03-02 16:40:10+00:00   \n",
              "1     2022-03-02 18:24:14+00:00   \n",
              "2     2022-03-02 01:52:34+00:00   \n",
              "3     2022-03-02 01:09:08+00:00   \n",
              "4     2022-03-02 14:37:25+00:00   \n",
              "...                         ...   \n",
              "30045 2022-06-03 08:51:13+00:00   \n",
              "30046 2020-09-05 17:35:08+00:00   \n",
              "30047 2022-06-08 19:57:06+00:00   \n",
              "30048 2022-06-08 16:27:25+00:00   \n",
              "30049 2022-06-06 13:21:05+00:00   \n",
              "\n",
              "                                              line_items  \n",
              "0      [{'product_id': 7468, 'sale_price': 13.6499996...  \n",
              "1      [{'product_id': 2868, 'sale_price': 9.48999977...  \n",
              "2      [{'product_id': 27457, 'sale_price': 27.600000...  \n",
              "3      [{'product_id': 7828, 'sale_price': 223.5, 'gr...  \n",
              "4      [{'product_id': 2946, 'sale_price': 25.3400001...  \n",
              "...                                                  ...  \n",
              "30045  [{'product_id': 16109, 'sale_price': 44.400001...  \n",
              "30046  [{'product_id': 16109, 'sale_price': 44.400001...  \n",
              "30047  [{'product_id': 16109, 'sale_price': 44.400001...  \n",
              "30048  [{'product_id': 18070, 'sale_price': 44.400001...  \n",
              "30049  [{'product_id': 16109, 'sale_price': 44.400001...  \n",
              "\n",
              "[30050 rows x 2 columns]"
            ]
          },
          "execution_count": 13,
          "metadata": {},
          "output_type": "execute_result"
        }
      ],
      "source": [
        "query_job.to_dataframe()"
      ]
    },
    {
      "cell_type": "markdown",
      "metadata": {
        "id": "5f03b43de905"
      },
      "source": [
        "Convert the `transaction_timestamp` field into a date."
      ]
    },
    {
      "cell_type": "markdown",
      "metadata": {
        "id": "221986867dbd"
      },
      "source": [
        "#@bigquery\n",
        "CREATE OR REPLACE VIEW [your-dataset-id].data_after_converting_timestamp_to_date AS\n",
        "(\n",
        "    SELECT EXTRACT(DATE FROM transaction_timestamp AT TIME ZONE \"UTC\") AS date,line_items from [your-dataset-id].important_fields\n",
        ")   "
      ]
    },
    {
      "cell_type": "code",
      "execution_count": 14,
      "metadata": {
        "id": "DGq3a0aUp94C"
      },
      "outputs": [
        {
          "name": "stdout",
          "output_type": "stream",
          "text": [
            "<google.cloud.bigquery.table._EmptyRowIterator object at 0x7f319bc9ae50>\n"
          ]
        }
      ],
      "source": [
        "query = \"\"\"\n",
        "CREATE OR REPLACE VIEW {dataset_id}.data_after_converting_timestamp_to_date AS\n",
        "(\n",
        "    SELECT EXTRACT(DATE FROM transaction_timestamp AT TIME ZONE \"UTC\") AS date,line_items from {dataset_id}.important_fields\n",
        ")   \n",
        "\"\"\".format(\n",
        "    dataset_id=dataset_id\n",
        ")\n",
        "query_job = client.query(query)\n",
        "print(query_job.result())"
      ]
    },
    {
      "cell_type": "markdown",
      "metadata": {
        "id": "f0babc4a23fa"
      },
      "source": [
        "View the data and check the `date` field values."
      ]
    },
    {
      "cell_type": "markdown",
      "metadata": {
        "id": "2181af3cae88"
      },
      "source": [
        "#@bigquery\n",
        "SELECT * FROM [your-dataset-id].data_after_converting_timestamp_to_date"
      ]
    },
    {
      "cell_type": "code",
      "execution_count": 15,
      "metadata": {
        "id": "_1mz0KD1p94C"
      },
      "outputs": [],
      "source": [
        "query = \"\"\"\n",
        "SELECT * FROM {dataset_id}.data_after_converting_timestamp_to_date\n",
        "\"\"\".format(\n",
        "    dataset_id=dataset_id\n",
        ")\n",
        "query_job = client.query(query)"
      ]
    },
    {
      "cell_type": "code",
      "execution_count": 16,
      "metadata": {
        "id": "3mtjBiiPp94D"
      },
      "outputs": [
        {
          "data": {
            "text/html": [
              "<div>\n",
              "<style scoped>\n",
              "    .dataframe tbody tr th:only-of-type {\n",
              "        vertical-align: middle;\n",
              "    }\n",
              "\n",
              "    .dataframe tbody tr th {\n",
              "        vertical-align: top;\n",
              "    }\n",
              "\n",
              "    .dataframe thead th {\n",
              "        text-align: right;\n",
              "    }\n",
              "</style>\n",
              "<table border=\"1\" class=\"dataframe\">\n",
              "  <thead>\n",
              "    <tr style=\"text-align: right;\">\n",
              "      <th></th>\n",
              "      <th>date</th>\n",
              "      <th>line_items</th>\n",
              "    </tr>\n",
              "  </thead>\n",
              "  <tbody>\n",
              "    <tr>\n",
              "      <th>0</th>\n",
              "      <td>2020-09-28</td>\n",
              "      <td>[{'product_id': 16139, 'sale_price': 25.0, 'gr...</td>\n",
              "    </tr>\n",
              "    <tr>\n",
              "      <th>1</th>\n",
              "      <td>2020-09-28</td>\n",
              "      <td>[{'product_id': 7683, 'sale_price': 38.5600013...</td>\n",
              "    </tr>\n",
              "    <tr>\n",
              "      <th>2</th>\n",
              "      <td>2020-09-28</td>\n",
              "      <td>[{'product_id': 8189, 'sale_price': 33.9900016...</td>\n",
              "    </tr>\n",
              "    <tr>\n",
              "      <th>3</th>\n",
              "      <td>2020-09-28</td>\n",
              "      <td>[{'product_id': 10063, 'sale_price': 32.0, 'gr...</td>\n",
              "    </tr>\n",
              "    <tr>\n",
              "      <th>4</th>\n",
              "      <td>2020-09-28</td>\n",
              "      <td>[{'product_id': 13635, 'sale_price': 11.489999...</td>\n",
              "    </tr>\n",
              "    <tr>\n",
              "      <th>...</th>\n",
              "      <td>...</td>\n",
              "      <td>...</td>\n",
              "    </tr>\n",
              "    <tr>\n",
              "      <th>30045</th>\n",
              "      <td>2021-03-27</td>\n",
              "      <td>[{'product_id': 28302, 'sale_price': 6.0700001...</td>\n",
              "    </tr>\n",
              "    <tr>\n",
              "      <th>30046</th>\n",
              "      <td>2021-03-25</td>\n",
              "      <td>[{'product_id': 28302, 'sale_price': 6.0700001...</td>\n",
              "    </tr>\n",
              "    <tr>\n",
              "      <th>30047</th>\n",
              "      <td>2020-10-31</td>\n",
              "      <td>[{'product_id': 28302, 'sale_price': 6.0700001...</td>\n",
              "    </tr>\n",
              "    <tr>\n",
              "      <th>30048</th>\n",
              "      <td>2020-08-05</td>\n",
              "      <td>[{'product_id': 28302, 'sale_price': 6.0700001...</td>\n",
              "    </tr>\n",
              "    <tr>\n",
              "      <th>30049</th>\n",
              "      <td>2020-08-05</td>\n",
              "      <td>[{'product_id': 28302, 'sale_price': 6.0700001...</td>\n",
              "    </tr>\n",
              "  </tbody>\n",
              "</table>\n",
              "<p>30050 rows × 2 columns</p>\n",
              "</div>"
            ],
            "text/plain": [
              "             date                                         line_items\n",
              "0      2020-09-28  [{'product_id': 16139, 'sale_price': 25.0, 'gr...\n",
              "1      2020-09-28  [{'product_id': 7683, 'sale_price': 38.5600013...\n",
              "2      2020-09-28  [{'product_id': 8189, 'sale_price': 33.9900016...\n",
              "3      2020-09-28  [{'product_id': 10063, 'sale_price': 32.0, 'gr...\n",
              "4      2020-09-28  [{'product_id': 13635, 'sale_price': 11.489999...\n",
              "...           ...                                                ...\n",
              "30045  2021-03-27  [{'product_id': 28302, 'sale_price': 6.0700001...\n",
              "30046  2021-03-25  [{'product_id': 28302, 'sale_price': 6.0700001...\n",
              "30047  2020-10-31  [{'product_id': 28302, 'sale_price': 6.0700001...\n",
              "30048  2020-08-05  [{'product_id': 28302, 'sale_price': 6.0700001...\n",
              "30049  2020-08-05  [{'product_id': 28302, 'sale_price': 6.0700001...\n",
              "\n",
              "[30050 rows x 2 columns]"
            ]
          },
          "execution_count": 16,
          "metadata": {},
          "output_type": "execute_result"
        }
      ],
      "source": [
        "query_job.to_dataframe()"
      ]
    },
    {
      "cell_type": "markdown",
      "metadata": {
        "id": "990d04eab2e1"
      },
      "source": [
        "Load the data into a dataframe."
      ]
    },
    {
      "cell_type": "code",
      "execution_count": 17,
      "metadata": {
        "id": "2d3a85f95f9d"
      },
      "outputs": [],
      "source": [
        "df_intermediary = query_job.to_dataframe()"
      ]
    },
    {
      "cell_type": "markdown",
      "metadata": {
        "id": "f25cf5322fbc"
      },
      "source": [
        "Check the data types of your dataframe's fields."
      ]
    },
    {
      "cell_type": "code",
      "execution_count": 18,
      "metadata": {
        "id": "40a78a81c379"
      },
      "outputs": [
        {
          "data": {
            "text/plain": [
              "date          dbdate\n",
              "line_items    object\n",
              "dtype: object"
            ]
          },
          "execution_count": 18,
          "metadata": {},
          "output_type": "execute_result"
        }
      ],
      "source": [
        "df_intermediary.dtypes"
      ]
    },
    {
      "cell_type": "markdown",
      "metadata": {
        "id": "f2f685f15000"
      },
      "source": [
        "The `line_items` field is an array of structs. Split the array into its component parts, `product_id`, `sale_price`, and `gross_margin`."
      ]
    },
    {
      "cell_type": "markdown",
      "metadata": {
        "id": "caf01494d657"
      },
      "source": [
        "#@bigquery\n",
        "CREATE OR REPLACE VIEW [your-dataset-id].split_array_of_structs AS\n",
        " \n",
        "(SELECT date,line_items\n",
        "FROM [your-dataset-id].data_after_converting_timestamp_to_date, UNNEST(line_items) AS line_items)"
      ]
    },
    {
      "cell_type": "code",
      "execution_count": 19,
      "metadata": {
        "id": "33zixGvkp94E"
      },
      "outputs": [
        {
          "name": "stdout",
          "output_type": "stream",
          "text": [
            "<google.cloud.bigquery.table._EmptyRowIterator object at 0x7f3158aeb0d0>\n"
          ]
        }
      ],
      "source": [
        "query = \"\"\"\n",
        "CREATE OR REPLACE VIEW {dataset_id}.split_array_of_structs AS\n",
        " \n",
        "(SELECT date,line_items\n",
        "FROM {dataset_id}.data_after_converting_timestamp_to_date, UNNEST(line_items) AS line_items)\n",
        "\"\"\".format(\n",
        "    dataset_id=dataset_id\n",
        ")\n",
        "query_job = client.query(query)\n",
        "print(query_job.result())"
      ]
    },
    {
      "cell_type": "markdown",
      "metadata": {
        "id": "6c677762b34a"
      },
      "source": [
        "View the data."
      ]
    },
    {
      "cell_type": "markdown",
      "metadata": {
        "id": "0cbbded0bf50"
      },
      "source": [
        "#@bigquery\n",
        "SELECT * FROM [your-dataset-id].split_array_of_structs"
      ]
    },
    {
      "cell_type": "code",
      "execution_count": 20,
      "metadata": {
        "id": "wRmYwn7Vp94F"
      },
      "outputs": [],
      "source": [
        "query = \"\"\"\n",
        "SELECT * FROM {dataset_id}.split_array_of_structs\n",
        "\"\"\".format(\n",
        "    dataset_id=dataset_id\n",
        ")\n",
        "query_job = client.query(query)"
      ]
    },
    {
      "cell_type": "code",
      "execution_count": 21,
      "metadata": {
        "id": "cTdONqeAp94F"
      },
      "outputs": [
        {
          "data": {
            "text/html": [
              "<div>\n",
              "<style scoped>\n",
              "    .dataframe tbody tr th:only-of-type {\n",
              "        vertical-align: middle;\n",
              "    }\n",
              "\n",
              "    .dataframe tbody tr th {\n",
              "        vertical-align: top;\n",
              "    }\n",
              "\n",
              "    .dataframe thead th {\n",
              "        text-align: right;\n",
              "    }\n",
              "</style>\n",
              "<table border=\"1\" class=\"dataframe\">\n",
              "  <thead>\n",
              "    <tr style=\"text-align: right;\">\n",
              "      <th></th>\n",
              "      <th>date</th>\n",
              "      <th>line_items</th>\n",
              "    </tr>\n",
              "  </thead>\n",
              "  <tbody>\n",
              "    <tr>\n",
              "      <th>0</th>\n",
              "      <td>2019-06-09</td>\n",
              "      <td>{'product_id': 7189, 'sale_price': 13.98999977...</td>\n",
              "    </tr>\n",
              "    <tr>\n",
              "      <th>1</th>\n",
              "      <td>2019-06-09</td>\n",
              "      <td>{'product_id': 28951, 'sale_price': 3.0, 'gros...</td>\n",
              "    </tr>\n",
              "    <tr>\n",
              "      <th>2</th>\n",
              "      <td>2019-06-09</td>\n",
              "      <td>{'product_id': 22700, 'sale_price': 34.9900016...</td>\n",
              "    </tr>\n",
              "    <tr>\n",
              "      <th>3</th>\n",
              "      <td>2019-06-09</td>\n",
              "      <td>{'product_id': 217, 'sale_price': 119.98999786...</td>\n",
              "    </tr>\n",
              "    <tr>\n",
              "      <th>4</th>\n",
              "      <td>2019-06-09</td>\n",
              "      <td>{'product_id': 28384, 'sale_price': 4.84000015...</td>\n",
              "    </tr>\n",
              "    <tr>\n",
              "      <th>...</th>\n",
              "      <td>...</td>\n",
              "      <td>...</td>\n",
              "    </tr>\n",
              "    <tr>\n",
              "      <th>31114</th>\n",
              "      <td>2018-01-26</td>\n",
              "      <td>{'product_id': 18057, 'sale_price': 119.949996...</td>\n",
              "    </tr>\n",
              "    <tr>\n",
              "      <th>31115</th>\n",
              "      <td>2018-01-26</td>\n",
              "      <td>{'product_id': 22105, 'sale_price': 89.9499969...</td>\n",
              "    </tr>\n",
              "    <tr>\n",
              "      <th>31116</th>\n",
              "      <td>2018-01-26</td>\n",
              "      <td>{'product_id': 20542, 'sale_price': 68.0, 'gro...</td>\n",
              "    </tr>\n",
              "    <tr>\n",
              "      <th>31117</th>\n",
              "      <td>2018-05-06</td>\n",
              "      <td>{'product_id': 886, 'sale_price': 33.25, 'gros...</td>\n",
              "    </tr>\n",
              "    <tr>\n",
              "      <th>31118</th>\n",
              "      <td>2018-05-06</td>\n",
              "      <td>{'product_id': 20557, 'sale_price': 58.0, 'gro...</td>\n",
              "    </tr>\n",
              "  </tbody>\n",
              "</table>\n",
              "<p>31119 rows × 2 columns</p>\n",
              "</div>"
            ],
            "text/plain": [
              "             date                                         line_items\n",
              "0      2019-06-09  {'product_id': 7189, 'sale_price': 13.98999977...\n",
              "1      2019-06-09  {'product_id': 28951, 'sale_price': 3.0, 'gros...\n",
              "2      2019-06-09  {'product_id': 22700, 'sale_price': 34.9900016...\n",
              "3      2019-06-09  {'product_id': 217, 'sale_price': 119.98999786...\n",
              "4      2019-06-09  {'product_id': 28384, 'sale_price': 4.84000015...\n",
              "...           ...                                                ...\n",
              "31114  2018-01-26  {'product_id': 18057, 'sale_price': 119.949996...\n",
              "31115  2018-01-26  {'product_id': 22105, 'sale_price': 89.9499969...\n",
              "31116  2018-01-26  {'product_id': 20542, 'sale_price': 68.0, 'gro...\n",
              "31117  2018-05-06  {'product_id': 886, 'sale_price': 33.25, 'gros...\n",
              "31118  2018-05-06  {'product_id': 20557, 'sale_price': 58.0, 'gro...\n",
              "\n",
              "[31119 rows x 2 columns]"
            ]
          },
          "execution_count": 21,
          "metadata": {},
          "output_type": "execute_result"
        }
      ],
      "source": [
        "query_job.to_dataframe()"
      ]
    },
    {
      "cell_type": "markdown",
      "metadata": {
        "id": "7acc57476f1c"
      },
      "source": [
        "Remove the extra columns to keep only `date` and `product_id`."
      ]
    },
    {
      "cell_type": "markdown",
      "metadata": {
        "id": "704e7c73ec0c"
      },
      "source": [
        "#@bigquery\n",
        "CREATE OR REPLACE VIEW [your-dataset-id].splitting_struct_columns AS\n",
        " \n",
        "(SELECT date,line_items.product_id as product_id\n",
        "FROM [your-dataset-id].split_array_of_structs)"
      ]
    },
    {
      "cell_type": "code",
      "execution_count": 22,
      "metadata": {
        "id": "2UamlX9Np94F"
      },
      "outputs": [
        {
          "name": "stdout",
          "output_type": "stream",
          "text": [
            "<google.cloud.bigquery.table._EmptyRowIterator object at 0x7f3158aeb0d0>\n"
          ]
        }
      ],
      "source": [
        "query = \"\"\"\n",
        "CREATE OR REPLACE VIEW {dataset_id}.splitting_struct_columns AS\n",
        " \n",
        "(SELECT date,line_items.product_id as product_id\n",
        "FROM {dataset_id}.split_array_of_structs)\n",
        "\"\"\".format(\n",
        "    dataset_id=dataset_id\n",
        ")\n",
        "query_job = client.query(query)\n",
        "print(query_job.result())"
      ]
    },
    {
      "cell_type": "markdown",
      "metadata": {
        "id": "4f9d72c483e8"
      },
      "source": [
        "View the data."
      ]
    },
    {
      "cell_type": "markdown",
      "metadata": {
        "id": "6103f7ff48ff"
      },
      "source": [
        "#@bigquery\n",
        "SELECT * FROM [your-dataset-id].splitting_struct_columns "
      ]
    },
    {
      "cell_type": "code",
      "execution_count": 23,
      "metadata": {
        "id": "Bnv0lr4-p94G"
      },
      "outputs": [],
      "source": [
        "query = \"\"\"\n",
        "SELECT * FROM {dataset_id}.splitting_struct_columns \n",
        "\"\"\".format(\n",
        "    dataset_id=dataset_id\n",
        ")\n",
        "query_job = client.query(query)"
      ]
    },
    {
      "cell_type": "code",
      "execution_count": 24,
      "metadata": {
        "id": "Ao0EHdchp94G"
      },
      "outputs": [
        {
          "data": {
            "text/html": [
              "<div>\n",
              "<style scoped>\n",
              "    .dataframe tbody tr th:only-of-type {\n",
              "        vertical-align: middle;\n",
              "    }\n",
              "\n",
              "    .dataframe tbody tr th {\n",
              "        vertical-align: top;\n",
              "    }\n",
              "\n",
              "    .dataframe thead th {\n",
              "        text-align: right;\n",
              "    }\n",
              "</style>\n",
              "<table border=\"1\" class=\"dataframe\">\n",
              "  <thead>\n",
              "    <tr style=\"text-align: right;\">\n",
              "      <th></th>\n",
              "      <th>date</th>\n",
              "      <th>product_id</th>\n",
              "    </tr>\n",
              "  </thead>\n",
              "  <tbody>\n",
              "    <tr>\n",
              "      <th>0</th>\n",
              "      <td>2017-12-10</td>\n",
              "      <td>20552</td>\n",
              "    </tr>\n",
              "    <tr>\n",
              "      <th>1</th>\n",
              "      <td>2017-12-10</td>\n",
              "      <td>16344</td>\n",
              "    </tr>\n",
              "    <tr>\n",
              "      <th>2</th>\n",
              "      <td>2018-05-11</td>\n",
              "      <td>28305</td>\n",
              "    </tr>\n",
              "    <tr>\n",
              "      <th>3</th>\n",
              "      <td>2018-05-11</td>\n",
              "      <td>8263</td>\n",
              "    </tr>\n",
              "    <tr>\n",
              "      <th>4</th>\n",
              "      <td>2018-05-11</td>\n",
              "      <td>3134</td>\n",
              "    </tr>\n",
              "    <tr>\n",
              "      <th>...</th>\n",
              "      <td>...</td>\n",
              "      <td>...</td>\n",
              "    </tr>\n",
              "    <tr>\n",
              "      <th>31114</th>\n",
              "      <td>2020-05-05</td>\n",
              "      <td>142</td>\n",
              "    </tr>\n",
              "    <tr>\n",
              "      <th>31115</th>\n",
              "      <td>2020-05-05</td>\n",
              "      <td>108</td>\n",
              "    </tr>\n",
              "    <tr>\n",
              "      <th>31116</th>\n",
              "      <td>2020-05-05</td>\n",
              "      <td>12832</td>\n",
              "    </tr>\n",
              "    <tr>\n",
              "      <th>31117</th>\n",
              "      <td>2018-05-06</td>\n",
              "      <td>886</td>\n",
              "    </tr>\n",
              "    <tr>\n",
              "      <th>31118</th>\n",
              "      <td>2018-05-06</td>\n",
              "      <td>20557</td>\n",
              "    </tr>\n",
              "  </tbody>\n",
              "</table>\n",
              "<p>31119 rows × 2 columns</p>\n",
              "</div>"
            ],
            "text/plain": [
              "             date  product_id\n",
              "0      2017-12-10       20552\n",
              "1      2017-12-10       16344\n",
              "2      2018-05-11       28305\n",
              "3      2018-05-11        8263\n",
              "4      2018-05-11        3134\n",
              "...           ...         ...\n",
              "31114  2020-05-05         142\n",
              "31115  2020-05-05         108\n",
              "31116  2020-05-05       12832\n",
              "31117  2018-05-06         886\n",
              "31118  2018-05-06       20557\n",
              "\n",
              "[31119 rows x 2 columns]"
            ]
          },
          "execution_count": 24,
          "metadata": {},
          "output_type": "execute_result"
        }
      ],
      "source": [
        "query_job.to_dataframe()"
      ]
    },
    {
      "cell_type": "markdown",
      "metadata": {
        "id": "7c0c4245acb7"
      },
      "source": [
        "Count the sales of a product for each date."
      ]
    },
    {
      "cell_type": "markdown",
      "metadata": {
        "id": "368f75a291d1"
      },
      "source": [
        "#@bigquery\n",
        "CREATE OR REPLACE VIEW [your-dataset-id].sales_count_per_date AS\n",
        " \n",
        "(SELECT date,product_id,COUNT(*) as sales_count\n",
        "FROM [your-dataset-id].splitting_struct_columns GROUP BY date,product_id)"
      ]
    },
    {
      "cell_type": "code",
      "execution_count": 25,
      "metadata": {
        "id": "MBeBKffvp94G"
      },
      "outputs": [
        {
          "name": "stdout",
          "output_type": "stream",
          "text": [
            "<google.cloud.bigquery.table._EmptyRowIterator object at 0x7f31a06dadd0>\n"
          ]
        }
      ],
      "source": [
        "query = \"\"\"\n",
        "CREATE OR REPLACE VIEW {dataset_id}.sales_count_per_date AS\n",
        " \n",
        "(SELECT date,product_id,COUNT(*) as sales_count\n",
        "FROM {dataset_id}.splitting_struct_columns GROUP BY date,product_id)\n",
        "\"\"\".format(\n",
        "    dataset_id=dataset_id\n",
        ")\n",
        "query_job = client.query(query)\n",
        "print(query_job.result())"
      ]
    },
    {
      "cell_type": "markdown",
      "metadata": {
        "id": "7291d3970a2c"
      },
      "source": [
        "#@bigquery\n",
        "SELECT * FROM [your-dataset-id].sales_count_per_date"
      ]
    },
    {
      "cell_type": "code",
      "execution_count": 26,
      "metadata": {
        "id": "oN-5H8w3p94H"
      },
      "outputs": [],
      "source": [
        "query = \"\"\"\n",
        "SELECT * FROM {dataset_id}.sales_count_per_date\n",
        "\"\"\".format(\n",
        "    dataset_id=dataset_id\n",
        ")\n",
        "query_job = client.query(query)"
      ]
    },
    {
      "cell_type": "code",
      "execution_count": 27,
      "metadata": {
        "id": "7gLx8lkYp94H"
      },
      "outputs": [
        {
          "data": {
            "text/html": [
              "<div>\n",
              "<style scoped>\n",
              "    .dataframe tbody tr th:only-of-type {\n",
              "        vertical-align: middle;\n",
              "    }\n",
              "\n",
              "    .dataframe tbody tr th {\n",
              "        vertical-align: top;\n",
              "    }\n",
              "\n",
              "    .dataframe thead th {\n",
              "        text-align: right;\n",
              "    }\n",
              "</style>\n",
              "<table border=\"1\" class=\"dataframe\">\n",
              "  <thead>\n",
              "    <tr style=\"text-align: right;\">\n",
              "      <th></th>\n",
              "      <th>date</th>\n",
              "      <th>product_id</th>\n",
              "      <th>sales_count</th>\n",
              "    </tr>\n",
              "  </thead>\n",
              "  <tbody>\n",
              "    <tr>\n",
              "      <th>0</th>\n",
              "      <td>2022-08-02</td>\n",
              "      <td>10773</td>\n",
              "      <td>1</td>\n",
              "    </tr>\n",
              "    <tr>\n",
              "      <th>1</th>\n",
              "      <td>2018-11-14</td>\n",
              "      <td>28305</td>\n",
              "      <td>1</td>\n",
              "    </tr>\n",
              "    <tr>\n",
              "      <th>2</th>\n",
              "      <td>2018-11-14</td>\n",
              "      <td>24566</td>\n",
              "      <td>1</td>\n",
              "    </tr>\n",
              "    <tr>\n",
              "      <th>3</th>\n",
              "      <td>2018-10-07</td>\n",
              "      <td>12766</td>\n",
              "      <td>1</td>\n",
              "    </tr>\n",
              "    <tr>\n",
              "      <th>4</th>\n",
              "      <td>2019-09-13</td>\n",
              "      <td>8263</td>\n",
              "      <td>1</td>\n",
              "    </tr>\n",
              "    <tr>\n",
              "      <th>...</th>\n",
              "      <td>...</td>\n",
              "      <td>...</td>\n",
              "      <td>...</td>\n",
              "    </tr>\n",
              "    <tr>\n",
              "      <th>29942</th>\n",
              "      <td>2021-04-21</td>\n",
              "      <td>21665</td>\n",
              "      <td>1</td>\n",
              "    </tr>\n",
              "    <tr>\n",
              "      <th>29943</th>\n",
              "      <td>2021-02-03</td>\n",
              "      <td>6067</td>\n",
              "      <td>1</td>\n",
              "    </tr>\n",
              "    <tr>\n",
              "      <th>29944</th>\n",
              "      <td>2021-02-15</td>\n",
              "      <td>7117</td>\n",
              "      <td>1</td>\n",
              "    </tr>\n",
              "    <tr>\n",
              "      <th>29945</th>\n",
              "      <td>2021-06-01</td>\n",
              "      <td>20559</td>\n",
              "      <td>1</td>\n",
              "    </tr>\n",
              "    <tr>\n",
              "      <th>29946</th>\n",
              "      <td>2021-06-05</td>\n",
              "      <td>21668</td>\n",
              "      <td>1</td>\n",
              "    </tr>\n",
              "  </tbody>\n",
              "</table>\n",
              "<p>29947 rows × 3 columns</p>\n",
              "</div>"
            ],
            "text/plain": [
              "             date  product_id  sales_count\n",
              "0      2022-08-02       10773            1\n",
              "1      2018-11-14       28305            1\n",
              "2      2018-11-14       24566            1\n",
              "3      2018-10-07       12766            1\n",
              "4      2019-09-13        8263            1\n",
              "...           ...         ...          ...\n",
              "29942  2021-04-21       21665            1\n",
              "29943  2021-02-03        6067            1\n",
              "29944  2021-02-15        7117            1\n",
              "29945  2021-06-01       20559            1\n",
              "29946  2021-06-05       21668            1\n",
              "\n",
              "[29947 rows x 3 columns]"
            ]
          },
          "execution_count": 27,
          "metadata": {},
          "output_type": "execute_result"
        }
      ],
      "source": [
        "query_job.to_dataframe()"
      ]
    },
    {
      "cell_type": "markdown",
      "metadata": {
        "id": "722fd013c28c"
      },
      "source": [
        "Create a view for the five products that have sold the most units over the entire date range."
      ]
    },
    {
      "cell_type": "markdown",
      "metadata": {
        "id": "97db6ee61087"
      },
      "source": [
        "#@bigquery\n",
        "CREATE OR REPLACE VIEW [your-dataset-id].top_five_products AS (\n",
        "    WITH topsellingitems AS(\n",
        "         SELECT \n",
        "            product_id,\n",
        "            sum(sales_count) sum_sales\n",
        "        FROM\n",
        "            `[your-dataset-id].sales_count_per_date` \n",
        "        GROUP BY \n",
        "            product_id\n",
        "        ORDER BY sum_sales DESC\n",
        "        LIMIT 5 #Top N\n",
        "    )\n",
        "    SELECT \n",
        "        date,\n",
        "        product_id,\n",
        "        sales_count\n",
        "    FROM\n",
        "        `[your-dataset-id].sales_count_per_date` \n",
        "    WHERE\n",
        "        product_id IN (SELECT product_id FROM topsellingitems)\n",
        "    )"
      ]
    },
    {
      "cell_type": "code",
      "execution_count": 28,
      "metadata": {
        "id": "KgRwHUjrp94H"
      },
      "outputs": [
        {
          "name": "stdout",
          "output_type": "stream",
          "text": [
            "<google.cloud.bigquery.table._EmptyRowIterator object at 0x7f31a0736990>\n"
          ]
        }
      ],
      "source": [
        "query = \"\"\"\n",
        "CREATE OR REPLACE VIEW {dataset_id}.top_five_products AS (\n",
        "    WITH topsellingitems AS(\n",
        "         SELECT \n",
        "            product_id,\n",
        "            sum(sales_count) sum_sales\n",
        "        FROM\n",
        "            `{dataset_id}.sales_count_per_date` \n",
        "        GROUP BY \n",
        "            product_id\n",
        "        ORDER BY sum_sales DESC\n",
        "        LIMIT 5 #Top N\n",
        "    )\n",
        "    SELECT \n",
        "        date,\n",
        "        product_id,\n",
        "        sales_count\n",
        "    FROM\n",
        "        `{dataset_id}.sales_count_per_date` \n",
        "    WHERE\n",
        "        product_id IN (SELECT product_id FROM topsellingitems)\n",
        "    )\n",
        "\"\"\".format(\n",
        "    dataset_id=dataset_id\n",
        ")\n",
        "query_job = client.query(query)\n",
        "print(query_job.result())"
      ]
    },
    {
      "cell_type": "markdown",
      "metadata": {
        "id": "182ce3346563"
      },
      "source": [
        "#@bigquery\n",
        "SELECT * FROM [your-dataset-id].top_five_products\n"
      ]
    },
    {
      "cell_type": "code",
      "execution_count": 29,
      "metadata": {
        "id": "BXochSk_p94I"
      },
      "outputs": [],
      "source": [
        "query = \"\"\"\n",
        "SELECT * FROM {dataset_id}.top_five_products\n",
        "\"\"\".format(\n",
        "    dataset_id=dataset_id\n",
        ")\n",
        "query_job = client.query(query)"
      ]
    },
    {
      "cell_type": "code",
      "execution_count": 30,
      "metadata": {
        "id": "aj8MMWkQp94I"
      },
      "outputs": [
        {
          "data": {
            "text/html": [
              "<div>\n",
              "<style scoped>\n",
              "    .dataframe tbody tr th:only-of-type {\n",
              "        vertical-align: middle;\n",
              "    }\n",
              "\n",
              "    .dataframe tbody tr th {\n",
              "        vertical-align: top;\n",
              "    }\n",
              "\n",
              "    .dataframe thead th {\n",
              "        text-align: right;\n",
              "    }\n",
              "</style>\n",
              "<table border=\"1\" class=\"dataframe\">\n",
              "  <thead>\n",
              "    <tr style=\"text-align: right;\">\n",
              "      <th></th>\n",
              "      <th>date</th>\n",
              "      <th>product_id</th>\n",
              "      <th>sales_count</th>\n",
              "    </tr>\n",
              "  </thead>\n",
              "  <tbody>\n",
              "    <tr>\n",
              "      <th>0</th>\n",
              "      <td>2020-05-01</td>\n",
              "      <td>28305</td>\n",
              "      <td>2</td>\n",
              "    </tr>\n",
              "    <tr>\n",
              "      <th>1</th>\n",
              "      <td>2021-10-30</td>\n",
              "      <td>28305</td>\n",
              "      <td>1</td>\n",
              "    </tr>\n",
              "    <tr>\n",
              "      <th>2</th>\n",
              "      <td>2020-09-30</td>\n",
              "      <td>13596</td>\n",
              "      <td>1</td>\n",
              "    </tr>\n",
              "    <tr>\n",
              "      <th>3</th>\n",
              "      <td>2020-08-22</td>\n",
              "      <td>23641</td>\n",
              "      <td>1</td>\n",
              "    </tr>\n",
              "    <tr>\n",
              "      <th>4</th>\n",
              "      <td>2020-12-16</td>\n",
              "      <td>20547</td>\n",
              "      <td>1</td>\n",
              "    </tr>\n",
              "    <tr>\n",
              "      <th>...</th>\n",
              "      <td>...</td>\n",
              "      <td>...</td>\n",
              "      <td>...</td>\n",
              "    </tr>\n",
              "    <tr>\n",
              "      <th>2454</th>\n",
              "      <td>2020-02-27</td>\n",
              "      <td>13596</td>\n",
              "      <td>1</td>\n",
              "    </tr>\n",
              "    <tr>\n",
              "      <th>2455</th>\n",
              "      <td>2019-12-31</td>\n",
              "      <td>23641</td>\n",
              "      <td>1</td>\n",
              "    </tr>\n",
              "    <tr>\n",
              "      <th>2456</th>\n",
              "      <td>2020-05-23</td>\n",
              "      <td>23641</td>\n",
              "      <td>1</td>\n",
              "    </tr>\n",
              "    <tr>\n",
              "      <th>2457</th>\n",
              "      <td>2021-11-21</td>\n",
              "      <td>13596</td>\n",
              "      <td>1</td>\n",
              "    </tr>\n",
              "    <tr>\n",
              "      <th>2458</th>\n",
              "      <td>2021-07-11</td>\n",
              "      <td>13596</td>\n",
              "      <td>1</td>\n",
              "    </tr>\n",
              "  </tbody>\n",
              "</table>\n",
              "<p>2459 rows × 3 columns</p>\n",
              "</div>"
            ],
            "text/plain": [
              "            date  product_id  sales_count\n",
              "0     2020-05-01       28305            2\n",
              "1     2021-10-30       28305            1\n",
              "2     2020-09-30       13596            1\n",
              "3     2020-08-22       23641            1\n",
              "4     2020-12-16       20547            1\n",
              "...          ...         ...          ...\n",
              "2454  2020-02-27       13596            1\n",
              "2455  2019-12-31       23641            1\n",
              "2456  2020-05-23       23641            1\n",
              "2457  2021-11-21       13596            1\n",
              "2458  2021-07-11       13596            1\n",
              "\n",
              "[2459 rows x 3 columns]"
            ]
          },
          "execution_count": 30,
          "metadata": {},
          "output_type": "execute_result"
        }
      ],
      "source": [
        "query_job.to_dataframe()"
      ]
    },
    {
      "cell_type": "markdown",
      "metadata": {
        "id": "292855967806"
      },
      "source": [
        "Load the data into a dataframe."
      ]
    },
    {
      "cell_type": "code",
      "execution_count": 31,
      "metadata": {
        "id": "495c76e598a6"
      },
      "outputs": [],
      "source": [
        "df = query_job.to_dataframe()"
      ]
    },
    {
      "cell_type": "markdown",
      "metadata": {
        "id": "6ebc0bb8ab19"
      },
      "source": [
        "View the data."
      ]
    },
    {
      "cell_type": "code",
      "execution_count": 32,
      "metadata": {
        "id": "8d11dc64ae2a"
      },
      "outputs": [
        {
          "data": {
            "text/html": [
              "<div>\n",
              "<style scoped>\n",
              "    .dataframe tbody tr th:only-of-type {\n",
              "        vertical-align: middle;\n",
              "    }\n",
              "\n",
              "    .dataframe tbody tr th {\n",
              "        vertical-align: top;\n",
              "    }\n",
              "\n",
              "    .dataframe thead th {\n",
              "        text-align: right;\n",
              "    }\n",
              "</style>\n",
              "<table border=\"1\" class=\"dataframe\">\n",
              "  <thead>\n",
              "    <tr style=\"text-align: right;\">\n",
              "      <th></th>\n",
              "      <th>date</th>\n",
              "      <th>product_id</th>\n",
              "      <th>sales_count</th>\n",
              "    </tr>\n",
              "  </thead>\n",
              "  <tbody>\n",
              "    <tr>\n",
              "      <th>0</th>\n",
              "      <td>2020-05-01</td>\n",
              "      <td>28305</td>\n",
              "      <td>2</td>\n",
              "    </tr>\n",
              "    <tr>\n",
              "      <th>1</th>\n",
              "      <td>2021-10-30</td>\n",
              "      <td>28305</td>\n",
              "      <td>1</td>\n",
              "    </tr>\n",
              "    <tr>\n",
              "      <th>2</th>\n",
              "      <td>2020-09-30</td>\n",
              "      <td>13596</td>\n",
              "      <td>1</td>\n",
              "    </tr>\n",
              "    <tr>\n",
              "      <th>3</th>\n",
              "      <td>2020-08-22</td>\n",
              "      <td>23641</td>\n",
              "      <td>1</td>\n",
              "    </tr>\n",
              "    <tr>\n",
              "      <th>4</th>\n",
              "      <td>2020-12-16</td>\n",
              "      <td>20547</td>\n",
              "      <td>1</td>\n",
              "    </tr>\n",
              "    <tr>\n",
              "      <th>...</th>\n",
              "      <td>...</td>\n",
              "      <td>...</td>\n",
              "      <td>...</td>\n",
              "    </tr>\n",
              "    <tr>\n",
              "      <th>2454</th>\n",
              "      <td>2020-02-27</td>\n",
              "      <td>13596</td>\n",
              "      <td>1</td>\n",
              "    </tr>\n",
              "    <tr>\n",
              "      <th>2455</th>\n",
              "      <td>2019-12-31</td>\n",
              "      <td>23641</td>\n",
              "      <td>1</td>\n",
              "    </tr>\n",
              "    <tr>\n",
              "      <th>2456</th>\n",
              "      <td>2020-05-23</td>\n",
              "      <td>23641</td>\n",
              "      <td>1</td>\n",
              "    </tr>\n",
              "    <tr>\n",
              "      <th>2457</th>\n",
              "      <td>2021-11-21</td>\n",
              "      <td>13596</td>\n",
              "      <td>1</td>\n",
              "    </tr>\n",
              "    <tr>\n",
              "      <th>2458</th>\n",
              "      <td>2021-07-11</td>\n",
              "      <td>13596</td>\n",
              "      <td>1</td>\n",
              "    </tr>\n",
              "  </tbody>\n",
              "</table>\n",
              "<p>2459 rows × 3 columns</p>\n",
              "</div>"
            ],
            "text/plain": [
              "            date  product_id  sales_count\n",
              "0     2020-05-01       28305            2\n",
              "1     2021-10-30       28305            1\n",
              "2     2020-09-30       13596            1\n",
              "3     2020-08-22       23641            1\n",
              "4     2020-12-16       20547            1\n",
              "...          ...         ...          ...\n",
              "2454  2020-02-27       13596            1\n",
              "2455  2019-12-31       23641            1\n",
              "2456  2020-05-23       23641            1\n",
              "2457  2021-11-21       13596            1\n",
              "2458  2021-07-11       13596            1\n",
              "\n",
              "[2459 rows x 3 columns]"
            ]
          },
          "execution_count": 32,
          "metadata": {},
          "output_type": "execute_result"
        }
      ],
      "source": [
        "df"
      ]
    },
    {
      "cell_type": "markdown",
      "metadata": {
        "id": "5c78641e2881"
      },
      "source": [
        "Check the data types of your dataframe's fields."
      ]
    },
    {
      "cell_type": "code",
      "execution_count": 33,
      "metadata": {
        "id": "bb63bbdcead4"
      },
      "outputs": [
        {
          "data": {
            "text/plain": [
              "date           dbdate\n",
              "product_id      Int64\n",
              "sales_count     Int64\n",
              "dtype: object"
            ]
          },
          "execution_count": 33,
          "metadata": {},
          "output_type": "execute_result"
        }
      ],
      "source": [
        "df.dtypes"
      ]
    },
    {
      "cell_type": "markdown",
      "metadata": {
        "id": "ef761dcd0109"
      },
      "source": [
        "Convert the `date` field's data type to `datetime`."
      ]
    },
    {
      "cell_type": "code",
      "execution_count": 34,
      "metadata": {
        "id": "0534d564d09e"
      },
      "outputs": [],
      "source": [
        "df[\"date\"] = pd.to_datetime(df[\"date\"], format=\"%Y-%m-%d\")"
      ]
    },
    {
      "cell_type": "markdown",
      "metadata": {
        "id": "8ec5fa4b1ea0"
      },
      "source": [
        "For this forecasting model, date values need to be present for all dates, for each product.\n",
        "\n",
        "To construct a dataframe with `0` values for the `sales_count` field, on dates in which products were not sold, determine the minimum and maximum dates so that you know which dates need `0` values.\n",
        "\n",
        "First, get the earliest (minimum) date."
      ]
    },
    {
      "cell_type": "markdown",
      "metadata": {
        "id": "dd6423ef739f"
      },
      "source": [
        "#@bigquery\n",
        "SELECT MIN(DATE) FROM [your-dataset-id].top_five_products"
      ]
    },
    {
      "cell_type": "code",
      "execution_count": 35,
      "metadata": {
        "id": "iCCEozWrp94K"
      },
      "outputs": [],
      "source": [
        "query = \"\"\"\n",
        "SELECT MIN(DATE) AS min_date FROM {dataset_id}.top_five_products\n",
        "\"\"\".format(\n",
        "    dataset_id=dataset_id\n",
        ")\n",
        "query_job = client.query(query)"
      ]
    },
    {
      "cell_type": "code",
      "execution_count": 37,
      "metadata": {
        "id": "e6FG8Ohcp94K"
      },
      "outputs": [
        {
          "data": {
            "text/html": [
              "<div>\n",
              "<style scoped>\n",
              "    .dataframe tbody tr th:only-of-type {\n",
              "        vertical-align: middle;\n",
              "    }\n",
              "\n",
              "    .dataframe tbody tr th {\n",
              "        vertical-align: top;\n",
              "    }\n",
              "\n",
              "    .dataframe thead th {\n",
              "        text-align: right;\n",
              "    }\n",
              "</style>\n",
              "<table border=\"1\" class=\"dataframe\">\n",
              "  <thead>\n",
              "    <tr style=\"text-align: right;\">\n",
              "      <th></th>\n",
              "      <th>min_date</th>\n",
              "    </tr>\n",
              "  </thead>\n",
              "  <tbody>\n",
              "    <tr>\n",
              "      <th>0</th>\n",
              "      <td>2017-10-19</td>\n",
              "    </tr>\n",
              "  </tbody>\n",
              "</table>\n",
              "</div>"
            ],
            "text/plain": [
              "     min_date\n",
              "0  2017-10-19"
            ]
          },
          "execution_count": 37,
          "metadata": {},
          "output_type": "execute_result"
        }
      ],
      "source": [
        "query_job.to_dataframe()"
      ]
    },
    {
      "cell_type": "markdown",
      "metadata": {
        "id": "fbb934199011"
      },
      "source": [
        "Get the latest (maximum) date."
      ]
    },
    {
      "cell_type": "markdown",
      "metadata": {
        "id": "6e09f3221d77"
      },
      "source": [
        "#@bigquery\n",
        "SELECT MAX(DATE) FROM [your-dataset-id].top_five_products"
      ]
    },
    {
      "cell_type": "code",
      "execution_count": 36,
      "metadata": {
        "id": "uIJX3B8dp94K"
      },
      "outputs": [],
      "source": [
        "query = \"\"\"\n",
        "SELECT MAX(DATE) FROM {dataset_id}.top_five_products\n",
        "\"\"\".format(\n",
        "    dataset_id=dataset_id\n",
        ")\n",
        "query_job = client.query(query)"
      ]
    },
    {
      "cell_type": "code",
      "execution_count": 37,
      "metadata": {
        "id": "swjUOJmcp94K"
      },
      "outputs": [
        {
          "data": {
            "text/html": [
              "<div>\n",
              "<style scoped>\n",
              "    .dataframe tbody tr th:only-of-type {\n",
              "        vertical-align: middle;\n",
              "    }\n",
              "\n",
              "    .dataframe tbody tr th {\n",
              "        vertical-align: top;\n",
              "    }\n",
              "\n",
              "    .dataframe thead th {\n",
              "        text-align: right;\n",
              "    }\n",
              "</style>\n",
              "<table border=\"1\" class=\"dataframe\">\n",
              "  <thead>\n",
              "    <tr style=\"text-align: right;\">\n",
              "      <th></th>\n",
              "      <th>f0_</th>\n",
              "    </tr>\n",
              "  </thead>\n",
              "  <tbody>\n",
              "    <tr>\n",
              "      <th>0</th>\n",
              "      <td>2022-08-06</td>\n",
              "    </tr>\n",
              "  </tbody>\n",
              "</table>\n",
              "</div>"
            ],
            "text/plain": [
              "          f0_\n",
              "0  2022-08-06"
            ]
          },
          "execution_count": 37,
          "metadata": {},
          "output_type": "execute_result"
        }
      ],
      "source": [
        "query_job.to_dataframe()"
      ]
    },
    {
      "cell_type": "markdown",
      "metadata": {
        "id": "247a08d866ef"
      },
      "source": [
        "Add the full date range of values to a dataframe."
      ]
    },
    {
      "cell_type": "code",
      "execution_count": 38,
      "metadata": {
        "id": "d41c099464ac"
      },
      "outputs": [],
      "source": [
        "dates = pd.date_range(start=\"2016-12-17\", end=\"2021-10-06\").to_frame()"
      ]
    },
    {
      "cell_type": "markdown",
      "metadata": {
        "id": "b9d3afc9f7cd"
      },
      "source": [
        "Get a description of the `dates` dataframe."
      ]
    },
    {
      "cell_type": "code",
      "execution_count": 39,
      "metadata": {
        "id": "1b1f67e375fc"
      },
      "outputs": [
        {
          "name": "stdout",
          "output_type": "stream",
          "text": [
            "<class 'pandas.core.frame.DataFrame'>\n",
            "DatetimeIndex: 1755 entries, 2016-12-17 to 2021-10-06\n",
            "Freq: D\n",
            "Data columns (total 1 columns):\n",
            " #   Column  Non-Null Count  Dtype         \n",
            "---  ------  --------------  -----         \n",
            " 0   0       1755 non-null   datetime64[ns]\n",
            "dtypes: datetime64[ns](1)\n",
            "memory usage: 27.4 KB\n"
          ]
        }
      ],
      "source": [
        "dates.info()"
      ]
    },
    {
      "cell_type": "markdown",
      "metadata": {
        "id": "49eb81d44b65"
      },
      "source": [
        "View the data for one of the products, sorted by date, to show that many dates are not present in the dataset."
      ]
    },
    {
      "cell_type": "code",
      "execution_count": 40,
      "metadata": {
        "id": "7194f59c71b5"
      },
      "outputs": [
        {
          "data": {
            "text/html": [
              "<div>\n",
              "<style scoped>\n",
              "    .dataframe tbody tr th:only-of-type {\n",
              "        vertical-align: middle;\n",
              "    }\n",
              "\n",
              "    .dataframe tbody tr th {\n",
              "        vertical-align: top;\n",
              "    }\n",
              "\n",
              "    .dataframe thead th {\n",
              "        text-align: right;\n",
              "    }\n",
              "</style>\n",
              "<table border=\"1\" class=\"dataframe\">\n",
              "  <thead>\n",
              "    <tr style=\"text-align: right;\">\n",
              "      <th></th>\n",
              "      <th>date</th>\n",
              "      <th>product_id</th>\n",
              "      <th>sales_count</th>\n",
              "    </tr>\n",
              "  </thead>\n",
              "  <tbody>\n",
              "    <tr>\n",
              "      <th>1848</th>\n",
              "      <td>2017-10-23</td>\n",
              "      <td>20552</td>\n",
              "      <td>1</td>\n",
              "    </tr>\n",
              "    <tr>\n",
              "      <th>772</th>\n",
              "      <td>2017-11-11</td>\n",
              "      <td>20552</td>\n",
              "      <td>1</td>\n",
              "    </tr>\n",
              "    <tr>\n",
              "      <th>1867</th>\n",
              "      <td>2017-11-21</td>\n",
              "      <td>20552</td>\n",
              "      <td>1</td>\n",
              "    </tr>\n",
              "    <tr>\n",
              "      <th>1482</th>\n",
              "      <td>2017-11-23</td>\n",
              "      <td>20552</td>\n",
              "      <td>1</td>\n",
              "    </tr>\n",
              "    <tr>\n",
              "      <th>1735</th>\n",
              "      <td>2017-12-10</td>\n",
              "      <td>20552</td>\n",
              "      <td>1</td>\n",
              "    </tr>\n",
              "    <tr>\n",
              "      <th>...</th>\n",
              "      <td>...</td>\n",
              "      <td>...</td>\n",
              "      <td>...</td>\n",
              "    </tr>\n",
              "    <tr>\n",
              "      <th>916</th>\n",
              "      <td>2022-07-25</td>\n",
              "      <td>20552</td>\n",
              "      <td>1</td>\n",
              "    </tr>\n",
              "    <tr>\n",
              "      <th>2297</th>\n",
              "      <td>2022-07-29</td>\n",
              "      <td>20552</td>\n",
              "      <td>2</td>\n",
              "    </tr>\n",
              "    <tr>\n",
              "      <th>1889</th>\n",
              "      <td>2022-07-31</td>\n",
              "      <td>20552</td>\n",
              "      <td>2</td>\n",
              "    </tr>\n",
              "    <tr>\n",
              "      <th>682</th>\n",
              "      <td>2022-08-03</td>\n",
              "      <td>20552</td>\n",
              "      <td>2</td>\n",
              "    </tr>\n",
              "    <tr>\n",
              "      <th>1327</th>\n",
              "      <td>2022-08-05</td>\n",
              "      <td>20552</td>\n",
              "      <td>4</td>\n",
              "    </tr>\n",
              "  </tbody>\n",
              "</table>\n",
              "<p>668 rows × 3 columns</p>\n",
              "</div>"
            ],
            "text/plain": [
              "           date  product_id  sales_count\n",
              "1848 2017-10-23       20552            1\n",
              "772  2017-11-11       20552            1\n",
              "1867 2017-11-21       20552            1\n",
              "1482 2017-11-23       20552            1\n",
              "1735 2017-12-10       20552            1\n",
              "...         ...         ...          ...\n",
              "916  2022-07-25       20552            1\n",
              "2297 2022-07-29       20552            2\n",
              "1889 2022-07-31       20552            2\n",
              "682  2022-08-03       20552            2\n",
              "1327 2022-08-05       20552            4\n",
              "\n",
              "[668 rows x 3 columns]"
            ]
          },
          "execution_count": 40,
          "metadata": {},
          "output_type": "execute_result"
        }
      ],
      "source": [
        "df.loc[df[\"product_id\"] == 20552].sort_values(by=[\"date\"])"
      ]
    },
    {
      "cell_type": "markdown",
      "metadata": {
        "id": "326f4f48f5cc"
      },
      "source": [
        "To make a dataframe in which each product has zero missing dates, merge each of the five products' data with the `dates` dataframe.\n",
        "\n",
        "Start with `product_id` `20552`."
      ]
    },
    {
      "cell_type": "code",
      "execution_count": 41,
      "metadata": {
        "id": "a0b443c8d160"
      },
      "outputs": [
        {
          "name": "stdout",
          "output_type": "stream",
          "text": [
            "data after converting for a product with product_id 20552\n"
          ]
        },
        {
          "data": {
            "text/html": [
              "<div>\n",
              "<style scoped>\n",
              "    .dataframe tbody tr th:only-of-type {\n",
              "        vertical-align: middle;\n",
              "    }\n",
              "\n",
              "    .dataframe tbody tr th {\n",
              "        vertical-align: top;\n",
              "    }\n",
              "\n",
              "    .dataframe thead th {\n",
              "        text-align: right;\n",
              "    }\n",
              "</style>\n",
              "<table border=\"1\" class=\"dataframe\">\n",
              "  <thead>\n",
              "    <tr style=\"text-align: right;\">\n",
              "      <th></th>\n",
              "      <th>date</th>\n",
              "      <th>product_id</th>\n",
              "      <th>sales_count</th>\n",
              "    </tr>\n",
              "  </thead>\n",
              "  <tbody>\n",
              "    <tr>\n",
              "      <th>0</th>\n",
              "      <td>2016-12-17</td>\n",
              "      <td>20552</td>\n",
              "      <td>0</td>\n",
              "    </tr>\n",
              "    <tr>\n",
              "      <th>1</th>\n",
              "      <td>2016-12-18</td>\n",
              "      <td>20552</td>\n",
              "      <td>0</td>\n",
              "    </tr>\n",
              "    <tr>\n",
              "      <th>2</th>\n",
              "      <td>2016-12-19</td>\n",
              "      <td>20552</td>\n",
              "      <td>0</td>\n",
              "    </tr>\n",
              "    <tr>\n",
              "      <th>3</th>\n",
              "      <td>2016-12-20</td>\n",
              "      <td>20552</td>\n",
              "      <td>0</td>\n",
              "    </tr>\n",
              "    <tr>\n",
              "      <th>4</th>\n",
              "      <td>2016-12-21</td>\n",
              "      <td>20552</td>\n",
              "      <td>0</td>\n",
              "    </tr>\n",
              "    <tr>\n",
              "      <th>...</th>\n",
              "      <td>...</td>\n",
              "      <td>...</td>\n",
              "      <td>...</td>\n",
              "    </tr>\n",
              "    <tr>\n",
              "      <th>1934</th>\n",
              "      <td>2022-07-25</td>\n",
              "      <td>20552</td>\n",
              "      <td>1</td>\n",
              "    </tr>\n",
              "    <tr>\n",
              "      <th>1935</th>\n",
              "      <td>2022-07-29</td>\n",
              "      <td>20552</td>\n",
              "      <td>2</td>\n",
              "    </tr>\n",
              "    <tr>\n",
              "      <th>1936</th>\n",
              "      <td>2022-07-31</td>\n",
              "      <td>20552</td>\n",
              "      <td>2</td>\n",
              "    </tr>\n",
              "    <tr>\n",
              "      <th>1937</th>\n",
              "      <td>2022-08-03</td>\n",
              "      <td>20552</td>\n",
              "      <td>2</td>\n",
              "    </tr>\n",
              "    <tr>\n",
              "      <th>1938</th>\n",
              "      <td>2022-08-05</td>\n",
              "      <td>20552</td>\n",
              "      <td>4</td>\n",
              "    </tr>\n",
              "  </tbody>\n",
              "</table>\n",
              "<p>1939 rows × 3 columns</p>\n",
              "</div>"
            ],
            "text/plain": [
              "           date  product_id  sales_count\n",
              "0    2016-12-17       20552            0\n",
              "1    2016-12-18       20552            0\n",
              "2    2016-12-19       20552            0\n",
              "3    2016-12-20       20552            0\n",
              "4    2016-12-21       20552            0\n",
              "...         ...         ...          ...\n",
              "1934 2022-07-25       20552            1\n",
              "1935 2022-07-29       20552            2\n",
              "1936 2022-07-31       20552            2\n",
              "1937 2022-08-03       20552            2\n",
              "1938 2022-08-05       20552            4\n",
              "\n",
              "[1939 rows x 3 columns]"
            ]
          },
          "execution_count": 41,
          "metadata": {},
          "output_type": "execute_result"
        }
      ],
      "source": [
        "df1 = (\n",
        "    pd.merge(\n",
        "        df.loc[df[\"product_id\"] == 20552],\n",
        "        dates,\n",
        "        left_on=\"date\",\n",
        "        right_on=0,\n",
        "        how=\"outer\",\n",
        "    )\n",
        "    .sort_values(by=[\"date\"])\n",
        "    .drop(columns=0)\n",
        ")  # merging dates dataframe with product_id matching rows\n",
        "df1[\"product_id\"] = 20552  # product_id will be null so making it the specified values\n",
        "df1.reset_index(inplace=True, drop=True)  # making index to start from 0\n",
        "df1 = df1.fillna(0)  # for sales_count making null values as 0\n",
        "df1[\"sales_count\"] = df1[\"sales_count\"].astype(\n",
        "    \"int\"\n",
        ")  # convert sales_count column to integer\n",
        "print(\"data after converting for a product with product_id 20552\")\n",
        "df1"
      ]
    },
    {
      "cell_type": "code",
      "execution_count": 42,
      "metadata": {
        "id": "4074c59c4fcc"
      },
      "outputs": [
        {
          "data": {
            "text/html": [
              "<div>\n",
              "<style scoped>\n",
              "    .dataframe tbody tr th:only-of-type {\n",
              "        vertical-align: middle;\n",
              "    }\n",
              "\n",
              "    .dataframe tbody tr th {\n",
              "        vertical-align: top;\n",
              "    }\n",
              "\n",
              "    .dataframe thead th {\n",
              "        text-align: right;\n",
              "    }\n",
              "</style>\n",
              "<table border=\"1\" class=\"dataframe\">\n",
              "  <thead>\n",
              "    <tr style=\"text-align: right;\">\n",
              "      <th></th>\n",
              "      <th>date</th>\n",
              "      <th>product_id</th>\n",
              "      <th>sales_count</th>\n",
              "    </tr>\n",
              "  </thead>\n",
              "  <tbody>\n",
              "    <tr>\n",
              "      <th>0</th>\n",
              "      <td>2016-12-17</td>\n",
              "      <td>13596</td>\n",
              "      <td>0</td>\n",
              "    </tr>\n",
              "    <tr>\n",
              "      <th>1</th>\n",
              "      <td>2016-12-18</td>\n",
              "      <td>13596</td>\n",
              "      <td>0</td>\n",
              "    </tr>\n",
              "    <tr>\n",
              "      <th>2</th>\n",
              "      <td>2016-12-19</td>\n",
              "      <td>13596</td>\n",
              "      <td>0</td>\n",
              "    </tr>\n",
              "    <tr>\n",
              "      <th>3</th>\n",
              "      <td>2016-12-20</td>\n",
              "      <td>13596</td>\n",
              "      <td>0</td>\n",
              "    </tr>\n",
              "    <tr>\n",
              "      <th>4</th>\n",
              "      <td>2016-12-21</td>\n",
              "      <td>13596</td>\n",
              "      <td>0</td>\n",
              "    </tr>\n",
              "    <tr>\n",
              "      <th>...</th>\n",
              "      <td>...</td>\n",
              "      <td>...</td>\n",
              "      <td>...</td>\n",
              "    </tr>\n",
              "    <tr>\n",
              "      <th>1900</th>\n",
              "      <td>2022-07-31</td>\n",
              "      <td>13596</td>\n",
              "      <td>2</td>\n",
              "    </tr>\n",
              "    <tr>\n",
              "      <th>1901</th>\n",
              "      <td>2022-08-03</td>\n",
              "      <td>13596</td>\n",
              "      <td>2</td>\n",
              "    </tr>\n",
              "    <tr>\n",
              "      <th>1902</th>\n",
              "      <td>2022-08-04</td>\n",
              "      <td>13596</td>\n",
              "      <td>1</td>\n",
              "    </tr>\n",
              "    <tr>\n",
              "      <th>1903</th>\n",
              "      <td>2022-08-05</td>\n",
              "      <td>13596</td>\n",
              "      <td>1</td>\n",
              "    </tr>\n",
              "    <tr>\n",
              "      <th>1904</th>\n",
              "      <td>2022-08-06</td>\n",
              "      <td>13596</td>\n",
              "      <td>1</td>\n",
              "    </tr>\n",
              "  </tbody>\n",
              "</table>\n",
              "<p>1905 rows × 3 columns</p>\n",
              "</div>"
            ],
            "text/plain": [
              "           date  product_id  sales_count\n",
              "0    2016-12-17       13596            0\n",
              "1    2016-12-18       13596            0\n",
              "2    2016-12-19       13596            0\n",
              "3    2016-12-20       13596            0\n",
              "4    2016-12-21       13596            0\n",
              "...         ...         ...          ...\n",
              "1900 2022-07-31       13596            2\n",
              "1901 2022-08-03       13596            2\n",
              "1902 2022-08-04       13596            1\n",
              "1903 2022-08-05       13596            1\n",
              "1904 2022-08-06       13596            1\n",
              "\n",
              "[1905 rows x 3 columns]"
            ]
          },
          "execution_count": 42,
          "metadata": {},
          "output_type": "execute_result"
        }
      ],
      "source": [
        "df2 = (\n",
        "    pd.merge(\n",
        "        df.loc[df[\"product_id\"] == 13596],\n",
        "        dates,\n",
        "        left_on=\"date\",\n",
        "        right_on=0,\n",
        "        how=\"outer\",\n",
        "    )\n",
        "    .sort_values(by=[\"date\"])\n",
        "    .drop(columns=0)\n",
        ")  # merging dates dataframe with product_id matching rows\n",
        "df2[\"product_id\"] = 13596  # product_id will be null so making it the specified values\n",
        "df2.reset_index(inplace=True, drop=True)  # making index to start from 0\n",
        "df2 = df2.fillna(0)  # for sales_count making null values as 0\n",
        "df2[\"sales_count\"] = df2[\"sales_count\"].astype(\n",
        "    \"int\"\n",
        ")  # convert sales_count column to integer\n",
        "df2"
      ]
    },
    {
      "cell_type": "code",
      "execution_count": 43,
      "metadata": {
        "id": "589ffdbf42f1"
      },
      "outputs": [
        {
          "data": {
            "text/html": [
              "<div>\n",
              "<style scoped>\n",
              "    .dataframe tbody tr th:only-of-type {\n",
              "        vertical-align: middle;\n",
              "    }\n",
              "\n",
              "    .dataframe tbody tr th {\n",
              "        vertical-align: top;\n",
              "    }\n",
              "\n",
              "    .dataframe thead th {\n",
              "        text-align: right;\n",
              "    }\n",
              "</style>\n",
              "<table border=\"1\" class=\"dataframe\">\n",
              "  <thead>\n",
              "    <tr style=\"text-align: right;\">\n",
              "      <th></th>\n",
              "      <th>date</th>\n",
              "      <th>product_id</th>\n",
              "      <th>sales_count</th>\n",
              "    </tr>\n",
              "  </thead>\n",
              "  <tbody>\n",
              "    <tr>\n",
              "      <th>0</th>\n",
              "      <td>2016-12-17</td>\n",
              "      <td>23641</td>\n",
              "      <td>0</td>\n",
              "    </tr>\n",
              "    <tr>\n",
              "      <th>1</th>\n",
              "      <td>2016-12-18</td>\n",
              "      <td>23641</td>\n",
              "      <td>0</td>\n",
              "    </tr>\n",
              "    <tr>\n",
              "      <th>2</th>\n",
              "      <td>2016-12-19</td>\n",
              "      <td>23641</td>\n",
              "      <td>0</td>\n",
              "    </tr>\n",
              "    <tr>\n",
              "      <th>3</th>\n",
              "      <td>2016-12-20</td>\n",
              "      <td>23641</td>\n",
              "      <td>0</td>\n",
              "    </tr>\n",
              "    <tr>\n",
              "      <th>4</th>\n",
              "      <td>2016-12-21</td>\n",
              "      <td>23641</td>\n",
              "      <td>0</td>\n",
              "    </tr>\n",
              "    <tr>\n",
              "      <th>...</th>\n",
              "      <td>...</td>\n",
              "      <td>...</td>\n",
              "      <td>...</td>\n",
              "    </tr>\n",
              "    <tr>\n",
              "      <th>1881</th>\n",
              "      <td>2022-07-31</td>\n",
              "      <td>23641</td>\n",
              "      <td>2</td>\n",
              "    </tr>\n",
              "    <tr>\n",
              "      <th>1882</th>\n",
              "      <td>2022-08-01</td>\n",
              "      <td>23641</td>\n",
              "      <td>1</td>\n",
              "    </tr>\n",
              "    <tr>\n",
              "      <th>1883</th>\n",
              "      <td>2022-08-03</td>\n",
              "      <td>23641</td>\n",
              "      <td>1</td>\n",
              "    </tr>\n",
              "    <tr>\n",
              "      <th>1884</th>\n",
              "      <td>2022-08-04</td>\n",
              "      <td>23641</td>\n",
              "      <td>4</td>\n",
              "    </tr>\n",
              "    <tr>\n",
              "      <th>1885</th>\n",
              "      <td>2022-08-05</td>\n",
              "      <td>23641</td>\n",
              "      <td>1</td>\n",
              "    </tr>\n",
              "  </tbody>\n",
              "</table>\n",
              "<p>1886 rows × 3 columns</p>\n",
              "</div>"
            ],
            "text/plain": [
              "           date  product_id  sales_count\n",
              "0    2016-12-17       23641            0\n",
              "1    2016-12-18       23641            0\n",
              "2    2016-12-19       23641            0\n",
              "3    2016-12-20       23641            0\n",
              "4    2016-12-21       23641            0\n",
              "...         ...         ...          ...\n",
              "1881 2022-07-31       23641            2\n",
              "1882 2022-08-01       23641            1\n",
              "1883 2022-08-03       23641            1\n",
              "1884 2022-08-04       23641            4\n",
              "1885 2022-08-05       23641            1\n",
              "\n",
              "[1886 rows x 3 columns]"
            ]
          },
          "execution_count": 43,
          "metadata": {},
          "output_type": "execute_result"
        }
      ],
      "source": [
        "df3 = (\n",
        "    pd.merge(\n",
        "        df.loc[df[\"product_id\"] == 23641],\n",
        "        dates,\n",
        "        left_on=\"date\",\n",
        "        right_on=0,\n",
        "        how=\"outer\",\n",
        "    )\n",
        "    .sort_values(by=[\"date\"])\n",
        "    .drop(columns=0)\n",
        ")  # merging dates dataframe with product_id matching rows\n",
        "df3[\"product_id\"] = 23641  # product_id will be null so making it the specified values\n",
        "df3.reset_index(inplace=True, drop=True)  # making index to start from 0\n",
        "df3 = df3.fillna(0)  # for sales_count making null values as 0\n",
        "df3[\"sales_count\"] = df3[\"sales_count\"].astype(\n",
        "    \"int\"\n",
        ")  # convert sales_count column to integer\n",
        "df3"
      ]
    },
    {
      "cell_type": "code",
      "execution_count": 44,
      "metadata": {
        "id": "df19f886f7b7"
      },
      "outputs": [
        {
          "data": {
            "text/html": [
              "<div>\n",
              "<style scoped>\n",
              "    .dataframe tbody tr th:only-of-type {\n",
              "        vertical-align: middle;\n",
              "    }\n",
              "\n",
              "    .dataframe tbody tr th {\n",
              "        vertical-align: top;\n",
              "    }\n",
              "\n",
              "    .dataframe thead th {\n",
              "        text-align: right;\n",
              "    }\n",
              "</style>\n",
              "<table border=\"1\" class=\"dataframe\">\n",
              "  <thead>\n",
              "    <tr style=\"text-align: right;\">\n",
              "      <th></th>\n",
              "      <th>date</th>\n",
              "      <th>product_id</th>\n",
              "      <th>sales_count</th>\n",
              "    </tr>\n",
              "  </thead>\n",
              "  <tbody>\n",
              "    <tr>\n",
              "      <th>0</th>\n",
              "      <td>2016-12-17</td>\n",
              "      <td>28305</td>\n",
              "      <td>0</td>\n",
              "    </tr>\n",
              "    <tr>\n",
              "      <th>1</th>\n",
              "      <td>2016-12-18</td>\n",
              "      <td>28305</td>\n",
              "      <td>0</td>\n",
              "    </tr>\n",
              "    <tr>\n",
              "      <th>2</th>\n",
              "      <td>2016-12-19</td>\n",
              "      <td>28305</td>\n",
              "      <td>0</td>\n",
              "    </tr>\n",
              "    <tr>\n",
              "      <th>3</th>\n",
              "      <td>2016-12-20</td>\n",
              "      <td>28305</td>\n",
              "      <td>0</td>\n",
              "    </tr>\n",
              "    <tr>\n",
              "      <th>4</th>\n",
              "      <td>2016-12-21</td>\n",
              "      <td>28305</td>\n",
              "      <td>0</td>\n",
              "    </tr>\n",
              "    <tr>\n",
              "      <th>...</th>\n",
              "      <td>...</td>\n",
              "      <td>...</td>\n",
              "      <td>...</td>\n",
              "    </tr>\n",
              "    <tr>\n",
              "      <th>1893</th>\n",
              "      <td>2022-07-28</td>\n",
              "      <td>28305</td>\n",
              "      <td>3</td>\n",
              "    </tr>\n",
              "    <tr>\n",
              "      <th>1894</th>\n",
              "      <td>2022-07-29</td>\n",
              "      <td>28305</td>\n",
              "      <td>1</td>\n",
              "    </tr>\n",
              "    <tr>\n",
              "      <th>1895</th>\n",
              "      <td>2022-08-02</td>\n",
              "      <td>28305</td>\n",
              "      <td>1</td>\n",
              "    </tr>\n",
              "    <tr>\n",
              "      <th>1896</th>\n",
              "      <td>2022-08-03</td>\n",
              "      <td>28305</td>\n",
              "      <td>1</td>\n",
              "    </tr>\n",
              "    <tr>\n",
              "      <th>1897</th>\n",
              "      <td>2022-08-05</td>\n",
              "      <td>28305</td>\n",
              "      <td>1</td>\n",
              "    </tr>\n",
              "  </tbody>\n",
              "</table>\n",
              "<p>1898 rows × 3 columns</p>\n",
              "</div>"
            ],
            "text/plain": [
              "           date  product_id  sales_count\n",
              "0    2016-12-17       28305            0\n",
              "1    2016-12-18       28305            0\n",
              "2    2016-12-19       28305            0\n",
              "3    2016-12-20       28305            0\n",
              "4    2016-12-21       28305            0\n",
              "...         ...         ...          ...\n",
              "1893 2022-07-28       28305            3\n",
              "1894 2022-07-29       28305            1\n",
              "1895 2022-08-02       28305            1\n",
              "1896 2022-08-03       28305            1\n",
              "1897 2022-08-05       28305            1\n",
              "\n",
              "[1898 rows x 3 columns]"
            ]
          },
          "execution_count": 44,
          "metadata": {},
          "output_type": "execute_result"
        }
      ],
      "source": [
        "df4 = (\n",
        "    pd.merge(\n",
        "        df.loc[df[\"product_id\"] == 28305],\n",
        "        dates,\n",
        "        left_on=\"date\",\n",
        "        right_on=0,\n",
        "        how=\"outer\",\n",
        "    )\n",
        "    .sort_values(by=[\"date\"])\n",
        "    .drop(columns=0)\n",
        ")  # merging dates dataframe with product_id matching rows\n",
        "df4[\"product_id\"] = 28305  # product_id will be null so making it the specified values\n",
        "df4.reset_index(inplace=True, drop=True)  # making index to start from 0\n",
        "df4 = df4.fillna(0)  # for sales_count making null values as 0\n",
        "df4[\"sales_count\"] = df4[\"sales_count\"].astype(\n",
        "    \"int\"\n",
        ")  # convert sales_count column to integer\n",
        "df4"
      ]
    },
    {
      "cell_type": "code",
      "execution_count": 45,
      "metadata": {
        "id": "2bde5882369e"
      },
      "outputs": [
        {
          "data": {
            "text/html": [
              "<div>\n",
              "<style scoped>\n",
              "    .dataframe tbody tr th:only-of-type {\n",
              "        vertical-align: middle;\n",
              "    }\n",
              "\n",
              "    .dataframe tbody tr th {\n",
              "        vertical-align: top;\n",
              "    }\n",
              "\n",
              "    .dataframe thead th {\n",
              "        text-align: right;\n",
              "    }\n",
              "</style>\n",
              "<table border=\"1\" class=\"dataframe\">\n",
              "  <thead>\n",
              "    <tr style=\"text-align: right;\">\n",
              "      <th></th>\n",
              "      <th>date</th>\n",
              "      <th>product_id</th>\n",
              "      <th>sales_count</th>\n",
              "    </tr>\n",
              "  </thead>\n",
              "  <tbody>\n",
              "    <tr>\n",
              "      <th>0</th>\n",
              "      <td>2016-12-17</td>\n",
              "      <td>20547</td>\n",
              "      <td>0</td>\n",
              "    </tr>\n",
              "    <tr>\n",
              "      <th>1</th>\n",
              "      <td>2016-12-18</td>\n",
              "      <td>20547</td>\n",
              "      <td>0</td>\n",
              "    </tr>\n",
              "    <tr>\n",
              "      <th>2</th>\n",
              "      <td>2016-12-19</td>\n",
              "      <td>20547</td>\n",
              "      <td>0</td>\n",
              "    </tr>\n",
              "    <tr>\n",
              "      <th>3</th>\n",
              "      <td>2016-12-20</td>\n",
              "      <td>20547</td>\n",
              "      <td>0</td>\n",
              "    </tr>\n",
              "    <tr>\n",
              "      <th>4</th>\n",
              "      <td>2016-12-21</td>\n",
              "      <td>20547</td>\n",
              "      <td>0</td>\n",
              "    </tr>\n",
              "    <tr>\n",
              "      <th>...</th>\n",
              "      <td>...</td>\n",
              "      <td>...</td>\n",
              "      <td>...</td>\n",
              "    </tr>\n",
              "    <tr>\n",
              "      <th>1873</th>\n",
              "      <td>2022-07-31</td>\n",
              "      <td>20547</td>\n",
              "      <td>3</td>\n",
              "    </tr>\n",
              "    <tr>\n",
              "      <th>1874</th>\n",
              "      <td>2022-08-02</td>\n",
              "      <td>20547</td>\n",
              "      <td>2</td>\n",
              "    </tr>\n",
              "    <tr>\n",
              "      <th>1875</th>\n",
              "      <td>2022-08-03</td>\n",
              "      <td>20547</td>\n",
              "      <td>1</td>\n",
              "    </tr>\n",
              "    <tr>\n",
              "      <th>1876</th>\n",
              "      <td>2022-08-05</td>\n",
              "      <td>20547</td>\n",
              "      <td>3</td>\n",
              "    </tr>\n",
              "    <tr>\n",
              "      <th>1877</th>\n",
              "      <td>2022-08-06</td>\n",
              "      <td>20547</td>\n",
              "      <td>2</td>\n",
              "    </tr>\n",
              "  </tbody>\n",
              "</table>\n",
              "<p>1878 rows × 3 columns</p>\n",
              "</div>"
            ],
            "text/plain": [
              "           date  product_id  sales_count\n",
              "0    2016-12-17       20547            0\n",
              "1    2016-12-18       20547            0\n",
              "2    2016-12-19       20547            0\n",
              "3    2016-12-20       20547            0\n",
              "4    2016-12-21       20547            0\n",
              "...         ...         ...          ...\n",
              "1873 2022-07-31       20547            3\n",
              "1874 2022-08-02       20547            2\n",
              "1875 2022-08-03       20547            1\n",
              "1876 2022-08-05       20547            3\n",
              "1877 2022-08-06       20547            2\n",
              "\n",
              "[1878 rows x 3 columns]"
            ]
          },
          "execution_count": 45,
          "metadata": {},
          "output_type": "execute_result"
        }
      ],
      "source": [
        "df5 = (\n",
        "    pd.merge(\n",
        "        df.loc[df[\"product_id\"] == 20547],\n",
        "        dates,\n",
        "        left_on=\"date\",\n",
        "        right_on=0,\n",
        "        how=\"outer\",\n",
        "    )\n",
        "    .sort_values(by=[\"date\"])\n",
        "    .drop(columns=0)\n",
        ")  # merging dates dataframe with product_id matching rows\n",
        "df5[\"product_id\"] = 20547  # product_id will be null so making it the specified values\n",
        "df5.reset_index(inplace=True, drop=True)  # making index to start from 0\n",
        "df5 = df5.fillna(0)  # for sales_count making null values as 0\n",
        "df5[\"sales_count\"] = df5[\"sales_count\"].astype(\n",
        "    \"int\"\n",
        ")  # convert sales_count column to integer\n",
        "df5"
      ]
    },
    {
      "cell_type": "markdown",
      "metadata": {
        "id": "6a2d033b733e"
      },
      "source": [
        "Merge all five dataframes into one new dataframe"
      ]
    },
    {
      "cell_type": "code",
      "execution_count": 46,
      "metadata": {
        "id": "bf570c0c6913"
      },
      "outputs": [
        {
          "data": {
            "text/html": [
              "<div>\n",
              "<style scoped>\n",
              "    .dataframe tbody tr th:only-of-type {\n",
              "        vertical-align: middle;\n",
              "    }\n",
              "\n",
              "    .dataframe tbody tr th {\n",
              "        vertical-align: top;\n",
              "    }\n",
              "\n",
              "    .dataframe thead th {\n",
              "        text-align: right;\n",
              "    }\n",
              "</style>\n",
              "<table border=\"1\" class=\"dataframe\">\n",
              "  <thead>\n",
              "    <tr style=\"text-align: right;\">\n",
              "      <th></th>\n",
              "      <th>date</th>\n",
              "      <th>product_id</th>\n",
              "      <th>sales_count</th>\n",
              "    </tr>\n",
              "  </thead>\n",
              "  <tbody>\n",
              "    <tr>\n",
              "      <th>0</th>\n",
              "      <td>2016-12-17</td>\n",
              "      <td>20552</td>\n",
              "      <td>0</td>\n",
              "    </tr>\n",
              "    <tr>\n",
              "      <th>1</th>\n",
              "      <td>2016-12-18</td>\n",
              "      <td>20552</td>\n",
              "      <td>0</td>\n",
              "    </tr>\n",
              "    <tr>\n",
              "      <th>2</th>\n",
              "      <td>2016-12-19</td>\n",
              "      <td>20552</td>\n",
              "      <td>0</td>\n",
              "    </tr>\n",
              "    <tr>\n",
              "      <th>3</th>\n",
              "      <td>2016-12-20</td>\n",
              "      <td>20552</td>\n",
              "      <td>0</td>\n",
              "    </tr>\n",
              "    <tr>\n",
              "      <th>4</th>\n",
              "      <td>2016-12-21</td>\n",
              "      <td>20552</td>\n",
              "      <td>0</td>\n",
              "    </tr>\n",
              "    <tr>\n",
              "      <th>...</th>\n",
              "      <td>...</td>\n",
              "      <td>...</td>\n",
              "      <td>...</td>\n",
              "    </tr>\n",
              "    <tr>\n",
              "      <th>1873</th>\n",
              "      <td>2022-07-31</td>\n",
              "      <td>20547</td>\n",
              "      <td>3</td>\n",
              "    </tr>\n",
              "    <tr>\n",
              "      <th>1874</th>\n",
              "      <td>2022-08-02</td>\n",
              "      <td>20547</td>\n",
              "      <td>2</td>\n",
              "    </tr>\n",
              "    <tr>\n",
              "      <th>1875</th>\n",
              "      <td>2022-08-03</td>\n",
              "      <td>20547</td>\n",
              "      <td>1</td>\n",
              "    </tr>\n",
              "    <tr>\n",
              "      <th>1876</th>\n",
              "      <td>2022-08-05</td>\n",
              "      <td>20547</td>\n",
              "      <td>3</td>\n",
              "    </tr>\n",
              "    <tr>\n",
              "      <th>1877</th>\n",
              "      <td>2022-08-06</td>\n",
              "      <td>20547</td>\n",
              "      <td>2</td>\n",
              "    </tr>\n",
              "  </tbody>\n",
              "</table>\n",
              "<p>9506 rows × 3 columns</p>\n",
              "</div>"
            ],
            "text/plain": [
              "           date  product_id  sales_count\n",
              "0    2016-12-17       20552            0\n",
              "1    2016-12-18       20552            0\n",
              "2    2016-12-19       20552            0\n",
              "3    2016-12-20       20552            0\n",
              "4    2016-12-21       20552            0\n",
              "...         ...         ...          ...\n",
              "1873 2022-07-31       20547            3\n",
              "1874 2022-08-02       20547            2\n",
              "1875 2022-08-03       20547            1\n",
              "1876 2022-08-05       20547            3\n",
              "1877 2022-08-06       20547            2\n",
              "\n",
              "[9506 rows x 3 columns]"
            ]
          },
          "execution_count": 46,
          "metadata": {},
          "output_type": "execute_result"
        }
      ],
      "source": [
        "pdList = [df1, df2, df3, df4, df5]  # List of your dataframes\n",
        "new_df = pd.concat(pdList)\n",
        "new_df"
      ]
    },
    {
      "cell_type": "markdown",
      "metadata": {
        "id": "4a75fa1dc8dc"
      },
      "source": [
        "Reset the index of the dataframe."
      ]
    },
    {
      "cell_type": "code",
      "execution_count": 47,
      "metadata": {
        "id": "7d258952fc71"
      },
      "outputs": [],
      "source": [
        "new_df.reset_index(inplace=True, drop=True)"
      ]
    },
    {
      "cell_type": "code",
      "execution_count": 48,
      "metadata": {
        "id": "5312dfe1be15"
      },
      "outputs": [
        {
          "data": {
            "text/html": [
              "<div>\n",
              "<style scoped>\n",
              "    .dataframe tbody tr th:only-of-type {\n",
              "        vertical-align: middle;\n",
              "    }\n",
              "\n",
              "    .dataframe tbody tr th {\n",
              "        vertical-align: top;\n",
              "    }\n",
              "\n",
              "    .dataframe thead th {\n",
              "        text-align: right;\n",
              "    }\n",
              "</style>\n",
              "<table border=\"1\" class=\"dataframe\">\n",
              "  <thead>\n",
              "    <tr style=\"text-align: right;\">\n",
              "      <th></th>\n",
              "      <th>date</th>\n",
              "      <th>product_id</th>\n",
              "      <th>sales_count</th>\n",
              "    </tr>\n",
              "  </thead>\n",
              "  <tbody>\n",
              "    <tr>\n",
              "      <th>0</th>\n",
              "      <td>2016-12-17</td>\n",
              "      <td>20552</td>\n",
              "      <td>0</td>\n",
              "    </tr>\n",
              "    <tr>\n",
              "      <th>1</th>\n",
              "      <td>2016-12-18</td>\n",
              "      <td>20552</td>\n",
              "      <td>0</td>\n",
              "    </tr>\n",
              "    <tr>\n",
              "      <th>2</th>\n",
              "      <td>2016-12-19</td>\n",
              "      <td>20552</td>\n",
              "      <td>0</td>\n",
              "    </tr>\n",
              "    <tr>\n",
              "      <th>3</th>\n",
              "      <td>2016-12-20</td>\n",
              "      <td>20552</td>\n",
              "      <td>0</td>\n",
              "    </tr>\n",
              "    <tr>\n",
              "      <th>4</th>\n",
              "      <td>2016-12-21</td>\n",
              "      <td>20552</td>\n",
              "      <td>0</td>\n",
              "    </tr>\n",
              "    <tr>\n",
              "      <th>...</th>\n",
              "      <td>...</td>\n",
              "      <td>...</td>\n",
              "      <td>...</td>\n",
              "    </tr>\n",
              "    <tr>\n",
              "      <th>9501</th>\n",
              "      <td>2022-07-31</td>\n",
              "      <td>20547</td>\n",
              "      <td>3</td>\n",
              "    </tr>\n",
              "    <tr>\n",
              "      <th>9502</th>\n",
              "      <td>2022-08-02</td>\n",
              "      <td>20547</td>\n",
              "      <td>2</td>\n",
              "    </tr>\n",
              "    <tr>\n",
              "      <th>9503</th>\n",
              "      <td>2022-08-03</td>\n",
              "      <td>20547</td>\n",
              "      <td>1</td>\n",
              "    </tr>\n",
              "    <tr>\n",
              "      <th>9504</th>\n",
              "      <td>2022-08-05</td>\n",
              "      <td>20547</td>\n",
              "      <td>3</td>\n",
              "    </tr>\n",
              "    <tr>\n",
              "      <th>9505</th>\n",
              "      <td>2022-08-06</td>\n",
              "      <td>20547</td>\n",
              "      <td>2</td>\n",
              "    </tr>\n",
              "  </tbody>\n",
              "</table>\n",
              "<p>9506 rows × 3 columns</p>\n",
              "</div>"
            ],
            "text/plain": [
              "           date  product_id  sales_count\n",
              "0    2016-12-17       20552            0\n",
              "1    2016-12-18       20552            0\n",
              "2    2016-12-19       20552            0\n",
              "3    2016-12-20       20552            0\n",
              "4    2016-12-21       20552            0\n",
              "...         ...         ...          ...\n",
              "9501 2022-07-31       20547            3\n",
              "9502 2022-08-02       20547            2\n",
              "9503 2022-08-03       20547            1\n",
              "9504 2022-08-05       20547            3\n",
              "9505 2022-08-06       20547            2\n",
              "\n",
              "[9506 rows x 3 columns]"
            ]
          },
          "execution_count": 48,
          "metadata": {},
          "output_type": "execute_result"
        }
      ],
      "source": [
        "new_df"
      ]
    },
    {
      "cell_type": "markdown",
      "metadata": {
        "id": "97e1289b2106"
      },
      "source": [
        "View the five product IDs."
      ]
    },
    {
      "cell_type": "markdown",
      "metadata": {
        "id": "5891c2082a4b"
      },
      "source": [
        "#@bigquery\n",
        "SELECT DISTINCT product_id from [your-dataset-id].top_five_products"
      ]
    },
    {
      "cell_type": "code",
      "execution_count": 49,
      "metadata": {
        "id": "5Gjad6uSp94O"
      },
      "outputs": [],
      "source": [
        "query = \"\"\"\n",
        "SELECT DISTINCT product_id from {dataset_id}.top_five_products\n",
        "\"\"\".format(\n",
        "    dataset_id=dataset_id\n",
        ")\n",
        "query_job = client.query(query)"
      ]
    },
    {
      "cell_type": "code",
      "execution_count": 50,
      "metadata": {
        "id": "MUynE3dnp94O"
      },
      "outputs": [
        {
          "data": {
            "text/html": [
              "<div>\n",
              "<style scoped>\n",
              "    .dataframe tbody tr th:only-of-type {\n",
              "        vertical-align: middle;\n",
              "    }\n",
              "\n",
              "    .dataframe tbody tr th {\n",
              "        vertical-align: top;\n",
              "    }\n",
              "\n",
              "    .dataframe thead th {\n",
              "        text-align: right;\n",
              "    }\n",
              "</style>\n",
              "<table border=\"1\" class=\"dataframe\">\n",
              "  <thead>\n",
              "    <tr style=\"text-align: right;\">\n",
              "      <th></th>\n",
              "      <th>product_id</th>\n",
              "    </tr>\n",
              "  </thead>\n",
              "  <tbody>\n",
              "    <tr>\n",
              "      <th>0</th>\n",
              "      <td>28305</td>\n",
              "    </tr>\n",
              "    <tr>\n",
              "      <th>1</th>\n",
              "      <td>20547</td>\n",
              "    </tr>\n",
              "    <tr>\n",
              "      <th>2</th>\n",
              "      <td>20552</td>\n",
              "    </tr>\n",
              "    <tr>\n",
              "      <th>3</th>\n",
              "      <td>13596</td>\n",
              "    </tr>\n",
              "    <tr>\n",
              "      <th>4</th>\n",
              "      <td>23641</td>\n",
              "    </tr>\n",
              "  </tbody>\n",
              "</table>\n",
              "</div>"
            ],
            "text/plain": [
              "   product_id\n",
              "0       28305\n",
              "1       20547\n",
              "2       20552\n",
              "3       13596\n",
              "4       23641"
            ]
          },
          "execution_count": 50,
          "metadata": {},
          "output_type": "execute_result"
        }
      ],
      "source": [
        "query_job.to_dataframe()"
      ]
    },
    {
      "cell_type": "markdown",
      "metadata": {
        "id": "aa06b0e893cb"
      },
      "source": [
        "Plot `sales_count` over time, for each product."
      ]
    },
    {
      "cell_type": "code",
      "execution_count": 51,
      "metadata": {
        "id": "9cdce0080aa1"
      },
      "outputs": [
        {
          "data": {
            "text/plain": [
              "(array([16801., 17167., 17532., 17897., 18262., 18628., 18993.]),\n",
              " [Text(0, 0, ''),\n",
              "  Text(0, 0, ''),\n",
              "  Text(0, 0, ''),\n",
              "  Text(0, 0, ''),\n",
              "  Text(0, 0, ''),\n",
              "  Text(0, 0, ''),\n",
              "  Text(0, 0, '')])"
            ]
          },
          "execution_count": 51,
          "metadata": {},
          "output_type": "execute_result"
        },
        {
          "data": {
            "image/png": "[encoded data removed]",
            "text/plain": [
              "<Figure size 432x288 with 1 Axes>"
            ]
          },
          "metadata": {
            "needs_background": "light"
          },
          "output_type": "display_data"
        }
      ],
      "source": [
        "plt.plot(\n",
        "    new_df.loc[new_df[\"product_id\"] == 20552][\"date\"],\n",
        "    new_df.loc[new_df[\"product_id\"] == 20552][\"sales_count\"],\n",
        ")\n",
        "plt.xticks(rotation=\"vertical\")"
      ]
    },
    {
      "cell_type": "code",
      "execution_count": 52,
      "metadata": {
        "id": "6fef99223f63"
      },
      "outputs": [
        {
          "data": {
            "text/plain": [
              "(array([16801., 17167., 17532., 17897., 18262., 18628., 18993.]),\n",
              " [Text(0, 0, ''),\n",
              "  Text(0, 0, ''),\n",
              "  Text(0, 0, ''),\n",
              "  Text(0, 0, ''),\n",
              "  Text(0, 0, ''),\n",
              "  Text(0, 0, ''),\n",
              "  Text(0, 0, '')])"
            ]
          },
          "execution_count": 52,
          "metadata": {},
          "output_type": "execute_result"
        },
        {
          "data": {
            "image/png": "[encoded data removed]",
            "text/plain": [
              "<Figure size 432x288 with 1 Axes>"
            ]
          },
          "metadata": {
            "needs_background": "light"
          },
          "output_type": "display_data"
        }
      ],
      "source": [
        "plt.plot(\n",
        "    new_df.loc[new_df[\"product_id\"] == 20547][\"date\"],\n",
        "    new_df.loc[new_df[\"product_id\"] == 20547][\"sales_count\"],\n",
        ")\n",
        "plt.xticks(rotation=\"vertical\")"
      ]
    },
    {
      "cell_type": "code",
      "execution_count": 53,
      "metadata": {
        "id": "d281151b0e2a"
      },
      "outputs": [
        {
          "data": {
            "text/plain": [
              "(array([16801., 17167., 17532., 17897., 18262., 18628., 18993.]),\n",
              " [Text(0, 0, ''),\n",
              "  Text(0, 0, ''),\n",
              "  Text(0, 0, ''),\n",
              "  Text(0, 0, ''),\n",
              "  Text(0, 0, ''),\n",
              "  Text(0, 0, ''),\n",
              "  Text(0, 0, '')])"
            ]
          },
          "execution_count": 53,
          "metadata": {},
          "output_type": "execute_result"
        },
        {
          "data": {
            "image/png": "[encoded data removed]",
            "text/plain": [
              "<Figure size 432x288 with 1 Axes>"
            ]
          },
          "metadata": {
            "needs_background": "light"
          },
          "output_type": "display_data"
        }
      ],
      "source": [
        "plt.plot(\n",
        "    new_df.loc[new_df[\"product_id\"] == 28305][\"date\"],\n",
        "    new_df.loc[new_df[\"product_id\"] == 28305][\"sales_count\"],\n",
        ")\n",
        "plt.xticks(rotation=\"vertical\")"
      ]
    },
    {
      "cell_type": "code",
      "execution_count": 54,
      "metadata": {
        "id": "a50eeeeaedb0"
      },
      "outputs": [
        {
          "data": {
            "text/plain": [
              "(array([16801., 17167., 17532., 17897., 18262., 18628., 18993.]),\n",
              " [Text(0, 0, ''),\n",
              "  Text(0, 0, ''),\n",
              "  Text(0, 0, ''),\n",
              "  Text(0, 0, ''),\n",
              "  Text(0, 0, ''),\n",
              "  Text(0, 0, ''),\n",
              "  Text(0, 0, '')])"
            ]
          },
          "execution_count": 54,
          "metadata": {},
          "output_type": "execute_result"
        },
        {
          "data": {
            "image/png": "[encoded data removed]",
            "text/plain": [
              "<Figure size 432x288 with 1 Axes>"
            ]
          },
          "metadata": {
            "needs_background": "light"
          },
          "output_type": "display_data"
        }
      ],
      "source": [
        "plt.plot(\n",
        "    new_df.loc[new_df[\"product_id\"] == 23641][\"date\"],\n",
        "    new_df.loc[new_df[\"product_id\"] == 23641][\"sales_count\"],\n",
        ")\n",
        "plt.xticks(rotation=\"vertical\")"
      ]
    },
    {
      "cell_type": "code",
      "execution_count": 55,
      "metadata": {
        "id": "4d002f0717ee"
      },
      "outputs": [
        {
          "data": {
            "text/plain": [
              "(array([16801., 17167., 17532., 17897., 18262., 18628., 18993.]),\n",
              " [Text(0, 0, ''),\n",
              "  Text(0, 0, ''),\n",
              "  Text(0, 0, ''),\n",
              "  Text(0, 0, ''),\n",
              "  Text(0, 0, ''),\n",
              "  Text(0, 0, ''),\n",
              "  Text(0, 0, '')])"
            ]
          },
          "execution_count": 55,
          "metadata": {},
          "output_type": "execute_result"
        },
        {
          "data": {
            "image/png": "[encoded data removed]",
            "text/plain": [
              "<Figure size 432x288 with 1 Axes>"
            ]
          },
          "metadata": {
            "needs_background": "light"
          },
          "output_type": "display_data"
        }
      ],
      "source": [
        "plt.plot(\n",
        "    new_df.loc[new_df[\"product_id\"] == 13596][\"date\"],\n",
        "    new_df.loc[new_df[\"product_id\"] == 13596][\"sales_count\"],\n",
        ")\n",
        "plt.xticks(rotation=\"vertical\")"
      ]
    },
    {
      "cell_type": "markdown",
      "metadata": {
        "id": "755a811fbad5"
      },
      "source": [
        "List the data types for the `new_df` dataframe."
      ]
    },
    {
      "cell_type": "code",
      "execution_count": 56,
      "metadata": {
        "id": "220ec814875c"
      },
      "outputs": [
        {
          "data": {
            "text/plain": [
              "date           datetime64[ns]\n",
              "product_id              int64\n",
              "sales_count             int64\n",
              "dtype: object"
            ]
          },
          "execution_count": 56,
          "metadata": {},
          "output_type": "execute_result"
        }
      ],
      "source": [
        "new_df.dtypes"
      ]
    },
    {
      "cell_type": "markdown",
      "metadata": {
        "id": "ff06b56ffa7a"
      },
      "source": [
        "Create a new BigQuery table out of the `new_df` dataframe."
      ]
    },
    {
      "cell_type": "code",
      "execution_count": 57,
      "metadata": {
        "id": "2d303f1cfd90"
      },
      "outputs": [
        {
          "data": {
            "text/plain": [
              "LoadJob<project=vertex-ai-dev, location=US, id=1880fa6d-9d42-43b8-beb1-ada8a1a03344>"
            ]
          },
          "execution_count": 57,
          "metadata": {},
          "output_type": "execute_result"
        }
      ],
      "source": [
        "job_config = bigquery.LoadJobConfig(\n",
        "    # Specify a (partial) schema. All columns are always written to the\n",
        "    # table. The schema is used to assist in data type definitions.\n",
        "    schema=[\n",
        "        bigquery.SchemaField(\"product_id\", bigquery.enums.SqlTypeNames.INTEGER),\n",
        "        bigquery.SchemaField(\"date\", bigquery.enums.SqlTypeNames.DATE),\n",
        "        bigquery.SchemaField(\"sales_count\", bigquery.enums.SqlTypeNames.INTEGER),\n",
        "    ],\n",
        "    # Optionally, set the write disposition. BigQuery appends loaded rows\n",
        "    # to an existing table by default, but with WRITE_TRUNCATE write\n",
        "    # disposition it replaces the table with the loaded data.\n",
        "    write_disposition=\"WRITE_TRUNCATE\",\n",
        ")\n",
        "\n",
        "# save the dataframe to a table in the created dataset\n",
        "job = client.load_table_from_dataframe(\n",
        "    new_df,\n",
        "    \"{}.{}.{}\".format(PROJECT_ID, dataset_id, SALES_TABLE),\n",
        "    job_config=job_config,\n",
        ")  # Make an API request.\n",
        "job.result()  # Wait for the job to complete."
      ]
    },
    {
      "cell_type": "markdown",
      "metadata": {
        "id": "c2e0e9aa67cd"
      },
      "source": [
        "Create a training dataset by setting a date range that limits the data being used."
      ]
    },
    {
      "cell_type": "code",
      "execution_count": 58,
      "metadata": {
        "id": "e1fffed34704"
      },
      "outputs": [],
      "source": [
        "# select the date-range and item-id(top 5) for training-data and create a table for the same\n",
        "TRAININGDATA_STARTDATE = \"2016-12-17\"\n",
        "TRAININGDATA_ENDDATE = \"2021-6-01\"\n",
        "query = \"\"\"\n",
        "CREATE OR REPLACE TABLE {PROJECT_ID}.{DATASET}.training_data AS (\n",
        "    SELECT\n",
        "        *\n",
        "    FROM\n",
        "        `{DATASET}.{SALES_TABLE}`\n",
        "    WHERE\n",
        "        date BETWEEN '{STARTDATE}' AND '{ENDDATE}'\n",
        "        );\n",
        "\"\"\".format(\n",
        "    STARTDATE=TRAININGDATA_STARTDATE,\n",
        "    ENDDATE=TRAININGDATA_ENDDATE,\n",
        "    DATASET=dataset_id,\n",
        "    SALES_TABLE=SALES_TABLE,\n",
        "    PROJECT_ID=PROJECT_ID,\n",
        ")\n",
        "# execute the query (as it is a create query, there won't be any tabular output)\n",
        "query_job = client.query(query)\n",
        "print(query_job.result())"
      ]
    },
    {
      "cell_type": "markdown",
      "metadata": {
        "id": "2f7d9d2d4229"
      },
      "source": [
        "Select the original data for plotting."
      ]
    },
    {
      "cell_type": "code",
      "execution_count": 59,
      "metadata": {
        "id": "1b82fc7c7bf6"
      },
      "outputs": [
        {
          "data": {
            "text/html": [
              "<div>\n",
              "<style scoped>\n",
              "    .dataframe tbody tr th:only-of-type {\n",
              "        vertical-align: middle;\n",
              "    }\n",
              "\n",
              "    .dataframe tbody tr th {\n",
              "        vertical-align: top;\n",
              "    }\n",
              "\n",
              "    .dataframe thead th {\n",
              "        text-align: right;\n",
              "    }\n",
              "</style>\n",
              "<table border=\"1\" class=\"dataframe\">\n",
              "  <thead>\n",
              "    <tr style=\"text-align: right;\">\n",
              "      <th></th>\n",
              "      <th>date</th>\n",
              "      <th>product_id</th>\n",
              "      <th>sales_count</th>\n",
              "    </tr>\n",
              "  </thead>\n",
              "  <tbody>\n",
              "    <tr>\n",
              "      <th>0</th>\n",
              "      <td>2016-12-17</td>\n",
              "      <td>20552</td>\n",
              "      <td>0</td>\n",
              "    </tr>\n",
              "    <tr>\n",
              "      <th>1</th>\n",
              "      <td>2016-12-18</td>\n",
              "      <td>20552</td>\n",
              "      <td>0</td>\n",
              "    </tr>\n",
              "    <tr>\n",
              "      <th>2</th>\n",
              "      <td>2016-12-19</td>\n",
              "      <td>20552</td>\n",
              "      <td>0</td>\n",
              "    </tr>\n",
              "    <tr>\n",
              "      <th>3</th>\n",
              "      <td>2016-12-20</td>\n",
              "      <td>20552</td>\n",
              "      <td>0</td>\n",
              "    </tr>\n",
              "    <tr>\n",
              "      <th>4</th>\n",
              "      <td>2016-12-21</td>\n",
              "      <td>20552</td>\n",
              "      <td>0</td>\n",
              "    </tr>\n",
              "    <tr>\n",
              "      <th>...</th>\n",
              "      <td>...</td>\n",
              "      <td>...</td>\n",
              "      <td>...</td>\n",
              "    </tr>\n",
              "    <tr>\n",
              "      <th>9251</th>\n",
              "      <td>2021-05-28</td>\n",
              "      <td>20547</td>\n",
              "      <td>0</td>\n",
              "    </tr>\n",
              "    <tr>\n",
              "      <th>9252</th>\n",
              "      <td>2021-05-29</td>\n",
              "      <td>20547</td>\n",
              "      <td>0</td>\n",
              "    </tr>\n",
              "    <tr>\n",
              "      <th>9253</th>\n",
              "      <td>2021-05-30</td>\n",
              "      <td>20547</td>\n",
              "      <td>0</td>\n",
              "    </tr>\n",
              "    <tr>\n",
              "      <th>9254</th>\n",
              "      <td>2021-05-31</td>\n",
              "      <td>20547</td>\n",
              "      <td>1</td>\n",
              "    </tr>\n",
              "    <tr>\n",
              "      <th>9255</th>\n",
              "      <td>2021-06-01</td>\n",
              "      <td>20547</td>\n",
              "      <td>2</td>\n",
              "    </tr>\n",
              "  </tbody>\n",
              "</table>\n",
              "<p>8140 rows × 3 columns</p>\n",
              "</div>"
            ],
            "text/plain": [
              "           date  product_id  sales_count\n",
              "0    2016-12-17       20552            0\n",
              "1    2016-12-18       20552            0\n",
              "2    2016-12-19       20552            0\n",
              "3    2016-12-20       20552            0\n",
              "4    2016-12-21       20552            0\n",
              "...         ...         ...          ...\n",
              "9251 2021-05-28       20547            0\n",
              "9252 2021-05-29       20547            0\n",
              "9253 2021-05-30       20547            0\n",
              "9254 2021-05-31       20547            1\n",
              "9255 2021-06-01       20547            2\n",
              "\n",
              "[8140 rows x 3 columns]"
            ]
          },
          "execution_count": 59,
          "metadata": {},
          "output_type": "execute_result"
        }
      ],
      "source": [
        "df_historical = new_df[\n",
        "    (new_df[\"date\"] >= pd.to_datetime(TRAININGDATA_STARTDATE))\n",
        "    & (new_df[\"date\"] <= pd.to_datetime(TRAININGDATA_ENDDATE))\n",
        "].copy()\n",
        "df_historical"
      ]
    },
    {
      "cell_type": "markdown",
      "metadata": {
        "id": "c25b75dc957a"
      },
      "source": [
        "## Modeling with BigQuery and the ARIMA model\n",
        "<a name=\"section-6\"></a>\n",
        "\n",
        "Create an ARIMA model using the training data."
      ]
    },
    {
      "cell_type": "markdown",
      "metadata": {
        "id": "69ac23f216a4"
      },
      "source": [
        "#@bigquery\n",
        "CREATE OR REPLACE MODEL [your-dataset-id].arima_model\n",
        "\n",
        "OPTIONS(\n",
        "  MODEL_TYPE='ARIMA',\n",
        "  TIME_SERIES_TIMESTAMP_COL='date', \n",
        "  TIME_SERIES_DATA_COL='sales_count',\n",
        "  TIME_SERIES_ID_COL='product_id',\n",
        "  HOLIDAY_REGION='US'\n",
        "    \n",
        ") AS\n",
        "\n",
        "SELECT \n",
        "    date,\n",
        "    product_id,\n",
        "    sales_count\n",
        "FROM\n",
        "  [your-dataset-id].training_data"
      ]
    },
    {
      "cell_type": "markdown",
      "metadata": {
        "id": "c45e18a773ad"
      },
      "source": [
        "Train the ARIMA model."
      ]
    },
    {
      "cell_type": "code",
      "execution_count": 60,
      "metadata": {
        "id": "00638d9f7e55"
      },
      "outputs": [
        {
          "data": {
            "text/plain": [
              "<google.cloud.bigquery.table._EmptyRowIterator at 0x7f3156aa7cd0>"
            ]
          },
          "execution_count": 60,
          "metadata": {},
          "output_type": "execute_result"
        }
      ],
      "source": [
        "# Train an ARIMA model on the created dataset\n",
        "query = \"\"\"\n",
        "CREATE OR REPLACE MODEL `{PROJECT_ID}.{DATASET}.arima_model`\n",
        "\n",
        "OPTIONS(\n",
        "  MODEL_TYPE='ARIMA',\n",
        "  TIME_SERIES_TIMESTAMP_COL='date',\n",
        "  TIME_SERIES_DATA_COL='sales_count',\n",
        "  TIME_SERIES_ID_COL='product_id') AS\n",
        "\n",
        "SELECT\n",
        "    date,\n",
        "    product_id,\n",
        "    sales_count\n",
        "FROM\n",
        "  `{DATASET}.training_data`\n",
        "\"\"\".format(\n",
        "    PROJECT_ID=PROJECT_ID, DATASET=dataset_id\n",
        ")\n",
        "# execute the query\n",
        "job = client.query(query)\n",
        "job.result()"
      ]
    },
    {
      "cell_type": "markdown",
      "metadata": {
        "id": "a02551627598"
      },
      "source": [
        "# Evaluate the model\n",
        "<a name=\"section-7\"></a>\n",
        "\n",
        "To evaluate the trained model, get forecasts for the 90 days after the last date of the training data. In BigQuery ML, provide the number of forecast days using the `HORIZON` argument. Specify the confidence interval for the forecast using the `CONFIDENCE_LEVEL` argument."
      ]
    },
    {
      "cell_type": "markdown",
      "metadata": {
        "id": "87ef4ba64a3a"
      },
      "source": [
        "#@bigquery dfforecast \n",
        "\n",
        "DECLARE HORIZON STRING DEFAULT \"90\";\n",
        "DECLARE CONFIDENCE_LEVEL STRING DEFAULT \"0.90\";\n",
        "\n",
        "EXECUTE IMMEDIATE format('''\n",
        "    SELECT\n",
        "      *\n",
        "    FROM\n",
        "      ML.FORECAST(MODEL [your-dataset-id].arima_model,\n",
        "                  STRUCT(%s AS horizon,\n",
        "                         %s AS confidence_level)\n",
        "                 )\n",
        "    ''',HORIZON,CONFIDENCE_LEVEL)"
      ]
    },
    {
      "cell_type": "markdown",
      "metadata": {
        "id": "801528e3e2c7"
      },
      "source": [
        "Load the data into a dataframe named `dfforecast`."
      ]
    },
    {
      "cell_type": "code",
      "execution_count": 61,
      "metadata": {
        "id": "f1277e846d10"
      },
      "outputs": [],
      "source": [
        "query = '''DECLARE HORIZON STRING DEFAULT \"90\"; #number of values to forecast\n",
        "DECLARE CONFIDENCE_LEVEL STRING DEFAULT \"0.90\"; ## required confidence level\n",
        "\n",
        "EXECUTE IMMEDIATE format(\"\"\"\n",
        "    SELECT\n",
        "      *\n",
        "    FROM\n",
        "      ML.FORECAST(MODEL {dataset_id}.arima_model,\n",
        "                  STRUCT(%s AS horizon,\n",
        "                         %s AS confidence_level)\n",
        "                 )\n",
        "    \"\"\",HORIZON,CONFIDENCE_LEVEL)'''.format(\n",
        "    dataset_id=dataset_id\n",
        ")\n",
        "job = client.query(query)\n",
        "dfforecast = job.to_dataframe()"
      ]
    },
    {
      "cell_type": "markdown",
      "metadata": {
        "id": "1e0549381849"
      },
      "source": [
        "View the first few rows."
      ]
    },
    {
      "cell_type": "code",
      "execution_count": 62,
      "metadata": {
        "id": "83b07f243b72"
      },
      "outputs": [
        {
          "data": {
            "text/html": [
              "<div>\n",
              "<style scoped>\n",
              "    .dataframe tbody tr th:only-of-type {\n",
              "        vertical-align: middle;\n",
              "    }\n",
              "\n",
              "    .dataframe tbody tr th {\n",
              "        vertical-align: top;\n",
              "    }\n",
              "\n",
              "    .dataframe thead th {\n",
              "        text-align: right;\n",
              "    }\n",
              "</style>\n",
              "<table border=\"1\" class=\"dataframe\">\n",
              "  <thead>\n",
              "    <tr style=\"text-align: right;\">\n",
              "      <th></th>\n",
              "      <th>product_id</th>\n",
              "      <th>forecast_timestamp</th>\n",
              "      <th>forecast_value</th>\n",
              "      <th>standard_error</th>\n",
              "      <th>confidence_level</th>\n",
              "      <th>prediction_interval_lower_bound</th>\n",
              "      <th>prediction_interval_upper_bound</th>\n",
              "      <th>confidence_interval_lower_bound</th>\n",
              "      <th>confidence_interval_upper_bound</th>\n",
              "    </tr>\n",
              "  </thead>\n",
              "  <tbody>\n",
              "    <tr>\n",
              "      <th>0</th>\n",
              "      <td>13596</td>\n",
              "      <td>2021-06-02 00:00:00+00:00</td>\n",
              "      <td>0.969759</td>\n",
              "      <td>0.034663</td>\n",
              "      <td>0.9</td>\n",
              "      <td>0.912805</td>\n",
              "      <td>1.026712</td>\n",
              "      <td>0.912805</td>\n",
              "      <td>1.026712</td>\n",
              "    </tr>\n",
              "    <tr>\n",
              "      <th>1</th>\n",
              "      <td>13596</td>\n",
              "      <td>2021-06-03 00:00:00+00:00</td>\n",
              "      <td>1.187734</td>\n",
              "      <td>0.036635</td>\n",
              "      <td>0.9</td>\n",
              "      <td>1.127541</td>\n",
              "      <td>1.247927</td>\n",
              "      <td>1.127541</td>\n",
              "      <td>1.247927</td>\n",
              "    </tr>\n",
              "    <tr>\n",
              "      <th>2</th>\n",
              "      <td>13596</td>\n",
              "      <td>2021-06-04 00:00:00+00:00</td>\n",
              "      <td>1.160429</td>\n",
              "      <td>0.046119</td>\n",
              "      <td>0.9</td>\n",
              "      <td>1.084653</td>\n",
              "      <td>1.236206</td>\n",
              "      <td>1.084653</td>\n",
              "      <td>1.236206</td>\n",
              "    </tr>\n",
              "    <tr>\n",
              "      <th>3</th>\n",
              "      <td>13596</td>\n",
              "      <td>2021-06-05 00:00:00+00:00</td>\n",
              "      <td>1.464286</td>\n",
              "      <td>0.048881</td>\n",
              "      <td>0.9</td>\n",
              "      <td>1.383971</td>\n",
              "      <td>1.544602</td>\n",
              "      <td>1.383971</td>\n",
              "      <td>1.544602</td>\n",
              "    </tr>\n",
              "    <tr>\n",
              "      <th>4</th>\n",
              "      <td>13596</td>\n",
              "      <td>2021-06-06 00:00:00+00:00</td>\n",
              "      <td>1.301718</td>\n",
              "      <td>0.051246</td>\n",
              "      <td>0.9</td>\n",
              "      <td>1.217517</td>\n",
              "      <td>1.385918</td>\n",
              "      <td>1.217517</td>\n",
              "      <td>1.385918</td>\n",
              "    </tr>\n",
              "  </tbody>\n",
              "</table>\n",
              "</div>"
            ],
            "text/plain": [
              "   product_id        forecast_timestamp  forecast_value  standard_error  \\\n",
              "0       13596 2021-06-02 00:00:00+00:00        0.969759        0.034663   \n",
              "1       13596 2021-06-03 00:00:00+00:00        1.187734        0.036635   \n",
              "2       13596 2021-06-04 00:00:00+00:00        1.160429        0.046119   \n",
              "3       13596 2021-06-05 00:00:00+00:00        1.464286        0.048881   \n",
              "4       13596 2021-06-06 00:00:00+00:00        1.301718        0.051246   \n",
              "\n",
              "   confidence_level  prediction_interval_lower_bound  \\\n",
              "0               0.9                         0.912805   \n",
              "1               0.9                         1.127541   \n",
              "2               0.9                         1.084653   \n",
              "3               0.9                         1.383971   \n",
              "4               0.9                         1.217517   \n",
              "\n",
              "   prediction_interval_upper_bound  confidence_interval_lower_bound  \\\n",
              "0                         1.026712                         0.912805   \n",
              "1                         1.247927                         1.127541   \n",
              "2                         1.236206                         1.084653   \n",
              "3                         1.544602                         1.383971   \n",
              "4                         1.385918                         1.217517   \n",
              "\n",
              "   confidence_interval_upper_bound  \n",
              "0                         1.026712  \n",
              "1                         1.247927  \n",
              "2                         1.236206  \n",
              "3                         1.544602  \n",
              "4                         1.385918  "
            ]
          },
          "execution_count": 62,
          "metadata": {},
          "output_type": "execute_result"
        }
      ],
      "source": [
        "dfforecast.head()"
      ]
    },
    {
      "cell_type": "code",
      "execution_count": 63,
      "metadata": {
        "id": "0e01aa3098f8"
      },
      "outputs": [
        {
          "name": "stdout",
          "output_type": "stream",
          "text": [
            "Number of rows: 450\n"
          ]
        }
      ],
      "source": [
        "print(f\"Number of rows: {dfforecast.shape[0]}\")"
      ]
    },
    {
      "cell_type": "markdown",
      "metadata": {
        "id": "6fa36b762a33"
      },
      "source": [
        "Clean the historical and forecasted values for plotting."
      ]
    },
    {
      "cell_type": "code",
      "execution_count": 64,
      "metadata": {
        "id": "073a2dd6a5d3"
      },
      "outputs": [
        {
          "data": {
            "text/plain": [
              "(450, 3)"
            ]
          },
          "execution_count": 64,
          "metadata": {},
          "output_type": "execute_result"
        }
      ],
      "source": [
        "df_historical.sort_values(by=[\"product_id\", \"date\"], inplace=True)\n",
        "dfforecast.sort_values(by=[\"product_id\", \"forecast_timestamp\"], inplace=True)\n",
        "\n",
        "# Select the actual data to plot against the forecasted data\n",
        "day_diff = (new_df[\"date\"] - pd.to_datetime(TRAININGDATA_ENDDATE)).dt.days\n",
        "df_actual_90d = new_df[new_df[\"product_id\"].isin(dfforecast[\"product_id\"].unique())][\n",
        "    (day_diff > 0) & (day_diff <= 90)\n",
        "].copy()\n",
        "df_actual_90d.shape"
      ]
    },
    {
      "cell_type": "markdown",
      "metadata": {
        "id": "d40a95ad0616"
      },
      "source": [
        "Plot the historical and forecast data.\n"
      ]
    },
    {
      "cell_type": "code",
      "execution_count": 65,
      "metadata": {
        "id": "c6845ad425d3"
      },
      "outputs": [
        {
          "name": "stdout",
          "output_type": "stream",
          "text": [
            "Product_id :  13596\n"
          ]
        },
        {
          "data": {
            "image/png": "[encoded data removed]",
            "text/plain": [
              "<Figure size 1080x288 with 1 Axes>"
            ]
          },
          "metadata": {
            "needs_background": "light"
          },
          "output_type": "display_data"
        },
        {
          "name": "stdout",
          "output_type": "stream",
          "text": [
            "Product_id :  20547\n"
          ]
        },
        {
          "data": {
            "image/png": "[encoded data removed]",
            "text/plain": [
              "<Figure size 1080x288 with 1 Axes>"
            ]
          },
          "metadata": {
            "needs_background": "light"
          },
          "output_type": "display_data"
        },
        {
          "name": "stdout",
          "output_type": "stream",
          "text": [
            "Product_id :  20552\n"
          ]
        },
        {
          "data": {
            "image/png": "[encoded data removed]",
            "text/plain": [
              "<Figure size 1080x288 with 1 Axes>"
            ]
          },
          "metadata": {
            "needs_background": "light"
          },
          "output_type": "display_data"
        },
        {
          "name": "stdout",
          "output_type": "stream",
          "text": [
            "Product_id :  23641\n"
          ]
        },
        {
          "data": {
            "image/png": "[encoded data removed]",
            "text/plain": [
              "<Figure size 1080x288 with 1 Axes>"
            ]
          },
          "metadata": {
            "needs_background": "light"
          },
          "output_type": "display_data"
        },
        {
          "name": "stdout",
          "output_type": "stream",
          "text": [
            "Product_id :  28305\n"
          ]
        },
        {
          "data": {
            "image/png": "[encoded data removed]",
            "text/plain": [
              "<Figure size 1080x288 with 1 Axes>"
            ]
          },
          "metadata": {
            "needs_background": "light"
          },
          "output_type": "display_data"
        }
      ],
      "source": [
        "def plot_hist_forecast(\n",
        "    historical, forecast, actual, hist_start=\"\", hist_end=\"\", title=\"\"\n",
        "):\n",
        "    if hist_start != \"\":\n",
        "        historical = historical[\n",
        "            historical[\"date\"] >= pd.to_datetime(hist_start, format=\"%Y-%m-%d\")\n",
        "        ].copy()\n",
        "    if hist_end != \"\":\n",
        "        historical = historical[\n",
        "            historical[\"date\"] <= pd.to_datetime(hist_end, format=\"%Y-%m-%d\")\n",
        "        ].copy()\n",
        "\n",
        "    plt.figure(figsize=(15, 4))\n",
        "    plt.plot(historical[\"date\"], historical[\"sales_count\"], label=\"historical\")\n",
        "    # Plot the forecast data\n",
        "    plt.plot(\n",
        "        forecast[\"forecast_timestamp\"],\n",
        "        forecast[\"forecast_value\"],\n",
        "        label=\"forecast\",\n",
        "        linestyle=\"--\",\n",
        "    )\n",
        "    # Plot the actual data\n",
        "    plt.plot(actual[\"date\"], actual[\"sales_count\"], label=\"actual\")\n",
        "    # plot the confidence interval\n",
        "    confidence_level = forecast[\"confidence_level\"].iloc[0] * 100\n",
        "    low_CI = forecast[\"confidence_interval_lower_bound\"]\n",
        "    upper_CI = forecast[\"confidence_interval_upper_bound\"]\n",
        "\n",
        "    # Shade the confidence interval\n",
        "    plt.fill_between(\n",
        "        forecast[\"forecast_timestamp\"],\n",
        "        low_CI,\n",
        "        upper_CI,\n",
        "        color=\"#539caf\",\n",
        "        alpha=0.4,\n",
        "        label=f\"{confidence_level} confidence interval\",\n",
        "    )\n",
        "    plt.legend()\n",
        "    plt.title(title)\n",
        "    plt.show()\n",
        "    return\n",
        "\n",
        "\n",
        "product_id_list = dfforecast[\"product_id\"].unique()\n",
        "for i in product_id_list:\n",
        "    print(\"Product_id : \", i)\n",
        "    plot_hist_forecast(\n",
        "        df_historical[df_historical[\"product_id\"] == i],\n",
        "        dfforecast[dfforecast[\"product_id\"] == i],\n",
        "        df_actual_90d[df_actual_90d[\"product_id\"] == i],\n",
        "        hist_start=\"2021-02-01\",\n",
        "        title=i,\n",
        "    )"
      ]
    },
    {
      "cell_type": "markdown",
      "metadata": {
        "id": "76b5f6fab0b8"
      },
      "source": [
        "While most of the predictions are looking decent, you can also see that the actual ranges fall into the 90% confidence interval suggested by the model. Under the hood, BigQuery ML performs many computationally expensive tasks even considering the seasonal and holiday information.\n",
        "<img src=\"https://cloud.google.com/bigquery-ml/images/BQ_ARIMA_diagram.png\"> <a href=\"https://cloud.google.com/bigquery-ml/docs/reference/standard-sql/bigqueryml-syntax-create-time-series\"> Source</a> </img>\n",
        "\n",
        "The coefficients learned by BigQuery ML's ARIMA model can also be checked by querying for <a href=\"https://cloud.google.com/bigquery-ml/docs/reference/standard-sql/bigqueryml-syntax-arima-coefficients\">ARIMA_COEFFICIENTS</a> from the model."
      ]
    },
    {
      "cell_type": "markdown",
      "metadata": {
        "id": "934fb81f6ad1"
      },
      "source": [
        "#@bigquery\n",
        "SELECT\n",
        "  *\n",
        "FROM \n",
        "  ML.ARIMA_COEFFICIENTS(MODEL [your-dataset-id].arima_model)"
      ]
    },
    {
      "cell_type": "code",
      "execution_count": 66,
      "metadata": {
        "id": "owAuWLkAp94U"
      },
      "outputs": [],
      "source": [
        "query = \"\"\"\n",
        "SELECT\n",
        "  *\n",
        "FROM \n",
        "  ML.ARIMA_COEFFICIENTS(MODEL {dataset_id}.arima_model)\n",
        "\"\"\".format(\n",
        "    dataset_id=dataset_id\n",
        ")\n",
        "query_job = client.query(query)"
      ]
    },
    {
      "cell_type": "code",
      "execution_count": 67,
      "metadata": {
        "id": "l3xmi8bOp94U"
      },
      "outputs": [
        {
          "data": {
            "text/html": [
              "<div>\n",
              "<style scoped>\n",
              "    .dataframe tbody tr th:only-of-type {\n",
              "        vertical-align: middle;\n",
              "    }\n",
              "\n",
              "    .dataframe tbody tr th {\n",
              "        vertical-align: top;\n",
              "    }\n",
              "\n",
              "    .dataframe thead th {\n",
              "        text-align: right;\n",
              "    }\n",
              "</style>\n",
              "<table border=\"1\" class=\"dataframe\">\n",
              "  <thead>\n",
              "    <tr style=\"text-align: right;\">\n",
              "      <th></th>\n",
              "      <th>product_id</th>\n",
              "      <th>ar_coefficients</th>\n",
              "      <th>ma_coefficients</th>\n",
              "      <th>intercept_or_drift</th>\n",
              "    </tr>\n",
              "  </thead>\n",
              "  <tbody>\n",
              "    <tr>\n",
              "      <th>0</th>\n",
              "      <td>13596</td>\n",
              "      <td>[]</td>\n",
              "      <td>[-0.6579441864382871, 0.4661624653026851, -0.3...</td>\n",
              "      <td>0.000000</td>\n",
              "    </tr>\n",
              "    <tr>\n",
              "      <th>1</th>\n",
              "      <td>20547</td>\n",
              "      <td>[]</td>\n",
              "      <td>[1.6492699303924394, 1.8311024602768262, 1.380...</td>\n",
              "      <td>0.137364</td>\n",
              "    </tr>\n",
              "    <tr>\n",
              "      <th>2</th>\n",
              "      <td>20552</td>\n",
              "      <td>[]</td>\n",
              "      <td>[-0.8406836085377316, -0.2029352402929287, 0.5...</td>\n",
              "      <td>0.000340</td>\n",
              "    </tr>\n",
              "    <tr>\n",
              "      <th>3</th>\n",
              "      <td>23641</td>\n",
              "      <td>[-0.06301263028572254, 0.03531834446433657, -0...</td>\n",
              "      <td>[-0.957691240545688]</td>\n",
              "      <td>0.000000</td>\n",
              "    </tr>\n",
              "    <tr>\n",
              "      <th>4</th>\n",
              "      <td>28305</td>\n",
              "      <td>[1.0061252293894822, -0.09062257317994371, 0.2...</td>\n",
              "      <td>[]</td>\n",
              "      <td>0.153762</td>\n",
              "    </tr>\n",
              "  </tbody>\n",
              "</table>\n",
              "</div>"
            ],
            "text/plain": [
              "   product_id                                    ar_coefficients  \\\n",
              "0       13596                                                 []   \n",
              "1       20547                                                 []   \n",
              "2       20552                                                 []   \n",
              "3       23641  [-0.06301263028572254, 0.03531834446433657, -0...   \n",
              "4       28305  [1.0061252293894822, -0.09062257317994371, 0.2...   \n",
              "\n",
              "                                     ma_coefficients  intercept_or_drift  \n",
              "0  [-0.6579441864382871, 0.4661624653026851, -0.3...            0.000000  \n",
              "1  [1.6492699303924394, 1.8311024602768262, 1.380...            0.137364  \n",
              "2  [-0.8406836085377316, -0.2029352402929287, 0.5...            0.000340  \n",
              "3                               [-0.957691240545688]            0.000000  \n",
              "4                                                 []            0.153762  "
            ]
          },
          "execution_count": 67,
          "metadata": {},
          "output_type": "execute_result"
        }
      ],
      "source": [
        "query_job.to_dataframe()"
      ]
    },
    {
      "cell_type": "markdown",
      "metadata": {
        "id": "f37aa9ddfb8f"
      },
      "source": [
        "In the above results, \n",
        "- The <b>product_id</b> column represents the index column that we've specified while training the ARIMA model.\n",
        "- The <b>ar_coefficients</b> column corresponds to the autoregressive coefficients in the ARIMA algorithm (non-seasonal p).\n",
        "- <b>ma_coefficients</b> refers to the moving average coefficients in the ARIMA algorithm (non-seasonal q).\n",
        "- <b>intercept_or_drift</b> is the constant term in the ARIMA algorithm."
      ]
    },
    {
      "cell_type": "markdown",
      "metadata": {
        "id": "27bf1ef88ea7"
      },
      "source": [
        "## Evaluating the model results using BigQuery ML \n",
        "<a name=\"section-7-subsection-1\"></a>\n",
        "\n",
        "BigQuery ML also provides the <a href=\"https://cloud.google.com/bigquery-ml/docs/reference/standard-sql/bigqueryml-syntax-evaluate\">ML.EVALUATE</a> function for checking the evaluation metrics of the trained model. For the ARIMA model, you can see the model being evaluated on `log_likelihood`, `AIC` and `variance`. "
      ]
    },
    {
      "cell_type": "markdown",
      "metadata": {
        "id": "f4f0ef9b1a04"
      },
      "source": [
        "#@bigquery\n",
        "SELECT\n",
        "  *\n",
        "FROM\n",
        "  ML.EVALUATE(MODEL [your-dataset-id].arima_model)"
      ]
    },
    {
      "cell_type": "code",
      "execution_count": 68,
      "metadata": {
        "id": "CtM-g5ixp94V"
      },
      "outputs": [],
      "source": [
        "query = \"\"\"\n",
        "SELECT\n",
        "  *\n",
        "FROM\n",
        "  ML.EVALUATE(MODEL {dataset_id}.arima_model)\n",
        "\"\"\".format(\n",
        "    dataset_id=dataset_id\n",
        ")\n",
        "query_job = client.query(query)"
      ]
    },
    {
      "cell_type": "code",
      "execution_count": 69,
      "metadata": {
        "id": "JQwOWcgMp94V"
      },
      "outputs": [
        {
          "data": {
            "text/html": [
              "<div>\n",
              "<style scoped>\n",
              "    .dataframe tbody tr th:only-of-type {\n",
              "        vertical-align: middle;\n",
              "    }\n",
              "\n",
              "    .dataframe tbody tr th {\n",
              "        vertical-align: top;\n",
              "    }\n",
              "\n",
              "    .dataframe thead th {\n",
              "        text-align: right;\n",
              "    }\n",
              "</style>\n",
              "<table border=\"1\" class=\"dataframe\">\n",
              "  <thead>\n",
              "    <tr style=\"text-align: right;\">\n",
              "      <th></th>\n",
              "      <th>product_id</th>\n",
              "      <th>non_seasonal_p</th>\n",
              "      <th>non_seasonal_d</th>\n",
              "      <th>non_seasonal_q</th>\n",
              "      <th>has_drift</th>\n",
              "      <th>log_likelihood</th>\n",
              "      <th>AIC</th>\n",
              "      <th>variance</th>\n",
              "      <th>seasonal_periods</th>\n",
              "    </tr>\n",
              "  </thead>\n",
              "  <tbody>\n",
              "    <tr>\n",
              "      <th>0</th>\n",
              "      <td>13596</td>\n",
              "      <td>0</td>\n",
              "      <td>1</td>\n",
              "      <td>5</td>\n",
              "      <td>False</td>\n",
              "      <td>3160.389799</td>\n",
              "      <td>-6308.779598</td>\n",
              "      <td>1.201516e-03</td>\n",
              "      <td>[WEEKLY]</td>\n",
              "    </tr>\n",
              "    <tr>\n",
              "      <th>1</th>\n",
              "      <td>20547</td>\n",
              "      <td>0</td>\n",
              "      <td>0</td>\n",
              "      <td>4</td>\n",
              "      <td>False</td>\n",
              "      <td>3855.257814</td>\n",
              "      <td>-7698.515628</td>\n",
              "      <td>5.120331e-04</td>\n",
              "      <td>[WEEKLY]</td>\n",
              "    </tr>\n",
              "    <tr>\n",
              "      <th>2</th>\n",
              "      <td>20552</td>\n",
              "      <td>0</td>\n",
              "      <td>1</td>\n",
              "      <td>5</td>\n",
              "      <td>True</td>\n",
              "      <td>-44.158078</td>\n",
              "      <td>102.316156</td>\n",
              "      <td>6.129800e-02</td>\n",
              "      <td>[WEEKLY, YEARLY]</td>\n",
              "    </tr>\n",
              "    <tr>\n",
              "      <th>3</th>\n",
              "      <td>23641</td>\n",
              "      <td>4</td>\n",
              "      <td>1</td>\n",
              "      <td>1</td>\n",
              "      <td>False</td>\n",
              "      <td>6822.329345</td>\n",
              "      <td>-13632.658690</td>\n",
              "      <td>1.331273e-05</td>\n",
              "      <td>[WEEKLY]</td>\n",
              "    </tr>\n",
              "    <tr>\n",
              "      <th>4</th>\n",
              "      <td>28305</td>\n",
              "      <td>5</td>\n",
              "      <td>0</td>\n",
              "      <td>0</td>\n",
              "      <td>False</td>\n",
              "      <td>11891.250571</td>\n",
              "      <td>-23768.501143</td>\n",
              "      <td>1.343507e-09</td>\n",
              "      <td>[WEEKLY]</td>\n",
              "    </tr>\n",
              "  </tbody>\n",
              "</table>\n",
              "</div>"
            ],
            "text/plain": [
              "   product_id  non_seasonal_p  non_seasonal_d  non_seasonal_q  has_drift  \\\n",
              "0       13596               0               1               5      False   \n",
              "1       20547               0               0               4      False   \n",
              "2       20552               0               1               5       True   \n",
              "3       23641               4               1               1      False   \n",
              "4       28305               5               0               0      False   \n",
              "\n",
              "   log_likelihood           AIC      variance  seasonal_periods  \n",
              "0     3160.389799  -6308.779598  1.201516e-03          [WEEKLY]  \n",
              "1     3855.257814  -7698.515628  5.120331e-04          [WEEKLY]  \n",
              "2      -44.158078    102.316156  6.129800e-02  [WEEKLY, YEARLY]  \n",
              "3     6822.329345 -13632.658690  1.331273e-05          [WEEKLY]  \n",
              "4    11891.250571 -23768.501143  1.343507e-09          [WEEKLY]  "
            ]
          },
          "execution_count": 69,
          "metadata": {},
          "output_type": "execute_result"
        }
      ],
      "source": [
        "query_job.to_dataframe()"
      ]
    },
    {
      "cell_type": "markdown",
      "metadata": {
        "id": "3be6d3e1607e"
      },
      "source": [
        "## Evaluting the model results - MAE, MAPE, MSE, RMSE (on Test data)\n",
        "<a name=\"section-7-subsection-2\"></a>\n",
        "\n",
        "Generally, to evaluate the forecast model, you can choose metrics depending on how you want to evaluate. For starters, you can choose from the following: \n",
        "* <b>Mean Absolute Error (MAE)</b>: Average of the absolute differences between the actual values and the forecasted values.\n",
        "* <b>Mean Absolute Percentage Error (MAPE)</b>: Average of the percentages of absolute difference between the actual and forecasted values to the actual values.\n",
        "* <b>Mean Squared Error (MSE)</b>: Average of squared differences between the actual and forecasted values.\n",
        "* <b>Root Mean Squared Error (RMSE)</b>: Root of MSE"
      ]
    },
    {
      "cell_type": "code",
      "execution_count": 70,
      "metadata": {
        "id": "d78abc6aee46"
      },
      "outputs": [],
      "source": [
        "df_actual_90d.sort_values(by=[\"product_id\", \"date\"], inplace=True)\n",
        "df_actual_90d.reset_index(drop=True, inplace=True)\n",
        "dfforecast.sort_values(by=[\"product_id\", \"forecast_timestamp\"], inplace=True)\n",
        "dfforecast.reset_index(drop=True, inplace=True)"
      ]
    },
    {
      "cell_type": "code",
      "execution_count": 71,
      "metadata": {
        "id": "132bb1acdd75"
      },
      "outputs": [
        {
          "data": {
            "text/html": [
              "<div>\n",
              "<style scoped>\n",
              "    .dataframe tbody tr th:only-of-type {\n",
              "        vertical-align: middle;\n",
              "    }\n",
              "\n",
              "    .dataframe tbody tr th {\n",
              "        vertical-align: top;\n",
              "    }\n",
              "\n",
              "    .dataframe thead th {\n",
              "        text-align: right;\n",
              "    }\n",
              "</style>\n",
              "<table border=\"1\" class=\"dataframe\">\n",
              "  <thead>\n",
              "    <tr style=\"text-align: right;\">\n",
              "      <th></th>\n",
              "      <th>product_id</th>\n",
              "      <th>MAE</th>\n",
              "      <th>MAPE</th>\n",
              "      <th>MSE</th>\n",
              "      <th>RMSE</th>\n",
              "    </tr>\n",
              "  </thead>\n",
              "  <tbody>\n",
              "    <tr>\n",
              "      <th>0</th>\n",
              "      <td>13596</td>\n",
              "      <td>0.918107</td>\n",
              "      <td>2.942852e+15</td>\n",
              "      <td>1.220862</td>\n",
              "      <td>1.104926</td>\n",
              "    </tr>\n",
              "    <tr>\n",
              "      <th>1</th>\n",
              "      <td>20547</td>\n",
              "      <td>0.511362</td>\n",
              "      <td>5.422804e+14</td>\n",
              "      <td>0.588841</td>\n",
              "      <td>0.767360</td>\n",
              "    </tr>\n",
              "    <tr>\n",
              "      <th>2</th>\n",
              "      <td>20552</td>\n",
              "      <td>0.863320</td>\n",
              "      <td>1.000032e+15</td>\n",
              "      <td>1.421532</td>\n",
              "      <td>1.192280</td>\n",
              "    </tr>\n",
              "    <tr>\n",
              "      <th>3</th>\n",
              "      <td>23641</td>\n",
              "      <td>0.554194</td>\n",
              "      <td>5.825153e+13</td>\n",
              "      <td>0.696390</td>\n",
              "      <td>0.834500</td>\n",
              "    </tr>\n",
              "    <tr>\n",
              "      <th>4</th>\n",
              "      <td>28305</td>\n",
              "      <td>0.647510</td>\n",
              "      <td>3.011932e+14</td>\n",
              "      <td>0.781854</td>\n",
              "      <td>0.884225</td>\n",
              "    </tr>\n",
              "  </tbody>\n",
              "</table>\n",
              "</div>"
            ],
            "text/plain": [
              "   product_id       MAE          MAPE       MSE      RMSE\n",
              "0       13596  0.918107  2.942852e+15  1.220862  1.104926\n",
              "1       20547  0.511362  5.422804e+14  0.588841  0.767360\n",
              "2       20552  0.863320  1.000032e+15  1.421532  1.192280\n",
              "3       23641  0.554194  5.825153e+13  0.696390  0.834500\n",
              "4       28305  0.647510  3.011932e+14  0.781854  0.884225"
            ]
          },
          "execution_count": 71,
          "metadata": {},
          "output_type": "execute_result"
        }
      ],
      "source": [
        "errors = {\"product_id\": [], \"MAE\": [], \"MAPE\": [], \"MSE\": [], \"RMSE\": []}\n",
        "for i in product_id_list:\n",
        "    mae = mean_absolute_error(\n",
        "        df_actual_90d[df_actual_90d[\"product_id\"] == i][\"sales_count\"],\n",
        "        dfforecast[dfforecast[\"product_id\"] == i][\"forecast_value\"],\n",
        "    )\n",
        "    mape = mean_absolute_percentage_error(\n",
        "        df_actual_90d[df_actual_90d[\"product_id\"] == i][\"sales_count\"],\n",
        "        dfforecast[dfforecast[\"product_id\"] == i][\"forecast_value\"],\n",
        "    )\n",
        "\n",
        "    mse = mean_squared_error(\n",
        "        df_actual_90d[df_actual_90d[\"product_id\"] == i][\"sales_count\"],\n",
        "        dfforecast[dfforecast[\"product_id\"] == i][\"forecast_value\"],\n",
        "        squared=True,\n",
        "    )\n",
        "\n",
        "    rmse = mean_squared_error(\n",
        "        df_actual_90d[df_actual_90d[\"product_id\"] == i][\"sales_count\"],\n",
        "        dfforecast[dfforecast[\"product_id\"] == i][\"forecast_value\"],\n",
        "        squared=False,\n",
        "    )\n",
        "\n",
        "    errors[\"product_id\"].append(i)\n",
        "    errors[\"MAE\"].append(mae)\n",
        "    errors[\"MAPE\"].append(mape)\n",
        "    errors[\"MSE\"].append(mse)\n",
        "    errors[\"RMSE\"].append(rmse)\n",
        "errors = pd.DataFrame(errors)\n",
        "errors"
      ]
    },
    {
      "cell_type": "markdown",
      "metadata": {
        "id": "d84da670e5ae"
      },
      "source": [
        "From the values obtained for these error measures, it looks like product ID 20552's 13,596's error measures are high. Note that these error measures are an aggregate of all the individual forecasts made during the test period and so reflect an overall picture of the model's performance over the selected period. Ideally, the lower these error measures, the better the model is at forecasting."
      ]
    },
    {
      "cell_type": "markdown",
      "metadata": {
        "id": "56105a7f9a46"
      },
      "source": [
        "## Executor feature in managed instances\n",
        "<a name=\"section-8\"></a>\n",
        "\n",
        "If you are using managed instances, along the top toolbar, above your notebook, click the **Executor** button."
      ]
    },
    {
      "cell_type": "markdown",
      "metadata": {
        "id": "942c4866b758"
      },
      "source": [
        "<img src=\"images/navbar_exe.png\" ></img>\n"
      ]
    },
    {
      "cell_type": "markdown",
      "metadata": {
        "id": "31dba6ec2c0e"
      },
      "source": [
        "Give the execution a name. Select the **Cloud Storage bucket**, **Machine type**, and **Accelerator type**. For the **Environment**, select **Python 3**."
      ]
    },
    {
      "cell_type": "markdown",
      "metadata": {
        "id": "4a56743fe76f"
      },
      "source": [
        "<img src=\"images/exe_form.png\" style=\"width:500px\"></img>\n"
      ]
    },
    {
      "cell_type": "markdown",
      "metadata": {
        "id": "af652028084a"
      },
      "source": [
        "<img src=\"images/python3_env_selection.png\" style=\"width:500px\"></img>\n"
      ]
    },
    {
      "cell_type": "markdown",
      "metadata": {
        "id": "0d37a2baf139"
      },
      "source": [
        "In the **Type** menu, you can select schedule-based recurring executions if you want to schedule the execution to run on an interval, such as one hour."
      ]
    },
    {
      "cell_type": "markdown",
      "metadata": {
        "id": "c1981e3e49db"
      },
      "source": [
        "<img src=\"images/schedule.png\" style=\"height:200px;\"></img>\n"
      ]
    },
    {
      "cell_type": "markdown",
      "metadata": {
        "id": "791a0bfc0cb9"
      },
      "source": [
        "You can see the history of your executions by clicking the **Notebook Executor** button, on the left sidebar. It looks like a calendar icon."
      ]
    },
    {
      "cell_type": "markdown",
      "metadata": {
        "id": "e898ff47f952"
      },
      "source": [
        "<img src=\"images/side_nav.png\" style=\"height:500px;\"></img>\n"
      ]
    },
    {
      "cell_type": "markdown",
      "metadata": {
        "id": "3eb4d9d73c57"
      },
      "source": [
        "You can see execution history on the **Executions** tab."
      ]
    },
    {
      "cell_type": "markdown",
      "metadata": {
        "id": "45447f8e1cc0"
      },
      "source": [
        "<img src=\"images/list_execution.png\" style=\"width:500px\"></img>\n"
      ]
    },
    {
      "cell_type": "markdown",
      "metadata": {
        "id": "cb08d55eaec1"
      },
      "source": [
        "You can see your active schedules on the **Schedules** tab."
      ]
    },
    {
      "cell_type": "markdown",
      "metadata": {
        "id": "8c32707e57e4"
      },
      "source": [
        "<img src=\"images/list_schedule.png\" style=\"width:500px\"></img>\n"
      ]
    },
    {
      "cell_type": "markdown",
      "metadata": {
        "id": "23ee85f65a0b"
      },
      "source": [
        "## Clean up\n",
        "<a name=\"section-9\"></a>\n",
        "\n",
        "\n",
        "To clean up all Google Cloud resources used in this project, you can [delete the Google Cloud\n",
        "project](https://cloud.google.com/resource-manager/docs/creating-managing-projects#shutting_down_projects) you used for the tutorial.\n",
        "\n",
        "Otherwise, you can delete the individual resources you created in this tutorial. The following code deletes the entire dataset.\n"
      ]
    },
    {
      "cell_type": "code",
      "execution_count": 72,
      "metadata": {
        "id": "8b70ac0dc210"
      },
      "outputs": [
        {
          "name": "stdout",
          "output_type": "stream",
          "text": [
            "Deleted dataset 'demandforecasting_20220808064954'.\n"
          ]
        }
      ],
      "source": [
        "# Set dataset variable to the ID of the dataset to fetch.\n",
        "dataset = f\"{PROJECT_ID}.{dataset_id}\"\n",
        "\n",
        "# Use the delete_contents parameter to delete a dataset and its contents.\n",
        "# Use the not_found_ok parameter to not receive an error if the dataset has already been deleted.\n",
        "client.delete_dataset(\n",
        "    dataset_id, delete_contents=True, not_found_ok=True\n",
        ")  # Make an API request.\n",
        "\n",
        "print(\"Deleted dataset '{}'.\".format(dataset_id))"
      ]
    }
  ],
  "metadata": {
    "colab": {
      "name": "forecasting-retail-demand.ipynb",
      "toc_visible": true
    },
    "kernelspec": {
      "display_name": "Python 3",
      "name": "python3"
    }
  },
  "nbformat": 4,
  "nbformat_minor": 0
}
