{
  "cells": [
    {
      "cell_type": "code",
      "execution_count": 1,
      "metadata": {
        "id": "ur8xi4C7S06n"
      },
      "outputs": [],
      "source": [
        "# Copyright 2022 Google LLC\n",
        "#\n",
        "# Licensed under the Apache License, Version 2.0 (the \"License\");\n",
        "# you may not use this file except in compliance with the License.\n",
        "# You may obtain a copy of the License at\n",
        "#\n",
        "#     https://www.apache.org/licenses/LICENSE-2.0\n",
        "#\n",
        "# Unless required by applicable law or agreed to in writing, software\n",
        "# distributed under the License is distributed on an \"AS IS\" BASIS,\n",
        "# WITHOUT WARRANTIES OR CONDITIONS OF ANY KIND, either express or implied.\n",
        "# See the License for the specific language governing permissions and\n",
        "# limitations under the License."
      ]
    },
    {
      "cell_type": "markdown",
      "source": [
        "# Interactive exploratory analysis of BigQuery data in a notebook"
      ],
      "metadata": {
        "id": "el0MEIaIsZqq"
      }
    },
    {
      "cell_type": "markdown",
      "metadata": {
        "id": "JAPoU8Sm5E6e"
      },
      "source": [
        "<table align=\"left\">\n",
        "\n",
        "  <td>\n",
        "    <a href=\"https://colab.research.google.com/github/GoogleCloudPlatform/vertex-ai-samples/blob/main/notebooks/official/workbench/exploratory_data_analysis/explore_data_in_bigquery_with_workbench.ipynb\">\n",
        "      <img src=\"https://cloud.google.com/ml-engine/images/colab-logo-32px.png\" alt=\"Colab logo\"> Run in Colab\n",
        "    </a>\n",
        "  </td>\n",
        "  <td>\n",
        "    <a href=\"https://github.com/GoogleCloudPlatform/vertex-ai-samples/blob/main/notebooks/official/workbench/exploratory_data_analysis/explore_data_in_bigquery_with_workbench.ipynb\">\n",
        "      <img src=\"https://cloud.google.com/ml-engine/images/github-logo-32px.png\" alt=\"GitHub logo\">\n",
        "      View on GitHub\n",
        "    </a>\n",
        "  </td>\n",
        "  <td>\n",
        "    <a href=\"https://console.cloud.google.com/vertex-ai/workbench/deploy-notebook?download_url=https://raw.githubusercontent.com/GoogleCloudPlatform/vertex-ai-samples/blob/main/notebooks/official/workbench/exploratory_data_analysis/explore_data_in_bigquery_with_workbench.ipynb\">\n",
        "      <img src=\"https://lh3.googleusercontent.com/UiNooY4LUgW_oTvpsNhPpQzsstV5W8F7rYgxgGBD85cWJoLmrOzhVs_ksK_vgx40SHs7jCqkTkCk=e14-rj-sc0xffffff-h130-w32\" alt=\"Vertex AI logo\">\n",
        "      Open in Vertex AI Workbench\n",
        "    </a>\n",
        "  </td>                                                                                               \n",
        "</table>"
      ]
    },
    {
      "cell_type": "markdown",
      "metadata": {
        "id": "tvgnzT1CKxrO"
      },
      "source": [
        "## Overview\n",
        "\n",
        "This notebook is targeted toward data analysts and data scientists who have data in BigQuery and want to perform exploratory data analysis to gather insights from that data in an interactive environment.\n",
        "\n",
        "### Objective\n",
        "\n",
        "In this tutorial, you learn about various ways to explore and gain insights from BigQuery data in a Jupyter notebook environment.\n",
        "\n",
        "This tutorial uses the following Google Cloud data analytics and ML services:\n",
        "\n",
        "- BigQuery\n",
        "- Vertex AI Workbench (optional, this can also be run in other places like [Colab](https://colab.sandbox.google.com/))\n",
        "\n",
        "The steps performed include:\n",
        "\n",
        "- Using Python & SQL to query public data in BigQuery\n",
        "- Exploring the dataset using BigQuery INFORMATION_SCHEMA\n",
        "- Creating interactive elements to help explore interesting parts of the data\n",
        "- Doing some exploratory correlation and time series analysis\n",
        "- Creating static and interactive outputs (data tables and plots) in the notebook\n",
        "- Saving some outputs to Cloud Storage\n",
        "\n",
        "### Dataset\n",
        "\n",
        "The dataset, [available publicly on BigQuery](https://console.cloud.google.com/bigquery?project=bigquery-public-data&d=ga4_obfuscated_sample_ecommerce&p=bigquery-public-data&page=dataset), comes from obfuscated [Google Analytics 4 (GA4) data](https://developers.google.com/analytics/bigquery/web-ecommerce-demo-dataset) from the Google Merchandise Store.\n",
        "\n",
        "### Costs \n",
        "\n",
        "This tutorial uses billable components of Google Cloud:\n",
        "\n",
        "* BigQuery\n",
        "* Vertex AI (optional)\n",
        "* Cloud Storage\n",
        "\n",
        "Learn about [BigQuery Pricing](https://cloud.google.com/bigquery/pricing), [Vertex AI\n",
        "pricing](https://cloud.google.com/vertex-ai/pricing), and [Cloud Storage pricing](https://cloud.google.com/storage/pricing)\n",
        "to generate a cost estimate based on your projected usage."
      ]
    },
    {
      "cell_type": "markdown",
      "metadata": {
        "id": "ze4-nDLfK4pw"
      },
      "source": [
        "### Set up your local development environment\n",
        "\n",
        "**If you are using Colab or Vertex AI Workbench Notebooks**, your environment already meets\n",
        "all the requirements to run this notebook. You can skip this step."
      ]
    },
    {
      "cell_type": "markdown",
      "metadata": {
        "id": "gCuSR8GkAgzl"
      },
      "source": [
        "**Otherwise**, make sure your environment meets this notebook's requirements.\n",
        "You need the following:\n",
        "\n",
        "* The Google Cloud SDK\n",
        "* Git\n",
        "* Python 3\n",
        "* virtualenv\n",
        "* Jupyter notebook running in a virtual environment with Python 3\n",
        "\n",
        "The Google Cloud guide to [Setting up a Python development\n",
        "environment](https://cloud.google.com/python/setup) and the [Jupyter\n",
        "installation guide](https://jupyter.org/install) provide detailed instructions\n",
        "for meeting these requirements. The following steps provide a condensed set of\n",
        "instructions:\n",
        "\n",
        "1. [Install and initialize the Cloud SDK.](https://cloud.google.com/sdk/docs/)\n",
        "\n",
        "1. [Install Python 3.](https://cloud.google.com/python/setup#installing_python)\n",
        "\n",
        "1. [Install\n",
        "   virtualenv](https://cloud.google.com/python/setup#installing_and_using_virtualenv)\n",
        "   and create a virtual environment that uses Python 3. Activate the virtual environment.\n",
        "\n",
        "1. To install Jupyter, run `pip3 install jupyter` on the\n",
        "command-line in a terminal shell.\n",
        "\n",
        "1. To launch Jupyter, run `jupyter notebook` on the command-line in a terminal shell.\n",
        "\n",
        "1. Open this notebook in the Jupyter Notebook Dashboard."
      ]
    },
    {
      "cell_type": "markdown",
      "metadata": {
        "id": "i7EUnXsZhAGF"
      },
      "source": [
        "### Install additional packages\n",
        "\n",
        "Install and/or upgrade the following packages required to execute this notebook. "
      ]
    },
    {
      "cell_type": "code",
      "execution_count": 2,
      "metadata": {
        "id": "2b4ef9b72d43"
      },
      "outputs": [],
      "source": [
        "import os\n",
        "\n",
        "# The Vertex AI Workbench Notebook product has specific requirements\n",
        "IS_WORKBENCH_NOTEBOOK = os.getenv(\"DL_ANACONDA_HOME\")\n",
        "IS_USER_MANAGED_WORKBENCH_NOTEBOOK = os.path.exists(\n",
        "    \"/opt/deeplearning/metadata/env_version\"\n",
        ")\n",
        "\n",
        "# Vertex AI Notebook requires dependencies to be installed with '--user'\n",
        "USER_FLAG = \"\"\n",
        "if IS_WORKBENCH_NOTEBOOK:\n",
        "    USER_FLAG = \"--user\"\n",
        "\n",
        "# Install/upgrade Vertex AI (\"aiplatform\") library\n",
        "! pip3 install --upgrade google-cloud-aiplatform {USER_FLAG} -q\n",
        "\n",
        "# Install/upgrade BigQuery storage library\n",
        "! pip3 install --upgrade google-cloud-bigquery-storage {USER_FLAG} -q\n",
        "\n",
        "# Install ipywidgets to use interactive widgets in notebooks\n",
        "! pip3 install --upgrade ipywidgets {USER_FLAG} -q\n",
        "\n",
        "# Install itables to use interactive tables in notebooks\n",
        "! pip3 install --upgrade itables {USER_FLAG} -q\n",
        "\n",
        "# Install kaleido to save plotly images as static files\n",
        "! pip3 install --upgrade kaleido {USER_FLAG} -q"
      ]
    },
    {
      "cell_type": "markdown",
      "metadata": {
        "id": "hhq5zEbGg0XX"
      },
      "source": [
        "### Restart the kernel\n",
        "\n",
        "After you install the additional packages, you need to restart the notebook kernel so it can find the packages."
      ]
    },
    {
      "cell_type": "code",
      "execution_count": 3,
      "metadata": {
        "id": "EzrelQZ22IZj"
      },
      "outputs": [],
      "source": [
        "# Automatically restart kernel after installs\n",
        "import os\n",
        "\n",
        "if not os.getenv(\"IS_TESTING\"):\n",
        "    import IPython\n",
        "\n",
        "    app = IPython.Application.instance()\n",
        "    app.kernel.do_shutdown(True)"
      ]
    },
    {
      "cell_type": "markdown",
      "source": [
        "After running the cell above, you may see a message pop up that says:\n",
        "\n",
        "\"The kernel for [your_notebook_name].ipynb appears to have died. It will restart automatically.\" (in Vertex AI Workbench)\n",
        "\n",
        "OR\n",
        "\n",
        "\"Your session crashed for an unknown reason.\" (in Colab)\n",
        "\n",
        "These are both expected, just wait for the kernel to reset and then proceed with running the cells below."
      ],
      "metadata": {
        "id": "TEQmXjlJ2ozG"
      }
    },
    {
      "cell_type": "markdown",
      "metadata": {
        "id": "lWEdiXsJg0XY"
      },
      "source": [
        "## Before you begin"
      ]
    },
    {
      "cell_type": "markdown",
      "metadata": {
        "id": "BF1j6f9HApxa"
      },
      "source": [
        "### Set up your Google Cloud project\n",
        "\n",
        "**The following steps are required, regardless of your notebook environment.**\n",
        "\n",
        "1. [Select or create a Google Cloud project](https://console.cloud.google.com/cloud-resource-manager). When you first create an account, you get a $300 free credit towards your compute/storage costs.\n",
        "\n",
        "1. [Make sure that billing is enabled for your project](https://cloud.google.com/billing/docs/how-to/modify-project).\n",
        "\n",
        "1. [Enable the Vertex AI API](https://console.cloud.google.com/flows/enableapi?apiid=aiplatform.googleapis.com). \n",
        "\n",
        "1. If you are running this notebook locally, you will need to install the [Cloud SDK](https://cloud.google.com/sdk).\n",
        "\n",
        "1. Enter your project ID in the cell below. Then run the cell to make sure the\n",
        "Cloud SDK uses the right project for all the commands in this notebook.\n",
        "\n",
        "**Note**: Jupyter runs lines prefixed with `!` as shell commands, and it interpolates Python variables prefixed with `$` into these commands."
      ]
    },
    {
      "cell_type": "markdown",
      "metadata": {
        "id": "WReHDGG5g0XY"
      },
      "source": [
        "#### Set your project ID\n",
        "\n",
        "**If you don't know your project ID**, you may be able to get your project ID using `gcloud`."
      ]
    },
    {
      "cell_type": "code",
      "execution_count": 1,
      "metadata": {
        "id": "oM1iC_MfAts1",
        "colab": {
          "base_uri": "https://localhost:8080/"
        },
        "outputId": "87a6e0c6-4e3b-4d7b-deac-962222e9cd87"
      },
      "outputs": [
        {
          "output_type": "stream",
          "name": "stdout",
          "text": [
            "Project ID:  gcp-data-science-demo\n"
          ]
        }
      ],
      "source": [
        "PROJECT_ID = \"\"\n",
        "\n",
        "import os\n",
        "\n",
        "# Get your Google Cloud project ID from gcloud\n",
        "if not os.getenv(\"IS_TESTING\"):\n",
        "    shell_output = !gcloud config list --format 'value(core.project)' 2>/dev/null\n",
        "    PROJECT_ID = shell_output[0]\n",
        "    print(\"Project ID: \", PROJECT_ID)"
      ]
    },
    {
      "cell_type": "markdown",
      "metadata": {
        "id": "qJYoRfYng0XZ"
      },
      "source": [
        "Otherwise, set your project ID here."
      ]
    },
    {
      "cell_type": "code",
      "execution_count": 2,
      "metadata": {
        "id": "riG_qUokg0XZ"
      },
      "outputs": [],
      "source": [
        "if PROJECT_ID == \"\" or PROJECT_ID is None:\n",
        "    PROJECT_ID = \"gcp-data-science-demo\"  # @param {type:\"string\"}"
      ]
    },
    {
      "cell_type": "code",
      "execution_count": 3,
      "metadata": {
        "id": "set_gcloud_project_id",
        "colab": {
          "base_uri": "https://localhost:8080/"
        },
        "outputId": "fb1c200e-1555-4559-f496-2cf5a59ef116"
      },
      "outputs": [
        {
          "output_type": "stream",
          "name": "stdout",
          "text": [
            "Updated property [core/project].\n"
          ]
        }
      ],
      "source": [
        "! gcloud config set project $PROJECT_ID"
      ]
    },
    {
      "cell_type": "markdown",
      "metadata": {
        "id": "region"
      },
      "source": [
        "#### Region\n",
        "\n",
        "You can also change the `REGION` variable, which is used for operations\n",
        "throughout the rest of this notebook.  Below are regions supported for Vertex AI. We recommend that you choose the region closest to you.\n",
        "\n",
        "- Americas: `us-central1`\n",
        "- Europe: `europe-west4`\n",
        "- Asia Pacific: `asia-east1`\n",
        "\n",
        "You may not use a multi-regional bucket for training with Vertex AI. Not all regions provide support for all Vertex AI services.\n",
        "\n",
        "Learn more about [Vertex AI regions](https://cloud.google.com/vertex-ai/docs/general/locations)."
      ]
    },
    {
      "cell_type": "code",
      "execution_count": 4,
      "metadata": {
        "id": "of-Pgp7KYjda"
      },
      "outputs": [],
      "source": [
        "REGION = \"[your-region]\"  # @param {type: \"string\"}\n",
        "\n",
        "if REGION == \"[your-region]\":\n",
        "    REGION = \"us-central1\""
      ]
    },
    {
      "cell_type": "markdown",
      "metadata": {
        "id": "06571eb4063b"
      },
      "source": [
        "#### UUID\n",
        "\n",
        "If you are in a live tutorial session, you might be using a shared test account or project. To avoid name collisions between users on resources created, you create a uuid for each instance session, and append it onto the name of resources you create in this tutorial."
      ]
    },
    {
      "cell_type": "code",
      "execution_count": 5,
      "metadata": {
        "id": "697568e92bd6"
      },
      "outputs": [],
      "source": [
        "import random\n",
        "import string\n",
        "\n",
        "\n",
        "# Generate a uuid of a specifed length(default=8)\n",
        "def generate_uuid(length: int = 8) -> str:\n",
        "    return \"\".join(random.choices(string.ascii_lowercase + string.digits,\n",
        "                                  k=length))\n",
        "\n",
        "\n",
        "UUID = generate_uuid()"
      ]
    },
    {
      "cell_type": "markdown",
      "metadata": {
        "id": "dr--iN2kAylZ"
      },
      "source": [
        "### Authenticate your Google Cloud account\n",
        "\n",
        "**If you are using Vertex AI Workbench Notebooks**, your environment is already\n",
        "authenticated. Skip this step."
      ]
    },
    {
      "cell_type": "markdown",
      "metadata": {
        "id": "sBCra4QMA2wR"
      },
      "source": [
        "**If you are using Colab**, run the cell below and follow the instructions\n",
        "when prompted to authenticate your account via oAuth.\n",
        "\n",
        "**Otherwise**, follow these steps:\n",
        "\n",
        "1. In the Cloud Console, go to the [**Create service account key**\n",
        "   page](https://console.cloud.google.com/apis/credentials/serviceaccountkey).\n",
        "\n",
        "2. Click **Create service account**.\n",
        "\n",
        "3. In the **Service account name** field, enter a name, and\n",
        "   click **Create**.\n",
        "\n",
        "4. In the **Grant this service account access to project** section, click the **Role** drop-down list. Type \"Vertex AI\"\n",
        "into the filter box, and select\n",
        "   **Vertex AI Administrator**. Type \"Storage Object Admin\" into the filter box, and select **Storage Object Admin**.\n",
        "\n",
        "5. Click *Create*. A JSON file that contains your key downloads to your\n",
        "local environment.\n",
        "\n",
        "6. Enter the path to your service account key as the\n",
        "`GOOGLE_APPLICATION_CREDENTIALS` variable in the cell below and run the cell."
      ]
    },
    {
      "cell_type": "code",
      "execution_count": 6,
      "metadata": {
        "id": "PyQmSRbKA8r-"
      },
      "outputs": [],
      "source": [
        "# If you are running this notebook in Colab, run this cell and follow the\n",
        "# instructions to authenticate your GCP account. This provides access to your\n",
        "# Cloud Storage bucket and lets you submit training jobs and prediction\n",
        "# requests.\n",
        "\n",
        "import os\n",
        "import sys\n",
        "\n",
        "# If on Vertex AI Workbench, then don't execute this code\n",
        "IS_COLAB = \"google.colab\" in sys.modules\n",
        "if not os.path.exists(\"/opt/deeplearning/metadata/env_version\") and not os.getenv(\n",
        "    \"DL_ANACONDA_HOME\"\n",
        "):\n",
        "    if \"google.colab\" in sys.modules:\n",
        "        from google.colab import auth as google_auth\n",
        "\n",
        "        google_auth.authenticate_user()\n",
        "\n",
        "    # If you are running this notebook locally, replace the string below with the\n",
        "    # path to your service account key and run this cell to authenticate your GCP\n",
        "    # account.\n",
        "    elif not os.getenv(\"IS_TESTING\"):\n",
        "        %env GOOGLE_APPLICATION_CREDENTIALS ''"
      ]
    },
    {
      "cell_type": "markdown",
      "metadata": {
        "id": "zgPO1eR3CYjk"
      },
      "source": [
        "### Create a Cloud Storage bucket\n",
        "\n",
        "**The following steps are required, regardless of your notebook environment.**\n",
        "\n",
        "\n",
        "In this tutorial, you'll use a Cloud Storage bucket to save off some of the outputs from your exploratory data analysis.\n",
        "\n",
        "Set the name of your Cloud Storage bucket below. It must be unique across all Cloud Storage buckets."
      ]
    },
    {
      "cell_type": "code",
      "execution_count": 7,
      "metadata": {
        "id": "MzGDU7TWdts_"
      },
      "outputs": [],
      "source": [
        "BUCKET_NAME = \"[your-bucket-name]\"  # @param {type:\"string\"}\n",
        "BUCKET_URI = f\"gs://{BUCKET_NAME}\""
      ]
    },
    {
      "cell_type": "markdown",
      "source": [
        "If you didn't set a Cloud Storage bucket name above, the following cell auto-creates a bucket name based off your project ID and the UUID you previously generated."
      ],
      "metadata": {
        "id": "FZzVCix08T6w"
      }
    },
    {
      "cell_type": "code",
      "execution_count": 8,
      "metadata": {
        "id": "cf221059d072"
      },
      "outputs": [],
      "source": [
        "if BUCKET_NAME == \"\" or BUCKET_NAME is None or BUCKET_NAME == \"[your-bucket-name]\":\n",
        "    BUCKET_NAME = PROJECT_ID + \"aip-\" + UUID\n",
        "    BUCKET_URI = f\"gs://{BUCKET_NAME}\""
      ]
    },
    {
      "cell_type": "markdown",
      "metadata": {
        "id": "-EcIXiGsCePi"
      },
      "source": [
        "**Only if your bucket doesn't already exist**: Run the following cell to create your Cloud Storage bucket."
      ]
    },
    {
      "cell_type": "code",
      "execution_count": 9,
      "metadata": {
        "id": "NIq7R4HZCfIc",
        "colab": {
          "base_uri": "https://localhost:8080/"
        },
        "outputId": "bb135e1f-a826-45a0-b654-3aa792f1b731"
      },
      "outputs": [
        {
          "output_type": "stream",
          "name": "stdout",
          "text": [
            "Creating gs://gcp-data-science-demoaip-6d7qwfr8/...\n"
          ]
        }
      ],
      "source": [
        "! gsutil mb -l $REGION -p $PROJECT_ID $BUCKET_URI"
      ]
    },
    {
      "cell_type": "markdown",
      "metadata": {
        "id": "ucvCsknMCims"
      },
      "source": [
        "Finally, validate access to your Cloud Storage bucket by examining its contents:"
      ]
    },
    {
      "cell_type": "code",
      "execution_count": 10,
      "metadata": {
        "id": "vhOb7YnwClBb"
      },
      "outputs": [],
      "source": [
        "! gsutil ls -al $BUCKET_URI"
      ]
    },
    {
      "cell_type": "markdown",
      "metadata": {
        "id": "XoEqT2Y4DJmf"
      },
      "source": [
        "### Import libraries and configure some options"
      ]
    },
    {
      "cell_type": "code",
      "execution_count": 11,
      "metadata": {
        "id": "pRUOFELefqf1"
      },
      "outputs": [],
      "source": [
        "# Import AI Platform library as Vertex AI\n",
        "from google.cloud import aiplatform as vertex_ai\n",
        "\n",
        "# Import Exceptions library to help with error catching\n",
        "from google.cloud.exceptions import BadRequest\n",
        "\n",
        "# Import BigQuery library\n",
        "from google.cloud import bigquery\n",
        "\n",
        "# Import IPython display utilities\n",
        "from IPython.display import clear_output\n",
        "\n",
        "# Import particular interactive capabilities\n",
        "from ipywidgets import interact\n",
        "\n",
        "# Import library to enable some interactive widgets\n",
        "import ipywidgets as widgets\n",
        "\n",
        "# Import options from itables separately\n",
        "import itables.options as itable_opts\n",
        "\n",
        "# Import basic Python data science libraries\n",
        "import numpy as np\n",
        "import pandas as pd\n",
        "\n",
        "# Import plotly express for quick plots\n",
        "import plotly.express as px\n",
        "\n",
        "# Import itables for interactive tables\n",
        "from itables import show"
      ]
    },
    {
      "cell_type": "code",
      "source": [
        "# Configure some options related to interactive tables\n",
        "itable_opts.maxBytes = 1E9\n",
        "itable_opts.maxColumns = 50\n",
        "\n",
        "itable_opts.order = []\n",
        "itable_opts.column_filters = 'header'"
      ],
      "metadata": {
        "id": "50RUw1EPcjCE"
      },
      "execution_count": 12,
      "outputs": []
    },
    {
      "cell_type": "markdown",
      "metadata": {
        "id": "init_aip:mbsdk,all"
      },
      "source": [
        "### Prepare Vertex AI and BigQuery for usage\n",
        "\n",
        "Initialize the Vertex AI SDK for Python for your project and set up BigQuery for use with your project in this notebook."
      ]
    },
    {
      "cell_type": "code",
      "execution_count": 13,
      "metadata": {
        "id": "Ftit2FwIYjdd"
      },
      "outputs": [],
      "source": [
        "vertex_ai.init(project=PROJECT_ID, location=REGION, staging_bucket=BUCKET_URI)"
      ]
    },
    {
      "cell_type": "markdown",
      "metadata": {
        "id": "wuyuY1pwYjdd"
      },
      "source": [
        "Create the BigQuery client."
      ]
    },
    {
      "cell_type": "code",
      "execution_count": 14,
      "metadata": {
        "id": "J5qNEtzFYjde"
      },
      "outputs": [],
      "source": [
        "bq_client = bigquery.Client(project=PROJECT_ID)"
      ]
    },
    {
      "cell_type": "markdown",
      "metadata": {
        "id": "nuaFz0WfYjde"
      },
      "source": [
        "Create a helper function for sending queries to BigQuery. You use this multiple times in the sections below."
      ]
    },
    {
      "cell_type": "code",
      "execution_count": 15,
      "metadata": {
        "id": "S9lT5MZYYjde"
      },
      "outputs": [],
      "source": [
        "# Wrapper to use BigQuery client to run query/job, return job ID or result as DF    \n",
        "def bq_query(sql, show_job_id=False):\n",
        "    \"\"\"\n",
        "    Input: SQL query, as a string, to execute in BigQuery\n",
        "    Returns the query results as a pandas DataFrame, or error, if any\n",
        "    \"\"\"\n",
        "    \n",
        "    # Try dry run before executing query to catch any errors\n",
        "    try:\n",
        "        job_config = bigquery.QueryJobConfig(dry_run=True,\n",
        "                                             use_query_cache=False)\n",
        "        \n",
        "        bq_client.query(sql, job_config=job_config)\n",
        "        \n",
        "    except BadRequest as err:\n",
        "        print(err)\n",
        "        return\n",
        "        \n",
        "    job_config = bigquery.QueryJobConfig()\n",
        "    client_result = bq_client.query(sql, job_config=job_config)\n",
        "    \n",
        "    job_id = client_result.job_id\n",
        "    \n",
        "    # Wait for query/job to finish running, then get & return data frame\n",
        "    df = client_result.result().to_dataframe()\n",
        "    \n",
        "    if(show_job_id):\n",
        "        print(f\"Finished job_id: {job_id}\")\n",
        "    \n",
        "    return(df)"
      ]
    },
    {
      "cell_type": "markdown",
      "metadata": {
        "id": "TpV-iwP9qw9c",
        "tags": []
      },
      "source": [
        "## Explore schema of Google Analytics 4 (GA4) data in BigQuery\n",
        "In this section, you look at the structure of the sample Google Analytics 4 (GA4) data: the column fields, the number of rows, what dates it covers, etc."
      ]
    },
    {
      "cell_type": "markdown",
      "metadata": {
        "id": "O69TbKGUYjde"
      },
      "source": [
        "### Look at table data structure\n",
        "\n"
      ]
    },
    {
      "cell_type": "markdown",
      "metadata": {
        "id": "5hFjenbkYjde"
      },
      "source": [
        "The sample GA4 data in BigQuery is [partitioned](https://cloud.google.com/bigquery/docs/partitioned-tables) by date, which makes it easier to manage and query your data. There are ways to query that date for a specific date, a sets of dates (e.g. a specific month), and across all dates. The latter is what you do for the most part in this notebook.\n",
        "\n",
        "You can use the [`%%bigquery` Python magic commands](https://googleapis.dev/python/bigquery/latest/magics.html) to execute SQL queries directly in a notebook cell, as shown in the cell below."
      ]
    },
    {
      "cell_type": "code",
      "execution_count": 16,
      "metadata": {
        "colab": {
          "base_uri": "https://localhost:8080/",
          "height": 1000
        },
        "id": "a4-PYxzIYjde",
        "outputId": "bce91cca-d006-4b78-d5e9-ce4b2c3b546b"
      },
      "outputs": [
        {
          "output_type": "stream",
          "name": "stderr",
          "text": [
            "Query complete after 0.01s: 100%|██████████| 2/2 [00:00<00:00, 263.83query/s]\n",
            "Downloading: 100%|██████████| 100/100 [00:02<00:00, 40.27rows/s]\n"
          ]
        },
        {
          "output_type": "execute_result",
          "data": {
            "text/plain": [
              "   event_date   event_timestamp       event_name  \\\n",
              "0    20210119  1611047060064340        page_view   \n",
              "1    20210119  1611047060064340    session_start   \n",
              "2    20210119  1611047140593634  user_engagement   \n",
              "3    20210119  1611047065178392        page_view   \n",
              "4    20210119  1611047060064340      first_visit   \n",
              "..        ...               ...              ...   \n",
              "95   20210119  1611022248163277        page_view   \n",
              "96   20210119  1611022269503614           scroll   \n",
              "97   20210119  1611022256879068           scroll   \n",
              "98   20210119  1611022243156742        page_view   \n",
              "99   20210119  1611022243156742    session_start   \n",
              "\n",
              "                                         event_params  \\\n",
              "0   [{'key': 'entrances', 'value': {'string_value'...   \n",
              "1   [{'key': 'ga_session_id', 'value': {'string_va...   \n",
              "2   [{'key': 'term', 'value': {'string_value': '<o...   \n",
              "3   [{'key': 'medium', 'value': {'string_value': '...   \n",
              "4   [{'key': 'session_engaged', 'value': {'string_...   \n",
              "..                                                ...   \n",
              "95  [{'key': 'campaign', 'value': {'string_value':...   \n",
              "96  [{'key': 'page_title', 'value': {'string_value...   \n",
              "97  [{'key': 'campaign', 'value': {'string_value':...   \n",
              "98  [{'key': 'ga_session_id', 'value': {'string_va...   \n",
              "99  [{'key': 'page_location', 'value': {'string_va...   \n",
              "\n",
              "    event_previous_timestamp  event_value_in_usd  event_bundle_sequence_id  \\\n",
              "0                        NaN                 NaN               -8691723080   \n",
              "1                        NaN                 NaN               -8691723080   \n",
              "2                        NaN                 NaN                9885327539   \n",
              "3                        NaN                 NaN               -5793063624   \n",
              "4                        NaN                 NaN               -8691723080   \n",
              "..                       ...                 ...                       ...   \n",
              "95                       NaN                 NaN               -4361591572   \n",
              "96                       NaN                 NaN               -8176265640   \n",
              "97                       NaN                 NaN                7999539899   \n",
              "98                       NaN                 NaN                4772914016   \n",
              "99                       NaN                 NaN                4772914016   \n",
              "\n",
              "    event_server_timestamp_offset user_id      user_pseudo_id  ...  \\\n",
              "0                             NaN    None  1022787.5167320418  ...   \n",
              "1                             NaN    None  1022787.5167320418  ...   \n",
              "2                             NaN    None  1022787.5167320418  ...   \n",
              "3                             NaN    None  1022787.5167320418  ...   \n",
              "4                             NaN    None  1022787.5167320418  ...   \n",
              "..                            ...     ...                 ...  ...   \n",
              "95                            NaN    None  1081799.2443812982  ...   \n",
              "96                            NaN    None  1081799.2443812982  ...   \n",
              "97                            NaN    None  1081799.2443812982  ...   \n",
              "98                            NaN    None  1081799.2443812982  ...   \n",
              "99                            NaN    None  1081799.2443812982  ...   \n",
              "\n",
              "                               user_ltv  \\\n",
              "0   {'revenue': 0.0, 'currency': 'USD'}   \n",
              "1   {'revenue': 0.0, 'currency': 'USD'}   \n",
              "2   {'revenue': 0.0, 'currency': 'USD'}   \n",
              "3   {'revenue': 0.0, 'currency': 'USD'}   \n",
              "4   {'revenue': 0.0, 'currency': 'USD'}   \n",
              "..                                  ...   \n",
              "95  {'revenue': 0.0, 'currency': 'USD'}   \n",
              "96  {'revenue': 0.0, 'currency': 'USD'}   \n",
              "97  {'revenue': 0.0, 'currency': 'USD'}   \n",
              "98  {'revenue': 0.0, 'currency': 'USD'}   \n",
              "99  {'revenue': 0.0, 'currency': 'USD'}   \n",
              "\n",
              "                                               device  \\\n",
              "0   {'category': 'desktop', 'mobile_brand_name': '...   \n",
              "1   {'category': 'desktop', 'mobile_brand_name': '...   \n",
              "2   {'category': 'desktop', 'mobile_brand_name': '...   \n",
              "3   {'category': 'desktop', 'mobile_brand_name': '...   \n",
              "4   {'category': 'desktop', 'mobile_brand_name': '...   \n",
              "..                                                ...   \n",
              "95  {'category': 'desktop', 'mobile_brand_name': '...   \n",
              "96  {'category': 'desktop', 'mobile_brand_name': '...   \n",
              "97  {'category': 'desktop', 'mobile_brand_name': '...   \n",
              "98  {'category': 'desktop', 'mobile_brand_name': '...   \n",
              "99  {'category': 'desktop', 'mobile_brand_name': '...   \n",
              "\n",
              "                                                  geo app_info  \\\n",
              "0   {'continent': 'Europe', 'sub_continent': 'East...     None   \n",
              "1   {'continent': 'Europe', 'sub_continent': 'East...     None   \n",
              "2   {'continent': 'Europe', 'sub_continent': 'East...     None   \n",
              "3   {'continent': 'Europe', 'sub_continent': 'East...     None   \n",
              "4   {'continent': 'Europe', 'sub_continent': 'East...     None   \n",
              "..                                                ...      ...   \n",
              "95  {'continent': 'Americas', 'sub_continent': 'No...     None   \n",
              "96  {'continent': 'Americas', 'sub_continent': 'No...     None   \n",
              "97  {'continent': 'Americas', 'sub_continent': 'No...     None   \n",
              "98  {'continent': 'Americas', 'sub_continent': 'No...     None   \n",
              "99  {'continent': 'Americas', 'sub_continent': 'No...     None   \n",
              "\n",
              "                                       traffic_source   stream_id platform  \\\n",
              "0   {'medium': '<Other>', 'name': '<Other>', 'sour...  2100450278      WEB   \n",
              "1   {'medium': '<Other>', 'name': '<Other>', 'sour...  2100450278      WEB   \n",
              "2   {'medium': '<Other>', 'name': '<Other>', 'sour...  2100450278      WEB   \n",
              "3   {'medium': '<Other>', 'name': '<Other>', 'sour...  2100450278      WEB   \n",
              "4   {'medium': '<Other>', 'name': '<Other>', 'sour...  2100450278      WEB   \n",
              "..                                                ...         ...      ...   \n",
              "95  {'medium': '<Other>', 'name': '<Other>', 'sour...  2100450278      WEB   \n",
              "96  {'medium': '<Other>', 'name': '<Other>', 'sour...  2100450278      WEB   \n",
              "97  {'medium': '<Other>', 'name': '<Other>', 'sour...  2100450278      WEB   \n",
              "98  {'medium': '<Other>', 'name': '<Other>', 'sour...  2100450278      WEB   \n",
              "99  {'medium': '<Other>', 'name': '<Other>', 'sour...  2100450278      WEB   \n",
              "\n",
              "   event_dimensions                                          ecommerce items  \n",
              "0              None  {'total_item_quantity': None, 'purchase_revenu...    []  \n",
              "1              None  {'total_item_quantity': None, 'purchase_revenu...    []  \n",
              "2              None  {'total_item_quantity': None, 'purchase_revenu...    []  \n",
              "3              None  {'total_item_quantity': None, 'purchase_revenu...    []  \n",
              "4              None  {'total_item_quantity': None, 'purchase_revenu...    []  \n",
              "..              ...                                                ...   ...  \n",
              "95             None  {'total_item_quantity': None, 'purchase_revenu...    []  \n",
              "96             None  {'total_item_quantity': None, 'purchase_revenu...    []  \n",
              "97             None  {'total_item_quantity': None, 'purchase_revenu...    []  \n",
              "98             None  {'total_item_quantity': None, 'purchase_revenu...    []  \n",
              "99             None  {'total_item_quantity': None, 'purchase_revenu...    []  \n",
              "\n",
              "[100 rows x 23 columns]"
            ],
            "text/html": [
              "\n",
              "  <div id=\"df-7953b2ce-7d31-4b2d-be03-372c32359cf1\">\n",
              "    <div class=\"colab-df-container\">\n",
              "      <div>\n",
              "<style scoped>\n",
              "    .dataframe tbody tr th:only-of-type {\n",
              "        vertical-align: middle;\n",
              "    }\n",
              "\n",
              "    .dataframe tbody tr th {\n",
              "        vertical-align: top;\n",
              "    }\n",
              "\n",
              "    .dataframe thead th {\n",
              "        text-align: right;\n",
              "    }\n",
              "</style>\n",
              "<table border=\"1\" class=\"dataframe\">\n",
              "  <thead>\n",
              "    <tr style=\"text-align: right;\">\n",
              "      <th></th>\n",
              "      <th>event_date</th>\n",
              "      <th>event_timestamp</th>\n",
              "      <th>event_name</th>\n",
              "      <th>event_params</th>\n",
              "      <th>event_previous_timestamp</th>\n",
              "      <th>event_value_in_usd</th>\n",
              "      <th>event_bundle_sequence_id</th>\n",
              "      <th>event_server_timestamp_offset</th>\n",
              "      <th>user_id</th>\n",
              "      <th>user_pseudo_id</th>\n",
              "      <th>...</th>\n",
              "      <th>user_ltv</th>\n",
              "      <th>device</th>\n",
              "      <th>geo</th>\n",
              "      <th>app_info</th>\n",
              "      <th>traffic_source</th>\n",
              "      <th>stream_id</th>\n",
              "      <th>platform</th>\n",
              "      <th>event_dimensions</th>\n",
              "      <th>ecommerce</th>\n",
              "      <th>items</th>\n",
              "    </tr>\n",
              "  </thead>\n",
              "  <tbody>\n",
              "    <tr>\n",
              "      <th>0</th>\n",
              "      <td>20210119</td>\n",
              "      <td>1611047060064340</td>\n",
              "      <td>page_view</td>\n",
              "      <td>[{'key': 'entrances', 'value': {'string_value'...</td>\n",
              "      <td>NaN</td>\n",
              "      <td>NaN</td>\n",
              "      <td>-8691723080</td>\n",
              "      <td>NaN</td>\n",
              "      <td>None</td>\n",
              "      <td>1022787.5167320418</td>\n",
              "      <td>...</td>\n",
              "      <td>{'revenue': 0.0, 'currency': 'USD'}</td>\n",
              "      <td>{'category': 'desktop', 'mobile_brand_name': '...</td>\n",
              "      <td>{'continent': 'Europe', 'sub_continent': 'East...</td>\n",
              "      <td>None</td>\n",
              "      <td>{'medium': '&lt;Other&gt;', 'name': '&lt;Other&gt;', 'sour...</td>\n",
              "      <td>2100450278</td>\n",
              "      <td>WEB</td>\n",
              "      <td>None</td>\n",
              "      <td>{'total_item_quantity': None, 'purchase_revenu...</td>\n",
              "      <td>[]</td>\n",
              "    </tr>\n",
              "    <tr>\n",
              "      <th>1</th>\n",
              "      <td>20210119</td>\n",
              "      <td>1611047060064340</td>\n",
              "      <td>session_start</td>\n",
              "      <td>[{'key': 'ga_session_id', 'value': {'string_va...</td>\n",
              "      <td>NaN</td>\n",
              "      <td>NaN</td>\n",
              "      <td>-8691723080</td>\n",
              "      <td>NaN</td>\n",
              "      <td>None</td>\n",
              "      <td>1022787.5167320418</td>\n",
              "      <td>...</td>\n",
              "      <td>{'revenue': 0.0, 'currency': 'USD'}</td>\n",
              "      <td>{'category': 'desktop', 'mobile_brand_name': '...</td>\n",
              "      <td>{'continent': 'Europe', 'sub_continent': 'East...</td>\n",
              "      <td>None</td>\n",
              "      <td>{'medium': '&lt;Other&gt;', 'name': '&lt;Other&gt;', 'sour...</td>\n",
              "      <td>2100450278</td>\n",
              "      <td>WEB</td>\n",
              "      <td>None</td>\n",
              "      <td>{'total_item_quantity': None, 'purchase_revenu...</td>\n",
              "      <td>[]</td>\n",
              "    </tr>\n",
              "    <tr>\n",
              "      <th>2</th>\n",
              "      <td>20210119</td>\n",
              "      <td>1611047140593634</td>\n",
              "      <td>user_engagement</td>\n",
              "      <td>[{'key': 'term', 'value': {'string_value': '&lt;o...</td>\n",
              "      <td>NaN</td>\n",
              "      <td>NaN</td>\n",
              "      <td>9885327539</td>\n",
              "      <td>NaN</td>\n",
              "      <td>None</td>\n",
              "      <td>1022787.5167320418</td>\n",
              "      <td>...</td>\n",
              "      <td>{'revenue': 0.0, 'currency': 'USD'}</td>\n",
              "      <td>{'category': 'desktop', 'mobile_brand_name': '...</td>\n",
              "      <td>{'continent': 'Europe', 'sub_continent': 'East...</td>\n",
              "      <td>None</td>\n",
              "      <td>{'medium': '&lt;Other&gt;', 'name': '&lt;Other&gt;', 'sour...</td>\n",
              "      <td>2100450278</td>\n",
              "      <td>WEB</td>\n",
              "      <td>None</td>\n",
              "      <td>{'total_item_quantity': None, 'purchase_revenu...</td>\n",
              "      <td>[]</td>\n",
              "    </tr>\n",
              "    <tr>\n",
              "      <th>3</th>\n",
              "      <td>20210119</td>\n",
              "      <td>1611047065178392</td>\n",
              "      <td>page_view</td>\n",
              "      <td>[{'key': 'medium', 'value': {'string_value': '...</td>\n",
              "      <td>NaN</td>\n",
              "      <td>NaN</td>\n",
              "      <td>-5793063624</td>\n",
              "      <td>NaN</td>\n",
              "      <td>None</td>\n",
              "      <td>1022787.5167320418</td>\n",
              "      <td>...</td>\n",
              "      <td>{'revenue': 0.0, 'currency': 'USD'}</td>\n",
              "      <td>{'category': 'desktop', 'mobile_brand_name': '...</td>\n",
              "      <td>{'continent': 'Europe', 'sub_continent': 'East...</td>\n",
              "      <td>None</td>\n",
              "      <td>{'medium': '&lt;Other&gt;', 'name': '&lt;Other&gt;', 'sour...</td>\n",
              "      <td>2100450278</td>\n",
              "      <td>WEB</td>\n",
              "      <td>None</td>\n",
              "      <td>{'total_item_quantity': None, 'purchase_revenu...</td>\n",
              "      <td>[]</td>\n",
              "    </tr>\n",
              "    <tr>\n",
              "      <th>4</th>\n",
              "      <td>20210119</td>\n",
              "      <td>1611047060064340</td>\n",
              "      <td>first_visit</td>\n",
              "      <td>[{'key': 'session_engaged', 'value': {'string_...</td>\n",
              "      <td>NaN</td>\n",
              "      <td>NaN</td>\n",
              "      <td>-8691723080</td>\n",
              "      <td>NaN</td>\n",
              "      <td>None</td>\n",
              "      <td>1022787.5167320418</td>\n",
              "      <td>...</td>\n",
              "      <td>{'revenue': 0.0, 'currency': 'USD'}</td>\n",
              "      <td>{'category': 'desktop', 'mobile_brand_name': '...</td>\n",
              "      <td>{'continent': 'Europe', 'sub_continent': 'East...</td>\n",
              "      <td>None</td>\n",
              "      <td>{'medium': '&lt;Other&gt;', 'name': '&lt;Other&gt;', 'sour...</td>\n",
              "      <td>2100450278</td>\n",
              "      <td>WEB</td>\n",
              "      <td>None</td>\n",
              "      <td>{'total_item_quantity': None, 'purchase_revenu...</td>\n",
              "      <td>[]</td>\n",
              "    </tr>\n",
              "    <tr>\n",
              "      <th>...</th>\n",
              "      <td>...</td>\n",
              "      <td>...</td>\n",
              "      <td>...</td>\n",
              "      <td>...</td>\n",
              "      <td>...</td>\n",
              "      <td>...</td>\n",
              "      <td>...</td>\n",
              "      <td>...</td>\n",
              "      <td>...</td>\n",
              "      <td>...</td>\n",
              "      <td>...</td>\n",
              "      <td>...</td>\n",
              "      <td>...</td>\n",
              "      <td>...</td>\n",
              "      <td>...</td>\n",
              "      <td>...</td>\n",
              "      <td>...</td>\n",
              "      <td>...</td>\n",
              "      <td>...</td>\n",
              "      <td>...</td>\n",
              "      <td>...</td>\n",
              "    </tr>\n",
              "    <tr>\n",
              "      <th>95</th>\n",
              "      <td>20210119</td>\n",
              "      <td>1611022248163277</td>\n",
              "      <td>page_view</td>\n",
              "      <td>[{'key': 'campaign', 'value': {'string_value':...</td>\n",
              "      <td>NaN</td>\n",
              "      <td>NaN</td>\n",
              "      <td>-4361591572</td>\n",
              "      <td>NaN</td>\n",
              "      <td>None</td>\n",
              "      <td>1081799.2443812982</td>\n",
              "      <td>...</td>\n",
              "      <td>{'revenue': 0.0, 'currency': 'USD'}</td>\n",
              "      <td>{'category': 'desktop', 'mobile_brand_name': '...</td>\n",
              "      <td>{'continent': 'Americas', 'sub_continent': 'No...</td>\n",
              "      <td>None</td>\n",
              "      <td>{'medium': '&lt;Other&gt;', 'name': '&lt;Other&gt;', 'sour...</td>\n",
              "      <td>2100450278</td>\n",
              "      <td>WEB</td>\n",
              "      <td>None</td>\n",
              "      <td>{'total_item_quantity': None, 'purchase_revenu...</td>\n",
              "      <td>[]</td>\n",
              "    </tr>\n",
              "    <tr>\n",
              "      <th>96</th>\n",
              "      <td>20210119</td>\n",
              "      <td>1611022269503614</td>\n",
              "      <td>scroll</td>\n",
              "      <td>[{'key': 'page_title', 'value': {'string_value...</td>\n",
              "      <td>NaN</td>\n",
              "      <td>NaN</td>\n",
              "      <td>-8176265640</td>\n",
              "      <td>NaN</td>\n",
              "      <td>None</td>\n",
              "      <td>1081799.2443812982</td>\n",
              "      <td>...</td>\n",
              "      <td>{'revenue': 0.0, 'currency': 'USD'}</td>\n",
              "      <td>{'category': 'desktop', 'mobile_brand_name': '...</td>\n",
              "      <td>{'continent': 'Americas', 'sub_continent': 'No...</td>\n",
              "      <td>None</td>\n",
              "      <td>{'medium': '&lt;Other&gt;', 'name': '&lt;Other&gt;', 'sour...</td>\n",
              "      <td>2100450278</td>\n",
              "      <td>WEB</td>\n",
              "      <td>None</td>\n",
              "      <td>{'total_item_quantity': None, 'purchase_revenu...</td>\n",
              "      <td>[]</td>\n",
              "    </tr>\n",
              "    <tr>\n",
              "      <th>97</th>\n",
              "      <td>20210119</td>\n",
              "      <td>1611022256879068</td>\n",
              "      <td>scroll</td>\n",
              "      <td>[{'key': 'campaign', 'value': {'string_value':...</td>\n",
              "      <td>NaN</td>\n",
              "      <td>NaN</td>\n",
              "      <td>7999539899</td>\n",
              "      <td>NaN</td>\n",
              "      <td>None</td>\n",
              "      <td>1081799.2443812982</td>\n",
              "      <td>...</td>\n",
              "      <td>{'revenue': 0.0, 'currency': 'USD'}</td>\n",
              "      <td>{'category': 'desktop', 'mobile_brand_name': '...</td>\n",
              "      <td>{'continent': 'Americas', 'sub_continent': 'No...</td>\n",
              "      <td>None</td>\n",
              "      <td>{'medium': '&lt;Other&gt;', 'name': '&lt;Other&gt;', 'sour...</td>\n",
              "      <td>2100450278</td>\n",
              "      <td>WEB</td>\n",
              "      <td>None</td>\n",
              "      <td>{'total_item_quantity': None, 'purchase_revenu...</td>\n",
              "      <td>[]</td>\n",
              "    </tr>\n",
              "    <tr>\n",
              "      <th>98</th>\n",
              "      <td>20210119</td>\n",
              "      <td>1611022243156742</td>\n",
              "      <td>page_view</td>\n",
              "      <td>[{'key': 'ga_session_id', 'value': {'string_va...</td>\n",
              "      <td>NaN</td>\n",
              "      <td>NaN</td>\n",
              "      <td>4772914016</td>\n",
              "      <td>NaN</td>\n",
              "      <td>None</td>\n",
              "      <td>1081799.2443812982</td>\n",
              "      <td>...</td>\n",
              "      <td>{'revenue': 0.0, 'currency': 'USD'}</td>\n",
              "      <td>{'category': 'desktop', 'mobile_brand_name': '...</td>\n",
              "      <td>{'continent': 'Americas', 'sub_continent': 'No...</td>\n",
              "      <td>None</td>\n",
              "      <td>{'medium': '&lt;Other&gt;', 'name': '&lt;Other&gt;', 'sour...</td>\n",
              "      <td>2100450278</td>\n",
              "      <td>WEB</td>\n",
              "      <td>None</td>\n",
              "      <td>{'total_item_quantity': None, 'purchase_revenu...</td>\n",
              "      <td>[]</td>\n",
              "    </tr>\n",
              "    <tr>\n",
              "      <th>99</th>\n",
              "      <td>20210119</td>\n",
              "      <td>1611022243156742</td>\n",
              "      <td>session_start</td>\n",
              "      <td>[{'key': 'page_location', 'value': {'string_va...</td>\n",
              "      <td>NaN</td>\n",
              "      <td>NaN</td>\n",
              "      <td>4772914016</td>\n",
              "      <td>NaN</td>\n",
              "      <td>None</td>\n",
              "      <td>1081799.2443812982</td>\n",
              "      <td>...</td>\n",
              "      <td>{'revenue': 0.0, 'currency': 'USD'}</td>\n",
              "      <td>{'category': 'desktop', 'mobile_brand_name': '...</td>\n",
              "      <td>{'continent': 'Americas', 'sub_continent': 'No...</td>\n",
              "      <td>None</td>\n",
              "      <td>{'medium': '&lt;Other&gt;', 'name': '&lt;Other&gt;', 'sour...</td>\n",
              "      <td>2100450278</td>\n",
              "      <td>WEB</td>\n",
              "      <td>None</td>\n",
              "      <td>{'total_item_quantity': None, 'purchase_revenu...</td>\n",
              "      <td>[]</td>\n",
              "    </tr>\n",
              "  </tbody>\n",
              "</table>\n",
              "<p>100 rows × 23 columns</p>\n",
              "</div>\n",
              "      <button class=\"colab-df-convert\" onclick=\"convertToInteractive('df-7953b2ce-7d31-4b2d-be03-372c32359cf1')\"\n",
              "              title=\"Convert this dataframe to an interactive table.\"\n",
              "              style=\"display:none;\">\n",
              "        \n",
              "  <svg xmlns=\"http://www.w3.org/2000/svg\" height=\"24px\"viewBox=\"0 0 24 24\"\n",
              "       width=\"24px\">\n",
              "    <path d=\"M0 0h24v24H0V0z\" fill=\"none\"/>\n",
              "    <path d=\"M18.56 5.44l.94 2.06.94-2.06 2.06-.94-2.06-.94-.94-2.06-.94 2.06-2.06.94zm-11 1L8.5 8.5l.94-2.06 2.06-.94-2.06-.94L8.5 2.5l-.94 2.06-2.06.94zm10 10l.94 2.06.94-2.06 2.06-.94-2.06-.94-.94-2.06-.94 2.06-2.06.94z\"/><path d=\"M17.41 7.96l-1.37-1.37c-.4-.4-.92-.59-1.43-.59-.52 0-1.04.2-1.43.59L10.3 9.45l-7.72 7.72c-.78.78-.78 2.05 0 2.83L4 21.41c.39.39.9.59 1.41.59.51 0 1.02-.2 1.41-.59l7.78-7.78 2.81-2.81c.8-.78.8-2.07 0-2.86zM5.41 20L4 18.59l7.72-7.72 1.47 1.35L5.41 20z\"/>\n",
              "  </svg>\n",
              "      </button>\n",
              "      \n",
              "  <style>\n",
              "    .colab-df-container {\n",
              "      display:flex;\n",
              "      flex-wrap:wrap;\n",
              "      gap: 12px;\n",
              "    }\n",
              "\n",
              "    .colab-df-convert {\n",
              "      background-color: #E8F0FE;\n",
              "      border: none;\n",
              "      border-radius: 50%;\n",
              "      cursor: pointer;\n",
              "      display: none;\n",
              "      fill: #1967D2;\n",
              "      height: 32px;\n",
              "      padding: 0 0 0 0;\n",
              "      width: 32px;\n",
              "    }\n",
              "\n",
              "    .colab-df-convert:hover {\n",
              "      background-color: #E2EBFA;\n",
              "      box-shadow: 0px 1px 2px rgba(60, 64, 67, 0.3), 0px 1px 3px 1px rgba(60, 64, 67, 0.15);\n",
              "      fill: #174EA6;\n",
              "    }\n",
              "\n",
              "    [theme=dark] .colab-df-convert {\n",
              "      background-color: #3B4455;\n",
              "      fill: #D2E3FC;\n",
              "    }\n",
              "\n",
              "    [theme=dark] .colab-df-convert:hover {\n",
              "      background-color: #434B5C;\n",
              "      box-shadow: 0px 1px 3px 1px rgba(0, 0, 0, 0.15);\n",
              "      filter: drop-shadow(0px 1px 2px rgba(0, 0, 0, 0.3));\n",
              "      fill: #FFFFFF;\n",
              "    }\n",
              "  </style>\n",
              "\n",
              "      <script>\n",
              "        const buttonEl =\n",
              "          document.querySelector('#df-7953b2ce-7d31-4b2d-be03-372c32359cf1 button.colab-df-convert');\n",
              "        buttonEl.style.display =\n",
              "          google.colab.kernel.accessAllowed ? 'block' : 'none';\n",
              "\n",
              "        async function convertToInteractive(key) {\n",
              "          const element = document.querySelector('#df-7953b2ce-7d31-4b2d-be03-372c32359cf1');\n",
              "          const dataTable =\n",
              "            await google.colab.kernel.invokeFunction('convertToInteractive',\n",
              "                                                     [key], {});\n",
              "          if (!dataTable) return;\n",
              "\n",
              "          const docLinkHtml = 'Like what you see? Visit the ' +\n",
              "            '<a target=\"_blank\" href=https://colab.research.google.com/notebooks/data_table.ipynb>data table notebook</a>'\n",
              "            + ' to learn more about interactive tables.';\n",
              "          element.innerHTML = '';\n",
              "          dataTable['output_type'] = 'display_data';\n",
              "          await google.colab.output.renderOutput(dataTable, element);\n",
              "          const docLink = document.createElement('div');\n",
              "          docLink.innerHTML = docLinkHtml;\n",
              "          element.appendChild(docLink);\n",
              "        }\n",
              "      </script>\n",
              "    </div>\n",
              "  </div>\n",
              "  "
            ]
          },
          "metadata": {},
          "execution_count": 16
        }
      ],
      "source": [
        "%%bigquery --project $PROJECT_ID\n",
        "\n",
        "SELECT\n",
        "  *\n",
        "\n",
        "FROM\n",
        "  /* Use '*' at end of table name to allow querying over multiple date \n",
        "     partitions of same overall table */\n",
        "  `bigquery-public-data.ga4_obfuscated_sample_ecommerce.events_*`\n",
        "\n",
        "LIMIT 100"
      ]
    },
    {
      "cell_type": "markdown",
      "source": [
        "The results above show that the table is somewhat wide, with some [nested columns](https://cloud.google.com/bigquery/docs/nested-repeated) and semi-structured data. Some key columns - event_date, event_timestamp, and event_name - appear at left."
      ],
      "metadata": {
        "id": "O5gKUegbCAVR"
      }
    },
    {
      "cell_type": "markdown",
      "metadata": {
        "tags": [],
        "id": "5Vf0XoVMYjdf"
      },
      "source": [
        "### Look at number of events by date\n",
        "Next, you get a table of the number of events for each event date in the data.\n",
        "\n",
        "The \"event_dates\" next to the %%bigquery magic enables the query results to be saved into a pandas DataFrame of that name."
      ]
    },
    {
      "cell_type": "code",
      "execution_count": 17,
      "metadata": {
        "colab": {
          "base_uri": "https://localhost:8080/"
        },
        "id": "PR_bZu62Yjdf",
        "outputId": "7c4b9fd6-a8b1-4a18-c339-9993bab685ca"
      },
      "outputs": [
        {
          "output_type": "stream",
          "name": "stderr",
          "text": [
            "Query complete after 0.01s: 100%|██████████| 3/3 [00:00<00:00, 449.49query/s]\n",
            "Downloading: 100%|██████████| 92/92 [00:01<00:00, 48.77rows/s]\n"
          ]
        }
      ],
      "source": [
        "%%bigquery event_dates --project $PROJECT_ID \n",
        "SELECT\n",
        "  event_date,\n",
        "  COUNT(*) AS num_events\n",
        "\n",
        "FROM\n",
        "  `bigquery-public-data.ga4_obfuscated_sample_ecommerce.events_*`\n",
        "\n",
        "GROUP BY\n",
        "  event_date\n",
        "\n",
        "ORDER BY\n",
        "  event_date"
      ]
    },
    {
      "cell_type": "markdown",
      "source": [
        "Print the query results by referencing the results DataFrame in its own cell."
      ],
      "metadata": {
        "id": "23zjFFmlDaKh"
      }
    },
    {
      "cell_type": "code",
      "execution_count": 18,
      "metadata": {
        "colab": {
          "base_uri": "https://localhost:8080/",
          "height": 424
        },
        "id": "fzJAHctpYjdf",
        "outputId": "76564957-708b-4cff-a270-938ea372dc12"
      },
      "outputs": [
        {
          "output_type": "execute_result",
          "data": {
            "text/plain": [
              "   event_date  num_events\n",
              "0    20201101       31272\n",
              "1    20201102       48388\n",
              "2    20201103       61672\n",
              "3    20201104       51866\n",
              "4    20201105       51952\n",
              "..        ...         ...\n",
              "87   20210127       48665\n",
              "88   20210128       43131\n",
              "89   20210129       40877\n",
              "90   20210130       30395\n",
              "91   20210131       26489\n",
              "\n",
              "[92 rows x 2 columns]"
            ],
            "text/html": [
              "\n",
              "  <div id=\"df-479f9eb5-1c3d-45db-abff-f584c06a40d8\">\n",
              "    <div class=\"colab-df-container\">\n",
              "      <div>\n",
              "<style scoped>\n",
              "    .dataframe tbody tr th:only-of-type {\n",
              "        vertical-align: middle;\n",
              "    }\n",
              "\n",
              "    .dataframe tbody tr th {\n",
              "        vertical-align: top;\n",
              "    }\n",
              "\n",
              "    .dataframe thead th {\n",
              "        text-align: right;\n",
              "    }\n",
              "</style>\n",
              "<table border=\"1\" class=\"dataframe\">\n",
              "  <thead>\n",
              "    <tr style=\"text-align: right;\">\n",
              "      <th></th>\n",
              "      <th>event_date</th>\n",
              "      <th>num_events</th>\n",
              "    </tr>\n",
              "  </thead>\n",
              "  <tbody>\n",
              "    <tr>\n",
              "      <th>0</th>\n",
              "      <td>20201101</td>\n",
              "      <td>31272</td>\n",
              "    </tr>\n",
              "    <tr>\n",
              "      <th>1</th>\n",
              "      <td>20201102</td>\n",
              "      <td>48388</td>\n",
              "    </tr>\n",
              "    <tr>\n",
              "      <th>2</th>\n",
              "      <td>20201103</td>\n",
              "      <td>61672</td>\n",
              "    </tr>\n",
              "    <tr>\n",
              "      <th>3</th>\n",
              "      <td>20201104</td>\n",
              "      <td>51866</td>\n",
              "    </tr>\n",
              "    <tr>\n",
              "      <th>4</th>\n",
              "      <td>20201105</td>\n",
              "      <td>51952</td>\n",
              "    </tr>\n",
              "    <tr>\n",
              "      <th>...</th>\n",
              "      <td>...</td>\n",
              "      <td>...</td>\n",
              "    </tr>\n",
              "    <tr>\n",
              "      <th>87</th>\n",
              "      <td>20210127</td>\n",
              "      <td>48665</td>\n",
              "    </tr>\n",
              "    <tr>\n",
              "      <th>88</th>\n",
              "      <td>20210128</td>\n",
              "      <td>43131</td>\n",
              "    </tr>\n",
              "    <tr>\n",
              "      <th>89</th>\n",
              "      <td>20210129</td>\n",
              "      <td>40877</td>\n",
              "    </tr>\n",
              "    <tr>\n",
              "      <th>90</th>\n",
              "      <td>20210130</td>\n",
              "      <td>30395</td>\n",
              "    </tr>\n",
              "    <tr>\n",
              "      <th>91</th>\n",
              "      <td>20210131</td>\n",
              "      <td>26489</td>\n",
              "    </tr>\n",
              "  </tbody>\n",
              "</table>\n",
              "<p>92 rows × 2 columns</p>\n",
              "</div>\n",
              "      <button class=\"colab-df-convert\" onclick=\"convertToInteractive('df-479f9eb5-1c3d-45db-abff-f584c06a40d8')\"\n",
              "              title=\"Convert this dataframe to an interactive table.\"\n",
              "              style=\"display:none;\">\n",
              "        \n",
              "  <svg xmlns=\"http://www.w3.org/2000/svg\" height=\"24px\"viewBox=\"0 0 24 24\"\n",
              "       width=\"24px\">\n",
              "    <path d=\"M0 0h24v24H0V0z\" fill=\"none\"/>\n",
              "    <path d=\"M18.56 5.44l.94 2.06.94-2.06 2.06-.94-2.06-.94-.94-2.06-.94 2.06-2.06.94zm-11 1L8.5 8.5l.94-2.06 2.06-.94-2.06-.94L8.5 2.5l-.94 2.06-2.06.94zm10 10l.94 2.06.94-2.06 2.06-.94-2.06-.94-.94-2.06-.94 2.06-2.06.94z\"/><path d=\"M17.41 7.96l-1.37-1.37c-.4-.4-.92-.59-1.43-.59-.52 0-1.04.2-1.43.59L10.3 9.45l-7.72 7.72c-.78.78-.78 2.05 0 2.83L4 21.41c.39.39.9.59 1.41.59.51 0 1.02-.2 1.41-.59l7.78-7.78 2.81-2.81c.8-.78.8-2.07 0-2.86zM5.41 20L4 18.59l7.72-7.72 1.47 1.35L5.41 20z\"/>\n",
              "  </svg>\n",
              "      </button>\n",
              "      \n",
              "  <style>\n",
              "    .colab-df-container {\n",
              "      display:flex;\n",
              "      flex-wrap:wrap;\n",
              "      gap: 12px;\n",
              "    }\n",
              "\n",
              "    .colab-df-convert {\n",
              "      background-color: #E8F0FE;\n",
              "      border: none;\n",
              "      border-radius: 50%;\n",
              "      cursor: pointer;\n",
              "      display: none;\n",
              "      fill: #1967D2;\n",
              "      height: 32px;\n",
              "      padding: 0 0 0 0;\n",
              "      width: 32px;\n",
              "    }\n",
              "\n",
              "    .colab-df-convert:hover {\n",
              "      background-color: #E2EBFA;\n",
              "      box-shadow: 0px 1px 2px rgba(60, 64, 67, 0.3), 0px 1px 3px 1px rgba(60, 64, 67, 0.15);\n",
              "      fill: #174EA6;\n",
              "    }\n",
              "\n",
              "    [theme=dark] .colab-df-convert {\n",
              "      background-color: #3B4455;\n",
              "      fill: #D2E3FC;\n",
              "    }\n",
              "\n",
              "    [theme=dark] .colab-df-convert:hover {\n",
              "      background-color: #434B5C;\n",
              "      box-shadow: 0px 1px 3px 1px rgba(0, 0, 0, 0.15);\n",
              "      filter: drop-shadow(0px 1px 2px rgba(0, 0, 0, 0.3));\n",
              "      fill: #FFFFFF;\n",
              "    }\n",
              "  </style>\n",
              "\n",
              "      <script>\n",
              "        const buttonEl =\n",
              "          document.querySelector('#df-479f9eb5-1c3d-45db-abff-f584c06a40d8 button.colab-df-convert');\n",
              "        buttonEl.style.display =\n",
              "          google.colab.kernel.accessAllowed ? 'block' : 'none';\n",
              "\n",
              "        async function convertToInteractive(key) {\n",
              "          const element = document.querySelector('#df-479f9eb5-1c3d-45db-abff-f584c06a40d8');\n",
              "          const dataTable =\n",
              "            await google.colab.kernel.invokeFunction('convertToInteractive',\n",
              "                                                     [key], {});\n",
              "          if (!dataTable) return;\n",
              "\n",
              "          const docLinkHtml = 'Like what you see? Visit the ' +\n",
              "            '<a target=\"_blank\" href=https://colab.research.google.com/notebooks/data_table.ipynb>data table notebook</a>'\n",
              "            + ' to learn more about interactive tables.';\n",
              "          element.innerHTML = '';\n",
              "          dataTable['output_type'] = 'display_data';\n",
              "          await google.colab.output.renderOutput(dataTable, element);\n",
              "          const docLink = document.createElement('div');\n",
              "          docLink.innerHTML = docLinkHtml;\n",
              "          element.appendChild(docLink);\n",
              "        }\n",
              "      </script>\n",
              "    </div>\n",
              "  </div>\n",
              "  "
            ]
          },
          "metadata": {},
          "execution_count": 18
        }
      ],
      "source": [
        "event_dates"
      ]
    },
    {
      "cell_type": "markdown",
      "source": [
        "You see that there are three months of dates in this data, November 2020-January 2021, and somewhere on the order of tens of thousands of events per day (at least for the days that are visible in the default output)."
      ],
      "metadata": {
        "id": "eAJDP_phDjOQ"
      }
    },
    {
      "cell_type": "markdown",
      "source": [
        "See the total number of events in the data"
      ],
      "metadata": {
        "id": "8J4Z-JFdD3M-"
      }
    },
    {
      "cell_type": "code",
      "execution_count": 19,
      "metadata": {
        "colab": {
          "base_uri": "https://localhost:8080/"
        },
        "id": "jB_-fB8QYjdf",
        "outputId": "306ced46-2703-4445-f498-b94199d9bf7f"
      },
      "outputs": [
        {
          "output_type": "execute_result",
          "data": {
            "text/plain": [
              "4295584"
            ]
          },
          "metadata": {},
          "execution_count": 19
        }
      ],
      "source": [
        "sum(event_dates.num_events)"
      ]
    },
    {
      "cell_type": "markdown",
      "source": [
        "There are ~4.3M event rows in this data. Given that and the relatively deep nature of some of the columns, it's ideal to work with it in BigQuery and pull relevant results into Python (rather than pulling the whole table into Python)."
      ],
      "metadata": {
        "id": "uO_pMWH9D_T_"
      }
    },
    {
      "cell_type": "markdown",
      "metadata": {
        "id": "-egtPcSmYjdf"
      },
      "source": [
        "### Understand more about data structure using INFORMATION_SCHEMA\n",
        "In this section, you use various features of [BigQuery's INFORMATION_SCHEMA](https://cloud.google.com/bigquery/docs/information-schema-intro) to understand more about the GA4 data."
      ]
    },
    {
      "cell_type": "markdown",
      "source": [
        "#### Get some information on each table partition\n",
        "Below is a query that uses the \"\\_\\_TABLES__\" functionality to get some information (row count, size, etc.) on each partitioned table in the sample GA4 data."
      ],
      "metadata": {
        "id": "2J6wzWWAEw8n"
      }
    },
    {
      "cell_type": "code",
      "execution_count": 20,
      "metadata": {
        "colab": {
          "base_uri": "https://localhost:8080/",
          "height": 458
        },
        "id": "rF--QFUPYjdf",
        "outputId": "902383db-17e9-41dc-81a0-c81e0f1e6e7e"
      },
      "outputs": [
        {
          "output_type": "stream",
          "name": "stderr",
          "text": [
            "Query complete after 0.01s: 100%|██████████| 2/2 [00:00<00:00, 445.59query/s]\n",
            "Downloading: 100%|██████████| 92/92 [00:02<00:00, 45.30rows/s]\n"
          ]
        },
        {
          "output_type": "execute_result",
          "data": {
            "text/plain": [
              "           table_id   type  row_count  size_MB  \\\n",
              "0   events_20201101  Table      31272     22.5   \n",
              "1   events_20201102  Table      48388     35.8   \n",
              "2   events_20201103  Table      61672     45.4   \n",
              "3   events_20201104  Table      51866     38.2   \n",
              "4   events_20201105  Table      51952     38.2   \n",
              "..              ...    ...        ...      ...   \n",
              "87  events_20210127  Table      48665     36.7   \n",
              "88  events_20210128  Table      43131     32.3   \n",
              "89  events_20210129  Table      40877     31.0   \n",
              "90  events_20210130  Table      30395     22.8   \n",
              "91  events_20210131  Table      26489     19.1   \n",
              "\n",
              "                      creation_time               last_modified_time  \n",
              "0  2021-08-10 22:28:10.530000+00:00 2021-08-10 22:28:10.530000+00:00  \n",
              "1  2021-08-10 22:28:10.716000+00:00 2021-08-10 22:28:10.716000+00:00  \n",
              "2  2021-08-10 22:28:10.537000+00:00 2021-08-10 22:28:10.537000+00:00  \n",
              "3  2021-08-10 22:28:10.714000+00:00 2021-08-10 22:28:10.714000+00:00  \n",
              "4  2021-08-10 22:28:10.758000+00:00 2021-08-10 22:28:10.758000+00:00  \n",
              "..                              ...                              ...  \n",
              "87 2021-08-10 22:28:17.994000+00:00 2021-08-10 22:28:17.994000+00:00  \n",
              "88 2021-08-10 22:28:18.081000+00:00 2021-08-10 22:28:18.081000+00:00  \n",
              "89 2021-08-10 22:28:18.271000+00:00 2021-08-10 22:28:18.271000+00:00  \n",
              "90 2021-08-10 22:28:18.523000+00:00 2021-08-10 22:28:18.523000+00:00  \n",
              "91 2021-08-10 22:28:18.435000+00:00 2021-08-10 22:28:18.435000+00:00  \n",
              "\n",
              "[92 rows x 6 columns]"
            ],
            "text/html": [
              "\n",
              "  <div id=\"df-bc97e566-618c-4655-95bc-bb26f4e1b5df\">\n",
              "    <div class=\"colab-df-container\">\n",
              "      <div>\n",
              "<style scoped>\n",
              "    .dataframe tbody tr th:only-of-type {\n",
              "        vertical-align: middle;\n",
              "    }\n",
              "\n",
              "    .dataframe tbody tr th {\n",
              "        vertical-align: top;\n",
              "    }\n",
              "\n",
              "    .dataframe thead th {\n",
              "        text-align: right;\n",
              "    }\n",
              "</style>\n",
              "<table border=\"1\" class=\"dataframe\">\n",
              "  <thead>\n",
              "    <tr style=\"text-align: right;\">\n",
              "      <th></th>\n",
              "      <th>table_id</th>\n",
              "      <th>type</th>\n",
              "      <th>row_count</th>\n",
              "      <th>size_MB</th>\n",
              "      <th>creation_time</th>\n",
              "      <th>last_modified_time</th>\n",
              "    </tr>\n",
              "  </thead>\n",
              "  <tbody>\n",
              "    <tr>\n",
              "      <th>0</th>\n",
              "      <td>events_20201101</td>\n",
              "      <td>Table</td>\n",
              "      <td>31272</td>\n",
              "      <td>22.5</td>\n",
              "      <td>2021-08-10 22:28:10.530000+00:00</td>\n",
              "      <td>2021-08-10 22:28:10.530000+00:00</td>\n",
              "    </tr>\n",
              "    <tr>\n",
              "      <th>1</th>\n",
              "      <td>events_20201102</td>\n",
              "      <td>Table</td>\n",
              "      <td>48388</td>\n",
              "      <td>35.8</td>\n",
              "      <td>2021-08-10 22:28:10.716000+00:00</td>\n",
              "      <td>2021-08-10 22:28:10.716000+00:00</td>\n",
              "    </tr>\n",
              "    <tr>\n",
              "      <th>2</th>\n",
              "      <td>events_20201103</td>\n",
              "      <td>Table</td>\n",
              "      <td>61672</td>\n",
              "      <td>45.4</td>\n",
              "      <td>2021-08-10 22:28:10.537000+00:00</td>\n",
              "      <td>2021-08-10 22:28:10.537000+00:00</td>\n",
              "    </tr>\n",
              "    <tr>\n",
              "      <th>3</th>\n",
              "      <td>events_20201104</td>\n",
              "      <td>Table</td>\n",
              "      <td>51866</td>\n",
              "      <td>38.2</td>\n",
              "      <td>2021-08-10 22:28:10.714000+00:00</td>\n",
              "      <td>2021-08-10 22:28:10.714000+00:00</td>\n",
              "    </tr>\n",
              "    <tr>\n",
              "      <th>4</th>\n",
              "      <td>events_20201105</td>\n",
              "      <td>Table</td>\n",
              "      <td>51952</td>\n",
              "      <td>38.2</td>\n",
              "      <td>2021-08-10 22:28:10.758000+00:00</td>\n",
              "      <td>2021-08-10 22:28:10.758000+00:00</td>\n",
              "    </tr>\n",
              "    <tr>\n",
              "      <th>...</th>\n",
              "      <td>...</td>\n",
              "      <td>...</td>\n",
              "      <td>...</td>\n",
              "      <td>...</td>\n",
              "      <td>...</td>\n",
              "      <td>...</td>\n",
              "    </tr>\n",
              "    <tr>\n",
              "      <th>87</th>\n",
              "      <td>events_20210127</td>\n",
              "      <td>Table</td>\n",
              "      <td>48665</td>\n",
              "      <td>36.7</td>\n",
              "      <td>2021-08-10 22:28:17.994000+00:00</td>\n",
              "      <td>2021-08-10 22:28:17.994000+00:00</td>\n",
              "    </tr>\n",
              "    <tr>\n",
              "      <th>88</th>\n",
              "      <td>events_20210128</td>\n",
              "      <td>Table</td>\n",
              "      <td>43131</td>\n",
              "      <td>32.3</td>\n",
              "      <td>2021-08-10 22:28:18.081000+00:00</td>\n",
              "      <td>2021-08-10 22:28:18.081000+00:00</td>\n",
              "    </tr>\n",
              "    <tr>\n",
              "      <th>89</th>\n",
              "      <td>events_20210129</td>\n",
              "      <td>Table</td>\n",
              "      <td>40877</td>\n",
              "      <td>31.0</td>\n",
              "      <td>2021-08-10 22:28:18.271000+00:00</td>\n",
              "      <td>2021-08-10 22:28:18.271000+00:00</td>\n",
              "    </tr>\n",
              "    <tr>\n",
              "      <th>90</th>\n",
              "      <td>events_20210130</td>\n",
              "      <td>Table</td>\n",
              "      <td>30395</td>\n",
              "      <td>22.8</td>\n",
              "      <td>2021-08-10 22:28:18.523000+00:00</td>\n",
              "      <td>2021-08-10 22:28:18.523000+00:00</td>\n",
              "    </tr>\n",
              "    <tr>\n",
              "      <th>91</th>\n",
              "      <td>events_20210131</td>\n",
              "      <td>Table</td>\n",
              "      <td>26489</td>\n",
              "      <td>19.1</td>\n",
              "      <td>2021-08-10 22:28:18.435000+00:00</td>\n",
              "      <td>2021-08-10 22:28:18.435000+00:00</td>\n",
              "    </tr>\n",
              "  </tbody>\n",
              "</table>\n",
              "<p>92 rows × 6 columns</p>\n",
              "</div>\n",
              "      <button class=\"colab-df-convert\" onclick=\"convertToInteractive('df-bc97e566-618c-4655-95bc-bb26f4e1b5df')\"\n",
              "              title=\"Convert this dataframe to an interactive table.\"\n",
              "              style=\"display:none;\">\n",
              "        \n",
              "  <svg xmlns=\"http://www.w3.org/2000/svg\" height=\"24px\"viewBox=\"0 0 24 24\"\n",
              "       width=\"24px\">\n",
              "    <path d=\"M0 0h24v24H0V0z\" fill=\"none\"/>\n",
              "    <path d=\"M18.56 5.44l.94 2.06.94-2.06 2.06-.94-2.06-.94-.94-2.06-.94 2.06-2.06.94zm-11 1L8.5 8.5l.94-2.06 2.06-.94-2.06-.94L8.5 2.5l-.94 2.06-2.06.94zm10 10l.94 2.06.94-2.06 2.06-.94-2.06-.94-.94-2.06-.94 2.06-2.06.94z\"/><path d=\"M17.41 7.96l-1.37-1.37c-.4-.4-.92-.59-1.43-.59-.52 0-1.04.2-1.43.59L10.3 9.45l-7.72 7.72c-.78.78-.78 2.05 0 2.83L4 21.41c.39.39.9.59 1.41.59.51 0 1.02-.2 1.41-.59l7.78-7.78 2.81-2.81c.8-.78.8-2.07 0-2.86zM5.41 20L4 18.59l7.72-7.72 1.47 1.35L5.41 20z\"/>\n",
              "  </svg>\n",
              "      </button>\n",
              "      \n",
              "  <style>\n",
              "    .colab-df-container {\n",
              "      display:flex;\n",
              "      flex-wrap:wrap;\n",
              "      gap: 12px;\n",
              "    }\n",
              "\n",
              "    .colab-df-convert {\n",
              "      background-color: #E8F0FE;\n",
              "      border: none;\n",
              "      border-radius: 50%;\n",
              "      cursor: pointer;\n",
              "      display: none;\n",
              "      fill: #1967D2;\n",
              "      height: 32px;\n",
              "      padding: 0 0 0 0;\n",
              "      width: 32px;\n",
              "    }\n",
              "\n",
              "    .colab-df-convert:hover {\n",
              "      background-color: #E2EBFA;\n",
              "      box-shadow: 0px 1px 2px rgba(60, 64, 67, 0.3), 0px 1px 3px 1px rgba(60, 64, 67, 0.15);\n",
              "      fill: #174EA6;\n",
              "    }\n",
              "\n",
              "    [theme=dark] .colab-df-convert {\n",
              "      background-color: #3B4455;\n",
              "      fill: #D2E3FC;\n",
              "    }\n",
              "\n",
              "    [theme=dark] .colab-df-convert:hover {\n",
              "      background-color: #434B5C;\n",
              "      box-shadow: 0px 1px 3px 1px rgba(0, 0, 0, 0.15);\n",
              "      filter: drop-shadow(0px 1px 2px rgba(0, 0, 0, 0.3));\n",
              "      fill: #FFFFFF;\n",
              "    }\n",
              "  </style>\n",
              "\n",
              "      <script>\n",
              "        const buttonEl =\n",
              "          document.querySelector('#df-bc97e566-618c-4655-95bc-bb26f4e1b5df button.colab-df-convert');\n",
              "        buttonEl.style.display =\n",
              "          google.colab.kernel.accessAllowed ? 'block' : 'none';\n",
              "\n",
              "        async function convertToInteractive(key) {\n",
              "          const element = document.querySelector('#df-bc97e566-618c-4655-95bc-bb26f4e1b5df');\n",
              "          const dataTable =\n",
              "            await google.colab.kernel.invokeFunction('convertToInteractive',\n",
              "                                                     [key], {});\n",
              "          if (!dataTable) return;\n",
              "\n",
              "          const docLinkHtml = 'Like what you see? Visit the ' +\n",
              "            '<a target=\"_blank\" href=https://colab.research.google.com/notebooks/data_table.ipynb>data table notebook</a>'\n",
              "            + ' to learn more about interactive tables.';\n",
              "          element.innerHTML = '';\n",
              "          dataTable['output_type'] = 'display_data';\n",
              "          await google.colab.output.renderOutput(dataTable, element);\n",
              "          const docLink = document.createElement('div');\n",
              "          docLink.innerHTML = docLinkHtml;\n",
              "          element.appendChild(docLink);\n",
              "        }\n",
              "      </script>\n",
              "    </div>\n",
              "  </div>\n",
              "  "
            ]
          },
          "metadata": {},
          "execution_count": 20
        }
      ],
      "source": [
        "%%bigquery --project $PROJECT_ID \n",
        "SELECT \n",
        "  table_id,\n",
        "\n",
        "  (CASE\n",
        "     WHEN type = 1 THEN 'Table'\n",
        "     WHEN type = 2 THEN 'View'\n",
        "     ELSE NULL\n",
        "     END) AS type,\n",
        "\n",
        "  row_count,\n",
        "  ROUND(size_bytes / POW(2, 20), 1) AS size_MB,\n",
        "  TIMESTAMP_MILLIS(creation_time) AS creation_time,\n",
        "  TIMESTAMP_MILLIS(last_modified_time) AS last_modified_time \n",
        "\n",
        "FROM\n",
        "  /* __TABLES__ functionality to look at all tables in given dataset */\n",
        "  `bigquery-public-data.ga4_obfuscated_sample_ecommerce`.__TABLES__\n",
        "\n",
        "ORDER BY\n",
        "  table_id  "
      ]
    },
    {
      "cell_type": "markdown",
      "source": [
        "You can see again that there are 92 tables, one corresponding to each date in the span, with a couple dozen MB of data in each."
      ],
      "metadata": {
        "id": "bOf8FlmiGmTC"
      }
    },
    {
      "cell_type": "markdown",
      "metadata": {
        "id": "qInG0akfYjdg"
      },
      "source": [
        "#### Get information on each table column\n",
        "Next, you use the [COLUMNS view](https://cloud.google.com/bigquery/docs/information-schema-columns) from the BigQuery INFORMATION_SCHEMA to get one row for each column in the GA4 sample data table."
      ]
    },
    {
      "cell_type": "code",
      "execution_count": 21,
      "metadata": {
        "colab": {
          "base_uri": "https://localhost:8080/",
          "height": 1000
        },
        "id": "Yyvnv57MYjdg",
        "outputId": "d146908c-7943-4273-e644-199bd9307297"
      },
      "outputs": [
        {
          "output_type": "execute_result",
          "data": {
            "text/plain": [
              "           table_catalog                     table_schema       table_name  \\\n",
              "0   bigquery-public-data  ga4_obfuscated_sample_ecommerce  events_20210131   \n",
              "1   bigquery-public-data  ga4_obfuscated_sample_ecommerce  events_20210131   \n",
              "2   bigquery-public-data  ga4_obfuscated_sample_ecommerce  events_20210131   \n",
              "3   bigquery-public-data  ga4_obfuscated_sample_ecommerce  events_20210131   \n",
              "4   bigquery-public-data  ga4_obfuscated_sample_ecommerce  events_20210131   \n",
              "5   bigquery-public-data  ga4_obfuscated_sample_ecommerce  events_20210131   \n",
              "6   bigquery-public-data  ga4_obfuscated_sample_ecommerce  events_20210131   \n",
              "7   bigquery-public-data  ga4_obfuscated_sample_ecommerce  events_20210131   \n",
              "8   bigquery-public-data  ga4_obfuscated_sample_ecommerce  events_20210131   \n",
              "9   bigquery-public-data  ga4_obfuscated_sample_ecommerce  events_20210131   \n",
              "10  bigquery-public-data  ga4_obfuscated_sample_ecommerce  events_20210131   \n",
              "11  bigquery-public-data  ga4_obfuscated_sample_ecommerce  events_20210131   \n",
              "12  bigquery-public-data  ga4_obfuscated_sample_ecommerce  events_20210131   \n",
              "13  bigquery-public-data  ga4_obfuscated_sample_ecommerce  events_20210131   \n",
              "14  bigquery-public-data  ga4_obfuscated_sample_ecommerce  events_20210131   \n",
              "15  bigquery-public-data  ga4_obfuscated_sample_ecommerce  events_20210131   \n",
              "16  bigquery-public-data  ga4_obfuscated_sample_ecommerce  events_20210131   \n",
              "17  bigquery-public-data  ga4_obfuscated_sample_ecommerce  events_20210131   \n",
              "18  bigquery-public-data  ga4_obfuscated_sample_ecommerce  events_20210131   \n",
              "19  bigquery-public-data  ga4_obfuscated_sample_ecommerce  events_20210131   \n",
              "20  bigquery-public-data  ga4_obfuscated_sample_ecommerce  events_20210131   \n",
              "21  bigquery-public-data  ga4_obfuscated_sample_ecommerce  events_20210131   \n",
              "22  bigquery-public-data  ga4_obfuscated_sample_ecommerce  events_20210131   \n",
              "\n",
              "                      column_name  ordinal_position is_nullable  \\\n",
              "0                      event_date                 1         YES   \n",
              "1                 event_timestamp                 2         YES   \n",
              "2                      event_name                 3         YES   \n",
              "3                    event_params                 4          NO   \n",
              "4        event_previous_timestamp                 5         YES   \n",
              "5              event_value_in_usd                 6         YES   \n",
              "6        event_bundle_sequence_id                 7         YES   \n",
              "7   event_server_timestamp_offset                 8         YES   \n",
              "8                         user_id                 9         YES   \n",
              "9                  user_pseudo_id                10         YES   \n",
              "10                   privacy_info                11         YES   \n",
              "11                user_properties                12          NO   \n",
              "12     user_first_touch_timestamp                13         YES   \n",
              "13                       user_ltv                14         YES   \n",
              "14                         device                15         YES   \n",
              "15                            geo                16         YES   \n",
              "16                       app_info                17         YES   \n",
              "17                 traffic_source                18         YES   \n",
              "18                      stream_id                19         YES   \n",
              "19                       platform                20         YES   \n",
              "20               event_dimensions                21         YES   \n",
              "21                      ecommerce                22         YES   \n",
              "22                          items                23          NO   \n",
              "\n",
              "                                            data_type is_generated  \\\n",
              "0                                              STRING        NEVER   \n",
              "1                                               INT64        NEVER   \n",
              "2                                              STRING        NEVER   \n",
              "3   ARRAY<STRUCT<key STRING, value STRUCT<string_v...        NEVER   \n",
              "4                                               INT64        NEVER   \n",
              "5                                             FLOAT64        NEVER   \n",
              "6                                               INT64        NEVER   \n",
              "7                                               INT64        NEVER   \n",
              "8                                              STRING        NEVER   \n",
              "9                                              STRING        NEVER   \n",
              "10  STRUCT<analytics_storage INT64, ads_storage IN...        NEVER   \n",
              "11  ARRAY<STRUCT<key INT64, value STRUCT<string_va...        NEVER   \n",
              "12                                              INT64        NEVER   \n",
              "13           STRUCT<revenue FLOAT64, currency STRING>        NEVER   \n",
              "14  STRUCT<category STRING, mobile_brand_name STRI...        NEVER   \n",
              "15  STRUCT<continent STRING, sub_continent STRING,...        NEVER   \n",
              "16  STRUCT<id STRING, version STRING, install_stor...        NEVER   \n",
              "17  STRUCT<medium STRING, name STRING, source STRING>        NEVER   \n",
              "18                                              INT64        NEVER   \n",
              "19                                             STRING        NEVER   \n",
              "20                            STRUCT<hostname STRING>        NEVER   \n",
              "21  STRUCT<total_item_quantity INT64, purchase_rev...        NEVER   \n",
              "22  ARRAY<STRUCT<item_id STRING, item_name STRING,...        NEVER   \n",
              "\n",
              "   generation_expression is_stored is_hidden is_updatable is_system_defined  \\\n",
              "0                   None      None        NO         None                NO   \n",
              "1                   None      None        NO         None                NO   \n",
              "2                   None      None        NO         None                NO   \n",
              "3                   None      None        NO         None                NO   \n",
              "4                   None      None        NO         None                NO   \n",
              "5                   None      None        NO         None                NO   \n",
              "6                   None      None        NO         None                NO   \n",
              "7                   None      None        NO         None                NO   \n",
              "8                   None      None        NO         None                NO   \n",
              "9                   None      None        NO         None                NO   \n",
              "10                  None      None        NO         None                NO   \n",
              "11                  None      None        NO         None                NO   \n",
              "12                  None      None        NO         None                NO   \n",
              "13                  None      None        NO         None                NO   \n",
              "14                  None      None        NO         None                NO   \n",
              "15                  None      None        NO         None                NO   \n",
              "16                  None      None        NO         None                NO   \n",
              "17                  None      None        NO         None                NO   \n",
              "18                  None      None        NO         None                NO   \n",
              "19                  None      None        NO         None                NO   \n",
              "20                  None      None        NO         None                NO   \n",
              "21                  None      None        NO         None                NO   \n",
              "22                  None      None        NO         None                NO   \n",
              "\n",
              "   is_partitioning_column  clustering_ordinal_position collation_name  \\\n",
              "0                      NO                          NaN           NULL   \n",
              "1                      NO                          NaN           NULL   \n",
              "2                      NO                          NaN           NULL   \n",
              "3                      NO                          NaN           NULL   \n",
              "4                      NO                          NaN           NULL   \n",
              "5                      NO                          NaN           NULL   \n",
              "6                      NO                          NaN           NULL   \n",
              "7                      NO                          NaN           NULL   \n",
              "8                      NO                          NaN           NULL   \n",
              "9                      NO                          NaN           NULL   \n",
              "10                     NO                          NaN           NULL   \n",
              "11                     NO                          NaN           NULL   \n",
              "12                     NO                          NaN           NULL   \n",
              "13                     NO                          NaN           NULL   \n",
              "14                     NO                          NaN           NULL   \n",
              "15                     NO                          NaN           NULL   \n",
              "16                     NO                          NaN           NULL   \n",
              "17                     NO                          NaN           NULL   \n",
              "18                     NO                          NaN           NULL   \n",
              "19                     NO                          NaN           NULL   \n",
              "20                     NO                          NaN           NULL   \n",
              "21                     NO                          NaN           NULL   \n",
              "22                     NO                          NaN           NULL   \n",
              "\n",
              "   column_default  \n",
              "0            NULL  \n",
              "1            NULL  \n",
              "2            NULL  \n",
              "3            NULL  \n",
              "4            NULL  \n",
              "5            NULL  \n",
              "6            NULL  \n",
              "7            NULL  \n",
              "8            NULL  \n",
              "9            NULL  \n",
              "10           NULL  \n",
              "11           NULL  \n",
              "12           NULL  \n",
              "13           NULL  \n",
              "14           NULL  \n",
              "15           NULL  \n",
              "16           NULL  \n",
              "17           NULL  \n",
              "18           NULL  \n",
              "19           NULL  \n",
              "20           NULL  \n",
              "21           NULL  \n",
              "22           NULL  "
            ],
            "text/html": [
              "\n",
              "  <div id=\"df-fe3676ab-007c-43c6-832c-e48fdb0e5139\">\n",
              "    <div class=\"colab-df-container\">\n",
              "      <div>\n",
              "<style scoped>\n",
              "    .dataframe tbody tr th:only-of-type {\n",
              "        vertical-align: middle;\n",
              "    }\n",
              "\n",
              "    .dataframe tbody tr th {\n",
              "        vertical-align: top;\n",
              "    }\n",
              "\n",
              "    .dataframe thead th {\n",
              "        text-align: right;\n",
              "    }\n",
              "</style>\n",
              "<table border=\"1\" class=\"dataframe\">\n",
              "  <thead>\n",
              "    <tr style=\"text-align: right;\">\n",
              "      <th></th>\n",
              "      <th>table_catalog</th>\n",
              "      <th>table_schema</th>\n",
              "      <th>table_name</th>\n",
              "      <th>column_name</th>\n",
              "      <th>ordinal_position</th>\n",
              "      <th>is_nullable</th>\n",
              "      <th>data_type</th>\n",
              "      <th>is_generated</th>\n",
              "      <th>generation_expression</th>\n",
              "      <th>is_stored</th>\n",
              "      <th>is_hidden</th>\n",
              "      <th>is_updatable</th>\n",
              "      <th>is_system_defined</th>\n",
              "      <th>is_partitioning_column</th>\n",
              "      <th>clustering_ordinal_position</th>\n",
              "      <th>collation_name</th>\n",
              "      <th>column_default</th>\n",
              "    </tr>\n",
              "  </thead>\n",
              "  <tbody>\n",
              "    <tr>\n",
              "      <th>0</th>\n",
              "      <td>bigquery-public-data</td>\n",
              "      <td>ga4_obfuscated_sample_ecommerce</td>\n",
              "      <td>events_20210131</td>\n",
              "      <td>event_date</td>\n",
              "      <td>1</td>\n",
              "      <td>YES</td>\n",
              "      <td>STRING</td>\n",
              "      <td>NEVER</td>\n",
              "      <td>None</td>\n",
              "      <td>None</td>\n",
              "      <td>NO</td>\n",
              "      <td>None</td>\n",
              "      <td>NO</td>\n",
              "      <td>NO</td>\n",
              "      <td>NaN</td>\n",
              "      <td>NULL</td>\n",
              "      <td>NULL</td>\n",
              "    </tr>\n",
              "    <tr>\n",
              "      <th>1</th>\n",
              "      <td>bigquery-public-data</td>\n",
              "      <td>ga4_obfuscated_sample_ecommerce</td>\n",
              "      <td>events_20210131</td>\n",
              "      <td>event_timestamp</td>\n",
              "      <td>2</td>\n",
              "      <td>YES</td>\n",
              "      <td>INT64</td>\n",
              "      <td>NEVER</td>\n",
              "      <td>None</td>\n",
              "      <td>None</td>\n",
              "      <td>NO</td>\n",
              "      <td>None</td>\n",
              "      <td>NO</td>\n",
              "      <td>NO</td>\n",
              "      <td>NaN</td>\n",
              "      <td>NULL</td>\n",
              "      <td>NULL</td>\n",
              "    </tr>\n",
              "    <tr>\n",
              "      <th>2</th>\n",
              "      <td>bigquery-public-data</td>\n",
              "      <td>ga4_obfuscated_sample_ecommerce</td>\n",
              "      <td>events_20210131</td>\n",
              "      <td>event_name</td>\n",
              "      <td>3</td>\n",
              "      <td>YES</td>\n",
              "      <td>STRING</td>\n",
              "      <td>NEVER</td>\n",
              "      <td>None</td>\n",
              "      <td>None</td>\n",
              "      <td>NO</td>\n",
              "      <td>None</td>\n",
              "      <td>NO</td>\n",
              "      <td>NO</td>\n",
              "      <td>NaN</td>\n",
              "      <td>NULL</td>\n",
              "      <td>NULL</td>\n",
              "    </tr>\n",
              "    <tr>\n",
              "      <th>3</th>\n",
              "      <td>bigquery-public-data</td>\n",
              "      <td>ga4_obfuscated_sample_ecommerce</td>\n",
              "      <td>events_20210131</td>\n",
              "      <td>event_params</td>\n",
              "      <td>4</td>\n",
              "      <td>NO</td>\n",
              "      <td>ARRAY&lt;STRUCT&lt;key STRING, value STRUCT&lt;string_v...</td>\n",
              "      <td>NEVER</td>\n",
              "      <td>None</td>\n",
              "      <td>None</td>\n",
              "      <td>NO</td>\n",
              "      <td>None</td>\n",
              "      <td>NO</td>\n",
              "      <td>NO</td>\n",
              "      <td>NaN</td>\n",
              "      <td>NULL</td>\n",
              "      <td>NULL</td>\n",
              "    </tr>\n",
              "    <tr>\n",
              "      <th>4</th>\n",
              "      <td>bigquery-public-data</td>\n",
              "      <td>ga4_obfuscated_sample_ecommerce</td>\n",
              "      <td>events_20210131</td>\n",
              "      <td>event_previous_timestamp</td>\n",
              "      <td>5</td>\n",
              "      <td>YES</td>\n",
              "      <td>INT64</td>\n",
              "      <td>NEVER</td>\n",
              "      <td>None</td>\n",
              "      <td>None</td>\n",
              "      <td>NO</td>\n",
              "      <td>None</td>\n",
              "      <td>NO</td>\n",
              "      <td>NO</td>\n",
              "      <td>NaN</td>\n",
              "      <td>NULL</td>\n",
              "      <td>NULL</td>\n",
              "    </tr>\n",
              "    <tr>\n",
              "      <th>5</th>\n",
              "      <td>bigquery-public-data</td>\n",
              "      <td>ga4_obfuscated_sample_ecommerce</td>\n",
              "      <td>events_20210131</td>\n",
              "      <td>event_value_in_usd</td>\n",
              "      <td>6</td>\n",
              "      <td>YES</td>\n",
              "      <td>FLOAT64</td>\n",
              "      <td>NEVER</td>\n",
              "      <td>None</td>\n",
              "      <td>None</td>\n",
              "      <td>NO</td>\n",
              "      <td>None</td>\n",
              "      <td>NO</td>\n",
              "      <td>NO</td>\n",
              "      <td>NaN</td>\n",
              "      <td>NULL</td>\n",
              "      <td>NULL</td>\n",
              "    </tr>\n",
              "    <tr>\n",
              "      <th>6</th>\n",
              "      <td>bigquery-public-data</td>\n",
              "      <td>ga4_obfuscated_sample_ecommerce</td>\n",
              "      <td>events_20210131</td>\n",
              "      <td>event_bundle_sequence_id</td>\n",
              "      <td>7</td>\n",
              "      <td>YES</td>\n",
              "      <td>INT64</td>\n",
              "      <td>NEVER</td>\n",
              "      <td>None</td>\n",
              "      <td>None</td>\n",
              "      <td>NO</td>\n",
              "      <td>None</td>\n",
              "      <td>NO</td>\n",
              "      <td>NO</td>\n",
              "      <td>NaN</td>\n",
              "      <td>NULL</td>\n",
              "      <td>NULL</td>\n",
              "    </tr>\n",
              "    <tr>\n",
              "      <th>7</th>\n",
              "      <td>bigquery-public-data</td>\n",
              "      <td>ga4_obfuscated_sample_ecommerce</td>\n",
              "      <td>events_20210131</td>\n",
              "      <td>event_server_timestamp_offset</td>\n",
              "      <td>8</td>\n",
              "      <td>YES</td>\n",
              "      <td>INT64</td>\n",
              "      <td>NEVER</td>\n",
              "      <td>None</td>\n",
              "      <td>None</td>\n",
              "      <td>NO</td>\n",
              "      <td>None</td>\n",
              "      <td>NO</td>\n",
              "      <td>NO</td>\n",
              "      <td>NaN</td>\n",
              "      <td>NULL</td>\n",
              "      <td>NULL</td>\n",
              "    </tr>\n",
              "    <tr>\n",
              "      <th>8</th>\n",
              "      <td>bigquery-public-data</td>\n",
              "      <td>ga4_obfuscated_sample_ecommerce</td>\n",
              "      <td>events_20210131</td>\n",
              "      <td>user_id</td>\n",
              "      <td>9</td>\n",
              "      <td>YES</td>\n",
              "      <td>STRING</td>\n",
              "      <td>NEVER</td>\n",
              "      <td>None</td>\n",
              "      <td>None</td>\n",
              "      <td>NO</td>\n",
              "      <td>None</td>\n",
              "      <td>NO</td>\n",
              "      <td>NO</td>\n",
              "      <td>NaN</td>\n",
              "      <td>NULL</td>\n",
              "      <td>NULL</td>\n",
              "    </tr>\n",
              "    <tr>\n",
              "      <th>9</th>\n",
              "      <td>bigquery-public-data</td>\n",
              "      <td>ga4_obfuscated_sample_ecommerce</td>\n",
              "      <td>events_20210131</td>\n",
              "      <td>user_pseudo_id</td>\n",
              "      <td>10</td>\n",
              "      <td>YES</td>\n",
              "      <td>STRING</td>\n",
              "      <td>NEVER</td>\n",
              "      <td>None</td>\n",
              "      <td>None</td>\n",
              "      <td>NO</td>\n",
              "      <td>None</td>\n",
              "      <td>NO</td>\n",
              "      <td>NO</td>\n",
              "      <td>NaN</td>\n",
              "      <td>NULL</td>\n",
              "      <td>NULL</td>\n",
              "    </tr>\n",
              "    <tr>\n",
              "      <th>10</th>\n",
              "      <td>bigquery-public-data</td>\n",
              "      <td>ga4_obfuscated_sample_ecommerce</td>\n",
              "      <td>events_20210131</td>\n",
              "      <td>privacy_info</td>\n",
              "      <td>11</td>\n",
              "      <td>YES</td>\n",
              "      <td>STRUCT&lt;analytics_storage INT64, ads_storage IN...</td>\n",
              "      <td>NEVER</td>\n",
              "      <td>None</td>\n",
              "      <td>None</td>\n",
              "      <td>NO</td>\n",
              "      <td>None</td>\n",
              "      <td>NO</td>\n",
              "      <td>NO</td>\n",
              "      <td>NaN</td>\n",
              "      <td>NULL</td>\n",
              "      <td>NULL</td>\n",
              "    </tr>\n",
              "    <tr>\n",
              "      <th>11</th>\n",
              "      <td>bigquery-public-data</td>\n",
              "      <td>ga4_obfuscated_sample_ecommerce</td>\n",
              "      <td>events_20210131</td>\n",
              "      <td>user_properties</td>\n",
              "      <td>12</td>\n",
              "      <td>NO</td>\n",
              "      <td>ARRAY&lt;STRUCT&lt;key INT64, value STRUCT&lt;string_va...</td>\n",
              "      <td>NEVER</td>\n",
              "      <td>None</td>\n",
              "      <td>None</td>\n",
              "      <td>NO</td>\n",
              "      <td>None</td>\n",
              "      <td>NO</td>\n",
              "      <td>NO</td>\n",
              "      <td>NaN</td>\n",
              "      <td>NULL</td>\n",
              "      <td>NULL</td>\n",
              "    </tr>\n",
              "    <tr>\n",
              "      <th>12</th>\n",
              "      <td>bigquery-public-data</td>\n",
              "      <td>ga4_obfuscated_sample_ecommerce</td>\n",
              "      <td>events_20210131</td>\n",
              "      <td>user_first_touch_timestamp</td>\n",
              "      <td>13</td>\n",
              "      <td>YES</td>\n",
              "      <td>INT64</td>\n",
              "      <td>NEVER</td>\n",
              "      <td>None</td>\n",
              "      <td>None</td>\n",
              "      <td>NO</td>\n",
              "      <td>None</td>\n",
              "      <td>NO</td>\n",
              "      <td>NO</td>\n",
              "      <td>NaN</td>\n",
              "      <td>NULL</td>\n",
              "      <td>NULL</td>\n",
              "    </tr>\n",
              "    <tr>\n",
              "      <th>13</th>\n",
              "      <td>bigquery-public-data</td>\n",
              "      <td>ga4_obfuscated_sample_ecommerce</td>\n",
              "      <td>events_20210131</td>\n",
              "      <td>user_ltv</td>\n",
              "      <td>14</td>\n",
              "      <td>YES</td>\n",
              "      <td>STRUCT&lt;revenue FLOAT64, currency STRING&gt;</td>\n",
              "      <td>NEVER</td>\n",
              "      <td>None</td>\n",
              "      <td>None</td>\n",
              "      <td>NO</td>\n",
              "      <td>None</td>\n",
              "      <td>NO</td>\n",
              "      <td>NO</td>\n",
              "      <td>NaN</td>\n",
              "      <td>NULL</td>\n",
              "      <td>NULL</td>\n",
              "    </tr>\n",
              "    <tr>\n",
              "      <th>14</th>\n",
              "      <td>bigquery-public-data</td>\n",
              "      <td>ga4_obfuscated_sample_ecommerce</td>\n",
              "      <td>events_20210131</td>\n",
              "      <td>device</td>\n",
              "      <td>15</td>\n",
              "      <td>YES</td>\n",
              "      <td>STRUCT&lt;category STRING, mobile_brand_name STRI...</td>\n",
              "      <td>NEVER</td>\n",
              "      <td>None</td>\n",
              "      <td>None</td>\n",
              "      <td>NO</td>\n",
              "      <td>None</td>\n",
              "      <td>NO</td>\n",
              "      <td>NO</td>\n",
              "      <td>NaN</td>\n",
              "      <td>NULL</td>\n",
              "      <td>NULL</td>\n",
              "    </tr>\n",
              "    <tr>\n",
              "      <th>15</th>\n",
              "      <td>bigquery-public-data</td>\n",
              "      <td>ga4_obfuscated_sample_ecommerce</td>\n",
              "      <td>events_20210131</td>\n",
              "      <td>geo</td>\n",
              "      <td>16</td>\n",
              "      <td>YES</td>\n",
              "      <td>STRUCT&lt;continent STRING, sub_continent STRING,...</td>\n",
              "      <td>NEVER</td>\n",
              "      <td>None</td>\n",
              "      <td>None</td>\n",
              "      <td>NO</td>\n",
              "      <td>None</td>\n",
              "      <td>NO</td>\n",
              "      <td>NO</td>\n",
              "      <td>NaN</td>\n",
              "      <td>NULL</td>\n",
              "      <td>NULL</td>\n",
              "    </tr>\n",
              "    <tr>\n",
              "      <th>16</th>\n",
              "      <td>bigquery-public-data</td>\n",
              "      <td>ga4_obfuscated_sample_ecommerce</td>\n",
              "      <td>events_20210131</td>\n",
              "      <td>app_info</td>\n",
              "      <td>17</td>\n",
              "      <td>YES</td>\n",
              "      <td>STRUCT&lt;id STRING, version STRING, install_stor...</td>\n",
              "      <td>NEVER</td>\n",
              "      <td>None</td>\n",
              "      <td>None</td>\n",
              "      <td>NO</td>\n",
              "      <td>None</td>\n",
              "      <td>NO</td>\n",
              "      <td>NO</td>\n",
              "      <td>NaN</td>\n",
              "      <td>NULL</td>\n",
              "      <td>NULL</td>\n",
              "    </tr>\n",
              "    <tr>\n",
              "      <th>17</th>\n",
              "      <td>bigquery-public-data</td>\n",
              "      <td>ga4_obfuscated_sample_ecommerce</td>\n",
              "      <td>events_20210131</td>\n",
              "      <td>traffic_source</td>\n",
              "      <td>18</td>\n",
              "      <td>YES</td>\n",
              "      <td>STRUCT&lt;medium STRING, name STRING, source STRING&gt;</td>\n",
              "      <td>NEVER</td>\n",
              "      <td>None</td>\n",
              "      <td>None</td>\n",
              "      <td>NO</td>\n",
              "      <td>None</td>\n",
              "      <td>NO</td>\n",
              "      <td>NO</td>\n",
              "      <td>NaN</td>\n",
              "      <td>NULL</td>\n",
              "      <td>NULL</td>\n",
              "    </tr>\n",
              "    <tr>\n",
              "      <th>18</th>\n",
              "      <td>bigquery-public-data</td>\n",
              "      <td>ga4_obfuscated_sample_ecommerce</td>\n",
              "      <td>events_20210131</td>\n",
              "      <td>stream_id</td>\n",
              "      <td>19</td>\n",
              "      <td>YES</td>\n",
              "      <td>INT64</td>\n",
              "      <td>NEVER</td>\n",
              "      <td>None</td>\n",
              "      <td>None</td>\n",
              "      <td>NO</td>\n",
              "      <td>None</td>\n",
              "      <td>NO</td>\n",
              "      <td>NO</td>\n",
              "      <td>NaN</td>\n",
              "      <td>NULL</td>\n",
              "      <td>NULL</td>\n",
              "    </tr>\n",
              "    <tr>\n",
              "      <th>19</th>\n",
              "      <td>bigquery-public-data</td>\n",
              "      <td>ga4_obfuscated_sample_ecommerce</td>\n",
              "      <td>events_20210131</td>\n",
              "      <td>platform</td>\n",
              "      <td>20</td>\n",
              "      <td>YES</td>\n",
              "      <td>STRING</td>\n",
              "      <td>NEVER</td>\n",
              "      <td>None</td>\n",
              "      <td>None</td>\n",
              "      <td>NO</td>\n",
              "      <td>None</td>\n",
              "      <td>NO</td>\n",
              "      <td>NO</td>\n",
              "      <td>NaN</td>\n",
              "      <td>NULL</td>\n",
              "      <td>NULL</td>\n",
              "    </tr>\n",
              "    <tr>\n",
              "      <th>20</th>\n",
              "      <td>bigquery-public-data</td>\n",
              "      <td>ga4_obfuscated_sample_ecommerce</td>\n",
              "      <td>events_20210131</td>\n",
              "      <td>event_dimensions</td>\n",
              "      <td>21</td>\n",
              "      <td>YES</td>\n",
              "      <td>STRUCT&lt;hostname STRING&gt;</td>\n",
              "      <td>NEVER</td>\n",
              "      <td>None</td>\n",
              "      <td>None</td>\n",
              "      <td>NO</td>\n",
              "      <td>None</td>\n",
              "      <td>NO</td>\n",
              "      <td>NO</td>\n",
              "      <td>NaN</td>\n",
              "      <td>NULL</td>\n",
              "      <td>NULL</td>\n",
              "    </tr>\n",
              "    <tr>\n",
              "      <th>21</th>\n",
              "      <td>bigquery-public-data</td>\n",
              "      <td>ga4_obfuscated_sample_ecommerce</td>\n",
              "      <td>events_20210131</td>\n",
              "      <td>ecommerce</td>\n",
              "      <td>22</td>\n",
              "      <td>YES</td>\n",
              "      <td>STRUCT&lt;total_item_quantity INT64, purchase_rev...</td>\n",
              "      <td>NEVER</td>\n",
              "      <td>None</td>\n",
              "      <td>None</td>\n",
              "      <td>NO</td>\n",
              "      <td>None</td>\n",
              "      <td>NO</td>\n",
              "      <td>NO</td>\n",
              "      <td>NaN</td>\n",
              "      <td>NULL</td>\n",
              "      <td>NULL</td>\n",
              "    </tr>\n",
              "    <tr>\n",
              "      <th>22</th>\n",
              "      <td>bigquery-public-data</td>\n",
              "      <td>ga4_obfuscated_sample_ecommerce</td>\n",
              "      <td>events_20210131</td>\n",
              "      <td>items</td>\n",
              "      <td>23</td>\n",
              "      <td>NO</td>\n",
              "      <td>ARRAY&lt;STRUCT&lt;item_id STRING, item_name STRING,...</td>\n",
              "      <td>NEVER</td>\n",
              "      <td>None</td>\n",
              "      <td>None</td>\n",
              "      <td>NO</td>\n",
              "      <td>None</td>\n",
              "      <td>NO</td>\n",
              "      <td>NO</td>\n",
              "      <td>NaN</td>\n",
              "      <td>NULL</td>\n",
              "      <td>NULL</td>\n",
              "    </tr>\n",
              "  </tbody>\n",
              "</table>\n",
              "</div>\n",
              "      <button class=\"colab-df-convert\" onclick=\"convertToInteractive('df-fe3676ab-007c-43c6-832c-e48fdb0e5139')\"\n",
              "              title=\"Convert this dataframe to an interactive table.\"\n",
              "              style=\"display:none;\">\n",
              "        \n",
              "  <svg xmlns=\"http://www.w3.org/2000/svg\" height=\"24px\"viewBox=\"0 0 24 24\"\n",
              "       width=\"24px\">\n",
              "    <path d=\"M0 0h24v24H0V0z\" fill=\"none\"/>\n",
              "    <path d=\"M18.56 5.44l.94 2.06.94-2.06 2.06-.94-2.06-.94-.94-2.06-.94 2.06-2.06.94zm-11 1L8.5 8.5l.94-2.06 2.06-.94-2.06-.94L8.5 2.5l-.94 2.06-2.06.94zm10 10l.94 2.06.94-2.06 2.06-.94-2.06-.94-.94-2.06-.94 2.06-2.06.94z\"/><path d=\"M17.41 7.96l-1.37-1.37c-.4-.4-.92-.59-1.43-.59-.52 0-1.04.2-1.43.59L10.3 9.45l-7.72 7.72c-.78.78-.78 2.05 0 2.83L4 21.41c.39.39.9.59 1.41.59.51 0 1.02-.2 1.41-.59l7.78-7.78 2.81-2.81c.8-.78.8-2.07 0-2.86zM5.41 20L4 18.59l7.72-7.72 1.47 1.35L5.41 20z\"/>\n",
              "  </svg>\n",
              "      </button>\n",
              "      \n",
              "  <style>\n",
              "    .colab-df-container {\n",
              "      display:flex;\n",
              "      flex-wrap:wrap;\n",
              "      gap: 12px;\n",
              "    }\n",
              "\n",
              "    .colab-df-convert {\n",
              "      background-color: #E8F0FE;\n",
              "      border: none;\n",
              "      border-radius: 50%;\n",
              "      cursor: pointer;\n",
              "      display: none;\n",
              "      fill: #1967D2;\n",
              "      height: 32px;\n",
              "      padding: 0 0 0 0;\n",
              "      width: 32px;\n",
              "    }\n",
              "\n",
              "    .colab-df-convert:hover {\n",
              "      background-color: #E2EBFA;\n",
              "      box-shadow: 0px 1px 2px rgba(60, 64, 67, 0.3), 0px 1px 3px 1px rgba(60, 64, 67, 0.15);\n",
              "      fill: #174EA6;\n",
              "    }\n",
              "\n",
              "    [theme=dark] .colab-df-convert {\n",
              "      background-color: #3B4455;\n",
              "      fill: #D2E3FC;\n",
              "    }\n",
              "\n",
              "    [theme=dark] .colab-df-convert:hover {\n",
              "      background-color: #434B5C;\n",
              "      box-shadow: 0px 1px 3px 1px rgba(0, 0, 0, 0.15);\n",
              "      filter: drop-shadow(0px 1px 2px rgba(0, 0, 0, 0.3));\n",
              "      fill: #FFFFFF;\n",
              "    }\n",
              "  </style>\n",
              "\n",
              "      <script>\n",
              "        const buttonEl =\n",
              "          document.querySelector('#df-fe3676ab-007c-43c6-832c-e48fdb0e5139 button.colab-df-convert');\n",
              "        buttonEl.style.display =\n",
              "          google.colab.kernel.accessAllowed ? 'block' : 'none';\n",
              "\n",
              "        async function convertToInteractive(key) {\n",
              "          const element = document.querySelector('#df-fe3676ab-007c-43c6-832c-e48fdb0e5139');\n",
              "          const dataTable =\n",
              "            await google.colab.kernel.invokeFunction('convertToInteractive',\n",
              "                                                     [key], {});\n",
              "          if (!dataTable) return;\n",
              "\n",
              "          const docLinkHtml = 'Like what you see? Visit the ' +\n",
              "            '<a target=\"_blank\" href=https://colab.research.google.com/notebooks/data_table.ipynb>data table notebook</a>'\n",
              "            + ' to learn more about interactive tables.';\n",
              "          element.innerHTML = '';\n",
              "          dataTable['output_type'] = 'display_data';\n",
              "          await google.colab.output.renderOutput(dataTable, element);\n",
              "          const docLink = document.createElement('div');\n",
              "          docLink.innerHTML = docLinkHtml;\n",
              "          element.appendChild(docLink);\n",
              "        }\n",
              "      </script>\n",
              "    </div>\n",
              "  </div>\n",
              "  "
            ]
          },
          "metadata": {},
          "execution_count": 21
        }
      ],
      "source": [
        "# Get max event date to use for query below\n",
        "max_event_date = max(event_dates['event_date'])\n",
        "\n",
        "# Get information on columns in GA4 data (using only 1 date table)\n",
        "info_schema_columns_sql = f'''\n",
        "    SELECT *\n",
        "    \n",
        "    FROM\n",
        "      `bigquery-public-data.ga4_obfuscated_sample_ecommerce`.\n",
        "      INFORMATION_SCHEMA.COLUMNS\n",
        "      \n",
        "    WHERE\n",
        "      table_name = 'events_{max_event_date}'\n",
        "    '''\n",
        "\n",
        "info_schema_columns = bq_query(info_schema_columns_sql)\n",
        "\n",
        "info_schema_columns"
      ]
    },
    {
      "cell_type": "markdown",
      "source": [
        "You can see the table has 23 columns, including strings, integers, floats, and several nested or repeated fields."
      ],
      "metadata": {
        "id": "wvVfJFvhIIBL"
      }
    },
    {
      "cell_type": "markdown",
      "metadata": {
        "id": "HFvLSnGoYjdg"
      },
      "source": [
        "#### Get interactive table of information on each (nested) field\n",
        "To explore the nested fields from the above table in more depth (since they have various useful fields), you can use the [COLUMN_FIELD_PATHS view](https://cloud.google.com/bigquery/docs/information-schema-column-field-paths)."
      ]
    },
    {
      "cell_type": "code",
      "execution_count": 22,
      "metadata": {
        "id": "zkTniRxJYjdg"
      },
      "outputs": [],
      "source": [
        "info_schema_column_field_paths_sql = f'''\n",
        "  SELECT\n",
        "    column_name,\n",
        "    field_path,\n",
        "    data_type\n",
        "  \n",
        "  FROM\n",
        "    `bigquery-public-data.ga4_obfuscated_sample_ecommerce`.\n",
        "    INFORMATION_SCHEMA.COLUMN_FIELD_PATHS\n",
        "    \n",
        "  WHERE\n",
        "    table_name = 'events_{max_event_date}'\n",
        "  '''\n",
        "\n",
        "info_schema_column_field_paths = bq_query(info_schema_column_field_paths_sql)"
      ]
    },
    {
      "cell_type": "markdown",
      "source": [
        "In this case, display the query results in an interactive table created using the [itables package](https://mwouts.github.io/itables/quick_start.html). This allows you to explore, filter, or sort your data right in the notebook cell output that has the table."
      ],
      "metadata": {
        "id": "q0XyuQtbKc5w"
      }
    },
    {
      "cell_type": "code",
      "source": [
        "show(info_schema_column_field_paths)"
      ],
      "metadata": {
        "colab": {
          "base_uri": "https://localhost:8080/",
          "height": 469
        },
        "id": "n9p68bWAKGzf",
        "outputId": "716b5caa-c7a8-45a1-ce35-9f022f95a44c"
      },
      "execution_count": 23,
      "outputs": [
        {
          "output_type": "display_data",
          "data": {
            "text/plain": [
              "<IPython.core.display.HTML object>"
            ],
            "text/html": [
              "<table id=\"18b94b16-7227-4f87-8918-1a2614c1efb0\" class=\"display\"style=\"max-width:100%\"><thead><th>column_name</th><th>field_path</th><th>data_type</th></thead><tbody><tr><td>Loading... (need <a href=https://mwouts.github.io/itables/troubleshooting.html>help</a>?)</td></tr></tbody></table>\n",
              "<style>\n",
              "table td {\n",
              "    text-overflow: ellipsis;\n",
              "    overflow: hidden;\n",
              "}\n",
              "\n",
              "table th {\n",
              "    text-overflow: ellipsis;\n",
              "    overflow: hidden;\n",
              "}\n",
              "\n",
              "thead input {\n",
              "    width: 100%;\n",
              "    padding: 3px;\n",
              "    box-sizing: border-box;\n",
              "}\n",
              "\n",
              "tfoot input {\n",
              "    width: 100%;\n",
              "    padding: 3px;\n",
              "    box-sizing: border-box;\n",
              "}\n",
              "\n",
              "</style>\n",
              "<link rel=\"stylesheet\" type=\"text/css\" href=\"https://cdn.datatables.net/1.12.1/css/jquery.dataTables.min.css\">\n",
              "<script type=\"module\">\n",
              "    // Import jquery and DataTable\n",
              "    import 'https://code.jquery.com/jquery-3.6.0.min.js';\n",
              "    import dt from 'https://cdn.datatables.net/1.12.1/js/jquery.dataTables.mjs';\n",
              "    dt($);\n",
              "\n",
              "    // Define the table data\n",
              "    const data = [[\"event_date\", \"event_date\", \"STRING\"], [\"event_timestamp\", \"event_timestamp\", \"INT64\"], [\"event_name\", \"event_name\", \"STRING\"], [\"event_params\", \"event_params\", \"ARRAY<STRUCT<key STRING, value STRUCT<string_value STRING, int_value INT64, float_value FLOAT64, double_value FLOAT64>>>\"], [\"event_params\", \"event_params.key\", \"STRING\"], [\"event_params\", \"event_params.value\", \"STRUCT<string_value STRING, int_value INT64, float_value FLOAT64, double_value FLOAT64>\"], [\"event_params\", \"event_params.value.string_value\", \"STRING\"], [\"event_params\", \"event_params.value.int_value\", \"INT64\"], [\"event_params\", \"event_params.value.float_value\", \"FLOAT64\"], [\"event_params\", \"event_params.value.double_value\", \"FLOAT64\"], [\"event_previous_timestamp\", \"event_previous_timestamp\", \"INT64\"], [\"event_value_in_usd\", \"event_value_in_usd\", \"FLOAT64\"], [\"event_bundle_sequence_id\", \"event_bundle_sequence_id\", \"INT64\"], [\"event_server_timestamp_offset\", \"event_server_timestamp_offset\", \"INT64\"], [\"user_id\", \"user_id\", \"STRING\"], [\"user_pseudo_id\", \"user_pseudo_id\", \"STRING\"], [\"privacy_info\", \"privacy_info\", \"STRUCT<analytics_storage INT64, ads_storage INT64, uses_transient_token STRING>\"], [\"privacy_info\", \"privacy_info.analytics_storage\", \"INT64\"], [\"privacy_info\", \"privacy_info.ads_storage\", \"INT64\"], [\"privacy_info\", \"privacy_info.uses_transient_token\", \"STRING\"], [\"user_properties\", \"user_properties\", \"ARRAY<STRUCT<key INT64, value STRUCT<string_value INT64, int_value INT64, float_value INT64, double_value INT64, set_timestamp_micros INT64>>>\"], [\"user_properties\", \"user_properties.key\", \"INT64\"], [\"user_properties\", \"user_properties.value\", \"STRUCT<string_value INT64, int_value INT64, float_value INT64, double_value INT64, set_timestamp_micros INT64>\"], [\"user_properties\", \"user_properties.value.string_value\", \"INT64\"], [\"user_properties\", \"user_properties.value.int_value\", \"INT64\"], [\"user_properties\", \"user_properties.value.float_value\", \"INT64\"], [\"user_properties\", \"user_properties.value.double_value\", \"INT64\"], [\"user_properties\", \"user_properties.value.set_timestamp_micros\", \"INT64\"], [\"user_first_touch_timestamp\", \"user_first_touch_timestamp\", \"INT64\"], [\"user_ltv\", \"user_ltv\", \"STRUCT<revenue FLOAT64, currency STRING>\"], [\"user_ltv\", \"user_ltv.revenue\", \"FLOAT64\"], [\"user_ltv\", \"user_ltv.currency\", \"STRING\"], [\"device\", \"device\", \"STRUCT<category STRING, mobile_brand_name STRING, mobile_model_name STRING, mobile_marketing_name STRING, mobile_os_hardware_model INT64, operating_system STRING, operating_system_version STRING, vendor_id INT64, advertising_id INT64, language STRING, is_limited_ad_tracking STRING, time_zone_offset_seconds INT64, web_info STRUCT<browser STRING, browser_version STRING>>\"], [\"device\", \"device.category\", \"STRING\"], [\"device\", \"device.mobile_brand_name\", \"STRING\"], [\"device\", \"device.mobile_model_name\", \"STRING\"], [\"device\", \"device.mobile_marketing_name\", \"STRING\"], [\"device\", \"device.mobile_os_hardware_model\", \"INT64\"], [\"device\", \"device.operating_system\", \"STRING\"], [\"device\", \"device.operating_system_version\", \"STRING\"], [\"device\", \"device.vendor_id\", \"INT64\"], [\"device\", \"device.advertising_id\", \"INT64\"], [\"device\", \"device.language\", \"STRING\"], [\"device\", \"device.is_limited_ad_tracking\", \"STRING\"], [\"device\", \"device.time_zone_offset_seconds\", \"INT64\"], [\"device\", \"device.web_info\", \"STRUCT<browser STRING, browser_version STRING>\"], [\"device\", \"device.web_info.browser\", \"STRING\"], [\"device\", \"device.web_info.browser_version\", \"STRING\"], [\"geo\", \"geo\", \"STRUCT<continent STRING, sub_continent STRING, country STRING, region STRING, city STRING, metro STRING>\"], [\"geo\", \"geo.continent\", \"STRING\"], [\"geo\", \"geo.sub_continent\", \"STRING\"], [\"geo\", \"geo.country\", \"STRING\"], [\"geo\", \"geo.region\", \"STRING\"], [\"geo\", \"geo.city\", \"STRING\"], [\"geo\", \"geo.metro\", \"STRING\"], [\"app_info\", \"app_info\", \"STRUCT<id STRING, version STRING, install_store STRING, firebase_app_id STRING, install_source STRING>\"], [\"app_info\", \"app_info.id\", \"STRING\"], [\"app_info\", \"app_info.version\", \"STRING\"], [\"app_info\", \"app_info.install_store\", \"STRING\"], [\"app_info\", \"app_info.firebase_app_id\", \"STRING\"], [\"app_info\", \"app_info.install_source\", \"STRING\"], [\"traffic_source\", \"traffic_source\", \"STRUCT<medium STRING, name STRING, source STRING>\"], [\"traffic_source\", \"traffic_source.medium\", \"STRING\"], [\"traffic_source\", \"traffic_source.name\", \"STRING\"], [\"traffic_source\", \"traffic_source.source\", \"STRING\"], [\"stream_id\", \"stream_id\", \"INT64\"], [\"platform\", \"platform\", \"STRING\"], [\"event_dimensions\", \"event_dimensions\", \"STRUCT<hostname STRING>\"], [\"event_dimensions\", \"event_dimensions.hostname\", \"STRING\"], [\"ecommerce\", \"ecommerce\", \"STRUCT<total_item_quantity INT64, purchase_revenue_in_usd FLOAT64, purchase_revenue FLOAT64, refund_value_in_usd FLOAT64, refund_value FLOAT64, shipping_value_in_usd FLOAT64, shipping_value FLOAT64, tax_value_in_usd FLOAT64, tax_value FLOAT64, unique_items INT64, transaction_id STRING>\"], [\"ecommerce\", \"ecommerce.total_item_quantity\", \"INT64\"], [\"ecommerce\", \"ecommerce.purchase_revenue_in_usd\", \"FLOAT64\"], [\"ecommerce\", \"ecommerce.purchase_revenue\", \"FLOAT64\"], [\"ecommerce\", \"ecommerce.refund_value_in_usd\", \"FLOAT64\"], [\"ecommerce\", \"ecommerce.refund_value\", \"FLOAT64\"], [\"ecommerce\", \"ecommerce.shipping_value_in_usd\", \"FLOAT64\"], [\"ecommerce\", \"ecommerce.shipping_value\", \"FLOAT64\"], [\"ecommerce\", \"ecommerce.tax_value_in_usd\", \"FLOAT64\"], [\"ecommerce\", \"ecommerce.tax_value\", \"FLOAT64\"], [\"ecommerce\", \"ecommerce.unique_items\", \"INT64\"], [\"ecommerce\", \"ecommerce.transaction_id\", \"STRING\"], [\"items\", \"items\", \"ARRAY<STRUCT<item_id STRING, item_name STRING, item_brand STRING, item_variant STRING, item_category STRING, item_category2 STRING, item_category3 STRING, item_category4 STRING, item_category5 STRING, price_in_usd FLOAT64, price FLOAT64, quantity INT64, item_revenue_in_usd FLOAT64, item_revenue FLOAT64, item_refund_in_usd FLOAT64, item_refund FLOAT64, coupon STRING, affiliation STRING, location_id STRING, item_list_id STRING, item_list_name STRING, item_list_index STRING, promotion_id STRING, promotion_name STRING, creative_name STRING, creative_slot STRING>>\"], [\"items\", \"items.item_id\", \"STRING\"], [\"items\", \"items.item_name\", \"STRING\"], [\"items\", \"items.item_brand\", \"STRING\"], [\"items\", \"items.item_variant\", \"STRING\"], [\"items\", \"items.item_category\", \"STRING\"], [\"items\", \"items.item_category2\", \"STRING\"], [\"items\", \"items.item_category3\", \"STRING\"], [\"items\", \"items.item_category4\", \"STRING\"], [\"items\", \"items.item_category5\", \"STRING\"], [\"items\", \"items.price_in_usd\", \"FLOAT64\"], [\"items\", \"items.price\", \"FLOAT64\"], [\"items\", \"items.quantity\", \"INT64\"], [\"items\", \"items.item_revenue_in_usd\", \"FLOAT64\"], [\"items\", \"items.item_revenue\", \"FLOAT64\"], [\"items\", \"items.item_refund_in_usd\", \"FLOAT64\"], [\"items\", \"items.item_refund\", \"FLOAT64\"], [\"items\", \"items.coupon\", \"STRING\"], [\"items\", \"items.affiliation\", \"STRING\"], [\"items\", \"items.location_id\", \"STRING\"], [\"items\", \"items.item_list_id\", \"STRING\"], [\"items\", \"items.item_list_name\", \"STRING\"], [\"items\", \"items.item_list_index\", \"STRING\"], [\"items\", \"items.promotion_id\", \"STRING\"], [\"items\", \"items.promotion_name\", \"STRING\"], [\"items\", \"items.creative_name\", \"STRING\"], [\"items\", \"items.creative_slot\", \"STRING\"]];\n",
              "\n",
              "    // Define the dt_args\n",
              "    let dt_args = {\"order\": [], \"initComplete\": function () {\n",
              "    // Apply the search\n",
              "    this.api()\n",
              "        .columns()\n",
              "        .every(function () {\n",
              "            const that = this;\n",
              "\n",
              "            $('input', this.header()).on('keyup change clear', function () {\n",
              "                if (that.search() !== this.value) {\n",
              "                    that.search(this.value).draw();\n",
              "                }\n",
              "            });\n",
              "        });\n",
              "}\n",
              "};\n",
              "    dt_args[\"data\"] = data;\n",
              "\n",
              "    $(document).ready(function () {\n",
              "        // Setup - add a text input to each header or footer cell\n",
              "$('#18b94b16-7227-4f87-8918-1a2614c1efb0 thead th').each(function () {\n",
              "    let title = $(this).text();\n",
              "    $(this).html('<input type=\"text\" placeholder=\"Search ' +\n",
              "        // We use encodeURI to avoid this LGTM error:\n",
              "        // https://lgtm.com/rules/1511866576920/\n",
              "        encodeURI(title).replaceAll(\"%20\", \" \") +\n",
              "        '\" />');\n",
              "});\n",
              "\n",
              "        $('#18b94b16-7227-4f87-8918-1a2614c1efb0').DataTable(dt_args);\n",
              "    });\n",
              "</script>\n"
            ]
          },
          "metadata": {}
        }
      ]
    },
    {
      "cell_type": "markdown",
      "source": [
        "There are 108 rows in the table above showing the different levels of hierarchy. Using the column filters, you can see the column fields that contain (e.g.) time fields, user information, and geo (location) data. You can also look at device fields that are categorical, numerical, or other data types."
      ],
      "metadata": {
        "id": "azzmrDR6LPyj"
      }
    },
    {
      "cell_type": "markdown",
      "metadata": {
        "id": "BxJkDNwpYjdg"
      },
      "source": [
        "## Explore event counts by various categories\n",
        "In this section, you use plotting libraries - specifically [matplotlib](https://matplotlib.org/) and [Plotly Express](https://plotly.com/python/plotly-express/) - to generate graphical outputs that help understand the distribution of events across some of the fields in the sample GA4 data."
      ]
    },
    {
      "cell_type": "markdown",
      "metadata": {
        "id": "rmaK_LHyYjdh"
      },
      "source": [
        "### Explore number of events by type\n",
        "First, you get the number of events by type (i.e. \"event_name\") across the whole data from BigQuery and generate a static bar plot of the results."
      ]
    },
    {
      "cell_type": "code",
      "execution_count": 24,
      "metadata": {
        "colab": {
          "base_uri": "https://localhost:8080/",
          "height": 398
        },
        "id": "oDUelss7Yjdh",
        "outputId": "b0187ffa-b5e7-4abf-b2b7-b1da6fef497d"
      },
      "outputs": [
        {
          "output_type": "execute_result",
          "data": {
            "text/plain": [
              "<matplotlib.axes._subplots.AxesSubplot at 0x7f126b232710>"
            ]
          },
          "metadata": {},
          "execution_count": 24
        },
        {
          "output_type": "display_data",
          "data": {
            "text/plain": [
              "<Figure size 432x288 with 1 Axes>"
            ],
            "image/png": "[encoded data removed]"
          },
          "metadata": {
            "needs_background": "light"
          }
        }
      ],
      "source": [
        "event_name_counts_sql = '''\n",
        "    SELECT\n",
        "      event_name,\n",
        "      COUNT(*) AS num_events\n",
        "\n",
        "    FROM\n",
        "      `bigquery-public-data.ga4_obfuscated_sample_ecommerce.events_*`\n",
        "\n",
        "    GROUP BY\n",
        "      event_name\n",
        "\n",
        "    ORDER BY\n",
        "      num_events DESC\n",
        "    '''\n",
        "\n",
        "event_name_counts = bq_query(event_name_counts_sql)\n",
        "\n",
        "# matplotlib used to create basic bar plot\n",
        "event_name_counts_bar_plot = event_name_counts.plot(\n",
        "    kind=\"bar\", x=\"event_name\", y=\"num_events\")\n",
        "\n",
        "event_name_counts_bar_plot"
      ]
    },
    {
      "cell_type": "markdown",
      "source": [
        "You can see from the bar plot that page views and user engagements are the two most common event types, with a large drop-off to the other types of events."
      ],
      "metadata": {
        "id": "BdCdOru5PO6L"
      }
    },
    {
      "cell_type": "markdown",
      "source": [
        "You can display the same event type distribution data in an interactive bar plot using Plotly Express."
      ],
      "metadata": {
        "id": "yUsXxR4cPOOx"
      }
    },
    {
      "cell_type": "code",
      "execution_count": 25,
      "metadata": {
        "colab": {
          "base_uri": "https://localhost:8080/",
          "height": 542
        },
        "id": "NBPksdUtYjdh",
        "outputId": "44ce19cd-3248-42a6-f860-d92f2f6e8fae"
      },
      "outputs": [
        {
          "output_type": "display_data",
          "data": {
            "text/html": [
              "<html>\n",
              "<head><meta charset=\"utf-8\" /></head>\n",
              "<body>\n",
              "    <div>            <script src=\"https://cdnjs.cloudflare.com/ajax/libs/mathjax/2.7.5/MathJax.js?config=TeX-AMS-MML_SVG\"></script><script type=\"text/javascript\">if (window.MathJax) {MathJax.Hub.Config({SVG: {font: \"STIX-Web\"}});}</script>                <script type=\"text/javascript\">window.PlotlyConfig = {MathJaxConfig: 'local'};</script>\n",
              "        <script src=\"https://cdn.plot.ly/plotly-2.8.3.min.js\"></script>                <div id=\"efee9deb-03e9-4c73-91ef-5e0d1593aca1\" class=\"plotly-graph-div\" style=\"height:525px; width:100%;\"></div>            <script type=\"text/javascript\">                                    window.PLOTLYENV=window.PLOTLYENV || {};                                    if (document.getElementById(\"efee9deb-03e9-4c73-91ef-5e0d1593aca1\")) {                    Plotly.newPlot(                        \"efee9deb-03e9-4c73-91ef-5e0d1593aca1\",                        [{\"alignmentgroup\":\"True\",\"hovertemplate\":\"event_name=%{x}<br>num_events=%{y}<extra></extra>\",\"legendgroup\":\"\",\"marker\":{\"color\":\"#636efa\",\"pattern\":{\"shape\":\"\"}},\"name\":\"\",\"offsetgroup\":\"\",\"orientation\":\"v\",\"showlegend\":false,\"textposition\":\"auto\",\"x\":[\"page_view\",\"user_engagement\",\"scroll\",\"view_item\",\"session_start\",\"first_visit\",\"view_promotion\",\"add_to_cart\",\"begin_checkout\",\"select_item\",\"view_search_results\",\"add_shipping_info\",\"add_payment_info\",\"select_promotion\",\"purchase\",\"click\",\"view_item_list\"],\"xaxis\":\"x\",\"y\":[1350428,1058721,493072,386068,354970,257462,190104,58543,38757,31007,26172,19722,13899,9450,5692,1446,71],\"yaxis\":\"y\",\"type\":\"bar\"}],                        {\"template\":{\"data\":{\"bar\":[{\"error_x\":{\"color\":\"#2a3f5f\"},\"error_y\":{\"color\":\"#2a3f5f\"},\"marker\":{\"line\":{\"color\":\"#E5ECF6\",\"width\":0.5},\"pattern\":{\"fillmode\":\"overlay\",\"size\":10,\"solidity\":0.2}},\"type\":\"bar\"}],\"barpolar\":[{\"marker\":{\"line\":{\"color\":\"#E5ECF6\",\"width\":0.5},\"pattern\":{\"fillmode\":\"overlay\",\"size\":10,\"solidity\":0.2}},\"type\":\"barpolar\"}],\"carpet\":[{\"aaxis\":{\"endlinecolor\":\"#2a3f5f\",\"gridcolor\":\"white\",\"linecolor\":\"white\",\"minorgridcolor\":\"white\",\"startlinecolor\":\"#2a3f5f\"},\"baxis\":{\"endlinecolor\":\"#2a3f5f\",\"gridcolor\":\"white\",\"linecolor\":\"white\",\"minorgridcolor\":\"white\",\"startlinecolor\":\"#2a3f5f\"},\"type\":\"carpet\"}],\"choropleth\":[{\"colorbar\":{\"outlinewidth\":0,\"ticks\":\"\"},\"type\":\"choropleth\"}],\"contour\":[{\"colorbar\":{\"outlinewidth\":0,\"ticks\":\"\"},\"colorscale\":[[0.0,\"#0d0887\"],[0.1111111111111111,\"#46039f\"],[0.2222222222222222,\"#7201a8\"],[0.3333333333333333,\"#9c179e\"],[0.4444444444444444,\"#bd3786\"],[0.5555555555555556,\"#d8576b\"],[0.6666666666666666,\"#ed7953\"],[0.7777777777777778,\"#fb9f3a\"],[0.8888888888888888,\"#fdca26\"],[1.0,\"#f0f921\"]],\"type\":\"contour\"}],\"contourcarpet\":[{\"colorbar\":{\"outlinewidth\":0,\"ticks\":\"\"},\"type\":\"contourcarpet\"}],\"heatmap\":[{\"colorbar\":{\"outlinewidth\":0,\"ticks\":\"\"},\"colorscale\":[[0.0,\"#0d0887\"],[0.1111111111111111,\"#46039f\"],[0.2222222222222222,\"#7201a8\"],[0.3333333333333333,\"#9c179e\"],[0.4444444444444444,\"#bd3786\"],[0.5555555555555556,\"#d8576b\"],[0.6666666666666666,\"#ed7953\"],[0.7777777777777778,\"#fb9f3a\"],[0.8888888888888888,\"#fdca26\"],[1.0,\"#f0f921\"]],\"type\":\"heatmap\"}],\"heatmapgl\":[{\"colorbar\":{\"outlinewidth\":0,\"ticks\":\"\"},\"colorscale\":[[0.0,\"#0d0887\"],[0.1111111111111111,\"#46039f\"],[0.2222222222222222,\"#7201a8\"],[0.3333333333333333,\"#9c179e\"],[0.4444444444444444,\"#bd3786\"],[0.5555555555555556,\"#d8576b\"],[0.6666666666666666,\"#ed7953\"],[0.7777777777777778,\"#fb9f3a\"],[0.8888888888888888,\"#fdca26\"],[1.0,\"#f0f921\"]],\"type\":\"heatmapgl\"}],\"histogram\":[{\"marker\":{\"pattern\":{\"fillmode\":\"overlay\",\"size\":10,\"solidity\":0.2}},\"type\":\"histogram\"}],\"histogram2d\":[{\"colorbar\":{\"outlinewidth\":0,\"ticks\":\"\"},\"colorscale\":[[0.0,\"#0d0887\"],[0.1111111111111111,\"#46039f\"],[0.2222222222222222,\"#7201a8\"],[0.3333333333333333,\"#9c179e\"],[0.4444444444444444,\"#bd3786\"],[0.5555555555555556,\"#d8576b\"],[0.6666666666666666,\"#ed7953\"],[0.7777777777777778,\"#fb9f3a\"],[0.8888888888888888,\"#fdca26\"],[1.0,\"#f0f921\"]],\"type\":\"histogram2d\"}],\"histogram2dcontour\":[{\"colorbar\":{\"outlinewidth\":0,\"ticks\":\"\"},\"colorscale\":[[0.0,\"#0d0887\"],[0.1111111111111111,\"#46039f\"],[0.2222222222222222,\"#7201a8\"],[0.3333333333333333,\"#9c179e\"],[0.4444444444444444,\"#bd3786\"],[0.5555555555555556,\"#d8576b\"],[0.6666666666666666,\"#ed7953\"],[0.7777777777777778,\"#fb9f3a\"],[0.8888888888888888,\"#fdca26\"],[1.0,\"#f0f921\"]],\"type\":\"histogram2dcontour\"}],\"mesh3d\":[{\"colorbar\":{\"outlinewidth\":0,\"ticks\":\"\"},\"type\":\"mesh3d\"}],\"parcoords\":[{\"line\":{\"colorbar\":{\"outlinewidth\":0,\"ticks\":\"\"}},\"type\":\"parcoords\"}],\"pie\":[{\"automargin\":true,\"type\":\"pie\"}],\"scatter\":[{\"marker\":{\"colorbar\":{\"outlinewidth\":0,\"ticks\":\"\"}},\"type\":\"scatter\"}],\"scatter3d\":[{\"line\":{\"colorbar\":{\"outlinewidth\":0,\"ticks\":\"\"}},\"marker\":{\"colorbar\":{\"outlinewidth\":0,\"ticks\":\"\"}},\"type\":\"scatter3d\"}],\"scattercarpet\":[{\"marker\":{\"colorbar\":{\"outlinewidth\":0,\"ticks\":\"\"}},\"type\":\"scattercarpet\"}],\"scattergeo\":[{\"marker\":{\"colorbar\":{\"outlinewidth\":0,\"ticks\":\"\"}},\"type\":\"scattergeo\"}],\"scattergl\":[{\"marker\":{\"colorbar\":{\"outlinewidth\":0,\"ticks\":\"\"}},\"type\":\"scattergl\"}],\"scattermapbox\":[{\"marker\":{\"colorbar\":{\"outlinewidth\":0,\"ticks\":\"\"}},\"type\":\"scattermapbox\"}],\"scatterpolar\":[{\"marker\":{\"colorbar\":{\"outlinewidth\":0,\"ticks\":\"\"}},\"type\":\"scatterpolar\"}],\"scatterpolargl\":[{\"marker\":{\"colorbar\":{\"outlinewidth\":0,\"ticks\":\"\"}},\"type\":\"scatterpolargl\"}],\"scatterternary\":[{\"marker\":{\"colorbar\":{\"outlinewidth\":0,\"ticks\":\"\"}},\"type\":\"scatterternary\"}],\"surface\":[{\"colorbar\":{\"outlinewidth\":0,\"ticks\":\"\"},\"colorscale\":[[0.0,\"#0d0887\"],[0.1111111111111111,\"#46039f\"],[0.2222222222222222,\"#7201a8\"],[0.3333333333333333,\"#9c179e\"],[0.4444444444444444,\"#bd3786\"],[0.5555555555555556,\"#d8576b\"],[0.6666666666666666,\"#ed7953\"],[0.7777777777777778,\"#fb9f3a\"],[0.8888888888888888,\"#fdca26\"],[1.0,\"#f0f921\"]],\"type\":\"surface\"}],\"table\":[{\"cells\":{\"fill\":{\"color\":\"#EBF0F8\"},\"line\":{\"color\":\"white\"}},\"header\":{\"fill\":{\"color\":\"#C8D4E3\"},\"line\":{\"color\":\"white\"}},\"type\":\"table\"}]},\"layout\":{\"annotationdefaults\":{\"arrowcolor\":\"#2a3f5f\",\"arrowhead\":0,\"arrowwidth\":1},\"autotypenumbers\":\"strict\",\"coloraxis\":{\"colorbar\":{\"outlinewidth\":0,\"ticks\":\"\"}},\"colorscale\":{\"diverging\":[[0,\"#8e0152\"],[0.1,\"#c51b7d\"],[0.2,\"#de77ae\"],[0.3,\"#f1b6da\"],[0.4,\"#fde0ef\"],[0.5,\"#f7f7f7\"],[0.6,\"#e6f5d0\"],[0.7,\"#b8e186\"],[0.8,\"#7fbc41\"],[0.9,\"#4d9221\"],[1,\"#276419\"]],\"sequential\":[[0.0,\"#0d0887\"],[0.1111111111111111,\"#46039f\"],[0.2222222222222222,\"#7201a8\"],[0.3333333333333333,\"#9c179e\"],[0.4444444444444444,\"#bd3786\"],[0.5555555555555556,\"#d8576b\"],[0.6666666666666666,\"#ed7953\"],[0.7777777777777778,\"#fb9f3a\"],[0.8888888888888888,\"#fdca26\"],[1.0,\"#f0f921\"]],\"sequentialminus\":[[0.0,\"#0d0887\"],[0.1111111111111111,\"#46039f\"],[0.2222222222222222,\"#7201a8\"],[0.3333333333333333,\"#9c179e\"],[0.4444444444444444,\"#bd3786\"],[0.5555555555555556,\"#d8576b\"],[0.6666666666666666,\"#ed7953\"],[0.7777777777777778,\"#fb9f3a\"],[0.8888888888888888,\"#fdca26\"],[1.0,\"#f0f921\"]]},\"colorway\":[\"#636efa\",\"#EF553B\",\"#00cc96\",\"#ab63fa\",\"#FFA15A\",\"#19d3f3\",\"#FF6692\",\"#B6E880\",\"#FF97FF\",\"#FECB52\"],\"font\":{\"color\":\"#2a3f5f\"},\"geo\":{\"bgcolor\":\"white\",\"lakecolor\":\"white\",\"landcolor\":\"#E5ECF6\",\"showlakes\":true,\"showland\":true,\"subunitcolor\":\"white\"},\"hoverlabel\":{\"align\":\"left\"},\"hovermode\":\"closest\",\"mapbox\":{\"style\":\"light\"},\"paper_bgcolor\":\"white\",\"plot_bgcolor\":\"#E5ECF6\",\"polar\":{\"angularaxis\":{\"gridcolor\":\"white\",\"linecolor\":\"white\",\"ticks\":\"\"},\"bgcolor\":\"#E5ECF6\",\"radialaxis\":{\"gridcolor\":\"white\",\"linecolor\":\"white\",\"ticks\":\"\"}},\"scene\":{\"xaxis\":{\"backgroundcolor\":\"#E5ECF6\",\"gridcolor\":\"white\",\"gridwidth\":2,\"linecolor\":\"white\",\"showbackground\":true,\"ticks\":\"\",\"zerolinecolor\":\"white\"},\"yaxis\":{\"backgroundcolor\":\"#E5ECF6\",\"gridcolor\":\"white\",\"gridwidth\":2,\"linecolor\":\"white\",\"showbackground\":true,\"ticks\":\"\",\"zerolinecolor\":\"white\"},\"zaxis\":{\"backgroundcolor\":\"#E5ECF6\",\"gridcolor\":\"white\",\"gridwidth\":2,\"linecolor\":\"white\",\"showbackground\":true,\"ticks\":\"\",\"zerolinecolor\":\"white\"}},\"shapedefaults\":{\"line\":{\"color\":\"#2a3f5f\"}},\"ternary\":{\"aaxis\":{\"gridcolor\":\"white\",\"linecolor\":\"white\",\"ticks\":\"\"},\"baxis\":{\"gridcolor\":\"white\",\"linecolor\":\"white\",\"ticks\":\"\"},\"bgcolor\":\"#E5ECF6\",\"caxis\":{\"gridcolor\":\"white\",\"linecolor\":\"white\",\"ticks\":\"\"}},\"title\":{\"x\":0.05},\"xaxis\":{\"automargin\":true,\"gridcolor\":\"white\",\"linecolor\":\"white\",\"ticks\":\"\",\"title\":{\"standoff\":15},\"zerolinecolor\":\"white\",\"zerolinewidth\":2},\"yaxis\":{\"automargin\":true,\"gridcolor\":\"white\",\"linecolor\":\"white\",\"ticks\":\"\",\"title\":{\"standoff\":15},\"zerolinecolor\":\"white\",\"zerolinewidth\":2}}},\"xaxis\":{\"anchor\":\"y\",\"domain\":[0.0,1.0],\"title\":{\"text\":\"event_name\"}},\"yaxis\":{\"anchor\":\"x\",\"domain\":[0.0,1.0],\"title\":{\"text\":\"num_events\"}},\"legend\":{\"tracegroupgap\":0},\"title\":{\"text\":\"Number of Events by event_name\"},\"barmode\":\"relative\"},                        {\"responsive\": true}                    ).then(function(){\n",
              "                            \n",
              "var gd = document.getElementById('efee9deb-03e9-4c73-91ef-5e0d1593aca1');\n",
              "var x = new MutationObserver(function (mutations, observer) {{\n",
              "        var display = window.getComputedStyle(gd).display;\n",
              "        if (!display || display === 'none') {{\n",
              "            console.log([gd, 'removed!']);\n",
              "            Plotly.purge(gd);\n",
              "            observer.disconnect();\n",
              "        }}\n",
              "}});\n",
              "\n",
              "// Listen for the removal of the full notebook cells\n",
              "var notebookContainer = gd.closest('#notebook-container');\n",
              "if (notebookContainer) {{\n",
              "    x.observe(notebookContainer, {childList: true});\n",
              "}}\n",
              "\n",
              "// Listen for the clearing of the current output cell\n",
              "var outputEl = gd.closest('.output');\n",
              "if (outputEl) {{\n",
              "    x.observe(outputEl, {childList: true});\n",
              "}}\n",
              "\n",
              "                        })                };                            </script>        </div>\n",
              "</body>\n",
              "</html>"
            ]
          },
          "metadata": {}
        }
      ],
      "source": [
        "event_name_counts_interactive_bar_plot = px.bar(\n",
        "    event_name_counts,\n",
        "    x=\"event_name\",\n",
        "    y=\"num_events\",\n",
        "    title=\"Number of Events by event_name\"\n",
        "    )\n",
        "\n",
        "event_name_counts_interactive_bar_plot.show()"
      ]
    },
    {
      "cell_type": "markdown",
      "source": [
        "The bar plot shows the same info as the previous one, with the additional feature of interactivity. You can hover over each bar to see the actual number of events or zoom in to various parts of the chart (e.g. to see how the numbers for the less common events compare on a smaller scale)."
      ],
      "metadata": {
        "id": "mBOhgyceZw0k"
      }
    },
    {
      "cell_type": "markdown",
      "metadata": {
        "id": "hVT5nLkaYjdh"
      },
      "source": [
        "### Function to generalize event counts bar plot creation\n",
        "Suppose that you like the previous interactive bar plot of event counts, and want to look at it for other categorical variables in the data like those related to device, user characteristics, or other fields. A nice to way generalize this is to create a function that gets event counts data from BigQuery for any single variable and then creates an interactive bar plot like the one above. Run the following cell to create such a function."
      ]
    },
    {
      "cell_type": "code",
      "execution_count": 26,
      "metadata": {
        "colab": {
          "base_uri": "https://localhost:8080/",
          "height": 35
        },
        "id": "zDO20g01Yjdh",
        "outputId": "472192a2-0d4f-4e05-dc7c-0e18768b15b6"
      },
      "outputs": [
        {
          "output_type": "execute_result",
          "data": {
            "text/plain": [
              "''"
            ],
            "application/vnd.google.colaboratory.intrinsic+json": {
              "type": "string"
            }
          },
          "metadata": {},
          "execution_count": 26
        }
      ],
      "source": [
        "def get_event_counts_by_categorical_var_bar_plot(bq_var_name, output_var_name,\n",
        "                                                 min_events=500):\n",
        "    \n",
        "    # SQL code \"template\" to get event counts for specific variable in data\n",
        "    event_counts_sql = f'''\n",
        "        SELECT\n",
        "          IFNULL({bq_var_name}, 'NULL') AS {output_var_name},\n",
        "          COUNT(*) AS num_events\n",
        "\n",
        "        FROM\n",
        "          `bigquery-public-data.ga4_obfuscated_sample_ecommerce.events_*`\n",
        "\n",
        "        GROUP BY\n",
        "          {bq_var_name}\n",
        "        \n",
        "        /* Filter to only return values of variable that have some min. # of\n",
        "           events - default is 500, can set to 0 to do no filtering */\n",
        "        HAVING\n",
        "          num_events >= {min_events}\n",
        "        \n",
        "        ORDER BY\n",
        "          num_events DESC\n",
        "        '''\n",
        "\n",
        "    event_counts = bq_query(event_counts_sql)\n",
        "    \n",
        "    # Take results from SQL query and turn into bar plot for given variable\n",
        "    event_counts_interactive_bar_plot = px.bar(\n",
        "        event_counts,\n",
        "        x=output_var_name,\n",
        "        y=\"num_events\",\n",
        "        title=(f\"<b>Number of Events by {output_var_name}<br></b>\" + \n",
        "               f\"Min. {min_events} Events for {output_var_name}\")\n",
        "        )\n",
        "    \n",
        "    return(event_counts_interactive_bar_plot)\n",
        "\n",
        "\n",
        ";"
      ]
    },
    {
      "cell_type": "markdown",
      "metadata": {
        "id": "nF9ZVn5AYjdh"
      },
      "source": [
        "### Number of events by country, operating system, and device language\n",
        "Here, you use the function created above to get event counts by three different categorical variables in the data: country, operating system, and device language. These are displayed in three separate tabs of the same output cell below, using the [tab functionality from the ipywidgets package](https://ipywidgets.readthedocs.io/en/stable/examples/Widget%20List.html#Tabs)."
      ]
    },
    {
      "cell_type": "code",
      "execution_count": 27,
      "metadata": {
        "colab": {
          "base_uri": "https://localhost:8080/",
          "height": 604,
          "referenced_widgets": [
            "761b44392e444cd8b67243e1dce6035b",
            "c953af4da3914581b89a60161af8d153",
            "5930d2cedcbd4a10a4620684c5a0a7aa",
            "9b470d5cdb9f48acacaeab037c22e17c",
            "0a4073e5dcd9474cac0fa82d9a796635",
            "b0ba982ca6364682b585344c5e661fc6",
            "8679d309b72f432189a625ab8cc98d2e",
            "0c9daed0e5394b0ebc2c5fb4cedcebdf"
          ]
        },
        "id": "z2HIevweYjdi",
        "outputId": "01f1405d-922e-4efe-f51d-84093a424cdd"
      },
      "outputs": [
        {
          "output_type": "display_data",
          "data": {
            "text/plain": [
              "Tab(children=(Output(), Output(), Output()), selected_index=0, titles=('country', 'operating_system', 'device_…"
            ],
            "application/vnd.jupyter.widget-view+json": {
              "version_major": 2,
              "version_minor": 0,
              "model_id": "761b44392e444cd8b67243e1dce6035b"
            }
          },
          "metadata": {}
        }
      ],
      "source": [
        "# Create table of categorical variables (BQ and output names) to loop over\n",
        "categorical_vars_df = pd.DataFrame.from_records(\n",
        "    data=[\n",
        "      ('geo.country', 'country'),\n",
        "      ('device.operating_system', 'operating_system'),\n",
        "      ('device.language', 'device_language')\n",
        "      ], \n",
        "    columns=['bq_var_name', 'output_var_name']\n",
        "    )\n",
        "\n",
        "# Initialize tab outputs list to be appended to\n",
        "tab_outputs = []\n",
        "\n",
        "# Loop over categorical variables data, generating 1 bar plot per tab\n",
        "for index, row in categorical_vars_df.iterrows():\n",
        "    this_tab = widgets.Output()\n",
        "    \n",
        "    with this_tab:\n",
        "        get_event_counts_by_categorical_var_bar_plot(\n",
        "            row['bq_var_name'], row['output_var_name']\n",
        "            ).show()\n",
        "    \n",
        "    # Append tab output for this tab to list of outputs\n",
        "    tab_outputs = tab_outputs + [this_tab]\n",
        "\n",
        "# Create output with all tab outputs together\n",
        "output = widgets.Tab(tab_outputs)\n",
        "  \n",
        "# Loop over categorical variables again to set output tab titles\n",
        "for index, row in categorical_vars_df.iterrows():\n",
        "    output.set_title(index, row['output_var_name'])\n",
        "    \n",
        "display(output)"
      ]
    },
    {
      "cell_type": "markdown",
      "source": [
        "Clicking through the tabs, you can see that:\n",
        "\n",
        "*   The United States is the country with the most events, followed by India and the United Kingdom.\n",
        "*   \"Web\" is the most common device operating system by far, with iOS and Windows pretty close for second. \n",
        "*   The most common value in the device language field is actually NULL, or no data in the field. This is important to note in any sort of further analysis or modeling using language. You may want to understand why it's missing, what types of users/events have missing language more or less often, and how that may/may not change in future data."
      ],
      "metadata": {
        "id": "2JgY8PiPprAu"
      }
    },
    {
      "cell_type": "markdown",
      "metadata": {
        "id": "J7OGUKr7Yjdi"
      },
      "source": [
        "### Interactive: pick category, get corresponding event counts bar plot\n",
        "Building on the previous section, you can go even further with interactivity and allow picking from a set of categories present in the data, then dynamically creating the plot for whichever variable is selected. Below you create an interactive list of device attributes and slider for minimum number of events, then pass those on to the function to create the interactive event counts plot with those parameters. Each time you change one of the parameters, the code will run again to create the new plot accordingly.\n",
        "\n",
        "(NOTE: You must be running this notebook in a \"live\" kernel to use the interactive menus in the cell below. It won't work if you're just looking at previously generated output in the notebook.)"
      ]
    },
    {
      "cell_type": "code",
      "execution_count": 28,
      "metadata": {
        "colab": {
          "base_uri": "https://localhost:8080/",
          "height": 668,
          "referenced_widgets": [
            "8a2e2072b26d4c82ba3ded564cb6d183",
            "562af64da54f4cac8113409c8c554671",
            "fdd44331e4e448748c2f56d8433a2b42",
            "be160f81b6c14789ad127d957e1e17e8",
            "f4f864f765d242169e941b454c492deb",
            "4afa6a360d9c420cb5faa03459c28d3f",
            "6a48bb5d13ca406eb384d66a7e75ccdf",
            "2041f92395ba4353bfa12cdbba5d2e89",
            "f585e8796e674d308c4662e1d55c971f",
            "cd49d3676cc7455997094c8f6a488663"
          ]
        },
        "id": "nKfM7UO2Yjdi",
        "outputId": "4cd6dae6-8fda-40cf-f322-340215b8b9a0"
      },
      "outputs": [
        {
          "output_type": "display_data",
          "data": {
            "text/plain": [
              "interactive(children=(Select(description='Device Attributes', options=('device_category', 'device_mobile_brand…"
            ],
            "application/vnd.jupyter.widget-view+json": {
              "version_major": 2,
              "version_minor": 0,
              "model_id": "8a2e2072b26d4c82ba3ded564cb6d183"
            }
          },
          "metadata": {}
        }
      ],
      "source": [
        "# Filter to categorical fields that are nested under device (to use as options)\n",
        "device_cat_vars = (info_schema_column_field_paths[\n",
        "    (info_schema_column_field_paths['column_name'] == 'device') &\n",
        "    (info_schema_column_field_paths['data_type'] == 'STRING')\n",
        "    ].\n",
        "    reset_index(drop=True)\n",
        "    )\n",
        "\n",
        "# Some string manipulation to make device-related variable names\n",
        "device_cat_vars['var_name'] = [\n",
        "    ('device_' + field_path.split(\".\")[-1])\n",
        "    for field_path in device_cat_vars['field_path']\n",
        "    ]\n",
        "\n",
        "# Interact section that creates a function that responds to user input\n",
        "@interact\n",
        "def show_device_field_event_counts(\n",
        "    # Widget to select single variable to look at event counts for\n",
        "    device_field=widgets.Select(\n",
        "        options=device_cat_vars['var_name'].tolist(), \n",
        "        value='device_category',\n",
        "        description='Device Attributes',\n",
        "        continuous_update=False\n",
        "        ),\n",
        "    # Slider to pick min. # of events required to return data for given category\n",
        "    min_num_events=widgets.IntSlider(\n",
        "        value=500,\n",
        "        min=0,\n",
        "        max=1E5,\n",
        "        step=100,\n",
        "        description='Min Num Events',\n",
        "        continuous_update=False\n",
        "        )):\n",
        "\n",
        "    clear_output()\n",
        "        \n",
        "    # Get BQ variable name for selected device field using data frame\n",
        "    bq_var_name = device_cat_vars.loc[\n",
        "        device_cat_vars['var_name'] == device_field, 'field_path'].item()\n",
        "    \n",
        "    # Use function to generate event counts bar plot for chosen device field\n",
        "    event_count_plot = get_event_counts_by_categorical_var_bar_plot(\n",
        "        bq_var_name, device_field, min_num_events)\n",
        "    \n",
        "    return(event_count_plot.show())"
      ]
    },
    {
      "cell_type": "markdown",
      "source": [
        "Feel free to pick different combinations for the widgets in the cell above and see the resulting plots. If you leave the defaults (device_category and 500-event minimum), for example, you'll see that desktop is the most common device category, followed by mobile, and then tablet representing a much smaller proportion of all events than the other two.\n",
        "\n",
        "One upside of the interactivity here is that you can look through many plots with relatively quick point-and-click options, without having to write repeated code or pre-determine which things to plot."
      ],
      "metadata": {
        "id": "yK1VwpAaQnNz"
      }
    },
    {
      "cell_type": "markdown",
      "source": [
        "### Generate heatmap of event distribution across operating system by country\n",
        "Building on the analysis from the previous steps, you can also query and plot event distributions by the combination of two categorical variables together. In this case, you focus on the example of the combination of country and operating system (OS), which you looked at the individual event distributions for above. In addition to the raw number of events in each country-OS combination, you also calculate the number as a percentage of *all* events in that country, to see if certain countries seem to have more/less activity on a given OS."
      ],
      "metadata": {
        "id": "FvWDCaJ0Qnqb"
      }
    },
    {
      "cell_type": "code",
      "execution_count": 29,
      "metadata": {
        "colab": {
          "base_uri": "https://localhost:8080/",
          "height": 424
        },
        "id": "sUXFotdSYjdi",
        "outputId": "93670aa6-3251-41e1-d7c8-b22ab177941c"
      },
      "outputs": [
        {
          "output_type": "execute_result",
          "data": {
            "text/plain": [
              "          country       os  num_events  tot_events_in_country  \\\n",
              "0   United States      Web     1098875                1910483   \n",
              "1           India      Web      232760                 391859   \n",
              "2   United States      iOS      227321                1910483   \n",
              "3   United States  Windows      223270                1910483   \n",
              "4          Canada      Web      190921                 324261   \n",
              "..            ...      ...         ...                    ...   \n",
              "79    South Korea  <Other>        1554                  51584   \n",
              "80         France  <Other>        1463                  82514   \n",
              "81    Netherlands  <Other>        1455                  50303   \n",
              "82          Japan  <Other>        1340                  56676   \n",
              "83      Singapore  <Other>        1064                  56869   \n",
              "\n",
              "    pct_events_in_country  \n",
              "0               57.518177  \n",
              "1               59.398916  \n",
              "2               11.898614  \n",
              "3               11.686573  \n",
              "4               58.878804  \n",
              "..                    ...  \n",
              "79               3.012562  \n",
              "80               1.773032  \n",
              "81               2.892472  \n",
              "82               2.364316  \n",
              "83               1.870967  \n",
              "\n",
              "[84 rows x 5 columns]"
            ],
            "text/html": [
              "\n",
              "  <div id=\"df-de1e884a-42b3-45ba-9751-bc9d9874f783\">\n",
              "    <div class=\"colab-df-container\">\n",
              "      <div>\n",
              "<style scoped>\n",
              "    .dataframe tbody tr th:only-of-type {\n",
              "        vertical-align: middle;\n",
              "    }\n",
              "\n",
              "    .dataframe tbody tr th {\n",
              "        vertical-align: top;\n",
              "    }\n",
              "\n",
              "    .dataframe thead th {\n",
              "        text-align: right;\n",
              "    }\n",
              "</style>\n",
              "<table border=\"1\" class=\"dataframe\">\n",
              "  <thead>\n",
              "    <tr style=\"text-align: right;\">\n",
              "      <th></th>\n",
              "      <th>country</th>\n",
              "      <th>os</th>\n",
              "      <th>num_events</th>\n",
              "      <th>tot_events_in_country</th>\n",
              "      <th>pct_events_in_country</th>\n",
              "    </tr>\n",
              "  </thead>\n",
              "  <tbody>\n",
              "    <tr>\n",
              "      <th>0</th>\n",
              "      <td>United States</td>\n",
              "      <td>Web</td>\n",
              "      <td>1098875</td>\n",
              "      <td>1910483</td>\n",
              "      <td>57.518177</td>\n",
              "    </tr>\n",
              "    <tr>\n",
              "      <th>1</th>\n",
              "      <td>India</td>\n",
              "      <td>Web</td>\n",
              "      <td>232760</td>\n",
              "      <td>391859</td>\n",
              "      <td>59.398916</td>\n",
              "    </tr>\n",
              "    <tr>\n",
              "      <th>2</th>\n",
              "      <td>United States</td>\n",
              "      <td>iOS</td>\n",
              "      <td>227321</td>\n",
              "      <td>1910483</td>\n",
              "      <td>11.898614</td>\n",
              "    </tr>\n",
              "    <tr>\n",
              "      <th>3</th>\n",
              "      <td>United States</td>\n",
              "      <td>Windows</td>\n",
              "      <td>223270</td>\n",
              "      <td>1910483</td>\n",
              "      <td>11.686573</td>\n",
              "    </tr>\n",
              "    <tr>\n",
              "      <th>4</th>\n",
              "      <td>Canada</td>\n",
              "      <td>Web</td>\n",
              "      <td>190921</td>\n",
              "      <td>324261</td>\n",
              "      <td>58.878804</td>\n",
              "    </tr>\n",
              "    <tr>\n",
              "      <th>...</th>\n",
              "      <td>...</td>\n",
              "      <td>...</td>\n",
              "      <td>...</td>\n",
              "      <td>...</td>\n",
              "      <td>...</td>\n",
              "    </tr>\n",
              "    <tr>\n",
              "      <th>79</th>\n",
              "      <td>South Korea</td>\n",
              "      <td>&lt;Other&gt;</td>\n",
              "      <td>1554</td>\n",
              "      <td>51584</td>\n",
              "      <td>3.012562</td>\n",
              "    </tr>\n",
              "    <tr>\n",
              "      <th>80</th>\n",
              "      <td>France</td>\n",
              "      <td>&lt;Other&gt;</td>\n",
              "      <td>1463</td>\n",
              "      <td>82514</td>\n",
              "      <td>1.773032</td>\n",
              "    </tr>\n",
              "    <tr>\n",
              "      <th>81</th>\n",
              "      <td>Netherlands</td>\n",
              "      <td>&lt;Other&gt;</td>\n",
              "      <td>1455</td>\n",
              "      <td>50303</td>\n",
              "      <td>2.892472</td>\n",
              "    </tr>\n",
              "    <tr>\n",
              "      <th>82</th>\n",
              "      <td>Japan</td>\n",
              "      <td>&lt;Other&gt;</td>\n",
              "      <td>1340</td>\n",
              "      <td>56676</td>\n",
              "      <td>2.364316</td>\n",
              "    </tr>\n",
              "    <tr>\n",
              "      <th>83</th>\n",
              "      <td>Singapore</td>\n",
              "      <td>&lt;Other&gt;</td>\n",
              "      <td>1064</td>\n",
              "      <td>56869</td>\n",
              "      <td>1.870967</td>\n",
              "    </tr>\n",
              "  </tbody>\n",
              "</table>\n",
              "<p>84 rows × 5 columns</p>\n",
              "</div>\n",
              "      <button class=\"colab-df-convert\" onclick=\"convertToInteractive('df-de1e884a-42b3-45ba-9751-bc9d9874f783')\"\n",
              "              title=\"Convert this dataframe to an interactive table.\"\n",
              "              style=\"display:none;\">\n",
              "        \n",
              "  <svg xmlns=\"http://www.w3.org/2000/svg\" height=\"24px\"viewBox=\"0 0 24 24\"\n",
              "       width=\"24px\">\n",
              "    <path d=\"M0 0h24v24H0V0z\" fill=\"none\"/>\n",
              "    <path d=\"M18.56 5.44l.94 2.06.94-2.06 2.06-.94-2.06-.94-.94-2.06-.94 2.06-2.06.94zm-11 1L8.5 8.5l.94-2.06 2.06-.94-2.06-.94L8.5 2.5l-.94 2.06-2.06.94zm10 10l.94 2.06.94-2.06 2.06-.94-2.06-.94-.94-2.06-.94 2.06-2.06.94z\"/><path d=\"M17.41 7.96l-1.37-1.37c-.4-.4-.92-.59-1.43-.59-.52 0-1.04.2-1.43.59L10.3 9.45l-7.72 7.72c-.78.78-.78 2.05 0 2.83L4 21.41c.39.39.9.59 1.41.59.51 0 1.02-.2 1.41-.59l7.78-7.78 2.81-2.81c.8-.78.8-2.07 0-2.86zM5.41 20L4 18.59l7.72-7.72 1.47 1.35L5.41 20z\"/>\n",
              "  </svg>\n",
              "      </button>\n",
              "      \n",
              "  <style>\n",
              "    .colab-df-container {\n",
              "      display:flex;\n",
              "      flex-wrap:wrap;\n",
              "      gap: 12px;\n",
              "    }\n",
              "\n",
              "    .colab-df-convert {\n",
              "      background-color: #E8F0FE;\n",
              "      border: none;\n",
              "      border-radius: 50%;\n",
              "      cursor: pointer;\n",
              "      display: none;\n",
              "      fill: #1967D2;\n",
              "      height: 32px;\n",
              "      padding: 0 0 0 0;\n",
              "      width: 32px;\n",
              "    }\n",
              "\n",
              "    .colab-df-convert:hover {\n",
              "      background-color: #E2EBFA;\n",
              "      box-shadow: 0px 1px 2px rgba(60, 64, 67, 0.3), 0px 1px 3px 1px rgba(60, 64, 67, 0.15);\n",
              "      fill: #174EA6;\n",
              "    }\n",
              "\n",
              "    [theme=dark] .colab-df-convert {\n",
              "      background-color: #3B4455;\n",
              "      fill: #D2E3FC;\n",
              "    }\n",
              "\n",
              "    [theme=dark] .colab-df-convert:hover {\n",
              "      background-color: #434B5C;\n",
              "      box-shadow: 0px 1px 3px 1px rgba(0, 0, 0, 0.15);\n",
              "      filter: drop-shadow(0px 1px 2px rgba(0, 0, 0, 0.3));\n",
              "      fill: #FFFFFF;\n",
              "    }\n",
              "  </style>\n",
              "\n",
              "      <script>\n",
              "        const buttonEl =\n",
              "          document.querySelector('#df-de1e884a-42b3-45ba-9751-bc9d9874f783 button.colab-df-convert');\n",
              "        buttonEl.style.display =\n",
              "          google.colab.kernel.accessAllowed ? 'block' : 'none';\n",
              "\n",
              "        async function convertToInteractive(key) {\n",
              "          const element = document.querySelector('#df-de1e884a-42b3-45ba-9751-bc9d9874f783');\n",
              "          const dataTable =\n",
              "            await google.colab.kernel.invokeFunction('convertToInteractive',\n",
              "                                                     [key], {});\n",
              "          if (!dataTable) return;\n",
              "\n",
              "          const docLinkHtml = 'Like what you see? Visit the ' +\n",
              "            '<a target=\"_blank\" href=https://colab.research.google.com/notebooks/data_table.ipynb>data table notebook</a>'\n",
              "            + ' to learn more about interactive tables.';\n",
              "          element.innerHTML = '';\n",
              "          dataTable['output_type'] = 'display_data';\n",
              "          await google.colab.output.renderOutput(dataTable, element);\n",
              "          const docLink = document.createElement('div');\n",
              "          docLink.innerHTML = docLinkHtml;\n",
              "          element.appendChild(docLink);\n",
              "        }\n",
              "      </script>\n",
              "    </div>\n",
              "  </div>\n",
              "  "
            ]
          },
          "metadata": {},
          "execution_count": 29
        }
      ],
      "source": [
        "country_os_counts_sql = '''\n",
        "    SELECT\n",
        "      geo.country AS country,\n",
        "      device.operating_system AS os,\n",
        "      \n",
        "      COUNT(*) AS num_events,\n",
        "      \n",
        "      /* Window aggregate function to country total events (across all OS) */\n",
        "      SUM(COUNT(*)) OVER (PARTITION BY geo.country)\n",
        "        AS tot_events_in_country,\n",
        "      \n",
        "      /* Look at # of events in country-os combination as % of all events in\n",
        "        that country,  */\n",
        "      SAFE_DIVIDE(\n",
        "        COUNT(*),\n",
        "        SUM(COUNT(*)) OVER (PARTITION BY geo.country)\n",
        "        ) * 100 AS pct_events_in_country\n",
        "\n",
        "    FROM\n",
        "      `bigquery-public-data.ga4_obfuscated_sample_ecommerce.events_*`\n",
        "\n",
        "    GROUP BY\n",
        "      geo.country, device.operating_system\n",
        "    \n",
        "    QUALIFY\n",
        "      tot_events_in_country >= 50000\n",
        "    \n",
        "    ORDER BY\n",
        "      num_events DESC\n",
        "    '''\n",
        "        \n",
        "country_os_counts = bq_query(country_os_counts_sql)\n",
        "\n",
        "country_os_counts"
      ]
    },
    {
      "cell_type": "markdown",
      "source": [
        "One useful visualization for this type of two-category joint distribution data is a heatmap. Below, you create such a visualization of the percentage of events in each country that fall into each device OS, using [Plotly Express' heatmap functionality](https://plotly.com/python/heatmaps/)."
      ],
      "metadata": {
        "id": "79-Rm-ImrSeI"
      }
    },
    {
      "cell_type": "code",
      "execution_count": 30,
      "metadata": {
        "colab": {
          "base_uri": "https://localhost:8080/",
          "height": 542
        },
        "id": "CSosO3N2Yjdi",
        "outputId": "1e84fdb2-c0d2-440b-a746-931a4fc992f9"
      },
      "outputs": [
        {
          "output_type": "display_data",
          "data": {
            "text/html": [
              "<html>\n",
              "<head><meta charset=\"utf-8\" /></head>\n",
              "<body>\n",
              "    <div>            <script src=\"https://cdnjs.cloudflare.com/ajax/libs/mathjax/2.7.5/MathJax.js?config=TeX-AMS-MML_SVG\"></script><script type=\"text/javascript\">if (window.MathJax) {MathJax.Hub.Config({SVG: {font: \"STIX-Web\"}});}</script>                <script type=\"text/javascript\">window.PlotlyConfig = {MathJaxConfig: 'local'};</script>\n",
              "        <script src=\"https://cdn.plot.ly/plotly-2.8.3.min.js\"></script>                <div id=\"5295e5ab-90f9-47b8-9850-d32e70409f62\" class=\"plotly-graph-div\" style=\"height:525px; width:100%;\"></div>            <script type=\"text/javascript\">                                    window.PLOTLYENV=window.PLOTLYENV || {};                                    if (document.getElementById(\"5295e5ab-90f9-47b8-9850-d32e70409f62\")) {                    Plotly.newPlot(                        \"5295e5ab-90f9-47b8-9850-d32e70409f62\",                        [{\"coloraxis\":\"coloraxis\",\"name\":\"0\",\"x\":[\"Canada\",\"China\",\"France\",\"Germany\",\"India\",\"Italy\",\"Japan\",\"Netherlands\",\"Singapore\",\"South Korea\",\"Spain\",\"Taiwan\",\"United Kingdom\",\"United States\"],\"y\":[\"<Other>\",\"Android\",\"Macintosh\",\"Web\",\"Windows\",\"iOS\"],\"z\":[[2.8560326403730327,2.7442587218844787,1.7730324550985288,2.5867481478380983,1.8381611753207148,3.0804139867445883,2.3643164655233253,2.8924716219708566,1.870966607466282,3.0125620347394544,2.9260949910051033,3.0724021853098615,3.279278468770383,2.7207255966161434],[9.014343383879035,8.681836683779986,6.17107399956371,8.686674200884573,7.901566634937566,7.630023833621731,8.432140588608936,8.077053058465697,8.009636181399356,8.489066377171216,8.19086314295155,7.687213729926605,7.936543637495033,8.659904327858452],[7.4230326804641935,5.719612915085545,7.890782170298373,8.604355894130286,7.59584442363197,7.572888439061021,8.296280612604983,6.7053654851599305,8.741141922664369,7.618641439205956,6.537515450417926,6.331052370178246,6.922921211848585,7.516005114936903],[58.87880441989631,57.58085058889954,58.65065322248346,56.70336109832155,59.39891644698731,59.577524568219665,58.06867104241654,58.70624018448204,56.17295890555487,59.68711228287841,59.33327622287763,62.18337840075051,60.075871737777675,57.518177340494525],[10.820912783220923,12.35310337583214,13.93460503672104,13.00489724163911,11.358677483482579,11.430343791831271,9.43609287881996,11.140488638848577,11.044681636744096,10.80761476426799,11.927110741252921,10.998289277633685,11.546448947766958,11.686573499999739],[11.006874092166495,12.92033771451831,11.579853115834888,10.413963417186388,11.90683383563986,10.708805380521728,13.402498412026254,12.478381011072898,14.160614746171024,10.385003101736972,11.085139451494866,9.727664036201093,10.238935996341363,11.898614120094237]],\"type\":\"heatmap\",\"xaxis\":\"x\",\"yaxis\":\"y\",\"hovertemplate\":\"Country: %{x}<br>Device OS: %{y}<br>% Events in Country on This OS: %{z}<extra></extra>\"}],                        {\"template\":{\"data\":{\"bar\":[{\"error_x\":{\"color\":\"#2a3f5f\"},\"error_y\":{\"color\":\"#2a3f5f\"},\"marker\":{\"line\":{\"color\":\"#E5ECF6\",\"width\":0.5},\"pattern\":{\"fillmode\":\"overlay\",\"size\":10,\"solidity\":0.2}},\"type\":\"bar\"}],\"barpolar\":[{\"marker\":{\"line\":{\"color\":\"#E5ECF6\",\"width\":0.5},\"pattern\":{\"fillmode\":\"overlay\",\"size\":10,\"solidity\":0.2}},\"type\":\"barpolar\"}],\"carpet\":[{\"aaxis\":{\"endlinecolor\":\"#2a3f5f\",\"gridcolor\":\"white\",\"linecolor\":\"white\",\"minorgridcolor\":\"white\",\"startlinecolor\":\"#2a3f5f\"},\"baxis\":{\"endlinecolor\":\"#2a3f5f\",\"gridcolor\":\"white\",\"linecolor\":\"white\",\"minorgridcolor\":\"white\",\"startlinecolor\":\"#2a3f5f\"},\"type\":\"carpet\"}],\"choropleth\":[{\"colorbar\":{\"outlinewidth\":0,\"ticks\":\"\"},\"type\":\"choropleth\"}],\"contour\":[{\"colorbar\":{\"outlinewidth\":0,\"ticks\":\"\"},\"colorscale\":[[0.0,\"#0d0887\"],[0.1111111111111111,\"#46039f\"],[0.2222222222222222,\"#7201a8\"],[0.3333333333333333,\"#9c179e\"],[0.4444444444444444,\"#bd3786\"],[0.5555555555555556,\"#d8576b\"],[0.6666666666666666,\"#ed7953\"],[0.7777777777777778,\"#fb9f3a\"],[0.8888888888888888,\"#fdca26\"],[1.0,\"#f0f921\"]],\"type\":\"contour\"}],\"contourcarpet\":[{\"colorbar\":{\"outlinewidth\":0,\"ticks\":\"\"},\"type\":\"contourcarpet\"}],\"heatmap\":[{\"colorbar\":{\"outlinewidth\":0,\"ticks\":\"\"},\"colorscale\":[[0.0,\"#0d0887\"],[0.1111111111111111,\"#46039f\"],[0.2222222222222222,\"#7201a8\"],[0.3333333333333333,\"#9c179e\"],[0.4444444444444444,\"#bd3786\"],[0.5555555555555556,\"#d8576b\"],[0.6666666666666666,\"#ed7953\"],[0.7777777777777778,\"#fb9f3a\"],[0.8888888888888888,\"#fdca26\"],[1.0,\"#f0f921\"]],\"type\":\"heatmap\"}],\"heatmapgl\":[{\"colorbar\":{\"outlinewidth\":0,\"ticks\":\"\"},\"colorscale\":[[0.0,\"#0d0887\"],[0.1111111111111111,\"#46039f\"],[0.2222222222222222,\"#7201a8\"],[0.3333333333333333,\"#9c179e\"],[0.4444444444444444,\"#bd3786\"],[0.5555555555555556,\"#d8576b\"],[0.6666666666666666,\"#ed7953\"],[0.7777777777777778,\"#fb9f3a\"],[0.8888888888888888,\"#fdca26\"],[1.0,\"#f0f921\"]],\"type\":\"heatmapgl\"}],\"histogram\":[{\"marker\":{\"pattern\":{\"fillmode\":\"overlay\",\"size\":10,\"solidity\":0.2}},\"type\":\"histogram\"}],\"histogram2d\":[{\"colorbar\":{\"outlinewidth\":0,\"ticks\":\"\"},\"colorscale\":[[0.0,\"#0d0887\"],[0.1111111111111111,\"#46039f\"],[0.2222222222222222,\"#7201a8\"],[0.3333333333333333,\"#9c179e\"],[0.4444444444444444,\"#bd3786\"],[0.5555555555555556,\"#d8576b\"],[0.6666666666666666,\"#ed7953\"],[0.7777777777777778,\"#fb9f3a\"],[0.8888888888888888,\"#fdca26\"],[1.0,\"#f0f921\"]],\"type\":\"histogram2d\"}],\"histogram2dcontour\":[{\"colorbar\":{\"outlinewidth\":0,\"ticks\":\"\"},\"colorscale\":[[0.0,\"#0d0887\"],[0.1111111111111111,\"#46039f\"],[0.2222222222222222,\"#7201a8\"],[0.3333333333333333,\"#9c179e\"],[0.4444444444444444,\"#bd3786\"],[0.5555555555555556,\"#d8576b\"],[0.6666666666666666,\"#ed7953\"],[0.7777777777777778,\"#fb9f3a\"],[0.8888888888888888,\"#fdca26\"],[1.0,\"#f0f921\"]],\"type\":\"histogram2dcontour\"}],\"mesh3d\":[{\"colorbar\":{\"outlinewidth\":0,\"ticks\":\"\"},\"type\":\"mesh3d\"}],\"parcoords\":[{\"line\":{\"colorbar\":{\"outlinewidth\":0,\"ticks\":\"\"}},\"type\":\"parcoords\"}],\"pie\":[{\"automargin\":true,\"type\":\"pie\"}],\"scatter\":[{\"marker\":{\"colorbar\":{\"outlinewidth\":0,\"ticks\":\"\"}},\"type\":\"scatter\"}],\"scatter3d\":[{\"line\":{\"colorbar\":{\"outlinewidth\":0,\"ticks\":\"\"}},\"marker\":{\"colorbar\":{\"outlinewidth\":0,\"ticks\":\"\"}},\"type\":\"scatter3d\"}],\"scattercarpet\":[{\"marker\":{\"colorbar\":{\"outlinewidth\":0,\"ticks\":\"\"}},\"type\":\"scattercarpet\"}],\"scattergeo\":[{\"marker\":{\"colorbar\":{\"outlinewidth\":0,\"ticks\":\"\"}},\"type\":\"scattergeo\"}],\"scattergl\":[{\"marker\":{\"colorbar\":{\"outlinewidth\":0,\"ticks\":\"\"}},\"type\":\"scattergl\"}],\"scattermapbox\":[{\"marker\":{\"colorbar\":{\"outlinewidth\":0,\"ticks\":\"\"}},\"type\":\"scattermapbox\"}],\"scatterpolar\":[{\"marker\":{\"colorbar\":{\"outlinewidth\":0,\"ticks\":\"\"}},\"type\":\"scatterpolar\"}],\"scatterpolargl\":[{\"marker\":{\"colorbar\":{\"outlinewidth\":0,\"ticks\":\"\"}},\"type\":\"scatterpolargl\"}],\"scatterternary\":[{\"marker\":{\"colorbar\":{\"outlinewidth\":0,\"ticks\":\"\"}},\"type\":\"scatterternary\"}],\"surface\":[{\"colorbar\":{\"outlinewidth\":0,\"ticks\":\"\"},\"colorscale\":[[0.0,\"#0d0887\"],[0.1111111111111111,\"#46039f\"],[0.2222222222222222,\"#7201a8\"],[0.3333333333333333,\"#9c179e\"],[0.4444444444444444,\"#bd3786\"],[0.5555555555555556,\"#d8576b\"],[0.6666666666666666,\"#ed7953\"],[0.7777777777777778,\"#fb9f3a\"],[0.8888888888888888,\"#fdca26\"],[1.0,\"#f0f921\"]],\"type\":\"surface\"}],\"table\":[{\"cells\":{\"fill\":{\"color\":\"#EBF0F8\"},\"line\":{\"color\":\"white\"}},\"header\":{\"fill\":{\"color\":\"#C8D4E3\"},\"line\":{\"color\":\"white\"}},\"type\":\"table\"}]},\"layout\":{\"annotationdefaults\":{\"arrowcolor\":\"#2a3f5f\",\"arrowhead\":0,\"arrowwidth\":1},\"autotypenumbers\":\"strict\",\"coloraxis\":{\"colorbar\":{\"outlinewidth\":0,\"ticks\":\"\"}},\"colorscale\":{\"diverging\":[[0,\"#8e0152\"],[0.1,\"#c51b7d\"],[0.2,\"#de77ae\"],[0.3,\"#f1b6da\"],[0.4,\"#fde0ef\"],[0.5,\"#f7f7f7\"],[0.6,\"#e6f5d0\"],[0.7,\"#b8e186\"],[0.8,\"#7fbc41\"],[0.9,\"#4d9221\"],[1,\"#276419\"]],\"sequential\":[[0.0,\"#0d0887\"],[0.1111111111111111,\"#46039f\"],[0.2222222222222222,\"#7201a8\"],[0.3333333333333333,\"#9c179e\"],[0.4444444444444444,\"#bd3786\"],[0.5555555555555556,\"#d8576b\"],[0.6666666666666666,\"#ed7953\"],[0.7777777777777778,\"#fb9f3a\"],[0.8888888888888888,\"#fdca26\"],[1.0,\"#f0f921\"]],\"sequentialminus\":[[0.0,\"#0d0887\"],[0.1111111111111111,\"#46039f\"],[0.2222222222222222,\"#7201a8\"],[0.3333333333333333,\"#9c179e\"],[0.4444444444444444,\"#bd3786\"],[0.5555555555555556,\"#d8576b\"],[0.6666666666666666,\"#ed7953\"],[0.7777777777777778,\"#fb9f3a\"],[0.8888888888888888,\"#fdca26\"],[1.0,\"#f0f921\"]]},\"colorway\":[\"#636efa\",\"#EF553B\",\"#00cc96\",\"#ab63fa\",\"#FFA15A\",\"#19d3f3\",\"#FF6692\",\"#B6E880\",\"#FF97FF\",\"#FECB52\"],\"font\":{\"color\":\"#2a3f5f\"},\"geo\":{\"bgcolor\":\"white\",\"lakecolor\":\"white\",\"landcolor\":\"#E5ECF6\",\"showlakes\":true,\"showland\":true,\"subunitcolor\":\"white\"},\"hoverlabel\":{\"align\":\"left\"},\"hovermode\":\"closest\",\"mapbox\":{\"style\":\"light\"},\"paper_bgcolor\":\"white\",\"plot_bgcolor\":\"#E5ECF6\",\"polar\":{\"angularaxis\":{\"gridcolor\":\"white\",\"linecolor\":\"white\",\"ticks\":\"\"},\"bgcolor\":\"#E5ECF6\",\"radialaxis\":{\"gridcolor\":\"white\",\"linecolor\":\"white\",\"ticks\":\"\"}},\"scene\":{\"xaxis\":{\"backgroundcolor\":\"#E5ECF6\",\"gridcolor\":\"white\",\"gridwidth\":2,\"linecolor\":\"white\",\"showbackground\":true,\"ticks\":\"\",\"zerolinecolor\":\"white\"},\"yaxis\":{\"backgroundcolor\":\"#E5ECF6\",\"gridcolor\":\"white\",\"gridwidth\":2,\"linecolor\":\"white\",\"showbackground\":true,\"ticks\":\"\",\"zerolinecolor\":\"white\"},\"zaxis\":{\"backgroundcolor\":\"#E5ECF6\",\"gridcolor\":\"white\",\"gridwidth\":2,\"linecolor\":\"white\",\"showbackground\":true,\"ticks\":\"\",\"zerolinecolor\":\"white\"}},\"shapedefaults\":{\"line\":{\"color\":\"#2a3f5f\"}},\"ternary\":{\"aaxis\":{\"gridcolor\":\"white\",\"linecolor\":\"white\",\"ticks\":\"\"},\"baxis\":{\"gridcolor\":\"white\",\"linecolor\":\"white\",\"ticks\":\"\"},\"bgcolor\":\"#E5ECF6\",\"caxis\":{\"gridcolor\":\"white\",\"linecolor\":\"white\",\"ticks\":\"\"}},\"title\":{\"x\":0.05},\"xaxis\":{\"automargin\":true,\"gridcolor\":\"white\",\"linecolor\":\"white\",\"ticks\":\"\",\"title\":{\"standoff\":15},\"zerolinecolor\":\"white\",\"zerolinewidth\":2},\"yaxis\":{\"automargin\":true,\"gridcolor\":\"white\",\"linecolor\":\"white\",\"ticks\":\"\",\"title\":{\"standoff\":15},\"zerolinecolor\":\"white\",\"zerolinewidth\":2}}},\"xaxis\":{\"anchor\":\"y\",\"domain\":[0.0,1.0],\"scaleanchor\":\"y\",\"constrain\":\"domain\",\"title\":{\"text\":\"Country\"}},\"yaxis\":{\"anchor\":\"x\",\"domain\":[0.0,1.0],\"autorange\":\"reversed\",\"constrain\":\"domain\",\"title\":{\"text\":\"Device OS\"}},\"coloraxis\":{\"colorbar\":{\"title\":{\"text\":\"% Events in Country on This OS\"}},\"colorscale\":[[0.0,\"#0d0887\"],[0.1111111111111111,\"#46039f\"],[0.2222222222222222,\"#7201a8\"],[0.3333333333333333,\"#9c179e\"],[0.4444444444444444,\"#bd3786\"],[0.5555555555555556,\"#d8576b\"],[0.6666666666666666,\"#ed7953\"],[0.7777777777777778,\"#fb9f3a\"],[0.8888888888888888,\"#fdca26\"],[1.0,\"#f0f921\"]]},\"title\":{\"text\":\"Percent of Events in Each Country by Device OS\"}},                        {\"responsive\": true}                    ).then(function(){\n",
              "                            \n",
              "var gd = document.getElementById('5295e5ab-90f9-47b8-9850-d32e70409f62');\n",
              "var x = new MutationObserver(function (mutations, observer) {{\n",
              "        var display = window.getComputedStyle(gd).display;\n",
              "        if (!display || display === 'none') {{\n",
              "            console.log([gd, 'removed!']);\n",
              "            Plotly.purge(gd);\n",
              "            observer.disconnect();\n",
              "        }}\n",
              "}});\n",
              "\n",
              "// Listen for the removal of the full notebook cells\n",
              "var notebookContainer = gd.closest('#notebook-container');\n",
              "if (notebookContainer) {{\n",
              "    x.observe(notebookContainer, {childList: true});\n",
              "}}\n",
              "\n",
              "// Listen for the clearing of the current output cell\n",
              "var outputEl = gd.closest('.output');\n",
              "if (outputEl) {{\n",
              "    x.observe(outputEl, {childList: true});\n",
              "}}\n",
              "\n",
              "                        })                };                            </script>        </div>\n",
              "</body>\n",
              "</html>"
            ]
          },
          "metadata": {}
        }
      ],
      "source": [
        "# Pivot country-OS data to get in form necessary for Plotly Express heat map\n",
        "country_os_counts_matrix = pd.pivot_table(\n",
        "    country_os_counts, \n",
        "    values='pct_events_in_country', \n",
        "    index=['os'],\n",
        "    columns=['country'], \n",
        "    aggfunc=np.sum\n",
        "    )\n",
        "\n",
        "# Create heat map % of events in each country (columns) by device OS (rows)\n",
        "country_os_counts_heatmap = px.imshow(\n",
        "    country_os_counts_matrix,\n",
        "    labels=dict(x=\"Country\", y=\"Device OS\",\n",
        "                color=\"% Events in Country on This OS\"),\n",
        "    title=\"Percent of Events in Each Country by Device OS\"\n",
        "    )\n",
        "\n",
        "country_os_counts_heatmap.show()"
      ]
    },
    {
      "cell_type": "markdown",
      "source": [
        "From looking at the colors and hovering over some of the numbers, it's clear that the distribution of events across device OS doesn't look very different across countries. Web is the dominant OS in every country, accounting for 55-65% of events in each country analyzed here. There are some other systems with slightly higher proportions in some countries (e.g. Windows in France, iOS in Singapore), but you likely come away from the heatmap thinking how relatively consistent things look across countries."
      ],
      "metadata": {
        "id": "B5HcMZfLsTJA"
      }
    },
    {
      "cell_type": "markdown",
      "metadata": {
        "id": "-IiHhCQDYjdj"
      },
      "source": [
        "## Analyze correlation between user-level aggregate metrics\n",
        "In this section, you look at the event data at the user level.All events that correspond to the same user_pseudo_id get grouped together, and then you perform analysis on the users' activity (instead of individual events, as in the previous section)."
      ]
    },
    {
      "cell_type": "markdown",
      "source": [
        "### Calculate and explore user-level aggregate metrics\n",
        "First, you use BigQuery to generate some interesting aggregates at the user level: page views, user engagements, and total purchase value (sales)."
      ],
      "metadata": {
        "id": "JipZu0WLt08N"
      }
    },
    {
      "cell_type": "code",
      "execution_count": 31,
      "metadata": {
        "colab": {
          "base_uri": "https://localhost:8080/"
        },
        "id": "UxWnQ_ZKYjdj",
        "outputId": "d8ca5b92-2f91-4270-f63e-1e5915749e02"
      },
      "outputs": [
        {
          "output_type": "stream",
          "name": "stderr",
          "text": [
            "Query complete after 0.01s: 100%|██████████| 3/3 [00:00<00:00, 663.41query/s] \n",
            "Downloading: 100%|██████████| 270154/270154 [00:02<00:00, 127861.24rows/s]\n"
          ]
        }
      ],
      "source": [
        "%%bigquery user_aggregates --project $PROJECT_ID\n",
        "  SELECT\n",
        "    user_pseudo_id,\n",
        "    \n",
        "    /* Use array functionality to get most recent language by user\n",
        "       (in case of >1 language per user, which is possible) */\n",
        "    IFNULL((ARRAY_AGG(device.language ORDER BY event_timestamp DESC)\n",
        "      [SAFE_ORDINAL(1)]), 'NULL') \n",
        "      AS language,\n",
        "    \n",
        "    SUM(IF(event_name = 'page_view', 1, 0))\n",
        "      AS num_page_views,\n",
        "    \n",
        "    SUM(IF(event_name = 'user_engagement', 1, 0))\n",
        "      AS num_user_engagements,\n",
        "    \n",
        "    SUM(IF(event_name = 'purchase', event_value_in_usd, 0))\n",
        "      AS tot_purchase_value_usd\n",
        "\n",
        "  FROM\n",
        "    `bigquery-public-data.ga4_obfuscated_sample_ecommerce.events_*`\n",
        "\n",
        "  GROUP BY\n",
        "    user_pseudo_id\n",
        "    \n",
        "  ORDER BY\n",
        "    tot_purchase_value_usd DESC, num_page_views DESC"
      ]
    },
    {
      "cell_type": "code",
      "execution_count": 32,
      "metadata": {
        "colab": {
          "base_uri": "https://localhost:8080/",
          "height": 424
        },
        "id": "r-IKCuokYjdj",
        "outputId": "f7112a07-a311-4768-c408-173508b61b0e"
      },
      "outputs": [
        {
          "output_type": "execute_result",
          "data": {
            "text/plain": [
              "               user_pseudo_id language  num_page_views  num_user_engagements  \\\n",
              "0         81036435.1157569602     NULL             191                   181   \n",
              "1         15046526.4562004600     NULL              52                    48   \n",
              "2          8083450.3844124226     NULL             219                   204   \n",
              "3         60695124.4742262801     NULL             160                   146   \n",
              "4       7134559299.4601048201    en-gb              32                    31   \n",
              "...                       ...      ...             ...                   ...   \n",
              "270149     5617634.5410303461       zh               0                     1   \n",
              "270150     1269147.4663343073       de               0                     1   \n",
              "270151    25386248.0371916728    en-us               0                     1   \n",
              "270152     7031008.4333209145    en-us               0                     2   \n",
              "270153    37450456.4035396942       en               0                     1   \n",
              "\n",
              "        tot_purchase_value_usd  \n",
              "0                       1530.0  \n",
              "1                       1424.0  \n",
              "2                       1404.0  \n",
              "3                       1260.0  \n",
              "4                       1200.0  \n",
              "...                        ...  \n",
              "270149                     0.0  \n",
              "270150                     0.0  \n",
              "270151                     0.0  \n",
              "270152                     0.0  \n",
              "270153                     0.0  \n",
              "\n",
              "[270154 rows x 5 columns]"
            ],
            "text/html": [
              "\n",
              "  <div id=\"df-216833a6-ce24-430d-b799-7d8221516017\">\n",
              "    <div class=\"colab-df-container\">\n",
              "      <div>\n",
              "<style scoped>\n",
              "    .dataframe tbody tr th:only-of-type {\n",
              "        vertical-align: middle;\n",
              "    }\n",
              "\n",
              "    .dataframe tbody tr th {\n",
              "        vertical-align: top;\n",
              "    }\n",
              "\n",
              "    .dataframe thead th {\n",
              "        text-align: right;\n",
              "    }\n",
              "</style>\n",
              "<table border=\"1\" class=\"dataframe\">\n",
              "  <thead>\n",
              "    <tr style=\"text-align: right;\">\n",
              "      <th></th>\n",
              "      <th>user_pseudo_id</th>\n",
              "      <th>language</th>\n",
              "      <th>num_page_views</th>\n",
              "      <th>num_user_engagements</th>\n",
              "      <th>tot_purchase_value_usd</th>\n",
              "    </tr>\n",
              "  </thead>\n",
              "  <tbody>\n",
              "    <tr>\n",
              "      <th>0</th>\n",
              "      <td>81036435.1157569602</td>\n",
              "      <td>NULL</td>\n",
              "      <td>191</td>\n",
              "      <td>181</td>\n",
              "      <td>1530.0</td>\n",
              "    </tr>\n",
              "    <tr>\n",
              "      <th>1</th>\n",
              "      <td>15046526.4562004600</td>\n",
              "      <td>NULL</td>\n",
              "      <td>52</td>\n",
              "      <td>48</td>\n",
              "      <td>1424.0</td>\n",
              "    </tr>\n",
              "    <tr>\n",
              "      <th>2</th>\n",
              "      <td>8083450.3844124226</td>\n",
              "      <td>NULL</td>\n",
              "      <td>219</td>\n",
              "      <td>204</td>\n",
              "      <td>1404.0</td>\n",
              "    </tr>\n",
              "    <tr>\n",
              "      <th>3</th>\n",
              "      <td>60695124.4742262801</td>\n",
              "      <td>NULL</td>\n",
              "      <td>160</td>\n",
              "      <td>146</td>\n",
              "      <td>1260.0</td>\n",
              "    </tr>\n",
              "    <tr>\n",
              "      <th>4</th>\n",
              "      <td>7134559299.4601048201</td>\n",
              "      <td>en-gb</td>\n",
              "      <td>32</td>\n",
              "      <td>31</td>\n",
              "      <td>1200.0</td>\n",
              "    </tr>\n",
              "    <tr>\n",
              "      <th>...</th>\n",
              "      <td>...</td>\n",
              "      <td>...</td>\n",
              "      <td>...</td>\n",
              "      <td>...</td>\n",
              "      <td>...</td>\n",
              "    </tr>\n",
              "    <tr>\n",
              "      <th>270149</th>\n",
              "      <td>5617634.5410303461</td>\n",
              "      <td>zh</td>\n",
              "      <td>0</td>\n",
              "      <td>1</td>\n",
              "      <td>0.0</td>\n",
              "    </tr>\n",
              "    <tr>\n",
              "      <th>270150</th>\n",
              "      <td>1269147.4663343073</td>\n",
              "      <td>de</td>\n",
              "      <td>0</td>\n",
              "      <td>1</td>\n",
              "      <td>0.0</td>\n",
              "    </tr>\n",
              "    <tr>\n",
              "      <th>270151</th>\n",
              "      <td>25386248.0371916728</td>\n",
              "      <td>en-us</td>\n",
              "      <td>0</td>\n",
              "      <td>1</td>\n",
              "      <td>0.0</td>\n",
              "    </tr>\n",
              "    <tr>\n",
              "      <th>270152</th>\n",
              "      <td>7031008.4333209145</td>\n",
              "      <td>en-us</td>\n",
              "      <td>0</td>\n",
              "      <td>2</td>\n",
              "      <td>0.0</td>\n",
              "    </tr>\n",
              "    <tr>\n",
              "      <th>270153</th>\n",
              "      <td>37450456.4035396942</td>\n",
              "      <td>en</td>\n",
              "      <td>0</td>\n",
              "      <td>1</td>\n",
              "      <td>0.0</td>\n",
              "    </tr>\n",
              "  </tbody>\n",
              "</table>\n",
              "<p>270154 rows × 5 columns</p>\n",
              "</div>\n",
              "      <button class=\"colab-df-convert\" onclick=\"convertToInteractive('df-216833a6-ce24-430d-b799-7d8221516017')\"\n",
              "              title=\"Convert this dataframe to an interactive table.\"\n",
              "              style=\"display:none;\">\n",
              "        \n",
              "  <svg xmlns=\"http://www.w3.org/2000/svg\" height=\"24px\"viewBox=\"0 0 24 24\"\n",
              "       width=\"24px\">\n",
              "    <path d=\"M0 0h24v24H0V0z\" fill=\"none\"/>\n",
              "    <path d=\"M18.56 5.44l.94 2.06.94-2.06 2.06-.94-2.06-.94-.94-2.06-.94 2.06-2.06.94zm-11 1L8.5 8.5l.94-2.06 2.06-.94-2.06-.94L8.5 2.5l-.94 2.06-2.06.94zm10 10l.94 2.06.94-2.06 2.06-.94-2.06-.94-.94-2.06-.94 2.06-2.06.94z\"/><path d=\"M17.41 7.96l-1.37-1.37c-.4-.4-.92-.59-1.43-.59-.52 0-1.04.2-1.43.59L10.3 9.45l-7.72 7.72c-.78.78-.78 2.05 0 2.83L4 21.41c.39.39.9.59 1.41.59.51 0 1.02-.2 1.41-.59l7.78-7.78 2.81-2.81c.8-.78.8-2.07 0-2.86zM5.41 20L4 18.59l7.72-7.72 1.47 1.35L5.41 20z\"/>\n",
              "  </svg>\n",
              "      </button>\n",
              "      \n",
              "  <style>\n",
              "    .colab-df-container {\n",
              "      display:flex;\n",
              "      flex-wrap:wrap;\n",
              "      gap: 12px;\n",
              "    }\n",
              "\n",
              "    .colab-df-convert {\n",
              "      background-color: #E8F0FE;\n",
              "      border: none;\n",
              "      border-radius: 50%;\n",
              "      cursor: pointer;\n",
              "      display: none;\n",
              "      fill: #1967D2;\n",
              "      height: 32px;\n",
              "      padding: 0 0 0 0;\n",
              "      width: 32px;\n",
              "    }\n",
              "\n",
              "    .colab-df-convert:hover {\n",
              "      background-color: #E2EBFA;\n",
              "      box-shadow: 0px 1px 2px rgba(60, 64, 67, 0.3), 0px 1px 3px 1px rgba(60, 64, 67, 0.15);\n",
              "      fill: #174EA6;\n",
              "    }\n",
              "\n",
              "    [theme=dark] .colab-df-convert {\n",
              "      background-color: #3B4455;\n",
              "      fill: #D2E3FC;\n",
              "    }\n",
              "\n",
              "    [theme=dark] .colab-df-convert:hover {\n",
              "      background-color: #434B5C;\n",
              "      box-shadow: 0px 1px 3px 1px rgba(0, 0, 0, 0.15);\n",
              "      filter: drop-shadow(0px 1px 2px rgba(0, 0, 0, 0.3));\n",
              "      fill: #FFFFFF;\n",
              "    }\n",
              "  </style>\n",
              "\n",
              "      <script>\n",
              "        const buttonEl =\n",
              "          document.querySelector('#df-216833a6-ce24-430d-b799-7d8221516017 button.colab-df-convert');\n",
              "        buttonEl.style.display =\n",
              "          google.colab.kernel.accessAllowed ? 'block' : 'none';\n",
              "\n",
              "        async function convertToInteractive(key) {\n",
              "          const element = document.querySelector('#df-216833a6-ce24-430d-b799-7d8221516017');\n",
              "          const dataTable =\n",
              "            await google.colab.kernel.invokeFunction('convertToInteractive',\n",
              "                                                     [key], {});\n",
              "          if (!dataTable) return;\n",
              "\n",
              "          const docLinkHtml = 'Like what you see? Visit the ' +\n",
              "            '<a target=\"_blank\" href=https://colab.research.google.com/notebooks/data_table.ipynb>data table notebook</a>'\n",
              "            + ' to learn more about interactive tables.';\n",
              "          element.innerHTML = '';\n",
              "          dataTable['output_type'] = 'display_data';\n",
              "          await google.colab.output.renderOutput(dataTable, element);\n",
              "          const docLink = document.createElement('div');\n",
              "          docLink.innerHTML = docLinkHtml;\n",
              "          element.appendChild(docLink);\n",
              "        }\n",
              "      </script>\n",
              "    </div>\n",
              "  </div>\n",
              "  "
            ]
          },
          "metadata": {},
          "execution_count": 32
        }
      ],
      "source": [
        "user_aggregates"
      ]
    },
    {
      "cell_type": "markdown",
      "source": [
        "Looking at the user aggregates output, you can see there are ~270K distinct users in the sample GA4 data, with the highest spenders purchasing items that total more than $1400 from the online store."
      ],
      "metadata": {
        "id": "Oodp-YEtuSf8"
      }
    },
    {
      "cell_type": "markdown",
      "source": [
        "You can now explore this user data further using [Plotly's scatter plot functionality](https://plotly.com/python/line-and-scatter/) to look at engagements vs page views in an interactive plot. The code below does that, while also sizing points by total purchase value and coloring them by user device language."
      ],
      "metadata": {
        "id": "ceLuuLvhuoDd"
      }
    },
    {
      "cell_type": "code",
      "execution_count": null,
      "metadata": {
        "id": "Ni04VBRTYjdj"
      },
      "outputs": [],
      "source": [
        "user_page_views_engagements_scatter_plot = px.scatter(\n",
        "    user_aggregates,\n",
        "    x='num_page_views',\n",
        "    y='num_user_engagements',\n",
        "    size='tot_purchase_value_usd',\n",
        "    color='language',\n",
        "    title=('<b>User-Level Engagements vs Page Views</b><br>' +\n",
        "           '(Each Point is 1 User, Sized by Total Purchase Value)')\n",
        "    ) \n",
        "\n",
        "user_page_views_engagements_scatter_plot.show()"
      ]
    },
    {
      "cell_type": "markdown",
      "source": [
        "There's a lot you can see by playing around with this interactive plot, including:\n",
        "\n",
        "*   There's an extremely strong positive correlation between user page views and engagements, which makes sense logically.\n",
        "*   Users with higher page views and engagements generally seem to have higher total purchase values, though you can see users with more money spent toward the bottom left and users spending relatively less toward the top right. \n",
        "*   With few exceptions, the most active users (high on both page views and engagements) are those with \"en-us\" as their language or (more commonly) no known device language. You know from before that those are the two most common values in the lanaguage field across all events, so perhaps this is consistent with that and relatively unsurprising. "
      ],
      "metadata": {
        "id": "PYbk4u4Jwop2"
      }
    },
    {
      "cell_type": "markdown",
      "source": [
        "### Examine correlations between user-level metrics\n",
        "You saw the some of the correlations among user page views, engagements, and purchase value in the above plot. Next, you calculate the actual correlation values among these quantities across users."
      ],
      "metadata": {
        "id": "M088ealAvArM"
      }
    },
    {
      "cell_type": "code",
      "execution_count": 33,
      "metadata": {
        "colab": {
          "base_uri": "https://localhost:8080/",
          "height": 143
        },
        "id": "J5aUnESxYjdj",
        "outputId": "10323682-290f-4a62-9c7b-3bce2fea9913"
      },
      "outputs": [
        {
          "output_type": "execute_result",
          "data": {
            "text/plain": [
              "                        num_page_views  num_user_engagements  \\\n",
              "num_page_views                1.000000              0.984337   \n",
              "num_user_engagements          0.984337              1.000000   \n",
              "tot_purchase_value_usd        0.380772              0.381475   \n",
              "\n",
              "                        tot_purchase_value_usd  \n",
              "num_page_views                        0.380772  \n",
              "num_user_engagements                  0.381475  \n",
              "tot_purchase_value_usd                1.000000  "
            ],
            "text/html": [
              "\n",
              "  <div id=\"df-e5538719-4336-4e28-b04f-e3c5d7b71a49\">\n",
              "    <div class=\"colab-df-container\">\n",
              "      <div>\n",
              "<style scoped>\n",
              "    .dataframe tbody tr th:only-of-type {\n",
              "        vertical-align: middle;\n",
              "    }\n",
              "\n",
              "    .dataframe tbody tr th {\n",
              "        vertical-align: top;\n",
              "    }\n",
              "\n",
              "    .dataframe thead th {\n",
              "        text-align: right;\n",
              "    }\n",
              "</style>\n",
              "<table border=\"1\" class=\"dataframe\">\n",
              "  <thead>\n",
              "    <tr style=\"text-align: right;\">\n",
              "      <th></th>\n",
              "      <th>num_page_views</th>\n",
              "      <th>num_user_engagements</th>\n",
              "      <th>tot_purchase_value_usd</th>\n",
              "    </tr>\n",
              "  </thead>\n",
              "  <tbody>\n",
              "    <tr>\n",
              "      <th>num_page_views</th>\n",
              "      <td>1.000000</td>\n",
              "      <td>0.984337</td>\n",
              "      <td>0.380772</td>\n",
              "    </tr>\n",
              "    <tr>\n",
              "      <th>num_user_engagements</th>\n",
              "      <td>0.984337</td>\n",
              "      <td>1.000000</td>\n",
              "      <td>0.381475</td>\n",
              "    </tr>\n",
              "    <tr>\n",
              "      <th>tot_purchase_value_usd</th>\n",
              "      <td>0.380772</td>\n",
              "      <td>0.381475</td>\n",
              "      <td>1.000000</td>\n",
              "    </tr>\n",
              "  </tbody>\n",
              "</table>\n",
              "</div>\n",
              "      <button class=\"colab-df-convert\" onclick=\"convertToInteractive('df-e5538719-4336-4e28-b04f-e3c5d7b71a49')\"\n",
              "              title=\"Convert this dataframe to an interactive table.\"\n",
              "              style=\"display:none;\">\n",
              "        \n",
              "  <svg xmlns=\"http://www.w3.org/2000/svg\" height=\"24px\"viewBox=\"0 0 24 24\"\n",
              "       width=\"24px\">\n",
              "    <path d=\"M0 0h24v24H0V0z\" fill=\"none\"/>\n",
              "    <path d=\"M18.56 5.44l.94 2.06.94-2.06 2.06-.94-2.06-.94-.94-2.06-.94 2.06-2.06.94zm-11 1L8.5 8.5l.94-2.06 2.06-.94-2.06-.94L8.5 2.5l-.94 2.06-2.06.94zm10 10l.94 2.06.94-2.06 2.06-.94-2.06-.94-.94-2.06-.94 2.06-2.06.94z\"/><path d=\"M17.41 7.96l-1.37-1.37c-.4-.4-.92-.59-1.43-.59-.52 0-1.04.2-1.43.59L10.3 9.45l-7.72 7.72c-.78.78-.78 2.05 0 2.83L4 21.41c.39.39.9.59 1.41.59.51 0 1.02-.2 1.41-.59l7.78-7.78 2.81-2.81c.8-.78.8-2.07 0-2.86zM5.41 20L4 18.59l7.72-7.72 1.47 1.35L5.41 20z\"/>\n",
              "  </svg>\n",
              "      </button>\n",
              "      \n",
              "  <style>\n",
              "    .colab-df-container {\n",
              "      display:flex;\n",
              "      flex-wrap:wrap;\n",
              "      gap: 12px;\n",
              "    }\n",
              "\n",
              "    .colab-df-convert {\n",
              "      background-color: #E8F0FE;\n",
              "      border: none;\n",
              "      border-radius: 50%;\n",
              "      cursor: pointer;\n",
              "      display: none;\n",
              "      fill: #1967D2;\n",
              "      height: 32px;\n",
              "      padding: 0 0 0 0;\n",
              "      width: 32px;\n",
              "    }\n",
              "\n",
              "    .colab-df-convert:hover {\n",
              "      background-color: #E2EBFA;\n",
              "      box-shadow: 0px 1px 2px rgba(60, 64, 67, 0.3), 0px 1px 3px 1px rgba(60, 64, 67, 0.15);\n",
              "      fill: #174EA6;\n",
              "    }\n",
              "\n",
              "    [theme=dark] .colab-df-convert {\n",
              "      background-color: #3B4455;\n",
              "      fill: #D2E3FC;\n",
              "    }\n",
              "\n",
              "    [theme=dark] .colab-df-convert:hover {\n",
              "      background-color: #434B5C;\n",
              "      box-shadow: 0px 1px 3px 1px rgba(0, 0, 0, 0.15);\n",
              "      filter: drop-shadow(0px 1px 2px rgba(0, 0, 0, 0.3));\n",
              "      fill: #FFFFFF;\n",
              "    }\n",
              "  </style>\n",
              "\n",
              "      <script>\n",
              "        const buttonEl =\n",
              "          document.querySelector('#df-e5538719-4336-4e28-b04f-e3c5d7b71a49 button.colab-df-convert');\n",
              "        buttonEl.style.display =\n",
              "          google.colab.kernel.accessAllowed ? 'block' : 'none';\n",
              "\n",
              "        async function convertToInteractive(key) {\n",
              "          const element = document.querySelector('#df-e5538719-4336-4e28-b04f-e3c5d7b71a49');\n",
              "          const dataTable =\n",
              "            await google.colab.kernel.invokeFunction('convertToInteractive',\n",
              "                                                     [key], {});\n",
              "          if (!dataTable) return;\n",
              "\n",
              "          const docLinkHtml = 'Like what you see? Visit the ' +\n",
              "            '<a target=\"_blank\" href=https://colab.research.google.com/notebooks/data_table.ipynb>data table notebook</a>'\n",
              "            + ' to learn more about interactive tables.';\n",
              "          element.innerHTML = '';\n",
              "          dataTable['output_type'] = 'display_data';\n",
              "          await google.colab.output.renderOutput(dataTable, element);\n",
              "          const docLink = document.createElement('div');\n",
              "          docLink.innerHTML = docLinkHtml;\n",
              "          element.appendChild(docLink);\n",
              "        }\n",
              "      </script>\n",
              "    </div>\n",
              "  </div>\n",
              "  "
            ]
          },
          "metadata": {},
          "execution_count": 33
        }
      ],
      "source": [
        "user_aggregates.corr()"
      ]
    },
    {
      "cell_type": "markdown",
      "source": [
        "The correlation between user page views and engagements is extremely high (0.98), as expected, while the correlations between each of those and purchase value is positive but much more modest (0.38)."
      ],
      "metadata": {
        "id": "oOPUtyhYyGz8"
      }
    },
    {
      "cell_type": "markdown",
      "source": [
        "Going beyond the overall correlation, you might want to understand if these relationships are similar across different slices of your data - user demographics, for example. In the query below, you calculate the correlation between each of page views and engagements with purchase value, but this time _by country_, using [BigQuery's built-in correlation functionality](https://cloud.google.com/bigquery/docs/reference/standard-sql/statistical_aggregate_functions#corr)."
      ],
      "metadata": {
        "id": "TPZV_-y1ycDa"
      }
    },
    {
      "cell_type": "code",
      "execution_count": 34,
      "metadata": {
        "colab": {
          "base_uri": "https://localhost:8080/"
        },
        "id": "nsvCX2FXYjdj",
        "outputId": "a1998fbe-2256-46ca-ae3a-f972cb2b7f79"
      },
      "outputs": [
        {
          "output_type": "stream",
          "name": "stderr",
          "text": [
            "Query complete after 0.01s: 100%|██████████| 4/4 [00:00<00:00, 646.05query/s]\n",
            "Downloading: 100%|██████████| 47/47 [00:01<00:00, 27.28rows/s]\n"
          ]
        }
      ],
      "source": [
        "%%bigquery user_purchase_value_correlations_by_country --project $PROJECT_ID \n",
        "/* Use structure of user_aggregates query from above in WITH clause, as first \n",
        "   step to aggregate data to user level */\n",
        "WITH\n",
        "user_aggregates AS\n",
        "(\n",
        "  SELECT\n",
        "    user_pseudo_id,\n",
        "\n",
        "    /* Use array functionality to get most recent country by user\n",
        "       (in case of >1 country per user, which is possible) */\n",
        "    IFNULL((ARRAY_AGG(geo.country ORDER BY event_timestamp DESC)\n",
        "      [SAFE_ORDINAL(1)]), 'Unknown') \n",
        "      AS country,\n",
        "    \n",
        "    SUM(IF(event_name = 'page_view', 1, 0))\n",
        "      AS num_page_views,\n",
        "    \n",
        "    SUM(IF(event_name = 'user_engagement', 1, 0))\n",
        "      AS num_user_engagements,\n",
        "    \n",
        "    SUM(IF(event_name = 'purchase', event_value_in_usd, 0))\n",
        "      AS tot_purchase_value_usd\n",
        "\n",
        "  FROM\n",
        "    `bigquery-public-data.ga4_obfuscated_sample_ecommerce.events_*`\n",
        "\n",
        "  GROUP BY\n",
        "    user_pseudo_id\n",
        ")\n",
        "\n",
        "SELECT\n",
        "  country,\n",
        "  COUNT(*) AS num_users,\n",
        "  CORR(num_page_views, tot_purchase_value_usd)\n",
        "    AS corr_page_views_purchase_value,\n",
        "  \n",
        "  CORR(num_user_engagements, tot_purchase_value_usd)\n",
        "    AS corr_engagements_purchase_value\n",
        "\n",
        "FROM\n",
        "  user_aggregates\n",
        "\n",
        "GROUP BY\n",
        "  country\n",
        "\n",
        "/* Only return countries w/ 500+ users (for higher sample size) */\n",
        "HAVING\n",
        "  num_users >= 500    \n",
        "    \n",
        "ORDER BY\n",
        "  num_users DESC"
      ]
    },
    {
      "cell_type": "markdown",
      "source": [
        "With the data read in from BigQuery, you can now display it in an interactive table (with some formatting to avoid having to read really long decimal columns)."
      ],
      "metadata": {
        "id": "Zu6OKgIjz2hK"
      }
    },
    {
      "cell_type": "code",
      "execution_count": 35,
      "metadata": {
        "colab": {
          "base_uri": "https://localhost:8080/",
          "height": 469
        },
        "id": "zCQcZuSjYjdk",
        "outputId": "d38e2d36-e6e1-4cc0-ec3e-2997e01001d3"
      },
      "outputs": [
        {
          "output_type": "display_data",
          "data": {
            "text/plain": [
              "<IPython.core.display.HTML object>"
            ],
            "text/html": [
              "<table id=\"b0c9f8bb-1412-485a-b5f1-7893720ee9b4\" class=\"display\"style=\"max-width:100%\"><thead><th>country</th><th>num_users</th><th>corr_page_views_purchase_value</th><th>corr_engagements_purchase_value</th></thead><tbody><tr><td>Loading... (need <a href=https://mwouts.github.io/itables/troubleshooting.html>help</a>?)</td></tr></tbody></table>\n",
              "<style>\n",
              "table td {\n",
              "    text-overflow: ellipsis;\n",
              "    overflow: hidden;\n",
              "}\n",
              "\n",
              "table th {\n",
              "    text-overflow: ellipsis;\n",
              "    overflow: hidden;\n",
              "}\n",
              "\n",
              "thead input {\n",
              "    width: 100%;\n",
              "    padding: 3px;\n",
              "    box-sizing: border-box;\n",
              "}\n",
              "\n",
              "tfoot input {\n",
              "    width: 100%;\n",
              "    padding: 3px;\n",
              "    box-sizing: border-box;\n",
              "}\n",
              "\n",
              "</style>\n",
              "<link rel=\"stylesheet\" type=\"text/css\" href=\"https://cdn.datatables.net/1.12.1/css/jquery.dataTables.min.css\">\n",
              "<script type=\"module\">\n",
              "    // Import jquery and DataTable\n",
              "    import 'https://code.jquery.com/jquery-3.6.0.min.js';\n",
              "    import dt from 'https://cdn.datatables.net/1.12.1/js/jquery.dataTables.mjs';\n",
              "    dt($);\n",
              "\n",
              "    // Define the table data\n",
              "    const data = [[\"United States\", 118493, 0.377, 0.381], [\"India\", 25367, 0.397, 0.397], [\"Canada\", 20268, 0.377, 0.374], [\"United Kingdom\", 8527, 0.361, 0.362], [\"France\", 5381, 0.416, 0.399], [\"Spain\", 5044, 0.504, 0.502], [\"Germany\", 4866, 0.352, 0.354], [\"China\", 4620, 0.323, 0.315], [\"Taiwan\", 4568, 0.405, 0.397], [\"Italy\", 3750, 0.245, 0.243], [\"Singapore\", 3597, 0.387, 0.384], [\"Japan\", 3547, 0.388, 0.375], [\"South Korea\", 3424, 0.4, 0.402], [\"Netherlands\", 3042, 0.429, 0.434], [\"Turkey\", 2733, 0.397, 0.397], [\"Brazil\", 2696, 0.454, 0.454], [\"Australia\", 2453, 0.388, 0.389], [\"Indonesia\", 2408, 0.41, 0.414], [\"Poland\", 2368, 0.495, 0.496], [\"Mexico\", 2264, 0.355, 0.355], [\"(not set)\", 2168, 0.53, 0.517], [\"Russia\", 1758, 0.422, 0.446], [\"Hong Kong\", 1652, 0.399, 0.403], [\"Ireland\", 1584, 0.331, 0.33], [\"Sweden\", 1490, 0.386, 0.384], [\"Malaysia\", 1430, 0.485, 0.49], [\"Switzerland\", 1428, 0.511, 0.503], [\"Philippines\", 1333, 0.349, 0.338], [\"Colombia\", 1285, 0.608, 0.611], [\"Israel\", 1262, 0.363, 0.365], [\"Pakistan\", 1206, 0.31, 0.312], [\"Peru\", 1195, 0.468, 0.489], [\"Thailand\", 1191, 0.494, 0.494], [\"Portugal\", 1165, 0.536, 0.517], [\"Vietnam\", 1128, 0.46, 0.45], [\"Belgium\", 1116, 0.221, 0.214], [\"Ukraine\", 990, 0.283, 0.254], [\"Greece\", 975, 0.615, 0.628], [\"United Arab Emirates\", 844, 0.452, 0.45], [\"Denmark\", 748, 0.317, 0.324], [\"Romania\", 723, 0.505, 0.468], [\"Argentina\", 710, 0.452, 0.447], [\"Czechia\", 700, 0.438, 0.457], [\"Austria\", 687, 0.561, 0.622], [\"Saudi Arabia\", 575, 0.516, 0.503], [\"Egypt\", 549, 0.474, 0.482], [\"Bangladesh\", 540, 0.452, 0.456]];\n",
              "\n",
              "    // Define the dt_args\n",
              "    let dt_args = {\"order\": [], \"initComplete\": function () {\n",
              "    // Apply the search\n",
              "    this.api()\n",
              "        .columns()\n",
              "        .every(function () {\n",
              "            const that = this;\n",
              "\n",
              "            $('input', this.header()).on('keyup change clear', function () {\n",
              "                if (that.search() !== this.value) {\n",
              "                    that.search(this.value).draw();\n",
              "                }\n",
              "            });\n",
              "        });\n",
              "}\n",
              "};\n",
              "    dt_args[\"data\"] = data;\n",
              "\n",
              "    $(document).ready(function () {\n",
              "        // Setup - add a text input to each header or footer cell\n",
              "$('#b0c9f8bb-1412-485a-b5f1-7893720ee9b4 thead th').each(function () {\n",
              "    let title = $(this).text();\n",
              "    $(this).html('<input type=\"text\" placeholder=\"Search ' +\n",
              "        // We use encodeURI to avoid this LGTM error:\n",
              "        // https://lgtm.com/rules/1511866576920/\n",
              "        encodeURI(title).replaceAll(\"%20\", \" \") +\n",
              "        '\" />');\n",
              "});\n",
              "\n",
              "        $('#b0c9f8bb-1412-485a-b5f1-7893720ee9b4').DataTable(dt_args);\n",
              "    });\n",
              "</script>\n"
            ]
          },
          "metadata": {}
        }
      ],
      "source": [
        "with pd.option_context(\"display.float_format\", \"{:,.3f}\".format):\n",
        "    show(user_purchase_value_correlations_by_country)"
      ]
    },
    {
      "cell_type": "markdown",
      "source": [
        "From sorting the interactive table on the correlation columns in both directions, you can see that the correlations between the user activity metrics and purchase value do differ across countries. Some countries like Greece and Colombia have correlations greater than 0.6, while others like Belgium and Italy have correlations less than 0.25. This says something about how the translation from customer site activity to sales varies in different places around the world - a topic with potential for deeper study and implications for how you might go about modeling purchase behavior."
      ],
      "metadata": {
        "id": "E2UNWftQ0KT1"
      }
    },
    {
      "cell_type": "markdown",
      "metadata": {
        "id": "eiQE3stNYjdk"
      },
      "source": [
        "## Time series analysis of purchases by date and time\n",
        "Another common exploratory data analysis pattern is to look at certain metrics across time. There is an entire field - and a [powerful set of Google Cloud tools](https://cloud.google.com/learn/what-is-time-series) - devoted to time series forecasting, but in this case you'll focus on more fundamental exploration of the sample GA4 data aggregated by date and/or time fields."
      ]
    },
    {
      "cell_type": "markdown",
      "source": [
        "### Create template query to aggregate purchase value across date and time\n",
        "\n",
        "You want to analyze purchase data across time - first, aggregated to the date level, and then also across hours of the day. One way to do this without repeating code is to write a SQL query template like the one below, which aggregates to the date level and provides the option to enter in text corresponding to an hour field (which is also added to the grouping for aggregation). \n",
        "\n",
        "In this example, you want to focus on United States data only to simplify the issues with dates across the world meaning different things based on time zones. To enable this, the code below filters to only US events and moves all events to their date/time in US Pacific Time ([the event_timestamp field in Google Analytics data is in UTC](https://support.google.com/analytics/answer/7029846?hl=en#:~:text=of%20your%20app\\).-,event_timestamp,-INTEGER)) to match what is generally day/night in the country."
      ],
      "metadata": {
        "id": "Zp2Zux376D0B"
      }
    },
    {
      "cell_type": "code",
      "execution_count": 36,
      "metadata": {
        "id": "G_xwqV-SYjdk",
        "colab": {
          "base_uri": "https://localhost:8080/",
          "height": 35
        },
        "outputId": "3ea6a950-f32c-4be0-8e49-3909f968dd42"
      },
      "outputs": [
        {
          "output_type": "execute_result",
          "data": {
            "text/plain": [
              "''"
            ],
            "application/vnd.google.colaboratory.intrinsic+json": {
              "type": "string"
            }
          },
          "metadata": {},
          "execution_count": 36
        }
      ],
      "source": [
        "purchases_by_date_hour_sql_template = '''\n",
        "    WITH\n",
        "    USDateAggregates AS\n",
        "    (\n",
        "      SELECT\n",
        "        /* Use event_timestamp and move things to date in US (Pacific Time) */\n",
        "        EXTRACT(DATE FROM TIMESTAMP_MICROS(event_timestamp) \n",
        "          AT TIME ZONE \"America/Los_Angeles\") AS event_date,\n",
        "\n",
        "        /* Add template field for hour of day, can use to aggregrate or split */\n",
        "        {hour_of_day_sql} AS hour_of_day,        \n",
        "\n",
        "        COUNT(*) AS num_purchases,\n",
        "        SUM(event_value_in_usd) AS total_purchase_value\n",
        "\n",
        "      FROM \n",
        "        `bigquery-public-data.ga4_obfuscated_sample_ecommerce.events_*`\n",
        "\n",
        "      WHERE\n",
        "        /* Filter to US data only */\n",
        "        geo.country = 'United States' AND\n",
        "        /* Look only at purchases with non-NULL values */\n",
        "        event_name = 'purchase' AND\n",
        "        event_value_in_usd IS NOT NULL\n",
        "\n",
        "      GROUP BY\n",
        "        event_date, hour_of_day\n",
        "    )\n",
        "\n",
        "    SELECT\n",
        "      event_date,\n",
        "      hour_of_day,\n",
        "\n",
        "      /* Extract various date-related fields from event date */\n",
        "      EXTRACT(YEAR FROM event_date) AS year,\n",
        "      EXTRACT(MONTH FROM event_date) AS month,\n",
        "      EXTRACT(DAY FROM event_date) AS day,\n",
        "\n",
        "      EXTRACT(WEEK FROM event_date) AS week_of_year_num,\n",
        "      EXTRACT(ISOWEEK FROM event_date) AS iso_week,\n",
        "\n",
        "      EXTRACT(DAYOFWEEK FROM event_date) AS day_of_week_num,\n",
        "      FORMAT_DATE(\"%A\", event_date) AS day_of_week,\n",
        "\n",
        "      EXTRACT(DAYOFYEAR FROM event_date) AS day_of_year,\n",
        "\n",
        "      num_purchases,\n",
        "      total_purchase_value,\n",
        "\n",
        "      SAFE_DIVIDE(\n",
        "        total_purchase_value,\n",
        "        num_purchases\n",
        "        ) AS avg_purchase_value\n",
        "\n",
        "    FROM\n",
        "      USDateAggregates\n",
        "\n",
        "    ORDER BY\n",
        "      event_date, hour_of_day\n",
        "    '''\n",
        ";"
      ]
    },
    {
      "cell_type": "markdown",
      "source": [
        "### Look at total purchase value by date\n",
        "\n",
        "First, you look at purchase aggregates by date across the three months in the Google Analytics data."
      ],
      "metadata": {
        "id": "9dSrU9eK7DsL"
      }
    },
    {
      "cell_type": "code",
      "source": [
        "# Run query with 'ALL' (string) for hour of day to aggregate all hours together\n",
        "purchases_by_date = bq_query(purchases_by_date_hour_sql_template.format(\n",
        "    hour_of_day_sql=\"'ALL'\"))"
      ],
      "metadata": {
        "id": "e2IXKpRx7CqF"
      },
      "execution_count": 37,
      "outputs": []
    },
    {
      "cell_type": "markdown",
      "source": [
        "You can plot the daily purchase sales in an interactive time series plot using [Plotly's line plot functionality](https://plotly.com/python/line-charts/)."
      ],
      "metadata": {
        "id": "n42RgsMS-fIO"
      }
    },
    {
      "cell_type": "code",
      "execution_count": 38,
      "metadata": {
        "colab": {
          "base_uri": "https://localhost:8080/",
          "height": 542
        },
        "id": "CCk67GQxYjdk",
        "outputId": "81bffdef-79d5-4f69-901e-22171de4f668"
      },
      "outputs": [
        {
          "output_type": "display_data",
          "data": {
            "text/html": [
              "<html>\n",
              "<head><meta charset=\"utf-8\" /></head>\n",
              "<body>\n",
              "    <div>            <script src=\"https://cdnjs.cloudflare.com/ajax/libs/mathjax/2.7.5/MathJax.js?config=TeX-AMS-MML_SVG\"></script><script type=\"text/javascript\">if (window.MathJax) {MathJax.Hub.Config({SVG: {font: \"STIX-Web\"}});}</script>                <script type=\"text/javascript\">window.PlotlyConfig = {MathJaxConfig: 'local'};</script>\n",
              "        <script src=\"https://cdn.plot.ly/plotly-2.8.3.min.js\"></script>                <div id=\"4b9e7cc6-371e-47e9-b806-03b893cc9d7a\" class=\"plotly-graph-div\" style=\"height:525px; width:100%;\"></div>            <script type=\"text/javascript\">                                    window.PLOTLYENV=window.PLOTLYENV || {};                                    if (document.getElementById(\"4b9e7cc6-371e-47e9-b806-03b893cc9d7a\")) {                    Plotly.newPlot(                        \"4b9e7cc6-371e-47e9-b806-03b893cc9d7a\",                        [{\"customdata\":[[\"Saturday\"],[\"Sunday\"],[\"Monday\"],[\"Tuesday\"],[\"Wednesday\"],[\"Thursday\"],[\"Friday\"],[\"Saturday\"],[\"Sunday\"],[\"Monday\"],[\"Tuesday\"],[\"Wednesday\"],[\"Thursday\"],[\"Friday\"],[\"Saturday\"],[\"Sunday\"],[\"Monday\"],[\"Tuesday\"],[\"Wednesday\"],[\"Thursday\"],[\"Friday\"],[\"Saturday\"],[\"Sunday\"],[\"Monday\"],[\"Tuesday\"],[\"Wednesday\"],[\"Thursday\"],[\"Friday\"],[\"Saturday\"],[\"Sunday\"],[\"Monday\"],[\"Tuesday\"],[\"Wednesday\"],[\"Thursday\"],[\"Friday\"],[\"Saturday\"],[\"Sunday\"],[\"Monday\"],[\"Tuesday\"],[\"Wednesday\"],[\"Thursday\"],[\"Friday\"],[\"Saturday\"],[\"Sunday\"],[\"Monday\"],[\"Tuesday\"],[\"Wednesday\"],[\"Thursday\"],[\"Friday\"],[\"Saturday\"],[\"Sunday\"],[\"Monday\"],[\"Tuesday\"],[\"Wednesday\"],[\"Thursday\"],[\"Friday\"],[\"Saturday\"],[\"Sunday\"],[\"Monday\"],[\"Tuesday\"],[\"Wednesday\"],[\"Thursday\"],[\"Friday\"],[\"Saturday\"],[\"Sunday\"],[\"Monday\"],[\"Tuesday\"],[\"Wednesday\"],[\"Thursday\"],[\"Friday\"],[\"Saturday\"],[\"Sunday\"],[\"Monday\"],[\"Tuesday\"],[\"Wednesday\"],[\"Thursday\"],[\"Friday\"],[\"Saturday\"],[\"Sunday\"],[\"Monday\"],[\"Tuesday\"],[\"Wednesday\"],[\"Thursday\"],[\"Friday\"],[\"Saturday\"],[\"Sunday\"],[\"Monday\"],[\"Tuesday\"],[\"Wednesday\"],[\"Thursday\"],[\"Friday\"],[\"Saturday\"]],\"hovertemplate\":\"event_date=%{x}<br>total_purchase_value=%{y}<br>day_of_week=%{customdata[0]}<extra></extra>\",\"legendgroup\":\"\",\"line\":{\"color\":\"#636efa\",\"dash\":\"solid\"},\"marker\":{\"symbol\":\"circle\"},\"mode\":\"lines\",\"name\":\"\",\"orientation\":\"v\",\"showlegend\":false,\"x\":[\"2020-10-31\",\"2020-11-01\",\"2020-11-02\",\"2020-11-03\",\"2020-11-04\",\"2020-11-05\",\"2020-11-06\",\"2020-11-07\",\"2020-11-08\",\"2020-11-09\",\"2020-11-10\",\"2020-11-11\",\"2020-11-12\",\"2020-11-13\",\"2020-11-14\",\"2020-11-15\",\"2020-11-16\",\"2020-11-17\",\"2020-11-18\",\"2020-11-19\",\"2020-11-20\",\"2020-11-21\",\"2020-11-22\",\"2020-11-23\",\"2020-11-24\",\"2020-11-25\",\"2020-11-26\",\"2020-11-27\",\"2020-11-28\",\"2020-11-29\",\"2020-11-30\",\"2020-12-01\",\"2020-12-02\",\"2020-12-03\",\"2020-12-04\",\"2020-12-05\",\"2020-12-06\",\"2020-12-07\",\"2020-12-08\",\"2020-12-09\",\"2020-12-10\",\"2020-12-11\",\"2020-12-12\",\"2020-12-13\",\"2020-12-14\",\"2020-12-15\",\"2020-12-16\",\"2020-12-17\",\"2020-12-18\",\"2020-12-19\",\"2020-12-20\",\"2020-12-21\",\"2020-12-22\",\"2020-12-23\",\"2020-12-24\",\"2020-12-25\",\"2020-12-26\",\"2020-12-27\",\"2020-12-28\",\"2020-12-29\",\"2020-12-30\",\"2020-12-31\",\"2021-01-01\",\"2021-01-02\",\"2021-01-03\",\"2021-01-04\",\"2021-01-05\",\"2021-01-06\",\"2021-01-07\",\"2021-01-08\",\"2021-01-09\",\"2021-01-10\",\"2021-01-11\",\"2021-01-12\",\"2021-01-13\",\"2021-01-14\",\"2021-01-15\",\"2021-01-16\",\"2021-01-17\",\"2021-01-18\",\"2021-01-19\",\"2021-01-20\",\"2021-01-21\",\"2021-01-22\",\"2021-01-23\",\"2021-01-24\",\"2021-01-25\",\"2021-01-26\",\"2021-01-27\",\"2021-01-28\",\"2021-01-29\",\"2021-01-30\"],\"xaxis\":\"x\",\"y\":[121.0,432.0,2670.0,1415.0,861.0,1311.0,1716.0,730.0,1654.0,979.0,1724.0,2184.0,1680.0,1672.0,411.0,939.0,2998.0,2192.0,2369.0,3458.0,3842.0,1260.0,2246.0,4436.0,4445.0,2526.0,2434.0,3923.0,2096.0,1979.0,6575.0,1673.0,2787.0,1977.0,3014.0,1767.0,3547.0,2675.0,5549.0,3823.0,4807.0,3907.0,1773.0,3540.0,3204.0,5434.0,4392.0,3734.0,2105.0,687.0,994.0,1323.0,950.0,1275.0,713.0,105.0,265.0,504.0,1314.0,494.0,1861.0,356.0,322.0,780.0,143.0,507.0,341.0,333.0,761.0,703.0,848.0,475.0,976.0,1226.0,999.0,1247.0,906.0,320.0,332.0,741.0,2048.0,1981.0,1860.0,1403.0,650.0,968.0,1598.0,101.0,62.0,23.0,48.0,44.0],\"yaxis\":\"y\",\"type\":\"scatter\"}],                        {\"template\":{\"data\":{\"bar\":[{\"error_x\":{\"color\":\"#2a3f5f\"},\"error_y\":{\"color\":\"#2a3f5f\"},\"marker\":{\"line\":{\"color\":\"#E5ECF6\",\"width\":0.5},\"pattern\":{\"fillmode\":\"overlay\",\"size\":10,\"solidity\":0.2}},\"type\":\"bar\"}],\"barpolar\":[{\"marker\":{\"line\":{\"color\":\"#E5ECF6\",\"width\":0.5},\"pattern\":{\"fillmode\":\"overlay\",\"size\":10,\"solidity\":0.2}},\"type\":\"barpolar\"}],\"carpet\":[{\"aaxis\":{\"endlinecolor\":\"#2a3f5f\",\"gridcolor\":\"white\",\"linecolor\":\"white\",\"minorgridcolor\":\"white\",\"startlinecolor\":\"#2a3f5f\"},\"baxis\":{\"endlinecolor\":\"#2a3f5f\",\"gridcolor\":\"white\",\"linecolor\":\"white\",\"minorgridcolor\":\"white\",\"startlinecolor\":\"#2a3f5f\"},\"type\":\"carpet\"}],\"choropleth\":[{\"colorbar\":{\"outlinewidth\":0,\"ticks\":\"\"},\"type\":\"choropleth\"}],\"contour\":[{\"colorbar\":{\"outlinewidth\":0,\"ticks\":\"\"},\"colorscale\":[[0.0,\"#0d0887\"],[0.1111111111111111,\"#46039f\"],[0.2222222222222222,\"#7201a8\"],[0.3333333333333333,\"#9c179e\"],[0.4444444444444444,\"#bd3786\"],[0.5555555555555556,\"#d8576b\"],[0.6666666666666666,\"#ed7953\"],[0.7777777777777778,\"#fb9f3a\"],[0.8888888888888888,\"#fdca26\"],[1.0,\"#f0f921\"]],\"type\":\"contour\"}],\"contourcarpet\":[{\"colorbar\":{\"outlinewidth\":0,\"ticks\":\"\"},\"type\":\"contourcarpet\"}],\"heatmap\":[{\"colorbar\":{\"outlinewidth\":0,\"ticks\":\"\"},\"colorscale\":[[0.0,\"#0d0887\"],[0.1111111111111111,\"#46039f\"],[0.2222222222222222,\"#7201a8\"],[0.3333333333333333,\"#9c179e\"],[0.4444444444444444,\"#bd3786\"],[0.5555555555555556,\"#d8576b\"],[0.6666666666666666,\"#ed7953\"],[0.7777777777777778,\"#fb9f3a\"],[0.8888888888888888,\"#fdca26\"],[1.0,\"#f0f921\"]],\"type\":\"heatmap\"}],\"heatmapgl\":[{\"colorbar\":{\"outlinewidth\":0,\"ticks\":\"\"},\"colorscale\":[[0.0,\"#0d0887\"],[0.1111111111111111,\"#46039f\"],[0.2222222222222222,\"#7201a8\"],[0.3333333333333333,\"#9c179e\"],[0.4444444444444444,\"#bd3786\"],[0.5555555555555556,\"#d8576b\"],[0.6666666666666666,\"#ed7953\"],[0.7777777777777778,\"#fb9f3a\"],[0.8888888888888888,\"#fdca26\"],[1.0,\"#f0f921\"]],\"type\":\"heatmapgl\"}],\"histogram\":[{\"marker\":{\"pattern\":{\"fillmode\":\"overlay\",\"size\":10,\"solidity\":0.2}},\"type\":\"histogram\"}],\"histogram2d\":[{\"colorbar\":{\"outlinewidth\":0,\"ticks\":\"\"},\"colorscale\":[[0.0,\"#0d0887\"],[0.1111111111111111,\"#46039f\"],[0.2222222222222222,\"#7201a8\"],[0.3333333333333333,\"#9c179e\"],[0.4444444444444444,\"#bd3786\"],[0.5555555555555556,\"#d8576b\"],[0.6666666666666666,\"#ed7953\"],[0.7777777777777778,\"#fb9f3a\"],[0.8888888888888888,\"#fdca26\"],[1.0,\"#f0f921\"]],\"type\":\"histogram2d\"}],\"histogram2dcontour\":[{\"colorbar\":{\"outlinewidth\":0,\"ticks\":\"\"},\"colorscale\":[[0.0,\"#0d0887\"],[0.1111111111111111,\"#46039f\"],[0.2222222222222222,\"#7201a8\"],[0.3333333333333333,\"#9c179e\"],[0.4444444444444444,\"#bd3786\"],[0.5555555555555556,\"#d8576b\"],[0.6666666666666666,\"#ed7953\"],[0.7777777777777778,\"#fb9f3a\"],[0.8888888888888888,\"#fdca26\"],[1.0,\"#f0f921\"]],\"type\":\"histogram2dcontour\"}],\"mesh3d\":[{\"colorbar\":{\"outlinewidth\":0,\"ticks\":\"\"},\"type\":\"mesh3d\"}],\"parcoords\":[{\"line\":{\"colorbar\":{\"outlinewidth\":0,\"ticks\":\"\"}},\"type\":\"parcoords\"}],\"pie\":[{\"automargin\":true,\"type\":\"pie\"}],\"scatter\":[{\"marker\":{\"colorbar\":{\"outlinewidth\":0,\"ticks\":\"\"}},\"type\":\"scatter\"}],\"scatter3d\":[{\"line\":{\"colorbar\":{\"outlinewidth\":0,\"ticks\":\"\"}},\"marker\":{\"colorbar\":{\"outlinewidth\":0,\"ticks\":\"\"}},\"type\":\"scatter3d\"}],\"scattercarpet\":[{\"marker\":{\"colorbar\":{\"outlinewidth\":0,\"ticks\":\"\"}},\"type\":\"scattercarpet\"}],\"scattergeo\":[{\"marker\":{\"colorbar\":{\"outlinewidth\":0,\"ticks\":\"\"}},\"type\":\"scattergeo\"}],\"scattergl\":[{\"marker\":{\"colorbar\":{\"outlinewidth\":0,\"ticks\":\"\"}},\"type\":\"scattergl\"}],\"scattermapbox\":[{\"marker\":{\"colorbar\":{\"outlinewidth\":0,\"ticks\":\"\"}},\"type\":\"scattermapbox\"}],\"scatterpolar\":[{\"marker\":{\"colorbar\":{\"outlinewidth\":0,\"ticks\":\"\"}},\"type\":\"scatterpolar\"}],\"scatterpolargl\":[{\"marker\":{\"colorbar\":{\"outlinewidth\":0,\"ticks\":\"\"}},\"type\":\"scatterpolargl\"}],\"scatterternary\":[{\"marker\":{\"colorbar\":{\"outlinewidth\":0,\"ticks\":\"\"}},\"type\":\"scatterternary\"}],\"surface\":[{\"colorbar\":{\"outlinewidth\":0,\"ticks\":\"\"},\"colorscale\":[[0.0,\"#0d0887\"],[0.1111111111111111,\"#46039f\"],[0.2222222222222222,\"#7201a8\"],[0.3333333333333333,\"#9c179e\"],[0.4444444444444444,\"#bd3786\"],[0.5555555555555556,\"#d8576b\"],[0.6666666666666666,\"#ed7953\"],[0.7777777777777778,\"#fb9f3a\"],[0.8888888888888888,\"#fdca26\"],[1.0,\"#f0f921\"]],\"type\":\"surface\"}],\"table\":[{\"cells\":{\"fill\":{\"color\":\"#EBF0F8\"},\"line\":{\"color\":\"white\"}},\"header\":{\"fill\":{\"color\":\"#C8D4E3\"},\"line\":{\"color\":\"white\"}},\"type\":\"table\"}]},\"layout\":{\"annotationdefaults\":{\"arrowcolor\":\"#2a3f5f\",\"arrowhead\":0,\"arrowwidth\":1},\"autotypenumbers\":\"strict\",\"coloraxis\":{\"colorbar\":{\"outlinewidth\":0,\"ticks\":\"\"}},\"colorscale\":{\"diverging\":[[0,\"#8e0152\"],[0.1,\"#c51b7d\"],[0.2,\"#de77ae\"],[0.3,\"#f1b6da\"],[0.4,\"#fde0ef\"],[0.5,\"#f7f7f7\"],[0.6,\"#e6f5d0\"],[0.7,\"#b8e186\"],[0.8,\"#7fbc41\"],[0.9,\"#4d9221\"],[1,\"#276419\"]],\"sequential\":[[0.0,\"#0d0887\"],[0.1111111111111111,\"#46039f\"],[0.2222222222222222,\"#7201a8\"],[0.3333333333333333,\"#9c179e\"],[0.4444444444444444,\"#bd3786\"],[0.5555555555555556,\"#d8576b\"],[0.6666666666666666,\"#ed7953\"],[0.7777777777777778,\"#fb9f3a\"],[0.8888888888888888,\"#fdca26\"],[1.0,\"#f0f921\"]],\"sequentialminus\":[[0.0,\"#0d0887\"],[0.1111111111111111,\"#46039f\"],[0.2222222222222222,\"#7201a8\"],[0.3333333333333333,\"#9c179e\"],[0.4444444444444444,\"#bd3786\"],[0.5555555555555556,\"#d8576b\"],[0.6666666666666666,\"#ed7953\"],[0.7777777777777778,\"#fb9f3a\"],[0.8888888888888888,\"#fdca26\"],[1.0,\"#f0f921\"]]},\"colorway\":[\"#636efa\",\"#EF553B\",\"#00cc96\",\"#ab63fa\",\"#FFA15A\",\"#19d3f3\",\"#FF6692\",\"#B6E880\",\"#FF97FF\",\"#FECB52\"],\"font\":{\"color\":\"#2a3f5f\"},\"geo\":{\"bgcolor\":\"white\",\"lakecolor\":\"white\",\"landcolor\":\"#E5ECF6\",\"showlakes\":true,\"showland\":true,\"subunitcolor\":\"white\"},\"hoverlabel\":{\"align\":\"left\"},\"hovermode\":\"closest\",\"mapbox\":{\"style\":\"light\"},\"paper_bgcolor\":\"white\",\"plot_bgcolor\":\"#E5ECF6\",\"polar\":{\"angularaxis\":{\"gridcolor\":\"white\",\"linecolor\":\"white\",\"ticks\":\"\"},\"bgcolor\":\"#E5ECF6\",\"radialaxis\":{\"gridcolor\":\"white\",\"linecolor\":\"white\",\"ticks\":\"\"}},\"scene\":{\"xaxis\":{\"backgroundcolor\":\"#E5ECF6\",\"gridcolor\":\"white\",\"gridwidth\":2,\"linecolor\":\"white\",\"showbackground\":true,\"ticks\":\"\",\"zerolinecolor\":\"white\"},\"yaxis\":{\"backgroundcolor\":\"#E5ECF6\",\"gridcolor\":\"white\",\"gridwidth\":2,\"linecolor\":\"white\",\"showbackground\":true,\"ticks\":\"\",\"zerolinecolor\":\"white\"},\"zaxis\":{\"backgroundcolor\":\"#E5ECF6\",\"gridcolor\":\"white\",\"gridwidth\":2,\"linecolor\":\"white\",\"showbackground\":true,\"ticks\":\"\",\"zerolinecolor\":\"white\"}},\"shapedefaults\":{\"line\":{\"color\":\"#2a3f5f\"}},\"ternary\":{\"aaxis\":{\"gridcolor\":\"white\",\"linecolor\":\"white\",\"ticks\":\"\"},\"baxis\":{\"gridcolor\":\"white\",\"linecolor\":\"white\",\"ticks\":\"\"},\"bgcolor\":\"#E5ECF6\",\"caxis\":{\"gridcolor\":\"white\",\"linecolor\":\"white\",\"ticks\":\"\"}},\"title\":{\"x\":0.05},\"xaxis\":{\"automargin\":true,\"gridcolor\":\"white\",\"linecolor\":\"white\",\"ticks\":\"\",\"title\":{\"standoff\":15},\"zerolinecolor\":\"white\",\"zerolinewidth\":2},\"yaxis\":{\"automargin\":true,\"gridcolor\":\"white\",\"linecolor\":\"white\",\"ticks\":\"\",\"title\":{\"standoff\":15},\"zerolinecolor\":\"white\",\"zerolinewidth\":2}}},\"xaxis\":{\"anchor\":\"y\",\"domain\":[0.0,1.0],\"title\":{\"text\":\"event_date\"}},\"yaxis\":{\"anchor\":\"x\",\"domain\":[0.0,1.0],\"title\":{\"text\":\"total_purchase_value\"}},\"legend\":{\"tracegroupgap\":0},\"title\":{\"text\":\"<b>United States Total Purchase Value (USD) by Date<b>\"}},                        {\"responsive\": true}                    ).then(function(){\n",
              "                            \n",
              "var gd = document.getElementById('4b9e7cc6-371e-47e9-b806-03b893cc9d7a');\n",
              "var x = new MutationObserver(function (mutations, observer) {{\n",
              "        var display = window.getComputedStyle(gd).display;\n",
              "        if (!display || display === 'none') {{\n",
              "            console.log([gd, 'removed!']);\n",
              "            Plotly.purge(gd);\n",
              "            observer.disconnect();\n",
              "        }}\n",
              "}});\n",
              "\n",
              "// Listen for the removal of the full notebook cells\n",
              "var notebookContainer = gd.closest('#notebook-container');\n",
              "if (notebookContainer) {{\n",
              "    x.observe(notebookContainer, {childList: true});\n",
              "}}\n",
              "\n",
              "// Listen for the clearing of the current output cell\n",
              "var outputEl = gd.closest('.output');\n",
              "if (outputEl) {{\n",
              "    x.observe(outputEl, {childList: true});\n",
              "}}\n",
              "\n",
              "                        })                };                            </script>        </div>\n",
              "</body>\n",
              "</html>"
            ]
          },
          "metadata": {}
        }
      ],
      "source": [
        "total_purchase_value_by_date_plot = px.line(\n",
        "    purchases_by_date,\n",
        "    x='event_date', \n",
        "    y='total_purchase_value',\n",
        "    # Add day of week to hover data to help read off interactive plot\n",
        "    hover_data=['event_date', 'day_of_week', 'total_purchase_value'],\n",
        "    title='<b>United States Total Purchase Value (USD) by Date<b>'\n",
        "    )\n",
        "\n",
        "total_purchase_value_by_date_plot.show()"
      ]
    },
    {
      "cell_type": "markdown",
      "source": [
        "A few things you can see from this plot:\n",
        "\n",
        "*   There's the expected US retail industry pattern of a positive trend in sales throughout November, a relatively high level of sales during the pre-Christmas shopping season (through mid-December), and then a dramatic drop off leading into the end-of-year holidays that mostly persists through January.\n",
        "*   There is substantial variance in total sales from day to day. At the extremes, the day with the highest sales in the period is [\"Cyber Monday\"](https://en.wikipedia.org/wiki/Cyber_Monday) and the day with the lowest sales (among days for which there is full data) is Christmas - both of which are relatively unsurprising. \n",
        "*   There appear to be some day-of-week effects like Mondays being relatively high in sales and weekends being relatively low."
      ],
      "metadata": {
        "id": "lwCMjAfx_KrW"
      }
    },
    {
      "cell_type": "markdown",
      "source": [
        "### Look at total purchase value by day of week and time of day\n",
        "Next, you go further by gathering total purchase data on both the date and hour of day level - a finer level of aggregation than above - and using a heatmap to study common purchase patterns."
      ],
      "metadata": {
        "id": "6WDuc_kn7J-t"
      }
    },
    {
      "cell_type": "code",
      "execution_count": 39,
      "metadata": {
        "id": "_IvA-mKKYjdk"
      },
      "outputs": [],
      "source": [
        "# Run query with string corresponding to hour of day (in US Pacific Time)\n",
        "purchases_by_date_hour = bq_query(purchases_by_date_hour_sql_template.format(\n",
        "    hour_of_day_sql=(\"EXTRACT(HOUR FROM TIMESTAMP_MICROS(event_timestamp)\" +\n",
        "                     \"AT TIME ZONE 'America/Los_Angeles')\")\n",
        "    )\n",
        ")"
      ]
    },
    {
      "cell_type": "markdown",
      "source": [
        "To get a heatmap in the desired \"week timeline\" form, you further aggregate to the day-of-week and hour-of-day level while pivoting to the right format. Each cell in the heatmap represents the total US sales for a given hour on the given day of the week across all dates in the three months of data (e.g. the top left represents sales across all Sundays from 12-1am Pacific Time)."
      ],
      "metadata": {
        "id": "wQpb6F8rCDet"
      }
    },
    {
      "cell_type": "code",
      "source": [
        "# Add day of week field combining number and name, to help with sorting on plot\n",
        "purchases_by_date_hour['day_of_week_combo'] = (\n",
        "    purchases_by_date_hour['day_of_week_num'].astype('str') + ' - ' + \n",
        "    purchases_by_date_hour['day_of_week']\n",
        "    )\n",
        "\n",
        "# Pivot to day-of-week/hour-of-day grid, summing purchase value while doing so\n",
        "purchases_by_dayofweek_hourofday_matrix = pd.pivot_table(\n",
        "    purchases_by_date_hour, \n",
        "    values='total_purchase_value', \n",
        "    index=['day_of_week_combo'],\n",
        "    columns=['hour_of_day'], \n",
        "    aggfunc=np.sum\n",
        "    )\n",
        "\n",
        "purchases_by_dayofweek_hourofday_heatmap = px.imshow(\n",
        "    purchases_by_dayofweek_hourofday_matrix,\n",
        "    labels=dict(x=\"Hour of Day\", y=\"Day of Week\", color=\"Total Purchase Value\"),\n",
        "    title=(\"<b>United States Total Purchase Value (USD) by Day & Hour (PDT)<b>\")\n",
        "    )\n",
        "\n",
        "purchases_by_dayofweek_hourofday_heatmap.show()"
      ],
      "metadata": {
        "id": "1d_kpq10su8d",
        "colab": {
          "base_uri": "https://localhost:8080/",
          "height": 542
        },
        "outputId": "3504ea8e-5939-4b0c-e0b2-d08dc2f0d1df"
      },
      "execution_count": 40,
      "outputs": [
        {
          "output_type": "display_data",
          "data": {
            "text/html": [
              "<html>\n",
              "<head><meta charset=\"utf-8\" /></head>\n",
              "<body>\n",
              "    <div>            <script src=\"https://cdnjs.cloudflare.com/ajax/libs/mathjax/2.7.5/MathJax.js?config=TeX-AMS-MML_SVG\"></script><script type=\"text/javascript\">if (window.MathJax) {MathJax.Hub.Config({SVG: {font: \"STIX-Web\"}});}</script>                <script type=\"text/javascript\">window.PlotlyConfig = {MathJaxConfig: 'local'};</script>\n",
              "        <script src=\"https://cdn.plot.ly/plotly-2.8.3.min.js\"></script>                <div id=\"75256618-deb9-4de0-84ae-d430f1e1dad9\" class=\"plotly-graph-div\" style=\"height:525px; width:100%;\"></div>            <script type=\"text/javascript\">                                    window.PLOTLYENV=window.PLOTLYENV || {};                                    if (document.getElementById(\"75256618-deb9-4de0-84ae-d430f1e1dad9\")) {                    Plotly.newPlot(                        \"75256618-deb9-4de0-84ae-d430f1e1dad9\",                        [{\"coloraxis\":\"coloraxis\",\"name\":\"0\",\"x\":[0,1,2,3,4,5,6,7,8,9,10,11,12,13,14,15,16,17,18,19,20,21,22,23],\"y\":[\"1 - Sunday\",\"2 - Monday\",\"3 - Tuesday\",\"4 - Wednesday\",\"5 - Thursday\",\"6 - Friday\",\"7 - Saturday\"],\"z\":[[666.0,351.0,506.0,380.0,294.0,438.0,1233.0,964.0,552.0,902.0,423.0,347.0,572.0,360.0,760.0,280.0,881.0,786.0,1358.0,1124.0,1376.0,1253.0,403.0,1544.0],[818.0,1739.0,1921.0,983.0,987.0,1162.0,1338.0,1286.0,1537.0,712.0,936.0,677.0,1766.0,1731.0,1308.0,1249.0,1500.0,599.0,981.0,999.0,1150.0,1616.0,1211.0,1790.0],[791.0,1738.0,856.0,1324.0,720.0,1507.0,1299.0,827.0,1404.0,735.0,1110.0,1665.0,767.0,902.0,708.0,1035.0,1181.0,729.0,1202.0,1577.0,1386.0,1056.0,2437.0,636.0],[1846.0,1370.0,960.0,1133.0,787.0,820.0,1678.0,557.0,628.0,936.0,1012.0,1545.0,1120.0,1226.0,1111.0,474.0,2199.0,1720.0,540.0,671.0,279.0,828.0,932.0,1081.0],[648.0,377.0,1063.0,1772.0,421.0,737.0,879.0,1219.0,561.0,1493.0,668.0,584.0,1020.0,745.0,470.0,839.0,1935.0,1853.0,1483.0,1142.0,1265.0,1299.0,766.0,1122.0],[1225.0,909.0,963.0,1095.0,644.0,820.0,1389.0,1233.0,1024.0,246.0,430.0,466.0,658.0,1753.0,628.0,1546.0,1575.0,640.0,579.0,2399.0,806.0,1205.0,1040.0,393.0],[412.0,773.0,994.0,603.0,54.0,609.0,548.0,293.0,433.0,835.0,137.0,824.0,1102.0,512.0,809.0,321.0,81.0,152.0,95.0,533.0,441.0,222.0,726.0,243.0]],\"type\":\"heatmap\",\"xaxis\":\"x\",\"yaxis\":\"y\",\"hovertemplate\":\"Hour of Day: %{x}<br>Day of Week: %{y}<br>Total Purchase Value: %{z}<extra></extra>\"}],                        {\"template\":{\"data\":{\"bar\":[{\"error_x\":{\"color\":\"#2a3f5f\"},\"error_y\":{\"color\":\"#2a3f5f\"},\"marker\":{\"line\":{\"color\":\"#E5ECF6\",\"width\":0.5},\"pattern\":{\"fillmode\":\"overlay\",\"size\":10,\"solidity\":0.2}},\"type\":\"bar\"}],\"barpolar\":[{\"marker\":{\"line\":{\"color\":\"#E5ECF6\",\"width\":0.5},\"pattern\":{\"fillmode\":\"overlay\",\"size\":10,\"solidity\":0.2}},\"type\":\"barpolar\"}],\"carpet\":[{\"aaxis\":{\"endlinecolor\":\"#2a3f5f\",\"gridcolor\":\"white\",\"linecolor\":\"white\",\"minorgridcolor\":\"white\",\"startlinecolor\":\"#2a3f5f\"},\"baxis\":{\"endlinecolor\":\"#2a3f5f\",\"gridcolor\":\"white\",\"linecolor\":\"white\",\"minorgridcolor\":\"white\",\"startlinecolor\":\"#2a3f5f\"},\"type\":\"carpet\"}],\"choropleth\":[{\"colorbar\":{\"outlinewidth\":0,\"ticks\":\"\"},\"type\":\"choropleth\"}],\"contour\":[{\"colorbar\":{\"outlinewidth\":0,\"ticks\":\"\"},\"colorscale\":[[0.0,\"#0d0887\"],[0.1111111111111111,\"#46039f\"],[0.2222222222222222,\"#7201a8\"],[0.3333333333333333,\"#9c179e\"],[0.4444444444444444,\"#bd3786\"],[0.5555555555555556,\"#d8576b\"],[0.6666666666666666,\"#ed7953\"],[0.7777777777777778,\"#fb9f3a\"],[0.8888888888888888,\"#fdca26\"],[1.0,\"#f0f921\"]],\"type\":\"contour\"}],\"contourcarpet\":[{\"colorbar\":{\"outlinewidth\":0,\"ticks\":\"\"},\"type\":\"contourcarpet\"}],\"heatmap\":[{\"colorbar\":{\"outlinewidth\":0,\"ticks\":\"\"},\"colorscale\":[[0.0,\"#0d0887\"],[0.1111111111111111,\"#46039f\"],[0.2222222222222222,\"#7201a8\"],[0.3333333333333333,\"#9c179e\"],[0.4444444444444444,\"#bd3786\"],[0.5555555555555556,\"#d8576b\"],[0.6666666666666666,\"#ed7953\"],[0.7777777777777778,\"#fb9f3a\"],[0.8888888888888888,\"#fdca26\"],[1.0,\"#f0f921\"]],\"type\":\"heatmap\"}],\"heatmapgl\":[{\"colorbar\":{\"outlinewidth\":0,\"ticks\":\"\"},\"colorscale\":[[0.0,\"#0d0887\"],[0.1111111111111111,\"#46039f\"],[0.2222222222222222,\"#7201a8\"],[0.3333333333333333,\"#9c179e\"],[0.4444444444444444,\"#bd3786\"],[0.5555555555555556,\"#d8576b\"],[0.6666666666666666,\"#ed7953\"],[0.7777777777777778,\"#fb9f3a\"],[0.8888888888888888,\"#fdca26\"],[1.0,\"#f0f921\"]],\"type\":\"heatmapgl\"}],\"histogram\":[{\"marker\":{\"pattern\":{\"fillmode\":\"overlay\",\"size\":10,\"solidity\":0.2}},\"type\":\"histogram\"}],\"histogram2d\":[{\"colorbar\":{\"outlinewidth\":0,\"ticks\":\"\"},\"colorscale\":[[0.0,\"#0d0887\"],[0.1111111111111111,\"#46039f\"],[0.2222222222222222,\"#7201a8\"],[0.3333333333333333,\"#9c179e\"],[0.4444444444444444,\"#bd3786\"],[0.5555555555555556,\"#d8576b\"],[0.6666666666666666,\"#ed7953\"],[0.7777777777777778,\"#fb9f3a\"],[0.8888888888888888,\"#fdca26\"],[1.0,\"#f0f921\"]],\"type\":\"histogram2d\"}],\"histogram2dcontour\":[{\"colorbar\":{\"outlinewidth\":0,\"ticks\":\"\"},\"colorscale\":[[0.0,\"#0d0887\"],[0.1111111111111111,\"#46039f\"],[0.2222222222222222,\"#7201a8\"],[0.3333333333333333,\"#9c179e\"],[0.4444444444444444,\"#bd3786\"],[0.5555555555555556,\"#d8576b\"],[0.6666666666666666,\"#ed7953\"],[0.7777777777777778,\"#fb9f3a\"],[0.8888888888888888,\"#fdca26\"],[1.0,\"#f0f921\"]],\"type\":\"histogram2dcontour\"}],\"mesh3d\":[{\"colorbar\":{\"outlinewidth\":0,\"ticks\":\"\"},\"type\":\"mesh3d\"}],\"parcoords\":[{\"line\":{\"colorbar\":{\"outlinewidth\":0,\"ticks\":\"\"}},\"type\":\"parcoords\"}],\"pie\":[{\"automargin\":true,\"type\":\"pie\"}],\"scatter\":[{\"marker\":{\"colorbar\":{\"outlinewidth\":0,\"ticks\":\"\"}},\"type\":\"scatter\"}],\"scatter3d\":[{\"line\":{\"colorbar\":{\"outlinewidth\":0,\"ticks\":\"\"}},\"marker\":{\"colorbar\":{\"outlinewidth\":0,\"ticks\":\"\"}},\"type\":\"scatter3d\"}],\"scattercarpet\":[{\"marker\":{\"colorbar\":{\"outlinewidth\":0,\"ticks\":\"\"}},\"type\":\"scattercarpet\"}],\"scattergeo\":[{\"marker\":{\"colorbar\":{\"outlinewidth\":0,\"ticks\":\"\"}},\"type\":\"scattergeo\"}],\"scattergl\":[{\"marker\":{\"colorbar\":{\"outlinewidth\":0,\"ticks\":\"\"}},\"type\":\"scattergl\"}],\"scattermapbox\":[{\"marker\":{\"colorbar\":{\"outlinewidth\":0,\"ticks\":\"\"}},\"type\":\"scattermapbox\"}],\"scatterpolar\":[{\"marker\":{\"colorbar\":{\"outlinewidth\":0,\"ticks\":\"\"}},\"type\":\"scatterpolar\"}],\"scatterpolargl\":[{\"marker\":{\"colorbar\":{\"outlinewidth\":0,\"ticks\":\"\"}},\"type\":\"scatterpolargl\"}],\"scatterternary\":[{\"marker\":{\"colorbar\":{\"outlinewidth\":0,\"ticks\":\"\"}},\"type\":\"scatterternary\"}],\"surface\":[{\"colorbar\":{\"outlinewidth\":0,\"ticks\":\"\"},\"colorscale\":[[0.0,\"#0d0887\"],[0.1111111111111111,\"#46039f\"],[0.2222222222222222,\"#7201a8\"],[0.3333333333333333,\"#9c179e\"],[0.4444444444444444,\"#bd3786\"],[0.5555555555555556,\"#d8576b\"],[0.6666666666666666,\"#ed7953\"],[0.7777777777777778,\"#fb9f3a\"],[0.8888888888888888,\"#fdca26\"],[1.0,\"#f0f921\"]],\"type\":\"surface\"}],\"table\":[{\"cells\":{\"fill\":{\"color\":\"#EBF0F8\"},\"line\":{\"color\":\"white\"}},\"header\":{\"fill\":{\"color\":\"#C8D4E3\"},\"line\":{\"color\":\"white\"}},\"type\":\"table\"}]},\"layout\":{\"annotationdefaults\":{\"arrowcolor\":\"#2a3f5f\",\"arrowhead\":0,\"arrowwidth\":1},\"autotypenumbers\":\"strict\",\"coloraxis\":{\"colorbar\":{\"outlinewidth\":0,\"ticks\":\"\"}},\"colorscale\":{\"diverging\":[[0,\"#8e0152\"],[0.1,\"#c51b7d\"],[0.2,\"#de77ae\"],[0.3,\"#f1b6da\"],[0.4,\"#fde0ef\"],[0.5,\"#f7f7f7\"],[0.6,\"#e6f5d0\"],[0.7,\"#b8e186\"],[0.8,\"#7fbc41\"],[0.9,\"#4d9221\"],[1,\"#276419\"]],\"sequential\":[[0.0,\"#0d0887\"],[0.1111111111111111,\"#46039f\"],[0.2222222222222222,\"#7201a8\"],[0.3333333333333333,\"#9c179e\"],[0.4444444444444444,\"#bd3786\"],[0.5555555555555556,\"#d8576b\"],[0.6666666666666666,\"#ed7953\"],[0.7777777777777778,\"#fb9f3a\"],[0.8888888888888888,\"#fdca26\"],[1.0,\"#f0f921\"]],\"sequentialminus\":[[0.0,\"#0d0887\"],[0.1111111111111111,\"#46039f\"],[0.2222222222222222,\"#7201a8\"],[0.3333333333333333,\"#9c179e\"],[0.4444444444444444,\"#bd3786\"],[0.5555555555555556,\"#d8576b\"],[0.6666666666666666,\"#ed7953\"],[0.7777777777777778,\"#fb9f3a\"],[0.8888888888888888,\"#fdca26\"],[1.0,\"#f0f921\"]]},\"colorway\":[\"#636efa\",\"#EF553B\",\"#00cc96\",\"#ab63fa\",\"#FFA15A\",\"#19d3f3\",\"#FF6692\",\"#B6E880\",\"#FF97FF\",\"#FECB52\"],\"font\":{\"color\":\"#2a3f5f\"},\"geo\":{\"bgcolor\":\"white\",\"lakecolor\":\"white\",\"landcolor\":\"#E5ECF6\",\"showlakes\":true,\"showland\":true,\"subunitcolor\":\"white\"},\"hoverlabel\":{\"align\":\"left\"},\"hovermode\":\"closest\",\"mapbox\":{\"style\":\"light\"},\"paper_bgcolor\":\"white\",\"plot_bgcolor\":\"#E5ECF6\",\"polar\":{\"angularaxis\":{\"gridcolor\":\"white\",\"linecolor\":\"white\",\"ticks\":\"\"},\"bgcolor\":\"#E5ECF6\",\"radialaxis\":{\"gridcolor\":\"white\",\"linecolor\":\"white\",\"ticks\":\"\"}},\"scene\":{\"xaxis\":{\"backgroundcolor\":\"#E5ECF6\",\"gridcolor\":\"white\",\"gridwidth\":2,\"linecolor\":\"white\",\"showbackground\":true,\"ticks\":\"\",\"zerolinecolor\":\"white\"},\"yaxis\":{\"backgroundcolor\":\"#E5ECF6\",\"gridcolor\":\"white\",\"gridwidth\":2,\"linecolor\":\"white\",\"showbackground\":true,\"ticks\":\"\",\"zerolinecolor\":\"white\"},\"zaxis\":{\"backgroundcolor\":\"#E5ECF6\",\"gridcolor\":\"white\",\"gridwidth\":2,\"linecolor\":\"white\",\"showbackground\":true,\"ticks\":\"\",\"zerolinecolor\":\"white\"}},\"shapedefaults\":{\"line\":{\"color\":\"#2a3f5f\"}},\"ternary\":{\"aaxis\":{\"gridcolor\":\"white\",\"linecolor\":\"white\",\"ticks\":\"\"},\"baxis\":{\"gridcolor\":\"white\",\"linecolor\":\"white\",\"ticks\":\"\"},\"bgcolor\":\"#E5ECF6\",\"caxis\":{\"gridcolor\":\"white\",\"linecolor\":\"white\",\"ticks\":\"\"}},\"title\":{\"x\":0.05},\"xaxis\":{\"automargin\":true,\"gridcolor\":\"white\",\"linecolor\":\"white\",\"ticks\":\"\",\"title\":{\"standoff\":15},\"zerolinecolor\":\"white\",\"zerolinewidth\":2},\"yaxis\":{\"automargin\":true,\"gridcolor\":\"white\",\"linecolor\":\"white\",\"ticks\":\"\",\"title\":{\"standoff\":15},\"zerolinecolor\":\"white\",\"zerolinewidth\":2}}},\"xaxis\":{\"anchor\":\"y\",\"domain\":[0.0,1.0],\"scaleanchor\":\"y\",\"constrain\":\"domain\",\"title\":{\"text\":\"Hour of Day\"}},\"yaxis\":{\"anchor\":\"x\",\"domain\":[0.0,1.0],\"autorange\":\"reversed\",\"constrain\":\"domain\",\"title\":{\"text\":\"Day of Week\"}},\"coloraxis\":{\"colorbar\":{\"title\":{\"text\":\"Total Purchase Value\"}},\"colorscale\":[[0.0,\"#0d0887\"],[0.1111111111111111,\"#46039f\"],[0.2222222222222222,\"#7201a8\"],[0.3333333333333333,\"#9c179e\"],[0.4444444444444444,\"#bd3786\"],[0.5555555555555556,\"#d8576b\"],[0.6666666666666666,\"#ed7953\"],[0.7777777777777778,\"#fb9f3a\"],[0.8888888888888888,\"#fdca26\"],[1.0,\"#f0f921\"]]},\"title\":{\"text\":\"<b>United States Total Purchase Value (USD) by Day & Hour (PDT)<b>\"}},                        {\"responsive\": true}                    ).then(function(){\n",
              "                            \n",
              "var gd = document.getElementById('75256618-deb9-4de0-84ae-d430f1e1dad9');\n",
              "var x = new MutationObserver(function (mutations, observer) {{\n",
              "        var display = window.getComputedStyle(gd).display;\n",
              "        if (!display || display === 'none') {{\n",
              "            console.log([gd, 'removed!']);\n",
              "            Plotly.purge(gd);\n",
              "            observer.disconnect();\n",
              "        }}\n",
              "}});\n",
              "\n",
              "// Listen for the removal of the full notebook cells\n",
              "var notebookContainer = gd.closest('#notebook-container');\n",
              "if (notebookContainer) {{\n",
              "    x.observe(notebookContainer, {childList: true});\n",
              "}}\n",
              "\n",
              "// Listen for the clearing of the current output cell\n",
              "var outputEl = gd.closest('.output');\n",
              "if (outputEl) {{\n",
              "    x.observe(outputEl, {childList: true});\n",
              "}}\n",
              "\n",
              "                        })                };                            </script>        </div>\n",
              "</body>\n",
              "</html>"
            ]
          },
          "metadata": {}
        }
      ]
    },
    {
      "cell_type": "markdown",
      "source": [
        "A few things you can see from this plot:\n",
        "\n",
        "*   There is substantial variance in total sales across days and hours. At the extremes, there are day/hour combinations with more than $\\$$2,000 in sales and others with less than $\\$$100 in sales over this time period.\n",
        "*   As you saw in the daily sales plot, Saturday and Sunday are relatively low in sales (with the possible exception of late Sunday), while Monday is relatively high (with different peaks throughout the day). Times that correspond to the middle of the night across most of the country (0-5 on the x-axis) are generally slow on most days, with some outliers.\n",
        "\n",
        "Some of the things you see in the plot above don't totally fit with what you'd expect based on time zones, so it may be worth checking for outlier (high) purchase values that could've skewed the data in some of the day/hour combinations."
      ],
      "metadata": {
        "id": "LzaQYEjA7cM0"
      }
    },
    {
      "cell_type": "markdown",
      "source": [
        "## Save some outputs to Cloud Storage\n",
        "Sometimes you may want some of your code output - tables, graphs, etc. - to persist outside of your notebook. This could be to preserve some results for when you're done with the notebook or to share with various collaborators via other mediums.\n",
        "\n",
        "In this section, you'll take some of the outputs generated earlier and save them outside of the notebooks in three different ways:\n",
        "*   a table to a CSV file\n",
        "*   an interactive plot to an HTML file\n",
        "*   an interactive plot to a (static) PNG file"
      ],
      "metadata": {
        "id": "uEALdpZlauX6"
      }
    },
    {
      "cell_type": "markdown",
      "source": [
        "First, you save the table of user-level correlations by country as a CSV. Initially, this will save the CSV file in the local notebook environment."
      ],
      "metadata": {
        "id": "_A1-0VP627NP"
      }
    },
    {
      "cell_type": "code",
      "source": [
        "user_country_correlations_output_name = \"user_level_correlations_by_country.csv\"\n",
        "\n",
        "user_purchase_value_correlations_by_country.to_csv(\n",
        "    user_country_correlations_output_name)"
      ],
      "metadata": {
        "id": "ylUTealhbiDu"
      },
      "execution_count": 41,
      "outputs": []
    },
    {
      "cell_type": "markdown",
      "source": [
        "Next, you save the interactive bar plot of event counts by name as an HTML file using [Plotly's HTML export capabilities](https://plotly.com/python/interactive-html-export/)."
      ],
      "metadata": {
        "id": "VjzuSp643f4O"
      }
    },
    {
      "cell_type": "code",
      "execution_count": 42,
      "metadata": {
        "id": "ZP4CPJh7Yjdl"
      },
      "outputs": [],
      "source": [
        "event_name_counts_output_name = \"event_name_counts_interactive_bar_plot.html\"\n",
        "\n",
        "event_name_counts_interactive_bar_plot.write_html(event_name_counts_output_name)"
      ]
    },
    {
      "cell_type": "markdown",
      "source": [
        "While interactive plots can be powerful, there are often cases where you need to convert your interactive into a static plot to fit certain constraints or simplify things for readers. In this case, you save the heatmap of purchase by day and hour as a static PNG file using [Plotly's static image export functionality](https://plotly.com/python/static-image-export/). This uses the [kaleido library](https://github.com/plotly/Kaleido) \"under the hood\" to convert the interactive plot to a static one."
      ],
      "metadata": {
        "id": "48wqq17_11W7"
      }
    },
    {
      "cell_type": "code",
      "execution_count": 43,
      "metadata": {
        "id": "mQ93vjTTYjdl"
      },
      "outputs": [],
      "source": [
        "purchases_day_hour_output_name = \"purchases_by_dayofweek_hourofday_heatmap.png\"\n",
        "\n",
        "purchases_by_dayofweek_hourofday_heatmap.write_image(\n",
        "    purchases_day_hour_output_name)"
      ]
    },
    {
      "cell_type": "markdown",
      "source": [
        "Finally, you take the three different output files in the local notebook environment and copy them to your specified Cloud Storage bucket."
      ],
      "metadata": {
        "id": "VTyksBB32IQ3"
      }
    },
    {
      "cell_type": "code",
      "source": [
        "for output_file_name in [\n",
        "    user_country_correlations_output_name,\n",
        "    event_name_counts_output_name,\n",
        "    purchases_day_hour_output_name\n",
        "    ]:\n",
        "    \n",
        "    ! gsutil cp $output_file_name $BUCKET_URI"
      ],
      "metadata": {
        "id": "dFV6Ktw9lNiR",
        "colab": {
          "base_uri": "https://localhost:8080/"
        },
        "outputId": "5a3c47dc-cee2-4c74-b3b1-b8a07381cedc"
      },
      "execution_count": 44,
      "outputs": [
        {
          "output_type": "stream",
          "name": "stdout",
          "text": [
            "Copying file://user_level_correlations_by_country.csv [Content-Type=text/csv]...\n",
            "/ [1 files][  2.6 KiB/  2.6 KiB]                                                \n",
            "Operation completed over 1 objects/2.6 KiB.                                      \n",
            "Copying file://event_name_counts_interactive_bar_plot.html [Content-Type=text/html]...\n",
            "-\n",
            "Operation completed over 1 objects/3.5 MiB.                                      \n",
            "Copying file://purchases_by_dayofweek_hourofday_heatmap.png [Content-Type=image/png]...\n",
            "/ [1 files][ 42.5 KiB/ 42.5 KiB]                                                \n",
            "Operation completed over 1 objects/42.5 KiB.                                     \n"
          ]
        }
      ]
    },
    {
      "cell_type": "markdown",
      "metadata": {
        "tags": [],
        "id": "hS1c8xutYjdl"
      },
      "source": [
        "## Cleaning up\n",
        "\n",
        "To clean up all Google Cloud resources used in this project, you can [delete the Google Cloud\n",
        "project](https://cloud.google.com/resource-manager/docs/creating-managing-projects#shutting_down_projects) you used for the tutorial.\n",
        "\n",
        "Otherwise, you can delete the Cloud Storage bucket that you created in this tutorial if you'd like:"
      ]
    },
    {
      "cell_type": "code",
      "execution_count": 45,
      "metadata": {
        "id": "sx_vKniMq9ZX"
      },
      "outputs": [],
      "source": [
        "# Delete Cloud Storage bucket that was created\n",
        "if os.getenv(\"IS_TESTING\"):\n",
        "    ! gsutil -m rm -r $BUCKET_URI"
      ]
    }
  ],
  "metadata": {
    "colab": {
      "collapsed_sections": [],
      "name": "explore_data_in_bigquery_with_workbench.ipynb",
      "toc_visible": true,
      "provenance": []
    },
    "kernelspec": {
      "display_name": "Python (Local)",
      "language": "python",
      "name": "local-base"
    },
    "language_info": {
      "codemirror_mode": {
        "name": "ipython",
        "version": 3
      },
      "file_extension": ".py",
      "mimetype": "text/x-python",
      "name": "python",
      "nbconvert_exporter": "python",
      "pygments_lexer": "ipython3",
      "version": "3.7.12"
    },
    "widgets": {
      "application/vnd.jupyter.widget-state+json": {
        "761b44392e444cd8b67243e1dce6035b": {
          "model_module": "@jupyter-widgets/controls",
          "model_name": "TabModel",
          "model_module_version": "2.0.0",
          "state": {
            "_dom_classes": [],
            "_model_module": "@jupyter-widgets/controls",
            "_model_module_version": "2.0.0",
            "_model_name": "TabModel",
            "_view_count": null,
            "_view_module": "@jupyter-widgets/controls",
            "_view_module_version": "2.0.0",
            "_view_name": "TabView",
            "box_style": "",
            "children": [
              "IPY_MODEL_c953af4da3914581b89a60161af8d153",
              "IPY_MODEL_5930d2cedcbd4a10a4620684c5a0a7aa",
              "IPY_MODEL_9b470d5cdb9f48acacaeab037c22e17c"
            ],
            "layout": "IPY_MODEL_0a4073e5dcd9474cac0fa82d9a796635",
            "selected_index": 0,
            "tabbable": null,
            "titles": [
              "country",
              "operating_system",
              "device_language"
            ],
            "tooltip": null
          }
        },
        "c953af4da3914581b89a60161af8d153": {
          "model_module": "@jupyter-widgets/output",
          "model_name": "OutputModel",
          "model_module_version": "1.0.0",
          "state": {
            "_dom_classes": [],
            "_model_module": "@jupyter-widgets/output",
            "_model_module_version": "1.0.0",
            "_model_name": "OutputModel",
            "_view_count": null,
            "_view_module": "@jupyter-widgets/output",
            "_view_module_version": "1.0.0",
            "_view_name": "OutputView",
            "layout": "IPY_MODEL_b0ba982ca6364682b585344c5e661fc6",
            "msg_id": "",
            "outputs": [
              {
                "output_type": "display_data",
                "data": {
                  "text/html": "<html>\n<head><meta charset=\"utf-8\" /></head>\n<body>\n    <div>            <script src=\"https://cdnjs.cloudflare.com/ajax/libs/mathjax/2.7.5/MathJax.js?config=TeX-AMS-MML_SVG\"></script><script type=\"text/javascript\">if (window.MathJax) {MathJax.Hub.Config({SVG: {font: \"STIX-Web\"}});}</script>                <script type=\"text/javascript\">window.PlotlyConfig = {MathJaxConfig: 'local'};</script>\n        <script src=\"https://cdn.plot.ly/plotly-2.8.3.min.js\"></script>                <div id=\"73914d65-d03c-462d-ac7a-13dcfb99baf1\" class=\"plotly-graph-div\" style=\"height:525px; width:100%;\"></div>            <script type=\"text/javascript\">                                    window.PLOTLYENV=window.PLOTLYENV || {};                                    if (document.getElementById(\"73914d65-d03c-462d-ac7a-13dcfb99baf1\")) {                    Plotly.newPlot(                        \"73914d65-d03c-462d-ac7a-13dcfb99baf1\",                        [{\"alignmentgroup\":\"True\",\"hovertemplate\":\"country=%{x}<br>num_events=%{y}<extra></extra>\",\"legendgroup\":\"\",\"marker\":{\"color\":\"#636efa\",\"pattern\":{\"shape\":\"\"}},\"name\":\"\",\"offsetgroup\":\"\",\"orientation\":\"v\",\"showlegend\":false,\"textposition\":\"auto\",\"x\":[\"United States\",\"India\",\"Canada\",\"United Kingdom\",\"France\",\"Spain\",\"China\",\"Taiwan\",\"Germany\",\"Italy\",\"Singapore\",\"Japan\",\"South Korea\",\"Netherlands\",\"Turkey\",\"Brazil\",\"Australia\",\"Mexico\",\"Poland\",\"Indonesia\",\"(not set)\",\"Russia\",\"Ireland\",\"Hong Kong\",\"Sweden\",\"Switzerland\",\"Peru\",\"Philippines\",\"Malaysia\",\"Israel\",\"Colombia\",\"Thailand\",\"Vietnam\",\"Portugal\",\"Greece\",\"Belgium\",\"Pakistan\",\"Ukraine\",\"Denmark\",\"United Arab Emirates\",\"Austria\",\"Argentina\",\"Czechia\",\"Romania\",\"Saudi Arabia\",\"Egypt\",\"Finland\",\"Bangladesh\",\"Sri Lanka\",\"Chile\",\"Norway\",\"South Africa\",\"New Zealand\",\"Morocco\",\"Hungary\",\"Nigeria\",\"Croatia\",\"Slovakia\",\"Bulgaria\",\"Serbia\",\"Slovenia\",\"Dominican Republic\",\"Algeria\",\"Iraq\",\"Kuwait\",\"Ecuador\",\"Lithuania\",\"Puerto Rico\",\"Tunisia\",\"Uruguay\",\"Kenya\",\"Guatemala\",\"El Salvador\",\"Kazakhstan\",\"Armenia\",\"Costa Rica\",\"Palestine\",\"Qatar\",\"Jordan\",\"North Macedonia\",\"Latvia\",\"Nepal\",\"Lebanon\",\"Venezuela\",\"Belarus\",\"Cambodia\",\"Iceland\",\"Georgia\",\"Cyprus\",\"Azerbaijan\",\"Myanmar (Burma)\",\"Mongolia\",\"Albania\",\"Bahrain\",\"Jamaica\",\"Panama\",\"Luxembourg\",\"Bahamas\",\"Estonia\",\"Bolivia\",\"Macao\",\"Bosnia & Herzegovina\",\"Paraguay\",\"Malta\",\"Oman\",\"Ghana\",\"Kosovo\",\"Honduras\",\"Trinidad & Tobago\"],\"xaxis\":\"x\",\"y\":[1910483,391859,324261,133383,82514,81713,76159,72484,71673,61258,56869,56676,51584,50303,45168,42380,39493,38655,37380,35608,32208,28709,26666,26062,23267,21597,20900,20533,19656,19316,19216,18610,17669,17184,17150,17056,16977,15892,12948,12249,12189,11457,11194,9714,9026,8481,8064,8049,7761,7665,7206,6564,6440,6339,5877,5534,5173,4507,4183,3688,3476,3476,3464,3440,3277,3224,3099,2757,2617,2521,2407,2117,2056,1966,1898,1885,1881,1822,1760,1695,1690,1627,1618,1577,1565,1534,1511,1382,1337,1251,1225,1184,1084,1073,1064,1061,1020,987,933,893,811,800,797,751,706,682,593,556,555],\"yaxis\":\"y\",\"type\":\"bar\"}],                        {\"template\":{\"data\":{\"bar\":[{\"error_x\":{\"color\":\"#2a3f5f\"},\"error_y\":{\"color\":\"#2a3f5f\"},\"marker\":{\"line\":{\"color\":\"#E5ECF6\",\"width\":0.5},\"pattern\":{\"fillmode\":\"overlay\",\"size\":10,\"solidity\":0.2}},\"type\":\"bar\"}],\"barpolar\":[{\"marker\":{\"line\":{\"color\":\"#E5ECF6\",\"width\":0.5},\"pattern\":{\"fillmode\":\"overlay\",\"size\":10,\"solidity\":0.2}},\"type\":\"barpolar\"}],\"carpet\":[{\"aaxis\":{\"endlinecolor\":\"#2a3f5f\",\"gridcolor\":\"white\",\"linecolor\":\"white\",\"minorgridcolor\":\"white\",\"startlinecolor\":\"#2a3f5f\"},\"baxis\":{\"endlinecolor\":\"#2a3f5f\",\"gridcolor\":\"white\",\"linecolor\":\"white\",\"minorgridcolor\":\"white\",\"startlinecolor\":\"#2a3f5f\"},\"type\":\"carpet\"}],\"choropleth\":[{\"colorbar\":{\"outlinewidth\":0,\"ticks\":\"\"},\"type\":\"choropleth\"}],\"contour\":[{\"colorbar\":{\"outlinewidth\":0,\"ticks\":\"\"},\"colorscale\":[[0.0,\"#0d0887\"],[0.1111111111111111,\"#46039f\"],[0.2222222222222222,\"#7201a8\"],[0.3333333333333333,\"#9c179e\"],[0.4444444444444444,\"#bd3786\"],[0.5555555555555556,\"#d8576b\"],[0.6666666666666666,\"#ed7953\"],[0.7777777777777778,\"#fb9f3a\"],[0.8888888888888888,\"#fdca26\"],[1.0,\"#f0f921\"]],\"type\":\"contour\"}],\"contourcarpet\":[{\"colorbar\":{\"outlinewidth\":0,\"ticks\":\"\"},\"type\":\"contourcarpet\"}],\"heatmap\":[{\"colorbar\":{\"outlinewidth\":0,\"ticks\":\"\"},\"colorscale\":[[0.0,\"#0d0887\"],[0.1111111111111111,\"#46039f\"],[0.2222222222222222,\"#7201a8\"],[0.3333333333333333,\"#9c179e\"],[0.4444444444444444,\"#bd3786\"],[0.5555555555555556,\"#d8576b\"],[0.6666666666666666,\"#ed7953\"],[0.7777777777777778,\"#fb9f3a\"],[0.8888888888888888,\"#fdca26\"],[1.0,\"#f0f921\"]],\"type\":\"heatmap\"}],\"heatmapgl\":[{\"colorbar\":{\"outlinewidth\":0,\"ticks\":\"\"},\"colorscale\":[[0.0,\"#0d0887\"],[0.1111111111111111,\"#46039f\"],[0.2222222222222222,\"#7201a8\"],[0.3333333333333333,\"#9c179e\"],[0.4444444444444444,\"#bd3786\"],[0.5555555555555556,\"#d8576b\"],[0.6666666666666666,\"#ed7953\"],[0.7777777777777778,\"#fb9f3a\"],[0.8888888888888888,\"#fdca26\"],[1.0,\"#f0f921\"]],\"type\":\"heatmapgl\"}],\"histogram\":[{\"marker\":{\"pattern\":{\"fillmode\":\"overlay\",\"size\":10,\"solidity\":0.2}},\"type\":\"histogram\"}],\"histogram2d\":[{\"colorbar\":{\"outlinewidth\":0,\"ticks\":\"\"},\"colorscale\":[[0.0,\"#0d0887\"],[0.1111111111111111,\"#46039f\"],[0.2222222222222222,\"#7201a8\"],[0.3333333333333333,\"#9c179e\"],[0.4444444444444444,\"#bd3786\"],[0.5555555555555556,\"#d8576b\"],[0.6666666666666666,\"#ed7953\"],[0.7777777777777778,\"#fb9f3a\"],[0.8888888888888888,\"#fdca26\"],[1.0,\"#f0f921\"]],\"type\":\"histogram2d\"}],\"histogram2dcontour\":[{\"colorbar\":{\"outlinewidth\":0,\"ticks\":\"\"},\"colorscale\":[[0.0,\"#0d0887\"],[0.1111111111111111,\"#46039f\"],[0.2222222222222222,\"#7201a8\"],[0.3333333333333333,\"#9c179e\"],[0.4444444444444444,\"#bd3786\"],[0.5555555555555556,\"#d8576b\"],[0.6666666666666666,\"#ed7953\"],[0.7777777777777778,\"#fb9f3a\"],[0.8888888888888888,\"#fdca26\"],[1.0,\"#f0f921\"]],\"type\":\"histogram2dcontour\"}],\"mesh3d\":[{\"colorbar\":{\"outlinewidth\":0,\"ticks\":\"\"},\"type\":\"mesh3d\"}],\"parcoords\":[{\"line\":{\"colorbar\":{\"outlinewidth\":0,\"ticks\":\"\"}},\"type\":\"parcoords\"}],\"pie\":[{\"automargin\":true,\"type\":\"pie\"}],\"scatter\":[{\"marker\":{\"colorbar\":{\"outlinewidth\":0,\"ticks\":\"\"}},\"type\":\"scatter\"}],\"scatter3d\":[{\"line\":{\"colorbar\":{\"outlinewidth\":0,\"ticks\":\"\"}},\"marker\":{\"colorbar\":{\"outlinewidth\":0,\"ticks\":\"\"}},\"type\":\"scatter3d\"}],\"scattercarpet\":[{\"marker\":{\"colorbar\":{\"outlinewidth\":0,\"ticks\":\"\"}},\"type\":\"scattercarpet\"}],\"scattergeo\":[{\"marker\":{\"colorbar\":{\"outlinewidth\":0,\"ticks\":\"\"}},\"type\":\"scattergeo\"}],\"scattergl\":[{\"marker\":{\"colorbar\":{\"outlinewidth\":0,\"ticks\":\"\"}},\"type\":\"scattergl\"}],\"scattermapbox\":[{\"marker\":{\"colorbar\":{\"outlinewidth\":0,\"ticks\":\"\"}},\"type\":\"scattermapbox\"}],\"scatterpolar\":[{\"marker\":{\"colorbar\":{\"outlinewidth\":0,\"ticks\":\"\"}},\"type\":\"scatterpolar\"}],\"scatterpolargl\":[{\"marker\":{\"colorbar\":{\"outlinewidth\":0,\"ticks\":\"\"}},\"type\":\"scatterpolargl\"}],\"scatterternary\":[{\"marker\":{\"colorbar\":{\"outlinewidth\":0,\"ticks\":\"\"}},\"type\":\"scatterternary\"}],\"surface\":[{\"colorbar\":{\"outlinewidth\":0,\"ticks\":\"\"},\"colorscale\":[[0.0,\"#0d0887\"],[0.1111111111111111,\"#46039f\"],[0.2222222222222222,\"#7201a8\"],[0.3333333333333333,\"#9c179e\"],[0.4444444444444444,\"#bd3786\"],[0.5555555555555556,\"#d8576b\"],[0.6666666666666666,\"#ed7953\"],[0.7777777777777778,\"#fb9f3a\"],[0.8888888888888888,\"#fdca26\"],[1.0,\"#f0f921\"]],\"type\":\"surface\"}],\"table\":[{\"cells\":{\"fill\":{\"color\":\"#EBF0F8\"},\"line\":{\"color\":\"white\"}},\"header\":{\"fill\":{\"color\":\"#C8D4E3\"},\"line\":{\"color\":\"white\"}},\"type\":\"table\"}]},\"layout\":{\"annotationdefaults\":{\"arrowcolor\":\"#2a3f5f\",\"arrowhead\":0,\"arrowwidth\":1},\"autotypenumbers\":\"strict\",\"coloraxis\":{\"colorbar\":{\"outlinewidth\":0,\"ticks\":\"\"}},\"colorscale\":{\"diverging\":[[0,\"#8e0152\"],[0.1,\"#c51b7d\"],[0.2,\"#de77ae\"],[0.3,\"#f1b6da\"],[0.4,\"#fde0ef\"],[0.5,\"#f7f7f7\"],[0.6,\"#e6f5d0\"],[0.7,\"#b8e186\"],[0.8,\"#7fbc41\"],[0.9,\"#4d9221\"],[1,\"#276419\"]],\"sequential\":[[0.0,\"#0d0887\"],[0.1111111111111111,\"#46039f\"],[0.2222222222222222,\"#7201a8\"],[0.3333333333333333,\"#9c179e\"],[0.4444444444444444,\"#bd3786\"],[0.5555555555555556,\"#d8576b\"],[0.6666666666666666,\"#ed7953\"],[0.7777777777777778,\"#fb9f3a\"],[0.8888888888888888,\"#fdca26\"],[1.0,\"#f0f921\"]],\"sequentialminus\":[[0.0,\"#0d0887\"],[0.1111111111111111,\"#46039f\"],[0.2222222222222222,\"#7201a8\"],[0.3333333333333333,\"#9c179e\"],[0.4444444444444444,\"#bd3786\"],[0.5555555555555556,\"#d8576b\"],[0.6666666666666666,\"#ed7953\"],[0.7777777777777778,\"#fb9f3a\"],[0.8888888888888888,\"#fdca26\"],[1.0,\"#f0f921\"]]},\"colorway\":[\"#636efa\",\"#EF553B\",\"#00cc96\",\"#ab63fa\",\"#FFA15A\",\"#19d3f3\",\"#FF6692\",\"#B6E880\",\"#FF97FF\",\"#FECB52\"],\"font\":{\"color\":\"#2a3f5f\"},\"geo\":{\"bgcolor\":\"white\",\"lakecolor\":\"white\",\"landcolor\":\"#E5ECF6\",\"showlakes\":true,\"showland\":true,\"subunitcolor\":\"white\"},\"hoverlabel\":{\"align\":\"left\"},\"hovermode\":\"closest\",\"mapbox\":{\"style\":\"light\"},\"paper_bgcolor\":\"white\",\"plot_bgcolor\":\"#E5ECF6\",\"polar\":{\"angularaxis\":{\"gridcolor\":\"white\",\"linecolor\":\"white\",\"ticks\":\"\"},\"bgcolor\":\"#E5ECF6\",\"radialaxis\":{\"gridcolor\":\"white\",\"linecolor\":\"white\",\"ticks\":\"\"}},\"scene\":{\"xaxis\":{\"backgroundcolor\":\"#E5ECF6\",\"gridcolor\":\"white\",\"gridwidth\":2,\"linecolor\":\"white\",\"showbackground\":true,\"ticks\":\"\",\"zerolinecolor\":\"white\"},\"yaxis\":{\"backgroundcolor\":\"#E5ECF6\",\"gridcolor\":\"white\",\"gridwidth\":2,\"linecolor\":\"white\",\"showbackground\":true,\"ticks\":\"\",\"zerolinecolor\":\"white\"},\"zaxis\":{\"backgroundcolor\":\"#E5ECF6\",\"gridcolor\":\"white\",\"gridwidth\":2,\"linecolor\":\"white\",\"showbackground\":true,\"ticks\":\"\",\"zerolinecolor\":\"white\"}},\"shapedefaults\":{\"line\":{\"color\":\"#2a3f5f\"}},\"ternary\":{\"aaxis\":{\"gridcolor\":\"white\",\"linecolor\":\"white\",\"ticks\":\"\"},\"baxis\":{\"gridcolor\":\"white\",\"linecolor\":\"white\",\"ticks\":\"\"},\"bgcolor\":\"#E5ECF6\",\"caxis\":{\"gridcolor\":\"white\",\"linecolor\":\"white\",\"ticks\":\"\"}},\"title\":{\"x\":0.05},\"xaxis\":{\"automargin\":true,\"gridcolor\":\"white\",\"linecolor\":\"white\",\"ticks\":\"\",\"title\":{\"standoff\":15},\"zerolinecolor\":\"white\",\"zerolinewidth\":2},\"yaxis\":{\"automargin\":true,\"gridcolor\":\"white\",\"linecolor\":\"white\",\"ticks\":\"\",\"title\":{\"standoff\":15},\"zerolinecolor\":\"white\",\"zerolinewidth\":2}}},\"xaxis\":{\"anchor\":\"y\",\"domain\":[0.0,1.0],\"title\":{\"text\":\"country\"}},\"yaxis\":{\"anchor\":\"x\",\"domain\":[0.0,1.0],\"title\":{\"text\":\"num_events\"}},\"legend\":{\"tracegroupgap\":0},\"title\":{\"text\":\"<b>Number of Events by country<br></b>Min. 500 Events for country\"},\"barmode\":\"relative\"},                        {\"responsive\": true}                    ).then(function(){\n                            \nvar gd = document.getElementById('73914d65-d03c-462d-ac7a-13dcfb99baf1');\nvar x = new MutationObserver(function (mutations, observer) {{\n        var display = window.getComputedStyle(gd).display;\n        if (!display || display === 'none') {{\n            console.log([gd, 'removed!']);\n            Plotly.purge(gd);\n            observer.disconnect();\n        }}\n}});\n\n// Listen for the removal of the full notebook cells\nvar notebookContainer = gd.closest('#notebook-container');\nif (notebookContainer) {{\n    x.observe(notebookContainer, {childList: true});\n}}\n\n// Listen for the clearing of the current output cell\nvar outputEl = gd.closest('.output');\nif (outputEl) {{\n    x.observe(outputEl, {childList: true});\n}}\n\n                        })                };                            </script>        </div>\n</body>\n</html>"
                },
                "metadata": {}
              }
            ],
            "tabbable": null,
            "tooltip": null
          }
        },
        "5930d2cedcbd4a10a4620684c5a0a7aa": {
          "model_module": "@jupyter-widgets/output",
          "model_name": "OutputModel",
          "model_module_version": "1.0.0",
          "state": {
            "_dom_classes": [],
            "_model_module": "@jupyter-widgets/output",
            "_model_module_version": "1.0.0",
            "_model_name": "OutputModel",
            "_view_count": null,
            "_view_module": "@jupyter-widgets/output",
            "_view_module_version": "1.0.0",
            "_view_name": "OutputView",
            "layout": "IPY_MODEL_8679d309b72f432189a625ab8cc98d2e",
            "msg_id": "",
            "outputs": [
              {
                "output_type": "display_data",
                "data": {
                  "text/html": "<html>\n<head><meta charset=\"utf-8\" /></head>\n<body>\n    <div>            <script src=\"https://cdnjs.cloudflare.com/ajax/libs/mathjax/2.7.5/MathJax.js?config=TeX-AMS-MML_SVG\"></script><script type=\"text/javascript\">if (window.MathJax) {MathJax.Hub.Config({SVG: {font: \"STIX-Web\"}});}</script>                <script type=\"text/javascript\">window.PlotlyConfig = {MathJaxConfig: 'local'};</script>\n        <script src=\"https://cdn.plot.ly/plotly-2.8.3.min.js\"></script>                <div id=\"582ff6d5-ee76-4484-b5e8-884f53bfcb97\" class=\"plotly-graph-div\" style=\"height:525px; width:100%;\"></div>            <script type=\"text/javascript\">                                    window.PLOTLYENV=window.PLOTLYENV || {};                                    if (document.getElementById(\"582ff6d5-ee76-4484-b5e8-884f53bfcb97\")) {                    Plotly.newPlot(                        \"582ff6d5-ee76-4484-b5e8-884f53bfcb97\",                        [{\"alignmentgroup\":\"True\",\"hovertemplate\":\"operating_system=%{x}<br>num_events=%{y}<extra></extra>\",\"legendgroup\":\"\",\"marker\":{\"color\":\"#636efa\",\"pattern\":{\"shape\":\"\"}},\"name\":\"\",\"offsetgroup\":\"\",\"orientation\":\"v\",\"showlegend\":false,\"textposition\":\"auto\",\"x\":[\"Web\",\"iOS\",\"Windows\",\"Android\",\"Macintosh\",\"<Other>\"],\"xaxis\":\"x\",\"y\":[2505847,498649,497689,364111,318965,110323],\"yaxis\":\"y\",\"type\":\"bar\"}],                        {\"template\":{\"data\":{\"bar\":[{\"error_x\":{\"color\":\"#2a3f5f\"},\"error_y\":{\"color\":\"#2a3f5f\"},\"marker\":{\"line\":{\"color\":\"#E5ECF6\",\"width\":0.5},\"pattern\":{\"fillmode\":\"overlay\",\"size\":10,\"solidity\":0.2}},\"type\":\"bar\"}],\"barpolar\":[{\"marker\":{\"line\":{\"color\":\"#E5ECF6\",\"width\":0.5},\"pattern\":{\"fillmode\":\"overlay\",\"size\":10,\"solidity\":0.2}},\"type\":\"barpolar\"}],\"carpet\":[{\"aaxis\":{\"endlinecolor\":\"#2a3f5f\",\"gridcolor\":\"white\",\"linecolor\":\"white\",\"minorgridcolor\":\"white\",\"startlinecolor\":\"#2a3f5f\"},\"baxis\":{\"endlinecolor\":\"#2a3f5f\",\"gridcolor\":\"white\",\"linecolor\":\"white\",\"minorgridcolor\":\"white\",\"startlinecolor\":\"#2a3f5f\"},\"type\":\"carpet\"}],\"choropleth\":[{\"colorbar\":{\"outlinewidth\":0,\"ticks\":\"\"},\"type\":\"choropleth\"}],\"contour\":[{\"colorbar\":{\"outlinewidth\":0,\"ticks\":\"\"},\"colorscale\":[[0.0,\"#0d0887\"],[0.1111111111111111,\"#46039f\"],[0.2222222222222222,\"#7201a8\"],[0.3333333333333333,\"#9c179e\"],[0.4444444444444444,\"#bd3786\"],[0.5555555555555556,\"#d8576b\"],[0.6666666666666666,\"#ed7953\"],[0.7777777777777778,\"#fb9f3a\"],[0.8888888888888888,\"#fdca26\"],[1.0,\"#f0f921\"]],\"type\":\"contour\"}],\"contourcarpet\":[{\"colorbar\":{\"outlinewidth\":0,\"ticks\":\"\"},\"type\":\"contourcarpet\"}],\"heatmap\":[{\"colorbar\":{\"outlinewidth\":0,\"ticks\":\"\"},\"colorscale\":[[0.0,\"#0d0887\"],[0.1111111111111111,\"#46039f\"],[0.2222222222222222,\"#7201a8\"],[0.3333333333333333,\"#9c179e\"],[0.4444444444444444,\"#bd3786\"],[0.5555555555555556,\"#d8576b\"],[0.6666666666666666,\"#ed7953\"],[0.7777777777777778,\"#fb9f3a\"],[0.8888888888888888,\"#fdca26\"],[1.0,\"#f0f921\"]],\"type\":\"heatmap\"}],\"heatmapgl\":[{\"colorbar\":{\"outlinewidth\":0,\"ticks\":\"\"},\"colorscale\":[[0.0,\"#0d0887\"],[0.1111111111111111,\"#46039f\"],[0.2222222222222222,\"#7201a8\"],[0.3333333333333333,\"#9c179e\"],[0.4444444444444444,\"#bd3786\"],[0.5555555555555556,\"#d8576b\"],[0.6666666666666666,\"#ed7953\"],[0.7777777777777778,\"#fb9f3a\"],[0.8888888888888888,\"#fdca26\"],[1.0,\"#f0f921\"]],\"type\":\"heatmapgl\"}],\"histogram\":[{\"marker\":{\"pattern\":{\"fillmode\":\"overlay\",\"size\":10,\"solidity\":0.2}},\"type\":\"histogram\"}],\"histogram2d\":[{\"colorbar\":{\"outlinewidth\":0,\"ticks\":\"\"},\"colorscale\":[[0.0,\"#0d0887\"],[0.1111111111111111,\"#46039f\"],[0.2222222222222222,\"#7201a8\"],[0.3333333333333333,\"#9c179e\"],[0.4444444444444444,\"#bd3786\"],[0.5555555555555556,\"#d8576b\"],[0.6666666666666666,\"#ed7953\"],[0.7777777777777778,\"#fb9f3a\"],[0.8888888888888888,\"#fdca26\"],[1.0,\"#f0f921\"]],\"type\":\"histogram2d\"}],\"histogram2dcontour\":[{\"colorbar\":{\"outlinewidth\":0,\"ticks\":\"\"},\"colorscale\":[[0.0,\"#0d0887\"],[0.1111111111111111,\"#46039f\"],[0.2222222222222222,\"#7201a8\"],[0.3333333333333333,\"#9c179e\"],[0.4444444444444444,\"#bd3786\"],[0.5555555555555556,\"#d8576b\"],[0.6666666666666666,\"#ed7953\"],[0.7777777777777778,\"#fb9f3a\"],[0.8888888888888888,\"#fdca26\"],[1.0,\"#f0f921\"]],\"type\":\"histogram2dcontour\"}],\"mesh3d\":[{\"colorbar\":{\"outlinewidth\":0,\"ticks\":\"\"},\"type\":\"mesh3d\"}],\"parcoords\":[{\"line\":{\"colorbar\":{\"outlinewidth\":0,\"ticks\":\"\"}},\"type\":\"parcoords\"}],\"pie\":[{\"automargin\":true,\"type\":\"pie\"}],\"scatter\":[{\"marker\":{\"colorbar\":{\"outlinewidth\":0,\"ticks\":\"\"}},\"type\":\"scatter\"}],\"scatter3d\":[{\"line\":{\"colorbar\":{\"outlinewidth\":0,\"ticks\":\"\"}},\"marker\":{\"colorbar\":{\"outlinewidth\":0,\"ticks\":\"\"}},\"type\":\"scatter3d\"}],\"scattercarpet\":[{\"marker\":{\"colorbar\":{\"outlinewidth\":0,\"ticks\":\"\"}},\"type\":\"scattercarpet\"}],\"scattergeo\":[{\"marker\":{\"colorbar\":{\"outlinewidth\":0,\"ticks\":\"\"}},\"type\":\"scattergeo\"}],\"scattergl\":[{\"marker\":{\"colorbar\":{\"outlinewidth\":0,\"ticks\":\"\"}},\"type\":\"scattergl\"}],\"scattermapbox\":[{\"marker\":{\"colorbar\":{\"outlinewidth\":0,\"ticks\":\"\"}},\"type\":\"scattermapbox\"}],\"scatterpolar\":[{\"marker\":{\"colorbar\":{\"outlinewidth\":0,\"ticks\":\"\"}},\"type\":\"scatterpolar\"}],\"scatterpolargl\":[{\"marker\":{\"colorbar\":{\"outlinewidth\":0,\"ticks\":\"\"}},\"type\":\"scatterpolargl\"}],\"scatterternary\":[{\"marker\":{\"colorbar\":{\"outlinewidth\":0,\"ticks\":\"\"}},\"type\":\"scatterternary\"}],\"surface\":[{\"colorbar\":{\"outlinewidth\":0,\"ticks\":\"\"},\"colorscale\":[[0.0,\"#0d0887\"],[0.1111111111111111,\"#46039f\"],[0.2222222222222222,\"#7201a8\"],[0.3333333333333333,\"#9c179e\"],[0.4444444444444444,\"#bd3786\"],[0.5555555555555556,\"#d8576b\"],[0.6666666666666666,\"#ed7953\"],[0.7777777777777778,\"#fb9f3a\"],[0.8888888888888888,\"#fdca26\"],[1.0,\"#f0f921\"]],\"type\":\"surface\"}],\"table\":[{\"cells\":{\"fill\":{\"color\":\"#EBF0F8\"},\"line\":{\"color\":\"white\"}},\"header\":{\"fill\":{\"color\":\"#C8D4E3\"},\"line\":{\"color\":\"white\"}},\"type\":\"table\"}]},\"layout\":{\"annotationdefaults\":{\"arrowcolor\":\"#2a3f5f\",\"arrowhead\":0,\"arrowwidth\":1},\"autotypenumbers\":\"strict\",\"coloraxis\":{\"colorbar\":{\"outlinewidth\":0,\"ticks\":\"\"}},\"colorscale\":{\"diverging\":[[0,\"#8e0152\"],[0.1,\"#c51b7d\"],[0.2,\"#de77ae\"],[0.3,\"#f1b6da\"],[0.4,\"#fde0ef\"],[0.5,\"#f7f7f7\"],[0.6,\"#e6f5d0\"],[0.7,\"#b8e186\"],[0.8,\"#7fbc41\"],[0.9,\"#4d9221\"],[1,\"#276419\"]],\"sequential\":[[0.0,\"#0d0887\"],[0.1111111111111111,\"#46039f\"],[0.2222222222222222,\"#7201a8\"],[0.3333333333333333,\"#9c179e\"],[0.4444444444444444,\"#bd3786\"],[0.5555555555555556,\"#d8576b\"],[0.6666666666666666,\"#ed7953\"],[0.7777777777777778,\"#fb9f3a\"],[0.8888888888888888,\"#fdca26\"],[1.0,\"#f0f921\"]],\"sequentialminus\":[[0.0,\"#0d0887\"],[0.1111111111111111,\"#46039f\"],[0.2222222222222222,\"#7201a8\"],[0.3333333333333333,\"#9c179e\"],[0.4444444444444444,\"#bd3786\"],[0.5555555555555556,\"#d8576b\"],[0.6666666666666666,\"#ed7953\"],[0.7777777777777778,\"#fb9f3a\"],[0.8888888888888888,\"#fdca26\"],[1.0,\"#f0f921\"]]},\"colorway\":[\"#636efa\",\"#EF553B\",\"#00cc96\",\"#ab63fa\",\"#FFA15A\",\"#19d3f3\",\"#FF6692\",\"#B6E880\",\"#FF97FF\",\"#FECB52\"],\"font\":{\"color\":\"#2a3f5f\"},\"geo\":{\"bgcolor\":\"white\",\"lakecolor\":\"white\",\"landcolor\":\"#E5ECF6\",\"showlakes\":true,\"showland\":true,\"subunitcolor\":\"white\"},\"hoverlabel\":{\"align\":\"left\"},\"hovermode\":\"closest\",\"mapbox\":{\"style\":\"light\"},\"paper_bgcolor\":\"white\",\"plot_bgcolor\":\"#E5ECF6\",\"polar\":{\"angularaxis\":{\"gridcolor\":\"white\",\"linecolor\":\"white\",\"ticks\":\"\"},\"bgcolor\":\"#E5ECF6\",\"radialaxis\":{\"gridcolor\":\"white\",\"linecolor\":\"white\",\"ticks\":\"\"}},\"scene\":{\"xaxis\":{\"backgroundcolor\":\"#E5ECF6\",\"gridcolor\":\"white\",\"gridwidth\":2,\"linecolor\":\"white\",\"showbackground\":true,\"ticks\":\"\",\"zerolinecolor\":\"white\"},\"yaxis\":{\"backgroundcolor\":\"#E5ECF6\",\"gridcolor\":\"white\",\"gridwidth\":2,\"linecolor\":\"white\",\"showbackground\":true,\"ticks\":\"\",\"zerolinecolor\":\"white\"},\"zaxis\":{\"backgroundcolor\":\"#E5ECF6\",\"gridcolor\":\"white\",\"gridwidth\":2,\"linecolor\":\"white\",\"showbackground\":true,\"ticks\":\"\",\"zerolinecolor\":\"white\"}},\"shapedefaults\":{\"line\":{\"color\":\"#2a3f5f\"}},\"ternary\":{\"aaxis\":{\"gridcolor\":\"white\",\"linecolor\":\"white\",\"ticks\":\"\"},\"baxis\":{\"gridcolor\":\"white\",\"linecolor\":\"white\",\"ticks\":\"\"},\"bgcolor\":\"#E5ECF6\",\"caxis\":{\"gridcolor\":\"white\",\"linecolor\":\"white\",\"ticks\":\"\"}},\"title\":{\"x\":0.05},\"xaxis\":{\"automargin\":true,\"gridcolor\":\"white\",\"linecolor\":\"white\",\"ticks\":\"\",\"title\":{\"standoff\":15},\"zerolinecolor\":\"white\",\"zerolinewidth\":2},\"yaxis\":{\"automargin\":true,\"gridcolor\":\"white\",\"linecolor\":\"white\",\"ticks\":\"\",\"title\":{\"standoff\":15},\"zerolinecolor\":\"white\",\"zerolinewidth\":2}}},\"xaxis\":{\"anchor\":\"y\",\"domain\":[0.0,1.0],\"title\":{\"text\":\"operating_system\"}},\"yaxis\":{\"anchor\":\"x\",\"domain\":[0.0,1.0],\"title\":{\"text\":\"num_events\"}},\"legend\":{\"tracegroupgap\":0},\"title\":{\"text\":\"<b>Number of Events by operating_system<br></b>Min. 500 Events for operating_system\"},\"barmode\":\"relative\"},                        {\"responsive\": true}                    ).then(function(){\n                            \nvar gd = document.getElementById('582ff6d5-ee76-4484-b5e8-884f53bfcb97');\nvar x = new MutationObserver(function (mutations, observer) {{\n        var display = window.getComputedStyle(gd).display;\n        if (!display || display === 'none') {{\n            console.log([gd, 'removed!']);\n            Plotly.purge(gd);\n            observer.disconnect();\n        }}\n}});\n\n// Listen for the removal of the full notebook cells\nvar notebookContainer = gd.closest('#notebook-container');\nif (notebookContainer) {{\n    x.observe(notebookContainer, {childList: true});\n}}\n\n// Listen for the clearing of the current output cell\nvar outputEl = gd.closest('.output');\nif (outputEl) {{\n    x.observe(outputEl, {childList: true});\n}}\n\n                        })                };                            </script>        </div>\n</body>\n</html>"
                },
                "metadata": {}
              }
            ],
            "tabbable": null,
            "tooltip": null
          }
        },
        "9b470d5cdb9f48acacaeab037c22e17c": {
          "model_module": "@jupyter-widgets/output",
          "model_name": "OutputModel",
          "model_module_version": "1.0.0",
          "state": {
            "_dom_classes": [],
            "_model_module": "@jupyter-widgets/output",
            "_model_module_version": "1.0.0",
            "_model_name": "OutputModel",
            "_view_count": null,
            "_view_module": "@jupyter-widgets/output",
            "_view_module_version": "1.0.0",
            "_view_name": "OutputView",
            "layout": "IPY_MODEL_0c9daed0e5394b0ebc2c5fb4cedcebdf",
            "msg_id": "",
            "outputs": [
              {
                "output_type": "display_data",
                "data": {
                  "text/html": "<html>\n<head><meta charset=\"utf-8\" /></head>\n<body>\n    <div>            <script src=\"https://cdnjs.cloudflare.com/ajax/libs/mathjax/2.7.5/MathJax.js?config=TeX-AMS-MML_SVG\"></script><script type=\"text/javascript\">if (window.MathJax) {MathJax.Hub.Config({SVG: {font: \"STIX-Web\"}});}</script>                <script type=\"text/javascript\">window.PlotlyConfig = {MathJaxConfig: 'local'};</script>\n        <script src=\"https://cdn.plot.ly/plotly-2.8.3.min.js\"></script>                <div id=\"e0cbf71c-66c6-48b2-9fec-61b8a113120e\" class=\"plotly-graph-div\" style=\"height:525px; width:100%;\"></div>            <script type=\"text/javascript\">                                    window.PLOTLYENV=window.PLOTLYENV || {};                                    if (document.getElementById(\"e0cbf71c-66c6-48b2-9fec-61b8a113120e\")) {                    Plotly.newPlot(                        \"e0cbf71c-66c6-48b2-9fec-61b8a113120e\",                        [{\"alignmentgroup\":\"True\",\"hovertemplate\":\"device_language=%{x}<br>num_events=%{y}<extra></extra>\",\"legendgroup\":\"\",\"marker\":{\"color\":\"#636efa\",\"pattern\":{\"shape\":\"\"}},\"name\":\"\",\"offsetgroup\":\"\",\"orientation\":\"v\",\"showlegend\":false,\"textposition\":\"auto\",\"x\":[\"NULL\",\"en-us\",\"en-gb\",\"zh\",\"en\",\"en-ca\",\"fr\",\"es-es\",\"de\",\"ko\"],\"xaxis\":\"x\",\"y\":[1829035,1670532,263013,127936,122933,95199,62210,60799,34587,29340],\"yaxis\":\"y\",\"type\":\"bar\"}],                        {\"template\":{\"data\":{\"bar\":[{\"error_x\":{\"color\":\"#2a3f5f\"},\"error_y\":{\"color\":\"#2a3f5f\"},\"marker\":{\"line\":{\"color\":\"#E5ECF6\",\"width\":0.5},\"pattern\":{\"fillmode\":\"overlay\",\"size\":10,\"solidity\":0.2}},\"type\":\"bar\"}],\"barpolar\":[{\"marker\":{\"line\":{\"color\":\"#E5ECF6\",\"width\":0.5},\"pattern\":{\"fillmode\":\"overlay\",\"size\":10,\"solidity\":0.2}},\"type\":\"barpolar\"}],\"carpet\":[{\"aaxis\":{\"endlinecolor\":\"#2a3f5f\",\"gridcolor\":\"white\",\"linecolor\":\"white\",\"minorgridcolor\":\"white\",\"startlinecolor\":\"#2a3f5f\"},\"baxis\":{\"endlinecolor\":\"#2a3f5f\",\"gridcolor\":\"white\",\"linecolor\":\"white\",\"minorgridcolor\":\"white\",\"startlinecolor\":\"#2a3f5f\"},\"type\":\"carpet\"}],\"choropleth\":[{\"colorbar\":{\"outlinewidth\":0,\"ticks\":\"\"},\"type\":\"choropleth\"}],\"contour\":[{\"colorbar\":{\"outlinewidth\":0,\"ticks\":\"\"},\"colorscale\":[[0.0,\"#0d0887\"],[0.1111111111111111,\"#46039f\"],[0.2222222222222222,\"#7201a8\"],[0.3333333333333333,\"#9c179e\"],[0.4444444444444444,\"#bd3786\"],[0.5555555555555556,\"#d8576b\"],[0.6666666666666666,\"#ed7953\"],[0.7777777777777778,\"#fb9f3a\"],[0.8888888888888888,\"#fdca26\"],[1.0,\"#f0f921\"]],\"type\":\"contour\"}],\"contourcarpet\":[{\"colorbar\":{\"outlinewidth\":0,\"ticks\":\"\"},\"type\":\"contourcarpet\"}],\"heatmap\":[{\"colorbar\":{\"outlinewidth\":0,\"ticks\":\"\"},\"colorscale\":[[0.0,\"#0d0887\"],[0.1111111111111111,\"#46039f\"],[0.2222222222222222,\"#7201a8\"],[0.3333333333333333,\"#9c179e\"],[0.4444444444444444,\"#bd3786\"],[0.5555555555555556,\"#d8576b\"],[0.6666666666666666,\"#ed7953\"],[0.7777777777777778,\"#fb9f3a\"],[0.8888888888888888,\"#fdca26\"],[1.0,\"#f0f921\"]],\"type\":\"heatmap\"}],\"heatmapgl\":[{\"colorbar\":{\"outlinewidth\":0,\"ticks\":\"\"},\"colorscale\":[[0.0,\"#0d0887\"],[0.1111111111111111,\"#46039f\"],[0.2222222222222222,\"#7201a8\"],[0.3333333333333333,\"#9c179e\"],[0.4444444444444444,\"#bd3786\"],[0.5555555555555556,\"#d8576b\"],[0.6666666666666666,\"#ed7953\"],[0.7777777777777778,\"#fb9f3a\"],[0.8888888888888888,\"#fdca26\"],[1.0,\"#f0f921\"]],\"type\":\"heatmapgl\"}],\"histogram\":[{\"marker\":{\"pattern\":{\"fillmode\":\"overlay\",\"size\":10,\"solidity\":0.2}},\"type\":\"histogram\"}],\"histogram2d\":[{\"colorbar\":{\"outlinewidth\":0,\"ticks\":\"\"},\"colorscale\":[[0.0,\"#0d0887\"],[0.1111111111111111,\"#46039f\"],[0.2222222222222222,\"#7201a8\"],[0.3333333333333333,\"#9c179e\"],[0.4444444444444444,\"#bd3786\"],[0.5555555555555556,\"#d8576b\"],[0.6666666666666666,\"#ed7953\"],[0.7777777777777778,\"#fb9f3a\"],[0.8888888888888888,\"#fdca26\"],[1.0,\"#f0f921\"]],\"type\":\"histogram2d\"}],\"histogram2dcontour\":[{\"colorbar\":{\"outlinewidth\":0,\"ticks\":\"\"},\"colorscale\":[[0.0,\"#0d0887\"],[0.1111111111111111,\"#46039f\"],[0.2222222222222222,\"#7201a8\"],[0.3333333333333333,\"#9c179e\"],[0.4444444444444444,\"#bd3786\"],[0.5555555555555556,\"#d8576b\"],[0.6666666666666666,\"#ed7953\"],[0.7777777777777778,\"#fb9f3a\"],[0.8888888888888888,\"#fdca26\"],[1.0,\"#f0f921\"]],\"type\":\"histogram2dcontour\"}],\"mesh3d\":[{\"colorbar\":{\"outlinewidth\":0,\"ticks\":\"\"},\"type\":\"mesh3d\"}],\"parcoords\":[{\"line\":{\"colorbar\":{\"outlinewidth\":0,\"ticks\":\"\"}},\"type\":\"parcoords\"}],\"pie\":[{\"automargin\":true,\"type\":\"pie\"}],\"scatter\":[{\"marker\":{\"colorbar\":{\"outlinewidth\":0,\"ticks\":\"\"}},\"type\":\"scatter\"}],\"scatter3d\":[{\"line\":{\"colorbar\":{\"outlinewidth\":0,\"ticks\":\"\"}},\"marker\":{\"colorbar\":{\"outlinewidth\":0,\"ticks\":\"\"}},\"type\":\"scatter3d\"}],\"scattercarpet\":[{\"marker\":{\"colorbar\":{\"outlinewidth\":0,\"ticks\":\"\"}},\"type\":\"scattercarpet\"}],\"scattergeo\":[{\"marker\":{\"colorbar\":{\"outlinewidth\":0,\"ticks\":\"\"}},\"type\":\"scattergeo\"}],\"scattergl\":[{\"marker\":{\"colorbar\":{\"outlinewidth\":0,\"ticks\":\"\"}},\"type\":\"scattergl\"}],\"scattermapbox\":[{\"marker\":{\"colorbar\":{\"outlinewidth\":0,\"ticks\":\"\"}},\"type\":\"scattermapbox\"}],\"scatterpolar\":[{\"marker\":{\"colorbar\":{\"outlinewidth\":0,\"ticks\":\"\"}},\"type\":\"scatterpolar\"}],\"scatterpolargl\":[{\"marker\":{\"colorbar\":{\"outlinewidth\":0,\"ticks\":\"\"}},\"type\":\"scatterpolargl\"}],\"scatterternary\":[{\"marker\":{\"colorbar\":{\"outlinewidth\":0,\"ticks\":\"\"}},\"type\":\"scatterternary\"}],\"surface\":[{\"colorbar\":{\"outlinewidth\":0,\"ticks\":\"\"},\"colorscale\":[[0.0,\"#0d0887\"],[0.1111111111111111,\"#46039f\"],[0.2222222222222222,\"#7201a8\"],[0.3333333333333333,\"#9c179e\"],[0.4444444444444444,\"#bd3786\"],[0.5555555555555556,\"#d8576b\"],[0.6666666666666666,\"#ed7953\"],[0.7777777777777778,\"#fb9f3a\"],[0.8888888888888888,\"#fdca26\"],[1.0,\"#f0f921\"]],\"type\":\"surface\"}],\"table\":[{\"cells\":{\"fill\":{\"color\":\"#EBF0F8\"},\"line\":{\"color\":\"white\"}},\"header\":{\"fill\":{\"color\":\"#C8D4E3\"},\"line\":{\"color\":\"white\"}},\"type\":\"table\"}]},\"layout\":{\"annotationdefaults\":{\"arrowcolor\":\"#2a3f5f\",\"arrowhead\":0,\"arrowwidth\":1},\"autotypenumbers\":\"strict\",\"coloraxis\":{\"colorbar\":{\"outlinewidth\":0,\"ticks\":\"\"}},\"colorscale\":{\"diverging\":[[0,\"#8e0152\"],[0.1,\"#c51b7d\"],[0.2,\"#de77ae\"],[0.3,\"#f1b6da\"],[0.4,\"#fde0ef\"],[0.5,\"#f7f7f7\"],[0.6,\"#e6f5d0\"],[0.7,\"#b8e186\"],[0.8,\"#7fbc41\"],[0.9,\"#4d9221\"],[1,\"#276419\"]],\"sequential\":[[0.0,\"#0d0887\"],[0.1111111111111111,\"#46039f\"],[0.2222222222222222,\"#7201a8\"],[0.3333333333333333,\"#9c179e\"],[0.4444444444444444,\"#bd3786\"],[0.5555555555555556,\"#d8576b\"],[0.6666666666666666,\"#ed7953\"],[0.7777777777777778,\"#fb9f3a\"],[0.8888888888888888,\"#fdca26\"],[1.0,\"#f0f921\"]],\"sequentialminus\":[[0.0,\"#0d0887\"],[0.1111111111111111,\"#46039f\"],[0.2222222222222222,\"#7201a8\"],[0.3333333333333333,\"#9c179e\"],[0.4444444444444444,\"#bd3786\"],[0.5555555555555556,\"#d8576b\"],[0.6666666666666666,\"#ed7953\"],[0.7777777777777778,\"#fb9f3a\"],[0.8888888888888888,\"#fdca26\"],[1.0,\"#f0f921\"]]},\"colorway\":[\"#636efa\",\"#EF553B\",\"#00cc96\",\"#ab63fa\",\"#FFA15A\",\"#19d3f3\",\"#FF6692\",\"#B6E880\",\"#FF97FF\",\"#FECB52\"],\"font\":{\"color\":\"#2a3f5f\"},\"geo\":{\"bgcolor\":\"white\",\"lakecolor\":\"white\",\"landcolor\":\"#E5ECF6\",\"showlakes\":true,\"showland\":true,\"subunitcolor\":\"white\"},\"hoverlabel\":{\"align\":\"left\"},\"hovermode\":\"closest\",\"mapbox\":{\"style\":\"light\"},\"paper_bgcolor\":\"white\",\"plot_bgcolor\":\"#E5ECF6\",\"polar\":{\"angularaxis\":{\"gridcolor\":\"white\",\"linecolor\":\"white\",\"ticks\":\"\"},\"bgcolor\":\"#E5ECF6\",\"radialaxis\":{\"gridcolor\":\"white\",\"linecolor\":\"white\",\"ticks\":\"\"}},\"scene\":{\"xaxis\":{\"backgroundcolor\":\"#E5ECF6\",\"gridcolor\":\"white\",\"gridwidth\":2,\"linecolor\":\"white\",\"showbackground\":true,\"ticks\":\"\",\"zerolinecolor\":\"white\"},\"yaxis\":{\"backgroundcolor\":\"#E5ECF6\",\"gridcolor\":\"white\",\"gridwidth\":2,\"linecolor\":\"white\",\"showbackground\":true,\"ticks\":\"\",\"zerolinecolor\":\"white\"},\"zaxis\":{\"backgroundcolor\":\"#E5ECF6\",\"gridcolor\":\"white\",\"gridwidth\":2,\"linecolor\":\"white\",\"showbackground\":true,\"ticks\":\"\",\"zerolinecolor\":\"white\"}},\"shapedefaults\":{\"line\":{\"color\":\"#2a3f5f\"}},\"ternary\":{\"aaxis\":{\"gridcolor\":\"white\",\"linecolor\":\"white\",\"ticks\":\"\"},\"baxis\":{\"gridcolor\":\"white\",\"linecolor\":\"white\",\"ticks\":\"\"},\"bgcolor\":\"#E5ECF6\",\"caxis\":{\"gridcolor\":\"white\",\"linecolor\":\"white\",\"ticks\":\"\"}},\"title\":{\"x\":0.05},\"xaxis\":{\"automargin\":true,\"gridcolor\":\"white\",\"linecolor\":\"white\",\"ticks\":\"\",\"title\":{\"standoff\":15},\"zerolinecolor\":\"white\",\"zerolinewidth\":2},\"yaxis\":{\"automargin\":true,\"gridcolor\":\"white\",\"linecolor\":\"white\",\"ticks\":\"\",\"title\":{\"standoff\":15},\"zerolinecolor\":\"white\",\"zerolinewidth\":2}}},\"xaxis\":{\"anchor\":\"y\",\"domain\":[0.0,1.0],\"title\":{\"text\":\"device_language\"}},\"yaxis\":{\"anchor\":\"x\",\"domain\":[0.0,1.0],\"title\":{\"text\":\"num_events\"}},\"legend\":{\"tracegroupgap\":0},\"title\":{\"text\":\"<b>Number of Events by device_language<br></b>Min. 500 Events for device_language\"},\"barmode\":\"relative\"},                        {\"responsive\": true}                    ).then(function(){\n                            \nvar gd = document.getElementById('e0cbf71c-66c6-48b2-9fec-61b8a113120e');\nvar x = new MutationObserver(function (mutations, observer) {{\n        var display = window.getComputedStyle(gd).display;\n        if (!display || display === 'none') {{\n            console.log([gd, 'removed!']);\n            Plotly.purge(gd);\n            observer.disconnect();\n        }}\n}});\n\n// Listen for the removal of the full notebook cells\nvar notebookContainer = gd.closest('#notebook-container');\nif (notebookContainer) {{\n    x.observe(notebookContainer, {childList: true});\n}}\n\n// Listen for the clearing of the current output cell\nvar outputEl = gd.closest('.output');\nif (outputEl) {{\n    x.observe(outputEl, {childList: true});\n}}\n\n                        })                };                            </script>        </div>\n</body>\n</html>"
                },
                "metadata": {}
              }
            ],
            "tabbable": null,
            "tooltip": null
          }
        },
        "0a4073e5dcd9474cac0fa82d9a796635": {
          "model_module": "@jupyter-widgets/base",
          "model_name": "LayoutModel",
          "model_module_version": "2.0.0",
          "state": {
            "_model_module": "@jupyter-widgets/base",
            "_model_module_version": "2.0.0",
            "_model_name": "LayoutModel",
            "_view_count": null,
            "_view_module": "@jupyter-widgets/base",
            "_view_module_version": "2.0.0",
            "_view_name": "LayoutView",
            "align_content": null,
            "align_items": null,
            "align_self": null,
            "border_bottom": null,
            "border_left": null,
            "border_right": null,
            "border_top": null,
            "bottom": null,
            "display": null,
            "flex": null,
            "flex_flow": null,
            "grid_area": null,
            "grid_auto_columns": null,
            "grid_auto_flow": null,
            "grid_auto_rows": null,
            "grid_column": null,
            "grid_gap": null,
            "grid_row": null,
            "grid_template_areas": null,
            "grid_template_columns": null,
            "grid_template_rows": null,
            "height": null,
            "justify_content": null,
            "justify_items": null,
            "left": null,
            "margin": null,
            "max_height": null,
            "max_width": null,
            "min_height": null,
            "min_width": null,
            "object_fit": null,
            "object_position": null,
            "order": null,
            "overflow": null,
            "padding": null,
            "right": null,
            "top": null,
            "visibility": null,
            "width": null
          }
        },
        "b0ba982ca6364682b585344c5e661fc6": {
          "model_module": "@jupyter-widgets/base",
          "model_name": "LayoutModel",
          "model_module_version": "2.0.0",
          "state": {
            "_model_module": "@jupyter-widgets/base",
            "_model_module_version": "2.0.0",
            "_model_name": "LayoutModel",
            "_view_count": null,
            "_view_module": "@jupyter-widgets/base",
            "_view_module_version": "2.0.0",
            "_view_name": "LayoutView",
            "align_content": null,
            "align_items": null,
            "align_self": null,
            "border_bottom": null,
            "border_left": null,
            "border_right": null,
            "border_top": null,
            "bottom": null,
            "display": null,
            "flex": null,
            "flex_flow": null,
            "grid_area": null,
            "grid_auto_columns": null,
            "grid_auto_flow": null,
            "grid_auto_rows": null,
            "grid_column": null,
            "grid_gap": null,
            "grid_row": null,
            "grid_template_areas": null,
            "grid_template_columns": null,
            "grid_template_rows": null,
            "height": null,
            "justify_content": null,
            "justify_items": null,
            "left": null,
            "margin": null,
            "max_height": null,
            "max_width": null,
            "min_height": null,
            "min_width": null,
            "object_fit": null,
            "object_position": null,
            "order": null,
            "overflow": null,
            "padding": null,
            "right": null,
            "top": null,
            "visibility": null,
            "width": null
          }
        },
        "8679d309b72f432189a625ab8cc98d2e": {
          "model_module": "@jupyter-widgets/base",
          "model_name": "LayoutModel",
          "model_module_version": "2.0.0",
          "state": {
            "_model_module": "@jupyter-widgets/base",
            "_model_module_version": "2.0.0",
            "_model_name": "LayoutModel",
            "_view_count": null,
            "_view_module": "@jupyter-widgets/base",
            "_view_module_version": "2.0.0",
            "_view_name": "LayoutView",
            "align_content": null,
            "align_items": null,
            "align_self": null,
            "border_bottom": null,
            "border_left": null,
            "border_right": null,
            "border_top": null,
            "bottom": null,
            "display": null,
            "flex": null,
            "flex_flow": null,
            "grid_area": null,
            "grid_auto_columns": null,
            "grid_auto_flow": null,
            "grid_auto_rows": null,
            "grid_column": null,
            "grid_gap": null,
            "grid_row": null,
            "grid_template_areas": null,
            "grid_template_columns": null,
            "grid_template_rows": null,
            "height": null,
            "justify_content": null,
            "justify_items": null,
            "left": null,
            "margin": null,
            "max_height": null,
            "max_width": null,
            "min_height": null,
            "min_width": null,
            "object_fit": null,
            "object_position": null,
            "order": null,
            "overflow": null,
            "padding": null,
            "right": null,
            "top": null,
            "visibility": null,
            "width": null
          }
        },
        "0c9daed0e5394b0ebc2c5fb4cedcebdf": {
          "model_module": "@jupyter-widgets/base",
          "model_name": "LayoutModel",
          "model_module_version": "2.0.0",
          "state": {
            "_model_module": "@jupyter-widgets/base",
            "_model_module_version": "2.0.0",
            "_model_name": "LayoutModel",
            "_view_count": null,
            "_view_module": "@jupyter-widgets/base",
            "_view_module_version": "2.0.0",
            "_view_name": "LayoutView",
            "align_content": null,
            "align_items": null,
            "align_self": null,
            "border_bottom": null,
            "border_left": null,
            "border_right": null,
            "border_top": null,
            "bottom": null,
            "display": null,
            "flex": null,
            "flex_flow": null,
            "grid_area": null,
            "grid_auto_columns": null,
            "grid_auto_flow": null,
            "grid_auto_rows": null,
            "grid_column": null,
            "grid_gap": null,
            "grid_row": null,
            "grid_template_areas": null,
            "grid_template_columns": null,
            "grid_template_rows": null,
            "height": null,
            "justify_content": null,
            "justify_items": null,
            "left": null,
            "margin": null,
            "max_height": null,
            "max_width": null,
            "min_height": null,
            "min_width": null,
            "object_fit": null,
            "object_position": null,
            "order": null,
            "overflow": null,
            "padding": null,
            "right": null,
            "top": null,
            "visibility": null,
            "width": null
          }
        },
        "8a2e2072b26d4c82ba3ded564cb6d183": {
          "model_module": "@jupyter-widgets/controls",
          "model_name": "VBoxModel",
          "model_module_version": "2.0.0",
          "state": {
            "_dom_classes": [
              "widget-interact"
            ],
            "_model_module": "@jupyter-widgets/controls",
            "_model_module_version": "2.0.0",
            "_model_name": "VBoxModel",
            "_view_count": null,
            "_view_module": "@jupyter-widgets/controls",
            "_view_module_version": "2.0.0",
            "_view_name": "VBoxView",
            "box_style": "",
            "children": [
              "IPY_MODEL_562af64da54f4cac8113409c8c554671",
              "IPY_MODEL_fdd44331e4e448748c2f56d8433a2b42",
              "IPY_MODEL_be160f81b6c14789ad127d957e1e17e8"
            ],
            "layout": "IPY_MODEL_f4f864f765d242169e941b454c492deb",
            "tabbable": null,
            "tooltip": null
          }
        },
        "562af64da54f4cac8113409c8c554671": {
          "model_module": "@jupyter-widgets/controls",
          "model_name": "SelectModel",
          "model_module_version": "2.0.0",
          "state": {
            "_dom_classes": [],
            "_model_module": "@jupyter-widgets/controls",
            "_model_module_version": "2.0.0",
            "_model_name": "SelectModel",
            "_options_labels": [
              "device_category",
              "device_mobile_brand_name",
              "device_mobile_model_name",
              "device_mobile_marketing_name",
              "device_operating_system",
              "device_operating_system_version",
              "device_language",
              "device_is_limited_ad_tracking",
              "device_browser",
              "device_browser_version"
            ],
            "_view_count": null,
            "_view_module": "@jupyter-widgets/controls",
            "_view_module_version": "2.0.0",
            "_view_name": "SelectView",
            "description": "Device Attributes",
            "description_allow_html": false,
            "disabled": false,
            "index": 0,
            "layout": "IPY_MODEL_4afa6a360d9c420cb5faa03459c28d3f",
            "rows": 5,
            "style": "IPY_MODEL_6a48bb5d13ca406eb384d66a7e75ccdf",
            "tabbable": null,
            "tooltip": null
          }
        },
        "fdd44331e4e448748c2f56d8433a2b42": {
          "model_module": "@jupyter-widgets/controls",
          "model_name": "IntSliderModel",
          "model_module_version": "2.0.0",
          "state": {
            "_dom_classes": [],
            "_model_module": "@jupyter-widgets/controls",
            "_model_module_version": "2.0.0",
            "_model_name": "IntSliderModel",
            "_view_count": null,
            "_view_module": "@jupyter-widgets/controls",
            "_view_module_version": "2.0.0",
            "_view_name": "IntSliderView",
            "behavior": "drag-tap",
            "continuous_update": false,
            "description": "Min Num Events",
            "description_allow_html": false,
            "disabled": false,
            "layout": "IPY_MODEL_2041f92395ba4353bfa12cdbba5d2e89",
            "max": 100000,
            "min": 0,
            "orientation": "horizontal",
            "readout": true,
            "readout_format": "d",
            "step": 100,
            "style": "IPY_MODEL_f585e8796e674d308c4662e1d55c971f",
            "tabbable": null,
            "tooltip": null,
            "value": 500
          }
        },
        "be160f81b6c14789ad127d957e1e17e8": {
          "model_module": "@jupyter-widgets/output",
          "model_name": "OutputModel",
          "model_module_version": "1.0.0",
          "state": {
            "_dom_classes": [],
            "_model_module": "@jupyter-widgets/output",
            "_model_module_version": "1.0.0",
            "_model_name": "OutputModel",
            "_view_count": null,
            "_view_module": "@jupyter-widgets/output",
            "_view_module_version": "1.0.0",
            "_view_name": "OutputView",
            "layout": "IPY_MODEL_cd49d3676cc7455997094c8f6a488663",
            "msg_id": "",
            "outputs": [
              {
                "output_type": "display_data",
                "data": {
                  "text/html": "<html>\n<head><meta charset=\"utf-8\" /></head>\n<body>\n    <div>            <script src=\"https://cdnjs.cloudflare.com/ajax/libs/mathjax/2.7.5/MathJax.js?config=TeX-AMS-MML_SVG\"></script><script type=\"text/javascript\">if (window.MathJax) {MathJax.Hub.Config({SVG: {font: \"STIX-Web\"}});}</script>                <script type=\"text/javascript\">window.PlotlyConfig = {MathJaxConfig: 'local'};</script>\n        <script src=\"https://cdn.plot.ly/plotly-2.8.3.min.js\"></script>                <div id=\"e4355c1d-ded8-428c-9f35-b4982e67e958\" class=\"plotly-graph-div\" style=\"height:525px; width:100%;\"></div>            <script type=\"text/javascript\">                                    window.PLOTLYENV=window.PLOTLYENV || {};                                    if (document.getElementById(\"e4355c1d-ded8-428c-9f35-b4982e67e958\")) {                    Plotly.newPlot(                        \"e4355c1d-ded8-428c-9f35-b4982e67e958\",                        [{\"alignmentgroup\":\"True\",\"hovertemplate\":\"device_category=%{x}<br>num_events=%{y}<extra></extra>\",\"legendgroup\":\"\",\"marker\":{\"color\":\"#636efa\",\"pattern\":{\"shape\":\"\"}},\"name\":\"\",\"offsetgroup\":\"\",\"orientation\":\"v\",\"showlegend\":false,\"textposition\":\"auto\",\"x\":[\"desktop\",\"mobile\",\"tablet\"],\"xaxis\":\"x\",\"y\":[2498330,1704069,93185],\"yaxis\":\"y\",\"type\":\"bar\"}],                        {\"template\":{\"data\":{\"bar\":[{\"error_x\":{\"color\":\"#2a3f5f\"},\"error_y\":{\"color\":\"#2a3f5f\"},\"marker\":{\"line\":{\"color\":\"#E5ECF6\",\"width\":0.5},\"pattern\":{\"fillmode\":\"overlay\",\"size\":10,\"solidity\":0.2}},\"type\":\"bar\"}],\"barpolar\":[{\"marker\":{\"line\":{\"color\":\"#E5ECF6\",\"width\":0.5},\"pattern\":{\"fillmode\":\"overlay\",\"size\":10,\"solidity\":0.2}},\"type\":\"barpolar\"}],\"carpet\":[{\"aaxis\":{\"endlinecolor\":\"#2a3f5f\",\"gridcolor\":\"white\",\"linecolor\":\"white\",\"minorgridcolor\":\"white\",\"startlinecolor\":\"#2a3f5f\"},\"baxis\":{\"endlinecolor\":\"#2a3f5f\",\"gridcolor\":\"white\",\"linecolor\":\"white\",\"minorgridcolor\":\"white\",\"startlinecolor\":\"#2a3f5f\"},\"type\":\"carpet\"}],\"choropleth\":[{\"colorbar\":{\"outlinewidth\":0,\"ticks\":\"\"},\"type\":\"choropleth\"}],\"contour\":[{\"colorbar\":{\"outlinewidth\":0,\"ticks\":\"\"},\"colorscale\":[[0.0,\"#0d0887\"],[0.1111111111111111,\"#46039f\"],[0.2222222222222222,\"#7201a8\"],[0.3333333333333333,\"#9c179e\"],[0.4444444444444444,\"#bd3786\"],[0.5555555555555556,\"#d8576b\"],[0.6666666666666666,\"#ed7953\"],[0.7777777777777778,\"#fb9f3a\"],[0.8888888888888888,\"#fdca26\"],[1.0,\"#f0f921\"]],\"type\":\"contour\"}],\"contourcarpet\":[{\"colorbar\":{\"outlinewidth\":0,\"ticks\":\"\"},\"type\":\"contourcarpet\"}],\"heatmap\":[{\"colorbar\":{\"outlinewidth\":0,\"ticks\":\"\"},\"colorscale\":[[0.0,\"#0d0887\"],[0.1111111111111111,\"#46039f\"],[0.2222222222222222,\"#7201a8\"],[0.3333333333333333,\"#9c179e\"],[0.4444444444444444,\"#bd3786\"],[0.5555555555555556,\"#d8576b\"],[0.6666666666666666,\"#ed7953\"],[0.7777777777777778,\"#fb9f3a\"],[0.8888888888888888,\"#fdca26\"],[1.0,\"#f0f921\"]],\"type\":\"heatmap\"}],\"heatmapgl\":[{\"colorbar\":{\"outlinewidth\":0,\"ticks\":\"\"},\"colorscale\":[[0.0,\"#0d0887\"],[0.1111111111111111,\"#46039f\"],[0.2222222222222222,\"#7201a8\"],[0.3333333333333333,\"#9c179e\"],[0.4444444444444444,\"#bd3786\"],[0.5555555555555556,\"#d8576b\"],[0.6666666666666666,\"#ed7953\"],[0.7777777777777778,\"#fb9f3a\"],[0.8888888888888888,\"#fdca26\"],[1.0,\"#f0f921\"]],\"type\":\"heatmapgl\"}],\"histogram\":[{\"marker\":{\"pattern\":{\"fillmode\":\"overlay\",\"size\":10,\"solidity\":0.2}},\"type\":\"histogram\"}],\"histogram2d\":[{\"colorbar\":{\"outlinewidth\":0,\"ticks\":\"\"},\"colorscale\":[[0.0,\"#0d0887\"],[0.1111111111111111,\"#46039f\"],[0.2222222222222222,\"#7201a8\"],[0.3333333333333333,\"#9c179e\"],[0.4444444444444444,\"#bd3786\"],[0.5555555555555556,\"#d8576b\"],[0.6666666666666666,\"#ed7953\"],[0.7777777777777778,\"#fb9f3a\"],[0.8888888888888888,\"#fdca26\"],[1.0,\"#f0f921\"]],\"type\":\"histogram2d\"}],\"histogram2dcontour\":[{\"colorbar\":{\"outlinewidth\":0,\"ticks\":\"\"},\"colorscale\":[[0.0,\"#0d0887\"],[0.1111111111111111,\"#46039f\"],[0.2222222222222222,\"#7201a8\"],[0.3333333333333333,\"#9c179e\"],[0.4444444444444444,\"#bd3786\"],[0.5555555555555556,\"#d8576b\"],[0.6666666666666666,\"#ed7953\"],[0.7777777777777778,\"#fb9f3a\"],[0.8888888888888888,\"#fdca26\"],[1.0,\"#f0f921\"]],\"type\":\"histogram2dcontour\"}],\"mesh3d\":[{\"colorbar\":{\"outlinewidth\":0,\"ticks\":\"\"},\"type\":\"mesh3d\"}],\"parcoords\":[{\"line\":{\"colorbar\":{\"outlinewidth\":0,\"ticks\":\"\"}},\"type\":\"parcoords\"}],\"pie\":[{\"automargin\":true,\"type\":\"pie\"}],\"scatter\":[{\"marker\":{\"colorbar\":{\"outlinewidth\":0,\"ticks\":\"\"}},\"type\":\"scatter\"}],\"scatter3d\":[{\"line\":{\"colorbar\":{\"outlinewidth\":0,\"ticks\":\"\"}},\"marker\":{\"colorbar\":{\"outlinewidth\":0,\"ticks\":\"\"}},\"type\":\"scatter3d\"}],\"scattercarpet\":[{\"marker\":{\"colorbar\":{\"outlinewidth\":0,\"ticks\":\"\"}},\"type\":\"scattercarpet\"}],\"scattergeo\":[{\"marker\":{\"colorbar\":{\"outlinewidth\":0,\"ticks\":\"\"}},\"type\":\"scattergeo\"}],\"scattergl\":[{\"marker\":{\"colorbar\":{\"outlinewidth\":0,\"ticks\":\"\"}},\"type\":\"scattergl\"}],\"scattermapbox\":[{\"marker\":{\"colorbar\":{\"outlinewidth\":0,\"ticks\":\"\"}},\"type\":\"scattermapbox\"}],\"scatterpolar\":[{\"marker\":{\"colorbar\":{\"outlinewidth\":0,\"ticks\":\"\"}},\"type\":\"scatterpolar\"}],\"scatterpolargl\":[{\"marker\":{\"colorbar\":{\"outlinewidth\":0,\"ticks\":\"\"}},\"type\":\"scatterpolargl\"}],\"scatterternary\":[{\"marker\":{\"colorbar\":{\"outlinewidth\":0,\"ticks\":\"\"}},\"type\":\"scatterternary\"}],\"surface\":[{\"colorbar\":{\"outlinewidth\":0,\"ticks\":\"\"},\"colorscale\":[[0.0,\"#0d0887\"],[0.1111111111111111,\"#46039f\"],[0.2222222222222222,\"#7201a8\"],[0.3333333333333333,\"#9c179e\"],[0.4444444444444444,\"#bd3786\"],[0.5555555555555556,\"#d8576b\"],[0.6666666666666666,\"#ed7953\"],[0.7777777777777778,\"#fb9f3a\"],[0.8888888888888888,\"#fdca26\"],[1.0,\"#f0f921\"]],\"type\":\"surface\"}],\"table\":[{\"cells\":{\"fill\":{\"color\":\"#EBF0F8\"},\"line\":{\"color\":\"white\"}},\"header\":{\"fill\":{\"color\":\"#C8D4E3\"},\"line\":{\"color\":\"white\"}},\"type\":\"table\"}]},\"layout\":{\"annotationdefaults\":{\"arrowcolor\":\"#2a3f5f\",\"arrowhead\":0,\"arrowwidth\":1},\"autotypenumbers\":\"strict\",\"coloraxis\":{\"colorbar\":{\"outlinewidth\":0,\"ticks\":\"\"}},\"colorscale\":{\"diverging\":[[0,\"#8e0152\"],[0.1,\"#c51b7d\"],[0.2,\"#de77ae\"],[0.3,\"#f1b6da\"],[0.4,\"#fde0ef\"],[0.5,\"#f7f7f7\"],[0.6,\"#e6f5d0\"],[0.7,\"#b8e186\"],[0.8,\"#7fbc41\"],[0.9,\"#4d9221\"],[1,\"#276419\"]],\"sequential\":[[0.0,\"#0d0887\"],[0.1111111111111111,\"#46039f\"],[0.2222222222222222,\"#7201a8\"],[0.3333333333333333,\"#9c179e\"],[0.4444444444444444,\"#bd3786\"],[0.5555555555555556,\"#d8576b\"],[0.6666666666666666,\"#ed7953\"],[0.7777777777777778,\"#fb9f3a\"],[0.8888888888888888,\"#fdca26\"],[1.0,\"#f0f921\"]],\"sequentialminus\":[[0.0,\"#0d0887\"],[0.1111111111111111,\"#46039f\"],[0.2222222222222222,\"#7201a8\"],[0.3333333333333333,\"#9c179e\"],[0.4444444444444444,\"#bd3786\"],[0.5555555555555556,\"#d8576b\"],[0.6666666666666666,\"#ed7953\"],[0.7777777777777778,\"#fb9f3a\"],[0.8888888888888888,\"#fdca26\"],[1.0,\"#f0f921\"]]},\"colorway\":[\"#636efa\",\"#EF553B\",\"#00cc96\",\"#ab63fa\",\"#FFA15A\",\"#19d3f3\",\"#FF6692\",\"#B6E880\",\"#FF97FF\",\"#FECB52\"],\"font\":{\"color\":\"#2a3f5f\"},\"geo\":{\"bgcolor\":\"white\",\"lakecolor\":\"white\",\"landcolor\":\"#E5ECF6\",\"showlakes\":true,\"showland\":true,\"subunitcolor\":\"white\"},\"hoverlabel\":{\"align\":\"left\"},\"hovermode\":\"closest\",\"mapbox\":{\"style\":\"light\"},\"paper_bgcolor\":\"white\",\"plot_bgcolor\":\"#E5ECF6\",\"polar\":{\"angularaxis\":{\"gridcolor\":\"white\",\"linecolor\":\"white\",\"ticks\":\"\"},\"bgcolor\":\"#E5ECF6\",\"radialaxis\":{\"gridcolor\":\"white\",\"linecolor\":\"white\",\"ticks\":\"\"}},\"scene\":{\"xaxis\":{\"backgroundcolor\":\"#E5ECF6\",\"gridcolor\":\"white\",\"gridwidth\":2,\"linecolor\":\"white\",\"showbackground\":true,\"ticks\":\"\",\"zerolinecolor\":\"white\"},\"yaxis\":{\"backgroundcolor\":\"#E5ECF6\",\"gridcolor\":\"white\",\"gridwidth\":2,\"linecolor\":\"white\",\"showbackground\":true,\"ticks\":\"\",\"zerolinecolor\":\"white\"},\"zaxis\":{\"backgroundcolor\":\"#E5ECF6\",\"gridcolor\":\"white\",\"gridwidth\":2,\"linecolor\":\"white\",\"showbackground\":true,\"ticks\":\"\",\"zerolinecolor\":\"white\"}},\"shapedefaults\":{\"line\":{\"color\":\"#2a3f5f\"}},\"ternary\":{\"aaxis\":{\"gridcolor\":\"white\",\"linecolor\":\"white\",\"ticks\":\"\"},\"baxis\":{\"gridcolor\":\"white\",\"linecolor\":\"white\",\"ticks\":\"\"},\"bgcolor\":\"#E5ECF6\",\"caxis\":{\"gridcolor\":\"white\",\"linecolor\":\"white\",\"ticks\":\"\"}},\"title\":{\"x\":0.05},\"xaxis\":{\"automargin\":true,\"gridcolor\":\"white\",\"linecolor\":\"white\",\"ticks\":\"\",\"title\":{\"standoff\":15},\"zerolinecolor\":\"white\",\"zerolinewidth\":2},\"yaxis\":{\"automargin\":true,\"gridcolor\":\"white\",\"linecolor\":\"white\",\"ticks\":\"\",\"title\":{\"standoff\":15},\"zerolinecolor\":\"white\",\"zerolinewidth\":2}}},\"xaxis\":{\"anchor\":\"y\",\"domain\":[0.0,1.0],\"title\":{\"text\":\"device_category\"}},\"yaxis\":{\"anchor\":\"x\",\"domain\":[0.0,1.0],\"title\":{\"text\":\"num_events\"}},\"legend\":{\"tracegroupgap\":0},\"title\":{\"text\":\"<b>Number of Events by device_category<br></b>Min. 500 Events for device_category\"},\"barmode\":\"relative\"},                        {\"responsive\": true}                    ).then(function(){\n                            \nvar gd = document.getElementById('e4355c1d-ded8-428c-9f35-b4982e67e958');\nvar x = new MutationObserver(function (mutations, observer) {{\n        var display = window.getComputedStyle(gd).display;\n        if (!display || display === 'none') {{\n            console.log([gd, 'removed!']);\n            Plotly.purge(gd);\n            observer.disconnect();\n        }}\n}});\n\n// Listen for the removal of the full notebook cells\nvar notebookContainer = gd.closest('#notebook-container');\nif (notebookContainer) {{\n    x.observe(notebookContainer, {childList: true});\n}}\n\n// Listen for the clearing of the current output cell\nvar outputEl = gd.closest('.output');\nif (outputEl) {{\n    x.observe(outputEl, {childList: true});\n}}\n\n                        })                };                            </script>        </div>\n</body>\n</html>"
                },
                "metadata": {}
              }
            ],
            "tabbable": null,
            "tooltip": null
          }
        },
        "f4f864f765d242169e941b454c492deb": {
          "model_module": "@jupyter-widgets/base",
          "model_name": "LayoutModel",
          "model_module_version": "2.0.0",
          "state": {
            "_model_module": "@jupyter-widgets/base",
            "_model_module_version": "2.0.0",
            "_model_name": "LayoutModel",
            "_view_count": null,
            "_view_module": "@jupyter-widgets/base",
            "_view_module_version": "2.0.0",
            "_view_name": "LayoutView",
            "align_content": null,
            "align_items": null,
            "align_self": null,
            "border_bottom": null,
            "border_left": null,
            "border_right": null,
            "border_top": null,
            "bottom": null,
            "display": null,
            "flex": null,
            "flex_flow": null,
            "grid_area": null,
            "grid_auto_columns": null,
            "grid_auto_flow": null,
            "grid_auto_rows": null,
            "grid_column": null,
            "grid_gap": null,
            "grid_row": null,
            "grid_template_areas": null,
            "grid_template_columns": null,
            "grid_template_rows": null,
            "height": null,
            "justify_content": null,
            "justify_items": null,
            "left": null,
            "margin": null,
            "max_height": null,
            "max_width": null,
            "min_height": null,
            "min_width": null,
            "object_fit": null,
            "object_position": null,
            "order": null,
            "overflow": null,
            "padding": null,
            "right": null,
            "top": null,
            "visibility": null,
            "width": null
          }
        },
        "4afa6a360d9c420cb5faa03459c28d3f": {
          "model_module": "@jupyter-widgets/base",
          "model_name": "LayoutModel",
          "model_module_version": "2.0.0",
          "state": {
            "_model_module": "@jupyter-widgets/base",
            "_model_module_version": "2.0.0",
            "_model_name": "LayoutModel",
            "_view_count": null,
            "_view_module": "@jupyter-widgets/base",
            "_view_module_version": "2.0.0",
            "_view_name": "LayoutView",
            "align_content": null,
            "align_items": null,
            "align_self": null,
            "border_bottom": null,
            "border_left": null,
            "border_right": null,
            "border_top": null,
            "bottom": null,
            "display": null,
            "flex": null,
            "flex_flow": null,
            "grid_area": null,
            "grid_auto_columns": null,
            "grid_auto_flow": null,
            "grid_auto_rows": null,
            "grid_column": null,
            "grid_gap": null,
            "grid_row": null,
            "grid_template_areas": null,
            "grid_template_columns": null,
            "grid_template_rows": null,
            "height": null,
            "justify_content": null,
            "justify_items": null,
            "left": null,
            "margin": null,
            "max_height": null,
            "max_width": null,
            "min_height": null,
            "min_width": null,
            "object_fit": null,
            "object_position": null,
            "order": null,
            "overflow": null,
            "padding": null,
            "right": null,
            "top": null,
            "visibility": null,
            "width": null
          }
        },
        "6a48bb5d13ca406eb384d66a7e75ccdf": {
          "model_module": "@jupyter-widgets/controls",
          "model_name": "DescriptionStyleModel",
          "model_module_version": "2.0.0",
          "state": {
            "_model_module": "@jupyter-widgets/controls",
            "_model_module_version": "2.0.0",
            "_model_name": "DescriptionStyleModel",
            "_view_count": null,
            "_view_module": "@jupyter-widgets/base",
            "_view_module_version": "2.0.0",
            "_view_name": "StyleView",
            "description_width": ""
          }
        },
        "2041f92395ba4353bfa12cdbba5d2e89": {
          "model_module": "@jupyter-widgets/base",
          "model_name": "LayoutModel",
          "model_module_version": "2.0.0",
          "state": {
            "_model_module": "@jupyter-widgets/base",
            "_model_module_version": "2.0.0",
            "_model_name": "LayoutModel",
            "_view_count": null,
            "_view_module": "@jupyter-widgets/base",
            "_view_module_version": "2.0.0",
            "_view_name": "LayoutView",
            "align_content": null,
            "align_items": null,
            "align_self": null,
            "border_bottom": null,
            "border_left": null,
            "border_right": null,
            "border_top": null,
            "bottom": null,
            "display": null,
            "flex": null,
            "flex_flow": null,
            "grid_area": null,
            "grid_auto_columns": null,
            "grid_auto_flow": null,
            "grid_auto_rows": null,
            "grid_column": null,
            "grid_gap": null,
            "grid_row": null,
            "grid_template_areas": null,
            "grid_template_columns": null,
            "grid_template_rows": null,
            "height": null,
            "justify_content": null,
            "justify_items": null,
            "left": null,
            "margin": null,
            "max_height": null,
            "max_width": null,
            "min_height": null,
            "min_width": null,
            "object_fit": null,
            "object_position": null,
            "order": null,
            "overflow": null,
            "padding": null,
            "right": null,
            "top": null,
            "visibility": null,
            "width": null
          }
        },
        "f585e8796e674d308c4662e1d55c971f": {
          "model_module": "@jupyter-widgets/controls",
          "model_name": "SliderStyleModel",
          "model_module_version": "2.0.0",
          "state": {
            "_model_module": "@jupyter-widgets/controls",
            "_model_module_version": "2.0.0",
            "_model_name": "SliderStyleModel",
            "_view_count": null,
            "_view_module": "@jupyter-widgets/base",
            "_view_module_version": "2.0.0",
            "_view_name": "StyleView",
            "description_width": "",
            "handle_color": null
          }
        },
        "cd49d3676cc7455997094c8f6a488663": {
          "model_module": "@jupyter-widgets/base",
          "model_name": "LayoutModel",
          "model_module_version": "2.0.0",
          "state": {
            "_model_module": "@jupyter-widgets/base",
            "_model_module_version": "2.0.0",
            "_model_name": "LayoutModel",
            "_view_count": null,
            "_view_module": "@jupyter-widgets/base",
            "_view_module_version": "2.0.0",
            "_view_name": "LayoutView",
            "align_content": null,
            "align_items": null,
            "align_self": null,
            "border_bottom": null,
            "border_left": null,
            "border_right": null,
            "border_top": null,
            "bottom": null,
            "display": null,
            "flex": null,
            "flex_flow": null,
            "grid_area": null,
            "grid_auto_columns": null,
            "grid_auto_flow": null,
            "grid_auto_rows": null,
            "grid_column": null,
            "grid_gap": null,
            "grid_row": null,
            "grid_template_areas": null,
            "grid_template_columns": null,
            "grid_template_rows": null,
            "height": null,
            "justify_content": null,
            "justify_items": null,
            "left": null,
            "margin": null,
            "max_height": null,
            "max_width": null,
            "min_height": null,
            "min_width": null,
            "object_fit": null,
            "object_position": null,
            "order": null,
            "overflow": null,
            "padding": null,
            "right": null,
            "top": null,
            "visibility": null,
            "width": null
          }
        }
      }
    }
  },
  "nbformat": 4,
  "nbformat_minor": 0
}