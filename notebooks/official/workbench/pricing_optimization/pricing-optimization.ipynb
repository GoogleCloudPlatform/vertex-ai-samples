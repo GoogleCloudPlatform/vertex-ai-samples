{
  "cells": [
    {
      "cell_type": "code",
      "execution_count": null,
      "metadata": {
        "id": "d1cc1c1fa076"
      },
      "outputs": [],
      "source": [
        "# Copyright 2022 Google LLC\n",
        "#\n",
        "# Licensed under the Apache License, Version 2.0 (the \"License\");\n",
        "# you may not use this file except in compliance with the License.\n",
        "# You may obtain a copy of the License at\n",
        "#\n",
        "#     https://www.apache.org/licenses/LICENSE-2.0\n",
        "#\n",
        "# Unless required by applicable law or agreed to in writing, software\n",
        "# distributed under the License is distributed on an \"AS IS\" BASIS,\n",
        "# WITHOUT WARRANTIES OR CONDITIONS OF ANY KIND, either express or implied.\n",
        "# See the License for the specific language governing permissions and\n",
        "# limitations under the License."
      ]
    },
    {
      "cell_type": "markdown",
      "metadata": {
        "id": "e2fde7c11c5a"
      },
      "source": [
        "# Pricing Optimization \n"
      ]
    },
    {
      "cell_type": "markdown",
      "metadata": {
        "id": "9751bc48dbcb"
      },
      "source": [
        "<table align=\"left\">\n",
        "\n",
        "  <td>\n",
        "    <a href=\"https://colab.research.google.com/github/GoogleCloudPlatform/vertex-ai-samples/blob/main/notebooks/official/workbench/pricing_optimization/pricing-optimization.ipynb\">\n",
        "      <img src=\"https://cloud.google.com/ml-engine/images/colab-logo-32px.png\" alt=\"Colab logo\"> Run in Colab\n",
        "    </a>\n",
        "  </td>\n",
        "  <td>\n",
        "    <a href=\"https://github.com/GoogleCloudPlatform/vertex-ai-samples/blob/main/notebooks/official/workbench/pricing_optimization/pricing-optimization.ipynb\">\n",
        "      <img src=\"https://cloud.google.com/ml-engine/images/github-logo-32px.png\" alt=\"GitHub logo\">\n",
        "      View on GitHub\n",
        "    </a>\n",
        "  </td>\n",
        "  <td>\n",
        "    <a href=\"https://console.cloud.google.com/vertex-ai/workbench/deploy-notebook?download_url=https://raw.githubusercontent.com/GoogleCloudPlatform/vertex-ai-samples/main/notebooks/official/workbench/pricing_optimization/pricing-optimization.ipynb\">\n",
        "      <img src=\"https://lh3.googleusercontent.com/UiNooY4LUgW_oTvpsNhPpQzsstV5W8F7rYgxgGBD85cWJoLmrOzhVs_ksK_vgx40SHs7jCqkTkCk=e14-rj-sc0xffffff-h130-w32\" alt=\"Vertex AI logo\">\n",
        "      Open in Vertex AI Workbench\n",
        "    </a>\n",
        "  </td>                                                                                               \n",
        "</table>"
      ]
    },
    {
      "cell_type": "markdown",
      "metadata": {
        "id": "cd1268747961"
      },
      "source": [
        "## Table of contents\n",
        "* [Overview](#section-1)\n",
        "* [Dataset](#section-2)\n",
        "* [Objective](#section-3)\n",
        "* [Costs](#section-4)\n",
        "* [Create a BigQuery dataset](#section-5)\n",
        "* [Load the dataset from Cloud Storage](#section-6)\n",
        "* [Data analysis](#section-7)\n",
        "* [Preprocess the data for training](#section-8)\n",
        "* [Train the model using BigQuery ML](#section-9)\n",
        "* [Generate forecasts from the model](#section-10)\n",
        "* [Interpret the results to choose the best price](#section-11)\n",
        "* [Clean up](#section-12)\n",
        "\n",
        "## Overview\n",
        "<a name=\"section-1\"></a>\n",
        "\n",
        "This notebook demonstrates analysis of pricing optimization on [CDM Pricing Data](https://github.com/trifacta/trifacta-google-cloud/tree/main/design-pattern-pricing-optimization) and automating the workflow using Vertex AI Workbench managed notebooks.\n",
        "\n",
        "*Note: This notebook file was developed to run in a [Vertex AI Workbench managed notebooks](https://console.cloud.google.com/vertex-ai/workbench/list/managed) instance using the Python (Local) kernel. Some components of this notebook may not work in other notebook environments.*\n",
        "\n",
        "## Dataset\n",
        "<a name=\"section-2\"></a>\n",
        "\n",
        "The dataset used in this notebook is a part of the [CDM Pricing dataset](https://github.com/trifacta/trifacta-google-cloud/blob/main/design-pattern-pricing-optimization/CDM_Pricing_large_table.csv), which consists of product sales information on specified dates.\n",
        "\n",
        "## Objective\n",
        "<a name=\"section-3\"></a>\n",
        "\n",
        "The objective of this notebook is to build a pricing optimization model using Vertex AI. The following steps have been followed:  \n",
        "\n",
        "- Load the required dataset from a Cloud Storage bucket.\n",
        "- Analyze the fields present in the dataset.\n",
        "- Process the data to build a model.\n",
        "- Build a BigQuery ML forecast model on the processed data.\n",
        "- Get forecasted values from the BigQuery ML model.\n",
        "- Interpret the forecasts to identify the best prices.\n",
        "- Clean up.\n",
        "\n",
        "## Costs\n",
        "<a name=\"section-4\"></a>\n",
        "\n",
        "This tutorial uses the following billable components of Google Cloud:\n",
        "\n",
        "- Vertex AI\n",
        "- BigQuery\n",
        "- Cloud Storage\n",
        "\n",
        "\n",
        "Learn about [Vertex AI\n",
        "pricing](https://cloud.google.com/vertex-ai/pricing), [BigQuery pricing](https://cloud.google.com/bigquery/pricing) and [Cloud Storage\n",
        "pricing](https://cloud.google.com/storage/pricing), and use the [Pricing\n",
        "Calculator](https://cloud.google.com/products/calculator/)\n",
        "to generate a cost estimate based on your projected usage.\n"
      ]
    },
    {
      "cell_type": "markdown",
      "metadata": {
        "id": "cfd13a8ff589"
      },
      "source": [
        "### Set up your local development environment\n",
        "\n",
        "**If you are using Colab or Vertex AI Workbench Notebooks**, your environment already meets\n",
        "all the requirements to run this notebook. You can skip this step."
      ]
    },
    {
      "cell_type": "markdown",
      "metadata": {
        "id": "f5494c42606e"
      },
      "source": [
        "**Otherwise**, make sure your environment meets this notebook's requirements.\n",
        "You need the following:\n",
        "\n",
        "* The Google Cloud SDK\n",
        "* Git\n",
        "* Python 3\n",
        "* virtualenv\n",
        "* Jupyter notebook running in a virtual environment with Python 3\n",
        "\n",
        "The Google Cloud guide to [Setting up a Python development\n",
        "environment](https://cloud.google.com/python/setup) and the [Jupyter\n",
        "installation guide](https://jupyter.org/install) provide detailed instructions\n",
        "for meeting these requirements. The following steps provide a condensed set of\n",
        "instructions:\n",
        "\n",
        "1. [Install and initialize the Cloud SDK.](https://cloud.google.com/sdk/docs/)\n",
        "\n",
        "1. [Install Python 3.](https://cloud.google.com/python/setup#installing_python)\n",
        "\n",
        "1. [Install\n",
        "   virtualenv](https://cloud.google.com/python/setup#installing_and_using_virtualenv)\n",
        "   and create a virtual environment that uses Python 3. Activate the virtual environment.\n",
        "\n",
        "1. To install Jupyter, run `pip3 install jupyter` on the\n",
        "command-line in a terminal shell.\n",
        "\n",
        "1. To launch Jupyter, run `jupyter notebook` on the command-line in a terminal shell.\n",
        "\n",
        "1. Open this notebook in the Jupyter Notebook Dashboard."
      ]
    },
    {
      "cell_type": "markdown",
      "metadata": {
        "id": "2bed1491312f"
      },
      "source": [
        "### Install additional packages\n"
      ]
    },
    {
      "cell_type": "code",
      "execution_count": 7,
      "metadata": {
        "id": "1fd00fa70a2a"
      },
      "outputs": [],
      "source": [
        "import os\n",
        "\n",
        "# The Google Cloud Notebook product has specific requirements\n",
        "IS_GOOGLE_CLOUD_NOTEBOOK = os.path.exists(\"/opt/deeplearning/metadata/env_version\")\n",
        "\n",
        "# Google Cloud Notebook requires dependencies to be installed with '--user'\n",
        "USER_FLAG = \"\"\n",
        "if IS_GOOGLE_CLOUD_NOTEBOOK:\n",
        "    USER_FLAG = \"--user\""
      ]
    },
    {
      "cell_type": "code",
      "execution_count": 10,
      "metadata": {
        "id": "25fffcad67f0"
      },
      "outputs": [
        {
          "name": "stdout",
          "output_type": "stream",
          "text": [
            "Requirement already satisfied: pandas-gbq in /usr/local/lib/python3.9/site-packages (0.17.7)\n",
            "Requirement already satisfied: google-cloud-bigquery[bqstorage,pandas] in /usr/local/lib/python3.9/site-packages (3.3.0)\n",
            "Requirement already satisfied: seaborn in /usr/local/lib/python3.9/site-packages (0.11.2)\n",
            "Requirement already satisfied: fsspec in /usr/local/lib/python3.9/site-packages (2022.7.1)\n",
            "Collecting gcsfs\n",
            "  Downloading gcsfs-2022.7.1-py2.py3-none-any.whl (25 kB)\n",
            "Requirement already satisfied: decorator>4.1.2 in /usr/local/lib/python3.9/site-packages (from gcsfs) (5.1.1)\n",
            "Collecting aiohttp\n",
            "  Downloading aiohttp-3.8.1-cp39-cp39-manylinux_2_5_x86_64.manylinux1_x86_64.manylinux_2_12_x86_64.manylinux2010_x86_64.whl (1.2 MB)\n",
            "\u001b[K     |████████████████████████████████| 1.2 MB 10.9 MB/s eta 0:00:01\n",
            "\u001b[?25hRequirement already satisfied: google-auth-oauthlib in /usr/local/lib/python3.9/site-packages (from gcsfs) (0.5.2)\n",
            "Requirement already satisfied: requests in /usr/local/lib/python3.9/site-packages (from gcsfs) (2.27.1)\n",
            "Requirement already satisfied: google-auth>=1.2 in /usr/local/lib/python3.9/site-packages (from gcsfs) (2.6.2)\n",
            "Requirement already satisfied: google-cloud-storage in /usr/local/lib/python3.9/site-packages (from gcsfs) (2.2.1)\n",
            "Requirement already satisfied: rsa<5,>=3.1.4 in /usr/local/lib/python3.9/site-packages (from google-auth>=1.2->gcsfs) (4.8)\n",
            "Requirement already satisfied: cachetools<6.0,>=2.0.0 in /usr/local/lib/python3.9/site-packages (from google-auth>=1.2->gcsfs) (5.0.0)\n",
            "Requirement already satisfied: pyasn1-modules>=0.2.1 in /usr/local/lib/python3.9/site-packages (from google-auth>=1.2->gcsfs) (0.2.8)\n",
            "Requirement already satisfied: six>=1.9.0 in /usr/local/lib/python3.9/site-packages (from google-auth>=1.2->gcsfs) (1.15.0)\n",
            "Requirement already satisfied: pyasn1<0.5.0,>=0.4.6 in /usr/local/lib/python3.9/site-packages (from pyasn1-modules>=0.2.1->google-auth>=1.2->gcsfs) (0.4.8)\n",
            "Requirement already satisfied: pyarrow<9.0dev,>=3.0.0 in /usr/local/lib/python3.9/site-packages (from google-cloud-bigquery[bqstorage,pandas]) (8.0.0)\n",
            "Requirement already satisfied: proto-plus<2.0.0dev,>=1.15.0 in /usr/local/lib/python3.9/site-packages (from google-cloud-bigquery[bqstorage,pandas]) (1.20.3)\n",
            "Requirement already satisfied: grpcio<2.0dev,>=1.47.0 in /usr/local/lib/python3.9/site-packages (from google-cloud-bigquery[bqstorage,pandas]) (1.47.0)\n",
            "Requirement already satisfied: google-resumable-media<3.0dev,>=0.6.0 in /usr/local/lib/python3.9/site-packages (from google-cloud-bigquery[bqstorage,pandas]) (2.3.2)\n",
            "Requirement already satisfied: google-cloud-bigquery-storage<3.0.0dev,>=2.0.0 in /usr/local/lib/python3.9/site-packages (from google-cloud-bigquery[bqstorage,pandas]) (2.13.2)\n",
            "Requirement already satisfied: python-dateutil<3.0dev,>=2.7.2 in /usr/local/lib/python3.9/site-packages (from google-cloud-bigquery[bqstorage,pandas]) (2.8.2)\n",
            "Requirement already satisfied: google-cloud-core<3.0.0dev,>=1.4.1 in /usr/local/lib/python3.9/site-packages (from google-cloud-bigquery[bqstorage,pandas]) (2.2.3)\n",
            "Requirement already satisfied: google-api-core[grpc]!=2.0.*,!=2.1.*,!=2.2.*,!=2.3.0,<3.0.0dev,>=1.31.5 in /usr/local/lib/python3.9/site-packages (from google-cloud-bigquery[bqstorage,pandas]) (2.7.1)\n",
            "Requirement already satisfied: protobuf<4.0.0dev,>=3.12.0 in /usr/local/lib/python3.9/site-packages (from google-cloud-bigquery[bqstorage,pandas]) (3.20.0rc2)\n",
            "Requirement already satisfied: packaging<22.0.0dev,>=14.3 in /usr/local/lib/python3.9/site-packages (from google-cloud-bigquery[bqstorage,pandas]) (21.3)\n",
            "Requirement already satisfied: db-dtypes<2.0.0dev,>=0.3.0 in /usr/local/lib/python3.9/site-packages (from google-cloud-bigquery[bqstorage,pandas]) (1.0.2)\n",
            "Requirement already satisfied: pandas>=1.0.0 in /usr/local/lib/python3.9/site-packages (from google-cloud-bigquery[bqstorage,pandas]) (1.4.1)\n",
            "Requirement already satisfied: numpy<2.0dev,>=1.16.6 in /usr/local/lib/python3.9/site-packages (from db-dtypes<2.0.0dev,>=0.3.0->google-cloud-bigquery[bqstorage,pandas]) (1.22.3)\n",
            "Requirement already satisfied: googleapis-common-protos<2.0dev,>=1.52.0 in /usr/local/lib/python3.9/site-packages (from google-api-core[grpc]!=2.0.*,!=2.1.*,!=2.2.*,!=2.3.0,<3.0.0dev,>=1.31.5->google-cloud-bigquery[bqstorage,pandas]) (1.56.0)\n",
            "Requirement already satisfied: grpcio-status<2.0dev,>=1.33.2 in /usr/local/lib/python3.9/site-packages (from google-api-core[grpc]!=2.0.*,!=2.1.*,!=2.2.*,!=2.3.0,<3.0.0dev,>=1.31.5->google-cloud-bigquery[bqstorage,pandas]) (1.44.0)\n",
            "Requirement already satisfied: google-crc32c<2.0dev,>=1.0 in /usr/local/lib/python3.9/site-packages (from google-resumable-media<3.0dev,>=0.6.0->google-cloud-bigquery[bqstorage,pandas]) (1.3.0)\n",
            "Requirement already satisfied: pyparsing!=3.0.5,>=2.0.2 in /usr/local/lib/python3.9/site-packages (from packaging<22.0.0dev,>=14.3->google-cloud-bigquery[bqstorage,pandas]) (3.0.7)\n",
            "Requirement already satisfied: pytz>=2020.1 in /usr/local/lib/python3.9/site-packages (from pandas>=1.0.0->google-cloud-bigquery[bqstorage,pandas]) (2021.3)\n",
            "Requirement already satisfied: urllib3<1.27,>=1.21.1 in /usr/local/lib/python3.9/site-packages (from requests->gcsfs) (1.26.9)\n",
            "Requirement already satisfied: charset-normalizer~=2.0.0 in /usr/local/lib/python3.9/site-packages (from requests->gcsfs) (2.0.12)\n",
            "Requirement already satisfied: idna<4,>=2.5 in /usr/local/lib/python3.9/site-packages (from requests->gcsfs) (3.3)\n",
            "Requirement already satisfied: certifi>=2017.4.17 in /usr/local/lib/python3.9/site-packages (from requests->gcsfs) (2021.10.8)\n",
            "Requirement already satisfied: setuptools in /usr/local/lib/python3.9/site-packages (from pandas-gbq) (54.2.0)\n",
            "Requirement already satisfied: pydata-google-auth in /usr/local/lib/python3.9/site-packages (from pandas-gbq) (1.4.0)\n",
            "Requirement already satisfied: requests-oauthlib>=0.7.0 in /usr/local/lib/python3.9/site-packages (from google-auth-oauthlib->gcsfs) (1.3.1)\n",
            "Requirement already satisfied: oauthlib>=3.0.0 in /usr/local/lib/python3.9/site-packages (from requests-oauthlib>=0.7.0->google-auth-oauthlib->gcsfs) (3.2.0)\n",
            "Requirement already satisfied: matplotlib>=2.2 in /usr/local/lib/python3.9/site-packages (from seaborn) (3.5.1)\n",
            "Requirement already satisfied: scipy>=1.0 in /usr/local/lib/python3.9/site-packages (from seaborn) (1.9.0)\n",
            "Requirement already satisfied: pillow>=6.2.0 in /usr/local/lib/python3.9/site-packages (from matplotlib>=2.2->seaborn) (9.0.1)\n",
            "Requirement already satisfied: fonttools>=4.22.0 in /usr/local/lib/python3.9/site-packages (from matplotlib>=2.2->seaborn) (4.30.0)\n",
            "Requirement already satisfied: kiwisolver>=1.0.1 in /usr/local/lib/python3.9/site-packages (from matplotlib>=2.2->seaborn) (1.4.0)\n",
            "Requirement already satisfied: cycler>=0.10 in /usr/local/lib/python3.9/site-packages (from matplotlib>=2.2->seaborn) (0.11.0)\n",
            "Collecting yarl<2.0,>=1.0\n",
            "  Downloading yarl-1.8.1-cp39-cp39-manylinux_2_17_x86_64.manylinux2014_x86_64.whl (264 kB)\n",
            "\u001b[K     |████████████████████████████████| 264 kB 70.1 MB/s eta 0:00:01\n",
            "\u001b[?25hCollecting multidict<7.0,>=4.5\n",
            "  Downloading multidict-6.0.2-cp39-cp39-manylinux_2_17_x86_64.manylinux2014_x86_64.whl (114 kB)\n",
            "\u001b[K     |████████████████████████████████| 114 kB 65.6 MB/s eta 0:00:01\n",
            "\u001b[?25hCollecting frozenlist>=1.1.1\n",
            "  Downloading frozenlist-1.3.1-cp39-cp39-manylinux_2_5_x86_64.manylinux1_x86_64.manylinux_2_17_x86_64.manylinux2014_x86_64.whl (158 kB)\n",
            "\u001b[K     |████████████████████████████████| 158 kB 54.6 MB/s eta 0:00:01\n",
            "\u001b[?25hCollecting async-timeout<5.0,>=4.0.0a3\n",
            "  Downloading async_timeout-4.0.2-py3-none-any.whl (5.8 kB)\n",
            "Collecting aiosignal>=1.1.2\n",
            "  Downloading aiosignal-1.2.0-py3-none-any.whl (8.2 kB)\n",
            "Requirement already satisfied: attrs>=17.3.0 in /usr/local/lib/python3.9/site-packages (from aiohttp->gcsfs) (21.4.0)\n",
            "Installing collected packages: multidict, frozenlist, yarl, async-timeout, aiosignal, aiohttp, gcsfs\n",
            "Successfully installed aiohttp-3.8.1 aiosignal-1.2.0 async-timeout-4.0.2 frozenlist-1.3.1 gcsfs-2022.7.1 multidict-6.0.2 yarl-1.8.1\n",
            "\u001b[33mWARNING: You are using pip version 21.0.1; however, version 22.2.2 is available.\n",
            "You should consider upgrading via the '/usr/local/bin/python3 -m pip install --upgrade pip' command.\u001b[0m\n"
          ]
        }
      ],
      "source": [
        "! pip3 install {USER_FLAG} --upgrade pandas-gbq 'google-cloud-bigquery[bqstorage,pandas]' seaborn fsspec gcsfs\n"
      ]
    },
    {
      "cell_type": "markdown",
      "metadata": {
        "id": "d3a26cb9b19d"
      },
      "source": [
        "### Restart the kernel\n",
        "\n",
        "After you install the additional packages, you need to restart the notebook kernel so it can find the packages."
      ]
    },
    {
      "cell_type": "code",
      "execution_count": 7,
      "metadata": {
        "id": "c1464805870e"
      },
      "outputs": [],
      "source": [
        "# Automatically restart kernel after installs\n",
        "import os\n",
        "\n",
        "if not os.getenv(\"IS_TESTING\"):\n",
        "    # Automatically restart kernel after installs\n",
        "    import IPython\n",
        "\n",
        "    app = IPython.Application.instance()\n",
        "    app.kernel.do_shutdown(True)"
      ]
    },
    {
      "cell_type": "markdown",
      "metadata": {
        "id": "5ed1f5e85640"
      },
      "source": [
        "## Before you begin\n",
        "\n",
        "### Set up your Google Cloud project\n",
        "\n",
        "**The following steps are required, regardless of your notebook environment.**\n",
        "\n",
        "1. [Select or create a Google Cloud project](https://console.cloud.google.com/cloud-resource-manager). When you first create an account, you get a $300 free credit towards your compute/storage costs.\n",
        "\n",
        "1. [Make sure that billing is enabled for your project](https://cloud.google.com/billing/docs/how-to/modify-project).\n",
        "\n",
        "1. [Enable the Vertex AI, Cloud Storage, and Compute Engine APIs](https://console.cloud.google.com/flows/enableapi?apiid=aiplatform.googleapis.com,compute_component,storage-component.googleapis.com). \n",
        "\n",
        "1. [Configure your Google Cloud project for Vertex Pipelines](https://cloud.google.com/vertex-ai/docs/pipelines/configure-project).\n",
        "\n",
        "1. If you are running this notebook locally, you will need to install the [Cloud SDK](https://cloud.google.com/sdk).\n",
        "\n",
        "1. Enter your project ID in the cell below. Then run the cell to make sure the\n",
        "Cloud SDK uses the right project for all the commands in this notebook.\n",
        "\n",
        "**Note**: Jupyter runs lines prefixed with `!` as shell commands, and it interpolates Python variables prefixed with `$` into these commands.\n",
        "\n",
        "### Set your project ID\n",
        "\n",
        "**If you don't know your project ID**, you may be able to get your project ID using `gcloud`."
      ]
    },
    {
      "cell_type": "code",
      "execution_count": 11,
      "metadata": {
        "id": "c3f30148b66d"
      },
      "outputs": [
        {
          "name": "stdout",
          "output_type": "stream",
          "text": [
            "Project ID:  vertex-ai-dev\n"
          ]
        }
      ],
      "source": [
        "import os\n",
        "\n",
        "PROJECT_ID = \"\"\n",
        "\n",
        "# Get your Google Cloud project ID from gcloud\n",
        "if not os.getenv(\"IS_TESTING\"):\n",
        "    shell_output = !gcloud config list --format 'value(core.project)' 2>/dev/null\n",
        "    PROJECT_ID = shell_output[0]\n",
        "    print(\"Project ID: \", PROJECT_ID)"
      ]
    },
    {
      "cell_type": "markdown",
      "metadata": {
        "id": "750bf2883c2d"
      },
      "source": [
        "Otherwise, set your project ID here."
      ]
    },
    {
      "cell_type": "code",
      "execution_count": null,
      "metadata": {
        "id": "3c6db1ca88b9"
      },
      "outputs": [],
      "source": [
        "if PROJECT_ID == \"\" or PROJECT_ID is None:\n",
        "    PROJECT_ID = \"[your-project-id]\"  # @param {type:\"string\"}"
      ]
    },
    {
      "cell_type": "markdown",
      "metadata": {
        "id": "0e5ca6c89ab7"
      },
      "source": [
        "#### UUID\n",
        "\n",
        "If you are in a live tutorial session, you might be using a shared test account or project. To avoid name collisions between users on resources created, you create a uuid for each instance session, and append it onto the name of resources you create in this tutorial.\n"
      ]
    },
    {
      "cell_type": "code",
      "execution_count": 12,
      "metadata": {
        "id": "1105933b5528"
      },
      "outputs": [],
      "source": [
        "import random\n",
        "import string\n",
        "\n",
        "\n",
        "# Generate a uuid of a specifed length(default=8)\n",
        "def generate_uuid(length: int = 8) -> str:\n",
        "    return \"\".join(random.choices(string.ascii_lowercase + string.digits, k=length))\n",
        "\n",
        "\n",
        "UUID = generate_uuid()"
      ]
    },
    {
      "cell_type": "markdown",
      "metadata": {
        "id": "67a2b5ee4efb"
      },
      "source": [
        "### Authenticate your Google Cloud account\n",
        "\n",
        "**If you are using Vertex AI Workbench Notebooks**, your environment is already\n",
        "authenticated. Skip this step."
      ]
    },
    {
      "cell_type": "markdown",
      "metadata": {
        "id": "e44201253746"
      },
      "source": [
        "**If you are using Colab**, run the cell below and follow the instructions\n",
        "when prompted to authenticate your account via oAuth.\n",
        "\n",
        "**Otherwise**, follow these steps:\n",
        "\n",
        "1. In the Cloud Console, go to the [**Create service account key**\n",
        "   page](https://console.cloud.google.com/apis/credentials/serviceaccountkey).\n",
        "\n",
        "2. Click **Create service account**.\n",
        "\n",
        "3. In the **Service account name** field, enter a name, and\n",
        "   click **Create**.\n",
        "\n",
        "4. In the **Grant this service account access to project** section, click the **Role** drop-down list. Type \"Vertex AI\"\n",
        "into the filter box, and select\n",
        "   **Vertex AI Administrator**. Type \"Storage Object Admin\" into the filter box, and select **Storage Object Admin**.\n",
        "\n",
        "5. Click *Create*. A JSON file that contains your key downloads to your\n",
        "local environment.\n",
        "\n",
        "6. Enter the path to your service account key as the\n",
        "`GOOGLE_APPLICATION_CREDENTIALS` variable in the cell below and run the cell."
      ]
    },
    {
      "cell_type": "code",
      "execution_count": null,
      "metadata": {
        "id": "505a908f1d0e"
      },
      "outputs": [],
      "source": [
        "# If you are running this notebook in Colab, run this cell and follow the\n",
        "# instructions to authenticate your GCP account. This provides access to your\n",
        "# Cloud Storage bucket and lets you submit training jobs and prediction\n",
        "# requests.\n",
        "\n",
        "import os\n",
        "import sys\n",
        "\n",
        "# If on Vertex AI Workbench, then don't execute this code\n",
        "IS_COLAB = \"google.colab\" in sys.modules\n",
        "if not os.path.exists(\"/opt/deeplearning/metadata/env_version\") and not os.getenv(\n",
        "    \"DL_ANACONDA_HOME\"\n",
        "):\n",
        "    if \"google.colab\" in sys.modules:\n",
        "        from google.colab import auth as google_auth\n",
        "\n",
        "        google_auth.authenticate_user()\n",
        "\n",
        "    # If you are running this notebook locally, replace the string below with the\n",
        "    # path to your service account key and run this cell to authenticate your GCP\n",
        "    # account.\n",
        "    elif not os.getenv(\"IS_TESTING\"):\n",
        "        %env GOOGLE_APPLICATION_CREDENTIALS ''"
      ]
    },
    {
      "cell_type": "markdown",
      "metadata": {
        "id": "2a1c270c7d34"
      },
      "source": [
        "### Import the required libraries and define constants\n"
      ]
    },
    {
      "cell_type": "code",
      "execution_count": 13,
      "metadata": {
        "id": "acc6fac1fa55"
      },
      "outputs": [],
      "source": [
        "import matplotlib.pyplot as plt\n",
        "import pandas as pd\n",
        "import seaborn as sns\n",
        "from google.cloud import bigquery\n",
        "from google.cloud.bigquery import Client"
      ]
    },
    {
      "cell_type": "code",
      "execution_count": 32,
      "metadata": {
        "id": "a06006dff8f9"
      },
      "outputs": [],
      "source": [
        "DATASET = \"pricing_optimization\" + \"_\" + UUID  # set the BigQuery dataset-id\n",
        "TRAINING_DATA_TABLE = (\n",
        "    \"training_data_table\"  # set the BigQuery table-id to store the training data\n",
        ")"
      ]
    },
    {
      "cell_type": "markdown",
      "metadata": {
        "id": "016c3d47cc69"
      },
      "source": [
        "## Create a BigQuery dataset\n",
        "<a name=\"section-5\"></a>\n"
      ]
    },
    {
      "cell_type": "markdown",
      "metadata": {
        "id": "3a063f530682"
      },
      "source": [
        "If you are using ***Vertex AI Workbench managed notebooks instance***, every cell which starts with \"#@bigquery\" will be a SQL Query. If you are using Vertex AI Workbench user managed notebooks instance or Colab it will be a markdown cell."
      ]
    },
    {
      "cell_type": "markdown",
      "metadata": {
        "id": "12ccd8d7956e"
      },
      "source": [
        "#@bigquery\n",
        "-- create a dataset in BigQuery\n",
        "\n",
        "CREATE SCHEMA [your-dataset-id]\n",
        "OPTIONS(\n",
        "  location=\"us\"\n",
        "  )"
      ]
    },
    {
      "cell_type": "code",
      "execution_count": 28,
      "metadata": {
        "id": "00bd69008c92"
      },
      "outputs": [],
      "source": [
        "# Construct a BigQuery client object.\n",
        "client = Client(project=PROJECT_ID)"
      ]
    },
    {
      "cell_type": "code",
      "execution_count": 47,
      "metadata": {
        "id": "5f7acd204413"
      },
      "outputs": [
        {
          "name": "stdout",
          "output_type": "stream",
          "text": [
            "<google.cloud.bigquery.table._EmptyRowIterator object at 0x7f13b24bedf0>\n"
          ]
        }
      ],
      "source": [
        "query = \"\"\"\n",
        "CREATE SCHEMA {DATASET}\n",
        "OPTIONS(\n",
        "  location=\"us\"\n",
        "  )\n",
        "\"\"\".format(\n",
        "    DATASET=DATASET\n",
        ")\n",
        "query_job = client.query(query)\n",
        "print(query_job.result())"
      ]
    },
    {
      "cell_type": "markdown",
      "metadata": {
        "id": "c106b978a79b"
      },
      "source": [
        "## Load the dataset from Cloud Storage\n",
        "<a name=\"section-6\"></a>\n"
      ]
    },
    {
      "cell_type": "code",
      "execution_count": 15,
      "metadata": {
        "id": "8aeae9da9796"
      },
      "outputs": [
        {
          "name": "stdout",
          "output_type": "stream",
          "text": [
            "(60768, 25)\n"
          ]
        },
        {
          "data": {
            "text/html": [
              "<div>\n",
              "<style scoped>\n",
              "    .dataframe tbody tr th:only-of-type {\n",
              "        vertical-align: middle;\n",
              "    }\n",
              "\n",
              "    .dataframe tbody tr th {\n",
              "        vertical-align: top;\n",
              "    }\n",
              "\n",
              "    .dataframe thead th {\n",
              "        text-align: right;\n",
              "    }\n",
              "</style>\n",
              "<table border=\"1\" class=\"dataframe\">\n",
              "  <thead>\n",
              "    <tr style=\"text-align: right;\">\n",
              "      <th></th>\n",
              "      <th>Fiscal_Date</th>\n",
              "      <th>Product_ID</th>\n",
              "      <th>Client_ID</th>\n",
              "      <th>Customer_Hierarchy</th>\n",
              "      <th>Division</th>\n",
              "      <th>Market</th>\n",
              "      <th>Channel</th>\n",
              "      <th>Customer_code</th>\n",
              "      <th>Customer_Long_Description</th>\n",
              "      <th>Key_Account_Manager</th>\n",
              "      <th>...</th>\n",
              "      <th>Cash_Discounts_and_other_Sales_Deductions</th>\n",
              "      <th>Net_Sales</th>\n",
              "      <th>Variable_Production_Costs_STD</th>\n",
              "      <th>Fixed_Production_Costs_STD</th>\n",
              "      <th>Other_Cost_of_Sales</th>\n",
              "      <th>Standard_Gross_Margin</th>\n",
              "      <th>Transportation_STD</th>\n",
              "      <th>Warehouse_STD</th>\n",
              "      <th>Gross_Margin_After_Logistics</th>\n",
              "      <th>List_Price_Converged</th>\n",
              "    </tr>\n",
              "  </thead>\n",
              "  <tbody>\n",
              "    <tr>\n",
              "      <th>0</th>\n",
              "      <td>2013-06-18 00:00:00</td>\n",
              "      <td>SKU 187</td>\n",
              "      <td>4126</td>\n",
              "      <td>Utilities</td>\n",
              "      <td>Division 747</td>\n",
              "      <td>France</td>\n",
              "      <td>Internet</td>\n",
              "      <td>33424</td>\n",
              "      <td>Old Bond Spirits</td>\n",
              "      <td>929708</td>\n",
              "      <td>...</td>\n",
              "      <td>0</td>\n",
              "      <td>70.490752</td>\n",
              "      <td>-23.715342</td>\n",
              "      <td>-2.941762</td>\n",
              "      <td>0.0</td>\n",
              "      <td>43.833648</td>\n",
              "      <td>-3.597036</td>\n",
              "      <td>-1.143244</td>\n",
              "      <td>39.093368</td>\n",
              "      <td>3.14</td>\n",
              "    </tr>\n",
              "    <tr>\n",
              "      <th>1</th>\n",
              "      <td>2013-01-27 00:00:00</td>\n",
              "      <td>SKU 187</td>\n",
              "      <td>4126</td>\n",
              "      <td>Utilities</td>\n",
              "      <td>Division 747</td>\n",
              "      <td>France</td>\n",
              "      <td>Distributor</td>\n",
              "      <td>33424</td>\n",
              "      <td>Old Bond Spirits</td>\n",
              "      <td>929708</td>\n",
              "      <td>...</td>\n",
              "      <td>0</td>\n",
              "      <td>70.490752</td>\n",
              "      <td>-23.715342</td>\n",
              "      <td>-2.941762</td>\n",
              "      <td>0.0</td>\n",
              "      <td>43.833648</td>\n",
              "      <td>-3.597036</td>\n",
              "      <td>-1.143244</td>\n",
              "      <td>39.093368</td>\n",
              "      <td>3.14</td>\n",
              "    </tr>\n",
              "    <tr>\n",
              "      <th>2</th>\n",
              "      <td>2013-08-23 00:00:00</td>\n",
              "      <td>SKU 187</td>\n",
              "      <td>4126</td>\n",
              "      <td>Utilities</td>\n",
              "      <td>Division 747</td>\n",
              "      <td>France</td>\n",
              "      <td>Internet</td>\n",
              "      <td>33424</td>\n",
              "      <td>Old Bond Spirits</td>\n",
              "      <td>929708</td>\n",
              "      <td>...</td>\n",
              "      <td>0</td>\n",
              "      <td>70.490752</td>\n",
              "      <td>-23.715342</td>\n",
              "      <td>-2.941762</td>\n",
              "      <td>0.0</td>\n",
              "      <td>43.833648</td>\n",
              "      <td>-3.597036</td>\n",
              "      <td>-1.143244</td>\n",
              "      <td>39.093368</td>\n",
              "      <td>3.14</td>\n",
              "    </tr>\n",
              "    <tr>\n",
              "      <th>3</th>\n",
              "      <td>2013-11-04 00:00:00</td>\n",
              "      <td>SKU 187</td>\n",
              "      <td>4126</td>\n",
              "      <td>Utilities</td>\n",
              "      <td>Division 747</td>\n",
              "      <td>France</td>\n",
              "      <td>Internet</td>\n",
              "      <td>33424</td>\n",
              "      <td>Not provided</td>\n",
              "      <td>929708</td>\n",
              "      <td>...</td>\n",
              "      <td>0</td>\n",
              "      <td>70.490752</td>\n",
              "      <td>-23.715342</td>\n",
              "      <td>-2.941762</td>\n",
              "      <td>0.0</td>\n",
              "      <td>43.833648</td>\n",
              "      <td>-3.597036</td>\n",
              "      <td>-1.143244</td>\n",
              "      <td>39.093368</td>\n",
              "      <td>3.14</td>\n",
              "    </tr>\n",
              "    <tr>\n",
              "      <th>4</th>\n",
              "      <td>2012-05-27 00:00:00</td>\n",
              "      <td>SKU 187</td>\n",
              "      <td>4126</td>\n",
              "      <td>Utilities</td>\n",
              "      <td>Division 747</td>\n",
              "      <td>France</td>\n",
              "      <td>Internet</td>\n",
              "      <td>33424</td>\n",
              "      <td>Not provided</td>\n",
              "      <td>929708</td>\n",
              "      <td>...</td>\n",
              "      <td>0</td>\n",
              "      <td>70.490752</td>\n",
              "      <td>-23.715342</td>\n",
              "      <td>-2.941762</td>\n",
              "      <td>0.0</td>\n",
              "      <td>43.833648</td>\n",
              "      <td>-3.597036</td>\n",
              "      <td>-1.143244</td>\n",
              "      <td>39.093368</td>\n",
              "      <td>3.14</td>\n",
              "    </tr>\n",
              "  </tbody>\n",
              "</table>\n",
              "<p>5 rows × 25 columns</p>\n",
              "</div>"
            ],
            "text/plain": [
              "           Fiscal_Date Product_ID  Client_ID Customer_Hierarchy      Division  \\\n",
              "0  2013-06-18 00:00:00    SKU 187       4126          Utilities  Division 747   \n",
              "1  2013-01-27 00:00:00    SKU 187       4126          Utilities  Division 747   \n",
              "2  2013-08-23 00:00:00    SKU 187       4126          Utilities  Division 747   \n",
              "3  2013-11-04 00:00:00    SKU 187       4126          Utilities  Division 747   \n",
              "4  2012-05-27 00:00:00    SKU 187       4126          Utilities  Division 747   \n",
              "\n",
              "   Market      Channel  Customer_code Customer_Long_Description  \\\n",
              "0  France     Internet          33424          Old Bond Spirits   \n",
              "1  France  Distributor          33424          Old Bond Spirits   \n",
              "2  France     Internet          33424          Old Bond Spirits   \n",
              "3  France     Internet          33424              Not provided   \n",
              "4  France     Internet          33424              Not provided   \n",
              "\n",
              "   Key_Account_Manager  ... Cash_Discounts_and_other_Sales_Deductions  \\\n",
              "0               929708  ...                                         0   \n",
              "1               929708  ...                                         0   \n",
              "2               929708  ...                                         0   \n",
              "3               929708  ...                                         0   \n",
              "4               929708  ...                                         0   \n",
              "\n",
              "   Net_Sales  Variable_Production_Costs_STD  Fixed_Production_Costs_STD  \\\n",
              "0  70.490752                     -23.715342                   -2.941762   \n",
              "1  70.490752                     -23.715342                   -2.941762   \n",
              "2  70.490752                     -23.715342                   -2.941762   \n",
              "3  70.490752                     -23.715342                   -2.941762   \n",
              "4  70.490752                     -23.715342                   -2.941762   \n",
              "\n",
              "   Other_Cost_of_Sales  Standard_Gross_Margin  Transportation_STD  \\\n",
              "0                  0.0              43.833648           -3.597036   \n",
              "1                  0.0              43.833648           -3.597036   \n",
              "2                  0.0              43.833648           -3.597036   \n",
              "3                  0.0              43.833648           -3.597036   \n",
              "4                  0.0              43.833648           -3.597036   \n",
              "\n",
              "   Warehouse_STD  Gross_Margin_After_Logistics  List_Price_Converged  \n",
              "0      -1.143244                     39.093368                  3.14  \n",
              "1      -1.143244                     39.093368                  3.14  \n",
              "2      -1.143244                     39.093368                  3.14  \n",
              "3      -1.143244                     39.093368                  3.14  \n",
              "4      -1.143244                     39.093368                  3.14  \n",
              "\n",
              "[5 rows x 25 columns]"
            ]
          },
          "execution_count": 15,
          "metadata": {},
          "output_type": "execute_result"
        }
      ],
      "source": [
        "DATA_LOCATION = \"gs://cloud-samples-data/ai-platform-unified/datasets/tabular/cdm_pricing_large_table.csv\"\n",
        "df = pd.read_csv(DATA_LOCATION)\n",
        "print(df.shape)\n",
        "df.head()"
      ]
    },
    {
      "cell_type": "markdown",
      "metadata": {
        "id": "7b98d5f09842"
      },
      "source": [
        "You will build a forecast model on this data and thus determine the best price for a product. For this type of model, you will not be using many fields: only the sales and price related ones. For the current execrcise, focus on the following fields:\n",
        "\n",
        "- `Product_ID`\n",
        "- `Customer_Hierarchy`\n",
        "- `Fiscal_Date`\n",
        "- `List_Price_Converged`\n",
        "- `Invoiced_quantity_in_Pieces`\n",
        "- `Net_Sales`\n",
        "\n",
        "## Data Analysis\n",
        "<a name=\"section-7\"></a>\n",
        "\n",
        "First, explore the data and distributions.\n",
        "\n",
        "Select the required columns from the dataframe."
      ]
    },
    {
      "cell_type": "code",
      "execution_count": 16,
      "metadata": {
        "id": "af4b41c5eb1f"
      },
      "outputs": [
        {
          "data": {
            "text/html": [
              "<div>\n",
              "<style scoped>\n",
              "    .dataframe tbody tr th:only-of-type {\n",
              "        vertical-align: middle;\n",
              "    }\n",
              "\n",
              "    .dataframe tbody tr th {\n",
              "        vertical-align: top;\n",
              "    }\n",
              "\n",
              "    .dataframe thead th {\n",
              "        text-align: right;\n",
              "    }\n",
              "</style>\n",
              "<table border=\"1\" class=\"dataframe\">\n",
              "  <thead>\n",
              "    <tr style=\"text-align: right;\">\n",
              "      <th></th>\n",
              "      <th>Product_ID</th>\n",
              "      <th>Fiscal_Date</th>\n",
              "      <th>Customer_Hierarchy</th>\n",
              "      <th>List_Price_Converged</th>\n",
              "      <th>Invoiced_quantity_in_Pieces</th>\n",
              "      <th>Net_Sales</th>\n",
              "    </tr>\n",
              "  </thead>\n",
              "  <tbody>\n",
              "    <tr>\n",
              "      <th>0</th>\n",
              "      <td>SKU 187</td>\n",
              "      <td>2013-06-18 00:00:00</td>\n",
              "      <td>Utilities</td>\n",
              "      <td>3.14</td>\n",
              "      <td>128.6592</td>\n",
              "      <td>70.490752</td>\n",
              "    </tr>\n",
              "    <tr>\n",
              "      <th>1</th>\n",
              "      <td>SKU 187</td>\n",
              "      <td>2013-01-27 00:00:00</td>\n",
              "      <td>Utilities</td>\n",
              "      <td>3.14</td>\n",
              "      <td>128.6592</td>\n",
              "      <td>70.490752</td>\n",
              "    </tr>\n",
              "    <tr>\n",
              "      <th>2</th>\n",
              "      <td>SKU 187</td>\n",
              "      <td>2013-08-23 00:00:00</td>\n",
              "      <td>Utilities</td>\n",
              "      <td>3.14</td>\n",
              "      <td>128.6592</td>\n",
              "      <td>70.490752</td>\n",
              "    </tr>\n",
              "    <tr>\n",
              "      <th>3</th>\n",
              "      <td>SKU 187</td>\n",
              "      <td>2013-11-04 00:00:00</td>\n",
              "      <td>Utilities</td>\n",
              "      <td>3.14</td>\n",
              "      <td>128.6592</td>\n",
              "      <td>70.490752</td>\n",
              "    </tr>\n",
              "    <tr>\n",
              "      <th>4</th>\n",
              "      <td>SKU 187</td>\n",
              "      <td>2012-05-27 00:00:00</td>\n",
              "      <td>Utilities</td>\n",
              "      <td>3.14</td>\n",
              "      <td>128.6592</td>\n",
              "      <td>70.490752</td>\n",
              "    </tr>\n",
              "  </tbody>\n",
              "</table>\n",
              "</div>"
            ],
            "text/plain": [
              "  Product_ID          Fiscal_Date Customer_Hierarchy  List_Price_Converged  \\\n",
              "0    SKU 187  2013-06-18 00:00:00          Utilities                  3.14   \n",
              "1    SKU 187  2013-01-27 00:00:00          Utilities                  3.14   \n",
              "2    SKU 187  2013-08-23 00:00:00          Utilities                  3.14   \n",
              "3    SKU 187  2013-11-04 00:00:00          Utilities                  3.14   \n",
              "4    SKU 187  2012-05-27 00:00:00          Utilities                  3.14   \n",
              "\n",
              "   Invoiced_quantity_in_Pieces  Net_Sales  \n",
              "0                     128.6592  70.490752  \n",
              "1                     128.6592  70.490752  \n",
              "2                     128.6592  70.490752  \n",
              "3                     128.6592  70.490752  \n",
              "4                     128.6592  70.490752  "
            ]
          },
          "execution_count": 16,
          "metadata": {},
          "output_type": "execute_result"
        }
      ],
      "source": [
        "id_col = \"Product_ID\"\n",
        "date_col = \"Fiscal_Date\"\n",
        "categ_cols = [\"Customer_Hierarchy\"]\n",
        "num_cols = [\"List_Price_Converged\", \"Invoiced_quantity_in_Pieces\", \"Net_Sales\"]\n",
        "\n",
        "df = df[[id_col, date_col] + categ_cols + num_cols].copy()\n",
        "df.head()"
      ]
    },
    {
      "cell_type": "markdown",
      "metadata": {
        "id": "3d780043ee5b"
      },
      "source": [
        "Check the column types and null values in the dataframe."
      ]
    },
    {
      "cell_type": "code",
      "execution_count": 17,
      "metadata": {
        "id": "f54c445a1288"
      },
      "outputs": [
        {
          "name": "stdout",
          "output_type": "stream",
          "text": [
            "<class 'pandas.core.frame.DataFrame'>\n",
            "RangeIndex: 60768 entries, 0 to 60767\n",
            "Data columns (total 6 columns):\n",
            " #   Column                       Non-Null Count  Dtype  \n",
            "---  ------                       --------------  -----  \n",
            " 0   Product_ID                   60768 non-null  object \n",
            " 1   Fiscal_Date                  60768 non-null  object \n",
            " 2   Customer_Hierarchy           60768 non-null  object \n",
            " 3   List_Price_Converged         60768 non-null  float64\n",
            " 4   Invoiced_quantity_in_Pieces  60768 non-null  float64\n",
            " 5   Net_Sales                    60768 non-null  float64\n",
            "dtypes: float64(3), object(3)\n",
            "memory usage: 2.8+ MB\n"
          ]
        }
      ],
      "source": [
        "df.info()"
      ]
    },
    {
      "cell_type": "markdown",
      "metadata": {
        "id": "cd817b414c4d"
      },
      "source": [
        "This data description reveals that there are no null values in the data. Also, the field `Fiscal_Date` which is a date field is loaded as an object type. \n",
        "\n",
        "Change the type of the date field to datetime."
      ]
    },
    {
      "cell_type": "code",
      "execution_count": 18,
      "metadata": {
        "id": "b160fac085c8"
      },
      "outputs": [],
      "source": [
        "df[\"Fiscal_Date\"] = pd.to_datetime(df[\"Fiscal_Date\"], infer_datetime_format=True)"
      ]
    },
    {
      "cell_type": "markdown",
      "metadata": {
        "id": "fb4778578064"
      },
      "source": [
        "Plot the distributions for the categorical fields."
      ]
    },
    {
      "cell_type": "code",
      "execution_count": 19,
      "metadata": {
        "id": "dd0467cd57c3"
      },
      "outputs": [
        {
          "data": {
            "image/png": "[encoded data removed]",
            "text/plain": [
              "<Figure size 432x288 with 1 Axes>"
            ]
          },
          "metadata": {
            "needs_background": "light"
          },
          "output_type": "display_data"
        }
      ],
      "source": [
        "for i in categ_cols:\n",
        "    df[i].value_counts(normalize=True).plot(kind=\"bar\")\n",
        "    plt.title(i)\n",
        "    plt.show()"
      ]
    },
    {
      "cell_type": "markdown",
      "metadata": {
        "id": "145deed255e0"
      },
      "source": [
        "Plot the distributions for the numerical fields."
      ]
    },
    {
      "cell_type": "code",
      "execution_count": 20,
      "metadata": {
        "id": "f934137c6d82"
      },
      "outputs": [
        {
          "data": {
            "image/png": "[encoded data removed]",
            "text/plain": [
              "<Figure size 720x288 with 2 Axes>"
            ]
          },
          "metadata": {
            "needs_background": "light"
          },
          "output_type": "display_data"
        },
        {
          "data": {
            "image/png": "[encoded data removed]",
            "text/plain": [
              "<Figure size 720x288 with 2 Axes>"
            ]
          },
          "metadata": {
            "needs_background": "light"
          },
          "output_type": "display_data"
        },
        {
          "data": {
            "image/png": "[encoded data removed]",
            "text/plain": [
              "<Figure size 720x288 with 2 Axes>"
            ]
          },
          "metadata": {
            "needs_background": "light"
          },
          "output_type": "display_data"
        }
      ],
      "source": [
        "for i in num_cols:\n",
        "    _, ax = plt.subplots(1, 2, figsize=(10, 4))\n",
        "    df[i].plot(kind=\"box\", ax=ax[0])\n",
        "    df[i].plot(kind=\"hist\", ax=ax[1])\n",
        "    ax[0].set_title(i + \"-Boxplot\")\n",
        "    ax[1].set_title(i + \"-Histogram\")\n",
        "    plt.show()"
      ]
    },
    {
      "cell_type": "markdown",
      "metadata": {
        "id": "f9b9c2e58380"
      },
      "source": [
        "Check the maximum date and minimum date in Fiscal_Date column."
      ]
    },
    {
      "cell_type": "code",
      "execution_count": 21,
      "metadata": {
        "id": "2a10aa689f9d"
      },
      "outputs": [
        {
          "name": "stdout",
          "output_type": "stream",
          "text": [
            "2013-12-31 00:00:00\n",
            "2012-01-01 00:00:00\n"
          ]
        }
      ],
      "source": [
        "print(df[\"Fiscal_Date\"].max())\n",
        "print(df[\"Fiscal_Date\"].min())"
      ]
    },
    {
      "cell_type": "markdown",
      "metadata": {
        "id": "4834f63e2e59"
      },
      "source": [
        "Check the product distribution across each category."
      ]
    },
    {
      "cell_type": "code",
      "execution_count": 22,
      "metadata": {
        "id": "4664877f5304"
      },
      "outputs": [
        {
          "data": {
            "text/html": [
              "<div>\n",
              "<style scoped>\n",
              "    .dataframe tbody tr th:only-of-type {\n",
              "        vertical-align: middle;\n",
              "    }\n",
              "\n",
              "    .dataframe tbody tr th {\n",
              "        vertical-align: top;\n",
              "    }\n",
              "\n",
              "    .dataframe thead th {\n",
              "        text-align: right;\n",
              "    }\n",
              "</style>\n",
              "<table border=\"1\" class=\"dataframe\">\n",
              "  <thead>\n",
              "    <tr style=\"text-align: right;\">\n",
              "      <th></th>\n",
              "      <th>Product_ID</th>\n",
              "    </tr>\n",
              "    <tr>\n",
              "      <th>Customer_Hierarchy</th>\n",
              "      <th></th>\n",
              "    </tr>\n",
              "  </thead>\n",
              "  <tbody>\n",
              "    <tr>\n",
              "      <th>Food</th>\n",
              "      <td>64</td>\n",
              "    </tr>\n",
              "    <tr>\n",
              "      <th>Manufacturing</th>\n",
              "      <td>22</td>\n",
              "    </tr>\n",
              "    <tr>\n",
              "      <th>Paper</th>\n",
              "      <td>116</td>\n",
              "    </tr>\n",
              "    <tr>\n",
              "      <th>Publishing</th>\n",
              "      <td>10</td>\n",
              "    </tr>\n",
              "    <tr>\n",
              "      <th>Utilities</th>\n",
              "      <td>102</td>\n",
              "    </tr>\n",
              "  </tbody>\n",
              "</table>\n",
              "</div>"
            ],
            "text/plain": [
              "                    Product_ID\n",
              "Customer_Hierarchy            \n",
              "Food                        64\n",
              "Manufacturing               22\n",
              "Paper                      116\n",
              "Publishing                  10\n",
              "Utilities                  102"
            ]
          },
          "execution_count": 22,
          "metadata": {},
          "output_type": "execute_result"
        }
      ],
      "source": [
        "grp_cols = [\"Customer_Hierarchy\", \"Product_ID\"]\n",
        "grp_df = df[grp_cols].groupby(by=grp_cols).count().reset_index()\n",
        "grp_df.groupby(\"Customer_Hierarchy\").nunique()"
      ]
    },
    {
      "cell_type": "markdown",
      "metadata": {
        "id": "01ed02b9c8fd"
      },
      "source": [
        "Check the percentage changes in the orders based on the percentage changes in the price."
      ]
    },
    {
      "cell_type": "code",
      "execution_count": 23,
      "metadata": {
        "id": "0b2c428cb135"
      },
      "outputs": [
        {
          "data": {
            "image/png": "[encoded data removed]",
            "text/plain": [
              "<Figure size 432x288 with 1 Axes>"
            ]
          },
          "metadata": {
            "needs_background": "light"
          },
          "output_type": "display_data"
        }
      ],
      "source": [
        "# aggregate the data\n",
        "df_aggr = (\n",
        "    df.groupby([\"Product_ID\", \"List_Price_Converged\"])\n",
        "    .agg({\"Fiscal_Date\": min, \"Invoiced_quantity_in_Pieces\": sum, \"Net_Sales\": sum})\n",
        "    .reset_index()\n",
        ")\n",
        "# rename the aggregated columns\n",
        "df_aggr.rename(\n",
        "    columns={\n",
        "        \"Fiscal_Date\": \"First_price_date\",\n",
        "        \"Invoiced_quantity_in_Pieces\": \"Total_ordered_pieces\",\n",
        "        \"Net_Sales\": \"Total_net_sales\",\n",
        "    },\n",
        "    inplace=True,\n",
        ")\n",
        "\n",
        "# sort values chronologically\n",
        "df_aggr.sort_values(by=[\"Product_ID\", \"First_price_date\"], inplace=True)\n",
        "df_aggr.reset_index(drop=True, inplace=True)\n",
        "\n",
        "# add columns for previous values\n",
        "df_aggr[\"Previous_List\"] = df_aggr.groupby([\"Product_ID\"])[\n",
        "    \"List_Price_Converged\"\n",
        "].shift()\n",
        "df_aggr[\"Previous_Total_ordered_pieces\"] = df_aggr.groupby([\"Product_ID\"])[\n",
        "    \"Total_ordered_pieces\"\n",
        "].shift()\n",
        "\n",
        "# average price change across sku's\n",
        "df_aggr[\"price_change_perc\"] = (\n",
        "    (df_aggr[\"List_Price_Converged\"] - df_aggr[\"Previous_List\"])\n",
        "    / df_aggr[\"Previous_List\"].fillna(0)\n",
        "    * 100\n",
        ")\n",
        "df_aggr[\"order_change_perc\"] = (\n",
        "    (df_aggr[\"Total_ordered_pieces\"] - df_aggr[\"Previous_Total_ordered_pieces\"])\n",
        "    / df_aggr[\"Previous_Total_ordered_pieces\"].fillna(0)\n",
        "    * 100\n",
        ")\n",
        "\n",
        "# plot a scatterplot to visualize the changes\n",
        "sns.scatterplot(\n",
        "    x=\"price_change_perc\",\n",
        "    y=\"order_change_perc\",\n",
        "    data=df_aggr,\n",
        "    hue=\"Product_ID\",\n",
        "    legend=False,\n",
        ")\n",
        "plt.title(\"Percentage of change in price vs order\")\n",
        "plt.show()"
      ]
    },
    {
      "cell_type": "markdown",
      "metadata": {
        "id": "8259e916fe25"
      },
      "source": [
        "For most of the products, the percentage change in orders are high where the percentage changes in the prices are low. This suggests that too much change in the prices can affect the number of orders. \n",
        "\n",
        "**Note**: There seem to be some outliers in the data as percentage changes greater than 800 are found. In the current exercise, do not take any manual measures to deal with outliers as you will create a BigQuery ML timeseries model that already deals with outliers.\n",
        "\n",
        "## Preprocess the data for training\n",
        "<a name=\"section-8\"></a>\n",
        "\n",
        "Check which `Product_ID`'s  have the maximum orders."
      ]
    },
    {
      "cell_type": "code",
      "execution_count": 24,
      "metadata": {
        "id": "f5cbc7709c6a"
      },
      "outputs": [
        {
          "data": {
            "text/html": [
              "<div>\n",
              "<style scoped>\n",
              "    .dataframe tbody tr th:only-of-type {\n",
              "        vertical-align: middle;\n",
              "    }\n",
              "\n",
              "    .dataframe tbody tr th {\n",
              "        vertical-align: top;\n",
              "    }\n",
              "\n",
              "    .dataframe thead th {\n",
              "        text-align: right;\n",
              "    }\n",
              "</style>\n",
              "<table border=\"1\" class=\"dataframe\">\n",
              "  <thead>\n",
              "    <tr style=\"text-align: right;\">\n",
              "      <th></th>\n",
              "      <th>Product_ID</th>\n",
              "      <th>Customer_Hierarchy</th>\n",
              "      <th>Invoiced_quantity_in_Pieces</th>\n",
              "    </tr>\n",
              "  </thead>\n",
              "  <tbody>\n",
              "    <tr>\n",
              "      <th>249</th>\n",
              "      <td>SKU 62</td>\n",
              "      <td>Food</td>\n",
              "      <td>1.034613e+07</td>\n",
              "    </tr>\n",
              "    <tr>\n",
              "      <th>102</th>\n",
              "      <td>SKU 17</td>\n",
              "      <td>Manufacturing</td>\n",
              "      <td>3.553495e+06</td>\n",
              "    </tr>\n",
              "    <tr>\n",
              "      <th>13</th>\n",
              "      <td>SKU 107</td>\n",
              "      <td>Paper</td>\n",
              "      <td>2.960422e+07</td>\n",
              "    </tr>\n",
              "    <tr>\n",
              "      <th>286</th>\n",
              "      <td>SKU 8</td>\n",
              "      <td>Publishing</td>\n",
              "      <td>1.264818e+04</td>\n",
              "    </tr>\n",
              "    <tr>\n",
              "      <th>67</th>\n",
              "      <td>SKU 140</td>\n",
              "      <td>Utilities</td>\n",
              "      <td>6.308081e+06</td>\n",
              "    </tr>\n",
              "  </tbody>\n",
              "</table>\n",
              "</div>"
            ],
            "text/plain": [
              "    Product_ID Customer_Hierarchy  Invoiced_quantity_in_Pieces\n",
              "249     SKU 62               Food                 1.034613e+07\n",
              "102     SKU 17      Manufacturing                 3.553495e+06\n",
              "13     SKU 107              Paper                 2.960422e+07\n",
              "286      SKU 8         Publishing                 1.264818e+04\n",
              "67     SKU 140          Utilities                 6.308081e+06"
            ]
          },
          "execution_count": 24,
          "metadata": {},
          "output_type": "execute_result"
        }
      ],
      "source": [
        "df_orders = df.groupby([\"Product_ID\", \"Customer_Hierarchy\"], as_index=False)[\n",
        "    \"Invoiced_quantity_in_Pieces\"\n",
        "].sum()\n",
        "df_orders.loc[\n",
        "    df_orders.groupby(\"Customer_Hierarchy\")[\"Invoiced_quantity_in_Pieces\"].idxmax()\n",
        "]"
      ]
    },
    {
      "cell_type": "markdown",
      "metadata": {
        "id": "fd6d227e513e"
      },
      "source": [
        "From the above result, you can infer the following:\n",
        "\n",
        "- Under the **Food** category, **SKU 62** has the maximum orders.\n",
        "- Under the **Manufacturing** category, **SKU 17** has the maximum orders.\n",
        "- Under the **Paper** category, **SKU 107** has the maximum orders.\n",
        "- Under the **Publishing** category, **SKU 8** has the maximum orders.\n",
        "- Under the **Utilities** category, **SKU 140** has the maximum orders.\n",
        "\n",
        "Given that there are too many ids and only a few records for most of them, consider only the above `Product_ID`s for which there are a maximum number of orders. \n",
        "\n",
        "**Note**: The `Invoiced_quantity_in_Pieces` field seems to be a *float* type rather than an *int* type as it should be. This could be because the data itself might be averaged in the first place."
      ]
    },
    {
      "cell_type": "markdown",
      "metadata": {
        "id": "2dbc0d64d157"
      },
      "source": [
        "Check the various prices available for these `Product_ID`s."
      ]
    },
    {
      "cell_type": "code",
      "execution_count": 25,
      "metadata": {
        "id": "acc1dbd2d838"
      },
      "outputs": [
        {
          "name": "stdout",
          "output_type": "stream",
          "text": [
            "Food :\n",
            "6.77    18\n",
            "3.05    18\n",
            "4.23    18\n",
            "2.11    18\n",
            "1.89    18\n",
            "1.84    18\n",
            "Name: List_Price_Converged, dtype: int64\n",
            "Manufacturing :\n",
            "2.62    18\n",
            "2.88    18\n",
            "Name: List_Price_Converged, dtype: int64\n",
            "Paper :\n",
            "2.77    36\n",
            "2.83    18\n",
            "3.25    18\n",
            "2.74    18\n",
            "2.80    18\n",
            "2.84    18\n",
            "2.33    18\n",
            "2.88    18\n",
            "2.87    18\n",
            "2.37    18\n",
            "2.76    18\n",
            "2.59    18\n",
            "3.08    18\n",
            "2.92    18\n",
            "2.94    18\n",
            "3.16    18\n",
            "2.60    18\n",
            "2.75    18\n",
            "3.85    18\n",
            "3.21    18\n",
            "4.73    18\n",
            "3.05    18\n",
            "3.14    18\n",
            "2.98    18\n",
            "3.48    18\n",
            "3.44    18\n",
            "3.39    18\n",
            "4.44    18\n",
            "3.09    18\n",
            "3.11    18\n",
            "3.60    18\n",
            "2.79    18\n",
            "3.58    18\n",
            "2.49    18\n",
            "1.94    18\n",
            "2.05    18\n",
            "2.08    18\n",
            "3.76    18\n",
            "2.64    18\n",
            "Name: List_Price_Converged, dtype: int64\n",
            "Publishing :\n",
            "1.58    18\n",
            "Name: List_Price_Converged, dtype: int64\n",
            "Utilities :\n",
            "1.95    1116\n",
            "1.92     954\n",
            "2.09     810\n",
            "Name: List_Price_Converged, dtype: int64\n"
          ]
        }
      ],
      "source": [
        "df_type_food = df[(df[\"Product_ID\"] == \"SKU 62\") & (df[\"Customer_Hierarchy\"] == \"Food\")]\n",
        "print(\"Food :\")\n",
        "print(df_type_food[\"List_Price_Converged\"].value_counts())\n",
        "df_type_manuf = df[\n",
        "    (df[\"Product_ID\"] == \"SKU 17\") & (df[\"Customer_Hierarchy\"] == \"Manufacturing\")\n",
        "]\n",
        "print(\"Manufacturing :\")\n",
        "print(df_type_manuf[\"List_Price_Converged\"].value_counts())\n",
        "df_type_paper = df[\n",
        "    (df[\"Product_ID\"] == \"SKU 107\") & (df[\"Customer_Hierarchy\"] == \"Paper\")\n",
        "]\n",
        "print(\"Paper :\")\n",
        "print(df_type_paper[\"List_Price_Converged\"].value_counts())\n",
        "df_type_pub = df[\n",
        "    (df[\"Product_ID\"] == \"SKU 8\") & (df[\"Customer_Hierarchy\"] == \"Publishing\")\n",
        "]\n",
        "print(\"Publishing :\")\n",
        "print(df_type_pub[\"List_Price_Converged\"].value_counts())\n",
        "df_type_util = df[\n",
        "    (df[\"Product_ID\"] == \"SKU 140\") & (df[\"Customer_Hierarchy\"] == \"Utilities\")\n",
        "]\n",
        "print(\"Utilities :\")\n",
        "print(df_type_util[\"List_Price_Converged\"].value_counts())"
      ]
    },
    {
      "cell_type": "markdown",
      "metadata": {
        "id": "f023af578c0f"
      },
      "source": [
        "In the publishing category, `Product_ID` `SKU 8` and `SKU 17` are less than or equal to two different prices in the entire data and so you will exclude them and consider the rest for building the forecast model. The idea here is to train a forecast model on the timeseries data for products with different prices.\n",
        "\n",
        "Join the data for all the `Product_ID`s into one dataframe and remove duplicate records."
      ]
    },
    {
      "cell_type": "code",
      "execution_count": 26,
      "metadata": {
        "id": "a44771cc4c20"
      },
      "outputs": [
        {
          "data": {
            "text/html": [
              "<div>\n",
              "<style scoped>\n",
              "    .dataframe tbody tr th:only-of-type {\n",
              "        vertical-align: middle;\n",
              "    }\n",
              "\n",
              "    .dataframe tbody tr th {\n",
              "        vertical-align: top;\n",
              "    }\n",
              "\n",
              "    .dataframe thead th {\n",
              "        text-align: right;\n",
              "    }\n",
              "</style>\n",
              "<table border=\"1\" class=\"dataframe\">\n",
              "  <thead>\n",
              "    <tr style=\"text-align: right;\">\n",
              "      <th></th>\n",
              "      <th>Product_ID</th>\n",
              "      <th>Fiscal_Date</th>\n",
              "      <th>Customer_Hierarchy</th>\n",
              "      <th>List_Price_Converged</th>\n",
              "      <th>Invoiced_quantity_in_Pieces</th>\n",
              "    </tr>\n",
              "  </thead>\n",
              "  <tbody>\n",
              "    <tr>\n",
              "      <th>0</th>\n",
              "      <td>SKU 62</td>\n",
              "      <td>2012-03-22</td>\n",
              "      <td>Food</td>\n",
              "      <td>6.77</td>\n",
              "      <td>101888.136</td>\n",
              "    </tr>\n",
              "    <tr>\n",
              "      <th>1</th>\n",
              "      <td>SKU 62</td>\n",
              "      <td>2013-10-29</td>\n",
              "      <td>Food</td>\n",
              "      <td>6.77</td>\n",
              "      <td>101888.136</td>\n",
              "    </tr>\n",
              "    <tr>\n",
              "      <th>2</th>\n",
              "      <td>SKU 62</td>\n",
              "      <td>2012-10-09</td>\n",
              "      <td>Food</td>\n",
              "      <td>6.77</td>\n",
              "      <td>101888.136</td>\n",
              "    </tr>\n",
              "    <tr>\n",
              "      <th>3</th>\n",
              "      <td>SKU 62</td>\n",
              "      <td>2012-07-06</td>\n",
              "      <td>Food</td>\n",
              "      <td>6.77</td>\n",
              "      <td>101888.136</td>\n",
              "    </tr>\n",
              "    <tr>\n",
              "      <th>4</th>\n",
              "      <td>SKU 62</td>\n",
              "      <td>2012-04-08</td>\n",
              "      <td>Food</td>\n",
              "      <td>6.77</td>\n",
              "      <td>101888.136</td>\n",
              "    </tr>\n",
              "  </tbody>\n",
              "</table>\n",
              "</div>"
            ],
            "text/plain": [
              "  Product_ID Fiscal_Date Customer_Hierarchy  List_Price_Converged  \\\n",
              "0     SKU 62  2012-03-22               Food                  6.77   \n",
              "1     SKU 62  2013-10-29               Food                  6.77   \n",
              "2     SKU 62  2012-10-09               Food                  6.77   \n",
              "3     SKU 62  2012-07-06               Food                  6.77   \n",
              "4     SKU 62  2012-04-08               Food                  6.77   \n",
              "\n",
              "   Invoiced_quantity_in_Pieces  \n",
              "0                   101888.136  \n",
              "1                   101888.136  \n",
              "2                   101888.136  \n",
              "3                   101888.136  \n",
              "4                   101888.136  "
            ]
          },
          "execution_count": 26,
          "metadata": {},
          "output_type": "execute_result"
        }
      ],
      "source": [
        "df_final = pd.concat([df_type_food, df_type_paper, df_type_util])\n",
        "df_final = (\n",
        "    df_final[\n",
        "        [\n",
        "            \"Product_ID\",\n",
        "            \"Fiscal_Date\",\n",
        "            \"Customer_Hierarchy\",\n",
        "            \"List_Price_Converged\",\n",
        "            \"Invoiced_quantity_in_Pieces\",\n",
        "        ]\n",
        "    ]\n",
        "    .drop_duplicates()\n",
        "    .reset_index(drop=True)\n",
        ")\n",
        "df_final.head()"
      ]
    },
    {
      "cell_type": "markdown",
      "metadata": {
        "id": "add5063df368"
      },
      "source": [
        "Save the data to a BigQuery table."
      ]
    },
    {
      "cell_type": "code",
      "execution_count": 48,
      "metadata": {
        "id": "fd82ba56571f"
      },
      "outputs": [
        {
          "data": {
            "text/plain": [
              "LoadJob<project=vertex-ai-dev, location=US, id=6d0cba0d-ed51-402d-8f16-d6632b512a59>"
            ]
          },
          "execution_count": 48,
          "metadata": {},
          "output_type": "execute_result"
        }
      ],
      "source": [
        "bq_client = bigquery.Client(project=PROJECT_ID)\n",
        "\n",
        "job_config = bigquery.LoadJobConfig(\n",
        "    # Specify a (partial) schema. All columns are always written to the\n",
        "    # table. The schema is used to assist in data type definitions.\n",
        "    schema=[\n",
        "        bigquery.SchemaField(\"Product_ID\", bigquery.enums.SqlTypeNames.STRING),\n",
        "        bigquery.SchemaField(\"Fiscal_Date\", bigquery.enums.SqlTypeNames.DATE),\n",
        "        bigquery.SchemaField(\"List_Price_Converged\", bigquery.enums.SqlTypeNames.FLOAT),\n",
        "        bigquery.SchemaField(\n",
        "            \"Invoiced_quantity_in_Pieces\", bigquery.enums.SqlTypeNames.FLOAT\n",
        "        ),\n",
        "    ],\n",
        "    # Optionally, set the write disposition. BigQuery appends loaded rows\n",
        "    # to an existing table by default, but with WRITE_TRUNCATE write\n",
        "    # disposition it replaces the table with the loaded data.\n",
        "    write_disposition=\"WRITE_TRUNCATE\",\n",
        ")\n",
        "\n",
        "# save the dataframe to a table in the created dataset\n",
        "job = bq_client.load_table_from_dataframe(\n",
        "    df_final,\n",
        "    \"{}.{}.{}\".format(PROJECT_ID, DATASET, TRAINING_DATA_TABLE),\n",
        "    job_config=job_config,\n",
        ")  # Make an API request.\n",
        "job.result()  # Wait for the job to complete."
      ]
    },
    {
      "cell_type": "markdown",
      "metadata": {
        "id": "fca77641b03b"
      },
      "source": [
        "# Train the model using BigQuery ML\n",
        "<a name=\"section-9\"></a>\n",
        "\n",
        "Train an [Arima-Plus](https://cloud.google.com/bigquery-ml/docs/reference/standard-sql/bigqueryml-syntax-create-time-series) model on the data using BigQuery ML."
      ]
    },
    {
      "cell_type": "markdown",
      "metadata": {
        "id": "cded27507891"
      },
      "source": [
        "#@bigquery\n",
        "create or replace model [your-dataset-id].bqml_arima\n",
        "options\n",
        " (model_type = 'ARIMA_PLUS',\n",
        "  time_series_timestamp_col = 'Fiscal_Date',\n",
        "  time_series_data_col = 'Invoiced_quantity_in_Pieces',\n",
        "  time_series_id_col = 'ID'\n",
        " ) as\n",
        "select\n",
        " Fiscal_Date,\n",
        " Concat(Product_ID,\"_\" ,Cast(List_Price_Converged as string)) as ID,\n",
        " Invoiced_quantity_in_Pieces\n",
        "from\n",
        " [your-dataset-id].TRAINING_DATA\n"
      ]
    },
    {
      "cell_type": "code",
      "execution_count": 39,
      "metadata": {
        "id": "e25254d219b7"
      },
      "outputs": [
        {
          "name": "stdout",
          "output_type": "stream",
          "text": [
            "<google.cloud.bigquery.table._EmptyRowIterator object at 0x7f13b8878fd0>\n"
          ]
        }
      ],
      "source": [
        "query = \"\"\"\n",
        "create or replace model `{PROJECT_ID}.{DATASET}.bqml_arima`\n",
        "options\n",
        " (model_type = 'ARIMA_PLUS',\n",
        "  time_series_timestamp_col = 'Fiscal_Date',\n",
        "  time_series_data_col = 'Invoiced_quantity_in_Pieces',\n",
        "  time_series_id_col = 'ID'\n",
        " ) as\n",
        "select\n",
        " Fiscal_Date,\n",
        " Concat(Product_ID,\"_\" ,Cast(List_Price_Converged as string)) as ID,\n",
        " Invoiced_quantity_in_Pieces\n",
        "from\n",
        " `{DATASET}.{TRAINING_DATA_TABLE}`\"\"\".format(\n",
        "    PROJECT_ID=PROJECT_ID, DATASET=DATASET, TRAINING_DATA_TABLE=TRAINING_DATA_TABLE\n",
        ")\n",
        "query_job = client.query(query)\n",
        "print(query_job.result())"
      ]
    },
    {
      "cell_type": "markdown",
      "metadata": {
        "id": "332fd11ff32b"
      },
      "source": [
        "## Generate forecasts from the model\n",
        "<a name=\"section-10\"></a>\n",
        "\n",
        "Predict the sales for the next 30 days for each id and save to a dataframe."
      ]
    },
    {
      "cell_type": "code",
      "execution_count": 40,
      "metadata": {
        "id": "ef926cdbf28e"
      },
      "outputs": [
        {
          "data": {
            "text/html": [
              "<div>\n",
              "<style scoped>\n",
              "    .dataframe tbody tr th:only-of-type {\n",
              "        vertical-align: middle;\n",
              "    }\n",
              "\n",
              "    .dataframe tbody tr th {\n",
              "        vertical-align: top;\n",
              "    }\n",
              "\n",
              "    .dataframe thead th {\n",
              "        text-align: right;\n",
              "    }\n",
              "</style>\n",
              "<table border=\"1\" class=\"dataframe\">\n",
              "  <thead>\n",
              "    <tr style=\"text-align: right;\">\n",
              "      <th></th>\n",
              "      <th>ID</th>\n",
              "      <th>forecast_timestamp</th>\n",
              "      <th>forecast_value</th>\n",
              "      <th>standard_error</th>\n",
              "      <th>confidence_level</th>\n",
              "      <th>prediction_interval_lower_bound</th>\n",
              "      <th>prediction_interval_upper_bound</th>\n",
              "      <th>confidence_interval_lower_bound</th>\n",
              "      <th>confidence_interval_upper_bound</th>\n",
              "    </tr>\n",
              "  </thead>\n",
              "  <tbody>\n",
              "    <tr>\n",
              "      <th>0</th>\n",
              "      <td>SKU 107_1.94</td>\n",
              "      <td>2013-11-13 00:00:00+00:00</td>\n",
              "      <td>39401.88</td>\n",
              "      <td>0.0</td>\n",
              "      <td>0.9</td>\n",
              "      <td>39401.88</td>\n",
              "      <td>39401.88</td>\n",
              "      <td>39401.88</td>\n",
              "      <td>39401.88</td>\n",
              "    </tr>\n",
              "    <tr>\n",
              "      <th>1</th>\n",
              "      <td>SKU 107_1.94</td>\n",
              "      <td>2013-12-18 00:00:00+00:00</td>\n",
              "      <td>39401.88</td>\n",
              "      <td>0.0</td>\n",
              "      <td>0.9</td>\n",
              "      <td>39401.88</td>\n",
              "      <td>39401.88</td>\n",
              "      <td>39401.88</td>\n",
              "      <td>39401.88</td>\n",
              "    </tr>\n",
              "    <tr>\n",
              "      <th>2</th>\n",
              "      <td>SKU 107_1.94</td>\n",
              "      <td>2014-01-22 00:00:00+00:00</td>\n",
              "      <td>39401.88</td>\n",
              "      <td>0.0</td>\n",
              "      <td>0.9</td>\n",
              "      <td>39401.88</td>\n",
              "      <td>39401.88</td>\n",
              "      <td>39401.88</td>\n",
              "      <td>39401.88</td>\n",
              "    </tr>\n",
              "    <tr>\n",
              "      <th>3</th>\n",
              "      <td>SKU 107_1.94</td>\n",
              "      <td>2014-02-26 00:00:00+00:00</td>\n",
              "      <td>39401.88</td>\n",
              "      <td>0.0</td>\n",
              "      <td>0.9</td>\n",
              "      <td>39401.88</td>\n",
              "      <td>39401.88</td>\n",
              "      <td>39401.88</td>\n",
              "      <td>39401.88</td>\n",
              "    </tr>\n",
              "    <tr>\n",
              "      <th>4</th>\n",
              "      <td>SKU 107_1.94</td>\n",
              "      <td>2014-04-02 00:00:00+00:00</td>\n",
              "      <td>39401.88</td>\n",
              "      <td>0.0</td>\n",
              "      <td>0.9</td>\n",
              "      <td>39401.88</td>\n",
              "      <td>39401.88</td>\n",
              "      <td>39401.88</td>\n",
              "      <td>39401.88</td>\n",
              "    </tr>\n",
              "  </tbody>\n",
              "</table>\n",
              "</div>"
            ],
            "text/plain": [
              "             ID        forecast_timestamp  forecast_value  standard_error  \\\n",
              "0  SKU 107_1.94 2013-11-13 00:00:00+00:00        39401.88             0.0   \n",
              "1  SKU 107_1.94 2013-12-18 00:00:00+00:00        39401.88             0.0   \n",
              "2  SKU 107_1.94 2014-01-22 00:00:00+00:00        39401.88             0.0   \n",
              "3  SKU 107_1.94 2014-02-26 00:00:00+00:00        39401.88             0.0   \n",
              "4  SKU 107_1.94 2014-04-02 00:00:00+00:00        39401.88             0.0   \n",
              "\n",
              "   confidence_level  prediction_interval_lower_bound  \\\n",
              "0               0.9                         39401.88   \n",
              "1               0.9                         39401.88   \n",
              "2               0.9                         39401.88   \n",
              "3               0.9                         39401.88   \n",
              "4               0.9                         39401.88   \n",
              "\n",
              "   prediction_interval_upper_bound  confidence_interval_lower_bound  \\\n",
              "0                         39401.88                         39401.88   \n",
              "1                         39401.88                         39401.88   \n",
              "2                         39401.88                         39401.88   \n",
              "3                         39401.88                         39401.88   \n",
              "4                         39401.88                         39401.88   \n",
              "\n",
              "   confidence_interval_upper_bound  \n",
              "0                         39401.88  \n",
              "1                         39401.88  \n",
              "2                         39401.88  \n",
              "3                         39401.88  \n",
              "4                         39401.88  "
            ]
          },
          "execution_count": 40,
          "metadata": {},
          "output_type": "execute_result"
        }
      ],
      "source": [
        "query = '''\n",
        "DECLARE HORIZON STRING DEFAULT \"30\"; #number of values to forecast\n",
        "DECLARE CONFIDENCE_LEVEL STRING DEFAULT \"0.90\"; ## required confidence level\n",
        "\n",
        "EXECUTE IMMEDIATE format(\"\"\"\n",
        "    SELECT\n",
        "      *\n",
        "    FROM \n",
        "      ML.FORECAST(MODEL {DATASET}.bqml_arima, \n",
        "                  STRUCT(%s AS horizon, \n",
        "                         %s AS confidence_level)\n",
        "                 )\n",
        "    \"\"\",HORIZON,CONFIDENCE_LEVEL)'''.format(\n",
        "    DATASET=DATASET\n",
        ")\n",
        "job = client.query(query)\n",
        "dfforecast = job.to_dataframe()\n",
        "dfforecast.head()"
      ]
    },
    {
      "cell_type": "markdown",
      "metadata": {
        "id": "608c7de72dae"
      },
      "source": [
        "## Interpret the results to choose the best price\n",
        "<a name=\"section-11\"></a>\n",
        "\n",
        "Calculate average forecast values for the forecast duration."
      ]
    },
    {
      "cell_type": "code",
      "execution_count": 41,
      "metadata": {
        "id": "e1e193680400"
      },
      "outputs": [],
      "source": [
        "dfforecast_avg = (\n",
        "    dfforecast[[\"ID\", \"forecast_value\"]].groupby(\"ID\", as_index=False).mean()\n",
        ")"
      ]
    },
    {
      "cell_type": "markdown",
      "metadata": {
        "id": "5ce395d652a3"
      },
      "source": [
        "Extract the ID and Price fields from the ID field."
      ]
    },
    {
      "cell_type": "code",
      "execution_count": 42,
      "metadata": {
        "id": "452c56fa58ed"
      },
      "outputs": [],
      "source": [
        "dfforecast_avg[\"Product_ID\"] = dfforecast_avg[\"ID\"].apply(lambda x: x.split(\"_\")[0])\n",
        "dfforecast_avg[\"Price\"] = dfforecast_avg[\"ID\"].apply(lambda x: x.split(\"_\")[1])"
      ]
    },
    {
      "cell_type": "markdown",
      "metadata": {
        "id": "3cee67f4028f"
      },
      "source": [
        "Plot the average forecasted sales vs. the price of the product."
      ]
    },
    {
      "cell_type": "code",
      "execution_count": 43,
      "metadata": {
        "id": "fb351c8f383d"
      },
      "outputs": [
        {
          "data": {
            "image/png": "[encoded data removed]",
            "text/plain": [
              "<Figure size 432x288 with 1 Axes>"
            ]
          },
          "metadata": {
            "needs_background": "light"
          },
          "output_type": "display_data"
        },
        {
          "data": {
            "image/png": "[encoded data removed]",
            "text/plain": [
              "<Figure size 432x288 with 1 Axes>"
            ]
          },
          "metadata": {
            "needs_background": "light"
          },
          "output_type": "display_data"
        },
        {
          "data": {
            "image/png": "[encoded data removed]",
            "text/plain": [
              "<Figure size 432x288 with 1 Axes>"
            ]
          },
          "metadata": {
            "needs_background": "light"
          },
          "output_type": "display_data"
        }
      ],
      "source": [
        "for i in dfforecast_avg[\"Product_ID\"].unique():\n",
        "    dfforecast_avg[dfforecast_avg[\"Product_ID\"] == i].set_index(\"Price\").sort_values(\n",
        "        \"forecast_value\"\n",
        "    ).plot(kind=\"bar\")\n",
        "    plt.title(\"Price vs. Average Sales for \" + i)\n",
        "    plt.show()"
      ]
    },
    {
      "cell_type": "markdown",
      "metadata": {
        "id": "67ff3acc74a5"
      },
      "source": [
        "Based on the plots for price vs. the average forecasted orders, it can be said that to use the maximum orders, each of the considered `Product_ID`s can follow the below prices:\n",
        "\n",
        "- SKU 107's price range can be from 4.44 - 4.73 units\n",
        "- SKU 140's price can be 1.95 units\n",
        "- SKU 62's price can be 4.23 units\n",
        "\n",
        "\n",
        "## Clean Up\n",
        "<a name=\"section-12\"></a>\n",
        "\n",
        "To clean up all Google Cloud resources used in this project, you can [delete the Google Cloud project](https://cloud.google.com/resource-manager/docs/creating-managing-projects#shutting_down_projects) you used for the tutorial.\n",
        "\n",
        "Otherwise, you can delete the individual resources you created in this tutorial. The following code deletes the entire dataset."
      ]
    },
    {
      "cell_type": "code",
      "execution_count": 44,
      "metadata": {
        "id": "d78908b8134d"
      },
      "outputs": [
        {
          "name": "stdout",
          "output_type": "stream",
          "text": [
            "Deleted dataset 'vertex-ai-dev.pricing_optimization_lgmxa22b'.\n"
          ]
        }
      ],
      "source": [
        "# Set dataset_id to the ID of the dataset to fetch.\n",
        "dataset_id = \"{PROJECT_ID}.{DATASET}\".format(PROJECT_ID=PROJECT_ID, DATASET=DATASET)\n",
        "\n",
        "# Use the delete_contents parameter to delete a dataset and its contents.\n",
        "# Use the not_found_ok parameter to not receive an error if the dataset has already been deleted.\n",
        "client.delete_dataset(\n",
        "    dataset_id, delete_contents=True, not_found_ok=True\n",
        ")  # Make an API request.\n",
        "\n",
        "print(\"Deleted dataset '{}'.\".format(dataset_id))"
      ]
    }
  ],
  "metadata": {
    "colab": {
      "name": "pricing-optimization.ipynb",
      "toc_visible": true
    },
    "kernelspec": {
      "display_name": "Python 3",
      "name": "python3"
    }
  },
  "nbformat": 4,
  "nbformat_minor": 0
}
