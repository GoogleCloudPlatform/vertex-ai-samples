{
  "cells": [
    {
      "cell_type": "code",
      "execution_count": null,
      "metadata": {
        "id": "d1cc1c1fa076"
      },
      "outputs": [],
      "source": [
        "# Copyright 2022 Google LLC\n",
        "#\n",
        "# Licensed under the Apache License, Version 2.0 (the \"License\");\n",
        "# you may not use this file except in compliance with the License.\n",
        "# You may obtain a copy of the License at\n",
        "#\n",
        "#     https://www.apache.org/licenses/LICENSE-2.0\n",
        "#\n",
        "# Unless required by applicable law or agreed to in writing, software\n",
        "# distributed under the License is distributed on an \"AS IS\" BASIS,\n",
        "# WITHOUT WARRANTIES OR CONDITIONS OF ANY KIND, either express or implied.\n",
        "# See the License for the specific language governing permissions and\n",
        "# limitations under the License."
      ]
    },
    {
      "cell_type": "markdown",
      "metadata": {
        "id": "9751bc48dbcb"
      },
      "source": [
        "# Analysis of pricing optimization on CDM Pricing Data\n",
        "\n",
        "<table align=\"left\">\n",
        "\n",
        "  <td>\n",
        "    <a href=\"https://colab.research.google.com/github/GoogleCloudPlatform/vertex-ai-samples/blob/main/notebooks/official/workbench/pricing_optimization/pricing-optimization.ipynb\">\n",
        "      <img src=\"https://cloud.google.com/ml-engine/images/colab-logo-32px.png\" alt=\"Colab logo\"> Run in Colab\n",
        "    </a>\n",
        "  </td>\n",
        "  <td>\n",
        "    <a href=\"https://github.com/GoogleCloudPlatform/vertex-ai-samples/blob/main/notebooks/official/workbench/pricing_optimization/pricing-optimization.ipynb\">\n",
        "      <img src=\"https://cloud.google.com/ml-engine/images/github-logo-32px.png\" alt=\"GitHub logo\">\n",
        "      View on GitHub\n",
        "    </a>\n",
        "  </td>\n",
        "  <td>\n",
        "    <a href=\"https://console.cloud.google.com/vertex-ai/workbench/deploy-notebook?download_url=https://raw.githubusercontent.com/GoogleCloudPlatform/vertex-ai-samples/main/notebooks/official/workbench/pricing_optimization/pricing-optimization.ipynb\">\n",
        "      <img src=\"https://lh3.googleusercontent.com/UiNooY4LUgW_oTvpsNhPpQzsstV5W8F7rYgxgGBD85cWJoLmrOzhVs_ksK_vgx40SHs7jCqkTkCk=e14-rj-sc0xffffff-h130-w32\" alt=\"Vertex AI logo\">\n",
        "      Open in Vertex AI Workbench\n",
        "    </a>\n",
        "  </td>                                                                                               \n",
        "</table>"
      ]
    },
    {
      "cell_type": "markdown",
      "metadata": {
        "id": "cd1268747961"
      },
      "source": [
        "## Table of contents\n",
        "* [Overview](#section-1)\n",
        "* [Objective](#section-2)\n",
        "* [Dataset](#section-3)\n",
        "* [Costs](#section-4)\n",
        "* [Create a BigQuery dataset](#section-5)\n",
        "* [Load the dataset from Cloud Storage](#section-6)\n",
        "* [Data analysis](#section-7)\n",
        "* [Preprocess the data for training](#section-8)\n",
        "* [Train the model using BigQuery ML](#section-9)\n",
        "* [Generate forecasts from the model](#section-10)\n",
        "* [Interpret the results to choose the best price](#section-11)\n",
        "* [Clean up](#section-12)\n"
      ]
    },
    {
      "cell_type": "markdown",
      "metadata": {
        "id": "8414ceb17c47"
      },
      "source": [
        "## Overview\n",
        "<a name=\"section-1\"></a>\n",
        "\n",
        "This notebook demonstrates analysis of pricing optimization on [CDM Pricing Data](https://github.com/trifacta/trifacta-google-cloud/tree/main/design-pattern-pricing-optimization) and automating the workflow using Vertex AI Workbench managed notebooks.\n",
        "\n",
        "*Note: This notebook file was developed to run in a [Vertex AI Workbench managed notebooks](https://console.cloud.google.com/vertex-ai/workbench/list/managed) instance using the Python (Local) kernel. Some components of this notebook may not work in other notebook environments.*"
      ]
    },
    {
      "cell_type": "markdown",
      "metadata": {
        "id": "71f69cfdff2b"
      },
      "source": [
        "## Objective\n",
        "<a name=\"section-2\"></a>\n",
        "\n",
        "The objective of this notebook is to build a pricing optimization model using BigQuery ML. The following steps have been followed:  \n",
        "\n",
        "This tutorial uses the following Google Cloud ML services and resources:\n",
        "\n",
        "- Google Cloud Storage\n",
        "- BigQuery\n",
        "\n",
        "\n",
        "The steps performed include:\n",
        "\n",
        "- Load the required dataset from a Cloud Storage bucket.\n",
        "- Analyze the fields present in the dataset.\n",
        "- Process the data to build a model.\n",
        "- Build a BigQuery ML forecast model on the processed data.\n",
        "- Get forecasted values from the BigQuery ML model.\n",
        "- Interpret the forecasts to identify the best prices.\n",
        "- Clean up.\n"
      ]
    },
    {
      "cell_type": "markdown",
      "metadata": {
        "id": "d20422a5c34d"
      },
      "source": [
        "## Dataset\n",
        "<a name=\"section-3\"></a>\n",
        "\n",
        "The dataset used in this notebook is a part of the [CDM Pricing dataset](https://github.com/trifacta/trifacta-google-cloud/blob/main/design-pattern-pricing-optimization/CDM_Pricing_large_table.csv), which consists of product sales information on specified dates."
      ]
    },
    {
      "cell_type": "markdown",
      "metadata": {
        "id": "c05bcd30859d"
      },
      "source": [
        "## Costs\n",
        "<a name=\"section-4\"></a>\n",
        "\n",
        "This tutorial uses the following billable components of Google Cloud:\n",
        "\n",
        "- Vertex AI\n",
        "- BigQuery\n",
        "- Cloud Storage\n",
        "\n",
        "\n",
        "Learn about [Vertex AI\n",
        "pricing](https://cloud.google.com/vertex-ai/pricing), [BigQuery pricing](https://cloud.google.com/bigquery/pricing) and [Cloud Storage\n",
        "pricing](https://cloud.google.com/storage/pricing), and use the [Pricing\n",
        "Calculator](https://cloud.google.com/products/calculator/)\n",
        "to generate a cost estimate based on your projected usage."
      ]
    },
    {
      "cell_type": "markdown",
      "metadata": {
        "id": "f5494c42606e"
      },
      "source": [
        "### Set up your local development environment\n",
        "\n",
        "**If you are using Colab or Vertex AI Workbench Notebooks**, your environment already meets\n",
        "all the requirements to run this notebook. You can skip this step.\n",
        "\n",
        "**Otherwise**, make sure your environment meets this notebook's requirements.\n",
        "You need the following:\n",
        "\n",
        "* The Google Cloud SDK\n",
        "* Git\n",
        "* Python 3\n",
        "* virtualenv\n",
        "* Jupyter notebook running in a virtual environment with Python 3\n",
        "\n",
        "The Google Cloud guide to [Setting up a Python development\n",
        "environment](https://cloud.google.com/python/setup) and the [Jupyter\n",
        "installation guide](https://jupyter.org/install) provide detailed instructions\n",
        "for meeting these requirements. The following steps provide a condensed set of\n",
        "instructions:\n",
        "\n",
        "1. [Install and initialize the Cloud SDK.](https://cloud.google.com/sdk/docs/)\n",
        "\n",
        "1. [Install Python 3.](https://cloud.google.com/python/setup#installing_python)\n",
        "\n",
        "1. [Install\n",
        "   virtualenv](https://cloud.google.com/python/setup#installing_and_using_virtualenv)\n",
        "   and create a virtual environment that uses Python 3. Activate the virtual environment.\n",
        "\n",
        "1. To install Jupyter, run `pip3 install jupyter` on the\n",
        "command-line in a terminal shell.\n",
        "\n",
        "1. To launch Jupyter, run `jupyter notebook` on the command-line in a terminal shell.\n",
        "\n",
        "1. Open this notebook in the Jupyter Notebook Dashboard."
      ]
    },
    {
      "cell_type": "markdown",
      "metadata": {
        "id": "2bed1491312f"
      },
      "source": [
        "### Install additional packages\n"
      ]
    },
    {
      "cell_type": "code",
      "execution_count": null,
      "metadata": {
        "id": "1fd00fa70a2a"
      },
      "outputs": [],
      "source": [
        "import os\n",
        "\n",
        "# The Vertex AI Workbench Notebook product has specific requirements\n",
        "IS_WORKBENCH_NOTEBOOK = os.getenv(\"DL_ANACONDA_HOME\")\n",
        "IS_USER_MANAGED_WORKBENCH_NOTEBOOK = os.path.exists(\n",
        "    \"/opt/deeplearning/metadata/env_version\"\n",
        ")\n",
        "\n",
        "# Vertex AI Notebook requires dependencies to be installed with '--user'\n",
        "USER_FLAG = \"\"\n",
        "if IS_WORKBENCH_NOTEBOOK:\n",
        "    USER_FLAG = \"--user\""
      ]
    },
    {
      "cell_type": "code",
      "execution_count": null,
      "metadata": {
        "id": "25fffcad67f0"
      },
      "outputs": [],
      "source": [
        "! pip3 install {USER_FLAG} --upgrade pandas-gbq 'google-cloud-bigquery[bqstorage,pandas]' seaborn fsspec gcsfs -q\n"
      ]
    },
    {
      "cell_type": "markdown",
      "metadata": {
        "id": "d3a26cb9b19d"
      },
      "source": [
        "### Restart the kernel\n",
        "\n",
        "After you install the additional packages, you need to restart the notebook kernel so it can find the packages."
      ]
    },
    {
      "cell_type": "code",
      "execution_count": null,
      "metadata": {
        "id": "c1464805870e"
      },
      "outputs": [],
      "source": [
        "# Automatically restart kernel after installs\n",
        "import os\n",
        "\n",
        "if not os.getenv(\"IS_TESTING\"):\n",
        "    # Automatically restart kernel after installs\n",
        "    import IPython\n",
        "\n",
        "    app = IPython.Application.instance()\n",
        "    app.kernel.do_shutdown(True)"
      ]
    },
    {
      "cell_type": "markdown",
      "metadata": {
        "id": "5ed1f5e85640"
      },
      "source": [
        "## Before you begin\n",
        "\n",
        "### Set up your Google Cloud project\n",
        "\n",
        "**The following steps are required, regardless of your notebook environment.**\n",
        "\n",
        "1. [Select or create a Google Cloud project](https://console.cloud.google.com/cloud-resource-manager). When you first create an account, you get a $300 free credit towards your compute/storage costs.\n",
        "\n",
        "1. [Make sure that billing is enabled for your project](https://cloud.google.com/billing/docs/how-to/modify-project).\n",
        "\n",
        "1. [Enable the Vertex AI, Cloud Storage, and Compute Engine APIs](https://console.cloud.google.com/flows/enableapi?apiid=aiplatform.googleapis.com,compute_component,storage-component.googleapis.com). \n",
        "\n",
        "1. [Configure your Google Cloud project for Vertex Pipelines](https://cloud.google.com/vertex-ai/docs/pipelines/configure-project).\n",
        "\n",
        "1. If you are running this notebook locally, you will need to install the [Cloud SDK](https://cloud.google.com/sdk).\n",
        "\n",
        "1. Enter your project ID in the cell below. Then run the cell to make sure the\n",
        "Cloud SDK uses the right project for all the commands in this notebook.\n",
        "\n",
        "**Note**: Jupyter runs lines prefixed with `!` as shell commands, and it interpolates Python variables prefixed with `$` into these commands.\n",
        "\n",
        "### Set your project ID\n",
        "\n",
        "**If you don't know your project ID**, you may be able to get your project ID using `gcloud`."
      ]
    },
    {
      "cell_type": "code",
      "execution_count": null,
      "metadata": {
        "id": "c3f30148b66d"
      },
      "outputs": [],
      "source": [
        "PROJECT_ID = \"[your-project-id]\"  # @param {type:\"string\"}"
      ]
    },
    {
      "cell_type": "code",
      "execution_count": null,
      "metadata": {
        "id": "750bf2883c2d"
      },
      "outputs": [],
      "source": [
        "if PROJECT_ID == \"\" or PROJECT_ID is None or PROJECT_ID == \"[your-project-id]\":\n",
        "    # Get your GCP project id from gcloud\n",
        "    shell_output = ! gcloud config list --format 'value(core.project)' 2>/dev/null\n",
        "    PROJECT_ID = shell_output[0]\n",
        "    print(\"Project ID:\", PROJECT_ID)"
      ]
    },
    {
      "cell_type": "code",
      "execution_count": null,
      "metadata": {
        "id": "30e64c0eda41"
      },
      "outputs": [],
      "source": [
        "! gcloud config set project $PROJECT_ID"
      ]
    },
    {
      "cell_type": "markdown",
      "metadata": {
        "id": "0e5ca6c89ab7"
      },
      "source": [
        "#### UUID\n",
        "\n",
        "If you are in a live tutorial session, you might be using a shared test account or project. To avoid name collisions between users on resources created, you create a uuid for each instance session, and append it onto the name of resources you create in this tutorial.\n"
      ]
    },
    {
      "cell_type": "code",
      "execution_count": null,
      "metadata": {
        "id": "1105933b5528"
      },
      "outputs": [],
      "source": [
        "import random\n",
        "import string\n",
        "\n",
        "\n",
        "# Generate a uuid of a specifed length(default=8)\n",
        "def generate_uuid(length: int = 8) -> str:\n",
        "    return \"\".join(random.choices(string.ascii_lowercase + string.digits, k=length))\n",
        "\n",
        "\n",
        "UUID = generate_uuid()"
      ]
    },
    {
      "cell_type": "markdown",
      "metadata": {
        "id": "67a2b5ee4efb"
      },
      "source": [
        "### Authenticate your Google Cloud account\n",
        "\n",
        "**If you are using Vertex AI Workbench Notebooks**, your environment is already\n",
        "authenticated. Skip this step."
      ]
    },
    {
      "cell_type": "markdown",
      "metadata": {
        "id": "e44201253746"
      },
      "source": [
        "**If you are using Colab**, run the cell below and follow the instructions\n",
        "when prompted to authenticate your account via oAuth.\n",
        "\n",
        "**Otherwise**, follow these steps:\n",
        "\n",
        "1. In the Cloud Console, go to the [**Create service account key**\n",
        "   page](https://console.cloud.google.com/apis/credentials/serviceaccountkey).\n",
        "\n",
        "2. Click **Create service account**.\n",
        "\n",
        "3. In the **Service account name** field, enter a name, and\n",
        "   click **Create**.\n",
        "\n",
        "4. In the **Grant this service account access to project** section, click the **Role** drop-down list. Type \"Vertex AI\"\n",
        "into the filter box, and select\n",
        "   **Vertex AI Administrator**. Type \"Storage Object Admin\" into the filter box, and select **Storage Object Admin**.\n",
        "\n",
        "5. Click *Create*. A JSON file that contains your key downloads to your\n",
        "local environment.\n",
        "\n",
        "6. Enter the path to your service account key as the\n",
        "`GOOGLE_APPLICATION_CREDENTIALS` variable in the cell below and run the cell."
      ]
    },
    {
      "cell_type": "code",
      "execution_count": null,
      "metadata": {
        "id": "505a908f1d0e"
      },
      "outputs": [],
      "source": [
        "# If you are running this notebook in Colab, run this cell and follow the\n",
        "# instructions to authenticate your GCP account. This provides access to your\n",
        "# Cloud Storage bucket and lets you submit training jobs and prediction\n",
        "# requests.\n",
        "\n",
        "import os\n",
        "import sys\n",
        "\n",
        "# If on Vertex AI Workbench, then don't execute this code\n",
        "IS_COLAB = \"google.colab\" in sys.modules\n",
        "if not os.path.exists(\"/opt/deeplearning/metadata/env_version\") and not os.getenv(\n",
        "    \"DL_ANACONDA_HOME\"\n",
        "):\n",
        "    if \"google.colab\" in sys.modules:\n",
        "        from google.colab import auth as google_auth\n",
        "\n",
        "        google_auth.authenticate_user()\n",
        "\n",
        "    # If you are running this notebook locally, replace the string below with the\n",
        "    # path to your service account key and run this cell to authenticate your GCP\n",
        "    # account.\n",
        "    elif not os.getenv(\"IS_TESTING\"):\n",
        "        %env GOOGLE_APPLICATION_CREDENTIALS ''"
      ]
    },
    {
      "cell_type": "markdown",
      "metadata": {
        "id": "2a1c270c7d34"
      },
      "source": [
        "### Import the required libraries and define constants\n"
      ]
    },
    {
      "cell_type": "code",
      "execution_count": null,
      "metadata": {
        "id": "acc6fac1fa55"
      },
      "outputs": [],
      "source": [
        "import matplotlib.pyplot as plt\n",
        "import pandas as pd\n",
        "import seaborn as sns\n",
        "from google.cloud import bigquery\n",
        "from google.cloud.bigquery import Client"
      ]
    },
    {
      "cell_type": "markdown",
      "metadata": {
        "id": "3d5ff24d3194"
      },
      "source": [
        "#### Set the BigQuery dataset ID and table ID"
      ]
    },
    {
      "cell_type": "code",
      "execution_count": null,
      "metadata": {
        "id": "a06006dff8f9"
      },
      "outputs": [],
      "source": [
        "DATASET = \"pricing_optimization\" + \"_\" + UUID  # set the BigQuery dataset-id\n",
        "TRAINING_DATA_TABLE = (\n",
        "    \"training_data_table\"  # set the BigQuery table-id to store the training data\n",
        ")"
      ]
    },
    {
      "cell_type": "markdown",
      "metadata": {
        "id": "016c3d47cc69"
      },
      "source": [
        "## Create a BigQuery dataset\n",
        "<a name=\"section-5\"></a>\n"
      ]
    },
    {
      "cell_type": "markdown",
      "metadata": {
        "id": "3a063f530682"
      },
      "source": [
        "If you are using ***Vertex AI Workbench managed notebooks instance***, every cell which starts with \"#@bigquery\" will be a SQL Query. If you are using Vertex AI Workbench user managed notebooks instance or Colab it will be a markdown cell."
      ]
    },
    {
      "cell_type": "markdown",
      "metadata": {
        "id": "12ccd8d7956e"
      },
      "source": [
        "#@bigquery\n",
        "-- create a dataset in BigQuery\n",
        "\n",
        "CREATE SCHEMA [your-dataset-id]\n",
        "OPTIONS(\n",
        "  location=\"us\"\n",
        "  )"
      ]
    },
    {
      "cell_type": "code",
      "execution_count": null,
      "metadata": {
        "id": "00bd69008c92"
      },
      "outputs": [],
      "source": [
        "# Construct a BigQuery client object.\n",
        "client = Client(project=PROJECT_ID)"
      ]
    },
    {
      "cell_type": "code",
      "execution_count": null,
      "metadata": {
        "id": "5f7acd204413"
      },
      "outputs": [],
      "source": [
        "query = \"\"\"\n",
        "CREATE SCHEMA {DATASET}\n",
        "OPTIONS(\n",
        "  location=\"us\"\n",
        "  )\n",
        "\"\"\".format(\n",
        "    DATASET=DATASET\n",
        ")\n",
        "query_job = client.query(query)\n",
        "print(query_job.result())"
      ]
    },
    {
      "cell_type": "markdown",
      "metadata": {
        "id": "c106b978a79b"
      },
      "source": [
        "## Load the dataset from Cloud Storage\n",
        "<a name=\"section-6\"></a>\n"
      ]
    },
    {
      "cell_type": "code",
      "execution_count": null,
      "metadata": {
        "id": "8aeae9da9796"
      },
      "outputs": [],
      "source": [
        "DATA_LOCATION = \"gs://cloud-samples-data/ai-platform-unified/datasets/tabular/cdm_pricing_large_table.csv\"\n",
        "df = pd.read_csv(DATA_LOCATION)\n",
        "print(df.shape)\n",
        "df.head()"
      ]
    },
    {
      "cell_type": "markdown",
      "metadata": {
        "id": "7b98d5f09842"
      },
      "source": [
        "You build a forecast model on this data and thus determine the best price for a product. For this type of model, you will not be using many fields: only the sales and price related ones. For the current execrcise, focus on the following fields:\n",
        "\n",
        "- `Product_ID`\n",
        "- `Customer_Hierarchy`\n",
        "- `Fiscal_Date`\n",
        "- `List_Price_Converged`\n",
        "- `Invoiced_quantity_in_Pieces`\n",
        "- `Net_Sales`\n",
        "\n",
        "## Data Analysis\n",
        "<a name=\"section-7\"></a>\n",
        "\n",
        "First, explore the data and distributions.\n",
        "\n",
        "#### Select the required columns from the dataframe."
      ]
    },
    {
      "cell_type": "code",
      "execution_count": null,
      "metadata": {
        "id": "af4b41c5eb1f"
      },
      "outputs": [],
      "source": [
        "id_col = \"Product_ID\"\n",
        "date_col = \"Fiscal_Date\"\n",
        "categ_cols = [\"Customer_Hierarchy\"]\n",
        "num_cols = [\"List_Price_Converged\", \"Invoiced_quantity_in_Pieces\", \"Net_Sales\"]\n",
        "\n",
        "df = df[[id_col, date_col] + categ_cols + num_cols].copy()\n",
        "df.head()"
      ]
    },
    {
      "cell_type": "markdown",
      "metadata": {
        "id": "3d780043ee5b"
      },
      "source": [
        "#### Check the column types and null values in the dataframe."
      ]
    },
    {
      "cell_type": "code",
      "execution_count": null,
      "metadata": {
        "id": "f54c445a1288"
      },
      "outputs": [],
      "source": [
        "df.info()"
      ]
    },
    {
      "cell_type": "markdown",
      "metadata": {
        "id": "cd817b414c4d"
      },
      "source": [
        "This data description reveals that there are no null values in the data. Also, the field `Fiscal_Date` which is a date field is loaded as an object type. \n",
        "\n",
        "#### Change the type of the date field to datetime."
      ]
    },
    {
      "cell_type": "code",
      "execution_count": null,
      "metadata": {
        "id": "b160fac085c8"
      },
      "outputs": [],
      "source": [
        "df[\"Fiscal_Date\"] = pd.to_datetime(df[\"Fiscal_Date\"], infer_datetime_format=True)"
      ]
    },
    {
      "cell_type": "markdown",
      "metadata": {
        "id": "fb4778578064"
      },
      "source": [
        "#### Plot the distributions for the categorical fields."
      ]
    },
    {
      "cell_type": "code",
      "execution_count": null,
      "metadata": {
        "id": "dd0467cd57c3"
      },
      "outputs": [],
      "source": [
        "for i in categ_cols:\n",
        "    df[i].value_counts(normalize=True).plot(kind=\"bar\")\n",
        "    plt.title(i)\n",
        "    plt.show()"
      ]
    },
    {
      "cell_type": "markdown",
      "metadata": {
        "id": "145deed255e0"
      },
      "source": [
        "#### Plot the distributions for the numerical fields."
      ]
    },
    {
      "cell_type": "code",
      "execution_count": null,
      "metadata": {
        "id": "f934137c6d82"
      },
      "outputs": [],
      "source": [
        "for i in num_cols:\n",
        "    _, ax = plt.subplots(1, 2, figsize=(10, 4))\n",
        "    df[i].plot(kind=\"box\", ax=ax[0])\n",
        "    df[i].plot(kind=\"hist\", ax=ax[1])\n",
        "    ax[0].set_title(i + \"-Boxplot\")\n",
        "    ax[1].set_title(i + \"-Histogram\")\n",
        "    plt.show()"
      ]
    },
    {
      "cell_type": "markdown",
      "metadata": {
        "id": "f9b9c2e58380"
      },
      "source": [
        "#### Check the maximum date and minimum date in Fiscal_Date column."
      ]
    },
    {
      "cell_type": "code",
      "execution_count": null,
      "metadata": {
        "id": "2a10aa689f9d"
      },
      "outputs": [],
      "source": [
        "print(df[\"Fiscal_Date\"].max())\n",
        "print(df[\"Fiscal_Date\"].min())"
      ]
    },
    {
      "cell_type": "markdown",
      "metadata": {
        "id": "4834f63e2e59"
      },
      "source": [
        "#### Check the product distribution across each category."
      ]
    },
    {
      "cell_type": "code",
      "execution_count": null,
      "metadata": {
        "id": "4664877f5304"
      },
      "outputs": [],
      "source": [
        "grp_cols = [\"Customer_Hierarchy\", \"Product_ID\"]\n",
        "grp_df = df[grp_cols].groupby(by=grp_cols).count().reset_index()\n",
        "grp_df.groupby(\"Customer_Hierarchy\").nunique()"
      ]
    },
    {
      "cell_type": "markdown",
      "metadata": {
        "id": "01ed02b9c8fd"
      },
      "source": [
        "#### Check the percentage changes in the orders based on the percentage changes in the price."
      ]
    },
    {
      "cell_type": "code",
      "execution_count": null,
      "metadata": {
        "id": "0b2c428cb135"
      },
      "outputs": [],
      "source": [
        "# aggregate the data\n",
        "df_aggr = (\n",
        "    df.groupby([\"Product_ID\", \"List_Price_Converged\"])\n",
        "    .agg({\"Fiscal_Date\": min, \"Invoiced_quantity_in_Pieces\": sum, \"Net_Sales\": sum})\n",
        "    .reset_index()\n",
        ")\n",
        "# rename the aggregated columns\n",
        "df_aggr.rename(\n",
        "    columns={\n",
        "        \"Fiscal_Date\": \"First_price_date\",\n",
        "        \"Invoiced_quantity_in_Pieces\": \"Total_ordered_pieces\",\n",
        "        \"Net_Sales\": \"Total_net_sales\",\n",
        "    },\n",
        "    inplace=True,\n",
        ")\n",
        "\n",
        "# sort values chronologically\n",
        "df_aggr.sort_values(by=[\"Product_ID\", \"First_price_date\"], inplace=True)\n",
        "df_aggr.reset_index(drop=True, inplace=True)\n",
        "\n",
        "# add columns for previous values\n",
        "df_aggr[\"Previous_List\"] = df_aggr.groupby([\"Product_ID\"])[\n",
        "    \"List_Price_Converged\"\n",
        "].shift()\n",
        "df_aggr[\"Previous_Total_ordered_pieces\"] = df_aggr.groupby([\"Product_ID\"])[\n",
        "    \"Total_ordered_pieces\"\n",
        "].shift()\n",
        "\n",
        "# average price change across sku's\n",
        "df_aggr[\"price_change_perc\"] = (\n",
        "    (df_aggr[\"List_Price_Converged\"] - df_aggr[\"Previous_List\"])\n",
        "    / df_aggr[\"Previous_List\"].fillna(0)\n",
        "    * 100\n",
        ")\n",
        "df_aggr[\"order_change_perc\"] = (\n",
        "    (df_aggr[\"Total_ordered_pieces\"] - df_aggr[\"Previous_Total_ordered_pieces\"])\n",
        "    / df_aggr[\"Previous_Total_ordered_pieces\"].fillna(0)\n",
        "    * 100\n",
        ")\n",
        "\n",
        "# plot a scatterplot to visualize the changes\n",
        "sns.scatterplot(\n",
        "    x=\"price_change_perc\",\n",
        "    y=\"order_change_perc\",\n",
        "    data=df_aggr,\n",
        "    hue=\"Product_ID\",\n",
        "    legend=False,\n",
        ")\n",
        "plt.title(\"Percentage of change in price vs order\")\n",
        "plt.show()"
      ]
    },
    {
      "cell_type": "markdown",
      "metadata": {
        "id": "8259e916fe25"
      },
      "source": [
        "For most of the products, the percentage change in orders are high where the percentage changes in the prices are low. This suggests that too much change in the prices can affect the number of orders. \n",
        "\n",
        "**Note**: There seem to be some outliers in the data as percentage changes greater than 800 are found. In the current exercise, do not take any manual measures to deal with outliers as you will create a BigQuery ML timeseries model that already deals with outliers.\n",
        "\n",
        "## Preprocess the data for training\n",
        "<a name=\"section-8\"></a>\n",
        "\n",
        "#### Check which `Product_ID`'s  have the maximum orders."
      ]
    },
    {
      "cell_type": "code",
      "execution_count": null,
      "metadata": {
        "id": "f5cbc7709c6a"
      },
      "outputs": [],
      "source": [
        "df_orders = df.groupby([\"Product_ID\", \"Customer_Hierarchy\"], as_index=False)[\n",
        "    \"Invoiced_quantity_in_Pieces\"\n",
        "].sum()\n",
        "df_orders.loc[\n",
        "    df_orders.groupby(\"Customer_Hierarchy\")[\"Invoiced_quantity_in_Pieces\"].idxmax()\n",
        "]"
      ]
    },
    {
      "cell_type": "markdown",
      "metadata": {
        "id": "fd6d227e513e"
      },
      "source": [
        "From the above result, you can infer the following:\n",
        "\n",
        "- Under the **Food** category, **SKU 62** has the maximum orders.\n",
        "- Under the **Manufacturing** category, **SKU 17** has the maximum orders.\n",
        "- Under the **Paper** category, **SKU 107** has the maximum orders.\n",
        "- Under the **Publishing** category, **SKU 8** has the maximum orders.\n",
        "- Under the **Utilities** category, **SKU 140** has the maximum orders.\n",
        "\n",
        "Given that there are too many ids and only a few records for most of them, consider only the above `Product_ID`s for which there are a maximum number of orders. \n",
        "\n",
        "**Note**: The `Invoiced_quantity_in_Pieces` field seems to be a *float* type rather than an *int* type as it should be. This could be because the data itself might be averaged in the first place."
      ]
    },
    {
      "cell_type": "markdown",
      "metadata": {
        "id": "2dbc0d64d157"
      },
      "source": [
        "#### Check the various prices available for these `Product_ID`s."
      ]
    },
    {
      "cell_type": "code",
      "execution_count": null,
      "metadata": {
        "id": "acc1dbd2d838"
      },
      "outputs": [],
      "source": [
        "df_type_food = df[(df[\"Product_ID\"] == \"SKU 62\") & (df[\"Customer_Hierarchy\"] == \"Food\")]\n",
        "print(\"Food :\")\n",
        "print(df_type_food[\"List_Price_Converged\"].value_counts())\n",
        "df_type_manuf = df[\n",
        "    (df[\"Product_ID\"] == \"SKU 17\") & (df[\"Customer_Hierarchy\"] == \"Manufacturing\")\n",
        "]\n",
        "print(\"Manufacturing :\")\n",
        "print(df_type_manuf[\"List_Price_Converged\"].value_counts())\n",
        "df_type_paper = df[\n",
        "    (df[\"Product_ID\"] == \"SKU 107\") & (df[\"Customer_Hierarchy\"] == \"Paper\")\n",
        "]\n",
        "print(\"Paper :\")\n",
        "print(df_type_paper[\"List_Price_Converged\"].value_counts())\n",
        "df_type_pub = df[\n",
        "    (df[\"Product_ID\"] == \"SKU 8\") & (df[\"Customer_Hierarchy\"] == \"Publishing\")\n",
        "]\n",
        "print(\"Publishing :\")\n",
        "print(df_type_pub[\"List_Price_Converged\"].value_counts())\n",
        "df_type_util = df[\n",
        "    (df[\"Product_ID\"] == \"SKU 140\") & (df[\"Customer_Hierarchy\"] == \"Utilities\")\n",
        "]\n",
        "print(\"Utilities :\")\n",
        "print(df_type_util[\"List_Price_Converged\"].value_counts())"
      ]
    },
    {
      "cell_type": "markdown",
      "metadata": {
        "id": "f023af578c0f"
      },
      "source": [
        "In the publishing category, `Product_ID` `SKU 8` and `SKU 17` are less than or equal to two different prices in the entire data and so you exclude them and consider the rest for building the forecast model. The idea here is to train a forecast model on the timeseries data for products with different prices.\n",
        "\n",
        "#### Join the data for all the `Product_ID`s into one dataframe and remove duplicate records."
      ]
    },
    {
      "cell_type": "code",
      "execution_count": null,
      "metadata": {
        "id": "a44771cc4c20"
      },
      "outputs": [],
      "source": [
        "df_final = pd.concat([df_type_food, df_type_paper, df_type_util])\n",
        "df_final = (\n",
        "    df_final[\n",
        "        [\n",
        "            \"Product_ID\",\n",
        "            \"Fiscal_Date\",\n",
        "            \"Customer_Hierarchy\",\n",
        "            \"List_Price_Converged\",\n",
        "            \"Invoiced_quantity_in_Pieces\",\n",
        "        ]\n",
        "    ]\n",
        "    .drop_duplicates()\n",
        "    .reset_index(drop=True)\n",
        ")\n",
        "df_final.head()"
      ]
    },
    {
      "cell_type": "markdown",
      "metadata": {
        "id": "add5063df368"
      },
      "source": [
        "#### Save the data to a BigQuery table."
      ]
    },
    {
      "cell_type": "code",
      "execution_count": null,
      "metadata": {
        "id": "fd82ba56571f"
      },
      "outputs": [],
      "source": [
        "bq_client = bigquery.Client(project=PROJECT_ID)\n",
        "\n",
        "job_config = bigquery.LoadJobConfig(\n",
        "    # Specify a (partial) schema. All columns are always written to the\n",
        "    # table. The schema is used to assist in data type definitions.\n",
        "    schema=[\n",
        "        bigquery.SchemaField(\"Product_ID\", bigquery.enums.SqlTypeNames.STRING),\n",
        "        bigquery.SchemaField(\"Fiscal_Date\", bigquery.enums.SqlTypeNames.DATE),\n",
        "        bigquery.SchemaField(\"List_Price_Converged\", bigquery.enums.SqlTypeNames.FLOAT),\n",
        "        bigquery.SchemaField(\n",
        "            \"Invoiced_quantity_in_Pieces\", bigquery.enums.SqlTypeNames.FLOAT\n",
        "        ),\n",
        "    ],\n",
        "    # Optionally, set the write disposition. BigQuery appends loaded rows\n",
        "    # to an existing table by default, but with WRITE_TRUNCATE write\n",
        "    # disposition it replaces the table with the loaded data.\n",
        "    write_disposition=\"WRITE_TRUNCATE\",\n",
        ")\n",
        "\n",
        "# save the dataframe to a table in the created dataset\n",
        "job = bq_client.load_table_from_dataframe(\n",
        "    df_final,\n",
        "    \"{}.{}.{}\".format(PROJECT_ID, DATASET, TRAINING_DATA_TABLE),\n",
        "    job_config=job_config,\n",
        ")  # Make an API request.\n",
        "print(job.result())  # Wait for the job to complete."
      ]
    },
    {
      "cell_type": "markdown",
      "metadata": {
        "id": "fca77641b03b"
      },
      "source": [
        "# Train the model using BigQuery ML\n",
        "<a name=\"section-9\"></a>\n",
        "\n",
        "Train an [Arima-Plus](https://cloud.google.com/bigquery-ml/docs/reference/standard-sql/bigqueryml-syntax-create-time-series) model on the data using BigQuery ML."
      ]
    },
    {
      "cell_type": "markdown",
      "metadata": {
        "id": "cded27507891"
      },
      "source": [
        "#@bigquery\n",
        "create or replace model [your-dataset-id].bqml_arima\n",
        "options\n",
        " (model_type = 'ARIMA_PLUS',\n",
        "  time_series_timestamp_col = 'Fiscal_Date',\n",
        "  time_series_data_col = 'Invoiced_quantity_in_Pieces',\n",
        "  time_series_id_col = 'ID'\n",
        " ) as\n",
        "select\n",
        " Fiscal_Date,\n",
        " Concat(Product_ID,\"_\" ,Cast(List_Price_Converged as string)) as ID,\n",
        " Invoiced_quantity_in_Pieces\n",
        "from\n",
        " [your-dataset-id].TRAINING_DATA\n"
      ]
    },
    {
      "cell_type": "code",
      "execution_count": null,
      "metadata": {
        "id": "e25254d219b7"
      },
      "outputs": [],
      "source": [
        "query = \"\"\"\n",
        "create or replace model `{PROJECT_ID}.{DATASET}.bqml_arima`\n",
        "options\n",
        " (model_type = 'ARIMA_PLUS',\n",
        "  time_series_timestamp_col = 'Fiscal_Date',\n",
        "  time_series_data_col = 'Invoiced_quantity_in_Pieces',\n",
        "  time_series_id_col = 'ID'\n",
        " ) as\n",
        "select\n",
        " Fiscal_Date,\n",
        " Concat(Product_ID,\"_\" ,Cast(List_Price_Converged as string)) as ID,\n",
        " Invoiced_quantity_in_Pieces\n",
        "from\n",
        " `{DATASET}.{TRAINING_DATA_TABLE}`\"\"\".format(\n",
        "    PROJECT_ID=PROJECT_ID, DATASET=DATASET, TRAINING_DATA_TABLE=TRAINING_DATA_TABLE\n",
        ")\n",
        "query_job = client.query(query)\n",
        "print(query_job.result())"
      ]
    },
    {
      "cell_type": "markdown",
      "metadata": {
        "id": "332fd11ff32b"
      },
      "source": [
        "## Generate forecasts from the model\n",
        "<a name=\"section-10\"></a>\n",
        "\n",
        "Predict the sales for the next 30 days for each id and save to a dataframe."
      ]
    },
    {
      "cell_type": "code",
      "execution_count": null,
      "metadata": {
        "id": "ef926cdbf28e"
      },
      "outputs": [],
      "source": [
        "query = '''\n",
        "DECLARE HORIZON STRING DEFAULT \"30\"; #number of values to forecast\n",
        "DECLARE CONFIDENCE_LEVEL STRING DEFAULT \"0.90\"; ## required confidence level\n",
        "\n",
        "EXECUTE IMMEDIATE format(\"\"\"\n",
        "    SELECT\n",
        "      *\n",
        "    FROM \n",
        "      ML.FORECAST(MODEL {DATASET}.bqml_arima, \n",
        "                  STRUCT(%s AS horizon, \n",
        "                         %s AS confidence_level)\n",
        "                 )\n",
        "    \"\"\",HORIZON,CONFIDENCE_LEVEL)'''.format(\n",
        "    DATASET=DATASET\n",
        ")\n",
        "job = client.query(query)\n",
        "dfforecast = job.to_dataframe()\n",
        "dfforecast.head()"
      ]
    },
    {
      "cell_type": "markdown",
      "metadata": {
        "id": "608c7de72dae"
      },
      "source": [
        "## Interpret the results to choose the best price\n",
        "<a name=\"section-11\"></a>\n",
        "\n",
        "#### Calculate average forecast values for the forecast duration."
      ]
    },
    {
      "cell_type": "code",
      "execution_count": null,
      "metadata": {
        "id": "e1e193680400"
      },
      "outputs": [],
      "source": [
        "dfforecast_avg = (\n",
        "    dfforecast[[\"ID\", \"forecast_value\"]].groupby(\"ID\", as_index=False).mean()\n",
        ")"
      ]
    },
    {
      "cell_type": "markdown",
      "metadata": {
        "id": "5ce395d652a3"
      },
      "source": [
        "#### Extract the ID and Price fields from the ID field."
      ]
    },
    {
      "cell_type": "code",
      "execution_count": null,
      "metadata": {
        "id": "452c56fa58ed"
      },
      "outputs": [],
      "source": [
        "dfforecast_avg[\"Product_ID\"] = dfforecast_avg[\"ID\"].apply(lambda x: x.split(\"_\")[0])\n",
        "dfforecast_avg[\"Price\"] = dfforecast_avg[\"ID\"].apply(lambda x: x.split(\"_\")[1])"
      ]
    },
    {
      "cell_type": "markdown",
      "metadata": {
        "id": "3cee67f4028f"
      },
      "source": [
        "#### Plot the average forecasted sales vs. the price of the product."
      ]
    },
    {
      "cell_type": "code",
      "execution_count": null,
      "metadata": {
        "id": "fb351c8f383d"
      },
      "outputs": [],
      "source": [
        "for i in dfforecast_avg[\"Product_ID\"].unique():\n",
        "    dfforecast_avg[dfforecast_avg[\"Product_ID\"] == i].set_index(\"Price\").sort_values(\n",
        "        \"forecast_value\"\n",
        "    ).plot(kind=\"bar\")\n",
        "    plt.title(\"Price vs. Average Sales for \" + i)\n",
        "    plt.show()"
      ]
    },
    {
      "cell_type": "markdown",
      "metadata": {
        "id": "67ff3acc74a5"
      },
      "source": [
        "Based on the plots for price vs. the average forecasted orders, it can be said that to use the maximum orders, each of the considered `Product_ID`s can follow the below prices:\n",
        "\n",
        "- SKU 107's price range can be from 4.44 - 4.73 units\n",
        "- SKU 140's price can be 1.95 units\n",
        "- SKU 62's price can be 4.23 units\n"
      ]
    },
    {
      "cell_type": "markdown",
      "metadata": {
        "id": "01fdc73828af"
      },
      "source": [
        "## Clean Up\n",
        "<a name=\"section-12\"></a>\n",
        "\n",
        "To clean up all Google Cloud resources used in this project, you can [delete the Google Cloud project](https://cloud.google.com/resource-manager/docs/creating-managing-projects#shutting_down_projects) you used for the tutorial.\n",
        "\n",
        "Otherwise, you can delete the individual resources you created in this tutorial. The following code deletes the entire dataset."
      ]
    },
    {
      "cell_type": "code",
      "execution_count": null,
      "metadata": {
        "id": "d78908b8134d"
      },
      "outputs": [],
      "source": [
        "# Set dataset_id to the ID of the dataset to fetch.\n",
        "dataset_id = \"{PROJECT_ID}.{DATASET}\".format(PROJECT_ID=PROJECT_ID, DATASET=DATASET)\n",
        "\n",
        "# Use the delete_contents parameter to delete a dataset and its contents.\n",
        "# Use the not_found_ok parameter to not receive an error if the dataset has already been deleted.\n",
        "client.delete_dataset(\n",
        "    dataset_id, delete_contents=True, not_found_ok=True\n",
        ")  # Make an API request.\n",
        "\n",
        "print(\"Deleted dataset '{}'.\".format(dataset_id))"
      ]
    }
  ],
  "metadata": {
    "colab": {
      "name": "pricing-optimization.ipynb",
      "toc_visible": true
    },
    "kernelspec": {
      "display_name": "Python 3",
      "name": "python3"
    }
  },
  "nbformat": 4,
  "nbformat_minor": 0
}
