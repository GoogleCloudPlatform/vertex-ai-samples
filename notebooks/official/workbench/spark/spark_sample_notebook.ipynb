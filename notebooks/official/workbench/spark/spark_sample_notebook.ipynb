{
 "cells": [
  {
   "cell_type": "code",
   "execution_count": null,
   "metadata": {
    "id": "ur8xi4C7S06n"
   },
   "outputs": [],
   "source": [
    "# Copyright 2022 Google LLC\n",
    "#\n",
    "# Licensed under the Apache License, Version 2.0 (the \"License\");\n",
    "# you may not use this file except in compliance with the License.\n",
    "# You may obtain a copy of the License at\n",
    "#\n",
    "#     https://www.apache.org/licenses/LICENSE-2.0\n",
    "#\n",
    "# Unless required by applicable law or agreed to in writing, software\n",
    "# distributed under the License is distributed on an \"AS IS\" BASIS,\n",
    "# WITHOUT WARRANTIES OR CONDITIONS OF ANY KIND, either express or implied.\n",
    "# See the License for the specific language governing permissions and\n",
    "# limitations under the License."
   ]
  },
  {
   "cell_type": "markdown",
   "metadata": {
    "id": "JAPoU8Sm5E6e"
   },
   "source": [
    "<table align=\"left\">\n",
    "\n",
    "  <td>\n",
    "    <a href=\"https://github.com/GoogleCloudPlatform/vertex-ai-samples/blob/main/notebooks/notebook_template.ipynb\">\n",
    "      <img src=\"https://cloud.google.com/ml-engine/images/github-logo-32px.png\" alt=\"GitHub logo\">\n",
    "      View on GitHub\n",
    "    </a>\n",
    "  </td>\n",
    "  <td>\n",
    "    <a href=\"https://console.cloud.google.com/vertex-ai/workbench/deploy-managed-notebook?download_url=https://raw.githubusercontent.com/hyunuk/vertex-ai-samples/experiment/notebooks/official/workbench/spark/spark_sample_notebook.ipynb\">\n",
    "      <img src=\"https://lh3.googleusercontent.com/UiNooY4LUgW_oTvpsNhPpQzsstV5W8F7rYgxgGBD85cWJoLmrOzhVs_ksK_vgx40SHs7jCqkTkCk=e14-rj-sc0xffffff-h130-w32\" alt=\"Vertex AI logo\">\n",
    "      Open in Vertex AI Workbench\n",
    "    </a>\n",
    "  </td>                                                                                               \n",
    "</table>"
   ]
  },
  {
   "cell_type": "markdown",
   "metadata": {
    "id": "tvgnzT1CKxrO"
   },
   "source": [
    "## Overview\n",
    "\n",
    "This notebook demonstrates how you ingest, analyze, and write back data to BigQuery using Apache Spark on [Dataproc Cluster](https://cloud.google.com/dataproc). Using the GitHub Activity Data, You will analyze repositories in GitHub and find out what kind of programming languages being used in their repositories."
   ]
  },
  {
   "cell_type": "markdown",
   "metadata": {
    "id": "tvgnzT1CKxrO"
   },
   "source": [
    "### Dataset\n",
    "\n",
    "The dataset you are using is the [GitHub Activity Data](https://console.cloud.google.com/marketplace/product/github/github-repos), available in [BigQuery Public Datasets](https://cloud.google.com/bigquery/public-data). The first 1TB of data queried each month is free."
   ]
  },
  {
   "cell_type": "markdown",
   "metadata": {
    "id": "tvgnzT1CKxrO"
   },
   "source": [
    "### Objective\n",
    "\n",
    "This notebook demonstrates Apache Spark jobs that fetch data from BigQuery, analyze it, and write the results back to BigQuery. Through this process, you can learn a common use case in data engineering: ingesting data from a database, performing transformations during preprocessing, and writing back to another database. You also learn how to submit Apache Spark jobs in the Dataproc Serverless environment on Google Cloud Platform. \n",
    "\n",
    "In this project, these questions below will be answered.\n",
    "\n",
    "- Which language is the most frequently used among the monoglot repos?\n",
    "- What is the average size of each language among the monoglot repos?\n",
    "- Given a language, which other languages are most frequently found in polyglot repos with it?\n",
    "\n",
    "Note: repositories that encompass polyglot programming are referred to as polyglot repos and those which only contain one programming language are referred to as monoglot repos.\n",
    "\n",
    "\n",
    "The steps performed include the following:\n",
    "\n",
    "- Setting up the serverless environment.\n",
    "- Configuring spark-bigquery-connector.\n",
    "- Ingesting data from BigQuery to Spark DataFrame.\n",
    "- Preprocessing ingested data.\n",
    "- Analyze that the most frequently used programming language among the monoglot repos.\n",
    "- Analyze that the average size of each language among the monoglot repos.\n",
    "- Analyze that the most frequently used languages with a given language in polyglot repos.\n",
    "- Write the result back to BigQuery\n",
    "- Delete Dataproc Serverless Session\n",
    "- Disable APIs being used in the project."
   ]
  },
  {
   "cell_type": "markdown",
   "metadata": {
    "id": "tvgnzT1CKxrO"
   },
   "source": [
    "### Costs \n",
    "\n",
    "This tutorial uses billable components of Google Cloud:\n",
    "\n",
    "* Vertex AI\n",
    "* Cloud Storage\n",
    "* Dataproc Serverless\n",
    "\n",
    "Learn about [Vertex AI\n",
    "pricing](https://cloud.google.com/vertex-ai/pricing), [Cloud Storage\n",
    "pricing](https://cloud.google.com/storage/pricing), [Dataproc Serverless pricing](https://cloud.google.com/dataproc-serverless/pricing)\n",
    "and use the [Pricing\n",
    "Calculator](https://cloud.google.com/products/calculator/)\n",
    "to generate a cost estimate based on your projected usage."
   ]
  },
  {
   "cell_type": "markdown",
   "metadata": {
    "id": "BF1j6f9HApxa"
   },
   "source": [
    "## Before you begin\n",
    "\n",
    "### Set up your Google Cloud project\n",
    "\n",
    "**The following steps are required, regardless of your notebook environment.**\n",
    "\n",
    "1. [Select or create a Google Cloud project](https://console.cloud.google.com/cloud-resource-manager). When you first create an account, you get a $300 free credit towards your compute/storage costs.\n",
    "\n",
    "1. [Make sure that billing is enabled for your project](https://cloud.google.com/billing/docs/how-to/modify-project).\n",
    "\n",
    "1. [Enable Notebooks API, Vertex AI API, and Cloud Dataproc API](https://console.cloud.google.com/flows/enableapi?apiid=notebooks.googleapis.com,aiplatform.googleapis.com,dataproc&_ga=2.209429842.1903825585.1657549521-326108178.1655322249)\n",
    "\n",
    "1. Enter your project ID in the cell below. Then run the cell to make sure the\n",
    "Cloud SDK uses the right project for all the commands in this notebook.\n",
    "\n",
    "**Note**: Jupyter runs lines prefixed with `!` as shell commands, and it interpolates Python variables prefixed with `$` into these commands."
   ]
  },
  {
   "cell_type": "markdown",
   "metadata": {
    "id": "lWEdiXsJg0XY"
   },
   "source": [
    "### Create a Dataproc cluster\n",
    "\n",
    "**Note**: If you already have a cluster on Dataproc, you can skip this part and go to `Switch your kernel`.\n",
    "\n",
    "The Spark job that you are going to execute this project is compute-intensive and could take a lot of time on a standard Notebook environment, so this tutorial uses a Dataproc cluster. To run your Spark jobs on a Dataproc cluster, you need to create a cluster with component gateway enabled and JupyterLab extension."
   ]
  },
  {
   "cell_type": "code",
   "execution_count": null,
   "metadata": {
    "id": "oM1iC_MfAts1"
   },
   "outputs": [],
   "source": [
    "CLUSTER_NAME = \"[your-cluster]\"  # @param {type: \"string\"}\n",
    "CLUSTER_REGION = \"[your-region]\"  # @param {type: \"string\"}\n",
    "\n",
    "if CLUSTER_REGION == \"[your-region]\":\n",
    "    CLUSTER_REGION = \"us-central1\"\n",
    "\n",
    "print(f\"CLUSTER_NAME: {CLUSTER_NAME}\")\n",
    "print(f\"CLUSTER_REGION: {CLUSTER_REGION}\")"
   ]
  },
  {
   "cell_type": "code",
   "execution_count": null,
   "metadata": {
    "id": "oM1iC_MfAts1"
   },
   "outputs": [],
   "source": [
    "!gcloud dataproc clusters create $CLUSTER_NAME \\\n",
    "    --region=$CLUSTER_REGION \\\n",
    "    --enable-component-gateway \\\n",
    "    --optional-components=JUPYTER"
   ]
  },
  {
   "cell_type": "markdown",
   "metadata": {
    "id": "lWEdiXsJg0XY"
   },
   "source": [
    "**Note**: Your `CLUSTER_NAME` must be unique and must start with a lowercase letter followed by up to 51 lowercase letters, numbers, and hyphens, and cannot end with a hyphen."
   ]
  },
  {
   "cell_type": "markdown",
   "metadata": {
    "id": "lWEdiXsJg0XY"
   },
   "source": [
    "#### Switch your kernel\n",
    "\n",
    "**Note**: If you already select your kernel as Python 3 on your Dataproc cluster, you can skip this part.\n",
    "\n",
    "In order to execute Apache Spark jobs on Dataproc Clusters, you need to change your kernel to Python 3 on your cluster name.\n",
    "\n",
    "Click the button on top-right corner and select `Python 3 on CLUSTER_NAME: Dataproc cluster in REGION (Remote)`\n",
    "\n",
    "If you switch your kernel here, you will lost all variables declared above, so you must execute following code after switching your kernel."
   ]
  },
  {
   "cell_type": "markdown",
   "metadata": {
    "id": "WReHDGG5g0XY"
   },
   "source": [
    "#### Set your project ID\n",
    "\n",
    "**If you don't know your project ID**, you may be able to get your project ID using `gcloud`."
   ]
  },
  {
   "cell_type": "code",
   "execution_count": 33,
   "metadata": {
    "id": "oM1iC_MfAts1"
   },
   "outputs": [
    {
     "name": "stdout",
     "output_type": "stream",
     "text": [
      "Project ID:  dasi22\n"
     ]
    }
   ],
   "source": [
    "import os\n",
    "\n",
    "PROJECT_ID = \"\"\n",
    "\n",
    "# Get your Google Cloud project ID from gcloud\n",
    "if not os.getenv(\"IS_TESTING\"):\n",
    "    shell_output = !gcloud config list --format 'value(core.project)' 2>/dev/null\n",
    "    PROJECT_ID = shell_output[0]\n",
    "    print(\"Project ID: \", PROJECT_ID)"
   ]
  },
  {
   "cell_type": "markdown",
   "metadata": {
    "id": "qJYoRfYng0XZ"
   },
   "source": [
    "Otherwise, set your project ID here."
   ]
  },
  {
   "cell_type": "code",
   "execution_count": 34,
   "metadata": {
    "id": "riG_qUokg0XZ"
   },
   "outputs": [],
   "source": [
    "if PROJECT_ID == \"\" or PROJECT_ID is None:\n",
    "    PROJECT_ID = \"[your-project-id]\"  # @param {type: \"string\"}"
   ]
  },
  {
   "cell_type": "code",
   "execution_count": 35,
   "metadata": {
    "id": "set_gcloud_project_id"
   },
   "outputs": [
    {
     "name": "stdout",
     "output_type": "stream",
     "text": [
      "\u001b[1;33mWARNING:\u001b[0m You do not appear to have access to project [dasi22] or it does not exist.\n",
      "Updated property [core/project].\n"
     ]
    }
   ],
   "source": [
    "! gcloud config set project $PROJECT_ID -q"
   ]
  },
  {
   "cell_type": "markdown",
   "metadata": {
    "id": "region"
   },
   "source": [
    "#### Region\n",
    "\n",
    "You can also change the `REGION` variable, which is used for operations\n",
    "throughout the rest of this notebook.  We recommend that you choose the region closest to you."
   ]
  },
  {
   "cell_type": "code",
   "execution_count": 36,
   "metadata": {
    "id": "region"
   },
   "outputs": [],
   "source": [
    "REGION = \"[your-region]\"  # @param {type: \"string\"}\n",
    "\n",
    "if REGION == \"[your-region]\":\n",
    "    REGION = \"us-central1\""
   ]
  },
  {
   "cell_type": "markdown",
   "metadata": {
    "id": "06571eb4063b"
   },
   "source": [
    "#### Timestamp\n",
    "\n",
    "If you are in a live tutorial session, you might be using a shared test account or project. To avoid name collisions between users on resources created, you create a timestamp for each instance session, and append it onto the name of resources you create in this tutorial."
   ]
  },
  {
   "cell_type": "code",
   "execution_count": 37,
   "metadata": {
    "id": "697568e92bd6"
   },
   "outputs": [],
   "source": [
    "from datetime import datetime\n",
    "\n",
    "TIMESTAMP = datetime.now().strftime(\"%Y%m%d%H%M%S\")"
   ]
  },
  {
   "cell_type": "markdown",
   "metadata": {
    "id": "zgPO1eR3CYjk"
   },
   "source": [
    "#### Create a Cloud Storage bucket\n",
    "\n",
    "The Spark DataFrame created during this project will be stored in BigQuery. The data will be written first to the bucket in Google Cloud Storage(GCS) and then it is loaded it to BigQuery.\n",
    "A GCS bucket must be configured to indicate the temporary data location.\n",
    "\n",
    "Set the name of your Cloud Storage bucket below. It must be unique across all Cloud Storage buckets."
   ]
  },
  {
   "cell_type": "code",
   "execution_count": 38,
   "metadata": {
    "id": "MzGDU7TWdts_"
   },
   "outputs": [],
   "source": [
    "BUCKET_NAME = \"[your-bucket-name]\"  # @param {type:\"string\"}\n",
    "BUCKET_URI = f\"gs://{BUCKET_NAME}\"\n",
    "\n",
    "if BUCKET_NAME == \"\" or BUCKET_NAME is None or BUCKET_NAME == \"[your-bucket-name]\":\n",
    "    BUCKET_NAME = f\"{PROJECT_ID}{TIMESTAMP}\"\n",
    "    BUCKET_URI = f\"gs://{BUCKET_NAME}\""
   ]
  },
  {
   "cell_type": "code",
   "execution_count": 39,
   "metadata": {
    "id": "NIq7R4HZCfIc"
   },
   "outputs": [
    {
     "name": "stdout",
     "output_type": "stream",
     "text": [
      "Creating gs://dasi2220220714021551/...\n"
     ]
    }
   ],
   "source": [
    "! gsutil mb -l $REGION -p $PROJECT_ID $BUCKET_URI"
   ]
  },
  {
   "cell_type": "markdown",
   "metadata": {
    "id": "ucvCsknMCims"
   },
   "source": [
    "Validate access to your Cloud Storage bucket by displaying the bucket's metadata:"
   ]
  },
  {
   "cell_type": "code",
   "execution_count": 40,
   "metadata": {
    "id": "vhOb7YnwClBb"
   },
   "outputs": [
    {
     "name": "stdout",
     "output_type": "stream",
     "text": [
      "gs://dasi2220220714021551/ :\n",
      "\tStorage class:\t\t\tSTANDARD\n",
      "\tLocation type:\t\t\tregion\n",
      "\tLocation constraint:\t\tUS-CENTRAL1\n",
      "\tVersioning enabled:\t\tNone\n",
      "\tLogging configuration:\t\tNone\n",
      "\tWebsite configuration:\t\tNone\n",
      "\tCORS configuration: \t\tNone\n",
      "\tLifecycle configuration:\tNone\n",
      "\tRequester Pays enabled:\t\tNone\n",
      "\tLabels:\t\t\t\tNone\n",
      "\tDefault KMS key:\t\tNone\n",
      "\tTime created:\t\t\tThu, 14 Jul 2022 02:15:53 GMT\n",
      "\tTime updated:\t\t\tThu, 14 Jul 2022 02:15:53 GMT\n",
      "\tMetageneration:\t\t\t1\n",
      "\tBucket Policy Only enabled:\tTrue\n",
      "\tPublic access prevention:\tinherited\n",
      "\tACL:\t\t\t\t[]\n",
      "\tDefault ACL:\t\t\t[]\n"
     ]
    }
   ],
   "source": [
    "! gsutil ls -L -b $BUCKET_URI"
   ]
  },
  {
   "cell_type": "markdown",
   "metadata": {
    "id": "zgPO1eR3CYjk"
   },
   "source": [
    "#### Create a BigQuery resource\n",
    "\n",
    "Using BUCKET_NAME created above, create a BigQuery resource."
   ]
  },
  {
   "cell_type": "code",
   "execution_count": 41,
   "metadata": {
    "id": "vhOb7YnwClBb"
   },
   "outputs": [
    {
     "name": "stdout",
     "output_type": "stream",
     "text": [
      "Dataset 'dasi22:dasi2220220714021551' successfully created.\n"
     ]
    }
   ],
   "source": [
    "! bq mk $BUCKET_NAME"
   ]
  },
  {
   "cell_type": "markdown",
   "metadata": {
    "id": "XoEqT2Y4DJmf"
   },
   "source": [
    "## Tutorial\n",
    "\n",
    "### Import required libraries"
   ]
  },
  {
   "cell_type": "code",
   "execution_count": 51,
   "metadata": {
    "id": "pRUOFELefqf1"
   },
   "outputs": [],
   "source": [
    "# A Spark Session is how you interact with Spark SQL to create Dataframes\n",
    "from pyspark.sql import SparkSession\n",
    "# PySpark functions\n",
    "from pyspark.sql.functions import UserDefinedFunction, col, count, size\n",
    "# These allow us to create a schema for our data\n",
    "from pyspark.sql.types import ArrayType, IntegerType, StringType"
   ]
  },
  {
   "cell_type": "markdown",
   "metadata": {
    "id": "init_aip:mbsdk,all"
   },
   "source": [
    "### Initialize the SparkSession\n",
    "\n",
    "To use Apache Spark with BigQuery, you must include the [spark-bigquery-connector](https://github.com/GoogleCloudDataproc/spark-bigquery-connector) when you initialize the SparkSession."
   ]
  },
  {
   "cell_type": "code",
   "execution_count": 43,
   "metadata": {
    "id": "init_aip:mbsdk,all"
   },
   "outputs": [],
   "source": [
    "# Initialize the SparkSession with the following config.\n",
    "spark = (\n",
    "    SparkSession.builder.appName(\"spark-bigquery-polyglot-language-demo\")\n",
    "    .config(\n",
    "        \"spark.jars\",\n",
    "        \"gs://spark-lib/bigquery/spark-bigquery-with-dependencies_2.12-0.25.2.jar\",\n",
    "    )\n",
    "    .config(\"spark.sql.debug.maxToStringFields\", \"500\")\n",
    "    .getOrCreate()\n",
    ")"
   ]
  },
  {
   "cell_type": "markdown",
   "metadata": {
    "id": "init_aip:mbsdk,all"
   },
   "source": [
    "### Fetch data from BigQuery"
   ]
  },
  {
   "cell_type": "code",
   "execution_count": 44,
   "metadata": {
    "id": "init_aip:mbsdk,all"
   },
   "outputs": [
    {
     "name": "stdout",
     "output_type": "stream",
     "text": [
      "root\n",
      " |-- repo_name: string (nullable = true)\n",
      " |-- language: array (nullable = true)\n",
      " |    |-- element: struct (containsNull = true)\n",
      " |    |    |-- name: string (nullable = true)\n",
      " |    |    |-- bytes: long (nullable = true)\n",
      "\n"
     ]
    }
   ],
   "source": [
    "# Load Github Activity Public Dataset from BigQuery.\n",
    "df = (\n",
    "    spark.read.format(\"bigquery\")\n",
    "    .option(\"table\", \"bigquery-public-data.github_repos.languages\")\n",
    "    .load()\n",
    ")\n",
    "\n",
    "df.printSchema()"
   ]
  },
  {
   "cell_type": "markdown",
   "metadata": {
    "id": "403176b059ae"
   },
   "source": [
    "### Preprocessing\n",
    "\n",
    "Based on the schema printed above, data of the GitHub Activity is not stored in primitive types, but is instead stored in arrays. \n",
    "\n",
    "To work more effectively with the data, you need to preprocess it to primitive types and separate data for monoglot repos and polyglot repos. Once you create preprocessed columns, it makes our future tasks much faster."
   ]
  },
  {
   "cell_type": "code",
   "execution_count": 45,
   "metadata": {
    "id": "2e56d855da76"
   },
   "outputs": [],
   "source": [
    "# Set the LIMIT constant as 10 to get top 10 result for further use.\n",
    "LIMIT = 10\n",
    "\n",
    "# A constant to explode the pie chart to distinguish each part more visible.\n",
    "EXPLODE_PIE_CHART = tuple([0.05] * LIMIT)\n",
    "\n",
    "\n",
    "def language_to_mono_language(language) -> str:\n",
    "    \"\"\"\n",
    "    Preprocess function takes language and return it's name if language only has 1 elements.\n",
    "    Args:\n",
    "        language: list of struct that contains name and bytes.\n",
    "                  (e.g., language = [[name: \"C\", bytes: 300]]\n",
    "    Returns:\n",
    "        Monorepo's name\n",
    "    \"\"\"\n",
    "    return language[0].name if len(language) != 1 else None\n",
    "\n",
    "\n",
    "def language_to_mono_size(language) -> int:\n",
    "    \"\"\"\n",
    "    Preprocess function takes language and return it's bytes if language only has 1 elements.\n",
    "    Args:\n",
    "        language: list of struct that contains name and bytes.\n",
    "                  (e.g., language = [[name: \"C\", bytes: 300]]\n",
    "    Returns:\n",
    "        Monorepo's bytes\n",
    "    \"\"\"\n",
    "    return language[0].bytes if len(language) != 1 else 0\n",
    "\n",
    "\n",
    "def language_to_poly_language(language) -> str:\n",
    "    \"\"\"\n",
    "    Preprocess function takes language and return the top 3 language's name based on their bytes.\n",
    "    Args:\n",
    "        language: list of struct that contains name and bytes.\n",
    "                  (e.g., language = [[name: \"C\", bytes: 300],\n",
    "                                     [name: \"Java\", bytes: 200]]\n",
    "    Returns:\n",
    "        Polyrepo's name in string form separate by commas\n",
    "    \"\"\"\n",
    "    if len(language) < 2:\n",
    "        return None\n",
    "    # Sort language by their bytes in a descending order.\n",
    "    language.sort(key=lambda x: -x.bytes)\n",
    "    top_3 = language[:3]\n",
    "\n",
    "    # Sort top_3 language by their name.\n",
    "    top_3.sort(key=lambda x: x.name)\n",
    "    ret = []\n",
    "    for elem in top_3:\n",
    "        ret.append(elem.name)\n",
    "    return \", \".join(ret)"
   ]
  },
  {
   "cell_type": "code",
   "execution_count": 46,
   "metadata": {
    "id": "2e56d855da76"
   },
   "outputs": [
    {
     "name": "stdout",
     "output_type": "stream",
     "text": [
      "root\n",
      " |-- repo_name: string (nullable = true)\n",
      " |-- mono_language: string (nullable = true)\n",
      " |-- mono_size: integer (nullable = true)\n",
      " |-- poly_language: string (nullable = true)\n",
      "\n"
     ]
    }
   ],
   "source": [
    "# Copy over df to preprocessed_df\n",
    "preprocessed_df = df.alias(\"preprocessed_df\")\n",
    "\n",
    "# Declare dictionary with keys column names and values User Defined Functions (UDF) and return types.\n",
    "udf_map = {\n",
    "    \"mono_language\": (language_to_mono_language, StringType()),\n",
    "    \"mono_size\": (language_to_mono_size, IntegerType()),\n",
    "    \"poly_language\": (language_to_poly_language, StringType()),\n",
    "}\n",
    "\n",
    "# Iterate through udf_map to preprocess columns using UDF.\n",
    "for name, udf in udf_map.items():\n",
    "    preprocessed_df = preprocessed_df.withColumn(\n",
    "        name, UserDefinedFunction(*udf)(col(\"language\"))\n",
    "    )\n",
    "\n",
    "# Drop the language column.\n",
    "preprocessed_df = preprocessed_df.drop(\"language\")\n",
    "# Create a temporary view for using SparkSQL.\n",
    "preprocessed_df.createOrReplaceTempView(\"df_view\")\n",
    "preprocessed_df.printSchema()"
   ]
  },
  {
   "cell_type": "markdown",
   "metadata": {
    "id": "668a2549b231"
   },
   "source": [
    "After preprocessing, you can see the preprocessed_df's schema, the language column is separated into three string columns, `mono_language`, `mono_size`, and `poly_language`."
   ]
  },
  {
   "cell_type": "code",
   "execution_count": 50,
   "metadata": {
    "id": "efec0bfbfb65"
   },
   "outputs": [
    {
     "name": "stderr",
     "output_type": "stream",
     "text": [
      "                                                                                \r"
     ]
    },
    {
     "name": "stdout",
     "output_type": "stream",
     "text": [
      "The number of repositories that use only one language is 1203335\n"
     ]
    },
    {
     "name": "stderr",
     "output_type": "stream",
     "text": [
      "[Stage 80:>                                                         (0 + 1) / 1]\r"
     ]
    },
    {
     "name": "stdout",
     "output_type": "stream",
     "text": [
      "The number of repositories that use multiple language is 1752486\n",
      "Polyglot repositories account for about 59.29% of the total repo.\n"
     ]
    },
    {
     "name": "stderr",
     "output_type": "stream",
     "text": [
      "                                                                                \r"
     ]
    }
   ],
   "source": [
    "# See the number of repositories of monoglot(single language used) and polyglot(multiple languages used).\n",
    "mono = preprocessed_df.where(size(col(\"language\")) == 1).count()\n",
    "print(f\"The number of repositories that use only one language is {mono}\")\n",
    "\n",
    "poly = preprocessed_df.where(size(col(\"language\")) > 1).count()\n",
    "print(f\"The number of repositories that use multiple language is {poly}\")\n",
    "\n",
    "poly_percent = (poly / (mono + poly)) * 100\n",
    "print(f\"Polyglot repositories account for about {poly_percent:.2f}% of the total repo.\")"
   ]
  },
  {
   "cell_type": "markdown",
   "metadata": {
    "id": "0d79c26911f0"
   },
   "source": [
    "### Analyze\n",
    "\n",
    "#### Which language is the most frequently used among the monoglot repos?\n",
    "To answer this question, you can execute a query below with the preprocessed column, `mono_language`."
   ]
  },
  {
   "cell_type": "code",
   "execution_count": 56,
   "metadata": {
    "id": "a241cfdd169d"
   },
   "outputs": [
    {
     "ename": "TypeError",
     "evalue": "'Column' object is not callable",
     "output_type": "error",
     "traceback": [
      "\u001b[0;31m---------------------------------------------------------------------------\u001b[0m",
      "\u001b[0;31mTypeError\u001b[0m                                 Traceback (most recent call last)",
      "Input \u001b[0;32mIn [56]\u001b[0m, in \u001b[0;36m<cell line: 16>\u001b[0;34m()\u001b[0m\n\u001b[1;32m      1\u001b[0m \u001b[38;5;66;03m# Get the monoglot repositories and sort them based on the popularity of languages.\u001b[39;00m\n\u001b[1;32m      2\u001b[0m mono_ranking \u001b[38;5;241m=\u001b[39m spark\u001b[38;5;241m.\u001b[39msql(\n\u001b[1;32m      3\u001b[0m     \u001b[38;5;124;03m\"\"\"\u001b[39;00m\n\u001b[1;32m      4\u001b[0m \u001b[38;5;124;03m    SELECT\u001b[39;00m\n\u001b[0;32m   (...)\u001b[0m\n\u001b[1;32m     13\u001b[0m \u001b[38;5;124;03m\"\"\"\u001b[39;00m\n\u001b[1;32m     14\u001b[0m )\n\u001b[0;32m---> 16\u001b[0m mono_ranking2 \u001b[38;5;241m=\u001b[39m preprocessed_df\u001b[38;5;241m.\u001b[39mselect(col(\u001b[38;5;124m\"\u001b[39m\u001b[38;5;124mmono_language\u001b[39m\u001b[38;5;124m\"\u001b[39m), \u001b[43mcount\u001b[49m\u001b[43m(\u001b[49m\u001b[43mcol\u001b[49m\u001b[43m(\u001b[49m\u001b[38;5;124;43m\"\u001b[39;49m\u001b[38;5;124;43mmono_language\u001b[39;49m\u001b[38;5;124;43m\"\u001b[39;49m\u001b[43m)\u001b[49m\u001b[43m)\u001b[49m\u001b[38;5;241;43m.\u001b[39;49m\u001b[43malias\u001b[49m\u001b[43m(\u001b[49m\u001b[38;5;124;43m\"\u001b[39;49m\u001b[38;5;124;43mcount\u001b[39;49m\u001b[38;5;124;43m\"\u001b[39;49m\u001b[43m)\u001b[49m\u001b[38;5;241;43m.\u001b[39;49m\u001b[43mgroupBy\u001b[49m\u001b[43m(\u001b[49m\u001b[43mcol\u001b[49m\u001b[43m(\u001b[49m\u001b[38;5;124;43m\"\u001b[39;49m\u001b[38;5;124;43mmono_language\u001b[39;49m\u001b[38;5;124;43m\"\u001b[39;49m\u001b[43m)\u001b[49m\u001b[43m)\u001b[49m)\n\u001b[1;32m     17\u001b[0m \u001b[38;5;66;03m# ).sort(\"count\")\u001b[39;00m\n\u001b[1;32m     20\u001b[0m df\u001b[38;5;241m.\u001b[39mselect(col(\u001b[38;5;124m\"\u001b[39m\u001b[38;5;124mrepo_name\u001b[39m\u001b[38;5;124m\"\u001b[39m), col(\u001b[38;5;124m\"\u001b[39m\u001b[38;5;124mcombinations\u001b[39m\u001b[38;5;124m\"\u001b[39m))\u001b[38;5;241m.\u001b[39mwhere(\n\u001b[1;32m     21\u001b[0m     size(col(\u001b[38;5;124m\"\u001b[39m\u001b[38;5;124mlanguage\u001b[39m\u001b[38;5;124m\"\u001b[39m)) \u001b[38;5;241m>\u001b[39m \u001b[38;5;241m1\u001b[39m\n\u001b[1;32m     22\u001b[0m )\n",
      "\u001b[0;31mTypeError\u001b[0m: 'Column' object is not callable"
     ]
    }
   ],
   "source": [
    "# Get the monoglot repositories and sort them based on the popularity of languages.\n",
    "mono_ranking = spark.sql(\n",
    "    \"\"\"\n",
    "    SELECT\n",
    "        df_view.mono_language,\n",
    "        count(df_view.mono_language) AS `count`\n",
    "    FROM\n",
    "        df_view\n",
    "    GROUP BY\n",
    "        df_view.mono_language\n",
    "    ORDER BY\n",
    "        `count` DESC\n",
    "\"\"\"\n",
    ")\n",
    "\n",
    "mono_ranking2 = preprocessed_df.select(col(\"mono_language\"), count(col(\"mono_language\")).alias(\"count\")).groupBy(col(\"mono_language\"))\n",
    "# ).sort(\"count\")\n",
    "\n",
    "\n",
    "df.select(col(\"repo_name\"), col(\"combinations\")).where(\n",
    "    size(col(\"language\")) > 1\n",
    ")\n",
    "\n",
    "mono_ranking.show()"
   ]
  },
  {
   "cell_type": "markdown",
   "metadata": {
    "id": "9e5349dca8e6"
   },
   "source": [
    "Using this `mono_ranking`, you can also visualize it using the pie chart."
   ]
  },
  {
   "cell_type": "code",
   "execution_count": null,
   "metadata": {
    "id": "7b9eb5a4f47e"
   },
   "outputs": [],
   "source": [
    "# Convert Spark DataFrame to Pandas DataFrame to display the pie chart.\n",
    "mono_panda = mono_ranking.toPandas()[:LIMIT].copy()\n",
    "mono_panda.groupby([\"mono_language\"]).sum().plot(\n",
    "    kind=\"pie\",\n",
    "    y=\"count\",\n",
    "    autopct=\"%1.1f%%\",\n",
    "    label=\"\",\n",
    "    title=\"Monoglot repositories\",\n",
    "    legend=False,\n",
    "    figsize=(7, 7),\n",
    "    explode=EXPLODE_PIE_CHART,\n",
    ")"
   ]
  },
  {
   "cell_type": "markdown",
   "metadata": {
    "id": "cc68a7c604b4"
   },
   "source": [
    "#### What is the average size of each language among the monoglot repos?\n",
    "\n",
    "You can use preprocessed columns, `mono_size` and `mono_language` to get the average size of each language.\n",
    "\n",
    "the `mono_size` column's bytes are kilobytes. In the following query, `mono_size` is divided by 1000 to convert it to megabyte."
   ]
  },
  {
   "cell_type": "code",
   "execution_count": null,
   "metadata": {
    "id": "d5d3e2e38df7"
   },
   "outputs": [],
   "source": [
    "# Get the average size in megabyte of each monoglot repositories and sort by it's size\n",
    "mono_ranking_avg_bytes = spark.sql(\n",
    "    \"\"\"\n",
    "    SELECT\n",
    "        df_view.mono_language, \n",
    "        round(avg(df_view.mono_size/1000)) AS `average_in_MB`,\n",
    "        count(df_view.mono_language) AS `count`\n",
    "    FROM \n",
    "        df_view\n",
    "    GROUP BY\n",
    "        df_view.mono_language\n",
    "    ORDER BY\n",
    "        `average_in_MB` DESC\n",
    "\"\"\"\n",
    ")\n",
    "\n",
    "# Filter the result that the language has at least 500 repositories.\n",
    "mono_ranking_avg_bytes = mono_ranking_avg_bytes.filter(col(\"count\") > 500)\n",
    "mono_ranking_avg_bytes.show()"
   ]
  },
  {
   "cell_type": "markdown",
   "metadata": {
    "id": "4551e1b7b28b"
   },
   "source": [
    "#### Given a language, which other languages are most frequently found in polyglot repos with it?\n",
    "\n",
    "You already have a preprocessed column, `poly_language`. Using this column, you can implement a query to show the ranking of polyglot repositories with the top 3 languages, based on their size."
   ]
  },
  {
   "cell_type": "code",
   "execution_count": null,
   "metadata": {
    "id": "c8285a340a4a"
   },
   "outputs": [],
   "source": [
    "# Get the polyglot repositories by the popularity of languages.\n",
    "poly_ranking = spark.sql(\n",
    "    \"\"\"\n",
    "    SELECT\n",
    "        df_view.poly_language,\n",
    "        count(df_view.poly_language) AS count\n",
    "    FROM\n",
    "        df_view\n",
    "    GROUP BY\n",
    "        df_view.poly_language\n",
    "    ORDER BY\n",
    "        count DESC\n",
    "\"\"\"\n",
    ")\n",
    "\n",
    "poly_ranking.show()"
   ]
  },
  {
   "cell_type": "markdown",
   "metadata": {
    "id": "633a0752b053"
   },
   "source": [
    "The majority of results were a mixture of HTML or CSS, so the result had many similar conbinations of HTML, CSS, and Javascript.\n",
    "\n",
    "It may not be as interesting. What about the pie chart?"
   ]
  },
  {
   "cell_type": "code",
   "execution_count": null,
   "metadata": {
    "id": "30ae2d750ab7"
   },
   "outputs": [],
   "source": [
    "# Convert Spark DataFrame to Pandas DataFrame to display the pie chart.\n",
    "poly_panda = poly_ranking.toPandas()[:LIMIT].copy()\n",
    "poly_panda.groupby([\"poly_language\"]).sum().plot(\n",
    "    kind=\"pie\",\n",
    "    y=\"count\",\n",
    "    autopct=\"%1.1f%%\",\n",
    "    label=\"\",\n",
    "    title=\"Polyglot repositories\",\n",
    "    legend=False,\n",
    "    figsize=(7, 7),\n",
    "    explode=EXPLODE_PIE_CHART,\n",
    ")"
   ]
  },
  {
   "cell_type": "markdown",
   "metadata": {
    "id": "3905037bcea3"
   },
   "source": [
    "When you visualize to a pie chart with the top 10 result, eight out of ten were contains either `HTML` or `CSS`.\n",
    "\n",
    "Using the original data fetched from BigQuery, `df`, you can create combinations of languages in each repo."
   ]
  },
  {
   "cell_type": "code",
   "execution_count": null,
   "metadata": {
    "id": "25479dcebd93"
   },
   "outputs": [],
   "source": [
    "# A Python package to get combinations.\n",
    "from itertools import combinations\n",
    "# A Python package to use type hint\n",
    "from typing import List\n",
    "\n",
    "# PySpark functions\n",
    "from pyspark.sql.functions import explode"
   ]
  },
  {
   "cell_type": "code",
   "execution_count": null,
   "metadata": {
    "id": "ad6a3e548fc3"
   },
   "outputs": [],
   "source": [
    "def reduce_language(language) -> List[str]:\n",
    "    \"\"\"\n",
    "    Preprocess function takes language and reduce it to remove \"bytes\".\n",
    "    Args:\n",
    "        language: list of struct that contains name and bytes.\n",
    "                  (e.g., language = [[name: \"C\", bytes: 300],\n",
    "                                     [name: \"Java\", bytes: 200]]\n",
    "    Returns:\n",
    "        list of strings that contains name.\n",
    "                  (e.g., reduced_languages = [\"C\", \"Java\"])\n",
    "    \"\"\"\n",
    "    if len(language) < 2:\n",
    "        return None\n",
    "    reduced_languages = []\n",
    "    for elem in language:\n",
    "        # To write back to BigQuery, the name must be normalized. See normalize_name() function below.\n",
    "        normalized_name = normalize_name(elem.name)\n",
    "        reduced_languages.append(normalized_name)\n",
    "    return reduced_languages\n",
    "\n",
    "\n",
    "def preprocess_combination(language) -> List[List[str]]:\n",
    "    \"\"\"\n",
    "    Preprocess function takes language and return every combination of language.\n",
    "    Args:\n",
    "        language: list of struct that contains name and bytes.\n",
    "                  (e.g., language = [[name: \"C\", bytes: 300],\n",
    "                                     [name: \"Java\", bytes: 200]]\n",
    "    Returns:\n",
    "        List of every possible combinations.\n",
    "                  (e.g., arr_combinations = [[\"C\", \"Java\"], [\"Java\", \"C\"]])\n",
    "    \"\"\"\n",
    "    if not language:\n",
    "        return None\n",
    "    arr_combinations = []\n",
    "    for combination in combinations(language, 2):\n",
    "        arr_combinations.append(combination)\n",
    "        arr_combinations.append(combination[::-1])\n",
    "    return arr_combinations\n",
    "\n",
    "\n",
    "def normalize_name(name: str) -> str:\n",
    "    \"\"\"\n",
    "    Change the name of language since BigQuery has a set of invalid characters that cannot be used in their field.\n",
    "    Args:\n",
    "        name: string\n",
    "    Returns:\n",
    "        Normalized name: string\n",
    "    \"\"\"\n",
    "    normalized_arr = []\n",
    "\n",
    "    # The following set of characters cannot be used in BigQuery's field.\n",
    "    invalid_chars = {\",\", \";\", \"{\", \"}\", \"(\", \")\", \"\\n\", \"\\t\", \"=\"}\n",
    "\n",
    "    # The name must start with a letter or underscore.\n",
    "    if name[0].isnumeric():\n",
    "        normalized_arr.append(\"_\")\n",
    "\n",
    "    for ch in name:\n",
    "        # Skip if a character is in the set of invalid characters.\n",
    "        if ch in invalid_chars:\n",
    "            continue\n",
    "\n",
    "        # Convert space or dot to underscore\n",
    "        elif ch == \" \" or ch == \".\":\n",
    "            normalized_arr.append(\"_\")\n",
    "\n",
    "        # Lower the character to merge the same name (e.g., \"Java\" and \"java\")\n",
    "        else:\n",
    "            normalized_arr.append(ch.lower())\n",
    "\n",
    "    # Convert the array to string\n",
    "    return \"\".join(normalized_arr)\n",
    "\n",
    "\n",
    "# Preprocess \"reduced_languages\" column using UDF.\n",
    "df = df.withColumn(\n",
    "    \"reduced_languages\",\n",
    "    UserDefinedFunction(reduce_language, ArrayType(StringType()))(col(\"language\")),\n",
    ")\n",
    "\n",
    "# Preprocess \"combinations\" column using UDF.\n",
    "df = df.withColumn(\n",
    "    \"combinations\",\n",
    "    UserDefinedFunction(preprocess_combination, ArrayType(ArrayType(StringType())))(\n",
    "        col(\"reduced_languages\")\n",
    "    ),\n",
    ")\n",
    "\n",
    "# Create another DataFrame from df that has repo_name and combinations as columns.\n",
    "frequency_df = df.select(col(\"repo_name\"), col(\"combinations\")).where(\n",
    "    size(col(\"language\")) > 1\n",
    ")\n",
    "frequency_df.printSchema()"
   ]
  },
  {
   "cell_type": "markdown",
   "metadata": {
    "id": "5e80986d0095"
   },
   "source": [
    "Now frequency_df has repo and combinations of languages.\n",
    "\n",
    "Next, you need to use explode function in Spark, which is similar with UNNEST function in SQL."
   ]
  },
  {
   "cell_type": "code",
   "execution_count": null,
   "metadata": {
    "id": "4ec92c4d0652"
   },
   "outputs": [],
   "source": [
    "# Using explode(), the elements in combinations converted to rows.\n",
    "frequency_df = frequency_df.withColumn(\"languages\", explode(col(\"combinations\")))\n",
    "\n",
    "# Create columns for combinations of languages.\n",
    "frequency_df = frequency_df.withColumn(\"language0\", col(\"languages\")[0])\n",
    "frequency_df = frequency_df.withColumn(\"language1\", col(\"languages\")[1])\n",
    "\n",
    "# crosstab() reshapes the current table into the frequency distribution table by using cross tabulations.\n",
    "frequency_df = frequency_df.crosstab(\"language0\", \"language1\")\n",
    "\n",
    "# change the language0_language1 to languages.\n",
    "frequency_df = frequency_df.withColumnRenamed(\"language0_language1\", \"languages\")"
   ]
  },
  {
   "cell_type": "markdown",
   "metadata": {
    "id": "a2c79c4a3326"
   },
   "source": [
    "See [frequency distribution](https://en.wikipedia.org/wiki/Frequency_(statistics)) and [cross tabulations](https://en.wikipedia.org/wiki/Contingency_table).\n",
    "\n",
    "Now you have a DataFrame that has frequency of each languages by a given language. Let's visualize it with some famous language."
   ]
  },
  {
   "cell_type": "code",
   "execution_count": null,
   "metadata": {
    "id": "ee1591ca4563"
   },
   "outputs": [],
   "source": [
    "# Set of famous languages. You can modify this set to show your favorite languages.\n",
    "MAJOR_LANGUAGES = {\"C\", \"C++\", \"Java\", \"Python\", \"JavaScript\", \"Go\"}\n",
    "\n",
    "# Declare a dictionary to store key as language name and value as the selected DataFrame\n",
    "df_dict = dict()\n",
    "\n",
    "for language in MAJOR_LANGUAGES:\n",
    "    # Get a top ten languages of each language and store it to the dictionary.\n",
    "    df_dict[language] = (\n",
    "        frequency_df.select(col(\"languages\"), language).sort(-col(language)).limit(10)\n",
    "    )"
   ]
  },
  {
   "cell_type": "code",
   "execution_count": null,
   "metadata": {
    "id": "5951469b9925"
   },
   "outputs": [],
   "source": [
    "for language in df_dict:\n",
    "    # Convert Spark DataFrame to Pandas DataFrame to display the bar chart.\n",
    "    elem_panda = df_dict[language].toPandas()[:LIMIT].copy()\n",
    "    elem_panda.set_index(\"languages\", inplace=True)\n",
    "    elem_panda.sort_values(language, ascending=True, inplace=True)\n",
    "    elem_panda.plot(\n",
    "        kind=\"barh\",\n",
    "        title=language,\n",
    "        legend=False,\n",
    "        label='',\n",
    "    )"
   ]
  },
  {
   "cell_type": "markdown",
   "metadata": {
    "id": "TpV-iwP9qw9c"
   },
   "source": [
    "### Write back to the BigQuery\n",
    "\n",
    "After analyzing these queries, we have several DataFrames. The ranking of monoglot repositories, the average bytes of monoglot repositories, and the frequency table of each language being used in a repository. \n",
    "\n",
    "In this project, these three DataFrames will be stored in BigQuery using the [spark-bigquery-connector](https://github.com/GoogleCloudDataproc/spark-bigquery-connector)."
   ]
  },
  {
   "cell_type": "code",
   "execution_count": null,
   "metadata": {
    "id": "b8ab41bf47dd"
   },
   "outputs": [],
   "source": [
    "dataframes = {\n",
    "    \"mono_ranking\": mono_ranking,\n",
    "    \"mono_ranking_avg_bytes\": mono_ranking_avg_bytes,\n",
    "    \"frequency_table\": frequency_df,\n",
    "}\n",
    "\n",
    "# Iterate through dataframes and save them to the BigQuery.\n",
    "for df in dataframes:\n",
    "    dataframes[df].write.format(\"bigquery\").option(\n",
    "        \"temporaryGcsBucket\", BUCKET_NAME\n",
    "    ).option(\"table\", f\"{BUCKET_NAME}.{df}\").save()"
   ]
  },
  {
   "cell_type": "markdown",
   "metadata": {
    "id": "TpV-iwP9qw9c"
   },
   "source": [
    "If there is no error above, congratulations! your DataFrame is successfully stored in your BigQuery.\n",
    "\n",
    "You can find the data via [this link](https://pantheon.corp.google.com/bigquery) or execute `bq` command-line tool like below."
   ]
  },
  {
   "cell_type": "code",
   "execution_count": null,
   "metadata": {},
   "outputs": [],
   "source": [
    "QUERY = f\"SELECT languages, python FROM {PROJECT_ID}.{BUCKET_NAME}.frequency_table ORDER BY python DESC LIMIT 10\"\n",
    "\n",
    "! bq query --nouse_legacy_sql $QUERY"
   ]
  },
  {
   "cell_type": "markdown",
   "metadata": {
    "id": "TpV-iwP9qw9c"
   },
   "source": [
    "## Cleaning up\n",
    "\n",
    "To clean up all Google Cloud resources used in this project, you can [delete the Google Cloud\n",
    "project](https://cloud.google.com/resource-manager/docs/creating-managing-projects#shutting_down_projects) you used for the tutorial.\n",
    "\n",
    "Otherwise, you can delete the individual resources you created in this tutorial:"
   ]
  },
  {
   "cell_type": "markdown",
   "metadata": {
    "id": "TpV-iwP9qw9c"
   },
   "source": [
    "### Delete Vertex AI Workbench - Managed Notebook\n",
    "\n",
    "To delete Vertex Ai Workbench - Managed Notebook used in this project, you can use this [Clean up](https://cloud.google.com/vertex-ai/docs/workbench/managed/create-managed-notebooks-instance-console-quickstart#clean-up) part of `Managed notebooks` page."
   ]
  },
  {
   "cell_type": "markdown",
   "metadata": {
    "id": "TpV-iwP9qw9c"
   },
   "source": [
    "### Delete a Dataproc Cluster\n",
    "\n",
    "To delete a Dataproc Cluster, you can use this [Deleting a cluster](https://cloud.google.com/dataproc/docs/guides/manage-cluster#deleting_a_cluster) part of `Manage a cluster` page."
   ]
  },
  {
   "cell_type": "code",
   "execution_count": null,
   "metadata": {},
   "outputs": [],
   "source": [
    "# Delete Google Cloud Storage bucket\n",
    "! gsutil rm -r $BUCKET_URI"
   ]
  },
  {
   "cell_type": "code",
   "execution_count": null,
   "metadata": {},
   "outputs": [],
   "source": [
    "# Delete BigQuery dataset\n",
    "! bq rm -r -f $BUCKET_NAME"
   ]
  },
  {
   "cell_type": "markdown",
   "metadata": {
    "id": "TpV-iwP9qw9c"
   },
   "source": [
    "After you delete the BigQuery dataset, you can check your Datasets in BigQuery using the following command."
   ]
  },
  {
   "cell_type": "code",
   "execution_count": null,
   "metadata": {},
   "outputs": [],
   "source": [
    "! bq ls"
   ]
  }
 ],
 "metadata": {
  "colab": {
   "collapsed_sections": [],
   "name": "spark_sample_notebook.ipynb",
   "toc_visible": true
  },
  "kernelspec": {
   "display_name": "Python 3",
   "language": "python",
   "name": "python3"
  },
  "language_info": {
   "codemirror_mode": {
    "name": "ipython",
    "version": 3
   },
   "file_extension": ".py",
   "mimetype": "text/x-python",
   "name": "python",
   "nbconvert_exporter": "python",
   "pygments_lexer": "ipython3",
   "version": "3.8.13"
  }
 },
 "nbformat": 4,
 "nbformat_minor": 4
}
