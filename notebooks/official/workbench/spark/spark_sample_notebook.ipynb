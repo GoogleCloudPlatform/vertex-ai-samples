{
 "cells": [
  {
   "cell_type": "code",
   "execution_count": 1,
   "metadata": {
    "id": "ur8xi4C7S06n"
   },
   "outputs": [],
   "source": [
    "# Copyright 2022 Google LLC\n",
    "#\n",
    "# Licensed under the Apache License, Version 2.0 (the \"License\");\n",
    "# you may not use this file except in compliance with the License.\n",
    "# You may obtain a copy of the License at\n",
    "#\n",
    "#     https://www.apache.org/licenses/LICENSE-2.0\n",
    "#\n",
    "# Unless required by applicable law or agreed to in writing, software\n",
    "# distributed under the License is distributed on an \"AS IS\" BASIS,\n",
    "# WITHOUT WARRANTIES OR CONDITIONS OF ANY KIND, either express or implied.\n",
    "# See the License for the specific language governing permissions and\n",
    "# limitations under the License."
   ]
  },
  {
   "cell_type": "markdown",
   "metadata": {
    "id": "JAPoU8Sm5E6e"
   },
   "source": [
    "<table align=\"left\">\n",
    "\n",
    "  <td>\n",
    "    <a href=\"https://colab.research.google.com/github/GoogleCloudPlatform/vertex-ai-samples/blob/main/notebooks/notebook_template.ipynb\">\n",
    "      <img src=\"https://cloud.google.com/ml-engine/images/colab-logo-32px.png\" alt=\"Colab logo\"> Run in Colab\n",
    "    </a>\n",
    "  </td>\n",
    "  <td>\n",
    "    <a href=\"https://github.com/GoogleCloudPlatform/vertex-ai-samples/blob/main/notebooks/notebook_template.ipynb\">\n",
    "      <img src=\"https://cloud.google.com/ml-engine/images/github-logo-32px.png\" alt=\"GitHub logo\">\n",
    "      View on GitHub\n",
    "    </a>\n",
    "  </td>\n",
    "  <td>\n",
    "    <a href=\"https://console.cloud.google.com/vertex-ai/workbench/deploy-managed-notebook?download_url=https://raw.githubusercontent.com/GoogleCloudPlatform/vertex-ai-samples/blob/main/notebooks/notebook_template.ipynb\">\n",
    "      <img src=\"https://lh3.googleusercontent.com/UiNooY4LUgW_oTvpsNhPpQzsstV5W8F7rYgxgGBD85cWJoLmrOzhVs_ksK_vgx40SHs7jCqkTkCk=e14-rj-sc0xffffff-h130-w32\" alt=\"Vertex AI logo\">\n",
    "      Open in Vertex AI Workbench\n",
    "    </a>\n",
    "  </td>                                                                                               \n",
    "</table>"
   ]
  },
  {
   "cell_type": "markdown",
   "metadata": {
    "id": "tvgnzT1CKxrO"
   },
   "source": [
    "## Overview\n",
    "\n",
    "This notebook demonstrates how you ingest, analyze, and write back data to BigQuery using Apache Spark on Dataproc Serverless. Using the GitHub Activity Data, we will analyze repositories in GitHub and find out what kind of programming languages being used in their repositories.\n",
    "\n",
    "### Dataset\n",
    "\n",
    "The dataset we are using is the [GitHub Activity Data](https://console.cloud.google.com/marketplace/product/github/github-repos), available in [BigQuery Public Datasets](https://cloud.google.com/bigquery/public-data). The first 1TB of data queried each month is free.\n",
    "\n",
    "### Objective\n",
    "\n",
    "This notebook demonstrates Apache Spark jobs that fetch data from BigQuery, analyze it, and write the results back to BigQuery. Through this process, we can learn a common use case in data engineering: ingesting data from a database, performing transformations during preprocessing, and writing back to another database. We also learn how to submit Apache Spark jobs in the Dataproc Serverless environment on Google Cloud Platform. \n",
    "\n",
    "In this project, these questions below will be answered.\n",
    "\n",
    "- Which language is the most frequently used among the monoglot repos?\n",
    "- What is the average size of each language among the monoglot repos?\n",
    "- Given a language, which other languages are most frequently found in polyglot repos with it?\n",
    "\n",
    "Note: repositories that encompass polyglot programming are referred to as polyglot repos and those which only contain one programming language are referred to as monoglot repos.\n",
    "\n",
    "\n",
    "The steps performed include the following:\n",
    "\n",
    "- Setting up the serverless environment.\n",
    "- Configuring spark-bigquery-connector.\n",
    "- Ingesting data from BigQuery to Spark DataFrame.\n",
    "- Preprocessing ingested data.\n",
    "- Analyze that the most frequently used programming language among the monoglot repos.\n",
    "- Analyze that the average size of each language among the monoglot repos.\n",
    "- Analyze that the most frequently used languages with a given language in polyglot repos.\n",
    "- Write the result back to BigQuery\n",
    "- Delete Dataproc Serverless Session\n",
    "- Disable APIs being used in the project.\n",
    "\n",
    "### Costs \n",
    "\n",
    "This tutorial uses billable components of Google Cloud:\n",
    "\n",
    "* Vertex AI\n",
    "* Cloud Storage\n",
    "* Dataproc Serverless\n",
    "\n",
    "Learn about [Vertex AI\n",
    "pricing](https://cloud.google.com/vertex-ai/pricing), [Cloud Storage\n",
    "pricing](https://cloud.google.com/storage/pricing), [Dataproc Serverless pricing](https://cloud.google.com/dataproc-serverless/pricing)\n",
    "and use the [Pricing\n",
    "Calculator](https://cloud.google.com/products/calculator/)\n",
    "to generate a cost estimate based on your projected usage."
   ]
  },
  {
   "cell_type": "markdown",
   "metadata": {
    "id": "ze4-nDLfK4pw",
    "tags": []
   },
   "source": [
    "### Set up your local development environment\n",
    "\n",
    "**If you are using Colab or Vertex AI Workbench Notebooks**, your environment already meets\n",
    "all the requirements to run this notebook. You can skip this step."
   ]
  },
  {
   "cell_type": "markdown",
   "metadata": {
    "id": "gCuSR8GkAgzl",
    "tags": []
   },
   "source": [
    "**Otherwise**, make sure your environment meets this notebook's requirements.\n",
    "You need the following:\n",
    "\n",
    "* The Google Cloud SDK\n",
    "* Git\n",
    "* Python 3\n",
    "* virtualenv\n",
    "* Jupyter notebook running in a virtual environment with Python 3\n",
    "\n",
    "The Google Cloud guide to [Setting up a Python development\n",
    "environment](https://cloud.google.com/python/setup) and the [Jupyter\n",
    "installation guide](https://jupyter.org/install) provide detailed instructions\n",
    "for meeting these requirements. The following steps provide a condensed set of\n",
    "instructions:\n",
    "\n",
    "1. [Install and initialize the Cloud SDK.](https://cloud.google.com/sdk/docs/)\n",
    "\n",
    "1. [Install Python 3.](https://cloud.google.com/python/setup#installing_python)\n",
    "\n",
    "1. [Install\n",
    "   virtualenv](https://cloud.google.com/python/setup#installing_and_using_virtualenv)\n",
    "   and create a virtual environment that uses Python 3. Activate the virtual environment.\n",
    "\n",
    "1. To install Jupyter, run `pip3 install jupyter` on the\n",
    "command-line in a terminal shell.\n",
    "\n",
    "1. To launch Jupyter, run `jupyter notebook` on the command-line in a terminal shell.\n",
    "\n",
    "1. Open this notebook in the Jupyter Notebook Dashboard."
   ]
  },
  {
   "cell_type": "markdown",
   "metadata": {
    "id": "i7EUnXsZhAGF",
    "tags": []
   },
   "source": [
    "### Install additional packages\n",
    "\n",
    "Install the following packages required to execute this notebook. \n",
    "\n",
    "{TODO: Suggest using the latest major GA version of each package; i.e., --upgrade}"
   ]
  },
  {
   "cell_type": "code",
   "execution_count": null,
   "metadata": {
    "id": "2b4ef9b72d43",
    "tags": []
   },
   "outputs": [],
   "source": [
    "import os\n",
    "\n",
    "# The Vertex AI Workbench Notebook product has specific requirements\n",
    "IS_WORKBENCH_NOTEBOOK = os.getenv(\"DL_ANACONDA_HOME\")\n",
    "IS_USER_MANAGED_WORKBENCH_NOTEBOOK = os.path.exists(\n",
    "    \"/opt/deeplearning/metadata/env_version\"\n",
    ")\n",
    "\n",
    "# Vertex AI Notebook requires dependencies to be installed with '--user'\n",
    "USER_FLAG = \"\"\n",
    "if IS_WORKBENCH_NOTEBOOK:\n",
    "    USER_FLAG = \"--user\"\n",
    "\n",
    "! pip3 install --upgrade google-cloud-aiplatform {USER_FLAG} -q\n",
    "# TODO: Add remaining package installs here"
   ]
  },
  {
   "cell_type": "markdown",
   "metadata": {
    "id": "hhq5zEbGg0XX",
    "tags": []
   },
   "source": [
    "### Restart the kernel\n",
    "\n",
    "After you install the additional packages, you need to restart the notebook kernel so it can find the packages."
   ]
  },
  {
   "cell_type": "code",
   "execution_count": null,
   "metadata": {
    "id": "EzrelQZ22IZj",
    "tags": []
   },
   "outputs": [],
   "source": [
    "# Automatically restart kernel after installs\n",
    "import os\n",
    "\n",
    "if not os.getenv(\"IS_TESTING\"):\n",
    "    # Automatically restart kernel after installs\n",
    "    import IPython\n",
    "\n",
    "    app = IPython.Application.instance()\n",
    "    app.kernel.do_shutdown(True)"
   ]
  },
  {
   "cell_type": "markdown",
   "metadata": {
    "id": "lWEdiXsJg0XY",
    "tags": []
   },
   "source": [
    "## Before you begin"
   ]
  },
  {
   "cell_type": "markdown",
   "metadata": {
    "id": "BF1j6f9HApxa",
    "tags": []
   },
   "source": [
    "### Set up your Google Cloud project\n",
    "\n",
    "**The following steps are required, regardless of your notebook environment.**\n",
    "\n",
    "1. [Select or create a Google Cloud project](https://console.cloud.google.com/cloud-resource-manager). When you first create an account, you get a $300 free credit towards your compute/storage costs.\n",
    "\n",
    "1. [Make sure that billing is enabled for your project](https://cloud.google.com/billing/docs/how-to/modify-project).\n",
    "\n",
    "1. [Enable the Vertex AI API](https://console.cloud.google.com/flows/enableapi?apiid=aiplatform.googleapis.com). {TODO: Update the APIs needed for your tutorial. Edit the API names, and update the link to append the API IDs, separating each one with a comma. For example, container.googleapis.com,cloudbuild.googleapis.com}\n",
    "\n",
    "1. If you are running this notebook locally, you will need to install the [Cloud SDK](https://cloud.google.com/sdk).\n",
    "\n",
    "1. Enter your project ID in the cell below. Then run the cell to make sure the\n",
    "Cloud SDK uses the right project for all the commands in this notebook.\n",
    "\n",
    "**Note**: Jupyter runs lines prefixed with `!` as shell commands, and it interpolates Python variables prefixed with `$` into these commands."
   ]
  },
  {
   "cell_type": "markdown",
   "metadata": {
    "id": "WReHDGG5g0XY",
    "tags": []
   },
   "source": [
    "#### Set your project ID\n",
    "\n",
    "**If you don't know your project ID**, you may be able to get your project ID using `gcloud`."
   ]
  },
  {
   "cell_type": "code",
   "execution_count": null,
   "metadata": {
    "id": "oM1iC_MfAts1",
    "tags": []
   },
   "outputs": [],
   "source": [
    "PROJECT_ID = \"\"\n",
    "\n",
    "# Get your Google Cloud project ID from gcloud\n",
    "if not os.getenv(\"IS_TESTING\"):\n",
    "    shell_output = !gcloud config list --format 'value(core.project)' 2>/dev/null\n",
    "    PROJECT_ID = shell_output[0]\n",
    "    print(\"Project ID: \", PROJECT_ID)"
   ]
  },
  {
   "cell_type": "markdown",
   "metadata": {
    "id": "qJYoRfYng0XZ",
    "tags": []
   },
   "source": [
    "Otherwise, set your project ID here."
   ]
  },
  {
   "cell_type": "code",
   "execution_count": null,
   "metadata": {
    "id": "riG_qUokg0XZ",
    "tags": []
   },
   "outputs": [],
   "source": [
    "if PROJECT_ID == \"\" or PROJECT_ID is None:\n",
    "    PROJECT_ID = \"[your-project-id]\"  # @param {type:\"string\"}"
   ]
  },
  {
   "cell_type": "code",
   "execution_count": null,
   "metadata": {
    "id": "set_gcloud_project_id",
    "tags": []
   },
   "outputs": [],
   "source": [
    "! gcloud config set project $PROJECT_ID"
   ]
  },
  {
   "cell_type": "markdown",
   "metadata": {
    "id": "23988890fef6",
    "tags": []
   },
   "source": [
    "#### Get your project number {TODO: Include these cells if the notebook uses a project number}\n",
    "\n",
    "Now that the project ID is set, you get your corresponding project number."
   ]
  },
  {
   "cell_type": "code",
   "execution_count": null,
   "metadata": {
    "id": "2d6950574e1d",
    "tags": []
   },
   "outputs": [],
   "source": [
    "shell_output = ! gcloud projects list --filter=\"PROJECT_ID:'{PROJECT_ID}'\" --format='value(PROJECT_NUMBER)'\n",
    "PROJECT_NUMBER = shell_output[0]\n",
    "print(\"Project Number:\", PROJECT_NUMBER)"
   ]
  },
  {
   "cell_type": "markdown",
   "metadata": {
    "id": "region",
    "tags": []
   },
   "source": [
    "#### Region\n",
    "\n",
    "You can also change the `REGION` variable, which is used for operations\n",
    "throughout the rest of this notebook.  Below are regions supported for Vertex AI. We recommend that you choose the region closest to you.\n",
    "\n",
    "- Americas: `us-central1`\n",
    "- Europe: `europe-west4`\n",
    "- Asia Pacific: `asia-east1`\n",
    "\n",
    "You may not use a multi-regional bucket for training with Vertex AI. Not all regions provide support for all Vertex AI services.\n",
    "\n",
    "Learn more about [Vertex AI regions](https://cloud.google.com/vertex-ai/docs/general/locations)."
   ]
  },
  {
   "cell_type": "code",
   "execution_count": null,
   "metadata": {
    "id": "region",
    "tags": []
   },
   "outputs": [],
   "source": [
    "REGION = \"[your-region]\"  # @param {type: \"string\"}\n",
    "\n",
    "if REGION == \"[your-region]\":\n",
    "    REGION = \"us-central1\""
   ]
  },
  {
   "cell_type": "markdown",
   "metadata": {
    "id": "06571eb4063b",
    "tags": []
   },
   "source": [
    "#### Timestamp\n",
    "\n",
    "If you are in a live tutorial session, you might be using a shared test account or project. To avoid name collisions between users on resources created, you create a timestamp for each instance session, and append it onto the name of resources you create in this tutorial."
   ]
  },
  {
   "cell_type": "code",
   "execution_count": null,
   "metadata": {
    "id": "697568e92bd6",
    "tags": []
   },
   "outputs": [],
   "source": [
    "from datetime import datetime\n",
    "\n",
    "TIMESTAMP = datetime.now().strftime(\"%Y%m%d%H%M%S\")"
   ]
  },
  {
   "cell_type": "markdown",
   "metadata": {
    "id": "dr--iN2kAylZ",
    "tags": []
   },
   "source": [
    "### Authenticate your Google Cloud account\n",
    "\n",
    "**If you are using Vertex AI Workbench Notebooks**, your environment is already\n",
    "authenticated. Skip this step."
   ]
  },
  {
   "cell_type": "markdown",
   "metadata": {
    "id": "sBCra4QMA2wR",
    "tags": []
   },
   "source": [
    "**If you are using Colab**, run the cell below and follow the instructions\n",
    "when prompted to authenticate your account via oAuth.\n",
    "\n",
    "**Otherwise**, follow these steps:\n",
    "\n",
    "1. In the Cloud Console, go to the [**Create service account key**\n",
    "   page](https://console.cloud.google.com/apis/credentials/serviceaccountkey).\n",
    "\n",
    "2. Click **Create service account**.\n",
    "\n",
    "3. In the **Service account name** field, enter a name, and\n",
    "   click **Create**.\n",
    "\n",
    "4. In the **Grant this service account access to project** section, click the **Role** drop-down list. Type \"Vertex AI\"\n",
    "into the filter box, and select\n",
    "   **Vertex AI Administrator**. Type \"Storage Object Admin\" into the filter box, and select **Storage Object Admin**.\n",
    "\n",
    "5. Click *Create*. A JSON file that contains your key downloads to your\n",
    "local environment.\n",
    "\n",
    "6. Enter the path to your service account key as the\n",
    "`GOOGLE_APPLICATION_CREDENTIALS` variable in the cell below and run the cell."
   ]
  },
  {
   "cell_type": "code",
   "execution_count": 2,
   "metadata": {
    "collapsed": true,
    "id": "PyQmSRbKA8r-",
    "jupyter": {
     "outputs_hidden": true
    },
    "tags": []
   },
   "outputs": [
    {
     "name": "stdout",
     "output_type": "stream",
     "text": [
      "env: GOOGLE_APPLICATION_CREDENTIALS=''\n"
     ]
    }
   ],
   "source": [
    "# If you are running this notebook in Colab, run this cell and follow the\n",
    "# instructions to authenticate your GCP account. This provides access to your\n",
    "# Cloud Storage bucket and lets you submit training jobs and prediction\n",
    "# requests.\n",
    "\n",
    "import os\n",
    "import sys\n",
    "\n",
    "# If on Vertex AI Workbench, then don't execute this code\n",
    "IS_COLAB = \"google.colab\" in sys.modules\n",
    "if not os.path.exists(\"/opt/deeplearning/metadata/env_version\") and not os.getenv(\n",
    "    \"DL_ANACONDA_HOME\"\n",
    "):\n",
    "    if \"google.colab\" in sys.modules:\n",
    "        from google.colab import auth as google_auth\n",
    "\n",
    "        google_auth.authenticate_user()\n",
    "\n",
    "    # If you are running this notebook locally, replace the string below with the\n",
    "    # path to your service account key and run this cell to authenticate your GCP\n",
    "    # account.\n",
    "    elif not os.getenv(\"IS_TESTING\"):\n",
    "        %env GOOGLE_APPLICATION_CREDENTIALS ''"
   ]
  },
  {
   "cell_type": "markdown",
   "metadata": {
    "id": "zgPO1eR3CYjk",
    "tags": []
   },
   "source": [
    "### Create a Cloud Storage bucket\n",
    "\n",
    "**The following steps are required, regardless of your notebook environment.**\n",
    "\n",
    "\n",
    "{TODO: Adjust wording in the first paragraph to fit your use case - explain how your tutorial uses the Cloud Storage bucket. The example below shows how Vertex AI uses the bucket for training.}\n",
    "\n",
    "When you submit a training job using the Cloud SDK, you upload a Python package\n",
    "containing your training code to a Cloud Storage bucket. Vertex AI runs\n",
    "the code from this package. In this tutorial, Vertex AI also saves the\n",
    "trained model that results from your job in the same bucket. Using this model artifact, you can then\n",
    "create Vertex AI model and endpoint resources in order to serve\n",
    "online predictions.\n",
    "\n",
    "Set the name of your Cloud Storage bucket below. It must be unique across all\n",
    "Cloud Storage buckets."
   ]
  },
  {
   "cell_type": "code",
   "execution_count": null,
   "metadata": {
    "id": "MzGDU7TWdts_",
    "tags": []
   },
   "outputs": [],
   "source": [
    "BUCKET_NAME = \"[your-bucket-name]\"  # @param {type:\"string\"}\n",
    "BUCKET_URI = f\"gs://{BUCKET_NAME}\""
   ]
  },
  {
   "cell_type": "code",
   "execution_count": null,
   "metadata": {
    "id": "cf221059d072",
    "tags": []
   },
   "outputs": [],
   "source": [
    "if BUCKET_NAME == \"\" or BUCKET_NAME is None or BUCKET_NAME == \"[your-bucket-name]\":\n",
    "    BUCKET_NAME = PROJECT_ID + \"aip-\" + TIMESTAMP\n",
    "    BUCKET_URI = f\"gs://{BUCKET_NAME}\""
   ]
  },
  {
   "cell_type": "markdown",
   "metadata": {
    "id": "-EcIXiGsCePi",
    "tags": []
   },
   "source": [
    "**Only if your bucket doesn't already exist**: Run the following cell to create your Cloud Storage bucket."
   ]
  },
  {
   "cell_type": "code",
   "execution_count": null,
   "metadata": {
    "id": "NIq7R4HZCfIc",
    "tags": []
   },
   "outputs": [],
   "source": [
    "! gsutil mb -l $REGION -p $PROJECT_ID $BUCKET_URI"
   ]
  },
  {
   "cell_type": "markdown",
   "metadata": {
    "id": "ucvCsknMCims",
    "tags": []
   },
   "source": [
    "Finally, validate access to your Cloud Storage bucket by examining its contents:"
   ]
  },
  {
   "cell_type": "code",
   "execution_count": null,
   "metadata": {
    "id": "vhOb7YnwClBb",
    "tags": []
   },
   "outputs": [],
   "source": [
    "! gsutil ls -al $BUCKET_URI"
   ]
  },
  {
   "cell_type": "markdown",
   "metadata": {
    "id": "set_service_account",
    "tags": []
   },
   "source": [
    "#### Service Account {TODO: Include these cells if the notebook specifies a service account}\n",
    "\n",
    "{TODO: What uses service account in the notebook; e.g., You use a service account to create Vertex AI Pipeline jobs.}. If you do not want to use your project's Compute Engine service account, set `SERVICE_ACCOUNT` to another service account ID."
   ]
  },
  {
   "cell_type": "code",
   "execution_count": null,
   "metadata": {
    "id": "set_service_account",
    "tags": []
   },
   "outputs": [],
   "source": [
    "SERVICE_ACCOUNT = \"[your-service-account]\"  # @param {type:\"string\"}"
   ]
  },
  {
   "cell_type": "code",
   "execution_count": null,
   "metadata": {
    "id": "autoset_service_account",
    "tags": []
   },
   "outputs": [],
   "source": [
    "if (\n",
    "    SERVICE_ACCOUNT == \"\"\n",
    "    or SERVICE_ACCOUNT is None\n",
    "    or SERVICE_ACCOUNT == \"[your-service-account]\"\n",
    "):\n",
    "    # Get your service account from gcloud\n",
    "    if not IS_COLAB:\n",
    "        shell_output = !gcloud auth list 2>/dev/null\n",
    "        SERVICE_ACCOUNT = shell_output[2].replace(\"*\", \"\").strip()\n",
    "\n",
    "    else:  # IS_COLAB:\n",
    "        shell_output = ! gcloud projects describe  $PROJECT_ID\n",
    "        project_number = shell_output[-1].split(\":\")[1].strip().replace(\"'\", \"\")\n",
    "        SERVICE_ACCOUNT = f\"{project_number}-compute@developer.gserviceaccount.com\"\n",
    "\n",
    "    print(\"Service Account:\", SERVICE_ACCOUNT)"
   ]
  },
  {
   "cell_type": "markdown",
   "metadata": {
    "id": "set_service_account:pipelines",
    "tags": []
   },
   "source": [
    "#### Set service account access for {TODO; e.g., Vertex AI Pipelines}\n",
    "\n",
    "Run the following commands to grant your service account access to {TODO; i.e., read and write pipeline artifacts} in the bucket that you created in the previous step. You only need to run this step once per service account."
   ]
  },
  {
   "cell_type": "code",
   "execution_count": null,
   "metadata": {
    "id": "set_service_account:pipelines",
    "tags": []
   },
   "outputs": [],
   "source": [
    "! gsutil iam ch serviceAccount:{SERVICE_ACCOUNT}:roles/storage.objectCreator $BUCKET_URI\n",
    "\n",
    "! gsutil iam ch serviceAccount:{SERVICE_ACCOUNT}:roles/storage.objectViewer $BUCKET_URI"
   ]
  },
  {
   "cell_type": "markdown",
   "metadata": {
    "id": "XoEqT2Y4DJmf"
   },
   "source": [
    "## Tutorial\n",
    "\n",
    "### Import required libraries"
   ]
  },
  {
   "cell_type": "code",
   "execution_count": 92,
   "metadata": {
    "id": "pRUOFELefqf1"
   },
   "outputs": [],
   "source": [
    "from pyspark.sql import SparkSession\n",
    "from pyspark.sql.functions import size, col, UserDefinedFunction, explode\n",
    "from pyspark.sql.types import ArrayType, FloatType, StringType\n",
    "from itertools import combinations"
   ]
  },
  {
   "cell_type": "markdown",
   "metadata": {
    "id": "XoEqT2Y4DJmf"
   },
   "source": [
    "### Initialize the SparkSession and fetch data from BigQuery"
   ]
  },
  {
   "cell_type": "code",
   "execution_count": 93,
   "metadata": {},
   "outputs": [],
   "source": [
    "#!/usr/bin/python\n",
    "\"\"\"BigQuery I/O PySpark example.\"\"\"\n",
    "spark = SparkSession.builder \\\n",
    "    .appName('spark-bigquery-polyglot-language-demo') \\\n",
    "    .config('spark.jars', 'gs://spark-lib/bigquery/spark-bigquery-with-dependencies_2.12-0.25.2.jar') \\\n",
    "    .getOrCreate()\n",
    "\n",
    "# Load data from BigQuery.\n",
    "df = spark.read.format('bigquery') \\\n",
    "  .option('table', 'bigquery-public-data.github_repos.languages') \\\n",
    "  .load()"
   ]
  },
  {
   "cell_type": "markdown",
   "metadata": {
    "id": "XoEqT2Y4DJmf"
   },
   "source": [
    "### Preprocessing"
   ]
  },
  {
   "cell_type": "code",
   "execution_count": 94,
   "metadata": {},
   "outputs": [],
   "source": [
    "# Define constants for further use.\n",
    "LIMIT = 10\n",
    "EXPLODE_PIE_CHART = tuple([.05] * LIMIT)\n",
    "\n",
    "def array_to_mono_language(arr) -> str:\n",
    "    if len(arr) != 1:\n",
    "        return None\n",
    "    return arr[0].name\n",
    "\n",
    "def array_to_mono_size(arr) -> int:\n",
    "    if len(arr) != 1:\n",
    "        return 0\n",
    "    return arr[0].bytes\n",
    "\n",
    "def array_to_poly_language(arr) -> str:\n",
    "    if len(arr) < 2:\n",
    "        return None\n",
    "    arr.sort(key=lambda x : -x.bytes)\n",
    "    sub = arr[:3]\n",
    "    sub.sort(key=lambda x : x.name)\n",
    "    ret = []\n",
    "    for elem in sub:\n",
    "        ret.append(elem.name)\n",
    "    return ', '.join(ret)\n",
    "\n",
    "udf_map = {\n",
    "    \"mono_language\": array_to_mono_language,\n",
    "    \"mono_size\": array_to_mono_size,\n",
    "    \"poly_language\": array_to_poly_language,\n",
    "}\n",
    "\n",
    "preprocessed_df = df.alias(\"preprocessed_df\")\n",
    "for name, udf in udf_map.items():\n",
    "    preprocessed_df = preprocessed_df.withColumn(name, UserDefinedFunction(udf)(col(\"language\")))\n",
    "preprocessed_df = preprocessed_df.drop(\"language\")"
   ]
  },
  {
   "cell_type": "code",
   "execution_count": 95,
   "metadata": {},
   "outputs": [
    {
     "name": "stdout",
     "output_type": "stream",
     "text": [
      "root\n",
      " |-- repo_name: string (nullable = true)\n",
      " |-- mono_language: string (nullable = true)\n",
      " |-- mono_size: string (nullable = true)\n",
      " |-- poly_language: string (nullable = true)\n",
      "\n",
      "+--------------------+-------------+---------+-------------+\n",
      "|           repo_name|mono_language|mono_size|poly_language|\n",
      "+--------------------+-------------+---------+-------------+\n",
      "|kamilmowinski/scr...|            C|      250|         null|\n",
      "|davidlau325/ChatRoom|            C|    40530|         null|\n",
      "|navinsoni/Device_...|            C|    15136|         null|\n",
      "|mcomp2010-school/...|            C|     2829|         null|\n",
      "|      ZekeMill/pset3|            C|     5906|         null|\n",
      "|     fumyuun/coffeed|            C|     3838|         null|\n",
      "|      pollo89/pdroll|            C|     1194|         null|\n",
      "|   duncanthrax/pdkim|            C|   240159|         null|\n",
      "|jean-edouard/libx...|            C|    32840|         null|\n",
      "|raghumdani/ubuntu...|            C|    18359|         null|\n",
      "|pavelvpster/OpenW...|            C|     6617|         null|\n",
      "|     yukipyon/linkme|            C|     4635|         null|\n",
      "|efthymios-ks/AVR-...|            C|    10563|         null|\n",
      "|TheArbiter/Comput...|            C|    20013|         null|\n",
      "|quantumvm/RemoveC...|            C|     1341|         null|\n",
      "|BenSeverson/LaFon...|            C|   390686|         null|\n",
      "|  Arnie97/txt2sketch|            C|     7739|         null|\n",
      "|drfeelngood/check...|            C|     1509|         null|\n",
      "|wuhaiwei11/helloword|            C|       19|         null|\n",
      "|blkcatman/UnitySh...|            C|    29796|         null|\n",
      "+--------------------+-------------+---------+-------------+\n",
      "only showing top 20 rows\n",
      "\n"
     ]
    },
    {
     "name": "stderr",
     "output_type": "stream",
     "text": [
      "[Stage 104:>                                                        (0 + 1) / 1]\r"
     ]
    },
    {
     "name": "stdout",
     "output_type": "stream",
     "text": [
      "The number of repositories that use only one language is 1203335\n",
      "The number of repositories that use multiple language is 1752486\n"
     ]
    },
    {
     "name": "stderr",
     "output_type": "stream",
     "text": [
      "                                                                                \r"
     ]
    }
   ],
   "source": [
    "preprocessed_df.createOrReplaceTempView('df_view')\n",
    "preprocessed_df.printSchema()\n",
    "preprocessed_df.show()\n",
    "# See the number of repositories of monoglot(single language used) and polyglot(multiple languages used).\n",
    "mono = preprocessed_df.where(size(col(\"language\")) == 1).count()\n",
    "poly = preprocessed_df.where(size(col(\"language\")) > 1).count()\n",
    "print(f\"The number of repositories that use only one language is {mono}\")\n",
    "print(f\"The number of repositories that use multiple language is {poly}\")"
   ]
  },
  {
   "cell_type": "code",
   "execution_count": 23,
   "metadata": {},
   "outputs": [
    {
     "name": "stderr",
     "output_type": "stream",
     "text": [
      "                                                                                \r"
     ]
    },
    {
     "name": "stdout",
     "output_type": "stream",
     "text": [
      "+-------------+------+\n",
      "|mono_language|   cnt|\n",
      "+-------------+------+\n",
      "|   JavaScript|203852|\n",
      "|       Python|191097|\n",
      "|         Java|183309|\n",
      "|         Ruby|106330|\n",
      "|          PHP| 96086|\n",
      "|           C#| 57749|\n",
      "|        Shell| 56176|\n",
      "|           Go| 42846|\n",
      "|  Objective-C| 22484|\n",
      "|          C++| 21984|\n",
      "|         HTML| 20729|\n",
      "|            C| 16377|\n",
      "|      Haskell| 15985|\n",
      "|      Clojure| 12225|\n",
      "|        Swift| 10898|\n",
      "|        Scala| 10756|\n",
      "|          CSS| 10619|\n",
      "|            R|  9043|\n",
      "|         Perl|  8883|\n",
      "|         Rust|  8314|\n",
      "+-------------+------+\n",
      "only showing top 20 rows\n",
      "\n"
     ]
    },
    {
     "name": "stderr",
     "output_type": "stream",
     "text": [
      "                                                                                \r"
     ]
    },
    {
     "data": {
      "text/plain": [
       "<AxesSubplot:ylabel='cnt'>"
      ]
     },
     "execution_count": 23,
     "metadata": {},
     "output_type": "execute_result"
    },
    {
     "data": {
      "image/png": "[encoded data removed]",
      "text/plain": [
       "<Figure size 576x576 with 1 Axes>"
      ]
     },
     "metadata": {},
     "output_type": "display_data"
    }
   ],
   "source": [
    "# Sort the monoglot repositories by the popularity of languages and see the top 10 languages.\n",
    "mono_ranking = spark.sql(\"\"\"\n",
    "    SELECT\n",
    "        df_view.mono_language,\n",
    "        count(df_view.mono_language) AS `cnt`\n",
    "    FROM\n",
    "        df_view\n",
    "    GROUP BY\n",
    "        df_view.mono_language\n",
    "    ORDER BY\n",
    "        `cnt` DESC\n",
    "\"\"\")\n",
    "\n",
    "mono_ranking.show()\n",
    "mono_panda = mono_ranking.toPandas()[:LIMIT].copy()\n",
    "mono_panda.groupby(['mono_language']) \\\n",
    "        .sum() \\\n",
    "        .plot( \\\n",
    "            kind='pie', \\\n",
    "            y='cnt', \\\n",
    "            autopct='%1.0f%%', \\\n",
    "            figsize=(8, 8), \\\n",
    "            explode=EXPLODE_PIE_CHART \\\n",
    "        )"
   ]
  },
  {
   "cell_type": "code",
   "execution_count": 24,
   "metadata": {},
   "outputs": [
    {
     "name": "stderr",
     "output_type": "stream",
     "text": [
      "[Stage 32:>                                                         (0 + 1) / 1]\r"
     ]
    },
    {
     "name": "stdout",
     "output_type": "stream",
     "text": [
      "+----------------+-----------+-----+\n",
      "|   mono_language|average(MB)|  cnt|\n",
      "+----------------+-----------+-----+\n",
      "|     Mathematica|     4447.0|  244|\n",
      "|Jupyter Notebook|     2224.0| 2539|\n",
      "|       Pure Data|     1585.0|  132|\n",
      "|           Eagle|     1322.0|  349|\n",
      "|             Max|     1046.0|  112|\n",
      "|           KiCad|      551.0|  266|\n",
      "|            HTML|      547.0|20729|\n",
      "|         PLpgSQL|      447.0|  121|\n",
      "|           PLSQL|      427.0|  208|\n",
      "|           Groff|      426.0|  110|\n",
      "|          Pascal|      358.0| 1263|\n",
      "|          AutoIt|      297.0|  266|\n",
      "|       Smalltalk|      290.0|  145|\n",
      "|              C#|      224.0|57749|\n",
      "|    ActionScript|      224.0| 1420|\n",
      "|    Visual Basic|      217.0| 2309|\n",
      "|             IDL|      208.0|  146|\n",
      "|          MATLAB|      178.0|  463|\n",
      "|             Lua|      174.0| 7892|\n",
      "|        Assembly|      165.0|  763|\n",
      "+----------------+-----------+-----+\n",
      "only showing top 20 rows\n",
      "\n"
     ]
    },
    {
     "name": "stderr",
     "output_type": "stream",
     "text": [
      "                                                                                \r"
     ]
    }
   ],
   "source": [
    "# Get the average size in MegaBytes of each monoglot repositories and sort by it's size\n",
    "mono_ranking_avg_bytes = spark.sql(\"\"\"\n",
    "    SELECT\n",
    "        df_view.mono_language, \n",
    "        round(avg(df_view.mono_size/1000)) AS `average(MB)`,\n",
    "        count(df_view.mono_language) AS `cnt`\n",
    "    FROM \n",
    "        df_view\n",
    "    GROUP BY df_view.mono_language\n",
    "    ORDER BY\n",
    "        `average(MB)` DESC\n",
    "\"\"\")\n",
    "mono_ranking_avg_bytes = mono_ranking_avg_bytes.filter(col('cnt') > 100)\n",
    "mono_ranking_avg_bytes.show()"
   ]
  },
  {
   "cell_type": "code",
   "execution_count": 26,
   "metadata": {},
   "outputs": [
    {
     "name": "stderr",
     "output_type": "stream",
     "text": [
      "                                                                                \r"
     ]
    },
    {
     "name": "stdout",
     "output_type": "stream",
     "text": [
      "+--------------------+------+\n",
      "|       poly_language|   cnt|\n",
      "+--------------------+------+\n",
      "|CSS, HTML, JavaSc...|250751|\n",
      "|CSS, JavaScript, PHP| 71307|\n",
      "|     CSS, JavaScript| 60490|\n",
      "|    HTML, JavaScript| 53499|\n",
      "|       Python, Shell| 33754|\n",
      "|           CSS, HTML| 26946|\n",
      "|     CSS, HTML, Ruby| 25045|\n",
      "|HTML, JavaScript,...| 22133|\n",
      "|   Objective-C, Ruby| 21533|\n",
      "|HTML, JavaScript,...| 19861|\n",
      "|         Ruby, Shell| 19757|\n",
      "|CSS, JavaScript, ...| 18015|\n",
      "|CSS, JavaScript, ...| 16895|\n",
      "|    Assembly, C, C++| 14933|\n",
      "|              C, C++| 13912|\n",
      "|      CSS, HTML, PHP| 13059|\n",
      "|CSS, Java, JavaSc...| 13025|\n",
      "|      C, C++, Python| 12877|\n",
      "|   CSS, HTML, Python| 12718|\n",
      "|         Java, Shell| 11965|\n",
      "+--------------------+------+\n",
      "only showing top 20 rows\n",
      "\n"
     ]
    },
    {
     "name": "stderr",
     "output_type": "stream",
     "text": [
      "                                                                                \r"
     ]
    },
    {
     "data": {
      "text/plain": [
       "<AxesSubplot:ylabel='cnt'>"
      ]
     },
     "execution_count": 26,
     "metadata": {},
     "output_type": "execute_result"
    },
    {
     "data": {
      "image/png": "[encoded data removed]",
      "text/plain": [
       "<Figure size 576x576 with 1 Axes>"
      ]
     },
     "metadata": {},
     "output_type": "display_data"
    }
   ],
   "source": [
    "poly_ranking = spark.sql(\"\"\"\n",
    "    SELECT\n",
    "        df_view.poly_language,\n",
    "        count(df_view.poly_language) AS cnt\n",
    "    FROM\n",
    "        df_view\n",
    "    GROUP BY df_view.poly_language\n",
    "    ORDER BY\n",
    "        cnt DESC\n",
    "\"\"\")\n",
    "poly_ranking.show()\n",
    "\n",
    "poly_panda = poly_ranking.toPandas()[:LIMIT].copy()\n",
    "poly_panda.groupby(['poly_language']) \\\n",
    "        .sum() \\\n",
    "        .plot( \\\n",
    "            kind='pie', \\\n",
    "            y='cnt', \\\n",
    "            autopct='%1.0f%%', \\\n",
    "            figsize=(8, 8), \\\n",
    "            explode=EXPLODE_PIE_CHART \\\n",
    "        )"
   ]
  },
  {
   "cell_type": "code",
   "execution_count": 97,
   "metadata": {},
   "outputs": [
    {
     "name": "stderr",
     "output_type": "stream",
     "text": [
      "                                                                                \r"
     ]
    }
   ],
   "source": [
    "def preprocess_reduce_language(arr):\n",
    "    if len(arr) < 2:\n",
    "        return None\n",
    "    languages = []\n",
    "    for language in arr:\n",
    "        languages.append(language.name)\n",
    "    return languages\n",
    "\n",
    "def preprocess_combination(arr):\n",
    "    if not arr:\n",
    "        return None\n",
    "    arr_combinations = []\n",
    "    for combination in combinations(arr, 2):\n",
    "        arr_combinations.append(combination)\n",
    "        arr_combinations.append(combination[::-1])\n",
    "    return arr_combinations\n",
    "\n",
    "df = df.withColumn(\n",
    "        \"reduced_languages\",\n",
    "        UserDefinedFunction(\n",
    "            preprocess_reduce_language,\n",
    "            ArrayType(StringType())\n",
    "        )(col(\"language\"))\n",
    "    )\n",
    "df = df.withColumn(\n",
    "        \"combinations\",\n",
    "        UserDefinedFunction(\n",
    "            preprocess_combination, \n",
    "            ArrayType(ArrayType(StringType()))\n",
    "        )(col(\"reduced_languages\"))\n",
    "    )\n",
    "\n",
    "frequency_df = df.select(col(\"repo_name\"), col(\"combinations\")).where(size(col(\"language\")) > 1)\n",
    "frequency_df = frequency_df.withColumn(\"languages\", explode(col(\"combinations\")))\n",
    "frequency_df = frequency_df.withColumn(\"lang0\", col('languages')[0])\n",
    "frequency_df = frequency_df.withColumn(\"lang1\", col('languages')[1])\n",
    "frequency_df = frequency_df.crosstab(\"lang0\", \"lang1\")\n",
    "frequency_df = frequency_df.withColumn(\"languages\", col(\"lang0_lang1\"))\n",
    "frequency_df = frequency_df.drop(\"lang0_lang1\")\n",
    "frequency_df.createOrReplaceTempView('frequency_df_view')"
   ]
  },
  {
   "cell_type": "code",
   "execution_count": 103,
   "metadata": {},
   "outputs": [
    {
     "name": "stdout",
     "output_type": "stream",
     "text": [
      "+-------------+------+\n",
      "|    languages|     C|\n",
      "+-------------+------+\n",
      "|          C++|182071|\n",
      "|        Shell|156292|\n",
      "|     Makefile|116809|\n",
      "|       Python|103242|\n",
      "|  Objective-C| 85357|\n",
      "|         Perl| 52055|\n",
      "|   JavaScript| 48443|\n",
      "|         HTML| 48300|\n",
      "|     Assembly| 42970|\n",
      "|          CSS| 42009|\n",
      "|        CMake| 37291|\n",
      "|         Java| 33530|\n",
      "|         Ruby| 31049|\n",
      "|    Batchfile| 29748|\n",
      "|        Groff| 18723|\n",
      "|          Awk| 18643|\n",
      "|          PHP| 17915|\n",
      "|           C#| 16739|\n",
      "|Objective-C++| 15460|\n",
      "|           M4| 13868|\n",
      "+-------------+------+\n",
      "\n",
      "+-----------+------+\n",
      "|  languages|Python|\n",
      "+-----------+------+\n",
      "|      Shell|209842|\n",
      "| JavaScript|127040|\n",
      "|       HTML|124631|\n",
      "|        CSS|112778|\n",
      "|          C|103242|\n",
      "|   Makefile|101581|\n",
      "|        C++| 96582|\n",
      "|       Perl| 48474|\n",
      "|Objective-C| 47495|\n",
      "|       Java| 41362|\n",
      "|  Batchfile| 34982|\n",
      "|       Ruby| 34309|\n",
      "|   Assembly| 30321|\n",
      "|        PHP| 27707|\n",
      "|      CMake| 24114|\n",
      "|        Awk| 17019|\n",
      "|      Groff| 16196|\n",
      "|        TeX| 15305|\n",
      "|       XSLT| 14700|\n",
      "|        ASP| 13322|\n",
      "+-----------+------+\n",
      "\n",
      "+-------------+-----+\n",
      "|    languages| Java|\n",
      "+-------------+-----+\n",
      "|        Shell|83919|\n",
      "|         HTML|77992|\n",
      "|   JavaScript|74616|\n",
      "|          CSS|72484|\n",
      "|       Python|41362|\n",
      "|            C|33530|\n",
      "|          C++|32460|\n",
      "|    Batchfile|27744|\n",
      "|     Makefile|26721|\n",
      "|  Objective-C|23375|\n",
      "|       Groovy|18373|\n",
      "|         Ruby|17816|\n",
      "|         Perl|15312|\n",
      "|          PHP|14654|\n",
      "|           C#|12531|\n",
      "|         XSLT|11432|\n",
      "|        Scala|11219|\n",
      "|        CMake| 7707|\n",
      "|     Assembly| 7259|\n",
      "|Objective-C++| 5676|\n",
      "+-------------+-----+\n",
      "\n",
      "+------------+----------+\n",
      "|   languages|JavaScript|\n",
      "+------------+----------+\n",
      "|         CSS|    668553|\n",
      "|        HTML|    576659|\n",
      "|       Shell|    209319|\n",
      "|         PHP|    173450|\n",
      "|      Python|    127040|\n",
      "|        Ruby|    125028|\n",
      "|        Java|     74616|\n",
      "|    Makefile|     65283|\n",
      "|  ApacheConf|     53067|\n",
      "|CoffeeScript|     50736|\n",
      "|           C|     48443|\n",
      "|         C++|     47086|\n",
      "|   Batchfile|     42259|\n",
      "|  TypeScript|     37840|\n",
      "|        Perl|     35889|\n",
      "|          C#|     34441|\n",
      "| Objective-C|     31830|\n",
      "|         ASP|     20946|\n",
      "|        XSLT|     19889|\n",
      "|          Go|     15384|\n",
      "+------------+----------+\n",
      "\n",
      "+-------------+------+\n",
      "|    languages|   C++|\n",
      "+-------------+------+\n",
      "|            C|182071|\n",
      "|        Shell|133224|\n",
      "|     Makefile| 97921|\n",
      "|       Python| 96582|\n",
      "|  Objective-C| 74865|\n",
      "|        CMake| 50003|\n",
      "|   JavaScript| 47086|\n",
      "|         Perl| 46605|\n",
      "|         HTML| 45652|\n",
      "|     Assembly| 40446|\n",
      "|          CSS| 39725|\n",
      "|         Java| 32460|\n",
      "|    Batchfile| 29690|\n",
      "|         Ruby| 22706|\n",
      "|          PHP| 18370|\n",
      "|           C#| 17862|\n",
      "|          Awk| 17831|\n",
      "|        QMake| 17017|\n",
      "|        Groff| 16639|\n",
      "|Objective-C++| 15966|\n",
      "+-------------+------+\n",
      "\n",
      "+---------------+-----+\n",
      "|      languages|   Go|\n",
      "+---------------+-----+\n",
      "|          Shell|29767|\n",
      "|       Makefile|24295|\n",
      "|           HTML|16135|\n",
      "|     JavaScript|15384|\n",
      "|         Python|12687|\n",
      "|            CSS|12481|\n",
      "|              C| 8275|\n",
      "|           Ruby| 7174|\n",
      "|            C++| 5949|\n",
      "|           Java| 5174|\n",
      "|           Perl| 4322|\n",
      "|            PHP| 4288|\n",
      "|      Batchfile| 4161|\n",
      "|     Dockerfile| 3666|\n",
      "|Protocol Buffer| 3290|\n",
      "|    Objective-C| 3138|\n",
      "|       Assembly| 2934|\n",
      "|             C#| 2463|\n",
      "|     PowerShell| 2143|\n",
      "|            Lua| 2028|\n",
      "+---------------+-----+\n",
      "\n"
     ]
    }
   ],
   "source": [
    "MAJOR_LANGUAGES = {\"C\", \"C++\", \"Java\", \"Python\", \"JavaScript\", \"Go\"}\n",
    "df_arr = []\n",
    "\n",
    "# py_df = spark.sql('''\n",
    "#     SELECT languages, `Python` from frequency_df_view ORDER BY `python` DESC LIMIT 20\n",
    "# ''')\n",
    "# py_df.show()\n",
    "\n",
    "# test = frequency_df.select(col(\"languages\"), col(\"Python\")).sort(-col(\"Python\")).limit(20)\n",
    "# test.show()\n",
    "for language in MAJOR_LANGUAGES:\n",
    "    df_arr.append(frequency_df.select(col(\"languages\"), language).sort(-col(language)).limit(20))\n",
    "for i in df_arr:\n",
    "    i.show()"
   ]
  },
  {
   "cell_type": "markdown",
   "metadata": {
    "id": "E6ppE7imft-y"
   },
   "source": [
    "## General style examples\n",
    "\n",
    "### Notebook heading\n",
    "\n",
    "- Include the collapsed license at the top (this uses Colab's \"Form\" mode to hide the cells).\n",
    "- Only include a single H1 title.\n",
    "- Include the button-bar immediately under the H1.\n",
    "- Check that the Colab and GitHub links at the top are correct.\n",
    "\n",
    "### Notebook sections\n",
    "\n",
    "- Use H2 (##) and H3 (###) titles for notebook section headings.\n",
    "- Use [sentence case to capitalize titles and headings](https://developers.google.com/style/capitalization#capitalization-in-titles-and-headings). (\"Train the model\" instead of \"Train the Model\")\n",
    "- Include a brief text explanation before any code cells.\n",
    "- Use short titles/headings: \"Download the data\", \"Build the model\", \"Train the model\".\n",
    "\n",
    "### Writing style\n",
    "\n",
    "- Use [present tense](https://developers.google.com/style/tense). (\"You receive a response\" instead of \"You will receive a response\")\n",
    "- Use [active voice](https://developers.google.com/style/voice). (\"The service processes the request\" instead of \"The request is processed by the service\")\n",
    "- Use [second person](https://developers.google.com/style/person) and an imperative style. \n",
    "    - Correct examples: \"Update the field\", \"You must update the field\"\n",
    "    - Incorrect examples: \"Let's update the field\", \"We'll update the field\", \"The user should update the field\"\n",
    "- **Googlers**: Please follow our [branding guidelines](http://goto/cloud-branding).\n",
    "\n",
    "### Code\n",
    "\n",
    "- Put all your installs and imports in a setup section.\n",
    "- Save the notebook with the Table of Contents open.\n",
    "- Write Python 3 compatible code.\n",
    "- Follow the [Google Python Style guide](https://github.com/google/styleguide/blob/gh-pages/pyguide.md) and write readable code.\n",
    "- Keep cells small (max ~20 lines)."
   ]
  },
  {
   "cell_type": "markdown",
   "metadata": {
    "id": "euaAioez2WyE"
   },
   "source": [
    "## TensorFlow code style\n",
    "\n",
    "Use the highest level API that gets the job done (unless the goal is to demonstrate the low level API). For example, when using Tensorflow:\n",
    "\n",
    "- Use TF.keras.Sequential > keras functional api > keras model subclassing > ...\n",
    "\n",
    "- Use  model.fit > model.train_on_batch > manual GradientTapes.\n",
    "\n",
    "- Use eager-style code.\n",
    "\n",
    "- Use tensorflow_datasets and tf.data where possible."
   ]
  },
  {
   "cell_type": "markdown",
   "metadata": {
    "id": "reBCSTKOg47l"
   },
   "source": [
    "### Notebook code style examples\n",
    "\n",
    " - Notebooks are for people. Write code optimized for clarity.\n",
    "\n",
    " - Demonstrate small parts before combining them into something more complex. Like below:"
   ]
  },
  {
   "cell_type": "code",
   "execution_count": null,
   "metadata": {
    "id": "MjJTYC86hPOZ"
   },
   "outputs": [],
   "source": [
    "# install needed for notebook ingestion test; otherwise not part of the example\n",
    "! pip3 install --upgrade tensorflow\n",
    "\n",
    "# Build the model\n",
    "import tensorflow as tf\n",
    "\n",
    "model = tf.keras.Sequential(\n",
    "    [\n",
    "        tf.keras.layers.Dense(10, activation=\"relu\", input_shape=(None, 5)),\n",
    "        tf.keras.layers.Dense(3),\n",
    "    ]\n",
    ")"
   ]
  },
  {
   "cell_type": "code",
   "execution_count": null,
   "metadata": {
    "id": "LWymd3KPhP_S"
   },
   "outputs": [],
   "source": [
    "# Run the model on a single batch of data, and inspect the output.\n",
    "import numpy as np\n",
    "\n",
    "result = model(tf.constant(np.random.randn(10, 5), dtype=tf.float32)).numpy()\n",
    "\n",
    "print(\"min:\", result.min())\n",
    "print(\"max:\", result.max())\n",
    "print(\"mean:\", result.mean())\n",
    "print(\"shape:\", result.shape)"
   ]
  },
  {
   "cell_type": "code",
   "execution_count": null,
   "metadata": {
    "id": "y-pQzaxnhR-0"
   },
   "outputs": [],
   "source": [
    "# Compile the model for training\n",
    "model.compile(\n",
    "    optimizer=tf.keras.optimizers.Adam(), loss=tf.keras.losses.categorical_crossentropy\n",
    ")"
   ]
  },
  {
   "cell_type": "markdown",
   "metadata": {
    "id": "g0d8u7FmhUNf"
   },
   "source": [
    "- Keep examples quick. Use small datasets, or small slices of datasets. You don't need to train to convergence, train until it's obvious it's making progress.\n",
    "\n",
    "- For a large example, don't try to fit all the code in the notebook. Add python files to tensorflow examples, and in the notebook run: \n",
    "! pip3 install git+https://github.com/tensorflow/examples"
   ]
  },
  {
   "cell_type": "markdown",
   "metadata": {
    "id": "TpV-iwP9qw9c"
   },
   "source": [
    "## Cleaning up\n",
    "\n",
    "To clean up all Google Cloud resources used in this project, you can [delete the Google Cloud\n",
    "project](https://cloud.google.com/resource-manager/docs/creating-managing-projects#shutting_down_projects) you used for the tutorial.\n",
    "\n",
    "Otherwise, you can delete the individual resources you created in this tutorial:\n",
    "\n",
    "{TODO: Include commands to delete individual resources below}"
   ]
  },
  {
   "cell_type": "code",
   "execution_count": null,
   "metadata": {
    "id": "sx_vKniMq9ZX"
   },
   "outputs": [],
   "source": [
    "# Delete endpoint resource\n",
    "! gcloud ai endpoints delete $ENDPOINT_NAME --quiet --region $REGION_NAME\n",
    "\n",
    "# Delete model resource\n",
    "! gcloud ai models delete $MODEL_NAME --quiet\n",
    "\n",
    "# Delete Cloud Storage objects that were created\n",
    "! gsutil -m rm -r $JOB_DIR\n",
    "\n",
    "if os.getenv(\"IS_TESTING\"):\n",
    "    ! gsutil -m rm -r $BUCKET_URI"
   ]
  }
 ],
 "metadata": {
  "colab": {
   "collapsed_sections": [],
   "name": "notebook_template.ipynb",
   "toc_visible": true
  },
  "kernelspec": {
   "display_name": "Python 3",
   "language": "python",
   "name": "python3"
  },
  "language_info": {
   "codemirror_mode": {
    "name": "ipython",
    "version": 3
   },
   "file_extension": ".py",
   "mimetype": "text/x-python",
   "name": "python",
   "nbconvert_exporter": "python",
   "pygments_lexer": "ipython3",
   "version": "3.8.13"
  }
 },
 "nbformat": 4,
 "nbformat_minor": 4
}
