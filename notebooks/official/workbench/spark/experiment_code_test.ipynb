{
 "cells": [
  {
   "cell_type": "code",
   "execution_count": 66,
   "id": "413498cf-4582-4b66-92c5-527f67459c60",
   "metadata": {},
   "outputs": [],
   "source": [
    "#!/usr/bin/python\n",
    "\"\"\"BigQuery I/O PySpark example.\"\"\"\n",
    "from pyspark.sql import SparkSession\n",
    "spark = SparkSession.builder \\\n",
    "    .appName('spark-bigquery-polyglot-language-demo') \\\n",
    "    .config('spark.jars', 'gs://spark-lib/bigquery/spark-bigquery-with-dependencies_2.12-0.25.2.jar') \\\n",
    "    .getOrCreate()"
   ]
  },
  {
   "cell_type": "code",
   "execution_count": 65,
   "id": "d6aeebdf-433c-488a-8fb7-2d5f22ecb141",
   "metadata": {},
   "outputs": [
    {
     "name": "stdout",
     "output_type": "stream",
     "text": [
      "root\n",
      " |-- repo_name: string (nullable = true)\n",
      " |-- language: array (nullable = true)\n",
      " |    |-- element: struct (containsNull = true)\n",
      " |    |    |-- name: string (nullable = true)\n",
      " |    |    |-- bytes: long (nullable = true)\n",
      " |-- mono_language: string (nullable = true)\n",
      " |-- mono_size: string (nullable = true)\n",
      " |-- poly_language: string (nullable = true)\n",
      "\n",
      "+--------------------+-------------+-------------+---------+-------------+\n",
      "|           repo_name|     language|mono_language|mono_size|poly_language|\n",
      "+--------------------+-------------+-------------+---------+-------------+\n",
      "|kamilmowinski/scr...|   [{C, 250}]|            C|      250|         null|\n",
      "|davidlau325/ChatRoom| [{C, 40530}]|            C|    40530|         null|\n",
      "|navinsoni/Device_...| [{C, 15136}]|            C|    15136|         null|\n",
      "|mcomp2010-school/...|  [{C, 2829}]|            C|     2829|         null|\n",
      "|      ZekeMill/pset3|  [{C, 5906}]|            C|     5906|         null|\n",
      "|     fumyuun/coffeed|  [{C, 3838}]|            C|     3838|         null|\n",
      "|      pollo89/pdroll|  [{C, 1194}]|            C|     1194|         null|\n",
      "|   duncanthrax/pdkim|[{C, 240159}]|            C|   240159|         null|\n",
      "|jean-edouard/libx...| [{C, 32840}]|            C|    32840|         null|\n",
      "|raghumdani/ubuntu...| [{C, 18359}]|            C|    18359|         null|\n",
      "|pavelvpster/OpenW...|  [{C, 6617}]|            C|     6617|         null|\n",
      "|     yukipyon/linkme|  [{C, 4635}]|            C|     4635|         null|\n",
      "|efthymios-ks/AVR-...| [{C, 10563}]|            C|    10563|         null|\n",
      "|TheArbiter/Comput...| [{C, 20013}]|            C|    20013|         null|\n",
      "|quantumvm/RemoveC...|  [{C, 1341}]|            C|     1341|         null|\n",
      "|BenSeverson/LaFon...|[{C, 390686}]|            C|   390686|         null|\n",
      "|  Arnie97/txt2sketch|  [{C, 7739}]|            C|     7739|         null|\n",
      "|drfeelngood/check...|  [{C, 1509}]|            C|     1509|         null|\n",
      "|wuhaiwei11/helloword|    [{C, 19}]|            C|       19|         null|\n",
      "|blkcatman/UnitySh...| [{C, 29796}]|            C|    29796|         null|\n",
      "+--------------------+-------------+-------------+---------+-------------+\n",
      "only showing top 20 rows\n",
      "\n"
     ]
    },
    {
     "name": "stderr",
     "output_type": "stream",
     "text": [
      "                                                                                \r"
     ]
    },
    {
     "name": "stdout",
     "output_type": "stream",
     "text": [
      "+--------------------+--------------------+-------------+---------+--------------+\n",
      "|           repo_name|            language|mono_language|mono_size| poly_language|\n",
      "+--------------------+--------------------+-------------+---------+--------------+\n",
      "|       ursic/kotivox|[{C, 14188}, {D, ...|         null|        0|          C, D|\n",
      "|  tjingrant/Nussinov| [{C, 190}, {D, 18}]|         null|        0|          C, D|\n",
      "|   juanjux/scramjets|[{C, 1764}, {D, 3...|         null|        0|  C, D, Python|\n",
      "|         o3o/d-notes|[{C, 580}, {D, 23...|         null|        0|C, D, Makefile|\n",
      "|ville-k/stanford_...|[{C, 9687}, {M, 9...|         null|        0|  C, M, Matlab|\n",
      "|oofaish/abcCellCy...|[{C, 16145}, {M, ...|         null|        0|  C, M, Matlab|\n",
      "|      reshadh/mixest|[{C, 8635}, {M, 4...|         null|        0|C, Matlab, TeX|\n",
      "|     cran/PermuteNGS|[{C, 5065}, {R, 1...|         null|        0|          C, R|\n",
      "|         zedshaw/utu|[{C, 356283}, {R,...|         null|        0|    C, R, Ruby|\n",
      "|DistanceDevelopme...|[{C, 1284}, {R, 1...|         null|        0|   C, R, Shell|\n",
      "|       Eric-Dang/gen|[{C, 29444}, {C#,...|         null|        0|         C, C#|\n",
      "|sprawls/wonderjam...|[{C, 812}, {C#, 1...|         null|        0|         C, C#|\n",
      "|thenightraven89/l...|[{C, 2870}, {C#, ...|         null|        0|         C, C#|\n",
      "|   jump4r/SpacePaint|[{C, 821}, {C#, 1...|         null|        0|         C, C#|\n",
      "|         850i/APIMon|[{C, 2845}, {C#, ...|         null|        0|         C, C#|\n",
      "|danicomo/9dof-ori...|[{C, 87592}, {C#,...|         null|        0| C, C#, Matlab|\n",
      "|aa1000/ServerAndL...|[{C, 417}, {C#, 2...|         null|        0|    C, C#, C++|\n",
      "|btmills/Partition...|[{C, 3472}, {C#, ...|         null|        0|    C, C#, C++|\n",
      "| nektra/XPSWatermark|[{C, 1132}, {C#, ...|         null|        0|    C, C#, C++|\n",
      "|      Ochrazy/Escape|[{C, 115}, {C#, 1...|         null|        0|    C, C#, C++|\n",
      "+--------------------+--------------------+-------------+---------+--------------+\n",
      "only showing top 20 rows\n",
      "\n",
      "The number of repositories that use only one language is 1203335\n",
      "The number of repositories that use multiple language is DataFrame[repo_name: string, language: array<struct<name:string,bytes:bigint>>, mono_language: string, mono_size: string, poly_language: string]\n"
     ]
    }
   ],
   "source": [
    "from pyspark.sql.functions import size, col, UserDefinedFunction, explode\n",
    "from pyspark.sql.types import StringType\n",
    "from itertools import combinations\n",
    "\n",
    "LIMIT = 10\n",
    "EXPLODE_PIE_CHART = tuple([.05] * LIMIT)\n",
    "\n",
    "# Load data from BigQuery.\n",
    "df = spark.read.format('bigquery') \\\n",
    "  .option('table', 'bigquery-public-data.github_repos.languages') \\\n",
    "  .load()\n",
    "\n",
    "def preprocess_monorepo(arr) -> str:\n",
    "    if len(arr) != 1:\n",
    "        return None\n",
    "    return arr[0].name\n",
    "\n",
    "def preprocess_monorepo_size(arr) -> int:\n",
    "    if len(arr) != 1:\n",
    "        return 0\n",
    "    return arr[0].bytes\n",
    "\n",
    "def preprocess_polyrepo(arr) -> str:\n",
    "    if len(arr) < 2:\n",
    "        return None\n",
    "    arr.sort(key=lambda x : -x.bytes)\n",
    "    sub = arr[:3]\n",
    "    sub.sort(key=lambda x : x.name)\n",
    "    ret = []\n",
    "    for elem in sub:\n",
    "        ret.append(elem.name)\n",
    "    return ', '.join(ret)\n",
    "\n",
    "udf_map = {\n",
    "    \"mono_language\": preprocess_monorepo,\n",
    "    \"mono_size\": preprocess_monorepo_size,\n",
    "    \"poly_language\": preprocess_polyrepo,\n",
    "}\n",
    "\n",
    "for name, udf in udf_map.items():\n",
    "    df = df.withColumn(name, UserDefinedFunction(udf)(col(\"language\")))\n",
    "    \n",
    "df.createOrReplaceTempView('df_view')\n",
    "df.printSchema()\n",
    "df.show()\n",
    "# See the number of repositories of monoglot(single language used) and polyglot(multiple languages used).\n",
    "mono = df.where(size(col(\"language\")) == 1).count()\n",
    "poly = df.where(size(col(\"language\")) > 1).count()\n",
    "print(f\"The number of repositories that use only one language is {mono}\")\n",
    "print(f\"The number of repositories that use multiple language is {poly}\")"
   ]
  },
  {
   "cell_type": "code",
   "execution_count": 40,
   "id": "54405827-452b-4f87-b3d9-116505e17627",
   "metadata": {},
   "outputs": [
    {
     "name": "stderr",
     "output_type": "stream",
     "text": [
      "                                                                                \r"
     ]
    },
    {
     "name": "stdout",
     "output_type": "stream",
     "text": [
      "+-------------+------+\n",
      "|mono_language|   cnt|\n",
      "+-------------+------+\n",
      "|   JavaScript|203856|\n",
      "|       Python|191107|\n",
      "|         Java|183299|\n",
      "|         Ruby|106329|\n",
      "|          PHP| 96089|\n",
      "|           C#| 57746|\n",
      "|        Shell| 56174|\n",
      "|           Go| 42843|\n",
      "|  Objective-C| 22484|\n",
      "|          C++| 21983|\n",
      "|         HTML| 20728|\n",
      "|            C| 16377|\n",
      "|      Haskell| 15981|\n",
      "|      Clojure| 12226|\n",
      "|        Swift| 10898|\n",
      "|        Scala| 10757|\n",
      "|          CSS| 10619|\n",
      "|            R|  9044|\n",
      "|         Perl|  8883|\n",
      "|         Rust|  8309|\n",
      "+-------------+------+\n",
      "only showing top 20 rows\n",
      "\n"
     ]
    },
    {
     "name": "stderr",
     "output_type": "stream",
     "text": [
      "                                                                                \r"
     ]
    },
    {
     "data": {
      "text/plain": [
       "<AxesSubplot:ylabel='cnt'>"
      ]
     },
     "execution_count": 40,
     "metadata": {},
     "output_type": "execute_result"
    },
    {
     "data": {
      "image/png": "[encoded data removed]",
      "text/plain": [
       "<Figure size 576x576 with 1 Axes>"
      ]
     },
     "metadata": {},
     "output_type": "display_data"
    }
   ],
   "source": [
    "# Sort the monoglot repositories by the popularity of languages and see the top 10 languages.\n",
    "mono_ranking = spark.sql(\"\"\"\n",
    "    SELECT\n",
    "        df_view.mono_language,\n",
    "        count(df_view.mono_language) AS `cnt`\n",
    "    FROM\n",
    "        df_view\n",
    "    GROUP BY\n",
    "        df_view.mono_language\n",
    "    ORDER BY\n",
    "        `cnt` DESC\n",
    "\"\"\")\n",
    "\n",
    "mono_ranking.show()\n",
    "mono_panda = mono_ranking.toPandas()[:LIMIT].copy()\n",
    "mono_panda.groupby(['mono_language'])\n",
    "        .sum()\n",
    "        .plot(\n",
    "            kind='pie',\n",
    "            y='cnt',\n",
    "            autopct='%1.0f%%',\n",
    "            figsize=(8, 8),\n",
    "            explode=EXPLODE_PIE_CHART\n",
    "        )"
   ]
  },
  {
   "cell_type": "code",
   "execution_count": 42,
   "id": "208524ff-83c7-4d22-9b9b-0b3f18f09d8e",
   "metadata": {},
   "outputs": [
    {
     "name": "stderr",
     "output_type": "stream",
     "text": [
      "[Stage 99:>                                                         (0 + 1) / 1]\r"
     ]
    },
    {
     "name": "stdout",
     "output_type": "stream",
     "text": [
      "+----------------+-----------+-----+\n",
      "|   mono_language|average(MB)|  cnt|\n",
      "+----------------+-----------+-----+\n",
      "|     Mathematica|     4447.0|  244|\n",
      "|Jupyter Notebook|     2224.0| 2539|\n",
      "|       Pure Data|     1585.0|  132|\n",
      "|           Eagle|     1322.0|  349|\n",
      "|             Max|     1046.0|  112|\n",
      "|           KiCad|      551.0|  266|\n",
      "|            HTML|      547.0|20728|\n",
      "|         PLpgSQL|      447.0|  121|\n",
      "|           PLSQL|      427.0|  208|\n",
      "|           Groff|      426.0|  110|\n",
      "|          Pascal|      358.0| 1263|\n",
      "|          AutoIt|      297.0|  266|\n",
      "|       Smalltalk|      291.0|  144|\n",
      "|    ActionScript|      224.0| 1420|\n",
      "|              C#|      224.0|57746|\n",
      "|    Visual Basic|      217.0| 2309|\n",
      "|             IDL|      208.0|  146|\n",
      "|          MATLAB|      178.0|  463|\n",
      "|             Lua|      174.0| 7891|\n",
      "|        Assembly|      165.0|  763|\n",
      "+----------------+-----------+-----+\n",
      "only showing top 20 rows\n",
      "\n"
     ]
    },
    {
     "name": "stderr",
     "output_type": "stream",
     "text": [
      "                                                                                \r"
     ]
    }
   ],
   "source": [
    "# Get the average size in MegaBytes of each monoglot repositories and sort by it's size\n",
    "mono_ranking_avg_bytes = spark.sql(\"\"\"\n",
    "    SELECT\n",
    "        df_view.mono_language, \n",
    "        round(avg(df_view.mono_size/1000)) AS `average(MB)`,\n",
    "        count(df_view.mono_language) AS `cnt`\n",
    "    FROM \n",
    "        df_view\n",
    "    GROUP BY df_view.mono_language\n",
    "    ORDER BY\n",
    "        `average(MB)` DESC\n",
    "\"\"\")\n",
    "mono_ranking_avg_bytes = mono_ranking_avg_bytes.filter(col('cnt') > 100)\n",
    "mono_ranking_avg_bytes.show()"
   ]
  },
  {
   "cell_type": "code",
   "execution_count": 431,
   "id": "e4e46019-989c-45b6-b12d-9466b5f8a8ba",
   "metadata": {},
   "outputs": [
    {
     "name": "stderr",
     "output_type": "stream",
     "text": [
      "                                                                                \r"
     ]
    },
    {
     "name": "stdout",
     "output_type": "stream",
     "text": [
      "+--------------------+------+\n",
      "|       poly_language|   cnt|\n",
      "+--------------------+------+\n",
      "|CSS, HTML, JavaSc...|250777|\n",
      "|CSS, JavaScript, PHP| 71306|\n",
      "|     CSS, JavaScript| 60494|\n",
      "|    HTML, JavaScript| 53498|\n",
      "|       Python, Shell| 33751|\n",
      "|           CSS, HTML| 26961|\n",
      "|     CSS, HTML, Ruby| 25067|\n",
      "|HTML, JavaScript,...| 22135|\n",
      "|   Objective-C, Ruby| 21534|\n",
      "|HTML, JavaScript,...| 19858|\n",
      "|         Ruby, Shell| 19756|\n",
      "|CSS, JavaScript, ...| 18015|\n",
      "|CSS, JavaScript, ...| 16895|\n",
      "|    Assembly, C, C++| 14932|\n",
      "|              C, C++| 13912|\n",
      "|      CSS, HTML, PHP| 13058|\n",
      "|CSS, Java, JavaSc...| 13025|\n",
      "|      C, C++, Python| 12873|\n",
      "|   CSS, HTML, Python| 12725|\n",
      "|         Java, Shell| 11968|\n",
      "+--------------------+------+\n",
      "only showing top 20 rows\n",
      "\n"
     ]
    },
    {
     "name": "stderr",
     "output_type": "stream",
     "text": [
      "                                                                                \r"
     ]
    },
    {
     "data": {
      "text/plain": [
       "<AxesSubplot:ylabel='cnt'>"
      ]
     },
     "execution_count": 431,
     "metadata": {},
     "output_type": "execute_result"
    },
    {
     "data": {
      "image/png": "[encoded data removed]",
      "text/plain": [
       "<Figure size 576x576 with 1 Axes>"
      ]
     },
     "metadata": {},
     "output_type": "display_data"
    }
   ],
   "source": [
    "poly_ranking = spark.sql(\"\"\"\n",
    "    SELECT\n",
    "        df_view.poly_language,\n",
    "        count(df_view.poly_language) AS cnt\n",
    "    FROM\n",
    "        df_view\n",
    "    GROUP BY df_view.poly_language\n",
    "    ORDER BY\n",
    "        cnt DESC\n",
    "\"\"\")\n",
    "poly_ranking.show()\n",
    "\n",
    "poly_panda = poly_ranking.toPandas()[:LIMIT].copy()\n",
    "poly_panda.groupby(['poly_language'])\n",
    "        .sum()\n",
    "        .plot(\n",
    "            kind='pie',\n",
    "            y='cnt',\n",
    "            autopct='%1.0f%%',\n",
    "            figsize=(8, 8),\n",
    "            explode=EXPLODE_PIE_CHART\n",
    "        )"
   ]
  },
  {
   "cell_type": "code",
   "execution_count": 49,
   "id": "c136e4bb-9d0a-40f9-bd8f-64e9ccc06b67",
   "metadata": {},
   "outputs": [
    {
     "name": "stderr",
     "output_type": "stream",
     "text": [
      "                                                                                \r"
     ]
    },
    {
     "name": "stdout",
     "output_type": "stream",
     "text": [
      "== Physical Plan ==\n",
      "LocalTableScan [lang0_lang1#6140, 1C Enterprise#7568L, ABAP#7569L, AGS Script#7570L, AIDL#7571L, AL#7572L, AMPL#7573L, ANTLR#7574L, API Blueprint#7575L, APL#7576L, ASL#7577L, ASP#7578L, ASP.NET#7579L, ATS#7580L, ActionScript#7581L, Ada#7582L, Agda#7583L, Alloy#7584L, AngelScript#7585L, ApacheConf#7586L, Apex#7587L, AppleScript#7588L, Arc#7589L, Arduino#7590L, ... 452 more fields]\n",
      "\n",
      "\n"
     ]
    }
   ],
   "source": [
    "from pyspark.sql.types import ArrayType, FloatType, StringType\n",
    "\n",
    "def preprocess_reduce_language(arr):\n",
    "    return [i.name for i in arr]\n",
    "\n",
    "def preprocess_combination(arr):\n",
    "    arr_combinations = []\n",
    "    for combination in combinations(arr, 2):\n",
    "        arr_combinations.append(combination)\n",
    "        arr_combinations.append(combination[::-1])\n",
    "    return arr_combinations\n",
    "\n",
    "\n",
    "df = df.withColumn(\n",
    "        \"reduced_languages\",\n",
    "        UserDefinedFunction(\n",
    "            preprocess_reduce_language,\n",
    "            ArrayType(StringType())\n",
    "        )(col(\"language\"))\n",
    "    )\n",
    "df = df.withColumn(\n",
    "        \"combinations\",\n",
    "        UserDefinedFunction(\n",
    "            preprocess_combination, \n",
    "            ArrayType(ArrayType(StringType()))\n",
    "        )(col(\"reduced_languages\"))\n",
    "    )\n",
    "\n",
    "df_new = df.select(col(\"repo_name\"), col(\"combinations\")).where(col(\"poly_language\").isNotNull())\n",
    "df_new = df_new.withColumn(\"languages\", F.explode(col(\"combinations\")))\n",
    "df_new = df_new.withColumn(\"lang0\", F.col('languages')[0])\n",
    "df_new = df_new.withColumn(\"lang1\", F.col('languages')[1])\n",
    "df_new = df_new.crosstab(\"lang0\", \"lang1\")\n",
    "df_new.createOrReplaceTempView('df_new_view')\n",
    "df_new.explain()"
   ]
  },
  {
   "cell_type": "code",
   "execution_count": 58,
   "id": "5ef78c63-6e56-48b8-8dab-dddce8ecf9c4",
   "metadata": {},
   "outputs": [
    {
     "name": "stdout",
     "output_type": "stream",
     "text": [
      "+-------------+------+\n",
      "|  lang0_lang1|   C++|\n",
      "+-------------+------+\n",
      "|            C|182053|\n",
      "|        Shell|133209|\n",
      "|     Makefile| 97912|\n",
      "|       Python| 96561|\n",
      "|  Objective-C| 74869|\n",
      "|        CMake| 49992|\n",
      "|   JavaScript| 47079|\n",
      "|         Perl| 46596|\n",
      "|         HTML| 45648|\n",
      "|     Assembly| 40439|\n",
      "|          CSS| 39719|\n",
      "|         Java| 32456|\n",
      "|    Batchfile| 29680|\n",
      "|         Ruby| 22703|\n",
      "|          PHP| 18368|\n",
      "|           C#| 17860|\n",
      "|          Awk| 17827|\n",
      "|        QMake| 17012|\n",
      "|        Groff| 16640|\n",
      "|Objective-C++| 15968|\n",
      "+-------------+------+\n",
      "\n"
     ]
    }
   ],
   "source": [
    "py_df = spark.sql('''\n",
    "    SELECT lang0_lang1, `C++` from df_new_view ORDER BY `C++` DESC LIMIT 20\n",
    "''')\n",
    "\n",
    "py_df.show()"
   ]
  },
  {
   "cell_type": "code",
   "execution_count": null,
   "id": "adc91d73-9ad3-4725-a988-2132b103c65f",
   "metadata": {},
   "outputs": [],
   "source": [
    "# fcore = single.where(col('repo_name')==\"Frankenhooker/FCore\")\n",
    "# fcore.select(col(\"repo_name\"), col(\"language\"), size(col(\"language\"))).show()\n",
    "\n",
    "# #standardSQL\n",
    "# SELECT repo_name, elem.name, elem.bytes\n",
    "# FROM `github_activity_data.languages`, UNNEST(language) as elem\n",
    "# WHERE \n",
    "# ORDER BY elem.bytes DESC\n",
    "\n",
    "\n",
    "# spark.sql('SELECT DISTINCT repo_name, language FROM single_view').show()\n",
    "# single.withColumn(\"test\", explode($\"language\")).show\n",
    "\n",
    "# print(single, poly)\n",
    "# print(_all, single, poly)\n",
    "# single = df.select(col(\"repo_name\"), col(\"language\"), size(col(\"language\"))\n",
    "#     )\n",
    "# single.show()\n",
    "# df.groupBy(size(col(\"language\"))).show()\n",
    "# test_words.printSchema()\n",
    "\n",
    "# Saving the data to BigQuery\n",
    "# word_count.write.format('bigquery') \\\n",
    "#   .option('table', 'wordcount_dataset.wordcount_output') \\\n",
    "#   .save()\n",
    "\n",
    "\n",
    "# Using UDF(User Defined Function), the actual plan is following.\n",
    "# Create a new column named “dominant_language: string”.\n",
    "# If len(language) == 0:\n",
    "# dominant_language = null and drop the row.\n",
    "# Else if len(language) == 1:\n",
    "# dominant_language = language.name.\n",
    "# Else if len(language) > 1:\n",
    "# iterate the array\n",
    "# Ignore languages if the percentage is less than 10%\n",
    "# Choose top 3 languages in a repo to make a group\n",
    "# In this case, these top 3 languages will not categorize well. Most of the combination of languages will be the part of web development.\n",
    "\n",
    "# Instead of choose top 3 languages to group them, \n"
   ]
  },
  {
   "cell_type": "code",
   "execution_count": 202,
   "id": "df10d3b4-0a36-4d8b-9ea2-b727153e58d4",
   "metadata": {},
   "outputs": [
    {
     "name": "stdout",
     "output_type": "stream",
     "text": [
      "           votes_of_each_class\n",
      "Name                          \n",
      "Aparna                      77\n",
      "Juhi                        51\n",
      "Suprabhat                   95\n"
     ]
    }
   ],
   "source": [
    "import pandas as pd\n",
    "  \n",
    "# DataFrame of each student and the votes they get\n",
    "dataframe = pd.DataFrame({'Name': ['Aparna', 'Aparna', 'Aparna', \n",
    "                                   'Aparna', 'Aparna', 'Juhi', \n",
    "                                   'Juhi', 'Juhi', 'Juhi', 'Juhi',\n",
    "                                   'Suprabhat', 'Suprabhat', \n",
    "                                   'Suprabhat', 'Suprabhat', \n",
    "                                   'Suprabhat'],\n",
    "                          'votes_of_each_class': [12, 9, 17, 19, \n",
    "                                                  20, 11, 15, 12, \n",
    "                                                  9, 4, 22, 19, 17, \n",
    "                                                  19, 18]})\n",
    "  \n",
    "# Plotting the pie chart for above dataframe\n",
    "print(dataframe.groupby(['Name']).sum())"
   ]
  },
  {
   "cell_type": "code",
   "execution_count": 574,
   "id": "0e591e16-e81a-4646-9870-101bb051128e",
   "metadata": {},
   "outputs": [
    {
     "name": "stdout",
     "output_type": "stream",
     "text": [
      "+----+------------------+\n",
      "|user|              pets|\n",
      "+----+------------------+\n",
      "|  aa|[dog, cat, lizard]|\n",
      "|  bb|     [dog, spider]|\n",
      "|  cc|[dog, cat, monkey]|\n",
      "+----+------------------+\n",
      "\n",
      "+----+-------------+\n",
      "|user|         pets|\n",
      "+----+-------------+\n",
      "|  aa|[dog, lizard]|\n",
      "|  aa|   [cat, dog]|\n",
      "|  aa|[cat, lizard]|\n",
      "|  bb|[dog, spider]|\n",
      "|  cc|[dog, monkey]|\n",
      "|  cc|   [cat, dog]|\n",
      "|  cc|[cat, monkey]|\n",
      "+----+-------------+\n",
      "\n",
      "+---------+---+------+------+------+\n",
      "|pet0_pet1|dog|lizard|monkey|spider|\n",
      "+---------+---+------+------+------+\n",
      "|      cat|  2|     1|     1|     0|\n",
      "|      dog|  0|     1|     1|     1|\n",
      "+---------+---+------+------+------+\n",
      "\n"
     ]
    }
   ],
   "source": [
    "from pyspark.sql import functions as F\n",
    "df = spark.createDataFrame(\n",
    "    [('aa', [[\"dog\"], [\"cat\"], [\"lizard\"]]),\n",
    "     ('bb', [[\"dog\"], [\"spider\"]]),\n",
    "     ('cc', [[\"dog\"], [\"cat\"], [\"monkey\"]])],\n",
    "    ['user', 'pets'])\n",
    "\n",
    "\n",
    "df = df.withColumn('pets', F.flatten('pets'))\n",
    "\n",
    "df.show()\n",
    "combinations = (F.filter(\n",
    "    F.transform(\n",
    "        F.flatten(F.transform(\n",
    "            'pets',\n",
    "            lambda x: F.arrays_zip(F.array_repeat(x, F.size('pets')), 'pets')\n",
    "        )),\n",
    "        lambda x: F.array(x['0'], x['pets'])\n",
    "    ),\n",
    "    lambda x: x[0] < x[1]\n",
    "))\n",
    "df = df.withColumn('pets', F.explode(combinations))\n",
    "df.show()\n",
    "df = df.withColumn('pet0', F.col('pets')[0])\n",
    "df = df.withColumn('pet1', F.col('pets')[1])\n",
    "\n",
    "df = df.crosstab(\"pet0\", \"pet1\")\n",
    "\n",
    "df.show()\n"
   ]
  },
  {
   "cell_type": "code",
   "execution_count": null,
   "id": "a2c210be-5811-46a9-9a85-80286bf10880",
   "metadata": {},
   "outputs": [],
   "source": []
  },
  {
   "cell_type": "code",
   "execution_count": 15,
   "id": "0369c32e-2439-4d68-9713-a174701e908b",
   "metadata": {},
   "outputs": [
    {
     "name": "stderr",
     "output_type": "stream",
     "text": [
      "[Stage 42:>                                                         (0 + 1) / 1]\r"
     ]
    },
    {
     "name": "stdout",
     "output_type": "stream",
     "text": [
      "+--------------------+-----------+\n",
      "|           repo_name|   language|\n",
      "+--------------------+-----------+\n",
      "|   modocache/color.c|          C|\n",
      "|ADN-DevTech/3dsMa...|        C++|\n",
      "|   ufna/VaOcean-Demo|          C|\n",
      "|avalonfr/avalon_c...|        PHP|\n",
      "|    soumith/fbthrift|      Shell|\n",
      "|ss13remake/msprit...|         C#|\n",
      "|KeyboardFire/cave...| JavaScript|\n",
      "|aquiatanelvin13/j...|         EQ|\n",
      "|orangeduck/CPP_CO...|          C|\n",
      "|      evaleev/dynamo|        C++|\n",
      "|    robomq/robomq.io|     Python|\n",
      "|r-o-k-u-r-o-u/Alg...|       Ruby|\n",
      "|        lvu/rtf2html|   Makefile|\n",
      "|     paperclip/talpa|      Shell|\n",
      "|      edombowsky/tig|          C|\n",
      "|liberalcoin/liber...|        IDL|\n",
      "|chriswongtv/Grand...|Objective-C|\n",
      "|  jindulys/Wikipedia|   Makefile|\n",
      "| hgl888/chromium-efl|      Shell|\n",
      "| astraycat/astraybot|      Groff|\n",
      "+--------------------+-----------+\n",
      "only showing top 20 rows\n",
      "\n"
     ]
    },
    {
     "name": "stderr",
     "output_type": "stream",
     "text": [
      "                                                                                \r"
     ]
    },
    {
     "ename": "AttributeError",
     "evalue": "module 'pyspark.sql.functions' has no attribute 'join'",
     "output_type": "error",
     "traceback": [
      "\u001b[0;31m---------------------------------------------------------------------------\u001b[0m",
      "\u001b[0;31mAttributeError\u001b[0m                            Traceback (most recent call last)",
      "Input \u001b[0;32mIn [15]\u001b[0m, in \u001b[0;36m<cell line: 12>\u001b[0;34m()\u001b[0m\n\u001b[1;32m     10\u001b[0m \u001b[38;5;66;03m# test = df.select(df.repo_name, explode_outer(df.language['name']).alias(\"language\")).where(df.repo_name=='iloveG/APM').show()\u001b[39;00m\n\u001b[1;32m     11\u001b[0m languages\u001b[38;5;241m.\u001b[39mshow()\n\u001b[0;32m---> 12\u001b[0m languages \u001b[38;5;241m=\u001b[39m languages\u001b[38;5;241m.\u001b[39mselect(df\u001b[38;5;241m.\u001b[39mrepo_name, \u001b[43mF\u001b[49m\u001b[38;5;241;43m.\u001b[39;49m\u001b[43mjoin\u001b[49m(\u001b[38;5;124m'\u001b[39m\u001b[38;5;124m'\u001b[39m\u001b[38;5;241m.\u001b[39mcol(\u001b[38;5;124m\"\u001b[39m\u001b[38;5;124mlanguage\u001b[39m\u001b[38;5;124m\"\u001b[39m),\u001b[38;5;124m\"\u001b[39m\u001b[38;5;124m,\u001b[39m\u001b[38;5;124m\"\u001b[39m)\u001b[38;5;241m.\u001b[39malias(\u001b[38;5;124m\"\u001b[39m\u001b[38;5;124mlanguage\u001b[39m\u001b[38;5;124m\"\u001b[39m))\n",
      "\u001b[0;31mAttributeError\u001b[0m: module 'pyspark.sql.functions' has no attribute 'join'"
     ]
    }
   ],
   "source": [
    "from pyspark.sql.functions import explode_outer, flatten, transform, arrays_zip, array_repeat, size, array\n",
    "from pyspark.sql import functions as F\n",
    "import itertools\n",
    "\n",
    "languages = df.select(df.repo_name, explode_outer(df.language['name']) \\\n",
    "                .alias(\"language\")) \\\n",
    "                .distinct() \\\n",
    "                .filter(col(\"language\") \\\n",
    "                .isNotNull())\n",
    "# test = df.select(df.repo_name, explode_outer(df.language['name']).alias(\"language\")).where(df.repo_name=='iloveG/APM').show()\n",
    "languages.show()\n",
    "languages = languages.select(df.repo_name, F.join(''.col(\"language\"),\",\").alias(\"language\"))\n",
    "\n",
    "# combinations = (F.filter\n",
    "#                     (F.transform\n",
    "#                          (F.flatten\n",
    "#                               (F.transform('language', \n",
    "#                                        lambda x: F.arrays_zip(F.array_repeat(x, F.size('language')), \n",
    "#                                        'language'))), \n",
    "#                          lambda x: F.array(x['0'], x['language'])), \n",
    "#                      lambda x: x[0] < x[1]))\n",
    "\n",
    "# languages = languages.withColumn('language', F.explode(combinations))\n",
    "\n",
    "# languages = languages.withColumn('language', F.explode(combinations))\n",
    "# languages = languages.withColumn('language0', F.col('language')[0])\n",
    "# languages = languages.withColumn('language1', F.col('language')[1])\n",
    "\n",
    "# languages = languages.crosstab(\"language0\", \"language1\")\n",
    "\n",
    "# languages.show()\n",
    "# languages.count()"
   ]
  }
 ],
 "metadata": {
  "kernelspec": {
   "display_name": "Python 3",
   "language": "python",
   "name": "python3"
  },
  "language_info": {
   "codemirror_mode": {
    "name": "ipython",
    "version": 3
   },
   "file_extension": ".py",
   "mimetype": "text/x-python",
   "name": "python",
   "nbconvert_exporter": "python",
   "pygments_lexer": "ipython3",
   "version": "3.8.13"
  }
 },
 "nbformat": 4,
 "nbformat_minor": 5
}
