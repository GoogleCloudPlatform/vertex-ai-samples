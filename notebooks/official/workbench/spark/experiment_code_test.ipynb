{
 "cells": [
  {
   "cell_type": "code",
   "execution_count": 716,
   "id": "413498cf-4582-4b66-92c5-527f67459c60",
   "metadata": {},
   "outputs": [],
   "source": [
    "#!/usr/bin/python\n",
    "\"\"\"BigQuery I/O PySpark example.\"\"\"\n",
    "from pyspark.sql import SparkSession\n",
    "spark = SparkSession.builder \\\n",
    "    .appName('spark-bigquery-polyglot-language-demo') \\\n",
    "    .config('spark.jars', 'gs://spark-lib/bigquery/spark-bigquery-with-dependencies_2.12-0.25.2.jar') \\\n",
    "    .getOrCreate()"
   ]
  },
  {
   "cell_type": "code",
   "execution_count": 717,
   "id": "d6aeebdf-433c-488a-8fb7-2d5f22ecb141",
   "metadata": {},
   "outputs": [
    {
     "name": "stdout",
     "output_type": "stream",
     "text": [
      "root\n",
      " |-- repo_name: string (nullable = true)\n",
      " |-- language: array (nullable = true)\n",
      " |    |-- element: struct (containsNull = true)\n",
      " |    |    |-- name: string (nullable = true)\n",
      " |    |    |-- bytes: long (nullable = true)\n",
      " |-- mono_language: string (nullable = true)\n",
      " |-- mono_size: string (nullable = true)\n",
      " |-- poly_language: string (nullable = true)\n",
      "\n"
     ]
    }
   ],
   "source": [
    "from pyspark.sql.functions import size, col, UserDefinedFunction, explode\n",
    "from pyspark.sql.types import StringType\n",
    "from itertools import combinations\n",
    "\n",
    "# Load data from BigQuery.\n",
    "df = spark.read.format('bigquery') \\\n",
    "  .option('table', 'bigquery-public-data.github_repos.languages') \\\n",
    "  .load()\n",
    "\n",
    "def preprocess_monorepo(arr) -> str:\n",
    "    if len(arr) != 1:\n",
    "        return None\n",
    "    return arr[0].name\n",
    "\n",
    "def preprocess_monorepo_size(arr) -> int:\n",
    "    if len(arr) != 1:\n",
    "        return 0\n",
    "    return arr[0].bytes\n",
    "\n",
    "def preprocess_polyrepo(arr) -> str:\n",
    "    if len(arr) < 2:\n",
    "        return None\n",
    "    arr.sort(key=lambda x : -x.bytes)\n",
    "    sub = arr[:3]\n",
    "    sub.sort(key=lambda x : x.name)\n",
    "    ret = []\n",
    "    for elem in sub:\n",
    "        ret.append(elem.name)\n",
    "    return ', '.join(ret)\n",
    "\n",
    "udf_map = {\n",
    "    \"mono_language\": preprocess_monorepo,\n",
    "    \"mono_size\": preprocess_monorepo_size,\n",
    "    \"poly_language\": preprocess_polyrepo,\n",
    "}\n",
    "\n",
    "for name, udf in udf_map.items():\n",
    "    df = df.withColumn(name, UserDefinedFunction(udf)(col(\"language\")))\n",
    "    \n",
    "df.createOrReplaceTempView('df_view')\n",
    "df.printSchema()"
   ]
  },
  {
   "cell_type": "code",
   "execution_count": null,
   "id": "54405827-452b-4f87-b3d9-116505e17627",
   "metadata": {},
   "outputs": [
    {
     "name": "stdout",
     "output_type": "stream",
     "text": [
      "+--------------------+-------------+-------------+---------+-------------+\n",
      "|           repo_name|     language|mono_language|mono_size|poly_language|\n",
      "+--------------------+-------------+-------------+---------+-------------+\n",
      "|       kroki/seqlock|  [{C, 7673}]|            C|     7673|         null|\n",
      "|andreasfrom/array...|  [{C, 8770}]|            C|     8770|         null|\n",
      "| fruitnuke/exercises| [{C, 16261}]|            C|    16261|         null|\n",
      "|     you21979/libmti| [{C, 13087}]|            C|    13087|         null|\n",
      "|shakilahmmeed/Wal...|  [{C, 8816}]|            C|     8816|         null|\n",
      "|   stekershaw/getmac|  [{C, 1884}]|            C|     1884|         null|\n",
      "|      keesvp/libkees| [{C, 49347}]|            C|    49347|         null|\n",
      "|xanthium-enterpri...| [{C, 10490}]|            C|    10490|         null|\n",
      "| AT-Lab/Prove-Motori|  [{C, 1079}]|            C|     1079|         null|\n",
      "|salgado/prog1-201...|    [{C, 82}]|            C|       82|         null|\n",
      "|             onano/C| [{C, 25299}]|            C|    25299|         null|\n",
      "|    gleicon/videodog|[{C, 163356}]|            C|   163356|         null|\n",
      "|  fatmac78/lm352emon| [{C, 13956}]|            C|    13956|         null|\n",
      "|alex8092/Philosophes|  [{C, 4512}]|            C|     4512|         null|\n",
      "|       awd123/tetris|   [{C, 637}]|            C|      637|         null|\n",
      "|           cosmith/c|  [{C, 4691}]|            C|     4691|         null|\n",
      "|    berfenger/linect|[{C, 176267}]|            C|   176267|         null|\n",
      "|MarginC/consisten...| [{C, 19202}]|            C|    19202|         null|\n",
      "|      No-name/smooth| [{C, 24835}]|            C|    24835|         null|\n",
      "|      no0p/windowlab| [{C, 93751}]|            C|    93751|         null|\n",
      "+--------------------+-------------+-------------+---------+-------------+\n",
      "only showing top 20 rows\n",
      "\n"
     ]
    },
    {
     "name": "stderr",
     "output_type": "stream",
     "text": [
      "[Stage 1158:>                                                       (0 + 1) / 1]\r"
     ]
    }
   ],
   "source": [
    "# Sort the monoglot repositories by the popularity of languages and see the top 10 languages.\n",
    "# mono_ranking = spark.sql(\"\"\"\n",
    "#     SELECT\n",
    "#         df_view.mono_language,\n",
    "#         count(df_view.mono_language) AS `cnt`,\n",
    "#     FROM\n",
    "#         df_view\n",
    "#     GROUP BY\n",
    "#         df_view.mono_language\n",
    "#     ORDER BY\n",
    "#         `cnt` DESC\n",
    "# \"\"\")\n",
    "mono_ranking_avg_bytes = spark.sql(\"\"\"\n",
    "    SELECT\n",
    "        df_view.mono_language, \n",
    "        count(df_view.mono_language) AS `cnt`,\n",
    "        round(avg(df_view.mono_size/1000)) AS `average(MB)`\n",
    "    FROM \n",
    "        df_view\n",
    "    GROUP BY df_view.mono_language\n",
    "    ORDER BY\n",
    "        `average(MB)` DESC\n",
    "\"\"\")\n",
    "mono_ranking = mono_ranking.filter(col('cnt') > 1000)\n",
    "mono_ranking.show()\n",
    "\n",
    "LIMIT = 10\n",
    "mono_panda = mono_ranking.toPandas()[:LIMIT].copy()\n",
    "explode = tuple([.05] * LIMIT)\n",
    "mono_panda.groupby(['mono_language']).sum().plot(kind='pie', y='cnt', autopct='%1.0f%%', figsize=(8, 8), explode=explode)"
   ]
  },
  {
   "cell_type": "code",
   "execution_count": 431,
   "id": "e4e46019-989c-45b6-b12d-9466b5f8a8ba",
   "metadata": {},
   "outputs": [
    {
     "name": "stderr",
     "output_type": "stream",
     "text": [
      "                                                                                \r"
     ]
    },
    {
     "name": "stdout",
     "output_type": "stream",
     "text": [
      "+--------------------+------+\n",
      "|       poly_language|   cnt|\n",
      "+--------------------+------+\n",
      "|CSS, HTML, JavaSc...|250777|\n",
      "|CSS, JavaScript, PHP| 71306|\n",
      "|     CSS, JavaScript| 60494|\n",
      "|    HTML, JavaScript| 53498|\n",
      "|       Python, Shell| 33751|\n",
      "|           CSS, HTML| 26961|\n",
      "|     CSS, HTML, Ruby| 25067|\n",
      "|HTML, JavaScript,...| 22135|\n",
      "|   Objective-C, Ruby| 21534|\n",
      "|HTML, JavaScript,...| 19858|\n",
      "|         Ruby, Shell| 19756|\n",
      "|CSS, JavaScript, ...| 18015|\n",
      "|CSS, JavaScript, ...| 16895|\n",
      "|    Assembly, C, C++| 14932|\n",
      "|              C, C++| 13912|\n",
      "|      CSS, HTML, PHP| 13058|\n",
      "|CSS, Java, JavaSc...| 13025|\n",
      "|      C, C++, Python| 12873|\n",
      "|   CSS, HTML, Python| 12725|\n",
      "|         Java, Shell| 11968|\n",
      "+--------------------+------+\n",
      "only showing top 20 rows\n",
      "\n"
     ]
    },
    {
     "name": "stderr",
     "output_type": "stream",
     "text": [
      "                                                                                \r"
     ]
    },
    {
     "data": {
      "text/plain": [
       "<AxesSubplot:ylabel='cnt'>"
      ]
     },
     "execution_count": 431,
     "metadata": {},
     "output_type": "execute_result"
    },
    {
     "data": {
      "image/png": "[encoded data removed]",
      "text/plain": [
       "<Figure size 576x576 with 1 Axes>"
      ]
     },
     "metadata": {},
     "output_type": "display_data"
    }
   ],
   "source": [
    "# Dataframe.dropna()\n",
    "\n",
    "poly_ranking = spark.sql(\"\"\"\n",
    "    SELECT\n",
    "        df_view.poly_language,\n",
    "        count(df_view.poly_language) AS cnt\n",
    "    FROM\n",
    "        df_view\n",
    "    GROUP BY df_view.poly_language\n",
    "    ORDER BY\n",
    "        cnt DESC\n",
    "\"\"\")\n",
    "poly_ranking.show()\n",
    "\n",
    "poly_panda = poly_ranking.toPandas()[:10].copy()\n",
    "explode = (0.05, 0.05, 0.05, 0.05, 0.05, 0.05, 0.05, 0.05, 0.05, 0.05)\n",
    "poly_panda.groupby(['poly_language']).sum().plot(kind='pie', y='cnt', autopct='%1.0f%%', figsize=(8, 8), explode=explode)"
   ]
  },
  {
   "cell_type": "code",
   "execution_count": 387,
   "id": "2e2c240a-9ea3-4432-9504-f97aa125117a",
   "metadata": {},
   "outputs": [
    {
     "name": "stderr",
     "output_type": "stream",
     "text": [
      "                                                                                \r"
     ]
    },
    {
     "name": "stdout",
     "output_type": "stream",
     "text": [
      "The number of repositories that use only one language is 1203321\n"
     ]
    },
    {
     "name": "stderr",
     "output_type": "stream",
     "text": [
      "[Stage 651:>                                                        (0 + 1) / 1]\r"
     ]
    },
    {
     "name": "stdout",
     "output_type": "stream",
     "text": [
      "The number of repositories that use multiple language is 1752445\n"
     ]
    },
    {
     "name": "stderr",
     "output_type": "stream",
     "text": [
      "                                                                                \r"
     ]
    }
   ],
   "source": [
    "# seperate monoglot(single language used) repos and polyglot(multiple languages used) repos.\n",
    "mono = df.where(size(col(\"language\")) == 1)\n",
    "mono.createOrReplaceTempView('mono_view')\n",
    "poly = df.where(size(col(\"language\")) > 1)\n",
    "poly.createOrReplaceTempView('poly_view')\n",
    "print(f\"The number of repositories that use only one language is {mono.count()}\")\n",
    "print(f\"The number of repositories that use multiple language is {poly.count()}\")"
   ]
  },
  {
   "cell_type": "code",
   "execution_count": 579,
   "id": "0369c32e-2439-4d68-9713-a174701e908b",
   "metadata": {},
   "outputs": [
    {
     "name": "stderr",
     "output_type": "stream",
     "text": [
      "[Stage 1011:>                                                       (0 + 1) / 1]\r"
     ]
    },
    {
     "name": "stdout",
     "output_type": "stream",
     "text": [
      "+--------------------+-----------+\n",
      "|           repo_name|   language|\n",
      "+--------------------+-----------+\n",
      "|   modocache/color.c|          C|\n",
      "|ADN-DevTech/3dsMa...|        C++|\n",
      "|   ufna/VaOcean-Demo|          C|\n",
      "|avalonfr/avalon_c...|        PHP|\n",
      "|    soumith/fbthrift|      Shell|\n",
      "|ss13remake/msprit...|         C#|\n",
      "|KeyboardFire/cave...| JavaScript|\n",
      "|aquiatanelvin13/j...|         EQ|\n",
      "|orangeduck/CPP_CO...|          C|\n",
      "|      evaleev/dynamo|        C++|\n",
      "|    robomq/robomq.io|     Python|\n",
      "|r-o-k-u-r-o-u/Alg...|       Ruby|\n",
      "|        lvu/rtf2html|   Makefile|\n",
      "|     paperclip/talpa|      Shell|\n",
      "|      edombowsky/tig|          C|\n",
      "|liberalcoin/liber...|        IDL|\n",
      "|chriswongtv/Grand...|Objective-C|\n",
      "|  jindulys/Wikipedia|   Makefile|\n",
      "| hgl888/chromium-efl|      Shell|\n",
      "| astraycat/astraybot|      Groff|\n",
      "+--------------------+-----------+\n",
      "only showing top 20 rows\n",
      "\n"
     ]
    },
    {
     "name": "stderr",
     "output_type": "stream",
     "text": [
      "                                                                                \r"
     ]
    }
   ],
   "source": [
    "from pyspark.sql.functions import explode_outer, flatten, transform, arrays_zip, array_repeat, size, array\n",
    "from pyspark.sql import functions as F\n",
    "import itertools\n",
    "\n",
    "languages = df.select(df.repo_name, explode_outer(df.language['name']) \\\n",
    "                .alias(\"language\")) \\\n",
    "                .distinct() \\\n",
    "                .filter(col(\"language\") \\\n",
    "                .isNotNull())\n",
    "# test = df.select(df.repo_name, explode_outer(df.language['name']).alias(\"language\")).where(df.repo_name=='iloveG/APM').show()\n",
    "languages.show()\n",
    "languages = languages.select(df.repo_name, F.join(''.col(\"language\"),\",\").alias(\"language\"))\n",
    "\n",
    "# combinations = (F.filter\n",
    "#                     (F.transform\n",
    "#                          (F.flatten\n",
    "#                               (F.transform('language', \n",
    "#                                        lambda x: F.arrays_zip(F.array_repeat(x, F.size('language')), \n",
    "#                                        'language'))), \n",
    "#                          lambda x: F.array(x['0'], x['language'])), \n",
    "#                      lambda x: x[0] < x[1]))\n",
    "\n",
    "# languages = languages.withColumn('language', F.explode(combinations))\n",
    "\n",
    "# languages = languages.withColumn('language', F.explode(combinations))\n",
    "# languages = languages.withColumn('language0', F.col('language')[0])\n",
    "# languages = languages.withColumn('language1', F.col('language')[1])\n",
    "\n",
    "# languages = languages.crosstab(\"language0\", \"language1\")\n",
    "\n",
    "# languages.show()\n",
    "# languages.count()"
   ]
  },
  {
   "cell_type": "code",
   "execution_count": 692,
   "id": "c136e4bb-9d0a-40f9-bd8f-64e9ccc06b67",
   "metadata": {},
   "outputs": [
    {
     "name": "stderr",
     "output_type": "stream",
     "text": [
      "                                                                                \r"
     ]
    }
   ],
   "source": [
    "from pyspark.sql.types import ArrayType, FloatType, StringType\n",
    "\n",
    "def preprocess_reduce_language(arr):\n",
    "    return [i.name for i in arr]\n",
    "\n",
    "def preprocess_combination(arr):\n",
    "    combi = combinations(arr, 2)\n",
    "    ret = []\n",
    "    for i in combi:\n",
    "        ret.append(i)\n",
    "    return ret\n",
    "\n",
    "df = df.withColumn(\"reduced_languages\", UserDefinedFunction(preprocess_reduce_language, ArrayType(StringType()))(col(\"language\")))\n",
    "df = df.withColumn(\"combinations\", UserDefinedFunction(preprocess_combination, ArrayType(ArrayType(StringType())))(col(\"reduced_languages\")))\n",
    "df_new = df.select(col(\"repo_name\"), col(\"combinations\")).where(col(\"poly_language\").isNotNull())\n",
    "df_new = df_new.withColumn(\"languages\", F.explode(col(\"combinations\")))\n",
    "df_new = df_new.withColumn(\"lang0\", F.col('languages')[0])\n",
    "df_new = df_new.withColumn(\"lang1\", F.col('languages')[1])\n",
    "df_new = df_new.crosstab(\"lang0\", \"lang1\").as(\"language\")\n",
    "df_new.createOrReplaceTempView('df_new_view')"
   ]
  },
  {
   "cell_type": "code",
   "execution_count": 711,
   "id": "5ef78c63-6e56-48b8-8dab-dddce8ecf9c4",
   "metadata": {},
   "outputs": [
    {
     "name": "stdout",
     "output_type": "stream",
     "text": [
      "+------------+------+\n",
      "| lang0_lang1|   C++|\n",
      "+------------+------+\n",
      "|           C|182053|\n",
      "|    Assembly| 40439|\n",
      "|   Batchfile| 29680|\n",
      "|          C#| 17860|\n",
      "|         Awk| 17827|\n",
      "|         ASP| 12566|\n",
      "|     Arduino|  9021|\n",
      "|  ApacheConf|  4434|\n",
      "|       Bison|  3272|\n",
      "|         Ada|  1812|\n",
      "| AppleScript|  1726|\n",
      "|ActionScript|  1493|\n",
      "|     BitBake|   600|\n",
      "|   Brainfuck|   539|\n",
      "|         Arc|   402|\n",
      "|  AutoHotkey|   401|\n",
      "|       ANTLR|   365|\n",
      "|        ABAP|   325|\n",
      "|     AspectJ|   290|\n",
      "|  AGS Script|   276|\n",
      "+------------+------+\n",
      "\n"
     ]
    }
   ],
   "source": [
    "py_df = spark.sql('''\n",
    "    SELECT lang0_lang1, `C++` from df_new_view ORDER BY `C++` DESC LIMIT 20\n",
    "''')\n",
    "\n",
    "py_df.show()"
   ]
  },
  {
   "cell_type": "code",
   "execution_count": null,
   "id": "adc91d73-9ad3-4725-a988-2132b103c65f",
   "metadata": {},
   "outputs": [],
   "source": [
    "# fcore = single.where(col('repo_name')==\"Frankenhooker/FCore\")\n",
    "# fcore.select(col(\"repo_name\"), col(\"language\"), size(col(\"language\"))).show()\n",
    "\n",
    "# #standardSQL\n",
    "# SELECT repo_name, elem.name, elem.bytes\n",
    "# FROM `github_activity_data.languages`, UNNEST(language) as elem\n",
    "# WHERE \n",
    "# ORDER BY elem.bytes DESC\n",
    "\n",
    "\n",
    "# spark.sql('SELECT DISTINCT repo_name, language FROM single_view').show()\n",
    "# single.withColumn(\"test\", explode($\"language\")).show\n",
    "\n",
    "# print(single, poly)\n",
    "# print(_all, single, poly)\n",
    "# single = df.select(col(\"repo_name\"), col(\"language\"), size(col(\"language\"))\n",
    "#     )\n",
    "# single.show()\n",
    "# df.groupBy(size(col(\"language\"))).show()\n",
    "# test_words.printSchema()\n",
    "\n",
    "# Saving the data to BigQuery\n",
    "# word_count.write.format('bigquery') \\\n",
    "#   .option('table', 'wordcount_dataset.wordcount_output') \\\n",
    "#   .save()\n",
    "\n",
    "\n",
    "# Using UDF(User Defined Function), the actual plan is following.\n",
    "# Create a new column named “dominant_language: string”.\n",
    "# If len(language) == 0:\n",
    "# dominant_language = null and drop the row.\n",
    "# Else if len(language) == 1:\n",
    "# dominant_language = language.name.\n",
    "# Else if len(language) > 1:\n",
    "# iterate the array\n",
    "# Ignore languages if the percentage is less than 10%\n",
    "# Choose top 3 languages in a repo to make a group\n",
    "# In this case, these top 3 languages will not categorize well. Most of the combination of languages will be the part of web development.\n",
    "\n",
    "# Instead of choose top 3 languages to group them, \n"
   ]
  },
  {
   "cell_type": "code",
   "execution_count": 202,
   "id": "df10d3b4-0a36-4d8b-9ea2-b727153e58d4",
   "metadata": {},
   "outputs": [
    {
     "name": "stdout",
     "output_type": "stream",
     "text": [
      "           votes_of_each_class\n",
      "Name                          \n",
      "Aparna                      77\n",
      "Juhi                        51\n",
      "Suprabhat                   95\n"
     ]
    }
   ],
   "source": [
    "import pandas as pd\n",
    "  \n",
    "# DataFrame of each student and the votes they get\n",
    "dataframe = pd.DataFrame({'Name': ['Aparna', 'Aparna', 'Aparna', \n",
    "                                   'Aparna', 'Aparna', 'Juhi', \n",
    "                                   'Juhi', 'Juhi', 'Juhi', 'Juhi',\n",
    "                                   'Suprabhat', 'Suprabhat', \n",
    "                                   'Suprabhat', 'Suprabhat', \n",
    "                                   'Suprabhat'],\n",
    "                          'votes_of_each_class': [12, 9, 17, 19, \n",
    "                                                  20, 11, 15, 12, \n",
    "                                                  9, 4, 22, 19, 17, \n",
    "                                                  19, 18]})\n",
    "  \n",
    "# Plotting the pie chart for above dataframe\n",
    "print(dataframe.groupby(['Name']).sum())"
   ]
  },
  {
   "cell_type": "code",
   "execution_count": 574,
   "id": "0e591e16-e81a-4646-9870-101bb051128e",
   "metadata": {},
   "outputs": [
    {
     "name": "stdout",
     "output_type": "stream",
     "text": [
      "+----+------------------+\n",
      "|user|              pets|\n",
      "+----+------------------+\n",
      "|  aa|[dog, cat, lizard]|\n",
      "|  bb|     [dog, spider]|\n",
      "|  cc|[dog, cat, monkey]|\n",
      "+----+------------------+\n",
      "\n",
      "+----+-------------+\n",
      "|user|         pets|\n",
      "+----+-------------+\n",
      "|  aa|[dog, lizard]|\n",
      "|  aa|   [cat, dog]|\n",
      "|  aa|[cat, lizard]|\n",
      "|  bb|[dog, spider]|\n",
      "|  cc|[dog, monkey]|\n",
      "|  cc|   [cat, dog]|\n",
      "|  cc|[cat, monkey]|\n",
      "+----+-------------+\n",
      "\n",
      "+---------+---+------+------+------+\n",
      "|pet0_pet1|dog|lizard|monkey|spider|\n",
      "+---------+---+------+------+------+\n",
      "|      cat|  2|     1|     1|     0|\n",
      "|      dog|  0|     1|     1|     1|\n",
      "+---------+---+------+------+------+\n",
      "\n"
     ]
    }
   ],
   "source": [
    "from pyspark.sql import functions as F\n",
    "df = spark.createDataFrame(\n",
    "    [('aa', [[\"dog\"], [\"cat\"], [\"lizard\"]]),\n",
    "     ('bb', [[\"dog\"], [\"spider\"]]),\n",
    "     ('cc', [[\"dog\"], [\"cat\"], [\"monkey\"]])],\n",
    "    ['user', 'pets'])\n",
    "\n",
    "\n",
    "df = df.withColumn('pets', F.flatten('pets'))\n",
    "\n",
    "df.show()\n",
    "combinations = (F.filter(\n",
    "    F.transform(\n",
    "        F.flatten(F.transform(\n",
    "            'pets',\n",
    "            lambda x: F.arrays_zip(F.array_repeat(x, F.size('pets')), 'pets')\n",
    "        )),\n",
    "        lambda x: F.array(x['0'], x['pets'])\n",
    "    ),\n",
    "    lambda x: x[0] < x[1]\n",
    "))\n",
    "df = df.withColumn('pets', F.explode(combinations))\n",
    "df.show()\n",
    "df = df.withColumn('pet0', F.col('pets')[0])\n",
    "df = df.withColumn('pet1', F.col('pets')[1])\n",
    "\n",
    "df = df.crosstab(\"pet0\", \"pet1\")\n",
    "\n",
    "df.show()\n"
   ]
  },
  {
   "cell_type": "code",
   "execution_count": null,
   "id": "a2c210be-5811-46a9-9a85-80286bf10880",
   "metadata": {},
   "outputs": [],
   "source": []
  }
 ],
 "metadata": {
  "kernelspec": {
   "display_name": "Python 3",
   "language": "python",
   "name": "python3"
  },
  "language_info": {
   "codemirror_mode": {
    "name": "ipython",
    "version": 3
   },
   "file_extension": ".py",
   "mimetype": "text/x-python",
   "name": "python",
   "nbconvert_exporter": "python",
   "pygments_lexer": "ipython3",
   "version": "3.8.13"
  }
 },
 "nbformat": 4,
 "nbformat_minor": 5
}
