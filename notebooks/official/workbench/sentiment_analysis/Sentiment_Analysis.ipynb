{
  "cells": [
    {
      "cell_type": "code",
      "execution_count": null,
      "metadata": {
        "id": "18ebbd838e32"
      },
      "outputs": [],
      "source": [
        "# Copyright 2022 Google LLC\n",
        "#\n",
        "# Licensed under the Apache License, Version 2.0 (the \"License\");\n",
        "# you may not use this file except in compliance with the License.\n",
        "# You may obtain a copy of the License at\n",
        "#\n",
        "#     https://www.apache.org/licenses/LICENSE-2.0\n",
        "#\n",
        "# Unless required by applicable law or agreed to in writing, software\n",
        "# distributed under the License is distributed on an \"AS IS\" BASIS,\n",
        "# WITHOUT WARRANTIES OR CONDITIONS OF ANY KIND, either express or implied.\n",
        "# See the License for the specific language governing permissions and\n",
        "# limitations under the License."
      ]
    },
    {
      "cell_type": "markdown",
      "metadata": {
        "id": "87e8ba66a90f"
      },
      "source": [
        "# Sentiment Analysis using AutoML Natural Language and Vertex AI\n",
        "\n",
        "<table align=\"left\">\n",
        "\n",
        "  <td>\n",
        "    <a href=\"https://colab.research.google.com/github/GoogleCloudPlatform/vertex-ai-samples/blob/main/notebooks/official/workbench/sentiment_analysis/Sentiment_Analysis.ipynb\">\n",
        "      <img src=\"https://cloud.google.com/ml-engine/images/colab-logo-32px.png\" alt=\"Colab logo\"> Run in Colab\n",
        "    </a>\n",
        "  </td>\n",
        "  <td>\n",
        "    <a href=\"https://github.com/GoogleCloudPlatform/vertex-ai-samples/blob/main/notebooks/official/workbench/sentiment_analysis/Sentiment_Analysis.ipynb\">\n",
        "      <img src=\"https://cloud.google.com/ml-engine/images/github-logo-32px.png\" alt=\"GitHub logo\">\n",
        "      View on GitHub\n",
        "    </a>\n",
        "  </td>\n",
        "  <td>\n",
        "<a href=\"https://console.cloud.google.com/vertex-ai/workbench/deploy-notebook?download_url=https://raw.githubusercontent.com/GoogleCloudPlatform/vertex-ai-samples/main/notebooks/official/workbench/sentiment_analysis/Sentiment_Analysis.ipynb\" target='_blank'>\n",
        "      <img src=\"https://lh3.googleusercontent.com/UiNooY4LUgW_oTvpsNhPpQzsstV5W8F7rYgxgGBD85cWJoLmrOzhVs_ksK_vgx40SHs7jCqkTkCk=e14-rj-sc0xffffff-h130-w32\" alt=\"Vertex AI logo\">\n",
        "      Open in Vertex AI Workbench\n",
        "    </a>\n",
        "  </td>                                                                                               \n",
        "</table>"
      ]
    },
    {
      "cell_type": "markdown",
      "metadata": {
        "id": "fdbaf85c16a5"
      },
      "source": [
        "## Table of contents\n",
        "* [Overview](#section-1)\n",
        "* [Objective](#section-2)\n",
        "* [Dataset](#section-3)\n",
        "* [Costs](#section-4)\n",
        "* [Load the data](#section-5)\n",
        "* [Prepare the training data](#section-6)\n",
        "* [Create a dataset in Vertex AI](#section-7)\n",
        "* [Train the model using Vertex AI](#section-8)\n",
        "* [Deploy the model to the endpoint](#section-9)\n",
        "* [Prediction](#section-10)\n",
        "* [Review visualization](#section-11)\n",
        "* [Clean up](#section-12)"
      ]
    },
    {
      "cell_type": "markdown",
      "metadata": {
        "id": "3b9e88b02478"
      },
      "source": [
        "## Overview\n",
        "<a name=\"section-1\"></a>\n",
        "\n",
        "This notebook demonstrates how to perform sentiment analysis on a Stanford movie reviews dataset using AutoML Natural Language and how to deploy the sentiment analysis model on Vertex AI to get predictions. \n",
        "\n",
        "*Note: This notebook file was developed to run on a [Vertex AI Workbench managed notebooks](https://console.cloud.google.com/vertex-ai/workbench/list/managed) instance using the Python (Local) kernel. Some components of this notebook may not work in other notebook environments.*\n",
        "\n",
        "Learn more about [Vertex AI Workbench](https://cloud.google.com/vertex-ai/docs/workbench/introduction) and [Sentiment analysis for text data](https://cloud.google.com/vertex-ai/docs/training-overview#sentiment_analysis_for_text)."
      ]
    },
    {
      "cell_type": "markdown",
      "metadata": {
        "id": "95d6c7b51af4"
      },
      "source": [
        "### Objective\n",
        "<a name=\"section-2\"></a>\n",
        "\n",
        "In this tutorial, you learn how to train and deploy an AutoML sentiment analysis model, and make predictions.\n",
        "\n",
        "This tutorial uses the following Google Cloud ML services:\n",
        "\n",
        "- `Vertex AI Dataset`\n",
        "- `Vertex AI Model`\n",
        "- `AutoML training`\n",
        "- `Vertex AI Prediction`\n",
        "\n",
        "The steps performed are:\n",
        "\n",
        "- Loading the required data. \n",
        "- Preprocessing the data.\n",
        "- Selecting the required data for the model.\n",
        "- Loading the dataset into Vertex AI managed datasets.\n",
        "- Training a sentiment model using AutoML Text training.\n",
        "- Evaluating the model.\n",
        "- Deploying the model on Vertex AI.\n",
        "- Getting predictions.\n",
        "- Clean up."
      ]
    },
    {
      "cell_type": "markdown",
      "metadata": {
        "id": "3347ff71c571"
      },
      "source": [
        "### Dataset\n",
        "<a name=\"section-3\"></a>\n",
        "\n",
        "The dataset used in this notebook is a part of the [Stanford Sentiment Treebank dataset](https://nlp.stanford.edu/sentiment/), which consists of phrases from movie reviews and their corresponding sentiment scores."
      ]
    },
    {
      "cell_type": "markdown",
      "metadata": {
        "id": "2855e681db83"
      },
      "source": [
        "### Costs\n",
        "<a name=\"section-4\"></a>\n",
        "\n",
        "This tutorial uses the following billable components of Google Cloud:\n",
        "\n",
        "- Vertex AI\n",
        "- Cloud Storage\n",
        "\n",
        "Learn about [Vertex AI\n",
        "pricing](https://cloud.google.com/vertex-ai/pricing) and [Cloud Storage\n",
        "pricing](https://cloud.google.com/storage/pricing), and use the [Pricing\n",
        "Calculator](https://cloud.google.com/products/calculator/)\n",
        "to generate a cost estimate based on your projected usage."
      ]
    },
    {
      "cell_type": "code",
      "execution_count": null,
      "metadata": {
        "id": "eda7d4721c1e"
      },
      "outputs": [],
      "source": [
        "! pip3 install --upgrade --quiet wordcloud \n",
        "\n",
        "! pip3 install --upgrade --quiet google-cloud-aiplatform \\\n",
        "                                 fsspec \\\n",
        "                                 gcsfs "
      ]
    },
    {
      "cell_type": "markdown",
      "metadata": {
        "id": "58707a750154"
      },
      "source": [
        "### Colab only: Uncomment the following cell to restart the kernel."
      ]
    },
    {
      "cell_type": "code",
      "execution_count": null,
      "metadata": {
        "id": "f200f10a1da3"
      },
      "outputs": [],
      "source": [
        "# Automatically restart kernel after installs so that your environment can access the new packages\n",
        "# import IPython\n",
        "\n",
        "# app = IPython.Application.instance()\n",
        "# app.kernel.do_shutdown(True)"
      ]
    },
    {
      "cell_type": "markdown",
      "metadata": {
        "id": "BF1j6f9HApxa"
      },
      "source": [
        "## Before you begin\n",
        "\n",
        "### Set up your Google Cloud project\n",
        "\n",
        "**The following steps are required, regardless of your notebook environment.**\n",
        "\n",
        "1. [Select or create a Google Cloud project](https://console.cloud.google.com/cloud-resource-manager). When you first create an account, you get a $300 free credit towards your compute/storage costs.\n",
        "\n",
        "2. [Make sure that billing is enabled for your project](https://cloud.google.com/billing/docs/how-to/modify-project).\n",
        "\n",
        "3. [Enable the Vertex AI API](https://console.cloud.google.com/flows/enableapi?apiid=aiplatform.googleapis.com).\n",
        "\n",
        "4. If you are running this notebook locally, install the [Cloud SDK](https://cloud.google.com/sdk)."
      ]
    },
    {
      "cell_type": "markdown",
      "metadata": {
        "id": "WReHDGG5g0XY"
      },
      "source": [
        "#### Set your project ID\n",
        "\n",
        "**If you don't know your project ID**, try the following:\n",
        "* Run `gcloud config list`.\n",
        "* Run `gcloud projects list`.\n",
        "* See the support page: [Locate the project ID](https://support.google.com/googleapi/answer/7014113)"
      ]
    },
    {
      "cell_type": "code",
      "execution_count": null,
      "metadata": {
        "id": "oM1iC_MfAts1"
      },
      "outputs": [],
      "source": [
        "PROJECT_ID = \"[your-project-id]\"  # @param {type:\"string\"}\n",
        "\n",
        "# Set the project id\n",
        "! gcloud config set project {PROJECT_ID}"
      ]
    },
    {
      "cell_type": "markdown",
      "metadata": {
        "id": "region"
      },
      "source": [
        "#### Set the region\n",
        "\n",
        "**Optional**: Update the 'REGION' variable to specify the region that you want to use. Learn more about [Vertex AI regions](https://cloud.google.com/vertex-ai/docs/general/locations)."
      ]
    },
    {
      "cell_type": "code",
      "execution_count": null,
      "metadata": {
        "id": "nsN5NJKSu-GU"
      },
      "outputs": [],
      "source": [
        "REGION = \"us-central1\"  # @param {type: \"string\"}"
      ]
    },
    {
      "cell_type": "markdown",
      "metadata": {
        "id": "b32c908a390c"
      },
      "source": [
        "#### UUID\n",
        "\n",
        "If you are in a live tutorial session, you might be using a shared test account or project. To avoid name collisions between users on resources created, you create a uuid for each instance session, and append it onto the name of resources you create in this tutorial."
      ]
    },
    {
      "cell_type": "code",
      "execution_count": null,
      "metadata": {
        "id": "d598bcdd2f4e"
      },
      "outputs": [],
      "source": [
        "import random\n",
        "import string\n",
        "\n",
        "\n",
        "# Generate a uuid of a specifed length(default=8)\n",
        "def generate_uuid(length: int = 8) -> str:\n",
        "    return \"\".join(random.choices(string.ascii_lowercase + string.digits, k=length))\n",
        "\n",
        "\n",
        "UUID = generate_uuid()"
      ]
    },
    {
      "cell_type": "markdown",
      "metadata": {
        "id": "sBCra4QMA2wR"
      },
      "source": [
        "### Authenticate your Google Cloud account\n",
        "\n",
        "Depending on your Jupyter environment, you may have to manually authenticate. Follow the relevant instructions below.\n",
        "\n",
        "**1. Vertex AI Workbench**\n",
        "* Do nothing as you are already authenticated.\n",
        "\n",
        "**2. Local JupyterLab instance, uncomment and run:**"
      ]
    },
    {
      "cell_type": "code",
      "execution_count": null,
      "metadata": {
        "id": "254614fa0c46"
      },
      "outputs": [],
      "source": [
        "# ! gcloud auth login"
      ]
    },
    {
      "cell_type": "markdown",
      "metadata": {
        "id": "ef21552ccea8"
      },
      "source": [
        "**3. Colab, uncomment and run:**"
      ]
    },
    {
      "cell_type": "code",
      "execution_count": null,
      "metadata": {
        "id": "603adbbf0532"
      },
      "outputs": [],
      "source": [
        "# from google.colab import auth\n",
        "# auth.authenticate_user()"
      ]
    },
    {
      "cell_type": "markdown",
      "metadata": {
        "id": "f6b2ccc891ed"
      },
      "source": [
        "**4. Service account or other**\n",
        "* See how to grant Cloud Storage permissions to your service account at https://cloud.google.com/storage/docs/gsutil/commands/iam#ch-examples."
      ]
    },
    {
      "cell_type": "markdown",
      "metadata": {
        "id": "zgPO1eR3CYjk"
      },
      "source": [
        "### Create a Cloud Storage bucket\n",
        "\n",
        "Create a storage bucket to store intermediate artifacts such as datasets."
      ]
    },
    {
      "cell_type": "code",
      "execution_count": null,
      "metadata": {
        "id": "MzGDU7TWdts_"
      },
      "outputs": [],
      "source": [
        "BUCKET_URI = f\"gs://your-bucket-name-{PROJECT_ID}-unique\"  # @param {type:\"string\"}"
      ]
    },
    {
      "cell_type": "markdown",
      "metadata": {
        "id": "-EcIXiGsCePi"
      },
      "source": [
        "**Only if your bucket doesn't already exist**: Run the following cell to create your Cloud Storage bucket."
      ]
    },
    {
      "cell_type": "code",
      "execution_count": null,
      "metadata": {
        "id": "NIq7R4HZCfIc"
      },
      "outputs": [],
      "source": [
        "! gsutil mb -l {REGION} -p {PROJECT_ID} {BUCKET_URI}"
      ]
    },
    {
      "cell_type": "markdown",
      "metadata": {
        "id": "543fd0a71f4d"
      },
      "source": [
        "### Import libraries"
      ]
    },
    {
      "cell_type": "code",
      "execution_count": null,
      "metadata": {
        "id": "5e0383e0444d"
      },
      "outputs": [],
      "source": [
        "import os\n",
        "from typing import List, Optional, Union\n",
        "\n",
        "import matplotlib.pyplot as plt\n",
        "import pandas as pd\n",
        "from google.cloud import aiplatform, storage\n",
        "from wordcloud import STOPWORDS, WordCloud"
      ]
    },
    {
      "cell_type": "markdown",
      "metadata": {
        "id": "5563f402e958"
      },
      "source": [
        "## Load the data \n",
        "<a name=\"section-5\"></a>\n",
        "\n",
        "Load the phrases and scores of the dataset from the Cloud Storage sources."
      ]
    },
    {
      "cell_type": "code",
      "execution_count": null,
      "metadata": {
        "id": "e9bed419ca1b"
      },
      "outputs": [],
      "source": [
        "phrases = pd.read_csv(\n",
        "    \"gs://cloud-samples-data/vertex-ai/managed_notebooks/sentiment_analysis/stanford_sentiment_treebank/sentiment_phrases.txt\",\n",
        "    sep=\"|\",\n",
        ")\n",
        "phrases.columns = [\"text\", \"phrase ids\"]\n",
        "scores = pd.read_csv(\n",
        "    \"gs://cloud-samples-data/vertex-ai/managed_notebooks/sentiment_analysis/stanford_sentiment_treebank/sentiment_labels.txt\",\n",
        "    sep=\"|\",\n",
        ")\n",
        "df = phrases.merge(scores, how=\"left\", on=\"phrase ids\")\n",
        "print(df.head(5))"
      ]
    },
    {
      "cell_type": "code",
      "execution_count": null,
      "metadata": {
        "id": "d88a752930ac"
      },
      "outputs": [],
      "source": [
        "print(max(df[\"sentiment values\"]), min(df[\"sentiment values\"]))"
      ]
    },
    {
      "cell_type": "markdown",
      "metadata": {
        "id": "c83b75fb3279"
      },
      "source": [
        "The data itself doesn't contain any feature names and thus needs its columns to be renamed. The dataframe **phrases** contains all phrases and their IDs separated by `|` whereas **scores** contains all phrase ids and the corresponding sentiment scores separated by a `|`."
      ]
    },
    {
      "cell_type": "markdown",
      "metadata": {
        "id": "44443815a2fc"
      },
      "source": [
        "### Create labels \n",
        "\n",
        "The label scores are bucketed into four classes by mapping them into the following ranges:\n",
        "\n",
        "[0, 0.25], (0.25, 0.5], (0.5, 0.75],(0.75, 1.0]"
      ]
    },
    {
      "cell_type": "code",
      "execution_count": null,
      "metadata": {
        "id": "97bbb7218788"
      },
      "outputs": [],
      "source": [
        "# Define the class labels\n",
        "VERYNEGATIVE = 0\n",
        "NEGATIVE = 1\n",
        "POSITIVE = 2\n",
        "VERYPOSITIVE = 3"
      ]
    },
    {
      "cell_type": "code",
      "execution_count": null,
      "metadata": {
        "id": "e971f9f576cf"
      },
      "outputs": [],
      "source": [
        "bins = [0, 0.25, 0.5, 0.75, 1]\n",
        "labels = [VERYNEGATIVE, NEGATIVE, POSITIVE, VERYPOSITIVE]\n",
        "df[\"label\"] = pd.cut(df[\"sentiment values\"], bins=bins, labels=labels)\n",
        "print(df.head())"
      ]
    },
    {
      "cell_type": "markdown",
      "metadata": {
        "id": "87b38faf9a85"
      },
      "source": [
        "## Prepare the training data\n",
        "<a name=\"section-6\"></a>\n",
        "\n",
        "To train a sentiment analysis model using AutoML Natural Language, you provide samples of the type of content you want to train labeled with a value indicating how the sentiment varies.\n",
        "\n",
        "The sentiment label is encoded as integer ranging from 0 (relatively negative) to a maximum value of your choice (positive). For example, if you want to identify whether the sentiment is negative, positive, or neutral, you would label the training data with sentiment scores of 0 (negative), 1 (neutral), and 2 (positive). If you want to capture more granularity with five levels of sentiment, you can still label documents with the most negative sentiment as 0 and use 4 for the most positive sentiment. In such case, the maximum sentiment score (sentiment_max) for the dataset would be 4."
      ]
    },
    {
      "cell_type": "markdown",
      "metadata": {
        "id": "edcf89a00954"
      },
      "source": [
        "For training, you select a subset of the orginal data that consists of extreme positive and negative samples. Here the maximum sentiment would be 1. In the **ml_use** column, you provide if the instance belongs to TRAIN, VALIDATION or TEST sample or let the Vertex AI randomly assign. \n",
        "\n",
        "Each line or instance in the CSV file refers to a single document. The following example shows the general format of a valid CSV file:\n",
        "\n",
        "**[ml_use]**,**gcs_file_uri**|**\"inline_text\"**,**sentiment**,**sentimentMax**\n",
        "\n",
        "For more information visit the official [documentation](https://cloud.google.com/vertex-ai/docs/datasets/prepare-text#sentiment-analysis) on preparing the sentiment analysis data.\n"
      ]
    },
    {
      "cell_type": "markdown",
      "metadata": {
        "id": "245c07c7df7b"
      },
      "source": [
        "### Select a subset of the data"
      ]
    },
    {
      "cell_type": "code",
      "execution_count": null,
      "metadata": {
        "id": "e1db0f24d1da"
      },
      "outputs": [],
      "source": [
        "subset_data = df[df[\"label\"].isin([VERYNEGATIVE, VERYPOSITIVE])].reset_index(drop=True)\n",
        "subset_data.head()"
      ]
    },
    {
      "cell_type": "code",
      "execution_count": null,
      "metadata": {
        "id": "99f314e5a437"
      },
      "outputs": [],
      "source": [
        "subset_data[\"label\"] = subset_data[\"label\"].apply(lambda x: 1 if x == 3 else 0)\n",
        "subset_data[\"ml_use\"] = \"\"\n",
        "subset_data[\"sentimentMax\"] = 1\n",
        "subset_data = subset_data[[\"ml_use\", \"text\", \"label\", \"sentimentMax\"]]\n",
        "print(subset_data.head())"
      ]
    },
    {
      "cell_type": "markdown",
      "metadata": {
        "id": "c3e54c1f430a"
      },
      "source": [
        "### Create a csv"
      ]
    },
    {
      "cell_type": "code",
      "execution_count": null,
      "metadata": {
        "id": "806303530d77"
      },
      "outputs": [],
      "source": [
        "FILE_NAME = \"sentiment_data.csv\"\n",
        "subset_data.to_csv(FILE_NAME, index=False)\n",
        "# Upload the saved model file to Cloud Storage\n",
        "BLOB_PATH = \"sentiment_analysis/\"\n",
        "BLOB_NAME = os.path.join(BLOB_PATH, FILE_NAME)\n",
        "bucket = storage.Client().bucket(BUCKET_URI[5:])\n",
        "blob = bucket.blob(BLOB_NAME)\n",
        "blob.upload_from_filename(FILE_NAME)"
      ]
    },
    {
      "cell_type": "markdown",
      "metadata": {
        "id": "453938b7c88b"
      },
      "source": [
        "## Create a dataset in Vertex AI\n",
        "<a name=\"section-7\"></a>\n",
        "\n",
        "The following code uses the Vertex AI SDK for Python to both create a dataset and import data. "
      ]
    },
    {
      "cell_type": "code",
      "execution_count": null,
      "metadata": {
        "id": "e359a68f6295"
      },
      "outputs": [],
      "source": [
        "def import_data_text_sentiment_analysis(\n",
        "    project: str,\n",
        "    location: str,\n",
        "    display_name: str,\n",
        "    src_uris: Union[str, List[str]],\n",
        "    sync: bool = True,\n",
        "):\n",
        "    aiplatform.init(project=project, location=location)\n",
        "\n",
        "    ds = aiplatform.TextDataset.create(\n",
        "        display_name=display_name,\n",
        "        gcs_source=src_uris,\n",
        "        import_schema_uri=aiplatform.schema.dataset.ioformat.text.sentiment,\n",
        "        sync=sync,\n",
        "    )\n",
        "\n",
        "    print(ds.display_name)\n",
        "    print(ds.resource_name)\n",
        "    return ds"
      ]
    },
    {
      "cell_type": "markdown",
      "metadata": {
        "id": "bd1f01b376b2"
      },
      "source": [
        "Set a display name for the managed dataset. "
      ]
    },
    {
      "cell_type": "code",
      "execution_count": null,
      "metadata": {
        "id": "de95111cf709"
      },
      "outputs": [],
      "source": [
        "DATASET_NAME = \"[your-dataset-display-name]\"  # @param {type:\"string\"}"
      ]
    },
    {
      "cell_type": "code",
      "execution_count": null,
      "metadata": {
        "id": "989313dc7b94"
      },
      "outputs": [],
      "source": [
        "if DATASET_NAME == \"\" or DATASET_NAME == \"[your-dataset-display-name]\":\n",
        "    DATASET_NAME = \"sentimentanalysis\"\n",
        "\n",
        "# Create a Vertex AI managed dataset resource\n",
        "src_uris = [f\"{BUCKET_URI}/sentiment_analysis/sentiment_data.csv\"]\n",
        "dataset = import_data_text_sentiment_analysis(\n",
        "    PROJECT_ID, REGION, DATASET_NAME, src_uris\n",
        ")"
      ]
    },
    {
      "cell_type": "markdown",
      "metadata": {
        "id": "a7c140cb93c0"
      },
      "source": [
        "## Train the model using Vertex AI\n",
        "<a name=\"section-8\"></a>\n",
        "\n",
        "The following code uses the Vertex AI SDK for Python to train the model on the above created dataset. You can get the dataset id from the Dataset section of Vertex AI in the console or from the resource name in the dataset object created above. You can specify how the training data is split between the training, validation, and test sets by setting the fraction_split variables.\n",
        "\n",
        "**Note**: The model training job can take more than 120 min. to finish."
      ]
    },
    {
      "cell_type": "code",
      "execution_count": null,
      "metadata": {
        "id": "bd06f6f67a56"
      },
      "outputs": [],
      "source": [
        "def create_training_pipeline_text_sentiment_analysis(\n",
        "    project: str,\n",
        "    location: str,\n",
        "    display_name: str,\n",
        "    dataset_id: str,\n",
        "    model_display_name: Optional[str] = None,\n",
        "    sentiment_max: int = 10,\n",
        "    training_fraction_split: float = 0.8,\n",
        "    validation_fraction_split: float = 0.1,\n",
        "    test_fraction_split: float = 0.1,\n",
        "    sync: bool = True,\n",
        "):\n",
        "    aiplatform.init(project=project, location=location)\n",
        "\n",
        "    job = aiplatform.AutoMLTextTrainingJob(\n",
        "        display_name=display_name,\n",
        "        prediction_type=\"sentiment\",\n",
        "        sentiment_max=sentiment_max,\n",
        "    )\n",
        "\n",
        "    text_dataset = aiplatform.TextDataset(dataset_id)\n",
        "\n",
        "    model = job.run(\n",
        "        dataset=text_dataset,\n",
        "        model_display_name=model_display_name,\n",
        "        training_fraction_split=training_fraction_split,\n",
        "        validation_fraction_split=validation_fraction_split,\n",
        "        test_fraction_split=test_fraction_split,\n",
        "        sync=sync,\n",
        "    )\n",
        "\n",
        "    print(model.display_name)\n",
        "    print(model.resource_name)\n",
        "    print(model.uri)\n",
        "    return model"
      ]
    },
    {
      "cell_type": "markdown",
      "metadata": {
        "id": "e7d09a8e2a01"
      },
      "source": [
        "Set a display name for the AutoML training job."
      ]
    },
    {
      "cell_type": "code",
      "execution_count": null,
      "metadata": {
        "id": "22de78a6fee1"
      },
      "outputs": [],
      "source": [
        "JOB_NAME = \"[your-training-job-display-name]\"  # @param {type:\"string\"}"
      ]
    },
    {
      "cell_type": "code",
      "execution_count": null,
      "metadata": {
        "id": "a0a83ba2be4b"
      },
      "outputs": [],
      "source": [
        "if JOB_NAME == \"\" or JOB_NAME == \"[your-training-job-display-name]\":\n",
        "    JOB_NAME = \"sentimentanalysis_job\"\n",
        "\n",
        "# Using the created Text dataset, create and run the training job\n",
        "dataset_id = dataset.resource_name.split(\"/\")[-1]\n",
        "print(dataset_id)\n",
        "model = create_training_pipeline_text_sentiment_analysis(\n",
        "    PROJECT_ID, REGION, JOB_NAME, dataset_id, sentiment_max=1\n",
        ")"
      ]
    },
    {
      "cell_type": "markdown",
      "metadata": {
        "id": "077f319a4218"
      },
      "source": [
        "## Deploy the model to the endpoint\n",
        "<a name=\"section-9\"></a>\n"
      ]
    },
    {
      "cell_type": "markdown",
      "metadata": {
        "id": "cd4463310e5a"
      },
      "source": [
        "### Create endpoint\n",
        "Create a Vertex AI endpoint to deploy the model."
      ]
    },
    {
      "cell_type": "code",
      "execution_count": null,
      "metadata": {
        "id": "473ff65e0b88"
      },
      "outputs": [],
      "source": [
        "def create_endpoint(\n",
        "    project: str,\n",
        "    display_name: str,\n",
        "    location: str,\n",
        "):\n",
        "    aiplatform.init(project=project, location=location)\n",
        "\n",
        "    endpoint = aiplatform.Endpoint.create(\n",
        "        display_name=display_name,\n",
        "        project=project,\n",
        "        location=location,\n",
        "    )\n",
        "\n",
        "    print(endpoint.display_name)\n",
        "    print(endpoint.resource_name)\n",
        "    return endpoint"
      ]
    },
    {
      "cell_type": "markdown",
      "metadata": {
        "id": "8fc75934c34c"
      },
      "source": [
        "Set a display name for the endpoint."
      ]
    },
    {
      "cell_type": "code",
      "execution_count": null,
      "metadata": {
        "id": "fbef44c69575"
      },
      "outputs": [],
      "source": [
        "ENDPOINT_NAME = \"[your-endpoint-name]\"  # @param {type:\"string\"}"
      ]
    },
    {
      "cell_type": "code",
      "execution_count": null,
      "metadata": {
        "id": "54785032708f"
      },
      "outputs": [],
      "source": [
        "if ENDPOINT_NAME == \"[your-endpoint-name]\":\n",
        "    ENDPOINT_NAME = \"sentiment-analysis-endpoint\"\n",
        "\n",
        "# Create Endpoint\n",
        "endpoint = create_endpoint(PROJECT_ID, ENDPOINT_NAME, REGION)"
      ]
    },
    {
      "cell_type": "markdown",
      "metadata": {
        "id": "f84df96c9828"
      },
      "source": [
        "### Deploy the model\n",
        "\n",
        "The following code uses the Vertex AI SDK for Python to deploy the model to a endpoint."
      ]
    },
    {
      "cell_type": "code",
      "execution_count": null,
      "metadata": {
        "id": "6c520e2f7f8b"
      },
      "outputs": [],
      "source": [
        "model.deploy(endpoint=endpoint)\n",
        "\n",
        "print(model.display_name)\n",
        "print(model.resource_name)"
      ]
    },
    {
      "cell_type": "markdown",
      "metadata": {
        "id": "9bcd4d7a11de"
      },
      "source": [
        "## Prediction\n",
        "<a name=\"section-10\"></a>\n",
        "\n",
        "After deploying the model to an endpoint use the Vertex AI SDK to request an online prediction. Filter the data that you haven't used for the training and pick longer reviews to test the model."
      ]
    },
    {
      "cell_type": "code",
      "execution_count": null,
      "metadata": {
        "id": "7fa5e1a01a77"
      },
      "outputs": [],
      "source": [
        "def predict_text_sentiment_analysis_sample(endpoint, content):\n",
        "    print(content)\n",
        "    response = endpoint.predict(instances=[{\"content\": content}], parameters={})\n",
        "\n",
        "    for prediction_ in response.predictions:\n",
        "        print(prediction_)"
      ]
    },
    {
      "cell_type": "code",
      "execution_count": null,
      "metadata": {
        "id": "817ba5968e22"
      },
      "outputs": [],
      "source": [
        "test_data_pos = df[df[\"label\"].isin([POSITIVE])].reset_index(drop=True)\n",
        "test_data_neg = df[df[\"label\"].isin([NEGATIVE])].reset_index(drop=True)\n",
        "\n",
        "test_data_neg = test_data_neg.text.values[200:]\n",
        "random.shuffle(test_data_neg)"
      ]
    },
    {
      "cell_type": "code",
      "execution_count": null,
      "metadata": {
        "id": "3fed98fbb6d7"
      },
      "outputs": [],
      "source": [
        "test_data_pos = test_data_pos.text.values[200:]\n",
        "random.shuffle(test_data_pos)"
      ]
    },
    {
      "cell_type": "markdown",
      "metadata": {
        "id": "963102b04a59"
      },
      "source": [
        "Here is the prediction results on the positive samples. The model did a good job on predicting positive sentiment for positive reviews. The first and last review predictions are false negatives. "
      ]
    },
    {
      "cell_type": "code",
      "execution_count": null,
      "metadata": {
        "id": "5d7b1d59c0d0"
      },
      "outputs": [],
      "source": [
        "for review in test_data_pos[0:10]:\n",
        "    predict_text_sentiment_analysis_sample(endpoint, review)"
      ]
    },
    {
      "cell_type": "markdown",
      "metadata": {
        "id": "6fc9dbc3436e"
      },
      "source": [
        "Here is the prediction results on the negative reviews. Out of 10 reviews below 7 negative reviews are correctly predicted with negative sentiment"
      ]
    },
    {
      "cell_type": "code",
      "execution_count": null,
      "metadata": {
        "id": "53830cc82fc5"
      },
      "outputs": [],
      "source": [
        "for review in test_data_neg[0:10]:\n",
        "    predict_text_sentiment_analysis_sample(endpoint, review)"
      ]
    },
    {
      "cell_type": "markdown",
      "metadata": {
        "id": "aa6a2abc2006"
      },
      "source": [
        "## Review visualization\n",
        "<a name=\"section-11\"></a>\n",
        "\n",
        "Visualize the positive and negative reviews in the data."
      ]
    },
    {
      "cell_type": "code",
      "execution_count": null,
      "metadata": {
        "id": "b08c4be897ce"
      },
      "outputs": [],
      "source": [
        "data_pos = df[df[\"label\"].isin([VERYPOSITIVE])].reset_index(drop=True)\n",
        "data_neg = df[df[\"label\"].isin([VERYNEGATIVE])].reset_index(drop=True)\n",
        "\n",
        "data_neg = data_neg.text.values"
      ]
    },
    {
      "cell_type": "code",
      "execution_count": null,
      "metadata": {
        "id": "27d61dcee56a"
      },
      "outputs": [],
      "source": [
        "data_pos = data_pos.text.values"
      ]
    },
    {
      "cell_type": "markdown",
      "metadata": {
        "id": "9ddc8e1dfaab"
      },
      "source": [
        "Create the word cloud by removing the common words to highlight the words representing positive and negative samples."
      ]
    },
    {
      "cell_type": "code",
      "execution_count": null,
      "metadata": {
        "id": "8f48fa9258c3"
      },
      "outputs": [],
      "source": [
        "# Python program to generate WordCloud\n",
        "def plot_word_cloud(data, common_words):\n",
        "    comment_words = \"\"\n",
        "    stopwords = set(STOPWORDS)\n",
        "    for val in data:\n",
        "        tokens = val.split()\n",
        "        for i in range(len(tokens)):\n",
        "            tokens[i] = tokens[i].lower()\n",
        "            for each in common_words:\n",
        "                if each in tokens[i]:\n",
        "                    tokens[i] = \"\"\n",
        "                    break\n",
        "\n",
        "        comment_words += \" \".join(tokens) + \" \"\n",
        "\n",
        "    wordcloud = WordCloud(\n",
        "        width=800,\n",
        "        height=800,\n",
        "        background_color=\"white\",\n",
        "        stopwords=stopwords,\n",
        "        min_font_size=10,\n",
        "    ).generate(comment_words)\n",
        "\n",
        "    plt.figure(figsize=(8, 8), facecolor=None)\n",
        "    plt.imshow(wordcloud)\n",
        "    plt.axis(\"off\")\n",
        "    plt.tight_layout(pad=0)\n",
        "\n",
        "    plt.show()"
      ]
    },
    {
      "cell_type": "markdown",
      "metadata": {
        "id": "09e568ad3526"
      },
      "source": [
        "Plot a word cloud of negative reviews."
      ]
    },
    {
      "cell_type": "code",
      "execution_count": null,
      "metadata": {
        "id": "4fd9bf528bb4"
      },
      "outputs": [],
      "source": [
        "plot_word_cloud(\n",
        "    data_neg,\n",
        "    [\n",
        "        \"movie\",\n",
        "        \"film\",\n",
        "        \"story\",\n",
        "        \"audience\",\n",
        "        \"director\",\n",
        "        \"watch\",\n",
        "        \"seem\",\n",
        "        \"world\",\n",
        "        \"one\",\n",
        "        \"make\",\n",
        "        \"way\",\n",
        "        \"character\",\n",
        "        \"much\",\n",
        "        \"time\",\n",
        "        \"even\",\n",
        "        \"take\",\n",
        "        \"s\",\n",
        "        \"n't\",\n",
        "        \"will\",\n",
        "        \"may\",\n",
        "        \"re\",\n",
        "        \"plot\",\n",
        "        \"good\",\n",
        "        \"comedy\",\n",
        "        \"made\",\n",
        "    ],\n",
        ")"
      ]
    },
    {
      "cell_type": "markdown",
      "metadata": {
        "id": "cd2c9686efbc"
      },
      "source": [
        "Plot a word cloud of positive reviews."
      ]
    },
    {
      "cell_type": "code",
      "execution_count": null,
      "metadata": {
        "id": "2fb8c50e991b"
      },
      "outputs": [],
      "source": [
        "plot_word_cloud(\n",
        "    data_pos,\n",
        "    [\n",
        "        \"movie\",\n",
        "        \"film\",\n",
        "        \"story\",\n",
        "        \"audience\",\n",
        "        \"director\",\n",
        "        \"watch\",\n",
        "        \"seem\",\n",
        "        \"world\",\n",
        "        \"one\",\n",
        "        \"make\",\n",
        "        \"way\",\n",
        "        \"character\",\n",
        "        \"much\",\n",
        "        \"time\",\n",
        "        \"even\",\n",
        "        \"take\",\n",
        "        \"s\",\n",
        "        \"n't\",\n",
        "        \"will\",\n",
        "        \"may\",\n",
        "        \"re\",\n",
        "        \"plot\",\n",
        "        \"made\",\n",
        "    ],\n",
        ")"
      ]
    },
    {
      "cell_type": "markdown",
      "metadata": {
        "id": "c169667d92e8"
      },
      "source": [
        "## Clean up\n",
        "<a name=\"section-12\"></a>\n",
        "\n",
        "To clean up all Google Cloud resources used in this project, you can [delete the Google Cloud\n",
        "project](https://cloud.google.com/resource-manager/docs/creating-managing-projects#shutting_down_projects) you used for the tutorial.\n",
        "\n",
        "Otherwise, you can delete the individual resources you created in this tutorial:"
      ]
    },
    {
      "cell_type": "code",
      "execution_count": null,
      "metadata": {
        "id": "c72329be87c8"
      },
      "outputs": [],
      "source": [
        "# Undeploy the model from the endpoint\n",
        "endpoint.undeploy_all()\n",
        "\n",
        "# Delete the endpoint\n",
        "endpoint.delete()\n",
        "\n",
        "# Delete the model\n",
        "model.delete()\n",
        "\n",
        "# Delete the dataset\n",
        "dataset.delete()"
      ]
    },
    {
      "cell_type": "markdown",
      "metadata": {
        "id": "577c85781223"
      },
      "source": [
        "Set `delete_bucket` to **True** to delete the Cloud Storage bucket."
      ]
    },
    {
      "cell_type": "code",
      "execution_count": null,
      "metadata": {
        "id": "b8dee97cd83e"
      },
      "outputs": [],
      "source": [
        "delete_bucket = False\n",
        "# Delete the Cloud storge bucket\n",
        "if delete_bucket:\n",
        "    ! gsutil -m rm -r $BUCKET_URI"
      ]
    }
  ],
  "metadata": {
    "colab": {
      "name": "Sentiment_Analysis.ipynb",
      "toc_visible": true
    },
    "kernelspec": {
      "display_name": "Python 3",
      "name": "python3"
    }
  },
  "nbformat": 4,
  "nbformat_minor": 0
}
