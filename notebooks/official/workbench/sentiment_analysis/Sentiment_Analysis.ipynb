{
  "cells": [
    {
      "cell_type": "code",
      "execution_count": null,
      "metadata": {
        "id": "18ebbd838e32"
      },
      "outputs": [],
      "source": [
        "# Copyright 2022 Google LLC\n",
        "#\n",
        "# Licensed under the Apache License, Version 2.0 (the \"License\");\n",
        "# you may not use this file except in compliance with the License.\n",
        "# You may obtain a copy of the License at\n",
        "#\n",
        "#     https://www.apache.org/licenses/LICENSE-2.0\n",
        "#\n",
        "# Unless required by applicable law or agreed to in writing, software\n",
        "# distributed under the License is distributed on an \"AS IS\" BASIS,\n",
        "# WITHOUT WARRANTIES OR CONDITIONS OF ANY KIND, either express or implied.\n",
        "# See the License for the specific language governing permissions and\n",
        "# limitations under the License."
      ]
    },
    {
      "cell_type": "markdown",
      "metadata": {
        "id": "87e8ba66a90f"
      },
      "source": [
        "# Sentiment Analysis using AutoML Natural Language and Vertex AI\n",
        "\n",
        "<table align=\"left\">\n",
        "\n",
        "  <td>\n",
        "    <a href=\"https://colab.research.google.com/github/GoogleCloudPlatform/vertex-ai-samples/blob/main/notebooks/official/workbench/sentiment_analysis/Sentiment_Analysis.ipynb\">\n",
        "      <img src=\"https://cloud.google.com/ml-engine/images/colab-logo-32px.png\" alt=\"Colab logo\"> Run in Colab\n",
        "    </a>\n",
        "  </td>\n",
        "  <td>\n",
        "    <a href=\"https://github.com/GoogleCloudPlatform/vertex-ai-samples/blob/main/notebooks/official/workbench/sentiment_analysis/Sentiment_Analysis.ipynb\">\n",
        "      <img src=\"https://cloud.google.com/ml-engine/images/github-logo-32px.png\" alt=\"GitHub logo\">\n",
        "      View on GitHub\n",
        "    </a>\n",
        "  </td>\n",
        "  <td>\n",
        "<a href=\"https://console.cloud.google.com/vertex-ai/workbench/deploy-notebook?download_url=https://raw.githubusercontent.com/GoogleCloudPlatform/vertex-ai-samples/main/notebooks/official/workbench/sentiment_analysis/Sentiment_Analysis.ipynb\" target='_blank'>\n",
        "      <img src=\"https://lh3.googleusercontent.com/UiNooY4LUgW_oTvpsNhPpQzsstV5W8F7rYgxgGBD85cWJoLmrOzhVs_ksK_vgx40SHs7jCqkTkCk=e14-rj-sc0xffffff-h130-w32\" alt=\"Vertex AI logo\">\n",
        "      Open in Vertex AI Workbench\n",
        "    </a>\n",
        "  </td>                                                                                               \n",
        "</table>"
      ]
    },
    {
      "cell_type": "markdown",
      "metadata": {
        "id": "fdbaf85c16a5"
      },
      "source": [
        "## Table of contents\n",
        "* [Overview](#section-1)\n",
        "* [Objective](#section-2)\n",
        "* [Dataset](#section-3)\n",
        "* [Costs](#section-4)\n",
        "* [Load the data](#section-5)\n",
        "* [Prepare the training data](#section-6)\n",
        "* [Create a dataset in Vertex AI](#section-7)\n",
        "* [Train the model using Vertex AI](#section-8)\n",
        "* [Deploy the model to the endpoint](#section-9)\n",
        "* [Prediction](#section-10)\n",
        "* [Review visualization](#section-11)\n",
        "* [Clean up](#section-12)"
      ]
    },
    {
      "cell_type": "markdown",
      "metadata": {
        "id": "3b9e88b02478"
      },
      "source": [
        "## Overview\n",
        "<a name=\"section-1\"></a>\n",
        "\n",
        "This notebook demonstrates how to perform sentiment analysis on a Stanford movie reviews dataset using AutoML Natural Language and how to deploy the sentiment analysis model on Vertex AI to get predictions. \n",
        "\n",
        "*Note: This notebook file was developed to run on a [Vertex AI Workbench managed notebooks](https://console.cloud.google.com/vertex-ai/workbench/list/managed) instance using the Python (Local) kernel. Some components of this notebook may not work in other notebook environments.*\n",
        "\n",
        "Learn more about [Vertex AI Workbench](https://cloud.google.com/vertex-ai/docs/workbench/introduction) and [Sentiment analysis for text data](https://cloud.google.com/vertex-ai/docs/training-overview#sentiment_analysis_for_text)."
      ]
    },
    {
      "cell_type": "markdown",
      "metadata": {
        "id": "95d6c7b51af4"
      },
      "source": [
        "### Objective\n",
        "<a name=\"section-2\"></a>\n",
        "\n",
        "In this tutorial, you learn how to train and deploy an AutoML sentiment analysis model, and make predictions.\n",
        "\n",
        "This tutorial uses the following Google Cloud ML services:\n",
        "\n",
        "- `Vertex AI Dataset`\n",
        "- `Vertex AI Model`\n",
        "- `AutoML training`\n",
        "- `Vertex AI Prediction`\n",
        "\n",
        "The steps performed are:\n",
        "\n",
        "- Loading the required data. \n",
        "- Preprocessing the data.\n",
        "- Selecting the required data for the model.\n",
        "- Loading the dataset into Vertex AI managed datasets.\n",
        "- Training a sentiment model using AutoML Text training.\n",
        "- Evaluating the model.\n",
        "- Deploying the model on Vertex AI.\n",
        "- Getting predictions.\n",
        "- Clean up."
      ]
    },
    {
      "cell_type": "markdown",
      "metadata": {
        "id": "3347ff71c571"
      },
      "source": [
        "### Dataset\n",
        "<a name=\"section-3\"></a>\n",
        "\n",
        "The dataset used in this notebook is a part of the [Stanford Sentiment Treebank dataset](https://nlp.stanford.edu/sentiment/), which consists of phrases from movie reviews and their corresponding sentiment scores."
      ]
    },
    {
      "cell_type": "markdown",
      "metadata": {
        "id": "2855e681db83"
      },
      "source": [
        "### Costs\n",
        "<a name=\"section-4\"></a>\n",
        "\n",
        "This tutorial uses the following billable components of Google Cloud:\n",
        "\n",
        "- Vertex AI\n",
        "- Cloud Storage\n",
        "\n",
        "Learn about [Vertex AI\n",
        "pricing](https://cloud.google.com/vertex-ai/pricing) and [Cloud Storage\n",
        "pricing](https://cloud.google.com/storage/pricing), and use the [Pricing\n",
        "Calculator](https://cloud.google.com/products/calculator/)\n",
        "to generate a cost estimate based on your projected usage."
      ]
    },
    {
      "cell_type": "markdown",
      "metadata": {
        "id": "322c8478077b"
      },
      "source": [
        "### Set up your local development environment\n",
        "\n",
        "**If you are using Colab or Vertex AI Workbench Notebooks**, your environment already meets\n",
        "all the requirements to run this notebook."
      ]
    },
    {
      "cell_type": "markdown",
      "metadata": {
        "id": "086805ab3253"
      },
      "source": [
        "**Otherwise**, make sure your environment meets this notebook's requirements.\n",
        "You need the following:\n",
        "\n",
        "* The Google Cloud SDK\n",
        "* Git\n",
        "* Python 3\n",
        "* virtualenv\n",
        "* Jupyter notebook running in a virtual environment with Python 3\n",
        "\n",
        "The Google Cloud guide to [Setting up a Python development\n",
        "environment](https://cloud.google.com/python/setup) and the [Jupyter\n",
        "installation guide](https://jupyter.org/install) provide detailed instructions\n",
        "for meeting these requirements. The following steps provide a condensed set of\n",
        "instructions:\n",
        "\n",
        "1. [Install and initialize the Cloud SDK.](https://cloud.google.com/sdk/docs/)\n",
        "\n",
        "1. [Install Python 3.](https://cloud.google.com/python/setup#installing_python)\n",
        "\n",
        "1. [Install\n",
        "   virtualenv](https://cloud.google.com/python/setup#installing_and_using_virtualenv)\n",
        "   and create a virtual environment that uses Python 3. Activate the virtual environment.\n",
        "\n",
        "1. To install Jupyter, run `pip3 install jupyter` on the\n",
        "command-line in a terminal shell.\n",
        "\n",
        "1. To launch Jupyter, run `jupyter notebook` on the command-line in a terminal shell.\n",
        "\n",
        "1. Open this notebook in the Jupyter Notebook Dashboard.\n"
      ]
    },
    {
      "cell_type": "markdown",
      "metadata": {
        "id": "cf3f84c87bdb"
      },
      "source": [
        "## Installation\n",
        "\n",
        "Select <b>Python</b> kernel while running this notebook on Vertex AI's managed instances and ensure that the following libraries are installed in the environment where this notebook is being run.\n",
        "\n",
        "- wordcloud\n",
        "- Pandas \n",
        "\n",
        "Along with the above libraries, the following google-cloud libraries are also used in this notebook.\n",
        "\n",
        "- google.cloud.aiplatform\n",
        "- google.cloud.storage"
      ]
    },
    {
      "cell_type": "code",
      "execution_count": null,
      "metadata": {
        "id": "eda7d4721c1e"
      },
      "outputs": [],
      "source": [
        "import os\n",
        "\n",
        "# The Vertex AI Workbench Notebook product has specific requirements\n",
        "IS_WORKBENCH_NOTEBOOK = os.getenv(\"DL_ANACONDA_HOME\")\n",
        "IS_USER_MANAGED_WORKBENCH_NOTEBOOK = os.path.exists(\n",
        "    \"/opt/deeplearning/metadata/env_version\"\n",
        ")\n",
        "\n",
        "# Vertex AI Notebook requires dependencies to be installed with '--user'\n",
        "USER_FLAG = \"\"\n",
        "if IS_WORKBENCH_NOTEBOOK:\n",
        "    USER_FLAG = \"--user\"\n",
        "    \n",
        "! pip3 install --upgrade wordcloud {USER_FLAG} -q\n",
        "\n",
        "! pip3 install --upgrade google-cloud-aiplatform \\\n",
        "                        fsspec \\\n",
        "                        gcsfs {USER_FLAG} -q"
      ]
    },
    {
      "cell_type": "markdown",
      "metadata": {
        "id": "f55ce5546af6"
      },
      "source": [
        "### Restart the kernel\n",
        "\n",
        "After you install the additional packages, you need to restart the notebook kernel so it can find the packages."
      ]
    },
    {
      "cell_type": "code",
      "execution_count": null,
      "metadata": {
        "id": "aa1d87bdc90b"
      },
      "outputs": [],
      "source": [
        "# Automatically restart kernel after installs\n",
        "import os\n",
        "\n",
        "if not os.getenv(\"IS_TESTING\"):\n",
        "    # Automatically restart kernel after installs\n",
        "    import IPython\n",
        "\n",
        "    app = IPython.Application.instance()\n",
        "    app.kernel.do_shutdown(True)"
      ]
    },
    {
      "cell_type": "markdown",
      "metadata": {
        "id": "dc07534b5fed"
      },
      "source": [
        "## Before you begin\n",
        "\n",
        "### Set up your Google Cloud project\n",
        "\n",
        "**The following steps are required, regardless of your notebook environment.**\n",
        "\n",
        "1. [Select or create a Google Cloud project](https://console.cloud.google.com/cloud-resource-manager). When you first create an account, you get a $300 free credit towards your compute/storage costs.\n",
        "\n",
        "1. [Make sure that billing is enabled for your project](https://cloud.google.com/billing/docs/how-to/modify-project).\n",
        "\n",
        "1. [Enable the Vertex AI and Cloud Storage APIs](https://console.cloud.google.com/flows/enableapi?apiid=aiplatform.googleapis.com,storage.googleapis.com).\n",
        "\n",
        "1. If you are running this notebook locally, you need to install the [Cloud SDK](https://cloud.google.com/sdk).\n",
        "\n",
        "1. Enter your project ID in the cell below. Then run the cell to make sure the\n",
        "Cloud SDK uses the right project for all the commands in this notebook.\n",
        "\n",
        "**Note**: Jupyter runs lines prefixed with `!` as shell commands, and it interpolates Python variables prefixed with `$` into these commands."
      ]
    },
    {
      "cell_type": "markdown",
      "metadata": {
        "id": "e092f34aa304"
      },
      "source": [
        "#### Set your project ID\n",
        "\n",
        "**If you don't know your project ID**, you may be able to get your project ID using `gcloud`."
      ]
    },
    {
      "cell_type": "code",
      "execution_count": null,
      "metadata": {
        "id": "3c8049930470"
      },
      "outputs": [],
      "source": [
        "PROJECT_ID = \"[your-project-id]\"  # @param {type:\"string\"}"
      ]
    },
    {
      "cell_type": "code",
      "execution_count": null,
      "metadata": {
        "id": "a36c4b991a39"
      },
      "outputs": [],
      "source": [
        "if PROJECT_ID == \"\" or PROJECT_ID is None or PROJECT_ID == \"[your-project-id]\":\n",
        "    # Get your GCP project id from gcloud\n",
        "    shell_output = ! gcloud config list --format 'value(core.project)' 2>/dev/null\n",
        "    PROJECT_ID = shell_output[0]\n",
        "    print(\"Project ID:\", PROJECT_ID)"
      ]
    },
    {
      "cell_type": "code",
      "execution_count": null,
      "metadata": {
        "id": "f2e3c0f2cbfb"
      },
      "outputs": [],
      "source": [
        "! gcloud config set project $PROJECT_ID"
      ]
    },
    {
      "cell_type": "markdown",
      "metadata": {
        "id": "a54f9d7c1876"
      },
      "source": [
        "#### Region\n",
        "\n",
        "You can also change the `REGION` variable, which is used for operations\n",
        "throughout the rest of this notebook.  Below are regions supported for Vertex AI. We recommend that you choose the region closest to you.\n",
        "\n",
        "- Americas: `us-central1`\n",
        "- Europe: `europe-west4`\n",
        "- Asia Pacific: `asia-east1`\n",
        "\n",
        "You may not use a multi-regional bucket for training with Vertex AI. Not all regions provide support for all Vertex AI services.\n",
        "\n",
        "Learn more about [Vertex AI regions](https://cloud.google.com/vertex-ai/docs/general/locations)."
      ]
    },
    {
      "cell_type": "code",
      "execution_count": null,
      "metadata": {
        "id": "3aaadaaf9b30"
      },
      "outputs": [],
      "source": [
        "REGION = \"[your-region]\"  # @param {type: \"string\"}\n",
        "\n",
        "if REGION == \"[your-region]\":\n",
        "    REGION = \"us-central1\""
      ]
    },
    {
      "cell_type": "markdown",
      "metadata": {
        "id": "b32c908a390c"
      },
      "source": [
        "#### UUID\n",
        "\n",
        "If you are in a live tutorial session, you might be using a shared test account or project. To avoid name collisions between users on resources created, you create a uuid for each instance session, and append it onto the name of resources you create in this tutorial."
      ]
    },
    {
      "cell_type": "code",
      "execution_count": null,
      "metadata": {
        "id": "d598bcdd2f4e"
      },
      "outputs": [],
      "source": [
        "import random\n",
        "import string\n",
        "\n",
        "\n",
        "# Generate a uuid of a specifed length(default=8)\n",
        "def generate_uuid(length: int = 8) -> str:\n",
        "    return \"\".join(random.choices(string.ascii_lowercase + string.digits, k=length))\n",
        "\n",
        "\n",
        "UUID = generate_uuid()"
      ]
    },
    {
      "cell_type": "markdown",
      "metadata": {
        "id": "5e18b2d160e4"
      },
      "source": [
        "### Authenticate your Google Cloud account\n",
        "\n",
        "**If you are using Vertex AI Workbench notebooks**, your environment is already authenticated.\n",
        "\n",
        "**If you are using Colab**, run the cell below and follow the instructions\n",
        "when prompted to authenticate your account via oAuth.\n",
        "\n",
        "**Otherwise**, follow these steps:\n",
        "\n",
        "1. In the Cloud Console, go to the [**Create service account key**\n",
        "   page](https://console.cloud.google.com/apis/credentials/serviceaccountkey).\n",
        "\n",
        "2. Click **Create service account**.\n",
        "\n",
        "3. In the **Service account name** field, enter a name, and\n",
        "   click **Create**.\n",
        "\n",
        "4. In the **Grant this service account access to project** section, click the **Role** drop-down list. Type \"Vertex AI\"\n",
        "into the filter box, and select\n",
        "   **Vertex AI Administrator**. Type \"Storage Object Admin\" into the filter box, and select **Storage Object Admin**.\n",
        "\n",
        "5. Click *Create*. A JSON file that contains your key downloads to your\n",
        "local environment.\n",
        "\n",
        "6. Enter the path to your service account key as the\n",
        "`GOOGLE_APPLICATION_CREDENTIALS` variable in the cell below and run the cell."
      ]
    },
    {
      "cell_type": "code",
      "execution_count": null,
      "metadata": {
        "id": "0ffb57911177"
      },
      "outputs": [],
      "source": [
        "# If you are running this notebook in Colab, run this cell and follow the\n",
        "# instructions to authenticate your GCP account. This provides access to your\n",
        "# Cloud Storage bucket and lets you submit training jobs and prediction\n",
        "# requests.\n",
        "\n",
        "import os\n",
        "import sys\n",
        "\n",
        "# If on Vertex AI Workbench, then don't execute this code\n",
        "IS_COLAB = \"google.colab\" in sys.modules\n",
        "if not os.path.exists(\"/opt/deeplearning/metadata/env_version\") and not os.getenv(\n",
        "    \"DL_ANACONDA_HOME\"\n",
        "):\n",
        "    if \"google.colab\" in sys.modules:\n",
        "        from google.colab import auth as google_auth\n",
        "\n",
        "        google_auth.authenticate_user()\n",
        "\n",
        "    # If you are running this notebook locally, replace the string below with the\n",
        "    # path to your service account key and run this cell to authenticate your GCP\n",
        "    # account.\n",
        "    elif not os.getenv(\"IS_TESTING\"):\n",
        "        %env GOOGLE_APPLICATION_CREDENTIALS ''"
      ]
    },
    {
      "cell_type": "markdown",
      "metadata": {
        "id": "809b6293fb16"
      },
      "source": [
        "### Create a Cloud Storage bucket\n",
        "\n",
        "**The following steps are required, regardless of your notebook environment.**\n",
        "\n",
        "When you create a Vertex AI's managed dataset resource using the Cloud SDK, you specify the Cloud Storage bucket where the data is stored. Vertex AI manages the data from the provided location. In this tutorial, Vertex AI creates a managed text dataset from the data provided in a Cloud Storage bucket. On the created managed dataset, you can then train an AutoML Natural Language model and deploy it to an endpoint for serving online predictions.\n",
        "\n",
        "Set the name of your Cloud Storage bucket below. It must be unique across all\n",
        "Cloud Storage buckets."
      ]
    },
    {
      "cell_type": "code",
      "execution_count": null,
      "metadata": {
        "id": "6c33e028f3ad"
      },
      "outputs": [],
      "source": [
        "BUCKET_NAME = \"[your-bucket-name]\"  # @param {type:\"string\"}\n",
        "BUCKET_URI = f\"gs://{BUCKET_NAME}\""
      ]
    },
    {
      "cell_type": "code",
      "execution_count": null,
      "metadata": {
        "id": "7a7dd63eef70"
      },
      "outputs": [],
      "source": [
        "if BUCKET_NAME == \"\" or BUCKET_NAME is None or BUCKET_NAME == \"[your-bucket-name]\":\n",
        "    BUCKET_NAME = PROJECT_ID + \"aip-\" + UUID\n",
        "    BUCKET_URI = f\"gs://{BUCKET_NAME}\""
      ]
    },
    {
      "cell_type": "markdown",
      "metadata": {
        "id": "d359349e4ec1"
      },
      "source": [
        "**Only if your bucket doesn't already exist**: Run the following cell to create your Cloud Storage bucket."
      ]
    },
    {
      "cell_type": "code",
      "execution_count": null,
      "metadata": {
        "id": "c1584aaae6d3"
      },
      "outputs": [],
      "source": [
        "! gsutil mb -l $REGION -p $PROJECT_ID $BUCKET_URI"
      ]
    },
    {
      "cell_type": "markdown",
      "metadata": {
        "id": "9073bf50e676"
      },
      "source": [
        "Finally, validate access to your Cloud Storage bucket by examining its contents."
      ]
    },
    {
      "cell_type": "code",
      "execution_count": null,
      "metadata": {
        "id": "b83d9e848ac1"
      },
      "outputs": [],
      "source": [
        "! gsutil ls -al $BUCKET_URI"
      ]
    },
    {
      "cell_type": "markdown",
      "metadata": {
        "id": "543fd0a71f4d"
      },
      "source": [
        "### Import libraries"
      ]
    },
    {
      "cell_type": "code",
      "execution_count": 1,
      "metadata": {
        "id": "5e0383e0444d"
      },
      "outputs": [],
      "source": [
        "import os\n",
        "from typing import List, Optional, Union\n",
        "\n",
        "import matplotlib.pyplot as plt\n",
        "import pandas as pd\n",
        "from google.cloud import aiplatform, storage\n",
        "from wordcloud import STOPWORDS, WordCloud"
      ]
    },
    {
      "cell_type": "markdown",
      "metadata": {
        "id": "5563f402e958"
      },
      "source": [
        "## Load the data \n",
        "<a name=\"section-5\"></a>\n",
        "\n",
        "Load the phrases and scores of the dataset from the Cloud Storage sources."
      ]
    },
    {
      "cell_type": "code",
      "execution_count": null,
      "metadata": {
        "id": "e9bed419ca1b"
      },
      "outputs": [],
      "source": [
        "phrases = pd.read_csv(\n",
        "    \"gs://cloud-samples-data/vertex-ai/managed_notebooks/sentiment_analysis/stanford_sentiment_treebank/sentiment_phrases.txt\",\n",
        "    sep=\"|\",\n",
        ")\n",
        "phrases.columns = [\"text\", \"phrase ids\"]\n",
        "scores = pd.read_csv(\n",
        "    \"gs://cloud-samples-data/vertex-ai/managed_notebooks/sentiment_analysis/stanford_sentiment_treebank/sentiment_labels.txt\",\n",
        "    sep=\"|\",\n",
        ")\n",
        "df = phrases.merge(scores, how=\"left\", on=\"phrase ids\")\n",
        "print(df.head(5))"
      ]
    },
    {
      "cell_type": "code",
      "execution_count": null,
      "metadata": {
        "id": "d88a752930ac"
      },
      "outputs": [],
      "source": [
        "print(max(df[\"sentiment values\"]), min(df[\"sentiment values\"]))"
      ]
    },
    {
      "cell_type": "markdown",
      "metadata": {
        "id": "c83b75fb3279"
      },
      "source": [
        "The data itself doesn't contain any feature names and thus needs its columns to be renamed. The dataframe **phrases** contains all phrases and their IDs separated by `|` whereas **scores** contains all phrase ids and the corresponding sentiment scores separated by a `|`."
      ]
    },
    {
      "cell_type": "markdown",
      "metadata": {
        "id": "44443815a2fc"
      },
      "source": [
        "### Create labels \n",
        "\n",
        "The label scores are bucketed into four classes by mapping them into the following ranges:\n",
        "\n",
        "[0, 0.25], (0.25, 0.5], (0.5, 0.75],(0.75, 1.0]"
      ]
    },
    {
      "cell_type": "code",
      "execution_count": null,
      "metadata": {
        "id": "97bbb7218788"
      },
      "outputs": [],
      "source": [
        "# Define the class labels\n",
        "VERYNEGATIVE = 0\n",
        "NEGATIVE = 1\n",
        "POSITIVE = 2\n",
        "VERYPOSITIVE = 3"
      ]
    },
    {
      "cell_type": "code",
      "execution_count": null,
      "metadata": {
        "id": "e971f9f576cf"
      },
      "outputs": [],
      "source": [
        "bins = [0, 0.25, 0.5, 0.75, 1]\n",
        "labels = [VERYNEGATIVE, NEGATIVE, POSITIVE, VERYPOSITIVE]\n",
        "df[\"label\"] = pd.cut(df[\"sentiment values\"], bins=bins, labels=labels)\n",
        "print(df.head())"
      ]
    },
    {
      "cell_type": "markdown",
      "metadata": {
        "id": "87b38faf9a85"
      },
      "source": [
        "## Prepare the training data\n",
        "<a name=\"section-6\"></a>\n",
        "\n",
        "To train a sentiment analysis model using AutoML Natural Language, you provide samples of the type of content you want to train labeled with a value indicating how the sentiment varies.\n",
        "\n",
        "The sentiment label is encoded as integer ranging from 0 (relatively negative) to a maximum value of your choice (positive). For example, if you want to identify whether the sentiment is negative, positive, or neutral, you would label the training data with sentiment scores of 0 (negative), 1 (neutral), and 2 (positive). If you want to capture more granularity with five levels of sentiment, you can still label documents with the most negative sentiment as 0 and use 4 for the most positive sentiment. In such case, the maximum sentiment score (sentiment_max) for the dataset would be 4."
      ]
    },
    {
      "cell_type": "markdown",
      "metadata": {
        "id": "edcf89a00954"
      },
      "source": [
        "For training, you select a subset of the orginal data that consists of extreme positive and negative samples. Here the maximum sentiment would be 1. In the **ml_use** column, you provide if the instance belongs to TRAIN, VALIDATION or TEST sample or let the Vertex AI randomly assign. \n",
        "\n",
        "Each line or instance in the CSV file refers to a single document. The following example shows the general format of a valid CSV file:\n",
        "\n",
        "**[ml_use]**,**gcs_file_uri**|**\"inline_text\"**,**sentiment**,**sentimentMax**\n",
        "\n",
        "For more information visit the official [documentation](https://cloud.google.com/vertex-ai/docs/datasets/prepare-text#sentiment-analysis) on preparing the sentiment analysis data.\n"
      ]
    },
    {
      "cell_type": "markdown",
      "metadata": {
        "id": "245c07c7df7b"
      },
      "source": [
        "### Select a subset of the data"
      ]
    },
    {
      "cell_type": "code",
      "execution_count": null,
      "metadata": {
        "id": "e1db0f24d1da"
      },
      "outputs": [],
      "source": [
        "subset_data = df[df[\"label\"].isin([VERYNEGATIVE, VERYPOSITIVE])].reset_index(drop=True)\n",
        "subset_data.head()"
      ]
    },
    {
      "cell_type": "code",
      "execution_count": null,
      "metadata": {
        "id": "99f314e5a437"
      },
      "outputs": [],
      "source": [
        "subset_data[\"label\"] = subset_data[\"label\"].apply(lambda x: 1 if x == 3 else 0)\n",
        "subset_data[\"ml_use\"] = \"\"\n",
        "subset_data[\"sentimentMax\"] = 1\n",
        "subset_data = subset_data[[\"ml_use\", \"text\", \"label\", \"sentimentMax\"]]\n",
        "print(subset_data.head())"
      ]
    },
    {
      "cell_type": "markdown",
      "metadata": {
        "id": "c3e54c1f430a"
      },
      "source": [
        "### Create a csv"
      ]
    },
    {
      "cell_type": "code",
      "execution_count": null,
      "metadata": {
        "id": "806303530d77"
      },
      "outputs": [],
      "source": [
        "FILE_NAME = \"sentiment_data.csv\"\n",
        "subset_data.to_csv(FILE_NAME, index=False)\n",
        "# Upload the saved model file to Cloud Storage\n",
        "BLOB_PATH = \"sentiment_analysis/\"\n",
        "BLOB_NAME = os.path.join(BLOB_PATH, FILE_NAME)\n",
        "bucket = storage.Client().bucket(BUCKET_NAME)\n",
        "blob = bucket.blob(BLOB_NAME)\n",
        "blob.upload_from_filename(FILE_NAME)"
      ]
    },
    {
      "cell_type": "markdown",
      "metadata": {
        "id": "453938b7c88b"
      },
      "source": [
        "## Create a dataset in Vertex AI\n",
        "<a name=\"section-7\"></a>\n",
        "\n",
        "The following code uses the Vertex AI SDK for Python to both create a dataset and import data. "
      ]
    },
    {
      "cell_type": "code",
      "execution_count": null,
      "metadata": {
        "id": "e359a68f6295"
      },
      "outputs": [],
      "source": [
        "def import_data_text_sentiment_analysis(\n",
        "    project: str,\n",
        "    location: str,\n",
        "    display_name: str,\n",
        "    src_uris: Union[str, List[str]],\n",
        "    sync: bool = True,\n",
        "):\n",
        "    aiplatform.init(project=project, location=location)\n",
        "\n",
        "    ds = aiplatform.TextDataset.create(\n",
        "        display_name=display_name,\n",
        "        gcs_source=src_uris,\n",
        "        import_schema_uri=aiplatform.schema.dataset.ioformat.text.sentiment,\n",
        "        sync=sync,\n",
        "    )\n",
        "\n",
        "    print(ds.display_name)\n",
        "    print(ds.resource_name)\n",
        "    return ds"
      ]
    },
    {
      "cell_type": "markdown",
      "metadata": {
        "id": "bd1f01b376b2"
      },
      "source": [
        "Set a display name for the managed dataset. "
      ]
    },
    {
      "cell_type": "code",
      "execution_count": null,
      "metadata": {
        "id": "de95111cf709"
      },
      "outputs": [],
      "source": [
        "DATASET_NAME = \"[your-dataset-display-name]\"  # @param {type:\"string\"}"
      ]
    },
    {
      "cell_type": "code",
      "execution_count": null,
      "metadata": {
        "id": "989313dc7b94"
      },
      "outputs": [],
      "source": [
        "if DATASET_NAME == \"\" or DATASET_NAME == \"[your-dataset-display-name]\":\n",
        "    DATASET_NAME = \"sentimentanalysis\"\n",
        "\n",
        "# Create a Vertex AI managed dataset resource\n",
        "src_uris = [f\"{BUCKET_URI}/sentiment_analysis/sentiment_data.csv\"]\n",
        "dataset = import_data_text_sentiment_analysis(\n",
        "    PROJECT_ID, REGION, DATASET_NAME, src_uris\n",
        ")"
      ]
    },
    {
      "cell_type": "markdown",
      "metadata": {
        "id": "a7c140cb93c0"
      },
      "source": [
        "## Train the model using Vertex AI\n",
        "<a name=\"section-8\"></a>\n",
        "\n",
        "The following code uses the Vertex AI SDK for Python to train the model on the above created dataset. You can get the dataset id from the Dataset section of Vertex AI in the console or from the resource name in the dataset object created above. You can specify how the training data is split between the training, validation, and test sets by setting the fraction_split variables.\n",
        "\n",
        "**Note**: The model training job can take more than 120 min. to finish."
      ]
    },
    {
      "cell_type": "code",
      "execution_count": null,
      "metadata": {
        "id": "bd06f6f67a56"
      },
      "outputs": [],
      "source": [
        "def create_training_pipeline_text_sentiment_analysis(\n",
        "    project: str,\n",
        "    location: str,\n",
        "    display_name: str,\n",
        "    dataset_id: str,\n",
        "    model_display_name: Optional[str] = None,\n",
        "    sentiment_max: int = 10,\n",
        "    training_fraction_split: float = 0.8,\n",
        "    validation_fraction_split: float = 0.1,\n",
        "    test_fraction_split: float = 0.1,\n",
        "    sync: bool = True,\n",
        "):\n",
        "    aiplatform.init(project=project, location=location)\n",
        "\n",
        "    job = aiplatform.AutoMLTextTrainingJob(\n",
        "        display_name=display_name,\n",
        "        prediction_type=\"sentiment\",\n",
        "        sentiment_max=sentiment_max,\n",
        "    )\n",
        "\n",
        "    text_dataset = aiplatform.TextDataset(dataset_id)\n",
        "\n",
        "    model = job.run(\n",
        "        dataset=text_dataset,\n",
        "        model_display_name=model_display_name,\n",
        "        training_fraction_split=training_fraction_split,\n",
        "        validation_fraction_split=validation_fraction_split,\n",
        "        test_fraction_split=test_fraction_split,\n",
        "        sync=sync,\n",
        "    )\n",
        "\n",
        "    print(model.display_name)\n",
        "    print(model.resource_name)\n",
        "    print(model.uri)\n",
        "    return model"
      ]
    },
    {
      "cell_type": "markdown",
      "metadata": {
        "id": "e7d09a8e2a01"
      },
      "source": [
        "Set a display name for the AutoML training job."
      ]
    },
    {
      "cell_type": "code",
      "execution_count": null,
      "metadata": {
        "id": "22de78a6fee1"
      },
      "outputs": [],
      "source": [
        "JOB_NAME = \"[your-training-job-display-name]\"  # @param {type:\"string\"}"
      ]
    },
    {
      "cell_type": "code",
      "execution_count": null,
      "metadata": {
        "id": "a0a83ba2be4b"
      },
      "outputs": [],
      "source": [
        "if JOB_NAME == \"\" or JOB_NAME == \"[your-training-job-display-name]\":\n",
        "    JOB_NAME = \"sentimentanalysis_job\"\n",
        "\n",
        "# Using the created Text dataset, create and run the training job\n",
        "dataset_id = dataset.resource_name.split(\"/\")[-1]\n",
        "print(dataset_id)\n",
        "model = create_training_pipeline_text_sentiment_analysis(\n",
        "    PROJECT_ID, REGION, JOB_NAME, dataset_id, sentiment_max=1\n",
        ")"
      ]
    },
    {
      "cell_type": "markdown",
      "metadata": {
        "id": "077f319a4218"
      },
      "source": [
        "## Deploy the model to the endpoint\n",
        "<a name=\"section-9\"></a>\n"
      ]
    },
    {
      "cell_type": "markdown",
      "metadata": {
        "id": "cd4463310e5a"
      },
      "source": [
        "### Create endpoint\n",
        "Create a Vertex AI endpoint to deploy the model."
      ]
    },
    {
      "cell_type": "code",
      "execution_count": null,
      "metadata": {
        "id": "473ff65e0b88"
      },
      "outputs": [],
      "source": [
        "def create_endpoint(\n",
        "    project: str,\n",
        "    display_name: str,\n",
        "    location: str,\n",
        "):\n",
        "    aiplatform.init(project=project, location=location)\n",
        "\n",
        "    endpoint = aiplatform.Endpoint.create(\n",
        "        display_name=display_name,\n",
        "        project=project,\n",
        "        location=location,\n",
        "    )\n",
        "\n",
        "    print(endpoint.display_name)\n",
        "    print(endpoint.resource_name)\n",
        "    return endpoint"
      ]
    },
    {
      "cell_type": "markdown",
      "metadata": {
        "id": "8fc75934c34c"
      },
      "source": [
        "Set a display name for the endpoint."
      ]
    },
    {
      "cell_type": "code",
      "execution_count": null,
      "metadata": {
        "id": "fbef44c69575"
      },
      "outputs": [],
      "source": [
        "ENDPOINT_NAME = \"[your-endpoint-name]\"  # @param {type:\"string\"}"
      ]
    },
    {
      "cell_type": "code",
      "execution_count": null,
      "metadata": {
        "id": "54785032708f"
      },
      "outputs": [],
      "source": [
        "if ENDPOINT_NAME == \"[your-endpoint-name]\":\n",
        "    ENDPOINT_NAME = \"sentiment-analysis-endpoint\"\n",
        "\n",
        "# Create Endpoint\n",
        "endpoint = create_endpoint(PROJECT_ID, ENDPOINT_NAME, REGION)"
      ]
    },
    {
      "cell_type": "markdown",
      "metadata": {
        "id": "f84df96c9828"
      },
      "source": [
        "### Deploy the model\n",
        "\n",
        "The following code uses the Vertex AI SDK for Python to deploy the model to a endpoint."
      ]
    },
    {
      "cell_type": "code",
      "execution_count": null,
      "metadata": {
        "id": "6c520e2f7f8b"
      },
      "outputs": [],
      "source": [
        "model.deploy(endpoint=endpoint)\n",
        "\n",
        "print(model.display_name)\n",
        "print(model.resource_name)"
      ]
    },
    {
      "cell_type": "markdown",
      "metadata": {
        "id": "9bcd4d7a11de"
      },
      "source": [
        "## Prediction\n",
        "<a name=\"section-10\"></a>\n",
        "\n",
        "After deploying the model to an endpoint use the Vertex AI SDK to request an online prediction. Filter the data that you haven't used for the training and pick longer reviews to test the model."
      ]
    },
    {
      "cell_type": "code",
      "execution_count": null,
      "metadata": {
        "id": "7fa5e1a01a77"
      },
      "outputs": [],
      "source": [
        "def predict_text_sentiment_analysis_sample(endpoint, content):\n",
        "    print(content)\n",
        "    response = endpoint.predict(instances=[{\"content\": content}], parameters={})\n",
        "\n",
        "    for prediction_ in response.predictions:\n",
        "        print(prediction_)"
      ]
    },
    {
      "cell_type": "code",
      "execution_count": null,
      "metadata": {
        "id": "817ba5968e22"
      },
      "outputs": [],
      "source": [
        "test_data_pos = df[df[\"label\"].isin([POSITIVE])].reset_index(drop=True)\n",
        "test_data_neg = df[df[\"label\"].isin([NEGATIVE])].reset_index(drop=True)\n",
        "\n",
        "test_data_neg = test_data_neg.text.values\n",
        "test_data_neg = [i for i in test_data_neg if len(i) > 200]\n",
        "random.shuffle(test_data_neg)"
      ]
    },
    {
      "cell_type": "code",
      "execution_count": null,
      "metadata": {
        "id": "3fed98fbb6d7"
      },
      "outputs": [],
      "source": [
        "test_data_pos = test_data_pos.text.values\n",
        "test_data_pos = [i for i in test_data_pos if len(i) > 200]\n",
        "random.shuffle(test_data_pos)"
      ]
    },
    {
      "cell_type": "markdown",
      "metadata": {
        "id": "963102b04a59"
      },
      "source": [
        "Here is the prediction results on the positive samples. The model did a good job on predicting positive sentiment for positive reviews. The first and last review predictions are false negatives. "
      ]
    },
    {
      "cell_type": "code",
      "execution_count": null,
      "metadata": {
        "id": "5d7b1d59c0d0"
      },
      "outputs": [],
      "source": [
        "for review in test_data_pos[0:10]:\n",
        "    predict_text_sentiment_analysis_sample(endpoint, review)"
      ]
    },
    {
      "cell_type": "markdown",
      "metadata": {
        "id": "6fc9dbc3436e"
      },
      "source": [
        "Here is the prediction results on the negative reviews. Out of 10 reviews below 7 negative reviews are correctly predicted with negative sentiment"
      ]
    },
    {
      "cell_type": "code",
      "execution_count": null,
      "metadata": {
        "id": "53830cc82fc5"
      },
      "outputs": [],
      "source": [
        "for review in test_data_neg[0:10]:\n",
        "    predict_text_sentiment_analysis_sample(endpoint, review)"
      ]
    },
    {
      "cell_type": "markdown",
      "metadata": {
        "id": "aa6a2abc2006"
      },
      "source": [
        "## Review visualization\n",
        "<a name=\"section-11\"></a>\n",
        "\n",
        "Visualize the positive and negative reviews in the data."
      ]
    },
    {
      "cell_type": "code",
      "execution_count": null,
      "metadata": {
        "id": "b08c4be897ce"
      },
      "outputs": [],
      "source": [
        "data_pos = df[df[\"label\"].isin([VERYPOSITIVE])].reset_index(drop=True)\n",
        "data_neg = df[df[\"label\"].isin([VERYNEGATIVE])].reset_index(drop=True)\n",
        "\n",
        "data_neg = data_neg.text.values"
      ]
    },
    {
      "cell_type": "code",
      "execution_count": null,
      "metadata": {
        "id": "27d61dcee56a"
      },
      "outputs": [],
      "source": [
        "data_pos = data_pos.text.values"
      ]
    },
    {
      "cell_type": "markdown",
      "metadata": {
        "id": "9ddc8e1dfaab"
      },
      "source": [
        "Create the word cloud by removing the common words to highlight the words representing positive and negative samples."
      ]
    },
    {
      "cell_type": "code",
      "execution_count": null,
      "metadata": {
        "id": "8f48fa9258c3"
      },
      "outputs": [],
      "source": [
        "# Python program to generate WordCloud\n",
        "def plot_word_cloud(data, common_words):\n",
        "    comment_words = \"\"\n",
        "    stopwords = set(STOPWORDS)\n",
        "    for val in data:\n",
        "        tokens = val.split()\n",
        "        for i in range(len(tokens)):\n",
        "            tokens[i] = tokens[i].lower()\n",
        "            for each in common_words:\n",
        "                if each in tokens[i]:\n",
        "                    tokens[i] = \"\"\n",
        "                    break\n",
        "\n",
        "        comment_words += \" \".join(tokens) + \" \"\n",
        "\n",
        "    wordcloud = WordCloud(\n",
        "        width=800,\n",
        "        height=800,\n",
        "        background_color=\"white\",\n",
        "        stopwords=stopwords,\n",
        "        min_font_size=10,\n",
        "    ).generate(comment_words)\n",
        "\n",
        "    plt.figure(figsize=(8, 8), facecolor=None)\n",
        "    plt.imshow(wordcloud)\n",
        "    plt.axis(\"off\")\n",
        "    plt.tight_layout(pad=0)\n",
        "\n",
        "    plt.show()"
      ]
    },
    {
      "cell_type": "markdown",
      "metadata": {
        "id": "09e568ad3526"
      },
      "source": [
        "Plot a word cloud of negative reviews."
      ]
    },
    {
      "cell_type": "code",
      "execution_count": null,
      "metadata": {
        "id": "4fd9bf528bb4"
      },
      "outputs": [],
      "source": [
        "plot_word_cloud(\n",
        "    data_neg,\n",
        "    [\n",
        "        \"movie\",\n",
        "        \"film\",\n",
        "        \"story\",\n",
        "        \"audience\",\n",
        "        \"director\",\n",
        "        \"watch\",\n",
        "        \"seem\",\n",
        "        \"world\",\n",
        "        \"one\",\n",
        "        \"make\",\n",
        "        \"way\",\n",
        "        \"character\",\n",
        "        \"much\",\n",
        "        \"time\",\n",
        "        \"even\",\n",
        "        \"take\",\n",
        "        \"s\",\n",
        "        \"n't\",\n",
        "        \"will\",\n",
        "        \"may\",\n",
        "        \"re\",\n",
        "        \"plot\",\n",
        "        \"good\",\n",
        "        \"comedy\",\n",
        "        \"made\",\n",
        "    ],\n",
        ")"
      ]
    },
    {
      "cell_type": "markdown",
      "metadata": {
        "id": "cd2c9686efbc"
      },
      "source": [
        "Plot a word cloud of positive reviews."
      ]
    },
    {
      "cell_type": "code",
      "execution_count": null,
      "metadata": {
        "id": "2fb8c50e991b"
      },
      "outputs": [],
      "source": [
        "plot_word_cloud(\n",
        "    data_pos,\n",
        "    [\n",
        "        \"movie\",\n",
        "        \"film\",\n",
        "        \"story\",\n",
        "        \"audience\",\n",
        "        \"director\",\n",
        "        \"watch\",\n",
        "        \"seem\",\n",
        "        \"world\",\n",
        "        \"one\",\n",
        "        \"make\",\n",
        "        \"way\",\n",
        "        \"character\",\n",
        "        \"much\",\n",
        "        \"time\",\n",
        "        \"even\",\n",
        "        \"take\",\n",
        "        \"s\",\n",
        "        \"n't\",\n",
        "        \"will\",\n",
        "        \"may\",\n",
        "        \"re\",\n",
        "        \"plot\",\n",
        "        \"made\",\n",
        "    ],\n",
        ")"
      ]
    },
    {
      "cell_type": "markdown",
      "metadata": {
        "id": "c169667d92e8"
      },
      "source": [
        "## Clean up\n",
        "<a name=\"section-12\"></a>\n",
        "\n",
        "To clean up all Google Cloud resources used in this project, you can [delete the Google Cloud\n",
        "project](https://cloud.google.com/resource-manager/docs/creating-managing-projects#shutting_down_projects) you used for the tutorial.\n",
        "\n",
        "Otherwise, you can delete the individual resources you created in this tutorial:"
      ]
    },
    {
      "cell_type": "code",
      "execution_count": null,
      "metadata": {
        "id": "c72329be87c8"
      },
      "outputs": [],
      "source": [
        "# Undeploy the model from the endpoint\n",
        "endpoint.undeploy_all()\n",
        "\n",
        "# Delete the endpoint\n",
        "endpoint.delete()\n",
        "\n",
        "# Delete the model\n",
        "model.delete()\n",
        "\n",
        "# Delete the dataset\n",
        "dataset.delete()"
      ]
    },
    {
      "cell_type": "markdown",
      "metadata": {
        "id": "577c85781223"
      },
      "source": [
        "Set `delete_bucket` to **True** to delete the Cloud Storage bucket."
      ]
    },
    {
      "cell_type": "code",
      "execution_count": null,
      "metadata": {
        "id": "b8dee97cd83e"
      },
      "outputs": [],
      "source": [
        "delete_bucket = False\n",
        "# Delete the Cloud storge bucket\n",
        "if delete_bucket:\n",
        "    ! gsutil -m rm -r $BUCKET_URI"
      ]
    }
  ],
  "metadata": {
    "colab": {
      "name": "Sentiment_Analysis.ipynb",
      "toc_visible": true
    },
    "kernelspec": {
      "display_name": "Python 3",
      "name": "python3"
    }
  },
  "nbformat": 4,
  "nbformat_minor": 0
}
