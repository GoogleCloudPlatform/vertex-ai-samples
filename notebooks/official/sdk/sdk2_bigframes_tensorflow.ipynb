{
  "cells": [
    {
      "cell_type": "code",
      "execution_count": null,
      "metadata": {
        "id": "ur8xi4C7S06n"
      },
      "outputs": [],
      "source": [
        "# Copyright 2023 Google LLC\n",
        "#\n",
        "# Licensed under the Apache License, Version 2.0 (the \"License\");\n",
        "# you may not use this file except in compliance with the License.\n",
        "# You may obtain a copy of the License at\n",
        "#\n",
        "#     https://www.apache.org/licenses/LICENSE-2.0\n",
        "#\n",
        "# Unless required by applicable law or agreed to in writing, software\n",
        "# distributed under the License is distributed on an \"AS IS\" BASIS,\n",
        "# WITHOUT WARRANTIES OR CONDITIONS OF ANY KIND, either express or implied.\n",
        "# See the License for the specific language governing permissions and\n",
        "# limitations under the License."
      ]
    },
    {
      "cell_type": "markdown",
      "metadata": {
        "id": "JAPoU8Sm5E6e"
      },
      "source": [
        "# Train a Tensorflow Keras model with Vertex AI SDK 2.0 and Bigframes \n",
        "\n",
        "<table align=\"left\">\n",
        "  <td>\n",
        "    <a href=\"https://colab.research.google.com/github/GoogleCloudPlatform/vertex-ai-samples/blob/main/notebooks/official/sdk/sdk2_bigframes_tensorflow.ipynb\">\n",
        "      <img src=\"https://cloud.google.com/ml-engine/images/colab-logo-32px.png\" alt=\"Colab logo\"> Run in Colab\n",
        "    </a>\n",
        "  </td>\n",
        "  <td>\n",
        "    <a href=\"https://github.com/GoogleCloudPlatform/vertex-ai-samples/blob/main/notebooks/official/sdk/sdk2_bigframes_tensorflow.ipynb\">\n",
        "        <img src=\"https://cloud.google.com/ml-engine/images/github-logo-32px.png\" alt=\"GitHub logo\">\n",
        "      View on GitHub\n",
        "    </a>\n",
        "  </td>\n",
        "    <td>\n",
        "    <a href=\"https://console.cloud.google.com/vertex-ai/workbench/deploy-notebook?download_url=https://raw.githubusercontent.com/GoogleCloudPlatform/vertex-ai-samples/main/notebooks/sdk/sdk2_bigframes_tensorflow.ipynb\">\n",
        "       <img src=\"https://www.gstatic.com/cloud/images/navigation/vertex-ai.svg\" alt=\"Vertex AI logo\">Open in Vertex AI Workbench\n",
        "    </a>\n",
        "</table>"
      ]
    },
    {
      "cell_type": "markdown",
      "metadata": {
        "id": "tvgnzT1CKxrO"
      },
      "source": [
        "## Overview\n",
        "\n",
        "This tutorial demonstrates how to train a tensorflow keras model using Vertex AI local-to-remote training with Vertex AI SDK 2.0 and BigQuery Bigframes as the data source.\n",
        "\n",
        "Learn more about [bigframes](https://cloud.google.com/bigquery/docs/)."
      ]
    },
    {
      "cell_type": "markdown",
      "metadata": {
        "id": "d975e698c9a4"
      },
      "source": [
        "### Objective\n",
        "\n",
        "In this tutorial, you learn to use `Vertex AI SDK 2.0` with Bigframes as input data source.\n",
        "\n",
        "\n",
        "This tutorial uses the following Google Cloud ML services:\n",
        "\n",
        "- `Vertex AI Training`\n",
        "- `Vertex AI Remote Training`\n",
        "\n",
        "\n",
        "The steps performed include:\n",
        "\n",
        "- Initialize a dataframe from a BigQuery table and split the dataset\n",
        "- Perform transformations as a Vertex AI remote training.\n",
        "- Train the model remotely and evaluate the model locally\n",
        "\n",
        "**Local-to-remote training**\n",
        "\n",
        "```\n",
        "import vertexai\n",
        "from my_module import MyModelClass\n",
        "\n",
        "vertexai.preview.init(remote=True, project=\"my-project\", location=\"my-location\", staging_bucket=\"gs://my-bucket\")\n",
        "\n",
        "# Wrap the model class with `vertex_ai.preview.remote`\n",
        "MyModelClass = vertexai.preview.remote(MyModelClass)\n",
        "\n",
        "# Instantiate the class\n",
        "model = MyModelClass(...)\n",
        "\n",
        "# Optional set remote config\n",
        "model.fit.vertex.remote_config.display_name = \"MyModelClass-remote-training\"\n",
        "model.fit.vertex.remote_config.staging_bucket = \"gs://my-bucket\"\n",
        "\n",
        "# This `fit` call will be executed remotely\n",
        "model.fit(...)\n",
        "```"
      ]
    },
    {
      "cell_type": "markdown",
      "metadata": {
        "id": "08d289fa873f"
      },
      "source": [
        "### Dataset\n",
        "\n",
        "This tutorial uses the <a href=\"https://scikit-learn.org/stable/auto_examples/datasets/plot_iris_dataset.html\">IRIS dataset</a>, which predicts the iris species."
      ]
    },
    {
      "cell_type": "markdown",
      "metadata": {
        "id": "aed92deeb4a0"
      },
      "source": [
        "### Costs\n",
        "\n",
        "This tutorial uses billable components of Google Cloud:\n",
        "\n",
        "* Vertex AI\n",
        "* BigQuery\n",
        "* Cloud Storage\n",
        "\n",
        "Learn about [Vertex AI pricing](https://cloud.google.com/vertex-ai/pricing),\n",
        "[BigQuery pricing](https://cloud.google.com/bigquery/pricing),\n",
        "and [Cloud Storage pricing](https://cloud.google.com/storage/pricing), \n",
        "and use the [Pricing Calculator](https://cloud.google.com/products/calculator/)\n",
        "to generate a cost estimate based on your projected usage."
      ]
    },
    {
      "cell_type": "markdown",
      "metadata": {
        "id": "i7EUnXsZhAGF"
      },
      "source": [
        "## Installation\n",
        "\n",
        "Install the following packages required to execute this notebook. "
      ]
    },
    {
      "cell_type": "code",
      "execution_count": null,
      "metadata": {
        "id": "2b4ef9b72d43"
      },
      "outputs": [],
      "source": [
        "# Install the packages\n",
        "# Debug ! pip3 install --upgrade --quiet google-cloud-aiplatform[preview]\n",
        "! pip3 install --upgrade --quiet \"google-cloud-aiplatform[preview] @ git+https://github.com/googleapis/python-aiplatform.git@copybara_572668419\"\n",
        "\n",
        "! pip3 install --upgrade --quiet bigframes\n",
        "! pip3 install --upgrade --quiet tensorflow==2.12.0"
      ]
    },
    {
      "cell_type": "markdown",
      "metadata": {
        "id": "58707a750154"
      },
      "source": [
        "### Colab only: Uncomment the following cell to restart the kernel."
      ]
    },
    {
      "cell_type": "code",
      "execution_count": null,
      "metadata": {
        "id": "f200f10a1da3"
      },
      "outputs": [],
      "source": [
        "# Automatically restart kernel after installs so that your environment can access the new packages\n",
        "# import IPython\n",
        "\n",
        "# app = IPython.Application.instance()\n",
        "# app.kernel.do_shutdown(True)"
      ]
    },
    {
      "cell_type": "markdown",
      "metadata": {
        "id": "BF1j6f9HApxa"
      },
      "source": [
        "## Before you begin\n",
        "\n",
        "### Set up your Google Cloud project\n",
        "\n",
        "**The following steps are required, regardless of your notebook environment.**\n",
        "\n",
        "1. [Select or create a Google Cloud project](https://console.cloud.google.com/cloud-resource-manager). When you first create an account, you get a $300 free credit towards your compute/storage costs.\n",
        "\n",
        "2. [Make sure that billing is enabled for your project](https://cloud.google.com/billing/docs/how-to/modify-project).\n",
        "\n",
        "3. [Enable the Vertex AI API](https://console.cloud.google.com/flows/enableapi?apiid=aiplatform.googleapis.com).\n",
        "\n",
        "4. If you are running this notebook locally, you need to install the [Cloud SDK](https://cloud.google.com/sdk)."
      ]
    },
    {
      "cell_type": "markdown",
      "metadata": {
        "id": "WReHDGG5g0XY"
      },
      "source": [
        "#### Set your project ID\n",
        "\n",
        "**If you don't know your project ID**, try the following:\n",
        "* Run `gcloud config list`.\n",
        "* Run `gcloud projects list`.\n",
        "* See the support page: [Locate the project ID](https://support.google.com/googleapi/answer/7014113)"
      ]
    },
    {
      "cell_type": "code",
      "execution_count": null,
      "metadata": {
        "id": "oM1iC_MfAts1"
      },
      "outputs": [],
      "source": [
        "PROJECT_ID = \"[your-project-id]\"  # @param {type:\"string\"}\n",
        "\n",
        "# Set the project id\n",
        "! gcloud config set project {PROJECT_ID}"
      ]
    },
    {
      "cell_type": "markdown",
      "metadata": {
        "id": "region"
      },
      "source": [
        "#### Region\n",
        "\n",
        "You can also change the `REGION` variable used by Vertex AI. Learn more about [Vertex AI regions](https://cloud.google.com/vertex-ai/docs/general/locations)."
      ]
    },
    {
      "cell_type": "code",
      "execution_count": null,
      "metadata": {
        "id": "region"
      },
      "outputs": [],
      "source": [
        "REGION = \"us-central1\"  # @param {type: \"string\"}"
      ]
    },
    {
      "cell_type": "markdown",
      "metadata": {
        "id": "sBCra4QMA2wR"
      },
      "source": [
        "### Authenticate your Google Cloud account\n",
        "\n",
        "Depending on your Jupyter environment, you may have to manually authenticate. Follow the relevant instructions below."
      ]
    },
    {
      "cell_type": "markdown",
      "metadata": {
        "id": "74ccc9e52986"
      },
      "source": [
        "**1. Vertex AI Workbench**\n",
        "* Do nothing as you are already authenticated."
      ]
    },
    {
      "cell_type": "markdown",
      "metadata": {
        "id": "de775a3773ba"
      },
      "source": [
        "**2. Local JupyterLab instance, uncomment and run:**"
      ]
    },
    {
      "cell_type": "code",
      "execution_count": null,
      "metadata": {
        "id": "254614fa0c46"
      },
      "outputs": [],
      "source": [
        "# ! gcloud auth login"
      ]
    },
    {
      "cell_type": "markdown",
      "metadata": {
        "id": "ef21552ccea8"
      },
      "source": [
        "**3. Colab, uncomment and run:**"
      ]
    },
    {
      "cell_type": "code",
      "execution_count": null,
      "metadata": {
        "id": "603adbbf0532"
      },
      "outputs": [],
      "source": [
        "# from google.colab import auth\n",
        "# auth.authenticate_user()"
      ]
    },
    {
      "cell_type": "markdown",
      "metadata": {
        "id": "f6b2ccc891ed"
      },
      "source": [
        "**4. Service account or other**\n",
        "* See how to grant Cloud Storage permissions to your service account at https://cloud.google.com/storage/docs/gsutil/commands/iam#ch-examples."
      ]
    },
    {
      "cell_type": "markdown",
      "metadata": {
        "id": "zgPO1eR3CYjk"
      },
      "source": [
        "### Create a Cloud Storage bucket\n",
        "\n",
        "Create a storage bucket to store intermediate artifacts such as datasets."
      ]
    },
    {
      "cell_type": "code",
      "execution_count": null,
      "metadata": {
        "id": "MzGDU7TWdts_"
      },
      "outputs": [],
      "source": [
        "BUCKET_URI = f\"gs://your-bucket-name-{PROJECT_ID}-unique\"  # @param {type:\"string\"}"
      ]
    },
    {
      "cell_type": "markdown",
      "metadata": {
        "id": "-EcIXiGsCePi"
      },
      "source": [
        "**Only if your bucket doesn't already exist**: Run the following cell to create your Cloud Storage bucket."
      ]
    },
    {
      "cell_type": "code",
      "execution_count": null,
      "metadata": {
        "id": "NIq7R4HZCfIc"
      },
      "outputs": [],
      "source": [
        "! gsutil mb -l {REGION} -p {PROJECT_ID} {BUCKET_URI}"
      ]
    },
    {
      "cell_type": "markdown",
      "metadata": {
        "id": "960505627ddf"
      },
      "source": [
        "### Import libraries and define constants"
      ]
    },
    {
      "cell_type": "code",
      "execution_count": 1,
      "metadata": {
        "id": "3dc9bcf48db1"
      },
      "outputs": [
        {
          "name": "stdout",
          "output_type": "stream",
          "text": [
            "Updated property [core/project].\n"
          ]
        }
      ],
      "source": [
        "# SAMPLE NOTEBOOK TEMP LOCAL OVERRIDES\n",
        "\n",
        "PROJECT_ID = \"vertex-sdk-dev\"  # @param {type:\"string\"}\n",
        "! gcloud config set project {PROJECT_ID}\n",
        "REGION = \"us-central1\"  # @param {type: \"string\"}\n",
        "\n",
        "BUCKET_URI = \"gs://vertex_sdk_2_0_poc_runs\""
      ]
    },
    {
      "cell_type": "code",
      "execution_count": 2,
      "metadata": {
        "id": "PyQmSRbKA8r-"
      },
      "outputs": [
        {
          "name": "stderr",
          "output_type": "stream",
          "text": [
            "2023-10-11 20:11:46.807364: I tensorflow/core/platform/cpu_feature_guard.cc:182] This TensorFlow binary is optimized to use available CPU instructions in performance-critical operations.\n",
            "To enable the following instructions: AVX2 FMA, in other operations, rebuild TensorFlow with the appropriate compiler flags.\n"
          ]
        }
      ],
      "source": [
        "import bigframes.pandas as bf\n",
        "import tensorflow as tf\n",
        "import vertexai\n",
        "from tensorflow import keras\n",
        "\n",
        "bf.options.bigquery.location = \"us\"  # Dataset is in 'us' not 'us-central1'\n",
        "bf.options.bigquery.project = PROJECT_ID\n",
        "\n",
        "from bigframes.ml.model_selection import \\\n",
        "    train_test_split as bf_train_test_split"
      ]
    },
    {
      "cell_type": "markdown",
      "metadata": {
        "id": "init_aip:mbsdk,all"
      },
      "source": [
        "## Initialize Vertex AI SDK for Python\n",
        "\n",
        "Initialize the Vertex AI SDK for Python for your project and corresponding bucket."
      ]
    },
    {
      "cell_type": "code",
      "execution_count": 3,
      "metadata": {
        "id": "init_aip:mbsdk,all"
      },
      "outputs": [],
      "source": [
        "vertexai.init(\n",
        "    project=PROJECT_ID,\n",
        "    location=REGION,\n",
        "    staging_bucket=BUCKET_URI,\n",
        ")"
      ]
    },
    {
      "cell_type": "markdown",
      "metadata": {
        "id": "105334524e96"
      },
      "source": [
        "## Prepare the dataset\n",
        "\n",
        "Now load the Iris dataset and split the data into train and test sets."
      ]
    },
    {
      "cell_type": "code",
      "execution_count": 4,
      "metadata": {
        "id": "94576deccd8c"
      },
      "outputs": [
        {
          "data": {
            "application/vnd.jupyter.widget-view+json": {
              "model_id": "7d002952103040278b29b424af941734",
              "version_major": 2,
              "version_minor": 0
            },
            "text/plain": [
              "HTML(value='Query job a7044c12-786f-4626-a97a-458df1d2bf09 is RUNNING. <a target=\"_blank\" href=\"https://consol…"
            ]
          },
          "metadata": {},
          "output_type": "display_data"
        },
        {
          "data": {
            "application/vnd.jupyter.widget-view+json": {
              "model_id": "1fd917c6982045f8a6f406caa52d461d",
              "version_major": 2,
              "version_minor": 0
            },
            "text/plain": [
              "HTML(value='Load job 7303c8a9-59bb-4904-9e59-093f3719f676 is RUNNING. <a target=\"_blank\" href=\"https://console…"
            ]
          },
          "metadata": {},
          "output_type": "display_data"
        },
        {
          "data": {
            "application/vnd.jupyter.widget-view+json": {
              "model_id": "e43efa8c89f04f2984364cce05fdf9d8",
              "version_major": 2,
              "version_minor": 0
            },
            "text/plain": [
              "HTML(value='Query job bbc75d0a-d009-49d7-86e5-6bb1388e58fa is DONE. 2.8 kB processed. <a target=\"_blank\" href=…"
            ]
          },
          "metadata": {},
          "output_type": "display_data"
        }
      ],
      "source": [
        "df = bf.read_gbq(\"bigquery-public-data.ml_datasets.iris\")\n",
        "\n",
        "species_categories = {\n",
        "    \"versicolor\": 0,\n",
        "    \"virginica\": 1,\n",
        "    \"setosa\": 2,\n",
        "}\n",
        "df[\"target\"] = df[\"species\"].map(species_categories)\n",
        "df = df.drop(columns=[\"species\"])\n",
        "\n",
        "train, test = bf_train_test_split(df, test_size=0.2)"
      ]
    },
    {
      "cell_type": "markdown",
      "metadata": {
        "id": "cfcbce726efa"
      },
      "source": [
        "## Remote training with GPU\n",
        "\n",
        "First, train a TensorFlow model as a remote training job:\n",
        "\n",
        "- Reinitialize Vertex AI for remote training.\n",
        "- Instantiate the tensorflow keras model for the remote training job.\n",
        "- Invoke the tensorflow keras model.fit() locally which will launch the remote training job."
      ]
    },
    {
      "cell_type": "code",
      "execution_count": 5,
      "metadata": {
        "id": "fd865b0c4e8b"
      },
      "outputs": [
        {
          "data": {
            "application/vnd.jupyter.widget-view+json": {
              "model_id": "058bd3fdec6b45faa571f2a092cfb58a",
              "version_major": 2,
              "version_minor": 0
            },
            "text/plain": [
              "HTML(value='Query job 874af382-2488-4d2d-9ed2-d50b47ffe260 is RUNNING. <a target=\"_blank\" href=\"https://consol…"
            ]
          },
          "metadata": {},
          "output_type": "display_data"
        },
        {
          "data": {
            "application/vnd.jupyter.widget-view+json": {
              "model_id": "b4ea6e39862a4334883c7f36c811efd3",
              "version_major": 2,
              "version_minor": 0
            },
            "text/plain": [
              "HTML(value='Query job 1873466c-3b43-420c-9731-e680c92d876c is RUNNING. <a target=\"_blank\" href=\"https://consol…"
            ]
          },
          "metadata": {},
          "output_type": "display_data"
        },
        {
          "name": "stderr",
          "output_type": "stream",
          "text": [
            "[INFO][2023-10-11 20:12:08,991][vertexai.remote_execution] Remote job created. View the job: https://console.cloud.google.com/ai/platform/locations/us-central1/training/2218453069123813376?project=964831358985\n",
            "[INFO][2023-10-11 20:18:52,444][vertexai.remote_execution] Start remote execution on Vertex...\n",
            "\n",
            "[INFO][2023-10-11 20:18:52,446][vertexai.remote_execution] Epoch 1/10\n",
            "\n",
            "[INFO][2023-10-11 20:18:52,447][vertexai.remote_execution] INFO:tensorflow:batch_all_reduce: 2 all-reduces with algorithm = nccl, num_packs = 1\n",
            "\n",
            "[ERROR][2023-10-11 20:18:52,449][vertexai.remote_execution] I1011 20:18:36.306972 140067534186304 cross_device_ops.py:897] batch_all_reduce: 2 all-reduces with algorithm = nccl, num_packs = 1\n",
            "\n",
            "[INFO][2023-10-11 20:18:52,451][vertexai.remote_execution] INFO:tensorflow:Reduce to /job:localhost/replica:0/task:0/device:CPU:0 then broadcast to ('/job:localhost/replica:0/task:0/device:CPU:0',).\n",
            "\n",
            "[ERROR][2023-10-11 20:18:52,452][vertexai.remote_execution] I1011 20:18:36.574608 140067534186304 cross_device_ops.py:616] Reduce to /job:localhost/replica:0/task:0/device:CPU:0 then broadcast to ('/job:localhost/replica:0/task:0/device:CPU:0',).\n",
            "\n",
            "[INFO][2023-10-11 20:18:52,452][vertexai.remote_execution] INFO:tensorflow:Reduce to /job:localhost/replica:0/task:0/device:CPU:0 then broadcast to ('/job:localhost/replica:0/task:0/device:CPU:0',).\n",
            "\n",
            "[ERROR][2023-10-11 20:18:52,454][vertexai.remote_execution] I1011 20:18:36.580622 140067534186304 cross_device_ops.py:616] Reduce to /job:localhost/replica:0/task:0/device:CPU:0 then broadcast to ('/job:localhost/replica:0/task:0/device:CPU:0',).\n",
            "\n",
            "[INFO][2023-10-11 20:18:52,455][vertexai.remote_execution] INFO:tensorflow:Reduce to /job:localhost/replica:0/task:0/device:CPU:0 then broadcast to ('/job:localhost/replica:0/task:0/device:CPU:0',).\n",
            "\n",
            "[ERROR][2023-10-11 20:18:52,457][vertexai.remote_execution] I1011 20:18:36.586385 140067534186304 cross_device_ops.py:616] Reduce to /job:localhost/replica:0/task:0/device:CPU:0 then broadcast to ('/job:localhost/replica:0/task:0/device:CPU:0',).\n",
            "\n",
            "[INFO][2023-10-11 20:18:52,458][vertexai.remote_execution] INFO:tensorflow:Reduce to /job:localhost/replica:0/task:0/device:CPU:0 then broadcast to ('/job:localhost/replica:0/task:0/device:CPU:0',).\n",
            "\n",
            "[ERROR][2023-10-11 20:18:52,460][vertexai.remote_execution] I1011 20:18:38.811995 140067534186304 cross_device_ops.py:616] Reduce to /job:localhost/replica:0/task:0/device:CPU:0 then broadcast to ('/job:localhost/replica:0/task:0/device:CPU:0',).\n",
            "\n",
            "[INFO][2023-10-11 20:18:52,461][vertexai.remote_execution] INFO:tensorflow:Reduce to /job:localhost/replica:0/task:0/device:CPU:0 then broadcast to ('/job:localhost/replica:0/task:0/device:CPU:0',).\n",
            "\n",
            "[ERROR][2023-10-11 20:18:52,462][vertexai.remote_execution] I1011 20:18:38.821794 140067534186304 cross_device_ops.py:616] Reduce to /job:localhost/replica:0/task:0/device:CPU:0 then broadcast to ('/job:localhost/replica:0/task:0/device:CPU:0',).\n",
            "\n",
            "4/4 [==============================] - 3s 144ms/step - loss: 1.3868\n",
            "\n",
            "[ERROR][2023-10-11 20:18:52,464][vertexai.remote_execution] 2023-10-11 20:18:38.837528: I tensorflow/core/common_runtime/executor.cc:1197] [/device:CPU:0] (DEBUG INFO) Executor start aborting (this does not indicate an error and you can ignore this message): INVALID_ARGUMENT: You must feed a value for placeholder tensor 'Placeholder/_28' with dtype int64 and shape [1]\n",
            "\n",
            "[ERROR][2023-10-11 20:18:52,465][vertexai.remote_execution] \t [[{{node Placeholder/_28}}]]\n",
            "\n",
            "[ERROR][2023-10-11 20:18:52,466][vertexai.remote_execution] 2023-10-11 20:18:38.838968: I tensorflow/core/common_runtime/executor.cc:1197] [/device:CPU:0] (DEBUG INFO) Executor start aborting (this does not indicate an error and you can ignore this message): INVALID_ARGUMENT: You must feed a value for placeholder tensor 'Placeholder/_32' with dtype int64 and shape [1]\n",
            "\n",
            "[ERROR][2023-10-11 20:18:52,467][vertexai.remote_execution] \t [[{{node Placeholder/_32}}]]\n",
            "\n",
            "[INFO][2023-10-11 20:18:52,468][vertexai.remote_execution] INFO:tensorflow:Reduce to /job:localhost/replica:0/task:0/device:CPU:0 then broadcast to ('/job:localhost/replica:0/task:0/device:CPU:0',).\n",
            "\n",
            "[ERROR][2023-10-11 20:18:52,469][vertexai.remote_execution] I1011 20:18:39.180741 140067534186304 cross_device_ops.py:616] Reduce to /job:localhost/replica:0/task:0/device:CPU:0 then broadcast to ('/job:localhost/replica:0/task:0/device:CPU:0',).\n",
            "\n",
            "[INFO][2023-10-11 20:18:52,470][vertexai.remote_execution] INFO:tensorflow:Reduce to /job:localhost/replica:0/task:0/device:CPU:0 then broadcast to ('/job:localhost/replica:0/task:0/device:CPU:0',).\n",
            "\n",
            "[ERROR][2023-10-11 20:18:52,471][vertexai.remote_execution] I1011 20:18:39.185145 140067534186304 cross_device_ops.py:616] Reduce to /job:localhost/replica:0/task:0/device:CPU:0 then broadcast to ('/job:localhost/replica:0/task:0/device:CPU:0',).\n",
            "\n",
            "[INFO][2023-10-11 20:18:52,473][vertexai.remote_execution] Epoch 2/10\n",
            "\n",
            "[INFO][2023-10-11 20:18:52,475][vertexai.remote_execution] INFO:tensorflow:Reduce to /job:localhost/replica:0/task:0/device:CPU:0 then broadcast to ('/job:localhost/replica:0/task:0/device:CPU:0',).\n",
            "\n",
            "[ERROR][2023-10-11 20:18:52,476][vertexai.remote_execution] I1011 20:18:39.233422 140067534186304 cross_device_ops.py:616] Reduce to /job:localhost/replica:0/task:0/device:CPU:0 then broadcast to ('/job:localhost/replica:0/task:0/device:CPU:0',).\n",
            "\n",
            "[INFO][2023-10-11 20:18:52,477][vertexai.remote_execution] INFO:tensorflow:Reduce to /job:localhost/replica:0/task:0/device:CPU:0 then broadcast to ('/job:localhost/replica:0/task:0/device:CPU:0',).\n",
            "\n",
            "[ERROR][2023-10-11 20:18:52,478][vertexai.remote_execution] I1011 20:18:39.235491 140067534186304 cross_device_ops.py:616] Reduce to /job:localhost/replica:0/task:0/device:CPU:0 then broadcast to ('/job:localhost/replica:0/task:0/device:CPU:0',).\n",
            "\n",
            "4/4 [==============================] - 0s 11ms/step - loss: 1.3849\n",
            "\n",
            "[ERROR][2023-10-11 20:18:52,480][vertexai.remote_execution] 2023-10-11 20:18:39.247201: I tensorflow/core/common_runtime/executor.cc:1197] [/device:CPU:0] (DEBUG INFO) Executor start aborting (this does not indicate an error and you can ignore this message): INVALID_ARGUMENT: You must feed a value for placeholder tensor 'Placeholder/_14' with dtype int64 and shape [1]\n",
            "\n",
            "[ERROR][2023-10-11 20:18:52,481][vertexai.remote_execution] \t [[{{node Placeholder/_14}}]]\n",
            "\n",
            "[ERROR][2023-10-11 20:18:52,482][vertexai.remote_execution] 2023-10-11 20:18:39.248433: I tensorflow/core/common_runtime/executor.cc:1197] [/device:CPU:0] (DEBUG INFO) Executor start aborting (this does not indicate an error and you can ignore this message): INVALID_ARGUMENT: You must feed a value for placeholder tensor 'Placeholder/_64' with dtype int64 and shape [1]\n",
            "\n",
            "[ERROR][2023-10-11 20:18:52,483][vertexai.remote_execution] \t [[{{node Placeholder/_64}}]]\n",
            "\n",
            "[INFO][2023-10-11 20:18:52,484][vertexai.remote_execution] INFO:tensorflow:Reduce to /job:localhost/replica:0/task:0/device:CPU:0 then broadcast to ('/job:localhost/replica:0/task:0/device:CPU:0',).\n",
            "\n",
            "[ERROR][2023-10-11 20:18:52,486][vertexai.remote_execution] I1011 20:18:39.585306 140067534186304 cross_device_ops.py:616] Reduce to /job:localhost/replica:0/task:0/device:CPU:0 then broadcast to ('/job:localhost/replica:0/task:0/device:CPU:0',).\n",
            "\n",
            "[INFO][2023-10-11 20:18:52,487][vertexai.remote_execution] Epoch 3/10\n",
            "\n",
            "4/4 [==============================] - 0s 11ms/step - loss: 1.3835\n",
            "\n",
            "[ERROR][2023-10-11 20:18:52,489][vertexai.remote_execution] 2023-10-11 20:18:39.650760: I tensorflow/core/common_runtime/executor.cc:1197] [/device:CPU:0] (DEBUG INFO) Executor start aborting (this does not indicate an error and you can ignore this message): INVALID_ARGUMENT: You must feed a value for placeholder tensor 'Placeholder/_28' with dtype int64 and shape [1]\n",
            "\n",
            "[ERROR][2023-10-11 20:18:52,490][vertexai.remote_execution] \t [[{{node Placeholder/_28}}]]\n",
            "\n",
            "[ERROR][2023-10-11 20:18:52,491][vertexai.remote_execution] 2023-10-11 20:18:39.652226: I tensorflow/core/common_runtime/executor.cc:1197] [/device:CPU:0] (DEBUG INFO) Executor start aborting (this does not indicate an error and you can ignore this message): INVALID_ARGUMENT: You must feed a value for placeholder tensor 'Placeholder/_28' with dtype int64 and shape [1]\n",
            "\n",
            "[ERROR][2023-10-11 20:18:52,492][vertexai.remote_execution] \t [[{{node Placeholder/_28}}]]\n",
            "\n",
            "[INFO][2023-10-11 20:18:52,493][vertexai.remote_execution] Epoch 4/10\n",
            "\n",
            "4/4 [==============================] - 0s 12ms/step - loss: 1.3825\n",
            "\n",
            "[ERROR][2023-10-11 20:18:52,495][vertexai.remote_execution] 2023-10-11 20:18:40.062046: I tensorflow/core/common_runtime/executor.cc:1197] [/device:CPU:0] (DEBUG INFO) Executor start aborting (this does not indicate an error and you can ignore this message): INVALID_ARGUMENT: You must feed a value for placeholder tensor 'Placeholder/_86' with dtype int64 and shape [1]\n",
            "\n",
            "[ERROR][2023-10-11 20:18:52,496][vertexai.remote_execution] \t [[{{node Placeholder/_86}}]]\n",
            "\n",
            "[ERROR][2023-10-11 20:18:52,497][vertexai.remote_execution] 2023-10-11 20:18:40.063371: I tensorflow/core/common_runtime/executor.cc:1197] [/device:CPU:0] (DEBUG INFO) Executor start aborting (this does not indicate an error and you can ignore this message): INVALID_ARGUMENT: You must feed a value for placeholder tensor 'Placeholder/_100' with dtype int64 and shape [1]\n",
            "\n",
            "[ERROR][2023-10-11 20:18:52,498][vertexai.remote_execution] \t [[{{node Placeholder/_100}}]]\n",
            "\n",
            "[INFO][2023-10-11 20:18:52,499][vertexai.remote_execution] Epoch 5/10\n",
            "\n",
            "4/4 [==============================] - 0s 13ms/step - loss: 1.3820\n",
            "\n",
            "[ERROR][2023-10-11 20:18:52,626][vertexai.remote_execution] 2023-10-11 20:18:40.471773: I tensorflow/core/common_runtime/executor.cc:1197] [/device:CPU:0] (DEBUG INFO) Executor start aborting (this does not indicate an error and you can ignore this message): INVALID_ARGUMENT: You must feed a value for placeholder tensor 'Placeholder/_46' with dtype int64 and shape [1]\n",
            "\n",
            "[ERROR][2023-10-11 20:18:52,627][vertexai.remote_execution] \t [[{{node Placeholder/_46}}]]\n",
            "\n",
            "[ERROR][2023-10-11 20:18:52,629][vertexai.remote_execution] 2023-10-11 20:18:40.473050: I tensorflow/core/common_runtime/executor.cc:1197] [/device:CPU:0] (DEBUG INFO) Executor start aborting (this does not indicate an error and you can ignore this message): INVALID_ARGUMENT: You must feed a value for placeholder tensor 'Placeholder/_64' with dtype int64 and shape [1]\n",
            "\n",
            "[ERROR][2023-10-11 20:18:52,630][vertexai.remote_execution] \t [[{{node Placeholder/_64}}]]\n",
            "\n",
            "[INFO][2023-10-11 20:18:52,631][vertexai.remote_execution] Epoch 6/10\n",
            "\n",
            "4/4 [==============================] - 0s 13ms/step - loss: 1.3818\n",
            "\n",
            "[ERROR][2023-10-11 20:18:52,633][vertexai.remote_execution] 2023-10-11 20:18:40.905256: I tensorflow/core/common_runtime/executor.cc:1197] [/device:CPU:0] (DEBUG INFO) Executor start aborting (this does not indicate an error and you can ignore this message): INVALID_ARGUMENT: You must feed a value for placeholder tensor 'Placeholder/_86' with dtype int64 and shape [1]\n",
            "\n",
            "[ERROR][2023-10-11 20:18:52,635][vertexai.remote_execution] \t [[{{node Placeholder/_86}}]]\n",
            "\n",
            "[ERROR][2023-10-11 20:18:52,636][vertexai.remote_execution] 2023-10-11 20:18:40.906503: I tensorflow/core/common_runtime/executor.cc:1197] [/device:CPU:0] (DEBUG INFO) Executor start aborting (this does not indicate an error and you can ignore this message): INVALID_ARGUMENT: You must feed a value for placeholder tensor 'Placeholder/_14' with dtype int64 and shape [1]\n",
            "\n",
            "[ERROR][2023-10-11 20:18:52,637][vertexai.remote_execution] \t [[{{node Placeholder/_14}}]]\n",
            "\n",
            "[INFO][2023-10-11 20:18:52,638][vertexai.remote_execution] Epoch 7/10\n",
            "\n",
            "4/4 [==============================] - 0s 15ms/step - loss: 1.3817\n",
            "\n",
            "[ERROR][2023-10-11 20:18:52,640][vertexai.remote_execution] 2023-10-11 20:18:41.349728: I tensorflow/core/common_runtime/executor.cc:1197] [/device:CPU:0] (DEBUG INFO) Executor start aborting (this does not indicate an error and you can ignore this message): INVALID_ARGUMENT: You must feed a value for placeholder tensor 'Placeholder/_82' with dtype int64 and shape [1]\n",
            "\n",
            "[ERROR][2023-10-11 20:18:52,642][vertexai.remote_execution] \t [[{{node Placeholder/_82}}]]\n",
            "\n",
            "[ERROR][2023-10-11 20:18:52,643][vertexai.remote_execution] 2023-10-11 20:18:41.351166: I tensorflow/core/common_runtime/executor.cc:1197] [/device:CPU:0] (DEBUG INFO) Executor start aborting (this does not indicate an error and you can ignore this message): INVALID_ARGUMENT: You must feed a value for placeholder tensor 'Placeholder/_32' with dtype int64 and shape [1]\n",
            "\n",
            "[ERROR][2023-10-11 20:18:52,644][vertexai.remote_execution] \t [[{{node Placeholder/_32}}]]\n",
            "\n",
            "[INFO][2023-10-11 20:18:52,645][vertexai.remote_execution] Epoch 8/10\n",
            "\n",
            "4/4 [==============================] - 0s 14ms/step - loss: 1.3816\n",
            "\n",
            "[ERROR][2023-10-11 20:18:52,647][vertexai.remote_execution] 2023-10-11 20:18:41.794254: I tensorflow/core/common_runtime/executor.cc:1197] [/device:CPU:0] (DEBUG INFO) Executor start aborting (this does not indicate an error and you can ignore this message): INVALID_ARGUMENT: You must feed a value for placeholder tensor 'Placeholder/_82' with dtype int64 and shape [1]\n",
            "\n",
            "[ERROR][2023-10-11 20:18:52,649][vertexai.remote_execution] \t [[{{node Placeholder/_82}}]]\n",
            "\n",
            "[ERROR][2023-10-11 20:18:52,650][vertexai.remote_execution] 2023-10-11 20:18:41.795681: I tensorflow/core/common_runtime/executor.cc:1197] [/device:CPU:0] (DEBUG INFO) Executor start aborting (this does not indicate an error and you can ignore this message): INVALID_ARGUMENT: You must feed a value for placeholder tensor 'Placeholder/_82' with dtype int64 and shape [1]\n",
            "\n",
            "[ERROR][2023-10-11 20:18:52,651][vertexai.remote_execution] \t [[{{node Placeholder/_82}}]]\n",
            "\n",
            "[INFO][2023-10-11 20:18:52,652][vertexai.remote_execution] Epoch 9/10\n",
            "\n",
            "4/4 [==============================] - 0s 12ms/step - loss: 1.3815\n",
            "\n",
            "[ERROR][2023-10-11 20:18:52,654][vertexai.remote_execution] 2023-10-11 20:18:42.193243: I tensorflow/core/common_runtime/executor.cc:1197] [/device:CPU:0] (DEBUG INFO) Executor start aborting (this does not indicate an error and you can ignore this message): INVALID_ARGUMENT: You must feed a value for placeholder tensor 'Placeholder/_28' with dtype int64 and shape [1]\n",
            "\n",
            "[ERROR][2023-10-11 20:18:52,655][vertexai.remote_execution] \t [[{{node Placeholder/_28}}]]\n",
            "\n",
            "[ERROR][2023-10-11 20:18:52,656][vertexai.remote_execution] 2023-10-11 20:18:42.194880: I tensorflow/core/common_runtime/executor.cc:1197] [/device:CPU:0] (DEBUG INFO) Executor start aborting (this does not indicate an error and you can ignore this message): INVALID_ARGUMENT: You must feed a value for placeholder tensor 'Placeholder/_28' with dtype int64 and shape [1]\n",
            "\n",
            "[ERROR][2023-10-11 20:18:52,657][vertexai.remote_execution] \t [[{{node Placeholder/_28}}]]\n",
            "\n",
            "[INFO][2023-10-11 20:18:52,658][vertexai.remote_execution] Epoch 10/10\n",
            "\n",
            "4/4 [==============================] - 0s 11ms/step - loss: 1.3812\n",
            "\n",
            "[INFO][2023-10-11 20:18:52,661][vertexai.remote_execution] Remote execution is completed.\n",
            "\n"
          ]
        },
        {
          "data": {
            "text/plain": [
              "<keras.callbacks.History at 0x7f94cec26380>"
            ]
          },
          "execution_count": 5,
          "metadata": {},
          "output_type": "execute_result"
        }
      ],
      "source": [
        "# Switch to remote mode for training\n",
        "vertexai.preview.init(remote=True)\n",
        "\n",
        "keras.Sequential = vertexai.preview.remote(keras.Sequential)\n",
        "\n",
        "# Instantiate model\n",
        "model = keras.Sequential(\n",
        "    [keras.layers.Dense(5, input_shape=(4,)), keras.layers.Softmax()]\n",
        ")\n",
        "\n",
        "# Specify optimizer and loss function\n",
        "model.compile(optimizer=\"adam\", loss=\"mean_squared_error\")\n",
        "\n",
        "# (Optional) Manually set GPU compute resources\n",
        "model.fit.vertex.remote_config.enable_cuda = True\n",
        "model.fit.vertex.remote_config.machine_type = \"n1-highmem-4\"\n",
        "model.fit.vertex.remote_config.accelerator_type = \"NVIDIA_TESLA_K80\"\n",
        "model.fit.vertex.remote_config.accelerator_count = 4\n",
        "\n",
        "# Train model on Vertex\n",
        "model.fit(train, epochs=10)"
      ]
    },
    {
      "cell_type": "markdown",
      "metadata": {
        "id": "f1af94ac1477"
      },
      "source": [
        "## Remote prediction\n",
        "\n",
        "Obtain predictions from the trained model."
      ]
    },
    {
      "cell_type": "code",
      "execution_count": null,
      "metadata": {
        "id": "1d75879948b5"
      },
      "outputs": [],
      "source": [
        "# Remote evaluation\n",
        "vertexai.preview.init(remote=True)\n",
        "\n",
        "# Disable GPU for remote prediction\n",
        "model.predict.vertex.remote_config.enable_cuda = False\n",
        "\n",
        "predictions = model.predict(train)\n",
        "\n",
        "print(f\"Remote predictions: {predictions}\")"
      ]
    },
    {
      "cell_type": "markdown",
      "metadata": {
        "id": "798b77c95067"
      },
      "source": [
        "## Local evaluation\n",
        "\n",
        "Evaluate model results locally."
      ]
    },
    {
      "cell_type": "code",
      "execution_count": null,
      "metadata": {
        "id": "88e734e30791"
      },
      "outputs": [],
      "source": [
        "# User must convert bigframes to pandas dataframe for local evaluation\n",
        "feature_columns = [\"sepal_length\", \"sepal_width\", \"petal_length\", \"petal_width\"]\n",
        "label_columns = [\"target\"]\n",
        "\n",
        "train_X_np = train[feature_columns].to_pandas().values.astype(float)\n",
        "train_y_np = train[label_columns].to_pandas().values.astype(float)\n",
        "train_ds = tf.data.Dataset.from_tensor_slices((train_X_np, train_y_np))\n",
        "\n",
        "test_X_np = test[feature_columns].to_pandas().values.astype(float)\n",
        "test_y_np = test[label_columns].to_pandas().values.astype(float)\n",
        "test_ds = tf.data.Dataset.from_tensor_slices((test_X_np, test_y_np))"
      ]
    },
    {
      "cell_type": "code",
      "execution_count": null,
      "metadata": {
        "id": "cb8637f783ad"
      },
      "outputs": [],
      "source": [
        "# Switch to local mode for evaluation\n",
        "vertexai.preview.init(remote=False)\n",
        "\n",
        "# Evaluate model's mean square errors\n",
        "print(f\"Train loss: {model.evaluate(train_ds.batch(32))}\")\n",
        "\n",
        "print(f\"Test loss: {model.evaluate(test_ds.batch(32))}\")"
      ]
    },
    {
      "cell_type": "markdown",
      "metadata": {
        "id": "TpV-iwP9qw9c"
      },
      "source": [
        "## Cleaning up\n",
        "\n",
        "To clean up all Google Cloud resources used in this project, you can [delete the Google Cloud\n",
        "project](https://cloud.google.com/resource-manager/docs/creating-managing-projects#shutting_down_projects) you used for the tutorial.\n",
        "\n",
        "Otherwise, you can delete the individual resources you created in this tutorial:"
      ]
    },
    {
      "cell_type": "code",
      "execution_count": null,
      "metadata": {
        "id": "sx_vKniMq9ZX"
      },
      "outputs": [],
      "source": [
        "import os\n",
        "\n",
        "# Delete Cloud Storage objects that were created\n",
        "delete_bucket = False\n",
        "if delete_bucket or os.getenv(\"IS_TESTING\"):\n",
        "    ! gsutil -m rm -r $BUCKET_URI"
      ]
    }
  ],
  "metadata": {
    "colab": {
      "collapsed_sections": [],
      "name": "sdk2_bigframes_tensorflow.ipynb",
      "toc_visible": true
    },
    "kernelspec": {
      "display_name": "Python 3",
      "name": "python3"
    }
  },
  "nbformat": 4,
  "nbformat_minor": 0
}
