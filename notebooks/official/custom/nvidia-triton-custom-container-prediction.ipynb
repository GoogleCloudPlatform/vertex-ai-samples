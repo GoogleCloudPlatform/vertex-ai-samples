{
 "cells": [
  {
   "cell_type": "code",
   "execution_count": null,
   "metadata": {},
   "outputs": [],
   "source": [
    "# Copyright 2022 Google LLC\n",
    "#\n",
    "# Licensed under the Apache License, Version 2.0 (the \"License\");\n",
    "# you may not use this file except in compliance with the License.\n",
    "# You may obtain a copy of the License at\n",
    "#\n",
    "#     https://www.apache.org/licenses/LICENSE-2.0\n",
    "#\n",
    "# Unless required by applicable law or agreed to in writing, software\n",
    "# distributed under the License is distributed on an \"AS IS\" BASIS,\n",
    "# WITHOUT WARRANTIES OR CONDITIONS OF ANY KIND, either express or implied.\n",
    "# See the License for the specific language governing permissions and\n",
    "# limitations under the License."
   ]
  },
  {
   "cell_type": "markdown",
   "metadata": {},
   "source": [
    "# Getting started: Serving Models with NVIDIA Triton Inference Server with a custom container \n",
    "\n",
    "<hr/>\n",
    "\n",
    "<table align=\"left\">\n",
    "  <tr>\n",
    "      <td>\n",
    "        <a align=\"center\" href=\"https://colab.research.google.com/github/GoogleCloudPlatform/vertex-ai-samples/tree/master/notebooks/official/custom/snvidia-triton-custom-container-prediction.ipynb\">\n",
    "          <img src=\"https://cloud.google.com/ml-engine/images/colab-logo-32px.png\" alt=\"Colab logo\"> Run in Colab\n",
    "        </a>\n",
    "      </td>\n",
    "      <td>\n",
    "        <a href=\"https://github.com/GoogleCloudPlatform/vertex-ai-samples/tree/master/notebooks/official/custom/snvidia-triton-custom-container-prediction.ipynb\">\n",
    "          <img src=\"https://cloud.google.com/ml-engine/images/github-logo-32px.png\" alt=\"GitHub logo\">\n",
    "          View on GitHub\n",
    "        </a>\n",
    "      </td>\n",
    "      <td>\n",
    "        <a href=\"https://console.cloud.google.com/ai/platform/notebooks/deploy-notebook?download_url=https://github.com/GoogleCloudPlatform/vertex-ai-samples/tree/master/notebooks/official/custom/snvidia-triton-custom-container-prediction.ipynb\">\n",
    "            <img src=\"data:image/jpeg;base64,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\"  width=\"32\" height=\"32\" alt=\"Vertex AI Logo\">\n",
    "          Run on Vertex AI Workbench\n",
    "        </a>\n",
    "      </td>\n",
    "    </tr>\n",
    "</table>\n",
    "<br/>\n",
    "<br/>\n",
    "<br/>\n",
    "\n",
    "<hr/>"
   ]
  },
  {
   "cell_type": "markdown",
   "metadata": {},
   "source": [
    "## Overview\n",
    "\n",
    "This tutorial shows how to use a custom container running [NVIDIA Triton Inference Server (Triton)](https://developer.nvidia.com/nvidia-triton-inference-server) to deploy a machine learning (ML) model on [Vertex AI Prediction](https://cloud.google.com/vertex-ai/docs/predictions/getting-predictions) that serves online predictions.\n",
    "\n",
    "## Dataset\n",
    "\n",
    "The tutorial uses Faster R-CNN with ResNet-101 v1 object detection model provided on [TensorFlow Hub](https://tfhub.dev/tensorflow/faster_rcnn/resnet101_v1_640x640/1) that has been trained on the [COCO 2017 dataset](https://cocodataset.org/#download) with training images scaled to 640x640.\n",
    "\n",
    "## Objective\n",
    "\n",
    "In this tutorial, you deploy a container running Triton to serve predictions from an object detection model on Vertex AI Predictions and then use the Vertex AI Endpoints to detect objects in an image.\n",
    "\n",
    "The steps performed in this tutorial include:\n",
    "\n",
    "- Download the model artifacts from TensorFlow Hub\n",
    "- Create Triton configuration file\n",
    "- Build custom container running Triton\n",
    "- Upload the model as a Vertex `Model` resource\n",
    "- Deploy the `Model` resource to a serving `Endpoint` resource.\n",
    "- Make a prediction request\n",
    "- Undeploy the `Model` resource and delete the `Endpoint`"
   ]
  },
  {
   "cell_type": "markdown",
   "metadata": {},
   "source": [
    "### Costs\n",
    "\n",
    "This tutorial uses billable components of Google Cloud:\n",
    "\n",
    "* Vertex AI\n",
    "* Cloud Storage\n",
    "\n",
    "Learn about [Vertex AI pricing](https://cloud.google.com/vertex-ai/pricing) and [Cloud Storage pricing](https://cloud.google.com/storage/pricing), and use the [Pricing Calculator](https://cloud.google.com/products/calculator/) to generate a cost estimate based on your projected usage."
   ]
  },
  {
   "cell_type": "markdown",
   "metadata": {},
   "source": [
    "## NVIDIA Triton Inference Server (Triton) Overview\n",
    "\n",
    "[NVIDIA Triton Inference Server (Triton)](https://github.com/triton-inference-server/server) provides an inference solution optimized for both CPUs and GPUs. Triton can run multiple models from the same or different frameworks concurrently on a single GPU or CPU. In a multi-GPU server, it automatically creates an instance of each model on each GPU to increase utilization without extra coding. It supports real-time inferencing, batch inferencing to maximize GPU/CPU utilization, and streaming inference with built-in support for audio streaming input. It also supports model ensembles for use cases that require multiple models to perform end-to-end inference.\n",
    "\n",
    "The following figure shows the Triton's high-level architecture.\n",
    "\n",
    "![Triton high level architecture](https://raw.githubusercontent.com/triton-inference-server/server/main/docs/images/arch.jpg)\n",
    "\n",
    "- The model repository is a file-system based repository of the models that Triton will make available for inference.\n",
    "- Inference requests arrive at the server via either HTTP/REST or gRPC and are then routed to the appropriate per-model scheduler.\n",
    "- Triton implements multiple scheduling and batching algorithms that can be configured on a model-by-model basis.\n",
    "- The backend performs inference using the inputs provided in the batched requests to produce the requested outputs.\n",
    "\n",
    "Triton provides readiness and liveness health endpoints, as well as utilization, throughput, and latency metrics, which enable the integration of Triton into deployment environments, such as Vertex AI Prediction.\n",
    "\n",
    "Refer to [Triton architecture](https://github.com/triton-inference-server/server/blob/main/docs/architecture.md) for more detailed information.\n",
    "\n",
    "## Triton on Vertex AI Prediction\n",
    "\n",
    "Triton inference server runs inside a container published by NVIDIA GPU Cloud (NGC) - [NVIDIA Triton Inference Server Image](https://catalog.ngc.nvidia.com/orgs/nvidia/containers/tritonserver). NVIDIA and GCP Vertex team collaborate and adds packages and configurations to align Triton with Vertex AI [requirements for custom serving container images](https://cloud.google.com/vertex-ai/docs/predictions/custom-container-requirements).\n",
    "\n",
    "The model to be served by Triton should be registered with Vertex AI as a `Model` resource. The `Model`'s metadata reference a location of the ensemble artifacts in Google Cloud Storage (GCS) and the custom serving container and its configurations.\n",
    "\n",
    "Triton loads the models and exposes inference, health, and model management REST endpoints using [standard inference protocols](https://github.com/kserve/kserve/tree/master/docs/predict-api/v2). While deploying to Vertex AI, Triton recognizes Vertex AI environment and adopts Vertex AI Prediction protocol for [health checks](https://cloud.google.com/vertex-ai/docs/predictions/custom-container-requirements#health) and predictions.\n",
    "\n",
    "To invoke the model through the Vertex AI Prediction endpoint, format prediction request using a [standard Inference Request JSON Object](https://github.com/kserve/kserve/blob/master/docs/predict-api/v2/required_api.md#inference) or a [Inference Request JSON Object with a binary extension](https://github.com/triton-inference-server/server/blob/main/docs/protocol/extension_binary_data.md) and submit a request to Vertex AI Prediction [REST rawPredict endpoint](https://cloud.google.com/vertex-ai/docs/reference/rest/v1beta1/projects.locations.endpoints/rawPredict). You need to use the `rawPredict` rather than `predict` endpoint because inference request formats used by Triton are not compatible with the Vertex AI Prediction [standard input format](https://cloud.google.com/vertex-ai/docs/predictions/online-predictions-custom-models#formatting-prediction-input)."
   ]
  },
  {
   "cell_type": "markdown",
   "metadata": {},
   "source": [
    "## Set up your local development environment\n",
    "\n",
    "If you are using Google Colab or [Vertex AI Workbench](https://cloud.google.com/vertex-ai/docs/workbench/introduction), your environment already meets all the requirements to run this notebook. You can skip this step. Please make sure you are running the notebook in TensorFlow kernel in the Vertex AI Workbench notebook environment.\n",
    "\n",
    "Otherwise, make sure your environment meets this notebook's requirements. You need the following:\n",
    "\n",
    "- The Cloud Storage SDK\n",
    "- Git\n",
    "- Python 3\n",
    "- virtualenv\n",
    "- Jupyter notebook running in a virtual environment with Python 3\n",
    "\n",
    "The Cloud Storage guide to [Setting up a Python development environment](https://cloud.google.com/python/setup) and the [Jupyter installation guide](https://jupyter.org/install) provide detailed instructions for meeting these requirements. The following steps provide a condensed set of instructions:\n",
    "\n",
    "1. [Install and initialize the SDK](https://cloud.google.com/sdk/docs/).\n",
    "2. [Install Python 3](https://cloud.google.com/python/setup#installing_python).\n",
    "3. [Install virtualenv](https://cloud.google.com/python/setup#installing_and_using_virtualenv) and create a virtual environment that uses Python 3.\n",
    "4. Activate that environment and run `pip3 install Jupyter` in a terminal shell to install Jupyter.\n",
    "5. Run `jupyter notebook` on the command line in a terminal shell to launch Jupyter.\n",
    "6. Open this notebook in the Jupyter Notebook Dashboard.\n"
   ]
  },
  {
   "cell_type": "markdown",
   "metadata": {},
   "source": [
    "## Installation\n",
    "\n",
    "Install the latest version of [Vertex AI SDK for Python](https://cloud.google.com/vertex-ai/docs/start/client-libraries#python)."
   ]
  },
  {
   "cell_type": "code",
   "execution_count": null,
   "metadata": {},
   "outputs": [],
   "source": [
    "import os\n",
    "\n",
    "# Google Cloud Notebook\n",
    "if os.path.exists(\"/opt/deeplearning/metadata/env_version\"):\n",
    "    USER_FLAG = \"--user\"\n",
    "else:\n",
    "    USER_FLAG = \"\"\n",
    "\n",
    "! pip3 install --upgrade google-cloud-aiplatform $USER_FLAG"
   ]
  },
  {
   "cell_type": "code",
   "execution_count": null,
   "metadata": {},
   "outputs": [],
   "source": [
    "if os.getenv(\"IS_TESTING\"):\n",
    "    ! pip3 install --upgrade tensorflow $USER_FLAG"
   ]
  },
  {
   "cell_type": "markdown",
   "metadata": {},
   "source": [
    "### Restart the kernel\n",
    "\n",
    "Once you've installed the additional packages, you need to restart the notebook kernel so it can find the packages."
   ]
  },
  {
   "cell_type": "code",
   "execution_count": null,
   "metadata": {},
   "outputs": [],
   "source": [
    "import os\n",
    "\n",
    "if not os.getenv(\"IS_TESTING\"):\n",
    "    # Automatically restart kernel after installs\n",
    "    import IPython\n",
    "\n",
    "    app = IPython.Application.instance()\n",
    "    app.kernel.do_shutdown(True)"
   ]
  },
  {
   "cell_type": "markdown",
   "metadata": {},
   "source": [
    "## Before you begin\n",
    "\n",
    "### GPU runtime\n",
    "\n",
    "This tutorial does not require a GPU runtime.\n",
    "\n",
    "### Set up your Google Cloud project\n",
    "\n",
    "**The following steps are required, regardless of your notebook environment.**\n",
    "\n",
    "1. [Select or create a Google Cloud project](https://console.cloud.google.com/cloud-resource-manager). When you first create an account, you get a $300 free credit towards your compute/storage costs.\n",
    "\n",
    "2. [Make sure that billing is enabled for your project.](https://cloud.google.com/billing/docs/how-to/modify-project)\n",
    "\n",
    "3. [Enable the following APIs: Vertex AI APIs, Compute Engine APIs, and Cloud Storage.](https://console.cloud.google.com/flows/enableapi?apiid=ml.googleapis.com,compute_component,storage-component.googleapis.com)\n",
    "\n",
    "4. [The Google Cloud SDK](https://cloud.google.com/sdk) is already installed in Google Cloud Notebook.\n",
    "\n",
    "5. Enter your project ID in the cell below. Then run the  cell to make sure the\n",
    "Cloud SDK uses the right project for all the commands in this notebook.\n",
    "\n",
    "**Note**: Jupyter runs lines prefixed with `!` as shell commands, and it interpolates Python variables prefixed with `$`."
   ]
  },
  {
   "cell_type": "code",
   "execution_count": null,
   "metadata": {},
   "outputs": [],
   "source": [
    "PROJECT_ID = \"[your-project-id]\"  # @param {type:\"string\"}"
   ]
  },
  {
   "cell_type": "code",
   "execution_count": null,
   "metadata": {},
   "outputs": [],
   "source": [
    "import os\n",
    "\n",
    "# Get your Google Cloud project ID using google.auth\n",
    "if not os.getenv(\"IS_TESTING\"):\n",
    "    import google.auth\n",
    "\n",
    "    _, PROJECT_ID = google.auth.default()\n",
    "    print(\"Project ID: \", PROJECT_ID)\n",
    "\n",
    "# validate PROJECT_ID\n",
    "if PROJECT_ID == \"\" or PROJECT_ID is None or PROJECT_ID == \"[your-project-id]\":\n",
    "    print(\n",
    "        f\"Please set your project id before proceeding to next step. Currently it's set as {PROJECT_ID}\"\n",
    "    )"
   ]
  },
  {
   "cell_type": "code",
   "execution_count": null,
   "metadata": {},
   "outputs": [],
   "source": [
    "! gcloud config set project $PROJECT_ID"
   ]
  },
  {
   "cell_type": "markdown",
   "metadata": {},
   "source": [
    "#### Region\n",
    "\n",
    "You can also change the `REGION` variable, which is used for operations\n",
    "throughout the rest of this notebook.  Below are regions supported for Vertex AI. We recommend that you choose the region closest to you.\n",
    "\n",
    "- Americas: `us-central1`\n",
    "- Europe: `europe-west4`\n",
    "- Asia Pacific: `asia-east1`\n",
    "\n",
    "You may not use a multi-regional bucket for training with Vertex AI. Not all regions provide support for all Vertex AI services.\n",
    "\n",
    "Learn more about [Vertex AI regions](https://cloud.google.com/vertex-ai/docs/general/locations)"
   ]
  },
  {
   "cell_type": "code",
   "execution_count": null,
   "metadata": {},
   "outputs": [],
   "source": [
    "REGION = \"us-central1\"  # @param {type: \"string\"}"
   ]
  },
  {
   "cell_type": "markdown",
   "metadata": {},
   "source": [
    "#### Timestamp\n",
    "\n",
    "If you are in a live tutorial session, you might be using a shared test account or project. To avoid name collisions between users on resources created, you create a timestamp for each instance session, and append the timestamp onto the name of resources you create in this tutorial."
   ]
  },
  {
   "cell_type": "code",
   "execution_count": null,
   "metadata": {},
   "outputs": [],
   "source": [
    "from datetime import datetime\n",
    "\n",
    "TIMESTAMP = datetime.now().strftime(\"%Y%m%d%H%M%S\")"
   ]
  },
  {
   "cell_type": "markdown",
   "metadata": {},
   "source": [
    "#### Authenticate your Google Cloud account\n",
    "\n",
    "---\n",
    "\n",
    "**If you are using Google Cloud Notebook**, your environment is already authenticated. Skip this step.\n",
    "\n",
    "**If you are using Colab**, run the cell below and follow the instructions when prompted to authenticate your account via oAuth.\n",
    "\n",
    "---\n",
    "\n",
    "**Otherwise**, follow these steps:\n",
    "\n",
    "- In the Cloud Console, go to the [Create service account key](https://console.cloud.google.com/apis/credentials/serviceaccountkey) page.\n",
    "- **Click Create service account**.\n",
    "- In the **Service account name** field, enter a name, and click **Create**.\n",
    "- In the **Grant this service account access to project** section, click the Role drop-down list. Type \"Vertex\" into the filter box, and select **Vertex Administrator**. Type \"Storage Object Admin\" into the filter box, and select **Storage Object Admin**.\n",
    "- Click Create. A JSON file that contains your key downloads to your local environment.\n",
    "- Enter the path to your service account key as the GOOGLE_APPLICATION_CREDENTIALS variable in the cell below and run the cell."
   ]
  },
  {
   "cell_type": "code",
   "execution_count": null,
   "metadata": {},
   "outputs": [],
   "source": [
    "# If you are running this notebook in Colab, run this cell and follow the\n",
    "# instructions to authenticate your GCP account. This provides access to your\n",
    "# Cloud Storage bucket and lets you submit training jobs and prediction\n",
    "# requests.\n",
    "\n",
    "import os\n",
    "import sys\n",
    "\n",
    "# If on Google Cloud Notebook, then don't execute this code\n",
    "if not os.path.exists(\"/opt/deeplearning/metadata/env_version\"):\n",
    "    if \"google.colab\" in sys.modules:\n",
    "        from google.colab import auth as google_auth\n",
    "\n",
    "        google_auth.authenticate_user()\n",
    "\n",
    "    # If you are running this notebook locally, replace the string below with the\n",
    "    # path to your service account key and run this cell to authenticate your GCP\n",
    "    # account.\n",
    "    elif not os.getenv(\"IS_TESTING\"):\n",
    "        %env GOOGLE_APPLICATION_CREDENTIALS ''"
   ]
  },
  {
   "cell_type": "markdown",
   "metadata": {},
   "source": [
    "### Create a Cloud Storage bucket\n",
    "\n",
    "**The following steps are required, regardless of your notebook environment.**\n",
    "\n",
    "When you initialize the Vertex SDK for Python, you specify a Cloud Storage staging bucket. The staging bucket is where all the data associated with your dataset and model resources are retained across sessions.\n",
    "\n",
    "Set the name of your Cloud Storage bucket below. Bucket names must be globally unique across all Google Cloud projects, including those outside of your organization."
   ]
  },
  {
   "cell_type": "code",
   "execution_count": null,
   "metadata": {},
   "outputs": [],
   "source": [
    "BUCKET_NAME = \"gs://[your-bucket-name]\"  # @param {type:\"string\"}"
   ]
  },
  {
   "cell_type": "code",
   "execution_count": null,
   "metadata": {},
   "outputs": [],
   "source": [
    "if BUCKET_NAME == \"\" or BUCKET_NAME is None or BUCKET_NAME == \"gs://[your-bucket-name]\":\n",
    "    BUCKET_NAME = \"gs://\" + PROJECT_ID + \"aip-\" + TIMESTAMP"
   ]
  },
  {
   "cell_type": "markdown",
   "metadata": {},
   "source": [
    "---\n",
    "\n",
    "**Only if your bucket doesn't already exist**: Run the following cell to create your Cloud Storage bucket.\n",
    "\n",
    "---"
   ]
  },
  {
   "cell_type": "code",
   "execution_count": null,
   "metadata": {},
   "outputs": [],
   "source": [
    "! gsutil mb -l $REGION $BUCKET_NAME"
   ]
  },
  {
   "cell_type": "markdown",
   "metadata": {},
   "source": [
    "Finally, validate access to your Cloud Storage bucket by examining its contents:"
   ]
  },
  {
   "cell_type": "code",
   "execution_count": null,
   "metadata": {},
   "outputs": [],
   "source": [
    "! gsutil ls -al $BUCKET_NAME"
   ]
  },
  {
   "cell_type": "markdown",
   "metadata": {},
   "source": [
    "### Set up variables\n",
    "\n",
    "Next, set up some variables used throughout the tutorial.\n",
    "### Import libraries and define constants"
   ]
  },
  {
   "cell_type": "code",
   "execution_count": null,
   "metadata": {},
   "outputs": [],
   "source": [
    "import os\n",
    "import json \n",
    "from pathlib import Path\n",
    "import requests\n",
    "import numpy as np\n",
    "from PIL import Image\n",
    "\n",
    "from google.api import httpbody_pb2\n",
    "from google.cloud import aiplatform as aip\n",
    "from google.cloud import aiplatform_v1 as gapic\n",
    "from google.protobuf.json_format import MessageToDict"
   ]
  },
  {
   "cell_type": "markdown",
   "metadata": {},
   "source": [
    "`MODEL_ARTIFACTS_REPOSITORY` is a root GCS location where the Triton model artifacts will be stored."
   ]
  },
  {
   "cell_type": "code",
   "execution_count": null,
   "metadata": {},
   "outputs": [],
   "source": [
    "MODEL_ARTIFACTS_REPOSITORY = f'{BUCKET_NAME}/triton-on-vertex/models'"
   ]
  },
  {
   "cell_type": "markdown",
   "metadata": {},
   "source": [
    "The following set of constants will be used to create names and display names of Vertex Prediction resources like models, endpoints, and model deployments."
   ]
  },
  {
   "cell_type": "code",
   "execution_count": null,
   "metadata": {},
   "outputs": [],
   "source": [
    "MODEL_NAME = 'faster-rcnn'\n",
    "MODEL_VERSION = 'v01'\n",
    "MODEL_DISPLAY_NAME = f'triton-{MODEL_NAME}-{MODEL_VERSION}'\n",
    "ENDPOINT_DISPLAY_NAME = f'endpoint-{MODEL_NAME}-{MODEL_VERSION}'\n",
    "\n",
    "# Triton image uri from \n",
    "# https://catalog.ngc.nvidia.com/orgs/nvidia/containers/tritonserver\n",
    "NGC_TRITON_IMAGE_URI = \"nvcr.io/nvidia/tritonserver:22.01-py3\"\n",
    "\n",
    "IMAGE_NAME = 'vertex-triton-inference:22.01'\n",
    "IMAGE_URI = f\"gcr.io/{PROJECT_ID}/{IMAGE_NAME}\""
   ]
  },
  {
   "cell_type": "markdown",
   "metadata": {},
   "source": [
    "### Initialize Vertex SDK for Python\n",
    "\n",
    "Initialize the Vertex SDK for Python for your project and corresponding bucket."
   ]
  },
  {
   "cell_type": "code",
   "execution_count": null,
   "metadata": {},
   "outputs": [],
   "source": [
    "aip.init(project=PROJECT_ID, staging_bucket=BUCKET_NAME)"
   ]
  },
  {
   "cell_type": "markdown",
   "metadata": {},
   "source": [
    "## Download model artifacts\n",
    "\n",
    "For this tutorial, download the object detection model provided on [TensorFlow Hub](https://tfhub.dev/tensorflow/faster_rcnn/resnet101_v1_640x640/1) that has been trained on the [COCO 2017 dataset](https://cocodataset.org/#download). Triton expects model repository to be organized in the following structure for serving [TensorFlow `SavedModel`](https://www.tensorflow.org/guide/saved_model) formats:\n",
    "\n",
    "> ```\n",
    "> └── model-repository-path\n",
    ">        └── model_name\n",
    ">               ├── config.pbtxt\n",
    ">               └── 1\n",
    ">                   └── model.savedmodel\n",
    ">                         └── <saved-model-files>\n",
    "> ```\n",
    "\n",
    "\n",
    "The `config.pbtxt` file describes the [model configuration](https://github.com/triton-inference-server/server/blob/main/docs/model_configuration.md) for the model."
   ]
  },
  {
   "cell_type": "code",
   "execution_count": null,
   "metadata": {},
   "outputs": [],
   "source": [
    "! mkdir -p models/object_detector/1/model.savedmodel/\n",
    "! curl -L \"https://tfhub.dev/tensorflow/faster_rcnn/resnet101_v1_640x640/1?tf-hub-format=compressed\" | \\\n",
    "    tar -zxvC ./models/object_detector/1/model.savedmodel/\n",
    "! ls -ltr ./models/object_detector/1/model.savedmodel/"
   ]
  },
  {
   "cell_type": "markdown",
   "metadata": {},
   "source": [
    "After downloading the model locally, model repository will be organized as following:\n",
    "\n",
    "> ```\n",
    "> ./models\n",
    "> └── object_detector\n",
    ">     └── 1\n",
    ">         └── model.savedmodel\n",
    ">             ├── saved_model.pb\n",
    ">             └── variables\n",
    ">                 ├── variables.data-00000-of-00001\n",
    ">                 └── variables.index\n",
    "> ```"
   ]
  },
  {
   "cell_type": "code",
   "execution_count": null,
   "metadata": {},
   "outputs": [],
   "source": [
    "!tree ./models"
   ]
  },
  {
   "cell_type": "markdown",
   "metadata": {},
   "source": [
    "### Create model configuration file\n",
    "\n",
    "The [model configuration](https://github.com/triton-inference-server/server/blob/main/docs/model_configuration.md) file `config.pbtxt` provides information about the model such as inputs and outputs. Refer to the [Triton docs](https://github.com/triton-inference-server/common/blob/main/protobuf/model_config.proto) for the configuration format. For TensorFlow models, you could use the [`saved_model_cli` command](https://www.tensorflow.org/guide/saved_model#details_of_the_savedmodel_command_line_interface) and map to the Triton's configuration format. Note that Triton datatypes are different from the frameworks and should be mapped accordingly based on the table [here](https://github.com/triton-inference-server/server/blob/main/docs/model_configuration.md#datatypes)."
   ]
  },
  {
   "cell_type": "code",
   "execution_count": null,
   "metadata": {},
   "outputs": [],
   "source": [
    "!saved_model_cli show --dir ./models/object_detector/1/model.savedmodel/ --all"
   ]
  },
  {
   "cell_type": "code",
   "execution_count": null,
   "metadata": {},
   "outputs": [],
   "source": [
    "%%writefile ./models/object_detector/config.pbtxt\n",
    "\n",
    "name: \"object_detector\"\n",
    "platform: \"tensorflow_savedmodel\"\n",
    "backend: \"tensorflow\"\n",
    "max_batch_size: 0\n",
    "input [\n",
    "  {\n",
    "    name: \"input_tensor\"\n",
    "    data_type: TYPE_UINT8\n",
    "    dims: [ 1, -1, -1, 3 ]\n",
    "  }\n",
    "]\n",
    "output [\n",
    "  {\n",
    "    name: \"detection_anchor_indices\"\n",
    "    data_type: TYPE_FP32\n",
    "    dims: [ 1, 300 ]\n",
    "  },\n",
    "  {\n",
    "    name: \"detection_boxes\"\n",
    "    data_type: TYPE_FP32\n",
    "    dims: [ 1, 300, 4 ]\n",
    "  },\n",
    "  {\n",
    "    name: \"detection_classes\"\n",
    "    data_type: TYPE_FP32\n",
    "    dims: [ 1, 300 ]\n",
    "  },\n",
    "  {\n",
    "    name: \"detection_multiclass_scores\"\n",
    "    data_type: TYPE_FP32,\n",
    "    dims: [ 1, 300, 91]\n",
    "  },\n",
    "  {\n",
    "    name: \"detection_scores\"\n",
    "    data_type: TYPE_FP32\n",
    "    dims: [ 1, 300 ]\n",
    "  },\n",
    "  {\n",
    "    name: \"num_detections\"\n",
    "    data_type: TYPE_FP32\n",
    "    dims: [ 1 ]\n",
    "  },\n",
    "  {\n",
    "    name: \"raw_detection_boxes\"\n",
    "    data_type: TYPE_FP32\n",
    "    dims: [ 1, 300, 4 ]\n",
    "  },\n",
    "  {\n",
    "    name: \"raw_detection_scores\"\n",
    "    data_type: TYPE_FP32\n",
    "    dims: [ 1, 300, 91 ]\n",
    "  }\n",
    "]"
   ]
  },
  {
   "cell_type": "markdown",
   "metadata": {},
   "source": [
    "### Push model artifacts to GCS Bucket\n",
    "\n",
    "The downloaded model artifacts including model configuration file are pushed to GCS bucket defined by `MODEL_ARTIFACTS_REPOSITORY` which will be used when creating the Vertex AI Model resource."
   ]
  },
  {
   "cell_type": "code",
   "execution_count": null,
   "metadata": {},
   "outputs": [],
   "source": [
    "! gsutil cp -r ./models/object_detector $MODEL_ARTIFACTS_REPOSITORY/"
   ]
  },
  {
   "cell_type": "markdown",
   "metadata": {},
   "source": [
    "Validate model artifacts are copied in the GCS model artifacts uri location."
   ]
  },
  {
   "cell_type": "code",
   "execution_count": null,
   "metadata": {},
   "outputs": [],
   "source": [
    "!gsutil ls -r $MODEL_ARTIFACTS_REPOSITORY/object_detector/"
   ]
  },
  {
   "cell_type": "markdown",
   "metadata": {},
   "source": [
    "## Building and pushing the container image\n",
    "\n",
    "To use a custom container for serving predictions, you must specify a Docker container image that meets the [custom container requirements](https://cloud.google.com/vertex-ai/docs/predictions/custom-container-requirements). This section describes how to create the container image running Triton and push it to Google Artifact Registry or Google Container Registry (GCR). This tutorial shows how to push the custom container to GCR."
   ]
  },
  {
   "cell_type": "code",
   "execution_count": null,
   "metadata": {},
   "outputs": [],
   "source": [
    "! docker pull $NGC_TRITON_IMAGE_URI\n",
    "! docker tag $NGC_TRITON_IMAGE_URI $IMAGE_URI"
   ]
  },
  {
   "cell_type": "markdown",
   "metadata": {},
   "source": [
    "### Run the container locally *[optional]*\n",
    "\n",
    "Before pushing the custom container image to GCR to use it with Vertex AI Predictions, run the container in local environment to verify that the server responds to prediction instances."
   ]
  },
  {
   "cell_type": "markdown",
   "metadata": {},
   "source": [
    "1. To run the container image as a container locally, run the following command:"
   ]
  },
  {
   "cell_type": "code",
   "execution_count": null,
   "metadata": {},
   "outputs": [],
   "source": [
    "! docker stop local_object_detector\n",
    "! docker run -t -d -p 8000:8000 --rm \\\n",
    "    --name=local_object_detector \\\n",
    "    -e AIP_MODE=True \\\n",
    "    $IMAGE_URI \\\n",
    "    --model-repository $MODEL_ARTIFACTS_REPOSITORY\n",
    "! sleep 10"
   ]
  },
  {
   "cell_type": "code",
   "execution_count": null,
   "metadata": {},
   "outputs": [],
   "source": [
    "# check if the triton container is running locally\n",
    "!docker container ls -f\"name=local_object_detector\" --no-trunc"
   ]
  },
  {
   "cell_type": "markdown",
   "metadata": {},
   "source": [
    "2. To send the container's server a health check, run the following command. It should return the status code as `200`"
   ]
  },
  {
   "cell_type": "code",
   "execution_count": null,
   "metadata": {},
   "outputs": [],
   "source": [
    "! curl -s -o /dev/null -w \"%{http_code}\" http://localhost:8000/v2/health/ready"
   ]
  },
  {
   "cell_type": "markdown",
   "metadata": {},
   "source": [
    "3. To send the container's server a prediction request, run the following command to download a sample image file, format the payload and get prediction responses"
   ]
  },
  {
   "cell_type": "code",
   "execution_count": null,
   "metadata": {},
   "outputs": [],
   "source": [
    "def generate_payload(image_url):\n",
    "    # download image to memory and resize\n",
    "    image_inputs = Image.open(requests.get(image_url, stream=True).raw).resize((200, 200))\n",
    "    # convert image to numpy array\n",
    "    image_tensor = np.asarray(image_inputs)\n",
    "    # derive image shape\n",
    "    image_shape = [1] + list(image_tensor.shape)\n",
    "\n",
    "    # create/set directory to save payload\n",
    "    base = Path('./test')\n",
    "    base.mkdir(exist_ok=True)\n",
    "\n",
    "    # create payload request\n",
    "    payload = {\n",
    "        \"id\": \"0\",\n",
    "        \"inputs\": [\n",
    "            {\n",
    "                \"name\": \"input_tensor\",\n",
    "                \"shape\": image_shape,\n",
    "                \"datatype\": \"UINT8\",\n",
    "                \"parameters\": {},\n",
    "                \"data\": image_tensor.tolist()\n",
    "            }\n",
    "        ]\n",
    "    }\n",
    "\n",
    "    # save payload as json file\n",
    "    payload_file = os.path.join(base, 'payload.json')\n",
    "    with open(payload_file, 'w') as f:\n",
    "        json.dump(payload, f)\n",
    "    print(f\"Payload generated at {payload_file}\")\n",
    "    \n",
    "    return payload_file"
   ]
  },
  {
   "cell_type": "code",
   "execution_count": null,
   "metadata": {},
   "outputs": [],
   "source": [
    "# set image url\n",
    "image_url = 'https://github.com/tensorflow/models/raw/master/research/object_detection/test_images/image2.jpg'\n",
    "# generate payload\n",
    "payload_file = generate_payload(image_url)"
   ]
  },
  {
   "cell_type": "code",
   "execution_count": null,
   "metadata": {},
   "outputs": [],
   "source": [
    "# request prediction response\n",
    "! curl -X POST -H \"Content-Type: application/octet-stream\" \\\n",
    "    -H \"Accept: */*\" \\\n",
    "    --data-binary @$payload_file \\\n",
    "    localhost:8000/v2/models/object_detector/infer"
   ]
  },
  {
   "cell_type": "markdown",
   "metadata": {},
   "source": [
    "4. To stop the container, run the following command:"
   ]
  },
  {
   "cell_type": "code",
   "execution_count": null,
   "metadata": {},
   "outputs": [],
   "source": [
    "!docker stop local_object_detector"
   ]
  },
  {
   "cell_type": "markdown",
   "metadata": {},
   "source": [
    "### Push the container image to Container Registry\n",
    "\n",
    "After testing the container image locally, push the image to GCR. The GCR image URI will be used when creating the Vertex AI model resource."
   ]
  },
  {
   "cell_type": "code",
   "execution_count": null,
   "metadata": {},
   "outputs": [],
   "source": [
    "! docker push $IMAGE_URI"
   ]
  },
  {
   "cell_type": "markdown",
   "metadata": {},
   "source": [
    "## Create Vertex AI Model resource\n",
    "\n",
    "A  Vertex AI Model resource must be created to deploy the model to a Vertex AI Prediction Endpoint. Create a Vertex AI Model resource with the deployment image pointing to the model artifacts. Refer to [Vertex AI Prediction guide](https://cloud.google.com/vertex-ai/docs/predictions/use-custom-container) for creating Vertex AI Model resource with custom container."
   ]
  },
  {
   "cell_type": "code",
   "execution_count": null,
   "metadata": {},
   "outputs": [],
   "source": [
    "model = aip.Model.upload(\n",
    "    display_name=MODEL_DISPLAY_NAME,\n",
    "    serving_container_image_uri=IMAGE_URI,\n",
    "    artifact_uri=MODEL_ARTIFACTS_REPOSITORY,\n",
    "    sync=True\n",
    ")\n",
    "\n",
    "model.resource_name"
   ]
  },
  {
   "cell_type": "markdown",
   "metadata": {},
   "source": [
    "## Deploy the model to Vertex AI Predictions\n",
    "\n",
    "Deploying a Vertex AI Prediction Model is a two step process.\n",
    "\n",
    "1. Create an `Endpoint` exposing an external interface to users consuming the model. \n",
    "2. After the `Endpoint` is ready, deploy multiple versions of a model to the `Endpoint`. The deployed model runs the custom container image running Triton to serve predictions.\n",
    "\n",
    "Refer to Vertex AI Predictions guide to [Deploy a model using the Vertex AI API](https://cloud.google.com/vertex-ai/docs/predictions/deploy-model-api) for more information about the APIs used in the following cells."
   ]
  },
  {
   "cell_type": "markdown",
   "metadata": {},
   "source": [
    "### Create an endpoint\n",
    "\n",
    "Before deploying the model you need to create a Vertex AI Prediction endpoint."
   ]
  },
  {
   "cell_type": "code",
   "execution_count": null,
   "metadata": {},
   "outputs": [],
   "source": [
    "endpoint = aip.Endpoint.create(\n",
    "    display_name=ENDPOINT_DISPLAY_NAME\n",
    ")"
   ]
  },
  {
   "cell_type": "markdown",
   "metadata": {},
   "source": [
    "### Deploy model to an endpoint\n",
    "\n",
    "After the endpoint is ready, deploy model to the endpoint.The deployed model runs the Triton Server on a GPU node equipped with the NVIDIA Tesla T4 GPUs. Refer to [Deploy a model using the Vertex AI API](https://cloud.google.com/vertex-ai/docs/predictions/deploy-model-api) guide for more information.\n",
    "\n",
    "**NOTE:** This step can take up to ~20 min."
   ]
  },
  {
   "cell_type": "code",
   "execution_count": null,
   "metadata": {},
   "outputs": [],
   "source": [
    "traffic_percentage = 100\n",
    "machine_type = \"n1-standard-4\"\n",
    "accelerator_type=\"NVIDIA_TESLA_T4\"\n",
    "accelerator_count = 1\n",
    "min_replica_count = 1\n",
    "max_replica_count = 2\n",
    "\n",
    "model.deploy(\n",
    "    endpoint=endpoint,\n",
    "    deployed_model_display_name=MODEL_DISPLAY_NAME,\n",
    "    machine_type=machine_type,\n",
    "    min_replica_count=min_replica_count,\n",
    "    max_replica_count=max_replica_count,\n",
    "    traffic_percentage=traffic_percentage,\n",
    "    accelerator_type=accelerator_type,\n",
    "    accelerator_count=accelerator_count,\n",
    "    sync=True,\n",
    ")\n",
    "\n",
    "endpoint.name"
   ]
  },
  {
   "cell_type": "markdown",
   "metadata": {},
   "source": [
    "## Invoking the model and getting predictions\n",
    "\n",
    "To invoke the model through Vertex AI Prediction endpoint, format prediction request using a [standard Inference Request JSON Object](https://github.com/kserve/kserve/blob/master/docs/predict-api/v2/required_api.md#inference) or a [Inference Request JSON Object with a binary extension](https://github.com/triton-inference-server/server/blob/main/docs/protocol/extension_binary_data.md) and submit the request to Vertex AI Prediction [REST rawPredict endpoint](https://cloud.google.com/vertex-ai/docs/reference/rest/v1beta1/projects.locations.endpoints/rawPredict). \n",
    "\n",
    "Instead of `predict` API, you must use the `rawPredict` API  because prediction request formats used by Triton are not compatible with the Vertex AI Prediction [standard input format](https://cloud.google.com/vertex-ai/docs/predictions/online-predictions-custom-models#formatting-prediction-input).\n",
    "\n",
    "The following cell shows a sample request body formatted as a [standard Inference Request JSON Object](https://github.com/kserve/kserve/blob/master/docs/predict-api/v2/required_api.md#inference)."
   ]
  },
  {
   "cell_type": "markdown",
   "metadata": {},
   "source": [
    "**Generate payload file**"
   ]
  },
  {
   "cell_type": "code",
   "execution_count": null,
   "metadata": {},
   "outputs": [],
   "source": [
    "# set image url\n",
    "image_url = 'https://github.com/tensorflow/models/raw/master/research/object_detection/test_images/image2.jpg'\n",
    "# generate payload\n",
    "payload_file = generate_payload(image_url)"
   ]
  },
  {
   "cell_type": "code",
   "execution_count": null,
   "metadata": {},
   "outputs": [],
   "source": [
    "# check payload\n",
    "!head -100c $payload_file"
   ]
  },
  {
   "cell_type": "markdown",
   "metadata": {},
   "source": [
    "**You can invoke the Vertex AI Prediction `rawPredict` endpoint using [Vertex AI SDK](https://googleapis.dev/python/aiplatform/latest/aiplatform_v1/prediction_service.html#:~:text=async-,raw_predict,-(request%3A%20Optional%5BUnion), any HTTP tool or library, including `curl`.**\n",
    "\n",
    "    To use `Endpoint` in another session: set endpoint as following\n",
    "    ```\n",
    "    endpoint = aip.Endpoint('projects/<project-number>/locations/<region>/endpoints/<endpoint-id>')\n",
    "    ```"
   ]
  },
  {
   "cell_type": "code",
   "execution_count": null,
   "metadata": {},
   "outputs": [],
   "source": [
    "endpoint_name = f'projects/{PROJECT_ID}/locations/{REGION}/endpoints/{endpoint.name}'"
   ]
  },
  {
   "cell_type": "markdown",
   "metadata": {},
   "source": [
    "### Calling `rawPredict` using Vertex AI SDK to get prediction response"
   ]
  },
  {
   "cell_type": "markdown",
   "metadata": {},
   "source": [
    "**Initialize prediction service client**"
   ]
  },
  {
   "cell_type": "code",
   "execution_count": null,
   "metadata": {},
   "outputs": [],
   "source": [
    "# initialize service client\n",
    "client_options = {\"api_endpoint\": f\"{REGION}-aiplatform.googleapis.com\"}\n",
    "prediction_client = gapic.PredictionServiceClient(client_options=client_options)"
   ]
  },
  {
   "cell_type": "markdown",
   "metadata": {},
   "source": [
    "**Format the http request**"
   ]
  },
  {
   "cell_type": "code",
   "execution_count": null,
   "metadata": {},
   "outputs": [],
   "source": [
    "# format payload\n",
    "http_body = httpbody_pb2.HttpBody(\n",
    "    data=open(payload_file).read().encode(\"utf-8\"),\n",
    "    content_type=\"application/json\",\n",
    ")\n",
    "\n",
    "# Initialize request argument(s)\n",
    "request = gapic.RawPredictRequest(\n",
    "    endpoint=endpoint_name,\n",
    "    http_body=http_body\n",
    ")"
   ]
  },
  {
   "cell_type": "markdown",
   "metadata": {},
   "source": [
    "**Make the prediction request**"
   ]
  },
  {
   "cell_type": "code",
   "execution_count": null,
   "metadata": {},
   "outputs": [],
   "source": [
    "# Make the prediction request\n",
    "response = prediction_client.raw_predict(request=request)\n",
    "result = json.loads(response.data)\n",
    "result"
   ]
  },
  {
   "cell_type": "markdown",
   "metadata": {},
   "source": [
    "### Making `curl` request to get prediction response"
   ]
  },
  {
   "cell_type": "code",
   "execution_count": null,
   "metadata": {},
   "outputs": [],
   "source": [
    "endpoint_uri = f'https://{REGION}-aiplatform.googleapis.com/v1/projects/{PROJECT_ID}/locations/{REGION}/endpoints/{endpoint.name}:rawPredict'"
   ]
  },
  {
   "cell_type": "code",
   "execution_count": null,
   "metadata": {},
   "outputs": [],
   "source": [
    "! curl -X POST \\\n",
    "   -H \"Authorization: Bearer $(gcloud auth print-access-token)\" \\\n",
    "   -H \"Content-Type: application/json\"  \\\n",
    "   -H \"Accept: */*\" \\\n",
    "   $endpoint_uri \\\n",
    "   -d @$payload_file"
   ]
  },
  {
   "cell_type": "markdown",
   "metadata": {},
   "source": [
    "## Cleaning up \n",
    "\n",
    "### Cleaning up training and deployment resources\n",
    "\n",
    "To clean up all Google Cloud resources used in this notebook, you can [delete the Google Cloud project](https://cloud.google.com/resource-manager/docs/creating-managing-projects#shutting_down_projects) you used for the tutorial.\n",
    "\n",
    "Otherwise, you can delete the individual resources you created in this tutorial:\n",
    "\n",
    "- Model\n",
    "- Endpoint\n",
    "- Cloud Storage Bucket\n",
    "- Container Images"
   ]
  },
  {
   "cell_type": "markdown",
   "metadata": {},
   "source": [
    "Set flags for the resource type to be deleted"
   ]
  },
  {
   "cell_type": "code",
   "execution_count": null,
   "metadata": {},
   "outputs": [],
   "source": [
    "delete_endpoint = True\n",
    "delete_model = True\n",
    "delete_bucket = False\n",
    "delete_image = True"
   ]
  },
  {
   "cell_type": "markdown",
   "metadata": {},
   "source": [
    "Define clients for models and endpoints"
   ]
  },
  {
   "cell_type": "code",
   "execution_count": null,
   "metadata": {},
   "outputs": [],
   "source": [
    "# API Endpoint\n",
    "API_ENDPOINT = \"{}-aiplatform.googleapis.com\".format(REGION)\n",
    "\n",
    "# Vertex AI location root path for your dataset, model and endpoint resources\n",
    "PARENT = f\"projects/{PROJECT_ID}/locations/{REGION}\"\n",
    "\n",
    "client_options = {\"api_endpoint\": API_ENDPOINT}\n",
    "\n",
    "# Initialize Vertex SDK\n",
    "aip.init(project=PROJECT_ID, staging_bucket=BUCKET_NAME)"
   ]
  },
  {
   "cell_type": "code",
   "execution_count": null,
   "metadata": {},
   "outputs": [],
   "source": [
    "# functions to create client\n",
    "def create_model_client():\n",
    "    client = gapic.ModelServiceClient(client_options=client_options)\n",
    "    return client\n",
    "\n",
    "\n",
    "def create_endpoint_client():\n",
    "    client = gapic.EndpointServiceClient(client_options=client_options)\n",
    "    return client\n",
    "\n",
    "\n",
    "clients = {}\n",
    "clients[\"model\"] = create_model_client()\n",
    "clients[\"endpoint\"] = create_endpoint_client()"
   ]
  },
  {
   "cell_type": "markdown",
   "metadata": {},
   "source": [
    "Define functions to list the jobs, models and endpoints starting with `APP_NAME` defined earlier in the notebook"
   ]
  },
  {
   "cell_type": "code",
   "execution_count": null,
   "metadata": {},
   "outputs": [],
   "source": [
    "def list_models():\n",
    "    client = clients[\"model\"]\n",
    "    models = []\n",
    "    response = client.list_models(parent=PARENT)\n",
    "    for row in response:\n",
    "        _row = MessageToDict(row._pb)\n",
    "        if _row[\"displayName\"].startswith(MODEL_DISPLAY_NAME):\n",
    "            models.append((_row[\"name\"], _row[\"displayName\"]))\n",
    "    return models\n",
    "\n",
    "\n",
    "def list_endpoints():\n",
    "    client = clients[\"endpoint\"]\n",
    "    endpoints = []\n",
    "    response = client.list_endpoints(parent=PARENT)\n",
    "    for row in response:\n",
    "        _row = MessageToDict(row._pb)\n",
    "        if _row[\"displayName\"].startswith(ENDPOINT_DISPLAY_NAME):\n",
    "            endpoints.append((_row[\"name\"], _row[\"displayName\"]))\n",
    "    return endpoints"
   ]
  },
  {
   "cell_type": "markdown",
   "metadata": {},
   "source": [
    "#### **Undeploy models and Delete endpoints**"
   ]
  },
  {
   "cell_type": "code",
   "execution_count": null,
   "metadata": {},
   "outputs": [],
   "source": [
    "# Delete the endpoint using the Vertex AI fully qualified identifier for the endpoint\n",
    "try:\n",
    "    if delete_endpoint:\n",
    "        endpoints = list_endpoints()\n",
    "        for endpoint_id, endpoint_name in endpoints:\n",
    "            endpoint = aip.Endpoint(endpoint_id)\n",
    "            # undeploy models from the endpoint\n",
    "            print(f\"Undeploying all deployed models from the endpoint {endpoint_name}\")\n",
    "            endpoint.undeploy_all(sync=True)\n",
    "            # deleting endpoint\n",
    "            print(f\"Deleting endpoint {endpoint_id} [{endpoint_name}]\")\n",
    "            clients[\"endpoint\"].delete_endpoint(name=endpoint_id)\n",
    "except Exception as e:\n",
    "    print(e)"
   ]
  },
  {
   "cell_type": "markdown",
   "metadata": {},
   "source": [
    "#### **Deleting models**"
   ]
  },
  {
   "cell_type": "code",
   "execution_count": null,
   "metadata": {},
   "outputs": [],
   "source": [
    "# Delete the model using the Vertex AI fully qualified identifier for the model\n",
    "try:\n",
    "    models = list_models()\n",
    "    for model_id, model_name in models:\n",
    "        print(f\"Deleting model {model_id} [{model_name}]\")\n",
    "        clients[\"model\"].delete_model(name=model_id)\n",
    "except Exception as e:\n",
    "    print(e)"
   ]
  },
  {
   "cell_type": "markdown",
   "metadata": {},
   "source": [
    "#### **Delete contents from the staging bucket**\n",
    "\n",
    "---\n",
    "\n",
    "***NOTE: Everything in this Cloud Storage bucket will be DELETED. Please run it with caution.***\n",
    "\n",
    "---"
   ]
  },
  {
   "cell_type": "code",
   "execution_count": null,
   "metadata": {},
   "outputs": [],
   "source": [
    "if delete_bucket and \"BUCKET_NAME\" in globals():\n",
    "    print(f\"Deleting all contents from the bucket {BUCKET_NAME}\")\n",
    "\n",
    "    shell_output = ! gsutil du -as $BUCKET_NAME\n",
    "    print(\n",
    "        f\"Size of the bucket {BUCKET_NAME} before deleting = {shell_output[0].split()[0]} bytes\"\n",
    "    )\n",
    "\n",
    "    # uncomment below line to delete contents of the bucket\n",
    "    # ! gsutil rm -r $BUCKET_NAME\n",
    "\n",
    "    shell_output = ! gsutil du -as $BUCKET_NAME\n",
    "    if float(shell_output[0].split()[0]) > 0:\n",
    "        print(\n",
    "            \"PLEASE UNCOMMENT LINE TO DELETE BUCKET. CONTENT FROM THE BUCKET NOT DELETED\"\n",
    "        )\n",
    "\n",
    "    print(\n",
    "        f\"Size of the bucket {BUCKET_NAME} after deleting = {shell_output[0].split()[0]} bytes\"\n",
    "    )"
   ]
  },
  {
   "cell_type": "markdown",
   "metadata": {},
   "source": [
    "#### **Delete images from Container Registry**\n",
    "\n",
    "Deletes all the container images created in this tutorial with prefix defined by variable `APP_NAME` from the registry. All associated tags are also deleted."
   ]
  },
  {
   "cell_type": "code",
   "execution_count": null,
   "metadata": {},
   "outputs": [],
   "source": [
    "gcr_images = !gcloud container images list --repository=gcr.io/$PROJECT_ID --filter=\"name~\"$(echo $IMAGE_URI | sed 's/:.*//')\n",
    "\n",
    "if delete_image:\n",
    "    for image in gcr_images:\n",
    "        if image != \"NAME\":  # skip header line\n",
    "            print(f\"Deleting image {image} including all tags\")\n",
    "            digests = !gcloud container images list-tags $image --format=\"get(digest)\"\n",
    "            for digest in digests:\n",
    "                !gcloud container images delete $image@$digest --force-delete-tags --quiet"
   ]
  },
  {
   "cell_type": "markdown",
   "metadata": {},
   "source": [
    "### Cleaning up Notebook Environment\n",
    "\n",
    "After you are done experimenting, you can either [STOP](https://cloud.google.com/ai-platform/notebooks/docs/shut-down) or DELETE the AI Notebook instance to prevent any  charges. If you want to save your work, you can choose to stop the instance instead.\n",
    "\n",
    "```\n",
    "# Stopping Notebook instance\n",
    "gcloud notebooks instances stop example-instance --location=us-central1-a\n",
    "\n",
    "\n",
    "# Deleting Notebook instance\n",
    "gcloud notebooks instances delete example-instance --location=us-central1-a\n",
    "```"
   ]
  }
 ],
 "metadata": {
  "environment": {
   "kernel": "python3",
   "name": "tf2-gpu.2-7.m87",
   "type": "gcloud",
   "uri": "gcr.io/deeplearning-platform-release/tf2-gpu.2-7:m87"
  },
  "interpreter": {
   "hash": "d4d1e4263499bec80672ea0156c357c1ee493ec2b1c70f0acce89fc37c4a6abe"
  },
  "kernelspec": {
   "display_name": "Python 3",
   "language": "python",
   "name": "python3"
  },
  "language_info": {
   "codemirror_mode": {
    "name": "ipython",
    "version": 3
   },
   "file_extension": ".py",
   "mimetype": "text/x-python",
   "name": "python",
   "nbconvert_exporter": "python",
   "pygments_lexer": "ipython3",
   "version": "3.7.12"
  }
 },
 "nbformat": 4,
 "nbformat_minor": 4
}
