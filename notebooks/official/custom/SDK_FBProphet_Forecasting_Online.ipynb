{
 "cells": [
  {
   "cell_type": "code",
   "execution_count": null,
   "metadata": {
    "id": "ur8xi4C7S06n"
   },
   "outputs": [],
   "source": [
    "# Copyright 2022 Google LLC\n",
    "#\n",
    "# Licensed under the Apache License, Version 2.0 (the \"License\");\n",
    "# you may not use this file except in compliance with the License.\n",
    "# You may obtain a copy of the License at\n",
    "#\n",
    "#     https://www.apache.org/licenses/LICENSE-2.0\n",
    "#\n",
    "# Unless required by applicable law or agreed to in writing, software\n",
    "# distributed under the License is distributed on an \"AS IS\" BASIS,\n",
    "# WITHOUT WARRANTIES OR CONDITIONS OF ANY KIND, either express or implied.\n",
    "# See the License for the specific language governing permissions and\n",
    "# limitations under the License."
   ]
  },
  {
   "cell_type": "markdown",
   "metadata": {
    "id": "JAPoU8Sm5E6e"
   },
   "source": [
    "# Forecasting using FBProphet and Vertex AI custom container deployment\n",
    "<table align=\"left\">\n",
    "   <td>\n",
    "    <a href=\"https://colab.research.google.com/github/GoogleCloudPlatform/vertex-ai-samples/blob/main/notebooks/official/custom/SDK_FBProphet_Forecasting_Online.ipynb\">\n",
    "      <img src=\"https://cloud.google.com/ml-engine/images/colab-logo-32px.png\" alt=\"Colab logo\"> Run in Colab\n",
    "    </a>\n",
    "  </td>\n",
    "    <td>\n",
    "    <a href=\"https://github.com/GoogleCloudPlatform/vertex-ai-samples/blob/main/notebooks/official/custom/SDK_FBProphet_Forecasting_Online.ipynb\">\n",
    "      <img src=\"https://cloud.google.com/ml-engine/images/github-logo-32px.png\" alt=\"GitHub logo\">\n",
    "      View on GitHub\n",
    "    </a>\n",
    "   </td>\n",
    "  <td>\n",
    "    <a href=\"https://console.cloud.google.com/vertex-ai/workbench/deploy-notebook?download_url=https://github.com/GoogleCloudPlatform/vertex-ai-samples/blob/main/notebooks/official/custom/SDK_FBProphet_Forecasting_Online.ipynb\">\n",
    "      <img src=\"https://lh3.googleusercontent.com/UiNooY4LUgW_oTvpsNhPpQzsstV5W8F7rYgxgGBD85cWJoLmrOzhVs_ksK_vgx40SHs7jCqkTkCk=e14-rj-sc0xffffff-h130-w32\" alt=\"Vertex AI logo\">\n",
    "      Open in Vertex AI Workbench\n",
    "    </a>\n",
    "  </td>\n",
    "</table>"
   ]
  },
  {
   "cell_type": "markdown",
   "metadata": {},
   "source": [
    "## Overview\n",
    "\n",
    "This tutorial walks you through building a custom container to serve a facebook prophet model on Vertex AI. You use the FastAPI Python web server framework to create a prediction and health check endpoint. This notebook is a modified example on serving a scikit-learn model on Vertex AI Predictions that can be found [here](https://github.com/GoogleCloudPlatform/vertex-ai-samples/blob/main/notebooks/official/sdk/SDK_Custom_Container_Prediction.ipynb).\n",
    "\n",
    "The facebook-prophet model that you build in this notebook is referred from an [article on testdriven.io: Deploying and Hosting a Machine Learning Model with FastAPI and Heroku](https://testdriven.io/blog/fastapi-machine-learning/).\n"
   ]
  },
  {
   "cell_type": "markdown",
   "metadata": {},
   "source": [
    "### Objective\n",
    "\n",
    "The objective of this notebook is to create, deploy and serve a custom forecasting model on Vertex AI. This notebook focuses more on deploying the model than on the design of the model itself. \n",
    "\n",
    "This tutorial uses the following Google Cloud ML services and resources:\n",
    "\n",
    "- Vertex AI Models\n",
    "- Vertex AI Endpoints\n",
    "\n",
    "The steps performed include:\n",
    "- Train a model locally that forecasts sales for the number of days passed into the model prediction function\n",
    "- Train a model that uses both sales and weather data\n",
    "- Save the models\n",
    "- Build a FastAPI server to handle predictions and health checks\n",
    "- Build a custom container with model artifacts\n",
    "- Upload and deploy the custom container to Vertex AI Predictions\n",
    "\n"
   ]
  },
  {
   "cell_type": "markdown",
   "metadata": {},
   "source": [
    "### Dataset\n",
    "\n",
    "This example uses historical liquor sales data in Iowa from a public dataset in BigQuery: `bigquery-public-data:iowa_liquor_sales.sales` to forecast sales for a given time period in future.\n",
    "\n",
    "Each instance includes 2 features, a datestamp and the adjusted sales for that time period."
   ]
  },
  {
   "cell_type": "markdown",
   "metadata": {
    "id": "tvgnzT1CKxrO"
   },
   "source": [
    "### Costs \n",
    "\n",
    "This tutorial uses billable components of Google Cloud:\n",
    "\n",
    "* Vertex AI\n",
    "* Cloud Storage\n",
    "* Artifact Registry\n",
    "\n",
    "Learn about [Vertex AI\n",
    "pricing](https://cloud.google.com/vertex-ai/pricing), [Cloud Storage\n",
    "pricing](https://cloud.google.com/storage/pricing) and [Artifact Registry pricing](https://cloud.google.com/artifact-registry/pricing) and use the [Pricing\n",
    "Calculator](https://cloud.google.com/products/calculator/)\n",
    "to generate a cost estimate based on your projected usage."
   ]
  },
  {
   "cell_type": "markdown",
   "metadata": {
    "id": "ze4-nDLfK4pw"
   },
   "source": [
    "### Set up your local development environment\n",
    "\n",
    "**If you are using Colab or Vertex AI Workbench Notebooks**, your environment already meets\n",
    "all the requirements to run this notebook. You can skip this step.\n",
    "\n",
    "**If you are using Colab**, docker related steps are skipped as Colab doesn't fully support docker yet. "
   ]
  },
  {
   "cell_type": "markdown",
   "metadata": {
    "id": "gCuSR8GkAgzl"
   },
   "source": [
    "**Otherwise**, make sure your environment meets this notebook's requirements.\n",
    "You need the following:\n",
    "\n",
    "* Docker\n",
    "* Git\n",
    "* Google Cloud SDK (gcloud)\n",
    "* Python 3\n",
    "* virtualenv\n",
    "* Jupyter notebook running in a virtual environment with Python 3\n",
    "\n",
    "The Google Cloud guide to [Setting up a Python development\n",
    "environment](https://cloud.google.com/python/setup) and the [Jupyter\n",
    "installation guide](https://jupyter.org/install) provide detailed instructions\n",
    "for meeting these requirements. The following steps provide a condensed set of\n",
    "instructions:\n",
    "\n",
    "1. [Install and initialize the Cloud SDK.](https://cloud.google.com/sdk/docs/)\n",
    "\n",
    "1. [Install Python 3.](https://cloud.google.com/python/setup#installing_python)\n",
    "\n",
    "1. [Install\n",
    "   virtualenv](https://cloud.google.com/python/setup#installing_and_using_virtualenv)\n",
    "   and create a virtual environment that uses Python 3. Activate the virtual environment.\n",
    "\n",
    "1. To install Jupyter, run `pip install jupyter` on the\n",
    "command-line in a terminal shell.\n",
    "\n",
    "1. To launch Jupyter, run `jupyter notebook` on the command-line in a terminal shell.\n",
    "\n",
    "1. Open this notebook in the Jupyter Notebook Dashboard.\n"
   ]
  },
  {
   "cell_type": "markdown",
   "metadata": {
    "id": "i7EUnXsZhAGF"
   },
   "source": [
    "## Install additional packages\n",
    "\n",
    "Install additional package dependencies not installed in your notebook environment, such as NumPy, pystan, pandas, plotly, fbprophet, FastAPI, Uvicorn, and joblib. This example uses a specific version for each libray, but in general the latest major GA version of each package is suggested. Note that the requirments.txt file is required in docker serving container in later steps."
   ]
  },
  {
   "cell_type": "code",
   "execution_count": null,
   "metadata": {
    "id": "747f59abb3a5"
   },
   "outputs": [],
   "source": [
    "%%writefile requirements.txt\n",
    "joblib==1.1.0\n",
    "google-cloud-storage==2.4.0\n",
    "google-cloud-aiplatform==1.16.0\n",
    "google-cloud-bigquery==2.34.4\n",
    "numpy\n",
    "pandas\n",
    "plotly==5.9.0\n",
    "pyarrow==8.0.0\n",
    "fastapi~=0.63\n",
    "pystan\n",
    "prophet==1.1"
   ]
  },
  {
   "cell_type": "code",
   "execution_count": null,
   "metadata": {
    "id": "56a5cca6a565"
   },
   "outputs": [],
   "source": [
    "import os\n",
    "\n",
    "# The Vertex AI Workbench Notebook product has specific requirements\n",
    "IS_WORKBENCH_NOTEBOOK = os.getenv(\"DL_ANACONDA_HOME\")\n",
    "IS_USER_MANAGED_WORKBENCH_NOTEBOOK = os.path.exists(\n",
    "    \"/opt/deeplearning/metadata/env_version\"\n",
    ")\n",
    "\n",
    "# Vertex AI Notebook requires dependencies to be installed with '--user'\n",
    "USER_FLAG = \"\"\n",
    "if IS_WORKBENCH_NOTEBOOK:\n",
    "    USER_FLAG = \"--user\"\n",
    "    \n",
    "# install dependencies from requirements.txt\n",
    "! pip3 install {USER_FLAG} -r requirements.txt"
   ]
  },
  {
   "cell_type": "markdown",
   "metadata": {
    "id": "hhq5zEbGg0XX"
   },
   "source": [
    "### Restart the kernel\n",
    "\n",
    "After you install the additional packages, you need to restart the notebook kernel so it can find the packages."
   ]
  },
  {
   "cell_type": "code",
   "execution_count": null,
   "metadata": {
    "id": "EzrelQZ22IZj"
   },
   "outputs": [],
   "source": [
    "# Automatically restart kernel after installs\n",
    "import os\n",
    "\n",
    "if not os.getenv(\"IS_TESTING\"):\n",
    "    # Automatically restart kernel after installs\n",
    "    import IPython\n",
    "\n",
    "    app = IPython.Application.instance()\n",
    "    app.kernel.do_shutdown(True)"
   ]
  },
  {
   "cell_type": "markdown",
   "metadata": {
    "id": "lWEdiXsJg0XY"
   },
   "source": [
    "## Before you begin"
   ]
  },
  {
   "cell_type": "markdown",
   "metadata": {
    "id": "BF1j6f9HApxa"
   },
   "source": [
    "### Set up your Google Cloud project\n",
    "\n",
    "**The following steps are required, regardless of your notebook environment.**\n",
    "\n",
    "1. [Select or create a Google Cloud project](https://console.cloud.google.com/cloud-resource-manager). When you first create an account, you get a $300 free credit towards your compute/storage costs.\n",
    "\n",
    "1. [Make sure that billing is enabled for your project](https://cloud.google.com/billing/docs/how-to/modify-project).\n",
    "\n",
    "1. [Enable the Vertex API](https://console.cloud.google.com/flows/enableapi?apiid=aiplatform.googleapis.com).\n",
    "\n",
    "1. [Enable the Compute Engine API](https://console.cloud.google.com/flows/enableapi?apiid=compute.googleapis.com).\n",
    "\n",
    "1. If you are running this notebook locally, you need to install the [Cloud SDK](https://cloud.google.com/sdk).\n",
    "\n",
    "1. Enter your project ID in the cell below. Then run the cell to make sure the\n",
    "Cloud SDK uses the right project for all the commands in this notebook.\n",
    "\n",
    "**Note**: Jupyter runs lines prefixed with `!` or `%` as shell commands, and it interpolates Python variables with `$` or `{}` into these commands."
   ]
  },
  {
   "cell_type": "markdown",
   "metadata": {
    "id": "WReHDGG5g0XY"
   },
   "source": [
    "#### Set your project ID\n",
    "\n",
    "**If you don't know your project ID**, you may be able to get your project ID using `gcloud`."
   ]
  },
  {
   "cell_type": "code",
   "execution_count": 1,
   "metadata": {
    "id": "oM1iC_MfAts1"
   },
   "outputs": [],
   "source": [
    "PROJECT_ID = \"[your-project-id]\"  # @param {type:\"string\"}"
   ]
  },
  {
   "cell_type": "code",
   "execution_count": 2,
   "metadata": {},
   "outputs": [],
   "source": [
    "if PROJECT_ID == \"\" or PROJECT_ID is None or PROJECT_ID == \"[your-project-id]\":\n",
    "    # Get your GCP project id from gcloud\n",
    "    shell_output = ! gcloud config list --format 'value(core.project)' 2>/dev/null\n",
    "    PROJECT_ID = shell_output[0]\n",
    "    print(\"Project ID:\", PROJECT_ID)"
   ]
  },
  {
   "cell_type": "code",
   "execution_count": 3,
   "metadata": {},
   "outputs": [],
   "source": [
    "! gcloud config set project $PROJECT_ID"
   ]
  },
  {
   "cell_type": "markdown",
   "metadata": {
    "id": "233cd87467c7"
   },
   "source": [
    "#### Region\n",
    "\n",
    "You can also change the `REGION` variable, which is used for operations\n",
    "throughout the rest of this notebook.  Below are regions supported for Vertex AI. We recommend that you choose the region closest to you.\n",
    "\n",
    "- Americas: `us-central1`\n",
    "- Europe: `europe-west4`\n",
    "- Asia Pacific: `asia-east1`\n",
    "\n",
    "You may not use a multi-regional bucket for training with Vertex AI. Not all regions provide support for all Vertex AI services.\n",
    "\n",
    "Learn more about [Vertex AI regions](https://cloud.google.com/vertex-ai/docs/general/locations)"
   ]
  },
  {
   "cell_type": "code",
   "execution_count": 4,
   "metadata": {
    "id": "eb356bd4d5e9"
   },
   "outputs": [],
   "source": [
    "REGION = \"[your-region]\"  # @param {type: \"string\"}\n",
    "\n",
    "if REGION == \"[your-region]\":\n",
    "    REGION = \"us-central1\""
   ]
  },
  {
   "cell_type": "markdown",
   "metadata": {
    "id": "2a598c7e52fb"
   },
   "source": [
    "#### UUID\n",
    "\n",
    "If you are in a live tutorial session, you might be using a shared test account or project. To avoid name collisions between users on resources created, you create a uuid for each instance session, and append it onto the name of resources you create in this tutorial."
   ]
  },
  {
   "cell_type": "code",
   "execution_count": 5,
   "metadata": {
    "id": "1aec5e7288ab"
   },
   "outputs": [],
   "source": [
    "import string\n",
    "import random\n",
    "\n",
    "# Generate a uuid of length 8\n",
    "def generate_uuid():\n",
    "    return ''.join(random.choices(string.ascii_lowercase + string.digits, k=8))\n",
    "\n",
    "UUID = generate_uuid()"
   ]
  },
  {
   "cell_type": "markdown",
   "metadata": {
    "id": "dr--iN2kAylZ"
   },
   "source": [
    "### Authenticate your Google Cloud account\n",
    "\n",
    "**If you are using Vertex AI Workbench notebooks**, your environment is already\n",
    "authenticated.\n",
    "\n",
    "**If you are using Colab**, run the cell below and follow the instructions\n",
    "when prompted to authenticate your account via oAuth.\n",
    "\n",
    "**Otherwise**, follow these steps:\n",
    "\n",
    "1. In the Cloud Console, go to the [**Create service account key**\n",
    "   page](https://console.cloud.google.com/apis/credentials/serviceaccountkey).\n",
    "\n",
    "2. Click **Create service account**.\n",
    "\n",
    "3. In the **Service account name** field, enter a name, and\n",
    "   click **Create**.\n",
    "\n",
    "4. In the **Grant this service account access to project** section, click the **Role** drop-down list. Type \"Vertex AI\"\n",
    "into the filter box, and select\n",
    "   **Vertex AI Administrator**. Type \"Storage Object Admin\" into the filter box, and select **Storage Object Admin**.\n",
    "\n",
    "5. Click *Create*. A JSON file that contains your key downloads to your\n",
    "local environment.\n",
    "\n",
    "6. Enter the path to your service account key as the\n",
    "`GOOGLE_APPLICATION_CREDENTIALS` variable in the cell below and run the cell."
   ]
  },
  {
   "cell_type": "code",
   "execution_count": 6,
   "metadata": {
    "id": "PyQmSRbKA8r-"
   },
   "outputs": [],
   "source": [
    "# If you are running this notebook in Colab, run this cell and follow the\n",
    "# instructions to authenticate your GCP account. This provides access to your\n",
    "# Cloud Storage bucket and lets you submit training jobs and prediction\n",
    "# requests.\n",
    "\n",
    "import os\n",
    "import sys\n",
    "\n",
    "# If on Vertex AI Workbench, then don't execute this code\n",
    "IS_COLAB = \"google.colab\" in sys.modules\n",
    "if not os.path.exists(\"/opt/deeplearning/metadata/env_version\") and not os.getenv(\n",
    "    \"DL_ANACONDA_HOME\"\n",
    "):\n",
    "    if \"google.colab\" in sys.modules:\n",
    "        from google.colab import auth as google_auth\n",
    "\n",
    "        google_auth.authenticate_user()\n",
    "\n",
    "    # If you are running this notebook locally, replace the string below with the\n",
    "    # path to your service account key and run this cell to authenticate your GCP\n",
    "    # account.\n",
    "    elif not os.getenv(\"IS_TESTING\"):\n",
    "        %env GOOGLE_APPLICATION_CREDENTIALS ''"
   ]
  },
  {
   "cell_type": "markdown",
   "metadata": {
    "id": "62f861b68b50"
   },
   "source": [
    "### Create a Cloud Storage bucket\n",
    "\n",
    "**The following steps are required, regardless of your notebook environment.**\n",
    "\n",
    "To update your model artifacts without re-building the container, you must upload your model\n",
    "artifacts and any custom code to Cloud Storage.\n",
    "\n",
    "Set the name of your Cloud Storage bucket below. It must be unique across all\n",
    "Cloud Storage buckets. "
   ]
  },
  {
   "cell_type": "code",
   "execution_count": 7,
   "metadata": {
    "id": "2232344edb11"
   },
   "outputs": [],
   "source": [
    "BUCKET_NAME = \"[your-bucket-name]\"  # @param {type:\"string\"}\n",
    "BUCKET_URI = \"gs://{}\".format(BUCKET_NAME)"
   ]
  },
  {
   "cell_type": "code",
   "execution_count": 8,
   "metadata": {
    "id": "6749c55b3f6f"
   },
   "outputs": [],
   "source": [
    "if BUCKET_URI == \"\" or BUCKET_URI is None or BUCKET_URI == \"gs://[your-bucket-name]\":\n",
    "    BUCKET_URI = \"gs://\" + PROJECT_ID + \"aip-\" + UUID"
   ]
  },
  {
   "cell_type": "markdown",
   "metadata": {
    "id": "58cb4f5895f0"
   },
   "source": [
    "**Only if your bucket doesn't already exist**: Run the following cell to create your Cloud Storage bucket."
   ]
  },
  {
   "cell_type": "code",
   "execution_count": 9,
   "metadata": {
    "id": "2d2208676cee"
   },
   "outputs": [],
   "source": [
    "! gsutil mb -l $REGION $BUCKET_URI"
   ]
  },
  {
   "cell_type": "markdown",
   "metadata": {
    "id": "c664a5abc11a"
   },
   "source": [
    "Finally, validate access to your Cloud Storage bucket by examining its contents:"
   ]
  },
  {
   "cell_type": "code",
   "execution_count": 10,
   "metadata": {
    "id": "2c1b1c29f5f6"
   },
   "outputs": [],
   "source": [
    "! gsutil ls -al $BUCKET_URI"
   ]
  },
  {
   "cell_type": "markdown",
   "metadata": {
    "id": "a2e91d1c775f"
   },
   "source": [
    "### Create a directory for all your model artifacts"
   ]
  },
  {
   "cell_type": "code",
   "execution_count": 11,
   "metadata": {
    "id": "6e74556ea0b4"
   },
   "outputs": [],
   "source": [
    "%mkdir -p app"
   ]
  },
  {
   "cell_type": "markdown",
   "metadata": {
    "id": "XoEqT2Y4DJmf"
   },
   "source": [
    "### Configure model, repository, and artifact names"
   ]
  },
  {
   "cell_type": "markdown",
   "metadata": {
    "id": "028b4d2f6d52"
   },
   "source": [
    "Configure the following parameters for the model :\n",
    "\n",
    "`MODEL_ARTIFACT_DIR` - Folder directory path to your model artifacts within a Cloud Storage bucket, for example: \"my-models/fraud-detection/trial-4\"\n",
    "\n",
    "`REPOSITORY` - Name of the Artifact Repository to create or use.\n",
    "\n",
    "`IMAGE` - Name of the container image that is pushed.\n",
    "\n",
    "`MODEL_NAME` - Name of the Model.\n",
    "\n",
    "`MODEL_DISPLAY_NAME` - Display name of the Model."
   ]
  },
  {
   "cell_type": "code",
   "execution_count": 12,
   "metadata": {
    "id": "MzGDU7TWdts_"
   },
   "outputs": [],
   "source": [
    "MODEL_ARTIFACT_DIR = \"[your-model-artifact-dir-name]\"  # @param {type:\"string\"}\n",
    "REPOSITORY = \"[your-repository-name]\"  # @param {type:\"string\"}\n",
    "IMAGE = \"[your-image-name]\"  # @param {type:\"string\"}\n",
    "MODEL_NAME = \"[your-model-name]\"  # @param {type:\"string\"}\n",
    "MODEL_DISPLAY_NAME = \"[your-model-display-name]\"  # @param {type:\"string\"}"
   ]
  },
  {
   "cell_type": "code",
   "execution_count": 13,
   "metadata": {
    "id": "77273f981a1f"
   },
   "outputs": [],
   "source": [
    "# Otherwise, choose deafult names\n",
    "if MODEL_ARTIFACT_DIR == \"[your-model-artifact-dir-name]\":\n",
    "    MODEL_ARTIFACT_DIR = \"custom-fb-container-prediction-model\"\n",
    "if REPOSITORY == \"[your-repository-name]\":\n",
    "    REPOSITORY = \"custom-fb-container-prediction\"\n",
    "if IMAGE == \"[your-image-name]\":\n",
    "    IMAGE = \"custom-fb-fastapi-server\"\n",
    "if MODEL_NAME == \"[your-model-name]\":\n",
    "    MODEL_NAME = \"fb_custom_container\"\n",
    "if MODEL_DISPLAY_NAME == \"[your-model-display-name]\":\n",
    "    MODEL_DISPLAY_NAME = \"FB Prophet Forecast\""
   ]
  },
  {
   "cell_type": "markdown",
   "metadata": {
    "id": "XoEqT2Y4DJmf"
   },
   "source": [
    "### Import libraries and define constants"
   ]
  },
  {
   "cell_type": "code",
   "execution_count": 14,
   "metadata": {
    "id": "pRUOFELefqf1"
   },
   "outputs": [],
   "source": [
    "import datetime\n",
    "import os\n",
    "\n",
    "# BQ libraries\n",
    "import google.auth\n",
    "from prophet import Prophet\n",
    "from google.cloud import bigquery\n",
    "\n",
    "TODAY = datetime.date.today()\n",
    "credentials, _ = google.auth.default(\n",
    "    scopes=[\"https://www.googleapis.com/auth/cloud-platform\"]\n",
    ")\n",
    "bqclient = bigquery.Client(\n",
    "    credentials=credentials,\n",
    "    project=PROJECT_ID,\n",
    ")"
   ]
  },
  {
   "cell_type": "markdown",
   "metadata": {
    "id": "4b816cd52f4b"
   },
   "source": [
    "## Train and store the model locally\n",
    "Next, you define functions to train time-series models using fbprophet for a few sales categories. \n",
    "\n",
    "There are two types of forecast functions that are going to be defined. One that only uses sales, and the other takes the [weather variable as an additional regressor](https://facebook.github.io/prophet/docs/seasonality,_holiday_effects,_and_regressors.html) for forecasting.\n",
    "\n",
    "Weather data comes from a public dataset in BigQuery which is described [here](\n",
    "https://cloud.google.com/blog/products/gcp/global-historical-daily-weather-data-now-available-in-bigquery).\n",
    "\n",
    "At the end, the functions export your trained model as a (`.sav`) file using Joblib."
   ]
  },
  {
   "cell_type": "markdown",
   "metadata": {},
   "source": [
    "### Define train function for sales model\n",
    "\n",
    "In the next cell, you define a function that fetches the liquor sales data from BigQuery, processes it and trains and saves the Prophet model."
   ]
  },
  {
   "cell_type": "code",
   "execution_count": 15,
   "metadata": {
    "id": "cdea16cf6401"
   },
   "outputs": [],
   "source": [
    "import joblib\n",
    "\n",
    "\n",
    "def train(category=\"1012100\"):\n",
    "    # Download query results. # change to Data, Adj_Close\n",
    "    query_string = \"\"\"\n",
    "    SELECT date as Date, upper(category_name) as category_name, category, sum(sale_dollars) as sales\n",
    "    FROM `bigquery-public-data.iowa_liquor_sales.sales`\n",
    "    where category = '{}'\n",
    "      and date >= '2020-01-01'\n",
    "    group by Date, category_name, category\n",
    "    \"\"\".format(\n",
    "        category\n",
    "    )\n",
    "\n",
    "    data = bqclient.query(query_string).result().to_dataframe()\n",
    "    data.plot(title=f\"{category} Daily Sales\", x=\"Date\", y=\"sales\")\n",
    "\n",
    "    # Copy results into a dataframe with two columns ds=Date, y=value\n",
    "    df_forecast = data.copy()\n",
    "    df_forecast.reset_index(inplace=True)\n",
    "    df_forecast[\"ds\"] = df_forecast[\"Date\"]\n",
    "    df_forecast[\"y\"] = df_forecast[\n",
    "        \"sales\"\n",
    "    ]  # Add underscore as BQ changes this field name\n",
    "    df_forecast = df_forecast[[\"ds\", \"y\"]]\n",
    "\n",
    "    # Train the Prophet model\n",
    "    model = Prophet()\n",
    "    model.fit(df_forecast)\n",
    "\n",
    "    # Save the model locally\n",
    "    joblib.dump(model, \"{}.sav\".format(category))"
   ]
  },
  {
   "cell_type": "markdown",
   "metadata": {
    "id": "9b63f09eb501",
    "toc-hr-collapsed": true
   },
   "source": [
    "#### Train a model for two sample categories (Canadian Whiskies and American Vodkas)\n",
    "\n",
    "This model uses only the Iowa liquor sales data as input."
   ]
  },
  {
   "cell_type": "code",
   "execution_count": 16,
   "metadata": {
    "id": "937f21278d5d",
    "scrolled": true,
    "tags": []
   },
   "outputs": [],
   "source": [
    "%cd app/\n",
    "\n",
    "# Choose a few product categories to build forecasts for from the Iowa Liquor sales data in BQ: bigquery-public-data:iowa_liquor_sales.sales\n",
    "# 1012100 CANADIAN WHISKIES\n",
    "# 1031100 AMERICAN VODKAS\n",
    "train(\"1012100\")\n",
    "train(\"1031100\")\n",
    "\n",
    "%cd .."
   ]
  },
  {
   "cell_type": "markdown",
   "metadata": {
    "id": "7fdef44fddc6"
   },
   "source": [
    "### Define train function for sales and weather model\n",
    "The query for the regressor retrieves 2 years of weather data, and uses a moving average to generate 100 future weather data points."
   ]
  },
  {
   "cell_type": "code",
   "execution_count": 30,
   "metadata": {
    "id": "2c911ccc4a57"
   },
   "outputs": [],
   "source": [
    "def train_w_regressor(category=\"1012100\"):\n",
    "    # Download query results. # change to Data, Adj_Close\n",
    "    query_string = \"\"\"\n",
    "    SELECT date as Date, upper(category_name) as category_name, category, sum(sale_dollars) as sales\n",
    "    FROM `bigquery-public-data.iowa_liquor_sales.sales`\n",
    "    where category = '{CATEGORY}'\n",
    "      and date >= '2020-01-01'\n",
    "    group by Date, category_name, category\n",
    "    \"\"\".format(\n",
    "        CATEGORY=category\n",
    "    )\n",
    "\n",
    "    query_string_regressor = \"\"\"\n",
    "    WITH history as\n",
    "    (\n",
    "    SELECT\n",
    "      wx.date as ds,\n",
    "      AVG(wx.value/10) AS temp\n",
    "    FROM\n",
    "      `bigquery-public-data.ghcn_d.ghcnd_stations` AS stn\n",
    "    JOIN\n",
    "      `bigquery-public-data.ghcn_d.ghcnd_2021` AS wx ON wx.id = stn.id\n",
    "    WHERE\n",
    "      stn.state = 'AZ'\n",
    "      AND wx.element = 'TMIN'\n",
    "      AND wx.qflag IS NULL\n",
    "    GROUP by wx.date\n",
    "    union all\n",
    "    SELECT\n",
    "      wx.date as ds,\n",
    "      AVG(wx.value/10) AS temp\n",
    "    FROM\n",
    "      `bigquery-public-data.ghcn_d.ghcnd_stations` AS stn\n",
    "    JOIN\n",
    "      `bigquery-public-data.ghcn_d.ghcnd_2020` AS wx ON wx.id = stn.id\n",
    "    WHERE\n",
    "      stn.state = 'AZ'\n",
    "      AND wx.element = 'TMIN'\n",
    "      AND wx.qflag IS NULL\n",
    "    GROUP by wx.date\n",
    "    )\n",
    "    ,next_100_days as\n",
    "    (\n",
    "    SELECT DATE_ADD(max(stn.date) over (order by 1), INTERVAL row_number() over (order by stn.id) DAY) as ds, null as temp\n",
    "    FROM `bigquery-public-data.ghcn_d.ghcnd_2021` AS stn\n",
    "    LIMIT 100\n",
    "    )\n",
    "    ,combined_data as\n",
    "    (\n",
    "    select *\n",
    "    from history\n",
    "    union all\n",
    "    select * from next_100_days\n",
    "    )\n",
    "    select c.ds\n",
    "          ,case when temp is null then AVG(c.temp) OVER (ORDER BY c.ds ASC ROWS 100 PRECEDING)\n",
    "           else temp end as temp\n",
    "    from combined_data c;\n",
    "    \"\"\"\n",
    "\n",
    "    data = bqclient.query(query_string).result().to_dataframe()\n",
    "    data.plot(title=f\"{category} Daily Sales\", x=\"Date\", y=\"sales\")\n",
    "\n",
    "    # Copy results into a dataframe with two columns ds=Date, y=value\n",
    "    df_forecast = data.copy()\n",
    "    df_forecast.reset_index(inplace=True)\n",
    "    df_forecast[\"ds\"] = df_forecast[\"Date\"]\n",
    "    df_forecast[\"y\"] = df_forecast[\"sales\"]  # Add underscore as BQ changes this field name\n",
    "    df_forecast = df_forecast[[\"ds\", \"y\"]]\n",
    "\n",
    "    # Return the weather data from BQ\n",
    "    data_regressor = bqclient.query(query_string_regressor).result().to_dataframe()\n",
    "    df_regressor = data_regressor.copy()\n",
    "\n",
    "    # Deal with any NaN values using fillna\n",
    "    df_regressor_out = df_regressor.fillna(method=\"pad\")\n",
    "    df_regressor_out.to_csv(f\"{category}_weather.csv\", index=False)\n",
    "\n",
    "    # Add a temp column to the df_forecast dataframe, and populate it from the df_regressor dataframe\n",
    "    df_forecast[\"temp\"] = df_forecast.ds.map(\n",
    "        df_regressor.set_index(\"ds\")[\"temp\"].to_dict()\n",
    "    )\n",
    "    \n",
    "    df_forecast.loc[:, \"temp\"] = df_forecast.fillna(method=\"pad\").fillna(\n",
    "        method=\"backfill\"\n",
    "    )  # Address NaN values of temp\n",
    "    \n",
    "    # Train the Prophet model with the regressor\n",
    "    model = Prophet()\n",
    "    model = model.add_regressor(\"temp\")\n",
    "    model.fit(df_forecast)\n",
    "\n",
    "    # Save the model locally, with _weather appended to the file name\n",
    "    joblib.dump(model, f\"{category}_weather.sav\")"
   ]
  },
  {
   "cell_type": "markdown",
   "metadata": {
    "id": "3294eacdf0d7",
    "toc-hr-collapsed": true
   },
   "source": [
    "#### Train a model with weather data for the same sample categories (Canadian Whiskies and American Vodkas)\n",
    "\n",
    "This model uses only the Iowa liquor sales data, and an additional regressor to account for the impact of weather. As mentioned before, the regressor must contain for both the history and future dates. In the query that fetches the regressor data, a moving average is used to calculate the future weather data.\n",
    "\n",
    "More information on regressors can be found [here](https://facebook.github.io/prophet/docs/seasonality,_holiday_effects,_and_regressors.html)."
   ]
  },
  {
   "cell_type": "code",
   "execution_count": 31,
   "metadata": {
    "id": "3a0602230122",
    "scrolled": true,
    "tags": []
   },
   "outputs": [],
   "source": [
    "%cd app/\n",
    "\n",
    "# Choose a few product categories to build forecasts for from the Iowa Liquor sales data in BQ: bigquery-public-data:iowa_liquor_sales.sales\n",
    "# 1012100 CANADIAN WHISKIES\n",
    "# 1031100 AMERICAN VODKAS\n",
    "train_w_regressor(\"1012100\")\n",
    "train_w_regressor(\"1031100\")\n",
    "\n",
    "%cd .."
   ]
  },
  {
   "cell_type": "markdown",
   "metadata": {
    "id": "3849066a33bd",
    "toc-hr-collapsed": true
   },
   "source": [
    "### Upload model artifacts and custom code to Cloud Storage\n",
    "\n",
    "Before you can deploy your model for serving, Vertex AI needs access to the following files in the Cloud Storage:\n",
    "\n",
    "* `{category}.sav` (model artifact) for each sales category that you would like to retrieve the forecast for.\n",
    "* `*.csv` - Data for the weather regressor that is needed at prediction time.\n",
    "\n",
    "Run the following cell to upload your files:"
   ]
  },
  {
   "cell_type": "code",
   "execution_count": 32,
   "metadata": {
    "id": "ca67ee52d4d9",
    "scrolled": true,
    "tags": []
   },
   "outputs": [],
   "source": [
    "%cd app\n",
    "!gsutil cp *.sav *.csv {BUCKET_URI}/{MODEL_ARTIFACT_DIR}/\n",
    "%cd .."
   ]
  },
  {
   "cell_type": "markdown",
   "metadata": {
    "id": "480a1d88ecdb"
   },
   "source": [
    "## Local model testing\n",
    "\n",
    "Review the trained FB Prophet models with and without the regressor in the sections below.\n",
    "\n",
    "Check the set environment variables."
   ]
  },
  {
   "cell_type": "code",
   "execution_count": 33,
   "metadata": {
    "id": "ca138adb934c"
   },
   "outputs": [],
   "source": [
    "os.environ[\"AIP_STORAGE_URI\"] = f\"{BUCKET_URI}/{MODEL_ARTIFACT_DIR}\"\n",
    "os.environ[\"AIP_HTTP_PORT\"] = \"8080\"\n",
    "os.environ[\"AIP_HEALTH_ROUTE\"] = \"/health\"\n",
    "os.environ[\"AIP_PREDICT_ROUTE\"] = \"/predict\""
   ]
  },
  {
   "cell_type": "code",
   "execution_count": 34,
   "metadata": {
    "id": "d5d74b3f7a00"
   },
   "outputs": [],
   "source": [
    "print(os.environ[\"AIP_STORAGE_URI\"])\n",
    "print(os.environ[\"AIP_HTTP_PORT\"])\n",
    "print(os.environ[\"AIP_HEALTH_ROUTE\"])\n",
    "print(os.environ[\"AIP_PREDICT_ROUTE\"])"
   ]
  },
  {
   "cell_type": "markdown",
   "metadata": {
    "id": "dbd285d7377a"
   },
   "source": [
    "### **Test the sales model**"
   ]
  },
  {
   "cell_type": "code",
   "execution_count": 35,
   "metadata": {
    "id": "b2d09851b501",
    "scrolled": true,
    "tags": []
   },
   "outputs": [],
   "source": [
    "%cd app\n",
    "\n",
    "import datetime\n",
    "\n",
    "import pandas as pd\n",
    "from google.cloud import storage\n",
    "\n",
    "gcs_client = storage.Client(project=PROJECT_ID)\n",
    "\n",
    "# Set a sample category and number of days to test with\n",
    "category = \"1012100\"\n",
    "days = 7\n",
    "\n",
    "# Test the loading of the model from GCS\n",
    "fname = f\"{category}.sav\"\n",
    "with open(f\"{fname}\", \"wb\") as model_g:\n",
    "    gcs_client.download_blob_to_file(\n",
    "        f\"{os.environ['AIP_STORAGE_URI']}/{fname}\", model_g\n",
    "    )\n",
    "\n",
    "model = joblib.load(f\"{category}.sav\")\n",
    "\n",
    "# Create a dataframe that ranges from 2020 to Today + the number of days set above\n",
    "TODAY = datetime.date.today()\n",
    "future = TODAY + datetime.timedelta(days=days)\n",
    "\n",
    "dates = pd.date_range(\n",
    "    start=\"2020-01-01\",\n",
    "    end=future.strftime(\"%m/%d/%Y\"),\n",
    ")\n",
    "df = pd.DataFrame({\"ds\": dates})\n",
    "\n",
    "# Run a prediction for these dates and save it to a forecast dataframe\n",
    "forecast = model.predict(df)\n",
    "\n",
    "model.plot(forecast).savefig(f\"{category}_plot.png\")\n",
    "model.plot_components(forecast).savefig(f\"{category}_plot_components.png\")\n",
    "\n",
    "forecast.tail(days).to_dict(\"records\")\n",
    "\n",
    "%cd .."
   ]
  },
  {
   "cell_type": "markdown",
   "metadata": {
    "id": "d411890f8d45"
   },
   "source": [
    "### **Test the sales and weather model**"
   ]
  },
  {
   "cell_type": "code",
   "execution_count": 36,
   "metadata": {
    "id": "9d156e7c5632",
    "scrolled": true,
    "tags": []
   },
   "outputs": [],
   "source": [
    "%cd app\n",
    "\n",
    "gcs_client = storage.Client(project=PROJECT_ID)\n",
    "\n",
    "# Set a sample category and number of days to test with\n",
    "category = \"1012100_weather\"\n",
    "days = 7\n",
    "\n",
    "# Test the loading of the model from GCS\n",
    "fname = f\"{category}.sav\"\n",
    "with open(f\"{fname}\", \"wb\") as model_g:\n",
    "    gcs_client.download_blob_to_file(\n",
    "        f\"{os.environ['AIP_STORAGE_URI']}/{fname}\", model_g\n",
    "    )\n",
    "\n",
    "model = joblib.load(f\"{category}.sav\")\n",
    "\n",
    "# Test the loading of the regressor from GCS\n",
    "fname_csv = f\"{category}.csv\"\n",
    "with open(f\"{fname_csv}\", \"wb\") as model_csv:\n",
    "    gcs_client.download_blob_to_file(\n",
    "        f\"{os.environ['AIP_STORAGE_URI']}/{fname_csv}\", model_csv\n",
    "    )\n",
    "\n",
    "df_regressor = pd.read_csv(fname_csv)\n",
    "\n",
    "# Return the data from the regressor that ranges from 2020 to Today + the number of days set above\n",
    "TODAY = datetime.date.today()\n",
    "future = TODAY + datetime.timedelta(days=days)\n",
    "\n",
    "start = \"2020-01-01\"\n",
    "after_start_date = df_regressor[\"ds\"] >= start\n",
    "before_end_date = df[\"ds\"] <= future.strftime(\"%m/%d/%Y\")\n",
    "between_two_dates = after_start_date & before_end_date\n",
    "df_final = df_regressor.loc[between_two_dates]\n",
    "df_final.tail()\n",
    "\n",
    "# Run a prediction for these dates and the regressor\n",
    "forecast = model.predict(df_final)\n",
    "\n",
    "model.plot(forecast).savefig(f\"{category}_plot.png\")\n",
    "model.plot_components(forecast).savefig(f\"{category}_plot_components.png\")\n",
    "\n",
    "%cd .."
   ]
  },
  {
   "cell_type": "markdown",
   "metadata": {
    "id": "480a1d88ecdb"
   },
   "source": [
    "## Build a FastAPI server\n",
    "\n",
    "To serve predictions from both the models, build a FastAPI server application."
   ]
  },
  {
   "cell_type": "code",
   "execution_count": 37,
   "metadata": {
    "id": "94af0ba5eadd"
   },
   "outputs": [],
   "source": [
    "%%writefile app/main.py\n",
    "from fastapi import FastAPI, Request\n",
    "from fastapi.exceptions import RequestValidationError\n",
    "from fastapi.responses import JSONResponse\n",
    "\n",
    "import joblib\n",
    "import json\n",
    "import numpy as np\n",
    "import os\n",
    "import datetime\n",
    "import pandas as pd\n",
    "import errno\n",
    "\n",
    "from google.cloud import storage\n",
    "\n",
    "app = FastAPI()\n",
    "gcs_client = storage.Client()\n",
    "\n",
    "@app.exception_handler(Exception)\n",
    "async def validation_exception_handler(request, err):\n",
    "    base_error_message = f\"Failed to execute: {request.method}: {request.url}\"\n",
    "    # Change here to LOGGER\n",
    "    return JSONResponse(status_code=400, content={\"message\": f\"{base_error_message}. Detail: {err}\"})\n",
    "\n",
    "    \n",
    "def download_model(category=\"1012100\", regressor=\"\"): #defaults to \"1012100\"\n",
    "    if not category:\n",
    "        raise HTTPException(status_code=400, detail=f\"category not found. category={category}\")\n",
    "    fname = f\"{category}{regressor}.sav\"\n",
    "    with open(f\"{fname}\", 'wb') as model_g:\n",
    "        gcs_client.download_blob_to_file(\n",
    "            f\"{os.environ['AIP_STORAGE_URI']}/{fname}\", model_g\n",
    "        )\n",
    "    model = joblib.load (fname)\n",
    "    return model\n",
    "    \n",
    "def predict_in(model, days=7, regressor=\"\", category=\"1012100\"):\n",
    "    TODAY = datetime.date.today()\n",
    "    future = TODAY + datetime.timedelta(days=days)\n",
    "\n",
    "    dates = pd.date_range(start=\"2020-01-01\", end=future.strftime(\"%m/%d/%Y\"),)\n",
    "    df = pd.DataFrame({\"ds\": dates})\n",
    "\n",
    "    if (regressor > \"\"):\n",
    "        fname_csv = f\"{category}{regressor}.csv\"\n",
    "        with open(f\"{fname_csv}\", 'wb') as model_csv:\n",
    "            gcs_client.download_blob_to_file(\n",
    "                f\"{os.environ['AIP_STORAGE_URI']}/{fname_csv}\", model_csv\n",
    "            )\n",
    "\n",
    "        df_regressor = pd.read_csv(fname_csv)\n",
    "        start=\"2020-01-01\"\n",
    "        after_start_date = df_regressor[\"ds\"] >= start\n",
    "        before_end_date = df[\"ds\"] <= future.strftime(\"%m/%d/%Y\")\n",
    "        between_two_dates = after_start_date & before_end_date\n",
    "        df_final = df_regressor.loc[between_two_dates]\n",
    "        df_final.tail()\n",
    "        \n",
    "        forecast = model.predict(df_final)\n",
    "    \n",
    "    else:\n",
    "        forecast = model.predict(df)\n",
    "\n",
    "    model.plot(forecast).savefig(\"model_plot.png\")\n",
    "    model.plot_components(forecast).savefig(\"model_plot_components.png\")    \n",
    "    \n",
    "    return forecast.tail(days).to_dict(\"records\")\n",
    "\n",
    "\n",
    "def convert(prediction_list):\n",
    "    output = {}\n",
    "    for data in prediction_list:\n",
    "        date = data[\"ds\"].strftime(\"%m/%d/%Y\")\n",
    "        output[date] = data[\"trend\"]\n",
    "    return output\n",
    "\n",
    "\n",
    "@app.get(os.environ['AIP_HEALTH_ROUTE'], status_code=200)\n",
    "def health():\n",
    "    return {}\n",
    "\n",
    "\n",
    "@app.post(os.environ['AIP_PREDICT_ROUTE'])\n",
    "async def predict(request: Request):\n",
    "    body = await request.json()\n",
    "    try:\n",
    "        if type(body) is list:\n",
    "            body = body[0]\n",
    "    except:\n",
    "        None #Do Nothing\n",
    "    print (body)\n",
    "    instances = body[\"instances\"]\n",
    "\n",
    "    try:\n",
    "        if type(instances) is list:\n",
    "            instances = instances[0]\n",
    "    except:\n",
    "        None #Do Nothing\n",
    "    print(instances)    \n",
    "    category = instances[\"category\"] \n",
    "    days = instances[\"days\"]\n",
    "    regressor = instances[\"regressor\"]\n",
    "    \n",
    "    try:\n",
    "        if type(category) is list:\n",
    "            category = category[0]\n",
    "    except:\n",
    "        None #Do Nothing\n",
    "    print(category) \n",
    "\n",
    "    try:\n",
    "        if type(days) is list:\n",
    "            days = days[0]\n",
    "    except:\n",
    "        None #Do Nothing\n",
    "    print(days) \n",
    "\n",
    "    try:\n",
    "        if type(regressor) is list:\n",
    "            regressor = regressor[0]\n",
    "    except:\n",
    "        None #Do Nothing\n",
    "    print(regressor) \n",
    "    \n",
    "    model_download = download_model (category, regressor)\n",
    "    prediction_list = predict_in(model_download, days, regressor, category)  \n",
    "    \n",
    "    if not prediction_list:\n",
    "        raise HTTPException(status_code=400, detail=\"Model not found.\")\n",
    "    \n",
    "    prediction_output = convert(prediction_list)\n",
    "    final_output = [(k, v) for k, v in prediction_output.items()] \n",
    "    \n",
    "    return {\"predictions\": final_output}"
   ]
  },
  {
   "cell_type": "markdown",
   "metadata": {
    "id": "150cf819687b"
   },
   "source": [
    "### Add pre-start script\n",
    "FastAPI executes this script before starting up the server. The `PORT` environment variable is set to equal `AIP_HTTP_PORT` in order to run FastAPI on same the port expected by Vertex AI Predictions."
   ]
  },
  {
   "cell_type": "code",
   "execution_count": 38,
   "metadata": {
    "id": "69f438aca35b"
   },
   "outputs": [],
   "source": [
    "%%writefile app/prestart.sh\n",
    "export PORT=$AIP_HTTP_PORT"
   ]
  },
  {
   "cell_type": "markdown",
   "metadata": {
    "id": "8b62ddf1def3"
   },
   "source": [
    "### Create test instances\n",
    "To learn more about formatting input instances in JSON, [read the documentation.](https://cloud.google.com/ai-platform-unified/docs/predictions/online-predictions-custom-models#request-body-details)"
   ]
  },
  {
   "cell_type": "code",
   "execution_count": 39,
   "metadata": {
    "id": "b6605e9e6186"
   },
   "outputs": [],
   "source": [
    "%%writefile instances.json\n",
    "{\"instances\": [{\"category\":[\"1012100\"], \"days\": [30], \"regressor\": [\"_weather\"]}]}"
   ]
  },
  {
   "cell_type": "markdown",
   "metadata": {
    "id": "51e149fdec1b"
   },
   "source": [
    "## Build and push container to Artifact Registry"
   ]
  },
  {
   "cell_type": "markdown",
   "metadata": {
    "id": "240578ec9efe"
   },
   "source": [
    "Write the `Dockerfile` using `tiangolo/uvicorn-gunicorn-fastapi` as a base image. This automatically runs FastAPI for you using Gunicorn and Uvicorn. Visit [the FastAPI docs to read more about deploying FastAPI with Docker](https://fastapi.tiangolo.com/deployment/docker/) to learn more."
   ]
  },
  {
   "cell_type": "code",
   "execution_count": 40,
   "metadata": {
    "id": "3d3a6b9ed22b"
   },
   "outputs": [],
   "source": [
    "%%writefile Dockerfile\n",
    "\n",
    "FROM tiangolo/uvicorn-gunicorn-fastapi:python3.9\n",
    "\n",
    "COPY ./app /app\n",
    "COPY requirements.txt requirements.txt\n",
    "\n",
    "RUN pip install -r requirements.txt"
   ]
  },
  {
   "cell_type": "code",
   "execution_count": 41,
   "metadata": {
    "id": "d11017ee27a1",
    "scrolled": true,
    "tags": []
   },
   "outputs": [],
   "source": [
    "!gcloud auth configure-docker {REGION}-docker.pkg.dev --quiet"
   ]
  },
  {
   "cell_type": "markdown",
   "metadata": {
    "id": "04c988201499"
   },
   "source": [
    "Build the image tagging the destination-Artifact Registry path. The logs are stored in `logs.txt`."
   ]
  },
  {
   "cell_type": "code",
   "execution_count": 42,
   "metadata": {
    "id": "f1e7d639b9cc",
    "scrolled": true,
    "tags": []
   },
   "outputs": [],
   "source": [
    "def build_image():\n",
    "    ! sudo docker build --tag=\"{REGION}-docker.pkg.dev/{PROJECT_ID}/{REPOSITORY}/{IMAGE}\" . > logs.txt\n",
    "\n",
    "\n",
    "if not IS_COLAB:\n",
    "    print(\"Building the image...\")\n",
    "    build_image()\n",
    "    print (\"Process completed !\")"
   ]
  },
  {
   "cell_type": "markdown",
   "metadata": {
    "id": "147a555f6c93"
   },
   "source": [
    "### Run and test the container locally (optional)\n",
    "\n",
    "Test running the container locally in detached mode and provide the environment variables that the container needs. These environment variables are provided to the container by Vertex AI Predictions once deployed on Vertex AI. Test the `/health` and `/predict` routes and then stop the running image.\n",
    "\n",
    "**Note**: This section tests the container locally. However, if the underlying environment is Colab, the `docker` commands are automatically skipped."
   ]
  },
  {
   "cell_type": "code",
   "execution_count": 43,
   "metadata": {
    "id": "62ed2d334d0f"
   },
   "outputs": [],
   "source": [
    "if not IS_COLAB:\n",
    "    !sudo docker stop local-ts\n",
    "    !sudo docker rm local-ts\n",
    "    !sudo docker run -d -p 80:8080 \\\n",
    "        --name=local-ts \\\n",
    "        -e AIP_HTTP_PORT=8080 \\\n",
    "        -e AIP_HEALTH_ROUTE=/health \\\n",
    "        -e AIP_PREDICT_ROUTE=/predict \\\n",
    "        -e AIP_STORAGE_URI={BUCKET_URI}/{MODEL_ARTIFACT_DIR} \\\n",
    "        \"{REGION}-docker.pkg.dev/{PROJECT_ID}/{REPOSITORY}/{IMAGE}\""
   ]
  },
  {
   "cell_type": "markdown",
   "metadata": {},
   "source": [
    "Ping the health route."
   ]
  },
  {
   "cell_type": "code",
   "execution_count": 44,
   "metadata": {
    "id": "ce629eea32fd"
   },
   "outputs": [],
   "source": [
    "if not IS_COLAB:\n",
    "    !curl localhost/health"
   ]
  },
  {
   "cell_type": "markdown",
   "metadata": {},
   "source": [
    "#### Test the predict route\n",
    "\n",
    "Pass the `instances.json` and test the predict route."
   ]
  },
  {
   "cell_type": "code",
   "execution_count": 45,
   "metadata": {
    "id": "56986f93438e"
   },
   "outputs": [],
   "source": [
    "if not IS_COLAB:\n",
    "    !curl -X POST \\\n",
    "      -d @instances.json \\\n",
    "      -H \"Content-Type: application/json; charset=utf-8\" \\\n",
    "      localhost/predict"
   ]
  },
  {
   "cell_type": "markdown",
   "metadata": {
    "id": "2c3590595868"
   },
   "source": [
    "Now, store an instance without the `regressor` and test the predict route. This retreives forecasts from the model trained without the weather regressor variable."
   ]
  },
  {
   "cell_type": "code",
   "execution_count": 46,
   "metadata": {
    "id": "c6235f235355"
   },
   "outputs": [],
   "source": [
    "%%writefile instances.json\n",
    "{\"instances\": [{\"category\":[\"1012100\"], \"days\": [30], \"regressor\": [\"\"]}]}"
   ]
  },
  {
   "cell_type": "code",
   "execution_count": 47,
   "metadata": {
    "id": "6ac42740a39d"
   },
   "outputs": [],
   "source": [
    "if not IS_COLAB:\n",
    "    !curl -X POST \\\n",
    "      -d @instances.json \\\n",
    "      -H \"Content-Type: application/json; charset=utf-8\" \\\n",
    "      localhost/predict"
   ]
  },
  {
   "cell_type": "markdown",
   "metadata": {},
   "source": [
    "Stop the container locally."
   ]
  },
  {
   "cell_type": "code",
   "execution_count": 48,
   "metadata": {
    "id": "a29fcbbe0188"
   },
   "outputs": [],
   "source": [
    "if not IS_COLAB:\n",
    "    !sudo docker stop local-ts"
   ]
  },
  {
   "cell_type": "markdown",
   "metadata": {
    "id": "212b2935ea12"
   },
   "source": [
    "### Push the container to artifact registry\n",
    "\n",
    "Configure Docker to access Artifact Registry. Then push your container image to your Artifact Registry repository."
   ]
  },
  {
   "cell_type": "markdown",
   "metadata": {
    "id": "e50889433e7c"
   },
   "source": [
    "#### Enable the Artifact Registry API\n",
    "Make sure to enable the Artifact Registry API here if you haven't already enabled."
   ]
  },
  {
   "cell_type": "code",
   "execution_count": 49,
   "metadata": {
    "id": "2421806f522f"
   },
   "outputs": [],
   "source": [
    "!gcloud services enable artifactregistry.googleapis.com"
   ]
  },
  {
   "cell_type": "markdown",
   "metadata": {
    "id": "7ede5e7fa60d"
   },
   "source": [
    "Run this below cell once to create the artifact repository."
   ]
  },
  {
   "cell_type": "code",
   "execution_count": 50,
   "metadata": {
    "id": "8b2c683d1e2d"
   },
   "outputs": [],
   "source": [
    "!gcloud beta artifacts repositories create {REPOSITORY} \\\n",
    " --repository-format=docker \\\n",
    " --location=$REGION"
   ]
  },
  {
   "cell_type": "markdown",
   "metadata": {},
   "source": [
    "Push the image to the created artifact repository using Cloud-Build."
   ]
  },
  {
   "cell_type": "code",
   "execution_count": 51,
   "metadata": {
    "id": "1dd7448f4703",
    "scrolled": true,
    "tags": []
   },
   "outputs": [],
   "source": [
    "!gcloud builds submit --region={REGION} --tag={REGION}-docker.pkg.dev/{PROJECT_ID}/{REPOSITORY}/{IMAGE}"
   ]
  },
  {
   "cell_type": "markdown",
   "metadata": {
    "id": "b438bfa2129f"
   },
   "source": [
    "## Deploy to Vertex AI\n",
    "\n",
    "### Create Vertex AI model using artifact uri\n",
    "Use the Python SDK to upload and deploy your model from the artifact registry."
   ]
  },
  {
   "cell_type": "code",
   "execution_count": 52,
   "metadata": {
    "id": "2738154345d5"
   },
   "outputs": [],
   "source": [
    "from google.cloud import aiplatform\n",
    "\n",
    "aiplatform.init(project=PROJECT_ID, location=REGION)\n",
    "\n",
    "model = aiplatform.Model.upload(\n",
    "    display_name=MODEL_DISPLAY_NAME,\n",
    "    artifact_uri=f\"{BUCKET_URI}/{MODEL_ARTIFACT_DIR}\",\n",
    "    serving_container_image_uri=f\"{REGION}-docker.pkg.dev/{PROJECT_ID}/{REPOSITORY}/{IMAGE}\",\n",
    ")"
   ]
  },
  {
   "cell_type": "markdown",
   "metadata": {
    "id": "bd1b85afc7df"
   },
   "source": [
    "### Deploy the model to endpoint\n",
    "\n",
    "Deploy the model to an endpoint. After this step completes, the model is deployed and ready for online predictions."
   ]
  },
  {
   "cell_type": "code",
   "execution_count": 53,
   "metadata": {
    "id": "62cf66498a28"
   },
   "outputs": [],
   "source": [
    "endpoint = model.deploy(machine_type=\"n1-standard-4\")"
   ]
  },
  {
   "cell_type": "markdown",
   "metadata": {
    "id": "6883e7b07143"
   },
   "source": [
    "## Request predictions\n",
    "\n",
    "Send online requests to the model deployed to the endpoint and get predictions.\n",
    "\n",
    "### Using Python SDK\n",
    "\n",
    "Get predictions from the endpoint using python SDK."
   ]
  },
  {
   "cell_type": "code",
   "execution_count": 54,
   "metadata": {
    "id": "fd5d8ea367ea"
   },
   "outputs": [],
   "source": [
    "# Send an instance for the model without regressor\n",
    "endpoint.predict(instances=[{\"category\": [\"1012100\"], \"days\": [30], \"regressor\": [\"\"]}])"
   ]
  },
  {
   "cell_type": "code",
   "execution_count": 55,
   "metadata": {
    "id": "6a0ed7c9917d"
   },
   "outputs": [],
   "source": [
    "# Send an instance for the model with regressor\n",
    "endpoint.predict(\n",
    "    instances=[{\"category\": [\"1012100\"], \"days\": [30], \"regressor\": [\"_weather\"]}]\n",
    ")"
   ]
  },
  {
   "cell_type": "markdown",
   "metadata": {
    "id": "370d22f53427"
   },
   "source": [
    "### Using REST\n",
    "\n",
    "Get predictions from the endpoint using curl request."
   ]
  },
  {
   "cell_type": "code",
   "execution_count": 56,
   "metadata": {
    "id": "ba55bc560d58"
   },
   "outputs": [],
   "source": [
    "ENDPOINT_ID = endpoint.name"
   ]
  },
  {
   "cell_type": "code",
   "execution_count": 57,
   "metadata": {
    "id": "95c562b4e98b",
    "scrolled": true,
    "tags": []
   },
   "outputs": [],
   "source": [
    "! curl \\\n",
    "-H \"Authorization: Bearer $(gcloud auth print-access-token)\" \\\n",
    "-H \"Content-Type: application/json\" \\\n",
    "-d @instances.json \\\n",
    "https://{REGION}-aiplatform.googleapis.com/v1/projects/{PROJECT_ID}/locations/{REGION}/endpoints/{ENDPOINT_ID}:predict"
   ]
  },
  {
   "cell_type": "markdown",
   "metadata": {
    "id": "fa71174a7dd0"
   },
   "source": [
    "### Using gcloud CLI\n",
    "\n",
    "Get predictions from the endpoint using gcloud CLI."
   ]
  },
  {
   "cell_type": "code",
   "execution_count": 58,
   "metadata": {
    "id": "23b8e807b02c"
   },
   "outputs": [],
   "source": [
    "!gcloud beta ai endpoints predict $ENDPOINT_ID \\\n",
    "  --region=$REGION \\\n",
    "  --json-request=instances.json"
   ]
  },
  {
   "cell_type": "markdown",
   "metadata": {
    "id": "TpV-iwP9qw9c"
   },
   "source": [
    "## Cleaning up\n",
    "\n",
    "To clean up all the Google Cloud resources used in this project, you can [delete the Google Cloud\n",
    "project](https://cloud.google.com/resource-manager/docs/creating-managing-projects#shutting_down_projects) you used for the tutorial.\n",
    "\n",
    "Otherwise, you can delete the individual resources you created in this tutorial:"
   ]
  },
  {
   "cell_type": "code",
   "execution_count": 59,
   "metadata": {
    "id": "sx_vKniMq9ZX"
   },
   "outputs": [],
   "source": [
    "# Undeploy model and delete endpoint\n",
    "endpoint.undeploy_all()\n",
    "endpoint.delete()\n",
    "\n",
    "# Delete the model resource\n",
    "model.delete()\n",
    "\n",
    "# Delete the container image from Artifact Registry\n",
    "!gcloud artifacts docker images delete \\\n",
    "    --quiet \\\n",
    "    --delete-tags \\\n",
    "    {REGION}-docker.pkg.dev/{PROJECT_ID}/{REPOSITORY}/{IMAGE}"
   ]
  },
  {
   "cell_type": "markdown",
   "metadata": {
    "id": "150164204e73"
   },
   "source": [
    "Set the `delete_bucket` to **True** to delete the Cloud Storage bucket.\n",
    "\n",
    "Set the `delete_art_repo` to **True** to delete the Artifact Registry."
   ]
  },
  {
   "cell_type": "code",
   "execution_count": 60,
   "metadata": {
    "id": "16a4d820e126"
   },
   "outputs": [],
   "source": [
    "delete_bucket = False\n",
    "delete_art_repo = False\n",
    "\n",
    "# Delete the Cloud Storage bucket\n",
    "if delete_bucket or os.getenv(\"IS_TESTING\"):\n",
    "    ! gsutil rm -r $BUCKET_URI\n",
    "\n",
    "# Delete the artifact registry\n",
    "if delete_art_repo or os.getenv(\"IS_TESTING\"):\n",
    "    ! gcloud beta artifacts repositories delete {REPOSITORY} --location=$REGION -q"
   ]
  }
 ],
 "metadata": {
  "colab": {
   "collapsed_sections": [],
   "name": "SDK_FBProphet_Forecasting_Online.ipynb",
   "toc_visible": true
  },
  "environment": {
   "kernel": "conda-env-prophet_sdk-py",
   "name": "common-cpu.m90",
   "type": "gcloud",
   "uri": "gcr.io/deeplearning-platform-release/base-cpu:m90"
  },
  "kernelspec": {
   "display_name": "Python [conda env:prophet_sdk]",
   "language": "python",
   "name": "conda-env-prophet_sdk-py"
  },
  "language_info": {
   "codemirror_mode": {
    "name": "ipython",
    "version": 3
   },
   "file_extension": ".py",
   "mimetype": "text/x-python",
   "name": "python",
   "nbconvert_exporter": "python",
   "pygments_lexer": "ipython3",
   "version": "3.10.5"
  }
 },
 "nbformat": 4,
 "nbformat_minor": 4
}
