{
 "cells": [
  {
   "cell_type": "code",
   "execution_count": null,
   "metadata": {
    "id": "copyright"
   },
   "outputs": [],
   "source": [
    "# Copyright 2022 Google LLC\n",
    "#\n",
    "# Licensed under the Apache License, Version 2.0 (the \"License\");\n",
    "# you may not use this file except in compliance with the License.\n",
    "# You may obtain a copy of the License at\n",
    "#\n",
    "#     https://www.apache.org/licenses/LICENSE-2.0\n",
    "#\n",
    "# Unless required by applicable law or agreed to in writing, software\n",
    "# distributed under the Lice`nse is distributed on an \"AS IS\" BASIS,\n",
    "# WITHOUT WARRANTIES OR CONDITIONS OF ANY KIND, either express or implied.\n",
    "# See the License for the specific language governing permissions and\n",
    "# limitations under the License."
   ]
  },
  {
   "cell_type": "markdown",
   "metadata": {
    "id": "title"
   },
   "source": [
    "# Vertex AI SDK : AutoML training image object detection model for batch prediction\n",
    "\n",
    "<table align=\"left\">\n",
    " \n",
    "  <td>\n",
    "    <a href=\"https://colab.research.google.com/github/GoogleCloudPlatform/vertex-ai-samples/blob/main/notebooks/official/automl/sdk_automl_image_object_detection_batch.ipynb\">\n",
    "      <img src=\"https://cloud.google.com/ml-engine/images/colab-logo-32px.png\" alt=\"Colab logo\"> Run in Colab\n",
    "    </a>\n",
    "  </td>\n",
    "  <td>\n",
    "    <a href=\"https://github.com/GoogleCloudPlatform/vertex-ai-samples/blob/main/notebooks/official/automl/sdk_automl_image_object_detection_batch.ipynb\">\n",
    "      <img src=\"https://cloud.google.com/ml-engine/images/github-logo-32px.png\" alt=\"GitHub logo\">\n",
    "      View on GitHub\n",
    "    </a>\n",
    "  </td>\n",
    "  <td>\n",
    "    <a href=\"https://console.cloud.google.com/vertex-ai/workbench/deploy-notebook?download_url=https://github.com/GoogleCloudPlatform/vertex-ai-samples/blob/main/notebooks/official/automl/sdk_automl_image_object_detection_batch.ipynb\">\n",
    "      <img src=\"https://lh3.googleusercontent.com/UiNooY4LUgW_oTvpsNhPpQzsstV5W8F7rYgxgGBD85cWJoLmrOzhVs_ksK_vgx40SHs7jCqkTkCk=e14-rj-sc0xffffff-h130-w32\" alt=\"Vertex AI logo\">\n",
    "      Open in Vertex AI Workbench\n",
    "    </a>\n",
    "  </td>                    \n",
    "</table>\n",
    "<br/><br/><br/>"
   ]
  },
  {
   "cell_type": "markdown",
   "metadata": {
    "id": "overview:automl"
   },
   "source": [
    "## Overview\n",
    "\n",
    "\n",
    "This tutorial demonstrates how to use the Vertex AI SDK to create image object detection models and do batch prediction using a Google Cloud [AutoML](https://cloud.google.com/vertex-ai/docs/start/automl-users) model."
   ]
  },
  {
   "cell_type": "markdown",
   "metadata": {
    "id": "dataset:salads,iod"
   },
   "source": [
    "### Dataset\n",
    "\n",
    "The dataset used for this tutorial is the Salads category of the [OpenImages dataset](https://www.tensorflow.org/datasets/catalog/open_images_v4) from [TensorFlow Datasets](https://www.tensorflow.org/datasets/catalog/overview). This dataset does not require any feature engineering. The version of the dataset you will use in this tutorial is stored in a public Cloud Storage bucket. The trained model predicts the bounding box locations and the corresponding type of salad items in an image from a class of five items: salad, seafood, tomato, baked goods, or cheese."
   ]
  },
  {
   "cell_type": "markdown",
   "metadata": {
    "id": "objective:automl,training,batch_prediction"
   },
   "source": [
    "### Objective\n",
    "\n",
    "In this tutorial, you create an AutoML image object detection model from a Python script, and then do a batch prediction using the Vertex AI SDK. You can alternatively create and deploy models using the `gcloud` command-line tool or online using the Cloud Console.\n",
    "\n",
    "The steps performed include:\n",
    "\n",
    "- Create a Vertex `Dataset` resource.\n",
    "- Train the model.\n",
    "- View the model evaluation.\n",
    "- Make a batch prediction.\n",
    "\n",
    "There is one key difference between using batch prediction and using online prediction:\n",
    "\n",
    "* Prediction Service: Does an on-demand prediction for the entire set of instances (i.e., one or more data items) and returns the results in real-time.\n",
    "\n",
    "* Batch Prediction Service: Does a queued (batch) prediction for the entire set of instances in the background and stores the results in a Cloud Storage bucket when ready."
   ]
  },
  {
   "cell_type": "markdown",
   "metadata": {
    "id": "costs"
   },
   "source": [
    "### Costs\n",
    "\n",
    "This tutorial uses billable components of Google Cloud:\n",
    "\n",
    "* Vertex AI\n",
    "* Cloud Storage\n",
    "\n",
    "Learn about [Vertex AI\n",
    "pricing](https://cloud.google.com/vertex-ai/pricing) and [Cloud Storage\n",
    "pricing](https://cloud.google.com/storage/pricing), and use the [Pricing\n",
    "Calculator](https://cloud.google.com/products/calculator/)\n",
    "to generate a cost estimate based on your projected usage."
   ]
  },
  {
   "cell_type": "markdown",
   "metadata": {
    "id": "setup_local"
   },
   "source": [
    "### Set up your local development environment\n",
    "\n",
    "If you are using Colab or Google Cloud Notebooks, your environment already meets all the requirements to run this notebook. You can skip this step.\n",
    "\n",
    "Otherwise, make sure your environment meets this notebook's requirements. You need the following:\n",
    "\n",
    "- The Cloud Storage SDK\n",
    "- Git\n",
    "- Python 3\n",
    "- virtualenv\n",
    "- Jupyter notebook running in a virtual environment with Python 3\n",
    "\n",
    "The Cloud Storage guide to [Setting up a Python development environment](https://cloud.google.com/python/setup) and the [Jupyter installation guide](https://jupyter.org/install) provide detailed instructions for meeting these requirements. The following steps provide a condensed set of instructions:\n",
    "\n",
    "1. [Install and initialize the SDK](https://cloud.google.com/sdk/docs/).\n",
    "\n",
    "2. [Install Python 3](https://cloud.google.com/python/setup#installing_python).\n",
    "\n",
    "3. [Install virtualenv](https://cloud.google.com/python/setup#installing_and_using_virtualenv) and create a virtual environment that uses Python 3.  Activate the virtual environment.\n",
    "\n",
    "4. To install Jupyter, run `pip3 install jupyter` on the command-line in a terminal shell.\n",
    "\n",
    "5. To launch Jupyter, run `jupyter notebook` on the command-line in a terminal shell.\n",
    "\n",
    "6. Open this notebook in the Jupyter Notebook Dashboard.\n"
   ]
  },
  {
   "cell_type": "markdown",
   "metadata": {
    "id": "install_aip:mbsdk"
   },
   "source": [
    "## Installation\n",
    "\n",
    "Install the latest version of Vertex AI SDK for Python."
   ]
  },
  {
   "cell_type": "code",
   "execution_count": null,
   "metadata": {
    "id": "hw7H6ADSv5mI"
   },
   "outputs": [],
   "source": [
    "import os\n",
    "\n",
    "# Google Cloud Notebook\n",
    "if os.path.exists(\"/opt/deeplearning/metadata/env_version\"):\n",
    "    USER_FLAG = \"--user\"\n",
    "else:\n",
    "    USER_FLAG = \"\"\n",
    "\n",
    "! pip3 install --upgrade google-cloud-aiplatform $USER_FLAG"
   ]
  },
  {
   "cell_type": "markdown",
   "metadata": {
    "id": "install_storage"
   },
   "source": [
    "Install the latest GA version of *google-cloud-storage* library."
   ]
  },
  {
   "cell_type": "code",
   "execution_count": 3,
   "metadata": {
    "colab": {
     "base_uri": "https://localhost:8080/"
    },
    "collapsed": true,
    "id": "d6Pa6Sybv5mK",
    "jupyter": {
     "outputs_hidden": true
    },
    "outputId": "93e56706-1c83-4984-ff4c-8b3c4f385b47",
    "tags": []
   },
   "outputs": [
    {
     "name": "stdout",
     "output_type": "stream",
     "text": [
      "Requirement already satisfied: google-cloud-storage in /usr/local/lib/python3.7/dist-packages (2.3.0)\n",
      "Requirement already satisfied: google-api-core!=2.0.*,!=2.1.*,!=2.2.*,!=2.3.0,<3.0.0dev,>=1.31.5 in /usr/local/lib/python3.7/dist-packages (from google-cloud-storage) (1.31.5)\n",
      "Requirement already satisfied: google-cloud-core<3.0dev,>=2.3.0 in /usr/local/lib/python3.7/dist-packages (from google-cloud-storage) (2.3.0)\n",
      "Requirement already satisfied: protobuf in /usr/local/lib/python3.7/dist-packages (from google-cloud-storage) (3.20.1)\n",
      "Requirement already satisfied: requests<3.0.0dev,>=2.18.0 in /usr/local/lib/python3.7/dist-packages (from google-cloud-storage) (2.23.0)\n",
      "Requirement already satisfied: google-auth<3.0dev,>=1.25.0 in /usr/local/lib/python3.7/dist-packages (from google-cloud-storage) (1.35.0)\n",
      "Requirement already satisfied: google-resumable-media>=2.3.2 in /usr/local/lib/python3.7/dist-packages (from google-cloud-storage) (2.3.2)\n",
      "Requirement already satisfied: six>=1.13.0 in /usr/local/lib/python3.7/dist-packages (from google-api-core!=2.0.*,!=2.1.*,!=2.2.*,!=2.3.0,<3.0.0dev,>=1.31.5->google-cloud-storage) (1.15.0)\n",
      "Requirement already satisfied: packaging>=14.3 in /usr/local/lib/python3.7/dist-packages (from google-api-core!=2.0.*,!=2.1.*,!=2.2.*,!=2.3.0,<3.0.0dev,>=1.31.5->google-cloud-storage) (21.3)\n",
      "Requirement already satisfied: setuptools>=40.3.0 in /usr/local/lib/python3.7/dist-packages (from google-api-core!=2.0.*,!=2.1.*,!=2.2.*,!=2.3.0,<3.0.0dev,>=1.31.5->google-cloud-storage) (57.4.0)\n",
      "Requirement already satisfied: googleapis-common-protos<2.0dev,>=1.6.0 in /usr/local/lib/python3.7/dist-packages (from google-api-core!=2.0.*,!=2.1.*,!=2.2.*,!=2.3.0,<3.0.0dev,>=1.31.5->google-cloud-storage) (1.56.0)\n",
      "Requirement already satisfied: pytz in /usr/local/lib/python3.7/dist-packages (from google-api-core!=2.0.*,!=2.1.*,!=2.2.*,!=2.3.0,<3.0.0dev,>=1.31.5->google-cloud-storage) (2022.1)\n",
      "Requirement already satisfied: pyasn1-modules>=0.2.1 in /usr/local/lib/python3.7/dist-packages (from google-auth<3.0dev,>=1.25.0->google-cloud-storage) (0.2.8)\n",
      "Requirement already satisfied: cachetools<5.0,>=2.0.0 in /usr/local/lib/python3.7/dist-packages (from google-auth<3.0dev,>=1.25.0->google-cloud-storage) (4.2.4)\n",
      "Requirement already satisfied: rsa<5,>=3.1.4 in /usr/local/lib/python3.7/dist-packages (from google-auth<3.0dev,>=1.25.0->google-cloud-storage) (4.8)\n",
      "Requirement already satisfied: google-crc32c<2.0dev,>=1.0 in /usr/local/lib/python3.7/dist-packages (from google-resumable-media>=2.3.2->google-cloud-storage) (1.3.0)\n",
      "Requirement already satisfied: pyparsing!=3.0.5,>=2.0.2 in /usr/local/lib/python3.7/dist-packages (from packaging>=14.3->google-api-core!=2.0.*,!=2.1.*,!=2.2.*,!=2.3.0,<3.0.0dev,>=1.31.5->google-cloud-storage) (3.0.8)\n",
      "Requirement already satisfied: pyasn1<0.5.0,>=0.4.6 in /usr/local/lib/python3.7/dist-packages (from pyasn1-modules>=0.2.1->google-auth<3.0dev,>=1.25.0->google-cloud-storage) (0.4.8)\n",
      "Requirement already satisfied: urllib3!=1.25.0,!=1.25.1,<1.26,>=1.21.1 in /usr/local/lib/python3.7/dist-packages (from requests<3.0.0dev,>=2.18.0->google-cloud-storage) (1.24.3)\n",
      "Requirement already satisfied: chardet<4,>=3.0.2 in /usr/local/lib/python3.7/dist-packages (from requests<3.0.0dev,>=2.18.0->google-cloud-storage) (3.0.4)\n",
      "Requirement already satisfied: idna<3,>=2.5 in /usr/local/lib/python3.7/dist-packages (from requests<3.0.0dev,>=2.18.0->google-cloud-storage) (2.10)\n",
      "Requirement already satisfied: certifi>=2017.4.17 in /usr/local/lib/python3.7/dist-packages (from requests<3.0.0dev,>=2.18.0->google-cloud-storage) (2021.10.8)\n"
     ]
    }
   ],
   "source": [
    "! pip3 install -U google-cloud-storage $USER_FLAG"
   ]
  },
  {
   "cell_type": "markdown",
   "metadata": {
    "id": "9_zWlX10v5mL"
   },
   "source": [
    "Install the latest version of *tensorflow* library."
   ]
  },
  {
   "cell_type": "code",
   "execution_count": 2,
   "metadata": {
    "colab": {
     "base_uri": "https://localhost:8080/"
    },
    "collapsed": true,
    "id": "install_tensorflow",
    "jupyter": {
     "outputs_hidden": true
    },
    "outputId": "f47ba9f4-41f8-4c5e-eecf-36f0156ef782",
    "tags": []
   },
   "outputs": [
    {
     "name": "stdout",
     "output_type": "stream",
     "text": [
      "Requirement already satisfied: tensorflow in /usr/local/lib/python3.7/dist-packages (2.8.0)\n",
      "Requirement already satisfied: protobuf>=3.9.2 in /usr/local/lib/python3.7/dist-packages (from tensorflow) (3.20.1)\n",
      "Requirement already satisfied: opt-einsum>=2.3.2 in /usr/local/lib/python3.7/dist-packages (from tensorflow) (3.3.0)\n",
      "Requirement already satisfied: tensorboard<2.9,>=2.8 in /usr/local/lib/python3.7/dist-packages (from tensorflow) (2.8.0)\n",
      "Requirement already satisfied: typing-extensions>=3.6.6 in /usr/local/lib/python3.7/dist-packages (from tensorflow) (4.2.0)\n",
      "Requirement already satisfied: keras<2.9,>=2.8.0rc0 in /usr/local/lib/python3.7/dist-packages (from tensorflow) (2.8.0)\n",
      "Requirement already satisfied: astunparse>=1.6.0 in /usr/local/lib/python3.7/dist-packages (from tensorflow) (1.6.3)\n",
      "Requirement already satisfied: wrapt>=1.11.0 in /usr/local/lib/python3.7/dist-packages (from tensorflow) (1.14.0)\n",
      "Requirement already satisfied: tensorflow-io-gcs-filesystem>=0.23.1 in /usr/local/lib/python3.7/dist-packages (from tensorflow) (0.24.0)\n",
      "Requirement already satisfied: numpy>=1.20 in /usr/local/lib/python3.7/dist-packages (from tensorflow) (1.21.6)\n",
      "Requirement already satisfied: libclang>=9.0.1 in /usr/local/lib/python3.7/dist-packages (from tensorflow) (13.0.0)\n",
      "Requirement already satisfied: grpcio<2.0,>=1.24.3 in /usr/local/lib/python3.7/dist-packages (from tensorflow) (1.44.0)\n",
      "Requirement already satisfied: termcolor>=1.1.0 in /usr/local/lib/python3.7/dist-packages (from tensorflow) (1.1.0)\n",
      "Requirement already satisfied: setuptools in /usr/local/lib/python3.7/dist-packages (from tensorflow) (57.4.0)\n",
      "Requirement already satisfied: six>=1.12.0 in /usr/local/lib/python3.7/dist-packages (from tensorflow) (1.15.0)\n",
      "Requirement already satisfied: gast>=0.2.1 in /usr/local/lib/python3.7/dist-packages (from tensorflow) (0.5.3)\n",
      "Requirement already satisfied: absl-py>=0.4.0 in /usr/local/lib/python3.7/dist-packages (from tensorflow) (1.0.0)\n",
      "Requirement already satisfied: flatbuffers>=1.12 in /usr/local/lib/python3.7/dist-packages (from tensorflow) (2.0)\n",
      "Requirement already satisfied: keras-preprocessing>=1.1.1 in /usr/local/lib/python3.7/dist-packages (from tensorflow) (1.1.2)\n",
      "Collecting tf-estimator-nightly==2.8.0.dev2021122109\n",
      "  Downloading tf_estimator_nightly-2.8.0.dev2021122109-py2.py3-none-any.whl (462 kB)\n",
      "\u001b[K     |████████████████████████████████| 462 kB 5.3 MB/s \n",
      "\u001b[?25hRequirement already satisfied: h5py>=2.9.0 in /usr/local/lib/python3.7/dist-packages (from tensorflow) (3.1.0)\n",
      "Requirement already satisfied: google-pasta>=0.1.1 in /usr/local/lib/python3.7/dist-packages (from tensorflow) (0.2.0)\n",
      "Requirement already satisfied: wheel<1.0,>=0.23.0 in /usr/local/lib/python3.7/dist-packages (from astunparse>=1.6.0->tensorflow) (0.37.1)\n",
      "Requirement already satisfied: cached-property in /usr/local/lib/python3.7/dist-packages (from h5py>=2.9.0->tensorflow) (1.5.2)\n",
      "Requirement already satisfied: markdown>=2.6.8 in /usr/local/lib/python3.7/dist-packages (from tensorboard<2.9,>=2.8->tensorflow) (3.3.6)\n",
      "Requirement already satisfied: requests<3,>=2.21.0 in /usr/local/lib/python3.7/dist-packages (from tensorboard<2.9,>=2.8->tensorflow) (2.23.0)\n",
      "Requirement already satisfied: tensorboard-data-server<0.7.0,>=0.6.0 in /usr/local/lib/python3.7/dist-packages (from tensorboard<2.9,>=2.8->tensorflow) (0.6.1)\n",
      "Requirement already satisfied: google-auth<3,>=1.6.3 in /usr/local/lib/python3.7/dist-packages (from tensorboard<2.9,>=2.8->tensorflow) (1.35.0)\n",
      "Requirement already satisfied: werkzeug>=0.11.15 in /usr/local/lib/python3.7/dist-packages (from tensorboard<2.9,>=2.8->tensorflow) (1.0.1)\n",
      "Requirement already satisfied: tensorboard-plugin-wit>=1.6.0 in /usr/local/lib/python3.7/dist-packages (from tensorboard<2.9,>=2.8->tensorflow) (1.8.1)\n",
      "Requirement already satisfied: google-auth-oauthlib<0.5,>=0.4.1 in /usr/local/lib/python3.7/dist-packages (from tensorboard<2.9,>=2.8->tensorflow) (0.4.6)\n",
      "Requirement already satisfied: pyasn1-modules>=0.2.1 in /usr/local/lib/python3.7/dist-packages (from google-auth<3,>=1.6.3->tensorboard<2.9,>=2.8->tensorflow) (0.2.8)\n",
      "Requirement already satisfied: rsa<5,>=3.1.4 in /usr/local/lib/python3.7/dist-packages (from google-auth<3,>=1.6.3->tensorboard<2.9,>=2.8->tensorflow) (4.8)\n",
      "Requirement already satisfied: cachetools<5.0,>=2.0.0 in /usr/local/lib/python3.7/dist-packages (from google-auth<3,>=1.6.3->tensorboard<2.9,>=2.8->tensorflow) (4.2.4)\n",
      "Requirement already satisfied: requests-oauthlib>=0.7.0 in /usr/local/lib/python3.7/dist-packages (from google-auth-oauthlib<0.5,>=0.4.1->tensorboard<2.9,>=2.8->tensorflow) (1.3.1)\n",
      "Requirement already satisfied: importlib-metadata>=4.4 in /usr/local/lib/python3.7/dist-packages (from markdown>=2.6.8->tensorboard<2.9,>=2.8->tensorflow) (4.11.3)\n",
      "Requirement already satisfied: zipp>=0.5 in /usr/local/lib/python3.7/dist-packages (from importlib-metadata>=4.4->markdown>=2.6.8->tensorboard<2.9,>=2.8->tensorflow) (3.8.0)\n",
      "Requirement already satisfied: pyasn1<0.5.0,>=0.4.6 in /usr/local/lib/python3.7/dist-packages (from pyasn1-modules>=0.2.1->google-auth<3,>=1.6.3->tensorboard<2.9,>=2.8->tensorflow) (0.4.8)\n",
      "Requirement already satisfied: urllib3!=1.25.0,!=1.25.1,<1.26,>=1.21.1 in /usr/local/lib/python3.7/dist-packages (from requests<3,>=2.21.0->tensorboard<2.9,>=2.8->tensorflow) (1.24.3)\n",
      "Requirement already satisfied: idna<3,>=2.5 in /usr/local/lib/python3.7/dist-packages (from requests<3,>=2.21.0->tensorboard<2.9,>=2.8->tensorflow) (2.10)\n",
      "Requirement already satisfied: chardet<4,>=3.0.2 in /usr/local/lib/python3.7/dist-packages (from requests<3,>=2.21.0->tensorboard<2.9,>=2.8->tensorflow) (3.0.4)\n",
      "Requirement already satisfied: certifi>=2017.4.17 in /usr/local/lib/python3.7/dist-packages (from requests<3,>=2.21.0->tensorboard<2.9,>=2.8->tensorflow) (2021.10.8)\n",
      "Requirement already satisfied: oauthlib>=3.0.0 in /usr/local/lib/python3.7/dist-packages (from requests-oauthlib>=0.7.0->google-auth-oauthlib<0.5,>=0.4.1->tensorboard<2.9,>=2.8->tensorflow) (3.2.0)\n",
      "Installing collected packages: tf-estimator-nightly\n",
      "Successfully installed tf-estimator-nightly-2.8.0.dev2021122109\n"
     ]
    }
   ],
   "source": [
    "! pip3 install --upgrade tensorflow $USER_FLAG"
   ]
  },
  {
   "cell_type": "markdown",
   "metadata": {
    "id": "restart"
   },
   "source": [
    "### Restart the kernel\n",
    "\n",
    "Once you've installed the additional packages, you need to restart the notebook kernel so it can find the packages."
   ]
  },
  {
   "cell_type": "code",
   "execution_count": 4,
   "metadata": {
    "id": "D-ZBOjErv5mM"
   },
   "outputs": [],
   "source": [
    "import os\n",
    "\n",
    "if not os.getenv(\"IS_TESTING\"):\n",
    "    # Automatically restart kernel after installs\n",
    "    import IPython\n",
    "\n",
    "    app = IPython.Application.instance()\n",
    "    app.kernel.do_shutdown(True)"
   ]
  },
  {
   "cell_type": "markdown",
   "metadata": {
    "id": "before_you_begin:nogpu"
   },
   "source": [
    "## Before you begin\n",
    "\n",
    "### GPU runtime\n",
    "\n",
    "This tutorial does not require a GPU runtime.\n",
    "\n",
    "### Set up your Google Cloud project\n",
    "\n",
    "**The following steps are required, regardless of your notebook environment.**\n",
    "\n",
    "1. [Select or create a Google Cloud project](https://console.cloud.google.com/cloud-resource-manager). When you first create an account, you get a $300 free credit towards your compute/storage costs.\n",
    "\n",
    "2. [Make sure that billing is enabled for your project.](https://cloud.google.com/billing/docs/how-to/modify-project)\n",
    "\n",
    "3. [Enable the following APIs: Vertex AI APIs, Compute Engine APIs, and Cloud Storage.](https://console.cloud.google.com/flows/enableapi?apiid=ml.googleapis.com,compute_component,storage-component.googleapis.com)\n",
    "\n",
    "4. If you are running this notebook locally, you will need to install the [Cloud SDK]((https://cloud.google.com/sdk)).\n",
    "\n",
    "5. Enter your project ID in the cell below. Then run the  cell to make sure the\n",
    "Cloud SDK uses the right project for all the commands in this notebook.\n",
    "\n",
    "**Note**: Jupyter runs lines prefixed with `!` as shell commands, and it interpolates Python variables prefixed with `$`."
   ]
  },
  {
   "cell_type": "code",
   "execution_count": 2,
   "metadata": {
    "id": "set_project_id"
   },
   "outputs": [],
   "source": [
    "import os\n",
    "PROJECT_ID = \"\"\n"
   ]
  },
  {
   "cell_type": "code",
   "execution_count": 3,
   "metadata": {
    "colab": {
     "base_uri": "https://localhost:8080/"
    },
    "id": "autoset_project_id",
    "outputId": "814436bd-ceb5-4fbb-e348-03e55e8f49ea"
   },
   "outputs": [
    {
     "name": "stdout",
     "output_type": "stream",
     "text": [
      "Project ID:  \n"
     ]
    }
   ],
   "source": [
    "# Get your Google Cloud project ID from gcloud\n",
    "if not os.getenv(\"IS_TESTING\"):\n",
    "    shell_output = !gcloud config list --format 'value(core.project)' 2>/dev/null\n",
    "    PROJECT_ID = shell_output[0]\n",
    "    print(\"Project ID: \", PROJECT_ID)"
   ]
  },
  {
   "cell_type": "markdown",
   "metadata": {
    "id": "W2F5WRyhv5mO"
   },
   "source": [
    "Otherwise, set your project ID here."
   ]
  },
  {
   "cell_type": "code",
   "execution_count": 4,
   "metadata": {
    "id": "d7-MjQafv5mO"
   },
   "outputs": [],
   "source": [
    "if PROJECT_ID == \"\" or PROJECT_ID is None:\n",
    "    PROJECT_ID = \"[your-project-id]\"  # @param {type:\"string\"}"
   ]
  },
  {
   "cell_type": "code",
   "execution_count": 5,
   "metadata": {
    "colab": {
     "base_uri": "https://localhost:8080/"
    },
    "id": "set_gcloud_project_id",
    "outputId": "81f84327-fb0e-46a3-8455-5586ac19da1c"
   },
   "outputs": [
    {
     "name": "stdout",
     "output_type": "stream",
     "text": [
      "Updated property [core/project].\n"
     ]
    }
   ],
   "source": [
    "! gcloud config set project $PROJECT_ID"
   ]
  },
  {
   "cell_type": "markdown",
   "metadata": {
    "id": "region"
   },
   "source": [
    "#### Region\n",
    "\n",
    "You can also change the `REGION` variable, which is used for operations\n",
    "throughout the rest of this notebook.  Below are regions supported for Vertex AI. We recommend that you choose the region closest to you.\n",
    "\n",
    "- Americas: `us-central1`\n",
    "- Europe: `europe-west4`\n",
    "- Asia Pacific: `asia-east1`\n",
    "\n",
    "You may not use a multi-regional bucket for training with Vertex AI. Not all regions provide support for all Vertex AI services.\n",
    "\n",
    "Learn more about [Vertex AI regions](https://cloud.google.com/vertex-ai/docs/general/locations)"
   ]
  },
  {
   "cell_type": "code",
   "execution_count": 6,
   "metadata": {
    "id": "kAfG6tDAv5mQ"
   },
   "outputs": [],
   "source": [
    "REGION = \"[your-region]\"  # @param {type:\"string\"}\n",
    "\n",
    "if REGION == \"[your-region]\":\n",
    "    REGION = \"us-central1\""
   ]
  },
  {
   "cell_type": "markdown",
   "metadata": {
    "id": "timestamp"
   },
   "source": [
    "#### Timestamp\n",
    "\n",
    "If you are in a live tutorial session, you might be using a shared test account or project. To avoid name collisions between users on resources created, you create a timestamp for each instance session, and append the timestamp onto the name of resources you create in this tutorial."
   ]
  },
  {
   "cell_type": "code",
   "execution_count": 7,
   "metadata": {
    "id": "PzKW-zT_v5mR"
   },
   "outputs": [],
   "source": [
    "from datetime import datetime\n",
    "\n",
    "TIMESTAMP = datetime.now().strftime(\"%Y%m%d%H%M%S\")"
   ]
  },
  {
   "cell_type": "markdown",
   "metadata": {
    "id": "gcp_authenticate"
   },
   "source": [
    "### Authenticate your Google Cloud account\n",
    "\n",
    "**If you are using Google Cloud Notebooks**, your environment is already authenticated. Skip this step.\n",
    "\n",
    "**If you are using Colab**, run the cell below and follow the instructions when prompted to authenticate your account via oAuth.\n",
    "\n",
    "**Otherwise**, follow these steps:\n",
    "\n",
    "In the Cloud Console, go to the [Create service account key](https://console.cloud.google.com/apis/credentials/serviceaccountkey) page.\n",
    "\n",
    "**Click Create service account**.\n",
    "\n",
    "In the **Service account name** field, enter a name, and click **Create**.\n",
    "\n",
    "In the **Grant this service account access to project** section, click the Role drop-down list. Type \"Vertex\" into the filter box, and select **Vertex Administrator**. Type \"Storage Object Admin\" into the filter box, and select **Storage Object Admin**.\n",
    "\n",
    "Click Create. A JSON file that contains your key downloads to your local environment.\n",
    "\n",
    "Enter the path to your service account key as the GOOGLE_APPLICATION_CREDENTIALS variable in the cell below and run the cell."
   ]
  },
  {
   "cell_type": "code",
   "execution_count": 8,
   "metadata": {
    "id": "FvQeFm3Gv5mR"
   },
   "outputs": [],
   "source": [
    "# If you are running this notebook in Colab, run this cell and follow the\n",
    "# instructions to authenticate your GCP account. This provides access to your\n",
    "# Cloud Storage bucket and lets you submit training jobs and prediction\n",
    "# requests.\n",
    "\n",
    "import os\n",
    "import sys\n",
    "\n",
    "# If on Google Cloud Notebook, then don't execute this code\n",
    "if not os.path.exists(\"/opt/deeplearning/metadata/env_version\"):\n",
    "    if \"google.colab\" in sys.modules:\n",
    "        from google.colab import auth as google_auth\n",
    "\n",
    "        google_auth.authenticate_user()\n",
    "\n",
    "    # If you are running this notebook locally, replace the string below with the\n",
    "    # path to your service account key and run this cell to authenticate your GCP\n",
    "    # account.\n",
    "    elif not os.getenv(\"IS_TESTING\"):\n",
    "        %env GOOGLE_APPLICATION_CREDENTIALS ''"
   ]
  },
  {
   "cell_type": "markdown",
   "metadata": {
    "id": "bucket:mbsdk"
   },
   "source": [
    "### Create a Cloud Storage bucket\n",
    "\n",
    "**The following steps are required, regardless of your notebook environment.**\n",
    "\n",
    "When you initialize the Vertex AI SDK for Python, you specify a Cloud Storage staging bucket. The staging bucket is where all the data associated with your dataset and model resources are retained across sessions.\n",
    "\n",
    "Set the name of your Cloud Storage bucket below. Bucket names must be globally unique across all Google Cloud projects, including those outside of your organization."
   ]
  },
  {
   "cell_type": "code",
   "execution_count": 9,
   "metadata": {
    "id": "bucket"
   },
   "outputs": [],
   "source": [
    "BUCKET_NAME = \"[your-bucket-name]\"  # @param {type:\"string\"}\n",
    "BUCKET_URI = f\"gs://{BUCKET_NAME}\""
   ]
  },
  {
   "cell_type": "code",
   "execution_count": 10,
   "metadata": {
    "id": "autoset_bucket"
   },
   "outputs": [],
   "source": [
    "if BUCKET_NAME == \"\" or BUCKET_NAME is None or BUCKET_NAME == \"[your-bucket-name]\":\n",
    "    BUCKET_URI = \"gs://\" + PROJECT_ID + \"aip-\" + TIMESTAMP"
   ]
  },
  {
   "cell_type": "markdown",
   "metadata": {
    "id": "create_bucket"
   },
   "source": [
    "**Only if your bucket doesn't already exist**: Run the following cell to create your Cloud Storage bucket."
   ]
  },
  {
   "cell_type": "code",
   "execution_count": 11,
   "metadata": {
    "colab": {
     "base_uri": "https://localhost:8080/"
    },
    "id": "09kHSsKmv5mT",
    "outputId": "f6159f8e-88d2-4baa-d600-9a8c26e4c895"
   },
   "outputs": [
    {
     "name": "stdout",
     "output_type": "stream",
     "text": [
      "Creating gs://vertex-ai-devaip-20220428060033/...\n"
     ]
    }
   ],
   "source": [
    "! gsutil mb -l $REGION $BUCKET_URI"
   ]
  },
  {
   "cell_type": "markdown",
   "metadata": {
    "id": "validate_bucket"
   },
   "source": [
    "Finally, validate access to your Cloud Storage bucket by examining its contents:"
   ]
  },
  {
   "cell_type": "code",
   "execution_count": 12,
   "metadata": {
    "id": "N9JY-esPv5mU"
   },
   "outputs": [],
   "source": [
    "! gsutil ls -al $BUCKET_URI"
   ]
  },
  {
   "cell_type": "markdown",
   "metadata": {
    "id": "setup_vars"
   },
   "source": [
    "### Set up variables\n",
    "\n",
    "Next, set up some variables used throughout the tutorial.\n",
    "### Import libraries and define constants"
   ]
  },
  {
   "cell_type": "code",
   "execution_count": 13,
   "metadata": {
    "id": "import_aip:mbsdk"
   },
   "outputs": [],
   "source": [
    "import google.cloud.aiplatform as aiplatform"
   ]
  },
  {
   "cell_type": "markdown",
   "metadata": {
    "id": "init_aip:mbsdk"
   },
   "source": [
    "## Initialize Vertex AI SDK for Python\n",
    "\n",
    "Initialize the Vertex AI SDK for Python for your project and corresponding bucket."
   ]
  },
  {
   "cell_type": "code",
   "execution_count": 14,
   "metadata": {
    "id": "w2Oa_jZSv5mV"
   },
   "outputs": [],
   "source": [
    "aiplatform.init(project=PROJECT_ID, staging_bucket=BUCKET_NAME, location=REGION)"
   ]
  },
  {
   "cell_type": "markdown",
   "metadata": {
    "id": "tutorial_start:automl"
   },
   "source": [
    "# Tutorial\n",
    "\n",
    "Now you are ready to start creating your own AutoML image object detection model."
   ]
  },
  {
   "cell_type": "markdown",
   "metadata": {
    "id": "import_file:u_dataset,csv"
   },
   "source": [
    "#### Location of Cloud Storage training data.\n",
    "\n",
    "Now set the variable `IMPORT_FILE` to the location of the CSV index file in Cloud Storage."
   ]
  },
  {
   "cell_type": "code",
   "execution_count": 15,
   "metadata": {
    "id": "import_file:salads,csv,iod"
   },
   "outputs": [],
   "source": [
    "IMPORT_FILE = \"gs://cloud-samples-data/vision/salads.csv\""
   ]
  },
  {
   "cell_type": "markdown",
   "metadata": {
    "id": "quick_peek:csv"
   },
   "source": [
    "#### Quick peek at your data\n",
    "\n",
    "This tutorial uses a version of the Salads dataset that is stored in a public Cloud Storage bucket, using a CSV index file.\n",
    "\n",
    "Start by doing a quick peek at the data. You count the number of examples by counting the number of rows in the CSV index file  (`wc -l`) and then peek at the first few rows."
   ]
  },
  {
   "cell_type": "code",
   "execution_count": 16,
   "metadata": {
    "colab": {
     "base_uri": "https://localhost:8080/"
    },
    "id": "ITshYFagv5mZ",
    "outputId": "c9d76766-0012-49df-c9eb-107c1e822959"
   },
   "outputs": [
    {
     "name": "stdout",
     "output_type": "stream",
     "text": [
      "Number of Examples 1757\n",
      "First 10 rows\n",
      "gs://cloud-ml-data/img/openimage/103/279324025_3e74a32a84_o.jpg,Baked Goods,0.005743,0.084985,,,0.567511,0.735736,,\n",
      "gs://cloud-ml-data/img/openimage/103/279324025_3e74a32a84_o.jpg,Salad,0.402759,0.310473,,,1.000000,0.982695,,\n",
      "gs://cloud-ml-data/img/openimage/1064/3167707458_7b2eebed9e_o.jpg,Cheese,0.000000,0.000000,,,0.054865,0.480665,,\n",
      "gs://cloud-ml-data/img/openimage/1064/3167707458_7b2eebed9e_o.jpg,Cheese,0.041131,0.401678,,,0.318230,0.785916,,\n",
      "gs://cloud-ml-data/img/openimage/1064/3167707458_7b2eebed9e_o.jpg,Cheese,0.116263,0.065161,,,0.451528,0.286489,,\n",
      "gs://cloud-ml-data/img/openimage/1064/3167707458_7b2eebed9e_o.jpg,Cheese,0.557359,0.411551,,,0.988760,0.731613,,\n",
      "gs://cloud-ml-data/img/openimage/1064/3167707458_7b2eebed9e_o.jpg,Cheese,0.562206,0.059401,,,0.876467,0.260982,,\n",
      "gs://cloud-ml-data/img/openimage/1064/3167707458_7b2eebed9e_o.jpg,Cheese,0.567861,0.000161,,,0.699543,0.077502,,\n",
      "gs://cloud-ml-data/img/openimage/1064/3167707458_7b2eebed9e_o.jpg,Cheese,0.916052,0.085569,,,1.000000,0.348036,,\n",
      "gs://cloud-ml-data/img/openimage/1064/3167707458_7b2eebed9e_o.jpg,Salad,0.000000,0.000000,,,1.000000,1.000000,,\n"
     ]
    }
   ],
   "source": [
    "count = ! gsutil cat $IMPORT_FILE | wc -l\n",
    "print(\"Number of Examples\", int(count[0]))\n",
    "\n",
    "print(\"First 10 rows\")\n",
    "! gsutil cat $IMPORT_FILE | head -10"
   ]
  },
  {
   "cell_type": "markdown",
   "metadata": {
    "id": "create_dataset:image,iod"
   },
   "source": [
    "### Create the Dataset\n",
    "\n",
    "Next, create the `Dataset` resource using the `create` method for the `ImageDataset` class, which takes the following parameters:\n",
    "\n",
    "- `display_name`: The human readable name for the `Dataset` resource.\n",
    "- `gcs_source`: A list of one or more dataset index files to import the data items into the `Dataset` resource.\n",
    "- `import_schema_uri`: The data labeling schema for the data items.\n",
    "\n",
    "This operation may take several minutes."
   ]
  },
  {
   "cell_type": "code",
   "execution_count": 17,
   "metadata": {
    "colab": {
     "base_uri": "https://localhost:8080/"
    },
    "id": "FYyaPzfRv5mc",
    "outputId": "510d8246-d456-47f4-a988-fb2dde5cb424"
   },
   "outputs": [
    {
     "name": "stdout",
     "output_type": "stream",
     "text": [
      "Creating ImageDataset\n",
      "Create ImageDataset backing LRO: projects/931647533046/locations/us-central1/datasets/4547909945969868800/operations/4750328456095465472\n",
      "ImageDataset created. Resource name: projects/931647533046/locations/us-central1/datasets/4547909945969868800\n",
      "To use this ImageDataset in another session:\n",
      "ds = aiplatform.ImageDataset('projects/931647533046/locations/us-central1/datasets/4547909945969868800')\n",
      "Importing ImageDataset data: projects/931647533046/locations/us-central1/datasets/4547909945969868800\n",
      "Import ImageDataset data backing LRO: projects/931647533046/locations/us-central1/datasets/4547909945969868800/operations/3354212571610611712\n",
      "ImageDataset data imported. Resource name: projects/931647533046/locations/us-central1/datasets/4547909945969868800\n",
      "projects/931647533046/locations/us-central1/datasets/4547909945969868800\n"
     ]
    }
   ],
   "source": [
    "dataset = aiplatform.ImageDataset.create(\n",
    "    display_name=\"Salads\" + \"_\" + TIMESTAMP,\n",
    "    gcs_source=[IMPORT_FILE],\n",
    "    import_schema_uri=aiplatform.schema.dataset.ioformat.image.bounding_box,\n",
    ")\n",
    "\n",
    "print(dataset.resource_name)"
   ]
  },
  {
   "cell_type": "markdown",
   "metadata": {
    "id": "create_automl_pipeline:image,iod"
   },
   "source": [
    "### Create and run training pipeline\n",
    "\n",
    "To train an AutoML model, you perform two steps: 1) create a training pipeline, and 2) run the pipeline.\n",
    "\n",
    "#### Create training pipeline\n",
    "\n",
    "An AutoML training pipeline is created with the `AutoMLImageTrainingJob` class, with the following parameters:\n",
    "\n",
    "- `display_name`: The human readable name for the `TrainingJob` resource.\n",
    "- `prediction_type`: The type task to train the model for.\n",
    "  - `classification`: An image classification model.\n",
    "  - `object_detection`: An image object detection model.\n",
    "- `multi_label`: If a classification task, whether single (`False`) or multi-labeled (`True`).\n",
    "- `model_type`: The type of model for deployment.\n",
    "  - `CLOUD`: Deployment on Google Cloud\n",
    "  - `CLOUD_HIGH_ACCURACY_1`: Optimized for accuracy over latency for deployment on Google Cloud.\n",
    "  - `CLOUD_LOW_LATENCY_`: Optimized for latency over accuracy for deployment on Google Cloud.\n",
    "  - `MOBILE_TF_VERSATILE_1`: Deployment on an edge device.\n",
    "  - `MOBILE_TF_HIGH_ACCURACY_1`:Optimized for accuracy over latency for deployment on an edge device.\n",
    "  - `MOBILE_TF_LOW_LATENCY_1`: Optimized for latency over accuracy for deployment on an edge device.\n",
    "- `base_model`: (optional) Transfer learning from existing `Model` resource -- supported for image classification only.\n",
    "\n",
    "The instantiated object is the job for the training job."
   ]
  },
  {
   "cell_type": "code",
   "execution_count": 18,
   "metadata": {
    "colab": {
     "base_uri": "https://localhost:8080/"
    },
    "id": "vtAgY1Nmv5md",
    "outputId": "ef52d46f-9dfb-4d74-f463-2d1136e181d0"
   },
   "outputs": [
    {
     "name": "stdout",
     "output_type": "stream",
     "text": [
      "<google.cloud.aiplatform.training_jobs.AutoMLImageTrainingJob object at 0x7fc6291b3250>\n"
     ]
    }
   ],
   "source": [
    "job = aiplatform.AutoMLImageTrainingJob(\n",
    "    display_name=\"salads_\" + TIMESTAMP,\n",
    "    prediction_type=\"object_detection\",\n",
    "    multi_label=False,\n",
    "    model_type=\"CLOUD\",\n",
    "    base_model=None,\n",
    ")\n",
    "\n",
    "print(job)"
   ]
  },
  {
   "cell_type": "markdown",
   "metadata": {
    "id": "run_automl_pipeline:image"
   },
   "source": [
    "#### Run the training pipeline\n",
    "\n",
    "Next, you run the job to start the training job by invoking the method `run`, with the following parameters:\n",
    "\n",
    "- `dataset`: The `Dataset` resource to train the model.\n",
    "- `model_display_name`: The human readable name for the trained model.\n",
    "- `training_fraction_split`: The percentage of the dataset to use for training.\n",
    "- `test_fraction_split`: The percentage of the dataset to use for test (holdout data).\n",
    "- `validation_fraction_split`: The percentage of the dataset to use for validation.\n",
    "- `budget_milli_node_hours`: (optional) Maximum training time specified in unit of millihours (1000 = hour).\n",
    "- `disable_early_stopping`: If `True`, training maybe completed before using the entire budget if the service believes it cannot further improve on the model objective measurements.\n",
    "\n",
    "The `run` method when completed returns the `Model` resource.\n",
    "\n",
    "The execution of the training pipeline will take upto 1 hour 30 minutes."
   ]
  },
  {
   "cell_type": "code",
   "execution_count": 19,
   "metadata": {
    "colab": {
     "base_uri": "https://localhost:8080/"
    },
    "id": "SvV1nFDTv5md",
    "outputId": "e40ed1e5-e5df-4df1-87ee-be238c679863"
   },
   "outputs": [
    {
     "name": "stdout",
     "output_type": "stream",
     "text": [
      "View Training:\n",
      "https://console.cloud.google.com/ai/platform/locations/us-central1/training/2410681992677949440?project=931647533046\n",
      "AutoMLImageTrainingJob projects/931647533046/locations/us-central1/trainingPipelines/2410681992677949440 current state:\n",
      "PipelineState.PIPELINE_STATE_RUNNING\n",
      "AutoMLImageTrainingJob projects/931647533046/locations/us-central1/trainingPipelines/2410681992677949440 current state:\n",
      "PipelineState.PIPELINE_STATE_RUNNING\n",
      "AutoMLImageTrainingJob projects/931647533046/locations/us-central1/trainingPipelines/2410681992677949440 current state:\n",
      "PipelineState.PIPELINE_STATE_RUNNING\n",
      "AutoMLImageTrainingJob projects/931647533046/locations/us-central1/trainingPipelines/2410681992677949440 current state:\n",
      "PipelineState.PIPELINE_STATE_RUNNING\n",
      "AutoMLImageTrainingJob projects/931647533046/locations/us-central1/trainingPipelines/2410681992677949440 current state:\n",
      "PipelineState.PIPELINE_STATE_RUNNING\n",
      "AutoMLImageTrainingJob projects/931647533046/locations/us-central1/trainingPipelines/2410681992677949440 current state:\n",
      "PipelineState.PIPELINE_STATE_RUNNING\n",
      "AutoMLImageTrainingJob projects/931647533046/locations/us-central1/trainingPipelines/2410681992677949440 current state:\n",
      "PipelineState.PIPELINE_STATE_RUNNING\n",
      "AutoMLImageTrainingJob projects/931647533046/locations/us-central1/trainingPipelines/2410681992677949440 current state:\n",
      "PipelineState.PIPELINE_STATE_RUNNING\n",
      "AutoMLImageTrainingJob projects/931647533046/locations/us-central1/trainingPipelines/2410681992677949440 current state:\n",
      "PipelineState.PIPELINE_STATE_RUNNING\n",
      "AutoMLImageTrainingJob projects/931647533046/locations/us-central1/trainingPipelines/2410681992677949440 current state:\n",
      "PipelineState.PIPELINE_STATE_RUNNING\n",
      "AutoMLImageTrainingJob projects/931647533046/locations/us-central1/trainingPipelines/2410681992677949440 current state:\n",
      "PipelineState.PIPELINE_STATE_RUNNING\n",
      "AutoMLImageTrainingJob projects/931647533046/locations/us-central1/trainingPipelines/2410681992677949440 current state:\n",
      "PipelineState.PIPELINE_STATE_RUNNING\n",
      "AutoMLImageTrainingJob projects/931647533046/locations/us-central1/trainingPipelines/2410681992677949440 current state:\n",
      "PipelineState.PIPELINE_STATE_RUNNING\n",
      "AutoMLImageTrainingJob projects/931647533046/locations/us-central1/trainingPipelines/2410681992677949440 current state:\n",
      "PipelineState.PIPELINE_STATE_RUNNING\n",
      "AutoMLImageTrainingJob projects/931647533046/locations/us-central1/trainingPipelines/2410681992677949440 current state:\n",
      "PipelineState.PIPELINE_STATE_RUNNING\n",
      "AutoMLImageTrainingJob projects/931647533046/locations/us-central1/trainingPipelines/2410681992677949440 current state:\n",
      "PipelineState.PIPELINE_STATE_RUNNING\n",
      "AutoMLImageTrainingJob projects/931647533046/locations/us-central1/trainingPipelines/2410681992677949440 current state:\n",
      "PipelineState.PIPELINE_STATE_RUNNING\n",
      "AutoMLImageTrainingJob projects/931647533046/locations/us-central1/trainingPipelines/2410681992677949440 current state:\n",
      "PipelineState.PIPELINE_STATE_RUNNING\n",
      "AutoMLImageTrainingJob projects/931647533046/locations/us-central1/trainingPipelines/2410681992677949440 current state:\n",
      "PipelineState.PIPELINE_STATE_RUNNING\n",
      "AutoMLImageTrainingJob projects/931647533046/locations/us-central1/trainingPipelines/2410681992677949440 current state:\n",
      "PipelineState.PIPELINE_STATE_RUNNING\n",
      "AutoMLImageTrainingJob projects/931647533046/locations/us-central1/trainingPipelines/2410681992677949440 current state:\n",
      "PipelineState.PIPELINE_STATE_RUNNING\n",
      "AutoMLImageTrainingJob projects/931647533046/locations/us-central1/trainingPipelines/2410681992677949440 current state:\n",
      "PipelineState.PIPELINE_STATE_RUNNING\n",
      "AutoMLImageTrainingJob run completed. Resource name: projects/931647533046/locations/us-central1/trainingPipelines/2410681992677949440\n",
      "Model available at projects/931647533046/locations/us-central1/models/4335229212785901568\n"
     ]
    }
   ],
   "source": [
    "model = job.run(\n",
    "    dataset=dataset,\n",
    "    model_display_name=\"salads_\" + TIMESTAMP,\n",
    "    training_fraction_split=0.8,\n",
    "    validation_fraction_split=0.1,\n",
    "    test_fraction_split=0.1,\n",
    "    budget_milli_node_hours=20000,\n",
    "    disable_early_stopping=False,\n",
    ")"
   ]
  },
  {
   "cell_type": "markdown",
   "metadata": {
    "id": "evaluate_the_model:mbsdk"
   },
   "source": [
    "## Review model evaluation scores\n",
    "After your model has finished training, you can review the evaluation scores for it.\n",
    "\n",
    "First, you need to get a reference to the new model. As with datasets, you can either use the reference to the model variable you created when you deployed the model or you can list all of the models in your project."
   ]
  },
  {
   "cell_type": "code",
   "execution_count": null,
   "metadata": {
    "id": "RcpDJMgev5me"
   },
   "outputs": [],
   "source": [
    "# Get model resource ID\n",
    "models = aiplatform.Model.list(filter=\"display_name=salads_\" + TIMESTAMP)\n",
    "\n",
    "# Get a reference to the Model Service client\n",
    "client_options = {\"api_endpoint\": f\"{REGION}-aiplatform.googleapis.com\"}\n",
    "model_service_client = aiplatform.gapic.ModelServiceClient(\n",
    "    client_options=client_options\n",
    ")\n",
    "\n",
    "model_evaluations = model_service_client.list_model_evaluations(\n",
    "    parent=models[0].resource_name\n",
    ")\n",
    "model_evaluation = list(model_evaluations)[0]\n",
    "print(model_evaluation)"
   ]
  },
  {
   "cell_type": "markdown",
   "metadata": {
    "id": "make_prediction"
   },
   "source": [
    "## Send a batch prediction request\n",
    "\n",
    "Send a batch prediction to your deployed model."
   ]
  },
  {
   "cell_type": "markdown",
   "metadata": {
    "id": "get_test_items:batch_prediction"
   },
   "source": [
    "### Get test item(s)\n",
    "\n",
    "Now do a batch prediction to your Vertex model. You will use arbitrary examples out of the dataset as a test items. Don't be concerned that the examples were likely used in training the model -- we just want to demonstrate how to make a prediction."
   ]
  },
  {
   "cell_type": "code",
   "execution_count": 21,
   "metadata": {
    "colab": {
     "base_uri": "https://localhost:8080/"
    },
    "id": "get_test_items:automl,iod,csv",
    "outputId": "0d507469-b7fa-45f9-e321-0322d7250ad0"
   },
   "outputs": [
    {
     "name": "stdout",
     "output_type": "stream",
     "text": [
      "gs://cloud-ml-data/img/openimage/103/279324025_3e74a32a84_o.jpg Baked Goods\n",
      "gs://cloud-ml-data/img/openimage/103/279324025_3e74a32a84_o.jpg Salad\n"
     ]
    }
   ],
   "source": [
    "test_items = !gsutil cat $IMPORT_FILE | head -n2\n",
    "cols_1 = str(test_items[0]).split(\",\")\n",
    "cols_2 = str(test_items[1]).split(\",\")\n",
    "if len(cols_1) == 11:\n",
    "    test_item_1 = str(cols_1[1])\n",
    "    test_label_1 = str(cols_1[2])\n",
    "    test_item_2 = str(cols_2[1])\n",
    "    test_label_2 = str(cols_2[2])\n",
    "else:\n",
    "    test_item_1 = str(cols_1[0])\n",
    "    test_label_1 = str(cols_1[1])\n",
    "    test_item_2 = str(cols_2[0])\n",
    "    test_label_2 = str(cols_2[1])\n",
    "\n",
    "print(test_item_1, test_label_1)\n",
    "print(test_item_2, test_label_2)"
   ]
  },
  {
   "cell_type": "markdown",
   "metadata": {
    "id": "copy_test_items:batch_prediction"
   },
   "source": [
    "### Copy test item(s)\n",
    "\n",
    "For the batch prediction, copy the test items over to your Cloud Storage bucket."
   ]
  },
  {
   "cell_type": "code",
   "execution_count": 22,
   "metadata": {
    "colab": {
     "base_uri": "https://localhost:8080/"
    },
    "id": "JXpg67zjv5mf",
    "outputId": "94de615f-d363-42f8-a4bd-d0f2368e230d"
   },
   "outputs": [
    {
     "name": "stdout",
     "output_type": "stream",
     "text": [
      "Copying gs://cloud-ml-data/img/openimage/103/279324025_3e74a32a84_o.jpg [Content-Type=image/jpeg]...\n",
      "/ [1 files][224.9 KiB/224.9 KiB]                                                \n",
      "Operation completed over 1 objects/224.9 KiB.                                    \n",
      "Copying gs://cloud-ml-data/img/openimage/103/279324025_3e74a32a84_o.jpg [Content-Type=image/jpeg]...\n",
      "/ [1 files][224.9 KiB/224.9 KiB]                                                \n",
      "Operation completed over 1 objects/224.9 KiB.                                    \n"
     ]
    }
   ],
   "source": [
    "file_1 = test_item_1.split(\"/\")[-1]\n",
    "file_2 = test_item_2.split(\"/\")[-1]\n",
    "\n",
    "! gsutil cp $test_item_1 $BUCKET_URI/$file_1\n",
    "! gsutil cp $test_item_2 $BUCKET_URI/$file_2\n",
    "\n",
    "test_item_1 = BUCKET_URI + \"/\" + file_1\n",
    "test_item_2 = BUCKET_URI + \"/\" + file_2"
   ]
  },
  {
   "cell_type": "markdown",
   "metadata": {
    "id": "make_batch_file:automl,image"
   },
   "source": [
    "### Make the batch input file\n",
    "\n",
    "Now make a batch input file, which you will store in your local Cloud Storage bucket. The batch input file can be either CSV or JSONL. You will use JSONL in this tutorial. For JSONL file, you make one dictionary entry per line for each data item (instance). The dictionary contains the key/value pairs:\n",
    "\n",
    "- `content`: The Cloud Storage path to the image.\n",
    "- `mime_type`: The content type. In our example, it is a `jpeg` file.\n",
    "\n",
    "For example:\n",
    "\n",
    "                        {'content': '[your-bucket]/file1.jpg', 'mime_type': 'jpeg'}"
   ]
  },
  {
   "cell_type": "code",
   "execution_count": 23,
   "metadata": {
    "colab": {
     "base_uri": "https://localhost:8080/"
    },
    "id": "hFjX62hvv5mg",
    "outputId": "ea736f9f-ddb8-4474-d923-6c5ad58e0840"
   },
   "outputs": [
    {
     "name": "stdout",
     "output_type": "stream",
     "text": [
      "gs://vertex-ai-devaip-20220428060033/test.jsonl\n",
      "{\"content\": \"gs://vertex-ai-devaip-20220428060033/279324025_3e74a32a84_o.jpg\", \"mime_type\": \"image/jpeg\"}\n",
      "{\"content\": \"gs://vertex-ai-devaip-20220428060033/279324025_3e74a32a84_o.jpg\", \"mime_type\": \"image/jpeg\"}\n"
     ]
    }
   ],
   "source": [
    "import json\n",
    "\n",
    "import tensorflow as tf\n",
    "\n",
    "gcs_input_uri = BUCKET_URI + \"/test.jsonl\"\n",
    "with tf.io.gfile.GFile(gcs_input_uri, \"w\") as f:\n",
    "    data = {\"content\": test_item_1, \"mime_type\": \"image/jpeg\"}\n",
    "    f.write(json.dumps(data) + \"\\n\")\n",
    "    data = {\"content\": test_item_2, \"mime_type\": \"image/jpeg\"}\n",
    "    f.write(json.dumps(data) + \"\\n\")\n",
    "\n",
    "print(gcs_input_uri)\n",
    "! gsutil cat $gcs_input_uri"
   ]
  },
  {
   "cell_type": "markdown",
   "metadata": {
    "id": "batch_request:mbsdk"
   },
   "source": [
    "### Make the batch prediction request\n",
    "\n",
    "Now that your Model resource is trained, you can make a batch prediction by invoking the batch_predict() method, with the following parameters:\n",
    "\n",
    "- `job_display_name`: The human readable name for the batch prediction job.\n",
    "- `gcs_source`: A list of one or more batch request input files.\n",
    "- `gcs_destination_prefix`: The Cloud Storage location for storing the batch prediction resuls.\n",
    "-  `machine_type`: The type of machine for running batch prediction on dedicated resources. Not specifying machine type will                      result in batch prediction job being run with automatic resources.\n",
    "-  `starting_replica_count`: The number of machine replicas used at the start of the batch operation. If not set, Vertex AI decides starting number, not greater than `max_replica_count`. Only used if `machine_type` is set.\n",
    "-  `max_replica_count`: The maximum number of machine replicas the batch operation may be scaled to. Only used if `machine_type` is set. Default is 10.\n",
    "- `sync`: If set to True, the call will block while waiting for the asynchronous batch job to complete."
   ]
  },
  {
   "cell_type": "markdown",
   "metadata": {
    "id": "axn-CW7xv5mg"
   },
   "source": [
    "For AutoML models, only manual scaling is supported. In manual scaling both starting_replica_count and max_replica_count have the same value.\n",
    "For this batch job we are using manual scaling. Here we are setting both starting_replica_count and max_replica_count to the same value that is 1. "
   ]
  },
  {
   "cell_type": "code",
   "execution_count": 24,
   "metadata": {
    "colab": {
     "base_uri": "https://localhost:8080/"
    },
    "id": "5VMMaJhbv5mh",
    "outputId": "8ca3586c-bbfe-44d2-819b-3d398dd49d98"
   },
   "outputs": [
    {
     "name": "stdout",
     "output_type": "stream",
     "text": [
      "Creating BatchPredictionJob\n",
      "<google.cloud.aiplatform.jobs.BatchPredictionJob object at 0x7fc5ae024b90> is waiting for upstream dependencies to complete.\n"
     ]
    }
   ],
   "source": [
    "batch_predict_job = model.batch_predict(\n",
    "    job_display_name=\"salads_\" + TIMESTAMP,\n",
    "    gcs_source=gcs_input_uri,\n",
    "    gcs_destination_prefix=BUCKET_URI,\n",
    "    machine_type=\"n1-standard-4\",\n",
    "    starting_replica_count=1,\n",
    "    max_replica_count=1,\n",
    "    sync=False,\n",
    ")\n",
    "\n",
    "print(batch_predict_job)"
   ]
  },
  {
   "cell_type": "markdown",
   "metadata": {
    "id": "batch_request_wait:mbsdk"
   },
   "source": [
    "### Wait for completion of batch prediction job\n",
    "\n",
    "Next, wait for the batch job to complete. Alternatively, one can set the parameter `sync` to `True` in the `batch_predict()` method to block until the batch prediction job is completed."
   ]
  },
  {
   "cell_type": "code",
   "execution_count": 25,
   "metadata": {
    "colab": {
     "base_uri": "https://localhost:8080/"
    },
    "id": "Yc3YaEqGv5mh",
    "outputId": "c4207158-13a2-49b1-9121-3aa246d30c0e"
   },
   "outputs": [
    {
     "name": "stdout",
     "output_type": "stream",
     "text": [
      "BatchPredictionJob projects/931647533046/locations/us-central1/batchPredictionJobs/2986298320051240960 current state:\n",
      "JobState.JOB_STATE_RUNNING\n",
      "BatchPredictionJob projects/931647533046/locations/us-central1/batchPredictionJobs/2986298320051240960 current state:\n",
      "JobState.JOB_STATE_RUNNING\n",
      "BatchPredictionJob projects/931647533046/locations/us-central1/batchPredictionJobs/2986298320051240960 current state:\n",
      "JobState.JOB_STATE_RUNNING\n",
      "BatchPredictionJob projects/931647533046/locations/us-central1/batchPredictionJobs/2986298320051240960 current state:\n",
      "JobState.JOB_STATE_RUNNING\n",
      "BatchPredictionJob projects/931647533046/locations/us-central1/batchPredictionJobs/2986298320051240960 current state:\n",
      "JobState.JOB_STATE_RUNNING\n",
      "BatchPredictionJob projects/931647533046/locations/us-central1/batchPredictionJobs/2986298320051240960 current state:\n",
      "JobState.JOB_STATE_RUNNING\n",
      "BatchPredictionJob projects/931647533046/locations/us-central1/batchPredictionJobs/2986298320051240960 current state:\n",
      "JobState.JOB_STATE_RUNNING\n",
      "BatchPredictionJob projects/931647533046/locations/us-central1/batchPredictionJobs/2986298320051240960 current state:\n",
      "JobState.JOB_STATE_RUNNING\n",
      "BatchPredictionJob projects/931647533046/locations/us-central1/batchPredictionJobs/2986298320051240960 current state:\n",
      "JobState.JOB_STATE_RUNNING\n",
      "BatchPredictionJob projects/931647533046/locations/us-central1/batchPredictionJobs/2986298320051240960 current state:\n",
      "JobState.JOB_STATE_RUNNING\n",
      "BatchPredictionJob projects/931647533046/locations/us-central1/batchPredictionJobs/2986298320051240960 current state:\n",
      "JobState.JOB_STATE_SUCCEEDED\n",
      "BatchPredictionJob run completed. Resource name: projects/931647533046/locations/us-central1/batchPredictionJobs/2986298320051240960\n"
     ]
    }
   ],
   "source": [
    "batch_predict_job.wait()"
   ]
  },
  {
   "cell_type": "markdown",
   "metadata": {
    "id": "get_batch_prediction:mbsdk,iod"
   },
   "source": [
    "### Get the predictions\n",
    "\n",
    "Next, get the results from the completed batch prediction job.\n",
    "\n",
    "The results are written to the Cloud Storage output bucket you specified in the batch prediction request. You call the method iter_outputs() to get a list of each Cloud Storage file generated with the results. Each file contains one or more prediction requests in a JSON format:\n",
    "\n",
    "- `content`: The prediction request.\n",
    "- `prediction`: The prediction response.\n",
    " - `ids`: The internal assigned unique identifiers for each prediction request.\n",
    " - `displayNames`: The class names for each class label.\n",
    " - `bboxes`: The bounding box of each detected object."
   ]
  },
  {
   "cell_type": "code",
   "execution_count": 27,
   "metadata": {
    "colab": {
     "base_uri": "https://localhost:8080/"
    },
    "id": "UGGJxFjEv5mh",
    "outputId": "0a75c935-1c5a-4e1e-c7a7-e9cc83a6b16a"
   },
   "outputs": [
    {
     "name": "stdout",
     "output_type": "stream",
     "text": [
      "{'instance': {'content': 'gs://vertex-ai-devaip-20220428060033/279324025_3e74a32a84_o.jpg', 'mimeType': 'image/jpeg'}, 'prediction': {'ids': ['8608582858962894848', '7455661354356047872', '7455661354356047872', '7455661354356047872', '8608582858962894848', '3996896840535506944', '6302739849749200896', '7455661354356047872', '1691053831321812992', '8608582858962894848', '6302739849749200896', '3996896840535506944', '7455661354356047872', '1691053831321812992', '7455661354356047872', '6302739849749200896', '7455661354356047872', '1691053831321812992', '8608582858962894848', '1691053831321812992', '3996896840535506944', '7455661354356047872', '7455661354356047872', '8608582858962894848', '8608582858962894848', '8608582858962894848', '7455661354356047872', '3996896840535506944', '6302739849749200896', '6302739849749200896', '3996896840535506944', '3996896840535506944', '7455661354356047872', '1691053831321812992', '3996896840535506944', '8608582858962894848', '3996896840535506944', '6302739849749200896', '6302739849749200896', '6302739849749200896'], 'displayNames': ['Salad', 'Baked Goods', 'Baked Goods', 'Baked Goods', 'Salad', 'Tomato', 'Cheese', 'Baked Goods', 'Seafood', 'Salad', 'Cheese', 'Tomato', 'Baked Goods', 'Seafood', 'Baked Goods', 'Cheese', 'Baked Goods', 'Seafood', 'Salad', 'Seafood', 'Tomato', 'Baked Goods', 'Baked Goods', 'Salad', 'Salad', 'Salad', 'Baked Goods', 'Tomato', 'Cheese', 'Cheese', 'Tomato', 'Tomato', 'Baked Goods', 'Seafood', 'Tomato', 'Salad', 'Tomato', 'Cheese', 'Cheese', 'Cheese'], 'confidences': [0.9916761, 0.97710437, 0.1603097, 0.068241894, 0.04882854, 0.03097016, 0.026820885, 0.024721062, 0.014144869, 0.011742896, 0.011698439, 0.010796932, 0.010610645, 0.010317636, 0.008873324, 0.007241802, 0.0063849273, 0.0054141623, 0.0050264136, 0.003763775, 0.0029074631, 0.0024261833, 0.0022742483, 0.0019183647, 0.0017521346, 0.0017247223, 0.0014400441, 0.0012816867, 0.0009639023, 0.00094889244, 0.00093343464, 0.0008904823, 0.0008527573, 0.0008144145, 0.00080052303, 0.000781474, 0.0007636445, 0.0007387022, 0.00072075275, 0.0006811487], 'bboxes': [[0.39402094, 0.97878444, 0.31812263, 0.96490383], [0.017109543, 0.5830767, 0.043907247, 0.76392376], [0.079839885, 0.8070862, 0.06715342, 0.84934586], [0.23204291, 0.96848786, 0.050651472, 1.0], [0.17683154, 0.9489451, 0.12277722, 0.9266769], [0.3852912, 0.96600556, 0.35537255, 0.9617548], [0.043005526, 0.60876924, 0.10120698, 0.74394196], [0.14500344, 0.92083395, 0.26470524, 0.9250765], [0.38899213, 0.9586925, 0.18943402, 0.98779505], [0.27510574, 0.9648626, 0.5917276, 0.9808671], [0.14402422, 0.95003915, 0.16153619, 0.91511524], [0.2877463, 0.9998597, 0.14028585, 1.0], [0.36081672, 1.0, 0.0048222346, 0.39384732], [0.0, 0.6376562, 0.041394673, 0.8299016], [0.12269756, 0.8265163, 0.08765106, 0.56703496], [0.40284684, 0.9711753, 0.3780071, 0.94614667], [0.34110564, 0.96551186, 0.35793585, 1.0], [0.1735343, 0.89527464, 0.1537987, 0.9435107], [0.03325045, 0.573745, 0.18935964, 0.9235467], [0.26328588, 0.9751102, 0.4154292, 0.96359515], [0.16110095, 0.8735304, 0.12152135, 0.87355614], [0.15414995, 0.88340825, 0.056547504, 0.4144647], [0.10112506, 0.61149836, 0.05362781, 0.45112985], [0.27889735, 0.94901067, 0.7596447, 0.9918318], [0.068223, 0.7450756, 0.0386374, 0.767992], [0.40179598, 0.92697823, 0.0, 0.5280961], [0.31909943, 0.93852663, 0.014700433, 0.57725394], [0.19580016, 0.9285935, 0.515599, 0.9823257], [0.0, 0.70966315, 0.26953328, 0.88103306], [0.03475812, 0.86981845, 0.048062265, 0.67488736], [0.18433654, 0.92777216, 0.7171875, 0.9902235], [0.02485776, 0.65554035, 0.07207577, 0.89674306], [0.4138431, 0.9851673, 0.0, 0.77966946], [0.4219411, 0.96716684, 0.014625728, 0.37657118], [0.39175093, 0.95654666, 0.60018796, 0.9752579], [0.120554864, 0.8373418, 0.5012442, 0.97404015], [0.2830548, 0.9456377, 0.019621175, 0.42422137], [0.37947986, 0.9888756, 0.0033055148, 0.3405416], [0.025938034, 0.8730997, 0.3952803, 0.954112], [0.15043882, 0.9521611, 0.52593625, 0.96694845]]}}\n",
      "{'instance': {'content': 'gs://vertex-ai-devaip-20220428060033/279324025_3e74a32a84_o.jpg', 'mimeType': 'image/jpeg'}, 'prediction': {'ids': ['8608582858962894848', '7455661354356047872', '7455661354356047872', '7455661354356047872', '8608582858962894848', '3996896840535506944', '6302739849749200896', '7455661354356047872', '1691053831321812992', '8608582858962894848', '6302739849749200896', '3996896840535506944', '7455661354356047872', '1691053831321812992', '7455661354356047872', '6302739849749200896', '7455661354356047872', '1691053831321812992', '8608582858962894848', '1691053831321812992', '3996896840535506944', '7455661354356047872', '7455661354356047872', '8608582858962894848', '8608582858962894848', '8608582858962894848', '7455661354356047872', '3996896840535506944', '6302739849749200896', '6302739849749200896', '3996896840535506944', '3996896840535506944', '7455661354356047872', '1691053831321812992', '3996896840535506944', '8608582858962894848', '3996896840535506944', '6302739849749200896', '6302739849749200896', '6302739849749200896'], 'displayNames': ['Salad', 'Baked Goods', 'Baked Goods', 'Baked Goods', 'Salad', 'Tomato', 'Cheese', 'Baked Goods', 'Seafood', 'Salad', 'Cheese', 'Tomato', 'Baked Goods', 'Seafood', 'Baked Goods', 'Cheese', 'Baked Goods', 'Seafood', 'Salad', 'Seafood', 'Tomato', 'Baked Goods', 'Baked Goods', 'Salad', 'Salad', 'Salad', 'Baked Goods', 'Tomato', 'Cheese', 'Cheese', 'Tomato', 'Tomato', 'Baked Goods', 'Seafood', 'Tomato', 'Salad', 'Tomato', 'Cheese', 'Cheese', 'Cheese'], 'confidences': [0.9916761, 0.97710437, 0.1603097, 0.068241894, 0.04882854, 0.03097016, 0.026820885, 0.024721062, 0.014144869, 0.011742896, 0.011698439, 0.010796932, 0.010610645, 0.010317636, 0.008873324, 0.007241802, 0.0063849273, 0.0054141623, 0.0050264136, 0.003763775, 0.0029074631, 0.0024261833, 0.0022742483, 0.0019183647, 0.0017521346, 0.0017247223, 0.0014400441, 0.0012816867, 0.0009639023, 0.00094889244, 0.00093343464, 0.0008904823, 0.0008527573, 0.0008144145, 0.00080052303, 0.000781474, 0.0007636445, 0.0007387022, 0.00072075275, 0.0006811487], 'bboxes': [[0.39402094, 0.97878444, 0.31812263, 0.96490383], [0.017109543, 0.5830767, 0.043907247, 0.76392376], [0.079839885, 0.8070862, 0.06715342, 0.84934586], [0.23204291, 0.96848786, 0.050651472, 1.0], [0.17683154, 0.9489451, 0.12277722, 0.9266769], [0.3852912, 0.96600556, 0.35537255, 0.9617548], [0.043005526, 0.60876924, 0.10120698, 0.74394196], [0.14500344, 0.92083395, 0.26470524, 0.9250765], [0.38899213, 0.9586925, 0.18943402, 0.98779505], [0.27510574, 0.9648626, 0.5917276, 0.9808671], [0.14402422, 0.95003915, 0.16153619, 0.91511524], [0.2877463, 0.9998597, 0.14028585, 1.0], [0.36081672, 1.0, 0.0048222346, 0.39384732], [0.0, 0.6376562, 0.041394673, 0.8299016], [0.12269756, 0.8265163, 0.08765106, 0.56703496], [0.40284684, 0.9711753, 0.3780071, 0.94614667], [0.34110564, 0.96551186, 0.35793585, 1.0], [0.1735343, 0.89527464, 0.1537987, 0.9435107], [0.03325045, 0.573745, 0.18935964, 0.9235467], [0.26328588, 0.9751102, 0.4154292, 0.96359515], [0.16110095, 0.8735304, 0.12152135, 0.87355614], [0.15414995, 0.88340825, 0.056547504, 0.4144647], [0.10112506, 0.61149836, 0.05362781, 0.45112985], [0.27889735, 0.94901067, 0.7596447, 0.9918318], [0.068223, 0.7450756, 0.0386374, 0.767992], [0.40179598, 0.92697823, 0.0, 0.5280961], [0.31909943, 0.93852663, 0.014700433, 0.57725394], [0.19580016, 0.9285935, 0.515599, 0.9823257], [0.0, 0.70966315, 0.26953328, 0.88103306], [0.03475812, 0.86981845, 0.048062265, 0.67488736], [0.18433654, 0.92777216, 0.7171875, 0.9902235], [0.02485776, 0.65554035, 0.07207577, 0.89674306], [0.4138431, 0.9851673, 0.0, 0.77966946], [0.4219411, 0.96716684, 0.014625728, 0.37657118], [0.39175093, 0.95654666, 0.60018796, 0.9752579], [0.120554864, 0.8373418, 0.5012442, 0.97404015], [0.2830548, 0.9456377, 0.019621175, 0.42422137], [0.37947986, 0.9888756, 0.0033055148, 0.3405416], [0.025938034, 0.8730997, 0.3952803, 0.954112], [0.15043882, 0.9521611, 0.52593625, 0.96694845]]}}\n"
     ]
    }
   ],
   "source": [
    "import json\n",
    "\n",
    "bp_iter_outputs = batch_predict_job.iter_outputs()\n",
    "\n",
    "prediction_results = list()\n",
    "for blob in bp_iter_outputs:\n",
    "    if blob.name.split(\"/\")[-1].startswith(\"prediction\"):\n",
    "        prediction_results.append(blob.name)\n",
    "\n",
    "tags = list()\n",
    "for prediction_result in prediction_results:\n",
    "    gfile_name = f\"gs://{bp_iter_outputs.bucket.name}/{prediction_result}\"\n",
    "    with tf.io.gfile.GFile(name=gfile_name, mode=\"r\") as gfile:\n",
    "        for line in gfile.readlines():\n",
    "            line = json.loads(line)\n",
    "            print(line)\n",
    "            "
   ]
  },
  {
   "cell_type": "markdown",
   "metadata": {
    "id": "cleanup:mbsdk"
   },
   "source": [
    "# Cleaning up\n",
    "\n",
    "To clean up all Google Cloud resources used in this project, you can [delete the Google Cloud\n",
    "project](https://cloud.google.com/resource-manager/docs/creating-managing-projects#shutting_down_projects) you used for the tutorial.\n",
    "\n",
    "Otherwise, you can delete the individual resources you created in this tutorial:\n",
    "\n",
    "- Dataset\n",
    "- Model\n",
    "- AutoML Training Job\n",
    "- Batch Job\n",
    "- Cloud Storage Bucket"
   ]
  },
  {
   "cell_type": "code",
   "execution_count": 28,
   "metadata": {
    "colab": {
     "base_uri": "https://localhost:8080/"
    },
    "id": "_Olkhs6xv5mi",
    "outputId": "4622b687-2a78-4062-8be7-320926b54fc5"
   },
   "outputs": [
    {
     "name": "stdout",
     "output_type": "stream",
     "text": [
      "Deleting ImageDataset : projects/931647533046/locations/us-central1/datasets/4547909945969868800\n",
      "Delete ImageDataset  backing LRO: projects/931647533046/locations/us-central1/operations/8307609211764736000\n",
      "ImageDataset deleted. . Resource name: projects/931647533046/locations/us-central1/datasets/4547909945969868800\n",
      "Deleting Model : projects/931647533046/locations/us-central1/models/4335229212785901568\n",
      "Delete Model  backing LRO: projects/931647533046/locations/us-central1/operations/8352645208038440960\n",
      "Model deleted. . Resource name: projects/931647533046/locations/us-central1/models/4335229212785901568\n",
      "Deleting AutoMLImageTrainingJob : projects/931647533046/locations/us-central1/trainingPipelines/2410681992677949440\n",
      "Delete AutoMLImageTrainingJob  backing LRO: projects/931647533046/locations/us-central1/operations/3547304405634121728\n",
      "AutoMLImageTrainingJob deleted. . Resource name: projects/931647533046/locations/us-central1/trainingPipelines/2410681992677949440\n",
      "Deleting BatchPredictionJob : projects/931647533046/locations/us-central1/batchPredictionJobs/2986298320051240960\n",
      "Delete BatchPredictionJob  backing LRO: projects/931647533046/locations/us-central1/operations/5370136354812329984\n",
      "BatchPredictionJob deleted. . Resource name: projects/931647533046/locations/us-central1/batchPredictionJobs/2986298320051240960\n",
      "Removing gs://vertex-ai-devaip-20220428060033/279324025_3e74a32a84_o.jpg#1651132541311816...\n",
      "Removing gs://vertex-ai-devaip-20220428060033/test.jsonl#1651132548384575...\n",
      "Removing gs://vertex-ai-devaip-20220428060033/prediction-salads_20220428060033-2022-04-28T07:55:58.402903Z/predictions_00001.jsonl#1651134187672044...\n",
      "/ [3 objects]                                                                   \n",
      "Operation completed over 3 objects.                                              \n",
      "Removing gs://vertex-ai-devaip-20220428060033/...\n"
     ]
    }
   ],
   "source": [
    "delete_bucket = False\n",
    "\n",
    "# Delete the dataset using the Vertex dataset object\n",
    "dataset.delete()\n",
    "\n",
    "# Delete the model using the Vertex model object\n",
    "model.delete()\n",
    "\n",
    "# Delete the AutoML or Pipeline trainig job\n",
    "job.delete()\n",
    "\n",
    "# Delete the batch prediction job using the Vertex batch prediction object\n",
    "batch_predict_job.delete()\n",
    "\n",
    "if delete_bucket or os.getenv(\"IS_TESTING\"):\n",
    "    ! gsutil rm -r $BUCKET_URI"
   ]
  }
 ],
 "metadata": {
  "colab": {
   "name": "new_sdk_automl_image_object_detection_batch (1).ipynb",
   "provenance": [],
   "toc_visible": true
  },
  "environment": {
   "kernel": "python3",
   "name": "common-cpu.m89",
   "type": "gcloud",
   "uri": "gcr.io/deeplearning-platform-release/base-cpu:m89"
  },
  "kernelspec": {
   "display_name": "Python 3",
   "language": "python",
   "name": "python3"
  },
  "language_info": {
   "codemirror_mode": {
    "name": "ipython",
    "version": 3
   },
   "file_extension": ".py",
   "mimetype": "text/x-python",
   "name": "python",
   "nbconvert_exporter": "python",
   "pygments_lexer": "ipython3",
   "version": "3.7.12"
  }
 },
 "nbformat": 4,
 "nbformat_minor": 4
}
