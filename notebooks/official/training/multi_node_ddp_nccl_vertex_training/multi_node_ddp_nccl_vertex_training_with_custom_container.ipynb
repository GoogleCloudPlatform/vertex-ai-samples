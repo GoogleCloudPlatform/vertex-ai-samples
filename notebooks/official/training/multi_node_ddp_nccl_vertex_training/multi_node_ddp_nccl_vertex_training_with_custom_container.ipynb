{
  "cells": [
    {
      "cell_type": "code",
      "execution_count": null,
      "metadata": {
        "id": "a6b56b1c7b76"
      },
      "outputs": [],
      "source": [
        "# Copyright 2022 Google LLC\n",
        "#\n",
        "# Licensed under the Apache License, Version 2.0 (the \"License\");\n",
        "# you may not use this file except in compliance with the License.\n",
        "# You may obtain a copy of the License at\n",
        "#\n",
        "#     https://www.apache.org/licenses/LICENSE-2.0\n",
        "#\n",
        "# Unless required by applicable law or agreed to in writing, software\n",
        "# distributed under the License is distributed on an \"AS IS\" BASIS,\n",
        "# WITHOUT WARRANTIES OR CONDITIONS OF ANY KIND, either express or implied.\n",
        "# See the License for the specific language governing permissions and\n",
        "# limitations under the License."
      ]
    },
    {
      "cell_type": "markdown",
      "metadata": {
        "id": "b98238e32cf7"
      },
      "source": [
        "# PyTorch Multi-Node Distributed Training with Torchrun on Vertex AI Training using a Custom Container\n",
        "\n",
        "<table align=\"left\">\n",
        "\n",
        "  <td>\n",
        "    <a href=\"https://colab.research.google.com/github/GoogleCloudPlatform/vertex-ai-samples/blob/main/notebooks/official/training/multi_node_ddp_nccl_vertex_training/multi_node_ddp_nccl_vertex_training_with_custom_container.ipynb\">\n",
        "      <img src=\"https://cloud.google.com/ml-engine/images/colab-logo-32px.png\" alt=\"Colab logo\"> Run in Colab\n",
        "    </a>\n",
        "  </td>\n",
        "  <td>\n",
        "    <a href=\"https://github.com/GoogleCloudPlatform/vertex-ai-samples/blob/main/notebooks/official/training/multi_node_ddp_nccl_vertex_training/multi_node_ddp_nccl_vertex_training_with_custom_container.ipynb\">\n",
        "      <img src=\"https://cloud.google.com/ml-engine/images/github-logo-32px.png\" alt=\"GitHub logo\">\n",
        "      View on GitHub\n",
        "    </a>\n",
        "  </td>\n",
        "  <td>\n",
        "    <a href=\"https://console.cloud.google.com/vertex-ai/workbench/deploy-notebook?download_url=https://github.com/GoogleCloudPlatform/vertex-ai-samples/blob/main/notebooks/official/training/multi_node_ddp_nccl_vertex_training/multi_node_ddp_nccl_vertex_training_with_custom_container.ipynb\">\n",
        "      <img src=\"https://lh3.googleusercontent.com/UiNooY4LUgW_oTvpsNhPpQzsstV5W8F7rYgxgGBD85cWJoLmrOzhVs_ksK_vgx40SHs7jCqkTkCk=e14-rj-sc0xffffff-h130-w32\" alt=\"Vertex AI logo\">\n",
        "      Open in Vertex AI Workbench\n",
        "    </a>\n",
        "  </td>                                                                                               \n",
        "</table>"
      ]
    },
    {
      "cell_type": "markdown",
      "metadata": {
        "id": "3f2a318cd453"
      },
      "source": [
        "## Overview\n",
        "\n",
        "This tutorial demonstrates running a multi-node distributed training job on Vertex AI with Torchrun. The model trained is an image classification model using PyTorch and the training job is run using distributed nodes configured with GPUs on Vertex AI."
      ]
    },
    {
      "cell_type": "markdown",
      "metadata": {
        "id": "9a2e42bbeccb"
      },
      "source": [
        "### Objective\n",
        "\n",
        "In this notebook, you learn how to train an Image classification model using PyTorch's Torchrun on multiple nodes.\n",
        "\n",
        "This tutorial uses the following Google Cloud ML services and resources:\n",
        "- Vertex AI Training\n",
        "- Vertex AI Model Registry\n",
        "- Vertex AI Experiments (Tensorboard)\n",
        "\n",
        "The steps performed include:\n",
        "- Install necessary libraries.\n",
        "- Configure Cloud Storage and Tensorboard for training.\n",
        "- Create custom container to train model using code from PyTorch Elastic's Github repository.\n",
        "- Train the model using multiple nodes with GPUs.\n",
        "- List the saved model files."
      ]
    },
    {
      "cell_type": "markdown",
      "metadata": {
        "id": "5b0fe7f1de59"
      },
      "source": [
        "### Dataset\n",
        "\n",
        "This notebook uses the [Vegetable Image Dataset](https://www.kaggle.com/datasets/misrakahmed/vegetable-image-dataset) for training the image classification model. This dataset consists of 15 classes and has 15000 images under training set and 3000 images under validation set. Each of the images are available in 224×224 size and **.jpg** format. \n",
        "\n",
        "**Note**: The original dataset is restructured and made available in the public Cloud Storage bucket `cloud-samples-data` which is where this notebook uses the data from."
      ]
    },
    {
      "cell_type": "markdown",
      "metadata": {
        "id": "c414a395a19b"
      },
      "source": [
        "### Costs \n",
        "\n",
        "This tutorial uses billable components of Google Cloud:\n",
        "\n",
        "* Vertex AI\n",
        "* Cloud Storage\n",
        "* Cloud Build\n",
        "* Artifact Registry\n",
        "\n",
        "Learn about [Vertex AI\n",
        "pricing](https://cloud.google.com/vertex-ai/pricing), [Cloud Storage\n",
        "pricing](https://cloud.google.com/storage/pricing), [Cloud Build pricing](https://cloud.google.com/build/pricing), [Artifact Registry pricing](https://cloud.google.com/artifact-registry/pricing) and use the [Pricing\n",
        "Calculator](https://cloud.google.com/products/calculator/)\n",
        "to generate a cost estimate based on your projected usage."
      ]
    },
    {
      "cell_type": "markdown",
      "metadata": {
        "id": "i7EUnXsZhAGF"
      },
      "source": [
        "## Installation\n",
        "\n",
        "Install the following packages required to execute this notebook. \n",
        "\n",
        "{TODO: Suggest using the latest major GA version of each package; i.e., --upgrade}"
      ]
    },
    {
      "cell_type": "code",
      "execution_count": null,
      "metadata": {
        "id": "2b4ef9b72d43"
      },
      "outputs": [],
      "source": [
        "# Install the packages\n",
        "! pip3 install --user --upgrade google-cloud-aiplatform"
      ]
    },
    {
      "cell_type": "markdown",
      "metadata": {
        "id": "58707a750154"
      },
      "source": [
        "### Colab only: Uncomment the following cell to restart the kernel."
      ]
    },
    {
      "cell_type": "code",
      "execution_count": null,
      "metadata": {
        "id": "f200f10a1da3"
      },
      "outputs": [],
      "source": [
        "# Automatically restart kernel after installs so that your environment can access the new packages\n",
        "# import IPython\n",
        "\n",
        "# app = IPython.Application.instance()\n",
        "# app.kernel.do_shutdown(True)"
      ]
    },
    {
      "cell_type": "markdown",
      "metadata": {
        "id": "BF1j6f9HApxa"
      },
      "source": [
        "## Before you begin\n",
        "\n",
        "### Set up your Google Cloud project\n",
        "\n",
        "**The following steps are required, regardless of your notebook environment.**\n",
        "\n",
        "1. [Select or create a Google Cloud project](https://console.cloud.google.com/cloud-resource-manager). When you first create an account, you get a $300 free credit towards your compute/storage costs.\n",
        "\n",
        "2. [Make sure that billing is enabled for your project](https://cloud.google.com/billing/docs/how-to/modify-project).\n",
        "\n",
        "3. [Enable the Vertex AI API](https://console.cloud.google.com/flows/enableapi?apiid=aiplatform.googleapis.com). {TODO: Update the APIs needed for your tutorial. Edit the API names, and update the link to append the API IDs, separating each one with a comma. For example, container.googleapis.com,cloudbuild.googleapis.com}\n",
        "\n",
        "4. If you are running this notebook locally, you need to install the [Cloud SDK](https://cloud.google.com/sdk)."
      ]
    },
    {
      "cell_type": "markdown",
      "metadata": {
        "id": "WReHDGG5g0XY"
      },
      "source": [
        "#### Set your project ID\n",
        "\n",
        "**If you don't know your project ID**, try the following:\n",
        "* Run `gcloud config list`.\n",
        "* Run `gcloud projects list`.\n",
        "* See the support page: [Locate the project ID](https://support.google.com/googleapi/answer/7014113)"
      ]
    },
    {
      "cell_type": "code",
      "execution_count": null,
      "metadata": {
        "id": "oM1iC_MfAts1"
      },
      "outputs": [],
      "source": [
        "PROJECT_ID = \"[your-project-id]\"  # @param {type:\"string\"}\n",
        "\n",
        "# Set the project id\n",
        "! gcloud config set project {PROJECT_ID}"
      ]
    },
    {
      "cell_type": "markdown",
      "metadata": {
        "id": "region"
      },
      "source": [
        "#### Region\n",
        "\n",
        "You can also change the `REGION` variable used by Vertex AI. Learn more about [Vertex AI regions](https://cloud.google.com/vertex-ai/docs/general/locations)."
      ]
    },
    {
      "cell_type": "code",
      "execution_count": 1,
      "metadata": {
        "id": "region"
      },
      "outputs": [],
      "source": [
        "REGION = \"us-central1\"  # @param {type: \"string\"}"
      ]
    },
    {
      "cell_type": "markdown",
      "metadata": {
        "id": "sBCra4QMA2wR"
      },
      "source": [
        "### Authenticate your Google Cloud account\n",
        "\n",
        "Depending on your Jupyter environment, you may have to manually authenticate. Follow the relevant instructions below."
      ]
    },
    {
      "cell_type": "markdown",
      "metadata": {
        "id": "74ccc9e52986"
      },
      "source": [
        "**1. Vertex AI Workbench**\n",
        "* Do nothing as you are already authenticated."
      ]
    },
    {
      "cell_type": "markdown",
      "metadata": {
        "id": "de775a3773ba"
      },
      "source": [
        "**2. Local JupyterLab instance, uncomment and run:**"
      ]
    },
    {
      "cell_type": "code",
      "execution_count": 2,
      "metadata": {
        "id": "254614fa0c46"
      },
      "outputs": [],
      "source": [
        "# ! gcloud auth login"
      ]
    },
    {
      "cell_type": "markdown",
      "metadata": {
        "id": "ef21552ccea8"
      },
      "source": [
        "**3. Colab, uncomment and run:**"
      ]
    },
    {
      "cell_type": "code",
      "execution_count": 3,
      "metadata": {
        "id": "603adbbf0532"
      },
      "outputs": [],
      "source": [
        "# from google.colab import auth\n",
        "# auth.authenticate_user()"
      ]
    },
    {
      "cell_type": "markdown",
      "metadata": {
        "id": "f6b2ccc891ed"
      },
      "source": [
        "**4. Service account or other**\n",
        "* See how to grant Cloud Storage permissions to your service account at https://cloud.google.com/storage/docs/gsutil/commands/iam#ch-examples."
      ]
    },
    {
      "cell_type": "markdown",
      "metadata": {
        "id": "zgPO1eR3CYjk"
      },
      "source": [
        "### Create a Cloud Storage bucket\n",
        "\n",
        "Create a storage bucket to store intermediate artifacts such as datasets.\n",
        "\n",
        "- *{Note to notebook author: For any user-provided strings that need to be unique (like bucket names or model ID's), append \"-unique\" to the end so proper testing can occur}*"
      ]
    },
    {
      "cell_type": "code",
      "execution_count": null,
      "metadata": {
        "id": "MzGDU7TWdts_"
      },
      "outputs": [],
      "source": [
        "BUCKET_URI = \"gs://your-bucket-name-unique\"  # @param {type:\"string\"}"
      ]
    },
    {
      "cell_type": "markdown",
      "metadata": {
        "id": "-EcIXiGsCePi"
      },
      "source": [
        "**Only if your bucket doesn't already exist**: Run the following cell to create your Cloud Storage bucket."
      ]
    },
    {
      "cell_type": "code",
      "execution_count": null,
      "metadata": {
        "id": "NIq7R4HZCfIc"
      },
      "outputs": [],
      "source": [
        "! gsutil mb -l $REGION -p $PROJECT_ID $BUCKET_URI"
      ]
    },
    {
      "cell_type": "markdown",
      "metadata": {
        "id": "gar_enable_api"
      },
      "source": [
        "### Enable Artifact Registry API\n",
        "\n",
        "Enable the Artifact Registry API service for your project in case you haven't done it at the project setup section.\n",
        "\n",
        "Learn more about [Enabling service](https://cloud.google.com/artifact-registry/docs/enable-service)."
      ]
    },
    {
      "cell_type": "code",
      "execution_count": null,
      "metadata": {
        "id": "gar_enable_api"
      },
      "outputs": [],
      "source": [
        "! gcloud services enable artifactregistry.googleapis.com"
      ]
    },
    {
      "cell_type": "markdown",
      "metadata": {
        "id": "gar_create_repo"
      },
      "source": [
        "### Create a private Docker repository\n",
        "\n",
        "Create your own Docker repository in Artifact Registry.\n",
        "\n",
        "1. Run the `gcloud artifacts repositories create` command to create a new Docker repository with your specified region and description.\n",
        "\n",
        "2. Run the `gcloud artifacts repositories list` command to verify that your repository was created.\n",
        "\n",
        "Set `REPOSITORY` to the name of your repository."
      ]
    },
    {
      "cell_type": "code",
      "execution_count": null,
      "metadata": {
        "id": "cd4db9d296ca"
      },
      "outputs": [],
      "source": [
        "REPOSITORY = \"[your-repo-name]\"  # @param {type:\"string\"}\n",
        "\n",
        "if REPOSITORY == \"[your-repo-name]\":\n",
        "    REPOSITORY = \"torchrun-imageclassify-repo\""
      ]
    },
    {
      "cell_type": "code",
      "execution_count": null,
      "metadata": {
        "id": "gar_create_repo"
      },
      "outputs": [],
      "source": [
        "# Create the repository in Artifact registry\n",
        "! gcloud artifacts repositories create {REPOSITORY} --repository-format=docker --location={REGION} --description=\"Docker repository\"\n",
        "\n",
        "# List all repositories and check your repository\n",
        "! gcloud artifacts repositories list"
      ]
    },
    {
      "cell_type": "markdown",
      "metadata": {
        "id": "gar_auth"
      },
      "source": [
        "### Configure authentication to your private repo\n",
        "\n",
        "Before you push or pull container images, configure Docker to use the `gcloud` command-line tool to authenticate requests to `Artifact Registry` for your region."
      ]
    },
    {
      "cell_type": "code",
      "execution_count": null,
      "metadata": {
        "id": "gar_auth"
      },
      "outputs": [],
      "source": [
        "! gcloud auth configure-docker {REGION}-docker.pkg.dev --quiet"
      ]
    },
    {
      "cell_type": "markdown",
      "metadata": {
        "id": "8d26a4b91856"
      },
      "source": [
        "### Configure access to Vertex AI Tensorboard\n",
        "\n",
        "In this notebook, you also create and use a tensorboard instance on Vertex AI to monitor your training process. To do so, you must have the `Vertex AI Tensorboard Web App User` or `Vertex AI Admin` IAM role. \n",
        "\n",
        "To access the Vertex TensorBoard web app, grant the above roles to your account through the [IAM Console](https://console.cloud.google.com/iam-admin/iam)."
      ]
    },
    {
      "cell_type": "markdown",
      "metadata": {
        "id": "01da737fc8b8"
      },
      "source": [
        "### Import libraries and define constants\n",
        "Import the required Python libraries."
      ]
    },
    {
      "cell_type": "code",
      "execution_count": null,
      "metadata": {
        "id": "956be9eb2f90"
      },
      "outputs": [],
      "source": [
        "from datetime import datetime\n",
        "\n",
        "from google.cloud import aiplatform"
      ]
    },
    {
      "cell_type": "markdown",
      "metadata": {
        "id": "61a1641c8c3c"
      },
      "source": [
        "Define the constants used in this notebook."
      ]
    },
    {
      "cell_type": "code",
      "execution_count": null,
      "metadata": {
        "id": "83177977fa95"
      },
      "outputs": [],
      "source": [
        "# Set the Cloud Storage path to the dataset\n",
        "DATASET_PATH = (\n",
        "    \"/gcs/cloud-samples-data/ai-platform-unified/datasets/images/vegetable_images\"\n",
        ")\n",
        "\n",
        "# Set `content_name` to use as a common display name for the resources being created in the further steps.\n",
        "content_name = \"pytorch-imageclassify-multi-node\""
      ]
    },
    {
      "cell_type": "markdown",
      "metadata": {
        "id": "10c8cc6b3334"
      },
      "source": [
        "### Initialize Vertex AI SDK\n",
        "\n",
        "Initialize the Vertex AI SDK for Python for your project and corresponding bucket."
      ]
    },
    {
      "cell_type": "code",
      "execution_count": null,
      "metadata": {
        "id": "42e981cefe41"
      },
      "outputs": [],
      "source": [
        "aiplatform.init(\n",
        "    project=PROJECT_ID,\n",
        "    staging_bucket=BUCKET_URI,\n",
        "    location=REGION,\n",
        ")"
      ]
    },
    {
      "cell_type": "markdown",
      "metadata": {
        "id": "8f3ea1210749"
      },
      "source": [
        "## Vertex AI Training using Vertex AI SDK and Custom Container"
      ]
    },
    {
      "cell_type": "markdown",
      "metadata": {
        "id": "73c92c9298e9"
      },
      "source": [
        "### Create a Vertex Tensorboard Instance\n",
        "\n",
        "Create a Vertex AI Tensorboard instance in Vertex AI Experiments to monitor the training.\n",
        "\n",
        "#### Option: Use a Previously Created Vertex Tensorboard Instance\n",
        "\n",
        "In case you want to use an already created Tensorboard instance, replace the `tensorboard_name` with yours in the following cells and load the instance as given below.\n",
        "```\n",
        "tensorboard_name = \"Your Tensorboard Resource Name or Tensorboard ID\"\n",
        "tensorboard = aiplatform.Tensorboard(tensorboard_name=tensorboard_name)\n",
        "```"
      ]
    },
    {
      "cell_type": "code",
      "execution_count": null,
      "metadata": {
        "id": "6d7908c0083c"
      },
      "outputs": [],
      "source": [
        "# Create the instance\n",
        "tensorboard = aiplatform.Tensorboard.create(\n",
        "    display_name=content_name,\n",
        ")"
      ]
    },
    {
      "cell_type": "code",
      "execution_count": null,
      "metadata": {
        "id": "0008fcb1bbfd"
      },
      "outputs": [],
      "source": [
        "# Check the resource name\n",
        "TENSORBOARD_NAME = tensorboard.resource_name\n",
        "print(TENSORBOARD_NAME)"
      ]
    },
    {
      "cell_type": "markdown",
      "metadata": {
        "id": "93002a20a2a6"
      },
      "source": [
        "### Build Custom Container\n",
        "\n",
        "Next, you build and push a docker image to the created repository using Cloud Build. \n",
        "\n",
        "Learn more about the process of [Building and pushing a Docker image with Cloud Build](https://cloud.google.com/build/docs/build-push-docker-image)."
      ]
    },
    {
      "cell_type": "code",
      "execution_count": null,
      "metadata": {
        "id": "adb0ffc87436"
      },
      "outputs": [],
      "source": [
        "CONTAINER_NAME = content_name + \"-gpu\"\n",
        "TAG = \"latest\"\n",
        "custom_container_image_uri = (\n",
        "    f\"{REGION}-docker.pkg.dev/{PROJECT_ID}/{REPOSITORY}/{CONTAINER_NAME}:{TAG}\"\n",
        ")"
      ]
    },
    {
      "cell_type": "markdown",
      "metadata": {
        "id": "cb89216b5176"
      },
      "source": [
        "While submitting the docker image using Cloud Build, it takes roughly 1 hour for the process to be finished. Hence, the timeout is set to `1h` in the command below. You can increase it in case there is a timeout after 1 hour."
      ]
    },
    {
      "cell_type": "code",
      "execution_count": null,
      "metadata": {
        "id": "b70c97119c3e"
      },
      "outputs": [],
      "source": [
        "%cd trainer-gpu\n",
        "!gcloud builds submit --timeout=\"1h\" --region={REGION} --tag=$custom_container_image_uri\n",
        "%cd .."
      ]
    },
    {
      "cell_type": "markdown",
      "metadata": {
        "id": "fdce49f0571f"
      },
      "source": [
        "To ensure your that push was succeeded, list the images in the created repository."
      ]
    },
    {
      "cell_type": "code",
      "execution_count": null,
      "metadata": {
        "id": "cb763be12fc9"
      },
      "outputs": [],
      "source": [
        "! gcloud artifacts docker images list $REGION-docker.pkg.dev/$PROJECT_ID/$REPOSITORY"
      ]
    },
    {
      "cell_type": "markdown",
      "metadata": {
        "id": "a4cac84e04ac"
      },
      "source": [
        "### Run a CustomContainerTrainingJob with GPUs using Vertex AI SDK\n",
        "\n",
        "Configure your custom training job with GPUs and other required resources. The task is created with a `TIMESTAMP` suffix so that you can run the job multiple times under a different `display-name`.\n",
        "\n",
        "The custom container takes the following arguments depending on the training task defined in `\"trainer-gpu/main.py\"` file.\n",
        "\n",
        "- `--data`: Path to dataset.\n",
        "- `--arch`: Model architecture. Ex: resnet18 and other architectures available from *torchvision.models*.\n",
        "- `--workers`: Number of data loading workers.\n",
        "- `--batch-size`: Mini-batch size (default: 32), per worker (GPU).\n",
        "- `--learning-rate`: Initial learning rate.\n",
        "- `--weight-decay`: Weight decay (default: 1e-4).\n",
        "- `--print-freq`: Print frequency (default: 10).\n",
        "- `--dist-backend`: Distributed backend (`nccl` or `gloo`). This notebook uses `nccl`.\n",
        "- `--checkpoint-file`: Checkpoint file path, to load and save to.\n",
        "\n",
        "The training job uses the GCFS filesystem to load the dataset and to read/write the model checkpoints. Therefore the paths are given with the prefix `/gcs/` rather than the `gs://`."
      ]
    },
    {
      "cell_type": "code",
      "execution_count": null,
      "metadata": {
        "id": "237ae076638d"
      },
      "outputs": [],
      "source": [
        "TIMESTAMP = datetime.now().strftime(\"%Y%m%d%H%M%S\")\n",
        "PRIMARY_COMPUTE = \"n1-highmem-16\"\n",
        "TRAIN_COMPUTE = \"n1-highmem-16\"\n",
        "NUM_CPUS = 14  # Set to a few less than max CPUs per instance for paralle data loading\n",
        "TRAIN_GPU = \"NVIDIA_TESLA_T4\"\n",
        "TRAIN_NGPU = 1\n",
        "BATCH_SIZE = 256\n",
        "REPLICAS = 4\n",
        "EPOCHS = 5\n",
        "\n",
        "display_name = (\n",
        "    CONTAINER_NAME\n",
        "    + f\"{REPLICAS}workers-{TRAIN_NGPU}{TRAIN_GPU}-{BATCH_SIZE}batch-\"\n",
        "    + TIMESTAMP\n",
        ")\n",
        "gcs_output_uri_prefix = f\"{BUCKET_URI}/{display_name}\"\n",
        "\n",
        "CMDARGS = [\n",
        "    f\"--epochs={EPOCHS}\",\n",
        "    \"--arch=resnet18\",\n",
        "    f\"--batch-size={BATCH_SIZE}\",\n",
        "    \"--dist-backend=nccl\",\n",
        "    f\"--data={DATASET_PATH}\",\n",
        "    f\"--workers={NUM_CPUS}\",\n",
        "    f\"--checkpoint-file=/gcs/{BUCKET_NAME}/checkpoint.pth.tar\",\n",
        "]\n",
        "\n",
        "CONTAINER_SPEC = {\"image_uri\": custom_container_image_uri, \"args\": CMDARGS}\n",
        "\n",
        "PRIMARY_WORKER_POOL = {\n",
        "    \"replica_count\": 1,\n",
        "    \"machine_spec\": {\n",
        "        \"machine_type\": PRIMARY_COMPUTE,\n",
        "        \"accelerator_count\": TRAIN_NGPU,\n",
        "        \"accelerator_type\": TRAIN_GPU,\n",
        "    },\n",
        "    \"container_spec\": CONTAINER_SPEC,\n",
        "}\n",
        "\n",
        "WORKER_POOL_SPECS = [PRIMARY_WORKER_POOL]\n",
        "\n",
        "TRAIN_WORKER_POOL = {\n",
        "    \"replica_count\": REPLICAS,\n",
        "    \"machine_spec\": {\n",
        "        \"machine_type\": TRAIN_COMPUTE,\n",
        "        \"accelerator_count\": TRAIN_NGPU,\n",
        "        \"accelerator_type\": TRAIN_GPU,\n",
        "    },\n",
        "    \"container_spec\": CONTAINER_SPEC,\n",
        "}\n",
        "\n",
        "WORKER_POOL_SPECS.append(TRAIN_WORKER_POOL)\n",
        "\n",
        "job = aiplatform.CustomJob(\n",
        "    display_name=display_name,\n",
        "    base_output_dir=gcs_output_uri_prefix,\n",
        "    worker_pool_specs=WORKER_POOL_SPECS,\n",
        ")"
      ]
    },
    {
      "cell_type": "markdown",
      "metadata": {
        "id": "3827b120dc29"
      },
      "source": [
        "Run the custom training job on Vertex AI Training with monitoring enabled through the created tensorboard instance.\n",
        "\n",
        "Links to monitor the progress of the custom training job and the tensorboard instance are generated."
      ]
    },
    {
      "cell_type": "code",
      "execution_count": null,
      "metadata": {
        "id": "c8495fe81134"
      },
      "outputs": [],
      "source": [
        "job.run(\n",
        "    sync=True, tensorboard=tensorboard.resource_name, service_account=SERVICE_ACCOUNT\n",
        ")"
      ]
    },
    {
      "cell_type": "markdown",
      "metadata": {
        "id": "ac0ce089b555"
      },
      "source": [
        "## Check the Model artifacts\n",
        "\n",
        "List the Cloud Storage bucket to see the model checkpoint files including the one with the best performance (named as `model_best.pth.tar`)."
      ]
    },
    {
      "cell_type": "code",
      "execution_count": null,
      "metadata": {
        "id": "f1e5c61aee49"
      },
      "outputs": [],
      "source": [
        "! gsutil ls -al $BUCKET_URI"
      ]
    },
    {
      "cell_type": "markdown",
      "metadata": {
        "id": "TpV-iwP9qw9c"
      },
      "source": [
        "## Cleaning up\n",
        "\n",
        "To clean up all Google Cloud resources used in this project, you can [delete the Google Cloud\n",
        "project](https://cloud.google.com/resource-manager/docs/creating-managing-projects#shutting_down_projects) you used for the tutorial.\n",
        "\n",
        "Otherwise, you can delete the individual resources you created in this tutorial:\n",
        "\n",
        "Set `delete_bucket` to **True** to delete the Cloud Storage bucket."
      ]
    },
    {
      "cell_type": "code",
      "execution_count": null,
      "metadata": {
        "id": "sx_vKniMq9ZX"
      },
      "outputs": [],
      "source": [
        "delete_bucket = False\n",
        "\n",
        "# Delete artifact repository\n",
        "! gcloud artifacts repositories delete $REPOSITORY --location=$REGION --quiet\n",
        "\n",
        "# Delete Tensorboard instance\n",
        "! gcloud ai tensorboards delete $TENSORBOARD_NAME\n",
        "\n",
        "# Delete Cloud Storage bucket\n",
        "if delete_bucket or os.getenv(\"IS_TESTING\"):\n",
        "    ! gsutil -m rm -r $BUCKET_URI"
      ]
    }
  ],
  "metadata": {
    "colab": {
      "name": "multi_node_ddp_nccl_vertex_training_with_custom_container.ipynb",
      "toc_visible": true
    },
    "kernelspec": {
      "display_name": "Python 3",
      "name": "python3"
    }
  },
  "nbformat": 4,
  "nbformat_minor": 0
}
