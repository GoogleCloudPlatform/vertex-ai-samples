{
  "cells": [
    {
      "cell_type": "code",
      "execution_count": null,
      "metadata": {
        "id": "a6b56b1c7b76"
      },
      "outputs": [],
      "source": [
        "# Copyright 2022 Google LLC\n",
        "#\n",
        "# Licensed under the Apache License, Version 2.0 (the \"License\");\n",
        "# you may not use this file except in compliance with the License.\n",
        "# You may obtain a copy of the License at\n",
        "#\n",
        "#     https://www.apache.org/licenses/LICENSE-2.0\n",
        "#\n",
        "# Unless required by applicable law or agreed to in writing, software\n",
        "# distributed under the License is distributed on an \"AS IS\" BASIS,\n",
        "# WITHOUT WARRANTIES OR CONDITIONS OF ANY KIND, either express or implied.\n",
        "# See the License for the specific language governing permissions and\n",
        "# limitations under the License."
      ]
    },
    {
      "cell_type": "markdown",
      "metadata": {
        "id": "c414a395a19b"
      },
      "source": [
        "# PyTorch image classification using multi-node NCCL distributed data parallel training on CPU and Vertex AI\n",
        "\n",
        "<table align=\"left\">\n",
        "  <td style=\"text-align: center\">\n",
        "    <a href=\"https://colab.research.google.com/github/GoogleCloudPlatform/vertex-ai-samples/blob/main/notebooks/official/training/multi_node_ddp_nccl_vertex_training_with_custom_container.ipynb\">\n",
        "      <img src=\"https://cloud.google.com/ml-engine/images/colab-logo-32px.png\" alt=\"Google Colaboratory logo\"><br> Open in Colab\n",
        "    </a>\n",
        "  </td>\n",
        "  <td style=\"text-align: center\">\n",
        "    <a href=\"https://console.cloud.google.com/vertex-ai/colab/import/https:%2F%2Fraw.githubusercontent.com%2FGoogleCloudPlatform%2Fvertex-ai-samples%2Fmain%2Fnotebooks%2Fofficial%2Ftraining%2Fmulti_node_ddp_nccl_vertex_training_with_custom_container.ipynb\">\n",
        "      <img width=\"32px\" src=\"https://cloud.google.com/ml-engine/images/colab-enterprise-logo-32px.png\" alt=\"Google Cloud Colab Enterprise logo\"><br> Open in Colab Enterprise\n",
        "    </a>\n",
        "  </td>    \n",
        "  <td style=\"text-align: center\">\n",
        "    <a href=\"https://console.cloud.google.com/vertex-ai/workbench/deploy-notebook?download_url=https://raw.githubusercontent.com/GoogleCloudPlatform/vertex-ai-samples/main/notebooks/official/training/multi_node_ddp_nccl_vertex_training_with_custom_container.ipynb\">\n",
        "      <img src=\"https://lh3.googleusercontent.com/UiNooY4LUgW_oTvpsNhPpQzsstV5W8F7rYgxgGBD85cWJoLmrOzhVs_ksK_vgx40SHs7jCqkTkCk=e14-rj-sc0xffffff-h130-w32\" alt=\"Vertex AI logo\"><br> Open in Workbench\n",
        "    </a>\n",
        "  </td>\n",
        "  <td style=\"text-align: center\">\n",
        "    <a href=\"https://github.com/GoogleCloudPlatform/vertex-ai-samples/blob/main/notebooks/official/training/multi_node_ddp_nccl_vertex_training_with_custom_container.ipynb\">\n",
        "      <img src=\"https://cloud.google.com/ml-engine/images/github-logo-32px.png\" alt=\"GitHub logo\"><br> View on GitHub\n",
        "    </a>\n",
        "  </td>\n",
        "</table>"
      ]
    },
    {
      "cell_type": "markdown",
      "metadata": {
        "id": "196084857666"
      },
      "source": [
        "## Overview\n",
        "\n",
        "\n",
        "This tutorial demonstrates how to create a distributed NCCL PyTorch training job using Vertex AI SDK for Python and custom containers. This can help your training job scale to handle a large amount of data.\n",
        "\n",
        "Learn more about [Vertex AI Training](https://cloud.google.com/vertex-ai/docs/training/custom-training)."
      ]
    },
    {
      "cell_type": "markdown",
      "metadata": {
        "id": "9f34250c9e39"
      },
      "source": [
        "### Objective\n",
        "\n",
        "In this tutorial, you learn how to create a distributed PyTorch training job using Vertex AI SDK for Python and custom containers. You set up a custom container, a Vertex AI TensorBoard instance and run a custom training job. \n",
        "\n",
        "This tutorial uses the following Vertex AI services:\n",
        "\n",
        "- Vertex AI TensorBoard\n",
        "- Vertex AI Training\n",
        "\n",
        "The steps performed include:\n",
        "\n",
        "- Building a custom container using Artifact Registry and Docker.\n",
        "- Creating a Vertex AI tensorboard instance to store your Vertex AI experiment.\n",
        "- Run a Vertex AI training job using Vertex AI SDK for Python."
      ]
    },
    {
      "cell_type": "markdown",
      "metadata": {
        "id": "2ee27912fc7e"
      },
      "source": [
        "### Dataset\n",
        "\n",
        "The dataset used for this tutorial is the <a href=\"http://yann.lecun.com/exdb/mnist/\">MNIST database</a>. The MNIST database of handwritten digits has a training set of 60,000 examples, and a test set of 10,000 examples. This dataset is a subset of a larger dataset constructed from  binary images of handwritten digits. The digits have been size-normalized and centered in a fixed-size image.\n"
      ]
    },
    {
      "cell_type": "markdown",
      "metadata": {
        "id": "72ce3c3e56b3"
      },
      "source": [
        "### Costs \n",
        " \n",
        "This tutorial uses billable components of Google Cloud:\n",
        "\n",
        "* Vertex AI\n",
        "\n",
        "* Cloud Storage\n",
        "\n",
        "* Vertex AI TensorBoard (Note that Vertex AI TensorBoard charges a monthly fee of $300 per unique active user. Active users are measured through the Vertex AI TensorBoard UI. You also pay for Google Cloud resources you use with Vertex AI TensorBoard, such as TensorBoard logs stored in Cloud Storage. <a href='https://cloud.google.com/vertex-ai/pricing#tensorboard'>Check the link for latest prices.</a>)\n",
        "\n",
        "Learn about [Vertex AI pricing](https://cloud.google.com/vertex-ai/pricing) and [Cloud Storage pricing](https://cloud.google.com/storage/pricing), and use the [Pricing Calculator](https://cloud.google.com/products/calculator/),\n",
        "        to generate a cost estimate based on your projected usage.\n"
      ]
    },
    {
      "cell_type": "markdown",
      "metadata": {
        "id": "f0316df526f8"
      },
      "source": [
        "## Get started"
      ]
    },
    {
      "cell_type": "markdown",
      "metadata": {
        "id": "03d216c7f7b1"
      },
      "source": [
        "### Install Vertex AI SDK for Python and other required packages\n"
      ]
    },
    {
      "cell_type": "code",
      "execution_count": null,
      "metadata": {
        "id": "6d015287b38d"
      },
      "outputs": [],
      "source": [
        "# Install the Vertex AI SDK for Python\n",
        "! pip3 install --quiet --upgrade google-cloud-aiplatform\n",
        "\n",
        "# Install other required libraries\n",
        "! pip3 install --quiet torch \\\n",
        "                        torchvision \\\n",
        "                        tensorboard"
      ]
    },
    {
      "cell_type": "markdown",
      "metadata": {
        "id": "35942e320683"
      },
      "source": [
        "### Restart runtime (Colab only)\n",
        "\n",
        "To use the newly installed packages, you must restart the runtime on Google Colab."
      ]
    },
    {
      "cell_type": "code",
      "execution_count": null,
      "metadata": {
        "id": "a7e5937088c8"
      },
      "outputs": [],
      "source": [
        "import sys\n",
        "\n",
        "if \"google.colab\" in sys.modules:\n",
        "\n",
        "    import IPython\n",
        "\n",
        "    app = IPython.Application.instance()\n",
        "    app.kernel.do_shutdown(True)"
      ]
    },
    {
      "cell_type": "markdown",
      "metadata": {
        "id": "ee775571c2b5"
      },
      "source": [
        "<div class=\"alert alert-block alert-warning\">\n",
        "<b>⚠️ The kernel is going to restart. Wait until it's finished before continuing to the next step. ⚠️</b>\n",
        "</div>\n"
      ]
    },
    {
      "cell_type": "markdown",
      "metadata": {
        "id": "92e68cfc3a90"
      },
      "source": [
        "### Authenticate your notebook environment (Colab only)\n",
        "\n",
        "Authenticate your environment on Google Colab.\n"
      ]
    },
    {
      "cell_type": "code",
      "execution_count": null,
      "metadata": {
        "id": "46604f70e831"
      },
      "outputs": [],
      "source": [
        "import sys\n",
        "\n",
        "if \"google.colab\" in sys.modules:\n",
        "\n",
        "    from google.colab import auth\n",
        "\n",
        "    auth.authenticate_user()"
      ]
    },
    {
      "cell_type": "markdown",
      "metadata": {
        "id": "80f70e8aa911"
      },
      "source": [
        "### Set Google Cloud project information\n",
        "\n",
        " Learn more about [setting up a project and a development environment](https://cloud.google.com/vertex-ai/docs/start/cloud-environment)."
      ]
    },
    {
      "cell_type": "code",
      "execution_count": null,
      "metadata": {
        "id": "3989ed5bea75"
      },
      "outputs": [],
      "source": [
        "PROJECT_ID = \"[your-project-id]\"  # @param {type:\"string\"}\n",
        "LOCATION = \"us-central1\"  # @param {type:\"string\"}"
      ]
    },
    {
      "cell_type": "markdown",
      "metadata": {
        "id": "zgPO1eR3CYjk"
      },
      "source": [
        "### Create a Cloud Storage bucket\n",
        "\n",
        "Create a storage bucket to store intermediate artifacts such as datasets."
      ]
    },
    {
      "cell_type": "code",
      "execution_count": null,
      "metadata": {
        "id": "MzGDU7TWdts_"
      },
      "outputs": [],
      "source": [
        "BUCKET_URI = f\"gs://your-bucket-name-{PROJECT_ID}-unique\"  # @param {type:\"string\"}"
      ]
    },
    {
      "cell_type": "markdown",
      "metadata": {
        "id": "create_bucket"
      },
      "source": [
        "**If your bucket doesn't already exist**: Run the following cell to create your Cloud Storage bucket."
      ]
    },
    {
      "cell_type": "code",
      "execution_count": null,
      "metadata": {
        "id": "NIq7R4HZCfIc"
      },
      "outputs": [],
      "source": [
        "! gsutil mb -l {LOCATION} -p {PROJECT_ID} {BUCKET_URI}"
      ]
    },
    {
      "cell_type": "markdown",
      "metadata": {
        "id": "306bf9ab7f7f"
      },
      "source": [
        "### Initialize Vertex AI SDK for Python\n",
        "\n",
        "To get started using Vertex AI, you must have an existing Google Cloud project and enable the [Vertex AI API](https://console.cloud.google.com/flows/enableapi?apiid=aiplatform.googleapis.com)."
      ]
    },
    {
      "cell_type": "code",
      "execution_count": null,
      "metadata": {
        "id": "4dc6b3ba241c"
      },
      "outputs": [],
      "source": [
        "from google.cloud import aiplatform\n",
        "\n",
        "aiplatform.init(project=PROJECT_ID, staging_bucket=BUCKET_URI, location=LOCATION)"
      ]
    },
    {
      "cell_type": "markdown",
      "metadata": {
        "id": "05d881f62170"
      },
      "source": [
        "### Service Account \n",
        "\n",
        "You use a service account to run Vetex AI CustomContainerTrainingJob. If you don't want to use your project's Compute Engine service account, set `SERVICE_ACCOUNT` to another service account ID."
      ]
    },
    {
      "cell_type": "code",
      "execution_count": null,
      "metadata": {
        "id": "034c005865b1"
      },
      "outputs": [],
      "source": [
        "SERVICE_ACCOUNT = \"[your-service-account]\"  # @param {type:\"string\"}"
      ]
    },
    {
      "cell_type": "code",
      "execution_count": null,
      "metadata": {
        "id": "137e835d3759"
      },
      "outputs": [],
      "source": [
        "import sys\n",
        "\n",
        "IS_COLAB = \"google.colab\" in sys.modules\n",
        "if (\n",
        "    SERVICE_ACCOUNT == \"\"\n",
        "    or SERVICE_ACCOUNT is None\n",
        "    or SERVICE_ACCOUNT == \"[your-service-account]\"\n",
        "):\n",
        "    # Get your service account from gcloud\n",
        "    if not IS_COLAB:\n",
        "        shell_output = !gcloud auth list 2>/dev/null\n",
        "        SERVICE_ACCOUNT = shell_output[2].replace(\"*\", \"\").strip()\n",
        "\n",
        "    else:  # IS_COLAB:\n",
        "        shell_output = ! gcloud projects describe  $PROJECT_ID\n",
        "        project_number = shell_output[-1].split(\":\")[1].strip().replace(\"'\", \"\")\n",
        "        SERVICE_ACCOUNT = f\"{project_number}-compute@developer.gserviceaccount.com\"\n",
        "\n",
        "    print(\"Service Account:\", SERVICE_ACCOUNT)"
      ]
    },
    {
      "cell_type": "markdown",
      "metadata": {
        "id": "2d242773d707"
      },
      "source": [
        "### Enable Artifact Registry API\n",
        "You must enable the [Artifact Registry API](https://cloud.google.com/artifact-registry/docs/reference/rest) service for your project.\n",
        "\n",
        "<a href=\"https://cloud.google.com/artifact-registry/docs/enable-service\">Learn more about Enabling service</a>."
      ]
    },
    {
      "cell_type": "code",
      "execution_count": null,
      "metadata": {
        "id": "00ceac726715"
      },
      "outputs": [],
      "source": [
        "import os\n",
        "\n",
        "! gcloud services enable artifactregistry.googleapis.com\n",
        "\n",
        "if os.getenv(\"IS_TESTING\"):\n",
        "    ! sudo apt-get update --yes && sudo apt-get --only-upgrade --yes install google-cloud-sdk-cloud-run-proxy google-cloud-sdk-harbourbridge google-cloud-sdk-cbt google-cloud-sdk-gke-gcloud-auth-plugin google-cloud-sdk-kpt google-cloud-sdk-local-extract google-cloud-sdk-minikube google-cloud-sdk-app-engine-java google-cloud-sdk-app-engine-go google-cloud-sdk-app-engine-python google-cloud-sdk-spanner-emulator google-cloud-sdk-bigtable-emulator google-cloud-sdk-nomos google-cloud-sdk-package-go-module google-cloud-sdk-firestore-emulator kubectl google-cloud-sdk-datastore-emulator google-cloud-sdk-app-engine-python-extras google-cloud-sdk-cloud-build-local google-cloud-sdk-kubectl-oidc google-cloud-sdk-anthos-auth google-cloud-sdk-app-engine-grpc google-cloud-sdk-pubsub-emulator google-cloud-sdk-datalab google-cloud-sdk-skaffold google-cloud-sdk google-cloud-sdk-terraform-tools google-cloud-sdk-config-connector\n",
        "    ! gcloud components update --quiet"
      ]
    },
    {
      "cell_type": "markdown",
      "metadata": {
        "id": "12c03eca5908"
      },
      "source": [
        "## Create training application\n",
        "\n",
        "Before you can perform local training, create a source code file, a requirements file, and a docker file for your training application."
      ]
    },
    {
      "cell_type": "code",
      "execution_count": null,
      "metadata": {
        "id": "9f058ed522e8"
      },
      "outputs": [],
      "source": [
        "PYTHON_PACKAGE_APPLICATION_DIR = \"trainer\"\n",
        "\n",
        "# Create the app folder\n",
        "!mkdir -p $PYTHON_PACKAGE_APPLICATION_DIR"
      ]
    },
    {
      "cell_type": "markdown",
      "metadata": {
        "id": "436cc7d0197e"
      },
      "source": [
        "### Create training script\n",
        "\n",
        "Create the training file that runs the PyTorch distributed training."
      ]
    },
    {
      "cell_type": "code",
      "execution_count": null,
      "metadata": {
        "id": "34d5b6e85332"
      },
      "outputs": [],
      "source": [
        "%%writefile {PYTHON_PACKAGE_APPLICATION_DIR}/task.py\n",
        "\n",
        "\n",
        "\"\"\"\n",
        "Main program for PyTorch distributed training.\n",
        "Adapted from: https://github.com/narumiruna/pytorch-distributed-example\n",
        "\"\"\"\n",
        "\n",
        "import argparse\n",
        "import os\n",
        "import shutil\n",
        "\n",
        "import torch\n",
        "from torch import distributed\n",
        "from torch.nn.parallel import DistributedDataParallel\n",
        "from torch.utils import data\n",
        "from torch.utils.tensorboard import SummaryWriter\n",
        "\n",
        "from torchvision import datasets, transforms\n",
        "\n",
        "def parse_args():\n",
        "\n",
        "  parser = argparse.ArgumentParser()\n",
        "\n",
        "  # Using environment variables for Cloud Storage directories\n",
        "  # see more details in https://cloud.google.com/vertex-ai/docs/training/code-requirements\n",
        "  parser.add_argument(\n",
        "      '--model-dir', default=os.getenv('AIP_MODEL_DIR'), type=str,\n",
        "      help='a Cloud Storage URI of a directory intended for saving model artifacts')\n",
        "  parser.add_argument(\n",
        "      '--tensorboard-log-dir', default=os.getenv('AIP_TENSORBOARD_LOG_DIR'), type=str,\n",
        "      help='a Cloud Storage URI of a directory intended for saving TensorBoard')\n",
        "  parser.add_argument(\n",
        "      '--checkpoint-dir', default=os.getenv('AIP_CHECKPOINT_DIR'), type=str,\n",
        "      help='a Cloud Storage URI of a directory intended for saving checkpoints')\n",
        "\n",
        "  parser.add_argument(\n",
        "      '--backend', type=str, default='gloo',\n",
        "      help='Use the `nccl` backend for distributed GPU training.'\n",
        "           'Use the `gloo` backend for distributed CPU training.')\n",
        "  parser.add_argument(\n",
        "      '--init-method', type=str, default='env://',\n",
        "      help='URL specifying how to initialize the package.')\n",
        "  parser.add_argument(\n",
        "      '--world-size', type=int, default=os.environ.get('WORLD_SIZE', 1),\n",
        "      help='The total number of nodes in the cluster. '\n",
        "           'This variable has the same value on every node.')\n",
        "  parser.add_argument(\n",
        "      '--rank', type=int, default=os.environ.get('RANK', 0),\n",
        "      help='A unique identifier for each node. '\n",
        "           'On the master worker, this is set to 0. '\n",
        "           'On each worker, it is set to a different value from 1 to WORLD_SIZE - 1.')\n",
        "  parser.add_argument(\n",
        "      '--epochs', type=int, default=20)\n",
        "  parser.add_argument(\n",
        "      '--no-cuda', action='store_true')\n",
        "  parser.add_argument(\n",
        "      '-lr', '--learning-rate', type=float, default=1e-3)\n",
        "  parser.add_argument(\n",
        "      '--batch-size', type=int, default=128)\n",
        "  parser.add_argument(\n",
        "      '--local-mode', action='store_true', help='use local mode when running on your local machine')\n",
        "\n",
        "  args = parser.parse_args()\n",
        "\n",
        "  return args\n",
        "\n",
        "def makedirs(model_dir):\n",
        "  if os.path.exists(model_dir) and os.path.isdir(model_dir):\n",
        "    shutil.rmtree(model_dir)\n",
        "  os.makedirs(model_dir)\n",
        "  return\n",
        "\n",
        "def distributed_is_initialized():\n",
        "  if distributed.is_available():\n",
        "    if distributed.is_initialized():\n",
        "      return True\n",
        "  return False\n",
        "\n",
        "class Average(object):\n",
        "\n",
        "  def __init__(self):\n",
        "    self.sum = 0\n",
        "    self.count = 0\n",
        "\n",
        "  def __str__(self):\n",
        "    return '{:.6f}'.format(self.average)\n",
        "\n",
        "  @property\n",
        "  def average(self):\n",
        "    return self.sum / self.count\n",
        "\n",
        "  def update(self, value, number):\n",
        "    self.sum += value * number\n",
        "    self.count += number\n",
        "\n",
        "class Accuracy(object):\n",
        "\n",
        "  def __init__(self):\n",
        "    self.correct = 0\n",
        "    self.count = 0\n",
        "\n",
        "  def __str__(self):\n",
        "    return '{:.2f}%'.format(self.accuracy * 100)\n",
        "\n",
        "  @property\n",
        "  def accuracy(self):\n",
        "    return self.correct / self.count\n",
        "\n",
        "  @torch.no_grad()\n",
        "  def update(self, output, target):\n",
        "    pred = output.argmax(dim=1)\n",
        "    correct = pred.eq(target).sum().item()\n",
        "\n",
        "    self.correct += correct\n",
        "    self.count += output.size(0)\n",
        "\n",
        "class Net(torch.nn.Module):\n",
        "\n",
        "  def __init__(self, device):\n",
        "    super(Net, self).__init__()\n",
        "    self.fc = torch.nn.Linear(784, 10).to(device)\n",
        "\n",
        "  def forward(self, x):\n",
        "    return self.fc(x.view(x.size(0), -1))\n",
        "\n",
        "class MNISTDataLoader(data.DataLoader):\n",
        "\n",
        "  def __init__(self, root, batch_size, train=True):\n",
        "    transform = transforms.Compose([\n",
        "        transforms.ToTensor(),\n",
        "        transforms.Normalize((0.1307,), (0.3081,)),\n",
        "    ])\n",
        "\n",
        "    dataset = datasets.MNIST(root, train=train, transform=transform, download=True)\n",
        "    sampler = None\n",
        "    if train and distributed_is_initialized():\n",
        "      sampler = data.DistributedSampler(dataset)\n",
        "\n",
        "    super(MNISTDataLoader, self).__init__(\n",
        "        dataset,\n",
        "        batch_size=batch_size,\n",
        "        shuffle=(sampler is None),\n",
        "        sampler=sampler,\n",
        "    )\n",
        "\n",
        "class Trainer(object):\n",
        "\n",
        "  def __init__(self,\n",
        "      model,\n",
        "      optimizer,\n",
        "      train_loader,\n",
        "      test_loader,\n",
        "      device,\n",
        "      model_name,\n",
        "      checkpoint_path\n",
        "  ):\n",
        "    self.model = model\n",
        "    self.optimizer = optimizer\n",
        "    self.train_loader = train_loader\n",
        "    self.test_loader = test_loader\n",
        "    self.device = device\n",
        "    self.model_name = model_name\n",
        "    self.checkpoint_path = checkpoint_path\n",
        "\n",
        "  def save(self, model_dir):\n",
        "    model_path = os.path.join(model_dir, self.model_name)\n",
        "    torch.save(self.model.state_dict(), model_path)\n",
        "\n",
        "  def fit(self, epochs, is_chief, writer):\n",
        "\n",
        "    for epoch in range(1, epochs + 1):\n",
        "\n",
        "      print('Epoch: {}, Training ...'.format(epoch))\n",
        "      train_loss, train_acc = self.train()\n",
        "\n",
        "      if is_chief:\n",
        "        test_loss, test_acc = self.evaluate()\n",
        "        writer.add_scalar('Loss/train', train_loss.average, epoch)\n",
        "        writer.add_scalar('Loss/test', test_loss.average, epoch)\n",
        "        writer.add_scalar('Accuracy/train', train_acc.accuracy, epoch)\n",
        "        writer.add_scalar('Accuracy/test', test_acc.accuracy, epoch)\n",
        "        torch.save(self.model.state_dict(), self.checkpoint_path)\n",
        "\n",
        "        print(\n",
        "            'Epoch: {}/{},'.format(epoch, epochs),\n",
        "            'train loss: {}, train acc: {},'.format(train_loss, train_acc),\n",
        "            'test loss: {}, test acc: {}.'.format(test_loss, test_acc),\n",
        "        )\n",
        "\n",
        "  def train(self):\n",
        "\n",
        "    self.model.train()\n",
        "\n",
        "    train_loss = Average()\n",
        "    train_acc = Accuracy()\n",
        "\n",
        "    for data, target in self.train_loader:\n",
        "      data = data.to(self.device)\n",
        "      target = target.to(self.device)\n",
        "\n",
        "      output = self.model(data)\n",
        "      loss = torch.nn.functional.cross_entropy(output, target)\n",
        "\n",
        "      self.optimizer.zero_grad()\n",
        "      loss.backward()\n",
        "      self.optimizer.step()\n",
        "\n",
        "      train_loss.update(loss.item(), data.size(0))\n",
        "      train_acc.update(output, target)\n",
        "\n",
        "    return train_loss, train_acc\n",
        "\n",
        "  @torch.no_grad()\n",
        "  def evaluate(self):\n",
        "    self.model.eval()\n",
        "\n",
        "    test_loss = Average()\n",
        "    test_acc = Accuracy()\n",
        "\n",
        "    for data, target in self.test_loader:\n",
        "      data = data.to(self.device)\n",
        "      target = target.to(self.device)\n",
        "\n",
        "      output = self.model(data)\n",
        "      loss = torch.nn.functional.cross_entropy(output, target)\n",
        "\n",
        "      test_loss.update(loss.item(), data.size(0))\n",
        "      test_acc.update(output, target)\n",
        "\n",
        "    return test_loss, test_acc\n",
        "\n",
        "def main():\n",
        "\n",
        "  args = parse_args()\n",
        "\n",
        "  local_data_dir = './tmp/data'\n",
        "  local_model_dir = './tmp/model'\n",
        "  local_tensorboard_log_dir = './tmp/logs'\n",
        "  local_checkpoint_dir = './tmp/checkpoints'\n",
        "\n",
        "  model_dir = args.model_dir or local_model_dir\n",
        "  tensorboard_log_dir = args.tensorboard_log_dir or local_tensorboard_log_dir\n",
        "  checkpoint_dir = args.checkpoint_dir or local_checkpoint_dir\n",
        "\n",
        "  gs_prefix = 'gs://'\n",
        "  gcsfuse_prefix = '/gcs/'\n",
        "  if model_dir and model_dir.startswith(gs_prefix):\n",
        "    model_dir = model_dir.replace(gs_prefix, gcsfuse_prefix)\n",
        "  if tensorboard_log_dir and tensorboard_log_dir.startswith(gs_prefix):\n",
        "    tensorboard_log_dir = tensorboard_log_dir.replace(gs_prefix, gcsfuse_prefix)\n",
        "  if checkpoint_dir and checkpoint_dir.startswith(gs_prefix):\n",
        "    checkpoint_dir = checkpoint_dir.replace(gs_prefix, gcsfuse_prefix)\n",
        "\n",
        "  writer = SummaryWriter(tensorboard_log_dir)\n",
        "\n",
        "  is_chief = args.rank == 0\n",
        "  if is_chief:\n",
        "    makedirs(checkpoint_dir)\n",
        "    print(f'Checkpoints will be saved to {checkpoint_dir}')\n",
        "\n",
        "  checkpoint_path = os.path.join(checkpoint_dir, 'checkpoint.pt')\n",
        "  print(f'checkpoint_path is {checkpoint_path}')\n",
        "\n",
        "  if args.world_size > 1:\n",
        "    print('Initializing distributed backend with {} nodes'.format(args.world_size))\n",
        "    distributed.init_process_group(\n",
        "          backend=args.backend,\n",
        "          init_method=args.init_method,\n",
        "          world_size=args.world_size,\n",
        "          rank=args.rank,\n",
        "      )\n",
        "    print(f'[{os.getpid()}]: '\n",
        "          f'world_size = {distributed.get_world_size()}, '\n",
        "          f'rank = {distributed.get_rank()}, '\n",
        "          f'backend={distributed.get_backend()} \\n', end='')\n",
        "\n",
        "  if torch.cuda.is_available() and not args.no_cuda:\n",
        "    device = torch.device('cuda:{}'.format(args.rank))\n",
        "  else:\n",
        "    device = torch.device('cpu')\n",
        "\n",
        "  model = Net(device=device)\n",
        "  if distributed_is_initialized():\n",
        "    model.to(device)\n",
        "    model = DistributedDataParallel(model)\n",
        "\n",
        "  if is_chief:\n",
        "    # All processes should see same parameters as they all start from same\n",
        "    # random parameters and gradients are synchronized in backward passes.\n",
        "    # Therefore, saving it in one process is sufficient.\n",
        "    torch.save(model.state_dict(), checkpoint_path)\n",
        "    print(f'Initial chief checkpoint is saved to {checkpoint_path}')\n",
        "\n",
        "  # Use a barrier() to make sure that process 1 loads the model after process\n",
        "  # 0 saves it.\n",
        "  if distributed_is_initialized():\n",
        "    distributed.barrier()\n",
        "    # configure map_location properly\n",
        "    model.load_state_dict(torch.load(checkpoint_path, map_location=device))\n",
        "    print(f'Initial chief checkpoint is saved to {checkpoint_path} with map_location {device}')\n",
        "  else:\n",
        "    model.load_state_dict(torch.load(checkpoint_path))\n",
        "    print(f'Initial chief checkpoint is loaded from {checkpoint_path}')\n",
        "\n",
        "  optimizer = torch.optim.Adam(model.parameters(), lr=args.learning_rate)\n",
        "\n",
        "  train_loader = MNISTDataLoader(\n",
        "      local_data_dir, args.batch_size, train=True)\n",
        "  test_loader = MNISTDataLoader(\n",
        "      local_data_dir, args.batch_size, train=False)\n",
        "\n",
        "  trainer = Trainer(\n",
        "      model=model,\n",
        "      optimizer=optimizer,\n",
        "      train_loader=train_loader,\n",
        "      test_loader=test_loader,\n",
        "      device=device,\n",
        "      model_name='mnist.pt',\n",
        "      checkpoint_path=checkpoint_path,\n",
        "  )\n",
        "  trainer.fit(args.epochs, is_chief, writer)\n",
        "\n",
        "  if model_dir == local_model_dir:\n",
        "    makedirs(model_dir)\n",
        "    trainer.save(model_dir)\n",
        "    print(f'Model is saved to {model_dir}')\n",
        "\n",
        "  print(f'Tensorboard logs are saved to: {tensorboard_log_dir}')\n",
        "\n",
        "  writer.close()\n",
        "\n",
        "  if is_chief:\n",
        "    os.remove(checkpoint_path)\n",
        "\n",
        "  if distributed_is_initialized():\n",
        "    distributed.destroy_process_group()\n",
        "\n",
        "  return\n",
        "\n",
        "if __name__ == '__main__':\n",
        "  main()\n"
      ]
    },
    {
      "cell_type": "markdown",
      "metadata": {
        "id": "253359c5153a"
      },
      "source": [
        "### Create requirements file"
      ]
    },
    {
      "cell_type": "code",
      "execution_count": null,
      "metadata": {
        "id": "46423aa093f3"
      },
      "outputs": [],
      "source": [
        "%%writefile {PYTHON_PACKAGE_APPLICATION_DIR}/requirements.txt\n",
        "\n",
        "torch\n",
        "torchvision\n",
        "tensorboard\n"
      ]
    },
    {
      "cell_type": "markdown",
      "metadata": {
        "id": "34bea792269a"
      },
      "source": [
        "### Create Dockerfile"
      ]
    },
    {
      "cell_type": "code",
      "execution_count": null,
      "metadata": {
        "id": "774a0be3a796"
      },
      "outputs": [],
      "source": [
        "%%writefile {PYTHON_PACKAGE_APPLICATION_DIR}/Dockerfile\n",
        "\n",
        "\n",
        "FROM pytorch/pytorch:1.8.1-cuda11.1-cudnn8-runtime\n",
        "\n",
        "RUN apt-get update && \\\n",
        "    apt-get install -y curl gnupg && \\\n",
        "    echo \"deb [signed-by=/usr/share/keyrings/cloud.google.gpg] http://packages.cloud.google.com/apt cloud-sdk main\" | tee -a /etc/apt/sources.list.d/google-cloud-sdk.list && \\\n",
        "    curl https://packages.cloud.google.com/apt/doc/apt-key.gpg | apt-key --keyring /usr/share/keyrings/cloud.google.gpg  add - && \\\n",
        "    apt-get update -y && \\\n",
        "    apt-get install google-cloud-sdk -y\n",
        "\n",
        "COPY . /trainer\n",
        "\n",
        "WORKDIR /trainer\n",
        "\n",
        "RUN pip install -r requirements.txt\n",
        "\n",
        "ENTRYPOINT [\"python\", \"-m\", \"task\"]\n"
      ]
    },
    {
      "cell_type": "markdown",
      "metadata": {
        "id": "57bf6f8b4361"
      },
      "source": [
        "## Train locally\n",
        "\n",
        "Run your training script locally to test your application."
      ]
    },
    {
      "cell_type": "code",
      "execution_count": null,
      "metadata": {
        "id": "c0c6e7dfb3c6"
      },
      "outputs": [],
      "source": [
        "%run trainer/task.py --epochs 5 --no-cuda --local-mode "
      ]
    },
    {
      "cell_type": "code",
      "execution_count": null,
      "metadata": {
        "id": "31dfdeede587"
      },
      "outputs": [],
      "source": [
        "# List the outputs\n",
        "! ls ./tmp"
      ]
    },
    {
      "cell_type": "markdown",
      "metadata": {
        "id": "8f3ea1210749"
      },
      "source": [
        "## Create a custom image for training"
      ]
    },
    {
      "cell_type": "markdown",
      "metadata": {
        "id": "23f3ba8346f4"
      },
      "source": [
        "### Create a private Docker repository\n",
        "\n",
        "Your first step is to create your own Docker repository in the Artifact Registry.\n",
        "\n",
        "1. Run the `gcloud artifacts repositories create` command to create a new Docker repository with your region with the description \"docker repository\".\n",
        "\n",
        "2. Run the `gcloud artifacts repositories list` command to verify that your repository was created."
      ]
    },
    {
      "cell_type": "code",
      "execution_count": null,
      "metadata": {
        "id": "64fee26c2dff"
      },
      "outputs": [],
      "source": [
        "# Set the name for your private repo\n",
        "PRIVATE_REPO = \"my-docker-repo-unique\"\n",
        "\n",
        "# Create the repository\n",
        "! gcloud artifacts repositories create {PRIVATE_REPO} --repository-format=docker --location={LOCATION} --description=\"Docker repository\"\n",
        "\n",
        "# List the repositories and verify\n",
        "! gcloud artifacts repositories list"
      ]
    },
    {
      "cell_type": "code",
      "execution_count": null,
      "metadata": {
        "id": "38e62011c5e1"
      },
      "outputs": [],
      "source": [
        "DEPLOY_IMAGE = (\n",
        "    f\"{LOCATION}-docker.pkg.dev/\" + PROJECT_ID + f\"/{PRIVATE_REPO}\" + \"/tf_serving\"\n",
        ")"
      ]
    },
    {
      "cell_type": "code",
      "execution_count": null,
      "metadata": {
        "id": "775c3eca365c"
      },
      "outputs": [],
      "source": [
        "print(\"Deployment:\", DEPLOY_IMAGE)"
      ]
    },
    {
      "cell_type": "markdown",
      "metadata": {
        "id": "535932b8c42d"
      },
      "source": [
        "## Executes in a notebook environment\n",
        "\n",
        "If you're running this tutorial in a notebook environment, for example Vertex AI workbench, proceed with the below steps. \n",
        "\n",
        "If you're running on Colab, skip to the \"[Executes in Colab](#Executes-in-Colab)\" section."
      ]
    },
    {
      "cell_type": "markdown",
      "metadata": {
        "id": "dd295337455e"
      },
      "source": [
        "### Configure authentication to your private repo\n",
        "Before you push or pull container images, configure Docker to use the gcloud command-line tool to authenticate requests to Artifact Registry for your region."
      ]
    },
    {
      "cell_type": "code",
      "execution_count": null,
      "metadata": {
        "id": "79c3fe4ab7f6"
      },
      "outputs": [],
      "source": [
        "if not IS_COLAB:\n",
        "    ! gcloud auth configure-docker {LOCATION}-docker.pkg.dev --quiet"
      ]
    },
    {
      "cell_type": "markdown",
      "metadata": {
        "id": "a822a118c210"
      },
      "source": [
        "### Build and push the image for serving\n",
        "Set the TensorFlow Serving image for serving predictions.\n",
        "\n",
        "The following code:\n",
        "1. Pulls the corresponding CPU or GPU Docker image for TF Serving from Docker Hub.\n",
        "2. Creates a tag for registering the image with Artifact Registry\n",
        "3. Registers the image with Artifact Registry.\n",
        "\n",
        "<a href=\"https://www.tensorflow.org/tfx/serving/docker\">Learn more about TensorFlow Serving</a>."
      ]
    },
    {
      "cell_type": "code",
      "execution_count": null,
      "metadata": {
        "id": "dfec228d9de2"
      },
      "outputs": [],
      "source": [
        "if not IS_COLAB:\n",
        "    ! cd trainer && docker build -t $DEPLOY_IMAGE -f Dockerfile .\n",
        "    ! docker run --rm $DEPLOY_IMAGE --epochs 5 --no-cuda --local-mode\n",
        "    ! docker push $DEPLOY_IMAGE"
      ]
    },
    {
      "cell_type": "markdown",
      "metadata": {
        "id": "7102219bb621"
      },
      "source": [
        "## Executes in Colab\n",
        "\n",
        "Build and push a Docker image with Cloud Build."
      ]
    },
    {
      "cell_type": "code",
      "execution_count": null,
      "metadata": {
        "id": "736e3c0d1fd8"
      },
      "outputs": [],
      "source": [
        "if IS_COLAB:\n",
        "    ! cd trainer && gcloud builds submit --timeout=1800s --region={LOCATION} --tag $DEPLOY_IMAGE"
      ]
    },
    {
      "cell_type": "markdown",
      "metadata": {
        "id": "73c92c9298e9"
      },
      "source": [
        "## Create a Vertex AI Tensorboard instance\n",
        "\n",
        "Set a display name for your Tensorboard instance below and run the create command.\n",
        "\n",
        "**Note:**  To use an existing Vertex AI Tensorboard instance, use the following method.\n",
        "\n",
        "```\n",
        "tensorboard_name = \"Your Tensorboard resource name or Tensorboard instance ID\"\n",
        "tensorboard = aiplatform.Tensorboard(tensorboard_name=tensorboard_name)\n",
        "```"
      ]
    },
    {
      "cell_type": "code",
      "execution_count": null,
      "metadata": {
        "id": "bde509558cd5"
      },
      "outputs": [],
      "source": [
        "# Set display name for Tensorboard instance\n",
        "TENSORBOARD_DISPLAY_NAME = \"pytorch-image-classify-multi-node-ddp\""
      ]
    },
    {
      "cell_type": "code",
      "execution_count": null,
      "metadata": {
        "id": "6d7908c0083c"
      },
      "outputs": [],
      "source": [
        "# Create the Tensorboard instance\n",
        "tensorboard = aiplatform.Tensorboard.create(\n",
        "    display_name=TENSORBOARD_DISPLAY_NAME,\n",
        ")"
      ]
    },
    {
      "cell_type": "markdown",
      "metadata": {
        "id": "a4cac84e04ac"
      },
      "source": [
        "## Create a Vertex AI custom container training job\n",
        "\n",
        "Learn more about [configuring compute resources for custom training](https://cloud.google.com/vertex-ai/docs/training/configure-compute)."
      ]
    },
    {
      "cell_type": "code",
      "execution_count": null,
      "metadata": {
        "id": "f92e8fdd44ee"
      },
      "outputs": [],
      "source": [
        "# Set display name for your training job\n",
        "JOB_DISPLAY_NAME = \"pytorch-image-classify-multi-node-ddp-training\"\n",
        "# Set a Cloud Storage output path\n",
        "GCS_OUTPUT_URI_PREFIX = f\"{BUCKET_URI}/{JOB_DISPLAY_NAME}\"\n",
        "# Set the number of replicas in the workerpool\n",
        "REPLICA_COUNT = 1\n",
        "# Set the machine type for running the training job\n",
        "MACHINE_TYPE = \"n1-standard-4\"\n",
        "# Set the number of accelerators needed for training\n",
        "ACCELERATOR_COUNT = 1\n",
        "# Set the accelerator type\n",
        "ACCELERATOR_TYPE = \"NVIDIA_TESLA_T4\"\n",
        "# Set the args to be passed to the training application\n",
        "ARGS = [\n",
        "    \"--backend\",\n",
        "    \"nccl\",\n",
        "    \"--no-cuda\",\n",
        "    \"--batch-size\",\n",
        "    \"128\",\n",
        "    \"--epochs\",\n",
        "    \"25\",\n",
        "]"
      ]
    },
    {
      "cell_type": "code",
      "execution_count": null,
      "metadata": {
        "id": "ae4c57df7e07"
      },
      "outputs": [],
      "source": [
        "# Create the custom container training job\n",
        "custom_container_training_job = aiplatform.CustomContainerTrainingJob(\n",
        "    display_name=JOB_DISPLAY_NAME,\n",
        "    container_uri=DEPLOY_IMAGE,\n",
        ")"
      ]
    },
    {
      "cell_type": "markdown",
      "metadata": {
        "id": "24e0350a3c68"
      },
      "source": [
        "## Run the training job"
      ]
    },
    {
      "cell_type": "code",
      "execution_count": null,
      "metadata": {
        "id": "35cf3ecdf0df"
      },
      "outputs": [],
      "source": [
        "custom_container_training_job.run(\n",
        "    args=ARGS,\n",
        "    base_output_dir=GCS_OUTPUT_URI_PREFIX,\n",
        "    replica_count=REPLICA_COUNT,\n",
        "    machine_type=MACHINE_TYPE,\n",
        "    accelerator_count=ACCELERATOR_COUNT,\n",
        "    accelerator_type=ACCELERATOR_TYPE,\n",
        "    tensorboard=tensorboard.resource_name,\n",
        "    service_account=SERVICE_ACCOUNT,\n",
        ")"
      ]
    },
    {
      "cell_type": "code",
      "execution_count": null,
      "metadata": {
        "id": "49d10dded73b"
      },
      "outputs": [],
      "source": [
        "print(f\"Custom Training Job Name: {custom_container_training_job.resource_name}\")\n",
        "print(f\"GCS Output URI Prefix: {GCS_OUTPUT_URI_PREFIX}\")"
      ]
    },
    {
      "cell_type": "markdown",
      "metadata": {
        "id": "78398f52807b"
      },
      "source": [
        "## View training output artifacts"
      ]
    },
    {
      "cell_type": "code",
      "execution_count": null,
      "metadata": {
        "id": "fc74422de1d1"
      },
      "outputs": [],
      "source": [
        "! gsutil ls $GCS_OUTPUT_URI_PREFIX"
      ]
    },
    {
      "cell_type": "markdown",
      "metadata": {
        "id": "5e99a6a05b10"
      },
      "source": [
        "## Cleaning up\n",
        "\n",
        "To clean up all Google Cloud resources used in this project, you can [delete the Google Cloud\n",
        "project](https://cloud.google.com/resource-manager/docs/creating-managing-projects#shutting_down_projects) you used for the tutorial.\n",
        "\n",
        "Otherwise, you can delete the individual resources you created in this tutorial:\n",
        "\n",
        "- Vertex AI Training job\n",
        "- Vertex AI Tensorboard\n",
        "- Cloud Storage bucket\n",
        "- Artifact Registry repository"
      ]
    },
    {
      "cell_type": "code",
      "execution_count": null,
      "metadata": {
        "id": "b0c1b3f7466b"
      },
      "outputs": [],
      "source": [
        "# Delete the training job\n",
        "custom_container_training_job.delete()\n",
        "\n",
        "# Delete the Tensorboard instance\n",
        "delete_tensorboard = False  # Set True for deletion\n",
        "\n",
        "if delete_tensorboard:\n",
        "    tensorboard.delete()\n",
        "\n",
        "# Delete the Cloud Storage bucket\n",
        "delete_bucket = False  # Set True for deletion\n",
        "\n",
        "if delete_bucket:\n",
        "    ! gsutil rm -r $BUCKET_URI\n",
        "\n",
        "# Delete the repository in Artifact Registry\n",
        "! gcloud artifacts repositories delete {PRIVATE_REPO} --location {LOCATION} --quiet\n",
        "\n",
        "# Remove the outputs from the local execution\n",
        "! rm -rf ./tmp\n",
        "\n",
        "# Remove the training app folder\n",
        "! rm -rf ./trainer"
      ]
    }
  ],
  "metadata": {
    "colab": {
      "name": "multi_node_ddp_nccl_vertex_training_with_custom_container.ipynb",
      "toc_visible": true
    },
    "kernelspec": {
      "display_name": "Python 3",
      "name": "python3"
    }
  },
  "nbformat": 4,
  "nbformat_minor": 0
}
