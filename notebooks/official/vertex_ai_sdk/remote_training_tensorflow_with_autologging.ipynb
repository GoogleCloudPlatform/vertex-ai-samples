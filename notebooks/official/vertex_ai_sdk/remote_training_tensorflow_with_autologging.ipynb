{
  "cells": [
    {
      "cell_type": "code",
      "execution_count": null,
      "metadata": {
        "cellView": "form",
        "id": "ur8xi4C7S06n"
      },
      "outputs": [],
      "source": [
        "# Copyright 2023 Google LLC\n",
        "#\n",
        "# Licensed under the Apache License, Version 2.0 (the \"License\");\n",
        "# you may not use this file except in compliance with the License.\n",
        "# You may obtain a copy of the License at\n",
        "#\n",
        "#     https://www.apache.org/licenses/LICENSE-2.0\n",
        "#\n",
        "# Unless required by applicable law or agreed to in writing, software\n",
        "# distributed under the License is distributed on an \"AS IS\" BASIS,\n",
        "# WITHOUT WARRANTIES OR CONDITIONS OF ANY KIND, either express or implied.\n",
        "# See the License for the specific language governing permissions and\n",
        "# limitations under the License."
      ]
    },
    {
      "cell_type": "markdown",
      "metadata": {
        "id": "fsv4jGuU89rX"
      },
      "source": [
        "# Vertex AI SDK 2.0 Remote Training for keras model\n",
        "\n",
        "<table align=\"left\">\n",
        "  <td>\n",
        "    <a href=\"https://colab.research.google.com/github/GoogleCloudPlatform/vertex-ai-samples/blob/main/notebooks/official/vertex_ai_sdk/remote_training_tensorflow_with_autologging.ipynb\">\n",
        "      <img src=\"https://cloud.google.com/ml-engine/images/colab-logo-32px.png\" alt=\"Colab logo\"> Run in Colab\n",
        "    </a>\n",
        "  </td>\n",
        "  <td>\n",
        "    <a href=\"https://github.com/GoogleCloudPlatform/vertex-ai-samples/blob/main/notebooks/official/vertex_ai_sdk/remote_training_tensorflow_with_autologging.ipynb\">\n",
        "        <img src=\"https://cloud.google.com/ml-engine/images/github-logo-32px.png\" alt=\"GitHub logo\">\n",
        "      View on GitHub\n",
        "    </a>\n",
        "  </td>\n",
        "    <td>\n",
        "    <a href=\"https://console.cloud.google.com/vertex-ai/workbench/deploy-notebook?download_url=https://raw.githubusercontent.com/GoogleCloudPlatform/vertex-ai-samples/main/notebooks/official/vertex_ai_sdk/remote_training_tensorflow_with_autologging.ipynb\">\n",
        "       <img src=\"https://www.gstatic.com/cloud/images/navigation/vertex-ai.svg\" alt=\"Vertex AI logo\">Open in Vertex AI Workbench\n",
        "    </a>\n",
        "</table>"
      ]
    },
    {
      "cell_type": "markdown",
      "metadata": {
        "id": "overview:automl"
      },
      "source": [
        "## Overview\n",
        "\n",
        "This tutorial demonstrates how to use Vertex AI SDK 2.0 for remote model training of a local model training job for OSS ML frameworks."
      ]
    },
    {
      "cell_type": "markdown",
      "metadata": {
        "id": "objective:pipelines,automl"
      },
      "source": [
        "### Objective\n",
        "\n",
        "In this tutorial, you learn to use `Vertex AI SDK 2.0` to remotely training models of various ML frameworks as a local (on-prem) training job.\n",
        "\n",
        "This tutorial uses the following Google Cloud ML services:\n",
        "\n",
        "- `Vertex AI Training`\n",
        "- `Vertex AI Remote Training`\n",
        "\n",
        "The steps performed include:\n",
        "\n",
        "- Download and split the dataset\n",
        "- Perform transformations as a Vertex AI remote training.\n",
        "- For scikit-learn, PyTorch, TensorFlow, PyTorch Lightning\n",
        "    - Train the model remotely.\n",
        "    - Uptrain the pretrained model remotely.\n",
        "    - Evaluate both the pretrained and uptrained model.\n",
        "\n",
        "**Local-to-remote training**\n",
        "\n",
        "```\n",
        "import vertexai\n",
        "from my_module import MyModelClass\n",
        "\n",
        "vertexai.init(project=\"my-project\", location=\"my-location\", staging_bucket=\"gs://my-bucket\")\n",
        "\n",
        "# Switch to remote mode\n",
        "vertexai.preview.init(remote=True)\n",
        "\n",
        "# Wrap the model class with `vertexai.preview.remote`\n",
        "MyModelClass = vertexai.preview.remote(MyModelClass)\n",
        "\n",
        "# Instantiate the class\n",
        "model = MyModelClass(...)\n",
        "\n",
        "# Optional set training config\n",
        "model.fit.vertex.remote_config.display_name = \"MyModelClass-remote-training\"\n",
        "model.fit.vertex.remote_config.staging_bucket = \"gs://my-bucket\"\n",
        "\n",
        "# This `fit` call will be executed remotely\n",
        "model.fit(...)\n",
        "```\n",
        "\n",
        "*Remote training supported OSS ML frameworks*\n",
        "1.  scikit-learn\n",
        "2.  TensorFlow\n",
        "3.  PyTorch\n",
        "4.  Pytorch Lightning\n",
        "5.  Custom model\n",
        "\n",
        "\n",
        "---\n",
        "\n",
        "**Uptraining**\n",
        "```\n",
        "...\n",
        "model = MyModelClass(...)\n",
        "model.fit(...)\n",
        "\n",
        "# Save the trained model to Model Registry\n",
        "registered_model = vertexai.preview.register(model)\n",
        "\n",
        "# The model can be loaded to a new (or current) local runtime\n",
        "loaded_model = vertexai.preview.from_pretrained(\"registered-model-resource-id\")\n",
        "\n",
        "# Loaded model can cuntinue perform local-to-remote training\n",
        "loaded_model.fit(...)\n",
        "\n",
        "```\n",
        "\n",
        "*Remote training supported OSS ML frameworks*\n",
        "1.  scikit-learn\n",
        "2.  TensorFlow\n",
        "3.  Custom model\n",
        "4.  PyTorch\n",
        "\n",
        "\n",
        "\n",
        "---\n",
        "\n",
        "**GPU Training**\n",
        "```\n",
        "...\n",
        "model = MyModelClass(...)\n",
        "\n",
        "# Set enable_cuda to True to enable GPU training.\n",
        "model.fit.vertex.remote_config.enable_cuda = True\n",
        "\n",
        "# (Optional) Training image and compute resources will be automatically\n",
        "# handled by Vertex, but you can also config by yourself.\n",
        "model.fit.vertex.remote_config.container_uri = \"your-cuda-image\"\n",
        "model.fit.vertex.remote_config.machine_type = \"a2-highgpu-8g\"\n",
        "model.fit.vertex.remote_config.accelerator_type = \"NVIDIA_TESLA_A100\"\n",
        "model.fit.vertex.remote_config.accelerator_count = 8\n",
        "\n",
        "# Model will be trained remotely using GPU\n",
        "model.fit(...)\n",
        "```\n",
        "\n",
        "*GPU remote training supported OSS ML frameworks*\n",
        "1.  TensorFlow\n",
        "2.  PyTorch"
      ]
    },
    {
      "cell_type": "markdown",
      "metadata": {
        "id": "aef4f59195ad"
      },
      "source": [
        "### Dataset\n",
        "\n",
        "This tutorial uses the <a href=\"https://scikit-learn.org/stable/auto_examples/datasets/plot_iris_dataset.html\">IRIS dataset</a>, which predicts the iris species."
      ]
    },
    {
      "cell_type": "markdown",
      "metadata": {
        "id": "costs"
      },
      "source": [
        "### Costs\n",
        "\n",
        "This tutorial uses billable components of Google Cloud:\n",
        "\n",
        "* Vertex AI\n",
        "* Cloud Storage\n",
        "\n",
        "Learn about [Vertex AI\n",
        "pricing](https://cloud.google.com/vertex-ai/pricing), [Cloud Storage\n",
        "pricing](https://cloud.google.com/storage/pricing), and use the [Pricing\n",
        "Calculator](https://cloud.google.com/products/calculator/)\n",
        "to generate a cost estimate based on your projected usage."
      ]
    },
    {
      "cell_type": "markdown",
      "metadata": {
        "id": "install_aip:mbsdk"
      },
      "source": [
        "## Installation\n",
        "\n",
        "Install the following packages required to execute this notebook."
      ]
    },
    {
      "cell_type": "code",
      "execution_count": null,
      "metadata": {
        "id": "Fpp5OjGI6BaR"
      },
      "outputs": [],
      "source": [
        "! pip3 install --upgrade --quiet google-cloud-aiplatform[preview,autologging]\n",
        "! pip3 install --upgrade --quiet scikit-learn\n",
        "! pip3 install --upgrade --quiet tensorflow==2.12"
      ]
    },
    {
      "cell_type": "markdown",
      "metadata": {
        "id": "restart"
      },
      "source": [
        "### Colab only: Uncomment the following cell to restart the kernel"
      ]
    },
    {
      "cell_type": "code",
      "execution_count": null,
      "metadata": {
        "id": "D-ZBOjErv5mM"
      },
      "outputs": [],
      "source": [
        "# Automatically restart kernel after installs so that your environment can access the new packages\n",
        "# import IPython\n",
        "\n",
        "# app = IPython.Application.instance()\n",
        "# app.kernel.do_shutdown(True)"
      ]
    },
    {
      "cell_type": "markdown",
      "metadata": {
        "id": "before_you_begin:nogpu"
      },
      "source": [
        "## Before you begin\n",
        "\n",
        "### Set your project ID\n",
        "\n",
        "**If you don't know your project ID**, try the following:\n",
        "* Run `gcloud config list`.\n",
        "* Run `gcloud projects list`.\n",
        "* See the support page: [Locate the project ID](https://support.google.com/googleapi/answer/7014113)"
      ]
    },
    {
      "cell_type": "code",
      "execution_count": null,
      "metadata": {
        "id": "set_project_id"
      },
      "outputs": [],
      "source": [
        "PROJECT_ID = \"[your-project-id]\"  # @param {type:\"string\"}\n",
        "\n",
        "# Set the project id\n",
        "! gcloud config set project {PROJECT_ID}"
      ]
    },
    {
      "cell_type": "markdown",
      "metadata": {
        "id": "region"
      },
      "source": [
        "#### Region\n",
        "\n",
        "You can also change the `REGION` variable used by Vertex AI. Learn more about [Vertex AI regions](https://cloud.google.com/vertex-ai/docs/general/locations)."
      ]
    },
    {
      "cell_type": "code",
      "execution_count": null,
      "metadata": {
        "id": "2dw8q9fdQEH5"
      },
      "outputs": [],
      "source": [
        "REGION = \"us-central1\""
      ]
    },
    {
      "cell_type": "markdown",
      "metadata": {
        "id": "gcp_authenticate"
      },
      "source": [
        "### Authenticate your Google Cloud account\n",
        "\n",
        "Depending on your Jupyter environment, you may have to manually authenticate. Follow the relevant instructions below.\n",
        "\n",
        "**1. Vertex AI Workbench**\n",
        "* Do nothing as you are already authenticated.\n",
        "\n",
        "**2. Local JupyterLab instance, uncomment and run:**"
      ]
    },
    {
      "cell_type": "code",
      "execution_count": null,
      "metadata": {
        "id": "ce6043da7b33"
      },
      "outputs": [],
      "source": [
        "# ! gcloud auth login"
      ]
    },
    {
      "cell_type": "markdown",
      "metadata": {
        "id": "0367eac06a10"
      },
      "source": [
        "**3. Colab, uncomment and run:**"
      ]
    },
    {
      "cell_type": "code",
      "execution_count": null,
      "metadata": {
        "id": "21ad4dbb4a61"
      },
      "outputs": [],
      "source": [
        "# from google.colab import auth\n",
        "# auth.authenticate_user()"
      ]
    },
    {
      "cell_type": "markdown",
      "metadata": {
        "id": "c13224697bfb"
      },
      "source": [
        "**4. Service account or other**\n",
        "* See how to grant Cloud Storage permissions to your service account at https://cloud.google.com/storage/docs/gsutil/commands/iam#ch-examples."
      ]
    },
    {
      "cell_type": "markdown",
      "metadata": {
        "id": "bucket:mbsdk"
      },
      "source": [
        "### Create a Cloud Storage bucket\n",
        "\n",
        "Create a storage bucket to store intermediate artifacts such as datasets."
      ]
    },
    {
      "cell_type": "code",
      "execution_count": null,
      "metadata": {
        "id": "bucket"
      },
      "outputs": [],
      "source": [
        "BUCKET_URI = f\"gs://your-bucket-name-{PROJECT_ID}-unique\"  # @param {type:\"string\"}"
      ]
    },
    {
      "cell_type": "markdown",
      "metadata": {
        "id": "autoset_bucket"
      },
      "source": [
        "**Only if your bucket doesn't already exist**: Run the following cell to create your Cloud Storage bucket."
      ]
    },
    {
      "cell_type": "code",
      "execution_count": null,
      "metadata": {
        "id": "91c46850b49b"
      },
      "outputs": [],
      "source": [
        "! gsutil mb -l {REGION} -p {PROJECT_ID} {BUCKET_URI}"
      ]
    },
    {
      "cell_type": "markdown",
      "metadata": {
        "id": "setup_vars"
      },
      "source": [
        "### Import libraries and define constants"
      ]
    },
    {
      "cell_type": "code",
      "execution_count": null,
      "metadata": {
        "id": "LF2bwT6q-of1"
      },
      "outputs": [],
      "source": [
        "import vertexai\n",
        "from sklearn.datasets import load_iris\n",
        "from sklearn.model_selection import train_test_split\n",
        "from sklearn.preprocessing import StandardScaler"
      ]
    },
    {
      "cell_type": "markdown",
      "metadata": {
        "id": "init_aip:mbsdk"
      },
      "source": [
        "## Initialize Vertex AI SDK for Python\n",
        "\n",
        "Initialize the Vertex AI SDK for Python for your project and corresponding bucket."
      ]
    },
    {
      "cell_type": "code",
      "execution_count": null,
      "metadata": {
        "id": "-p0YAOY64cA5"
      },
      "outputs": [],
      "source": [
        "REMOTE_JOB_NAME = \"remote-scalar\"\n",
        "REMOTE_JOB_BUCKET = f\"{BUCKET_URI}/{REMOTE_JOB_NAME}\"\n",
        "\n",
        "vertexai.init(\n",
        "    project=PROJECT_ID,\n",
        "    location=REGION,\n",
        "    staging_bucket=REMOTE_JOB_BUCKET,\n",
        ")"
      ]
    },
    {
      "cell_type": "markdown",
      "metadata": {
        "id": "Ud6sRD1WWFIr"
      },
      "source": [
        "## Prepare the dataset\n",
        "\n",
        "Now load the Iris dataset turn it into tf dataset."
      ]
    },
    {
      "cell_type": "code",
      "execution_count": null,
      "metadata": {
        "id": "N_tbI76DWRWt"
      },
      "outputs": [],
      "source": [
        "import tensorflow as tf\n",
        "\n",
        "dataset = load_iris()\n",
        "\n",
        "X, X_retrain, y, y_retrain = train_test_split(\n",
        "    dataset.data, dataset.target, test_size=0.60, random_state=42\n",
        ")\n",
        "X_train, X_test, y_train, y_test = train_test_split(\n",
        "    X, y, test_size=0.20, random_state=42\n",
        ")\n",
        "\n",
        "\n",
        "transformer = StandardScaler()\n",
        "X_train = transformer.fit_transform(X_train)\n",
        "X_test = transformer.transform(X_test)\n",
        "X_retrain = transformer.transform(X_retrain)\n",
        "\n",
        "\n",
        "tf_train_dataset = tf.data.Dataset.from_tensor_slices((X_train, y_train))\n",
        "tf_train_dataset = tf_train_dataset.shuffle(buffer_size=64).batch(32)\n",
        "\n",
        "tf_retrain_dataset = tf.data.Dataset.from_tensor_slices((X_retrain, y_retrain))\n",
        "tf_retrain_dataset = tf_retrain_dataset.shuffle(buffer_size=64).batch(32)\n",
        "\n",
        "tf_test_dataset = tf.data.Dataset.from_tensor_slices((X_test, y_test))\n",
        "tf_test_dataset = tf_test_dataset.shuffle(buffer_size=64).batch(32)"
      ]
    },
    {
      "cell_type": "markdown",
      "metadata": {
        "id": "6fC-g1B7wGgZ"
      },
      "source": [
        "## TensorFlow"
      ]
    },
    {
      "cell_type": "markdown",
      "metadata": {
        "id": "ZRbU6gMUzaxq"
      },
      "source": [
        "### Remote training with GPU\n",
        "\n",
        "First, train a TensorFlow model as a remote training job:\n",
        "\n",
        "- Reinitialize Vertex AI for remote training.\n",
        "- Set Sequential for the remote training job.\n",
        "- Invoke Sequential locally which will launch the remote training job."
      ]
    },
    {
      "cell_type": "code",
      "execution_count": null,
      "metadata": {
        "id": "hgV3626pGoH2"
      },
      "outputs": [],
      "source": [
        "# Switch to remote mode for training\n",
        "vertexai.preview.init(remote=True)\n",
        "\n",
        "from tensorflow import keras\n",
        "\n",
        "# Wrap classes to enable Vertex remote execution\n",
        "keras.Sequential = vertexai.preview.remote(keras.Sequential)\n",
        "\n",
        "# Instantiate model\n",
        "model = keras.Sequential(\n",
        "    [keras.layers.Dense(5, input_shape=(4,)), keras.layers.Softmax()]\n",
        ")\n",
        "\n",
        "# Specify optimizer and loss function\n",
        "model.compile(optimizer=\"adam\", loss=\"mean_squared_error\")\n",
        "\n",
        "# Enable GPU training in remote_config\n",
        "model.fit.vertex.remote_config.enable_cuda = True\n",
        "\n",
        "# Train model on Vertex\n",
        "model.fit(tf_train_dataset, epochs=10)"
      ]
    },
    {
      "cell_type": "markdown",
      "metadata": {
        "id": "7JAwOWXX-uTV"
      },
      "source": [
        "### Uptrain the pretrained model with autologging feature\n",
        "\n",
        "Next, get the registered model from the Vertex AI Model Registry. Then request the pretrained version of the model."
      ]
    },
    {
      "cell_type": "code",
      "execution_count": null,
      "metadata": {
        "id": "oD2Bw3QzFdVV"
      },
      "outputs": [],
      "source": [
        "registered_model = vertexai.preview.register(model)\n",
        "\n",
        "pulled_model = vertexai.preview.from_pretrained(\n",
        "    model_name=registered_model.resource_name\n",
        ")"
      ]
    },
    {
      "cell_type": "markdown",
      "metadata": {
        "id": "XZaN8KVu6BaX"
      },
      "source": [
        "Now train the model remotely via Vertex AI Training."
      ]
    },
    {
      "cell_type": "code",
      "execution_count": null,
      "metadata": {
        "id": "oBsY7MRBjeM8"
      },
      "outputs": [],
      "source": [
        "# Config experiment and turn on autologging\n",
        "vertexai.init(\n",
        "    project=PROJECT_ID,\n",
        "    location=REGION,\n",
        "    staging_bucket=REMOTE_JOB_BUCKET,\n",
        "    experiment=\"test-remote-training-autologging\",\n",
        ")\n",
        "vertexai.preview.init(remote=True, autolog=True)\n",
        "\n",
        "# service account is required since autolog is True\n",
        "pulled_model.fit.vertex.remote_config.service_account = \"GCE\"\n",
        "\n",
        "# Turn off GPU training\n",
        "pulled_model.fit.vertex.remote_config.enable_cuda = False\n",
        "\n",
        "# Train model on Vertex\n",
        "pulled_model.fit(tf_retrain_dataset, epochs=10)"
      ]
    },
    {
      "cell_type": "markdown",
      "metadata": {
        "id": "yO9fryXI6BaX"
      },
      "source": [
        "### Get experiments results\n",
        "\n",
        "Finally, get the Vertex AI Experiments results from the remote training job."
      ]
    },
    {
      "cell_type": "code",
      "execution_count": null,
      "metadata": {
        "id": "1ANPcw0Q-Fx7"
      },
      "outputs": [],
      "source": [
        "# View logged metrics & params\n",
        "vertexai.preview.get_experiment_df()\n",
        "\n",
        "# Turn off the autologging\n",
        "vertexai.preview.init(autolog=False)"
      ]
    },
    {
      "cell_type": "markdown",
      "metadata": {
        "id": "gHrWH_r0e6Kw"
      },
      "source": [
        "### Local evaluation\n",
        "\n",
        "Next, evaluate the pretrained and uptrained versions of the model, and compare the results."
      ]
    },
    {
      "cell_type": "code",
      "execution_count": null,
      "metadata": {
        "id": "gMyrRUe9a2ci"
      },
      "outputs": [],
      "source": [
        "# Switch to local mode for testing\n",
        "vertexai.preview.init(remote=False)\n",
        "\n",
        "# Evaluate model's mean square errors\n",
        "print(f\"Train loss: {model.evaluate(tf_train_dataset)}\")\n",
        "print(f\"Test loss: {model.evaluate(tf_test_dataset)}\")\n",
        "\n",
        "# Evaluate uptrained model's mean square errors\n",
        "print(f\"Train loss: {pulled_model.evaluate(tf_retrain_dataset)}\")\n",
        "print(f\"Test loss: {pulled_model.evaluate(tf_test_dataset)}\")"
      ]
    },
    {
      "cell_type": "markdown",
      "metadata": {
        "id": "u3RU6l0X6BaY"
      },
      "source": [
        "#### Delete the registered model\n",
        "\n",
        "You can delete the registered model in the Vertex AI Model Registry with the delete() method."
      ]
    },
    {
      "cell_type": "code",
      "execution_count": null,
      "metadata": {
        "id": "nlyFEi8M6BaY"
      },
      "outputs": [],
      "source": [
        "registered_model.delete()"
      ]
    },
    {
      "cell_type": "markdown",
      "metadata": {
        "id": "ArvOcC4B6BaY"
      },
      "source": [
        "## Cleaning up\n",
        "\n",
        "To clean up all Google Cloud resources used in this project, you can [delete the Google Cloud\n",
        "project](https://cloud.google.com/resource-manager/docs/creating-managing-projects#shutting_down_projects) you used for the tutorial.\n",
        "\n",
        "Otherwise, you can delete the individual resources you created in this tutorial."
      ]
    },
    {
      "cell_type": "code",
      "execution_count": null,
      "metadata": {
        "id": "yYnCN1gV6BaZ"
      },
      "outputs": [],
      "source": [
        "import os\n",
        "\n",
        "delete_bucket = False\n",
        "\n",
        "if delete_bucket or os.getenv(\"IS_TESTING\"):\n",
        "    ! gsutil rm -rf {BUCKET_URI}"
      ]
    }
  ],
  "metadata": {
    "accelerator": "GPU",
    "colab": {
      "collapsed_sections": [
        "-aNMacb-Ghxs",
        "6fC-g1B7wGgZ"
      ],
      "name": "remote_training_tensorflow_with_autologging.ipynb",
      "toc_visible": true
    },
    "kernelspec": {
      "display_name": "Python 3",
      "name": "python3"
    }
  },
  "nbformat": 4,
  "nbformat_minor": 0
}
