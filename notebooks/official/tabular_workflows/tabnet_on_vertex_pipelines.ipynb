{
  "cells": [
    {
      "cell_type": "code",
      "execution_count": null,
      "metadata": {
        "id": "18ebbd838e32"
      },
      "outputs": [],
      "source": [
        "# Copyright 2022 Google LLC\n",
        "#\n",
        "# Licensed under the Apache License, Version 2.0 (the \"License\");\n",
        "# you may not use this file except in compliance with the License.\n",
        "# You may obtain a copy of the License at\n",
        "#\n",
        "#     https://www.apache.org/licenses/LICENSE-2.0\n",
        "#\n",
        "# Unless required by applicable law or agreed to in writing, software\n",
        "# distributed under the License is distributed on an \"AS IS\" BASIS,\n",
        "# WITHOUT WARRANTIES OR CONDITIONS OF ANY KIND, either express or implied.\n",
        "# See the License for the specific language governing permissions and\n",
        "# limitations under the License."
      ]
    },
    {
      "cell_type": "markdown",
      "metadata": {
        "id": "mThXALJl9Yue"
      },
      "source": [
        "# Tabular Workflows: TabNet Pipeline\n",
        "\n",
        "<table align=\"left\">\n",
        "  <td>\n",
        "    <a href=\"https://colab.research.google.com/github/GoogleCloudPlatform/vertex-ai-samples/blob/master/notebooks/official/tabular_workflows/tabnet_on_vertex_pipelines.ipynb\">\n",
        "      <img src=\"https://cloud.google.com/ml-engine/images/colab-logo-32px.png\" alt=\"Colab logo\"> Run in Colab\n",
        "    </a>\n",
        "  </td>\n",
        "  <td>\n",
        "    <a href=\"https://github.com/GoogleCloudPlatform/vertex-ai-samples/blob/master/notebooks/official/tabular_workflows/tabnet_on_vertex_pipelines.ipynb\">\n",
        "      <img src=\"https://cloud.google.com/ml-engine/images/github-logo-32px.png\" alt=\"GitHub logo\">\n",
        "      View on GitHub\n",
        "    </a>\n",
        "  </td>\n",
        "  <td>\n",
        "    <a href=\"https://console.cloud.google.com/vertex-ai/notebooks/deploy-notebook?download_url=https://github.com/GoogleCloudPlatform/vertex-ai-samples/blob/master/notebooks/official/tabular_workflows/tabnet_on_vertex_pipelines.ipynb\">\n",
        "        <img src=\"https://lh3.googleusercontent.com/UiNooY4LUgW_oTvpsNhPpQzsstV5W8F7rYgxgGBD85cWJoLmrOzhVs_ksK_vgx40SHs7jCqkTkCk=e14-rj-sc0xffffff-h130-w32\" alt=\"Vertex AI logo\">\n",
        "      Open in Vertex AI Workbench\n",
        "    </a>\n",
        "  </td>\n",
        "</table>\n",
        "<br/><br/><br/>"
      ]
    },
    {
      "cell_type": "markdown",
      "metadata": {
        "id": "fcc745968395"
      },
      "source": [
        "## Overview\n",
        "\n",
        "This notebook showcases how to run the TabNet algorithm using Vertex AI Tabular Workflows.\n"
      ]
    },
    {
      "cell_type": "markdown",
      "metadata": {
        "id": "eac26958afe8"
      },
      "source": [
        "### Dataset\n",
        "\n",
        "The dataset you will be using is the [Safe Driver Prediction](https://www.kaggle.com/competitions/porto-seguro-safe-driver-prediction/data?select=train.csv) dataset for predicting the probability of an auto insurance policy holder filing a claim for a given incident."
      ]
    },
    {
      "cell_type": "markdown",
      "metadata": {
        "id": "f887ec5c06c5"
      },
      "source": [
        "### Objective\n",
        "\n",
        "In this tutorial, you will create two classification models using [Vertex Pipelines](https://cloud.google.com/vertex-ai/docs/pipelines/introduction) downloaded from [Google Cloud Pipeline Components](https://cloud.google.com/vertex-ai/docs/pipelines/components-introduction) (GCPC). These pipelines will be Vertex AI Tabular Workflow TabNet pipelines which are maintained by Google. The tutorial first covers how to create a TabNet CustomJob pipeline, and then a HyperparameterTuningJob pipeline."
      ]
    },
    {
      "cell_type": "markdown",
      "metadata": {
        "id": "181d4dfbf917"
      },
      "source": [
        "### Costs\n",
        "\n",
        "This tutorial uses billable components of Google Cloud:\n",
        "\n",
        "* Vertex AI\n",
        "* Cloud Storage\n",
        "\n",
        "Learn about [Vertex AI\n",
        "pricing](https://cloud.google.com/vertex-ai/pricing) and [Cloud Storage\n",
        "pricing](https://cloud.google.com/storage/pricing), and use the [Pricing\n",
        "Calculator](https://cloud.google.com/products/calculator/)\n",
        "to generate a cost estimate based on your projected usage."
      ]
    },
    {
      "cell_type": "markdown",
      "metadata": {
        "id": "tuOonx6suOb7"
      },
      "source": [
        "### Set up your local development environment\n",
        "\n",
        "**If you are using Colab or Vertex AI Workbench Notebooks**, your environment already meets all the requirements to run this notebook. You can skip this step.\n",
        "\n",
        "**Otherwise**, make sure your environment meets this notebook's requirements. You need the following:\n",
        "\n",
        "- The Cloud Storage SDK\n",
        "- Python 3\n",
        "- virtualenv\n",
        "- Jupyter notebook running in a virtual environment with Python 3\n",
        "\n",
        "The Cloud Storage guide to [Setting up a Python development environment](https://cloud.google.com/python/setup) and the [Jupyter installation guide](https://jupyter.org/install) provide detailed instructions for meeting these requirements. The following steps provide a condensed set of instructions:\n",
        "\n",
        "1. [Install and initialize the SDK](https://cloud.google.com/sdk/docs/).\n",
        "\n",
        "2. [Install Python 3](https://cloud.google.com/python/setup#installing_python).\n",
        "\n",
        "3. [Install virtualenv](https://cloud.google.com/python/setup#installing_and_using_virtualenv) and create a virtual environment that uses Python 3.  Activate the virtual environment.\n",
        "\n",
        "4. To install Jupyter, run `pip3 install jupyter` on the command-line in a terminal shell.\n",
        "\n",
        "5. To launch Jupyter, run `jupyter notebook` on the command-line in a terminal shell.\n",
        "\n",
        "6. Open this notebook in the Jupyter Notebook Dashboard."
      ]
    },
    {
      "cell_type": "markdown",
      "metadata": {
        "id": "e85f0288a6df"
      },
      "source": [
        "## Install additional packages\n",
        "\n",
        "Install the latest version of the Google Cloud Pipeline Components (GCPC) SDK."
      ]
    },
    {
      "cell_type": "code",
      "execution_count": null,
      "metadata": {
        "id": "E7-SzYTR9bo2"
      },
      "outputs": [],
      "source": [
        "# Depending on the environment, this might throw a\n",
        "# pip dependency resolver error. Please ignore it.\n",
        "!pip install -U google-cloud-pipeline-components -q"
      ]
    },
    {
      "cell_type": "markdown",
      "metadata": {
        "id": "Bj5O0S5RTxzY"
      },
      "source": [
        "### Restart the kernel\n",
        "Once you've installed the additional packages, you need to restart the notebook kernel so it can find the packages.\n",
        "\n",
        "\n",
        "**Note: Once this cell has finished running, continue on. You do not need to re-run any of the cells above.**\n"
      ]
    },
    {
      "cell_type": "code",
      "execution_count": null,
      "metadata": {
        "id": "023DMKUaTypt"
      },
      "outputs": [],
      "source": [
        "import os\n",
        "\n",
        "if not os.getenv(\"IS_TESTING\"):\n",
        "    # Automatically restart kernel after installs\n",
        "    import IPython\n",
        "\n",
        "    app = IPython.Application.instance()\n",
        "    app.kernel.do_shutdown(True)"
      ]
    },
    {
      "cell_type": "markdown",
      "metadata": {
        "id": "yfEglUHQk9S3"
      },
      "source": [
        "## Before you begin\n",
        "\n",
        "### GPU runtime\n",
        "\n",
        "This tutorial does not require a GPU runtime.\n",
        "\n",
        "### Set up your Google Cloud project\n",
        "\n",
        "**The following steps are required, regardless of your notebook environment.**\n",
        "\n",
        "1. [Select or create a Google Cloud project](https://console.cloud.google.com/cloud-resource-manager). When you first create an account, you get a $300 free credit towards your compute/storage costs.\n",
        "\n",
        "2. [Make sure that billing is enabled for your project.](https://cloud.google.com/billing/docs/how-to/modify-project)\n",
        "\n",
        "3. [Enable the following APIs: Vertex AI APIs, Dataflow APIs, Compute Engine APIs, and Cloud Storage.](https://console.cloud.google.com/flows/enableapi?apiid=ml.googleapis.com,dataflow.googleapis.com,compute_component,storage-component.googleapis.com)\n",
        "\n",
        "4. If you are running this notebook locally, you will need to install the [Cloud SDK](https://cloud.google.com/sdk).\n",
        "\n",
        "5. Enter your project ID in the cell below. Then run the  cell to make sure the\n",
        "Cloud SDK uses the right project for all the commands in this notebook.\n",
        "\n",
        "**Note**: Jupyter runs lines prefixed with `!` as shell commands, and it interpolates Python variables prefixed with `$`."
      ]
    },
    {
      "cell_type": "markdown",
      "metadata": {
        "id": "zebLBGXOky2A"
      },
      "source": [
        "## Notes about service account and permission\n",
        "\n",
        "**By default no configuration is required**, if you run into any permission related issue, please make sure the service accounts above have the required roles:\n",
        "\n",
        "|Service account email|Description|Roles|\n",
        "|---|---|---|\n",
        "|PROJECT_NUMBER-compute@developer.gserviceaccount.com|Compute Engine default service account|Dataflow Admin, Dataflow Worker, Storage Admin, BigQuery Admin, Vertex AI User|\n",
        "|service-PROJECT_NUMBER@gcp-sa-aiplatform.iam.gserviceaccount.com|AI Platform Service Agent|Vertex AI Service Agent|\n",
        "\n",
        "\n",
        "1. Goto https://console.cloud.google.com/iam-admin/iam.\n",
        "2. Check the \"Include Google-provided role grants\" checkbox.\n",
        "3. Find the above emails.\n",
        "4. Grant the corresponding roles.\n",
        "\n",
        "### Using data source from a different project\n",
        "- For the BQ data source, grant both service accounts the \"BigQuery Data Viewer\" role.\n",
        "- For the CSV data source, grant both service accounts the \"Storage Object Viewer\" role.\n"
      ]
    },
    {
      "cell_type": "markdown",
      "metadata": {
        "id": "95cb7ffd6895"
      },
      "source": [
        "### Set your project ID\n",
        "\n",
        "Set your project ID below. If you know know your project ID, leave the field blank and the following cells may be able to find it. Optionally, you may also set a service account in the cell below."
      ]
    },
    {
      "cell_type": "code",
      "execution_count": null,
      "metadata": {
        "id": "cd85f5c794e5"
      },
      "outputs": [],
      "source": [
        "PROJECT_ID = \"[your-project-id]\"  # @param {type:\"string\"}"
      ]
    },
    {
      "cell_type": "code",
      "execution_count": null,
      "metadata": {
        "id": "5a604eeffc32"
      },
      "outputs": [],
      "source": [
        "if PROJECT_ID == \"\" or PROJECT_ID is None or PROJECT_ID == \"[your-project-id]\":\n",
        "    # Get your GCP project id from gcloud\n",
        "    shell_output = !gcloud config list --format 'value(core.project)' 2>/dev/null\n",
        "    PROJECT_ID = shell_output[0]\n",
        "    print(\"Project ID:\", PROJECT_ID)"
      ]
    },
    {
      "cell_type": "code",
      "execution_count": null,
      "metadata": {
        "id": "30e64c0eda41"
      },
      "outputs": [],
      "source": [
        "! gcloud config set project $PROJECT_ID"
      ]
    },
    {
      "cell_type": "markdown",
      "metadata": {
        "id": "b12f508d97c6"
      },
      "source": [
        "### Region\n",
        "You may change the `REGION` variable, which is used for Vertex Forecasting operations\n",
        "throughout the rest of this notebook.  Below are regions supported for Vertex AI. We recommend that you choose the region closest to you.\n",
        "\n",
        "- Americas: `us-central1`\n",
        "- Europe: `europe-west4`\n",
        "- Asia Pacific: `asia-east1`\n",
        "\n",
        "Learn more about [Vertex AI regions](https://cloud.google.com/vertex-ai/docs/general/locations)"
      ]
    },
    {
      "cell_type": "code",
      "execution_count": null,
      "metadata": {
        "id": "8e8b7997de7a"
      },
      "outputs": [],
      "source": [
        "REGION = \"[your-region]\"  # @param {type: \"string\"}"
      ]
    },
    {
      "cell_type": "markdown",
      "metadata": {
        "id": "eu0e2TRVxjHb"
      },
      "source": [
        "### Authenticate your Google Cloud account\n",
        "\n",
        "**If you are using Google Cloud Notebooks**, your environment is already authenticated. Skip this step.\n",
        "\n",
        "**If you are using Colab**, run the cell below and follow the instructions when prompted to authenticate your account via oAuth.\n",
        "\n",
        "**Otherwise**, follow these steps:\n",
        "\n",
        "- In the Cloud Console, go to the [Create service account key](https://console.cloud.google.com/apis/credentials/serviceaccountkey) page.\n",
        "\n",
        "- **Click Create service account**.\n",
        "\n",
        "- In the **Service account name** field, enter a name, and click **Create**.\n",
        "\n",
        "- In the **Grant this service account access to project** section, click the Role drop-down list. Type \"Vertex\" into the filter box, and select **Vertex Administrator**. Type \"Storage Object Admin\" into the filter box, and select **Storage Object Admin**.\n",
        "\n",
        "- Click Create. A JSON file that contains your key downloads to your local environment.\n",
        "\n",
        "- Enter the path to your service account key as the GOOGLE_APPLICATION_CREDENTIALS variable in the cell below and run the cell."
      ]
    },
    {
      "cell_type": "code",
      "execution_count": null,
      "metadata": {
        "id": "_nJ1VqdTxosw"
      },
      "outputs": [],
      "source": [
        "# If you are running this notebook in Colab, run this cell and follow the\n",
        "# instructions to authenticate your GCP account. This provides access to your\n",
        "# Cloud Storage bucket and lets you submit training jobs and prediction\n",
        "# requests.\n",
        "\n",
        "import os\n",
        "import sys\n",
        "\n",
        "# If on Google Cloud Notebook, then don't execute this code\n",
        "if not os.path.exists(\"/opt/deeplearning/metadata/env_version\"):\n",
        "    if \"google.colab\" in sys.modules:\n",
        "        from google.colab import auth as google_auth\n",
        "\n",
        "        google_auth.authenticate_user()\n",
        "\n",
        "    # If you are running this notebook locally, replace the string below with the\n",
        "    # path to your service account key and run this cell to authenticate your GCP\n",
        "    # account. Alternatively, you may edit this notebook to authenticate using\n",
        "    # gcloud.\n",
        "    elif not os.getenv(\"IS_TESTING\"):\n",
        "        %env GOOGLE_APPLICATION_CREDENTIALS ''"
      ]
    },
    {
      "cell_type": "markdown",
      "metadata": {
        "id": "OUfwWir9yPNV"
      },
      "source": [
        "### Create a Cloud Storage bucket\n",
        "\n",
        "**The following steps are required, regardless of your notebook environment.**\n",
        "\n",
        "All training related files (TF model checkpoint, TensorBoard file, etc) will be saved to the GCS bucket. The pipeline will not clean up the files since some of them might be useful for you, **please make sure to clean up the files**. For easy cleanup, you can set [GCS bucket level TTL](https://cloud.google.com/storage/docs/lifecycle).\n",
        "\n",
        "Set the name of your Cloud Storage bucket below. Bucket names must be globally unique across all Google Cloud projects, including those outside of your organization.\n"
      ]
    },
    {
      "cell_type": "code",
      "execution_count": null,
      "metadata": {
        "id": "5325f437b46a"
      },
      "outputs": [],
      "source": [
        "BUCKET_URI = \"gs://[your-bucket-name]\"  # @param {type:\"string\"}\n",
        "GENERATE_BUCKET_URI = True  # @param {type:\"boolean\"}"
      ]
    },
    {
      "cell_type": "markdown",
      "metadata": {
        "id": "a30ea8551126"
      },
      "source": [
        "Create the bucket if it doesn't already exist."
      ]
    },
    {
      "cell_type": "code",
      "execution_count": null,
      "metadata": {
        "id": "0217c63ed87f"
      },
      "outputs": [],
      "source": [
        "import uuid\n",
        "\n",
        "if GENERATE_BUCKET_URI:\n",
        "    bucket_name = \"gs://test-{}\".format(uuid.uuid4())\n",
        "    !gsutil mb -p {PROJECT_ID} -l {REGION} {bucket_name}\n",
        "\n",
        "    # set GCS bucket object TTL to 7 days\n",
        "    !echo '{\"rule\":[{\"action\": {\"type\": \"Delete\"},\"condition\": {\"age\": 7}}]}' > gcs_lifecycle.tmp\n",
        "    !gsutil lifecycle set gcs_lifecycle.tmp {bucket_name}\n",
        "    !rm gcs_lifecycle.tmp\n",
        "\n",
        "    BUCKET_URI = bucket_name\n",
        "    print(f\"changed BUCKET_URI to {BUCKET_URI} due to GENERATE_BUCKET_URI is True\")\n",
        "\n",
        "if BUCKET_URI == \"\" or BUCKET_URI is None or BUCKET_URI == \"gs://[your-bucket-name]\":\n",
        "    BUCKET_URI = \"gs://\" + PROJECT_ID + \"aip-\" + uuid.uuid4()\n",
        "\n",
        "! gsutil ls -b $BUCKET_URI || gsutil mb -l $DATA_REGION $BUCKET_URI"
      ]
    },
    {
      "cell_type": "markdown",
      "metadata": {
        "id": "c4cf2cdebb50"
      },
      "source": [
        "Finally, validate access to your Cloud Storage bucket by examining its contents:"
      ]
    },
    {
      "cell_type": "code",
      "execution_count": null,
      "metadata": {
        "id": "96ad3d416327"
      },
      "outputs": [],
      "source": [
        "! gsutil ls -al $BUCKET_URI"
      ]
    },
    {
      "cell_type": "markdown",
      "metadata": {
        "id": "fbbc3479a1da"
      },
      "source": [
        "## Import libraries and define constants"
      ]
    },
    {
      "cell_type": "code",
      "execution_count": null,
      "metadata": {
        "id": "8G6YmJT1yqkV"
      },
      "outputs": [],
      "source": [
        "# Import required modules\n",
        "import json\n",
        "from typing import Any, Dict, List\n",
        "\n",
        "from google.cloud import aiplatform, storage\n",
        "from google_cloud_pipeline_components.experimental.automl.tabular import \\\n",
        "    utils as automl_tabular_utils"
      ]
    },
    {
      "cell_type": "markdown",
      "metadata": {
        "id": "c0423f260423"
      },
      "source": [
        "## Initialize Vertex SDK for Python\n",
        "\n",
        "Initialize the Vertex SDK for Python for your project."
      ]
    },
    {
      "cell_type": "code",
      "execution_count": null,
      "metadata": {
        "id": "ad69f2590268"
      },
      "outputs": [],
      "source": [
        "aiplatform.init(project=PROJECT_ID, location=REGION)"
      ]
    },
    {
      "cell_type": "markdown",
      "metadata": {
        "id": "3LWH3PRF5o2v"
      },
      "source": [
        "### Define helper functions"
      ]
    },
    {
      "cell_type": "code",
      "execution_count": null,
      "metadata": {
        "id": "g9FPFT8c5oC0"
      },
      "outputs": [],
      "source": [
        "def get_model_artifacts_path(task_details: List[Dict[str, Any]], task_name: str) -> str:\n",
        "    task = get_task_detail(task_details, task_name)\n",
        "    return task.outputs[\"unmanaged_container_model\"].artifacts[0].uri\n",
        "\n",
        "\n",
        "def get_model_uri(task_details: List[Dict[str, Any]]) -> str:\n",
        "    task = get_task_detail(task_details, \"model-upload\")\n",
        "    # in format https://<location>-aiplatform.googleapis.com/v1/projects/<project_number>/locations/<location>/models/<model_id>\n",
        "    model_id = task.outputs[\"model\"].artifacts[0].uri.split(\"/\")[-1]\n",
        "    return f\"https://console.cloud.google.com/vertex-ai/locations/{GCP_REGION}/models/{model_id}?project={GCP_PROJECT}\"\n",
        "\n",
        "\n",
        "def get_bucket_name_and_path(uri: str) -> str:\n",
        "    no_prefix_uri = uri[len(\"gs://\") :]\n",
        "    splits = no_prefix_uri.split(\"/\")\n",
        "    return splits[0], \"/\".join(splits[1:])\n",
        "\n",
        "\n",
        "def download_from_gcs(uri: str) -> str:\n",
        "    bucket_name, path = get_bucket_name_and_path(uri)\n",
        "    storage_client = storage.Client(project=PROJECT_ID)\n",
        "    bucket = storage_client.get_bucket(bucket_name)\n",
        "    blob = bucket.blob(path)\n",
        "    return blob.download_as_string()\n",
        "\n",
        "\n",
        "def write_to_gcs(uri: str, content: str):\n",
        "    bucket_name, path = get_bucket_name_and_path(uri)\n",
        "    storage_client = storage.Client()\n",
        "    bucket = storage_client.get_bucket(bucket_name)\n",
        "    blob = bucket.blob(path)\n",
        "    blob.upload_from_string(content)\n",
        "\n",
        "\n",
        "def get_task_detail(\n",
        "    task_details: List[Dict[str, Any]], task_name: str\n",
        ") -> List[Dict[str, Any]]:\n",
        "    for task_detail in task_details:\n",
        "        if task_detail.task_name == task_name:\n",
        "            return task_detail\n",
        "\n",
        "\n",
        "def get_evaluation_metrics(\n",
        "    task_details: List[Dict[str, Any]],\n",
        ") -> str:\n",
        "    ensemble_task = get_task_detail(task_details, \"model-evaluation\")\n",
        "    return download_from_gcs(\n",
        "        ensemble_task.outputs[\"evaluation_metrics\"].artifacts[0].uri\n",
        "    )"
      ]
    },
    {
      "cell_type": "markdown",
      "metadata": {
        "id": "gvNFMRmBegZq"
      },
      "source": [
        "## Define training specification"
      ]
    },
    {
      "cell_type": "markdown",
      "metadata": {
        "id": "a6624c705794"
      },
      "source": [
        "### Training inputs\n",
        "\n",
        "#### The following parameters can be set:\n",
        "\n",
        "##### Pipeline parameters\n",
        "\n",
        "- `project`: The GCP project that runs the pipeline components.\n",
        "- `location`: The GCP region that runs the pipeline components.\n",
        "- `root_dir`: The root GCS directory for the pipeline components.\n",
        "- `target_column`: The target column name.\n",
        "- `prediction_type`: The type of prediction the model is to produce.\n",
        "  'classification' or 'regression'.\n",
        "- `transform_config`: The path to a GCS file containing the transformations to apply.\n",
        "data_source_csv_filenames: The CSV data source.\n",
        "- `data_source_bigquery_table_path`: The BigQuery data source.\n",
        "- `predefined_split_key`: The predefined_split column name.\n",
        "- `timestamp_split_key`: The timestamp_split column name.\n",
        "- `stratified_split_key`: The stratified_split column name.\n",
        "- `training_fraction`: The training fraction.\n",
        "- `validation_fraction`: The validation fraction.\n",
        "- `test_fraction`: The test fraction.\n",
        "- `weight_column`: The weight column name.\n",
        "- `stats_and_example_gen_dataflow_machine_type`: The dataflow machine type for\n",
        "  stats_and_example_gen component.\n",
        "- `stats_and_example_gen_dataflow_max_num_workers`: The max number of Dataflow\n",
        "  workers for stats_and_example_gen component.\n",
        "- `stats_and_example_gen_dataflow_disk_size_gb`: Dataflow worker's disk size in GB for stats_and_example_gen component.\n",
        "- `transform_dataflow_machine_type`: The dataflow machine type for transform\n",
        "  component.\n",
        "- `transform_dataflow_max_num_workers`: The max number of Dataflow workers for\n",
        "  transform component.\n",
        "- `transform_dataflow_disk_size_gb`: Dataflow worker's disk size in GB for\n",
        "  transform component.\n",
        "- `training_machine_spec`: The machine spec for trainer component. See https://cloud.google.com/compute/docs/machine-types for options.\n",
        "- `training_replica_count`: The replica count for the trainer component.\n",
        "- `run_evaluation`: Whether to run evaluation steps during training.\n",
        "- `evaluation_batch_predict_machine_type`: The prediction server machine type for batch predict components during evaluation.\n",
        "- `evaluation_batch_predict_starting_replica_count`: The initial number of prediction server for batch predict components during evaluation.\n",
        "- `evaluation_batch_predict_max_replica_count`: The max number of prediction server for batch predict components during evaluation.\n",
        "- `evaluation_dataflow_machine_type`: The dataflow machine type for evaluation components.\n",
        "- `evaluation_dataflow_max_num_workers`: The max number of Dataflow workers for evaluation components.\n",
        "- `evaluation_dataflow_disk_size_gb`: Dataflow worker's disk size in GB for evaluation components.\n",
        "- `dataflow_service_account`: Custom service account to run dataflow jobs.\n",
        "- `dataflow_subnetwork`: Dataflow's fully qualified subnetwork name, when empty the default subnetwork will be used. Example:\n",
        "https://cloud.google.com/dataflow/docs/guides/specifying-networks#example_network_and_subnetwork_specifications\n",
        "- `dataflow_use_public_ips`: Specifies whether Dataflow workers use public IP\n",
        "  addresses.\n",
        "- `encryption_spec_key_name`: The KMS key name.\n",
        "\n",
        "##### Model hyperparameters\n",
        "- `learning_rate`: The learning rate used by the linear optimizer.\n",
        "- `max_steps`: Number of steps to run the trainer for.\n",
        "- `max_train_secs`: Amount of time in seconds to run the trainer for.\n",
        "- `large_category_dim`: Embedding dimension for categorical feature with large\n",
        "  number of categories.\n",
        "- `large_category_thresh`: Threshold for number of categories to apply\n",
        "  large_category_dim embedding dimension to.\n",
        "- `yeo_johnson_transform`: Enables trainable Yeo-Johnson power transform.\n",
        "- `feature_dim`: Dimensionality of the hidden representation in feature\n",
        "  transformation block.\n",
        "- `feature_dim_ratio`: The ratio of output dimension (dimensionality of the\n",
        "  outputs of each decision step) to feature dimension.\n",
        "- `num_decision_steps`: Number of sequential decision steps.\n",
        "- `relaxation_factor`: Relaxation factor that promotes the reuse of each feature at different decision steps. When it is 1, a feature is enforced to be\n",
        "  used only at one decision step and as it increases, more flexibility is\n",
        "  provided to use a feature at multiple decision steps.\n",
        "- `decay_rate`: Learning rate decaying.\n",
        "- `decay_every`: Number of iterations for periodically applying learning rate\n",
        "  decaying.\n",
        "- `gradient_thresh`: Threshold for the norm of gradients for clipping.\n",
        "- `sparsity_loss_weight`: Weight of the loss for sparsity regularization\n",
        "  (increasing it will yield more sparse feature selection).\n",
        "- `batch_momentum`: Momentum in ghost batch normalization.\n",
        "- `batch_size_ratio`: The ratio of virtual batch size (size of the ghost batch\n",
        "  normalization) to batch size.\n",
        "- `num_transformer_layers`: The number of transformer layers for each decision\n",
        "  step. used only at one decision step and as it increases, more flexibility\n",
        "  is provided to use a feature at multiple decision steps.\n",
        "- `num_transformer_layers_ratio`: The ratio of shared transformer layer to\n",
        "  transformer layers.\n",
        "- `class_weight`: The class weight is used to computes a weighted cross entropy which is helpful in classify imbalanced dataset. Only used for classification.\n",
        "- `loss_function_type`: Loss function type. Loss function in classification\n",
        "  [cross_entropy, weighted_cross_entropy, focal_loss], default is\n",
        "  cross_entropy. Loss function in regression: [rmse, mae, mse], default is mse.\n",
        "- `alpha_focal_loss`: Alpha value (balancing factor) in focal_loss function. Only used for classification.\n",
        "- `gamma_focal_loss`: Gamma value (modulating factor) for focal loss for focal\n",
        "  loss. Only used for classification.\n",
        "- `enable_profiler`: Enables profiling and saves a trace during evaluation.\n",
        "- `seed`: Seed to be used for this run.\n",
        "- `eval_steps`: Number of steps to run evaluation for. If not\n",
        "  specified or negative, it means run evaluation on the whole validation\n",
        "  dataset. If set to 0, it means run evaluation for a fixed number of\n",
        "  samples.\n",
        "- `batch_size`: Batch size for training.\n",
        "- `eval_frequency_secs`: Frequency at which evaluation and checkpointing will\n",
        "  take place.\n",
        "\n",
        "HyperparameterTuningJob-specific parameters\n",
        "- `study_spec_metrics`: List of dictionaries representing metrics to optimize.\n",
        "The dictionary contains the metric_id, which is reported by the training job, ands the optimization goal of the metric. One of 'minimize' or 'maximize'.\n",
        "- `study_spec_parameters_override`: List of dictionaries representing parameters to\n",
        "optimize. The dictionary key is the parameter_id, which is passed to\n",
        "training job as a command line argument, and the dictionary value is the\n",
        "parameter specification of the metric.\n",
        "- `max_trial_count`: The desired total number of trials.\n",
        "- `parallel_trial_count`: The desired number of trials to run in parallel.\n",
        "- `algorithm`: Which algorithm to train. Specify 'tabnet' here.\n",
        "- `max_failed_trial_count`: The number of failed trials that need to be seen before failing the HyperparameterTuningJob. If set to 0, Vertex AI decides how many trials must fail before the whole job fails.\n",
        "- `study_spec_algorithm`: The search algorithm specified for the study. One of\n",
        "'ALGORITHM_UNSPECIFIED', 'GRID_SEARCH', or 'RANDOM_SEARCH'.- `study_spec_measurement_selection_type`: Which measurement to use if/when the\n",
        "service automatically selects the final measurement from previously reported intermediate measurements. One of 'BEST_MEASUREMENT' or 'LAST_MEASUREMENT'.\n"
      ]
    },
    {
      "cell_type": "markdown",
      "metadata": {
        "id": "7a7332a3f8e2"
      },
      "source": [
        "### Configure dataset"
      ]
    },
    {
      "cell_type": "code",
      "execution_count": null,
      "metadata": {
        "id": "b6dd1af1d336"
      },
      "outputs": [],
      "source": [
        "data_source_csv_filenames = (\n",
        "    \"gs://cloud-samples-data/vertex-ai/tabular-workflows/datasets/safe-driver/train.csv\"\n",
        ")\n",
        "data_source_bigquery_table_path = None  # format: bq://bq_project.bq_dataset.bq_table\n",
        "\n",
        "features = [\n",
        "    \"ps_ind_01\",\n",
        "    \"ps_ind_02_cat\",\n",
        "    \"ps_ind_03\",\n",
        "    \"ps_ind_04_cat\",\n",
        "    \"ps_ind_05_cat\",\n",
        "    \"ps_ind_06_bin\",\n",
        "    \"ps_ind_07_bin\",\n",
        "    \"ps_ind_08_bin\",\n",
        "    \"ps_ind_09_bin\",\n",
        "    \"ps_ind_10_bin\",\n",
        "    \"ps_ind_11_bin\",\n",
        "    \"ps_ind_12_bin\",\n",
        "    \"ps_ind_13_bin\",\n",
        "    \"ps_ind_14\",\n",
        "    \"ps_ind_15\",\n",
        "    \"ps_ind_16_bin\",\n",
        "    \"ps_ind_17_bin\",\n",
        "    \"ps_ind_18_bin\",\n",
        "    \"ps_reg_01\",\n",
        "    \"ps_reg_02\",\n",
        "    \"ps_reg_03\",\n",
        "    \"ps_car_01_cat\",\n",
        "    \"ps_car_02_cat\",\n",
        "    \"ps_car_03_cat\",\n",
        "    \"ps_car_04_cat\",\n",
        "    \"ps_car_05_cat\",\n",
        "    \"ps_car_06_cat\",\n",
        "    \"ps_car_07_cat\",\n",
        "    \"ps_car_08_cat\",\n",
        "    \"ps_car_09_cat\",\n",
        "    \"ps_car_10_cat\",\n",
        "    \"ps_car_11_cat\",\n",
        "    \"ps_car_11\",\n",
        "    \"ps_car_12\",\n",
        "    \"ps_car_13\",\n",
        "    \"ps_car_14\",\n",
        "    \"ps_car_15\",\n",
        "    \"ps_calc_01\",\n",
        "    \"ps_calc_02\",\n",
        "    \"ps_calc_03\",\n",
        "    \"ps_calc_04\",\n",
        "    \"ps_calc_05\",\n",
        "    \"ps_calc_06\",\n",
        "    \"ps_calc_07\",\n",
        "    \"ps_calc_08\",\n",
        "    \"ps_calc_09\",\n",
        "    \"ps_calc_10\",\n",
        "    \"ps_calc_11\",\n",
        "    \"ps_calc_12\",\n",
        "    \"ps_calc_13\",\n",
        "    \"ps_calc_14\",\n",
        "    \"ps_calc_15_bin\",\n",
        "    \"ps_calc_16_bin\",\n",
        "    \"ps_calc_17_bin\",\n",
        "    \"ps_calc_18_bin\",\n",
        "    \"ps_calc_19_bin\",\n",
        "    \"ps_calc_20_bin\",\n",
        "]"
      ]
    },
    {
      "cell_type": "markdown",
      "metadata": {
        "id": "bf417de96807"
      },
      "source": [
        "### Configure feature transformation\n",
        "\n",
        "Transformations can be specified using Feature Transform Engine (FTE) specific configurations. In the following, we provide some sample transform configurations to demonstrate FTE's capabilities:\n",
        "- Full auto transformations (i.e., `auto_transform_config`): FTE automatically configure a set of built-in transformations for each input column based on its data statistics. \n",
        "- Fully specified transformations (i.e., `no_auto_transform_config`): All transformations on input columns are explicitly specified with FTE's built-in transformations. Chaining of multiple transformations on a single column is also supported.\n",
        "- Mix of auto and explicit transformations (i.e., `mixed_transform_config`).\n",
        "- Custom transformations (i.e., `transform_config_with_custom_transform`): A mixture of auto and explicit transformations and custom, bring-your-own transform function, where users can define and import their own transform function and use it with FTE's built-in transformations."
      ]
    },
    {
      "cell_type": "code",
      "execution_count": null,
      "metadata": {
        "id": "fce334e09df6"
      },
      "outputs": [],
      "source": [
        "auto_transform_config = {\"auto_transforms\": features}\n",
        "\n",
        "no_auto_transform_config = {\n",
        "    \"transforms\": [\n",
        "        {\"transform\": \"ZScaleTransform\", \"input_column_names\": [\"ps_reg_01\"]},\n",
        "        {\"transform\": \"ZScaleTransform\", \"input_column_names\": [\"ps_reg_02\"]},\n",
        "        {\"transform\": \"ZScaleTransform\", \"input_column_names\": [\"ps_reg_03\"]},\n",
        "        {\"transform\": \"VocabularyTransform\", \"input_column_names\": [\"ps_ind_10_bin\"]},\n",
        "        {\"transform\": \"VocabularyTransform\", \"input_column_names\": [\"ps_ind_11_bin\"]},\n",
        "        {\"transform\": \"VocabularyTransform\", \"input_column_names\": [\"ps_ind_12_bin\"]},\n",
        "        {\n",
        "            \"transform\": \"VocabularyTransform\",\n",
        "            \"input_column_names\": [\"target\"],\n",
        "            \"output_column_names\": [\"target\"],\n",
        "        },\n",
        "    ]\n",
        "}\n",
        "\n",
        "mixed_transform_config = {\n",
        "    \"auto_transforms\": [\"ps_reg_01\", \"ps_reg_02\", \"ps_reg_03\"],\n",
        "    \"transforms\": [\n",
        "        {\"transform\": \"VocabularyTransform\", \"input_column_names\": [\"ps_ind_10_bin\"]},\n",
        "        {\"transform\": \"VocabularyTransform\", \"input_column_names\": [\"ps_ind_11_bin\"]},\n",
        "        {\"transform\": \"VocabularyTransform\", \"input_column_names\": [\"ps_ind_12_bin\"]},\n",
        "    ],\n",
        "}\n",
        "\n",
        "\"\"\"\n",
        "$gsutil cat gs://pvnguyen-us-central1/mp_notebook/custom_transform_fn.py\n",
        "import tensorflow.compat.v1 as tf\n",
        "\n",
        "\n",
        "def plus_one_transform(x: tf.SparseTensor) -> tf.SparseTensor:\n",
        "  return tf.SparseTensor(x.indices, tf.add(x.values, 1), x.dense_shape)\n",
        "\"\"\"\n",
        "transform_config_with_custom_transform = {\n",
        "    \"auto_transforms\": [\"ps_reg_02\", \"ps_reg_03\"],\n",
        "    \"modules\": [\n",
        "        {\n",
        "            \"transform\": \"PlusOneTransform\",\n",
        "            \"module_path\": \"gs://pvnguyen-us-central1/mp_notebook/custom_transform_fn.py\",\n",
        "            \"function_name\": \"plus_one_transform\",\n",
        "        }\n",
        "    ],\n",
        "    \"transforms\": [\n",
        "        {\n",
        "            \"transform\": \"CastToFloatTransform\",\n",
        "            \"input_column_names\": [\"ps_reg_01\"],\n",
        "            \"output_column_names\": [\"ps_reg_01\"],\n",
        "        },\n",
        "        {\"transform\": \"PlusOneTransform\", \"input_column_names\": [\"ps_reg_01\"]},\n",
        "        {\"transform\": \"VocabularyTransform\", \"input_column_names\": [\"ps_ind_10_bin\"]},\n",
        "        {\"transform\": \"VocabularyTransform\", \"input_column_names\": [\"ps_ind_11_bin\"]},\n",
        "        {\"transform\": \"VocabularyTransform\", \"input_column_names\": [\"ps_ind_12_bin\"]},\n",
        "    ],\n",
        "}"
      ]
    },
    {
      "cell_type": "markdown",
      "metadata": {
        "id": "d48c29c8448f"
      },
      "source": [
        "Additional transformations to try out and their sample configurations:\n",
        "\n",
        "* `DatetimeTransform`:\n",
        "``` python\n",
        "# Outputs columns with granular datetime information (year, month, day, etc.).\n",
        "{\n",
        "    'transform': 'DatetimeTransform',\n",
        "    'input_column_names': ['feature_1'],\n",
        "    'time_format': '%Y-%m-%d'  # time format of input column\n",
        "}\n",
        "```\n",
        "\n",
        "* `LogTransform`:\n",
        "``` python\n",
        "# Outputs a column of the element-wise, natural logarithm of our input.\n",
        "{\n",
        "    'transform': 'LogTransform',\n",
        "    'input_column_names': ['feature_1']\n",
        "}\n",
        "```\n",
        "\n",
        "* `ZScaleTransform`:\n",
        "``` python\n",
        "# Outputs a z-scale normallized input column.\n",
        "{\n",
        "    'transform': 'ZScaleTransform',\n",
        "    'input_column_names': ['feature_1']\n",
        "}\n",
        "```\n",
        "\n",
        "* `NGramTransform`:\n",
        "``` python\n",
        "# Outputs a column containing the vocab lookup incidies of n-grams in our\n",
        "# input.\n",
        "{\n",
        "    'transform': 'NGramTransform',\n",
        "    'input_column_names': ['feature_1'],\n",
        "    'min_ngram_size': 1,  # min number of tokens in our n-gram\n",
        "    'max_ngram_size': 2,  # max number of tokens in our n-gram\n",
        "    'separator': ' '  # seperator between tokens\n",
        "  }\n",
        "```\n",
        "* `ClipTransform`:\n",
        "``` python\n",
        "# Outputs a column where all values < min_value are assigned min_value\n",
        "# and all columns > max_value are assigned max_value.\n",
        "{\n",
        "    'transform': 'ClipTransform',\n",
        "    'input_column_names': ['col1'],\n",
        "    'output_column_names': ['col1_clipped'],\n",
        "    'min_value': 1.,\n",
        "    'max_value': 10.,\n",
        "}\n",
        "```\n",
        "* `MaxAbsScaleTransform`:\n",
        "``` python\n",
        "# Outputs a column where all input elements are divided by abs(max(input)).\n",
        "{\n",
        "    'transform': 'MaxAbsScaleTransform',\n",
        "    'input_column_names': ['col1'],\n",
        "    'output_column_names': ['col1_max_abs_scaled']\n",
        "}\n",
        "```"
      ]
    },
    {
      "cell_type": "markdown",
      "metadata": {
        "id": "4b28b609b259"
      },
      "source": [
        "### Setup training configuration"
      ]
    },
    {
      "cell_type": "code",
      "execution_count": null,
      "metadata": {
        "id": "eV4JrwB8wAkg"
      },
      "outputs": [],
      "source": [
        "run_evaluation = True  # @param {type:\"boolean\"}\n",
        "prediction_type = \"classification\"\n",
        "target_column = \"target\"\n",
        "optimization_objective = \"maximize-au-roc\"\n",
        "\n",
        "# Fraction split\n",
        "training_fraction = 0.8\n",
        "validation_fraction = 0.1\n",
        "test_fraction = 0.1\n",
        "\n",
        "timestamp_split_key = None  # timestamp column name when using timestamp split\n",
        "stratified_split_key = None  # target column name when using stratified split\n",
        "training_fraction = 0.8\n",
        "validation_fraction = 0.1\n",
        "test_fraction = 0.1\n",
        "\n",
        "predefined_split_key = None\n",
        "if predefined_split_key:\n",
        "    training_fraction = None\n",
        "    validation_fraction = None\n",
        "    test_fraction = None\n",
        "\n",
        "weight_column = None\n",
        "\n",
        "transform_config = auto_transform_config"
      ]
    },
    {
      "cell_type": "markdown",
      "metadata": {
        "id": "zyWGg2s09xOk"
      },
      "source": [
        "## VPC related config\n",
        "\n",
        "If you need to use a custom Dataflow subnetwork, you can set it through the `dataflow_subnetwork` parameter. The requirements are:\n",
        "1. `dataflow_subnetwork` must be fully qualified subnetwork name.\n",
        "   [[reference](https://cloud.google.com/dataflow/docs/guides/specifying-networks#example_network_and_subnetwork_specifications)]\n",
        "1. The following service accounts must have [Compute Network User role](https://cloud.google.com/compute/docs/access/iam#compute.networkUser) assigned on the specified dataflow subnetwork [[reference](https://cloud.google.com/dataflow/docs/guides/specifying-networks#shared)]:\n",
        "    1. Compute Engine default service account: PROJECT_NUMBER-compute@developer.gserviceaccount.com\n",
        "    1. Dataflow service account: service-PROJECT_NUMBER@dataflow-service-producer-prod.iam.gserviceaccount.com\n",
        "\n",
        "If your project has VPC-SC enabled, please make sure:\n",
        "\n",
        "1. The dataflow subnetwork used in VPC-SC is configured properly for Dataflow.\n",
        "   [[reference](https://cloud.google.com/dataflow/docs/guides/routes-firewall)]\n",
        "1. `dataflow_use_public_ips` is set to False.\n"
      ]
    },
    {
      "cell_type": "code",
      "execution_count": null,
      "metadata": {
        "id": "_TePNlLl9v1q"
      },
      "outputs": [],
      "source": [
        "# Dataflow's fully qualified subnetwork name, when empty the default subnetwork will be used.\n",
        "# Fully qualified subnetwork name is in the form of\n",
        "# https://www.googleapis.com/compute/v1/projects/HOST_PROJECT_ID/regions/REGION_NAME/subnetworks/SUBNETWORK_NAME\n",
        "# reference: https://cloud.google.com/dataflow/docs/guides/specifying-networks#example_network_and_subnetwork_specifications\n",
        "dataflow_subnetwork = \"\"  # @param {type:\"string\"}\n",
        "# Specifies whether Dataflow workers use public IP addresses.\n",
        "dataflow_use_public_ips = True  # @param {type:\"boolean\"}"
      ]
    },
    {
      "cell_type": "markdown",
      "metadata": {
        "id": "N-iXXE14voyR"
      },
      "source": [
        "## Customize TabNet CustomJob configuration and create pipeline\n",
        "\n",
        "We will create a TabNet CustomJob pipeline with the following specifications:\n",
        "- Custom training machine type\n",
        "- Specify the following hyperparameters: `learning_rate`, `max_steps`, `max_train_secs`"
      ]
    },
    {
      "cell_type": "code",
      "execution_count": null,
      "metadata": {
        "id": "sG46cXVueb66"
      },
      "outputs": [],
      "source": [
        "custom_job_root_dir = os.path.join(BUCKET_URI, \"tabnet_custom_job\")\n",
        "\n",
        "# max_steps and/or max_train_secs must be set. If both are\n",
        "# specified, training will stop after either condition is met.\n",
        "# By default, max_train_secs is set to -1.\n",
        "max_steps = 1000\n",
        "max_train_secs = -1\n",
        "\n",
        "learning_rate = 0.01  # The learning rate used by the linear optimizer.\n",
        "dnn_learning_rate = 0.01  # The learning rate for training the deep part of the model.\n",
        "\n",
        "training_machine_spec = {\"machine_type\": \"c2-standard-16\"}  # Override for TF chief node\n",
        "\n",
        "transform_config_path = os.path.join(custom_job_root_dir, \"transform_config.json\")\n",
        "write_to_gcs(transform_config_path, json.dumps(transform_config))\n",
        "\n",
        "# To test GPU training, the training_machine_spec can be specified like this.\n",
        "# training_machine_spec = {\n",
        "#     'machine_type': 'n1-highmem-32',\n",
        "#     'accelerator_type': 'NVIDIA_TESLA_V100',\n",
        "#     'accelerator_count': 2\n",
        "# }\n",
        "\n",
        "# If your system does not use Python, you can save the JSON file (`template_path`),\n",
        "# and use another programming language to submit the pipeline.\n",
        "(\n",
        "    custom_job_template_path,\n",
        "    custom_job_parameter_values,\n",
        ") = automl_tabular_utils.get_tabnet_trainer_pipeline_and_parameters(\n",
        "    project=PROJECT_ID,\n",
        "    location=REGION,\n",
        "    root_dir=custom_job_root_dir,\n",
        "    max_steps=max_steps,\n",
        "    max_train_secs=max_train_secs,\n",
        "    learning_rate=learning_rate,\n",
        "    target_column=target_column,\n",
        "    prediction_type=prediction_type,\n",
        "    transform_config=transform_config_path,\n",
        "    training_fraction=training_fraction,\n",
        "    validation_fraction=validation_fraction,\n",
        "    test_fraction=test_fraction,\n",
        "    data_source_csv_filenames=data_source_csv_filenames,\n",
        "    training_machine_spec=training_machine_spec,\n",
        "    dataflow_use_public_ips=dataflow_use_public_ips,\n",
        "    dataflow_subnetwork=dataflow_subnetwork,\n",
        "    run_evaluation=run_evaluation,\n",
        ")\n",
        "\n",
        "custom_job_id = f\"automl-tabular-tabnet-{uuid.uuid4()}\"\n",
        "# More info on parameters PipelineJob accepts:\n",
        "# https://cloud.google.com/vertex-ai/docs/pipelines/run-pipeline#create_a_pipeline_run\n",
        "custom_job = aiplatform.PipelineJob(\n",
        "    display_name=custom_job_id,\n",
        "    template_path=custom_job_template_path,\n",
        "    job_id=custom_job_id,\n",
        "    pipeline_root=custom_job_root_dir,\n",
        "    parameter_values=custom_job_parameter_values,\n",
        "    enable_caching=False,\n",
        ")\n",
        "\n",
        "custom_job.run()"
      ]
    },
    {
      "cell_type": "code",
      "execution_count": null,
      "metadata": {
        "id": "719a784573ce"
      },
      "outputs": [],
      "source": [
        "# Get model URI\n",
        "tabnet_trainer_pipeline_task_details = aiplatform.PipelineJob.get(\n",
        "    custom_job_id\n",
        ").gca_resource.job_detail.task_details\n",
        "print(\"model uri:\", get_model_uri(tabnet_trainer_pipeline_task_details))\n",
        "print(\n",
        "    \"model artifacts:\",\n",
        "    get_model_artifacts_path(\n",
        "        tabnet_trainer_pipeline_task_details, \"automl-tabular-tabnet-trainer\"\n",
        "    ),\n",
        ")"
      ]
    },
    {
      "cell_type": "markdown",
      "metadata": {
        "id": "_sF8a2RKtRhg"
      },
      "source": [
        "## Customize TabNet HyperparameterTuningJob configuration and create pipeline\n",
        "\n",
        "We will create a TabNet HyperparameterTuningJob pipeline with the following specifications:\n",
        "- Change training machine type\n",
        "\n",
        "The parameter specs specified in `parameters` can be modified to tune different hyperparameters. The available parameter spec types are [double_value_spec](https://cloud.google.com/vertex-ai/docs/reference/rest/v1beta1/StudySpec#doublevaluespec), [integer_value_spec](https://cloud.google.com/vertex-ai/docs/reference/rest/v1beta1/StudySpec#integervaluespec), [categorical_value_spec](https://cloud.google.com/vertex-ai/docs/reference/rest/v1beta1/StudySpec#integervaluespec), and [discrete_value_spec](https://cloud.google.com/vertex-ai/docs/reference/rest/v1beta1/StudySpec#discretevaluespec). "
      ]
    },
    {
      "cell_type": "code",
      "execution_count": null,
      "metadata": {
        "id": "8hlPps2Rtpq-"
      },
      "outputs": [],
      "source": [
        "hpt_job_root_dir = os.path.join(BUCKET_URI, \"tabnet_hyperparameter_tuning_job\")\n",
        "\n",
        "training_machine_spec = {\"machine_type\": \"c2-standard-16\"}  # Override for TF chief node\n",
        "\n",
        "# To test GPU training, the training_machine_spec can be specified like this.\n",
        "# training_machine_spec = {\n",
        "#     'machine_type': 'n1-highmem-32',\n",
        "#     'accelerator_type': 'NVIDIA_TESLA_V100',\n",
        "#     'accelerator_count': 2\n",
        "# }\n",
        "\n",
        "metrics = [{\"metric_id\": \"loss\", \"goal\": \"MINIMIZE\"}]\n",
        "parameters = automl_tabular_utils.get_tabnet_study_spec_parameters_override(\n",
        "    dataset_size_bucket=\"small\",\n",
        "    prediction_type=prediction_type,\n",
        "    training_budget_bucket=\"small\",\n",
        ")\n",
        "# max_steps and/or max_train_secs must be set. If both are\n",
        "# specified, training will stop after either condition is met.\n",
        "# By default, max_train_secs is set to -1 and max_steps is set to\n",
        "# an appropriate range given dataset_size and training budget.\n",
        "\n",
        "# If your system does not use Python, you can save the JSON file (`template_path`),\n",
        "# and use another programming language to submit the pipeline.\n",
        "(\n",
        "    hpt_job_template_path,\n",
        "    hpt_job_parameter_values,\n",
        ") = automl_tabular_utils.get_builtin_algorithm_hyperparameter_tuning_job_pipeline_and_parameters(\n",
        "    project=PROJECT_ID,\n",
        "    location=REGION,\n",
        "    root_dir=hpt_job_root_dir,\n",
        "    algorithm=\"tabnet\",\n",
        "    target_column=target_column,\n",
        "    prediction_type=prediction_type,\n",
        "    transform_config=transform_config_path,\n",
        "    training_fraction=training_fraction,\n",
        "    validation_fraction=validation_fraction,\n",
        "    test_fraction=test_fraction,\n",
        "    data_source_csv_filenames=data_source_csv_filenames,\n",
        "    study_spec_metrics=metrics,\n",
        "    study_spec_parameters_override=parameters,\n",
        "    max_trial_count=1,\n",
        "    parallel_trial_count=1,\n",
        "    max_failed_trial_count=0,\n",
        "    training_machine_spec=training_machine_spec,\n",
        "    dataflow_use_public_ips=dataflow_use_public_ips,\n",
        "    dataflow_subnetwork=dataflow_subnetwork,\n",
        "    run_evaluation=True,\n",
        ")\n",
        "\n",
        "hpt_job_id = f\"automl-tabular-tabnet-hpt-{uuid.uuid4()}\"\n",
        "# More info on parameters PipelineJob accepts:\n",
        "# https://cloud.google.com/vertex-ai/docs/pipelines/run-pipeline#create_a_pipeline_run\n",
        "hpt_job = aiplatform.PipelineJob(\n",
        "    display_name=hpt_job_id,\n",
        "    template_path=hpt_job_template_path,\n",
        "    job_id=hpt_job_id,\n",
        "    pipeline_root=hpt_job_root_dir,\n",
        "    parameter_values=hpt_job_parameter_values,\n",
        "    enable_caching=False,\n",
        ")\n",
        "\n",
        "hpt_job.run()"
      ]
    },
    {
      "cell_type": "code",
      "execution_count": null,
      "metadata": {
        "id": "730af2836871"
      },
      "outputs": [],
      "source": [
        "# Get model URI\n",
        "tabnet_hpt_pipeline_task_details = aiplatform.PipelineJob.get(\n",
        "    hpt_job_id\n",
        ").gca_resource.job_detail.task_details\n",
        "print(\"model uri:\", get_model_uri(tabnet_hpt_pipeline_task_details))\n",
        "print(\n",
        "    \"model artifacts:\",\n",
        "    get_model_artifacts_path(\n",
        "        tabnet_hpt_pipeline_task_details, \"get-best-hyperparameter-tuning-job-trial\"\n",
        "    ),\n",
        ")"
      ]
    },
    {
      "cell_type": "markdown",
      "metadata": {
        "id": "43342a43176e"
      },
      "source": [
        "## Clean up Vertex and BigQuery resources\n",
        "\n",
        "To clean up all Google Cloud resources used in this project, you can [delete the Google Cloud\n",
        "project](https://cloud.google.com/resource-manager/docs/creating-managing-projects#shutting_down_projects) you used for the tutorial.\n",
        "\n",
        "Otherwise, you can delete the individual resources you created in this tutorial:\n",
        "\n",
        "- Cloud Storage Bucket"
      ]
    },
    {
      "cell_type": "code",
      "execution_count": null,
      "metadata": {
        "id": "ad8d12061a65"
      },
      "outputs": [],
      "source": [
        "if os.getenv(\"IS_TESTING\"):\n",
        "    ! gsutil rm -r $BUCKET_URI"
      ]
    }
  ],
  "metadata": {
    "colab": {
      "collapsed_sections": [],
      "name": "tabnet_on_vertex_pipelines.ipynb",
      "toc_visible": true
    },
    "kernelspec": {
      "display_name": "Python 3",
      "name": "python3"
    }
  },
  "nbformat": 4,
  "nbformat_minor": 0
}
