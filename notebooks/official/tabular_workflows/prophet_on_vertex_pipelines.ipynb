{
  "cells": [
    {
      "cell_type": "code",
      "execution_count": null,
      "metadata": {
        "id": "q-4-TPc1bz3l"
      },
      "outputs": [],
      "source": [
        "# Copyright 2023 Google LLC\n",
        "#\n",
        "# Licensed under the Apache License, Version 2.0 (the \"License\");\n",
        "# you may not use this file except in compliance with the License.\n",
        "# You may obtain a copy of the License at\n",
        "#\n",
        "#     https://www.apache.org/licenses/LICENSE-2.0\n",
        "#\n",
        "# Unless required by applicable law or agreed to in writing, software\n",
        "# distributed under the License is distributed on an \"AS IS\" BASIS,\n",
        "# WITHOUT WARRANTIES OR CONDITIONS OF ANY KIND, either express or implied.\n",
        "# See the License for the specific language governing permissions and\n",
        "# limitations under the License."
      ]
    },
    {
      "cell_type": "markdown",
      "metadata": {
        "id": "72YmFPs0b63B"
      },
      "source": [
        "# Train a Prophet Model using Vertex AI Tabular Workflows\n",
        "\n",
        "<table align=\"left\">\n",
        "  <td>\n",
        "    <a href=\"https://colab.research.google.com/github/GoogleCloudPlatform/vertex-ai-samples/blob/main/notebooks/official/tabular_workflows/prophet_on_vertex_pipelines.ipynb\">\n",
        "      <img src=\"https://cloud.google.com/ml-engine/images/colab-logo-32px.png\" alt=\"Colab logo\"> Run in Colab\n",
        "    </a>\n",
        "  </td>\n",
        "  <td>\n",
        "    <a href=\"https://github.com/GoogleCloudPlatform/vertex-ai-samples/blob/main/notebooks/official/tabular_workflows/prophet_on_vertex_pipelines.ipynb\">\n",
        "      <img src=\"https://cloud.google.com/ml-engine/images/github-logo-32px.png\" alt=\"GitHub logo\">\n",
        "      View on GitHub\n",
        "    </a>\n",
        "  </td>\n",
        "  <td>\n",
        "    <a href=\"https://console.cloud.google.com/vertex-ai/workbench/deploy-notebook?download_url=https://raw.githubusercontent.com/GoogleCloudPlatform/vertex-ai-samples/main/notebooks/official/tabular_workflows/prophet_on_vertex_pipelines.ipynb\">\n",
        "        <img src=\"https://lh3.googleusercontent.com/UiNooY4LUgW_oTvpsNhPpQzsstV5W8F7rYgxgGBD85cWJoLmrOzhVs_ksK_vgx40SHs7jCqkTkCk=e14-rj-sc0xffffff-h130-w32\" alt=\"Vertex AI logo\">\n",
        "      Open in Vertex AI Workbench\n",
        "    </a>\n",
        "  </td>\n",
        "</table>\n",
        "<br/><br/><br/>\n"
      ]
    },
    {
      "cell_type": "markdown",
      "metadata": {
        "id": "overview:automl"
      },
      "source": [
        "## Overview\n",
        "\n",
        "In this tutorial, you take on the role of a store planner who must determine how much inventory they need to order for each of their products and stores for November 2019. You accomplish this by fitting a Prophet model to your historical sales data using Vertex AI Tabular Workflows.\n",
        "\n",
        "Prophet is a forecasting model maintained by Meta. It can handle both univariate and multivariate time series, as long as covariates are available when making a forecast. See the Prophet [paper](https://peerj.com/preprints/3190/) for algorithm details and the [documentation](https://facebook.github.io/prophet/) for more information about the library.\n",
        "\n",
        "Like [BigQuery ML ARIMA_PLUS](https://cloud.google.com/bigquery-ml/docs/reference/standard-sql/bigqueryml-syntax-create-time-series), Prophet attempts to decompose each time series into trends, seasons, and holidays, producing a forecast using the aggregation of these models' predictions. One of many differences, however, is that BQML ARIMA+ uses ARIMA to model the trend component, while Prophet attempts to fit a curve using a piecewise logistic or linear model.\n",
        "\n",
        "Google Cloud offers a pipeline for Prophet model training and another for Prophet batch prediction. Both pipelines are instances of [Vertex AI Pipelines](https://cloud.google.com/vertex-ai/docs/pipelines/introduction) from [Google Cloud Pipeline Components](https://cloud.google.com/vertex-ai/docs/pipelines/components-introduction) (GCPC).\n",
        "\n",
        "The model training pipeline offers support for multiple time series. Because each Prophet model is designed for a single time series, the pipeline uses a [Vertex AI Custom Training Job](https://cloud.google.com/vertex-ai/docs/training/create-custom-job) and [Dataflow](https://cloud.google.com/dataflow) to train multiple Prophet models in parallel. The model training pipeline performs hyperparameter tuning using [grid search](https://en.wikipedia.org/wiki/Hyperparameter_optimization#Grid_search) and Prophet's built-in backtesting logic.\n",
        "\n",
        "Integration of Prophet with Vertex AI means that you can:\n",
        "\n",
        "  * Use Vertex AI [data splitting](https://cloud.google.com/vertex-ai/docs/tabular-data/data-splits#forecasting) and [windowing strategies](https://cloud.google.com/vertex-ai/docs/tabular-data/bp-tabular#context-window).\n",
        "  * Read data from either BigQuery tables or CSVs stored in Cloud Storage. Vertex AI expects each row to have the same format as for [Vertex AI Forecasting](https://cloud.google.com/vertex-ai/docs/tabular-data/forecasting/prepare-data).\n",
        "\n",
        "Although Prophet is a multivariate model, Vertex AI does not yet have support for external regressors, so it can only be used as a univariate model.\n",
        "\n",
        "Learn more about [Google Cloud Pipeline Components](https://cloud.google.com/vertex-ai/docs/pipelines/components-introduction) and [Prophet for tabular data](https://cloud.google.com/vertex-ai/docs/tabular-data/forecasting-prophet)."
      ]
    },
    {
      "cell_type": "markdown",
      "metadata": {
        "id": "objective:automl,training,batch_prediction"
      },
      "source": [
        "### Objective\n",
        "\n",
        "In this tutorial, you learn how to create several Prophet models using a training Vertex AI Pipeline from Google Cloud Pipeline Components (GCPC), and then do a batch prediction using the corresponding prediction pipeline.\n",
        "\n",
        "This tutorial uses the following Google Cloud ML services and resources:\n",
        "\n",
        "- BigQuery\n",
        "- Cloud Storage\n",
        "- Vertex AI\n",
        "- Dataflow\n",
        "\n",
        "The steps performed are:\n",
        "\n",
        "1. Train the Prophet models.\n",
        "1. View the evaluation metrics.\n",
        "1. Make a batch prediction with the Prophet models.\n"
      ]
    },
    {
      "cell_type": "markdown",
      "metadata": {
        "id": "dataset:covid,forecast"
      },
      "source": [
        "### Dataset\n",
        "\n",
        "This tutorial uses a synthetic dataset where product sales are dependent on a variety of factors such as advertisements, holidays, and locations."
      ]
    },
    {
      "cell_type": "markdown",
      "metadata": {
        "id": "costs"
      },
      "source": [
        "### Costs\n",
        "\n",
        "This tutorial uses billable components of Google Cloud:\n",
        "\n",
        "* Vertex AI\n",
        "* Cloud Storage\n",
        "* BigQuery\n",
        "* Dataflow\n",
        "\n",
        "Learn about [Vertex AI\n",
        "pricing](https://cloud.google.com/vertex-ai/pricing), [Cloud Storage\n",
        "pricing](https://cloud.google.com/storage/pricing), [Dataflow\n",
        "pricing](https://cloud.google.com/dataflow/pricing), and [BigQuery pricing](https://cloud.google.com/bigquery/pricing) and use the [Pricing\n",
        "Calculator](https://cloud.google.com/products/calculator/)\n",
        "to generate a cost estimate based on your projected usage."
      ]
    },
    {
      "cell_type": "markdown",
      "metadata": {
        "id": "install_aip"
      },
      "source": [
        "## Installation\n",
        "\n",
        "Install the following packages required to execute this notebook. "
      ]
    },
    {
      "cell_type": "code",
      "execution_count": null,
      "metadata": {
        "id": "pZCCaJsYQEH4"
      },
      "outputs": [],
      "source": [
        "! (pip3 install --upgrade --quiet  \\\n",
        "    google-cloud-aiplatform==1.21.0 \\\n",
        "    google-cloud-bigquery[pandas]==2.34.4 \\\n",
        "    google-cloud-pipeline-components==1.0.33)"
      ]
    },
    {
      "cell_type": "markdown",
      "metadata": {
        "id": "restart"
      },
      "source": [
        "### Colab only: Uncomment the following cell to restart the kernel.\n"
      ]
    },
    {
      "cell_type": "code",
      "execution_count": null,
      "metadata": {
        "id": "bzPxhxS5lugp"
      },
      "outputs": [],
      "source": [
        "# Automatically restart kernel after installs so that your environment can access the new packages\n",
        "# import IPython\n",
        "\n",
        "# app = IPython.Application.instance()\n",
        "# app.kernel.do_shutdown(True)"
      ]
    },
    {
      "cell_type": "markdown",
      "metadata": {
        "id": "d2qpIurSjmpT"
      },
      "source": [
        "## Before you begin\n",
        "\n",
        "### Set up your Google Cloud project\n",
        "\n",
        "**The following steps are required, regardless of your notebook environment.**\n",
        "\n",
        "1. [Select or create a Google Cloud project](https://console.cloud.google.com/cloud-resource-manager). When you first create an account, you get a $300 free credit towards your compute/storage costs.\n",
        "\n",
        "2. [Make sure that billing is enabled for your project](https://cloud.google.com/billing/docs/how-to/modify-project).\n",
        "\n",
        "3. [Enable the following APIs: Vertex AI API, Cloud Resource Manager API](https://console.cloud.google.com/flows/enableapi?apiid=aiplatform.googleapis.com,cloudresourcemanager.googleapis.com).\n",
        "\n",
        "4. If you are running this notebook locally, you need to install the [Cloud SDK](https://cloud.google.com/sdk)."
      ]
    },
    {
      "cell_type": "markdown",
      "metadata": {
        "id": "project_id"
      },
      "source": [
        "#### Set your project ID\n",
        "\n",
        "**If you don't know your project ID**, try the following:\n",
        "* Run `gcloud config list`.\n",
        "* Run `gcloud projects list`.\n",
        "* See the support page: [Locate the project ID](https://support.google.com/googleapi/answer/7014113)"
      ]
    },
    {
      "cell_type": "code",
      "execution_count": null,
      "metadata": {
        "id": "wsePm9c4jmpT"
      },
      "outputs": [],
      "source": [
        "PROJECT_ID = \"[your-project-id]\"  # @param {type:\"string\"}\n",
        "\n",
        "# Set the project id\n",
        "! gcloud config set project {PROJECT_ID}"
      ]
    },
    {
      "cell_type": "markdown",
      "metadata": {
        "id": "a54f9d7c1876"
      },
      "source": [
        "#### Region\n",
        "\n",
        "You can also change the `REGION` variable used by Vertex AI. Learn more about [Vertex AI regions](https://cloud.google.com/vertex-ai/docs/general/locations)."
      ]
    },
    {
      "cell_type": "code",
      "execution_count": null,
      "metadata": {
        "id": "region"
      },
      "outputs": [],
      "source": [
        "REGION = \"us-central1\"  # @param {type: \"string\"}\n",
        "DATA_REGION = \"us\""
      ]
    },
    {
      "cell_type": "markdown",
      "metadata": {
        "id": "timestamp"
      },
      "source": [
        "#### UUID\n",
        "\n",
        "If you are in a live tutorial session, you might be using a shared test account or project. To avoid name collisions between users on resources created, you create a uuid for each instance session, and append it onto the name of resources you create in this tutorial."
      ]
    },
    {
      "cell_type": "code",
      "execution_count": null,
      "metadata": {
        "id": "84Vdv7R-QEH6"
      },
      "outputs": [],
      "source": [
        "import random\n",
        "import string\n",
        "\n",
        "\n",
        "# Generate a uuid of a specifed length(default=8)\n",
        "def generate_uuid(length: int = 8) -> str:\n",
        "    return \"\".join(random.choices(string.ascii_lowercase + string.digits, k=length))\n",
        "\n",
        "\n",
        "UUID = generate_uuid()"
      ]
    },
    {
      "cell_type": "markdown",
      "metadata": {
        "id": "5c0404984792"
      },
      "source": [
        "### Authenticate your Google Cloud account\n",
        "\n",
        "Depending on your Jupyter environment, you may have to manually authenticate. Follow the relevant instructions below.\n",
        "\n",
        "**1. Vertex AI Workbench**\n",
        "* Do nothing as you are already authenticated.\n",
        "\n",
        "**2. Local JupyterLab instance, uncomment and run:**"
      ]
    },
    {
      "cell_type": "code",
      "execution_count": null,
      "metadata": {
        "id": "Nt8cEM2GjmpU"
      },
      "outputs": [],
      "source": [
        "# ! gcloud auth login"
      ]
    },
    {
      "cell_type": "markdown",
      "metadata": {
        "id": "XUSL_JcpjmpU"
      },
      "source": [
        "**3. Colab, uncomment and run:**"
      ]
    },
    {
      "cell_type": "code",
      "execution_count": null,
      "metadata": {
        "id": "_2zemfGvjmpU"
      },
      "outputs": [],
      "source": [
        "# from google.colab import auth\n",
        "# auth.authenticate_user()"
      ]
    },
    {
      "cell_type": "markdown",
      "metadata": {
        "id": "TCPJ38n7jmpU"
      },
      "source": [
        "**4. Service account or other**\n",
        "* See how to grant Cloud Storage permissions to your service account at https://cloud.google.com/storage/docs/gsutil/commands/iam#ch-examples."
      ]
    },
    {
      "cell_type": "markdown",
      "metadata": {
        "id": "bucket:custom"
      },
      "source": [
        "### Create a Cloud Storage bucket\n",
        "\n",
        "Create a storage bucket to store intermediate artifacts such as datasets.\n",
        "\n",
        "When you submit a training job using the Cloud SDK, you upload a Python package\n",
        "containing your training code to a Cloud Storage bucket. Vertex AI runs\n",
        "the code from this package. In this tutorial, Vertex AI also saves the\n",
        "trained model that results from your job in the same bucket. Using this model artifact, you can then\n",
        "create Vertex AI Model resource and use for prediction."
      ]
    },
    {
      "cell_type": "code",
      "execution_count": null,
      "metadata": {
        "id": "bucket"
      },
      "outputs": [],
      "source": [
        "BUCKET_URI = \"gs://your-bucket-name-unique\"  # @param {type:\"string\"}"
      ]
    },
    {
      "cell_type": "markdown",
      "metadata": {
        "id": "create_bucket"
      },
      "source": [
        "**Only if your bucket doesn't already exist**: Run the following cell to create your Cloud Storage bucket."
      ]
    },
    {
      "cell_type": "code",
      "execution_count": null,
      "metadata": {
        "id": "Oz8J0vmSlugt"
      },
      "outputs": [],
      "source": [
        "! gsutil mb -l $REGION -p $PROJECT_ID $BUCKET_URI"
      ]
    },
    {
      "cell_type": "markdown",
      "metadata": {
        "id": "iqpjQqNa4ZW4"
      },
      "source": [
        "### Service Account\n",
        "You use a service account to create Vertex AI Pipeline jobs."
      ]
    },
    {
      "cell_type": "code",
      "execution_count": null,
      "metadata": {
        "id": "YJ9pu3XH4ubY"
      },
      "outputs": [],
      "source": [
        "SERVICE_ACCOUNT = \"[your-service-account]\"  # @param {type:\"string\"}"
      ]
    },
    {
      "cell_type": "code",
      "execution_count": null,
      "metadata": {
        "id": "14Pprl_54v0S"
      },
      "outputs": [],
      "source": [
        "import sys\n",
        "\n",
        "IS_COLAB = \"google.colab\" in sys.modules\n",
        "if (\n",
        "    SERVICE_ACCOUNT == \"\"\n",
        "    or SERVICE_ACCOUNT is None\n",
        "    or SERVICE_ACCOUNT == \"[your-service-account]\"\n",
        "):\n",
        "    # Get your service account from gcloud\n",
        "    if not IS_COLAB:\n",
        "        shell_output = !gcloud auth list 2>/dev/null\n",
        "        SERVICE_ACCOUNT = shell_output[2].replace(\"*\", \"\").strip()\n",
        "\n",
        "    else:  # IS_COLAB:\n",
        "        shell_output = ! gcloud projects describe  $PROJECT_ID\n",
        "        project_number = shell_output[-1].split(\":\")[1].strip().replace(\"'\", \"\")\n",
        "        SERVICE_ACCOUNT = f\"{project_number}-compute@developer.gserviceaccount.com\"\n",
        "\n",
        "    print(\"Service Account:\", SERVICE_ACCOUNT)"
      ]
    },
    {
      "cell_type": "markdown",
      "metadata": {
        "id": "2xFEd87I47cl"
      },
      "source": [
        "#### Set service account access for Vertex AI Pipelines\n",
        "Run the following commands to grant your service account access to read and write pipeline artifacts in the bucket that you created in the previous step. You only need to run this step once per service account."
      ]
    },
    {
      "cell_type": "code",
      "execution_count": null,
      "metadata": {
        "id": "lnB_My88493b"
      },
      "outputs": [],
      "source": [
        "! gsutil iam ch serviceAccount:{SERVICE_ACCOUNT}:roles/storage.objectCreator $BUCKET_URI\n",
        "! gsutil iam ch serviceAccount:{SERVICE_ACCOUNT}:roles/storage.objectViewer $BUCKET_URI\n",
        "! gsutil iam ch serviceAccount:{SERVICE_ACCOUNT}:roles/dataflow.developer"
      ]
    },
    {
      "cell_type": "markdown",
      "metadata": {
        "id": "setup_vars"
      },
      "source": [
        "### Set up variables\n",
        "\n",
        "Next, set up some variables used throughout the tutorial.\n",
        "### Import libraries and define constants"
      ]
    },
    {
      "cell_type": "code",
      "execution_count": null,
      "metadata": {
        "id": "import_aip:mbsdk"
      },
      "outputs": [],
      "source": [
        "import json\n",
        "import os\n",
        "import urllib\n",
        "\n",
        "from google.cloud import aiplatform, bigquery\n",
        "from google_cloud_pipeline_components.experimental.automl.forecasting import \\\n",
        "    utils"
      ]
    },
    {
      "cell_type": "markdown",
      "metadata": {
        "id": "init_aip:mbsdk"
      },
      "source": [
        "## Initialize Vertex SDK for Python\n",
        "\n",
        "Initialize the Vertex SDK for Python for your project and corresponding bucket."
      ]
    },
    {
      "cell_type": "code",
      "execution_count": null,
      "metadata": {
        "id": "Fm4Pyn1dQEH7"
      },
      "outputs": [],
      "source": [
        "aiplatform.init(project=PROJECT_ID, location=REGION, staging_bucket=BUCKET_URI)"
      ]
    },
    {
      "cell_type": "markdown",
      "metadata": {
        "id": "XOQaE_r3rTJX"
      },
      "source": [
        "## Define train and prediction data"
      ]
    },
    {
      "cell_type": "markdown",
      "metadata": {
        "id": "jumkmlpYrUoY"
      },
      "source": [
        "### Location of BigQuery destination table.\n",
        "\n",
        "#### Create two datasets, one for each model you train. To make things simpler, create the datasets in the same region as the training data."
      ]
    },
    {
      "cell_type": "code",
      "execution_count": null,
      "metadata": {
        "id": "D8GexGGOrV_F"
      },
      "outputs": [],
      "source": [
        "dataset_name = f\"forecasting_demo_prophet_{UUID}\"\n",
        "\n",
        "dataset_path = \".\".join([PROJECT_ID, dataset_name])\n",
        "\n",
        "# Must be same region as TRAINING_DATASET_BQ_PATH.\n",
        "client = bigquery.Client(project=PROJECT_ID)\n",
        "bq_dataset = bigquery.Dataset(dataset_path)\n",
        "bq_dataset.location = DATA_REGION\n",
        "bq_dataset = client.create_dataset(bq_dataset)\n",
        "print(f\"Created bigquery dataset {dataset_path} in {DATA_REGION}\")"
      ]
    },
    {
      "cell_type": "markdown",
      "metadata": {
        "id": "alc0utVZrX0n"
      },
      "source": [
        "### Location of BigQuery training data.\n",
        "\n",
        "Before training a model, you must first generate our dataset of store sales. This dataset includes multiple products and stores, and it also simulates factors such as advertisements and holiday effects. The data is be split into `TRAIN`, `VALIDATE`, `TEST`, and `PREDICT` sets, where the last three sets are all 1 month in duration.\n",
        "\n",
        "#### Begin by defining the subqueries that create this base sales data."
      ]
    },
    {
      "cell_type": "code",
      "execution_count": null,
      "metadata": {
        "id": "1MtXaVFKrY5T"
      },
      "outputs": [],
      "source": [
        "base_data_query = \"\"\"\n",
        "  WITH\n",
        "\n",
        "    -- Create time series for each product + store with some covariates.\n",
        "    time_series AS (\n",
        "      SELECT\n",
        "        CONCAT(\"id_\", store_id, \"_\", product_id) AS id,\n",
        "        CONCAT('store_', store_id) AS store,\n",
        "        CONCAT('product_', product_id) AS product,\n",
        "        date,\n",
        "        -- Advertise 1/100 products.\n",
        "        IF(\n",
        "          ABS(MOD(FARM_FINGERPRINT(CONCAT(product_id, date)), 100)) = 0,\n",
        "          1,\n",
        "          0\n",
        "        ) AS advertisement,\n",
        "        -- Mark Thanksgiving sales as holiday sales.\n",
        "        IF(\n",
        "          EXTRACT(DAYOFWEEK FROM date) = 6\n",
        "            AND EXTRACT(MONTH FROM date) = 11\n",
        "            AND EXTRACT(DAY FROM date) BETWEEN 23 AND 29,\n",
        "          1,\n",
        "          0\n",
        "        ) AS holiday,\n",
        "        -- Set when each data split ends.\n",
        "        CASE\n",
        "          WHEN date < '2019-09-01' THEN 'TRAIN'\n",
        "          WHEN date < '2019-10-01' THEN 'VALIDATE'\n",
        "          WHEN date < '2019-11-01' THEN 'TEST'\n",
        "          ELSE 'PREDICT'\n",
        "        END AS split,\n",
        "      -- Generate the sales with one SKU per date.\n",
        "      FROM\n",
        "        UNNEST(GENERATE_DATE_ARRAY('2017-01-01', '2019-12-01')) AS date\n",
        "      CROSS JOIN\n",
        "        UNNEST(GENERATE_ARRAY(0, 10)) AS product_id\n",
        "      CROSS JOIN\n",
        "        UNNEST(GENERATE_ARRAY(0, 3)) AS store_id\n",
        "    ),\n",
        "\n",
        "    -- Randomly determine factors that contribute to how syntheic sales are calculated.\n",
        "    time_series_sales_factors AS (\n",
        "      SELECT\n",
        "        *,\n",
        "        ABS(MOD(FARM_FINGERPRINT(product), 10)) AS product_factor,\n",
        "        ABS(MOD(FARM_FINGERPRINT(store), 10)) AS store_factor,\n",
        "        [1.6, 0.6, 0.8, 1.0, 1.2, 1.8, 2.0][\n",
        "          ORDINAL(EXTRACT(DAYOFWEEK FROM date))] AS day_of_week_factor,\n",
        "        1 +  SIN(EXTRACT(MONTH FROM date) * 2.0 * 3.14 / 24.0) AS month_factor,\n",
        "        -- Advertised products have increased sales factors for 5 days.\n",
        "        CASE\n",
        "          WHEN LAG(advertisement, 0) OVER w = 1.0 THEN 1.2\n",
        "          WHEN LAG(advertisement, 1) OVER w = 1.0 THEN 1.8\n",
        "          WHEN LAG(advertisement, 2) OVER w = 1.0 THEN 2.4\n",
        "          WHEN LAG(advertisement, 3) OVER w = 1.0 THEN 3.0\n",
        "          WHEN LAG(advertisement, 4) OVER w = 1.0 THEN 1.4\n",
        "          ELSE 1.0\n",
        "        END AS advertisement_factor,\n",
        "        IF(holiday = 1.0, 2.0, 1.0) AS holiday_factor,\n",
        "        0.001 * ABS(MOD(FARM_FINGERPRINT(CONCAT(product, store, date)), 100)) AS noise_factor\n",
        "      FROM\n",
        "        time_series\n",
        "      WINDOW w AS (PARTITION BY id ORDER BY date)\n",
        "    ),\n",
        "\n",
        "    -- Use factors to calculate synthetic sales for each time series.\n",
        "    base_data AS (\n",
        "      SELECT\n",
        "        id,\n",
        "        store,\n",
        "        product,\n",
        "        date,\n",
        "        split,\n",
        "        advertisement,\n",
        "        holiday,\n",
        "        (\n",
        "          (1 + store_factor)\n",
        "          * (1 + product_factor)\n",
        "          * (1 + month_factor + day_of_week_factor)\n",
        "          * (\n",
        "            1.0\n",
        "            + 2.0 * advertisement_factor\n",
        "            + 3.0 * holiday_factor\n",
        "            + 5.0 * noise_factor\n",
        "          )\n",
        "        ) AS sales\n",
        "      FROM\n",
        "        time_series_sales_factors\n",
        "      )\n",
        "\"\"\""
      ]
    },
    {
      "cell_type": "markdown",
      "metadata": {
        "id": "0CFrF4hprb2e"
      },
      "source": [
        "Next, convert this base sales data into a dataset you use to train a model, and a dataset you pass to a trained model at serving time. The training dataset includes the `TRAIN`, `VALIDATE`, and `TEST` splits, while the prediction dataset includes the `PREDICT` split and also the `TEST` split to provide context information."
      ]
    },
    {
      "cell_type": "code",
      "execution_count": null,
      "metadata": {
        "id": "KjdVaRsnrgDY"
      },
      "outputs": [],
      "source": [
        "TRAINING_DATASET_BQ_PATH = f\"bq://{dataset_path}.train\"\n",
        "PREDICTION_DATASET_BQ_PATH = f\"bq://{dataset_path}.pred\"\n",
        "\n",
        "train_query = f\"\"\"\n",
        "    CREATE OR REPLACE TABLE `{dataset_path}.train` AS\n",
        "    {base_data_query}\n",
        "    SELECT *\n",
        "    FROM base_data\n",
        "    WHERE split != 'PREDICT'\n",
        "\"\"\"\n",
        "client.query(train_query).result()\n",
        "print(f\"Created {TRAINING_DATASET_BQ_PATH}.\")\n",
        "\n",
        "pred_query = f\"\"\"\n",
        "    CREATE OR REPLACE TABLE `{dataset_path}.pred` AS\n",
        "    {base_data_query}\n",
        "    SELECT *\n",
        "    FROM base_data\n",
        "    WHERE split = 'TEST'\n",
        "\n",
        "    UNION ALL\n",
        "\n",
        "    SELECT * EXCEPT (sales), NULL AS sales\n",
        "    FROM base_data\n",
        "    WHERE split = 'PREDICT'\n",
        "\"\"\"\n",
        "client.query(pred_query).result()\n",
        "print(f\"Created {PREDICTION_DATASET_BQ_PATH}.\")"
      ]
    },
    {
      "cell_type": "markdown",
      "metadata": {
        "id": "ySuRn2i0rjLH"
      },
      "source": [
        "You can take a look at the sales data that was generated. Later in this tutorial, we visualize the time series along with our forecast.\n",
        "\n",
        "The model is trained with data from January 2017 to October 2019 inclusive.\n",
        "\n",
        "#### Look at the training data"
      ]
    },
    {
      "cell_type": "code",
      "execution_count": null,
      "metadata": {
        "id": "1rk7ivBzrlBT"
      },
      "outputs": [],
      "source": [
        "query = f\"SELECT * FROM `{dataset_path}.train` LIMIT 10\"\n",
        "client.query(query).to_dataframe().head()"
      ]
    },
    {
      "cell_type": "markdown",
      "metadata": {
        "id": "QURXka0wrmT_"
      },
      "source": [
        "The table used for prediction contains data from November 2019. It also includes actuals from October 2019 as context information.\n",
        "\n",
        "#### Look at the prediction data"
      ]
    },
    {
      "cell_type": "code",
      "execution_count": null,
      "metadata": {
        "id": "I0ovZu0UrqND"
      },
      "outputs": [],
      "source": [
        "query = f\"SELECT * FROM `{dataset_path}.pred` LIMIT 10\"\n",
        "client.query(query).to_dataframe().head()"
      ]
    },
    {
      "cell_type": "markdown",
      "metadata": {
        "id": "SxbOCSYh0OUI"
      },
      "source": [
        "## Create a Prophet model\n",
        "\n",
        "Use GCPC to get the Prophet pipeline to start an `aiplatform.PipelineJob`.\n",
        "\n",
        "Because Prophet models can only fit a single time series, this training pipeline uses a [Vertex AI Custom Training Job](https://cloud.google.com/vertex-ai/docs/training/create-custom-job) to train multiple Prophet models in parallel. The number of models trained equals the number of unique values in the `time_series_identifier_column` multiplied by the number of hyperparameter tuning trials determined by `max_num_trials`. [Dataflow](https://cloud.google.com/dataflow/docs/about-dataflow) is used to parallelize these model trainings.\n",
        "\n",
        "For hyperparameter tuning, the Prophet training job performs a deterministic [grid search](https://en.wikipedia.org/wiki/Hyperparameter_optimization#Grid_search) over the [parameters](https://facebook.github.io/prophet/docs/diagnostics.html#hyperparameter-tuning) recommended by the Prophet documentation. The metric used for tuning is specified by the `optimization_objective` parameter, and is calculated using Prophet's `cross_validation` function over the validation split."
      ]
    },
    {
      "cell_type": "markdown",
      "metadata": {
        "id": "7odv91m3wrah"
      },
      "source": [
        "### Create the training job\n",
        "\n",
        "Use the `get_prophet_train_pipeline_and_parameters` function to configure your training job.\n",
        "\n",
        "-  `project` (str): The GCP project that runs the pipeline components.\n",
        "-  `location` (str): The GCP region for Vertex AI.\n",
        "-  `root_dir` (str): The Cloud Storage location to store the output.\n",
        "-  `time_column` (str): Name of the column that identifies time order in the time series.\n",
        "-  `time_series_identifier_column` (str): Name of the column that identifies the time series.\n",
        "-  `target_column` (str): Name of the column that the model is to predict values for.\n",
        "-  `forecast_horizon` (int): The number of time periods into the future for which forecasts are created. Future periods start after the latest timestamp for each time series.\n",
        "-  `optimization_objective` (str): Optimization objective for tuning. Supported metrics come from Prophet's performance_metrics function. These are mse, rmse, mae, mape, mdape, smape, and coverage.\n",
        "-  `data_granularity_unit` (str): String representing the units of time for the time column.\n",
        "- `data_source_bigquery_table_path` (str): The BigQuery table path of format bq://bq_project.bq_dataset.bq_table\n",
        "- `dataflow_service_account` (str): Custom service account to run dataflow jobs. The dataflow job can also be configured to use private IPs and a specific VPC subnet.\n",
        "- `max_num_trials` (int): Maximum number of tuning trials to perform per time series.\n",
        "-  `predefined_split_key` (str): The name of the predefined_split column. Vertex AI splits the data using the TRAIN, VALIDATE, or TEST values in this column. To learn more about data splits and for the full set of data split parameters, refer to the public documentation page [Forecasting with Prophet](https://cloud.google.com/vertex-ai/docs/tabular-data/forecasting-prophet).\n",
        "-  `window_stride_length` (int): Step length used to generate input examples. Every window_stride_length rows is used to generate a sliding window. To learn more about windowing and for the full set of windowing parameters, refer to the public documentation page [Forecasting with Prophet](https://cloud.google.com/vertex-ai/docs/tabular-data/forecasting-prophet).\n",
        "-  `trainer_dataflow_machine_type` (str): The Dataflow machine type used for training.\n",
        "- `trainer_dataflow_max_num_workers` (int): The maximum number of Dataflow workers used for training.\n",
        "- `evaluation_dataflow_machine_type` (int): The Dataflow machine type used for evaluation.\n",
        "- `evaluation_dataflow_max_num_workers` (int): The max number of Dataflow workers used for evaluation.\n",
        "\n",
        "Prophet training jobs run on Dataflow, meaning there is an initial startup time of 5-7 minutes. Any runtime past this startup time can be improved by scaling vertically (ex. changing the machine type from `n1-standard-2` to `e2-highcpu-8`) or horizontally (ex. increasing the number of workers from `5` to `100`).\n",
        "\n",
        "For a full list of parameters, see the GCPC SDK [documentation](https://google-cloud-pipeline-components.readthedocs.io/en/google-cloud-pipeline-components-1.0.33/google_cloud_pipeline_components.experimental.automl.forecasting.html#google_cloud_pipeline_components.experimental.automl.forecasting.utils.get_prophet_train_pipeline_and_parameters).\n"
      ]
    },
    {
      "cell_type": "code",
      "execution_count": null,
      "metadata": {
        "id": "khVlI5tNsirq"
      },
      "outputs": [],
      "source": [
        "time_column = \"date\"  # @param {type: \"string\"}\n",
        "time_series_identifier_column = \"id\"  # @param {type: \"string\"}\n",
        "target_column = \"sales\"  # @param {type: \"string\"}\n",
        "forecast_horizon = 30  # @param {type: \"integer\"}\n",
        "optimization_objective = \"rmse\"  # @param {type: \"string\"}\n",
        "data_granularity_unit = \"day\"  # @param {type: \"string\"}\n",
        "split_column = \"split\"  # @param {type: \"string\"}\n",
        "window_stride_length = 1  # @param {type: \"integer\"}\n",
        "\n",
        "(\n",
        "    train_job_spec_path,\n",
        "    train_parameter_values,\n",
        ") = utils.get_prophet_train_pipeline_and_parameters(\n",
        "    project=PROJECT_ID,\n",
        "    location=REGION,\n",
        "    root_dir=os.path.join(BUCKET_URI, \"pipeline_root\"),\n",
        "    time_column=time_column,\n",
        "    time_series_identifier_column=time_series_identifier_column,\n",
        "    target_column=target_column,\n",
        "    forecast_horizon=forecast_horizon,\n",
        "    optimization_objective=optimization_objective,\n",
        "    data_granularity_unit=data_granularity_unit,\n",
        "    predefined_split_key=split_column,\n",
        "    data_source_bigquery_table_path=TRAINING_DATASET_BQ_PATH,\n",
        "    window_stride_length=window_stride_length,\n",
        "    max_num_trials=2,\n",
        "    trainer_dataflow_machine_type=\"n1-standard-2\",\n",
        "    trainer_dataflow_max_num_workers=5,\n",
        "    evaluation_dataflow_machine_type=\"n1-standard-1\",\n",
        "    evaluation_dataflow_max_num_workers=1,\n",
        "    dataflow_service_account=SERVICE_ACCOUNT,\n",
        ")"
      ]
    },
    {
      "cell_type": "markdown",
      "metadata": {
        "id": "JOeUSSUKsmR8"
      },
      "source": [
        "### Run the training pipeline\n",
        "\n",
        "Use the Vertex AI Python SDK to kick off a training pipeline run. Once the run has started, the following cell outputs a link that allows you to monitor the run. The link should look like this:\n",
        "\n",
        "`https://console.cloud.google.com/vertex-ai/locations/[REGION]/pipelines/runs/[DISPLAY_NAME]`"
      ]
    },
    {
      "cell_type": "code",
      "execution_count": null,
      "metadata": {
        "id": "4CulHM46nWv7"
      },
      "outputs": [],
      "source": [
        "# The display name should be unique even if this cell is rerun.\n",
        "DISPLAY_NAME = f\"forecasting-demo-train-{generate_uuid()}\"\n",
        "\n",
        "job = aiplatform.PipelineJob(\n",
        "    job_id=DISPLAY_NAME,\n",
        "    display_name=DISPLAY_NAME,\n",
        "    pipeline_root=os.path.join(BUCKET_URI, DISPLAY_NAME),\n",
        "    template_path=train_job_spec_path,\n",
        "    parameter_values=train_parameter_values,\n",
        ")\n",
        "job.run(service_account=SERVICE_ACCOUNT)"
      ]
    },
    {
      "cell_type": "markdown",
      "metadata": {
        "id": "_mW24XOGi2-o"
      },
      "source": [
        "If you ever want to reuse an existing run, the above command can be replaced with:\n",
        "\n",
        "```\n",
        "job = aiplatform.PipelineJob.get('projects/[PROJECT_NUMBER]/locations/[REGION]/pipelineJobs/[PIPELINE_RUN_NAME]')\n",
        "\n",
        "```"
      ]
    },
    {
      "cell_type": "markdown",
      "metadata": {
        "id": "4b3Sn7vwvb6D"
      },
      "source": [
        "## Review model evaluation scores\n",
        "After your model has finished training, you can review the evaluation scores for it.\n",
        "\n",
        "#### Metrics are always reported via the `metrics` table in the destination dataset."
      ]
    },
    {
      "cell_type": "code",
      "execution_count": null,
      "metadata": {
        "id": "9uxJxYZB72hq"
      },
      "outputs": [],
      "source": [
        "for task_detail in job.gca_resource.job_detail.task_details:\n",
        "    if task_detail.task_name == \"model-evaluation\":\n",
        "        metrics = task_detail.outputs[\"evaluation_metrics\"].artifacts[0].metadata\n",
        "        break\n",
        "else:\n",
        "    raise ValueError(\"Couldn't find the model evaluation task.\")\n",
        "\n",
        "print(\"Evaluation metrics:\\n\")\n",
        "dict(metrics)"
      ]
    },
    {
      "cell_type": "markdown",
      "metadata": {
        "id": "93cAnX81x4_Y"
      },
      "source": [
        "## Create and run prediction job\n",
        "\n",
        "### Create prediction job\n",
        "\n",
        "Like with the training job, get the prediction pipeline from GCPC and use it to create an `aiplatform.PipelineJob`.\n",
        "\n",
        "Because there is one Prophet model per time series ID, the Prophet prediction server expects inputs to be aggregated by time series ID and outputs predictions using the same aggregation. This prediction pipeline automates the process of aggregating inputs and disaggregating the outputs from batch prediction.\n",
        "\n",
        "The prediction job expects the following parameters:\n",
        "-  `project` (str): The GCP project that runs the pipeline components.\n",
        "-  `location` (str): The GCP region for Vertex AI.\n",
        "-  `model_name` (str): The name of the Model resource, in a form of\n",
        "      projects/{project}/locations/{location}/models/{model}.\n",
        "-  `time_column` (str): Name of the column that identifies time order in the time series.\n",
        "-  `time_series_identifier_column` (str): Name of the column that identifies the time series.\n",
        "-  `target_column` (str): Name of the column that the model is to predict values for.\n",
        "-  `data_source_csv_filenames` (str): A string that represents a list of comma separated CSV filenames.\n",
        "-  `data_source_bigquery_table_path` (str): The BigQuery table path of format bq://bq_project.bq_dataset.bq_table\n",
        "-  `bigquery_destination_uri` (str): URI of the desired destination dataset. If not specified, resources are created under a new dataset in the project.\n",
        "-  `machine_type` (str): The machine type used for batch prediction.\n",
        "-  `max_num_workers` (int): The maximum number of workers used for batch prediction."
      ]
    },
    {
      "cell_type": "code",
      "execution_count": null,
      "metadata": {
        "id": "Z3_6LWhE9syV"
      },
      "outputs": [],
      "source": [
        "# Get the model name programmatically, you can find this by looking at the\n",
        "# execution graph in Vertex AI Pipelines.\n",
        "for task_detail in job.gca_resource.job_detail.task_details:\n",
        "    if task_detail.task_name == \"model-upload\":\n",
        "        model = task_detail.outputs[\"model\"].artifacts[0].metadata[\"resourceName\"]\n",
        "        break\n",
        "else:\n",
        "    raise ValueError(\"Couldn't find the model training task.\")\n",
        "\n",
        "# Use the model when creating the pipeline parameters.\n",
        "(\n",
        "    prediction_job_spec_path,\n",
        "    prediction_parameter_values,\n",
        ") = utils.get_prophet_prediction_pipeline_and_parameters(\n",
        "    project=PROJECT_ID,\n",
        "    location=REGION,\n",
        "    model_name=model,\n",
        "    time_column=time_column,\n",
        "    time_series_identifier_column=time_series_identifier_column,\n",
        "    target_column=target_column,\n",
        "    data_source_bigquery_table_path=PREDICTION_DATASET_BQ_PATH,\n",
        "    bigquery_destination_uri=dataset_path,\n",
        "    machine_type=\"n1-standard-2\",\n",
        "    max_num_workers=5,\n",
        ")"
      ]
    },
    {
      "cell_type": "markdown",
      "metadata": {
        "id": "2OJ3UIz090Ga"
      },
      "source": [
        "### Run the prediction pipeline\n",
        "\n",
        "Use the Vertex AI Python SDK to kick off a prediction pipeline run. Once the run has started, the following cell outputs a link that allows you to monitor the run. The link should look like this:\n",
        "\n",
        "`https://console.cloud.google.com/vertex-ai/locations/[REGION]/pipelines/runs/[DISPLAY_NAME]`"
      ]
    },
    {
      "cell_type": "code",
      "execution_count": null,
      "metadata": {
        "id": "Gqdojn8F8z7x"
      },
      "outputs": [],
      "source": [
        "# The display name should be unique even if this cell is rerun.\n",
        "DISPLAY_NAME = f\"forecasting-demo-predict-{generate_uuid()}\"\n",
        "\n",
        "job = aiplatform.PipelineJob(\n",
        "    job_id=DISPLAY_NAME,\n",
        "    display_name=DISPLAY_NAME,\n",
        "    pipeline_root=os.path.join(BUCKET_URI, DISPLAY_NAME),\n",
        "    template_path=prediction_job_spec_path,\n",
        "    parameter_values=prediction_parameter_values,\n",
        ")\n",
        "job.run(service_account=SERVICE_ACCOUNT)"
      ]
    },
    {
      "cell_type": "markdown",
      "metadata": {
        "id": "5r22uk_599II"
      },
      "source": [
        "### Get the predictions\n",
        "\n",
        "Next, get the results from the completed batch prediction job. These are always written to a table called `predictions` under the output dataset."
      ]
    },
    {
      "cell_type": "code",
      "execution_count": null,
      "metadata": {
        "id": "OAZF2bcX9-S_"
      },
      "outputs": [],
      "source": [
        "# Get the prediction table programmatically, you can find this by looking at the\n",
        "# execution graph in Vertex AI Pipelines.\n",
        "for task_detail in job.gca_resource.job_detail.task_details:\n",
        "    if task_detail.task_name == \"bigquery-query-job-2\":\n",
        "        pred_table = (\n",
        "            task_detail.outputs[\"destination_table\"].artifacts[0].metadata[\"tableId\"]\n",
        "        )\n",
        "        break\n",
        "else:\n",
        "    raise ValueError(\"Couldn't find the prediction task.\")\n",
        "\n",
        "query = f\"SELECT * FROM `{dataset_path}.{pred_table}`\"\n",
        "preds = client.query(query).to_dataframe()\n",
        "preds.head()"
      ]
    },
    {
      "cell_type": "markdown",
      "metadata": {
        "id": "cva3knm3-ALI"
      },
      "source": [
        "## Visualize the forecasts\n",
        "\n",
        "Lastly, follow the given link to visualize the generated forecasts in [Data Studio](https://support.google.com/datastudio/answer/6283323?hl=en).\n",
        "The code block included in this section dynamically generates a Data Studio link that specifies the template, the location of the forecasts, and the query to generate the chart. The data is populated from the forecasts generated earlier.\n",
        "\n",
        "You can inspect the used template at https://datastudio.google.com/c/u/0/reporting/067f70d2-8cd6-4a4c-a099-292acd1053e8. This was created by Google specifically to view forecasting predictions."
      ]
    },
    {
      "cell_type": "code",
      "execution_count": null,
      "metadata": {
        "id": "OmxAs_H9-CQB"
      },
      "outputs": [],
      "source": [
        "def _sanitize_bq_uri(bq_uri: str):\n",
        "    if bq_uri.startswith(\"bq://\"):\n",
        "        bq_uri = bq_uri[5:]\n",
        "    return bq_uri.replace(\":\", \".\")\n",
        "\n",
        "\n",
        "def get_data_studio_link(\n",
        "    batch_prediction_bq_input_uri: str,\n",
        "    batch_prediction_bq_output_uri: str,\n",
        "    time_column: str,\n",
        "    time_series_identifier_column: str,\n",
        "    target_column: str,\n",
        "):\n",
        "    \"\"\"Creates a link that fills in the demo Data Studio template.\"\"\"\n",
        "    batch_prediction_bq_input_uri = _sanitize_bq_uri(batch_prediction_bq_input_uri)\n",
        "    batch_prediction_bq_output_uri = _sanitize_bq_uri(batch_prediction_bq_output_uri)\n",
        "    query = f\"\"\"\n",
        "        SELECT\n",
        "          CAST(input.{time_column} as DATETIME) timestamp_col,\n",
        "          CAST(input.{time_series_identifier_column} as STRING) time_series_identifier_col,\n",
        "          CAST(input.{target_column} as NUMERIC) historical_values,\n",
        "          CAST(predicted_{target_column}.value as NUMERIC) predicted_values,\n",
        "        FROM `{batch_prediction_bq_input_uri}` input\n",
        "        LEFT JOIN `{batch_prediction_bq_output_uri}` output\n",
        "          ON\n",
        "            TIMESTAMP(input.{time_column}) = TIMESTAMP(output.{time_column})\n",
        "            AND CAST(input.{time_series_identifier_column} as STRING) = CAST(\n",
        "              output.{time_series_identifier_column} as STRING)\n",
        "    \"\"\"\n",
        "    params = {\n",
        "        \"templateId\": \"067f70d2-8cd6-4a4c-a099-292acd1053e8\",\n",
        "        \"ds0.connector\": \"BIG_QUERY\",\n",
        "        \"ds0.projectId\": PROJECT_ID,\n",
        "        \"ds0.billingProjectId\": PROJECT_ID,\n",
        "        \"ds0.type\": \"CUSTOM_QUERY\",\n",
        "        \"ds0.sql\": query,\n",
        "    }\n",
        "    base_url = \"https://datastudio.google.com/c/u/0/reporting\"\n",
        "    url_params = urllib.parse.urlencode({\"params\": json.dumps(params)})\n",
        "    return f\"{base_url}?{url_params}\""
      ]
    },
    {
      "cell_type": "code",
      "execution_count": null,
      "metadata": {
        "id": "IsoJH2KL-DSF"
      },
      "outputs": [],
      "source": [
        "actuals_table = f\"{dataset_path}.actuals\"\n",
        "query = f\"\"\"\n",
        "    CREATE OR REPLACE TABLE `{actuals_table}` AS\n",
        "    {base_data_query}\n",
        "    SELECT *\n",
        "    FROM base_data\n",
        "    WHERE split != 'TRAIN'\n",
        "\"\"\"\n",
        "client.query(query).result()\n",
        "print(f\"Created {actuals_table}.\")"
      ]
    },
    {
      "cell_type": "code",
      "execution_count": null,
      "metadata": {
        "id": "3_UWJ4cE-Edf"
      },
      "outputs": [],
      "source": [
        "print(\"Click the link below to view ARIMA predictions:\")\n",
        "print(\n",
        "    get_data_studio_link(\n",
        "        batch_prediction_bq_input_uri=actuals_table,\n",
        "        batch_prediction_bq_output_uri=f\"{dataset_path}.{pred_table}\",\n",
        "        time_column=time_column,\n",
        "        time_series_identifier_column=time_series_identifier_column,\n",
        "        target_column=target_column,\n",
        "    )\n",
        ")"
      ]
    },
    {
      "cell_type": "markdown",
      "metadata": {
        "id": "f8Eia1VqwuVB"
      },
      "source": [
        "## Clean up Vertex AI and BigQuery resources\n",
        "\n",
        "To clean up all Google Cloud resources used in this project, you can [delete the Google Cloud\n",
        "project](https://cloud.google.com/resource-manager/docs/creating-managing-projects#shutting_down_projects) you used for the tutorial.\n",
        "\n",
        "Otherwise, you can delete the individual resources you created in this tutorial:\n",
        "\n",
        "- Model\n",
        "- Cloud Storage Bucket\n",
        "- BigQuery tables"
      ]
    },
    {
      "cell_type": "code",
      "execution_count": null,
      "metadata": {
        "id": "VhWTeiZUwweR"
      },
      "outputs": [],
      "source": [
        "# Delete the model\n",
        "aiplatform.Model(model).delete()\n",
        "\n",
        "# Delete output datasets\n",
        "client.delete_dataset(dataset_path, delete_contents=True, not_found_ok=True)\n",
        "\n",
        "delete_bucket = False\n",
        "if delete_bucket or os.getenv(\"IS_TESTING\"):\n",
        "    ! gsutil -m rm -r $BUCKET_URI"
      ]
    }
  ],
  "metadata": {
    "colab": {
      "name": "prophet_on_vertex_pipelines.ipynb",
      "toc_visible": true
    },
    "kernelspec": {
      "display_name": "Python 3",
      "name": "python3"
    }
  },
  "nbformat": 4,
  "nbformat_minor": 0
}
