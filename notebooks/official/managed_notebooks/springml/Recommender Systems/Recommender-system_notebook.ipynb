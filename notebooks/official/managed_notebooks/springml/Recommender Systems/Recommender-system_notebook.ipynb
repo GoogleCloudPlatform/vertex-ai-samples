{
 "cells": [
  {
   "cell_type": "markdown",
   "id": "92fbca85-6dec-489b-8073-d9dbf22ce915",
   "metadata": {},
   "source": [
    "# Recommender System on Retail data on Vertex-AI using PySpark\n",
    "\n",
    "\n",
    "\n"
   ]
  },
  {
   "cell_type": "markdown",
   "id": "926292f0-b1ab-4fe9-9dd8-7ee8bcb2dc65",
   "metadata": {},
   "source": [
    "## Table Of Contents\n",
    "* [Overview](#section-1)\n",
    "* [Dataset](#section-2)\n",
    "* [Objective](#section-3)\n",
    "* [Costs](#section-4)\n",
    "* [Create a DataProc cluster with component gateway enabled and JupyterLab extension](#section-5)\n",
    "* [Connect to the cluster from the notebook](#section-6)\n",
    "* [Explore the data](#section-7)\n",
    "* [Define the ALS Model](#section-8)\n",
    "* [Evaluate the model](#section-9)\n",
    "* [Save the ALS model to GCS](#section-10)  \n",
    "* [Write the recommendations to Bigquery](#section-11)\n",
    "* [Clean up](#section-12)"
   ]
  },
  {
   "cell_type": "markdown",
   "id": "4ea9b5fd-45b1-43e3-b1b2-46dd60ea0b30",
   "metadata": {},
   "source": [
    "## Overview\n",
    "<a name=\"section-1\"></a>\n",
    "\n",
    "Recommender systems are powerful tools that model existing customer behavior to generate recommendations. These models generally build complex matrices and map out existing customer preferences in order to find intersecting interests and offer recommendations. These matrices can be very large and will benefit from distributed computing and large memory pools. This is a perfect application for Vertex-AI notebooks running PySpark on DataProc cluster.\n"
   ]
  },
  {
   "cell_type": "markdown",
   "id": "dec57292-ba31-4c25-ba0a-37232a51f9b6",
   "metadata": {},
   "source": [
    "## Dataset\n",
    "<a name=\"section-2\"></a>\n",
    "\n",
    "This notebook uses the following dataset in Bigquery : ```looker-private-demo.retail```. It can be accessed by pinning the ```looker-private-demo``` project in Bigquery. Instead of going to Bigquery UI, this process can be performed from the current Jupyter environment(on Vertex-AI's managed-instance) itself. Vertex-AI's managed instances support browsing through the datasets and tables from Bigquery through its **Bigquery In Notebooks** feature. \n",
    "\n",
    "<img src=\"images/Bigquery_UI_new.PNG\"></img>\n",
    "\n",
    "In this dataset, ```retail.order_items``` table will be used to train the recommendation system using PySpark. This table contains information on various orders related to the users and items(products) in the dataset.\n",
    "\n",
    "\n",
    "\n",
    "## Objective\n",
    "<a name=\"section-3\"></a>\n",
    "\n",
    "The objective of this tutorial is to build a recommendation model with [Collaborative filtering](https://en.wikipedia.org/wiki/Collaborative_filtering) approach using the interactive PySpark features offered by the managed instances on Vertex-AI. To do so, a remotely connected DataProc cluster and the <a href=\"http://dl.acm.org/citation.cfm?id=1608614\"><b>Alternating Least Squares(ALS)</b></a> method implemented in the PySpark's MLlib library are used.\n",
    "\n",
    "The steps performed in this notebook are as follows :\n",
    "1. Remotely connect to a Dataproc cluster with Pyspark and JupyterLab from the notebook.\n",
    "2. Exploring the dataset in Bigquery from the notebook.\n",
    "3. Preprocessing the data.\n",
    "4. Training a PySpark ALS model on the data.\n",
    "5. Evaluating the ALS model.\n",
    "6. Generating recommendations.\n",
    "7. Saving the recommendations to a Bigquery using Pyspark-Bigquery connector.\n",
    "8. Saving the ALS model to a Cloud Storage Bucket.\n",
    "9. Cleaning up the resources.\n",
    "\n",
    "\n",
    "## Costs\n",
    "<a name=\"section-4\"></a>\n",
    "This tutorial uses the following billable components of Google Cloud:\n",
    "\n",
    "* Vertex AI\n",
    "* Dataproc\n",
    "* Bigquery\n",
    "* Cloud Storage\n",
    "\n",
    "Learn about [Vertex AI\n",
    "pricing](https://cloud.google.com/vertex-ai/pricing), [Dataproc pricing](https://cloud.google.com/dataproc/pricing), [Bigquery\n",
    "pricing](https://cloud.google.com/bigquery/pricing) and [Cloud Storage\n",
    "pricing](https://cloud.google.com/storage/pricing) and use the [Pricing\n",
    "Calculator](https://cloud.google.com/products/calculator/)\n",
    "to generate a cost estimate based on your projected usage."
   ]
  },
  {
   "cell_type": "markdown",
   "id": "4d905426-05f5-4493-8df4-543423f5bfc4",
   "metadata": {},
   "source": [
    "## Before you begin\n",
    "\n",
    "As the ALS model approach is compute intensive and could take a lot of time to train on a regular notebook environment, a Dataproc cluster with PySpark environemnt is used in this notebook. The steps taken to connect to the cluster are as follows : \n",
    "\n",
    "\n",
    "## Create a DataProc cluster with component gateway enabled and JupyterLab extension\n",
    "<a name=\"section-5\"></a>\n",
    "The following gcloud command can be executed to create the cluster."
   ]
  },
  {
   "cell_type": "code",
   "execution_count": null,
   "id": "96d00fbb-4d91-4cf7-9d04-9ae28829eca5",
   "metadata": {},
   "outputs": [],
   "source": [
    "PROJECT = \"your-project-name\"\n",
    "CLUSTER_NAME = \"your-cluster-name\"\n",
    "CLUSTER_REGION = \"your-cluster-region\"\n",
    "CLUSTER_ZONE = \"your-cluster-zone\"\n",
    "MACHINE_TYPE = \"your=machine-type\""
   ]
  },
  {
   "cell_type": "code",
   "execution_count": null,
   "id": "c587bdd1-8b7e-452a-93b0-0aa4e7acd869",
   "metadata": {},
   "outputs": [],
   "source": [
    "! gcloud dataproc clusters create $CLUSTER_NAME \\\n",
    "--enable-component-gateway \\\n",
    "--region $CLUSTER_REGION \\\n",
    "--zone $CLUSTER_ZONE \\\n",
    "--single-node \\\n",
    "--master-machine-type $MACHINE_TYPE \\\n",
    "--master-boot-disk-size 100 \\\n",
    "--image-version 2.0-debian10 \\\n",
    "--optional-components JUPYTER \\\n",
    "--project $PROJECT"
   ]
  },
  {
   "cell_type": "markdown",
   "id": "e098b001-b6e1-44df-9022-e33e40f29977",
   "metadata": {},
   "source": [
    "Alternatively, the cluster can be created through the Dataproc console as well. Additional settings like network configuratons, service-accounts etc. can be configured there if required. Among all the settings while configuring the cluster, the following steps are needed to be followed for this tutorial :\n",
    "\n",
    "- Provide a name for the cluster.\n",
    "- Select a region and zone for the cluster.\n",
    "- Select the cluster type as single-node. For small and proof-of-concept usecases, it is recommended to select a single-node cluster. If needed, other types can also be selected based on the requirement.\n",
    "- Enable Component gateway.\n",
    "- In the optional components, select Jupyter Notebook.\n",
    "- (optional) Select the machine-type (preferably high-mem machine type).\n",
    "- Create the cluster."
   ]
  },
  {
   "cell_type": "markdown",
   "id": "a3241eee-671a-4e08-822d-2cf2ee31676f",
   "metadata": {},
   "source": [
    "## Connect to the cluster from the notebook\n",
    "<a name=\"section-6\"></a>\n",
    "When the created Dataproc cluste is running, the corresponding runtime can be remotely set as a kernel in the notebook. The created cluster's name will appear in the list of kernels that can be selected for this notebook. Select the Python3 kernel on the remote cluster environment for this tutorial.\n",
    "\n",
    "<img src=\"images/cluster_kernel_selection.png\"></img>\n",
    "\n",
    "***Note :**\n",
    "- The remote kernels might take some time(~3min.) to show up in the list of kernels.\n",
    "- PySpark code in this tutorial can be run on either PySpark or Python3 kernel on the remote Dataproc cluster. But to run the optional part where the recommendations are saved to a Bigquery table using a Bigquery connector, it is recommended that Python3 kernel(remote) is selected."
   ]
  },
  {
   "cell_type": "markdown",
   "id": "d4a906bf-9ac5-45f6-8c2e-f637cf00181a",
   "metadata": {},
   "source": [
    "## Tutorial "
   ]
  },
  {
   "cell_type": "markdown",
   "id": "a9652911-d66f-43c8-a827-947b219d7a39",
   "metadata": {},
   "source": [
    "## Explore the data\n",
    "<a name=\"section-7\"></a>\n"
   ]
  },
  {
   "cell_type": "markdown",
   "id": "ca814452-1181-49cc-90f5-5c33d33f0da0",
   "metadata": {},
   "source": [
    "Vertex-AI's managed-instances provide us the ability to explore the Bigquery content from its **Bigquery In Notebooks** pane on left. This feature allows us to look at the meta-data and preview of the table-content, query the table and also get a description of the data in the tables.\n",
    "\n",
    "<img src=\"images/BQ_view_table_new.PNG\"></img>"
   ]
  },
  {
   "cell_type": "markdown",
   "id": "867272a3-c667-45c5-a51f-e0627e946bfa",
   "metadata": {},
   "source": [
    "Check the distribution of the STATUS field."
   ]
  },
  {
   "cell_type": "markdown",
   "id": "de169bb9-f223-455e-82ed-f64946f52f7a",
   "metadata": {},
   "source": [
    "#@bigquery\n",
    "SELECT STATUS, COUNT(*) order_count FROM looker-private-demo.retail.order_items GROUP BY 1"
   ]
  },
  {
   "cell_type": "markdown",
   "id": "73e03340-9c14-4696-887d-caf8ab70d0d9",
   "metadata": {},
   "source": [
    "Join the ```order_items``` table with the ```inventory_items``` table from the same dataset to retrieve the PRODUCT_IDs for the orders."
   ]
  },
  {
   "cell_type": "markdown",
   "id": "9569ca8c-5891-4aac-a9a0-e26a80877f90",
   "metadata": {},
   "source": [
    "#@bigquery\n",
    "WITH user_prod_table AS (\n",
    "SELECT USER_ID, PRODUCT_ID, STATUS FROM looker-private-demo.retail.order_items AS a\n",
    "join\n",
    "(SELECT ID, PRODUCT_ID FROM looker-private-demo.retail.inventory_items) AS b\n",
    "on a.inventory_item_id = b.ID )\n",
    "\n",
    "SELECT USER_ID, PRODUCT_ID, STATUS from user_prod_table"
   ]
  },
  {
   "cell_type": "markdown",
   "id": "a137aaee-e4b8-4c55-a58b-517589f83aef",
   "metadata": {},
   "source": [
    "To fetch the data into into the current environment as a dataframe, press the **Query and load as DataFrame** button and execute the generated code stub.\n",
    "\n",
    "*Note : By default the data is loaded into \"df\" variable and it could be changed before executing the cell if required.*"
   ]
  },
  {
   "cell_type": "code",
   "execution_count": 1,
   "id": "ecba03b5-12fd-4162-8cfa-bdad9b766153",
   "metadata": {},
   "outputs": [],
   "source": [
    "# The following two lines are only necessary to run once.\n",
    "# Comment out otherwise for speed-up.\n",
    "from google.cloud.bigquery import Client, QueryJobConfig\n",
    "client = Client()\n",
    "\n",
    "query = \"\"\"WITH user_prod_table AS (\n",
    "SELECT USER_ID, PRODUCT_ID, STATUS FROM looker-private-demo.retail.order_items AS a\n",
    "join\n",
    "(SELECT ID, PRODUCT_ID FROM looker-private-demo.retail.inventory_items) AS b\n",
    "on a.inventory_item_id = b.ID )\n",
    "\n",
    "SELECT USER_ID, PRODUCT_ID, STATUS from user_prod_table\"\"\"\n",
    "job = client.query(query)\n",
    "df = job.to_dataframe()"
   ]
  },
  {
   "cell_type": "markdown",
   "id": "f332b82c-9679-4391-b25e-492e826d7629",
   "metadata": {},
   "source": [
    "### Preprocess the Data\n",
    "\n",
    "To run PySpark's ALS method on the existing data, it is necessary that there are some fields to quantify the relation between the USER_IDs and the PRODUCT_IDs like for example *ratings given by the user*. If such fields alredy exist in the data, they can be treated as an *explicit feedback* for the ALS model. Otherwise, the fields indicative of such relation can be given as an *implicit feedback*. More about the feedbacks for PySpark's ALS method can be checked [here](https://spark.apache.org/docs/2.2.0/ml-collaborative-filtering.html#explicit-vs-implicit-feedback).\n",
    "\n",
    "In the current dataset, as there are no such numerical fileds, the STATUS field is further used to quantify the association between a USER_ID and  a PRODUCT_ID. Based on when they occur during an order lifecycle and how likely the user is going to like the order, the STATUS field is quantified by assigning the following ratings : \n",
    "- Cancelled - 1\n",
    "- Returned - 2\n",
    "- Processing - 3\n",
    "- Shipped - 4\n",
    "- Complete - 5\n",
    "\n",
    "These ratings given are subjective and can be modified according to the usecase."
   ]
  },
  {
   "cell_type": "code",
   "execution_count": 2,
   "id": "58f67453-7dec-4bc3-a4a2-39e99cf7ade1",
   "metadata": {},
   "outputs": [],
   "source": [
    "score_mapping = {\"Cancelled\" : 1, \n",
    "            \"Returned\" : 2,\n",
    "            \"Processing\" : 3, \n",
    "            \"Shipped\" : 4,\n",
    "            \"Complete\" : 5}\n",
    "df['RATING'] = df['STATUS'].map(score_mapping)"
   ]
  },
  {
   "cell_type": "markdown",
   "id": "e03eb2dc-66d4-47e9-9e08-0ab78fccde18",
   "metadata": {},
   "source": [
    "Check the distribution of the newly generated RATING field."
   ]
  },
  {
   "cell_type": "code",
   "execution_count": 3,
   "id": "ac517982-a412-4150-aa5d-7281bb9c287a",
   "metadata": {},
   "outputs": [
    {
     "data": {
      "text/plain": [
       "<AxesSubplot:ylabel='Frequency'>"
      ]
     },
     "execution_count": 3,
     "metadata": {},
     "output_type": "execute_result"
    },
    {
     "data": {
      "image/png": "[encoded data removed]",
      "text/plain": [
       "<Figure size 432x288 with 1 Axes>"
      ]
     },
     "metadata": {
      "needs_background": "light"
     },
     "output_type": "display_data"
    }
   ],
   "source": [
    "df['RATING'].plot(kind='hist')"
   ]
  },
  {
   "cell_type": "markdown",
   "id": "56af986d-c12c-4416-aab2-6b45b4c29de2",
   "metadata": {},
   "source": [
    "Load the required methods and classes from PySpark MLlib."
   ]
  },
  {
   "cell_type": "code",
   "execution_count": 4,
   "id": "c0c4f9f0-65fb-4015-8ad3-6a73cc5e71f3",
   "metadata": {},
   "outputs": [],
   "source": [
    "from pyspark.sql import SparkSession\n",
    "from pyspark.ml.evaluation import RegressionEvaluator\n",
    "from pyspark.ml.recommendation import ALS\n",
    "from pyspark.ml.tuning import ParamGridBuilder, CrossValidator"
   ]
  },
  {
   "cell_type": "markdown",
   "id": "5d122d98-8bdb-4ea9-a414-30ec9cf1de2d",
   "metadata": {},
   "source": [
    "Generate a Spark session with Bigquery-Spark connector configured.\n",
    "\n",
    "*Note : If the notebook is connected to a Dataproc cluster, the session object would show \"yarn\" as the Master.*"
   ]
  },
  {
   "cell_type": "code",
   "execution_count": 5,
   "id": "d7aab2b4-eeec-4642-8f44-e58eb6f9be3e",
   "metadata": {},
   "outputs": [
    {
     "name": "stderr",
     "output_type": "stream",
     "text": [
      "Setting default log level to \"WARN\".\n",
      "To adjust logging level use sc.setLogLevel(newLevel). For SparkR, use setLogLevel(newLevel).\n"
     ]
    },
    {
     "data": {
      "text/html": [
       "\n",
       "            <div>\n",
       "                <p><b>SparkSession - hive</b></p>\n",
       "                \n",
       "        <div>\n",
       "            <p><b>SparkContext</b></p>\n",
       "\n",
       "            <p><a href=\"http://rcmdsys-cluster2-m.c.vertex-ai-dev.internal:36225\">Spark UI</a></p>\n",
       "\n",
       "            <dl>\n",
       "              <dt>Version</dt>\n",
       "                <dd><code>v3.1.2</code></dd>\n",
       "              <dt>Master</dt>\n",
       "                <dd><code>yarn</code></dd>\n",
       "              <dt>AppName</dt>\n",
       "                <dd><code>Recommendations</code></dd>\n",
       "            </dl>\n",
       "        </div>\n",
       "        \n",
       "            </div>\n",
       "        "
      ],
      "text/plain": [
       "<pyspark.sql.session.SparkSession at 0x7fdfd186dac0>"
      ]
     },
     "execution_count": 5,
     "metadata": {},
     "output_type": "execute_result"
    }
   ],
   "source": [
    "spark = SparkSession.builder \\\n",
    ".appName('Recommendations') \\\n",
    ".config('spark.jars', 'gs://spark-lib/bigquery/spark-bigquery-latest_2.12.jar') \\\n",
    ".getOrCreate()\n",
    "\n",
    "spark"
   ]
  },
  {
   "cell_type": "markdown",
   "id": "02f2d243-0e93-48ec-9c2c-c0669c88c46a",
   "metadata": {},
   "source": [
    "Convert the pandas dataframe to a spark dataframe for further processing."
   ]
  },
  {
   "cell_type": "code",
   "execution_count": 6,
   "id": "2ea6dd25-cd04-4d90-8b09-bb250eed9bce",
   "metadata": {
    "tags": []
   },
   "outputs": [
    {
     "name": "stdout",
     "output_type": "stream",
     "text": [
      "root\n",
      " |-- USER_ID: long (nullable = true)\n",
      " |-- PRODUCT_ID: long (nullable = true)\n",
      " |-- RATING: long (nullable = true)\n",
      "\n"
     ]
    },
    {
     "name": "stderr",
     "output_type": "stream",
     "text": [
      "[Stage 0:>                                                          (0 + 1) / 1]\r"
     ]
    },
    {
     "name": "stdout",
     "output_type": "stream",
     "text": [
      "+-------+----------+------+\n",
      "|USER_ID|PRODUCT_ID|RATING|\n",
      "+-------+----------+------+\n",
      "|   3223|     20139|     1|\n",
      "|   6586|     27065|     1|\n",
      "|   7356|     13792|     1|\n",
      "|   7595|     28340|     1|\n",
      "|   8314|     18045|     1|\n",
      "|  12845|      1626|     1|\n",
      "|  15135|      2428|     1|\n",
      "|  15399|     16113|     1|\n",
      "|  16919|     22707|     1|\n",
      "|  17022|     18979|     1|\n",
      "|  17096|     28302|     1|\n",
      "|  19079|      6411|     1|\n",
      "|  19855|      3466|     1|\n",
      "|  24743|     12761|     1|\n",
      "|  29189|     20547|     1|\n",
      "|  31575|      3459|     1|\n",
      "|  31693|     17597|     1|\n",
      "|  37735|      7573|     1|\n",
      "|  38373|       129|     1|\n",
      "|  39619|     20542|     1|\n",
      "+-------+----------+------+\n",
      "only showing top 20 rows\n",
      "\n"
     ]
    },
    {
     "name": "stderr",
     "output_type": "stream",
     "text": [
      "                                                                                \r"
     ]
    }
   ],
   "source": [
    "spark_df=spark.createDataFrame(df[['USER_ID', 'PRODUCT_ID', 'RATING']]) \n",
    "spark_df.printSchema()\n",
    "spark_df.show()"
   ]
  },
  {
   "cell_type": "markdown",
   "id": "70c7f8a0-bd6f-475a-b464-5b374bbf4512",
   "metadata": {},
   "source": [
    "### Split the data into Train and Test"
   ]
  },
  {
   "cell_type": "code",
   "execution_count": 7,
   "id": "1bc45a7c-08b9-4de5-95b1-cedb3b054ded",
   "metadata": {},
   "outputs": [
    {
     "name": "stderr",
     "output_type": "stream",
     "text": [
      "                                                                                \r"
     ]
    },
    {
     "data": {
      "text/plain": [
       "(245185, 60883)"
      ]
     },
     "execution_count": 7,
     "metadata": {},
     "output_type": "execute_result"
    }
   ],
   "source": [
    "(train, test) = spark_df.randomSplit([0.8, 0.2], seed = 36)\n",
    "train.count(), test.count()"
   ]
  },
  {
   "cell_type": "markdown",
   "id": "a3fee5d8-983f-4644-a6ae-6b33de7866f4",
   "metadata": {},
   "source": [
    "## Define the ALS Model\n",
    "<a name=\"section-8\"></a>"
   ]
  },
  {
   "cell_type": "markdown",
   "id": "657e7bbe-532a-4fbb-8c5b-d1210b7606a1",
   "metadata": {},
   "source": [
    "The PySpark ALS recommender, Alternating Least Squares, is a matrix factorization algorithm. The idea is to build a matrix that maps users to actions. The actions can be reviews, purchases, various options taken, etc. Due to the complexity and size of the matrix, PySpark can run the algorithm in parallel.\n",
    "\n",
    "ALS will attempt to estimate the rating matrix R as the product of two lower-rank matrices, X and Y. Typically these approximations are called ‘factor’ matrices. During each iteration, one of the factor matrices is held constant, while the other is solved for using least squares. The newly-solved factor matrix is then held constant while solving for the other factor matrix.\n",
    "\n",
    "PySpark uses a blocked implementation of the ALS factorization algorithm that groups the two sets of factors (referred to as “users” and “products”) into blocks and reduces communication by only sending one copy of each user vector to each product block on each iteration, and only for the product blocks that need that user’s feature vector.\n",
    "\n",
    "Essentially instead of finding the low-rank approximations to the rating matrix R, this finds the approximations for a preference matrix P where the elements of P are 1 if r > 0 and 0 if r <= 0. The ratings then act as ‘confidence’ values related to the strength of indicated user preferences rather than explicit ratings given to items (more information about PySpark's ALS can be found [here](https://spark.apache.org/docs/latest/api/python/reference/api/pyspark.ml.recommendation.ALS.html))."
   ]
  },
  {
   "cell_type": "code",
   "execution_count": 8,
   "id": "a9a9506e-b83e-4e82-b96a-16d3743dcb23",
   "metadata": {},
   "outputs": [],
   "source": [
    "als = ALS(\n",
    "         userCol=\"USER_ID\", \n",
    "         itemCol=\"PRODUCT_ID\",\n",
    "         ratingCol=\"RATING\", \n",
    "         nonnegative = True, \n",
    "         implicitPrefs = False,\n",
    "         coldStartStrategy=\"drop\"\n",
    ")"
   ]
  },
  {
   "cell_type": "markdown",
   "id": "4700716b-eaf7-4bea-938d-9c8addbf7303",
   "metadata": {},
   "source": [
    "ALS model tries to predict the ratings between users and items and so RMSE can be used for evaluating the model."
   ]
  },
  {
   "cell_type": "code",
   "execution_count": 9,
   "id": "cf26fdf8-aad6-4273-8b73-6d13ea6ac7ab",
   "metadata": {},
   "outputs": [],
   "source": [
    "evaluator = RegressionEvaluator(\n",
    "           metricName=\"rmse\", \n",
    "           labelCol=\"RATING\", \n",
    "           predictionCol=\"prediction\") "
   ]
  },
  {
   "cell_type": "markdown",
   "id": "9cdc6d75-fe7e-48fc-9ee2-b5d612bf54e9",
   "metadata": {},
   "source": [
    "Define a hyperparameter grid for Cross-Validation."
   ]
  },
  {
   "cell_type": "code",
   "execution_count": 10,
   "id": "156ac933-2cc1-42aa-9a4c-8520ed8f779c",
   "metadata": {},
   "outputs": [
    {
     "name": "stdout",
     "output_type": "stream",
     "text": [
      "No. of settings to be tested:  6\n"
     ]
    }
   ],
   "source": [
    "param_grid = ParamGridBuilder() \\\n",
    "            .addGrid(als.rank, [10, 50]) \\\n",
    "            .addGrid(als.regParam, [.01, .1, 0.2]) \\\n",
    "            .build()\n",
    "print (\"No. of settings to be tested: \", len(param_grid))"
   ]
  },
  {
   "cell_type": "markdown",
   "id": "c9562b5f-8919-4d14-8cb7-aee0e50c5e1e",
   "metadata": {},
   "source": [
    "Perform Crossvalidation and save the best model."
   ]
  },
  {
   "cell_type": "code",
   "execution_count": 11,
   "id": "8f13c23f-4c2a-43ee-be9f-ac1217910888",
   "metadata": {
    "tags": []
   },
   "outputs": [
    {
     "name": "stderr",
     "output_type": "stream",
     "text": [
      "                                                                                \r"
     ]
    }
   ],
   "source": [
    "cv = CrossValidator(estimator=als, estimatorParamMaps=param_grid, evaluator=evaluator, numFolds=3)\n",
    "model = cv.fit(train)\n",
    "best_model = model.bestModel"
   ]
  },
  {
   "cell_type": "code",
   "execution_count": 12,
   "id": "eb8664a3-5892-433c-9ba8-b2a76876d26b",
   "metadata": {},
   "outputs": [
    {
     "name": "stdout",
     "output_type": "stream",
     "text": [
      "##Parameters for the Best Model##\n",
      "Rank: 10\n",
      "MaxIter: 10\n",
      "RegParam: 0.2\n"
     ]
    }
   ],
   "source": [
    "print(\"##Parameters for the Best Model##\")\n",
    "print(\"Rank:\", best_model._java_obj.parent().getRank())\n",
    "print(\"MaxIter:\", best_model._java_obj.parent().getMaxIter())\n",
    "print(\"RegParam:\", best_model._java_obj.parent().getRegParam())"
   ]
  },
  {
   "cell_type": "markdown",
   "id": "d8974098-bb49-4433-ac06-06bba423f46e",
   "metadata": {},
   "source": [
    "## Evaluate the model\n",
    "<a name=\"section-9\"></a>\n",
    "Evaluate the model by computing the RMSE on the train and test data."
   ]
  },
  {
   "cell_type": "code",
   "execution_count": 13,
   "id": "f233a5d6-4f61-4ffc-a04b-0caf54890e7a",
   "metadata": {},
   "outputs": [
    {
     "name": "stderr",
     "output_type": "stream",
     "text": [
      "                                                                                \r"
     ]
    },
    {
     "name": "stdout",
     "output_type": "stream",
     "text": [
      "Train RMSE  0.3995716034391009\n",
      "Test RMSE  0.9899883384950502\n"
     ]
    }
   ],
   "source": [
    "# View the rating predictions by the model on train and test sets\n",
    "train_predictions = best_model.transform(train)\n",
    "train_RMSE = evaluator.evaluate(train_predictions)\n",
    "\n",
    "test_predictions = best_model.transform(test)\n",
    "test_RMSE = evaluator.evaluate(test_predictions)\n",
    "\n",
    "print(\"Train RMSE \", train_RMSE)\n",
    "print(\"Test RMSE \" , test_RMSE)"
   ]
  },
  {
   "cell_type": "markdown",
   "id": "140594a9-aa2f-4c8f-a0e0-0129391c9502",
   "metadata": {},
   "source": [
    "### Generate recommendations for all users\n",
    "\n",
    "Required number of recommendations for the users can be generated using the ALS model's *recommendForAllUsers()* method."
   ]
  },
  {
   "cell_type": "code",
   "execution_count": 14,
   "id": "7c9fe22e-9d22-4c5c-bea1-00c3e59a1191",
   "metadata": {},
   "outputs": [
    {
     "name": "stderr",
     "output_type": "stream",
     "text": [
      "[Stage 2093:============================================>           (4 + 1) / 5]\r"
     ]
    },
    {
     "name": "stdout",
     "output_type": "stream",
     "text": [
      "+-------+--------------------+\n",
      "|USER_ID|     recommendations|\n",
      "+-------+--------------------+\n",
      "|      1|[{649, 5.9176435}...|\n",
      "|      6|[{4641, 5.7179666...|\n",
      "|     12|[{17687, 5.396861...|\n",
      "|     13|[{17065, 5.295532...|\n",
      "|     16|[{17065, 5.622257...|\n",
      "|     22|[{17065, 5.273835...|\n",
      "|     26|[{4641, 5.58397},...|\n",
      "|     27|[{19560, 5.433427...|\n",
      "|     28|[{17065, 5.639814...|\n",
      "|     31|[{17065, 5.533632...|\n",
      "+-------+--------------------+\n",
      "\n"
     ]
    },
    {
     "name": "stderr",
     "output_type": "stream",
     "text": [
      "                                                                                \r"
     ]
    }
   ],
   "source": [
    "# Generate 10 product recommendations for all users\n",
    "nrecommendations = best_model.recommendForAllUsers(10)\n",
    "nrecommendations.limit(10).show()"
   ]
  },
  {
   "cell_type": "markdown",
   "id": "b2abfa8e-ffad-4861-a773-14cd4bcc2bc3",
   "metadata": {},
   "source": [
    "### Generate recommendations for a specific user\n",
    "\n",
    "The earlier step already generated and stored the specified number of product recommendations for all users in *nrecommendations* dataframe object. To obtain recommendations for a single user, this dataframe object can be queried simply."
   ]
  },
  {
   "cell_type": "code",
   "execution_count": 15,
   "id": "238f7119-b832-4ed1-a5b2-4e52484a8d11",
   "metadata": {},
   "outputs": [
    {
     "name": "stderr",
     "output_type": "stream",
     "text": [
      "                                                                                \r"
     ]
    },
    {
     "data": {
      "text/plain": [
       "[Row(PRODUCT_ID=[649, 1842, 2803, 23373, 9889, 14588, 10457, 10411, 28524, 6818], rating=[5.9176435470581055, 5.787947177886963, 5.755666732788086, 5.682463645935059, 5.664970397949219, 5.557429313659668, 5.509372234344482, 5.422667026519775, 5.34205436706543, 5.230965614318848])]"
      ]
     },
     "execution_count": 15,
     "metadata": {},
     "output_type": "execute_result"
    }
   ],
   "source": [
    "## get product recommendations for the selected user (USER_ID = 1)\n",
    "nrecommendations.where(nrecommendations.USER_ID == 1).select(\"recommendations.PRODUCT_ID\", \"recommendations.rating\").collect()"
   ]
  },
  {
   "cell_type": "markdown",
   "id": "342d1c87-7a4b-4c17-a2bc-be73bd57a9da",
   "metadata": {},
   "source": [
    "## Save the ALS model to GCS (optional)\n",
    "<a name=\"section-10\"></a>\n",
    "Pyspark's ALS.save() method will create a folder at the specified path where it saves the trained model. With GCS file browser available in the managed-instance environment, this method can directly save the model to a GCS bucket.\n",
    "\n",
    "The following two cells can be executed to create a new bucket in Cloud Storage if not created already. "
   ]
  },
  {
   "cell_type": "code",
   "execution_count": null,
   "id": "569a6f9a-419d-4dcf-bfb6-2fa1629d335d",
   "metadata": {},
   "outputs": [],
   "source": [
    "BUCKET_REGION = \"your-bucket-region\"\n",
    "BUCKET_NAME = \"your-bucket-name"
   ]
  },
  {
   "cell_type": "code",
   "execution_count": null,
   "id": "76a48a68-ffc0-4fbe-a34b-595c353568b3",
   "metadata": {},
   "outputs": [],
   "source": [
    "! gsutil mb -l $REGION $BUCKET_NAME"
   ]
  },
  {
   "cell_type": "markdown",
   "id": "f3468617-d77e-4319-8d97-029d46b37e4a",
   "metadata": {},
   "source": [
    "Use the ALS object's *.save()* function to write the model to the GCS bucket. "
   ]
  },
  {
   "cell_type": "code",
   "execution_count": 16,
   "id": "a383ab7a-104c-4aa5-9ab7-5143863a51ed",
   "metadata": {},
   "outputs": [
    {
     "name": "stderr",
     "output_type": "stream",
     "text": [
      "                                                                                \r"
     ]
    }
   ],
   "source": [
    "## Save the trained model\n",
    "GCS_MODEL_PATH = \"gs://your-bucket-name/recommender_systems/\"\n",
    "best_model.save(GCS_MODEL_PATH+\"rcmd_model\")"
   ]
  },
  {
   "cell_type": "markdown",
   "id": "bd8ed1d9-2bd4-4d80-882c-4d78aae6a12b",
   "metadata": {},
   "source": [
    "## Write the recommendations to Bigquery (optional)\n",
    "<a name=\"section-11\"></a>\n",
    "In order to serve the recommendations to the end-users or any applications, the output from the *recommendForAllUsers()* method can be saved to a Bigquery table using Spark's Bigquery connector.\n",
    "\n",
    "\n",
    "### Create a Dataset in Bigquery\n",
    "The following cell creates a new dataset in Bigquery."
   ]
  },
  {
   "cell_type": "markdown",
   "id": "f361b66d-b418-4b8e-b3a2-3dd623bfaf91",
   "metadata": {},
   "source": [
    "#@bigquery\n",
    "-- create a dataset in Bigquery\n",
    "CREATE SCHEMA recommender_sys\n",
    "OPTIONS(\n",
    "  location=\"us\"\n",
    "  )"
   ]
  },
  {
   "cell_type": "markdown",
   "id": "1067256f-aab1-4f07-9c76-7fac583f8341",
   "metadata": {},
   "source": [
    "### Write the Recommendations to Bigquery\n",
    "\n",
    "PySpark's Bigquery-connector requires two necessary fields i.e., *Bigquery Table name* and a *GCS path to write the temporary files* while saving the model. These two fields can be provided accordingly while writing the recommendations to Bigquery."
   ]
  },
  {
   "cell_type": "code",
   "execution_count": 17,
   "id": "4884b872-1391-4fb3-bff1-24fbae9c963e",
   "metadata": {},
   "outputs": [
    {
     "name": "stderr",
     "output_type": "stream",
     "text": [
      "                                                                                \r"
     ]
    }
   ],
   "source": [
    "DATASET = \"your-dataset-name\"\n",
    "TABLE = \"your-bigquery-table-name\"\n",
    "GCS_TEMP_PATH = \"your-gcs-path\"\n",
    "\n",
    "nrecommendations.write \\\n",
    "  .format(\"bigquery\") \\\n",
    "  .option(\"table\",\"{}.{}\".format(DATASET, TABLE)) \\\n",
    "  .option(\"temporaryGcsBucket\", GCS_TEMP_PATH) \\\n",
    "  .mode('overwrite') \\\n",
    "  .save()"
   ]
  },
  {
   "cell_type": "markdown",
   "id": "0e640eaf-6227-45a6-8c95-553b8da0ffea",
   "metadata": {},
   "source": [
    "## Clean up\n",
    "<a name=\"section-12\"></a>\n",
    "To clean up all Google Cloud resources used in this project, you can [delete the Google Cloud\n",
    "project](https://cloud.google.com/resource-manager/docs/creating-managing-projects#shutting_down_projects) you used for the tutorial.\n",
    "\n",
    "Otherwise, you can delete the individual resources you created in this tutorial:"
   ]
  },
  {
   "cell_type": "code",
   "execution_count": null,
   "id": "7303aa09-b5dd-42d9-9767-0e1509b15782",
   "metadata": {},
   "outputs": [],
   "source": [
    "## remove the Bigquery dataset created for storing the recommendations and all of its tables\n",
    "! bq rm -r -f -d $PROJECT:$DATASET\n",
    "\n",
    "## remove the GCS bucket created and all of its tables\n",
    "gsutil rm -r gs://$BUCKET_NAME"
   ]
  },
  {
   "cell_type": "code",
   "execution_count": null,
   "id": "ea61be66-c0d8-4d9e-b4cf-3bada227f57b",
   "metadata": {},
   "outputs": [],
   "source": [
    "## delete the created Dataproc cluster \n",
    "! gcloud dataproc clusters delete $CLUSTER_NAME --region=$CLUSTER_REGION"
   ]
  }
 ],
 "metadata": {
  "environment": {
   "name": "managed-notebooks.m80",
   "type": "gcloud",
   "uri": "gcr.io/deeplearning-platform-release/managed-notebooks:m80"
  },
  "kernelspec": {
   "display_name": "Python (Local)",
   "language": "python",
   "name": "local-base"
  },
  "language_info": {
   "codemirror_mode": {
    "name": "ipython",
    "version": 3
   },
   "file_extension": ".py",
   "mimetype": "text/x-python",
   "name": "python",
   "nbconvert_exporter": "python",
   "pygments_lexer": "ipython3",
   "version": "3.7.10"
  }
 },
 "nbformat": 4,
 "nbformat_minor": 5
}
