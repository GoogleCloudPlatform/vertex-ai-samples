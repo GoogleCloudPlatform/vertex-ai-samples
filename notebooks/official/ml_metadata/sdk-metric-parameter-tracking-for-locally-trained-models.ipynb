{
 "cells": [
  {
   "cell_type": "code",
   "execution_count": 1,
   "metadata": {
    "id": "ur8xi4C7S06n"
   },
   "outputs": [],
   "source": [
    "# Copyright 2022 Google LLC\n",
    "#\n",
    "# Licensed under the Apache License, Version 2.0 (the \"License\");\n",
    "# you may not use this file except in compliance with the License.\n",
    "# You may obtain a copy of the License at\n",
    "#\n",
    "#     https://www.apache.org/licenses/LICENSE-2.0\n",
    "#\n",
    "# Unless required by applicable law or agreed to in writing, software\n",
    "# distributed under the License is distributed on an \"AS IS\" BASIS,\n",
    "# WITHOUT WARRANTIES OR CONDITIONS OF ANY KIND, either express or implied.\n",
    "# See the License for the specific language governing permissions and\n",
    "# limitations under the License."
   ]
  },
  {
   "cell_type": "markdown",
   "metadata": {
    "id": "JAPoU8Sm5E6e"
   },
   "source": [
    "<table align=\"left\">\n",
    "\n",
    "  <td>\n",
    "    <a href=\"https://colab.research.google.com/github/GoogleCloudPlatform/vertex-ai-samples/blob/master/notebooks/community/ml_metadata/sdk-metric-parameter-tracking-for-locally-trained-models.ipynb\">\n",
    "      <img src=\"https://cloud.google.com/ml-engine/images/colab-logo-32px.png\" alt=\"Colab logo\"> Run in Colab\n",
    "    </a>\n",
    "  </td>\n",
    "  <td>\n",
    "    <a href=\"https://github.com/GoogleCloudPlatform/vertex-ai-samples/blob/master/notebooks/community/ml_metadata/sdk-metric-parameter-tracking-for-locally-trained-models.ipynb\">\n",
    "      <img src=\"https://cloud.google.com/ml-engine/images/github-logo-32px.png\" alt=\"GitHub logo\">\n",
    "      View on GitHub\n",
    "    </a>\n",
    "  </td>\n",
    "  <td>\n",
    "    <a href=\"https://console.cloud.google.com/vertex-ai/workbench/deploy-notebook?download_url=https://github.com/GoogleCloudPlatform/vertex-ai-samples/blob/main/notebooks/notebook_template.ipynb\">\n",
    "      <img src=\"https://lh3.googleusercontent.com/UiNooY4LUgW_oTvpsNhPpQzsstV5W8F7rYgxgGBD85cWJoLmrOzhVs_ksK_vgx40SHs7jCqkTkCk=e14-rj-sc0xffffff-h130-w32\" alt=\"Vertex AI logo\">\n",
    "      Open in Vertex AI Workbench\n",
    "     </a>\n",
    "     </td>\n",
    "</table>"
   ]
  },
  {
   "cell_type": "markdown",
   "metadata": {
    "id": "WBFL9LagqmwT"
   },
   "source": [
    "## Vertex AI: Track parameters and metrics for locally trained models"
   ]
  },
  {
   "cell_type": "markdown",
   "metadata": {
    "id": "tvgnzT1CKxrO"
   },
   "source": [
    "## Overview\n",
    "\n",
    "This notebook demonstrates how to track metrics and parameters for ML training jobs and analyze this metadata using Vertex SDK for Python.\n",
    "\n",
    "### Dataset\n",
    "\n",
    "In this notebook, we will train a simple distributed neural network (DNN) model to predict automobile's miles per gallon (MPG) based on automobile information in the [auto-mpg dataset](https://www.kaggle.com/devanshbesain/exploration-and-analysis-auto-mpg).\n",
    "\n",
    "### Objective\n",
    "\n",
    "In this notebook, you will learn how to use Vertex SDK for Python to:\n",
    "\n",
    "    * Track parameters and metrics for a locally trained model.\n",
    "    * Extract and perform analysis for all parameters and metrics within an Experiment.\n",
    "\n",
    "### Costs \n",
    "\n",
    "\n",
    "This tutorial uses billable components of Google Cloud:\n",
    "\n",
    "* Vertex AI\n",
    "* Cloud Storage\n",
    "\n",
    "\n",
    "Learn about [Vertex AI\n",
    "pricing](https://cloud.google.com/vertex-ai/pricing) and [Cloud Storage\n",
    "pricing](https://cloud.google.com/storage/pricing), and use the [Pricing\n",
    "Calculator](https://cloud.google.com/products/calculator/)\n",
    "to generate a cost estimate based on your projected usage."
   ]
  },
  {
   "cell_type": "markdown",
   "metadata": {
    "id": "ze4-nDLfK4pw"
   },
   "source": [
    "### Set up your local development environment\n",
    "\n",
    "**If you are using Colab or Google Cloud Notebooks**, your environment already meets\n",
    "all the requirements to run this notebook. You can skip this step."
   ]
  },
  {
   "cell_type": "markdown",
   "metadata": {
    "id": "gCuSR8GkAgzl"
   },
   "source": [
    "**Otherwise**, make sure your environment meets this notebook's requirements.\n",
    "You need the following:\n",
    "\n",
    "* The Google Cloud SDK\n",
    "* Git\n",
    "* Python 3\n",
    "* virtualenv\n",
    "* Jupyter notebook running in a virtual environment with Python 3\n",
    "\n",
    "The Google Cloud guide to [Setting up a Python development\n",
    "environment](https://cloud.google.com/python/setup) and the [Jupyter\n",
    "installation guide](https://jupyter.org/install) provide detailed instructions\n",
    "for meeting these requirements. The following steps provide a condensed set of\n",
    "instructions:\n",
    "\n",
    "1. [Install and initialize the Cloud SDK.](https://cloud.google.com/sdk/docs/)\n",
    "\n",
    "1. [Install Python 3.](https://cloud.google.com/python/setup#installing_python)\n",
    "\n",
    "1. [Install\n",
    "   virtualenv](https://cloud.google.com/python/setup#installing_and_using_virtualenv)\n",
    "   and create a virtual environment that uses Python 3. Activate the virtual environment.\n",
    "\n",
    "1. To install Jupyter, run `pip install jupyter` on the\n",
    "command-line in a terminal shell.\n",
    "\n",
    "1. To launch Jupyter, run `jupyter notebook` on the command-line in a terminal shell.\n",
    "\n",
    "1. Open this notebook in the Jupyter Notebook Dashboard."
   ]
  },
  {
   "cell_type": "markdown",
   "metadata": {
    "id": "i7EUnXsZhAGF"
   },
   "source": [
    "### Install additional packages\n",
    "\n",
    "Run the following commands to install the Vertex SDK for Python."
   ]
  },
  {
   "cell_type": "code",
   "execution_count": 2,
   "metadata": {
    "id": "IaYsrh0Tc17L"
   },
   "outputs": [],
   "source": [
    "import sys\n",
    "\n",
    "if \"google.colab\" in sys.modules:\n",
    "    USER_FLAG = \"\"\n",
    "else:\n",
    "    USER_FLAG = \"--user\""
   ]
  },
  {
   "cell_type": "code",
   "execution_count": 12,
   "metadata": {
    "id": "wyy5Lbnzg5fi"
   },
   "outputs": [
    {
     "name": "stdout",
     "output_type": "stream",
     "text": [
      "Requirement already satisfied: tensorflow==2.8 in /usr/local/lib/python3.9/site-packages (2.8.0)\n",
      "Requirement already satisfied: libclang>=9.0.1 in /usr/local/lib/python3.9/site-packages (from tensorflow==2.8) (13.0.0)\n",
      "Requirement already satisfied: typing-extensions>=3.6.6 in /usr/local/lib/python3.9/site-packages (from tensorflow==2.8) (4.1.1)\n",
      "Requirement already satisfied: flatbuffers>=1.12 in /usr/local/lib/python3.9/site-packages (from tensorflow==2.8) (2.0)\n",
      "Requirement already satisfied: tensorflow-io-gcs-filesystem>=0.23.1 in /usr/local/lib/python3.9/site-packages (from tensorflow==2.8) (0.24.0)\n",
      "Requirement already satisfied: keras<2.9,>=2.8.0rc0 in /usr/local/lib/python3.9/site-packages (from tensorflow==2.8) (2.8.0)\n",
      "Requirement already satisfied: termcolor>=1.1.0 in /usr/local/lib/python3.9/site-packages (from tensorflow==2.8) (1.1.0)\n",
      "Requirement already satisfied: wrapt>=1.11.0 in /usr/local/lib/python3.9/site-packages (from tensorflow==2.8) (1.14.0)\n",
      "Requirement already satisfied: google-pasta>=0.1.1 in /usr/local/lib/python3.9/site-packages (from tensorflow==2.8) (0.2.0)\n",
      "Requirement already satisfied: opt-einsum>=2.3.2 in /usr/local/lib/python3.9/site-packages (from tensorflow==2.8) (3.3.0)\n",
      "Requirement already satisfied: tensorboard<2.9,>=2.8 in /usr/local/lib/python3.9/site-packages (from tensorflow==2.8) (2.8.0)\n",
      "Requirement already satisfied: astunparse>=1.6.0 in /usr/local/lib/python3.9/site-packages (from tensorflow==2.8) (1.6.3)\n",
      "Requirement already satisfied: numpy>=1.20 in /usr/local/lib/python3.9/site-packages (from tensorflow==2.8) (1.22.3)\n",
      "Requirement already satisfied: h5py>=2.9.0 in /usr/local/lib/python3.9/site-packages (from tensorflow==2.8) (3.6.0)\n",
      "Requirement already satisfied: absl-py>=0.4.0 in /usr/local/lib/python3.9/site-packages (from tensorflow==2.8) (1.0.0)\n",
      "Requirement already satisfied: six>=1.12.0 in /usr/local/lib/python3.9/site-packages (from tensorflow==2.8) (1.15.0)\n",
      "Requirement already satisfied: protobuf>=3.9.2 in /usr/local/lib/python3.9/site-packages (from tensorflow==2.8) (3.20.0rc2)\n",
      "Requirement already satisfied: gast>=0.2.1 in /usr/local/lib/python3.9/site-packages (from tensorflow==2.8) (0.5.3)\n",
      "Requirement already satisfied: keras-preprocessing>=1.1.1 in /usr/local/lib/python3.9/site-packages (from tensorflow==2.8) (1.1.2)\n",
      "Requirement already satisfied: tf-estimator-nightly==2.8.0.dev2021122109 in /usr/local/lib/python3.9/site-packages (from tensorflow==2.8) (2.8.0.dev2021122109)\n",
      "Requirement already satisfied: setuptools in /usr/local/lib/python3.9/site-packages (from tensorflow==2.8) (54.2.0)\n",
      "Requirement already satisfied: grpcio<2.0,>=1.24.3 in /usr/local/lib/python3.9/site-packages (from tensorflow==2.8) (1.44.0)\n",
      "Requirement already satisfied: wheel<1.0,>=0.23.0 in /usr/local/lib/python3.9/site-packages (from astunparse>=1.6.0->tensorflow==2.8) (0.36.2)\n",
      "Requirement already satisfied: tensorboard-data-server<0.7.0,>=0.6.0 in /usr/local/lib/python3.9/site-packages (from tensorboard<2.9,>=2.8->tensorflow==2.8) (0.6.1)\n",
      "Requirement already satisfied: google-auth<3,>=1.6.3 in /usr/local/lib/python3.9/site-packages (from tensorboard<2.9,>=2.8->tensorflow==2.8) (2.6.2)\n",
      "Requirement already satisfied: markdown>=2.6.8 in /usr/local/lib/python3.9/site-packages (from tensorboard<2.9,>=2.8->tensorflow==2.8) (3.3.6)\n",
      "Requirement already satisfied: werkzeug>=0.11.15 in /usr/local/lib/python3.9/site-packages (from tensorboard<2.9,>=2.8->tensorflow==2.8) (2.1.1)\n",
      "Requirement already satisfied: tensorboard-plugin-wit>=1.6.0 in /usr/local/lib/python3.9/site-packages (from tensorboard<2.9,>=2.8->tensorflow==2.8) (1.8.1)\n",
      "Requirement already satisfied: google-auth-oauthlib<0.5,>=0.4.1 in /usr/local/lib/python3.9/site-packages (from tensorboard<2.9,>=2.8->tensorflow==2.8) (0.4.6)\n",
      "Requirement already satisfied: requests<3,>=2.21.0 in /usr/local/lib/python3.9/site-packages (from tensorboard<2.9,>=2.8->tensorflow==2.8) (2.27.1)\n",
      "Requirement already satisfied: pyasn1-modules>=0.2.1 in /usr/local/lib/python3.9/site-packages (from google-auth<3,>=1.6.3->tensorboard<2.9,>=2.8->tensorflow==2.8) (0.2.8)\n",
      "Requirement already satisfied: cachetools<6.0,>=2.0.0 in /usr/local/lib/python3.9/site-packages (from google-auth<3,>=1.6.3->tensorboard<2.9,>=2.8->tensorflow==2.8) (5.0.0)\n",
      "Requirement already satisfied: rsa<5,>=3.1.4 in /usr/local/lib/python3.9/site-packages (from google-auth<3,>=1.6.3->tensorboard<2.9,>=2.8->tensorflow==2.8) (4.8)\n",
      "Requirement already satisfied: requests-oauthlib>=0.7.0 in /usr/local/lib/python3.9/site-packages (from google-auth-oauthlib<0.5,>=0.4.1->tensorboard<2.9,>=2.8->tensorflow==2.8) (1.3.1)\n",
      "Requirement already satisfied: importlib-metadata>=4.4 in /usr/local/lib/python3.9/site-packages (from markdown>=2.6.8->tensorboard<2.9,>=2.8->tensorflow==2.8) (4.11.3)\n",
      "Requirement already satisfied: zipp>=0.5 in /usr/local/lib/python3.9/site-packages (from importlib-metadata>=4.4->markdown>=2.6.8->tensorboard<2.9,>=2.8->tensorflow==2.8) (3.8.0)\n",
      "Requirement already satisfied: pyasn1<0.5.0,>=0.4.6 in /usr/local/lib/python3.9/site-packages (from pyasn1-modules>=0.2.1->google-auth<3,>=1.6.3->tensorboard<2.9,>=2.8->tensorflow==2.8) (0.4.8)\n",
      "Requirement already satisfied: urllib3<1.27,>=1.21.1 in /usr/local/lib/python3.9/site-packages (from requests<3,>=2.21.0->tensorboard<2.9,>=2.8->tensorflow==2.8) (1.26.9)\n",
      "Requirement already satisfied: charset-normalizer~=2.0.0 in /usr/local/lib/python3.9/site-packages (from requests<3,>=2.21.0->tensorboard<2.9,>=2.8->tensorflow==2.8) (2.0.12)\n",
      "Requirement already satisfied: certifi>=2017.4.17 in /usr/local/lib/python3.9/site-packages (from requests<3,>=2.21.0->tensorboard<2.9,>=2.8->tensorflow==2.8) (2021.10.8)\n",
      "Requirement already satisfied: idna<4,>=2.5 in /usr/local/lib/python3.9/site-packages (from requests<3,>=2.21.0->tensorboard<2.9,>=2.8->tensorflow==2.8) (3.3)\n",
      "Requirement already satisfied: oauthlib>=3.0.0 in /usr/local/lib/python3.9/site-packages (from requests-oauthlib>=0.7.0->google-auth-oauthlib<0.5,>=0.4.1->tensorboard<2.9,>=2.8->tensorflow==2.8) (3.2.0)\n",
      "\u001b[33mWARNING: You are using pip version 21.0.1; however, version 22.0.4 is available.\n",
      "You should consider upgrading via the '/usr/local/bin/python3 -m pip install --upgrade pip' command.\u001b[0m\n",
      "Requirement already satisfied: google-cloud-aiplatform in /root/.local/lib/python3.9/site-packages (1.12.0)\n",
      "Requirement already satisfied: packaging>=14.3 in /usr/local/lib/python3.9/site-packages (from google-cloud-aiplatform) (21.3)\n",
      "Requirement already satisfied: google-cloud-storage<3.0.0dev,>=1.32.0 in /usr/local/lib/python3.9/site-packages (from google-cloud-aiplatform) (2.2.1)\n",
      "Requirement already satisfied: google-api-core[grpc]!=2.0.*,!=2.1.*,!=2.2.*,!=2.3.0,<3.0.0dev,>=1.31.5 in /usr/local/lib/python3.9/site-packages (from google-cloud-aiplatform) (2.7.1)\n",
      "Requirement already satisfied: proto-plus>=1.15.0 in /usr/local/lib/python3.9/site-packages (from google-cloud-aiplatform) (1.20.3)\n",
      "Requirement already satisfied: google-cloud-bigquery<3.0.0dev,>=1.15.0 in /usr/local/lib/python3.9/site-packages (from google-cloud-aiplatform) (2.34.2)\n",
      "Requirement already satisfied: google-cloud-resource-manager<3.0.0dev,>=1.3.3 in /root/.local/lib/python3.9/site-packages (from google-cloud-aiplatform) (1.4.1)\n",
      "Requirement already satisfied: requests<3.0.0dev,>=2.18.0 in /usr/local/lib/python3.9/site-packages (from google-api-core[grpc]!=2.0.*,!=2.1.*,!=2.2.*,!=2.3.0,<3.0.0dev,>=1.31.5->google-cloud-aiplatform) (2.27.1)\n",
      "Requirement already satisfied: protobuf>=3.12.0 in /usr/local/lib/python3.9/site-packages (from google-api-core[grpc]!=2.0.*,!=2.1.*,!=2.2.*,!=2.3.0,<3.0.0dev,>=1.31.5->google-cloud-aiplatform) (3.20.0rc2)\n",
      "Requirement already satisfied: google-auth<3.0dev,>=1.25.0 in /usr/local/lib/python3.9/site-packages (from google-api-core[grpc]!=2.0.*,!=2.1.*,!=2.2.*,!=2.3.0,<3.0.0dev,>=1.31.5->google-cloud-aiplatform) (2.6.2)\n",
      "Requirement already satisfied: googleapis-common-protos<2.0dev,>=1.52.0 in /usr/local/lib/python3.9/site-packages (from google-api-core[grpc]!=2.0.*,!=2.1.*,!=2.2.*,!=2.3.0,<3.0.0dev,>=1.31.5->google-cloud-aiplatform) (1.56.0)\n",
      "Requirement already satisfied: grpcio-status<2.0dev,>=1.33.2 in /usr/local/lib/python3.9/site-packages (from google-api-core[grpc]!=2.0.*,!=2.1.*,!=2.2.*,!=2.3.0,<3.0.0dev,>=1.31.5->google-cloud-aiplatform) (1.44.0)\n",
      "Requirement already satisfied: grpcio<2.0dev,>=1.33.2 in /usr/local/lib/python3.9/site-packages (from google-api-core[grpc]!=2.0.*,!=2.1.*,!=2.2.*,!=2.3.0,<3.0.0dev,>=1.31.5->google-cloud-aiplatform) (1.44.0)\n",
      "Requirement already satisfied: pyasn1-modules>=0.2.1 in /usr/local/lib/python3.9/site-packages (from google-auth<3.0dev,>=1.25.0->google-api-core[grpc]!=2.0.*,!=2.1.*,!=2.2.*,!=2.3.0,<3.0.0dev,>=1.31.5->google-cloud-aiplatform) (0.2.8)\n",
      "Requirement already satisfied: cachetools<6.0,>=2.0.0 in /usr/local/lib/python3.9/site-packages (from google-auth<3.0dev,>=1.25.0->google-api-core[grpc]!=2.0.*,!=2.1.*,!=2.2.*,!=2.3.0,<3.0.0dev,>=1.31.5->google-cloud-aiplatform) (5.0.0)\n",
      "Requirement already satisfied: six>=1.9.0 in /usr/local/lib/python3.9/site-packages (from google-auth<3.0dev,>=1.25.0->google-api-core[grpc]!=2.0.*,!=2.1.*,!=2.2.*,!=2.3.0,<3.0.0dev,>=1.31.5->google-cloud-aiplatform) (1.15.0)\n",
      "Requirement already satisfied: rsa<5,>=3.1.4 in /usr/local/lib/python3.9/site-packages (from google-auth<3.0dev,>=1.25.0->google-api-core[grpc]!=2.0.*,!=2.1.*,!=2.2.*,!=2.3.0,<3.0.0dev,>=1.31.5->google-cloud-aiplatform) (4.8)\n",
      "Requirement already satisfied: google-cloud-core<3.0.0dev,>=1.4.1 in /usr/local/lib/python3.9/site-packages (from google-cloud-bigquery<3.0.0dev,>=1.15.0->google-cloud-aiplatform) (2.2.3)\n",
      "Requirement already satisfied: python-dateutil<3.0dev,>=2.7.2 in /usr/local/lib/python3.9/site-packages (from google-cloud-bigquery<3.0.0dev,>=1.15.0->google-cloud-aiplatform) (2.8.2)\n",
      "Requirement already satisfied: google-resumable-media<3.0dev,>=0.6.0 in /usr/local/lib/python3.9/site-packages (from google-cloud-bigquery<3.0.0dev,>=1.15.0->google-cloud-aiplatform) (2.3.2)\n",
      "Requirement already satisfied: grpc-google-iam-v1<0.13dev,>=0.12.3 in /root/.local/lib/python3.9/site-packages (from google-cloud-resource-manager<3.0.0dev,>=1.3.3->google-cloud-aiplatform) (0.12.4)\n",
      "Requirement already satisfied: google-crc32c<2.0dev,>=1.0 in /usr/local/lib/python3.9/site-packages (from google-resumable-media<3.0dev,>=0.6.0->google-cloud-bigquery<3.0.0dev,>=1.15.0->google-cloud-aiplatform) (1.3.0)\n",
      "Requirement already satisfied: pyparsing!=3.0.5,>=2.0.2 in /usr/local/lib/python3.9/site-packages (from packaging>=14.3->google-cloud-aiplatform) (3.0.7)\n",
      "Requirement already satisfied: pyasn1<0.5.0,>=0.4.6 in /usr/local/lib/python3.9/site-packages (from pyasn1-modules>=0.2.1->google-auth<3.0dev,>=1.25.0->google-api-core[grpc]!=2.0.*,!=2.1.*,!=2.2.*,!=2.3.0,<3.0.0dev,>=1.31.5->google-cloud-aiplatform) (0.4.8)\n",
      "Requirement already satisfied: urllib3<1.27,>=1.21.1 in /usr/local/lib/python3.9/site-packages (from requests<3.0.0dev,>=2.18.0->google-api-core[grpc]!=2.0.*,!=2.1.*,!=2.2.*,!=2.3.0,<3.0.0dev,>=1.31.5->google-cloud-aiplatform) (1.26.9)\n",
      "Requirement already satisfied: certifi>=2017.4.17 in /usr/local/lib/python3.9/site-packages (from requests<3.0.0dev,>=2.18.0->google-api-core[grpc]!=2.0.*,!=2.1.*,!=2.2.*,!=2.3.0,<3.0.0dev,>=1.31.5->google-cloud-aiplatform) (2021.10.8)\n",
      "Requirement already satisfied: idna<4,>=2.5 in /usr/local/lib/python3.9/site-packages (from requests<3.0.0dev,>=2.18.0->google-api-core[grpc]!=2.0.*,!=2.1.*,!=2.2.*,!=2.3.0,<3.0.0dev,>=1.31.5->google-cloud-aiplatform) (3.3)\n",
      "Requirement already satisfied: charset-normalizer~=2.0.0 in /usr/local/lib/python3.9/site-packages (from requests<3.0.0dev,>=2.18.0->google-api-core[grpc]!=2.0.*,!=2.1.*,!=2.2.*,!=2.3.0,<3.0.0dev,>=1.31.5->google-cloud-aiplatform) (2.0.12)\n",
      "\u001b[33mWARNING: You are using pip version 21.0.1; however, version 22.0.4 is available.\n",
      "You should consider upgrading via the '/usr/local/bin/python3 -m pip install --upgrade pip' command.\u001b[0m\n"
     ]
    }
   ],
   "source": [
    "! pip3 install -U tensorflow==2.8 $USER_FLAG\n",
    "! pip3 install --upgrade google-cloud-aiplatform $USER_FLAG"
   ]
  },
  {
   "cell_type": "markdown",
   "metadata": {
    "id": "hhq5zEbGg0XX"
   },
   "source": [
    "### Restart the kernel\n",
    "\n",
    "After you install the additional packages, you need to restart the notebook kernel so it can find the packages."
   ]
  },
  {
   "cell_type": "code",
   "execution_count": 13,
   "metadata": {
    "id": "EzrelQZ22IZj"
   },
   "outputs": [],
   "source": [
    "# Automatically restart kernel after installs\n",
    "import os\n",
    "\n",
    "if not os.getenv(\"IS_TESTING\"):\n",
    "    # Automatically restart kernel after installs\n",
    "    import IPython\n",
    "\n",
    "    app = IPython.Application.instance()\n",
    "    app.kernel.do_shutdown(True)"
   ]
  },
  {
   "cell_type": "markdown",
   "metadata": {
    "id": "lWEdiXsJg0XY"
   },
   "source": [
    "## Before you begin\n",
    "\n",
    "### Select a GPU runtime\n",
    "\n",
    "**Make sure you're running this notebook in a GPU runtime if you have that option. In Colab, select \"Runtime --> Change runtime type > GPU\"**"
   ]
  },
  {
   "cell_type": "markdown",
   "metadata": {
    "id": "BF1j6f9HApxa"
   },
   "source": [
    "### Set up your Google Cloud project\n",
    "\n",
    "**The following steps are required, regardless of your notebook environment.**\n",
    "\n",
    "1. [Select or create a Google Cloud project](https://console.cloud.google.com/cloud-resource-manager). When you first create an account, you get a $300 free credit towards your compute/storage costs.\n",
    "\n",
    "1. [Make sure that billing is enabled for your project](https://cloud.google.com/billing/docs/how-to/modify-project).\n",
    "\n",
    "1. [Enable the Vertex AI API](https://console.cloud.google.com/flows/enableapi?apiid=aiplatform.googleapis.com).\n",
    "\n",
    "1. If you are running this notebook locally, you will need to install the [Cloud SDK](https://cloud.google.com/sdk).\n",
    "\n",
    "1. Enter your project ID in the cell below. Then run the cell to make sure the\n",
    "Cloud SDK uses the right project for all the commands in this notebook.\n",
    "\n",
    "**Note**: Jupyter runs lines prefixed with `!` as shell commands, and it interpolates Python variables prefixed with `$` into these commands."
   ]
  },
  {
   "cell_type": "markdown",
   "metadata": {
    "id": "WReHDGG5g0XY"
   },
   "source": [
    "#### Set your project ID\n",
    "\n",
    "**If you don't know your project ID**, you may be able to get your project ID using `gcloud`."
   ]
  },
  {
   "cell_type": "code",
   "execution_count": 1,
   "metadata": {
    "id": "oM1iC_MfAts1"
   },
   "outputs": [
    {
     "name": "stdout",
     "output_type": "stream",
     "text": [
      "Project ID:  vertex-ai-dev\n"
     ]
    }
   ],
   "source": [
    "import os\n",
    "\n",
    "PROJECT_ID = \"\"\n",
    "\n",
    "# Get your Google Cloud project ID from gcloud\n",
    "if not os.getenv(\"IS_TESTING\"):\n",
    "    shell_output=!gcloud config list --format 'value(core.project)' 2>/dev/null\n",
    "    PROJECT_ID = shell_output[0]\n",
    "    print(\"Project ID: \", PROJECT_ID)"
   ]
  },
  {
   "cell_type": "markdown",
   "metadata": {
    "id": "qJYoRfYng0XZ"
   },
   "source": [
    "Otherwise, set your project ID here."
   ]
  },
  {
   "cell_type": "code",
   "execution_count": 2,
   "metadata": {
    "id": "riG_qUokg0XZ"
   },
   "outputs": [],
   "source": [
    "if PROJECT_ID == \"\" or PROJECT_ID is None:\n",
    "    PROJECT_ID = \"[your-project-id]\"  # @param {type:\"string\"}"
   ]
  },
  {
   "cell_type": "markdown",
   "metadata": {
    "id": "06571eb4063b"
   },
   "source": [
    "#### Timestamp\n",
    "\n",
    "If you are in a live tutorial session, you might be using a shared test account or project. To avoid name collisions between users on resources created, you create a timestamp for each instance session, and append it onto the name of resources you create in this tutorial."
   ]
  },
  {
   "cell_type": "code",
   "execution_count": 3,
   "metadata": {
    "id": "697568e92bd6"
   },
   "outputs": [],
   "source": [
    "from datetime import datetime\n",
    "\n",
    "TIMESTAMP = datetime.now().strftime(\"%Y%m%d%H%M%S\")"
   ]
  },
  {
   "cell_type": "markdown",
   "metadata": {
    "id": "dr--iN2kAylZ"
   },
   "source": [
    "### Authenticate your Google Cloud account\n",
    "\n",
    "**If you are using Google Cloud Notebooks**, your environment is already\n",
    "authenticated. Skip this step."
   ]
  },
  {
   "cell_type": "markdown",
   "metadata": {
    "id": "sBCra4QMA2wR"
   },
   "source": [
    "**If you are using Colab**, run the cell below and follow the instructions\n",
    "when prompted to authenticate your account via oAuth.\n",
    "\n",
    "**Otherwise**, follow these steps:\n",
    "\n",
    "1. In the Cloud Console, go to the [**Create service account key**\n",
    "   page](https://console.cloud.google.com/apis/credentials/serviceaccountkey).\n",
    "\n",
    "2. Click **Create service account**.\n",
    "\n",
    "3. In the **Service account name** field, enter a name, and\n",
    "   click **Create**.\n",
    "\n",
    "4. In the **Grant this service account access to project** section, click the **Role** drop-down list. Type \"Vertex AI\"\n",
    "into the filter box, and select\n",
    "   **Vertex AI Administrator**. Type \"Storage Object Admin\" into the filter box, and select **Storage Object Admin**.\n",
    "\n",
    "5. Click *Create*. A JSON file that contains your key downloads to your\n",
    "local environment.\n",
    "\n",
    "6. Enter the path to your service account key as the\n",
    "`GOOGLE_APPLICATION_CREDENTIALS` variable in the cell below and run the cell."
   ]
  },
  {
   "cell_type": "code",
   "execution_count": null,
   "metadata": {
    "id": "PyQmSRbKA8r-",
    "tags": []
   },
   "outputs": [],
   "source": [
    "import os\n",
    "import sys\n",
    "\n",
    "# If you are running this notebook in Colab, run this cell and follow the\n",
    "# instructions to authenticate your GCP account. This provides access to your\n",
    "# Cloud Storage bucket and lets you submit training jobs and prediction\n",
    "# requests.\n",
    "\n",
    "# If on Google Cloud Notebooks, then don't execute this code\n",
    "if not os.path.exists(\"/opt/deeplearning/metadata/env_version\"):\n",
    "    if \"google.colab\" in sys.modules:\n",
    "        from google.colab import auth as google_auth\n",
    "\n",
    "        google_auth.authenticate_user()\n",
    "\n",
    "    # If you are running this notebook locally, replace the string below with the\n",
    "    # path to your service account key and run this cell to authenticate your GCP\n",
    "    # account.\n",
    "    elif not os.getenv(\"IS_TESTING\"):\n",
    "        %env GOOGLE_APPLICATION_CREDENTIALS ''"
   ]
  },
  {
   "cell_type": "markdown",
   "metadata": {
    "id": "XoEqT2Y4DJmf"
   },
   "source": [
    "### Import libraries and define constants"
   ]
  },
  {
   "cell_type": "markdown",
   "metadata": {
    "id": "Y9Uo3tifg1kx"
   },
   "source": [
    "Import required libraries."
   ]
  },
  {
   "cell_type": "code",
   "execution_count": 4,
   "metadata": {
    "id": "pRUOFELefqf1"
   },
   "outputs": [
    {
     "name": "stderr",
     "output_type": "stream",
     "text": [
      "2022-04-13 07:08:42.976715: W tensorflow/stream_executor/platform/default/dso_loader.cc:64] Could not load dynamic library 'libcudart.so.11.0'; dlerror: libcudart.so.11.0: cannot open shared object file: No such file or directory\n",
      "2022-04-13 07:08:42.976765: I tensorflow/stream_executor/cuda/cudart_stub.cc:29] Ignore above cudart dlerror if you do not have a GPU set up on your machine.\n"
     ]
    }
   ],
   "source": [
    "import matplotlib.pyplot as plt\n",
    "import pandas as pd\n",
    "from google.cloud import aiplatform\n",
    "from tensorflow.python.keras import Sequential, layers\n",
    "from tensorflow.python.keras.utils import data_utils"
   ]
  },
  {
   "cell_type": "markdown",
   "metadata": {
    "id": "xtXZWmYqJ1bh"
   },
   "source": [
    "Define some constants"
   ]
  },
  {
   "cell_type": "code",
   "execution_count": 12,
   "metadata": {
    "id": "JIOrI-hoJ46P"
   },
   "outputs": [],
   "source": [
    "EXPERIMENT_NAME = \"\"  # @param {type:\"string\"}\n",
    "REGION = \"us-central1\"  # @param {type:\"string\"}"
   ]
  },
  {
   "cell_type": "markdown",
   "metadata": {
    "id": "jWQLXXNVN4Lv"
   },
   "source": [
    "If EXEPERIMENT_NAME is not set, set a default one below:"
   ]
  },
  {
   "cell_type": "code",
   "execution_count": 13,
   "metadata": {
    "id": "Q1QInYWOKsmo"
   },
   "outputs": [],
   "source": [
    "if EXPERIMENT_NAME == \"\" or EXPERIMENT_NAME is None:\n",
    "    EXPERIMENT_NAME = \"my-experiment-\" + TIMESTAMP"
   ]
  },
  {
   "cell_type": "markdown",
   "metadata": {
    "id": "Xuny18aMcWDb"
   },
   "source": [
    "## Concepts\n",
    "\n",
    "To better understanding how parameters and metrics are stored and organized, we'd like to introduce the following concepts:\n"
   ]
  },
  {
   "cell_type": "markdown",
   "metadata": {
    "id": "NThDci5bp0Uw"
   },
   "source": [
    "### Experiment\n",
    "Experiments describe a context that groups your runs and the artifacts you create into a logical session. For example, in this notebook you create an Experiment and log data to that experiment."
   ]
  },
  {
   "cell_type": "markdown",
   "metadata": {
    "id": "SAyRR3Ydp4X5"
   },
   "source": [
    "### Run\n",
    "A run represents a single path/avenue that you executed while performing an experiment. A run includes artifacts that you used as inputs or outputs, and parameters that you used in this execution. An Experiment can contain multiple runs. "
   ]
  },
  {
   "cell_type": "markdown",
   "metadata": {
    "id": "l1YW2pgyegFP"
   },
   "source": [
    "## Getting started tracking parameters and metrics\n",
    "\n",
    "You can use the Vertex SDK for Python to track metrics and parameters for models trained locally. \n",
    "\n",
    "In the following example, you train a simple distributed neural network (DNN) model to predict automobile's miles per gallon (MPG) based on automobile information in the [auto-mpg dataset](https://www.kaggle.com/devanshbesain/exploration-and-analysis-auto-mpg)."
   ]
  },
  {
   "cell_type": "markdown",
   "metadata": {
    "id": "KPY41M9_AhZU"
   },
   "source": [
    "### Load and process the training dataset"
   ]
  },
  {
   "cell_type": "markdown",
   "metadata": {
    "id": "bfMQSmRuUuX-"
   },
   "source": [
    "Download and process the dataset."
   ]
  },
  {
   "cell_type": "code",
   "execution_count": 7,
   "metadata": {
    "id": "RiQuMv4bmpuV"
   },
   "outputs": [
    {
     "name": "stdout",
     "output_type": "stream",
     "text": [
      "Downloading data from http://archive.ics.uci.edu/ml/machine-learning-databases/auto-mpg/auto-mpg.data\n",
      "32768/30286 [================================] - 0s 1us/step\n"
     ]
    },
    {
     "name": "stderr",
     "output_type": "stream",
     "text": [
      "/tmp/ipykernel_136/949894292.py:22: SettingWithCopyWarning: \n",
      "A value is trying to be set on a copy of a slice from a DataFrame.\n",
      "Try using .loc[row_indexer,col_indexer] = value instead\n",
      "\n",
      "See the caveats in the documentation: https://pandas.pydata.org/pandas-docs/stable/user_guide/indexing.html#returning-a-view-versus-a-copy\n",
      "  dataset[\"Origin\"] = dataset[\"Origin\"].map(\n"
     ]
    }
   ],
   "source": [
    "def read_data(uri):\n",
    "    dataset_path = data_utils.get_file(\"auto-mpg.data\", uri)\n",
    "    column_names = [\n",
    "        \"MPG\",\n",
    "        \"Cylinders\",\n",
    "        \"Displacement\",\n",
    "        \"Horsepower\",\n",
    "        \"Weight\",\n",
    "        \"Acceleration\",\n",
    "        \"Model Year\",\n",
    "        \"Origin\",\n",
    "    ]\n",
    "    raw_dataset = pd.read_csv(\n",
    "        dataset_path,\n",
    "        names=column_names,\n",
    "        na_values=\"?\",\n",
    "        comment=\"\\t\",\n",
    "        sep=\" \",\n",
    "        skipinitialspace=True,\n",
    "    )\n",
    "    dataset = raw_dataset.dropna()\n",
    "    dataset[\"Origin\"] = dataset[\"Origin\"].map(\n",
    "        lambda x: {1: \"USA\", 2: \"Europe\", 3: \"Japan\"}.get(x)\n",
    "    )\n",
    "    dataset = pd.get_dummies(dataset, prefix=\"\", prefix_sep=\"\")\n",
    "    return dataset\n",
    "\n",
    "\n",
    "dataset = read_data(\n",
    "    \"http://archive.ics.uci.edu/ml/machine-learning-databases/auto-mpg/auto-mpg.data\"\n",
    ")"
   ]
  },
  {
   "cell_type": "markdown",
   "metadata": {
    "id": "Y06J7A7yU21t"
   },
   "source": [
    "Split dataset for training and testing."
   ]
  },
  {
   "cell_type": "code",
   "execution_count": 8,
   "metadata": {
    "id": "p5JBCBKyH-NC"
   },
   "outputs": [],
   "source": [
    "def train_test_split(dataset, split_frac=0.8, random_state=0):\n",
    "    train_dataset = dataset.sample(frac=split_frac, random_state=random_state)\n",
    "    test_dataset = dataset.drop(train_dataset.index)\n",
    "    train_labels = train_dataset.pop(\"MPG\")\n",
    "    test_labels = test_dataset.pop(\"MPG\")\n",
    "\n",
    "    return train_dataset, test_dataset, train_labels, test_labels\n",
    "\n",
    "\n",
    "train_dataset, test_dataset, train_labels, test_labels = train_test_split(dataset)"
   ]
  },
  {
   "cell_type": "markdown",
   "metadata": {
    "id": "gaNNTFPaU7KT"
   },
   "source": [
    "Normalize the features in the dataset for better model performance."
   ]
  },
  {
   "cell_type": "code",
   "execution_count": 9,
   "metadata": {
    "id": "VGq5QCoyIEWJ"
   },
   "outputs": [],
   "source": [
    "def normalize_dataset(train_dataset, test_dataset):\n",
    "    train_stats = train_dataset.describe()\n",
    "    train_stats = train_stats.transpose()\n",
    "\n",
    "    def norm(x):\n",
    "        return (x - train_stats[\"mean\"]) / train_stats[\"std\"]\n",
    "\n",
    "    normed_train_data = norm(train_dataset)\n",
    "    normed_test_data = norm(test_dataset)\n",
    "\n",
    "    return normed_train_data, normed_test_data\n",
    "\n",
    "\n",
    "normed_train_data, normed_test_data = normalize_dataset(train_dataset, test_dataset)"
   ]
  },
  {
   "cell_type": "markdown",
   "metadata": {
    "id": "UBXUgxgqA_GB"
   },
   "source": [
    "### Define ML model and training function"
   ]
  },
  {
   "cell_type": "code",
   "execution_count": 10,
   "metadata": {
    "id": "66odBYKrIN4q"
   },
   "outputs": [],
   "source": [
    "def train(\n",
    "    train_data,\n",
    "    train_labels,\n",
    "    num_units=64,\n",
    "    activation=\"relu\",\n",
    "    dropout_rate=0.0,\n",
    "    validation_split=0.2,\n",
    "    epochs=1000,\n",
    "):\n",
    "\n",
    "    model = Sequential(\n",
    "        [\n",
    "            layers.Dense(\n",
    "                num_units,\n",
    "                activation=activation,\n",
    "                input_shape=[len(train_dataset.keys())],\n",
    "            ),\n",
    "            layers.Dropout(rate=dropout_rate),\n",
    "            layers.Dense(num_units, activation=activation),\n",
    "            layers.Dense(1),\n",
    "        ]\n",
    "    )\n",
    "\n",
    "    model.compile(loss=\"mse\", optimizer=\"adam\", metrics=[\"mae\", \"mse\"])\n",
    "    print(model.summary())\n",
    "\n",
    "    history = model.fit(\n",
    "        train_data, train_labels, epochs=epochs, validation_split=validation_split\n",
    "    )\n",
    "\n",
    "    return model, history"
   ]
  },
  {
   "cell_type": "markdown",
   "metadata": {
    "id": "O8XJZB3gR8eL"
   },
   "source": [
    "### Initialize the Vertex AI SDK for Python and create an Experiment\n",
    "\n",
    "Initialize the *client* for Vertex AI and create an experiment."
   ]
  },
  {
   "cell_type": "code",
   "execution_count": 14,
   "metadata": {
    "id": "o_wnT10RJ7-W"
   },
   "outputs": [],
   "source": [
    "aiplatform.init(project=PROJECT_ID, location=REGION, experiment=EXPERIMENT_NAME)"
   ]
  },
  {
   "cell_type": "markdown",
   "metadata": {
    "id": "u-iTnzt3B6Z_"
   },
   "source": [
    "### Start several model training runs\n",
    "\n",
    "Training parameters and metrics are logged for each run."
   ]
  },
  {
   "cell_type": "code",
   "execution_count": 15,
   "metadata": {
    "id": "i2wnpu8_7JfV"
   },
   "outputs": [
    {
     "name": "stderr",
     "output_type": "stream",
     "text": [
      "2022-04-13 07:18:49.878268: W tensorflow/stream_executor/platform/default/dso_loader.cc:64] Could not load dynamic library 'libcuda.so.1'; dlerror: libcuda.so.1: cannot open shared object file: No such file or directory\n",
      "2022-04-13 07:18:49.878317: W tensorflow/stream_executor/cuda/cuda_driver.cc:269] failed call to cuInit: UNKNOWN ERROR (303)\n",
      "2022-04-13 07:18:49.878358: I tensorflow/stream_executor/cuda/cuda_diagnostics.cc:156] kernel driver does not appear to be running on this host (953d79e969f2): /proc/driver/nvidia/version does not exist\n",
      "2022-04-13 07:18:49.878673: I tensorflow/core/platform/cpu_feature_guard.cc:151] This TensorFlow binary is optimized with oneAPI Deep Neural Network Library (oneDNN) to use the following CPU instructions in performance-critical operations:  AVX2 FMA\n",
      "To enable them in other operations, rebuild TensorFlow with the appropriate compiler flags.\n"
     ]
    },
    {
     "name": "stdout",
     "output_type": "stream",
     "text": [
      "Model: \"sequential\"\n",
      "_________________________________________________________________\n",
      "Layer (type)                 Output Shape              Param #   \n",
      "=================================================================\n",
      "dense (Dense)                (None, 16)                160       \n",
      "_________________________________________________________________\n",
      "dropout (Dropout)            (None, 16)                0         \n",
      "_________________________________________________________________\n",
      "dense_1 (Dense)              (None, 16)                272       \n",
      "_________________________________________________________________\n",
      "dense_2 (Dense)              (None, 1)                 17        \n",
      "=================================================================\n",
      "Total params: 449\n",
      "Trainable params: 449\n",
      "Non-trainable params: 0\n",
      "_________________________________________________________________\n",
      "None\n",
      "Epoch 1/3\n",
      "8/8 [==============================] - 1s 30ms/step - loss: 596.3937 - mae: 23.1809 - mse: 596.3937 - val_loss: 614.2551 - val_mae: 23.5259 - val_mse: 614.2551\n",
      "Epoch 2/3\n",
      "8/8 [==============================] - 0s 5ms/step - loss: 585.5536 - mae: 22.9293 - mse: 585.5536 - val_loss: 601.7286 - val_mae: 23.2384 - val_mse: 601.7286\n",
      "Epoch 3/3\n",
      "8/8 [==============================] - 0s 6ms/step - loss: 572.7746 - mae: 22.6082 - mse: 572.7746 - val_loss: 589.0964 - val_mae: 22.9407 - val_mse: 589.0964\n",
      "3/3 - 0s - loss: 606.1160 - mae: 23.2306 - mse: 606.1160\n",
      "Model: \"sequential_1\"\n",
      "_________________________________________________________________\n",
      "Layer (type)                 Output Shape              Param #   \n",
      "=================================================================\n",
      "dense_3 (Dense)              (None, 16)                160       \n",
      "_________________________________________________________________\n",
      "dropout_1 (Dropout)          (None, 16)                0         \n",
      "_________________________________________________________________\n",
      "dense_4 (Dense)              (None, 16)                272       \n",
      "_________________________________________________________________\n",
      "dense_5 (Dense)              (None, 1)                 17        \n",
      "=================================================================\n",
      "Total params: 449\n",
      "Trainable params: 449\n",
      "Non-trainable params: 0\n",
      "_________________________________________________________________\n",
      "None\n",
      "Epoch 1/10\n",
      "8/8 [==============================] - 1s 25ms/step - loss: 610.4445 - mae: 23.4795 - mse: 610.4445 - val_loss: 633.6591 - val_mae: 23.9520 - val_mse: 633.6591\n",
      "Epoch 2/10\n",
      "8/8 [==============================] - 0s 5ms/step - loss: 600.0786 - mae: 23.2808 - mse: 600.0786 - val_loss: 622.3356 - val_mae: 23.7356 - val_mse: 622.3356\n",
      "Epoch 3/10\n",
      "8/8 [==============================] - 0s 5ms/step - loss: 590.1086 - mae: 23.0848 - mse: 590.1086 - val_loss: 611.0888 - val_mae: 23.5199 - val_mse: 611.0888\n",
      "Epoch 4/10\n",
      "8/8 [==============================] - 0s 5ms/step - loss: 580.2638 - mae: 22.8960 - mse: 580.2638 - val_loss: 599.6705 - val_mae: 23.3001 - val_mse: 599.6705\n",
      "Epoch 5/10\n",
      "8/8 [==============================] - 0s 5ms/step - loss: 569.0704 - mae: 22.6811 - mse: 569.0704 - val_loss: 587.7527 - val_mae: 23.0697 - val_mse: 587.7527\n",
      "Epoch 6/10\n",
      "8/8 [==============================] - 0s 5ms/step - loss: 558.5084 - mae: 22.4734 - mse: 558.5084 - val_loss: 574.8722 - val_mae: 22.8194 - val_mse: 574.8722\n",
      "Epoch 7/10\n",
      "8/8 [==============================] - 0s 5ms/step - loss: 547.9240 - mae: 22.2761 - mse: 547.9240 - val_loss: 561.3827 - val_mae: 22.5545 - val_mse: 561.3827\n",
      "Epoch 8/10\n",
      "8/8 [==============================] - 0s 5ms/step - loss: 535.6640 - mae: 22.0241 - mse: 535.6640 - val_loss: 546.6016 - val_mae: 22.2619 - val_mse: 546.6016\n",
      "Epoch 9/10\n",
      "8/8 [==============================] - 0s 5ms/step - loss: 524.8600 - mae: 21.7993 - mse: 524.8600 - val_loss: 531.3563 - val_mae: 21.9542 - val_mse: 531.3563\n",
      "Epoch 10/10\n",
      "8/8 [==============================] - 0s 5ms/step - loss: 510.1787 - mae: 21.5018 - mse: 510.1787 - val_loss: 514.9960 - val_mae: 21.6197 - val_mse: 514.9960\n",
      "3/3 - 0s - loss: 533.4095 - mae: 21.9703 - mse: 533.4095\n",
      "Model: \"sequential_2\"\n",
      "_________________________________________________________________\n",
      "Layer (type)                 Output Shape              Param #   \n",
      "=================================================================\n",
      "dense_6 (Dense)              (None, 16)                160       \n",
      "_________________________________________________________________\n",
      "dropout_2 (Dropout)          (None, 16)                0         \n",
      "_________________________________________________________________\n",
      "dense_7 (Dense)              (None, 16)                272       \n",
      "_________________________________________________________________\n",
      "dense_8 (Dense)              (None, 1)                 17        \n",
      "=================================================================\n",
      "Total params: 449\n",
      "Trainable params: 449\n",
      "Non-trainable params: 0\n",
      "_________________________________________________________________\n",
      "None\n",
      "Epoch 1/10\n",
      "8/8 [==============================] - 1s 24ms/step - loss: 585.2914 - mae: 22.8645 - mse: 585.2914 - val_loss: 600.3839 - val_mae: 23.1701 - val_mse: 600.3839\n",
      "Epoch 2/10\n",
      "8/8 [==============================] - 0s 6ms/step - loss: 572.3145 - mae: 22.6058 - mse: 572.3145 - val_loss: 587.7850 - val_mae: 22.9129 - val_mse: 587.7850\n",
      "Epoch 3/10\n",
      "8/8 [==============================] - 0s 5ms/step - loss: 561.0897 - mae: 22.3515 - mse: 561.0897 - val_loss: 574.3107 - val_mae: 22.6363 - val_mse: 574.3107\n",
      "Epoch 4/10\n",
      "8/8 [==============================] - 0s 6ms/step - loss: 550.1775 - mae: 22.1157 - mse: 550.1775 - val_loss: 560.1499 - val_mae: 22.3416 - val_mse: 560.1499\n",
      "Epoch 5/10\n",
      "8/8 [==============================] - 0s 5ms/step - loss: 534.7103 - mae: 21.7921 - mse: 534.7103 - val_loss: 545.3492 - val_mae: 22.0275 - val_mse: 545.3492\n",
      "Epoch 6/10\n",
      "8/8 [==============================] - 0s 5ms/step - loss: 524.2117 - mae: 21.5849 - mse: 524.2117 - val_loss: 530.1380 - val_mae: 21.6970 - val_mse: 530.1380\n",
      "Epoch 7/10\n",
      "8/8 [==============================] - 0s 5ms/step - loss: 509.2960 - mae: 21.2323 - mse: 509.2960 - val_loss: 514.0820 - val_mae: 21.3430 - val_mse: 514.0820\n",
      "Epoch 8/10\n",
      "8/8 [==============================] - 0s 5ms/step - loss: 490.8174 - mae: 20.8330 - mse: 490.8174 - val_loss: 496.6365 - val_mae: 20.9498 - val_mse: 496.6365\n",
      "Epoch 9/10\n",
      "8/8 [==============================] - 0s 6ms/step - loss: 479.5765 - mae: 20.5504 - mse: 479.5765 - val_loss: 477.8324 - val_mae: 20.5142 - val_mse: 477.8324\n",
      "Epoch 10/10\n",
      "8/8 [==============================] - 0s 5ms/step - loss: 460.9572 - mae: 20.1256 - mse: 460.9572 - val_loss: 457.6765 - val_mae: 20.0351 - val_mse: 457.6765\n",
      "3/3 - 0s - loss: 483.7678 - mae: 20.6375 - mse: 483.7678\n",
      "Model: \"sequential_3\"\n",
      "_________________________________________________________________\n",
      "Layer (type)                 Output Shape              Param #   \n",
      "=================================================================\n",
      "dense_9 (Dense)              (None, 32)                320       \n",
      "_________________________________________________________________\n",
      "dropout_3 (Dropout)          (None, 32)                0         \n",
      "_________________________________________________________________\n",
      "dense_10 (Dense)             (None, 32)                1056      \n",
      "_________________________________________________________________\n",
      "dense_11 (Dense)             (None, 1)                 33        \n",
      "=================================================================\n",
      "Total params: 1,409\n",
      "Trainable params: 1,409\n",
      "Non-trainable params: 0\n",
      "_________________________________________________________________\n",
      "None\n",
      "Epoch 1/10\n",
      "8/8 [==============================] - 1s 24ms/step - loss: 598.2077 - mae: 23.1793 - mse: 598.2077 - val_loss: 614.3415 - val_mae: 23.4889 - val_mse: 614.3415\n",
      "Epoch 2/10\n",
      "8/8 [==============================] - 0s 5ms/step - loss: 583.2317 - mae: 22.8471 - mse: 583.2317 - val_loss: 598.5662 - val_mae: 23.1481 - val_mse: 598.5662\n",
      "Epoch 3/10\n",
      "8/8 [==============================] - 0s 6ms/step - loss: 568.4130 - mae: 22.5184 - mse: 568.4130 - val_loss: 582.8890 - val_mae: 22.8030 - val_mse: 582.8890\n",
      "Epoch 4/10\n",
      "8/8 [==============================] - 0s 5ms/step - loss: 553.4971 - mae: 22.1826 - mse: 553.4971 - val_loss: 566.0934 - val_mae: 22.4309 - val_mse: 566.0934\n",
      "Epoch 5/10\n",
      "8/8 [==============================] - 0s 5ms/step - loss: 536.6476 - mae: 21.7953 - mse: 536.6476 - val_loss: 547.5159 - val_mae: 22.0138 - val_mse: 547.5160\n",
      "Epoch 6/10\n",
      "8/8 [==============================] - 0s 5ms/step - loss: 519.1379 - mae: 21.3866 - mse: 519.1379 - val_loss: 526.6216 - val_mae: 21.5295 - val_mse: 526.6216\n",
      "Epoch 7/10\n",
      "8/8 [==============================] - 0s 6ms/step - loss: 499.1312 - mae: 20.9104 - mse: 499.1312 - val_loss: 502.2988 - val_mae: 20.9503 - val_mse: 502.2988\n",
      "Epoch 8/10\n",
      "8/8 [==============================] - 0s 5ms/step - loss: 473.7788 - mae: 20.3104 - mse: 473.7788 - val_loss: 474.4589 - val_mae: 20.2676 - val_mse: 474.4589\n",
      "Epoch 9/10\n",
      "8/8 [==============================] - 0s 6ms/step - loss: 446.2597 - mae: 19.6085 - mse: 446.2597 - val_loss: 441.4363 - val_mae: 19.4511 - val_mse: 441.4363\n",
      "Epoch 10/10\n",
      "8/8 [==============================] - 0s 5ms/step - loss: 411.6400 - mae: 18.7393 - mse: 411.6400 - val_loss: 404.0120 - val_mae: 18.4876 - val_mse: 404.0120\n",
      "3/3 - 0s - loss: 421.4512 - mae: 18.8999 - mse: 421.4512\n",
      "Model: \"sequential_4\"\n",
      "_________________________________________________________________\n",
      "Layer (type)                 Output Shape              Param #   \n",
      "=================================================================\n",
      "dense_12 (Dense)             (None, 32)                320       \n",
      "_________________________________________________________________\n",
      "dropout_4 (Dropout)          (None, 32)                0         \n",
      "_________________________________________________________________\n",
      "dense_13 (Dense)             (None, 32)                1056      \n",
      "_________________________________________________________________\n",
      "dense_14 (Dense)             (None, 1)                 33        \n",
      "=================================================================\n",
      "Total params: 1,409\n",
      "Trainable params: 1,409\n",
      "Non-trainable params: 0\n",
      "_________________________________________________________________\n",
      "None\n",
      "Epoch 1/10\n",
      "8/8 [==============================] - 1s 25ms/step - loss: 583.2245 - mae: 22.8314 - mse: 583.2245 - val_loss: 598.3886 - val_mae: 23.1136 - val_mse: 598.3886\n",
      "Epoch 2/10\n",
      "8/8 [==============================] - 0s 6ms/step - loss: 567.2416 - mae: 22.4647 - mse: 567.2416 - val_loss: 581.3192 - val_mae: 22.7111 - val_mse: 581.3192\n",
      "Epoch 3/10\n",
      "8/8 [==============================] - 0s 6ms/step - loss: 551.9737 - mae: 22.0996 - mse: 551.9737 - val_loss: 563.8201 - val_mae: 22.2874 - val_mse: 563.8201\n",
      "Epoch 4/10\n",
      "8/8 [==============================] - 0s 5ms/step - loss: 534.5989 - mae: 21.6840 - mse: 534.5989 - val_loss: 544.6785 - val_mae: 21.8195 - val_mse: 544.6785\n",
      "Epoch 5/10\n",
      "8/8 [==============================] - 0s 5ms/step - loss: 516.7421 - mae: 21.2317 - mse: 516.7421 - val_loss: 523.2554 - val_mae: 21.2922 - val_mse: 523.2554\n",
      "Epoch 6/10\n",
      "8/8 [==============================] - 0s 5ms/step - loss: 497.0993 - mae: 20.7410 - mse: 497.0993 - val_loss: 498.7881 - val_mae: 20.6778 - val_mse: 498.7881\n",
      "Epoch 7/10\n",
      "8/8 [==============================] - 0s 5ms/step - loss: 468.8449 - mae: 20.0148 - mse: 468.8449 - val_loss: 470.7258 - val_mae: 19.9611 - val_mse: 470.7258\n",
      "Epoch 8/10\n",
      "8/8 [==============================] - 0s 5ms/step - loss: 442.4624 - mae: 19.3532 - mse: 442.4624 - val_loss: 438.5422 - val_mae: 19.1184 - val_mse: 438.5422\n",
      "Epoch 9/10\n",
      "8/8 [==============================] - 0s 6ms/step - loss: 410.2939 - mae: 18.4771 - mse: 410.2939 - val_loss: 401.9871 - val_mae: 18.1289 - val_mse: 401.9871\n",
      "Epoch 10/10\n",
      "8/8 [==============================] - 0s 6ms/step - loss: 373.8338 - mae: 17.5324 - mse: 373.8338 - val_loss: 360.9684 - val_mae: 16.9810 - val_mse: 360.9684\n",
      "3/3 - 0s - loss: 376.8871 - mae: 17.4628 - mse: 376.8871\n"
     ]
    }
   ],
   "source": [
    "parameters = [\n",
    "    {\"num_units\": 16, \"epochs\": 3, \"dropout_rate\": 0.1},\n",
    "    {\"num_units\": 16, \"epochs\": 10, \"dropout_rate\": 0.1},\n",
    "    {\"num_units\": 16, \"epochs\": 10, \"dropout_rate\": 0.2},\n",
    "    {\"num_units\": 32, \"epochs\": 10, \"dropout_rate\": 0.1},\n",
    "    {\"num_units\": 32, \"epochs\": 10, \"dropout_rate\": 0.2},\n",
    "]\n",
    "\n",
    "for i, params in enumerate(parameters):\n",
    "    aiplatform.start_run(run=f\"auto-mpg-local-run-{i}\")\n",
    "    aiplatform.log_params(params)\n",
    "    model, history = train(\n",
    "        normed_train_data,\n",
    "        train_labels,\n",
    "        num_units=params[\"num_units\"],\n",
    "        activation=\"relu\",\n",
    "        epochs=params[\"epochs\"],\n",
    "        dropout_rate=params[\"dropout_rate\"],\n",
    "    )\n",
    "    aiplatform.log_metrics(\n",
    "        {metric: values[-1] for metric, values in history.history.items()}\n",
    "    )\n",
    "\n",
    "    loss, mae, mse = model.evaluate(normed_test_data, test_labels, verbose=2)\n",
    "    aiplatform.log_metrics({\"eval_loss\": loss, \"eval_mae\": mae, \"eval_mse\": mse})"
   ]
  },
  {
   "cell_type": "markdown",
   "metadata": {
    "id": "jZLrJZTfL7tE"
   },
   "source": [
    "### Extract parameters and metrics into a dataframe for analysis"
   ]
  },
  {
   "cell_type": "markdown",
   "metadata": {
    "id": "A1PqKxlpOZa2"
   },
   "source": [
    "We can also extract all parameters and metrics associated with any Experiment into a dataframe for further analysis."
   ]
  },
  {
   "cell_type": "code",
   "execution_count": 16,
   "metadata": {
    "id": "jbRf1WoH_vbY"
   },
   "outputs": [
    {
     "data": {
      "text/html": [
       "<div>\n",
       "<style scoped>\n",
       "    .dataframe tbody tr th:only-of-type {\n",
       "        vertical-align: middle;\n",
       "    }\n",
       "\n",
       "    .dataframe tbody tr th {\n",
       "        vertical-align: top;\n",
       "    }\n",
       "\n",
       "    .dataframe thead th {\n",
       "        text-align: right;\n",
       "    }\n",
       "</style>\n",
       "<table border=\"1\" class=\"dataframe\">\n",
       "  <thead>\n",
       "    <tr style=\"text-align: right;\">\n",
       "      <th></th>\n",
       "      <th>experiment_name</th>\n",
       "      <th>run_name</th>\n",
       "      <th>param.num_units</th>\n",
       "      <th>param.dropout_rate</th>\n",
       "      <th>param.epochs</th>\n",
       "      <th>metric.mae</th>\n",
       "      <th>metric.val_mse</th>\n",
       "      <th>metric.mse</th>\n",
       "      <th>metric.eval_mae</th>\n",
       "      <th>metric.val_mae</th>\n",
       "      <th>metric.val_loss</th>\n",
       "      <th>metric.eval_loss</th>\n",
       "      <th>metric.loss</th>\n",
       "      <th>metric.eval_mse</th>\n",
       "    </tr>\n",
       "  </thead>\n",
       "  <tbody>\n",
       "    <tr>\n",
       "      <th>0</th>\n",
       "      <td>my-experiment-20220413070651</td>\n",
       "      <td>auto-mpg-local-run-4</td>\n",
       "      <td>32.0</td>\n",
       "      <td>0.2</td>\n",
       "      <td>10.0</td>\n",
       "      <td>17.532436</td>\n",
       "      <td>360.968414</td>\n",
       "      <td>373.833801</td>\n",
       "      <td>17.462763</td>\n",
       "      <td>16.980963</td>\n",
       "      <td>360.968414</td>\n",
       "      <td>376.887054</td>\n",
       "      <td>373.833801</td>\n",
       "      <td>376.887054</td>\n",
       "    </tr>\n",
       "    <tr>\n",
       "      <th>1</th>\n",
       "      <td>my-experiment-20220413070651</td>\n",
       "      <td>auto-mpg-local-run-3</td>\n",
       "      <td>32.0</td>\n",
       "      <td>0.1</td>\n",
       "      <td>10.0</td>\n",
       "      <td>18.739315</td>\n",
       "      <td>404.012024</td>\n",
       "      <td>411.639954</td>\n",
       "      <td>18.899881</td>\n",
       "      <td>18.487648</td>\n",
       "      <td>404.012024</td>\n",
       "      <td>421.451233</td>\n",
       "      <td>411.639954</td>\n",
       "      <td>421.451233</td>\n",
       "    </tr>\n",
       "    <tr>\n",
       "      <th>2</th>\n",
       "      <td>my-experiment-20220413070651</td>\n",
       "      <td>auto-mpg-local-run-2</td>\n",
       "      <td>16.0</td>\n",
       "      <td>0.2</td>\n",
       "      <td>10.0</td>\n",
       "      <td>20.125614</td>\n",
       "      <td>457.676514</td>\n",
       "      <td>460.957153</td>\n",
       "      <td>20.637526</td>\n",
       "      <td>20.035067</td>\n",
       "      <td>457.676514</td>\n",
       "      <td>483.767822</td>\n",
       "      <td>460.957153</td>\n",
       "      <td>483.767822</td>\n",
       "    </tr>\n",
       "    <tr>\n",
       "      <th>3</th>\n",
       "      <td>my-experiment-20220413070651</td>\n",
       "      <td>auto-mpg-local-run-1</td>\n",
       "      <td>16.0</td>\n",
       "      <td>0.1</td>\n",
       "      <td>10.0</td>\n",
       "      <td>21.501797</td>\n",
       "      <td>514.995972</td>\n",
       "      <td>510.178680</td>\n",
       "      <td>21.970297</td>\n",
       "      <td>21.619715</td>\n",
       "      <td>514.995972</td>\n",
       "      <td>533.409485</td>\n",
       "      <td>510.178680</td>\n",
       "      <td>533.409485</td>\n",
       "    </tr>\n",
       "    <tr>\n",
       "      <th>4</th>\n",
       "      <td>my-experiment-20220413070651</td>\n",
       "      <td>auto-mpg-local-run-0</td>\n",
       "      <td>16.0</td>\n",
       "      <td>0.1</td>\n",
       "      <td>3.0</td>\n",
       "      <td>22.608177</td>\n",
       "      <td>589.096375</td>\n",
       "      <td>572.774597</td>\n",
       "      <td>23.230621</td>\n",
       "      <td>22.940701</td>\n",
       "      <td>589.096375</td>\n",
       "      <td>606.115967</td>\n",
       "      <td>572.774597</td>\n",
       "      <td>606.115967</td>\n",
       "    </tr>\n",
       "  </tbody>\n",
       "</table>\n",
       "</div>"
      ],
      "text/plain": [
       "                experiment_name              run_name  param.num_units  \\\n",
       "0  my-experiment-20220413070651  auto-mpg-local-run-4             32.0   \n",
       "1  my-experiment-20220413070651  auto-mpg-local-run-3             32.0   \n",
       "2  my-experiment-20220413070651  auto-mpg-local-run-2             16.0   \n",
       "3  my-experiment-20220413070651  auto-mpg-local-run-1             16.0   \n",
       "4  my-experiment-20220413070651  auto-mpg-local-run-0             16.0   \n",
       "\n",
       "   param.dropout_rate  param.epochs  metric.mae  metric.val_mse  metric.mse  \\\n",
       "0                 0.2          10.0   17.532436      360.968414  373.833801   \n",
       "1                 0.1          10.0   18.739315      404.012024  411.639954   \n",
       "2                 0.2          10.0   20.125614      457.676514  460.957153   \n",
       "3                 0.1          10.0   21.501797      514.995972  510.178680   \n",
       "4                 0.1           3.0   22.608177      589.096375  572.774597   \n",
       "\n",
       "   metric.eval_mae  metric.val_mae  metric.val_loss  metric.eval_loss  \\\n",
       "0        17.462763       16.980963       360.968414        376.887054   \n",
       "1        18.899881       18.487648       404.012024        421.451233   \n",
       "2        20.637526       20.035067       457.676514        483.767822   \n",
       "3        21.970297       21.619715       514.995972        533.409485   \n",
       "4        23.230621       22.940701       589.096375        606.115967   \n",
       "\n",
       "   metric.loss  metric.eval_mse  \n",
       "0   373.833801       376.887054  \n",
       "1   411.639954       421.451233  \n",
       "2   460.957153       483.767822  \n",
       "3   510.178680       533.409485  \n",
       "4   572.774597       606.115967  "
      ]
     },
     "execution_count": 16,
     "metadata": {},
     "output_type": "execute_result"
    }
   ],
   "source": [
    "experiment_df = aiplatform.get_experiment_df()\n",
    "experiment_df"
   ]
  },
  {
   "cell_type": "markdown",
   "metadata": {
    "id": "EYuYgqVCMKU1"
   },
   "source": [
    "### Visualizing an experiment's parameters and metrics"
   ]
  },
  {
   "cell_type": "code",
   "execution_count": 17,
   "metadata": {
    "id": "r8orCj8iJuO1"
   },
   "outputs": [
    {
     "data": {
      "text/plain": [
       "<matplotlib.legend.Legend at 0x7f5d26ce8880>"
      ]
     },
     "execution_count": 17,
     "metadata": {},
     "output_type": "execute_result"
    },
    {
     "data": {
      "image/png": "[encoded data removed]",
      "text/plain": [
       "<Figure size 1080x360 with 1 Axes>"
      ]
     },
     "metadata": {
      "needs_background": "light"
     },
     "output_type": "display_data"
    }
   ],
   "source": [
    "plt.rcParams[\"figure.figsize\"] = [15, 5]\n",
    "\n",
    "ax = pd.plotting.parallel_coordinates(\n",
    "    experiment_df.reset_index(level=0),\n",
    "    \"run_name\",\n",
    "    cols=[\n",
    "        \"param.num_units\",\n",
    "        \"param.dropout_rate\",\n",
    "        \"param.epochs\",\n",
    "        \"metric.loss\",\n",
    "        \"metric.val_loss\",\n",
    "        \"metric.eval_loss\",\n",
    "    ],\n",
    "    color=[\"blue\", \"green\", \"pink\", \"red\"],\n",
    ")\n",
    "ax.set_yscale(\"symlog\")\n",
    "ax.legend(bbox_to_anchor=(1.0, 0.5))"
   ]
  },
  {
   "cell_type": "markdown",
   "metadata": {
    "id": "WTHvPMweMlP1"
   },
   "source": [
    "## Visualizing experiments in Cloud Console"
   ]
  },
  {
   "cell_type": "markdown",
   "metadata": {
    "id": "F19_5lw0MqXv"
   },
   "source": [
    "Run the following to get the URL of Vertex AI Experiments for your project.\n"
   ]
  },
  {
   "cell_type": "code",
   "execution_count": 18,
   "metadata": {
    "id": "GmN9vE9pqqzt"
   },
   "outputs": [
    {
     "name": "stdout",
     "output_type": "stream",
     "text": [
      "Vertex AI Experiments:\n",
      "https://console.cloud.google.com/ai/platform/experiments/experiments?folder=&organizationId=&project=vertex-ai-dev\n"
     ]
    }
   ],
   "source": [
    "print(\"Vertex AI Experiments:\")\n",
    "print(\n",
    "    f\"https://console.cloud.google.com/ai/platform/experiments/experiments?folder=&organizationId=&project={PROJECT_ID}\"\n",
    ")"
   ]
  },
  {
   "cell_type": "markdown",
   "metadata": {
    "id": "TpV-iwP9qw9c"
   },
   "source": [
    "## Cleaning up\n",
    "\n",
    "To clean up all Google Cloud resources used in this project, you can [delete the Google Cloud\n",
    "project](https://cloud.google.com/resource-manager/docs/creating-managing-projects#shutting_down_projects) you used for the tutorial.\n",
    "\n",
    "Otherwise, you can delete the individual resources you created in this tutorial:\n",
    "\n",
    "- Experiment (Can be deleted manually in the GCP Console UI)"
   ]
  }
 ],
 "metadata": {
  "colab": {
   "collapsed_sections": [],
   "name": "sdk-metric-parameter-tracking-for-locally-trained-models.ipynb",
   "toc_visible": true
  },
  "environment": {
   "kernel": "python3",
   "name": "common-cpu.m91",
   "type": "gcloud",
   "uri": "gcr.io/deeplearning-platform-release/base-cpu:m91"
  },
  "kernelspec": {
   "display_name": "Python 3",
   "language": "python",
   "name": "python3"
  },
  "language_info": {
   "codemirror_mode": {
    "name": "ipython",
    "version": 3
   },
   "file_extension": ".py",
   "mimetype": "text/x-python",
   "name": "python",
   "nbconvert_exporter": "python",
   "pygments_lexer": "ipython3",
   "version": "3.7.12"
  }
 },
 "nbformat": 4,
 "nbformat_minor": 4
}
