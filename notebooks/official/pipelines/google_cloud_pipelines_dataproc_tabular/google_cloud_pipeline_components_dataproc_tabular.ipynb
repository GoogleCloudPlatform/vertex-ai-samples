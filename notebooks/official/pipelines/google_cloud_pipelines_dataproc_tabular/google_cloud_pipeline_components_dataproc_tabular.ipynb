{
  "cells": [
    {
      "cell_type": "code",
      "execution_count": null,
      "metadata": {
        "id": "ur8xi4C7S06n"
      },
      "outputs": [],
      "source": [
        "# Copyright 2022 Google LLC\n",
        "#\n",
        "# Licensed under the Apache License, Version 2.0 (the \"License\");\n",
        "# you may not use this file except in compliance with the License.\n",
        "# You may obtain a copy of the License at\n",
        "#\n",
        "#     https://www.apache.org/licenses/LICENSE-2.0\n",
        "#\n",
        "# Unless required by applicable law or agreed to in writing, software\n",
        "# distributed under the License is distributed on an \"AS IS\" BASIS,\n",
        "# WITHOUT WARRANTIES OR CONDITIONS OF ANY KIND, either express or implied.\n",
        "# See the License for the specific language governing permissions and\n",
        "# limitations under the License."
      ]
    },
    {
      "cell_type": "markdown",
      "metadata": {
        "id": "JAPoU8Sm5E6e"
      },
      "source": [
        "<table align=\"left\">\n",
        "\n",
        "  <td>\n",
        "    <a href=\"https://colab.research.google.com/github/GoogleCloudPlatform/vertex-ai-samples/blob/main/notebooks/official/pipelines/google_cloud_pipelines_dataproc_tabular/google_cloud_pipeline_components_dataproc_tabular.ipynb\">\n",
        "      <img src=\"https://cloud.google.com/ml-engine/images/colab-logo-32px.png\" alt=\"Colab logo\"> Run in Colab\n",
        "    </a>\n",
        "  </td>\n",
        "  <td>\n",
        "    <a href=\"https://github.com/GoogleCloudPlatform/vertex-ai-samples/blob/main/notebooks/notebooks/official/pipelines/google_cloud_pipelines_dataproc_tabular/google_cloud_pipeline_components_dataproc_tabular.ipynb\">\n",
        "      <img src=\"https://cloud.google.com/ml-engine/images/github-logo-32px.png\" alt=\"GitHub logo\">\n",
        "      View on GitHub\n",
        "    </a>\n",
        "  </td>\n",
        "  <td>\n",
        "    <a href=\"https://console.cloud.google.com/vertex-ai/workbench/deploy-notebook?download_url=https://raw.githubusercontent.com/GoogleCloudPlatform/vertex-ai-samples/blob/main/notebooks/notebooks/official/pipelines/google_cloud_pipelines_dataproc_tabular/google_cloud_pipeline_components_dataproc_tabular.ipynb\">\n",
        "      <img src=\"https://lh3.googleusercontent.com/UiNooY4LUgW_oTvpsNhPpQzsstV5W8F7rYgxgGBD85cWJoLmrOzhVs_ksK_vgx40SHs7jCqkTkCk=e14-rj-sc0xffffff-h130-w32\" alt=\"Vertex AI logo\">\n",
        "      Open in Vertex AI Workbench\n",
        "    </a>\n",
        "  </td>                                                                                               \n",
        "</table>"
      ]
    },
    {
      "cell_type": "markdown",
      "metadata": {
        "id": "tvgnzT1CKxrO"
      },
      "source": [
        "## Overview\n",
        "\n",
        "This notebook shows how to build a Spark ML pipeline using Spark MLlib and DataprocPySparkBatchOp component to determine the customer eligibility for a loan from a banking company. In particular, the pipeline covers a Spark MLib pipeline, from data preprocessing to hyperparameter tuning of a random forest classifier which predicts the probability of a customer being eligible for a loan. \n",
        "\n",
        "### Dataset\n",
        "\n",
        "The dataset is an preprocessed version of the [loan eligiability dataset](https://datasetsearch.research.google.com/search?src=2&query=Loan%20Eligible%20Dataset&docid=L2cvMTFsajJrM3EzcA%3D%3D).\n",
        "\n",
        "\n",
        "### Objective\n",
        "\n",
        "In this notebook, you will learn how to\n",
        "\n",
        "*   Use the DataprocPySparkBatchOp to preprocess data and train an random forest model using Pyspark\n",
        "\n",
        "*   Use the Spark serving image in order to deploy a Spark model on Vertex AI Endpoint\n",
        "\n",
        "### Costs \n",
        "\n",
        "This tutorial uses billable components of Google Cloud:\n",
        "\n",
        "* Vertex AI\n",
        "* Cloud Storage\n",
        "* Dataproc Serverless\n",
        "\n",
        "Learn about [Vertex AI\n",
        "pricing](https://cloud.google.com/vertex-ai/pricing) and [Cloud Storage\n",
        "pricing](https://cloud.google.com/storage/pricing), and use the [Pricing\n",
        "Calculator](https://cloud.google.com/products/calculator/)\n",
        "to generate a cost estimate based on your projected usage."
      ]
    },
    {
      "cell_type": "markdown",
      "metadata": {
        "id": "ze4-nDLfK4pw"
      },
      "source": [
        "### Set up your local development environment\n",
        "\n",
        "**If you are using Colab or Vertex AI Workbench Notebooks**, your environment already meets\n",
        "all the requirements to run this notebook. You can skip this step."
      ]
    },
    {
      "cell_type": "markdown",
      "metadata": {
        "id": "gCuSR8GkAgzl"
      },
      "source": [
        "**Otherwise**, make sure your environment meets this notebook's requirements.\n",
        "You need the following:\n",
        "\n",
        "* The Google Cloud SDK\n",
        "* Git\n",
        "* Python 3\n",
        "* virtualenv\n",
        "* Jupyter notebook running in a virtual environment with Python 3\n",
        "\n",
        "The Google Cloud guide to [Setting up a Python development\n",
        "environment](https://cloud.google.com/python/setup) and the [Jupyter\n",
        "installation guide](https://jupyter.org/install) provide detailed instructions\n",
        "for meeting these requirements. The following steps provide a condensed set of\n",
        "instructions:\n",
        "\n",
        "1. [Install and initialize the Cloud SDK.](https://cloud.google.com/sdk/docs/)\n",
        "\n",
        "1. [Install Python 3.](https://cloud.google.com/python/setup#installing_python)\n",
        "\n",
        "1. [Install\n",
        "   virtualenv](https://cloud.google.com/python/setup#installing_and_using_virtualenv)\n",
        "   and create a virtual environment that uses Python 3. Activate the virtual environment.\n",
        "\n",
        "1. To install Jupyter, run `pip3 install jupyter` on the\n",
        "command-line in a terminal shell.\n",
        "\n",
        "1. To launch Jupyter, run `jupyter notebook` on the command-line in a terminal shell.\n",
        "\n",
        "1. Open this notebook in the Jupyter Notebook Dashboard."
      ]
    },
    {
      "cell_type": "markdown",
      "metadata": {
        "id": "i7EUnXsZhAGF"
      },
      "source": [
        "### Install additional packages\n",
        "\n",
        "Install the following packages required to execute this notebook."
      ]
    },
    {
      "cell_type": "code",
      "execution_count": null,
      "metadata": {
        "id": "2b4ef9b72d43"
      },
      "outputs": [],
      "source": [
        "import os\n",
        "\n",
        "# The Vertex AI Workbench Notebook product has specific requirements\n",
        "IS_WORKBENCH_NOTEBOOK = os.getenv(\"DL_ANACONDA_HOME\")\n",
        "IS_USER_MANAGED_WORKBENCH_NOTEBOOK = os.path.exists(\n",
        "    \"/opt/deeplearning/metadata/env_version\"\n",
        ")\n",
        "\n",
        "# Vertex AI Notebook requires dependencies to be installed with '--user'\n",
        "USER_FLAG = \"\"\n",
        "if IS_WORKBENCH_NOTEBOOK:\n",
        "    USER_FLAG = \"--user\"\n",
        "\n",
        "!pip3 install {USER_FLAG} --upgrade google-cloud-aiplatform kfp google-cloud-pipeline-components tensorflow --quiet --no-warn-conflicts"
      ]
    },
    {
      "cell_type": "markdown",
      "metadata": {
        "id": "hhq5zEbGg0XX"
      },
      "source": [
        "### Restart the kernel\n",
        "\n",
        "After you install the additional packages, you need to restart the notebook kernel so it can find the packages."
      ]
    },
    {
      "cell_type": "code",
      "execution_count": null,
      "metadata": {
        "id": "EzrelQZ22IZj"
      },
      "outputs": [],
      "source": [
        "# Automatically restart kernel after installs\n",
        "import os\n",
        "\n",
        "if not os.getenv(\"IS_TESTING\"):\n",
        "    # Automatically restart kernel after installs\n",
        "    import IPython\n",
        "\n",
        "    app = IPython.Application.instance()\n",
        "    app.kernel.do_shutdown(True)"
      ]
    },
    {
      "cell_type": "markdown",
      "metadata": {
        "id": "lWEdiXsJg0XY"
      },
      "source": [
        "## Before you begin"
      ]
    },
    {
      "cell_type": "markdown",
      "metadata": {
        "id": "BF1j6f9HApxa"
      },
      "source": [
        "### Set up your Google Cloud project\n",
        "\n",
        "**The following steps are required, regardless of your notebook environment.**\n",
        "\n",
        "1. [Select or create a Google Cloud project](https://console.cloud.google.com/cloud-resource-manager). When you first create an account, you get a $300 free credit towards your compute/storage costs.\n",
        "\n",
        "1. [Make sure that billing is enabled for your project](https://cloud.google.com/billing/docs/how-to/modify-project).\n",
        "\n",
        "1. [Enable APIs](https://console.cloud.google.com/flows/enableapi?apiid=aiplatform.googleleapis.com,%20cloudbuild.googleapis.com,%20storage-api.googleapis.com,%20artifactregistry.googleapis.com&_ga)\n",
        "\n",
        "1. If you are running this notebook locally, you will need to install the [Cloud SDK](https://cloud.google.com/sdk).\n",
        "\n",
        "1. Enter your project ID in the cell below. Then run the cell to make sure the\n",
        "Cloud SDK uses the right project for all the commands in this notebook.\n",
        "\n",
        "**Note**: Jupyter runs lines prefixed with `!` as shell commands, and it interpolates Python variables prefixed with `$` into these commands."
      ]
    },
    {
      "cell_type": "markdown",
      "metadata": {
        "id": "WReHDGG5g0XY"
      },
      "source": [
        "#### Set your project ID\n",
        "\n",
        "**If you don't know your project ID**, you may be able to get your project ID using `gcloud`."
      ]
    },
    {
      "cell_type": "code",
      "execution_count": null,
      "metadata": {
        "id": "oM1iC_MfAts1"
      },
      "outputs": [],
      "source": [
        "import os\n",
        "\n",
        "PROJECT_ID = \"\"\n",
        "\n",
        "# Get your Google Cloud project ID from gcloud\n",
        "if not os.getenv(\"IS_TESTING\"):\n",
        "    shell_output = !gcloud config list --format 'value(core.project)' 2>/dev/null\n",
        "    PROJECT_ID = shell_output[0]\n",
        "    print(\"Project ID: \", PROJECT_ID)"
      ]
    },
    {
      "cell_type": "markdown",
      "metadata": {
        "id": "qJYoRfYng0XZ"
      },
      "source": [
        "Otherwise, set your project ID here."
      ]
    },
    {
      "cell_type": "code",
      "execution_count": null,
      "metadata": {
        "id": "riG_qUokg0XZ"
      },
      "outputs": [],
      "source": [
        "if PROJECT_ID == \"\" or PROJECT_ID is None:\n",
        "    PROJECT_ID = \"[your-project]\"  # @param {type:\"string\"}"
      ]
    },
    {
      "cell_type": "code",
      "execution_count": null,
      "metadata": {
        "id": "set_gcloud_project_id"
      },
      "outputs": [],
      "source": [
        "! gcloud config set project $PROJECT_ID"
      ]
    },
    {
      "cell_type": "markdown",
      "metadata": {
        "id": "23988890fef6"
      },
      "source": [
        "#### Get your project number\n",
        "\n",
        "Now that the project ID is set, you get your corresponding project number."
      ]
    },
    {
      "cell_type": "code",
      "execution_count": null,
      "metadata": {
        "id": "2d6950574e1d"
      },
      "outputs": [],
      "source": [
        "shell_output = ! gcloud projects list --filter=\"PROJECT_ID:'{PROJECT_ID}'\" --format='value(PROJECT_NUMBER)'\n",
        "PROJECT_NUMBER = shell_output[0]\n",
        "print(\"Project Number:\", PROJECT_NUMBER)"
      ]
    },
    {
      "cell_type": "markdown",
      "metadata": {
        "id": "region"
      },
      "source": [
        "#### Region\n",
        "\n",
        "You can also change the `REGION` variable, which is used for operations\n",
        "throughout the rest of this notebook.  Below are regions supported for Vertex AI. We recommend that you choose the region closest to you.\n",
        "\n",
        "- Americas: `us-central1`\n",
        "- Europe: `europe-west4`\n",
        "- Asia Pacific: `asia-east1`\n",
        "\n",
        "You may not use a multi-regional bucket for training with Vertex AI. Not all regions provide support for all Vertex AI services.\n",
        "\n",
        "Learn more about [Vertex AI regions](https://cloud.google.com/vertex-ai/docs/general/locations)."
      ]
    },
    {
      "cell_type": "code",
      "execution_count": null,
      "metadata": {
        "id": "jDrngSGfodJq"
      },
      "outputs": [],
      "source": [
        "REGION = \"[your-region]\"  # @param {type: \"string\"}\n",
        "\n",
        "if REGION == \"[your-region]\":\n",
        "    REGION = \"us-central1\""
      ]
    },
    {
      "cell_type": "markdown",
      "metadata": {
        "id": "06571eb4063b"
      },
      "source": [
        "#### Timestamp\n",
        "\n",
        "If you are in a live tutorial session, you might be using a shared test account or project. To avoid name collisions between users on resources created, you create a timestamp for each instance session, and append it onto the name of resources you create in this tutorial."
      ]
    },
    {
      "cell_type": "code",
      "execution_count": null,
      "metadata": {
        "id": "697568e92bd6"
      },
      "outputs": [],
      "source": [
        "from datetime import datetime\n",
        "\n",
        "TIMESTAMP = datetime.now().strftime(\"%Y%m%d%H%M%S\")"
      ]
    },
    {
      "cell_type": "markdown",
      "metadata": {
        "id": "dr--iN2kAylZ"
      },
      "source": [
        "### Authenticate your Google Cloud account\n",
        "\n",
        "**If you are using Vertex AI Workbench Notebooks**, your environment is already\n",
        "authenticated. Skip this step."
      ]
    },
    {
      "cell_type": "markdown",
      "metadata": {
        "id": "sBCra4QMA2wR"
      },
      "source": [
        "**If you are using Colab**, run the cell below and follow the instructions\n",
        "when prompted to authenticate your account via oAuth.\n",
        "\n",
        "**Otherwise**, follow these steps:\n",
        "\n",
        "1. In the Cloud Console, go to the [**Create service account key**\n",
        "   page](https://console.cloud.google.com/apis/credentials/serviceaccountkey).\n",
        "\n",
        "2. Click **Create service account**.\n",
        "\n",
        "3. In the **Service account name** field, enter a name, and\n",
        "   click **Create**.\n",
        "\n",
        "4. In the **Grant this service account access to project** section, click the **Role** drop-down list. Type the following roles into the filter box, and select\n",
        "\n",
        "  - Artifact Registry Administrator\n",
        "  - Artifact Registry Repository Administrator\n",
        "  - Cloud Build Editor\n",
        "  - Compute Network Admin\n",
        "  - Dataproc Administrator\n",
        "  - Dataproc Worker\n",
        "  - Service Account User\n",
        "  - Storage Admin\n",
        "  - Storage Object Admin\n",
        "  - Vertex AI Administrator\n",
        "\n",
        "5. Click *Create*. A JSON file that contains your key downloads to your\n",
        "local environment.\n",
        "\n",
        "6. Enter the path to your service account key as the\n",
        "`GOOGLE_APPLICATION_CREDENTIALS` variable in the cell below and run the cell."
      ]
    },
    {
      "cell_type": "code",
      "execution_count": null,
      "metadata": {
        "id": "PyQmSRbKA8r-"
      },
      "outputs": [],
      "source": [
        "# If you are running this notebook in Colab, run this cell and follow the\n",
        "# instructions to authenticate your GCP account. This provides access to your\n",
        "# Cloud Storage bucket and lets you submit training jobs and prediction\n",
        "# requests.\n",
        "\n",
        "import os\n",
        "import sys\n",
        "\n",
        "# If on Vertex AI Workbench, then don't execute this code\n",
        "IS_COLAB = \"google.colab\" in sys.modules\n",
        "if not os.path.exists(\"/opt/deeplearning/metadata/env_version\") and not os.getenv(\n",
        "    \"DL_ANACONDA_HOME\"\n",
        "):\n",
        "    if \"google.colab\" in sys.modules:\n",
        "        from google.colab import auth as google_auth\n",
        "\n",
        "        google_auth.authenticate_user()\n",
        "\n",
        "    # If you are running this notebook locally, replace the string below with the\n",
        "    # path to your service account key and run this cell to authenticate your GCP\n",
        "    # account.\n",
        "    elif not os.getenv(\"IS_TESTING\"):\n",
        "        %env GOOGLE_APPLICATION_CREDENTIALS ''"
      ]
    },
    {
      "cell_type": "markdown",
      "metadata": {
        "id": "zgPO1eR3CYjk"
      },
      "source": [
        "### Create a Cloud Storage bucket\n",
        "\n",
        "**The following steps are required, regardless of your notebook environment.**\n",
        "\n",
        "When you submit a Spark job using the Cloud SDK, you need a bucket to read the python module associated and the data required to it. \n",
        "\n",
        "Set the name of your Cloud Storage bucket below. It must be unique across all\n",
        "Cloud Storage buckets.\n",
        "\n",
        "You may also change the `REGION` variable, which is used for operations\n",
        "throughout the rest of this notebook. We suggest that you [choose a region where Vertex AI services are\n",
        "available](https://cloud.google.com/vertex-ai/docs/general/locations#available_regions)."
      ]
    },
    {
      "cell_type": "code",
      "execution_count": null,
      "metadata": {
        "id": "MzGDU7TWdts_"
      },
      "outputs": [],
      "source": [
        "BUCKET_NAME = \"[your-bucket-name]\"  # @param {type:\"string\"}\n",
        "BUCKET_URI = f\"gs://{BUCKET_NAME}\""
      ]
    },
    {
      "cell_type": "code",
      "execution_count": null,
      "metadata": {
        "id": "cf221059d072"
      },
      "outputs": [],
      "source": [
        "if BUCKET_NAME == \"\" or BUCKET_NAME is None or BUCKET_NAME == \"[your-bucket-name]\":\n",
        "    BUCKET_NAME = PROJECT_ID + \"-aip-\" + TIMESTAMP\n",
        "    BUCKET_URI = f\"gs://{BUCKET_NAME}\""
      ]
    },
    {
      "cell_type": "markdown",
      "metadata": {
        "id": "-EcIXiGsCePi"
      },
      "source": [
        "**Only if your bucket doesn't already exist**: Run the following cell to create your Cloud Storage bucket."
      ]
    },
    {
      "cell_type": "code",
      "execution_count": null,
      "metadata": {
        "id": "NIq7R4HZCfIc"
      },
      "outputs": [],
      "source": [
        "! gsutil mb -l $REGION -p $PROJECT_ID $BUCKET_URI"
      ]
    },
    {
      "cell_type": "markdown",
      "metadata": {
        "id": "ucvCsknMCims"
      },
      "source": [
        "Finally, validate access to your Cloud Storage bucket by examining its contents:"
      ]
    },
    {
      "cell_type": "code",
      "execution_count": null,
      "metadata": {
        "id": "vhOb7YnwClBb"
      },
      "outputs": [],
      "source": [
        "! gsutil ls -al $BUCKET_URI"
      ]
    },
    {
      "cell_type": "markdown",
      "metadata": {
        "id": "set_service_account"
      },
      "source": [
        "#### Service Account \n",
        "\n",
        "If you do not want to use your project's Compute Engine service account, set `SERVICE_ACCOUNT` to another service account ID."
      ]
    },
    {
      "cell_type": "code",
      "execution_count": null,
      "metadata": {
        "id": "8iDe15B9odJu"
      },
      "outputs": [],
      "source": [
        "SERVICE_ACCOUNT = \"[your-service-account]\"  # @param {type:\"string\"}"
      ]
    },
    {
      "cell_type": "code",
      "execution_count": null,
      "metadata": {
        "id": "autoset_service_account"
      },
      "outputs": [],
      "source": [
        "if (\n",
        "    SERVICE_ACCOUNT == \"\"\n",
        "    or SERVICE_ACCOUNT is None\n",
        "    or SERVICE_ACCOUNT == \"[your-service-account]\"\n",
        "):\n",
        "    # Get your service account from gcloud\n",
        "    if not IS_COLAB:\n",
        "        shell_output = !gcloud auth list 2>/dev/null\n",
        "        SERVICE_ACCOUNT = shell_output[2].replace(\"*\", \"\").strip()\n",
        "\n",
        "    else:  # IS_COLAB:\n",
        "        shell_output = ! gcloud projects describe  $PROJECT_ID\n",
        "        project_number = shell_output[-1].split(\":\")[1].strip().replace(\"'\", \"\")\n",
        "        SERVICE_ACCOUNT = f\"{project_number}-compute@developer.gserviceaccount.com\"\n",
        "\n",
        "    print(\"Service Account:\", SERVICE_ACCOUNT)"
      ]
    },
    {
      "cell_type": "markdown",
      "metadata": {
        "id": "set_service_account:pipelines"
      },
      "source": [
        "#### Set service account access\n",
        "\n",
        "Run the following commands to grant your service account access to the bucket that you created in the previous step. You only need to run this step once per service account."
      ]
    },
    {
      "cell_type": "code",
      "execution_count": null,
      "metadata": {
        "id": "ieR8sg2modJu"
      },
      "outputs": [],
      "source": [
        "! gsutil iam ch serviceAccount:{SERVICE_ACCOUNT}:roles/storage.objectCreator $BUCKET_URI\n",
        "\n",
        "! gsutil iam ch serviceAccount:{SERVICE_ACCOUNT}:roles/storage.objectViewer $BUCKET_URI"
      ]
    },
    {
      "cell_type": "markdown",
      "metadata": {
        "id": "-TRRTduWyx7f"
      },
      "source": [
        "### Enabling Private Google Access for Dataproc Serverless"
      ]
    },
    {
      "cell_type": "code",
      "execution_count": null,
      "metadata": {
        "id": "d-1ZXXtTyzI5"
      },
      "outputs": [],
      "source": [
        "SUBNETWORK = \"default\"  # @param {type:\"string\"}"
      ]
    },
    {
      "cell_type": "code",
      "execution_count": null,
      "metadata": {
        "id": "3mSeas5axzyg"
      },
      "outputs": [],
      "source": [
        "!gcloud compute networks subnets list --regions=$REGION --filter=$SUBNETWORK"
      ]
    },
    {
      "cell_type": "code",
      "execution_count": null,
      "metadata": {
        "id": "bTsxWbNMyFKy"
      },
      "outputs": [],
      "source": [
        "!gcloud compute networks subnets update $SUBNETWORK \\\n",
        "--region=$REGION \\\n",
        "--enable-private-ip-google-access"
      ]
    },
    {
      "cell_type": "code",
      "execution_count": null,
      "metadata": {
        "id": "VsdtU6E-yjxl"
      },
      "outputs": [],
      "source": [
        "!gcloud compute networks subnets describe $SUBNETWORK \\\n",
        "--region=$REGION \\\n",
        "--format=\"get(privateIpGoogleAccess)\""
      ]
    },
    {
      "cell_type": "markdown",
      "metadata": {
        "id": "o7p_RIzNM02N"
      },
      "source": [
        "### Create the Docker repository\n",
        "\n",
        "You create a Docker repository in the Artefact Registry for the custom dataproc image we are going to create."
      ]
    },
    {
      "cell_type": "code",
      "execution_count": null,
      "metadata": {
        "id": "KfTW_fMeWq3e"
      },
      "outputs": [],
      "source": [
        "REPO_NAME = \"loan-eligiability-spark-demo\""
      ]
    },
    {
      "cell_type": "code",
      "execution_count": null,
      "metadata": {
        "id": "oyXCqeEPT-Cu"
      },
      "outputs": [],
      "source": [
        "!gcloud artifacts repositories create $REPO_NAME \\\n",
        "    --repository-format=docker \\\n",
        "    --location=$REGION \\\n",
        "    --description=\"loan eligibility spark docker repository\""
      ]
    },
    {
      "cell_type": "markdown",
      "metadata": {
        "id": "mBwfdPM7M5X7"
      },
      "source": [
        "### Load preprocessing data\n",
        "\n",
        "The notebook uses a preprocessed set of data you would read from the Vertex AI Feature Store. "
      ]
    },
    {
      "cell_type": "code",
      "execution_count": null,
      "metadata": {
        "id": "xmapX5-cNaWV"
      },
      "outputs": [],
      "source": [
        "PUBLIC_DATA_URI = \"gs://cloud-samples-data/vertex-ai/dataset-management/datasets/loan_eligibilty/data.csv\"\n",
        "FEATURES_TRAIN_URI = f\"{BUCKET_URI}/data/features/snapshots/{TIMESTAMP}\""
      ]
    },
    {
      "cell_type": "code",
      "execution_count": null,
      "metadata": {
        "id": "cXOVFB03NZMp"
      },
      "outputs": [],
      "source": [
        "!gsutil cp -r $PUBLIC_DATA_URI $FEATURES_TRAIN_URI"
      ]
    },
    {
      "cell_type": "markdown",
      "metadata": {
        "id": "XoEqT2Y4DJmf"
      },
      "source": [
        "### Import libraries"
      ]
    },
    {
      "cell_type": "code",
      "execution_count": null,
      "metadata": {
        "id": "pRUOFELefqf1"
      },
      "outputs": [],
      "source": [
        "# General\n",
        "import random\n",
        "from pathlib import Path as path\n",
        "from typing import NamedTuple\n",
        "\n",
        "import tensorflow as tf\n",
        "# ML Training\n",
        "from google.cloud import aiplatform as vertex_ai\n",
        "from google.cloud import aiplatform_v1beta1 as vertex_ai_beta\n",
        "from google_cloud_pipeline_components import aiplatform as vertex_ai_components\n",
        "from kfp.v2 import compiler, dsl\n",
        "from kfp.v2.dsl import (Artifact, ClassificationMetrics, Condition, Input,\n",
        "                        Metrics, Output, component)"
      ]
    },
    {
      "cell_type": "markdown",
      "metadata": {
        "id": "NJkQyPAZte1b"
      },
      "source": [
        "### Set variables"
      ]
    },
    {
      "cell_type": "code",
      "execution_count": null,
      "metadata": {
        "id": "Fs3iBZoWthLt"
      },
      "outputs": [],
      "source": [
        "ID = random.randint(1, 10000)"
      ]
    },
    {
      "cell_type": "code",
      "execution_count": null,
      "metadata": {
        "id": "M6GKTtp2tnHj"
      },
      "outputs": [],
      "source": [
        "# Setup\n",
        "SPARK_VERSION = \"3.1.2\"\n",
        "SRC = path(\"src\")\n",
        "BUILD_PATH = path(\"build\")\n",
        "DELIVERABLES = path(\"deliverables\")\n",
        "DATA_PATH = path(\"data\")\n",
        "RUNTIME_IMAGE = \"dataproc_serverless_custom_runtime\"\n",
        "IMAGE_TAG = \"1.0.0\"\n",
        "\n",
        "# Pipeline\n",
        "PIPELINE_NAME = \"pyspark-loan-eligiability-pipeline\"\n",
        "PIPELINE_ROOT = f\"{BUCKET_URI}/pipelines\"\n",
        "PIPELINE_PACKAGE_PATH = str(BUILD_PATH / f\"pipeline_{TIMESTAMP}.json\")\n",
        "RUNTIME_CONTAINER_IMAGE = f\"gcr.io/{PROJECT_ID}/{RUNTIME_IMAGE}:{IMAGE_TAG}\"\n",
        "ML_APPLICATION = \"spark\"\n",
        "TASK = \"classifier\"\n",
        "MODEL_TYPE = \"rfor\"\n",
        "VERSION = \"1.0.0\"\n",
        "MODEL_NAME = f\"{ML_APPLICATION}-{TASK}-{MODEL_TYPE}-{VERSION}\"\n",
        "\n",
        "# Preprocessing\n",
        "PREPROCESSING_BATCH_ID = f\"data-preprocessing-{ID}\"\n",
        "PREPROCESSING_PYTHON_FILE_URI = f\"{BUCKET_URI}/src/data_preprocessing.py\"\n",
        "PROCESSED_DATA_URI = f\"{BUCKET_URI}/data/processed\"\n",
        "PREPROCESSING_ARGS = [\n",
        "    \"--train-data-path\",\n",
        "    FEATURES_TRAIN_URI,\n",
        "    \"--out-process-path\",\n",
        "    PROCESSED_DATA_URI,\n",
        "]\n",
        "\n",
        "# Dataset\n",
        "DATASET_NAME = f\"preprocessed-dataset-{ID}\"\n",
        "GCS_PREPROCESSED_URI = f\"{PROCESSED_DATA_URI}/*/?.csv\"\n",
        "\n",
        "# Training\n",
        "TRAINING_BATCH_ID = f\"model-training-{ID}\"\n",
        "TRAINING_PYTHON_FILE_URI = f\"{BUCKET_URI}/src/model_training.py\"\n",
        "MODEL_URI = f\"{BUCKET_URI}/deliverables/model/rfor/{TIMESTAMP}/train_model\"\n",
        "METRICS_URI = f\"{BUCKET_URI}/deliverables/metrics/rfor/{TIMESTAMP}/train_metrics.json\"\n",
        "TRAINING_ARGS = [\n",
        "    \"--train-path\",\n",
        "    PROCESSED_DATA_URI,\n",
        "    \"--model-path\",\n",
        "    MODEL_URI,\n",
        "    \"--metrics-path\",\n",
        "    METRICS_URI,\n",
        "]\n",
        "\n",
        "# Condition\n",
        "AUPR_THRESHOLD = 0.5\n",
        "AUPR_HYPERTUNE_CONDITION = \"[AUPR_HYPERTUNE]\"\n",
        "\n",
        "# Hypertuning\n",
        "HPT_TRAINING_BATCH_ID = f\"hyper-tuning-{ID}\"\n",
        "HPT_PYTHON_FILE_URI = f\"{BUCKET_URI}/src/hp_tuning.py\"\n",
        "HPT_MODEL_URI = f\"{BUCKET_URI}/deliverables/model/rfor/{TIMESTAMP}/model\"\n",
        "HPT_METRICS_URI = f\"{BUCKET_URI}/deliverables/metrics/rfor/{TIMESTAMP}/metrics.json\"\n",
        "HPT_ARGS = [\n",
        "    \"--train-path\",\n",
        "    PROCESSED_DATA_URI,\n",
        "    \"--model-path\",\n",
        "    HPT_MODEL_URI,\n",
        "    \"--metrics-path\",\n",
        "    HPT_METRICS_URI,\n",
        "]"
      ]
    },
    {
      "cell_type": "markdown",
      "metadata": {
        "id": "init_aip:mbsdk,all"
      },
      "source": [
        "### Initialize Vertex AI SDK for Python\n",
        "\n",
        "Initialize the Vertex AI SDK for Python for your project and corresponding bucket."
      ]
    },
    {
      "cell_type": "code",
      "execution_count": null,
      "metadata": {
        "id": "OxHPVcwnodJv"
      },
      "outputs": [],
      "source": [
        "vertex_ai.init(project=PROJECT_ID, location=REGION, staging_bucket=BUCKET_URI)"
      ]
    },
    {
      "cell_type": "markdown",
      "metadata": {
        "id": "aip_constants:fs"
      },
      "source": [
        "### Vertex AI constants\n",
        "\n",
        "Setup up the following constants for Vertex AI:\n",
        "\n",
        "- `API_ENDPOINT`: The Vertex AI API service endpoint for `ML Metadata` services."
      ]
    },
    {
      "cell_type": "code",
      "execution_count": null,
      "metadata": {
        "id": "ZdwqOEeYDjMP"
      },
      "outputs": [],
      "source": [
        "# API service endpoint\n",
        "API_ENDPOINT = \"{}-aiplatform.googleapis.com\".format(REGION)\n",
        "\n",
        "# Vertex location root path for your dataset, model and endpoint resources\n",
        "PARENT = \"projects/\" + PROJECT_ID + \"/locations/\" + REGION"
      ]
    },
    {
      "cell_type": "markdown",
      "metadata": {
        "id": "clients:metadata"
      },
      "source": [
        "### Set up clients\n",
        "\n",
        "The Vertex  works as a client/server model. On your side (the Python script) you will create a client that sends requests and receives responses from the Vertex AI server.\n",
        "\n",
        "You will use different clients in this tutorial for different steps in the workflow. So set them all up upfront.\n",
        "\n",
        "- Metadata Service for creating recording, searching and analyzing artifacts and metadata."
      ]
    },
    {
      "cell_type": "code",
      "execution_count": null,
      "metadata": {
        "id": "nRhtmw-HDjMP"
      },
      "outputs": [],
      "source": [
        "# client options same for all services\n",
        "client_options = {\"api_endpoint\": API_ENDPOINT}\n",
        "\n",
        "\n",
        "def create_metadata_client():\n",
        "    client = vertex_ai_beta.MetadataServiceClient(client_options=client_options)\n",
        "    return client\n",
        "\n",
        "\n",
        "clients = {}\n",
        "clients[\"metadata\"] = create_metadata_client()\n",
        "\n",
        "for client in clients.items():\n",
        "    print(client)"
      ]
    },
    {
      "cell_type": "markdown",
      "metadata": {
        "id": "LB2aM7VyRyZG"
      },
      "source": [
        "## PART I - Build the Vertex Pipeline to train and deploy a Spark model\n",
        "\n",
        "In this case, the ML pipeline will have the following steps:\n",
        "\n",
        "1.   Impute categorical and numerical variables with `DataprocPySparkBatchOp`\n",
        "2.   Train an `RandomForestClassifier` with `DataprocPySparkBatchOp`\n",
        "3.   Run a custom component in order to evaluate the model\n",
        "\n",
        "If the model respects the performance condition, then\n",
        "\n",
        "4.   Hypertune the `RandomForestClassifier` with `DataprocPySparkBatchOp`\n",
        "5.   Register the model in the Vertex AI Model Registry\n"
      ]
    },
    {
      "cell_type": "markdown",
      "metadata": {
        "id": "_PnJIvsjWOcn"
      },
      "source": [
        "### Upload source code\n",
        "\n",
        "In order to use the `DataprocPySparkBatchOp`, you need to upload the code to the cloud bucket."
      ]
    },
    {
      "cell_type": "code",
      "execution_count": null,
      "metadata": {
        "id": "PhrUpIqTWTD3"
      },
      "outputs": [],
      "source": [
        "!gsutil cp $SRC/__init__.py $BUCKET_URI/src/__init__.py\n",
        "!gsutil cp $SRC/data_preprocessing.py $BUCKET_URI/src/data_preprocessing.py\n",
        "!gsutil cp $SRC/model_training.py $BUCKET_URI/src/model_training.py\n",
        "!gsutil cp $SRC/hp_tuning.py $BUCKET_URI/src/hp_tuning.py"
      ]
    },
    {
      "cell_type": "markdown",
      "metadata": {
        "id": "68nYBB5GS9TB"
      },
      "source": [
        "### Build a custom dataproc serverless image\n",
        "\n",
        "The `DataprocPySparkBatchOp` allows you to pass custom image you would like to use when the [provided Dataproc Serverless runtime versions](https://cloud.google.com/dataproc-serverless/docs/concepts/versions/spark-runtime-versions) does not respect your requirements. \n",
        "\n",
        "**Notice** that this step is generally optional. And we include it in this case for general awareness."
      ]
    },
    {
      "cell_type": "markdown",
      "metadata": {
        "id": "GF9_5IGYqLAX"
      },
      "source": [
        "#### Define the Dataproc serverless custom runtime image"
      ]
    },
    {
      "cell_type": "code",
      "execution_count": null,
      "metadata": {
        "id": "QgdLY9lpYkum"
      },
      "outputs": [],
      "source": [
        "!mkdir -m 777 -p $BUILD_PATH"
      ]
    },
    {
      "cell_type": "code",
      "execution_count": null,
      "metadata": {
        "id": "nWiGHdEibCcv"
      },
      "outputs": [],
      "source": [
        "dataproc_serverless_custom_runtime_image = \"\"\"\n",
        "# Debian 11 is recommended.\n",
        "FROM debian:11-slim\n",
        "\n",
        "# Suppress interactive prompts\n",
        "ENV DEBIAN_FRONTEND=noninteractive\n",
        "\n",
        "# (Required) Install utilities required by Spark scripts.\n",
        "RUN apt update && apt install -y procps tini\n",
        "\n",
        "# (Optional) Add extra jars.\n",
        "ENV SPARK_EXTRA_JARS_DIR=/opt/spark/jars/\n",
        "ENV SPARK_EXTRA_CLASSPATH='/opt/spark/jars/*'\n",
        "RUN mkdir -p \"${SPARK_EXTRA_JARS_DIR}\"\n",
        "COPY spark-bigquery-with-dependencies_2.12-0.22.2.jar \"${SPARK_EXTRA_JARS_DIR}\"\n",
        "\n",
        "# (Optional) Install and configure Miniconda3.\n",
        "ENV CONDA_HOME=/opt/miniconda3\n",
        "ENV PYSPARK_PYTHON=${CONDA_HOME}/bin/python\n",
        "ENV PATH=${CONDA_HOME}/bin:${PATH}\n",
        "COPY Miniconda3-py39_4.10.3-Linux-x86_64.sh .\n",
        "RUN bash Miniconda3-py39_4.10.3-Linux-x86_64.sh -b -p /opt/miniconda3 \\\n",
        "  && ${CONDA_HOME}/bin/conda config --system --set always_yes True \\\n",
        "  && ${CONDA_HOME}/bin/conda config --system --set auto_update_conda False \\\n",
        "  && ${CONDA_HOME}/bin/conda config --system --prepend channels conda-forge \\\n",
        "  && ${CONDA_HOME}/bin/conda config --system --set channel_priority strict\n",
        "\n",
        "# (Optional) Install Conda packages.\n",
        "#\n",
        "# The following packages are installed in the default image, it is strongly\n",
        "# recommended to include all of them.\n",
        "#\n",
        "# Use mamba to install packages quickly.\n",
        "RUN ${CONDA_HOME}/bin/conda install mamba -n base -c conda-forge \\\n",
        "    && ${CONDA_HOME}/bin/mamba install \\\n",
        "      conda \\\n",
        "      cython \\\n",
        "      fastavro \\\n",
        "      fastparquet \\\n",
        "      gcsfs \\\n",
        "      google-cloud-bigquery-storage \\\n",
        "      google-cloud-bigquery[pandas] \\\n",
        "      google-cloud-dataproc \\\n",
        "      numpy \\\n",
        "      pandas \\\n",
        "      python \\\n",
        "      scikit-image \\\n",
        "      scikit-learn \\\n",
        "      scipy \\\n",
        "      mleap \n",
        "\n",
        "# (Required) Create the 'spark' group/user.\n",
        "# The GID and UID must be 1099. Home directory is required.\n",
        "RUN groupadd -g 1099 spark\n",
        "RUN useradd -u 1099 -g 1099 -d /home/spark -m spark\n",
        "USER spark\n",
        "\"\"\"\n",
        "\n",
        "with open(BUILD_PATH / \"Dockerfile\", \"w\") as f:\n",
        "    f.write(dataproc_serverless_custom_runtime_image)\n",
        "f.close()"
      ]
    },
    {
      "cell_type": "markdown",
      "metadata": {
        "id": "C8DsE4wHqI7B"
      },
      "source": [
        "#### Download the `spark-bigquery-with-dependencies` "
      ]
    },
    {
      "cell_type": "code",
      "execution_count": null,
      "metadata": {
        "id": "4N8m-K1ldt11"
      },
      "outputs": [],
      "source": [
        "!gsutil cp gs://spark-lib/bigquery/spark-bigquery-with-dependencies_2.12-0.22.2.jar $BUILD_PATH\n",
        "!wget -P $BUILD_PATH https://repo.anaconda.com/miniconda/Miniconda3-py39_4.10.3-Linux-x86_64.sh"
      ]
    },
    {
      "cell_type": "markdown",
      "metadata": {
        "id": "ZXzI2xInqb3V"
      },
      "source": [
        "#### Build the Dataproc serverless custom runtime using Google Cloud Build"
      ]
    },
    {
      "cell_type": "code",
      "execution_count": null,
      "metadata": {
        "id": "RnpRqGrFkPaH"
      },
      "outputs": [],
      "source": [
        "!gcloud builds submit --tag $RUNTIME_CONTAINER_IMAGE $BUILD_PATH --machine-type=N1_HIGHCPU_32 --timeout=900s --verbosity=info "
      ]
    },
    {
      "cell_type": "markdown",
      "metadata": {
        "id": "YhMe6FXw1Ku9"
      },
      "source": [
        "### Build custom components for pipeline arguments\n",
        "\n",
        "In order to pass job arguments, we decide to create some custom components for each step of the pipeline. Also we create a `register_model` component in order to register the PySpark model in Vertex AI Metadata. "
      ]
    },
    {
      "cell_type": "markdown",
      "metadata": {
        "id": "sSzUGhjq1SrR"
      },
      "source": [
        "#### Data preprocessing custom component"
      ]
    },
    {
      "cell_type": "code",
      "execution_count": null,
      "metadata": {
        "id": "DZDfkJKJPehg"
      },
      "outputs": [],
      "source": [
        "@component(base_image=\"python:3.8-slim\")\n",
        "def build_preprocessing_args(train_data_path: str, processed_data_path: str) -> list:\n",
        "    return [\n",
        "        \"--train-data-path\",\n",
        "        train_data_path,\n",
        "        \"--out-process-path\",\n",
        "        processed_data_path,\n",
        "    ]"
      ]
    },
    {
      "cell_type": "markdown",
      "metadata": {
        "id": "jAK7Coju1XOp"
      },
      "source": [
        "#### Model Training custom component"
      ]
    },
    {
      "cell_type": "code",
      "execution_count": null,
      "metadata": {
        "id": "y6wxBk12QvXT"
      },
      "outputs": [],
      "source": [
        "@component(base_image=\"python:3.8-slim\")\n",
        "def build_training_args(\n",
        "    dataset_uri: Input[Artifact], train_path: str, model_path: str, metrics_path: str\n",
        ") -> list:\n",
        "    return [\n",
        "        \"--train-path\",\n",
        "        train_path,\n",
        "        \"--model-path\",\n",
        "        model_path,\n",
        "        \"--metrics-path\",\n",
        "        metrics_path,\n",
        "    ]"
      ]
    },
    {
      "cell_type": "markdown",
      "metadata": {
        "id": "5VesQlnEm4qR"
      },
      "source": [
        "#### Model Evaluation custom component"
      ]
    },
    {
      "cell_type": "code",
      "execution_count": null,
      "metadata": {
        "id": "sU2ScYvnpnkE"
      },
      "outputs": [],
      "source": [
        "@component(\n",
        "    base_image=\"python:3.8\",\n",
        "    packages_to_install=[\"numpy==1.21.2\", \"pandas==1.3.3\", \"scikit-learn==0.24.2\"],\n",
        ")\n",
        "def evaluate_model(\n",
        "    metrics_uri: str,\n",
        "    metrics: Output[Metrics],\n",
        "    plots: Output[ClassificationMetrics],\n",
        ") -> NamedTuple(\"Outputs\", [(\"threshold_metric\", float)]):\n",
        "\n",
        "    # Libraries --------------------------------------------------------------------------------------------------------------------------\n",
        "    import json\n",
        "\n",
        "    import numpy as np\n",
        "    from sklearn.metrics import confusion_matrix, roc_curve\n",
        "\n",
        "    # Variables --------------------------------------------------------------------------------------------------------------------------\n",
        "    metrics_path = metrics_uri.replace(\"gs://\", \"/gcs/\")\n",
        "    labels = [\"not eligiable\", \"eligiable\"]\n",
        "\n",
        "    # Helpers --------------------------------------------------------------------------------------------------------------------------\n",
        "    def calculate_roc(metrics, true, score):\n",
        "        y_true_np = np.array(metrics[true])\n",
        "        y_score_np = np.array(metrics[score])\n",
        "        fpr, tpr, thresholds = roc_curve(\n",
        "            y_true=y_true_np, y_score=y_score_np, pos_label=True\n",
        "        )\n",
        "        return fpr, tpr, thresholds\n",
        "\n",
        "    def calculate_confusion_matrix(metrics, true, prediction):\n",
        "        y_true_np = np.array(metrics[true])\n",
        "        y_pred_np = np.array(metrics[prediction])\n",
        "        c_matrix = confusion_matrix(y_true_np, y_pred_np)\n",
        "        return c_matrix\n",
        "\n",
        "    # Main -------------------------------------------------------------------------------------------------------------------------------\n",
        "    with open(metrics_path, mode=\"r\") as json_file:\n",
        "        metrics_dict = json.load(json_file)\n",
        "\n",
        "    area_roc = metrics_dict[\"test_area_roc\"]\n",
        "    area_prc = metrics_dict[\"test_area_prc\"]\n",
        "    acc = metrics_dict[\"test_accuracy\"]\n",
        "    f1 = metrics_dict[\"test_f1\"]\n",
        "    prec = metrics_dict[\"test_precision\"]\n",
        "    rec = metrics_dict[\"test_recall\"]\n",
        "\n",
        "    metrics.log_metric(\"Test_areaUnderROC\", area_roc)\n",
        "    metrics.log_metric(\"Test_areaUnderPRC\", area_prc)\n",
        "    metrics.log_metric(\"Test_Accuracy\", acc)\n",
        "    metrics.log_metric(\"Test_f1-score\", f1)\n",
        "    metrics.log_metric(\"Test_Precision\", prec)\n",
        "    metrics.log_metric(\"Test_Recall\", rec)\n",
        "\n",
        "    fpr, tpr, thresholds = calculate_roc(metrics_dict, \"true\", \"score\")\n",
        "    c_matrix = calculate_confusion_matrix(metrics_dict, \"true\", \"prediction\")\n",
        "    plots.log_roc_curve(fpr.tolist(), tpr.tolist(), thresholds.tolist())\n",
        "    plots.log_confusion_matrix(labels, c_matrix.tolist())\n",
        "\n",
        "    component_outputs = NamedTuple(\n",
        "        \"Outputs\",\n",
        "        [\n",
        "            (\"threshold_metric\", float),\n",
        "        ],\n",
        "    )\n",
        "\n",
        "    return component_outputs(area_prc)"
      ]
    },
    {
      "cell_type": "markdown",
      "metadata": {
        "id": "1-Ccx4uLDz4N"
      },
      "source": [
        "#### Model registration custom component"
      ]
    },
    {
      "cell_type": "code",
      "execution_count": null,
      "metadata": {
        "id": "X4ZFmAe7D0M0"
      },
      "outputs": [],
      "source": [
        "# TODO: Build a custom compiler using Spark docker image to compile the Mleap bundle\n",
        "\n",
        "\n",
        "@component(base_image=\"python:3.8-slim\")\n",
        "def register_model(\n",
        "    artifact_uri: str,\n",
        "    model: Output[Artifact],\n",
        ") -> NamedTuple(\"Outputs\", [(\"uri\", str)]):\n",
        "\n",
        "    component_outputs = NamedTuple(\n",
        "        \"Outputs\",\n",
        "        [\n",
        "            (\"uri\", str),\n",
        "        ],\n",
        "    )\n",
        "    return component_outputs(artifact_uri)"
      ]
    },
    {
      "cell_type": "markdown",
      "metadata": {
        "id": "wQd9M1_9bif7"
      },
      "source": [
        "### Define your workflow using Kubeflow Pipelines DSL package\n",
        "\n",
        "Below you use the kfp.dsl package to build our pipeline. \n"
      ]
    },
    {
      "cell_type": "code",
      "execution_count": null,
      "metadata": {
        "id": "yX2u9hXDWtpp"
      },
      "outputs": [],
      "source": [
        "@dsl.pipeline(name=PIPELINE_NAME, description=\"A pipeline to train a PySpark model.\")\n",
        "def pipeline(\n",
        "    preprocessing_batch_id: str = PREPROCESSING_BATCH_ID,\n",
        "    preprocessing_main_python_file_uri: str = PREPROCESSING_PYTHON_FILE_URI,\n",
        "    train_data_path: str = FEATURES_TRAIN_URI,\n",
        "    preprocessed_data_path: str = PROCESSED_DATA_URI,\n",
        "    dataset_name: str = DATASET_NAME,\n",
        "    dataset_uri: str = GCS_PREPROCESSED_URI,\n",
        "    training_batch_id: str = TRAINING_BATCH_ID,\n",
        "    training_main_python_file_uri: str = TRAINING_PYTHON_FILE_URI,\n",
        "    train_path: str = PROCESSED_DATA_URI,\n",
        "    model_path: str = MODEL_URI,\n",
        "    metrics_path: str = METRICS_URI,\n",
        "    threshold: float = AUPR_THRESHOLD,\n",
        "    hpt_batch_id: str = HPT_TRAINING_BATCH_ID,\n",
        "    hpt_main_python_file_uri: str = HPT_PYTHON_FILE_URI,\n",
        "    hpt_model_path: str = HPT_MODEL_URI,\n",
        "    hpt_metrics_path: str = HPT_METRICS_URI,\n",
        "    custom_container_image: str = RUNTIME_CONTAINER_IMAGE,\n",
        "    model_name: str = MODEL_NAME,\n",
        "    project_id: str = PROJECT_ID,\n",
        "    location: str = REGION,\n",
        "):\n",
        "\n",
        "    from google_cloud_pipeline_components.experimental.dataproc import \\\n",
        "        DataprocPySparkBatchOp\n",
        "\n",
        "    # build preprocessed data args\n",
        "    build_preprocessing_args_op = build_preprocessing_args(\n",
        "        train_data_path=train_data_path, processed_data_path=preprocessed_data_path\n",
        "    ).set_display_name(\"Set preprocessing args\")\n",
        "\n",
        "    # preprocess data\n",
        "    data_preprocessing_op = (\n",
        "        DataprocPySparkBatchOp(\n",
        "            project=project_id,\n",
        "            location=location,\n",
        "            container_image=custom_container_image,\n",
        "            batch_id=preprocessing_batch_id,\n",
        "            main_python_file_uri=preprocessing_main_python_file_uri,\n",
        "            args=build_preprocessing_args_op.output,\n",
        "        )\n",
        "        .after(build_preprocessing_args_op)\n",
        "        .set_display_name(\"Preprocess data\")\n",
        "    )\n",
        "\n",
        "    # create dataset\n",
        "    create_dataset_op = (\n",
        "        vertex_ai_components.TabularDatasetCreateOp(\n",
        "            display_name=dataset_name,\n",
        "            gcs_source=dataset_uri,\n",
        "            project=project_id,\n",
        "            location=location,\n",
        "        )\n",
        "        .after(data_preprocessing_op)\n",
        "        .set_display_name(\"Create dataset\")\n",
        "    )\n",
        "\n",
        "    # build training data args\n",
        "    build_training_args_op = (\n",
        "        build_training_args(\n",
        "            dataset_uri=create_dataset_op.output,\n",
        "            train_path=train_path,\n",
        "            model_path=model_path,\n",
        "            metrics_path=metrics_path,\n",
        "        )\n",
        "        .after(create_dataset_op)\n",
        "        .set_display_name(\"Set training args\")\n",
        "    )\n",
        "\n",
        "    # training model\n",
        "    model_traning_op = (\n",
        "        DataprocPySparkBatchOp(\n",
        "            project=project_id,\n",
        "            location=location,\n",
        "            container_image=custom_container_image,\n",
        "            batch_id=training_batch_id,\n",
        "            main_python_file_uri=training_main_python_file_uri,\n",
        "            args=build_training_args_op.output,\n",
        "        )\n",
        "        .after(build_training_args_op)\n",
        "        .set_display_name(\"Train Spark MLlib model\")\n",
        "    )\n",
        "\n",
        "    evaluate_model_op = (\n",
        "        evaluate_model(metrics_uri=metrics_path)\n",
        "        .after(model_traning_op)\n",
        "        .set_display_name(\"Evaluate model\")\n",
        "    )\n",
        "\n",
        "    # evaluate condition\n",
        "    with Condition(\n",
        "        evaluate_model_op.outputs[\"threshold_metric\"] >= threshold,\n",
        "        name=AUPR_HYPERTUNE_CONDITION,\n",
        "    ):\n",
        "\n",
        "        build_hpt_args_op = (\n",
        "            build_training_args(\n",
        "                dataset_uri=create_dataset_op.output,\n",
        "                train_path=train_path,\n",
        "                model_path=hpt_model_path,\n",
        "                metrics_path=hpt_metrics_path,\n",
        "            )\n",
        "            .after(evaluate_model_op)\n",
        "            .set_display_name(\"Set hyperparameter tuning args\")\n",
        "        )\n",
        "\n",
        "        # hyperparameter tuning\n",
        "        hyperparameter_tuning_op = (\n",
        "            DataprocPySparkBatchOp(\n",
        "                project=project_id,\n",
        "                location=location,\n",
        "                container_image=custom_container_image,\n",
        "                batch_id=hpt_batch_id,\n",
        "                main_python_file_uri=hpt_main_python_file_uri,\n",
        "                args=build_hpt_args_op.output,\n",
        "            )\n",
        "            .after(model_traning_op)\n",
        "            .set_display_name(\"Tune Spark MLlib model\")\n",
        "        )\n",
        "\n",
        "        # upload model\n",
        "        _ = (\n",
        "            register_model(artifact_uri=hpt_model_path)\n",
        "            .after(hyperparameter_tuning_op)\n",
        "            .set_display_name(\"Register model\")\n",
        "        )"
      ]
    },
    {
      "cell_type": "markdown",
      "metadata": {
        "id": "s4ePytY8t3bu"
      },
      "source": [
        "### Compile your pipeline into a JSON file\n",
        "\n",
        "Now that you define the workflow of your pipeline, you compile the pipeline into a JSON format."
      ]
    },
    {
      "cell_type": "code",
      "execution_count": null,
      "metadata": {
        "id": "uFyCaNPIWtsU"
      },
      "outputs": [],
      "source": [
        "compiler.Compiler().compile(pipeline_func=pipeline, package_path=PIPELINE_PACKAGE_PATH)"
      ]
    },
    {
      "cell_type": "markdown",
      "metadata": {
        "id": "Zq26zYhQb0qm"
      },
      "source": [
        "### Submit your pipeline run\n",
        "\n",
        "Finally, you use the Vertex AI Python SDK to submit and run your pipeline.\n",
        "\n",
        "It takes the following parameters which we set as default:\n",
        "\n",
        "- `preprocessing_batch_id`: The ID of preprocessing batch job.\n",
        "- `preprocessing_main_python_file_uri` : The bucket URI of the preprocessing python file.\n",
        "- `train_data_path` : The bucket path of the raw data.\n",
        "- `preprocessed_data_path` : The bucket URI of the preprocessed data.\n",
        "- `dataset_name`: The Vertex AI Dataset name.\n",
        "- `dataset_uri` : The bucket URI of the preprocessed data.\n",
        "- `training_batch_id` : The ID of training batch job.\n",
        "- `training_main_python_file_uri` : The bucket URI of the training python file.\n",
        "- `train_path` : The bucket URI of the training data.\n",
        "- `model_path` : The bucket URI of the trained model.\n",
        "- `metrics_path`: The bucket URI of the training metrics.\n",
        "- `threshold`: The value of the metric threshold.\n",
        "- `hpt_batch_id` : The ID of hyperparameter tuning batch job.\n",
        "- `hpt_main_python_file_uri` : The bucket URI of the hypertuning python file.\n",
        "- `hpt_model_path` : The bucket URI of the trained model.\n",
        "- `custom_container_image` : The name of the custom container.\n",
        "- `model_name` : The name of the trained model.\n",
        "- `project_id` : The project ID.\n",
        "- `location` : The location."
      ]
    },
    {
      "cell_type": "code",
      "execution_count": null,
      "metadata": {
        "id": "hwzYIoEabwRx"
      },
      "outputs": [],
      "source": [
        "pipeline = vertex_ai.PipelineJob(\n",
        "    display_name=PIPELINE_NAME,\n",
        "    template_path=PIPELINE_PACKAGE_PATH,\n",
        "    pipeline_root=PIPELINE_ROOT,\n",
        "    enable_caching=False,  # True\n",
        ")\n",
        "\n",
        "pipeline.submit()"
      ]
    },
    {
      "cell_type": "markdown",
      "metadata": {
        "id": "dKgPkm4cgbHd"
      },
      "source": [
        "### View Dataproc serverless ML training pipeline results\n",
        "\n",
        "Finally, you will view the artifact outputs of each task in the pipeline."
      ]
    },
    {
      "cell_type": "code",
      "execution_count": null,
      "metadata": {
        "id": "apGt59bCgbHd"
      },
      "outputs": [],
      "source": [
        "PROJECT_NUMBER = pipeline.gca_resource.name.split(\"/\")[1]\n",
        "print(\"PROJECT NUMBER: \", PROJECT_NUMBER)\n",
        "print(\"\\n\\n\")\n",
        "\n",
        "\n",
        "def print_pipeline_output(job, output_task_name):\n",
        "    JOB_ID = job.name\n",
        "    print(JOB_ID)\n",
        "    for _ in range(len(job.gca_resource.job_detail.task_details)):\n",
        "        TASK_ID = job.gca_resource.job_detail.task_details[_].task_id\n",
        "        EXECUTE_OUTPUT = (\n",
        "            PIPELINE_ROOT\n",
        "            + \"/\"\n",
        "            + PROJECT_NUMBER\n",
        "            + \"/\"\n",
        "            + JOB_ID\n",
        "            + \"/\"\n",
        "            + output_task_name\n",
        "            + \"_\"\n",
        "            + str(TASK_ID)\n",
        "            + \"/executor_output.json\"\n",
        "        )\n",
        "        GCP_RESOURCES = (\n",
        "            PIPELINE_ROOT\n",
        "            + \"/\"\n",
        "            + PROJECT_NUMBER\n",
        "            + \"/\"\n",
        "            + JOB_ID\n",
        "            + \"/\"\n",
        "            + output_task_name\n",
        "            + \"_\"\n",
        "            + str(TASK_ID)\n",
        "            + \"/gcp_resources\"\n",
        "        )\n",
        "        EVAL_METRICS = (\n",
        "            PIPELINE_ROOT\n",
        "            + \"/\"\n",
        "            + PROJECT_NUMBER\n",
        "            + \"/\"\n",
        "            + JOB_ID\n",
        "            + \"/\"\n",
        "            + output_task_name\n",
        "            + \"_\"\n",
        "            + str(TASK_ID)\n",
        "            + \"/evaluation_metrics\"\n",
        "        )\n",
        "        if tf.io.gfile.exists(EXECUTE_OUTPUT):\n",
        "            ! gsutil cat $EXECUTE_OUTPUT\n",
        "            return EXECUTE_OUTPUT\n",
        "        elif tf.io.gfile.exists(GCP_RESOURCES):\n",
        "            ! gsutil cat $GCP_RESOURCES\n",
        "            return GCP_RESOURCES\n",
        "        elif tf.io.gfile.exists(EVAL_METRICS):\n",
        "            ! gsutil cat $EVAL_METRICS\n",
        "            return EVAL_METRICS\n",
        "\n",
        "    return None\n",
        "\n",
        "\n",
        "print(\"dataproc-create-pyspark-batch\")\n",
        "artifacts = print_pipeline_output(pipeline, \"dataproc-create-pyspark-batch\")\n",
        "print(\"\\n\\n\")\n",
        "print(\"dataproc-create-pyspark-batch-2\")\n",
        "artifacts = print_pipeline_output(pipeline, \"dataproc-create-pyspark-batch-2\")\n",
        "print(\"\\n\\n\")\n",
        "print(\"dataproc-create-pyspark-batch-3\")\n",
        "artifacts = print_pipeline_output(pipeline, \"dataproc-create-pyspark-batch-3\")\n",
        "print(\"\\n\\n\")"
      ]
    },
    {
      "cell_type": "markdown",
      "metadata": {
        "id": "5JeT8liWzQtK"
      },
      "source": [
        "## Cleaning up\n",
        "\n",
        "To clean up all Google Cloud resources used in this project, you can [delete the Google Cloud\n",
        "project](https://cloud.google.com/resource-manager/docs/creating-managing-projects#shutting_down_projects) you used for the tutorial.\n",
        "\n",
        "Otherwise, you can delete the individual resources you created in this tutorial with the following code."
      ]
    },
    {
      "cell_type": "code",
      "execution_count": null,
      "metadata": {
        "id": "DP-UGYgtEyrp"
      },
      "outputs": [],
      "source": [
        "# Delete artifacts\n",
        "metadata_store_id = f\"projects/{PROJECT_ID}/locations/{REGION}/metadataStores/default\"\n",
        "now = datetime.now().isoformat().replace(\".\", \":\")[:-7]\n",
        "filter = f'create_time <= \"{now}\"'\n",
        "artifact_req = {\n",
        "    \"parent\": metadata_store_id,\n",
        "    \"filter\": filter,\n",
        "}\n",
        "\n",
        "result = clients[\"metadata\"].purge_artifacts(artifact_req)"
      ]
    },
    {
      "cell_type": "code",
      "execution_count": null,
      "metadata": {
        "id": "UovhFyLeelQe"
      },
      "outputs": [],
      "source": [
        "# Delete dataset\n",
        "dataset_list = vertex_ai.TabularDataset.list()\n",
        "dataset_resource_name = dataset_list[-1].resource_name\n",
        "dataset = vertex_ai.TabularDataset(dataset_resource_name)\n",
        "dataset.delete()"
      ]
    },
    {
      "cell_type": "code",
      "execution_count": null,
      "metadata": {
        "id": "iG0kpR6LJIY-"
      },
      "outputs": [],
      "source": [
        "# delete pipeline\n",
        "pipeline.delete()"
      ]
    },
    {
      "cell_type": "code",
      "execution_count": null,
      "metadata": {
        "id": "34LdVr2IxtrH"
      },
      "outputs": [],
      "source": [
        "! gcloud artifacts repositories delete $REPO_NAME --location=$REGION --quiet"
      ]
    },
    {
      "cell_type": "code",
      "execution_count": null,
      "metadata": {
        "id": "ixrYA0hEzQtK"
      },
      "outputs": [],
      "source": [
        "! gsutil -m rm -r $BUCKET_URI"
      ]
    }
  ],
  "metadata": {
    "colab": {
      "collapsed_sections": [],
      "name": "google_cloud_pipeline_components_dataproc_tabular.ipynb",
      "toc_visible": true
    },
    "kernelspec": {
      "display_name": "Python 3",
      "name": "python3"
    }
  },
  "nbformat": 4,
  "nbformat_minor": 0
}
