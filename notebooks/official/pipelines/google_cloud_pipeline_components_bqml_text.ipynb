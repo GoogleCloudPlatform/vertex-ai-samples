{
  "cells": [
    {
      "cell_type": "code",
      "execution_count": null,
      "metadata": {
        "id": "ur8xi4C7S06n"
      },
      "outputs": [],
      "source": [
        "# Copyright 2022 Google LLC\n",
        "#\n",
        "# Licensed under the Apache License, Version 2.0 (the \"License\");\n",
        "# you may not use this file except in compliance with the License.\n",
        "# You may obtain a copy of the License at\n",
        "#\n",
        "#     https://www.apache.org/licenses/LICENSE-2.0\n",
        "#\n",
        "# Unless required by applicable law or agreed to in writing, software\n",
        "# distributed under the License is distributed on an \"AS IS\" BASIS,\n",
        "# WITHOUT WARRANTIES OR CONDITIONS OF ANY KIND, either express or implied.\n",
        "# See the License for the specific language governing permissions and\n",
        "# limitations under the License."
      ]
    },
    {
      "cell_type": "markdown",
      "metadata": {
        "id": "JAPoU8Sm5E6e"
      },
      "source": [
        "<table align=\"left\">\n",
        "\n",
        "  <td>\n",
        "    <a href=\"https://colab.research.google.com/github/GoogleCloudPlatform/vertex-ai-samples/blob/master/notebooks/official/pipelines/google_cloud_pipeline_components_bqml_text.ipynb\"\">\n",
        "      <img src=\"https://cloud.google.com/ml-engine/images/colab-logo-32px.png\" alt=\"Colab logo\"> Run in Colab\n",
        "    </a>\n",
        "  </td>\n",
        "  <td>\n",
        "    <a href=\"https://github.com/GoogleCloudPlatform/vertex-ai-samples/blob/master/notebooks/notebooks/official/pipelines/google_cloud_pipeline_components_bqml_text.ipynb\">\n",
        "      <img src=\"https://cloud.google.com/ml-engine/images/github-logo-32px.png\" alt=\"GitHub logo\">\n",
        "      View on GitHub\n",
        "    </a>\n",
        "  </td>\n",
        "  <td>\n",
        "    <a href=\"https://console.cloud.google.com/vertex-ai/notebooks/deploy-notebook?download_url=https://github.com/GoogleCloudPlatform/vertex-ai-samples/blob/master/notebooks/notebooks/official/pipelines/google_cloud_pipeline_components_bqml_text.ipynb\">\n",
        "      Open in Vertex AI Workbench\n",
        "    </a>\n",
        "  </td>\n",
        "</table>\n",
        "\n",
        "                                                                                            "
      ]
    },
    {
      "cell_type": "markdown",
      "metadata": {
        "id": "tvgnzT1CKxrO"
      },
      "source": [
        "## Overview\n",
        "\n",
        "This notebooks shows the DataflowPythonJobOp and the main BQML components in a Text Categorization Vertex AI Pipeline. \n",
        "\n",
        "The pipeline will \n",
        "\n",
        "1. Read raw text (HTML) documents stored in Google Cloud Storage\n",
        "2. Extract title, content and topic of (HTML) documents using Dataflow and ingest into BigQuery\n",
        "3. Apply the Swivel model to generate embeddings of our document’s content\n",
        "4. Train a Logistic regression model to classify if an article is about corporate acquisitions (`acq` category). \n",
        "5. Evaluate the model \n",
        "6. Apply the model to a dataset in order to generate predictions\n",
        "\n",
        "### Dataset\n",
        "\n",
        "The dataset is [Reuters-21578 Text Categorization Collection Data Set](https://archive.ics.uci.edu/ml/datasets/reuters-21578+text+categorization+collection).\n",
        "\n",
        "The dataset is a collection of publicly available news articles appeared on the Reuters newswire in 1987. They were assembled and indexed with categories by personnel from Reuters Ltd. and Carnegie Group, Inc. in 1987.\n",
        "\n",
        "### Objective\n",
        "\n",
        "In this notebook, you will learn how to build a simple BigQuery ML pipeline on Vertex AI pipeline in order to calculate text embeddings of articles' content and classify them\n",
        "depending the *corporate acquisitions* category.\n",
        "\n",
        "### Costs \n",
        "\n",
        "This tutorial uses billable components of Google Cloud:\n",
        "\n",
        "* Vertex AI\n",
        "* Cloud Storage\n",
        "* BigQuery\n",
        "* Dataflow"
      ]
    },
    {
      "cell_type": "markdown",
      "metadata": {
        "id": "ze4-nDLfK4pw"
      },
      "source": [
        "### Set up your local development environment\n",
        "\n",
        "**If you are using Colab or Google Cloud Notebooks**, your environment already meets\n",
        "all the requirements to run this notebook. You can skip this step."
      ]
    },
    {
      "cell_type": "markdown",
      "metadata": {
        "id": "gCuSR8GkAgzl"
      },
      "source": [
        "**Otherwise**, make sure your environment meets this notebook's requirements.\n",
        "You need the following:\n",
        "\n",
        "* The Google Cloud SDK\n",
        "* Git\n",
        "* Python 3\n",
        "* virtualenv\n",
        "* Jupyter notebook running in a virtual environment with Python 3\n",
        "\n",
        "The Google Cloud guide to [Setting up a Python development\n",
        "environment](https://cloud.google.com/python/setup) and the [Jupyter\n",
        "installation guide](https://jupyter.org/install) provide detailed instructions\n",
        "for meeting these requirements. The following steps provide a condensed set of\n",
        "instructions:\n",
        "\n",
        "1. [Install and initialize the Cloud SDK.](https://cloud.google.com/sdk/docs/)\n",
        "\n",
        "1. [Install Python 3.](https://cloud.google.com/python/setup#installing_python)\n",
        "\n",
        "1. [Install\n",
        "   virtualenv](https://cloud.google.com/python/setup#installing_and_using_virtualenv)\n",
        "   and create a virtual environment that uses Python 3. Activate the virtual environment.\n",
        "\n",
        "1. To install Jupyter, run `pip3 install jupyter` on the\n",
        "command-line in a terminal shell.\n",
        "\n",
        "1. To launch Jupyter, run `jupyter notebook` on the command-line in a terminal shell.\n",
        "\n",
        "1. Open this notebook in the Jupyter Notebook Dashboard."
      ]
    },
    {
      "cell_type": "markdown",
      "metadata": {
        "id": "i7EUnXsZhAGF"
      },
      "source": [
        "### Install additional packages\n",
        "\n",
        "Install additional package dependencies not installed in your notebook environment, such as Vertex AI SDK. Use the latest major GA version of each package."
      ]
    },
    {
      "cell_type": "code",
      "execution_count": null,
      "metadata": {
        "id": "2b4ef9b72d43"
      },
      "outputs": [],
      "source": [
        "import os\n",
        "\n",
        "# The Google Cloud Notebook product has specific requirements\n",
        "IS_GOOGLE_CLOUD_NOTEBOOK = os.path.exists(\"/opt/deeplearning/metadata/env_version\")\n",
        "\n",
        "# Google Cloud Notebook requires dependencies to be installed with '--user'\n",
        "USER_FLAG = \"\"\n",
        "if IS_GOOGLE_CLOUD_NOTEBOOK:\n",
        "    USER_FLAG = \"--user\""
      ]
    },
    {
      "cell_type": "code",
      "execution_count": null,
      "metadata": {
        "id": "e6d33c55a3c5"
      },
      "outputs": [],
      "source": [
        "if os.getenv(\"IS_TESTING\"):\n",
        "    ! touch /builder/home/.local/lib/python3.9/site-packages/google_api_core-2.7.1.dist-info/METADATA"
      ]
    },
    {
      "cell_type": "code",
      "execution_count": null,
      "metadata": {
        "id": "wyy5Lbnzg5fi"
      },
      "outputs": [],
      "source": [
        "! pip3 install {USER_FLAG} --upgrade \"apache-beam[gcp]==2.36.0\"\n",
        "! pip3 install {USER_FLAG} --upgrade \"bs4==0.0.1\"\n",
        "! pip3 install {USER_FLAG} --upgrade \"nltk==3.7\"\n",
        "! pip3 install {USER_FLAG} --upgrade \"tensorflow<2.8.0\"\n",
        "! pip3 install {USER_FLAG} --upgrade \"tensorflow-hub==0.12.0\"\n",
        "! pip3 install {USER_FLAG} --upgrade \"kfp==1.8.2\"\n",
        "! pip3 install {USER_FLAG} --upgrade \"google-cloud-aiplatform==1.10.0\"\n",
        "! pip3 install {USER_FLAG} --upgrade \"google_cloud_pipeline_components==1.0.1\""
      ]
    },
    {
      "cell_type": "markdown",
      "metadata": {
        "id": "hhq5zEbGg0XX"
      },
      "source": [
        "### Restart the kernel\n",
        "\n",
        "After you install the additional packages, you need to restart the notebook kernel so it can find the packages."
      ]
    },
    {
      "cell_type": "code",
      "execution_count": null,
      "metadata": {
        "id": "EzrelQZ22IZj"
      },
      "outputs": [],
      "source": [
        "# Automatically restart kernel after installs\n",
        "import os\n",
        "\n",
        "if not os.getenv(\"IS_TESTING\"):\n",
        "    # Automatically restart kernel after installs\n",
        "    import IPython\n",
        "\n",
        "    app = IPython.Application.instance()\n",
        "    app.kernel.do_shutdown(True)"
      ]
    },
    {
      "cell_type": "markdown",
      "metadata": {
        "id": "lWEdiXsJg0XY"
      },
      "source": [
        "## Before you begin"
      ]
    },
    {
      "cell_type": "markdown",
      "metadata": {
        "id": "BF1j6f9HApxa"
      },
      "source": [
        "### Set up your Google Cloud project\n",
        "\n",
        "**The following steps are required, regardless of your notebook environment.**\n",
        "\n",
        "1. [Select or create a Google Cloud project](https://console.cloud.google.com/cloud-resource-manager). When you first create an account, you get a $300 free credit towards your compute/storage costs.\n",
        "\n",
        "1. [Make sure that billing is enabled for your project](https://cloud.google.com/billing/docs/how-to/modify-project).\n",
        "\n",
        "1. [Enable the Vertex AI API](https://console.cloud.google.com/flows/enableapi?apiid=aiplatform.googleapis.com)\n",
        "\n",
        "1. If you are running this notebook locally, you will need to install the [Cloud SDK](https://cloud.google.com/sdk).\n",
        "\n",
        "1. Enter your project ID in the cell below. Then run the cell to make sure the\n",
        "Cloud SDK uses the right project for all the commands in this notebook.\n",
        "\n",
        "**Note**: Jupyter runs lines prefixed with `!` as shell commands, and it interpolates Python variables prefixed with `$` into these commands."
      ]
    },
    {
      "cell_type": "markdown",
      "metadata": {
        "id": "WReHDGG5g0XY"
      },
      "source": [
        "#### Set your project ID\n",
        "\n",
        "**If you don't know your project ID**, you may be able to get your project ID using `gcloud`."
      ]
    },
    {
      "cell_type": "code",
      "execution_count": null,
      "metadata": {
        "id": "oM1iC_MfAts1"
      },
      "outputs": [],
      "source": [
        "import os\n",
        "\n",
        "PROJECT_ID = \"\"\n",
        "\n",
        "# Get your Google Cloud project ID from gcloud\n",
        "if not os.getenv(\"IS_TESTING\"):\n",
        "    shell_output = !gcloud config list --format 'value(core.project)' 2>/dev/null\n",
        "    PROJECT_ID = shell_output[0]\n",
        "    print(\"Project ID: \", PROJECT_ID)"
      ]
    },
    {
      "cell_type": "markdown",
      "metadata": {
        "id": "qJYoRfYng0XZ"
      },
      "source": [
        "Otherwise, set your project ID here."
      ]
    },
    {
      "cell_type": "code",
      "execution_count": null,
      "metadata": {
        "id": "riG_qUokg0XZ"
      },
      "outputs": [],
      "source": [
        "if PROJECT_ID == \"\" or PROJECT_ID is None:\n",
        "    PROJECT_ID = \"\"  # @param {type:\"string\"}"
      ]
    },
    {
      "cell_type": "code",
      "execution_count": null,
      "metadata": {
        "id": "-ZSmCKChv8v_"
      },
      "outputs": [],
      "source": [
        "!gcloud config set project $PROJECT_ID"
      ]
    },
    {
      "cell_type": "markdown",
      "metadata": {
        "id": "06571eb4063b"
      },
      "source": [
        "#### Timestamp\n",
        "\n",
        "If you are in a live tutorial session, you might be using a shared test account or project. To avoid name collisions between users on resources created, you create a timestamp for each instance session, and append it onto the name of resources you create in this tutorial."
      ]
    },
    {
      "cell_type": "code",
      "execution_count": null,
      "metadata": {
        "id": "697568e92bd6"
      },
      "outputs": [],
      "source": [
        "from datetime import datetime\n",
        "\n",
        "TIMESTAMP = datetime.now().strftime(\"%Y%m%d%H%M%S\")"
      ]
    },
    {
      "cell_type": "markdown",
      "metadata": {
        "id": "dr--iN2kAylZ"
      },
      "source": [
        "### Authenticate your Google Cloud account\n",
        "\n",
        "**If you are using Google Cloud Notebooks**, your environment is already\n",
        "authenticated. Skip this step."
      ]
    },
    {
      "cell_type": "markdown",
      "metadata": {
        "id": "sBCra4QMA2wR"
      },
      "source": [
        "**If you are using Colab**, run the cell below and follow the instructions\n",
        "when prompted to authenticate your account via oAuth.\n",
        "\n",
        "**Otherwise**, follow these steps:\n",
        "\n",
        "1. In the Cloud Console, go to the [**Create service account key**\n",
        "   page](https://console.cloud.google.com/apis/credentials/serviceaccountkey).\n",
        "\n",
        "2. Click **Create service account**.\n",
        "\n",
        "3. In the **Service account name** field, enter a name, and\n",
        "   click **Create**.\n",
        "\n",
        "4. In the **Grant this service account access to project** section, click the **Role** drop-down list. Type \"Vertex AI\"\n",
        "into the filter box, and select\n",
        "   **Vertex AI Administrator**. Type \"Storage Object Admin\" into the filter box, and select **Storage Object Admin**.\n",
        "\n",
        "5. Click *Create*. A JSON file that contains your key downloads to your\n",
        "local environment.\n",
        "\n",
        "6. Enter the path to your service account key as the\n",
        "`GOOGLE_APPLICATION_CREDENTIALS` variable in the cell below and run the cell."
      ]
    },
    {
      "cell_type": "code",
      "execution_count": null,
      "metadata": {
        "id": "PyQmSRbKA8r-"
      },
      "outputs": [],
      "source": [
        "import os\n",
        "import sys\n",
        "\n",
        "# If you are running this notebook in Colab, run this cell and follow the\n",
        "# instructions to authenticate your GCP account. This provides access to your\n",
        "# Cloud Storage bucket and lets you submit training jobs and prediction\n",
        "# requests.\n",
        "\n",
        "# The Google Cloud Notebook product has specific requirements\n",
        "IS_GOOGLE_CLOUD_NOTEBOOK = os.path.exists(\"/opt/deeplearning/metadata/env_version\")\n",
        "\n",
        "# If on Google Cloud Notebooks, then don't execute this code\n",
        "if not IS_GOOGLE_CLOUD_NOTEBOOK:\n",
        "    if \"google.colab\" in sys.modules:\n",
        "        from google.colab import auth as google_auth\n",
        "\n",
        "        google_auth.authenticate_user()\n",
        "\n",
        "    # If you are running this notebook locally, replace the string below with the\n",
        "    # path to your service account key and run this cell to authenticate your GCP\n",
        "    # account.\n",
        "    elif not os.getenv(\"IS_TESTING\"):\n",
        "        %env GOOGLE_APPLICATION_CREDENTIALS ''"
      ]
    },
    {
      "cell_type": "markdown",
      "metadata": {
        "id": "zgPO1eR3CYjk"
      },
      "source": [
        "### Create a Cloud Storage bucket\n",
        "\n",
        "**The following steps are required, regardless of your notebook environment.**\n",
        "\n",
        "Set the name of your Cloud Storage bucket below. It must be unique across all\n",
        "Cloud Storage buckets.\n",
        "\n",
        "You may also change the `REGION` variable, which is used for operations\n",
        "throughout the rest of this notebook. We suggest that you [choose a region where Vertex AI services are\n",
        "available](https://cloud.google.com/vertex-ai/docs/general/locations#available_regions)."
      ]
    },
    {
      "cell_type": "code",
      "execution_count": null,
      "metadata": {
        "id": "MzGDU7TWdts_"
      },
      "outputs": [],
      "source": [
        "BUCKET_URI = \"gs://[your-bucket-name]\"  # @param {type:\"string\"}\n",
        "REGION = \"[your-region]\"  # @param {type:\"string\"}"
      ]
    },
    {
      "cell_type": "code",
      "execution_count": null,
      "metadata": {
        "id": "cf221059d072"
      },
      "outputs": [],
      "source": [
        "if BUCKET_URI == \"\" or BUCKET_URI is None or BUCKET_URI == \"gs://[your-bucket-name]\":\n",
        "    BUCKET_URI = \"gs://\" + PROJECT_ID + \"-aip-\" + TIMESTAMP\n",
        "\n",
        "if REGION == \"[your-region]\":\n",
        "    REGION = \"us-central1\""
      ]
    },
    {
      "cell_type": "markdown",
      "metadata": {
        "id": "-EcIXiGsCePi"
      },
      "source": [
        "**Only if your bucket doesn't already exist**: Run the following cell to create your Cloud Storage bucket."
      ]
    },
    {
      "cell_type": "code",
      "execution_count": null,
      "metadata": {
        "id": "NIq7R4HZCfIc"
      },
      "outputs": [],
      "source": [
        "! gsutil mb -l $REGION -p $PROJECT_ID $BUCKET_URI"
      ]
    },
    {
      "cell_type": "markdown",
      "metadata": {
        "id": "ucvCsknMCims"
      },
      "source": [
        "Finally, validate access to your Cloud Storage bucket by examining its contents:"
      ]
    },
    {
      "cell_type": "code",
      "execution_count": null,
      "metadata": {
        "id": "vhOb7YnwClBb"
      },
      "outputs": [],
      "source": [
        "! gsutil ls -al $BUCKET_URI"
      ]
    },
    {
      "cell_type": "markdown",
      "metadata": {
        "id": "FutXJbmAa1NC"
      },
      "source": [
        "### Set project template"
      ]
    },
    {
      "cell_type": "code",
      "execution_count": null,
      "metadata": {
        "id": "3Kms5lCRn7N-"
      },
      "outputs": [],
      "source": [
        "DATA_PATH = \"data\"\n",
        "KFP_COMPONENTS_PATH = \"components\"\n",
        "SRC = \"src\"\n",
        "BUILD = \"build\""
      ]
    },
    {
      "cell_type": "code",
      "execution_count": null,
      "metadata": {
        "id": "hZRbBCLra0po"
      },
      "outputs": [],
      "source": [
        "!mkdir -m 777 -p {DATA_PATH} {KFP_COMPONENTS_PATH} {SRC} {BUILD}"
      ]
    },
    {
      "cell_type": "markdown",
      "metadata": {
        "id": "Jpg5bPrNbpkl"
      },
      "source": [
        "### Prepare input data\n",
        "\n",
        "In the following code, you will \n",
        "\n",
        "1) Get dataset from UCI archive.\n",
        "2) Untar the dataset\n",
        "3) Copy the dataset to a Cloud Storage location."
      ]
    },
    {
      "cell_type": "code",
      "execution_count": null,
      "metadata": {
        "id": "un5pHVJtcNsQ"
      },
      "outputs": [],
      "source": [
        "!wget --no-parent https://archive.ics.uci.edu/ml/machine-learning-databases/reuters21578-mld/reuters21578.tar.gz --directory-prefix={DATA_PATH}/raw\n",
        "!mkdir -m 777 -p {DATA_PATH}/raw/temp {DATA_PATH}/raw\n",
        "!tar -zxvf {DATA_PATH}/raw/reuters21578.tar.gz -C {DATA_PATH}/raw/temp/\n",
        "!mv {DATA_PATH}/raw/temp/*.sgm {DATA_PATH}/raw && rm -rf {DATA_PATH}/raw/temp && rm -f {DATA_PATH}/raw/reuters21578.tar.gz"
      ]
    },
    {
      "cell_type": "code",
      "execution_count": null,
      "metadata": {
        "id": "ERaAoEO8bsl-"
      },
      "outputs": [],
      "source": [
        "!gsutil -m cp -R {DATA_PATH}/raw $BUCKET_URI/{DATA_PATH}/raw"
      ]
    },
    {
      "cell_type": "markdown",
      "metadata": {
        "id": "XoEqT2Y4DJmf"
      },
      "source": [
        "### Import libraries "
      ]
    },
    {
      "cell_type": "code",
      "execution_count": null,
      "metadata": {
        "id": "pRUOFELefqf1"
      },
      "outputs": [],
      "source": [
        "import random\n",
        "from pathlib import Path as path\n",
        "from urllib.parse import urlparse\n",
        "\n",
        "import tensorflow_hub as hub\n",
        "\n",
        "os.environ[\"TFHUB_MODEL_LOAD_FORMAT\"] = \"UNCOMPRESSED\"\n",
        "\n",
        "import google.cloud.aiplatform as vertex_ai\n",
        "from kfp import dsl\n",
        "from kfp.v2 import compiler\n",
        "from kfp.v2.dsl import component"
      ]
    },
    {
      "cell_type": "markdown",
      "metadata": {
        "id": "vlQwSmhIam3l"
      },
      "source": [
        "### Define constants\n",
        "\n",
        "About the model we are going to use in preprocessing, we use the [Swivel](https://tfhub.dev/google/tf2-preview/gnews-swivel-20dim/1) embedding which was trained on English Google News 130GB corpus and has 20 dimensions."
      ]
    },
    {
      "cell_type": "code",
      "execution_count": null,
      "metadata": {
        "id": "fAnAKF6KamY3"
      },
      "outputs": [],
      "source": [
        "JOB_NAME = f\"reuters-ingest-{TIMESTAMP}\"\n",
        "SETUP_FILE_URI = urlparse(BUCKET_URI)._replace(path=\"setup.py\").geturl()\n",
        "RUNNER = \"DataflowRunner\"\n",
        "STAGING_LOCATION_URI = urlparse(BUCKET_URI)._replace(path=\"staging\").geturl()\n",
        "TMP_LOCATION_URI = urlparse(BUCKET_URI)._replace(path=\"temp\").geturl()\n",
        "INPUTS_URI = urlparse(BUCKET_URI)._replace(path=f\"{DATA_PATH}/raw/*.sgm\").geturl()\n",
        "BQ_DATASET = \"mlops_bqml_text_analyisis\"\n",
        "BQ_TABLE = \"reuters_ingested\"\n",
        "MODEL_NAME = \"swivel_text_embedding_model\"\n",
        "EMBEDDINGS_TABLE = f\"reuters_text_embeddings_{TIMESTAMP}\"\n",
        "MODEL_PATH = (\n",
        "    f'{hub.resolve(\"https://tfhub.dev/google/tf2-preview/gnews-swivel-20dim/1\")}/*'\n",
        ")\n",
        "PREPROCESSED_TABLE = f\"reuters_text_preprocessed_{TIMESTAMP}\"\n",
        "CLASSIFICATION_MODEL_NAME = \"logistic_reg\"\n",
        "PREDICT_TABLE = f\"reuters_text_predict_{TIMESTAMP}\""
      ]
    },
    {
      "cell_type": "markdown",
      "metadata": {
        "id": "NlyOjKrjCXsI"
      },
      "source": [
        "### Initialize client"
      ]
    },
    {
      "cell_type": "code",
      "execution_count": null,
      "metadata": {
        "id": "IsT5FfP0CaXt"
      },
      "outputs": [],
      "source": [
        "vertex_ai.init(project=PROJECT_ID, location=REGION, staging_bucket=BUCKET_URI)"
      ]
    },
    {
      "cell_type": "markdown",
      "metadata": {
        "id": "ZrgOD30o7HcL"
      },
      "source": [
        "## Pipeline formalization"
      ]
    },
    {
      "cell_type": "markdown",
      "metadata": {
        "id": "LLs96NR97YAr"
      },
      "source": [
        "### Data ingestion component"
      ]
    },
    {
      "cell_type": "markdown",
      "metadata": {
        "id": "nR3r6ZD47oYb"
      },
      "source": [
        "#### Create Dataflow Python module\n",
        "\n",
        "The following module contains a Dataflow pipeline that\n",
        "\n",
        "1) Read the files from Cloud Storage.\n",
        "2) Extract the article and generate title, topics, and content from files.\n",
        "3) Load the structured data to BigQuery.\n"
      ]
    },
    {
      "cell_type": "code",
      "execution_count": null,
      "metadata": {
        "id": "mO3ggLEtkD2R"
      },
      "outputs": [],
      "source": [
        "!touch {SRC}/__init__.py "
      ]
    },
    {
      "cell_type": "code",
      "execution_count": null,
      "metadata": {
        "id": "h5G6BFF874Ys"
      },
      "outputs": [],
      "source": [
        "%%writefile src/ingest_pipeline.py\n",
        "# Copyright 2022 Google LLC\n",
        "#\n",
        "# Licensed under the Apache License, Version 2.0 (the \"License\");\n",
        "# you may not use this file except in compliance with the License.\n",
        "# You may obtain a copy of the License at\n",
        "#\n",
        "#     https://www.apache.org/licenses/LICENSE-2.0\n",
        "#\n",
        "# Unless required by applicable law or agreed to in writing, software\n",
        "# distributed under the License is distributed on an \"AS IS\" BASIS,\n",
        "# WITHOUT WARRANTIES OR CONDITIONS OF ANY KIND, either express or implied.\n",
        "# See the License for the specific language governing permissions and\n",
        "# limitations under the License.\n",
        "\n",
        "# General imports\n",
        "from __future__ import absolute_import\n",
        "import argparse\n",
        "import logging\n",
        "import os\n",
        "import string\n",
        "\n",
        "# Preprocessing imports\n",
        "import tensorflow as tf\n",
        "import bs4\n",
        "import nltk\n",
        "\n",
        "import apache_beam as beam\n",
        "from apache_beam.io.gcp.internal.clients import bigquery\n",
        "from apache_beam.options.pipeline_options import PipelineOptions\n",
        "from apache_beam.options.pipeline_options import SetupOptions\n",
        "\n",
        "\n",
        "# Helpers -------------------------------------------------------- -------------\n",
        "\n",
        "def get_args():\n",
        "    \"\"\"\n",
        "    Get command line arguments.\n",
        "    Returns:\n",
        "      args: The parsed arguments.\n",
        "    \"\"\"\n",
        "    parser = argparse.ArgumentParser()\n",
        "    parser.add_argument('--inputs', dest='inputs', default='data/raw/reuters/*.sgm',\n",
        "                        help='A directory location of input data')\n",
        "    parser.add_argument('--bq-dataset', dest='bq_dataset', required=False,\n",
        "                        default='reuters_dataset', help='Dataset name used in BigQuery.')\n",
        "    parser.add_argument('--bq-table', dest='bq_table', required=False,\n",
        "                        default='reuters_ingested_table', help='Table name used in BigQuery.')\n",
        "    args, pipeline_args = parser.parse_known_args()\n",
        "    return args, pipeline_args\n",
        "\n",
        "def get_paths(data_pattern):\n",
        "    \"\"\"\n",
        "  A function to get all the paths of the files in the data directory.\n",
        "  Args:\n",
        "    data_pattern: A directory location of input data.\n",
        "  Returns:\n",
        "    A list of file paths.\n",
        "  \"\"\"\n",
        "    data_paths = tf.io.gfile.glob(data_pattern)\n",
        "    return data_paths\n",
        "\n",
        "\n",
        "def get_title(article):\n",
        "    \"\"\"\n",
        "    A function to get the title of an article.\n",
        "    Args:\n",
        "        article: A BeautifulSoup object of an article.\n",
        "    Returns:\n",
        "        A string of the title of the article.\n",
        "    \"\"\"\n",
        "    title = article.find('text').title\n",
        "    if title is not None:\n",
        "        title = ''.join(filter(lambda x: x in set(string.printable), title.text))\n",
        "        title = title.encode('ascii', 'ignore')\n",
        "    return title\n",
        "\n",
        "\n",
        "def get_content(article):\n",
        "    \"\"\"\n",
        "    A function to get the content of an article.\n",
        "    Args:\n",
        "        article: A BeautifulSoup object of an article.\n",
        "    Returns:\n",
        "        A string of the content of the article.\n",
        "    \"\"\"\n",
        "    content = article.find('text').body\n",
        "    if content is not None:\n",
        "        content = ''.join(filter(lambda x: x in set(string.printable), content.text))\n",
        "        content = ' '.join(content.split())\n",
        "        try:\n",
        "            content = '\\n'.join(nltk.sent_tokenize(content))\n",
        "        except LookupError:\n",
        "            nltk.download('punkt')\n",
        "            content = '\\n'.join(nltk.sent_tokenize(content))\n",
        "        content = content.encode('ascii', 'ignore')\n",
        "    return content\n",
        "\n",
        "\n",
        "def get_topics(article):\n",
        "    \"\"\"\n",
        "    A function to get the topics of an article.\n",
        "    Args:\n",
        "        article: A BeautifulSoup object of an article.\n",
        "    Returns:\n",
        "        A list of strings of the topics of the article.\n",
        "    \"\"\"\n",
        "    topics = []\n",
        "    for topic in article.topics.children:\n",
        "        topic = ''.join(filter(lambda x: x in set(string.printable), topic.text))\n",
        "        topics.append(topic.encode('ascii', 'ignore'))\n",
        "    return topics\n",
        "\n",
        "\n",
        "def get_articles(data_paths):\n",
        "    \"\"\"\n",
        "    Args:\n",
        "        data_paths: A list of file paths.\n",
        "    Returns:\n",
        "        A list of articles.\n",
        "    \"\"\"\n",
        "    data = tf.io.gfile.GFile(data_paths, 'rb').read()\n",
        "    soup = bs4.BeautifulSoup(data, \"html.parser\")\n",
        "    articles = []\n",
        "    for raw_article in soup.find_all('reuters'):\n",
        "        article = {\n",
        "            'title': get_title(raw_article),\n",
        "            'content': get_content(raw_article),\n",
        "            'topics': get_topics(raw_article)\n",
        "        }\n",
        "        if None not in article.values():\n",
        "            if [] not in article.values():\n",
        "                articles.append(article)\n",
        "    return articles\n",
        "\n",
        "\n",
        "def get_bigquery_schema():\n",
        "    \"\"\"\n",
        "    A function to get the BigQuery schema.\n",
        "    Returns:\n",
        "        A list of BigQuery schema.\n",
        "    \"\"\"\n",
        "\n",
        "    table_schema = bigquery.TableSchema()\n",
        "    columns = (('topics', 'string', 'repeated'),\n",
        "               ('title', 'string', 'nullable'),\n",
        "               ('content', 'string', 'nullable'))\n",
        "\n",
        "    for column in columns:\n",
        "        column_schema = bigquery.TableFieldSchema()\n",
        "        column_schema.name = column[0]\n",
        "        column_schema.type = column[1]\n",
        "        column_schema.mode = column[2]\n",
        "        table_schema.fields.append(column_schema)\n",
        "\n",
        "    return table_schema\n",
        "\n",
        "\n",
        "# Pipeline runner\n",
        "def run(args, pipeline_args=None):\n",
        "    \"\"\"\n",
        "    A function to run the pipeline.\n",
        "    Args:\n",
        "        args: The parsed arguments.\n",
        "    Returns:\n",
        "        None\n",
        "    \"\"\"\n",
        "\n",
        "    options = PipelineOptions(pipeline_args)\n",
        "    options.view_as(SetupOptions).save_main_session = True\n",
        "\n",
        "    pipeline = beam.Pipeline(options=options)\n",
        "    articles = (\n",
        "            pipeline\n",
        "            | 'Get Paths' >> beam.Create(get_paths(args.inputs))\n",
        "            | 'Get Articles' >> beam.Map(get_articles)\n",
        "            | 'Get Article' >> beam.FlatMap(lambda x: x)\n",
        "    )\n",
        "    if options.get_all_options()['runner'] == 'DirectRunner':\n",
        "        articles | 'Dry run' >> beam.io.WriteToText('data/processed/reuters', file_name_suffix=\".jsonl\")\n",
        "    else:\n",
        "        (articles\n",
        "         | 'Write to BigQuery' >> beam.io.WriteToBigQuery(\n",
        "                    project=options.get_all_options()['project'],\n",
        "                    dataset=args.bq_dataset,\n",
        "                    table=args.bq_table,\n",
        "                    schema=get_bigquery_schema(),\n",
        "                    create_disposition=beam.io.BigQueryDisposition.CREATE_IF_NEEDED,\n",
        "                    write_disposition=beam.io.BigQueryDisposition.WRITE_TRUNCATE)\n",
        "         )\n",
        "    job = pipeline.run()\n",
        "\n",
        "    if options.get_all_options()['runner'] == 'DirectRunner':\n",
        "        job.wait_until_finish()\n",
        "\n",
        "\n",
        "if __name__ == '__main__':\n",
        "    args, pipeline_args = get_args()\n",
        "    logging.getLogger().setLevel(logging.INFO)\n",
        "    run(args, pipeline_args)"
      ]
    },
    {
      "cell_type": "markdown",
      "metadata": {
        "id": "nEsufwCX-h08"
      },
      "source": [
        "#### Create requirements\n",
        "\n",
        "Next, create the requirements.txt file with Python modules that are needed for Apache Beam pipeline. "
      ]
    },
    {
      "cell_type": "code",
      "execution_count": null,
      "metadata": {
        "id": "S13Ma74p7bey"
      },
      "outputs": [],
      "source": [
        "%%writefile requirements.txt\n",
        "apache-beam[gcp]==2.36.0\n",
        "bs4==0.0.1\n",
        "nltk==3.7\n",
        "tensorflow<2.8.0"
      ]
    },
    {
      "cell_type": "markdown",
      "metadata": {
        "id": "3TlCcRKsqZut"
      },
      "source": [
        "#### Create Setup file\n",
        "\n",
        "And add the setup file with Python modules that are needed for executing the Dataflow workers. "
      ]
    },
    {
      "cell_type": "code",
      "execution_count": null,
      "metadata": {
        "id": "USKNGS0qqZu1"
      },
      "outputs": [],
      "source": [
        "%%writefile setup.py\n",
        "# !/usr/bin/python\n",
        "\n",
        "# Copyright 2022 Google LLC\n",
        "\n",
        "# Licensed under the Apache License, Version 2.0 (the \"License\");\n",
        "# you may not use this file except in compliance with the License.\n",
        "# You may obtain a copy of the License at\n",
        "\n",
        "#      http://www.apache.org/licenses/LICENSE-2.0\n",
        "\n",
        "# Unless required by applicable law or agreed to in writing, software\n",
        "# distributed under the License is distributed on an \"AS IS\" BASIS,\n",
        "# WITHOUT WARRANTIES OR CONDITIONS OF ANY KIND, either express or implied.\n",
        "# See the License for the specific language governing permissions and\n",
        "# limitations under the License.\n",
        "\n",
        "import setuptools\n",
        "\n",
        "REQUIRED_PACKAGES = [\n",
        "    'bs4==0.0.1',\n",
        "    'nltk==3.7',\n",
        "    'tensorflow<2.8.0']\n",
        "\n",
        "setuptools.setup(\n",
        "    name='ingest',\n",
        "    version='0.0.1',\n",
        "    author='author',\n",
        "    author_email='author@google.com',\n",
        "    install_requires=REQUIRED_PACKAGES,\n",
        "    packages=setuptools.find_packages())"
      ]
    },
    {
      "cell_type": "markdown",
      "metadata": {
        "id": "5Nc7ByK1AEe8"
      },
      "source": [
        "#### Copy the setup, the python module and requirements file to Cloud Storage\n",
        "\n",
        "Finally, copy the Python module, requirements and setup file to your Cloud Storage bucket."
      ]
    },
    {
      "cell_type": "code",
      "execution_count": null,
      "metadata": {
        "id": "V0qslZVeAHqo"
      },
      "outputs": [],
      "source": [
        "# !gsutil cp -R {SRC}/preprocess_pipeline.py {BUCKET_URI}/preprocess_pipeline.py\n",
        "!gsutil cp -R {SRC} {BUCKET_URI}/{SRC}\n",
        "!gsutil cp requirements.txt {BUCKET_URI}/requirements.txt\n",
        "!gsutil cp setup.py {BUCKET_URI}/setup.py"
      ]
    },
    {
      "cell_type": "markdown",
      "metadata": {
        "id": "MI_wYYwdAZZs"
      },
      "source": [
        "### BQML components\n",
        "\n",
        "To build the next steps of our pipelines, we define a set of queries to:\n",
        "\n",
        "1) Create the BigQuery dataset schema.\n",
        "2) Preprocess our text data and generate the embeddings using Swevel model\n",
        "2) Train the BigQuery ML Logistic Regression model.\n",
        "3) Evaluate the model.\n",
        "4) Run a batch prediction\n"
      ]
    },
    {
      "cell_type": "code",
      "execution_count": null,
      "metadata": {
        "id": "ytsqqHZnksHY"
      },
      "outputs": [],
      "source": [
        "!mkdir -m 777 -p {KFP_COMPONENTS_PATH}/bq_dataset_component\n",
        "!mkdir -m 777 -p {KFP_COMPONENTS_PATH}/bq_preprocess_component\n",
        "!mkdir -m 777 -p {KFP_COMPONENTS_PATH}/bq_model_component\n",
        "!mkdir -m 777 -p {KFP_COMPONENTS_PATH}/bq_prediction_component"
      ]
    },
    {
      "cell_type": "markdown",
      "metadata": {
        "id": "8tYtZMRiepKe"
      },
      "source": [
        "#### Create BQ Dataset query\n",
        "\n",
        "With this query, we create the Bigquery dataset schema we are going to use to train our model."
      ]
    },
    {
      "cell_type": "code",
      "execution_count": null,
      "metadata": {
        "id": "YP2K8Nc4HqrQ"
      },
      "outputs": [],
      "source": [
        "create_bq_dataset_query = f\"\"\"\n",
        "CREATE SCHEMA IF NOT EXISTS {BQ_DATASET}\n",
        "\"\"\"\n",
        "\n",
        "with open(\n",
        "    f\"{KFP_COMPONENTS_PATH}/bq_dataset_component/create_bq_dataset.sql\", \"w\"\n",
        ") as q:\n",
        "    q.write(create_bq_dataset_query)\n",
        "q.close()"
      ]
    },
    {
      "cell_type": "markdown",
      "metadata": {
        "id": "T2_kuUSZUBDY"
      },
      "source": [
        "#### Create BQ Preprocess query\n",
        "\n",
        "The following query use the TFHub Swevel model to generate the embedding of our text data and split the dataset for training and serving purposes."
      ]
    },
    {
      "cell_type": "code",
      "execution_count": null,
      "metadata": {
        "id": "XdyboQnLUBDg"
      },
      "outputs": [],
      "source": [
        "create_bq_preprocess_query = f\"\"\"\n",
        "-- create the embedding model\n",
        "CREATE OR REPLACE MODEL\n",
        "  `{PROJECT_ID}.{BQ_DATASET}.{MODEL_NAME}` OPTIONS(model_type='tensorflow',\n",
        "    model_path='{MODEL_PATH}');\n",
        "\n",
        "-- create the preprocessed table\n",
        "CREATE OR REPLACE TABLE `{PROJECT_ID}.{BQ_DATASET}.{PREPROCESSED_TABLE}`\n",
        "AS (\n",
        "  WITH\n",
        "    -- Apply the model for embedding generation\n",
        "    get_embeddings AS (\n",
        "      SELECT\n",
        "        title,\n",
        "        sentences,\n",
        "        output_0 as content_embeddings,\n",
        "        topics\n",
        "      FROM ML.PREDICT(MODEL `{PROJECT_ID}.{BQ_DATASET}.{MODEL_NAME}`,(\n",
        "        SELECT topics, title, content AS sentences\n",
        "        FROM `{PROJECT_ID}.{BQ_DATASET}.{BQ_TABLE}`\n",
        "      ))),\n",
        "    -- Get label\n",
        "    get_label AS (\n",
        "        SELECT\n",
        "            *,\n",
        "            STRUCT( CASE WHEN 'acq' in UNNEST(topics) THEN 1 ELSE 0 END as acq ) AS label,\n",
        "        FROM get_embeddings\n",
        "    ),\n",
        "    -- Train-serve splitting\n",
        "    get_split AS (\n",
        "        SELECT\n",
        "            *,\n",
        "            CASE WHEN ABS(MOD(FARM_FINGERPRINT(title), 10)) < 8 THEN 'TRAIN' ELSE 'PREDICT' END AS split\n",
        "        FROM get_label\n",
        "    )\n",
        "    -- create training table\n",
        "    SELECT\n",
        "        title,\n",
        "        sentences,\n",
        "        STRUCT( content_embeddings[OFFSET(0)] AS content_embed_0,\n",
        "                content_embeddings[OFFSET(1)] AS content_embed_1,\n",
        "                content_embeddings[OFFSET(2)] AS content_embed_2,\n",
        "                content_embeddings[OFFSET(3)] AS content_embed_3,\n",
        "                content_embeddings[OFFSET(4)] AS content_embed_4,\n",
        "                content_embeddings[OFFSET(5)] AS content_embed_5,\n",
        "                content_embeddings[OFFSET(6)] AS content_embed_6,\n",
        "                content_embeddings[OFFSET(7)] AS content_embed_7,\n",
        "                content_embeddings[OFFSET(8)] AS content_embed_8,\n",
        "                content_embeddings[OFFSET(9)] AS content_embed_9,\n",
        "                content_embeddings[OFFSET(10)] AS content_embed_10,\n",
        "                content_embeddings[OFFSET(11)] AS content_embed_11,\n",
        "                content_embeddings[OFFSET(12)] AS content_embed_12,\n",
        "                content_embeddings[OFFSET(13)] AS content_embed_13,\n",
        "                content_embeddings[OFFSET(14)] AS content_embed_14,\n",
        "                content_embeddings[OFFSET(15)] AS content_embed_15,\n",
        "                content_embeddings[OFFSET(16)] AS content_embed_16,\n",
        "                content_embeddings[OFFSET(17)] AS content_embed_17,\n",
        "                content_embeddings[OFFSET(18)] AS content_embed_18,\n",
        "                content_embeddings[OFFSET(19)] AS content_embed_19) AS feature,\n",
        "        label.acq as label,\n",
        "        split\n",
        "    FROM\n",
        "      get_split)\n",
        "\"\"\"\n",
        "\n",
        "with open(\n",
        "    f\"{KFP_COMPONENTS_PATH}/bq_preprocess_component/bq_preprocess_query.sql\", \"w\"\n",
        ") as q:\n",
        "    q.write(create_bq_preprocess_query)\n",
        "q.close()"
      ]
    },
    {
      "cell_type": "markdown",
      "metadata": {
        "id": "yF9W5x4HgUQb"
      },
      "source": [
        "#### Create BQ Model query\n",
        "\n",
        "Below you have a simple query to build a BigQuery ML Logistic Classifier model for topic's articles classification."
      ]
    },
    {
      "cell_type": "code",
      "execution_count": null,
      "metadata": {
        "id": "tjStSASggUQb"
      },
      "outputs": [],
      "source": [
        "create_bq_model_query = f\"\"\"\n",
        "CREATE OR REPLACE MODEL `{PROJECT_ID}.{BQ_DATASET}.{CLASSIFICATION_MODEL_NAME}`\n",
        "  OPTIONS (\n",
        "      model_type='logistic_reg',\n",
        "      input_label_cols=['label']) AS\n",
        "  SELECT\n",
        "      label,\n",
        "      feature.*\n",
        "  FROM\n",
        "     `{PROJECT_ID}.{BQ_DATASET}.{PREPROCESSED_TABLE}`\n",
        "  WHERE split = 'TRAIN';\n",
        "\"\"\"\n",
        "\n",
        "with open(f\"{KFP_COMPONENTS_PATH}/bq_model_component/create_bq_model.sql\", \"w\") as q:\n",
        "    q.write(create_bq_model_query)\n",
        "q.close()"
      ]
    },
    {
      "cell_type": "markdown",
      "metadata": {
        "id": "RlLTcuUhdzFU"
      },
      "source": [
        "#### Create BQ Prediction query\n",
        "\n",
        "With the following query, we run a prediction job using the table with the preprocessing query."
      ]
    },
    {
      "cell_type": "code",
      "execution_count": null,
      "metadata": {
        "id": "rMwgXCyfdzFc"
      },
      "outputs": [],
      "source": [
        "create_bq_prediction_query = f\"\"\"SELECT title, sentences, feature.* FROM `{PROJECT_ID}.{BQ_DATASET}.{PREPROCESSED_TABLE}` WHERE split = 'PREDICT' \"\"\"\n",
        "\n",
        "with open(\n",
        "    f\"{KFP_COMPONENTS_PATH}/bq_prediction_component/create_bq_prediction_query.sql\", \"w\"\n",
        ") as q:\n",
        "    q.write(create_bq_prediction_query)\n",
        "q.close()"
      ]
    },
    {
      "cell_type": "markdown",
      "metadata": {
        "id": "OxemUVCxAiSo"
      },
      "source": [
        "### Build Pipeline"
      ]
    },
    {
      "cell_type": "code",
      "execution_count": null,
      "metadata": {
        "id": "JzcBvqdpzjiz"
      },
      "outputs": [],
      "source": [
        "ID = random.randint(1, 10000)\n",
        "JOB_NAME = f\"reuters-preprocess-{TIMESTAMP}-{ID}\"\n",
        "JOB_CONFIG = {\n",
        "    \"destinationTable\": {\n",
        "        \"projectId\": PROJECT_ID,\n",
        "        \"datasetId\": BQ_DATASET,\n",
        "        \"tableId\": PREDICT_TABLE,\n",
        "    }\n",
        "}"
      ]
    },
    {
      "cell_type": "markdown",
      "metadata": {
        "id": "mdO8st_gLKBZ"
      },
      "source": [
        "#### Create a custom component to pass `DataflowPythonJobOp` arguments"
      ]
    },
    {
      "cell_type": "code",
      "execution_count": null,
      "metadata": {
        "id": "V0d0TYFzLUWK"
      },
      "outputs": [],
      "source": [
        "@component(base_image=\"python:3.8-slim\")\n",
        "def build_dataflow_args(\n",
        "    # destination_table: Input[Artifact],\n",
        "    bq_dataset: str,\n",
        "    bq_table: str,\n",
        "    job_name: str,\n",
        "    setup_file_uri: str,\n",
        "    runner: str,\n",
        "    inputs_uri: str,\n",
        ") -> list:\n",
        "    return [\n",
        "        \"--job_name\",\n",
        "        job_name,\n",
        "        \"--setup_file\",\n",
        "        setup_file_uri,\n",
        "        \"--runner\",\n",
        "        runner,\n",
        "        \"--inputs\",\n",
        "        inputs_uri,\n",
        "        \"--bq-dataset\",\n",
        "        bq_dataset,\n",
        "        \"--bq-table\",\n",
        "        bq_table,\n",
        "    ]"
      ]
    },
    {
      "cell_type": "markdown",
      "metadata": {
        "id": "pcSL1FHk69KT"
      },
      "source": [
        "#### Create the pipeline"
      ]
    },
    {
      "cell_type": "code",
      "execution_count": null,
      "metadata": {
        "id": "AlFXqsPIAk0l"
      },
      "outputs": [],
      "source": [
        "@dsl.pipeline(\n",
        "    name=\"mlops-bqml-text-generate-embeddings\",\n",
        "    description=\"A batch pipeline to generate embeddings\",\n",
        ")\n",
        "def pipeline(\n",
        "    create_bq_dataset_query: str,\n",
        "    job_name: str,\n",
        "    inputs_uri: str,\n",
        "    bq_dataset: str,\n",
        "    bq_table: str,\n",
        "    requirements_file_path: str,\n",
        "    python_file_path: str,\n",
        "    setup_file_uri: str,\n",
        "    temp_location: str,\n",
        "    runner: str,\n",
        "    create_bq_preprocess_query: str,\n",
        "    create_bq_model_query: str,\n",
        "    create_bq_prediction_query: str,\n",
        "    job_config: dict,\n",
        "    project: str = PROJECT_ID,\n",
        "    region: str = REGION,\n",
        "):\n",
        "\n",
        "    from google_cloud_pipeline_components.v1.bigquery import (\n",
        "        BigqueryCreateModelJobOp, BigqueryEvaluateModelJobOp,\n",
        "        BigqueryPredictModelJobOp, BigqueryQueryJobOp)\n",
        "    from google_cloud_pipeline_components.v1.dataflow import \\\n",
        "        DataflowPythonJobOp\n",
        "    from google_cloud_pipeline_components.v1.wait_gcp_resources import \\\n",
        "        WaitGcpResourcesOp\n",
        "\n",
        "    # create the dataset\n",
        "    bq_dataset_op = BigqueryQueryJobOp(\n",
        "        query=create_bq_dataset_query,\n",
        "        project=project,\n",
        "        location=\"US\",\n",
        "    )\n",
        "    # instanciate dataflow args\n",
        "    build_dataflow_args_op = build_dataflow_args(\n",
        "        job_name=job_name,\n",
        "        inputs_uri=inputs_uri,\n",
        "        # destination_table = bq_dataset_op.outputs['destination_table'],\n",
        "        bq_dataset=bq_dataset,\n",
        "        bq_table=bq_table,\n",
        "        setup_file_uri=setup_file_uri,\n",
        "        runner=runner,\n",
        "    ).after(bq_dataset_op)\n",
        "\n",
        "    # run dataflow job\n",
        "    dataflow_python_op = DataflowPythonJobOp(\n",
        "        requirements_file_path=requirements_file_path,\n",
        "        python_module_path=python_file_path,\n",
        "        args=build_dataflow_args_op.output,\n",
        "        project=project,\n",
        "        location=region,\n",
        "        temp_location=temp_location,\n",
        "    ).after(build_dataflow_args_op)\n",
        "\n",
        "    dataflow_wait_op = WaitGcpResourcesOp(\n",
        "        gcp_resources=dataflow_python_op.outputs[\"gcp_resources\"]\n",
        "    ).after(dataflow_python_op)\n",
        "\n",
        "    # run preprocessing job\n",
        "    bq_preprocess_op = BigqueryQueryJobOp(\n",
        "        query=create_bq_preprocess_query,\n",
        "        project=project,\n",
        "        location=\"US\",\n",
        "    ).after(dataflow_wait_op)\n",
        "\n",
        "    # create the logistic regression\n",
        "    bq_model_op = BigqueryCreateModelJobOp(\n",
        "        query=create_bq_model_query,\n",
        "        project=project,\n",
        "        location=\"US\",\n",
        "    ).after(bq_preprocess_op)\n",
        "\n",
        "    # evaluate the logistic regression\n",
        "    bq_evaluate_op = BigqueryEvaluateModelJobOp(\n",
        "        project=project, location=\"US\", model=bq_model_op.outputs[\"model\"]\n",
        "    ).after(bq_model_op)\n",
        "\n",
        "    # similuate prediction\n",
        "    BigqueryPredictModelJobOp(\n",
        "        model=bq_model_op.outputs[\"model\"],\n",
        "        query_statement=create_bq_prediction_query,\n",
        "        job_configuration_query=job_config,\n",
        "        project=project,\n",
        "        location=\"US\",\n",
        "    ).after(bq_evaluate_op)"
      ]
    },
    {
      "cell_type": "markdown",
      "metadata": {
        "id": "nghLONQX7JNg"
      },
      "source": [
        "## Compile and Run the pipeline"
      ]
    },
    {
      "cell_type": "code",
      "execution_count": null,
      "metadata": {
        "id": "8l6IR7OoADJV"
      },
      "outputs": [],
      "source": [
        "PIPELINE_ROOT = urlparse(BUCKET_URI)._replace(path=\"pipeline_root\").geturl()\n",
        "PIPELINE_PACKAGE = str(path(BUILD) / \"mlops_bqml_text_analyisis_pipeline.json\")\n",
        "REQUIREMENTS_URI = urlparse(BUCKET_URI)._replace(path=\"requirements.txt\").geturl()\n",
        "PYTHON_FILE_URI = urlparse(BUCKET_URI)._replace(path=\"src/ingest_pipeline.py\").geturl()\n",
        "MODEL_URI = urlparse(BUCKET_URI)._replace(path=\"swivel_text_embedding_model\").geturl()\n",
        "\n",
        "compiler.Compiler().compile(pipeline_func=pipeline, package_path=PIPELINE_PACKAGE)"
      ]
    },
    {
      "cell_type": "code",
      "execution_count": null,
      "metadata": {
        "id": "6rJ0NRuWwfnp"
      },
      "outputs": [],
      "source": [
        "pipeline = vertex_ai.PipelineJob(\n",
        "    display_name=f\"data_preprocess_{TIMESTAMP}\",\n",
        "    template_path=PIPELINE_PACKAGE,\n",
        "    pipeline_root=PIPELINE_ROOT,\n",
        "    parameter_values={\n",
        "        \"create_bq_dataset_query\": create_bq_dataset_query,\n",
        "        \"bq_dataset\": BQ_DATASET,\n",
        "        \"job_name\": JOB_NAME,\n",
        "        \"inputs_uri\": INPUTS_URI,\n",
        "        \"bq_table\": BQ_TABLE,\n",
        "        \"requirements_file_path\": REQUIREMENTS_URI,\n",
        "        \"python_file_path\": PYTHON_FILE_URI,\n",
        "        \"setup_file_uri\": SETUP_FILE_URI,\n",
        "        \"temp_location\": PIPELINE_ROOT,\n",
        "        \"runner\": RUNNER,\n",
        "        \"create_bq_preprocess_query\": create_bq_preprocess_query,\n",
        "        \"create_bq_model_query\": create_bq_model_query,\n",
        "        \"create_bq_prediction_query\": create_bq_prediction_query,\n",
        "        \"job_config\": JOB_CONFIG,\n",
        "    },\n",
        "    enable_caching=False,\n",
        ")\n",
        "\n",
        "pipeline.run()"
      ]
    },
    {
      "cell_type": "markdown",
      "metadata": {
        "id": "TpV-iwP9qw9c"
      },
      "source": [
        "## Cleaning up\n",
        "\n",
        "To clean up all Google Cloud resources used in this project, you can [delete the Google Cloud\n",
        "project](https://cloud.google.com/resource-manager/docs/creating-managing-projects#shutting_down_projects) you used for the tutorial.\n"
      ]
    },
    {
      "cell_type": "code",
      "execution_count": null,
      "metadata": {
        "id": "sx_vKniMq9ZX"
      },
      "outputs": [],
      "source": [
        "# delete bucket\n",
        "! gsutil -m rm -r $BUCKET_URI\n",
        "\n",
        "# delete dataset\n",
        "! bq rm -r -f -d $PROJECT_ID:$BQ_DATASET"
      ]
    }
  ],
  "metadata": {
    "colab": {
      "collapsed_sections": [],
      "name": "google_cloud_pipeline_components_bqml_text.ipynb",
      "toc_visible": true
    },
    "kernelspec": {
      "display_name": "Python 3",
      "name": "python3"
    }
  },
  "nbformat": 4,
  "nbformat_minor": 0
}
